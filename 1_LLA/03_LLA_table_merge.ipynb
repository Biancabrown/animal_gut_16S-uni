{
 "cells": [
  {
   "cell_type": "markdown",
   "metadata": {},
   "source": [
    "# Goal\n",
    "\n",
    "* Merging feature tables for multiple sequencing runs (`georg` and `tony`)\n",
    "* Then running standard processing:\n",
    "  * dataset summary\n",
    "  * taxonomy\n",
    "  * phylogeny"
   ]
  },
  {
   "cell_type": "markdown",
   "metadata": {},
   "source": [
    "# Var"
   ]
  },
  {
   "cell_type": "code",
   "execution_count": null,
   "metadata": {
    "ExecuteTime": {
     "end_time": "2017-12-06T05:50:48.332618Z",
     "start_time": "2017-12-06T05:50:48.322194Z"
    }
   },
   "outputs": [],
   "source": [
    "work_dir = '/ebio/abt3_projects/Georg_animal_feces/data/16S/LLA/'\n",
    "tony_sv_file = '/ebio/abt3_projects/Georg_animal_feces/data/16S/LLA/tony/table.qza'\n",
    "tony_rep_seq_file = '/ebio/abt3_projects/Georg_animal_feces/data/16S/LLA/tony/rep-seqs.qza'\n",
    "georg_sv_file = '/ebio/abt3_projects/Georg_animal_feces/data/16S/LLA/georg/table.qza'\n",
    "georg_rep_seq_file = '/ebio/abt3_projects/Georg_animal_feces/data/16S/LLA/georg/rep-seqs.qza'\n",
    "\n",
    "classifier = '/ebio/abt3_projects/databases/leylab16s/classifiers/silva-119-99-515-806-nb-classifier.qza'"
   ]
  },
  {
   "cell_type": "code",
   "execution_count": null,
   "metadata": {
    "ExecuteTime": {
     "end_time": "2017-12-06T05:50:48.348542Z",
     "start_time": "2017-12-06T05:50:48.334351Z"
    }
   },
   "outputs": [],
   "source": [
    "# MAKE SURE to CHANGE this to your email!\n",
    "email='nyoungblut@tuebingen.mpg.de'\n",
    "\n",
    "# only used for multi-threaded steps\n",
    "threads=20   \n",
    "\n",
    "# Note: memory is per-thread (eg., 8 threads x 8G memory = 64G total memory)\n",
    "memory='3G'\n",
    "\n",
    "# Max job time \n",
    "job_time='24:0:0'\n",
    "\n",
    "# Output for SGE job errors/warnings/info\n",
    "SGE_out='~/SGE/LLA/'\n",
    "\n",
    "# Path to conda installation\n",
    "conda_env_path='/ebio/abt3_projects/software/miniconda3' \n",
    "\n",
    "# Particular conda environment to use\n",
    "conda_env='qiime2'"
   ]
  },
  {
   "cell_type": "markdown",
   "metadata": {},
   "source": [
    "# Init"
   ]
  },
  {
   "cell_type": "code",
   "execution_count": 3,
   "metadata": {
    "ExecuteTime": {
     "end_time": "2017-12-06T05:50:48.616471Z",
     "start_time": "2017-12-06T05:50:48.610114Z"
    }
   },
   "outputs": [],
   "source": [
    "import os\n",
    "import time"
   ]
  },
  {
   "cell_type": "code",
   "execution_count": 4,
   "metadata": {
    "ExecuteTime": {
     "end_time": "2017-12-06T05:50:49.212482Z",
     "start_time": "2017-12-06T05:50:49.203719Z"
    }
   },
   "outputs": [],
   "source": [
    "# making directories (if they don't exist)\n",
    "\n",
    "## working directory\n",
    "work_dir = os.path.abspath(os.path.expanduser(work_dir))\n",
    "if not os.path.isdir(work_dir):\n",
    "    os.makedirs(work_dir)\n",
    "\n",
    "## SGE output    \n",
    "SGE_out = os.path.abspath(os.path.expanduser(SGE_out))\n",
    "if not os.path.isdir(os.path.split(SGE_out)[0]):\n",
    "    os.makedirs(SGE_out)"
   ]
  },
  {
   "cell_type": "code",
   "execution_count": 5,
   "metadata": {
    "ExecuteTime": {
     "end_time": "2017-12-06T05:50:49.384473Z",
     "start_time": "2017-12-06T05:50:49.374796Z"
    }
   },
   "outputs": [
    {
     "name": "stdout",
     "output_type": "stream",
     "text": [
      "/ebio/abt3_projects/Georg_animal_feces/data/16S/LLA\n"
     ]
    }
   ],
   "source": [
    "# changing directory\n",
    "%cd $work_dir"
   ]
  },
  {
   "cell_type": "markdown",
   "metadata": {},
   "source": [
    "## Functions\n",
    "\n",
    "Defining python functions"
   ]
  },
  {
   "cell_type": "code",
   "execution_count": 6,
   "metadata": {
    "ExecuteTime": {
     "end_time": "2017-12-06T05:50:50.476540Z",
     "start_time": "2017-12-06T05:50:50.468196Z"
    }
   },
   "outputs": [],
   "source": [
    "def write_file(s, file_name):\n",
    "    \"\"\"Writing out (multi-line) string to file\n",
    "    \"\"\"\n",
    "    F = os.path.abspath(os.path.expanduser(file_name))\n",
    "    with open(F, 'w') as outF:\n",
    "        outF.write(s)\n",
    "    print('File written: {}'.format(F))"
   ]
  },
  {
   "cell_type": "code",
   "execution_count": 7,
   "metadata": {
    "ExecuteTime": {
     "end_time": "2017-12-06T05:50:50.640471Z",
     "start_time": "2017-12-06T05:50:50.630076Z"
    }
   },
   "outputs": [],
   "source": [
    "def sge_job(job_name='LLA', threads=threads, email=email, \n",
    "            memory=memory, job_time=job_time, SGE_out=SGE_out,\n",
    "            conda_env_path=conda_env_path, \n",
    "            conda_env=conda_env):\n",
    "    \"\"\"Creating an SGE job script template \n",
    "    \"\"\"\n",
    "    job = \"\"\"#!/bin/bash\n",
    "#$ -N {job_name}\n",
    "#$ -pe parallel {threads}\n",
    "#$ -l h_vmem={memory}\n",
    "#$ -l h_rt={job_time}\n",
    "#$ -o {SGE_out}\n",
    "#$ -j y\n",
    "#$ -cwd\n",
    "#$ -m ea\n",
    "#$ -M {email}\n",
    "\n",
    "CONDA_INSTALLATION=\"{conda_env_path}\"\n",
    "QIIME2_ENV=\"{conda_env}\"\n",
    "\n",
    "export PATH=\"$CONDA_INSTALLATION/bin\":$PATH\n",
    "export PATH=\"$CONDA_INSTALLATION/envs/$QIIME2_ENV/bin\":$PATH\n",
    "export LC_ALL=C.UTF-8\n",
    "export LANG=C.UTF-8\n",
    "\n",
    "\"\"\".format(job_name=job_name, threads=threads, email=email,\n",
    "           memory=memory, job_time=job_time, SGE_out=SGE_out,\n",
    "           conda_env_path=conda_env_path, conda_env=conda_env)\n",
    "    return job"
   ]
  },
  {
   "cell_type": "code",
   "execution_count": null,
   "metadata": {
    "ExecuteTime": {
     "end_time": "2017-12-06T06:07:14.872958Z",
     "start_time": "2017-12-06T06:01:20.290Z"
    }
   },
   "outputs": [],
   "source": [
    "def qsub_wait(file_name):\n",
    "    \"\"\"Submit SGE job via `qsub` then wait for the job to finish (success or abort)\n",
    "    \"\"\"\n",
    "    # submit job\n",
    "    ret = !! qsub $file_name\n",
    "    # get job ID\n",
    "    job_ID = ret[0].split(' ')[2]\n",
    "    print('SGE Job ID: {}'.format(job_ID))\n",
    "    \n",
    "    # query job\n",
    "    while 1:\n",
    "        ret = !! qstat\n",
    "        IDs = [x.lstrip().split(' ')[0] for x in ret]\n",
    "        if job_ID in IDs:\n",
    "            time.sleep(2)\n",
    "            continue\n",
    "        else:\n",
    "            print('SGE job finished: {}'.format(job_ID))\n",
    "            break \n",
    "    time.sleep(2)"
   ]
  },
  {
   "cell_type": "markdown",
   "metadata": {},
   "source": [
    "# Merging"
   ]
  },
  {
   "cell_type": "markdown",
   "metadata": {},
   "source": [
    "## SV artifact"
   ]
  },
  {
   "cell_type": "code",
   "execution_count": null,
   "metadata": {
    "ExecuteTime": {
     "end_time": "2017-12-05T07:26:32.252491Z",
     "start_time": "2017-12-05T07:26:32.238910Z"
    }
   },
   "outputs": [],
   "source": [
    "cmd = sge_job(job_name='merge', threads=1) \n",
    "cmd = cmd + \"\"\"\n",
    "qiime feature-table merge \\\n",
    "  --i-table1 {in_tbl1} \\\n",
    "  --i-table2 {in_tbl2} \\\n",
    "  --o-merged-table {out_tbl} \\\n",
    "  --p-overlap-method sum\n",
    "\"\"\"\n",
    "merged_sv_file = os.path.join(work_dir, 'table_merged.qza')\n",
    "cmd = cmd.format(in_tbl1=georg_sv_file,\n",
    "                 in_tbl2=tony_sv_file,\n",
    "                 out_tbl=merged_sv_file)\n",
    "write_file(cmd, 'merge.sh')"
   ]
  },
  {
   "cell_type": "code",
   "execution_count": null,
   "metadata": {
    "ExecuteTime": {
     "end_time": "2017-12-05T07:26:35.060510Z",
     "start_time": "2017-12-05T07:26:34.942803Z"
    }
   },
   "outputs": [],
   "source": [
    "# view job script\n",
    "!cat merge.sh"
   ]
  },
  {
   "cell_type": "code",
   "execution_count": null,
   "metadata": {
    "ExecuteTime": {
     "end_time": "2017-12-05T07:23:18.100526Z",
     "start_time": "2017-12-05T07:22:35.206284Z"
    }
   },
   "outputs": [],
   "source": [
    "# submit to the cluster and wait until job completion/abort\n",
    "qsub_wait('merge.sh')"
   ]
  },
  {
   "cell_type": "code",
   "execution_count": null,
   "metadata": {
    "ExecuteTime": {
     "end_time": "2017-12-05T07:27:38.132553Z",
     "start_time": "2017-12-05T07:27:35.902093Z"
    }
   },
   "outputs": [],
   "source": [
    "!sleep 2\n",
    "!ls -thlc $merged_sv_file"
   ]
  },
  {
   "cell_type": "markdown",
   "metadata": {},
   "source": [
    "### Summarizing SV feature table"
   ]
  },
  {
   "cell_type": "code",
   "execution_count": null,
   "metadata": {
    "ExecuteTime": {
     "end_time": "2017-12-05T07:27:40.976577Z",
     "start_time": "2017-12-05T07:27:40.963921Z"
    }
   },
   "outputs": [],
   "source": [
    "cmd = sge_job(job_name='feature_table', threads=1) \n",
    "cmd = cmd + \"\"\"\n",
    "qiime feature-table summarize \\\n",
    "  --i-table table_merged.qza \\\n",
    "  --o-visualization table_merged.qzv\n",
    "\"\"\"\n",
    "\n",
    "write_file(cmd, 'feature_table.sh')"
   ]
  },
  {
   "cell_type": "code",
   "execution_count": null,
   "metadata": {
    "ExecuteTime": {
     "end_time": "2017-12-05T07:27:41.240632Z",
     "start_time": "2017-12-05T07:27:41.121033Z"
    }
   },
   "outputs": [],
   "source": [
    "# visualize job script\n",
    "!cat feature_table.sh"
   ]
  },
  {
   "cell_type": "code",
   "execution_count": null,
   "metadata": {
    "ExecuteTime": {
     "start_time": "2017-12-05T07:27:44.326Z"
    }
   },
   "outputs": [],
   "source": [
    "# submit to the cluster and wait until job completion/abort\n",
    "qsub_wait('feature_table.sh')"
   ]
  },
  {
   "cell_type": "code",
   "execution_count": null,
   "metadata": {
    "ExecuteTime": {
     "end_time": "2017-12-05T07:56:44.996522Z",
     "start_time": "2017-12-05T07:56:42.873605Z"
    }
   },
   "outputs": [],
   "source": [
    "!sleep 2; ls -thlc table_merged.qzv"
   ]
  },
  {
   "cell_type": "markdown",
   "metadata": {},
   "source": [
    "## rep-seqs"
   ]
  },
  {
   "cell_type": "code",
   "execution_count": null,
   "metadata": {
    "ExecuteTime": {
     "end_time": "2017-12-05T08:04:21.716477Z",
     "start_time": "2017-12-05T08:04:21.701922Z"
    }
   },
   "outputs": [],
   "source": [
    "cmd = sge_job(job_name='merge', threads=1) \n",
    "cmd = cmd + \"\"\"\n",
    "qiime feature-table merge-seq-data \\\n",
    "  --i-data1 {in_tbl1} \\\n",
    "  --i-data2 {in_tbl2} \\\n",
    "  --o-merged-data {out_tbl} \n",
    "\"\"\"\n",
    "merged_rep_seq_file = os.path.join(work_dir, 'rep-seqs_merged.qza')\n",
    "cmd = cmd.format(in_tbl1=georg_rep_seq_file,\n",
    "                 in_tbl2=tony_rep_seq_file,\n",
    "                 out_tbl=merged_rep_seq_file)\n",
    "write_file(cmd, 'merge.sh')"
   ]
  },
  {
   "cell_type": "code",
   "execution_count": null,
   "metadata": {
    "ExecuteTime": {
     "end_time": "2017-12-05T08:04:22.620509Z",
     "start_time": "2017-12-05T08:04:22.501319Z"
    }
   },
   "outputs": [],
   "source": [
    "# view job script\n",
    "!cat merge.sh"
   ]
  },
  {
   "cell_type": "code",
   "execution_count": null,
   "metadata": {
    "ExecuteTime": {
     "end_time": "2017-12-05T08:05:30.108518Z",
     "start_time": "2017-12-05T08:04:24.917954Z"
    }
   },
   "outputs": [],
   "source": [
    "# submit to the cluster and wait until job completion/abort\n",
    "qsub_wait('merge.sh')"
   ]
  },
  {
   "cell_type": "code",
   "execution_count": null,
   "metadata": {
    "ExecuteTime": {
     "end_time": "2017-12-05T08:05:32.232513Z",
     "start_time": "2017-12-05T08:05:30.110671Z"
    }
   },
   "outputs": [],
   "source": [
    "!sleep 2; ls -thlc $merged_rep_seq_file"
   ]
  },
  {
   "cell_type": "markdown",
   "metadata": {},
   "source": [
    "### Summarizing rep-seqs"
   ]
  },
  {
   "cell_type": "code",
   "execution_count": null,
   "metadata": {
    "ExecuteTime": {
     "end_time": "2017-12-05T08:05:32.240488Z",
     "start_time": "2017-12-05T08:05:32.234548Z"
    }
   },
   "outputs": [],
   "source": [
    "cmd = sge_job(job_name='rep_seqs', threads=1) \n",
    "cmd = cmd + \"\"\"\n",
    "qiime feature-table tabulate-seqs \\\n",
    "  --i-data rep-seqs_merged.qza \\\n",
    "  --o-visualization rep-seqs_merged.qzv\n",
    "\"\"\"\n",
    "write_file(cmd, 'rep_seqs.sh')"
   ]
  },
  {
   "cell_type": "code",
   "execution_count": null,
   "metadata": {
    "ExecuteTime": {
     "end_time": "2017-12-05T08:05:32.360585Z",
     "start_time": "2017-12-05T08:05:32.242247Z"
    }
   },
   "outputs": [],
   "source": [
    "# view job script\n",
    "!cat rep_seqs.sh"
   ]
  },
  {
   "cell_type": "code",
   "execution_count": null,
   "metadata": {
    "ExecuteTime": {
     "end_time": "2017-12-05T08:06:39.612519Z",
     "start_time": "2017-12-05T08:05:32.362966Z"
    }
   },
   "outputs": [],
   "source": [
    "# submit to the cluster and wait until job completion/abort\n",
    "qsub_wait('rep_seqs.sh')"
   ]
  },
  {
   "cell_type": "code",
   "execution_count": null,
   "metadata": {
    "ExecuteTime": {
     "end_time": "2017-12-05T08:06:41.736514Z",
     "start_time": "2017-12-05T08:06:39.614818Z"
    }
   },
   "outputs": [],
   "source": [
    "!sleep 2; ls -thlc rep-seqs_merged.qzv"
   ]
  },
  {
   "cell_type": "markdown",
   "metadata": {},
   "source": [
    "#### Notes\n",
    "\n",
    "* Number of samples: 255\n",
    "* Number of SVs: 33,591\n",
    "* Total abund (frequency): 1,275,000"
   ]
  },
  {
   "cell_type": "markdown",
   "metadata": {},
   "source": [
    "# Taxonomy"
   ]
  },
  {
   "cell_type": "markdown",
   "metadata": {},
   "source": [
    "Taxonomic classifiers perform best when they are trained based on your specific sample preparation and sequencing parameters, including the primers that were used for amplification and the length of your sequence reads. In this case, we're using the V4 region of the 16S rRNA gene, amplified with the 515f/806r primers, which is currently the most used approach. This makes our life easier, as QIIME2 provides a classifier trained on this same region, therefore, there is no need to train it ourselves."
   ]
  },
  {
   "cell_type": "markdown",
   "metadata": {},
   "source": [
    "## Classification"
   ]
  },
  {
   "cell_type": "code",
   "execution_count": 12,
   "metadata": {
    "ExecuteTime": {
     "end_time": "2017-12-06T06:07:31.296521Z",
     "start_time": "2017-12-06T06:07:31.281482Z"
    }
   },
   "outputs": [
    {
     "name": "stdout",
     "output_type": "stream",
     "text": [
      "File written: /ebio/abt3_projects/Georg_animal_feces/data/16S/LLA/taxonomy.sh\n"
     ]
    }
   ],
   "source": [
    "cmd = sge_job(job_name='taxonomy', memory='5G') \n",
    "cmd = cmd + \"\"\"\n",
    "qiime feature-classifier classify-sklearn \\\n",
    "  --i-classifier {classifier} \\\n",
    "  --i-reads rep-seqs_merged.qza \\\n",
    "  --o-classification taxonomy.qza \\\n",
    "  --p-n-jobs {threads} \\\n",
    "  --p-reads-per-batch 1000 \n",
    "\"\"\"\n",
    "cmd = cmd.format(classifier=classifier, threads=threads)\n",
    "\n",
    "write_file(cmd, 'taxonomy.sh')"
   ]
  },
  {
   "cell_type": "code",
   "execution_count": 13,
   "metadata": {
    "ExecuteTime": {
     "end_time": "2017-12-06T06:07:32.412538Z",
     "start_time": "2017-12-06T06:07:32.293398Z"
    }
   },
   "outputs": [
    {
     "name": "stdout",
     "output_type": "stream",
     "text": [
      "#!/bin/bash\r\n",
      "#$ -N taxonomy\r\n",
      "#$ -pe parallel 20\r\n",
      "#$ -l h_vmem=5G\r\n",
      "#$ -l h_rt=24:0:0\r\n",
      "#$ -o /ebio/abt3/nyoungblut/SGE/LLA\r\n",
      "#$ -j y\r\n",
      "#$ -cwd\r\n",
      "#$ -m ea\r\n",
      "#$ -M nyoungblut@tuebingen.mpg.de\r\n",
      "\r\n",
      "CONDA_INSTALLATION=\"/ebio/abt3_projects/software/miniconda3\"\r\n",
      "QIIME2_ENV=\"qiime2\"\r\n",
      "\r\n",
      "export PATH=\"$CONDA_INSTALLATION/bin\":$PATH\r\n",
      "export PATH=\"$CONDA_INSTALLATION/envs/$QIIME2_ENV/bin\":$PATH\r\n",
      "export LC_ALL=C.UTF-8\r\n",
      "export LANG=C.UTF-8\r\n",
      "\r\n",
      "\r\n",
      "qiime feature-classifier classify-sklearn   --i-classifier /ebio/abt3_projects/databases/leylab16s/classifiers/silva-119-99-515-806-nb-classifier.qza   --i-reads rep-seqs_merged.qza   --o-classification taxonomy.qza   --p-n-jobs 20   --p-reads-per-batch 1000 \r\n"
     ]
    }
   ],
   "source": [
    "# view job script\n",
    "!cat taxonomy.sh"
   ]
  },
  {
   "cell_type": "code",
   "execution_count": null,
   "metadata": {
    "ExecuteTime": {
     "start_time": "2017-12-06T06:07:34.101Z"
    }
   },
   "outputs": [
    {
     "name": "stdout",
     "output_type": "stream",
     "text": [
      "SGE Job ID: 794581\n"
     ]
    }
   ],
   "source": [
    "# submit to the cluster and wait until job completion/abort\n",
    "qsub_wait('taxonomy.sh')"
   ]
  },
  {
   "cell_type": "code",
   "execution_count": 36,
   "metadata": {
    "ExecuteTime": {
     "end_time": "2017-12-06T09:59:11.172498Z",
     "start_time": "2017-12-06T09:59:11.054686Z"
    }
   },
   "outputs": [
    {
     "name": "stdout",
     "output_type": "stream",
     "text": [
      "-rw-r--r-- 1 nyoungblut abt3 1.9M Dec  5 13:06 taxonomy_r5k.qza\r\n"
     ]
    }
   ],
   "source": [
    "!ls -thlc taxonomy_r5k.qza"
   ]
  },
  {
   "cell_type": "markdown",
   "metadata": {},
   "source": [
    "## Viewing taxonomy\n",
    "\n",
    "This step will generate a table of the taxonomy"
   ]
  },
  {
   "cell_type": "code",
   "execution_count": null,
   "metadata": {
    "ExecuteTime": {
     "start_time": "2017-12-06T06:07:38.024Z"
    }
   },
   "outputs": [],
   "source": [
    "cmd = sge_job(job_name='view_tax', threads=1) \n",
    "cmd = cmd + \"\"\"\n",
    "qiime metadata tabulate \\\n",
    "  --m-input-file taxonomy.qza \\\n",
    "  --o-visualization taxonomy.qzv\n",
    "\"\"\"\n",
    "write_file(cmd, 'view_tax.sh')"
   ]
  },
  {
   "cell_type": "code",
   "execution_count": null,
   "metadata": {
    "ExecuteTime": {
     "start_time": "2017-12-06T06:07:38.911Z"
    }
   },
   "outputs": [],
   "source": [
    "# view job script\n",
    "!cat view_tax.sh"
   ]
  },
  {
   "cell_type": "code",
   "execution_count": null,
   "metadata": {
    "ExecuteTime": {
     "start_time": "2017-12-06T06:07:39.056Z"
    }
   },
   "outputs": [],
   "source": [
    "# submit to the cluster and wait until job completion/abort\n",
    "qsub_wait('view_tax.sh')"
   ]
  },
  {
   "cell_type": "code",
   "execution_count": 32,
   "metadata": {
    "ExecuteTime": {
     "end_time": "2017-12-06T09:58:56.616590Z",
     "start_time": "2017-12-06T09:58:56.498716Z"
    }
   },
   "outputs": [
    {
     "name": "stdout",
     "output_type": "stream",
     "text": [
      "-rw-r--r-- 1 nyoungblut abt3 4.3M Dec  6 10:54 taxonomy.qzv\r\n"
     ]
    }
   ],
   "source": [
    "!ls -thlc taxonomy.qzv"
   ]
  },
  {
   "cell_type": "markdown",
   "metadata": {},
   "source": [
    "# Filtering based on taxonomy\n",
    "\n",
    "Filtering out non-microbe sequences (eg., chloroplasts)"
   ]
  },
  {
   "cell_type": "markdown",
   "metadata": {},
   "source": [
    "## Filter feature table"
   ]
  },
  {
   "cell_type": "code",
   "execution_count": 18,
   "metadata": {
    "ExecuteTime": {
     "end_time": "2017-12-06T09:54:16.432471Z",
     "start_time": "2017-12-06T09:54:16.422485Z"
    }
   },
   "outputs": [
    {
     "name": "stdout",
     "output_type": "stream",
     "text": [
      "File written: /ebio/abt3_projects/Georg_animal_feces/data/16S/LLA/tax_filter.sh\n"
     ]
    }
   ],
   "source": [
    "cmd = sge_job(job_name='tax_filter', threads=1) \n",
    "cmd = cmd + \"\"\"\n",
    "qiime taxa filter-table \\\n",
    "  --i-table table_merged.qza \\\n",
    "  --i-taxonomy taxonomy.qza \\\n",
    "  --p-include D_1__ \\\n",
    "  --p-exclude D_0__Eukaryota,D_4__mitochondria,D_2__Chloroplast \\\n",
    "  --o-filtered-table table_merged_filt.qza\n",
    "\"\"\"\n",
    "\n",
    "write_file(cmd, 'tax_filter.sh')"
   ]
  },
  {
   "cell_type": "code",
   "execution_count": 20,
   "metadata": {
    "ExecuteTime": {
     "end_time": "2017-12-06T09:54:36.972507Z",
     "start_time": "2017-12-06T09:54:36.854763Z"
    }
   },
   "outputs": [
    {
     "name": "stdout",
     "output_type": "stream",
     "text": [
      "#!/bin/bash\r\n",
      "#$ -N tax_filter\r\n",
      "#$ -pe parallel 1\r\n",
      "#$ -l h_vmem=3G\r\n",
      "#$ -l h_rt=24:0:0\r\n",
      "#$ -o /ebio/abt3/nyoungblut/SGE/LLA\r\n",
      "#$ -j y\r\n",
      "#$ -cwd\r\n",
      "#$ -m ea\r\n",
      "#$ -M nyoungblut@tuebingen.mpg.de\r\n",
      "\r\n",
      "CONDA_INSTALLATION=\"/ebio/abt3_projects/software/miniconda3\"\r\n",
      "QIIME2_ENV=\"qiime2\"\r\n",
      "\r\n",
      "export PATH=\"$CONDA_INSTALLATION/bin\":$PATH\r\n",
      "export PATH=\"$CONDA_INSTALLATION/envs/$QIIME2_ENV/bin\":$PATH\r\n",
      "export LC_ALL=C.UTF-8\r\n",
      "export LANG=C.UTF-8\r\n",
      "\r\n",
      "\r\n",
      "qiime taxa filter-table   --i-table table_merged.qza   --i-taxonomy taxonomy.qza   --p-include D_1__   --p-exclude D_0__Eukaryota,D_4__mitochondria,D_2__Chloroplast   --o-filtered-table table_merged_filt.qza\r\n"
     ]
    }
   ],
   "source": [
    "# view job script\n",
    "!cat tax_filter.sh"
   ]
  },
  {
   "cell_type": "code",
   "execution_count": 22,
   "metadata": {
    "ExecuteTime": {
     "end_time": "2017-12-06T09:55:07.712550Z",
     "start_time": "2017-12-06T09:54:37.094770Z"
    }
   },
   "outputs": [
    {
     "name": "stdout",
     "output_type": "stream",
     "text": [
      "SGE Job ID: 796792\n",
      "SGE job finished: 796792\n"
     ]
    }
   ],
   "source": [
    "# submit to the cluster and wait until job completion/abort\n",
    "qsub_wait('tax_filter.sh')"
   ]
  },
  {
   "cell_type": "code",
   "execution_count": 23,
   "metadata": {
    "ExecuteTime": {
     "end_time": "2017-12-06T09:55:07.832618Z",
     "start_time": "2017-12-06T09:55:07.714797Z"
    }
   },
   "outputs": [
    {
     "name": "stdout",
     "output_type": "stream",
     "text": [
      "-rw-r--r-- 1 nyoungblut abt3 1.6M Dec  6 10:55 table_merged_filt.qza\r\n"
     ]
    }
   ],
   "source": [
    "!ls -thlc table_merged_filt.qza"
   ]
  },
  {
   "cell_type": "markdown",
   "metadata": {},
   "source": [
    "## Filter sequences\n",
    "\n",
    "Filtering representative sequences based on filtered feature table"
   ]
  },
  {
   "cell_type": "markdown",
   "metadata": {},
   "source": [
    "### Extracting feature IDs"
   ]
  },
  {
   "cell_type": "code",
   "execution_count": 24,
   "metadata": {
    "ExecuteTime": {
     "end_time": "2017-12-06T09:55:07.844482Z",
     "start_time": "2017-12-06T09:55:07.834576Z"
    }
   },
   "outputs": [
    {
     "name": "stdout",
     "output_type": "stream",
     "text": [
      "File written: /ebio/abt3_projects/Georg_animal_feces/data/16S/LLA/export.sh\n"
     ]
    }
   ],
   "source": [
    "cmd = sge_job(job_name='export', threads=1, memory='5G') \n",
    "cmd = cmd + \"\"\"\n",
    "# export feature table\n",
    "qiime tools export --output-dir . {input}\n",
    "\n",
    "# convert biom to tsv\n",
    "biom convert --to-tsv -i feature-table.biom -o feature-table.txt\n",
    "\n",
    "# create table of just IDs (to make the table smaller)\n",
    "echo \"Feature\" > {output}\n",
    "cut -f 1 feature-table.txt | tail -n +3 >> {output}\n",
    "rm -f feature-table.txt\n",
    "\"\"\"\n",
    "cmd = cmd.format(input='table_merged_filt.qza',\n",
    "                 output='table_merged_filt.txt')\n",
    "\n",
    "write_file(cmd, 'export.sh')"
   ]
  },
  {
   "cell_type": "code",
   "execution_count": 25,
   "metadata": {
    "ExecuteTime": {
     "end_time": "2017-12-06T09:55:07.964509Z",
     "start_time": "2017-12-06T09:55:07.846617Z"
    }
   },
   "outputs": [
    {
     "name": "stdout",
     "output_type": "stream",
     "text": [
      "#!/bin/bash\r\n",
      "#$ -N export\r\n",
      "#$ -pe parallel 1\r\n",
      "#$ -l h_vmem=5G\r\n",
      "#$ -l h_rt=24:0:0\r\n",
      "#$ -o /ebio/abt3/nyoungblut/SGE/LLA\r\n",
      "#$ -j y\r\n",
      "#$ -cwd\r\n",
      "#$ -m ea\r\n",
      "#$ -M nyoungblut@tuebingen.mpg.de\r\n",
      "\r\n",
      "CONDA_INSTALLATION=\"/ebio/abt3_projects/software/miniconda3\"\r\n",
      "QIIME2_ENV=\"qiime2\"\r\n",
      "\r\n",
      "export PATH=\"$CONDA_INSTALLATION/bin\":$PATH\r\n",
      "export PATH=\"$CONDA_INSTALLATION/envs/$QIIME2_ENV/bin\":$PATH\r\n",
      "export LC_ALL=C.UTF-8\r\n",
      "export LANG=C.UTF-8\r\n",
      "\r\n",
      "\r\n",
      "# export feature table\r\n",
      "qiime tools export --output-dir . table_merged_filt.qza\r\n",
      "\r\n",
      "# convert biom to tsv\r\n",
      "biom convert --to-tsv -i feature-table.biom -o feature-table.txt\r\n",
      "\r\n",
      "# create table of just IDs (to make the table smaller)\r\n",
      "echo \"Feature\" > table_merged_filt.txt\r\n",
      "cut -f 1 feature-table.txt | tail -n +3 >> table_merged_filt.txt\r\n",
      "rm -f feature-table.txt\r\n"
     ]
    }
   ],
   "source": [
    "# view job script\n",
    "!cat export.sh"
   ]
  },
  {
   "cell_type": "code",
   "execution_count": 26,
   "metadata": {
    "ExecuteTime": {
     "end_time": "2017-12-06T09:57:40.784473Z",
     "start_time": "2017-12-06T09:55:07.966582Z"
    }
   },
   "outputs": [
    {
     "name": "stdout",
     "output_type": "stream",
     "text": [
      "SGE Job ID: 796793\n",
      "SGE job finished: 796793\n"
     ]
    }
   ],
   "source": [
    "# submit to the cluster and wait until job completion/abort\n",
    "qsub_wait('export.sh')"
   ]
  },
  {
   "cell_type": "code",
   "execution_count": 27,
   "metadata": {
    "ExecuteTime": {
     "end_time": "2017-12-06T09:57:40.904503Z",
     "start_time": "2017-12-06T09:57:40.786724Z"
    }
   },
   "outputs": [
    {
     "name": "stdout",
     "output_type": "stream",
     "text": [
      "-rw-r--r-- 1 nyoungblut abt3 1.3M Dec  6 10:57 table_merged_filt.txt\r\n"
     ]
    }
   ],
   "source": [
    "!ls -thlc table_merged_filt.txt"
   ]
  },
  {
   "cell_type": "markdown",
   "metadata": {},
   "source": [
    "### Filtering"
   ]
  },
  {
   "cell_type": "code",
   "execution_count": 28,
   "metadata": {
    "ExecuteTime": {
     "end_time": "2017-12-06T09:57:40.916480Z",
     "start_time": "2017-12-06T09:57:40.906594Z"
    }
   },
   "outputs": [
    {
     "name": "stdout",
     "output_type": "stream",
     "text": [
      "File written: /ebio/abt3_projects/Georg_animal_feces/data/16S/LLA/seq_filter.sh\n"
     ]
    }
   ],
   "source": [
    "cmd = sge_job(job_name='seq_filter', threads=1, memory='5G') \n",
    "cmd = cmd + \"\"\"\n",
    "qiime feature-table filter-seqs \\\n",
    "  --i-data rep-seqs_merged.qza \\\n",
    "  --m-metadata-file table_merged_filt.txt \\\n",
    "  --o-filtered-data rep-seqs_merged_filt.qza\n",
    "\"\"\"\n",
    "write_file(cmd, 'seq_filter.sh')"
   ]
  },
  {
   "cell_type": "code",
   "execution_count": 29,
   "metadata": {
    "ExecuteTime": {
     "end_time": "2017-12-06T09:57:41.036508Z",
     "start_time": "2017-12-06T09:57:40.918459Z"
    }
   },
   "outputs": [
    {
     "name": "stdout",
     "output_type": "stream",
     "text": [
      "#!/bin/bash\r\n",
      "#$ -N seq_filter\r\n",
      "#$ -pe parallel 1\r\n",
      "#$ -l h_vmem=5G\r\n",
      "#$ -l h_rt=24:0:0\r\n",
      "#$ -o /ebio/abt3/nyoungblut/SGE/LLA\r\n",
      "#$ -j y\r\n",
      "#$ -cwd\r\n",
      "#$ -m ea\r\n",
      "#$ -M nyoungblut@tuebingen.mpg.de\r\n",
      "\r\n",
      "CONDA_INSTALLATION=\"/ebio/abt3_projects/software/miniconda3\"\r\n",
      "QIIME2_ENV=\"qiime2\"\r\n",
      "\r\n",
      "export PATH=\"$CONDA_INSTALLATION/bin\":$PATH\r\n",
      "export PATH=\"$CONDA_INSTALLATION/envs/$QIIME2_ENV/bin\":$PATH\r\n",
      "export LC_ALL=C.UTF-8\r\n",
      "export LANG=C.UTF-8\r\n",
      "\r\n",
      "\r\n",
      "qiime feature-table filter-seqs   --i-data rep-seqs_merged.qza   --m-metadata-file table_merged_filt.txt   --o-filtered-data rep-seqs_merged_filt.qza\r\n"
     ]
    }
   ],
   "source": [
    "# view job script\n",
    "!cat seq_filter.sh"
   ]
  },
  {
   "cell_type": "code",
   "execution_count": 30,
   "metadata": {
    "ExecuteTime": {
     "end_time": "2017-12-06T09:58:56.376521Z",
     "start_time": "2017-12-06T09:57:41.038602Z"
    }
   },
   "outputs": [
    {
     "name": "stdout",
     "output_type": "stream",
     "text": [
      "SGE Job ID: 796798\n",
      "SGE job finished: 796798\n"
     ]
    }
   ],
   "source": [
    "# submit to the cluster and wait until job completion/abort\n",
    "qsub_wait('seq_filter.sh')"
   ]
  },
  {
   "cell_type": "code",
   "execution_count": 31,
   "metadata": {
    "ExecuteTime": {
     "end_time": "2017-12-06T09:58:56.496596Z",
     "start_time": "2017-12-06T09:58:56.378757Z"
    }
   },
   "outputs": [
    {
     "name": "stdout",
     "output_type": "stream",
     "text": [
      "-rw-r--r-- 1 nyoungblut abt3 3.2M Dec  6 10:58 rep-seqs_merged_filt.qza\r\n"
     ]
    }
   ],
   "source": [
    "!ls -thlc rep-seqs_merged_filt.qza"
   ]
  },
  {
   "cell_type": "markdown",
   "metadata": {},
   "source": [
    "# checking that taxa were filtered"
   ]
  },
  {
   "cell_type": "code",
   "execution_count": 54,
   "metadata": {
    "ExecuteTime": {
     "end_time": "2017-12-06T11:14:13.024486Z",
     "start_time": "2017-12-06T11:14:13.018959Z"
    }
   },
   "outputs": [],
   "source": [
    "# metadata_file = '/ebio/abt3_projects/Georg_animal_feces/data/mapping/unified_metadata_20171206_r5k.txt'\n",
    "# cmd = sge_job(job_name='tax_barplot', threads=1, memory='5G') \n",
    "# cmd = cmd + \"\"\"\n",
    "# qiime taxa barplot \\\n",
    "#   --i-table table_merged_filt.qza \\\n",
    "#   --i-taxonomy taxonomy.qza \\\n",
    "#   --m-metadata-file {} \\\n",
    "#   --o-visualization taxonomy_filt_barplot.qzv\n",
    "# \"\"\"\n",
    "# cmd = cmd.format(metadata_file)\n",
    "# write_file(cmd, 'tax_barplot.sh')"
   ]
  },
  {
   "cell_type": "code",
   "execution_count": 55,
   "metadata": {
    "ExecuteTime": {
     "end_time": "2017-12-06T11:14:14.744463Z",
     "start_time": "2017-12-06T11:14:14.738992Z"
    }
   },
   "outputs": [],
   "source": [
    "# submit to the cluster and wait until job completion/abort\n",
    "#qsub_wait('tax_barplot.sh')"
   ]
  },
  {
   "cell_type": "code",
   "execution_count": 56,
   "metadata": {
    "ExecuteTime": {
     "end_time": "2017-12-06T11:14:16.352466Z",
     "start_time": "2017-12-06T11:14:16.346428Z"
    }
   },
   "outputs": [],
   "source": [
    "#!tail /ebio/abt3/nyoungblut/SGE/LLA"
   ]
  },
  {
   "cell_type": "code",
   "execution_count": 57,
   "metadata": {
    "ExecuteTime": {
     "end_time": "2017-12-06T11:14:18.152466Z",
     "start_time": "2017-12-06T11:14:18.146715Z"
    }
   },
   "outputs": [],
   "source": [
    "#!ls -thlc taxonomy_filt_barplot.qzv"
   ]
  },
  {
   "cell_type": "markdown",
   "metadata": {},
   "source": [
    "# Generate a tree for phylogenetic diversity analyses"
   ]
  },
  {
   "cell_type": "markdown",
   "metadata": {},
   "source": [
    "In downstream analyses, such as the computing of UniFrac distances, the use of a phylogenetic tree is necessary. To do this, we must first perform a multiple sequence alignment of the sequences in our `FeatureData[Sequence]` to create a `FeatureData[AlignedSequence]` QIIME2 artifact. Here we do this using *mafft*."
   ]
  },
  {
   "cell_type": "markdown",
   "metadata": {},
   "source": [
    "## Alignment\n",
    "\n",
    "This step will perform *de novo* multiple sequence alignment using MAFFT"
   ]
  },
  {
   "cell_type": "code",
   "execution_count": 58,
   "metadata": {
    "ExecuteTime": {
     "end_time": "2017-12-06T11:14:21.724498Z",
     "start_time": "2017-12-06T11:14:21.711810Z"
    }
   },
   "outputs": [
    {
     "name": "stdout",
     "output_type": "stream",
     "text": [
      "File written: /ebio/abt3_projects/Georg_animal_feces/data/16S/LLA/align_seqs.sh\n"
     ]
    }
   ],
   "source": [
    "cmd = sge_job(job_name='align_seqs') \n",
    "cmd = cmd + \"\"\"\n",
    "qiime alignment mafft \\\n",
    "  --i-sequences rep-seqs_merged_filt.qza \\\n",
    "  --o-alignment aligned-rep-seqs_filt.qza \\\n",
    "  --p-n-threads {threads}\n",
    "\"\"\"\n",
    "cmd = cmd.format(threads=threads)\n",
    "\n",
    "write_file(cmd, 'align_seqs.sh')"
   ]
  },
  {
   "cell_type": "code",
   "execution_count": 59,
   "metadata": {
    "ExecuteTime": {
     "end_time": "2017-12-06T11:14:23.288611Z",
     "start_time": "2017-12-06T11:14:23.167995Z"
    }
   },
   "outputs": [
    {
     "name": "stdout",
     "output_type": "stream",
     "text": [
      "#!/bin/bash\r\n",
      "#$ -N align_seqs\r\n",
      "#$ -pe parallel 20\r\n",
      "#$ -l h_vmem=3G\r\n",
      "#$ -l h_rt=24:0:0\r\n",
      "#$ -o /ebio/abt3/nyoungblut/SGE/LLA\r\n",
      "#$ -j y\r\n",
      "#$ -cwd\r\n",
      "#$ -m ea\r\n",
      "#$ -M nyoungblut@tuebingen.mpg.de\r\n",
      "\r\n",
      "CONDA_INSTALLATION=\"/ebio/abt3_projects/software/miniconda3\"\r\n",
      "QIIME2_ENV=\"qiime2\"\r\n",
      "\r\n",
      "export PATH=\"$CONDA_INSTALLATION/bin\":$PATH\r\n",
      "export PATH=\"$CONDA_INSTALLATION/envs/$QIIME2_ENV/bin\":$PATH\r\n",
      "export LC_ALL=C.UTF-8\r\n",
      "export LANG=C.UTF-8\r\n",
      "\r\n",
      "\r\n",
      "qiime alignment mafft   --i-sequences rep-seqs_merged_filt.qza   --o-alignment aligned-rep-seqs_filt.qza   --p-n-threads 20\r\n"
     ]
    }
   ],
   "source": [
    "# view job script\n",
    "!cat align_seqs.sh"
   ]
  },
  {
   "cell_type": "code",
   "execution_count": 60,
   "metadata": {
    "ExecuteTime": {
     "end_time": "2017-12-06T11:29:55.688471Z",
     "start_time": "2017-12-06T11:14:23.322751Z"
    }
   },
   "outputs": [
    {
     "name": "stdout",
     "output_type": "stream",
     "text": [
      "SGE Job ID: 798373\n",
      "SGE job finished: 798373\n"
     ]
    }
   ],
   "source": [
    "# submit to the cluster and wait until job completion/abort\n",
    "qsub_wait('align_seqs.sh')"
   ]
  },
  {
   "cell_type": "code",
   "execution_count": 61,
   "metadata": {
    "ExecuteTime": {
     "end_time": "2017-12-06T11:29:55.808596Z",
     "start_time": "2017-12-06T11:29:55.690637Z"
    }
   },
   "outputs": [
    {
     "name": "stdout",
     "output_type": "stream",
     "text": [
      "-rw-r--r-- 1 nyoungblut abt3 3.5M Dec  6 12:29 aligned-rep-seqs_filt.qza\r\n"
     ]
    }
   ],
   "source": [
    "!ls -thlc aligned-rep-seqs_filt.qza"
   ]
  },
  {
   "cell_type": "markdown",
   "metadata": {},
   "source": [
    "## Mask alignment\n",
    "\n",
    "This step will mask (or filter) the alignment to remove positions that are highly variable. These positions are generally considered to add noise to a resulting phylogenetic inference (tree)."
   ]
  },
  {
   "cell_type": "code",
   "execution_count": 62,
   "metadata": {
    "ExecuteTime": {
     "end_time": "2017-12-06T11:29:55.820566Z",
     "start_time": "2017-12-06T11:29:55.810580Z"
    }
   },
   "outputs": [
    {
     "name": "stdout",
     "output_type": "stream",
     "text": [
      "File written: /ebio/abt3_projects/Georg_animal_feces/data/16S/LLA/mask_align.sh\n"
     ]
    }
   ],
   "source": [
    "cmd = sge_job(job_name='mask_align', threads=1) \n",
    "cmd = cmd + \"\"\"\n",
    "qiime alignment mask \\\n",
    "  --i-alignment aligned-rep-seqs_filt.qza \\\n",
    "  --o-masked-alignment aligned-rep-seqs_filt_masked.qza\n",
    "\"\"\"\n",
    "\n",
    "write_file(cmd, 'mask_align.sh')"
   ]
  },
  {
   "cell_type": "code",
   "execution_count": 63,
   "metadata": {
    "ExecuteTime": {
     "end_time": "2017-12-06T11:29:55.940612Z",
     "start_time": "2017-12-06T11:29:55.822559Z"
    }
   },
   "outputs": [
    {
     "name": "stdout",
     "output_type": "stream",
     "text": [
      "#!/bin/bash\r\n",
      "#$ -N mask_align\r\n",
      "#$ -pe parallel 1\r\n",
      "#$ -l h_vmem=3G\r\n",
      "#$ -l h_rt=24:0:0\r\n",
      "#$ -o /ebio/abt3/nyoungblut/SGE/LLA\r\n",
      "#$ -j y\r\n",
      "#$ -cwd\r\n",
      "#$ -m ea\r\n",
      "#$ -M nyoungblut@tuebingen.mpg.de\r\n",
      "\r\n",
      "CONDA_INSTALLATION=\"/ebio/abt3_projects/software/miniconda3\"\r\n",
      "QIIME2_ENV=\"qiime2\"\r\n",
      "\r\n",
      "export PATH=\"$CONDA_INSTALLATION/bin\":$PATH\r\n",
      "export PATH=\"$CONDA_INSTALLATION/envs/$QIIME2_ENV/bin\":$PATH\r\n",
      "export LC_ALL=C.UTF-8\r\n",
      "export LANG=C.UTF-8\r\n",
      "\r\n",
      "\r\n",
      "qiime alignment mask   --i-alignment aligned-rep-seqs_filt.qza   --o-masked-alignment aligned-rep-seqs_filt_masked.qza\r\n"
     ]
    }
   ],
   "source": [
    "# view job script\n",
    "!cat mask_align.sh"
   ]
  },
  {
   "cell_type": "code",
   "execution_count": 64,
   "metadata": {
    "ExecuteTime": {
     "end_time": "2017-12-06T11:41:41.824524Z",
     "start_time": "2017-12-06T11:29:55.942814Z"
    }
   },
   "outputs": [
    {
     "name": "stdout",
     "output_type": "stream",
     "text": [
      "SGE Job ID: 798399\n",
      "SGE job finished: 798399\n"
     ]
    }
   ],
   "source": [
    "# submit to the cluster and wait until job completion/abort\n",
    "qsub_wait('mask_align.sh')"
   ]
  },
  {
   "cell_type": "code",
   "execution_count": 65,
   "metadata": {
    "ExecuteTime": {
     "end_time": "2017-12-06T11:41:41.944510Z",
     "start_time": "2017-12-06T11:41:41.826749Z"
    }
   },
   "outputs": [
    {
     "name": "stdout",
     "output_type": "stream",
     "text": [
      "-rw-r--r-- 1 nyoungblut abt3 3.3M Dec  6 12:41 aligned-rep-seqs_filt_masked.qza\r\n"
     ]
    }
   ],
   "source": [
    "!ls -thlc aligned-rep-seqs_filt_masked.qza"
   ]
  },
  {
   "cell_type": "markdown",
   "metadata": {},
   "source": [
    "## Infer phylogeny"
   ]
  },
  {
   "cell_type": "markdown",
   "metadata": {},
   "source": [
    "### Unrooted tree\n",
    "\n",
    "This step will use `FastTree` to infer a phylogenetic tree from the masked alignment."
   ]
  },
  {
   "cell_type": "code",
   "execution_count": 66,
   "metadata": {
    "ExecuteTime": {
     "end_time": "2017-12-06T11:41:41.956540Z",
     "start_time": "2017-12-06T11:41:41.946522Z"
    }
   },
   "outputs": [
    {
     "name": "stdout",
     "output_type": "stream",
     "text": [
      "File written: /ebio/abt3_projects/Georg_animal_feces/data/16S/LLA/unrooted_tree.sh\n"
     ]
    }
   ],
   "source": [
    "cmd = sge_job(job_name='unrooted_tree') \n",
    "cmd = cmd + \"\"\"\n",
    "qiime phylogeny fasttree \\\n",
    "  --i-alignment aligned-rep-seqs_filt_masked.qza \\\n",
    "  --o-tree aligned-rep-seqs_filt_masked_unroot-tree.qza \\\n",
    "  --p-n-threads {threads}\n",
    "\"\"\"\n",
    "cmd = cmd.format(threads=threads)\n",
    "\n",
    "write_file(cmd, 'unrooted_tree.sh')"
   ]
  },
  {
   "cell_type": "code",
   "execution_count": 67,
   "metadata": {
    "ExecuteTime": {
     "end_time": "2017-12-06T11:41:42.080570Z",
     "start_time": "2017-12-06T11:41:41.958467Z"
    }
   },
   "outputs": [
    {
     "name": "stdout",
     "output_type": "stream",
     "text": [
      "#!/bin/bash\r\n",
      "#$ -N unrooted_tree\r\n",
      "#$ -pe parallel 20\r\n",
      "#$ -l h_vmem=3G\r\n",
      "#$ -l h_rt=24:0:0\r\n",
      "#$ -o /ebio/abt3/nyoungblut/SGE/LLA\r\n",
      "#$ -j y\r\n",
      "#$ -cwd\r\n",
      "#$ -m ea\r\n",
      "#$ -M nyoungblut@tuebingen.mpg.de\r\n",
      "\r\n",
      "CONDA_INSTALLATION=\"/ebio/abt3_projects/software/miniconda3\"\r\n",
      "QIIME2_ENV=\"qiime2\"\r\n",
      "\r\n",
      "export PATH=\"$CONDA_INSTALLATION/bin\":$PATH\r\n",
      "export PATH=\"$CONDA_INSTALLATION/envs/$QIIME2_ENV/bin\":$PATH\r\n",
      "export LC_ALL=C.UTF-8\r\n",
      "export LANG=C.UTF-8\r\n",
      "\r\n",
      "\r\n",
      "qiime phylogeny fasttree   --i-alignment aligned-rep-seqs_filt_masked.qza   --o-tree aligned-rep-seqs_filt_masked_unroot-tree.qza   --p-n-threads 20\r\n"
     ]
    }
   ],
   "source": [
    "# view job script\n",
    "!cat unrooted_tree.sh"
   ]
  },
  {
   "cell_type": "code",
   "execution_count": 68,
   "metadata": {
    "ExecuteTime": {
     "end_time": "2017-12-06T11:56:43.684509Z",
     "start_time": "2017-12-06T11:41:42.082543Z"
    }
   },
   "outputs": [
    {
     "name": "stdout",
     "output_type": "stream",
     "text": [
      "SGE Job ID: 798452\n",
      "SGE job finished: 798452\n"
     ]
    }
   ],
   "source": [
    "# submit to the cluster and wait until job completion/abort\n",
    "qsub_wait('unrooted_tree.sh')"
   ]
  },
  {
   "cell_type": "code",
   "execution_count": 69,
   "metadata": {
    "ExecuteTime": {
     "end_time": "2017-12-06T11:56:43.808599Z",
     "start_time": "2017-12-06T11:56:43.686701Z"
    }
   },
   "outputs": [
    {
     "name": "stdout",
     "output_type": "stream",
     "text": [
      "ls: cannot access 'aligned-rep-seqs_r5k_filt_masked_unroot-tree.qza': No such file or directory\r\n"
     ]
    }
   ],
   "source": [
    "!ls -thlc aligned-rep-seqs_r5k_filt_masked_unroot-tree.qza"
   ]
  },
  {
   "cell_type": "markdown",
   "metadata": {},
   "source": [
    "### Rooted tree\n",
    "\n",
    "The `FastTree` program creates an unrooted tree.\n",
    "\n",
    "This step will apply midpoint rooting, which will place the root of the tree at the midpoint of the longest tip-to-tip distance in the unrooted tree."
   ]
  },
  {
   "cell_type": "code",
   "execution_count": 70,
   "metadata": {
    "ExecuteTime": {
     "end_time": "2017-12-06T11:56:43.820488Z",
     "start_time": "2017-12-06T11:56:43.810734Z"
    }
   },
   "outputs": [
    {
     "name": "stdout",
     "output_type": "stream",
     "text": [
      "File written: /ebio/abt3_projects/Georg_animal_feces/data/16S/LLA/rooted_tree.sh\n"
     ]
    }
   ],
   "source": [
    "cmd = sge_job(job_name='rooted_tree', threads=1) \n",
    "cmd = cmd + \"\"\"\n",
    "qiime phylogeny midpoint-root \\\n",
    "  --i-tree aligned-rep-seqs_filt_masked_unroot-tree.qza \\\n",
    "  --o-rooted-tree aligned-rep-seqs_filt_masked_midroot-tree.qza\n",
    "\"\"\"\n",
    "\n",
    "write_file(cmd, 'rooted_tree.sh')"
   ]
  },
  {
   "cell_type": "code",
   "execution_count": 71,
   "metadata": {
    "ExecuteTime": {
     "end_time": "2017-12-06T11:56:43.944596Z",
     "start_time": "2017-12-06T11:56:43.822241Z"
    }
   },
   "outputs": [
    {
     "name": "stdout",
     "output_type": "stream",
     "text": [
      "#!/bin/bash\r\n",
      "#$ -N rooted_tree\r\n",
      "#$ -pe parallel 1\r\n",
      "#$ -l h_vmem=3G\r\n",
      "#$ -l h_rt=24:0:0\r\n",
      "#$ -o /ebio/abt3/nyoungblut/SGE/LLA\r\n",
      "#$ -j y\r\n",
      "#$ -cwd\r\n",
      "#$ -m ea\r\n",
      "#$ -M nyoungblut@tuebingen.mpg.de\r\n",
      "\r\n",
      "CONDA_INSTALLATION=\"/ebio/abt3_projects/software/miniconda3\"\r\n",
      "QIIME2_ENV=\"qiime2\"\r\n",
      "\r\n",
      "export PATH=\"$CONDA_INSTALLATION/bin\":$PATH\r\n",
      "export PATH=\"$CONDA_INSTALLATION/envs/$QIIME2_ENV/bin\":$PATH\r\n",
      "export LC_ALL=C.UTF-8\r\n",
      "export LANG=C.UTF-8\r\n",
      "\r\n",
      "\r\n",
      "qiime phylogeny midpoint-root   --i-tree aligned-rep-seqs_filt_masked_unroot-tree.qza   --o-rooted-tree aligned-rep-seqs_filt_masked_midroot-tree.qza\r\n"
     ]
    }
   ],
   "source": [
    "# view job script\n",
    "!cat rooted_tree.sh"
   ]
  },
  {
   "cell_type": "code",
   "execution_count": 72,
   "metadata": {
    "ExecuteTime": {
     "end_time": "2017-12-06T11:57:18.592510Z",
     "start_time": "2017-12-06T11:56:43.946607Z"
    }
   },
   "outputs": [
    {
     "name": "stdout",
     "output_type": "stream",
     "text": [
      "SGE Job ID: 798474\n",
      "SGE job finished: 798474\n"
     ]
    }
   ],
   "source": [
    "# submit to the cluster and wait until job completion/abort\n",
    "qsub_wait('rooted_tree.sh')"
   ]
  },
  {
   "cell_type": "code",
   "execution_count": 73,
   "metadata": {
    "ExecuteTime": {
     "end_time": "2017-12-06T11:57:18.712525Z",
     "start_time": "2017-12-06T11:57:18.594608Z"
    }
   },
   "outputs": [
    {
     "name": "stdout",
     "output_type": "stream",
     "text": [
      "-rw-r--r-- 1 nyoungblut abt3 1.9M Dec  6 12:57 aligned-rep-seqs_filt_masked_midroot-tree.qza\r\n"
     ]
    }
   ],
   "source": [
    "!ls -thlc aligned-rep-seqs_filt_masked_midroot-tree.qza"
   ]
  }
 ],
 "metadata": {
  "kernelspec": {
   "display_name": "Python [conda env:qiime2]",
   "language": "python",
   "name": "conda-env-qiime2-py"
  },
  "language_info": {
   "codemirror_mode": {
    "name": "ipython",
    "version": 3
   },
   "file_extension": ".py",
   "mimetype": "text/x-python",
   "name": "python",
   "nbconvert_exporter": "python",
   "pygments_lexer": "ipython3",
   "version": "3.5.4"
  },
  "notify_time": "30",
  "toc": {
   "nav_menu": {},
   "number_sections": true,
   "sideBar": true,
   "skip_h1_title": false,
   "toc_cell": false,
   "toc_position": {
    "height": "1109px",
    "left": "0px",
    "right": "2348px",
    "top": "111px",
    "width": "212px"
   },
   "toc_section_display": "block",
   "toc_window_display": true
  }
 },
 "nbformat": 4,
 "nbformat_minor": 2
}
