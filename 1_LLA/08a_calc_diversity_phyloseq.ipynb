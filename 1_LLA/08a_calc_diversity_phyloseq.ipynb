{
 "cells": [
  {
   "cell_type": "markdown",
   "metadata": {
    "toc": true
   },
   "source": [
    "<h1>Table of Contents<span class=\"tocSkip\"></span></h1>\n",
    "<div class=\"toc\" style=\"margin-top: 1em;\"><ul class=\"toc-item\"><li><span><a href=\"#Goal\" data-toc-modified-id=\"Goal-1\"><span class=\"toc-item-num\">1&nbsp;&nbsp;</span>Goal</a></span></li><li><span><a href=\"#Var\" data-toc-modified-id=\"Var-2\"><span class=\"toc-item-num\">2&nbsp;&nbsp;</span>Var</a></span></li><li><span><a href=\"#Init\" data-toc-modified-id=\"Init-3\"><span class=\"toc-item-num\">3&nbsp;&nbsp;</span>Init</a></span></li><li><span><a href=\"#Load\" data-toc-modified-id=\"Load-4\"><span class=\"toc-item-num\">4&nbsp;&nbsp;</span>Load</a></span></li><li><span><a href=\"#Alpha-div\" data-toc-modified-id=\"Alpha-div-5\"><span class=\"toc-item-num\">5&nbsp;&nbsp;</span>Alpha div</a></span><ul class=\"toc-item\"><li><span><a href=\"#non-phylo-methods\" data-toc-modified-id=\"non-phylo-methods-5.1\"><span class=\"toc-item-num\">5.1&nbsp;&nbsp;</span>non-phylo methods</a></span></li><li><span><a href=\"#phylo-methods\" data-toc-modified-id=\"phylo-methods-5.2\"><span class=\"toc-item-num\">5.2&nbsp;&nbsp;</span>phylo methods</a></span></li><li><span><a href=\"#Writing\" data-toc-modified-id=\"Writing-5.3\"><span class=\"toc-item-num\">5.3&nbsp;&nbsp;</span>Writing</a></span></li><li><span><a href=\"#Summarizing\" data-toc-modified-id=\"Summarizing-5.4\"><span class=\"toc-item-num\">5.4&nbsp;&nbsp;</span>Summarizing</a></span></li><li><span><a href=\"#Format-for-iTOL\" data-toc-modified-id=\"Format-for-iTOL-5.5\"><span class=\"toc-item-num\">5.5&nbsp;&nbsp;</span>Format for iTOL</a></span><ul class=\"toc-item\"><li><span><a href=\"#SpecD\" data-toc-modified-id=\"SpecD-5.5.1\"><span class=\"toc-item-num\">5.5.1&nbsp;&nbsp;</span>SpecD</a></span></li></ul></li></ul></li><li><span><a href=\"#Beta-diversity\" data-toc-modified-id=\"Beta-diversity-6\"><span class=\"toc-item-num\">6&nbsp;&nbsp;</span>Beta-diversity</a></span></li><li><span><a href=\"#--debug--\" data-toc-modified-id=\"--debug---7\"><span class=\"toc-item-num\">7&nbsp;&nbsp;</span>--debug--</a></span><ul class=\"toc-item\"><li><span><a href=\"#Writing\" data-toc-modified-id=\"Writing-7.1\"><span class=\"toc-item-num\">7.1&nbsp;&nbsp;</span>Writing</a></span></li></ul></li><li><span><a href=\"#sessionInfo\" data-toc-modified-id=\"sessionInfo-8\"><span class=\"toc-item-num\">8&nbsp;&nbsp;</span>sessionInfo</a></span></li></ul></div>"
   ]
  },
  {
   "cell_type": "markdown",
   "metadata": {},
   "source": [
    "# Goal\n",
    "\n",
    "* calculate alpha and beta diversity metrics using `phyloseq` and associated R packages"
   ]
  },
  {
   "cell_type": "markdown",
   "metadata": {},
   "source": [
    "# Var"
   ]
  },
  {
   "cell_type": "code",
   "execution_count": 1,
   "metadata": {
    "ExecuteTime": {
     "end_time": "2018-07-07T05:43:33.245547Z",
     "start_time": "2018-07-07T05:43:32.433Z"
    }
   },
   "outputs": [],
   "source": [
    "work_dir = '/ebio/abt3_projects/Georg_animal_feces/data/16S/LLA/diversity/'\n",
    "\n",
    "# phyloseq \n",
    "physeq_file = '/ebio/abt3_projects/Georg_animal_feces/data/16S/LLA/phyloseq/physeq_r5k.RDS'\n",
    "\n",
    "# threads to use\n",
    "threads = 12"
   ]
  },
  {
   "cell_type": "markdown",
   "metadata": {},
   "source": [
    "# Init"
   ]
  },
  {
   "cell_type": "code",
   "execution_count": 2,
   "metadata": {
    "ExecuteTime": {
     "end_time": "2018-07-07T05:43:48.839961Z",
     "start_time": "2018-07-07T05:43:32.680Z"
    }
   },
   "outputs": [
    {
     "name": "stderr",
     "output_type": "stream",
     "text": [
      "\n",
      "Attaching package: ‘dplyr’\n",
      "\n",
      "The following objects are masked from ‘package:stats’:\n",
      "\n",
      "    filter, lag\n",
      "\n",
      "The following objects are masked from ‘package:base’:\n",
      "\n",
      "    intersect, setdiff, setequal, union\n",
      "\n",
      "Loading required package: ape\n",
      "Loading required package: vegan\n",
      "Loading required package: permute\n",
      "Loading required package: lattice\n",
      "This is vegan 2.4-3\n",
      "Loading required package: nlme\n",
      "\n",
      "Attaching package: ‘nlme’\n",
      "\n",
      "The following object is masked from ‘package:dplyr’:\n",
      "\n",
      "    collapse\n",
      "\n"
     ]
    }
   ],
   "source": [
    "library(dplyr)\n",
    "library(tidyr)\n",
    "library(ggplot2)\n",
    "library(phyloseq)\n",
    "library(picante)\n",
    "library(vegan)\n",
    "source('/ebio/abt3_projects/Georg_animal_feces/code/init.R') \n",
    "source('/ebio/abt3_projects/Georg_animal_feces/code/itol.R') "
   ]
  },
  {
   "cell_type": "code",
   "execution_count": 3,
   "metadata": {
    "ExecuteTime": {
     "end_time": "2018-07-07T05:43:49.203351Z",
     "start_time": "2018-07-07T05:43:32.808Z"
    }
   },
   "outputs": [
    {
     "name": "stdout",
     "output_type": "stream",
     "text": [
      "Directory already exists: /ebio/abt3_projects/Georg_animal_feces/data/16S/LLA/diversity/ \n"
     ]
    }
   ],
   "source": [
    "make_dir(work_dir)"
   ]
  },
  {
   "cell_type": "markdown",
   "metadata": {},
   "source": [
    "# Load"
   ]
  },
  {
   "cell_type": "code",
   "execution_count": 4,
   "metadata": {
    "ExecuteTime": {
     "end_time": "2018-07-07T05:43:50.773890Z",
     "start_time": "2018-07-07T05:43:33.192Z"
    }
   },
   "outputs": [
    {
     "data": {
      "text/plain": [
       "phyloseq-class experiment-level object\n",
       "otu_table()   OTU Table:         [ 30290 taxa and 213 samples ]\n",
       "sample_data() Sample Data:       [ 213 samples by 171 sample variables ]\n",
       "tax_table()   Taxonomy Table:    [ 30290 taxa by 7 taxonomic ranks ]\n",
       "phy_tree()    Phylogenetic Tree: [ 30290 tips and 29752 internal nodes ]"
      ]
     },
     "metadata": {},
     "output_type": "display_data"
    }
   ],
   "source": [
    "# phyloseq obj.\n",
    "physeq = readRDS(physeq_file)\n",
    "physeq"
   ]
  },
  {
   "cell_type": "code",
   "execution_count": 5,
   "metadata": {
    "ExecuteTime": {
     "end_time": "2018-07-07T05:43:51.201493Z",
     "start_time": "2018-07-07T05:43:33.327Z"
    }
   },
   "outputs": [
    {
     "name": "stderr",
     "output_type": "stream",
     "text": [
      "Warning message in class(X) <- NULL:\n",
      "“Setting class(x) to NULL;   result will no longer be an S4 object”"
     ]
    },
    {
     "name": "stdout",
     "output_type": "stream",
     "text": [
      "[1] 213  11\n"
     ]
    },
    {
     "data": {
      "text/html": [
       "<table>\n",
       "<thead><tr><th scope=col>Sample_ID</th><th scope=col>class</th><th scope=col>order</th><th scope=col>family</th><th scope=col>genus</th><th scope=col>scientific_name</th><th scope=col>diet</th><th scope=col>habitat</th><th scope=col>habitat_detail</th><th scope=col>captive_wild</th><th scope=col>sample_type</th></tr></thead>\n",
       "<tbody>\n",
       "\t<tr><td>X1.Eurasian.Beaver </td><td>Mammalia           </td><td>Rodentia           </td><td>Castoridae         </td><td>Castor             </td><td>Castor_fiber       </td><td>herbivore          </td><td>terrestrial habitat</td><td>terrestrial habitat</td><td>wild               </td><td>feces              </td></tr>\n",
       "\t<tr><td>X101.Horse         </td><td>Mammalia           </td><td>Perissodactyla     </td><td>Equidae            </td><td>Equus              </td><td>Equus_caballus     </td><td>herbivore          </td><td>terrestrial habitat</td><td>grassland          </td><td>captive            </td><td>feces              </td></tr>\n",
       "\t<tr><td>X102.Kulan         </td><td>Mammalia           </td><td>Perissodactyla     </td><td>Equidae            </td><td>Equus              </td><td>Equus_hemionus     </td><td>herbivore          </td><td>terrestrial habitat</td><td>grassland          </td><td>wild               </td><td>feces              </td></tr>\n",
       "</tbody>\n",
       "</table>\n"
      ],
      "text/latex": [
       "\\begin{tabular}{r|lllllllllll}\n",
       " Sample\\_ID & class & order & family & genus & scientific\\_name & diet & habitat & habitat\\_detail & captive\\_wild & sample\\_type\\\\\n",
       "\\hline\n",
       "\t X1.Eurasian.Beaver  & Mammalia            & Rodentia            & Castoridae          & Castor              & Castor\\_fiber      & herbivore           & terrestrial habitat & terrestrial habitat & wild                & feces              \\\\\n",
       "\t X101.Horse          & Mammalia            & Perissodactyla      & Equidae             & Equus               & Equus\\_caballus    & herbivore           & terrestrial habitat & grassland           & captive             & feces              \\\\\n",
       "\t X102.Kulan          & Mammalia            & Perissodactyla      & Equidae             & Equus               & Equus\\_hemionus    & herbivore           & terrestrial habitat & grassland           & wild                & feces              \\\\\n",
       "\\end{tabular}\n"
      ],
      "text/markdown": [
       "\n",
       "Sample_ID | class | order | family | genus | scientific_name | diet | habitat | habitat_detail | captive_wild | sample_type | \n",
       "|---|---|---|\n",
       "| X1.Eurasian.Beaver  | Mammalia            | Rodentia            | Castoridae          | Castor              | Castor_fiber        | herbivore           | terrestrial habitat | terrestrial habitat | wild                | feces               | \n",
       "| X101.Horse          | Mammalia            | Perissodactyla      | Equidae             | Equus               | Equus_caballus      | herbivore           | terrestrial habitat | grassland           | captive             | feces               | \n",
       "| X102.Kulan          | Mammalia            | Perissodactyla      | Equidae             | Equus               | Equus_hemionus      | herbivore           | terrestrial habitat | grassland           | wild                | feces               | \n",
       "\n",
       "\n"
      ],
      "text/plain": [
       "  Sample_ID          class    order          family     genus  scientific_name\n",
       "1 X1.Eurasian.Beaver Mammalia Rodentia       Castoridae Castor Castor_fiber   \n",
       "2 X101.Horse         Mammalia Perissodactyla Equidae    Equus  Equus_caballus \n",
       "3 X102.Kulan         Mammalia Perissodactyla Equidae    Equus  Equus_hemionus \n",
       "  diet      habitat             habitat_detail      captive_wild sample_type\n",
       "1 herbivore terrestrial habitat terrestrial habitat wild         feces      \n",
       "2 herbivore terrestrial habitat grassland           captive      feces      \n",
       "3 herbivore terrestrial habitat grassland           wild         feces      "
      ]
     },
     "metadata": {},
     "output_type": "display_data"
    }
   ],
   "source": [
    "# metadata\n",
    "metadata = physeq %>%\n",
    "    sample_data %>%\n",
    "    as.matrix %>%\n",
    "    as.data.frame %>%\n",
    "    mutate(Sample_ID = rownames(.)) %>%\n",
    "    dplyr::select(Sample_ID, class, order, family, genus, scientific_name, \n",
    "                  diet, habitat, habitat_detail, captive_wild, sample_type)\n",
    "\n",
    "metadata %>% status"
   ]
  },
  {
   "cell_type": "markdown",
   "metadata": {},
   "source": [
    "# Alpha div"
   ]
  },
  {
   "cell_type": "markdown",
   "metadata": {},
   "source": [
    "## non-phylo methods"
   ]
  },
  {
   "cell_type": "code",
   "execution_count": 6,
   "metadata": {
    "ExecuteTime": {
     "end_time": "2018-07-07T05:44:08.091293Z",
     "start_time": "2018-07-07T05:43:33.744Z"
    }
   },
   "outputs": [
    {
     "name": "stdout",
     "output_type": "stream",
     "text": [
      "[1] 213   9\n"
     ]
    },
    {
     "data": {
      "text/html": [
       "<table>\n",
       "<thead><tr><th></th><th scope=col>Observed</th><th scope=col>Chao1</th><th scope=col>se.chao1</th><th scope=col>ACE</th><th scope=col>se.ACE</th><th scope=col>Shannon</th><th scope=col>Simpson</th><th scope=col>InvSimpson</th><th scope=col>Fisher</th></tr></thead>\n",
       "<tbody>\n",
       "\t<tr><th scope=row>X1.Eurasian.Beaver</th><td>158      </td><td> 176.750 </td><td> 9.896764</td><td> 171.1772</td><td> 6.056789</td><td>3.294359 </td><td>0.9107438</td><td> 11.20370</td><td> 31.05593</td></tr>\n",
       "\t<tr><th scope=row>X101.Horse</th><td>933      </td><td>1138.169 </td><td>32.673961</td><td>1146.1027</td><td>15.467074</td><td>6.183396 </td><td>0.9958891</td><td>243.25692</td><td>338.14735</td></tr>\n",
       "\t<tr><th scope=row>X102.Kulan</th><td>422      </td><td> 450.500 </td><td> 9.963181</td><td> 449.1472</td><td> 9.583702</td><td>5.103995 </td><td>0.9831976</td><td> 59.51531</td><td>109.91883</td></tr>\n",
       "</tbody>\n",
       "</table>\n"
      ],
      "text/latex": [
       "\\begin{tabular}{r|lllllllll}\n",
       "  & Observed & Chao1 & se.chao1 & ACE & se.ACE & Shannon & Simpson & InvSimpson & Fisher\\\\\n",
       "\\hline\n",
       "\tX1.Eurasian.Beaver & 158       &  176.750  &  9.896764 &  171.1772 &  6.056789 & 3.294359  & 0.9107438 &  11.20370 &  31.05593\\\\\n",
       "\tX101.Horse & 933       & 1138.169  & 32.673961 & 1146.1027 & 15.467074 & 6.183396  & 0.9958891 & 243.25692 & 338.14735\\\\\n",
       "\tX102.Kulan & 422       &  450.500  &  9.963181 &  449.1472 &  9.583702 & 5.103995  & 0.9831976 &  59.51531 & 109.91883\\\\\n",
       "\\end{tabular}\n"
      ],
      "text/markdown": [
       "\n",
       "| <!--/--> | Observed | Chao1 | se.chao1 | ACE | se.ACE | Shannon | Simpson | InvSimpson | Fisher | \n",
       "|---|---|---|\n",
       "| X1.Eurasian.Beaver | 158       |  176.750  |  9.896764 |  171.1772 |  6.056789 | 3.294359  | 0.9107438 |  11.20370 |  31.05593 | \n",
       "| X101.Horse | 933       | 1138.169  | 32.673961 | 1146.1027 | 15.467074 | 6.183396  | 0.9958891 | 243.25692 | 338.14735 | \n",
       "| X102.Kulan | 422       |  450.500  |  9.963181 |  449.1472 |  9.583702 | 5.103995  | 0.9831976 |  59.51531 | 109.91883 | \n",
       "\n",
       "\n"
      ],
      "text/plain": [
       "                   Observed Chao1    se.chao1  ACE       se.ACE    Shannon \n",
       "X1.Eurasian.Beaver 158       176.750  9.896764  171.1772  6.056789 3.294359\n",
       "X101.Horse         933      1138.169 32.673961 1146.1027 15.467074 6.183396\n",
       "X102.Kulan         422       450.500  9.963181  449.1472  9.583702 5.103995\n",
       "                   Simpson   InvSimpson Fisher   \n",
       "X1.Eurasian.Beaver 0.9107438  11.20370   31.05593\n",
       "X101.Horse         0.9958891 243.25692  338.14735\n",
       "X102.Kulan         0.9831976  59.51531  109.91883"
      ]
     },
     "metadata": {},
     "output_type": "display_data"
    }
   ],
   "source": [
    "# calculating with phyloseq\n",
    "alpha_div = estimate_richness(physeq)\n",
    "alpha_div %>% status"
   ]
  },
  {
   "cell_type": "markdown",
   "metadata": {},
   "source": [
    "## phylo methods"
   ]
  },
  {
   "cell_type": "code",
   "execution_count": 7,
   "metadata": {
    "ExecuteTime": {
     "end_time": "2018-07-07T05:44:08.143839Z",
     "start_time": "2018-07-07T05:43:34.068Z"
    }
   },
   "outputs": [
    {
     "data": {
      "text/plain": [
       "\n",
       "Phylogenetic tree with 30290 tips and 29752 internal nodes.\n",
       "\n",
       "Tip labels:\n",
       "\tea2df9bcd7f6a10e0fa509d237d19c6d, 130b094f31455943fb20899a36af8afd, b9b9562a0f34ad60c552f7f46d7a4b3b, 289f16b7043438e2880de25012fd0ba4, f7dfb53e3c495fba143f3b5ad9dc4b9c, f3a837ee0c15eabf5636069769c0d9f2, ...\n",
       "Node labels:\n",
       "\troot, 0.947, 0.636, 0.962, 0.829, 0.962, ...\n",
       "\n",
       "Rooted; includes branch lengths."
      ]
     },
     "metadata": {},
     "output_type": "display_data"
    }
   ],
   "source": [
    "# microbe tree\n",
    "microbe_tree = physeq %>% phy_tree\n",
    "microbe_tree"
   ]
  },
  {
   "cell_type": "code",
   "execution_count": 8,
   "metadata": {
    "ExecuteTime": {
     "end_time": "2018-07-07T06:34:51.261977Z",
     "start_time": "2018-07-07T05:43:34.338Z"
    }
   },
   "outputs": [
    {
     "data": {
      "text/html": [
       "<ol class=list-inline>\n",
       "\t<li>213</li>\n",
       "\t<li>30290</li>\n",
       "</ol>\n"
      ],
      "text/latex": [
       "\\begin{enumerate*}\n",
       "\\item 213\n",
       "\\item 30290\n",
       "\\end{enumerate*}\n"
      ],
      "text/markdown": [
       "1. 213\n",
       "2. 30290\n",
       "\n",
       "\n"
      ],
      "text/plain": [
       "[1]   213 30290"
      ]
     },
     "metadata": {},
     "output_type": "display_data"
    },
    {
     "name": "stdout",
     "output_type": "stream",
     "text": [
      "                   ea2df9bcd7f6a10e0fa509d237d19c6d\n",
      "X1.Eurasian.Beaver                                0\n",
      "X101.Horse                                        2\n",
      "X102.Kulan                                        0\n",
      "X109.Red.Fox                                      0\n",
      "X110.Noctule                                      0\n",
      "                   130b094f31455943fb20899a36af8afd\n",
      "X1.Eurasian.Beaver                                0\n",
      "X101.Horse                                        0\n",
      "X102.Kulan                                        0\n",
      "X109.Red.Fox                                      0\n",
      "X110.Noctule                                      0\n",
      "                   b9b9562a0f34ad60c552f7f46d7a4b3b\n",
      "X1.Eurasian.Beaver                                0\n",
      "X101.Horse                                        0\n",
      "X102.Kulan                                        0\n",
      "X109.Red.Fox                                      0\n",
      "X110.Noctule                                      0\n",
      "                   289f16b7043438e2880de25012fd0ba4\n",
      "X1.Eurasian.Beaver                                0\n",
      "X101.Horse                                        0\n",
      "X102.Kulan                                        0\n",
      "X109.Red.Fox                                      0\n",
      "X110.Noctule                                      0\n",
      "                   f7dfb53e3c495fba143f3b5ad9dc4b9c\n",
      "X1.Eurasian.Beaver                                0\n",
      "X101.Horse                                        0\n",
      "X102.Kulan                                        0\n",
      "X109.Red.Fox                                      0\n",
      "X110.Noctule                                      0\n"
     ]
    }
   ],
   "source": [
    "# picante \"comm\" obj\n",
    "otu = physeq %>%\n",
    "    otu_table %>%\n",
    "    as.matrix %>% t %>% \n",
    "    as.data.frame\n",
    "\n",
    "otu %>% dim\n",
    "otu[1:5,1:5] %>% print"
   ]
  },
  {
   "cell_type": "code",
   "execution_count": 9,
   "metadata": {
    "ExecuteTime": {
     "end_time": "2018-07-07T06:34:51.355677Z",
     "start_time": "2018-07-07T05:43:34.472Z"
    }
   },
   "outputs": [
    {
     "data": {
      "text/html": [
       "<ol class=list-inline>\n",
       "\t<li>213</li>\n",
       "\t<li>30290</li>\n",
       "</ol>\n"
      ],
      "text/latex": [
       "\\begin{enumerate*}\n",
       "\\item 213\n",
       "\\item 30290\n",
       "\\end{enumerate*}\n"
      ],
      "text/markdown": [
       "1. 213\n",
       "2. 30290\n",
       "\n",
       "\n"
      ],
      "text/plain": [
       "[1]   213 30290"
      ]
     },
     "metadata": {},
     "output_type": "display_data"
    },
    {
     "name": "stdout",
     "output_type": "stream",
     "text": [
      "                   ea2df9bcd7f6a10e0fa509d237d19c6d\n",
      "X1.Eurasian.Beaver                                0\n",
      "X101.Horse                                        2\n",
      "X102.Kulan                                        0\n",
      "X109.Red.Fox                                      0\n",
      "X110.Noctule                                      0\n",
      "                   130b094f31455943fb20899a36af8afd\n",
      "X1.Eurasian.Beaver                                0\n",
      "X101.Horse                                        0\n",
      "X102.Kulan                                        0\n",
      "X109.Red.Fox                                      0\n",
      "X110.Noctule                                      0\n",
      "                   b9b9562a0f34ad60c552f7f46d7a4b3b\n",
      "X1.Eurasian.Beaver                                0\n",
      "X101.Horse                                        0\n",
      "X102.Kulan                                        0\n",
      "X109.Red.Fox                                      0\n",
      "X110.Noctule                                      0\n",
      "                   289f16b7043438e2880de25012fd0ba4\n",
      "X1.Eurasian.Beaver                                0\n",
      "X101.Horse                                        0\n",
      "X102.Kulan                                        0\n",
      "X109.Red.Fox                                      0\n",
      "X110.Noctule                                      0\n",
      "                   f7dfb53e3c495fba143f3b5ad9dc4b9c\n",
      "X1.Eurasian.Beaver                                0\n",
      "X101.Horse                                        0\n",
      "X102.Kulan                                        0\n",
      "X109.Red.Fox                                      0\n",
      "X110.Noctule                                      0\n"
     ]
    }
   ],
   "source": [
    "# ordering by tree\n",
    "otu = otu[,microbe_tree$tip.label]\n",
    "otu %>% dim\n",
    "otu[1:5,1:5] %>% print"
   ]
  },
  {
   "cell_type": "code",
   "execution_count": 10,
   "metadata": {
    "ExecuteTime": {
     "end_time": "2018-07-07T06:34:51.388769Z",
     "start_time": "2018-07-07T05:43:34.612Z"
    },
    "code_folding": []
   },
   "outputs": [],
   "source": [
    "# Faith's PD\n",
    "# ## TODO: use PhyloMeasures for much faster calculation\n",
    "# pd_div = picante::pd(otu, microbe_tree)\n",
    "# pd_div %>% status"
   ]
  },
  {
   "cell_type": "code",
   "execution_count": 11,
   "metadata": {
    "ExecuteTime": {
     "end_time": "2018-07-07T06:34:51.420084Z",
     "start_time": "2018-07-07T05:43:34.752Z"
    }
   },
   "outputs": [],
   "source": [
    "# adding to full alpha-div table\n",
    "# alpha_div = cbind(alpha_div, pd_div[rownames(alpha_div),])\n",
    "# alpha_div %>% status"
   ]
  },
  {
   "cell_type": "markdown",
   "metadata": {},
   "source": [
    "## Writing"
   ]
  },
  {
   "cell_type": "code",
   "execution_count": 12,
   "metadata": {
    "ExecuteTime": {
     "end_time": "2018-07-07T06:34:51.477875Z",
     "start_time": "2018-07-07T05:43:35.969Z"
    }
   },
   "outputs": [
    {
     "name": "stdout",
     "output_type": "stream",
     "text": [
      "File writen: /ebio/abt3_projects/Georg_animal_feces/data/16S/LLA/diversity//alpha_div_phyloseq.RDS \n"
     ]
    }
   ],
   "source": [
    "out_file = file.path(work_dir, 'alpha_div_phyloseq.RDS')\n",
    "saveRDS(alpha_div, out_file)\n",
    "cat('File writen:', out_file, '\\n')"
   ]
  },
  {
   "cell_type": "markdown",
   "metadata": {},
   "source": [
    "## Summarizing"
   ]
  },
  {
   "cell_type": "code",
   "execution_count": 13,
   "metadata": {
    "ExecuteTime": {
     "end_time": "2018-07-07T06:34:51.772139Z",
     "start_time": "2018-07-07T05:43:36.969Z"
    }
   },
   "outputs": [
    {
     "name": "stdout",
     "output_type": "stream",
     "text": [
      "[1] 1917   13\n"
     ]
    },
    {
     "data": {
      "text/html": [
       "<table>\n",
       "<thead><tr><th scope=col>Sample_ID</th><th scope=col>Index</th><th scope=col>Index_value</th><th scope=col>class</th><th scope=col>order</th><th scope=col>family</th><th scope=col>genus</th><th scope=col>scientific_name</th><th scope=col>diet</th><th scope=col>habitat</th><th scope=col>habitat_detail</th><th scope=col>captive_wild</th><th scope=col>sample_type</th></tr></thead>\n",
       "<tbody>\n",
       "\t<tr><td>X1.Eurasian.Beaver </td><td>Observed           </td><td>158                </td><td>Mammalia           </td><td>Rodentia           </td><td>Castoridae         </td><td>Castor             </td><td>Castor_fiber       </td><td>herbivore          </td><td>terrestrial habitat</td><td>terrestrial habitat</td><td>wild               </td><td>feces              </td></tr>\n",
       "\t<tr><td>X101.Horse         </td><td>Observed           </td><td>933                </td><td>Mammalia           </td><td>Perissodactyla     </td><td>Equidae            </td><td>Equus              </td><td>Equus_caballus     </td><td>herbivore          </td><td>terrestrial habitat</td><td>grassland          </td><td>captive            </td><td>feces              </td></tr>\n",
       "\t<tr><td>X102.Kulan         </td><td>Observed           </td><td>422                </td><td>Mammalia           </td><td>Perissodactyla     </td><td>Equidae            </td><td>Equus              </td><td>Equus_hemionus     </td><td>herbivore          </td><td>terrestrial habitat</td><td>grassland          </td><td>wild               </td><td>feces              </td></tr>\n",
       "</tbody>\n",
       "</table>\n"
      ],
      "text/latex": [
       "\\begin{tabular}{r|lllllllllllll}\n",
       " Sample\\_ID & Index & Index\\_value & class & order & family & genus & scientific\\_name & diet & habitat & habitat\\_detail & captive\\_wild & sample\\_type\\\\\n",
       "\\hline\n",
       "\t X1.Eurasian.Beaver  & Observed            & 158                 & Mammalia            & Rodentia            & Castoridae          & Castor              & Castor\\_fiber      & herbivore           & terrestrial habitat & terrestrial habitat & wild                & feces              \\\\\n",
       "\t X101.Horse          & Observed            & 933                 & Mammalia            & Perissodactyla      & Equidae             & Equus               & Equus\\_caballus    & herbivore           & terrestrial habitat & grassland           & captive             & feces              \\\\\n",
       "\t X102.Kulan          & Observed            & 422                 & Mammalia            & Perissodactyla      & Equidae             & Equus               & Equus\\_hemionus    & herbivore           & terrestrial habitat & grassland           & wild                & feces              \\\\\n",
       "\\end{tabular}\n"
      ],
      "text/markdown": [
       "\n",
       "Sample_ID | Index | Index_value | class | order | family | genus | scientific_name | diet | habitat | habitat_detail | captive_wild | sample_type | \n",
       "|---|---|---|\n",
       "| X1.Eurasian.Beaver  | Observed            | 158                 | Mammalia            | Rodentia            | Castoridae          | Castor              | Castor_fiber        | herbivore           | terrestrial habitat | terrestrial habitat | wild                | feces               | \n",
       "| X101.Horse          | Observed            | 933                 | Mammalia            | Perissodactyla      | Equidae             | Equus               | Equus_caballus      | herbivore           | terrestrial habitat | grassland           | captive             | feces               | \n",
       "| X102.Kulan          | Observed            | 422                 | Mammalia            | Perissodactyla      | Equidae             | Equus               | Equus_hemionus      | herbivore           | terrestrial habitat | grassland           | wild                | feces               | \n",
       "\n",
       "\n"
      ],
      "text/plain": [
       "  Sample_ID          Index    Index_value class    order          family    \n",
       "1 X1.Eurasian.Beaver Observed 158         Mammalia Rodentia       Castoridae\n",
       "2 X101.Horse         Observed 933         Mammalia Perissodactyla Equidae   \n",
       "3 X102.Kulan         Observed 422         Mammalia Perissodactyla Equidae   \n",
       "  genus  scientific_name diet      habitat             habitat_detail     \n",
       "1 Castor Castor_fiber    herbivore terrestrial habitat terrestrial habitat\n",
       "2 Equus  Equus_caballus  herbivore terrestrial habitat grassland          \n",
       "3 Equus  Equus_hemionus  herbivore terrestrial habitat grassland          \n",
       "  captive_wild sample_type\n",
       "1 wild         feces      \n",
       "2 captive      feces      \n",
       "3 wild         feces      "
      ]
     },
     "metadata": {},
     "output_type": "display_data"
    }
   ],
   "source": [
    "# formatting\n",
    "alpha_div_f = alpha_div %>%\n",
    "    mutate(Sample_ID = rownames(.)) %>%\n",
    "    gather(Index, Index_value, - Sample_ID) %>%\n",
    "    inner_join(metadata, c('Sample_ID')) \n",
    "\n",
    "alpha_div_f %>% status"
   ]
  },
  {
   "cell_type": "code",
   "execution_count": 14,
   "metadata": {
    "ExecuteTime": {
     "end_time": "2018-07-07T06:34:58.340678Z",
     "start_time": "2018-07-07T05:43:37.126Z"
    }
   },
   "outputs": [
    {
     "name": "stderr",
     "output_type": "stream",
     "text": [
      "Warning message:\n",
      "“Removed 2 rows containing non-finite values (stat_boxplot).”"
     ]
    },
    {
     "data": {
      "image/png": "[encoded data removed]",
      "text/plain": [
       "plot without title"
      ]
     },
     "metadata": {},
     "output_type": "display_data"
    }
   ],
   "source": [
    "# plotting by metric & host class\n",
    "p = ggplot(alpha_div_f , aes(class, Index_value)) +\n",
    "    geom_boxplot() +\n",
    "    labs(x='Class', y='Value') +\n",
    "    facet_wrap(~ Index, scales='free_y') +\n",
    "    theme_bw() +\n",
    "    theme(\n",
    "        axis.text.x = element_text(angle=65, hjust=1)\n",
    "    )\n",
    "\n",
    "options(repr.plot.width=8, repr.plot.height=5)\n",
    "plot(p)"
   ]
  },
  {
   "cell_type": "code",
   "execution_count": 15,
   "metadata": {
    "ExecuteTime": {
     "end_time": "2018-07-07T06:35:01.652275Z",
     "start_time": "2018-07-07T05:43:37.256Z"
    }
   },
   "outputs": [
    {
     "data": {
      "image/png": "[encoded data removed]",
      "text/plain": [
       "plot without title"
      ]
     },
     "metadata": {},
     "output_type": "display_data"
    }
   ],
   "source": [
    "# plotting by metric & host class\n",
    "to_keep = c('Observed', 'Chao1', 'Shannon', 'PD')\n",
    "\n",
    "p = ggplot(alpha_div_f %>% filter(Index %in% to_keep), \n",
    "           aes(class, Index_value)) +\n",
    "    geom_boxplot() +\n",
    "    labs(x='Class', y='Value') +\n",
    "    facet_wrap(~ Index, scales='free_y') +\n",
    "    theme_bw() +\n",
    "    theme(\n",
    "        axis.text.x = element_text(angle=65, hjust=1)\n",
    "    )\n",
    "\n",
    "options(repr.plot.width=5, repr.plot.height=4)\n",
    "plot(p)"
   ]
  },
  {
   "cell_type": "code",
   "execution_count": 16,
   "metadata": {
    "ExecuteTime": {
     "end_time": "2018-07-07T06:35:03.108745Z",
     "start_time": "2018-07-07T05:43:38.072Z"
    }
   },
   "outputs": [
    {
     "data": {
      "image/png": "[encoded data removed]",
      "text/plain": [
       "plot without title"
      ]
     },
     "metadata": {},
     "output_type": "display_data"
    }
   ],
   "source": [
    "# plotting by metric & host diet\n",
    "p = ggplot(alpha_div_f %>% filter(Index %in% to_keep), \n",
    "           aes(diet, Index_value)) +\n",
    "    geom_boxplot() +\n",
    "    labs(x='Diet', y='Value') +\n",
    "    facet_wrap(~ Index, scales='free_y') +\n",
    "    theme_bw() +\n",
    "    theme(\n",
    "        axis.text.x = element_text(angle=65, hjust=1)\n",
    "    )\n",
    "\n",
    "options(repr.plot.width=5, repr.plot.height=4)\n",
    "plot(p)"
   ]
  },
  {
   "cell_type": "code",
   "execution_count": 17,
   "metadata": {
    "ExecuteTime": {
     "end_time": "2018-07-07T06:35:05.836510Z",
     "start_time": "2018-07-07T05:43:38.240Z"
    }
   },
   "outputs": [
    {
     "data": {
      "image/png": "[encoded data removed]",
      "text/plain": [
       "plot without title"
      ]
     },
     "metadata": {},
     "output_type": "display_data"
    }
   ],
   "source": [
    "# plotting by metric & host class * diet\n",
    "p = ggplot(alpha_div_f %>% filter(Index %in% to_keep), \n",
    "           aes(diet, Index_value, color=class)) +\n",
    "    geom_boxplot() +\n",
    "    labs(x='Diet', y='Value') +\n",
    "    facet_wrap(~ Index, scales='free_y') +\n",
    "    theme_bw() +\n",
    "    theme(\n",
    "        axis.text.x = element_text(angle=65, hjust=1)\n",
    "    )\n",
    "\n",
    "options(repr.plot.width=7, repr.plot.height=4)\n",
    "plot(p)"
   ]
  },
  {
   "cell_type": "markdown",
   "metadata": {},
   "source": [
    "## Format for iTOL\n",
    "\n",
    "For plotting on host phylogeny"
   ]
  },
  {
   "cell_type": "markdown",
   "metadata": {},
   "source": [
    "### SpecD\n",
    "\n",
    "Summarizing by species"
   ]
  },
  {
   "cell_type": "code",
   "execution_count": 18,
   "metadata": {
    "ExecuteTime": {
     "end_time": "2018-07-07T06:35:06.083181Z",
     "start_time": "2018-07-07T05:43:39.459Z"
    }
   },
   "outputs": [
    {
     "name": "stdout",
     "output_type": "stream",
     "text": [
      "File written: /ebio/abt3_projects/Georg_animal_feces/data/16S/LLA/diversity//SpecD_itol-boxplot_shannon_phyloseq.txt \n"
     ]
    }
   ],
   "source": [
    "# shannon index\n",
    "alpha_div_f_s = alpha_div_f %>% \n",
    "    filter(Index == 'Shannon') %>%\n",
    "    group_by(scientific_name) %>%\n",
    "    summarize(\n",
    "        minimum = min(Index_value, na.rm=TRUE),\n",
    "        q1 = quantile(Index_value, 0.25, na.rm=TRUE),\n",
    "        median = median(Index_value, na.rm=TRUE),\n",
    "        q3 = quantile(Index_value, 0.75, na.rm=TRUE),\n",
    "        maximum = max(Index_value, na.rm=TRUE)\n",
    "    ) %>%\n",
    "    ungroup()\n",
    "\n",
    "F = file.path(work_dir, 'SpecD_itol-boxplot_shannon_phyloseq.txt')\n",
    "itol_boxplot(alpha_div_f_s, 'Shannon', F)"
   ]
  },
  {
   "cell_type": "code",
   "execution_count": 19,
   "metadata": {
    "ExecuteTime": {
     "end_time": "2018-07-07T06:35:06.259261Z",
     "start_time": "2018-07-07T05:43:39.600Z"
    }
   },
   "outputs": [
    {
     "name": "stdout",
     "output_type": "stream",
     "text": [
      "File written: /ebio/abt3_projects/Georg_animal_feces/data/16S/LLA/diversity//SpecD_itol-boxplot_faithPD_phyloseq.txt \n"
     ]
    }
   ],
   "source": [
    "# shannon index\n",
    "alpha_div_f_s = alpha_div_f %>% \n",
    "    filter(Index == 'PD') %>%\n",
    "    group_by(scientific_name) %>%\n",
    "    summarize(\n",
    "        minimum = min(Index_value, na.rm=TRUE),\n",
    "        q1 = quantile(Index_value, 0.25, na.rm=TRUE),\n",
    "        median = median(Index_value, na.rm=TRUE),\n",
    "        q3 = quantile(Index_value, 0.75, na.rm=TRUE),\n",
    "        maximum = max(Index_value, na.rm=TRUE)\n",
    "    ) %>%\n",
    "    ungroup()\n",
    "\n",
    "F = file.path(work_dir, 'SpecD_itol-boxplot_faithPD_phyloseq.txt')\n",
    "itol_boxplot(alpha_div_f_s, 'Faiths_PD', F)"
   ]
  },
  {
   "cell_type": "markdown",
   "metadata": {},
   "source": [
    "# Beta-diversity"
   ]
  },
  {
   "cell_type": "code",
   "execution_count": 20,
   "metadata": {
    "ExecuteTime": {
     "end_time": "2018-07-07T06:35:17.480851Z",
     "start_time": "2018-07-07T05:43:40.819Z"
    }
   },
   "outputs": [
    {
     "data": {
      "text/plain": [
       "phyloseq-class experiment-level object\n",
       "otu_table()   OTU Table:         [ 30290 taxa and 213 samples ]\n",
       "sample_data() Sample Data:       [ 213 samples by 171 sample variables ]\n",
       "tax_table()   Taxonomy Table:    [ 30290 taxa by 7 taxonomic ranks ]\n",
       "phy_tree()    Phylogenetic Tree: [ 30290 tips and 29752 internal nodes ]"
      ]
     },
     "metadata": {},
     "output_type": "display_data"
    }
   ],
   "source": [
    "# TSS transform\n",
    "physeq_tss = transform_sample_counts(physeq, function(x) x / sum(x) )\n",
    "physeq_tss"
   ]
  },
  {
   "cell_type": "code",
   "execution_count": 21,
   "metadata": {
    "ExecuteTime": {
     "end_time": "2018-07-07T06:40:06.827484Z",
     "start_time": "2018-07-07T05:43:41.759Z"
    }
   },
   "outputs": [
    {
     "data": {
      "text/html": [
       "4"
      ],
      "text/latex": [
       "4"
      ],
      "text/markdown": [
       "4"
      ],
      "text/plain": [
       "[1] 4"
      ]
     },
     "metadata": {},
     "output_type": "display_data"
    }
   ],
   "source": [
    "# calculating with phyloseq (in parallel)\n",
    "methods = list(jaccard = 'jaccard', \n",
    "               bray = 'bray', \n",
    "               unifrac = 'unifrac',\n",
    "               wunifrac = 'wunifrac')\n",
    "\n",
    "doParallel::registerDoParallel(threads)\n",
    "beta_div = plyr::llply(methods, function(x) phyloseq::distance(physeq, method=x), .parallel=TRUE)\n",
    "beta_div %>% length"
   ]
  },
  {
   "cell_type": "code",
   "execution_count": 22,
   "metadata": {
    "ExecuteTime": {
     "end_time": "2018-07-07T06:40:06.956019Z",
     "start_time": "2018-07-07T05:43:42.832Z"
    }
   },
   "outputs": [
    {
     "data": {
      "text/plain": [
       "$jaccard\n",
       "   Min. 1st Qu.  Median    Mean 3rd Qu.    Max. \n",
       " 0.1988  0.9992  1.0000  0.9937  1.0000  1.0000 \n",
       "\n",
       "$bray\n",
       "   Min. 1st Qu.  Median    Mean 3rd Qu.    Max. \n",
       " 0.1104  0.9984  1.0000  0.9890  1.0000  1.0000 \n",
       "\n",
       "$unifrac\n",
       "   Min. 1st Qu.  Median    Mean 3rd Qu.    Max. \n",
       " 0.2921  0.9668  0.9954  0.9766  0.9993  1.0000 \n",
       "\n",
       "$wunifrac\n",
       "    Min.  1st Qu.   Median     Mean  3rd Qu.     Max. \n",
       "0.001494 0.024229 0.029821 0.033421 0.037324 0.197845 \n"
      ]
     },
     "metadata": {},
     "output_type": "display_data"
    }
   ],
   "source": [
    "# summary\n",
    "lapply(beta_div, function(x) x %>% as.vector %>% summary)"
   ]
  },
  {
   "cell_type": "markdown",
   "metadata": {},
   "source": [
    "# --debug--"
   ]
  },
  {
   "cell_type": "code",
   "execution_count": null,
   "metadata": {
    "ExecuteTime": {
     "end_time": "2018-06-15T13:48:34.013748Z",
     "start_time": "2018-06-15T13:47:57.344Z"
    }
   },
   "outputs": [],
   "source": [
    "doParallel::registerDoParallel(threads)\n",
    "weighted_unif = phyloseq::UniFrac(physeq, weighted=TRUE, normalized=TRUE, parallel=TRUE)"
   ]
  },
  {
   "cell_type": "code",
   "execution_count": null,
   "metadata": {
    "ExecuteTime": {
     "end_time": "2018-06-15T13:48:34.071994Z",
     "start_time": "2018-06-15T13:47:57.759Z"
    }
   },
   "outputs": [],
   "source": [
    "weighted_unif %>% as.vector %>% summary"
   ]
  },
  {
   "cell_type": "code",
   "execution_count": null,
   "metadata": {
    "ExecuteTime": {
     "end_time": "2018-06-15T13:48:59.207316Z",
     "start_time": "2018-06-15T13:47:58.935Z"
    }
   },
   "outputs": [],
   "source": [
    "doParallel::registerDoParallel(threads)\n",
    "weighted_unif = phyloseq::UniFrac(physeq, weighted=TRUE, normalized=FALSE, parallel=TRUE)"
   ]
  },
  {
   "cell_type": "code",
   "execution_count": null,
   "metadata": {
    "ExecuteTime": {
     "end_time": "2018-06-15T13:48:59.248934Z",
     "start_time": "2018-06-15T13:47:59.087Z"
    }
   },
   "outputs": [],
   "source": [
    "weighted_unif %>% as.vector %>% summary"
   ]
  },
  {
   "cell_type": "code",
   "execution_count": null,
   "metadata": {
    "ExecuteTime": {
     "end_time": "2018-06-15T13:50:05.486114Z",
     "start_time": "2018-06-15T13:49:17.870Z"
    }
   },
   "outputs": [],
   "source": [
    "doParallel::registerDoParallel(threads)\n",
    "weighted_unif = phyloseq::UniFrac(physeq_tss, weighted=TRUE, normalized=TRUE, parallel=TRUE)"
   ]
  },
  {
   "cell_type": "code",
   "execution_count": null,
   "metadata": {
    "ExecuteTime": {
     "end_time": "2018-06-15T13:50:05.533781Z",
     "start_time": "2018-06-15T13:49:24.219Z"
    }
   },
   "outputs": [],
   "source": [
    "weighted_unif %>% as.vector %>% summary"
   ]
  },
  {
   "cell_type": "code",
   "execution_count": null,
   "metadata": {
    "ExecuteTime": {
     "end_time": "2018-06-15T13:50:36.048793Z",
     "start_time": "2018-06-15T13:49:30.060Z"
    }
   },
   "outputs": [],
   "source": [
    "doParallel::registerDoParallel(threads)\n",
    "weighted_unif = phyloseq::UniFrac(physeq_tss, weighted=TRUE, normalized=FALSE, parallel=TRUE)"
   ]
  },
  {
   "cell_type": "code",
   "execution_count": null,
   "metadata": {
    "ExecuteTime": {
     "end_time": "2018-06-15T13:50:36.091694Z",
     "start_time": "2018-06-15T13:49:35.348Z"
    }
   },
   "outputs": [],
   "source": [
    "weighted_unif %>% as.vector %>% summary"
   ]
  },
  {
   "cell_type": "markdown",
   "metadata": {},
   "source": [
    "## Writing"
   ]
  },
  {
   "cell_type": "code",
   "execution_count": 23,
   "metadata": {
    "ExecuteTime": {
     "end_time": "2018-07-07T06:40:10.102524Z",
     "start_time": "2018-07-07T05:43:44.592Z"
    }
   },
   "outputs": [
    {
     "name": "stdout",
     "output_type": "stream",
     "text": [
      "File writen: /ebio/abt3_projects/Georg_animal_feces/data/16S/LLA/diversity//beta_div_phyloseq.RDS \n"
     ]
    }
   ],
   "source": [
    "out_file = file.path(work_dir, 'beta_div_phyloseq.RDS')\n",
    "saveRDS(beta_div, out_file)\n",
    "cat('File writen:', out_file, '\\n')"
   ]
  },
  {
   "cell_type": "markdown",
   "metadata": {},
   "source": [
    "# sessionInfo"
   ]
  },
  {
   "cell_type": "code",
   "execution_count": 24,
   "metadata": {
    "ExecuteTime": {
     "end_time": "2018-07-07T06:40:10.808665Z",
     "start_time": "2018-07-07T05:43:45.408Z"
    }
   },
   "outputs": [
    {
     "data": {
      "text/plain": [
       "R version 3.4.1 (2017-06-30)\n",
       "Platform: x86_64-pc-linux-gnu (64-bit)\n",
       "Running under: Ubuntu 16.04.4 LTS\n",
       "\n",
       "Matrix products: default\n",
       "BLAS: /ebio/abt3_projects/software/miniconda3/envs/py3_physeq_eco/lib/R/lib/libRblas.so\n",
       "LAPACK: /ebio/abt3_projects/software/miniconda3/envs/py3_physeq_eco/lib/R/lib/libRlapack.so\n",
       "\n",
       "locale:\n",
       " [1] LC_CTYPE=en_US.UTF-8       LC_NUMERIC=C              \n",
       " [3] LC_TIME=en_US.UTF-8        LC_COLLATE=en_US.UTF-8    \n",
       " [5] LC_MONETARY=en_US.UTF-8    LC_MESSAGES=en_US.UTF-8   \n",
       " [7] LC_PAPER=en_US.UTF-8       LC_NAME=C                 \n",
       " [9] LC_ADDRESS=C               LC_TELEPHONE=C            \n",
       "[11] LC_MEASUREMENT=en_US.UTF-8 LC_IDENTIFICATION=C       \n",
       "\n",
       "attached base packages:\n",
       "[1] stats     graphics  grDevices utils     datasets  methods   base     \n",
       "\n",
       "other attached packages:\n",
       " [1] bindrcpp_0.2    picante_1.6-2   nlme_3.1-137    vegan_2.4-3    \n",
       " [5] lattice_0.20-35 permute_0.9-4   ape_5.0         phyloseq_1.22.3\n",
       " [9] ggplot2_2.2.1   tidyr_0.7.1     dplyr_0.7.4    \n",
       "\n",
       "loaded via a namespace (and not attached):\n",
       " [1] Rcpp_0.12.14        Biostrings_2.46.0   assertthat_0.2.0   \n",
       " [4] digest_0.6.13       foreach_1.4.3       IRdisplay_0.4.4    \n",
       " [7] R6_2.2.2            plyr_1.8.4          repr_0.10          \n",
       "[10] stats4_3.4.1        evaluate_0.10.1     pillar_1.2.2       \n",
       "[13] zlibbioc_1.24.0     rlang_0.2.0         lazyeval_0.2.0     \n",
       "[16] uuid_0.1-2          data.table_1.11.4   S4Vectors_0.16.0   \n",
       "[19] Matrix_1.2-7.1      labeling_0.3        splines_3.4.1      \n",
       "[22] stringr_1.2.0       igraph_1.2.1        munsell_0.4.3      \n",
       "[25] compiler_3.4.1      pkgconfig_2.0.1     BiocGenerics_0.24.0\n",
       "[28] multtest_2.34.0     mgcv_1.8-17         tidyselect_0.2.3   \n",
       "[31] biomformat_1.6.0    tibble_1.4.2        IRanges_2.12.0     \n",
       "[34] codetools_0.2-15    crayon_1.3.4        MASS_7.3-45        \n",
       "[37] grid_3.4.1          jsonlite_1.5        gtable_0.2.0       \n",
       "[40] magrittr_1.5        scales_0.5.0        stringi_1.1.6      \n",
       "[43] XVector_0.18.0      reshape2_1.4.2      doParallel_1.0.10  \n",
       "[46] IRkernel_0.8.11     iterators_1.0.8     tools_3.4.1        \n",
       "[49] ade4_1.7-8          Biobase_2.38.0      glue_1.2.0         \n",
       "[52] purrr_0.2.2         parallel_3.4.1      survival_2.40-1    \n",
       "[55] colorspace_1.3-2    rhdf5_2.22.0        cluster_2.0.6      \n",
       "[58] pbdZMQ_0.3-1        bindr_0.1.1        "
      ]
     },
     "metadata": {},
     "output_type": "display_data"
    }
   ],
   "source": [
    "sessionInfo()"
   ]
  },
  {
   "cell_type": "code",
   "execution_count": null,
   "metadata": {},
   "outputs": [],
   "source": []
  }
 ],
 "metadata": {
  "kernelspec": {
   "display_name": "R [conda env:py3_physeq_eco]",
   "language": "R",
   "name": "conda-env-py3_physeq_eco-r"
  },
  "language_info": {
   "codemirror_mode": "r",
   "file_extension": ".r",
   "mimetype": "text/x-r-source",
   "name": "R",
   "pygments_lexer": "r",
   "version": "3.4.1"
  },
  "notify_time": "30",
  "toc": {
   "nav_menu": {},
   "number_sections": true,
   "sideBar": true,
   "skip_h1_title": false,
   "toc_cell": true,
   "toc_position": {},
   "toc_section_display": "block",
   "toc_window_display": true
  }
 },
 "nbformat": 4,
 "nbformat_minor": 2
}
