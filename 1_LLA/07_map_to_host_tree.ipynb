{
 "cells": [
  {
   "cell_type": "markdown",
   "metadata": {
    "toc": true
   },
   "source": [
    "<h1>Table of Contents<span class=\"tocSkip\"></span></h1>\n",
    "<div class=\"toc\"><ul class=\"toc-item\"><li><span><a href=\"#Goal\" data-toc-modified-id=\"Goal-1\"><span class=\"toc-item-num\">1&nbsp;&nbsp;</span>Goal</a></span></li><li><span><a href=\"#Var\" data-toc-modified-id=\"Var-2\"><span class=\"toc-item-num\">2&nbsp;&nbsp;</span>Var</a></span></li><li><span><a href=\"#Init\" data-toc-modified-id=\"Init-3\"><span class=\"toc-item-num\">3&nbsp;&nbsp;</span>Init</a></span></li><li><span><a href=\"#Load\" data-toc-modified-id=\"Load-4\"><span class=\"toc-item-num\">4&nbsp;&nbsp;</span>Load</a></span></li><li><span><a href=\"#Relabeling-internal-nodes-of-host-tree\" data-toc-modified-id=\"Relabeling-internal-nodes-of-host-tree-5\"><span class=\"toc-item-num\">5&nbsp;&nbsp;</span>Relabeling internal nodes of host tree</a></span></li><li><span><a href=\"#Check\" data-toc-modified-id=\"Check-6\"><span class=\"toc-item-num\">6&nbsp;&nbsp;</span>Check</a></span></li><li><span><a href=\"#Diet\" data-toc-modified-id=\"Diet-7\"><span class=\"toc-item-num\">7&nbsp;&nbsp;</span>Diet</a></span><ul class=\"toc-item\"><li><span><a href=\"#SpecD\" data-toc-modified-id=\"SpecD-7.1\"><span class=\"toc-item-num\">7.1&nbsp;&nbsp;</span>SpecD</a></span></li><li><span><a href=\"#IndD\" data-toc-modified-id=\"IndD-7.2\"><span class=\"toc-item-num\">7.2&nbsp;&nbsp;</span>IndD</a></span></li></ul></li><li><span><a href=\"#Diet-detailed\" data-toc-modified-id=\"Diet-detailed-8\"><span class=\"toc-item-num\">8&nbsp;&nbsp;</span>Diet detailed</a></span><ul class=\"toc-item\"><li><span><a href=\"#SpecD\" data-toc-modified-id=\"SpecD-8.1\"><span class=\"toc-item-num\">8.1&nbsp;&nbsp;</span>SpecD</a></span></li><li><span><a href=\"#IndD\" data-toc-modified-id=\"IndD-8.2\"><span class=\"toc-item-num\">8.2&nbsp;&nbsp;</span>IndD</a></span></li></ul></li><li><span><a href=\"#Habitat\" data-toc-modified-id=\"Habitat-9\"><span class=\"toc-item-num\">9&nbsp;&nbsp;</span>Habitat</a></span><ul class=\"toc-item\"><li><span><a href=\"#SpecD\" data-toc-modified-id=\"SpecD-9.1\"><span class=\"toc-item-num\">9.1&nbsp;&nbsp;</span>SpecD</a></span></li><li><span><a href=\"#IndD\" data-toc-modified-id=\"IndD-9.2\"><span class=\"toc-item-num\">9.2&nbsp;&nbsp;</span>IndD</a></span></li></ul></li><li><span><a href=\"#Wild-vs-captive\" data-toc-modified-id=\"Wild-vs-captive-10\"><span class=\"toc-item-num\">10&nbsp;&nbsp;</span>Wild vs captive</a></span><ul class=\"toc-item\"><li><span><a href=\"#SpecD\" data-toc-modified-id=\"SpecD-10.1\"><span class=\"toc-item-num\">10.1&nbsp;&nbsp;</span>SpecD</a></span></li><li><span><a href=\"#IndD\" data-toc-modified-id=\"IndD-10.2\"><span class=\"toc-item-num\">10.2&nbsp;&nbsp;</span>IndD</a></span></li></ul></li><li><span><a href=\"#Sample-type\" data-toc-modified-id=\"Sample-type-11\"><span class=\"toc-item-num\">11&nbsp;&nbsp;</span>Sample type</a></span><ul class=\"toc-item\"><li><span><a href=\"#SpecD\" data-toc-modified-id=\"SpecD-11.1\"><span class=\"toc-item-num\">11.1&nbsp;&nbsp;</span>SpecD</a></span></li><li><span><a href=\"#IndD\" data-toc-modified-id=\"IndD-11.2\"><span class=\"toc-item-num\">11.2&nbsp;&nbsp;</span>IndD</a></span></li></ul></li><li><span><a href=\"#Phylum-abundances\" data-toc-modified-id=\"Phylum-abundances-12\"><span class=\"toc-item-num\">12&nbsp;&nbsp;</span>Phylum abundances</a></span><ul class=\"toc-item\"><li><span><a href=\"#SpecD\" data-toc-modified-id=\"SpecD-12.1\"><span class=\"toc-item-num\">12.1&nbsp;&nbsp;</span>SpecD</a></span></li><li><span><a href=\"#IndD\" data-toc-modified-id=\"IndD-12.2\"><span class=\"toc-item-num\">12.2&nbsp;&nbsp;</span>IndD</a></span></li></ul></li><li><span><a href=\"#sessionInfo\" data-toc-modified-id=\"sessionInfo-13\"><span class=\"toc-item-num\">13&nbsp;&nbsp;</span>sessionInfo</a></span></li></ul></div>"
   ]
  },
  {
   "cell_type": "markdown",
   "metadata": {},
   "source": [
    "# Goal\n",
    "\n",
    "* Map metadata to host tree"
   ]
  },
  {
   "cell_type": "markdown",
   "metadata": {},
   "source": [
    "# Var"
   ]
  },
  {
   "cell_type": "code",
   "execution_count": 1,
   "metadata": {
    "ExecuteTime": {
     "end_time": "2018-08-08T13:05:06.698405Z",
     "start_time": "2018-08-08T13:05:14.195Z"
    }
   },
   "outputs": [],
   "source": [
    "work_dir = '/ebio/abt3_projects/Georg_animal_feces/data/animal/phylogeny/TT/'\n",
    "\n",
    "# phyloseq \n",
    "physeq_file = '/ebio/abt3_projects/Georg_animal_feces/data/16S/LLA/phyloseq/physeq_r5k.RDS'\n",
    "\n",
    "# host tree (one per spieces; SpecD)\n",
    "host_tree_SpecD_file = '/ebio/abt3_projects/Georg_animal_feces/data/animal/phylogeny/TT/unified_metadata_complete_20180625_rn_16S-r5k_SpecD.nwk'\n",
    "# host tree (one per host; IndD)\n",
    "host_tree_IndD_file = '/ebio/abt3_projects/Georg_animal_feces/data/animal/phylogeny/TT/unified_metadata_complete_20180625_rn_16S-r5k_IndD.nwk'\n",
    "\n",
    "# old dataset version of SpecD host tree\n",
    "host_tree_SpecD_old_file = '/ebio/abt3_projects/Georg_animal_feces/data/animal/phylogeny/TT/archive/unified_metadata_20180227_r5k_rn.nwk'\n"
   ]
  },
  {
   "cell_type": "markdown",
   "metadata": {},
   "source": [
    "# Init"
   ]
  },
  {
   "cell_type": "code",
   "execution_count": 2,
   "metadata": {
    "ExecuteTime": {
     "end_time": "2018-08-08T13:05:22.460256Z",
     "start_time": "2018-08-08T13:05:14.444Z"
    }
   },
   "outputs": [
    {
     "name": "stderr",
     "output_type": "stream",
     "text": [
      "\n",
      "Attaching package: ‘dplyr’\n",
      "\n",
      "The following objects are masked from ‘package:stats’:\n",
      "\n",
      "    filter, lag\n",
      "\n",
      "The following objects are masked from ‘package:base’:\n",
      "\n",
      "    intersect, setdiff, setequal, union\n",
      "\n"
     ]
    }
   ],
   "source": [
    "library(dplyr)\n",
    "library(tidyr)\n",
    "library(ggplot2)\n",
    "library(phyloseq)\n",
    "library(ape)\n",
    "source('/ebio/abt3_projects/Georg_animal_feces/code/init.R') \n",
    "source('/ebio/abt3_projects/Georg_animal_feces/code/itol.R') "
   ]
  },
  {
   "cell_type": "markdown",
   "metadata": {},
   "source": [
    "# Load"
   ]
  },
  {
   "cell_type": "code",
   "execution_count": 3,
   "metadata": {
    "ExecuteTime": {
     "end_time": "2018-08-08T13:05:24.281324Z",
     "start_time": "2018-08-08T13:05:15.511Z"
    }
   },
   "outputs": [
    {
     "data": {
      "text/plain": [
       "phyloseq-class experiment-level object\n",
       "otu_table()   OTU Table:         [ 30290 taxa and 213 samples ]\n",
       "sample_data() Sample Data:       [ 213 samples by 171 sample variables ]\n",
       "tax_table()   Taxonomy Table:    [ 30290 taxa by 7 taxonomic ranks ]\n",
       "phy_tree()    Phylogenetic Tree: [ 30290 tips and 29752 internal nodes ]"
      ]
     },
     "metadata": {},
     "output_type": "display_data"
    }
   ],
   "source": [
    "# phyloseq\n",
    "physeq = readRDS(physeq_file)\n",
    "physeq"
   ]
  },
  {
   "cell_type": "code",
   "execution_count": 16,
   "metadata": {
    "ExecuteTime": {
     "end_time": "2018-08-08T13:10:16.346152Z",
     "start_time": "2018-08-08T13:10:24.565Z"
    }
   },
   "outputs": [
    {
     "data": {
      "text/plain": [
       "\n",
       "Phylogenetic tree with 128 tips and 127 internal nodes.\n",
       "\n",
       "Tip labels:\n",
       "\tSander_lucioperca, Esox_lucius, Salvelinus_fontinalis, Aspius_aspius, Leuciscus_idus, Blicca_bjoerkna, ...\n",
       "Node labels:\n",
       "\t1, 2, 3, 4, 5, 6, ...\n",
       "\n",
       "Rooted; includes branch lengths."
      ]
     },
     "metadata": {},
     "output_type": "display_data"
    }
   ],
   "source": [
    "# host tree (one per species)\n",
    "host_tree_SpecD = read.tree(host_tree_SpecD_file)\n",
    "host_tree_SpecD"
   ]
  },
  {
   "cell_type": "code",
   "execution_count": 17,
   "metadata": {
    "ExecuteTime": {
     "end_time": "2018-08-08T13:10:17.657982Z",
     "start_time": "2018-08-08T13:10:25.886Z"
    }
   },
   "outputs": [
    {
     "data": {
      "text/plain": [
       "\n",
       "Phylogenetic tree with 213 tips and 177 internal nodes.\n",
       "\n",
       "Tip labels:\n",
       "\tX256.Zander, F302.Northern.Pike, X188.Brook.Trout, F300.Asp, X330.Ide, X327.Silver.Bream, ...\n",
       "Node labels:\n",
       "\t, @_22_@, @_8_@, @_7_@, @_20_@, @_17_@, ...\n",
       "\n",
       "Rooted; includes branch lengths."
      ]
     },
     "metadata": {},
     "output_type": "display_data"
    }
   ],
   "source": [
    "# host tree (all samples)\n",
    "host_tree_IndD = read.tree(host_tree_IndD_file)\n",
    "host_tree_IndD"
   ]
  },
  {
   "cell_type": "code",
   "execution_count": 6,
   "metadata": {
    "ExecuteTime": {
     "end_time": "2018-08-08T13:05:24.709125Z",
     "start_time": "2018-08-08T13:05:16.582Z"
    }
   },
   "outputs": [
    {
     "data": {
      "text/plain": [
       "\n",
       "Phylogenetic tree with 128 tips and 127 internal nodes.\n",
       "\n",
       "Tip labels:\n",
       "\tSander_lucioperca, Esox_lucius, Salvelinus_fontinalis, Aspius_aspius, Leuciscus_idus, Blicca_bjoerkna, ...\n",
       "Node labels:\n",
       "\t, @_7_@, @_2_@, @_1_@, @_6_@, @_4_@, ...\n",
       "\n",
       "Rooted; includes branch lengths."
      ]
     },
     "metadata": {},
     "output_type": "display_data"
    }
   ],
   "source": [
    "#host tree old dataset version\n",
    "host_tree_SpecD_old = read.tree(host_tree_SpecD_old_file)\n",
    "host_tree_SpecD_old"
   ]
  },
  {
   "cell_type": "code",
   "execution_count": 8,
   "metadata": {
    "ExecuteTime": {
     "end_time": "2018-08-08T13:05:30.862945Z",
     "start_time": "2018-08-08T13:05:38.726Z"
    }
   },
   "outputs": [
    {
     "name": "stderr",
     "output_type": "stream",
     "text": [
      "Warning message in class(X) <- NULL:\n",
      "“Setting class(x) to NULL;   result will no longer be an S4 object”"
     ]
    },
    {
     "name": "stdout",
     "output_type": "stream",
     "text": [
      "[1] 213 171\n"
     ]
    },
    {
     "data": {
      "text/html": [
       "<table>\n",
       "<thead><tr><th></th><th scope=col>X.SampleID</th><th scope=col>BarcodeSequence</th><th scope=col>LinkerPrimerSequence</th><th scope=col>Primer</th><th scope=col>ReversePrimer</th><th scope=col>Barcode_ID</th><th scope=col>sample_number</th><th scope=col>host_subject_id</th><th scope=col>host_german_name</th><th scope=col>host_common_name</th><th scope=col>⋯</th><th scope=col>wellplate_position_Illumina</th><th scope=col>Cornell_Dilution_DNA_Illumina</th><th scope=col>Num_Illumina</th><th scope=col>Num</th><th scope=col>sorting_454</th><th scope=col>comments_additional</th><th scope=col>DNA_box_20180622</th><th scope=col>sample_vol_20180622</th><th scope=col>sample_label_20180622</th><th scope=col>Description</th></tr></thead>\n",
       "<tbody>\n",
       "\t<tr><th scope=row>X1.Eurasian.Beaver</th><td>X1.Eurasian.Beaver   </td><td>ACTCACGGTATG         </td><td>CATGCTGCCTCCCGTAGGAGT</td><td>GCCTCCCTCGCGCCATCAG  </td><td>AGAGTTTGATCCTGGCTCAG </td><td>338R_BC0049          </td><td>1                    </td><td>1                    </td><td>Biber                </td><td>Eurasian.Beaver      </td><td>⋯                    </td><td>B12                  </td><td>4                    </td><td>120                  </td><td>18                   </td><td>18                   </td><td>NA                   </td><td>1                    </td><td>20                   </td><td>1                    </td><td>NA                   </td></tr>\n",
       "\t<tr><th scope=row>X101.Horse</th><td>X101.Horse           </td><td>ACGACGTCTTAG         </td><td>CATGCTGCCTCCCGTAGGAGT</td><td>GCCTCCCTCGCGCCATCAG  </td><td>AGAGTTTGATCCTGGCTCAG </td><td>338R_BC0030          </td><td>101                  </td><td>101                  </td><td>Hauspferd            </td><td>Horse                </td><td>⋯                    </td><td>E8                   </td><td>16                   </td><td>344                  </td><td>160                  </td><td>160                  </td><td>NA                   </td><td>2                    </td><td>20                   </td><td>101                  </td><td>NA                   </td></tr>\n",
       "\t<tr><th scope=row>X102.Kulan</th><td>X102.Kulan           </td><td>ACGAGTGCTATC         </td><td>CATGCTGCCTCCCGTAGGAGT</td><td>GCCTCCCTCGCGCCATCAG  </td><td>AGAGTTTGATCCTGGCTCAG </td><td>338R_BC0031          </td><td>102                  </td><td>102                  </td><td>Khulan               </td><td>Kulan                </td><td>⋯                    </td><td>E9                   </td><td>16                   </td><td>345                  </td><td>161                  </td><td>161                  </td><td>NA                   </td><td>2                    </td><td>20                   </td><td>102                  </td><td>NA                   </td></tr>\n",
       "</tbody>\n",
       "</table>\n"
      ],
      "text/latex": [
       "\\begin{tabular}{r|lllllllllllllllllllllllllllllllllllllllllllllllllllllllllllllllllllllllllllllllllllllllllllllllllllllllllllllllllllllllllllllllllllllllllllllllllllllllllllllllllllllllllll}\n",
       "  & X.SampleID & BarcodeSequence & LinkerPrimerSequence & Primer & ReversePrimer & Barcode\\_ID & sample\\_number & host\\_subject\\_id & host\\_german\\_name & host\\_common\\_name & ⋯ & wellplate\\_position\\_Illumina & Cornell\\_Dilution\\_DNA\\_Illumina & Num\\_Illumina & Num & sorting\\_454 & comments\\_additional & DNA\\_box\\_20180622 & sample\\_vol\\_20180622 & sample\\_label\\_20180622 & Description\\\\\n",
       "\\hline\n",
       "\tX1.Eurasian.Beaver & X1.Eurasian.Beaver    & ACTCACGGTATG          & CATGCTGCCTCCCGTAGGAGT & GCCTCCCTCGCGCCATCAG   & AGAGTTTGATCCTGGCTCAG  & 338R\\_BC0049         & 1                     & 1                     & Biber                 & Eurasian.Beaver       & ⋯                     & B12                   & 4                     & 120                   & 18                    & 18                    & NA                    & 1                     & 20                    & 1                     & NA                   \\\\\n",
       "\tX101.Horse & X101.Horse            & ACGACGTCTTAG          & CATGCTGCCTCCCGTAGGAGT & GCCTCCCTCGCGCCATCAG   & AGAGTTTGATCCTGGCTCAG  & 338R\\_BC0030         & 101                   & 101                   & Hauspferd             & Horse                 & ⋯                     & E8                    & 16                    & 344                   & 160                   & 160                   & NA                    & 2                     & 20                    & 101                   & NA                   \\\\\n",
       "\tX102.Kulan & X102.Kulan            & ACGAGTGCTATC          & CATGCTGCCTCCCGTAGGAGT & GCCTCCCTCGCGCCATCAG   & AGAGTTTGATCCTGGCTCAG  & 338R\\_BC0031         & 102                   & 102                   & Khulan                & Kulan                 & ⋯                     & E9                    & 16                    & 345                   & 161                   & 161                   & NA                    & 2                     & 20                    & 102                   & NA                   \\\\\n",
       "\\end{tabular}\n"
      ],
      "text/markdown": [
       "\n",
       "| <!--/--> | X.SampleID | BarcodeSequence | LinkerPrimerSequence | Primer | ReversePrimer | Barcode_ID | sample_number | host_subject_id | host_german_name | host_common_name | ⋯ | wellplate_position_Illumina | Cornell_Dilution_DNA_Illumina | Num_Illumina | Num | sorting_454 | comments_additional | DNA_box_20180622 | sample_vol_20180622 | sample_label_20180622 | Description | \n",
       "|---|---|---|\n",
       "| X1.Eurasian.Beaver | X1.Eurasian.Beaver    | ACTCACGGTATG          | CATGCTGCCTCCCGTAGGAGT | GCCTCCCTCGCGCCATCAG   | AGAGTTTGATCCTGGCTCAG  | 338R_BC0049           | 1                     | 1                     | Biber                 | Eurasian.Beaver       | ⋯                     | B12                   | 4                     | 120                   | 18                    | 18                    | NA                    | 1                     | 20                    | 1                     | NA                    | \n",
       "| X101.Horse | X101.Horse            | ACGACGTCTTAG          | CATGCTGCCTCCCGTAGGAGT | GCCTCCCTCGCGCCATCAG   | AGAGTTTGATCCTGGCTCAG  | 338R_BC0030           | 101                   | 101                   | Hauspferd             | Horse                 | ⋯                     | E8                    | 16                    | 344                   | 160                   | 160                   | NA                    | 2                     | 20                    | 101                   | NA                    | \n",
       "| X102.Kulan | X102.Kulan            | ACGAGTGCTATC          | CATGCTGCCTCCCGTAGGAGT | GCCTCCCTCGCGCCATCAG   | AGAGTTTGATCCTGGCTCAG  | 338R_BC0031           | 102                   | 102                   | Khulan                | Kulan                 | ⋯                     | E9                    | 16                    | 345                   | 161                   | 161                   | NA                    | 2                     | 20                    | 102                   | NA                    | \n",
       "\n",
       "\n"
      ],
      "text/plain": [
       "                   X.SampleID         BarcodeSequence LinkerPrimerSequence \n",
       "X1.Eurasian.Beaver X1.Eurasian.Beaver ACTCACGGTATG    CATGCTGCCTCCCGTAGGAGT\n",
       "X101.Horse         X101.Horse         ACGACGTCTTAG    CATGCTGCCTCCCGTAGGAGT\n",
       "X102.Kulan         X102.Kulan         ACGAGTGCTATC    CATGCTGCCTCCCGTAGGAGT\n",
       "                   Primer              ReversePrimer        Barcode_ID \n",
       "X1.Eurasian.Beaver GCCTCCCTCGCGCCATCAG AGAGTTTGATCCTGGCTCAG 338R_BC0049\n",
       "X101.Horse         GCCTCCCTCGCGCCATCAG AGAGTTTGATCCTGGCTCAG 338R_BC0030\n",
       "X102.Kulan         GCCTCCCTCGCGCCATCAG AGAGTTTGATCCTGGCTCAG 338R_BC0031\n",
       "                   sample_number host_subject_id host_german_name\n",
       "X1.Eurasian.Beaver 1             1               Biber           \n",
       "X101.Horse         101           101             Hauspferd       \n",
       "X102.Kulan         102           102             Khulan          \n",
       "                   host_common_name ⋯ wellplate_position_Illumina\n",
       "X1.Eurasian.Beaver Eurasian.Beaver  ⋯ B12                        \n",
       "X101.Horse         Horse            ⋯ E8                         \n",
       "X102.Kulan         Kulan            ⋯ E9                         \n",
       "                   Cornell_Dilution_DNA_Illumina Num_Illumina Num sorting_454\n",
       "X1.Eurasian.Beaver 4                             120          18  18         \n",
       "X101.Horse         16                            344          160 160        \n",
       "X102.Kulan         16                            345          161 161        \n",
       "                   comments_additional DNA_box_20180622 sample_vol_20180622\n",
       "X1.Eurasian.Beaver NA                  1                20                 \n",
       "X101.Horse         NA                  2                20                 \n",
       "X102.Kulan         NA                  2                20                 \n",
       "                   sample_label_20180622 Description\n",
       "X1.Eurasian.Beaver 1                     NA         \n",
       "X101.Horse         101                   NA         \n",
       "X102.Kulan         102                   NA         "
      ]
     },
     "metadata": {},
     "output_type": "display_data"
    }
   ],
   "source": [
    "# metadata\n",
    "metadata = physeq %>%\n",
    "    sample_data %>%\n",
    "    as.matrix %>%\n",
    "    as.data.frame \n",
    "\n",
    "metadata %>% dfhead"
   ]
  },
  {
   "cell_type": "markdown",
   "metadata": {},
   "source": [
    "# Relabeling internal nodes of host tree\n",
    "\n",
    "Standardizing internal node labels (if needed)"
   ]
  },
  {
   "cell_type": "code",
   "execution_count": 20,
   "metadata": {
    "ExecuteTime": {
     "end_time": "2018-08-08T13:13:00.767908Z",
     "start_time": "2018-08-08T13:13:09.013Z"
    }
   },
   "outputs": [
    {
     "data": {
      "text/plain": [
       "\n",
       "Phylogenetic tree with 128 tips and 127 internal nodes.\n",
       "\n",
       "Tip labels:\n",
       "\tSander_lucioperca, Esox_lucius, Salvelinus_fontinalis, Aspius_aspius, Leuciscus_idus, Blicca_bjoerkna, ...\n",
       "Node labels:\n",
       "\tNode1, Node2, Node3, Node4, Node5, Node6, ...\n",
       "\n",
       "Rooted; includes branch lengths."
      ]
     },
     "metadata": {},
     "output_type": "display_data"
    }
   ],
   "source": [
    "host_tree_SpecD$node.label = gsub('^', 'Node', 1:host_tree_SpecD$Nnode)\n",
    "host_tree_SpecD"
   ]
  },
  {
   "cell_type": "code",
   "execution_count": 21,
   "metadata": {
    "ExecuteTime": {
     "end_time": "2018-08-08T13:13:02.347674Z",
     "start_time": "2018-08-08T13:13:10.580Z"
    }
   },
   "outputs": [
    {
     "name": "stdout",
     "output_type": "stream",
     "text": [
      "File written: /ebio/abt3_projects/Georg_animal_feces/data/animal/phylogeny/TT/unified_metadata_complete_20180625_rn_16S-r5k_SpecD.nwk \n"
     ]
    }
   ],
   "source": [
    "write.tree(host_tree_SpecD, file=host_tree_SpecD_file)\n",
    "cat('File written:', host_tree_SpecD_file, '\\n')"
   ]
  },
  {
   "cell_type": "code",
   "execution_count": 22,
   "metadata": {
    "ExecuteTime": {
     "end_time": "2018-08-08T13:13:10.370490Z",
     "start_time": "2018-08-08T13:13:18.622Z"
    }
   },
   "outputs": [
    {
     "data": {
      "text/plain": [
       "\n",
       "Phylogenetic tree with 213 tips and 177 internal nodes.\n",
       "\n",
       "Tip labels:\n",
       "\tX256.Zander, F302.Northern.Pike, X188.Brook.Trout, F300.Asp, X330.Ide, X327.Silver.Bream, ...\n",
       "Node labels:\n",
       "\tNode1, Node2, Node3, Node4, Node5, Node6, ...\n",
       "\n",
       "Rooted; includes branch lengths."
      ]
     },
     "metadata": {},
     "output_type": "display_data"
    }
   ],
   "source": [
    "host_tree_IndD$node.label = gsub('^', 'Node', 1:host_tree_IndD$Nnode)\n",
    "host_tree_IndD"
   ]
  },
  {
   "cell_type": "code",
   "execution_count": 23,
   "metadata": {
    "ExecuteTime": {
     "end_time": "2018-08-08T13:13:11.205579Z",
     "start_time": "2018-08-08T13:13:19.429Z"
    }
   },
   "outputs": [
    {
     "name": "stdout",
     "output_type": "stream",
     "text": [
      "File written: /ebio/abt3_projects/Georg_animal_feces/data/animal/phylogeny/TT/unified_metadata_complete_20180625_rn_16S-r5k_IndD.nwk \n"
     ]
    }
   ],
   "source": [
    "write.tree(host_tree_IndD, file=host_tree_IndD_file)\n",
    "cat('File written:', host_tree_IndD_file, '\\n')"
   ]
  },
  {
   "cell_type": "markdown",
   "metadata": {},
   "source": [
    "# Check"
   ]
  },
  {
   "cell_type": "code",
   "execution_count": 24,
   "metadata": {
    "ExecuteTime": {
     "end_time": "2018-08-08T13:15:46.691507Z",
     "start_time": "2018-08-08T13:15:54.939Z"
    }
   },
   "outputs": [
    {
     "name": "stdout",
     "output_type": "stream",
     "text": [
      "character(0)\n",
      "character(0)\n"
     ]
    }
   ],
   "source": [
    "# in old host tree, but not new?\n",
    "setdiff(host_tree_SpecD_old$tip.label, host_tree_SpecD$tip.label) %>% print\n",
    "# in new host tree, but not old?\n",
    "setdiff(host_tree_SpecD$tip.label, host_tree_SpecD_old$tip.label) %>% print"
   ]
  },
  {
   "cell_type": "code",
   "execution_count": 25,
   "metadata": {
    "ExecuteTime": {
     "end_time": "2018-08-08T13:15:46.821117Z",
     "start_time": "2018-08-08T13:15:55.076Z"
    }
   },
   "outputs": [
    {
     "name": "stdout",
     "output_type": "stream",
     "text": [
      "character(0)\n",
      "character(0)\n"
     ]
    }
   ],
   "source": [
    "setdiff(metadata$scientific_name, host_tree_SpecD$tip.label) %>% print\n",
    "setdiff(host_tree_SpecD$tip.label, metadata$scientific_name) %>% print"
   ]
  },
  {
   "cell_type": "code",
   "execution_count": 26,
   "metadata": {
    "ExecuteTime": {
     "end_time": "2018-08-08T13:15:47.527120Z",
     "start_time": "2018-08-08T13:15:55.780Z"
    }
   },
   "outputs": [
    {
     "name": "stdout",
     "output_type": "stream",
     "text": [
      "character(0)\n",
      "----\n",
      "character(0)\n"
     ]
    }
   ],
   "source": [
    "setdiff(metadata$X.SampleID, host_tree_IndD$tip.label) %>% print\n",
    "cat('----\\n')\n",
    "setdiff(host_tree_IndD$tip.label, metadata$X.SampleID) %>% print"
   ]
  },
  {
   "cell_type": "markdown",
   "metadata": {},
   "source": [
    "# Diet"
   ]
  },
  {
   "cell_type": "code",
   "execution_count": 27,
   "metadata": {
    "ExecuteTime": {
     "end_time": "2018-08-08T13:15:48.728270Z",
     "start_time": "2018-08-08T13:15:56.955Z"
    }
   },
   "outputs": [
    {
     "data": {
      "text/html": [
       "<table>\n",
       "<thead><tr><th scope=col>labels</th><th scope=col>colors</th><th scope=col>shapes</th></tr></thead>\n",
       "<tbody>\n",
       "\t<tr><td>herbivore</td><td>#00FF00  </td><td>1        </td></tr>\n",
       "\t<tr><td>omnivore </td><td>#FFCC33  </td><td>1        </td></tr>\n",
       "\t<tr><td>carnivore</td><td>#FF0000  </td><td>1        </td></tr>\n",
       "</tbody>\n",
       "</table>\n"
      ],
      "text/latex": [
       "\\begin{tabular}{r|lll}\n",
       " labels & colors & shapes\\\\\n",
       "\\hline\n",
       "\t herbivore & \\#00FF00 & 1        \\\\\n",
       "\t omnivore  & \\#FFCC33 & 1        \\\\\n",
       "\t carnivore & \\#FF0000 & 1        \\\\\n",
       "\\end{tabular}\n"
      ],
      "text/markdown": [
       "\n",
       "labels | colors | shapes | \n",
       "|---|---|---|\n",
       "| herbivore | #00FF00   | 1         | \n",
       "| omnivore  | #FFCC33   | 1         | \n",
       "| carnivore | #FF0000   | 1         | \n",
       "\n",
       "\n"
      ],
      "text/plain": [
       "  labels    colors  shapes\n",
       "1 herbivore #00FF00 1     \n",
       "2 omnivore  #FFCC33 1     \n",
       "3 carnivore #FF0000 1     "
      ]
     },
     "metadata": {},
     "output_type": "display_data"
    }
   ],
   "source": [
    "# setting colors\n",
    "x = metadata$diet %>% unique\n",
    "cols = c('#00FF00', '#FFCC33', '#FF0000')\n",
    "legend = data.frame(labels = x,\n",
    "                    colors = cols,\n",
    "                    shapes = rep(1, length(labels)))\n",
    "legend"
   ]
  },
  {
   "cell_type": "markdown",
   "metadata": {},
   "source": [
    "## SpecD\n",
    "\n",
    "* One per species"
   ]
  },
  {
   "cell_type": "code",
   "execution_count": 28,
   "metadata": {
    "ExecuteTime": {
     "end_time": "2018-08-08T13:15:49.906222Z",
     "start_time": "2018-08-08T13:15:58.005Z"
    }
   },
   "outputs": [
    {
     "name": "stdout",
     "output_type": "stream",
     "text": [
      "File written: /ebio/abt3_projects/Georg_animal_feces/data/animal/phylogeny/TT//physeq_SpecD_diet-itol-col.txt \n"
     ]
    }
   ],
   "source": [
    "x = metadata %>%\n",
    "    distinct(scientific_name, diet) %>%\n",
    "    as.data.frame\n",
    "rownames(x) = x$scientific_name\n",
    "x$scientific_name = NULL\n",
    "\n",
    "itol_colorstrip(x, 'diet', 'physeq_SpecD_diet-itol-col.txt', work_dir, legend)"
   ]
  },
  {
   "cell_type": "markdown",
   "metadata": {},
   "source": [
    "## IndD\n",
    "\n",
    "* One per individual"
   ]
  },
  {
   "cell_type": "code",
   "execution_count": 29,
   "metadata": {
    "ExecuteTime": {
     "end_time": "2018-08-08T13:15:51.019522Z",
     "start_time": "2018-08-08T13:15:59.077Z"
    }
   },
   "outputs": [
    {
     "name": "stdout",
     "output_type": "stream",
     "text": [
      "File written: /ebio/abt3_projects/Georg_animal_feces/data/animal/phylogeny/TT//physeq_IndD_diet-itol-col.txt \n"
     ]
    }
   ],
   "source": [
    "x = metadata %>% \n",
    "    dplyr::select(X.SampleID, diet)\n",
    "rownames(x) = x$X.SampleID\n",
    "x$X.SampleID = NULL\n",
    "\n",
    "itol_colorstrip(x, 'diet', 'physeq_IndD_diet-itol-col.txt', work_dir, legend)"
   ]
  },
  {
   "cell_type": "markdown",
   "metadata": {},
   "source": [
    "# Diet detailed"
   ]
  },
  {
   "cell_type": "markdown",
   "metadata": {},
   "source": [
    "## SpecD"
   ]
  },
  {
   "cell_type": "code",
   "execution_count": 30,
   "metadata": {
    "ExecuteTime": {
     "end_time": "2018-08-08T13:15:51.991403Z",
     "start_time": "2018-08-08T13:16:00.195Z"
    }
   },
   "outputs": [
    {
     "data": {
      "text/plain": [
       "                 scientific_name diet_vertebrate             diet_invertebrate\n",
       " Canis_lupus             :  3    no :83          no                   :53     \n",
       " Dromaius_novaehollandiae:  2    yes:51          yes                  :80     \n",
       " Equus_caballus          :  2                    yes mainly young ones: 1     \n",
       " Giraffa_camelopardalis  :  2                                                 \n",
       " Sus_scrofa              :  2                                                 \n",
       " Acrocephalus_scirpaceus :  1                                                 \n",
       " (Other)                 :122                                                 \n",
       " diet_fruit diet_flowers_nectar_pollen diet_leaves_branches_bark_buds\n",
       " no :81     no :121                    no :84                        \n",
       " yes:53     yes: 13                    yes:50                        \n",
       "                                                                     \n",
       "                                                                     \n",
       "                                                                     \n",
       "                                                                     \n",
       "                                                                     \n",
       " diet_seeds diet_grass_waterplants diet_roots_tubers\n",
       " no :87     no :85                 no :105          \n",
       " yes:47     yes:49                 yes: 29          \n",
       "                                                    \n",
       "                                                    \n",
       "                                                    \n",
       "                                                    \n",
       "                                                    "
      ]
     },
     "metadata": {},
     "output_type": "display_data"
    }
   ],
   "source": [
    "metadata %>% \n",
    "    distinct(scientific_name, diet_vertebrate, diet_invertebrate, \n",
    "                  diet_fruit, diet_flowers_nectar_pollen, diet_leaves_branches_bark_buds, \n",
    "                  diet_seeds, diet_grass_waterplants, diet_roots_tubers) %>%\n",
    " summary"
   ]
  },
  {
   "cell_type": "code",
   "execution_count": 44,
   "metadata": {
    "ExecuteTime": {
     "end_time": "2018-08-08T13:19:38.812532Z",
     "start_time": "2018-08-08T13:19:46.996Z"
    }
   },
   "outputs": [
    {
     "name": "stderr",
     "output_type": "stream",
     "text": [
      "Warning message:\n",
      "“attributes are not identical across measure variables;\n",
      "they will be dropped”Warning message in if (color_scheme == \"color\") {:\n",
      "“the condition has length > 1 and only the first element will be used”"
     ]
    },
    {
     "name": "stdout",
     "output_type": "stream",
     "text": [
      "File written: /ebio/abt3_projects/Georg_animal_feces/data/animal/phylogeny/TT//physeq_SpecD_diet-detailed_itol-htmp.txt \n"
     ]
    }
   ],
   "source": [
    "# selecting diet-detailed\n",
    "## for differning diets, taking the average\n",
    "x = metadata %>%\n",
    "    distinct(scientific_name, diet_vertebrate, diet_invertebrate, \n",
    "             diet_fruit, diet_flowers_nectar_pollen, diet_leaves_branches_bark_buds, \n",
    "             diet_seeds, diet_grass_waterplants, diet_roots_tubers) %>%\n",
    "    gather(diet_category, diet_value, -scientific_name) %>%\n",
    "    mutate(diet_value = gsub(' .+', '', diet_value),\n",
    "           diet_value_binary = ifelse(diet_value == 'yes', 1, 0),\n",
    "           diet_category = gsub('diet_', '', diet_category)) %>%\n",
    "    group_by(scientific_name, diet_category) %>%\n",
    "    summarize(diet_value_mean = mean(diet_value_binary)) %>%\n",
    "    ungroup() %>%\n",
    "    spread(diet_category, diet_value_mean) %>%\n",
    "    as.data.frame\n",
    "rownames(x) = x$scientific_name\n",
    "x$scientific_name = NULL\n",
    "\n",
    "itol_heatmap(x, 'diet_detailed', 'physeq_SpecD_diet-detailed_itol-htmp.txt', \n",
    "             work_dir, dist_method='bray')"
   ]
  },
  {
   "cell_type": "markdown",
   "metadata": {},
   "source": [
    "## IndD"
   ]
  },
  {
   "cell_type": "code",
   "execution_count": 45,
   "metadata": {
    "ExecuteTime": {
     "end_time": "2018-08-08T13:20:23.843087Z",
     "start_time": "2018-08-08T13:20:32.021Z"
    }
   },
   "outputs": [
    {
     "name": "stderr",
     "output_type": "stream",
     "text": [
      "Warning message:\n",
      "“attributes are not identical across measure variables;\n",
      "they will be dropped”Warning message in if (color_scheme == \"color\") {:\n",
      "“the condition has length > 1 and only the first element will be used”"
     ]
    },
    {
     "name": "stdout",
     "output_type": "stream",
     "text": [
      "File written: /ebio/abt3_projects/Georg_animal_feces/data/animal/phylogeny/TT//physeq_IndD_diet-detailed_itol-htmp.txt \n"
     ]
    }
   ],
   "source": [
    "# selecting diet-detailed\n",
    "## for differning diets, taking the average\n",
    "x = metadata %>%\n",
    "    distinct(X.SampleID, diet_vertebrate, diet_invertebrate, \n",
    "             diet_fruit, diet_flowers_nectar_pollen, diet_leaves_branches_bark_buds, \n",
    "             diet_seeds, diet_grass_waterplants, diet_roots_tubers) %>%\n",
    "    gather(diet_category, diet_value, -X.SampleID) %>%\n",
    "    mutate(diet_value = gsub(' .+', '', diet_value),\n",
    "           diet_value_binary = ifelse(diet_value == 'yes', 1, 0),\n",
    "           diet_category = gsub('diet_', '', diet_category)) %>%\n",
    "    group_by(X.SampleID, diet_category) %>%\n",
    "    summarize(diet_value_mean = mean(diet_value_binary)) %>%\n",
    "    ungroup() %>%\n",
    "    spread(diet_category, diet_value_mean) %>%\n",
    "    as.data.frame\n",
    "rownames(x) = x$X.SampleID\n",
    "x$X.SampleID = NULL\n",
    "\n",
    "itol_heatmap(x, 'diet_detailed', 'physeq_IndD_diet-detailed_itol-htmp.txt', \n",
    "             work_dir, dist_method='jaccard')"
   ]
  },
  {
   "cell_type": "markdown",
   "metadata": {},
   "source": [
    "# Habitat"
   ]
  },
  {
   "cell_type": "code",
   "execution_count": 46,
   "metadata": {
    "ExecuteTime": {
     "end_time": "2018-08-08T13:21:26.617647Z",
     "start_time": "2018-08-08T13:21:34.115Z"
    }
   },
   "outputs": [
    {
     "data": {
      "text/html": [
       "<table>\n",
       "<thead><tr><th scope=col>labels</th><th scope=col>colors</th><th scope=col>shapes</th></tr></thead>\n",
       "<tbody>\n",
       "\t<tr><td>anthropogenic         </td><td>#FF9900               </td><td>1                     </td></tr>\n",
       "\t<tr><td>aquatic               </td><td>#00CCFF               </td><td>1                     </td></tr>\n",
       "\t<tr><td>terrestrial           </td><td>#999600               </td><td>1                     </td></tr>\n",
       "\t<tr><td>terrestrial_cultivated</td><td>#663300               </td><td>1                     </td></tr>\n",
       "</tbody>\n",
       "</table>\n"
      ],
      "text/latex": [
       "\\begin{tabular}{r|lll}\n",
       " labels & colors & shapes\\\\\n",
       "\\hline\n",
       "\t anthropogenic          & \\#FF9900              & 1                     \\\\\n",
       "\t aquatic                & \\#00CCFF              & 1                     \\\\\n",
       "\t terrestrial            & \\#999600              & 1                     \\\\\n",
       "\t terrestrial\\_cultivated & \\#663300                & 1                       \\\\\n",
       "\\end{tabular}\n"
      ],
      "text/markdown": [
       "\n",
       "labels | colors | shapes | \n",
       "|---|---|---|---|\n",
       "| anthropogenic          | #FF9900                | 1                      | \n",
       "| aquatic                | #00CCFF                | 1                      | \n",
       "| terrestrial            | #999600                | 1                      | \n",
       "| terrestrial_cultivated | #663300                | 1                      | \n",
       "\n",
       "\n"
      ],
      "text/plain": [
       "  labels                 colors  shapes\n",
       "1 anthropogenic          #FF9900 1     \n",
       "2 aquatic                #00CCFF 1     \n",
       "3 terrestrial            #999600 1     \n",
       "4 terrestrial_cultivated #663300 1     "
      ]
     },
     "metadata": {},
     "output_type": "display_data"
    }
   ],
   "source": [
    "# setting colors\n",
    "x = metadata$habitat %>% unique %>% gsub(' habitat', '', .) %>% sort\n",
    "cols = c('#FF9900', '#00CCFF', '#999600', '#663300')\n",
    "legend = data.frame(labels = x,\n",
    "                    colors = cols,\n",
    "                    shapes = rep(1, length(labels)))\n",
    "\n",
    "legend"
   ]
  },
  {
   "cell_type": "markdown",
   "metadata": {},
   "source": [
    "## SpecD"
   ]
  },
  {
   "cell_type": "code",
   "execution_count": 47,
   "metadata": {
    "ExecuteTime": {
     "end_time": "2018-08-08T13:21:26.758031Z",
     "start_time": "2018-08-08T13:21:34.339Z"
    }
   },
   "outputs": [
    {
     "name": "stdout",
     "output_type": "stream",
     "text": [
      "File written: /ebio/abt3_projects/Georg_animal_feces/data/animal/phylogeny/TT//physeq_SpecD_habitat_itol-multibar.txt \n"
     ]
    }
   ],
   "source": [
    "x = metadata %>%\n",
    "    group_by(scientific_name) %>%\n",
    "    mutate(n_samples_per_sp = n()) %>%\n",
    "    group_by(scientific_name, habitat) %>%\n",
    "    summarize(n_samples = n(),\n",
    "              perc_samples = n_samples / first(n_samples_per_sp) * 100) %>%\n",
    "    ungroup() %>%\n",
    "    dplyr::select(scientific_name, habitat, perc_samples) %>%\n",
    "    spread(habitat, perc_samples, fill=0) %>%\n",
    "    as.data.frame\n",
    "rownames(x) = x$scientific_name\n",
    "x$scientific_name = NULL\n",
    "\n",
    "itol_multibar(x, 'habitat', 'physeq_SpecD_habitat_itol-multibar.txt', \n",
    "              work_dir, legend=legend, WIDTH=50)"
   ]
  },
  {
   "cell_type": "markdown",
   "metadata": {},
   "source": [
    "## IndD"
   ]
  },
  {
   "cell_type": "code",
   "execution_count": 48,
   "metadata": {
    "ExecuteTime": {
     "end_time": "2018-08-08T13:21:26.848746Z",
     "start_time": "2018-08-08T13:21:34.876Z"
    }
   },
   "outputs": [
    {
     "name": "stderr",
     "output_type": "stream",
     "text": [
      "Warning message:\n",
      "“Column `feature` joining factors with different levels, coercing to character vector”"
     ]
    },
    {
     "name": "stdout",
     "output_type": "stream",
     "text": [
      "File written: /ebio/abt3_projects/Georg_animal_feces/data/animal/phylogeny/TT//physeq_IndD_habitat_itol-multibar.txt \n"
     ]
    }
   ],
   "source": [
    "# NOTE: multiple categories per host species\n",
    "x = metadata %>%\n",
    "    dplyr::select(X.SampleID, habitat)\n",
    "rownames(x) = x$X.SampleID\n",
    "x$X.SampleID = NULL\n",
    "\n",
    "itol_colorstrip(x, 'diet', 'physeq_IndD_habitat_itol-multibar.txt', work_dir, legend=legend)"
   ]
  },
  {
   "cell_type": "markdown",
   "metadata": {},
   "source": [
    "# Wild vs captive"
   ]
  },
  {
   "cell_type": "code",
   "execution_count": 49,
   "metadata": {
    "ExecuteTime": {
     "end_time": "2018-08-08T13:21:26.900916Z",
     "start_time": "2018-08-08T13:21:35.114Z"
    }
   },
   "outputs": [
    {
     "data": {
      "text/html": [
       "<table>\n",
       "<thead><tr><th scope=col>labels</th><th scope=col>colors</th><th scope=col>shapes</th></tr></thead>\n",
       "<tbody>\n",
       "\t<tr><td>captive</td><td>#FF9900</td><td>1      </td></tr>\n",
       "\t<tr><td>human  </td><td>#0000FF</td><td>1      </td></tr>\n",
       "\t<tr><td>wild   </td><td>#009900</td><td>1      </td></tr>\n",
       "</tbody>\n",
       "</table>\n"
      ],
      "text/latex": [
       "\\begin{tabular}{r|lll}\n",
       " labels & colors & shapes\\\\\n",
       "\\hline\n",
       "\t captive   & \\#FF9900 & 1        \\\\\n",
       "\t human     & \\#0000FF & 1        \\\\\n",
       "\t wild      & \\#009900 & 1        \\\\\n",
       "\\end{tabular}\n"
      ],
      "text/markdown": [
       "\n",
       "labels | colors | shapes | \n",
       "|---|---|---|\n",
       "| captive | #FF9900 | 1       | \n",
       "| human   | #0000FF | 1       | \n",
       "| wild    | #009900 | 1       | \n",
       "\n",
       "\n"
      ],
      "text/plain": [
       "  labels  colors  shapes\n",
       "1 captive #FF9900 1     \n",
       "2 human   #0000FF 1     \n",
       "3 wild    #009900 1     "
      ]
     },
     "metadata": {},
     "output_type": "display_data"
    }
   ],
   "source": [
    "# setting colors\n",
    "x = metadata$captive_wild %>% unique %>% sort\n",
    "cols = c('#FF9900', '#0000FF', '#009900')\n",
    "legend = data.frame(labels = x,\n",
    "                    colors = cols,\n",
    "                    shapes = rep(1, length(labels)))\n",
    "legend"
   ]
  },
  {
   "cell_type": "markdown",
   "metadata": {},
   "source": [
    "## SpecD"
   ]
  },
  {
   "cell_type": "code",
   "execution_count": 50,
   "metadata": {
    "ExecuteTime": {
     "end_time": "2018-08-08T13:21:27.206307Z",
     "start_time": "2018-08-08T13:21:35.374Z"
    }
   },
   "outputs": [
    {
     "name": "stdout",
     "output_type": "stream",
     "text": [
      "File written: /ebio/abt3_projects/Georg_animal_feces/data/animal/phylogeny/TT//physeq_SpecD_wild-captive_itol-multibar.txt \n"
     ]
    }
   ],
   "source": [
    "# NOTE: multiple categories per host species\n",
    "x = metadata %>%\n",
    "    group_by(scientific_name) %>%\n",
    "    mutate(n_samples_per_sp = n()) %>%\n",
    "    group_by(scientific_name, captive_wild) %>%\n",
    "    summarize(n_samples = n(),\n",
    "              perc_samples = n_samples / first(n_samples_per_sp) * 100) %>%\n",
    "    ungroup() %>%\n",
    "    dplyr::select(scientific_name, captive_wild, perc_samples) %>%\n",
    "    spread(captive_wild, perc_samples, fill=0) %>%\n",
    "    as.data.frame\n",
    "rownames(x) = x$scientific_name\n",
    "x$scientific_name = NULL\n",
    "\n",
    "itol_multibar(x, 'captive-wild', 'physeq_SpecD_wild-captive_itol-multibar.txt', \n",
    "              work_dir, legend=legend, WIDTH=50)"
   ]
  },
  {
   "cell_type": "markdown",
   "metadata": {},
   "source": [
    "## IndD"
   ]
  },
  {
   "cell_type": "code",
   "execution_count": 51,
   "metadata": {
    "ExecuteTime": {
     "end_time": "2018-08-08T13:21:27.426558Z",
     "start_time": "2018-08-08T13:21:35.653Z"
    }
   },
   "outputs": [
    {
     "name": "stdout",
     "output_type": "stream",
     "text": [
      "File written: /ebio/abt3_projects/Georg_animal_feces/data/animal/phylogeny/TT//physeq_IndD_wild-captive_itol-multibar.txt \n"
     ]
    }
   ],
   "source": [
    "# NOTE: multiple categories per host species\n",
    "x = metadata %>%\n",
    "    dplyr::select(X.SampleID, captive_wild)\n",
    "rownames(x) = x$X.SampleID\n",
    "x$X.SampleID = NULL\n",
    "\n",
    "itol_colorstrip(x, 'diet', 'physeq_IndD_wild-captive_itol-multibar.txt', work_dir, legend=legend)"
   ]
  },
  {
   "cell_type": "markdown",
   "metadata": {},
   "source": [
    "# Sample type"
   ]
  },
  {
   "cell_type": "code",
   "execution_count": 52,
   "metadata": {
    "ExecuteTime": {
     "end_time": "2018-08-08T13:21:27.676788Z",
     "start_time": "2018-08-08T13:21:35.928Z"
    }
   },
   "outputs": [
    {
     "data": {
      "text/html": [
       "<table>\n",
       "<thead><tr><th scope=col>labels</th><th scope=col>colors</th><th scope=col>shapes</th></tr></thead>\n",
       "<tbody>\n",
       "\t<tr><td>feces  </td><td>#663300</td><td>1      </td></tr>\n",
       "\t<tr><td>gut    </td><td>#CC9900</td><td>1      </td></tr>\n",
       "</tbody>\n",
       "</table>\n"
      ],
      "text/latex": [
       "\\begin{tabular}{r|lll}\n",
       " labels & colors & shapes\\\\\n",
       "\\hline\n",
       "\t feces     & \\#663300 & 1        \\\\\n",
       "\t gut       & \\#CC9900 & 1        \\\\\n",
       "\\end{tabular}\n"
      ],
      "text/markdown": [
       "\n",
       "labels | colors | shapes | \n",
       "|---|---|\n",
       "| feces   | #663300 | 1       | \n",
       "| gut     | #CC9900 | 1       | \n",
       "\n",
       "\n"
      ],
      "text/plain": [
       "  labels colors  shapes\n",
       "1 feces  #663300 1     \n",
       "2 gut    #CC9900 1     "
      ]
     },
     "metadata": {},
     "output_type": "display_data"
    }
   ],
   "source": [
    "# setting colors\n",
    "x = metadata$sample_type %>% unique %>% sort\n",
    "cols = c('#663300', '#CC9900')\n",
    "legend = data.frame(labels = x,\n",
    "                    colors = cols,\n",
    "                    shapes = rep(1, length(labels)))\n",
    "\n",
    "legend"
   ]
  },
  {
   "cell_type": "markdown",
   "metadata": {},
   "source": [
    "## SpecD"
   ]
  },
  {
   "cell_type": "code",
   "execution_count": 53,
   "metadata": {
    "ExecuteTime": {
     "end_time": "2018-08-08T13:21:28.027911Z",
     "start_time": "2018-08-08T13:21:36.200Z"
    }
   },
   "outputs": [
    {
     "name": "stdout",
     "output_type": "stream",
     "text": [
      "File written: /ebio/abt3_projects/Georg_animal_feces/data/animal/phylogeny/TT//physeq_SpecD_sample-type_itol-multibar.txt \n"
     ]
    }
   ],
   "source": [
    "# NOTE: multiple categories per host species\n",
    "x = metadata %>%\n",
    "    group_by(scientific_name) %>%\n",
    "    mutate(n_samples_per_sp = n()) %>%\n",
    "    group_by(scientific_name, sample_type) %>%\n",
    "    summarize(n_samples = n(),\n",
    "              perc_samples = n_samples / first(n_samples_per_sp) * 100) %>%\n",
    "    ungroup() %>%\n",
    "    dplyr::select(scientific_name, sample_type, perc_samples) %>%\n",
    "    spread(sample_type, perc_samples, fill=0) %>%\n",
    "    as.data.frame\n",
    "rownames(x) = x$scientific_name\n",
    "x$scientific_name = NULL\n",
    "\n",
    "itol_multibar(x, 'sample_type', 'physeq_SpecD_sample-type_itol-multibar.txt', \n",
    "              work_dir, legend=legend, WIDTH=50)"
   ]
  },
  {
   "cell_type": "markdown",
   "metadata": {},
   "source": [
    "## IndD"
   ]
  },
  {
   "cell_type": "code",
   "execution_count": 54,
   "metadata": {
    "ExecuteTime": {
     "end_time": "2018-08-08T13:21:28.252757Z",
     "start_time": "2018-08-08T13:21:36.479Z"
    }
   },
   "outputs": [
    {
     "name": "stdout",
     "output_type": "stream",
     "text": [
      "File written: /ebio/abt3_projects/Georg_animal_feces/data/animal/phylogeny/TT//physeq_IndD_sample-type_itol-multibar.txt \n"
     ]
    }
   ],
   "source": [
    "# NOTE: multiple categories per host species\n",
    "x = metadata %>%\n",
    "    dplyr::select(X.SampleID, sample_type)\n",
    "rownames(x) = x$X.SampleID\n",
    "x$X.SampleID = NULL\n",
    "\n",
    "itol_colorstrip(x, 'sample_type', 'physeq_IndD_sample-type_itol-multibar.txt', work_dir, legend=legend)"
   ]
  },
  {
   "cell_type": "markdown",
   "metadata": {},
   "source": [
    "# Phylum abundances"
   ]
  },
  {
   "cell_type": "code",
   "execution_count": 56,
   "metadata": {
    "ExecuteTime": {
     "end_time": "2018-08-08T13:23:09.509362Z",
     "start_time": "2018-08-08T13:22:52.659Z"
    }
   },
   "outputs": [
    {
     "name": "stdout",
     "output_type": "stream",
     "text": [
      "[1] 54783     3\n"
     ]
    },
    {
     "data": {
      "text/html": [
       "<table>\n",
       "<thead><tr><th scope=col>OTU</th><th scope=col>sample</th><th scope=col>count</th></tr></thead>\n",
       "<tbody>\n",
       "\t<tr><td>13f82e5ba9ba27ea09f601e01ff70522</td><td>X1.Eurasian.Beaver              </td><td>0.16                            </td></tr>\n",
       "\t<tr><td>3dab8da99409c887717be58cb16f1934</td><td>X1.Eurasian.Beaver              </td><td>4.96                            </td></tr>\n",
       "\t<tr><td>a6dcf57735588b8f1a3fb7c8469d4396</td><td>X1.Eurasian.Beaver              </td><td>0.70                            </td></tr>\n",
       "</tbody>\n",
       "</table>\n"
      ],
      "text/latex": [
       "\\begin{tabular}{r|lll}\n",
       " OTU & sample & count\\\\\n",
       "\\hline\n",
       "\t 13f82e5ba9ba27ea09f601e01ff70522 & X1.Eurasian.Beaver               & 0.16                            \\\\\n",
       "\t 3dab8da99409c887717be58cb16f1934 & X1.Eurasian.Beaver               & 4.96                            \\\\\n",
       "\t a6dcf57735588b8f1a3fb7c8469d4396 & X1.Eurasian.Beaver               & 0.70                            \\\\\n",
       "\\end{tabular}\n"
      ],
      "text/markdown": [
       "\n",
       "OTU | sample | count | \n",
       "|---|---|---|\n",
       "| 13f82e5ba9ba27ea09f601e01ff70522 | X1.Eurasian.Beaver               | 0.16                             | \n",
       "| 3dab8da99409c887717be58cb16f1934 | X1.Eurasian.Beaver               | 4.96                             | \n",
       "| a6dcf57735588b8f1a3fb7c8469d4396 | X1.Eurasian.Beaver               | 0.70                             | \n",
       "\n",
       "\n"
      ],
      "text/plain": [
       "  OTU                              sample             count\n",
       "1 13f82e5ba9ba27ea09f601e01ff70522 X1.Eurasian.Beaver 0.16 \n",
       "2 3dab8da99409c887717be58cb16f1934 X1.Eurasian.Beaver 4.96 \n",
       "3 a6dcf57735588b8f1a3fb7c8469d4396 X1.Eurasian.Beaver 0.70 "
      ]
     },
     "metadata": {},
     "output_type": "display_data"
    }
   ],
   "source": [
    " otu = physeq %>%\n",
    "    otu_table() %>%\n",
    "    as.matrix %>%\n",
    "    as.data.frame \n",
    "\n",
    "# gather\n",
    "otu$OTU = rownames(otu) \n",
    "rownames(otu) = 1:nrow(otu)\n",
    "otu = otu %>%\n",
    "    gather(sample, count, -OTU) %>%\n",
    "    group_by(sample) %>%\n",
    "    mutate(count = count / sum(count) * 100) %>%\n",
    "    ungroup() %>%\n",
    "    filter(count > 0)\n",
    "       \n",
    "# status\n",
    "otu %>% dfhead"
   ]
  },
  {
   "cell_type": "code",
   "execution_count": 57,
   "metadata": {
    "ExecuteTime": {
     "end_time": "2018-08-08T13:23:09.681766Z",
     "start_time": "2018-08-08T13:22:55.941Z"
    }
   },
   "outputs": [
    {
     "name": "stderr",
     "output_type": "stream",
     "text": [
      "Warning message in class(X) <- NULL:\n",
      "“Setting class(x) to NULL;   result will no longer be an S4 object”"
     ]
    },
    {
     "name": "stdout",
     "output_type": "stream",
     "text": [
      "[1] 213   2\n"
     ]
    },
    {
     "data": {
      "text/html": [
       "<table>\n",
       "<thead><tr><th scope=col>Sample_ID</th><th scope=col>scientific_name</th></tr></thead>\n",
       "<tbody>\n",
       "\t<tr><td>X1.Eurasian.Beaver</td><td>Castor_fiber      </td></tr>\n",
       "\t<tr><td>X101.Horse        </td><td>Equus_caballus    </td></tr>\n",
       "\t<tr><td>X102.Kulan        </td><td>Equus_hemionus    </td></tr>\n",
       "</tbody>\n",
       "</table>\n"
      ],
      "text/latex": [
       "\\begin{tabular}{r|ll}\n",
       " Sample\\_ID & scientific\\_name\\\\\n",
       "\\hline\n",
       "\t X1.Eurasian.Beaver & Castor\\_fiber    \\\\\n",
       "\t X101.Horse         & Equus\\_caballus  \\\\\n",
       "\t X102.Kulan         & Equus\\_hemionus  \\\\\n",
       "\\end{tabular}\n"
      ],
      "text/markdown": [
       "\n",
       "Sample_ID | scientific_name | \n",
       "|---|---|---|\n",
       "| X1.Eurasian.Beaver | Castor_fiber       | \n",
       "| X101.Horse         | Equus_caballus     | \n",
       "| X102.Kulan         | Equus_hemionus     | \n",
       "\n",
       "\n"
      ],
      "text/plain": [
       "  Sample_ID          scientific_name\n",
       "1 X1.Eurasian.Beaver Castor_fiber   \n",
       "2 X101.Horse         Equus_caballus \n",
       "3 X102.Kulan         Equus_hemionus "
      ]
     },
     "metadata": {},
     "output_type": "display_data"
    }
   ],
   "source": [
    "# host metadata\n",
    "metadata = physeq %>%\n",
    "    sample_data %>%\n",
    "    as.matrix %>%\n",
    "    as.data.frame %>%\n",
    "    mutate(Sample_ID = rownames(.)) %>%\n",
    "    dplyr::select(Sample_ID, scientific_name) %>% \n",
    "    mutate(scientific_name = gsub(' ', '_', scientific_name))\n",
    "\n",
    "metadata %>% dfhead"
   ]
  },
  {
   "cell_type": "code",
   "execution_count": 58,
   "metadata": {
    "ExecuteTime": {
     "end_time": "2018-08-08T13:23:09.719973Z",
     "start_time": "2018-08-08T13:22:56.755Z"
    }
   },
   "outputs": [
    {
     "data": {
      "text/html": [
       "<table>\n",
       "<thead><tr><th scope=col>Sample_ID</th><th scope=col>scientific_name</th></tr></thead>\n",
       "<tbody>\n",
       "\t<tr><td>X42.Goitered.Gazelle</td><td>Gazella_subgutturosa</td></tr>\n",
       "</tbody>\n",
       "</table>\n"
      ],
      "text/latex": [
       "\\begin{tabular}{r|ll}\n",
       " Sample\\_ID & scientific\\_name\\\\\n",
       "\\hline\n",
       "\t X42.Goitered.Gazelle   & Gazella\\_subgutturosa\\\\\n",
       "\\end{tabular}\n"
      ],
      "text/markdown": [
       "\n",
       "Sample_ID | scientific_name | \n",
       "|---|\n",
       "| X42.Goitered.Gazelle | Gazella_subgutturosa | \n",
       "\n",
       "\n"
      ],
      "text/plain": [
       "  Sample_ID            scientific_name     \n",
       "1 X42.Goitered.Gazelle Gazella_subgutturosa"
      ]
     },
     "metadata": {},
     "output_type": "display_data"
    }
   ],
   "source": [
    "# checks\n",
    "metadata %>% \n",
    "    filter(grepl('gazell', scientific_name, ignore.case=TRUE)) "
   ]
  },
  {
   "cell_type": "code",
   "execution_count": 59,
   "metadata": {
    "ExecuteTime": {
     "end_time": "2018-08-08T13:23:09.819802Z",
     "start_time": "2018-08-08T13:22:59.445Z"
    }
   },
   "outputs": [
    {
     "name": "stdout",
     "output_type": "stream",
     "text": [
      "[1] 54783     4\n"
     ]
    },
    {
     "data": {
      "text/html": [
       "<table>\n",
       "<thead><tr><th scope=col>OTU</th><th scope=col>sample</th><th scope=col>count</th><th scope=col>scientific_name</th></tr></thead>\n",
       "<tbody>\n",
       "\t<tr><td>13f82e5ba9ba27ea09f601e01ff70522</td><td>X1.Eurasian.Beaver              </td><td>0.16                            </td><td>Castor_fiber                    </td></tr>\n",
       "\t<tr><td>3dab8da99409c887717be58cb16f1934</td><td>X1.Eurasian.Beaver              </td><td>4.96                            </td><td>Castor_fiber                    </td></tr>\n",
       "\t<tr><td>a6dcf57735588b8f1a3fb7c8469d4396</td><td>X1.Eurasian.Beaver              </td><td>0.70                            </td><td>Castor_fiber                    </td></tr>\n",
       "</tbody>\n",
       "</table>\n"
      ],
      "text/latex": [
       "\\begin{tabular}{r|llll}\n",
       " OTU & sample & count & scientific\\_name\\\\\n",
       "\\hline\n",
       "\t 13f82e5ba9ba27ea09f601e01ff70522 & X1.Eurasian.Beaver               & 0.16                             & Castor\\_fiber                  \\\\\n",
       "\t 3dab8da99409c887717be58cb16f1934 & X1.Eurasian.Beaver               & 4.96                             & Castor\\_fiber                  \\\\\n",
       "\t a6dcf57735588b8f1a3fb7c8469d4396 & X1.Eurasian.Beaver               & 0.70                             & Castor\\_fiber                  \\\\\n",
       "\\end{tabular}\n"
      ],
      "text/markdown": [
       "\n",
       "OTU | sample | count | scientific_name | \n",
       "|---|---|---|\n",
       "| 13f82e5ba9ba27ea09f601e01ff70522 | X1.Eurasian.Beaver               | 0.16                             | Castor_fiber                     | \n",
       "| 3dab8da99409c887717be58cb16f1934 | X1.Eurasian.Beaver               | 4.96                             | Castor_fiber                     | \n",
       "| a6dcf57735588b8f1a3fb7c8469d4396 | X1.Eurasian.Beaver               | 0.70                             | Castor_fiber                     | \n",
       "\n",
       "\n"
      ],
      "text/plain": [
       "  OTU                              sample             count scientific_name\n",
       "1 13f82e5ba9ba27ea09f601e01ff70522 X1.Eurasian.Beaver 0.16  Castor_fiber   \n",
       "2 3dab8da99409c887717be58cb16f1934 X1.Eurasian.Beaver 4.96  Castor_fiber   \n",
       "3 a6dcf57735588b8f1a3fb7c8469d4396 X1.Eurasian.Beaver 0.70  Castor_fiber   "
      ]
     },
     "metadata": {},
     "output_type": "display_data"
    }
   ],
   "source": [
    "# adding host metadata\n",
    "otu = otu %>%\n",
    "    inner_join(metadata, c('sample'='Sample_ID')) \n",
    "\n",
    "otu %>% dfhead"
   ]
  },
  {
   "cell_type": "markdown",
   "metadata": {},
   "source": [
    "## SpecD"
   ]
  },
  {
   "cell_type": "code",
   "execution_count": 61,
   "metadata": {
    "ExecuteTime": {
     "end_time": "2018-08-08T13:27:06.707053Z",
     "start_time": "2018-08-08T13:26:47.348Z"
    }
   },
   "outputs": [
    {
     "name": "stdout",
     "output_type": "stream",
     "text": [
      "[1] 23942     4\n"
     ]
    },
    {
     "data": {
      "text/html": [
       "<table>\n",
       "<thead><tr><th scope=col>OTU</th><th scope=col>sample</th><th scope=col>count</th><th scope=col>scientific_name</th></tr></thead>\n",
       "<tbody>\n",
       "\t<tr><td>819f805a0f1054a52d5415206af96569</td><td>X1.Eurasian.Beaver              </td><td>0.12                            </td><td>Castor_fiber                    </td></tr>\n",
       "\t<tr><td>4068e49536beb131aacf5b0fd4bd58b8</td><td>X1.Eurasian.Beaver              </td><td>0.12                            </td><td>Castor_fiber                    </td></tr>\n",
       "\t<tr><td>35aebe0f55b49a6b687532e23856f4cf</td><td>X1.Eurasian.Beaver              </td><td>0.08                            </td><td>Castor_fiber                    </td></tr>\n",
       "</tbody>\n",
       "</table>\n"
      ],
      "text/latex": [
       "\\begin{tabular}{r|llll}\n",
       " OTU & sample & count & scientific\\_name\\\\\n",
       "\\hline\n",
       "\t 819f805a0f1054a52d5415206af96569 & X1.Eurasian.Beaver               & 0.12                             & Castor\\_fiber                  \\\\\n",
       "\t 4068e49536beb131aacf5b0fd4bd58b8 & X1.Eurasian.Beaver               & 0.12                             & Castor\\_fiber                  \\\\\n",
       "\t 35aebe0f55b49a6b687532e23856f4cf & X1.Eurasian.Beaver               & 0.08                             & Castor\\_fiber                  \\\\\n",
       "\\end{tabular}\n"
      ],
      "text/markdown": [
       "\n",
       "OTU | sample | count | scientific_name | \n",
       "|---|---|---|\n",
       "| 819f805a0f1054a52d5415206af96569 | X1.Eurasian.Beaver               | 0.12                             | Castor_fiber                     | \n",
       "| 4068e49536beb131aacf5b0fd4bd58b8 | X1.Eurasian.Beaver               | 0.12                             | Castor_fiber                     | \n",
       "| 35aebe0f55b49a6b687532e23856f4cf | X1.Eurasian.Beaver               | 0.08                             | Castor_fiber                     | \n",
       "\n",
       "\n"
      ],
      "text/plain": [
       "  OTU                              sample             count scientific_name\n",
       "1 819f805a0f1054a52d5415206af96569 X1.Eurasian.Beaver 0.12  Castor_fiber   \n",
       "2 4068e49536beb131aacf5b0fd4bd58b8 X1.Eurasian.Beaver 0.12  Castor_fiber   \n",
       "3 35aebe0f55b49a6b687532e23856f4cf X1.Eurasian.Beaver 0.08  Castor_fiber   "
      ]
     },
     "metadata": {},
     "output_type": "display_data"
    }
   ],
   "source": [
    "# for each host species, subsample abundance until ~100% of taxa \n",
    "sample_to_value = function(x, df, target=100){\n",
    "    df = df %>%\n",
    "        filter(scientific_name == x)\n",
    "    idx = sample(1:nrow(df), nrow(df))\n",
    "    \n",
    "    # subsampling\n",
    "    for(i in 1:length(idx)){\n",
    "        s = sum(df[idx[1:i], 'count'])\n",
    "        if(s >= target * 0.99){\n",
    "            df = df[idx[1:i],]\n",
    "            df[nrow(df),'count'] = target - sum(df[1:(nrow(df)-1), 'count'])\n",
    "            return(df)\n",
    "        }\n",
    "    }\n",
    "    return(NA)\n",
    "}\n",
    "\n",
    "scientific_name = otu$scientific_name %>% unique\n",
    "#scientific_name = scientific_name[1:3]\n",
    "\n",
    "otu_s = plyr::llply(as.list(scientific_name), sample_to_value, df=otu) \n",
    "otu_s = do.call(rbind, otu_s)\n",
    "\n",
    "otu_s %>% dfhead"
   ]
  },
  {
   "cell_type": "code",
   "execution_count": 62,
   "metadata": {
    "ExecuteTime": {
     "end_time": "2018-08-08T13:27:06.775869Z",
     "start_time": "2018-08-08T13:26:59.779Z"
    }
   },
   "outputs": [
    {
     "data": {
      "text/plain": [
       "   Min. 1st Qu.  Median    Mean 3rd Qu.    Max. \n",
       "    100     100     100     100     100     100 "
      ]
     },
     "metadata": {},
     "output_type": "display_data"
    }
   ],
   "source": [
    " # checking sums\n",
    "otu_s %>%\n",
    "    group_by(scientific_name) %>%\n",
    "    summarize(count = sum(count)) %>%\n",
    "    ungroup() %>%\n",
    "    .$count %>% summary"
   ]
  },
  {
   "cell_type": "code",
   "execution_count": 63,
   "metadata": {
    "ExecuteTime": {
     "end_time": "2018-08-08T13:27:07.121576Z",
     "start_time": "2018-08-08T13:27:02.142Z"
    }
   },
   "outputs": [
    {
     "name": "stdout",
     "output_type": "stream",
     "text": [
      "[1] 23942     5\n"
     ]
    },
    {
     "data": {
      "text/html": [
       "<table>\n",
       "<thead><tr><th scope=col>OTU</th><th scope=col>sample</th><th scope=col>count</th><th scope=col>scientific_name</th><th scope=col>Phylum</th></tr></thead>\n",
       "<tbody>\n",
       "\t<tr><td>819f805a0f1054a52d5415206af96569</td><td>X1.Eurasian.Beaver              </td><td>0.12                            </td><td>Castor_fiber                    </td><td>Firmicutes                      </td></tr>\n",
       "\t<tr><td>4068e49536beb131aacf5b0fd4bd58b8</td><td>X1.Eurasian.Beaver              </td><td>0.12                            </td><td>Castor_fiber                    </td><td>Firmicutes                      </td></tr>\n",
       "\t<tr><td>35aebe0f55b49a6b687532e23856f4cf</td><td>X1.Eurasian.Beaver              </td><td>0.08                            </td><td>Castor_fiber                    </td><td>Firmicutes                      </td></tr>\n",
       "</tbody>\n",
       "</table>\n"
      ],
      "text/latex": [
       "\\begin{tabular}{r|lllll}\n",
       " OTU & sample & count & scientific\\_name & Phylum\\\\\n",
       "\\hline\n",
       "\t 819f805a0f1054a52d5415206af96569 & X1.Eurasian.Beaver               & 0.12                             & Castor\\_fiber                   & Firmicutes                      \\\\\n",
       "\t 4068e49536beb131aacf5b0fd4bd58b8 & X1.Eurasian.Beaver               & 0.12                             & Castor\\_fiber                   & Firmicutes                      \\\\\n",
       "\t 35aebe0f55b49a6b687532e23856f4cf & X1.Eurasian.Beaver               & 0.08                             & Castor\\_fiber                   & Firmicutes                      \\\\\n",
       "\\end{tabular}\n"
      ],
      "text/markdown": [
       "\n",
       "OTU | sample | count | scientific_name | Phylum | \n",
       "|---|---|---|\n",
       "| 819f805a0f1054a52d5415206af96569 | X1.Eurasian.Beaver               | 0.12                             | Castor_fiber                     | Firmicutes                       | \n",
       "| 4068e49536beb131aacf5b0fd4bd58b8 | X1.Eurasian.Beaver               | 0.12                             | Castor_fiber                     | Firmicutes                       | \n",
       "| 35aebe0f55b49a6b687532e23856f4cf | X1.Eurasian.Beaver               | 0.08                             | Castor_fiber                     | Firmicutes                       | \n",
       "\n",
       "\n"
      ],
      "text/plain": [
       "  OTU                              sample             count scientific_name\n",
       "1 819f805a0f1054a52d5415206af96569 X1.Eurasian.Beaver 0.12  Castor_fiber   \n",
       "2 4068e49536beb131aacf5b0fd4bd58b8 X1.Eurasian.Beaver 0.12  Castor_fiber   \n",
       "3 35aebe0f55b49a6b687532e23856f4cf X1.Eurasian.Beaver 0.08  Castor_fiber   \n",
       "  Phylum    \n",
       "1 Firmicutes\n",
       "2 Firmicutes\n",
       "3 Firmicutes"
      ]
     },
     "metadata": {},
     "output_type": "display_data"
    }
   ],
   "source": [
    " # adding phylum taxonomy\n",
    "tax = physeq %>%\n",
    "    tax_table %>%\n",
    "    as.matrix %>%\n",
    "    as.data.frame %>%\n",
    "    mutate(OTU = rownames(.)) %>%\n",
    "    dplyr::select(OTU, Phylum)\n",
    "\n",
    "otu_s = otu_s %>%\n",
    "    inner_join(tax, c('OTU'))\n",
    "\n",
    "tax = NULL\n",
    "otu_s %>% dfhead"
   ]
  },
  {
   "cell_type": "code",
   "execution_count": 64,
   "metadata": {
    "ExecuteTime": {
     "end_time": "2018-08-08T13:27:07.237034Z",
     "start_time": "2018-08-08T13:27:03.071Z"
    }
   },
   "outputs": [
    {
     "name": "stdout",
     "output_type": "stream",
     "text": [
      "[1] 128   9\n"
     ]
    },
    {
     "data": {
      "text/html": [
       "<table>\n",
       "<thead><tr><th></th><th scope=col>Bacteroidetes</th><th scope=col>CKC4</th><th scope=col>Firmicutes</th><th scope=col>Fusobacteria</th><th scope=col>Proteobacteria</th><th scope=col>Spirochaetae</th><th scope=col>Tenericutes</th><th scope=col>Verrucomicrobia</th><th scope=col>Other</th></tr></thead>\n",
       "<tbody>\n",
       "\t<tr><th scope=row>Acrocephalus_scirpaceus</th><td>0.16 </td><td>0    </td><td>96.42</td><td>0.08 </td><td>1.12 </td><td>0.00 </td><td>0.00 </td><td>0.0  </td><td>2.22 </td></tr>\n",
       "\t<tr><th scope=row>Aepyceros_melampus</th><td>1.98 </td><td>0    </td><td>94.58</td><td>0.00 </td><td>1.14 </td><td>0.04 </td><td>0.48 </td><td>0.2  </td><td>1.58 </td></tr>\n",
       "\t<tr><th scope=row>Anas_platyrhynchos</th><td>0.14 </td><td>0    </td><td>93.44</td><td>0.46 </td><td>5.38 </td><td>0.00 </td><td>0.02 </td><td>0.0  </td><td>0.56 </td></tr>\n",
       "</tbody>\n",
       "</table>\n"
      ],
      "text/latex": [
       "\\begin{tabular}{r|lllllllll}\n",
       "  & Bacteroidetes & CKC4 & Firmicutes & Fusobacteria & Proteobacteria & Spirochaetae & Tenericutes & Verrucomicrobia & Other\\\\\n",
       "\\hline\n",
       "\tAcrocephalus\\_scirpaceus & 0.16  & 0     & 96.42 & 0.08  & 1.12  & 0.00  & 0.00  & 0.0   & 2.22 \\\\\n",
       "\tAepyceros\\_melampus & 1.98  & 0     & 94.58 & 0.00  & 1.14  & 0.04  & 0.48  & 0.2   & 1.58 \\\\\n",
       "\tAnas\\_platyrhynchos & 0.14  & 0     & 93.44 & 0.46  & 5.38  & 0.00  & 0.02  & 0.0   & 0.56 \\\\\n",
       "\\end{tabular}\n"
      ],
      "text/markdown": [
       "\n",
       "| <!--/--> | Bacteroidetes | CKC4 | Firmicutes | Fusobacteria | Proteobacteria | Spirochaetae | Tenericutes | Verrucomicrobia | Other | \n",
       "|---|---|---|\n",
       "| Acrocephalus_scirpaceus | 0.16  | 0     | 96.42 | 0.08  | 1.12  | 0.00  | 0.00  | 0.0   | 2.22  | \n",
       "| Aepyceros_melampus | 1.98  | 0     | 94.58 | 0.00  | 1.14  | 0.04  | 0.48  | 0.2   | 1.58  | \n",
       "| Anas_platyrhynchos | 0.14  | 0     | 93.44 | 0.46  | 5.38  | 0.00  | 0.02  | 0.0   | 0.56  | \n",
       "\n",
       "\n"
      ],
      "text/plain": [
       "                        Bacteroidetes CKC4 Firmicutes Fusobacteria\n",
       "Acrocephalus_scirpaceus 0.16          0    96.42      0.08        \n",
       "Aepyceros_melampus      1.98          0    94.58      0.00        \n",
       "Anas_platyrhynchos      0.14          0    93.44      0.46        \n",
       "                        Proteobacteria Spirochaetae Tenericutes Verrucomicrobia\n",
       "Acrocephalus_scirpaceus 1.12           0.00         0.00        0.0            \n",
       "Aepyceros_melampus      1.14           0.04         0.48        0.2            \n",
       "Anas_platyrhynchos      5.38           0.00         0.02        0.0            \n",
       "                        Other\n",
       "Acrocephalus_scirpaceus 2.22 \n",
       "Aepyceros_melampus      1.58 \n",
       "Anas_platyrhynchos      0.56 "
      ]
     },
     "metadata": {},
     "output_type": "display_data"
    }
   ],
   "source": [
    "# formatting table\n",
    "otu_s_g = otu_s %>%\n",
    "    group_by(scientific_name, Phylum) %>%\n",
    "    summarize(count = sum(count)) %>%\n",
    "    group_by(Phylum) %>%\n",
    "    mutate(is_other = ifelse(mean(count) < 2, TRUE, FALSE)) %>%\n",
    "    ungroup() %>%\n",
    "    mutate(Phylum = Phylum %>% as.character,\n",
    "           Phylum = ifelse(is_other == TRUE, 'Other', Phylum)) %>%\n",
    "    group_by(scientific_name, Phylum) %>%\n",
    "    summarize(count = sum(count)) %>%\n",
    "    ungroup() %>%\n",
    "    spread(Phylum, count, fill=0) %>%\n",
    "    as.data.frame\n",
    "\n",
    "rownames(otu_s_g) = otu_s_g$scientific_name\n",
    "otu_s_g$scientific_name = NULL\n",
    "otu_s_g = cbind(otu_s_g[,colnames(otu_s_g) != 'Other'],\n",
    "                otu_s_g[,colnames(otu_s_g) == 'Other'])\n",
    "colnames(otu_s_g)[ncol(otu_s_g)] = 'Other'\n",
    "\n",
    "otu_s_g %>% dfhead"
   ]
  },
  {
   "cell_type": "code",
   "execution_count": 65,
   "metadata": {
    "ExecuteTime": {
     "end_time": "2018-08-08T13:27:07.393620Z",
     "start_time": "2018-08-08T13:27:03.284Z"
    }
   },
   "outputs": [
    {
     "data": {
      "text/html": [
       "<table>\n",
       "<thead><tr><th scope=col>labels</th><th scope=col>colors</th><th scope=col>shapes</th></tr></thead>\n",
       "<tbody>\n",
       "\t<tr><td>Bacteroidetes  </td><td>#E41A1C        </td><td>1              </td></tr>\n",
       "\t<tr><td>CKC4           </td><td>#FF7F00        </td><td>1              </td></tr>\n",
       "\t<tr><td>Firmicutes     </td><td>#4DAF4A        </td><td>1              </td></tr>\n",
       "\t<tr><td>Fusobacteria   </td><td>#984EA3        </td><td>1              </td></tr>\n",
       "\t<tr><td>Proteobacteria </td><td>#377EB8        </td><td>1              </td></tr>\n",
       "\t<tr><td>Spirochaetae   </td><td>#FFFF33        </td><td>1              </td></tr>\n",
       "\t<tr><td>Tenericutes    </td><td>#A65628        </td><td>1              </td></tr>\n",
       "\t<tr><td>Verrucomicrobia</td><td>#F781BF        </td><td>1              </td></tr>\n",
       "\t<tr><td>Other          </td><td>#A6ACAF        </td><td>1              </td></tr>\n",
       "</tbody>\n",
       "</table>\n"
      ],
      "text/latex": [
       "\\begin{tabular}{r|lll}\n",
       " labels & colors & shapes\\\\\n",
       "\\hline\n",
       "\t Bacteroidetes   & \\#E41A1C       & 1              \\\\\n",
       "\t CKC4            & \\#FF7F00       & 1              \\\\\n",
       "\t Firmicutes      & \\#4DAF4A       & 1              \\\\\n",
       "\t Fusobacteria    & \\#984EA3       & 1              \\\\\n",
       "\t Proteobacteria  & \\#377EB8       & 1              \\\\\n",
       "\t Spirochaetae    & \\#FFFF33       & 1              \\\\\n",
       "\t Tenericutes     & \\#A65628       & 1              \\\\\n",
       "\t Verrucomicrobia & \\#F781BF       & 1              \\\\\n",
       "\t Other           & \\#A6ACAF       & 1              \\\\\n",
       "\\end{tabular}\n"
      ],
      "text/markdown": [
       "\n",
       "labels | colors | shapes | \n",
       "|---|---|---|---|---|---|---|---|---|\n",
       "| Bacteroidetes   | #E41A1C         | 1               | \n",
       "| CKC4            | #FF7F00         | 1               | \n",
       "| Firmicutes      | #4DAF4A         | 1               | \n",
       "| Fusobacteria    | #984EA3         | 1               | \n",
       "| Proteobacteria  | #377EB8         | 1               | \n",
       "| Spirochaetae    | #FFFF33         | 1               | \n",
       "| Tenericutes     | #A65628         | 1               | \n",
       "| Verrucomicrobia | #F781BF         | 1               | \n",
       "| Other           | #A6ACAF         | 1               | \n",
       "\n",
       "\n"
      ],
      "text/plain": [
       "  labels          colors  shapes\n",
       "1 Bacteroidetes   #E41A1C 1     \n",
       "2 CKC4            #FF7F00 1     \n",
       "3 Firmicutes      #4DAF4A 1     \n",
       "4 Fusobacteria    #984EA3 1     \n",
       "5 Proteobacteria  #377EB8 1     \n",
       "6 Spirochaetae    #FFFF33 1     \n",
       "7 Tenericutes     #A65628 1     \n",
       "8 Verrucomicrobia #F781BF 1     \n",
       "9 Other           #A6ACAF 1     "
      ]
     },
     "metadata": {},
     "output_type": "display_data"
    }
   ],
   "source": [
    "# creating colors\n",
    "x = colnames(otu_s_g)\n",
    "cols = RColorBrewer::brewer.pal(length(x), 'Set1')\n",
    "cols[length(cols)] = '#A6ACAF'\n",
    "field_colors = data.frame(x, cols)\n",
    "\n",
    "colnames(field_colors) = c('labels', 'colors')\n",
    "field_colors$shapes = rep(1, nrow(field_colors))\n",
    "\n",
    "field_colors$colors = field_colors$colors %>% as.character\n",
    "# field_colors[field_colors$labels == 'Other','colors'] = '#A6ACAF'\n",
    "\n",
    "# switching\n",
    "tmp1 = field_colors[field_colors$labels == 'CKC4','colors'] \n",
    "tmp2 = field_colors[field_colors$labels == 'Proteobacteria','colors'] \n",
    "field_colors[field_colors$labels == 'CKC4','colors'] = tmp2\n",
    "field_colors[field_colors$labels == 'Proteobacteria','colors'] = tmp1\n",
    "\n",
    "# status\n",
    "field_colors"
   ]
  },
  {
   "cell_type": "code",
   "execution_count": 66,
   "metadata": {
    "ExecuteTime": {
     "end_time": "2018-08-08T13:27:07.467729Z",
     "start_time": "2018-08-08T13:27:04.564Z"
    }
   },
   "outputs": [
    {
     "name": "stdout",
     "output_type": "stream",
     "text": [
      "File written: /ebio/abt3_projects/Georg_animal_feces/data/animal/phylogeny/TT//physeq_SpecD_phylum_itol-multibar.txt \n"
     ]
    }
   ],
   "source": [
    "itol_multibar(otu_s_g, 'Phylum', \n",
    "              'physeq_SpecD_phylum_itol-multibar.txt', work_dir,\n",
    "              legend=field_colors)"
   ]
  },
  {
   "cell_type": "markdown",
   "metadata": {},
   "source": [
    "## IndD"
   ]
  },
  {
   "cell_type": "code",
   "execution_count": 67,
   "metadata": {
    "ExecuteTime": {
     "end_time": "2018-08-08T13:27:07.829262Z",
     "start_time": "2018-08-08T13:27:06.275Z"
    }
   },
   "outputs": [
    {
     "name": "stdout",
     "output_type": "stream",
     "text": [
      "[1] 54783     5\n"
     ]
    },
    {
     "data": {
      "text/html": [
       "<table>\n",
       "<thead><tr><th scope=col>OTU</th><th scope=col>sample</th><th scope=col>count</th><th scope=col>scientific_name</th><th scope=col>Phylum</th></tr></thead>\n",
       "<tbody>\n",
       "\t<tr><td>13f82e5ba9ba27ea09f601e01ff70522</td><td>X1.Eurasian.Beaver              </td><td>0.16                            </td><td>Castor_fiber                    </td><td>Spirochaetae                    </td></tr>\n",
       "\t<tr><td>3dab8da99409c887717be58cb16f1934</td><td>X1.Eurasian.Beaver              </td><td>4.96                            </td><td>Castor_fiber                    </td><td>Verrucomicrobia                 </td></tr>\n",
       "\t<tr><td>a6dcf57735588b8f1a3fb7c8469d4396</td><td>X1.Eurasian.Beaver              </td><td>0.70                            </td><td>Castor_fiber                    </td><td>Proteobacteria                  </td></tr>\n",
       "</tbody>\n",
       "</table>\n"
      ],
      "text/latex": [
       "\\begin{tabular}{r|lllll}\n",
       " OTU & sample & count & scientific\\_name & Phylum\\\\\n",
       "\\hline\n",
       "\t 13f82e5ba9ba27ea09f601e01ff70522 & X1.Eurasian.Beaver               & 0.16                             & Castor\\_fiber                   & Spirochaetae                    \\\\\n",
       "\t 3dab8da99409c887717be58cb16f1934 & X1.Eurasian.Beaver               & 4.96                             & Castor\\_fiber                   & Verrucomicrobia                 \\\\\n",
       "\t a6dcf57735588b8f1a3fb7c8469d4396 & X1.Eurasian.Beaver               & 0.70                             & Castor\\_fiber                   & Proteobacteria                  \\\\\n",
       "\\end{tabular}\n"
      ],
      "text/markdown": [
       "\n",
       "OTU | sample | count | scientific_name | Phylum | \n",
       "|---|---|---|\n",
       "| 13f82e5ba9ba27ea09f601e01ff70522 | X1.Eurasian.Beaver               | 0.16                             | Castor_fiber                     | Spirochaetae                     | \n",
       "| 3dab8da99409c887717be58cb16f1934 | X1.Eurasian.Beaver               | 4.96                             | Castor_fiber                     | Verrucomicrobia                  | \n",
       "| a6dcf57735588b8f1a3fb7c8469d4396 | X1.Eurasian.Beaver               | 0.70                             | Castor_fiber                     | Proteobacteria                   | \n",
       "\n",
       "\n"
      ],
      "text/plain": [
       "  OTU                              sample             count scientific_name\n",
       "1 13f82e5ba9ba27ea09f601e01ff70522 X1.Eurasian.Beaver 0.16  Castor_fiber   \n",
       "2 3dab8da99409c887717be58cb16f1934 X1.Eurasian.Beaver 4.96  Castor_fiber   \n",
       "3 a6dcf57735588b8f1a3fb7c8469d4396 X1.Eurasian.Beaver 0.70  Castor_fiber   \n",
       "  Phylum         \n",
       "1 Spirochaetae   \n",
       "2 Verrucomicrobia\n",
       "3 Proteobacteria "
      ]
     },
     "metadata": {},
     "output_type": "display_data"
    }
   ],
   "source": [
    "# adding phylum taxonomy\n",
    "tax = physeq %>%\n",
    "    tax_table %>%\n",
    "    as.matrix %>%\n",
    "    as.data.frame %>%\n",
    "    mutate(OTU = rownames(.)) %>%\n",
    "    dplyr::select(OTU, Phylum)\n",
    "\n",
    "otu_s = otu %>%\n",
    "    inner_join(tax, c('OTU'))\n",
    "\n",
    "tax = NULL\n",
    "otu_s %>% dfhead"
   ]
  },
  {
   "cell_type": "code",
   "execution_count": 68,
   "metadata": {
    "ExecuteTime": {
     "end_time": "2018-08-08T13:27:08.010927Z",
     "start_time": "2018-08-08T13:27:06.395Z"
    }
   },
   "outputs": [
    {
     "name": "stdout",
     "output_type": "stream",
     "text": [
      "[1] 213   9\n"
     ]
    },
    {
     "data": {
      "text/html": [
       "<table>\n",
       "<thead><tr><th></th><th scope=col>Bacteroidetes</th><th scope=col>CKC4</th><th scope=col>Firmicutes</th><th scope=col>Fusobacteria</th><th scope=col>Proteobacteria</th><th scope=col>Spirochaetae</th><th scope=col>Tenericutes</th><th scope=col>Verrucomicrobia</th><th scope=col>Other</th></tr></thead>\n",
       "<tbody>\n",
       "\t<tr><th scope=row>F141.Wood.Sandpiper</th><td> 0.00</td><td>0    </td><td> 0.10</td><td>0.0  </td><td>99.90</td><td>0.00 </td><td>0.00 </td><td> 0.00</td><td>0.00 </td></tr>\n",
       "\t<tr><th scope=row>F157a.European.Toad</th><td>24.42</td><td>0    </td><td>54.26</td><td>0.0  </td><td>12.12</td><td>0.04 </td><td>0.40 </td><td> 4.28</td><td>4.48 </td></tr>\n",
       "\t<tr><th scope=row>F157b.European.Toad</th><td>26.08</td><td>0    </td><td>37.82</td><td>0.1  </td><td>18.26</td><td>0.02 </td><td>0.34 </td><td>16.90</td><td>0.48 </td></tr>\n",
       "</tbody>\n",
       "</table>\n"
      ],
      "text/latex": [
       "\\begin{tabular}{r|lllllllll}\n",
       "  & Bacteroidetes & CKC4 & Firmicutes & Fusobacteria & Proteobacteria & Spirochaetae & Tenericutes & Verrucomicrobia & Other\\\\\n",
       "\\hline\n",
       "\tF141.Wood.Sandpiper &  0.00 & 0     &  0.10 & 0.0   & 99.90 & 0.00  & 0.00  &  0.00 & 0.00 \\\\\n",
       "\tF157a.European.Toad & 24.42 & 0     & 54.26 & 0.0   & 12.12 & 0.04  & 0.40  &  4.28 & 4.48 \\\\\n",
       "\tF157b.European.Toad & 26.08 & 0     & 37.82 & 0.1   & 18.26 & 0.02  & 0.34  & 16.90 & 0.48 \\\\\n",
       "\\end{tabular}\n"
      ],
      "text/markdown": [
       "\n",
       "| <!--/--> | Bacteroidetes | CKC4 | Firmicutes | Fusobacteria | Proteobacteria | Spirochaetae | Tenericutes | Verrucomicrobia | Other | \n",
       "|---|---|---|\n",
       "| F141.Wood.Sandpiper |  0.00 | 0     |  0.10 | 0.0   | 99.90 | 0.00  | 0.00  |  0.00 | 0.00  | \n",
       "| F157a.European.Toad | 24.42 | 0     | 54.26 | 0.0   | 12.12 | 0.04  | 0.40  |  4.28 | 4.48  | \n",
       "| F157b.European.Toad | 26.08 | 0     | 37.82 | 0.1   | 18.26 | 0.02  | 0.34  | 16.90 | 0.48  | \n",
       "\n",
       "\n"
      ],
      "text/plain": [
       "                    Bacteroidetes CKC4 Firmicutes Fusobacteria Proteobacteria\n",
       "F141.Wood.Sandpiper  0.00         0     0.10      0.0          99.90         \n",
       "F157a.European.Toad 24.42         0    54.26      0.0          12.12         \n",
       "F157b.European.Toad 26.08         0    37.82      0.1          18.26         \n",
       "                    Spirochaetae Tenericutes Verrucomicrobia Other\n",
       "F141.Wood.Sandpiper 0.00         0.00         0.00           0.00 \n",
       "F157a.European.Toad 0.04         0.40         4.28           4.48 \n",
       "F157b.European.Toad 0.02         0.34        16.90           0.48 "
      ]
     },
     "metadata": {},
     "output_type": "display_data"
    }
   ],
   "source": [
    "# formatting table\n",
    "otu_s_g = otu_s %>%\n",
    "    group_by(sample, Phylum) %>%\n",
    "    summarize(count = sum(count)) %>%\n",
    "    group_by(Phylum) %>%\n",
    "    mutate(is_other = ifelse(mean(count) < 2, TRUE, FALSE)) %>%\n",
    "    ungroup() %>%\n",
    "    mutate(Phylum = Phylum %>% as.character,\n",
    "           Phylum = ifelse(is_other == TRUE, 'Other', Phylum)) %>%\n",
    "    group_by(sample, Phylum) %>%\n",
    "    summarize(count = sum(count)) %>%\n",
    "    ungroup() %>%\n",
    "    spread(Phylum, count, fill=0) %>%\n",
    "    as.data.frame\n",
    "\n",
    "rownames(otu_s_g) = otu_s_g$sample\n",
    "otu_s_g$sample = NULL\n",
    "otu_s_g = cbind(otu_s_g[,colnames(otu_s_g) != 'Other'],\n",
    "                otu_s_g[,colnames(otu_s_g) == 'Other'])\n",
    "colnames(otu_s_g)[ncol(otu_s_g)] = 'Other'\n",
    "\n",
    "otu_s_g %>% dfhead"
   ]
  },
  {
   "cell_type": "code",
   "execution_count": 69,
   "metadata": {
    "ExecuteTime": {
     "end_time": "2018-08-08T13:27:09.297622Z",
     "start_time": "2018-08-08T13:27:07.602Z"
    }
   },
   "outputs": [
    {
     "data": {
      "text/html": [
       "<table>\n",
       "<thead><tr><th scope=col>labels</th><th scope=col>colors</th><th scope=col>shapes</th></tr></thead>\n",
       "<tbody>\n",
       "\t<tr><td>Bacteroidetes  </td><td>#E41A1C        </td><td>1              </td></tr>\n",
       "\t<tr><td>CKC4           </td><td>#FF7F00        </td><td>1              </td></tr>\n",
       "\t<tr><td>Firmicutes     </td><td>#4DAF4A        </td><td>1              </td></tr>\n",
       "\t<tr><td>Fusobacteria   </td><td>#984EA3        </td><td>1              </td></tr>\n",
       "\t<tr><td>Proteobacteria </td><td>#377EB8        </td><td>1              </td></tr>\n",
       "\t<tr><td>Spirochaetae   </td><td>#FFFF33        </td><td>1              </td></tr>\n",
       "\t<tr><td>Tenericutes    </td><td>#A65628        </td><td>1              </td></tr>\n",
       "\t<tr><td>Verrucomicrobia</td><td>#F781BF        </td><td>1              </td></tr>\n",
       "\t<tr><td>Other          </td><td>#A6ACAF        </td><td>1              </td></tr>\n",
       "</tbody>\n",
       "</table>\n"
      ],
      "text/latex": [
       "\\begin{tabular}{r|lll}\n",
       " labels & colors & shapes\\\\\n",
       "\\hline\n",
       "\t Bacteroidetes   & \\#E41A1C       & 1              \\\\\n",
       "\t CKC4            & \\#FF7F00       & 1              \\\\\n",
       "\t Firmicutes      & \\#4DAF4A       & 1              \\\\\n",
       "\t Fusobacteria    & \\#984EA3       & 1              \\\\\n",
       "\t Proteobacteria  & \\#377EB8       & 1              \\\\\n",
       "\t Spirochaetae    & \\#FFFF33       & 1              \\\\\n",
       "\t Tenericutes     & \\#A65628       & 1              \\\\\n",
       "\t Verrucomicrobia & \\#F781BF       & 1              \\\\\n",
       "\t Other           & \\#A6ACAF       & 1              \\\\\n",
       "\\end{tabular}\n"
      ],
      "text/markdown": [
       "\n",
       "labels | colors | shapes | \n",
       "|---|---|---|---|---|---|---|---|---|\n",
       "| Bacteroidetes   | #E41A1C         | 1               | \n",
       "| CKC4            | #FF7F00         | 1               | \n",
       "| Firmicutes      | #4DAF4A         | 1               | \n",
       "| Fusobacteria    | #984EA3         | 1               | \n",
       "| Proteobacteria  | #377EB8         | 1               | \n",
       "| Spirochaetae    | #FFFF33         | 1               | \n",
       "| Tenericutes     | #A65628         | 1               | \n",
       "| Verrucomicrobia | #F781BF         | 1               | \n",
       "| Other           | #A6ACAF         | 1               | \n",
       "\n",
       "\n"
      ],
      "text/plain": [
       "  labels          colors  shapes\n",
       "1 Bacteroidetes   #E41A1C 1     \n",
       "2 CKC4            #FF7F00 1     \n",
       "3 Firmicutes      #4DAF4A 1     \n",
       "4 Fusobacteria    #984EA3 1     \n",
       "5 Proteobacteria  #377EB8 1     \n",
       "6 Spirochaetae    #FFFF33 1     \n",
       "7 Tenericutes     #A65628 1     \n",
       "8 Verrucomicrobia #F781BF 1     \n",
       "9 Other           #A6ACAF 1     "
      ]
     },
     "metadata": {},
     "output_type": "display_data"
    }
   ],
   "source": [
    "# creating colors\n",
    "x = colnames(otu_s_g)\n",
    "cols = RColorBrewer::brewer.pal(length(x), 'Set1')\n",
    "#cols = c(cols, '#A6ACAF')\n",
    "cols[length(cols)] = '#A6ACAF'\n",
    "field_colors = data.frame(x, cols)\n",
    "\n",
    "colnames(field_colors) = c('labels', 'colors')\n",
    "field_colors$shapes = rep(1, nrow(field_colors))\n",
    "\n",
    "field_colors$colors = field_colors$colors %>% as.character\n",
    "# field_colors[field_colors$labels == 'Other','colors'] = '#A6ACAF'\n",
    "\n",
    "# switching\n",
    "tmp1 = field_colors[field_colors$labels == 'CKC4','colors'] \n",
    "tmp2 = field_colors[field_colors$labels == 'Proteobacteria','colors'] \n",
    "field_colors[field_colors$labels == 'CKC4','colors'] = tmp2\n",
    "field_colors[field_colors$labels == 'Proteobacteria','colors'] = tmp1\n",
    "\n",
    "# status\n",
    "field_colors"
   ]
  },
  {
   "cell_type": "code",
   "execution_count": 70,
   "metadata": {
    "ExecuteTime": {
     "end_time": "2018-08-08T13:27:09.377704Z",
     "start_time": "2018-08-08T13:27:07.899Z"
    }
   },
   "outputs": [
    {
     "name": "stdout",
     "output_type": "stream",
     "text": [
      "File written: /ebio/abt3_projects/Georg_animal_feces/data/animal/phylogeny/TT//physeq_IndD_phylum_itol-multibar.txt \n"
     ]
    }
   ],
   "source": [
    "itol_multibar(otu_s_g, 'Phylum', \n",
    "              'physeq_IndD_phylum_itol-multibar.txt', work_dir,\n",
    "              legend=field_colors)"
   ]
  },
  {
   "cell_type": "markdown",
   "metadata": {},
   "source": [
    "# sessionInfo"
   ]
  },
  {
   "cell_type": "code",
   "execution_count": 71,
   "metadata": {
    "ExecuteTime": {
     "end_time": "2018-08-08T13:27:10.152699Z",
     "start_time": "2018-08-08T13:27:08.863Z"
    }
   },
   "outputs": [
    {
     "data": {
      "text/plain": [
       "R version 3.4.1 (2017-06-30)\n",
       "Platform: x86_64-pc-linux-gnu (64-bit)\n",
       "Running under: Ubuntu 18.04.1 LTS\n",
       "\n",
       "Matrix products: default\n",
       "BLAS: /ebio/abt3_projects/software/miniconda3_gt4.4/envs/py3_physeq/lib/R/lib/libRblas.so\n",
       "LAPACK: /ebio/abt3_projects/software/miniconda3_gt4.4/envs/py3_physeq/lib/R/lib/libRlapack.so\n",
       "\n",
       "locale:\n",
       " [1] LC_CTYPE=en_US.UTF-8       LC_NUMERIC=C              \n",
       " [3] LC_TIME=en_US.UTF-8        LC_COLLATE=en_US.UTF-8    \n",
       " [5] LC_MONETARY=en_US.UTF-8    LC_MESSAGES=en_US.UTF-8   \n",
       " [7] LC_PAPER=en_US.UTF-8       LC_NAME=C                 \n",
       " [9] LC_ADDRESS=C               LC_TELEPHONE=C            \n",
       "[11] LC_MEASUREMENT=en_US.UTF-8 LC_IDENTIFICATION=C       \n",
       "\n",
       "attached base packages:\n",
       "[1] stats     graphics  grDevices utils     datasets  methods   base     \n",
       "\n",
       "other attached packages:\n",
       "[1] bindrcpp_0.2.2  ape_5.1         phyloseq_1.22.3 ggplot2_3.0.0  \n",
       "[5] tidyr_0.8.1     dplyr_0.7.6    \n",
       "\n",
       "loaded via a namespace (and not attached):\n",
       " [1] Rcpp_0.12.17        lattice_0.20-34     Biostrings_2.46.0  \n",
       " [4] assertthat_0.2.0    digest_0.6.15       foreach_1.4.4      \n",
       " [7] IRdisplay_0.4.4     R6_2.2.2            plyr_1.8.4         \n",
       "[10] repr_0.15.0         stats4_3.4.1        evaluate_0.10.1    \n",
       "[13] pillar_1.2.2        zlibbioc_1.24.0     rlang_0.2.1        \n",
       "[16] lazyeval_0.2.1      uuid_0.1-2          data.table_1.11.4  \n",
       "[19] vegan_2.4-3         S4Vectors_0.16.0    Matrix_1.2-14      \n",
       "[22] splines_3.4.1       stringr_1.3.1       igraph_1.2.1       \n",
       "[25] munsell_0.5.0       compiler_3.4.1      pkgconfig_2.0.1    \n",
       "[28] BiocGenerics_0.24.0 base64enc_0.1-3     multtest_2.34.0    \n",
       "[31] mgcv_1.8-24         htmltools_0.3.6     biomformat_1.6.0   \n",
       "[34] tidyselect_0.2.4    tibble_1.4.2        IRanges_2.12.0     \n",
       "[37] codetools_0.2-15    permute_0.9-4       crayon_1.3.4       \n",
       "[40] withr_2.1.1         MASS_7.3-50         grid_3.4.1         \n",
       "[43] nlme_3.1-131        jsonlite_1.5        gtable_0.2.0       \n",
       "[46] magrittr_1.5        scales_0.5.0        stringi_1.2.3      \n",
       "[49] XVector_0.18.0      reshape2_1.4.3      IRkernel_0.8.12    \n",
       "[52] RColorBrewer_1.1-2  iterators_1.0.10    tools_3.4.1        \n",
       "[55] ade4_1.7-11         Biobase_2.38.0      glue_1.3.0         \n",
       "[58] purrr_0.2.4         parallel_3.4.1      survival_2.42-6    \n",
       "[61] colorspace_1.3-2    rhdf5_2.22.0        cluster_2.0.6      \n",
       "[64] pbdZMQ_0.3-2        bindr_0.1.1        "
      ]
     },
     "metadata": {},
     "output_type": "display_data"
    }
   ],
   "source": [
    "sessionInfo()"
   ]
  },
  {
   "cell_type": "code",
   "execution_count": null,
   "metadata": {},
   "outputs": [],
   "source": []
  }
 ],
 "metadata": {
  "kernelspec": {
   "display_name": "R [conda env:py3_physeq]",
   "language": "R",
   "name": "conda-env-py3_physeq-r"
  },
  "language_info": {
   "codemirror_mode": "r",
   "file_extension": ".r",
   "mimetype": "text/x-r-source",
   "name": "R",
   "pygments_lexer": "r",
   "version": "3.4.1"
  },
  "notify_time": "30",
  "toc": {
   "base_numbering": 1,
   "nav_menu": {},
   "number_sections": true,
   "sideBar": true,
   "skip_h1_title": false,
   "title_cell": "Table of Contents",
   "title_sidebar": "Contents",
   "toc_cell": true,
   "toc_position": {},
   "toc_section_display": "block",
   "toc_window_display": true
  }
 },
 "nbformat": 4,
 "nbformat_minor": 2
}
