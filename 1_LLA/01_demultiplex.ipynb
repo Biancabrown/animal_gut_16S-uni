{
 "cells": [
  {
   "cell_type": "markdown",
   "metadata": {},
   "source": [
    "# Goal\n",
    "\n",
    "* Semultiplex MiSeq 16S rRNA sequence data for the Georg Animal Microbiome dataset\n",
    "\n",
    "\n",
    "## Sequencing method summary\n",
    "\n",
    "* Primers: Carporaso 515F-806R (only forward primer is barcoded)\n",
    "* Sequencer: MiSeq\n",
    "* NGS library prep: paired-end 250 bp\n",
    "\n",
    "## Notes\n",
    "\n",
    "* There are 2 sets of read files (2 MiSeq runs)\n",
    "  * These will need to be demultiplexed separately and then combined"
   ]
  },
  {
   "cell_type": "markdown",
   "metadata": {},
   "source": [
    "# Var"
   ]
  },
  {
   "cell_type": "markdown",
   "metadata": {},
   "source": [
    "## Files/dirs"
   ]
  },
  {
   "cell_type": "code",
   "execution_count": 1,
   "metadata": {
    "ExecuteTime": {
     "end_time": "2017-12-04T10:13:15.144620Z",
     "start_time": "2017-12-04T10:13:15.127038Z"
    }
   },
   "outputs": [],
   "source": [
    "import os\n",
    "\n",
    "work_dir = '/ebio/abt3_projects/Georg_animal_feces/data/16S/LLA/'\n",
    "\n",
    "# reads\n",
    "georg_read_dir = '/ebio/abt3_projects/Georg_animal_feces/data/16S/raw_run_data/georg/qiime2_import/'\n",
    "georg_read1_file = os.path.join(georg_read_dir, 'forward.fastq.gz')\n",
    "georg_read2_file = os.path.join(georg_read_dir, 'reverse.fastq.gz')\n",
    "georg_index_file = os.path.join(georg_read_dir, 'barcodes.fastq.gz')\n",
    "tony_read_dir = '/ebio/abt3_projects/Georg_animal_feces/data/16S/raw_run_data/tony/qiime2_import/'\n",
    "tony_read1_file = os.path.join(tony_read_dir, 'forward.fastq.gz')\n",
    "tony_read2_file = os.path.join(tony_read_dir, 'reverse.fastq.gz')\n",
    "tony_index_file = os.path.join(tony_read_dir, 'barcodes.fastq.gz')\n",
    "\n",
    "# mapping files \n",
    "georg_map_file = '/ebio/abt3_projects/Georg_animal_feces/data/mapping/mapping_from_georg_run/unified_ill_georgtest_map.txt'\n",
    "tony_map_file = '/ebio/abt3_projects/Georg_animal_feces/data/mapping/mapping_from_tony_run/unified_ill_tony_map.txt'"
   ]
  },
  {
   "cell_type": "markdown",
   "metadata": {},
   "source": [
    "## SGE params"
   ]
  },
  {
   "cell_type": "code",
   "execution_count": 2,
   "metadata": {
    "ExecuteTime": {
     "end_time": "2017-12-04T10:13:15.708527Z",
     "start_time": "2017-12-04T10:13:15.702203Z"
    }
   },
   "outputs": [],
   "source": [
    "email='nyoungblut@tuebingen.mpg.de'\n",
    "threads=20   \n",
    "memory='3G'\n",
    "job_time='4:0:0'\n",
    "SGE_out='~/SGE/LLA_Georg'\n",
    "conda_env='qiime2'"
   ]
  },
  {
   "cell_type": "markdown",
   "metadata": {},
   "source": [
    "# Init"
   ]
  },
  {
   "cell_type": "code",
   "execution_count": 3,
   "metadata": {
    "ExecuteTime": {
     "end_time": "2017-12-04T10:13:16.788549Z",
     "start_time": "2017-12-04T10:13:16.780607Z"
    }
   },
   "outputs": [
    {
     "name": "stdout",
     "output_type": "stream",
     "text": [
      "/ebio/abt3_projects/Georg_animal_feces/data/16S/LLA\n"
     ]
    }
   ],
   "source": [
    "%cd $work_dir"
   ]
  },
  {
   "cell_type": "markdown",
   "metadata": {},
   "source": [
    "# Method"
   ]
  },
  {
   "cell_type": "markdown",
   "metadata": {},
   "source": [
    "## Importing data"
   ]
  },
  {
   "cell_type": "markdown",
   "metadata": {},
   "source": [
    "### Georg"
   ]
  },
  {
   "cell_type": "code",
   "execution_count": 4,
   "metadata": {
    "ExecuteTime": {
     "end_time": "2017-12-04T10:13:17.612416Z",
     "start_time": "2017-12-04T10:13:17.606562Z"
    }
   },
   "outputs": [
    {
     "name": "stdout",
     "output_type": "stream",
     "text": [
      "bash -c \"source activate qiime2; qiime tools import   --type EMPPairedEndSequences   --input-path /ebio/abt3_projects/Georg_animal_feces/data/16S/raw_run_data/georg/qiime2_import/   --output-path georg_seqs.qza\n",
      "  \"\n"
     ]
    }
   ],
   "source": [
    "job = 'bash -c \"source activate {}; {}\"'\n",
    "cmd = \"\"\"qiime tools import \\\n",
    "  --type EMPPairedEndSequences \\\n",
    "  --input-path {input_path} \\\n",
    "  --output-path georg_seqs.qza\n",
    "  \"\"\"\n",
    "cmd = cmd.format(input_path=georg_read_dir)\n",
    "\n",
    "job = job.format(conda_env, cmd)\n",
    "print(job)"
   ]
  },
  {
   "cell_type": "code",
   "execution_count": 5,
   "metadata": {
    "ExecuteTime": {
     "end_time": "2017-12-04T10:24:25.744725Z",
     "start_time": "2017-12-04T10:13:18.380057Z"
    }
   },
   "outputs": [],
   "source": [
    "!$job "
   ]
  },
  {
   "cell_type": "code",
   "execution_count": 6,
   "metadata": {
    "ExecuteTime": {
     "end_time": "2017-12-04T10:24:25.872600Z",
     "start_time": "2017-12-04T10:24:25.747200Z"
    }
   },
   "outputs": [
    {
     "name": "stdout",
     "output_type": "stream",
     "text": [
      "total 6.2G\r\n",
      "-rw-r--r-- 1 nyoungblut abt3 6.2G Dec  4 11:24 georg_seqs.qza\r\n",
      "drwxr-sr-x 2 nyoungblut abt3  114 Dec  4 11:10 georg\r\n",
      "drwxr-sr-x 2 nyoungblut abt3  113 Dec  4 11:10 tony\r\n",
      "drwxr-sr-x 2 nyoungblut abt3  153 Dec  1 13:42 phyloseq\r\n",
      "drwxr-sr-x 5 nyoungblut abt3  251 Dec  1 12:23 tmp\r\n",
      "-rw-r--r-- 1 nyoungblut abt3  567 Nov 30 20:35 rooted_tree.sh\r\n",
      "-rw-r--r-- 1 nyoungblut abt3  535 Nov 30 19:47 mask_align.sh\r\n",
      "-rw-r--r-- 1 nyoungblut abt3  541 Nov 30 19:36 align_seqs.sh\r\n",
      "-rw-r--r-- 1 nyoungblut abt3  562 Nov 30 19:07 tax_filter.sh\r\n",
      "-rw-r--r-- 1 nyoungblut abt3  570 Nov 30 19:03 seq_filter.sh\r\n",
      "-rw-r--r-- 1 nyoungblut abt3  767 Nov 30 19:02 export.sh\r\n",
      "-rw-r--r-- 1 nyoungblut abt3  501 Nov 30 18:51 view_tax.sh\r\n",
      "-rw-r--r-- 1 nyoungblut abt3   75 Nov 30 18:12 screenlog.0\r\n",
      "-rw-r--r-- 1 nyoungblut abt3  674 Nov 30 16:19 taxonomy.sh\r\n",
      "-rw-r--r-- 1 nyoungblut abt3  519 Nov 30 16:07 rep_seqs.sh\r\n",
      "-rw-r--r-- 1 nyoungblut abt3  535 Nov 30 13:40 rarefy.sh\r\n",
      "-rw-r--r-- 1 nyoungblut abt3  659 Nov 30 10:21 taxonomy_gg.sh\r\n",
      "-rw-r--r-- 1 nyoungblut abt3  840 Nov 29 10:13 metrics.sh\r\n",
      "-rw-r--r-- 1 nyoungblut abt3  694 Nov 29 09:17 merge.sh\r\n"
     ]
    }
   ],
   "source": [
    "!ls -thlc"
   ]
  },
  {
   "cell_type": "markdown",
   "metadata": {},
   "source": [
    "### Tony"
   ]
  },
  {
   "cell_type": "code",
   "execution_count": 7,
   "metadata": {
    "ExecuteTime": {
     "end_time": "2017-12-04T10:24:25.884475Z",
     "start_time": "2017-12-04T10:24:25.874679Z"
    }
   },
   "outputs": [
    {
     "name": "stdout",
     "output_type": "stream",
     "text": [
      "bash -c \"source activate qiime2; qiime tools import   --type EMPPairedEndSequences   --input-path /ebio/abt3_projects/Georg_animal_feces/data/16S/raw_run_data/tony/qiime2_import/   --output-path tony_seqs.qza\n",
      "  \"\n"
     ]
    }
   ],
   "source": [
    "job = 'bash -c \"source activate {}; {}\"'\n",
    "cmd = \"\"\"qiime tools import \\\n",
    "  --type EMPPairedEndSequences \\\n",
    "  --input-path {input_path} \\\n",
    "  --output-path tony_seqs.qza\n",
    "  \"\"\"\n",
    "cmd = cmd.format(input_path=tony_read_dir)\n",
    "\n",
    "job = job.format(conda_env, cmd)\n",
    "print(job)"
   ]
  },
  {
   "cell_type": "code",
   "execution_count": 8,
   "metadata": {
    "ExecuteTime": {
     "end_time": "2017-12-04T10:37:11.928587Z",
     "start_time": "2017-12-04T10:24:25.886288Z"
    }
   },
   "outputs": [],
   "source": [
    "!$job "
   ]
  },
  {
   "cell_type": "code",
   "execution_count": 9,
   "metadata": {
    "ExecuteTime": {
     "end_time": "2017-12-04T10:37:12.060507Z",
     "start_time": "2017-12-04T10:37:11.930976Z"
    }
   },
   "outputs": [
    {
     "name": "stdout",
     "output_type": "stream",
     "text": [
      "total 13G\r\n",
      "-rw-r--r-- 1 nyoungblut abt3 6.9G Dec  4 11:37 tony_seqs.qza\r\n",
      "-rw-r--r-- 1 nyoungblut abt3 6.2G Dec  4 11:24 georg_seqs.qza\r\n",
      "drwxr-sr-x 2 nyoungblut abt3  114 Dec  4 11:10 georg\r\n",
      "drwxr-sr-x 2 nyoungblut abt3  113 Dec  4 11:10 tony\r\n",
      "drwxr-sr-x 2 nyoungblut abt3  153 Dec  1 13:42 phyloseq\r\n",
      "drwxr-sr-x 5 nyoungblut abt3  251 Dec  1 12:23 tmp\r\n",
      "-rw-r--r-- 1 nyoungblut abt3  567 Nov 30 20:35 rooted_tree.sh\r\n",
      "-rw-r--r-- 1 nyoungblut abt3  535 Nov 30 19:47 mask_align.sh\r\n",
      "-rw-r--r-- 1 nyoungblut abt3  541 Nov 30 19:36 align_seqs.sh\r\n",
      "-rw-r--r-- 1 nyoungblut abt3  562 Nov 30 19:07 tax_filter.sh\r\n",
      "-rw-r--r-- 1 nyoungblut abt3  570 Nov 30 19:03 seq_filter.sh\r\n",
      "-rw-r--r-- 1 nyoungblut abt3  767 Nov 30 19:02 export.sh\r\n",
      "-rw-r--r-- 1 nyoungblut abt3  501 Nov 30 18:51 view_tax.sh\r\n",
      "-rw-r--r-- 1 nyoungblut abt3   75 Nov 30 18:12 screenlog.0\r\n",
      "-rw-r--r-- 1 nyoungblut abt3  674 Nov 30 16:19 taxonomy.sh\r\n",
      "-rw-r--r-- 1 nyoungblut abt3  519 Nov 30 16:07 rep_seqs.sh\r\n",
      "-rw-r--r-- 1 nyoungblut abt3  535 Nov 30 13:40 rarefy.sh\r\n",
      "-rw-r--r-- 1 nyoungblut abt3  659 Nov 30 10:21 taxonomy_gg.sh\r\n",
      "-rw-r--r-- 1 nyoungblut abt3  840 Nov 29 10:13 metrics.sh\r\n",
      "-rw-r--r-- 1 nyoungblut abt3  694 Nov 29 09:17 merge.sh\r\n"
     ]
    }
   ],
   "source": [
    "!ls -thlc"
   ]
  },
  {
   "cell_type": "markdown",
   "metadata": {},
   "source": [
    "## Demultiplex"
   ]
  },
  {
   "cell_type": "markdown",
   "metadata": {},
   "source": [
    "### Georg"
   ]
  },
  {
   "cell_type": "code",
   "execution_count": 10,
   "metadata": {
    "ExecuteTime": {
     "end_time": "2017-12-04T10:37:12.068465Z",
     "start_time": "2017-12-04T10:37:12.062502Z"
    },
    "code_folding": []
   },
   "outputs": [
    {
     "name": "stdout",
     "output_type": "stream",
     "text": [
      "qiime demux emp-paired   --i-seqs georg_seqs.qza   --m-barcodes-file /ebio/abt3_projects/Georg_animal_feces/data/mapping/mapping_from_georg_run/unified_ill_georgtest_map.txt   --m-barcodes-category BarcodeSequence   --o-per-sample-sequences georg_demux.qza   --p-rev-comp-mapping-barcodes\n",
      "\n"
     ]
    }
   ],
   "source": [
    "job = 'bash -c \"source activate {}; {}\"'\n",
    "cmd = \"\"\"qiime demux emp-paired \\\n",
    "  --i-seqs georg_seqs.qza \\\n",
    "  --m-barcodes-file {metadata} \\\n",
    "  --m-barcodes-category BarcodeSequence \\\n",
    "  --o-per-sample-sequences georg_demux.qza \\\n",
    "  --p-rev-comp-mapping-barcodes\n",
    "\"\"\"\n",
    "cmd = cmd.format(metadata=georg_map_file)\n",
    "job = job.format(conda_env, cmd)\n",
    "print(cmd)"
   ]
  },
  {
   "cell_type": "code",
   "execution_count": 11,
   "metadata": {
    "ExecuteTime": {
     "end_time": "2017-12-04T13:12:34.984595Z",
     "start_time": "2017-12-04T10:37:12.070197Z"
    }
   },
   "outputs": [
    {
     "name": "stdout",
     "output_type": "stream",
     "text": [
      "\u001b[32mSaved SampleData[PairedEndSequencesWithQuality] to: georg_demux.qza\u001b[0m\r\n"
     ]
    }
   ],
   "source": [
    "!$job "
   ]
  },
  {
   "cell_type": "code",
   "execution_count": 12,
   "metadata": {
    "ExecuteTime": {
     "end_time": "2017-12-04T13:12:35.112522Z",
     "start_time": "2017-12-04T13:12:34.987066Z"
    }
   },
   "outputs": [
    {
     "name": "stdout",
     "output_type": "stream",
     "text": [
      "total 17G\r\n",
      "-rw-r--r-- 1 nyoungblut abt3 3.8G Dec  4 14:12 georg_demux.qza\r\n",
      "-rw-r--r-- 1 nyoungblut abt3 6.9G Dec  4 11:37 tony_seqs.qza\r\n",
      "-rw-r--r-- 1 nyoungblut abt3 6.2G Dec  4 11:24 georg_seqs.qza\r\n",
      "drwxr-sr-x 2 nyoungblut abt3  114 Dec  4 11:10 georg\r\n",
      "drwxr-sr-x 2 nyoungblut abt3  113 Dec  4 11:10 tony\r\n",
      "drwxr-sr-x 2 nyoungblut abt3  153 Dec  1 13:42 phyloseq\r\n",
      "drwxr-sr-x 5 nyoungblut abt3  251 Dec  1 12:23 tmp\r\n",
      "-rw-r--r-- 1 nyoungblut abt3  567 Nov 30 20:35 rooted_tree.sh\r\n",
      "-rw-r--r-- 1 nyoungblut abt3  535 Nov 30 19:47 mask_align.sh\r\n",
      "-rw-r--r-- 1 nyoungblut abt3  541 Nov 30 19:36 align_seqs.sh\r\n",
      "-rw-r--r-- 1 nyoungblut abt3  562 Nov 30 19:07 tax_filter.sh\r\n",
      "-rw-r--r-- 1 nyoungblut abt3  570 Nov 30 19:03 seq_filter.sh\r\n",
      "-rw-r--r-- 1 nyoungblut abt3  767 Nov 30 19:02 export.sh\r\n",
      "-rw-r--r-- 1 nyoungblut abt3  501 Nov 30 18:51 view_tax.sh\r\n",
      "-rw-r--r-- 1 nyoungblut abt3   75 Nov 30 18:12 screenlog.0\r\n",
      "-rw-r--r-- 1 nyoungblut abt3  674 Nov 30 16:19 taxonomy.sh\r\n",
      "-rw-r--r-- 1 nyoungblut abt3  519 Nov 30 16:07 rep_seqs.sh\r\n",
      "-rw-r--r-- 1 nyoungblut abt3  535 Nov 30 13:40 rarefy.sh\r\n",
      "-rw-r--r-- 1 nyoungblut abt3  659 Nov 30 10:21 taxonomy_gg.sh\r\n",
      "-rw-r--r-- 1 nyoungblut abt3  840 Nov 29 10:13 metrics.sh\r\n",
      "-rw-r--r-- 1 nyoungblut abt3  694 Nov 29 09:17 merge.sh\r\n"
     ]
    }
   ],
   "source": [
    "!ls -thlc"
   ]
  },
  {
   "cell_type": "markdown",
   "metadata": {},
   "source": [
    "#### Summarize data"
   ]
  },
  {
   "cell_type": "code",
   "execution_count": 13,
   "metadata": {
    "ExecuteTime": {
     "end_time": "2017-12-04T13:12:35.120465Z",
     "start_time": "2017-12-04T13:12:35.114673Z"
    }
   },
   "outputs": [
    {
     "name": "stdout",
     "output_type": "stream",
     "text": [
      "bash -c \"source activate qiime2; qiime demux summarize   --i-data georg_demux.qza   --o-visualization georg_demux.qzv\n",
      "\"\n"
     ]
    }
   ],
   "source": [
    "job = 'bash -c \"source activate {}; {}\"'\n",
    "cmd = \"\"\"qiime demux summarize \\\n",
    "  --i-data georg_demux.qza \\\n",
    "  --o-visualization georg_demux.qzv\n",
    "\"\"\"\n",
    "job = job.format(conda_env, cmd)\n",
    "print(job)"
   ]
  },
  {
   "cell_type": "code",
   "execution_count": 14,
   "metadata": {
    "ExecuteTime": {
     "end_time": "2017-12-04T13:21:12.068558Z",
     "start_time": "2017-12-04T13:12:35.122258Z"
    }
   },
   "outputs": [
    {
     "name": "stdout",
     "output_type": "stream",
     "text": [
      "\u001b[32mSaved Visualization to: georg_demux.qzv\u001b[0m\r\n"
     ]
    }
   ],
   "source": [
    "!$job "
   ]
  },
  {
   "cell_type": "code",
   "execution_count": 15,
   "metadata": {
    "ExecuteTime": {
     "end_time": "2017-12-04T13:21:12.196614Z",
     "start_time": "2017-12-04T13:21:12.070759Z"
    }
   },
   "outputs": [
    {
     "name": "stdout",
     "output_type": "stream",
     "text": [
      "total 17G\r\n",
      "-rw-r--r-- 1 nyoungblut abt3 294K Dec  4 14:21 georg_demux.qzv\r\n",
      "-rw-r--r-- 1 nyoungblut abt3 3.8G Dec  4 14:12 georg_demux.qza\r\n",
      "-rw-r--r-- 1 nyoungblut abt3 6.9G Dec  4 11:37 tony_seqs.qza\r\n",
      "-rw-r--r-- 1 nyoungblut abt3 6.2G Dec  4 11:24 georg_seqs.qza\r\n",
      "drwxr-sr-x 2 nyoungblut abt3  114 Dec  4 11:10 georg\r\n",
      "drwxr-sr-x 2 nyoungblut abt3  113 Dec  4 11:10 tony\r\n",
      "drwxr-sr-x 2 nyoungblut abt3  153 Dec  1 13:42 phyloseq\r\n",
      "drwxr-sr-x 5 nyoungblut abt3  251 Dec  1 12:23 tmp\r\n",
      "-rw-r--r-- 1 nyoungblut abt3  567 Nov 30 20:35 rooted_tree.sh\r\n",
      "-rw-r--r-- 1 nyoungblut abt3  535 Nov 30 19:47 mask_align.sh\r\n",
      "-rw-r--r-- 1 nyoungblut abt3  541 Nov 30 19:36 align_seqs.sh\r\n",
      "-rw-r--r-- 1 nyoungblut abt3  562 Nov 30 19:07 tax_filter.sh\r\n",
      "-rw-r--r-- 1 nyoungblut abt3  570 Nov 30 19:03 seq_filter.sh\r\n",
      "-rw-r--r-- 1 nyoungblut abt3  767 Nov 30 19:02 export.sh\r\n",
      "-rw-r--r-- 1 nyoungblut abt3  501 Nov 30 18:51 view_tax.sh\r\n",
      "-rw-r--r-- 1 nyoungblut abt3   75 Nov 30 18:12 screenlog.0\r\n",
      "-rw-r--r-- 1 nyoungblut abt3  674 Nov 30 16:19 taxonomy.sh\r\n",
      "-rw-r--r-- 1 nyoungblut abt3  519 Nov 30 16:07 rep_seqs.sh\r\n",
      "-rw-r--r-- 1 nyoungblut abt3  535 Nov 30 13:40 rarefy.sh\r\n",
      "-rw-r--r-- 1 nyoungblut abt3  659 Nov 30 10:21 taxonomy_gg.sh\r\n",
      "-rw-r--r-- 1 nyoungblut abt3  840 Nov 29 10:13 metrics.sh\r\n",
      "-rw-r--r-- 1 nyoungblut abt3  694 Nov 29 09:17 merge.sh\r\n"
     ]
    }
   ],
   "source": [
    "!ls -thlc"
   ]
  },
  {
   "cell_type": "markdown",
   "metadata": {},
   "source": [
    "### Tony"
   ]
  },
  {
   "cell_type": "code",
   "execution_count": null,
   "metadata": {
    "ExecuteTime": {
     "start_time": "2017-12-04T10:13:39.465Z"
    }
   },
   "outputs": [
    {
     "name": "stdout",
     "output_type": "stream",
     "text": [
      "bash -c \"source activate qiime2; qiime demux emp-paired   --i-seqs tony_seqs.qza   --m-barcodes-file /ebio/abt3_projects/Georg_animal_feces/data/mapping/mapping_from_tony_run/unified_ill_tony_map.txt   --m-barcodes-category BarcodeSequence   --o-per-sample-sequences tony_demux.qza   --p-rev-comp-mapping-barcodes\n",
      "\"\n"
     ]
    }
   ],
   "source": [
    "job = 'bash -c \"source activate {}; {}\"'\n",
    "\n",
    "cmd = \"\"\"qiime demux emp-paired \\\n",
    "  --i-seqs tony_seqs.qza \\\n",
    "  --m-barcodes-file {metadata} \\\n",
    "  --m-barcodes-category BarcodeSequence \\\n",
    "  --o-per-sample-sequences tony_demux.qza \\\n",
    "  --p-rev-comp-mapping-barcodes\n",
    "\"\"\"\n",
    "cmd = cmd.format(metadata=tony_map_file)\n",
    "job = job.format(conda_env, cmd)\n",
    "print(job)"
   ]
  },
  {
   "cell_type": "code",
   "execution_count": null,
   "metadata": {
    "ExecuteTime": {
     "start_time": "2017-12-04T10:13:39.753Z"
    }
   },
   "outputs": [],
   "source": [
    "!$job "
   ]
  },
  {
   "cell_type": "code",
   "execution_count": null,
   "metadata": {
    "ExecuteTime": {
     "start_time": "2017-12-04T10:13:40.658Z"
    }
   },
   "outputs": [],
   "source": [
    "!ls -thlc"
   ]
  },
  {
   "cell_type": "markdown",
   "metadata": {},
   "source": [
    "#### Summarize data"
   ]
  },
  {
   "cell_type": "code",
   "execution_count": null,
   "metadata": {
    "ExecuteTime": {
     "start_time": "2017-12-04T10:13:41.650Z"
    }
   },
   "outputs": [],
   "source": [
    "job = 'bash -c \"source activate {}; {}\"'\n",
    "cmd = \"\"\"qiime demux summarize \\\n",
    "  --i-data tony_demux.qza \\\n",
    "  --o-visualization tony_demux.qzv\n",
    "\"\"\"\n",
    "job = job.format(conda_env, cmd)\n",
    "print(job)"
   ]
  },
  {
   "cell_type": "code",
   "execution_count": null,
   "metadata": {
    "ExecuteTime": {
     "start_time": "2017-12-04T10:13:41.904Z"
    }
   },
   "outputs": [],
   "source": [
    "!$job "
   ]
  },
  {
   "cell_type": "code",
   "execution_count": null,
   "metadata": {
    "ExecuteTime": {
     "start_time": "2017-12-04T10:13:42.085Z"
    }
   },
   "outputs": [],
   "source": [
    "!ls -thlc"
   ]
  },
  {
   "cell_type": "markdown",
   "metadata": {},
   "source": [
    "# SessionInfo"
   ]
  },
  {
   "cell_type": "code",
   "execution_count": 25,
   "metadata": {
    "ExecuteTime": {
     "end_time": "2017-12-05T09:10:08.960491Z",
     "start_time": "2017-12-05T09:10:08.944271Z"
    }
   },
   "outputs": [
    {
     "name": "stdout",
     "output_type": "stream",
     "text": [
      "{'commit_hash': 'ca5443062',\n",
      " 'commit_source': 'installation',\n",
      " 'default_encoding': 'UTF-8',\n",
      " 'ipython_path': '/ebio/abt3_projects/software/miniconda3/envs/qiime2/lib/python3.5/site-packages/IPython',\n",
      " 'ipython_version': '6.2.1',\n",
      " 'os_name': 'posix',\n",
      " 'platform': 'Linux-4.4.67-x86_64-with-debian-stretch-sid',\n",
      " 'sys_executable': '/ebio/abt3_projects/software/miniconda3/envs/qiime2/bin/python',\n",
      " 'sys_platform': 'linux',\n",
      " 'sys_version': '3.5.4 | packaged by conda-forge | (default, Aug 10 2017, '\n",
      "                '01:38:41) \\n'\n",
      "                '[GCC 4.8.2 20140120 (Red Hat 4.8.2-15)]'}\n"
     ]
    }
   ],
   "source": [
    "import IPython\n",
    "print(IPython.sys_info())"
   ]
  },
  {
   "cell_type": "code",
   "execution_count": null,
   "metadata": {},
   "outputs": [],
   "source": []
  }
 ],
 "metadata": {
  "kernelspec": {
   "display_name": "Python [conda env:qiime2]",
   "language": "python",
   "name": "conda-env-qiime2-py"
  },
  "language_info": {
   "codemirror_mode": {
    "name": "ipython",
    "version": 3
   },
   "file_extension": ".py",
   "mimetype": "text/x-python",
   "name": "python",
   "nbconvert_exporter": "python",
   "pygments_lexer": "ipython3",
   "version": "3.5.4"
  },
  "notify_time": "30",
  "toc": {
   "nav_menu": {},
   "number_sections": true,
   "sideBar": true,
   "skip_h1_title": false,
   "toc_cell": false,
   "toc_position": {},
   "toc_section_display": "block",
   "toc_window_display": true
  }
 },
 "nbformat": 4,
 "nbformat_minor": 2
}
