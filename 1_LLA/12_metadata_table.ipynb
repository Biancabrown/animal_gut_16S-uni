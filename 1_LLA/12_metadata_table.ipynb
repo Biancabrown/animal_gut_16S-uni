{
 "cells": [
  {
   "cell_type": "markdown",
   "metadata": {
    "toc": true
   },
   "source": [
    "<h1>Table of Contents<span class=\"tocSkip\"></span></h1>\n",
    "<div class=\"toc\"><ul class=\"toc-item\"><li><span><a href=\"#Goal\" data-toc-modified-id=\"Goal-1\"><span class=\"toc-item-num\">1&nbsp;&nbsp;</span>Goal</a></span></li><li><span><a href=\"#Var\" data-toc-modified-id=\"Var-2\"><span class=\"toc-item-num\">2&nbsp;&nbsp;</span>Var</a></span></li><li><span><a href=\"#Init\" data-toc-modified-id=\"Init-3\"><span class=\"toc-item-num\">3&nbsp;&nbsp;</span>Init</a></span></li><li><span><a href=\"#Load\" data-toc-modified-id=\"Load-4\"><span class=\"toc-item-num\">4&nbsp;&nbsp;</span>Load</a></span></li><li><span><a href=\"#Writing-out-table\" data-toc-modified-id=\"Writing-out-table-5\"><span class=\"toc-item-num\">5&nbsp;&nbsp;</span>Writing out table</a></span></li></ul></div>"
   ]
  },
  {
   "cell_type": "markdown",
   "metadata": {},
   "source": [
    "# Goal\n",
    "\n",
    "Create a metadata table for a supplemental table in the manuscript"
   ]
  },
  {
   "cell_type": "markdown",
   "metadata": {},
   "source": [
    "# Var"
   ]
  },
  {
   "cell_type": "code",
   "execution_count": null,
   "metadata": {
    "ExecuteTime": {
     "end_time": "2018-11-15T13:15:20.856933Z",
     "start_time": "2018-11-15T13:15:17.121Z"
    }
   },
   "outputs": [],
   "source": [
    "work_dir = '/ebio/abt3_projects/Georg_animal_feces/data/16S/db_submission/'\n",
    "physeq_file = '/ebio/abt3_projects/Georg_animal_feces/data/16S/LLA/phyloseq/physeq_r5k.RDS'\n"
   ]
  },
  {
   "cell_type": "markdown",
   "metadata": {},
   "source": [
    "# Init"
   ]
  },
  {
   "cell_type": "code",
   "execution_count": null,
   "metadata": {
    "ExecuteTime": {
     "end_time": "2018-11-15T13:15:29.118633Z",
     "start_time": "2018-11-15T13:15:17.352Z"
    }
   },
   "outputs": [],
   "source": [
    "library(dplyr)\n",
    "library(tidyr)\n",
    "library(ggplot2)\n",
    "library(phyloseq)\n",
    "source('/ebio/abt3_projects/Georg_animal_feces/code/init.R') "
   ]
  },
  {
   "cell_type": "markdown",
   "metadata": {},
   "source": [
    "# Load"
   ]
  },
  {
   "cell_type": "code",
   "execution_count": null,
   "metadata": {
    "ExecuteTime": {
     "end_time": "2018-11-15T13:15:30.536884Z",
     "start_time": "2018-11-15T13:15:17.591Z"
    }
   },
   "outputs": [],
   "source": [
    "physeq = readRDS(physeq_file)\n",
    "physeq"
   ]
  },
  {
   "cell_type": "code",
   "execution_count": null,
   "metadata": {
    "ExecuteTime": {
     "end_time": "2018-11-15T13:15:30.872729Z",
     "start_time": "2018-11-15T13:15:18.345Z"
    }
   },
   "outputs": [],
   "source": [
    "metadata = physeq %>%\n",
    "    sample_data %>% \n",
    "    dplyr::select(X.SampleID, class, order, family, genus, scientific_name,\n",
    "                  sample_type, captive_wild, country, latitude, longitude,\n",
    "                  habitat, habitat_detail, habitat_detail_1, habitat_detail_2, \n",
    "                  diet, diet_breadth, diet_vertebrate, diet_invertebrate, \n",
    "                  diet_fruit, diet_flowers_nectar_pollen, diet_leaves_branches_bark_buds, \n",
    "                  diet_seeds, diet_grass_waterplants, diet_roots_tubers,\n",
    "                  collection_date) %>%\n",
    "    rename('sample_ID' = X.SampleID,\n",
    "           'host_taxonomy_class' = class,\n",
    "           'host_taxonomy_order' = order,\n",
    "           'host_taxonomy_family' = family,\n",
    "           'host_taxonomy_genus' = genus,\n",
    "           'host_taxonomy_species' = scientific_name)\n",
    "\n",
    "metadata %>% dfhead"
   ]
  },
  {
   "cell_type": "markdown",
   "metadata": {},
   "source": [
    "# Writing out table"
   ]
  },
  {
   "cell_type": "code",
   "execution_count": 6,
   "metadata": {
    "ExecuteTime": {
     "end_time": "2018-11-15T13:16:35.719131Z",
     "start_time": "2018-11-15T13:16:35.663Z"
    }
   },
   "outputs": [
    {
     "name": "stdout",
     "output_type": "stream",
     "text": [
      "File written: /ebio/abt3_projects/Georg_animal_feces/data/16S/db_submission//physeq_r5k_metadata-for-MS.tsv \n"
     ]
    }
   ],
   "source": [
    "f = file.path(work_dir, 'physeq_r5k_metadata-for-MS.tsv')\n",
    "write.table(metadata, f, sep='\\t', quote=FALSE, row.names=FALSE)\n",
    "cat('File written:', f, '\\n')"
   ]
  },
  {
   "cell_type": "code",
   "execution_count": null,
   "metadata": {},
   "outputs": [],
   "source": []
  }
 ],
 "metadata": {
  "kernelspec": {
   "display_name": "R [conda env:py3_physeq]",
   "language": "R",
   "name": "conda-env-py3_physeq-r"
  },
  "language_info": {
   "codemirror_mode": "r",
   "file_extension": ".r",
   "mimetype": "text/x-r-source",
   "name": "R",
   "pygments_lexer": "r",
   "version": "3.4.1"
  },
  "toc": {
   "base_numbering": 1,
   "nav_menu": {},
   "number_sections": true,
   "sideBar": true,
   "skip_h1_title": false,
   "title_cell": "Table of Contents",
   "title_sidebar": "Contents",
   "toc_cell": true,
   "toc_position": {},
   "toc_section_display": true,
   "toc_window_display": false
  }
 },
 "nbformat": 4,
 "nbformat_minor": 2
}
