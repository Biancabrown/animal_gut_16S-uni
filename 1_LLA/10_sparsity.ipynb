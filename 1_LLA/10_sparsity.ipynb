{
 "cells": [
  {
   "cell_type": "markdown",
   "metadata": {},
   "source": [
    "# Goal\n",
    "\n",
    "* assess sparsity of dataset"
   ]
  },
  {
   "cell_type": "markdown",
   "metadata": {},
   "source": [
    "# Var"
   ]
  },
  {
   "cell_type": "code",
   "execution_count": 87,
   "metadata": {
    "ExecuteTime": {
     "end_time": "2018-11-29T14:44:37.059771Z",
     "start_time": "2018-11-29T14:44:39.003Z"
    }
   },
   "outputs": [],
   "source": [
    "work_dir = '/ebio/abt3_projects/Georg_animal_feces/data/16S/LLA/sparsity/'\n",
    "\n",
    "physeq_file = '/ebio/abt3_projects/Georg_animal_feces/data/16S/LLA/phyloseq/physeq_r5k.RDS'\n",
    "\n",
    "threads = 12"
   ]
  },
  {
   "cell_type": "markdown",
   "metadata": {},
   "source": [
    "# Init"
   ]
  },
  {
   "cell_type": "code",
   "execution_count": 88,
   "metadata": {
    "ExecuteTime": {
     "end_time": "2018-11-29T14:44:37.476611Z",
     "start_time": "2018-11-29T14:44:39.410Z"
    }
   },
   "outputs": [],
   "source": [
    "library(dplyr)\n",
    "library(tidyr)\n",
    "library(ggplot2)\n",
    "library(phyloseq)\n",
    "source('/ebio/abt3_projects/Georg_animal_feces/code/init.R') "
   ]
  },
  {
   "cell_type": "code",
   "execution_count": 89,
   "metadata": {
    "ExecuteTime": {
     "end_time": "2018-11-29T14:44:37.606869Z",
     "start_time": "2018-11-29T14:44:39.552Z"
    }
   },
   "outputs": [
    {
     "name": "stdout",
     "output_type": "stream",
     "text": [
      "Directory already exists: /ebio/abt3_projects/Georg_animal_feces/data/16S/LLA/sparsity/ \n"
     ]
    }
   ],
   "source": [
    "make_dir(work_dir)"
   ]
  },
  {
   "cell_type": "markdown",
   "metadata": {},
   "source": [
    "# Load"
   ]
  },
  {
   "cell_type": "code",
   "execution_count": 90,
   "metadata": {
    "ExecuteTime": {
     "end_time": "2018-11-29T14:44:39.271853Z",
     "start_time": "2018-11-29T14:44:40.420Z"
    }
   },
   "outputs": [
    {
     "data": {
      "text/plain": [
       "phyloseq-class experiment-level object\n",
       "otu_table()   OTU Table:         [ 30290 taxa and 213 samples ]\n",
       "sample_data() Sample Data:       [ 213 samples by 171 sample variables ]\n",
       "tax_table()   Taxonomy Table:    [ 30290 taxa by 7 taxonomic ranks ]\n",
       "phy_tree()    Phylogenetic Tree: [ 30290 tips and 29752 internal nodes ]"
      ]
     },
     "metadata": {},
     "output_type": "display_data"
    }
   ],
   "source": [
    "physeq = readRDS(physeq_file)\n",
    "physeq"
   ]
  },
  {
   "cell_type": "code",
   "execution_count": 91,
   "metadata": {
    "ExecuteTime": {
     "end_time": "2018-11-29T14:44:39.436651Z",
     "start_time": "2018-11-29T14:44:40.719Z"
    }
   },
   "outputs": [
    {
     "name": "stderr",
     "output_type": "stream",
     "text": [
      "Warning message in class(X) <- NULL:\n",
      "“Setting class(x) to NULL;   result will no longer be an S4 object”"
     ]
    },
    {
     "name": "stdout",
     "output_type": "stream",
     "text": [
      "[1] 213   5\n"
     ]
    },
    {
     "data": {
      "text/html": [
       "<table>\n",
       "<thead><tr><th scope=col>Sample_ID</th><th scope=col>class</th><th scope=col>order</th><th scope=col>family</th><th scope=col>genus</th></tr></thead>\n",
       "<tbody>\n",
       "\t<tr><td>X1.Eurasian.Beaver</td><td>Mammalia          </td><td>Rodentia          </td><td>Castoridae        </td><td>Castor            </td></tr>\n",
       "\t<tr><td>X101.Horse        </td><td>Mammalia          </td><td>Perissodactyla    </td><td>Equidae           </td><td>Equus             </td></tr>\n",
       "\t<tr><td>X102.Kulan        </td><td>Mammalia          </td><td>Perissodactyla    </td><td>Equidae           </td><td>Equus             </td></tr>\n",
       "</tbody>\n",
       "</table>\n"
      ],
      "text/latex": [
       "\\begin{tabular}{r|lllll}\n",
       " Sample\\_ID & class & order & family & genus\\\\\n",
       "\\hline\n",
       "\t X1.Eurasian.Beaver & Mammalia           & Rodentia           & Castoridae         & Castor            \\\\\n",
       "\t X101.Horse         & Mammalia           & Perissodactyla     & Equidae            & Equus             \\\\\n",
       "\t X102.Kulan         & Mammalia           & Perissodactyla     & Equidae            & Equus             \\\\\n",
       "\\end{tabular}\n"
      ],
      "text/markdown": [
       "\n",
       "Sample_ID | class | order | family | genus | \n",
       "|---|---|---|\n",
       "| X1.Eurasian.Beaver | Mammalia           | Rodentia           | Castoridae         | Castor             | \n",
       "| X101.Horse         | Mammalia           | Perissodactyla     | Equidae            | Equus              | \n",
       "| X102.Kulan         | Mammalia           | Perissodactyla     | Equidae            | Equus              | \n",
       "\n",
       "\n"
      ],
      "text/plain": [
       "  Sample_ID          class    order          family     genus \n",
       "1 X1.Eurasian.Beaver Mammalia Rodentia       Castoridae Castor\n",
       "2 X101.Horse         Mammalia Perissodactyla Equidae    Equus \n",
       "3 X102.Kulan         Mammalia Perissodactyla Equidae    Equus "
      ]
     },
     "metadata": {},
     "output_type": "display_data"
    }
   ],
   "source": [
    "metadata = physeq %>%\n",
    "    sample_data %>%\n",
    "    as.matrix %>%\n",
    "    as.data.frame %>%\n",
    "    mutate(Sample_ID = rownames(.)) %>%\n",
    "    dplyr::select(Sample_ID, class, order, family, genus)\n",
    "\n",
    "metadata %>% dfhead"
   ]
  },
  {
   "cell_type": "markdown",
   "metadata": {},
   "source": [
    "# Sparsity by % of samples"
   ]
  },
  {
   "cell_type": "markdown",
   "metadata": {},
   "source": [
    "## Sparsity plot"
   ]
  },
  {
   "cell_type": "code",
   "execution_count": 92,
   "metadata": {
    "ExecuteTime": {
     "end_time": "2018-11-29T14:45:00.678864Z",
     "start_time": "2018-11-29T14:44:42.192Z"
    }
   },
   "outputs": [
    {
     "name": "stdout",
     "output_type": "stream",
     "text": [
      "[1] 30290   213\n"
     ]
    },
    {
     "data": {
      "text/html": [
       "<table>\n",
       "<thead><tr><th></th><th scope=col>X1.Eurasian.Beaver</th><th scope=col>X101.Horse</th><th scope=col>X102.Kulan</th><th scope=col>X109.Red.Fox</th><th scope=col>X110.Noctule</th><th scope=col>X111.West.European.Hedgehog</th><th scope=col>X116.Common.Kestrel</th><th scope=col>X122.Wild.Boar</th><th scope=col>X123.Alpine.Chamois</th><th scope=col>X124.Golden.Jackal</th><th scope=col>⋯</th><th scope=col>F45.Red.Deer</th><th scope=col>F47.Red.Deer</th><th scope=col>F48.Red.Deer</th><th scope=col>F53.Mouflon</th><th scope=col>F66.Wild.Boar</th><th scope=col>F68.Red.Deer</th><th scope=col>F69.Red.Deer</th><th scope=col>F70.Red.Deer</th><th scope=col>F80.Red.Deer</th><th scope=col>F90.Domestic.Dog</th></tr></thead>\n",
       "<tbody>\n",
       "\t<tr><th scope=row>ea2df9bcd7f6a10e0fa509d237d19c6d</th><td>0</td><td>2</td><td>0</td><td>0</td><td>0</td><td>0</td><td>0</td><td>0</td><td>0</td><td>0</td><td>⋯</td><td>0</td><td>0</td><td>0</td><td>0</td><td>0</td><td>0</td><td>0</td><td>0</td><td>0</td><td>0</td></tr>\n",
       "\t<tr><th scope=row>130b094f31455943fb20899a36af8afd</th><td>0</td><td>0</td><td>0</td><td>0</td><td>0</td><td>0</td><td>0</td><td>0</td><td>0</td><td>0</td><td>⋯</td><td>0</td><td>0</td><td>0</td><td>0</td><td>0</td><td>0</td><td>0</td><td>0</td><td>0</td><td>0</td></tr>\n",
       "\t<tr><th scope=row>b9b9562a0f34ad60c552f7f46d7a4b3b</th><td>0</td><td>0</td><td>0</td><td>0</td><td>0</td><td>0</td><td>0</td><td>0</td><td>0</td><td>0</td><td>⋯</td><td>0</td><td>0</td><td>0</td><td>0</td><td>0</td><td>0</td><td>0</td><td>0</td><td>0</td><td>0</td></tr>\n",
       "</tbody>\n",
       "</table>\n"
      ],
      "text/latex": [
       "\\begin{tabular}{r|lllllllllllllllllllllllllllllllllllllllllllllllllllllllllllllllllllllllllllllllllllllllllllllllllllllllllllllllllllllllllllllllllllllllllllllllllllllllllllllllllllllllllllllllllllllllllllllllllllllllllllllllllllll}\n",
       "  & X1.Eurasian.Beaver & X101.Horse & X102.Kulan & X109.Red.Fox & X110.Noctule & X111.West.European.Hedgehog & X116.Common.Kestrel & X122.Wild.Boar & X123.Alpine.Chamois & X124.Golden.Jackal & ⋯ & F45.Red.Deer & F47.Red.Deer & F48.Red.Deer & F53.Mouflon & F66.Wild.Boar & F68.Red.Deer & F69.Red.Deer & F70.Red.Deer & F80.Red.Deer & F90.Domestic.Dog\\\\\n",
       "\\hline\n",
       "\tea2df9bcd7f6a10e0fa509d237d19c6d & 0 & 2 & 0 & 0 & 0 & 0 & 0 & 0 & 0 & 0 & ⋯ & 0 & 0 & 0 & 0 & 0 & 0 & 0 & 0 & 0 & 0\\\\\n",
       "\t130b094f31455943fb20899a36af8afd & 0 & 0 & 0 & 0 & 0 & 0 & 0 & 0 & 0 & 0 & ⋯ & 0 & 0 & 0 & 0 & 0 & 0 & 0 & 0 & 0 & 0\\\\\n",
       "\tb9b9562a0f34ad60c552f7f46d7a4b3b & 0 & 0 & 0 & 0 & 0 & 0 & 0 & 0 & 0 & 0 & ⋯ & 0 & 0 & 0 & 0 & 0 & 0 & 0 & 0 & 0 & 0\\\\\n",
       "\\end{tabular}\n"
      ],
      "text/markdown": [
       "\n",
       "| <!--/--> | X1.Eurasian.Beaver | X101.Horse | X102.Kulan | X109.Red.Fox | X110.Noctule | X111.West.European.Hedgehog | X116.Common.Kestrel | X122.Wild.Boar | X123.Alpine.Chamois | X124.Golden.Jackal | ⋯ | F45.Red.Deer | F47.Red.Deer | F48.Red.Deer | F53.Mouflon | F66.Wild.Boar | F68.Red.Deer | F69.Red.Deer | F70.Red.Deer | F80.Red.Deer | F90.Domestic.Dog | \n",
       "|---|---|---|\n",
       "| ea2df9bcd7f6a10e0fa509d237d19c6d | 0 | 2 | 0 | 0 | 0 | 0 | 0 | 0 | 0 | 0 | ⋯ | 0 | 0 | 0 | 0 | 0 | 0 | 0 | 0 | 0 | 0 | \n",
       "| 130b094f31455943fb20899a36af8afd | 0 | 0 | 0 | 0 | 0 | 0 | 0 | 0 | 0 | 0 | ⋯ | 0 | 0 | 0 | 0 | 0 | 0 | 0 | 0 | 0 | 0 | \n",
       "| b9b9562a0f34ad60c552f7f46d7a4b3b | 0 | 0 | 0 | 0 | 0 | 0 | 0 | 0 | 0 | 0 | ⋯ | 0 | 0 | 0 | 0 | 0 | 0 | 0 | 0 | 0 | 0 | \n",
       "\n",
       "\n"
      ],
      "text/plain": [
       "                                 X1.Eurasian.Beaver X101.Horse X102.Kulan\n",
       "ea2df9bcd7f6a10e0fa509d237d19c6d 0                  2          0         \n",
       "130b094f31455943fb20899a36af8afd 0                  0          0         \n",
       "b9b9562a0f34ad60c552f7f46d7a4b3b 0                  0          0         \n",
       "                                 X109.Red.Fox X110.Noctule\n",
       "ea2df9bcd7f6a10e0fa509d237d19c6d 0            0           \n",
       "130b094f31455943fb20899a36af8afd 0            0           \n",
       "b9b9562a0f34ad60c552f7f46d7a4b3b 0            0           \n",
       "                                 X111.West.European.Hedgehog\n",
       "ea2df9bcd7f6a10e0fa509d237d19c6d 0                          \n",
       "130b094f31455943fb20899a36af8afd 0                          \n",
       "b9b9562a0f34ad60c552f7f46d7a4b3b 0                          \n",
       "                                 X116.Common.Kestrel X122.Wild.Boar\n",
       "ea2df9bcd7f6a10e0fa509d237d19c6d 0                   0             \n",
       "130b094f31455943fb20899a36af8afd 0                   0             \n",
       "b9b9562a0f34ad60c552f7f46d7a4b3b 0                   0             \n",
       "                                 X123.Alpine.Chamois X124.Golden.Jackal ⋯\n",
       "ea2df9bcd7f6a10e0fa509d237d19c6d 0                   0                  ⋯\n",
       "130b094f31455943fb20899a36af8afd 0                   0                  ⋯\n",
       "b9b9562a0f34ad60c552f7f46d7a4b3b 0                   0                  ⋯\n",
       "                                 F45.Red.Deer F47.Red.Deer F48.Red.Deer\n",
       "ea2df9bcd7f6a10e0fa509d237d19c6d 0            0            0           \n",
       "130b094f31455943fb20899a36af8afd 0            0            0           \n",
       "b9b9562a0f34ad60c552f7f46d7a4b3b 0            0            0           \n",
       "                                 F53.Mouflon F66.Wild.Boar F68.Red.Deer\n",
       "ea2df9bcd7f6a10e0fa509d237d19c6d 0           0             0           \n",
       "130b094f31455943fb20899a36af8afd 0           0             0           \n",
       "b9b9562a0f34ad60c552f7f46d7a4b3b 0           0             0           \n",
       "                                 F69.Red.Deer F70.Red.Deer F80.Red.Deer\n",
       "ea2df9bcd7f6a10e0fa509d237d19c6d 0            0            0           \n",
       "130b094f31455943fb20899a36af8afd 0            0            0           \n",
       "b9b9562a0f34ad60c552f7f46d7a4b3b 0            0            0           \n",
       "                                 F90.Domestic.Dog\n",
       "ea2df9bcd7f6a10e0fa509d237d19c6d 0               \n",
       "130b094f31455943fb20899a36af8afd 0               \n",
       "b9b9562a0f34ad60c552f7f46d7a4b3b 0               "
      ]
     },
     "metadata": {},
     "output_type": "display_data"
    }
   ],
   "source": [
    "# otu table\n",
    "otu = physeq %>%\n",
    "    otu_table %>%\n",
    "    as.matrix %>%\n",
    "    as.data.frame \n",
    "\n",
    "otu %>% dfhead"
   ]
  },
  {
   "cell_type": "code",
   "execution_count": 93,
   "metadata": {
    "ExecuteTime": {
     "end_time": "2018-11-29T14:45:01.668258Z",
     "start_time": "2018-11-29T14:44:42.970Z"
    }
   },
   "outputs": [
    {
     "name": "stdout",
     "output_type": "stream",
     "text": [
      "[1] 30290     2\n"
     ]
    },
    {
     "data": {
      "text/html": [
       "<table>\n",
       "<thead><tr><th scope=col>Prevalence</th><th scope=col>OTU</th></tr></thead>\n",
       "<tbody>\n",
       "\t<tr><td>0.9389671                       </td><td>ea2df9bcd7f6a10e0fa509d237d19c6d</td></tr>\n",
       "\t<tr><td>0.4694836                       </td><td>130b094f31455943fb20899a36af8afd</td></tr>\n",
       "\t<tr><td>0.4694836                       </td><td>b9b9562a0f34ad60c552f7f46d7a4b3b</td></tr>\n",
       "</tbody>\n",
       "</table>\n"
      ],
      "text/latex": [
       "\\begin{tabular}{r|ll}\n",
       " Prevalence & OTU\\\\\n",
       "\\hline\n",
       "\t 0.9389671                        & ea2df9bcd7f6a10e0fa509d237d19c6d\\\\\n",
       "\t 0.4694836                        & 130b094f31455943fb20899a36af8afd\\\\\n",
       "\t 0.4694836                        & b9b9562a0f34ad60c552f7f46d7a4b3b\\\\\n",
       "\\end{tabular}\n"
      ],
      "text/markdown": [
       "\n",
       "Prevalence | OTU | \n",
       "|---|---|---|\n",
       "| 0.9389671                        | ea2df9bcd7f6a10e0fa509d237d19c6d | \n",
       "| 0.4694836                        | 130b094f31455943fb20899a36af8afd | \n",
       "| 0.4694836                        | b9b9562a0f34ad60c552f7f46d7a4b3b | \n",
       "\n",
       "\n"
      ],
      "text/plain": [
       "  Prevalence OTU                             \n",
       "1 0.9389671  ea2df9bcd7f6a10e0fa509d237d19c6d\n",
       "2 0.4694836  130b094f31455943fb20899a36af8afd\n",
       "3 0.4694836  b9b9562a0f34ad60c552f7f46d7a4b3b"
      ]
     },
     "metadata": {},
     "output_type": "display_data"
    }
   ],
   "source": [
    "# determining prevalence\n",
    "prev = otu %>% apply(1, function(x) sum(x>0) / length(x) * 100) %>% as.data.frame\n",
    "colnames(prev) = c('Prevalence')\n",
    "prev$OTU = rownames(prev)\n",
    "rownames(prev) = 1:nrow(prev)\n",
    "prev %>% dfhead"
   ]
  },
  {
   "cell_type": "code",
   "execution_count": 94,
   "metadata": {
    "ExecuteTime": {
     "end_time": "2018-11-29T14:45:01.707433Z",
     "start_time": "2018-11-29T14:44:43.272Z"
    }
   },
   "outputs": [
    {
     "data": {
      "text/plain": [
       "   Min. 1st Qu.  Median    Mean 3rd Qu.    Max. \n",
       " 0.4695  0.4695  0.4695  0.8491  0.9390 35.6808 "
      ]
     },
     "metadata": {},
     "output_type": "display_data"
    }
   ],
   "source": [
    "# summary\n",
    "prev$Prevalence %>% summary"
   ]
  },
  {
   "cell_type": "code",
   "execution_count": 95,
   "metadata": {
    "ExecuteTime": {
     "end_time": "2018-11-29T14:45:02.590132Z",
     "start_time": "2018-11-29T14:44:44.200Z"
    }
   },
   "outputs": [
    {
     "name": "stdout",
     "output_type": "stream",
     "text": [
      "File written: /ebio/abt3_projects/Georg_animal_feces/notebooks/16S/1_LLA/.figures/IndD_sparsity-histo.pdf \n"
     ]
    },
    {
     "data": {
      "image/png": "[encoded data removed]",
      "text/plain": [
       "plot without title"
      ]
     },
     "metadata": {},
     "output_type": "display_data"
    }
   ],
   "source": [
    "# plotting\n",
    "p = ggplot(prev, aes(Prevalence)) +\n",
    "    geom_histogram(binwidth=1) +\n",
    "    labs(x='% of samples', y='No. of OTUs') +\n",
    "    theme_bw()\n",
    "\n",
    "options(repr.plot.width=4, repr.plot.height=2.5)\n",
    "plot_write(p, file='IndD_sparsity-histo.pdf')"
   ]
  },
  {
   "cell_type": "markdown",
   "metadata": {},
   "source": [
    "### By host class"
   ]
  },
  {
   "cell_type": "code",
   "execution_count": 96,
   "metadata": {
    "ExecuteTime": {
     "end_time": "2018-11-29T14:45:20.802181Z",
     "start_time": "2018-11-29T14:44:46.906Z"
    }
   },
   "outputs": [
    {
     "name": "stdout",
     "output_type": "stream",
     "text": [
      "[1] 6451770       3\n"
     ]
    },
    {
     "data": {
      "text/html": [
       "<table>\n",
       "<thead><tr><th scope=col>OTU</th><th scope=col>sample</th><th scope=col>count</th></tr></thead>\n",
       "<tbody>\n",
       "\t<tr><td>ea2df9bcd7f6a10e0fa509d237d19c6d</td><td>X1.Eurasian.Beaver              </td><td>0                               </td></tr>\n",
       "\t<tr><td>130b094f31455943fb20899a36af8afd</td><td>X1.Eurasian.Beaver              </td><td>0                               </td></tr>\n",
       "\t<tr><td>b9b9562a0f34ad60c552f7f46d7a4b3b</td><td>X1.Eurasian.Beaver              </td><td>0                               </td></tr>\n",
       "</tbody>\n",
       "</table>\n"
      ],
      "text/latex": [
       "\\begin{tabular}{r|lll}\n",
       " OTU & sample & count\\\\\n",
       "\\hline\n",
       "\t ea2df9bcd7f6a10e0fa509d237d19c6d & X1.Eurasian.Beaver               & 0                               \\\\\n",
       "\t 130b094f31455943fb20899a36af8afd & X1.Eurasian.Beaver               & 0                               \\\\\n",
       "\t b9b9562a0f34ad60c552f7f46d7a4b3b & X1.Eurasian.Beaver               & 0                               \\\\\n",
       "\\end{tabular}\n"
      ],
      "text/markdown": [
       "\n",
       "OTU | sample | count | \n",
       "|---|---|---|\n",
       "| ea2df9bcd7f6a10e0fa509d237d19c6d | X1.Eurasian.Beaver               | 0                                | \n",
       "| 130b094f31455943fb20899a36af8afd | X1.Eurasian.Beaver               | 0                                | \n",
       "| b9b9562a0f34ad60c552f7f46d7a4b3b | X1.Eurasian.Beaver               | 0                                | \n",
       "\n",
       "\n"
      ],
      "text/plain": [
       "  OTU                              sample             count\n",
       "1 ea2df9bcd7f6a10e0fa509d237d19c6d X1.Eurasian.Beaver 0    \n",
       "2 130b094f31455943fb20899a36af8afd X1.Eurasian.Beaver 0    \n",
       "3 b9b9562a0f34ad60c552f7f46d7a4b3b X1.Eurasian.Beaver 0    "
      ]
     },
     "metadata": {},
     "output_type": "display_data"
    }
   ],
   "source": [
    "# otu table\n",
    "otu = physeq %>%\n",
    "    otu_table %>%\n",
    "    as.matrix %>%\n",
    "    as.data.frame %>%\n",
    "    mutate(OTU = rownames(.)) %>%\n",
    "    gather(sample, count, -OTU)\n",
    "\n",
    "otu %>% dfhead"
   ]
  },
  {
   "cell_type": "code",
   "execution_count": 97,
   "metadata": {
    "ExecuteTime": {
     "end_time": "2018-11-29T14:45:20.972291Z",
     "start_time": "2018-11-29T14:45:07.770Z"
    }
   },
   "outputs": [
    {
     "name": "stderr",
     "output_type": "stream",
     "text": [
      "Warning message in class(X) <- NULL:\n",
      "“Setting class(x) to NULL;   result will no longer be an S4 object”"
     ]
    },
    {
     "name": "stdout",
     "output_type": "stream",
     "text": [
      "[1] 213   6\n"
     ]
    },
    {
     "data": {
      "text/html": [
       "<table>\n",
       "<thead><tr><th scope=col>Sample_ID</th><th scope=col>class</th><th scope=col>order</th><th scope=col>family</th><th scope=col>genus</th><th scope=col>scientific_name</th></tr></thead>\n",
       "<tbody>\n",
       "\t<tr><td>X1.Eurasian.Beaver</td><td>Mammalia          </td><td>Rodentia          </td><td>Castoridae        </td><td>Castor            </td><td>Castor_fiber      </td></tr>\n",
       "\t<tr><td>X101.Horse        </td><td>Mammalia          </td><td>Perissodactyla    </td><td>Equidae           </td><td>Equus             </td><td>Equus_caballus    </td></tr>\n",
       "\t<tr><td>X102.Kulan        </td><td>Mammalia          </td><td>Perissodactyla    </td><td>Equidae           </td><td>Equus             </td><td>Equus_hemionus    </td></tr>\n",
       "</tbody>\n",
       "</table>\n"
      ],
      "text/latex": [
       "\\begin{tabular}{r|llllll}\n",
       " Sample\\_ID & class & order & family & genus & scientific\\_name\\\\\n",
       "\\hline\n",
       "\t X1.Eurasian.Beaver & Mammalia           & Rodentia           & Castoridae         & Castor             & Castor\\_fiber    \\\\\n",
       "\t X101.Horse         & Mammalia           & Perissodactyla     & Equidae            & Equus              & Equus\\_caballus  \\\\\n",
       "\t X102.Kulan         & Mammalia           & Perissodactyla     & Equidae            & Equus              & Equus\\_hemionus  \\\\\n",
       "\\end{tabular}\n"
      ],
      "text/markdown": [
       "\n",
       "Sample_ID | class | order | family | genus | scientific_name | \n",
       "|---|---|---|\n",
       "| X1.Eurasian.Beaver | Mammalia           | Rodentia           | Castoridae         | Castor             | Castor_fiber       | \n",
       "| X101.Horse         | Mammalia           | Perissodactyla     | Equidae            | Equus              | Equus_caballus     | \n",
       "| X102.Kulan         | Mammalia           | Perissodactyla     | Equidae            | Equus              | Equus_hemionus     | \n",
       "\n",
       "\n"
      ],
      "text/plain": [
       "  Sample_ID          class    order          family     genus  scientific_name\n",
       "1 X1.Eurasian.Beaver Mammalia Rodentia       Castoridae Castor Castor_fiber   \n",
       "2 X101.Horse         Mammalia Perissodactyla Equidae    Equus  Equus_caballus \n",
       "3 X102.Kulan         Mammalia Perissodactyla Equidae    Equus  Equus_hemionus "
      ]
     },
     "metadata": {},
     "output_type": "display_data"
    }
   ],
   "source": [
    "# metdata\n",
    "metadata = physeq %>%\n",
    "    sample_data %>%\n",
    "    as.matrix %>%\n",
    "    as.data.frame %>%\n",
    "    mutate(Sample_ID = rownames(.)) %>%\n",
    "    dplyr::select(Sample_ID, class, order, family, genus, scientific_name)\n",
    "\n",
    "metadata %>% dfhead"
   ]
  },
  {
   "cell_type": "code",
   "execution_count": 98,
   "metadata": {
    "ExecuteTime": {
     "end_time": "2018-11-29T14:45:48.072619Z",
     "start_time": "2018-11-29T14:45:09.561Z"
    }
   },
   "outputs": [
    {
     "name": "stdout",
     "output_type": "stream",
     "text": [
      "[1] 151450      3\n"
     ]
    },
    {
     "data": {
      "text/html": [
       "<table>\n",
       "<thead><tr><th scope=col>OTU</th><th scope=col>class</th><th scope=col>Prevalence</th></tr></thead>\n",
       "<tbody>\n",
       "\t<tr><td>0001fc475a4ad532d85da4d26068f1ec</td><td>Actinopterygii                  </td><td>0                               </td></tr>\n",
       "\t<tr><td>0001fc475a4ad532d85da4d26068f1ec</td><td>Amphibia                        </td><td>0                               </td></tr>\n",
       "\t<tr><td>0001fc475a4ad532d85da4d26068f1ec</td><td>Aves                            </td><td>0                               </td></tr>\n",
       "</tbody>\n",
       "</table>\n"
      ],
      "text/latex": [
       "\\begin{tabular}{r|lll}\n",
       " OTU & class & Prevalence\\\\\n",
       "\\hline\n",
       "\t 0001fc475a4ad532d85da4d26068f1ec & Actinopterygii                   & 0                               \\\\\n",
       "\t 0001fc475a4ad532d85da4d26068f1ec & Amphibia                         & 0                               \\\\\n",
       "\t 0001fc475a4ad532d85da4d26068f1ec & Aves                             & 0                               \\\\\n",
       "\\end{tabular}\n"
      ],
      "text/markdown": [
       "\n",
       "OTU | class | Prevalence | \n",
       "|---|---|---|\n",
       "| 0001fc475a4ad532d85da4d26068f1ec | Actinopterygii                   | 0                                | \n",
       "| 0001fc475a4ad532d85da4d26068f1ec | Amphibia                         | 0                                | \n",
       "| 0001fc475a4ad532d85da4d26068f1ec | Aves                             | 0                                | \n",
       "\n",
       "\n"
      ],
      "text/plain": [
       "  OTU                              class          Prevalence\n",
       "1 0001fc475a4ad532d85da4d26068f1ec Actinopterygii 0         \n",
       "2 0001fc475a4ad532d85da4d26068f1ec Amphibia       0         \n",
       "3 0001fc475a4ad532d85da4d26068f1ec Aves           0         "
      ]
     },
     "metadata": {},
     "output_type": "display_data"
    }
   ],
   "source": [
    "# determining prevalence\n",
    "prev = otu %>%\n",
    "    inner_join(metadata, c('sample'='Sample_ID')) %>%\n",
    "    group_by(OTU, class) %>%\n",
    "    summarize(Prevalence = sum(count>0) / length(count) * 100) %>%\n",
    "    ungroup()\n",
    "              \n",
    "prev %>% dfhead"
   ]
  },
  {
   "cell_type": "markdown",
   "metadata": {},
   "source": [
    "## Aggregating by taxonomic level"
   ]
  },
  {
   "cell_type": "code",
   "execution_count": 99,
   "metadata": {
    "ExecuteTime": {
     "end_time": "2018-11-29T14:46:05.768904Z",
     "start_time": "2018-11-29T14:45:10.799Z"
    }
   },
   "outputs": [
    {
     "name": "stdout",
     "output_type": "stream",
     "text": [
      "[1] 6451770       3\n"
     ]
    },
    {
     "data": {
      "text/html": [
       "<table>\n",
       "<thead><tr><th scope=col>OTU</th><th scope=col>sample</th><th scope=col>count</th></tr></thead>\n",
       "<tbody>\n",
       "\t<tr><td>ea2df9bcd7f6a10e0fa509d237d19c6d</td><td>X1.Eurasian.Beaver              </td><td>0                               </td></tr>\n",
       "\t<tr><td>130b094f31455943fb20899a36af8afd</td><td>X1.Eurasian.Beaver              </td><td>0                               </td></tr>\n",
       "\t<tr><td>b9b9562a0f34ad60c552f7f46d7a4b3b</td><td>X1.Eurasian.Beaver              </td><td>0                               </td></tr>\n",
       "</tbody>\n",
       "</table>\n"
      ],
      "text/latex": [
       "\\begin{tabular}{r|lll}\n",
       " OTU & sample & count\\\\\n",
       "\\hline\n",
       "\t ea2df9bcd7f6a10e0fa509d237d19c6d & X1.Eurasian.Beaver               & 0                               \\\\\n",
       "\t 130b094f31455943fb20899a36af8afd & X1.Eurasian.Beaver               & 0                               \\\\\n",
       "\t b9b9562a0f34ad60c552f7f46d7a4b3b & X1.Eurasian.Beaver               & 0                               \\\\\n",
       "\\end{tabular}\n"
      ],
      "text/markdown": [
       "\n",
       "OTU | sample | count | \n",
       "|---|---|---|\n",
       "| ea2df9bcd7f6a10e0fa509d237d19c6d | X1.Eurasian.Beaver               | 0                                | \n",
       "| 130b094f31455943fb20899a36af8afd | X1.Eurasian.Beaver               | 0                                | \n",
       "| b9b9562a0f34ad60c552f7f46d7a4b3b | X1.Eurasian.Beaver               | 0                                | \n",
       "\n",
       "\n"
      ],
      "text/plain": [
       "  OTU                              sample             count\n",
       "1 ea2df9bcd7f6a10e0fa509d237d19c6d X1.Eurasian.Beaver 0    \n",
       "2 130b094f31455943fb20899a36af8afd X1.Eurasian.Beaver 0    \n",
       "3 b9b9562a0f34ad60c552f7f46d7a4b3b X1.Eurasian.Beaver 0    "
      ]
     },
     "metadata": {},
     "output_type": "display_data"
    }
   ],
   "source": [
    "# otu table\n",
    "otu = physeq %>%\n",
    "    otu_table %>%\n",
    "    as.matrix %>%\n",
    "    as.data.frame %>%\n",
    "    mutate(OTU = rownames(.)) %>%\n",
    "    gather(sample, count, -OTU)\n",
    "\n",
    "otu %>% dfhead"
   ]
  },
  {
   "cell_type": "code",
   "execution_count": 100,
   "metadata": {
    "ExecuteTime": {
     "end_time": "2018-11-29T14:46:06.727409Z",
     "start_time": "2018-11-29T14:45:11.881Z"
    }
   },
   "outputs": [
    {
     "name": "stdout",
     "output_type": "stream",
     "text": [
      "[1] 30290     8\n"
     ]
    },
    {
     "data": {
      "text/html": [
       "<table>\n",
       "<thead><tr><th scope=col>Domain</th><th scope=col>Phylum</th><th scope=col>Class</th><th scope=col>Order</th><th scope=col>Family</th><th scope=col>Genus</th><th scope=col>Species</th><th scope=col>OTU</th></tr></thead>\n",
       "<tbody>\n",
       "\t<tr><td>Bacteria                        </td><td>Candidate division SR1          </td><td>unclassified                    </td><td>unclassified                    </td><td>unclassified                    </td><td>unclassified                    </td><td>unclassified                    </td><td>ea2df9bcd7f6a10e0fa509d237d19c6d</td></tr>\n",
       "\t<tr><td>Bacteria                        </td><td>Candidate division SR1          </td><td>uncultured bacterium            </td><td>                                </td><td>                                </td><td>                                </td><td>                                </td><td>130b094f31455943fb20899a36af8afd</td></tr>\n",
       "\t<tr><td>Bacteria                        </td><td>Candidate division SR1          </td><td>uncultured bacterium            </td><td>                                </td><td>                                </td><td>                                </td><td>                                </td><td>b9b9562a0f34ad60c552f7f46d7a4b3b</td></tr>\n",
       "</tbody>\n",
       "</table>\n"
      ],
      "text/latex": [
       "\\begin{tabular}{r|llllllll}\n",
       " Domain & Phylum & Class & Order & Family & Genus & Species & OTU\\\\\n",
       "\\hline\n",
       "\t Bacteria                         & Candidate division SR1           & unclassified                     & unclassified                     & unclassified                     & unclassified                     & unclassified                     & ea2df9bcd7f6a10e0fa509d237d19c6d\\\\\n",
       "\t Bacteria                         & Candidate division SR1           & uncultured bacterium             &                                  &                                  &                                  &                                  & 130b094f31455943fb20899a36af8afd\\\\\n",
       "\t Bacteria                         & Candidate division SR1           & uncultured bacterium             &                                  &                                  &                                  &                                  & b9b9562a0f34ad60c552f7f46d7a4b3b\\\\\n",
       "\\end{tabular}\n"
      ],
      "text/markdown": [
       "\n",
       "Domain | Phylum | Class | Order | Family | Genus | Species | OTU | \n",
       "|---|---|---|\n",
       "| Bacteria                         | Candidate division SR1           | unclassified                     | unclassified                     | unclassified                     | unclassified                     | unclassified                     | ea2df9bcd7f6a10e0fa509d237d19c6d | \n",
       "| Bacteria                         | Candidate division SR1           | uncultured bacterium             |                                  |                                  |                                  |                                  | 130b094f31455943fb20899a36af8afd | \n",
       "| Bacteria                         | Candidate division SR1           | uncultured bacterium             |                                  |                                  |                                  |                                  | b9b9562a0f34ad60c552f7f46d7a4b3b | \n",
       "\n",
       "\n"
      ],
      "text/plain": [
       "  Domain   Phylum                 Class                Order       \n",
       "1 Bacteria Candidate division SR1 unclassified         unclassified\n",
       "2 Bacteria Candidate division SR1 uncultured bacterium             \n",
       "3 Bacteria Candidate division SR1 uncultured bacterium             \n",
       "  Family       Genus        Species      OTU                             \n",
       "1 unclassified unclassified unclassified ea2df9bcd7f6a10e0fa509d237d19c6d\n",
       "2                                        130b094f31455943fb20899a36af8afd\n",
       "3                                        b9b9562a0f34ad60c552f7f46d7a4b3b"
      ]
     },
     "metadata": {},
     "output_type": "display_data"
    }
   ],
   "source": [
    "# tax table\n",
    "tax = readRDS(physeq_file) %>%\n",
    "    tax_table %>%\n",
    "    as.matrix %>%\n",
    "    as.data.frame %>%\n",
    "    mutate(OTU = rownames(.))\n",
    "\n",
    "tax %>% dfhead"
   ]
  },
  {
   "cell_type": "code",
   "execution_count": 101,
   "metadata": {
    "ExecuteTime": {
     "end_time": "2018-11-29T14:46:06.930648Z",
     "start_time": "2018-11-29T14:45:12.898Z"
    }
   },
   "outputs": [
    {
     "name": "stdout",
     "output_type": "stream",
     "text": [
      "[1] 30290     8\n"
     ]
    },
    {
     "data": {
      "text/html": [
       "<table>\n",
       "<thead><tr><th scope=col>Domain</th><th scope=col>Genus</th><th scope=col>Family</th><th scope=col>Order</th><th scope=col>Class</th><th scope=col>Phylum</th><th scope=col>Species</th><th scope=col>OTU</th></tr></thead>\n",
       "<tbody>\n",
       "\t<tr><td>Bacteria                                                                  </td><td>Candidate division SR1;unclassified;unclassified;unclassified;unclassified</td><td>Candidate division SR1;unclassified;unclassified;unclassified             </td><td>Candidate division SR1;unclassified;unclassified                          </td><td>Candidate division SR1;unclassified                                       </td><td>Candidate division SR1                                                    </td><td>unclassified                                                              </td><td>ea2df9bcd7f6a10e0fa509d237d19c6d                                          </td></tr>\n",
       "\t<tr><td>Bacteria                                                                  </td><td>Candidate division SR1;uncultured bacterium;;;                            </td><td>Candidate division SR1;uncultured bacterium;;                             </td><td>Candidate division SR1;uncultured bacterium;                              </td><td>Candidate division SR1;uncultured bacterium                               </td><td>Candidate division SR1                                                    </td><td>                                                                          </td><td>130b094f31455943fb20899a36af8afd                                          </td></tr>\n",
       "\t<tr><td>Bacteria                                                                  </td><td>Candidate division SR1;uncultured bacterium;;;                            </td><td>Candidate division SR1;uncultured bacterium;;                             </td><td>Candidate division SR1;uncultured bacterium;                              </td><td>Candidate division SR1;uncultured bacterium                               </td><td>Candidate division SR1                                                    </td><td>                                                                          </td><td>b9b9562a0f34ad60c552f7f46d7a4b3b                                          </td></tr>\n",
       "</tbody>\n",
       "</table>\n"
      ],
      "text/latex": [
       "\\begin{tabular}{r|llllllll}\n",
       " Domain & Genus & Family & Order & Class & Phylum & Species & OTU\\\\\n",
       "\\hline\n",
       "\t Bacteria                                                                   & Candidate division SR1;unclassified;unclassified;unclassified;unclassified & Candidate division SR1;unclassified;unclassified;unclassified              & Candidate division SR1;unclassified;unclassified                           & Candidate division SR1;unclassified                                        & Candidate division SR1                                                     & unclassified                                                               & ea2df9bcd7f6a10e0fa509d237d19c6d                                          \\\\\n",
       "\t Bacteria                                                                   & Candidate division SR1;uncultured bacterium;;;                             & Candidate division SR1;uncultured bacterium;;                              & Candidate division SR1;uncultured bacterium;                               & Candidate division SR1;uncultured bacterium                                & Candidate division SR1                                                     &                                                                            & 130b094f31455943fb20899a36af8afd                                          \\\\\n",
       "\t Bacteria                                                                   & Candidate division SR1;uncultured bacterium;;;                             & Candidate division SR1;uncultured bacterium;;                              & Candidate division SR1;uncultured bacterium;                               & Candidate division SR1;uncultured bacterium                                & Candidate division SR1                                                     &                                                                            & b9b9562a0f34ad60c552f7f46d7a4b3b                                          \\\\\n",
       "\\end{tabular}\n"
      ],
      "text/markdown": [
       "\n",
       "Domain | Genus | Family | Order | Class | Phylum | Species | OTU | \n",
       "|---|---|---|\n",
       "| Bacteria                                                                   | Candidate division SR1;unclassified;unclassified;unclassified;unclassified | Candidate division SR1;unclassified;unclassified;unclassified              | Candidate division SR1;unclassified;unclassified                           | Candidate division SR1;unclassified                                        | Candidate division SR1                                                     | unclassified                                                               | ea2df9bcd7f6a10e0fa509d237d19c6d                                           | \n",
       "| Bacteria                                                                   | Candidate division SR1;uncultured bacterium;;;                             | Candidate division SR1;uncultured bacterium;;                              | Candidate division SR1;uncultured bacterium;                               | Candidate division SR1;uncultured bacterium                                | Candidate division SR1                                                     |                                                                            | 130b094f31455943fb20899a36af8afd                                           | \n",
       "| Bacteria                                                                   | Candidate division SR1;uncultured bacterium;;;                             | Candidate division SR1;uncultured bacterium;;                              | Candidate division SR1;uncultured bacterium;                               | Candidate division SR1;uncultured bacterium                                | Candidate division SR1                                                     |                                                                            | b9b9562a0f34ad60c552f7f46d7a4b3b                                           | \n",
       "\n",
       "\n"
      ],
      "text/plain": [
       "  Domain  \n",
       "1 Bacteria\n",
       "2 Bacteria\n",
       "3 Bacteria\n",
       "  Genus                                                                     \n",
       "1 Candidate division SR1;unclassified;unclassified;unclassified;unclassified\n",
       "2 Candidate division SR1;uncultured bacterium;;;                            \n",
       "3 Candidate division SR1;uncultured bacterium;;;                            \n",
       "  Family                                                       \n",
       "1 Candidate division SR1;unclassified;unclassified;unclassified\n",
       "2 Candidate division SR1;uncultured bacterium;;                \n",
       "3 Candidate division SR1;uncultured bacterium;;                \n",
       "  Order                                           \n",
       "1 Candidate division SR1;unclassified;unclassified\n",
       "2 Candidate division SR1;uncultured bacterium;    \n",
       "3 Candidate division SR1;uncultured bacterium;    \n",
       "  Class                                       Phylum                \n",
       "1 Candidate division SR1;unclassified         Candidate division SR1\n",
       "2 Candidate division SR1;uncultured bacterium Candidate division SR1\n",
       "3 Candidate division SR1;uncultured bacterium Candidate division SR1\n",
       "  Species      OTU                             \n",
       "1 unclassified ea2df9bcd7f6a10e0fa509d237d19c6d\n",
       "2              130b094f31455943fb20899a36af8afd\n",
       "3              b9b9562a0f34ad60c552f7f46d7a4b3b"
      ]
     },
     "metadata": {},
     "output_type": "display_data"
    }
   ],
   "source": [
    "# formatting tax table\n",
    "tax = tax %>%\n",
    "    unite(Genus, Phylum, Class, Order, Family, Genus, sep=';', remove=FALSE) %>%\n",
    "    unite(Family, Phylum, Class, Order, Family, sep=';', remove=FALSE) %>%\n",
    "    unite(Order, Phylum, Class, Order, sep=';', remove=FALSE) %>%\n",
    "    unite(Class, Phylum, Class, sep=';', remove=FALSE) \n",
    "\n",
    "tax %>% dfhead"
   ]
  },
  {
   "cell_type": "code",
   "execution_count": 102,
   "metadata": {
    "ExecuteTime": {
     "end_time": "2018-11-29T14:46:28.467046Z",
     "start_time": "2018-11-29T14:45:13.918Z"
    }
   },
   "outputs": [
    {
     "name": "stdout",
     "output_type": "stream",
     "text": [
      "[1] 879   2\n"
     ]
    },
    {
     "data": {
      "text/html": [
       "<table>\n",
       "<thead><tr><th scope=col>Genus</th><th scope=col>Prevalence</th></tr></thead>\n",
       "<tbody>\n",
       "\t<tr><td>Acidobacteria;Acidobacteria;Acidobacteriales;Acidobacteriaceae (Subgroup 1);Acidobacterium</td><td>0.4694836                                                                                 </td></tr>\n",
       "\t<tr><td>Acidobacteria;Acidobacteria;Subgroup 17;unclassified;unclassified                         </td><td>0.4694836                                                                                 </td></tr>\n",
       "\t<tr><td>Acidobacteria;Acidobacteria;Subgroup 25;uncultured bacterium;                             </td><td>0.4694836                                                                                 </td></tr>\n",
       "</tbody>\n",
       "</table>\n"
      ],
      "text/latex": [
       "\\begin{tabular}{r|ll}\n",
       " Genus & Prevalence\\\\\n",
       "\\hline\n",
       "\t Acidobacteria;Acidobacteria;Acidobacteriales;Acidobacteriaceae (Subgroup 1);Acidobacterium & 0.4694836                                                                                 \\\\\n",
       "\t Acidobacteria;Acidobacteria;Subgroup 17;unclassified;unclassified                          & 0.4694836                                                                                 \\\\\n",
       "\t Acidobacteria;Acidobacteria;Subgroup 25;uncultured bacterium;                              & 0.4694836                                                                                 \\\\\n",
       "\\end{tabular}\n"
      ],
      "text/markdown": [
       "\n",
       "Genus | Prevalence | \n",
       "|---|---|---|\n",
       "| Acidobacteria;Acidobacteria;Acidobacteriales;Acidobacteriaceae (Subgroup 1);Acidobacterium | 0.4694836                                                                                  | \n",
       "| Acidobacteria;Acidobacteria;Subgroup 17;unclassified;unclassified                          | 0.4694836                                                                                  | \n",
       "| Acidobacteria;Acidobacteria;Subgroup 25;uncultured bacterium;                              | 0.4694836                                                                                  | \n",
       "\n",
       "\n"
      ],
      "text/plain": [
       "  Genus                                                                                     \n",
       "1 Acidobacteria;Acidobacteria;Acidobacteriales;Acidobacteriaceae (Subgroup 1);Acidobacterium\n",
       "2 Acidobacteria;Acidobacteria;Subgroup 17;unclassified;unclassified                         \n",
       "3 Acidobacteria;Acidobacteria;Subgroup 25;uncultured bacterium;                             \n",
       "  Prevalence\n",
       "1 0.4694836 \n",
       "2 0.4694836 \n",
       "3 0.4694836 "
      ]
     },
     "metadata": {},
     "output_type": "display_data"
    }
   ],
   "source": [
    "# determining prevalence\n",
    "prev = otu %>%\n",
    "    inner_join(tax, c('OTU')) %>%\n",
    "    inner_join(metadata, c('sample'='Sample_ID')) %>%\n",
    "    group_by(Genus) %>%\n",
    "    summarize(Prevalence = sum(count>0) / length(count) * 100) %>%\n",
    "    ungroup()\n",
    "              \n",
    "prev %>% dfhead"
   ]
  },
  {
   "cell_type": "code",
   "execution_count": 103,
   "metadata": {
    "ExecuteTime": {
     "end_time": "2018-11-29T14:46:45.891835Z",
     "start_time": "2018-11-29T14:45:15.369Z"
    }
   },
   "outputs": [
    {
     "name": "stdout",
     "output_type": "stream",
     "text": [
      "[1] 6451770      15\n"
     ]
    },
    {
     "data": {
      "text/html": [
       "<table>\n",
       "<thead><tr><th scope=col>OTU</th><th scope=col>sample</th><th scope=col>count</th><th scope=col>Domain</th><th scope=col>Genus</th><th scope=col>Family</th><th scope=col>Order</th><th scope=col>Class</th><th scope=col>Phylum</th><th scope=col>Species</th><th scope=col>class</th><th scope=col>order</th><th scope=col>family</th><th scope=col>genus</th><th scope=col>scientific_name</th></tr></thead>\n",
       "<tbody>\n",
       "\t<tr><td>ea2df9bcd7f6a10e0fa509d237d19c6d                                          </td><td>X1.Eurasian.Beaver                                                        </td><td>0                                                                         </td><td>Bacteria                                                                  </td><td>Candidate division SR1;unclassified;unclassified;unclassified;unclassified</td><td>Candidate division SR1;unclassified;unclassified;unclassified             </td><td>Candidate division SR1;unclassified;unclassified                          </td><td>Candidate division SR1;unclassified                                       </td><td>Candidate division SR1                                                    </td><td>unclassified                                                              </td><td>Mammalia                                                                  </td><td>Rodentia                                                                  </td><td>Castoridae                                                                </td><td>Castor                                                                    </td><td>Castor_fiber                                                              </td></tr>\n",
       "\t<tr><td>130b094f31455943fb20899a36af8afd                                          </td><td>X1.Eurasian.Beaver                                                        </td><td>0                                                                         </td><td>Bacteria                                                                  </td><td>Candidate division SR1;uncultured bacterium;;;                            </td><td>Candidate division SR1;uncultured bacterium;;                             </td><td>Candidate division SR1;uncultured bacterium;                              </td><td>Candidate division SR1;uncultured bacterium                               </td><td>Candidate division SR1                                                    </td><td>                                                                          </td><td>Mammalia                                                                  </td><td>Rodentia                                                                  </td><td>Castoridae                                                                </td><td>Castor                                                                    </td><td>Castor_fiber                                                              </td></tr>\n",
       "\t<tr><td>b9b9562a0f34ad60c552f7f46d7a4b3b                                          </td><td>X1.Eurasian.Beaver                                                        </td><td>0                                                                         </td><td>Bacteria                                                                  </td><td>Candidate division SR1;uncultured bacterium;;;                            </td><td>Candidate division SR1;uncultured bacterium;;                             </td><td>Candidate division SR1;uncultured bacterium;                              </td><td>Candidate division SR1;uncultured bacterium                               </td><td>Candidate division SR1                                                    </td><td>                                                                          </td><td>Mammalia                                                                  </td><td>Rodentia                                                                  </td><td>Castoridae                                                                </td><td>Castor                                                                    </td><td>Castor_fiber                                                              </td></tr>\n",
       "</tbody>\n",
       "</table>\n"
      ],
      "text/latex": [
       "\\begin{tabular}{r|lllllllllllllll}\n",
       " OTU & sample & count & Domain & Genus & Family & Order & Class & Phylum & Species & class & order & family & genus & scientific\\_name\\\\\n",
       "\\hline\n",
       "\t ea2df9bcd7f6a10e0fa509d237d19c6d                                           & X1.Eurasian.Beaver                                                         & 0                                                                          & Bacteria                                                                   & Candidate division SR1;unclassified;unclassified;unclassified;unclassified & Candidate division SR1;unclassified;unclassified;unclassified              & Candidate division SR1;unclassified;unclassified                           & Candidate division SR1;unclassified                                        & Candidate division SR1                                                     & unclassified                                                               & Mammalia                                                                   & Rodentia                                                                   & Castoridae                                                                 & Castor                                                                     & Castor\\_fiber                                                            \\\\\n",
       "\t 130b094f31455943fb20899a36af8afd                                           & X1.Eurasian.Beaver                                                         & 0                                                                          & Bacteria                                                                   & Candidate division SR1;uncultured bacterium;;;                             & Candidate division SR1;uncultured bacterium;;                              & Candidate division SR1;uncultured bacterium;                               & Candidate division SR1;uncultured bacterium                                & Candidate division SR1                                                     &                                                                            & Mammalia                                                                   & Rodentia                                                                   & Castoridae                                                                 & Castor                                                                     & Castor\\_fiber                                                            \\\\\n",
       "\t b9b9562a0f34ad60c552f7f46d7a4b3b                                           & X1.Eurasian.Beaver                                                         & 0                                                                          & Bacteria                                                                   & Candidate division SR1;uncultured bacterium;;;                             & Candidate division SR1;uncultured bacterium;;                              & Candidate division SR1;uncultured bacterium;                               & Candidate division SR1;uncultured bacterium                                & Candidate division SR1                                                     &                                                                            & Mammalia                                                                   & Rodentia                                                                   & Castoridae                                                                 & Castor                                                                     & Castor\\_fiber                                                            \\\\\n",
       "\\end{tabular}\n"
      ],
      "text/markdown": [
       "\n",
       "OTU | sample | count | Domain | Genus | Family | Order | Class | Phylum | Species | class | order | family | genus | scientific_name | \n",
       "|---|---|---|\n",
       "| ea2df9bcd7f6a10e0fa509d237d19c6d                                           | X1.Eurasian.Beaver                                                         | 0                                                                          | Bacteria                                                                   | Candidate division SR1;unclassified;unclassified;unclassified;unclassified | Candidate division SR1;unclassified;unclassified;unclassified              | Candidate division SR1;unclassified;unclassified                           | Candidate division SR1;unclassified                                        | Candidate division SR1                                                     | unclassified                                                               | Mammalia                                                                   | Rodentia                                                                   | Castoridae                                                                 | Castor                                                                     | Castor_fiber                                                               | \n",
       "| 130b094f31455943fb20899a36af8afd                                           | X1.Eurasian.Beaver                                                         | 0                                                                          | Bacteria                                                                   | Candidate division SR1;uncultured bacterium;;;                             | Candidate division SR1;uncultured bacterium;;                              | Candidate division SR1;uncultured bacterium;                               | Candidate division SR1;uncultured bacterium                                | Candidate division SR1                                                     |                                                                            | Mammalia                                                                   | Rodentia                                                                   | Castoridae                                                                 | Castor                                                                     | Castor_fiber                                                               | \n",
       "| b9b9562a0f34ad60c552f7f46d7a4b3b                                           | X1.Eurasian.Beaver                                                         | 0                                                                          | Bacteria                                                                   | Candidate division SR1;uncultured bacterium;;;                             | Candidate division SR1;uncultured bacterium;;                              | Candidate division SR1;uncultured bacterium;                               | Candidate division SR1;uncultured bacterium                                | Candidate division SR1                                                     |                                                                            | Mammalia                                                                   | Rodentia                                                                   | Castoridae                                                                 | Castor                                                                     | Castor_fiber                                                               | \n",
       "\n",
       "\n"
      ],
      "text/plain": [
       "  OTU                              sample             count Domain  \n",
       "1 ea2df9bcd7f6a10e0fa509d237d19c6d X1.Eurasian.Beaver 0     Bacteria\n",
       "2 130b094f31455943fb20899a36af8afd X1.Eurasian.Beaver 0     Bacteria\n",
       "3 b9b9562a0f34ad60c552f7f46d7a4b3b X1.Eurasian.Beaver 0     Bacteria\n",
       "  Genus                                                                     \n",
       "1 Candidate division SR1;unclassified;unclassified;unclassified;unclassified\n",
       "2 Candidate division SR1;uncultured bacterium;;;                            \n",
       "3 Candidate division SR1;uncultured bacterium;;;                            \n",
       "  Family                                                       \n",
       "1 Candidate division SR1;unclassified;unclassified;unclassified\n",
       "2 Candidate division SR1;uncultured bacterium;;                \n",
       "3 Candidate division SR1;uncultured bacterium;;                \n",
       "  Order                                           \n",
       "1 Candidate division SR1;unclassified;unclassified\n",
       "2 Candidate division SR1;uncultured bacterium;    \n",
       "3 Candidate division SR1;uncultured bacterium;    \n",
       "  Class                                       Phylum                \n",
       "1 Candidate division SR1;unclassified         Candidate division SR1\n",
       "2 Candidate division SR1;uncultured bacterium Candidate division SR1\n",
       "3 Candidate division SR1;uncultured bacterium Candidate division SR1\n",
       "  Species      class    order    family     genus  scientific_name\n",
       "1 unclassified Mammalia Rodentia Castoridae Castor Castor_fiber   \n",
       "2              Mammalia Rodentia Castoridae Castor Castor_fiber   \n",
       "3              Mammalia Rodentia Castoridae Castor Castor_fiber   "
      ]
     },
     "metadata": {},
     "output_type": "display_data"
    }
   ],
   "source": [
    "# joing with other data\n",
    "df = otu %>%\n",
    "    inner_join(tax, c('OTU')) %>%\n",
    "    inner_join(metadata, c('sample'='Sample_ID')) \n",
    "\n",
    "df %>% dfhead"
   ]
  },
  {
   "cell_type": "code",
   "execution_count": 104,
   "metadata": {
    "ExecuteTime": {
     "end_time": "2018-11-29T14:48:06.972898Z",
     "start_time": "2018-11-29T14:45:16.960Z"
    }
   },
   "outputs": [
    {
     "name": "stdout",
     "output_type": "stream",
     "text": [
      "[1] 31841     3\n"
     ]
    },
    {
     "data": {
      "text/html": [
       "<table>\n",
       "<thead><tr><th scope=col>Group</th><th scope=col>Prevalence</th><th scope=col>Taxonomic_level</th></tr></thead>\n",
       "<tbody>\n",
       "\t<tr><td>Acidobacteria  </td><td> 3.755869      </td><td>Phylum         </td></tr>\n",
       "\t<tr><td>Actinobacteria </td><td>85.915493      </td><td>Phylum         </td></tr>\n",
       "\t<tr><td>Armatimonadetes</td><td> 4.694836      </td><td>Phylum         </td></tr>\n",
       "</tbody>\n",
       "</table>\n"
      ],
      "text/latex": [
       "\\begin{tabular}{r|lll}\n",
       " Group & Prevalence & Taxonomic\\_level\\\\\n",
       "\\hline\n",
       "\t Acidobacteria   &  3.755869       & Phylum         \\\\\n",
       "\t Actinobacteria  & 85.915493       & Phylum         \\\\\n",
       "\t Armatimonadetes &  4.694836       & Phylum         \\\\\n",
       "\\end{tabular}\n"
      ],
      "text/markdown": [
       "\n",
       "Group | Prevalence | Taxonomic_level | \n",
       "|---|---|---|\n",
       "| Acidobacteria   |  3.755869       | Phylum          | \n",
       "| Actinobacteria  | 85.915493       | Phylum          | \n",
       "| Armatimonadetes |  4.694836       | Phylum          | \n",
       "\n",
       "\n"
      ],
      "text/plain": [
       "  Group           Prevalence Taxonomic_level\n",
       "1 Acidobacteria    3.755869  Phylum         \n",
       "2 Actinobacteria  85.915493  Phylum         \n",
       "3 Armatimonadetes  4.694836  Phylum         "
      ]
     },
     "metadata": {},
     "output_type": "display_data"
    }
   ],
   "source": [
    "# determining prevalence for each taxonomic level\n",
    "prev_each_level = function(lev, df){\n",
    "    df = df %>%\n",
    "        group_by_('sample', lev) %>%\n",
    "        summarize(count = sum(count)) %>%\n",
    "        group_by_(lev) %>%\n",
    "        summarize(Prevalence = sum(count>0) / length(count) * 100) %>%\n",
    "        ungroup()\n",
    "    colnames(df) = c('Group', 'Prevalence')\n",
    "    df$Taxonomic_level = lev\n",
    "    return(df)\n",
    "}\n",
    "\n",
    "levs = c('Phylum', 'Class', 'Order', 'Family', 'Genus', 'OTU')\n",
    "doParallel::registerDoParallel(threads)\n",
    "prev = plyr::llply(as.list(levs), prev_each_level, df=df, .parallel=TRUE)\n",
    "prev = do.call(rbind, prev) %>%\n",
    "    mutate(Taxonomic_level = factor(Taxonomic_level, levels=levs))\n",
    "\n",
    "prev %>% dfhead"
   ]
  },
  {
   "cell_type": "code",
   "execution_count": 105,
   "metadata": {
    "ExecuteTime": {
     "end_time": "2018-11-29T14:48:08.719460Z",
     "start_time": "2018-11-29T14:45:18.793Z"
    }
   },
   "outputs": [
    {
     "name": "stdout",
     "output_type": "stream",
     "text": [
      "File written: /ebio/abt3_projects/Georg_animal_feces/notebooks/16S/1_LLA/.figures/IndD_sparsity-histo_by-microTax.pdf \n"
     ]
    },
    {
     "data": {
      "image/png": "[encoded data removed]",
      "text/plain": [
       "plot without title"
      ]
     },
     "metadata": {},
     "output_type": "display_data"
    }
   ],
   "source": [
    "# plotting\n",
    "p = ggplot(prev, aes(Taxonomic_level, Prevalence)) +\n",
    "    geom_boxplot() +\n",
    "    labs(y='% of samples', x='Microbe taxonomic level') +\n",
    "    theme_bw()\n",
    "\n",
    "options(repr.plot.width=4.5, repr.plot.height=2.7)\n",
    "plot_write(p, file='IndD_sparsity-histo_by-microTax.pdf')"
   ]
  },
  {
   "cell_type": "markdown",
   "metadata": {},
   "source": [
    "### Most prevalent taxonomic groups"
   ]
  },
  {
   "cell_type": "code",
   "execution_count": 106,
   "metadata": {
    "ExecuteTime": {
     "end_time": "2018-11-29T14:48:08.793083Z",
     "start_time": "2018-11-29T14:45:20.703Z"
    }
   },
   "outputs": [
    {
     "data": {
      "text/html": [
       "<table>\n",
       "<thead><tr><th scope=col>Taxonomic_level</th><th scope=col>Group</th><th scope=col>Prevalence</th></tr></thead>\n",
       "<tbody>\n",
       "\t<tr><td>Phylum                                                                 </td><td>Firmicutes                                                             </td><td>99.5                                                                   </td></tr>\n",
       "\t<tr><td>Phylum                                                                 </td><td>Proteobacteria                                                         </td><td>99.5                                                                   </td></tr>\n",
       "\t<tr><td>Class                                                                  </td><td>Firmicutes;Clostridia                                                  </td><td>98.1                                                                   </td></tr>\n",
       "\t<tr><td>Order                                                                  </td><td>Firmicutes;Clostridia;Clostridiales                                    </td><td>98.1                                                                   </td></tr>\n",
       "\t<tr><td>Class                                                                  </td><td>Proteobacteria;Betaproteobacteria                                      </td><td>89.7                                                                   </td></tr>\n",
       "\t<tr><td>Phylum                                                                 </td><td>Bacteroidetes                                                          </td><td>88.3                                                                   </td></tr>\n",
       "\t<tr><td>Order                                                                  </td><td>Proteobacteria;Betaproteobacteria;Burkholderiales                      </td><td>88.3                                                                   </td></tr>\n",
       "\t<tr><td>Phylum                                                                 </td><td>Actinobacteria                                                         </td><td>85.9                                                                   </td></tr>\n",
       "\t<tr><td>Family                                                                 </td><td>Firmicutes;Clostridia;Clostridiales;Lachnospiraceae                    </td><td>85.4                                                                   </td></tr>\n",
       "\t<tr><td>Class                                                                  </td><td>Firmicutes;Bacilli                                                     </td><td>84.0                                                                   </td></tr>\n",
       "\t<tr><td>Class                                                                  </td><td>Proteobacteria;Gammaproteobacteria                                     </td><td>84.0                                                                   </td></tr>\n",
       "\t<tr><td>Class                                                                  </td><td>Bacteroidetes;Bacteroidia                                              </td><td>81.7                                                                   </td></tr>\n",
       "\t<tr><td>Order                                                                  </td><td>Bacteroidetes;Bacteroidia;Bacteroidales                                </td><td>81.7                                                                   </td></tr>\n",
       "\t<tr><td>Genus                                                                  </td><td>Firmicutes;Clostridia;Clostridiales;Lachnospiraceae;unclassified       </td><td>79.8                                                                   </td></tr>\n",
       "\t<tr><td>Class                                                                  </td><td>Firmicutes;Erysipelotrichia                                            </td><td>79.3                                                                   </td></tr>\n",
       "\t<tr><td>Order                                                                  </td><td>Firmicutes;Erysipelotrichia;Erysipelotrichales                         </td><td>79.3                                                                   </td></tr>\n",
       "\t<tr><td>Family                                                                 </td><td>Firmicutes;Erysipelotrichia;Erysipelotrichales;Erysipelotrichaceae     </td><td>79.3                                                                   </td></tr>\n",
       "\t<tr><td>Family                                                                 </td><td>Firmicutes;Clostridia;Clostridiales;Ruminococcaceae                    </td><td>77.9                                                                   </td></tr>\n",
       "\t<tr><td>Family                                                                 </td><td>Firmicutes;Clostridia;Clostridiales;Clostridiaceae 1                   </td><td>73.7                                                                   </td></tr>\n",
       "\t<tr><td>Order                                                                  </td><td>Firmicutes;Bacilli;Lactobacillales                                     </td><td>71.8                                                                   </td></tr>\n",
       "\t<tr><td>Order                                                                  </td><td>Proteobacteria;Gammaproteobacteria;Enterobacteriales                   </td><td>70.4                                                                   </td></tr>\n",
       "\t<tr><td>Family                                                                 </td><td>Proteobacteria;Gammaproteobacteria;Enterobacteriales;Enterobacteriaceae</td><td>70.4                                                                   </td></tr>\n",
       "</tbody>\n",
       "</table>\n"
      ],
      "text/latex": [
       "\\begin{tabular}{r|lll}\n",
       " Taxonomic\\_level & Group & Prevalence\\\\\n",
       "\\hline\n",
       "\t Phylum                                                                  & Firmicutes                                                              & 99.5                                                                   \\\\\n",
       "\t Phylum                                                                  & Proteobacteria                                                          & 99.5                                                                   \\\\\n",
       "\t Class                                                                   & Firmicutes;Clostridia                                                   & 98.1                                                                   \\\\\n",
       "\t Order                                                                   & Firmicutes;Clostridia;Clostridiales                                     & 98.1                                                                   \\\\\n",
       "\t Class                                                                   & Proteobacteria;Betaproteobacteria                                       & 89.7                                                                   \\\\\n",
       "\t Phylum                                                                  & Bacteroidetes                                                           & 88.3                                                                   \\\\\n",
       "\t Order                                                                   & Proteobacteria;Betaproteobacteria;Burkholderiales                       & 88.3                                                                   \\\\\n",
       "\t Phylum                                                                  & Actinobacteria                                                          & 85.9                                                                   \\\\\n",
       "\t Family                                                                  & Firmicutes;Clostridia;Clostridiales;Lachnospiraceae                     & 85.4                                                                   \\\\\n",
       "\t Class                                                                   & Firmicutes;Bacilli                                                      & 84.0                                                                   \\\\\n",
       "\t Class                                                                   & Proteobacteria;Gammaproteobacteria                                      & 84.0                                                                   \\\\\n",
       "\t Class                                                                   & Bacteroidetes;Bacteroidia                                               & 81.7                                                                   \\\\\n",
       "\t Order                                                                   & Bacteroidetes;Bacteroidia;Bacteroidales                                 & 81.7                                                                   \\\\\n",
       "\t Genus                                                                   & Firmicutes;Clostridia;Clostridiales;Lachnospiraceae;unclassified        & 79.8                                                                   \\\\\n",
       "\t Class                                                                   & Firmicutes;Erysipelotrichia                                             & 79.3                                                                   \\\\\n",
       "\t Order                                                                   & Firmicutes;Erysipelotrichia;Erysipelotrichales                          & 79.3                                                                   \\\\\n",
       "\t Family                                                                  & Firmicutes;Erysipelotrichia;Erysipelotrichales;Erysipelotrichaceae      & 79.3                                                                   \\\\\n",
       "\t Family                                                                  & Firmicutes;Clostridia;Clostridiales;Ruminococcaceae                     & 77.9                                                                   \\\\\n",
       "\t Family                                                                  & Firmicutes;Clostridia;Clostridiales;Clostridiaceae 1                    & 73.7                                                                   \\\\\n",
       "\t Order                                                                   & Firmicutes;Bacilli;Lactobacillales                                      & 71.8                                                                   \\\\\n",
       "\t Order                                                                   & Proteobacteria;Gammaproteobacteria;Enterobacteriales                    & 70.4                                                                   \\\\\n",
       "\t Family                                                                  & Proteobacteria;Gammaproteobacteria;Enterobacteriales;Enterobacteriaceae & 70.4                                                                   \\\\\n",
       "\\end{tabular}\n"
      ],
      "text/markdown": [
       "\n",
       "Taxonomic_level | Group | Prevalence | \n",
       "|---|---|---|---|---|---|---|---|---|---|---|---|---|---|---|---|---|---|---|---|---|---|\n",
       "| Phylum                                                                  | Firmicutes                                                              | 99.5                                                                    | \n",
       "| Phylum                                                                  | Proteobacteria                                                          | 99.5                                                                    | \n",
       "| Class                                                                   | Firmicutes;Clostridia                                                   | 98.1                                                                    | \n",
       "| Order                                                                   | Firmicutes;Clostridia;Clostridiales                                     | 98.1                                                                    | \n",
       "| Class                                                                   | Proteobacteria;Betaproteobacteria                                       | 89.7                                                                    | \n",
       "| Phylum                                                                  | Bacteroidetes                                                           | 88.3                                                                    | \n",
       "| Order                                                                   | Proteobacteria;Betaproteobacteria;Burkholderiales                       | 88.3                                                                    | \n",
       "| Phylum                                                                  | Actinobacteria                                                          | 85.9                                                                    | \n",
       "| Family                                                                  | Firmicutes;Clostridia;Clostridiales;Lachnospiraceae                     | 85.4                                                                    | \n",
       "| Class                                                                   | Firmicutes;Bacilli                                                      | 84.0                                                                    | \n",
       "| Class                                                                   | Proteobacteria;Gammaproteobacteria                                      | 84.0                                                                    | \n",
       "| Class                                                                   | Bacteroidetes;Bacteroidia                                               | 81.7                                                                    | \n",
       "| Order                                                                   | Bacteroidetes;Bacteroidia;Bacteroidales                                 | 81.7                                                                    | \n",
       "| Genus                                                                   | Firmicutes;Clostridia;Clostridiales;Lachnospiraceae;unclassified        | 79.8                                                                    | \n",
       "| Class                                                                   | Firmicutes;Erysipelotrichia                                             | 79.3                                                                    | \n",
       "| Order                                                                   | Firmicutes;Erysipelotrichia;Erysipelotrichales                          | 79.3                                                                    | \n",
       "| Family                                                                  | Firmicutes;Erysipelotrichia;Erysipelotrichales;Erysipelotrichaceae      | 79.3                                                                    | \n",
       "| Family                                                                  | Firmicutes;Clostridia;Clostridiales;Ruminococcaceae                     | 77.9                                                                    | \n",
       "| Family                                                                  | Firmicutes;Clostridia;Clostridiales;Clostridiaceae 1                    | 73.7                                                                    | \n",
       "| Order                                                                   | Firmicutes;Bacilli;Lactobacillales                                      | 71.8                                                                    | \n",
       "| Order                                                                   | Proteobacteria;Gammaproteobacteria;Enterobacteriales                    | 70.4                                                                    | \n",
       "| Family                                                                  | Proteobacteria;Gammaproteobacteria;Enterobacteriales;Enterobacteriaceae | 70.4                                                                    | \n",
       "\n",
       "\n"
      ],
      "text/plain": [
       "   Taxonomic_level\n",
       "1  Phylum         \n",
       "2  Phylum         \n",
       "3  Class          \n",
       "4  Order          \n",
       "5  Class          \n",
       "6  Phylum         \n",
       "7  Order          \n",
       "8  Phylum         \n",
       "9  Family         \n",
       "10 Class          \n",
       "11 Class          \n",
       "12 Class          \n",
       "13 Order          \n",
       "14 Genus          \n",
       "15 Class          \n",
       "16 Order          \n",
       "17 Family         \n",
       "18 Family         \n",
       "19 Family         \n",
       "20 Order          \n",
       "21 Order          \n",
       "22 Family         \n",
       "   Group                                                                  \n",
       "1  Firmicutes                                                             \n",
       "2  Proteobacteria                                                         \n",
       "3  Firmicutes;Clostridia                                                  \n",
       "4  Firmicutes;Clostridia;Clostridiales                                    \n",
       "5  Proteobacteria;Betaproteobacteria                                      \n",
       "6  Bacteroidetes                                                          \n",
       "7  Proteobacteria;Betaproteobacteria;Burkholderiales                      \n",
       "8  Actinobacteria                                                         \n",
       "9  Firmicutes;Clostridia;Clostridiales;Lachnospiraceae                    \n",
       "10 Firmicutes;Bacilli                                                     \n",
       "11 Proteobacteria;Gammaproteobacteria                                     \n",
       "12 Bacteroidetes;Bacteroidia                                              \n",
       "13 Bacteroidetes;Bacteroidia;Bacteroidales                                \n",
       "14 Firmicutes;Clostridia;Clostridiales;Lachnospiraceae;unclassified       \n",
       "15 Firmicutes;Erysipelotrichia                                            \n",
       "16 Firmicutes;Erysipelotrichia;Erysipelotrichales                         \n",
       "17 Firmicutes;Erysipelotrichia;Erysipelotrichales;Erysipelotrichaceae     \n",
       "18 Firmicutes;Clostridia;Clostridiales;Ruminococcaceae                    \n",
       "19 Firmicutes;Clostridia;Clostridiales;Clostridiaceae 1                   \n",
       "20 Firmicutes;Bacilli;Lactobacillales                                     \n",
       "21 Proteobacteria;Gammaproteobacteria;Enterobacteriales                   \n",
       "22 Proteobacteria;Gammaproteobacteria;Enterobacteriales;Enterobacteriaceae\n",
       "   Prevalence\n",
       "1  99.5      \n",
       "2  99.5      \n",
       "3  98.1      \n",
       "4  98.1      \n",
       "5  89.7      \n",
       "6  88.3      \n",
       "7  88.3      \n",
       "8  85.9      \n",
       "9  85.4      \n",
       "10 84.0      \n",
       "11 84.0      \n",
       "12 81.7      \n",
       "13 81.7      \n",
       "14 79.8      \n",
       "15 79.3      \n",
       "16 79.3      \n",
       "17 79.3      \n",
       "18 77.9      \n",
       "19 73.7      \n",
       "20 71.8      \n",
       "21 70.4      \n",
       "22 70.4      "
      ]
     },
     "metadata": {},
     "output_type": "display_data"
    }
   ],
   "source": [
    "prev %>%\n",
    "    filter(Prevalence > 70) %>%\n",
    "    dplyr::select(Taxonomic_level, Group, Prevalence) %>%\n",
    "    mutate(Prevalence = round(Prevalence, 1)) %>%\n",
    "    arrange(-Prevalence, Taxonomic_level, Group)"
   ]
  },
  {
   "cell_type": "markdown",
   "metadata": {},
   "source": [
    "# Sparsity by % of species"
   ]
  },
  {
   "cell_type": "markdown",
   "metadata": {},
   "source": [
    "## Sparsity plot"
   ]
  },
  {
   "cell_type": "code",
   "execution_count": 107,
   "metadata": {
    "ExecuteTime": {
     "end_time": "2018-11-29T14:48:29.425177Z",
     "start_time": "2018-11-29T14:45:21.855Z"
    }
   },
   "outputs": [
    {
     "name": "stdout",
     "output_type": "stream",
     "text": [
      "[1] 54783     3\n"
     ]
    },
    {
     "data": {
      "text/html": [
       "<table>\n",
       "<thead><tr><th scope=col>OTU</th><th scope=col>Sample</th><th scope=col>Abundance</th></tr></thead>\n",
       "<tbody>\n",
       "\t<tr><td>13f82e5ba9ba27ea09f601e01ff70522</td><td>X1.Eurasian.Beaver              </td><td>1                               </td></tr>\n",
       "\t<tr><td>3dab8da99409c887717be58cb16f1934</td><td>X1.Eurasian.Beaver              </td><td>1                               </td></tr>\n",
       "\t<tr><td>a6dcf57735588b8f1a3fb7c8469d4396</td><td>X1.Eurasian.Beaver              </td><td>1                               </td></tr>\n",
       "</tbody>\n",
       "</table>\n"
      ],
      "text/latex": [
       "\\begin{tabular}{r|lll}\n",
       " OTU & Sample & Abundance\\\\\n",
       "\\hline\n",
       "\t 13f82e5ba9ba27ea09f601e01ff70522 & X1.Eurasian.Beaver               & 1                               \\\\\n",
       "\t 3dab8da99409c887717be58cb16f1934 & X1.Eurasian.Beaver               & 1                               \\\\\n",
       "\t a6dcf57735588b8f1a3fb7c8469d4396 & X1.Eurasian.Beaver               & 1                               \\\\\n",
       "\\end{tabular}\n"
      ],
      "text/markdown": [
       "\n",
       "OTU | Sample | Abundance | \n",
       "|---|---|---|\n",
       "| 13f82e5ba9ba27ea09f601e01ff70522 | X1.Eurasian.Beaver               | 1                                | \n",
       "| 3dab8da99409c887717be58cb16f1934 | X1.Eurasian.Beaver               | 1                                | \n",
       "| a6dcf57735588b8f1a3fb7c8469d4396 | X1.Eurasian.Beaver               | 1                                | \n",
       "\n",
       "\n"
      ],
      "text/plain": [
       "  OTU                              Sample             Abundance\n",
       "1 13f82e5ba9ba27ea09f601e01ff70522 X1.Eurasian.Beaver 1        \n",
       "2 3dab8da99409c887717be58cb16f1934 X1.Eurasian.Beaver 1        \n",
       "3 a6dcf57735588b8f1a3fb7c8469d4396 X1.Eurasian.Beaver 1        "
      ]
     },
     "metadata": {},
     "output_type": "display_data"
    }
   ],
   "source": [
    "# otu pres/abs table\n",
    "otu = physeq %>%\n",
    "    otu_table %>%\n",
    "    as.matrix %>%\n",
    "    as.data.frame %>%\n",
    "    mutate(OTU = rownames(.)) %>%\n",
    "    gather(Sample, Abundance, -OTU) %>%\n",
    "    filter(Abundance > 0) %>%\n",
    "    mutate(Abundance = ifelse(Abundance > 0, 1, 0))\n",
    "\n",
    "otu %>% dfhead"
   ]
  },
  {
   "cell_type": "code",
   "execution_count": 108,
   "metadata": {
    "ExecuteTime": {
     "end_time": "2018-11-29T14:48:29.593426Z",
     "start_time": "2018-11-29T14:45:22.111Z"
    }
   },
   "outputs": [
    {
     "name": "stderr",
     "output_type": "stream",
     "text": [
      "Warning message in class(X) <- NULL:\n",
      "“Setting class(x) to NULL;   result will no longer be an S4 object”"
     ]
    },
    {
     "name": "stdout",
     "output_type": "stream",
     "text": [
      "[1] 213   6\n"
     ]
    },
    {
     "data": {
      "text/html": [
       "<table>\n",
       "<thead><tr><th scope=col>Sample_ID</th><th scope=col>class</th><th scope=col>order</th><th scope=col>family</th><th scope=col>genus</th><th scope=col>scientific_name</th></tr></thead>\n",
       "<tbody>\n",
       "\t<tr><td>X1.Eurasian.Beaver</td><td>Mammalia          </td><td>Rodentia          </td><td>Castoridae        </td><td>Castor            </td><td>Castor_fiber      </td></tr>\n",
       "\t<tr><td>X101.Horse        </td><td>Mammalia          </td><td>Perissodactyla    </td><td>Equidae           </td><td>Equus             </td><td>Equus_caballus    </td></tr>\n",
       "\t<tr><td>X102.Kulan        </td><td>Mammalia          </td><td>Perissodactyla    </td><td>Equidae           </td><td>Equus             </td><td>Equus_hemionus    </td></tr>\n",
       "</tbody>\n",
       "</table>\n"
      ],
      "text/latex": [
       "\\begin{tabular}{r|llllll}\n",
       " Sample\\_ID & class & order & family & genus & scientific\\_name\\\\\n",
       "\\hline\n",
       "\t X1.Eurasian.Beaver & Mammalia           & Rodentia           & Castoridae         & Castor             & Castor\\_fiber    \\\\\n",
       "\t X101.Horse         & Mammalia           & Perissodactyla     & Equidae            & Equus              & Equus\\_caballus  \\\\\n",
       "\t X102.Kulan         & Mammalia           & Perissodactyla     & Equidae            & Equus              & Equus\\_hemionus  \\\\\n",
       "\\end{tabular}\n"
      ],
      "text/markdown": [
       "\n",
       "Sample_ID | class | order | family | genus | scientific_name | \n",
       "|---|---|---|\n",
       "| X1.Eurasian.Beaver | Mammalia           | Rodentia           | Castoridae         | Castor             | Castor_fiber       | \n",
       "| X101.Horse         | Mammalia           | Perissodactyla     | Equidae            | Equus              | Equus_caballus     | \n",
       "| X102.Kulan         | Mammalia           | Perissodactyla     | Equidae            | Equus              | Equus_hemionus     | \n",
       "\n",
       "\n"
      ],
      "text/plain": [
       "  Sample_ID          class    order          family     genus  scientific_name\n",
       "1 X1.Eurasian.Beaver Mammalia Rodentia       Castoridae Castor Castor_fiber   \n",
       "2 X101.Horse         Mammalia Perissodactyla Equidae    Equus  Equus_caballus \n",
       "3 X102.Kulan         Mammalia Perissodactyla Equidae    Equus  Equus_hemionus "
      ]
     },
     "metadata": {},
     "output_type": "display_data"
    }
   ],
   "source": [
    "# metdata\n",
    "metadata = physeq %>%\n",
    "    sample_data %>%\n",
    "    as.matrix %>%\n",
    "    as.data.frame %>%\n",
    "    mutate(Sample_ID = rownames(.)) %>%\n",
    "    dplyr::select(Sample_ID, class, order, family, genus, scientific_name)\n",
    "\n",
    "metadata %>% dfhead"
   ]
  },
  {
   "cell_type": "code",
   "execution_count": 109,
   "metadata": {
    "ExecuteTime": {
     "end_time": "2018-11-29T14:48:33.158132Z",
     "start_time": "2018-11-29T14:45:22.391Z"
    }
   },
   "outputs": [
    {
     "name": "stdout",
     "output_type": "stream",
     "text": [
      "[1] 44197     7\n"
     ]
    },
    {
     "data": {
      "text/html": [
       "<table>\n",
       "<thead><tr><th scope=col>OTU</th><th scope=col>scientific_name</th><th scope=col>class</th><th scope=col>order</th><th scope=col>family</th><th scope=col>genus</th><th scope=col>Abundance</th></tr></thead>\n",
       "<tbody>\n",
       "\t<tr><td>0001fc475a4ad532d85da4d26068f1ec</td><td>Lepus_europaeus                 </td><td>Mammalia                        </td><td>Lagomorpha                      </td><td>Leporidae                       </td><td>Lepus                           </td><td>1                               </td></tr>\n",
       "\t<tr><td>0001fc475a4ad532d85da4d26068f1ec</td><td>Nycticebus_pygmaeus             </td><td>Mammalia                        </td><td>Primates                        </td><td>Lorisidae                       </td><td>Nycticebus                      </td><td>1                               </td></tr>\n",
       "\t<tr><td>0003924139f23b61d50e68466e863de4</td><td>Testudo_hermanni                </td><td>Reptilia                        </td><td>Squamata                        </td><td>Testudinidae                    </td><td>Testudo                         </td><td>1                               </td></tr>\n",
       "</tbody>\n",
       "</table>\n"
      ],
      "text/latex": [
       "\\begin{tabular}{r|lllllll}\n",
       " OTU & scientific\\_name & class & order & family & genus & Abundance\\\\\n",
       "\\hline\n",
       "\t 0001fc475a4ad532d85da4d26068f1ec & Lepus\\_europaeus                & Mammalia                         & Lagomorpha                       & Leporidae                        & Lepus                            & 1                               \\\\\n",
       "\t 0001fc475a4ad532d85da4d26068f1ec & Nycticebus\\_pygmaeus            & Mammalia                         & Primates                         & Lorisidae                        & Nycticebus                       & 1                               \\\\\n",
       "\t 0003924139f23b61d50e68466e863de4 & Testudo\\_hermanni               & Reptilia                         & Squamata                         & Testudinidae                     & Testudo                          & 1                               \\\\\n",
       "\\end{tabular}\n"
      ],
      "text/markdown": [
       "\n",
       "OTU | scientific_name | class | order | family | genus | Abundance | \n",
       "|---|---|---|\n",
       "| 0001fc475a4ad532d85da4d26068f1ec | Lepus_europaeus                  | Mammalia                         | Lagomorpha                       | Leporidae                        | Lepus                            | 1                                | \n",
       "| 0001fc475a4ad532d85da4d26068f1ec | Nycticebus_pygmaeus              | Mammalia                         | Primates                         | Lorisidae                        | Nycticebus                       | 1                                | \n",
       "| 0003924139f23b61d50e68466e863de4 | Testudo_hermanni                 | Reptilia                         | Squamata                         | Testudinidae                     | Testudo                          | 1                                | \n",
       "\n",
       "\n"
      ],
      "text/plain": [
       "  OTU                              scientific_name     class    order     \n",
       "1 0001fc475a4ad532d85da4d26068f1ec Lepus_europaeus     Mammalia Lagomorpha\n",
       "2 0001fc475a4ad532d85da4d26068f1ec Nycticebus_pygmaeus Mammalia Primates  \n",
       "3 0003924139f23b61d50e68466e863de4 Testudo_hermanni    Reptilia Squamata  \n",
       "  family       genus      Abundance\n",
       "1 Leporidae    Lepus      1        \n",
       "2 Lorisidae    Nycticebus 1        \n",
       "3 Testudinidae Testudo    1        "
      ]
     },
     "metadata": {},
     "output_type": "display_data"
    }
   ],
   "source": [
    "# adding metadata and determining presence in any individuals of the species\n",
    "otu = otu %>%\n",
    "    inner_join(metadata, c('Sample'='Sample_ID')) %>%\n",
    "    group_by(OTU, scientific_name, class, order, family, genus) %>%\n",
    "    summarize(Abundance = ifelse(sum(Abundance) > 0, 1, 0)) %>%\n",
    "    ungroup()\n",
    "\n",
    "otu %>% dfhead"
   ]
  },
  {
   "cell_type": "code",
   "execution_count": 110,
   "metadata": {
    "ExecuteTime": {
     "end_time": "2018-11-29T14:48:36.881305Z",
     "start_time": "2018-11-29T14:45:22.512Z"
    }
   },
   "outputs": [
    {
     "name": "stdout",
     "output_type": "stream",
     "text": [
      "[1] 128\n",
      "[1] 30290     2\n"
     ]
    },
    {
     "data": {
      "text/html": [
       "<table>\n",
       "<thead><tr><th scope=col>OTU</th><th scope=col>Prevalence</th></tr></thead>\n",
       "<tbody>\n",
       "\t<tr><td>0001fc475a4ad532d85da4d26068f1ec</td><td>1.56250                         </td></tr>\n",
       "\t<tr><td>0003924139f23b61d50e68466e863de4</td><td>0.78125                         </td></tr>\n",
       "\t<tr><td>00057660e4817a98b6fad8f00075bf08</td><td>0.78125                         </td></tr>\n",
       "</tbody>\n",
       "</table>\n"
      ],
      "text/latex": [
       "\\begin{tabular}{r|ll}\n",
       " OTU & Prevalence\\\\\n",
       "\\hline\n",
       "\t 0001fc475a4ad532d85da4d26068f1ec & 1.56250                         \\\\\n",
       "\t 0003924139f23b61d50e68466e863de4 & 0.78125                         \\\\\n",
       "\t 00057660e4817a98b6fad8f00075bf08 & 0.78125                         \\\\\n",
       "\\end{tabular}\n"
      ],
      "text/markdown": [
       "\n",
       "OTU | Prevalence | \n",
       "|---|---|---|\n",
       "| 0001fc475a4ad532d85da4d26068f1ec | 1.56250                          | \n",
       "| 0003924139f23b61d50e68466e863de4 | 0.78125                          | \n",
       "| 00057660e4817a98b6fad8f00075bf08 | 0.78125                          | \n",
       "\n",
       "\n"
      ],
      "text/plain": [
       "  OTU                              Prevalence\n",
       "1 0001fc475a4ad532d85da4d26068f1ec 1.56250   \n",
       "2 0003924139f23b61d50e68466e863de4 0.78125   \n",
       "3 00057660e4817a98b6fad8f00075bf08 0.78125   "
      ]
     },
     "metadata": {},
     "output_type": "display_data"
    }
   ],
   "source": [
    "# prevalence\n",
    "n_spec = metadata$scientific_name %>% unique %>% length\n",
    "n_spec %>% print\n",
    "\n",
    "otu_s = otu %>%\n",
    "    group_by(OTU) %>%\n",
    "    summarize(Prevalence = sum(Abundance) / n_spec * 100) %>%\n",
    "    ungroup()\n",
    "\n",
    "otu_s %>% dfhead"
   ]
  },
  {
   "cell_type": "code",
   "execution_count": 111,
   "metadata": {
    "ExecuteTime": {
     "end_time": "2018-11-29T14:48:36.918099Z",
     "start_time": "2018-11-29T14:45:22.638Z"
    }
   },
   "outputs": [
    {
     "name": "stdout",
     "output_type": "stream",
     "text": [
      "   Min. 1st Qu.  Median    Mean 3rd Qu.    Max. \n",
      " 0.4695  0.4695  0.4695  1.2478  0.9390 99.5305 \n"
     ]
    }
   ],
   "source": [
    "# summary\n",
    "prev$Prevalence %>% summary %>% print"
   ]
  },
  {
   "cell_type": "code",
   "execution_count": 112,
   "metadata": {
    "ExecuteTime": {
     "end_time": "2018-11-29T14:48:37.923277Z",
     "start_time": "2018-11-29T14:45:22.760Z"
    }
   },
   "outputs": [
    {
     "name": "stdout",
     "output_type": "stream",
     "text": [
      "File written: /ebio/abt3_projects/Georg_animal_feces/notebooks/16S/1_LLA/.figures/IndD_bySpec_sparsity-histo.pdf \n"
     ]
    },
    {
     "data": {
      "image/png": "[encoded data removed]",
      "text/plain": [
       "plot without title"
      ]
     },
     "metadata": {},
     "output_type": "display_data"
    }
   ],
   "source": [
    "# plotting\n",
    "p = ggplot(prev, aes(Prevalence)) +\n",
    "    geom_histogram(binwidth=1) +\n",
    "    labs(x='% of host species', y='No. of OTUs') +\n",
    "    theme_bw()\n",
    "\n",
    "options(repr.plot.width=4, repr.plot.height=2.5)\n",
    "plot_write(p, file='IndD_bySpec_sparsity-histo.pdf')"
   ]
  },
  {
   "cell_type": "markdown",
   "metadata": {},
   "source": [
    "## By host class"
   ]
  },
  {
   "cell_type": "code",
   "execution_count": 113,
   "metadata": {
    "ExecuteTime": {
     "end_time": "2018-11-29T14:48:40.623305Z",
     "start_time": "2018-11-29T14:45:23.280Z"
    }
   },
   "outputs": [
    {
     "name": "stdout",
     "output_type": "stream",
     "text": [
      "[1] 31207     3\n"
     ]
    },
    {
     "data": {
      "text/html": [
       "<table>\n",
       "<thead><tr><th scope=col>OTU</th><th scope=col>class</th><th scope=col>Prevalence</th></tr></thead>\n",
       "<tbody>\n",
       "\t<tr><td>0001fc475a4ad532d85da4d26068f1ec</td><td>Mammalia                        </td><td> 2.439024                       </td></tr>\n",
       "\t<tr><td>0003924139f23b61d50e68466e863de4</td><td>Reptilia                        </td><td>12.500000                       </td></tr>\n",
       "\t<tr><td>00057660e4817a98b6fad8f00075bf08</td><td>Mammalia                        </td><td> 1.219512                       </td></tr>\n",
       "</tbody>\n",
       "</table>\n"
      ],
      "text/latex": [
       "\\begin{tabular}{r|lll}\n",
       " OTU & class & Prevalence\\\\\n",
       "\\hline\n",
       "\t 0001fc475a4ad532d85da4d26068f1ec & Mammalia                         &  2.439024                       \\\\\n",
       "\t 0003924139f23b61d50e68466e863de4 & Reptilia                         & 12.500000                       \\\\\n",
       "\t 00057660e4817a98b6fad8f00075bf08 & Mammalia                         &  1.219512                       \\\\\n",
       "\\end{tabular}\n"
      ],
      "text/markdown": [
       "\n",
       "OTU | class | Prevalence | \n",
       "|---|---|---|\n",
       "| 0001fc475a4ad532d85da4d26068f1ec | Mammalia                         |  2.439024                        | \n",
       "| 0003924139f23b61d50e68466e863de4 | Reptilia                         | 12.500000                        | \n",
       "| 00057660e4817a98b6fad8f00075bf08 | Mammalia                         |  1.219512                        | \n",
       "\n",
       "\n"
      ],
      "text/plain": [
       "  OTU                              class    Prevalence\n",
       "1 0001fc475a4ad532d85da4d26068f1ec Mammalia  2.439024 \n",
       "2 0003924139f23b61d50e68466e863de4 Reptilia 12.500000 \n",
       "3 00057660e4817a98b6fad8f00075bf08 Mammalia  1.219512 "
      ]
     },
     "metadata": {},
     "output_type": "display_data"
    }
   ],
   "source": [
    "# prevalence\n",
    "n_spec = otu %>%\n",
    "    group_by(class) %>%\n",
    "    summarize(n_spec = scientific_name %>% unique %>% length) %>%\n",
    "    ungroup()\n",
    "\n",
    "otu_s = otu %>%\n",
    "    inner_join(n_spec, c('class')) %>%\n",
    "    group_by(OTU, class) %>%\n",
    "    summarize(Prevalence = sum(Abundance) / first(n_spec) * 100) %>%\n",
    "    ungroup()\n",
    "\n",
    "otu_s %>% dfhead"
   ]
  },
  {
   "cell_type": "code",
   "execution_count": 114,
   "metadata": {
    "ExecuteTime": {
     "end_time": "2018-11-29T14:48:42.694249Z",
     "start_time": "2018-11-29T14:45:23.392Z"
    }
   },
   "outputs": [
    {
     "name": "stdout",
     "output_type": "stream",
     "text": [
      "File written: /ebio/abt3_projects/Georg_animal_feces/notebooks/16S/1_LLA/.figures/IndD_bySpec_byHostClass_sparsity-boxplot.pdf \n"
     ]
    },
    {
     "data": {
      "image/png": "[encoded data removed]",
      "text/plain": [
       "plot without title"
      ]
     },
     "metadata": {},
     "output_type": "display_data"
    }
   ],
   "source": [
    "# plotting\n",
    "p = ggplot(otu_s, aes(class, Prevalence)) +\n",
    "    geom_boxplot() +\n",
    "    labs(y='% of host species', x='Host class') +\n",
    "    theme_bw()\n",
    "\n",
    "options(repr.plot.width=4.5, repr.plot.height=2.7)\n",
    "plot_write(p, file='IndD_bySpec_byHostClass_sparsity-boxplot.pdf')"
   ]
  },
  {
   "cell_type": "markdown",
   "metadata": {},
   "source": [
    "## By microbial taxonomy"
   ]
  },
  {
   "cell_type": "code",
   "execution_count": 115,
   "metadata": {
    "ExecuteTime": {
     "end_time": "2018-11-29T14:48:43.057309Z",
     "start_time": "2018-11-29T14:45:23.647Z"
    }
   },
   "outputs": [
    {
     "name": "stdout",
     "output_type": "stream",
     "text": [
      "[1] 30290     8\n"
     ]
    },
    {
     "data": {
      "text/html": [
       "<table>\n",
       "<thead><tr><th scope=col>Domain</th><th scope=col>Genus</th><th scope=col>Family</th><th scope=col>Order</th><th scope=col>Class</th><th scope=col>Phylum</th><th scope=col>Species</th><th scope=col>OTU</th></tr></thead>\n",
       "<tbody>\n",
       "\t<tr><td>Bacteria                                                                  </td><td>Candidate division SR1;unclassified;unclassified;unclassified;unclassified</td><td>Candidate division SR1;unclassified;unclassified;unclassified             </td><td>Candidate division SR1;unclassified;unclassified                          </td><td>Candidate division SR1;unclassified                                       </td><td>Candidate division SR1                                                    </td><td>unclassified                                                              </td><td>ea2df9bcd7f6a10e0fa509d237d19c6d                                          </td></tr>\n",
       "\t<tr><td>Bacteria                                                                  </td><td>Candidate division SR1;uncultured bacterium;;;                            </td><td>Candidate division SR1;uncultured bacterium;;                             </td><td>Candidate division SR1;uncultured bacterium;                              </td><td>Candidate division SR1;uncultured bacterium                               </td><td>Candidate division SR1                                                    </td><td>                                                                          </td><td>130b094f31455943fb20899a36af8afd                                          </td></tr>\n",
       "\t<tr><td>Bacteria                                                                  </td><td>Candidate division SR1;uncultured bacterium;;;                            </td><td>Candidate division SR1;uncultured bacterium;;                             </td><td>Candidate division SR1;uncultured bacterium;                              </td><td>Candidate division SR1;uncultured bacterium                               </td><td>Candidate division SR1                                                    </td><td>                                                                          </td><td>b9b9562a0f34ad60c552f7f46d7a4b3b                                          </td></tr>\n",
       "</tbody>\n",
       "</table>\n"
      ],
      "text/latex": [
       "\\begin{tabular}{r|llllllll}\n",
       " Domain & Genus & Family & Order & Class & Phylum & Species & OTU\\\\\n",
       "\\hline\n",
       "\t Bacteria                                                                   & Candidate division SR1;unclassified;unclassified;unclassified;unclassified & Candidate division SR1;unclassified;unclassified;unclassified              & Candidate division SR1;unclassified;unclassified                           & Candidate division SR1;unclassified                                        & Candidate division SR1                                                     & unclassified                                                               & ea2df9bcd7f6a10e0fa509d237d19c6d                                          \\\\\n",
       "\t Bacteria                                                                   & Candidate division SR1;uncultured bacterium;;;                             & Candidate division SR1;uncultured bacterium;;                              & Candidate division SR1;uncultured bacterium;                               & Candidate division SR1;uncultured bacterium                                & Candidate division SR1                                                     &                                                                            & 130b094f31455943fb20899a36af8afd                                          \\\\\n",
       "\t Bacteria                                                                   & Candidate division SR1;uncultured bacterium;;;                             & Candidate division SR1;uncultured bacterium;;                              & Candidate division SR1;uncultured bacterium;                               & Candidate division SR1;uncultured bacterium                                & Candidate division SR1                                                     &                                                                            & b9b9562a0f34ad60c552f7f46d7a4b3b                                          \\\\\n",
       "\\end{tabular}\n"
      ],
      "text/markdown": [
       "\n",
       "Domain | Genus | Family | Order | Class | Phylum | Species | OTU | \n",
       "|---|---|---|\n",
       "| Bacteria                                                                   | Candidate division SR1;unclassified;unclassified;unclassified;unclassified | Candidate division SR1;unclassified;unclassified;unclassified              | Candidate division SR1;unclassified;unclassified                           | Candidate division SR1;unclassified                                        | Candidate division SR1                                                     | unclassified                                                               | ea2df9bcd7f6a10e0fa509d237d19c6d                                           | \n",
       "| Bacteria                                                                   | Candidate division SR1;uncultured bacterium;;;                             | Candidate division SR1;uncultured bacterium;;                              | Candidate division SR1;uncultured bacterium;                               | Candidate division SR1;uncultured bacterium                                | Candidate division SR1                                                     |                                                                            | 130b094f31455943fb20899a36af8afd                                           | \n",
       "| Bacteria                                                                   | Candidate division SR1;uncultured bacterium;;;                             | Candidate division SR1;uncultured bacterium;;                              | Candidate division SR1;uncultured bacterium;                               | Candidate division SR1;uncultured bacterium                                | Candidate division SR1                                                     |                                                                            | b9b9562a0f34ad60c552f7f46d7a4b3b                                           | \n",
       "\n",
       "\n"
      ],
      "text/plain": [
       "  Domain  \n",
       "1 Bacteria\n",
       "2 Bacteria\n",
       "3 Bacteria\n",
       "  Genus                                                                     \n",
       "1 Candidate division SR1;unclassified;unclassified;unclassified;unclassified\n",
       "2 Candidate division SR1;uncultured bacterium;;;                            \n",
       "3 Candidate division SR1;uncultured bacterium;;;                            \n",
       "  Family                                                       \n",
       "1 Candidate division SR1;unclassified;unclassified;unclassified\n",
       "2 Candidate division SR1;uncultured bacterium;;                \n",
       "3 Candidate division SR1;uncultured bacterium;;                \n",
       "  Order                                           \n",
       "1 Candidate division SR1;unclassified;unclassified\n",
       "2 Candidate division SR1;uncultured bacterium;    \n",
       "3 Candidate division SR1;uncultured bacterium;    \n",
       "  Class                                       Phylum                \n",
       "1 Candidate division SR1;unclassified         Candidate division SR1\n",
       "2 Candidate division SR1;uncultured bacterium Candidate division SR1\n",
       "3 Candidate division SR1;uncultured bacterium Candidate division SR1\n",
       "  Species      OTU                             \n",
       "1 unclassified ea2df9bcd7f6a10e0fa509d237d19c6d\n",
       "2              130b094f31455943fb20899a36af8afd\n",
       "3              b9b9562a0f34ad60c552f7f46d7a4b3b"
      ]
     },
     "metadata": {},
     "output_type": "display_data"
    }
   ],
   "source": [
    "tax = physeq %>%\n",
    "    tax_table %>%\n",
    "    as.matrix %>%\n",
    "    as.data.frame %>%\n",
    "    mutate(OTU = rownames(.)) %>%\n",
    "    ungroup() %>%\n",
    "    unite(Genus, Phylum, Class, Order, Family, Genus, sep=';', remove=FALSE) %>%\n",
    "    unite(Family, Phylum, Class, Order, Family, sep=';', remove=FALSE) %>%\n",
    "    unite(Order, Phylum, Class, Order, sep=';', remove=FALSE) %>%\n",
    "    unite(Class, Phylum, Class, sep=';', remove=FALSE) \n",
    "\n",
    "tax %>% dfhead"
   ]
  },
  {
   "cell_type": "code",
   "execution_count": 116,
   "metadata": {
    "ExecuteTime": {
     "end_time": "2018-11-29T14:48:43.084593Z",
     "start_time": "2018-11-29T14:45:23.792Z"
    }
   },
   "outputs": [],
   "source": [
    "# determining prevalence for each taxonomic level\n",
    "prev_each_level = function(lev, df, n_spec){\n",
    "    df = df %>%\n",
    "        group_by_('scientific_name', lev) %>%\n",
    "        summarize(Abundance = sum(Abundance)) %>%\n",
    "        group_by_(lev) %>%\n",
    "        summarize(Prevalence = sum(Abundance>0) / n_spec * 100) %>%\n",
    "        ungroup()\n",
    "    colnames(df) = c('Group', 'Prevalence')\n",
    "    df$Taxonomic_level = lev\n",
    "    return(df)\n",
    "}"
   ]
  },
  {
   "cell_type": "code",
   "execution_count": 117,
   "metadata": {
    "ExecuteTime": {
     "end_time": "2018-11-29T14:48:47.426181Z",
     "start_time": "2018-11-29T14:45:23.944Z"
    }
   },
   "outputs": [
    {
     "name": "stdout",
     "output_type": "stream",
     "text": [
      "[1] 128\n",
      "[1] 31841     3\n"
     ]
    },
    {
     "data": {
      "text/html": [
       "<table>\n",
       "<thead><tr><th scope=col>Group</th><th scope=col>Prevalence</th><th scope=col>Taxonomic_level</th></tr></thead>\n",
       "<tbody>\n",
       "\t<tr><td>Acidobacteria  </td><td> 6.25000       </td><td>Phylum         </td></tr>\n",
       "\t<tr><td>Actinobacteria </td><td>86.71875       </td><td>Phylum         </td></tr>\n",
       "\t<tr><td>Armatimonadetes</td><td> 5.46875       </td><td>Phylum         </td></tr>\n",
       "</tbody>\n",
       "</table>\n"
      ],
      "text/latex": [
       "\\begin{tabular}{r|lll}\n",
       " Group & Prevalence & Taxonomic\\_level\\\\\n",
       "\\hline\n",
       "\t Acidobacteria   &  6.25000        & Phylum         \\\\\n",
       "\t Actinobacteria  & 86.71875        & Phylum         \\\\\n",
       "\t Armatimonadetes &  5.46875        & Phylum         \\\\\n",
       "\\end{tabular}\n"
      ],
      "text/markdown": [
       "\n",
       "Group | Prevalence | Taxonomic_level | \n",
       "|---|---|---|\n",
       "| Acidobacteria   |  6.25000        | Phylum          | \n",
       "| Actinobacteria  | 86.71875        | Phylum          | \n",
       "| Armatimonadetes |  5.46875        | Phylum          | \n",
       "\n",
       "\n"
      ],
      "text/plain": [
       "  Group           Prevalence Taxonomic_level\n",
       "1 Acidobacteria    6.25000   Phylum         \n",
       "2 Actinobacteria  86.71875   Phylum         \n",
       "3 Armatimonadetes  5.46875   Phylum         "
      ]
     },
     "metadata": {},
     "output_type": "display_data"
    }
   ],
   "source": [
    "# prevalence\n",
    "n_spec = metadata$scientific_name %>% unique %>% length\n",
    "n_spec %>% print\n",
    "\n",
    "otu_s = otu %>%\n",
    "    inner_join(tax, c('OTU')) \n",
    "\n",
    "levs = c('Phylum', 'Class', 'Order', 'Family', 'Genus', 'OTU')\n",
    "doParallel::registerDoParallel(threads)\n",
    "otu_s = plyr::llply(as.list(levs), prev_each_level, df=otu_s, n_spec=n_spec, .parallel=TRUE)\n",
    "\n",
    "otu_s = do.call(rbind, otu_s) %>%\n",
    "    mutate(Taxonomic_level = factor(Taxonomic_level, levels=levs))\n",
    "\n",
    "otu_s %>% dfhead"
   ]
  },
  {
   "cell_type": "code",
   "execution_count": 118,
   "metadata": {
    "ExecuteTime": {
     "end_time": "2018-11-29T14:48:49.649002Z",
     "start_time": "2018-11-29T14:45:24.064Z"
    }
   },
   "outputs": [
    {
     "name": "stdout",
     "output_type": "stream",
     "text": [
      "File written: /ebio/abt3_projects/Georg_animal_feces/notebooks/16S/1_LLA/.figures/IndD_bySpec_sparsity-histo_by-microTax.pdf \n"
     ]
    },
    {
     "data": {
      "image/png": "[encoded data removed]",
      "text/plain": [
       "plot without title"
      ]
     },
     "metadata": {},
     "output_type": "display_data"
    }
   ],
   "source": [
    "# plotting\n",
    "p = ggplot(otu_s, aes(Taxonomic_level, Prevalence)) +\n",
    "    geom_boxplot() +\n",
    "    labs(y='% of host species',\n",
    "         x='Microbe taxonomic level') +\n",
    "    theme_bw()\n",
    "\n",
    "options(repr.plot.width=4.5, repr.plot.height=2.7)\n",
    "plot_write(p, file='IndD_bySpec_sparsity-histo_by-microTax.pdf')"
   ]
  },
  {
   "cell_type": "markdown",
   "metadata": {},
   "source": [
    "### Most prevalent taxonomic groups"
   ]
  },
  {
   "cell_type": "code",
   "execution_count": 119,
   "metadata": {
    "ExecuteTime": {
     "end_time": "2018-11-29T14:48:49.732386Z",
     "start_time": "2018-11-29T14:45:24.337Z"
    }
   },
   "outputs": [
    {
     "data": {
      "text/html": [
       "<table>\n",
       "<thead><tr><th scope=col>Taxonomic_level</th><th scope=col>Group</th><th scope=col>Prevalence</th></tr></thead>\n",
       "<tbody>\n",
       "\t<tr><td>Phylum                                                                 </td><td>Firmicutes                                                             </td><td>100.0                                                                  </td></tr>\n",
       "\t<tr><td>Phylum                                                                 </td><td>Proteobacteria                                                         </td><td>100.0                                                                  </td></tr>\n",
       "\t<tr><td>Class                                                                  </td><td>Firmicutes;Clostridia                                                  </td><td> 98.4                                                                  </td></tr>\n",
       "\t<tr><td>Order                                                                  </td><td>Firmicutes;Clostridia;Clostridiales                                    </td><td> 98.4                                                                  </td></tr>\n",
       "\t<tr><td>Class                                                                  </td><td>Proteobacteria;Betaproteobacteria                                      </td><td> 95.3                                                                  </td></tr>\n",
       "\t<tr><td>Class                                                                  </td><td>Proteobacteria;Gammaproteobacteria                                     </td><td> 94.5                                                                  </td></tr>\n",
       "\t<tr><td>Order                                                                  </td><td>Proteobacteria;Betaproteobacteria;Burkholderiales                      </td><td> 94.5                                                                  </td></tr>\n",
       "\t<tr><td>Class                                                                  </td><td>Firmicutes;Bacilli                                                     </td><td> 92.2                                                                  </td></tr>\n",
       "\t<tr><td>Phylum                                                                 </td><td>Actinobacteria                                                         </td><td> 86.7                                                                  </td></tr>\n",
       "\t<tr><td>Phylum                                                                 </td><td>Bacteroidetes                                                          </td><td> 85.9                                                                  </td></tr>\n",
       "\t<tr><td>Order                                                                  </td><td>Proteobacteria;Gammaproteobacteria;Enterobacteriales                   </td><td> 85.2                                                                  </td></tr>\n",
       "\t<tr><td>Family                                                                 </td><td>Proteobacteria;Gammaproteobacteria;Enterobacteriales;Enterobacteriaceae</td><td> 85.2                                                                  </td></tr>\n",
       "\t<tr><td>Order                                                                  </td><td>Firmicutes;Bacilli;Lactobacillales                                     </td><td> 82.0                                                                  </td></tr>\n",
       "\t<tr><td>Family                                                                 </td><td>Firmicutes;Clostridia;Clostridiales;Lachnospiraceae                    </td><td> 82.0                                                                  </td></tr>\n",
       "\t<tr><td>Family                                                                 </td><td>Firmicutes;Clostridia;Clostridiales;Clostridiaceae 1                   </td><td> 81.2                                                                  </td></tr>\n",
       "\t<tr><td>Class                                                                  </td><td>Bacteroidetes;Bacteroidia                                              </td><td> 78.9                                                                  </td></tr>\n",
       "\t<tr><td>Order                                                                  </td><td>Bacteroidetes;Bacteroidia;Bacteroidales                                </td><td> 78.9                                                                  </td></tr>\n",
       "</tbody>\n",
       "</table>\n"
      ],
      "text/latex": [
       "\\begin{tabular}{r|lll}\n",
       " Taxonomic\\_level & Group & Prevalence\\\\\n",
       "\\hline\n",
       "\t Phylum                                                                  & Firmicutes                                                              & 100.0                                                                  \\\\\n",
       "\t Phylum                                                                  & Proteobacteria                                                          & 100.0                                                                  \\\\\n",
       "\t Class                                                                   & Firmicutes;Clostridia                                                   &  98.4                                                                  \\\\\n",
       "\t Order                                                                   & Firmicutes;Clostridia;Clostridiales                                     &  98.4                                                                  \\\\\n",
       "\t Class                                                                   & Proteobacteria;Betaproteobacteria                                       &  95.3                                                                  \\\\\n",
       "\t Class                                                                   & Proteobacteria;Gammaproteobacteria                                      &  94.5                                                                  \\\\\n",
       "\t Order                                                                   & Proteobacteria;Betaproteobacteria;Burkholderiales                       &  94.5                                                                  \\\\\n",
       "\t Class                                                                   & Firmicutes;Bacilli                                                      &  92.2                                                                  \\\\\n",
       "\t Phylum                                                                  & Actinobacteria                                                          &  86.7                                                                  \\\\\n",
       "\t Phylum                                                                  & Bacteroidetes                                                           &  85.9                                                                  \\\\\n",
       "\t Order                                                                   & Proteobacteria;Gammaproteobacteria;Enterobacteriales                    &  85.2                                                                  \\\\\n",
       "\t Family                                                                  & Proteobacteria;Gammaproteobacteria;Enterobacteriales;Enterobacteriaceae &  85.2                                                                  \\\\\n",
       "\t Order                                                                   & Firmicutes;Bacilli;Lactobacillales                                      &  82.0                                                                  \\\\\n",
       "\t Family                                                                  & Firmicutes;Clostridia;Clostridiales;Lachnospiraceae                     &  82.0                                                                  \\\\\n",
       "\t Family                                                                  & Firmicutes;Clostridia;Clostridiales;Clostridiaceae 1                    &  81.2                                                                  \\\\\n",
       "\t Class                                                                   & Bacteroidetes;Bacteroidia                                               &  78.9                                                                  \\\\\n",
       "\t Order                                                                   & Bacteroidetes;Bacteroidia;Bacteroidales                                 &  78.9                                                                  \\\\\n",
       "\\end{tabular}\n"
      ],
      "text/markdown": [
       "\n",
       "Taxonomic_level | Group | Prevalence | \n",
       "|---|---|---|---|---|---|---|---|---|---|---|---|---|---|---|---|---|\n",
       "| Phylum                                                                  | Firmicutes                                                              | 100.0                                                                   | \n",
       "| Phylum                                                                  | Proteobacteria                                                          | 100.0                                                                   | \n",
       "| Class                                                                   | Firmicutes;Clostridia                                                   |  98.4                                                                   | \n",
       "| Order                                                                   | Firmicutes;Clostridia;Clostridiales                                     |  98.4                                                                   | \n",
       "| Class                                                                   | Proteobacteria;Betaproteobacteria                                       |  95.3                                                                   | \n",
       "| Class                                                                   | Proteobacteria;Gammaproteobacteria                                      |  94.5                                                                   | \n",
       "| Order                                                                   | Proteobacteria;Betaproteobacteria;Burkholderiales                       |  94.5                                                                   | \n",
       "| Class                                                                   | Firmicutes;Bacilli                                                      |  92.2                                                                   | \n",
       "| Phylum                                                                  | Actinobacteria                                                          |  86.7                                                                   | \n",
       "| Phylum                                                                  | Bacteroidetes                                                           |  85.9                                                                   | \n",
       "| Order                                                                   | Proteobacteria;Gammaproteobacteria;Enterobacteriales                    |  85.2                                                                   | \n",
       "| Family                                                                  | Proteobacteria;Gammaproteobacteria;Enterobacteriales;Enterobacteriaceae |  85.2                                                                   | \n",
       "| Order                                                                   | Firmicutes;Bacilli;Lactobacillales                                      |  82.0                                                                   | \n",
       "| Family                                                                  | Firmicutes;Clostridia;Clostridiales;Lachnospiraceae                     |  82.0                                                                   | \n",
       "| Family                                                                  | Firmicutes;Clostridia;Clostridiales;Clostridiaceae 1                    |  81.2                                                                   | \n",
       "| Class                                                                   | Bacteroidetes;Bacteroidia                                               |  78.9                                                                   | \n",
       "| Order                                                                   | Bacteroidetes;Bacteroidia;Bacteroidales                                 |  78.9                                                                   | \n",
       "\n",
       "\n"
      ],
      "text/plain": [
       "   Taxonomic_level\n",
       "1  Phylum         \n",
       "2  Phylum         \n",
       "3  Class          \n",
       "4  Order          \n",
       "5  Class          \n",
       "6  Class          \n",
       "7  Order          \n",
       "8  Class          \n",
       "9  Phylum         \n",
       "10 Phylum         \n",
       "11 Order          \n",
       "12 Family         \n",
       "13 Order          \n",
       "14 Family         \n",
       "15 Family         \n",
       "16 Class          \n",
       "17 Order          \n",
       "   Group                                                                  \n",
       "1  Firmicutes                                                             \n",
       "2  Proteobacteria                                                         \n",
       "3  Firmicutes;Clostridia                                                  \n",
       "4  Firmicutes;Clostridia;Clostridiales                                    \n",
       "5  Proteobacteria;Betaproteobacteria                                      \n",
       "6  Proteobacteria;Gammaproteobacteria                                     \n",
       "7  Proteobacteria;Betaproteobacteria;Burkholderiales                      \n",
       "8  Firmicutes;Bacilli                                                     \n",
       "9  Actinobacteria                                                         \n",
       "10 Bacteroidetes                                                          \n",
       "11 Proteobacteria;Gammaproteobacteria;Enterobacteriales                   \n",
       "12 Proteobacteria;Gammaproteobacteria;Enterobacteriales;Enterobacteriaceae\n",
       "13 Firmicutes;Bacilli;Lactobacillales                                     \n",
       "14 Firmicutes;Clostridia;Clostridiales;Lachnospiraceae                    \n",
       "15 Firmicutes;Clostridia;Clostridiales;Clostridiaceae 1                   \n",
       "16 Bacteroidetes;Bacteroidia                                              \n",
       "17 Bacteroidetes;Bacteroidia;Bacteroidales                                \n",
       "   Prevalence\n",
       "1  100.0     \n",
       "2  100.0     \n",
       "3   98.4     \n",
       "4   98.4     \n",
       "5   95.3     \n",
       "6   94.5     \n",
       "7   94.5     \n",
       "8   92.2     \n",
       "9   86.7     \n",
       "10  85.9     \n",
       "11  85.2     \n",
       "12  85.2     \n",
       "13  82.0     \n",
       "14  82.0     \n",
       "15  81.2     \n",
       "16  78.9     \n",
       "17  78.9     "
      ]
     },
     "metadata": {},
     "output_type": "display_data"
    }
   ],
   "source": [
    "otu_s_f = otu_s %>%\n",
    "    filter(Prevalence > 75) %>%\n",
    "    dplyr::select(Taxonomic_level, Group, Prevalence) %>%\n",
    "    mutate(Prevalence = round(Prevalence, 1)) %>%\n",
    "    arrange(-Prevalence, Taxonomic_level, Group)\n",
    "\n",
    "otu_s_f"
   ]
  },
  {
   "cell_type": "code",
   "execution_count": 120,
   "metadata": {
    "ExecuteTime": {
     "end_time": "2018-11-29T14:48:49.768011Z",
     "start_time": "2018-11-29T14:45:24.487Z"
    }
   },
   "outputs": [
    {
     "name": "stdout",
     "output_type": "stream",
     "text": [
      "File written: /ebio/abt3_projects/Georg_animal_feces/data/16S/LLA/sparsity//IndD_bySpec_mostPrev.tsv \n"
     ]
    }
   ],
   "source": [
    "out_file = file.path(work_dir, 'IndD_bySpec_mostPrev.tsv')\n",
    "write.table(otu_s_f, out_file, sep='\\t', quote=FALSE, row.names=FALSE)\n",
    "cat('File written:', out_file, '\\n')"
   ]
  },
  {
   "cell_type": "markdown",
   "metadata": {},
   "source": [
    "# sessionInfo"
   ]
  },
  {
   "cell_type": "code",
   "execution_count": 121,
   "metadata": {
    "ExecuteTime": {
     "end_time": "2018-11-29T14:48:49.973219Z",
     "start_time": "2018-11-29T14:45:25.150Z"
    }
   },
   "outputs": [
    {
     "data": {
      "text/plain": [
       "R version 3.4.1 (2017-06-30)\n",
       "Platform: x86_64-pc-linux-gnu (64-bit)\n",
       "Running under: Ubuntu 18.04.1 LTS\n",
       "\n",
       "Matrix products: default\n",
       "BLAS: /ebio/abt3_projects/software/miniconda3_gt4.4/envs/py3_physeq/lib/R/lib/libRblas.so\n",
       "LAPACK: /ebio/abt3_projects/software/miniconda3_gt4.4/envs/py3_physeq/lib/R/lib/libRlapack.so\n",
       "\n",
       "locale:\n",
       "[1] en_US.UTF-8\n",
       "\n",
       "attached base packages:\n",
       "[1] stats     graphics  grDevices utils     datasets  methods   base     \n",
       "\n",
       "other attached packages:\n",
       "[1] bindrcpp_0.2.2  phyloseq_1.22.3 ggplot2_3.0.0   tidyr_0.8.1    \n",
       "[5] dplyr_0.7.6    \n",
       "\n",
       "loaded via a namespace (and not attached):\n",
       " [1] Rcpp_0.12.17        ape_5.1             lattice_0.20-34    \n",
       " [4] Biostrings_2.46.0   assertthat_0.2.0    digest_0.6.15      \n",
       " [7] foreach_1.4.4       IRdisplay_0.4.4     R6_2.2.2           \n",
       "[10] plyr_1.8.4          repr_0.15.0         stats4_3.4.1       \n",
       "[13] evaluate_0.10.1     pillar_1.2.2        zlibbioc_1.24.0    \n",
       "[16] rlang_0.2.1         lazyeval_0.2.1      uuid_0.1-2         \n",
       "[19] data.table_1.11.4   vegan_2.4-3         S4Vectors_0.16.0   \n",
       "[22] Matrix_1.2-14       labeling_0.3        splines_3.4.1      \n",
       "[25] stringr_1.3.1       igraph_1.2.1        munsell_0.5.0      \n",
       "[28] compiler_3.4.1      pkgconfig_2.0.1     BiocGenerics_0.24.0\n",
       "[31] base64enc_0.1-3     multtest_2.34.0     mgcv_1.8-24        \n",
       "[34] htmltools_0.3.6     biomformat_1.6.0    tidyselect_0.2.4   \n",
       "[37] tibble_1.4.2        IRanges_2.12.0      codetools_0.2-15   \n",
       "[40] permute_0.9-4       crayon_1.3.4        withr_2.1.1        \n",
       "[43] MASS_7.3-50         grid_3.4.1          nlme_3.1-131       \n",
       "[46] jsonlite_1.5        gtable_0.2.0        magrittr_1.5       \n",
       "[49] scales_0.5.0        stringi_1.2.3       XVector_0.18.0     \n",
       "[52] reshape2_1.4.3      doParallel_1.0.11   IRkernel_0.8.12    \n",
       "[55] iterators_1.0.10    tools_3.4.1         ade4_1.7-11        \n",
       "[58] Biobase_2.38.0      glue_1.3.0          purrr_0.2.4        \n",
       "[61] parallel_3.4.1      survival_2.42-6     colorspace_1.3-2   \n",
       "[64] rhdf5_2.22.0        cluster_2.0.6       pbdZMQ_0.3-2       \n",
       "[67] bindr_0.1.1        "
      ]
     },
     "metadata": {},
     "output_type": "display_data"
    }
   ],
   "source": [
    "sessionInfo()"
   ]
  }
 ],
 "metadata": {
  "kernelspec": {
   "display_name": "R [conda env:py3_physeq]",
   "language": "R",
   "name": "conda-env-py3_physeq-r"
  },
  "language_info": {
   "codemirror_mode": "r",
   "file_extension": ".r",
   "mimetype": "text/x-r-source",
   "name": "R",
   "pygments_lexer": "r",
   "version": "3.4.1"
  },
  "notify_time": "30",
  "toc": {
   "base_numbering": 1,
   "nav_menu": {},
   "number_sections": true,
   "sideBar": true,
   "skip_h1_title": false,
   "title_cell": "Table of Contents",
   "title_sidebar": "Contents",
   "toc_cell": false,
   "toc_position": {},
   "toc_section_display": "block",
   "toc_window_display": true
  }
 },
 "nbformat": 4,
 "nbformat_minor": 2
}
