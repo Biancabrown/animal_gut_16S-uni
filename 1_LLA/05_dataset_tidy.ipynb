{
 "cells": [
  {
   "cell_type": "markdown",
   "metadata": {
    "toc": true
   },
   "source": [
    "<h1>Table of Contents<span class=\"tocSkip\"></span></h1>\n",
    "<div class=\"toc\" style=\"margin-top: 1em;\"><ul class=\"toc-item\"><li><span><a href=\"#Goal\" data-toc-modified-id=\"Goal-1\"><span class=\"toc-item-num\">1&nbsp;&nbsp;</span>Goal</a></span></li><li><span><a href=\"#Var\" data-toc-modified-id=\"Var-2\"><span class=\"toc-item-num\">2&nbsp;&nbsp;</span>Var</a></span></li><li><span><a href=\"#Init\" data-toc-modified-id=\"Init-3\"><span class=\"toc-item-num\">3&nbsp;&nbsp;</span>Init</a></span></li><li><span><a href=\"#Load\" data-toc-modified-id=\"Load-4\"><span class=\"toc-item-num\">4&nbsp;&nbsp;</span>Load</a></span></li><li><span><a href=\"#Filtering-known-outliers\" data-toc-modified-id=\"Filtering-known-outliers-5\"><span class=\"toc-item-num\">5&nbsp;&nbsp;</span>Filtering known outliers</a></span></li><li><span><a href=\"#Rarefy\" data-toc-modified-id=\"Rarefy-6\"><span class=\"toc-item-num\">6&nbsp;&nbsp;</span>Rarefy</a></span></li><li><span><a href=\"#Metadata-check\" data-toc-modified-id=\"Metadata-check-7\"><span class=\"toc-item-num\">7&nbsp;&nbsp;</span>Metadata check</a></span><ul class=\"toc-item\"><li><span><a href=\"#NAs?\" data-toc-modified-id=\"NAs?-7.1\"><span class=\"toc-item-num\">7.1&nbsp;&nbsp;</span>NAs?</a></span></li></ul></li><li><span><a href=\"#Host-tree\" data-toc-modified-id=\"Host-tree-8\"><span class=\"toc-item-num\">8&nbsp;&nbsp;</span>Host tree</a></span><ul class=\"toc-item\"><li><span><a href=\"#Overlap-with-host-tree\" data-toc-modified-id=\"Overlap-with-host-tree-8.1\"><span class=\"toc-item-num\">8.1&nbsp;&nbsp;</span>Overlap with host tree</a></span></li><li><span><a href=\"#Filtering-host-tree\" data-toc-modified-id=\"Filtering-host-tree-8.2\"><span class=\"toc-item-num\">8.2&nbsp;&nbsp;</span>Filtering host tree</a></span><ul class=\"toc-item\"><li><span><a href=\"#Writing-filtered-host-tree\" data-toc-modified-id=\"Writing-filtered-host-tree-8.2.1\"><span class=\"toc-item-num\">8.2.1&nbsp;&nbsp;</span>Writing filtered host tree</a></span></li></ul></li><li><span><a href=\"#Expanding-host-tree-tips\" data-toc-modified-id=\"Expanding-host-tree-tips-8.3\"><span class=\"toc-item-num\">8.3&nbsp;&nbsp;</span>Expanding host tree tips</a></span><ul class=\"toc-item\"><li><span><a href=\"#Writing-tree\" data-toc-modified-id=\"Writing-tree-8.3.1\"><span class=\"toc-item-num\">8.3.1&nbsp;&nbsp;</span>Writing tree</a></span></li></ul></li></ul></li><li><span><a href=\"#Writing-filtered-phyloseq\" data-toc-modified-id=\"Writing-filtered-phyloseq-9\"><span class=\"toc-item-num\">9&nbsp;&nbsp;</span>Writing filtered phyloseq</a></span></li><li><span><a href=\"#sessionInfo\" data-toc-modified-id=\"sessionInfo-10\"><span class=\"toc-item-num\">10&nbsp;&nbsp;</span>sessionInfo</a></span></li></ul></div>"
   ]
  },
  {
   "cell_type": "markdown",
   "metadata": {},
   "source": [
    "# Goal\n",
    "\n",
    "* Filter and format data as needed"
   ]
  },
  {
   "cell_type": "markdown",
   "metadata": {},
   "source": [
    "# Var"
   ]
  },
  {
   "cell_type": "code",
   "execution_count": 3,
   "metadata": {
    "ExecuteTime": {
     "end_time": "2018-07-07T05:38:15.713968Z",
     "start_time": "2018-07-07T05:38:15.375Z"
    }
   },
   "outputs": [],
   "source": [
    "work_dir = '/ebio/abt3_projects/Georg_animal_feces/data/16S/LLA/phyloseq/'\n",
    "\n",
    "# 'raw' phyloseq of all samples\n",
    "physeq_file = '/ebio/abt3_projects/Georg_animal_feces/data/16S/LLA/phyloseq/physeq.RDS'\n",
    "# full host tree of all animals in Georg's metadata\n",
    "host_tree_file = '/ebio/abt3_projects/Georg_animal_feces/data/animal/phylogeny/TT/unified_metadata_complete_20180625_rn.nwk'\n",
    "\n",
    "# params\n",
    "rarefy_depth = 5000\n",
    "seed_num = 4853"
   ]
  },
  {
   "cell_type": "markdown",
   "metadata": {},
   "source": [
    "# Init"
   ]
  },
  {
   "cell_type": "code",
   "execution_count": 4,
   "metadata": {
    "ExecuteTime": {
     "end_time": "2018-07-07T05:38:15.782712Z",
     "start_time": "2018-07-07T05:38:15.606Z"
    }
   },
   "outputs": [],
   "source": [
    "library(dplyr)\n",
    "library(tidyr)\n",
    "library(ggplot2)\n",
    "library(phyloseq)\n",
    "library(ape)\n",
    "source('/ebio/abt3_projects/Georg_animal_feces/code/init.R') "
   ]
  },
  {
   "cell_type": "markdown",
   "metadata": {},
   "source": [
    "# Load"
   ]
  },
  {
   "cell_type": "code",
   "execution_count": 5,
   "metadata": {
    "ExecuteTime": {
     "end_time": "2018-07-07T05:38:18.521476Z",
     "start_time": "2018-07-07T05:38:16.647Z"
    }
   },
   "outputs": [
    {
     "data": {
      "text/plain": [
       "phyloseq-class experiment-level object\n",
       "otu_table()   OTU Table:         [ 39903 taxa and 273 samples ]\n",
       "sample_data() Sample Data:       [ 273 samples by 171 sample variables ]\n",
       "tax_table()   Taxonomy Table:    [ 39903 taxa by 7 taxonomic ranks ]\n",
       "phy_tree()    Phylogenetic Tree: [ 39903 tips and 39154 internal nodes ]"
      ]
     },
     "metadata": {},
     "output_type": "display_data"
    }
   ],
   "source": [
    "# phyloseq object\n",
    "physeq = readRDS(physeq_file)\n",
    "physeq"
   ]
  },
  {
   "cell_type": "code",
   "execution_count": 6,
   "metadata": {
    "ExecuteTime": {
     "end_time": "2018-07-07T05:38:18.534806Z",
     "start_time": "2018-07-07T05:38:16.958Z"
    }
   },
   "outputs": [
    {
     "data": {
      "text/plain": [
       "\n",
       "Phylogenetic tree with 198 tips and 197 internal nodes.\n",
       "\n",
       "Tip labels:\n",
       "\tPerca_fluviatilis, Gymnocephalus_cernua, Sander_lucioperca, Zingel_zingel, Neogobius_melanostomus, Esox_lucius, ...\n",
       "Node labels:\n",
       "\t, @_22_@, @_8_@, @_4_@, @_3_@, @_1_@, ...\n",
       "\n",
       "Rooted; includes branch lengths."
      ]
     },
     "metadata": {},
     "output_type": "display_data"
    }
   ],
   "source": [
    "# host tree\n",
    "host_tree = read.tree(host_tree_file)\n",
    "host_tree"
   ]
  },
  {
   "cell_type": "markdown",
   "metadata": {},
   "source": [
    "# Filtering known outliers\n",
    "\n",
    "* Samples shown in preliminary analyses to be outliers\n",
    "* Without more intra-species replicates, it's hard to determine if they are real or not\n",
    "* To be conservative, I'm removing the samples"
   ]
  },
  {
   "cell_type": "code",
   "execution_count": 8,
   "metadata": {
    "ExecuteTime": {
     "end_time": "2018-07-07T05:39:06.506822Z",
     "start_time": "2018-07-07T05:38:55.709Z"
    }
   },
   "outputs": [
    {
     "data": {
      "text/plain": [
       "phyloseq-class experiment-level object\n",
       "otu_table()   OTU Table:         [ 39903 taxa and 270 samples ]\n",
       "sample_data() Sample Data:       [ 270 samples by 171 sample variables ]\n",
       "tax_table()   Taxonomy Table:    [ 39903 taxa by 7 taxonomic ranks ]\n",
       "phy_tree()    Phylogenetic Tree: [ 39903 tips and 39154 internal nodes ]"
      ]
     },
     "metadata": {},
     "output_type": "display_data"
    }
   ],
   "source": [
    "to_rm = c('X272.Black.Grouse', 'X284.Koala', 'X78.Indian.Gazelle')\n",
    "physeq = phyloseq::subset_samples(physeq, ! sample_names(physeq) %in% to_rm)\n",
    "physeq"
   ]
  },
  {
   "cell_type": "markdown",
   "metadata": {},
   "source": [
    "# Rarefy"
   ]
  },
  {
   "cell_type": "code",
   "execution_count": 9,
   "metadata": {
    "ExecuteTime": {
     "end_time": "2018-07-07T05:41:22.707886Z",
     "start_time": "2018-07-07T05:38:56.871Z"
    }
   },
   "outputs": [
    {
     "name": "stderr",
     "output_type": "stream",
     "text": [
      "`set.seed(4853)` was used to initialize repeatable random subsampling.\n",
      "Please record this for your records so others can reproduce.\n",
      "Try `set.seed(4853); .Random.seed` for the full vector\n",
      "...\n",
      "57 samples removedbecause they contained fewer reads than `sample.size`.\n",
      "Up to first five removed samples are: \n",
      "\n",
      "X104.European.RobinX112.Eurasian.SparrowhawkX113.Eurasian.WoodcockX121.Raccoon.DogX135.Horse\t\n",
      "...\n",
      "9613OTUs were removed because they are no longer \n",
      "present in any sample after random subsampling\n",
      "\n",
      "...\n"
     ]
    },
    {
     "data": {
      "text/plain": [
       "phyloseq-class experiment-level object\n",
       "otu_table()   OTU Table:         [ 30290 taxa and 213 samples ]\n",
       "sample_data() Sample Data:       [ 213 samples by 171 sample variables ]\n",
       "tax_table()   Taxonomy Table:    [ 30290 taxa by 7 taxonomic ranks ]\n",
       "phy_tree()    Phylogenetic Tree: [ 30290 tips and 29752 internal nodes ]"
      ]
     },
     "metadata": {},
     "output_type": "display_data"
    }
   ],
   "source": [
    "# rarefy otu table\n",
    "physeq = rarefy_even_depth(physeq, sample.size=rarefy_depth, rngseed=seed_num, replace=FALSE)\n",
    "physeq"
   ]
  },
  {
   "cell_type": "markdown",
   "metadata": {},
   "source": [
    "# Metadata check"
   ]
  },
  {
   "cell_type": "code",
   "execution_count": 32,
   "metadata": {
    "ExecuteTime": {
     "end_time": "2018-07-07T05:49:43.506960Z",
     "start_time": "2018-07-07T05:49:43.283Z"
    }
   },
   "outputs": [
    {
     "name": "stderr",
     "output_type": "stream",
     "text": [
      "Warning message in class(X) <- NULL:\n",
      "“Setting class(x) to NULL;   result will no longer be an S4 object”"
     ]
    },
    {
     "name": "stdout",
     "output_type": "stream",
     "text": [
      "[1] 213\n",
      "[1] 213 171\n"
     ]
    },
    {
     "data": {
      "text/html": [
       "<table>\n",
       "<thead><tr><th></th><th scope=col>X.SampleID</th><th scope=col>BarcodeSequence</th><th scope=col>LinkerPrimerSequence</th><th scope=col>Primer</th><th scope=col>ReversePrimer</th><th scope=col>Barcode_ID</th><th scope=col>sample_number</th><th scope=col>host_subject_id</th><th scope=col>host_german_name</th><th scope=col>host_common_name</th><th scope=col>⋯</th><th scope=col>wellplate_position_Illumina</th><th scope=col>Cornell_Dilution_DNA_Illumina</th><th scope=col>Num_Illumina</th><th scope=col>Num</th><th scope=col>sorting_454</th><th scope=col>comments_additional</th><th scope=col>DNA_box_20180622</th><th scope=col>sample_vol_20180622</th><th scope=col>sample_label_20180622</th><th scope=col>Description</th></tr></thead>\n",
       "<tbody>\n",
       "\t<tr><th scope=row>X1.Eurasian.Beaver</th><td>X1.Eurasian.Beaver   </td><td>ACTCACGGTATG         </td><td>CATGCTGCCTCCCGTAGGAGT</td><td>GCCTCCCTCGCGCCATCAG  </td><td>AGAGTTTGATCCTGGCTCAG </td><td>338R_BC0049          </td><td>1                    </td><td>1                    </td><td>Biber                </td><td>Eurasian.Beaver      </td><td>⋯                    </td><td>B12                  </td><td>4                    </td><td>120                  </td><td>18                   </td><td>18                   </td><td>NA                   </td><td>1                    </td><td>20                   </td><td>1                    </td><td>NA                   </td></tr>\n",
       "\t<tr><th scope=row>X101.Horse</th><td>X101.Horse           </td><td>ACGACGTCTTAG         </td><td>CATGCTGCCTCCCGTAGGAGT</td><td>GCCTCCCTCGCGCCATCAG  </td><td>AGAGTTTGATCCTGGCTCAG </td><td>338R_BC0030          </td><td>101                  </td><td>101                  </td><td>Hauspferd            </td><td>Horse                </td><td>⋯                    </td><td>E8                   </td><td>16                   </td><td>344                  </td><td>160                  </td><td>160                  </td><td>NA                   </td><td>2                    </td><td>20                   </td><td>101                  </td><td>NA                   </td></tr>\n",
       "\t<tr><th scope=row>X102.Kulan</th><td>X102.Kulan           </td><td>ACGAGTGCTATC         </td><td>CATGCTGCCTCCCGTAGGAGT</td><td>GCCTCCCTCGCGCCATCAG  </td><td>AGAGTTTGATCCTGGCTCAG </td><td>338R_BC0031          </td><td>102                  </td><td>102                  </td><td>Khulan               </td><td>Kulan                </td><td>⋯                    </td><td>E9                   </td><td>16                   </td><td>345                  </td><td>161                  </td><td>161                  </td><td>NA                   </td><td>2                    </td><td>20                   </td><td>102                  </td><td>NA                   </td></tr>\n",
       "</tbody>\n",
       "</table>\n"
      ],
      "text/latex": [
       "\\begin{tabular}{r|lllllllllllllllllllllllllllllllllllllllllllllllllllllllllllllllllllllllllllllllllllllllllllllllllllllllllllllllllllllllllllllllllllllllllllllllllllllllllllllllllllllllllll}\n",
       "  & X.SampleID & BarcodeSequence & LinkerPrimerSequence & Primer & ReversePrimer & Barcode\\_ID & sample\\_number & host\\_subject\\_id & host\\_german\\_name & host\\_common\\_name & ⋯ & wellplate\\_position\\_Illumina & Cornell\\_Dilution\\_DNA\\_Illumina & Num\\_Illumina & Num & sorting\\_454 & comments\\_additional & DNA\\_box\\_20180622 & sample\\_vol\\_20180622 & sample\\_label\\_20180622 & Description\\\\\n",
       "\\hline\n",
       "\tX1.Eurasian.Beaver & X1.Eurasian.Beaver    & ACTCACGGTATG          & CATGCTGCCTCCCGTAGGAGT & GCCTCCCTCGCGCCATCAG   & AGAGTTTGATCCTGGCTCAG  & 338R\\_BC0049         & 1                     & 1                     & Biber                 & Eurasian.Beaver       & ⋯                     & B12                   & 4                     & 120                   & 18                    & 18                    & NA                    & 1                     & 20                    & 1                     & NA                   \\\\\n",
       "\tX101.Horse & X101.Horse            & ACGACGTCTTAG          & CATGCTGCCTCCCGTAGGAGT & GCCTCCCTCGCGCCATCAG   & AGAGTTTGATCCTGGCTCAG  & 338R\\_BC0030         & 101                   & 101                   & Hauspferd             & Horse                 & ⋯                     & E8                    & 16                    & 344                   & 160                   & 160                   & NA                    & 2                     & 20                    & 101                   & NA                   \\\\\n",
       "\tX102.Kulan & X102.Kulan            & ACGAGTGCTATC          & CATGCTGCCTCCCGTAGGAGT & GCCTCCCTCGCGCCATCAG   & AGAGTTTGATCCTGGCTCAG  & 338R\\_BC0031         & 102                   & 102                   & Khulan                & Kulan                 & ⋯                     & E9                    & 16                    & 345                   & 161                   & 161                   & NA                    & 2                     & 20                    & 102                   & NA                   \\\\\n",
       "\\end{tabular}\n"
      ],
      "text/markdown": [
       "\n",
       "| <!--/--> | X.SampleID | BarcodeSequence | LinkerPrimerSequence | Primer | ReversePrimer | Barcode_ID | sample_number | host_subject_id | host_german_name | host_common_name | ⋯ | wellplate_position_Illumina | Cornell_Dilution_DNA_Illumina | Num_Illumina | Num | sorting_454 | comments_additional | DNA_box_20180622 | sample_vol_20180622 | sample_label_20180622 | Description | \n",
       "|---|---|---|\n",
       "| X1.Eurasian.Beaver | X1.Eurasian.Beaver    | ACTCACGGTATG          | CATGCTGCCTCCCGTAGGAGT | GCCTCCCTCGCGCCATCAG   | AGAGTTTGATCCTGGCTCAG  | 338R_BC0049           | 1                     | 1                     | Biber                 | Eurasian.Beaver       | ⋯                     | B12                   | 4                     | 120                   | 18                    | 18                    | NA                    | 1                     | 20                    | 1                     | NA                    | \n",
       "| X101.Horse | X101.Horse            | ACGACGTCTTAG          | CATGCTGCCTCCCGTAGGAGT | GCCTCCCTCGCGCCATCAG   | AGAGTTTGATCCTGGCTCAG  | 338R_BC0030           | 101                   | 101                   | Hauspferd             | Horse                 | ⋯                     | E8                    | 16                    | 344                   | 160                   | 160                   | NA                    | 2                     | 20                    | 101                   | NA                    | \n",
       "| X102.Kulan | X102.Kulan            | ACGAGTGCTATC          | CATGCTGCCTCCCGTAGGAGT | GCCTCCCTCGCGCCATCAG   | AGAGTTTGATCCTGGCTCAG  | 338R_BC0031           | 102                   | 102                   | Khulan                | Kulan                 | ⋯                     | E9                    | 16                    | 345                   | 161                   | 161                   | NA                    | 2                     | 20                    | 102                   | NA                    | \n",
       "\n",
       "\n"
      ],
      "text/plain": [
       "                   X.SampleID         BarcodeSequence LinkerPrimerSequence \n",
       "X1.Eurasian.Beaver X1.Eurasian.Beaver ACTCACGGTATG    CATGCTGCCTCCCGTAGGAGT\n",
       "X101.Horse         X101.Horse         ACGACGTCTTAG    CATGCTGCCTCCCGTAGGAGT\n",
       "X102.Kulan         X102.Kulan         ACGAGTGCTATC    CATGCTGCCTCCCGTAGGAGT\n",
       "                   Primer              ReversePrimer        Barcode_ID \n",
       "X1.Eurasian.Beaver GCCTCCCTCGCGCCATCAG AGAGTTTGATCCTGGCTCAG 338R_BC0049\n",
       "X101.Horse         GCCTCCCTCGCGCCATCAG AGAGTTTGATCCTGGCTCAG 338R_BC0030\n",
       "X102.Kulan         GCCTCCCTCGCGCCATCAG AGAGTTTGATCCTGGCTCAG 338R_BC0031\n",
       "                   sample_number host_subject_id host_german_name\n",
       "X1.Eurasian.Beaver 1             1               Biber           \n",
       "X101.Horse         101           101             Hauspferd       \n",
       "X102.Kulan         102           102             Khulan          \n",
       "                   host_common_name ⋯ wellplate_position_Illumina\n",
       "X1.Eurasian.Beaver Eurasian.Beaver  ⋯ B12                        \n",
       "X101.Horse         Horse            ⋯ E8                         \n",
       "X102.Kulan         Kulan            ⋯ E9                         \n",
       "                   Cornell_Dilution_DNA_Illumina Num_Illumina Num sorting_454\n",
       "X1.Eurasian.Beaver 4                             120          18  18         \n",
       "X101.Horse         16                            344          160 160        \n",
       "X102.Kulan         16                            345          161 161        \n",
       "                   comments_additional DNA_box_20180622 sample_vol_20180622\n",
       "X1.Eurasian.Beaver NA                  1                20                 \n",
       "X101.Horse         NA                  2                20                 \n",
       "X102.Kulan         NA                  2                20                 \n",
       "                   sample_label_20180622 Description\n",
       "X1.Eurasian.Beaver 1                     NA         \n",
       "X101.Horse         101                   NA         \n",
       "X102.Kulan         102                   NA         "
      ]
     },
     "metadata": {},
     "output_type": "display_data"
    }
   ],
   "source": [
    "# load metadata\n",
    "metadata = physeq %>%\n",
    "    sample_data %>%\n",
    "    as.matrix %>%\n",
    "    as.data.frame \n",
    "metadata %>% nrow %>% print\n",
    "\n",
    "metadata %>% status"
   ]
  },
  {
   "cell_type": "code",
   "execution_count": 34,
   "metadata": {
    "ExecuteTime": {
     "end_time": "2018-07-07T05:50:54.049290Z",
     "start_time": "2018-07-07T05:50:53.867Z"
    }
   },
   "outputs": [
    {
     "data": {
      "text/html": [
       "<table>\n",
       "<thead><tr><th scope=col>X.SampleID</th><th scope=col>Barcode_ID</th><th scope=col>sample_number</th><th scope=col>host_subject_id</th><th scope=col>host_german_name</th><th scope=col>host_common_name</th><th scope=col>scientific_name</th><th scope=col>scientific_name_subspecies</th><th scope=col>host_taxid</th><th scope=col>class</th><th scope=col>⋯</th><th scope=col>wellplate_position_Illumina</th><th scope=col>Cornell_Dilution_DNA_Illumina</th><th scope=col>Num_Illumina</th><th scope=col>Num</th><th scope=col>sorting_454</th><th scope=col>comments_additional</th><th scope=col>DNA_box_20180622</th><th scope=col>sample_vol_20180622</th><th scope=col>sample_label_20180622</th><th scope=col>Description</th></tr></thead>\n",
       "<tbody>\n",
       "\t<tr><td>X42.Goitered.Gazelle</td><td>338R_BC0086         </td><td>42                  </td><td>42                  </td><td>Kropfgazelle        </td><td>Goitered.Gazelle    </td><td>Gazella_subgutturosa</td><td>NA                  </td><td>59529               </td><td>Mammalia            </td><td>⋯                   </td><td>E8                  </td><td>4                   </td><td>152                 </td><td>77                  </td><td>77                  </td><td>NA                  </td><td>1                   </td><td>20                  </td><td>42                  </td><td>NA                  </td></tr>\n",
       "</tbody>\n",
       "</table>\n"
      ],
      "text/latex": [
       "\\begin{tabular}{r|lllllllllllllllllllllllllllllllllllllllllllllllllllllllllllllllllllllllllllllllllllllllllllllllllllllllllllllllllllllllllllllllllllllllllllllllllllllllllllllllllllllll}\n",
       " X.SampleID & Barcode\\_ID & sample\\_number & host\\_subject\\_id & host\\_german\\_name & host\\_common\\_name & scientific\\_name & scientific\\_name\\_subspecies & host\\_taxid & class & ⋯ & wellplate\\_position\\_Illumina & Cornell\\_Dilution\\_DNA\\_Illumina & Num\\_Illumina & Num & sorting\\_454 & comments\\_additional & DNA\\_box\\_20180622 & sample\\_vol\\_20180622 & sample\\_label\\_20180622 & Description\\\\\n",
       "\\hline\n",
       "\t X42.Goitered.Gazelle   & 338R\\_BC0086          & 42                     & 42                     & Kropfgazelle           & Goitered.Gazelle       & Gazella\\_subgutturosa & NA                     & 59529                  & Mammalia               & ⋯                      & E8                     & 4                      & 152                    & 77                     & 77                     & NA                     & 1                      & 20                     & 42                     & NA                    \\\\\n",
       "\\end{tabular}\n"
      ],
      "text/markdown": [
       "\n",
       "X.SampleID | Barcode_ID | sample_number | host_subject_id | host_german_name | host_common_name | scientific_name | scientific_name_subspecies | host_taxid | class | ⋯ | wellplate_position_Illumina | Cornell_Dilution_DNA_Illumina | Num_Illumina | Num | sorting_454 | comments_additional | DNA_box_20180622 | sample_vol_20180622 | sample_label_20180622 | Description | \n",
       "|---|\n",
       "| X42.Goitered.Gazelle | 338R_BC0086          | 42                   | 42                   | Kropfgazelle         | Goitered.Gazelle     | Gazella_subgutturosa | NA                   | 59529                | Mammalia             | ⋯                    | E8                   | 4                    | 152                  | 77                   | 77                   | NA                   | 1                    | 20                   | 42                   | NA                   | \n",
       "\n",
       "\n"
      ],
      "text/plain": [
       "  X.SampleID           Barcode_ID  sample_number host_subject_id\n",
       "1 X42.Goitered.Gazelle 338R_BC0086 42            42             \n",
       "  host_german_name host_common_name scientific_name     \n",
       "1 Kropfgazelle     Goitered.Gazelle Gazella_subgutturosa\n",
       "  scientific_name_subspecies host_taxid class    ⋯ wellplate_position_Illumina\n",
       "1 NA                         59529      Mammalia ⋯ E8                         \n",
       "  Cornell_Dilution_DNA_Illumina Num_Illumina Num sorting_454\n",
       "1 4                             152          77  77         \n",
       "  comments_additional DNA_box_20180622 sample_vol_20180622\n",
       "1 NA                  1                20                 \n",
       "  sample_label_20180622 Description\n",
       "1 42                    NA         "
      ]
     },
     "metadata": {},
     "output_type": "display_data"
    }
   ],
   "source": [
    "# checks\n",
    "metadata %>% \n",
    "    filter(grepl('gazell', scientific_name, ignore.case=TRUE)) %>%\n",
    "    dplyr::select(-BarcodeSequence, -LinkerPrimerSequence, -Primer, -ReversePrimer)"
   ]
  },
  {
   "cell_type": "markdown",
   "metadata": {},
   "source": [
    "## NAs?"
   ]
  },
  {
   "cell_type": "code",
   "execution_count": 35,
   "metadata": {
    "ExecuteTime": {
     "end_time": "2018-07-07T05:51:02.266892Z",
     "start_time": "2018-07-07T05:51:02.199Z"
    }
   },
   "outputs": [
    {
     "data": {
      "text/html": [
       "<ol class=list-inline>\n",
       "\t<li>'X.SampleID'</li>\n",
       "\t<li>'BarcodeSequence'</li>\n",
       "\t<li>'LinkerPrimerSequence'</li>\n",
       "\t<li>'Primer'</li>\n",
       "\t<li>'ReversePrimer'</li>\n",
       "\t<li>'Barcode_ID'</li>\n",
       "\t<li>'sample_number'</li>\n",
       "\t<li>'host_subject_id'</li>\n",
       "\t<li>'host_german_name'</li>\n",
       "\t<li>'host_common_name'</li>\n",
       "\t<li>'scientific_name'</li>\n",
       "\t<li>'scientific_name_subspecies'</li>\n",
       "\t<li>'host_taxid'</li>\n",
       "\t<li>'class'</li>\n",
       "\t<li>'order'</li>\n",
       "\t<li>'family'</li>\n",
       "\t<li>'genus'</li>\n",
       "\t<li>'sample_type'</li>\n",
       "\t<li>'sex'</li>\n",
       "\t<li>'pregnant_animal'</li>\n",
       "\t<li>'age'</li>\n",
       "\t<li>'age_unit'</li>\n",
       "\t<li>'tot_mass'</li>\n",
       "\t<li>'height_or_length'</li>\n",
       "\t<li>'host_body_temp'</li>\n",
       "\t<li>'disease_stat'</li>\n",
       "\t<li>'medication'</li>\n",
       "\t<li>'body_habitat'</li>\n",
       "\t<li>'body_product'</li>\n",
       "\t<li>'No_individuals'</li>\n",
       "\t<li>'species_replicates'</li>\n",
       "\t<li>'indiv_coreset'</li>\n",
       "\t<li>'duplicates_group'</li>\n",
       "\t<li>'duplicates_common_name'</li>\n",
       "\t<li>'pass_fail_info'</li>\n",
       "\t<li>'coreset'</li>\n",
       "\t<li>'indiv_variablity'</li>\n",
       "\t<li>'population_species'</li>\n",
       "\t<li>'bPCR_variability_test'</li>\n",
       "\t<li>'DNA_extr_exp_test'</li>\n",
       "\t<li>'cycles_test'</li>\n",
       "\t<li>'ruminant'</li>\n",
       "\t<li>'pseudoruminants'</li>\n",
       "\t<li>'wild_domesticated'</li>\n",
       "\t<li>'captive_wild'</li>\n",
       "\t<li>'captive_wild_exp'</li>\n",
       "\t<li>'captive_origin'</li>\n",
       "\t<li>'geo_loc_name'</li>\n",
       "\t<li>'country'</li>\n",
       "\t<li>'region'</li>\n",
       "\t<li>'location'</li>\n",
       "\t<li>'location_detail'</li>\n",
       "\t<li>'latitude'</li>\n",
       "\t<li>'longitude'</li>\n",
       "\t<li>'elev'</li>\n",
       "\t<li>'geo_feature'</li>\n",
       "\t<li>'geo_feature_detail_1'</li>\n",
       "\t<li>'geo_feature_detail_2'</li>\n",
       "\t<li>'geo_feature_detail_3'</li>\n",
       "\t<li>'geo_feature_detail_4'</li>\n",
       "\t<li>'habitat'</li>\n",
       "\t<li>'habitat_detail'</li>\n",
       "\t<li>'habitat_detail_1'</li>\n",
       "\t<li>'habitat_detail_2'</li>\n",
       "\t<li>'biome'</li>\n",
       "\t<li>'diet'</li>\n",
       "\t<li>'diet_detail'</li>\n",
       "\t<li>'diet_breadth'</li>\n",
       "\t<li>'diet_breadth_gabrielle'</li>\n",
       "\t<li>'diet_vertebrate'</li>\n",
       "\t<li>'diet_invertebrate'</li>\n",
       "\t<li>'diet_fruit'</li>\n",
       "\t<li>'diet_flowers_nectar_pollen'</li>\n",
       "\t<li>'diet_leaves_branches_bark_buds'</li>\n",
       "\t<li>'diet_seeds'</li>\n",
       "\t<li>'diet_grass_waterplants'</li>\n",
       "\t<li>'diet_roots_tubers'</li>\n",
       "\t<li>'digestive_system'</li>\n",
       "\t<li>'digestive_system_detail'</li>\n",
       "\t<li>'feeding_style'</li>\n",
       "\t<li>'temp_regulation'</li>\n",
       "\t<li>'last_meal_or_actual_feed'</li>\n",
       "\t<li>'collection_date'</li>\n",
       "\t<li>'season'</li>\n",
       "\t<li>'freezing_date'</li>\n",
       "\t<li>'samp_store_temp'</li>\n",
       "\t<li>'extraction_date_2'</li>\n",
       "\t<li>'samp_store_days'</li>\n",
       "\t<li>'samp_collect_device'</li>\n",
       "\t<li>'sampling_method'</li>\n",
       "\t<li>'samp_store_loc'</li>\n",
       "\t<li>'samp_store_box_bag'</li>\n",
       "\t<li>'DNA_store_loc'</li>\n",
       "\t<li>'DNA_store_box'</li>\n",
       "\t<li>'DNA_dil_store_loc'</li>\n",
       "\t<li>'DNA_dil_store_box'</li>\n",
       "\t<li>'extr_date'</li>\n",
       "\t<li>'extr_volume_ul'</li>\n",
       "\t<li>'extr_mass_g'</li>\n",
       "\t<li>'extr_material_info'</li>\n",
       "\t<li>'mass_stored_g'</li>\n",
       "\t<li>'Nanodrop_ng_per_ul_DNA'</li>\n",
       "\t<li>'Nanodrop_ratio_260_280_DNA'</li>\n",
       "\t<li>'date_qPCR'</li>\n",
       "\t<li>'cycler_used'</li>\n",
       "\t<li>'dilution_qPCR'</li>\n",
       "\t<li>'Ct_A'</li>\n",
       "\t<li>'Ct_B'</li>\n",
       "\t<li>'Amount_SYBR_copies_in_5_ul_A'</li>\n",
       "\t<li>'Amount_SYBR_copies_in_5_ul_B'</li>\n",
       "\t<li>'Amount_geometric_mean_SYBR'</li>\n",
       "\t<li>'Copies_in_5_ul_PCR_template'</li>\n",
       "\t<li>'Copies_per_100_ul_extract'</li>\n",
       "\t<li>'Date_qPCR_2'</li>\n",
       "\t<li>'PCR_dil_qPCR_2'</li>\n",
       "\t<li>'Ct_A_2'</li>\n",
       "\t<li>'Ct_B_2'</li>\n",
       "\t<li>'Amount_SYBR_copies_in_5_ul_A_2'</li>\n",
       "\t<li>'Amount_SYBR_copies_in_5_ul_B_2'</li>\n",
       "\t<li>'Amount_geometric_mean_SYBR_2'</li>\n",
       "\t<li>'Copies_in_5_ul_PCR_template_2'</li>\n",
       "\t<li>'Copies_per_100_ul_extract_2'</li>\n",
       "\t<li>'ratio_dilutions_qPCR'</li>\n",
       "\t<li>'amount_DNA_barPCR_1reaction_ng'</li>\n",
       "\t<li>'barPCR_date'</li>\n",
       "\t<li>'barPCR_cycles'</li>\n",
       "\t<li>'barPCR_dil'</li>\n",
       "\t<li>'barPrimer_pos_96wellplate'</li>\n",
       "\t<li>'gelelectrophoresis_triplicates_bands'</li>\n",
       "\t<li>'gelelectrophoresis_pool_band'</li>\n",
       "\t<li>'purification_date'</li>\n",
       "\t<li>'elution_volume_ul'</li>\n",
       "\t<li>'Nanodrop_ng_per_ul_PCR_product'</li>\n",
       "\t<li>'Nanodrop_ratio_260_280_PCR_product'</li>\n",
       "\t<li>'Picogreen_ng_ul'</li>\n",
       "\t<li>'amount_ng_pool'</li>\n",
       "\t<li>'vol_in_pool_ul'</li>\n",
       "\t<li>'DNA_quantification_method_for_pooling'</li>\n",
       "\t<li>'pass_fail_bcPCR'</li>\n",
       "\t<li>'run'</li>\n",
       "\t<li>'run_info'</li>\n",
       "\t<li>'run_sent'</li>\n",
       "\t<li>'run_date'</li>\n",
       "\t<li>'read_number'</li>\n",
       "\t<li>'sample_name'</li>\n",
       "\t<li>'submitted_to_insdc'</li>\n",
       "\t<li>'project_name'</li>\n",
       "\t<li>'investigation_type'</li>\n",
       "\t<li>'nuc_acid_ext'</li>\n",
       "\t<li>'nuc_acid_amp'</li>\n",
       "\t<li>'target_gene'</li>\n",
       "\t<li>'target_subfragment'</li>\n",
       "\t<li>'pcr_primers'</li>\n",
       "\t<li>'mid'</li>\n",
       "\t<li>'adapters'</li>\n",
       "\t<li>'bpcr_cond'</li>\n",
       "\t<li>'seq_meth'</li>\n",
       "\t<li>'seq_quality_check'</li>\n",
       "\t<li>'chimera_check'</li>\n",
       "\t<li>'Cornell_Illumina'</li>\n",
       "\t<li>'wellplate_Illumina'</li>\n",
       "\t<li>'wellplate_position_Illumina'</li>\n",
       "\t<li>'Cornell_Dilution_DNA_Illumina'</li>\n",
       "\t<li>'Num_Illumina'</li>\n",
       "\t<li>'Num'</li>\n",
       "\t<li>'sorting_454'</li>\n",
       "\t<li>'comments_additional'</li>\n",
       "\t<li>'DNA_box_20180622'</li>\n",
       "\t<li>'sample_vol_20180622'</li>\n",
       "\t<li>'sample_label_20180622'</li>\n",
       "\t<li>'Description'</li>\n",
       "</ol>\n"
      ],
      "text/latex": [
       "\\begin{enumerate*}\n",
       "\\item 'X.SampleID'\n",
       "\\item 'BarcodeSequence'\n",
       "\\item 'LinkerPrimerSequence'\n",
       "\\item 'Primer'\n",
       "\\item 'ReversePrimer'\n",
       "\\item 'Barcode\\_ID'\n",
       "\\item 'sample\\_number'\n",
       "\\item 'host\\_subject\\_id'\n",
       "\\item 'host\\_german\\_name'\n",
       "\\item 'host\\_common\\_name'\n",
       "\\item 'scientific\\_name'\n",
       "\\item 'scientific\\_name\\_subspecies'\n",
       "\\item 'host\\_taxid'\n",
       "\\item 'class'\n",
       "\\item 'order'\n",
       "\\item 'family'\n",
       "\\item 'genus'\n",
       "\\item 'sample\\_type'\n",
       "\\item 'sex'\n",
       "\\item 'pregnant\\_animal'\n",
       "\\item 'age'\n",
       "\\item 'age\\_unit'\n",
       "\\item 'tot\\_mass'\n",
       "\\item 'height\\_or\\_length'\n",
       "\\item 'host\\_body\\_temp'\n",
       "\\item 'disease\\_stat'\n",
       "\\item 'medication'\n",
       "\\item 'body\\_habitat'\n",
       "\\item 'body\\_product'\n",
       "\\item 'No\\_individuals'\n",
       "\\item 'species\\_replicates'\n",
       "\\item 'indiv\\_coreset'\n",
       "\\item 'duplicates\\_group'\n",
       "\\item 'duplicates\\_common\\_name'\n",
       "\\item 'pass\\_fail\\_info'\n",
       "\\item 'coreset'\n",
       "\\item 'indiv\\_variablity'\n",
       "\\item 'population\\_species'\n",
       "\\item 'bPCR\\_variability\\_test'\n",
       "\\item 'DNA\\_extr\\_exp\\_test'\n",
       "\\item 'cycles\\_test'\n",
       "\\item 'ruminant'\n",
       "\\item 'pseudoruminants'\n",
       "\\item 'wild\\_domesticated'\n",
       "\\item 'captive\\_wild'\n",
       "\\item 'captive\\_wild\\_exp'\n",
       "\\item 'captive\\_origin'\n",
       "\\item 'geo\\_loc\\_name'\n",
       "\\item 'country'\n",
       "\\item 'region'\n",
       "\\item 'location'\n",
       "\\item 'location\\_detail'\n",
       "\\item 'latitude'\n",
       "\\item 'longitude'\n",
       "\\item 'elev'\n",
       "\\item 'geo\\_feature'\n",
       "\\item 'geo\\_feature\\_detail\\_1'\n",
       "\\item 'geo\\_feature\\_detail\\_2'\n",
       "\\item 'geo\\_feature\\_detail\\_3'\n",
       "\\item 'geo\\_feature\\_detail\\_4'\n",
       "\\item 'habitat'\n",
       "\\item 'habitat\\_detail'\n",
       "\\item 'habitat\\_detail\\_1'\n",
       "\\item 'habitat\\_detail\\_2'\n",
       "\\item 'biome'\n",
       "\\item 'diet'\n",
       "\\item 'diet\\_detail'\n",
       "\\item 'diet\\_breadth'\n",
       "\\item 'diet\\_breadth\\_gabrielle'\n",
       "\\item 'diet\\_vertebrate'\n",
       "\\item 'diet\\_invertebrate'\n",
       "\\item 'diet\\_fruit'\n",
       "\\item 'diet\\_flowers\\_nectar\\_pollen'\n",
       "\\item 'diet\\_leaves\\_branches\\_bark\\_buds'\n",
       "\\item 'diet\\_seeds'\n",
       "\\item 'diet\\_grass\\_waterplants'\n",
       "\\item 'diet\\_roots\\_tubers'\n",
       "\\item 'digestive\\_system'\n",
       "\\item 'digestive\\_system\\_detail'\n",
       "\\item 'feeding\\_style'\n",
       "\\item 'temp\\_regulation'\n",
       "\\item 'last\\_meal\\_or\\_actual\\_feed'\n",
       "\\item 'collection\\_date'\n",
       "\\item 'season'\n",
       "\\item 'freezing\\_date'\n",
       "\\item 'samp\\_store\\_temp'\n",
       "\\item 'extraction\\_date\\_2'\n",
       "\\item 'samp\\_store\\_days'\n",
       "\\item 'samp\\_collect\\_device'\n",
       "\\item 'sampling\\_method'\n",
       "\\item 'samp\\_store\\_loc'\n",
       "\\item 'samp\\_store\\_box\\_bag'\n",
       "\\item 'DNA\\_store\\_loc'\n",
       "\\item 'DNA\\_store\\_box'\n",
       "\\item 'DNA\\_dil\\_store\\_loc'\n",
       "\\item 'DNA\\_dil\\_store\\_box'\n",
       "\\item 'extr\\_date'\n",
       "\\item 'extr\\_volume\\_ul'\n",
       "\\item 'extr\\_mass\\_g'\n",
       "\\item 'extr\\_material\\_info'\n",
       "\\item 'mass\\_stored\\_g'\n",
       "\\item 'Nanodrop\\_ng\\_per\\_ul\\_DNA'\n",
       "\\item 'Nanodrop\\_ratio\\_260\\_280\\_DNA'\n",
       "\\item 'date\\_qPCR'\n",
       "\\item 'cycler\\_used'\n",
       "\\item 'dilution\\_qPCR'\n",
       "\\item 'Ct\\_A'\n",
       "\\item 'Ct\\_B'\n",
       "\\item 'Amount\\_SYBR\\_copies\\_in\\_5\\_ul\\_A'\n",
       "\\item 'Amount\\_SYBR\\_copies\\_in\\_5\\_ul\\_B'\n",
       "\\item 'Amount\\_geometric\\_mean\\_SYBR'\n",
       "\\item 'Copies\\_in\\_5\\_ul\\_PCR\\_template'\n",
       "\\item 'Copies\\_per\\_100\\_ul\\_extract'\n",
       "\\item 'Date\\_qPCR\\_2'\n",
       "\\item 'PCR\\_dil\\_qPCR\\_2'\n",
       "\\item 'Ct\\_A\\_2'\n",
       "\\item 'Ct\\_B\\_2'\n",
       "\\item 'Amount\\_SYBR\\_copies\\_in\\_5\\_ul\\_A\\_2'\n",
       "\\item 'Amount\\_SYBR\\_copies\\_in\\_5\\_ul\\_B\\_2'\n",
       "\\item 'Amount\\_geometric\\_mean\\_SYBR\\_2'\n",
       "\\item 'Copies\\_in\\_5\\_ul\\_PCR\\_template\\_2'\n",
       "\\item 'Copies\\_per\\_100\\_ul\\_extract\\_2'\n",
       "\\item 'ratio\\_dilutions\\_qPCR'\n",
       "\\item 'amount\\_DNA\\_barPCR\\_1reaction\\_ng'\n",
       "\\item 'barPCR\\_date'\n",
       "\\item 'barPCR\\_cycles'\n",
       "\\item 'barPCR\\_dil'\n",
       "\\item 'barPrimer\\_pos\\_96wellplate'\n",
       "\\item 'gelelectrophoresis\\_triplicates\\_bands'\n",
       "\\item 'gelelectrophoresis\\_pool\\_band'\n",
       "\\item 'purification\\_date'\n",
       "\\item 'elution\\_volume\\_ul'\n",
       "\\item 'Nanodrop\\_ng\\_per\\_ul\\_PCR\\_product'\n",
       "\\item 'Nanodrop\\_ratio\\_260\\_280\\_PCR\\_product'\n",
       "\\item 'Picogreen\\_ng\\_ul'\n",
       "\\item 'amount\\_ng\\_pool'\n",
       "\\item 'vol\\_in\\_pool\\_ul'\n",
       "\\item 'DNA\\_quantification\\_method\\_for\\_pooling'\n",
       "\\item 'pass\\_fail\\_bcPCR'\n",
       "\\item 'run'\n",
       "\\item 'run\\_info'\n",
       "\\item 'run\\_sent'\n",
       "\\item 'run\\_date'\n",
       "\\item 'read\\_number'\n",
       "\\item 'sample\\_name'\n",
       "\\item 'submitted\\_to\\_insdc'\n",
       "\\item 'project\\_name'\n",
       "\\item 'investigation\\_type'\n",
       "\\item 'nuc\\_acid\\_ext'\n",
       "\\item 'nuc\\_acid\\_amp'\n",
       "\\item 'target\\_gene'\n",
       "\\item 'target\\_subfragment'\n",
       "\\item 'pcr\\_primers'\n",
       "\\item 'mid'\n",
       "\\item 'adapters'\n",
       "\\item 'bpcr\\_cond'\n",
       "\\item 'seq\\_meth'\n",
       "\\item 'seq\\_quality\\_check'\n",
       "\\item 'chimera\\_check'\n",
       "\\item 'Cornell\\_Illumina'\n",
       "\\item 'wellplate\\_Illumina'\n",
       "\\item 'wellplate\\_position\\_Illumina'\n",
       "\\item 'Cornell\\_Dilution\\_DNA\\_Illumina'\n",
       "\\item 'Num\\_Illumina'\n",
       "\\item 'Num'\n",
       "\\item 'sorting\\_454'\n",
       "\\item 'comments\\_additional'\n",
       "\\item 'DNA\\_box\\_20180622'\n",
       "\\item 'sample\\_vol\\_20180622'\n",
       "\\item 'sample\\_label\\_20180622'\n",
       "\\item 'Description'\n",
       "\\end{enumerate*}\n"
      ],
      "text/markdown": [
       "1. 'X.SampleID'\n",
       "2. 'BarcodeSequence'\n",
       "3. 'LinkerPrimerSequence'\n",
       "4. 'Primer'\n",
       "5. 'ReversePrimer'\n",
       "6. 'Barcode_ID'\n",
       "7. 'sample_number'\n",
       "8. 'host_subject_id'\n",
       "9. 'host_german_name'\n",
       "10. 'host_common_name'\n",
       "11. 'scientific_name'\n",
       "12. 'scientific_name_subspecies'\n",
       "13. 'host_taxid'\n",
       "14. 'class'\n",
       "15. 'order'\n",
       "16. 'family'\n",
       "17. 'genus'\n",
       "18. 'sample_type'\n",
       "19. 'sex'\n",
       "20. 'pregnant_animal'\n",
       "21. 'age'\n",
       "22. 'age_unit'\n",
       "23. 'tot_mass'\n",
       "24. 'height_or_length'\n",
       "25. 'host_body_temp'\n",
       "26. 'disease_stat'\n",
       "27. 'medication'\n",
       "28. 'body_habitat'\n",
       "29. 'body_product'\n",
       "30. 'No_individuals'\n",
       "31. 'species_replicates'\n",
       "32. 'indiv_coreset'\n",
       "33. 'duplicates_group'\n",
       "34. 'duplicates_common_name'\n",
       "35. 'pass_fail_info'\n",
       "36. 'coreset'\n",
       "37. 'indiv_variablity'\n",
       "38. 'population_species'\n",
       "39. 'bPCR_variability_test'\n",
       "40. 'DNA_extr_exp_test'\n",
       "41. 'cycles_test'\n",
       "42. 'ruminant'\n",
       "43. 'pseudoruminants'\n",
       "44. 'wild_domesticated'\n",
       "45. 'captive_wild'\n",
       "46. 'captive_wild_exp'\n",
       "47. 'captive_origin'\n",
       "48. 'geo_loc_name'\n",
       "49. 'country'\n",
       "50. 'region'\n",
       "51. 'location'\n",
       "52. 'location_detail'\n",
       "53. 'latitude'\n",
       "54. 'longitude'\n",
       "55. 'elev'\n",
       "56. 'geo_feature'\n",
       "57. 'geo_feature_detail_1'\n",
       "58. 'geo_feature_detail_2'\n",
       "59. 'geo_feature_detail_3'\n",
       "60. 'geo_feature_detail_4'\n",
       "61. 'habitat'\n",
       "62. 'habitat_detail'\n",
       "63. 'habitat_detail_1'\n",
       "64. 'habitat_detail_2'\n",
       "65. 'biome'\n",
       "66. 'diet'\n",
       "67. 'diet_detail'\n",
       "68. 'diet_breadth'\n",
       "69. 'diet_breadth_gabrielle'\n",
       "70. 'diet_vertebrate'\n",
       "71. 'diet_invertebrate'\n",
       "72. 'diet_fruit'\n",
       "73. 'diet_flowers_nectar_pollen'\n",
       "74. 'diet_leaves_branches_bark_buds'\n",
       "75. 'diet_seeds'\n",
       "76. 'diet_grass_waterplants'\n",
       "77. 'diet_roots_tubers'\n",
       "78. 'digestive_system'\n",
       "79. 'digestive_system_detail'\n",
       "80. 'feeding_style'\n",
       "81. 'temp_regulation'\n",
       "82. 'last_meal_or_actual_feed'\n",
       "83. 'collection_date'\n",
       "84. 'season'\n",
       "85. 'freezing_date'\n",
       "86. 'samp_store_temp'\n",
       "87. 'extraction_date_2'\n",
       "88. 'samp_store_days'\n",
       "89. 'samp_collect_device'\n",
       "90. 'sampling_method'\n",
       "91. 'samp_store_loc'\n",
       "92. 'samp_store_box_bag'\n",
       "93. 'DNA_store_loc'\n",
       "94. 'DNA_store_box'\n",
       "95. 'DNA_dil_store_loc'\n",
       "96. 'DNA_dil_store_box'\n",
       "97. 'extr_date'\n",
       "98. 'extr_volume_ul'\n",
       "99. 'extr_mass_g'\n",
       "100. 'extr_material_info'\n",
       "101. 'mass_stored_g'\n",
       "102. 'Nanodrop_ng_per_ul_DNA'\n",
       "103. 'Nanodrop_ratio_260_280_DNA'\n",
       "104. 'date_qPCR'\n",
       "105. 'cycler_used'\n",
       "106. 'dilution_qPCR'\n",
       "107. 'Ct_A'\n",
       "108. 'Ct_B'\n",
       "109. 'Amount_SYBR_copies_in_5_ul_A'\n",
       "110. 'Amount_SYBR_copies_in_5_ul_B'\n",
       "111. 'Amount_geometric_mean_SYBR'\n",
       "112. 'Copies_in_5_ul_PCR_template'\n",
       "113. 'Copies_per_100_ul_extract'\n",
       "114. 'Date_qPCR_2'\n",
       "115. 'PCR_dil_qPCR_2'\n",
       "116. 'Ct_A_2'\n",
       "117. 'Ct_B_2'\n",
       "118. 'Amount_SYBR_copies_in_5_ul_A_2'\n",
       "119. 'Amount_SYBR_copies_in_5_ul_B_2'\n",
       "120. 'Amount_geometric_mean_SYBR_2'\n",
       "121. 'Copies_in_5_ul_PCR_template_2'\n",
       "122. 'Copies_per_100_ul_extract_2'\n",
       "123. 'ratio_dilutions_qPCR'\n",
       "124. 'amount_DNA_barPCR_1reaction_ng'\n",
       "125. 'barPCR_date'\n",
       "126. 'barPCR_cycles'\n",
       "127. 'barPCR_dil'\n",
       "128. 'barPrimer_pos_96wellplate'\n",
       "129. 'gelelectrophoresis_triplicates_bands'\n",
       "130. 'gelelectrophoresis_pool_band'\n",
       "131. 'purification_date'\n",
       "132. 'elution_volume_ul'\n",
       "133. 'Nanodrop_ng_per_ul_PCR_product'\n",
       "134. 'Nanodrop_ratio_260_280_PCR_product'\n",
       "135. 'Picogreen_ng_ul'\n",
       "136. 'amount_ng_pool'\n",
       "137. 'vol_in_pool_ul'\n",
       "138. 'DNA_quantification_method_for_pooling'\n",
       "139. 'pass_fail_bcPCR'\n",
       "140. 'run'\n",
       "141. 'run_info'\n",
       "142. 'run_sent'\n",
       "143. 'run_date'\n",
       "144. 'read_number'\n",
       "145. 'sample_name'\n",
       "146. 'submitted_to_insdc'\n",
       "147. 'project_name'\n",
       "148. 'investigation_type'\n",
       "149. 'nuc_acid_ext'\n",
       "150. 'nuc_acid_amp'\n",
       "151. 'target_gene'\n",
       "152. 'target_subfragment'\n",
       "153. 'pcr_primers'\n",
       "154. 'mid'\n",
       "155. 'adapters'\n",
       "156. 'bpcr_cond'\n",
       "157. 'seq_meth'\n",
       "158. 'seq_quality_check'\n",
       "159. 'chimera_check'\n",
       "160. 'Cornell_Illumina'\n",
       "161. 'wellplate_Illumina'\n",
       "162. 'wellplate_position_Illumina'\n",
       "163. 'Cornell_Dilution_DNA_Illumina'\n",
       "164. 'Num_Illumina'\n",
       "165. 'Num'\n",
       "166. 'sorting_454'\n",
       "167. 'comments_additional'\n",
       "168. 'DNA_box_20180622'\n",
       "169. 'sample_vol_20180622'\n",
       "170. 'sample_label_20180622'\n",
       "171. 'Description'\n",
       "\n",
       "\n"
      ],
      "text/plain": [
       "  [1] \"X.SampleID\"                           \n",
       "  [2] \"BarcodeSequence\"                      \n",
       "  [3] \"LinkerPrimerSequence\"                 \n",
       "  [4] \"Primer\"                               \n",
       "  [5] \"ReversePrimer\"                        \n",
       "  [6] \"Barcode_ID\"                           \n",
       "  [7] \"sample_number\"                        \n",
       "  [8] \"host_subject_id\"                      \n",
       "  [9] \"host_german_name\"                     \n",
       " [10] \"host_common_name\"                     \n",
       " [11] \"scientific_name\"                      \n",
       " [12] \"scientific_name_subspecies\"           \n",
       " [13] \"host_taxid\"                           \n",
       " [14] \"class\"                                \n",
       " [15] \"order\"                                \n",
       " [16] \"family\"                               \n",
       " [17] \"genus\"                                \n",
       " [18] \"sample_type\"                          \n",
       " [19] \"sex\"                                  \n",
       " [20] \"pregnant_animal\"                      \n",
       " [21] \"age\"                                  \n",
       " [22] \"age_unit\"                             \n",
       " [23] \"tot_mass\"                             \n",
       " [24] \"height_or_length\"                     \n",
       " [25] \"host_body_temp\"                       \n",
       " [26] \"disease_stat\"                         \n",
       " [27] \"medication\"                           \n",
       " [28] \"body_habitat\"                         \n",
       " [29] \"body_product\"                         \n",
       " [30] \"No_individuals\"                       \n",
       " [31] \"species_replicates\"                   \n",
       " [32] \"indiv_coreset\"                        \n",
       " [33] \"duplicates_group\"                     \n",
       " [34] \"duplicates_common_name\"               \n",
       " [35] \"pass_fail_info\"                       \n",
       " [36] \"coreset\"                              \n",
       " [37] \"indiv_variablity\"                     \n",
       " [38] \"population_species\"                   \n",
       " [39] \"bPCR_variability_test\"                \n",
       " [40] \"DNA_extr_exp_test\"                    \n",
       " [41] \"cycles_test\"                          \n",
       " [42] \"ruminant\"                             \n",
       " [43] \"pseudoruminants\"                      \n",
       " [44] \"wild_domesticated\"                    \n",
       " [45] \"captive_wild\"                         \n",
       " [46] \"captive_wild_exp\"                     \n",
       " [47] \"captive_origin\"                       \n",
       " [48] \"geo_loc_name\"                         \n",
       " [49] \"country\"                              \n",
       " [50] \"region\"                               \n",
       " [51] \"location\"                             \n",
       " [52] \"location_detail\"                      \n",
       " [53] \"latitude\"                             \n",
       " [54] \"longitude\"                            \n",
       " [55] \"elev\"                                 \n",
       " [56] \"geo_feature\"                          \n",
       " [57] \"geo_feature_detail_1\"                 \n",
       " [58] \"geo_feature_detail_2\"                 \n",
       " [59] \"geo_feature_detail_3\"                 \n",
       " [60] \"geo_feature_detail_4\"                 \n",
       " [61] \"habitat\"                              \n",
       " [62] \"habitat_detail\"                       \n",
       " [63] \"habitat_detail_1\"                     \n",
       " [64] \"habitat_detail_2\"                     \n",
       " [65] \"biome\"                                \n",
       " [66] \"diet\"                                 \n",
       " [67] \"diet_detail\"                          \n",
       " [68] \"diet_breadth\"                         \n",
       " [69] \"diet_breadth_gabrielle\"               \n",
       " [70] \"diet_vertebrate\"                      \n",
       " [71] \"diet_invertebrate\"                    \n",
       " [72] \"diet_fruit\"                           \n",
       " [73] \"diet_flowers_nectar_pollen\"           \n",
       " [74] \"diet_leaves_branches_bark_buds\"       \n",
       " [75] \"diet_seeds\"                           \n",
       " [76] \"diet_grass_waterplants\"               \n",
       " [77] \"diet_roots_tubers\"                    \n",
       " [78] \"digestive_system\"                     \n",
       " [79] \"digestive_system_detail\"              \n",
       " [80] \"feeding_style\"                        \n",
       " [81] \"temp_regulation\"                      \n",
       " [82] \"last_meal_or_actual_feed\"             \n",
       " [83] \"collection_date\"                      \n",
       " [84] \"season\"                               \n",
       " [85] \"freezing_date\"                        \n",
       " [86] \"samp_store_temp\"                      \n",
       " [87] \"extraction_date_2\"                    \n",
       " [88] \"samp_store_days\"                      \n",
       " [89] \"samp_collect_device\"                  \n",
       " [90] \"sampling_method\"                      \n",
       " [91] \"samp_store_loc\"                       \n",
       " [92] \"samp_store_box_bag\"                   \n",
       " [93] \"DNA_store_loc\"                        \n",
       " [94] \"DNA_store_box\"                        \n",
       " [95] \"DNA_dil_store_loc\"                    \n",
       " [96] \"DNA_dil_store_box\"                    \n",
       " [97] \"extr_date\"                            \n",
       " [98] \"extr_volume_ul\"                       \n",
       " [99] \"extr_mass_g\"                          \n",
       "[100] \"extr_material_info\"                   \n",
       "[101] \"mass_stored_g\"                        \n",
       "[102] \"Nanodrop_ng_per_ul_DNA\"               \n",
       "[103] \"Nanodrop_ratio_260_280_DNA\"           \n",
       "[104] \"date_qPCR\"                            \n",
       "[105] \"cycler_used\"                          \n",
       "[106] \"dilution_qPCR\"                        \n",
       "[107] \"Ct_A\"                                 \n",
       "[108] \"Ct_B\"                                 \n",
       "[109] \"Amount_SYBR_copies_in_5_ul_A\"         \n",
       "[110] \"Amount_SYBR_copies_in_5_ul_B\"         \n",
       "[111] \"Amount_geometric_mean_SYBR\"           \n",
       "[112] \"Copies_in_5_ul_PCR_template\"          \n",
       "[113] \"Copies_per_100_ul_extract\"            \n",
       "[114] \"Date_qPCR_2\"                          \n",
       "[115] \"PCR_dil_qPCR_2\"                       \n",
       "[116] \"Ct_A_2\"                               \n",
       "[117] \"Ct_B_2\"                               \n",
       "[118] \"Amount_SYBR_copies_in_5_ul_A_2\"       \n",
       "[119] \"Amount_SYBR_copies_in_5_ul_B_2\"       \n",
       "[120] \"Amount_geometric_mean_SYBR_2\"         \n",
       "[121] \"Copies_in_5_ul_PCR_template_2\"        \n",
       "[122] \"Copies_per_100_ul_extract_2\"          \n",
       "[123] \"ratio_dilutions_qPCR\"                 \n",
       "[124] \"amount_DNA_barPCR_1reaction_ng\"       \n",
       "[125] \"barPCR_date\"                          \n",
       "[126] \"barPCR_cycles\"                        \n",
       "[127] \"barPCR_dil\"                           \n",
       "[128] \"barPrimer_pos_96wellplate\"            \n",
       "[129] \"gelelectrophoresis_triplicates_bands\" \n",
       "[130] \"gelelectrophoresis_pool_band\"         \n",
       "[131] \"purification_date\"                    \n",
       "[132] \"elution_volume_ul\"                    \n",
       "[133] \"Nanodrop_ng_per_ul_PCR_product\"       \n",
       "[134] \"Nanodrop_ratio_260_280_PCR_product\"   \n",
       "[135] \"Picogreen_ng_ul\"                      \n",
       "[136] \"amount_ng_pool\"                       \n",
       "[137] \"vol_in_pool_ul\"                       \n",
       "[138] \"DNA_quantification_method_for_pooling\"\n",
       "[139] \"pass_fail_bcPCR\"                      \n",
       "[140] \"run\"                                  \n",
       "[141] \"run_info\"                             \n",
       "[142] \"run_sent\"                             \n",
       "[143] \"run_date\"                             \n",
       "[144] \"read_number\"                          \n",
       "[145] \"sample_name\"                          \n",
       "[146] \"submitted_to_insdc\"                   \n",
       "[147] \"project_name\"                         \n",
       "[148] \"investigation_type\"                   \n",
       "[149] \"nuc_acid_ext\"                         \n",
       "[150] \"nuc_acid_amp\"                         \n",
       "[151] \"target_gene\"                          \n",
       "[152] \"target_subfragment\"                   \n",
       "[153] \"pcr_primers\"                          \n",
       "[154] \"mid\"                                  \n",
       "[155] \"adapters\"                             \n",
       "[156] \"bpcr_cond\"                            \n",
       "[157] \"seq_meth\"                             \n",
       "[158] \"seq_quality_check\"                    \n",
       "[159] \"chimera_check\"                        \n",
       "[160] \"Cornell_Illumina\"                     \n",
       "[161] \"wellplate_Illumina\"                   \n",
       "[162] \"wellplate_position_Illumina\"          \n",
       "[163] \"Cornell_Dilution_DNA_Illumina\"        \n",
       "[164] \"Num_Illumina\"                         \n",
       "[165] \"Num\"                                  \n",
       "[166] \"sorting_454\"                          \n",
       "[167] \"comments_additional\"                  \n",
       "[168] \"DNA_box_20180622\"                     \n",
       "[169] \"sample_vol_20180622\"                  \n",
       "[170] \"sample_label_20180622\"                \n",
       "[171] \"Description\"                          "
      ]
     },
     "metadata": {},
     "output_type": "display_data"
    }
   ],
   "source": [
    "# columns in metadata table\n",
    "metadata %>% colnames"
   ]
  },
  {
   "cell_type": "code",
   "execution_count": 36,
   "metadata": {
    "ExecuteTime": {
     "end_time": "2018-07-07T05:51:02.977004Z",
     "start_time": "2018-07-07T05:51:02.912Z"
    }
   },
   "outputs": [
    {
     "data": {
      "text/plain": [
       "            class                order          family        genus    \n",
       " Actinopterygii:  9   Artiodactyla  :43   Cervidae : 17   Cervus : 13  \n",
       " Amphibia      :  5   Carnivora     :29   Bovidae  : 15   Equus  : 10  \n",
       " Aves          : 30   Primates      :16   Canidae  : 10   Lepus  :  8  \n",
       " Mammalia      :160   Rodentia      :16   Equidae  : 10   Canis  :  7  \n",
       " Reptilia      :  9   Perissodactyla:14   Leporidae: 10   Capra  :  5  \n",
       "                      Lagomorpha    :10   Felidae  :  9   Sus    :  5  \n",
       "                      (Other)       :85   (Other)  :142   (Other):165  \n",
       "        scientific_name\n",
       " Cervus_elaphus : 11   \n",
       " Lepus_europaeus:  7   \n",
       " Canis_lupus    :  6   \n",
       " Sus_scrofa     :  5   \n",
       " Equus_hemionus :  4   \n",
       " Felis_catus    :  4   \n",
       " (Other)        :176   "
      ]
     },
     "metadata": {},
     "output_type": "display_data"
    }
   ],
   "source": [
    "# taxonomy\n",
    "cols = c('class', 'order', 'family', 'genus', 'scientific_name')\n",
    "metadata[,cols] %>% summary"
   ]
  },
  {
   "cell_type": "code",
   "execution_count": 37,
   "metadata": {
    "ExecuteTime": {
     "end_time": "2018-07-07T05:51:03.544719Z",
     "start_time": "2018-07-07T05:51:03.464Z"
    },
    "scrolled": false
   },
   "outputs": [
    {
     "data": {
      "text/plain": [
       "        diet                diet_detail   diet_breadth diet_breadth_gabrielle\n",
       " carnivore:66   mainly insectivore:  8   1      : 24   2      :64            \n",
       " herbivore:87   insectivore       :  4   2      : 21   4      :41            \n",
       " omnivore :60   mainly herbivore  :  4   5      : 15   1      :35            \n",
       "                piscivore         :  3   3      : 10   3      :34            \n",
       "                mainly carnivore  :  2   6      :  6   5      :30            \n",
       "                (Other)           :  5   (Other):  6   7      : 4            \n",
       "                NA's              :187   NA's   :131   (Other): 5            \n",
       " diet_vertebrate             diet_invertebrate diet_fruit\n",
       " no :138         no                   :104     no :124   \n",
       " yes: 75         yes                  :108     yes: 89   \n",
       "                 yes mainly young ones:  1               \n",
       "                                                         \n",
       "                                                         \n",
       "                                                         \n",
       "                                                         \n",
       " diet_flowers_nectar_pollen diet_leaves_branches_bark_buds diet_seeds\n",
       " no :195                    no :112                        no :127   \n",
       " yes: 18                    yes:101                        yes: 86   \n",
       "                                                                     \n",
       "                                                                     \n",
       "                                                                     \n",
       "                                                                     \n",
       "                                                                     \n",
       " diet_grass_waterplants diet_roots_tubers\n",
       " no :117                no :143          \n",
       " yes: 96                yes: 70          \n",
       "                                         \n",
       "                                         \n",
       "                                         \n",
       "                                         \n",
       "                                         "
      ]
     },
     "metadata": {},
     "output_type": "display_data"
    }
   ],
   "source": [
    "# diet\n",
    "cols = c('diet', 'diet_detail', 'diet_breadth', 'diet_breadth_gabrielle', \n",
    "         'diet_vertebrate', 'diet_invertebrate', 'diet_fruit', \n",
    "         'diet_flowers_nectar_pollen', 'diet_leaves_branches_bark_buds', \n",
    "         'diet_seeds', 'diet_grass_waterplants', 'diet_roots_tubers')\n",
    "metadata[,cols] %>% summary"
   ]
  },
  {
   "cell_type": "code",
   "execution_count": 38,
   "metadata": {
    "ExecuteTime": {
     "end_time": "2018-07-07T05:51:03.765501Z",
     "start_time": "2018-07-07T05:51:03.694Z"
    }
   },
   "outputs": [
    {
     "data": {
      "text/plain": [
       "                      digestive_system                  digestive_system_detail\n",
       " simple                       :52      simple                       :52        \n",
       " hindgut                      :51      hindgut                      :51        \n",
       " foregut                      :49      foregut                      :49        \n",
       " fermentation activity foregut: 5      fermentation activity foregut: 5        \n",
       " hindgut_simple               : 3      hindgut_simple               : 3        \n",
       " (Other)                      : 3      (Other)                      : 3        \n",
       " NA's                         :50      NA's                         :50        \n",
       "                  feeding_style\n",
       " bulk and roughage eaters:  6  \n",
       " caecotroph              : 13  \n",
       " concentrate selector    :  2  \n",
       " concentrate selectors   :  4  \n",
       " intermediate  type      : 10  \n",
       " intermediate type       : 15  \n",
       " NA's                    :163  "
      ]
     },
     "metadata": {},
     "output_type": "display_data"
    }
   ],
   "source": [
    "# feeding/digestion\n",
    "cols = c('digestive_system', 'digestive_system_detail', 'feeding_style')\n",
    "metadata[,cols] %>% summary"
   ]
  },
  {
   "cell_type": "code",
   "execution_count": 39,
   "metadata": {
    "ExecuteTime": {
     "end_time": "2018-07-07T05:51:04.342955Z",
     "start_time": "2018-07-07T05:51:04.278Z"
    }
   },
   "outputs": [
    {
     "data": {
      "text/plain": [
       "                                   habitat                  habitat_detail\n",
       " anthropogenic habitat                 : 11   anthropogenic habitat:11    \n",
       " aquatic habitat                       : 16   cultivated habitat   :10    \n",
       " terrestrial habitat                   :177   freshwater habitat   : 9    \n",
       " terrestrial habitat_cultivated habitat:  9   grassland            :33    \n",
       "                                              saline water habitat : 7    \n",
       "                                              terrestrial habitat  :95    \n",
       "                                              woodland             :48    \n",
       "              habitat_detail_1              habitat_detail_2\n",
       " terrestrial habitat  :95      terrestrial habitat  :95     \n",
       " forest               :48      forest               :48     \n",
       " meadow               :15      flood meadow         :15     \n",
       " steppe               :12      steppe               :12     \n",
       " anthropogenic habitat:11      anthropogenic habitat:11     \n",
       " cultivated habitat   :10      cultivated habitat   :10     \n",
       " (Other)              :22      (Other)              :22     "
      ]
     },
     "metadata": {},
     "output_type": "display_data"
    }
   ],
   "source": [
    "# habitat\n",
    "cols = c('habitat', 'habitat_detail', 'habitat_detail_1', 'habitat_detail_2')\n",
    "metadata[,cols] %>% summary"
   ]
  },
  {
   "cell_type": "code",
   "execution_count": 40,
   "metadata": {
    "ExecuteTime": {
     "end_time": "2018-07-07T05:51:04.860060Z",
     "start_time": "2018-07-07T05:51:04.766Z"
    }
   },
   "outputs": [
    {
     "data": {
      "text/plain": [
       "                                        geo_loc_name         country   \n",
       " Austria:Vienna:Vienna                        : 50   Austria     :125  \n",
       " Austria:Lower Austria:NA                     : 11   Australia   : 12  \n",
       " Hungary:Central Hungary:Budapest Surroundings:  9   South Africa: 12  \n",
       " Austria:Lower Austria:Schrems                :  8   Viet Nam    : 12  \n",
       " Austria:Burgenland:NA                        :  7   Hungary     : 11  \n",
       " East Africa:NA:NA                            :  7   (Other)     : 36  \n",
       " (Other)                                      :121   NA's        :  5  \n",
       "             region                      location              location_detail\n",
       " Vienna         :50   Vienna                 :50   Lobau               : 14   \n",
       " Lower Austria  :41   Budapest Surroundings  : 9   Krueger-Nationalpark: 11   \n",
       " Burgenland     :14   Schrems                : 8   Schoenbrunn         : 11   \n",
       " South Australia:12   Cat Tien National Park : 6   Zoo Herberstein     :  6   \n",
       " Central Hungary:11   Cuc phuong Nationalpark: 6   Thaya               :  4   \n",
       " (Other)        :67   (Other)                :83   (Other)             : 34   \n",
       " NA's           :18   NA's                   :51   NA's                :133   \n",
       "      latitude        longitude        elev    \n",
       " 48.208330: 49   16.373064 : 49   171 m  : 49  \n",
       " 47.500000: 17   19.050000 : 11   104 m  : 11  \n",
       " 48.783333:  8   15.066667 :  8   526 m  :  8  \n",
       " 11.423333:  6   105.608333:  6   0 m    :  7  \n",
       " 20.316667:  6   107.428611:  6   120 m  :  6  \n",
       " 47.224000:  6   15.750000 :  6   200 m  :  6  \n",
       " (Other)  :121   (Other)   :127   (Other):126  "
      ]
     },
     "metadata": {},
     "output_type": "display_data"
    }
   ],
   "source": [
    "# geography\n",
    "cols = c('geo_loc_name', 'country', 'region', 'location', 'location_detail', 'latitude', 'longitude', 'elev')\n",
    "metadata[,cols] %>% summary"
   ]
  },
  {
   "cell_type": "code",
   "execution_count": 41,
   "metadata": {
    "ExecuteTime": {
     "end_time": "2018-07-07T05:51:05.746546Z",
     "start_time": "2018-07-07T05:51:05.679Z"
    }
   },
   "outputs": [
    {
     "data": {
      "text/plain": [
       " collection_date        season  \n",
       " 12/15/12:  8    summer    :73  \n",
       " 9/18/11 :  8    autumn    :59  \n",
       " 6/23/12 :  6    spring    :39  \n",
       " 10/11/12:  5    winter    :17  \n",
       " 11/1/13 :  5    dry season:10  \n",
       " 12/15/13:  5    (Other)   :12  \n",
       " (Other) :176    NA's      : 3  "
      ]
     },
     "metadata": {},
     "output_type": "display_data"
    }
   ],
   "source": [
    "# time\n",
    "cols = c('collection_date', 'season')\n",
    "metadata[,cols] %>% summary"
   ]
  },
  {
   "cell_type": "code",
   "execution_count": 42,
   "metadata": {
    "ExecuteTime": {
     "end_time": "2018-07-07T05:51:06.220724Z",
     "start_time": "2018-07-07T05:51:06.154Z"
    }
   },
   "outputs": [
    {
     "data": {
      "text/plain": [
       "    wild_domesticated  captive_wild          captive_origin sample_type\n",
       " domesticated: 17     captive: 39   Schoenbrunn     : 10    feces:199  \n",
       " wild        :196     human  :  4   Zoo Herberstein :  6    gut  : 14  \n",
       "                      wild   :170   KLIVV           :  3               \n",
       "                                    FIWI            :  2               \n",
       "                                    Gehege Esterhazy:  2               \n",
       "                                    (Other)         :  3               \n",
       "                                    NA's            :187               "
      ]
     },
     "metadata": {},
     "output_type": "display_data"
    }
   ],
   "source": [
    "# misc\n",
    "cols = c('wild_domesticated', 'captive_wild', 'captive_origin', 'sample_type')\n",
    "metadata[,cols] %>% summary"
   ]
  },
  {
   "cell_type": "markdown",
   "metadata": {},
   "source": [
    "# Host tree"
   ]
  },
  {
   "cell_type": "markdown",
   "metadata": {},
   "source": [
    "## Overlap with host tree\n",
    "\n",
    "* Note: host tree is for all samples in the entire animal microbiome dataset"
   ]
  },
  {
   "cell_type": "code",
   "execution_count": 43,
   "metadata": {
    "ExecuteTime": {
     "end_time": "2018-07-07T05:51:08.373072Z",
     "start_time": "2018-07-07T05:51:08.312Z"
    }
   },
   "outputs": [
    {
     "name": "stdout",
     "output_type": "stream",
     "text": [
      " [1] \"Perca_fluviatilis\"           \"Gymnocephalus_cernua\"       \n",
      " [3] \"Zingel_zingel\"               \"Neogobius_melanostomus\"     \n",
      " [5] \"Salmo_trutta\"                \"Oncorhynchus_mykiss\"        \n",
      " [7] \"Silurus_glanis\"              \"Chondrostoma_nasus\"         \n",
      " [9] \"Leuciscus_cephalus\"          \"Rutilus_rutilus\"            \n",
      "[11] \"Alburnus_alburnus\"           \"Scardinius_erythrophthalmus\"\n",
      "[13] \"Vimba_vimba\"                 \"Abramis_brama\"              \n",
      "[15] \"Barbus_barbus\"               \"Salamandra_salamandra\"      \n",
      "[17] \"Salamandra_atra\"             \"Rana_temporaria\"            \n",
      "[19] \"Pogona_vitticeps\"            \"Anguis_fragilis\"            \n",
      "[21] \"Varanus_rosenbergi\"          \"Lacerta_agilis\"             \n",
      "[23] \"Lyrurus_tetrix\"              \"Phasianus_colchicus\"        \n",
      "[25] \"Cygnus_olor\"                 \"Branta_bernicla\"            \n",
      "[27] \"Anas_crecca\"                 \"Alcedo_atthis\"              \n",
      "[29] \"Eolophus_roseicapilla\"       \"Strix_aluco\"                \n",
      "[31] \"Phylloscopus_collybita\"      \"Delichon_urbicum\"           \n",
      "[33] \"Turdus_philomelos\"           \"Erithacus_rubecula\"         \n",
      "[35] \"Ficedula_hypoleuca\"          \"Saxicola_rubicola\"          \n",
      "[37] \"Sylvia_atricapilla\"          \"Remiz_pendulinus\"           \n",
      "[39] \"Prunella_modularis\"          \"Anthus_spinoletta\"          \n",
      "[41] \"Pica_pica\"                   \"Corvus_cornix\"              \n",
      "[43] \"Acanthiza_uropygialis\"       \"Rallus_aquaticus\"           \n",
      "[45] \"Porzana_porzana\"             \"Scolopax_rusticola\"         \n",
      "[47] \"Charadrius_dubius\"           \"Accipiter_nisus\"            \n",
      "[49] \"Apus_apus\"                   \"Didelphis_marsupialis\"      \n",
      "[51] \"Macropus_eugenii\"            \"Sorex_alpinus\"              \n",
      "[53] \"Mustela_nivalis\"             \"Mustela_eversmanii\"         \n",
      "[55] \"Mustela_putorius\"            \"Meles_meles\"                \n",
      "[57] \"Camelus_dromedarius\"         \"Connochaetes_taurinus\"      \n",
      "[59] \"Gazella_bennettii\"           \"Pipistrellus_pipistrellus\"  \n",
      "[61] \"Proechimys_semispinosus\"     \"Psammomys_obesus\"           \n",
      "[63] \"Phodopus_sungorus\"           \"Myodes_glareolus\"           \n",
      "[65] \"Melanomys_caliginosus\"       \"Rheomys_raptor\"             \n",
      "[67] \"Reithrodontomys_fluvesces\"   \"Otolemur_crassicaudatus\"    \n",
      "[69] \"Tupaiidae_sp.\"               \"Choloepus_didactylus\"       \n"
     ]
    }
   ],
   "source": [
    "# in host tree, but not in 16S microbiome data?\n",
    "setdiff(host_tree$tip.label, metadata$scientific_name) %>% print"
   ]
  },
  {
   "cell_type": "code",
   "execution_count": 44,
   "metadata": {
    "ExecuteTime": {
     "end_time": "2018-07-07T05:51:09.052501Z",
     "start_time": "2018-07-07T05:51:08.983Z"
    }
   },
   "outputs": [
    {
     "name": "stdout",
     "output_type": "stream",
     "text": [
      "character(0)\n"
     ]
    }
   ],
   "source": [
    "# in 16S microbiome data, but not in host tree (PROBLEM!)\n",
    "setdiff(metadata$scientific_name, host_tree$tip.label) %>% print"
   ]
  },
  {
   "cell_type": "markdown",
   "metadata": {},
   "source": [
    "## Filtering host tree"
   ]
  },
  {
   "cell_type": "code",
   "execution_count": 45,
   "metadata": {
    "ExecuteTime": {
     "end_time": "2018-07-07T05:51:11.756663Z",
     "start_time": "2018-07-07T05:51:11.696Z"
    }
   },
   "outputs": [
    {
     "data": {
      "text/plain": [
       "\n",
       "Phylogenetic tree with 128 tips and 127 internal nodes.\n",
       "\n",
       "Tip labels:\n",
       "\tSander_lucioperca, Esox_lucius, Salvelinus_fontinalis, Aspius_aspius, Leuciscus_idus, Blicca_bjoerkna, ...\n",
       "Node labels:\n",
       "\t, @_22_@, @_8_@, @_7_@, @_20_@, @_17_@, ...\n",
       "\n",
       "Rooted; includes branch lengths."
      ]
     },
     "metadata": {},
     "output_type": "display_data"
    }
   ],
   "source": [
    "to_rm = setdiff(host_tree$tip.label, metadata$scientific_name)\n",
    "host_tree_prn = drop.tip(host_tree, to_rm)\n",
    "host_tree_prn"
   ]
  },
  {
   "cell_type": "code",
   "execution_count": 46,
   "metadata": {
    "ExecuteTime": {
     "end_time": "2018-07-07T05:51:13.249349Z",
     "start_time": "2018-07-07T05:51:13.191Z"
    }
   },
   "outputs": [
    {
     "name": "stdout",
     "output_type": "stream",
     "text": [
      "character(0)\n"
     ]
    }
   ],
   "source": [
    "# in host tree, but not in 16S microbiome?\n",
    "setdiff(host_tree_prn$tip.label, metadata$scientific_name) %>% print"
   ]
  },
  {
   "cell_type": "code",
   "execution_count": 47,
   "metadata": {
    "ExecuteTime": {
     "end_time": "2018-07-07T05:51:13.986165Z",
     "start_time": "2018-07-07T05:51:13.647Z"
    }
   },
   "outputs": [
    {
     "data": {
      "image/png": "[encoded data removed]",
      "text/plain": [
       "plot without title"
      ]
     },
     "metadata": {},
     "output_type": "display_data"
    }
   ],
   "source": [
    "# plotting tree\n",
    "options(repr.plot.width=6, repr.plot.height=10)\n",
    "plot(host_tree_prn, no.margin=TRUE, cex=0.4)"
   ]
  },
  {
   "cell_type": "markdown",
   "metadata": {},
   "source": [
    "### Writing filtered host tree\n",
    "\n",
    "* `SpecD` = one tip per species\n",
    "* Writing to 16S directory, because it is now tailored to the 16S "
   ]
  },
  {
   "cell_type": "code",
   "execution_count": 48,
   "metadata": {
    "ExecuteTime": {
     "end_time": "2018-07-07T05:51:18.206348Z",
     "start_time": "2018-07-07T05:51:18.119Z"
    }
   },
   "outputs": [
    {
     "name": "stdout",
     "output_type": "stream",
     "text": [
      "File written: /ebio/abt3_projects/Georg_animal_feces/data/animal/phylogeny/TT/unified_metadata_complete_20180625_rn_16S-r5k_SpecD.nwk \n"
     ]
    }
   ],
   "source": [
    "# writing host tree\n",
    "host_tree_r5k_file = paste0(tools::file_path_sans_ext(host_tree_file), '_16S-r5k_SpecD.nwk')\n",
    "write.tree(host_tree_prn, file=host_tree_r5k_file)\n",
    "cat('File written:', host_tree_r5k_file, '\\n')"
   ]
  },
  {
   "cell_type": "markdown",
   "metadata": {},
   "source": [
    "## Expanding host tree tips\n",
    "\n",
    "* Expand to all tips\n",
    "* `IndD` = one tip per individual animal"
   ]
  },
  {
   "cell_type": "code",
   "execution_count": 49,
   "metadata": {
    "ExecuteTime": {
     "end_time": "2018-07-07T05:51:22.397528Z",
     "start_time": "2018-07-07T05:51:22.280Z"
    }
   },
   "outputs": [
    {
     "name": "stderr",
     "output_type": "stream",
     "text": [
      "Warning message:\n",
      "“Column `label`/`scientific_name` has different attributes on LHS and RHS of join”"
     ]
    },
    {
     "name": "stdout",
     "output_type": "stream",
     "text": [
      "[1] 213   3\n"
     ]
    },
    {
     "data": {
      "text/html": [
       "<table>\n",
       "<thead><tr><th scope=col>label</th><th scope=col>node</th><th scope=col>X.SampleID</th></tr></thead>\n",
       "<tbody>\n",
       "\t<tr><td>Sander_lucioperca    </td><td>1                    </td><td>X256.Zander          </td></tr>\n",
       "\t<tr><td>Esox_lucius          </td><td>2                    </td><td>F302.Northern.Pike   </td></tr>\n",
       "\t<tr><td>Salvelinus_fontinalis</td><td>3                    </td><td>X188.Brook.Trout     </td></tr>\n",
       "</tbody>\n",
       "</table>\n"
      ],
      "text/latex": [
       "\\begin{tabular}{r|lll}\n",
       " label & node & X.SampleID\\\\\n",
       "\\hline\n",
       "\t Sander\\_lucioperca     & 1                       & X256.Zander            \\\\\n",
       "\t Esox\\_lucius           & 2                       & F302.Northern.Pike     \\\\\n",
       "\t Salvelinus\\_fontinalis & 3                       & X188.Brook.Trout       \\\\\n",
       "\\end{tabular}\n"
      ],
      "text/markdown": [
       "\n",
       "label | node | X.SampleID | \n",
       "|---|---|---|\n",
       "| Sander_lucioperca     | 1                     | X256.Zander           | \n",
       "| Esox_lucius           | 2                     | F302.Northern.Pike    | \n",
       "| Salvelinus_fontinalis | 3                     | X188.Brook.Trout      | \n",
       "\n",
       "\n"
      ],
      "text/plain": [
       "  label                 node X.SampleID        \n",
       "1 Sander_lucioperca     1    X256.Zander       \n",
       "2 Esox_lucius           2    F302.Northern.Pike\n",
       "3 Salvelinus_fontinalis 3    X188.Brook.Trout  "
      ]
     },
     "metadata": {},
     "output_type": "display_data"
    }
   ],
   "source": [
    "# tip label <--> node id\n",
    "df_nodes = data.frame(label = host_tree_prn$tip.label,\n",
    "                      node = 1:length(host_tree_prn$tip.label))\n",
    "\n",
    "# adding all host_subj_id\n",
    "df_nodes = df_nodes %>%\n",
    "    inner_join(metadata %>% dplyr::select(X.SampleID, scientific_name), \n",
    "               c('label'='scientific_name')) %>%\n",
    "    as.data.frame\n",
    "\n",
    "# status\n",
    "df_nodes %>% status"
   ]
  },
  {
   "cell_type": "code",
   "execution_count": 50,
   "metadata": {
    "ExecuteTime": {
     "end_time": "2018-07-07T05:51:22.932883Z",
     "start_time": "2018-07-07T05:51:22.405Z"
    }
   },
   "outputs": [
    {
     "data": {
      "text/plain": [
       "\n",
       "Phylogenetic tree with 213 tips and 177 internal nodes.\n",
       "\n",
       "Tip labels:\n",
       "\tX256.Zander, F302.Northern.Pike, X188.Brook.Trout, F300.Asp, X330.Ide, X125.Common.Carp, ...\n",
       "Node labels:\n",
       "\t, @_22_@, @_8_@, @_7_@, @_20_@, @_17_@, ...\n",
       "\n",
       "Rooted; includes branch lengths."
      ]
     },
     "metadata": {},
     "output_type": "display_data"
    }
   ],
   "source": [
    "# adding new tips\n",
    "tree_exp = host_tree_prn\n",
    "map_tmp = metadata \n",
    "\n",
    "for(lab in unique(df_nodes$label)){\n",
    "    # creating polytomy tree\n",
    "    samps = df_nodes[df_nodes$label == lab,]\n",
    "    x = paste(samps$X.SampleID, collapse=',')\n",
    "    x = paste0('(', x, ');')\n",
    "    tree_poly = read.tree(text = x)\n",
    "    # adding branch lengths \n",
    "    tree_poly = compute.brlen(tree_poly, 1e-10)\n",
    "    \n",
    "    # getting current node --> label structure\n",
    "    df_tmp = data.frame(label = tree_exp$tip.label,\n",
    "                        node = 1:length(tree_exp$tip.label))\n",
    "    \n",
    "    # getting node corresponding to tip label \n",
    "    x = 1:length(tree_exp$tip.label)\n",
    "    node = x[which(tree_exp$tip.label==lab)] \n",
    "\n",
    "    # adding subtree to main tree\n",
    "    tree_exp = bind.tree(tree_exp, tree_poly, where=node)\n",
    "}\n",
    "\n",
    "tree_exp"
   ]
  },
  {
   "cell_type": "code",
   "execution_count": 51,
   "metadata": {
    "ExecuteTime": {
     "end_time": "2018-07-07T05:51:23.391681Z",
     "start_time": "2018-07-07T05:51:22.517Z"
    }
   },
   "outputs": [
    {
     "data": {
      "image/png": "[encoded data removed]",
      "text/plain": [
       "plot without title"
      ]
     },
     "metadata": {},
     "output_type": "display_data"
    }
   ],
   "source": [
    "# plotting tree\n",
    "options(repr.plot.width=6, repr.plot.height=14)\n",
    "plot(tree_exp, no.margin=TRUE, cex=0.4)"
   ]
  },
  {
   "cell_type": "markdown",
   "metadata": {},
   "source": [
    "### Writing tree"
   ]
  },
  {
   "cell_type": "code",
   "execution_count": 52,
   "metadata": {
    "ExecuteTime": {
     "end_time": "2018-07-07T05:51:23.464123Z",
     "start_time": "2018-07-07T05:51:23.083Z"
    }
   },
   "outputs": [
    {
     "name": "stdout",
     "output_type": "stream",
     "text": [
      "File written: /ebio/abt3_projects/Georg_animal_feces/data/animal/phylogeny/TT/unified_metadata_complete_20180625_rn_16S-r5k_IndD.nwk \n"
     ]
    }
   ],
   "source": [
    "# writing host tree\n",
    "host_tree_r5k_exp_file = paste0(tools::file_path_sans_ext(host_tree_file), '_16S-r5k_IndD.nwk')\n",
    "write.tree(tree_exp, file=host_tree_r5k_exp_file)\n",
    "cat('File written:', host_tree_r5k_exp_file, '\\n')"
   ]
  },
  {
   "cell_type": "markdown",
   "metadata": {},
   "source": [
    "# Writing filtered phyloseq"
   ]
  },
  {
   "cell_type": "code",
   "execution_count": 53,
   "metadata": {
    "ExecuteTime": {
     "end_time": "2018-07-07T05:51:23.514021Z",
     "start_time": "2018-07-07T05:51:23.296Z"
    }
   },
   "outputs": [
    {
     "data": {
      "text/plain": [
       "phyloseq-class experiment-level object\n",
       "otu_table()   OTU Table:         [ 30290 taxa and 213 samples ]\n",
       "sample_data() Sample Data:       [ 213 samples by 171 sample variables ]\n",
       "tax_table()   Taxonomy Table:    [ 30290 taxa by 7 taxonomic ranks ]\n",
       "phy_tree()    Phylogenetic Tree: [ 30290 tips and 29752 internal nodes ]"
      ]
     },
     "metadata": {},
     "output_type": "display_data"
    }
   ],
   "source": [
    "# summary\n",
    "physeq"
   ]
  },
  {
   "cell_type": "code",
   "execution_count": 54,
   "metadata": {
    "ExecuteTime": {
     "end_time": "2018-07-07T05:51:26.087279Z",
     "start_time": "2018-07-07T05:51:23.415Z"
    }
   },
   "outputs": [
    {
     "name": "stdout",
     "output_type": "stream",
     "text": [
      "File written: /ebio/abt3_projects/Georg_animal_feces/data/16S/LLA/phyloseq/physeq_r5k.RDS \n"
     ]
    }
   ],
   "source": [
    "# saving\n",
    "physeq_r5k_file = paste0(tools::file_path_sans_ext(physeq_file), '_r5k.RDS')\n",
    "saveRDS(physeq, file=physeq_r5k_file)\n",
    "cat('File written:', physeq_r5k_file, '\\n')"
   ]
  },
  {
   "cell_type": "markdown",
   "metadata": {},
   "source": [
    "# sessionInfo"
   ]
  },
  {
   "cell_type": "code",
   "execution_count": 55,
   "metadata": {
    "ExecuteTime": {
     "end_time": "2018-07-07T05:51:26.788761Z",
     "start_time": "2018-07-07T05:51:23.672Z"
    }
   },
   "outputs": [
    {
     "data": {
      "text/plain": [
       "R version 3.4.1 (2017-06-30)\n",
       "Platform: x86_64-pc-linux-gnu (64-bit)\n",
       "Running under: Ubuntu 16.04.4 LTS\n",
       "\n",
       "Matrix products: default\n",
       "BLAS: /ebio/abt3_projects/software/miniconda3/envs/py3_physeq/lib/R/lib/libRblas.so\n",
       "LAPACK: /ebio/abt3_projects/software/miniconda3/envs/py3_physeq/lib/R/lib/libRlapack.so\n",
       "\n",
       "locale:\n",
       " [1] LC_CTYPE=en_US.UTF-8       LC_NUMERIC=C              \n",
       " [3] LC_TIME=en_US.UTF-8        LC_COLLATE=en_US.UTF-8    \n",
       " [5] LC_MONETARY=en_US.UTF-8    LC_MESSAGES=en_US.UTF-8   \n",
       " [7] LC_PAPER=en_US.UTF-8       LC_NAME=C                 \n",
       " [9] LC_ADDRESS=C               LC_TELEPHONE=C            \n",
       "[11] LC_MEASUREMENT=en_US.UTF-8 LC_IDENTIFICATION=C       \n",
       "\n",
       "attached base packages:\n",
       "[1] stats     graphics  grDevices utils     datasets  methods   base     \n",
       "\n",
       "other attached packages:\n",
       "[1] bindrcpp_0.2    ape_5.1         phyloseq_1.22.3 ggplot2_2.2.1  \n",
       "[5] tidyr_0.8.1     dplyr_0.7.4    \n",
       "\n",
       "loaded via a namespace (and not attached):\n",
       " [1] pbdZMQ_0.3-1        repr_0.12.0         purrr_0.2.4        \n",
       " [4] reshape2_1.4.3      splines_3.4.1       lattice_0.20-35    \n",
       " [7] rhdf5_2.22.0        colorspace_1.3-2    stats4_3.4.1       \n",
       "[10] mgcv_1.8-17         survival_2.40-1     rlang_0.2.0        \n",
       "[13] pillar_1.2.2        glue_1.2.0          BiocGenerics_0.24.0\n",
       "[16] uuid_0.1-2          foreach_1.4.4       bindr_0.1.1        \n",
       "[19] plyr_1.8.4          stringr_1.2.0       zlibbioc_1.24.0    \n",
       "[22] Biostrings_2.46.0   munsell_0.5.0       gtable_0.2.0       \n",
       "[25] codetools_0.2-15    evaluate_0.10.1     Biobase_2.38.0     \n",
       "[28] permute_0.9-4       IRanges_2.12.0      biomformat_1.6.0   \n",
       "[31] parallel_3.4.1      IRdisplay_0.4.4     Rcpp_0.12.14       \n",
       "[34] scales_0.5.0        IRkernel_0.8.11     vegan_2.4-3        \n",
       "[37] S4Vectors_0.16.0    jsonlite_1.5        XVector_0.18.0     \n",
       "[40] digest_0.6.13       stringi_1.1.6       grid_3.4.1         \n",
       "[43] ade4_1.7-10         tools_3.4.1         magrittr_1.5       \n",
       "[46] lazyeval_0.2.1      tibble_1.4.2        cluster_2.0.6      \n",
       "[49] crayon_1.3.4        pkgconfig_2.0.1     MASS_7.3-48        \n",
       "[52] Matrix_1.2-14       data.table_1.11.4   assertthat_0.2.0   \n",
       "[55] iterators_1.0.9     R6_2.2.2            multtest_2.34.0    \n",
       "[58] igraph_1.2.1        nlme_3.1-137        compiler_3.4.1     "
      ]
     },
     "metadata": {},
     "output_type": "display_data"
    }
   ],
   "source": [
    "sessionInfo()"
   ]
  },
  {
   "cell_type": "code",
   "execution_count": null,
   "metadata": {},
   "outputs": [],
   "source": []
  }
 ],
 "metadata": {
  "kernelspec": {
   "display_name": "R [conda env:py3_physeq]",
   "language": "R",
   "name": "conda-env-py3_physeq-r"
  },
  "language_info": {
   "codemirror_mode": "r",
   "file_extension": ".r",
   "mimetype": "text/x-r-source",
   "name": "R",
   "pygments_lexer": "r",
   "version": "3.4.1"
  },
  "notify_time": "30",
  "toc": {
   "nav_menu": {},
   "number_sections": true,
   "sideBar": true,
   "skip_h1_title": false,
   "toc_cell": true,
   "toc_position": {},
   "toc_section_display": "block",
   "toc_window_display": true
  }
 },
 "nbformat": 4,
 "nbformat_minor": 2
}
