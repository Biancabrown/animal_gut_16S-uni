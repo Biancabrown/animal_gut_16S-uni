{
 "cells": [
  {
   "cell_type": "markdown",
   "metadata": {
    "toc": true
   },
   "source": [
    "<h1>Table of Contents<span class=\"tocSkip\"></span></h1>\n",
    "<div class=\"toc\"><ul class=\"toc-item\"><li><span><a href=\"#Goal\" data-toc-modified-id=\"Goal-1\"><span class=\"toc-item-num\">1&nbsp;&nbsp;</span>Goal</a></span></li><li><span><a href=\"#Var\" data-toc-modified-id=\"Var-2\"><span class=\"toc-item-num\">2&nbsp;&nbsp;</span>Var</a></span></li><li><span><a href=\"#Init\" data-toc-modified-id=\"Init-3\"><span class=\"toc-item-num\">3&nbsp;&nbsp;</span>Init</a></span></li><li><span><a href=\"#Converting-qiime2-files\" data-toc-modified-id=\"Converting-qiime2-files-4\"><span class=\"toc-item-num\">4&nbsp;&nbsp;</span>Converting qiime2 files</a></span><ul class=\"toc-item\"><li><span><a href=\"#OTU-table\" data-toc-modified-id=\"OTU-table-4.1\"><span class=\"toc-item-num\">4.1&nbsp;&nbsp;</span>OTU table</a></span></li><li><span><a href=\"#Taxonomy\" data-toc-modified-id=\"Taxonomy-4.2\"><span class=\"toc-item-num\">4.2&nbsp;&nbsp;</span>Taxonomy</a></span></li><li><span><a href=\"#Tree\" data-toc-modified-id=\"Tree-4.3\"><span class=\"toc-item-num\">4.3&nbsp;&nbsp;</span>Tree</a></span></li></ul></li><li><span><a href=\"#Load\" data-toc-modified-id=\"Load-5\"><span class=\"toc-item-num\">5&nbsp;&nbsp;</span>Load</a></span><ul class=\"toc-item\"><li><span><a href=\"#Checks\" data-toc-modified-id=\"Checks-5.1\"><span class=\"toc-item-num\">5.1&nbsp;&nbsp;</span>Checks</a></span></li></ul></li><li><span><a href=\"#Formatting-metadata\" data-toc-modified-id=\"Formatting-metadata-6\"><span class=\"toc-item-num\">6&nbsp;&nbsp;</span>Formatting metadata</a></span></li><li><span><a href=\"#Checking-overlap\" data-toc-modified-id=\"Checking-overlap-7\"><span class=\"toc-item-num\">7&nbsp;&nbsp;</span>Checking overlap</a></span><ul class=\"toc-item\"><li><span><a href=\"#Filtering-to-intersection\" data-toc-modified-id=\"Filtering-to-intersection-7.1\"><span class=\"toc-item-num\">7.1&nbsp;&nbsp;</span>Filtering to intersection</a></span></li></ul></li><li><span><a href=\"#Making-phyloseq-obj\" data-toc-modified-id=\"Making-phyloseq-obj-8\"><span class=\"toc-item-num\">8&nbsp;&nbsp;</span>Making phyloseq obj</a></span><ul class=\"toc-item\"><li><span><a href=\"#Writing-object\" data-toc-modified-id=\"Writing-object-8.1\"><span class=\"toc-item-num\">8.1&nbsp;&nbsp;</span>Writing object</a></span></li></ul></li><li><span><a href=\"#sessionInfo\" data-toc-modified-id=\"sessionInfo-9\"><span class=\"toc-item-num\">9&nbsp;&nbsp;</span>sessionInfo</a></span></li></ul></div>"
   ]
  },
  {
   "cell_type": "markdown",
   "metadata": {},
   "source": [
    "# Goal\n",
    "\n",
    "* Creating phyloseq R object from LLA (qiime2) files\n",
    "* The phyloseq file will be used for initial data exploration and dataset tidying"
   ]
  },
  {
   "cell_type": "markdown",
   "metadata": {},
   "source": [
    "# Var"
   ]
  },
  {
   "cell_type": "code",
   "execution_count": 1,
   "metadata": {
    "ExecuteTime": {
     "end_time": "2018-06-25T14:55:34.765693Z",
     "start_time": "2018-06-25T14:55:34.217Z"
    }
   },
   "outputs": [],
   "source": [
    "work_dir = '/ebio/abt3_projects/Georg_animal_feces/data/16S/LLA/phyloseq/'\n",
    "\n",
    "# qiime2 files\n",
    "LLA_dir = '/ebio/abt3_projects/Georg_animal_feces/data/16S/LLA/'\n",
    "SV_file = file.path(LLA_dir, 'table_merged_filt.qza')\n",
    "tax_file = file.path(LLA_dir, 'taxonomy.qza')\n",
    "tree_file = file.path(LLA_dir, 'aligned-rep-seqs_filt_masked_midroot-tree.qza')\n",
    "\n",
    "# updated metadata; only samples with TimeTree host phylogeny\n",
    "## SEE: http://127.0.0.1:9705/notebooks/notebooks/animal/phylogeny/TT/1_TimeTree_all-metadata.ipynb\n",
    "metadata_file = '/ebio/abt3_projects/Georg_animal_feces/data/mapping/unified_metadata_complete_20180625_TT-filt.txt'\n",
    "\n",
    "conda_env = 'qiime2'"
   ]
  },
  {
   "cell_type": "markdown",
   "metadata": {},
   "source": [
    "# Init"
   ]
  },
  {
   "cell_type": "code",
   "execution_count": 2,
   "metadata": {
    "ExecuteTime": {
     "end_time": "2018-06-25T14:55:46.539180Z",
     "start_time": "2018-06-25T14:55:34.220Z"
    }
   },
   "outputs": [
    {
     "name": "stderr",
     "output_type": "stream",
     "text": [
      "\n",
      "Attaching package: ‘dplyr’\n",
      "\n",
      "The following objects are masked from ‘package:stats’:\n",
      "\n",
      "    filter, lag\n",
      "\n",
      "The following objects are masked from ‘package:base’:\n",
      "\n",
      "    intersect, setdiff, setequal, union\n",
      "\n"
     ]
    }
   ],
   "source": [
    "library(dplyr)\n",
    "library(tidyr)\n",
    "library(phyloseq)\n",
    "source('/ebio/abt3_projects/Georg_animal_feces/code/init.R') "
   ]
  },
  {
   "cell_type": "code",
   "execution_count": 3,
   "metadata": {
    "ExecuteTime": {
     "end_time": "2018-06-25T14:55:46.864413Z",
     "start_time": "2018-06-25T14:55:34.221Z"
    }
   },
   "outputs": [],
   "source": [
    "dir.create(work_dir, showWarnings = FALSE)\n",
    "setwd(work_dir)"
   ]
  },
  {
   "cell_type": "code",
   "execution_count": 4,
   "metadata": {
    "ExecuteTime": {
     "end_time": "2018-06-25T14:55:46.892842Z",
     "start_time": "2018-06-25T14:55:34.224Z"
    }
   },
   "outputs": [],
   "source": [
    "set.seed(48321)"
   ]
  },
  {
   "cell_type": "markdown",
   "metadata": {},
   "source": [
    "# Converting qiime2 files"
   ]
  },
  {
   "cell_type": "code",
   "execution_count": 5,
   "metadata": {
    "ExecuteTime": {
     "end_time": "2018-06-25T14:55:46.943122Z",
     "start_time": "2018-06-25T14:55:34.226Z"
    }
   },
   "outputs": [
    {
     "name": "stdout",
     "output_type": "stream",
     "text": [
      "[1] TRUE\n",
      "[1] TRUE\n",
      "[1] TRUE\n",
      "[1] TRUE\n"
     ]
    }
   ],
   "source": [
    "file.exists(SV_file) %>% print\n",
    "file.exists(tax_file) %>% print\n",
    "file.exists(tree_file) %>% print\n",
    "file.exists(metadata_file) %>% print"
   ]
  },
  {
   "cell_type": "markdown",
   "metadata": {},
   "source": [
    "## OTU table"
   ]
  },
  {
   "cell_type": "code",
   "execution_count": 6,
   "metadata": {
    "ExecuteTime": {
     "end_time": "2018-06-25T14:56:16.673829Z",
     "start_time": "2018-06-25T14:55:34.228Z"
    }
   },
   "outputs": [
    {
     "data": {
      "text/html": [],
      "text/latex": [],
      "text/markdown": [],
      "text/plain": [
       "character(0)"
      ]
     },
     "metadata": {},
     "output_type": "display_data"
    }
   ],
   "source": [
    "# coverting artifact to biom\n",
    "cmd = sprintf('qiime tools export --output-dir . %s', SV_file)\n",
    "bash_job(cmd, conda_env)"
   ]
  },
  {
   "cell_type": "code",
   "execution_count": 7,
   "metadata": {
    "ExecuteTime": {
     "end_time": "2018-06-25T14:56:46.294584Z",
     "start_time": "2018-06-25T14:55:34.230Z"
    }
   },
   "outputs": [
    {
     "data": {
      "text/html": [],
      "text/latex": [],
      "text/markdown": [],
      "text/plain": [
       "character(0)"
      ]
     },
     "metadata": {},
     "output_type": "display_data"
    }
   ],
   "source": [
    "# converting biom to tsv\n",
    "cmd = sprintf('biom convert -i feature-table.biom -o otu_table.tsv --to-tsv')\n",
    "bash_job(cmd, conda_env)"
   ]
  },
  {
   "cell_type": "markdown",
   "metadata": {},
   "source": [
    "## Taxonomy"
   ]
  },
  {
   "cell_type": "code",
   "execution_count": 8,
   "metadata": {
    "ExecuteTime": {
     "end_time": "2018-06-25T14:57:10.301667Z",
     "start_time": "2018-06-25T14:55:34.232Z"
    }
   },
   "outputs": [
    {
     "data": {
      "text/html": [],
      "text/latex": [],
      "text/markdown": [],
      "text/plain": [
       "character(0)"
      ]
     },
     "metadata": {},
     "output_type": "display_data"
    }
   ],
   "source": [
    "# coverting artifact to biom\n",
    "cmd = sprintf('qiime tools export --output-dir . %s', tax_file)\n",
    "bash_job(cmd, conda_env)"
   ]
  },
  {
   "cell_type": "code",
   "execution_count": 9,
   "metadata": {
    "ExecuteTime": {
     "end_time": "2018-06-25T14:57:16.323602Z",
     "start_time": "2018-06-25T14:55:34.234Z"
    }
   },
   "outputs": [
    {
     "data": {
      "text/html": [],
      "text/latex": [],
      "text/markdown": [],
      "text/plain": [
       "character(0)"
      ]
     },
     "metadata": {},
     "output_type": "display_data"
    }
   ],
   "source": [
    "# formatting taxonomy\n",
    "exe = '/ebio/abt3_projects/Georg_animal_feces/code/taxonomy_format.py'\n",
    "cmd = sprintf('%s %s > %s', exe, 'taxonomy.tsv', 'taxonomy_L0-6.tsv')\n",
    "bash_job(cmd, conda_env)"
   ]
  },
  {
   "cell_type": "markdown",
   "metadata": {},
   "source": [
    "## Tree"
   ]
  },
  {
   "cell_type": "code",
   "execution_count": 10,
   "metadata": {
    "ExecuteTime": {
     "end_time": "2018-06-25T14:57:39.956448Z",
     "start_time": "2018-06-25T14:55:34.236Z"
    }
   },
   "outputs": [
    {
     "data": {
      "text/html": [],
      "text/latex": [],
      "text/markdown": [],
      "text/plain": [
       "character(0)"
      ]
     },
     "metadata": {},
     "output_type": "display_data"
    }
   ],
   "source": [
    "# coverting artifact to biom\n",
    "cmd = sprintf('qiime tools export --output-dir . %s', tree_file)\n",
    "bash_job(cmd, conda_env)"
   ]
  },
  {
   "cell_type": "markdown",
   "metadata": {},
   "source": [
    "# Load"
   ]
  },
  {
   "cell_type": "code",
   "execution_count": 11,
   "metadata": {
    "ExecuteTime": {
     "end_time": "2018-06-25T14:57:58.113545Z",
     "start_time": "2018-06-25T14:55:34.241Z"
    }
   },
   "outputs": [
    {
     "name": "stdout",
     "output_type": "stream",
     "text": [
      "[1] 39903   312\n"
     ]
    },
    {
     "data": {
      "text/html": [
       "<table>\n",
       "<thead><tr><th></th><th scope=col>X1.Eurasian.Beaver</th><th scope=col>X101.Horse</th><th scope=col>X102.Kulan</th><th scope=col>X104.European.Robin</th><th scope=col>X109.Red.Fox</th><th scope=col>X110.Noctule</th><th scope=col>X111.West.European.Hedgehog</th><th scope=col>X112.Eurasian.Sparrowhawk</th><th scope=col>X113.Eurasian.Woodcock</th><th scope=col>X116.Common.Kestrel</th><th scope=col>⋯</th><th scope=col>F46.Ref3.Red.Deer</th><th scope=col>F47.Red.Deer</th><th scope=col>F48.Red.Deer</th><th scope=col>F53.Mouflon</th><th scope=col>F66.Wild.Boar</th><th scope=col>F68.Red.Deer</th><th scope=col>F69.Red.Deer</th><th scope=col>F70.Red.Deer</th><th scope=col>F80.Red.Deer</th><th scope=col>F90.Domestic.Dog</th></tr></thead>\n",
       "<tbody>\n",
       "\t<tr><th scope=row>294344edcaecca464652951ce825a77d</th><td>0</td><td>0</td><td>0</td><td>0</td><td>0</td><td>0</td><td>0</td><td>0</td><td>0</td><td>0</td><td>⋯</td><td>0</td><td>0</td><td>0</td><td>0</td><td>0</td><td>0</td><td>0</td><td>0</td><td>0</td><td>0</td></tr>\n",
       "\t<tr><th scope=row>7a252295ae858fa6f9423b5166344a21</th><td>0</td><td>0</td><td>0</td><td>0</td><td>0</td><td>0</td><td>0</td><td>0</td><td>0</td><td>0</td><td>⋯</td><td>0</td><td>0</td><td>0</td><td>0</td><td>0</td><td>0</td><td>0</td><td>0</td><td>0</td><td>0</td></tr>\n",
       "\t<tr><th scope=row>e49c6b87a2c49db4687078e754ca94da</th><td>0</td><td>0</td><td>0</td><td>0</td><td>0</td><td>0</td><td>0</td><td>0</td><td>0</td><td>0</td><td>⋯</td><td>0</td><td>0</td><td>0</td><td>0</td><td>0</td><td>0</td><td>0</td><td>0</td><td>0</td><td>0</td></tr>\n",
       "</tbody>\n",
       "</table>\n"
      ],
      "text/latex": [
       "\\begin{tabular}{r|llllllllllllllllllllllllllllllllllllllllllllllllllllllllllllllllllllllllllllllllllllllllllllllllllllllllllllllllllllllllllllllllllllllllllllllllllllllllllllllllllllllllllllllllllllllllllllllllllllllllllllllllllllllllllllllllllllllllllllllllllllllllllllllllllllllllllllllllllllllllllllllllllllllllllllllllllllllll}\n",
       "  & X1.Eurasian.Beaver & X101.Horse & X102.Kulan & X104.European.Robin & X109.Red.Fox & X110.Noctule & X111.West.European.Hedgehog & X112.Eurasian.Sparrowhawk & X113.Eurasian.Woodcock & X116.Common.Kestrel & ⋯ & F46.Ref3.Red.Deer & F47.Red.Deer & F48.Red.Deer & F53.Mouflon & F66.Wild.Boar & F68.Red.Deer & F69.Red.Deer & F70.Red.Deer & F80.Red.Deer & F90.Domestic.Dog\\\\\n",
       "\\hline\n",
       "\t294344edcaecca464652951ce825a77d & 0 & 0 & 0 & 0 & 0 & 0 & 0 & 0 & 0 & 0 & ⋯ & 0 & 0 & 0 & 0 & 0 & 0 & 0 & 0 & 0 & 0\\\\\n",
       "\t7a252295ae858fa6f9423b5166344a21 & 0 & 0 & 0 & 0 & 0 & 0 & 0 & 0 & 0 & 0 & ⋯ & 0 & 0 & 0 & 0 & 0 & 0 & 0 & 0 & 0 & 0\\\\\n",
       "\te49c6b87a2c49db4687078e754ca94da & 0 & 0 & 0 & 0 & 0 & 0 & 0 & 0 & 0 & 0 & ⋯ & 0 & 0 & 0 & 0 & 0 & 0 & 0 & 0 & 0 & 0\\\\\n",
       "\\end{tabular}\n"
      ],
      "text/markdown": [
       "\n",
       "| <!--/--> | X1.Eurasian.Beaver | X101.Horse | X102.Kulan | X104.European.Robin | X109.Red.Fox | X110.Noctule | X111.West.European.Hedgehog | X112.Eurasian.Sparrowhawk | X113.Eurasian.Woodcock | X116.Common.Kestrel | ⋯ | F46.Ref3.Red.Deer | F47.Red.Deer | F48.Red.Deer | F53.Mouflon | F66.Wild.Boar | F68.Red.Deer | F69.Red.Deer | F70.Red.Deer | F80.Red.Deer | F90.Domestic.Dog | \n",
       "|---|---|---|\n",
       "| 294344edcaecca464652951ce825a77d | 0 | 0 | 0 | 0 | 0 | 0 | 0 | 0 | 0 | 0 | ⋯ | 0 | 0 | 0 | 0 | 0 | 0 | 0 | 0 | 0 | 0 | \n",
       "| 7a252295ae858fa6f9423b5166344a21 | 0 | 0 | 0 | 0 | 0 | 0 | 0 | 0 | 0 | 0 | ⋯ | 0 | 0 | 0 | 0 | 0 | 0 | 0 | 0 | 0 | 0 | \n",
       "| e49c6b87a2c49db4687078e754ca94da | 0 | 0 | 0 | 0 | 0 | 0 | 0 | 0 | 0 | 0 | ⋯ | 0 | 0 | 0 | 0 | 0 | 0 | 0 | 0 | 0 | 0 | \n",
       "\n",
       "\n"
      ],
      "text/plain": [
       "                                 X1.Eurasian.Beaver X101.Horse X102.Kulan\n",
       "294344edcaecca464652951ce825a77d 0                  0          0         \n",
       "7a252295ae858fa6f9423b5166344a21 0                  0          0         \n",
       "e49c6b87a2c49db4687078e754ca94da 0                  0          0         \n",
       "                                 X104.European.Robin X109.Red.Fox X110.Noctule\n",
       "294344edcaecca464652951ce825a77d 0                   0            0           \n",
       "7a252295ae858fa6f9423b5166344a21 0                   0            0           \n",
       "e49c6b87a2c49db4687078e754ca94da 0                   0            0           \n",
       "                                 X111.West.European.Hedgehog\n",
       "294344edcaecca464652951ce825a77d 0                          \n",
       "7a252295ae858fa6f9423b5166344a21 0                          \n",
       "e49c6b87a2c49db4687078e754ca94da 0                          \n",
       "                                 X112.Eurasian.Sparrowhawk\n",
       "294344edcaecca464652951ce825a77d 0                        \n",
       "7a252295ae858fa6f9423b5166344a21 0                        \n",
       "e49c6b87a2c49db4687078e754ca94da 0                        \n",
       "                                 X113.Eurasian.Woodcock X116.Common.Kestrel ⋯\n",
       "294344edcaecca464652951ce825a77d 0                      0                   ⋯\n",
       "7a252295ae858fa6f9423b5166344a21 0                      0                   ⋯\n",
       "e49c6b87a2c49db4687078e754ca94da 0                      0                   ⋯\n",
       "                                 F46.Ref3.Red.Deer F47.Red.Deer F48.Red.Deer\n",
       "294344edcaecca464652951ce825a77d 0                 0            0           \n",
       "7a252295ae858fa6f9423b5166344a21 0                 0            0           \n",
       "e49c6b87a2c49db4687078e754ca94da 0                 0            0           \n",
       "                                 F53.Mouflon F66.Wild.Boar F68.Red.Deer\n",
       "294344edcaecca464652951ce825a77d 0           0             0           \n",
       "7a252295ae858fa6f9423b5166344a21 0           0             0           \n",
       "e49c6b87a2c49db4687078e754ca94da 0           0             0           \n",
       "                                 F69.Red.Deer F70.Red.Deer F80.Red.Deer\n",
       "294344edcaecca464652951ce825a77d 0            0            0           \n",
       "7a252295ae858fa6f9423b5166344a21 0            0            0           \n",
       "e49c6b87a2c49db4687078e754ca94da 0            0            0           \n",
       "                                 F90.Domestic.Dog\n",
       "294344edcaecca464652951ce825a77d 0               \n",
       "7a252295ae858fa6f9423b5166344a21 0               \n",
       "e49c6b87a2c49db4687078e754ca94da 0               "
      ]
     },
     "metadata": {},
     "output_type": "display_data"
    }
   ],
   "source": [
    "# otu table\n",
    "physeq_otu = read.delim('otu_table.tsv', sep='\\t', skip=1, comment.char='~')\n",
    "rownames(physeq_otu) = physeq_otu$X.OTU.ID\n",
    "physeq_otu$X.OTU.ID = NULL\n",
    "colnames(physeq_otu) = gsub(' $', '', colnames(physeq_otu))\n",
    "\n",
    "physeq_otu %>% status"
   ]
  },
  {
   "cell_type": "code",
   "execution_count": 12,
   "metadata": {
    "ExecuteTime": {
     "end_time": "2018-06-25T14:57:58.536499Z",
     "start_time": "2018-06-25T14:55:34.246Z"
    }
   },
   "outputs": [
    {
     "name": "stdout",
     "output_type": "stream",
     "text": [
      "[1] 390 170\n"
     ]
    },
    {
     "data": {
      "text/html": [
       "<table>\n",
       "<thead><tr><th></th><th scope=col>X.SampleID</th><th scope=col>BarcodeSequence</th><th scope=col>LinkerPrimerSequence</th><th scope=col>Primer</th><th scope=col>ReversePrimer</th><th scope=col>Barcode_ID</th><th scope=col>sample_number</th><th scope=col>host_subject_id</th><th scope=col>host_german_name</th><th scope=col>host_common_name</th><th scope=col>⋯</th><th scope=col>wellplate_position_Illumina</th><th scope=col>Cornell_Dilution_DNA_Illumina</th><th scope=col>Num_Illumina</th><th scope=col>Num</th><th scope=col>sorting_454</th><th scope=col>comments_additional</th><th scope=col>DNA_box_20180622</th><th scope=col>sample_vol_20180622</th><th scope=col>sample_label_20180622</th><th scope=col>Description</th></tr></thead>\n",
       "<tbody>\n",
       "\t<tr><th scope=row>X1.Eurasian.Beaver</th><td>X1.Eurasian.Beaver   </td><td>ACTCACGGTATG         </td><td>CATGCTGCCTCCCGTAGGAGT</td><td>GCCTCCCTCGCGCCATCAG  </td><td>AGAGTTTGATCCTGGCTCAG </td><td>338R_BC0049          </td><td>1                    </td><td>1                    </td><td>Biber                </td><td>Eurasian.Beaver      </td><td>⋯                    </td><td>B12                  </td><td>4                    </td><td>120                  </td><td>18                   </td><td>18                   </td><td>NA                   </td><td>1                    </td><td>20                   </td><td>1                    </td><td>NA                   </td></tr>\n",
       "\t<tr><th scope=row>X2.Raccoon.Dog</th><td>X2.Raccoon.Dog       </td><td>ACTCAGATACTC         </td><td>CATGCTGCCTCCCGTAGGAGT</td><td>GCCTCCCTCGCGCCATCAG  </td><td>AGAGTTTGATCCTGGCTCAG </td><td>338R_BC0050          </td><td>2                    </td><td>2                    </td><td>Marderhund           </td><td>Raccoon.Dog          </td><td>⋯                    </td><td>C1                   </td><td>4                    </td><td>121                  </td><td>19                   </td><td>19                   </td><td>NA                   </td><td>1                    </td><td>20                   </td><td>2                    </td><td>NA                   </td></tr>\n",
       "\t<tr><th scope=row>X3.Alpine.Chamois</th><td>X3.Alpine.Chamois    </td><td>ACTCGCACAGGA         </td><td>CATGCTGCCTCCCGTAGGAGT</td><td>GCCTCCCTCGCGCCATCAG  </td><td>AGAGTTTGATCCTGGCTCAG </td><td>338R_BC0052          </td><td>3                    </td><td>3                    </td><td>Gams                 </td><td>Alpine.Chamois       </td><td>⋯                    </td><td>C2                   </td><td>4                    </td><td>122                  </td><td>20                   </td><td>20                   </td><td>NA                   </td><td>1                    </td><td>20                   </td><td>3                    </td><td>NA                   </td></tr>\n",
       "</tbody>\n",
       "</table>\n"
      ],
      "text/latex": [
       "\\begin{tabular}{r|llllllllllllllllllllllllllllllllllllllllllllllllllllllllllllllllllllllllllllllllllllllllllllllllllllllllllllllllllllllllllllllllllllllllllllllllllllllllllllllllllllllllll}\n",
       "  & X.SampleID & BarcodeSequence & LinkerPrimerSequence & Primer & ReversePrimer & Barcode\\_ID & sample\\_number & host\\_subject\\_id & host\\_german\\_name & host\\_common\\_name & ⋯ & wellplate\\_position\\_Illumina & Cornell\\_Dilution\\_DNA\\_Illumina & Num\\_Illumina & Num & sorting\\_454 & comments\\_additional & DNA\\_box\\_20180622 & sample\\_vol\\_20180622 & sample\\_label\\_20180622 & Description\\\\\n",
       "\\hline\n",
       "\tX1.Eurasian.Beaver & X1.Eurasian.Beaver    & ACTCACGGTATG          & CATGCTGCCTCCCGTAGGAGT & GCCTCCCTCGCGCCATCAG   & AGAGTTTGATCCTGGCTCAG  & 338R\\_BC0049         & 1                     & 1                     & Biber                 & Eurasian.Beaver       & ⋯                     & B12                   & 4                     & 120                   & 18                    & 18                    & NA                    & 1                     & 20                    & 1                     & NA                   \\\\\n",
       "\tX2.Raccoon.Dog & X2.Raccoon.Dog        & ACTCAGATACTC          & CATGCTGCCTCCCGTAGGAGT & GCCTCCCTCGCGCCATCAG   & AGAGTTTGATCCTGGCTCAG  & 338R\\_BC0050         & 2                     & 2                     & Marderhund            & Raccoon.Dog           & ⋯                     & C1                    & 4                     & 121                   & 19                    & 19                    & NA                    & 1                     & 20                    & 2                     & NA                   \\\\\n",
       "\tX3.Alpine.Chamois & X3.Alpine.Chamois     & ACTCGCACAGGA          & CATGCTGCCTCCCGTAGGAGT & GCCTCCCTCGCGCCATCAG   & AGAGTTTGATCCTGGCTCAG  & 338R\\_BC0052         & 3                     & 3                     & Gams                  & Alpine.Chamois        & ⋯                     & C2                    & 4                     & 122                   & 20                    & 20                    & NA                    & 1                     & 20                    & 3                     & NA                   \\\\\n",
       "\\end{tabular}\n"
      ],
      "text/markdown": [
       "\n",
       "| <!--/--> | X.SampleID | BarcodeSequence | LinkerPrimerSequence | Primer | ReversePrimer | Barcode_ID | sample_number | host_subject_id | host_german_name | host_common_name | ⋯ | wellplate_position_Illumina | Cornell_Dilution_DNA_Illumina | Num_Illumina | Num | sorting_454 | comments_additional | DNA_box_20180622 | sample_vol_20180622 | sample_label_20180622 | Description | \n",
       "|---|---|---|\n",
       "| X1.Eurasian.Beaver | X1.Eurasian.Beaver    | ACTCACGGTATG          | CATGCTGCCTCCCGTAGGAGT | GCCTCCCTCGCGCCATCAG   | AGAGTTTGATCCTGGCTCAG  | 338R_BC0049           | 1                     | 1                     | Biber                 | Eurasian.Beaver       | ⋯                     | B12                   | 4                     | 120                   | 18                    | 18                    | NA                    | 1                     | 20                    | 1                     | NA                    | \n",
       "| X2.Raccoon.Dog | X2.Raccoon.Dog        | ACTCAGATACTC          | CATGCTGCCTCCCGTAGGAGT | GCCTCCCTCGCGCCATCAG   | AGAGTTTGATCCTGGCTCAG  | 338R_BC0050           | 2                     | 2                     | Marderhund            | Raccoon.Dog           | ⋯                     | C1                    | 4                     | 121                   | 19                    | 19                    | NA                    | 1                     | 20                    | 2                     | NA                    | \n",
       "| X3.Alpine.Chamois | X3.Alpine.Chamois     | ACTCGCACAGGA          | CATGCTGCCTCCCGTAGGAGT | GCCTCCCTCGCGCCATCAG   | AGAGTTTGATCCTGGCTCAG  | 338R_BC0052           | 3                     | 3                     | Gams                  | Alpine.Chamois        | ⋯                     | C2                    | 4                     | 122                   | 20                    | 20                    | NA                    | 1                     | 20                    | 3                     | NA                    | \n",
       "\n",
       "\n"
      ],
      "text/plain": [
       "                   X.SampleID         BarcodeSequence LinkerPrimerSequence \n",
       "X1.Eurasian.Beaver X1.Eurasian.Beaver ACTCACGGTATG    CATGCTGCCTCCCGTAGGAGT\n",
       "X2.Raccoon.Dog     X2.Raccoon.Dog     ACTCAGATACTC    CATGCTGCCTCCCGTAGGAGT\n",
       "X3.Alpine.Chamois  X3.Alpine.Chamois  ACTCGCACAGGA    CATGCTGCCTCCCGTAGGAGT\n",
       "                   Primer              ReversePrimer        Barcode_ID \n",
       "X1.Eurasian.Beaver GCCTCCCTCGCGCCATCAG AGAGTTTGATCCTGGCTCAG 338R_BC0049\n",
       "X2.Raccoon.Dog     GCCTCCCTCGCGCCATCAG AGAGTTTGATCCTGGCTCAG 338R_BC0050\n",
       "X3.Alpine.Chamois  GCCTCCCTCGCGCCATCAG AGAGTTTGATCCTGGCTCAG 338R_BC0052\n",
       "                   sample_number host_subject_id host_german_name\n",
       "X1.Eurasian.Beaver 1             1               Biber           \n",
       "X2.Raccoon.Dog     2             2               Marderhund      \n",
       "X3.Alpine.Chamois  3             3               Gams            \n",
       "                   host_common_name ⋯ wellplate_position_Illumina\n",
       "X1.Eurasian.Beaver Eurasian.Beaver  ⋯ B12                        \n",
       "X2.Raccoon.Dog     Raccoon.Dog      ⋯ C1                         \n",
       "X3.Alpine.Chamois  Alpine.Chamois   ⋯ C2                         \n",
       "                   Cornell_Dilution_DNA_Illumina Num_Illumina Num sorting_454\n",
       "X1.Eurasian.Beaver 4                             120          18  18         \n",
       "X2.Raccoon.Dog     4                             121          19  19         \n",
       "X3.Alpine.Chamois  4                             122          20  20         \n",
       "                   comments_additional DNA_box_20180622 sample_vol_20180622\n",
       "X1.Eurasian.Beaver NA                  1                20                 \n",
       "X2.Raccoon.Dog     NA                  1                20                 \n",
       "X3.Alpine.Chamois  NA                  1                20                 \n",
       "                   sample_label_20180622 Description\n",
       "X1.Eurasian.Beaver 1                     NA         \n",
       "X2.Raccoon.Dog     2                     NA         \n",
       "X3.Alpine.Chamois  3                     NA         "
      ]
     },
     "metadata": {},
     "output_type": "display_data"
    }
   ],
   "source": [
    "# metadata\n",
    "metadata = read.delim(metadata_file, sep='\\t') %>%\n",
    "    mutate(X.SampleID = gsub('^([0-9])', 'X\\\\1', X.SampleID)) %>%\n",
    "    filter(!grepl('\\\\.fail\\\\.', X.SampleID))\n",
    "rownames(metadata) = metadata$X.SampleID\n",
    "\n",
    "metadata %>% status"
   ]
  },
  {
   "cell_type": "code",
   "execution_count": 13,
   "metadata": {
    "ExecuteTime": {
     "end_time": "2018-06-25T14:57:59.459133Z",
     "start_time": "2018-06-25T14:55:34.249Z"
    }
   },
   "outputs": [
    {
     "name": "stdout",
     "output_type": "stream",
     "text": [
      "[1] 39903     7\n"
     ]
    },
    {
     "data": {
      "text/html": [
       "<table>\n",
       "<thead><tr><th></th><th scope=col>Domain</th><th scope=col>Phylum</th><th scope=col>Class</th><th scope=col>Order</th><th scope=col>Family</th><th scope=col>Genus</th><th scope=col>Species</th></tr></thead>\n",
       "<tbody>\n",
       "\t<tr><th scope=row>0001fc475a4ad532d85da4d26068f1ec</th><td>Bacteria            </td><td>Bacteroidetes       </td><td>Bacteroidia         </td><td>Bacteroidales       </td><td>Rikenellaceae       </td><td>Rikenella           </td><td>uncultured bacterium</td></tr>\n",
       "\t<tr><th scope=row>000288a359abcc5cfb8982766cfd635a</th><td>Bacteria            </td><td>Firmicutes          </td><td>Clostridia          </td><td>Clostridiales       </td><td>Ruminococcaceae     </td><td>uncultured          </td><td>unclassified        </td></tr>\n",
       "\t<tr><th scope=row>000357daf6f2a70a630804dfa4e3cd32</th><td>Bacteria            </td><td>Tenericutes         </td><td>Mollicutes          </td><td>RF9                 </td><td>uncultured bacterium</td><td>                    </td><td>                    </td></tr>\n",
       "</tbody>\n",
       "</table>\n"
      ],
      "text/latex": [
       "\\begin{tabular}{r|lllllll}\n",
       "  & Domain & Phylum & Class & Order & Family & Genus & Species\\\\\n",
       "\\hline\n",
       "\t0001fc475a4ad532d85da4d26068f1ec & Bacteria             & Bacteroidetes        & Bacteroidia          & Bacteroidales        & Rikenellaceae        & Rikenella            & uncultured bacterium\\\\\n",
       "\t000288a359abcc5cfb8982766cfd635a & Bacteria             & Firmicutes           & Clostridia           & Clostridiales        & Ruminococcaceae      & uncultured           & unclassified        \\\\\n",
       "\t000357daf6f2a70a630804dfa4e3cd32 & Bacteria             & Tenericutes          & Mollicutes           & RF9                  & uncultured bacterium &                      &                     \\\\\n",
       "\\end{tabular}\n"
      ],
      "text/markdown": [
       "\n",
       "| <!--/--> | Domain | Phylum | Class | Order | Family | Genus | Species | \n",
       "|---|---|---|\n",
       "| 0001fc475a4ad532d85da4d26068f1ec | Bacteria             | Bacteroidetes        | Bacteroidia          | Bacteroidales        | Rikenellaceae        | Rikenella            | uncultured bacterium | \n",
       "| 000288a359abcc5cfb8982766cfd635a | Bacteria             | Firmicutes           | Clostridia           | Clostridiales        | Ruminococcaceae      | uncultured           | unclassified         | \n",
       "| 000357daf6f2a70a630804dfa4e3cd32 | Bacteria             | Tenericutes          | Mollicutes           | RF9                  | uncultured bacterium |                      |                      | \n",
       "\n",
       "\n"
      ],
      "text/plain": [
       "                                 Domain   Phylum        Class      \n",
       "0001fc475a4ad532d85da4d26068f1ec Bacteria Bacteroidetes Bacteroidia\n",
       "000288a359abcc5cfb8982766cfd635a Bacteria Firmicutes    Clostridia \n",
       "000357daf6f2a70a630804dfa4e3cd32 Bacteria Tenericutes   Mollicutes \n",
       "                                 Order         Family               Genus     \n",
       "0001fc475a4ad532d85da4d26068f1ec Bacteroidales Rikenellaceae        Rikenella \n",
       "000288a359abcc5cfb8982766cfd635a Clostridiales Ruminococcaceae      uncultured\n",
       "000357daf6f2a70a630804dfa4e3cd32 RF9           uncultured bacterium           \n",
       "                                 Species             \n",
       "0001fc475a4ad532d85da4d26068f1ec uncultured bacterium\n",
       "000288a359abcc5cfb8982766cfd635a unclassified        \n",
       "000357daf6f2a70a630804dfa4e3cd32                     "
      ]
     },
     "metadata": {},
     "output_type": "display_data"
    }
   ],
   "source": [
    "# taxonomy \n",
    "physeq_tax = read.delim('taxonomy_L0-6.tsv', sep='\\t') %>%\n",
    "    filter(Feature.ID %in% rownames(physeq_otu))\n",
    "rownames(physeq_tax) = physeq_tax$Feature.ID\n",
    "physeq_tax$Feature.ID = NULL\n",
    "physeq_tax = physeq_tax %>% \n",
    "    dplyr::select(-Confidence)\n",
    "\n",
    "physeq_tax %>% status"
   ]
  },
  {
   "cell_type": "code",
   "execution_count": 14,
   "metadata": {
    "ExecuteTime": {
     "end_time": "2018-06-25T14:58:00.386358Z",
     "start_time": "2018-06-25T14:55:34.255Z"
    }
   },
   "outputs": [
    {
     "data": {
      "text/plain": [
       "\n",
       "Phylogenetic tree with 39903 tips and 39154 internal nodes.\n",
       "\n",
       "Tip labels:\n",
       "\t0df8b90209df33b4c3f5a0a842f65718, ea2df9bcd7f6a10e0fa509d237d19c6d, f0adce016b4c9bba1532f6f1682d4d64, 130b094f31455943fb20899a36af8afd, 34f34bc3bffc1ae78011e33f6bba2dc0, b9b9562a0f34ad60c552f7f46d7a4b3b, ...\n",
       "Node labels:\n",
       "\troot, 0.947, 0.636, 0.838, 0.962, 0.829, ...\n",
       "\n",
       "Rooted; includes branch lengths."
      ]
     },
     "metadata": {},
     "output_type": "display_data"
    }
   ],
   "source": [
    "# tree \n",
    "tree = ape::read.tree('tree.nwk')\n",
    "tree"
   ]
  },
  {
   "cell_type": "markdown",
   "metadata": {},
   "source": [
    "## Checks"
   ]
  },
  {
   "cell_type": "code",
   "execution_count": 15,
   "metadata": {
    "ExecuteTime": {
     "end_time": "2018-06-25T14:58:00.470504Z",
     "start_time": "2018-06-25T14:55:34.256Z"
    }
   },
   "outputs": [
    {
     "data": {
      "text/html": [
       "TRUE"
      ],
      "text/latex": [
       "TRUE"
      ],
      "text/markdown": [
       "TRUE"
      ],
      "text/plain": [
       "[1] TRUE"
      ]
     },
     "metadata": {},
     "output_type": "display_data"
    }
   ],
   "source": [
    "# rooted tree?\n",
    "ape::is.rooted(tree)"
   ]
  },
  {
   "cell_type": "markdown",
   "metadata": {},
   "source": [
    "# Formatting metadata"
   ]
  },
  {
   "cell_type": "code",
   "execution_count": 16,
   "metadata": {
    "ExecuteTime": {
     "end_time": "2018-06-25T14:58:00.541620Z",
     "start_time": "2018-06-25T14:55:34.260Z"
    }
   },
   "outputs": [
    {
     "data": {
      "text/html": [
       "<table>\n",
       "<thead><tr><th scope=col>host_subject_id</th><th scope=col>n</th></tr></thead>\n",
       "<tbody>\n",
       "\t<tr><td>142</td><td> 5 </td></tr>\n",
       "\t<tr><td>195</td><td> 6 </td></tr>\n",
       "\t<tr><td>204</td><td> 8 </td></tr>\n",
       "\t<tr><td>313</td><td>12 </td></tr>\n",
       "</tbody>\n",
       "</table>\n"
      ],
      "text/latex": [
       "\\begin{tabular}{r|ll}\n",
       " host\\_subject\\_id & n\\\\\n",
       "\\hline\n",
       "\t 142 &  5 \\\\\n",
       "\t 195 &  6 \\\\\n",
       "\t 204 &  8 \\\\\n",
       "\t 313 & 12 \\\\\n",
       "\\end{tabular}\n"
      ],
      "text/markdown": [
       "\n",
       "host_subject_id | n | \n",
       "|---|---|---|---|\n",
       "| 142 |  5  | \n",
       "| 195 |  6  | \n",
       "| 204 |  8  | \n",
       "| 313 | 12  | \n",
       "\n",
       "\n"
      ],
      "text/plain": [
       "  host_subject_id n \n",
       "1 142              5\n",
       "2 195              6\n",
       "3 204              8\n",
       "4 313             12"
      ]
     },
     "metadata": {},
     "output_type": "display_data"
    }
   ],
   "source": [
    "# multiple samples per individual?\n",
    "metadata %>%\n",
    "    group_by(host_subject_id) %>%\n",
    "    summarize(n=n()) %>%\n",
    "    ungroup() %>%\n",
    "    filter(n > 1)"
   ]
  },
  {
   "cell_type": "code",
   "execution_count": 17,
   "metadata": {
    "ExecuteTime": {
     "end_time": "2018-06-25T14:58:00.803126Z",
     "start_time": "2018-06-25T14:55:34.264Z"
    }
   },
   "outputs": [
    {
     "data": {
      "text/html": [
       "<table>\n",
       "<thead><tr><th scope=col>X.SampleID</th><th scope=col>lat_lon</th><th scope=col>country</th><th scope=col>collection_date</th></tr></thead>\n",
       "<tbody>\n",
       "\t<tr><td>X142.Cattle        </td><td>50.59549 12.6386475</td><td>Austria            </td><td>6/12/09            </td></tr>\n",
       "\t<tr><td>X144.Cattle        </td><td>50.59549 12.6386475</td><td>Austria            </td><td>6/17/09            </td></tr>\n",
       "\t<tr><td>X146.Cattle        </td><td>50.59549 12.6386475</td><td>Austria            </td><td>7/1/09             </td></tr>\n",
       "\t<tr><td>X148.Cattle        </td><td>50.59549 12.6386475</td><td>Austria            </td><td>7/21/09            </td></tr>\n",
       "\t<tr><td>X150.Cattle        </td><td>50.59549 12.6386475</td><td>Austria            </td><td>8/12/09            </td></tr>\n",
       "\t<tr><td>X195.Domestic.Cat  </td><td>48.20833 16.373064 </td><td>Austria            </td><td>10/15/12           </td></tr>\n",
       "\t<tr><td>X196.Domestic.Cat  </td><td>48.20833 16.373064 </td><td>Austria            </td><td>10/31/12           </td></tr>\n",
       "\t<tr><td>X204.Red.Sheep     </td><td>47.726944 16.081667</td><td>Austria            </td><td>1/10/12            </td></tr>\n",
       "\t<tr><td>X205.Red.Sheep     </td><td>47.726944 16.081667</td><td>Austria            </td><td>2/6/12             </td></tr>\n",
       "\t<tr><td>X206.Red.Sheep     </td><td>47.726944 16.081667</td><td>Austria            </td><td>2/29/12            </td></tr>\n",
       "\t<tr><td>X207.Red.Sheep     </td><td>47.726944 16.081667</td><td>Austria            </td><td>3/30/12            </td></tr>\n",
       "\t<tr><td>X208.Red.Sheep     </td><td>47.726944 16.081667</td><td>Austria            </td><td>4/16/12            </td></tr>\n",
       "\t<tr><td>X209.Red.Sheep     </td><td>47.726944 16.081667</td><td>Austria            </td><td>5/26/12            </td></tr>\n",
       "\t<tr><td>X210.Red.Sheep     </td><td>47.726944 16.081667</td><td>Austria            </td><td>6/29/12            </td></tr>\n",
       "\t<tr><td>X211.Red.Sheep     </td><td>47.726944 16.081667</td><td>Austria            </td><td>7/27/12            </td></tr>\n",
       "\t<tr><td>X309.Domestic.Cat  </td><td>48.20833 16.373064 </td><td>Austria            </td><td>11/30/12           </td></tr>\n",
       "\t<tr><td>X310.Domestic.Cat  </td><td>48.20833 16.373064 </td><td>Austria            </td><td>12/18/12           </td></tr>\n",
       "\t<tr><td>X311.Domestic.Cat  </td><td>48.20833 16.373064 </td><td>Austria            </td><td>1/7/13             </td></tr>\n",
       "\t<tr><td>X312.Domestic.Cat  </td><td>48.20833 16.373064 </td><td>Austria            </td><td>2/19/13            </td></tr>\n",
       "\t<tr><td>X313.Red.Deer      </td><td>48.20833 16.373064 </td><td>Austria            </td><td>8/4/11             </td></tr>\n",
       "\t<tr><td>X314.Red.Deer      </td><td>48.20833 16.373064 </td><td>Austria            </td><td>9/13/11            </td></tr>\n",
       "\t<tr><td>X315.Red.Deer      </td><td>48.20833 16.373064 </td><td>Austria            </td><td>7/1/11             </td></tr>\n",
       "\t<tr><td>X316.Red.Deer      </td><td>48.20833 16.373064 </td><td>Austria            </td><td>11/7/11            </td></tr>\n",
       "\t<tr><td>X317.Red.Deer      </td><td>48.20833 16.373064 </td><td>Austria            </td><td>12/13/11           </td></tr>\n",
       "\t<tr><td>X318.Red.Deer      </td><td>48.20833 16.373064 </td><td>Austria            </td><td>1/18/12            </td></tr>\n",
       "\t<tr><td>X319.Red.Deer      </td><td>48.20833 16.373064 </td><td>Austria            </td><td>2/16/12            </td></tr>\n",
       "\t<tr><td>X320.Red.Deer      </td><td>48.20833 16.373064 </td><td>Austria            </td><td>3/26/12            </td></tr>\n",
       "\t<tr><td>X321.Red.Deer      </td><td>48.20833 16.373064 </td><td>Austria            </td><td>4/19/12            </td></tr>\n",
       "\t<tr><td>X322.Red.Deer      </td><td>48.20833 16.373064 </td><td>Austria            </td><td>5/2/12             </td></tr>\n",
       "\t<tr><td>X323.Red.Deer      </td><td>48.20833 16.373064 </td><td>Austria            </td><td>6/13/12            </td></tr>\n",
       "\t<tr><td>X324.Red.Deer      </td><td>48.20833 16.373064 </td><td>Austria            </td><td>7/6/12             </td></tr>\n",
       "</tbody>\n",
       "</table>\n"
      ],
      "text/latex": [
       "\\begin{tabular}{r|llll}\n",
       " X.SampleID & lat\\_lon & country & collection\\_date\\\\\n",
       "\\hline\n",
       "\t X142.Cattle         & 50.59549 12.6386475 & Austria             & 6/12/09            \\\\\n",
       "\t X144.Cattle         & 50.59549 12.6386475 & Austria             & 6/17/09            \\\\\n",
       "\t X146.Cattle         & 50.59549 12.6386475 & Austria             & 7/1/09             \\\\\n",
       "\t X148.Cattle         & 50.59549 12.6386475 & Austria             & 7/21/09            \\\\\n",
       "\t X150.Cattle         & 50.59549 12.6386475 & Austria             & 8/12/09            \\\\\n",
       "\t X195.Domestic.Cat   & 48.20833 16.373064  & Austria             & 10/15/12           \\\\\n",
       "\t X196.Domestic.Cat   & 48.20833 16.373064  & Austria             & 10/31/12           \\\\\n",
       "\t X204.Red.Sheep      & 47.726944 16.081667 & Austria             & 1/10/12            \\\\\n",
       "\t X205.Red.Sheep      & 47.726944 16.081667 & Austria             & 2/6/12             \\\\\n",
       "\t X206.Red.Sheep      & 47.726944 16.081667 & Austria             & 2/29/12            \\\\\n",
       "\t X207.Red.Sheep      & 47.726944 16.081667 & Austria             & 3/30/12            \\\\\n",
       "\t X208.Red.Sheep      & 47.726944 16.081667 & Austria             & 4/16/12            \\\\\n",
       "\t X209.Red.Sheep      & 47.726944 16.081667 & Austria             & 5/26/12            \\\\\n",
       "\t X210.Red.Sheep      & 47.726944 16.081667 & Austria             & 6/29/12            \\\\\n",
       "\t X211.Red.Sheep      & 47.726944 16.081667 & Austria             & 7/27/12            \\\\\n",
       "\t X309.Domestic.Cat   & 48.20833 16.373064  & Austria             & 11/30/12           \\\\\n",
       "\t X310.Domestic.Cat   & 48.20833 16.373064  & Austria             & 12/18/12           \\\\\n",
       "\t X311.Domestic.Cat   & 48.20833 16.373064  & Austria             & 1/7/13             \\\\\n",
       "\t X312.Domestic.Cat   & 48.20833 16.373064  & Austria             & 2/19/13            \\\\\n",
       "\t X313.Red.Deer       & 48.20833 16.373064  & Austria             & 8/4/11             \\\\\n",
       "\t X314.Red.Deer       & 48.20833 16.373064  & Austria             & 9/13/11            \\\\\n",
       "\t X315.Red.Deer       & 48.20833 16.373064  & Austria             & 7/1/11             \\\\\n",
       "\t X316.Red.Deer       & 48.20833 16.373064  & Austria             & 11/7/11            \\\\\n",
       "\t X317.Red.Deer       & 48.20833 16.373064  & Austria             & 12/13/11           \\\\\n",
       "\t X318.Red.Deer       & 48.20833 16.373064  & Austria             & 1/18/12            \\\\\n",
       "\t X319.Red.Deer       & 48.20833 16.373064  & Austria             & 2/16/12            \\\\\n",
       "\t X320.Red.Deer       & 48.20833 16.373064  & Austria             & 3/26/12            \\\\\n",
       "\t X321.Red.Deer       & 48.20833 16.373064  & Austria             & 4/19/12            \\\\\n",
       "\t X322.Red.Deer       & 48.20833 16.373064  & Austria             & 5/2/12             \\\\\n",
       "\t X323.Red.Deer       & 48.20833 16.373064  & Austria             & 6/13/12            \\\\\n",
       "\t X324.Red.Deer       & 48.20833 16.373064  & Austria             & 7/6/12             \\\\\n",
       "\\end{tabular}\n"
      ],
      "text/markdown": [
       "\n",
       "X.SampleID | lat_lon | country | collection_date | \n",
       "|---|---|---|---|---|---|---|---|---|---|---|---|---|---|---|---|---|---|---|---|---|---|---|---|---|---|---|---|---|---|---|\n",
       "| X142.Cattle         | 50.59549 12.6386475 | Austria             | 6/12/09             | \n",
       "| X144.Cattle         | 50.59549 12.6386475 | Austria             | 6/17/09             | \n",
       "| X146.Cattle         | 50.59549 12.6386475 | Austria             | 7/1/09              | \n",
       "| X148.Cattle         | 50.59549 12.6386475 | Austria             | 7/21/09             | \n",
       "| X150.Cattle         | 50.59549 12.6386475 | Austria             | 8/12/09             | \n",
       "| X195.Domestic.Cat   | 48.20833 16.373064  | Austria             | 10/15/12            | \n",
       "| X196.Domestic.Cat   | 48.20833 16.373064  | Austria             | 10/31/12            | \n",
       "| X204.Red.Sheep      | 47.726944 16.081667 | Austria             | 1/10/12             | \n",
       "| X205.Red.Sheep      | 47.726944 16.081667 | Austria             | 2/6/12              | \n",
       "| X206.Red.Sheep      | 47.726944 16.081667 | Austria             | 2/29/12             | \n",
       "| X207.Red.Sheep      | 47.726944 16.081667 | Austria             | 3/30/12             | \n",
       "| X208.Red.Sheep      | 47.726944 16.081667 | Austria             | 4/16/12             | \n",
       "| X209.Red.Sheep      | 47.726944 16.081667 | Austria             | 5/26/12             | \n",
       "| X210.Red.Sheep      | 47.726944 16.081667 | Austria             | 6/29/12             | \n",
       "| X211.Red.Sheep      | 47.726944 16.081667 | Austria             | 7/27/12             | \n",
       "| X309.Domestic.Cat   | 48.20833 16.373064  | Austria             | 11/30/12            | \n",
       "| X310.Domestic.Cat   | 48.20833 16.373064  | Austria             | 12/18/12            | \n",
       "| X311.Domestic.Cat   | 48.20833 16.373064  | Austria             | 1/7/13              | \n",
       "| X312.Domestic.Cat   | 48.20833 16.373064  | Austria             | 2/19/13             | \n",
       "| X313.Red.Deer       | 48.20833 16.373064  | Austria             | 8/4/11              | \n",
       "| X314.Red.Deer       | 48.20833 16.373064  | Austria             | 9/13/11             | \n",
       "| X315.Red.Deer       | 48.20833 16.373064  | Austria             | 7/1/11              | \n",
       "| X316.Red.Deer       | 48.20833 16.373064  | Austria             | 11/7/11             | \n",
       "| X317.Red.Deer       | 48.20833 16.373064  | Austria             | 12/13/11            | \n",
       "| X318.Red.Deer       | 48.20833 16.373064  | Austria             | 1/18/12             | \n",
       "| X319.Red.Deer       | 48.20833 16.373064  | Austria             | 2/16/12             | \n",
       "| X320.Red.Deer       | 48.20833 16.373064  | Austria             | 3/26/12             | \n",
       "| X321.Red.Deer       | 48.20833 16.373064  | Austria             | 4/19/12             | \n",
       "| X322.Red.Deer       | 48.20833 16.373064  | Austria             | 5/2/12              | \n",
       "| X323.Red.Deer       | 48.20833 16.373064  | Austria             | 6/13/12             | \n",
       "| X324.Red.Deer       | 48.20833 16.373064  | Austria             | 7/6/12              | \n",
       "\n",
       "\n"
      ],
      "text/plain": [
       "   X.SampleID        lat_lon             country collection_date\n",
       "1  X142.Cattle       50.59549 12.6386475 Austria 6/12/09        \n",
       "2  X144.Cattle       50.59549 12.6386475 Austria 6/17/09        \n",
       "3  X146.Cattle       50.59549 12.6386475 Austria 7/1/09         \n",
       "4  X148.Cattle       50.59549 12.6386475 Austria 7/21/09        \n",
       "5  X150.Cattle       50.59549 12.6386475 Austria 8/12/09        \n",
       "6  X195.Domestic.Cat 48.20833 16.373064  Austria 10/15/12       \n",
       "7  X196.Domestic.Cat 48.20833 16.373064  Austria 10/31/12       \n",
       "8  X204.Red.Sheep    47.726944 16.081667 Austria 1/10/12        \n",
       "9  X205.Red.Sheep    47.726944 16.081667 Austria 2/6/12         \n",
       "10 X206.Red.Sheep    47.726944 16.081667 Austria 2/29/12        \n",
       "11 X207.Red.Sheep    47.726944 16.081667 Austria 3/30/12        \n",
       "12 X208.Red.Sheep    47.726944 16.081667 Austria 4/16/12        \n",
       "13 X209.Red.Sheep    47.726944 16.081667 Austria 5/26/12        \n",
       "14 X210.Red.Sheep    47.726944 16.081667 Austria 6/29/12        \n",
       "15 X211.Red.Sheep    47.726944 16.081667 Austria 7/27/12        \n",
       "16 X309.Domestic.Cat 48.20833 16.373064  Austria 11/30/12       \n",
       "17 X310.Domestic.Cat 48.20833 16.373064  Austria 12/18/12       \n",
       "18 X311.Domestic.Cat 48.20833 16.373064  Austria 1/7/13         \n",
       "19 X312.Domestic.Cat 48.20833 16.373064  Austria 2/19/13        \n",
       "20 X313.Red.Deer     48.20833 16.373064  Austria 8/4/11         \n",
       "21 X314.Red.Deer     48.20833 16.373064  Austria 9/13/11        \n",
       "22 X315.Red.Deer     48.20833 16.373064  Austria 7/1/11         \n",
       "23 X316.Red.Deer     48.20833 16.373064  Austria 11/7/11        \n",
       "24 X317.Red.Deer     48.20833 16.373064  Austria 12/13/11       \n",
       "25 X318.Red.Deer     48.20833 16.373064  Austria 1/18/12        \n",
       "26 X319.Red.Deer     48.20833 16.373064  Austria 2/16/12        \n",
       "27 X320.Red.Deer     48.20833 16.373064  Austria 3/26/12        \n",
       "28 X321.Red.Deer     48.20833 16.373064  Austria 4/19/12        \n",
       "29 X322.Red.Deer     48.20833 16.373064  Austria 5/2/12         \n",
       "30 X323.Red.Deer     48.20833 16.373064  Austria 6/13/12        \n",
       "31 X324.Red.Deer     48.20833 16.373064  Austria 7/6/12         "
      ]
     },
     "metadata": {},
     "output_type": "display_data"
    }
   ],
   "source": [
    "# check that these samples are indeed from the same host\n",
    "metadata %>%\n",
    "    group_by(host_subject_id) %>%\n",
    "    mutate(n=n()) %>%\n",
    "    ungroup() %>%\n",
    "    filter(n > 1) %>%\n",
    "    dplyr::select(X.SampleID, lat_lon, country, collection_date)"
   ]
  },
  {
   "cell_type": "code",
   "execution_count": 18,
   "metadata": {
    "ExecuteTime": {
     "end_time": "2018-06-25T14:58:02.200571Z",
     "start_time": "2018-06-25T14:55:34.269Z"
    }
   },
   "outputs": [
    {
     "name": "stdout",
     "output_type": "stream",
     "text": [
      "[1] 363 170\n"
     ]
    },
    {
     "data": {
      "text/html": [
       "<table>\n",
       "<thead><tr><th scope=col>X.SampleID</th><th scope=col>BarcodeSequence</th><th scope=col>LinkerPrimerSequence</th><th scope=col>Primer</th><th scope=col>ReversePrimer</th><th scope=col>Barcode_ID</th><th scope=col>sample_number</th><th scope=col>host_subject_id</th><th scope=col>host_german_name</th><th scope=col>host_common_name</th><th scope=col>⋯</th><th scope=col>wellplate_position_Illumina</th><th scope=col>Cornell_Dilution_DNA_Illumina</th><th scope=col>Num_Illumina</th><th scope=col>Num</th><th scope=col>sorting_454</th><th scope=col>comments_additional</th><th scope=col>DNA_box_20180622</th><th scope=col>sample_vol_20180622</th><th scope=col>sample_label_20180622</th><th scope=col>Description</th></tr></thead>\n",
       "<tbody>\n",
       "\t<tr><td>X1.Eurasian.Beaver   </td><td>ACTCACGGTATG         </td><td>CATGCTGCCTCCCGTAGGAGT</td><td>GCCTCCCTCGCGCCATCAG  </td><td>AGAGTTTGATCCTGGCTCAG </td><td>338R_BC0049          </td><td>1                    </td><td>1                    </td><td>Biber                </td><td>Eurasian.Beaver      </td><td>⋯                    </td><td>B12                  </td><td> 4                   </td><td>120                  </td><td> 18                  </td><td>18                   </td><td>NA                   </td><td>1                    </td><td>20                   </td><td>1                    </td><td>NA                   </td></tr>\n",
       "\t<tr><td>X10.House.Mouse      </td><td>ACTGTGACTTCA         </td><td>CATGCTGCCTCCCGTAGGAGT</td><td>GCCTCCCTCGCGCCATCAG  </td><td>AGAGTTTGATCCTGGCTCAG </td><td>338R_BC0058          </td><td>10                   </td><td>10                   </td><td>Hausmaus             </td><td>House.Mouse          </td><td>⋯                    </td><td>C8                   </td><td> 4                   </td><td>128                  </td><td> 27                  </td><td>27                   </td><td>NA                   </td><td>1                    </td><td>20                   </td><td>10                   </td><td>NA                   </td></tr>\n",
       "\t<tr><td>X101.Horse           </td><td>ACGACGTCTTAG         </td><td>CATGCTGCCTCCCGTAGGAGT</td><td>GCCTCCCTCGCGCCATCAG  </td><td>AGAGTTTGATCCTGGCTCAG </td><td>338R_BC0030          </td><td>101                  </td><td>101                  </td><td>Hauspferd            </td><td>Horse                </td><td>⋯                    </td><td>E8                   </td><td>16                   </td><td>344                  </td><td>160                  </td><td>160                  </td><td>NA                   </td><td>2                    </td><td>20                   </td><td>101                  </td><td>NA                   </td></tr>\n",
       "</tbody>\n",
       "</table>\n"
      ],
      "text/latex": [
       "\\begin{tabular}{r|llllllllllllllllllllllllllllllllllllllllllllllllllllllllllllllllllllllllllllllllllllllllllllllllllllllllllllllllllllllllllllllllllllllllllllllllllllllllllllllllllllllllll}\n",
       " X.SampleID & BarcodeSequence & LinkerPrimerSequence & Primer & ReversePrimer & Barcode\\_ID & sample\\_number & host\\_subject\\_id & host\\_german\\_name & host\\_common\\_name & ⋯ & wellplate\\_position\\_Illumina & Cornell\\_Dilution\\_DNA\\_Illumina & Num\\_Illumina & Num & sorting\\_454 & comments\\_additional & DNA\\_box\\_20180622 & sample\\_vol\\_20180622 & sample\\_label\\_20180622 & Description\\\\\n",
       "\\hline\n",
       "\t X1.Eurasian.Beaver    & ACTCACGGTATG          & CATGCTGCCTCCCGTAGGAGT & GCCTCCCTCGCGCCATCAG   & AGAGTTTGATCCTGGCTCAG  & 338R\\_BC0049         & 1                     & 1                     & Biber                 & Eurasian.Beaver       & ⋯                     & B12                   &  4                    & 120                   &  18                   & 18                    & NA                    & 1                     & 20                    & 1                     & NA                   \\\\\n",
       "\t X10.House.Mouse       & ACTGTGACTTCA          & CATGCTGCCTCCCGTAGGAGT & GCCTCCCTCGCGCCATCAG   & AGAGTTTGATCCTGGCTCAG  & 338R\\_BC0058         & 10                    & 10                    & Hausmaus              & House.Mouse           & ⋯                     & C8                    &  4                    & 128                   &  27                   & 27                    & NA                    & 1                     & 20                    & 10                    & NA                   \\\\\n",
       "\t X101.Horse            & ACGACGTCTTAG          & CATGCTGCCTCCCGTAGGAGT & GCCTCCCTCGCGCCATCAG   & AGAGTTTGATCCTGGCTCAG  & 338R\\_BC0030         & 101                   & 101                   & Hauspferd             & Horse                 & ⋯                     & E8                    & 16                    & 344                   & 160                   & 160                   & NA                    & 2                     & 20                    & 101                   & NA                   \\\\\n",
       "\\end{tabular}\n"
      ],
      "text/markdown": [
       "\n",
       "X.SampleID | BarcodeSequence | LinkerPrimerSequence | Primer | ReversePrimer | Barcode_ID | sample_number | host_subject_id | host_german_name | host_common_name | ⋯ | wellplate_position_Illumina | Cornell_Dilution_DNA_Illumina | Num_Illumina | Num | sorting_454 | comments_additional | DNA_box_20180622 | sample_vol_20180622 | sample_label_20180622 | Description | \n",
       "|---|---|---|\n",
       "| X1.Eurasian.Beaver    | ACTCACGGTATG          | CATGCTGCCTCCCGTAGGAGT | GCCTCCCTCGCGCCATCAG   | AGAGTTTGATCCTGGCTCAG  | 338R_BC0049           | 1                     | 1                     | Biber                 | Eurasian.Beaver       | ⋯                     | B12                   |  4                    | 120                   |  18                   | 18                    | NA                    | 1                     | 20                    | 1                     | NA                    | \n",
       "| X10.House.Mouse       | ACTGTGACTTCA          | CATGCTGCCTCCCGTAGGAGT | GCCTCCCTCGCGCCATCAG   | AGAGTTTGATCCTGGCTCAG  | 338R_BC0058           | 10                    | 10                    | Hausmaus              | House.Mouse           | ⋯                     | C8                    |  4                    | 128                   |  27                   | 27                    | NA                    | 1                     | 20                    | 10                    | NA                    | \n",
       "| X101.Horse            | ACGACGTCTTAG          | CATGCTGCCTCCCGTAGGAGT | GCCTCCCTCGCGCCATCAG   | AGAGTTTGATCCTGGCTCAG  | 338R_BC0030           | 101                   | 101                   | Hauspferd             | Horse                 | ⋯                     | E8                    | 16                    | 344                   | 160                   | 160                   | NA                    | 2                     | 20                    | 101                   | NA                    | \n",
       "\n",
       "\n"
      ],
      "text/plain": [
       "  X.SampleID         BarcodeSequence LinkerPrimerSequence  Primer             \n",
       "1 X1.Eurasian.Beaver ACTCACGGTATG    CATGCTGCCTCCCGTAGGAGT GCCTCCCTCGCGCCATCAG\n",
       "2 X10.House.Mouse    ACTGTGACTTCA    CATGCTGCCTCCCGTAGGAGT GCCTCCCTCGCGCCATCAG\n",
       "3 X101.Horse         ACGACGTCTTAG    CATGCTGCCTCCCGTAGGAGT GCCTCCCTCGCGCCATCAG\n",
       "  ReversePrimer        Barcode_ID  sample_number host_subject_id\n",
       "1 AGAGTTTGATCCTGGCTCAG 338R_BC0049 1             1              \n",
       "2 AGAGTTTGATCCTGGCTCAG 338R_BC0058 10            10             \n",
       "3 AGAGTTTGATCCTGGCTCAG 338R_BC0030 101           101            \n",
       "  host_german_name host_common_name ⋯ wellplate_position_Illumina\n",
       "1 Biber            Eurasian.Beaver  ⋯ B12                        \n",
       "2 Hausmaus         House.Mouse      ⋯ C8                         \n",
       "3 Hauspferd        Horse            ⋯ E8                         \n",
       "  Cornell_Dilution_DNA_Illumina Num_Illumina Num sorting_454\n",
       "1  4                            120           18 18         \n",
       "2  4                            128           27 27         \n",
       "3 16                            344          160 160        \n",
       "  comments_additional DNA_box_20180622 sample_vol_20180622\n",
       "1 NA                  1                20                 \n",
       "2 NA                  1                20                 \n",
       "3 NA                  2                20                 \n",
       "  sample_label_20180622 Description\n",
       "1 1                     NA         \n",
       "2 10                    NA         \n",
       "3 101                   NA         "
      ]
     },
     "metadata": {},
     "output_type": "display_data"
    }
   ],
   "source": [
    "# random selection of one sample per host\n",
    "metadata = metadata %>%\n",
    "    group_by(host_subject_id) %>%\n",
    "    sample_n(1) %>%\n",
    "    ungroup()\n",
    "\n",
    "metadata %>% status"
   ]
  },
  {
   "cell_type": "code",
   "execution_count": 19,
   "metadata": {
    "ExecuteTime": {
     "end_time": "2018-06-25T14:58:02.406751Z",
     "start_time": "2018-06-25T14:55:34.272Z"
    }
   },
   "outputs": [
    {
     "name": "stdout",
     "output_type": "stream",
     "text": [
      "    latitude        longitude     \n",
      " Min.   :-35.83   Min.   :-84.10  \n",
      " 1st Qu.: 47.06   1st Qu.: 15.47  \n",
      " Median : 48.18   Median : 16.37  \n",
      " Mean   : 36.89   Mean   : 25.05  \n",
      " 3rd Qu.: 48.24   3rd Qu.: 16.80  \n",
      " Max.   : 55.29   Max.   :140.12  \n",
      "[1] 363 171\n"
     ]
    },
    {
     "data": {
      "text/html": [
       "<table>\n",
       "<thead><tr><th scope=col>X.SampleID</th><th scope=col>BarcodeSequence</th><th scope=col>LinkerPrimerSequence</th><th scope=col>Primer</th><th scope=col>ReversePrimer</th><th scope=col>Barcode_ID</th><th scope=col>sample_number</th><th scope=col>host_subject_id</th><th scope=col>host_german_name</th><th scope=col>host_common_name</th><th scope=col>⋯</th><th scope=col>wellplate_position_Illumina</th><th scope=col>Cornell_Dilution_DNA_Illumina</th><th scope=col>Num_Illumina</th><th scope=col>Num</th><th scope=col>sorting_454</th><th scope=col>comments_additional</th><th scope=col>DNA_box_20180622</th><th scope=col>sample_vol_20180622</th><th scope=col>sample_label_20180622</th><th scope=col>Description</th></tr></thead>\n",
       "<tbody>\n",
       "\t<tr><td>X1.Eurasian.Beaver   </td><td>ACTCACGGTATG         </td><td>CATGCTGCCTCCCGTAGGAGT</td><td>GCCTCCCTCGCGCCATCAG  </td><td>AGAGTTTGATCCTGGCTCAG </td><td>338R_BC0049          </td><td>1                    </td><td>1                    </td><td>Biber                </td><td>Eurasian.Beaver      </td><td>⋯                    </td><td>B12                  </td><td> 4                   </td><td>120                  </td><td> 18                  </td><td>18                   </td><td>NA                   </td><td>1                    </td><td>20                   </td><td>1                    </td><td>NA                   </td></tr>\n",
       "\t<tr><td>X10.House.Mouse      </td><td>ACTGTGACTTCA         </td><td>CATGCTGCCTCCCGTAGGAGT</td><td>GCCTCCCTCGCGCCATCAG  </td><td>AGAGTTTGATCCTGGCTCAG </td><td>338R_BC0058          </td><td>10                   </td><td>10                   </td><td>Hausmaus             </td><td>House.Mouse          </td><td>⋯                    </td><td>C8                   </td><td> 4                   </td><td>128                  </td><td> 27                  </td><td>27                   </td><td>NA                   </td><td>1                    </td><td>20                   </td><td>10                   </td><td>NA                   </td></tr>\n",
       "\t<tr><td>X101.Horse           </td><td>ACGACGTCTTAG         </td><td>CATGCTGCCTCCCGTAGGAGT</td><td>GCCTCCCTCGCGCCATCAG  </td><td>AGAGTTTGATCCTGGCTCAG </td><td>338R_BC0030          </td><td>101                  </td><td>101                  </td><td>Hauspferd            </td><td>Horse                </td><td>⋯                    </td><td>E8                   </td><td>16                   </td><td>344                  </td><td>160                  </td><td>160                  </td><td>NA                   </td><td>2                    </td><td>20                   </td><td>101                  </td><td>NA                   </td></tr>\n",
       "</tbody>\n",
       "</table>\n"
      ],
      "text/latex": [
       "\\begin{tabular}{r|lllllllllllllllllllllllllllllllllllllllllllllllllllllllllllllllllllllllllllllllllllllllllllllllllllllllllllllllllllllllllllllllllllllllllllllllllllllllllllllllllllllllllll}\n",
       " X.SampleID & BarcodeSequence & LinkerPrimerSequence & Primer & ReversePrimer & Barcode\\_ID & sample\\_number & host\\_subject\\_id & host\\_german\\_name & host\\_common\\_name & ⋯ & wellplate\\_position\\_Illumina & Cornell\\_Dilution\\_DNA\\_Illumina & Num\\_Illumina & Num & sorting\\_454 & comments\\_additional & DNA\\_box\\_20180622 & sample\\_vol\\_20180622 & sample\\_label\\_20180622 & Description\\\\\n",
       "\\hline\n",
       "\t X1.Eurasian.Beaver    & ACTCACGGTATG          & CATGCTGCCTCCCGTAGGAGT & GCCTCCCTCGCGCCATCAG   & AGAGTTTGATCCTGGCTCAG  & 338R\\_BC0049         & 1                     & 1                     & Biber                 & Eurasian.Beaver       & ⋯                     & B12                   &  4                    & 120                   &  18                   & 18                    & NA                    & 1                     & 20                    & 1                     & NA                   \\\\\n",
       "\t X10.House.Mouse       & ACTGTGACTTCA          & CATGCTGCCTCCCGTAGGAGT & GCCTCCCTCGCGCCATCAG   & AGAGTTTGATCCTGGCTCAG  & 338R\\_BC0058         & 10                    & 10                    & Hausmaus              & House.Mouse           & ⋯                     & C8                    &  4                    & 128                   &  27                   & 27                    & NA                    & 1                     & 20                    & 10                    & NA                   \\\\\n",
       "\t X101.Horse            & ACGACGTCTTAG          & CATGCTGCCTCCCGTAGGAGT & GCCTCCCTCGCGCCATCAG   & AGAGTTTGATCCTGGCTCAG  & 338R\\_BC0030         & 101                   & 101                   & Hauspferd             & Horse                 & ⋯                     & E8                    & 16                    & 344                   & 160                   & 160                   & NA                    & 2                     & 20                    & 101                   & NA                   \\\\\n",
       "\\end{tabular}\n"
      ],
      "text/markdown": [
       "\n",
       "X.SampleID | BarcodeSequence | LinkerPrimerSequence | Primer | ReversePrimer | Barcode_ID | sample_number | host_subject_id | host_german_name | host_common_name | ⋯ | wellplate_position_Illumina | Cornell_Dilution_DNA_Illumina | Num_Illumina | Num | sorting_454 | comments_additional | DNA_box_20180622 | sample_vol_20180622 | sample_label_20180622 | Description | \n",
       "|---|---|---|\n",
       "| X1.Eurasian.Beaver    | ACTCACGGTATG          | CATGCTGCCTCCCGTAGGAGT | GCCTCCCTCGCGCCATCAG   | AGAGTTTGATCCTGGCTCAG  | 338R_BC0049           | 1                     | 1                     | Biber                 | Eurasian.Beaver       | ⋯                     | B12                   |  4                    | 120                   |  18                   | 18                    | NA                    | 1                     | 20                    | 1                     | NA                    | \n",
       "| X10.House.Mouse       | ACTGTGACTTCA          | CATGCTGCCTCCCGTAGGAGT | GCCTCCCTCGCGCCATCAG   | AGAGTTTGATCCTGGCTCAG  | 338R_BC0058           | 10                    | 10                    | Hausmaus              | House.Mouse           | ⋯                     | C8                    |  4                    | 128                   |  27                   | 27                    | NA                    | 1                     | 20                    | 10                    | NA                    | \n",
       "| X101.Horse            | ACGACGTCTTAG          | CATGCTGCCTCCCGTAGGAGT | GCCTCCCTCGCGCCATCAG   | AGAGTTTGATCCTGGCTCAG  | 338R_BC0030           | 101                   | 101                   | Hauspferd             | Horse                 | ⋯                     | E8                    | 16                    | 344                   | 160                   | 160                   | NA                    | 2                     | 20                    | 101                   | NA                    | \n",
       "\n",
       "\n"
      ],
      "text/plain": [
       "  X.SampleID         BarcodeSequence LinkerPrimerSequence  Primer             \n",
       "1 X1.Eurasian.Beaver ACTCACGGTATG    CATGCTGCCTCCCGTAGGAGT GCCTCCCTCGCGCCATCAG\n",
       "2 X10.House.Mouse    ACTGTGACTTCA    CATGCTGCCTCCCGTAGGAGT GCCTCCCTCGCGCCATCAG\n",
       "3 X101.Horse         ACGACGTCTTAG    CATGCTGCCTCCCGTAGGAGT GCCTCCCTCGCGCCATCAG\n",
       "  ReversePrimer        Barcode_ID  sample_number host_subject_id\n",
       "1 AGAGTTTGATCCTGGCTCAG 338R_BC0049 1             1              \n",
       "2 AGAGTTTGATCCTGGCTCAG 338R_BC0058 10            10             \n",
       "3 AGAGTTTGATCCTGGCTCAG 338R_BC0030 101           101            \n",
       "  host_german_name host_common_name ⋯ wellplate_position_Illumina\n",
       "1 Biber            Eurasian.Beaver  ⋯ B12                        \n",
       "2 Hausmaus         House.Mouse      ⋯ C8                         \n",
       "3 Hauspferd        Horse            ⋯ E8                         \n",
       "  Cornell_Dilution_DNA_Illumina Num_Illumina Num sorting_454\n",
       "1  4                            120           18 18         \n",
       "2  4                            128           27 27         \n",
       "3 16                            344          160 160        \n",
       "  comments_additional DNA_box_20180622 sample_vol_20180622\n",
       "1 NA                  1                20                 \n",
       "2 NA                  1                20                 \n",
       "3 NA                  2                20                 \n",
       "  sample_label_20180622 Description\n",
       "1 1                     NA         \n",
       "2 10                    NA         \n",
       "3 101                   NA         "
      ]
     },
     "metadata": {},
     "output_type": "display_data"
    }
   ],
   "source": [
    "# lat/long\n",
    "metadata = metadata %>%\n",
    "    separate(lat_lon, c('latitude', 'longitude'), sep=' ') %>%\n",
    "    mutate(latitude = latitude %>% as.Num,\n",
    "           longitude = longitude %>% as.Num) \n",
    "\n",
    "metadata[,c('latitude', 'longitude')] %>% summary %>% print\n",
    "\n",
    "metadata %>% status"
   ]
  },
  {
   "cell_type": "code",
   "execution_count": 20,
   "metadata": {
    "ExecuteTime": {
     "end_time": "2018-06-25T14:58:02.508482Z",
     "start_time": "2018-06-25T14:55:34.274Z"
    }
   },
   "outputs": [
    {
     "data": {
      "text/plain": [
       "   Length     Class      Mode \n",
       "      363 character character "
      ]
     },
     "metadata": {},
     "output_type": "display_data"
    }
   ],
   "source": [
    "# time period\n",
    "metadata = metadata %>%\n",
    "    mutate(collection_date = collection_date %>% as.character,\n",
    "           collection_date = ifelse(collection_date == 'Autumn 2013', '10/1/13', collection_date)) \n",
    "\n",
    "metadata$collection_date %>% summary"
   ]
  },
  {
   "cell_type": "code",
   "execution_count": 21,
   "metadata": {
    "ExecuteTime": {
     "end_time": "2018-06-25T14:58:06.579043Z",
     "start_time": "2018-06-25T14:55:34.278Z"
    }
   },
   "outputs": [
    {
     "name": "stdout",
     "output_type": "stream",
     "text": [
      "[1] 363 171\n"
     ]
    },
    {
     "data": {
      "text/html": [
       "<table>\n",
       "<thead><tr><th></th><th scope=col>X.SampleID</th><th scope=col>BarcodeSequence</th><th scope=col>LinkerPrimerSequence</th><th scope=col>Primer</th><th scope=col>ReversePrimer</th><th scope=col>Barcode_ID</th><th scope=col>sample_number</th><th scope=col>host_subject_id</th><th scope=col>host_german_name</th><th scope=col>host_common_name</th><th scope=col>⋯</th><th scope=col>wellplate_position_Illumina</th><th scope=col>Cornell_Dilution_DNA_Illumina</th><th scope=col>Num_Illumina</th><th scope=col>Num</th><th scope=col>sorting_454</th><th scope=col>comments_additional</th><th scope=col>DNA_box_20180622</th><th scope=col>sample_vol_20180622</th><th scope=col>sample_label_20180622</th><th scope=col>Description</th></tr></thead>\n",
       "<tbody>\n",
       "\t<tr><th scope=row>X1.Eurasian.Beaver</th><td>X1.Eurasian.Beaver   </td><td>ACTCACGGTATG         </td><td>CATGCTGCCTCCCGTAGGAGT</td><td>GCCTCCCTCGCGCCATCAG  </td><td>AGAGTTTGATCCTGGCTCAG </td><td>338R_BC0049          </td><td>1                    </td><td>1                    </td><td>Biber                </td><td>Eurasian.Beaver      </td><td>⋯                    </td><td>B12                  </td><td>4                    </td><td>120                  </td><td>18                   </td><td>18                   </td><td>NA                   </td><td>1                    </td><td>20                   </td><td>1                    </td><td>NA                   </td></tr>\n",
       "\t<tr><th scope=row>X10.House.Mouse</th><td>X10.House.Mouse      </td><td>ACTGTGACTTCA         </td><td>CATGCTGCCTCCCGTAGGAGT</td><td>GCCTCCCTCGCGCCATCAG  </td><td>AGAGTTTGATCCTGGCTCAG </td><td>338R_BC0058          </td><td>10                   </td><td>10                   </td><td>Hausmaus             </td><td>House.Mouse          </td><td>⋯                    </td><td>C8                   </td><td>4                    </td><td>128                  </td><td>27                   </td><td>27                   </td><td>NA                   </td><td>1                    </td><td>20                   </td><td>10                   </td><td>NA                   </td></tr>\n",
       "\t<tr><th scope=row>X101.Horse</th><td>X101.Horse           </td><td>ACGACGTCTTAG         </td><td>CATGCTGCCTCCCGTAGGAGT</td><td>GCCTCCCTCGCGCCATCAG  </td><td>AGAGTTTGATCCTGGCTCAG </td><td>338R_BC0030          </td><td>101                  </td><td>101                  </td><td>Hauspferd            </td><td>Horse                </td><td>⋯                    </td><td>E8                   </td><td>16                   </td><td>344                  </td><td>160                  </td><td>160                  </td><td>NA                   </td><td>2                    </td><td>20                   </td><td>101                  </td><td>NA                   </td></tr>\n",
       "</tbody>\n",
       "</table>\n"
      ],
      "text/latex": [
       "\\begin{tabular}{r|lllllllllllllllllllllllllllllllllllllllllllllllllllllllllllllllllllllllllllllllllllllllllllllllllllllllllllllllllllllllllllllllllllllllllllllllllllllllllllllllllllllllllll}\n",
       "  & X.SampleID & BarcodeSequence & LinkerPrimerSequence & Primer & ReversePrimer & Barcode\\_ID & sample\\_number & host\\_subject\\_id & host\\_german\\_name & host\\_common\\_name & ⋯ & wellplate\\_position\\_Illumina & Cornell\\_Dilution\\_DNA\\_Illumina & Num\\_Illumina & Num & sorting\\_454 & comments\\_additional & DNA\\_box\\_20180622 & sample\\_vol\\_20180622 & sample\\_label\\_20180622 & Description\\\\\n",
       "\\hline\n",
       "\tX1.Eurasian.Beaver & X1.Eurasian.Beaver    & ACTCACGGTATG          & CATGCTGCCTCCCGTAGGAGT & GCCTCCCTCGCGCCATCAG   & AGAGTTTGATCCTGGCTCAG  & 338R\\_BC0049         & 1                     & 1                     & Biber                 & Eurasian.Beaver       & ⋯                     & B12                   & 4                     & 120                   & 18                    & 18                    & NA                    & 1                     & 20                    & 1                     & NA                   \\\\\n",
       "\tX10.House.Mouse & X10.House.Mouse       & ACTGTGACTTCA          & CATGCTGCCTCCCGTAGGAGT & GCCTCCCTCGCGCCATCAG   & AGAGTTTGATCCTGGCTCAG  & 338R\\_BC0058         & 10                    & 10                    & Hausmaus              & House.Mouse           & ⋯                     & C8                    & 4                     & 128                   & 27                    & 27                    & NA                    & 1                     & 20                    & 10                    & NA                   \\\\\n",
       "\tX101.Horse & X101.Horse            & ACGACGTCTTAG          & CATGCTGCCTCCCGTAGGAGT & GCCTCCCTCGCGCCATCAG   & AGAGTTTGATCCTGGCTCAG  & 338R\\_BC0030         & 101                   & 101                   & Hauspferd             & Horse                 & ⋯                     & E8                    & 16                    & 344                   & 160                   & 160                   & NA                    & 2                     & 20                    & 101                   & NA                   \\\\\n",
       "\\end{tabular}\n"
      ],
      "text/markdown": [
       "\n",
       "| <!--/--> | X.SampleID | BarcodeSequence | LinkerPrimerSequence | Primer | ReversePrimer | Barcode_ID | sample_number | host_subject_id | host_german_name | host_common_name | ⋯ | wellplate_position_Illumina | Cornell_Dilution_DNA_Illumina | Num_Illumina | Num | sorting_454 | comments_additional | DNA_box_20180622 | sample_vol_20180622 | sample_label_20180622 | Description | \n",
       "|---|---|---|\n",
       "| X1.Eurasian.Beaver | X1.Eurasian.Beaver    | ACTCACGGTATG          | CATGCTGCCTCCCGTAGGAGT | GCCTCCCTCGCGCCATCAG   | AGAGTTTGATCCTGGCTCAG  | 338R_BC0049           | 1                     | 1                     | Biber                 | Eurasian.Beaver       | ⋯                     | B12                   | 4                     | 120                   | 18                    | 18                    | NA                    | 1                     | 20                    | 1                     | NA                    | \n",
       "| X10.House.Mouse | X10.House.Mouse       | ACTGTGACTTCA          | CATGCTGCCTCCCGTAGGAGT | GCCTCCCTCGCGCCATCAG   | AGAGTTTGATCCTGGCTCAG  | 338R_BC0058           | 10                    | 10                    | Hausmaus              | House.Mouse           | ⋯                     | C8                    | 4                     | 128                   | 27                    | 27                    | NA                    | 1                     | 20                    | 10                    | NA                    | \n",
       "| X101.Horse | X101.Horse            | ACGACGTCTTAG          | CATGCTGCCTCCCGTAGGAGT | GCCTCCCTCGCGCCATCAG   | AGAGTTTGATCCTGGCTCAG  | 338R_BC0030           | 101                   | 101                   | Hauspferd             | Horse                 | ⋯                     | E8                    | 16                    | 344                   | 160                   | 160                   | NA                    | 2                     | 20                    | 101                   | NA                    | \n",
       "\n",
       "\n"
      ],
      "text/plain": [
       "                   X.SampleID         BarcodeSequence LinkerPrimerSequence \n",
       "X1.Eurasian.Beaver X1.Eurasian.Beaver ACTCACGGTATG    CATGCTGCCTCCCGTAGGAGT\n",
       "X10.House.Mouse    X10.House.Mouse    ACTGTGACTTCA    CATGCTGCCTCCCGTAGGAGT\n",
       "X101.Horse         X101.Horse         ACGACGTCTTAG    CATGCTGCCTCCCGTAGGAGT\n",
       "                   Primer              ReversePrimer        Barcode_ID \n",
       "X1.Eurasian.Beaver GCCTCCCTCGCGCCATCAG AGAGTTTGATCCTGGCTCAG 338R_BC0049\n",
       "X10.House.Mouse    GCCTCCCTCGCGCCATCAG AGAGTTTGATCCTGGCTCAG 338R_BC0058\n",
       "X101.Horse         GCCTCCCTCGCGCCATCAG AGAGTTTGATCCTGGCTCAG 338R_BC0030\n",
       "                   sample_number host_subject_id host_german_name\n",
       "X1.Eurasian.Beaver 1             1               Biber           \n",
       "X10.House.Mouse    10            10              Hausmaus        \n",
       "X101.Horse         101           101             Hauspferd       \n",
       "                   host_common_name ⋯ wellplate_position_Illumina\n",
       "X1.Eurasian.Beaver Eurasian.Beaver  ⋯ B12                        \n",
       "X10.House.Mouse    House.Mouse      ⋯ C8                         \n",
       "X101.Horse         Horse            ⋯ E8                         \n",
       "                   Cornell_Dilution_DNA_Illumina Num_Illumina Num sorting_454\n",
       "X1.Eurasian.Beaver 4                             120          18  18         \n",
       "X10.House.Mouse    4                             128          27  27         \n",
       "X101.Horse         16                            344          160 160        \n",
       "                   comments_additional DNA_box_20180622 sample_vol_20180622\n",
       "X1.Eurasian.Beaver NA                  1                20                 \n",
       "X10.House.Mouse    NA                  1                20                 \n",
       "X101.Horse         NA                  2                20                 \n",
       "                   sample_label_20180622 Description\n",
       "X1.Eurasian.Beaver 1                     NA         \n",
       "X10.House.Mouse    10                    NA         \n",
       "X101.Horse         101                   NA         "
      ]
     },
     "metadata": {},
     "output_type": "display_data"
    }
   ],
   "source": [
    "# striping whitespace from labels\n",
    "tws = function(x){\n",
    "    if(class(x) == 'numeric'){\n",
    "        return(x)\n",
    "    } else {\n",
    "        x = sapply(as.character(x), function(y) trimws(y, which = 'both'))\n",
    "        return(x)\n",
    "    }\n",
    "}\n",
    "\n",
    "                   \n",
    "metadata = metadata %>% apply(2, tws) %>%\n",
    "    as.data.frame              \n",
    "rownames(metadata) = metadata$X.SampleID\n",
    "\n",
    "# status\n",
    "metadata %>% status"
   ]
  },
  {
   "cell_type": "code",
   "execution_count": 22,
   "metadata": {
    "ExecuteTime": {
     "end_time": "2018-06-25T14:58:06.645784Z",
     "start_time": "2018-06-25T14:55:34.280Z"
    }
   },
   "outputs": [
    {
     "data": {
      "text/plain": [
       "            class               order            family        genus    \n",
       " Actinopterygii: 35   Artiodactyla : 54   Bovidae   : 21   Cervus : 14  \n",
       " Amphibia      : 10   Carnivora    : 43   Cyprinidae: 20   Equus  : 11  \n",
       " Aves          : 86   Passeriformes: 29   Cervidae  : 18   Lepus  : 11  \n",
       " Mammalia      :218   Rodentia     : 29   Leporidae : 15   Canis  :  7  \n",
       " Reptilia      : 14   Cypriniformes: 20   Felidae   : 13   Felis  :  7  \n",
       "                      Primates     : 20   Canidae   : 11   Homo   :  7  \n",
       "                      (Other)      :168   (Other)   :265   (Other):306  \n",
       "        diet             diet_vertebrate             diet_invertebrate\n",
       " carnivore:116   no              :233    no                   :136    \n",
       " herbivore:112   yes             :129    yes                  :225    \n",
       " omnivore :135   yes on occassion:  1    yes mainly young ones:  1    \n",
       "                                         yes on occassion     :  1    \n",
       "                                                                      \n",
       "                                                                      \n",
       "                                                                      \n",
       " diet_fruit diet_flowers_nectar_pollen diet_leaves_branches_bark_buds\n",
       " no :223    no :341                    no :218                       \n",
       " yes:140    yes: 22                    yes:145                       \n",
       "                                                                     \n",
       "                                                                     \n",
       "                                                                     \n",
       "                                                                     \n",
       "                                                                     \n",
       " diet_seeds diet_grass_waterplants diet_roots_tubers\n",
       " no :224    no :222                no :266          \n",
       " yes:139    yes:141                yes: 97          \n",
       "                                                    \n",
       "                                                    \n",
       "                                                    \n",
       "                                                    \n",
       "                                                    \n",
       "                      digestive_system                  digestive_system_detail\n",
       " hindgut                      : 78     hindgut                      : 78       \n",
       " simple                       : 77     simple                       : 77       \n",
       " foregut                      : 62     foregut                      : 62       \n",
       " fermentation activity foregut:  6     fermentation activity foregut:  6       \n",
       " hindgut_simple               :  4     hindgut _simple              :  3       \n",
       " (Other)                      :  4     (Other)                      :  5       \n",
       " NA's                         :132     NA's                         :132       \n",
       " ruminant       pseudoruminants               habitat_detail\n",
       " no :320   no           :344    anthropogenic habitat: 19   \n",
       " yes: 43   ruminant_like: 14    cultivated habitat   : 14   \n",
       "           yes          :  5    freshwater habitat   : 35   \n",
       "                                grassland            : 65   \n",
       "                                saline water habitat :  9   \n",
       "                                terrestrial habitat  :150   \n",
       "                                woodland             : 71   \n",
       "              habitat_detail_1              habitat_detail_2      latitude  \n",
       " terrestrial habitat  :150     terrestrial habitat  :150     48.208330: 81  \n",
       " forest               : 71     forest               : 71     47.763056: 28  \n",
       " steppe               : 38     steppe               : 38     47.500000: 26  \n",
       " freshwater habitat   : 35     freshwater habitat   : 35     48.783333: 13  \n",
       " anthropogenic habitat: 19     anthropogenic habitat: 19     48.279837: 12  \n",
       " meadow               : 16     flood meadow         : 16     48.333333: 10  \n",
       " (Other)              : 34     (Other)              : 34     (Other)  :193  \n",
       "     longitude               sampling_method  captive_wild    wild_domesticated\n",
       " 16.373064: 81   dried feces sampling:  8    captive: 63   domesticated: 27    \n",
       " 16.800278: 28   feces sampling      :258    human  :  7   wild        :336    \n",
       " 19.050000: 19   gut section         : 43    wild   :293                       \n",
       " 15.066667: 13   swab                : 54                                      \n",
       " 15.411374: 12                                                                 \n",
       " 15.750000: 10                                                                 \n",
       " (Other)  :200                                                                 "
      ]
     },
     "metadata": {},
     "output_type": "display_data"
    }
   ],
   "source": [
    "# summary\n",
    "metadata %>%\n",
    "    dplyr::select(class, order, family, genus,\n",
    "                  diet, diet_vertebrate, diet_invertebrate, diet_fruit,\n",
    "                  diet_flowers_nectar_pollen, diet_leaves_branches_bark_buds, diet_seeds,\n",
    "                  diet_grass_waterplants, diet_roots_tubers,\n",
    "                  digestive_system, digestive_system_detail, \n",
    "                  ruminant, pseudoruminants,\n",
    "                  habitat_detail, habitat_detail_1, habitat_detail_2,\n",
    "                  latitude, longitude,\n",
    "                  sampling_method, captive_wild, wild_domesticated) %>%\n",
    "    summary"
   ]
  },
  {
   "cell_type": "markdown",
   "metadata": {},
   "source": [
    "# Checking overlap"
   ]
  },
  {
   "cell_type": "code",
   "execution_count": 23,
   "metadata": {
    "ExecuteTime": {
     "end_time": "2018-06-25T14:58:06.694870Z",
     "start_time": "2018-06-25T14:55:34.281Z"
    },
    "scrolled": false
   },
   "outputs": [
    {
     "name": "stdout",
     "output_type": "stream",
     "text": [
      " [1] \"X142.Cattle\"               \"X146.Cattle\"              \n",
      " [3] \"X148.Cattle\"               \"X150.Cattle\"              \n",
      " [5] \"X206.Red.Sheep\"            \"X208.Red.Sheep\"           \n",
      " [7] \"X213.Goose\"                \"X214.Goose\"               \n",
      " [9] \"X216.Goose\"                \"X316.Red.Deer\"            \n",
      "[11] \"X386.Scalloped.Hammerhead\" \"X388.Bull.Ray\"            \n",
      "[13] \"X397.Penguin\"              \"F46.Ref1.Red.Deer\"        \n",
      "[15] \"F46.Ref2.Red.Deer\"         \"F46.Ref4.Red.Deer\"        \n",
      "[17] \"X195.Domestic.Cat\"         \"X196.Domestic.Cat\"        \n",
      "[19] \"X205.Red.Sheep\"            \"X209.Red.Sheep\"           \n",
      "[21] \"X211.Red.Sheep\"            \"X212.Goose\"               \n",
      "[23] \"X215.Goose\"                \"X218.Goose\"               \n",
      "[25] \"X219.Goose\"                \"X309.Domestic.Cat\"        \n",
      "[27] \"X311.Domestic.Cat\"         \"X312.Domestic.Cat\"        \n",
      "[29] \"X314.Red.Deer\"             \"X317.Red.Deer\"            \n",
      "[31] \"X318.Red.Deer\"             \"X319.Red.Deer\"            \n",
      "[33] \"X320.Red.Deer\"             \"X321.Red.Deer\"            \n",
      "[35] \"X322.Red.Deer\"             \"X323.Red.Deer\"            \n",
      "[37] \"X324.Red.Deer\"             \"X9.Indian.Gazelle\"        \n",
      "[39] \"F46.Ref3.Red.Deer\"        \n",
      "----\n",
      " [1] \"X103.Eurasian.Blackcap\"           \"X105.Eurasian.Teal\"              \n",
      " [3] \"X106.Eurasian.Teal\"               \"X107.House.Mouse\"                \n",
      " [5] \"X108.Striped.Desert.Hamster\"      \"X115.Common.Kestrel\"             \n",
      " [7] \"X118.Eurasian.Reed.Warbler\"       \"X119.Ural.Owl\"                   \n",
      " [9] \"X120.Alpine.Shrew\"                \"X126.White.Stork\"                \n",
      "[11] \"X14.Eurasian.Sparrowhawk\"         \"X15.Tawny.Owl\"                   \n",
      "[13] \"X152.Tree.Shrew\"                  \"X153.Bank.Vole\"                  \n",
      "[15] \"X154.Tree.Shrew\"                  \"X159.White.tailed.Eagle\"         \n",
      "[17] \"X164.Greylag.Goose\"               \"X17.European.Polecat\"            \n",
      "[19] \"X171.Blackbird\"                   \"X180.Roach\"                      \n",
      "[21] \"X181.Common.Carp\"                 \"X183.European.Chub\"              \n",
      "[23] \"X185.Brown.Trout\"                 \"X191.Common.House.Gecko\"         \n",
      "[25] \"X192.Common.Frog\"                 \"X197.Human\"                      \n",
      "[27] \"X204.Red.Sheep\"                   \"X225.Domestic.Cat\"               \n",
      "[29] \"X227.Domestic.Cat\"                \"X229.Domestic.Cat\"               \n",
      "[31] \"X24.European.Robin\"               \"X246.Great.Spotted.Woodpecker\"   \n",
      "[33] \"X25.fail1.Eurasian.Penduline.Tit\" \"X255.Zander\"                     \n",
      "[35] \"X258.Eurasian.Magpie\"             \"X259.Mute.Swan\"                  \n",
      "[37] \"X264.Eurasian.Magpie\"             \"X270.Common.Pheasant\"            \n",
      "[39] \"X273.Brant.Goose\"                 \"X274.Brant.Goose\"                \n",
      "[41] \"X28.fail1.Eurasian.Blackcap\"      \"X29.European.Pied.Flycatcher\"    \n",
      "[43] \"X291.Rosenbergs.Monitor\"          \"X295.Emu\"                        \n",
      "[45] \"X303.European.Hare\"               \"X305.European.Hare\"              \n",
      "[47] \"X308.European.Hare\"               \"X331.Harbor.Porpoise\"            \n",
      "[49] \"X334.Gray.Seal\"                   \"X343.Sand.Lizard\"                \n",
      "[51] \"X371.Linnaeus.Two.toed.Sloth\"     \"X377.Fat.Sand.Rat\"               \n",
      "[53] \"X378.Fat.Sand.Rat\"                \"X379.Koala\"                      \n",
      "[55] \"X391.European.Ground.Squirrel\"    \"X393.European.Rabbit\"            \n",
      "[57] \"X400.House.Mouse\"                 \"X406.Nile.Crocodile\"             \n",
      "[59] \"X409.Impala\"                      \"X421.Common.Hippopotamus\"        \n",
      "[61] \"X425.Emu\"                         \"X43.European.Badger\"             \n",
      "[63] \"X434.Blue.Wildebeest\"             \"X49.Common.Kingfisher\"           \n",
      "[65] \"X50.Song.Thrush\"                  \"X51.Dunnock\"                     \n",
      "[67] \"X52.Little.Ringed.Plover\"         \"X53.fail1.European.Stonechat\"    \n",
      "[69] \"X54.Spotted.Crake\"                \"X55.fail1.Water.Pipit\"           \n",
      "[71] \"X56.fail1.Common.Zingel\"          \"X57.Common.Barbel\"               \n",
      "[73] \"X59.Vimba.Bream\"                  \"X60.European.Chub\"               \n",
      "[75] \"X61.fail1.Round.Goby\"             \"X62.fail1.Common.Rudd\"           \n",
      "[77] \"X63.fail1.European.Perch\"         \"X64.Eurasian.Ruffe\"              \n",
      "[79] \"X72.Ural.Owl\"                     \"X73.One.humped.Camel\"            \n",
      "[81] \"X75.fail1.Steppe.Polecat\"         \"X76.European.Polecat\"            \n",
      "[83] \"X8.Garden.Dormouse\"               \"X82.Eurasian.Ruffe\"              \n",
      "[85] \"X83.Common.Rudd\"                  \"X84.Common.Chiffchaff\"           \n",
      "[87] \"X91.Dunnock\"                      \"X93.Red.Sheep\"                   \n",
      "[89] \"F144.Wood.Sandpiper\"              \"F46.Red.Deer\"                    \n"
     ]
    }
   ],
   "source": [
    "# in metadata, but not in OTU table?\n",
    "setdiff(colnames(physeq_otu), rownames(metadata)) %>% print\n",
    "cat('----\\n')\n",
    "setdiff(rownames(metadata), colnames(physeq_otu)) %>% print"
   ]
  },
  {
   "cell_type": "markdown",
   "metadata": {},
   "source": [
    "## Filtering to intersection"
   ]
  },
  {
   "cell_type": "code",
   "execution_count": 24,
   "metadata": {
    "ExecuteTime": {
     "end_time": "2018-06-25T14:58:06.731916Z",
     "start_time": "2018-06-25T14:55:34.283Z"
    }
   },
   "outputs": [
    {
     "name": "stdout",
     "output_type": "stream",
     "text": [
      "[1] 273\n"
     ]
    }
   ],
   "source": [
    "# intersect of samples\n",
    "x = intersect(colnames(physeq_otu), rownames(metadata))\n",
    "x %>% length %>% print"
   ]
  },
  {
   "cell_type": "code",
   "execution_count": 25,
   "metadata": {
    "ExecuteTime": {
     "end_time": "2018-06-25T14:58:06.796026Z",
     "start_time": "2018-06-25T14:55:34.285Z"
    }
   },
   "outputs": [
    {
     "name": "stdout",
     "output_type": "stream",
     "text": [
      "[1] 39903   273\n"
     ]
    },
    {
     "data": {
      "text/html": [
       "<table>\n",
       "<thead><tr><th></th><th scope=col>X1.Eurasian.Beaver</th><th scope=col>X101.Horse</th><th scope=col>X102.Kulan</th><th scope=col>X104.European.Robin</th><th scope=col>X109.Red.Fox</th><th scope=col>X110.Noctule</th><th scope=col>X111.West.European.Hedgehog</th><th scope=col>X112.Eurasian.Sparrowhawk</th><th scope=col>X113.Eurasian.Woodcock</th><th scope=col>X116.Common.Kestrel</th><th scope=col>⋯</th><th scope=col>F45.Red.Deer</th><th scope=col>F47.Red.Deer</th><th scope=col>F48.Red.Deer</th><th scope=col>F53.Mouflon</th><th scope=col>F66.Wild.Boar</th><th scope=col>F68.Red.Deer</th><th scope=col>F69.Red.Deer</th><th scope=col>F70.Red.Deer</th><th scope=col>F80.Red.Deer</th><th scope=col>F90.Domestic.Dog</th></tr></thead>\n",
       "<tbody>\n",
       "\t<tr><th scope=row>294344edcaecca464652951ce825a77d</th><td>0</td><td>0</td><td>0</td><td>0</td><td>0</td><td>0</td><td>0</td><td>0</td><td>0</td><td>0</td><td>⋯</td><td>0</td><td>0</td><td>0</td><td>0</td><td>0</td><td>0</td><td>0</td><td>0</td><td>0</td><td>0</td></tr>\n",
       "\t<tr><th scope=row>7a252295ae858fa6f9423b5166344a21</th><td>0</td><td>0</td><td>0</td><td>0</td><td>0</td><td>0</td><td>0</td><td>0</td><td>0</td><td>0</td><td>⋯</td><td>0</td><td>0</td><td>0</td><td>0</td><td>0</td><td>0</td><td>0</td><td>0</td><td>0</td><td>0</td></tr>\n",
       "\t<tr><th scope=row>e49c6b87a2c49db4687078e754ca94da</th><td>0</td><td>0</td><td>0</td><td>0</td><td>0</td><td>0</td><td>0</td><td>0</td><td>0</td><td>0</td><td>⋯</td><td>0</td><td>0</td><td>0</td><td>0</td><td>0</td><td>0</td><td>0</td><td>0</td><td>0</td><td>0</td></tr>\n",
       "</tbody>\n",
       "</table>\n"
      ],
      "text/latex": [
       "\\begin{tabular}{r|lllllllllllllllllllllllllllllllllllllllllllllllllllllllllllllllllllllllllllllllllllllllllllllllllllllllllllllllllllllllllllllllllllllllllllllllllllllllllllllllllllllllllllllllllllllllllllllllllllllllllllllllllllllllllllllllllllllllllllllllllllllllllllllllllllllllllllllllll}\n",
       "  & X1.Eurasian.Beaver & X101.Horse & X102.Kulan & X104.European.Robin & X109.Red.Fox & X110.Noctule & X111.West.European.Hedgehog & X112.Eurasian.Sparrowhawk & X113.Eurasian.Woodcock & X116.Common.Kestrel & ⋯ & F45.Red.Deer & F47.Red.Deer & F48.Red.Deer & F53.Mouflon & F66.Wild.Boar & F68.Red.Deer & F69.Red.Deer & F70.Red.Deer & F80.Red.Deer & F90.Domestic.Dog\\\\\n",
       "\\hline\n",
       "\t294344edcaecca464652951ce825a77d & 0 & 0 & 0 & 0 & 0 & 0 & 0 & 0 & 0 & 0 & ⋯ & 0 & 0 & 0 & 0 & 0 & 0 & 0 & 0 & 0 & 0\\\\\n",
       "\t7a252295ae858fa6f9423b5166344a21 & 0 & 0 & 0 & 0 & 0 & 0 & 0 & 0 & 0 & 0 & ⋯ & 0 & 0 & 0 & 0 & 0 & 0 & 0 & 0 & 0 & 0\\\\\n",
       "\te49c6b87a2c49db4687078e754ca94da & 0 & 0 & 0 & 0 & 0 & 0 & 0 & 0 & 0 & 0 & ⋯ & 0 & 0 & 0 & 0 & 0 & 0 & 0 & 0 & 0 & 0\\\\\n",
       "\\end{tabular}\n"
      ],
      "text/markdown": [
       "\n",
       "| <!--/--> | X1.Eurasian.Beaver | X101.Horse | X102.Kulan | X104.European.Robin | X109.Red.Fox | X110.Noctule | X111.West.European.Hedgehog | X112.Eurasian.Sparrowhawk | X113.Eurasian.Woodcock | X116.Common.Kestrel | ⋯ | F45.Red.Deer | F47.Red.Deer | F48.Red.Deer | F53.Mouflon | F66.Wild.Boar | F68.Red.Deer | F69.Red.Deer | F70.Red.Deer | F80.Red.Deer | F90.Domestic.Dog | \n",
       "|---|---|---|\n",
       "| 294344edcaecca464652951ce825a77d | 0 | 0 | 0 | 0 | 0 | 0 | 0 | 0 | 0 | 0 | ⋯ | 0 | 0 | 0 | 0 | 0 | 0 | 0 | 0 | 0 | 0 | \n",
       "| 7a252295ae858fa6f9423b5166344a21 | 0 | 0 | 0 | 0 | 0 | 0 | 0 | 0 | 0 | 0 | ⋯ | 0 | 0 | 0 | 0 | 0 | 0 | 0 | 0 | 0 | 0 | \n",
       "| e49c6b87a2c49db4687078e754ca94da | 0 | 0 | 0 | 0 | 0 | 0 | 0 | 0 | 0 | 0 | ⋯ | 0 | 0 | 0 | 0 | 0 | 0 | 0 | 0 | 0 | 0 | \n",
       "\n",
       "\n"
      ],
      "text/plain": [
       "                                 X1.Eurasian.Beaver X101.Horse X102.Kulan\n",
       "294344edcaecca464652951ce825a77d 0                  0          0         \n",
       "7a252295ae858fa6f9423b5166344a21 0                  0          0         \n",
       "e49c6b87a2c49db4687078e754ca94da 0                  0          0         \n",
       "                                 X104.European.Robin X109.Red.Fox X110.Noctule\n",
       "294344edcaecca464652951ce825a77d 0                   0            0           \n",
       "7a252295ae858fa6f9423b5166344a21 0                   0            0           \n",
       "e49c6b87a2c49db4687078e754ca94da 0                   0            0           \n",
       "                                 X111.West.European.Hedgehog\n",
       "294344edcaecca464652951ce825a77d 0                          \n",
       "7a252295ae858fa6f9423b5166344a21 0                          \n",
       "e49c6b87a2c49db4687078e754ca94da 0                          \n",
       "                                 X112.Eurasian.Sparrowhawk\n",
       "294344edcaecca464652951ce825a77d 0                        \n",
       "7a252295ae858fa6f9423b5166344a21 0                        \n",
       "e49c6b87a2c49db4687078e754ca94da 0                        \n",
       "                                 X113.Eurasian.Woodcock X116.Common.Kestrel ⋯\n",
       "294344edcaecca464652951ce825a77d 0                      0                   ⋯\n",
       "7a252295ae858fa6f9423b5166344a21 0                      0                   ⋯\n",
       "e49c6b87a2c49db4687078e754ca94da 0                      0                   ⋯\n",
       "                                 F45.Red.Deer F47.Red.Deer F48.Red.Deer\n",
       "294344edcaecca464652951ce825a77d 0            0            0           \n",
       "7a252295ae858fa6f9423b5166344a21 0            0            0           \n",
       "e49c6b87a2c49db4687078e754ca94da 0            0            0           \n",
       "                                 F53.Mouflon F66.Wild.Boar F68.Red.Deer\n",
       "294344edcaecca464652951ce825a77d 0           0             0           \n",
       "7a252295ae858fa6f9423b5166344a21 0           0             0           \n",
       "e49c6b87a2c49db4687078e754ca94da 0           0             0           \n",
       "                                 F69.Red.Deer F70.Red.Deer F80.Red.Deer\n",
       "294344edcaecca464652951ce825a77d 0            0            0           \n",
       "7a252295ae858fa6f9423b5166344a21 0            0            0           \n",
       "e49c6b87a2c49db4687078e754ca94da 0            0            0           \n",
       "                                 F90.Domestic.Dog\n",
       "294344edcaecca464652951ce825a77d 0               \n",
       "7a252295ae858fa6f9423b5166344a21 0               \n",
       "e49c6b87a2c49db4687078e754ca94da 0               "
      ]
     },
     "metadata": {},
     "output_type": "display_data"
    }
   ],
   "source": [
    "# filtering samples from otu table\n",
    "physeq_otu = physeq_otu[,x]\n",
    "physeq_otu %>% status"
   ]
  },
  {
   "cell_type": "code",
   "execution_count": 26,
   "metadata": {
    "ExecuteTime": {
     "end_time": "2018-06-25T14:58:06.873833Z",
     "start_time": "2018-06-25T14:55:34.290Z"
    }
   },
   "outputs": [
    {
     "name": "stdout",
     "output_type": "stream",
     "text": [
      "[1] 273 171\n"
     ]
    },
    {
     "data": {
      "text/html": [
       "<table>\n",
       "<thead><tr><th></th><th scope=col>X.SampleID</th><th scope=col>BarcodeSequence</th><th scope=col>LinkerPrimerSequence</th><th scope=col>Primer</th><th scope=col>ReversePrimer</th><th scope=col>Barcode_ID</th><th scope=col>sample_number</th><th scope=col>host_subject_id</th><th scope=col>host_german_name</th><th scope=col>host_common_name</th><th scope=col>⋯</th><th scope=col>wellplate_position_Illumina</th><th scope=col>Cornell_Dilution_DNA_Illumina</th><th scope=col>Num_Illumina</th><th scope=col>Num</th><th scope=col>sorting_454</th><th scope=col>comments_additional</th><th scope=col>DNA_box_20180622</th><th scope=col>sample_vol_20180622</th><th scope=col>sample_label_20180622</th><th scope=col>Description</th></tr></thead>\n",
       "<tbody>\n",
       "\t<tr><th scope=row>X1.Eurasian.Beaver</th><td>X1.Eurasian.Beaver   </td><td>ACTCACGGTATG         </td><td>CATGCTGCCTCCCGTAGGAGT</td><td>GCCTCCCTCGCGCCATCAG  </td><td>AGAGTTTGATCCTGGCTCAG </td><td>338R_BC0049          </td><td>1                    </td><td>1                    </td><td>Biber                </td><td>Eurasian.Beaver      </td><td>⋯                    </td><td>B12                  </td><td>4                    </td><td>120                  </td><td>18                   </td><td>18                   </td><td>NA                   </td><td>1                    </td><td>20                   </td><td>1                    </td><td>NA                   </td></tr>\n",
       "\t<tr><th scope=row>X101.Horse</th><td>X101.Horse           </td><td>ACGACGTCTTAG         </td><td>CATGCTGCCTCCCGTAGGAGT</td><td>GCCTCCCTCGCGCCATCAG  </td><td>AGAGTTTGATCCTGGCTCAG </td><td>338R_BC0030          </td><td>101                  </td><td>101                  </td><td>Hauspferd            </td><td>Horse                </td><td>⋯                    </td><td>E8                   </td><td>16                   </td><td>344                  </td><td>160                  </td><td>160                  </td><td>NA                   </td><td>2                    </td><td>20                   </td><td>101                  </td><td>NA                   </td></tr>\n",
       "\t<tr><th scope=row>X102.Kulan</th><td>X102.Kulan           </td><td>ACGAGTGCTATC         </td><td>CATGCTGCCTCCCGTAGGAGT</td><td>GCCTCCCTCGCGCCATCAG  </td><td>AGAGTTTGATCCTGGCTCAG </td><td>338R_BC0031          </td><td>102                  </td><td>102                  </td><td>Khulan               </td><td>Kulan                </td><td>⋯                    </td><td>E9                   </td><td>16                   </td><td>345                  </td><td>161                  </td><td>161                  </td><td>NA                   </td><td>2                    </td><td>20                   </td><td>102                  </td><td>NA                   </td></tr>\n",
       "</tbody>\n",
       "</table>\n"
      ],
      "text/latex": [
       "\\begin{tabular}{r|lllllllllllllllllllllllllllllllllllllllllllllllllllllllllllllllllllllllllllllllllllllllllllllllllllllllllllllllllllllllllllllllllllllllllllllllllllllllllllllllllllllllllll}\n",
       "  & X.SampleID & BarcodeSequence & LinkerPrimerSequence & Primer & ReversePrimer & Barcode\\_ID & sample\\_number & host\\_subject\\_id & host\\_german\\_name & host\\_common\\_name & ⋯ & wellplate\\_position\\_Illumina & Cornell\\_Dilution\\_DNA\\_Illumina & Num\\_Illumina & Num & sorting\\_454 & comments\\_additional & DNA\\_box\\_20180622 & sample\\_vol\\_20180622 & sample\\_label\\_20180622 & Description\\\\\n",
       "\\hline\n",
       "\tX1.Eurasian.Beaver & X1.Eurasian.Beaver    & ACTCACGGTATG          & CATGCTGCCTCCCGTAGGAGT & GCCTCCCTCGCGCCATCAG   & AGAGTTTGATCCTGGCTCAG  & 338R\\_BC0049         & 1                     & 1                     & Biber                 & Eurasian.Beaver       & ⋯                     & B12                   & 4                     & 120                   & 18                    & 18                    & NA                    & 1                     & 20                    & 1                     & NA                   \\\\\n",
       "\tX101.Horse & X101.Horse            & ACGACGTCTTAG          & CATGCTGCCTCCCGTAGGAGT & GCCTCCCTCGCGCCATCAG   & AGAGTTTGATCCTGGCTCAG  & 338R\\_BC0030         & 101                   & 101                   & Hauspferd             & Horse                 & ⋯                     & E8                    & 16                    & 344                   & 160                   & 160                   & NA                    & 2                     & 20                    & 101                   & NA                   \\\\\n",
       "\tX102.Kulan & X102.Kulan            & ACGAGTGCTATC          & CATGCTGCCTCCCGTAGGAGT & GCCTCCCTCGCGCCATCAG   & AGAGTTTGATCCTGGCTCAG  & 338R\\_BC0031         & 102                   & 102                   & Khulan                & Kulan                 & ⋯                     & E9                    & 16                    & 345                   & 161                   & 161                   & NA                    & 2                     & 20                    & 102                   & NA                   \\\\\n",
       "\\end{tabular}\n"
      ],
      "text/markdown": [
       "\n",
       "| <!--/--> | X.SampleID | BarcodeSequence | LinkerPrimerSequence | Primer | ReversePrimer | Barcode_ID | sample_number | host_subject_id | host_german_name | host_common_name | ⋯ | wellplate_position_Illumina | Cornell_Dilution_DNA_Illumina | Num_Illumina | Num | sorting_454 | comments_additional | DNA_box_20180622 | sample_vol_20180622 | sample_label_20180622 | Description | \n",
       "|---|---|---|\n",
       "| X1.Eurasian.Beaver | X1.Eurasian.Beaver    | ACTCACGGTATG          | CATGCTGCCTCCCGTAGGAGT | GCCTCCCTCGCGCCATCAG   | AGAGTTTGATCCTGGCTCAG  | 338R_BC0049           | 1                     | 1                     | Biber                 | Eurasian.Beaver       | ⋯                     | B12                   | 4                     | 120                   | 18                    | 18                    | NA                    | 1                     | 20                    | 1                     | NA                    | \n",
       "| X101.Horse | X101.Horse            | ACGACGTCTTAG          | CATGCTGCCTCCCGTAGGAGT | GCCTCCCTCGCGCCATCAG   | AGAGTTTGATCCTGGCTCAG  | 338R_BC0030           | 101                   | 101                   | Hauspferd             | Horse                 | ⋯                     | E8                    | 16                    | 344                   | 160                   | 160                   | NA                    | 2                     | 20                    | 101                   | NA                    | \n",
       "| X102.Kulan | X102.Kulan            | ACGAGTGCTATC          | CATGCTGCCTCCCGTAGGAGT | GCCTCCCTCGCGCCATCAG   | AGAGTTTGATCCTGGCTCAG  | 338R_BC0031           | 102                   | 102                   | Khulan                | Kulan                 | ⋯                     | E9                    | 16                    | 345                   | 161                   | 161                   | NA                    | 2                     | 20                    | 102                   | NA                    | \n",
       "\n",
       "\n"
      ],
      "text/plain": [
       "                   X.SampleID         BarcodeSequence LinkerPrimerSequence \n",
       "X1.Eurasian.Beaver X1.Eurasian.Beaver ACTCACGGTATG    CATGCTGCCTCCCGTAGGAGT\n",
       "X101.Horse         X101.Horse         ACGACGTCTTAG    CATGCTGCCTCCCGTAGGAGT\n",
       "X102.Kulan         X102.Kulan         ACGAGTGCTATC    CATGCTGCCTCCCGTAGGAGT\n",
       "                   Primer              ReversePrimer        Barcode_ID \n",
       "X1.Eurasian.Beaver GCCTCCCTCGCGCCATCAG AGAGTTTGATCCTGGCTCAG 338R_BC0049\n",
       "X101.Horse         GCCTCCCTCGCGCCATCAG AGAGTTTGATCCTGGCTCAG 338R_BC0030\n",
       "X102.Kulan         GCCTCCCTCGCGCCATCAG AGAGTTTGATCCTGGCTCAG 338R_BC0031\n",
       "                   sample_number host_subject_id host_german_name\n",
       "X1.Eurasian.Beaver 1             1               Biber           \n",
       "X101.Horse         101           101             Hauspferd       \n",
       "X102.Kulan         102           102             Khulan          \n",
       "                   host_common_name ⋯ wellplate_position_Illumina\n",
       "X1.Eurasian.Beaver Eurasian.Beaver  ⋯ B12                        \n",
       "X101.Horse         Horse            ⋯ E8                         \n",
       "X102.Kulan         Kulan            ⋯ E9                         \n",
       "                   Cornell_Dilution_DNA_Illumina Num_Illumina Num sorting_454\n",
       "X1.Eurasian.Beaver 4                             120          18  18         \n",
       "X101.Horse         16                            344          160 160        \n",
       "X102.Kulan         16                            345          161 161        \n",
       "                   comments_additional DNA_box_20180622 sample_vol_20180622\n",
       "X1.Eurasian.Beaver NA                  1                20                 \n",
       "X101.Horse         NA                  2                20                 \n",
       "X102.Kulan         NA                  2                20                 \n",
       "                   sample_label_20180622 Description\n",
       "X1.Eurasian.Beaver 1                     NA         \n",
       "X101.Horse         101                   NA         \n",
       "X102.Kulan         102                   NA         "
      ]
     },
     "metadata": {},
     "output_type": "display_data"
    }
   ],
   "source": [
    "# filtering metdata\n",
    "metadata = metadata[x,]\n",
    "metadata %>% status"
   ]
  },
  {
   "cell_type": "code",
   "execution_count": 27,
   "metadata": {
    "ExecuteTime": {
     "end_time": "2018-06-25T14:58:06.961269Z",
     "start_time": "2018-06-25T14:55:34.291Z"
    }
   },
   "outputs": [
    {
     "name": "stdout",
     "output_type": "stream",
     "text": [
      "character(0)\n",
      "character(0)\n"
     ]
    }
   ],
   "source": [
    "# otu overlap with tree\n",
    "setdiff(rownames(physeq_otu), rownames(physeq_tax)) %>% print\n",
    "setdiff(rownames(physeq_otu), tree$tip.label) %>% print"
   ]
  },
  {
   "cell_type": "markdown",
   "metadata": {},
   "source": [
    "# Making phyloseq obj"
   ]
  },
  {
   "cell_type": "code",
   "execution_count": 28,
   "metadata": {
    "ExecuteTime": {
     "end_time": "2018-06-25T14:58:16.200719Z",
     "start_time": "2018-06-25T14:55:34.294Z"
    }
   },
   "outputs": [
    {
     "data": {
      "text/plain": [
       "phyloseq-class experiment-level object\n",
       "otu_table()   OTU Table:         [ 39903 taxa and 273 samples ]\n",
       "sample_data() Sample Data:       [ 273 samples by 171 sample variables ]\n",
       "tax_table()   Taxonomy Table:    [ 39903 taxa by 7 taxonomic ranks ]\n",
       "phy_tree()    Phylogenetic Tree: [ 39903 tips and 39154 internal nodes ]"
      ]
     },
     "metadata": {},
     "output_type": "display_data"
    }
   ],
   "source": [
    "physeq = phyloseq(\n",
    "                  otu_table(physeq_otu %>% as.matrix, taxa_are_rows=TRUE),\n",
    "                  sample_data(metadata),\n",
    "                  tax_table(physeq_tax %>% as.matrix),\n",
    "                  phy_tree(tree)\n",
    "                 )\n",
    "physeq"
   ]
  },
  {
   "cell_type": "markdown",
   "metadata": {},
   "source": [
    "## Writing object"
   ]
  },
  {
   "cell_type": "code",
   "execution_count": 29,
   "metadata": {
    "ExecuteTime": {
     "end_time": "2018-06-25T14:58:20.076157Z",
     "start_time": "2018-06-25T14:55:34.295Z"
    }
   },
   "outputs": [
    {
     "name": "stdout",
     "output_type": "stream",
     "text": [
      "File written: /ebio/abt3_projects/Georg_animal_feces/data/16S/LLA/phyloseq//physeq.RDS \n"
     ]
    }
   ],
   "source": [
    "physeq_file = file.path(work_dir, 'physeq.RDS')\n",
    "saveRDS(physeq, file=physeq_file)\n",
    "cat('File written:', physeq_file, '\\n')"
   ]
  },
  {
   "cell_type": "markdown",
   "metadata": {},
   "source": [
    "# sessionInfo"
   ]
  },
  {
   "cell_type": "code",
   "execution_count": 30,
   "metadata": {
    "ExecuteTime": {
     "end_time": "2018-06-25T14:58:20.504038Z",
     "start_time": "2018-06-25T14:55:34.298Z"
    }
   },
   "outputs": [
    {
     "data": {
      "text/plain": [
       "R version 3.4.1 (2017-06-30)\n",
       "Platform: x86_64-pc-linux-gnu (64-bit)\n",
       "Running under: Ubuntu 16.04.4 LTS\n",
       "\n",
       "Matrix products: default\n",
       "BLAS: /ebio/abt3_projects/software/miniconda3/envs/py3_physeq/lib/R/lib/libRblas.so\n",
       "LAPACK: /ebio/abt3_projects/software/miniconda3/envs/py3_physeq/lib/R/lib/libRlapack.so\n",
       "\n",
       "locale:\n",
       " [1] LC_CTYPE=en_US.UTF-8       LC_NUMERIC=C              \n",
       " [3] LC_TIME=en_US.UTF-8        LC_COLLATE=en_US.UTF-8    \n",
       " [5] LC_MONETARY=en_US.UTF-8    LC_MESSAGES=en_US.UTF-8   \n",
       " [7] LC_PAPER=en_US.UTF-8       LC_NAME=C                 \n",
       " [9] LC_ADDRESS=C               LC_TELEPHONE=C            \n",
       "[11] LC_MEASUREMENT=en_US.UTF-8 LC_IDENTIFICATION=C       \n",
       "\n",
       "attached base packages:\n",
       "[1] stats     graphics  grDevices utils     datasets  methods   base     \n",
       "\n",
       "other attached packages:\n",
       "[1] bindrcpp_0.2    phyloseq_1.22.3 tidyr_0.8.1     dplyr_0.7.4    \n",
       "\n",
       "loaded via a namespace (and not attached):\n",
       " [1] pbdZMQ_0.3-1        tidyselect_0.2.4    repr_0.12.0        \n",
       " [4] reshape2_1.4.3      purrr_0.2.4         splines_3.4.1      \n",
       " [7] lattice_0.20-35     rhdf5_2.22.0        colorspace_1.3-2   \n",
       "[10] stats4_3.4.1        mgcv_1.8-17         survival_2.40-1    \n",
       "[13] rlang_0.2.0         pillar_1.2.2        glue_1.2.0         \n",
       "[16] BiocGenerics_0.24.0 uuid_0.1-2          foreach_1.4.4      \n",
       "[19] bindr_0.1.1         plyr_1.8.4          stringr_1.2.0      \n",
       "[22] zlibbioc_1.24.0     Biostrings_2.46.0   munsell_0.5.0      \n",
       "[25] gtable_0.2.0        codetools_0.2-15    evaluate_0.10.1    \n",
       "[28] Biobase_2.38.0      permute_0.9-4       IRanges_2.12.0     \n",
       "[31] biomformat_1.6.0    parallel_3.4.1      IRdisplay_0.4.4    \n",
       "[34] Rcpp_0.12.14        scales_0.5.0        IRkernel_0.8.11    \n",
       "[37] vegan_2.4-3         S4Vectors_0.16.0    jsonlite_1.5       \n",
       "[40] XVector_0.18.0      ggplot2_2.2.1       digest_0.6.13      \n",
       "[43] stringi_1.1.6       ade4_1.7-10         grid_3.4.1         \n",
       "[46] tools_3.4.1         magrittr_1.5        lazyeval_0.2.1     \n",
       "[49] tibble_1.4.2        cluster_2.0.6       crayon_1.3.4       \n",
       "[52] ape_5.1             pkgconfig_2.0.1     MASS_7.3-48        \n",
       "[55] Matrix_1.2-14       data.table_1.10.4   assertthat_0.2.0   \n",
       "[58] iterators_1.0.9     R6_2.2.2            multtest_2.34.0    \n",
       "[61] igraph_1.2.1        nlme_3.1-137        compiler_3.4.1     "
      ]
     },
     "metadata": {},
     "output_type": "display_data"
    }
   ],
   "source": [
    "sessionInfo()"
   ]
  },
  {
   "cell_type": "code",
   "execution_count": 31,
   "metadata": {
    "ExecuteTime": {
     "end_time": "2018-06-25T14:58:29.504565Z",
     "start_time": "2018-06-25T14:55:34.299Z"
    }
   },
   "outputs": [
    {
     "name": "stdout",
     "output_type": "stream",
     "text": [
      "# packages in environment at /ebio/abt3_projects/software/miniconda3/envs/qiime2:\n",
      "#\n",
      "aioeasywebdav             2.2.0                    py35_0    conda-forge\n",
      "aiohttp                   2.2.5            py35h8d7d2b0_0  \n",
      "appdirs                   1.4.3                    py35_0  \n",
      "asn1crypto                0.22.0                   py35_0    conda-forge\n",
      "async-timeout             2.0.0            py35h12a94dc_0  \n",
      "backports                 1.0                      py35_1    conda-forge\n",
      "backports.functools_lru_cache 1.4                      py35_1    conda-forge\n",
      "bcrypt                    3.1.4            py35ha35c455_0  \n",
      "bioconductor-biobase      2.34.0                 r3.3.2_0    bioconda\n",
      "bioconductor-biocgenerics 0.22.0                 r3.3.2_0    bioconda\n",
      "bioconductor-biocparallel 1.6.6                  r3.3.2_1    bioconda\n",
      "bioconductor-biostrings   2.42.1                 r3.3.2_0    bioconda\n",
      "bioconductor-dada2        1.4.0                  r3.3.2_0    bioconda\n",
      "bioconductor-genomeinfodb 1.10.3                 r3.3.2_0    bioconda\n",
      "bioconductor-genomicalignments 1.10.0                 r3.3.2_0    bioconda\n",
      "bioconductor-genomicranges 1.26.4                 r3.3.2_0    bioconda\n",
      "bioconductor-iranges      2.8.2                  r3.3.2_0    bioconda\n",
      "bioconductor-rsamtools    1.26.1                 r3.3.2_0    bioconda\n",
      "bioconductor-s4vectors    0.12.2                 r3.3.2_0    bioconda\n",
      "bioconductor-shortread    1.32.0                 r3.3.2_0    bioconda\n",
      "bioconductor-summarizedexperiment 1.4.0                  r3.3.2_2    bioconda\n",
      "bioconductor-xvector      0.14.1                 r3.3.2_0    bioconda\n",
      "bioconductor-zlibbioc     1.20.0                 r3.3.2_1    bioconda\n",
      "biom-format               2.1.6                    py35_8    qiime2\n",
      "biopython                 1.69                np113py35_0  \n",
      "blast                     2.6.0               boost1.64_2    bioconda\n",
      "bleach                    2.0.0                    py35_0    conda-forge\n",
      "bokeh                     0.12.9                   py35_0    conda-forge\n",
      "boost                     1.64.0                   py35_4    conda-forge\n",
      "boost-cpp                 1.64.0                        1    conda-forge\n",
      "bzip2                     1.0.6                         1    conda-forge\n",
      "ca-certificates           2017.7.27.1                   0    conda-forge\n",
      "cachecontrol              0.12.3                   py35_0  \n",
      "cairo                     1.14.6                        4    conda-forge\n",
      "certifi                   2017.7.27.1              py35_0    conda-forge\n",
      "cffi                      1.10.0                   py35_0    conda-forge\n",
      "chardet                   3.0.4                    py35_0    conda-forge\n",
      "click                     6.7                      py35_0    conda-forge\n",
      "configargparse            0.12.0                   py35_0  \n",
      "cryptography              2.0.3                    py35_0    conda-forge\n",
      "curl                      7.54.1                        0    conda-forge\n",
      "cycler                    0.10.0                   py35_0    conda-forge\n",
      "cython                    0.27.2                   py35_0    conda-forge\n",
      "dbus                      1.10.22                       0    conda-forge\n",
      "deblur                    1.0.3            py35h87d23f6_0    biocore\n",
      "decorator                 4.1.2                    py35_0    conda-forge\n",
      "docutils                  0.14             py35hd11081d_0  \n",
      "dropbox                   8.5.0            py35h4c242c8_0  \n",
      "emperor                   1.0.0beta11              py35_2    conda-forge\n",
      "entrypoints               0.2.3                    py35_1    conda-forge\n",
      "expat                     2.2.1                         0    conda-forge\n",
      "fastcluster               1.1.23              np113py35_0    conda-forge\n",
      "fasttree                  2.1.9                         2    bioconda\n",
      "filechunkio               1.6                      py35_0    bioconda\n",
      "fontconfig                2.12.1                        4    conda-forge\n",
      "freetype                  2.7                           1    conda-forge\n",
      "ftputil                   3.2                      py35_0    bioconda\n",
      "future                    0.16.0                   py35_0    conda-forge\n",
      "gettext                   0.19.7                        1    conda-forge\n",
      "glib                      2.51.4                        0    conda-forge\n",
      "gmp                       6.1.2                         0    conda-forge\n",
      "gneiss                    0.4.2            py35hda95eb5_6    biocore\n",
      "graphite2                 1.3.9                         0    conda-forge\n",
      "gsl                       2.1                           2    conda-forge\n",
      "gst-plugins-base          1.8.0                         0    conda-forge\n",
      "gstreamer                 1.8.0                         2    conda-forge\n",
      "h5py                      2.7.0               np113py35_0  \n",
      "harfbuzz                  1.4.3                         0    conda-forge\n",
      "hdf5                      1.8.17                       11    conda-forge\n",
      "html5lib                  0.999999999              py35_0    conda-forge\n",
      "icu                       58.1                          1    conda-forge\n",
      "idna                      2.6                      py35_1    conda-forge\n",
      "ijson                     2.3                      py35_0    qiime2\n",
      "ipykernel                 4.6.1                    py35_0    conda-forge\n",
      "ipython                   6.2.1                    py35_0    conda-forge\n",
      "ipython_genutils          0.2.0                    py35_0    conda-forge\n",
      "ipywidgets                7.0.3                      py_0    conda-forge\n",
      "jedi                      0.10.2                   py35_0    conda-forge\n",
      "jinja2                    2.9.6                    py35_0    conda-forge\n",
      "jpeg                      9b                            1    conda-forge\n",
      "jsonschema                2.6.0                    py35_0    conda-forge\n",
      "jupyter_client            5.1.0                    py35_0    conda-forge\n",
      "jupyter_core              4.3.0                    py35_0    conda-forge\n",
      "krb5                      1.14.2                        0    conda-forge\n",
      "libffi                    3.2.1                         3    conda-forge\n",
      "libgcc                    5.2.0                         0  \n",
      "libgcc-ng                 7.2.0                h7cc24e2_2  \n",
      "libgfortran               3.0.0                         1  \n",
      "libiconv                  1.14                          4    conda-forge\n",
      "libpng                    1.6.28                        1    conda-forge\n",
      "libsodium                 1.0.10                        0    conda-forge\n",
      "libssh2                   1.8.0                         1    conda-forge\n",
      "libtiff                   4.0.7                         0    conda-forge\n",
      "libxcb                    1.12                          1    conda-forge\n",
      "libxml2                   2.9.5                         0    conda-forge\n",
      "lockfile                  0.12.2                   py35_0    conda-forge\n",
      "mafft                     7.310                         0    bioconda\n",
      "markupsafe                1.0                      py35_0    conda-forge\n",
      "matplotlib                2.1.0                    py35_0    conda-forge\n",
      "mistune                   0.7.4                    py35_0    conda-forge\n",
      "mkl                       2017.0.3                      0  \n",
      "msgpack-python            0.4.8                    py35_0    conda-forge\n",
      "multidict                 3.3.2            py35he92878e_0  \n",
      "natsort                   5.0.2                    py35_0    conda-forge\n",
      "nbconvert                 5.3.1                      py_1    conda-forge\n",
      "nbformat                  4.4.0                    py35_0    conda-forge\n",
      "ncurses                   5.9                          10    conda-forge\n",
      "nose                      1.3.7                    py35_2    conda-forge\n",
      "notebook                  5.2.0                    py35_1    conda-forge\n",
      "numpy                     1.13.1                   py35_0  \n",
      "openjdk                   8.0.121                       1  \n",
      "openssl                   1.0.2l                        0    conda-forge\n",
      "pandas                    0.20.3                   py35_1    conda-forge\n",
      "pandoc                    1.19.2                        0    conda-forge\n",
      "pandocfilters             1.4.1                    py35_0    conda-forge\n",
      "pango                     1.40.4                        0    conda-forge\n",
      "paramiko                  2.4.0            py35h25c86cb_0  \n",
      "patsy                     0.4.1                    py35_0    conda-forge\n",
      "pcre                      8.39                          0    conda-forge\n",
      "pexpect                   4.2.1                    py35_0    conda-forge\n",
      "pickleshare               0.7.4                    py35_0    conda-forge\n",
      "pip                       9.0.1                    py35_0    conda-forge\n",
      "pixman                    0.34.0                        0    conda-forge\n",
      "prompt_toolkit            1.0.15                   py35_0    conda-forge\n",
      "psutil                    5.4.0                    py35_0    conda-forge\n",
      "ptyprocess                0.5.2                    py35_0    conda-forge\n",
      "pyasn1                    0.3.7            py35h2fee745_0  \n",
      "pycparser                 2.18                     py35_0    conda-forge\n",
      "pygments                  2.2.0                    py35_0    conda-forge\n",
      "pynacl                    1.2.0            py35h9037bf7_0  \n",
      "pyopenssl                 17.2.0                   py35_0    conda-forge\n",
      "pyparsing                 2.2.0                    py35_0    conda-forge\n",
      "pyqt                      5.6.0                    py35_4    conda-forge\n",
      "pysftp                    0.2.9                    py35_0    bioconda\n",
      "pysocks                   1.6.7                    py35_0    conda-forge\n",
      "python                    3.5.4                         0    conda-forge\n",
      "python-dateutil           2.6.1                    py35_0    conda-forge\n",
      "pytz                      2017.2                   py35_0    conda-forge\n",
      "pyyaml                    3.12                     py35_1    conda-forge\n",
      "pyzmq                     16.0.2                   py35_2    conda-forge\n",
      "q2-alignment              2017.10.0                py35_0    qiime2/label/r2017.10\n",
      "q2-composition            2017.10.0                py35_0    qiime2/label/r2017.10\n",
      "q2-dada2                  2017.10.0                py35_0    qiime2/label/r2017.10\n",
      "q2-deblur                 2017.10.0                py35_0    qiime2/label/r2017.10\n",
      "q2-demux                  2017.10.0                py35_0    qiime2/label/r2017.10\n",
      "q2-diversity              2017.10.0                py35_0    qiime2/label/r2017.10\n",
      "q2-emperor                2017.10.0                py35_0    qiime2/label/r2017.10\n",
      "q2-feature-classifier     2017.10.0                py35_0    qiime2/label/r2017.10\n",
      "q2-feature-table          2017.10.0                py35_0    qiime2/label/r2017.10\n",
      "q2-gneiss                 2017.10.0                py35_0    qiime2/label/r2017.10\n",
      "q2-longitudinal           2017.10.0                py35_0    qiime2/label/r2017.10\n",
      "q2-metadata               2017.10.0                py35_0    qiime2/label/r2017.10\n",
      "q2-phylogeny              2017.10.0                py35_0    qiime2/label/r2017.10\n",
      "q2-quality-control        2017.10.0                py35_0    qiime2/label/r2017.10\n",
      "q2-quality-filter         2017.10.0                py35_0    qiime2/label/r2017.10\n",
      "q2-sample-classifier      2017.10.0                py35_0    qiime2/label/r2017.10\n",
      "q2-taxa                   2017.10.0                py35_0    qiime2/label/r2017.10\n",
      "q2-types                  2017.10.0                py35_0    qiime2/label/r2017.10\n",
      "q2-vsearch                2017.10.0                py35_0    qiime2/label/r2017.10\n",
      "q2cli                     2017.10.0                py35_0    qiime2/label/r2017.10\n",
      "q2templates               2017.10.0                py35_0    qiime2/label/r2017.10\n",
      "qiime2                    2017.10.0                py35_0    qiime2/label/r2017.10\n",
      "qiime_2_ll_quick_viewer   0.2.8            py35h00adcf4_0    leylabmpi\n",
      "qt                        5.6.2                         3    conda-forge\n",
      "r-base                    3.3.2                         5    conda-forge\n",
      "r-bh                      1.62.0_1               r3.3.2_0    conda-forge\n",
      "r-bitops                  1.0_6                  r3.3.2_0    conda-forge\n",
      "r-colorspace              1.3_2                  r3.3.2_0    conda-forge\n",
      "r-data.table              1.10.4                 r3.3.2_0    conda-forge\n",
      "r-dichromat               2.0_0                  r3.3.2_0    conda-forge\n",
      "r-digest                  0.6.12                 r3.3.2_0    conda-forge\n",
      "r-futile.logger           1.4.3                  r3.3.2_0    conda-forge\n",
      "r-futile.options          1.0.0                  r3.3.2_0    conda-forge\n",
      "r-ggplot2                 2.2.1                  r3.3.2_0    conda-forge\n",
      "r-gtable                  0.2.0                  r3.3.2_0    conda-forge\n",
      "r-hwriter                 1.3.2                  r3.3.2_0    conda-forge\n",
      "r-labeling                0.3                    r3.3.2_0    conda-forge\n",
      "r-lambda.r                1.1.9                  r3.3.2_0    conda-forge\n",
      "r-lattice                 0.20_34                r3.3.2_0    conda-forge\n",
      "r-latticeextra            0.6_28                 r3.3.2_0    conda-forge\n",
      "r-lazyeval                0.2.0                  r3.3.2_0    conda-forge\n",
      "r-magrittr                1.5                    r3.3.2_0    conda-forge\n",
      "r-mass                    7.3_45                 r3.3.2_0    conda-forge\n",
      "r-matrix                  1.2_7.1                r3.3.2_0    conda-forge\n",
      "r-munsell                 0.4.3                  r3.3.2_0    conda-forge\n",
      "r-plyr                    1.8.4                  r3.3.2_0    conda-forge\n",
      "r-rcolorbrewer            1.1_2                  r3.3.2_0    conda-forge\n",
      "r-rcpp                    0.12.13                r3.3.2_0    conda-forge\n",
      "r-rcppparallel            4.3.20                 r3.3.2_0    conda-forge\n",
      "r-rcurl                   1.95_4.8               r3.3.2_0    conda-forge\n",
      "r-reshape2                1.4.2                  r3.3.2_0    conda-forge\n",
      "r-rlang                   0.1.2                  r3.3.2_0    conda-forge\n",
      "r-scales                  0.4.1                  r3.3.2_0    conda-forge\n",
      "r-snow                    0.4_2                  r3.3.2_0    conda-forge\n",
      "r-stringi                 1.1.2                  r3.3.2_0    conda-forge\n",
      "r-stringr                 1.2.0                  r3.3.2_0    conda-forge\n",
      "r-tibble                  1.3.3                  r3.3.2_0    conda-forge\n",
      "ratelimiter               1.2.0                    py35_0    conda-forge\n",
      "readline                  6.2                           0    conda-forge\n",
      "requests                  2.18.4                   py35_1    conda-forge\n",
      "scikit-bio                0.5.1               np113py35_0  \n",
      "scikit-learn              0.19.0              np113py35_0  \n",
      "scipy                     0.19.1              np113py35_0  \n",
      "seaborn                   0.8.1                    py35_0    conda-forge\n",
      "seqtk                     1.2                           0    bioconda\n",
      "setuptools                36.6.0                   py35_1    conda-forge\n",
      "simplegeneric             0.8.1                    py35_0    conda-forge\n",
      "sip                       4.18                     py35_1    conda-forge\n",
      "six                       1.11.0                   py35_1    conda-forge\n",
      "snakemake                 4.3.1                    py35_0    bioconda\n",
      "sortmerna                 2.0                           1    bioconda\n",
      "sqlite                    3.13.0                        1    conda-forge\n",
      "statsmodels               0.8.0                    py35_0    conda-forge\n",
      "terminado                 0.6                      py35_0    conda-forge\n",
      "testpath                  0.3.1                    py35_0    conda-forge\n",
      "tk                        8.5.19                        2    conda-forge\n",
      "tornado                   4.5.2                    py35_0    conda-forge\n",
      "traitlets                 4.3.2                    py35_0    conda-forge\n",
      "trimmomatic               0.36                          5    bioconda\n",
      "tzlocal                   1.3                      py35_0    qiime2\n",
      "unifrac                   0.9.2            py35hae32d81_1    biocore\n",
      "urllib3                   1.22                     py35_0    conda-forge\n",
      "vsearch                   2.5.0                         0    bioconda\n",
      "wcwidth                   0.1.7                    py35_0    conda-forge\n",
      "webencodings              0.5                      py35_0    conda-forge\n",
      "wheel                     0.30.0                     py_1    conda-forge\n",
      "widgetsnbextension        3.0.6                    py35_0    conda-forge\n",
      "wrapt                     1.10.11          py35hfdafd39_0  \n",
      "xorg-libxau               1.0.8                         3    conda-forge\n",
      "xorg-libxdmcp             1.1.2                         3    conda-forge\n",
      "xz                        5.2.3                         0    conda-forge\n",
      "yaml                      0.1.6                         0    conda-forge\n",
      "yarl                      0.14.2           py35h31c3c03_0  \n",
      "zeromq                    4.2.1                         1    conda-forge\n",
      "zlib                      1.2.8                         3    conda-forge"
     ]
    }
   ],
   "source": [
    "bash_job('conda list', conda_env) %>% paste(collapse='\\n') %>% cat"
   ]
  },
  {
   "cell_type": "code",
   "execution_count": null,
   "metadata": {},
   "outputs": [],
   "source": []
  }
 ],
 "metadata": {
  "kernelspec": {
   "display_name": "R [conda env:py3_physeq]",
   "language": "R",
   "name": "conda-env-py3_physeq-r"
  },
  "language_info": {
   "codemirror_mode": "r",
   "file_extension": ".r",
   "mimetype": "text/x-r-source",
   "name": "R",
   "pygments_lexer": "r",
   "version": "3.4.1"
  },
  "notify_time": "30",
  "toc": {
   "base_numbering": 1,
   "nav_menu": {},
   "number_sections": true,
   "sideBar": true,
   "skip_h1_title": false,
   "title_cell": "Table of Contents",
   "title_sidebar": "Contents",
   "toc_cell": true,
   "toc_position": {
    "height": "1209px",
    "left": "0px",
    "right": "1068px",
    "top": "111px",
    "width": "212px"
   },
   "toc_section_display": "block",
   "toc_window_display": true
  }
 },
 "nbformat": 4,
 "nbformat_minor": 2
}
