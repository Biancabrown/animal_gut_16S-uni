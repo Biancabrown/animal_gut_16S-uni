{
 "cells": [
  {
   "cell_type": "markdown",
   "metadata": {
    "toc": true
   },
   "source": [
    "<h1>Table of Contents<span class=\"tocSkip\"></span></h1>\n",
    "<div class=\"toc\"><ul class=\"toc-item\"><li><span><a href=\"#Goal\" data-toc-modified-id=\"Goal-1\"><span class=\"toc-item-num\">1&nbsp;&nbsp;</span>Goal</a></span></li><li><span><a href=\"#Var\" data-toc-modified-id=\"Var-2\"><span class=\"toc-item-num\">2&nbsp;&nbsp;</span>Var</a></span></li><li><span><a href=\"#Init\" data-toc-modified-id=\"Init-3\"><span class=\"toc-item-num\">3&nbsp;&nbsp;</span>Init</a></span></li><li><span><a href=\"#Convert-to-qiime2-artifacts\" data-toc-modified-id=\"Convert-to-qiime2-artifacts-4\"><span class=\"toc-item-num\">4&nbsp;&nbsp;</span>Convert to qiime2 artifacts</a></span><ul class=\"toc-item\"><li><span><a href=\"#OTU-table\" data-toc-modified-id=\"OTU-table-4.1\"><span class=\"toc-item-num\">4.1&nbsp;&nbsp;</span>OTU table</a></span></li><li><span><a href=\"#Metadata\" data-toc-modified-id=\"Metadata-4.2\"><span class=\"toc-item-num\">4.2&nbsp;&nbsp;</span>Metadata</a></span></li><li><span><a href=\"#Taxonomy\" data-toc-modified-id=\"Taxonomy-4.3\"><span class=\"toc-item-num\">4.3&nbsp;&nbsp;</span>Taxonomy</a></span></li><li><span><a href=\"#Phylogeny\" data-toc-modified-id=\"Phylogeny-4.4\"><span class=\"toc-item-num\">4.4&nbsp;&nbsp;</span>Phylogeny</a></span></li></ul></li><li><span><a href=\"#Calculating-diversity\" data-toc-modified-id=\"Calculating-diversity-5\"><span class=\"toc-item-num\">5&nbsp;&nbsp;</span>Calculating diversity</a></span><ul class=\"toc-item\"><li><span><a href=\"#non-phylogenetic\" data-toc-modified-id=\"non-phylogenetic-5.1\"><span class=\"toc-item-num\">5.1&nbsp;&nbsp;</span>non-phylogenetic</a></span></li><li><span><a href=\"#phylogenetic\" data-toc-modified-id=\"phylogenetic-5.2\"><span class=\"toc-item-num\">5.2&nbsp;&nbsp;</span>phylogenetic</a></span></li></ul></li><li><span><a href=\"#Converting-to-R-objects\" data-toc-modified-id=\"Converting-to-R-objects-6\"><span class=\"toc-item-num\">6&nbsp;&nbsp;</span>Converting to R objects</a></span><ul class=\"toc-item\"><li><span><a href=\"#alpha-diversity\" data-toc-modified-id=\"alpha-diversity-6.1\"><span class=\"toc-item-num\">6.1&nbsp;&nbsp;</span>alpha-diversity</a></span><ul class=\"toc-item\"><li><span><a href=\"#Compiling-into-list-object\" data-toc-modified-id=\"Compiling-into-list-object-6.1.1\"><span class=\"toc-item-num\">6.1.1&nbsp;&nbsp;</span>Compiling into list object</a></span></li></ul></li><li><span><a href=\"#beta-diversity\" data-toc-modified-id=\"beta-diversity-6.2\"><span class=\"toc-item-num\">6.2&nbsp;&nbsp;</span>beta-diversity</a></span><ul class=\"toc-item\"><li><span><a href=\"#Compiling-into-list-object\" data-toc-modified-id=\"Compiling-into-list-object-6.2.1\"><span class=\"toc-item-num\">6.2.1&nbsp;&nbsp;</span>Compiling into list object</a></span></li></ul></li></ul></li><li><span><a href=\"#Final-files\" data-toc-modified-id=\"Final-files-7\"><span class=\"toc-item-num\">7&nbsp;&nbsp;</span>Final files</a></span></li><li><span><a href=\"#sessionInfo\" data-toc-modified-id=\"sessionInfo-8\"><span class=\"toc-item-num\">8&nbsp;&nbsp;</span>sessionInfo</a></span></li></ul></div>"
   ]
  },
  {
   "cell_type": "markdown",
   "metadata": {},
   "source": [
    "# Goal\n",
    "\n",
    "* calculating alpha and beta diversity with qiime2, because phyloseq seems to generate odd/incorrect weighted unifrac values"
   ]
  },
  {
   "cell_type": "markdown",
   "metadata": {},
   "source": [
    "# Var"
   ]
  },
  {
   "cell_type": "code",
   "execution_count": 1,
   "metadata": {
    "ExecuteTime": {
     "end_time": "2018-07-07T05:43:54.921517Z",
     "start_time": "2018-07-07T05:43:54.196Z"
    }
   },
   "outputs": [],
   "source": [
    "work_dir = '/ebio/abt3_projects/Georg_animal_feces/data/16S/LLA/diversity/'\n",
    "\n",
    "# phyloseq \n",
    "physeq_file = '/ebio/abt3_projects/Georg_animal_feces/data/16S/LLA/phyloseq/physeq_r5k.RDS'\n",
    "\n",
    "# misc\n",
    "conda_env = 'qiime2'"
   ]
  },
  {
   "cell_type": "markdown",
   "metadata": {},
   "source": [
    "# Init"
   ]
  },
  {
   "cell_type": "code",
   "execution_count": 2,
   "metadata": {
    "ExecuteTime": {
     "end_time": "2018-07-07T05:44:08.989753Z",
     "start_time": "2018-07-07T05:43:54.199Z"
    }
   },
   "outputs": [
    {
     "name": "stderr",
     "output_type": "stream",
     "text": [
      "\n",
      "Attaching package: ‘dplyr’\n",
      "\n",
      "The following objects are masked from ‘package:stats’:\n",
      "\n",
      "    filter, lag\n",
      "\n",
      "The following objects are masked from ‘package:base’:\n",
      "\n",
      "    intersect, setdiff, setequal, union\n",
      "\n"
     ]
    }
   ],
   "source": [
    "library(dplyr)\n",
    "library(tidyr)\n",
    "library(ggplot2)\n",
    "library(phyloseq)\n",
    "library(ape)\n",
    "source('/ebio/abt3_projects/Georg_animal_feces/code/init.R') "
   ]
  },
  {
   "cell_type": "markdown",
   "metadata": {},
   "source": [
    "# Convert to qiime2 artifacts"
   ]
  },
  {
   "cell_type": "code",
   "execution_count": 3,
   "metadata": {
    "ExecuteTime": {
     "end_time": "2018-07-07T05:44:10.589073Z",
     "start_time": "2018-07-07T05:43:54.202Z"
    }
   },
   "outputs": [
    {
     "data": {
      "text/plain": [
       "phyloseq-class experiment-level object\n",
       "otu_table()   OTU Table:         [ 30290 taxa and 213 samples ]\n",
       "sample_data() Sample Data:       [ 213 samples by 171 sample variables ]\n",
       "tax_table()   Taxonomy Table:    [ 30290 taxa by 7 taxonomic ranks ]\n",
       "phy_tree()    Phylogenetic Tree: [ 30290 tips and 29752 internal nodes ]"
      ]
     },
     "metadata": {},
     "output_type": "display_data"
    }
   ],
   "source": [
    "# loading phyloseq object\n",
    "physeq = readRDS(physeq_file)\n",
    "physeq"
   ]
  },
  {
   "cell_type": "markdown",
   "metadata": {},
   "source": [
    "## OTU table"
   ]
  },
  {
   "cell_type": "code",
   "execution_count": 4,
   "metadata": {
    "ExecuteTime": {
     "end_time": "2018-07-07T05:44:41.431755Z",
     "start_time": "2018-07-07T05:43:54.203Z"
    }
   },
   "outputs": [
    {
     "name": "stdout",
     "output_type": "stream",
     "text": [
      "[1] 30290   214\n"
     ]
    },
    {
     "data": {
      "text/html": [
       "<table>\n",
       "<thead><tr><th></th><th scope=col>OTU</th><th scope=col>X1.Eurasian.Beaver</th><th scope=col>X101.Horse</th><th scope=col>X102.Kulan</th><th scope=col>X109.Red.Fox</th><th scope=col>X110.Noctule</th><th scope=col>X111.West.European.Hedgehog</th><th scope=col>X116.Common.Kestrel</th><th scope=col>X122.Wild.Boar</th><th scope=col>X123.Alpine.Chamois</th><th scope=col>⋯</th><th scope=col>F45.Red.Deer</th><th scope=col>F47.Red.Deer</th><th scope=col>F48.Red.Deer</th><th scope=col>F53.Mouflon</th><th scope=col>F66.Wild.Boar</th><th scope=col>F68.Red.Deer</th><th scope=col>F69.Red.Deer</th><th scope=col>F70.Red.Deer</th><th scope=col>F80.Red.Deer</th><th scope=col>F90.Domestic.Dog</th></tr></thead>\n",
       "<tbody>\n",
       "\t<tr><th scope=row>ea2df9bcd7f6a10e0fa509d237d19c6d</th><td>ea2df9bcd7f6a10e0fa509d237d19c6d</td><td>0                               </td><td>2                               </td><td>0                               </td><td>0                               </td><td>0                               </td><td>0                               </td><td>0                               </td><td>0                               </td><td>0                               </td><td>⋯                               </td><td>0                               </td><td>0                               </td><td>0                               </td><td>0                               </td><td>0                               </td><td>0                               </td><td>0                               </td><td>0                               </td><td>0                               </td><td>0                               </td></tr>\n",
       "\t<tr><th scope=row>130b094f31455943fb20899a36af8afd</th><td>130b094f31455943fb20899a36af8afd</td><td>0                               </td><td>0                               </td><td>0                               </td><td>0                               </td><td>0                               </td><td>0                               </td><td>0                               </td><td>0                               </td><td>0                               </td><td>⋯                               </td><td>0                               </td><td>0                               </td><td>0                               </td><td>0                               </td><td>0                               </td><td>0                               </td><td>0                               </td><td>0                               </td><td>0                               </td><td>0                               </td></tr>\n",
       "\t<tr><th scope=row>b9b9562a0f34ad60c552f7f46d7a4b3b</th><td>b9b9562a0f34ad60c552f7f46d7a4b3b</td><td>0                               </td><td>0                               </td><td>0                               </td><td>0                               </td><td>0                               </td><td>0                               </td><td>0                               </td><td>0                               </td><td>0                               </td><td>⋯                               </td><td>0                               </td><td>0                               </td><td>0                               </td><td>0                               </td><td>0                               </td><td>0                               </td><td>0                               </td><td>0                               </td><td>0                               </td><td>0                               </td></tr>\n",
       "</tbody>\n",
       "</table>\n"
      ],
      "text/latex": [
       "\\begin{tabular}{r|llllllllllllllllllllllllllllllllllllllllllllllllllllllllllllllllllllllllllllllllllllllllllllllllllllllllllllllllllllllllllllllllllllllllllllllllllllllllllllllllllllllllllllllllllllllllllllllllllllllllllllllllllllll}\n",
       "  & OTU & X1.Eurasian.Beaver & X101.Horse & X102.Kulan & X109.Red.Fox & X110.Noctule & X111.West.European.Hedgehog & X116.Common.Kestrel & X122.Wild.Boar & X123.Alpine.Chamois & ⋯ & F45.Red.Deer & F47.Red.Deer & F48.Red.Deer & F53.Mouflon & F66.Wild.Boar & F68.Red.Deer & F69.Red.Deer & F70.Red.Deer & F80.Red.Deer & F90.Domestic.Dog\\\\\n",
       "\\hline\n",
       "\tea2df9bcd7f6a10e0fa509d237d19c6d & ea2df9bcd7f6a10e0fa509d237d19c6d & 0                                & 2                                & 0                                & 0                                & 0                                & 0                                & 0                                & 0                                & 0                                & ⋯                                & 0                                & 0                                & 0                                & 0                                & 0                                & 0                                & 0                                & 0                                & 0                                & 0                               \\\\\n",
       "\t130b094f31455943fb20899a36af8afd & 130b094f31455943fb20899a36af8afd & 0                                & 0                                & 0                                & 0                                & 0                                & 0                                & 0                                & 0                                & 0                                & ⋯                                & 0                                & 0                                & 0                                & 0                                & 0                                & 0                                & 0                                & 0                                & 0                                & 0                               \\\\\n",
       "\tb9b9562a0f34ad60c552f7f46d7a4b3b & b9b9562a0f34ad60c552f7f46d7a4b3b & 0                                & 0                                & 0                                & 0                                & 0                                & 0                                & 0                                & 0                                & 0                                & ⋯                                & 0                                & 0                                & 0                                & 0                                & 0                                & 0                                & 0                                & 0                                & 0                                & 0                               \\\\\n",
       "\\end{tabular}\n"
      ],
      "text/markdown": [
       "\n",
       "| <!--/--> | OTU | X1.Eurasian.Beaver | X101.Horse | X102.Kulan | X109.Red.Fox | X110.Noctule | X111.West.European.Hedgehog | X116.Common.Kestrel | X122.Wild.Boar | X123.Alpine.Chamois | ⋯ | F45.Red.Deer | F47.Red.Deer | F48.Red.Deer | F53.Mouflon | F66.Wild.Boar | F68.Red.Deer | F69.Red.Deer | F70.Red.Deer | F80.Red.Deer | F90.Domestic.Dog | \n",
       "|---|---|---|\n",
       "| ea2df9bcd7f6a10e0fa509d237d19c6d | ea2df9bcd7f6a10e0fa509d237d19c6d | 0                                | 2                                | 0                                | 0                                | 0                                | 0                                | 0                                | 0                                | 0                                | ⋯                                | 0                                | 0                                | 0                                | 0                                | 0                                | 0                                | 0                                | 0                                | 0                                | 0                                | \n",
       "| 130b094f31455943fb20899a36af8afd | 130b094f31455943fb20899a36af8afd | 0                                | 0                                | 0                                | 0                                | 0                                | 0                                | 0                                | 0                                | 0                                | ⋯                                | 0                                | 0                                | 0                                | 0                                | 0                                | 0                                | 0                                | 0                                | 0                                | 0                                | \n",
       "| b9b9562a0f34ad60c552f7f46d7a4b3b | b9b9562a0f34ad60c552f7f46d7a4b3b | 0                                | 0                                | 0                                | 0                                | 0                                | 0                                | 0                                | 0                                | 0                                | ⋯                                | 0                                | 0                                | 0                                | 0                                | 0                                | 0                                | 0                                | 0                                | 0                                | 0                                | \n",
       "\n",
       "\n"
      ],
      "text/plain": [
       "                                 OTU                             \n",
       "ea2df9bcd7f6a10e0fa509d237d19c6d ea2df9bcd7f6a10e0fa509d237d19c6d\n",
       "130b094f31455943fb20899a36af8afd 130b094f31455943fb20899a36af8afd\n",
       "b9b9562a0f34ad60c552f7f46d7a4b3b b9b9562a0f34ad60c552f7f46d7a4b3b\n",
       "                                 X1.Eurasian.Beaver X101.Horse X102.Kulan\n",
       "ea2df9bcd7f6a10e0fa509d237d19c6d 0                  2          0         \n",
       "130b094f31455943fb20899a36af8afd 0                  0          0         \n",
       "b9b9562a0f34ad60c552f7f46d7a4b3b 0                  0          0         \n",
       "                                 X109.Red.Fox X110.Noctule\n",
       "ea2df9bcd7f6a10e0fa509d237d19c6d 0            0           \n",
       "130b094f31455943fb20899a36af8afd 0            0           \n",
       "b9b9562a0f34ad60c552f7f46d7a4b3b 0            0           \n",
       "                                 X111.West.European.Hedgehog\n",
       "ea2df9bcd7f6a10e0fa509d237d19c6d 0                          \n",
       "130b094f31455943fb20899a36af8afd 0                          \n",
       "b9b9562a0f34ad60c552f7f46d7a4b3b 0                          \n",
       "                                 X116.Common.Kestrel X122.Wild.Boar\n",
       "ea2df9bcd7f6a10e0fa509d237d19c6d 0                   0             \n",
       "130b094f31455943fb20899a36af8afd 0                   0             \n",
       "b9b9562a0f34ad60c552f7f46d7a4b3b 0                   0             \n",
       "                                 X123.Alpine.Chamois ⋯ F45.Red.Deer\n",
       "ea2df9bcd7f6a10e0fa509d237d19c6d 0                   ⋯ 0           \n",
       "130b094f31455943fb20899a36af8afd 0                   ⋯ 0           \n",
       "b9b9562a0f34ad60c552f7f46d7a4b3b 0                   ⋯ 0           \n",
       "                                 F47.Red.Deer F48.Red.Deer F53.Mouflon\n",
       "ea2df9bcd7f6a10e0fa509d237d19c6d 0            0            0          \n",
       "130b094f31455943fb20899a36af8afd 0            0            0          \n",
       "b9b9562a0f34ad60c552f7f46d7a4b3b 0            0            0          \n",
       "                                 F66.Wild.Boar F68.Red.Deer F69.Red.Deer\n",
       "ea2df9bcd7f6a10e0fa509d237d19c6d 0             0            0           \n",
       "130b094f31455943fb20899a36af8afd 0             0            0           \n",
       "b9b9562a0f34ad60c552f7f46d7a4b3b 0             0            0           \n",
       "                                 F70.Red.Deer F80.Red.Deer F90.Domestic.Dog\n",
       "ea2df9bcd7f6a10e0fa509d237d19c6d 0            0            0               \n",
       "130b094f31455943fb20899a36af8afd 0            0            0               \n",
       "b9b9562a0f34ad60c552f7f46d7a4b3b 0            0            0               "
      ]
     },
     "metadata": {},
     "output_type": "display_data"
    }
   ],
   "source": [
    "# converting OTU table\n",
    "tmp = physeq %>% otu_table %>% as.matrix %>% as.data.frame\n",
    "tmp$OTU = rownames(tmp)\n",
    "tmp = cbind(tmp %>% dplyr::select(OTU),\n",
    "            tmp %>% dplyr::select(-OTU))\n",
    "\n",
    "tmp %>% status"
   ]
  },
  {
   "cell_type": "code",
   "execution_count": 5,
   "metadata": {
    "ExecuteTime": {
     "end_time": "2018-07-07T05:44:41.675164Z",
     "start_time": "2018-07-07T05:43:54.206Z"
    }
   },
   "outputs": [
    {
     "name": "stdout",
     "output_type": "stream",
     "text": [
      "    Min.  1st Qu.   Median     Mean  3rd Qu.     Max. \n",
      "    1.00     2.00     5.00    35.16    14.00 21557.00 \n",
      "   Min. 1st Qu.  Median    Mean 3rd Qu.    Max. \n",
      "   5000    5000    5000    5000    5000    5000 \n"
     ]
    }
   ],
   "source": [
    "# OTU table value summary\n",
    "rowSums(tmp[,2:ncol(tmp)]) %>% summary %>% print\n",
    "colSums(tmp[,2:ncol(tmp)]) %>% summary %>% print"
   ]
  },
  {
   "cell_type": "code",
   "execution_count": 6,
   "metadata": {
    "ExecuteTime": {
     "end_time": "2018-07-07T05:44:48.175660Z",
     "start_time": "2018-07-07T05:43:54.209Z"
    }
   },
   "outputs": [
    {
     "name": "stdout",
     "output_type": "stream",
     "text": [
      "File written: /ebio/abt3_projects/Georg_animal_feces/data/16S/LLA/diversity//physeq_r5k_otu-table.tsv \n"
     ]
    }
   ],
   "source": [
    "# writing out table\n",
    "otu_table_file = file.path(work_dir, 'physeq_r5k_otu-table.tsv')\n",
    "write.table(tmp, otu_table_file, sep='\\t', quote=FALSE, row.names=FALSE)\n",
    "cat('File written:', otu_table_file, '\\n')"
   ]
  },
  {
   "cell_type": "code",
   "execution_count": 7,
   "metadata": {
    "ExecuteTime": {
     "end_time": "2018-07-07T05:45:10.412146Z",
     "start_time": "2018-07-07T05:43:54.211Z"
    }
   },
   "outputs": [
    {
     "name": "stdout",
     "output_type": "stream",
     "text": [
      "[1] \"biom convert -i /ebio/abt3_projects/Georg_animal_feces/data/16S/LLA/diversity//physeq_r5k_otu-table.tsv -o /ebio/abt3_projects/Georg_animal_feces/data/16S/LLA/diversity//physeq_r5k_otu-table.biom --to-hdf5\"\n"
     ]
    },
    {
     "data": {
      "text/html": [],
      "text/latex": [],
      "text/markdown": [],
      "text/plain": [
       "character(0)"
      ]
     },
     "metadata": {},
     "output_type": "display_data"
    }
   ],
   "source": [
    "# converting otu to biom\n",
    "otu_biom_file = file.path(work_dir, 'physeq_r5k_otu-table.biom')\n",
    "cmd = sprintf('biom convert -i %s -o %s --to-hdf5', otu_table_file, otu_biom_file)\n",
    "print(cmd)\n",
    "bash_job(cmd, conda_env)"
   ]
  },
  {
   "cell_type": "code",
   "execution_count": 8,
   "metadata": {
    "ExecuteTime": {
     "end_time": "2018-07-07T05:45:55.089693Z",
     "start_time": "2018-07-07T05:43:54.213Z"
    }
   },
   "outputs": [
    {
     "name": "stdout",
     "output_type": "stream",
     "text": [
      "[1] \"qiime tools import --type FeatureTable[Frequency] --input-path /ebio/abt3_projects/Georg_animal_feces/data/16S/LLA/diversity//physeq_r5k_otu-table.biom --output-path /ebio/abt3_projects/Georg_animal_feces/data/16S/LLA/diversity//physeq_r5k_otu.qza\"\n"
     ]
    },
    {
     "data": {
      "text/html": [],
      "text/latex": [],
      "text/markdown": [],
      "text/plain": [
       "character(0)"
      ]
     },
     "metadata": {},
     "output_type": "display_data"
    }
   ],
   "source": [
    "# converting biom to qiime2 artifact\n",
    "otu_art_file = file.path(work_dir, 'physeq_r5k_otu.qza')\n",
    "cmd = sprintf('qiime tools import --type FeatureTable[Frequency] --input-path %s --output-path %s', \n",
    "              otu_biom_file, otu_art_file)\n",
    "print(cmd)\n",
    "bash_job(cmd, conda_env)"
   ]
  },
  {
   "cell_type": "markdown",
   "metadata": {},
   "source": [
    "## Metadata"
   ]
  },
  {
   "cell_type": "code",
   "execution_count": 9,
   "metadata": {
    "ExecuteTime": {
     "end_time": "2018-07-07T05:45:55.353787Z",
     "start_time": "2018-07-07T05:43:54.216Z"
    }
   },
   "outputs": [
    {
     "name": "stderr",
     "output_type": "stream",
     "text": [
      "Warning message in class(X) <- NULL:\n",
      "“Setting class(x) to NULL;   result will no longer be an S4 object”"
     ]
    },
    {
     "name": "stdout",
     "output_type": "stream",
     "text": [
      "[1] 213 173\n"
     ]
    },
    {
     "data": {
      "text/html": [
       "<table>\n",
       "<thead><tr><th></th><th scope=col>#SampleID</th><th scope=col>X.SampleID</th><th scope=col>BarcodeSequence</th><th scope=col>LinkerPrimerSequence</th><th scope=col>Primer</th><th scope=col>ReversePrimer</th><th scope=col>Barcode_ID</th><th scope=col>sample_number</th><th scope=col>host_subject_id</th><th scope=col>host_german_name</th><th scope=col>⋯</th><th scope=col>Cornell_Dilution_DNA_Illumina</th><th scope=col>Num_Illumina</th><th scope=col>Num</th><th scope=col>sorting_454</th><th scope=col>comments_additional</th><th scope=col>DNA_box_20180622</th><th scope=col>sample_vol_20180622</th><th scope=col>sample_label_20180622</th><th scope=col>Description</th><th scope=col>host_class</th></tr></thead>\n",
       "<tbody>\n",
       "\t<tr><th scope=row>X1.Eurasian.Beaver</th><td>X1.Eurasian.Beaver   </td><td>X1.Eurasian.Beaver   </td><td>ACTCACGGTATG         </td><td>CATGCTGCCTCCCGTAGGAGT</td><td>GCCTCCCTCGCGCCATCAG  </td><td>AGAGTTTGATCCTGGCTCAG </td><td>338R_BC0049          </td><td>1                    </td><td>1                    </td><td>Biber                </td><td>⋯                    </td><td>4                    </td><td>120                  </td><td>18                   </td><td>18                   </td><td>NA                   </td><td>1                    </td><td>20                   </td><td>1                    </td><td>NA                   </td><td>Mammalia             </td></tr>\n",
       "\t<tr><th scope=row>X101.Horse</th><td>X101.Horse           </td><td>X101.Horse           </td><td>ACGACGTCTTAG         </td><td>CATGCTGCCTCCCGTAGGAGT</td><td>GCCTCCCTCGCGCCATCAG  </td><td>AGAGTTTGATCCTGGCTCAG </td><td>338R_BC0030          </td><td>101                  </td><td>101                  </td><td>Hauspferd            </td><td>⋯                    </td><td>16                   </td><td>344                  </td><td>160                  </td><td>160                  </td><td>NA                   </td><td>2                    </td><td>20                   </td><td>101                  </td><td>NA                   </td><td>Mammalia             </td></tr>\n",
       "\t<tr><th scope=row>X102.Kulan</th><td>X102.Kulan           </td><td>X102.Kulan           </td><td>ACGAGTGCTATC         </td><td>CATGCTGCCTCCCGTAGGAGT</td><td>GCCTCCCTCGCGCCATCAG  </td><td>AGAGTTTGATCCTGGCTCAG </td><td>338R_BC0031          </td><td>102                  </td><td>102                  </td><td>Khulan               </td><td>⋯                    </td><td>16                   </td><td>345                  </td><td>161                  </td><td>161                  </td><td>NA                   </td><td>2                    </td><td>20                   </td><td>102                  </td><td>NA                   </td><td>Mammalia             </td></tr>\n",
       "</tbody>\n",
       "</table>\n"
      ],
      "text/latex": [
       "\\begin{tabular}{r|lllllllllllllllllllllllllllllllllllllllllllllllllllllllllllllllllllllllllllllllllllllllllllllllllllllllllllllllllllllllllllllllllllllllllllllllllllllllllllllllllllllllllllll}\n",
       "  & \\#SampleID & X.SampleID & BarcodeSequence & LinkerPrimerSequence & Primer & ReversePrimer & Barcode\\_ID & sample\\_number & host\\_subject\\_id & host\\_german\\_name & ⋯ & Cornell\\_Dilution\\_DNA\\_Illumina & Num\\_Illumina & Num & sorting\\_454 & comments\\_additional & DNA\\_box\\_20180622 & sample\\_vol\\_20180622 & sample\\_label\\_20180622 & Description & host\\_class\\\\\n",
       "\\hline\n",
       "\tX1.Eurasian.Beaver & X1.Eurasian.Beaver    & X1.Eurasian.Beaver    & ACTCACGGTATG          & CATGCTGCCTCCCGTAGGAGT & GCCTCCCTCGCGCCATCAG   & AGAGTTTGATCCTGGCTCAG  & 338R\\_BC0049         & 1                     & 1                     & Biber                 & ⋯                     & 4                     & 120                   & 18                    & 18                    & NA                    & 1                     & 20                    & 1                     & NA                    & Mammalia             \\\\\n",
       "\tX101.Horse & X101.Horse            & X101.Horse            & ACGACGTCTTAG          & CATGCTGCCTCCCGTAGGAGT & GCCTCCCTCGCGCCATCAG   & AGAGTTTGATCCTGGCTCAG  & 338R\\_BC0030         & 101                   & 101                   & Hauspferd             & ⋯                     & 16                    & 344                   & 160                   & 160                   & NA                    & 2                     & 20                    & 101                   & NA                    & Mammalia             \\\\\n",
       "\tX102.Kulan & X102.Kulan            & X102.Kulan            & ACGAGTGCTATC          & CATGCTGCCTCCCGTAGGAGT & GCCTCCCTCGCGCCATCAG   & AGAGTTTGATCCTGGCTCAG  & 338R\\_BC0031         & 102                   & 102                   & Khulan                & ⋯                     & 16                    & 345                   & 161                   & 161                   & NA                    & 2                     & 20                    & 102                   & NA                    & Mammalia             \\\\\n",
       "\\end{tabular}\n"
      ],
      "text/markdown": [
       "\n",
       "| <!--/--> | #SampleID | X.SampleID | BarcodeSequence | LinkerPrimerSequence | Primer | ReversePrimer | Barcode_ID | sample_number | host_subject_id | host_german_name | ⋯ | Cornell_Dilution_DNA_Illumina | Num_Illumina | Num | sorting_454 | comments_additional | DNA_box_20180622 | sample_vol_20180622 | sample_label_20180622 | Description | host_class | \n",
       "|---|---|---|\n",
       "| X1.Eurasian.Beaver | X1.Eurasian.Beaver    | X1.Eurasian.Beaver    | ACTCACGGTATG          | CATGCTGCCTCCCGTAGGAGT | GCCTCCCTCGCGCCATCAG   | AGAGTTTGATCCTGGCTCAG  | 338R_BC0049           | 1                     | 1                     | Biber                 | ⋯                     | 4                     | 120                   | 18                    | 18                    | NA                    | 1                     | 20                    | 1                     | NA                    | Mammalia              | \n",
       "| X101.Horse | X101.Horse            | X101.Horse            | ACGACGTCTTAG          | CATGCTGCCTCCCGTAGGAGT | GCCTCCCTCGCGCCATCAG   | AGAGTTTGATCCTGGCTCAG  | 338R_BC0030           | 101                   | 101                   | Hauspferd             | ⋯                     | 16                    | 344                   | 160                   | 160                   | NA                    | 2                     | 20                    | 101                   | NA                    | Mammalia              | \n",
       "| X102.Kulan | X102.Kulan            | X102.Kulan            | ACGAGTGCTATC          | CATGCTGCCTCCCGTAGGAGT | GCCTCCCTCGCGCCATCAG   | AGAGTTTGATCCTGGCTCAG  | 338R_BC0031           | 102                   | 102                   | Khulan                | ⋯                     | 16                    | 345                   | 161                   | 161                   | NA                    | 2                     | 20                    | 102                   | NA                    | Mammalia              | \n",
       "\n",
       "\n"
      ],
      "text/plain": [
       "                   #SampleID          X.SampleID         BarcodeSequence\n",
       "X1.Eurasian.Beaver X1.Eurasian.Beaver X1.Eurasian.Beaver ACTCACGGTATG   \n",
       "X101.Horse         X101.Horse         X101.Horse         ACGACGTCTTAG   \n",
       "X102.Kulan         X102.Kulan         X102.Kulan         ACGAGTGCTATC   \n",
       "                   LinkerPrimerSequence  Primer             \n",
       "X1.Eurasian.Beaver CATGCTGCCTCCCGTAGGAGT GCCTCCCTCGCGCCATCAG\n",
       "X101.Horse         CATGCTGCCTCCCGTAGGAGT GCCTCCCTCGCGCCATCAG\n",
       "X102.Kulan         CATGCTGCCTCCCGTAGGAGT GCCTCCCTCGCGCCATCAG\n",
       "                   ReversePrimer        Barcode_ID  sample_number\n",
       "X1.Eurasian.Beaver AGAGTTTGATCCTGGCTCAG 338R_BC0049 1            \n",
       "X101.Horse         AGAGTTTGATCCTGGCTCAG 338R_BC0030 101          \n",
       "X102.Kulan         AGAGTTTGATCCTGGCTCAG 338R_BC0031 102          \n",
       "                   host_subject_id host_german_name ⋯\n",
       "X1.Eurasian.Beaver 1               Biber            ⋯\n",
       "X101.Horse         101             Hauspferd        ⋯\n",
       "X102.Kulan         102             Khulan           ⋯\n",
       "                   Cornell_Dilution_DNA_Illumina Num_Illumina Num sorting_454\n",
       "X1.Eurasian.Beaver 4                             120          18  18         \n",
       "X101.Horse         16                            344          160 160        \n",
       "X102.Kulan         16                            345          161 161        \n",
       "                   comments_additional DNA_box_20180622 sample_vol_20180622\n",
       "X1.Eurasian.Beaver NA                  1                20                 \n",
       "X101.Horse         NA                  2                20                 \n",
       "X102.Kulan         NA                  2                20                 \n",
       "                   sample_label_20180622 Description host_class\n",
       "X1.Eurasian.Beaver 1                     NA          Mammalia  \n",
       "X101.Horse         101                   NA          Mammalia  \n",
       "X102.Kulan         102                   NA          Mammalia  "
      ]
     },
     "metadata": {},
     "output_type": "display_data"
    }
   ],
   "source": [
    "# converting sample metadata\n",
    "tmp = physeq %>% sample_data %>% as.matrix %>% as.data.frame\n",
    "tmp$SampleID =  rownames(tmp)\n",
    "tmp = cbind(tmp %>% dplyr::select(SampleID),\n",
    "            tmp %>% dplyr::select(-SampleID))\n",
    "colnames(tmp)[1] = '#SampleID'\n",
    "tmp$host_class = tmp$class\n",
    "tmp %>% status"
   ]
  },
  {
   "cell_type": "code",
   "execution_count": 10,
   "metadata": {
    "ExecuteTime": {
     "end_time": "2018-07-07T05:45:55.445441Z",
     "start_time": "2018-07-07T05:43:54.217Z"
    }
   },
   "outputs": [
    {
     "name": "stdout",
     "output_type": "stream",
     "text": [
      "File written: /ebio/abt3_projects/Georg_animal_feces/data/16S/LLA/diversity//physeq_r5k_sample-data.tsv \n"
     ]
    }
   ],
   "source": [
    "# writing out table\n",
    "sample_data_file = file.path(work_dir, 'physeq_r5k_sample-data.tsv')\n",
    "write.table(tmp, sample_data_file, sep='\\t', quote=FALSE, row.names=FALSE)\n",
    "cat('File written:', sample_data_file, '\\n')"
   ]
  },
  {
   "cell_type": "markdown",
   "metadata": {},
   "source": [
    "## Taxonomy"
   ]
  },
  {
   "cell_type": "code",
   "execution_count": 11,
   "metadata": {
    "ExecuteTime": {
     "end_time": "2018-07-07T05:45:56.265306Z",
     "start_time": "2018-07-07T05:43:54.221Z"
    }
   },
   "outputs": [
    {
     "name": "stdout",
     "output_type": "stream",
     "text": [
      "[1] 30290     2\n"
     ]
    },
    {
     "data": {
      "text/html": [
       "<table>\n",
       "<thead><tr><th scope=col>OTU</th><th scope=col>taxonomy</th></tr></thead>\n",
       "<tbody>\n",
       "\t<tr><td>ea2df9bcd7f6a10e0fa509d237d19c6d                                                                </td><td>Bacteria;Candidate division SR1;unclassified;unclassified;unclassified;unclassified;unclassified</td></tr>\n",
       "\t<tr><td>130b094f31455943fb20899a36af8afd                                                                </td><td>Bacteria;Candidate division SR1;uncultured bacterium                                            </td></tr>\n",
       "\t<tr><td>b9b9562a0f34ad60c552f7f46d7a4b3b                                                                </td><td>Bacteria;Candidate division SR1;uncultured bacterium                                            </td></tr>\n",
       "</tbody>\n",
       "</table>\n"
      ],
      "text/latex": [
       "\\begin{tabular}{r|ll}\n",
       " OTU & taxonomy\\\\\n",
       "\\hline\n",
       "\t ea2df9bcd7f6a10e0fa509d237d19c6d                                                                 & Bacteria;Candidate division SR1;unclassified;unclassified;unclassified;unclassified;unclassified\\\\\n",
       "\t 130b094f31455943fb20899a36af8afd                                                                 & Bacteria;Candidate division SR1;uncultured bacterium                                            \\\\\n",
       "\t b9b9562a0f34ad60c552f7f46d7a4b3b                                                                 & Bacteria;Candidate division SR1;uncultured bacterium                                            \\\\\n",
       "\\end{tabular}\n"
      ],
      "text/markdown": [
       "\n",
       "OTU | taxonomy | \n",
       "|---|---|---|\n",
       "| ea2df9bcd7f6a10e0fa509d237d19c6d                                                                 | Bacteria;Candidate division SR1;unclassified;unclassified;unclassified;unclassified;unclassified | \n",
       "| 130b094f31455943fb20899a36af8afd                                                                 | Bacteria;Candidate division SR1;uncultured bacterium                                             | \n",
       "| b9b9562a0f34ad60c552f7f46d7a4b3b                                                                 | Bacteria;Candidate division SR1;uncultured bacterium                                             | \n",
       "\n",
       "\n"
      ],
      "text/plain": [
       "  OTU                             \n",
       "1 ea2df9bcd7f6a10e0fa509d237d19c6d\n",
       "2 130b094f31455943fb20899a36af8afd\n",
       "3 b9b9562a0f34ad60c552f7f46d7a4b3b\n",
       "  taxonomy                                                                                        \n",
       "1 Bacteria;Candidate division SR1;unclassified;unclassified;unclassified;unclassified;unclassified\n",
       "2 Bacteria;Candidate division SR1;uncultured bacterium                                            \n",
       "3 Bacteria;Candidate division SR1;uncultured bacterium                                            "
      ]
     },
     "metadata": {},
     "output_type": "display_data"
    }
   ],
   "source": [
    "# converting taxonomy\n",
    "tmp = physeq %>% tax_table %>% as.matrix %>% as.data.frame\n",
    "tmp$OTU = rownames(tmp)\n",
    "tmp = cbind(tmp %>% dplyr::select(OTU),\n",
    "            tmp %>% dplyr::select(-OTU))\n",
    "tmp = tmp %>%\n",
    "    unite(taxonomy, Domain, Phylum, Class, Order, Family, Genus, Species, sep=';') %>%\n",
    "    mutate(taxonomy = gsub(';+$','', taxonomy))\n",
    "tmp %>% status"
   ]
  },
  {
   "cell_type": "code",
   "execution_count": 12,
   "metadata": {
    "ExecuteTime": {
     "end_time": "2018-07-07T05:45:56.383643Z",
     "start_time": "2018-07-07T05:43:54.223Z"
    }
   },
   "outputs": [
    {
     "name": "stdout",
     "output_type": "stream",
     "text": [
      "File written: /ebio/abt3_projects/Georg_animal_feces/data/16S/LLA/diversity//physeq_r5k_tax-table.tsv \n"
     ]
    }
   ],
   "source": [
    "# writing out table\n",
    "tax_table_file = file.path(work_dir, 'physeq_r5k_tax-table.tsv')\n",
    "write.table(tmp, tax_table_file, sep='\\t', quote=FALSE, row.names=FALSE, col.names=FALSE)\n",
    "cat('File written:', tax_table_file, '\\n')"
   ]
  },
  {
   "cell_type": "code",
   "execution_count": 13,
   "metadata": {
    "ExecuteTime": {
     "end_time": "2018-07-07T05:46:39.000609Z",
     "start_time": "2018-07-07T05:43:54.224Z"
    }
   },
   "outputs": [
    {
     "name": "stdout",
     "output_type": "stream",
     "text": [
      "[1] \"qiime tools import --type FeatureData[Taxonomy] --source-format HeaderlessTSVTaxonomyFormat --input-path /ebio/abt3_projects/Georg_animal_feces/data/16S/LLA/diversity//physeq_r5k_tax-table.tsv --output-path /ebio/abt3_projects/Georg_animal_feces/data/16S/LLA/diversity//physeq_r5k_tax.qza\"\n"
     ]
    },
    {
     "data": {
      "text/html": [],
      "text/latex": [],
      "text/markdown": [],
      "text/plain": [
       "character(0)"
      ]
     },
     "metadata": {},
     "output_type": "display_data"
    }
   ],
   "source": [
    "# converting tsv to artifact\n",
    "tax_art_file = file.path(work_dir, 'physeq_r5k_tax.qza')\n",
    "cmd = sprintf('qiime tools import --type FeatureData[Taxonomy] --source-format HeaderlessTSVTaxonomyFormat --input-path %s --output-path %s', \n",
    "              tax_table_file, tax_art_file)\n",
    "print(cmd)\n",
    "bash_job(cmd, conda_env)"
   ]
  },
  {
   "cell_type": "markdown",
   "metadata": {},
   "source": [
    "## Phylogeny"
   ]
  },
  {
   "cell_type": "code",
   "execution_count": 14,
   "metadata": {
    "ExecuteTime": {
     "end_time": "2018-07-07T05:46:42.615851Z",
     "start_time": "2018-07-07T05:43:54.227Z"
    }
   },
   "outputs": [
    {
     "name": "stdout",
     "output_type": "stream",
     "text": [
      "File written: /ebio/abt3_projects/Georg_animal_feces/data/16S/LLA/diversity//physeq_r5k_16S.nwk \n"
     ]
    }
   ],
   "source": [
    "tree_file = file.path(work_dir, 'physeq_r5k_16S.nwk')\n",
    "write.tree(physeq %>% phy_tree, tree_file)\n",
    "cat('File written:', tree_file, '\\n')"
   ]
  },
  {
   "cell_type": "code",
   "execution_count": 15,
   "metadata": {
    "ExecuteTime": {
     "end_time": "2018-07-07T05:47:25.877310Z",
     "start_time": "2018-07-07T05:43:54.231Z"
    }
   },
   "outputs": [
    {
     "name": "stdout",
     "output_type": "stream",
     "text": [
      "[1] \"qiime tools import --type Phylogeny[Rooted] --input-path /ebio/abt3_projects/Georg_animal_feces/data/16S/LLA/diversity//physeq_r5k_16S.nwk --output-path /ebio/abt3_projects/Georg_animal_feces/data/16S/LLA/diversity//physeq_r5k_16Stree.qza\"\n"
     ]
    },
    {
     "data": {
      "text/html": [],
      "text/latex": [],
      "text/markdown": [],
      "text/plain": [
       "character(0)"
      ]
     },
     "metadata": {},
     "output_type": "display_data"
    }
   ],
   "source": [
    "# convert to artifact\n",
    "tree_art_file = file.path(work_dir, 'physeq_r5k_16Stree.qza')\n",
    "cmd = sprintf('qiime tools import --type Phylogeny[Rooted] --input-path %s --output-path %s', \n",
    "              tree_file, tree_art_file)\n",
    "print(cmd)\n",
    "bash_job(cmd, conda_env)"
   ]
  },
  {
   "cell_type": "markdown",
   "metadata": {},
   "source": [
    "# Calculating diversity"
   ]
  },
  {
   "cell_type": "markdown",
   "metadata": {},
   "source": [
    "## non-phylogenetic"
   ]
  },
  {
   "cell_type": "code",
   "execution_count": 16,
   "metadata": {
    "ExecuteTime": {
     "end_time": "2018-07-07T05:47:25.929420Z",
     "start_time": "2018-07-07T05:43:54.234Z"
    }
   },
   "outputs": [],
   "source": [
    "# # non-phylogenetic diversity\n",
    "\n",
    "# ## output \n",
    "# core_metrics_dir = file.path(work_dir, 'core_metrics')\n",
    "# unlink(core_metrics_dir, recursive=TRUE)\n",
    "# log_file = file.path(work_dir, 'core-metrics.log')\n",
    "\n",
    "\n",
    "# ## command\n",
    "# cmd = \"qiime diversity core-metrics \\\\\n",
    "#   --i-table %s \\\\\n",
    "#   --m-metadata-file %s \\\\\n",
    "#   --output-dir %s \\\\\n",
    "#   --p-sampling-depth %s \\\\\n",
    "#   2> %s 1>&2\"\n",
    "\n",
    "# cmd = sprintf(cmd, otu_art_file, \n",
    "#               sample_data_file, \n",
    "#               core_metrics_dir,\n",
    "#               5000, log_file)\n",
    "\n",
    "# ## run\n",
    "# cat(cmd)\n",
    "# bash_job(cmd, conda_env)"
   ]
  },
  {
   "cell_type": "markdown",
   "metadata": {},
   "source": [
    "## phylogenetic"
   ]
  },
  {
   "cell_type": "code",
   "execution_count": 17,
   "metadata": {
    "ExecuteTime": {
     "end_time": "2018-07-07T05:50:41.034046Z",
     "start_time": "2018-07-07T05:43:54.236Z"
    }
   },
   "outputs": [
    {
     "name": "stdout",
     "output_type": "stream",
     "text": [
      "qiime diversity core-metrics-phylogenetic \\\n",
      "  --i-phylogeny /ebio/abt3_projects/Georg_animal_feces/data/16S/LLA/diversity//physeq_r5k_16Stree.qza \\\n",
      "  --i-table /ebio/abt3_projects/Georg_animal_feces/data/16S/LLA/diversity//physeq_r5k_otu.qza \\\n",
      "  --m-metadata-file /ebio/abt3_projects/Georg_animal_feces/data/16S/LLA/diversity//physeq_r5k_sample-data.tsv \\\n",
      "  --output-dir /ebio/abt3_projects/Georg_animal_feces/data/16S/LLA/diversity//core_metrics_phylo \\\n",
      "  --p-sampling-depth 5000 \\\n",
      "  2> /ebio/abt3_projects/Georg_animal_feces/data/16S/LLA/diversity//core-metrics-phylo.log 1>&2"
     ]
    },
    {
     "data": {
      "text/html": [],
      "text/latex": [],
      "text/markdown": [],
      "text/plain": [
       "character(0)"
      ]
     },
     "metadata": {},
     "output_type": "display_data"
    }
   ],
   "source": [
    "# phylogenetic diversity\n",
    "\n",
    "## output \n",
    "core_metrics_phylo_dir = file.path(work_dir, 'core_metrics_phylo')\n",
    "unlink(core_metrics_phylo_dir, recursive=TRUE)\n",
    "log_file = file.path(work_dir, 'core-metrics-phylo.log')\n",
    "\n",
    "\n",
    "## command\n",
    "cmd = \"qiime diversity core-metrics-phylogenetic \\\\\n",
    "  --i-phylogeny %s \\\\\n",
    "  --i-table %s \\\\\n",
    "  --m-metadata-file %s \\\\\n",
    "  --output-dir %s \\\\\n",
    "  --p-sampling-depth %s \\\\\n",
    "  2> %s 1>&2\"\n",
    "\n",
    "cmd = sprintf(cmd,\n",
    "              tree_art_file,\n",
    "              otu_art_file, \n",
    "              sample_data_file, \n",
    "              core_metrics_phylo_dir,\n",
    "              5000, log_file)\n",
    "\n",
    "## run\n",
    "cat(cmd)\n",
    "bash_job(cmd, conda_env)"
   ]
  },
  {
   "cell_type": "markdown",
   "metadata": {},
   "source": [
    "# Converting to R objects"
   ]
  },
  {
   "cell_type": "markdown",
   "metadata": {},
   "source": [
    "## alpha-diversity"
   ]
  },
  {
   "cell_type": "code",
   "execution_count": 18,
   "metadata": {
    "ExecuteTime": {
     "end_time": "2018-07-07T05:50:41.074370Z",
     "start_time": "2018-07-07T05:43:54.239Z"
    }
   },
   "outputs": [],
   "source": [
    "# # non-phylo vectors\n",
    "# files = list.files(core_metrics_dir, pattern='*_vector.qza', full.names=TRUE)\n",
    "# files"
   ]
  },
  {
   "cell_type": "code",
   "execution_count": 19,
   "metadata": {
    "ExecuteTime": {
     "end_time": "2018-07-07T05:50:41.122495Z",
     "start_time": "2018-07-07T05:43:54.241Z"
    }
   },
   "outputs": [],
   "source": [
    "# # non-phylo vectors\n",
    "# cmd = \"qiime tools export --output-dir %s %s\"\n",
    "\n",
    "# for(f in files){\n",
    "#     # export qza to tsv\n",
    "#     cmd_tmp = sprintf(cmd, core_metrics_dir, f)\n",
    "#     cat(cmd_tmp, '\\n')\n",
    "#     bash_job(cmd_tmp, conda_env)    \n",
    "          \n",
    "#     # convert tsv to data.frame RDS\n",
    "#     exported_file = file.path(core_metrics_dir, 'alpha-diversity.tsv')\n",
    "#     df = read.delim(exported_file, sep='\\t', row.names=1)\n",
    "#     final_file = gsub('_vector.+', '.RDS', f)\n",
    "#     saveRDS(df, final_file)\n",
    "#     cat('File written:', final_file, '\\n\\n')\n",
    "# }"
   ]
  },
  {
   "cell_type": "code",
   "execution_count": 20,
   "metadata": {
    "ExecuteTime": {
     "end_time": "2018-07-07T05:50:41.203772Z",
     "start_time": "2018-07-07T05:43:54.242Z"
    }
   },
   "outputs": [
    {
     "data": {
      "text/html": [
       "<ol class=list-inline>\n",
       "\t<li>'/ebio/abt3_projects/Georg_animal_feces/data/16S/LLA/diversity//core_metrics_phylo/evenness_vector.qza'</li>\n",
       "\t<li>'/ebio/abt3_projects/Georg_animal_feces/data/16S/LLA/diversity//core_metrics_phylo/faith_pd_vector.qza'</li>\n",
       "\t<li>'/ebio/abt3_projects/Georg_animal_feces/data/16S/LLA/diversity//core_metrics_phylo/observed_otus_vector.qza'</li>\n",
       "\t<li>'/ebio/abt3_projects/Georg_animal_feces/data/16S/LLA/diversity//core_metrics_phylo/shannon_vector.qza'</li>\n",
       "</ol>\n"
      ],
      "text/latex": [
       "\\begin{enumerate*}\n",
       "\\item '/ebio/abt3\\_projects/Georg\\_animal\\_feces/data/16S/LLA/diversity//core\\_metrics\\_phylo/evenness\\_vector.qza'\n",
       "\\item '/ebio/abt3\\_projects/Georg\\_animal\\_feces/data/16S/LLA/diversity//core\\_metrics\\_phylo/faith\\_pd\\_vector.qza'\n",
       "\\item '/ebio/abt3\\_projects/Georg\\_animal\\_feces/data/16S/LLA/diversity//core\\_metrics\\_phylo/observed\\_otus\\_vector.qza'\n",
       "\\item '/ebio/abt3\\_projects/Georg\\_animal\\_feces/data/16S/LLA/diversity//core\\_metrics\\_phylo/shannon\\_vector.qza'\n",
       "\\end{enumerate*}\n"
      ],
      "text/markdown": [
       "1. '/ebio/abt3_projects/Georg_animal_feces/data/16S/LLA/diversity//core_metrics_phylo/evenness_vector.qza'\n",
       "2. '/ebio/abt3_projects/Georg_animal_feces/data/16S/LLA/diversity//core_metrics_phylo/faith_pd_vector.qza'\n",
       "3. '/ebio/abt3_projects/Georg_animal_feces/data/16S/LLA/diversity//core_metrics_phylo/observed_otus_vector.qza'\n",
       "4. '/ebio/abt3_projects/Georg_animal_feces/data/16S/LLA/diversity//core_metrics_phylo/shannon_vector.qza'\n",
       "\n",
       "\n"
      ],
      "text/plain": [
       "[1] \"/ebio/abt3_projects/Georg_animal_feces/data/16S/LLA/diversity//core_metrics_phylo/evenness_vector.qza\"     \n",
       "[2] \"/ebio/abt3_projects/Georg_animal_feces/data/16S/LLA/diversity//core_metrics_phylo/faith_pd_vector.qza\"     \n",
       "[3] \"/ebio/abt3_projects/Georg_animal_feces/data/16S/LLA/diversity//core_metrics_phylo/observed_otus_vector.qza\"\n",
       "[4] \"/ebio/abt3_projects/Georg_animal_feces/data/16S/LLA/diversity//core_metrics_phylo/shannon_vector.qza\"      "
      ]
     },
     "metadata": {},
     "output_type": "display_data"
    }
   ],
   "source": [
    "# phylo vectors\n",
    "files = list.files(core_metrics_phylo_dir, pattern='*_vector.qza', full.names=TRUE)\n",
    "files"
   ]
  },
  {
   "cell_type": "code",
   "execution_count": 21,
   "metadata": {
    "ExecuteTime": {
     "end_time": "2018-07-07T05:53:20.953587Z",
     "start_time": "2018-07-07T05:43:54.244Z"
    }
   },
   "outputs": [
    {
     "name": "stdout",
     "output_type": "stream",
     "text": [
      "qiime tools export --output-dir /ebio/abt3_projects/Georg_animal_feces/data/16S/LLA/diversity//core_metrics_phylo /ebio/abt3_projects/Georg_animal_feces/data/16S/LLA/diversity//core_metrics_phylo/evenness_vector.qza \n",
      "File written: /ebio/abt3_projects/Georg_animal_feces/data/16S/LLA/diversity//core_metrics_phylo/evenness.RDS \n",
      "\n",
      "qiime tools export --output-dir /ebio/abt3_projects/Georg_animal_feces/data/16S/LLA/diversity//core_metrics_phylo /ebio/abt3_projects/Georg_animal_feces/data/16S/LLA/diversity//core_metrics_phylo/faith_pd_vector.qza \n",
      "File written: /ebio/abt3_projects/Georg_animal_feces/data/16S/LLA/diversity//core_metrics_phylo/faith_pd.RDS \n",
      "\n",
      "qiime tools export --output-dir /ebio/abt3_projects/Georg_animal_feces/data/16S/LLA/diversity//core_metrics_phylo /ebio/abt3_projects/Georg_animal_feces/data/16S/LLA/diversity//core_metrics_phylo/observed_otus_vector.qza \n",
      "File written: /ebio/abt3_projects/Georg_animal_feces/data/16S/LLA/diversity//core_metrics_phylo/observed_otus.RDS \n",
      "\n",
      "qiime tools export --output-dir /ebio/abt3_projects/Georg_animal_feces/data/16S/LLA/diversity//core_metrics_phylo /ebio/abt3_projects/Georg_animal_feces/data/16S/LLA/diversity//core_metrics_phylo/shannon_vector.qza \n",
      "File written: /ebio/abt3_projects/Georg_animal_feces/data/16S/LLA/diversity//core_metrics_phylo/shannon.RDS \n",
      "\n"
     ]
    }
   ],
   "source": [
    "# phylo vectors\n",
    "cmd = \"qiime tools export --output-dir %s %s\"\n",
    "\n",
    "for(f in files){\n",
    "    # export qza to tsv\n",
    "    cmd_tmp = sprintf(cmd, core_metrics_phylo_dir, f)\n",
    "    cat(cmd_tmp, '\\n')\n",
    "    bash_job(cmd_tmp, conda_env)    \n",
    "          \n",
    "    # convert tsv to data.frame RDS\n",
    "    exported_file = file.path(core_metrics_phylo_dir, 'alpha-diversity.tsv')\n",
    "    df = read.delim(exported_file, sep='\\t', row.names=1)\n",
    "    final_file = gsub('_vector.+', '.RDS', f)\n",
    "    saveRDS(df, final_file)\n",
    "    cat('File written:', final_file, '\\n\\n')\n",
    "}"
   ]
  },
  {
   "cell_type": "markdown",
   "metadata": {},
   "source": [
    "### Compiling into list object"
   ]
  },
  {
   "cell_type": "code",
   "execution_count": 22,
   "metadata": {
    "ExecuteTime": {
     "end_time": "2018-07-07T05:53:21.059558Z",
     "start_time": "2018-07-07T05:43:54.247Z"
    }
   },
   "outputs": [
    {
     "name": "stdout",
     "output_type": "stream",
     "text": [
      "File written: /ebio/abt3_projects/Georg_animal_feces/data/16S/LLA/diversity//alpha_div.RDS \n"
     ]
    }
   ],
   "source": [
    "alpha_div = list(\n",
    "   'evenness' = '/ebio/abt3_projects/Georg_animal_feces/data/16S/LLA/diversity/core_metrics_phylo/evenness.RDS',\n",
    "   'observed' = '/ebio/abt3_projects/Georg_animal_feces/data/16S/LLA/diversity/core_metrics_phylo/observed_otus.RDS',\n",
    "   'shannon' = '/ebio/abt3_projects/Georg_animal_feces/data/16S/LLA/diversity/core_metrics_phylo/shannon.RDS',\n",
    "   'faith_pd' = '/ebio/abt3_projects/Georg_animal_feces/data/16S/LLA/diversity/core_metrics_phylo/faith_pd.RDS'\n",
    ")\n",
    "\n",
    "alpha_div_rds = list()\n",
    "for(n in names(alpha_div)){\n",
    "    x = readRDS(alpha_div[[n]])\n",
    "    alpha_div_rds[[n]] = x\n",
    "}\n",
    "\n",
    "alpha_div_rds_file = file.path(work_dir, 'alpha_div.RDS')\n",
    "saveRDS(alpha_div_rds, alpha_div_rds_file)\n",
    "cat('File written:', alpha_div_rds_file, '\\n')"
   ]
  },
  {
   "cell_type": "markdown",
   "metadata": {},
   "source": [
    "## beta-diversity"
   ]
  },
  {
   "cell_type": "code",
   "execution_count": 23,
   "metadata": {
    "ExecuteTime": {
     "end_time": "2018-07-07T05:53:21.115361Z",
     "start_time": "2018-07-07T05:43:54.248Z"
    }
   },
   "outputs": [],
   "source": [
    "# # non-phylo distance matrices\n",
    "# files = list.files(core_metrics_dir, pattern='*matrix.qza', full.names=TRUE)\n",
    "# files"
   ]
  },
  {
   "cell_type": "code",
   "execution_count": 24,
   "metadata": {
    "ExecuteTime": {
     "end_time": "2018-07-07T05:53:21.152014Z",
     "start_time": "2018-07-07T05:43:54.250Z"
    }
   },
   "outputs": [],
   "source": [
    "# # non-phylo distance matrices\n",
    "# cmd = \"qiime tools export --output-dir %s %s\"\n",
    "\n",
    "# for(f in files){\n",
    "#     # export qza to tsv\n",
    "#     cmd_tmp = sprintf(cmd, core_metrics_dir, f)\n",
    "#     cat(cmd_tmp, '\\n')\n",
    "#     bash_job(cmd_tmp, conda_env)    \n",
    "          \n",
    "#     # convert tsv to data.frame RDS\n",
    "#     exported_file = file.path(core_metrics_dir, 'distance-matrix.tsv')\n",
    "#     d = read.delim(exported_file, sep='\\t', row.names=1) %>% as.dist\n",
    "#     final_file = gsub('_distance_matrix.+', '.RDS', f)\n",
    "#     saveRDS(d, final_file)\n",
    "#     cat('File written:', final_file, '\\n\\n')\n",
    "# }"
   ]
  },
  {
   "cell_type": "code",
   "execution_count": 25,
   "metadata": {
    "ExecuteTime": {
     "end_time": "2018-07-07T05:53:21.203353Z",
     "start_time": "2018-07-07T05:43:54.252Z"
    }
   },
   "outputs": [
    {
     "data": {
      "text/html": [
       "<ol class=list-inline>\n",
       "\t<li>'/ebio/abt3_projects/Georg_animal_feces/data/16S/LLA/diversity//core_metrics_phylo/bray_curtis_distance_matrix.qza'</li>\n",
       "\t<li>'/ebio/abt3_projects/Georg_animal_feces/data/16S/LLA/diversity//core_metrics_phylo/jaccard_distance_matrix.qza'</li>\n",
       "\t<li>'/ebio/abt3_projects/Georg_animal_feces/data/16S/LLA/diversity//core_metrics_phylo/unweighted_unifrac_distance_matrix.qza'</li>\n",
       "\t<li>'/ebio/abt3_projects/Georg_animal_feces/data/16S/LLA/diversity//core_metrics_phylo/weighted_unifrac_distance_matrix.qza'</li>\n",
       "</ol>\n"
      ],
      "text/latex": [
       "\\begin{enumerate*}\n",
       "\\item '/ebio/abt3\\_projects/Georg\\_animal\\_feces/data/16S/LLA/diversity//core\\_metrics\\_phylo/bray\\_curtis\\_distance\\_matrix.qza'\n",
       "\\item '/ebio/abt3\\_projects/Georg\\_animal\\_feces/data/16S/LLA/diversity//core\\_metrics\\_phylo/jaccard\\_distance\\_matrix.qza'\n",
       "\\item '/ebio/abt3\\_projects/Georg\\_animal\\_feces/data/16S/LLA/diversity//core\\_metrics\\_phylo/unweighted\\_unifrac\\_distance\\_matrix.qza'\n",
       "\\item '/ebio/abt3\\_projects/Georg\\_animal\\_feces/data/16S/LLA/diversity//core\\_metrics\\_phylo/weighted\\_unifrac\\_distance\\_matrix.qza'\n",
       "\\end{enumerate*}\n"
      ],
      "text/markdown": [
       "1. '/ebio/abt3_projects/Georg_animal_feces/data/16S/LLA/diversity//core_metrics_phylo/bray_curtis_distance_matrix.qza'\n",
       "2. '/ebio/abt3_projects/Georg_animal_feces/data/16S/LLA/diversity//core_metrics_phylo/jaccard_distance_matrix.qza'\n",
       "3. '/ebio/abt3_projects/Georg_animal_feces/data/16S/LLA/diversity//core_metrics_phylo/unweighted_unifrac_distance_matrix.qza'\n",
       "4. '/ebio/abt3_projects/Georg_animal_feces/data/16S/LLA/diversity//core_metrics_phylo/weighted_unifrac_distance_matrix.qza'\n",
       "\n",
       "\n"
      ],
      "text/plain": [
       "[1] \"/ebio/abt3_projects/Georg_animal_feces/data/16S/LLA/diversity//core_metrics_phylo/bray_curtis_distance_matrix.qza\"       \n",
       "[2] \"/ebio/abt3_projects/Georg_animal_feces/data/16S/LLA/diversity//core_metrics_phylo/jaccard_distance_matrix.qza\"           \n",
       "[3] \"/ebio/abt3_projects/Georg_animal_feces/data/16S/LLA/diversity//core_metrics_phylo/unweighted_unifrac_distance_matrix.qza\"\n",
       "[4] \"/ebio/abt3_projects/Georg_animal_feces/data/16S/LLA/diversity//core_metrics_phylo/weighted_unifrac_distance_matrix.qza\"  "
      ]
     },
     "metadata": {},
     "output_type": "display_data"
    }
   ],
   "source": [
    "# phylo distance matrices\n",
    "files = list.files(core_metrics_phylo_dir, pattern='*matrix.qza', full.names=TRUE)\n",
    "files"
   ]
  },
  {
   "cell_type": "code",
   "execution_count": 26,
   "metadata": {
    "ExecuteTime": {
     "end_time": "2018-07-07T05:55:56.591162Z",
     "start_time": "2018-07-07T05:43:54.253Z"
    }
   },
   "outputs": [
    {
     "name": "stdout",
     "output_type": "stream",
     "text": [
      "qiime tools export --output-dir /ebio/abt3_projects/Georg_animal_feces/data/16S/LLA/diversity//core_metrics_phylo /ebio/abt3_projects/Georg_animal_feces/data/16S/LLA/diversity//core_metrics_phylo/bray_curtis_distance_matrix.qza \n",
      "File written: /ebio/abt3_projects/Georg_animal_feces/data/16S/LLA/diversity//core_metrics_phylo/bray_curtis.RDS \n",
      "\n",
      "qiime tools export --output-dir /ebio/abt3_projects/Georg_animal_feces/data/16S/LLA/diversity//core_metrics_phylo /ebio/abt3_projects/Georg_animal_feces/data/16S/LLA/diversity//core_metrics_phylo/jaccard_distance_matrix.qza \n",
      "File written: /ebio/abt3_projects/Georg_animal_feces/data/16S/LLA/diversity//core_metrics_phylo/jaccard.RDS \n",
      "\n",
      "qiime tools export --output-dir /ebio/abt3_projects/Georg_animal_feces/data/16S/LLA/diversity//core_metrics_phylo /ebio/abt3_projects/Georg_animal_feces/data/16S/LLA/diversity//core_metrics_phylo/unweighted_unifrac_distance_matrix.qza \n",
      "File written: /ebio/abt3_projects/Georg_animal_feces/data/16S/LLA/diversity//core_metrics_phylo/unweighted_unifrac.RDS \n",
      "\n",
      "qiime tools export --output-dir /ebio/abt3_projects/Georg_animal_feces/data/16S/LLA/diversity//core_metrics_phylo /ebio/abt3_projects/Georg_animal_feces/data/16S/LLA/diversity//core_metrics_phylo/weighted_unifrac_distance_matrix.qza \n",
      "File written: /ebio/abt3_projects/Georg_animal_feces/data/16S/LLA/diversity//core_metrics_phylo/weighted_unifrac.RDS \n",
      "\n"
     ]
    }
   ],
   "source": [
    "# phylo distance matrices\n",
    "cmd = \"qiime tools export --output-dir %s %s\"\n",
    "\n",
    "for(f in files){\n",
    "    # export qza to tsv\n",
    "    cmd_tmp = sprintf(cmd, core_metrics_phylo_dir, f)\n",
    "    cat(cmd_tmp, '\\n')\n",
    "    bash_job(cmd_tmp, conda_env)    \n",
    "          \n",
    "    # convert tsv to data.frame RDS\n",
    "    exported_file = file.path(core_metrics_phylo_dir, 'distance-matrix.tsv')\n",
    "    d = read.delim(exported_file, sep='\\t', row.names=1) %>% as.dist\n",
    "    final_file = gsub('_distance_matrix.+', '.RDS', f)\n",
    "    saveRDS(d, final_file)\n",
    "    cat('File written:', final_file, '\\n\\n')\n",
    "}"
   ]
  },
  {
   "cell_type": "markdown",
   "metadata": {},
   "source": [
    "### Compiling into list object"
   ]
  },
  {
   "cell_type": "code",
   "execution_count": 27,
   "metadata": {
    "ExecuteTime": {
     "end_time": "2018-07-07T05:55:56.796808Z",
     "start_time": "2018-07-07T05:43:54.257Z"
    }
   },
   "outputs": [
    {
     "name": "stdout",
     "output_type": "stream",
     "text": [
      "File written: /ebio/abt3_projects/Georg_animal_feces/data/16S/LLA/diversity//beta_div.RDS \n"
     ]
    }
   ],
   "source": [
    "beta_div = list(\n",
    "   'bray_curtis' = '/ebio/abt3_projects/Georg_animal_feces/data/16S/LLA/diversity//core_metrics_phylo/bray_curtis.RDS',\n",
    "   'jaccard' = '/ebio/abt3_projects/Georg_animal_feces/data/16S/LLA/diversity//core_metrics_phylo/jaccard.RDS',\n",
    "   'unweighted_unifrac' = '/ebio/abt3_projects/Georg_animal_feces/data/16S/LLA/diversity//core_metrics_phylo/unweighted_unifrac.RDS',\n",
    "   'weighted_unifrac' = '/ebio/abt3_projects/Georg_animal_feces/data/16S/LLA/diversity//core_metrics_phylo/weighted_unifrac.RDS'\n",
    ")\n",
    "\n",
    "beta_div_rds = list()\n",
    "for(n in names(beta_div)){\n",
    "    x = readRDS(beta_div[[n]])\n",
    "    beta_div_rds[[n]] = x\n",
    "}\n",
    "\n",
    "beta_div_rds_file = file.path(work_dir, 'beta_div.RDS')\n",
    "saveRDS(beta_div_rds, beta_div_rds_file)\n",
    "cat('File written:', beta_div_rds_file, '\\n')\n"
   ]
  },
  {
   "cell_type": "markdown",
   "metadata": {},
   "source": [
    "# Final files"
   ]
  },
  {
   "cell_type": "code",
   "execution_count": 28,
   "metadata": {
    "ExecuteTime": {
     "end_time": "2018-07-07T05:55:56.847919Z",
     "start_time": "2018-07-07T05:43:54.259Z"
    }
   },
   "outputs": [
    {
     "name": "stdout",
     "output_type": "stream",
     "text": [
      "[1] \"/ebio/abt3_projects/Georg_animal_feces/data/16S/LLA/diversity//alpha_div.RDS\"\n",
      "[1] \"/ebio/abt3_projects/Georg_animal_feces/data/16S/LLA/diversity//beta_div.RDS\"\n"
     ]
    }
   ],
   "source": [
    "print(alpha_div_rds_file)\n",
    "print(beta_div_rds_file)"
   ]
  },
  {
   "cell_type": "markdown",
   "metadata": {},
   "source": [
    "# sessionInfo"
   ]
  },
  {
   "cell_type": "code",
   "execution_count": 29,
   "metadata": {
    "ExecuteTime": {
     "end_time": "2018-07-07T05:55:57.353061Z",
     "start_time": "2018-07-07T05:43:54.261Z"
    }
   },
   "outputs": [
    {
     "data": {
      "text/plain": [
       "R version 3.4.1 (2017-06-30)\n",
       "Platform: x86_64-pc-linux-gnu (64-bit)\n",
       "Running under: Ubuntu 16.04.4 LTS\n",
       "\n",
       "Matrix products: default\n",
       "BLAS: /ebio/abt3_projects/software/miniconda3/envs/py3_physeq/lib/R/lib/libRblas.so\n",
       "LAPACK: /ebio/abt3_projects/software/miniconda3/envs/py3_physeq/lib/R/lib/libRlapack.so\n",
       "\n",
       "locale:\n",
       " [1] LC_CTYPE=en_US.UTF-8       LC_NUMERIC=C              \n",
       " [3] LC_TIME=en_US.UTF-8        LC_COLLATE=en_US.UTF-8    \n",
       " [5] LC_MONETARY=en_US.UTF-8    LC_MESSAGES=en_US.UTF-8   \n",
       " [7] LC_PAPER=en_US.UTF-8       LC_NAME=C                 \n",
       " [9] LC_ADDRESS=C               LC_TELEPHONE=C            \n",
       "[11] LC_MEASUREMENT=en_US.UTF-8 LC_IDENTIFICATION=C       \n",
       "\n",
       "attached base packages:\n",
       "[1] stats     graphics  grDevices utils     datasets  methods   base     \n",
       "\n",
       "other attached packages:\n",
       "[1] bindrcpp_0.2    ape_5.1         phyloseq_1.22.3 ggplot2_2.2.1  \n",
       "[5] tidyr_0.8.1     dplyr_0.7.4    \n",
       "\n",
       "loaded via a namespace (and not attached):\n",
       " [1] pbdZMQ_0.3-1        tidyselect_0.2.4    repr_0.12.0        \n",
       " [4] purrr_0.2.4         reshape2_1.4.3      splines_3.4.1      \n",
       " [7] lattice_0.20-35     rhdf5_2.22.0        colorspace_1.3-2   \n",
       "[10] stats4_3.4.1        mgcv_1.8-17         survival_2.40-1    \n",
       "[13] rlang_0.2.0         pillar_1.2.2        glue_1.2.0         \n",
       "[16] BiocGenerics_0.24.0 uuid_0.1-2          foreach_1.4.4      \n",
       "[19] bindr_0.1.1         plyr_1.8.4          stringr_1.2.0      \n",
       "[22] zlibbioc_1.24.0     Biostrings_2.46.0   munsell_0.5.0      \n",
       "[25] gtable_0.2.0        codetools_0.2-15    evaluate_0.10.1    \n",
       "[28] Biobase_2.38.0      permute_0.9-4       IRanges_2.12.0     \n",
       "[31] biomformat_1.6.0    parallel_3.4.1      IRdisplay_0.4.4    \n",
       "[34] Rcpp_0.12.14        scales_0.5.0        IRkernel_0.8.11    \n",
       "[37] vegan_2.4-3         S4Vectors_0.16.0    jsonlite_1.5       \n",
       "[40] XVector_0.18.0      digest_0.6.13       stringi_1.1.6      \n",
       "[43] grid_3.4.1          ade4_1.7-10         tools_3.4.1        \n",
       "[46] magrittr_1.5        lazyeval_0.2.1      tibble_1.4.2       \n",
       "[49] cluster_2.0.6       crayon_1.3.4        pkgconfig_2.0.1    \n",
       "[52] MASS_7.3-48         Matrix_1.2-14       data.table_1.11.4  \n",
       "[55] assertthat_0.2.0    iterators_1.0.9     R6_2.2.2           \n",
       "[58] multtest_2.34.0     igraph_1.2.1        nlme_3.1-137       \n",
       "[61] compiler_3.4.1     "
      ]
     },
     "metadata": {},
     "output_type": "display_data"
    }
   ],
   "source": [
    "sessionInfo()"
   ]
  },
  {
   "cell_type": "code",
   "execution_count": 30,
   "metadata": {
    "ExecuteTime": {
     "end_time": "2018-07-07T05:56:11.922582Z",
     "start_time": "2018-07-07T05:43:54.263Z"
    }
   },
   "outputs": [
    {
     "name": "stdout",
     "output_type": "stream",
     "text": [
      "# packages in environment at /ebio/abt3_projects/software/miniconda3/envs/qiime2:\n",
      "#\n",
      "aioeasywebdav             2.2.0                    py35_0    conda-forge\n",
      "aiohttp                   2.2.5            py35h8d7d2b0_0  \n",
      "appdirs                   1.4.3                    py35_0  \n",
      "asn1crypto                0.22.0                   py35_0    conda-forge\n",
      "async-timeout             2.0.0            py35h12a94dc_0  \n",
      "backports                 1.0                      py35_1    conda-forge\n",
      "backports.functools_lru_cache 1.4                      py35_1    conda-forge\n",
      "bcrypt                    3.1.4            py35ha35c455_0  \n",
      "bioconductor-biobase      2.34.0                 r3.3.2_0    bioconda\n",
      "bioconductor-biocgenerics 0.22.0                 r3.3.2_0    bioconda\n",
      "bioconductor-biocparallel 1.6.6                  r3.3.2_1    bioconda\n",
      "bioconductor-biostrings   2.42.1                 r3.3.2_0    bioconda\n",
      "bioconductor-dada2        1.4.0                  r3.3.2_0    bioconda\n",
      "bioconductor-genomeinfodb 1.10.3                 r3.3.2_0    bioconda\n",
      "bioconductor-genomicalignments 1.10.0                 r3.3.2_0    bioconda\n",
      "bioconductor-genomicranges 1.26.4                 r3.3.2_0    bioconda\n",
      "bioconductor-iranges      2.8.2                  r3.3.2_0    bioconda\n",
      "bioconductor-rsamtools    1.26.1                 r3.3.2_0    bioconda\n",
      "bioconductor-s4vectors    0.12.2                 r3.3.2_0    bioconda\n",
      "bioconductor-shortread    1.32.0                 r3.3.2_0    bioconda\n",
      "bioconductor-summarizedexperiment 1.4.0                  r3.3.2_2    bioconda\n",
      "bioconductor-xvector      0.14.1                 r3.3.2_0    bioconda\n",
      "bioconductor-zlibbioc     1.20.0                 r3.3.2_1    bioconda\n",
      "biom-format               2.1.6                    py35_8    qiime2\n",
      "biopython                 1.69                np113py35_0  \n",
      "blast                     2.6.0               boost1.64_2    bioconda\n",
      "bleach                    2.0.0                    py35_0    conda-forge\n",
      "bokeh                     0.12.9                   py35_0    conda-forge\n",
      "boost                     1.64.0                   py35_4    conda-forge\n",
      "boost-cpp                 1.64.0                        1    conda-forge\n",
      "bzip2                     1.0.6                         1    conda-forge\n",
      "ca-certificates           2017.7.27.1                   0    conda-forge\n",
      "cachecontrol              0.12.3                   py35_0  \n",
      "cairo                     1.14.6                        4    conda-forge\n",
      "certifi                   2017.7.27.1              py35_0    conda-forge\n",
      "cffi                      1.10.0                   py35_0    conda-forge\n",
      "chardet                   3.0.4                    py35_0    conda-forge\n",
      "click                     6.7                      py35_0    conda-forge\n",
      "configargparse            0.12.0                   py35_0  \n",
      "cryptography              2.0.3                    py35_0    conda-forge\n",
      "curl                      7.54.1                        0    conda-forge\n",
      "cycler                    0.10.0                   py35_0    conda-forge\n",
      "cython                    0.27.2                   py35_0    conda-forge\n",
      "dbus                      1.10.22                       0    conda-forge\n",
      "deblur                    1.0.3            py35h87d23f6_0    biocore\n",
      "decorator                 4.1.2                    py35_0    conda-forge\n",
      "docutils                  0.14             py35hd11081d_0  \n",
      "dropbox                   8.5.0            py35h4c242c8_0  \n",
      "emperor                   1.0.0beta11              py35_2    conda-forge\n",
      "entrypoints               0.2.3                    py35_1    conda-forge\n",
      "expat                     2.2.1                         0    conda-forge\n",
      "fastcluster               1.1.23              np113py35_0    conda-forge\n",
      "fasttree                  2.1.9                         2    bioconda\n",
      "filechunkio               1.6                      py35_0    bioconda\n",
      "fontconfig                2.12.1                        4    conda-forge\n",
      "freetype                  2.7                           1    conda-forge\n",
      "ftputil                   3.2                      py35_0    bioconda\n",
      "future                    0.16.0                   py35_0    conda-forge\n",
      "gettext                   0.19.7                        1    conda-forge\n",
      "glib                      2.51.4                        0    conda-forge\n",
      "gmp                       6.1.2                         0    conda-forge\n",
      "gneiss                    0.4.2            py35hda95eb5_6    biocore\n",
      "graphite2                 1.3.9                         0    conda-forge\n",
      "gsl                       2.1                           2    conda-forge\n",
      "gst-plugins-base          1.8.0                         0    conda-forge\n",
      "gstreamer                 1.8.0                         2    conda-forge\n",
      "h5py                      2.7.0               np113py35_0  \n",
      "harfbuzz                  1.4.3                         0    conda-forge\n",
      "hdf5                      1.8.17                       11    conda-forge\n",
      "html5lib                  0.999999999              py35_0    conda-forge\n",
      "icu                       58.1                          1    conda-forge\n",
      "idna                      2.6                      py35_1    conda-forge\n",
      "ijson                     2.3                      py35_0    qiime2\n",
      "ipykernel                 4.6.1                    py35_0    conda-forge\n",
      "ipython                   6.2.1                    py35_0    conda-forge\n",
      "ipython_genutils          0.2.0                    py35_0    conda-forge\n",
      "ipywidgets                7.0.3                      py_0    conda-forge\n",
      "jedi                      0.10.2                   py35_0    conda-forge\n",
      "jinja2                    2.9.6                    py35_0    conda-forge\n",
      "jpeg                      9b                            1    conda-forge\n",
      "jsonschema                2.6.0                    py35_0    conda-forge\n",
      "jupyter_client            5.1.0                    py35_0    conda-forge\n",
      "jupyter_core              4.3.0                    py35_0    conda-forge\n",
      "krb5                      1.14.2                        0    conda-forge\n",
      "libffi                    3.2.1                         3    conda-forge\n",
      "libgcc                    5.2.0                         0  \n",
      "libgcc-ng                 7.2.0                h7cc24e2_2  \n",
      "libgfortran               3.0.0                         1  \n",
      "libiconv                  1.14                          4    conda-forge\n",
      "libpng                    1.6.28                        1    conda-forge\n",
      "libsodium                 1.0.10                        0    conda-forge\n",
      "libssh2                   1.8.0                         1    conda-forge\n",
      "libtiff                   4.0.7                         0    conda-forge\n",
      "libxcb                    1.12                          1    conda-forge\n",
      "libxml2                   2.9.5                         0    conda-forge\n",
      "lockfile                  0.12.2                   py35_0    conda-forge\n",
      "mafft                     7.310                         0    bioconda\n",
      "markupsafe                1.0                      py35_0    conda-forge\n",
      "matplotlib                2.1.0                    py35_0    conda-forge\n",
      "mistune                   0.7.4                    py35_0    conda-forge\n",
      "mkl                       2017.0.3                      0  \n",
      "msgpack-python            0.4.8                    py35_0    conda-forge\n",
      "multidict                 3.3.2            py35he92878e_0  \n",
      "natsort                   5.0.2                    py35_0    conda-forge\n",
      "nbconvert                 5.3.1                      py_1    conda-forge\n",
      "nbformat                  4.4.0                    py35_0    conda-forge\n",
      "ncurses                   5.9                          10    conda-forge\n",
      "nose                      1.3.7                    py35_2    conda-forge\n",
      "notebook                  5.2.0                    py35_1    conda-forge\n",
      "numpy                     1.13.1                   py35_0  \n",
      "openjdk                   8.0.121                       1  \n",
      "openssl                   1.0.2l                        0    conda-forge\n",
      "pandas                    0.20.3                   py35_1    conda-forge\n",
      "pandoc                    1.19.2                        0    conda-forge\n",
      "pandocfilters             1.4.1                    py35_0    conda-forge\n",
      "pango                     1.40.4                        0    conda-forge\n",
      "paramiko                  2.4.0            py35h25c86cb_0  \n",
      "patsy                     0.4.1                    py35_0    conda-forge\n",
      "pcre                      8.39                          0    conda-forge\n",
      "pexpect                   4.2.1                    py35_0    conda-forge\n",
      "pickleshare               0.7.4                    py35_0    conda-forge\n",
      "pip                       9.0.1                    py35_0    conda-forge\n",
      "pixman                    0.34.0                        0    conda-forge\n",
      "prompt_toolkit            1.0.15                   py35_0    conda-forge\n",
      "psutil                    5.4.0                    py35_0    conda-forge\n",
      "ptyprocess                0.5.2                    py35_0    conda-forge\n",
      "pyasn1                    0.3.7            py35h2fee745_0  \n",
      "pycparser                 2.18                     py35_0    conda-forge\n",
      "pygments                  2.2.0                    py35_0    conda-forge\n",
      "pynacl                    1.2.0            py35h9037bf7_0  \n",
      "pyopenssl                 17.2.0                   py35_0    conda-forge\n",
      "pyparsing                 2.2.0                    py35_0    conda-forge\n",
      "pyqt                      5.6.0                    py35_4    conda-forge\n",
      "pysftp                    0.2.9                    py35_0    bioconda\n",
      "pysocks                   1.6.7                    py35_0    conda-forge\n",
      "python                    3.5.4                         0    conda-forge\n",
      "python-dateutil           2.6.1                    py35_0    conda-forge\n",
      "pytz                      2017.2                   py35_0    conda-forge\n",
      "pyyaml                    3.12                     py35_1    conda-forge\n",
      "pyzmq                     16.0.2                   py35_2    conda-forge\n",
      "q2-alignment              2017.10.0                py35_0    qiime2/label/r2017.10\n",
      "q2-composition            2017.10.0                py35_0    qiime2/label/r2017.10\n",
      "q2-dada2                  2017.10.0                py35_0    qiime2/label/r2017.10\n",
      "q2-deblur                 2017.10.0                py35_0    qiime2/label/r2017.10\n",
      "q2-demux                  2017.10.0                py35_0    qiime2/label/r2017.10\n",
      "q2-diversity              2017.10.0                py35_0    qiime2/label/r2017.10\n",
      "q2-emperor                2017.10.0                py35_0    qiime2/label/r2017.10\n",
      "q2-feature-classifier     2017.10.0                py35_0    qiime2/label/r2017.10\n",
      "q2-feature-table          2017.10.0                py35_0    qiime2/label/r2017.10\n",
      "q2-gneiss                 2017.10.0                py35_0    qiime2/label/r2017.10\n",
      "q2-longitudinal           2017.10.0                py35_0    qiime2/label/r2017.10\n",
      "q2-metadata               2017.10.0                py35_0    qiime2/label/r2017.10\n",
      "q2-phylogeny              2017.10.0                py35_0    qiime2/label/r2017.10\n",
      "q2-quality-control        2017.10.0                py35_0    qiime2/label/r2017.10\n",
      "q2-quality-filter         2017.10.0                py35_0    qiime2/label/r2017.10\n",
      "q2-sample-classifier      2017.10.0                py35_0    qiime2/label/r2017.10\n",
      "q2-taxa                   2017.10.0                py35_0    qiime2/label/r2017.10\n",
      "q2-types                  2017.10.0                py35_0    qiime2/label/r2017.10\n",
      "q2-vsearch                2017.10.0                py35_0    qiime2/label/r2017.10\n",
      "q2cli                     2017.10.0                py35_0    qiime2/label/r2017.10\n",
      "q2templates               2017.10.0                py35_0    qiime2/label/r2017.10\n",
      "qiime2                    2017.10.0                py35_0    qiime2/label/r2017.10\n",
      "qiime_2_ll_quick_viewer   0.2.8            py35h00adcf4_0    leylabmpi\n",
      "qt                        5.6.2                         3    conda-forge\n",
      "r-base                    3.3.2                         5    conda-forge\n",
      "r-bh                      1.62.0_1               r3.3.2_0    conda-forge\n",
      "r-bitops                  1.0_6                  r3.3.2_0    conda-forge\n",
      "r-colorspace              1.3_2                  r3.3.2_0    conda-forge\n",
      "r-data.table              1.10.4                 r3.3.2_0    conda-forge\n",
      "r-dichromat               2.0_0                  r3.3.2_0    conda-forge\n",
      "r-digest                  0.6.12                 r3.3.2_0    conda-forge\n",
      "r-futile.logger           1.4.3                  r3.3.2_0    conda-forge\n",
      "r-futile.options          1.0.0                  r3.3.2_0    conda-forge\n",
      "r-ggplot2                 2.2.1                  r3.3.2_0    conda-forge\n",
      "r-gtable                  0.2.0                  r3.3.2_0    conda-forge\n",
      "r-hwriter                 1.3.2                  r3.3.2_0    conda-forge\n",
      "r-labeling                0.3                    r3.3.2_0    conda-forge\n",
      "r-lambda.r                1.1.9                  r3.3.2_0    conda-forge\n",
      "r-lattice                 0.20_34                r3.3.2_0    conda-forge\n",
      "r-latticeextra            0.6_28                 r3.3.2_0    conda-forge\n",
      "r-lazyeval                0.2.0                  r3.3.2_0    conda-forge\n",
      "r-magrittr                1.5                    r3.3.2_0    conda-forge\n",
      "r-mass                    7.3_45                 r3.3.2_0    conda-forge\n",
      "r-matrix                  1.2_7.1                r3.3.2_0    conda-forge\n",
      "r-munsell                 0.4.3                  r3.3.2_0    conda-forge\n",
      "r-plyr                    1.8.4                  r3.3.2_0    conda-forge\n",
      "r-rcolorbrewer            1.1_2                  r3.3.2_0    conda-forge\n",
      "r-rcpp                    0.12.13                r3.3.2_0    conda-forge\n",
      "r-rcppparallel            4.3.20                 r3.3.2_0    conda-forge\n",
      "r-rcurl                   1.95_4.8               r3.3.2_0    conda-forge\n",
      "r-reshape2                1.4.2                  r3.3.2_0    conda-forge\n",
      "r-rlang                   0.1.2                  r3.3.2_0    conda-forge\n",
      "r-scales                  0.4.1                  r3.3.2_0    conda-forge\n",
      "r-snow                    0.4_2                  r3.3.2_0    conda-forge\n",
      "r-stringi                 1.1.2                  r3.3.2_0    conda-forge\n",
      "r-stringr                 1.2.0                  r3.3.2_0    conda-forge\n",
      "r-tibble                  1.3.3                  r3.3.2_0    conda-forge\n",
      "ratelimiter               1.2.0                    py35_0    conda-forge\n",
      "readline                  6.2                           0    conda-forge\n",
      "requests                  2.18.4                   py35_1    conda-forge\n",
      "scikit-bio                0.5.1               np113py35_0  \n",
      "scikit-learn              0.19.0              np113py35_0  \n",
      "scipy                     0.19.1              np113py35_0  \n",
      "seaborn                   0.8.1                    py35_0    conda-forge\n",
      "seqtk                     1.2                           0    bioconda\n",
      "setuptools                36.6.0                   py35_1    conda-forge\n",
      "simplegeneric             0.8.1                    py35_0    conda-forge\n",
      "sip                       4.18                     py35_1    conda-forge\n",
      "six                       1.11.0                   py35_1    conda-forge\n",
      "snakemake                 4.3.1                    py35_0    bioconda\n",
      "sortmerna                 2.0                           1    bioconda\n",
      "sqlite                    3.13.0                        1    conda-forge\n",
      "statsmodels               0.8.0                    py35_0    conda-forge\n",
      "terminado                 0.6                      py35_0    conda-forge\n",
      "testpath                  0.3.1                    py35_0    conda-forge\n",
      "tk                        8.5.19                        2    conda-forge\n",
      "tornado                   4.5.2                    py35_0    conda-forge\n",
      "traitlets                 4.3.2                    py35_0    conda-forge\n",
      "trimmomatic               0.36                          5    bioconda\n",
      "tzlocal                   1.3                      py35_0    qiime2\n",
      "unifrac                   0.9.2            py35hae32d81_1    biocore\n",
      "urllib3                   1.22                     py35_0    conda-forge\n",
      "vsearch                   2.5.0                         0    bioconda\n",
      "wcwidth                   0.1.7                    py35_0    conda-forge\n",
      "webencodings              0.5                      py35_0    conda-forge\n",
      "wheel                     0.30.0                     py_1    conda-forge\n",
      "widgetsnbextension        3.0.6                    py35_0    conda-forge\n",
      "wrapt                     1.10.11          py35hfdafd39_0  \n",
      "xorg-libxau               1.0.8                         3    conda-forge\n",
      "xorg-libxdmcp             1.1.2                         3    conda-forge\n",
      "xz                        5.2.3                         0    conda-forge\n",
      "yaml                      0.1.6                         0    conda-forge\n",
      "yarl                      0.14.2           py35h31c3c03_0  \n",
      "zeromq                    4.2.1                         1    conda-forge\n",
      "zlib                      1.2.8                         3    conda-forge"
     ]
    }
   ],
   "source": [
    "bash_job('conda list', conda_env) %>% paste(collapse='\\n') %>% cat"
   ]
  },
  {
   "cell_type": "code",
   "execution_count": null,
   "metadata": {},
   "outputs": [],
   "source": []
  }
 ],
 "metadata": {
  "kernelspec": {
   "display_name": "R [conda env:py3_physeq]",
   "language": "R",
   "name": "conda-env-py3_physeq-r"
  },
  "language_info": {
   "codemirror_mode": "r",
   "file_extension": ".r",
   "mimetype": "text/x-r-source",
   "name": "R",
   "pygments_lexer": "r",
   "version": "3.4.1"
  },
  "notify_time": "30",
  "toc": {
   "base_numbering": 1,
   "nav_menu": {},
   "number_sections": true,
   "sideBar": true,
   "skip_h1_title": false,
   "title_cell": "Table of Contents",
   "title_sidebar": "Contents",
   "toc_cell": true,
   "toc_position": {},
   "toc_section_display": "block",
   "toc_window_display": true
  }
 },
 "nbformat": 4,
 "nbformat_minor": 2
}
