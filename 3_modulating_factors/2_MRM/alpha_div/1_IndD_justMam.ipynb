{
 "cells": [
  {
   "cell_type": "markdown",
   "metadata": {},
   "source": [
    "# Goal\n",
    "\n",
    "* Multiple Regression on Matrices (MRM) analysis on IndD dataset\n",
    "  * IndD = one sample per individual\n",
    "  * dependent variable: alpha-diversity\n",
    "* Intra-species sensitivity analysis: calculating MRM for permutations of samples within each species\n",
    "* Just Mammalia hosts"
   ]
  },
  {
   "cell_type": "markdown",
   "metadata": {},
   "source": [
    "# Var"
   ]
  },
  {
   "cell_type": "code",
   "execution_count": 1,
   "metadata": {
    "ExecuteTime": {
     "end_time": "2018-08-23T15:09:31.083005Z",
     "start_time": "2018-08-23T15:11:10.689Z"
    }
   },
   "outputs": [],
   "source": [
    "work_dir = '/ebio/abt3_projects/Georg_animal_feces/data/modulating_factors/MRM/IndD/alpha_div/'\n",
    "\n",
    "# phyloseq\n",
    "physeq_file = '/ebio/abt3_projects/Georg_animal_feces/data/16S/LLA/phyloseq/physeq_r5k.RDS'\n",
    "\n",
    "# alpha-div calculated with qiime2\n",
    "alpha_div_file = '/ebio/abt3_projects/Georg_animal_feces/data/16S/LLA/diversity/alpha_div.RDS'\n",
    "\n",
    "# host phylogeny distance\n",
    "host_tree_dist_file = '/ebio/abt3_projects/Georg_animal_feces/data/animal/phylogeny/TT/unified_metadata_complete_20180625_rn_16S-r5k_IndD_dist.RDS'\n",
    "\n",
    "# params\n",
    "conda_env = 'qiime2'\n",
    "threads = 12"
   ]
  },
  {
   "cell_type": "markdown",
   "metadata": {},
   "source": [
    "# Init"
   ]
  },
  {
   "cell_type": "code",
   "execution_count": 6,
   "metadata": {
    "ExecuteTime": {
     "end_time": "2018-08-23T15:09:44.595440Z",
     "start_time": "2018-08-23T15:11:14.984Z"
    }
   },
   "outputs": [],
   "source": [
    "library(dplyr)\n",
    "library(tidyr)\n",
    "library(ggplot2)\n",
    "library(stringr)\n",
    "library(phyloseq)\n",
    "source('/ebio/abt3_projects/Georg_animal_feces/code/init.R') "
   ]
  },
  {
   "cell_type": "code",
   "execution_count": 3,
   "metadata": {
    "ExecuteTime": {
     "end_time": "2018-08-23T15:09:44.468557Z",
     "start_time": "2018-08-23T15:11:11.647Z"
    }
   },
   "outputs": [],
   "source": [
    "set.seed(8301)"
   ]
  },
  {
   "cell_type": "code",
   "execution_count": 4,
   "metadata": {
    "ExecuteTime": {
     "end_time": "2018-08-23T15:09:44.512500Z",
     "start_time": "2018-08-23T15:11:12.392Z"
    }
   },
   "outputs": [
    {
     "name": "stdout",
     "output_type": "stream",
     "text": [
      "Directory already exists: /ebio/abt3_projects/Georg_animal_feces/data/modulating_factors/MRM/IndD/alpha_div/ \n"
     ]
    }
   ],
   "source": [
    "make_dir(work_dir)\n",
    "setwd(work_dir)"
   ]
  },
  {
   "cell_type": "markdown",
   "metadata": {},
   "source": [
    "## Functions"
   ]
  },
  {
   "cell_type": "code",
   "execution_count": 5,
   "metadata": {
    "ExecuteTime": {
     "end_time": "2018-08-23T15:09:44.540937Z",
     "start_time": "2018-08-23T15:11:13.346Z"
    }
   },
   "outputs": [],
   "source": [
    "dist_mtx_order = function(d, x){\n",
    "    # Ordering distance matrixes\n",
    "    # d = distance matrix (dist class)\n",
    "    # x = vector to order dist. obj. by\n",
    "    m = d %>% as.matrix\n",
    "    d = as.dist(m[x,x])\n",
    "    return(d)\n",
    "}\n",
    "\n",
    "#m %>% as.vector %>% scale %>% matrix(nrow=3, ncol=3)"
   ]
  },
  {
   "cell_type": "code",
   "execution_count": 7,
   "metadata": {
    "ExecuteTime": {
     "end_time": "2018-08-23T15:09:44.624623Z",
     "start_time": "2018-08-23T15:11:16.208Z"
    }
   },
   "outputs": [],
   "source": [
    "rescale_dist_mtx = function(m){\n",
    "    m = m %>% as.matrix\n",
    "    labs = m %>% colnames\n",
    "    n_row = m %>% nrow\n",
    "    n_col = m %>% ncol\n",
    "    x = m %>% as.vector \n",
    "    x = scales::rescale(x) \n",
    "    m = matrix(x, nrow=n_row, ncol=n_col)\n",
    "    colnames(m) = labs\n",
    "    rownames(m) = labs\n",
    "    m = m %>% as.dist\n",
    "    return(m)\n",
    "}\n"
   ]
  },
  {
   "cell_type": "markdown",
   "metadata": {},
   "source": [
    "# Load"
   ]
  },
  {
   "cell_type": "markdown",
   "metadata": {},
   "source": [
    "## Alpha diversity"
   ]
  },
  {
   "cell_type": "code",
   "execution_count": 17,
   "metadata": {
    "ExecuteTime": {
     "end_time": "2018-08-23T15:11:54.799558Z",
     "start_time": "2018-08-23T15:13:34.911Z"
    }
   },
   "outputs": [
    {
     "name": "stdout",
     "output_type": "stream",
     "text": [
      "[1] 213   5\n"
     ]
    },
    {
     "data": {
      "text/html": [
       "<table>\n",
       "<thead><tr><th></th><th scope=col>pielou_e</th><th scope=col>observed_otus</th><th scope=col>shannon</th><th scope=col>faith_pd</th><th scope=col>X.SampleID</th></tr></thead>\n",
       "<tbody>\n",
       "\t<tr><th scope=row>X1.Eurasian.Beaver</th><td>0.6507254         </td><td>158               </td><td>4.752756          </td><td>16.56554          </td><td>X1.Eurasian.Beaver</td></tr>\n",
       "\t<tr><th scope=row>X101.Horse</th><td>0.9042161         </td><td>933               </td><td>8.920754          </td><td>59.46621          </td><td>X101.Horse        </td></tr>\n",
       "\t<tr><th scope=row>X102.Kulan</th><td>0.8443325         </td><td>422               </td><td>7.363508          </td><td>35.80528          </td><td>X102.Kulan        </td></tr>\n",
       "</tbody>\n",
       "</table>\n"
      ],
      "text/latex": [
       "\\begin{tabular}{r|lllll}\n",
       "  & pielou\\_e & observed\\_otus & shannon & faith\\_pd & X.SampleID\\\\\n",
       "\\hline\n",
       "\tX1.Eurasian.Beaver & 0.6507254          & 158                & 4.752756           & 16.56554           & X1.Eurasian.Beaver\\\\\n",
       "\tX101.Horse & 0.9042161          & 933                & 8.920754           & 59.46621           & X101.Horse        \\\\\n",
       "\tX102.Kulan & 0.8443325          & 422                & 7.363508           & 35.80528           & X102.Kulan        \\\\\n",
       "\\end{tabular}\n"
      ],
      "text/markdown": [
       "\n",
       "| <!--/--> | pielou_e | observed_otus | shannon | faith_pd | X.SampleID | \n",
       "|---|---|---|\n",
       "| X1.Eurasian.Beaver | 0.6507254          | 158                | 4.752756           | 16.56554           | X1.Eurasian.Beaver | \n",
       "| X101.Horse | 0.9042161          | 933                | 8.920754           | 59.46621           | X101.Horse         | \n",
       "| X102.Kulan | 0.8443325          | 422                | 7.363508           | 35.80528           | X102.Kulan         | \n",
       "\n",
       "\n"
      ],
      "text/plain": [
       "                   pielou_e  observed_otus shannon  faith_pd X.SampleID        \n",
       "X1.Eurasian.Beaver 0.6507254 158           4.752756 16.56554 X1.Eurasian.Beaver\n",
       "X101.Horse         0.9042161 933           8.920754 59.46621 X101.Horse        \n",
       "X102.Kulan         0.8443325 422           7.363508 35.80528 X102.Kulan        "
      ]
     },
     "metadata": {},
     "output_type": "display_data"
    }
   ],
   "source": [
    "# load alpha-div values\n",
    "alpha_div = readRDS(alpha_div_file)\n",
    "alpha_div = do.call(cbind, alpha_div)\n",
    "alpha_div$X.SampleID = rownames(alpha_div)\n",
    "alpha_div %>% dfhead"
   ]
  },
  {
   "cell_type": "markdown",
   "metadata": {},
   "source": [
    "## Phyloseq"
   ]
  },
  {
   "cell_type": "code",
   "execution_count": 18,
   "metadata": {
    "ExecuteTime": {
     "end_time": "2018-08-23T15:12:00.424994Z",
     "start_time": "2018-08-23T15:13:35.166Z"
    }
   },
   "outputs": [
    {
     "data": {
      "text/plain": [
       "phyloseq-class experiment-level object\n",
       "otu_table()   OTU Table:         [ 30290 taxa and 160 samples ]\n",
       "sample_data() Sample Data:       [ 160 samples by 171 sample variables ]\n",
       "tax_table()   Taxonomy Table:    [ 30290 taxa by 7 taxonomic ranks ]\n",
       "phy_tree()    Phylogenetic Tree: [ 30290 tips and 29752 internal nodes ]"
      ]
     },
     "metadata": {},
     "output_type": "display_data"
    }
   ],
   "source": [
    "physeq = readRDS(physeq_file) %>%\n",
    "    subset_samples(class=='Mammalia')\n",
    "physeq"
   ]
  },
  {
   "cell_type": "code",
   "execution_count": 19,
   "metadata": {
    "ExecuteTime": {
     "end_time": "2018-08-23T15:12:00.474036Z",
     "start_time": "2018-08-23T15:13:35.314Z"
    }
   },
   "outputs": [
    {
     "name": "stdout",
     "output_type": "stream",
     "text": [
      "[1] 160   5\n"
     ]
    },
    {
     "data": {
      "text/html": [
       "<table>\n",
       "<thead><tr><th></th><th scope=col>pielou_e</th><th scope=col>observed_otus</th><th scope=col>shannon</th><th scope=col>faith_pd</th><th scope=col>X.SampleID</th></tr></thead>\n",
       "<tbody>\n",
       "\t<tr><th scope=row>X1.Eurasian.Beaver</th><td>0.6507254         </td><td>158               </td><td>4.752756          </td><td>16.56554          </td><td>X1.Eurasian.Beaver</td></tr>\n",
       "\t<tr><th scope=row>X101.Horse</th><td>0.9042161         </td><td>933               </td><td>8.920754          </td><td>59.46621          </td><td>X101.Horse        </td></tr>\n",
       "\t<tr><th scope=row>X102.Kulan</th><td>0.8443325         </td><td>422               </td><td>7.363508          </td><td>35.80528          </td><td>X102.Kulan        </td></tr>\n",
       "</tbody>\n",
       "</table>\n"
      ],
      "text/latex": [
       "\\begin{tabular}{r|lllll}\n",
       "  & pielou\\_e & observed\\_otus & shannon & faith\\_pd & X.SampleID\\\\\n",
       "\\hline\n",
       "\tX1.Eurasian.Beaver & 0.6507254          & 158                & 4.752756           & 16.56554           & X1.Eurasian.Beaver\\\\\n",
       "\tX101.Horse & 0.9042161          & 933                & 8.920754           & 59.46621           & X101.Horse        \\\\\n",
       "\tX102.Kulan & 0.8443325          & 422                & 7.363508           & 35.80528           & X102.Kulan        \\\\\n",
       "\\end{tabular}\n"
      ],
      "text/markdown": [
       "\n",
       "| <!--/--> | pielou_e | observed_otus | shannon | faith_pd | X.SampleID | \n",
       "|---|---|---|\n",
       "| X1.Eurasian.Beaver | 0.6507254          | 158                | 4.752756           | 16.56554           | X1.Eurasian.Beaver | \n",
       "| X101.Horse | 0.9042161          | 933                | 8.920754           | 59.46621           | X101.Horse         | \n",
       "| X102.Kulan | 0.8443325          | 422                | 7.363508           | 35.80528           | X102.Kulan         | \n",
       "\n",
       "\n"
      ],
      "text/plain": [
       "                   pielou_e  observed_otus shannon  faith_pd X.SampleID        \n",
       "X1.Eurasian.Beaver 0.6507254 158           4.752756 16.56554 X1.Eurasian.Beaver\n",
       "X101.Horse         0.9042161 933           8.920754 59.46621 X101.Horse        \n",
       "X102.Kulan         0.8443325 422           7.363508 35.80528 X102.Kulan        "
      ]
     },
     "metadata": {},
     "output_type": "display_data"
    }
   ],
   "source": [
    "# filtering alpha\n",
    "alpha_div = alpha_div[sample_names(physeq),]\n",
    "alpha_div %>% dfhead"
   ]
  },
  {
   "cell_type": "markdown",
   "metadata": {},
   "source": [
    "### Metadata"
   ]
  },
  {
   "cell_type": "code",
   "execution_count": 20,
   "metadata": {
    "ExecuteTime": {
     "end_time": "2018-08-23T15:12:00.688172Z",
     "start_time": "2018-08-23T15:13:35.671Z"
    }
   },
   "outputs": [
    {
     "name": "stderr",
     "output_type": "stream",
     "text": [
      "Warning message in class(X) <- NULL:\n",
      "“Setting class(x) to NULL;   result will no longer be an S4 object”"
     ]
    },
    {
     "name": "stdout",
     "output_type": "stream",
     "text": [
      "[1] 160 171\n"
     ]
    },
    {
     "data": {
      "text/html": [
       "<table>\n",
       "<thead><tr><th scope=col>X.SampleID</th><th scope=col>BarcodeSequence</th><th scope=col>LinkerPrimerSequence</th><th scope=col>Primer</th><th scope=col>ReversePrimer</th><th scope=col>Barcode_ID</th><th scope=col>sample_number</th><th scope=col>host_subject_id</th><th scope=col>host_german_name</th><th scope=col>host_common_name</th><th scope=col>⋯</th><th scope=col>wellplate_position_Illumina</th><th scope=col>Cornell_Dilution_DNA_Illumina</th><th scope=col>Num_Illumina</th><th scope=col>Num</th><th scope=col>sorting_454</th><th scope=col>comments_additional</th><th scope=col>DNA_box_20180622</th><th scope=col>sample_vol_20180622</th><th scope=col>sample_label_20180622</th><th scope=col>Description</th></tr></thead>\n",
       "<tbody>\n",
       "\t<tr><td>X1.Eurasian.Beaver   </td><td>ACTCACGGTATG         </td><td>CATGCTGCCTCCCGTAGGAGT</td><td>GCCTCCCTCGCGCCATCAG  </td><td>AGAGTTTGATCCTGGCTCAG </td><td>338R_BC0049          </td><td>1                    </td><td>1                    </td><td>Biber                </td><td>Eurasian.Beaver      </td><td>⋯                    </td><td>B12                  </td><td>4                    </td><td>120                  </td><td>18                   </td><td>18                   </td><td>NA                   </td><td>1                    </td><td>20                   </td><td>1                    </td><td>NA                   </td></tr>\n",
       "\t<tr><td>X101.Horse           </td><td>ACGACGTCTTAG         </td><td>CATGCTGCCTCCCGTAGGAGT</td><td>GCCTCCCTCGCGCCATCAG  </td><td>AGAGTTTGATCCTGGCTCAG </td><td>338R_BC0030          </td><td>101                  </td><td>101                  </td><td>Hauspferd            </td><td>Horse                </td><td>⋯                    </td><td>E8                   </td><td>16                   </td><td>344                  </td><td>160                  </td><td>160                  </td><td>NA                   </td><td>2                    </td><td>20                   </td><td>101                  </td><td>NA                   </td></tr>\n",
       "\t<tr><td>X102.Kulan           </td><td>ACGAGTGCTATC         </td><td>CATGCTGCCTCCCGTAGGAGT</td><td>GCCTCCCTCGCGCCATCAG  </td><td>AGAGTTTGATCCTGGCTCAG </td><td>338R_BC0031          </td><td>102                  </td><td>102                  </td><td>Khulan               </td><td>Kulan                </td><td>⋯                    </td><td>E9                   </td><td>16                   </td><td>345                  </td><td>161                  </td><td>161                  </td><td>NA                   </td><td>2                    </td><td>20                   </td><td>102                  </td><td>NA                   </td></tr>\n",
       "</tbody>\n",
       "</table>\n"
      ],
      "text/latex": [
       "\\begin{tabular}{r|lllllllllllllllllllllllllllllllllllllllllllllllllllllllllllllllllllllllllllllllllllllllllllllllllllllllllllllllllllllllllllllllllllllllllllllllllllllllllllllllllllllllllll}\n",
       " X.SampleID & BarcodeSequence & LinkerPrimerSequence & Primer & ReversePrimer & Barcode\\_ID & sample\\_number & host\\_subject\\_id & host\\_german\\_name & host\\_common\\_name & ⋯ & wellplate\\_position\\_Illumina & Cornell\\_Dilution\\_DNA\\_Illumina & Num\\_Illumina & Num & sorting\\_454 & comments\\_additional & DNA\\_box\\_20180622 & sample\\_vol\\_20180622 & sample\\_label\\_20180622 & Description\\\\\n",
       "\\hline\n",
       "\t X1.Eurasian.Beaver    & ACTCACGGTATG          & CATGCTGCCTCCCGTAGGAGT & GCCTCCCTCGCGCCATCAG   & AGAGTTTGATCCTGGCTCAG  & 338R\\_BC0049         & 1                     & 1                     & Biber                 & Eurasian.Beaver       & ⋯                     & B12                   & 4                     & 120                   & 18                    & 18                    & NA                    & 1                     & 20                    & 1                     & NA                   \\\\\n",
       "\t X101.Horse            & ACGACGTCTTAG          & CATGCTGCCTCCCGTAGGAGT & GCCTCCCTCGCGCCATCAG   & AGAGTTTGATCCTGGCTCAG  & 338R\\_BC0030         & 101                   & 101                   & Hauspferd             & Horse                 & ⋯                     & E8                    & 16                    & 344                   & 160                   & 160                   & NA                    & 2                     & 20                    & 101                   & NA                   \\\\\n",
       "\t X102.Kulan            & ACGAGTGCTATC          & CATGCTGCCTCCCGTAGGAGT & GCCTCCCTCGCGCCATCAG   & AGAGTTTGATCCTGGCTCAG  & 338R\\_BC0031         & 102                   & 102                   & Khulan                & Kulan                 & ⋯                     & E9                    & 16                    & 345                   & 161                   & 161                   & NA                    & 2                     & 20                    & 102                   & NA                   \\\\\n",
       "\\end{tabular}\n"
      ],
      "text/markdown": [
       "\n",
       "X.SampleID | BarcodeSequence | LinkerPrimerSequence | Primer | ReversePrimer | Barcode_ID | sample_number | host_subject_id | host_german_name | host_common_name | ⋯ | wellplate_position_Illumina | Cornell_Dilution_DNA_Illumina | Num_Illumina | Num | sorting_454 | comments_additional | DNA_box_20180622 | sample_vol_20180622 | sample_label_20180622 | Description | \n",
       "|---|---|---|\n",
       "| X1.Eurasian.Beaver    | ACTCACGGTATG          | CATGCTGCCTCCCGTAGGAGT | GCCTCCCTCGCGCCATCAG   | AGAGTTTGATCCTGGCTCAG  | 338R_BC0049           | 1                     | 1                     | Biber                 | Eurasian.Beaver       | ⋯                     | B12                   | 4                     | 120                   | 18                    | 18                    | NA                    | 1                     | 20                    | 1                     | NA                    | \n",
       "| X101.Horse            | ACGACGTCTTAG          | CATGCTGCCTCCCGTAGGAGT | GCCTCCCTCGCGCCATCAG   | AGAGTTTGATCCTGGCTCAG  | 338R_BC0030           | 101                   | 101                   | Hauspferd             | Horse                 | ⋯                     | E8                    | 16                    | 344                   | 160                   | 160                   | NA                    | 2                     | 20                    | 101                   | NA                    | \n",
       "| X102.Kulan            | ACGAGTGCTATC          | CATGCTGCCTCCCGTAGGAGT | GCCTCCCTCGCGCCATCAG   | AGAGTTTGATCCTGGCTCAG  | 338R_BC0031           | 102                   | 102                   | Khulan                | Kulan                 | ⋯                     | E9                    | 16                    | 345                   | 161                   | 161                   | NA                    | 2                     | 20                    | 102                   | NA                    | \n",
       "\n",
       "\n"
      ],
      "text/plain": [
       "  X.SampleID         BarcodeSequence LinkerPrimerSequence  Primer             \n",
       "1 X1.Eurasian.Beaver ACTCACGGTATG    CATGCTGCCTCCCGTAGGAGT GCCTCCCTCGCGCCATCAG\n",
       "2 X101.Horse         ACGACGTCTTAG    CATGCTGCCTCCCGTAGGAGT GCCTCCCTCGCGCCATCAG\n",
       "3 X102.Kulan         ACGAGTGCTATC    CATGCTGCCTCCCGTAGGAGT GCCTCCCTCGCGCCATCAG\n",
       "  ReversePrimer        Barcode_ID  sample_number host_subject_id\n",
       "1 AGAGTTTGATCCTGGCTCAG 338R_BC0049 1             1              \n",
       "2 AGAGTTTGATCCTGGCTCAG 338R_BC0030 101           101            \n",
       "3 AGAGTTTGATCCTGGCTCAG 338R_BC0031 102           102            \n",
       "  host_german_name host_common_name ⋯ wellplate_position_Illumina\n",
       "1 Biber            Eurasian.Beaver  ⋯ B12                        \n",
       "2 Hauspferd        Horse            ⋯ E8                         \n",
       "3 Khulan           Kulan            ⋯ E9                         \n",
       "  Cornell_Dilution_DNA_Illumina Num_Illumina Num sorting_454\n",
       "1 4                             120          18  18         \n",
       "2 16                            344          160 160        \n",
       "3 16                            345          161 161        \n",
       "  comments_additional DNA_box_20180622 sample_vol_20180622\n",
       "1 NA                  1                20                 \n",
       "2 NA                  2                20                 \n",
       "3 NA                  2                20                 \n",
       "  sample_label_20180622 Description\n",
       "1 1                     NA         \n",
       "2 101                   NA         \n",
       "3 102                   NA         "
      ]
     },
     "metadata": {},
     "output_type": "display_data"
    }
   ],
   "source": [
    "metadata = physeq %>%\n",
    "    sample_data %>%\n",
    "    as.matrix %>%\n",
    "    as.data.frame %>%\n",
    "    mutate(X.SampleID = rownames(.))\n",
    "\n",
    "metadata %>% dfhead"
   ]
  },
  {
   "cell_type": "markdown",
   "metadata": {},
   "source": [
    "## Host phylogeny"
   ]
  },
  {
   "cell_type": "code",
   "execution_count": 21,
   "metadata": {
    "ExecuteTime": {
     "end_time": "2018-08-23T15:12:00.989146Z",
     "start_time": "2018-08-23T15:13:36.832Z"
    }
   },
   "outputs": [
    {
     "data": {
      "image/png": "[encoded data removed]",
      "text/plain": [
       "Plot with title “Cluster Dendrogram”"
      ]
     },
     "metadata": {},
     "output_type": "display_data"
    }
   ],
   "source": [
    "# patristic distance\n",
    "host_tree_d = readRDS(host_tree_dist_file)\n",
    "\n",
    "# filtering\n",
    "host_tree_d = dist_mtx_order(host_tree_d, metadata$X.SampleID)\n",
    "\n",
    "# ploting\n",
    "options(repr.plot.height=4, repr.plot.width=10)\n",
    "plot(hclust(host_tree_d), cex=0.4)"
   ]
  },
  {
   "cell_type": "markdown",
   "metadata": {},
   "source": [
    "# Making distance matrices"
   ]
  },
  {
   "cell_type": "markdown",
   "metadata": {},
   "source": [
    "## Alpha diversity"
   ]
  },
  {
   "cell_type": "code",
   "execution_count": 22,
   "metadata": {
    "ExecuteTime": {
     "end_time": "2018-08-23T15:12:01.094119Z",
     "start_time": "2018-08-23T15:13:38.118Z"
    }
   },
   "outputs": [
    {
     "data": {
      "text/plain": [
       "$pielou_e\n",
       "     Min.   1st Qu.    Median      Mean   3rd Qu.      Max. \n",
       "0.0000173 0.0716165 0.1667195 0.2176589 0.3038709 1.0000000 \n",
       "\n",
       "$observed_otus\n",
       "   Min. 1st Qu.  Median    Mean 3rd Qu.    Max. \n",
       " 0.0000  0.1016  0.2631  0.3048  0.4602  1.0000 \n",
       "\n",
       "$shannon\n",
       "     Min.   1st Qu.    Median      Mean   3rd Qu.      Max. \n",
       "0.0000068 0.1150456 0.2495280 0.2894801 0.4279015 1.0000000 \n",
       "\n",
       "$faith_pd\n",
       "    Min.  1st Qu.   Median     Mean  3rd Qu.     Max. \n",
       "0.000255 0.113576 0.258107 0.293867 0.445865 1.000000 \n"
      ]
     },
     "metadata": {},
     "output_type": "display_data"
    }
   ],
   "source": [
    "# convert to distance matrices\n",
    "alpha_div_mtx = list()\n",
    "n = ncol(alpha_div) -1 \n",
    "for(x in colnames(alpha_div)[1:n]){\n",
    "    y = as.data.frame(alpha_div[,x])\n",
    "    rownames(y) = rownames(alpha_div)\n",
    "    alpha_div_mtx[[x]] = cluster::daisy(y, metric='gower')\n",
    "}\n",
    "alpha_div = alpha_div_mtx    \n",
    "\n",
    "# status\n",
    "lapply(alpha_div, function(x) x %>% as.vector %>% summary)"
   ]
  },
  {
   "cell_type": "markdown",
   "metadata": {},
   "source": [
    "## Diet (detailed) distance\n",
    "\n",
    "* Detailed diet categories"
   ]
  },
  {
   "cell_type": "code",
   "execution_count": 23,
   "metadata": {
    "ExecuteTime": {
     "end_time": "2018-08-23T15:12:02.653340Z",
     "start_time": "2018-08-23T15:13:42.788Z"
    }
   },
   "outputs": [
    {
     "data": {
      "text/plain": [
       "  X.SampleID        diet_vertebrate diet_invertebrate diet_fruit\n",
       " Length:160         no :108         no :97            no :84    \n",
       " Class :character   yes: 52         yes:63            yes:76    \n",
       " Mode  :character                                               \n",
       " diet_flowers_nectar_pollen diet_leaves_branches_bark_buds diet_seeds\n",
       " no :144                    no :65                         no :91    \n",
       " yes: 16                    yes:95                         yes:69    \n",
       "                                                                     \n",
       " diet_grass_waterplants diet_roots_tubers\n",
       " no :81                 no :93           \n",
       " yes:79                 yes:67           \n",
       "                                         "
      ]
     },
     "metadata": {},
     "output_type": "display_data"
    }
   ],
   "source": [
    "metadata %>%\n",
    "    dplyr::select(X.SampleID, diet_vertebrate, diet_invertebrate, diet_fruit,\n",
    "                  diet_flowers_nectar_pollen, diet_leaves_branches_bark_buds, diet_seeds,\n",
    "                  diet_grass_waterplants, diet_roots_tubers) %>% summary"
   ]
  },
  {
   "cell_type": "code",
   "execution_count": 24,
   "metadata": {
    "ExecuteTime": {
     "end_time": "2018-08-23T15:12:05.137151Z",
     "start_time": "2018-08-23T15:13:45.219Z"
    }
   },
   "outputs": [
    {
     "data": {
      "text/html": [
       "<table>\n",
       "<thead><tr><th></th><th scope=col>diet_vertebrate</th><th scope=col>diet_invertebrate</th><th scope=col>diet_fruit</th><th scope=col>diet_flowers_nectar_pollen</th><th scope=col>diet_leaves_branches_bark_buds</th><th scope=col>diet_seeds</th><th scope=col>diet_grass_waterplants</th><th scope=col>diet_roots_tubers</th></tr></thead>\n",
       "<tbody>\n",
       "\t<tr><th scope=row>X1.Eurasian.Beaver</th><td>0</td><td>0</td><td>0</td><td>0</td><td>1</td><td>0</td><td>1</td><td>1</td></tr>\n",
       "\t<tr><th scope=row>X101.Horse</th><td>0</td><td>0</td><td>0</td><td>0</td><td>0</td><td>1</td><td>1</td><td>0</td></tr>\n",
       "\t<tr><th scope=row>X102.Kulan</th><td>0</td><td>0</td><td>0</td><td>0</td><td>1</td><td>0</td><td>1</td><td>0</td></tr>\n",
       "\t<tr><th scope=row>X109.Red.Fox</th><td>1</td><td>1</td><td>1</td><td>0</td><td>0</td><td>0</td><td>0</td><td>0</td></tr>\n",
       "\t<tr><th scope=row>X110.Noctule</th><td>0</td><td>1</td><td>0</td><td>0</td><td>0</td><td>0</td><td>0</td><td>0</td></tr>\n",
       "\t<tr><th scope=row>X111.West.European.Hedgehog</th><td>1</td><td>1</td><td>0</td><td>0</td><td>0</td><td>0</td><td>0</td><td>0</td></tr>\n",
       "</tbody>\n",
       "</table>\n"
      ],
      "text/latex": [
       "\\begin{tabular}{r|llllllll}\n",
       "  & diet\\_vertebrate & diet\\_invertebrate & diet\\_fruit & diet\\_flowers\\_nectar\\_pollen & diet\\_leaves\\_branches\\_bark\\_buds & diet\\_seeds & diet\\_grass\\_waterplants & diet\\_roots\\_tubers\\\\\n",
       "\\hline\n",
       "\tX1.Eurasian.Beaver & 0 & 0 & 0 & 0 & 1 & 0 & 1 & 1\\\\\n",
       "\tX101.Horse & 0 & 0 & 0 & 0 & 0 & 1 & 1 & 0\\\\\n",
       "\tX102.Kulan & 0 & 0 & 0 & 0 & 1 & 0 & 1 & 0\\\\\n",
       "\tX109.Red.Fox & 1 & 1 & 1 & 0 & 0 & 0 & 0 & 0\\\\\n",
       "\tX110.Noctule & 0 & 1 & 0 & 0 & 0 & 0 & 0 & 0\\\\\n",
       "\tX111.West.European.Hedgehog & 1 & 1 & 0 & 0 & 0 & 0 & 0 & 0\\\\\n",
       "\\end{tabular}\n"
      ],
      "text/markdown": [
       "\n",
       "| <!--/--> | diet_vertebrate | diet_invertebrate | diet_fruit | diet_flowers_nectar_pollen | diet_leaves_branches_bark_buds | diet_seeds | diet_grass_waterplants | diet_roots_tubers | \n",
       "|---|---|---|---|---|---|\n",
       "| X1.Eurasian.Beaver | 0 | 0 | 0 | 0 | 1 | 0 | 1 | 1 | \n",
       "| X101.Horse | 0 | 0 | 0 | 0 | 0 | 1 | 1 | 0 | \n",
       "| X102.Kulan | 0 | 0 | 0 | 0 | 1 | 0 | 1 | 0 | \n",
       "| X109.Red.Fox | 1 | 1 | 1 | 0 | 0 | 0 | 0 | 0 | \n",
       "| X110.Noctule | 0 | 1 | 0 | 0 | 0 | 0 | 0 | 0 | \n",
       "| X111.West.European.Hedgehog | 1 | 1 | 0 | 0 | 0 | 0 | 0 | 0 | \n",
       "\n",
       "\n"
      ],
      "text/plain": [
       "                            diet_vertebrate diet_invertebrate diet_fruit\n",
       "X1.Eurasian.Beaver          0               0                 0         \n",
       "X101.Horse                  0               0                 0         \n",
       "X102.Kulan                  0               0                 0         \n",
       "X109.Red.Fox                1               1                 1         \n",
       "X110.Noctule                0               1                 0         \n",
       "X111.West.European.Hedgehog 1               1                 0         \n",
       "                            diet_flowers_nectar_pollen\n",
       "X1.Eurasian.Beaver          0                         \n",
       "X101.Horse                  0                         \n",
       "X102.Kulan                  0                         \n",
       "X109.Red.Fox                0                         \n",
       "X110.Noctule                0                         \n",
       "X111.West.European.Hedgehog 0                         \n",
       "                            diet_leaves_branches_bark_buds diet_seeds\n",
       "X1.Eurasian.Beaver          1                              0         \n",
       "X101.Horse                  0                              1         \n",
       "X102.Kulan                  1                              0         \n",
       "X109.Red.Fox                0                              0         \n",
       "X110.Noctule                0                              0         \n",
       "X111.West.European.Hedgehog 0                              0         \n",
       "                            diet_grass_waterplants diet_roots_tubers\n",
       "X1.Eurasian.Beaver          1                      1                \n",
       "X101.Horse                  1                      0                \n",
       "X102.Kulan                  1                      0                \n",
       "X109.Red.Fox                0                      0                \n",
       "X110.Noctule                0                      0                \n",
       "X111.West.European.Hedgehog 0                      0                "
      ]
     },
     "metadata": {},
     "output_type": "display_data"
    }
   ],
   "source": [
    "dietD = metadata %>%\n",
    "    dplyr::select(X.SampleID, diet_vertebrate, diet_invertebrate, diet_fruit,\n",
    "                  diet_flowers_nectar_pollen, diet_leaves_branches_bark_buds, diet_seeds,\n",
    "                  diet_grass_waterplants, diet_roots_tubers) %>%\n",
    "    mutate(diet_invertebrate = gsub(' .+', '', diet_invertebrate) %>% as.factor) %>%\n",
    "    as.data.frame\n",
    "\n",
    "rownames(dietD) = dietD$X.SampleID\n",
    "dietD$X.SampleID = NULL\n",
    "\n",
    "cn = colnames(dietD)\n",
    "dietD = dietD %>% \n",
    "    apply(1, function(x) ifelse(x=='yes', 1, 0)) %>%\n",
    "    t %>% as.data.frame\n",
    "colnames(dietD) = cn\n",
    "\n",
    "# status\n",
    "dietD %>% head"
   ]
  },
  {
   "cell_type": "code",
   "execution_count": 25,
   "metadata": {
    "ExecuteTime": {
     "end_time": "2018-08-23T15:12:05.647690Z",
     "start_time": "2018-08-23T15:13:45.559Z"
    }
   },
   "outputs": [
    {
     "data": {
      "image/png": "[encoded data removed]",
      "text/plain": [
       "Plot with title “Cluster Dendrogram”"
      ]
     },
     "metadata": {},
     "output_type": "display_data"
    }
   ],
   "source": [
    "dietD_d = vegan::vegdist(dietD, metric='jaccard')\n",
    "\n",
    "options(repr.plot.width=9, repr.plot.height=4)\n",
    "plot(hclust(dietD_d), cex=0.4)"
   ]
  },
  {
   "cell_type": "markdown",
   "metadata": {},
   "source": [
    "## Digestive tract distance"
   ]
  },
  {
   "cell_type": "code",
   "execution_count": 26,
   "metadata": {
    "ExecuteTime": {
     "end_time": "2018-08-23T15:12:07.042928Z",
     "start_time": "2018-08-23T15:13:47.152Z"
    }
   },
   "outputs": [
    {
     "data": {
      "text/html": [
       "<table>\n",
       "<thead><tr><th></th><th scope=col>digestive_system</th><th scope=col>digestive_system_detail</th><th scope=col>ruminant</th><th scope=col>pseudoruminants</th></tr></thead>\n",
       "<tbody>\n",
       "\t<tr><th scope=row>X1.Eurasian.Beaver</th><td>hindgut</td><td>hindgut</td><td>no     </td><td>no     </td></tr>\n",
       "\t<tr><th scope=row>X101.Horse</th><td>hindgut</td><td>hindgut</td><td>no     </td><td>no     </td></tr>\n",
       "\t<tr><th scope=row>X102.Kulan</th><td>hindgut</td><td>hindgut</td><td>no     </td><td>no     </td></tr>\n",
       "\t<tr><th scope=row>X109.Red.Fox</th><td>simple </td><td>simple </td><td>no     </td><td>no     </td></tr>\n",
       "\t<tr><th scope=row>X110.Noctule</th><td>NA     </td><td>NA     </td><td>no     </td><td>no     </td></tr>\n",
       "\t<tr><th scope=row>X111.West.European.Hedgehog</th><td>simple </td><td>simple </td><td>no     </td><td>no     </td></tr>\n",
       "</tbody>\n",
       "</table>\n"
      ],
      "text/latex": [
       "\\begin{tabular}{r|llll}\n",
       "  & digestive\\_system & digestive\\_system\\_detail & ruminant & pseudoruminants\\\\\n",
       "\\hline\n",
       "\tX1.Eurasian.Beaver & hindgut & hindgut & no      & no     \\\\\n",
       "\tX101.Horse & hindgut & hindgut & no      & no     \\\\\n",
       "\tX102.Kulan & hindgut & hindgut & no      & no     \\\\\n",
       "\tX109.Red.Fox & simple  & simple  & no      & no     \\\\\n",
       "\tX110.Noctule & NA      & NA      & no      & no     \\\\\n",
       "\tX111.West.European.Hedgehog & simple  & simple  & no      & no     \\\\\n",
       "\\end{tabular}\n"
      ],
      "text/markdown": [
       "\n",
       "| <!--/--> | digestive_system | digestive_system_detail | ruminant | pseudoruminants | \n",
       "|---|---|---|---|---|---|\n",
       "| X1.Eurasian.Beaver | hindgut | hindgut | no      | no      | \n",
       "| X101.Horse | hindgut | hindgut | no      | no      | \n",
       "| X102.Kulan | hindgut | hindgut | no      | no      | \n",
       "| X109.Red.Fox | simple  | simple  | no      | no      | \n",
       "| X110.Noctule | NA      | NA      | no      | no      | \n",
       "| X111.West.European.Hedgehog | simple  | simple  | no      | no      | \n",
       "\n",
       "\n"
      ],
      "text/plain": [
       "                            digestive_system digestive_system_detail ruminant\n",
       "X1.Eurasian.Beaver          hindgut          hindgut                 no      \n",
       "X101.Horse                  hindgut          hindgut                 no      \n",
       "X102.Kulan                  hindgut          hindgut                 no      \n",
       "X109.Red.Fox                simple           simple                  no      \n",
       "X110.Noctule                NA               NA                      no      \n",
       "X111.West.European.Hedgehog simple           simple                  no      \n",
       "                            pseudoruminants\n",
       "X1.Eurasian.Beaver          no             \n",
       "X101.Horse                  no             \n",
       "X102.Kulan                  no             \n",
       "X109.Red.Fox                no             \n",
       "X110.Noctule                no             \n",
       "X111.West.European.Hedgehog no             "
      ]
     },
     "metadata": {},
     "output_type": "display_data"
    }
   ],
   "source": [
    "dtD = metadata %>%\n",
    "    distinct(X.SampleID, .keep_all=TRUE) %>%\n",
    "    dplyr::select(X.SampleID, \n",
    "                  digestive_system, digestive_system_detail, \n",
    "                  ruminant, pseudoruminants) %>%\n",
    "    mutate(digestive_system = gsub('_', ' ', digestive_system),\n",
    "           digestive_system_detail = gsub('^_', '', digestive_system_detail),\n",
    "           digestive_system_detail = gsub('_', ' ', digestive_system_detail),\n",
    "           digestive_system_detail = gsub(' +', ' ', digestive_system_detail)) %>%\n",
    "    mutate(digestive_system = digestive_system %>% as.factor,\n",
    "           digestive_system_detail = digestive_system_detail %>% as.factor) %>%\n",
    "    as.data.frame\n",
    "\n",
    "rownames(dtD) = dtD$X.SampleID\n",
    "dtD$X.SampleID = NULL\n",
    "\n",
    "dtD %>% head"
   ]
  },
  {
   "cell_type": "code",
   "execution_count": 27,
   "metadata": {
    "ExecuteTime": {
     "end_time": "2018-08-23T15:12:08.684138Z",
     "start_time": "2018-08-23T15:13:48.527Z"
    }
   },
   "outputs": [
    {
     "data": {
      "image/png": "[encoded data removed]",
      "text/plain": [
       "Plot with title “Cluster Dendrogram”"
      ]
     },
     "metadata": {},
     "output_type": "display_data"
    }
   ],
   "source": [
    "dtD_d = cluster::daisy(dtD, metric='gower')\n",
    "\n",
    "options(repr.plot.height=5, repr.plot.width=14)\n",
    "plot(hclust(dtD_d), cex=0.4)"
   ]
  },
  {
   "cell_type": "markdown",
   "metadata": {},
   "source": [
    "## Habitat distance\n",
    "\n",
    "* Gower distance on `habitat_detail`"
   ]
  },
  {
   "cell_type": "code",
   "execution_count": 28,
   "metadata": {
    "ExecuteTime": {
     "end_time": "2018-08-23T15:12:10.279388Z",
     "start_time": "2018-08-23T15:13:50.422Z"
    }
   },
   "outputs": [
    {
     "name": "stdout",
     "output_type": "stream",
     "text": [
      ".\n",
      "anthropogenic habitat    cultivated habitat             grassland \n",
      "                    8                    10                    28 \n",
      " saline water habitat   terrestrial habitat              woodland \n",
      "                    7                    64                    43 \n",
      ".\n",
      "anthropogenic habitat    cultivated habitat                forest \n",
      "                    8                    10                    43 \n",
      "            grassland        marine habitat                meadow \n",
      "                    1                     7                    14 \n",
      "              pasture                steppe   terrestrial habitat \n",
      "                    4                     9                    64 \n",
      ".\n",
      "anthropogenic habitat    cultivated habitat          flood meadow \n",
      "                    8                    10                    14 \n",
      "               forest             grassland        marine habitat \n",
      "                   43                     1                     7 \n",
      "              pasture                steppe   terrestrial habitat \n",
      "                    4                     9                    64 \n"
     ]
    }
   ],
   "source": [
    "metadata$habitat_detail %>% table %>% print\n",
    "metadata$habitat_detail_1 %>% table %>% print\n",
    "metadata$habitat_detail_2 %>% table %>% print"
   ]
  },
  {
   "cell_type": "code",
   "execution_count": 29,
   "metadata": {
    "ExecuteTime": {
     "end_time": "2018-08-23T15:12:11.316032Z",
     "start_time": "2018-08-23T15:13:51.439Z"
    }
   },
   "outputs": [
    {
     "name": "stdout",
     "output_type": "stream",
     "text": [
      "[1] 160   3\n"
     ]
    },
    {
     "data": {
      "text/html": [
       "<table>\n",
       "<thead><tr><th></th><th scope=col>habitat_detail</th><th scope=col>habitat_detail_1</th><th scope=col>habitat_detail_2</th></tr></thead>\n",
       "<tbody>\n",
       "\t<tr><th scope=row>X1.Eurasian.Beaver</th><td>terrestrial habitat</td><td>terrestrial habitat</td><td>terrestrial habitat</td></tr>\n",
       "\t<tr><th scope=row>X101.Horse</th><td>grassland          </td><td>pasture            </td><td>pasture            </td></tr>\n",
       "\t<tr><th scope=row>X102.Kulan</th><td>grassland          </td><td>steppe             </td><td>steppe             </td></tr>\n",
       "</tbody>\n",
       "</table>\n"
      ],
      "text/latex": [
       "\\begin{tabular}{r|lll}\n",
       "  & habitat\\_detail & habitat\\_detail\\_1 & habitat\\_detail\\_2\\\\\n",
       "\\hline\n",
       "\tX1.Eurasian.Beaver & terrestrial habitat & terrestrial habitat & terrestrial habitat\\\\\n",
       "\tX101.Horse & grassland           & pasture             & pasture            \\\\\n",
       "\tX102.Kulan & grassland           & steppe              & steppe             \\\\\n",
       "\\end{tabular}\n"
      ],
      "text/markdown": [
       "\n",
       "| <!--/--> | habitat_detail | habitat_detail_1 | habitat_detail_2 | \n",
       "|---|---|---|\n",
       "| X1.Eurasian.Beaver | terrestrial habitat | terrestrial habitat | terrestrial habitat | \n",
       "| X101.Horse | grassland           | pasture             | pasture             | \n",
       "| X102.Kulan | grassland           | steppe              | steppe              | \n",
       "\n",
       "\n"
      ],
      "text/plain": [
       "                   habitat_detail      habitat_detail_1    habitat_detail_2   \n",
       "X1.Eurasian.Beaver terrestrial habitat terrestrial habitat terrestrial habitat\n",
       "X101.Horse         grassland           pasture             pasture            \n",
       "X102.Kulan         grassland           steppe              steppe             "
      ]
     },
     "metadata": {},
     "output_type": "display_data"
    }
   ],
   "source": [
    "habitatD = metadata %>%\n",
    "    dplyr::select(X.SampleID, habitat_detail, habitat_detail_1, habitat_detail_2) %>%\n",
    "    as.data.frame\n",
    "\n",
    "rownames(habitatD) = habitatD$X.SampleID\n",
    "habitatD$X.SampleID = NULL\n",
    "\n",
    "habitatD %>% dfhead"
   ]
  },
  {
   "cell_type": "code",
   "execution_count": 30,
   "metadata": {
    "ExecuteTime": {
     "end_time": "2018-08-23T15:12:12.434615Z",
     "start_time": "2018-08-23T15:13:52.280Z"
    }
   },
   "outputs": [
    {
     "data": {
      "image/png": "[encoded data removed]",
      "text/plain": [
       "Plot with title “Cluster Dendrogram”"
      ]
     },
     "metadata": {},
     "output_type": "display_data"
    }
   ],
   "source": [
    "habitatD_d = cluster::daisy(habitatD, metric='gower') \n",
    "\n",
    "options(repr.plot.height=5, repr.plot.width=14)\n",
    "plot(hclust(habitatD_d), cex=0.4)"
   ]
  },
  {
   "cell_type": "markdown",
   "metadata": {},
   "source": [
    "## Geographic distance"
   ]
  },
  {
   "cell_type": "code",
   "execution_count": 31,
   "metadata": {
    "ExecuteTime": {
     "end_time": "2018-08-23T15:12:14.348313Z",
     "start_time": "2018-08-23T15:13:54.454Z"
    }
   },
   "outputs": [
    {
     "name": "stdout",
     "output_type": "stream",
     "text": [
      "   Min. 1st Qu.  Median    Mean 3rd Qu.    Max. \n",
      " -35.83   11.42   47.50   30.08   48.21   55.29 \n",
      "   Min. 1st Qu.  Median    Mean 3rd Qu.    Max. \n",
      " -84.10   15.33   16.37   27.95   31.59  140.12 \n",
      "[1] 160   3\n"
     ]
    },
    {
     "data": {
      "text/html": [
       "<table>\n",
       "<thead><tr><th></th><th scope=col>X.SampleID</th><th scope=col>latitude</th><th scope=col>longitude</th></tr></thead>\n",
       "<tbody>\n",
       "\t<tr><th scope=row>X1.Eurasian.Beaver</th><td>X1.Eurasian.Beaver</td><td>48.47611          </td><td>16.58389          </td></tr>\n",
       "\t<tr><th scope=row>X101.Horse</th><td>X101.Horse        </td><td>48.78333          </td><td>15.06667          </td></tr>\n",
       "\t<tr><th scope=row>X102.Kulan</th><td>X102.Kulan        </td><td>43.70759          </td><td>98.34961          </td></tr>\n",
       "</tbody>\n",
       "</table>\n"
      ],
      "text/latex": [
       "\\begin{tabular}{r|lll}\n",
       "  & X.SampleID & latitude & longitude\\\\\n",
       "\\hline\n",
       "\tX1.Eurasian.Beaver & X1.Eurasian.Beaver & 48.47611           & 16.58389          \\\\\n",
       "\tX101.Horse & X101.Horse         & 48.78333           & 15.06667          \\\\\n",
       "\tX102.Kulan & X102.Kulan         & 43.70759           & 98.34961          \\\\\n",
       "\\end{tabular}\n"
      ],
      "text/markdown": [
       "\n",
       "| <!--/--> | X.SampleID | latitude | longitude | \n",
       "|---|---|---|\n",
       "| X1.Eurasian.Beaver | X1.Eurasian.Beaver | 48.47611           | 16.58389           | \n",
       "| X101.Horse | X101.Horse         | 48.78333           | 15.06667           | \n",
       "| X102.Kulan | X102.Kulan         | 43.70759           | 98.34961           | \n",
       "\n",
       "\n"
      ],
      "text/plain": [
       "                   X.SampleID         latitude longitude\n",
       "X1.Eurasian.Beaver X1.Eurasian.Beaver 48.47611 16.58389 \n",
       "X101.Horse         X101.Horse         48.78333 15.06667 \n",
       "X102.Kulan         X102.Kulan         43.70759 98.34961 "
      ]
     },
     "metadata": {},
     "output_type": "display_data"
    }
   ],
   "source": [
    "geo = metadata %>% \n",
    "    dplyr::select(X.SampleID, latitude, longitude) %>%\n",
    "    mutate(latitude = latitude %>% as.Num,\n",
    "           longitude = longitude %>% as.Num) %>%\n",
    "    as.data.frame\n",
    "\n",
    "rownames(geo) = geo$X.SampleID\n",
    "\n",
    "geo$latitude %>% summary %>% print\n",
    "geo$longitude %>% summary %>% print\n",
    "geo %>% dfhead    "
   ]
  },
  {
   "cell_type": "code",
   "execution_count": 32,
   "metadata": {
    "ExecuteTime": {
     "end_time": "2018-08-23T15:12:16.675896Z",
     "start_time": "2018-08-23T15:13:55.727Z"
    }
   },
   "outputs": [
    {
     "data": {
      "image/png": "[encoded data removed]",
      "text/plain": [
       "Plot with title “Cluster Dendrogram”"
      ]
     },
     "metadata": {},
     "output_type": "display_data"
    }
   ],
   "source": [
    ".pairwise_distGeo = function(x, y){\n",
    "    d = geosphere::distGeo(x[c('longitude', 'latitude')],\n",
    "                           y[,c('longitude', 'latitude')])\n",
    "    return(d)\n",
    "}\n",
    "\n",
    "pairwise_distGeo = function(df){\n",
    "    x = df[,c('longitude', 'latitude')]\n",
    "    geo_d = apply(x, 1, .pairwise_distGeo, y=x)\n",
    "    rescale_dist_mtx(as.dist(geo_d))\n",
    "}\n",
    "\n",
    "geo_d = pairwise_distGeo(geo)\n",
    "\n",
    "options(repr.plot.height=5, repr.plot.width=14)\n",
    "plot(hclust(geo_d), cex=0.4)"
   ]
  },
  {
   "cell_type": "markdown",
   "metadata": {},
   "source": [
    "## Sampling details distance\n",
    "\n",
    "* Gower distance of sampling methodology\n",
    "  * assessing variance explained by technical factors"
   ]
  },
  {
   "cell_type": "code",
   "execution_count": 33,
   "metadata": {
    "ExecuteTime": {
     "end_time": "2018-08-23T15:12:18.698617Z",
     "start_time": "2018-08-23T15:13:58.815Z"
    }
   },
   "outputs": [
    {
     "name": "stdout",
     "output_type": "stream",
     "text": [
      "[1] 160   3\n"
     ]
    },
    {
     "data": {
      "text/html": [
       "<table>\n",
       "<thead><tr><th></th><th scope=col>sampling_method</th><th scope=col>captive_wild</th><th scope=col>wild_domesticated</th></tr></thead>\n",
       "<tbody>\n",
       "\t<tr><th scope=row>X1.Eurasian.Beaver</th><td>feces sampling</td><td>wild          </td><td>wild          </td></tr>\n",
       "\t<tr><th scope=row>X101.Horse</th><td>feces sampling</td><td>captive       </td><td>domesticated  </td></tr>\n",
       "\t<tr><th scope=row>X102.Kulan</th><td>feces sampling</td><td>wild          </td><td>wild          </td></tr>\n",
       "</tbody>\n",
       "</table>\n"
      ],
      "text/latex": [
       "\\begin{tabular}{r|lll}\n",
       "  & sampling\\_method & captive\\_wild & wild\\_domesticated\\\\\n",
       "\\hline\n",
       "\tX1.Eurasian.Beaver & feces sampling & wild           & wild          \\\\\n",
       "\tX101.Horse & feces sampling & captive        & domesticated  \\\\\n",
       "\tX102.Kulan & feces sampling & wild           & wild          \\\\\n",
       "\\end{tabular}\n"
      ],
      "text/markdown": [
       "\n",
       "| <!--/--> | sampling_method | captive_wild | wild_domesticated | \n",
       "|---|---|---|\n",
       "| X1.Eurasian.Beaver | feces sampling | wild           | wild           | \n",
       "| X101.Horse | feces sampling | captive        | domesticated   | \n",
       "| X102.Kulan | feces sampling | wild           | wild           | \n",
       "\n",
       "\n"
      ],
      "text/plain": [
       "                   sampling_method captive_wild wild_domesticated\n",
       "X1.Eurasian.Beaver feces sampling  wild         wild             \n",
       "X101.Horse         feces sampling  captive      domesticated     \n",
       "X102.Kulan         feces sampling  wild         wild             "
      ]
     },
     "metadata": {},
     "output_type": "display_data"
    }
   ],
   "source": [
    "x = metadata$sampling_method %>% unique %>% as.vector\n",
    "samp = metadata %>% \n",
    "    dplyr::select(X.SampleID, sampling_method, captive_wild, wild_domesticated) \n",
    "\n",
    "rownames(samp) = samp$X.SampleID\n",
    "samp$X.SampleID = NULL\n",
    "\n",
    "samp %>% dfhead"
   ]
  },
  {
   "cell_type": "code",
   "execution_count": 34,
   "metadata": {
    "ExecuteTime": {
     "end_time": "2018-08-23T15:12:18.891397Z",
     "start_time": "2018-08-23T15:13:59.046Z"
    }
   },
   "outputs": [
    {
     "data": {
      "text/plain": [
       "             sampling_method  captive_wild    wild_domesticated\n",
       " dried feces sampling:  7    captive: 34   domesticated: 16    \n",
       " feces sampling      :138    human  :  4   wild        :144    \n",
       " gut section         :  9    wild   :122                       \n",
       " swab                :  6                                      "
      ]
     },
     "metadata": {},
     "output_type": "display_data"
    }
   ],
   "source": [
    "# summary\n",
    "samp %>% summary"
   ]
  },
  {
   "cell_type": "code",
   "execution_count": 35,
   "metadata": {
    "ExecuteTime": {
     "end_time": "2018-08-23T15:12:19.509721Z",
     "start_time": "2018-08-23T15:13:59.353Z"
    }
   },
   "outputs": [
    {
     "data": {
      "image/png": "[encoded data removed]",
      "text/plain": [
       "Plot with title “Cluster Dendrogram”"
      ]
     },
     "metadata": {},
     "output_type": "display_data"
    }
   ],
   "source": [
    "# distance matrix\n",
    "samp_d = cluster::daisy(samp, metric='gower') \n",
    "\n",
    "options(repr.plot.height=5, repr.plot.width=14)\n",
    "plot(hclust(samp_d), cex=0.4)"
   ]
  },
  {
   "cell_type": "markdown",
   "metadata": {},
   "source": [
    "# Order matrices"
   ]
  },
  {
   "cell_type": "code",
   "execution_count": 36,
   "metadata": {
    "ExecuteTime": {
     "end_time": "2018-08-23T15:12:22.968176Z",
     "start_time": "2018-08-23T15:14:03.039Z"
    }
   },
   "outputs": [
    {
     "data": {
      "text/html": [
       "<ol class=list-inline>\n",
       "\t<li>'pielou_e'</li>\n",
       "\t<li>'observed_otus'</li>\n",
       "\t<li>'shannon'</li>\n",
       "\t<li>'faith_pd'</li>\n",
       "</ol>\n"
      ],
      "text/latex": [
       "\\begin{enumerate*}\n",
       "\\item 'pielou\\_e'\n",
       "\\item 'observed\\_otus'\n",
       "\\item 'shannon'\n",
       "\\item 'faith\\_pd'\n",
       "\\end{enumerate*}\n"
      ],
      "text/markdown": [
       "1. 'pielou_e'\n",
       "2. 'observed_otus'\n",
       "3. 'shannon'\n",
       "4. 'faith_pd'\n",
       "\n",
       "\n"
      ],
      "text/plain": [
       "[1] \"pielou_e\"      \"observed_otus\" \"shannon\"       \"faith_pd\"     "
      ]
     },
     "metadata": {},
     "output_type": "display_data"
    }
   ],
   "source": [
    "# beta-div labels\n",
    "alpha_div %>% labels"
   ]
  },
  {
   "cell_type": "code",
   "execution_count": 37,
   "metadata": {
    "ExecuteTime": {
     "end_time": "2018-08-23T15:12:24.899812Z",
     "start_time": "2018-08-23T15:14:05.016Z"
    }
   },
   "outputs": [],
   "source": [
    "# ordering by beta-div metrix\n",
    "X = labels(alpha_div$shannon)\n",
    "host_tree_d_o = dist_mtx_order(host_tree_d, X)\n",
    "dietD_d_o = dist_mtx_order(dietD_d, X)\n",
    "habitatD_d_o = dist_mtx_order(habitatD_d, X)\n",
    "geo_d_o = dist_mtx_order(geo_d, X)\n",
    "samp_d_o = dist_mtx_order(samp_d, X)\n",
    "dtD_d_o = dist_mtx_order(dtD_d, X)"
   ]
  },
  {
   "cell_type": "code",
   "execution_count": 38,
   "metadata": {
    "ExecuteTime": {
     "end_time": "2018-08-23T15:12:25.148264Z",
     "start_time": "2018-08-23T15:14:05.298Z"
    }
   },
   "outputs": [
    {
     "name": "stdout",
     "output_type": "stream",
     "text": [
      "[1] 160\n",
      "[1] 160\n"
     ]
    }
   ],
   "source": [
    "# check\n",
    "X %>% length %>% print\n",
    "dtD_d_o %>% labels %>% length %>% print"
   ]
  },
  {
   "cell_type": "markdown",
   "metadata": {},
   "source": [
    "# MRM intra-spec sensitivity\n",
    "\n",
    "* removing individuals/clades and assessing change in coef."
   ]
  },
  {
   "cell_type": "code",
   "execution_count": 39,
   "metadata": {
    "ExecuteTime": {
     "end_time": "2018-08-23T15:12:26.709608Z",
     "start_time": "2018-08-23T15:14:06.864Z"
    }
   },
   "outputs": [],
   "source": [
    "# number of permutated SpecD datasetst\n",
    "nperm_datasets = 100\n",
    "# number of permutations per MRM analysis\n",
    "nperm = 1000"
   ]
  },
  {
   "cell_type": "markdown",
   "metadata": {},
   "source": [
    "## Functions"
   ]
  },
  {
   "cell_type": "code",
   "execution_count": 40,
   "metadata": {
    "ExecuteTime": {
     "end_time": "2018-08-23T15:12:27.769035Z",
     "start_time": "2018-08-23T15:14:07.928Z"
    }
   },
   "outputs": [],
   "source": [
    "#' randomly selecting one per group\n",
    "#' L : list of distance matrixes used for MRM\n",
    "#' df_grps : data.frame (sample, group)\n",
    "one_per_group = function(L, df_grps, ...){\n",
    "    # get subsample\n",
    "    colnames(df_grps) = c('Sample', 'Group')\n",
    "    df_grps = df_grps %>%\n",
    "        group_by(Group) %>%\n",
    "        sample_n(1)\n",
    "    # subsetting all matrices\n",
    "    lapply(L, function(x) dist_mtx_order(x, df_grps$Sample))\n",
    "}"
   ]
  },
  {
   "cell_type": "code",
   "execution_count": 41,
   "metadata": {
    "ExecuteTime": {
     "end_time": "2018-08-23T15:12:28.545178Z",
     "start_time": "2018-08-23T15:14:08.705Z"
    }
   },
   "outputs": [],
   "source": [
    "#' MRM on one subsample rep\n",
    "#' i : rep number\n",
    "#' L : list of list of distance matrices generated by `one_per_group()`\n",
    "# nperm : nperm function for MRM\n",
    "# f : MRM fomulat\n",
    "mrm_each = function(i, L, f, nperm=99){\n",
    "    m = L[[i]]\n",
    "    f = as.formula(f)\n",
    "    x = ecodist::MRM(f, nperm=nperm, mrank=TRUE)\n",
    "    # coefficients\n",
    "    df = x$coef %>% as.data.frame\n",
    "    colnames(df) = c('coef', 'coef_pval')\n",
    "    df$variable = rownames(df)\n",
    "    df$R2 = x$r.squared[1]\n",
    "    df$pval = x$r.squared[2]\n",
    "    df$F = x$F.test[1]\n",
    "    df$rep = i\n",
    "    return(df)\n",
    "}"
   ]
  },
  {
   "cell_type": "code",
   "execution_count": 42,
   "metadata": {
    "ExecuteTime": {
     "end_time": "2018-08-23T15:12:29.518186Z",
     "start_time": "2018-08-23T15:14:09.674Z"
    }
   },
   "outputs": [],
   "source": [
    "# renaming output\n",
    "rename_df = data.frame(old_name = c('m$diet', 'm$digest', 'm$geo', 'm$habitat', 'm$host_phy', 'm$samp'),\n",
    "                       new_name = c('Diet', 'Digestive\\nsystem', 'Geography', 'Habitat', 'Phylogeny', 'Sample\\ntype'))"
   ]
  },
  {
   "cell_type": "markdown",
   "metadata": {},
   "source": [
    "## One per species"
   ]
  },
  {
   "cell_type": "code",
   "execution_count": 43,
   "metadata": {
    "ExecuteTime": {
     "end_time": "2018-08-23T15:12:31.434433Z",
     "start_time": "2018-08-23T15:14:11.544Z"
    }
   },
   "outputs": [
    {
     "name": "stdout",
     "output_type": "stream",
     "text": [
      "[1] 160   2\n"
     ]
    },
    {
     "data": {
      "text/html": [
       "<table>\n",
       "<thead><tr><th scope=col>X.SampleID</th><th scope=col>scientific_name</th></tr></thead>\n",
       "<tbody>\n",
       "\t<tr><td>X1.Eurasian.Beaver</td><td>Castor_fiber      </td></tr>\n",
       "\t<tr><td>X101.Horse        </td><td>Equus_caballus    </td></tr>\n",
       "\t<tr><td>X102.Kulan        </td><td>Equus_hemionus    </td></tr>\n",
       "</tbody>\n",
       "</table>\n"
      ],
      "text/latex": [
       "\\begin{tabular}{r|ll}\n",
       " X.SampleID & scientific\\_name\\\\\n",
       "\\hline\n",
       "\t X1.Eurasian.Beaver & Castor\\_fiber    \\\\\n",
       "\t X101.Horse         & Equus\\_caballus  \\\\\n",
       "\t X102.Kulan         & Equus\\_hemionus  \\\\\n",
       "\\end{tabular}\n"
      ],
      "text/markdown": [
       "\n",
       "X.SampleID | scientific_name | \n",
       "|---|---|---|\n",
       "| X1.Eurasian.Beaver | Castor_fiber       | \n",
       "| X101.Horse         | Equus_caballus     | \n",
       "| X102.Kulan         | Equus_hemionus     | \n",
       "\n",
       "\n"
      ],
      "text/plain": [
       "  X.SampleID         scientific_name\n",
       "1 X1.Eurasian.Beaver Castor_fiber   \n",
       "2 X101.Horse         Equus_caballus \n",
       "3 X102.Kulan         Equus_hemionus "
      ]
     },
     "metadata": {},
     "output_type": "display_data"
    }
   ],
   "source": [
    "# grouping samples by species\n",
    "df_grps = metadata %>% \n",
    "    filter(X.SampleID %in% labels(dietD_d_o)) %>%\n",
    "    dplyr::select(X.SampleID, scientific_name)\n",
    "df_grps %>% dfhead"
   ]
  },
  {
   "cell_type": "markdown",
   "metadata": {},
   "source": [
    "### Faith's PD"
   ]
  },
  {
   "cell_type": "code",
   "execution_count": 44,
   "metadata": {
    "ExecuteTime": {
     "end_time": "2018-08-23T15:12:36.938610Z",
     "start_time": "2018-08-23T15:14:14.720Z"
    }
   },
   "outputs": [
    {
     "data": {
      "text/html": [
       "100"
      ],
      "text/latex": [
       "100"
      ],
      "text/markdown": [
       "100"
      ],
      "text/plain": [
       "[1] 100"
      ]
     },
     "metadata": {},
     "output_type": "display_data"
    }
   ],
   "source": [
    "# creating subsample permutations of the distance matrices\n",
    "L = list(alpha = alpha_div$faith_pd,\n",
    "         host_phy = host_tree_d_o,\n",
    "         diet = dietD_d_o,\n",
    "         digest = dtD_d_o, \n",
    "         habitat = habitatD_d_o,\n",
    "         geo = geo_d_o,\n",
    "         samp = samp_d_o)\n",
    "\n",
    "m_perm = lapply(as.list(1:nperm_datasets), function(x) one_per_group(L, df_grps, x))\n",
    "m_perm %>% length           "
   ]
  },
  {
   "cell_type": "markdown",
   "metadata": {},
   "source": [
    "#### Model 1"
   ]
  },
  {
   "cell_type": "code",
   "execution_count": 45,
   "metadata": {
    "ExecuteTime": {
     "end_time": "2018-08-23T15:12:39.679871Z",
     "start_time": "2018-08-23T15:14:16.634Z"
    }
   },
   "outputs": [
    {
     "name": "stdout",
     "output_type": "stream",
     "text": [
      "[1] 700   7\n"
     ]
    },
    {
     "data": {
      "text/html": [
       "<table>\n",
       "<thead><tr><th></th><th scope=col>coef</th><th scope=col>coef_pval</th><th scope=col>variable</th><th scope=col>R2</th><th scope=col>pval</th><th scope=col>F</th><th scope=col>rep</th></tr></thead>\n",
       "<tbody>\n",
       "\t<tr><th scope=row>Int</th><td>854.65944833</td><td>1.000       </td><td>Int         </td><td>0.1477671   </td><td>0.001       </td><td>95.76803    </td><td>1           </td></tr>\n",
       "\t<tr><th scope=row>m$host_phy</th><td> -0.03280331</td><td>0.413       </td><td>m$host_phy  </td><td>0.1477671   </td><td>0.001       </td><td>95.76803    </td><td>1           </td></tr>\n",
       "\t<tr><th scope=row>m$diet</th><td>  0.29107122</td><td>0.001       </td><td>m$diet      </td><td>0.1477671   </td><td>0.001       </td><td>95.76803    </td><td>1           </td></tr>\n",
       "</tbody>\n",
       "</table>\n"
      ],
      "text/latex": [
       "\\begin{tabular}{r|lllllll}\n",
       "  & coef & coef\\_pval & variable & R2 & pval & F & rep\\\\\n",
       "\\hline\n",
       "\tInt & 854.65944833 & 1.000        & Int          & 0.1477671    & 0.001        & 95.76803     & 1           \\\\\n",
       "\tm\\$host\\_phy &  -0.03280331   & 0.413          & m\\$host\\_phy & 0.1477671      & 0.001          & 95.76803       & 1             \\\\\n",
       "\tm\\$diet &   0.29107122 & 0.001        & m\\$diet     & 0.1477671    & 0.001        & 95.76803     & 1           \\\\\n",
       "\\end{tabular}\n"
      ],
      "text/markdown": [
       "\n",
       "| <!--/--> | coef | coef_pval | variable | R2 | pval | F | rep | \n",
       "|---|---|---|\n",
       "| Int | 854.65944833 | 1.000        | Int          | 0.1477671    | 0.001        | 95.76803     | 1            | \n",
       "| m$host_phy |  -0.03280331 | 0.413        | m$host_phy   | 0.1477671    | 0.001        | 95.76803     | 1            | \n",
       "| m$diet |   0.29107122 | 0.001        | m$diet       | 0.1477671    | 0.001        | 95.76803     | 1            | \n",
       "\n",
       "\n"
      ],
      "text/plain": [
       "           coef         coef_pval variable   R2        pval  F        rep\n",
       "Int        854.65944833 1.000     Int        0.1477671 0.001 95.76803 1  \n",
       "m$host_phy  -0.03280331 0.413     m$host_phy 0.1477671 0.001 95.76803 1  \n",
       "m$diet       0.29107122 0.001     m$diet     0.1477671 0.001 95.76803 1  "
      ]
     },
     "metadata": {},
     "output_type": "display_data"
    }
   ],
   "source": [
    "doParallel::registerDoParallel(threads)\n",
    "x = as.list(1:length(m_perm))\n",
    "f = 'm$alpha ~ m$host_phy + m$diet + m$digest + m$habitat + m$geo + m$samp'\n",
    "mrm_res = plyr::llply(x, mrm_each, L=m_perm, f=f, nperm=nperm, .parallel=TRUE)\n",
    "mrm_res = do.call(rbind, mrm_res)\n",
    "mrm_res %>% dfhead"
   ]
  },
  {
   "cell_type": "code",
   "execution_count": 46,
   "metadata": {
    "ExecuteTime": {
     "end_time": "2018-08-23T15:12:39.780986Z",
     "start_time": "2018-08-23T15:14:16.966Z"
    }
   },
   "outputs": [
    {
     "data": {
      "text/plain": [
       "       R2              pval            rep        \n",
       " Min.   :0.1001   Min.   :0.001   Min.   :  1.00  \n",
       " 1st Qu.:0.1221   1st Qu.:0.001   1st Qu.: 25.75  \n",
       " Median :0.1312   Median :0.001   Median : 50.50  \n",
       " Mean   :0.1318   Mean   :0.001   Mean   : 50.50  \n",
       " 3rd Qu.:0.1404   3rd Qu.:0.001   3rd Qu.: 75.25  \n",
       " Max.   :0.1821   Max.   :0.001   Max.   :100.00  "
      ]
     },
     "metadata": {},
     "output_type": "display_data"
    }
   ],
   "source": [
    "# summary of overall model\n",
    "mrm_res %>%\n",
    "    distinct(R2, pval, rep) %>%\n",
    "    summary"
   ]
  },
  {
   "cell_type": "code",
   "execution_count": 47,
   "metadata": {
    "ExecuteTime": {
     "end_time": "2018-08-23T15:12:43.936736Z",
     "start_time": "2018-08-23T15:14:19.539Z"
    }
   },
   "outputs": [
    {
     "name": "stderr",
     "output_type": "stream",
     "text": [
      "Warning message:\n",
      "“Column `variable`/`old_name` joining character vector and factor, coercing into character vector”"
     ]
    },
    {
     "data": {
      "image/png": "[encoded data removed]",
      "text/plain": [
       "plot without title"
      ]
     },
     "metadata": {},
     "output_type": "display_data"
    }
   ],
   "source": [
    "mrm_res_s = mrm_res %>% \n",
    "    filter(variable != 'Int') %>%\n",
    "    gather(category, value, -variable, -R2, -pval, -F, -rep) %>%\n",
    "    mutate(category = ifelse(category == 'coef', 'Coef.', 'Adj. P-value'))\n",
    "\n",
    "mrm_res_s = mrm_res_s %>%\n",
    "    inner_join(rename_df, c('variable'='old_name')) %>%\n",
    "    dplyr::select(-variable) %>%\n",
    "    rename('variable' = new_name)             \n",
    "\n",
    "p = ggplot(mrm_res_s, aes(variable, value)) +\n",
    "    geom_boxplot() +\n",
    "    facet_grid(category ~ ., scales='free_y') +\n",
    "    theme_bw()\n",
    "\n",
    "options(repr.plot.width=5, repr.plot.height=3)\n",
    "plot(p)"
   ]
  },
  {
   "cell_type": "code",
   "execution_count": 48,
   "metadata": {
    "ExecuteTime": {
     "end_time": "2018-08-23T15:12:43.990022Z",
     "start_time": "2018-08-23T15:14:19.848Z"
    }
   },
   "outputs": [
    {
     "data": {
      "text/html": [
       "<table>\n",
       "<thead><tr><th scope=col>variable</th><th scope=col>pval_sensitivity</th><th scope=col>sig_pval_sensitivity</th></tr></thead>\n",
       "<tbody>\n",
       "\t<tr><td>Int       </td><td>1.00      </td><td>FALSE     </td></tr>\n",
       "\t<tr><td>m$diet    </td><td>0.00      </td><td> TRUE     </td></tr>\n",
       "\t<tr><td>m$digest  </td><td>0.00      </td><td> TRUE     </td></tr>\n",
       "\t<tr><td>m$geo     </td><td>0.86      </td><td>FALSE     </td></tr>\n",
       "\t<tr><td>m$habitat </td><td>0.99      </td><td>FALSE     </td></tr>\n",
       "\t<tr><td>m$host_phy</td><td>0.99      </td><td>FALSE     </td></tr>\n",
       "\t<tr><td>m$samp    </td><td>0.85      </td><td>FALSE     </td></tr>\n",
       "</tbody>\n",
       "</table>\n"
      ],
      "text/latex": [
       "\\begin{tabular}{r|lll}\n",
       " variable & pval\\_sensitivity & sig\\_pval\\_sensitivity\\\\\n",
       "\\hline\n",
       "\t Int        & 1.00       & FALSE     \\\\\n",
       "\t m\\$diet     & 0.00         &  TRUE       \\\\\n",
       "\t m\\$digest   & 0.00         &  TRUE       \\\\\n",
       "\t m\\$geo      & 0.86         & FALSE       \\\\\n",
       "\t m\\$habitat  & 0.99         & FALSE       \\\\\n",
       "\t m\\$host\\_phy & 0.99           & FALSE         \\\\\n",
       "\t m\\$samp     & 0.85         & FALSE       \\\\\n",
       "\\end{tabular}\n"
      ],
      "text/markdown": [
       "\n",
       "variable | pval_sensitivity | sig_pval_sensitivity | \n",
       "|---|---|---|---|---|---|---|\n",
       "| Int        | 1.00       | FALSE      | \n",
       "| m$diet     | 0.00       |  TRUE      | \n",
       "| m$digest   | 0.00       |  TRUE      | \n",
       "| m$geo      | 0.86       | FALSE      | \n",
       "| m$habitat  | 0.99       | FALSE      | \n",
       "| m$host_phy | 0.99       | FALSE      | \n",
       "| m$samp     | 0.85       | FALSE      | \n",
       "\n",
       "\n"
      ],
      "text/plain": [
       "  variable   pval_sensitivity sig_pval_sensitivity\n",
       "1 Int        1.00             FALSE               \n",
       "2 m$diet     0.00              TRUE               \n",
       "3 m$digest   0.00              TRUE               \n",
       "4 m$geo      0.86             FALSE               \n",
       "5 m$habitat  0.99             FALSE               \n",
       "6 m$host_phy 0.99             FALSE               \n",
       "7 m$samp     0.85             FALSE               "
      ]
     },
     "metadata": {},
     "output_type": "display_data"
    }
   ],
   "source": [
    "# significance\n",
    "mrm_res %>% \n",
    "    group_by(variable) %>%\n",
    "    summarize(pval_sensitivity = 1 - sum(coef_pval < 0.05) / length(pval)) %>%\n",
    "    ungroup() %>%\n",
    "    mutate(sig_pval_sensitivity = pval_sensitivity < 0.05)"
   ]
  },
  {
   "cell_type": "markdown",
   "metadata": {},
   "source": [
    "#### Model 2"
   ]
  },
  {
   "cell_type": "code",
   "execution_count": 49,
   "metadata": {
    "ExecuteTime": {
     "end_time": "2018-08-23T15:12:46.553411Z",
     "start_time": "2018-08-23T15:14:21.721Z"
    }
   },
   "outputs": [
    {
     "name": "stdout",
     "output_type": "stream",
     "text": [
      "[1] 600   7\n"
     ]
    },
    {
     "data": {
      "text/html": [
       "<table>\n",
       "<thead><tr><th></th><th scope=col>coef</th><th scope=col>coef_pval</th><th scope=col>variable</th><th scope=col>R2</th><th scope=col>pval</th><th scope=col>F</th><th scope=col>rep</th></tr></thead>\n",
       "<tbody>\n",
       "\t<tr><th scope=row>Int</th><td>1046.4044991</td><td>1.000       </td><td>Int         </td><td>0.1232021   </td><td>0.001       </td><td>93.16057    </td><td>1           </td></tr>\n",
       "\t<tr><th scope=row>m$host_phy</th><td>  -0.0193616</td><td>0.640       </td><td>m$host_phy  </td><td>0.1232021   </td><td>0.001       </td><td>93.16057    </td><td>1           </td></tr>\n",
       "\t<tr><th scope=row>m$diet</th><td>   0.3419931</td><td>0.001       </td><td>m$diet      </td><td>0.1232021   </td><td>0.001       </td><td>93.16057    </td><td>1           </td></tr>\n",
       "</tbody>\n",
       "</table>\n"
      ],
      "text/latex": [
       "\\begin{tabular}{r|lllllll}\n",
       "  & coef & coef\\_pval & variable & R2 & pval & F & rep\\\\\n",
       "\\hline\n",
       "\tInt & 1046.4044991 & 1.000        & Int          & 0.1232021    & 0.001        & 93.16057     & 1           \\\\\n",
       "\tm\\$host\\_phy &   -0.0193616   & 0.640          & m\\$host\\_phy & 0.1232021      & 0.001          & 93.16057       & 1             \\\\\n",
       "\tm\\$diet &    0.3419931 & 0.001        & m\\$diet     & 0.1232021    & 0.001        & 93.16057     & 1           \\\\\n",
       "\\end{tabular}\n"
      ],
      "text/markdown": [
       "\n",
       "| <!--/--> | coef | coef_pval | variable | R2 | pval | F | rep | \n",
       "|---|---|---|\n",
       "| Int | 1046.4044991 | 1.000        | Int          | 0.1232021    | 0.001        | 93.16057     | 1            | \n",
       "| m$host_phy |   -0.0193616 | 0.640        | m$host_phy   | 0.1232021    | 0.001        | 93.16057     | 1            | \n",
       "| m$diet |    0.3419931 | 0.001        | m$diet       | 0.1232021    | 0.001        | 93.16057     | 1            | \n",
       "\n",
       "\n"
      ],
      "text/plain": [
       "           coef         coef_pval variable   R2        pval  F        rep\n",
       "Int        1046.4044991 1.000     Int        0.1232021 0.001 93.16057 1  \n",
       "m$host_phy   -0.0193616 0.640     m$host_phy 0.1232021 0.001 93.16057 1  \n",
       "m$diet        0.3419931 0.001     m$diet     0.1232021 0.001 93.16057 1  "
      ]
     },
     "metadata": {},
     "output_type": "display_data"
    }
   ],
   "source": [
    "doParallel::registerDoParallel(threads)\n",
    "x = as.list(1:length(m_perm))\n",
    "f = 'm$alpha ~ m$host_phy + m$diet + m$habitat + m$geo + m$samp'\n",
    "mrm_res = plyr::llply(x, mrm_each, L=m_perm, f=f, nperm=nperm, .parallel=TRUE)\n",
    "mrm_res = do.call(rbind, mrm_res)\n",
    "mrm_res %>% dfhead"
   ]
  },
  {
   "cell_type": "code",
   "execution_count": 50,
   "metadata": {
    "ExecuteTime": {
     "end_time": "2018-08-23T15:12:46.595247Z",
     "start_time": "2018-08-23T15:14:22.816Z"
    }
   },
   "outputs": [
    {
     "data": {
      "text/plain": [
       "       R2               pval            rep        \n",
       " Min.   :0.07436   Min.   :0.001   Min.   :  1.00  \n",
       " 1st Qu.:0.09666   1st Qu.:0.001   1st Qu.: 25.75  \n",
       " Median :0.10623   Median :0.001   Median : 50.50  \n",
       " Mean   :0.10639   Mean   :0.001   Mean   : 50.50  \n",
       " 3rd Qu.:0.11458   3rd Qu.:0.001   3rd Qu.: 75.25  \n",
       " Max.   :0.15222   Max.   :0.001   Max.   :100.00  "
      ]
     },
     "metadata": {},
     "output_type": "display_data"
    }
   ],
   "source": [
    "# summary of overall model\n",
    "mrm_res %>%\n",
    "    distinct(R2, pval, rep) %>%\n",
    "    summary"
   ]
  },
  {
   "cell_type": "code",
   "execution_count": 51,
   "metadata": {
    "ExecuteTime": {
     "end_time": "2018-08-23T15:12:49.335627Z",
     "start_time": "2018-08-23T15:14:23.134Z"
    }
   },
   "outputs": [
    {
     "name": "stderr",
     "output_type": "stream",
     "text": [
      "Warning message:\n",
      "“Column `variable`/`old_name` joining character vector and factor, coercing into character vector”"
     ]
    },
    {
     "data": {
      "image/png": "[encoded data removed]",
      "text/plain": [
       "plot without title"
      ]
     },
     "metadata": {},
     "output_type": "display_data"
    }
   ],
   "source": [
    "mrm_res_s = mrm_res %>% \n",
    "    filter(variable != 'Int') %>%\n",
    "    gather(category, value, -variable, -R2, -pval, -F, -rep) %>%\n",
    "    mutate(category = ifelse(category == 'coef', 'Coef.', 'Adj. P-value'))\n",
    "\n",
    "mrm_res_s = mrm_res_s %>%\n",
    "    inner_join(rename_df, c('variable'='old_name')) %>%\n",
    "    dplyr::select(-variable) %>%\n",
    "    rename('variable' = new_name)             \n",
    "\n",
    "p = ggplot(mrm_res_s, aes(variable, value)) +\n",
    "    geom_boxplot() +\n",
    "    facet_grid(category ~ ., scales='free_y') +\n",
    "    theme_bw()\n",
    "\n",
    "options(repr.plot.width=5, repr.plot.height=3)\n",
    "plot(p)"
   ]
  },
  {
   "cell_type": "code",
   "execution_count": 52,
   "metadata": {
    "ExecuteTime": {
     "end_time": "2018-08-23T15:12:49.388517Z",
     "start_time": "2018-08-23T15:14:23.479Z"
    }
   },
   "outputs": [
    {
     "data": {
      "text/html": [
       "<table>\n",
       "<thead><tr><th scope=col>variable</th><th scope=col>pval_sensitivity</th><th scope=col>sig_pval_sensitivity</th></tr></thead>\n",
       "<tbody>\n",
       "\t<tr><td>Int       </td><td>1.00      </td><td>FALSE     </td></tr>\n",
       "\t<tr><td>m$diet    </td><td>0.00      </td><td> TRUE     </td></tr>\n",
       "\t<tr><td>m$geo     </td><td>0.90      </td><td>FALSE     </td></tr>\n",
       "\t<tr><td>m$habitat </td><td>1.00      </td><td>FALSE     </td></tr>\n",
       "\t<tr><td>m$host_phy</td><td>1.00      </td><td>FALSE     </td></tr>\n",
       "\t<tr><td>m$samp    </td><td>0.87      </td><td>FALSE     </td></tr>\n",
       "</tbody>\n",
       "</table>\n"
      ],
      "text/latex": [
       "\\begin{tabular}{r|lll}\n",
       " variable & pval\\_sensitivity & sig\\_pval\\_sensitivity\\\\\n",
       "\\hline\n",
       "\t Int        & 1.00       & FALSE     \\\\\n",
       "\t m\\$diet     & 0.00         &  TRUE       \\\\\n",
       "\t m\\$geo      & 0.90         & FALSE       \\\\\n",
       "\t m\\$habitat  & 1.00         & FALSE       \\\\\n",
       "\t m\\$host\\_phy & 1.00           & FALSE         \\\\\n",
       "\t m\\$samp     & 0.87         & FALSE       \\\\\n",
       "\\end{tabular}\n"
      ],
      "text/markdown": [
       "\n",
       "variable | pval_sensitivity | sig_pval_sensitivity | \n",
       "|---|---|---|---|---|---|\n",
       "| Int        | 1.00       | FALSE      | \n",
       "| m$diet     | 0.00       |  TRUE      | \n",
       "| m$geo      | 0.90       | FALSE      | \n",
       "| m$habitat  | 1.00       | FALSE      | \n",
       "| m$host_phy | 1.00       | FALSE      | \n",
       "| m$samp     | 0.87       | FALSE      | \n",
       "\n",
       "\n"
      ],
      "text/plain": [
       "  variable   pval_sensitivity sig_pval_sensitivity\n",
       "1 Int        1.00             FALSE               \n",
       "2 m$diet     0.00              TRUE               \n",
       "3 m$geo      0.90             FALSE               \n",
       "4 m$habitat  1.00             FALSE               \n",
       "5 m$host_phy 1.00             FALSE               \n",
       "6 m$samp     0.87             FALSE               "
      ]
     },
     "metadata": {},
     "output_type": "display_data"
    }
   ],
   "source": [
    "# significance\n",
    "mrm_res %>% \n",
    "    group_by(variable) %>%\n",
    "    summarize(pval_sensitivity = 1 - sum(coef_pval < 0.05) / length(pval)) %>%\n",
    "    ungroup() %>%\n",
    "    mutate(sig_pval_sensitivity = pval_sensitivity < 0.05)"
   ]
  },
  {
   "cell_type": "markdown",
   "metadata": {},
   "source": [
    "### Shannon"
   ]
  },
  {
   "cell_type": "code",
   "execution_count": 53,
   "metadata": {
    "ExecuteTime": {
     "end_time": "2018-08-23T15:12:51.640292Z",
     "start_time": "2018-08-23T15:14:25.271Z"
    }
   },
   "outputs": [
    {
     "data": {
      "text/html": [
       "100"
      ],
      "text/latex": [
       "100"
      ],
      "text/markdown": [
       "100"
      ],
      "text/plain": [
       "[1] 100"
      ]
     },
     "metadata": {},
     "output_type": "display_data"
    }
   ],
   "source": [
    "# creating multiple distance matrices\n",
    "L = list(alpha = alpha_div$shannon,\n",
    "         host_phy = host_tree_d_o,\n",
    "         diet = dietD_d_o,\n",
    "         digest = dtD_d_o, \n",
    "         habitat = habitatD_d_o,\n",
    "         geo = geo_d_o,\n",
    "         samp = samp_d_o)\n",
    "\n",
    "m_perm = lapply(as.list(1:nperm_datasets), function(x) one_per_group(L, df_grps, x))\n",
    "m_perm %>% length           "
   ]
  },
  {
   "cell_type": "markdown",
   "metadata": {},
   "source": [
    "#### Model 1"
   ]
  },
  {
   "cell_type": "code",
   "execution_count": 54,
   "metadata": {
    "ExecuteTime": {
     "end_time": "2018-08-23T15:12:54.026606Z",
     "start_time": "2018-08-23T15:14:29.551Z"
    }
   },
   "outputs": [
    {
     "name": "stdout",
     "output_type": "stream",
     "text": [
      "[1] 700   7\n"
     ]
    },
    {
     "data": {
      "text/html": [
       "<table>\n",
       "<thead><tr><th></th><th scope=col>coef</th><th scope=col>coef_pval</th><th scope=col>variable</th><th scope=col>R2</th><th scope=col>pval</th><th scope=col>F</th><th scope=col>rep</th></tr></thead>\n",
       "<tbody>\n",
       "\t<tr><th scope=row>Int</th><td>1135.31977469</td><td>1.000        </td><td>Int          </td><td>0.1234406    </td><td>0.001        </td><td>77.78178     </td><td>1            </td></tr>\n",
       "\t<tr><th scope=row>m$host_phy</th><td>  -0.08540426</td><td>0.050        </td><td>m$host_phy   </td><td>0.1234406    </td><td>0.001        </td><td>77.78178     </td><td>1            </td></tr>\n",
       "\t<tr><th scope=row>m$diet</th><td>   0.31761190</td><td>0.001        </td><td>m$diet       </td><td>0.1234406    </td><td>0.001        </td><td>77.78178     </td><td>1            </td></tr>\n",
       "</tbody>\n",
       "</table>\n"
      ],
      "text/latex": [
       "\\begin{tabular}{r|lllllll}\n",
       "  & coef & coef\\_pval & variable & R2 & pval & F & rep\\\\\n",
       "\\hline\n",
       "\tInt & 1135.31977469 & 1.000         & Int           & 0.1234406     & 0.001         & 77.78178      & 1            \\\\\n",
       "\tm\\$host\\_phy &   -0.08540426  & 0.050          & m\\$host\\_phy & 0.1234406      & 0.001          & 77.78178       & 1             \\\\\n",
       "\tm\\$diet &    0.31761190 & 0.001         & m\\$diet      & 0.1234406     & 0.001         & 77.78178      & 1            \\\\\n",
       "\\end{tabular}\n"
      ],
      "text/markdown": [
       "\n",
       "| <!--/--> | coef | coef_pval | variable | R2 | pval | F | rep | \n",
       "|---|---|---|\n",
       "| Int | 1135.31977469 | 1.000         | Int           | 0.1234406     | 0.001         | 77.78178      | 1             | \n",
       "| m$host_phy |   -0.08540426 | 0.050         | m$host_phy    | 0.1234406     | 0.001         | 77.78178      | 1             | \n",
       "| m$diet |    0.31761190 | 0.001         | m$diet        | 0.1234406     | 0.001         | 77.78178      | 1             | \n",
       "\n",
       "\n"
      ],
      "text/plain": [
       "           coef          coef_pval variable   R2        pval  F        rep\n",
       "Int        1135.31977469 1.000     Int        0.1234406 0.001 77.78178 1  \n",
       "m$host_phy   -0.08540426 0.050     m$host_phy 0.1234406 0.001 77.78178 1  \n",
       "m$diet        0.31761190 0.001     m$diet     0.1234406 0.001 77.78178 1  "
      ]
     },
     "metadata": {},
     "output_type": "display_data"
    }
   ],
   "source": [
    "doParallel::registerDoParallel(threads)\n",
    "x = as.list(1:length(m_perm))\n",
    "f = 'm$alpha ~ m$host_phy + m$diet + m$digest + m$habitat + m$geo + m$samp'\n",
    "mrm_res = plyr::llply(x, mrm_each, L=m_perm, f=f, nperm=nperm, .parallel=TRUE)\n",
    "mrm_res = do.call(rbind, mrm_res)\n",
    "mrm_res %>% dfhead"
   ]
  },
  {
   "cell_type": "code",
   "execution_count": 55,
   "metadata": {
    "ExecuteTime": {
     "end_time": "2018-08-23T15:12:55.363939Z",
     "start_time": "2018-08-23T15:14:35.504Z"
    }
   },
   "outputs": [
    {
     "data": {
      "text/plain": [
       "       R2               pval              rep        \n",
       " Min.   :0.06520   Min.   :0.00100   Min.   :  1.00  \n",
       " 1st Qu.:0.08193   1st Qu.:0.00100   1st Qu.: 25.75  \n",
       " Median :0.09471   Median :0.00100   Median : 50.50  \n",
       " Mean   :0.09548   Mean   :0.00101   Mean   : 50.50  \n",
       " 3rd Qu.:0.10487   3rd Qu.:0.00100   3rd Qu.: 75.25  \n",
       " Max.   :0.15335   Max.   :0.00200   Max.   :100.00  "
      ]
     },
     "metadata": {},
     "output_type": "display_data"
    }
   ],
   "source": [
    "# summary of overall model\n",
    "mrm_res %>%\n",
    "    distinct(R2, pval, rep) %>%\n",
    "    summary"
   ]
  },
  {
   "cell_type": "code",
   "execution_count": 56,
   "metadata": {
    "ExecuteTime": {
     "end_time": "2018-08-23T15:12:57.365435Z",
     "start_time": "2018-08-23T15:14:36.440Z"
    }
   },
   "outputs": [
    {
     "data": {
      "image/png": "[encoded data removed]",
      "text/plain": [
       "plot without title"
      ]
     },
     "metadata": {},
     "output_type": "display_data"
    }
   ],
   "source": [
    "mrm_res_s = mrm_res %>% \n",
    "    filter(variable != 'Int') %>%\n",
    "    gather(category, value, -variable, -R2, -pval, -F, -rep)              \n",
    "\n",
    "p = ggplot(mrm_res_s, aes(variable, value)) +\n",
    "    geom_boxplot() +\n",
    "    facet_grid(category ~ ., scales='free_y') +\n",
    "    theme_bw()\n",
    "\n",
    "options(repr.plot.width=5, repr.plot.height=3)\n",
    "plot(p)"
   ]
  },
  {
   "cell_type": "code",
   "execution_count": 57,
   "metadata": {
    "ExecuteTime": {
     "end_time": "2018-08-23T15:12:57.417601Z",
     "start_time": "2018-08-23T15:14:36.838Z"
    }
   },
   "outputs": [
    {
     "data": {
      "text/html": [
       "<table>\n",
       "<thead><tr><th scope=col>variable</th><th scope=col>pval_sensitivity</th><th scope=col>sig_pval_sensitivity</th></tr></thead>\n",
       "<tbody>\n",
       "\t<tr><td>Int       </td><td>1.00      </td><td>FALSE     </td></tr>\n",
       "\t<tr><td>m$diet    </td><td>0.00      </td><td> TRUE     </td></tr>\n",
       "\t<tr><td>m$digest  </td><td>0.96      </td><td>FALSE     </td></tr>\n",
       "\t<tr><td>m$geo     </td><td>0.99      </td><td>FALSE     </td></tr>\n",
       "\t<tr><td>m$habitat </td><td>0.79      </td><td>FALSE     </td></tr>\n",
       "\t<tr><td>m$host_phy</td><td>0.53      </td><td>FALSE     </td></tr>\n",
       "\t<tr><td>m$samp    </td><td>1.00      </td><td>FALSE     </td></tr>\n",
       "</tbody>\n",
       "</table>\n"
      ],
      "text/latex": [
       "\\begin{tabular}{r|lll}\n",
       " variable & pval\\_sensitivity & sig\\_pval\\_sensitivity\\\\\n",
       "\\hline\n",
       "\t Int        & 1.00       & FALSE     \\\\\n",
       "\t m\\$diet     & 0.00         &  TRUE       \\\\\n",
       "\t m\\$digest   & 0.96         & FALSE       \\\\\n",
       "\t m\\$geo      & 0.99         & FALSE       \\\\\n",
       "\t m\\$habitat  & 0.79         & FALSE       \\\\\n",
       "\t m\\$host\\_phy & 0.53           & FALSE         \\\\\n",
       "\t m\\$samp     & 1.00         & FALSE       \\\\\n",
       "\\end{tabular}\n"
      ],
      "text/markdown": [
       "\n",
       "variable | pval_sensitivity | sig_pval_sensitivity | \n",
       "|---|---|---|---|---|---|---|\n",
       "| Int        | 1.00       | FALSE      | \n",
       "| m$diet     | 0.00       |  TRUE      | \n",
       "| m$digest   | 0.96       | FALSE      | \n",
       "| m$geo      | 0.99       | FALSE      | \n",
       "| m$habitat  | 0.79       | FALSE      | \n",
       "| m$host_phy | 0.53       | FALSE      | \n",
       "| m$samp     | 1.00       | FALSE      | \n",
       "\n",
       "\n"
      ],
      "text/plain": [
       "  variable   pval_sensitivity sig_pval_sensitivity\n",
       "1 Int        1.00             FALSE               \n",
       "2 m$diet     0.00              TRUE               \n",
       "3 m$digest   0.96             FALSE               \n",
       "4 m$geo      0.99             FALSE               \n",
       "5 m$habitat  0.79             FALSE               \n",
       "6 m$host_phy 0.53             FALSE               \n",
       "7 m$samp     1.00             FALSE               "
      ]
     },
     "metadata": {},
     "output_type": "display_data"
    }
   ],
   "source": [
    "# significance\n",
    "mrm_res %>% \n",
    "    group_by(variable) %>%\n",
    "    summarize(pval_sensitivity = 1 - sum(coef_pval < 0.05) / length(pval)) %>%\n",
    "    ungroup() %>%\n",
    "    mutate(sig_pval_sensitivity = pval_sensitivity < 0.05)"
   ]
  },
  {
   "cell_type": "markdown",
   "metadata": {},
   "source": [
    "#### Model 2"
   ]
  },
  {
   "cell_type": "code",
   "execution_count": 58,
   "metadata": {
    "ExecuteTime": {
     "end_time": "2018-08-23T15:13:01.495823Z",
     "start_time": "2018-08-23T15:14:39.497Z"
    }
   },
   "outputs": [
    {
     "name": "stdout",
     "output_type": "stream",
     "text": [
      "[1] 600   7\n"
     ]
    },
    {
     "data": {
      "text/html": [
       "<table>\n",
       "<thead><tr><th></th><th scope=col>coef</th><th scope=col>coef_pval</th><th scope=col>variable</th><th scope=col>R2</th><th scope=col>pval</th><th scope=col>F</th><th scope=col>rep</th></tr></thead>\n",
       "<tbody>\n",
       "\t<tr><th scope=row>Int</th><td>1203.00107274</td><td>0.997        </td><td>Int          </td><td>0.1205768    </td><td>0.001        </td><td>90.90326     </td><td>1            </td></tr>\n",
       "\t<tr><th scope=row>m$host_phy</th><td>  -0.08067602</td><td>0.045        </td><td>m$host_phy   </td><td>0.1205768    </td><td>0.001        </td><td>90.90326     </td><td>1            </td></tr>\n",
       "\t<tr><th scope=row>m$diet</th><td>   0.33364601</td><td>0.001        </td><td>m$diet       </td><td>0.1205768    </td><td>0.001        </td><td>90.90326     </td><td>1            </td></tr>\n",
       "</tbody>\n",
       "</table>\n"
      ],
      "text/latex": [
       "\\begin{tabular}{r|lllllll}\n",
       "  & coef & coef\\_pval & variable & R2 & pval & F & rep\\\\\n",
       "\\hline\n",
       "\tInt & 1203.00107274 & 0.997         & Int           & 0.1205768     & 0.001         & 90.90326      & 1            \\\\\n",
       "\tm\\$host\\_phy &   -0.08067602  & 0.045          & m\\$host\\_phy & 0.1205768      & 0.001          & 90.90326       & 1             \\\\\n",
       "\tm\\$diet &    0.33364601 & 0.001         & m\\$diet      & 0.1205768     & 0.001         & 90.90326      & 1            \\\\\n",
       "\\end{tabular}\n"
      ],
      "text/markdown": [
       "\n",
       "| <!--/--> | coef | coef_pval | variable | R2 | pval | F | rep | \n",
       "|---|---|---|\n",
       "| Int | 1203.00107274 | 0.997         | Int           | 0.1205768     | 0.001         | 90.90326      | 1             | \n",
       "| m$host_phy |   -0.08067602 | 0.045         | m$host_phy    | 0.1205768     | 0.001         | 90.90326      | 1             | \n",
       "| m$diet |    0.33364601 | 0.001         | m$diet        | 0.1205768     | 0.001         | 90.90326      | 1             | \n",
       "\n",
       "\n"
      ],
      "text/plain": [
       "           coef          coef_pval variable   R2        pval  F        rep\n",
       "Int        1203.00107274 0.997     Int        0.1205768 0.001 90.90326 1  \n",
       "m$host_phy   -0.08067602 0.045     m$host_phy 0.1205768 0.001 90.90326 1  \n",
       "m$diet        0.33364601 0.001     m$diet     0.1205768 0.001 90.90326 1  "
      ]
     },
     "metadata": {},
     "output_type": "display_data"
    }
   ],
   "source": [
    "doParallel::registerDoParallel(threads)\n",
    "x = as.list(1:length(m_perm))\n",
    "f = 'm$alpha ~ m$host_phy + m$diet + m$habitat + m$geo + m$samp'\n",
    "mrm_res = plyr::llply(x, mrm_each, L=m_perm, f=f, nperm=nperm, .parallel=TRUE)\n",
    "mrm_res = do.call(rbind, mrm_res)\n",
    "mrm_res %>% dfhead"
   ]
  },
  {
   "cell_type": "code",
   "execution_count": 59,
   "metadata": {
    "ExecuteTime": {
     "end_time": "2018-08-23T15:13:01.538923Z",
     "start_time": "2018-08-23T15:14:40.296Z"
    }
   },
   "outputs": [
    {
     "data": {
      "text/plain": [
       "       R2               pval            rep        \n",
       " Min.   :0.06518   Min.   :0.001   Min.   :  1.00  \n",
       " 1st Qu.:0.08028   1st Qu.:0.001   1st Qu.: 25.75  \n",
       " Median :0.09394   Median :0.001   Median : 50.50  \n",
       " Mean   :0.09458   Mean   :0.001   Mean   : 50.50  \n",
       " 3rd Qu.:0.10472   3rd Qu.:0.001   3rd Qu.: 75.25  \n",
       " Max.   :0.14849   Max.   :0.001   Max.   :100.00  "
      ]
     },
     "metadata": {},
     "output_type": "display_data"
    }
   ],
   "source": [
    "# summary of overall model\n",
    "mrm_res %>%\n",
    "    distinct(R2, pval, rep) %>%\n",
    "    summary"
   ]
  },
  {
   "cell_type": "code",
   "execution_count": 60,
   "metadata": {
    "ExecuteTime": {
     "end_time": "2018-08-23T15:13:02.609732Z",
     "start_time": "2018-08-23T15:14:41.319Z"
    }
   },
   "outputs": [
    {
     "name": "stderr",
     "output_type": "stream",
     "text": [
      "Warning message:\n",
      "“Column `variable`/`old_name` joining character vector and factor, coercing into character vector”"
     ]
    },
    {
     "data": {
      "image/png": "[encoded data removed]",
      "text/plain": [
       "plot without title"
      ]
     },
     "metadata": {},
     "output_type": "display_data"
    }
   ],
   "source": [
    "mrm_res_s = mrm_res %>% \n",
    "    filter(variable != 'Int') %>%\n",
    "    gather(category, value, -variable, -R2, -pval, -F, -rep) %>%\n",
    "    mutate(category = ifelse(category == 'coef', 'Coef.', 'Adj. P-value'))\n",
    "\n",
    "mrm_res_s = mrm_res_s %>%\n",
    "    inner_join(rename_df, c('variable'='old_name')) %>%\n",
    "    dplyr::select(-variable) %>%\n",
    "    rename('variable' = new_name)              \n",
    "\n",
    "p = ggplot(mrm_res_s, aes(variable, value)) +\n",
    "    geom_boxplot() +\n",
    "    facet_grid(category ~ ., scales='free_y') +\n",
    "    theme_bw()\n",
    "\n",
    "options(repr.plot.width=5, repr.plot.height=3)\n",
    "plot(p)"
   ]
  },
  {
   "cell_type": "code",
   "execution_count": 61,
   "metadata": {
    "ExecuteTime": {
     "end_time": "2018-08-23T15:13:02.658522Z",
     "start_time": "2018-08-23T15:14:41.960Z"
    }
   },
   "outputs": [
    {
     "data": {
      "text/html": [
       "<table>\n",
       "<thead><tr><th scope=col>variable</th><th scope=col>pval_sensitivity</th><th scope=col>sig_pval_sensitivity</th></tr></thead>\n",
       "<tbody>\n",
       "\t<tr><td>Int       </td><td>1.00      </td><td>FALSE     </td></tr>\n",
       "\t<tr><td>m$diet    </td><td>0.00      </td><td> TRUE     </td></tr>\n",
       "\t<tr><td>m$geo     </td><td>0.99      </td><td>FALSE     </td></tr>\n",
       "\t<tr><td>m$habitat </td><td>0.80      </td><td>FALSE     </td></tr>\n",
       "\t<tr><td>m$host_phy</td><td>0.53      </td><td>FALSE     </td></tr>\n",
       "\t<tr><td>m$samp    </td><td>1.00      </td><td>FALSE     </td></tr>\n",
       "</tbody>\n",
       "</table>\n"
      ],
      "text/latex": [
       "\\begin{tabular}{r|lll}\n",
       " variable & pval\\_sensitivity & sig\\_pval\\_sensitivity\\\\\n",
       "\\hline\n",
       "\t Int        & 1.00       & FALSE     \\\\\n",
       "\t m\\$diet     & 0.00         &  TRUE       \\\\\n",
       "\t m\\$geo      & 0.99         & FALSE       \\\\\n",
       "\t m\\$habitat  & 0.80         & FALSE       \\\\\n",
       "\t m\\$host\\_phy & 0.53           & FALSE         \\\\\n",
       "\t m\\$samp     & 1.00         & FALSE       \\\\\n",
       "\\end{tabular}\n"
      ],
      "text/markdown": [
       "\n",
       "variable | pval_sensitivity | sig_pval_sensitivity | \n",
       "|---|---|---|---|---|---|\n",
       "| Int        | 1.00       | FALSE      | \n",
       "| m$diet     | 0.00       |  TRUE      | \n",
       "| m$geo      | 0.99       | FALSE      | \n",
       "| m$habitat  | 0.80       | FALSE      | \n",
       "| m$host_phy | 0.53       | FALSE      | \n",
       "| m$samp     | 1.00       | FALSE      | \n",
       "\n",
       "\n"
      ],
      "text/plain": [
       "  variable   pval_sensitivity sig_pval_sensitivity\n",
       "1 Int        1.00             FALSE               \n",
       "2 m$diet     0.00              TRUE               \n",
       "3 m$geo      0.99             FALSE               \n",
       "4 m$habitat  0.80             FALSE               \n",
       "5 m$host_phy 0.53             FALSE               \n",
       "6 m$samp     1.00             FALSE               "
      ]
     },
     "metadata": {},
     "output_type": "display_data"
    }
   ],
   "source": [
    "# significance\n",
    "mrm_res %>% \n",
    "    group_by(variable) %>%\n",
    "    summarize(pval_sensitivity = 1 - sum(coef_pval < 0.05) / length(pval)) %>%\n",
    "    ungroup() %>%\n",
    "    mutate(sig_pval_sensitivity = pval_sensitivity < 0.05)"
   ]
  },
  {
   "cell_type": "markdown",
   "metadata": {},
   "source": [
    "### Evenness"
   ]
  },
  {
   "cell_type": "code",
   "execution_count": 72,
   "metadata": {
    "ExecuteTime": {
     "end_time": "2018-08-23T15:16:22.345013Z",
     "start_time": "2018-08-23T15:18:00.100Z"
    }
   },
   "outputs": [
    {
     "data": {
      "text/html": [
       "100"
      ],
      "text/latex": [
       "100"
      ],
      "text/markdown": [
       "100"
      ],
      "text/plain": [
       "[1] 100"
      ]
     },
     "metadata": {},
     "output_type": "display_data"
    }
   ],
   "source": [
    "# creating multiple distance matrices\n",
    "L = list(alpha = alpha_div$pielou_e,\n",
    "         host_phy = host_tree_d_o,\n",
    "         diet = dietD_d_o,\n",
    "         digest = dtD_d_o, \n",
    "         habitat = habitatD_d_o,\n",
    "         geo = geo_d_o,\n",
    "         samp = samp_d_o)\n",
    "\n",
    "m_perm = lapply(as.list(1:nperm_datasets), function(x) one_per_group(L, df_grps, x))\n",
    "m_perm %>% length           "
   ]
  },
  {
   "cell_type": "markdown",
   "metadata": {},
   "source": [
    "#### Model 1"
   ]
  },
  {
   "cell_type": "code",
   "execution_count": 73,
   "metadata": {
    "ExecuteTime": {
     "end_time": "2018-08-23T15:16:24.683990Z",
     "start_time": "2018-08-23T15:18:01.057Z"
    }
   },
   "outputs": [
    {
     "name": "stdout",
     "output_type": "stream",
     "text": [
      "[1] 700   7\n"
     ]
    },
    {
     "data": {
      "text/html": [
       "<table>\n",
       "<thead><tr><th></th><th scope=col>coef</th><th scope=col>coef_pval</th><th scope=col>variable</th><th scope=col>R2</th><th scope=col>pval</th><th scope=col>F</th><th scope=col>rep</th></tr></thead>\n",
       "<tbody>\n",
       "\t<tr><th scope=row>Int</th><td>1635.94240711</td><td>0.531        </td><td>Int          </td><td>0.03002611   </td><td>0.034        </td><td>17.0978      </td><td>1            </td></tr>\n",
       "\t<tr><th scope=row>m$host_phy</th><td>  -0.07605564</td><td>0.162        </td><td>m$host_phy   </td><td>0.03002611   </td><td>0.034        </td><td>17.0978      </td><td>1            </td></tr>\n",
       "\t<tr><th scope=row>m$diet</th><td>   0.16267144</td><td>0.001        </td><td>m$diet       </td><td>0.03002611   </td><td>0.034        </td><td>17.0978      </td><td>1            </td></tr>\n",
       "</tbody>\n",
       "</table>\n"
      ],
      "text/latex": [
       "\\begin{tabular}{r|lllllll}\n",
       "  & coef & coef\\_pval & variable & R2 & pval & F & rep\\\\\n",
       "\\hline\n",
       "\tInt & 1635.94240711 & 0.531         & Int           & 0.03002611    & 0.034         & 17.0978       & 1            \\\\\n",
       "\tm\\$host\\_phy &   -0.07605564  & 0.162          & m\\$host\\_phy & 0.03002611     & 0.034          & 17.0978        & 1             \\\\\n",
       "\tm\\$diet &    0.16267144 & 0.001         & m\\$diet      & 0.03002611    & 0.034         & 17.0978       & 1            \\\\\n",
       "\\end{tabular}\n"
      ],
      "text/markdown": [
       "\n",
       "| <!--/--> | coef | coef_pval | variable | R2 | pval | F | rep | \n",
       "|---|---|---|\n",
       "| Int | 1635.94240711 | 0.531         | Int           | 0.03002611    | 0.034         | 17.0978       | 1             | \n",
       "| m$host_phy |   -0.07605564 | 0.162         | m$host_phy    | 0.03002611    | 0.034         | 17.0978       | 1             | \n",
       "| m$diet |    0.16267144 | 0.001         | m$diet        | 0.03002611    | 0.034         | 17.0978       | 1             | \n",
       "\n",
       "\n"
      ],
      "text/plain": [
       "           coef          coef_pval variable   R2         pval  F       rep\n",
       "Int        1635.94240711 0.531     Int        0.03002611 0.034 17.0978 1  \n",
       "m$host_phy   -0.07605564 0.162     m$host_phy 0.03002611 0.034 17.0978 1  \n",
       "m$diet        0.16267144 0.001     m$diet     0.03002611 0.034 17.0978 1  "
      ]
     },
     "metadata": {},
     "output_type": "display_data"
    }
   ],
   "source": [
    "doParallel::registerDoParallel(threads)\n",
    "x = as.list(1:length(m_perm))\n",
    "f = 'm$alpha ~ m$host_phy + m$diet + m$digest + m$habitat + m$geo + m$samp'\n",
    "mrm_res = plyr::llply(x, mrm_each, L=m_perm, f=f, nperm=nperm, .parallel=TRUE)\n",
    "mrm_res = do.call(rbind, mrm_res)\n",
    "mrm_res %>% dfhead"
   ]
  },
  {
   "cell_type": "code",
   "execution_count": 74,
   "metadata": {
    "ExecuteTime": {
     "end_time": "2018-08-23T15:16:24.732817Z",
     "start_time": "2018-08-23T15:18:01.984Z"
    }
   },
   "outputs": [
    {
     "data": {
      "text/plain": [
       "       R2               pval              rep        \n",
       " Min.   :0.02502   Min.   :0.00100   Min.   :  1.00  \n",
       " 1st Qu.:0.03637   1st Qu.:0.00400   1st Qu.: 25.75  \n",
       " Median :0.04485   Median :0.00800   Median : 50.50  \n",
       " Mean   :0.04597   Mean   :0.01391   Mean   : 50.50  \n",
       " 3rd Qu.:0.05479   3rd Qu.:0.01925   3rd Qu.: 75.25  \n",
       " Max.   :0.06969   Max.   :0.07600   Max.   :100.00  "
      ]
     },
     "metadata": {},
     "output_type": "display_data"
    }
   ],
   "source": [
    "# summary of overall model\n",
    "mrm_res %>%\n",
    "    distinct(R2, pval, rep) %>%\n",
    "    summary"
   ]
  },
  {
   "cell_type": "code",
   "execution_count": 75,
   "metadata": {
    "ExecuteTime": {
     "end_time": "2018-08-23T15:16:25.865046Z",
     "start_time": "2018-08-23T15:18:04.618Z"
    }
   },
   "outputs": [
    {
     "name": "stderr",
     "output_type": "stream",
     "text": [
      "Warning message:\n",
      "“Column `variable`/`old_name` joining character vector and factor, coercing into character vector”"
     ]
    },
    {
     "data": {
      "image/png": "[encoded data removed]",
      "text/plain": [
       "plot without title"
      ]
     },
     "metadata": {},
     "output_type": "display_data"
    }
   ],
   "source": [
    "mrm_res_s = mrm_res %>% \n",
    "    filter(variable != 'Int') %>%\n",
    "    gather(category, value, -variable, -R2, -pval, -F, -rep) %>%\n",
    "    mutate(category = ifelse(category == 'coef', 'Coef.', 'Adj. P-value'))\n",
    "\n",
    "mrm_res_s = mrm_res_s %>%\n",
    "    inner_join(rename_df, c('variable'='old_name')) %>%\n",
    "    dplyr::select(-variable) %>%\n",
    "    rename('variable' = new_name)              \n",
    "\n",
    "p = ggplot(mrm_res_s, aes(variable, value)) +\n",
    "    geom_boxplot() +\n",
    "    facet_grid(category ~ ., scales='free_y') +\n",
    "    theme_bw()\n",
    "\n",
    "options(repr.plot.width=5, repr.plot.height=3)\n",
    "plot(p)"
   ]
  },
  {
   "cell_type": "code",
   "execution_count": 76,
   "metadata": {
    "ExecuteTime": {
     "end_time": "2018-08-23T15:16:26.096568Z",
     "start_time": "2018-08-23T15:18:06.240Z"
    }
   },
   "outputs": [
    {
     "data": {
      "text/html": [
       "<table>\n",
       "<thead><tr><th scope=col>variable</th><th scope=col>pval_sensitivity</th><th scope=col>sig_pval_sensitivity</th></tr></thead>\n",
       "<tbody>\n",
       "\t<tr><td>Int       </td><td>1.00      </td><td>FALSE     </td></tr>\n",
       "\t<tr><td>m$diet    </td><td>0.00      </td><td> TRUE     </td></tr>\n",
       "\t<tr><td>m$digest  </td><td>0.97      </td><td>FALSE     </td></tr>\n",
       "\t<tr><td>m$geo     </td><td>1.00      </td><td>FALSE     </td></tr>\n",
       "\t<tr><td>m$habitat </td><td>1.00      </td><td>FALSE     </td></tr>\n",
       "\t<tr><td>m$host_phy</td><td>0.65      </td><td>FALSE     </td></tr>\n",
       "\t<tr><td>m$samp    </td><td>1.00      </td><td>FALSE     </td></tr>\n",
       "</tbody>\n",
       "</table>\n"
      ],
      "text/latex": [
       "\\begin{tabular}{r|lll}\n",
       " variable & pval\\_sensitivity & sig\\_pval\\_sensitivity\\\\\n",
       "\\hline\n",
       "\t Int        & 1.00       & FALSE     \\\\\n",
       "\t m\\$diet     & 0.00         &  TRUE       \\\\\n",
       "\t m\\$digest   & 0.97         & FALSE       \\\\\n",
       "\t m\\$geo      & 1.00         & FALSE       \\\\\n",
       "\t m\\$habitat  & 1.00         & FALSE       \\\\\n",
       "\t m\\$host\\_phy & 0.65           & FALSE         \\\\\n",
       "\t m\\$samp     & 1.00         & FALSE       \\\\\n",
       "\\end{tabular}\n"
      ],
      "text/markdown": [
       "\n",
       "variable | pval_sensitivity | sig_pval_sensitivity | \n",
       "|---|---|---|---|---|---|---|\n",
       "| Int        | 1.00       | FALSE      | \n",
       "| m$diet     | 0.00       |  TRUE      | \n",
       "| m$digest   | 0.97       | FALSE      | \n",
       "| m$geo      | 1.00       | FALSE      | \n",
       "| m$habitat  | 1.00       | FALSE      | \n",
       "| m$host_phy | 0.65       | FALSE      | \n",
       "| m$samp     | 1.00       | FALSE      | \n",
       "\n",
       "\n"
      ],
      "text/plain": [
       "  variable   pval_sensitivity sig_pval_sensitivity\n",
       "1 Int        1.00             FALSE               \n",
       "2 m$diet     0.00              TRUE               \n",
       "3 m$digest   0.97             FALSE               \n",
       "4 m$geo      1.00             FALSE               \n",
       "5 m$habitat  1.00             FALSE               \n",
       "6 m$host_phy 0.65             FALSE               \n",
       "7 m$samp     1.00             FALSE               "
      ]
     },
     "metadata": {},
     "output_type": "display_data"
    }
   ],
   "source": [
    "# significance\n",
    "mrm_res %>% \n",
    "    group_by(variable) %>%\n",
    "    summarize(pval_sensitivity = 1 - sum(coef_pval < 0.05) / length(pval)) %>%\n",
    "    ungroup() %>%\n",
    "    mutate(sig_pval_sensitivity = pval_sensitivity < 0.05)"
   ]
  },
  {
   "cell_type": "markdown",
   "metadata": {},
   "source": [
    "#### Model 2"
   ]
  },
  {
   "cell_type": "code",
   "execution_count": 77,
   "metadata": {
    "ExecuteTime": {
     "end_time": "2018-08-23T15:16:29.921949Z",
     "start_time": "2018-08-23T15:18:07.888Z"
    }
   },
   "outputs": [
    {
     "name": "stdout",
     "output_type": "stream",
     "text": [
      "[1] 600   7\n"
     ]
    },
    {
     "data": {
      "text/html": [
       "<table>\n",
       "<thead><tr><th></th><th scope=col>coef</th><th scope=col>coef_pval</th><th scope=col>variable</th><th scope=col>R2</th><th scope=col>pval</th><th scope=col>F</th><th scope=col>rep</th></tr></thead>\n",
       "<tbody>\n",
       "\t<tr><th scope=row>Int</th><td>1597.65666102</td><td>0.588        </td><td>Int          </td><td>0.02913936   </td><td>0.043        </td><td>19.89925     </td><td>1            </td></tr>\n",
       "\t<tr><th scope=row>m$host_phy</th><td>  -0.07889146</td><td>0.143        </td><td>m$host_phy   </td><td>0.02913936   </td><td>0.043        </td><td>19.89925     </td><td>1            </td></tr>\n",
       "\t<tr><th scope=row>m$diet</th><td>   0.15304047</td><td>0.001        </td><td>m$diet       </td><td>0.02913936   </td><td>0.043        </td><td>19.89925     </td><td>1            </td></tr>\n",
       "</tbody>\n",
       "</table>\n"
      ],
      "text/latex": [
       "\\begin{tabular}{r|lllllll}\n",
       "  & coef & coef\\_pval & variable & R2 & pval & F & rep\\\\\n",
       "\\hline\n",
       "\tInt & 1597.65666102 & 0.588         & Int           & 0.02913936    & 0.043         & 19.89925      & 1            \\\\\n",
       "\tm\\$host\\_phy &   -0.07889146  & 0.143          & m\\$host\\_phy & 0.02913936     & 0.043          & 19.89925       & 1             \\\\\n",
       "\tm\\$diet &    0.15304047 & 0.001         & m\\$diet      & 0.02913936    & 0.043         & 19.89925      & 1            \\\\\n",
       "\\end{tabular}\n"
      ],
      "text/markdown": [
       "\n",
       "| <!--/--> | coef | coef_pval | variable | R2 | pval | F | rep | \n",
       "|---|---|---|\n",
       "| Int | 1597.65666102 | 0.588         | Int           | 0.02913936    | 0.043         | 19.89925      | 1             | \n",
       "| m$host_phy |   -0.07889146 | 0.143         | m$host_phy    | 0.02913936    | 0.043         | 19.89925      | 1             | \n",
       "| m$diet |    0.15304047 | 0.001         | m$diet        | 0.02913936    | 0.043         | 19.89925      | 1             | \n",
       "\n",
       "\n"
      ],
      "text/plain": [
       "           coef          coef_pval variable   R2         pval  F        rep\n",
       "Int        1597.65666102 0.588     Int        0.02913936 0.043 19.89925 1  \n",
       "m$host_phy   -0.07889146 0.143     m$host_phy 0.02913936 0.043 19.89925 1  \n",
       "m$diet        0.15304047 0.001     m$diet     0.02913936 0.043 19.89925 1  "
      ]
     },
     "metadata": {},
     "output_type": "display_data"
    }
   ],
   "source": [
    "doParallel::registerDoParallel(threads)\n",
    "x = as.list(1:length(m_perm))\n",
    "f = 'm$alpha ~ m$host_phy + m$diet + m$habitat + m$geo + m$samp'\n",
    "mrm_res = plyr::llply(x, mrm_each, L=m_perm, f=f, nperm=nperm, .parallel=TRUE)\n",
    "mrm_res = do.call(rbind, mrm_res)\n",
    "mrm_res %>% dfhead"
   ]
  },
  {
   "cell_type": "code",
   "execution_count": 78,
   "metadata": {
    "ExecuteTime": {
     "end_time": "2018-08-23T15:16:29.965040Z",
     "start_time": "2018-08-23T15:18:08.273Z"
    }
   },
   "outputs": [
    {
     "data": {
      "text/plain": [
       "       R2               pval             rep        \n",
       " Min.   :0.02396   Min.   :0.0010   Min.   :  1.00  \n",
       " 1st Qu.:0.03491   1st Qu.:0.0040   1st Qu.: 25.75  \n",
       " Median :0.04187   Median :0.0085   Median : 50.50  \n",
       " Mean   :0.04317   Mean   :0.0130   Mean   : 50.50  \n",
       " 3rd Qu.:0.05113   3rd Qu.:0.0180   3rd Qu.: 75.25  \n",
       " Max.   :0.06427   Max.   :0.0520   Max.   :100.00  "
      ]
     },
     "metadata": {},
     "output_type": "display_data"
    }
   ],
   "source": [
    "# summary of overall model\n",
    "mrm_res %>%\n",
    "    distinct(R2, pval, rep) %>%\n",
    "    summary"
   ]
  },
  {
   "cell_type": "code",
   "execution_count": 79,
   "metadata": {
    "ExecuteTime": {
     "end_time": "2018-08-23T15:16:31.683085Z",
     "start_time": "2018-08-23T15:18:10.809Z"
    }
   },
   "outputs": [
    {
     "name": "stderr",
     "output_type": "stream",
     "text": [
      "Warning message:\n",
      "“Column `variable`/`old_name` joining character vector and factor, coercing into character vector”"
     ]
    },
    {
     "data": {
      "image/png": "[encoded data removed]",
      "text/plain": [
       "plot without title"
      ]
     },
     "metadata": {},
     "output_type": "display_data"
    }
   ],
   "source": [
    "mrm_res_s = mrm_res %>% \n",
    "    filter(variable != 'Int') %>%\n",
    "    gather(category, value, -variable, -R2, -pval, -F, -rep) %>%\n",
    "    mutate(category = ifelse(category == 'coef', 'Coef.', 'Adj. P-value'))\n",
    "\n",
    "mrm_res_s = mrm_res_s %>%\n",
    "    inner_join(rename_df, c('variable'='old_name')) %>%\n",
    "    dplyr::select(-variable) %>%\n",
    "    rename('variable' = new_name)              \n",
    "\n",
    "p = ggplot(mrm_res_s, aes(variable, value)) +\n",
    "    geom_boxplot() +\n",
    "    facet_grid(category ~ ., scales='free_y') +\n",
    "    theme_bw()\n",
    "\n",
    "options(repr.plot.width=5, repr.plot.height=3)\n",
    "plot(p)"
   ]
  },
  {
   "cell_type": "code",
   "execution_count": 80,
   "metadata": {
    "ExecuteTime": {
     "end_time": "2018-08-23T15:16:31.917059Z",
     "start_time": "2018-08-23T15:18:12.068Z"
    }
   },
   "outputs": [
    {
     "data": {
      "text/html": [
       "<table>\n",
       "<thead><tr><th scope=col>variable</th><th scope=col>pval_sensitivity</th><th scope=col>sig_pval_sensitivity</th></tr></thead>\n",
       "<tbody>\n",
       "\t<tr><td>Int       </td><td>1.0       </td><td>FALSE     </td></tr>\n",
       "\t<tr><td>m$diet    </td><td>0.0       </td><td> TRUE     </td></tr>\n",
       "\t<tr><td>m$geo     </td><td>1.0       </td><td>FALSE     </td></tr>\n",
       "\t<tr><td>m$habitat </td><td>1.0       </td><td>FALSE     </td></tr>\n",
       "\t<tr><td>m$host_phy</td><td>0.6       </td><td>FALSE     </td></tr>\n",
       "\t<tr><td>m$samp    </td><td>1.0       </td><td>FALSE     </td></tr>\n",
       "</tbody>\n",
       "</table>\n"
      ],
      "text/latex": [
       "\\begin{tabular}{r|lll}\n",
       " variable & pval\\_sensitivity & sig\\_pval\\_sensitivity\\\\\n",
       "\\hline\n",
       "\t Int        & 1.0        & FALSE     \\\\\n",
       "\t m\\$diet     & 0.0          &  TRUE       \\\\\n",
       "\t m\\$geo      & 1.0          & FALSE       \\\\\n",
       "\t m\\$habitat  & 1.0          & FALSE       \\\\\n",
       "\t m\\$host\\_phy & 0.6            & FALSE         \\\\\n",
       "\t m\\$samp     & 1.0          & FALSE       \\\\\n",
       "\\end{tabular}\n"
      ],
      "text/markdown": [
       "\n",
       "variable | pval_sensitivity | sig_pval_sensitivity | \n",
       "|---|---|---|---|---|---|\n",
       "| Int        | 1.0        | FALSE      | \n",
       "| m$diet     | 0.0        |  TRUE      | \n",
       "| m$geo      | 1.0        | FALSE      | \n",
       "| m$habitat  | 1.0        | FALSE      | \n",
       "| m$host_phy | 0.6        | FALSE      | \n",
       "| m$samp     | 1.0        | FALSE      | \n",
       "\n",
       "\n"
      ],
      "text/plain": [
       "  variable   pval_sensitivity sig_pval_sensitivity\n",
       "1 Int        1.0              FALSE               \n",
       "2 m$diet     0.0               TRUE               \n",
       "3 m$geo      1.0              FALSE               \n",
       "4 m$habitat  1.0              FALSE               \n",
       "5 m$host_phy 0.6              FALSE               \n",
       "6 m$samp     1.0              FALSE               "
      ]
     },
     "metadata": {},
     "output_type": "display_data"
    }
   ],
   "source": [
    "# significance\n",
    "mrm_res %>% \n",
    "    group_by(variable) %>%\n",
    "    summarize(pval_sensitivity = 1 - sum(coef_pval < 0.05) / length(pval)) %>%\n",
    "    ungroup() %>%\n",
    "    mutate(sig_pval_sensitivity = pval_sensitivity < 0.05)"
   ]
  },
  {
   "cell_type": "markdown",
   "metadata": {},
   "source": [
    "# sessionInfo\n"
   ]
  },
  {
   "cell_type": "code",
   "execution_count": 81,
   "metadata": {
    "ExecuteTime": {
     "end_time": "2018-08-23T15:16:33.548936Z",
     "start_time": "2018-08-23T15:18:13.225Z"
    }
   },
   "outputs": [
    {
     "data": {
      "text/plain": [
       "R version 3.4.1 (2017-06-30)\n",
       "Platform: x86_64-pc-linux-gnu (64-bit)\n",
       "Running under: Ubuntu 18.04.1 LTS\n",
       "\n",
       "Matrix products: default\n",
       "BLAS: /ebio/abt3_projects/software/miniconda3_gt4.4/envs/py3_physeq_eco/lib/R/lib/libRblas.so\n",
       "LAPACK: /ebio/abt3_projects/software/miniconda3_gt4.4/envs/py3_physeq_eco/lib/R/lib/libRlapack.so\n",
       "\n",
       "locale:\n",
       "[1] en_US.UTF-8\n",
       "\n",
       "attached base packages:\n",
       "[1] stats     graphics  grDevices utils     datasets  methods   base     \n",
       "\n",
       "other attached packages:\n",
       "[1] bindrcpp_0.2.2  phyloseq_1.22.3 stringr_1.3.1   ggplot2_3.0.0  \n",
       "[5] tidyr_0.8.1     dplyr_0.7.6    \n",
       "\n",
       "loaded via a namespace (and not attached):\n",
       " [1] Rcpp_0.12.17        ape_5.1             lattice_0.20-34    \n",
       " [4] Biostrings_2.46.0   assertthat_0.2.0    digest_0.6.15      \n",
       " [7] foreach_1.4.4       IRdisplay_0.4.4     R6_2.2.2           \n",
       "[10] plyr_1.8.4          repr_0.15.0         stats4_3.4.1       \n",
       "[13] evaluate_0.10.1     pillar_1.2.2        zlibbioc_1.24.0    \n",
       "[16] rlang_0.2.1         lazyeval_0.2.1      uuid_0.1-2         \n",
       "[19] geosphere_1.5-5     data.table_1.11.4   vegan_2.4-3        \n",
       "[22] S4Vectors_0.16.0    Matrix_1.2-14       labeling_0.3       \n",
       "[25] splines_3.4.1       igraph_1.2.1        munsell_0.5.0      \n",
       "[28] compiler_3.4.1      pkgconfig_2.0.1     BiocGenerics_0.24.0\n",
       "[31] base64enc_0.1-3     multtest_2.34.0     mgcv_1.8-24        \n",
       "[34] htmltools_0.3.6     biomformat_1.6.0    tidyselect_0.2.4   \n",
       "[37] tibble_1.4.2        IRanges_2.12.0      codetools_0.2-15   \n",
       "[40] permute_0.9-4       crayon_1.3.4        withr_2.1.1        \n",
       "[43] MASS_7.3-50         grid_3.4.1          nlme_3.1-131       \n",
       "[46] jsonlite_1.5        gtable_0.2.0        magrittr_1.5       \n",
       "[49] scales_0.5.0        stringi_1.2.3       XVector_0.18.0     \n",
       "[52] reshape2_1.4.3      doParallel_1.0.11   sp_1.2-7           \n",
       "[55] IRkernel_0.8.12     iterators_1.0.10    tools_3.4.1        \n",
       "[58] ade4_1.7-11         Biobase_2.38.0      glue_1.3.0         \n",
       "[61] purrr_0.2.4         parallel_3.4.1      survival_2.42-6    \n",
       "[64] colorspace_1.3-2    rhdf5_2.22.0        cluster_2.0.6      \n",
       "[67] pbdZMQ_0.3-2        bindr_0.1.1        "
      ]
     },
     "metadata": {},
     "output_type": "display_data"
    }
   ],
   "source": [
    "sessionInfo()"
   ]
  },
  {
   "cell_type": "code",
   "execution_count": null,
   "metadata": {},
   "outputs": [],
   "source": []
  }
 ],
 "metadata": {
  "kernelspec": {
   "display_name": "R [conda env:py3_physeq_eco]",
   "language": "R",
   "name": "conda-env-py3_physeq_eco-r"
  },
  "language_info": {
   "codemirror_mode": "r",
   "file_extension": ".r",
   "mimetype": "text/x-r-source",
   "name": "R",
   "pygments_lexer": "r",
   "version": "3.4.1"
  },
  "notify_time": "30",
  "toc": {
   "base_numbering": 1,
   "nav_menu": {},
   "number_sections": true,
   "sideBar": true,
   "skip_h1_title": false,
   "title_cell": "Table of Contents",
   "title_sidebar": "Contents",
   "toc_cell": false,
   "toc_position": {
    "height": "1209px",
    "left": "0px",
    "right": "2348px",
    "top": "111px",
    "width": "212px"
   },
   "toc_section_display": "block",
   "toc_window_display": true
  }
 },
 "nbformat": 4,
 "nbformat_minor": 2
}
