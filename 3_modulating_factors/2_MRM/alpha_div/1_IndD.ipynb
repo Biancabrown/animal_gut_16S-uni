{
 "cells": [
  {
   "cell_type": "markdown",
   "metadata": {},
   "source": [
    "# Goal\n",
    "\n",
    "* Multiple Regression on Matrices (MRM) analysis on IndD dataset\n",
    "  * IndD = one sample per individual\n",
    "  * dependent variable: alpha-diversity\n",
    "* Intra-species sensitivity analysis: calculating MRM for permutations of samples within each species"
   ]
  },
  {
   "cell_type": "markdown",
   "metadata": {},
   "source": [
    "# Var"
   ]
  },
  {
   "cell_type": "code",
   "execution_count": 1,
   "metadata": {
    "ExecuteTime": {
     "end_time": "2018-11-29T15:44:34.959427Z",
     "start_time": "2018-11-29T15:44:36.181Z"
    }
   },
   "outputs": [],
   "source": [
    "work_dir = '/ebio/abt3_projects/Georg_animal_feces/data/modulating_factors/MRM/IndD/alpha_div/'\n",
    "\n",
    "# phyloseq\n",
    "physeq_file = '/ebio/abt3_projects/Georg_animal_feces/data/16S/LLA/phyloseq/physeq_r5k.RDS'\n",
    "\n",
    "# alpha-div calculated with qiime2\n",
    "alpha_div_file = '/ebio/abt3_projects/Georg_animal_feces/data/16S/LLA/diversity/alpha_div.RDS'\n",
    "\n",
    "# host phylogeny distance\n",
    "host_tree_dist_file = '/ebio/abt3_projects/Georg_animal_feces/data/animal/phylogeny/TT/unified_metadata_complete_20180625_rn_16S-r5k_IndD_dist.RDS'\n",
    "\n",
    "# params\n",
    "conda_env = 'qiime2'\n",
    "threads = 12"
   ]
  },
  {
   "cell_type": "markdown",
   "metadata": {},
   "source": [
    "# Init"
   ]
  },
  {
   "cell_type": "code",
   "execution_count": 2,
   "metadata": {
    "ExecuteTime": {
     "end_time": "2018-11-29T15:44:44.017867Z",
     "start_time": "2018-11-29T15:44:36.589Z"
    }
   },
   "outputs": [
    {
     "name": "stderr",
     "output_type": "stream",
     "text": [
      "\n",
      "Attaching package: ‘dplyr’\n",
      "\n",
      "The following objects are masked from ‘package:stats’:\n",
      "\n",
      "    filter, lag\n",
      "\n",
      "The following objects are masked from ‘package:base’:\n",
      "\n",
      "    intersect, setdiff, setequal, union\n",
      "\n"
     ]
    }
   ],
   "source": [
    "library(dplyr)\n",
    "library(tidyr)\n",
    "library(ggplot2)\n",
    "library(stringr)\n",
    "library(phyloseq)\n",
    "source('/ebio/abt3_projects/Georg_animal_feces/code/init.R') "
   ]
  },
  {
   "cell_type": "code",
   "execution_count": 3,
   "metadata": {
    "ExecuteTime": {
     "end_time": "2018-11-29T15:44:44.349580Z",
     "start_time": "2018-11-29T15:44:36.724Z"
    }
   },
   "outputs": [],
   "source": [
    "set.seed(8301)"
   ]
  },
  {
   "cell_type": "code",
   "execution_count": 4,
   "metadata": {
    "ExecuteTime": {
     "end_time": "2018-11-29T15:44:44.400583Z",
     "start_time": "2018-11-29T15:44:37.789Z"
    }
   },
   "outputs": [
    {
     "name": "stdout",
     "output_type": "stream",
     "text": [
      "Directory already exists: /ebio/abt3_projects/Georg_animal_feces/data/modulating_factors/MRM/IndD/alpha_div/ \n"
     ]
    }
   ],
   "source": [
    "make_dir(work_dir)\n",
    "setwd(work_dir)"
   ]
  },
  {
   "cell_type": "markdown",
   "metadata": {},
   "source": [
    "## Functions"
   ]
  },
  {
   "cell_type": "code",
   "execution_count": 5,
   "metadata": {
    "ExecuteTime": {
     "end_time": "2018-11-29T15:44:44.436972Z",
     "start_time": "2018-11-29T15:44:40.724Z"
    }
   },
   "outputs": [],
   "source": [
    "dist_mtx_order = function(d, x){\n",
    "    # Ordering distance matrixes\n",
    "    # d = distance matrix (dist class)\n",
    "    # x = vector to order dist. obj. by\n",
    "    m = d %>% as.matrix\n",
    "    d = as.dist(m[x,x])\n",
    "    return(d)\n",
    "}\n",
    "\n",
    "#m %>% as.vector %>% scale %>% matrix(nrow=3, ncol=3)"
   ]
  },
  {
   "cell_type": "code",
   "execution_count": 6,
   "metadata": {
    "ExecuteTime": {
     "end_time": "2018-11-29T15:44:44.473913Z",
     "start_time": "2018-11-29T15:44:40.908Z"
    }
   },
   "outputs": [],
   "source": [
    "rescale_dist_mtx = function(m){\n",
    "    m = m %>% as.matrix\n",
    "    labs = m %>% colnames\n",
    "    n_row = m %>% nrow\n",
    "    n_col = m %>% ncol\n",
    "    x = m %>% as.vector \n",
    "    x = scales::rescale(x) \n",
    "    m = matrix(x, nrow=n_row, ncol=n_col)\n",
    "    colnames(m) = labs\n",
    "    rownames(m) = labs\n",
    "    m = m %>% as.dist\n",
    "    return(m)\n",
    "}\n"
   ]
  },
  {
   "cell_type": "markdown",
   "metadata": {},
   "source": [
    "# Load"
   ]
  },
  {
   "cell_type": "markdown",
   "metadata": {},
   "source": [
    "## Alpha diversity"
   ]
  },
  {
   "cell_type": "code",
   "execution_count": 7,
   "metadata": {
    "ExecuteTime": {
     "end_time": "2018-11-29T15:44:44.748132Z",
     "start_time": "2018-11-29T15:44:42.124Z"
    }
   },
   "outputs": [
    {
     "name": "stdout",
     "output_type": "stream",
     "text": [
      "[1] 213   5\n"
     ]
    },
    {
     "data": {
      "text/html": [
       "<table>\n",
       "<thead><tr><th></th><th scope=col>pielou_e</th><th scope=col>observed_otus</th><th scope=col>shannon</th><th scope=col>faith_pd</th><th scope=col>X.SampleID</th></tr></thead>\n",
       "<tbody>\n",
       "\t<tr><th scope=row>X1.Eurasian.Beaver</th><td>0.6507254         </td><td>158               </td><td>4.752756          </td><td>16.56554          </td><td>X1.Eurasian.Beaver</td></tr>\n",
       "\t<tr><th scope=row>X101.Horse</th><td>0.9042161         </td><td>933               </td><td>8.920754          </td><td>59.46621          </td><td>X101.Horse        </td></tr>\n",
       "\t<tr><th scope=row>X102.Kulan</th><td>0.8443325         </td><td>422               </td><td>7.363508          </td><td>35.80528          </td><td>X102.Kulan        </td></tr>\n",
       "</tbody>\n",
       "</table>\n"
      ],
      "text/latex": [
       "\\begin{tabular}{r|lllll}\n",
       "  & pielou\\_e & observed\\_otus & shannon & faith\\_pd & X.SampleID\\\\\n",
       "\\hline\n",
       "\tX1.Eurasian.Beaver & 0.6507254          & 158                & 4.752756           & 16.56554           & X1.Eurasian.Beaver\\\\\n",
       "\tX101.Horse & 0.9042161          & 933                & 8.920754           & 59.46621           & X101.Horse        \\\\\n",
       "\tX102.Kulan & 0.8443325          & 422                & 7.363508           & 35.80528           & X102.Kulan        \\\\\n",
       "\\end{tabular}\n"
      ],
      "text/markdown": [
       "\n",
       "| <!--/--> | pielou_e | observed_otus | shannon | faith_pd | X.SampleID | \n",
       "|---|---|---|\n",
       "| X1.Eurasian.Beaver | 0.6507254          | 158                | 4.752756           | 16.56554           | X1.Eurasian.Beaver | \n",
       "| X101.Horse | 0.9042161          | 933                | 8.920754           | 59.46621           | X101.Horse         | \n",
       "| X102.Kulan | 0.8443325          | 422                | 7.363508           | 35.80528           | X102.Kulan         | \n",
       "\n",
       "\n"
      ],
      "text/plain": [
       "                   pielou_e  observed_otus shannon  faith_pd X.SampleID        \n",
       "X1.Eurasian.Beaver 0.6507254 158           4.752756 16.56554 X1.Eurasian.Beaver\n",
       "X101.Horse         0.9042161 933           8.920754 59.46621 X101.Horse        \n",
       "X102.Kulan         0.8443325 422           7.363508 35.80528 X102.Kulan        "
      ]
     },
     "metadata": {},
     "output_type": "display_data"
    }
   ],
   "source": [
    "# load alpha-div values\n",
    "alpha_div = readRDS(alpha_div_file)\n",
    "alpha_div = do.call(cbind, alpha_div)\n",
    "alpha_div$X.SampleID = rownames(alpha_div)\n",
    "alpha_div %>% dfhead"
   ]
  },
  {
   "cell_type": "markdown",
   "metadata": {},
   "source": [
    "## Phyloseq"
   ]
  },
  {
   "cell_type": "code",
   "execution_count": 8,
   "metadata": {
    "ExecuteTime": {
     "end_time": "2018-11-29T15:44:46.315228Z",
     "start_time": "2018-11-29T15:44:42.389Z"
    }
   },
   "outputs": [
    {
     "data": {
      "text/plain": [
       "phyloseq-class experiment-level object\n",
       "otu_table()   OTU Table:         [ 30290 taxa and 213 samples ]\n",
       "sample_data() Sample Data:       [ 213 samples by 171 sample variables ]\n",
       "tax_table()   Taxonomy Table:    [ 30290 taxa by 7 taxonomic ranks ]\n",
       "phy_tree()    Phylogenetic Tree: [ 30290 tips and 29752 internal nodes ]"
      ]
     },
     "metadata": {},
     "output_type": "display_data"
    }
   ],
   "source": [
    "physeq = readRDS(physeq_file)\n",
    "physeq"
   ]
  },
  {
   "cell_type": "markdown",
   "metadata": {},
   "source": [
    "### Metadata"
   ]
  },
  {
   "cell_type": "code",
   "execution_count": 9,
   "metadata": {
    "ExecuteTime": {
     "end_time": "2018-11-29T15:44:46.543459Z",
     "start_time": "2018-11-29T15:44:43.333Z"
    }
   },
   "outputs": [
    {
     "name": "stderr",
     "output_type": "stream",
     "text": [
      "Warning message in class(X) <- NULL:\n",
      "“Setting class(x) to NULL;   result will no longer be an S4 object”"
     ]
    },
    {
     "name": "stdout",
     "output_type": "stream",
     "text": [
      "[1] 213 171\n"
     ]
    },
    {
     "data": {
      "text/html": [
       "<table>\n",
       "<thead><tr><th scope=col>X.SampleID</th><th scope=col>BarcodeSequence</th><th scope=col>LinkerPrimerSequence</th><th scope=col>Primer</th><th scope=col>ReversePrimer</th><th scope=col>Barcode_ID</th><th scope=col>sample_number</th><th scope=col>host_subject_id</th><th scope=col>host_german_name</th><th scope=col>host_common_name</th><th scope=col>⋯</th><th scope=col>wellplate_position_Illumina</th><th scope=col>Cornell_Dilution_DNA_Illumina</th><th scope=col>Num_Illumina</th><th scope=col>Num</th><th scope=col>sorting_454</th><th scope=col>comments_additional</th><th scope=col>DNA_box_20180622</th><th scope=col>sample_vol_20180622</th><th scope=col>sample_label_20180622</th><th scope=col>Description</th></tr></thead>\n",
       "<tbody>\n",
       "\t<tr><td>X1.Eurasian.Beaver   </td><td>ACTCACGGTATG         </td><td>CATGCTGCCTCCCGTAGGAGT</td><td>GCCTCCCTCGCGCCATCAG  </td><td>AGAGTTTGATCCTGGCTCAG </td><td>338R_BC0049          </td><td>1                    </td><td>1                    </td><td>Biber                </td><td>Eurasian.Beaver      </td><td>⋯                    </td><td>B12                  </td><td>4                    </td><td>120                  </td><td>18                   </td><td>18                   </td><td>NA                   </td><td>1                    </td><td>20                   </td><td>1                    </td><td>NA                   </td></tr>\n",
       "\t<tr><td>X101.Horse           </td><td>ACGACGTCTTAG         </td><td>CATGCTGCCTCCCGTAGGAGT</td><td>GCCTCCCTCGCGCCATCAG  </td><td>AGAGTTTGATCCTGGCTCAG </td><td>338R_BC0030          </td><td>101                  </td><td>101                  </td><td>Hauspferd            </td><td>Horse                </td><td>⋯                    </td><td>E8                   </td><td>16                   </td><td>344                  </td><td>160                  </td><td>160                  </td><td>NA                   </td><td>2                    </td><td>20                   </td><td>101                  </td><td>NA                   </td></tr>\n",
       "\t<tr><td>X102.Kulan           </td><td>ACGAGTGCTATC         </td><td>CATGCTGCCTCCCGTAGGAGT</td><td>GCCTCCCTCGCGCCATCAG  </td><td>AGAGTTTGATCCTGGCTCAG </td><td>338R_BC0031          </td><td>102                  </td><td>102                  </td><td>Khulan               </td><td>Kulan                </td><td>⋯                    </td><td>E9                   </td><td>16                   </td><td>345                  </td><td>161                  </td><td>161                  </td><td>NA                   </td><td>2                    </td><td>20                   </td><td>102                  </td><td>NA                   </td></tr>\n",
       "</tbody>\n",
       "</table>\n"
      ],
      "text/latex": [
       "\\begin{tabular}{r|lllllllllllllllllllllllllllllllllllllllllllllllllllllllllllllllllllllllllllllllllllllllllllllllllllllllllllllllllllllllllllllllllllllllllllllllllllllllllllllllllllllllllll}\n",
       " X.SampleID & BarcodeSequence & LinkerPrimerSequence & Primer & ReversePrimer & Barcode\\_ID & sample\\_number & host\\_subject\\_id & host\\_german\\_name & host\\_common\\_name & ⋯ & wellplate\\_position\\_Illumina & Cornell\\_Dilution\\_DNA\\_Illumina & Num\\_Illumina & Num & sorting\\_454 & comments\\_additional & DNA\\_box\\_20180622 & sample\\_vol\\_20180622 & sample\\_label\\_20180622 & Description\\\\\n",
       "\\hline\n",
       "\t X1.Eurasian.Beaver    & ACTCACGGTATG          & CATGCTGCCTCCCGTAGGAGT & GCCTCCCTCGCGCCATCAG   & AGAGTTTGATCCTGGCTCAG  & 338R\\_BC0049         & 1                     & 1                     & Biber                 & Eurasian.Beaver       & ⋯                     & B12                   & 4                     & 120                   & 18                    & 18                    & NA                    & 1                     & 20                    & 1                     & NA                   \\\\\n",
       "\t X101.Horse            & ACGACGTCTTAG          & CATGCTGCCTCCCGTAGGAGT & GCCTCCCTCGCGCCATCAG   & AGAGTTTGATCCTGGCTCAG  & 338R\\_BC0030         & 101                   & 101                   & Hauspferd             & Horse                 & ⋯                     & E8                    & 16                    & 344                   & 160                   & 160                   & NA                    & 2                     & 20                    & 101                   & NA                   \\\\\n",
       "\t X102.Kulan            & ACGAGTGCTATC          & CATGCTGCCTCCCGTAGGAGT & GCCTCCCTCGCGCCATCAG   & AGAGTTTGATCCTGGCTCAG  & 338R\\_BC0031         & 102                   & 102                   & Khulan                & Kulan                 & ⋯                     & E9                    & 16                    & 345                   & 161                   & 161                   & NA                    & 2                     & 20                    & 102                   & NA                   \\\\\n",
       "\\end{tabular}\n"
      ],
      "text/markdown": [
       "\n",
       "X.SampleID | BarcodeSequence | LinkerPrimerSequence | Primer | ReversePrimer | Barcode_ID | sample_number | host_subject_id | host_german_name | host_common_name | ⋯ | wellplate_position_Illumina | Cornell_Dilution_DNA_Illumina | Num_Illumina | Num | sorting_454 | comments_additional | DNA_box_20180622 | sample_vol_20180622 | sample_label_20180622 | Description | \n",
       "|---|---|---|\n",
       "| X1.Eurasian.Beaver    | ACTCACGGTATG          | CATGCTGCCTCCCGTAGGAGT | GCCTCCCTCGCGCCATCAG   | AGAGTTTGATCCTGGCTCAG  | 338R_BC0049           | 1                     | 1                     | Biber                 | Eurasian.Beaver       | ⋯                     | B12                   | 4                     | 120                   | 18                    | 18                    | NA                    | 1                     | 20                    | 1                     | NA                    | \n",
       "| X101.Horse            | ACGACGTCTTAG          | CATGCTGCCTCCCGTAGGAGT | GCCTCCCTCGCGCCATCAG   | AGAGTTTGATCCTGGCTCAG  | 338R_BC0030           | 101                   | 101                   | Hauspferd             | Horse                 | ⋯                     | E8                    | 16                    | 344                   | 160                   | 160                   | NA                    | 2                     | 20                    | 101                   | NA                    | \n",
       "| X102.Kulan            | ACGAGTGCTATC          | CATGCTGCCTCCCGTAGGAGT | GCCTCCCTCGCGCCATCAG   | AGAGTTTGATCCTGGCTCAG  | 338R_BC0031           | 102                   | 102                   | Khulan                | Kulan                 | ⋯                     | E9                    | 16                    | 345                   | 161                   | 161                   | NA                    | 2                     | 20                    | 102                   | NA                    | \n",
       "\n",
       "\n"
      ],
      "text/plain": [
       "  X.SampleID         BarcodeSequence LinkerPrimerSequence  Primer             \n",
       "1 X1.Eurasian.Beaver ACTCACGGTATG    CATGCTGCCTCCCGTAGGAGT GCCTCCCTCGCGCCATCAG\n",
       "2 X101.Horse         ACGACGTCTTAG    CATGCTGCCTCCCGTAGGAGT GCCTCCCTCGCGCCATCAG\n",
       "3 X102.Kulan         ACGAGTGCTATC    CATGCTGCCTCCCGTAGGAGT GCCTCCCTCGCGCCATCAG\n",
       "  ReversePrimer        Barcode_ID  sample_number host_subject_id\n",
       "1 AGAGTTTGATCCTGGCTCAG 338R_BC0049 1             1              \n",
       "2 AGAGTTTGATCCTGGCTCAG 338R_BC0030 101           101            \n",
       "3 AGAGTTTGATCCTGGCTCAG 338R_BC0031 102           102            \n",
       "  host_german_name host_common_name ⋯ wellplate_position_Illumina\n",
       "1 Biber            Eurasian.Beaver  ⋯ B12                        \n",
       "2 Hauspferd        Horse            ⋯ E8                         \n",
       "3 Khulan           Kulan            ⋯ E9                         \n",
       "  Cornell_Dilution_DNA_Illumina Num_Illumina Num sorting_454\n",
       "1 4                             120          18  18         \n",
       "2 16                            344          160 160        \n",
       "3 16                            345          161 161        \n",
       "  comments_additional DNA_box_20180622 sample_vol_20180622\n",
       "1 NA                  1                20                 \n",
       "2 NA                  2                20                 \n",
       "3 NA                  2                20                 \n",
       "  sample_label_20180622 Description\n",
       "1 1                     NA         \n",
       "2 101                   NA         \n",
       "3 102                   NA         "
      ]
     },
     "metadata": {},
     "output_type": "display_data"
    }
   ],
   "source": [
    "metadata = physeq %>%\n",
    "    sample_data %>%\n",
    "    as.matrix %>%\n",
    "    as.data.frame %>%\n",
    "    mutate(X.SampleID = rownames(.))\n",
    "\n",
    "metadata %>% dfhead"
   ]
  },
  {
   "cell_type": "markdown",
   "metadata": {},
   "source": [
    "## Host phylogeny"
   ]
  },
  {
   "cell_type": "code",
   "execution_count": 10,
   "metadata": {
    "ExecuteTime": {
     "end_time": "2018-11-29T15:44:47.208501Z",
     "start_time": "2018-11-29T15:44:43.579Z"
    }
   },
   "outputs": [
    {
     "data": {
      "image/png": "[encoded data removed]",
      "text/plain": [
       "Plot with title “Cluster Dendrogram”"
      ]
     },
     "metadata": {},
     "output_type": "display_data"
    }
   ],
   "source": [
    "# patristic distance\n",
    "host_tree_d = readRDS(host_tree_dist_file)\n",
    "options(repr.plot.height=4, repr.plot.width=10)\n",
    "plot(hclust(host_tree_d), cex=0.4)"
   ]
  },
  {
   "cell_type": "markdown",
   "metadata": {},
   "source": [
    "# Making distance matrices"
   ]
  },
  {
   "cell_type": "markdown",
   "metadata": {},
   "source": [
    "## Alpha diversity"
   ]
  },
  {
   "cell_type": "code",
   "execution_count": 11,
   "metadata": {
    "ExecuteTime": {
     "end_time": "2018-11-29T15:44:47.743609Z",
     "start_time": "2018-11-29T15:44:44.798Z"
    }
   },
   "outputs": [
    {
     "data": {
      "text/plain": [
       "$pielou_e\n",
       "     Min.   1st Qu.    Median      Mean   3rd Qu.      Max. \n",
       "0.0000032 0.0809808 0.1826115 0.2265901 0.3156779 1.0000000 \n",
       "\n",
       "$observed_otus\n",
       "   Min. 1st Qu.  Median    Mean 3rd Qu.    Max. \n",
       "0.00000 0.07273 0.21925 0.28200 0.43850 1.00000 \n",
       "\n",
       "$shannon\n",
       "     Min.   1st Qu.    Median      Mean   3rd Qu.      Max. \n",
       "0.0000066 0.1178534 0.2552890 0.2900999 0.4312166 1.0000000 \n",
       "\n",
       "$faith_pd\n",
       "     Min.   1st Qu.    Median      Mean   3rd Qu.      Max. \n",
       "0.0000021 0.0963922 0.2397792 0.2846611 0.4458039 1.0000000 \n"
      ]
     },
     "metadata": {},
     "output_type": "display_data"
    }
   ],
   "source": [
    "# convert to distance matrices\n",
    "alpha_div_mtx = list()\n",
    "n = ncol(alpha_div) -1 \n",
    "for(x in colnames(alpha_div)[1:n]){\n",
    "    y = as.data.frame(alpha_div[,x])\n",
    "    rownames(y) = rownames(alpha_div)\n",
    "    alpha_div_mtx[[x]] = cluster::daisy(y, metric='gower')\n",
    "}\n",
    "alpha_div = alpha_div_mtx    \n",
    "\n",
    "# status\n",
    "lapply(alpha_div, function(x) x %>% as.vector %>% summary)"
   ]
  },
  {
   "cell_type": "markdown",
   "metadata": {},
   "source": [
    "## Diet (detailed) distance\n",
    "\n",
    "* Detailed diet categories"
   ]
  },
  {
   "cell_type": "code",
   "execution_count": 12,
   "metadata": {
    "ExecuteTime": {
     "end_time": "2018-11-29T15:44:47.788446Z",
     "start_time": "2018-11-29T15:44:45.854Z"
    }
   },
   "outputs": [
    {
     "data": {
      "text/plain": [
       "  X.SampleID        diet_vertebrate             diet_invertebrate diet_fruit\n",
       " Length:213         no :138         no                   :104     no :124   \n",
       " Class :character   yes: 75         yes                  :108     yes: 89   \n",
       " Mode  :character                   yes mainly young ones:  1               \n",
       " diet_flowers_nectar_pollen diet_leaves_branches_bark_buds diet_seeds\n",
       " no :195                    no :112                        no :127   \n",
       " yes: 18                    yes:101                        yes: 86   \n",
       "                                                                     \n",
       " diet_grass_waterplants diet_roots_tubers\n",
       " no :117                no :143          \n",
       " yes: 96                yes: 70          \n",
       "                                         "
      ]
     },
     "metadata": {},
     "output_type": "display_data"
    }
   ],
   "source": [
    "metadata %>%\n",
    "    dplyr::select(X.SampleID, diet_vertebrate, diet_invertebrate, diet_fruit,\n",
    "                  diet_flowers_nectar_pollen, diet_leaves_branches_bark_buds, diet_seeds,\n",
    "                  diet_grass_waterplants, diet_roots_tubers) %>% summary"
   ]
  },
  {
   "cell_type": "code",
   "execution_count": 13,
   "metadata": {
    "ExecuteTime": {
     "end_time": "2018-11-29T15:44:47.906906Z",
     "start_time": "2018-11-29T15:44:47.341Z"
    }
   },
   "outputs": [
    {
     "data": {
      "text/html": [
       "<table>\n",
       "<thead><tr><th></th><th scope=col>diet_vertebrate</th><th scope=col>diet_invertebrate</th><th scope=col>diet_fruit</th><th scope=col>diet_flowers_nectar_pollen</th><th scope=col>diet_leaves_branches_bark_buds</th><th scope=col>diet_seeds</th><th scope=col>diet_grass_waterplants</th><th scope=col>diet_roots_tubers</th></tr></thead>\n",
       "<tbody>\n",
       "\t<tr><th scope=row>X1.Eurasian.Beaver</th><td>0</td><td>0</td><td>0</td><td>0</td><td>1</td><td>0</td><td>1</td><td>1</td></tr>\n",
       "\t<tr><th scope=row>X101.Horse</th><td>0</td><td>0</td><td>0</td><td>0</td><td>0</td><td>1</td><td>1</td><td>0</td></tr>\n",
       "\t<tr><th scope=row>X102.Kulan</th><td>0</td><td>0</td><td>0</td><td>0</td><td>1</td><td>0</td><td>1</td><td>0</td></tr>\n",
       "\t<tr><th scope=row>X109.Red.Fox</th><td>1</td><td>1</td><td>1</td><td>0</td><td>0</td><td>0</td><td>0</td><td>0</td></tr>\n",
       "\t<tr><th scope=row>X110.Noctule</th><td>0</td><td>1</td><td>0</td><td>0</td><td>0</td><td>0</td><td>0</td><td>0</td></tr>\n",
       "\t<tr><th scope=row>X111.West.European.Hedgehog</th><td>1</td><td>1</td><td>0</td><td>0</td><td>0</td><td>0</td><td>0</td><td>0</td></tr>\n",
       "</tbody>\n",
       "</table>\n"
      ],
      "text/latex": [
       "\\begin{tabular}{r|llllllll}\n",
       "  & diet\\_vertebrate & diet\\_invertebrate & diet\\_fruit & diet\\_flowers\\_nectar\\_pollen & diet\\_leaves\\_branches\\_bark\\_buds & diet\\_seeds & diet\\_grass\\_waterplants & diet\\_roots\\_tubers\\\\\n",
       "\\hline\n",
       "\tX1.Eurasian.Beaver & 0 & 0 & 0 & 0 & 1 & 0 & 1 & 1\\\\\n",
       "\tX101.Horse & 0 & 0 & 0 & 0 & 0 & 1 & 1 & 0\\\\\n",
       "\tX102.Kulan & 0 & 0 & 0 & 0 & 1 & 0 & 1 & 0\\\\\n",
       "\tX109.Red.Fox & 1 & 1 & 1 & 0 & 0 & 0 & 0 & 0\\\\\n",
       "\tX110.Noctule & 0 & 1 & 0 & 0 & 0 & 0 & 0 & 0\\\\\n",
       "\tX111.West.European.Hedgehog & 1 & 1 & 0 & 0 & 0 & 0 & 0 & 0\\\\\n",
       "\\end{tabular}\n"
      ],
      "text/markdown": [
       "\n",
       "| <!--/--> | diet_vertebrate | diet_invertebrate | diet_fruit | diet_flowers_nectar_pollen | diet_leaves_branches_bark_buds | diet_seeds | diet_grass_waterplants | diet_roots_tubers | \n",
       "|---|---|---|---|---|---|\n",
       "| X1.Eurasian.Beaver | 0 | 0 | 0 | 0 | 1 | 0 | 1 | 1 | \n",
       "| X101.Horse | 0 | 0 | 0 | 0 | 0 | 1 | 1 | 0 | \n",
       "| X102.Kulan | 0 | 0 | 0 | 0 | 1 | 0 | 1 | 0 | \n",
       "| X109.Red.Fox | 1 | 1 | 1 | 0 | 0 | 0 | 0 | 0 | \n",
       "| X110.Noctule | 0 | 1 | 0 | 0 | 0 | 0 | 0 | 0 | \n",
       "| X111.West.European.Hedgehog | 1 | 1 | 0 | 0 | 0 | 0 | 0 | 0 | \n",
       "\n",
       "\n"
      ],
      "text/plain": [
       "                            diet_vertebrate diet_invertebrate diet_fruit\n",
       "X1.Eurasian.Beaver          0               0                 0         \n",
       "X101.Horse                  0               0                 0         \n",
       "X102.Kulan                  0               0                 0         \n",
       "X109.Red.Fox                1               1                 1         \n",
       "X110.Noctule                0               1                 0         \n",
       "X111.West.European.Hedgehog 1               1                 0         \n",
       "                            diet_flowers_nectar_pollen\n",
       "X1.Eurasian.Beaver          0                         \n",
       "X101.Horse                  0                         \n",
       "X102.Kulan                  0                         \n",
       "X109.Red.Fox                0                         \n",
       "X110.Noctule                0                         \n",
       "X111.West.European.Hedgehog 0                         \n",
       "                            diet_leaves_branches_bark_buds diet_seeds\n",
       "X1.Eurasian.Beaver          1                              0         \n",
       "X101.Horse                  0                              1         \n",
       "X102.Kulan                  1                              0         \n",
       "X109.Red.Fox                0                              0         \n",
       "X110.Noctule                0                              0         \n",
       "X111.West.European.Hedgehog 0                              0         \n",
       "                            diet_grass_waterplants diet_roots_tubers\n",
       "X1.Eurasian.Beaver          1                      1                \n",
       "X101.Horse                  1                      0                \n",
       "X102.Kulan                  1                      0                \n",
       "X109.Red.Fox                0                      0                \n",
       "X110.Noctule                0                      0                \n",
       "X111.West.European.Hedgehog 0                      0                "
      ]
     },
     "metadata": {},
     "output_type": "display_data"
    }
   ],
   "source": [
    "dietD = metadata %>%\n",
    "    dplyr::select(X.SampleID, diet_vertebrate, diet_invertebrate, diet_fruit,\n",
    "                  diet_flowers_nectar_pollen, diet_leaves_branches_bark_buds, diet_seeds,\n",
    "                  diet_grass_waterplants, diet_roots_tubers) %>%\n",
    "    mutate(diet_invertebrate = gsub(' .+', '', diet_invertebrate) %>% as.factor) %>%\n",
    "    as.data.frame\n",
    "\n",
    "rownames(dietD) = dietD$X.SampleID\n",
    "dietD$X.SampleID = NULL\n",
    "\n",
    "cn = colnames(dietD)\n",
    "dietD = dietD %>% \n",
    "    apply(1, function(x) ifelse(x=='yes', 1, 0)) %>%\n",
    "    t %>% as.data.frame\n",
    "colnames(dietD) = cn\n",
    "\n",
    "# status\n",
    "dietD %>% head"
   ]
  },
  {
   "cell_type": "code",
   "execution_count": 14,
   "metadata": {
    "ExecuteTime": {
     "end_time": "2018-11-29T15:44:48.224497Z",
     "start_time": "2018-11-29T15:44:48.273Z"
    }
   },
   "outputs": [
    {
     "data": {
      "image/png": "[encoded data removed]",
      "text/plain": [
       "Plot with title “Cluster Dendrogram”"
      ]
     },
     "metadata": {},
     "output_type": "display_data"
    }
   ],
   "source": [
    "dietD_d = vegan::vegdist(dietD, metric='jaccard')\n",
    "\n",
    "options(repr.plot.width=9, repr.plot.height=4)\n",
    "plot(hclust(dietD_d), cex=0.4)"
   ]
  },
  {
   "cell_type": "markdown",
   "metadata": {},
   "source": [
    "## Digestive tract distance"
   ]
  },
  {
   "cell_type": "code",
   "execution_count": 15,
   "metadata": {
    "ExecuteTime": {
     "end_time": "2018-11-29T15:44:48.294713Z",
     "start_time": "2018-11-29T15:44:49.367Z"
    }
   },
   "outputs": [
    {
     "data": {
      "text/html": [
       "<table>\n",
       "<thead><tr><th></th><th scope=col>digestive_system</th><th scope=col>digestive_system_detail</th><th scope=col>ruminant</th><th scope=col>pseudoruminants</th></tr></thead>\n",
       "<tbody>\n",
       "\t<tr><th scope=row>X1.Eurasian.Beaver</th><td>hindgut</td><td>hindgut</td><td>no     </td><td>no     </td></tr>\n",
       "\t<tr><th scope=row>X101.Horse</th><td>hindgut</td><td>hindgut</td><td>no     </td><td>no     </td></tr>\n",
       "\t<tr><th scope=row>X102.Kulan</th><td>hindgut</td><td>hindgut</td><td>no     </td><td>no     </td></tr>\n",
       "\t<tr><th scope=row>X109.Red.Fox</th><td>simple </td><td>simple </td><td>no     </td><td>no     </td></tr>\n",
       "\t<tr><th scope=row>X110.Noctule</th><td>NA     </td><td>NA     </td><td>no     </td><td>no     </td></tr>\n",
       "\t<tr><th scope=row>X111.West.European.Hedgehog</th><td>simple </td><td>simple </td><td>no     </td><td>no     </td></tr>\n",
       "</tbody>\n",
       "</table>\n"
      ],
      "text/latex": [
       "\\begin{tabular}{r|llll}\n",
       "  & digestive\\_system & digestive\\_system\\_detail & ruminant & pseudoruminants\\\\\n",
       "\\hline\n",
       "\tX1.Eurasian.Beaver & hindgut & hindgut & no      & no     \\\\\n",
       "\tX101.Horse & hindgut & hindgut & no      & no     \\\\\n",
       "\tX102.Kulan & hindgut & hindgut & no      & no     \\\\\n",
       "\tX109.Red.Fox & simple  & simple  & no      & no     \\\\\n",
       "\tX110.Noctule & NA      & NA      & no      & no     \\\\\n",
       "\tX111.West.European.Hedgehog & simple  & simple  & no      & no     \\\\\n",
       "\\end{tabular}\n"
      ],
      "text/markdown": [
       "\n",
       "| <!--/--> | digestive_system | digestive_system_detail | ruminant | pseudoruminants | \n",
       "|---|---|---|---|---|---|\n",
       "| X1.Eurasian.Beaver | hindgut | hindgut | no      | no      | \n",
       "| X101.Horse | hindgut | hindgut | no      | no      | \n",
       "| X102.Kulan | hindgut | hindgut | no      | no      | \n",
       "| X109.Red.Fox | simple  | simple  | no      | no      | \n",
       "| X110.Noctule | NA      | NA      | no      | no      | \n",
       "| X111.West.European.Hedgehog | simple  | simple  | no      | no      | \n",
       "\n",
       "\n"
      ],
      "text/plain": [
       "                            digestive_system digestive_system_detail ruminant\n",
       "X1.Eurasian.Beaver          hindgut          hindgut                 no      \n",
       "X101.Horse                  hindgut          hindgut                 no      \n",
       "X102.Kulan                  hindgut          hindgut                 no      \n",
       "X109.Red.Fox                simple           simple                  no      \n",
       "X110.Noctule                NA               NA                      no      \n",
       "X111.West.European.Hedgehog simple           simple                  no      \n",
       "                            pseudoruminants\n",
       "X1.Eurasian.Beaver          no             \n",
       "X101.Horse                  no             \n",
       "X102.Kulan                  no             \n",
       "X109.Red.Fox                no             \n",
       "X110.Noctule                no             \n",
       "X111.West.European.Hedgehog no             "
      ]
     },
     "metadata": {},
     "output_type": "display_data"
    }
   ],
   "source": [
    "dtD = metadata %>%\n",
    "    distinct(X.SampleID, .keep_all=TRUE) %>%\n",
    "    dplyr::select(X.SampleID, \n",
    "                  digestive_system, digestive_system_detail, \n",
    "                  ruminant, pseudoruminants) %>%\n",
    "    mutate(digestive_system = gsub('_', ' ', digestive_system),\n",
    "           digestive_system_detail = gsub('^_', '', digestive_system_detail),\n",
    "           digestive_system_detail = gsub('_', ' ', digestive_system_detail),\n",
    "           digestive_system_detail = gsub(' +', ' ', digestive_system_detail)) %>%\n",
    "    mutate(digestive_system = digestive_system %>% as.factor,\n",
    "           digestive_system_detail = digestive_system_detail %>% as.factor) %>%\n",
    "    as.data.frame\n",
    "\n",
    "rownames(dtD) = dtD$X.SampleID\n",
    "dtD$X.SampleID = NULL\n",
    "\n",
    "dtD %>% head"
   ]
  },
  {
   "cell_type": "code",
   "execution_count": 16,
   "metadata": {
    "ExecuteTime": {
     "end_time": "2018-11-29T15:44:49.959096Z",
     "start_time": "2018-11-29T15:44:51.564Z"
    }
   },
   "outputs": [
    {
     "data": {
      "image/png": "[encoded data removed]",
      "text/plain": [
       "Plot with title “Cluster Dendrogram”"
      ]
     },
     "metadata": {},
     "output_type": "display_data"
    }
   ],
   "source": [
    "dtD_d = cluster::daisy(dtD, metric='gower')\n",
    "\n",
    "options(repr.plot.height=5, repr.plot.width=14)\n",
    "plot(hclust(dtD_d), cex=0.4)"
   ]
  },
  {
   "cell_type": "markdown",
   "metadata": {},
   "source": [
    "## Habitat distance\n",
    "\n",
    "* Gower distance on `habitat_detail`"
   ]
  },
  {
   "cell_type": "code",
   "execution_count": 17,
   "metadata": {
    "ExecuteTime": {
     "end_time": "2018-11-29T15:44:50.005159Z",
     "start_time": "2018-11-29T15:44:51.824Z"
    }
   },
   "outputs": [
    {
     "name": "stdout",
     "output_type": "stream",
     "text": [
      ".\n",
      "anthropogenic habitat    cultivated habitat    freshwater habitat \n",
      "                   11                    10                     9 \n",
      "            grassland  saline water habitat   terrestrial habitat \n",
      "                   33                     7                    95 \n",
      "             woodland \n",
      "                   48 \n",
      ".\n",
      "anthropogenic habitat    cultivated habitat                forest \n",
      "                   11                    10                    48 \n",
      "   freshwater habitat             grassland        marine habitat \n",
      "                    9                     2                     7 \n",
      "               meadow               pasture                steppe \n",
      "                   15                     4                    12 \n",
      "  terrestrial habitat \n",
      "                   95 \n",
      ".\n",
      "anthropogenic habitat    cultivated habitat          flood meadow \n",
      "                   11                    10                    15 \n",
      "               forest    freshwater habitat             grassland \n",
      "                   48                     9                     2 \n",
      "       marine habitat               pasture                steppe \n",
      "                    7                     4                    12 \n",
      "  terrestrial habitat \n",
      "                   95 \n"
     ]
    }
   ],
   "source": [
    "metadata$habitat_detail %>% table %>% print\n",
    "metadata$habitat_detail_1 %>% table %>% print\n",
    "metadata$habitat_detail_2 %>% table %>% print"
   ]
  },
  {
   "cell_type": "code",
   "execution_count": 18,
   "metadata": {
    "ExecuteTime": {
     "end_time": "2018-11-29T15:44:50.068540Z",
     "start_time": "2018-11-29T15:44:51.937Z"
    }
   },
   "outputs": [
    {
     "name": "stdout",
     "output_type": "stream",
     "text": [
      "[1] 213   3\n"
     ]
    },
    {
     "data": {
      "text/html": [
       "<table>\n",
       "<thead><tr><th></th><th scope=col>habitat_detail</th><th scope=col>habitat_detail_1</th><th scope=col>habitat_detail_2</th></tr></thead>\n",
       "<tbody>\n",
       "\t<tr><th scope=row>X1.Eurasian.Beaver</th><td>terrestrial habitat</td><td>terrestrial habitat</td><td>terrestrial habitat</td></tr>\n",
       "\t<tr><th scope=row>X101.Horse</th><td>grassland          </td><td>pasture            </td><td>pasture            </td></tr>\n",
       "\t<tr><th scope=row>X102.Kulan</th><td>grassland          </td><td>steppe             </td><td>steppe             </td></tr>\n",
       "</tbody>\n",
       "</table>\n"
      ],
      "text/latex": [
       "\\begin{tabular}{r|lll}\n",
       "  & habitat\\_detail & habitat\\_detail\\_1 & habitat\\_detail\\_2\\\\\n",
       "\\hline\n",
       "\tX1.Eurasian.Beaver & terrestrial habitat & terrestrial habitat & terrestrial habitat\\\\\n",
       "\tX101.Horse & grassland           & pasture             & pasture            \\\\\n",
       "\tX102.Kulan & grassland           & steppe              & steppe             \\\\\n",
       "\\end{tabular}\n"
      ],
      "text/markdown": [
       "\n",
       "| <!--/--> | habitat_detail | habitat_detail_1 | habitat_detail_2 | \n",
       "|---|---|---|\n",
       "| X1.Eurasian.Beaver | terrestrial habitat | terrestrial habitat | terrestrial habitat | \n",
       "| X101.Horse | grassland           | pasture             | pasture             | \n",
       "| X102.Kulan | grassland           | steppe              | steppe              | \n",
       "\n",
       "\n"
      ],
      "text/plain": [
       "                   habitat_detail      habitat_detail_1    habitat_detail_2   \n",
       "X1.Eurasian.Beaver terrestrial habitat terrestrial habitat terrestrial habitat\n",
       "X101.Horse         grassland           pasture             pasture            \n",
       "X102.Kulan         grassland           steppe              steppe             "
      ]
     },
     "metadata": {},
     "output_type": "display_data"
    }
   ],
   "source": [
    "habitatD = metadata %>%\n",
    "    dplyr::select(X.SampleID, habitat_detail, habitat_detail_1, habitat_detail_2) %>%\n",
    "    as.data.frame\n",
    "\n",
    "rownames(habitatD) = habitatD$X.SampleID\n",
    "habitatD$X.SampleID = NULL\n",
    "\n",
    "habitatD %>% dfhead"
   ]
  },
  {
   "cell_type": "code",
   "execution_count": 19,
   "metadata": {
    "ExecuteTime": {
     "end_time": "2018-11-29T15:44:50.478877Z",
     "start_time": "2018-11-29T15:44:52.075Z"
    }
   },
   "outputs": [
    {
     "data": {
      "image/png": "[encoded data removed]",
      "text/plain": [
       "Plot with title “Cluster Dendrogram”"
      ]
     },
     "metadata": {},
     "output_type": "display_data"
    }
   ],
   "source": [
    "habitatD_d = cluster::daisy(habitatD, metric='gower') \n",
    "\n",
    "options(repr.plot.height=5, repr.plot.width=14)\n",
    "plot(hclust(habitatD_d), cex=0.4)"
   ]
  },
  {
   "cell_type": "markdown",
   "metadata": {},
   "source": [
    "## Geographic distance"
   ]
  },
  {
   "cell_type": "code",
   "execution_count": 20,
   "metadata": {
    "ExecuteTime": {
     "end_time": "2018-11-29T15:44:50.782087Z",
     "start_time": "2018-11-29T15:44:52.686Z"
    }
   },
   "outputs": [
    {
     "name": "stdout",
     "output_type": "stream",
     "text": [
      "   Min. 1st Qu.  Median    Mean 3rd Qu.    Max. \n",
      " -35.83   20.32   47.76   33.32   48.21   55.29 \n",
      "   Min. 1st Qu.  Median    Mean 3rd Qu.    Max. \n",
      " -84.10   15.61   16.37   26.70   19.05  140.12 \n",
      "[1] 213   3\n"
     ]
    },
    {
     "data": {
      "text/html": [
       "<table>\n",
       "<thead><tr><th></th><th scope=col>X.SampleID</th><th scope=col>latitude</th><th scope=col>longitude</th></tr></thead>\n",
       "<tbody>\n",
       "\t<tr><th scope=row>X1.Eurasian.Beaver</th><td>X1.Eurasian.Beaver</td><td>48.47611          </td><td>16.58389          </td></tr>\n",
       "\t<tr><th scope=row>X101.Horse</th><td>X101.Horse        </td><td>48.78333          </td><td>15.06667          </td></tr>\n",
       "\t<tr><th scope=row>X102.Kulan</th><td>X102.Kulan        </td><td>43.70759          </td><td>98.34961          </td></tr>\n",
       "</tbody>\n",
       "</table>\n"
      ],
      "text/latex": [
       "\\begin{tabular}{r|lll}\n",
       "  & X.SampleID & latitude & longitude\\\\\n",
       "\\hline\n",
       "\tX1.Eurasian.Beaver & X1.Eurasian.Beaver & 48.47611           & 16.58389          \\\\\n",
       "\tX101.Horse & X101.Horse         & 48.78333           & 15.06667          \\\\\n",
       "\tX102.Kulan & X102.Kulan         & 43.70759           & 98.34961          \\\\\n",
       "\\end{tabular}\n"
      ],
      "text/markdown": [
       "\n",
       "| <!--/--> | X.SampleID | latitude | longitude | \n",
       "|---|---|---|\n",
       "| X1.Eurasian.Beaver | X1.Eurasian.Beaver | 48.47611           | 16.58389           | \n",
       "| X101.Horse | X101.Horse         | 48.78333           | 15.06667           | \n",
       "| X102.Kulan | X102.Kulan         | 43.70759           | 98.34961           | \n",
       "\n",
       "\n"
      ],
      "text/plain": [
       "                   X.SampleID         latitude longitude\n",
       "X1.Eurasian.Beaver X1.Eurasian.Beaver 48.47611 16.58389 \n",
       "X101.Horse         X101.Horse         48.78333 15.06667 \n",
       "X102.Kulan         X102.Kulan         43.70759 98.34961 "
      ]
     },
     "metadata": {},
     "output_type": "display_data"
    }
   ],
   "source": [
    "geo = metadata %>% \n",
    "    dplyr::select(X.SampleID, latitude, longitude) %>%\n",
    "    mutate(latitude = latitude %>% as.Num,\n",
    "           longitude = longitude %>% as.Num) %>%\n",
    "    as.data.frame\n",
    "\n",
    "rownames(geo) = geo$X.SampleID\n",
    "\n",
    "geo$latitude %>% summary %>% print\n",
    "geo$longitude %>% summary %>% print\n",
    "geo %>% dfhead    "
   ]
  },
  {
   "cell_type": "code",
   "execution_count": 21,
   "metadata": {
    "ExecuteTime": {
     "end_time": "2018-11-29T15:44:55.623936Z",
     "start_time": "2018-11-29T15:44:52.953Z"
    }
   },
   "outputs": [
    {
     "data": {
      "image/png": "[encoded data removed]",
      "text/plain": [
       "Plot with title “Cluster Dendrogram”"
      ]
     },
     "metadata": {},
     "output_type": "display_data"
    }
   ],
   "source": [
    ".pairwise_distGeo = function(x, y){\n",
    "    d = geosphere::distGeo(x[c('longitude', 'latitude')],\n",
    "                           y[,c('longitude', 'latitude')])\n",
    "    return(d)\n",
    "}\n",
    "\n",
    "pairwise_distGeo = function(df){\n",
    "    x = df[,c('longitude', 'latitude')]\n",
    "    geo_d = apply(x, 1, .pairwise_distGeo, y=x)\n",
    "    rescale_dist_mtx(as.dist(geo_d))\n",
    "}\n",
    "\n",
    "geo_d = pairwise_distGeo(geo)\n",
    "\n",
    "options(repr.plot.height=5, repr.plot.width=14)\n",
    "plot(hclust(geo_d), cex=0.4)"
   ]
  },
  {
   "cell_type": "markdown",
   "metadata": {},
   "source": [
    "## Sampling details distance\n",
    "\n",
    "* Gower distance of sampling methodology\n",
    "  * assessing variance explained by technical factors"
   ]
  },
  {
   "cell_type": "code",
   "execution_count": 22,
   "metadata": {
    "ExecuteTime": {
     "end_time": "2018-11-29T15:44:55.679909Z",
     "start_time": "2018-11-29T15:44:53.363Z"
    }
   },
   "outputs": [
    {
     "name": "stdout",
     "output_type": "stream",
     "text": [
      "[1] 213   3\n"
     ]
    },
    {
     "data": {
      "text/html": [
       "<table>\n",
       "<thead><tr><th></th><th scope=col>sampling_method</th><th scope=col>captive_wild</th><th scope=col>wild_domesticated</th></tr></thead>\n",
       "<tbody>\n",
       "\t<tr><th scope=row>X1.Eurasian.Beaver</th><td>feces sampling</td><td>wild          </td><td>wild          </td></tr>\n",
       "\t<tr><th scope=row>X101.Horse</th><td>feces sampling</td><td>captive       </td><td>domesticated  </td></tr>\n",
       "\t<tr><th scope=row>X102.Kulan</th><td>feces sampling</td><td>wild          </td><td>wild          </td></tr>\n",
       "</tbody>\n",
       "</table>\n"
      ],
      "text/latex": [
       "\\begin{tabular}{r|lll}\n",
       "  & sampling\\_method & captive\\_wild & wild\\_domesticated\\\\\n",
       "\\hline\n",
       "\tX1.Eurasian.Beaver & feces sampling & wild           & wild          \\\\\n",
       "\tX101.Horse & feces sampling & captive        & domesticated  \\\\\n",
       "\tX102.Kulan & feces sampling & wild           & wild          \\\\\n",
       "\\end{tabular}\n"
      ],
      "text/markdown": [
       "\n",
       "| <!--/--> | sampling_method | captive_wild | wild_domesticated | \n",
       "|---|---|---|\n",
       "| X1.Eurasian.Beaver | feces sampling | wild           | wild           | \n",
       "| X101.Horse | feces sampling | captive        | domesticated   | \n",
       "| X102.Kulan | feces sampling | wild           | wild           | \n",
       "\n",
       "\n"
      ],
      "text/plain": [
       "                   sampling_method captive_wild wild_domesticated\n",
       "X1.Eurasian.Beaver feces sampling  wild         wild             \n",
       "X101.Horse         feces sampling  captive      domesticated     \n",
       "X102.Kulan         feces sampling  wild         wild             "
      ]
     },
     "metadata": {},
     "output_type": "display_data"
    }
   ],
   "source": [
    "x = metadata$sampling_method %>% unique %>% as.vector\n",
    "samp = metadata %>% \n",
    "    dplyr::select(X.SampleID, sampling_method, captive_wild, wild_domesticated) \n",
    "\n",
    "rownames(samp) = samp$X.SampleID\n",
    "samp$X.SampleID = NULL\n",
    "\n",
    "samp %>% dfhead"
   ]
  },
  {
   "cell_type": "code",
   "execution_count": 23,
   "metadata": {
    "ExecuteTime": {
     "end_time": "2018-11-29T15:44:55.709072Z",
     "start_time": "2018-11-29T15:44:53.520Z"
    }
   },
   "outputs": [
    {
     "data": {
      "text/plain": [
       "             sampling_method  captive_wild    wild_domesticated\n",
       " dried feces sampling:  7    captive: 39   domesticated: 17    \n",
       " feces sampling      :179    human  :  4   wild        :196    \n",
       " gut section         : 14    wild   :170                       \n",
       " swab                : 13                                      "
      ]
     },
     "metadata": {},
     "output_type": "display_data"
    }
   ],
   "source": [
    "# summary\n",
    "samp %>% summary"
   ]
  },
  {
   "cell_type": "code",
   "execution_count": 24,
   "metadata": {
    "ExecuteTime": {
     "end_time": "2018-11-29T15:44:56.071449Z",
     "start_time": "2018-11-29T15:44:53.667Z"
    }
   },
   "outputs": [
    {
     "data": {
      "image/png": "[encoded data removed]",
      "text/plain": [
       "Plot with title “Cluster Dendrogram”"
      ]
     },
     "metadata": {},
     "output_type": "display_data"
    }
   ],
   "source": [
    "# distance matrix\n",
    "samp_d = cluster::daisy(samp, metric='gower') \n",
    "\n",
    "options(repr.plot.height=5, repr.plot.width=14)\n",
    "plot(hclust(samp_d), cex=0.4)"
   ]
  },
  {
   "cell_type": "markdown",
   "metadata": {},
   "source": [
    "# Order matrices"
   ]
  },
  {
   "cell_type": "code",
   "execution_count": 25,
   "metadata": {
    "ExecuteTime": {
     "end_time": "2018-11-29T15:44:56.157064Z",
     "start_time": "2018-11-29T15:44:53.936Z"
    }
   },
   "outputs": [
    {
     "data": {
      "text/html": [
       "<ol class=list-inline>\n",
       "\t<li>'pielou_e'</li>\n",
       "\t<li>'observed_otus'</li>\n",
       "\t<li>'shannon'</li>\n",
       "\t<li>'faith_pd'</li>\n",
       "</ol>\n"
      ],
      "text/latex": [
       "\\begin{enumerate*}\n",
       "\\item 'pielou\\_e'\n",
       "\\item 'observed\\_otus'\n",
       "\\item 'shannon'\n",
       "\\item 'faith\\_pd'\n",
       "\\end{enumerate*}\n"
      ],
      "text/markdown": [
       "1. 'pielou_e'\n",
       "2. 'observed_otus'\n",
       "3. 'shannon'\n",
       "4. 'faith_pd'\n",
       "\n",
       "\n"
      ],
      "text/plain": [
       "[1] \"pielou_e\"      \"observed_otus\" \"shannon\"       \"faith_pd\"     "
      ]
     },
     "metadata": {},
     "output_type": "display_data"
    }
   ],
   "source": [
    "# beta-div labels\n",
    "alpha_div %>% labels"
   ]
  },
  {
   "cell_type": "code",
   "execution_count": 26,
   "metadata": {
    "ExecuteTime": {
     "end_time": "2018-11-29T15:44:56.247515Z",
     "start_time": "2018-11-29T15:44:54.083Z"
    }
   },
   "outputs": [],
   "source": [
    "# ordering by beta-div metrix\n",
    "X = labels(alpha_div$shannon)\n",
    "host_tree_d_o = dist_mtx_order(host_tree_d, X)\n",
    "dietD_d_o = dist_mtx_order(dietD_d, X)\n",
    "habitatD_d_o = dist_mtx_order(habitatD_d, X)\n",
    "geo_d_o = dist_mtx_order(geo_d, X)\n",
    "samp_d_o = dist_mtx_order(samp_d, X)\n",
    "dtD_d_o = dist_mtx_order(dtD_d, X)"
   ]
  },
  {
   "cell_type": "code",
   "execution_count": 27,
   "metadata": {
    "ExecuteTime": {
     "end_time": "2018-11-29T15:44:56.279646Z",
     "start_time": "2018-11-29T15:44:54.229Z"
    }
   },
   "outputs": [
    {
     "name": "stdout",
     "output_type": "stream",
     "text": [
      "[1] 213\n",
      "[1] 213\n"
     ]
    }
   ],
   "source": [
    "# check\n",
    "X %>% length %>% print\n",
    "dtD_d_o %>% labels %>% length %>% print"
   ]
  },
  {
   "cell_type": "markdown",
   "metadata": {},
   "source": [
    "# MRM intra-spec sensitivity\n",
    "\n",
    "* removing individuals/clades and assessing change in coef."
   ]
  },
  {
   "cell_type": "code",
   "execution_count": 28,
   "metadata": {
    "ExecuteTime": {
     "end_time": "2018-11-29T15:44:56.307250Z",
     "start_time": "2018-11-29T15:44:54.512Z"
    }
   },
   "outputs": [],
   "source": [
    "# number of permutated SpecD datasetst\n",
    "nperm_datasets = 100\n",
    "# number of permutations per MRM analysis\n",
    "nperm = 1000"
   ]
  },
  {
   "cell_type": "markdown",
   "metadata": {},
   "source": [
    "## Functions"
   ]
  },
  {
   "cell_type": "code",
   "execution_count": 29,
   "metadata": {
    "ExecuteTime": {
     "end_time": "2018-11-29T15:44:56.331252Z",
     "start_time": "2018-11-29T15:44:54.819Z"
    }
   },
   "outputs": [],
   "source": [
    "#' randomly selecting one per group\n",
    "#' L : list of distance matrixes used for MRM\n",
    "#' df_grps : data.frame (sample, group)\n",
    "one_per_group = function(L, df_grps, ...){\n",
    "    # get subsample\n",
    "    colnames(df_grps) = c('Sample', 'Group')\n",
    "    df_grps = df_grps %>%\n",
    "        group_by(Group) %>%\n",
    "        sample_n(1)\n",
    "    # subsetting all matrices\n",
    "    lapply(L, function(x) dist_mtx_order(x, df_grps$Sample))\n",
    "}"
   ]
  },
  {
   "cell_type": "code",
   "execution_count": 30,
   "metadata": {
    "ExecuteTime": {
     "end_time": "2018-11-29T15:44:56.355800Z",
     "start_time": "2018-11-29T15:44:55.485Z"
    }
   },
   "outputs": [],
   "source": [
    "#' MRM on one subsample rep\n",
    "#' i : rep number\n",
    "#' L : list of list of distance matrices generated by `one_per_group()`\n",
    "# nperm : nperm function for MRM\n",
    "# f : MRM fomulat\n",
    "mrm_each = function(i, L, f, nperm=99){\n",
    "    m = L[[i]]\n",
    "    f = as.formula(f)\n",
    "    x = ecodist::MRM(f, nperm=nperm, mrank=TRUE)\n",
    "    # coefficients\n",
    "    df = x$coef %>% as.data.frame\n",
    "    colnames(df) = c('coef', 'coef_pval')\n",
    "    df$variable = rownames(df)\n",
    "    df$R2 = x$r.squared[1]\n",
    "    df$pval = x$r.squared[2]\n",
    "    df$F = x$F.test[1]\n",
    "    df$rep = i\n",
    "    return(df)\n",
    "}"
   ]
  },
  {
   "cell_type": "code",
   "execution_count": 31,
   "metadata": {
    "ExecuteTime": {
     "end_time": "2018-11-29T15:44:56.380515Z",
     "start_time": "2018-11-29T15:44:55.609Z"
    }
   },
   "outputs": [],
   "source": [
    "# renaming output\n",
    "rename_df = data.frame(old_name = c('m$diet', 'm$digest', 'm$geo', 'm$habitat', 'm$host_phy', 'm$samp'),\n",
    "                       new_name = c('Diet', 'Digestive\\nsystem', 'Geography', 'Habitat', 'Phylogeny', 'Technical'))"
   ]
  },
  {
   "cell_type": "markdown",
   "metadata": {},
   "source": [
    "## One per species"
   ]
  },
  {
   "cell_type": "code",
   "execution_count": 32,
   "metadata": {
    "ExecuteTime": {
     "end_time": "2018-11-29T15:44:56.448229Z",
     "start_time": "2018-11-29T15:44:56.059Z"
    }
   },
   "outputs": [
    {
     "name": "stdout",
     "output_type": "stream",
     "text": [
      "[1] 213   2\n"
     ]
    },
    {
     "data": {
      "text/html": [
       "<table>\n",
       "<thead><tr><th scope=col>X.SampleID</th><th scope=col>scientific_name</th></tr></thead>\n",
       "<tbody>\n",
       "\t<tr><td>X1.Eurasian.Beaver</td><td>Castor_fiber      </td></tr>\n",
       "\t<tr><td>X101.Horse        </td><td>Equus_caballus    </td></tr>\n",
       "\t<tr><td>X102.Kulan        </td><td>Equus_hemionus    </td></tr>\n",
       "</tbody>\n",
       "</table>\n"
      ],
      "text/latex": [
       "\\begin{tabular}{r|ll}\n",
       " X.SampleID & scientific\\_name\\\\\n",
       "\\hline\n",
       "\t X1.Eurasian.Beaver & Castor\\_fiber    \\\\\n",
       "\t X101.Horse         & Equus\\_caballus  \\\\\n",
       "\t X102.Kulan         & Equus\\_hemionus  \\\\\n",
       "\\end{tabular}\n"
      ],
      "text/markdown": [
       "\n",
       "X.SampleID | scientific_name | \n",
       "|---|---|---|\n",
       "| X1.Eurasian.Beaver | Castor_fiber       | \n",
       "| X101.Horse         | Equus_caballus     | \n",
       "| X102.Kulan         | Equus_hemionus     | \n",
       "\n",
       "\n"
      ],
      "text/plain": [
       "  X.SampleID         scientific_name\n",
       "1 X1.Eurasian.Beaver Castor_fiber   \n",
       "2 X101.Horse         Equus_caballus \n",
       "3 X102.Kulan         Equus_hemionus "
      ]
     },
     "metadata": {},
     "output_type": "display_data"
    }
   ],
   "source": [
    "# grouping samples by species\n",
    "df_grps = metadata %>% \n",
    "    filter(X.SampleID %in% labels(dietD_d_o)) %>%\n",
    "    dplyr::select(X.SampleID, scientific_name)\n",
    "df_grps %>% dfhead"
   ]
  },
  {
   "cell_type": "markdown",
   "metadata": {},
   "source": [
    "### Faith's PD"
   ]
  },
  {
   "cell_type": "code",
   "execution_count": 33,
   "metadata": {
    "ExecuteTime": {
     "end_time": "2018-11-29T15:45:01.659312Z",
     "start_time": "2018-11-29T15:44:56.330Z"
    }
   },
   "outputs": [
    {
     "data": {
      "text/html": [
       "100"
      ],
      "text/latex": [
       "100"
      ],
      "text/markdown": [
       "100"
      ],
      "text/plain": [
       "[1] 100"
      ]
     },
     "metadata": {},
     "output_type": "display_data"
    }
   ],
   "source": [
    "# creating subsample permutations of the distance matrices\n",
    "L = list(alpha = alpha_div$faith_pd,\n",
    "         host_phy = host_tree_d_o,\n",
    "         diet = dietD_d_o,\n",
    "         digest = dtD_d_o, \n",
    "         habitat = habitatD_d_o,\n",
    "         geo = geo_d_o,\n",
    "         samp = samp_d_o)\n",
    "\n",
    "m_perm = lapply(as.list(1:nperm_datasets), function(x) one_per_group(L, df_grps, x))\n",
    "m_perm %>% length           "
   ]
  },
  {
   "cell_type": "code",
   "execution_count": 34,
   "metadata": {
    "ExecuteTime": {
     "end_time": "2018-11-29T15:45:01.689208Z",
     "start_time": "2018-11-29T15:44:56.465Z"
    }
   },
   "outputs": [
    {
     "data": {
      "text/html": [
       "<ol class=list-inline>\n",
       "\t<li>128</li>\n",
       "\t<li>128</li>\n",
       "</ol>\n"
      ],
      "text/latex": [
       "\\begin{enumerate*}\n",
       "\\item 128\n",
       "\\item 128\n",
       "\\end{enumerate*}\n"
      ],
      "text/markdown": [
       "1. 128\n",
       "2. 128\n",
       "\n",
       "\n"
      ],
      "text/plain": [
       "[1] 128 128"
      ]
     },
     "metadata": {},
     "output_type": "display_data"
    }
   ],
   "source": [
    "# check on sample size\n",
    "m_perm[[1]][[1]] %>% as.matrix %>% dim"
   ]
  },
  {
   "cell_type": "markdown",
   "metadata": {},
   "source": [
    "#### Model 1"
   ]
  },
  {
   "cell_type": "code",
   "execution_count": 35,
   "metadata": {
    "ExecuteTime": {
     "end_time": "2018-11-29T15:45:07.436625Z",
     "start_time": "2018-11-29T15:44:56.762Z"
    }
   },
   "outputs": [
    {
     "name": "stdout",
     "output_type": "stream",
     "text": [
      "[1] 700   7\n"
     ]
    },
    {
     "data": {
      "text/html": [
       "<table>\n",
       "<thead><tr><th></th><th scope=col>coef</th><th scope=col>coef_pval</th><th scope=col>variable</th><th scope=col>R2</th><th scope=col>pval</th><th scope=col>F</th><th scope=col>rep</th></tr></thead>\n",
       "<tbody>\n",
       "\t<tr><th scope=row>Int</th><td>2.045939e+03</td><td>1.000       </td><td>Int         </td><td>0.1536812   </td><td>0.001       </td><td>245.7792    </td><td>1           </td></tr>\n",
       "\t<tr><th scope=row>m$host_phy</th><td>7.096248e-03</td><td>0.839       </td><td>m$host_phy  </td><td>0.1536812   </td><td>0.001       </td><td>245.7792    </td><td>1           </td></tr>\n",
       "\t<tr><th scope=row>m$diet</th><td>2.382463e-01</td><td>0.001       </td><td>m$diet      </td><td>0.1536812   </td><td>0.001       </td><td>245.7792    </td><td>1           </td></tr>\n",
       "</tbody>\n",
       "</table>\n"
      ],
      "text/latex": [
       "\\begin{tabular}{r|lllllll}\n",
       "  & coef & coef\\_pval & variable & R2 & pval & F & rep\\\\\n",
       "\\hline\n",
       "\tInt & 2.045939e+03 & 1.000        & Int          & 0.1536812    & 0.001        & 245.7792     & 1           \\\\\n",
       "\tm\\$host\\_phy & 7.096248e-03   & 0.839          & m\\$host\\_phy & 0.1536812      & 0.001          & 245.7792       & 1             \\\\\n",
       "\tm\\$diet & 2.382463e-01 & 0.001        & m\\$diet     & 0.1536812    & 0.001        & 245.7792     & 1           \\\\\n",
       "\\end{tabular}\n"
      ],
      "text/markdown": [
       "\n",
       "| <!--/--> | coef | coef_pval | variable | R2 | pval | F | rep | \n",
       "|---|---|---|\n",
       "| Int | 2.045939e+03 | 1.000        | Int          | 0.1536812    | 0.001        | 245.7792     | 1            | \n",
       "| m$host_phy | 7.096248e-03 | 0.839        | m$host_phy   | 0.1536812    | 0.001        | 245.7792     | 1            | \n",
       "| m$diet | 2.382463e-01 | 0.001        | m$diet       | 0.1536812    | 0.001        | 245.7792     | 1            | \n",
       "\n",
       "\n"
      ],
      "text/plain": [
       "           coef         coef_pval variable   R2        pval  F        rep\n",
       "Int        2.045939e+03 1.000     Int        0.1536812 0.001 245.7792 1  \n",
       "m$host_phy 7.096248e-03 0.839     m$host_phy 0.1536812 0.001 245.7792 1  \n",
       "m$diet     2.382463e-01 0.001     m$diet     0.1536812 0.001 245.7792 1  "
      ]
     },
     "metadata": {},
     "output_type": "display_data"
    }
   ],
   "source": [
    "doParallel::registerDoParallel(threads)\n",
    "x = as.list(1:length(m_perm))\n",
    "f = 'm$alpha ~ m$host_phy + m$diet + m$digest + m$habitat + m$geo + m$samp'\n",
    "mrm_res = plyr::llply(x, mrm_each, L=m_perm, f=f, nperm=nperm, .parallel=TRUE)\n",
    "mrm_res = do.call(rbind, mrm_res)\n",
    "mrm_res %>% dfhead"
   ]
  },
  {
   "cell_type": "code",
   "execution_count": 36,
   "metadata": {
    "ExecuteTime": {
     "end_time": "2018-11-29T15:45:07.530619Z",
     "start_time": "2018-11-29T15:44:56.915Z"
    }
   },
   "outputs": [
    {
     "data": {
      "text/plain": [
       "       R2              pval            rep        \n",
       " Min.   :0.1160   Min.   :0.001   Min.   :  1.00  \n",
       " 1st Qu.:0.1377   1st Qu.:0.001   1st Qu.: 25.75  \n",
       " Median :0.1501   Median :0.001   Median : 50.50  \n",
       " Mean   :0.1492   Mean   :0.001   Mean   : 50.50  \n",
       " 3rd Qu.:0.1574   3rd Qu.:0.001   3rd Qu.: 75.25  \n",
       " Max.   :0.1956   Max.   :0.001   Max.   :100.00  "
      ]
     },
     "metadata": {},
     "output_type": "display_data"
    }
   ],
   "source": [
    "# summary of overall model\n",
    "mrm_res %>%\n",
    "    distinct(R2, pval, rep) %>%\n",
    "    summary"
   ]
  },
  {
   "cell_type": "code",
   "execution_count": 37,
   "metadata": {
    "ExecuteTime": {
     "end_time": "2018-11-29T15:45:10.541002Z",
     "start_time": "2018-11-29T15:44:57.056Z"
    }
   },
   "outputs": [
    {
     "name": "stderr",
     "output_type": "stream",
     "text": [
      "Warning message:\n",
      "“Column `variable`/`old_name` joining character vector and factor, coercing into character vector”"
     ]
    },
    {
     "data": {
      "image/png": "[encoded data removed]",
      "text/plain": [
       "plot without title"
      ]
     },
     "metadata": {},
     "output_type": "display_data"
    }
   ],
   "source": [
    "mrm_res_s = mrm_res %>% \n",
    "    filter(variable != 'Int') %>%\n",
    "    gather(category, value, -variable, -R2, -pval, -F, -rep) %>%\n",
    "    mutate(category = ifelse(category == 'coef', 'Coef.', 'Adj. P-value'))\n",
    "\n",
    "mrm_res_s = mrm_res_s %>%\n",
    "    inner_join(rename_df, c('variable'='old_name')) %>%\n",
    "    dplyr::select(-variable) %>%\n",
    "    rename('variable' = new_name)             \n",
    "\n",
    "p = ggplot(mrm_res_s, aes(variable, value)) +\n",
    "    geom_boxplot() +\n",
    "    facet_grid(category ~ ., scales='free_y') +\n",
    "    theme_bw()\n",
    "\n",
    "options(repr.plot.width=5, repr.plot.height=3)\n",
    "plot(p)"
   ]
  },
  {
   "cell_type": "code",
   "execution_count": 38,
   "metadata": {
    "ExecuteTime": {
     "end_time": "2018-11-29T15:45:10.583592Z",
     "start_time": "2018-11-29T15:44:57.203Z"
    }
   },
   "outputs": [
    {
     "data": {
      "text/html": [
       "<table>\n",
       "<thead><tr><th scope=col>variable</th><th scope=col>pval_sensitivity</th><th scope=col>sig_pval_sensitivity</th></tr></thead>\n",
       "<tbody>\n",
       "\t<tr><td>Int       </td><td>1.00      </td><td>FALSE     </td></tr>\n",
       "\t<tr><td>m$diet    </td><td>0.00      </td><td> TRUE     </td></tr>\n",
       "\t<tr><td>m$digest  </td><td>0.00      </td><td> TRUE     </td></tr>\n",
       "\t<tr><td>m$geo     </td><td>0.97      </td><td>FALSE     </td></tr>\n",
       "\t<tr><td>m$habitat </td><td>1.00      </td><td>FALSE     </td></tr>\n",
       "\t<tr><td>m$host_phy</td><td>1.00      </td><td>FALSE     </td></tr>\n",
       "\t<tr><td>m$samp    </td><td>0.86      </td><td>FALSE     </td></tr>\n",
       "</tbody>\n",
       "</table>\n"
      ],
      "text/latex": [
       "\\begin{tabular}{r|lll}\n",
       " variable & pval\\_sensitivity & sig\\_pval\\_sensitivity\\\\\n",
       "\\hline\n",
       "\t Int        & 1.00       & FALSE     \\\\\n",
       "\t m\\$diet     & 0.00         &  TRUE       \\\\\n",
       "\t m\\$digest   & 0.00         &  TRUE       \\\\\n",
       "\t m\\$geo      & 0.97         & FALSE       \\\\\n",
       "\t m\\$habitat  & 1.00         & FALSE       \\\\\n",
       "\t m\\$host\\_phy & 1.00           & FALSE         \\\\\n",
       "\t m\\$samp     & 0.86         & FALSE       \\\\\n",
       "\\end{tabular}\n"
      ],
      "text/markdown": [
       "\n",
       "variable | pval_sensitivity | sig_pval_sensitivity | \n",
       "|---|---|---|---|---|---|---|\n",
       "| Int        | 1.00       | FALSE      | \n",
       "| m$diet     | 0.00       |  TRUE      | \n",
       "| m$digest   | 0.00       |  TRUE      | \n",
       "| m$geo      | 0.97       | FALSE      | \n",
       "| m$habitat  | 1.00       | FALSE      | \n",
       "| m$host_phy | 1.00       | FALSE      | \n",
       "| m$samp     | 0.86       | FALSE      | \n",
       "\n",
       "\n"
      ],
      "text/plain": [
       "  variable   pval_sensitivity sig_pval_sensitivity\n",
       "1 Int        1.00             FALSE               \n",
       "2 m$diet     0.00              TRUE               \n",
       "3 m$digest   0.00              TRUE               \n",
       "4 m$geo      0.97             FALSE               \n",
       "5 m$habitat  1.00             FALSE               \n",
       "6 m$host_phy 1.00             FALSE               \n",
       "7 m$samp     0.86             FALSE               "
      ]
     },
     "metadata": {},
     "output_type": "display_data"
    }
   ],
   "source": [
    "# significance\n",
    "mrm_res %>% \n",
    "    group_by(variable) %>%\n",
    "    summarize(pval_sensitivity = 1 - sum(coef_pval < 0.05) / length(pval)) %>%\n",
    "    ungroup() %>%\n",
    "    mutate(sig_pval_sensitivity = pval_sensitivity < 0.05)"
   ]
  },
  {
   "cell_type": "markdown",
   "metadata": {},
   "source": [
    "#### Model 2"
   ]
  },
  {
   "cell_type": "code",
   "execution_count": 39,
   "metadata": {
    "ExecuteTime": {
     "end_time": "2018-11-29T15:45:15.569398Z",
     "start_time": "2018-11-29T15:44:57.505Z"
    }
   },
   "outputs": [
    {
     "name": "stdout",
     "output_type": "stream",
     "text": [
      "[1] 600   7\n"
     ]
    },
    {
     "data": {
      "text/html": [
       "<table>\n",
       "<thead><tr><th></th><th scope=col>coef</th><th scope=col>coef_pval</th><th scope=col>variable</th><th scope=col>R2</th><th scope=col>pval</th><th scope=col>F</th><th scope=col>rep</th></tr></thead>\n",
       "<tbody>\n",
       "\t<tr><th scope=row>Int</th><td>2987.47385247</td><td>0.998        </td><td>Int          </td><td>0.1008898    </td><td>0.001        </td><td>182.275      </td><td>1            </td></tr>\n",
       "\t<tr><th scope=row>m$host_phy</th><td>  -0.07344583</td><td>0.043        </td><td>m$host_phy   </td><td>0.1008898    </td><td>0.001        </td><td>182.275      </td><td>1            </td></tr>\n",
       "\t<tr><th scope=row>m$diet</th><td>   0.31804199</td><td>0.001        </td><td>m$diet       </td><td>0.1008898    </td><td>0.001        </td><td>182.275      </td><td>1            </td></tr>\n",
       "</tbody>\n",
       "</table>\n"
      ],
      "text/latex": [
       "\\begin{tabular}{r|lllllll}\n",
       "  & coef & coef\\_pval & variable & R2 & pval & F & rep\\\\\n",
       "\\hline\n",
       "\tInt & 2987.47385247 & 0.998         & Int           & 0.1008898     & 0.001         & 182.275       & 1            \\\\\n",
       "\tm\\$host\\_phy &   -0.07344583  & 0.043          & m\\$host\\_phy & 0.1008898      & 0.001          & 182.275        & 1             \\\\\n",
       "\tm\\$diet &    0.31804199 & 0.001         & m\\$diet      & 0.1008898     & 0.001         & 182.275       & 1            \\\\\n",
       "\\end{tabular}\n"
      ],
      "text/markdown": [
       "\n",
       "| <!--/--> | coef | coef_pval | variable | R2 | pval | F | rep | \n",
       "|---|---|---|\n",
       "| Int | 2987.47385247 | 0.998         | Int           | 0.1008898     | 0.001         | 182.275       | 1             | \n",
       "| m$host_phy |   -0.07344583 | 0.043         | m$host_phy    | 0.1008898     | 0.001         | 182.275       | 1             | \n",
       "| m$diet |    0.31804199 | 0.001         | m$diet        | 0.1008898     | 0.001         | 182.275       | 1             | \n",
       "\n",
       "\n"
      ],
      "text/plain": [
       "           coef          coef_pval variable   R2        pval  F       rep\n",
       "Int        2987.47385247 0.998     Int        0.1008898 0.001 182.275 1  \n",
       "m$host_phy   -0.07344583 0.043     m$host_phy 0.1008898 0.001 182.275 1  \n",
       "m$diet        0.31804199 0.001     m$diet     0.1008898 0.001 182.275 1  "
      ]
     },
     "metadata": {},
     "output_type": "display_data"
    }
   ],
   "source": [
    "doParallel::registerDoParallel(threads)\n",
    "x = as.list(1:length(m_perm))\n",
    "f = 'm$alpha ~ m$host_phy + m$diet + m$habitat + m$geo + m$samp'\n",
    "mrm_res = plyr::llply(x, mrm_each, L=m_perm, f=f, nperm=nperm, .parallel=TRUE)\n",
    "mrm_res = do.call(rbind, mrm_res)\n",
    "mrm_res %>% dfhead"
   ]
  },
  {
   "cell_type": "code",
   "execution_count": 40,
   "metadata": {
    "ExecuteTime": {
     "end_time": "2018-11-29T15:45:15.612664Z",
     "start_time": "2018-11-29T15:44:57.652Z"
    }
   },
   "outputs": [
    {
     "data": {
      "text/plain": [
       "       R2               pval            rep        \n",
       " Min.   :0.07276   Min.   :0.001   Min.   :  1.00  \n",
       " 1st Qu.:0.09271   1st Qu.:0.001   1st Qu.: 25.75  \n",
       " Median :0.09960   Median :0.001   Median : 50.50  \n",
       " Mean   :0.10025   Mean   :0.001   Mean   : 50.50  \n",
       " 3rd Qu.:0.10734   3rd Qu.:0.001   3rd Qu.: 75.25  \n",
       " Max.   :0.12868   Max.   :0.001   Max.   :100.00  "
      ]
     },
     "metadata": {},
     "output_type": "display_data"
    }
   ],
   "source": [
    "# summary of overall model\n",
    "mrm_res %>%\n",
    "    distinct(R2, pval, rep) %>%\n",
    "    summary"
   ]
  },
  {
   "cell_type": "code",
   "execution_count": 41,
   "metadata": {
    "ExecuteTime": {
     "end_time": "2018-11-29T15:45:19.067787Z",
     "start_time": "2018-11-29T15:44:57.807Z"
    }
   },
   "outputs": [
    {
     "name": "stderr",
     "output_type": "stream",
     "text": [
      "Warning message:\n",
      "“Column `variable`/`old_name` joining character vector and factor, coercing into character vector”"
     ]
    },
    {
     "name": "stdout",
     "output_type": "stream",
     "text": [
      "File written: /ebio/abt3_projects/Georg_animal_feces/data/modulating_factors/MRM/IndD/alpha_div/.figures/MRM_IndD_faithPD_model2.pdf \n"
     ]
    },
    {
     "data": {
      "image/png": "[encoded data removed]",
      "text/plain": [
       "plot without title"
      ]
     },
     "metadata": {},
     "output_type": "display_data"
    }
   ],
   "source": [
    "mrm_res_s = mrm_res %>% \n",
    "    filter(variable != 'Int') %>%\n",
    "    gather(category, value, -variable, -R2, -pval, -F, -rep) %>%\n",
    "    mutate(category = ifelse(category == 'coef', 'Coef.', 'Adj. P-value'))\n",
    "\n",
    "mrm_res_s = mrm_res_s %>%\n",
    "    inner_join(rename_df, c('variable'='old_name')) %>%\n",
    "    dplyr::select(-variable) %>%\n",
    "    rename('variable' = new_name)             \n",
    "\n",
    "# changing coef scale\n",
    "df = mrm_res_s %>%\n",
    "    filter(category == 'Coef.') %>%\n",
    "    mutate(value = 0.41) %>%\n",
    "    .[1,]\n",
    "\n",
    "# plotting\n",
    "p = ggplot(mrm_res_s, aes(variable, value)) +\n",
    "    geom_boxplot() +\n",
    "    geom_point(data=df, alpha=0) +\n",
    "    facet_grid(category ~ ., scales='free_y') +\n",
    "    theme_bw()\n",
    "\n",
    "options(repr.plot.width=5, repr.plot.height=3)\n",
    "plot_write(p, file='MRM_IndD_faithPD_model2.pdf')"
   ]
  },
  {
   "cell_type": "code",
   "execution_count": 42,
   "metadata": {
    "ExecuteTime": {
     "end_time": "2018-11-29T15:45:19.113326Z",
     "start_time": "2018-11-29T15:44:57.958Z"
    }
   },
   "outputs": [
    {
     "data": {
      "text/html": [
       "<table>\n",
       "<thead><tr><th scope=col>variable</th><th scope=col>pval_sensitivity</th><th scope=col>sig_pval_sensitivity</th></tr></thead>\n",
       "<tbody>\n",
       "\t<tr><td>Int       </td><td>1.00      </td><td>FALSE     </td></tr>\n",
       "\t<tr><td>m$diet    </td><td>0.00      </td><td> TRUE     </td></tr>\n",
       "\t<tr><td>m$geo     </td><td>1.00      </td><td>FALSE     </td></tr>\n",
       "\t<tr><td>m$habitat </td><td>1.00      </td><td>FALSE     </td></tr>\n",
       "\t<tr><td>m$host_phy</td><td>0.87      </td><td>FALSE     </td></tr>\n",
       "\t<tr><td>m$samp    </td><td>0.86      </td><td>FALSE     </td></tr>\n",
       "</tbody>\n",
       "</table>\n"
      ],
      "text/latex": [
       "\\begin{tabular}{r|lll}\n",
       " variable & pval\\_sensitivity & sig\\_pval\\_sensitivity\\\\\n",
       "\\hline\n",
       "\t Int        & 1.00       & FALSE     \\\\\n",
       "\t m\\$diet     & 0.00         &  TRUE       \\\\\n",
       "\t m\\$geo      & 1.00         & FALSE       \\\\\n",
       "\t m\\$habitat  & 1.00         & FALSE       \\\\\n",
       "\t m\\$host\\_phy & 0.87           & FALSE         \\\\\n",
       "\t m\\$samp     & 0.86         & FALSE       \\\\\n",
       "\\end{tabular}\n"
      ],
      "text/markdown": [
       "\n",
       "variable | pval_sensitivity | sig_pval_sensitivity | \n",
       "|---|---|---|---|---|---|\n",
       "| Int        | 1.00       | FALSE      | \n",
       "| m$diet     | 0.00       |  TRUE      | \n",
       "| m$geo      | 1.00       | FALSE      | \n",
       "| m$habitat  | 1.00       | FALSE      | \n",
       "| m$host_phy | 0.87       | FALSE      | \n",
       "| m$samp     | 0.86       | FALSE      | \n",
       "\n",
       "\n"
      ],
      "text/plain": [
       "  variable   pval_sensitivity sig_pval_sensitivity\n",
       "1 Int        1.00             FALSE               \n",
       "2 m$diet     0.00              TRUE               \n",
       "3 m$geo      1.00             FALSE               \n",
       "4 m$habitat  1.00             FALSE               \n",
       "5 m$host_phy 0.87             FALSE               \n",
       "6 m$samp     0.86             FALSE               "
      ]
     },
     "metadata": {},
     "output_type": "display_data"
    }
   ],
   "source": [
    "# significance\n",
    "mrm_res %>% \n",
    "    group_by(variable) %>%\n",
    "    summarize(pval_sensitivity = 1 - sum(coef_pval < 0.05) / length(pval)) %>%\n",
    "    ungroup() %>%\n",
    "    mutate(sig_pval_sensitivity = pval_sensitivity < 0.05)"
   ]
  },
  {
   "cell_type": "markdown",
   "metadata": {},
   "source": [
    "### Shannon"
   ]
  },
  {
   "cell_type": "code",
   "execution_count": 43,
   "metadata": {
    "ExecuteTime": {
     "end_time": "2018-11-29T15:45:24.223019Z",
     "start_time": "2018-11-29T15:44:58.256Z"
    }
   },
   "outputs": [
    {
     "data": {
      "text/html": [
       "100"
      ],
      "text/latex": [
       "100"
      ],
      "text/markdown": [
       "100"
      ],
      "text/plain": [
       "[1] 100"
      ]
     },
     "metadata": {},
     "output_type": "display_data"
    }
   ],
   "source": [
    "# creating multiple distance matrices\n",
    "L = list(alpha = alpha_div$shannon,\n",
    "         host_phy = host_tree_d_o,\n",
    "         diet = dietD_d_o,\n",
    "         digest = dtD_d_o, \n",
    "         habitat = habitatD_d_o,\n",
    "         geo = geo_d_o,\n",
    "         samp = samp_d_o)\n",
    "\n",
    "m_perm = lapply(as.list(1:nperm_datasets), function(x) one_per_group(L, df_grps, x))\n",
    "m_perm %>% length           "
   ]
  },
  {
   "cell_type": "code",
   "execution_count": 44,
   "metadata": {
    "ExecuteTime": {
     "end_time": "2018-11-29T15:45:24.256921Z",
     "start_time": "2018-11-29T15:44:58.825Z"
    }
   },
   "outputs": [
    {
     "data": {
      "text/html": [
       "<ol class=list-inline>\n",
       "\t<li>128</li>\n",
       "\t<li>128</li>\n",
       "</ol>\n"
      ],
      "text/latex": [
       "\\begin{enumerate*}\n",
       "\\item 128\n",
       "\\item 128\n",
       "\\end{enumerate*}\n"
      ],
      "text/markdown": [
       "1. 128\n",
       "2. 128\n",
       "\n",
       "\n"
      ],
      "text/plain": [
       "[1] 128 128"
      ]
     },
     "metadata": {},
     "output_type": "display_data"
    }
   ],
   "source": [
    "# check on sample size\n",
    "m_perm[[1]][[1]] %>% as.matrix %>% dim"
   ]
  },
  {
   "cell_type": "markdown",
   "metadata": {},
   "source": [
    "#### Model 1"
   ]
  },
  {
   "cell_type": "code",
   "execution_count": 45,
   "metadata": {
    "ExecuteTime": {
     "end_time": "2018-11-29T15:45:29.698884Z",
     "start_time": "2018-11-29T15:44:59.514Z"
    }
   },
   "outputs": [
    {
     "name": "stdout",
     "output_type": "stream",
     "text": [
      "[1] 700   7\n"
     ]
    },
    {
     "data": {
      "text/html": [
       "<table>\n",
       "<thead><tr><th></th><th scope=col>coef</th><th scope=col>coef_pval</th><th scope=col>variable</th><th scope=col>R2</th><th scope=col>pval</th><th scope=col>F</th><th scope=col>rep</th></tr></thead>\n",
       "<tbody>\n",
       "\t<tr><th scope=row>Int</th><td>2.987321e+03</td><td>0.998       </td><td>Int         </td><td>0.06118889  </td><td>0.001       </td><td>88.21707    </td><td>1           </td></tr>\n",
       "\t<tr><th scope=row>m$host_phy</th><td>7.982637e-04</td><td>0.979       </td><td>m$host_phy  </td><td>0.06118889  </td><td>0.001       </td><td>88.21707    </td><td>1           </td></tr>\n",
       "\t<tr><th scope=row>m$diet</th><td>2.116983e-01</td><td>0.001       </td><td>m$diet      </td><td>0.06118889  </td><td>0.001       </td><td>88.21707    </td><td>1           </td></tr>\n",
       "</tbody>\n",
       "</table>\n"
      ],
      "text/latex": [
       "\\begin{tabular}{r|lllllll}\n",
       "  & coef & coef\\_pval & variable & R2 & pval & F & rep\\\\\n",
       "\\hline\n",
       "\tInt & 2.987321e+03 & 0.998        & Int          & 0.06118889   & 0.001        & 88.21707     & 1           \\\\\n",
       "\tm\\$host\\_phy & 7.982637e-04   & 0.979          & m\\$host\\_phy & 0.06118889     & 0.001          & 88.21707       & 1             \\\\\n",
       "\tm\\$diet & 2.116983e-01 & 0.001        & m\\$diet     & 0.06118889   & 0.001        & 88.21707     & 1           \\\\\n",
       "\\end{tabular}\n"
      ],
      "text/markdown": [
       "\n",
       "| <!--/--> | coef | coef_pval | variable | R2 | pval | F | rep | \n",
       "|---|---|---|\n",
       "| Int | 2.987321e+03 | 0.998        | Int          | 0.06118889   | 0.001        | 88.21707     | 1            | \n",
       "| m$host_phy | 7.982637e-04 | 0.979        | m$host_phy   | 0.06118889   | 0.001        | 88.21707     | 1            | \n",
       "| m$diet | 2.116983e-01 | 0.001        | m$diet       | 0.06118889   | 0.001        | 88.21707     | 1            | \n",
       "\n",
       "\n"
      ],
      "text/plain": [
       "           coef         coef_pval variable   R2         pval  F        rep\n",
       "Int        2.987321e+03 0.998     Int        0.06118889 0.001 88.21707 1  \n",
       "m$host_phy 7.982637e-04 0.979     m$host_phy 0.06118889 0.001 88.21707 1  \n",
       "m$diet     2.116983e-01 0.001     m$diet     0.06118889 0.001 88.21707 1  "
      ]
     },
     "metadata": {},
     "output_type": "display_data"
    }
   ],
   "source": [
    "doParallel::registerDoParallel(threads)\n",
    "x = as.list(1:length(m_perm))\n",
    "f = 'm$alpha ~ m$host_phy + m$diet + m$digest + m$habitat + m$geo + m$samp'\n",
    "mrm_res = plyr::llply(x, mrm_each, L=m_perm, f=f, nperm=nperm, .parallel=TRUE)\n",
    "mrm_res = do.call(rbind, mrm_res)\n",
    "mrm_res %>% dfhead"
   ]
  },
  {
   "cell_type": "code",
   "execution_count": 46,
   "metadata": {
    "ExecuteTime": {
     "end_time": "2018-11-29T15:45:29.737505Z",
     "start_time": "2018-11-29T15:44:59.987Z"
    }
   },
   "outputs": [
    {
     "data": {
      "text/plain": [
       "       R2               pval              rep        \n",
       " Min.   :0.03494   Min.   :0.00100   Min.   :  1.00  \n",
       " 1st Qu.:0.05073   1st Qu.:0.00100   1st Qu.: 25.75  \n",
       " Median :0.05988   Median :0.00100   Median : 50.50  \n",
       " Mean   :0.05958   Mean   :0.00102   Mean   : 50.50  \n",
       " 3rd Qu.:0.06799   3rd Qu.:0.00100   3rd Qu.: 75.25  \n",
       " Max.   :0.09767   Max.   :0.00200   Max.   :100.00  "
      ]
     },
     "metadata": {},
     "output_type": "display_data"
    }
   ],
   "source": [
    "# summary of overall model\n",
    "mrm_res %>%\n",
    "    distinct(R2, pval, rep) %>%\n",
    "    summary"
   ]
  },
  {
   "cell_type": "code",
   "execution_count": 47,
   "metadata": {
    "ExecuteTime": {
     "end_time": "2018-11-29T15:45:30.755358Z",
     "start_time": "2018-11-29T15:45:00.330Z"
    }
   },
   "outputs": [
    {
     "data": {
      "image/png": "[encoded data removed]",
      "text/plain": [
       "plot without title"
      ]
     },
     "metadata": {},
     "output_type": "display_data"
    }
   ],
   "source": [
    "mrm_res_s = mrm_res %>% \n",
    "    filter(variable != 'Int') %>%\n",
    "    gather(category, value, -variable, -R2, -pval, -F, -rep)              \n",
    "\n",
    "p = ggplot(mrm_res_s, aes(variable, value)) +\n",
    "    geom_boxplot() +\n",
    "    facet_grid(category ~ ., scales='free_y') +\n",
    "    theme_bw()\n",
    "\n",
    "options(repr.plot.width=5, repr.plot.height=3)\n",
    "plot(p)"
   ]
  },
  {
   "cell_type": "code",
   "execution_count": 48,
   "metadata": {
    "ExecuteTime": {
     "end_time": "2018-11-29T15:45:30.797939Z",
     "start_time": "2018-11-29T15:45:00.713Z"
    }
   },
   "outputs": [
    {
     "data": {
      "text/html": [
       "<table>\n",
       "<thead><tr><th scope=col>variable</th><th scope=col>pval_sensitivity</th><th scope=col>sig_pval_sensitivity</th></tr></thead>\n",
       "<tbody>\n",
       "\t<tr><td>Int       </td><td>1.00      </td><td>FALSE     </td></tr>\n",
       "\t<tr><td>m$diet    </td><td>0.00      </td><td> TRUE     </td></tr>\n",
       "\t<tr><td>m$digest  </td><td>0.20      </td><td>FALSE     </td></tr>\n",
       "\t<tr><td>m$geo     </td><td>0.84      </td><td>FALSE     </td></tr>\n",
       "\t<tr><td>m$habitat </td><td>1.00      </td><td>FALSE     </td></tr>\n",
       "\t<tr><td>m$host_phy</td><td>1.00      </td><td>FALSE     </td></tr>\n",
       "\t<tr><td>m$samp    </td><td>1.00      </td><td>FALSE     </td></tr>\n",
       "</tbody>\n",
       "</table>\n"
      ],
      "text/latex": [
       "\\begin{tabular}{r|lll}\n",
       " variable & pval\\_sensitivity & sig\\_pval\\_sensitivity\\\\\n",
       "\\hline\n",
       "\t Int        & 1.00       & FALSE     \\\\\n",
       "\t m\\$diet     & 0.00         &  TRUE       \\\\\n",
       "\t m\\$digest   & 0.20         & FALSE       \\\\\n",
       "\t m\\$geo      & 0.84         & FALSE       \\\\\n",
       "\t m\\$habitat  & 1.00         & FALSE       \\\\\n",
       "\t m\\$host\\_phy & 1.00           & FALSE         \\\\\n",
       "\t m\\$samp     & 1.00         & FALSE       \\\\\n",
       "\\end{tabular}\n"
      ],
      "text/markdown": [
       "\n",
       "variable | pval_sensitivity | sig_pval_sensitivity | \n",
       "|---|---|---|---|---|---|---|\n",
       "| Int        | 1.00       | FALSE      | \n",
       "| m$diet     | 0.00       |  TRUE      | \n",
       "| m$digest   | 0.20       | FALSE      | \n",
       "| m$geo      | 0.84       | FALSE      | \n",
       "| m$habitat  | 1.00       | FALSE      | \n",
       "| m$host_phy | 1.00       | FALSE      | \n",
       "| m$samp     | 1.00       | FALSE      | \n",
       "\n",
       "\n"
      ],
      "text/plain": [
       "  variable   pval_sensitivity sig_pval_sensitivity\n",
       "1 Int        1.00             FALSE               \n",
       "2 m$diet     0.00              TRUE               \n",
       "3 m$digest   0.20             FALSE               \n",
       "4 m$geo      0.84             FALSE               \n",
       "5 m$habitat  1.00             FALSE               \n",
       "6 m$host_phy 1.00             FALSE               \n",
       "7 m$samp     1.00             FALSE               "
      ]
     },
     "metadata": {},
     "output_type": "display_data"
    }
   ],
   "source": [
    "# significance\n",
    "mrm_res %>% \n",
    "    group_by(variable) %>%\n",
    "    summarize(pval_sensitivity = 1 - sum(coef_pval < 0.05) / length(pval)) %>%\n",
    "    ungroup() %>%\n",
    "    mutate(sig_pval_sensitivity = pval_sensitivity < 0.05)"
   ]
  },
  {
   "cell_type": "markdown",
   "metadata": {},
   "source": [
    "#### Model 2"
   ]
  },
  {
   "cell_type": "code",
   "execution_count": 49,
   "metadata": {
    "ExecuteTime": {
     "end_time": "2018-11-29T15:45:35.541484Z",
     "start_time": "2018-11-29T15:45:01.609Z"
    }
   },
   "outputs": [
    {
     "name": "stdout",
     "output_type": "stream",
     "text": [
      "[1] 600   7\n"
     ]
    },
    {
     "data": {
      "text/html": [
       "<table>\n",
       "<thead><tr><th></th><th scope=col>coef</th><th scope=col>coef_pval</th><th scope=col>variable</th><th scope=col>R2</th><th scope=col>pval</th><th scope=col>F</th><th scope=col>rep</th></tr></thead>\n",
       "<tbody>\n",
       "\t<tr><th scope=row>Int</th><td>3302.27111130</td><td>0.989        </td><td>Int          </td><td>0.0545876    </td><td>0.001        </td><td>93.79197     </td><td>1            </td></tr>\n",
       "\t<tr><th scope=row>m$host_phy</th><td>  -0.02721078</td><td>0.368        </td><td>m$host_phy   </td><td>0.0545876    </td><td>0.001        </td><td>93.79197     </td><td>1            </td></tr>\n",
       "\t<tr><th scope=row>m$diet</th><td>   0.23997340</td><td>0.001        </td><td>m$diet       </td><td>0.0545876    </td><td>0.001        </td><td>93.79197     </td><td>1            </td></tr>\n",
       "</tbody>\n",
       "</table>\n"
      ],
      "text/latex": [
       "\\begin{tabular}{r|lllllll}\n",
       "  & coef & coef\\_pval & variable & R2 & pval & F & rep\\\\\n",
       "\\hline\n",
       "\tInt & 3302.27111130 & 0.989         & Int           & 0.0545876     & 0.001         & 93.79197      & 1            \\\\\n",
       "\tm\\$host\\_phy &   -0.02721078  & 0.368          & m\\$host\\_phy & 0.0545876      & 0.001          & 93.79197       & 1             \\\\\n",
       "\tm\\$diet &    0.23997340 & 0.001         & m\\$diet      & 0.0545876     & 0.001         & 93.79197      & 1            \\\\\n",
       "\\end{tabular}\n"
      ],
      "text/markdown": [
       "\n",
       "| <!--/--> | coef | coef_pval | variable | R2 | pval | F | rep | \n",
       "|---|---|---|\n",
       "| Int | 3302.27111130 | 0.989         | Int           | 0.0545876     | 0.001         | 93.79197      | 1             | \n",
       "| m$host_phy |   -0.02721078 | 0.368         | m$host_phy    | 0.0545876     | 0.001         | 93.79197      | 1             | \n",
       "| m$diet |    0.23997340 | 0.001         | m$diet        | 0.0545876     | 0.001         | 93.79197      | 1             | \n",
       "\n",
       "\n"
      ],
      "text/plain": [
       "           coef          coef_pval variable   R2        pval  F        rep\n",
       "Int        3302.27111130 0.989     Int        0.0545876 0.001 93.79197 1  \n",
       "m$host_phy   -0.02721078 0.368     m$host_phy 0.0545876 0.001 93.79197 1  \n",
       "m$diet        0.23997340 0.001     m$diet     0.0545876 0.001 93.79197 1  "
      ]
     },
     "metadata": {},
     "output_type": "display_data"
    }
   ],
   "source": [
    "doParallel::registerDoParallel(threads)\n",
    "x = as.list(1:length(m_perm))\n",
    "f = 'm$alpha ~ m$host_phy + m$diet + m$habitat + m$geo + m$samp'\n",
    "mrm_res = plyr::llply(x, mrm_each, L=m_perm, f=f, nperm=nperm, .parallel=TRUE)\n",
    "mrm_res = do.call(rbind, mrm_res)\n",
    "mrm_res %>% dfhead"
   ]
  },
  {
   "cell_type": "code",
   "execution_count": 50,
   "metadata": {
    "ExecuteTime": {
     "end_time": "2018-11-29T15:45:35.587409Z",
     "start_time": "2018-11-29T15:45:01.889Z"
    }
   },
   "outputs": [
    {
     "data": {
      "text/plain": [
       "       R2               pval              rep        \n",
       " Min.   :0.03134   Min.   :0.00100   Min.   :  1.00  \n",
       " 1st Qu.:0.04617   1st Qu.:0.00100   1st Qu.: 25.75  \n",
       " Median :0.05250   Median :0.00100   Median : 50.50  \n",
       " Mean   :0.05298   Mean   :0.00102   Mean   : 50.50  \n",
       " 3rd Qu.:0.05937   3rd Qu.:0.00100   3rd Qu.: 75.25  \n",
       " Max.   :0.08898   Max.   :0.00200   Max.   :100.00  "
      ]
     },
     "metadata": {},
     "output_type": "display_data"
    }
   ],
   "source": [
    "# summary of overall model\n",
    "mrm_res %>%\n",
    "    distinct(R2, pval, rep) %>%\n",
    "    summary"
   ]
  },
  {
   "cell_type": "code",
   "execution_count": 51,
   "metadata": {
    "ExecuteTime": {
     "end_time": "2018-11-29T15:45:37.543524Z",
     "start_time": "2018-11-29T15:45:02.057Z"
    }
   },
   "outputs": [
    {
     "name": "stderr",
     "output_type": "stream",
     "text": [
      "Warning message:\n",
      "“Column `variable`/`old_name` joining character vector and factor, coercing into character vector”"
     ]
    },
    {
     "name": "stdout",
     "output_type": "stream",
     "text": [
      "File written: /ebio/abt3_projects/Georg_animal_feces/data/modulating_factors/MRM/IndD/alpha_div/.figures/MRM_IndD_shannon_model2.pdf \n"
     ]
    },
    {
     "data": {
      "image/png": "[encoded data removed]",
      "text/plain": [
       "plot without title"
      ]
     },
     "metadata": {},
     "output_type": "display_data"
    }
   ],
   "source": [
    "mrm_res_s = mrm_res %>% \n",
    "    filter(variable != 'Int') %>%\n",
    "    gather(category, value, -variable, -R2, -pval, -F, -rep) %>%\n",
    "    mutate(category = ifelse(category == 'coef', 'Coef.', 'Adj. P-value'))\n",
    "\n",
    "mrm_res_s = mrm_res_s %>%\n",
    "    inner_join(rename_df, c('variable'='old_name')) %>%\n",
    "    dplyr::select(-variable) %>%\n",
    "    rename('variable' = new_name)              \n",
    "\n",
    "# changing coef scale\n",
    "df = mrm_res_s %>%\n",
    "    filter(category == 'Coef.') %>%\n",
    "    mutate(value = 0.41) %>%\n",
    "    .[1,]\n",
    "\n",
    "# plotting\n",
    "p = ggplot(mrm_res_s, aes(variable, value)) +\n",
    "    geom_boxplot() +\n",
    "    geom_point(data=df, alpha=0) +\n",
    "    facet_grid(category ~ ., scales='free_y') +\n",
    "    theme_bw()\n",
    "\n",
    "options(repr.plot.width=5, repr.plot.height=3)\n",
    "plot_write(p, file='MRM_IndD_shannon_model2.pdf')"
   ]
  },
  {
   "cell_type": "code",
   "execution_count": 52,
   "metadata": {
    "ExecuteTime": {
     "end_time": "2018-11-29T15:45:37.610181Z",
     "start_time": "2018-11-29T15:45:02.624Z"
    }
   },
   "outputs": [
    {
     "data": {
      "text/html": [
       "<table>\n",
       "<thead><tr><th scope=col>variable</th><th scope=col>pval_sensitivity</th><th scope=col>sig_pval_sensitivity</th></tr></thead>\n",
       "<tbody>\n",
       "\t<tr><td>Int       </td><td>1.00      </td><td>FALSE     </td></tr>\n",
       "\t<tr><td>m$diet    </td><td>0.00      </td><td> TRUE     </td></tr>\n",
       "\t<tr><td>m$geo     </td><td>0.96      </td><td>FALSE     </td></tr>\n",
       "\t<tr><td>m$habitat </td><td>1.00      </td><td>FALSE     </td></tr>\n",
       "\t<tr><td>m$host_phy</td><td>1.00      </td><td>FALSE     </td></tr>\n",
       "\t<tr><td>m$samp    </td><td>1.00      </td><td>FALSE     </td></tr>\n",
       "</tbody>\n",
       "</table>\n"
      ],
      "text/latex": [
       "\\begin{tabular}{r|lll}\n",
       " variable & pval\\_sensitivity & sig\\_pval\\_sensitivity\\\\\n",
       "\\hline\n",
       "\t Int        & 1.00       & FALSE     \\\\\n",
       "\t m\\$diet     & 0.00         &  TRUE       \\\\\n",
       "\t m\\$geo      & 0.96         & FALSE       \\\\\n",
       "\t m\\$habitat  & 1.00         & FALSE       \\\\\n",
       "\t m\\$host\\_phy & 1.00           & FALSE         \\\\\n",
       "\t m\\$samp     & 1.00         & FALSE       \\\\\n",
       "\\end{tabular}\n"
      ],
      "text/markdown": [
       "\n",
       "variable | pval_sensitivity | sig_pval_sensitivity | \n",
       "|---|---|---|---|---|---|\n",
       "| Int        | 1.00       | FALSE      | \n",
       "| m$diet     | 0.00       |  TRUE      | \n",
       "| m$geo      | 0.96       | FALSE      | \n",
       "| m$habitat  | 1.00       | FALSE      | \n",
       "| m$host_phy | 1.00       | FALSE      | \n",
       "| m$samp     | 1.00       | FALSE      | \n",
       "\n",
       "\n"
      ],
      "text/plain": [
       "  variable   pval_sensitivity sig_pval_sensitivity\n",
       "1 Int        1.00             FALSE               \n",
       "2 m$diet     0.00              TRUE               \n",
       "3 m$geo      0.96             FALSE               \n",
       "4 m$habitat  1.00             FALSE               \n",
       "5 m$host_phy 1.00             FALSE               \n",
       "6 m$samp     1.00             FALSE               "
      ]
     },
     "metadata": {},
     "output_type": "display_data"
    }
   ],
   "source": [
    "# significance\n",
    "mrm_res %>% \n",
    "    group_by(variable) %>%\n",
    "    summarize(pval_sensitivity = 1 - sum(coef_pval < 0.05) / length(pval)) %>%\n",
    "    ungroup() %>%\n",
    "    mutate(sig_pval_sensitivity = pval_sensitivity < 0.05)"
   ]
  },
  {
   "cell_type": "markdown",
   "metadata": {},
   "source": [
    "### Evenness"
   ]
  },
  {
   "cell_type": "code",
   "execution_count": 53,
   "metadata": {
    "ExecuteTime": {
     "end_time": "2018-11-29T15:45:43.225067Z",
     "start_time": "2018-11-29T15:45:16.770Z"
    }
   },
   "outputs": [
    {
     "data": {
      "text/html": [
       "100"
      ],
      "text/latex": [
       "100"
      ],
      "text/markdown": [
       "100"
      ],
      "text/plain": [
       "[1] 100"
      ]
     },
     "metadata": {},
     "output_type": "display_data"
    }
   ],
   "source": [
    "# creating multiple distance matrices\n",
    "L = list(alpha = alpha_div$pielou_e,\n",
    "         host_phy = host_tree_d_o,\n",
    "         diet = dietD_d_o,\n",
    "         digest = dtD_d_o, \n",
    "         habitat = habitatD_d_o,\n",
    "         geo = geo_d_o,\n",
    "         samp = samp_d_o)\n",
    "\n",
    "m_perm = lapply(as.list(1:nperm_datasets), function(x) one_per_group(L, df_grps, x))\n",
    "m_perm %>% length           "
   ]
  },
  {
   "cell_type": "code",
   "execution_count": 54,
   "metadata": {
    "ExecuteTime": {
     "end_time": "2018-11-29T15:45:43.261779Z",
     "start_time": "2018-11-29T15:45:16.907Z"
    }
   },
   "outputs": [
    {
     "data": {
      "text/html": [
       "<ol class=list-inline>\n",
       "\t<li>128</li>\n",
       "\t<li>128</li>\n",
       "</ol>\n"
      ],
      "text/latex": [
       "\\begin{enumerate*}\n",
       "\\item 128\n",
       "\\item 128\n",
       "\\end{enumerate*}\n"
      ],
      "text/markdown": [
       "1. 128\n",
       "2. 128\n",
       "\n",
       "\n"
      ],
      "text/plain": [
       "[1] 128 128"
      ]
     },
     "metadata": {},
     "output_type": "display_data"
    }
   ],
   "source": [
    "# check on sample size\n",
    "m_perm[[1]][[1]] %>% as.matrix %>% dim"
   ]
  },
  {
   "cell_type": "markdown",
   "metadata": {},
   "source": [
    "#### Model 1"
   ]
  },
  {
   "cell_type": "code",
   "execution_count": 55,
   "metadata": {
    "ExecuteTime": {
     "end_time": "2018-11-29T15:45:48.437797Z",
     "start_time": "2018-11-29T15:45:17.158Z"
    }
   },
   "outputs": [
    {
     "name": "stdout",
     "output_type": "stream",
     "text": [
      "[1] 700   7\n"
     ]
    },
    {
     "data": {
      "text/html": [
       "<table>\n",
       "<thead><tr><th></th><th scope=col>coef</th><th scope=col>coef_pval</th><th scope=col>variable</th><th scope=col>R2</th><th scope=col>pval</th><th scope=col>F</th><th scope=col>rep</th></tr></thead>\n",
       "<tbody>\n",
       "\t<tr><th scope=row>Int</th><td>3.766408e+03</td><td>0.788       </td><td>Int         </td><td>0.0102923   </td><td>0.349       </td><td>14.0755     </td><td>1           </td></tr>\n",
       "\t<tr><th scope=row>m$host_phy</th><td>6.513751e-02</td><td>0.153       </td><td>m$host_phy  </td><td>0.0102923   </td><td>0.349       </td><td>14.0755     </td><td>1           </td></tr>\n",
       "\t<tr><th scope=row>m$diet</th><td>7.000329e-02</td><td>0.006       </td><td>m$diet      </td><td>0.0102923   </td><td>0.349       </td><td>14.0755     </td><td>1           </td></tr>\n",
       "</tbody>\n",
       "</table>\n"
      ],
      "text/latex": [
       "\\begin{tabular}{r|lllllll}\n",
       "  & coef & coef\\_pval & variable & R2 & pval & F & rep\\\\\n",
       "\\hline\n",
       "\tInt & 3.766408e+03 & 0.788        & Int          & 0.0102923    & 0.349        & 14.0755      & 1           \\\\\n",
       "\tm\\$host\\_phy & 6.513751e-02   & 0.153          & m\\$host\\_phy & 0.0102923      & 0.349          & 14.0755        & 1             \\\\\n",
       "\tm\\$diet & 7.000329e-02 & 0.006        & m\\$diet     & 0.0102923    & 0.349        & 14.0755      & 1           \\\\\n",
       "\\end{tabular}\n"
      ],
      "text/markdown": [
       "\n",
       "| <!--/--> | coef | coef_pval | variable | R2 | pval | F | rep | \n",
       "|---|---|---|\n",
       "| Int | 3.766408e+03 | 0.788        | Int          | 0.0102923    | 0.349        | 14.0755      | 1            | \n",
       "| m$host_phy | 6.513751e-02 | 0.153        | m$host_phy   | 0.0102923    | 0.349        | 14.0755      | 1            | \n",
       "| m$diet | 7.000329e-02 | 0.006        | m$diet       | 0.0102923    | 0.349        | 14.0755      | 1            | \n",
       "\n",
       "\n"
      ],
      "text/plain": [
       "           coef         coef_pval variable   R2        pval  F       rep\n",
       "Int        3.766408e+03 0.788     Int        0.0102923 0.349 14.0755 1  \n",
       "m$host_phy 6.513751e-02 0.153     m$host_phy 0.0102923 0.349 14.0755 1  \n",
       "m$diet     7.000329e-02 0.006     m$diet     0.0102923 0.349 14.0755 1  "
      ]
     },
     "metadata": {},
     "output_type": "display_data"
    }
   ],
   "source": [
    "doParallel::registerDoParallel(threads)\n",
    "x = as.list(1:length(m_perm))\n",
    "f = 'm$alpha ~ m$host_phy + m$diet + m$digest + m$habitat + m$geo + m$samp'\n",
    "mrm_res = plyr::llply(x, mrm_each, L=m_perm, f=f, nperm=nperm, .parallel=TRUE)\n",
    "mrm_res = do.call(rbind, mrm_res)\n",
    "mrm_res %>% dfhead"
   ]
  },
  {
   "cell_type": "code",
   "execution_count": 56,
   "metadata": {
    "ExecuteTime": {
     "end_time": "2018-11-29T15:45:48.484174Z",
     "start_time": "2018-11-29T15:45:17.700Z"
    }
   },
   "outputs": [
    {
     "data": {
      "text/plain": [
       "       R2                pval             rep        \n",
       " Min.   :0.006016   Min.   :0.0220   Min.   :  1.00  \n",
       " 1st Qu.:0.010278   1st Qu.:0.1720   1st Qu.: 25.75  \n",
       " Median :0.012286   Median :0.2415   Median : 50.50  \n",
       " Mean   :0.012426   Mean   :0.2693   Mean   : 50.50  \n",
       " 3rd Qu.:0.014298   3rd Qu.:0.3513   3rd Qu.: 75.25  \n",
       " Max.   :0.024174   Max.   :0.6280   Max.   :100.00  "
      ]
     },
     "metadata": {},
     "output_type": "display_data"
    }
   ],
   "source": [
    "# summary of overall model\n",
    "mrm_res %>%\n",
    "    distinct(R2, pval, rep) %>%\n",
    "    summary"
   ]
  },
  {
   "cell_type": "code",
   "execution_count": 57,
   "metadata": {
    "ExecuteTime": {
     "end_time": "2018-11-29T15:45:50.459210Z",
     "start_time": "2018-11-29T15:45:17.822Z"
    }
   },
   "outputs": [
    {
     "name": "stdout",
     "output_type": "stream",
     "text": [
      "File written: /ebio/abt3_projects/Georg_animal_feces/data/modulating_factors/MRM/IndD/alpha_div/.figures/MRM_IndD_evenness_model1.pdf \n"
     ]
    },
    {
     "data": {
      "image/png": "[encoded data removed]",
      "text/plain": [
       "plot without title"
      ]
     },
     "metadata": {},
     "output_type": "display_data"
    }
   ],
   "source": [
    "mrm_res_s = mrm_res %>% \n",
    "    filter(variable != 'Int') %>%\n",
    "    gather(category, value, -variable, -R2, -pval, -F, -rep)              \n",
    "\n",
    "p = ggplot(mrm_res_s, aes(variable, value)) +\n",
    "    geom_boxplot() +\n",
    "    facet_grid(category ~ ., scales='free_y') +\n",
    "    theme_bw()\n",
    "\n",
    "options(repr.plot.width=5, repr.plot.height=3)\n",
    "plot_write(p, file='MRM_IndD_evenness_model1.pdf')"
   ]
  },
  {
   "cell_type": "code",
   "execution_count": 58,
   "metadata": {
    "ExecuteTime": {
     "end_time": "2018-11-29T15:45:50.511640Z",
     "start_time": "2018-11-29T15:45:17.950Z"
    }
   },
   "outputs": [
    {
     "data": {
      "text/html": [
       "<table>\n",
       "<thead><tr><th scope=col>variable</th><th scope=col>pval_sensitivity</th><th scope=col>sig_pval_sensitivity</th></tr></thead>\n",
       "<tbody>\n",
       "\t<tr><td>Int       </td><td>1.00      </td><td>FALSE     </td></tr>\n",
       "\t<tr><td>m$diet    </td><td>0.07      </td><td>FALSE     </td></tr>\n",
       "\t<tr><td>m$digest  </td><td>1.00      </td><td>FALSE     </td></tr>\n",
       "\t<tr><td>m$geo     </td><td>0.99      </td><td>FALSE     </td></tr>\n",
       "\t<tr><td>m$habitat </td><td>1.00      </td><td>FALSE     </td></tr>\n",
       "\t<tr><td>m$host_phy</td><td>0.97      </td><td>FALSE     </td></tr>\n",
       "\t<tr><td>m$samp    </td><td>1.00      </td><td>FALSE     </td></tr>\n",
       "</tbody>\n",
       "</table>\n"
      ],
      "text/latex": [
       "\\begin{tabular}{r|lll}\n",
       " variable & pval\\_sensitivity & sig\\_pval\\_sensitivity\\\\\n",
       "\\hline\n",
       "\t Int        & 1.00       & FALSE     \\\\\n",
       "\t m\\$diet     & 0.07         & FALSE       \\\\\n",
       "\t m\\$digest   & 1.00         & FALSE       \\\\\n",
       "\t m\\$geo      & 0.99         & FALSE       \\\\\n",
       "\t m\\$habitat  & 1.00         & FALSE       \\\\\n",
       "\t m\\$host\\_phy & 0.97           & FALSE         \\\\\n",
       "\t m\\$samp     & 1.00         & FALSE       \\\\\n",
       "\\end{tabular}\n"
      ],
      "text/markdown": [
       "\n",
       "variable | pval_sensitivity | sig_pval_sensitivity | \n",
       "|---|---|---|---|---|---|---|\n",
       "| Int        | 1.00       | FALSE      | \n",
       "| m$diet     | 0.07       | FALSE      | \n",
       "| m$digest   | 1.00       | FALSE      | \n",
       "| m$geo      | 0.99       | FALSE      | \n",
       "| m$habitat  | 1.00       | FALSE      | \n",
       "| m$host_phy | 0.97       | FALSE      | \n",
       "| m$samp     | 1.00       | FALSE      | \n",
       "\n",
       "\n"
      ],
      "text/plain": [
       "  variable   pval_sensitivity sig_pval_sensitivity\n",
       "1 Int        1.00             FALSE               \n",
       "2 m$diet     0.07             FALSE               \n",
       "3 m$digest   1.00             FALSE               \n",
       "4 m$geo      0.99             FALSE               \n",
       "5 m$habitat  1.00             FALSE               \n",
       "6 m$host_phy 0.97             FALSE               \n",
       "7 m$samp     1.00             FALSE               "
      ]
     },
     "metadata": {},
     "output_type": "display_data"
    }
   ],
   "source": [
    "# significance\n",
    "mrm_res %>% \n",
    "    group_by(variable) %>%\n",
    "    summarize(pval_sensitivity = 1 - sum(coef_pval < 0.05) / length(pval)) %>%\n",
    "    ungroup() %>%\n",
    "    mutate(sig_pval_sensitivity = pval_sensitivity < 0.05)"
   ]
  },
  {
   "cell_type": "markdown",
   "metadata": {},
   "source": [
    "#### Model 2"
   ]
  },
  {
   "cell_type": "code",
   "execution_count": 59,
   "metadata": {
    "ExecuteTime": {
     "end_time": "2018-11-29T15:45:55.235787Z",
     "start_time": "2018-11-29T15:45:18.851Z"
    }
   },
   "outputs": [
    {
     "name": "stdout",
     "output_type": "stream",
     "text": [
      "[1] 600   7\n"
     ]
    },
    {
     "data": {
      "text/html": [
       "<table>\n",
       "<thead><tr><th></th><th scope=col>coef</th><th scope=col>coef_pval</th><th scope=col>variable</th><th scope=col>R2</th><th scope=col>pval</th><th scope=col>F</th><th scope=col>rep</th></tr></thead>\n",
       "<tbody>\n",
       "\t<tr><th scope=row>Int</th><td>3.713859e+03</td><td>0.834       </td><td>Int         </td><td>0.01013162  </td><td>0.256       </td><td>16.62626    </td><td>1           </td></tr>\n",
       "\t<tr><th scope=row>m$host_phy</th><td>6.957522e-02</td><td>0.109       </td><td>m$host_phy  </td><td>0.01013162  </td><td>0.256       </td><td>16.62626    </td><td>1           </td></tr>\n",
       "\t<tr><th scope=row>m$diet</th><td>6.564507e-02</td><td>0.013       </td><td>m$diet      </td><td>0.01013162  </td><td>0.256       </td><td>16.62626    </td><td>1           </td></tr>\n",
       "</tbody>\n",
       "</table>\n"
      ],
      "text/latex": [
       "\\begin{tabular}{r|lllllll}\n",
       "  & coef & coef\\_pval & variable & R2 & pval & F & rep\\\\\n",
       "\\hline\n",
       "\tInt & 3.713859e+03 & 0.834        & Int          & 0.01013162   & 0.256        & 16.62626     & 1           \\\\\n",
       "\tm\\$host\\_phy & 6.957522e-02   & 0.109          & m\\$host\\_phy & 0.01013162     & 0.256          & 16.62626       & 1             \\\\\n",
       "\tm\\$diet & 6.564507e-02 & 0.013        & m\\$diet     & 0.01013162   & 0.256        & 16.62626     & 1           \\\\\n",
       "\\end{tabular}\n"
      ],
      "text/markdown": [
       "\n",
       "| <!--/--> | coef | coef_pval | variable | R2 | pval | F | rep | \n",
       "|---|---|---|\n",
       "| Int | 3.713859e+03 | 0.834        | Int          | 0.01013162   | 0.256        | 16.62626     | 1            | \n",
       "| m$host_phy | 6.957522e-02 | 0.109        | m$host_phy   | 0.01013162   | 0.256        | 16.62626     | 1            | \n",
       "| m$diet | 6.564507e-02 | 0.013        | m$diet       | 0.01013162   | 0.256        | 16.62626     | 1            | \n",
       "\n",
       "\n"
      ],
      "text/plain": [
       "           coef         coef_pval variable   R2         pval  F        rep\n",
       "Int        3.713859e+03 0.834     Int        0.01013162 0.256 16.62626 1  \n",
       "m$host_phy 6.957522e-02 0.109     m$host_phy 0.01013162 0.256 16.62626 1  \n",
       "m$diet     6.564507e-02 0.013     m$diet     0.01013162 0.256 16.62626 1  "
      ]
     },
     "metadata": {},
     "output_type": "display_data"
    }
   ],
   "source": [
    "doParallel::registerDoParallel(threads)\n",
    "x = as.list(1:length(m_perm))\n",
    "f = 'm$alpha ~ m$host_phy + m$diet + m$habitat + m$geo + m$samp'\n",
    "mrm_res = plyr::llply(x, mrm_each, L=m_perm, f=f, nperm=nperm, .parallel=TRUE)\n",
    "mrm_res = do.call(rbind, mrm_res)\n",
    "mrm_res %>% dfhead"
   ]
  },
  {
   "cell_type": "code",
   "execution_count": 60,
   "metadata": {
    "ExecuteTime": {
     "end_time": "2018-11-29T15:45:55.304252Z",
     "start_time": "2018-11-29T15:45:19.354Z"
    }
   },
   "outputs": [
    {
     "data": {
      "text/plain": [
       "       R2                pval             rep        \n",
       " Min.   :0.005541   Min.   :0.0140   Min.   :  1.00  \n",
       " 1st Qu.:0.009810   1st Qu.:0.1220   1st Qu.: 25.75  \n",
       " Median :0.011713   Median :0.1815   Median : 50.50  \n",
       " Mean   :0.011839   Mean   :0.2094   Mean   : 50.50  \n",
       " 3rd Qu.:0.013595   3rd Qu.:0.2657   3rd Qu.: 75.25  \n",
       " Max.   :0.023288   Max.   :0.5690   Max.   :100.00  "
      ]
     },
     "metadata": {},
     "output_type": "display_data"
    }
   ],
   "source": [
    "# summary of overall model\n",
    "mrm_res %>%\n",
    "    distinct(R2, pval, rep) %>%\n",
    "    summary"
   ]
  },
  {
   "cell_type": "code",
   "execution_count": 61,
   "metadata": {
    "ExecuteTime": {
     "end_time": "2018-11-29T15:45:56.453413Z",
     "start_time": "2018-11-29T15:45:20.064Z"
    }
   },
   "outputs": [
    {
     "name": "stderr",
     "output_type": "stream",
     "text": [
      "Warning message:\n",
      "“Removed 1 rows containing missing values (geom_point).”"
     ]
    },
    {
     "data": {
      "image/png": "[encoded data removed]",
      "text/plain": [
       "plot without title"
      ]
     },
     "metadata": {},
     "output_type": "display_data"
    }
   ],
   "source": [
    "mrm_res_s = mrm_res %>% \n",
    "    filter(variable != 'Int') %>%\n",
    "    gather(category, value, -variable, -R2, -pval, -F, -rep)              \n",
    "\n",
    "# changing coef scale\n",
    "df = mrm_res_s %>%\n",
    "    filter(category == 'Coef.') %>%\n",
    "    mutate(value = 0.41) %>%\n",
    "    .[1,]\n",
    "\n",
    "# plotting\n",
    "p = ggplot(mrm_res_s, aes(variable, value)) +\n",
    "    geom_boxplot() +\n",
    "    geom_point(data=df, alpha=0) +\n",
    "    facet_grid(category ~ ., scales='free_y') +\n",
    "    theme_bw()\n",
    "\n",
    "options(repr.plot.width=5, repr.plot.height=3)\n",
    "plot(p, file='MRM_IndD_evenness_model2.pdf')"
   ]
  },
  {
   "cell_type": "code",
   "execution_count": 62,
   "metadata": {
    "ExecuteTime": {
     "end_time": "2018-11-29T15:45:56.519613Z",
     "start_time": "2018-11-29T15:45:20.795Z"
    }
   },
   "outputs": [
    {
     "data": {
      "text/html": [
       "<table>\n",
       "<thead><tr><th scope=col>variable</th><th scope=col>pval_sensitivity</th><th scope=col>sig_pval_sensitivity</th></tr></thead>\n",
       "<tbody>\n",
       "\t<tr><td>Int       </td><td>1.00      </td><td>FALSE     </td></tr>\n",
       "\t<tr><td>m$diet    </td><td>0.08      </td><td>FALSE     </td></tr>\n",
       "\t<tr><td>m$geo     </td><td>0.98      </td><td>FALSE     </td></tr>\n",
       "\t<tr><td>m$habitat </td><td>1.00      </td><td>FALSE     </td></tr>\n",
       "\t<tr><td>m$host_phy</td><td>0.94      </td><td>FALSE     </td></tr>\n",
       "\t<tr><td>m$samp    </td><td>1.00      </td><td>FALSE     </td></tr>\n",
       "</tbody>\n",
       "</table>\n"
      ],
      "text/latex": [
       "\\begin{tabular}{r|lll}\n",
       " variable & pval\\_sensitivity & sig\\_pval\\_sensitivity\\\\\n",
       "\\hline\n",
       "\t Int        & 1.00       & FALSE     \\\\\n",
       "\t m\\$diet     & 0.08         & FALSE       \\\\\n",
       "\t m\\$geo      & 0.98         & FALSE       \\\\\n",
       "\t m\\$habitat  & 1.00         & FALSE       \\\\\n",
       "\t m\\$host\\_phy & 0.94           & FALSE         \\\\\n",
       "\t m\\$samp     & 1.00         & FALSE       \\\\\n",
       "\\end{tabular}\n"
      ],
      "text/markdown": [
       "\n",
       "variable | pval_sensitivity | sig_pval_sensitivity | \n",
       "|---|---|---|---|---|---|\n",
       "| Int        | 1.00       | FALSE      | \n",
       "| m$diet     | 0.08       | FALSE      | \n",
       "| m$geo      | 0.98       | FALSE      | \n",
       "| m$habitat  | 1.00       | FALSE      | \n",
       "| m$host_phy | 0.94       | FALSE      | \n",
       "| m$samp     | 1.00       | FALSE      | \n",
       "\n",
       "\n"
      ],
      "text/plain": [
       "  variable   pval_sensitivity sig_pval_sensitivity\n",
       "1 Int        1.00             FALSE               \n",
       "2 m$diet     0.08             FALSE               \n",
       "3 m$geo      0.98             FALSE               \n",
       "4 m$habitat  1.00             FALSE               \n",
       "5 m$host_phy 0.94             FALSE               \n",
       "6 m$samp     1.00             FALSE               "
      ]
     },
     "metadata": {},
     "output_type": "display_data"
    }
   ],
   "source": [
    "# significance\n",
    "mrm_res %>% \n",
    "    group_by(variable) %>%\n",
    "    summarize(pval_sensitivity = 1 - sum(coef_pval < 0.05) / length(pval)) %>%\n",
    "    ungroup() %>%\n",
    "    mutate(sig_pval_sensitivity = pval_sensitivity < 0.05)"
   ]
  },
  {
   "cell_type": "markdown",
   "metadata": {},
   "source": [
    "## One sample per host family"
   ]
  },
  {
   "cell_type": "code",
   "execution_count": 63,
   "metadata": {
    "ExecuteTime": {
     "end_time": "2018-11-29T15:47:28.196926Z",
     "start_time": "2018-11-29T15:47:30.100Z"
    }
   },
   "outputs": [
    {
     "name": "stdout",
     "output_type": "stream",
     "text": [
      "[1] 213   2\n"
     ]
    },
    {
     "data": {
      "text/html": [
       "<table>\n",
       "<thead><tr><th scope=col>X.SampleID</th><th scope=col>family</th></tr></thead>\n",
       "<tbody>\n",
       "\t<tr><td>X1.Eurasian.Beaver</td><td>Castoridae        </td></tr>\n",
       "\t<tr><td>X101.Horse        </td><td>Equidae           </td></tr>\n",
       "\t<tr><td>X102.Kulan        </td><td>Equidae           </td></tr>\n",
       "</tbody>\n",
       "</table>\n"
      ],
      "text/latex": [
       "\\begin{tabular}{r|ll}\n",
       " X.SampleID & family\\\\\n",
       "\\hline\n",
       "\t X1.Eurasian.Beaver & Castoridae        \\\\\n",
       "\t X101.Horse         & Equidae           \\\\\n",
       "\t X102.Kulan         & Equidae           \\\\\n",
       "\\end{tabular}\n"
      ],
      "text/markdown": [
       "\n",
       "X.SampleID | family | \n",
       "|---|---|---|\n",
       "| X1.Eurasian.Beaver | Castoridae         | \n",
       "| X101.Horse         | Equidae            | \n",
       "| X102.Kulan         | Equidae            | \n",
       "\n",
       "\n"
      ],
      "text/plain": [
       "  X.SampleID         family    \n",
       "1 X1.Eurasian.Beaver Castoridae\n",
       "2 X101.Horse         Equidae   \n",
       "3 X102.Kulan         Equidae   "
      ]
     },
     "metadata": {},
     "output_type": "display_data"
    }
   ],
   "source": [
    "# grouping samples by species\n",
    "df_grps = metadata %>% \n",
    "    filter(X.SampleID %in% labels(dietD_d_o)) %>%\n",
    "    dplyr::select(X.SampleID, family)\n",
    "df_grps %>% dfhead"
   ]
  },
  {
   "cell_type": "markdown",
   "metadata": {},
   "source": [
    "### Faith's PD"
   ]
  },
  {
   "cell_type": "code",
   "execution_count": 64,
   "metadata": {
    "ExecuteTime": {
     "end_time": "2018-11-29T15:47:31.595245Z",
     "start_time": "2018-11-29T15:47:30.324Z"
    }
   },
   "outputs": [
    {
     "data": {
      "text/html": [
       "100"
      ],
      "text/latex": [
       "100"
      ],
      "text/markdown": [
       "100"
      ],
      "text/plain": [
       "[1] 100"
      ]
     },
     "metadata": {},
     "output_type": "display_data"
    }
   ],
   "source": [
    "# creating subsample permutations of the distance matrices\n",
    "L = list(alpha = alpha_div$faith_pd,\n",
    "         host_phy = host_tree_d_o,\n",
    "         diet = dietD_d_o,\n",
    "         digest = dtD_d_o, \n",
    "         habitat = habitatD_d_o,\n",
    "         geo = geo_d_o,\n",
    "         samp = samp_d_o)\n",
    "\n",
    "m_perm = lapply(as.list(1:nperm_datasets), function(x) one_per_group(L, df_grps, x))\n",
    "m_perm %>% length           "
   ]
  },
  {
   "cell_type": "code",
   "execution_count": 65,
   "metadata": {
    "ExecuteTime": {
     "end_time": "2018-11-29T15:47:31.625433Z",
     "start_time": "2018-11-29T15:47:30.986Z"
    }
   },
   "outputs": [
    {
     "data": {
      "text/html": [
       "<ol class=list-inline>\n",
       "\t<li>73</li>\n",
       "\t<li>73</li>\n",
       "</ol>\n"
      ],
      "text/latex": [
       "\\begin{enumerate*}\n",
       "\\item 73\n",
       "\\item 73\n",
       "\\end{enumerate*}\n"
      ],
      "text/markdown": [
       "1. 73\n",
       "2. 73\n",
       "\n",
       "\n"
      ],
      "text/plain": [
       "[1] 73 73"
      ]
     },
     "metadata": {},
     "output_type": "display_data"
    }
   ],
   "source": [
    "# check on sample size\n",
    "m_perm[[1]][[1]] %>% as.matrix %>% dim"
   ]
  },
  {
   "cell_type": "markdown",
   "metadata": {},
   "source": [
    "#### Model 1"
   ]
  },
  {
   "cell_type": "code",
   "execution_count": 66,
   "metadata": {
    "ExecuteTime": {
     "end_time": "2018-11-29T15:47:34.252347Z",
     "start_time": "2018-11-29T15:47:31.238Z"
    }
   },
   "outputs": [
    {
     "name": "stdout",
     "output_type": "stream",
     "text": [
      "[1] 700   7\n"
     ]
    },
    {
     "data": {
      "text/html": [
       "<table>\n",
       "<thead><tr><th></th><th scope=col>coef</th><th scope=col>coef_pval</th><th scope=col>variable</th><th scope=col>R2</th><th scope=col>pval</th><th scope=col>F</th><th scope=col>rep</th></tr></thead>\n",
       "<tbody>\n",
       "\t<tr><th scope=row>Int</th><td>449.80849330</td><td>1.000       </td><td>Int         </td><td>0.214123    </td><td>0.001       </td><td>119.0213    </td><td>1           </td></tr>\n",
       "\t<tr><th scope=row>m$host_phy</th><td>  0.04930186</td><td>0.359       </td><td>m$host_phy  </td><td>0.214123    </td><td>0.001       </td><td>119.0213    </td><td>1           </td></tr>\n",
       "\t<tr><th scope=row>m$diet</th><td>  0.29515701</td><td>0.001       </td><td>m$diet      </td><td>0.214123    </td><td>0.001       </td><td>119.0213    </td><td>1           </td></tr>\n",
       "</tbody>\n",
       "</table>\n"
      ],
      "text/latex": [
       "\\begin{tabular}{r|lllllll}\n",
       "  & coef & coef\\_pval & variable & R2 & pval & F & rep\\\\\n",
       "\\hline\n",
       "\tInt & 449.80849330 & 1.000        & Int          & 0.214123     & 0.001        & 119.0213     & 1           \\\\\n",
       "\tm\\$host\\_phy &   0.04930186   & 0.359          & m\\$host\\_phy & 0.214123       & 0.001          & 119.0213       & 1             \\\\\n",
       "\tm\\$diet &   0.29515701 & 0.001        & m\\$diet     & 0.214123     & 0.001        & 119.0213     & 1           \\\\\n",
       "\\end{tabular}\n"
      ],
      "text/markdown": [
       "\n",
       "| <!--/--> | coef | coef_pval | variable | R2 | pval | F | rep | \n",
       "|---|---|---|\n",
       "| Int | 449.80849330 | 1.000        | Int          | 0.214123     | 0.001        | 119.0213     | 1            | \n",
       "| m$host_phy |   0.04930186 | 0.359        | m$host_phy   | 0.214123     | 0.001        | 119.0213     | 1            | \n",
       "| m$diet |   0.29515701 | 0.001        | m$diet       | 0.214123     | 0.001        | 119.0213     | 1            | \n",
       "\n",
       "\n"
      ],
      "text/plain": [
       "           coef         coef_pval variable   R2       pval  F        rep\n",
       "Int        449.80849330 1.000     Int        0.214123 0.001 119.0213 1  \n",
       "m$host_phy   0.04930186 0.359     m$host_phy 0.214123 0.001 119.0213 1  \n",
       "m$diet       0.29515701 0.001     m$diet     0.214123 0.001 119.0213 1  "
      ]
     },
     "metadata": {},
     "output_type": "display_data"
    }
   ],
   "source": [
    "doParallel::registerDoParallel(threads)\n",
    "x = as.list(1:length(m_perm))\n",
    "f = 'm$alpha ~ m$host_phy + m$diet + m$digest + m$habitat + m$geo + m$samp'\n",
    "mrm_res = plyr::llply(x, mrm_each, L=m_perm, f=f, nperm=nperm, .parallel=TRUE)\n",
    "mrm_res = do.call(rbind, mrm_res)\n",
    "mrm_res %>% dfhead"
   ]
  },
  {
   "cell_type": "code",
   "execution_count": 67,
   "metadata": {
    "ExecuteTime": {
     "end_time": "2018-11-29T15:47:34.299692Z",
     "start_time": "2018-11-29T15:47:31.310Z"
    }
   },
   "outputs": [
    {
     "data": {
      "text/plain": [
       "       R2               pval              rep        \n",
       " Min.   :0.07093   Min.   :0.00100   Min.   :  1.00  \n",
       " 1st Qu.:0.10803   1st Qu.:0.00100   1st Qu.: 25.75  \n",
       " Median :0.12593   Median :0.00100   Median : 50.50  \n",
       " Mean   :0.12853   Mean   :0.00118   Mean   : 50.50  \n",
       " 3rd Qu.:0.14418   3rd Qu.:0.00100   3rd Qu.: 75.25  \n",
       " Max.   :0.21412   Max.   :0.00600   Max.   :100.00  "
      ]
     },
     "metadata": {},
     "output_type": "display_data"
    }
   ],
   "source": [
    "# summary of overall model\n",
    "mrm_res %>%\n",
    "    distinct(R2, pval, rep) %>%\n",
    "    summary"
   ]
  },
  {
   "cell_type": "code",
   "execution_count": 68,
   "metadata": {
    "ExecuteTime": {
     "end_time": "2018-11-29T15:47:36.055908Z",
     "start_time": "2018-11-29T15:47:31.458Z"
    }
   },
   "outputs": [
    {
     "name": "stderr",
     "output_type": "stream",
     "text": [
      "Warning message:\n",
      "“Column `variable`/`old_name` joining character vector and factor, coercing into character vector”"
     ]
    },
    {
     "data": {
      "image/png": "[encoded data removed]",
      "text/plain": [
       "plot without title"
      ]
     },
     "metadata": {},
     "output_type": "display_data"
    }
   ],
   "source": [
    "mrm_res_s = mrm_res %>% \n",
    "    filter(variable != 'Int') %>%\n",
    "    gather(category, value, -variable, -R2, -pval, -F, -rep) %>%\n",
    "    mutate(category = ifelse(category == 'coef', 'Coef.', 'Adj. P-value'))\n",
    "\n",
    "mrm_res_s = mrm_res_s %>%\n",
    "    inner_join(rename_df, c('variable'='old_name')) %>%\n",
    "    dplyr::select(-variable) %>%\n",
    "    rename('variable' = new_name)             \n",
    "\n",
    "p = ggplot(mrm_res_s, aes(variable, value)) +\n",
    "    geom_boxplot() +\n",
    "    facet_grid(category ~ ., scales='free_y') +\n",
    "    theme_bw()\n",
    "\n",
    "options(repr.plot.width=5, repr.plot.height=3)\n",
    "plot(p)"
   ]
  },
  {
   "cell_type": "code",
   "execution_count": 69,
   "metadata": {
    "ExecuteTime": {
     "end_time": "2018-11-29T15:47:36.101706Z",
     "start_time": "2018-11-29T15:47:31.581Z"
    }
   },
   "outputs": [
    {
     "data": {
      "text/html": [
       "<table>\n",
       "<thead><tr><th scope=col>variable</th><th scope=col>pval_sensitivity</th><th scope=col>sig_pval_sensitivity</th></tr></thead>\n",
       "<tbody>\n",
       "\t<tr><td>Int       </td><td>1.00      </td><td>FALSE     </td></tr>\n",
       "\t<tr><td>m$diet    </td><td>0.00      </td><td> TRUE     </td></tr>\n",
       "\t<tr><td>m$digest  </td><td>0.00      </td><td> TRUE     </td></tr>\n",
       "\t<tr><td>m$geo     </td><td>1.00      </td><td>FALSE     </td></tr>\n",
       "\t<tr><td>m$habitat </td><td>1.00      </td><td>FALSE     </td></tr>\n",
       "\t<tr><td>m$host_phy</td><td>1.00      </td><td>FALSE     </td></tr>\n",
       "\t<tr><td>m$samp    </td><td>0.93      </td><td>FALSE     </td></tr>\n",
       "</tbody>\n",
       "</table>\n"
      ],
      "text/latex": [
       "\\begin{tabular}{r|lll}\n",
       " variable & pval\\_sensitivity & sig\\_pval\\_sensitivity\\\\\n",
       "\\hline\n",
       "\t Int        & 1.00       & FALSE     \\\\\n",
       "\t m\\$diet     & 0.00         &  TRUE       \\\\\n",
       "\t m\\$digest   & 0.00         &  TRUE       \\\\\n",
       "\t m\\$geo      & 1.00         & FALSE       \\\\\n",
       "\t m\\$habitat  & 1.00         & FALSE       \\\\\n",
       "\t m\\$host\\_phy & 1.00           & FALSE         \\\\\n",
       "\t m\\$samp     & 0.93         & FALSE       \\\\\n",
       "\\end{tabular}\n"
      ],
      "text/markdown": [
       "\n",
       "variable | pval_sensitivity | sig_pval_sensitivity | \n",
       "|---|---|---|---|---|---|---|\n",
       "| Int        | 1.00       | FALSE      | \n",
       "| m$diet     | 0.00       |  TRUE      | \n",
       "| m$digest   | 0.00       |  TRUE      | \n",
       "| m$geo      | 1.00       | FALSE      | \n",
       "| m$habitat  | 1.00       | FALSE      | \n",
       "| m$host_phy | 1.00       | FALSE      | \n",
       "| m$samp     | 0.93       | FALSE      | \n",
       "\n",
       "\n"
      ],
      "text/plain": [
       "  variable   pval_sensitivity sig_pval_sensitivity\n",
       "1 Int        1.00             FALSE               \n",
       "2 m$diet     0.00              TRUE               \n",
       "3 m$digest   0.00              TRUE               \n",
       "4 m$geo      1.00             FALSE               \n",
       "5 m$habitat  1.00             FALSE               \n",
       "6 m$host_phy 1.00             FALSE               \n",
       "7 m$samp     0.93             FALSE               "
      ]
     },
     "metadata": {},
     "output_type": "display_data"
    }
   ],
   "source": [
    "# significance\n",
    "mrm_res %>% \n",
    "    group_by(variable) %>%\n",
    "    summarize(pval_sensitivity = 1 - sum(coef_pval < 0.05) / length(pval)) %>%\n",
    "    ungroup() %>%\n",
    "    mutate(sig_pval_sensitivity = pval_sensitivity < 0.05)"
   ]
  },
  {
   "cell_type": "markdown",
   "metadata": {},
   "source": [
    "#### Model 2"
   ]
  },
  {
   "cell_type": "code",
   "execution_count": 70,
   "metadata": {
    "ExecuteTime": {
     "end_time": "2018-11-29T15:47:37.708095Z",
     "start_time": "2018-11-29T15:47:31.853Z"
    }
   },
   "outputs": [
    {
     "name": "stdout",
     "output_type": "stream",
     "text": [
      "[1] 600   7\n"
     ]
    },
    {
     "data": {
      "text/html": [
       "<table>\n",
       "<thead><tr><th></th><th scope=col>coef</th><th scope=col>coef_pval</th><th scope=col>variable</th><th scope=col>R2</th><th scope=col>pval</th><th scope=col>F</th><th scope=col>rep</th></tr></thead>\n",
       "<tbody>\n",
       "\t<tr><th scope=row>Int</th><td>764.06545413</td><td>0.997       </td><td>Int         </td><td>0.1653081   </td><td>0.001       </td><td>103.8558    </td><td>1           </td></tr>\n",
       "\t<tr><th scope=row>m$host_phy</th><td> -0.04057595</td><td>0.401       </td><td>m$host_phy  </td><td>0.1653081   </td><td>0.001       </td><td>103.8558    </td><td>1           </td></tr>\n",
       "\t<tr><th scope=row>m$diet</th><td>  0.39988119</td><td>0.001       </td><td>m$diet      </td><td>0.1653081   </td><td>0.001       </td><td>103.8558    </td><td>1           </td></tr>\n",
       "</tbody>\n",
       "</table>\n"
      ],
      "text/latex": [
       "\\begin{tabular}{r|lllllll}\n",
       "  & coef & coef\\_pval & variable & R2 & pval & F & rep\\\\\n",
       "\\hline\n",
       "\tInt & 764.06545413 & 0.997        & Int          & 0.1653081    & 0.001        & 103.8558     & 1           \\\\\n",
       "\tm\\$host\\_phy &  -0.04057595   & 0.401          & m\\$host\\_phy & 0.1653081      & 0.001          & 103.8558       & 1             \\\\\n",
       "\tm\\$diet &   0.39988119 & 0.001        & m\\$diet     & 0.1653081    & 0.001        & 103.8558     & 1           \\\\\n",
       "\\end{tabular}\n"
      ],
      "text/markdown": [
       "\n",
       "| <!--/--> | coef | coef_pval | variable | R2 | pval | F | rep | \n",
       "|---|---|---|\n",
       "| Int | 764.06545413 | 0.997        | Int          | 0.1653081    | 0.001        | 103.8558     | 1            | \n",
       "| m$host_phy |  -0.04057595 | 0.401        | m$host_phy   | 0.1653081    | 0.001        | 103.8558     | 1            | \n",
       "| m$diet |   0.39988119 | 0.001        | m$diet       | 0.1653081    | 0.001        | 103.8558     | 1            | \n",
       "\n",
       "\n"
      ],
      "text/plain": [
       "           coef         coef_pval variable   R2        pval  F        rep\n",
       "Int        764.06545413 0.997     Int        0.1653081 0.001 103.8558 1  \n",
       "m$host_phy  -0.04057595 0.401     m$host_phy 0.1653081 0.001 103.8558 1  \n",
       "m$diet       0.39988119 0.001     m$diet     0.1653081 0.001 103.8558 1  "
      ]
     },
     "metadata": {},
     "output_type": "display_data"
    }
   ],
   "source": [
    "doParallel::registerDoParallel(threads)\n",
    "x = as.list(1:length(m_perm))\n",
    "f = 'm$alpha ~ m$host_phy + m$diet + m$habitat + m$geo + m$samp'\n",
    "mrm_res = plyr::llply(x, mrm_each, L=m_perm, f=f, nperm=nperm, .parallel=TRUE)\n",
    "mrm_res = do.call(rbind, mrm_res)\n",
    "mrm_res %>% dfhead"
   ]
  },
  {
   "cell_type": "code",
   "execution_count": 71,
   "metadata": {
    "ExecuteTime": {
     "end_time": "2018-11-29T15:47:37.749756Z",
     "start_time": "2018-11-29T15:47:31.988Z"
    }
   },
   "outputs": [
    {
     "data": {
      "text/plain": [
       "       R2               pval              rep        \n",
       " Min.   :0.04900   Min.   :0.00100   Min.   :  1.00  \n",
       " 1st Qu.:0.07150   1st Qu.:0.00100   1st Qu.: 25.75  \n",
       " Median :0.08820   Median :0.00100   Median : 50.50  \n",
       " Mean   :0.08975   Mean   :0.00225   Mean   : 50.50  \n",
       " 3rd Qu.:0.10343   3rd Qu.:0.00200   3rd Qu.: 75.25  \n",
       " Max.   :0.16531   Max.   :0.01600   Max.   :100.00  "
      ]
     },
     "metadata": {},
     "output_type": "display_data"
    }
   ],
   "source": [
    "# summary of overall model\n",
    "mrm_res %>%\n",
    "    distinct(R2, pval, rep) %>%\n",
    "    summary"
   ]
  },
  {
   "cell_type": "code",
   "execution_count": 72,
   "metadata": {
    "ExecuteTime": {
     "end_time": "2018-11-29T15:47:39.448935Z",
     "start_time": "2018-11-29T15:47:32.115Z"
    }
   },
   "outputs": [
    {
     "name": "stderr",
     "output_type": "stream",
     "text": [
      "Warning message:\n",
      "“Column `variable`/`old_name` joining character vector and factor, coercing into character vector”"
     ]
    },
    {
     "name": "stdout",
     "output_type": "stream",
     "text": [
      "File written: /ebio/abt3_projects/Georg_animal_feces/data/modulating_factors/MRM/IndD/alpha_div/.figures/MRM_IndD-family_faithPD_model2.pdf \n"
     ]
    },
    {
     "data": {
      "image/png": "[encoded data removed]",
      "text/plain": [
       "plot without title"
      ]
     },
     "metadata": {},
     "output_type": "display_data"
    }
   ],
   "source": [
    "mrm_res_s = mrm_res %>% \n",
    "    filter(variable != 'Int') %>%\n",
    "    gather(category, value, -variable, -R2, -pval, -F, -rep) %>%\n",
    "    mutate(category = ifelse(category == 'coef', 'Coef.', 'Adj. P-value'))\n",
    "\n",
    "mrm_res_s = mrm_res_s %>%\n",
    "    inner_join(rename_df, c('variable'='old_name')) %>%\n",
    "    dplyr::select(-variable) %>%\n",
    "    rename('variable' = new_name)             \n",
    "\n",
    "# changing coef scale\n",
    "df = mrm_res_s %>%\n",
    "    filter(category == 'Coef.') %>%\n",
    "    mutate(value = 0.41) %>%\n",
    "    .[1,]\n",
    "\n",
    "# plotting\n",
    "p = ggplot(mrm_res_s, aes(variable, value)) +\n",
    "    geom_boxplot() +\n",
    "    geom_point(data=df, alpha=0) +\n",
    "    facet_grid(category ~ ., scales='free_y') +\n",
    "    theme_bw()\n",
    "\n",
    "options(repr.plot.width=5, repr.plot.height=3)\n",
    "plot_write(p, file='MRM_IndD-family_faithPD_model2.pdf')"
   ]
  },
  {
   "cell_type": "code",
   "execution_count": 73,
   "metadata": {
    "ExecuteTime": {
     "end_time": "2018-11-29T15:47:39.502078Z",
     "start_time": "2018-11-29T15:47:32.509Z"
    }
   },
   "outputs": [
    {
     "data": {
      "text/html": [
       "<table>\n",
       "<thead><tr><th scope=col>variable</th><th scope=col>pval_sensitivity</th><th scope=col>sig_pval_sensitivity</th></tr></thead>\n",
       "<tbody>\n",
       "\t<tr><td>Int       </td><td>1.00      </td><td>FALSE     </td></tr>\n",
       "\t<tr><td>m$diet    </td><td>0.00      </td><td> TRUE     </td></tr>\n",
       "\t<tr><td>m$geo     </td><td>0.98      </td><td>FALSE     </td></tr>\n",
       "\t<tr><td>m$habitat </td><td>1.00      </td><td>FALSE     </td></tr>\n",
       "\t<tr><td>m$host_phy</td><td>1.00      </td><td>FALSE     </td></tr>\n",
       "\t<tr><td>m$samp    </td><td>0.92      </td><td>FALSE     </td></tr>\n",
       "</tbody>\n",
       "</table>\n"
      ],
      "text/latex": [
       "\\begin{tabular}{r|lll}\n",
       " variable & pval\\_sensitivity & sig\\_pval\\_sensitivity\\\\\n",
       "\\hline\n",
       "\t Int        & 1.00       & FALSE     \\\\\n",
       "\t m\\$diet     & 0.00         &  TRUE       \\\\\n",
       "\t m\\$geo      & 0.98         & FALSE       \\\\\n",
       "\t m\\$habitat  & 1.00         & FALSE       \\\\\n",
       "\t m\\$host\\_phy & 1.00           & FALSE         \\\\\n",
       "\t m\\$samp     & 0.92         & FALSE       \\\\\n",
       "\\end{tabular}\n"
      ],
      "text/markdown": [
       "\n",
       "variable | pval_sensitivity | sig_pval_sensitivity | \n",
       "|---|---|---|---|---|---|\n",
       "| Int        | 1.00       | FALSE      | \n",
       "| m$diet     | 0.00       |  TRUE      | \n",
       "| m$geo      | 0.98       | FALSE      | \n",
       "| m$habitat  | 1.00       | FALSE      | \n",
       "| m$host_phy | 1.00       | FALSE      | \n",
       "| m$samp     | 0.92       | FALSE      | \n",
       "\n",
       "\n"
      ],
      "text/plain": [
       "  variable   pval_sensitivity sig_pval_sensitivity\n",
       "1 Int        1.00             FALSE               \n",
       "2 m$diet     0.00              TRUE               \n",
       "3 m$geo      0.98             FALSE               \n",
       "4 m$habitat  1.00             FALSE               \n",
       "5 m$host_phy 1.00             FALSE               \n",
       "6 m$samp     0.92             FALSE               "
      ]
     },
     "metadata": {},
     "output_type": "display_data"
    }
   ],
   "source": [
    "# significance\n",
    "mrm_res %>% \n",
    "    group_by(variable) %>%\n",
    "    summarize(pval_sensitivity = 1 - sum(coef_pval < 0.05) / length(pval)) %>%\n",
    "    ungroup() %>%\n",
    "    mutate(sig_pval_sensitivity = pval_sensitivity < 0.05)"
   ]
  },
  {
   "cell_type": "markdown",
   "metadata": {},
   "source": [
    "### Shannon"
   ]
  },
  {
   "cell_type": "code",
   "execution_count": 74,
   "metadata": {
    "ExecuteTime": {
     "end_time": "2018-11-29T15:47:43.013276Z",
     "start_time": "2018-11-29T15:47:32.797Z"
    }
   },
   "outputs": [
    {
     "data": {
      "text/html": [
       "100"
      ],
      "text/latex": [
       "100"
      ],
      "text/markdown": [
       "100"
      ],
      "text/plain": [
       "[1] 100"
      ]
     },
     "metadata": {},
     "output_type": "display_data"
    }
   ],
   "source": [
    "# creating multiple distance matrices\n",
    "L = list(alpha = alpha_div$shannon,\n",
    "         host_phy = host_tree_d_o,\n",
    "         diet = dietD_d_o,\n",
    "         digest = dtD_d_o, \n",
    "         habitat = habitatD_d_o,\n",
    "         geo = geo_d_o,\n",
    "         samp = samp_d_o)\n",
    "\n",
    "m_perm = lapply(as.list(1:nperm_datasets), function(x) one_per_group(L, df_grps, x))\n",
    "m_perm %>% length           "
   ]
  },
  {
   "cell_type": "code",
   "execution_count": 75,
   "metadata": {
    "ExecuteTime": {
     "end_time": "2018-11-29T15:47:43.045328Z",
     "start_time": "2018-11-29T15:47:32.922Z"
    }
   },
   "outputs": [
    {
     "data": {
      "text/html": [
       "<ol class=list-inline>\n",
       "\t<li>73</li>\n",
       "\t<li>73</li>\n",
       "</ol>\n"
      ],
      "text/latex": [
       "\\begin{enumerate*}\n",
       "\\item 73\n",
       "\\item 73\n",
       "\\end{enumerate*}\n"
      ],
      "text/markdown": [
       "1. 73\n",
       "2. 73\n",
       "\n",
       "\n"
      ],
      "text/plain": [
       "[1] 73 73"
      ]
     },
     "metadata": {},
     "output_type": "display_data"
    }
   ],
   "source": [
    "# check on sample size\n",
    "m_perm[[1]][[1]] %>% as.matrix %>% dim"
   ]
  },
  {
   "cell_type": "markdown",
   "metadata": {},
   "source": [
    "#### Model 1"
   ]
  },
  {
   "cell_type": "code",
   "execution_count": 76,
   "metadata": {
    "ExecuteTime": {
     "end_time": "2018-11-29T15:47:44.851235Z",
     "start_time": "2018-11-29T15:47:33.219Z"
    }
   },
   "outputs": [
    {
     "name": "stdout",
     "output_type": "stream",
     "text": [
      "[1] 700   7\n"
     ]
    },
    {
     "data": {
      "text/html": [
       "<table>\n",
       "<thead><tr><th></th><th scope=col>coef</th><th scope=col>coef_pval</th><th scope=col>variable</th><th scope=col>R2</th><th scope=col>pval</th><th scope=col>F</th><th scope=col>rep</th></tr></thead>\n",
       "<tbody>\n",
       "\t<tr><th scope=row>Int</th><td>930.13273934</td><td>0.987       </td><td>Int         </td><td>0.04670829  </td><td>0.008       </td><td>21.40346    </td><td>1           </td></tr>\n",
       "\t<tr><th scope=row>m$host_phy</th><td>  0.04626924</td><td>0.354       </td><td>m$host_phy  </td><td>0.04670829  </td><td>0.008       </td><td>21.40346    </td><td>1           </td></tr>\n",
       "\t<tr><th scope=row>m$diet</th><td>  0.09888953</td><td>0.004       </td><td>m$diet      </td><td>0.04670829  </td><td>0.008       </td><td>21.40346    </td><td>1           </td></tr>\n",
       "</tbody>\n",
       "</table>\n"
      ],
      "text/latex": [
       "\\begin{tabular}{r|lllllll}\n",
       "  & coef & coef\\_pval & variable & R2 & pval & F & rep\\\\\n",
       "\\hline\n",
       "\tInt & 930.13273934 & 0.987        & Int          & 0.04670829   & 0.008        & 21.40346     & 1           \\\\\n",
       "\tm\\$host\\_phy &   0.04626924   & 0.354          & m\\$host\\_phy & 0.04670829     & 0.008          & 21.40346       & 1             \\\\\n",
       "\tm\\$diet &   0.09888953 & 0.004        & m\\$diet     & 0.04670829   & 0.008        & 21.40346     & 1           \\\\\n",
       "\\end{tabular}\n"
      ],
      "text/markdown": [
       "\n",
       "| <!--/--> | coef | coef_pval | variable | R2 | pval | F | rep | \n",
       "|---|---|---|\n",
       "| Int | 930.13273934 | 0.987        | Int          | 0.04670829   | 0.008        | 21.40346     | 1            | \n",
       "| m$host_phy |   0.04626924 | 0.354        | m$host_phy   | 0.04670829   | 0.008        | 21.40346     | 1            | \n",
       "| m$diet |   0.09888953 | 0.004        | m$diet       | 0.04670829   | 0.008        | 21.40346     | 1            | \n",
       "\n",
       "\n"
      ],
      "text/plain": [
       "           coef         coef_pval variable   R2         pval  F        rep\n",
       "Int        930.13273934 0.987     Int        0.04670829 0.008 21.40346 1  \n",
       "m$host_phy   0.04626924 0.354     m$host_phy 0.04670829 0.008 21.40346 1  \n",
       "m$diet       0.09888953 0.004     m$diet     0.04670829 0.008 21.40346 1  "
      ]
     },
     "metadata": {},
     "output_type": "display_data"
    }
   ],
   "source": [
    "doParallel::registerDoParallel(threads)\n",
    "x = as.list(1:length(m_perm))\n",
    "f = 'm$alpha ~ m$host_phy + m$diet + m$digest + m$habitat + m$geo + m$samp'\n",
    "mrm_res = plyr::llply(x, mrm_each, L=m_perm, f=f, nperm=nperm, .parallel=TRUE)\n",
    "mrm_res = do.call(rbind, mrm_res)\n",
    "mrm_res %>% dfhead"
   ]
  },
  {
   "cell_type": "code",
   "execution_count": 77,
   "metadata": {
    "ExecuteTime": {
     "end_time": "2018-11-29T15:47:44.892883Z",
     "start_time": "2018-11-29T15:47:33.354Z"
    }
   },
   "outputs": [
    {
     "data": {
      "text/plain": [
       "       R2               pval              rep        \n",
       " Min.   :0.02062   Min.   :0.00100   Min.   :  1.00  \n",
       " 1st Qu.:0.03908   1st Qu.:0.00100   1st Qu.: 25.75  \n",
       " Median :0.05146   Median :0.00300   Median : 50.50  \n",
       " Mean   :0.05364   Mean   :0.01466   Mean   : 50.50  \n",
       " 3rd Qu.:0.06444   3rd Qu.:0.01250   3rd Qu.: 75.25  \n",
       " Max.   :0.11305   Max.   :0.19900   Max.   :100.00  "
      ]
     },
     "metadata": {},
     "output_type": "display_data"
    }
   ],
   "source": [
    "# summary of overall model\n",
    "mrm_res %>%\n",
    "    distinct(R2, pval, rep) %>%\n",
    "    summary"
   ]
  },
  {
   "cell_type": "code",
   "execution_count": 78,
   "metadata": {
    "ExecuteTime": {
     "end_time": "2018-11-29T15:47:45.993677Z",
     "start_time": "2018-11-29T15:47:33.490Z"
    }
   },
   "outputs": [
    {
     "data": {
      "image/png": "[encoded data removed]",
      "text/plain": [
       "plot without title"
      ]
     },
     "metadata": {},
     "output_type": "display_data"
    }
   ],
   "source": [
    "mrm_res_s = mrm_res %>% \n",
    "    filter(variable != 'Int') %>%\n",
    "    gather(category, value, -variable, -R2, -pval, -F, -rep)              \n",
    "\n",
    "p = ggplot(mrm_res_s, aes(variable, value)) +\n",
    "    geom_boxplot() +\n",
    "    facet_grid(category ~ ., scales='free_y') +\n",
    "    theme_bw()\n",
    "\n",
    "options(repr.plot.width=5, repr.plot.height=3)\n",
    "plot(p)"
   ]
  },
  {
   "cell_type": "code",
   "execution_count": 79,
   "metadata": {
    "ExecuteTime": {
     "end_time": "2018-11-29T15:47:46.043333Z",
     "start_time": "2018-11-29T15:47:33.664Z"
    }
   },
   "outputs": [
    {
     "data": {
      "text/html": [
       "<table>\n",
       "<thead><tr><th scope=col>variable</th><th scope=col>pval_sensitivity</th><th scope=col>sig_pval_sensitivity</th></tr></thead>\n",
       "<tbody>\n",
       "\t<tr><td>Int       </td><td>1.00      </td><td>FALSE     </td></tr>\n",
       "\t<tr><td>m$diet    </td><td>0.00      </td><td> TRUE     </td></tr>\n",
       "\t<tr><td>m$digest  </td><td>0.51      </td><td>FALSE     </td></tr>\n",
       "\t<tr><td>m$geo     </td><td>0.99      </td><td>FALSE     </td></tr>\n",
       "\t<tr><td>m$habitat </td><td>1.00      </td><td>FALSE     </td></tr>\n",
       "\t<tr><td>m$host_phy</td><td>0.93      </td><td>FALSE     </td></tr>\n",
       "\t<tr><td>m$samp    </td><td>0.93      </td><td>FALSE     </td></tr>\n",
       "</tbody>\n",
       "</table>\n"
      ],
      "text/latex": [
       "\\begin{tabular}{r|lll}\n",
       " variable & pval\\_sensitivity & sig\\_pval\\_sensitivity\\\\\n",
       "\\hline\n",
       "\t Int        & 1.00       & FALSE     \\\\\n",
       "\t m\\$diet     & 0.00         &  TRUE       \\\\\n",
       "\t m\\$digest   & 0.51         & FALSE       \\\\\n",
       "\t m\\$geo      & 0.99         & FALSE       \\\\\n",
       "\t m\\$habitat  & 1.00         & FALSE       \\\\\n",
       "\t m\\$host\\_phy & 0.93           & FALSE         \\\\\n",
       "\t m\\$samp     & 0.93         & FALSE       \\\\\n",
       "\\end{tabular}\n"
      ],
      "text/markdown": [
       "\n",
       "variable | pval_sensitivity | sig_pval_sensitivity | \n",
       "|---|---|---|---|---|---|---|\n",
       "| Int        | 1.00       | FALSE      | \n",
       "| m$diet     | 0.00       |  TRUE      | \n",
       "| m$digest   | 0.51       | FALSE      | \n",
       "| m$geo      | 0.99       | FALSE      | \n",
       "| m$habitat  | 1.00       | FALSE      | \n",
       "| m$host_phy | 0.93       | FALSE      | \n",
       "| m$samp     | 0.93       | FALSE      | \n",
       "\n",
       "\n"
      ],
      "text/plain": [
       "  variable   pval_sensitivity sig_pval_sensitivity\n",
       "1 Int        1.00             FALSE               \n",
       "2 m$diet     0.00              TRUE               \n",
       "3 m$digest   0.51             FALSE               \n",
       "4 m$geo      0.99             FALSE               \n",
       "5 m$habitat  1.00             FALSE               \n",
       "6 m$host_phy 0.93             FALSE               \n",
       "7 m$samp     0.93             FALSE               "
      ]
     },
     "metadata": {},
     "output_type": "display_data"
    }
   ],
   "source": [
    "# significance\n",
    "mrm_res %>% \n",
    "    group_by(variable) %>%\n",
    "    summarize(pval_sensitivity = 1 - sum(coef_pval < 0.05) / length(pval)) %>%\n",
    "    ungroup() %>%\n",
    "    mutate(sig_pval_sensitivity = pval_sensitivity < 0.05)"
   ]
  },
  {
   "cell_type": "markdown",
   "metadata": {},
   "source": [
    "#### Model 2"
   ]
  },
  {
   "cell_type": "code",
   "execution_count": 80,
   "metadata": {
    "ExecuteTime": {
     "end_time": "2018-11-29T15:47:47.707051Z",
     "start_time": "2018-11-29T15:47:33.909Z"
    }
   },
   "outputs": [
    {
     "name": "stdout",
     "output_type": "stream",
     "text": [
      "[1] 600   7\n"
     ]
    },
    {
     "data": {
      "text/html": [
       "<table>\n",
       "<thead><tr><th></th><th scope=col>coef</th><th scope=col>coef_pval</th><th scope=col>variable</th><th scope=col>R2</th><th scope=col>pval</th><th scope=col>F</th><th scope=col>rep</th></tr></thead>\n",
       "<tbody>\n",
       "\t<tr><th scope=row>Int</th><td> 1.145803e+03</td><td>0.886        </td><td>Int          </td><td>0.0253367    </td><td>0.048        </td><td>13.63196     </td><td>1            </td></tr>\n",
       "\t<tr><th scope=row>m$host_phy</th><td>-9.980423e-03</td><td>0.847        </td><td>m$host_phy   </td><td>0.0253367    </td><td>0.048        </td><td>13.63196     </td><td>1            </td></tr>\n",
       "\t<tr><th scope=row>m$diet</th><td> 1.549681e-01</td><td>0.001        </td><td>m$diet       </td><td>0.0253367    </td><td>0.048        </td><td>13.63196     </td><td>1            </td></tr>\n",
       "</tbody>\n",
       "</table>\n"
      ],
      "text/latex": [
       "\\begin{tabular}{r|lllllll}\n",
       "  & coef & coef\\_pval & variable & R2 & pval & F & rep\\\\\n",
       "\\hline\n",
       "\tInt &  1.145803e+03 & 0.886         & Int           & 0.0253367     & 0.048         & 13.63196      & 1            \\\\\n",
       "\tm\\$host\\_phy & -9.980423e-03  & 0.847          & m\\$host\\_phy & 0.0253367      & 0.048          & 13.63196       & 1             \\\\\n",
       "\tm\\$diet &  1.549681e-01 & 0.001         & m\\$diet      & 0.0253367     & 0.048         & 13.63196      & 1            \\\\\n",
       "\\end{tabular}\n"
      ],
      "text/markdown": [
       "\n",
       "| <!--/--> | coef | coef_pval | variable | R2 | pval | F | rep | \n",
       "|---|---|---|\n",
       "| Int |  1.145803e+03 | 0.886         | Int           | 0.0253367     | 0.048         | 13.63196      | 1             | \n",
       "| m$host_phy | -9.980423e-03 | 0.847         | m$host_phy    | 0.0253367     | 0.048         | 13.63196      | 1             | \n",
       "| m$diet |  1.549681e-01 | 0.001         | m$diet        | 0.0253367     | 0.048         | 13.63196      | 1             | \n",
       "\n",
       "\n"
      ],
      "text/plain": [
       "           coef          coef_pval variable   R2        pval  F        rep\n",
       "Int         1.145803e+03 0.886     Int        0.0253367 0.048 13.63196 1  \n",
       "m$host_phy -9.980423e-03 0.847     m$host_phy 0.0253367 0.048 13.63196 1  \n",
       "m$diet      1.549681e-01 0.001     m$diet     0.0253367 0.048 13.63196 1  "
      ]
     },
     "metadata": {},
     "output_type": "display_data"
    }
   ],
   "source": [
    "doParallel::registerDoParallel(threads)\n",
    "x = as.list(1:length(m_perm))\n",
    "f = 'm$alpha ~ m$host_phy + m$diet + m$habitat + m$geo + m$samp'\n",
    "mrm_res = plyr::llply(x, mrm_each, L=m_perm, f=f, nperm=nperm, .parallel=TRUE)\n",
    "mrm_res = do.call(rbind, mrm_res)\n",
    "mrm_res %>% dfhead"
   ]
  },
  {
   "cell_type": "code",
   "execution_count": 81,
   "metadata": {
    "ExecuteTime": {
     "end_time": "2018-11-29T15:47:47.750165Z",
     "start_time": "2018-11-29T15:47:34.067Z"
    }
   },
   "outputs": [
    {
     "data": {
      "text/plain": [
       "       R2               pval              rep        \n",
       " Min.   :0.01631   Min.   :0.00100   Min.   :  1.00  \n",
       " 1st Qu.:0.03043   1st Qu.:0.00100   1st Qu.: 25.75  \n",
       " Median :0.04229   Median :0.00500   Median : 50.50  \n",
       " Mean   :0.04351   Mean   :0.01739   Mean   : 50.50  \n",
       " 3rd Qu.:0.05417   3rd Qu.:0.02100   3rd Qu.: 75.25  \n",
       " Max.   :0.09334   Max.   :0.21600   Max.   :100.00  "
      ]
     },
     "metadata": {},
     "output_type": "display_data"
    }
   ],
   "source": [
    "# summary of overall model\n",
    "mrm_res %>%\n",
    "    distinct(R2, pval, rep) %>%\n",
    "    summary"
   ]
  },
  {
   "cell_type": "code",
   "execution_count": 82,
   "metadata": {
    "ExecuteTime": {
     "end_time": "2018-11-29T15:47:49.441204Z",
     "start_time": "2018-11-29T15:47:34.211Z"
    }
   },
   "outputs": [
    {
     "name": "stderr",
     "output_type": "stream",
     "text": [
      "Warning message:\n",
      "“Column `variable`/`old_name` joining character vector and factor, coercing into character vector”"
     ]
    },
    {
     "name": "stdout",
     "output_type": "stream",
     "text": [
      "File written: /ebio/abt3_projects/Georg_animal_feces/data/modulating_factors/MRM/IndD/alpha_div/.figures/MRM_IndD-family_shannon_model2.pdf \n"
     ]
    },
    {
     "data": {
      "image/png": "[encoded data removed]",
      "text/plain": [
       "plot without title"
      ]
     },
     "metadata": {},
     "output_type": "display_data"
    }
   ],
   "source": [
    "mrm_res_s = mrm_res %>% \n",
    "    filter(variable != 'Int') %>%\n",
    "    gather(category, value, -variable, -R2, -pval, -F, -rep) %>%\n",
    "    mutate(category = ifelse(category == 'coef', 'Coef.', 'Adj. P-value'))\n",
    "\n",
    "mrm_res_s = mrm_res_s %>%\n",
    "    inner_join(rename_df, c('variable'='old_name')) %>%\n",
    "    dplyr::select(-variable) %>%\n",
    "    rename('variable' = new_name)              \n",
    "\n",
    "# changing coef scale\n",
    "df = mrm_res_s %>%\n",
    "    filter(category == 'Coef.') %>%\n",
    "    mutate(value = 0.41) %>%\n",
    "    .[1,]\n",
    "\n",
    "# plotting\n",
    "p = ggplot(mrm_res_s, aes(variable, value)) +\n",
    "    geom_boxplot() +\n",
    "    geom_point(data=df, alpha=0) +\n",
    "    facet_grid(category ~ ., scales='free_y') +\n",
    "    theme_bw()\n",
    "\n",
    "options(repr.plot.width=5, repr.plot.height=3)\n",
    "plot_write(p, file='MRM_IndD-family_shannon_model2.pdf')"
   ]
  },
  {
   "cell_type": "code",
   "execution_count": 83,
   "metadata": {
    "ExecuteTime": {
     "end_time": "2018-11-29T15:47:49.488477Z",
     "start_time": "2018-11-29T15:47:34.365Z"
    }
   },
   "outputs": [
    {
     "data": {
      "text/html": [
       "<table>\n",
       "<thead><tr><th scope=col>variable</th><th scope=col>pval_sensitivity</th><th scope=col>sig_pval_sensitivity</th></tr></thead>\n",
       "<tbody>\n",
       "\t<tr><td>Int       </td><td>1.00      </td><td>FALSE     </td></tr>\n",
       "\t<tr><td>m$diet    </td><td>0.00      </td><td> TRUE     </td></tr>\n",
       "\t<tr><td>m$geo     </td><td>0.99      </td><td>FALSE     </td></tr>\n",
       "\t<tr><td>m$habitat </td><td>1.00      </td><td>FALSE     </td></tr>\n",
       "\t<tr><td>m$host_phy</td><td>1.00      </td><td>FALSE     </td></tr>\n",
       "\t<tr><td>m$samp    </td><td>0.94      </td><td>FALSE     </td></tr>\n",
       "</tbody>\n",
       "</table>\n"
      ],
      "text/latex": [
       "\\begin{tabular}{r|lll}\n",
       " variable & pval\\_sensitivity & sig\\_pval\\_sensitivity\\\\\n",
       "\\hline\n",
       "\t Int        & 1.00       & FALSE     \\\\\n",
       "\t m\\$diet     & 0.00         &  TRUE       \\\\\n",
       "\t m\\$geo      & 0.99         & FALSE       \\\\\n",
       "\t m\\$habitat  & 1.00         & FALSE       \\\\\n",
       "\t m\\$host\\_phy & 1.00           & FALSE         \\\\\n",
       "\t m\\$samp     & 0.94         & FALSE       \\\\\n",
       "\\end{tabular}\n"
      ],
      "text/markdown": [
       "\n",
       "variable | pval_sensitivity | sig_pval_sensitivity | \n",
       "|---|---|---|---|---|---|\n",
       "| Int        | 1.00       | FALSE      | \n",
       "| m$diet     | 0.00       |  TRUE      | \n",
       "| m$geo      | 0.99       | FALSE      | \n",
       "| m$habitat  | 1.00       | FALSE      | \n",
       "| m$host_phy | 1.00       | FALSE      | \n",
       "| m$samp     | 0.94       | FALSE      | \n",
       "\n",
       "\n"
      ],
      "text/plain": [
       "  variable   pval_sensitivity sig_pval_sensitivity\n",
       "1 Int        1.00             FALSE               \n",
       "2 m$diet     0.00              TRUE               \n",
       "3 m$geo      0.99             FALSE               \n",
       "4 m$habitat  1.00             FALSE               \n",
       "5 m$host_phy 1.00             FALSE               \n",
       "6 m$samp     0.94             FALSE               "
      ]
     },
     "metadata": {},
     "output_type": "display_data"
    }
   ],
   "source": [
    "# significance\n",
    "mrm_res %>% \n",
    "    group_by(variable) %>%\n",
    "    summarize(pval_sensitivity = 1 - sum(coef_pval < 0.05) / length(pval)) %>%\n",
    "    ungroup() %>%\n",
    "    mutate(sig_pval_sensitivity = pval_sensitivity < 0.05)"
   ]
  },
  {
   "cell_type": "markdown",
   "metadata": {},
   "source": [
    "# sessionInfo\n"
   ]
  },
  {
   "cell_type": "code",
   "execution_count": 84,
   "metadata": {
    "ExecuteTime": {
     "end_time": "2018-11-29T15:47:49.651327Z",
     "start_time": "2018-11-29T15:47:34.652Z"
    }
   },
   "outputs": [
    {
     "data": {
      "text/plain": [
       "R version 3.4.1 (2017-06-30)\n",
       "Platform: x86_64-pc-linux-gnu (64-bit)\n",
       "Running under: Ubuntu 18.04.1 LTS\n",
       "\n",
       "Matrix products: default\n",
       "BLAS: /ebio/abt3_projects/software/miniconda3_gt4.4/envs/py3_physeq_eco/lib/R/lib/libRblas.so\n",
       "LAPACK: /ebio/abt3_projects/software/miniconda3_gt4.4/envs/py3_physeq_eco/lib/R/lib/libRlapack.so\n",
       "\n",
       "locale:\n",
       "[1] en_US.UTF-8\n",
       "\n",
       "attached base packages:\n",
       "[1] stats     graphics  grDevices utils     datasets  methods   base     \n",
       "\n",
       "other attached packages:\n",
       "[1] bindrcpp_0.2.2  phyloseq_1.22.3 stringr_1.3.1   ggplot2_3.0.0  \n",
       "[5] tidyr_0.8.1     dplyr_0.7.6    \n",
       "\n",
       "loaded via a namespace (and not attached):\n",
       " [1] Rcpp_0.12.17        ape_5.1             lattice_0.20-34    \n",
       " [4] Biostrings_2.46.0   assertthat_0.2.0    digest_0.6.15      \n",
       " [7] foreach_1.4.4       IRdisplay_0.4.4     R6_2.2.2           \n",
       "[10] plyr_1.8.4          repr_0.15.0         stats4_3.4.1       \n",
       "[13] evaluate_0.10.1     pillar_1.2.2        zlibbioc_1.24.0    \n",
       "[16] rlang_0.2.1         lazyeval_0.2.1      uuid_0.1-2         \n",
       "[19] geosphere_1.5-5     data.table_1.11.4   vegan_2.4-3        \n",
       "[22] S4Vectors_0.16.0    Matrix_1.2-14       labeling_0.3       \n",
       "[25] splines_3.4.1       igraph_1.2.1        munsell_0.5.0      \n",
       "[28] compiler_3.4.1      pkgconfig_2.0.1     BiocGenerics_0.24.0\n",
       "[31] base64enc_0.1-3     multtest_2.34.0     mgcv_1.8-24        \n",
       "[34] htmltools_0.3.6     biomformat_1.6.0    tidyselect_0.2.4   \n",
       "[37] tibble_1.4.2        IRanges_2.12.0      codetools_0.2-15   \n",
       "[40] permute_0.9-4       crayon_1.3.4        withr_2.1.1        \n",
       "[43] MASS_7.3-50         grid_3.4.1          nlme_3.1-131       \n",
       "[46] jsonlite_1.5        gtable_0.2.0        magrittr_1.5       \n",
       "[49] scales_0.5.0        stringi_1.2.3       XVector_0.18.0     \n",
       "[52] reshape2_1.4.3      doParallel_1.0.11   sp_1.2-7           \n",
       "[55] IRkernel_0.8.12     iterators_1.0.10    tools_3.4.1        \n",
       "[58] ade4_1.7-11         Biobase_2.38.0      glue_1.3.0         \n",
       "[61] purrr_0.2.4         parallel_3.4.1      survival_2.42-6    \n",
       "[64] colorspace_1.3-2    rhdf5_2.22.0        cluster_2.0.6      \n",
       "[67] pbdZMQ_0.3-2        bindr_0.1.1        "
      ]
     },
     "metadata": {},
     "output_type": "display_data"
    }
   ],
   "source": [
    "sessionInfo()"
   ]
  }
 ],
 "metadata": {
  "kernelspec": {
   "display_name": "R [conda env:py3_physeq_eco]",
   "language": "R",
   "name": "conda-env-py3_physeq_eco-r"
  },
  "language_info": {
   "codemirror_mode": "r",
   "file_extension": ".r",
   "mimetype": "text/x-r-source",
   "name": "R",
   "pygments_lexer": "r",
   "version": "3.4.1"
  },
  "notify_time": "30",
  "toc": {
   "base_numbering": 1,
   "nav_menu": {},
   "number_sections": true,
   "sideBar": true,
   "skip_h1_title": false,
   "title_cell": "Table of Contents",
   "title_sidebar": "Contents",
   "toc_cell": false,
   "toc_position": {
    "height": "1209px",
    "left": "0px",
    "right": "2348px",
    "top": "111px",
    "width": "212px"
   },
   "toc_section_display": "block",
   "toc_window_display": true
  }
 },
 "nbformat": 4,
 "nbformat_minor": 2
}
