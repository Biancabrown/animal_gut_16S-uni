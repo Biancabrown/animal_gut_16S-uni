{
 "cells": [
  {
   "cell_type": "markdown",
   "metadata": {},
   "source": [
    "# Goal\n",
    "\n",
    "* Multiple Regression on Matrices (MRM) analysis on IndD dataset\n",
    "  * `IndD` = one sample per individual\n",
    "  * Just mammalia samples"
   ]
  },
  {
   "cell_type": "markdown",
   "metadata": {},
   "source": [
    "# Var"
   ]
  },
  {
   "cell_type": "code",
   "execution_count": 1,
   "metadata": {
    "ExecuteTime": {
     "end_time": "2018-08-23T14:26:47.548959Z",
     "start_time": "2018-08-23T14:28:26.639Z"
    }
   },
   "outputs": [],
   "source": [
    "work_dir = '/ebio/abt3_projects/Georg_animal_feces/data/modulating_factors/MRM/IndD/'\n",
    "\n",
    "# phyloseq\n",
    "physeq_file = '/ebio/abt3_projects/Georg_animal_feces/data/16S/LLA/phyloseq/physeq_r5k.RDS'\n",
    "\n",
    "# beta-div distance matrices\n",
    "beta_div_file = '/ebio/abt3_projects/Georg_animal_feces/data/16S/LLA/diversity/beta_div.RDS'\n",
    "\n",
    "# host phylogeny\n",
    "host_tree_dist_file = '/ebio/abt3_projects/Georg_animal_feces/data/animal/phylogeny/TT/unified_metadata_complete_20180625_rn_16S-r5k_IndD_dist.RDS'\n",
    "\n",
    "# params\n",
    "threads = 12"
   ]
  },
  {
   "cell_type": "markdown",
   "metadata": {},
   "source": [
    "# Init"
   ]
  },
  {
   "cell_type": "code",
   "execution_count": 15,
   "metadata": {
    "ExecuteTime": {
     "end_time": "2018-08-23T14:29:35.213700Z",
     "start_time": "2018-08-23T14:31:15.185Z"
    }
   },
   "outputs": [],
   "source": [
    "library(dplyr)\n",
    "library(tidyr)\n",
    "library(ggplot2)\n",
    "library(stringr)\n",
    "library(ape)\n",
    "library(ecodist)\n",
    "library(phyloseq)\n",
    "library(doParallel)\n",
    "source('/ebio/abt3_projects/Georg_animal_feces/code/init.R') "
   ]
  },
  {
   "cell_type": "code",
   "execution_count": 5,
   "metadata": {
    "ExecuteTime": {
     "end_time": "2018-08-23T14:27:07.906232Z",
     "start_time": "2018-08-23T14:28:40.171Z"
    }
   },
   "outputs": [],
   "source": [
    "set.seed(9384)"
   ]
  },
  {
   "cell_type": "code",
   "execution_count": 3,
   "metadata": {
    "ExecuteTime": {
     "end_time": "2018-08-23T14:27:07.799610Z",
     "start_time": "2018-08-23T14:28:28.305Z"
    }
   },
   "outputs": [
    {
     "name": "stdout",
     "output_type": "stream",
     "text": [
      "Directory already exists: /ebio/abt3_projects/Georg_animal_feces/data/modulating_factors/MRM/IndD/ \n"
     ]
    }
   ],
   "source": [
    "make_dir(work_dir)"
   ]
  },
  {
   "cell_type": "markdown",
   "metadata": {},
   "source": [
    "## Functions"
   ]
  },
  {
   "cell_type": "code",
   "execution_count": 6,
   "metadata": {
    "ExecuteTime": {
     "end_time": "2018-08-23T14:27:07.947026Z",
     "start_time": "2018-08-23T14:28:41.728Z"
    }
   },
   "outputs": [],
   "source": [
    "dist_mtx_order = function(d, x){\n",
    "    # Ordering distance matrixes\n",
    "    # d = distance matrix (dist class)\n",
    "    # x = vector to order dist. obj. by\n",
    "    m = d %>% as.matrix\n",
    "    d = as.dist(m[x,x])\n",
    "    return(d)\n",
    "}"
   ]
  },
  {
   "cell_type": "markdown",
   "metadata": {},
   "source": [
    "# Load"
   ]
  },
  {
   "cell_type": "markdown",
   "metadata": {},
   "source": [
    "## Phyloseq"
   ]
  },
  {
   "cell_type": "code",
   "execution_count": 9,
   "metadata": {
    "ExecuteTime": {
     "end_time": "2018-08-23T14:29:16.212455Z",
     "start_time": "2018-08-23T14:30:34.288Z"
    }
   },
   "outputs": [
    {
     "data": {
      "text/plain": [
       "phyloseq-class experiment-level object\n",
       "otu_table()   OTU Table:         [ 30290 taxa and 160 samples ]\n",
       "sample_data() Sample Data:       [ 160 samples by 171 sample variables ]\n",
       "tax_table()   Taxonomy Table:    [ 30290 taxa by 7 taxonomic ranks ]\n",
       "phy_tree()    Phylogenetic Tree: [ 30290 tips and 29752 internal nodes ]"
      ]
     },
     "metadata": {},
     "output_type": "display_data"
    }
   ],
   "source": [
    "# phyloseq obj.\n",
    "physeq = readRDS(physeq_file) %>%\n",
    "    subset_samples(class=='Mammalia')\n",
    "physeq"
   ]
  },
  {
   "cell_type": "markdown",
   "metadata": {},
   "source": [
    "### Metadata"
   ]
  },
  {
   "cell_type": "code",
   "execution_count": 11,
   "metadata": {
    "ExecuteTime": {
     "end_time": "2018-08-23T14:29:25.527666Z",
     "start_time": "2018-08-23T14:31:05.186Z"
    }
   },
   "outputs": [
    {
     "name": "stderr",
     "output_type": "stream",
     "text": [
      "Warning message in class(X) <- NULL:\n",
      "“Setting class(x) to NULL;   result will no longer be an S4 object”"
     ]
    },
    {
     "name": "stdout",
     "output_type": "stream",
     "text": [
      "[1] 160 171\n"
     ]
    },
    {
     "data": {
      "text/html": [
       "<table>\n",
       "<thead><tr><th scope=col>X.SampleID</th><th scope=col>BarcodeSequence</th><th scope=col>LinkerPrimerSequence</th><th scope=col>Primer</th><th scope=col>ReversePrimer</th><th scope=col>Barcode_ID</th><th scope=col>sample_number</th><th scope=col>host_subject_id</th><th scope=col>host_german_name</th><th scope=col>host_common_name</th><th scope=col>⋯</th><th scope=col>wellplate_position_Illumina</th><th scope=col>Cornell_Dilution_DNA_Illumina</th><th scope=col>Num_Illumina</th><th scope=col>Num</th><th scope=col>sorting_454</th><th scope=col>comments_additional</th><th scope=col>DNA_box_20180622</th><th scope=col>sample_vol_20180622</th><th scope=col>sample_label_20180622</th><th scope=col>Description</th></tr></thead>\n",
       "<tbody>\n",
       "\t<tr><td>X1.Eurasian.Beaver   </td><td>ACTCACGGTATG         </td><td>CATGCTGCCTCCCGTAGGAGT</td><td>GCCTCCCTCGCGCCATCAG  </td><td>AGAGTTTGATCCTGGCTCAG </td><td>338R_BC0049          </td><td>1                    </td><td>1                    </td><td>Biber                </td><td>Eurasian.Beaver      </td><td>⋯                    </td><td>B12                  </td><td>4                    </td><td>120                  </td><td>18                   </td><td>18                   </td><td>NA                   </td><td>1                    </td><td>20                   </td><td>1                    </td><td>NA                   </td></tr>\n",
       "\t<tr><td>X101.Horse           </td><td>ACGACGTCTTAG         </td><td>CATGCTGCCTCCCGTAGGAGT</td><td>GCCTCCCTCGCGCCATCAG  </td><td>AGAGTTTGATCCTGGCTCAG </td><td>338R_BC0030          </td><td>101                  </td><td>101                  </td><td>Hauspferd            </td><td>Horse                </td><td>⋯                    </td><td>E8                   </td><td>16                   </td><td>344                  </td><td>160                  </td><td>160                  </td><td>NA                   </td><td>2                    </td><td>20                   </td><td>101                  </td><td>NA                   </td></tr>\n",
       "\t<tr><td>X102.Kulan           </td><td>ACGAGTGCTATC         </td><td>CATGCTGCCTCCCGTAGGAGT</td><td>GCCTCCCTCGCGCCATCAG  </td><td>AGAGTTTGATCCTGGCTCAG </td><td>338R_BC0031          </td><td>102                  </td><td>102                  </td><td>Khulan               </td><td>Kulan                </td><td>⋯                    </td><td>E9                   </td><td>16                   </td><td>345                  </td><td>161                  </td><td>161                  </td><td>NA                   </td><td>2                    </td><td>20                   </td><td>102                  </td><td>NA                   </td></tr>\n",
       "</tbody>\n",
       "</table>\n"
      ],
      "text/latex": [
       "\\begin{tabular}{r|lllllllllllllllllllllllllllllllllllllllllllllllllllllllllllllllllllllllllllllllllllllllllllllllllllllllllllllllllllllllllllllllllllllllllllllllllllllllllllllllllllllllllll}\n",
       " X.SampleID & BarcodeSequence & LinkerPrimerSequence & Primer & ReversePrimer & Barcode\\_ID & sample\\_number & host\\_subject\\_id & host\\_german\\_name & host\\_common\\_name & ⋯ & wellplate\\_position\\_Illumina & Cornell\\_Dilution\\_DNA\\_Illumina & Num\\_Illumina & Num & sorting\\_454 & comments\\_additional & DNA\\_box\\_20180622 & sample\\_vol\\_20180622 & sample\\_label\\_20180622 & Description\\\\\n",
       "\\hline\n",
       "\t X1.Eurasian.Beaver    & ACTCACGGTATG          & CATGCTGCCTCCCGTAGGAGT & GCCTCCCTCGCGCCATCAG   & AGAGTTTGATCCTGGCTCAG  & 338R\\_BC0049         & 1                     & 1                     & Biber                 & Eurasian.Beaver       & ⋯                     & B12                   & 4                     & 120                   & 18                    & 18                    & NA                    & 1                     & 20                    & 1                     & NA                   \\\\\n",
       "\t X101.Horse            & ACGACGTCTTAG          & CATGCTGCCTCCCGTAGGAGT & GCCTCCCTCGCGCCATCAG   & AGAGTTTGATCCTGGCTCAG  & 338R\\_BC0030         & 101                   & 101                   & Hauspferd             & Horse                 & ⋯                     & E8                    & 16                    & 344                   & 160                   & 160                   & NA                    & 2                     & 20                    & 101                   & NA                   \\\\\n",
       "\t X102.Kulan            & ACGAGTGCTATC          & CATGCTGCCTCCCGTAGGAGT & GCCTCCCTCGCGCCATCAG   & AGAGTTTGATCCTGGCTCAG  & 338R\\_BC0031         & 102                   & 102                   & Khulan                & Kulan                 & ⋯                     & E9                    & 16                    & 345                   & 161                   & 161                   & NA                    & 2                     & 20                    & 102                   & NA                   \\\\\n",
       "\\end{tabular}\n"
      ],
      "text/markdown": [
       "\n",
       "X.SampleID | BarcodeSequence | LinkerPrimerSequence | Primer | ReversePrimer | Barcode_ID | sample_number | host_subject_id | host_german_name | host_common_name | ⋯ | wellplate_position_Illumina | Cornell_Dilution_DNA_Illumina | Num_Illumina | Num | sorting_454 | comments_additional | DNA_box_20180622 | sample_vol_20180622 | sample_label_20180622 | Description | \n",
       "|---|---|---|\n",
       "| X1.Eurasian.Beaver    | ACTCACGGTATG          | CATGCTGCCTCCCGTAGGAGT | GCCTCCCTCGCGCCATCAG   | AGAGTTTGATCCTGGCTCAG  | 338R_BC0049           | 1                     | 1                     | Biber                 | Eurasian.Beaver       | ⋯                     | B12                   | 4                     | 120                   | 18                    | 18                    | NA                    | 1                     | 20                    | 1                     | NA                    | \n",
       "| X101.Horse            | ACGACGTCTTAG          | CATGCTGCCTCCCGTAGGAGT | GCCTCCCTCGCGCCATCAG   | AGAGTTTGATCCTGGCTCAG  | 338R_BC0030           | 101                   | 101                   | Hauspferd             | Horse                 | ⋯                     | E8                    | 16                    | 344                   | 160                   | 160                   | NA                    | 2                     | 20                    | 101                   | NA                    | \n",
       "| X102.Kulan            | ACGAGTGCTATC          | CATGCTGCCTCCCGTAGGAGT | GCCTCCCTCGCGCCATCAG   | AGAGTTTGATCCTGGCTCAG  | 338R_BC0031           | 102                   | 102                   | Khulan                | Kulan                 | ⋯                     | E9                    | 16                    | 345                   | 161                   | 161                   | NA                    | 2                     | 20                    | 102                   | NA                    | \n",
       "\n",
       "\n"
      ],
      "text/plain": [
       "  X.SampleID         BarcodeSequence LinkerPrimerSequence  Primer             \n",
       "1 X1.Eurasian.Beaver ACTCACGGTATG    CATGCTGCCTCCCGTAGGAGT GCCTCCCTCGCGCCATCAG\n",
       "2 X101.Horse         ACGACGTCTTAG    CATGCTGCCTCCCGTAGGAGT GCCTCCCTCGCGCCATCAG\n",
       "3 X102.Kulan         ACGAGTGCTATC    CATGCTGCCTCCCGTAGGAGT GCCTCCCTCGCGCCATCAG\n",
       "  ReversePrimer        Barcode_ID  sample_number host_subject_id\n",
       "1 AGAGTTTGATCCTGGCTCAG 338R_BC0049 1             1              \n",
       "2 AGAGTTTGATCCTGGCTCAG 338R_BC0030 101           101            \n",
       "3 AGAGTTTGATCCTGGCTCAG 338R_BC0031 102           102            \n",
       "  host_german_name host_common_name ⋯ wellplate_position_Illumina\n",
       "1 Biber            Eurasian.Beaver  ⋯ B12                        \n",
       "2 Hauspferd        Horse            ⋯ E8                         \n",
       "3 Khulan           Kulan            ⋯ E9                         \n",
       "  Cornell_Dilution_DNA_Illumina Num_Illumina Num sorting_454\n",
       "1 4                             120          18  18         \n",
       "2 16                            344          160 160        \n",
       "3 16                            345          161 161        \n",
       "  comments_additional DNA_box_20180622 sample_vol_20180622\n",
       "1 NA                  1                20                 \n",
       "2 NA                  2                20                 \n",
       "3 NA                  2                20                 \n",
       "  sample_label_20180622 Description\n",
       "1 1                     NA         \n",
       "2 101                   NA         \n",
       "3 102                   NA         "
      ]
     },
     "metadata": {},
     "output_type": "display_data"
    }
   ],
   "source": [
    "# metadata\n",
    "metadata = physeq %>%\n",
    "    sample_data %>%\n",
    "    as.matrix %>%\n",
    "    as.data.frame %>%\n",
    "    mutate(X.SampleID = rownames(.))\n",
    "\n",
    "metadata %>% dfhead"
   ]
  },
  {
   "cell_type": "markdown",
   "metadata": {},
   "source": [
    "## Beta diversity"
   ]
  },
  {
   "cell_type": "code",
   "execution_count": 12,
   "metadata": {
    "ExecuteTime": {
     "end_time": "2018-08-23T14:29:26.905299Z",
     "start_time": "2018-08-23T14:31:06.944Z"
    }
   },
   "outputs": [],
   "source": [
    "rescale_dist_mtx = function(m){\n",
    "    m = m %>% as.matrix\n",
    "    labs = m %>% colnames\n",
    "    n_row = m %>% nrow\n",
    "    n_col = m %>% ncol\n",
    "    x = m %>% as.vector \n",
    "    x = scales::rescale(x) \n",
    "    m = matrix(x, nrow=n_row, ncol=n_col)\n",
    "    colnames(m) = labs\n",
    "    rownames(m) = labs\n",
    "    m = m %>% as.dist\n",
    "    return(m)\n",
    "}"
   ]
  },
  {
   "cell_type": "code",
   "execution_count": 13,
   "metadata": {
    "ExecuteTime": {
     "end_time": "2018-08-23T14:29:27.864288Z",
     "start_time": "2018-08-23T14:31:07.793Z"
    }
   },
   "outputs": [
    {
     "data": {
      "text/plain": [
       "$bray_curtis\n",
       "   Min. 1st Qu.  Median    Mean 3rd Qu.    Max. \n",
       " 0.1104  0.9984  1.0000  0.9890  1.0000  1.0000 \n",
       "\n",
       "$jaccard\n",
       "   Min. 1st Qu.  Median    Mean 3rd Qu.    Max. \n",
       " 0.3886  0.9956  1.0000  0.9912  1.0000  1.0000 \n",
       "\n",
       "$unweighted_unifrac\n",
       "   Min. 1st Qu.  Median    Mean 3rd Qu.    Max. \n",
       " 0.2149  0.7783  0.8494  0.8361  0.9163  0.9881 \n",
       "\n",
       "$weighted_unifrac\n",
       "   Min. 1st Qu.  Median    Mean 3rd Qu.    Max. \n",
       "0.02332 0.46492 0.55024 0.53904 0.62490 0.94211 \n"
      ]
     },
     "metadata": {},
     "output_type": "display_data"
    }
   ],
   "source": [
    "# load beta-diversity dist. matrices\n",
    "beta_d = readRDS(beta_div_file)\n",
    "\n",
    "# status\n",
    "lapply(beta_d, function(x) x %>% as.vector %>% summary)"
   ]
  },
  {
   "cell_type": "code",
   "execution_count": 20,
   "metadata": {
    "ExecuteTime": {
     "end_time": "2018-08-23T14:33:25.155535Z",
     "start_time": "2018-08-23T14:35:05.177Z"
    }
   },
   "outputs": [
    {
     "data": {
      "text/html": [
       "<dl>\n",
       "\t<dt>$bray_curtis</dt>\n",
       "\t\t<dd><ol class=list-inline>\n",
       "\t<li>160</li>\n",
       "\t<li>160</li>\n",
       "</ol>\n",
       "</dd>\n",
       "\t<dt>$jaccard</dt>\n",
       "\t\t<dd><ol class=list-inline>\n",
       "\t<li>160</li>\n",
       "\t<li>160</li>\n",
       "</ol>\n",
       "</dd>\n",
       "\t<dt>$unweighted_unifrac</dt>\n",
       "\t\t<dd><ol class=list-inline>\n",
       "\t<li>160</li>\n",
       "\t<li>160</li>\n",
       "</ol>\n",
       "</dd>\n",
       "\t<dt>$weighted_unifrac</dt>\n",
       "\t\t<dd><ol class=list-inline>\n",
       "\t<li>160</li>\n",
       "\t<li>160</li>\n",
       "</ol>\n",
       "</dd>\n",
       "</dl>\n"
      ],
      "text/latex": [
       "\\begin{description}\n",
       "\\item[\\$bray\\_curtis] \\begin{enumerate*}\n",
       "\\item 160\n",
       "\\item 160\n",
       "\\end{enumerate*}\n",
       "\n",
       "\\item[\\$jaccard] \\begin{enumerate*}\n",
       "\\item 160\n",
       "\\item 160\n",
       "\\end{enumerate*}\n",
       "\n",
       "\\item[\\$unweighted\\_unifrac] \\begin{enumerate*}\n",
       "\\item 160\n",
       "\\item 160\n",
       "\\end{enumerate*}\n",
       "\n",
       "\\item[\\$weighted\\_unifrac] \\begin{enumerate*}\n",
       "\\item 160\n",
       "\\item 160\n",
       "\\end{enumerate*}\n",
       "\n",
       "\\end{description}\n"
      ],
      "text/markdown": [
       "$bray_curtis\n",
       ":   1. 160\n",
       "2. 160\n",
       "\n",
       "\n",
       "\n",
       "$jaccard\n",
       ":   1. 160\n",
       "2. 160\n",
       "\n",
       "\n",
       "\n",
       "$unweighted_unifrac\n",
       ":   1. 160\n",
       "2. 160\n",
       "\n",
       "\n",
       "\n",
       "$weighted_unifrac\n",
       ":   1. 160\n",
       "2. 160\n",
       "\n",
       "\n",
       "\n",
       "\n",
       "\n"
      ],
      "text/plain": [
       "$bray_curtis\n",
       "[1] 160 160\n",
       "\n",
       "$jaccard\n",
       "[1] 160 160\n",
       "\n",
       "$unweighted_unifrac\n",
       "[1] 160 160\n",
       "\n",
       "$weighted_unifrac\n",
       "[1] 160 160\n"
      ]
     },
     "metadata": {},
     "output_type": "display_data"
    }
   ],
   "source": [
    "# filtering beta-div to samples in metadata\n",
    "beta_d = lapply(beta_d, dist_mtx_order, metadata$X.SampleID) \n",
    "\n",
    "lapply(beta_d, function(x) x %>% as.matrix %>% dim)"
   ]
  },
  {
   "cell_type": "markdown",
   "metadata": {},
   "source": [
    "## Host phylogeny"
   ]
  },
  {
   "cell_type": "code",
   "execution_count": 26,
   "metadata": {
    "ExecuteTime": {
     "end_time": "2018-08-23T14:35:13.667192Z",
     "start_time": "2018-08-23T14:36:53.441Z"
    }
   },
   "outputs": [
    {
     "data": {
      "image/png": "[encoded data removed]",
      "text/plain": [
       "Plot with title “Cluster Dendrogram”"
      ]
     },
     "metadata": {},
     "output_type": "display_data"
    }
   ],
   "source": [
    "# patristic distance\n",
    "host_tree_d = readRDS(host_tree_dist_file)\n",
    "\n",
    "# filtering\n",
    "host_tree_d = dist_mtx_order(host_tree_d, beta_d[[1]] %>% labels)\n",
    "\n",
    "# plotting\n",
    "options(repr.plot.height=4, repr.plot.width=10)\n",
    "plot(hclust(host_tree_d), cex=0.4)"
   ]
  },
  {
   "cell_type": "markdown",
   "metadata": {},
   "source": [
    "# Checking overlap"
   ]
  },
  {
   "cell_type": "code",
   "execution_count": 27,
   "metadata": {
    "ExecuteTime": {
     "end_time": "2018-08-23T14:35:18.338886Z",
     "start_time": "2018-08-23T14:36:58.390Z"
    }
   },
   "outputs": [
    {
     "name": "stdout",
     "output_type": "stream",
     "text": [
      "character(0)\n",
      "character(0)\n"
     ]
    }
   ],
   "source": [
    "# beta-div and host tree\n",
    "setdiff(beta_d[[1]] %>% labels, host_tree_d %>% labels) %>% print\n",
    "setdiff(host_tree_d %>% labels, beta_d[[1]] %>% labels) %>% print"
   ]
  },
  {
   "cell_type": "code",
   "execution_count": 28,
   "metadata": {
    "ExecuteTime": {
     "end_time": "2018-08-23T14:35:19.249472Z",
     "start_time": "2018-08-23T14:36:59.308Z"
    }
   },
   "outputs": [
    {
     "name": "stdout",
     "output_type": "stream",
     "text": [
      "character(0)\n",
      "character(0)\n"
     ]
    }
   ],
   "source": [
    "# beta-div and metaata\n",
    "setdiff(beta_d[[1]] %>% labels, metadata$X.SampleID) %>% print\n",
    "setdiff(metadata$X.SampleID, beta_d[[1]] %>% labels) %>% print"
   ]
  },
  {
   "cell_type": "markdown",
   "metadata": {},
   "source": [
    "# Making distance matrices"
   ]
  },
  {
   "cell_type": "markdown",
   "metadata": {},
   "source": [
    "## Diet (detailed) distance\n",
    "\n",
    "* Detailed diet categories"
   ]
  },
  {
   "cell_type": "code",
   "execution_count": 29,
   "metadata": {
    "ExecuteTime": {
     "end_time": "2018-08-23T14:35:20.830419Z",
     "start_time": "2018-08-23T14:37:00.769Z"
    }
   },
   "outputs": [
    {
     "data": {
      "text/html": [
       "<table>\n",
       "<thead><tr><th></th><th scope=col>diet_vertebrate</th><th scope=col>diet_invertebrate</th><th scope=col>diet_fruit</th><th scope=col>diet_flowers_nectar_pollen</th><th scope=col>diet_leaves_branches_bark_buds</th><th scope=col>diet_seeds</th><th scope=col>diet_grass_waterplants</th><th scope=col>diet_roots_tubers</th></tr></thead>\n",
       "<tbody>\n",
       "\t<tr><th scope=row>X1.Eurasian.Beaver</th><td>0</td><td>0</td><td>0</td><td>0</td><td>1</td><td>0</td><td>1</td><td>1</td></tr>\n",
       "\t<tr><th scope=row>X101.Horse</th><td>0</td><td>0</td><td>0</td><td>0</td><td>0</td><td>1</td><td>1</td><td>0</td></tr>\n",
       "\t<tr><th scope=row>X102.Kulan</th><td>0</td><td>0</td><td>0</td><td>0</td><td>1</td><td>0</td><td>1</td><td>0</td></tr>\n",
       "\t<tr><th scope=row>X109.Red.Fox</th><td>1</td><td>1</td><td>1</td><td>0</td><td>0</td><td>0</td><td>0</td><td>0</td></tr>\n",
       "\t<tr><th scope=row>X110.Noctule</th><td>0</td><td>1</td><td>0</td><td>0</td><td>0</td><td>0</td><td>0</td><td>0</td></tr>\n",
       "\t<tr><th scope=row>X111.West.European.Hedgehog</th><td>1</td><td>1</td><td>0</td><td>0</td><td>0</td><td>0</td><td>0</td><td>0</td></tr>\n",
       "</tbody>\n",
       "</table>\n"
      ],
      "text/latex": [
       "\\begin{tabular}{r|llllllll}\n",
       "  & diet\\_vertebrate & diet\\_invertebrate & diet\\_fruit & diet\\_flowers\\_nectar\\_pollen & diet\\_leaves\\_branches\\_bark\\_buds & diet\\_seeds & diet\\_grass\\_waterplants & diet\\_roots\\_tubers\\\\\n",
       "\\hline\n",
       "\tX1.Eurasian.Beaver & 0 & 0 & 0 & 0 & 1 & 0 & 1 & 1\\\\\n",
       "\tX101.Horse & 0 & 0 & 0 & 0 & 0 & 1 & 1 & 0\\\\\n",
       "\tX102.Kulan & 0 & 0 & 0 & 0 & 1 & 0 & 1 & 0\\\\\n",
       "\tX109.Red.Fox & 1 & 1 & 1 & 0 & 0 & 0 & 0 & 0\\\\\n",
       "\tX110.Noctule & 0 & 1 & 0 & 0 & 0 & 0 & 0 & 0\\\\\n",
       "\tX111.West.European.Hedgehog & 1 & 1 & 0 & 0 & 0 & 0 & 0 & 0\\\\\n",
       "\\end{tabular}\n"
      ],
      "text/markdown": [
       "\n",
       "| <!--/--> | diet_vertebrate | diet_invertebrate | diet_fruit | diet_flowers_nectar_pollen | diet_leaves_branches_bark_buds | diet_seeds | diet_grass_waterplants | diet_roots_tubers | \n",
       "|---|---|---|---|---|---|\n",
       "| X1.Eurasian.Beaver | 0 | 0 | 0 | 0 | 1 | 0 | 1 | 1 | \n",
       "| X101.Horse | 0 | 0 | 0 | 0 | 0 | 1 | 1 | 0 | \n",
       "| X102.Kulan | 0 | 0 | 0 | 0 | 1 | 0 | 1 | 0 | \n",
       "| X109.Red.Fox | 1 | 1 | 1 | 0 | 0 | 0 | 0 | 0 | \n",
       "| X110.Noctule | 0 | 1 | 0 | 0 | 0 | 0 | 0 | 0 | \n",
       "| X111.West.European.Hedgehog | 1 | 1 | 0 | 0 | 0 | 0 | 0 | 0 | \n",
       "\n",
       "\n"
      ],
      "text/plain": [
       "                            diet_vertebrate diet_invertebrate diet_fruit\n",
       "X1.Eurasian.Beaver          0               0                 0         \n",
       "X101.Horse                  0               0                 0         \n",
       "X102.Kulan                  0               0                 0         \n",
       "X109.Red.Fox                1               1                 1         \n",
       "X110.Noctule                0               1                 0         \n",
       "X111.West.European.Hedgehog 1               1                 0         \n",
       "                            diet_flowers_nectar_pollen\n",
       "X1.Eurasian.Beaver          0                         \n",
       "X101.Horse                  0                         \n",
       "X102.Kulan                  0                         \n",
       "X109.Red.Fox                0                         \n",
       "X110.Noctule                0                         \n",
       "X111.West.European.Hedgehog 0                         \n",
       "                            diet_leaves_branches_bark_buds diet_seeds\n",
       "X1.Eurasian.Beaver          1                              0         \n",
       "X101.Horse                  0                              1         \n",
       "X102.Kulan                  1                              0         \n",
       "X109.Red.Fox                0                              0         \n",
       "X110.Noctule                0                              0         \n",
       "X111.West.European.Hedgehog 0                              0         \n",
       "                            diet_grass_waterplants diet_roots_tubers\n",
       "X1.Eurasian.Beaver          1                      1                \n",
       "X101.Horse                  1                      0                \n",
       "X102.Kulan                  1                      0                \n",
       "X109.Red.Fox                0                      0                \n",
       "X110.Noctule                0                      0                \n",
       "X111.West.European.Hedgehog 0                      0                "
      ]
     },
     "metadata": {},
     "output_type": "display_data"
    }
   ],
   "source": [
    "dietD = metadata %>%\n",
    "    dplyr::select(X.SampleID, diet_vertebrate, diet_invertebrate, diet_fruit,\n",
    "                  diet_flowers_nectar_pollen, diet_leaves_branches_bark_buds, diet_seeds,\n",
    "                  diet_grass_waterplants, diet_roots_tubers) %>%\n",
    "    mutate(diet_invertebrate = gsub(' .+', '', diet_invertebrate) %>% as.factor) %>%\n",
    "    as.data.frame\n",
    "\n",
    "rownames(dietD) = dietD$X.SampleID\n",
    "dietD$X.SampleID = NULL\n",
    "\n",
    "cn = colnames(dietD)\n",
    "dietD = dietD %>% \n",
    "    apply(1, function(x) ifelse(x=='yes', 1, 0)) %>%\n",
    "    t %>% as.data.frame\n",
    "colnames(dietD) = cn\n",
    "\n",
    "# status\n",
    "dietD %>% head"
   ]
  },
  {
   "cell_type": "code",
   "execution_count": 30,
   "metadata": {
    "ExecuteTime": {
     "end_time": "2018-08-23T14:35:22.087050Z",
     "start_time": "2018-08-23T14:37:01.889Z"
    }
   },
   "outputs": [
    {
     "data": {
      "image/png": "[encoded data removed]",
      "text/plain": [
       "Plot with title “Cluster Dendrogram”"
      ]
     },
     "metadata": {},
     "output_type": "display_data"
    }
   ],
   "source": [
    "dietD_d = vegan::vegdist(dietD, metric='jaccard')\n",
    "\n",
    "options(repr.plot.height=4)\n",
    "plot(hclust(dietD_d), cex=0.4)"
   ]
  },
  {
   "cell_type": "markdown",
   "metadata": {},
   "source": [
    "## Digestive tract distance"
   ]
  },
  {
   "cell_type": "code",
   "execution_count": 31,
   "metadata": {
    "ExecuteTime": {
     "end_time": "2018-08-23T14:35:23.308801Z",
     "start_time": "2018-08-23T14:37:03.320Z"
    }
   },
   "outputs": [
    {
     "data": {
      "text/html": [
       "<table>\n",
       "<thead><tr><th></th><th scope=col>digestive_system</th><th scope=col>digestive_system_detail</th><th scope=col>ruminant</th><th scope=col>pseudoruminants</th></tr></thead>\n",
       "<tbody>\n",
       "\t<tr><th scope=row>X1.Eurasian.Beaver</th><td>hindgut</td><td>hindgut</td><td>no     </td><td>no     </td></tr>\n",
       "\t<tr><th scope=row>X101.Horse</th><td>hindgut</td><td>hindgut</td><td>no     </td><td>no     </td></tr>\n",
       "\t<tr><th scope=row>X102.Kulan</th><td>hindgut</td><td>hindgut</td><td>no     </td><td>no     </td></tr>\n",
       "\t<tr><th scope=row>X109.Red.Fox</th><td>simple </td><td>simple </td><td>no     </td><td>no     </td></tr>\n",
       "\t<tr><th scope=row>X110.Noctule</th><td>NA     </td><td>NA     </td><td>no     </td><td>no     </td></tr>\n",
       "\t<tr><th scope=row>X111.West.European.Hedgehog</th><td>simple </td><td>simple </td><td>no     </td><td>no     </td></tr>\n",
       "</tbody>\n",
       "</table>\n"
      ],
      "text/latex": [
       "\\begin{tabular}{r|llll}\n",
       "  & digestive\\_system & digestive\\_system\\_detail & ruminant & pseudoruminants\\\\\n",
       "\\hline\n",
       "\tX1.Eurasian.Beaver & hindgut & hindgut & no      & no     \\\\\n",
       "\tX101.Horse & hindgut & hindgut & no      & no     \\\\\n",
       "\tX102.Kulan & hindgut & hindgut & no      & no     \\\\\n",
       "\tX109.Red.Fox & simple  & simple  & no      & no     \\\\\n",
       "\tX110.Noctule & NA      & NA      & no      & no     \\\\\n",
       "\tX111.West.European.Hedgehog & simple  & simple  & no      & no     \\\\\n",
       "\\end{tabular}\n"
      ],
      "text/markdown": [
       "\n",
       "| <!--/--> | digestive_system | digestive_system_detail | ruminant | pseudoruminants | \n",
       "|---|---|---|---|---|---|\n",
       "| X1.Eurasian.Beaver | hindgut | hindgut | no      | no      | \n",
       "| X101.Horse | hindgut | hindgut | no      | no      | \n",
       "| X102.Kulan | hindgut | hindgut | no      | no      | \n",
       "| X109.Red.Fox | simple  | simple  | no      | no      | \n",
       "| X110.Noctule | NA      | NA      | no      | no      | \n",
       "| X111.West.European.Hedgehog | simple  | simple  | no      | no      | \n",
       "\n",
       "\n"
      ],
      "text/plain": [
       "                            digestive_system digestive_system_detail ruminant\n",
       "X1.Eurasian.Beaver          hindgut          hindgut                 no      \n",
       "X101.Horse                  hindgut          hindgut                 no      \n",
       "X102.Kulan                  hindgut          hindgut                 no      \n",
       "X109.Red.Fox                simple           simple                  no      \n",
       "X110.Noctule                NA               NA                      no      \n",
       "X111.West.European.Hedgehog simple           simple                  no      \n",
       "                            pseudoruminants\n",
       "X1.Eurasian.Beaver          no             \n",
       "X101.Horse                  no             \n",
       "X102.Kulan                  no             \n",
       "X109.Red.Fox                no             \n",
       "X110.Noctule                no             \n",
       "X111.West.European.Hedgehog no             "
      ]
     },
     "metadata": {},
     "output_type": "display_data"
    }
   ],
   "source": [
    "dtD = metadata %>%\n",
    "    distinct(X.SampleID, .keep_all=TRUE) %>%\n",
    "    dplyr::select(X.SampleID, \n",
    "                  digestive_system, digestive_system_detail, \n",
    "                  ruminant, pseudoruminants) %>%\n",
    "    mutate(digestive_system = gsub('_', ' ', digestive_system),\n",
    "           digestive_system_detail = gsub('^_', '', digestive_system_detail),\n",
    "           digestive_system_detail = gsub('_', ' ', digestive_system_detail),\n",
    "           digestive_system_detail = gsub(' +', ' ', digestive_system_detail)) %>%\n",
    "    mutate(digestive_system = digestive_system %>% as.factor,\n",
    "           digestive_system_detail = digestive_system_detail %>% as.factor) %>%\n",
    "    as.data.frame\n",
    "\n",
    "rownames(dtD) = dtD$X.SampleID\n",
    "dtD$X.SampleID = NULL\n",
    "\n",
    "dtD %>% head"
   ]
  },
  {
   "cell_type": "code",
   "execution_count": 32,
   "metadata": {
    "ExecuteTime": {
     "end_time": "2018-08-23T14:35:24.209258Z",
     "start_time": "2018-08-23T14:37:03.927Z"
    }
   },
   "outputs": [
    {
     "data": {
      "image/png": "[encoded data removed]",
      "text/plain": [
       "Plot with title “Cluster Dendrogram”"
      ]
     },
     "metadata": {},
     "output_type": "display_data"
    }
   ],
   "source": [
    "dtD_d = cluster::daisy(dtD, metric='gower')\n",
    "\n",
    "options(repr.plot.height=5, repr.plot.width=14)\n",
    "plot(hclust(dtD_d), cex=0.4)"
   ]
  },
  {
   "cell_type": "markdown",
   "metadata": {},
   "source": [
    "## Habitat distance\n",
    "\n",
    "* Gower distance on `habitat_detail`"
   ]
  },
  {
   "cell_type": "code",
   "execution_count": 33,
   "metadata": {
    "ExecuteTime": {
     "end_time": "2018-08-23T14:35:24.949026Z",
     "start_time": "2018-08-23T14:37:05.000Z"
    }
   },
   "outputs": [
    {
     "name": "stdout",
     "output_type": "stream",
     "text": [
      ".\n",
      "anthropogenic habitat    cultivated habitat             grassland \n",
      "                    8                    10                    28 \n",
      " saline water habitat   terrestrial habitat              woodland \n",
      "                    7                    64                    43 \n",
      ".\n",
      "anthropogenic habitat    cultivated habitat                forest \n",
      "                    8                    10                    43 \n",
      "            grassland        marine habitat                meadow \n",
      "                    1                     7                    14 \n",
      "              pasture                steppe   terrestrial habitat \n",
      "                    4                     9                    64 \n",
      ".\n",
      "anthropogenic habitat    cultivated habitat          flood meadow \n",
      "                    8                    10                    14 \n",
      "               forest             grassland        marine habitat \n",
      "                   43                     1                     7 \n",
      "              pasture                steppe   terrestrial habitat \n",
      "                    4                     9                    64 \n"
     ]
    }
   ],
   "source": [
    "metadata$habitat_detail %>% table %>% print\n",
    "metadata$habitat_detail_1 %>% table %>% print\n",
    "metadata$habitat_detail_2 %>% table %>% print"
   ]
  },
  {
   "cell_type": "code",
   "execution_count": 35,
   "metadata": {
    "ExecuteTime": {
     "end_time": "2018-08-23T14:35:29.802267Z",
     "start_time": "2018-08-23T14:37:09.770Z"
    }
   },
   "outputs": [
    {
     "name": "stdout",
     "output_type": "stream",
     "text": [
      "[1] 160   3\n"
     ]
    },
    {
     "data": {
      "text/html": [
       "<table>\n",
       "<thead><tr><th></th><th scope=col>habitat_detail</th><th scope=col>habitat_detail_1</th><th scope=col>habitat_detail_2</th></tr></thead>\n",
       "<tbody>\n",
       "\t<tr><th scope=row>X1.Eurasian.Beaver</th><td>terrestrial habitat</td><td>terrestrial habitat</td><td>terrestrial habitat</td></tr>\n",
       "\t<tr><th scope=row>X101.Horse</th><td>grassland          </td><td>pasture            </td><td>pasture            </td></tr>\n",
       "\t<tr><th scope=row>X102.Kulan</th><td>grassland          </td><td>steppe             </td><td>steppe             </td></tr>\n",
       "</tbody>\n",
       "</table>\n"
      ],
      "text/latex": [
       "\\begin{tabular}{r|lll}\n",
       "  & habitat\\_detail & habitat\\_detail\\_1 & habitat\\_detail\\_2\\\\\n",
       "\\hline\n",
       "\tX1.Eurasian.Beaver & terrestrial habitat & terrestrial habitat & terrestrial habitat\\\\\n",
       "\tX101.Horse & grassland           & pasture             & pasture            \\\\\n",
       "\tX102.Kulan & grassland           & steppe              & steppe             \\\\\n",
       "\\end{tabular}\n"
      ],
      "text/markdown": [
       "\n",
       "| <!--/--> | habitat_detail | habitat_detail_1 | habitat_detail_2 | \n",
       "|---|---|---|\n",
       "| X1.Eurasian.Beaver | terrestrial habitat | terrestrial habitat | terrestrial habitat | \n",
       "| X101.Horse | grassland           | pasture             | pasture             | \n",
       "| X102.Kulan | grassland           | steppe              | steppe              | \n",
       "\n",
       "\n"
      ],
      "text/plain": [
       "                   habitat_detail      habitat_detail_1    habitat_detail_2   \n",
       "X1.Eurasian.Beaver terrestrial habitat terrestrial habitat terrestrial habitat\n",
       "X101.Horse         grassland           pasture             pasture            \n",
       "X102.Kulan         grassland           steppe              steppe             "
      ]
     },
     "metadata": {},
     "output_type": "display_data"
    }
   ],
   "source": [
    "habitatD = metadata %>%\n",
    "    dplyr::select(X.SampleID, habitat_detail, habitat_detail_1, habitat_detail_2) %>%\n",
    "    as.data.frame\n",
    "\n",
    "rownames(habitatD) = habitatD$X.SampleID\n",
    "habitatD$X.SampleID = NULL\n",
    "\n",
    "habitatD %>% dfhead"
   ]
  },
  {
   "cell_type": "code",
   "execution_count": 36,
   "metadata": {
    "ExecuteTime": {
     "end_time": "2018-08-23T14:35:31.300909Z",
     "start_time": "2018-08-23T14:37:11.031Z"
    }
   },
   "outputs": [
    {
     "data": {
      "image/png": "[encoded data removed]",
      "text/plain": [
       "Plot with title “Cluster Dendrogram”"
      ]
     },
     "metadata": {},
     "output_type": "display_data"
    }
   ],
   "source": [
    "habitatD_d = cluster::daisy(habitatD, metric='gower') \n",
    "\n",
    "options(repr.plot.height=5, repr.plot.width=14)\n",
    "plot(hclust(habitatD_d), cex=0.4)"
   ]
  },
  {
   "cell_type": "markdown",
   "metadata": {},
   "source": [
    "## Geographic distance"
   ]
  },
  {
   "cell_type": "code",
   "execution_count": 37,
   "metadata": {
    "ExecuteTime": {
     "end_time": "2018-08-23T14:35:35.672475Z",
     "start_time": "2018-08-23T14:37:15.673Z"
    }
   },
   "outputs": [
    {
     "name": "stdout",
     "output_type": "stream",
     "text": [
      "   Min. 1st Qu.  Median    Mean 3rd Qu.    Max. \n",
      " -35.83   11.42   47.50   30.08   48.21   55.29 \n",
      "   Min. 1st Qu.  Median    Mean 3rd Qu.    Max. \n",
      " -84.10   15.33   16.37   27.95   31.59  140.12 \n",
      "[1] 160   3\n"
     ]
    },
    {
     "data": {
      "text/html": [
       "<table>\n",
       "<thead><tr><th></th><th scope=col>X.SampleID</th><th scope=col>latitude</th><th scope=col>longitude</th></tr></thead>\n",
       "<tbody>\n",
       "\t<tr><th scope=row>X1.Eurasian.Beaver</th><td>X1.Eurasian.Beaver</td><td>48.47611          </td><td>16.58389          </td></tr>\n",
       "\t<tr><th scope=row>X101.Horse</th><td>X101.Horse        </td><td>48.78333          </td><td>15.06667          </td></tr>\n",
       "\t<tr><th scope=row>X102.Kulan</th><td>X102.Kulan        </td><td>43.70759          </td><td>98.34961          </td></tr>\n",
       "</tbody>\n",
       "</table>\n"
      ],
      "text/latex": [
       "\\begin{tabular}{r|lll}\n",
       "  & X.SampleID & latitude & longitude\\\\\n",
       "\\hline\n",
       "\tX1.Eurasian.Beaver & X1.Eurasian.Beaver & 48.47611           & 16.58389          \\\\\n",
       "\tX101.Horse & X101.Horse         & 48.78333           & 15.06667          \\\\\n",
       "\tX102.Kulan & X102.Kulan         & 43.70759           & 98.34961          \\\\\n",
       "\\end{tabular}\n"
      ],
      "text/markdown": [
       "\n",
       "| <!--/--> | X.SampleID | latitude | longitude | \n",
       "|---|---|---|\n",
       "| X1.Eurasian.Beaver | X1.Eurasian.Beaver | 48.47611           | 16.58389           | \n",
       "| X101.Horse | X101.Horse         | 48.78333           | 15.06667           | \n",
       "| X102.Kulan | X102.Kulan         | 43.70759           | 98.34961           | \n",
       "\n",
       "\n"
      ],
      "text/plain": [
       "                   X.SampleID         latitude longitude\n",
       "X1.Eurasian.Beaver X1.Eurasian.Beaver 48.47611 16.58389 \n",
       "X101.Horse         X101.Horse         48.78333 15.06667 \n",
       "X102.Kulan         X102.Kulan         43.70759 98.34961 "
      ]
     },
     "metadata": {},
     "output_type": "display_data"
    }
   ],
   "source": [
    "geo = metadata %>% \n",
    "    dplyr::select(X.SampleID, latitude, longitude) %>%\n",
    "    mutate(latitude = latitude %>% as.Num,\n",
    "           longitude = longitude %>% as.Num) %>%\n",
    "    as.data.frame\n",
    "\n",
    "rownames(geo) = geo$X.SampleID\n",
    "\n",
    "geo$latitude %>% summary %>% print\n",
    "geo$longitude %>% summary %>% print\n",
    "geo %>% dfhead    "
   ]
  },
  {
   "cell_type": "code",
   "execution_count": 39,
   "metadata": {
    "ExecuteTime": {
     "end_time": "2018-08-23T14:42:31.398726Z",
     "start_time": "2018-08-23T14:44:10.168Z"
    }
   },
   "outputs": [
    {
     "data": {
      "image/png": "[encoded data removed]",
      "text/plain": [
       "Plot with title “Cluster Dendrogram”"
      ]
     },
     "metadata": {},
     "output_type": "display_data"
    }
   ],
   "source": [
    ".pairwise_distGeo = function(x, y){\n",
    "    d = geosphere::distGeo(x[c('longitude', 'latitude')],\n",
    "                           y[,c('longitude', 'latitude')])\n",
    "    return(d)\n",
    "}\n",
    "\n",
    "pairwise_distGeo = function(df){\n",
    "    x = df[,c('longitude', 'latitude')]\n",
    "    geo_d = apply(x, 1, .pairwise_distGeo, y=x)\n",
    "    rescale_dist_mtx(as.dist(geo_d))\n",
    "}\n",
    "\n",
    "geo_d = pairwise_distGeo(geo)\n",
    "\n",
    "options(repr.plot.height=5, repr.plot.width=14)\n",
    "plot(hclust(geo_d), cex=0.4)"
   ]
  },
  {
   "cell_type": "markdown",
   "metadata": {},
   "source": [
    "## Sampling details distance\n",
    "\n",
    "* Gower distance of sampling methodology\n",
    "  * assessing variance explained by technical factors"
   ]
  },
  {
   "cell_type": "code",
   "execution_count": 40,
   "metadata": {
    "ExecuteTime": {
     "end_time": "2018-08-23T14:42:35.075985Z",
     "start_time": "2018-08-23T14:44:15.089Z"
    }
   },
   "outputs": [
    {
     "name": "stdout",
     "output_type": "stream",
     "text": [
      "[1] 160   3\n"
     ]
    },
    {
     "data": {
      "text/html": [
       "<table>\n",
       "<thead><tr><th></th><th scope=col>sampling_method</th><th scope=col>captive_wild</th><th scope=col>wild_domesticated</th></tr></thead>\n",
       "<tbody>\n",
       "\t<tr><th scope=row>X1.Eurasian.Beaver</th><td>feces sampling</td><td>wild          </td><td>wild          </td></tr>\n",
       "\t<tr><th scope=row>X101.Horse</th><td>feces sampling</td><td>captive       </td><td>domesticated  </td></tr>\n",
       "\t<tr><th scope=row>X102.Kulan</th><td>feces sampling</td><td>wild          </td><td>wild          </td></tr>\n",
       "</tbody>\n",
       "</table>\n"
      ],
      "text/latex": [
       "\\begin{tabular}{r|lll}\n",
       "  & sampling\\_method & captive\\_wild & wild\\_domesticated\\\\\n",
       "\\hline\n",
       "\tX1.Eurasian.Beaver & feces sampling & wild           & wild          \\\\\n",
       "\tX101.Horse & feces sampling & captive        & domesticated  \\\\\n",
       "\tX102.Kulan & feces sampling & wild           & wild          \\\\\n",
       "\\end{tabular}\n"
      ],
      "text/markdown": [
       "\n",
       "| <!--/--> | sampling_method | captive_wild | wild_domesticated | \n",
       "|---|---|---|\n",
       "| X1.Eurasian.Beaver | feces sampling | wild           | wild           | \n",
       "| X101.Horse | feces sampling | captive        | domesticated   | \n",
       "| X102.Kulan | feces sampling | wild           | wild           | \n",
       "\n",
       "\n"
      ],
      "text/plain": [
       "                   sampling_method captive_wild wild_domesticated\n",
       "X1.Eurasian.Beaver feces sampling  wild         wild             \n",
       "X101.Horse         feces sampling  captive      domesticated     \n",
       "X102.Kulan         feces sampling  wild         wild             "
      ]
     },
     "metadata": {},
     "output_type": "display_data"
    }
   ],
   "source": [
    "x = metadata$sampling_method %>% unique %>% as.vector\n",
    "samp = metadata %>% \n",
    "    dplyr::select(X.SampleID, sampling_method, captive_wild, wild_domesticated) \n",
    "\n",
    "rownames(samp) = samp$X.SampleID\n",
    "samp$X.SampleID = NULL\n",
    "\n",
    "samp %>% dfhead"
   ]
  },
  {
   "cell_type": "code",
   "execution_count": 41,
   "metadata": {
    "ExecuteTime": {
     "end_time": "2018-08-23T14:42:35.597882Z",
     "start_time": "2018-08-23T14:44:15.673Z"
    }
   },
   "outputs": [
    {
     "data": {
      "text/plain": [
       "             sampling_method  captive_wild    wild_domesticated\n",
       " dried feces sampling:  7    captive: 34   domesticated: 16    \n",
       " feces sampling      :138    human  :  4   wild        :144    \n",
       " gut section         :  9    wild   :122                       \n",
       " swab                :  6                                      "
      ]
     },
     "metadata": {},
     "output_type": "display_data"
    }
   ],
   "source": [
    "# summary\n",
    "samp %>% summary"
   ]
  },
  {
   "cell_type": "code",
   "execution_count": 42,
   "metadata": {
    "ExecuteTime": {
     "end_time": "2018-08-23T14:42:37.345383Z",
     "start_time": "2018-08-23T14:44:17.092Z"
    }
   },
   "outputs": [
    {
     "data": {
      "image/png": "[encoded data removed]",
      "text/plain": [
       "Plot with title “Cluster Dendrogram”"
      ]
     },
     "metadata": {},
     "output_type": "display_data"
    }
   ],
   "source": [
    "# distance matrix\n",
    "samp_d = cluster::daisy(samp, metric='gower') \n",
    "\n",
    "options(repr.plot.height=5, repr.plot.width=14)\n",
    "plot(hclust(samp_d), cex=0.4)"
   ]
  },
  {
   "cell_type": "markdown",
   "metadata": {},
   "source": [
    "# Ordering matrices"
   ]
  },
  {
   "cell_type": "code",
   "execution_count": 43,
   "metadata": {
    "ExecuteTime": {
     "end_time": "2018-08-23T14:42:39.201539Z",
     "start_time": "2018-08-23T14:44:19.281Z"
    }
   },
   "outputs": [
    {
     "data": {
      "text/html": [
       "<ol class=list-inline>\n",
       "\t<li>'bray_curtis'</li>\n",
       "\t<li>'jaccard'</li>\n",
       "\t<li>'unweighted_unifrac'</li>\n",
       "\t<li>'weighted_unifrac'</li>\n",
       "</ol>\n"
      ],
      "text/latex": [
       "\\begin{enumerate*}\n",
       "\\item 'bray\\_curtis'\n",
       "\\item 'jaccard'\n",
       "\\item 'unweighted\\_unifrac'\n",
       "\\item 'weighted\\_unifrac'\n",
       "\\end{enumerate*}\n"
      ],
      "text/markdown": [
       "1. 'bray_curtis'\n",
       "2. 'jaccard'\n",
       "3. 'unweighted_unifrac'\n",
       "4. 'weighted_unifrac'\n",
       "\n",
       "\n"
      ],
      "text/plain": [
       "[1] \"bray_curtis\"        \"jaccard\"            \"unweighted_unifrac\"\n",
       "[4] \"weighted_unifrac\"  "
      ]
     },
     "metadata": {},
     "output_type": "display_data"
    }
   ],
   "source": [
    "# beta-div labels\n",
    "beta_d %>% labels"
   ]
  },
  {
   "cell_type": "code",
   "execution_count": 44,
   "metadata": {
    "ExecuteTime": {
     "end_time": "2018-08-23T14:42:39.998728Z",
     "start_time": "2018-08-23T14:44:20.041Z"
    }
   },
   "outputs": [],
   "source": [
    "# ordering by beta-div metrix\n",
    "X = labels(beta_d$weighted_unifrac)\n",
    "host_tree_d_o = dist_mtx_order(host_tree_d, X)\n",
    "dietD_d_o = dist_mtx_order(dietD_d, X)\n",
    "habitatD_d_o = dist_mtx_order(habitatD_d, X)\n",
    "geo_d_o = dist_mtx_order(geo_d, X)\n",
    "samp_d_o = dist_mtx_order(samp_d, X)\n",
    "dtD_d_o = dist_mtx_order(dtD_d, X)"
   ]
  },
  {
   "cell_type": "code",
   "execution_count": 45,
   "metadata": {
    "ExecuteTime": {
     "end_time": "2018-08-23T14:42:40.816916Z",
     "start_time": "2018-08-23T14:44:20.889Z"
    }
   },
   "outputs": [
    {
     "name": "stdout",
     "output_type": "stream",
     "text": [
      "[1] 160\n",
      "[1] 160\n"
     ]
    }
   ],
   "source": [
    "# check\n",
    "X %>% length %>% print\n",
    "dtD_d_o %>% labels %>% length %>% print"
   ]
  },
  {
   "cell_type": "markdown",
   "metadata": {},
   "source": [
    "# MRM intra-spec sensitivity\n",
    "\n",
    "* MRM permuted for samples within each species"
   ]
  },
  {
   "cell_type": "code",
   "execution_count": 46,
   "metadata": {
    "ExecuteTime": {
     "end_time": "2018-08-23T14:42:42.562149Z",
     "start_time": "2018-08-23T14:44:22.641Z"
    }
   },
   "outputs": [],
   "source": [
    "# number of permutated SpecD datasetst\n",
    "nperm_datasets = 100\n",
    "# number of permutations per MRM analysis\n",
    "nperm = 1000"
   ]
  },
  {
   "cell_type": "markdown",
   "metadata": {},
   "source": [
    "## Functions"
   ]
  },
  {
   "cell_type": "code",
   "execution_count": 47,
   "metadata": {
    "ExecuteTime": {
     "end_time": "2018-08-23T14:42:44.300658Z",
     "start_time": "2018-08-23T14:44:24.384Z"
    }
   },
   "outputs": [],
   "source": [
    "#' randomly selecting one per group\n",
    "#' L : list of distance matrixes used for MRM\n",
    "#' df_grps : data.frame (sample, group)\n",
    "one_per_group = function(L, df_grps, ...){\n",
    "    # get subsample\n",
    "    colnames(df_grps) = c('Sample', 'Group')\n",
    "    df_grps = df_grps %>%\n",
    "        group_by(Group) %>%\n",
    "        sample_n(1)\n",
    "    # subsetting all matrices\n",
    "    lapply(L, function(x) dist_mtx_order(x, df_grps$Sample))\n",
    "}"
   ]
  },
  {
   "cell_type": "code",
   "execution_count": 48,
   "metadata": {
    "ExecuteTime": {
     "end_time": "2018-08-23T14:42:45.219654Z",
     "start_time": "2018-08-23T14:44:25.281Z"
    },
    "code_folding": []
   },
   "outputs": [],
   "source": [
    "#' MRM on one subsample rep\n",
    "#' i : rep number\n",
    "#' L : list of list of distance matrices generated by `one_per_group()`\n",
    "# nperm : nperm function for MRM\n",
    "# f : MRM fomulat\n",
    "mrm_each = function(i, L, f, nperm=99){\n",
    "    m = L[[i]]\n",
    "    f = as.formula(f)\n",
    "    x = ecodist::MRM(f, nperm=nperm, mrank=TRUE)\n",
    "    # coefficients\n",
    "    df = x$coef %>% as.data.frame\n",
    "    colnames(df) = c('coef', 'coef_pval')\n",
    "    df$variable = rownames(df)\n",
    "    df$R2 = x$r.squared[1]\n",
    "    df$pval = x$r.squared[2]\n",
    "    df$F = x$F.test[1]\n",
    "    df$rep = i\n",
    "    return(df)\n",
    "}"
   ]
  },
  {
   "cell_type": "code",
   "execution_count": 105,
   "metadata": {
    "ExecuteTime": {
     "end_time": "2018-08-23T14:47:14.132955Z",
     "start_time": "2018-08-23T14:48:54.226Z"
    }
   },
   "outputs": [],
   "source": [
    "# renaming output\n",
    "rename_df = data.frame(old_name = c('m$diet', 'm$digest', 'm$geo', 'm$habitat', 'm$host_phy', 'm$samp'),\n",
    "                       new_name = c('Diet', 'Digestive\\nsystem', 'Geography', 'Habitat', 'Phylogeny', 'Sample\\ntype'))"
   ]
  },
  {
   "cell_type": "markdown",
   "metadata": {},
   "source": [
    "## One per species"
   ]
  },
  {
   "cell_type": "code",
   "execution_count": 100,
   "metadata": {
    "ExecuteTime": {
     "end_time": "2018-08-23T14:46:41.995440Z",
     "start_time": "2018-08-23T14:48:22.027Z"
    }
   },
   "outputs": [
    {
     "name": "stdout",
     "output_type": "stream",
     "text": [
      "[1] 160   2\n"
     ]
    },
    {
     "data": {
      "text/html": [
       "<table>\n",
       "<thead><tr><th scope=col>X.SampleID</th><th scope=col>scientific_name</th></tr></thead>\n",
       "<tbody>\n",
       "\t<tr><td>X1.Eurasian.Beaver</td><td>Castor_fiber      </td></tr>\n",
       "\t<tr><td>X101.Horse        </td><td>Equus_caballus    </td></tr>\n",
       "\t<tr><td>X102.Kulan        </td><td>Equus_hemionus    </td></tr>\n",
       "</tbody>\n",
       "</table>\n"
      ],
      "text/latex": [
       "\\begin{tabular}{r|ll}\n",
       " X.SampleID & scientific\\_name\\\\\n",
       "\\hline\n",
       "\t X1.Eurasian.Beaver & Castor\\_fiber    \\\\\n",
       "\t X101.Horse         & Equus\\_caballus  \\\\\n",
       "\t X102.Kulan         & Equus\\_hemionus  \\\\\n",
       "\\end{tabular}\n"
      ],
      "text/markdown": [
       "\n",
       "X.SampleID | scientific_name | \n",
       "|---|---|---|\n",
       "| X1.Eurasian.Beaver | Castor_fiber       | \n",
       "| X101.Horse         | Equus_caballus     | \n",
       "| X102.Kulan         | Equus_hemionus     | \n",
       "\n",
       "\n"
      ],
      "text/plain": [
       "  X.SampleID         scientific_name\n",
       "1 X1.Eurasian.Beaver Castor_fiber   \n",
       "2 X101.Horse         Equus_caballus \n",
       "3 X102.Kulan         Equus_hemionus "
      ]
     },
     "metadata": {},
     "output_type": "display_data"
    }
   ],
   "source": [
    "# grouping samples by species\n",
    "df_grps = metadata %>% \n",
    "    filter(X.SampleID %in% labels(dietD_d_o)) %>%\n",
    "    dplyr::select(X.SampleID, scientific_name)\n",
    "df_grps %>% dfhead"
   ]
  },
  {
   "cell_type": "markdown",
   "metadata": {},
   "source": [
    "### Weighted unifrac"
   ]
  },
  {
   "cell_type": "code",
   "execution_count": 101,
   "metadata": {
    "ExecuteTime": {
     "end_time": "2018-08-23T14:46:45.123790Z",
     "start_time": "2018-08-23T14:48:22.689Z"
    }
   },
   "outputs": [
    {
     "data": {
      "text/html": [
       "100"
      ],
      "text/latex": [
       "100"
      ],
      "text/markdown": [
       "100"
      ],
      "text/plain": [
       "[1] 100"
      ]
     },
     "metadata": {},
     "output_type": "display_data"
    }
   ],
   "source": [
    "# creating subsample permutations of the distance matrices\n",
    "L = list(beta = beta_d$weighted_unifrac,\n",
    "         host_phy = host_tree_d_o,\n",
    "         diet = dietD_d_o,\n",
    "         digest = dtD_d_o, \n",
    "         habitat = habitatD_d_o,\n",
    "         geo = geo_d_o,\n",
    "         samp = samp_d_o)\n",
    "\n",
    "m_perm = lapply(as.list(1:nperm_datasets), function(x) one_per_group(L, df_grps, x))\n",
    "m_perm %>% length "
   ]
  },
  {
   "cell_type": "markdown",
   "metadata": {},
   "source": [
    "#### Model 1"
   ]
  },
  {
   "cell_type": "code",
   "execution_count": 102,
   "metadata": {
    "ExecuteTime": {
     "end_time": "2018-08-23T14:46:47.334954Z",
     "start_time": "2018-08-23T14:48:23.723Z"
    },
    "scrolled": true
   },
   "outputs": [
    {
     "name": "stdout",
     "output_type": "stream",
     "text": [
      "[1] 700   7\n"
     ]
    },
    {
     "data": {
      "text/html": [
       "<table>\n",
       "<thead><tr><th></th><th scope=col>coef</th><th scope=col>coef_pval</th><th scope=col>variable</th><th scope=col>R2</th><th scope=col>pval</th><th scope=col>F</th><th scope=col>rep</th></tr></thead>\n",
       "<tbody>\n",
       "\t<tr><th scope=row>Int</th><td>1178.8954286</td><td>0.994       </td><td>Int         </td><td>0.07998475  </td><td>0.001       </td><td>48.01903    </td><td>1           </td></tr>\n",
       "\t<tr><th scope=row>m$host_phy</th><td>   0.1295312</td><td>0.028       </td><td>m$host_phy  </td><td>0.07998475  </td><td>0.001       </td><td>48.01903    </td><td>1           </td></tr>\n",
       "\t<tr><th scope=row>m$diet</th><td>   0.2692347</td><td>0.001       </td><td>m$diet      </td><td>0.07998475  </td><td>0.001       </td><td>48.01903    </td><td>1           </td></tr>\n",
       "</tbody>\n",
       "</table>\n"
      ],
      "text/latex": [
       "\\begin{tabular}{r|lllllll}\n",
       "  & coef & coef\\_pval & variable & R2 & pval & F & rep\\\\\n",
       "\\hline\n",
       "\tInt & 1178.8954286 & 0.994        & Int          & 0.07998475   & 0.001        & 48.01903     & 1           \\\\\n",
       "\tm\\$host\\_phy &    0.1295312   & 0.028          & m\\$host\\_phy & 0.07998475     & 0.001          & 48.01903       & 1             \\\\\n",
       "\tm\\$diet &    0.2692347 & 0.001        & m\\$diet     & 0.07998475   & 0.001        & 48.01903     & 1           \\\\\n",
       "\\end{tabular}\n"
      ],
      "text/markdown": [
       "\n",
       "| <!--/--> | coef | coef_pval | variable | R2 | pval | F | rep | \n",
       "|---|---|---|\n",
       "| Int | 1178.8954286 | 0.994        | Int          | 0.07998475   | 0.001        | 48.01903     | 1            | \n",
       "| m$host_phy |    0.1295312 | 0.028        | m$host_phy   | 0.07998475   | 0.001        | 48.01903     | 1            | \n",
       "| m$diet |    0.2692347 | 0.001        | m$diet       | 0.07998475   | 0.001        | 48.01903     | 1            | \n",
       "\n",
       "\n"
      ],
      "text/plain": [
       "           coef         coef_pval variable   R2         pval  F        rep\n",
       "Int        1178.8954286 0.994     Int        0.07998475 0.001 48.01903 1  \n",
       "m$host_phy    0.1295312 0.028     m$host_phy 0.07998475 0.001 48.01903 1  \n",
       "m$diet        0.2692347 0.001     m$diet     0.07998475 0.001 48.01903 1  "
      ]
     },
     "metadata": {},
     "output_type": "display_data"
    }
   ],
   "source": [
    "# MRM on each permutation (in parallel)\n",
    "doParallel::registerDoParallel(threads)\n",
    "x = as.list(1:length(m_perm))\n",
    "f = 'm$beta ~ m$host_phy + m$diet + m$digest + m$habitat + m$geo + m$samp'\n",
    "mrm_res = plyr::llply(x, mrm_each, L=m_perm, f=f, nperm=nperm, .parallel=TRUE)\n",
    "mrm_res = do.call(rbind, mrm_res)\n",
    "mrm_res %>% dfhead"
   ]
  },
  {
   "cell_type": "code",
   "execution_count": 103,
   "metadata": {
    "ExecuteTime": {
     "end_time": "2018-08-23T14:46:47.391838Z",
     "start_time": "2018-08-23T14:48:24.513Z"
    }
   },
   "outputs": [
    {
     "data": {
      "text/plain": [
       "       R2               pval              rep        \n",
       " Min.   :0.04864   Min.   :0.00100   Min.   :  1.00  \n",
       " 1st Qu.:0.07283   1st Qu.:0.00100   1st Qu.: 25.75  \n",
       " Median :0.07990   Median :0.00100   Median : 50.50  \n",
       " Mean   :0.08062   Mean   :0.00141   Mean   : 50.50  \n",
       " 3rd Qu.:0.08854   3rd Qu.:0.00100   3rd Qu.: 75.25  \n",
       " Max.   :0.10709   Max.   :0.00800   Max.   :100.00  "
      ]
     },
     "metadata": {},
     "output_type": "display_data"
    }
   ],
   "source": [
    "# summary of overall model\n",
    "mrm_res %>%\n",
    "    distinct(R2, pval, rep) %>%\n",
    "    summary"
   ]
  },
  {
   "cell_type": "code",
   "execution_count": 106,
   "metadata": {
    "ExecuteTime": {
     "end_time": "2018-08-23T14:47:20.632846Z",
     "start_time": "2018-08-23T14:48:59.458Z"
    }
   },
   "outputs": [
    {
     "name": "stderr",
     "output_type": "stream",
     "text": [
      "Warning message:\n",
      "“Column `variable`/`old_name` joining character vector and factor, coercing into character vector”"
     ]
    },
    {
     "data": {
      "image/png": "[encoded data removed]",
      "text/plain": [
       "plot without title"
      ]
     },
     "metadata": {},
     "output_type": "display_data"
    }
   ],
   "source": [
    "# formatting results\n",
    "mrm_res_s = mrm_res %>% \n",
    "    filter(variable != 'Int') %>%\n",
    "    gather(category, value, -variable, -R2, -pval, -F, -rep) %>%\n",
    "    mutate(category = ifelse(category == 'coef', 'Coef.', 'Adj. P-value'))\n",
    "\n",
    "mrm_res_s = mrm_res_s %>%\n",
    "    inner_join(rename_df, c('variable'='old_name')) %>%\n",
    "    dplyr::select(-variable) %>%\n",
    "    rename('variable' = new_name)           \n",
    "\n",
    "p = ggplot(mrm_res_s, aes(variable, value)) +\n",
    "    geom_boxplot() +\n",
    "    facet_grid(category ~ ., scales='free_y') +\n",
    "    theme_bw()\n",
    "\n",
    "options(repr.plot.width=5, repr.plot.height=3)\n",
    "plot(p)"
   ]
  },
  {
   "cell_type": "code",
   "execution_count": 107,
   "metadata": {
    "ExecuteTime": {
     "end_time": "2018-08-23T14:47:33.932002Z",
     "start_time": "2018-08-23T14:49:13.979Z"
    }
   },
   "outputs": [
    {
     "data": {
      "text/html": [
       "<table>\n",
       "<thead><tr><th scope=col>variable</th><th scope=col>pval_sensitivity</th><th scope=col>sig_pval_sensitivity</th></tr></thead>\n",
       "<tbody>\n",
       "\t<tr><td>Int       </td><td>1.00      </td><td>FALSE     </td></tr>\n",
       "\t<tr><td>m$diet    </td><td>0.00      </td><td> TRUE     </td></tr>\n",
       "\t<tr><td>m$digest  </td><td>0.49      </td><td>FALSE     </td></tr>\n",
       "\t<tr><td>m$geo     </td><td>1.00      </td><td>FALSE     </td></tr>\n",
       "\t<tr><td>m$habitat </td><td>1.00      </td><td>FALSE     </td></tr>\n",
       "\t<tr><td>m$host_phy</td><td>0.84      </td><td>FALSE     </td></tr>\n",
       "\t<tr><td>m$samp    </td><td>0.98      </td><td>FALSE     </td></tr>\n",
       "</tbody>\n",
       "</table>\n"
      ],
      "text/latex": [
       "\\begin{tabular}{r|lll}\n",
       " variable & pval\\_sensitivity & sig\\_pval\\_sensitivity\\\\\n",
       "\\hline\n",
       "\t Int        & 1.00       & FALSE     \\\\\n",
       "\t m\\$diet     & 0.00         &  TRUE       \\\\\n",
       "\t m\\$digest   & 0.49         & FALSE       \\\\\n",
       "\t m\\$geo      & 1.00         & FALSE       \\\\\n",
       "\t m\\$habitat  & 1.00         & FALSE       \\\\\n",
       "\t m\\$host\\_phy & 0.84           & FALSE         \\\\\n",
       "\t m\\$samp     & 0.98         & FALSE       \\\\\n",
       "\\end{tabular}\n"
      ],
      "text/markdown": [
       "\n",
       "variable | pval_sensitivity | sig_pval_sensitivity | \n",
       "|---|---|---|---|---|---|---|\n",
       "| Int        | 1.00       | FALSE      | \n",
       "| m$diet     | 0.00       |  TRUE      | \n",
       "| m$digest   | 0.49       | FALSE      | \n",
       "| m$geo      | 1.00       | FALSE      | \n",
       "| m$habitat  | 1.00       | FALSE      | \n",
       "| m$host_phy | 0.84       | FALSE      | \n",
       "| m$samp     | 0.98       | FALSE      | \n",
       "\n",
       "\n"
      ],
      "text/plain": [
       "  variable   pval_sensitivity sig_pval_sensitivity\n",
       "1 Int        1.00             FALSE               \n",
       "2 m$diet     0.00              TRUE               \n",
       "3 m$digest   0.49             FALSE               \n",
       "4 m$geo      1.00             FALSE               \n",
       "5 m$habitat  1.00             FALSE               \n",
       "6 m$host_phy 0.84             FALSE               \n",
       "7 m$samp     0.98             FALSE               "
      ]
     },
     "metadata": {},
     "output_type": "display_data"
    }
   ],
   "source": [
    "# significance\n",
    "mrm_res %>% \n",
    "    group_by(variable) %>%\n",
    "    summarize(pval_sensitivity = 1 - sum(coef_pval < 0.05) / length(pval)) %>%\n",
    "    ungroup() %>%\n",
    "    mutate(sig_pval_sensitivity = pval_sensitivity < 0.05)"
   ]
  },
  {
   "cell_type": "markdown",
   "metadata": {},
   "source": [
    "#### Model 2"
   ]
  },
  {
   "cell_type": "code",
   "execution_count": 108,
   "metadata": {
    "ExecuteTime": {
     "end_time": "2018-08-23T14:47:37.750326Z",
     "start_time": "2018-08-23T14:49:15.546Z"
    }
   },
   "outputs": [
    {
     "name": "stdout",
     "output_type": "stream",
     "text": [
      "[1] 600   7\n"
     ]
    },
    {
     "data": {
      "text/html": [
       "<table>\n",
       "<thead><tr><th></th><th scope=col>coef</th><th scope=col>coef_pval</th><th scope=col>variable</th><th scope=col>R2</th><th scope=col>pval</th><th scope=col>F</th><th scope=col>rep</th></tr></thead>\n",
       "<tbody>\n",
       "\t<tr><th scope=row>Int</th><td>1056.6826565</td><td>1.000       </td><td>Int         </td><td>0.0701312   </td><td>0.001       </td><td>50.00381    </td><td>1           </td></tr>\n",
       "\t<tr><th scope=row>m$host_phy</th><td>   0.1203505</td><td>0.032       </td><td>m$host_phy  </td><td>0.0701312   </td><td>0.001       </td><td>50.00381    </td><td>1           </td></tr>\n",
       "\t<tr><th scope=row>m$diet</th><td>   0.2380535</td><td>0.001       </td><td>m$diet      </td><td>0.0701312   </td><td>0.001       </td><td>50.00381    </td><td>1           </td></tr>\n",
       "</tbody>\n",
       "</table>\n"
      ],
      "text/latex": [
       "\\begin{tabular}{r|lllllll}\n",
       "  & coef & coef\\_pval & variable & R2 & pval & F & rep\\\\\n",
       "\\hline\n",
       "\tInt & 1056.6826565 & 1.000        & Int          & 0.0701312    & 0.001        & 50.00381     & 1           \\\\\n",
       "\tm\\$host\\_phy &    0.1203505   & 0.032          & m\\$host\\_phy & 0.0701312      & 0.001          & 50.00381       & 1             \\\\\n",
       "\tm\\$diet &    0.2380535 & 0.001        & m\\$diet     & 0.0701312    & 0.001        & 50.00381     & 1           \\\\\n",
       "\\end{tabular}\n"
      ],
      "text/markdown": [
       "\n",
       "| <!--/--> | coef | coef_pval | variable | R2 | pval | F | rep | \n",
       "|---|---|---|\n",
       "| Int | 1056.6826565 | 1.000        | Int          | 0.0701312    | 0.001        | 50.00381     | 1            | \n",
       "| m$host_phy |    0.1203505 | 0.032        | m$host_phy   | 0.0701312    | 0.001        | 50.00381     | 1            | \n",
       "| m$diet |    0.2380535 | 0.001        | m$diet       | 0.0701312    | 0.001        | 50.00381     | 1            | \n",
       "\n",
       "\n"
      ],
      "text/plain": [
       "           coef         coef_pval variable   R2        pval  F        rep\n",
       "Int        1056.6826565 1.000     Int        0.0701312 0.001 50.00381 1  \n",
       "m$host_phy    0.1203505 0.032     m$host_phy 0.0701312 0.001 50.00381 1  \n",
       "m$diet        0.2380535 0.001     m$diet     0.0701312 0.001 50.00381 1  "
      ]
     },
     "metadata": {},
     "output_type": "display_data"
    }
   ],
   "source": [
    "# MRM on each permutation (in parallel)\n",
    "doParallel::registerDoParallel(threads)\n",
    "x = as.list(1:length(m_perm))\n",
    "f = 'm$beta ~ m$host_phy + m$diet + m$habitat + m$geo + m$samp'\n",
    "mrm_res = plyr::llply(x, mrm_each, L=m_perm, f=f, nperm=nperm, .parallel=TRUE)\n",
    "mrm_res = do.call(rbind, mrm_res)\n",
    "mrm_res %>% dfhead"
   ]
  },
  {
   "cell_type": "code",
   "execution_count": 109,
   "metadata": {
    "ExecuteTime": {
     "end_time": "2018-08-23T14:47:37.820149Z",
     "start_time": "2018-08-23T14:49:17.213Z"
    }
   },
   "outputs": [
    {
     "data": {
      "text/plain": [
       "       R2               pval              rep        \n",
       " Min.   :0.04540   Min.   :0.00100   Min.   :  1.00  \n",
       " 1st Qu.:0.06549   1st Qu.:0.00100   1st Qu.: 25.75  \n",
       " Median :0.07181   Median :0.00100   Median : 50.50  \n",
       " Mean   :0.07260   Mean   :0.00163   Mean   : 50.50  \n",
       " 3rd Qu.:0.08024   3rd Qu.:0.00200   3rd Qu.: 75.25  \n",
       " Max.   :0.09987   Max.   :0.00900   Max.   :100.00  "
      ]
     },
     "metadata": {},
     "output_type": "display_data"
    }
   ],
   "source": [
    "# summary of overall model\n",
    "mrm_res %>%\n",
    "    distinct(R2, pval, rep) %>%\n",
    "    summary"
   ]
  },
  {
   "cell_type": "code",
   "execution_count": 110,
   "metadata": {
    "ExecuteTime": {
     "end_time": "2018-08-23T14:47:46.563336Z",
     "start_time": "2018-08-23T14:49:20.385Z"
    }
   },
   "outputs": [
    {
     "name": "stderr",
     "output_type": "stream",
     "text": [
      "Warning message:\n",
      "“Column `variable`/`old_name` joining character vector and factor, coercing into character vector”"
     ]
    },
    {
     "data": {
      "image/png": "[encoded data removed]",
      "text/plain": [
       "plot without title"
      ]
     },
     "metadata": {},
     "output_type": "display_data"
    }
   ],
   "source": [
    "# fomatting output\n",
    "mrm_res_s = mrm_res %>% \n",
    "    filter(variable != 'Int') %>%\n",
    "    gather(category, value, -variable, -R2, -pval, -F, -rep) %>%\n",
    "    mutate(category = ifelse(category == 'coef', 'Coef.', 'Adj. P-value'))\n",
    "\n",
    "mrm_res_s = mrm_res_s %>%\n",
    "    inner_join(rename_df, c('variable'='old_name')) %>%\n",
    "    dplyr::select(-variable) %>%\n",
    "    rename('variable' = new_name)              \n",
    "\n",
    "p = ggplot(mrm_res_s, aes(variable, value)) +\n",
    "    geom_boxplot() +\n",
    "    facet_grid(category ~ ., scales='free_y') +\n",
    "    theme_bw() \n",
    "\n",
    "options(repr.plot.width=5, repr.plot.height=3)\n",
    "plot(p)"
   ]
  },
  {
   "cell_type": "code",
   "execution_count": 111,
   "metadata": {
    "ExecuteTime": {
     "end_time": "2018-08-23T14:47:46.621332Z",
     "start_time": "2018-08-23T14:49:25.563Z"
    }
   },
   "outputs": [
    {
     "data": {
      "text/html": [
       "<table>\n",
       "<thead><tr><th scope=col>variable</th><th scope=col>pval_sensitivity</th><th scope=col>sig_pval_sensitivity</th></tr></thead>\n",
       "<tbody>\n",
       "\t<tr><td>Int       </td><td>1.00      </td><td>FALSE     </td></tr>\n",
       "\t<tr><td>m$diet    </td><td>0.00      </td><td> TRUE     </td></tr>\n",
       "\t<tr><td>m$geo     </td><td>1.00      </td><td>FALSE     </td></tr>\n",
       "\t<tr><td>m$habitat </td><td>1.00      </td><td>FALSE     </td></tr>\n",
       "\t<tr><td>m$host_phy</td><td>0.93      </td><td>FALSE     </td></tr>\n",
       "\t<tr><td>m$samp    </td><td>0.97      </td><td>FALSE     </td></tr>\n",
       "</tbody>\n",
       "</table>\n"
      ],
      "text/latex": [
       "\\begin{tabular}{r|lll}\n",
       " variable & pval\\_sensitivity & sig\\_pval\\_sensitivity\\\\\n",
       "\\hline\n",
       "\t Int        & 1.00       & FALSE     \\\\\n",
       "\t m\\$diet     & 0.00         &  TRUE       \\\\\n",
       "\t m\\$geo      & 1.00         & FALSE       \\\\\n",
       "\t m\\$habitat  & 1.00         & FALSE       \\\\\n",
       "\t m\\$host\\_phy & 0.93           & FALSE         \\\\\n",
       "\t m\\$samp     & 0.97         & FALSE       \\\\\n",
       "\\end{tabular}\n"
      ],
      "text/markdown": [
       "\n",
       "variable | pval_sensitivity | sig_pval_sensitivity | \n",
       "|---|---|---|---|---|---|\n",
       "| Int        | 1.00       | FALSE      | \n",
       "| m$diet     | 0.00       |  TRUE      | \n",
       "| m$geo      | 1.00       | FALSE      | \n",
       "| m$habitat  | 1.00       | FALSE      | \n",
       "| m$host_phy | 0.93       | FALSE      | \n",
       "| m$samp     | 0.97       | FALSE      | \n",
       "\n",
       "\n"
      ],
      "text/plain": [
       "  variable   pval_sensitivity sig_pval_sensitivity\n",
       "1 Int        1.00             FALSE               \n",
       "2 m$diet     0.00              TRUE               \n",
       "3 m$geo      1.00             FALSE               \n",
       "4 m$habitat  1.00             FALSE               \n",
       "5 m$host_phy 0.93             FALSE               \n",
       "6 m$samp     0.97             FALSE               "
      ]
     },
     "metadata": {},
     "output_type": "display_data"
    }
   ],
   "source": [
    "# significance\n",
    "mrm_res %>% \n",
    "    group_by(variable) %>%\n",
    "    summarize(pval_sensitivity = 1 - sum(coef_pval < 0.05) / length(pval)) %>%\n",
    "    ungroup() %>%\n",
    "    mutate(sig_pval_sensitivity = pval_sensitivity < 0.05)"
   ]
  },
  {
   "cell_type": "markdown",
   "metadata": {},
   "source": [
    "### unweighted-unifrac"
   ]
  },
  {
   "cell_type": "code",
   "execution_count": 112,
   "metadata": {
    "ExecuteTime": {
     "end_time": "2018-08-23T14:47:52.597741Z",
     "start_time": "2018-08-23T14:49:30.231Z"
    }
   },
   "outputs": [
    {
     "data": {
      "text/html": [
       "100"
      ],
      "text/latex": [
       "100"
      ],
      "text/markdown": [
       "100"
      ],
      "text/plain": [
       "[1] 100"
      ]
     },
     "metadata": {},
     "output_type": "display_data"
    }
   ],
   "source": [
    "# creating multiple distance matrices\n",
    "m = list(beta = beta_d$unweighted_unifrac,\n",
    "         host_phy = host_tree_d_o,\n",
    "         diet = dietD_d_o,\n",
    "         digest = dtD_d_o, \n",
    "         habitat = habitatD_d_o,\n",
    "         geo = geo_d_o,\n",
    "         samp = samp_d_o)\n",
    "\n",
    "m_perm = lapply(as.list(1:nperm_datasets), function(x) one_per_group(m, df_grps, x))\n",
    "m_perm %>% length           "
   ]
  },
  {
   "cell_type": "markdown",
   "metadata": {},
   "source": [
    "#### Model 1"
   ]
  },
  {
   "cell_type": "code",
   "execution_count": 113,
   "metadata": {
    "ExecuteTime": {
     "end_time": "2018-08-23T14:47:55.623665Z",
     "start_time": "2018-08-23T14:49:33.586Z"
    }
   },
   "outputs": [
    {
     "name": "stdout",
     "output_type": "stream",
     "text": [
      "[1] 700   7\n"
     ]
    },
    {
     "data": {
      "text/html": [
       "<table>\n",
       "<thead><tr><th></th><th scope=col>coef</th><th scope=col>coef_pval</th><th scope=col>variable</th><th scope=col>R2</th><th scope=col>pval</th><th scope=col>F</th><th scope=col>rep</th></tr></thead>\n",
       "<tbody>\n",
       "\t<tr><th scope=row>Int</th><td>753.09063625</td><td>1.000       </td><td>Int         </td><td>0.1566657   </td><td>0.001       </td><td>102.6066    </td><td>1           </td></tr>\n",
       "\t<tr><th scope=row>m$host_phy</th><td>  0.05550937</td><td>0.216       </td><td>m$host_phy  </td><td>0.1566657   </td><td>0.001       </td><td>102.6066    </td><td>1           </td></tr>\n",
       "\t<tr><th scope=row>m$diet</th><td>  0.36978978</td><td>0.001       </td><td>m$diet      </td><td>0.1566657   </td><td>0.001       </td><td>102.6066    </td><td>1           </td></tr>\n",
       "</tbody>\n",
       "</table>\n"
      ],
      "text/latex": [
       "\\begin{tabular}{r|lllllll}\n",
       "  & coef & coef\\_pval & variable & R2 & pval & F & rep\\\\\n",
       "\\hline\n",
       "\tInt & 753.09063625 & 1.000        & Int          & 0.1566657    & 0.001        & 102.6066     & 1           \\\\\n",
       "\tm\\$host\\_phy &   0.05550937   & 0.216          & m\\$host\\_phy & 0.1566657      & 0.001          & 102.6066       & 1             \\\\\n",
       "\tm\\$diet &   0.36978978 & 0.001        & m\\$diet     & 0.1566657    & 0.001        & 102.6066     & 1           \\\\\n",
       "\\end{tabular}\n"
      ],
      "text/markdown": [
       "\n",
       "| <!--/--> | coef | coef_pval | variable | R2 | pval | F | rep | \n",
       "|---|---|---|\n",
       "| Int | 753.09063625 | 1.000        | Int          | 0.1566657    | 0.001        | 102.6066     | 1            | \n",
       "| m$host_phy |   0.05550937 | 0.216        | m$host_phy   | 0.1566657    | 0.001        | 102.6066     | 1            | \n",
       "| m$diet |   0.36978978 | 0.001        | m$diet       | 0.1566657    | 0.001        | 102.6066     | 1            | \n",
       "\n",
       "\n"
      ],
      "text/plain": [
       "           coef         coef_pval variable   R2        pval  F        rep\n",
       "Int        753.09063625 1.000     Int        0.1566657 0.001 102.6066 1  \n",
       "m$host_phy   0.05550937 0.216     m$host_phy 0.1566657 0.001 102.6066 1  \n",
       "m$diet       0.36978978 0.001     m$diet     0.1566657 0.001 102.6066 1  "
      ]
     },
     "metadata": {},
     "output_type": "display_data"
    }
   ],
   "source": [
    "# MRM on each permutation (in parallel)\n",
    "doParallel::registerDoParallel(threads)\n",
    "x = as.list(1:length(m_perm))\n",
    "f = 'm$beta ~ m$host_phy + m$diet + m$digest + m$habitat + m$geo + m$samp'\n",
    "mrm_res = plyr::llply(x, mrm_each, L=m_perm, f=f, nperm=nperm, .parallel=TRUE)\n",
    "mrm_res = do.call(rbind, mrm_res)\n",
    "mrm_res %>% dfhead"
   ]
  },
  {
   "cell_type": "code",
   "execution_count": 114,
   "metadata": {
    "ExecuteTime": {
     "end_time": "2018-08-23T14:47:55.670311Z",
     "start_time": "2018-08-23T14:49:33.825Z"
    }
   },
   "outputs": [
    {
     "data": {
      "text/plain": [
       "       R2              pval            rep        \n",
       " Min.   :0.1288   Min.   :0.001   Min.   :  1.00  \n",
       " 1st Qu.:0.1515   1st Qu.:0.001   1st Qu.: 25.75  \n",
       " Median :0.1601   Median :0.001   Median : 50.50  \n",
       " Mean   :0.1603   Mean   :0.001   Mean   : 50.50  \n",
       " 3rd Qu.:0.1710   3rd Qu.:0.001   3rd Qu.: 75.25  \n",
       " Max.   :0.1910   Max.   :0.001   Max.   :100.00  "
      ]
     },
     "metadata": {},
     "output_type": "display_data"
    }
   ],
   "source": [
    "# summary of overall model\n",
    "mrm_res %>%\n",
    "    distinct(R2, pval, rep) %>%\n",
    "    summary"
   ]
  },
  {
   "cell_type": "code",
   "execution_count": 115,
   "metadata": {
    "ExecuteTime": {
     "end_time": "2018-08-23T14:47:58.093977Z",
     "start_time": "2018-08-23T14:49:36.984Z"
    }
   },
   "outputs": [
    {
     "name": "stderr",
     "output_type": "stream",
     "text": [
      "Warning message:\n",
      "“Column `variable`/`old_name` joining character vector and factor, coercing into character vector”"
     ]
    },
    {
     "data": {
      "image/png": "[encoded data removed]",
      "text/plain": [
       "plot without title"
      ]
     },
     "metadata": {},
     "output_type": "display_data"
    }
   ],
   "source": [
    "# formatting results\n",
    "mrm_res_s = mrm_res %>% \n",
    "    filter(variable != 'Int') %>%\n",
    "    gather(category, value, -variable, -R2, -pval, -F, -rep) %>%\n",
    "    mutate(category = ifelse(category == 'coef', 'Coef.', 'Adj. P-value'))\n",
    "\n",
    "mrm_res_s = mrm_res_s %>%\n",
    "    inner_join(rename_df, c('variable'='old_name')) %>%\n",
    "    dplyr::select(-variable) %>%\n",
    "    rename('variable' = new_name)              \n",
    "\n",
    "p = ggplot(mrm_res_s, aes(variable, value)) +\n",
    "    geom_boxplot() +\n",
    "    facet_grid(category ~ ., scales='free_y') +\n",
    "    theme_bw()\n",
    "\n",
    "options(repr.plot.width=5, repr.plot.height=3)\n",
    "plot(p)"
   ]
  },
  {
   "cell_type": "code",
   "execution_count": 116,
   "metadata": {
    "ExecuteTime": {
     "end_time": "2018-08-23T14:47:58.149852Z",
     "start_time": "2018-08-23T14:49:37.930Z"
    }
   },
   "outputs": [
    {
     "data": {
      "text/html": [
       "<table>\n",
       "<thead><tr><th scope=col>variable</th><th scope=col>pval_sensitivity</th><th scope=col>sig_pval_sensitivity</th></tr></thead>\n",
       "<tbody>\n",
       "\t<tr><td>Int       </td><td>1.00      </td><td>FALSE     </td></tr>\n",
       "\t<tr><td>m$diet    </td><td>0.00      </td><td> TRUE     </td></tr>\n",
       "\t<tr><td>m$digest  </td><td>0.50      </td><td>FALSE     </td></tr>\n",
       "\t<tr><td>m$geo     </td><td>0.60      </td><td>FALSE     </td></tr>\n",
       "\t<tr><td>m$habitat </td><td>0.79      </td><td>FALSE     </td></tr>\n",
       "\t<tr><td>m$host_phy</td><td>1.00      </td><td>FALSE     </td></tr>\n",
       "\t<tr><td>m$samp    </td><td>0.98      </td><td>FALSE     </td></tr>\n",
       "</tbody>\n",
       "</table>\n"
      ],
      "text/latex": [
       "\\begin{tabular}{r|lll}\n",
       " variable & pval\\_sensitivity & sig\\_pval\\_sensitivity\\\\\n",
       "\\hline\n",
       "\t Int        & 1.00       & FALSE     \\\\\n",
       "\t m\\$diet     & 0.00         &  TRUE       \\\\\n",
       "\t m\\$digest   & 0.50         & FALSE       \\\\\n",
       "\t m\\$geo      & 0.60         & FALSE       \\\\\n",
       "\t m\\$habitat  & 0.79         & FALSE       \\\\\n",
       "\t m\\$host\\_phy & 1.00           & FALSE         \\\\\n",
       "\t m\\$samp     & 0.98         & FALSE       \\\\\n",
       "\\end{tabular}\n"
      ],
      "text/markdown": [
       "\n",
       "variable | pval_sensitivity | sig_pval_sensitivity | \n",
       "|---|---|---|---|---|---|---|\n",
       "| Int        | 1.00       | FALSE      | \n",
       "| m$diet     | 0.00       |  TRUE      | \n",
       "| m$digest   | 0.50       | FALSE      | \n",
       "| m$geo      | 0.60       | FALSE      | \n",
       "| m$habitat  | 0.79       | FALSE      | \n",
       "| m$host_phy | 1.00       | FALSE      | \n",
       "| m$samp     | 0.98       | FALSE      | \n",
       "\n",
       "\n"
      ],
      "text/plain": [
       "  variable   pval_sensitivity sig_pval_sensitivity\n",
       "1 Int        1.00             FALSE               \n",
       "2 m$diet     0.00              TRUE               \n",
       "3 m$digest   0.50             FALSE               \n",
       "4 m$geo      0.60             FALSE               \n",
       "5 m$habitat  0.79             FALSE               \n",
       "6 m$host_phy 1.00             FALSE               \n",
       "7 m$samp     0.98             FALSE               "
      ]
     },
     "metadata": {},
     "output_type": "display_data"
    }
   ],
   "source": [
    "# significance\n",
    "mrm_res %>% \n",
    "    group_by(variable) %>%\n",
    "    summarize(pval_sensitivity = 1 - sum(coef_pval < 0.05) / length(pval)) %>%\n",
    "    ungroup() %>%\n",
    "    mutate(sig_pval_sensitivity = pval_sensitivity < 0.05)"
   ]
  },
  {
   "cell_type": "markdown",
   "metadata": {},
   "source": [
    "#### Model 2"
   ]
  },
  {
   "cell_type": "code",
   "execution_count": 117,
   "metadata": {
    "ExecuteTime": {
     "end_time": "2018-08-23T14:48:03.056823Z",
     "start_time": "2018-08-23T14:49:41.031Z"
    }
   },
   "outputs": [
    {
     "name": "stdout",
     "output_type": "stream",
     "text": [
      "[1] 600   7\n"
     ]
    },
    {
     "data": {
      "text/html": [
       "<table>\n",
       "<thead><tr><th></th><th scope=col>coef</th><th scope=col>coef_pval</th><th scope=col>variable</th><th scope=col>R2</th><th scope=col>pval</th><th scope=col>F</th><th scope=col>rep</th></tr></thead>\n",
       "<tbody>\n",
       "\t<tr><th scope=row>Int</th><td>816.8997365</td><td>1.000      </td><td>Int        </td><td>0.1542492  </td><td>0.001      </td><td>120.9189   </td><td>1          </td></tr>\n",
       "\t<tr><th scope=row>m$host_phy</th><td>  0.0601022</td><td>0.193      </td><td>m$host_phy </td><td>0.1542492  </td><td>0.001      </td><td>120.9189   </td><td>1          </td></tr>\n",
       "\t<tr><th scope=row>m$diet</th><td>  0.3853682</td><td>0.001      </td><td>m$diet     </td><td>0.1542492  </td><td>0.001      </td><td>120.9189   </td><td>1          </td></tr>\n",
       "</tbody>\n",
       "</table>\n"
      ],
      "text/latex": [
       "\\begin{tabular}{r|lllllll}\n",
       "  & coef & coef\\_pval & variable & R2 & pval & F & rep\\\\\n",
       "\\hline\n",
       "\tInt & 816.8997365 & 1.000       & Int         & 0.1542492   & 0.001       & 120.9189    & 1          \\\\\n",
       "\tm\\$host\\_phy &   0.0601022    & 0.193          & m\\$host\\_phy & 0.1542492      & 0.001          & 120.9189       & 1             \\\\\n",
       "\tm\\$diet &   0.3853682  & 0.001        & m\\$diet     & 0.1542492    & 0.001        & 120.9189     & 1           \\\\\n",
       "\\end{tabular}\n"
      ],
      "text/markdown": [
       "\n",
       "| <!--/--> | coef | coef_pval | variable | R2 | pval | F | rep | \n",
       "|---|---|---|\n",
       "| Int | 816.8997365 | 1.000       | Int         | 0.1542492   | 0.001       | 120.9189    | 1           | \n",
       "| m$host_phy |   0.0601022 | 0.193       | m$host_phy  | 0.1542492   | 0.001       | 120.9189    | 1           | \n",
       "| m$diet |   0.3853682 | 0.001       | m$diet      | 0.1542492   | 0.001       | 120.9189    | 1           | \n",
       "\n",
       "\n"
      ],
      "text/plain": [
       "           coef        coef_pval variable   R2        pval  F        rep\n",
       "Int        816.8997365 1.000     Int        0.1542492 0.001 120.9189 1  \n",
       "m$host_phy   0.0601022 0.193     m$host_phy 0.1542492 0.001 120.9189 1  \n",
       "m$diet       0.3853682 0.001     m$diet     0.1542492 0.001 120.9189 1  "
      ]
     },
     "metadata": {},
     "output_type": "display_data"
    }
   ],
   "source": [
    "# MRM on each permutation (in parallel)\n",
    "doParallel::registerDoParallel(threads)\n",
    "x = as.list(1:length(m_perm))\n",
    "f = 'm$beta ~ m$host_phy + m$diet + m$habitat + m$geo + m$samp'\n",
    "mrm_res = plyr::llply(x, mrm_each, L=m_perm, f=f, nperm=nperm, .parallel=TRUE)\n",
    "mrm_res = do.call(rbind, mrm_res)\n",
    "mrm_res %>% dfhead"
   ]
  },
  {
   "cell_type": "code",
   "execution_count": 118,
   "metadata": {
    "ExecuteTime": {
     "end_time": "2018-08-23T14:48:03.110370Z",
     "start_time": "2018-08-23T14:49:41.241Z"
    }
   },
   "outputs": [
    {
     "data": {
      "text/plain": [
       "       R2              pval            rep        \n",
       " Min.   :0.1229   Min.   :0.001   Min.   :  1.00  \n",
       " 1st Qu.:0.1465   1st Qu.:0.001   1st Qu.: 25.75  \n",
       " Median :0.1555   Median :0.001   Median : 50.50  \n",
       " Mean   :0.1556   Mean   :0.001   Mean   : 50.50  \n",
       " 3rd Qu.:0.1663   3rd Qu.:0.001   3rd Qu.: 75.25  \n",
       " Max.   :0.1845   Max.   :0.001   Max.   :100.00  "
      ]
     },
     "metadata": {},
     "output_type": "display_data"
    }
   ],
   "source": [
    "# summary of overall model\n",
    "mrm_res %>%\n",
    "    distinct(R2, pval, rep) %>%\n",
    "    summary"
   ]
  },
  {
   "cell_type": "code",
   "execution_count": 119,
   "metadata": {
    "ExecuteTime": {
     "end_time": "2018-08-23T14:48:05.751538Z",
     "start_time": "2018-08-23T14:49:44.730Z"
    }
   },
   "outputs": [
    {
     "name": "stderr",
     "output_type": "stream",
     "text": [
      "Warning message:\n",
      "“Column `variable`/`old_name` joining character vector and factor, coercing into character vector”"
     ]
    },
    {
     "data": {
      "image/png": "[encoded data removed]",
      "text/plain": [
       "plot without title"
      ]
     },
     "metadata": {},
     "output_type": "display_data"
    }
   ],
   "source": [
    "# formatting output\n",
    "mrm_res_s = mrm_res %>% \n",
    "    filter(variable != 'Int') %>%\n",
    "    gather(category, value, -variable, -R2, -pval, -F, -rep) %>%\n",
    "    mutate(category = ifelse(category == 'coef', 'Coef.', 'Adj. P-value'))\n",
    "\n",
    "mrm_res_s = mrm_res_s %>%\n",
    "    inner_join(rename_df, c('variable'='old_name')) %>%\n",
    "    dplyr::select(-variable) %>%\n",
    "    rename('variable' = new_name)              \n",
    "\n",
    "p = ggplot(mrm_res_s, aes(variable, value)) +\n",
    "    geom_boxplot() +\n",
    "    facet_grid(category ~ ., scales='free_y') +\n",
    "    theme_bw() \n",
    "\n",
    "options(repr.plot.width=5, repr.plot.height=3)\n",
    "plot(p)"
   ]
  },
  {
   "cell_type": "code",
   "execution_count": 120,
   "metadata": {
    "ExecuteTime": {
     "end_time": "2018-08-23T14:48:05.879369Z",
     "start_time": "2018-08-23T14:49:45.947Z"
    }
   },
   "outputs": [
    {
     "data": {
      "text/html": [
       "<table>\n",
       "<thead><tr><th scope=col>variable</th><th scope=col>pval_sensitivity</th><th scope=col>sig_pval_sensitivity</th></tr></thead>\n",
       "<tbody>\n",
       "\t<tr><td>Int       </td><td>1.00      </td><td>FALSE     </td></tr>\n",
       "\t<tr><td>m$diet    </td><td>0.00      </td><td> TRUE     </td></tr>\n",
       "\t<tr><td>m$geo     </td><td>0.70      </td><td>FALSE     </td></tr>\n",
       "\t<tr><td>m$habitat </td><td>0.77      </td><td>FALSE     </td></tr>\n",
       "\t<tr><td>m$host_phy</td><td>1.00      </td><td>FALSE     </td></tr>\n",
       "\t<tr><td>m$samp    </td><td>1.00      </td><td>FALSE     </td></tr>\n",
       "</tbody>\n",
       "</table>\n"
      ],
      "text/latex": [
       "\\begin{tabular}{r|lll}\n",
       " variable & pval\\_sensitivity & sig\\_pval\\_sensitivity\\\\\n",
       "\\hline\n",
       "\t Int        & 1.00       & FALSE     \\\\\n",
       "\t m\\$diet     & 0.00         &  TRUE       \\\\\n",
       "\t m\\$geo      & 0.70         & FALSE       \\\\\n",
       "\t m\\$habitat  & 0.77         & FALSE       \\\\\n",
       "\t m\\$host\\_phy & 1.00           & FALSE         \\\\\n",
       "\t m\\$samp     & 1.00         & FALSE       \\\\\n",
       "\\end{tabular}\n"
      ],
      "text/markdown": [
       "\n",
       "variable | pval_sensitivity | sig_pval_sensitivity | \n",
       "|---|---|---|---|---|---|\n",
       "| Int        | 1.00       | FALSE      | \n",
       "| m$diet     | 0.00       |  TRUE      | \n",
       "| m$geo      | 0.70       | FALSE      | \n",
       "| m$habitat  | 0.77       | FALSE      | \n",
       "| m$host_phy | 1.00       | FALSE      | \n",
       "| m$samp     | 1.00       | FALSE      | \n",
       "\n",
       "\n"
      ],
      "text/plain": [
       "  variable   pval_sensitivity sig_pval_sensitivity\n",
       "1 Int        1.00             FALSE               \n",
       "2 m$diet     0.00              TRUE               \n",
       "3 m$geo      0.70             FALSE               \n",
       "4 m$habitat  0.77             FALSE               \n",
       "5 m$host_phy 1.00             FALSE               \n",
       "6 m$samp     1.00             FALSE               "
      ]
     },
     "metadata": {},
     "output_type": "display_data"
    }
   ],
   "source": [
    "# significance\n",
    "mrm_res %>% \n",
    "    group_by(variable) %>%\n",
    "    summarize(pval_sensitivity = 1 - sum(coef_pval < 0.05) / length(pval)) %>%\n",
    "    ungroup() %>%\n",
    "    mutate(sig_pval_sensitivity = pval_sensitivity < 0.05)"
   ]
  },
  {
   "cell_type": "markdown",
   "metadata": {},
   "source": [
    "### Bray-Curtis"
   ]
  },
  {
   "cell_type": "code",
   "execution_count": 121,
   "metadata": {
    "ExecuteTime": {
     "end_time": "2018-08-23T14:48:10.184925Z",
     "start_time": "2018-08-23T14:49:47.767Z"
    }
   },
   "outputs": [
    {
     "data": {
      "text/html": [
       "100"
      ],
      "text/latex": [
       "100"
      ],
      "text/markdown": [
       "100"
      ],
      "text/plain": [
       "[1] 100"
      ]
     },
     "metadata": {},
     "output_type": "display_data"
    }
   ],
   "source": [
    "# creating multiple distance matrices\n",
    "L = list(beta = beta_d$bray_curtis,\n",
    "         host_phy = host_tree_d_o,\n",
    "         diet = dietD_d_o,\n",
    "         digest = dtD_d_o, \n",
    "         habitat = habitatD_d_o,\n",
    "         geo = geo_d_o,\n",
    "         samp = samp_d_o)\n",
    "m_perm = lapply(as.list(1:nperm_datasets), function(x) one_per_group(L, df_grps, x))\n",
    "m_perm %>% length           "
   ]
  },
  {
   "cell_type": "markdown",
   "metadata": {},
   "source": [
    "#### Model 1"
   ]
  },
  {
   "cell_type": "code",
   "execution_count": 122,
   "metadata": {
    "ExecuteTime": {
     "end_time": "2018-08-23T14:48:12.469555Z",
     "start_time": "2018-08-23T14:49:49.585Z"
    }
   },
   "outputs": [
    {
     "name": "stdout",
     "output_type": "stream",
     "text": [
      "[1] 700   7\n"
     ]
    },
    {
     "data": {
      "text/html": [
       "<table>\n",
       "<thead><tr><th></th><th scope=col>coef</th><th scope=col>coef_pval</th><th scope=col>variable</th><th scope=col>R2</th><th scope=col>pval</th><th scope=col>F</th><th scope=col>rep</th></tr></thead>\n",
       "<tbody>\n",
       "\t<tr><th scope=row>Int</th><td>1.369410e+03</td><td>0.999       </td><td>Int         </td><td>0.02355555  </td><td>0.001       </td><td>13.32438    </td><td>1           </td></tr>\n",
       "\t<tr><th scope=row>m$host_phy</th><td>5.281194e-02</td><td>0.022       </td><td>m$host_phy  </td><td>0.02355555  </td><td>0.001       </td><td>13.32438    </td><td>1           </td></tr>\n",
       "\t<tr><th scope=row>m$diet</th><td>1.261963e-01</td><td>0.001       </td><td>m$diet      </td><td>0.02355555  </td><td>0.001       </td><td>13.32438    </td><td>1           </td></tr>\n",
       "</tbody>\n",
       "</table>\n"
      ],
      "text/latex": [
       "\\begin{tabular}{r|lllllll}\n",
       "  & coef & coef\\_pval & variable & R2 & pval & F & rep\\\\\n",
       "\\hline\n",
       "\tInt & 1.369410e+03 & 0.999        & Int          & 0.02355555   & 0.001        & 13.32438     & 1           \\\\\n",
       "\tm\\$host\\_phy & 5.281194e-02   & 0.022          & m\\$host\\_phy & 0.02355555     & 0.001          & 13.32438       & 1             \\\\\n",
       "\tm\\$diet & 1.261963e-01 & 0.001        & m\\$diet     & 0.02355555   & 0.001        & 13.32438     & 1           \\\\\n",
       "\\end{tabular}\n"
      ],
      "text/markdown": [
       "\n",
       "| <!--/--> | coef | coef_pval | variable | R2 | pval | F | rep | \n",
       "|---|---|---|\n",
       "| Int | 1.369410e+03 | 0.999        | Int          | 0.02355555   | 0.001        | 13.32438     | 1            | \n",
       "| m$host_phy | 5.281194e-02 | 0.022        | m$host_phy   | 0.02355555   | 0.001        | 13.32438     | 1            | \n",
       "| m$diet | 1.261963e-01 | 0.001        | m$diet       | 0.02355555   | 0.001        | 13.32438     | 1            | \n",
       "\n",
       "\n"
      ],
      "text/plain": [
       "           coef         coef_pval variable   R2         pval  F        rep\n",
       "Int        1.369410e+03 0.999     Int        0.02355555 0.001 13.32438 1  \n",
       "m$host_phy 5.281194e-02 0.022     m$host_phy 0.02355555 0.001 13.32438 1  \n",
       "m$diet     1.261963e-01 0.001     m$diet     0.02355555 0.001 13.32438 1  "
      ]
     },
     "metadata": {},
     "output_type": "display_data"
    }
   ],
   "source": [
    "# MRM on each permutation (in parallel)\n",
    "doParallel::registerDoParallel(threads)\n",
    "x = as.list(1:length(m_perm))\n",
    "f = 'm$beta ~ m$host_phy + m$diet + m$digest + m$habitat + m$geo + m$samp'\n",
    "mrm_res = plyr::llply(x, mrm_each, L=m_perm, f=f, nperm=nperm, .parallel=TRUE)\n",
    "mrm_res = do.call(rbind, mrm_res)\n",
    "mrm_res %>% dfhead"
   ]
  },
  {
   "cell_type": "code",
   "execution_count": 123,
   "metadata": {
    "ExecuteTime": {
     "end_time": "2018-08-23T14:48:12.773746Z",
     "start_time": "2018-08-23T14:49:49.840Z"
    }
   },
   "outputs": [
    {
     "data": {
      "text/plain": [
       "       R2               pval              rep        \n",
       " Min.   :0.01425   Min.   :0.00100   Min.   :  1.00  \n",
       " 1st Qu.:0.02468   1st Qu.:0.00100   1st Qu.: 25.75  \n",
       " Median :0.02847   Median :0.00100   Median : 50.50  \n",
       " Mean   :0.02906   Mean   :0.00115   Mean   : 50.50  \n",
       " 3rd Qu.:0.03231   3rd Qu.:0.00100   3rd Qu.: 75.25  \n",
       " Max.   :0.05524   Max.   :0.00800   Max.   :100.00  "
      ]
     },
     "metadata": {},
     "output_type": "display_data"
    }
   ],
   "source": [
    "# summary of overall model\n",
    "mrm_res %>%\n",
    "    distinct(R2, pval, rep) %>%\n",
    "    summary"
   ]
  },
  {
   "cell_type": "code",
   "execution_count": 124,
   "metadata": {
    "ExecuteTime": {
     "end_time": "2018-08-23T14:48:14.896572Z",
     "start_time": "2018-08-23T14:49:53.450Z"
    }
   },
   "outputs": [
    {
     "name": "stderr",
     "output_type": "stream",
     "text": [
      "Warning message:\n",
      "“Column `variable`/`old_name` joining character vector and factor, coercing into character vector”"
     ]
    },
    {
     "data": {
      "image/png": "[encoded data removed]",
      "text/plain": [
       "plot without title"
      ]
     },
     "metadata": {},
     "output_type": "display_data"
    }
   ],
   "source": [
    "# formatting output\n",
    "mrm_res_s = mrm_res %>% \n",
    "    filter(variable != 'Int') %>%\n",
    "    gather(category, value, -variable, -R2, -pval, -F, -rep) %>%\n",
    "    mutate(category = ifelse(category == 'coef', 'Coef.', 'Adj. P-value'))\n",
    "\n",
    "mrm_res_s = mrm_res_s %>%\n",
    "    inner_join(rename_df, c('variable'='old_name')) %>%\n",
    "    dplyr::select(-variable) %>%\n",
    "    rename('variable' = new_name)             \n",
    "\n",
    "p = ggplot(mrm_res_s, aes(variable, value)) +\n",
    "    geom_boxplot() +\n",
    "    facet_grid(category ~ ., scales='free_y') +\n",
    "    theme_bw()\n",
    "\n",
    "options(repr.plot.width=5, repr.plot.height=3)\n",
    "plot(p)"
   ]
  },
  {
   "cell_type": "code",
   "execution_count": 125,
   "metadata": {
    "ExecuteTime": {
     "end_time": "2018-08-23T14:48:15.016202Z",
     "start_time": "2018-08-23T14:49:54.537Z"
    }
   },
   "outputs": [
    {
     "data": {
      "text/html": [
       "<table>\n",
       "<thead><tr><th scope=col>variable</th><th scope=col>pval_sensitivity</th><th scope=col>sig_pval_sensitivity</th></tr></thead>\n",
       "<tbody>\n",
       "\t<tr><td>Int       </td><td>1.00      </td><td>FALSE     </td></tr>\n",
       "\t<tr><td>m$diet    </td><td>0.00      </td><td> TRUE     </td></tr>\n",
       "\t<tr><td>m$digest  </td><td>1.00      </td><td>FALSE     </td></tr>\n",
       "\t<tr><td>m$geo     </td><td>0.80      </td><td>FALSE     </td></tr>\n",
       "\t<tr><td>m$habitat </td><td>0.56      </td><td>FALSE     </td></tr>\n",
       "\t<tr><td>m$host_phy</td><td>0.21      </td><td>FALSE     </td></tr>\n",
       "\t<tr><td>m$samp    </td><td>0.89      </td><td>FALSE     </td></tr>\n",
       "</tbody>\n",
       "</table>\n"
      ],
      "text/latex": [
       "\\begin{tabular}{r|lll}\n",
       " variable & pval\\_sensitivity & sig\\_pval\\_sensitivity\\\\\n",
       "\\hline\n",
       "\t Int        & 1.00       & FALSE     \\\\\n",
       "\t m\\$diet     & 0.00         &  TRUE       \\\\\n",
       "\t m\\$digest   & 1.00         & FALSE       \\\\\n",
       "\t m\\$geo      & 0.80         & FALSE       \\\\\n",
       "\t m\\$habitat  & 0.56         & FALSE       \\\\\n",
       "\t m\\$host\\_phy & 0.21           & FALSE         \\\\\n",
       "\t m\\$samp     & 0.89         & FALSE       \\\\\n",
       "\\end{tabular}\n"
      ],
      "text/markdown": [
       "\n",
       "variable | pval_sensitivity | sig_pval_sensitivity | \n",
       "|---|---|---|---|---|---|---|\n",
       "| Int        | 1.00       | FALSE      | \n",
       "| m$diet     | 0.00       |  TRUE      | \n",
       "| m$digest   | 1.00       | FALSE      | \n",
       "| m$geo      | 0.80       | FALSE      | \n",
       "| m$habitat  | 0.56       | FALSE      | \n",
       "| m$host_phy | 0.21       | FALSE      | \n",
       "| m$samp     | 0.89       | FALSE      | \n",
       "\n",
       "\n"
      ],
      "text/plain": [
       "  variable   pval_sensitivity sig_pval_sensitivity\n",
       "1 Int        1.00             FALSE               \n",
       "2 m$diet     0.00              TRUE               \n",
       "3 m$digest   1.00             FALSE               \n",
       "4 m$geo      0.80             FALSE               \n",
       "5 m$habitat  0.56             FALSE               \n",
       "6 m$host_phy 0.21             FALSE               \n",
       "7 m$samp     0.89             FALSE               "
      ]
     },
     "metadata": {},
     "output_type": "display_data"
    }
   ],
   "source": [
    "# significance\n",
    "mrm_res %>% \n",
    "    group_by(variable) %>%\n",
    "    summarize(pval_sensitivity = 1 - sum(coef_pval < 0.05) / length(pval)) %>%\n",
    "    ungroup() %>%\n",
    "    mutate(sig_pval_sensitivity = pval_sensitivity < 0.05)"
   ]
  },
  {
   "cell_type": "markdown",
   "metadata": {},
   "source": [
    "#### Model 2"
   ]
  },
  {
   "cell_type": "code",
   "execution_count": 126,
   "metadata": {
    "ExecuteTime": {
     "end_time": "2018-08-23T14:48:19.223285Z",
     "start_time": "2018-08-23T14:49:57.186Z"
    }
   },
   "outputs": [
    {
     "name": "stdout",
     "output_type": "stream",
     "text": [
      "[1] 600   7\n"
     ]
    },
    {
     "data": {
      "text/html": [
       "<table>\n",
       "<thead><tr><th></th><th scope=col>coef</th><th scope=col>coef_pval</th><th scope=col>variable</th><th scope=col>R2</th><th scope=col>pval</th><th scope=col>F</th><th scope=col>rep</th></tr></thead>\n",
       "<tbody>\n",
       "\t<tr><th scope=row>Int</th><td>1.362548e+03</td><td>0.998       </td><td>Int         </td><td>0.02351496  </td><td>0.001       </td><td>15.96586    </td><td>1           </td></tr>\n",
       "\t<tr><th scope=row>m$host_phy</th><td>5.228611e-02</td><td>0.020       </td><td>m$host_phy  </td><td>0.02351496  </td><td>0.001       </td><td>15.96586    </td><td>1           </td></tr>\n",
       "\t<tr><th scope=row>m$diet</th><td>1.244117e-01</td><td>0.001       </td><td>m$diet      </td><td>0.02351496  </td><td>0.001       </td><td>15.96586    </td><td>1           </td></tr>\n",
       "</tbody>\n",
       "</table>\n"
      ],
      "text/latex": [
       "\\begin{tabular}{r|lllllll}\n",
       "  & coef & coef\\_pval & variable & R2 & pval & F & rep\\\\\n",
       "\\hline\n",
       "\tInt & 1.362548e+03 & 0.998        & Int          & 0.02351496   & 0.001        & 15.96586     & 1           \\\\\n",
       "\tm\\$host\\_phy & 5.228611e-02   & 0.020          & m\\$host\\_phy & 0.02351496     & 0.001          & 15.96586       & 1             \\\\\n",
       "\tm\\$diet & 1.244117e-01 & 0.001        & m\\$diet     & 0.02351496   & 0.001        & 15.96586     & 1           \\\\\n",
       "\\end{tabular}\n"
      ],
      "text/markdown": [
       "\n",
       "| <!--/--> | coef | coef_pval | variable | R2 | pval | F | rep | \n",
       "|---|---|---|\n",
       "| Int | 1.362548e+03 | 0.998        | Int          | 0.02351496   | 0.001        | 15.96586     | 1            | \n",
       "| m$host_phy | 5.228611e-02 | 0.020        | m$host_phy   | 0.02351496   | 0.001        | 15.96586     | 1            | \n",
       "| m$diet | 1.244117e-01 | 0.001        | m$diet       | 0.02351496   | 0.001        | 15.96586     | 1            | \n",
       "\n",
       "\n"
      ],
      "text/plain": [
       "           coef         coef_pval variable   R2         pval  F        rep\n",
       "Int        1.362548e+03 0.998     Int        0.02351496 0.001 15.96586 1  \n",
       "m$host_phy 5.228611e-02 0.020     m$host_phy 0.02351496 0.001 15.96586 1  \n",
       "m$diet     1.244117e-01 0.001     m$diet     0.02351496 0.001 15.96586 1  "
      ]
     },
     "metadata": {},
     "output_type": "display_data"
    }
   ],
   "source": [
    "# MRM on each permutation (in parallel)\n",
    "doParallel::registerDoParallel(threads)\n",
    "x = as.list(1:length(m_perm))\n",
    "f = 'm$beta ~ m$host_phy + m$diet + m$habitat + m$geo + m$samp'\n",
    "mrm_res = plyr::llply(x, mrm_each, L=m_perm, f=f, nperm=nperm, .parallel=TRUE)\n",
    "mrm_res = do.call(rbind, mrm_res)\n",
    "mrm_res %>% dfhead"
   ]
  },
  {
   "cell_type": "code",
   "execution_count": 127,
   "metadata": {
    "ExecuteTime": {
     "end_time": "2018-08-23T14:48:19.277278Z",
     "start_time": "2018-08-23T14:49:58.208Z"
    }
   },
   "outputs": [
    {
     "data": {
      "text/plain": [
       "       R2               pval              rep        \n",
       " Min.   :0.01425   Min.   :0.00100   Min.   :  1.00  \n",
       " 1st Qu.:0.02454   1st Qu.:0.00100   1st Qu.: 25.75  \n",
       " Median :0.02843   Median :0.00100   Median : 50.50  \n",
       " Mean   :0.02893   Mean   :0.00107   Mean   : 50.50  \n",
       " 3rd Qu.:0.03225   3rd Qu.:0.00100   3rd Qu.: 75.25  \n",
       " Max.   :0.05524   Max.   :0.00400   Max.   :100.00  "
      ]
     },
     "metadata": {},
     "output_type": "display_data"
    }
   ],
   "source": [
    "# summary of overall model\n",
    "mrm_res %>%\n",
    "    distinct(R2, pval, rep) %>%\n",
    "    summary"
   ]
  },
  {
   "cell_type": "code",
   "execution_count": 128,
   "metadata": {
    "ExecuteTime": {
     "end_time": "2018-08-23T14:48:22.714056Z",
     "start_time": "2018-08-23T14:50:01.626Z"
    }
   },
   "outputs": [
    {
     "name": "stderr",
     "output_type": "stream",
     "text": [
      "Warning message:\n",
      "“Column `variable`/`old_name` joining character vector and factor, coercing into character vector”"
     ]
    },
    {
     "data": {
      "image/png": "[encoded data removed]",
      "text/plain": [
       "plot without title"
      ]
     },
     "metadata": {},
     "output_type": "display_data"
    }
   ],
   "source": [
    "# formatting output\n",
    "mrm_res_s = mrm_res %>% \n",
    "    filter(variable != 'Int') %>%\n",
    "    gather(category, value, -variable, -R2, -pval, -F, -rep) %>%\n",
    "    mutate(category = ifelse(category == 'coef', 'Coef.', 'Adj. P-value'))\n",
    "\n",
    "mrm_res_s = mrm_res_s %>%\n",
    "    inner_join(rename_df, c('variable'='old_name')) %>%\n",
    "    dplyr::select(-variable) %>%\n",
    "    rename('variable' = new_name)              \n",
    "\n",
    "p = ggplot(mrm_res_s, aes(variable, value)) +\n",
    "    geom_boxplot() +\n",
    "    facet_grid(category ~ ., scales='free_y') +\n",
    "    theme_bw() \n",
    "\n",
    "options(repr.plot.width=5, repr.plot.height=3)\n",
    "plot(p)"
   ]
  },
  {
   "cell_type": "code",
   "execution_count": 129,
   "metadata": {
    "ExecuteTime": {
     "end_time": "2018-08-23T14:48:22.798745Z",
     "start_time": "2018-08-23T14:50:02.778Z"
    }
   },
   "outputs": [
    {
     "data": {
      "text/html": [
       "<table>\n",
       "<thead><tr><th scope=col>variable</th><th scope=col>pval_sensitivity</th><th scope=col>sig_pval_sensitivity</th></tr></thead>\n",
       "<tbody>\n",
       "\t<tr><td>Int       </td><td>1.00      </td><td>FALSE     </td></tr>\n",
       "\t<tr><td>m$diet    </td><td>0.00      </td><td> TRUE     </td></tr>\n",
       "\t<tr><td>m$geo     </td><td>0.76      </td><td>FALSE     </td></tr>\n",
       "\t<tr><td>m$habitat </td><td>0.57      </td><td>FALSE     </td></tr>\n",
       "\t<tr><td>m$host_phy</td><td>0.24      </td><td>FALSE     </td></tr>\n",
       "\t<tr><td>m$samp    </td><td>0.89      </td><td>FALSE     </td></tr>\n",
       "</tbody>\n",
       "</table>\n"
      ],
      "text/latex": [
       "\\begin{tabular}{r|lll}\n",
       " variable & pval\\_sensitivity & sig\\_pval\\_sensitivity\\\\\n",
       "\\hline\n",
       "\t Int        & 1.00       & FALSE     \\\\\n",
       "\t m\\$diet     & 0.00         &  TRUE       \\\\\n",
       "\t m\\$geo      & 0.76         & FALSE       \\\\\n",
       "\t m\\$habitat  & 0.57         & FALSE       \\\\\n",
       "\t m\\$host\\_phy & 0.24           & FALSE         \\\\\n",
       "\t m\\$samp     & 0.89         & FALSE       \\\\\n",
       "\\end{tabular}\n"
      ],
      "text/markdown": [
       "\n",
       "variable | pval_sensitivity | sig_pval_sensitivity | \n",
       "|---|---|---|---|---|---|\n",
       "| Int        | 1.00       | FALSE      | \n",
       "| m$diet     | 0.00       |  TRUE      | \n",
       "| m$geo      | 0.76       | FALSE      | \n",
       "| m$habitat  | 0.57       | FALSE      | \n",
       "| m$host_phy | 0.24       | FALSE      | \n",
       "| m$samp     | 0.89       | FALSE      | \n",
       "\n",
       "\n"
      ],
      "text/plain": [
       "  variable   pval_sensitivity sig_pval_sensitivity\n",
       "1 Int        1.00             FALSE               \n",
       "2 m$diet     0.00              TRUE               \n",
       "3 m$geo      0.76             FALSE               \n",
       "4 m$habitat  0.57             FALSE               \n",
       "5 m$host_phy 0.24             FALSE               \n",
       "6 m$samp     0.89             FALSE               "
      ]
     },
     "metadata": {},
     "output_type": "display_data"
    }
   ],
   "source": [
    "# significance\n",
    "mrm_res %>% \n",
    "    group_by(variable) %>%\n",
    "    summarize(pval_sensitivity = 1 - sum(coef_pval < 0.05) / length(pval)) %>%\n",
    "    ungroup() %>%\n",
    "    mutate(sig_pval_sensitivity = pval_sensitivity < 0.05)"
   ]
  },
  {
   "cell_type": "markdown",
   "metadata": {},
   "source": [
    "### Jaccard"
   ]
  },
  {
   "cell_type": "code",
   "execution_count": 130,
   "metadata": {
    "ExecuteTime": {
     "end_time": "2018-08-23T14:48:27.298617Z",
     "start_time": "2018-08-23T14:50:04.969Z"
    }
   },
   "outputs": [
    {
     "data": {
      "text/html": [
       "100"
      ],
      "text/latex": [
       "100"
      ],
      "text/markdown": [
       "100"
      ],
      "text/plain": [
       "[1] 100"
      ]
     },
     "metadata": {},
     "output_type": "display_data"
    }
   ],
   "source": [
    "# creating multiple distance matrices\n",
    "L = list(beta = beta_d$jaccard,\n",
    "         host_phy = host_tree_d_o,\n",
    "         diet = dietD_d_o,\n",
    "         digest = dtD_d_o, \n",
    "         habitat = habitatD_d_o,\n",
    "         geo = geo_d_o,\n",
    "         samp = samp_d_o)\n",
    "m_perm = lapply(as.list(1:nperm_datasets), function(x) one_per_group(L, df_grps, x))\n",
    "m_perm %>% length           "
   ]
  },
  {
   "cell_type": "markdown",
   "metadata": {},
   "source": [
    "#### Model 1"
   ]
  },
  {
   "cell_type": "code",
   "execution_count": 131,
   "metadata": {
    "ExecuteTime": {
     "end_time": "2018-08-23T14:48:29.490575Z",
     "start_time": "2018-08-23T14:50:06.577Z"
    }
   },
   "outputs": [
    {
     "name": "stdout",
     "output_type": "stream",
     "text": [
      "[1] 700   7\n"
     ]
    },
    {
     "data": {
      "text/html": [
       "<table>\n",
       "<thead><tr><th></th><th scope=col>coef</th><th scope=col>coef_pval</th><th scope=col>variable</th><th scope=col>R2</th><th scope=col>pval</th><th scope=col>F</th><th scope=col>rep</th></tr></thead>\n",
       "<tbody>\n",
       "\t<tr><th scope=row>Int</th><td>1.192104e+03</td><td>1.000       </td><td>Int         </td><td>0.03903788  </td><td>0.001       </td><td>22.43785    </td><td>1           </td></tr>\n",
       "\t<tr><th scope=row>m$host_phy</th><td>7.129323e-02</td><td>0.004       </td><td>m$host_phy  </td><td>0.03903788  </td><td>0.001       </td><td>22.43785    </td><td>1           </td></tr>\n",
       "\t<tr><th scope=row>m$diet</th><td>1.291503e-01</td><td>0.001       </td><td>m$diet      </td><td>0.03903788  </td><td>0.001       </td><td>22.43785    </td><td>1           </td></tr>\n",
       "</tbody>\n",
       "</table>\n"
      ],
      "text/latex": [
       "\\begin{tabular}{r|lllllll}\n",
       "  & coef & coef\\_pval & variable & R2 & pval & F & rep\\\\\n",
       "\\hline\n",
       "\tInt & 1.192104e+03 & 1.000        & Int          & 0.03903788   & 0.001        & 22.43785     & 1           \\\\\n",
       "\tm\\$host\\_phy & 7.129323e-02   & 0.004          & m\\$host\\_phy & 0.03903788     & 0.001          & 22.43785       & 1             \\\\\n",
       "\tm\\$diet & 1.291503e-01 & 0.001        & m\\$diet     & 0.03903788   & 0.001        & 22.43785     & 1           \\\\\n",
       "\\end{tabular}\n"
      ],
      "text/markdown": [
       "\n",
       "| <!--/--> | coef | coef_pval | variable | R2 | pval | F | rep | \n",
       "|---|---|---|\n",
       "| Int | 1.192104e+03 | 1.000        | Int          | 0.03903788   | 0.001        | 22.43785     | 1            | \n",
       "| m$host_phy | 7.129323e-02 | 0.004        | m$host_phy   | 0.03903788   | 0.001        | 22.43785     | 1            | \n",
       "| m$diet | 1.291503e-01 | 0.001        | m$diet       | 0.03903788   | 0.001        | 22.43785     | 1            | \n",
       "\n",
       "\n"
      ],
      "text/plain": [
       "           coef         coef_pval variable   R2         pval  F        rep\n",
       "Int        1.192104e+03 1.000     Int        0.03903788 0.001 22.43785 1  \n",
       "m$host_phy 7.129323e-02 0.004     m$host_phy 0.03903788 0.001 22.43785 1  \n",
       "m$diet     1.291503e-01 0.001     m$diet     0.03903788 0.001 22.43785 1  "
      ]
     },
     "metadata": {},
     "output_type": "display_data"
    }
   ],
   "source": [
    "# MRM on each permutation (in parallel)\n",
    "doParallel::registerDoParallel(threads)\n",
    "x = as.list(1:length(m_perm))\n",
    "f = 'm$beta ~ m$host_phy + m$diet + m$digest + m$habitat + m$geo + m$samp'\n",
    "mrm_res = plyr::llply(x, mrm_each, L=m_perm, f=f, nperm=nperm, .parallel=TRUE)\n",
    "mrm_res = do.call(rbind, mrm_res)\n",
    "mrm_res %>% dfhead"
   ]
  },
  {
   "cell_type": "code",
   "execution_count": 132,
   "metadata": {
    "ExecuteTime": {
     "end_time": "2018-08-23T14:48:29.540364Z",
     "start_time": "2018-08-23T14:50:06.855Z"
    }
   },
   "outputs": [
    {
     "data": {
      "text/plain": [
       "       R2               pval              rep        \n",
       " Min.   :0.02188   Min.   :0.00100   Min.   :  1.00  \n",
       " 1st Qu.:0.02722   1st Qu.:0.00100   1st Qu.: 25.75  \n",
       " Median :0.03081   Median :0.00100   Median : 50.50  \n",
       " Mean   :0.03193   Mean   :0.00103   Mean   : 50.50  \n",
       " 3rd Qu.:0.03519   3rd Qu.:0.00100   3rd Qu.: 75.25  \n",
       " Max.   :0.04903   Max.   :0.00200   Max.   :100.00  "
      ]
     },
     "metadata": {},
     "output_type": "display_data"
    }
   ],
   "source": [
    "# summary of overall model\n",
    "mrm_res %>%\n",
    "    distinct(R2, pval, rep) %>%\n",
    "    summary"
   ]
  },
  {
   "cell_type": "code",
   "execution_count": 133,
   "metadata": {
    "ExecuteTime": {
     "end_time": "2018-08-23T14:48:32.271155Z",
     "start_time": "2018-08-23T14:50:09.993Z"
    }
   },
   "outputs": [
    {
     "name": "stderr",
     "output_type": "stream",
     "text": [
      "Warning message:\n",
      "“Column `variable`/`old_name` joining character vector and factor, coercing into character vector”"
     ]
    },
    {
     "data": {
      "image/png": "[encoded data removed]",
      "text/plain": [
       "plot without title"
      ]
     },
     "metadata": {},
     "output_type": "display_data"
    }
   ],
   "source": [
    "# formatting output\n",
    "mrm_res_s = mrm_res %>% \n",
    "    filter(variable != 'Int') %>%\n",
    "    gather(category, value, -variable, -R2, -pval, -F, -rep) %>%\n",
    "    mutate(category = ifelse(category == 'coef', 'Coef.', 'Adj. P-value'))\n",
    "\n",
    "mrm_res_s = mrm_res_s %>%\n",
    "    inner_join(rename_df, c('variable'='old_name')) %>%\n",
    "    dplyr::select(-variable) %>%\n",
    "    rename('variable' = new_name)              \n",
    "\n",
    "p = ggplot(mrm_res_s, aes(variable, value)) +\n",
    "    geom_boxplot() +\n",
    "    facet_grid(category ~ ., scales='free_y') +\n",
    "    theme_bw()\n",
    "\n",
    "options(repr.plot.width=5, repr.plot.height=3)\n",
    "plot(p)"
   ]
  },
  {
   "cell_type": "code",
   "execution_count": 134,
   "metadata": {
    "ExecuteTime": {
     "end_time": "2018-08-23T14:48:32.326021Z",
     "start_time": "2018-08-23T14:50:11.167Z"
    }
   },
   "outputs": [
    {
     "data": {
      "text/html": [
       "<table>\n",
       "<thead><tr><th scope=col>variable</th><th scope=col>pval_sensitivity</th><th scope=col>sig_pval_sensitivity</th></tr></thead>\n",
       "<tbody>\n",
       "\t<tr><td>Int       </td><td>1.00      </td><td>FALSE     </td></tr>\n",
       "\t<tr><td>m$diet    </td><td>0.00      </td><td> TRUE     </td></tr>\n",
       "\t<tr><td>m$digest  </td><td>0.46      </td><td>FALSE     </td></tr>\n",
       "\t<tr><td>m$geo     </td><td>0.84      </td><td>FALSE     </td></tr>\n",
       "\t<tr><td>m$habitat </td><td>0.75      </td><td>FALSE     </td></tr>\n",
       "\t<tr><td>m$host_phy</td><td>0.14      </td><td>FALSE     </td></tr>\n",
       "\t<tr><td>m$samp    </td><td>0.87      </td><td>FALSE     </td></tr>\n",
       "</tbody>\n",
       "</table>\n"
      ],
      "text/latex": [
       "\\begin{tabular}{r|lll}\n",
       " variable & pval\\_sensitivity & sig\\_pval\\_sensitivity\\\\\n",
       "\\hline\n",
       "\t Int        & 1.00       & FALSE     \\\\\n",
       "\t m\\$diet     & 0.00         &  TRUE       \\\\\n",
       "\t m\\$digest   & 0.46         & FALSE       \\\\\n",
       "\t m\\$geo      & 0.84         & FALSE       \\\\\n",
       "\t m\\$habitat  & 0.75         & FALSE       \\\\\n",
       "\t m\\$host\\_phy & 0.14           & FALSE         \\\\\n",
       "\t m\\$samp     & 0.87         & FALSE       \\\\\n",
       "\\end{tabular}\n"
      ],
      "text/markdown": [
       "\n",
       "variable | pval_sensitivity | sig_pval_sensitivity | \n",
       "|---|---|---|---|---|---|---|\n",
       "| Int        | 1.00       | FALSE      | \n",
       "| m$diet     | 0.00       |  TRUE      | \n",
       "| m$digest   | 0.46       | FALSE      | \n",
       "| m$geo      | 0.84       | FALSE      | \n",
       "| m$habitat  | 0.75       | FALSE      | \n",
       "| m$host_phy | 0.14       | FALSE      | \n",
       "| m$samp     | 0.87       | FALSE      | \n",
       "\n",
       "\n"
      ],
      "text/plain": [
       "  variable   pval_sensitivity sig_pval_sensitivity\n",
       "1 Int        1.00             FALSE               \n",
       "2 m$diet     0.00              TRUE               \n",
       "3 m$digest   0.46             FALSE               \n",
       "4 m$geo      0.84             FALSE               \n",
       "5 m$habitat  0.75             FALSE               \n",
       "6 m$host_phy 0.14             FALSE               \n",
       "7 m$samp     0.87             FALSE               "
      ]
     },
     "metadata": {},
     "output_type": "display_data"
    }
   ],
   "source": [
    "# significance\n",
    "mrm_res %>% \n",
    "    group_by(variable) %>%\n",
    "    summarize(pval_sensitivity = 1 - sum(coef_pval < 0.05) / length(pval)) %>%\n",
    "    ungroup() %>%\n",
    "    mutate(sig_pval_sensitivity = pval_sensitivity < 0.05)"
   ]
  },
  {
   "cell_type": "markdown",
   "metadata": {},
   "source": [
    "#### Model 2"
   ]
  },
  {
   "cell_type": "code",
   "execution_count": 135,
   "metadata": {
    "ExecuteTime": {
     "end_time": "2018-08-23T14:48:36.089937Z",
     "start_time": "2018-08-23T14:50:13.834Z"
    }
   },
   "outputs": [
    {
     "name": "stdout",
     "output_type": "stream",
     "text": [
      "[1] 600   7\n"
     ]
    },
    {
     "data": {
      "text/html": [
       "<table>\n",
       "<thead><tr><th></th><th scope=col>coef</th><th scope=col>coef_pval</th><th scope=col>variable</th><th scope=col>R2</th><th scope=col>pval</th><th scope=col>F</th><th scope=col>rep</th></tr></thead>\n",
       "<tbody>\n",
       "\t<tr><th scope=row>Int</th><td>1240.9519644</td><td>1.000       </td><td>Int         </td><td>0.03671828  </td><td>0.001       </td><td>25.27217    </td><td>1           </td></tr>\n",
       "\t<tr><th scope=row>m$host_phy</th><td>   0.0748896</td><td>0.006       </td><td>m$host_phy  </td><td>0.03671828  </td><td>0.001       </td><td>25.27217    </td><td>1           </td></tr>\n",
       "\t<tr><th scope=row>m$diet</th><td>   0.1432390</td><td>0.001       </td><td>m$diet      </td><td>0.03671828  </td><td>0.001       </td><td>25.27217    </td><td>1           </td></tr>\n",
       "</tbody>\n",
       "</table>\n"
      ],
      "text/latex": [
       "\\begin{tabular}{r|lllllll}\n",
       "  & coef & coef\\_pval & variable & R2 & pval & F & rep\\\\\n",
       "\\hline\n",
       "\tInt & 1240.9519644 & 1.000        & Int          & 0.03671828   & 0.001        & 25.27217     & 1           \\\\\n",
       "\tm\\$host\\_phy &    0.0748896   & 0.006          & m\\$host\\_phy & 0.03671828     & 0.001          & 25.27217       & 1             \\\\\n",
       "\tm\\$diet &    0.1432390 & 0.001        & m\\$diet     & 0.03671828   & 0.001        & 25.27217     & 1           \\\\\n",
       "\\end{tabular}\n"
      ],
      "text/markdown": [
       "\n",
       "| <!--/--> | coef | coef_pval | variable | R2 | pval | F | rep | \n",
       "|---|---|---|\n",
       "| Int | 1240.9519644 | 1.000        | Int          | 0.03671828   | 0.001        | 25.27217     | 1            | \n",
       "| m$host_phy |    0.0748896 | 0.006        | m$host_phy   | 0.03671828   | 0.001        | 25.27217     | 1            | \n",
       "| m$diet |    0.1432390 | 0.001        | m$diet       | 0.03671828   | 0.001        | 25.27217     | 1            | \n",
       "\n",
       "\n"
      ],
      "text/plain": [
       "           coef         coef_pval variable   R2         pval  F        rep\n",
       "Int        1240.9519644 1.000     Int        0.03671828 0.001 25.27217 1  \n",
       "m$host_phy    0.0748896 0.006     m$host_phy 0.03671828 0.001 25.27217 1  \n",
       "m$diet        0.1432390 0.001     m$diet     0.03671828 0.001 25.27217 1  "
      ]
     },
     "metadata": {},
     "output_type": "display_data"
    }
   ],
   "source": [
    "# MRM on each permutation (in parallel)\n",
    "doParallel::registerDoParallel(threads)\n",
    "x = as.list(1:length(m_perm))\n",
    "f = 'm$beta ~ m$host_phy + m$diet + m$habitat + m$geo + m$samp'\n",
    "mrm_res = plyr::llply(x, mrm_each, L=m_perm, f=f, nperm=nperm, .parallel=TRUE)\n",
    "mrm_res = do.call(rbind, mrm_res)\n",
    "mrm_res %>% dfhead"
   ]
  },
  {
   "cell_type": "code",
   "execution_count": 136,
   "metadata": {
    "ExecuteTime": {
     "end_time": "2018-08-23T14:48:36.164643Z",
     "start_time": "2018-08-23T14:50:14.326Z"
    }
   },
   "outputs": [
    {
     "data": {
      "text/plain": [
       "       R2               pval              rep        \n",
       " Min.   :0.01932   Min.   :0.00100   Min.   :  1.00  \n",
       " 1st Qu.:0.02520   1st Qu.:0.00100   1st Qu.: 25.75  \n",
       " Median :0.02853   Median :0.00100   Median : 50.50  \n",
       " Mean   :0.02986   Mean   :0.00103   Mean   : 50.50  \n",
       " 3rd Qu.:0.03279   3rd Qu.:0.00100   3rd Qu.: 75.25  \n",
       " Max.   :0.04655   Max.   :0.00200   Max.   :100.00  "
      ]
     },
     "metadata": {},
     "output_type": "display_data"
    }
   ],
   "source": [
    "# summary of overall model\n",
    "mrm_res %>%\n",
    "    distinct(R2, pval, rep) %>%\n",
    "    summary"
   ]
  },
  {
   "cell_type": "code",
   "execution_count": 137,
   "metadata": {
    "ExecuteTime": {
     "end_time": "2018-08-23T14:48:39.022726Z",
     "start_time": "2018-08-23T14:50:18.027Z"
    }
   },
   "outputs": [
    {
     "name": "stderr",
     "output_type": "stream",
     "text": [
      "Warning message:\n",
      "“Column `variable`/`old_name` joining character vector and factor, coercing into character vector”"
     ]
    },
    {
     "data": {
      "image/png": "[encoded data removed]",
      "text/plain": [
       "plot without title"
      ]
     },
     "metadata": {},
     "output_type": "display_data"
    }
   ],
   "source": [
    "# formatting output\n",
    "mrm_res_s = mrm_res %>% \n",
    "    filter(variable != 'Int') %>%\n",
    "    gather(category, value, -variable, -R2, -pval, -F, -rep) %>%\n",
    "    mutate(category = ifelse(category == 'coef', 'Coef.', 'Adj. P-value'))\n",
    "\n",
    "mrm_res_s = mrm_res_s %>%\n",
    "    inner_join(rename_df, c('variable'='old_name')) %>%\n",
    "    dplyr::select(-variable) %>%\n",
    "    rename('variable' = new_name)             \n",
    "\n",
    "p = ggplot(mrm_res_s, aes(variable, value)) +\n",
    "    geom_boxplot() +\n",
    "    facet_grid(category ~ ., scales='free_y') +\n",
    "    theme_bw() \n",
    "\n",
    "options(repr.plot.width=5, repr.plot.height=3)\n",
    "plot(p)"
   ]
  },
  {
   "cell_type": "code",
   "execution_count": 138,
   "metadata": {
    "ExecuteTime": {
     "end_time": "2018-08-23T14:48:39.099600Z",
     "start_time": "2018-08-23T14:50:19.034Z"
    }
   },
   "outputs": [
    {
     "data": {
      "text/html": [
       "<table>\n",
       "<thead><tr><th scope=col>variable</th><th scope=col>pval_sensitivity</th><th scope=col>sig_pval_sensitivity</th></tr></thead>\n",
       "<tbody>\n",
       "\t<tr><td>Int       </td><td>1.00      </td><td>FALSE     </td></tr>\n",
       "\t<tr><td>m$diet    </td><td>0.00      </td><td> TRUE     </td></tr>\n",
       "\t<tr><td>m$geo     </td><td>0.87      </td><td>FALSE     </td></tr>\n",
       "\t<tr><td>m$habitat </td><td>0.76      </td><td>FALSE     </td></tr>\n",
       "\t<tr><td>m$host_phy</td><td>0.09      </td><td>FALSE     </td></tr>\n",
       "\t<tr><td>m$samp    </td><td>0.88      </td><td>FALSE     </td></tr>\n",
       "</tbody>\n",
       "</table>\n"
      ],
      "text/latex": [
       "\\begin{tabular}{r|lll}\n",
       " variable & pval\\_sensitivity & sig\\_pval\\_sensitivity\\\\\n",
       "\\hline\n",
       "\t Int        & 1.00       & FALSE     \\\\\n",
       "\t m\\$diet     & 0.00         &  TRUE       \\\\\n",
       "\t m\\$geo      & 0.87         & FALSE       \\\\\n",
       "\t m\\$habitat  & 0.76         & FALSE       \\\\\n",
       "\t m\\$host\\_phy & 0.09           & FALSE         \\\\\n",
       "\t m\\$samp     & 0.88         & FALSE       \\\\\n",
       "\\end{tabular}\n"
      ],
      "text/markdown": [
       "\n",
       "variable | pval_sensitivity | sig_pval_sensitivity | \n",
       "|---|---|---|---|---|---|\n",
       "| Int        | 1.00       | FALSE      | \n",
       "| m$diet     | 0.00       |  TRUE      | \n",
       "| m$geo      | 0.87       | FALSE      | \n",
       "| m$habitat  | 0.76       | FALSE      | \n",
       "| m$host_phy | 0.09       | FALSE      | \n",
       "| m$samp     | 0.88       | FALSE      | \n",
       "\n",
       "\n"
      ],
      "text/plain": [
       "  variable   pval_sensitivity sig_pval_sensitivity\n",
       "1 Int        1.00             FALSE               \n",
       "2 m$diet     0.00              TRUE               \n",
       "3 m$geo      0.87             FALSE               \n",
       "4 m$habitat  0.76             FALSE               \n",
       "5 m$host_phy 0.09             FALSE               \n",
       "6 m$samp     0.88             FALSE               "
      ]
     },
     "metadata": {},
     "output_type": "display_data"
    }
   ],
   "source": [
    "# significance\n",
    "mrm_res %>% \n",
    "    group_by(variable) %>%\n",
    "    summarize(pval_sensitivity = 1 - sum(coef_pval < 0.05) / length(pval)) %>%\n",
    "    ungroup() %>%\n",
    "    mutate(sig_pval_sensitivity = pval_sensitivity < 0.05)"
   ]
  },
  {
   "cell_type": "markdown",
   "metadata": {},
   "source": [
    "## One per genus"
   ]
  },
  {
   "cell_type": "code",
   "execution_count": 139,
   "metadata": {
    "ExecuteTime": {
     "end_time": "2018-08-23T14:48:40.431650Z",
     "start_time": "2018-08-23T14:50:20.480Z"
    }
   },
   "outputs": [
    {
     "name": "stdout",
     "output_type": "stream",
     "text": [
      "[1] 160   2\n"
     ]
    },
    {
     "data": {
      "text/html": [
       "<table>\n",
       "<thead><tr><th scope=col>X.SampleID</th><th scope=col>genus</th></tr></thead>\n",
       "<tbody>\n",
       "\t<tr><td>X1.Eurasian.Beaver</td><td>Castor            </td></tr>\n",
       "\t<tr><td>X101.Horse        </td><td>Equus             </td></tr>\n",
       "\t<tr><td>X102.Kulan        </td><td>Equus             </td></tr>\n",
       "</tbody>\n",
       "</table>\n"
      ],
      "text/latex": [
       "\\begin{tabular}{r|ll}\n",
       " X.SampleID & genus\\\\\n",
       "\\hline\n",
       "\t X1.Eurasian.Beaver & Castor            \\\\\n",
       "\t X101.Horse         & Equus             \\\\\n",
       "\t X102.Kulan         & Equus             \\\\\n",
       "\\end{tabular}\n"
      ],
      "text/markdown": [
       "\n",
       "X.SampleID | genus | \n",
       "|---|---|---|\n",
       "| X1.Eurasian.Beaver | Castor             | \n",
       "| X101.Horse         | Equus              | \n",
       "| X102.Kulan         | Equus              | \n",
       "\n",
       "\n"
      ],
      "text/plain": [
       "  X.SampleID         genus \n",
       "1 X1.Eurasian.Beaver Castor\n",
       "2 X101.Horse         Equus \n",
       "3 X102.Kulan         Equus "
      ]
     },
     "metadata": {},
     "output_type": "display_data"
    }
   ],
   "source": [
    "# grouping samples by species\n",
    "df_grps = metadata %>% \n",
    "    filter(X.SampleID %in% labels(dietD_d_o)) %>%\n",
    "    dplyr::select(X.SampleID, genus)\n",
    "df_grps %>% dfhead"
   ]
  },
  {
   "cell_type": "markdown",
   "metadata": {},
   "source": [
    "### Weighted Unifrac"
   ]
  },
  {
   "cell_type": "code",
   "execution_count": 140,
   "metadata": {
    "ExecuteTime": {
     "end_time": "2018-08-23T14:48:47.574670Z",
     "start_time": "2018-08-23T14:50:25.378Z"
    }
   },
   "outputs": [
    {
     "data": {
      "text/html": [
       "100"
      ],
      "text/latex": [
       "100"
      ],
      "text/markdown": [
       "100"
      ],
      "text/plain": [
       "[1] 100"
      ]
     },
     "metadata": {},
     "output_type": "display_data"
    }
   ],
   "source": [
    "# creating multiple distance matrices\n",
    "L = list(beta = beta_d$weighted_unifrac,\n",
    "         host_phy = host_tree_d_o,\n",
    "         diet = dietD_d_o,\n",
    "         digest = dtD_d_o, \n",
    "         habitat = habitatD_d_o,\n",
    "         geo = geo_d_o,\n",
    "         samp = samp_d_o)\n",
    "\n",
    "m_perm = lapply(as.list(1:nperm_datasets), function(x) one_per_group(L, df_grps, x))\n",
    "m_perm %>% length           "
   ]
  },
  {
   "cell_type": "code",
   "execution_count": 141,
   "metadata": {
    "ExecuteTime": {
     "end_time": "2018-08-23T14:48:47.619045Z",
     "start_time": "2018-08-23T14:50:26.201Z"
    }
   },
   "outputs": [
    {
     "data": {
      "text/html": [
       "<ol class=list-inline>\n",
       "\t<li>69</li>\n",
       "\t<li>69</li>\n",
       "</ol>\n"
      ],
      "text/latex": [
       "\\begin{enumerate*}\n",
       "\\item 69\n",
       "\\item 69\n",
       "\\end{enumerate*}\n"
      ],
      "text/markdown": [
       "1. 69\n",
       "2. 69\n",
       "\n",
       "\n"
      ],
      "text/plain": [
       "[1] 69 69"
      ]
     },
     "metadata": {},
     "output_type": "display_data"
    }
   ],
   "source": [
    "# check on sample size\n",
    "m_perm[[1]][[1]] %>% as.matrix %>% dim"
   ]
  },
  {
   "cell_type": "markdown",
   "metadata": {},
   "source": [
    "#### Model 1"
   ]
  },
  {
   "cell_type": "code",
   "execution_count": 142,
   "metadata": {
    "ExecuteTime": {
     "end_time": "2018-08-23T14:48:49.368755Z",
     "start_time": "2018-08-23T14:50:27.690Z"
    }
   },
   "outputs": [
    {
     "name": "stdout",
     "output_type": "stream",
     "text": [
      "[1] 700   7\n"
     ]
    },
    {
     "data": {
      "text/html": [
       "<table>\n",
       "<thead><tr><th></th><th scope=col>coef</th><th scope=col>coef_pval</th><th scope=col>variable</th><th scope=col>R2</th><th scope=col>pval</th><th scope=col>F</th><th scope=col>rep</th></tr></thead>\n",
       "<tbody>\n",
       "\t<tr><th scope=row>Int</th><td>889.6459196</td><td>0.975      </td><td>Int        </td><td>0.06982595 </td><td>0.002      </td><td>29.26386   </td><td>1          </td></tr>\n",
       "\t<tr><th scope=row>m$host_phy</th><td>  0.1035562</td><td>0.103      </td><td>m$host_phy </td><td>0.06982595 </td><td>0.002      </td><td>29.26386   </td><td>1          </td></tr>\n",
       "\t<tr><th scope=row>m$diet</th><td>  0.2592261</td><td>0.001      </td><td>m$diet     </td><td>0.06982595 </td><td>0.002      </td><td>29.26386   </td><td>1          </td></tr>\n",
       "</tbody>\n",
       "</table>\n"
      ],
      "text/latex": [
       "\\begin{tabular}{r|lllllll}\n",
       "  & coef & coef\\_pval & variable & R2 & pval & F & rep\\\\\n",
       "\\hline\n",
       "\tInt & 889.6459196 & 0.975       & Int         & 0.06982595  & 0.002       & 29.26386    & 1          \\\\\n",
       "\tm\\$host\\_phy &   0.1035562    & 0.103          & m\\$host\\_phy & 0.06982595     & 0.002          & 29.26386       & 1             \\\\\n",
       "\tm\\$diet &   0.2592261  & 0.001        & m\\$diet     & 0.06982595   & 0.002        & 29.26386     & 1           \\\\\n",
       "\\end{tabular}\n"
      ],
      "text/markdown": [
       "\n",
       "| <!--/--> | coef | coef_pval | variable | R2 | pval | F | rep | \n",
       "|---|---|---|\n",
       "| Int | 889.6459196 | 0.975       | Int         | 0.06982595  | 0.002       | 29.26386    | 1           | \n",
       "| m$host_phy |   0.1035562 | 0.103       | m$host_phy  | 0.06982595  | 0.002       | 29.26386    | 1           | \n",
       "| m$diet |   0.2592261 | 0.001       | m$diet      | 0.06982595  | 0.002       | 29.26386    | 1           | \n",
       "\n",
       "\n"
      ],
      "text/plain": [
       "           coef        coef_pval variable   R2         pval  F        rep\n",
       "Int        889.6459196 0.975     Int        0.06982595 0.002 29.26386 1  \n",
       "m$host_phy   0.1035562 0.103     m$host_phy 0.06982595 0.002 29.26386 1  \n",
       "m$diet       0.2592261 0.001     m$diet     0.06982595 0.002 29.26386 1  "
      ]
     },
     "metadata": {},
     "output_type": "display_data"
    }
   ],
   "source": [
    "# MRM on each permutation (in parallel)\n",
    "doParallel::registerDoParallel(threads)\n",
    "x = as.list(1:length(m_perm))\n",
    "f = 'm$beta ~ m$host_phy + m$diet + m$digest + m$habitat + m$geo + m$samp'\n",
    "mrm_res = plyr::llply(x, mrm_each, L=m_perm, f=f, nperm=nperm, .parallel=TRUE)\n",
    "mrm_res = do.call(rbind, mrm_res)\n",
    "mrm_res %>% dfhead"
   ]
  },
  {
   "cell_type": "code",
   "execution_count": 143,
   "metadata": {
    "ExecuteTime": {
     "end_time": "2018-08-23T14:48:50.381295Z",
     "start_time": "2018-08-23T14:50:30.418Z"
    }
   },
   "outputs": [
    {
     "data": {
      "text/plain": [
       "       R2               pval              rep        \n",
       " Min.   :0.04098   Min.   :0.00100   Min.   :  1.00  \n",
       " 1st Qu.:0.05983   1st Qu.:0.00100   1st Qu.: 25.75  \n",
       " Median :0.06990   Median :0.00300   Median : 50.50  \n",
       " Mean   :0.07000   Mean   :0.00585   Mean   : 50.50  \n",
       " 3rd Qu.:0.07923   3rd Qu.:0.00700   3rd Qu.: 75.25  \n",
       " Max.   :0.11679   Max.   :0.04600   Max.   :100.00  "
      ]
     },
     "metadata": {},
     "output_type": "display_data"
    }
   ],
   "source": [
    "# summary of overall model\n",
    "mrm_res %>%\n",
    "    distinct(R2, pval, rep) %>%\n",
    "    summary"
   ]
  },
  {
   "cell_type": "code",
   "execution_count": 144,
   "metadata": {
    "ExecuteTime": {
     "end_time": "2018-08-23T14:48:55.173993Z",
     "start_time": "2018-08-23T14:50:34.057Z"
    }
   },
   "outputs": [
    {
     "name": "stderr",
     "output_type": "stream",
     "text": [
      "Warning message:\n",
      "“Column `variable`/`old_name` joining character vector and factor, coercing into character vector”"
     ]
    },
    {
     "data": {
      "image/png": "[encoded data removed]",
      "text/plain": [
       "plot without title"
      ]
     },
     "metadata": {},
     "output_type": "display_data"
    }
   ],
   "source": [
    "# formatting output\n",
    "mrm_res_s = mrm_res %>% \n",
    "    filter(variable != 'Int') %>%\n",
    "    gather(category, value, -variable, -R2, -pval, -F, -rep) %>%\n",
    "    mutate(category = ifelse(category == 'coef', 'Coef.', 'Adj. P-value'))\n",
    "\n",
    "mrm_res_s = mrm_res_s %>%\n",
    "    inner_join(rename_df, c('variable'='old_name')) %>%\n",
    "    dplyr::select(-variable) %>%\n",
    "    rename('variable' = new_name)              \n",
    "\n",
    "p = ggplot(mrm_res_s, aes(variable, value)) +\n",
    "    geom_boxplot() +\n",
    "    facet_grid(category ~ ., scales='free_y') +\n",
    "    theme_bw()\n",
    "\n",
    "options(repr.plot.width=5, repr.plot.height=3)\n",
    "plot(p)"
   ]
  },
  {
   "cell_type": "code",
   "execution_count": 145,
   "metadata": {
    "ExecuteTime": {
     "end_time": "2018-08-23T14:48:59.925538Z",
     "start_time": "2018-08-23T14:50:40.001Z"
    }
   },
   "outputs": [
    {
     "data": {
      "text/html": [
       "<table>\n",
       "<thead><tr><th scope=col>variable</th><th scope=col>pval_sensitivity</th><th scope=col>sig_pval_sensitivity</th></tr></thead>\n",
       "<tbody>\n",
       "\t<tr><td>Int       </td><td>1.00      </td><td>FALSE     </td></tr>\n",
       "\t<tr><td>m$diet    </td><td>0.00      </td><td> TRUE     </td></tr>\n",
       "\t<tr><td>m$digest  </td><td>0.84      </td><td>FALSE     </td></tr>\n",
       "\t<tr><td>m$geo     </td><td>1.00      </td><td>FALSE     </td></tr>\n",
       "\t<tr><td>m$habitat </td><td>0.99      </td><td>FALSE     </td></tr>\n",
       "\t<tr><td>m$host_phy</td><td>0.83      </td><td>FALSE     </td></tr>\n",
       "\t<tr><td>m$samp    </td><td>0.97      </td><td>FALSE     </td></tr>\n",
       "</tbody>\n",
       "</table>\n"
      ],
      "text/latex": [
       "\\begin{tabular}{r|lll}\n",
       " variable & pval\\_sensitivity & sig\\_pval\\_sensitivity\\\\\n",
       "\\hline\n",
       "\t Int        & 1.00       & FALSE     \\\\\n",
       "\t m\\$diet     & 0.00         &  TRUE       \\\\\n",
       "\t m\\$digest   & 0.84         & FALSE       \\\\\n",
       "\t m\\$geo      & 1.00         & FALSE       \\\\\n",
       "\t m\\$habitat  & 0.99         & FALSE       \\\\\n",
       "\t m\\$host\\_phy & 0.83           & FALSE         \\\\\n",
       "\t m\\$samp     & 0.97         & FALSE       \\\\\n",
       "\\end{tabular}\n"
      ],
      "text/markdown": [
       "\n",
       "variable | pval_sensitivity | sig_pval_sensitivity | \n",
       "|---|---|---|---|---|---|---|\n",
       "| Int        | 1.00       | FALSE      | \n",
       "| m$diet     | 0.00       |  TRUE      | \n",
       "| m$digest   | 0.84       | FALSE      | \n",
       "| m$geo      | 1.00       | FALSE      | \n",
       "| m$habitat  | 0.99       | FALSE      | \n",
       "| m$host_phy | 0.83       | FALSE      | \n",
       "| m$samp     | 0.97       | FALSE      | \n",
       "\n",
       "\n"
      ],
      "text/plain": [
       "  variable   pval_sensitivity sig_pval_sensitivity\n",
       "1 Int        1.00             FALSE               \n",
       "2 m$diet     0.00              TRUE               \n",
       "3 m$digest   0.84             FALSE               \n",
       "4 m$geo      1.00             FALSE               \n",
       "5 m$habitat  0.99             FALSE               \n",
       "6 m$host_phy 0.83             FALSE               \n",
       "7 m$samp     0.97             FALSE               "
      ]
     },
     "metadata": {},
     "output_type": "display_data"
    }
   ],
   "source": [
    "# significance\n",
    "mrm_res %>% \n",
    "    group_by(variable) %>%\n",
    "    summarize(pval_sensitivity = 1 - sum(coef_pval < 0.05) / length(pval)) %>%\n",
    "    ungroup() %>%\n",
    "    mutate(sig_pval_sensitivity = pval_sensitivity < 0.05)"
   ]
  },
  {
   "cell_type": "markdown",
   "metadata": {},
   "source": [
    "#### Model 2"
   ]
  },
  {
   "cell_type": "code",
   "execution_count": 146,
   "metadata": {
    "ExecuteTime": {
     "end_time": "2018-08-23T14:49:03.775943Z",
     "start_time": "2018-08-23T14:50:42.375Z"
    }
   },
   "outputs": [
    {
     "name": "stdout",
     "output_type": "stream",
     "text": [
      "[1] 600   7\n"
     ]
    },
    {
     "data": {
      "text/html": [
       "<table>\n",
       "<thead><tr><th></th><th scope=col>coef</th><th scope=col>coef_pval</th><th scope=col>variable</th><th scope=col>R2</th><th scope=col>pval</th><th scope=col>F</th><th scope=col>rep</th></tr></thead>\n",
       "<tbody>\n",
       "\t<tr><th scope=row>Int</th><td>792.87734814</td><td>0.995       </td><td>Int         </td><td>0.06010524  </td><td>0.007       </td><td>29.92809    </td><td>1           </td></tr>\n",
       "\t<tr><th scope=row>m$host_phy</th><td>  0.09710063</td><td>0.119       </td><td>m$host_phy  </td><td>0.06010524  </td><td>0.007       </td><td>29.92809    </td><td>1           </td></tr>\n",
       "\t<tr><th scope=row>m$diet</th><td>  0.22759111</td><td>0.001       </td><td>m$diet      </td><td>0.06010524  </td><td>0.007       </td><td>29.92809    </td><td>1           </td></tr>\n",
       "</tbody>\n",
       "</table>\n"
      ],
      "text/latex": [
       "\\begin{tabular}{r|lllllll}\n",
       "  & coef & coef\\_pval & variable & R2 & pval & F & rep\\\\\n",
       "\\hline\n",
       "\tInt & 792.87734814 & 0.995        & Int          & 0.06010524   & 0.007        & 29.92809     & 1           \\\\\n",
       "\tm\\$host\\_phy &   0.09710063   & 0.119          & m\\$host\\_phy & 0.06010524     & 0.007          & 29.92809       & 1             \\\\\n",
       "\tm\\$diet &   0.22759111 & 0.001        & m\\$diet     & 0.06010524   & 0.007        & 29.92809     & 1           \\\\\n",
       "\\end{tabular}\n"
      ],
      "text/markdown": [
       "\n",
       "| <!--/--> | coef | coef_pval | variable | R2 | pval | F | rep | \n",
       "|---|---|---|\n",
       "| Int | 792.87734814 | 0.995        | Int          | 0.06010524   | 0.007        | 29.92809     | 1            | \n",
       "| m$host_phy |   0.09710063 | 0.119        | m$host_phy   | 0.06010524   | 0.007        | 29.92809     | 1            | \n",
       "| m$diet |   0.22759111 | 0.001        | m$diet       | 0.06010524   | 0.007        | 29.92809     | 1            | \n",
       "\n",
       "\n"
      ],
      "text/plain": [
       "           coef         coef_pval variable   R2         pval  F        rep\n",
       "Int        792.87734814 0.995     Int        0.06010524 0.007 29.92809 1  \n",
       "m$host_phy   0.09710063 0.119     m$host_phy 0.06010524 0.007 29.92809 1  \n",
       "m$diet       0.22759111 0.001     m$diet     0.06010524 0.007 29.92809 1  "
      ]
     },
     "metadata": {},
     "output_type": "display_data"
    }
   ],
   "source": [
    "# MRM on each permutation (in parallel)\n",
    "doParallel::registerDoParallel(threads)\n",
    "x = as.list(1:length(m_perm))\n",
    "f = 'm$beta ~ m$host_phy + m$diet + m$habitat + m$geo + m$samp'\n",
    "mrm_res = plyr::llply(x, mrm_each, L=m_perm, f=f, nperm=nperm, .parallel=TRUE)\n",
    "mrm_res = do.call(rbind, mrm_res)\n",
    "mrm_res %>% dfhead"
   ]
  },
  {
   "cell_type": "code",
   "execution_count": 147,
   "metadata": {
    "ExecuteTime": {
     "end_time": "2018-08-23T14:49:03.825453Z",
     "start_time": "2018-08-23T14:50:43.389Z"
    }
   },
   "outputs": [
    {
     "data": {
      "text/plain": [
       "       R2               pval              rep        \n",
       " Min.   :0.03795   Min.   :0.00100   Min.   :  1.00  \n",
       " 1st Qu.:0.05344   1st Qu.:0.00100   1st Qu.: 25.75  \n",
       " Median :0.06257   Median :0.00400   Median : 50.50  \n",
       " Mean   :0.06379   Mean   :0.00757   Mean   : 50.50  \n",
       " 3rd Qu.:0.07110   3rd Qu.:0.00900   3rd Qu.: 75.25  \n",
       " Max.   :0.11409   Max.   :0.04700   Max.   :100.00  "
      ]
     },
     "metadata": {},
     "output_type": "display_data"
    }
   ],
   "source": [
    "# summary of overall model\n",
    "mrm_res %>%\n",
    "    distinct(R2, pval, rep) %>%\n",
    "    summary"
   ]
  },
  {
   "cell_type": "code",
   "execution_count": 148,
   "metadata": {
    "ExecuteTime": {
     "end_time": "2018-08-23T14:49:08.636262Z",
     "start_time": "2018-08-23T14:50:47.537Z"
    }
   },
   "outputs": [
    {
     "name": "stderr",
     "output_type": "stream",
     "text": [
      "Warning message:\n",
      "“Column `variable`/`old_name` joining character vector and factor, coercing into character vector”"
     ]
    },
    {
     "data": {
      "image/png": "[encoded data removed]",
      "text/plain": [
       "plot without title"
      ]
     },
     "metadata": {},
     "output_type": "display_data"
    }
   ],
   "source": [
    "# formatting output\n",
    "mrm_res_s = mrm_res %>% \n",
    "    filter(variable != 'Int') %>%\n",
    "    gather(category, value, -variable, -R2, -pval, -F, -rep) %>%\n",
    "    mutate(category = ifelse(category == 'coef', 'Coef.', 'Adj. P-value'))\n",
    "\n",
    "mrm_res_s = mrm_res_s %>%\n",
    "    inner_join(rename_df, c('variable'='old_name')) %>%\n",
    "    dplyr::select(-variable) %>%\n",
    "    rename('variable' = new_name)           \n",
    "\n",
    "p = ggplot(mrm_res_s, aes(variable, value)) +\n",
    "    geom_boxplot() +\n",
    "    facet_grid(category ~ ., scales='free_y') +\n",
    "    theme_bw()\n",
    "\n",
    "options(repr.plot.width=5, repr.plot.height=3)\n",
    "plot(p)"
   ]
  },
  {
   "cell_type": "code",
   "execution_count": 149,
   "metadata": {
    "ExecuteTime": {
     "end_time": "2018-08-23T14:49:10.005919Z",
     "start_time": "2018-08-23T14:50:50.089Z"
    }
   },
   "outputs": [
    {
     "data": {
      "text/html": [
       "<table>\n",
       "<thead><tr><th scope=col>variable</th><th scope=col>pval_sensitivity</th><th scope=col>sig_pval_sensitivity</th></tr></thead>\n",
       "<tbody>\n",
       "\t<tr><td>Int       </td><td>1.00      </td><td>FALSE     </td></tr>\n",
       "\t<tr><td>m$diet    </td><td>0.00      </td><td> TRUE     </td></tr>\n",
       "\t<tr><td>m$geo     </td><td>1.00      </td><td>FALSE     </td></tr>\n",
       "\t<tr><td>m$habitat </td><td>0.99      </td><td>FALSE     </td></tr>\n",
       "\t<tr><td>m$host_phy</td><td>0.89      </td><td>FALSE     </td></tr>\n",
       "\t<tr><td>m$samp    </td><td>0.96      </td><td>FALSE     </td></tr>\n",
       "</tbody>\n",
       "</table>\n"
      ],
      "text/latex": [
       "\\begin{tabular}{r|lll}\n",
       " variable & pval\\_sensitivity & sig\\_pval\\_sensitivity\\\\\n",
       "\\hline\n",
       "\t Int        & 1.00       & FALSE     \\\\\n",
       "\t m\\$diet     & 0.00         &  TRUE       \\\\\n",
       "\t m\\$geo      & 1.00         & FALSE       \\\\\n",
       "\t m\\$habitat  & 0.99         & FALSE       \\\\\n",
       "\t m\\$host\\_phy & 0.89           & FALSE         \\\\\n",
       "\t m\\$samp     & 0.96         & FALSE       \\\\\n",
       "\\end{tabular}\n"
      ],
      "text/markdown": [
       "\n",
       "variable | pval_sensitivity | sig_pval_sensitivity | \n",
       "|---|---|---|---|---|---|\n",
       "| Int        | 1.00       | FALSE      | \n",
       "| m$diet     | 0.00       |  TRUE      | \n",
       "| m$geo      | 1.00       | FALSE      | \n",
       "| m$habitat  | 0.99       | FALSE      | \n",
       "| m$host_phy | 0.89       | FALSE      | \n",
       "| m$samp     | 0.96       | FALSE      | \n",
       "\n",
       "\n"
      ],
      "text/plain": [
       "  variable   pval_sensitivity sig_pval_sensitivity\n",
       "1 Int        1.00             FALSE               \n",
       "2 m$diet     0.00              TRUE               \n",
       "3 m$geo      1.00             FALSE               \n",
       "4 m$habitat  0.99             FALSE               \n",
       "5 m$host_phy 0.89             FALSE               \n",
       "6 m$samp     0.96             FALSE               "
      ]
     },
     "metadata": {},
     "output_type": "display_data"
    }
   ],
   "source": [
    "# significance\n",
    "mrm_res %>% \n",
    "    group_by(variable) %>%\n",
    "    summarize(pval_sensitivity = 1 - sum(coef_pval < 0.05) / length(pval)) %>%\n",
    "    ungroup() %>%\n",
    "    mutate(sig_pval_sensitivity = pval_sensitivity < 0.05)"
   ]
  },
  {
   "cell_type": "markdown",
   "metadata": {},
   "source": [
    "# sessionInfo\n"
   ]
  },
  {
   "cell_type": "code",
   "execution_count": 150,
   "metadata": {
    "ExecuteTime": {
     "end_time": "2018-08-23T14:49:12.466956Z",
     "start_time": "2018-08-23T14:50:51.216Z"
    }
   },
   "outputs": [
    {
     "data": {
      "text/plain": [
       "R version 3.4.1 (2017-06-30)\n",
       "Platform: x86_64-pc-linux-gnu (64-bit)\n",
       "Running under: Ubuntu 18.04.1 LTS\n",
       "\n",
       "Matrix products: default\n",
       "BLAS: /ebio/abt3_projects/software/miniconda3_gt4.4/envs/py3_physeq_eco/lib/R/lib/libRblas.so\n",
       "LAPACK: /ebio/abt3_projects/software/miniconda3_gt4.4/envs/py3_physeq_eco/lib/R/lib/libRlapack.so\n",
       "\n",
       "locale:\n",
       "[1] en_US.UTF-8\n",
       "\n",
       "attached base packages:\n",
       "[1] parallel  stats     graphics  grDevices utils     datasets  methods  \n",
       "[8] base     \n",
       "\n",
       "other attached packages:\n",
       " [1] bindrcpp_0.2.2    doParallel_1.0.11 iterators_1.0.10  foreach_1.4.4    \n",
       " [5] phyloseq_1.22.3   ecodist_2.0.1     ape_5.1           stringr_1.3.1    \n",
       " [9] ggplot2_3.0.0     tidyr_0.8.1       dplyr_0.7.6      \n",
       "\n",
       "loaded via a namespace (and not attached):\n",
       " [1] Rcpp_0.12.17        lattice_0.20-34     Biostrings_2.46.0  \n",
       " [4] assertthat_0.2.0    digest_0.6.15       IRdisplay_0.4.4    \n",
       " [7] R6_2.2.2            plyr_1.8.4          repr_0.15.0        \n",
       "[10] stats4_3.4.1        evaluate_0.10.1     pillar_1.2.2       \n",
       "[13] zlibbioc_1.24.0     rlang_0.2.1         lazyeval_0.2.1     \n",
       "[16] uuid_0.1-2          geosphere_1.5-5     data.table_1.11.4  \n",
       "[19] vegan_2.4-3         S4Vectors_0.16.0    Matrix_1.2-14      \n",
       "[22] labeling_0.3        splines_3.4.1       igraph_1.2.1       \n",
       "[25] munsell_0.5.0       compiler_3.4.1      pkgconfig_2.0.1    \n",
       "[28] BiocGenerics_0.24.0 base64enc_0.1-3     multtest_2.34.0    \n",
       "[31] mgcv_1.8-24         htmltools_0.3.6     biomformat_1.6.0   \n",
       "[34] tidyselect_0.2.4    tibble_1.4.2        IRanges_2.12.0     \n",
       "[37] codetools_0.2-15    permute_0.9-4       crayon_1.3.4       \n",
       "[40] withr_2.1.1         MASS_7.3-50         grid_3.4.1         \n",
       "[43] nlme_3.1-131        jsonlite_1.5        gtable_0.2.0       \n",
       "[46] magrittr_1.5        scales_0.5.0        stringi_1.2.3      \n",
       "[49] XVector_0.18.0      reshape2_1.4.3      sp_1.2-7           \n",
       "[52] IRkernel_0.8.12     tools_3.4.1         ade4_1.7-11        \n",
       "[55] Biobase_2.38.0      glue_1.3.0          purrr_0.2.4        \n",
       "[58] survival_2.42-6     colorspace_1.3-2    rhdf5_2.22.0       \n",
       "[61] cluster_2.0.6       pbdZMQ_0.3-2        bindr_0.1.1        "
      ]
     },
     "metadata": {},
     "output_type": "display_data"
    }
   ],
   "source": [
    "sessionInfo()"
   ]
  },
  {
   "cell_type": "code",
   "execution_count": null,
   "metadata": {},
   "outputs": [],
   "source": []
  }
 ],
 "metadata": {
  "kernelspec": {
   "display_name": "R [conda env:py3_physeq_eco]",
   "language": "R",
   "name": "conda-env-py3_physeq_eco-r"
  },
  "language_info": {
   "codemirror_mode": "r",
   "file_extension": ".r",
   "mimetype": "text/x-r-source",
   "name": "R",
   "pygments_lexer": "r",
   "version": "3.4.1"
  },
  "notify_time": "30",
  "toc": {
   "base_numbering": 1,
   "nav_menu": {},
   "number_sections": true,
   "sideBar": true,
   "skip_h1_title": false,
   "title_cell": "Table of Contents",
   "title_sidebar": "Contents",
   "toc_cell": false,
   "toc_position": {
    "height": "1209px",
    "left": "0px",
    "right": "2348px",
    "top": "111px",
    "width": "212px"
   },
   "toc_section_display": "block",
   "toc_window_display": true
  }
 },
 "nbformat": 4,
 "nbformat_minor": 2
}
