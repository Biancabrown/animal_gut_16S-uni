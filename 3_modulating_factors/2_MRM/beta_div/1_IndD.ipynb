{
 "cells": [
  {
   "cell_type": "markdown",
   "metadata": {},
   "source": [
    "# Goal\n",
    "\n",
    "* Multiple Regression on Matrices (MRM) analysis on IndD dataset\n",
    "  * `IndD` = one sample per individual"
   ]
  },
  {
   "cell_type": "markdown",
   "metadata": {},
   "source": [
    "# Var"
   ]
  },
  {
   "cell_type": "code",
   "execution_count": 91,
   "metadata": {
    "ExecuteTime": {
     "end_time": "2018-10-19T13:34:51.146720Z",
     "start_time": "2018-10-19T13:34:51.114Z"
    }
   },
   "outputs": [],
   "source": [
    "work_dir = '/ebio/abt3_projects/Georg_animal_feces/data/modulating_factors/MRM/IndD/'\n",
    "\n",
    "# phyloseq\n",
    "physeq_file = '/ebio/abt3_projects/Georg_animal_feces/data/16S/LLA/phyloseq/physeq_r5k.RDS'\n",
    "\n",
    "# beta-div distance matrices\n",
    "beta_div_file = '/ebio/abt3_projects/Georg_animal_feces/data/16S/LLA/diversity/beta_div.RDS'\n",
    "\n",
    "# host phylogeny\n",
    "host_tree_dist_file = '/ebio/abt3_projects/Georg_animal_feces/data/animal/phylogeny/TT/unified_metadata_complete_20180625_rn_16S-r5k_IndD_dist.RDS'\n",
    "\n",
    "# params\n",
    "threads = 12"
   ]
  },
  {
   "cell_type": "markdown",
   "metadata": {},
   "source": [
    "# Init"
   ]
  },
  {
   "cell_type": "code",
   "execution_count": 92,
   "metadata": {
    "ExecuteTime": {
     "end_time": "2018-10-19T13:34:51.206399Z",
     "start_time": "2018-10-19T13:34:51.118Z"
    }
   },
   "outputs": [],
   "source": [
    "library(dplyr)\n",
    "library(tidyr)\n",
    "library(ggplot2)\n",
    "library(stringr)\n",
    "\n",
    "library(ape)\n",
    "library(ecodist)\n",
    "library(phyloseq)\n",
    "library(doParallel)\n",
    "\n",
    "source('/ebio/abt3_projects/Georg_animal_feces/code/init.R') "
   ]
  },
  {
   "cell_type": "code",
   "execution_count": 93,
   "metadata": {
    "ExecuteTime": {
     "end_time": "2018-10-19T13:34:51.241574Z",
     "start_time": "2018-10-19T13:34:51.123Z"
    }
   },
   "outputs": [],
   "source": [
    "set.seed(8301)"
   ]
  },
  {
   "cell_type": "code",
   "execution_count": 94,
   "metadata": {
    "ExecuteTime": {
     "end_time": "2018-10-19T13:34:51.268934Z",
     "start_time": "2018-10-19T13:34:51.127Z"
    }
   },
   "outputs": [
    {
     "name": "stdout",
     "output_type": "stream",
     "text": [
      "Directory already exists: /ebio/abt3_projects/Georg_animal_feces/data/modulating_factors/MRM/IndD/ \n"
     ]
    }
   ],
   "source": [
    "make_dir(work_dir)"
   ]
  },
  {
   "cell_type": "markdown",
   "metadata": {},
   "source": [
    "## Functions"
   ]
  },
  {
   "cell_type": "code",
   "execution_count": 95,
   "metadata": {
    "ExecuteTime": {
     "end_time": "2018-10-19T13:34:51.291877Z",
     "start_time": "2018-10-19T13:34:51.133Z"
    }
   },
   "outputs": [],
   "source": [
    "dist_mtx_order = function(d, x){\n",
    "    # Ordering distance matrixes\n",
    "    # d = distance matrix (dist class)\n",
    "    # x = vector to order dist. obj. by\n",
    "    m = d %>% as.matrix\n",
    "    d = as.dist(m[x,x])\n",
    "    return(d)\n",
    "}"
   ]
  },
  {
   "cell_type": "markdown",
   "metadata": {},
   "source": [
    "# Load"
   ]
  },
  {
   "cell_type": "markdown",
   "metadata": {},
   "source": [
    "## Phyloseq"
   ]
  },
  {
   "cell_type": "code",
   "execution_count": 96,
   "metadata": {
    "ExecuteTime": {
     "end_time": "2018-10-19T13:34:52.120441Z",
     "start_time": "2018-10-19T13:34:51.138Z"
    }
   },
   "outputs": [
    {
     "data": {
      "text/plain": [
       "phyloseq-class experiment-level object\n",
       "otu_table()   OTU Table:         [ 30290 taxa and 213 samples ]\n",
       "sample_data() Sample Data:       [ 213 samples by 171 sample variables ]\n",
       "tax_table()   Taxonomy Table:    [ 30290 taxa by 7 taxonomic ranks ]\n",
       "phy_tree()    Phylogenetic Tree: [ 30290 tips and 29752 internal nodes ]"
      ]
     },
     "metadata": {},
     "output_type": "display_data"
    }
   ],
   "source": [
    "# phyloseq objs.\n",
    "physeq = readRDS(physeq_file)\n",
    "physeq"
   ]
  },
  {
   "cell_type": "markdown",
   "metadata": {},
   "source": [
    "### Metadata"
   ]
  },
  {
   "cell_type": "code",
   "execution_count": 97,
   "metadata": {
    "ExecuteTime": {
     "end_time": "2018-10-19T13:34:52.306307Z",
     "start_time": "2018-10-19T13:34:51.142Z"
    }
   },
   "outputs": [
    {
     "name": "stderr",
     "output_type": "stream",
     "text": [
      "Warning message in class(X) <- NULL:\n",
      "“Setting class(x) to NULL;   result will no longer be an S4 object”"
     ]
    },
    {
     "name": "stdout",
     "output_type": "stream",
     "text": [
      "[1] 213 171\n"
     ]
    },
    {
     "data": {
      "text/html": [
       "<table>\n",
       "<thead><tr><th scope=col>X.SampleID</th><th scope=col>BarcodeSequence</th><th scope=col>LinkerPrimerSequence</th><th scope=col>Primer</th><th scope=col>ReversePrimer</th><th scope=col>Barcode_ID</th><th scope=col>sample_number</th><th scope=col>host_subject_id</th><th scope=col>host_german_name</th><th scope=col>host_common_name</th><th scope=col>⋯</th><th scope=col>wellplate_position_Illumina</th><th scope=col>Cornell_Dilution_DNA_Illumina</th><th scope=col>Num_Illumina</th><th scope=col>Num</th><th scope=col>sorting_454</th><th scope=col>comments_additional</th><th scope=col>DNA_box_20180622</th><th scope=col>sample_vol_20180622</th><th scope=col>sample_label_20180622</th><th scope=col>Description</th></tr></thead>\n",
       "<tbody>\n",
       "\t<tr><td>X1.Eurasian.Beaver   </td><td>ACTCACGGTATG         </td><td>CATGCTGCCTCCCGTAGGAGT</td><td>GCCTCCCTCGCGCCATCAG  </td><td>AGAGTTTGATCCTGGCTCAG </td><td>338R_BC0049          </td><td>1                    </td><td>1                    </td><td>Biber                </td><td>Eurasian.Beaver      </td><td>⋯                    </td><td>B12                  </td><td>4                    </td><td>120                  </td><td>18                   </td><td>18                   </td><td>NA                   </td><td>1                    </td><td>20                   </td><td>1                    </td><td>NA                   </td></tr>\n",
       "\t<tr><td>X101.Horse           </td><td>ACGACGTCTTAG         </td><td>CATGCTGCCTCCCGTAGGAGT</td><td>GCCTCCCTCGCGCCATCAG  </td><td>AGAGTTTGATCCTGGCTCAG </td><td>338R_BC0030          </td><td>101                  </td><td>101                  </td><td>Hauspferd            </td><td>Horse                </td><td>⋯                    </td><td>E8                   </td><td>16                   </td><td>344                  </td><td>160                  </td><td>160                  </td><td>NA                   </td><td>2                    </td><td>20                   </td><td>101                  </td><td>NA                   </td></tr>\n",
       "\t<tr><td>X102.Kulan           </td><td>ACGAGTGCTATC         </td><td>CATGCTGCCTCCCGTAGGAGT</td><td>GCCTCCCTCGCGCCATCAG  </td><td>AGAGTTTGATCCTGGCTCAG </td><td>338R_BC0031          </td><td>102                  </td><td>102                  </td><td>Khulan               </td><td>Kulan                </td><td>⋯                    </td><td>E9                   </td><td>16                   </td><td>345                  </td><td>161                  </td><td>161                  </td><td>NA                   </td><td>2                    </td><td>20                   </td><td>102                  </td><td>NA                   </td></tr>\n",
       "</tbody>\n",
       "</table>\n"
      ],
      "text/latex": [
       "\\begin{tabular}{r|lllllllllllllllllllllllllllllllllllllllllllllllllllllllllllllllllllllllllllllllllllllllllllllllllllllllllllllllllllllllllllllllllllllllllllllllllllllllllllllllllllllllllll}\n",
       " X.SampleID & BarcodeSequence & LinkerPrimerSequence & Primer & ReversePrimer & Barcode\\_ID & sample\\_number & host\\_subject\\_id & host\\_german\\_name & host\\_common\\_name & ⋯ & wellplate\\_position\\_Illumina & Cornell\\_Dilution\\_DNA\\_Illumina & Num\\_Illumina & Num & sorting\\_454 & comments\\_additional & DNA\\_box\\_20180622 & sample\\_vol\\_20180622 & sample\\_label\\_20180622 & Description\\\\\n",
       "\\hline\n",
       "\t X1.Eurasian.Beaver    & ACTCACGGTATG          & CATGCTGCCTCCCGTAGGAGT & GCCTCCCTCGCGCCATCAG   & AGAGTTTGATCCTGGCTCAG  & 338R\\_BC0049         & 1                     & 1                     & Biber                 & Eurasian.Beaver       & ⋯                     & B12                   & 4                     & 120                   & 18                    & 18                    & NA                    & 1                     & 20                    & 1                     & NA                   \\\\\n",
       "\t X101.Horse            & ACGACGTCTTAG          & CATGCTGCCTCCCGTAGGAGT & GCCTCCCTCGCGCCATCAG   & AGAGTTTGATCCTGGCTCAG  & 338R\\_BC0030         & 101                   & 101                   & Hauspferd             & Horse                 & ⋯                     & E8                    & 16                    & 344                   & 160                   & 160                   & NA                    & 2                     & 20                    & 101                   & NA                   \\\\\n",
       "\t X102.Kulan            & ACGAGTGCTATC          & CATGCTGCCTCCCGTAGGAGT & GCCTCCCTCGCGCCATCAG   & AGAGTTTGATCCTGGCTCAG  & 338R\\_BC0031         & 102                   & 102                   & Khulan                & Kulan                 & ⋯                     & E9                    & 16                    & 345                   & 161                   & 161                   & NA                    & 2                     & 20                    & 102                   & NA                   \\\\\n",
       "\\end{tabular}\n"
      ],
      "text/markdown": [
       "\n",
       "X.SampleID | BarcodeSequence | LinkerPrimerSequence | Primer | ReversePrimer | Barcode_ID | sample_number | host_subject_id | host_german_name | host_common_name | ⋯ | wellplate_position_Illumina | Cornell_Dilution_DNA_Illumina | Num_Illumina | Num | sorting_454 | comments_additional | DNA_box_20180622 | sample_vol_20180622 | sample_label_20180622 | Description | \n",
       "|---|---|---|\n",
       "| X1.Eurasian.Beaver    | ACTCACGGTATG          | CATGCTGCCTCCCGTAGGAGT | GCCTCCCTCGCGCCATCAG   | AGAGTTTGATCCTGGCTCAG  | 338R_BC0049           | 1                     | 1                     | Biber                 | Eurasian.Beaver       | ⋯                     | B12                   | 4                     | 120                   | 18                    | 18                    | NA                    | 1                     | 20                    | 1                     | NA                    | \n",
       "| X101.Horse            | ACGACGTCTTAG          | CATGCTGCCTCCCGTAGGAGT | GCCTCCCTCGCGCCATCAG   | AGAGTTTGATCCTGGCTCAG  | 338R_BC0030           | 101                   | 101                   | Hauspferd             | Horse                 | ⋯                     | E8                    | 16                    | 344                   | 160                   | 160                   | NA                    | 2                     | 20                    | 101                   | NA                    | \n",
       "| X102.Kulan            | ACGAGTGCTATC          | CATGCTGCCTCCCGTAGGAGT | GCCTCCCTCGCGCCATCAG   | AGAGTTTGATCCTGGCTCAG  | 338R_BC0031           | 102                   | 102                   | Khulan                | Kulan                 | ⋯                     | E9                    | 16                    | 345                   | 161                   | 161                   | NA                    | 2                     | 20                    | 102                   | NA                    | \n",
       "\n",
       "\n"
      ],
      "text/plain": [
       "  X.SampleID         BarcodeSequence LinkerPrimerSequence  Primer             \n",
       "1 X1.Eurasian.Beaver ACTCACGGTATG    CATGCTGCCTCCCGTAGGAGT GCCTCCCTCGCGCCATCAG\n",
       "2 X101.Horse         ACGACGTCTTAG    CATGCTGCCTCCCGTAGGAGT GCCTCCCTCGCGCCATCAG\n",
       "3 X102.Kulan         ACGAGTGCTATC    CATGCTGCCTCCCGTAGGAGT GCCTCCCTCGCGCCATCAG\n",
       "  ReversePrimer        Barcode_ID  sample_number host_subject_id\n",
       "1 AGAGTTTGATCCTGGCTCAG 338R_BC0049 1             1              \n",
       "2 AGAGTTTGATCCTGGCTCAG 338R_BC0030 101           101            \n",
       "3 AGAGTTTGATCCTGGCTCAG 338R_BC0031 102           102            \n",
       "  host_german_name host_common_name ⋯ wellplate_position_Illumina\n",
       "1 Biber            Eurasian.Beaver  ⋯ B12                        \n",
       "2 Hauspferd        Horse            ⋯ E8                         \n",
       "3 Khulan           Kulan            ⋯ E9                         \n",
       "  Cornell_Dilution_DNA_Illumina Num_Illumina Num sorting_454\n",
       "1 4                             120          18  18         \n",
       "2 16                            344          160 160        \n",
       "3 16                            345          161 161        \n",
       "  comments_additional DNA_box_20180622 sample_vol_20180622\n",
       "1 NA                  1                20                 \n",
       "2 NA                  2                20                 \n",
       "3 NA                  2                20                 \n",
       "  sample_label_20180622 Description\n",
       "1 1                     NA         \n",
       "2 101                   NA         \n",
       "3 102                   NA         "
      ]
     },
     "metadata": {},
     "output_type": "display_data"
    }
   ],
   "source": [
    "# metadata\n",
    "metadata = physeq %>%\n",
    "    sample_data %>%\n",
    "    as.matrix %>%\n",
    "    as.data.frame %>%\n",
    "    mutate(X.SampleID = rownames(.))\n",
    "\n",
    "metadata %>% dfhead"
   ]
  },
  {
   "cell_type": "markdown",
   "metadata": {},
   "source": [
    "## Beta diversity"
   ]
  },
  {
   "cell_type": "code",
   "execution_count": 98,
   "metadata": {
    "ExecuteTime": {
     "end_time": "2018-10-19T13:34:52.329881Z",
     "start_time": "2018-10-19T13:34:51.147Z"
    }
   },
   "outputs": [],
   "source": [
    "rescale_dist_mtx = function(m){\n",
    "    m = m %>% as.matrix\n",
    "    labs = m %>% colnames\n",
    "    n_row = m %>% nrow\n",
    "    n_col = m %>% ncol\n",
    "    x = m %>% as.vector \n",
    "    x = scales::rescale(x) \n",
    "    m = matrix(x, nrow=n_row, ncol=n_col)\n",
    "    colnames(m) = labs\n",
    "    rownames(m) = labs\n",
    "    m = m %>% as.dist\n",
    "    return(m)\n",
    "}"
   ]
  },
  {
   "cell_type": "code",
   "execution_count": 99,
   "metadata": {
    "ExecuteTime": {
     "end_time": "2018-10-19T13:34:52.828047Z",
     "start_time": "2018-10-19T13:34:51.151Z"
    }
   },
   "outputs": [
    {
     "data": {
      "text/plain": [
       "$bray_curtis\n",
       "   Min. 1st Qu.  Median    Mean 3rd Qu.    Max. \n",
       " 0.1104  0.9984  1.0000  0.9890  1.0000  1.0000 \n",
       "\n",
       "$jaccard\n",
       "   Min. 1st Qu.  Median    Mean 3rd Qu.    Max. \n",
       " 0.3886  0.9956  1.0000  0.9912  1.0000  1.0000 \n",
       "\n",
       "$unweighted_unifrac\n",
       "   Min. 1st Qu.  Median    Mean 3rd Qu.    Max. \n",
       " 0.2149  0.7783  0.8494  0.8361  0.9163  0.9881 \n",
       "\n",
       "$weighted_unifrac\n",
       "   Min. 1st Qu.  Median    Mean 3rd Qu.    Max. \n",
       "0.02332 0.46492 0.55024 0.53904 0.62490 0.94211 \n"
      ]
     },
     "metadata": {},
     "output_type": "display_data"
    }
   ],
   "source": [
    "# load beta-diversity dist. matrices\n",
    "beta_d = readRDS(beta_div_file)\n",
    "\n",
    "# status\n",
    "lapply(beta_d, function(x) x %>% as.vector %>% summary)"
   ]
  },
  {
   "cell_type": "markdown",
   "metadata": {},
   "source": [
    "## Host phylogeny"
   ]
  },
  {
   "cell_type": "code",
   "execution_count": 100,
   "metadata": {
    "ExecuteTime": {
     "end_time": "2018-10-19T13:34:53.124982Z",
     "start_time": "2018-10-19T13:34:51.156Z"
    }
   },
   "outputs": [
    {
     "data": {
      "image/png": "[encoded data removed]",
      "text/plain": [
       "Plot with title “Cluster Dendrogram”"
      ]
     },
     "metadata": {},
     "output_type": "display_data"
    }
   ],
   "source": [
    "# patristic distance\n",
    "host_tree_d = readRDS(host_tree_dist_file)\n",
    "options(repr.plot.height=4, repr.plot.width=10)\n",
    "plot(hclust(host_tree_d), cex=0.4)"
   ]
  },
  {
   "cell_type": "markdown",
   "metadata": {},
   "source": [
    "# Checking overlap"
   ]
  },
  {
   "cell_type": "code",
   "execution_count": 101,
   "metadata": {
    "ExecuteTime": {
     "end_time": "2018-10-19T13:34:53.156641Z",
     "start_time": "2018-10-19T13:34:51.160Z"
    }
   },
   "outputs": [
    {
     "name": "stdout",
     "output_type": "stream",
     "text": [
      "character(0)\n",
      "character(0)\n"
     ]
    }
   ],
   "source": [
    "# beta-div and host tree\n",
    "setdiff(beta_d[[1]] %>% labels, host_tree_d %>% labels) %>% print\n",
    "setdiff(host_tree_d %>% labels, beta_d[[1]] %>% labels) %>% print"
   ]
  },
  {
   "cell_type": "code",
   "execution_count": 102,
   "metadata": {
    "ExecuteTime": {
     "end_time": "2018-10-19T13:34:53.188326Z",
     "start_time": "2018-10-19T13:34:51.164Z"
    }
   },
   "outputs": [
    {
     "name": "stdout",
     "output_type": "stream",
     "text": [
      "character(0)\n",
      "character(0)\n"
     ]
    }
   ],
   "source": [
    "# beta-div and metaata\n",
    "setdiff(beta_d[[1]] %>% labels, metadata$X.SampleID) %>% print\n",
    "setdiff(metadata$X.SampleID, beta_d[[1]] %>% labels) %>% print"
   ]
  },
  {
   "cell_type": "markdown",
   "metadata": {},
   "source": [
    "# Making distance matrices"
   ]
  },
  {
   "cell_type": "markdown",
   "metadata": {},
   "source": [
    "## Diet (detailed) distance\n",
    "\n",
    "* Detailed diet categories"
   ]
  },
  {
   "cell_type": "code",
   "execution_count": 103,
   "metadata": {
    "ExecuteTime": {
     "end_time": "2018-10-19T13:34:53.261953Z",
     "start_time": "2018-10-19T13:34:51.169Z"
    }
   },
   "outputs": [
    {
     "name": "stdout",
     "output_type": "stream",
     "text": [
      "[1] 213   8\n"
     ]
    },
    {
     "data": {
      "text/html": [
       "<table>\n",
       "<thead><tr><th></th><th scope=col>diet_vertebrate</th><th scope=col>diet_invertebrate</th><th scope=col>diet_fruit</th><th scope=col>diet_flowers_nectar_pollen</th><th scope=col>diet_leaves_branches_bark_buds</th><th scope=col>diet_seeds</th><th scope=col>diet_grass_waterplants</th><th scope=col>diet_roots_tubers</th></tr></thead>\n",
       "<tbody>\n",
       "\t<tr><th scope=row>X1.Eurasian.Beaver</th><td>0</td><td>0</td><td>0</td><td>0</td><td>1</td><td>0</td><td>1</td><td>1</td></tr>\n",
       "\t<tr><th scope=row>X101.Horse</th><td>0</td><td>0</td><td>0</td><td>0</td><td>0</td><td>1</td><td>1</td><td>0</td></tr>\n",
       "\t<tr><th scope=row>X102.Kulan</th><td>0</td><td>0</td><td>0</td><td>0</td><td>1</td><td>0</td><td>1</td><td>0</td></tr>\n",
       "</tbody>\n",
       "</table>\n"
      ],
      "text/latex": [
       "\\begin{tabular}{r|llllllll}\n",
       "  & diet\\_vertebrate & diet\\_invertebrate & diet\\_fruit & diet\\_flowers\\_nectar\\_pollen & diet\\_leaves\\_branches\\_bark\\_buds & diet\\_seeds & diet\\_grass\\_waterplants & diet\\_roots\\_tubers\\\\\n",
       "\\hline\n",
       "\tX1.Eurasian.Beaver & 0 & 0 & 0 & 0 & 1 & 0 & 1 & 1\\\\\n",
       "\tX101.Horse & 0 & 0 & 0 & 0 & 0 & 1 & 1 & 0\\\\\n",
       "\tX102.Kulan & 0 & 0 & 0 & 0 & 1 & 0 & 1 & 0\\\\\n",
       "\\end{tabular}\n"
      ],
      "text/markdown": [
       "\n",
       "| <!--/--> | diet_vertebrate | diet_invertebrate | diet_fruit | diet_flowers_nectar_pollen | diet_leaves_branches_bark_buds | diet_seeds | diet_grass_waterplants | diet_roots_tubers | \n",
       "|---|---|---|\n",
       "| X1.Eurasian.Beaver | 0 | 0 | 0 | 0 | 1 | 0 | 1 | 1 | \n",
       "| X101.Horse | 0 | 0 | 0 | 0 | 0 | 1 | 1 | 0 | \n",
       "| X102.Kulan | 0 | 0 | 0 | 0 | 1 | 0 | 1 | 0 | \n",
       "\n",
       "\n"
      ],
      "text/plain": [
       "                   diet_vertebrate diet_invertebrate diet_fruit\n",
       "X1.Eurasian.Beaver 0               0                 0         \n",
       "X101.Horse         0               0                 0         \n",
       "X102.Kulan         0               0                 0         \n",
       "                   diet_flowers_nectar_pollen diet_leaves_branches_bark_buds\n",
       "X1.Eurasian.Beaver 0                          1                             \n",
       "X101.Horse         0                          0                             \n",
       "X102.Kulan         0                          1                             \n",
       "                   diet_seeds diet_grass_waterplants diet_roots_tubers\n",
       "X1.Eurasian.Beaver 0          1                      1                \n",
       "X101.Horse         1          1                      0                \n",
       "X102.Kulan         0          1                      0                "
      ]
     },
     "metadata": {},
     "output_type": "display_data"
    }
   ],
   "source": [
    "dietD = metadata %>%\n",
    "    dplyr::select(X.SampleID, diet_vertebrate, diet_invertebrate, diet_fruit,\n",
    "                  diet_flowers_nectar_pollen, diet_leaves_branches_bark_buds, diet_seeds,\n",
    "                  diet_grass_waterplants, diet_roots_tubers) %>%\n",
    "    mutate(diet_invertebrate = gsub(' .+', '', diet_invertebrate) %>% as.factor) %>%\n",
    "    as.data.frame\n",
    "\n",
    "rownames(dietD) = dietD$X.SampleID\n",
    "dietD$X.SampleID = NULL\n",
    "\n",
    "cn = colnames(dietD)\n",
    "dietD = dietD %>% \n",
    "    apply(1, function(x) ifelse(x=='yes', 1, 0)) %>%\n",
    "    t %>% as.data.frame\n",
    "colnames(dietD) = cn\n",
    "\n",
    "# status\n",
    "dietD %>% dfhead"
   ]
  },
  {
   "cell_type": "code",
   "execution_count": 104,
   "metadata": {
    "ExecuteTime": {
     "end_time": "2018-10-19T13:34:53.626117Z",
     "start_time": "2018-10-19T13:34:51.173Z"
    }
   },
   "outputs": [
    {
     "data": {
      "image/png": "[encoded data removed]",
      "text/plain": [
       "Plot with title “Cluster Dendrogram”"
      ]
     },
     "metadata": {},
     "output_type": "display_data"
    }
   ],
   "source": [
    "dietD_d = vegan::vegdist(dietD, metric='jaccard')\n",
    "\n",
    "options(repr.plot.height=4)\n",
    "plot(hclust(dietD_d), cex=0.4)"
   ]
  },
  {
   "cell_type": "markdown",
   "metadata": {},
   "source": [
    "## Digestive tract distance"
   ]
  },
  {
   "cell_type": "code",
   "execution_count": 105,
   "metadata": {
    "ExecuteTime": {
     "end_time": "2018-10-19T13:34:53.689894Z",
     "start_time": "2018-10-19T13:34:51.177Z"
    }
   },
   "outputs": [
    {
     "data": {
      "text/html": [
       "<table>\n",
       "<thead><tr><th></th><th scope=col>digestive_system</th><th scope=col>digestive_system_detail</th><th scope=col>ruminant</th><th scope=col>pseudoruminants</th></tr></thead>\n",
       "<tbody>\n",
       "\t<tr><th scope=row>X1.Eurasian.Beaver</th><td>hindgut</td><td>hindgut</td><td>no     </td><td>no     </td></tr>\n",
       "\t<tr><th scope=row>X101.Horse</th><td>hindgut</td><td>hindgut</td><td>no     </td><td>no     </td></tr>\n",
       "\t<tr><th scope=row>X102.Kulan</th><td>hindgut</td><td>hindgut</td><td>no     </td><td>no     </td></tr>\n",
       "\t<tr><th scope=row>X109.Red.Fox</th><td>simple </td><td>simple </td><td>no     </td><td>no     </td></tr>\n",
       "\t<tr><th scope=row>X110.Noctule</th><td>NA     </td><td>NA     </td><td>no     </td><td>no     </td></tr>\n",
       "\t<tr><th scope=row>X111.West.European.Hedgehog</th><td>simple </td><td>simple </td><td>no     </td><td>no     </td></tr>\n",
       "</tbody>\n",
       "</table>\n"
      ],
      "text/latex": [
       "\\begin{tabular}{r|llll}\n",
       "  & digestive\\_system & digestive\\_system\\_detail & ruminant & pseudoruminants\\\\\n",
       "\\hline\n",
       "\tX1.Eurasian.Beaver & hindgut & hindgut & no      & no     \\\\\n",
       "\tX101.Horse & hindgut & hindgut & no      & no     \\\\\n",
       "\tX102.Kulan & hindgut & hindgut & no      & no     \\\\\n",
       "\tX109.Red.Fox & simple  & simple  & no      & no     \\\\\n",
       "\tX110.Noctule & NA      & NA      & no      & no     \\\\\n",
       "\tX111.West.European.Hedgehog & simple  & simple  & no      & no     \\\\\n",
       "\\end{tabular}\n"
      ],
      "text/markdown": [
       "\n",
       "| <!--/--> | digestive_system | digestive_system_detail | ruminant | pseudoruminants | \n",
       "|---|---|---|---|---|---|\n",
       "| X1.Eurasian.Beaver | hindgut | hindgut | no      | no      | \n",
       "| X101.Horse | hindgut | hindgut | no      | no      | \n",
       "| X102.Kulan | hindgut | hindgut | no      | no      | \n",
       "| X109.Red.Fox | simple  | simple  | no      | no      | \n",
       "| X110.Noctule | NA      | NA      | no      | no      | \n",
       "| X111.West.European.Hedgehog | simple  | simple  | no      | no      | \n",
       "\n",
       "\n"
      ],
      "text/plain": [
       "                            digestive_system digestive_system_detail ruminant\n",
       "X1.Eurasian.Beaver          hindgut          hindgut                 no      \n",
       "X101.Horse                  hindgut          hindgut                 no      \n",
       "X102.Kulan                  hindgut          hindgut                 no      \n",
       "X109.Red.Fox                simple           simple                  no      \n",
       "X110.Noctule                NA               NA                      no      \n",
       "X111.West.European.Hedgehog simple           simple                  no      \n",
       "                            pseudoruminants\n",
       "X1.Eurasian.Beaver          no             \n",
       "X101.Horse                  no             \n",
       "X102.Kulan                  no             \n",
       "X109.Red.Fox                no             \n",
       "X110.Noctule                no             \n",
       "X111.West.European.Hedgehog no             "
      ]
     },
     "metadata": {},
     "output_type": "display_data"
    }
   ],
   "source": [
    "dtD = metadata %>%\n",
    "    distinct(X.SampleID, .keep_all=TRUE) %>%\n",
    "    dplyr::select(X.SampleID, \n",
    "                  digestive_system, digestive_system_detail, \n",
    "                  ruminant, pseudoruminants) %>%\n",
    "    mutate(digestive_system = gsub('_', ' ', digestive_system),\n",
    "           digestive_system_detail = gsub('^_', '', digestive_system_detail),\n",
    "           digestive_system_detail = gsub('_', ' ', digestive_system_detail),\n",
    "           digestive_system_detail = gsub(' +', ' ', digestive_system_detail)) %>%\n",
    "    mutate(digestive_system = digestive_system %>% as.factor,\n",
    "           digestive_system_detail = digestive_system_detail %>% as.factor) %>%\n",
    "    as.data.frame\n",
    "\n",
    "rownames(dtD) = dtD$X.SampleID\n",
    "dtD$X.SampleID = NULL\n",
    "\n",
    "dtD %>% head"
   ]
  },
  {
   "cell_type": "code",
   "execution_count": 106,
   "metadata": {
    "ExecuteTime": {
     "end_time": "2018-10-19T13:34:54.052454Z",
     "start_time": "2018-10-19T13:34:51.181Z"
    }
   },
   "outputs": [
    {
     "data": {
      "image/png": "[encoded data removed]",
      "text/plain": [
       "Plot with title “Cluster Dendrogram”"
      ]
     },
     "metadata": {},
     "output_type": "display_data"
    }
   ],
   "source": [
    "dtD_d = cluster::daisy(dtD, metric='gower')\n",
    "\n",
    "options(repr.plot.height=5, repr.plot.width=14)\n",
    "plot(hclust(dtD_d), cex=0.4)"
   ]
  },
  {
   "cell_type": "markdown",
   "metadata": {},
   "source": [
    "## Habitat distance\n",
    "\n",
    "* Gower distance on `habitat_detail`"
   ]
  },
  {
   "cell_type": "code",
   "execution_count": 107,
   "metadata": {
    "ExecuteTime": {
     "end_time": "2018-10-19T13:34:54.097816Z",
     "start_time": "2018-10-19T13:34:51.185Z"
    }
   },
   "outputs": [
    {
     "name": "stdout",
     "output_type": "stream",
     "text": [
      ".\n",
      "anthropogenic habitat    cultivated habitat    freshwater habitat \n",
      "                   11                    10                     9 \n",
      "            grassland  saline water habitat   terrestrial habitat \n",
      "                   33                     7                    95 \n",
      "             woodland \n",
      "                   48 \n",
      ".\n",
      "anthropogenic habitat    cultivated habitat                forest \n",
      "                   11                    10                    48 \n",
      "   freshwater habitat             grassland        marine habitat \n",
      "                    9                     2                     7 \n",
      "               meadow               pasture                steppe \n",
      "                   15                     4                    12 \n",
      "  terrestrial habitat \n",
      "                   95 \n",
      ".\n",
      "anthropogenic habitat    cultivated habitat          flood meadow \n",
      "                   11                    10                    15 \n",
      "               forest    freshwater habitat             grassland \n",
      "                   48                     9                     2 \n",
      "       marine habitat               pasture                steppe \n",
      "                    7                     4                    12 \n",
      "  terrestrial habitat \n",
      "                   95 \n"
     ]
    }
   ],
   "source": [
    "metadata$habitat_detail %>% table %>% print\n",
    "metadata$habitat_detail_1 %>% table %>% print\n",
    "metadata$habitat_detail_2 %>% table %>% print"
   ]
  },
  {
   "cell_type": "code",
   "execution_count": 108,
   "metadata": {
    "ExecuteTime": {
     "end_time": "2018-10-19T13:34:54.149869Z",
     "start_time": "2018-10-19T13:34:51.188Z"
    }
   },
   "outputs": [
    {
     "name": "stdout",
     "output_type": "stream",
     "text": [
      "[1] 213   3\n"
     ]
    },
    {
     "data": {
      "text/html": [
       "<table>\n",
       "<thead><tr><th></th><th scope=col>habitat_detail</th><th scope=col>habitat_detail_1</th><th scope=col>habitat_detail_2</th></tr></thead>\n",
       "<tbody>\n",
       "\t<tr><th scope=row>X1.Eurasian.Beaver</th><td>terrestrial habitat</td><td>terrestrial habitat</td><td>terrestrial habitat</td></tr>\n",
       "\t<tr><th scope=row>X101.Horse</th><td>grassland          </td><td>pasture            </td><td>pasture            </td></tr>\n",
       "\t<tr><th scope=row>X102.Kulan</th><td>grassland          </td><td>steppe             </td><td>steppe             </td></tr>\n",
       "</tbody>\n",
       "</table>\n"
      ],
      "text/latex": [
       "\\begin{tabular}{r|lll}\n",
       "  & habitat\\_detail & habitat\\_detail\\_1 & habitat\\_detail\\_2\\\\\n",
       "\\hline\n",
       "\tX1.Eurasian.Beaver & terrestrial habitat & terrestrial habitat & terrestrial habitat\\\\\n",
       "\tX101.Horse & grassland           & pasture             & pasture            \\\\\n",
       "\tX102.Kulan & grassland           & steppe              & steppe             \\\\\n",
       "\\end{tabular}\n"
      ],
      "text/markdown": [
       "\n",
       "| <!--/--> | habitat_detail | habitat_detail_1 | habitat_detail_2 | \n",
       "|---|---|---|\n",
       "| X1.Eurasian.Beaver | terrestrial habitat | terrestrial habitat | terrestrial habitat | \n",
       "| X101.Horse | grassland           | pasture             | pasture             | \n",
       "| X102.Kulan | grassland           | steppe              | steppe              | \n",
       "\n",
       "\n"
      ],
      "text/plain": [
       "                   habitat_detail      habitat_detail_1    habitat_detail_2   \n",
       "X1.Eurasian.Beaver terrestrial habitat terrestrial habitat terrestrial habitat\n",
       "X101.Horse         grassland           pasture             pasture            \n",
       "X102.Kulan         grassland           steppe              steppe             "
      ]
     },
     "metadata": {},
     "output_type": "display_data"
    }
   ],
   "source": [
    "habitatD = metadata %>%\n",
    "    dplyr::select(X.SampleID, habitat_detail, habitat_detail_1, habitat_detail_2) %>%\n",
    "    as.data.frame\n",
    "\n",
    "rownames(habitatD) = habitatD$X.SampleID\n",
    "habitatD$X.SampleID = NULL\n",
    "\n",
    "habitatD %>% dfhead"
   ]
  },
  {
   "cell_type": "code",
   "execution_count": 109,
   "metadata": {
    "ExecuteTime": {
     "end_time": "2018-10-19T13:34:54.508785Z",
     "start_time": "2018-10-19T13:34:51.193Z"
    }
   },
   "outputs": [
    {
     "data": {
      "image/png": "[encoded data removed]",
      "text/plain": [
       "Plot with title “Cluster Dendrogram”"
      ]
     },
     "metadata": {},
     "output_type": "display_data"
    }
   ],
   "source": [
    "habitatD_d = cluster::daisy(habitatD, metric='gower') \n",
    "\n",
    "options(repr.plot.height=5, repr.plot.width=14)\n",
    "plot(hclust(habitatD_d), cex=0.4)"
   ]
  },
  {
   "cell_type": "markdown",
   "metadata": {},
   "source": [
    "## Geographic distance"
   ]
  },
  {
   "cell_type": "code",
   "execution_count": 110,
   "metadata": {
    "ExecuteTime": {
     "end_time": "2018-10-19T13:34:54.572763Z",
     "start_time": "2018-10-19T13:34:51.199Z"
    }
   },
   "outputs": [
    {
     "name": "stdout",
     "output_type": "stream",
     "text": [
      "   Min. 1st Qu.  Median    Mean 3rd Qu.    Max. \n",
      " -35.83   20.32   47.76   33.32   48.21   55.29 \n",
      "   Min. 1st Qu.  Median    Mean 3rd Qu.    Max. \n",
      " -84.10   15.61   16.37   26.70   19.05  140.12 \n",
      "[1] 213   3\n"
     ]
    },
    {
     "data": {
      "text/html": [
       "<table>\n",
       "<thead><tr><th></th><th scope=col>X.SampleID</th><th scope=col>latitude</th><th scope=col>longitude</th></tr></thead>\n",
       "<tbody>\n",
       "\t<tr><th scope=row>X1.Eurasian.Beaver</th><td>X1.Eurasian.Beaver</td><td>48.47611          </td><td>16.58389          </td></tr>\n",
       "\t<tr><th scope=row>X101.Horse</th><td>X101.Horse        </td><td>48.78333          </td><td>15.06667          </td></tr>\n",
       "\t<tr><th scope=row>X102.Kulan</th><td>X102.Kulan        </td><td>43.70759          </td><td>98.34961          </td></tr>\n",
       "</tbody>\n",
       "</table>\n"
      ],
      "text/latex": [
       "\\begin{tabular}{r|lll}\n",
       "  & X.SampleID & latitude & longitude\\\\\n",
       "\\hline\n",
       "\tX1.Eurasian.Beaver & X1.Eurasian.Beaver & 48.47611           & 16.58389          \\\\\n",
       "\tX101.Horse & X101.Horse         & 48.78333           & 15.06667          \\\\\n",
       "\tX102.Kulan & X102.Kulan         & 43.70759           & 98.34961          \\\\\n",
       "\\end{tabular}\n"
      ],
      "text/markdown": [
       "\n",
       "| <!--/--> | X.SampleID | latitude | longitude | \n",
       "|---|---|---|\n",
       "| X1.Eurasian.Beaver | X1.Eurasian.Beaver | 48.47611           | 16.58389           | \n",
       "| X101.Horse | X101.Horse         | 48.78333           | 15.06667           | \n",
       "| X102.Kulan | X102.Kulan         | 43.70759           | 98.34961           | \n",
       "\n",
       "\n"
      ],
      "text/plain": [
       "                   X.SampleID         latitude longitude\n",
       "X1.Eurasian.Beaver X1.Eurasian.Beaver 48.47611 16.58389 \n",
       "X101.Horse         X101.Horse         48.78333 15.06667 \n",
       "X102.Kulan         X102.Kulan         43.70759 98.34961 "
      ]
     },
     "metadata": {},
     "output_type": "display_data"
    }
   ],
   "source": [
    "geo = metadata %>% \n",
    "    dplyr::select(X.SampleID, latitude, longitude) %>%\n",
    "    mutate(latitude = latitude %>% as.Num,\n",
    "           longitude = longitude %>% as.Num) %>%\n",
    "    as.data.frame\n",
    "\n",
    "rownames(geo) = geo$X.SampleID\n",
    "\n",
    "geo$latitude %>% summary %>% print\n",
    "geo$longitude %>% summary %>% print\n",
    "geo %>% dfhead    "
   ]
  },
  {
   "cell_type": "code",
   "execution_count": 111,
   "metadata": {
    "ExecuteTime": {
     "end_time": "2018-10-19T13:34:55.301892Z",
     "start_time": "2018-10-19T13:34:51.204Z"
    }
   },
   "outputs": [
    {
     "data": {
      "image/png": "[encoded data removed]",
      "text/plain": [
       "Plot with title “Cluster Dendrogram”"
      ]
     },
     "metadata": {},
     "output_type": "display_data"
    }
   ],
   "source": [
    ".pairwise_distGeo = function(x, y){\n",
    "    d = geosphere::distGeo(x[c('longitude', 'latitude')],\n",
    "                           y[,c('longitude', 'latitude')])\n",
    "    return(d)\n",
    "}\n",
    "\n",
    "pairwise_distGeo = function(df){\n",
    "    x = df[,c('longitude', 'latitude')]\n",
    "    geo_d = apply(x, 1, .pairwise_distGeo, y=x)\n",
    "    rescale_dist_mtx(as.dist(geo_d))\n",
    "}\n",
    "\n",
    "geo_d = pairwise_distGeo(geo)\n",
    "\n",
    "options(repr.plot.height=5, repr.plot.width=14)\n",
    "plot(hclust(geo_d), cex=0.4)"
   ]
  },
  {
   "cell_type": "markdown",
   "metadata": {},
   "source": [
    "## Sampling details distance\n",
    "\n",
    "* Gower distance of sampling methodology\n",
    "  * assessing variance explained by technical factors"
   ]
  },
  {
   "cell_type": "code",
   "execution_count": 112,
   "metadata": {
    "ExecuteTime": {
     "end_time": "2018-10-19T13:34:55.366338Z",
     "start_time": "2018-10-19T13:34:51.209Z"
    }
   },
   "outputs": [
    {
     "name": "stdout",
     "output_type": "stream",
     "text": [
      "[1] 213   3\n"
     ]
    },
    {
     "data": {
      "text/html": [
       "<table>\n",
       "<thead><tr><th></th><th scope=col>sampling_method</th><th scope=col>captive_wild</th><th scope=col>wild_domesticated</th></tr></thead>\n",
       "<tbody>\n",
       "\t<tr><th scope=row>X1.Eurasian.Beaver</th><td>feces sampling</td><td>wild          </td><td>wild          </td></tr>\n",
       "\t<tr><th scope=row>X101.Horse</th><td>feces sampling</td><td>captive       </td><td>domesticated  </td></tr>\n",
       "\t<tr><th scope=row>X102.Kulan</th><td>feces sampling</td><td>wild          </td><td>wild          </td></tr>\n",
       "</tbody>\n",
       "</table>\n"
      ],
      "text/latex": [
       "\\begin{tabular}{r|lll}\n",
       "  & sampling\\_method & captive\\_wild & wild\\_domesticated\\\\\n",
       "\\hline\n",
       "\tX1.Eurasian.Beaver & feces sampling & wild           & wild          \\\\\n",
       "\tX101.Horse & feces sampling & captive        & domesticated  \\\\\n",
       "\tX102.Kulan & feces sampling & wild           & wild          \\\\\n",
       "\\end{tabular}\n"
      ],
      "text/markdown": [
       "\n",
       "| <!--/--> | sampling_method | captive_wild | wild_domesticated | \n",
       "|---|---|---|\n",
       "| X1.Eurasian.Beaver | feces sampling | wild           | wild           | \n",
       "| X101.Horse | feces sampling | captive        | domesticated   | \n",
       "| X102.Kulan | feces sampling | wild           | wild           | \n",
       "\n",
       "\n"
      ],
      "text/plain": [
       "                   sampling_method captive_wild wild_domesticated\n",
       "X1.Eurasian.Beaver feces sampling  wild         wild             \n",
       "X101.Horse         feces sampling  captive      domesticated     \n",
       "X102.Kulan         feces sampling  wild         wild             "
      ]
     },
     "metadata": {},
     "output_type": "display_data"
    }
   ],
   "source": [
    "x = metadata$sampling_method %>% unique %>% as.vector\n",
    "samp = metadata %>% \n",
    "    dplyr::select(X.SampleID, sampling_method, captive_wild, wild_domesticated) \n",
    "\n",
    "rownames(samp) = samp$X.SampleID\n",
    "samp$X.SampleID = NULL\n",
    "\n",
    "samp %>% dfhead"
   ]
  },
  {
   "cell_type": "code",
   "execution_count": 113,
   "metadata": {
    "ExecuteTime": {
     "end_time": "2018-10-19T13:34:55.395172Z",
     "start_time": "2018-10-19T13:34:51.212Z"
    }
   },
   "outputs": [
    {
     "data": {
      "text/plain": [
       "             sampling_method  captive_wild    wild_domesticated\n",
       " dried feces sampling:  7    captive: 39   domesticated: 17    \n",
       " feces sampling      :179    human  :  4   wild        :196    \n",
       " gut section         : 14    wild   :170                       \n",
       " swab                : 13                                      "
      ]
     },
     "metadata": {},
     "output_type": "display_data"
    }
   ],
   "source": [
    "# summary\n",
    "samp %>% summary"
   ]
  },
  {
   "cell_type": "code",
   "execution_count": 114,
   "metadata": {
    "ExecuteTime": {
     "end_time": "2018-10-19T13:34:55.752683Z",
     "start_time": "2018-10-19T13:34:51.216Z"
    }
   },
   "outputs": [
    {
     "data": {
      "image/png": "[encoded data removed]",
      "text/plain": [
       "Plot with title “Cluster Dendrogram”"
      ]
     },
     "metadata": {},
     "output_type": "display_data"
    }
   ],
   "source": [
    "# distance matrix\n",
    "samp_d = cluster::daisy(samp, metric='gower') \n",
    "\n",
    "options(repr.plot.height=5, repr.plot.width=14)\n",
    "plot(hclust(samp_d), cex=0.4)"
   ]
  },
  {
   "cell_type": "markdown",
   "metadata": {},
   "source": [
    "# Ordering matrices"
   ]
  },
  {
   "cell_type": "code",
   "execution_count": 115,
   "metadata": {
    "ExecuteTime": {
     "end_time": "2018-10-19T13:34:55.780454Z",
     "start_time": "2018-10-19T13:34:51.220Z"
    }
   },
   "outputs": [
    {
     "data": {
      "text/html": [
       "<ol class=list-inline>\n",
       "\t<li>'bray_curtis'</li>\n",
       "\t<li>'jaccard'</li>\n",
       "\t<li>'unweighted_unifrac'</li>\n",
       "\t<li>'weighted_unifrac'</li>\n",
       "</ol>\n"
      ],
      "text/latex": [
       "\\begin{enumerate*}\n",
       "\\item 'bray\\_curtis'\n",
       "\\item 'jaccard'\n",
       "\\item 'unweighted\\_unifrac'\n",
       "\\item 'weighted\\_unifrac'\n",
       "\\end{enumerate*}\n"
      ],
      "text/markdown": [
       "1. 'bray_curtis'\n",
       "2. 'jaccard'\n",
       "3. 'unweighted_unifrac'\n",
       "4. 'weighted_unifrac'\n",
       "\n",
       "\n"
      ],
      "text/plain": [
       "[1] \"bray_curtis\"        \"jaccard\"            \"unweighted_unifrac\"\n",
       "[4] \"weighted_unifrac\"  "
      ]
     },
     "metadata": {},
     "output_type": "display_data"
    }
   ],
   "source": [
    "# beta-div labels\n",
    "beta_d %>% labels"
   ]
  },
  {
   "cell_type": "code",
   "execution_count": 116,
   "metadata": {
    "ExecuteTime": {
     "end_time": "2018-10-19T13:34:55.864399Z",
     "start_time": "2018-10-19T13:34:51.223Z"
    }
   },
   "outputs": [],
   "source": [
    "# ordering by beta-div metrix\n",
    "X = labels(beta_d$weighted_unifrac)\n",
    "host_tree_d_o = dist_mtx_order(host_tree_d, X)\n",
    "dietD_d_o = dist_mtx_order(dietD_d, X)\n",
    "habitatD_d_o = dist_mtx_order(habitatD_d, X)\n",
    "geo_d_o = dist_mtx_order(geo_d, X)\n",
    "samp_d_o = dist_mtx_order(samp_d, X)\n",
    "dtD_d_o = dist_mtx_order(dtD_d, X)"
   ]
  },
  {
   "cell_type": "code",
   "execution_count": 117,
   "metadata": {
    "ExecuteTime": {
     "end_time": "2018-10-19T13:34:55.895978Z",
     "start_time": "2018-10-19T13:34:51.226Z"
    }
   },
   "outputs": [
    {
     "name": "stdout",
     "output_type": "stream",
     "text": [
      "[1] 213\n",
      "[1] 213\n"
     ]
    }
   ],
   "source": [
    "# check\n",
    "X %>% length %>% print\n",
    "dtD_d_o %>% labels %>% length %>% print"
   ]
  },
  {
   "cell_type": "markdown",
   "metadata": {},
   "source": [
    "# MRM intra-spec sensitivity\n",
    "\n",
    "* MRM permuted for samples within each species"
   ]
  },
  {
   "cell_type": "code",
   "execution_count": 118,
   "metadata": {
    "ExecuteTime": {
     "end_time": "2018-10-19T13:34:55.922618Z",
     "start_time": "2018-10-19T13:34:51.229Z"
    }
   },
   "outputs": [],
   "source": [
    "# number of permutated SpecD datasetst\n",
    "nperm_datasets = 100\n",
    "# number of permutations per MRM analysis\n",
    "nperm = 1000"
   ]
  },
  {
   "cell_type": "markdown",
   "metadata": {},
   "source": [
    "## Functions"
   ]
  },
  {
   "cell_type": "code",
   "execution_count": 119,
   "metadata": {
    "ExecuteTime": {
     "end_time": "2018-10-19T13:34:55.946038Z",
     "start_time": "2018-10-19T13:34:51.232Z"
    }
   },
   "outputs": [],
   "source": [
    "#' randomly selecting one per group\n",
    "#' L : list of distance matrixes used for MRM\n",
    "#' df_grps : data.frame (sample, group)\n",
    "one_per_group = function(L, df_grps, ...){\n",
    "    # get subsample\n",
    "    colnames(df_grps) = c('Sample', 'Group')\n",
    "    df_grps = df_grps %>%\n",
    "        group_by(Group) %>%\n",
    "        sample_n(1)\n",
    "    # subsetting all matrices\n",
    "    lapply(L, function(x) dist_mtx_order(x, df_grps$Sample))\n",
    "}"
   ]
  },
  {
   "cell_type": "code",
   "execution_count": 120,
   "metadata": {
    "ExecuteTime": {
     "end_time": "2018-10-19T13:34:55.969607Z",
     "start_time": "2018-10-19T13:34:51.237Z"
    },
    "code_folding": []
   },
   "outputs": [],
   "source": [
    "#' MRM on one subsample rep\n",
    "#' i : rep number\n",
    "#' L : list of list of distance matrices generated by `one_per_group()`\n",
    "# nperm : nperm function for MRM\n",
    "# f : MRM fomulat\n",
    "mrm_each = function(i, L, f, nperm=99){\n",
    "    m = L[[i]]\n",
    "    f = as.formula(f)\n",
    "    x = ecodist::MRM(f, nperm=nperm, mrank=TRUE)\n",
    "    # coefficients\n",
    "    df = x$coef %>% as.data.frame\n",
    "    colnames(df) = c('coef', 'coef_pval')\n",
    "    df$variable = rownames(df)\n",
    "    df$R2 = x$r.squared[1]\n",
    "    df$pval = x$r.squared[2]\n",
    "    df$F = x$F.test[1]\n",
    "    df$rep = i\n",
    "    return(df)\n",
    "}"
   ]
  },
  {
   "cell_type": "code",
   "execution_count": 121,
   "metadata": {
    "ExecuteTime": {
     "end_time": "2018-10-19T13:34:55.993321Z",
     "start_time": "2018-10-19T13:34:51.240Z"
    }
   },
   "outputs": [],
   "source": [
    "# renaming output\n",
    "rename_df = data.frame(old_name = c('m$diet', 'm$digest', 'm$geo', 'm$habitat', 'm$host_phy', 'm$samp'),\n",
    "                       new_name = c('Diet', 'Digestive\\nsystem', 'Geography', 'Habitat', 'Phylogeny', 'Technical'))"
   ]
  },
  {
   "cell_type": "markdown",
   "metadata": {},
   "source": [
    "## One per species"
   ]
  },
  {
   "cell_type": "code",
   "execution_count": 122,
   "metadata": {
    "ExecuteTime": {
     "end_time": "2018-10-19T13:34:56.059110Z",
     "start_time": "2018-10-19T13:34:51.245Z"
    }
   },
   "outputs": [
    {
     "name": "stdout",
     "output_type": "stream",
     "text": [
      "[1] 213   2\n"
     ]
    },
    {
     "data": {
      "text/html": [
       "<table>\n",
       "<thead><tr><th scope=col>X.SampleID</th><th scope=col>scientific_name</th></tr></thead>\n",
       "<tbody>\n",
       "\t<tr><td>X1.Eurasian.Beaver</td><td>Castor_fiber      </td></tr>\n",
       "\t<tr><td>X101.Horse        </td><td>Equus_caballus    </td></tr>\n",
       "\t<tr><td>X102.Kulan        </td><td>Equus_hemionus    </td></tr>\n",
       "</tbody>\n",
       "</table>\n"
      ],
      "text/latex": [
       "\\begin{tabular}{r|ll}\n",
       " X.SampleID & scientific\\_name\\\\\n",
       "\\hline\n",
       "\t X1.Eurasian.Beaver & Castor\\_fiber    \\\\\n",
       "\t X101.Horse         & Equus\\_caballus  \\\\\n",
       "\t X102.Kulan         & Equus\\_hemionus  \\\\\n",
       "\\end{tabular}\n"
      ],
      "text/markdown": [
       "\n",
       "X.SampleID | scientific_name | \n",
       "|---|---|---|\n",
       "| X1.Eurasian.Beaver | Castor_fiber       | \n",
       "| X101.Horse         | Equus_caballus     | \n",
       "| X102.Kulan         | Equus_hemionus     | \n",
       "\n",
       "\n"
      ],
      "text/plain": [
       "  X.SampleID         scientific_name\n",
       "1 X1.Eurasian.Beaver Castor_fiber   \n",
       "2 X101.Horse         Equus_caballus \n",
       "3 X102.Kulan         Equus_hemionus "
      ]
     },
     "metadata": {},
     "output_type": "display_data"
    }
   ],
   "source": [
    "# grouping samples by species\n",
    "df_grps = metadata %>% \n",
    "    filter(X.SampleID %in% labels(dietD_d_o)) %>%\n",
    "    dplyr::select(X.SampleID, scientific_name)\n",
    "df_grps %>% dfhead"
   ]
  },
  {
   "cell_type": "markdown",
   "metadata": {},
   "source": [
    "### Weighted unifrac"
   ]
  },
  {
   "cell_type": "code",
   "execution_count": 123,
   "metadata": {
    "ExecuteTime": {
     "end_time": "2018-10-19T13:34:59.772079Z",
     "start_time": "2018-10-19T13:34:51.249Z"
    }
   },
   "outputs": [
    {
     "data": {
      "text/html": [
       "100"
      ],
      "text/latex": [
       "100"
      ],
      "text/markdown": [
       "100"
      ],
      "text/plain": [
       "[1] 100"
      ]
     },
     "metadata": {},
     "output_type": "display_data"
    }
   ],
   "source": [
    "# creating subsample permutations of the distance matrices\n",
    "L = list(beta = beta_d$weighted_unifrac,\n",
    "         host_phy = host_tree_d_o,\n",
    "         diet = dietD_d_o,\n",
    "         digest = dtD_d_o, \n",
    "         habitat = habitatD_d_o,\n",
    "         geo = geo_d_o,\n",
    "         samp = samp_d_o)\n",
    "\n",
    "m_perm = lapply(as.list(1:nperm_datasets), function(x) one_per_group(L, df_grps, x))\n",
    "m_perm %>% length "
   ]
  },
  {
   "cell_type": "markdown",
   "metadata": {},
   "source": [
    "#### Model 1"
   ]
  },
  {
   "cell_type": "code",
   "execution_count": 124,
   "metadata": {
    "ExecuteTime": {
     "end_time": "2018-10-19T13:35:05.154757Z",
     "start_time": "2018-10-19T13:34:51.255Z"
    },
    "scrolled": true
   },
   "outputs": [
    {
     "name": "stdout",
     "output_type": "stream",
     "text": [
      "[1] 700   7\n"
     ]
    },
    {
     "data": {
      "text/html": [
       "<table>\n",
       "<thead><tr><th></th><th scope=col>coef</th><th scope=col>coef_pval</th><th scope=col>variable</th><th scope=col>R2</th><th scope=col>pval</th><th scope=col>F</th><th scope=col>rep</th></tr></thead>\n",
       "<tbody>\n",
       "\t<tr><th scope=row>Int</th><td>3.027835e+03</td><td>0.982       </td><td>Int         </td><td>0.03827314  </td><td>0.005       </td><td>53.86425    </td><td>1           </td></tr>\n",
       "\t<tr><th scope=row>m$host_phy</th><td>3.710168e-02</td><td>0.415       </td><td>m$host_phy  </td><td>0.03827314  </td><td>0.005       </td><td>53.86425    </td><td>1           </td></tr>\n",
       "\t<tr><th scope=row>m$diet</th><td>1.944856e-01</td><td>0.001       </td><td>m$diet      </td><td>0.03827314  </td><td>0.005       </td><td>53.86425    </td><td>1           </td></tr>\n",
       "</tbody>\n",
       "</table>\n"
      ],
      "text/latex": [
       "\\begin{tabular}{r|lllllll}\n",
       "  & coef & coef\\_pval & variable & R2 & pval & F & rep\\\\\n",
       "\\hline\n",
       "\tInt & 3.027835e+03 & 0.982        & Int          & 0.03827314   & 0.005        & 53.86425     & 1           \\\\\n",
       "\tm\\$host\\_phy & 3.710168e-02   & 0.415          & m\\$host\\_phy & 0.03827314     & 0.005          & 53.86425       & 1             \\\\\n",
       "\tm\\$diet & 1.944856e-01 & 0.001        & m\\$diet     & 0.03827314   & 0.005        & 53.86425     & 1           \\\\\n",
       "\\end{tabular}\n"
      ],
      "text/markdown": [
       "\n",
       "| <!--/--> | coef | coef_pval | variable | R2 | pval | F | rep | \n",
       "|---|---|---|\n",
       "| Int | 3.027835e+03 | 0.982        | Int          | 0.03827314   | 0.005        | 53.86425     | 1            | \n",
       "| m$host_phy | 3.710168e-02 | 0.415        | m$host_phy   | 0.03827314   | 0.005        | 53.86425     | 1            | \n",
       "| m$diet | 1.944856e-01 | 0.001        | m$diet       | 0.03827314   | 0.005        | 53.86425     | 1            | \n",
       "\n",
       "\n"
      ],
      "text/plain": [
       "           coef         coef_pval variable   R2         pval  F        rep\n",
       "Int        3.027835e+03 0.982     Int        0.03827314 0.005 53.86425 1  \n",
       "m$host_phy 3.710168e-02 0.415     m$host_phy 0.03827314 0.005 53.86425 1  \n",
       "m$diet     1.944856e-01 0.001     m$diet     0.03827314 0.005 53.86425 1  "
      ]
     },
     "metadata": {},
     "output_type": "display_data"
    }
   ],
   "source": [
    "# MRM on each permutation (in parallel)\n",
    "doParallel::registerDoParallel(threads)\n",
    "x = as.list(1:length(m_perm))\n",
    "f = 'm$beta ~ m$host_phy + m$diet + m$digest + m$habitat + m$geo + m$samp'\n",
    "mrm_res = plyr::llply(x, mrm_each, L=m_perm, f=f, nperm=nperm, .parallel=TRUE)\n",
    "mrm_res = do.call(rbind, mrm_res)\n",
    "mrm_res %>% dfhead"
   ]
  },
  {
   "cell_type": "code",
   "execution_count": 125,
   "metadata": {
    "ExecuteTime": {
     "end_time": "2018-10-19T13:35:05.196378Z",
     "start_time": "2018-10-19T13:34:51.259Z"
    }
   },
   "outputs": [
    {
     "data": {
      "text/plain": [
       "       R2               pval              rep        \n",
       " Min.   :0.03262   Min.   :0.00100   Min.   :  1.00  \n",
       " 1st Qu.:0.04532   1st Qu.:0.00100   1st Qu.: 25.75  \n",
       " Median :0.04963   Median :0.00100   Median : 50.50  \n",
       " Mean   :0.04910   Mean   :0.00201   Mean   : 50.50  \n",
       " 3rd Qu.:0.05338   3rd Qu.:0.00200   3rd Qu.: 75.25  \n",
       " Max.   :0.06232   Max.   :0.01300   Max.   :100.00  "
      ]
     },
     "metadata": {},
     "output_type": "display_data"
    }
   ],
   "source": [
    "# summary of overall model\n",
    "mrm_res %>%\n",
    "    distinct(R2, pval, rep) %>%\n",
    "    summary"
   ]
  },
  {
   "cell_type": "code",
   "execution_count": 126,
   "metadata": {
    "ExecuteTime": {
     "end_time": "2018-10-19T13:35:06.306145Z",
     "start_time": "2018-10-19T13:34:51.263Z"
    }
   },
   "outputs": [
    {
     "name": "stderr",
     "output_type": "stream",
     "text": [
      "Warning message:\n",
      "“Column `variable`/`old_name` joining character vector and factor, coercing into character vector”"
     ]
    },
    {
     "data": {
      "image/png": "[encoded data removed]",
      "text/plain": [
       "plot without title"
      ]
     },
     "metadata": {},
     "output_type": "display_data"
    }
   ],
   "source": [
    "# formatting results\n",
    "mrm_res_s = mrm_res %>% \n",
    "    filter(variable != 'Int') %>%\n",
    "    gather(category, value, -variable, -R2, -pval, -F, -rep) %>%\n",
    "    mutate(category = ifelse(category == 'coef', 'Coef.', 'Adj. P-value'))\n",
    "\n",
    "mrm_res_s = mrm_res_s %>%\n",
    "    inner_join(rename_df, c('variable'='old_name')) %>%\n",
    "    dplyr::select(-variable) %>%\n",
    "    rename('variable' = new_name)             \n",
    "\n",
    "p = ggplot(mrm_res_s, aes(variable, value)) +\n",
    "    geom_boxplot() +\n",
    "    facet_grid(category ~ ., scales='free_y') +\n",
    "    theme_bw()\n",
    "\n",
    "options(repr.plot.width=5, repr.plot.height=3)\n",
    "plot(p)"
   ]
  },
  {
   "cell_type": "code",
   "execution_count": 127,
   "metadata": {
    "ExecuteTime": {
     "end_time": "2018-10-19T13:35:06.353377Z",
     "start_time": "2018-10-19T13:34:51.267Z"
    }
   },
   "outputs": [
    {
     "data": {
      "text/html": [
       "<table>\n",
       "<thead><tr><th scope=col>variable</th><th scope=col>pval_sensitivity</th><th scope=col>sig_pval_sensitivity</th></tr></thead>\n",
       "<tbody>\n",
       "\t<tr><td>Int       </td><td>1.00      </td><td>FALSE     </td></tr>\n",
       "\t<tr><td>m$diet    </td><td>0.00      </td><td> TRUE     </td></tr>\n",
       "\t<tr><td>m$digest  </td><td>1.00      </td><td>FALSE     </td></tr>\n",
       "\t<tr><td>m$geo     </td><td>1.00      </td><td>FALSE     </td></tr>\n",
       "\t<tr><td>m$habitat </td><td>1.00      </td><td>FALSE     </td></tr>\n",
       "\t<tr><td>m$host_phy</td><td>0.71      </td><td>FALSE     </td></tr>\n",
       "\t<tr><td>m$samp    </td><td>0.95      </td><td>FALSE     </td></tr>\n",
       "</tbody>\n",
       "</table>\n"
      ],
      "text/latex": [
       "\\begin{tabular}{r|lll}\n",
       " variable & pval\\_sensitivity & sig\\_pval\\_sensitivity\\\\\n",
       "\\hline\n",
       "\t Int        & 1.00       & FALSE     \\\\\n",
       "\t m\\$diet     & 0.00         &  TRUE       \\\\\n",
       "\t m\\$digest   & 1.00         & FALSE       \\\\\n",
       "\t m\\$geo      & 1.00         & FALSE       \\\\\n",
       "\t m\\$habitat  & 1.00         & FALSE       \\\\\n",
       "\t m\\$host\\_phy & 0.71           & FALSE         \\\\\n",
       "\t m\\$samp     & 0.95         & FALSE       \\\\\n",
       "\\end{tabular}\n"
      ],
      "text/markdown": [
       "\n",
       "variable | pval_sensitivity | sig_pval_sensitivity | \n",
       "|---|---|---|---|---|---|---|\n",
       "| Int        | 1.00       | FALSE      | \n",
       "| m$diet     | 0.00       |  TRUE      | \n",
       "| m$digest   | 1.00       | FALSE      | \n",
       "| m$geo      | 1.00       | FALSE      | \n",
       "| m$habitat  | 1.00       | FALSE      | \n",
       "| m$host_phy | 0.71       | FALSE      | \n",
       "| m$samp     | 0.95       | FALSE      | \n",
       "\n",
       "\n"
      ],
      "text/plain": [
       "  variable   pval_sensitivity sig_pval_sensitivity\n",
       "1 Int        1.00             FALSE               \n",
       "2 m$diet     0.00              TRUE               \n",
       "3 m$digest   1.00             FALSE               \n",
       "4 m$geo      1.00             FALSE               \n",
       "5 m$habitat  1.00             FALSE               \n",
       "6 m$host_phy 0.71             FALSE               \n",
       "7 m$samp     0.95             FALSE               "
      ]
     },
     "metadata": {},
     "output_type": "display_data"
    }
   ],
   "source": [
    "# significance\n",
    "mrm_res %>% \n",
    "    group_by(variable) %>%\n",
    "    summarize(pval_sensitivity = 1 - sum(coef_pval < 0.05) / length(pval)) %>%\n",
    "    ungroup() %>%\n",
    "    mutate(sig_pval_sensitivity = pval_sensitivity < 0.05)"
   ]
  },
  {
   "cell_type": "markdown",
   "metadata": {},
   "source": [
    "#### Model 2"
   ]
  },
  {
   "cell_type": "code",
   "execution_count": 128,
   "metadata": {
    "ExecuteTime": {
     "end_time": "2018-10-19T13:35:11.181951Z",
     "start_time": "2018-10-19T13:34:51.272Z"
    }
   },
   "outputs": [
    {
     "name": "stdout",
     "output_type": "stream",
     "text": [
      "[1] 600   7\n"
     ]
    },
    {
     "data": {
      "text/html": [
       "<table>\n",
       "<thead><tr><th></th><th scope=col>coef</th><th scope=col>coef_pval</th><th scope=col>variable</th><th scope=col>R2</th><th scope=col>pval</th><th scope=col>F</th><th scope=col>rep</th></tr></thead>\n",
       "<tbody>\n",
       "\t<tr><th scope=row>Int</th><td>2.963392e+03</td><td>0.997       </td><td>Int         </td><td>0.03802583  </td><td>0.001       </td><td>64.21083    </td><td>1           </td></tr>\n",
       "\t<tr><th scope=row>m$host_phy</th><td>4.261434e-02</td><td>0.360       </td><td>m$host_phy  </td><td>0.03802583  </td><td>0.001       </td><td>64.21083    </td><td>1           </td></tr>\n",
       "\t<tr><th scope=row>m$diet</th><td>1.890240e-01</td><td>0.001       </td><td>m$diet      </td><td>0.03802583  </td><td>0.001       </td><td>64.21083    </td><td>1           </td></tr>\n",
       "</tbody>\n",
       "</table>\n"
      ],
      "text/latex": [
       "\\begin{tabular}{r|lllllll}\n",
       "  & coef & coef\\_pval & variable & R2 & pval & F & rep\\\\\n",
       "\\hline\n",
       "\tInt & 2.963392e+03 & 0.997        & Int          & 0.03802583   & 0.001        & 64.21083     & 1           \\\\\n",
       "\tm\\$host\\_phy & 4.261434e-02   & 0.360          & m\\$host\\_phy & 0.03802583     & 0.001          & 64.21083       & 1             \\\\\n",
       "\tm\\$diet & 1.890240e-01 & 0.001        & m\\$diet     & 0.03802583   & 0.001        & 64.21083     & 1           \\\\\n",
       "\\end{tabular}\n"
      ],
      "text/markdown": [
       "\n",
       "| <!--/--> | coef | coef_pval | variable | R2 | pval | F | rep | \n",
       "|---|---|---|\n",
       "| Int | 2.963392e+03 | 0.997        | Int          | 0.03802583   | 0.001        | 64.21083     | 1            | \n",
       "| m$host_phy | 4.261434e-02 | 0.360        | m$host_phy   | 0.03802583   | 0.001        | 64.21083     | 1            | \n",
       "| m$diet | 1.890240e-01 | 0.001        | m$diet       | 0.03802583   | 0.001        | 64.21083     | 1            | \n",
       "\n",
       "\n"
      ],
      "text/plain": [
       "           coef         coef_pval variable   R2         pval  F        rep\n",
       "Int        2.963392e+03 0.997     Int        0.03802583 0.001 64.21083 1  \n",
       "m$host_phy 4.261434e-02 0.360     m$host_phy 0.03802583 0.001 64.21083 1  \n",
       "m$diet     1.890240e-01 0.001     m$diet     0.03802583 0.001 64.21083 1  "
      ]
     },
     "metadata": {},
     "output_type": "display_data"
    }
   ],
   "source": [
    "# MRM on each permutation (in parallel)\n",
    "doParallel::registerDoParallel(threads)\n",
    "x = as.list(1:length(m_perm))\n",
    "f = 'm$beta ~ m$host_phy + m$diet + m$habitat + m$geo + m$samp'\n",
    "mrm_res = plyr::llply(x, mrm_each, L=m_perm, f=f, nperm=nperm, .parallel=TRUE)\n",
    "mrm_res = do.call(rbind, mrm_res)\n",
    "mrm_res %>% dfhead"
   ]
  },
  {
   "cell_type": "code",
   "execution_count": 129,
   "metadata": {
    "ExecuteTime": {
     "end_time": "2018-10-19T13:35:11.225345Z",
     "start_time": "2018-10-19T13:34:51.277Z"
    }
   },
   "outputs": [
    {
     "data": {
      "text/plain": [
       "       R2               pval              rep        \n",
       " Min.   :0.03167   Min.   :0.00100   Min.   :  1.00  \n",
       " 1st Qu.:0.04458   1st Qu.:0.00100   1st Qu.: 25.75  \n",
       " Median :0.04916   Median :0.00100   Median : 50.50  \n",
       " Mean   :0.04855   Mean   :0.00169   Mean   : 50.50  \n",
       " 3rd Qu.:0.05269   3rd Qu.:0.00200   3rd Qu.: 75.25  \n",
       " Max.   :0.06230   Max.   :0.01600   Max.   :100.00  "
      ]
     },
     "metadata": {},
     "output_type": "display_data"
    }
   ],
   "source": [
    "# summary of overall model\n",
    "mrm_res %>%\n",
    "    distinct(R2, pval, rep) %>%\n",
    "    summary"
   ]
  },
  {
   "cell_type": "code",
   "execution_count": 130,
   "metadata": {
    "ExecuteTime": {
     "end_time": "2018-10-19T13:35:21.780971Z",
     "start_time": "2018-10-19T13:35:20.039Z"
    },
    "scrolled": false
   },
   "outputs": [
    {
     "name": "stderr",
     "output_type": "stream",
     "text": [
      "Warning message:\n",
      "“Column `variable`/`old_name` joining character vector and factor, coercing into character vector”"
     ]
    },
    {
     "name": "stdout",
     "output_type": "stream",
     "text": [
      "File written: /ebio/abt3_projects/Georg_animal_feces/notebooks/16S/3_modulating_factors/MRM/3_TT/beta_div/.figures/MRM_IndD_wUnif_model2.pdf \n"
     ]
    },
    {
     "data": {
      "image/png": "[encoded data removed]",
      "text/plain": [
       "plot without title"
      ]
     },
     "metadata": {},
     "output_type": "display_data"
    }
   ],
   "source": [
    "# fomatting output\n",
    "mrm_res_s = mrm_res %>% \n",
    "    filter(variable != 'Int') %>%\n",
    "    gather(category, value, -variable, -R2, -pval, -F, -rep) %>%\n",
    "    mutate(category = ifelse(category == 'coef', 'Coef.', 'Adj. P-value'))\n",
    "\n",
    "mrm_res_s = mrm_res_s %>%\n",
    "    inner_join(rename_df, c('variable'='old_name')) %>%\n",
    "    dplyr::select(-variable) %>%\n",
    "    rename('variable' = new_name)            \n",
    "\n",
    "# changing coef scale\n",
    "df = mrm_res_s %>%\n",
    "    filter(category == 'Coef.') %>%\n",
    "    mutate(value = 0.41) %>%\n",
    "    .[1:2,]\n",
    "df[2,'value'] = -0.1\n",
    "\n",
    "# plotting\n",
    "p = ggplot(mrm_res_s, aes(variable, value)) +\n",
    "    geom_boxplot() +\n",
    "    geom_point(data=df, alpha=0) +\n",
    "    facet_grid(category ~ ., scales='free_y') +\n",
    "    theme_bw() \n",
    "\n",
    "options(repr.plot.width=5, repr.plot.height=3)\n",
    "plot_write(p, file='MRM_IndD_wUnif_model2.pdf')"
   ]
  },
  {
   "cell_type": "code",
   "execution_count": 41,
   "metadata": {
    "ExecuteTime": {
     "end_time": "2018-10-19T13:26:54.407678Z",
     "start_time": "2018-10-19T13:26:17.410Z"
    }
   },
   "outputs": [
    {
     "data": {
      "text/html": [
       "<table>\n",
       "<thead><tr><th scope=col>variable</th><th scope=col>pval_sensitivity</th><th scope=col>sig_pval_sensitivity</th></tr></thead>\n",
       "<tbody>\n",
       "\t<tr><td>Int       </td><td>1.00      </td><td>FALSE     </td></tr>\n",
       "\t<tr><td>m$diet    </td><td>0.00      </td><td> TRUE     </td></tr>\n",
       "\t<tr><td>m$geo     </td><td>1.00      </td><td>FALSE     </td></tr>\n",
       "\t<tr><td>m$habitat </td><td>1.00      </td><td>FALSE     </td></tr>\n",
       "\t<tr><td>m$host_phy</td><td>0.58      </td><td>FALSE     </td></tr>\n",
       "\t<tr><td>m$samp    </td><td>0.96      </td><td>FALSE     </td></tr>\n",
       "</tbody>\n",
       "</table>\n"
      ],
      "text/latex": [
       "\\begin{tabular}{r|lll}\n",
       " variable & pval\\_sensitivity & sig\\_pval\\_sensitivity\\\\\n",
       "\\hline\n",
       "\t Int        & 1.00       & FALSE     \\\\\n",
       "\t m\\$diet     & 0.00         &  TRUE       \\\\\n",
       "\t m\\$geo      & 1.00         & FALSE       \\\\\n",
       "\t m\\$habitat  & 1.00         & FALSE       \\\\\n",
       "\t m\\$host\\_phy & 0.58           & FALSE         \\\\\n",
       "\t m\\$samp     & 0.96         & FALSE       \\\\\n",
       "\\end{tabular}\n"
      ],
      "text/markdown": [
       "\n",
       "variable | pval_sensitivity | sig_pval_sensitivity | \n",
       "|---|---|---|---|---|---|\n",
       "| Int        | 1.00       | FALSE      | \n",
       "| m$diet     | 0.00       |  TRUE      | \n",
       "| m$geo      | 1.00       | FALSE      | \n",
       "| m$habitat  | 1.00       | FALSE      | \n",
       "| m$host_phy | 0.58       | FALSE      | \n",
       "| m$samp     | 0.96       | FALSE      | \n",
       "\n",
       "\n"
      ],
      "text/plain": [
       "  variable   pval_sensitivity sig_pval_sensitivity\n",
       "1 Int        1.00             FALSE               \n",
       "2 m$diet     0.00              TRUE               \n",
       "3 m$geo      1.00             FALSE               \n",
       "4 m$habitat  1.00             FALSE               \n",
       "5 m$host_phy 0.58             FALSE               \n",
       "6 m$samp     0.96             FALSE               "
      ]
     },
     "metadata": {},
     "output_type": "display_data"
    }
   ],
   "source": [
    "# significance\n",
    "mrm_res %>% \n",
    "    group_by(variable) %>%\n",
    "    summarize(pval_sensitivity = 1 - sum(coef_pval < 0.05) / length(pval)) %>%\n",
    "    ungroup() %>%\n",
    "    mutate(sig_pval_sensitivity = pval_sensitivity < 0.05)"
   ]
  },
  {
   "cell_type": "markdown",
   "metadata": {},
   "source": [
    "### unweighted-unifrac"
   ]
  },
  {
   "cell_type": "code",
   "execution_count": 42,
   "metadata": {
    "ExecuteTime": {
     "end_time": "2018-10-19T13:26:59.998965Z",
     "start_time": "2018-10-19T13:26:17.414Z"
    }
   },
   "outputs": [
    {
     "data": {
      "text/html": [
       "100"
      ],
      "text/latex": [
       "100"
      ],
      "text/markdown": [
       "100"
      ],
      "text/plain": [
       "[1] 100"
      ]
     },
     "metadata": {},
     "output_type": "display_data"
    }
   ],
   "source": [
    "# creating multiple distance matrices\n",
    "m = list(beta = beta_d$unweighted_unifrac,\n",
    "         host_phy = host_tree_d_o,\n",
    "         diet = dietD_d_o,\n",
    "         digest = dtD_d_o, \n",
    "         habitat = habitatD_d_o,\n",
    "         geo = geo_d_o,\n",
    "         samp = samp_d_o)\n",
    "\n",
    "m_perm = lapply(as.list(1:nperm_datasets), function(x) one_per_group(m, df_grps, x))\n",
    "m_perm %>% length           "
   ]
  },
  {
   "cell_type": "markdown",
   "metadata": {},
   "source": [
    "#### Model 1"
   ]
  },
  {
   "cell_type": "code",
   "execution_count": 43,
   "metadata": {
    "ExecuteTime": {
     "end_time": "2018-10-19T13:27:04.987803Z",
     "start_time": "2018-10-19T13:26:17.420Z"
    }
   },
   "outputs": [
    {
     "name": "stdout",
     "output_type": "stream",
     "text": [
      "[1] 700   7\n"
     ]
    },
    {
     "data": {
      "text/html": [
       "<table>\n",
       "<thead><tr><th></th><th scope=col>coef</th><th scope=col>coef_pval</th><th scope=col>variable</th><th scope=col>R2</th><th scope=col>pval</th><th scope=col>F</th><th scope=col>rep</th></tr></thead>\n",
       "<tbody>\n",
       "\t<tr><th scope=row>Int</th><td>1827.4444996</td><td>1.000       </td><td>Int         </td><td>0.1352045   </td><td>0.001       </td><td>211.6099    </td><td>1           </td></tr>\n",
       "\t<tr><th scope=row>m$host_phy</th><td>   0.1909773</td><td>0.001       </td><td>m$host_phy  </td><td>0.1352045   </td><td>0.001       </td><td>211.6099    </td><td>1           </td></tr>\n",
       "\t<tr><th scope=row>m$diet</th><td>   0.2758545</td><td>0.001       </td><td>m$diet      </td><td>0.1352045   </td><td>0.001       </td><td>211.6099    </td><td>1           </td></tr>\n",
       "</tbody>\n",
       "</table>\n"
      ],
      "text/latex": [
       "\\begin{tabular}{r|lllllll}\n",
       "  & coef & coef\\_pval & variable & R2 & pval & F & rep\\\\\n",
       "\\hline\n",
       "\tInt & 1827.4444996 & 1.000        & Int          & 0.1352045    & 0.001        & 211.6099     & 1           \\\\\n",
       "\tm\\$host\\_phy &    0.1909773   & 0.001          & m\\$host\\_phy & 0.1352045      & 0.001          & 211.6099       & 1             \\\\\n",
       "\tm\\$diet &    0.2758545 & 0.001        & m\\$diet     & 0.1352045    & 0.001        & 211.6099     & 1           \\\\\n",
       "\\end{tabular}\n"
      ],
      "text/markdown": [
       "\n",
       "| <!--/--> | coef | coef_pval | variable | R2 | pval | F | rep | \n",
       "|---|---|---|\n",
       "| Int | 1827.4444996 | 1.000        | Int          | 0.1352045    | 0.001        | 211.6099     | 1            | \n",
       "| m$host_phy |    0.1909773 | 0.001        | m$host_phy   | 0.1352045    | 0.001        | 211.6099     | 1            | \n",
       "| m$diet |    0.2758545 | 0.001        | m$diet       | 0.1352045    | 0.001        | 211.6099     | 1            | \n",
       "\n",
       "\n"
      ],
      "text/plain": [
       "           coef         coef_pval variable   R2        pval  F        rep\n",
       "Int        1827.4444996 1.000     Int        0.1352045 0.001 211.6099 1  \n",
       "m$host_phy    0.1909773 0.001     m$host_phy 0.1352045 0.001 211.6099 1  \n",
       "m$diet        0.2758545 0.001     m$diet     0.1352045 0.001 211.6099 1  "
      ]
     },
     "metadata": {},
     "output_type": "display_data"
    }
   ],
   "source": [
    "# MRM on each permutation (in parallel)\n",
    "doParallel::registerDoParallel(threads)\n",
    "x = as.list(1:length(m_perm))\n",
    "f = 'm$beta ~ m$host_phy + m$diet + m$digest + m$habitat + m$geo + m$samp'\n",
    "mrm_res = plyr::llply(x, mrm_each, L=m_perm, f=f, nperm=nperm, .parallel=TRUE)\n",
    "mrm_res = do.call(rbind, mrm_res)\n",
    "mrm_res %>% dfhead"
   ]
  },
  {
   "cell_type": "code",
   "execution_count": 44,
   "metadata": {
    "ExecuteTime": {
     "end_time": "2018-10-19T13:27:05.038398Z",
     "start_time": "2018-10-19T13:26:17.423Z"
    }
   },
   "outputs": [
    {
     "data": {
      "text/plain": [
       "       R2              pval            rep        \n",
       " Min.   :0.1119   Min.   :0.001   Min.   :  1.00  \n",
       " 1st Qu.:0.1310   1st Qu.:0.001   1st Qu.: 25.75  \n",
       " Median :0.1377   Median :0.001   Median : 50.50  \n",
       " Mean   :0.1371   Mean   :0.001   Mean   : 50.50  \n",
       " 3rd Qu.:0.1423   3rd Qu.:0.001   3rd Qu.: 75.25  \n",
       " Max.   :0.1640   Max.   :0.001   Max.   :100.00  "
      ]
     },
     "metadata": {},
     "output_type": "display_data"
    }
   ],
   "source": [
    "# summary of overall model\n",
    "mrm_res %>%\n",
    "    distinct(R2, pval, rep) %>%\n",
    "    summary"
   ]
  },
  {
   "cell_type": "code",
   "execution_count": 45,
   "metadata": {
    "ExecuteTime": {
     "end_time": "2018-10-19T13:27:06.337499Z",
     "start_time": "2018-10-19T13:26:17.427Z"
    }
   },
   "outputs": [
    {
     "name": "stderr",
     "output_type": "stream",
     "text": [
      "Warning message:\n",
      "“Column `variable`/`old_name` joining character vector and factor, coercing into character vector”"
     ]
    },
    {
     "data": {
      "image/png": "[encoded data removed]",
      "text/plain": [
       "plot without title"
      ]
     },
     "metadata": {},
     "output_type": "display_data"
    }
   ],
   "source": [
    "# formatting results\n",
    "mrm_res_s = mrm_res %>% \n",
    "    filter(variable != 'Int') %>%\n",
    "    gather(category, value, -variable, -R2, -pval, -F, -rep) %>%\n",
    "    mutate(category = ifelse(category == 'coef', 'Coef.', 'Adj. P-value'))\n",
    "\n",
    "mrm_res_s = mrm_res_s %>%\n",
    "    inner_join(rename_df, c('variable'='old_name')) %>%\n",
    "    dplyr::select(-variable) %>%\n",
    "    rename('variable' = new_name)              \n",
    "\n",
    "p = ggplot(mrm_res_s, aes(variable, value)) +\n",
    "    geom_boxplot() +\n",
    "    facet_grid(category ~ ., scales='free_y') +\n",
    "    theme_bw()\n",
    "\n",
    "options(repr.plot.width=5, repr.plot.height=3)\n",
    "plot(p)"
   ]
  },
  {
   "cell_type": "code",
   "execution_count": 46,
   "metadata": {
    "ExecuteTime": {
     "end_time": "2018-10-19T13:27:06.393282Z",
     "start_time": "2018-10-19T13:26:17.430Z"
    }
   },
   "outputs": [
    {
     "data": {
      "text/html": [
       "<table>\n",
       "<thead><tr><th scope=col>variable</th><th scope=col>pval_sensitivity</th><th scope=col>sig_pval_sensitivity</th></tr></thead>\n",
       "<tbody>\n",
       "\t<tr><td>Int       </td><td>1.00      </td><td>FALSE     </td></tr>\n",
       "\t<tr><td>m$diet    </td><td>0.00      </td><td> TRUE     </td></tr>\n",
       "\t<tr><td>m$digest  </td><td>0.00      </td><td> TRUE     </td></tr>\n",
       "\t<tr><td>m$geo     </td><td>0.16      </td><td>FALSE     </td></tr>\n",
       "\t<tr><td>m$habitat </td><td>0.97      </td><td>FALSE     </td></tr>\n",
       "\t<tr><td>m$host_phy</td><td>0.00      </td><td> TRUE     </td></tr>\n",
       "\t<tr><td>m$samp    </td><td>0.39      </td><td>FALSE     </td></tr>\n",
       "</tbody>\n",
       "</table>\n"
      ],
      "text/latex": [
       "\\begin{tabular}{r|lll}\n",
       " variable & pval\\_sensitivity & sig\\_pval\\_sensitivity\\\\\n",
       "\\hline\n",
       "\t Int        & 1.00       & FALSE     \\\\\n",
       "\t m\\$diet     & 0.00         &  TRUE       \\\\\n",
       "\t m\\$digest   & 0.00         &  TRUE       \\\\\n",
       "\t m\\$geo      & 0.16         & FALSE       \\\\\n",
       "\t m\\$habitat  & 0.97         & FALSE       \\\\\n",
       "\t m\\$host\\_phy & 0.00           &  TRUE         \\\\\n",
       "\t m\\$samp     & 0.39         & FALSE       \\\\\n",
       "\\end{tabular}\n"
      ],
      "text/markdown": [
       "\n",
       "variable | pval_sensitivity | sig_pval_sensitivity | \n",
       "|---|---|---|---|---|---|---|\n",
       "| Int        | 1.00       | FALSE      | \n",
       "| m$diet     | 0.00       |  TRUE      | \n",
       "| m$digest   | 0.00       |  TRUE      | \n",
       "| m$geo      | 0.16       | FALSE      | \n",
       "| m$habitat  | 0.97       | FALSE      | \n",
       "| m$host_phy | 0.00       |  TRUE      | \n",
       "| m$samp     | 0.39       | FALSE      | \n",
       "\n",
       "\n"
      ],
      "text/plain": [
       "  variable   pval_sensitivity sig_pval_sensitivity\n",
       "1 Int        1.00             FALSE               \n",
       "2 m$diet     0.00              TRUE               \n",
       "3 m$digest   0.00              TRUE               \n",
       "4 m$geo      0.16             FALSE               \n",
       "5 m$habitat  0.97             FALSE               \n",
       "6 m$host_phy 0.00              TRUE               \n",
       "7 m$samp     0.39             FALSE               "
      ]
     },
     "metadata": {},
     "output_type": "display_data"
    }
   ],
   "source": [
    "# significance\n",
    "mrm_res %>% \n",
    "    group_by(variable) %>%\n",
    "    summarize(pval_sensitivity = 1 - sum(coef_pval < 0.05) / length(pval)) %>%\n",
    "    ungroup() %>%\n",
    "    mutate(sig_pval_sensitivity = pval_sensitivity < 0.05)"
   ]
  },
  {
   "cell_type": "markdown",
   "metadata": {},
   "source": [
    "#### Model 2"
   ]
  },
  {
   "cell_type": "code",
   "execution_count": 47,
   "metadata": {
    "ExecuteTime": {
     "end_time": "2018-10-19T13:27:11.135942Z",
     "start_time": "2018-10-19T13:26:17.436Z"
    }
   },
   "outputs": [
    {
     "name": "stdout",
     "output_type": "stream",
     "text": [
      "[1] 600   7\n"
     ]
    },
    {
     "data": {
      "text/html": [
       "<table>\n",
       "<thead><tr><th></th><th scope=col>coef</th><th scope=col>coef_pval</th><th scope=col>variable</th><th scope=col>R2</th><th scope=col>pval</th><th scope=col>F</th><th scope=col>rep</th></tr></thead>\n",
       "<tbody>\n",
       "\t<tr><th scope=row>Int</th><td>2162.7429169</td><td>1.000       </td><td>Int         </td><td>0.1277226   </td><td>0.001       </td><td>237.8517    </td><td>1           </td></tr>\n",
       "\t<tr><th scope=row>m$host_phy</th><td>   0.1611586</td><td>0.001       </td><td>m$host_phy  </td><td>0.1277226   </td><td>0.001       </td><td>237.8517    </td><td>1           </td></tr>\n",
       "\t<tr><th scope=row>m$diet</th><td>   0.3059564</td><td>0.001       </td><td>m$diet      </td><td>0.1277226   </td><td>0.001       </td><td>237.8517    </td><td>1           </td></tr>\n",
       "</tbody>\n",
       "</table>\n"
      ],
      "text/latex": [
       "\\begin{tabular}{r|lllllll}\n",
       "  & coef & coef\\_pval & variable & R2 & pval & F & rep\\\\\n",
       "\\hline\n",
       "\tInt & 2162.7429169 & 1.000        & Int          & 0.1277226    & 0.001        & 237.8517     & 1           \\\\\n",
       "\tm\\$host\\_phy &    0.1611586   & 0.001          & m\\$host\\_phy & 0.1277226      & 0.001          & 237.8517       & 1             \\\\\n",
       "\tm\\$diet &    0.3059564 & 0.001        & m\\$diet     & 0.1277226    & 0.001        & 237.8517     & 1           \\\\\n",
       "\\end{tabular}\n"
      ],
      "text/markdown": [
       "\n",
       "| <!--/--> | coef | coef_pval | variable | R2 | pval | F | rep | \n",
       "|---|---|---|\n",
       "| Int | 2162.7429169 | 1.000        | Int          | 0.1277226    | 0.001        | 237.8517     | 1            | \n",
       "| m$host_phy |    0.1611586 | 0.001        | m$host_phy   | 0.1277226    | 0.001        | 237.8517     | 1            | \n",
       "| m$diet |    0.3059564 | 0.001        | m$diet       | 0.1277226    | 0.001        | 237.8517     | 1            | \n",
       "\n",
       "\n"
      ],
      "text/plain": [
       "           coef         coef_pval variable   R2        pval  F        rep\n",
       "Int        2162.7429169 1.000     Int        0.1277226 0.001 237.8517 1  \n",
       "m$host_phy    0.1611586 0.001     m$host_phy 0.1277226 0.001 237.8517 1  \n",
       "m$diet        0.3059564 0.001     m$diet     0.1277226 0.001 237.8517 1  "
      ]
     },
     "metadata": {},
     "output_type": "display_data"
    }
   ],
   "source": [
    "# MRM on each permutation (in parallel)\n",
    "doParallel::registerDoParallel(threads)\n",
    "x = as.list(1:length(m_perm))\n",
    "f = 'm$beta ~ m$host_phy + m$diet + m$habitat + m$geo + m$samp'\n",
    "mrm_res = plyr::llply(x, mrm_each, L=m_perm, f=f, nperm=nperm, .parallel=TRUE)\n",
    "mrm_res = do.call(rbind, mrm_res)\n",
    "mrm_res %>% dfhead"
   ]
  },
  {
   "cell_type": "code",
   "execution_count": 48,
   "metadata": {
    "ExecuteTime": {
     "end_time": "2018-10-19T13:27:11.178171Z",
     "start_time": "2018-10-19T13:26:17.440Z"
    }
   },
   "outputs": [
    {
     "data": {
      "text/plain": [
       "       R2              pval            rep        \n",
       " Min.   :0.1047   Min.   :0.001   Min.   :  1.00  \n",
       " 1st Qu.:0.1222   1st Qu.:0.001   1st Qu.: 25.75  \n",
       " Median :0.1275   Median :0.001   Median : 50.50  \n",
       " Mean   :0.1269   Mean   :0.001   Mean   : 50.50  \n",
       " 3rd Qu.:0.1319   3rd Qu.:0.001   3rd Qu.: 75.25  \n",
       " Max.   :0.1509   Max.   :0.001   Max.   :100.00  "
      ]
     },
     "metadata": {},
     "output_type": "display_data"
    }
   ],
   "source": [
    "# summary of overall model\n",
    "mrm_res %>%\n",
    "    distinct(R2, pval, rep) %>%\n",
    "    summary"
   ]
  },
  {
   "cell_type": "code",
   "execution_count": 49,
   "metadata": {
    "ExecuteTime": {
     "end_time": "2018-10-19T13:27:12.902639Z",
     "start_time": "2018-10-19T13:26:17.444Z"
    }
   },
   "outputs": [
    {
     "name": "stderr",
     "output_type": "stream",
     "text": [
      "Warning message:\n",
      "“Column `variable`/`old_name` joining character vector and factor, coercing into character vector”"
     ]
    },
    {
     "name": "stdout",
     "output_type": "stream",
     "text": [
      "File written: /ebio/abt3_projects/Georg_animal_feces/notebooks/16S/3_modulating_factors/MRM/3_TT/beta_div/.figures/MRM_IndD_uwUnif_model2.pdf \n"
     ]
    },
    {
     "data": {
      "image/png": "[encoded data removed]",
      "text/plain": [
       "plot without title"
      ]
     },
     "metadata": {},
     "output_type": "display_data"
    }
   ],
   "source": [
    "# formatting output\n",
    "mrm_res_s = mrm_res %>% \n",
    "    filter(variable != 'Int') %>%\n",
    "    gather(category, value, -variable, -R2, -pval, -F, -rep) %>%\n",
    "    mutate(category = ifelse(category == 'coef', 'Coef.', 'Adj. P-value'))\n",
    "\n",
    "mrm_res_s = mrm_res_s %>%\n",
    "    inner_join(rename_df, c('variable'='old_name')) %>%\n",
    "    dplyr::select(-variable) %>%\n",
    "    rename('variable' = new_name)              \n",
    "\n",
    "# changing coef scale\n",
    "df = mrm_res_s %>%\n",
    "    filter(category == 'Coef.') %>%\n",
    "    mutate(value = 0.41) %>%\n",
    "    .[1,]\n",
    "\n",
    "# plotting\n",
    "p = ggplot(mrm_res_s, aes(variable, value)) +\n",
    "    geom_boxplot() +\n",
    "    geom_point(data=df, alpha=0) +\n",
    "    facet_grid(category ~ ., scales='free_y') +\n",
    "    theme_bw() \n",
    "\n",
    "options(repr.plot.width=5, repr.plot.height=3)\n",
    "plot_write(p, file='MRM_IndD_uwUnif_model2.pdf')"
   ]
  },
  {
   "cell_type": "code",
   "execution_count": 50,
   "metadata": {
    "ExecuteTime": {
     "end_time": "2018-10-19T13:27:12.958439Z",
     "start_time": "2018-10-19T13:26:17.450Z"
    }
   },
   "outputs": [
    {
     "data": {
      "text/html": [
       "<table>\n",
       "<thead><tr><th scope=col>variable</th><th scope=col>pval_sensitivity</th><th scope=col>sig_pval_sensitivity</th></tr></thead>\n",
       "<tbody>\n",
       "\t<tr><td>Int       </td><td>1.00      </td><td>FALSE     </td></tr>\n",
       "\t<tr><td>m$diet    </td><td>0.00      </td><td> TRUE     </td></tr>\n",
       "\t<tr><td>m$geo     </td><td>0.57      </td><td>FALSE     </td></tr>\n",
       "\t<tr><td>m$habitat </td><td>0.93      </td><td>FALSE     </td></tr>\n",
       "\t<tr><td>m$host_phy</td><td>0.00      </td><td> TRUE     </td></tr>\n",
       "\t<tr><td>m$samp    </td><td>0.38      </td><td>FALSE     </td></tr>\n",
       "</tbody>\n",
       "</table>\n"
      ],
      "text/latex": [
       "\\begin{tabular}{r|lll}\n",
       " variable & pval\\_sensitivity & sig\\_pval\\_sensitivity\\\\\n",
       "\\hline\n",
       "\t Int        & 1.00       & FALSE     \\\\\n",
       "\t m\\$diet     & 0.00         &  TRUE       \\\\\n",
       "\t m\\$geo      & 0.57         & FALSE       \\\\\n",
       "\t m\\$habitat  & 0.93         & FALSE       \\\\\n",
       "\t m\\$host\\_phy & 0.00           &  TRUE         \\\\\n",
       "\t m\\$samp     & 0.38         & FALSE       \\\\\n",
       "\\end{tabular}\n"
      ],
      "text/markdown": [
       "\n",
       "variable | pval_sensitivity | sig_pval_sensitivity | \n",
       "|---|---|---|---|---|---|\n",
       "| Int        | 1.00       | FALSE      | \n",
       "| m$diet     | 0.00       |  TRUE      | \n",
       "| m$geo      | 0.57       | FALSE      | \n",
       "| m$habitat  | 0.93       | FALSE      | \n",
       "| m$host_phy | 0.00       |  TRUE      | \n",
       "| m$samp     | 0.38       | FALSE      | \n",
       "\n",
       "\n"
      ],
      "text/plain": [
       "  variable   pval_sensitivity sig_pval_sensitivity\n",
       "1 Int        1.00             FALSE               \n",
       "2 m$diet     0.00              TRUE               \n",
       "3 m$geo      0.57             FALSE               \n",
       "4 m$habitat  0.93             FALSE               \n",
       "5 m$host_phy 0.00              TRUE               \n",
       "6 m$samp     0.38             FALSE               "
      ]
     },
     "metadata": {},
     "output_type": "display_data"
    }
   ],
   "source": [
    "# significance\n",
    "mrm_res %>% \n",
    "    group_by(variable) %>%\n",
    "    summarize(pval_sensitivity = 1 - sum(coef_pval < 0.05) / length(pval)) %>%\n",
    "    ungroup() %>%\n",
    "    mutate(sig_pval_sensitivity = pval_sensitivity < 0.05)"
   ]
  },
  {
   "cell_type": "markdown",
   "metadata": {},
   "source": [
    "### Bray-Curtis"
   ]
  },
  {
   "cell_type": "code",
   "execution_count": 51,
   "metadata": {
    "ExecuteTime": {
     "end_time": "2018-10-19T13:27:17.666097Z",
     "start_time": "2018-10-19T13:26:17.454Z"
    }
   },
   "outputs": [
    {
     "data": {
      "text/html": [
       "100"
      ],
      "text/latex": [
       "100"
      ],
      "text/markdown": [
       "100"
      ],
      "text/plain": [
       "[1] 100"
      ]
     },
     "metadata": {},
     "output_type": "display_data"
    }
   ],
   "source": [
    "# creating multiple distance matrices\n",
    "L = list(beta = beta_d$bray_curtis,\n",
    "         host_phy = host_tree_d_o,\n",
    "         diet = dietD_d_o,\n",
    "         digest = dtD_d_o, \n",
    "         habitat = habitatD_d_o,\n",
    "         geo = geo_d_o,\n",
    "         samp = samp_d_o)\n",
    "m_perm = lapply(as.list(1:nperm_datasets), function(x) one_per_group(L, df_grps, x))\n",
    "m_perm %>% length           "
   ]
  },
  {
   "cell_type": "markdown",
   "metadata": {},
   "source": [
    "#### Model 1"
   ]
  },
  {
   "cell_type": "code",
   "execution_count": 52,
   "metadata": {
    "ExecuteTime": {
     "end_time": "2018-10-19T13:27:22.693937Z",
     "start_time": "2018-10-19T13:26:17.460Z"
    }
   },
   "outputs": [
    {
     "name": "stdout",
     "output_type": "stream",
     "text": [
      "[1] 700   7\n"
     ]
    },
    {
     "data": {
      "text/html": [
       "<table>\n",
       "<thead><tr><th></th><th scope=col>coef</th><th scope=col>coef_pval</th><th scope=col>variable</th><th scope=col>R2</th><th scope=col>pval</th><th scope=col>F</th><th scope=col>rep</th></tr></thead>\n",
       "<tbody>\n",
       "\t<tr><th scope=row>Int</th><td>3.307202e+03</td><td>1.000       </td><td>Int         </td><td>0.02280625  </td><td>0.001       </td><td>31.58868    </td><td>1           </td></tr>\n",
       "\t<tr><th scope=row>m$host_phy</th><td>5.863784e-02</td><td>0.005       </td><td>m$host_phy  </td><td>0.02280625  </td><td>0.001       </td><td>31.58868    </td><td>1           </td></tr>\n",
       "\t<tr><th scope=row>m$diet</th><td>1.044882e-01</td><td>0.001       </td><td>m$diet      </td><td>0.02280625  </td><td>0.001       </td><td>31.58868    </td><td>1           </td></tr>\n",
       "</tbody>\n",
       "</table>\n"
      ],
      "text/latex": [
       "\\begin{tabular}{r|lllllll}\n",
       "  & coef & coef\\_pval & variable & R2 & pval & F & rep\\\\\n",
       "\\hline\n",
       "\tInt & 3.307202e+03 & 1.000        & Int          & 0.02280625   & 0.001        & 31.58868     & 1           \\\\\n",
       "\tm\\$host\\_phy & 5.863784e-02   & 0.005          & m\\$host\\_phy & 0.02280625     & 0.001          & 31.58868       & 1             \\\\\n",
       "\tm\\$diet & 1.044882e-01 & 0.001        & m\\$diet     & 0.02280625   & 0.001        & 31.58868     & 1           \\\\\n",
       "\\end{tabular}\n"
      ],
      "text/markdown": [
       "\n",
       "| <!--/--> | coef | coef_pval | variable | R2 | pval | F | rep | \n",
       "|---|---|---|\n",
       "| Int | 3.307202e+03 | 1.000        | Int          | 0.02280625   | 0.001        | 31.58868     | 1            | \n",
       "| m$host_phy | 5.863784e-02 | 0.005        | m$host_phy   | 0.02280625   | 0.001        | 31.58868     | 1            | \n",
       "| m$diet | 1.044882e-01 | 0.001        | m$diet       | 0.02280625   | 0.001        | 31.58868     | 1            | \n",
       "\n",
       "\n"
      ],
      "text/plain": [
       "           coef         coef_pval variable   R2         pval  F        rep\n",
       "Int        3.307202e+03 1.000     Int        0.02280625 0.001 31.58868 1  \n",
       "m$host_phy 5.863784e-02 0.005     m$host_phy 0.02280625 0.001 31.58868 1  \n",
       "m$diet     1.044882e-01 0.001     m$diet     0.02280625 0.001 31.58868 1  "
      ]
     },
     "metadata": {},
     "output_type": "display_data"
    }
   ],
   "source": [
    "# MRM on each permutation (in parallel)\n",
    "doParallel::registerDoParallel(threads)\n",
    "x = as.list(1:length(m_perm))\n",
    "f = 'm$beta ~ m$host_phy + m$diet + m$digest + m$habitat + m$geo + m$samp'\n",
    "mrm_res = plyr::llply(x, mrm_each, L=m_perm, f=f, nperm=nperm, .parallel=TRUE)\n",
    "mrm_res = do.call(rbind, mrm_res)\n",
    "mrm_res %>% dfhead"
   ]
  },
  {
   "cell_type": "code",
   "execution_count": 53,
   "metadata": {
    "ExecuteTime": {
     "end_time": "2018-10-19T13:27:22.740546Z",
     "start_time": "2018-10-19T13:26:17.464Z"
    }
   },
   "outputs": [
    {
     "data": {
      "text/plain": [
       "       R2               pval            rep        \n",
       " Min.   :0.01664   Min.   :0.001   Min.   :  1.00  \n",
       " 1st Qu.:0.02083   1st Qu.:0.001   1st Qu.: 25.75  \n",
       " Median :0.02279   Median :0.001   Median : 50.50  \n",
       " Mean   :0.02302   Mean   :0.001   Mean   : 50.50  \n",
       " 3rd Qu.:0.02478   3rd Qu.:0.001   3rd Qu.: 75.25  \n",
       " Max.   :0.03093   Max.   :0.001   Max.   :100.00  "
      ]
     },
     "metadata": {},
     "output_type": "display_data"
    }
   ],
   "source": [
    "# summary of overall model\n",
    "mrm_res %>%\n",
    "    distinct(R2, pval, rep) %>%\n",
    "    summary"
   ]
  },
  {
   "cell_type": "code",
   "execution_count": 54,
   "metadata": {
    "ExecuteTime": {
     "end_time": "2018-10-19T13:27:23.891536Z",
     "start_time": "2018-10-19T13:26:17.469Z"
    }
   },
   "outputs": [
    {
     "name": "stderr",
     "output_type": "stream",
     "text": [
      "Warning message:\n",
      "“Column `variable`/`old_name` joining character vector and factor, coercing into character vector”"
     ]
    },
    {
     "data": {
      "image/png": "[encoded data removed]",
      "text/plain": [
       "plot without title"
      ]
     },
     "metadata": {},
     "output_type": "display_data"
    }
   ],
   "source": [
    "# formatting output\n",
    "mrm_res_s = mrm_res %>% \n",
    "    filter(variable != 'Int') %>%\n",
    "    gather(category, value, -variable, -R2, -pval, -F, -rep) %>%\n",
    "    mutate(category = ifelse(category == 'coef', 'Coef.', 'Adj. P-value'))\n",
    "\n",
    "mrm_res_s = mrm_res_s %>%\n",
    "    inner_join(rename_df, c('variable'='old_name')) %>%\n",
    "    dplyr::select(-variable) %>%\n",
    "    rename('variable' = new_name)            \n",
    "\n",
    "p = ggplot(mrm_res_s, aes(variable, value)) +\n",
    "    geom_boxplot() +\n",
    "    facet_grid(category ~ ., scales='free_y') +\n",
    "    theme_bw()\n",
    "\n",
    "options(repr.plot.width=5, repr.plot.height=3)\n",
    "plot(p)"
   ]
  },
  {
   "cell_type": "code",
   "execution_count": 55,
   "metadata": {
    "ExecuteTime": {
     "end_time": "2018-10-19T13:27:23.939722Z",
     "start_time": "2018-10-19T13:26:17.473Z"
    }
   },
   "outputs": [
    {
     "data": {
      "text/html": [
       "<table>\n",
       "<thead><tr><th scope=col>variable</th><th scope=col>pval_sensitivity</th><th scope=col>sig_pval_sensitivity</th></tr></thead>\n",
       "<tbody>\n",
       "\t<tr><td>Int       </td><td>1.00      </td><td>FALSE     </td></tr>\n",
       "\t<tr><td>m$diet    </td><td>0.00      </td><td> TRUE     </td></tr>\n",
       "\t<tr><td>m$digest  </td><td>0.81      </td><td>FALSE     </td></tr>\n",
       "\t<tr><td>m$geo     </td><td>0.85      </td><td>FALSE     </td></tr>\n",
       "\t<tr><td>m$habitat </td><td>0.99      </td><td>FALSE     </td></tr>\n",
       "\t<tr><td>m$host_phy</td><td>0.01      </td><td> TRUE     </td></tr>\n",
       "\t<tr><td>m$samp    </td><td>1.00      </td><td>FALSE     </td></tr>\n",
       "</tbody>\n",
       "</table>\n"
      ],
      "text/latex": [
       "\\begin{tabular}{r|lll}\n",
       " variable & pval\\_sensitivity & sig\\_pval\\_sensitivity\\\\\n",
       "\\hline\n",
       "\t Int        & 1.00       & FALSE     \\\\\n",
       "\t m\\$diet     & 0.00         &  TRUE       \\\\\n",
       "\t m\\$digest   & 0.81         & FALSE       \\\\\n",
       "\t m\\$geo      & 0.85         & FALSE       \\\\\n",
       "\t m\\$habitat  & 0.99         & FALSE       \\\\\n",
       "\t m\\$host\\_phy & 0.01           &  TRUE         \\\\\n",
       "\t m\\$samp     & 1.00         & FALSE       \\\\\n",
       "\\end{tabular}\n"
      ],
      "text/markdown": [
       "\n",
       "variable | pval_sensitivity | sig_pval_sensitivity | \n",
       "|---|---|---|---|---|---|---|\n",
       "| Int        | 1.00       | FALSE      | \n",
       "| m$diet     | 0.00       |  TRUE      | \n",
       "| m$digest   | 0.81       | FALSE      | \n",
       "| m$geo      | 0.85       | FALSE      | \n",
       "| m$habitat  | 0.99       | FALSE      | \n",
       "| m$host_phy | 0.01       |  TRUE      | \n",
       "| m$samp     | 1.00       | FALSE      | \n",
       "\n",
       "\n"
      ],
      "text/plain": [
       "  variable   pval_sensitivity sig_pval_sensitivity\n",
       "1 Int        1.00             FALSE               \n",
       "2 m$diet     0.00              TRUE               \n",
       "3 m$digest   0.81             FALSE               \n",
       "4 m$geo      0.85             FALSE               \n",
       "5 m$habitat  0.99             FALSE               \n",
       "6 m$host_phy 0.01              TRUE               \n",
       "7 m$samp     1.00             FALSE               "
      ]
     },
     "metadata": {},
     "output_type": "display_data"
    }
   ],
   "source": [
    "# significance\n",
    "mrm_res %>% \n",
    "    group_by(variable) %>%\n",
    "    summarize(pval_sensitivity = 1 - sum(coef_pval < 0.05) / length(pval)) %>%\n",
    "    ungroup() %>%\n",
    "    mutate(sig_pval_sensitivity = pval_sensitivity < 0.05)"
   ]
  },
  {
   "cell_type": "markdown",
   "metadata": {},
   "source": [
    "#### Model 2"
   ]
  },
  {
   "cell_type": "code",
   "execution_count": 56,
   "metadata": {
    "ExecuteTime": {
     "end_time": "2018-10-19T13:27:28.559913Z",
     "start_time": "2018-10-19T13:26:17.478Z"
    }
   },
   "outputs": [
    {
     "name": "stdout",
     "output_type": "stream",
     "text": [
      "[1] 600   7\n"
     ]
    },
    {
     "data": {
      "text/html": [
       "<table>\n",
       "<thead><tr><th></th><th scope=col>coef</th><th scope=col>coef_pval</th><th scope=col>variable</th><th scope=col>R2</th><th scope=col>pval</th><th scope=col>F</th><th scope=col>rep</th></tr></thead>\n",
       "<tbody>\n",
       "\t<tr><th scope=row>Int</th><td>3.475013e+03</td><td>1.000       </td><td>Int         </td><td>0.02075645  </td><td>0.001       </td><td>34.43144    </td><td>1           </td></tr>\n",
       "\t<tr><th scope=row>m$host_phy</th><td>4.446637e-02</td><td>0.018       </td><td>m$host_phy  </td><td>0.02075645  </td><td>0.001       </td><td>34.43144    </td><td>1           </td></tr>\n",
       "\t<tr><th scope=row>m$diet</th><td>1.184058e-01</td><td>0.001       </td><td>m$diet      </td><td>0.02075645  </td><td>0.001       </td><td>34.43144    </td><td>1           </td></tr>\n",
       "</tbody>\n",
       "</table>\n"
      ],
      "text/latex": [
       "\\begin{tabular}{r|lllllll}\n",
       "  & coef & coef\\_pval & variable & R2 & pval & F & rep\\\\\n",
       "\\hline\n",
       "\tInt & 3.475013e+03 & 1.000        & Int          & 0.02075645   & 0.001        & 34.43144     & 1           \\\\\n",
       "\tm\\$host\\_phy & 4.446637e-02   & 0.018          & m\\$host\\_phy & 0.02075645     & 0.001          & 34.43144       & 1             \\\\\n",
       "\tm\\$diet & 1.184058e-01 & 0.001        & m\\$diet     & 0.02075645   & 0.001        & 34.43144     & 1           \\\\\n",
       "\\end{tabular}\n"
      ],
      "text/markdown": [
       "\n",
       "| <!--/--> | coef | coef_pval | variable | R2 | pval | F | rep | \n",
       "|---|---|---|\n",
       "| Int | 3.475013e+03 | 1.000        | Int          | 0.02075645   | 0.001        | 34.43144     | 1            | \n",
       "| m$host_phy | 4.446637e-02 | 0.018        | m$host_phy   | 0.02075645   | 0.001        | 34.43144     | 1            | \n",
       "| m$diet | 1.184058e-01 | 0.001        | m$diet       | 0.02075645   | 0.001        | 34.43144     | 1            | \n",
       "\n",
       "\n"
      ],
      "text/plain": [
       "           coef         coef_pval variable   R2         pval  F        rep\n",
       "Int        3.475013e+03 1.000     Int        0.02075645 0.001 34.43144 1  \n",
       "m$host_phy 4.446637e-02 0.018     m$host_phy 0.02075645 0.001 34.43144 1  \n",
       "m$diet     1.184058e-01 0.001     m$diet     0.02075645 0.001 34.43144 1  "
      ]
     },
     "metadata": {},
     "output_type": "display_data"
    }
   ],
   "source": [
    "# MRM on each permutation (in parallel)\n",
    "doParallel::registerDoParallel(threads)\n",
    "x = as.list(1:length(m_perm))\n",
    "f = 'm$beta ~ m$host_phy + m$diet + m$habitat + m$geo + m$samp'\n",
    "mrm_res = plyr::llply(x, mrm_each, L=m_perm, f=f, nperm=nperm, .parallel=TRUE)\n",
    "mrm_res = do.call(rbind, mrm_res)\n",
    "mrm_res %>% dfhead"
   ]
  },
  {
   "cell_type": "code",
   "execution_count": 57,
   "metadata": {
    "ExecuteTime": {
     "end_time": "2018-10-19T13:27:28.603453Z",
     "start_time": "2018-10-19T13:26:17.483Z"
    }
   },
   "outputs": [
    {
     "data": {
      "text/plain": [
       "       R2               pval            rep        \n",
       " Min.   :0.01590   Min.   :0.001   Min.   :  1.00  \n",
       " 1st Qu.:0.02011   1st Qu.:0.001   1st Qu.: 25.75  \n",
       " Median :0.02193   Median :0.001   Median : 50.50  \n",
       " Mean   :0.02197   Mean   :0.001   Mean   : 50.50  \n",
       " 3rd Qu.:0.02377   3rd Qu.:0.001   3rd Qu.: 75.25  \n",
       " Max.   :0.02944   Max.   :0.001   Max.   :100.00  "
      ]
     },
     "metadata": {},
     "output_type": "display_data"
    }
   ],
   "source": [
    "# summary of overall model\n",
    "mrm_res %>%\n",
    "    distinct(R2, pval, rep) %>%\n",
    "    summary"
   ]
  },
  {
   "cell_type": "code",
   "execution_count": 58,
   "metadata": {
    "ExecuteTime": {
     "end_time": "2018-10-19T13:27:30.315259Z",
     "start_time": "2018-10-19T13:26:17.486Z"
    }
   },
   "outputs": [
    {
     "name": "stderr",
     "output_type": "stream",
     "text": [
      "Warning message:\n",
      "“Column `variable`/`old_name` joining character vector and factor, coercing into character vector”"
     ]
    },
    {
     "name": "stdout",
     "output_type": "stream",
     "text": [
      "File written: /ebio/abt3_projects/Georg_animal_feces/notebooks/16S/3_modulating_factors/MRM/3_TT/beta_div/.figures/MRM_IndD_BC_model2.pdf \n"
     ]
    },
    {
     "data": {
      "image/png": "[encoded data removed]",
      "text/plain": [
       "plot without title"
      ]
     },
     "metadata": {},
     "output_type": "display_data"
    }
   ],
   "source": [
    "# formatting output\n",
    "mrm_res_s = mrm_res %>% \n",
    "    filter(variable != 'Int') %>%\n",
    "    gather(category, value, -variable, -R2, -pval, -F, -rep) %>%\n",
    "    mutate(category = ifelse(category == 'coef', 'Coef.', 'Adj. P-value'))\n",
    "\n",
    "mrm_res_s = mrm_res_s %>%\n",
    "    inner_join(rename_df, c('variable'='old_name')) %>%\n",
    "    dplyr::select(-variable) %>%\n",
    "    rename('variable' = new_name)            \n",
    "\n",
    "# changing coef scale\n",
    "df = mrm_res_s %>%\n",
    "    filter(category == 'Coef.') %>%\n",
    "    mutate(value = 0.41) %>%\n",
    "    .[1,]\n",
    "\n",
    "# plotting\n",
    "p = ggplot(mrm_res_s, aes(variable, value)) +\n",
    "    geom_boxplot() +\n",
    "    geom_point(data=df, alpha=0) +\n",
    "    facet_grid(category ~ ., scales='free_y') +\n",
    "    theme_bw() \n",
    "\n",
    "options(repr.plot.width=5, repr.plot.height=3)\n",
    "plot_write(p, file='MRM_IndD_BC_model2.pdf')"
   ]
  },
  {
   "cell_type": "code",
   "execution_count": 59,
   "metadata": {
    "ExecuteTime": {
     "end_time": "2018-10-19T13:27:30.358239Z",
     "start_time": "2018-10-19T13:26:17.490Z"
    }
   },
   "outputs": [
    {
     "data": {
      "text/html": [
       "<table>\n",
       "<thead><tr><th scope=col>variable</th><th scope=col>pval_sensitivity</th><th scope=col>sig_pval_sensitivity</th></tr></thead>\n",
       "<tbody>\n",
       "\t<tr><td>Int       </td><td>1.00      </td><td>FALSE     </td></tr>\n",
       "\t<tr><td>m$diet    </td><td>0.00      </td><td> TRUE     </td></tr>\n",
       "\t<tr><td>m$geo     </td><td>0.95      </td><td>FALSE     </td></tr>\n",
       "\t<tr><td>m$habitat </td><td>0.99      </td><td>FALSE     </td></tr>\n",
       "\t<tr><td>m$host_phy</td><td>0.27      </td><td>FALSE     </td></tr>\n",
       "\t<tr><td>m$samp    </td><td>1.00      </td><td>FALSE     </td></tr>\n",
       "</tbody>\n",
       "</table>\n"
      ],
      "text/latex": [
       "\\begin{tabular}{r|lll}\n",
       " variable & pval\\_sensitivity & sig\\_pval\\_sensitivity\\\\\n",
       "\\hline\n",
       "\t Int        & 1.00       & FALSE     \\\\\n",
       "\t m\\$diet     & 0.00         &  TRUE       \\\\\n",
       "\t m\\$geo      & 0.95         & FALSE       \\\\\n",
       "\t m\\$habitat  & 0.99         & FALSE       \\\\\n",
       "\t m\\$host\\_phy & 0.27           & FALSE         \\\\\n",
       "\t m\\$samp     & 1.00         & FALSE       \\\\\n",
       "\\end{tabular}\n"
      ],
      "text/markdown": [
       "\n",
       "variable | pval_sensitivity | sig_pval_sensitivity | \n",
       "|---|---|---|---|---|---|\n",
       "| Int        | 1.00       | FALSE      | \n",
       "| m$diet     | 0.00       |  TRUE      | \n",
       "| m$geo      | 0.95       | FALSE      | \n",
       "| m$habitat  | 0.99       | FALSE      | \n",
       "| m$host_phy | 0.27       | FALSE      | \n",
       "| m$samp     | 1.00       | FALSE      | \n",
       "\n",
       "\n"
      ],
      "text/plain": [
       "  variable   pval_sensitivity sig_pval_sensitivity\n",
       "1 Int        1.00             FALSE               \n",
       "2 m$diet     0.00              TRUE               \n",
       "3 m$geo      0.95             FALSE               \n",
       "4 m$habitat  0.99             FALSE               \n",
       "5 m$host_phy 0.27             FALSE               \n",
       "6 m$samp     1.00             FALSE               "
      ]
     },
     "metadata": {},
     "output_type": "display_data"
    }
   ],
   "source": [
    "# significance\n",
    "mrm_res %>% \n",
    "    group_by(variable) %>%\n",
    "    summarize(pval_sensitivity = 1 - sum(coef_pval < 0.05) / length(pval)) %>%\n",
    "    ungroup() %>%\n",
    "    mutate(sig_pval_sensitivity = pval_sensitivity < 0.05)"
   ]
  },
  {
   "cell_type": "markdown",
   "metadata": {},
   "source": [
    "### Jaccard"
   ]
  },
  {
   "cell_type": "code",
   "execution_count": 60,
   "metadata": {
    "ExecuteTime": {
     "end_time": "2018-10-19T13:27:35.379786Z",
     "start_time": "2018-10-19T13:26:17.493Z"
    }
   },
   "outputs": [
    {
     "data": {
      "text/html": [
       "100"
      ],
      "text/latex": [
       "100"
      ],
      "text/markdown": [
       "100"
      ],
      "text/plain": [
       "[1] 100"
      ]
     },
     "metadata": {},
     "output_type": "display_data"
    }
   ],
   "source": [
    "# creating multiple distance matrices\n",
    "L = list(beta = beta_d$jaccard,\n",
    "         host_phy = host_tree_d_o,\n",
    "         diet = dietD_d_o,\n",
    "         digest = dtD_d_o, \n",
    "         habitat = habitatD_d_o,\n",
    "         geo = geo_d_o,\n",
    "         samp = samp_d_o)\n",
    "m_perm = lapply(as.list(1:nperm_datasets), function(x) one_per_group(L, df_grps, x))\n",
    "m_perm %>% length           "
   ]
  },
  {
   "cell_type": "markdown",
   "metadata": {},
   "source": [
    "#### Model 1"
   ]
  },
  {
   "cell_type": "code",
   "execution_count": 61,
   "metadata": {
    "ExecuteTime": {
     "end_time": "2018-10-19T13:27:40.475674Z",
     "start_time": "2018-10-19T13:26:17.497Z"
    }
   },
   "outputs": [
    {
     "name": "stdout",
     "output_type": "stream",
     "text": [
      "[1] 700   7\n"
     ]
    },
    {
     "data": {
      "text/html": [
       "<table>\n",
       "<thead><tr><th></th><th scope=col>coef</th><th scope=col>coef_pval</th><th scope=col>variable</th><th scope=col>R2</th><th scope=col>pval</th><th scope=col>F</th><th scope=col>rep</th></tr></thead>\n",
       "<tbody>\n",
       "\t<tr><th scope=row>Int</th><td>3.279674e+03</td><td>1.000       </td><td>Int         </td><td>0.02679915  </td><td>0.001       </td><td>37.27149    </td><td>1           </td></tr>\n",
       "\t<tr><th scope=row>m$host_phy</th><td>2.931532e-02</td><td>0.157       </td><td>m$host_phy  </td><td>0.02679915  </td><td>0.001       </td><td>37.27149    </td><td>1           </td></tr>\n",
       "\t<tr><th scope=row>m$diet</th><td>1.121923e-01</td><td>0.001       </td><td>m$diet      </td><td>0.02679915  </td><td>0.001       </td><td>37.27149    </td><td>1           </td></tr>\n",
       "</tbody>\n",
       "</table>\n"
      ],
      "text/latex": [
       "\\begin{tabular}{r|lllllll}\n",
       "  & coef & coef\\_pval & variable & R2 & pval & F & rep\\\\\n",
       "\\hline\n",
       "\tInt & 3.279674e+03 & 1.000        & Int          & 0.02679915   & 0.001        & 37.27149     & 1           \\\\\n",
       "\tm\\$host\\_phy & 2.931532e-02   & 0.157          & m\\$host\\_phy & 0.02679915     & 0.001          & 37.27149       & 1             \\\\\n",
       "\tm\\$diet & 1.121923e-01 & 0.001        & m\\$diet     & 0.02679915   & 0.001        & 37.27149     & 1           \\\\\n",
       "\\end{tabular}\n"
      ],
      "text/markdown": [
       "\n",
       "| <!--/--> | coef | coef_pval | variable | R2 | pval | F | rep | \n",
       "|---|---|---|\n",
       "| Int | 3.279674e+03 | 1.000        | Int          | 0.02679915   | 0.001        | 37.27149     | 1            | \n",
       "| m$host_phy | 2.931532e-02 | 0.157        | m$host_phy   | 0.02679915   | 0.001        | 37.27149     | 1            | \n",
       "| m$diet | 1.121923e-01 | 0.001        | m$diet       | 0.02679915   | 0.001        | 37.27149     | 1            | \n",
       "\n",
       "\n"
      ],
      "text/plain": [
       "           coef         coef_pval variable   R2         pval  F        rep\n",
       "Int        3.279674e+03 1.000     Int        0.02679915 0.001 37.27149 1  \n",
       "m$host_phy 2.931532e-02 0.157     m$host_phy 0.02679915 0.001 37.27149 1  \n",
       "m$diet     1.121923e-01 0.001     m$diet     0.02679915 0.001 37.27149 1  "
      ]
     },
     "metadata": {},
     "output_type": "display_data"
    }
   ],
   "source": [
    "# MRM on each permutation (in parallel)\n",
    "doParallel::registerDoParallel(threads)\n",
    "x = as.list(1:length(m_perm))\n",
    "f = 'm$beta ~ m$host_phy + m$diet + m$digest + m$habitat + m$geo + m$samp'\n",
    "mrm_res = plyr::llply(x, mrm_each, L=m_perm, f=f, nperm=nperm, .parallel=TRUE)\n",
    "mrm_res = do.call(rbind, mrm_res)\n",
    "mrm_res %>% dfhead"
   ]
  },
  {
   "cell_type": "code",
   "execution_count": 62,
   "metadata": {
    "ExecuteTime": {
     "end_time": "2018-10-19T13:27:40.520950Z",
     "start_time": "2018-10-19T13:26:17.503Z"
    }
   },
   "outputs": [
    {
     "data": {
      "text/plain": [
       "       R2               pval            rep        \n",
       " Min.   :0.02296   Min.   :0.001   Min.   :  1.00  \n",
       " 1st Qu.:0.02899   1st Qu.:0.001   1st Qu.: 25.75  \n",
       " Median :0.03108   Median :0.001   Median : 50.50  \n",
       " Mean   :0.03116   Mean   :0.001   Mean   : 50.50  \n",
       " 3rd Qu.:0.03276   3rd Qu.:0.001   3rd Qu.: 75.25  \n",
       " Max.   :0.04212   Max.   :0.001   Max.   :100.00  "
      ]
     },
     "metadata": {},
     "output_type": "display_data"
    }
   ],
   "source": [
    "# summary of overall model\n",
    "mrm_res %>%\n",
    "    distinct(R2, pval, rep) %>%\n",
    "    summary"
   ]
  },
  {
   "cell_type": "code",
   "execution_count": 63,
   "metadata": {
    "ExecuteTime": {
     "end_time": "2018-10-19T13:27:41.737059Z",
     "start_time": "2018-10-19T13:26:17.507Z"
    }
   },
   "outputs": [
    {
     "name": "stderr",
     "output_type": "stream",
     "text": [
      "Warning message:\n",
      "“Column `variable`/`old_name` joining character vector and factor, coercing into character vector”"
     ]
    },
    {
     "data": {
      "image/png": "[encoded data removed]",
      "text/plain": [
       "plot without title"
      ]
     },
     "metadata": {},
     "output_type": "display_data"
    }
   ],
   "source": [
    "# formatting output\n",
    "mrm_res_s = mrm_res %>% \n",
    "    filter(variable != 'Int') %>%\n",
    "    gather(category, value, -variable, -R2, -pval, -F, -rep) %>%\n",
    "    mutate(category = ifelse(category == 'coef', 'Coef.', 'Adj. P-value'))\n",
    "\n",
    "mrm_res_s = mrm_res_s %>%\n",
    "    inner_join(rename_df, c('variable'='old_name')) %>%\n",
    "    dplyr::select(-variable) %>%\n",
    "    rename('variable' = new_name)             \n",
    "\n",
    "p = ggplot(mrm_res_s, aes(variable, value)) +\n",
    "    geom_boxplot() +\n",
    "    facet_grid(category ~ ., scales='free_y') +\n",
    "    theme_bw()\n",
    "\n",
    "options(repr.plot.width=5, repr.plot.height=3)\n",
    "plot(p)"
   ]
  },
  {
   "cell_type": "code",
   "execution_count": 64,
   "metadata": {
    "ExecuteTime": {
     "end_time": "2018-10-19T13:27:41.789153Z",
     "start_time": "2018-10-19T13:26:17.511Z"
    }
   },
   "outputs": [
    {
     "data": {
      "text/html": [
       "<table>\n",
       "<thead><tr><th scope=col>variable</th><th scope=col>pval_sensitivity</th><th scope=col>sig_pval_sensitivity</th></tr></thead>\n",
       "<tbody>\n",
       "\t<tr><td>Int       </td><td>1.00      </td><td>FALSE     </td></tr>\n",
       "\t<tr><td>m$diet    </td><td>0.00      </td><td> TRUE     </td></tr>\n",
       "\t<tr><td>m$digest  </td><td>0.00      </td><td> TRUE     </td></tr>\n",
       "\t<tr><td>m$geo     </td><td>0.97      </td><td>FALSE     </td></tr>\n",
       "\t<tr><td>m$habitat </td><td>1.00      </td><td>FALSE     </td></tr>\n",
       "\t<tr><td>m$host_phy</td><td>0.26      </td><td>FALSE     </td></tr>\n",
       "\t<tr><td>m$samp    </td><td>1.00      </td><td>FALSE     </td></tr>\n",
       "</tbody>\n",
       "</table>\n"
      ],
      "text/latex": [
       "\\begin{tabular}{r|lll}\n",
       " variable & pval\\_sensitivity & sig\\_pval\\_sensitivity\\\\\n",
       "\\hline\n",
       "\t Int        & 1.00       & FALSE     \\\\\n",
       "\t m\\$diet     & 0.00         &  TRUE       \\\\\n",
       "\t m\\$digest   & 0.00         &  TRUE       \\\\\n",
       "\t m\\$geo      & 0.97         & FALSE       \\\\\n",
       "\t m\\$habitat  & 1.00         & FALSE       \\\\\n",
       "\t m\\$host\\_phy & 0.26           & FALSE         \\\\\n",
       "\t m\\$samp     & 1.00         & FALSE       \\\\\n",
       "\\end{tabular}\n"
      ],
      "text/markdown": [
       "\n",
       "variable | pval_sensitivity | sig_pval_sensitivity | \n",
       "|---|---|---|---|---|---|---|\n",
       "| Int        | 1.00       | FALSE      | \n",
       "| m$diet     | 0.00       |  TRUE      | \n",
       "| m$digest   | 0.00       |  TRUE      | \n",
       "| m$geo      | 0.97       | FALSE      | \n",
       "| m$habitat  | 1.00       | FALSE      | \n",
       "| m$host_phy | 0.26       | FALSE      | \n",
       "| m$samp     | 1.00       | FALSE      | \n",
       "\n",
       "\n"
      ],
      "text/plain": [
       "  variable   pval_sensitivity sig_pval_sensitivity\n",
       "1 Int        1.00             FALSE               \n",
       "2 m$diet     0.00              TRUE               \n",
       "3 m$digest   0.00              TRUE               \n",
       "4 m$geo      0.97             FALSE               \n",
       "5 m$habitat  1.00             FALSE               \n",
       "6 m$host_phy 0.26             FALSE               \n",
       "7 m$samp     1.00             FALSE               "
      ]
     },
     "metadata": {},
     "output_type": "display_data"
    }
   ],
   "source": [
    "# significance\n",
    "mrm_res %>% \n",
    "    group_by(variable) %>%\n",
    "    summarize(pval_sensitivity = 1 - sum(coef_pval < 0.05) / length(pval)) %>%\n",
    "    ungroup() %>%\n",
    "    mutate(sig_pval_sensitivity = pval_sensitivity < 0.05)"
   ]
  },
  {
   "cell_type": "markdown",
   "metadata": {},
   "source": [
    "#### Model 2"
   ]
  },
  {
   "cell_type": "code",
   "execution_count": 65,
   "metadata": {
    "ExecuteTime": {
     "end_time": "2018-10-19T13:27:46.463341Z",
     "start_time": "2018-10-19T13:26:17.515Z"
    }
   },
   "outputs": [
    {
     "name": "stdout",
     "output_type": "stream",
     "text": [
      "[1] 600   7\n"
     ]
    },
    {
     "data": {
      "text/html": [
       "<table>\n",
       "<thead><tr><th></th><th scope=col>coef</th><th scope=col>coef_pval</th><th scope=col>variable</th><th scope=col>R2</th><th scope=col>pval</th><th scope=col>F</th><th scope=col>rep</th></tr></thead>\n",
       "<tbody>\n",
       "\t<tr><th scope=row>Int</th><td>3.544432e+03</td><td>0.996       </td><td>Int         </td><td>0.02167096  </td><td>0.001       </td><td>35.98207    </td><td>1           </td></tr>\n",
       "\t<tr><th scope=row>m$host_phy</th><td>6.554646e-03</td><td>0.743       </td><td>m$host_phy  </td><td>0.02167096  </td><td>0.001       </td><td>35.98207    </td><td>1           </td></tr>\n",
       "\t<tr><th scope=row>m$diet</th><td>1.344514e-01</td><td>0.001       </td><td>m$diet      </td><td>0.02167096  </td><td>0.001       </td><td>35.98207    </td><td>1           </td></tr>\n",
       "</tbody>\n",
       "</table>\n"
      ],
      "text/latex": [
       "\\begin{tabular}{r|lllllll}\n",
       "  & coef & coef\\_pval & variable & R2 & pval & F & rep\\\\\n",
       "\\hline\n",
       "\tInt & 3.544432e+03 & 0.996        & Int          & 0.02167096   & 0.001        & 35.98207     & 1           \\\\\n",
       "\tm\\$host\\_phy & 6.554646e-03   & 0.743          & m\\$host\\_phy & 0.02167096     & 0.001          & 35.98207       & 1             \\\\\n",
       "\tm\\$diet & 1.344514e-01 & 0.001        & m\\$diet     & 0.02167096   & 0.001        & 35.98207     & 1           \\\\\n",
       "\\end{tabular}\n"
      ],
      "text/markdown": [
       "\n",
       "| <!--/--> | coef | coef_pval | variable | R2 | pval | F | rep | \n",
       "|---|---|---|\n",
       "| Int | 3.544432e+03 | 0.996        | Int          | 0.02167096   | 0.001        | 35.98207     | 1            | \n",
       "| m$host_phy | 6.554646e-03 | 0.743        | m$host_phy   | 0.02167096   | 0.001        | 35.98207     | 1            | \n",
       "| m$diet | 1.344514e-01 | 0.001        | m$diet       | 0.02167096   | 0.001        | 35.98207     | 1            | \n",
       "\n",
       "\n"
      ],
      "text/plain": [
       "           coef         coef_pval variable   R2         pval  F        rep\n",
       "Int        3.544432e+03 0.996     Int        0.02167096 0.001 35.98207 1  \n",
       "m$host_phy 6.554646e-03 0.743     m$host_phy 0.02167096 0.001 35.98207 1  \n",
       "m$diet     1.344514e-01 0.001     m$diet     0.02167096 0.001 35.98207 1  "
      ]
     },
     "metadata": {},
     "output_type": "display_data"
    }
   ],
   "source": [
    "# MRM on each permutation (in parallel)\n",
    "doParallel::registerDoParallel(threads)\n",
    "x = as.list(1:length(m_perm))\n",
    "f = 'm$beta ~ m$host_phy + m$diet + m$habitat + m$geo + m$samp'\n",
    "mrm_res = plyr::llply(x, mrm_each, L=m_perm, f=f, nperm=nperm, .parallel=TRUE)\n",
    "mrm_res = do.call(rbind, mrm_res)\n",
    "mrm_res %>% dfhead"
   ]
  },
  {
   "cell_type": "code",
   "execution_count": 66,
   "metadata": {
    "ExecuteTime": {
     "end_time": "2018-10-19T13:27:46.511566Z",
     "start_time": "2018-10-19T13:26:17.519Z"
    }
   },
   "outputs": [
    {
     "data": {
      "text/plain": [
       "       R2               pval            rep        \n",
       " Min.   :0.01881   Min.   :0.001   Min.   :  1.00  \n",
       " 1st Qu.:0.02293   1st Qu.:0.001   1st Qu.: 25.75  \n",
       " Median :0.02450   Median :0.001   Median : 50.50  \n",
       " Mean   :0.02492   Mean   :0.001   Mean   : 50.50  \n",
       " 3rd Qu.:0.02664   3rd Qu.:0.001   3rd Qu.: 75.25  \n",
       " Max.   :0.03421   Max.   :0.001   Max.   :100.00  "
      ]
     },
     "metadata": {},
     "output_type": "display_data"
    }
   ],
   "source": [
    "# summary of overall model\n",
    "mrm_res %>%\n",
    "    distinct(R2, pval, rep) %>%\n",
    "    summary"
   ]
  },
  {
   "cell_type": "code",
   "execution_count": 67,
   "metadata": {
    "ExecuteTime": {
     "end_time": "2018-10-19T13:27:48.566895Z",
     "start_time": "2018-10-19T13:26:17.522Z"
    }
   },
   "outputs": [
    {
     "name": "stderr",
     "output_type": "stream",
     "text": [
      "Warning message:\n",
      "“Column `variable`/`old_name` joining character vector and factor, coercing into character vector”"
     ]
    },
    {
     "name": "stdout",
     "output_type": "stream",
     "text": [
      "File written: /ebio/abt3_projects/Georg_animal_feces/notebooks/16S/3_modulating_factors/MRM/3_TT/beta_div/.figures/MRM_IndD_Jac_model2.pdf \n"
     ]
    },
    {
     "data": {
      "image/png": "[encoded data removed]",
      "text/plain": [
       "plot without title"
      ]
     },
     "metadata": {},
     "output_type": "display_data"
    }
   ],
   "source": [
    "# formatting output\n",
    "mrm_res_s = mrm_res %>% \n",
    "    filter(variable != 'Int') %>%\n",
    "    gather(category, value, -variable, -R2, -pval, -F, -rep) %>%\n",
    "    mutate(category = ifelse(category == 'coef', 'Coef.', 'Adj. P-value'))\n",
    "\n",
    "mrm_res_s = mrm_res_s %>%\n",
    "    inner_join(rename_df, c('variable'='old_name')) %>%\n",
    "    dplyr::select(-variable) %>%\n",
    "    rename('variable' = new_name)             \n",
    "\n",
    "# changing coef scale\n",
    "df = mrm_res_s %>%\n",
    "    filter(category == 'Coef.') %>%\n",
    "    mutate(value = 0.41) %>%\n",
    "    .[1,]\n",
    "\n",
    "# plotting\n",
    "p = ggplot(mrm_res_s, aes(variable, value)) +\n",
    "    geom_boxplot() +\n",
    "    geom_point(data=df, alpha=0) +\n",
    "    facet_grid(category ~ ., scales='free_y') +\n",
    "    theme_bw() \n",
    "\n",
    "options(repr.plot.width=5, repr.plot.height=3)\n",
    "plot_write(p, file='MRM_IndD_Jac_model2.pdf')"
   ]
  },
  {
   "cell_type": "code",
   "execution_count": 68,
   "metadata": {
    "ExecuteTime": {
     "end_time": "2018-10-19T13:27:48.633493Z",
     "start_time": "2018-10-19T13:26:17.529Z"
    }
   },
   "outputs": [
    {
     "data": {
      "text/html": [
       "<table>\n",
       "<thead><tr><th scope=col>variable</th><th scope=col>pval_sensitivity</th><th scope=col>sig_pval_sensitivity</th></tr></thead>\n",
       "<tbody>\n",
       "\t<tr><td>Int       </td><td>1.00      </td><td>FALSE     </td></tr>\n",
       "\t<tr><td>m$diet    </td><td>0.00      </td><td> TRUE     </td></tr>\n",
       "\t<tr><td>m$geo     </td><td>1.00      </td><td>FALSE     </td></tr>\n",
       "\t<tr><td>m$habitat </td><td>1.00      </td><td>FALSE     </td></tr>\n",
       "\t<tr><td>m$host_phy</td><td>0.98      </td><td>FALSE     </td></tr>\n",
       "\t<tr><td>m$samp    </td><td>1.00      </td><td>FALSE     </td></tr>\n",
       "</tbody>\n",
       "</table>\n"
      ],
      "text/latex": [
       "\\begin{tabular}{r|lll}\n",
       " variable & pval\\_sensitivity & sig\\_pval\\_sensitivity\\\\\n",
       "\\hline\n",
       "\t Int        & 1.00       & FALSE     \\\\\n",
       "\t m\\$diet     & 0.00         &  TRUE       \\\\\n",
       "\t m\\$geo      & 1.00         & FALSE       \\\\\n",
       "\t m\\$habitat  & 1.00         & FALSE       \\\\\n",
       "\t m\\$host\\_phy & 0.98           & FALSE         \\\\\n",
       "\t m\\$samp     & 1.00         & FALSE       \\\\\n",
       "\\end{tabular}\n"
      ],
      "text/markdown": [
       "\n",
       "variable | pval_sensitivity | sig_pval_sensitivity | \n",
       "|---|---|---|---|---|---|\n",
       "| Int        | 1.00       | FALSE      | \n",
       "| m$diet     | 0.00       |  TRUE      | \n",
       "| m$geo      | 1.00       | FALSE      | \n",
       "| m$habitat  | 1.00       | FALSE      | \n",
       "| m$host_phy | 0.98       | FALSE      | \n",
       "| m$samp     | 1.00       | FALSE      | \n",
       "\n",
       "\n"
      ],
      "text/plain": [
       "  variable   pval_sensitivity sig_pval_sensitivity\n",
       "1 Int        1.00             FALSE               \n",
       "2 m$diet     0.00              TRUE               \n",
       "3 m$geo      1.00             FALSE               \n",
       "4 m$habitat  1.00             FALSE               \n",
       "5 m$host_phy 0.98             FALSE               \n",
       "6 m$samp     1.00             FALSE               "
      ]
     },
     "metadata": {},
     "output_type": "display_data"
    }
   ],
   "source": [
    "# significance\n",
    "mrm_res %>% \n",
    "    group_by(variable) %>%\n",
    "    summarize(pval_sensitivity = 1 - sum(coef_pval < 0.05) / length(pval)) %>%\n",
    "    ungroup() %>%\n",
    "    mutate(sig_pval_sensitivity = pval_sensitivity < 0.05)"
   ]
  },
  {
   "cell_type": "markdown",
   "metadata": {},
   "source": [
    "## One sample per host family"
   ]
  },
  {
   "cell_type": "code",
   "execution_count": 69,
   "metadata": {
    "ExecuteTime": {
     "end_time": "2018-10-19T13:27:48.711065Z",
     "start_time": "2018-10-19T13:26:17.533Z"
    }
   },
   "outputs": [
    {
     "name": "stdout",
     "output_type": "stream",
     "text": [
      "[1] 213   2\n"
     ]
    },
    {
     "data": {
      "text/html": [
       "<table>\n",
       "<thead><tr><th scope=col>X.SampleID</th><th scope=col>family</th></tr></thead>\n",
       "<tbody>\n",
       "\t<tr><td>X1.Eurasian.Beaver</td><td>Castoridae        </td></tr>\n",
       "\t<tr><td>X101.Horse        </td><td>Equidae           </td></tr>\n",
       "\t<tr><td>X102.Kulan        </td><td>Equidae           </td></tr>\n",
       "</tbody>\n",
       "</table>\n"
      ],
      "text/latex": [
       "\\begin{tabular}{r|ll}\n",
       " X.SampleID & family\\\\\n",
       "\\hline\n",
       "\t X1.Eurasian.Beaver & Castoridae        \\\\\n",
       "\t X101.Horse         & Equidae           \\\\\n",
       "\t X102.Kulan         & Equidae           \\\\\n",
       "\\end{tabular}\n"
      ],
      "text/markdown": [
       "\n",
       "X.SampleID | family | \n",
       "|---|---|---|\n",
       "| X1.Eurasian.Beaver | Castoridae         | \n",
       "| X101.Horse         | Equidae            | \n",
       "| X102.Kulan         | Equidae            | \n",
       "\n",
       "\n"
      ],
      "text/plain": [
       "  X.SampleID         family    \n",
       "1 X1.Eurasian.Beaver Castoridae\n",
       "2 X101.Horse         Equidae   \n",
       "3 X102.Kulan         Equidae   "
      ]
     },
     "metadata": {},
     "output_type": "display_data"
    }
   ],
   "source": [
    "# grouping samples by species\n",
    "df_grps = metadata %>% \n",
    "    filter(X.SampleID %in% labels(dietD_d_o)) %>%\n",
    "    dplyr::select(X.SampleID, family)\n",
    "df_grps %>% dfhead"
   ]
  },
  {
   "cell_type": "markdown",
   "metadata": {},
   "source": [
    "### Weighted Unifrac"
   ]
  },
  {
   "cell_type": "code",
   "execution_count": 70,
   "metadata": {
    "ExecuteTime": {
     "end_time": "2018-10-19T13:27:52.644304Z",
     "start_time": "2018-10-19T13:26:17.538Z"
    }
   },
   "outputs": [
    {
     "data": {
      "text/html": [
       "100"
      ],
      "text/latex": [
       "100"
      ],
      "text/markdown": [
       "100"
      ],
      "text/plain": [
       "[1] 100"
      ]
     },
     "metadata": {},
     "output_type": "display_data"
    }
   ],
   "source": [
    "# creating multiple distance matrices\n",
    "L = list(beta = beta_d$weighted_unifrac,\n",
    "         host_phy = host_tree_d_o,\n",
    "         diet = dietD_d_o,\n",
    "         digest = dtD_d_o, \n",
    "         habitat = habitatD_d_o,\n",
    "         geo = geo_d_o,\n",
    "         samp = samp_d_o)\n",
    "\n",
    "m_perm = lapply(as.list(1:nperm_datasets), function(x) one_per_group(L, df_grps, x))\n",
    "m_perm %>% length           "
   ]
  },
  {
   "cell_type": "code",
   "execution_count": 71,
   "metadata": {
    "ExecuteTime": {
     "end_time": "2018-10-19T13:27:52.679949Z",
     "start_time": "2018-10-19T13:26:17.542Z"
    }
   },
   "outputs": [
    {
     "data": {
      "text/html": [
       "<ol class=list-inline>\n",
       "\t<li>73</li>\n",
       "\t<li>73</li>\n",
       "</ol>\n"
      ],
      "text/latex": [
       "\\begin{enumerate*}\n",
       "\\item 73\n",
       "\\item 73\n",
       "\\end{enumerate*}\n"
      ],
      "text/markdown": [
       "1. 73\n",
       "2. 73\n",
       "\n",
       "\n"
      ],
      "text/plain": [
       "[1] 73 73"
      ]
     },
     "metadata": {},
     "output_type": "display_data"
    }
   ],
   "source": [
    "# check on sample size\n",
    "m_perm[[1]][[1]] %>% as.matrix %>% dim"
   ]
  },
  {
   "cell_type": "markdown",
   "metadata": {},
   "source": [
    "#### Model 1"
   ]
  },
  {
   "cell_type": "code",
   "execution_count": 72,
   "metadata": {
    "ExecuteTime": {
     "end_time": "2018-10-19T13:27:54.508184Z",
     "start_time": "2018-10-19T13:26:17.547Z"
    }
   },
   "outputs": [
    {
     "name": "stdout",
     "output_type": "stream",
     "text": [
      "[1] 700   7\n"
     ]
    },
    {
     "data": {
      "text/html": [
       "<table>\n",
       "<thead><tr><th></th><th scope=col>coef</th><th scope=col>coef_pval</th><th scope=col>variable</th><th scope=col>R2</th><th scope=col>pval</th><th scope=col>F</th><th scope=col>rep</th></tr></thead>\n",
       "<tbody>\n",
       "\t<tr><th scope=row>Int</th><td>679.22251581</td><td>0.998       </td><td>Int         </td><td>0.04878742  </td><td>0.066       </td><td>22.40505    </td><td>1           </td></tr>\n",
       "\t<tr><th scope=row>m$host_phy</th><td>  0.08291404</td><td>0.196       </td><td>m$host_phy  </td><td>0.04878742  </td><td>0.066       </td><td>22.40505    </td><td>1           </td></tr>\n",
       "\t<tr><th scope=row>m$diet</th><td>  0.16132317</td><td>0.001       </td><td>m$diet      </td><td>0.04878742  </td><td>0.066       </td><td>22.40505    </td><td>1           </td></tr>\n",
       "</tbody>\n",
       "</table>\n"
      ],
      "text/latex": [
       "\\begin{tabular}{r|lllllll}\n",
       "  & coef & coef\\_pval & variable & R2 & pval & F & rep\\\\\n",
       "\\hline\n",
       "\tInt & 679.22251581 & 0.998        & Int          & 0.04878742   & 0.066        & 22.40505     & 1           \\\\\n",
       "\tm\\$host\\_phy &   0.08291404   & 0.196          & m\\$host\\_phy & 0.04878742     & 0.066          & 22.40505       & 1             \\\\\n",
       "\tm\\$diet &   0.16132317 & 0.001        & m\\$diet     & 0.04878742   & 0.066        & 22.40505     & 1           \\\\\n",
       "\\end{tabular}\n"
      ],
      "text/markdown": [
       "\n",
       "| <!--/--> | coef | coef_pval | variable | R2 | pval | F | rep | \n",
       "|---|---|---|\n",
       "| Int | 679.22251581 | 0.998        | Int          | 0.04878742   | 0.066        | 22.40505     | 1            | \n",
       "| m$host_phy |   0.08291404 | 0.196        | m$host_phy   | 0.04878742   | 0.066        | 22.40505     | 1            | \n",
       "| m$diet |   0.16132317 | 0.001        | m$diet       | 0.04878742   | 0.066        | 22.40505     | 1            | \n",
       "\n",
       "\n"
      ],
      "text/plain": [
       "           coef         coef_pval variable   R2         pval  F        rep\n",
       "Int        679.22251581 0.998     Int        0.04878742 0.066 22.40505 1  \n",
       "m$host_phy   0.08291404 0.196     m$host_phy 0.04878742 0.066 22.40505 1  \n",
       "m$diet       0.16132317 0.001     m$diet     0.04878742 0.066 22.40505 1  "
      ]
     },
     "metadata": {},
     "output_type": "display_data"
    }
   ],
   "source": [
    "# MRM on each permutation (in parallel)\n",
    "doParallel::registerDoParallel(threads)\n",
    "x = as.list(1:length(m_perm))\n",
    "f = 'm$beta ~ m$host_phy + m$diet + m$digest + m$habitat + m$geo + m$samp'\n",
    "mrm_res = plyr::llply(x, mrm_each, L=m_perm, f=f, nperm=nperm, .parallel=TRUE)\n",
    "mrm_res = do.call(rbind, mrm_res)\n",
    "mrm_res %>% dfhead"
   ]
  },
  {
   "cell_type": "code",
   "execution_count": 73,
   "metadata": {
    "ExecuteTime": {
     "end_time": "2018-10-19T13:27:54.553786Z",
     "start_time": "2018-10-19T13:26:17.550Z"
    }
   },
   "outputs": [
    {
     "data": {
      "text/plain": [
       "       R2               pval              rep        \n",
       " Min.   :0.01549   Min.   :0.00100   Min.   :  1.00  \n",
       " 1st Qu.:0.04342   1st Qu.:0.01175   1st Qu.: 25.75  \n",
       " Median :0.05291   Median :0.03300   Median : 50.50  \n",
       " Mean   :0.05403   Mean   :0.06306   Mean   : 50.50  \n",
       " 3rd Qu.:0.06195   3rd Qu.:0.08150   3rd Qu.: 75.25  \n",
       " Max.   :0.10324   Max.   :0.65900   Max.   :100.00  "
      ]
     },
     "metadata": {},
     "output_type": "display_data"
    }
   ],
   "source": [
    "# summary of overall model\n",
    "mrm_res %>%\n",
    "    distinct(R2, pval, rep) %>%\n",
    "    summary"
   ]
  },
  {
   "cell_type": "code",
   "execution_count": 74,
   "metadata": {
    "ExecuteTime": {
     "end_time": "2018-10-19T13:27:55.768145Z",
     "start_time": "2018-10-19T13:26:17.554Z"
    }
   },
   "outputs": [
    {
     "name": "stderr",
     "output_type": "stream",
     "text": [
      "Warning message:\n",
      "“Column `variable`/`old_name` joining character vector and factor, coercing into character vector”"
     ]
    },
    {
     "data": {
      "image/png": "[encoded data removed]",
      "text/plain": [
       "plot without title"
      ]
     },
     "metadata": {},
     "output_type": "display_data"
    }
   ],
   "source": [
    "# formatting output\n",
    "mrm_res_s = mrm_res %>% \n",
    "    filter(variable != 'Int') %>%\n",
    "    gather(category, value, -variable, -R2, -pval, -F, -rep)  %>%\n",
    "    mutate(category = ifelse(category == 'coef', 'Coef.', 'Adj. P-value'))\n",
    "\n",
    "mrm_res_s = mrm_res_s %>%\n",
    "    inner_join(rename_df, c('variable'='old_name')) %>%\n",
    "    dplyr::select(-variable) %>%\n",
    "    rename('variable' = new_name)            \n",
    "\n",
    "p = ggplot(mrm_res_s, aes(variable, value)) +\n",
    "    geom_boxplot() +\n",
    "    facet_grid(category ~ ., scales='free_y') +\n",
    "    theme_bw()\n",
    "\n",
    "options(repr.plot.width=5, repr.plot.height=3)\n",
    "plot(p)"
   ]
  },
  {
   "cell_type": "code",
   "execution_count": 75,
   "metadata": {
    "ExecuteTime": {
     "end_time": "2018-10-19T13:27:55.819757Z",
     "start_time": "2018-10-19T13:26:17.557Z"
    }
   },
   "outputs": [
    {
     "data": {
      "text/html": [
       "<table>\n",
       "<thead><tr><th scope=col>variable</th><th scope=col>pval_sensitivity</th><th scope=col>sig_pval_sensitivity</th></tr></thead>\n",
       "<tbody>\n",
       "\t<tr><td>Int       </td><td>1.00      </td><td>FALSE     </td></tr>\n",
       "\t<tr><td>m$diet    </td><td>0.00      </td><td> TRUE     </td></tr>\n",
       "\t<tr><td>m$digest  </td><td>1.00      </td><td>FALSE     </td></tr>\n",
       "\t<tr><td>m$geo     </td><td>0.98      </td><td>FALSE     </td></tr>\n",
       "\t<tr><td>m$habitat </td><td>0.99      </td><td>FALSE     </td></tr>\n",
       "\t<tr><td>m$host_phy</td><td>0.98      </td><td>FALSE     </td></tr>\n",
       "\t<tr><td>m$samp    </td><td>0.95      </td><td>FALSE     </td></tr>\n",
       "</tbody>\n",
       "</table>\n"
      ],
      "text/latex": [
       "\\begin{tabular}{r|lll}\n",
       " variable & pval\\_sensitivity & sig\\_pval\\_sensitivity\\\\\n",
       "\\hline\n",
       "\t Int        & 1.00       & FALSE     \\\\\n",
       "\t m\\$diet     & 0.00         &  TRUE       \\\\\n",
       "\t m\\$digest   & 1.00         & FALSE       \\\\\n",
       "\t m\\$geo      & 0.98         & FALSE       \\\\\n",
       "\t m\\$habitat  & 0.99         & FALSE       \\\\\n",
       "\t m\\$host\\_phy & 0.98           & FALSE         \\\\\n",
       "\t m\\$samp     & 0.95         & FALSE       \\\\\n",
       "\\end{tabular}\n"
      ],
      "text/markdown": [
       "\n",
       "variable | pval_sensitivity | sig_pval_sensitivity | \n",
       "|---|---|---|---|---|---|---|\n",
       "| Int        | 1.00       | FALSE      | \n",
       "| m$diet     | 0.00       |  TRUE      | \n",
       "| m$digest   | 1.00       | FALSE      | \n",
       "| m$geo      | 0.98       | FALSE      | \n",
       "| m$habitat  | 0.99       | FALSE      | \n",
       "| m$host_phy | 0.98       | FALSE      | \n",
       "| m$samp     | 0.95       | FALSE      | \n",
       "\n",
       "\n"
      ],
      "text/plain": [
       "  variable   pval_sensitivity sig_pval_sensitivity\n",
       "1 Int        1.00             FALSE               \n",
       "2 m$diet     0.00              TRUE               \n",
       "3 m$digest   1.00             FALSE               \n",
       "4 m$geo      0.98             FALSE               \n",
       "5 m$habitat  0.99             FALSE               \n",
       "6 m$host_phy 0.98             FALSE               \n",
       "7 m$samp     0.95             FALSE               "
      ]
     },
     "metadata": {},
     "output_type": "display_data"
    }
   ],
   "source": [
    "# significance\n",
    "mrm_res %>% \n",
    "    group_by(variable) %>%\n",
    "    summarize(pval_sensitivity = 1 - sum(coef_pval < 0.05) / length(pval)) %>%\n",
    "    ungroup() %>%\n",
    "    mutate(sig_pval_sensitivity = pval_sensitivity < 0.05)"
   ]
  },
  {
   "cell_type": "markdown",
   "metadata": {},
   "source": [
    "#### Model 2"
   ]
  },
  {
   "cell_type": "code",
   "execution_count": 76,
   "metadata": {
    "ExecuteTime": {
     "end_time": "2018-10-19T13:27:57.435137Z",
     "start_time": "2018-10-19T13:26:17.562Z"
    }
   },
   "outputs": [
    {
     "name": "stdout",
     "output_type": "stream",
     "text": [
      "[1] 600   7\n"
     ]
    },
    {
     "data": {
      "text/html": [
       "<table>\n",
       "<thead><tr><th></th><th scope=col>coef</th><th scope=col>coef_pval</th><th scope=col>variable</th><th scope=col>R2</th><th scope=col>pval</th><th scope=col>F</th><th scope=col>rep</th></tr></thead>\n",
       "<tbody>\n",
       "\t<tr><th scope=row>Int</th><td>781.94003046</td><td>1.000       </td><td>Int         </td><td>0.04502825  </td><td>0.046       </td><td>24.72619    </td><td>1           </td></tr>\n",
       "\t<tr><th scope=row>m$host_phy</th><td>  0.05897222</td><td>0.380       </td><td>m$host_phy  </td><td>0.04502825  </td><td>0.046       </td><td>24.72619    </td><td>1           </td></tr>\n",
       "\t<tr><th scope=row>m$diet</th><td>  0.18480444</td><td>0.001       </td><td>m$diet      </td><td>0.04502825  </td><td>0.046       </td><td>24.72619    </td><td>1           </td></tr>\n",
       "</tbody>\n",
       "</table>\n"
      ],
      "text/latex": [
       "\\begin{tabular}{r|lllllll}\n",
       "  & coef & coef\\_pval & variable & R2 & pval & F & rep\\\\\n",
       "\\hline\n",
       "\tInt & 781.94003046 & 1.000        & Int          & 0.04502825   & 0.046        & 24.72619     & 1           \\\\\n",
       "\tm\\$host\\_phy &   0.05897222   & 0.380          & m\\$host\\_phy & 0.04502825     & 0.046          & 24.72619       & 1             \\\\\n",
       "\tm\\$diet &   0.18480444 & 0.001        & m\\$diet     & 0.04502825   & 0.046        & 24.72619     & 1           \\\\\n",
       "\\end{tabular}\n"
      ],
      "text/markdown": [
       "\n",
       "| <!--/--> | coef | coef_pval | variable | R2 | pval | F | rep | \n",
       "|---|---|---|\n",
       "| Int | 781.94003046 | 1.000        | Int          | 0.04502825   | 0.046        | 24.72619     | 1            | \n",
       "| m$host_phy |   0.05897222 | 0.380        | m$host_phy   | 0.04502825   | 0.046        | 24.72619     | 1            | \n",
       "| m$diet |   0.18480444 | 0.001        | m$diet       | 0.04502825   | 0.046        | 24.72619     | 1            | \n",
       "\n",
       "\n"
      ],
      "text/plain": [
       "           coef         coef_pval variable   R2         pval  F        rep\n",
       "Int        781.94003046 1.000     Int        0.04502825 0.046 24.72619 1  \n",
       "m$host_phy   0.05897222 0.380     m$host_phy 0.04502825 0.046 24.72619 1  \n",
       "m$diet       0.18480444 0.001     m$diet     0.04502825 0.046 24.72619 1  "
      ]
     },
     "metadata": {},
     "output_type": "display_data"
    }
   ],
   "source": [
    "# MRM on each permutation (in parallel)\n",
    "doParallel::registerDoParallel(threads)\n",
    "x = as.list(1:length(m_perm))\n",
    "f = 'm$beta ~ m$host_phy + m$diet + m$habitat + m$geo + m$samp'\n",
    "mrm_res = plyr::llply(x, mrm_each, L=m_perm, f=f, nperm=nperm, .parallel=TRUE)\n",
    "mrm_res = do.call(rbind, mrm_res)\n",
    "mrm_res %>% dfhead"
   ]
  },
  {
   "cell_type": "code",
   "execution_count": 77,
   "metadata": {
    "ExecuteTime": {
     "end_time": "2018-10-19T13:27:57.480119Z",
     "start_time": "2018-10-19T13:26:17.566Z"
    }
   },
   "outputs": [
    {
     "data": {
      "text/plain": [
       "       R2               pval             rep        \n",
       " Min.   :0.01542   Min.   :0.0010   Min.   :  1.00  \n",
       " 1st Qu.:0.04051   1st Qu.:0.0060   1st Qu.: 25.75  \n",
       " Median :0.05172   Median :0.0160   Median : 50.50  \n",
       " Mean   :0.05206   Mean   :0.0437   Mean   : 50.50  \n",
       " 3rd Qu.:0.06157   3rd Qu.:0.0550   3rd Qu.: 75.25  \n",
       " Max.   :0.10303   Max.   :0.5260   Max.   :100.00  "
      ]
     },
     "metadata": {},
     "output_type": "display_data"
    }
   ],
   "source": [
    "# summary of overall model\n",
    "mrm_res %>%\n",
    "    distinct(R2, pval, rep) %>%\n",
    "    summary"
   ]
  },
  {
   "cell_type": "code",
   "execution_count": 78,
   "metadata": {
    "ExecuteTime": {
     "end_time": "2018-10-19T13:27:59.213635Z",
     "start_time": "2018-10-19T13:26:17.569Z"
    }
   },
   "outputs": [
    {
     "name": "stderr",
     "output_type": "stream",
     "text": [
      "Warning message:\n",
      "“Column `variable`/`old_name` joining character vector and factor, coercing into character vector”"
     ]
    },
    {
     "name": "stdout",
     "output_type": "stream",
     "text": [
      "File written: /ebio/abt3_projects/Georg_animal_feces/notebooks/16S/3_modulating_factors/MRM/3_TT/beta_div/.figures/MRM_IndD-family_wUnif_model2.pdf \n"
     ]
    },
    {
     "data": {
      "image/png": "[encoded data removed]",
      "text/plain": [
       "plot without title"
      ]
     },
     "metadata": {},
     "output_type": "display_data"
    }
   ],
   "source": [
    "# formatting output\n",
    "mrm_res_s = mrm_res %>% \n",
    "    filter(variable != 'Int') %>%\n",
    "    gather(category, value, -variable, -R2, -pval, -F, -rep) %>%\n",
    "    mutate(category = ifelse(category == 'coef', 'Coef.', 'Adj. P-value'))\n",
    "\n",
    "mrm_res_s = mrm_res_s %>%\n",
    "    inner_join(rename_df, c('variable'='old_name')) %>%\n",
    "    dplyr::select(-variable) %>%\n",
    "    rename('variable' = new_name)              \n",
    "\n",
    "# changing coef scale\n",
    "df = mrm_res_s %>%\n",
    "    filter(category == 'Coef.') %>%\n",
    "    mutate(value = 0.41) %>%\n",
    "    .[1,]\n",
    "\n",
    "# plotting\n",
    "p = ggplot(mrm_res_s, aes(variable, value)) +\n",
    "    geom_boxplot() +\n",
    "    geom_point(data=df, alpha=0) +\n",
    "    facet_grid(category ~ ., scales='free_y') +\n",
    "    theme_bw()\n",
    "\n",
    "options(repr.plot.width=5, repr.plot.height=3)\n",
    "plot_write(p, file='MRM_IndD-family_wUnif_model2.pdf')"
   ]
  },
  {
   "cell_type": "code",
   "execution_count": 79,
   "metadata": {
    "ExecuteTime": {
     "end_time": "2018-10-19T13:27:59.279800Z",
     "start_time": "2018-10-19T13:26:17.573Z"
    }
   },
   "outputs": [
    {
     "data": {
      "text/html": [
       "<table>\n",
       "<thead><tr><th scope=col>variable</th><th scope=col>pval_sensitivity</th><th scope=col>sig_pval_sensitivity</th></tr></thead>\n",
       "<tbody>\n",
       "\t<tr><td>Int       </td><td>1.00      </td><td>FALSE     </td></tr>\n",
       "\t<tr><td>m$diet    </td><td>0.00      </td><td> TRUE     </td></tr>\n",
       "\t<tr><td>m$geo     </td><td>0.98      </td><td>FALSE     </td></tr>\n",
       "\t<tr><td>m$habitat </td><td>0.99      </td><td>FALSE     </td></tr>\n",
       "\t<tr><td>m$host_phy</td><td>0.98      </td><td>FALSE     </td></tr>\n",
       "\t<tr><td>m$samp    </td><td>0.95      </td><td>FALSE     </td></tr>\n",
       "</tbody>\n",
       "</table>\n"
      ],
      "text/latex": [
       "\\begin{tabular}{r|lll}\n",
       " variable & pval\\_sensitivity & sig\\_pval\\_sensitivity\\\\\n",
       "\\hline\n",
       "\t Int        & 1.00       & FALSE     \\\\\n",
       "\t m\\$diet     & 0.00         &  TRUE       \\\\\n",
       "\t m\\$geo      & 0.98         & FALSE       \\\\\n",
       "\t m\\$habitat  & 0.99         & FALSE       \\\\\n",
       "\t m\\$host\\_phy & 0.98           & FALSE         \\\\\n",
       "\t m\\$samp     & 0.95         & FALSE       \\\\\n",
       "\\end{tabular}\n"
      ],
      "text/markdown": [
       "\n",
       "variable | pval_sensitivity | sig_pval_sensitivity | \n",
       "|---|---|---|---|---|---|\n",
       "| Int        | 1.00       | FALSE      | \n",
       "| m$diet     | 0.00       |  TRUE      | \n",
       "| m$geo      | 0.98       | FALSE      | \n",
       "| m$habitat  | 0.99       | FALSE      | \n",
       "| m$host_phy | 0.98       | FALSE      | \n",
       "| m$samp     | 0.95       | FALSE      | \n",
       "\n",
       "\n"
      ],
      "text/plain": [
       "  variable   pval_sensitivity sig_pval_sensitivity\n",
       "1 Int        1.00             FALSE               \n",
       "2 m$diet     0.00              TRUE               \n",
       "3 m$geo      0.98             FALSE               \n",
       "4 m$habitat  0.99             FALSE               \n",
       "5 m$host_phy 0.98             FALSE               \n",
       "6 m$samp     0.95             FALSE               "
      ]
     },
     "metadata": {},
     "output_type": "display_data"
    }
   ],
   "source": [
    "# significance\n",
    "mrm_res %>% \n",
    "    group_by(variable) %>%\n",
    "    summarize(pval_sensitivity = 1 - sum(coef_pval < 0.05) / length(pval)) %>%\n",
    "    ungroup() %>%\n",
    "    mutate(sig_pval_sensitivity = pval_sensitivity < 0.05)"
   ]
  },
  {
   "cell_type": "markdown",
   "metadata": {},
   "source": [
    "### Unweighted Unifrac"
   ]
  },
  {
   "cell_type": "code",
   "execution_count": 80,
   "metadata": {
    "ExecuteTime": {
     "end_time": "2018-10-19T13:28:02.996458Z",
     "start_time": "2018-10-19T13:26:17.576Z"
    }
   },
   "outputs": [
    {
     "data": {
      "text/html": [
       "100"
      ],
      "text/latex": [
       "100"
      ],
      "text/markdown": [
       "100"
      ],
      "text/plain": [
       "[1] 100"
      ]
     },
     "metadata": {},
     "output_type": "display_data"
    }
   ],
   "source": [
    "# creating multiple distance matrices\n",
    "L = list(beta = beta_d$unweighted_unifrac,\n",
    "         host_phy = host_tree_d_o,\n",
    "         diet = dietD_d_o,\n",
    "         digest = dtD_d_o, \n",
    "         habitat = habitatD_d_o,\n",
    "         geo = geo_d_o,\n",
    "         samp = samp_d_o)\n",
    "\n",
    "m_perm = lapply(as.list(1:nperm_datasets), function(x) one_per_group(L, df_grps, x))\n",
    "m_perm %>% length           "
   ]
  },
  {
   "cell_type": "code",
   "execution_count": 81,
   "metadata": {
    "ExecuteTime": {
     "end_time": "2018-10-19T13:28:03.030544Z",
     "start_time": "2018-10-19T13:26:17.581Z"
    }
   },
   "outputs": [
    {
     "data": {
      "text/html": [
       "<ol class=list-inline>\n",
       "\t<li>73</li>\n",
       "\t<li>73</li>\n",
       "</ol>\n"
      ],
      "text/latex": [
       "\\begin{enumerate*}\n",
       "\\item 73\n",
       "\\item 73\n",
       "\\end{enumerate*}\n"
      ],
      "text/markdown": [
       "1. 73\n",
       "2. 73\n",
       "\n",
       "\n"
      ],
      "text/plain": [
       "[1] 73 73"
      ]
     },
     "metadata": {},
     "output_type": "display_data"
    }
   ],
   "source": [
    "# check on sample size\n",
    "m_perm[[1]][[1]] %>% as.matrix %>% dim"
   ]
  },
  {
   "cell_type": "markdown",
   "metadata": {},
   "source": [
    "#### Model 1"
   ]
  },
  {
   "cell_type": "code",
   "execution_count": 82,
   "metadata": {
    "ExecuteTime": {
     "end_time": "2018-10-19T13:28:04.809176Z",
     "start_time": "2018-10-19T13:26:17.585Z"
    }
   },
   "outputs": [
    {
     "name": "stdout",
     "output_type": "stream",
     "text": [
      "[1] 700   7\n"
     ]
    },
    {
     "data": {
      "text/html": [
       "<table>\n",
       "<thead><tr><th></th><th scope=col>coef</th><th scope=col>coef_pval</th><th scope=col>variable</th><th scope=col>R2</th><th scope=col>pval</th><th scope=col>F</th><th scope=col>rep</th></tr></thead>\n",
       "<tbody>\n",
       "\t<tr><th scope=row>Int</th><td>707.9251427</td><td>0.999      </td><td>Int        </td><td>0.0746     </td><td>0.001      </td><td>35.21479   </td><td>1          </td></tr>\n",
       "\t<tr><th scope=row>m$host_phy</th><td>  0.1355324</td><td>0.002      </td><td>m$host_phy </td><td>0.0746     </td><td>0.001      </td><td>35.21479   </td><td>1          </td></tr>\n",
       "\t<tr><th scope=row>m$diet</th><td>  0.2110307</td><td>0.001      </td><td>m$diet     </td><td>0.0746     </td><td>0.001      </td><td>35.21479   </td><td>1          </td></tr>\n",
       "</tbody>\n",
       "</table>\n"
      ],
      "text/latex": [
       "\\begin{tabular}{r|lllllll}\n",
       "  & coef & coef\\_pval & variable & R2 & pval & F & rep\\\\\n",
       "\\hline\n",
       "\tInt & 707.9251427 & 0.999       & Int         & 0.0746      & 0.001       & 35.21479    & 1          \\\\\n",
       "\tm\\$host\\_phy &   0.1355324    & 0.002          & m\\$host\\_phy & 0.0746         & 0.001          & 35.21479       & 1             \\\\\n",
       "\tm\\$diet &   0.2110307  & 0.001        & m\\$diet     & 0.0746       & 0.001        & 35.21479     & 1           \\\\\n",
       "\\end{tabular}\n"
      ],
      "text/markdown": [
       "\n",
       "| <!--/--> | coef | coef_pval | variable | R2 | pval | F | rep | \n",
       "|---|---|---|\n",
       "| Int | 707.9251427 | 0.999       | Int         | 0.0746      | 0.001       | 35.21479    | 1           | \n",
       "| m$host_phy |   0.1355324 | 0.002       | m$host_phy  | 0.0746      | 0.001       | 35.21479    | 1           | \n",
       "| m$diet |   0.2110307 | 0.001       | m$diet      | 0.0746      | 0.001       | 35.21479    | 1           | \n",
       "\n",
       "\n"
      ],
      "text/plain": [
       "           coef        coef_pval variable   R2     pval  F        rep\n",
       "Int        707.9251427 0.999     Int        0.0746 0.001 35.21479 1  \n",
       "m$host_phy   0.1355324 0.002     m$host_phy 0.0746 0.001 35.21479 1  \n",
       "m$diet       0.2110307 0.001     m$diet     0.0746 0.001 35.21479 1  "
      ]
     },
     "metadata": {},
     "output_type": "display_data"
    }
   ],
   "source": [
    "# MRM on each permutation (in parallel)\n",
    "doParallel::registerDoParallel(threads)\n",
    "x = as.list(1:length(m_perm))\n",
    "f = 'm$beta ~ m$host_phy + m$diet + m$digest + m$habitat + m$geo + m$samp'\n",
    "mrm_res = plyr::llply(x, mrm_each, L=m_perm, f=f, nperm=nperm, .parallel=TRUE)\n",
    "mrm_res = do.call(rbind, mrm_res)\n",
    "mrm_res %>% dfhead"
   ]
  },
  {
   "cell_type": "code",
   "execution_count": 83,
   "metadata": {
    "ExecuteTime": {
     "end_time": "2018-10-19T13:28:04.855275Z",
     "start_time": "2018-10-19T13:26:17.589Z"
    }
   },
   "outputs": [
    {
     "data": {
      "text/plain": [
       "       R2               pval            rep        \n",
       " Min.   :0.05473   Min.   :0.001   Min.   :  1.00  \n",
       " 1st Qu.:0.08171   1st Qu.:0.001   1st Qu.: 25.75  \n",
       " Median :0.09579   Median :0.001   Median : 50.50  \n",
       " Mean   :0.09446   Mean   :0.001   Mean   : 50.50  \n",
       " 3rd Qu.:0.10606   3rd Qu.:0.001   3rd Qu.: 75.25  \n",
       " Max.   :0.14541   Max.   :0.001   Max.   :100.00  "
      ]
     },
     "metadata": {},
     "output_type": "display_data"
    }
   ],
   "source": [
    "# summary of overall model\n",
    "mrm_res %>%\n",
    "    distinct(R2, pval, rep) %>%\n",
    "    summary"
   ]
  },
  {
   "cell_type": "code",
   "execution_count": 84,
   "metadata": {
    "ExecuteTime": {
     "end_time": "2018-10-19T13:28:06.096420Z",
     "start_time": "2018-10-19T13:26:17.592Z"
    }
   },
   "outputs": [
    {
     "name": "stderr",
     "output_type": "stream",
     "text": [
      "Warning message:\n",
      "“Column `variable`/`old_name` joining character vector and factor, coercing into character vector”"
     ]
    },
    {
     "data": {
      "image/png": "[encoded data removed]",
      "text/plain": [
       "plot without title"
      ]
     },
     "metadata": {},
     "output_type": "display_data"
    }
   ],
   "source": [
    "# formatting output\n",
    "mrm_res_s = mrm_res %>% \n",
    "    filter(variable != 'Int') %>%\n",
    "    gather(category, value, -variable, -R2, -pval, -F, -rep)  %>%\n",
    "    mutate(category = ifelse(category == 'coef', 'Coef.', 'Adj. P-value'))\n",
    "\n",
    "mrm_res_s = mrm_res_s %>%\n",
    "    inner_join(rename_df, c('variable'='old_name')) %>%\n",
    "    dplyr::select(-variable) %>%\n",
    "    rename('variable' = new_name)            \n",
    "\n",
    "p = ggplot(mrm_res_s, aes(variable, value)) +\n",
    "    geom_boxplot() +\n",
    "    facet_grid(category ~ ., scales='free_y') +\n",
    "    theme_bw()\n",
    "\n",
    "options(repr.plot.width=5, repr.plot.height=3)\n",
    "plot(p)"
   ]
  },
  {
   "cell_type": "code",
   "execution_count": 85,
   "metadata": {
    "ExecuteTime": {
     "end_time": "2018-10-19T13:28:06.150143Z",
     "start_time": "2018-10-19T13:26:17.595Z"
    }
   },
   "outputs": [
    {
     "data": {
      "text/html": [
       "<table>\n",
       "<thead><tr><th scope=col>variable</th><th scope=col>pval_sensitivity</th><th scope=col>sig_pval_sensitivity</th></tr></thead>\n",
       "<tbody>\n",
       "\t<tr><td>Int       </td><td>1.00      </td><td>FALSE     </td></tr>\n",
       "\t<tr><td>m$diet    </td><td>0.00      </td><td> TRUE     </td></tr>\n",
       "\t<tr><td>m$digest  </td><td>0.50      </td><td>FALSE     </td></tr>\n",
       "\t<tr><td>m$geo     </td><td>0.93      </td><td>FALSE     </td></tr>\n",
       "\t<tr><td>m$habitat </td><td>1.00      </td><td>FALSE     </td></tr>\n",
       "\t<tr><td>m$host_phy</td><td>0.03      </td><td> TRUE     </td></tr>\n",
       "\t<tr><td>m$samp    </td><td>0.93      </td><td>FALSE     </td></tr>\n",
       "</tbody>\n",
       "</table>\n"
      ],
      "text/latex": [
       "\\begin{tabular}{r|lll}\n",
       " variable & pval\\_sensitivity & sig\\_pval\\_sensitivity\\\\\n",
       "\\hline\n",
       "\t Int        & 1.00       & FALSE     \\\\\n",
       "\t m\\$diet     & 0.00         &  TRUE       \\\\\n",
       "\t m\\$digest   & 0.50         & FALSE       \\\\\n",
       "\t m\\$geo      & 0.93         & FALSE       \\\\\n",
       "\t m\\$habitat  & 1.00         & FALSE       \\\\\n",
       "\t m\\$host\\_phy & 0.03           &  TRUE         \\\\\n",
       "\t m\\$samp     & 0.93         & FALSE       \\\\\n",
       "\\end{tabular}\n"
      ],
      "text/markdown": [
       "\n",
       "variable | pval_sensitivity | sig_pval_sensitivity | \n",
       "|---|---|---|---|---|---|---|\n",
       "| Int        | 1.00       | FALSE      | \n",
       "| m$diet     | 0.00       |  TRUE      | \n",
       "| m$digest   | 0.50       | FALSE      | \n",
       "| m$geo      | 0.93       | FALSE      | \n",
       "| m$habitat  | 1.00       | FALSE      | \n",
       "| m$host_phy | 0.03       |  TRUE      | \n",
       "| m$samp     | 0.93       | FALSE      | \n",
       "\n",
       "\n"
      ],
      "text/plain": [
       "  variable   pval_sensitivity sig_pval_sensitivity\n",
       "1 Int        1.00             FALSE               \n",
       "2 m$diet     0.00              TRUE               \n",
       "3 m$digest   0.50             FALSE               \n",
       "4 m$geo      0.93             FALSE               \n",
       "5 m$habitat  1.00             FALSE               \n",
       "6 m$host_phy 0.03              TRUE               \n",
       "7 m$samp     0.93             FALSE               "
      ]
     },
     "metadata": {},
     "output_type": "display_data"
    }
   ],
   "source": [
    "# significance\n",
    "mrm_res %>% \n",
    "    group_by(variable) %>%\n",
    "    summarize(pval_sensitivity = 1 - sum(coef_pval < 0.05) / length(pval)) %>%\n",
    "    ungroup() %>%\n",
    "    mutate(sig_pval_sensitivity = pval_sensitivity < 0.05)"
   ]
  },
  {
   "cell_type": "markdown",
   "metadata": {},
   "source": [
    "#### Model 2"
   ]
  },
  {
   "cell_type": "code",
   "execution_count": 86,
   "metadata": {
    "ExecuteTime": {
     "end_time": "2018-10-19T13:28:08.073597Z",
     "start_time": "2018-10-19T13:26:17.600Z"
    }
   },
   "outputs": [
    {
     "name": "stdout",
     "output_type": "stream",
     "text": [
      "[1] 600   7\n"
     ]
    },
    {
     "data": {
      "text/html": [
       "<table>\n",
       "<thead><tr><th></th><th scope=col>coef</th><th scope=col>coef_pval</th><th scope=col>variable</th><th scope=col>R2</th><th scope=col>pval</th><th scope=col>F</th><th scope=col>rep</th></tr></thead>\n",
       "<tbody>\n",
       "\t<tr><th scope=row>Int</th><td>813.6276471</td><td>1.000      </td><td>Int        </td><td>0.06910367 </td><td>0.001      </td><td>38.92803   </td><td>1          </td></tr>\n",
       "\t<tr><th scope=row>m$host_phy</th><td>  0.1092694</td><td>0.012      </td><td>m$host_phy </td><td>0.06910367 </td><td>0.001      </td><td>38.92803   </td><td>1          </td></tr>\n",
       "\t<tr><th scope=row>m$diet</th><td>  0.2397418</td><td>0.001      </td><td>m$diet     </td><td>0.06910367 </td><td>0.001      </td><td>38.92803   </td><td>1          </td></tr>\n",
       "</tbody>\n",
       "</table>\n"
      ],
      "text/latex": [
       "\\begin{tabular}{r|lllllll}\n",
       "  & coef & coef\\_pval & variable & R2 & pval & F & rep\\\\\n",
       "\\hline\n",
       "\tInt & 813.6276471 & 1.000       & Int         & 0.06910367  & 0.001       & 38.92803    & 1          \\\\\n",
       "\tm\\$host\\_phy &   0.1092694    & 0.012          & m\\$host\\_phy & 0.06910367     & 0.001          & 38.92803       & 1             \\\\\n",
       "\tm\\$diet &   0.2397418  & 0.001        & m\\$diet     & 0.06910367   & 0.001        & 38.92803     & 1           \\\\\n",
       "\\end{tabular}\n"
      ],
      "text/markdown": [
       "\n",
       "| <!--/--> | coef | coef_pval | variable | R2 | pval | F | rep | \n",
       "|---|---|---|\n",
       "| Int | 813.6276471 | 1.000       | Int         | 0.06910367  | 0.001       | 38.92803    | 1           | \n",
       "| m$host_phy |   0.1092694 | 0.012       | m$host_phy  | 0.06910367  | 0.001       | 38.92803    | 1           | \n",
       "| m$diet |   0.2397418 | 0.001       | m$diet      | 0.06910367  | 0.001       | 38.92803    | 1           | \n",
       "\n",
       "\n"
      ],
      "text/plain": [
       "           coef        coef_pval variable   R2         pval  F        rep\n",
       "Int        813.6276471 1.000     Int        0.06910367 0.001 38.92803 1  \n",
       "m$host_phy   0.1092694 0.012     m$host_phy 0.06910367 0.001 38.92803 1  \n",
       "m$diet       0.2397418 0.001     m$diet     0.06910367 0.001 38.92803 1  "
      ]
     },
     "metadata": {},
     "output_type": "display_data"
    }
   ],
   "source": [
    "# MRM on each permutation (in parallel)\n",
    "doParallel::registerDoParallel(threads)\n",
    "x = as.list(1:length(m_perm))\n",
    "f = 'm$beta ~ m$host_phy + m$diet + m$habitat + m$geo + m$samp'\n",
    "mrm_res = plyr::llply(x, mrm_each, L=m_perm, f=f, nperm=nperm, .parallel=TRUE)\n",
    "mrm_res = do.call(rbind, mrm_res)\n",
    "mrm_res %>% dfhead"
   ]
  },
  {
   "cell_type": "code",
   "execution_count": 87,
   "metadata": {
    "ExecuteTime": {
     "end_time": "2018-10-19T13:28:08.113687Z",
     "start_time": "2018-10-19T13:26:17.603Z"
    }
   },
   "outputs": [
    {
     "data": {
      "text/plain": [
       "       R2               pval            rep        \n",
       " Min.   :0.04588   Min.   :0.001   Min.   :  1.00  \n",
       " 1st Qu.:0.07600   1st Qu.:0.001   1st Qu.: 25.75  \n",
       " Median :0.08781   Median :0.001   Median : 50.50  \n",
       " Mean   :0.08744   Mean   :0.001   Mean   : 50.50  \n",
       " 3rd Qu.:0.09854   3rd Qu.:0.001   3rd Qu.: 75.25  \n",
       " Max.   :0.13916   Max.   :0.001   Max.   :100.00  "
      ]
     },
     "metadata": {},
     "output_type": "display_data"
    }
   ],
   "source": [
    "# summary of overall model\n",
    "mrm_res %>%\n",
    "    distinct(R2, pval, rep) %>%\n",
    "    summary"
   ]
  },
  {
   "cell_type": "code",
   "execution_count": 88,
   "metadata": {
    "ExecuteTime": {
     "end_time": "2018-10-19T13:28:09.843496Z",
     "start_time": "2018-10-19T13:26:17.607Z"
    }
   },
   "outputs": [
    {
     "name": "stderr",
     "output_type": "stream",
     "text": [
      "Warning message:\n",
      "“Column `variable`/`old_name` joining character vector and factor, coercing into character vector”"
     ]
    },
    {
     "name": "stdout",
     "output_type": "stream",
     "text": [
      "File written: /ebio/abt3_projects/Georg_animal_feces/notebooks/16S/3_modulating_factors/MRM/3_TT/beta_div/.figures/MRM_IndD-family_uwUnif_model2.pdf \n"
     ]
    },
    {
     "data": {
      "image/png": "[encoded data removed]",
      "text/plain": [
       "plot without title"
      ]
     },
     "metadata": {},
     "output_type": "display_data"
    }
   ],
   "source": [
    "# formatting output\n",
    "mrm_res_s = mrm_res %>% \n",
    "    filter(variable != 'Int') %>%\n",
    "    gather(category, value, -variable, -R2, -pval, -F, -rep) %>%\n",
    "    mutate(category = ifelse(category == 'coef', 'Coef.', 'Adj. P-value'))\n",
    "\n",
    "mrm_res_s = mrm_res_s %>%\n",
    "    inner_join(rename_df, c('variable'='old_name')) %>%\n",
    "    dplyr::select(-variable) %>%\n",
    "    rename('variable' = new_name)              \n",
    "\n",
    "# changing coef scale\n",
    "df = mrm_res_s %>%\n",
    "    filter(category == 'Coef.') %>%\n",
    "    mutate(value = 0.41) %>%\n",
    "    .[1,]\n",
    "\n",
    "# plotting\n",
    "p = ggplot(mrm_res_s, aes(variable, value)) +\n",
    "    geom_boxplot() +\n",
    "    geom_point(data=df, alpha=0) +\n",
    "    facet_grid(category ~ ., scales='free_y') +\n",
    "    theme_bw()\n",
    "\n",
    "options(repr.plot.width=5, repr.plot.height=3)\n",
    "plot_write(p, file='MRM_IndD-family_uwUnif_model2.pdf')"
   ]
  },
  {
   "cell_type": "code",
   "execution_count": 89,
   "metadata": {
    "ExecuteTime": {
     "end_time": "2018-10-19T13:28:09.885669Z",
     "start_time": "2018-10-19T13:26:17.610Z"
    }
   },
   "outputs": [
    {
     "data": {
      "text/html": [
       "<table>\n",
       "<thead><tr><th scope=col>variable</th><th scope=col>pval_sensitivity</th><th scope=col>sig_pval_sensitivity</th></tr></thead>\n",
       "<tbody>\n",
       "\t<tr><td>Int       </td><td>1.00      </td><td>FALSE     </td></tr>\n",
       "\t<tr><td>m$diet    </td><td>0.00      </td><td> TRUE     </td></tr>\n",
       "\t<tr><td>m$geo     </td><td>0.96      </td><td>FALSE     </td></tr>\n",
       "\t<tr><td>m$habitat </td><td>1.00      </td><td>FALSE     </td></tr>\n",
       "\t<tr><td>m$host_phy</td><td>0.11      </td><td>FALSE     </td></tr>\n",
       "\t<tr><td>m$samp    </td><td>0.92      </td><td>FALSE     </td></tr>\n",
       "</tbody>\n",
       "</table>\n"
      ],
      "text/latex": [
       "\\begin{tabular}{r|lll}\n",
       " variable & pval\\_sensitivity & sig\\_pval\\_sensitivity\\\\\n",
       "\\hline\n",
       "\t Int        & 1.00       & FALSE     \\\\\n",
       "\t m\\$diet     & 0.00         &  TRUE       \\\\\n",
       "\t m\\$geo      & 0.96         & FALSE       \\\\\n",
       "\t m\\$habitat  & 1.00         & FALSE       \\\\\n",
       "\t m\\$host\\_phy & 0.11           & FALSE         \\\\\n",
       "\t m\\$samp     & 0.92         & FALSE       \\\\\n",
       "\\end{tabular}\n"
      ],
      "text/markdown": [
       "\n",
       "variable | pval_sensitivity | sig_pval_sensitivity | \n",
       "|---|---|---|---|---|---|\n",
       "| Int        | 1.00       | FALSE      | \n",
       "| m$diet     | 0.00       |  TRUE      | \n",
       "| m$geo      | 0.96       | FALSE      | \n",
       "| m$habitat  | 1.00       | FALSE      | \n",
       "| m$host_phy | 0.11       | FALSE      | \n",
       "| m$samp     | 0.92       | FALSE      | \n",
       "\n",
       "\n"
      ],
      "text/plain": [
       "  variable   pval_sensitivity sig_pval_sensitivity\n",
       "1 Int        1.00             FALSE               \n",
       "2 m$diet     0.00              TRUE               \n",
       "3 m$geo      0.96             FALSE               \n",
       "4 m$habitat  1.00             FALSE               \n",
       "5 m$host_phy 0.11             FALSE               \n",
       "6 m$samp     0.92             FALSE               "
      ]
     },
     "metadata": {},
     "output_type": "display_data"
    }
   ],
   "source": [
    "# significance\n",
    "mrm_res %>% \n",
    "    group_by(variable) %>%\n",
    "    summarize(pval_sensitivity = 1 - sum(coef_pval < 0.05) / length(pval)) %>%\n",
    "    ungroup() %>%\n",
    "    mutate(sig_pval_sensitivity = pval_sensitivity < 0.05)"
   ]
  },
  {
   "cell_type": "markdown",
   "metadata": {},
   "source": [
    "# sessionInfo\n"
   ]
  },
  {
   "cell_type": "code",
   "execution_count": 90,
   "metadata": {
    "ExecuteTime": {
     "end_time": "2018-10-19T13:28:10.051363Z",
     "start_time": "2018-10-19T13:26:17.614Z"
    }
   },
   "outputs": [
    {
     "data": {
      "text/plain": [
       "R version 3.4.1 (2017-06-30)\n",
       "Platform: x86_64-pc-linux-gnu (64-bit)\n",
       "Running under: Ubuntu 18.04.1 LTS\n",
       "\n",
       "Matrix products: default\n",
       "BLAS: /ebio/abt3_projects/software/miniconda3_gt4.4/envs/py3_physeq_eco/lib/R/lib/libRblas.so\n",
       "LAPACK: /ebio/abt3_projects/software/miniconda3_gt4.4/envs/py3_physeq_eco/lib/R/lib/libRlapack.so\n",
       "\n",
       "locale:\n",
       "[1] en_US.UTF-8\n",
       "\n",
       "attached base packages:\n",
       "[1] parallel  stats     graphics  grDevices utils     datasets  methods  \n",
       "[8] base     \n",
       "\n",
       "other attached packages:\n",
       " [1] bindrcpp_0.2.2    doParallel_1.0.11 iterators_1.0.10  foreach_1.4.4    \n",
       " [5] phyloseq_1.22.3   ecodist_2.0.1     ape_5.1           stringr_1.3.1    \n",
       " [9] ggplot2_3.0.0     tidyr_0.8.1       dplyr_0.7.6      \n",
       "\n",
       "loaded via a namespace (and not attached):\n",
       " [1] Rcpp_0.12.17        lattice_0.20-34     Biostrings_2.46.0  \n",
       " [4] assertthat_0.2.0    digest_0.6.15       IRdisplay_0.4.4    \n",
       " [7] R6_2.2.2            plyr_1.8.4          repr_0.15.0        \n",
       "[10] stats4_3.4.1        evaluate_0.10.1     pillar_1.2.2       \n",
       "[13] zlibbioc_1.24.0     rlang_0.2.1         lazyeval_0.2.1     \n",
       "[16] uuid_0.1-2          geosphere_1.5-5     data.table_1.11.4  \n",
       "[19] vegan_2.4-3         S4Vectors_0.16.0    Matrix_1.2-14      \n",
       "[22] labeling_0.3        splines_3.4.1       igraph_1.2.1       \n",
       "[25] munsell_0.5.0       compiler_3.4.1      pkgconfig_2.0.1    \n",
       "[28] BiocGenerics_0.24.0 base64enc_0.1-3     multtest_2.34.0    \n",
       "[31] mgcv_1.8-24         htmltools_0.3.6     biomformat_1.6.0   \n",
       "[34] tidyselect_0.2.4    tibble_1.4.2        IRanges_2.12.0     \n",
       "[37] codetools_0.2-15    permute_0.9-4       crayon_1.3.4       \n",
       "[40] withr_2.1.1         MASS_7.3-50         grid_3.4.1         \n",
       "[43] nlme_3.1-131        jsonlite_1.5        gtable_0.2.0       \n",
       "[46] magrittr_1.5        scales_0.5.0        stringi_1.2.3      \n",
       "[49] XVector_0.18.0      reshape2_1.4.3      sp_1.2-7           \n",
       "[52] IRkernel_0.8.12     tools_3.4.1         ade4_1.7-11        \n",
       "[55] Biobase_2.38.0      glue_1.3.0          purrr_0.2.4        \n",
       "[58] survival_2.42-6     colorspace_1.3-2    rhdf5_2.22.0       \n",
       "[61] cluster_2.0.6       pbdZMQ_0.3-2        bindr_0.1.1        "
      ]
     },
     "metadata": {},
     "output_type": "display_data"
    }
   ],
   "source": [
    "sessionInfo()"
   ]
  },
  {
   "cell_type": "code",
   "execution_count": null,
   "metadata": {},
   "outputs": [],
   "source": []
  }
 ],
 "metadata": {
  "kernelspec": {
   "display_name": "R [conda env:py3_physeq_eco]",
   "language": "R",
   "name": "conda-env-py3_physeq_eco-r"
  },
  "language_info": {
   "codemirror_mode": "r",
   "file_extension": ".r",
   "mimetype": "text/x-r-source",
   "name": "R",
   "pygments_lexer": "r",
   "version": "3.4.1"
  },
  "notify_time": "30",
  "toc": {
   "base_numbering": 1,
   "nav_menu": {},
   "number_sections": true,
   "sideBar": true,
   "skip_h1_title": false,
   "title_cell": "Table of Contents",
   "title_sidebar": "Contents",
   "toc_cell": false,
   "toc_position": {
    "height": "1209px",
    "left": "0px",
    "right": "2348px",
    "top": "111px",
    "width": "212px"
   },
   "toc_section_display": "block",
   "toc_window_display": true
  }
 },
 "nbformat": 4,
 "nbformat_minor": 2
}
