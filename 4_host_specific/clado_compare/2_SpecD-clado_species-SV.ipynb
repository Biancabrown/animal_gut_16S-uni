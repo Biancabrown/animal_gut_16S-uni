{
 "cells": [
  {
   "cell_type": "markdown",
   "metadata": {},
   "source": [
    "# Goal\n",
    "\n",
    "* Making heatmap showing SV abundances (post-filtering) in each host\n",
    "* `host (species-level) vs microbe (SV-level)`"
   ]
  },
  {
   "cell_type": "markdown",
   "metadata": {
    "ExecuteTime": {
     "end_time": "2017-12-12T16:13:52.778325Z",
     "start_time": "2017-12-12T16:13:52.713Z"
    }
   },
   "source": [
    "# Var"
   ]
  },
  {
   "cell_type": "code",
   "execution_count": 158,
   "metadata": {
    "ExecuteTime": {
     "end_time": "2018-01-07T15:26:29.722503Z",
     "start_time": "2018-01-07T15:26:29.661Z"
    }
   },
   "outputs": [],
   "source": [
    "work_dir = '/ebio/abt3_projects/Georg_animal_feces/data/host_specific/clado_map/'\n",
    "\n",
    "# phyloseq\n",
    "physeq_file = '/ebio/abt3_projects/Georg_animal_feces/data/16S/LLA/phyloseq//physeq_SpecD.RDS'\n",
    "\n",
    "# host cladogram\n",
    "clado_file = '/ebio/abt3_projects/Georg_animal_feces/data/animal/phylogeny/cladogram//unified_metadata_20171206_r5k_SpecD-rn.nwk'\n",
    "\n",
    "# misc\n",
    "sparsity_cutoff = 0.05"
   ]
  },
  {
   "cell_type": "markdown",
   "metadata": {},
   "source": [
    "# Init"
   ]
  },
  {
   "cell_type": "code",
   "execution_count": 159,
   "metadata": {
    "ExecuteTime": {
     "end_time": "2018-01-07T15:26:30.024579Z",
     "start_time": "2018-01-07T15:26:29.946Z"
    }
   },
   "outputs": [],
   "source": [
    "library(dplyr)\n",
    "library(tidyr)\n",
    "library(ggplot2)\n",
    "library(stringr)\n",
    "library(ape)\n",
    "library(phyloseq)\n",
    "source('/ebio/abt3_projects/Georg_animal_feces/code/init.R') "
   ]
  },
  {
   "cell_type": "code",
   "execution_count": 160,
   "metadata": {
    "ExecuteTime": {
     "end_time": "2018-01-07T15:26:30.193921Z",
     "start_time": "2018-01-07T15:26:30.138Z"
    }
   },
   "outputs": [
    {
     "name": "stdout",
     "output_type": "stream",
     "text": [
      "Directory already exists: /ebio/abt3_projects/Georg_animal_feces/data/host_specific/clado_map/ \n"
     ]
    }
   ],
   "source": [
    "make_dir(work_dir)\n",
    "setwd(work_dir)"
   ]
  },
  {
   "cell_type": "markdown",
   "metadata": {},
   "source": [
    "# Load"
   ]
  },
  {
   "cell_type": "markdown",
   "metadata": {},
   "source": [
    "## host cladogram"
   ]
  },
  {
   "cell_type": "code",
   "execution_count": 161,
   "metadata": {
    "ExecuteTime": {
     "end_time": "2018-01-07T15:26:31.296145Z",
     "start_time": "2018-01-07T15:26:31.236Z"
    }
   },
   "outputs": [
    {
     "data": {
      "text/plain": [
       "\n",
       "Phylogenetic tree with 131 tips and 58 internal nodes.\n",
       "\n",
       "Tip labels:\n",
       "\tEurasian.Beaver, Alpine.Marmot, Eurasian.Red.Squirrel, European.Ground.Squirrel, Long.tailed.Field.Mouse, Yellow.necked.Field.Mouse, ...\n",
       "\n",
       "Unrooted; includes branch lengths."
      ]
     },
     "metadata": {},
     "output_type": "display_data"
    }
   ],
   "source": [
    "host_clado = read.tree(clado_file)\n",
    "host_clado"
   ]
  },
  {
   "cell_type": "markdown",
   "metadata": {},
   "source": [
    "## physeq"
   ]
  },
  {
   "cell_type": "code",
   "execution_count": 165,
   "metadata": {
    "ExecuteTime": {
     "end_time": "2018-01-07T15:26:55.895410Z",
     "start_time": "2018-01-07T15:26:55.443Z"
    }
   },
   "outputs": [
    {
     "data": {
      "text/plain": [
       "phyloseq-class experiment-level object\n",
       "otu_table()   OTU Table:         [ 19190 taxa and 131 samples ]\n",
       "sample_data() Sample Data:       [ 131 samples by 100 sample variables ]\n",
       "tax_table()   Taxonomy Table:    [ 19190 taxa by 7 taxonomic ranks ]\n",
       "phy_tree()    Phylogenetic Tree: [ 19190 tips and 18939 internal nodes ]"
      ]
     },
     "metadata": {},
     "output_type": "display_data"
    }
   ],
   "source": [
    "physeq = readRDS(physeq_file)\n",
    "physeq"
   ]
  },
  {
   "cell_type": "markdown",
   "metadata": {},
   "source": [
    "### filtering"
   ]
  },
  {
   "cell_type": "code",
   "execution_count": 166,
   "metadata": {
    "ExecuteTime": {
     "end_time": "2018-01-07T15:26:56.081654Z",
     "start_time": "2018-01-07T15:26:56.035Z"
    }
   },
   "outputs": [],
   "source": [
    "# no-genus designation\n",
    "# genera = physeq %>% tax_table %>% as.data.frame %>% .$Genus %>% unique %>% sort %>% as.vector\n",
    "# to_rm = c('unclassified', 'uncultured', 'unidentified', 'Incertae Sedis', '') \n",
    "# to_rm = c(to_rm, genera[grepl('uncultured', genera)])\n",
    "# to_rm"
   ]
  },
  {
   "cell_type": "code",
   "execution_count": 167,
   "metadata": {
    "ExecuteTime": {
     "end_time": "2018-01-07T15:26:59.564051Z",
     "start_time": "2018-01-07T15:26:56.382Z"
    }
   },
   "outputs": [
    {
     "data": {
      "text/plain": [
       "phyloseq-class experiment-level object\n",
       "otu_table()   OTU Table:         [ 186 taxa and 131 samples ]\n",
       "sample_data() Sample Data:       [ 131 samples by 100 sample variables ]\n",
       "tax_table()   Taxonomy Table:    [ 186 taxa by 7 taxonomic ranks ]\n",
       "phy_tree()    Phylogenetic Tree: [ 186 tips and 185 internal nodes ]"
      ]
     },
     "metadata": {},
     "output_type": "display_data"
    }
   ],
   "source": [
    "physeq = physeq %>% \n",
    "    transform_sample_counts(function(x) x / sum(x) * 100) %>%\n",
    "    #subset_taxa(!Genus %in% to_rm) %>%\n",
    "    filter_taxa(function(x) sum(x > 0) / length(x) >= sparsity_cutoff, TRUE) \n",
    "physeq"
   ]
  },
  {
   "cell_type": "code",
   "execution_count": 168,
   "metadata": {
    "ExecuteTime": {
     "end_time": "2018-01-07T15:27:22.636372Z",
     "start_time": "2018-01-07T15:27:22.502Z"
    }
   },
   "outputs": [
    {
     "name": "stderr",
     "output_type": "stream",
     "text": [
      "Warning message in class(X) <- NULL:\n",
      "“Setting class(x) to NULL;   result will no longer be an S4 object”"
     ]
    },
    {
     "name": "stdout",
     "output_type": "stream",
     "text": [
      "[1] 131 100\n"
     ]
    },
    {
     "data": {
      "text/html": [
       "<table>\n",
       "<thead><tr><th></th><th scope=col>BarcodeSequence</th><th scope=col>LinkerPrimerSequence</th><th scope=col>Primer</th><th scope=col>ReversePrimer</th><th scope=col>Barcode_ID</th><th scope=col>sample_number</th><th scope=col>host_subj_id</th><th scope=col>host_common_name</th><th scope=col>scientific_name</th><th scope=col>scientific_name_subspecies</th><th scope=col>⋯</th><th scope=col>PCR_dil_qPCR_2</th><th scope=col>Ct_A_2</th><th scope=col>Ct_B_2</th><th scope=col>Amount_SYBR_copies_in_5_ul_A_2</th><th scope=col>Amount_SYBR_copies_in_5_ul_B_2</th><th scope=col>Amount_geometric_mean_SYBR_2</th><th scope=col>Copies_in_5_ul_PCR_template_2</th><th scope=col>Copies_per_100_ul_extract_2</th><th scope=col>wellplate_Illumina</th><th scope=col>wellplate_position_Illumina</th></tr></thead>\n",
       "<tbody>\n",
       "\t<tr><th scope=row>X1.Eurasian.Beaver</th><td>ACTCACGGTATG         </td><td>CATGCTGCCTCCCGTAGGAGT</td><td>GCCTCCCTCGCGCCATCAG  </td><td>AGAGTTTGATCCTGGCTCAG </td><td>338R_BC0049          </td><td>1                    </td><td>1                    </td><td>Eurasian.Beaver      </td><td>Castor fiber         </td><td>NA                   </td><td>⋯                    </td><td>NA                   </td><td>NA                   </td><td>NA                   </td><td>NA                   </td><td>NA                   </td><td>NA                   </td><td>NA                   </td><td>NA                   </td><td>2                    </td><td>B12                  </td></tr>\n",
       "\t<tr><th scope=row>X109.Red.Fox</th><td>ACTGTCGAAGCT         </td><td>CATGCTGCCTCCCGTAGGAGT</td><td>GCCTCCCTCGCGCCATCAG  </td><td>AGAGTTTGATCCTGGCTCAG </td><td>338R_BC0057          </td><td>109                  </td><td>109                  </td><td>Red.Fox              </td><td>Vulpes vulpes        </td><td>NA                   </td><td>⋯                    </td><td> 16                  </td><td>15.01                </td><td>NA                   </td><td>2.340E+7X            </td><td>NA                   </td><td>NA                   </td><td>3.74e+08             </td><td>7.49e+09             </td><td>4                    </td><td>F2                   </td></tr>\n",
       "\t<tr><th scope=row>X116.Common.Kestrel</th><td>ACACGGTGTCTA         </td><td>CATGCTGCCTCCCGTAGGAGT</td><td>GCCTCCCTCGCGCCATCAG  </td><td>AGAGTTTGATCCTGGCTCAG </td><td>338R_BC0011          </td><td>116                  </td><td>116                  </td><td>Common.Kestrel       </td><td>Falco tinnunculus    </td><td>NA                   </td><td>⋯                    </td><td> 16                  </td><td>20.79                </td><td>NA                   </td><td>5.210E+5X            </td><td>NA                   </td><td>NA                   </td><td>8.34e+06             </td><td>1.67e+08             </td><td>1                    </td><td>C11                  </td></tr>\n",
       "</tbody>\n",
       "</table>\n"
      ],
      "text/latex": [
       "\\begin{tabular}{r|llllllllllllllllllllllllllllllllllllllllllllllllllllllllllllllllllllllllllllllllllllllllllllllllllll}\n",
       "  & BarcodeSequence & LinkerPrimerSequence & Primer & ReversePrimer & Barcode\\_ID & sample\\_number & host\\_subj\\_id & host\\_common\\_name & scientific\\_name & scientific\\_name\\_subspecies & ⋯ & PCR\\_dil\\_qPCR\\_2 & Ct\\_A\\_2 & Ct\\_B\\_2 & Amount\\_SYBR\\_copies\\_in\\_5\\_ul\\_A\\_2 & Amount\\_SYBR\\_copies\\_in\\_5\\_ul\\_B\\_2 & Amount\\_geometric\\_mean\\_SYBR\\_2 & Copies\\_in\\_5\\_ul\\_PCR\\_template\\_2 & Copies\\_per\\_100\\_ul\\_extract\\_2 & wellplate\\_Illumina & wellplate\\_position\\_Illumina\\\\\n",
       "\\hline\n",
       "\tX1.Eurasian.Beaver & ACTCACGGTATG          & CATGCTGCCTCCCGTAGGAGT & GCCTCCCTCGCGCCATCAG   & AGAGTTTGATCCTGGCTCAG  & 338R\\_BC0049         & 1                     & 1                     & Eurasian.Beaver       & Castor fiber          & NA                    & ⋯                     & NA                    & NA                    & NA                    & NA                    & NA                    & NA                    & NA                    & NA                    & 2                     & B12                  \\\\\n",
       "\tX109.Red.Fox & ACTGTCGAAGCT          & CATGCTGCCTCCCGTAGGAGT & GCCTCCCTCGCGCCATCAG   & AGAGTTTGATCCTGGCTCAG  & 338R\\_BC0057         & 109                   & 109                   & Red.Fox               & Vulpes vulpes         & NA                    & ⋯                     &  16                   & 15.01                 & NA                    & 2.340E+7X             & NA                    & NA                    & 3.74e+08              & 7.49e+09              & 4                     & F2                   \\\\\n",
       "\tX116.Common.Kestrel & ACACGGTGTCTA          & CATGCTGCCTCCCGTAGGAGT & GCCTCCCTCGCGCCATCAG   & AGAGTTTGATCCTGGCTCAG  & 338R\\_BC0011         & 116                   & 116                   & Common.Kestrel        & Falco tinnunculus     & NA                    & ⋯                     &  16                   & 20.79                 & NA                    & 5.210E+5X             & NA                    & NA                    & 8.34e+06              & 1.67e+08              & 1                     & C11                  \\\\\n",
       "\\end{tabular}\n"
      ],
      "text/markdown": [
       "\n",
       "| <!--/--> | BarcodeSequence | LinkerPrimerSequence | Primer | ReversePrimer | Barcode_ID | sample_number | host_subj_id | host_common_name | scientific_name | scientific_name_subspecies | ⋯ | PCR_dil_qPCR_2 | Ct_A_2 | Ct_B_2 | Amount_SYBR_copies_in_5_ul_A_2 | Amount_SYBR_copies_in_5_ul_B_2 | Amount_geometric_mean_SYBR_2 | Copies_in_5_ul_PCR_template_2 | Copies_per_100_ul_extract_2 | wellplate_Illumina | wellplate_position_Illumina | \n",
       "|---|---|---|\n",
       "| X1.Eurasian.Beaver | ACTCACGGTATG          | CATGCTGCCTCCCGTAGGAGT | GCCTCCCTCGCGCCATCAG   | AGAGTTTGATCCTGGCTCAG  | 338R_BC0049           | 1                     | 1                     | Eurasian.Beaver       | Castor fiber          | NA                    | ⋯                     | NA                    | NA                    | NA                    | NA                    | NA                    | NA                    | NA                    | NA                    | 2                     | B12                   | \n",
       "| X109.Red.Fox | ACTGTCGAAGCT          | CATGCTGCCTCCCGTAGGAGT | GCCTCCCTCGCGCCATCAG   | AGAGTTTGATCCTGGCTCAG  | 338R_BC0057           | 109                   | 109                   | Red.Fox               | Vulpes vulpes         | NA                    | ⋯                     |  16                   | 15.01                 | NA                    | 2.340E+7X             | NA                    | NA                    | 3.74e+08              | 7.49e+09              | 4                     | F2                    | \n",
       "| X116.Common.Kestrel | ACACGGTGTCTA          | CATGCTGCCTCCCGTAGGAGT | GCCTCCCTCGCGCCATCAG   | AGAGTTTGATCCTGGCTCAG  | 338R_BC0011           | 116                   | 116                   | Common.Kestrel        | Falco tinnunculus     | NA                    | ⋯                     |  16                   | 20.79                 | NA                    | 5.210E+5X             | NA                    | NA                    | 8.34e+06              | 1.67e+08              | 1                     | C11                   | \n",
       "\n",
       "\n"
      ],
      "text/plain": [
       "                    BarcodeSequence LinkerPrimerSequence  Primer             \n",
       "X1.Eurasian.Beaver  ACTCACGGTATG    CATGCTGCCTCCCGTAGGAGT GCCTCCCTCGCGCCATCAG\n",
       "X109.Red.Fox        ACTGTCGAAGCT    CATGCTGCCTCCCGTAGGAGT GCCTCCCTCGCGCCATCAG\n",
       "X116.Common.Kestrel ACACGGTGTCTA    CATGCTGCCTCCCGTAGGAGT GCCTCCCTCGCGCCATCAG\n",
       "                    ReversePrimer        Barcode_ID  sample_number host_subj_id\n",
       "X1.Eurasian.Beaver  AGAGTTTGATCCTGGCTCAG 338R_BC0049 1             1           \n",
       "X109.Red.Fox        AGAGTTTGATCCTGGCTCAG 338R_BC0057 109           109         \n",
       "X116.Common.Kestrel AGAGTTTGATCCTGGCTCAG 338R_BC0011 116           116         \n",
       "                    host_common_name scientific_name  \n",
       "X1.Eurasian.Beaver  Eurasian.Beaver  Castor fiber     \n",
       "X109.Red.Fox        Red.Fox          Vulpes vulpes    \n",
       "X116.Common.Kestrel Common.Kestrel   Falco tinnunculus\n",
       "                    scientific_name_subspecies ⋯ PCR_dil_qPCR_2 Ct_A_2 Ct_B_2\n",
       "X1.Eurasian.Beaver  NA                         ⋯ NA             NA     NA    \n",
       "X109.Red.Fox        NA                         ⋯  16            15.01  NA    \n",
       "X116.Common.Kestrel NA                         ⋯  16            20.79  NA    \n",
       "                    Amount_SYBR_copies_in_5_ul_A_2\n",
       "X1.Eurasian.Beaver  NA                            \n",
       "X109.Red.Fox        2.340E+7X                     \n",
       "X116.Common.Kestrel 5.210E+5X                     \n",
       "                    Amount_SYBR_copies_in_5_ul_B_2 Amount_geometric_mean_SYBR_2\n",
       "X1.Eurasian.Beaver  NA                             NA                          \n",
       "X109.Red.Fox        NA                             NA                          \n",
       "X116.Common.Kestrel NA                             NA                          \n",
       "                    Copies_in_5_ul_PCR_template_2 Copies_per_100_ul_extract_2\n",
       "X1.Eurasian.Beaver  NA                            NA                         \n",
       "X109.Red.Fox        3.74e+08                      7.49e+09                   \n",
       "X116.Common.Kestrel 8.34e+06                      1.67e+08                   \n",
       "                    wellplate_Illumina wellplate_position_Illumina\n",
       "X1.Eurasian.Beaver  2                  B12                        \n",
       "X109.Red.Fox        4                  F2                         \n",
       "X116.Common.Kestrel 1                  C11                        "
      ]
     },
     "metadata": {},
     "output_type": "display_data"
    }
   ],
   "source": [
    "metadata = physeq %>% \n",
    "    sample_data %>% \n",
    "    as.matrix %>% \n",
    "    as.data.frame\n",
    "metadata %>% status"
   ]
  },
  {
   "cell_type": "markdown",
   "metadata": {},
   "source": [
    "# Getting occurrance of SVs in hosts"
   ]
  },
  {
   "cell_type": "code",
   "execution_count": 175,
   "metadata": {
    "ExecuteTime": {
     "end_time": "2018-01-07T15:28:15.138829Z",
     "start_time": "2018-01-07T15:28:14.534Z"
    }
   },
   "outputs": [
    {
     "name": "stdout",
     "output_type": "stream",
     "text": [
      "[1] 24366     3\n"
     ]
    },
    {
     "data": {
      "text/html": [
       "<table>\n",
       "<thead><tr><th scope=col>OTU</th><th scope=col>sample</th><th scope=col>count_perc</th></tr></thead>\n",
       "<tbody>\n",
       "\t<tr><td>368bd5c2255f3a5ce0fef06ca6de1d04</td><td>Eurasian.Beaver                 </td><td>0                               </td></tr>\n",
       "\t<tr><td>779324e5648460c5a67e577c45131b42</td><td>Eurasian.Beaver                 </td><td>0                               </td></tr>\n",
       "\t<tr><td>d3d51a026150fca2a3400c59a6b311cb</td><td>Eurasian.Beaver                 </td><td>0                               </td></tr>\n",
       "</tbody>\n",
       "</table>\n"
      ],
      "text/latex": [
       "\\begin{tabular}{r|lll}\n",
       " OTU & sample & count\\_perc\\\\\n",
       "\\hline\n",
       "\t 368bd5c2255f3a5ce0fef06ca6de1d04 & Eurasian.Beaver                  & 0                               \\\\\n",
       "\t 779324e5648460c5a67e577c45131b42 & Eurasian.Beaver                  & 0                               \\\\\n",
       "\t d3d51a026150fca2a3400c59a6b311cb & Eurasian.Beaver                  & 0                               \\\\\n",
       "\\end{tabular}\n"
      ],
      "text/markdown": [
       "\n",
       "OTU | sample | count_perc | \n",
       "|---|---|---|\n",
       "| 368bd5c2255f3a5ce0fef06ca6de1d04 | Eurasian.Beaver                  | 0                                | \n",
       "| 779324e5648460c5a67e577c45131b42 | Eurasian.Beaver                  | 0                                | \n",
       "| d3d51a026150fca2a3400c59a6b311cb | Eurasian.Beaver                  | 0                                | \n",
       "\n",
       "\n"
      ],
      "text/plain": [
       "  OTU                              sample          count_perc\n",
       "1 368bd5c2255f3a5ce0fef06ca6de1d04 Eurasian.Beaver 0         \n",
       "2 779324e5648460c5a67e577c45131b42 Eurasian.Beaver 0         \n",
       "3 d3d51a026150fca2a3400c59a6b311cb Eurasian.Beaver 0         "
      ]
     },
     "metadata": {},
     "output_type": "display_data"
    }
   ],
   "source": [
    "# otu format\n",
    "otu = physeq %>%\n",
    "    otu_table %>%\n",
    "    as.matrix %>%\n",
    "    as.data.frame \n",
    "\n",
    "otu$OTU = rownames(otu) \n",
    "rownames(otu) = 1:nrow(otu)\n",
    "otu = otu %>%\n",
    "    gather(sample, count, -OTU) %>%\n",
    "    mutate(sample = gsub('^[A-Z][0-9]+b*\\\\.', '', sample)) %>%\n",
    "    rename('count_perc' = count)\n",
    "\n",
    "otu %>% status"
   ]
  },
  {
   "cell_type": "code",
   "execution_count": 176,
   "metadata": {
    "ExecuteTime": {
     "end_time": "2018-01-07T15:28:15.689587Z",
     "start_time": "2018-01-07T15:28:14.696Z"
    }
   },
   "outputs": [
    {
     "name": "stdout",
     "output_type": "stream",
     "text": [
      "[1] 186\n",
      "   Min. 1st Qu.  Median    Mean 3rd Qu.    Max. \n",
      " -1.699  -1.699  -1.699  -1.613  -1.699   1.963 \n",
      "[1] 24366     9\n"
     ]
    },
    {
     "data": {
      "text/html": [
       "<table>\n",
       "<thead><tr><th scope=col>OTU</th><th scope=col>sample</th><th scope=col>count_perc</th><th scope=col>Domain</th><th scope=col>Phylum</th><th scope=col>Class</th><th scope=col>Order</th><th scope=col>Family</th><th scope=col>Genus_SV</th></tr></thead>\n",
       "<tbody>\n",
       "\t<tr><td>368bd5c2255f3a5ce0fef06ca6de1d04</td><td>Eurasian.Beaver                 </td><td>-1.69897                        </td><td>Archaea                         </td><td>Euryarchaeota                   </td><td>Methanobacteria                 </td><td>Methanobacteriales              </td><td>Methanobacteriaceae             </td><td>Methanobrevibacter_SV50         </td></tr>\n",
       "\t<tr><td>779324e5648460c5a67e577c45131b42</td><td>Eurasian.Beaver                 </td><td>-1.69897                        </td><td>Archaea                         </td><td>Euryarchaeota                   </td><td>Methanobacteria                 </td><td>Methanobacteriales              </td><td>Methanobacteriaceae             </td><td>Methanobrevibacter_SV92         </td></tr>\n",
       "\t<tr><td>d3d51a026150fca2a3400c59a6b311cb</td><td>Eurasian.Beaver                 </td><td>-1.69897                        </td><td>Archaea                         </td><td>Euryarchaeota                   </td><td>Methanobacteria                 </td><td>Methanobacteriales              </td><td>Methanobacteriaceae             </td><td>Methanobrevibacter_SV150        </td></tr>\n",
       "</tbody>\n",
       "</table>\n"
      ],
      "text/latex": [
       "\\begin{tabular}{r|lllllllll}\n",
       " OTU & sample & count\\_perc & Domain & Phylum & Class & Order & Family & Genus\\_SV\\\\\n",
       "\\hline\n",
       "\t 368bd5c2255f3a5ce0fef06ca6de1d04 & Eurasian.Beaver                  & -1.69897                         & Archaea                          & Euryarchaeota                    & Methanobacteria                  & Methanobacteriales               & Methanobacteriaceae              & Methanobrevibacter\\_SV50       \\\\\n",
       "\t 779324e5648460c5a67e577c45131b42 & Eurasian.Beaver                  & -1.69897                         & Archaea                          & Euryarchaeota                    & Methanobacteria                  & Methanobacteriales               & Methanobacteriaceae              & Methanobrevibacter\\_SV92       \\\\\n",
       "\t d3d51a026150fca2a3400c59a6b311cb & Eurasian.Beaver                  & -1.69897                         & Archaea                          & Euryarchaeota                    & Methanobacteria                  & Methanobacteriales               & Methanobacteriaceae              & Methanobrevibacter\\_SV150      \\\\\n",
       "\\end{tabular}\n"
      ],
      "text/markdown": [
       "\n",
       "OTU | sample | count_perc | Domain | Phylum | Class | Order | Family | Genus_SV | \n",
       "|---|---|---|\n",
       "| 368bd5c2255f3a5ce0fef06ca6de1d04 | Eurasian.Beaver                  | -1.69897                         | Archaea                          | Euryarchaeota                    | Methanobacteria                  | Methanobacteriales               | Methanobacteriaceae              | Methanobrevibacter_SV50          | \n",
       "| 779324e5648460c5a67e577c45131b42 | Eurasian.Beaver                  | -1.69897                         | Archaea                          | Euryarchaeota                    | Methanobacteria                  | Methanobacteriales               | Methanobacteriaceae              | Methanobrevibacter_SV92          | \n",
       "| d3d51a026150fca2a3400c59a6b311cb | Eurasian.Beaver                  | -1.69897                         | Archaea                          | Euryarchaeota                    | Methanobacteria                  | Methanobacteriales               | Methanobacteriaceae              | Methanobrevibacter_SV150         | \n",
       "\n",
       "\n"
      ],
      "text/plain": [
       "  OTU                              sample          count_perc Domain \n",
       "1 368bd5c2255f3a5ce0fef06ca6de1d04 Eurasian.Beaver -1.69897   Archaea\n",
       "2 779324e5648460c5a67e577c45131b42 Eurasian.Beaver -1.69897   Archaea\n",
       "3 d3d51a026150fca2a3400c59a6b311cb Eurasian.Beaver -1.69897   Archaea\n",
       "  Phylum        Class           Order              Family             \n",
       "1 Euryarchaeota Methanobacteria Methanobacteriales Methanobacteriaceae\n",
       "2 Euryarchaeota Methanobacteria Methanobacteriales Methanobacteriaceae\n",
       "3 Euryarchaeota Methanobacteria Methanobacteriales Methanobacteriaceae\n",
       "  Genus_SV                \n",
       "1 Methanobrevibacter_SV50 \n",
       "2 Methanobrevibacter_SV92 \n",
       "3 Methanobrevibacter_SV150"
      ]
     },
     "metadata": {},
     "output_type": "display_data"
    }
   ],
   "source": [
    "# adding taxonomy\n",
    "tax = physeq %>%\n",
    "    tax_table %>%\n",
    "    as.matrix %>%\n",
    "    as.data.frame %>%\n",
    "    dplyr::select(-Species) \n",
    "    \n",
    "tax$OTU = rownames(tax)\n",
    "rownames(tax) = 1:nrow(tax)\n",
    "\n",
    "# joining\n",
    "otu = otu %>%\n",
    "    inner_join(tax, c('OTU'='OTU')) %>%\n",
    "    arrange(Domain, Phylum, Class, Order, Family, Genus) %>%\n",
    "    mutate(Genus = Genus %>% as.character,\n",
    "           Family = Family %>% as.character,\n",
    "           Order = Order %>% as.character,\n",
    "           Class = Class %>% as.character,\n",
    "           Genus = ifelse(Genus == '', Family, Genus),\n",
    "           Genus = ifelse(grepl('uncultured|insertia|unclassified', Genus), Family, Genus),\n",
    "           Genus = ifelse(grepl('uncultured rumen|unclassified', Genus), Order, Genus),\n",
    "           Genus = ifelse(grepl('uncultured bacterium|unclassified', Genus), Class, Genus),\n",
    "           SV = OTU %>% as.factor %>% as.numeric,\n",
    "           SV = gsub('^', 'SV', SV)) %>%\n",
    "    unite(Genus_SV, Genus, SV) \n",
    "\n",
    "# transforming values\n",
    "otu = otu %>%\n",
    "    mutate(count_perc = log10(count_perc),\n",
    "           count_perc = ifelse(is.infinite(count_perc), NA, count_perc),\n",
    "           count_perc = ifelse(is.na(count_perc), \n",
    "                               min(count_perc, na.rm=TRUE),\n",
    "                               count_perc)) \n",
    "\n",
    "tax = NULL\n",
    "\n",
    "# status\n",
    "otu$OTU %>% unique %>% length %>% print\n",
    "otu$count_perc %>% summary %>% print\n",
    "otu %>% status"
   ]
  },
  {
   "cell_type": "code",
   "execution_count": 177,
   "metadata": {
    "ExecuteTime": {
     "end_time": "2018-01-07T15:28:15.765511Z",
     "start_time": "2018-01-07T15:28:15.382Z"
    }
   },
   "outputs": [
    {
     "data": {
      "text/plain": [
       ".\n",
       "              Acinetobacter                   Aeromonas \n",
       "                        917                         262 \n",
       "                Akkermansia                   Alistipes \n",
       "                        131                         786 \n",
       "                Anaerovorax                Arthrobacter \n",
       "                        131                         131 \n",
       "                Bacteroides                   Bilophila \n",
       "                        786                         131 \n",
       "                    Blautia               Cetobacterium \n",
       "                        131                         131 \n",
       "            Christensenella         Christensenellaceae \n",
       "                        131                        1179 \n",
       "                Citrobacter               Clostridiales \n",
       "                        262                         131 \n",
       "Clostridium sensu stricto 1                 Coprococcus \n",
       "                       1048                         262 \n",
       "              Desulfovibrio                       Dorea \n",
       "                        131                         262 \n",
       "         Enterobacteriaceae                Enterococcus \n",
       "                        524                         393 \n",
       "        Erysipelotrichaceae        Escherichia-Shigella \n",
       "                        393                         262 \n",
       "            Exiguobacterium                 Family XIII \n",
       "                        131                         393 \n",
       "             Flavonifractor             Fusobacteriales \n",
       "                        262                         131 \n",
       "                     Hafnia              Incertae Sedis \n",
       "                        131                        1310 \n",
       "             Intestinimonas             Lachnospiraceae \n",
       "                        262                         786 \n",
       "              Lactobacillus                 Lactococcus \n",
       "                        131                         393 \n",
       "             Lysinibacillus          Methanobrevibacter \n",
       "                        262                         524 \n",
       "                 Mollicutes                  Morganella \n",
       "                        262                         131 \n",
       "              Oscillibacter                Oscillospira \n",
       "                        131                         131 \n",
       "                    Pantoea               Papillibacter \n",
       "                        131                         131 \n",
       "      Peptostreptococcaceae       Phascolarctobacterium \n",
       "                       1310                         131 \n",
       "             Prevotellaceae          Pseudobutyrivibrio \n",
       "                        131                         262 \n",
       "                Pseudomonas                   Ralstonia \n",
       "                        393                         262 \n",
       "                        RF9                   Roseburia \n",
       "                        131                         131 \n",
       "            Ruminococcaceae                Ruminococcus \n",
       "                       6288                         131 \n",
       "               Solibacillus               Streptococcus \n",
       "                        393                         262 \n",
       "            Subdoligranulum                Turicibacter \n",
       "                        131                         262 "
      ]
     },
     "metadata": {},
     "output_type": "display_data"
    }
   ],
   "source": [
    "gsub('_SV.+', '', otu$Genus) %>% table"
   ]
  },
  {
   "cell_type": "code",
   "execution_count": 178,
   "metadata": {
    "ExecuteTime": {
     "end_time": "2018-01-07T15:28:30.323353Z",
     "start_time": "2018-01-07T15:28:30.231Z"
    }
   },
   "outputs": [
    {
     "data": {
      "text/plain": [
       "\n",
       "Phylogenetic tree with 186 tips and 185 internal nodes.\n",
       "\n",
       "Tip labels:\n",
       "\tMethanobrevibacter_SV50, Methanobrevibacter_SV92, Methanobrevibacter_SV150, Methanobrevibacter_SV19, Akkermansia_SV12, Pseudomonas_SV60, ...\n",
       "Node labels:\n",
       "\t0.435, 0.627, 0.783, 0.889, 0.863, 0.812, ...\n",
       "\n",
       "Rooted; includes branch lengths."
      ]
     },
     "metadata": {},
     "output_type": "display_data"
    }
   ],
   "source": [
    "# matching 16S tree\n",
    "tree = physeq %>%\n",
    "    phy_tree\n",
    "\n",
    "# renaming tips based on genus-SV\n",
    "tmp = otu %>%\n",
    "    dplyr::distinct(OTU, Genus_SV) %>%\n",
    "    as.data.frame\n",
    "rownames(tmp) = tmp$OTU\n",
    "tmp = tmp[tree$tip.label,]\n",
    "tree$tip.label = tmp$Genus_SV\n",
    "\n",
    "# status\n",
    "tree"
   ]
  },
  {
   "cell_type": "markdown",
   "metadata": {},
   "source": [
    "# Formatting for iTOL"
   ]
  },
  {
   "cell_type": "code",
   "execution_count": 179,
   "metadata": {
    "ExecuteTime": {
     "end_time": "2018-01-07T15:28:31.972029Z",
     "start_time": "2018-01-07T15:28:31.809Z"
    }
   },
   "outputs": [
    {
     "name": "stdout",
     "output_type": "stream",
     "text": [
      "   Min. 1st Qu.  Median    Mean 3rd Qu.    Max. \n",
      " -316.0  -310.5  -303.9  -300.1  -297.7  -232.2 \n",
      "[1] 131 186\n"
     ]
    },
    {
     "data": {
      "text/html": [
       "<table>\n",
       "<thead><tr><th></th><th scope=col>Methanobrevibacter_SV50</th><th scope=col>Methanobrevibacter_SV92</th><th scope=col>Methanobrevibacter_SV150</th><th scope=col>Methanobrevibacter_SV19</th><th scope=col>Arthrobacter_SV29</th><th scope=col>Bacteroides_SV93</th><th scope=col>Bacteroides_SV78</th><th scope=col>Bacteroides_SV167</th><th scope=col>Bacteroides_SV38</th><th scope=col>Bacteroides_SV56</th><th scope=col>⋯</th><th scope=col>Acinetobacter_SV105</th><th scope=col>Acinetobacter_SV136</th><th scope=col>Acinetobacter_SV99</th><th scope=col>Pseudomonas_SV60</th><th scope=col>Pseudomonas_SV142</th><th scope=col>Pseudomonas_SV132</th><th scope=col>Mollicutes_SV114</th><th scope=col>Mollicutes_SV68</th><th scope=col>RF9_SV131</th><th scope=col>Akkermansia_SV12</th></tr></thead>\n",
       "<tbody>\n",
       "\t<tr><th scope=row>Aesculapian.Snake</th><td>-1.69897 </td><td>-1.698970</td><td>-1.69897 </td><td>-1.698970</td><td>-1.69897 </td><td>-1.69897 </td><td>-1.69897 </td><td>-1.69897 </td><td>-1.69897 </td><td>-1.69897 </td><td>⋯        </td><td>-1.69897 </td><td>-1.69897 </td><td>-1.69897 </td><td>-1.69897 </td><td>-1.69897 </td><td>-1.69897 </td><td>-1.69897 </td><td>-1.69897 </td><td>-1.69897 </td><td>-1.69897 </td></tr>\n",
       "\t<tr><th scope=row>African.Buffalo</th><td>-1.69897 </td><td>-1.221849</td><td>-1.69897 </td><td>-1.221849</td><td>-1.69897 </td><td>-1.69897 </td><td>-1.69897 </td><td>-1.69897 </td><td>-1.69897 </td><td>-1.69897 </td><td>⋯        </td><td>-1.69897 </td><td>-1.69897 </td><td>-1.69897 </td><td>-1.69897 </td><td>-1.69897 </td><td>-1.69897 </td><td>-1.69897 </td><td>-1.69897 </td><td>-1.69897 </td><td>-1.69897 </td></tr>\n",
       "\t<tr><th scope=row>African.Bush.Elephant</th><td>-1.69897 </td><td>-1.698970</td><td>-1.69897 </td><td>-1.698970</td><td>-1.69897 </td><td>-1.69897 </td><td>-1.69897 </td><td>-1.69897 </td><td>-1.69897 </td><td>-1.69897 </td><td>⋯        </td><td>-1.69897 </td><td>-1.69897 </td><td>-1.69897 </td><td>-1.69897 </td><td>-1.69897 </td><td>-1.69897 </td><td>-1.69897 </td><td>-1.69897 </td><td>-1.69897 </td><td>-1.69897 </td></tr>\n",
       "</tbody>\n",
       "</table>\n"
      ],
      "text/latex": [
       "\\begin{tabular}{r|llllllllllllllllllllllllllllllllllllllllllllllllllllllllllllllllllllllllllllllllllllllllllllllllllllllllllllllllllllllllllllllllllllllllllllllllllllllllllllllllllllllllllllllllllllllllll}\n",
       "  & Methanobrevibacter\\_SV50 & Methanobrevibacter\\_SV92 & Methanobrevibacter\\_SV150 & Methanobrevibacter\\_SV19 & Arthrobacter\\_SV29 & Bacteroides\\_SV93 & Bacteroides\\_SV78 & Bacteroides\\_SV167 & Bacteroides\\_SV38 & Bacteroides\\_SV56 & ⋯ & Acinetobacter\\_SV105 & Acinetobacter\\_SV136 & Acinetobacter\\_SV99 & Pseudomonas\\_SV60 & Pseudomonas\\_SV142 & Pseudomonas\\_SV132 & Mollicutes\\_SV114 & Mollicutes\\_SV68 & RF9\\_SV131 & Akkermansia\\_SV12\\\\\n",
       "\\hline\n",
       "\tAesculapian.Snake & -1.69897  & -1.698970 & -1.69897  & -1.698970 & -1.69897  & -1.69897  & -1.69897  & -1.69897  & -1.69897  & -1.69897  & ⋯         & -1.69897  & -1.69897  & -1.69897  & -1.69897  & -1.69897  & -1.69897  & -1.69897  & -1.69897  & -1.69897  & -1.69897 \\\\\n",
       "\tAfrican.Buffalo & -1.69897  & -1.221849 & -1.69897  & -1.221849 & -1.69897  & -1.69897  & -1.69897  & -1.69897  & -1.69897  & -1.69897  & ⋯         & -1.69897  & -1.69897  & -1.69897  & -1.69897  & -1.69897  & -1.69897  & -1.69897  & -1.69897  & -1.69897  & -1.69897 \\\\\n",
       "\tAfrican.Bush.Elephant & -1.69897  & -1.698970 & -1.69897  & -1.698970 & -1.69897  & -1.69897  & -1.69897  & -1.69897  & -1.69897  & -1.69897  & ⋯         & -1.69897  & -1.69897  & -1.69897  & -1.69897  & -1.69897  & -1.69897  & -1.69897  & -1.69897  & -1.69897  & -1.69897 \\\\\n",
       "\\end{tabular}\n"
      ],
      "text/markdown": [
       "\n",
       "| <!--/--> | Methanobrevibacter_SV50 | Methanobrevibacter_SV92 | Methanobrevibacter_SV150 | Methanobrevibacter_SV19 | Arthrobacter_SV29 | Bacteroides_SV93 | Bacteroides_SV78 | Bacteroides_SV167 | Bacteroides_SV38 | Bacteroides_SV56 | ⋯ | Acinetobacter_SV105 | Acinetobacter_SV136 | Acinetobacter_SV99 | Pseudomonas_SV60 | Pseudomonas_SV142 | Pseudomonas_SV132 | Mollicutes_SV114 | Mollicutes_SV68 | RF9_SV131 | Akkermansia_SV12 | \n",
       "|---|---|---|\n",
       "| Aesculapian.Snake | -1.69897  | -1.698970 | -1.69897  | -1.698970 | -1.69897  | -1.69897  | -1.69897  | -1.69897  | -1.69897  | -1.69897  | ⋯         | -1.69897  | -1.69897  | -1.69897  | -1.69897  | -1.69897  | -1.69897  | -1.69897  | -1.69897  | -1.69897  | -1.69897  | \n",
       "| African.Buffalo | -1.69897  | -1.221849 | -1.69897  | -1.221849 | -1.69897  | -1.69897  | -1.69897  | -1.69897  | -1.69897  | -1.69897  | ⋯         | -1.69897  | -1.69897  | -1.69897  | -1.69897  | -1.69897  | -1.69897  | -1.69897  | -1.69897  | -1.69897  | -1.69897  | \n",
       "| African.Bush.Elephant | -1.69897  | -1.698970 | -1.69897  | -1.698970 | -1.69897  | -1.69897  | -1.69897  | -1.69897  | -1.69897  | -1.69897  | ⋯         | -1.69897  | -1.69897  | -1.69897  | -1.69897  | -1.69897  | -1.69897  | -1.69897  | -1.69897  | -1.69897  | -1.69897  | \n",
       "\n",
       "\n"
      ],
      "text/plain": [
       "                      Methanobrevibacter_SV50 Methanobrevibacter_SV92\n",
       "Aesculapian.Snake     -1.69897                -1.698970              \n",
       "African.Buffalo       -1.69897                -1.221849              \n",
       "African.Bush.Elephant -1.69897                -1.698970              \n",
       "                      Methanobrevibacter_SV150 Methanobrevibacter_SV19\n",
       "Aesculapian.Snake     -1.69897                 -1.698970              \n",
       "African.Buffalo       -1.69897                 -1.221849              \n",
       "African.Bush.Elephant -1.69897                 -1.698970              \n",
       "                      Arthrobacter_SV29 Bacteroides_SV93 Bacteroides_SV78\n",
       "Aesculapian.Snake     -1.69897          -1.69897         -1.69897        \n",
       "African.Buffalo       -1.69897          -1.69897         -1.69897        \n",
       "African.Bush.Elephant -1.69897          -1.69897         -1.69897        \n",
       "                      Bacteroides_SV167 Bacteroides_SV38 Bacteroides_SV56 ⋯\n",
       "Aesculapian.Snake     -1.69897          -1.69897         -1.69897         ⋯\n",
       "African.Buffalo       -1.69897          -1.69897         -1.69897         ⋯\n",
       "African.Bush.Elephant -1.69897          -1.69897         -1.69897         ⋯\n",
       "                      Acinetobacter_SV105 Acinetobacter_SV136\n",
       "Aesculapian.Snake     -1.69897            -1.69897           \n",
       "African.Buffalo       -1.69897            -1.69897           \n",
       "African.Bush.Elephant -1.69897            -1.69897           \n",
       "                      Acinetobacter_SV99 Pseudomonas_SV60 Pseudomonas_SV142\n",
       "Aesculapian.Snake     -1.69897           -1.69897         -1.69897         \n",
       "African.Buffalo       -1.69897           -1.69897         -1.69897         \n",
       "African.Bush.Elephant -1.69897           -1.69897         -1.69897         \n",
       "                      Pseudomonas_SV132 Mollicutes_SV114 Mollicutes_SV68\n",
       "Aesculapian.Snake     -1.69897          -1.69897         -1.69897       \n",
       "African.Buffalo       -1.69897          -1.69897         -1.69897       \n",
       "African.Bush.Elephant -1.69897          -1.69897         -1.69897       \n",
       "                      RF9_SV131 Akkermansia_SV12\n",
       "Aesculapian.Snake     -1.69897  -1.69897        \n",
       "African.Buffalo       -1.69897  -1.69897        \n",
       "African.Bush.Elephant -1.69897  -1.69897        "
      ]
     },
     "metadata": {},
     "output_type": "display_data"
    }
   ],
   "source": [
    "# ordering matrix\n",
    "otu_m = otu %>%\n",
    "    dplyr::select(Genus_SV, sample, count_perc) %>%\n",
    "    spread(Genus_SV, count_perc) %>%\n",
    "    as.data.frame\n",
    "\n",
    "rownames(otu_m) = otu_m$sample\n",
    "otu_m$sample = NULL\n",
    "\n",
    "# reordering\n",
    "otu_m = otu_m[,unique(otu$Genus_SV)]\n",
    "\n",
    "# status\n",
    "rowSums(otu_m) %>% summary %>% print\n",
    "otu_m %>% status"
   ]
  },
  {
   "cell_type": "code",
   "execution_count": 180,
   "metadata": {
    "ExecuteTime": {
     "end_time": "2018-01-07T15:28:33.180922Z",
     "start_time": "2018-01-07T15:28:33.117Z"
    }
   },
   "outputs": [
    {
     "name": "stdout",
     "output_type": "stream",
     "text": [
      "character(0)\n",
      "character(0)\n"
     ]
    }
   ],
   "source": [
    "# checking sample overlap\n",
    "setdiff(host_clado$tip.label, rownames(otu_m)) %>% print\n",
    "setdiff(rownames(otu_m), host_clado$tip.label) %>% print"
   ]
  },
  {
   "cell_type": "code",
   "execution_count": 181,
   "metadata": {
    "ExecuteTime": {
     "end_time": "2018-01-07T15:28:33.779283Z",
     "start_time": "2018-01-07T15:28:33.587Z"
    }
   },
   "outputs": [
    {
     "name": "stdout",
     "output_type": "stream",
     "text": [
      "File written: /ebio/abt3_projects/Georg_animal_feces/data/host_specific/clado_map//SpecD-SV_htmp.txt \n"
     ]
    }
   ],
   "source": [
    "itol_htmp_file = file.path(work_dir, 'SpecD-SV_htmp.txt')\n",
    "labs = gsub(' ', '_', colnames(otu_m))\n",
    "labs = sprintf('FIELD_LABELS %s\\n', paste(labs, collapse=' '))\n",
    "\n",
    "cat('DATASET_HEATMAP\\n', file=itol_htmp_file)\n",
    "cat('SEPARATOR SPACE\\n', file=itol_htmp_file, append=TRUE)\n",
    "cat('DATASET_LABEL SV\\n', file=itol_htmp_file, append=TRUE)\n",
    "cat('COLOR #ff0000\\n', file=itol_htmp_file, append=TRUE)\n",
    "cat('FIELD_TREE ', file=itol_htmp_file, append=TRUE)\n",
    "write.tree(tree, file=itol_htmp_file, append=TRUE)\n",
    "cat(labs, file=itol_htmp_file, append=TRUE)\n",
    "cat('DATA\\n', file=itol_htmp_file, append=TRUE)\n",
    "write.table(otu_m, file=itol_htmp_file, append=TRUE, sep=' ', \n",
    "            quote=FALSE, col.names=FALSE)\n",
    "cat('File written:', itol_htmp_file, '\\n')"
   ]
  },
  {
   "cell_type": "markdown",
   "metadata": {},
   "source": [
    "## Just methanogens"
   ]
  },
  {
   "cell_type": "code",
   "execution_count": null,
   "metadata": {
    "ExecuteTime": {
     "end_time": "2017-12-24T12:19:48.424835Z",
     "start_time": "2017-12-24T12:19:48.256Z"
    }
   },
   "outputs": [],
   "source": [
    "# ordering matrix\n",
    "otu_m = otu %>%\n",
    "    dplyr::select(OTU, sample, count_perc) %>%\n",
    "    spread(OTU, count_perc) %>%\n",
    "    as.data.frame\n",
    "\n",
    "rownames(otu_m) = otu_m$sample\n",
    "otu_m$sample = NULL\n",
    "\n",
    "# reordering\n",
    "otu_m = otu_m[,unique(otu$OTU)]\n",
    "\n",
    "# filtering\n",
    "otu_m = otu_m[,grepl('^Methano', colnames(otu_m))]\n",
    "\n",
    "# status\n",
    "rowSums(otu_m) %>% summary %>% print\n",
    "otu_m %>% status"
   ]
  },
  {
   "cell_type": "code",
   "execution_count": null,
   "metadata": {
    "ExecuteTime": {
     "end_time": "2017-12-24T12:20:58.508646Z",
     "start_time": "2017-12-24T12:20:58.394Z"
    }
   },
   "outputs": [],
   "source": [
    "itol_htmp_file = file.path(work_dir, 'SpecD-SV_htmp-Meth.txt')\n",
    "labs = gsub(' ', '_', colnames(otu_m))\n",
    "labs = sprintf('FIELD_LABELS %s\\n', paste(labs, collapse=' '))\n",
    "\n",
    "cat('DATASET_HEATMAP\\n', file=itol_htmp_file)\n",
    "cat('SEPARATOR SPACE\\n', file=itol_htmp_file, append=TRUE)\n",
    "cat('DATASET_LABEL SV-meth\\n', file=itol_htmp_file, append=TRUE)\n",
    "cat('COLOR #ff0000\\n', file=itol_htmp_file, append=TRUE)\n",
    "cat(labs, file=itol_htmp_file, append=TRUE)\n",
    "cat('DATA\\n', file=itol_htmp_file, append=TRUE)\n",
    "write.table(otu_m, file=itol_htmp_file, append=TRUE, sep=' ', \n",
    "            quote=FALSE, col.names=FALSE)\n",
    "cat('File written:', itol_htmp_file, '\\n')"
   ]
  },
  {
   "cell_type": "markdown",
   "metadata": {},
   "source": [
    "# sessionInfo()"
   ]
  },
  {
   "cell_type": "code",
   "execution_count": null,
   "metadata": {
    "ExecuteTime": {
     "end_time": "2017-12-24T11:42:45.969321Z",
     "start_time": "2017-12-24T11:42:43.303Z"
    }
   },
   "outputs": [],
   "source": [
    "sessionInfo()"
   ]
  },
  {
   "cell_type": "code",
   "execution_count": null,
   "metadata": {},
   "outputs": [],
   "source": []
  }
 ],
 "metadata": {
  "kernelspec": {
   "display_name": "R [conda env:py3_physeq_htmp]",
   "language": "R",
   "name": "conda-env-py3_physeq_htmp-r"
  },
  "language_info": {
   "codemirror_mode": "r",
   "file_extension": ".r",
   "mimetype": "text/x-r-source",
   "name": "R",
   "pygments_lexer": "r",
   "version": "3.4.1"
  },
  "notify_time": "30",
  "toc": {
   "nav_menu": {},
   "number_sections": true,
   "sideBar": true,
   "skip_h1_title": false,
   "toc_cell": false,
   "toc_position": {},
   "toc_section_display": "block",
   "toc_window_display": true
  }
 },
 "nbformat": 4,
 "nbformat_minor": 2
}
