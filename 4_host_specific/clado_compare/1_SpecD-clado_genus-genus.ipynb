{
 "cells": [
  {
   "cell_type": "markdown",
   "metadata": {},
   "source": [
    "# Goal\n",
    "\n",
    "* Making cladogram for microbial genera (post-filtering)\n",
    "* use heatmaps to plot phylogenetic signal\n",
    "  * abundance of taxa in each host clade; ordered by cladograms"
   ]
  },
  {
   "cell_type": "markdown",
   "metadata": {
    "ExecuteTime": {
     "end_time": "2017-12-12T16:13:52.778325Z",
     "start_time": "2017-12-12T16:13:52.713Z"
    }
   },
   "source": [
    "# Var"
   ]
  },
  {
   "cell_type": "code",
   "execution_count": 27,
   "metadata": {
    "ExecuteTime": {
     "end_time": "2017-12-24T07:18:54.017150Z",
     "start_time": "2017-12-24T07:18:54.127Z"
    }
   },
   "outputs": [],
   "source": [
    "work_dir = '/ebio/abt3_projects/Georg_animal_feces/data/host_specific/clado_map/'\n",
    "\n",
    "# phyloseq\n",
    "physeq_file = '/ebio/abt3_projects/Georg_animal_feces/data/16S/LLA/phyloseq//physeq_SpecD.RDS'\n",
    "\n",
    "# host cladogram\n",
    "clado_file = '/ebio/abt3_projects/Georg_animal_feces/data/animal/phylogeny/cladogram//unified_metadata_20171206_r5k_Genus.nwk'\n",
    "\n",
    "# misc\n",
    "sparsity_cutoff = 0.3"
   ]
  },
  {
   "cell_type": "markdown",
   "metadata": {},
   "source": [
    "# Init"
   ]
  },
  {
   "cell_type": "code",
   "execution_count": 28,
   "metadata": {
    "ExecuteTime": {
     "end_time": "2017-12-24T07:18:55.148419Z",
     "start_time": "2017-12-24T07:18:55.253Z"
    }
   },
   "outputs": [],
   "source": [
    "library(dplyr)\n",
    "library(tidyr)\n",
    "library(ggplot2)\n",
    "library(stringr)\n",
    "library(ape)\n",
    "library(phyloseq)\n",
    "source('/ebio/abt3_projects/Georg_animal_feces/code/init.R') "
   ]
  },
  {
   "cell_type": "code",
   "execution_count": 29,
   "metadata": {
    "ExecuteTime": {
     "end_time": "2017-12-24T07:18:55.454443Z",
     "start_time": "2017-12-24T07:18:55.580Z"
    }
   },
   "outputs": [
    {
     "name": "stdout",
     "output_type": "stream",
     "text": [
      "Directory already exists: /ebio/abt3_projects/Georg_animal_feces/data/host_specific/clado_map/ \n"
     ]
    }
   ],
   "source": [
    "make_dir(work_dir)\n",
    "setwd(work_dir)"
   ]
  },
  {
   "cell_type": "markdown",
   "metadata": {},
   "source": [
    "# Load"
   ]
  },
  {
   "cell_type": "markdown",
   "metadata": {},
   "source": [
    "## physeq"
   ]
  },
  {
   "cell_type": "code",
   "execution_count": 30,
   "metadata": {
    "ExecuteTime": {
     "end_time": "2017-12-24T07:18:57.793569Z",
     "start_time": "2017-12-24T07:18:57.222Z"
    }
   },
   "outputs": [
    {
     "data": {
      "text/plain": [
       "phyloseq-class experiment-level object\n",
       "otu_table()   OTU Table:         [ 19190 taxa and 131 samples ]\n",
       "sample_data() Sample Data:       [ 131 samples by 100 sample variables ]\n",
       "tax_table()   Taxonomy Table:    [ 19190 taxa by 7 taxonomic ranks ]\n",
       "phy_tree()    Phylogenetic Tree: [ 19190 tips and 18939 internal nodes ]"
      ]
     },
     "metadata": {},
     "output_type": "display_data"
    }
   ],
   "source": [
    "physeq = readRDS(physeq_file)\n",
    "physeq"
   ]
  },
  {
   "cell_type": "markdown",
   "metadata": {},
   "source": [
    "### filter out no-genus designation"
   ]
  },
  {
   "cell_type": "code",
   "execution_count": 31,
   "metadata": {
    "ExecuteTime": {
     "end_time": "2017-12-24T07:19:00.392912Z",
     "start_time": "2017-12-24T07:19:00.295Z"
    }
   },
   "outputs": [
    {
     "data": {
      "text/html": [
       "<ol class=list-inline>\n",
       "\t<li>'unclassified'</li>\n",
       "\t<li>'uncultured'</li>\n",
       "\t<li>'unidentified'</li>\n",
       "\t<li>'Incertae Sedis'</li>\n",
       "\t<li>'uncultured'</li>\n",
       "\t<li>'uncultured Acidimicrobidae bacterium'</li>\n",
       "\t<li>'uncultured actinobacterium'</li>\n",
       "\t<li>'uncultured bacterium'</li>\n",
       "\t<li>'uncultured Bacteroidales bacterium'</li>\n",
       "\t<li>'uncultured Bacteroidetes bacterium'</li>\n",
       "\t<li>'uncultured candidate division TG3 bacterium'</li>\n",
       "\t<li>'uncultured delta proteobacterium'</li>\n",
       "\t<li>'uncultured Gemmata sp.'</li>\n",
       "\t<li>'uncultured haloarchaeon'</li>\n",
       "\t<li>'uncultured organism'</li>\n",
       "\t<li>'uncultured Porphyromonadaceae bacterium'</li>\n",
       "\t<li>'uncultured proteobacterium'</li>\n",
       "\t<li>'uncultured rumen bacterium'</li>\n",
       "\t<li>'uncultured soil bacterium'</li>\n",
       "\t<li>'uncultured Verrucomicrobia bacterium'</li>\n",
       "</ol>\n"
      ],
      "text/latex": [
       "\\begin{enumerate*}\n",
       "\\item 'unclassified'\n",
       "\\item 'uncultured'\n",
       "\\item 'unidentified'\n",
       "\\item 'Incertae Sedis'\n",
       "\\item 'uncultured'\n",
       "\\item 'uncultured Acidimicrobidae bacterium'\n",
       "\\item 'uncultured actinobacterium'\n",
       "\\item 'uncultured bacterium'\n",
       "\\item 'uncultured Bacteroidales bacterium'\n",
       "\\item 'uncultured Bacteroidetes bacterium'\n",
       "\\item 'uncultured candidate division TG3 bacterium'\n",
       "\\item 'uncultured delta proteobacterium'\n",
       "\\item 'uncultured Gemmata sp.'\n",
       "\\item 'uncultured haloarchaeon'\n",
       "\\item 'uncultured organism'\n",
       "\\item 'uncultured Porphyromonadaceae bacterium'\n",
       "\\item 'uncultured proteobacterium'\n",
       "\\item 'uncultured rumen bacterium'\n",
       "\\item 'uncultured soil bacterium'\n",
       "\\item 'uncultured Verrucomicrobia bacterium'\n",
       "\\end{enumerate*}\n"
      ],
      "text/markdown": [
       "1. 'unclassified'\n",
       "2. 'uncultured'\n",
       "3. 'unidentified'\n",
       "4. 'Incertae Sedis'\n",
       "5. 'uncultured'\n",
       "6. 'uncultured Acidimicrobidae bacterium'\n",
       "7. 'uncultured actinobacterium'\n",
       "8. 'uncultured bacterium'\n",
       "9. 'uncultured Bacteroidales bacterium'\n",
       "10. 'uncultured Bacteroidetes bacterium'\n",
       "11. 'uncultured candidate division TG3 bacterium'\n",
       "12. 'uncultured delta proteobacterium'\n",
       "13. 'uncultured Gemmata sp.'\n",
       "14. 'uncultured haloarchaeon'\n",
       "15. 'uncultured organism'\n",
       "16. 'uncultured Porphyromonadaceae bacterium'\n",
       "17. 'uncultured proteobacterium'\n",
       "18. 'uncultured rumen bacterium'\n",
       "19. 'uncultured soil bacterium'\n",
       "20. 'uncultured Verrucomicrobia bacterium'\n",
       "\n",
       "\n"
      ],
      "text/plain": [
       " [1] \"unclassified\"                               \n",
       " [2] \"uncultured\"                                 \n",
       " [3] \"unidentified\"                               \n",
       " [4] \"Incertae Sedis\"                             \n",
       " [5] \"uncultured\"                                 \n",
       " [6] \"uncultured Acidimicrobidae bacterium\"       \n",
       " [7] \"uncultured actinobacterium\"                 \n",
       " [8] \"uncultured bacterium\"                       \n",
       " [9] \"uncultured Bacteroidales bacterium\"         \n",
       "[10] \"uncultured Bacteroidetes bacterium\"         \n",
       "[11] \"uncultured candidate division TG3 bacterium\"\n",
       "[12] \"uncultured delta proteobacterium\"           \n",
       "[13] \"uncultured Gemmata sp.\"                     \n",
       "[14] \"uncultured haloarchaeon\"                    \n",
       "[15] \"uncultured organism\"                        \n",
       "[16] \"uncultured Porphyromonadaceae bacterium\"    \n",
       "[17] \"uncultured proteobacterium\"                 \n",
       "[18] \"uncultured rumen bacterium\"                 \n",
       "[19] \"uncultured soil bacterium\"                  \n",
       "[20] \"uncultured Verrucomicrobia bacterium\"       "
      ]
     },
     "metadata": {},
     "output_type": "display_data"
    }
   ],
   "source": [
    "genera = physeq %>% tax_table %>% as.data.frame %>% .$Genus %>% unique %>% sort %>% as.vector\n",
    "to_rm = c('unclassified', 'uncultured', 'unidentified', 'Incertae Sedis') \n",
    "to_rm = c(to_rm, genera[grepl('uncultured', genera)])\n",
    "to_rm"
   ]
  },
  {
   "cell_type": "code",
   "execution_count": 32,
   "metadata": {
    "ExecuteTime": {
     "end_time": "2017-12-24T07:19:05.755030Z",
     "start_time": "2017-12-24T07:19:01.894Z"
    }
   },
   "outputs": [
    {
     "data": {
      "text/plain": [
       "phyloseq-class experiment-level object\n",
       "otu_table()   OTU Table:         [ 8418 taxa and 131 samples ]\n",
       "sample_data() Sample Data:       [ 131 samples by 100 sample variables ]\n",
       "tax_table()   Taxonomy Table:    [ 8418 taxa by 7 taxonomic ranks ]\n",
       "phy_tree()    Phylogenetic Tree: [ 8418 tips and 8341 internal nodes ]"
      ]
     },
     "metadata": {},
     "output_type": "display_data"
    }
   ],
   "source": [
    "physeq = physeq %>% \n",
    "    subset_taxa(!Genus %in% to_rm)\n",
    "physeq"
   ]
  },
  {
   "cell_type": "code",
   "execution_count": 33,
   "metadata": {
    "ExecuteTime": {
     "end_time": "2017-12-24T07:19:05.921951Z",
     "start_time": "2017-12-24T07:19:02.465Z"
    }
   },
   "outputs": [
    {
     "name": "stderr",
     "output_type": "stream",
     "text": [
      "Warning message in class(X) <- NULL:\n",
      "“Setting class(x) to NULL;   result will no longer be an S4 object”"
     ]
    },
    {
     "name": "stdout",
     "output_type": "stream",
     "text": [
      "[1] 131 100\n"
     ]
    },
    {
     "data": {
      "text/html": [
       "<table>\n",
       "<thead><tr><th></th><th scope=col>BarcodeSequence</th><th scope=col>LinkerPrimerSequence</th><th scope=col>Primer</th><th scope=col>ReversePrimer</th><th scope=col>Barcode_ID</th><th scope=col>sample_number</th><th scope=col>host_subj_id</th><th scope=col>host_common_name</th><th scope=col>scientific_name</th><th scope=col>scientific_name_subspecies</th><th scope=col>⋯</th><th scope=col>PCR_dil_qPCR_2</th><th scope=col>Ct_A_2</th><th scope=col>Ct_B_2</th><th scope=col>Amount_SYBR_copies_in_5_ul_A_2</th><th scope=col>Amount_SYBR_copies_in_5_ul_B_2</th><th scope=col>Amount_geometric_mean_SYBR_2</th><th scope=col>Copies_in_5_ul_PCR_template_2</th><th scope=col>Copies_per_100_ul_extract_2</th><th scope=col>wellplate_Illumina</th><th scope=col>wellplate_position_Illumina</th></tr></thead>\n",
       "<tbody>\n",
       "\t<tr><th scope=row>X1.Eurasian.Beaver</th><td>ACTCACGGTATG         </td><td>CATGCTGCCTCCCGTAGGAGT</td><td>GCCTCCCTCGCGCCATCAG  </td><td>AGAGTTTGATCCTGGCTCAG </td><td>338R_BC0049          </td><td>1                    </td><td>1                    </td><td>Eurasian.Beaver      </td><td>Castor fiber         </td><td>NA                   </td><td>⋯                    </td><td>NA                   </td><td>NA                   </td><td>NA                   </td><td>NA                   </td><td>NA                   </td><td>NA                   </td><td>NA                   </td><td>NA                   </td><td>2                    </td><td>B12                  </td></tr>\n",
       "\t<tr><th scope=row>X109.Red.Fox</th><td>ACTGTCGAAGCT         </td><td>CATGCTGCCTCCCGTAGGAGT</td><td>GCCTCCCTCGCGCCATCAG  </td><td>AGAGTTTGATCCTGGCTCAG </td><td>338R_BC0057          </td><td>109                  </td><td>109                  </td><td>Red.Fox              </td><td>Vulpes vulpes        </td><td>NA                   </td><td>⋯                    </td><td> 16                  </td><td>15.01                </td><td>NA                   </td><td>2.340E+7X            </td><td>NA                   </td><td>NA                   </td><td>3.74e+08             </td><td>7.49e+09             </td><td>4                    </td><td>F2                   </td></tr>\n",
       "\t<tr><th scope=row>X116.Common.Kestrel</th><td>ACACGGTGTCTA         </td><td>CATGCTGCCTCCCGTAGGAGT</td><td>GCCTCCCTCGCGCCATCAG  </td><td>AGAGTTTGATCCTGGCTCAG </td><td>338R_BC0011          </td><td>116                  </td><td>116                  </td><td>Common.Kestrel       </td><td>Falco tinnunculus    </td><td>NA                   </td><td>⋯                    </td><td> 16                  </td><td>20.79                </td><td>NA                   </td><td>5.210E+5X            </td><td>NA                   </td><td>NA                   </td><td>8.34e+06             </td><td>1.67e+08             </td><td>1                    </td><td>C11                  </td></tr>\n",
       "</tbody>\n",
       "</table>\n"
      ],
      "text/latex": [
       "\\begin{tabular}{r|llllllllllllllllllllllllllllllllllllllllllllllllllllllllllllllllllllllllllllllllllllllllllllllllllll}\n",
       "  & BarcodeSequence & LinkerPrimerSequence & Primer & ReversePrimer & Barcode\\_ID & sample\\_number & host\\_subj\\_id & host\\_common\\_name & scientific\\_name & scientific\\_name\\_subspecies & ⋯ & PCR\\_dil\\_qPCR\\_2 & Ct\\_A\\_2 & Ct\\_B\\_2 & Amount\\_SYBR\\_copies\\_in\\_5\\_ul\\_A\\_2 & Amount\\_SYBR\\_copies\\_in\\_5\\_ul\\_B\\_2 & Amount\\_geometric\\_mean\\_SYBR\\_2 & Copies\\_in\\_5\\_ul\\_PCR\\_template\\_2 & Copies\\_per\\_100\\_ul\\_extract\\_2 & wellplate\\_Illumina & wellplate\\_position\\_Illumina\\\\\n",
       "\\hline\n",
       "\tX1.Eurasian.Beaver & ACTCACGGTATG          & CATGCTGCCTCCCGTAGGAGT & GCCTCCCTCGCGCCATCAG   & AGAGTTTGATCCTGGCTCAG  & 338R\\_BC0049         & 1                     & 1                     & Eurasian.Beaver       & Castor fiber          & NA                    & ⋯                     & NA                    & NA                    & NA                    & NA                    & NA                    & NA                    & NA                    & NA                    & 2                     & B12                  \\\\\n",
       "\tX109.Red.Fox & ACTGTCGAAGCT          & CATGCTGCCTCCCGTAGGAGT & GCCTCCCTCGCGCCATCAG   & AGAGTTTGATCCTGGCTCAG  & 338R\\_BC0057         & 109                   & 109                   & Red.Fox               & Vulpes vulpes         & NA                    & ⋯                     &  16                   & 15.01                 & NA                    & 2.340E+7X             & NA                    & NA                    & 3.74e+08              & 7.49e+09              & 4                     & F2                   \\\\\n",
       "\tX116.Common.Kestrel & ACACGGTGTCTA          & CATGCTGCCTCCCGTAGGAGT & GCCTCCCTCGCGCCATCAG   & AGAGTTTGATCCTGGCTCAG  & 338R\\_BC0011         & 116                   & 116                   & Common.Kestrel        & Falco tinnunculus     & NA                    & ⋯                     &  16                   & 20.79                 & NA                    & 5.210E+5X             & NA                    & NA                    & 8.34e+06              & 1.67e+08              & 1                     & C11                  \\\\\n",
       "\\end{tabular}\n"
      ],
      "text/markdown": [
       "\n",
       "| <!--/--> | BarcodeSequence | LinkerPrimerSequence | Primer | ReversePrimer | Barcode_ID | sample_number | host_subj_id | host_common_name | scientific_name | scientific_name_subspecies | ⋯ | PCR_dil_qPCR_2 | Ct_A_2 | Ct_B_2 | Amount_SYBR_copies_in_5_ul_A_2 | Amount_SYBR_copies_in_5_ul_B_2 | Amount_geometric_mean_SYBR_2 | Copies_in_5_ul_PCR_template_2 | Copies_per_100_ul_extract_2 | wellplate_Illumina | wellplate_position_Illumina | \n",
       "|---|---|---|\n",
       "| X1.Eurasian.Beaver | ACTCACGGTATG          | CATGCTGCCTCCCGTAGGAGT | GCCTCCCTCGCGCCATCAG   | AGAGTTTGATCCTGGCTCAG  | 338R_BC0049           | 1                     | 1                     | Eurasian.Beaver       | Castor fiber          | NA                    | ⋯                     | NA                    | NA                    | NA                    | NA                    | NA                    | NA                    | NA                    | NA                    | 2                     | B12                   | \n",
       "| X109.Red.Fox | ACTGTCGAAGCT          | CATGCTGCCTCCCGTAGGAGT | GCCTCCCTCGCGCCATCAG   | AGAGTTTGATCCTGGCTCAG  | 338R_BC0057           | 109                   | 109                   | Red.Fox               | Vulpes vulpes         | NA                    | ⋯                     |  16                   | 15.01                 | NA                    | 2.340E+7X             | NA                    | NA                    | 3.74e+08              | 7.49e+09              | 4                     | F2                    | \n",
       "| X116.Common.Kestrel | ACACGGTGTCTA          | CATGCTGCCTCCCGTAGGAGT | GCCTCCCTCGCGCCATCAG   | AGAGTTTGATCCTGGCTCAG  | 338R_BC0011           | 116                   | 116                   | Common.Kestrel        | Falco tinnunculus     | NA                    | ⋯                     |  16                   | 20.79                 | NA                    | 5.210E+5X             | NA                    | NA                    | 8.34e+06              | 1.67e+08              | 1                     | C11                   | \n",
       "\n",
       "\n"
      ],
      "text/plain": [
       "                    BarcodeSequence LinkerPrimerSequence  Primer             \n",
       "X1.Eurasian.Beaver  ACTCACGGTATG    CATGCTGCCTCCCGTAGGAGT GCCTCCCTCGCGCCATCAG\n",
       "X109.Red.Fox        ACTGTCGAAGCT    CATGCTGCCTCCCGTAGGAGT GCCTCCCTCGCGCCATCAG\n",
       "X116.Common.Kestrel ACACGGTGTCTA    CATGCTGCCTCCCGTAGGAGT GCCTCCCTCGCGCCATCAG\n",
       "                    ReversePrimer        Barcode_ID  sample_number host_subj_id\n",
       "X1.Eurasian.Beaver  AGAGTTTGATCCTGGCTCAG 338R_BC0049 1             1           \n",
       "X109.Red.Fox        AGAGTTTGATCCTGGCTCAG 338R_BC0057 109           109         \n",
       "X116.Common.Kestrel AGAGTTTGATCCTGGCTCAG 338R_BC0011 116           116         \n",
       "                    host_common_name scientific_name  \n",
       "X1.Eurasian.Beaver  Eurasian.Beaver  Castor fiber     \n",
       "X109.Red.Fox        Red.Fox          Vulpes vulpes    \n",
       "X116.Common.Kestrel Common.Kestrel   Falco tinnunculus\n",
       "                    scientific_name_subspecies ⋯ PCR_dil_qPCR_2 Ct_A_2 Ct_B_2\n",
       "X1.Eurasian.Beaver  NA                         ⋯ NA             NA     NA    \n",
       "X109.Red.Fox        NA                         ⋯  16            15.01  NA    \n",
       "X116.Common.Kestrel NA                         ⋯  16            20.79  NA    \n",
       "                    Amount_SYBR_copies_in_5_ul_A_2\n",
       "X1.Eurasian.Beaver  NA                            \n",
       "X109.Red.Fox        2.340E+7X                     \n",
       "X116.Common.Kestrel 5.210E+5X                     \n",
       "                    Amount_SYBR_copies_in_5_ul_B_2 Amount_geometric_mean_SYBR_2\n",
       "X1.Eurasian.Beaver  NA                             NA                          \n",
       "X109.Red.Fox        NA                             NA                          \n",
       "X116.Common.Kestrel NA                             NA                          \n",
       "                    Copies_in_5_ul_PCR_template_2 Copies_per_100_ul_extract_2\n",
       "X1.Eurasian.Beaver  NA                            NA                         \n",
       "X109.Red.Fox        3.74e+08                      7.49e+09                   \n",
       "X116.Common.Kestrel 8.34e+06                      1.67e+08                   \n",
       "                    wellplate_Illumina wellplate_position_Illumina\n",
       "X1.Eurasian.Beaver  2                  B12                        \n",
       "X109.Red.Fox        4                  F2                         \n",
       "X116.Common.Kestrel 1                  C11                        "
      ]
     },
     "metadata": {},
     "output_type": "display_data"
    }
   ],
   "source": [
    "metadata = physeq %>% \n",
    "    sample_data %>% \n",
    "    as.matrix %>% as.data.frame\n",
    "metadata %>% status"
   ]
  },
  {
   "cell_type": "markdown",
   "metadata": {},
   "source": [
    "### Summing by genus & filter sparse"
   ]
  },
  {
   "cell_type": "code",
   "execution_count": 35,
   "metadata": {
    "ExecuteTime": {
     "end_time": "2017-12-24T07:23:15.436923Z",
     "start_time": "2017-12-24T07:19:04.663Z"
    }
   },
   "outputs": [
    {
     "data": {
      "text/plain": [
       "phyloseq-class experiment-level object\n",
       "otu_table()   OTU Table:         [ 533 taxa and 131 samples ]\n",
       "sample_data() Sample Data:       [ 131 samples by 100 sample variables ]\n",
       "tax_table()   Taxonomy Table:    [ 533 taxa by 7 taxonomic ranks ]"
      ]
     },
     "metadata": {},
     "output_type": "display_data"
    }
   ],
   "source": [
    "# summing by genus\n",
    "phyloseq_genus = phyloseq(otu_table(physeq),\n",
    "                          sample_data(physeq),\n",
    "                          tax_table(physeq))\n",
    "\n",
    "physeq_genus = phyloseq_genus %>% \n",
    "    tax_glom('Genus') \n",
    "physeq_genus"
   ]
  },
  {
   "cell_type": "code",
   "execution_count": 36,
   "metadata": {
    "ExecuteTime": {
     "end_time": "2017-12-24T07:23:15.624409Z",
     "start_time": "2017-12-24T07:19:05.247Z"
    }
   },
   "outputs": [
    {
     "data": {
      "text/plain": [
       "phyloseq-class experiment-level object\n",
       "otu_table()   OTU Table:         [ 22 taxa and 131 samples ]\n",
       "sample_data() Sample Data:       [ 131 samples by 100 sample variables ]\n",
       "tax_table()   Taxonomy Table:    [ 22 taxa by 7 taxonomic ranks ]"
      ]
     },
     "metadata": {},
     "output_type": "display_data"
    }
   ],
   "source": [
    "physeq_genus = physeq_genus %>%\n",
    "    filter_taxa(function(x) sum(x > 0) / length(x) > sparsity_cutoff, TRUE) \n",
    "physeq_genus"
   ]
  },
  {
   "cell_type": "code",
   "execution_count": 37,
   "metadata": {
    "ExecuteTime": {
     "end_time": "2017-12-24T07:23:15.674583Z",
     "start_time": "2017-12-24T07:19:06.174Z"
    }
   },
   "outputs": [],
   "source": [
    "# free memory\n",
    "physeq = NULL"
   ]
  },
  {
   "cell_type": "code",
   "execution_count": 38,
   "metadata": {
    "ExecuteTime": {
     "end_time": "2017-12-24T07:23:15.757321Z",
     "start_time": "2017-12-24T07:19:07.279Z"
    }
   },
   "outputs": [
    {
     "name": "stdout",
     "output_type": "stream",
     "text": [
      "File written: /ebio/abt3_projects/Georg_animal_feces/data/host_specific/clado_map//physeq_IndD_genus.RDS"
     ]
    }
   ],
   "source": [
    "physeq_genus_file = file.path(work_dir, 'physeq_IndD_genus.RDS')\n",
    "saveRDS(physeq_genus, file=physeq_genus_file) \n",
    "cat('File written:', physeq_genus_file)"
   ]
  },
  {
   "cell_type": "markdown",
   "metadata": {},
   "source": [
    "# Getting occurrance of genera in hosts"
   ]
  },
  {
   "cell_type": "code",
   "execution_count": 39,
   "metadata": {
    "ExecuteTime": {
     "end_time": "2017-12-24T07:23:16.811956Z",
     "start_time": "2017-12-24T07:19:09.647Z"
    }
   },
   "outputs": [
    {
     "name": "stdout",
     "output_type": "stream",
     "text": [
      "[1] 2882    3\n"
     ]
    },
    {
     "data": {
      "text/html": [
       "<table>\n",
       "<thead><tr><th scope=col>OTU</th><th scope=col>sample</th><th scope=col>count</th></tr></thead>\n",
       "<tbody>\n",
       "\t<tr><td>0e1de44ae4fcc0968e549457277b4fb1</td><td>X1.Eurasian.Beaver              </td><td>269                             </td></tr>\n",
       "\t<tr><td>13fabb2c42c260bd77b4358f429eba6c</td><td>X1.Eurasian.Beaver              </td><td>  0                             </td></tr>\n",
       "\t<tr><td>66702759d2d292afce742b8b989a6d1d</td><td>X1.Eurasian.Beaver              </td><td>  6                             </td></tr>\n",
       "</tbody>\n",
       "</table>\n"
      ],
      "text/latex": [
       "\\begin{tabular}{r|lll}\n",
       " OTU & sample & count\\\\\n",
       "\\hline\n",
       "\t 0e1de44ae4fcc0968e549457277b4fb1 & X1.Eurasian.Beaver               & 269                             \\\\\n",
       "\t 13fabb2c42c260bd77b4358f429eba6c & X1.Eurasian.Beaver               &   0                             \\\\\n",
       "\t 66702759d2d292afce742b8b989a6d1d & X1.Eurasian.Beaver               &   6                             \\\\\n",
       "\\end{tabular}\n"
      ],
      "text/markdown": [
       "\n",
       "OTU | sample | count | \n",
       "|---|---|---|\n",
       "| 0e1de44ae4fcc0968e549457277b4fb1 | X1.Eurasian.Beaver               | 269                              | \n",
       "| 13fabb2c42c260bd77b4358f429eba6c | X1.Eurasian.Beaver               |   0                              | \n",
       "| 66702759d2d292afce742b8b989a6d1d | X1.Eurasian.Beaver               |   6                              | \n",
       "\n",
       "\n"
      ],
      "text/plain": [
       "  OTU                              sample             count\n",
       "1 0e1de44ae4fcc0968e549457277b4fb1 X1.Eurasian.Beaver 269  \n",
       "2 13fabb2c42c260bd77b4358f429eba6c X1.Eurasian.Beaver   0  \n",
       "3 66702759d2d292afce742b8b989a6d1d X1.Eurasian.Beaver   6  "
      ]
     },
     "metadata": {},
     "output_type": "display_data"
    }
   ],
   "source": [
    "# otu format\n",
    "otu = physeq_genus %>%\n",
    "    otu_table %>%\n",
    "    as.matrix %>%\n",
    "    as.data.frame\n",
    "\n",
    "otu$OTU = rownames(otu) \n",
    "rownames(otu) = 1:nrow(otu)\n",
    "otu = otu %>%\n",
    "    gather(sample, count, -OTU)\n",
    "otu %>% status"
   ]
  },
  {
   "cell_type": "code",
   "execution_count": 40,
   "metadata": {
    "ExecuteTime": {
     "end_time": "2017-12-24T07:23:17.070874Z",
     "start_time": "2017-12-24T07:19:10.704Z"
    }
   },
   "outputs": [
    {
     "name": "stdout",
     "output_type": "stream",
     "text": [
      "[1] 2882    9\n"
     ]
    },
    {
     "data": {
      "text/html": [
       "<table>\n",
       "<thead><tr><th scope=col>OTU</th><th scope=col>sample</th><th scope=col>count</th><th scope=col>Domain</th><th scope=col>Phylum</th><th scope=col>Class</th><th scope=col>Order</th><th scope=col>Family</th><th scope=col>Genus</th></tr></thead>\n",
       "<tbody>\n",
       "\t<tr><td>0e1de44ae4fcc0968e549457277b4fb1</td><td>X1.Eurasian.Beaver              </td><td>269                             </td><td>Bacteria                        </td><td>Verrucomicrobia                 </td><td>Verrucomicrobiae                </td><td>Verrucomicrobiales              </td><td>Verrucomicrobiaceae             </td><td>Akkermansia                     </td></tr>\n",
       "\t<tr><td>13fabb2c42c260bd77b4358f429eba6c</td><td>X1.Eurasian.Beaver              </td><td>  0                             </td><td>Bacteria                        </td><td>Proteobacteria                  </td><td>Betaproteobacteria              </td><td>Burkholderiales                 </td><td>Burkholderiaceae                </td><td>Ralstonia                       </td></tr>\n",
       "\t<tr><td>66702759d2d292afce742b8b989a6d1d</td><td>X1.Eurasian.Beaver              </td><td>  6                             </td><td>Bacteria                        </td><td>Proteobacteria                  </td><td>Gammaproteobacteria             </td><td>Enterobacteriales               </td><td>Enterobacteriaceae              </td><td>Escherichia-Shigella            </td></tr>\n",
       "</tbody>\n",
       "</table>\n"
      ],
      "text/latex": [
       "\\begin{tabular}{r|lllllllll}\n",
       " OTU & sample & count & Domain & Phylum & Class & Order & Family & Genus\\\\\n",
       "\\hline\n",
       "\t 0e1de44ae4fcc0968e549457277b4fb1 & X1.Eurasian.Beaver               & 269                              & Bacteria                         & Verrucomicrobia                  & Verrucomicrobiae                 & Verrucomicrobiales               & Verrucomicrobiaceae              & Akkermansia                     \\\\\n",
       "\t 13fabb2c42c260bd77b4358f429eba6c & X1.Eurasian.Beaver               &   0                              & Bacteria                         & Proteobacteria                   & Betaproteobacteria               & Burkholderiales                  & Burkholderiaceae                 & Ralstonia                       \\\\\n",
       "\t 66702759d2d292afce742b8b989a6d1d & X1.Eurasian.Beaver               &   6                              & Bacteria                         & Proteobacteria                   & Gammaproteobacteria              & Enterobacteriales                & Enterobacteriaceae               & Escherichia-Shigella            \\\\\n",
       "\\end{tabular}\n"
      ],
      "text/markdown": [
       "\n",
       "OTU | sample | count | Domain | Phylum | Class | Order | Family | Genus | \n",
       "|---|---|---|\n",
       "| 0e1de44ae4fcc0968e549457277b4fb1 | X1.Eurasian.Beaver               | 269                              | Bacteria                         | Verrucomicrobia                  | Verrucomicrobiae                 | Verrucomicrobiales               | Verrucomicrobiaceae              | Akkermansia                      | \n",
       "| 13fabb2c42c260bd77b4358f429eba6c | X1.Eurasian.Beaver               |   0                              | Bacteria                         | Proteobacteria                   | Betaproteobacteria               | Burkholderiales                  | Burkholderiaceae                 | Ralstonia                        | \n",
       "| 66702759d2d292afce742b8b989a6d1d | X1.Eurasian.Beaver               |   6                              | Bacteria                         | Proteobacteria                   | Gammaproteobacteria              | Enterobacteriales                | Enterobacteriaceae               | Escherichia-Shigella             | \n",
       "\n",
       "\n"
      ],
      "text/plain": [
       "  OTU                              sample             count Domain  \n",
       "1 0e1de44ae4fcc0968e549457277b4fb1 X1.Eurasian.Beaver 269   Bacteria\n",
       "2 13fabb2c42c260bd77b4358f429eba6c X1.Eurasian.Beaver   0   Bacteria\n",
       "3 66702759d2d292afce742b8b989a6d1d X1.Eurasian.Beaver   6   Bacteria\n",
       "  Phylum          Class               Order              Family             \n",
       "1 Verrucomicrobia Verrucomicrobiae    Verrucomicrobiales Verrucomicrobiaceae\n",
       "2 Proteobacteria  Betaproteobacteria  Burkholderiales    Burkholderiaceae   \n",
       "3 Proteobacteria  Gammaproteobacteria Enterobacteriales  Enterobacteriaceae \n",
       "  Genus               \n",
       "1 Akkermansia         \n",
       "2 Ralstonia           \n",
       "3 Escherichia-Shigella"
      ]
     },
     "metadata": {},
     "output_type": "display_data"
    }
   ],
   "source": [
    "# adding taxonomy\n",
    "tax = physeq_genus %>%\n",
    "    tax_table %>%\n",
    "    as.matrix %>%\n",
    "    as.data.frame %>%\n",
    "    dplyr::select(-Species)\n",
    "tax$OTU = rownames(tax)\n",
    "rownames(tax) = 1:nrow(tax)\n",
    "\n",
    "# joining\n",
    "otu = otu %>%\n",
    "    inner_join(tax, c('OTU'='OTU'))\n",
    "\n",
    "tax = NULL\n",
    "otu %>% status"
   ]
  },
  {
   "cell_type": "code",
   "execution_count": 41,
   "metadata": {
    "ExecuteTime": {
     "end_time": "2017-12-24T07:23:17.361543Z",
     "start_time": "2017-12-24T07:19:12.880Z"
    }
   },
   "outputs": [
    {
     "name": "stderr",
     "output_type": "stream",
     "text": [
      "Warning message in class(X) <- NULL:\n",
      "“Setting class(x) to NULL;   result will no longer be an S4 object”"
     ]
    },
    {
     "name": "stdout",
     "output_type": "stream",
     "text": [
      "[1] 2882   13\n"
     ]
    },
    {
     "data": {
      "text/html": [
       "<table>\n",
       "<thead><tr><th scope=col>OTU</th><th scope=col>sample</th><th scope=col>count</th><th scope=col>Domain</th><th scope=col>Phylum</th><th scope=col>Class</th><th scope=col>Order</th><th scope=col>Family</th><th scope=col>Genus</th><th scope=col>class</th><th scope=col>order</th><th scope=col>family</th><th scope=col>genus</th></tr></thead>\n",
       "<tbody>\n",
       "\t<tr><td>0e1de44ae4fcc0968e549457277b4fb1</td><td>X1.Eurasian.Beaver              </td><td>269                             </td><td>Bacteria                        </td><td>Verrucomicrobia                 </td><td>Verrucomicrobiae                </td><td>Verrucomicrobiales              </td><td>Verrucomicrobiaceae             </td><td>Akkermansia                     </td><td>Mammalia                        </td><td>Rodentia                        </td><td>Castoridae                      </td><td>Castor                          </td></tr>\n",
       "\t<tr><td>13fabb2c42c260bd77b4358f429eba6c</td><td>X1.Eurasian.Beaver              </td><td>  0                             </td><td>Bacteria                        </td><td>Proteobacteria                  </td><td>Betaproteobacteria              </td><td>Burkholderiales                 </td><td>Burkholderiaceae                </td><td>Ralstonia                       </td><td>Mammalia                        </td><td>Rodentia                        </td><td>Castoridae                      </td><td>Castor                          </td></tr>\n",
       "\t<tr><td>66702759d2d292afce742b8b989a6d1d</td><td>X1.Eurasian.Beaver              </td><td>  6                             </td><td>Bacteria                        </td><td>Proteobacteria                  </td><td>Gammaproteobacteria             </td><td>Enterobacteriales               </td><td>Enterobacteriaceae              </td><td>Escherichia-Shigella            </td><td>Mammalia                        </td><td>Rodentia                        </td><td>Castoridae                      </td><td>Castor                          </td></tr>\n",
       "</tbody>\n",
       "</table>\n"
      ],
      "text/latex": [
       "\\begin{tabular}{r|lllllllllllll}\n",
       " OTU & sample & count & Domain & Phylum & Class & Order & Family & Genus & class & order & family & genus\\\\\n",
       "\\hline\n",
       "\t 0e1de44ae4fcc0968e549457277b4fb1 & X1.Eurasian.Beaver               & 269                              & Bacteria                         & Verrucomicrobia                  & Verrucomicrobiae                 & Verrucomicrobiales               & Verrucomicrobiaceae              & Akkermansia                      & Mammalia                         & Rodentia                         & Castoridae                       & Castor                          \\\\\n",
       "\t 13fabb2c42c260bd77b4358f429eba6c & X1.Eurasian.Beaver               &   0                              & Bacteria                         & Proteobacteria                   & Betaproteobacteria               & Burkholderiales                  & Burkholderiaceae                 & Ralstonia                        & Mammalia                         & Rodentia                         & Castoridae                       & Castor                          \\\\\n",
       "\t 66702759d2d292afce742b8b989a6d1d & X1.Eurasian.Beaver               &   6                              & Bacteria                         & Proteobacteria                   & Gammaproteobacteria              & Enterobacteriales                & Enterobacteriaceae               & Escherichia-Shigella             & Mammalia                         & Rodentia                         & Castoridae                       & Castor                          \\\\\n",
       "\\end{tabular}\n"
      ],
      "text/markdown": [
       "\n",
       "OTU | sample | count | Domain | Phylum | Class | Order | Family | Genus | class | order | family | genus | \n",
       "|---|---|---|\n",
       "| 0e1de44ae4fcc0968e549457277b4fb1 | X1.Eurasian.Beaver               | 269                              | Bacteria                         | Verrucomicrobia                  | Verrucomicrobiae                 | Verrucomicrobiales               | Verrucomicrobiaceae              | Akkermansia                      | Mammalia                         | Rodentia                         | Castoridae                       | Castor                           | \n",
       "| 13fabb2c42c260bd77b4358f429eba6c | X1.Eurasian.Beaver               |   0                              | Bacteria                         | Proteobacteria                   | Betaproteobacteria               | Burkholderiales                  | Burkholderiaceae                 | Ralstonia                        | Mammalia                         | Rodentia                         | Castoridae                       | Castor                           | \n",
       "| 66702759d2d292afce742b8b989a6d1d | X1.Eurasian.Beaver               |   6                              | Bacteria                         | Proteobacteria                   | Gammaproteobacteria              | Enterobacteriales                | Enterobacteriaceae               | Escherichia-Shigella             | Mammalia                         | Rodentia                         | Castoridae                       | Castor                           | \n",
       "\n",
       "\n"
      ],
      "text/plain": [
       "  OTU                              sample             count Domain  \n",
       "1 0e1de44ae4fcc0968e549457277b4fb1 X1.Eurasian.Beaver 269   Bacteria\n",
       "2 13fabb2c42c260bd77b4358f429eba6c X1.Eurasian.Beaver   0   Bacteria\n",
       "3 66702759d2d292afce742b8b989a6d1d X1.Eurasian.Beaver   6   Bacteria\n",
       "  Phylum          Class               Order              Family             \n",
       "1 Verrucomicrobia Verrucomicrobiae    Verrucomicrobiales Verrucomicrobiaceae\n",
       "2 Proteobacteria  Betaproteobacteria  Burkholderiales    Burkholderiaceae   \n",
       "3 Proteobacteria  Gammaproteobacteria Enterobacteriales  Enterobacteriaceae \n",
       "  Genus                class    order    family     genus \n",
       "1 Akkermansia          Mammalia Rodentia Castoridae Castor\n",
       "2 Ralstonia            Mammalia Rodentia Castoridae Castor\n",
       "3 Escherichia-Shigella Mammalia Rodentia Castoridae Castor"
      ]
     },
     "metadata": {},
     "output_type": "display_data"
    }
   ],
   "source": [
    "# adding host taxonomy\n",
    "metadata = physeq_genus %>%\n",
    "    sample_data %>%\n",
    "    as.matrix %>%\n",
    "    as.data.frame %>%\n",
    "    dplyr::select(class, order, family, genus)\n",
    "metadata$SampleID = rownames(metadata) \n",
    "rownames(metadata) = 1:nrow(metadata)\n",
    "\n",
    "# join\n",
    "otu = otu %>%\n",
    "    inner_join(metadata, c('sample'='SampleID'))\n",
    "\n",
    "#metadata = NULL\n",
    "otu %>% status"
   ]
  },
  {
   "cell_type": "markdown",
   "metadata": {},
   "source": [
    "### Summing by genus ~ genus"
   ]
  },
  {
   "cell_type": "code",
   "execution_count": 86,
   "metadata": {
    "ExecuteTime": {
     "end_time": "2017-12-24T07:40:23.539943Z",
     "start_time": "2017-12-24T07:40:23.002Z"
    }
   },
   "outputs": [
    {
     "name": "stdout",
     "output_type": "stream",
     "text": [
      "[1] 2508    9\n"
     ]
    },
    {
     "data": {
      "text/html": [
       "<table>\n",
       "<thead><tr><th scope=col>Domain</th><th scope=col>Phylum</th><th scope=col>Class</th><th scope=col>order</th><th scope=col>Family</th><th scope=col>Genus</th><th scope=col>genus</th><th scope=col>count_raw</th><th scope=col>count_perc</th></tr></thead>\n",
       "<tbody>\n",
       "\t<tr><td>Bacteria      </td><td>Bacteroidetes </td><td>Bacteroidia   </td><td>Anseriformes  </td><td>Bacteroidaceae</td><td>Bacteroides   </td><td>Anas          </td><td>  0           </td><td>0.000000      </td></tr>\n",
       "\t<tr><td>Bacteria      </td><td>Bacteroidetes </td><td>Bacteroidia   </td><td>Anseriformes  </td><td>Bacteroidaceae</td><td>Bacteroides   </td><td>Anser         </td><td>222           </td><td>6.271186      </td></tr>\n",
       "\t<tr><td>Bacteria      </td><td>Bacteroidetes </td><td>Bacteroidia   </td><td>Anseriformes  </td><td>Bacteroidaceae</td><td>Bacteroides   </td><td>Branta        </td><td>  0           </td><td>0.000000      </td></tr>\n",
       "</tbody>\n",
       "</table>\n"
      ],
      "text/latex": [
       "\\begin{tabular}{r|lllllllll}\n",
       " Domain & Phylum & Class & order & Family & Genus & genus & count\\_raw & count\\_perc\\\\\n",
       "\\hline\n",
       "\t Bacteria       & Bacteroidetes  & Bacteroidia    & Anseriformes   & Bacteroidaceae & Bacteroides    & Anas           &   0            & 0.000000      \\\\\n",
       "\t Bacteria       & Bacteroidetes  & Bacteroidia    & Anseriformes   & Bacteroidaceae & Bacteroides    & Anser          & 222            & 6.271186      \\\\\n",
       "\t Bacteria       & Bacteroidetes  & Bacteroidia    & Anseriformes   & Bacteroidaceae & Bacteroides    & Branta         &   0            & 0.000000      \\\\\n",
       "\\end{tabular}\n"
      ],
      "text/markdown": [
       "\n",
       "Domain | Phylum | Class | order | Family | Genus | genus | count_raw | count_perc | \n",
       "|---|---|---|\n",
       "| Bacteria       | Bacteroidetes  | Bacteroidia    | Anseriformes   | Bacteroidaceae | Bacteroides    | Anas           |   0            | 0.000000       | \n",
       "| Bacteria       | Bacteroidetes  | Bacteroidia    | Anseriformes   | Bacteroidaceae | Bacteroides    | Anser          | 222            | 6.271186       | \n",
       "| Bacteria       | Bacteroidetes  | Bacteroidia    | Anseriformes   | Bacteroidaceae | Bacteroides    | Branta         |   0            | 0.000000       | \n",
       "\n",
       "\n"
      ],
      "text/plain": [
       "  Domain   Phylum        Class       order        Family         Genus      \n",
       "1 Bacteria Bacteroidetes Bacteroidia Anseriformes Bacteroidaceae Bacteroides\n",
       "2 Bacteria Bacteroidetes Bacteroidia Anseriformes Bacteroidaceae Bacteroides\n",
       "3 Bacteria Bacteroidetes Bacteroidia Anseriformes Bacteroidaceae Bacteroides\n",
       "  genus  count_raw count_perc\n",
       "1 Anas     0       0.000000  \n",
       "2 Anser  222       6.271186  \n",
       "3 Branta   0       0.000000  "
      ]
     },
     "metadata": {},
     "output_type": "display_data"
    }
   ],
   "source": [
    "otu_s = otu %>%\n",
    "    group_by(genus) %>%\n",
    "    mutate(TOTAL_COUNT = sum(count)) %>%\n",
    "    group_by(Domain, Phylum, Class, order, Family, Genus, genus) %>%\n",
    "    summarize(count_raw = sum(count),\n",
    "              count_perc = count_raw / first(TOTAL_COUNT) * 100) %>%\n",
    "    ungroup() %>%\n",
    "    arrange(Domain, Phylum, Class, order, Family, Genus)\n",
    "\n",
    "otu_s %>% status "
   ]
  },
  {
   "cell_type": "code",
   "execution_count": 87,
   "metadata": {
    "ExecuteTime": {
     "end_time": "2017-12-24T07:40:46.692699Z",
     "start_time": "2017-12-24T07:40:44.336Z"
    }
   },
   "outputs": [
    {
     "data": {
      "image/png": "[encoded data removed]",
      "text/plain": [
       "plot without title"
      ]
     },
     "metadata": {},
     "output_type": "display_data"
    }
   ],
   "source": [
    "# plotting heatmap\n",
    "p = ggplot(otu_s, aes(Genus, genus, fill=count_perc)) +\n",
    "    geom_tile() +\n",
    "    scale_fill_gradientn('% abund-\\nance', colours=c('black', 'orange', 'white')) +\n",
    "    labs(x='Microbe genus', y='Host genus') +\n",
    "    theme(\n",
    "        axis.text.x = element_text(angle=90, hjust=1, vjust=0.5, size=10),\n",
    "        axis.text.y = element_text(size=7)\n",
    "    )\n",
    "options(repr.plot.width=8, repr.plot.height=10)\n",
    "plot(p)"
   ]
  },
  {
   "cell_type": "markdown",
   "metadata": {},
   "source": [
    "# Formatting for iTOL"
   ]
  },
  {
   "cell_type": "code",
   "execution_count": 92,
   "metadata": {
    "ExecuteTime": {
     "end_time": "2017-12-24T07:42:12.027963Z",
     "start_time": "2017-12-24T07:42:11.881Z"
    }
   },
   "outputs": [
    {
     "name": "stdout",
     "output_type": "stream",
     "text": [
      "[1] 114  22\n"
     ]
    },
    {
     "data": {
      "text/html": [
       "<table>\n",
       "<thead><tr><th></th><th scope=col>Bacteroides</th><th scope=col>Parabacteroides</th><th scope=col>Alistipes</th><th scope=col>RC9 gut group</th><th scope=col>Enterococcus</th><th scope=col>Lactobacillus</th><th scope=col>Clostridium sensu stricto 1</th><th scope=col>Blautia</th><th scope=col>Coprococcus</th><th scope=col>Marvinbryantia</th><th scope=col>⋯</th><th scope=col>Flavonifractor</th><th scope=col>Intestinimonas</th><th scope=col>Oscillibacter</th><th scope=col>Ruminococcus</th><th scope=col>Phascolarctobacterium</th><th scope=col>Ralstonia</th><th scope=col>Desulfovibrio</th><th scope=col>Escherichia-Shigella</th><th scope=col>Acinetobacter</th><th scope=col>Akkermansia</th></tr></thead>\n",
       "<tbody>\n",
       "\t<tr><th scope=row>Acrocephalus</th><td>1.041667  </td><td>0         </td><td>0.000000  </td><td>0.00000   </td><td>6.9444444 </td><td>75.0000000</td><td> 0.3472222</td><td>0.000000  </td><td> 0.00000  </td><td>0.000000  </td><td>⋯         </td><td>0.000000  </td><td>0.000000  </td><td>0.000000  </td><td> 0.00000  </td><td>0.000000  </td><td>16.66667  </td><td>0.0000000 </td><td> 0.000000 </td><td>0.0000000 </td><td>0.000000  </td></tr>\n",
       "\t<tr><th scope=row>Aepyceros</th><td>5.219780  </td><td>0         </td><td>3.571429  </td><td>4.67033   </td><td>0.0000000 </td><td> 0.0000000</td><td>21.9780220</td><td>4.120879  </td><td>12.91209  </td><td>3.021978  </td><td>⋯         </td><td>1.648352  </td><td>1.648352  </td><td>1.098901  </td><td>15.10989  </td><td>1.923077  </td><td> 0.00000  </td><td>0.8241758 </td><td>13.736264 </td><td>0.2747253 </td><td>4.120879  </td></tr>\n",
       "\t<tr><th scope=row>Anas</th><td>0.000000  </td><td>0         </td><td>0.000000  </td><td>0.00000   </td><td>0.1166861 </td><td> 0.7001167</td><td>91.9486581</td><td>0.000000  </td><td> 0.00000  </td><td>0.000000  </td><td>⋯         </td><td>0.000000  </td><td>0.000000  </td><td>0.000000  </td><td> 0.00000  </td><td>0.000000  </td><td> 0.00000  </td><td>0.1166861 </td><td> 7.117853 </td><td>0.0000000 </td><td>0.000000  </td></tr>\n",
       "</tbody>\n",
       "</table>\n"
      ],
      "text/latex": [
       "\\begin{tabular}{r|llllllllllllllllllllll}\n",
       "  & Bacteroides & Parabacteroides & Alistipes & RC9 gut group & Enterococcus & Lactobacillus & Clostridium sensu stricto 1 & Blautia & Coprococcus & Marvinbryantia & ⋯ & Flavonifractor & Intestinimonas & Oscillibacter & Ruminococcus & Phascolarctobacterium & Ralstonia & Desulfovibrio & Escherichia-Shigella & Acinetobacter & Akkermansia\\\\\n",
       "\\hline\n",
       "\tAcrocephalus & 1.041667   & 0          & 0.000000   & 0.00000    & 6.9444444  & 75.0000000 &  0.3472222 & 0.000000   &  0.00000   & 0.000000   & ⋯          & 0.000000   & 0.000000   & 0.000000   &  0.00000   & 0.000000   & 16.66667   & 0.0000000  &  0.000000  & 0.0000000  & 0.000000  \\\\\n",
       "\tAepyceros & 5.219780   & 0          & 3.571429   & 4.67033    & 0.0000000  &  0.0000000 & 21.9780220 & 4.120879   & 12.91209   & 3.021978   & ⋯          & 1.648352   & 1.648352   & 1.098901   & 15.10989   & 1.923077   &  0.00000   & 0.8241758  & 13.736264  & 0.2747253  & 4.120879  \\\\\n",
       "\tAnas & 0.000000   & 0          & 0.000000   & 0.00000    & 0.1166861  &  0.7001167 & 91.9486581 & 0.000000   &  0.00000   & 0.000000   & ⋯          & 0.000000   & 0.000000   & 0.000000   &  0.00000   & 0.000000   &  0.00000   & 0.1166861  &  7.117853  & 0.0000000  & 0.000000  \\\\\n",
       "\\end{tabular}\n"
      ],
      "text/markdown": [
       "\n",
       "| <!--/--> | Bacteroides | Parabacteroides | Alistipes | RC9 gut group | Enterococcus | Lactobacillus | Clostridium sensu stricto 1 | Blautia | Coprococcus | Marvinbryantia | ⋯ | Flavonifractor | Intestinimonas | Oscillibacter | Ruminococcus | Phascolarctobacterium | Ralstonia | Desulfovibrio | Escherichia-Shigella | Acinetobacter | Akkermansia | \n",
       "|---|---|---|\n",
       "| Acrocephalus | 1.041667   | 0          | 0.000000   | 0.00000    | 6.9444444  | 75.0000000 |  0.3472222 | 0.000000   |  0.00000   | 0.000000   | ⋯          | 0.000000   | 0.000000   | 0.000000   |  0.00000   | 0.000000   | 16.66667   | 0.0000000  |  0.000000  | 0.0000000  | 0.000000   | \n",
       "| Aepyceros | 5.219780   | 0          | 3.571429   | 4.67033    | 0.0000000  |  0.0000000 | 21.9780220 | 4.120879   | 12.91209   | 3.021978   | ⋯          | 1.648352   | 1.648352   | 1.098901   | 15.10989   | 1.923077   |  0.00000   | 0.8241758  | 13.736264  | 0.2747253  | 4.120879   | \n",
       "| Anas | 0.000000   | 0          | 0.000000   | 0.00000    | 0.1166861  |  0.7001167 | 91.9486581 | 0.000000   |  0.00000   | 0.000000   | ⋯          | 0.000000   | 0.000000   | 0.000000   |  0.00000   | 0.000000   |  0.00000   | 0.1166861  |  7.117853  | 0.0000000  | 0.000000   | \n",
       "\n",
       "\n"
      ],
      "text/plain": [
       "             Bacteroides Parabacteroides Alistipes RC9 gut group Enterococcus\n",
       "Acrocephalus 1.041667    0               0.000000  0.00000       6.9444444   \n",
       "Aepyceros    5.219780    0               3.571429  4.67033       0.0000000   \n",
       "Anas         0.000000    0               0.000000  0.00000       0.1166861   \n",
       "             Lactobacillus Clostridium sensu stricto 1 Blautia  Coprococcus\n",
       "Acrocephalus 75.0000000     0.3472222                  0.000000  0.00000   \n",
       "Aepyceros     0.0000000    21.9780220                  4.120879 12.91209   \n",
       "Anas          0.7001167    91.9486581                  0.000000  0.00000   \n",
       "             Marvinbryantia ⋯ Flavonifractor Intestinimonas Oscillibacter\n",
       "Acrocephalus 0.000000       ⋯ 0.000000       0.000000       0.000000     \n",
       "Aepyceros    3.021978       ⋯ 1.648352       1.648352       1.098901     \n",
       "Anas         0.000000       ⋯ 0.000000       0.000000       0.000000     \n",
       "             Ruminococcus Phascolarctobacterium Ralstonia Desulfovibrio\n",
       "Acrocephalus  0.00000     0.000000              16.66667  0.0000000    \n",
       "Aepyceros    15.10989     1.923077               0.00000  0.8241758    \n",
       "Anas          0.00000     0.000000               0.00000  0.1166861    \n",
       "             Escherichia-Shigella Acinetobacter Akkermansia\n",
       "Acrocephalus  0.000000            0.0000000     0.000000   \n",
       "Aepyceros    13.736264            0.2747253     4.120879   \n",
       "Anas          7.117853            0.0000000     0.000000   "
      ]
     },
     "metadata": {},
     "output_type": "display_data"
    }
   ],
   "source": [
    "# ordering matrix\n",
    "otu_s_m = otu_s %>%\n",
    "    dplyr::select(Genus, genus, count_perc) %>%\n",
    "    spread(Genus, count_perc) %>%\n",
    "    as.data.frame\n",
    "\n",
    "rownames(otu_s_m) = otu_s_m$genus\n",
    "otu_s_m$genus = NULL\n",
    "\n",
    "# reordering\n",
    "otu_s_m = otu_s_m[,unique(otu_s$Genus)]\n",
    "\n",
    "# status\n",
    "otu_s_m %>% status"
   ]
  },
  {
   "cell_type": "code",
   "execution_count": 95,
   "metadata": {
    "ExecuteTime": {
     "end_time": "2017-12-24T07:42:59.580697Z",
     "start_time": "2017-12-24T07:42:54.697Z"
    }
   },
   "outputs": [
    {
     "name": "stdout",
     "output_type": "stream",
     "text": [
      "File written: /ebio/abt3_projects/Georg_animal_feces/data/host_specific/clado_map//SpecD_genus-genus_htmp.txt \n"
     ]
    }
   ],
   "source": [
    "itol_htmp_file = file.path(work_dir, 'SpecD_genus-genus_htmp.txt')\n",
    "labs = gsub(' ', '_', colnames(otu_s_m))\n",
    "labs = sprintf('FIELD_LABELS %s\\n', paste(labs, collapse=' '))\n",
    "\n",
    "cat('DATASET_HEATMAP\\n', file=itol_htmp_file)\n",
    "cat('SEPARATOR SPACE\\n', file=itol_htmp_file, append=TRUE)\n",
    "cat('DATASET_LABEL genus abund.\\n', file=itol_htmp_file, append=TRUE)\n",
    "cat('COLOR #ff0000\\n', file=itol_htmp_file, append=TRUE)\n",
    "cat(labs, file=itol_htmp_file, append=TRUE)\n",
    "cat('DATA\\n', file=itol_htmp_file, append=TRUE)\n",
    "write.table(otu_s_m, file=itol_htmp_file, append=TRUE, sep=' ', \n",
    "            quote=FALSE, col.names=FALSE)\n",
    "cat('File written:', itol_htmp_file, '\\n')"
   ]
  },
  {
   "cell_type": "code",
   "execution_count": 96,
   "metadata": {
    "ExecuteTime": {
     "end_time": "2017-12-24T07:42:59.658286Z",
     "start_time": "2017-12-24T07:42:54.827Z"
    }
   },
   "outputs": [
    {
     "name": "stdout",
     "output_type": "stream",
     "text": [
      "[1] \"DATASET_HEATMAP\"                                                                                                                                                                                                                                                                                                                         \n",
      "[2] \"SEPARATOR SPACE\"                                                                                                                                                                                                                                                                                                                         \n",
      "[3] \"DATASET_LABEL genus abund.\"                                                                                                                                                                                                                                                                                                              \n",
      "[4] \"COLOR #ff0000\"                                                                                                                                                                                                                                                                                                                           \n",
      "[5] \"FIELD_LABELS Bacteroides Parabacteroides Alistipes RC9_gut_group Enterococcus Lactobacillus Clostridium_sensu_stricto_1 Blautia Coprococcus Marvinbryantia Roseburia Anaerotruncus Flavonifractor Intestinimonas Oscillibacter Ruminococcus Phascolarctobacterium Ralstonia Desulfovibrio Escherichia-Shigella Acinetobacter Akkermansia\"\n",
      "[6] \"DATA\"                                                                                                                                                                                                                                                                                                                                    \n"
     ]
    }
   ],
   "source": [
    "system2(c('head', '-n 6', itol_htmp_file), stdout=TRUE) %>% print"
   ]
  },
  {
   "cell_type": "markdown",
   "metadata": {},
   "source": [
    "# sessionInfo"
   ]
  },
  {
   "cell_type": "code",
   "execution_count": 97,
   "metadata": {
    "ExecuteTime": {
     "end_time": "2017-12-24T11:43:11.713407Z",
     "start_time": "2017-12-24T11:43:10.584Z"
    }
   },
   "outputs": [
    {
     "data": {
      "text/plain": [
       "R version 3.4.1 (2017-06-30)\n",
       "Platform: x86_64-pc-linux-gnu (64-bit)\n",
       "Running under: Ubuntu 16.04.3 LTS\n",
       "\n",
       "Matrix products: default\n",
       "BLAS: /ebio/abt3_projects/software/miniconda3/envs/py3_physeq_htmp/lib/R/lib/libRblas.so\n",
       "LAPACK: /ebio/abt3_projects/software/miniconda3/envs/py3_physeq_htmp/lib/R/lib/libRlapack.so\n",
       "\n",
       "locale:\n",
       " [1] LC_CTYPE=en_US.UTF-8       LC_NUMERIC=C              \n",
       " [3] LC_TIME=en_US.UTF-8        LC_COLLATE=en_US.UTF-8    \n",
       " [5] LC_MONETARY=en_US.UTF-8    LC_MESSAGES=en_US.UTF-8   \n",
       " [7] LC_PAPER=en_US.UTF-8       LC_NAME=C                 \n",
       " [9] LC_ADDRESS=C               LC_TELEPHONE=C            \n",
       "[11] LC_MEASUREMENT=en_US.UTF-8 LC_IDENTIFICATION=C       \n",
       "\n",
       "attached base packages:\n",
       "[1] stats     graphics  grDevices utils     datasets  methods   base     \n",
       "\n",
       "other attached packages:\n",
       "[1] bindrcpp_0.2    phyloseq_1.22.3 ape_5.0         stringr_1.2.0  \n",
       "[5] ggplot2_2.2.1   tidyr_0.6.1     dplyr_0.7.4    \n",
       "\n",
       "loaded via a namespace (and not attached):\n",
       " [1] pbdZMQ_0.2-4        repr_0.10           reshape2_1.4.2     \n",
       " [4] splines_3.4.1       lattice_0.20-34     rhdf5_2.22.0       \n",
       " [7] colorspace_1.3-2    stats4_3.4.1        mgcv_1.8-17        \n",
       "[10] survival_2.40-1     rlang_0.1.2         glue_1.1.1         \n",
       "[13] BiocGenerics_0.24.0 uuid_0.1-2          foreach_1.4.3      \n",
       "[16] bindr_0.1           plyr_1.8.4          zlibbioc_1.24.0    \n",
       "[19] Biostrings_2.46.0   munsell_0.4.3       gtable_0.2.0       \n",
       "[22] codetools_0.2-15    evaluate_0.10.1     labeling_0.3       \n",
       "[25] Biobase_2.38.0      permute_0.9-4       IRanges_2.12.0     \n",
       "[28] biomformat_1.6.0    parallel_3.4.1      IRdisplay_0.4.4    \n",
       "[31] Rcpp_0.12.13        scales_0.4.1        IRkernel_0.8.11    \n",
       "[34] vegan_2.4-3         S4Vectors_0.16.0    jsonlite_1.4       \n",
       "[37] XVector_0.18.0      digest_0.6.12       stringi_1.1.2      \n",
       "[40] grid_3.4.1          ade4_1.7-8          tools_3.4.1        \n",
       "[43] magrittr_1.5        lazyeval_0.2.0      tibble_1.3.3       \n",
       "[46] cluster_2.0.6       crayon_1.3.2        pkgconfig_2.0.1    \n",
       "[49] MASS_7.3-45         Matrix_1.2-7.1      data.table_1.10.4  \n",
       "[52] assertthat_0.1      iterators_1.0.8     R6_2.2.0           \n",
       "[55] multtest_2.34.0     igraph_1.0.1        nlme_3.1-131       \n",
       "[58] compiler_3.4.1     "
      ]
     },
     "metadata": {},
     "output_type": "display_data"
    }
   ],
   "source": [
    "sessionInfo()"
   ]
  },
  {
   "cell_type": "markdown",
   "metadata": {},
   "source": [
    "# -- OLD --"
   ]
  },
  {
   "cell_type": "markdown",
   "metadata": {},
   "source": [
    "# Clado to dend conversion"
   ]
  },
  {
   "cell_type": "code",
   "execution_count": null,
   "metadata": {
    "ExecuteTime": {
     "end_time": "2017-12-22T12:58:21.462344Z",
     "start_time": "2017-12-22T12:59:14.278Z"
    }
   },
   "outputs": [],
   "source": [
    "micro_dend = as.dendrogram(as.hclust(multi2di(micro_clado)))\n",
    "host_dend = as.dendrogram(as.hclust(multi2di(host_clado)))"
   ]
  },
  {
   "cell_type": "markdown",
   "metadata": {},
   "source": [
    "# Plotting heatmap"
   ]
  },
  {
   "cell_type": "code",
   "execution_count": null,
   "metadata": {
    "ExecuteTime": {
     "end_time": "2017-12-22T12:56:07.801922Z",
     "start_time": "2017-12-22T12:53:44.438Z"
    }
   },
   "outputs": [],
   "source": [
    "library(ComplexHeatmap)"
   ]
  },
  {
   "cell_type": "code",
   "execution_count": null,
   "metadata": {
    "ExecuteTime": {
     "end_time": "2017-12-22T12:56:07.989225Z",
     "start_time": "2017-12-22T12:53:44.669Z"
    }
   },
   "outputs": [],
   "source": [
    "otu_s_m = otu_s %>%\n",
    "    dplyr::select(-count_raw) %>%\n",
    "    spread(Genus, count_perc) %>%\n",
    "    as.data.frame\n",
    "\n",
    "rownames(otu_s_m) = otu_s_m$genus\n",
    "otu_s_m$genus = NULL\n",
    "\n",
    "otu_s_m %>% status"
   ]
  },
  {
   "cell_type": "markdown",
   "metadata": {},
   "source": [
    "## Ordering by host clado"
   ]
  },
  {
   "cell_type": "code",
   "execution_count": null,
   "metadata": {
    "ExecuteTime": {
     "end_time": "2017-12-22T12:56:09.011811Z",
     "start_time": "2017-12-22T12:53:45.462Z"
    },
    "scrolled": false
   },
   "outputs": [],
   "source": [
    "m = otu_s_m %>% as.matrix\n",
    "m = m[host_clado$tip,]\n",
    "host_dend = as.dendrogram(as.hclust(multi2di(host_clado)))\n",
    "\n",
    "options(repr.plot.width=8, repr.plot.height=10)\n",
    "heatmap(otu_s_m %>% as.matrix, Rowv=host_dend, cexRow=0.4)"
   ]
  },
  {
   "cell_type": "markdown",
   "metadata": {},
   "source": [
    "## Ordering by host-microbe clado"
   ]
  },
  {
   "cell_type": "code",
   "execution_count": null,
   "metadata": {
    "ExecuteTime": {
     "end_time": "2017-12-22T13:37:31.526460Z",
     "start_time": "2017-12-22T13:38:24.078Z"
    }
   },
   "outputs": [],
   "source": [
    "# column annotation\n",
    "tmp = tax_f %>%\n",
    "    dplyr::select(Genus, Phylum)\n",
    "rownames(tmp) = tmp$Genus\n",
    "tmp = tmp[colnames(otu_s_m),'Phylum'] %>% as.data.frame\n",
    "colnames(tmp) = c('Phylum')\n",
    "ha_micro = HeatmapAnnotation(df=tmp)\n",
    "\n",
    "options(repr.plot.width=8, repr.plot.height=0.2)\n",
    "draw(ha_micro, 1:nrow(tmp))"
   ]
  },
  {
   "cell_type": "code",
   "execution_count": null,
   "metadata": {
    "ExecuteTime": {
     "end_time": "2017-12-22T13:37:31.767209Z",
     "start_time": "2017-12-22T13:38:24.214Z"
    }
   },
   "outputs": [],
   "source": [
    "# row annotation\n",
    "tmp = metadata %>%\n",
    "    dplyr::distinct(class, genus)\n",
    "rownames(tmp) = tmp$genus\n",
    "tmp = tmp[rownames(otu_s_m), 'class'] %>% as.data.frame\n",
    "colnames(tmp) = c('Class')\n",
    "tmp$Class = as.vector(tmp$Class)\n",
    "ha_host = rowAnnotation(df=tmp)\n",
    "\n",
    "options(repr.plot.width=0.2, repr.plot.height=4)\n",
    "draw(ha_host, 1:nrow(tmp))"
   ]
  },
  {
   "cell_type": "code",
   "execution_count": null,
   "metadata": {
    "ExecuteTime": {
     "end_time": "2017-12-22T13:37:39.167806Z",
     "start_time": "2017-12-22T13:38:24.685Z"
    }
   },
   "outputs": [],
   "source": [
    "options(repr.plot.width=8, repr.plot.height=11)\n",
    "ht = Heatmap(otu_s_m %>% as.matrix, \n",
    "             col = c(\"black\", \"yellow\"),\n",
    "             name = '% abund.',\n",
    "             top_annotation = ha_micro,\n",
    "             cluster_rows = host_dend,\n",
    "             cluster_columns = micro_dend,\n",
    "             row_dend_side = 'right',\n",
    "             column_dend_side = 'bottom',\n",
    "             row_names_gp = gpar(fontsize = 7),\n",
    "             column_names_gp = gpar(fontsize = 9))\n",
    "\n",
    "ha_host + ht"
   ]
  },
  {
   "cell_type": "code",
   "execution_count": null,
   "metadata": {
    "ExecuteTime": {
     "end_time": "2017-12-22T13:38:04.242497Z",
     "start_time": "2017-12-22T13:38:56.894Z"
    }
   },
   "outputs": [],
   "source": [
    "# transforming matrix\n",
    "m = otu_s_m %>% as.matrix %>% apply(2, function(x) log(x/100 + min(x[x>0]/100)))\n",
    "m = m %>% apply(2, function(x) ifelse(is.infinite(x), NA, x)) \n",
    "m %>% status"
   ]
  },
  {
   "cell_type": "code",
   "execution_count": null,
   "metadata": {
    "ExecuteTime": {
     "end_time": "2017-12-22T13:38:27.048035Z",
     "start_time": "2017-12-22T13:39:13.444Z"
    }
   },
   "outputs": [],
   "source": [
    "# heatmap                                \n",
    "ht = Heatmap(m, \n",
    "             col = c(\"black\", \"yellow\"),\n",
    "             na_col = 'black',\n",
    "             name = 'log(abund.)',\n",
    "             top_annotation = ha_micro,\n",
    "             cluster_rows = host_dend,\n",
    "             cluster_columns = micro_dend,\n",
    "             row_dend_side = 'right',\n",
    "             column_dend_side = 'bottom',\n",
    "             row_names_gp = gpar(fontsize = 7),\n",
    "             column_names_gp = gpar(fontsize = 9))\n",
    "\n",
    "options(repr.plot.width=8, repr.plot.height=11)\n",
    "ha_host + ht"
   ]
  },
  {
   "cell_type": "markdown",
   "metadata": {},
   "source": [
    "## Just mammalia"
   ]
  },
  {
   "cell_type": "code",
   "execution_count": null,
   "metadata": {
    "ExecuteTime": {
     "end_time": "2017-12-22T13:32:47.693315Z",
     "start_time": "2017-12-22T13:33:40.543Z"
    }
   },
   "outputs": [],
   "source": [
    "# filtering OTU matrix\n",
    "tmp = metadata %>%\n",
    "    dplyr::distinct(class, order, genus) %>%\n",
    "    filter(class == 'Mammalia') %>%\n",
    "    arrange(order)\n",
    "\n",
    "otu_s_m_f = otu_s_m[as.character(tmp$genus),]\n",
    "otu_s_m_f %>% status"
   ]
  },
  {
   "cell_type": "code",
   "execution_count": null,
   "metadata": {
    "ExecuteTime": {
     "end_time": "2017-12-22T13:32:48.149900Z",
     "start_time": "2017-12-22T13:33:41.087Z"
    }
   },
   "outputs": [],
   "source": [
    "# filtering cladogram\n",
    "to_drop = setdiff(rownames(otu_s_m), rownames(otu_s_m_f))\n",
    "host_clado_f = drop.tip(host_clado, to_drop)\n",
    "host_dend_f = as.dendrogram(as.hclust(multi2di(host_clado_f)))\n",
    "host_dend_f"
   ]
  },
  {
   "cell_type": "code",
   "execution_count": null,
   "metadata": {
    "ExecuteTime": {
     "end_time": "2017-12-22T13:32:49.275435Z",
     "start_time": "2017-12-22T13:33:42.199Z"
    }
   },
   "outputs": [],
   "source": [
    "# ordering matrix\n",
    "otu_s_m_f = otu_s_m_f[labels(host_dend_f),labels(micro_dend)]\n",
    "otu_s_m_f %>% status"
   ]
  },
  {
   "cell_type": "code",
   "execution_count": null,
   "metadata": {
    "ExecuteTime": {
     "end_time": "2017-12-22T13:32:49.716397Z",
     "start_time": "2017-12-22T13:33:42.500Z"
    }
   },
   "outputs": [],
   "source": [
    "# row annotation\n",
    "tmp = metadata %>%\n",
    "    dplyr::distinct(class, order, genus) %>%\n",
    "    filter(class == 'Mammalia') \n",
    "rownames(tmp) = tmp$genus\n",
    "\n",
    "tmp = tmp[rownames(otu_s_m_f), 'order'] %>% as.data.frame\n",
    "colnames(tmp) = c('Order')\n",
    "tmp$Order = as.vector(tmp$Order)\n",
    "ha_host = rowAnnotation(df=tmp)\n",
    "\n",
    "options(repr.plot.width=0.2, repr.plot.height=4)\n",
    "draw(ha_host, 1:nrow(tmp))"
   ]
  },
  {
   "cell_type": "code",
   "execution_count": null,
   "metadata": {
    "ExecuteTime": {
     "end_time": "2017-12-22T13:35:41.438709Z",
     "start_time": "2017-12-22T13:36:34.360Z"
    }
   },
   "outputs": [],
   "source": [
    "# transforming matrix\n",
    "m = otu_s_m_f %>% as.matrix %>% apply(2, function(x) log(x/100)) \n",
    "m = m %>% apply(2, function(x) ifelse(is.infinite(x), NA, x)) \n",
    "m %>% status"
   ]
  },
  {
   "cell_type": "code",
   "execution_count": null,
   "metadata": {
    "ExecuteTime": {
     "end_time": "2017-12-22T13:36:07.580112Z",
     "start_time": "2017-12-22T13:36:54.062Z"
    }
   },
   "outputs": [],
   "source": [
    "# heatmap\n",
    "ht = Heatmap(m, \n",
    "             col = c(\"black\", \"yellow\"),\n",
    "             na_col = 'black',\n",
    "             name = 'log(abund.)',\n",
    "             top_annotation = ha_micro,\n",
    "             cluster_rows = host_dend_f,\n",
    "             cluster_columns = micro_dend,\n",
    "             row_dend_side = 'right',\n",
    "             column_dend_side = 'bottom',\n",
    "             row_names_gp = gpar(fontsize = 7),\n",
    "             column_names_gp = gpar(fontsize = 9))\n",
    "\n",
    "options(repr.plot.width=8, repr.plot.height=8)\n",
    "ha_host + ht"
   ]
  },
  {
   "cell_type": "markdown",
   "metadata": {},
   "source": [
    "# `cophyloplot`"
   ]
  },
  {
   "cell_type": "code",
   "execution_count": null,
   "metadata": {
    "ExecuteTime": {
     "end_time": "2017-12-22T13:41:43.698700Z",
     "start_time": "2017-12-22T13:42:36.644Z"
    }
   },
   "outputs": [],
   "source": [
    "library(ape)"
   ]
  },
  {
   "cell_type": "code",
   "execution_count": null,
   "metadata": {
    "ExecuteTime": {
     "end_time": "2017-12-22T13:57:32.749320Z",
     "start_time": "2017-12-22T13:58:25.647Z"
    }
   },
   "outputs": [],
   "source": [
    "# creating an association matrix\n",
    "otu_s_f = otu_s %>% \n",
    "    filter(count_perc >= 5) %>%\n",
    "    dplyr::select(genus, Genus) %>%\n",
    "    as.matrix\n",
    "\n",
    "otu_s_f %>% status"
   ]
  },
  {
   "cell_type": "code",
   "execution_count": null,
   "metadata": {
    "ExecuteTime": {
     "end_time": "2017-12-22T13:57:33.822520Z",
     "start_time": "2017-12-22T13:58:26.678Z"
    }
   },
   "outputs": [],
   "source": [
    "host_phylo = as.phylo(host_dend)\n",
    "micro_phylo = as.phylo(micro_dend)"
   ]
  },
  {
   "cell_type": "code",
   "execution_count": null,
   "metadata": {
    "ExecuteTime": {
     "end_time": "2017-12-22T13:58:29.852225Z",
     "start_time": "2017-12-22T13:59:21.389Z"
    }
   },
   "outputs": [],
   "source": [
    "cophyloplot(host_phylo, micro_phylo, \n",
    "            assoc = otu_s_f,\n",
    "            type = 'cladogram',\n",
    "            space = 400,\n",
    "            length.line = 10,\n",
    "            show.tip.label = FALSE)"
   ]
  },
  {
   "cell_type": "markdown",
   "metadata": {},
   "source": [
    "# sessionInfo()"
   ]
  },
  {
   "cell_type": "code",
   "execution_count": null,
   "metadata": {
    "ExecuteTime": {
     "end_time": "2017-12-22T11:20:57.560201Z",
     "start_time": "2017-12-22T11:21:44.039Z"
    }
   },
   "outputs": [],
   "source": [
    "sessionInfo()"
   ]
  },
  {
   "cell_type": "markdown",
   "metadata": {},
   "source": [
    "# Sandbox"
   ]
  },
  {
   "cell_type": "code",
   "execution_count": null,
   "metadata": {},
   "outputs": [],
   "source": []
  }
 ],
 "metadata": {
  "kernelspec": {
   "display_name": "R [conda env:py3_physeq_htmp]",
   "language": "R",
   "name": "conda-env-py3_physeq_htmp-r"
  },
  "language_info": {
   "codemirror_mode": "r",
   "file_extension": ".r",
   "mimetype": "text/x-r-source",
   "name": "R",
   "pygments_lexer": "r",
   "version": "3.4.1"
  },
  "notify_time": "30",
  "toc": {
   "nav_menu": {},
   "number_sections": true,
   "sideBar": true,
   "skip_h1_title": false,
   "toc_cell": false,
   "toc_position": {},
   "toc_section_display": "block",
   "toc_window_display": true
  }
 },
 "nbformat": 4,
 "nbformat_minor": 2
}
