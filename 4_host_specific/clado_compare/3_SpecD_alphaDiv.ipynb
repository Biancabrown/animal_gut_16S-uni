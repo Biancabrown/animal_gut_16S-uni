{
 "cells": [
  {
   "cell_type": "markdown",
   "metadata": {},
   "source": [
    "# Goal\n",
    "\n",
    "* creating iTOL files for mapping alpha diversity onto `SpecD` host cladogram\n",
    "* using mean of alpha diversity for all IndD samples falling into each SpecD group"
   ]
  },
  {
   "cell_type": "markdown",
   "metadata": {},
   "source": [
    "# Var"
   ]
  },
  {
   "cell_type": "code",
   "execution_count": 66,
   "metadata": {
    "ExecuteTime": {
     "end_time": "2017-12-26T12:27:57.783668Z",
     "start_time": "2017-12-26T12:27:57.539Z"
    }
   },
   "outputs": [],
   "source": [
    "work_dir = '/ebio/abt3_projects/Georg_animal_feces/data/host_specific/clado_map/'\n",
    "\n",
    "# phyloseq\n",
    "physeq_IndD_file = '/ebio/abt3_projects/Georg_animal_feces/data/16S/LLA/phyloseq//physeq_IndD.RDS'\n",
    "physeq_SpecD_file = '/ebio/abt3_projects/Georg_animal_feces/data/16S/LLA/phyloseq//physeq_SpecD.RDS'\n",
    "\n",
    "\n",
    "# alpha-div calculated with qiime2\n",
    "qiime2_alpha_dir = '/ebio/abt3_projects/Georg_animal_feces/data/16S/LLA/table_merged_filt2_r5k_filt/core_metrics_phylo/'\n",
    "qiime2_arts = c(\n",
    "    'observed_OTUs' = 'observed_otus_vector.qza',\n",
    "    'shannon' = 'shannon_vector.qza',\n",
    "    'faith_PD' = 'faith_pd_vector.qza',\n",
    "    'evenness' = 'evenness_vector.qza'\n",
    ")\n",
    "\n",
    "conda_env = 'qiime2'"
   ]
  },
  {
   "cell_type": "markdown",
   "metadata": {},
   "source": [
    "# Init"
   ]
  },
  {
   "cell_type": "code",
   "execution_count": 2,
   "metadata": {
    "ExecuteTime": {
     "end_time": "2017-12-26T11:48:12.962576Z",
     "start_time": "2017-12-26T11:48:03.980Z"
    }
   },
   "outputs": [
    {
     "name": "stderr",
     "output_type": "stream",
     "text": [
      "\n",
      "Attaching package: ‘dplyr’\n",
      "\n",
      "The following objects are masked from ‘package:stats’:\n",
      "\n",
      "    filter, lag\n",
      "\n",
      "The following objects are masked from ‘package:base’:\n",
      "\n",
      "    intersect, setdiff, setequal, union\n",
      "\n",
      "Warning message:\n",
      "“replacing previous import ‘stats::sd’ by ‘BiocGenerics::sd’ when loading ‘S4Vectors’”Warning message:\n",
      "“replacing previous import ‘stats::var’ by ‘BiocGenerics::var’ when loading ‘S4Vectors’”Warning message:\n",
      "“multiple methods tables found for ‘var’”Warning message:\n",
      "“multiple methods tables found for ‘sd’”Warning message:\n",
      "“multiple methods tables found for ‘rowSums’”Warning message:\n",
      "“multiple methods tables found for ‘colSums’”Warning message:\n",
      "“multiple methods tables found for ‘rowMeans’”Warning message:\n",
      "“multiple methods tables found for ‘colMeans’”Warning message:\n",
      "“replacing previous import ‘BiocGenerics::rowSums’ by ‘S4Vectors::rowSums’ when loading ‘Biostrings’”Warning message:\n",
      "“replacing previous import ‘BiocGenerics::var’ by ‘S4Vectors::var’ when loading ‘Biostrings’”Warning message:\n",
      "“replacing previous import ‘BiocGenerics::rowMeans’ by ‘S4Vectors::rowMeans’ when loading ‘Biostrings’”Warning message:\n",
      "“replacing previous import ‘BiocGenerics::colSums’ by ‘S4Vectors::colSums’ when loading ‘Biostrings’”Warning message:\n",
      "“replacing previous import ‘BiocGenerics::sd’ by ‘S4Vectors::sd’ when loading ‘Biostrings’”Warning message:\n",
      "“replacing previous import ‘BiocGenerics::colMeans’ by ‘S4Vectors::colMeans’ when loading ‘Biostrings’”Warning message:\n",
      "“replacing previous import ‘stats::sd’ by ‘BiocGenerics::sd’ when loading ‘IRanges’”Warning message:\n",
      "“replacing previous import ‘stats::var’ by ‘BiocGenerics::var’ when loading ‘IRanges’”Warning message:\n",
      "“replacing previous import ‘BiocGenerics::rowSums’ by ‘S4Vectors::rowSums’ when loading ‘IRanges’”Warning message:\n",
      "“replacing previous import ‘BiocGenerics::var’ by ‘S4Vectors::var’ when loading ‘IRanges’”Warning message:\n",
      "“replacing previous import ‘BiocGenerics::rowMeans’ by ‘S4Vectors::rowMeans’ when loading ‘IRanges’”Warning message:\n",
      "“replacing previous import ‘BiocGenerics::colSums’ by ‘S4Vectors::colSums’ when loading ‘IRanges’”Warning message:\n",
      "“replacing previous import ‘BiocGenerics::sd’ by ‘S4Vectors::sd’ when loading ‘IRanges’”Warning message:\n",
      "“replacing previous import ‘BiocGenerics::colMeans’ by ‘S4Vectors::colMeans’ when loading ‘IRanges’”Warning message:\n",
      "“multiple methods tables found for ‘var’”Warning message:\n",
      "“multiple methods tables found for ‘sd’”Warning message:\n",
      "“replacing previous import ‘BiocGenerics::rowSums’ by ‘S4Vectors::rowSums’ when loading ‘XVector’”Warning message:\n",
      "“replacing previous import ‘BiocGenerics::var’ by ‘S4Vectors::var’ when loading ‘XVector’”Warning message:\n",
      "“replacing previous import ‘BiocGenerics::rowMeans’ by ‘S4Vectors::rowMeans’ when loading ‘XVector’”Warning message:\n",
      "“replacing previous import ‘BiocGenerics::colSums’ by ‘S4Vectors::colSums’ when loading ‘XVector’”Warning message:\n",
      "“replacing previous import ‘BiocGenerics::sd’ by ‘S4Vectors::sd’ when loading ‘XVector’”Warning message:\n",
      "“replacing previous import ‘BiocGenerics::colMeans’ by ‘S4Vectors::colMeans’ when loading ‘XVector’”"
     ]
    }
   ],
   "source": [
    "library(dplyr)\n",
    "library(tidyr)\n",
    "library(ggplot2)\n",
    "library(stringr)\n",
    "library(phyloseq)\n",
    "source('/ebio/abt3_projects/Georg_animal_feces/code/init.R') "
   ]
  },
  {
   "cell_type": "code",
   "execution_count": 6,
   "metadata": {
    "ExecuteTime": {
     "end_time": "2017-12-26T11:52:09.611551Z",
     "start_time": "2017-12-26T11:52:09.554Z"
    }
   },
   "outputs": [],
   "source": [
    "setwd(qiime2_alpha_dir)"
   ]
  },
  {
   "cell_type": "markdown",
   "metadata": {},
   "source": [
    "# Converting artifacts to tables"
   ]
  },
  {
   "cell_type": "code",
   "execution_count": 11,
   "metadata": {
    "ExecuteTime": {
     "end_time": "2017-12-26T11:58:01.532194Z",
     "start_time": "2017-12-26T11:57:38.602Z"
    }
   },
   "outputs": [],
   "source": [
    "artifact_export = function(file_name, output_name, conda_env){\n",
    "    # export qiime2 artifact\n",
    "    cmd = 'qiime tools export --output-dir %s %s'\n",
    "    cmd = sprintf(cmd, output_name, file_name)\n",
    "    bash_job(cmd, conda_env)\n",
    "}\n",
    "\n",
    "for(i in names(qiime2_arts)){\n",
    "    artifact_export(qiime2_arts[i],\n",
    "                    file.path(qiime2_alpha_dir, i),\n",
    "                    conda_env)\n",
    "}"
   ]
  },
  {
   "cell_type": "markdown",
   "metadata": {},
   "source": [
    "# Load"
   ]
  },
  {
   "cell_type": "markdown",
   "metadata": {},
   "source": [
    "## Phyloseq"
   ]
  },
  {
   "cell_type": "code",
   "execution_count": 69,
   "metadata": {
    "ExecuteTime": {
     "end_time": "2017-12-26T12:28:28.898744Z",
     "start_time": "2017-12-26T12:28:27.478Z"
    }
   },
   "outputs": [
    {
     "data": {
      "text/plain": [
       "phyloseq-class experiment-level object\n",
       "otu_table()   OTU Table:         [ 31209 taxa and 221 samples ]\n",
       "sample_data() Sample Data:       [ 221 samples by 100 sample variables ]\n",
       "tax_table()   Taxonomy Table:    [ 31209 taxa by 7 taxonomic ranks ]\n",
       "phy_tree()    Phylogenetic Tree: [ 31209 tips and 30658 internal nodes ]"
      ]
     },
     "metadata": {},
     "output_type": "display_data"
    }
   ],
   "source": [
    "physeq = readRDS(physeq_IndD_file)\n",
    "physeq"
   ]
  },
  {
   "cell_type": "code",
   "execution_count": 71,
   "metadata": {
    "ExecuteTime": {
     "end_time": "2017-12-26T12:28:37.159649Z",
     "start_time": "2017-12-26T12:28:37.138Z"
    }
   },
   "outputs": [
    {
     "name": "stderr",
     "output_type": "stream",
     "text": [
      "Warning message in as.matrix.data.frame(.):\n",
      "“Setting class(x) to NULL;   result will no longer be an S4 object”"
     ]
    },
    {
     "name": "stdout",
     "output_type": "stream",
     "text": [
      "[1] 221 101\n"
     ]
    },
    {
     "data": {
      "text/html": [
       "<table>\n",
       "<thead><tr><th scope=col>BarcodeSequence</th><th scope=col>LinkerPrimerSequence</th><th scope=col>Primer</th><th scope=col>ReversePrimer</th><th scope=col>Barcode_ID</th><th scope=col>sample_number</th><th scope=col>host_subj_id</th><th scope=col>host_common_name</th><th scope=col>scientific_name</th><th scope=col>scientific_name_subspecies</th><th scope=col>⋯</th><th scope=col>Ct_A_2</th><th scope=col>Ct_B_2</th><th scope=col>Amount_SYBR_copies_in_5_ul_A_2</th><th scope=col>Amount_SYBR_copies_in_5_ul_B_2</th><th scope=col>Amount_geometric_mean_SYBR_2</th><th scope=col>Copies_in_5_ul_PCR_template_2</th><th scope=col>Copies_per_100_ul_extract_2</th><th scope=col>wellplate_Illumina</th><th scope=col>wellplate_position_Illumina</th><th scope=col>SampleID</th></tr></thead>\n",
       "<tbody>\n",
       "\t<tr><td>ACTCACGGTATG         </td><td>CATGCTGCCTCCCGTAGGAGT</td><td>GCCTCCCTCGCGCCATCAG  </td><td>AGAGTTTGATCCTGGCTCAG </td><td>338R_BC0049          </td><td>1                    </td><td>1                    </td><td>Eurasian.Beaver      </td><td>Castor fiber         </td><td>NA                   </td><td>⋯                    </td><td>NA                   </td><td>NA                   </td><td>NA                   </td><td>NA                   </td><td>NA                   </td><td>NA                   </td><td>NA                   </td><td>2                    </td><td>B12                  </td><td>1.Eurasian.Beaver    </td></tr>\n",
       "\t<tr><td>ACGACGTCTTAG         </td><td>CATGCTGCCTCCCGTAGGAGT</td><td>GCCTCCCTCGCGCCATCAG  </td><td>AGAGTTTGATCCTGGCTCAG </td><td>338R_BC0030          </td><td>101                  </td><td>101                  </td><td>Horse                </td><td>Equus caballus       </td><td>NA                   </td><td>⋯                    </td><td>11.66                </td><td>NA                   </td><td>2.130E+8X            </td><td>NA                   </td><td>NA                   </td><td>3.41e+09             </td><td>6.82e+10             </td><td>4                    </td><td>E8                   </td><td>101.Horse            </td></tr>\n",
       "\t<tr><td>ACGAGTGCTATC         </td><td>CATGCTGCCTCCCGTAGGAGT</td><td>GCCTCCCTCGCGCCATCAG  </td><td>AGAGTTTGATCCTGGCTCAG </td><td>338R_BC0031          </td><td>102                  </td><td>102                  </td><td>Kulan                </td><td>Equus hemionus       </td><td>Equus hemionus kulan </td><td>⋯                    </td><td>16.89                </td><td>NA                   </td><td>6.820E+6X            </td><td>NA                   </td><td>NA                   </td><td>1.09e+08             </td><td>2.18e+09             </td><td>4                    </td><td>E9                   </td><td>102.Kulan            </td></tr>\n",
       "</tbody>\n",
       "</table>\n"
      ],
      "text/latex": [
       "\\begin{tabular}{r|lllllllllllllllllllllllllllllllllllllllllllllllllllllllllllllllllllllllllllllllllllllllllllllllllllll}\n",
       " BarcodeSequence & LinkerPrimerSequence & Primer & ReversePrimer & Barcode\\_ID & sample\\_number & host\\_subj\\_id & host\\_common\\_name & scientific\\_name & scientific\\_name\\_subspecies & ⋯ & Ct\\_A\\_2 & Ct\\_B\\_2 & Amount\\_SYBR\\_copies\\_in\\_5\\_ul\\_A\\_2 & Amount\\_SYBR\\_copies\\_in\\_5\\_ul\\_B\\_2 & Amount\\_geometric\\_mean\\_SYBR\\_2 & Copies\\_in\\_5\\_ul\\_PCR\\_template\\_2 & Copies\\_per\\_100\\_ul\\_extract\\_2 & wellplate\\_Illumina & wellplate\\_position\\_Illumina & SampleID\\\\\n",
       "\\hline\n",
       "\t ACTCACGGTATG          & CATGCTGCCTCCCGTAGGAGT & GCCTCCCTCGCGCCATCAG   & AGAGTTTGATCCTGGCTCAG  & 338R\\_BC0049         & 1                     & 1                     & Eurasian.Beaver       & Castor fiber          & NA                    & ⋯                     & NA                    & NA                    & NA                    & NA                    & NA                    & NA                    & NA                    & 2                     & B12                   & 1.Eurasian.Beaver    \\\\\n",
       "\t ACGACGTCTTAG          & CATGCTGCCTCCCGTAGGAGT & GCCTCCCTCGCGCCATCAG   & AGAGTTTGATCCTGGCTCAG  & 338R\\_BC0030         & 101                   & 101                   & Horse                 & Equus caballus        & NA                    & ⋯                     & 11.66                 & NA                    & 2.130E+8X             & NA                    & NA                    & 3.41e+09              & 6.82e+10              & 4                     & E8                    & 101.Horse            \\\\\n",
       "\t ACGAGTGCTATC          & CATGCTGCCTCCCGTAGGAGT & GCCTCCCTCGCGCCATCAG   & AGAGTTTGATCCTGGCTCAG  & 338R\\_BC0031         & 102                   & 102                   & Kulan                 & Equus hemionus        & Equus hemionus kulan  & ⋯                     & 16.89                 & NA                    & 6.820E+6X             & NA                    & NA                    & 1.09e+08              & 2.18e+09              & 4                     & E9                    & 102.Kulan            \\\\\n",
       "\\end{tabular}\n"
      ],
      "text/markdown": [
       "\n",
       "BarcodeSequence | LinkerPrimerSequence | Primer | ReversePrimer | Barcode_ID | sample_number | host_subj_id | host_common_name | scientific_name | scientific_name_subspecies | ⋯ | Ct_A_2 | Ct_B_2 | Amount_SYBR_copies_in_5_ul_A_2 | Amount_SYBR_copies_in_5_ul_B_2 | Amount_geometric_mean_SYBR_2 | Copies_in_5_ul_PCR_template_2 | Copies_per_100_ul_extract_2 | wellplate_Illumina | wellplate_position_Illumina | SampleID | \n",
       "|---|---|---|\n",
       "| ACTCACGGTATG          | CATGCTGCCTCCCGTAGGAGT | GCCTCCCTCGCGCCATCAG   | AGAGTTTGATCCTGGCTCAG  | 338R_BC0049           | 1                     | 1                     | Eurasian.Beaver       | Castor fiber          | NA                    | ⋯                     | NA                    | NA                    | NA                    | NA                    | NA                    | NA                    | NA                    | 2                     | B12                   | 1.Eurasian.Beaver     | \n",
       "| ACGACGTCTTAG          | CATGCTGCCTCCCGTAGGAGT | GCCTCCCTCGCGCCATCAG   | AGAGTTTGATCCTGGCTCAG  | 338R_BC0030           | 101                   | 101                   | Horse                 | Equus caballus        | NA                    | ⋯                     | 11.66                 | NA                    | 2.130E+8X             | NA                    | NA                    | 3.41e+09              | 6.82e+10              | 4                     | E8                    | 101.Horse             | \n",
       "| ACGAGTGCTATC          | CATGCTGCCTCCCGTAGGAGT | GCCTCCCTCGCGCCATCAG   | AGAGTTTGATCCTGGCTCAG  | 338R_BC0031           | 102                   | 102                   | Kulan                 | Equus hemionus        | Equus hemionus kulan  | ⋯                     | 16.89                 | NA                    | 6.820E+6X             | NA                    | NA                    | 1.09e+08              | 2.18e+09              | 4                     | E9                    | 102.Kulan             | \n",
       "\n",
       "\n"
      ],
      "text/plain": [
       "  BarcodeSequence LinkerPrimerSequence  Primer             \n",
       "1 ACTCACGGTATG    CATGCTGCCTCCCGTAGGAGT GCCTCCCTCGCGCCATCAG\n",
       "2 ACGACGTCTTAG    CATGCTGCCTCCCGTAGGAGT GCCTCCCTCGCGCCATCAG\n",
       "3 ACGAGTGCTATC    CATGCTGCCTCCCGTAGGAGT GCCTCCCTCGCGCCATCAG\n",
       "  ReversePrimer        Barcode_ID  sample_number host_subj_id host_common_name\n",
       "1 AGAGTTTGATCCTGGCTCAG 338R_BC0049 1             1            Eurasian.Beaver \n",
       "2 AGAGTTTGATCCTGGCTCAG 338R_BC0030 101           101          Horse           \n",
       "3 AGAGTTTGATCCTGGCTCAG 338R_BC0031 102           102          Kulan           \n",
       "  scientific_name scientific_name_subspecies ⋯ Ct_A_2 Ct_B_2\n",
       "1 Castor fiber    NA                         ⋯ NA     NA    \n",
       "2 Equus caballus  NA                         ⋯ 11.66  NA    \n",
       "3 Equus hemionus  Equus hemionus kulan       ⋯ 16.89  NA    \n",
       "  Amount_SYBR_copies_in_5_ul_A_2 Amount_SYBR_copies_in_5_ul_B_2\n",
       "1 NA                             NA                            \n",
       "2 2.130E+8X                      NA                            \n",
       "3 6.820E+6X                      NA                            \n",
       "  Amount_geometric_mean_SYBR_2 Copies_in_5_ul_PCR_template_2\n",
       "1 NA                           NA                           \n",
       "2 NA                           3.41e+09                     \n",
       "3 NA                           1.09e+08                     \n",
       "  Copies_per_100_ul_extract_2 wellplate_Illumina wellplate_position_Illumina\n",
       "1 NA                          2                  B12                        \n",
       "2 6.82e+10                    4                  E8                         \n",
       "3 2.18e+09                    4                  E9                         \n",
       "  SampleID         \n",
       "1 1.Eurasian.Beaver\n",
       "2 101.Horse        \n",
       "3 102.Kulan        "
      ]
     },
     "metadata": {},
     "output_type": "display_data"
    }
   ],
   "source": [
    "metadata_IndD = physeq %>% \n",
    "    sample_data %>% \n",
    "    as.matrix %>% \n",
    "    as.data.frame %>%\n",
    "    mutate(SampleID = rownames(.),\n",
    "           SampleID = gsub('^X([0-9]+)', '\\\\1', SampleID))\n",
    "metadata_IndD %>% status"
   ]
  },
  {
   "cell_type": "code",
   "execution_count": 72,
   "metadata": {
    "ExecuteTime": {
     "end_time": "2017-12-26T12:28:45.625434Z",
     "start_time": "2017-12-26T12:28:45.207Z"
    }
   },
   "outputs": [
    {
     "data": {
      "text/plain": [
       "phyloseq-class experiment-level object\n",
       "otu_table()   OTU Table:         [ 19190 taxa and 131 samples ]\n",
       "sample_data() Sample Data:       [ 131 samples by 100 sample variables ]\n",
       "tax_table()   Taxonomy Table:    [ 19190 taxa by 7 taxonomic ranks ]\n",
       "phy_tree()    Phylogenetic Tree: [ 19190 tips and 18939 internal nodes ]"
      ]
     },
     "metadata": {},
     "output_type": "display_data"
    }
   ],
   "source": [
    "physeq = readRDS(physeq_SpecD_file)\n",
    "physeq"
   ]
  },
  {
   "cell_type": "code",
   "execution_count": 101,
   "metadata": {
    "ExecuteTime": {
     "end_time": "2017-12-26T12:45:54.055602Z",
     "start_time": "2017-12-26T12:45:54.091Z"
    }
   },
   "outputs": [
    {
     "name": "stderr",
     "output_type": "stream",
     "text": [
      "Warning message in as.matrix.data.frame(.):\n",
      "“Setting class(x) to NULL;   result will no longer be an S4 object”"
     ]
    },
    {
     "name": "stdout",
     "output_type": "stream",
     "text": [
      "[1] 131 102\n"
     ]
    },
    {
     "data": {
      "text/html": [
       "<table>\n",
       "<thead><tr><th scope=col>BarcodeSequence</th><th scope=col>LinkerPrimerSequence</th><th scope=col>Primer</th><th scope=col>ReversePrimer</th><th scope=col>Barcode_ID</th><th scope=col>sample_number</th><th scope=col>host_subj_id</th><th scope=col>host_common_name</th><th scope=col>scientific_name</th><th scope=col>scientific_name_subspecies</th><th scope=col>⋯</th><th scope=col>Ct_B_2</th><th scope=col>Amount_SYBR_copies_in_5_ul_A_2</th><th scope=col>Amount_SYBR_copies_in_5_ul_B_2</th><th scope=col>Amount_geometric_mean_SYBR_2</th><th scope=col>Copies_in_5_ul_PCR_template_2</th><th scope=col>Copies_per_100_ul_extract_2</th><th scope=col>wellplate_Illumina</th><th scope=col>wellplate_position_Illumina</th><th scope=col>SampleID</th><th scope=col>SpecD_ID</th></tr></thead>\n",
       "<tbody>\n",
       "\t<tr><td>ACTCACGGTATG         </td><td>CATGCTGCCTCCCGTAGGAGT</td><td>GCCTCCCTCGCGCCATCAG  </td><td>AGAGTTTGATCCTGGCTCAG </td><td>338R_BC0049          </td><td>1                    </td><td>1                    </td><td>Eurasian.Beaver      </td><td>Castor fiber         </td><td>NA                   </td><td>⋯                    </td><td>NA                   </td><td>NA                   </td><td>NA                   </td><td>NA                   </td><td>NA                   </td><td>NA                   </td><td>2                    </td><td>B12                  </td><td>X1.Eurasian.Beaver   </td><td>Eurasian.Beaver      </td></tr>\n",
       "\t<tr><td>ACTGTCGAAGCT         </td><td>CATGCTGCCTCCCGTAGGAGT</td><td>GCCTCCCTCGCGCCATCAG  </td><td>AGAGTTTGATCCTGGCTCAG </td><td>338R_BC0057          </td><td>109                  </td><td>109                  </td><td>Red.Fox              </td><td>Vulpes vulpes        </td><td>NA                   </td><td>⋯                    </td><td>NA                   </td><td>2.340E+7X            </td><td>NA                   </td><td>NA                   </td><td>3.74e+08             </td><td>7.49e+09             </td><td>4                    </td><td>F2                   </td><td>X109.Red.Fox         </td><td>Red.Fox              </td></tr>\n",
       "\t<tr><td>ACACGGTGTCTA         </td><td>CATGCTGCCTCCCGTAGGAGT</td><td>GCCTCCCTCGCGCCATCAG  </td><td>AGAGTTTGATCCTGGCTCAG </td><td>338R_BC0011          </td><td>116                  </td><td>116                  </td><td>Common.Kestrel       </td><td>Falco tinnunculus    </td><td>NA                   </td><td>⋯                    </td><td>NA                   </td><td>5.210E+5X            </td><td>NA                   </td><td>NA                   </td><td>8.34e+06             </td><td>1.67e+08             </td><td>1                    </td><td>C11                  </td><td>X116.Common.Kestrel  </td><td>Common.Kestrel       </td></tr>\n",
       "</tbody>\n",
       "</table>\n"
      ],
      "text/latex": [
       "\\begin{tabular}{r|llllllllllllllllllllllllllllllllllllllllllllllllllllllllllllllllllllllllllllllllllllllllllllllllllllll}\n",
       " BarcodeSequence & LinkerPrimerSequence & Primer & ReversePrimer & Barcode\\_ID & sample\\_number & host\\_subj\\_id & host\\_common\\_name & scientific\\_name & scientific\\_name\\_subspecies & ⋯ & Ct\\_B\\_2 & Amount\\_SYBR\\_copies\\_in\\_5\\_ul\\_A\\_2 & Amount\\_SYBR\\_copies\\_in\\_5\\_ul\\_B\\_2 & Amount\\_geometric\\_mean\\_SYBR\\_2 & Copies\\_in\\_5\\_ul\\_PCR\\_template\\_2 & Copies\\_per\\_100\\_ul\\_extract\\_2 & wellplate\\_Illumina & wellplate\\_position\\_Illumina & SampleID & SpecD\\_ID\\\\\n",
       "\\hline\n",
       "\t ACTCACGGTATG          & CATGCTGCCTCCCGTAGGAGT & GCCTCCCTCGCGCCATCAG   & AGAGTTTGATCCTGGCTCAG  & 338R\\_BC0049         & 1                     & 1                     & Eurasian.Beaver       & Castor fiber          & NA                    & ⋯                     & NA                    & NA                    & NA                    & NA                    & NA                    & NA                    & 2                     & B12                   & X1.Eurasian.Beaver    & Eurasian.Beaver      \\\\\n",
       "\t ACTGTCGAAGCT          & CATGCTGCCTCCCGTAGGAGT & GCCTCCCTCGCGCCATCAG   & AGAGTTTGATCCTGGCTCAG  & 338R\\_BC0057         & 109                   & 109                   & Red.Fox               & Vulpes vulpes         & NA                    & ⋯                     & NA                    & 2.340E+7X             & NA                    & NA                    & 3.74e+08              & 7.49e+09              & 4                     & F2                    & X109.Red.Fox          & Red.Fox              \\\\\n",
       "\t ACACGGTGTCTA          & CATGCTGCCTCCCGTAGGAGT & GCCTCCCTCGCGCCATCAG   & AGAGTTTGATCCTGGCTCAG  & 338R\\_BC0011         & 116                   & 116                   & Common.Kestrel        & Falco tinnunculus     & NA                    & ⋯                     & NA                    & 5.210E+5X             & NA                    & NA                    & 8.34e+06              & 1.67e+08              & 1                     & C11                   & X116.Common.Kestrel   & Common.Kestrel       \\\\\n",
       "\\end{tabular}\n"
      ],
      "text/markdown": [
       "\n",
       "BarcodeSequence | LinkerPrimerSequence | Primer | ReversePrimer | Barcode_ID | sample_number | host_subj_id | host_common_name | scientific_name | scientific_name_subspecies | ⋯ | Ct_B_2 | Amount_SYBR_copies_in_5_ul_A_2 | Amount_SYBR_copies_in_5_ul_B_2 | Amount_geometric_mean_SYBR_2 | Copies_in_5_ul_PCR_template_2 | Copies_per_100_ul_extract_2 | wellplate_Illumina | wellplate_position_Illumina | SampleID | SpecD_ID | \n",
       "|---|---|---|\n",
       "| ACTCACGGTATG          | CATGCTGCCTCCCGTAGGAGT | GCCTCCCTCGCGCCATCAG   | AGAGTTTGATCCTGGCTCAG  | 338R_BC0049           | 1                     | 1                     | Eurasian.Beaver       | Castor fiber          | NA                    | ⋯                     | NA                    | NA                    | NA                    | NA                    | NA                    | NA                    | 2                     | B12                   | X1.Eurasian.Beaver    | Eurasian.Beaver       | \n",
       "| ACTGTCGAAGCT          | CATGCTGCCTCCCGTAGGAGT | GCCTCCCTCGCGCCATCAG   | AGAGTTTGATCCTGGCTCAG  | 338R_BC0057           | 109                   | 109                   | Red.Fox               | Vulpes vulpes         | NA                    | ⋯                     | NA                    | 2.340E+7X             | NA                    | NA                    | 3.74e+08              | 7.49e+09              | 4                     | F2                    | X109.Red.Fox          | Red.Fox               | \n",
       "| ACACGGTGTCTA          | CATGCTGCCTCCCGTAGGAGT | GCCTCCCTCGCGCCATCAG   | AGAGTTTGATCCTGGCTCAG  | 338R_BC0011           | 116                   | 116                   | Common.Kestrel        | Falco tinnunculus     | NA                    | ⋯                     | NA                    | 5.210E+5X             | NA                    | NA                    | 8.34e+06              | 1.67e+08              | 1                     | C11                   | X116.Common.Kestrel   | Common.Kestrel        | \n",
       "\n",
       "\n"
      ],
      "text/plain": [
       "  BarcodeSequence LinkerPrimerSequence  Primer             \n",
       "1 ACTCACGGTATG    CATGCTGCCTCCCGTAGGAGT GCCTCCCTCGCGCCATCAG\n",
       "2 ACTGTCGAAGCT    CATGCTGCCTCCCGTAGGAGT GCCTCCCTCGCGCCATCAG\n",
       "3 ACACGGTGTCTA    CATGCTGCCTCCCGTAGGAGT GCCTCCCTCGCGCCATCAG\n",
       "  ReversePrimer        Barcode_ID  sample_number host_subj_id host_common_name\n",
       "1 AGAGTTTGATCCTGGCTCAG 338R_BC0049 1             1            Eurasian.Beaver \n",
       "2 AGAGTTTGATCCTGGCTCAG 338R_BC0057 109           109          Red.Fox         \n",
       "3 AGAGTTTGATCCTGGCTCAG 338R_BC0011 116           116          Common.Kestrel  \n",
       "  scientific_name   scientific_name_subspecies ⋯ Ct_B_2\n",
       "1 Castor fiber      NA                         ⋯ NA    \n",
       "2 Vulpes vulpes     NA                         ⋯ NA    \n",
       "3 Falco tinnunculus NA                         ⋯ NA    \n",
       "  Amount_SYBR_copies_in_5_ul_A_2 Amount_SYBR_copies_in_5_ul_B_2\n",
       "1 NA                             NA                            \n",
       "2 2.340E+7X                      NA                            \n",
       "3 5.210E+5X                      NA                            \n",
       "  Amount_geometric_mean_SYBR_2 Copies_in_5_ul_PCR_template_2\n",
       "1 NA                           NA                           \n",
       "2 NA                           3.74e+08                     \n",
       "3 NA                           8.34e+06                     \n",
       "  Copies_per_100_ul_extract_2 wellplate_Illumina wellplate_position_Illumina\n",
       "1 NA                          2                  B12                        \n",
       "2 7.49e+09                    4                  F2                         \n",
       "3 1.67e+08                    1                  C11                        \n",
       "  SampleID            SpecD_ID       \n",
       "1 X1.Eurasian.Beaver  Eurasian.Beaver\n",
       "2 X109.Red.Fox        Red.Fox        \n",
       "3 X116.Common.Kestrel Common.Kestrel "
      ]
     },
     "metadata": {},
     "output_type": "display_data"
    }
   ],
   "source": [
    "metadata_SpecD = physeq %>% \n",
    "    sample_data %>% \n",
    "    as.matrix %>% \n",
    "    as.data.frame %>%\n",
    "    mutate(SampleID = rownames(.),\n",
    "           SpecD_ID = gsub('^[A-Z][0-9]+b*\\\\.', '', SampleID))\n",
    "metadata_SpecD %>% status"
   ]
  },
  {
   "cell_type": "markdown",
   "metadata": {},
   "source": [
    "## Alpha diversity"
   ]
  },
  {
   "cell_type": "code",
   "execution_count": 102,
   "metadata": {
    "ExecuteTime": {
     "end_time": "2017-12-26T12:45:58.492771Z",
     "start_time": "2017-12-26T12:45:58.615Z"
    }
   },
   "outputs": [
    {
     "name": "stdout",
     "output_type": "stream",
     "text": [
      "[1] 968   3\n"
     ]
    },
    {
     "data": {
      "text/html": [
       "<table>\n",
       "<thead><tr><th scope=col>value</th><th scope=col>metric</th><th scope=col>SampleID</th></tr></thead>\n",
       "<tbody>\n",
       "\t<tr><td>105              </td><td>observed_OTUs    </td><td>1.Eurasian.Beaver</td></tr>\n",
       "\t<tr><td>467              </td><td>observed_OTUs    </td><td>101.Horse        </td></tr>\n",
       "\t<tr><td>285              </td><td>observed_OTUs    </td><td>102.Kulan        </td></tr>\n",
       "</tbody>\n",
       "</table>\n"
      ],
      "text/latex": [
       "\\begin{tabular}{r|lll}\n",
       " value & metric & SampleID\\\\\n",
       "\\hline\n",
       "\t 105               & observed\\_OTUs   & 1.Eurasian.Beaver\\\\\n",
       "\t 467               & observed\\_OTUs   & 101.Horse        \\\\\n",
       "\t 285               & observed\\_OTUs   & 102.Kulan        \\\\\n",
       "\\end{tabular}\n"
      ],
      "text/markdown": [
       "\n",
       "value | metric | SampleID | \n",
       "|---|---|---|\n",
       "| 105               | observed_OTUs     | 1.Eurasian.Beaver | \n",
       "| 467               | observed_OTUs     | 101.Horse         | \n",
       "| 285               | observed_OTUs     | 102.Kulan         | \n",
       "\n",
       "\n"
      ],
      "text/plain": [
       "  value metric        SampleID         \n",
       "1 105   observed_OTUs 1.Eurasian.Beaver\n",
       "2 467   observed_OTUs 101.Horse        \n",
       "3 285   observed_OTUs 102.Kulan        "
      ]
     },
     "metadata": {},
     "output_type": "display_data"
    }
   ],
   "source": [
    "load_alpha = function(file_name, alpha_div, base_dir){\n",
    "    in_file = file.path(base_dir, alpha_div, file_name)\n",
    "    read.delim(in_file, sep='\\t', row.names=1)\n",
    "}\n",
    "\n",
    "alphas = list()\n",
    "for(i in names(qiime2_arts)){\n",
    "    df = load_alpha('alpha-diversity.tsv', i, qiime2_alpha_dir)\n",
    "    colnames(df) = c('value')\n",
    "    df$metric = i\n",
    "    alphas[[i]] = df\n",
    "}\n",
    "\n",
    "alphas = do.call(rbind, alphas) %>%\n",
    "    mutate(SampleID = gsub('^.*?\\\\.', '', rownames(.)))\n",
    "alphas %>% status"
   ]
  },
  {
   "cell_type": "code",
   "execution_count": 103,
   "metadata": {
    "ExecuteTime": {
     "end_time": "2017-12-26T12:45:59.865146Z",
     "start_time": "2017-12-26T12:45:58.774Z"
    }
   },
   "outputs": [
    {
     "data": {
      "image/png": "[encoded data removed]",
      "text/plain": [
       "plot without title"
      ]
     },
     "metadata": {},
     "output_type": "display_data"
    }
   ],
   "source": [
    "p = ggplot(alphas, aes(value)) +\n",
    "    geom_histogram(bins=40) +\n",
    "    facet_grid(. ~ metric, scales='free_x') +\n",
    "    theme_bw()\n",
    "\n",
    "options(repr.plot.width=8, repr.plot.height=2.5)\n",
    "plot(p)"
   ]
  },
  {
   "cell_type": "markdown",
   "metadata": {},
   "source": [
    "# Format for iTOL"
   ]
  },
  {
   "cell_type": "markdown",
   "metadata": {},
   "source": [
    "## Grouping by SpecD ID"
   ]
  },
  {
   "cell_type": "code",
   "execution_count": 104,
   "metadata": {
    "ExecuteTime": {
     "end_time": "2017-12-26T12:45:59.966062Z",
     "start_time": "2017-12-26T12:45:59.183Z"
    },
    "scrolled": false
   },
   "outputs": [
    {
     "name": "stdout",
     "output_type": "stream",
     "text": [
      " [1] \"144.Cattle\"       \"146.Cattle\"       \"148.Cattle\"       \"150.Cattle\"      \n",
      " [5] \"195.Domestic.Cat\" \"206.Red.Sheep\"    \"209.Red.Sheep\"    \"309.Domestic.Cat\"\n",
      " [9] \"310.Domestic.Cat\" \"311.Domestic.Cat\" \"312.Domestic.Cat\" \"314.Red.Deer\"    \n",
      "[13] \"315.Red.Deer\"     \"316.Red.Deer\"     \"317.Red.Deer\"     \"318.Red.Deer\"    \n",
      "[17] \"319.Red.Deer\"     \"321.Red.Deer\"     \"322.Red.Deer\"     \"323.Red.Deer\"    \n",
      "[21] \"324.Red.Deer\"    \n",
      "character(0)\n",
      "[1] 884   8\n"
     ]
    },
    {
     "data": {
      "text/html": [
       "<table>\n",
       "<thead><tr><th scope=col>value</th><th scope=col>metric</th><th scope=col>SampleID</th><th scope=col>class</th><th scope=col>order</th><th scope=col>family</th><th scope=col>genus</th><th scope=col>scientific_name</th></tr></thead>\n",
       "<tbody>\n",
       "\t<tr><td>105              </td><td>observed_OTUs    </td><td>1.Eurasian.Beaver</td><td>Mammalia         </td><td>Rodentia         </td><td>Castoridae       </td><td>Castor           </td><td>Castor fiber     </td></tr>\n",
       "\t<tr><td>467              </td><td>observed_OTUs    </td><td>101.Horse        </td><td>Mammalia         </td><td>Perissodactyla   </td><td>Equidae          </td><td>Equus            </td><td>Equus caballus   </td></tr>\n",
       "\t<tr><td>285              </td><td>observed_OTUs    </td><td>102.Kulan        </td><td>Mammalia         </td><td>Perissodactyla   </td><td>Equidae          </td><td>Equus            </td><td>Equus hemionus   </td></tr>\n",
       "</tbody>\n",
       "</table>\n"
      ],
      "text/latex": [
       "\\begin{tabular}{r|llllllll}\n",
       " value & metric & SampleID & class & order & family & genus & scientific\\_name\\\\\n",
       "\\hline\n",
       "\t 105               & observed\\_OTUs   & 1.Eurasian.Beaver & Mammalia          & Rodentia          & Castoridae        & Castor            & Castor fiber     \\\\\n",
       "\t 467               & observed\\_OTUs   & 101.Horse         & Mammalia          & Perissodactyla    & Equidae           & Equus             & Equus caballus   \\\\\n",
       "\t 285               & observed\\_OTUs   & 102.Kulan         & Mammalia          & Perissodactyla    & Equidae           & Equus             & Equus hemionus   \\\\\n",
       "\\end{tabular}\n"
      ],
      "text/markdown": [
       "\n",
       "value | metric | SampleID | class | order | family | genus | scientific_name | \n",
       "|---|---|---|\n",
       "| 105               | observed_OTUs     | 1.Eurasian.Beaver | Mammalia          | Rodentia          | Castoridae        | Castor            | Castor fiber      | \n",
       "| 467               | observed_OTUs     | 101.Horse         | Mammalia          | Perissodactyla    | Equidae           | Equus             | Equus caballus    | \n",
       "| 285               | observed_OTUs     | 102.Kulan         | Mammalia          | Perissodactyla    | Equidae           | Equus             | Equus hemionus    | \n",
       "\n",
       "\n"
      ],
      "text/plain": [
       "  value metric        SampleID          class    order          family    \n",
       "1 105   observed_OTUs 1.Eurasian.Beaver Mammalia Rodentia       Castoridae\n",
       "2 467   observed_OTUs 101.Horse         Mammalia Perissodactyla Equidae   \n",
       "3 285   observed_OTUs 102.Kulan         Mammalia Perissodactyla Equidae   \n",
       "  genus  scientific_name\n",
       "1 Castor Castor fiber   \n",
       "2 Equus  Equus caballus \n",
       "3 Equus  Equus hemionus "
      ]
     },
     "metadata": {},
     "output_type": "display_data"
    }
   ],
   "source": [
    "# IndD\n",
    "tmp = metadata_IndD %>%\n",
    "    dplyr::select(SampleID, class, order, family, genus, scientific_name)\n",
    "\n",
    "# checking overlap; \n",
    "setdiff(unique(alphas$SampleID), unique(tmp$SampleID)) %>% sort %>% print\n",
    "setdiff(unique(tmp$SampleID), unique(alphas$SampleID)) %>% sort %>% print\n",
    "\n",
    "# joining\n",
    "alphas_j = alphas %>%\n",
    "    inner_join(tmp, c('SampleID'))\n",
    "\n",
    "alphas_j %>% status"
   ]
  },
  {
   "cell_type": "code",
   "execution_count": 105,
   "metadata": {
    "ExecuteTime": {
     "end_time": "2017-12-26T12:46:00.027946Z",
     "start_time": "2017-12-26T12:45:59.298Z"
    }
   },
   "outputs": [
    {
     "name": "stdout",
     "output_type": "stream",
     "text": [
      "[1] 884   9\n"
     ]
    },
    {
     "data": {
      "text/html": [
       "<table>\n",
       "<thead><tr><th scope=col>value</th><th scope=col>metric</th><th scope=col>SampleID</th><th scope=col>class</th><th scope=col>order</th><th scope=col>family</th><th scope=col>genus</th><th scope=col>scientific_name</th><th scope=col>SpecD_ID</th></tr></thead>\n",
       "<tbody>\n",
       "\t<tr><td>105              </td><td>observed_OTUs    </td><td>1.Eurasian.Beaver</td><td>Mammalia         </td><td>Rodentia         </td><td>Castoridae       </td><td>Castor           </td><td>Castor fiber     </td><td>Eurasian.Beaver  </td></tr>\n",
       "\t<tr><td>467              </td><td>observed_OTUs    </td><td>101.Horse        </td><td>Mammalia         </td><td>Perissodactyla   </td><td>Equidae          </td><td>Equus            </td><td>Equus caballus   </td><td>Przewalski.horse </td></tr>\n",
       "\t<tr><td>285              </td><td>observed_OTUs    </td><td>102.Kulan        </td><td>Mammalia         </td><td>Perissodactyla   </td><td>Equidae          </td><td>Equus            </td><td>Equus hemionus   </td><td>Onager           </td></tr>\n",
       "</tbody>\n",
       "</table>\n"
      ],
      "text/latex": [
       "\\begin{tabular}{r|lllllllll}\n",
       " value & metric & SampleID & class & order & family & genus & scientific\\_name & SpecD\\_ID\\\\\n",
       "\\hline\n",
       "\t 105               & observed\\_OTUs   & 1.Eurasian.Beaver & Mammalia          & Rodentia          & Castoridae        & Castor            & Castor fiber      & Eurasian.Beaver  \\\\\n",
       "\t 467               & observed\\_OTUs   & 101.Horse         & Mammalia          & Perissodactyla    & Equidae           & Equus             & Equus caballus    & Przewalski.horse \\\\\n",
       "\t 285               & observed\\_OTUs   & 102.Kulan         & Mammalia          & Perissodactyla    & Equidae           & Equus             & Equus hemionus    & Onager           \\\\\n",
       "\\end{tabular}\n"
      ],
      "text/markdown": [
       "\n",
       "value | metric | SampleID | class | order | family | genus | scientific_name | SpecD_ID | \n",
       "|---|---|---|\n",
       "| 105               | observed_OTUs     | 1.Eurasian.Beaver | Mammalia          | Rodentia          | Castoridae        | Castor            | Castor fiber      | Eurasian.Beaver   | \n",
       "| 467               | observed_OTUs     | 101.Horse         | Mammalia          | Perissodactyla    | Equidae           | Equus             | Equus caballus    | Przewalski.horse  | \n",
       "| 285               | observed_OTUs     | 102.Kulan         | Mammalia          | Perissodactyla    | Equidae           | Equus             | Equus hemionus    | Onager            | \n",
       "\n",
       "\n"
      ],
      "text/plain": [
       "  value metric        SampleID          class    order          family    \n",
       "1 105   observed_OTUs 1.Eurasian.Beaver Mammalia Rodentia       Castoridae\n",
       "2 467   observed_OTUs 101.Horse         Mammalia Perissodactyla Equidae   \n",
       "3 285   observed_OTUs 102.Kulan         Mammalia Perissodactyla Equidae   \n",
       "  genus  scientific_name SpecD_ID        \n",
       "1 Castor Castor fiber    Eurasian.Beaver \n",
       "2 Equus  Equus caballus  Przewalski.horse\n",
       "3 Equus  Equus hemionus  Onager          "
      ]
     },
     "metadata": {},
     "output_type": "display_data"
    }
   ],
   "source": [
    "# IndD\n",
    "tmp = metadata_SpecD %>%\n",
    "    dplyr::select(SpecD_ID, scientific_name)\n",
    "\n",
    "# joining\n",
    "alphas_j = alphas_j %>%\n",
    "    inner_join(tmp, c('scientific_name')) \n",
    "\n",
    "alphas_j %>% status"
   ]
  },
  {
   "cell_type": "code",
   "execution_count": 106,
   "metadata": {
    "ExecuteTime": {
     "end_time": "2017-12-26T12:46:00.072734Z",
     "start_time": "2017-12-26T12:45:59.440Z"
    }
   },
   "outputs": [
    {
     "data": {
      "text/plain": [
       "   Min. 1st Qu.  Median    Mean 3rd Qu.    Max. \n",
       "  1.000   1.000   1.000   1.687   2.000  11.000 "
      ]
     },
     "metadata": {},
     "output_type": "display_data"
    }
   ],
   "source": [
    "# number of samples per SpecD \n",
    "alphas_j %>%\n",
    "    distinct(SampleID, SpecD_ID) %>%\n",
    "    group_by(SpecD_ID) %>%\n",
    "    summarize(n=n()) %>%\n",
    "    ungroup() %>%\n",
    "    .$n %>% summary"
   ]
  },
  {
   "cell_type": "code",
   "execution_count": 107,
   "metadata": {
    "ExecuteTime": {
     "end_time": "2017-12-26T12:46:03.821467Z",
     "start_time": "2017-12-26T12:45:59.575Z"
    }
   },
   "outputs": [
    {
     "data": {
      "image/png": "[encoded data removed]",
      "text/plain": [
       "plot without title"
      ]
     },
     "metadata": {},
     "output_type": "display_data"
    }
   ],
   "source": [
    "# distribution by alpha-div metric & host-class\n",
    "p = ggplot(alphas_j, aes(value)) +\n",
    "    geom_histogram(bins=40) +\n",
    "    facet_grid(class ~ metric, scales='free_x') +\n",
    "    theme_bw()\n",
    "\n",
    "options(repr.plot.width=6, repr.plot.height=6)\n",
    "plot(p)"
   ]
  },
  {
   "cell_type": "markdown",
   "metadata": {},
   "source": [
    "## Writing file"
   ]
  },
  {
   "cell_type": "code",
   "execution_count": 108,
   "metadata": {
    "ExecuteTime": {
     "end_time": "2017-12-26T12:46:04.283282Z",
     "start_time": "2017-12-26T12:46:00.097Z"
    }
   },
   "outputs": [
    {
     "name": "stdout",
     "output_type": "stream",
     "text": [
      "[1] 524   7\n"
     ]
    },
    {
     "data": {
      "text/html": [
       "<table>\n",
       "<thead><tr><th scope=col>SpecD_ID</th><th scope=col>metric</th><th scope=col>minimum</th><th scope=col>q1</th><th scope=col>median</th><th scope=col>q3</th><th scope=col>maximum</th></tr></thead>\n",
       "<tbody>\n",
       "\t<tr><td>Aesculapian.Snake</td><td>evenness         </td><td> 0.6760079       </td><td> 0.6760079       </td><td> 0.6760079       </td><td> 0.6760079       </td><td> 0.6760079       </td></tr>\n",
       "\t<tr><td>Aesculapian.Snake</td><td>faith_PD         </td><td> 8.6047813       </td><td> 8.6047813       </td><td> 8.6047813       </td><td> 8.6047813       </td><td> 8.6047813       </td></tr>\n",
       "\t<tr><td>Aesculapian.Snake</td><td>observed_OTUs    </td><td>91.0000000       </td><td>91.0000000       </td><td>91.0000000       </td><td>91.0000000       </td><td>91.0000000       </td></tr>\n",
       "</tbody>\n",
       "</table>\n"
      ],
      "text/latex": [
       "\\begin{tabular}{r|lllllll}\n",
       " SpecD\\_ID & metric & minimum & q1 & median & q3 & maximum\\\\\n",
       "\\hline\n",
       "\t Aesculapian.Snake & evenness          &  0.6760079        &  0.6760079        &  0.6760079        &  0.6760079        &  0.6760079       \\\\\n",
       "\t Aesculapian.Snake & faith\\_PD        &  8.6047813        &  8.6047813        &  8.6047813        &  8.6047813        &  8.6047813       \\\\\n",
       "\t Aesculapian.Snake & observed\\_OTUs   & 91.0000000        & 91.0000000        & 91.0000000        & 91.0000000        & 91.0000000       \\\\\n",
       "\\end{tabular}\n"
      ],
      "text/markdown": [
       "\n",
       "SpecD_ID | metric | minimum | q1 | median | q3 | maximum | \n",
       "|---|---|---|\n",
       "| Aesculapian.Snake | evenness          |  0.6760079        |  0.6760079        |  0.6760079        |  0.6760079        |  0.6760079        | \n",
       "| Aesculapian.Snake | faith_PD          |  8.6047813        |  8.6047813        |  8.6047813        |  8.6047813        |  8.6047813        | \n",
       "| Aesculapian.Snake | observed_OTUs     | 91.0000000        | 91.0000000        | 91.0000000        | 91.0000000        | 91.0000000        | \n",
       "\n",
       "\n"
      ],
      "text/plain": [
       "  SpecD_ID          metric        minimum    q1         median     q3        \n",
       "1 Aesculapian.Snake evenness       0.6760079  0.6760079  0.6760079  0.6760079\n",
       "2 Aesculapian.Snake faith_PD       8.6047813  8.6047813  8.6047813  8.6047813\n",
       "3 Aesculapian.Snake observed_OTUs 91.0000000 91.0000000 91.0000000 91.0000000\n",
       "  maximum   \n",
       "1  0.6760079\n",
       "2  8.6047813\n",
       "3 91.0000000"
      ]
     },
     "metadata": {},
     "output_type": "display_data"
    }
   ],
   "source": [
    "# formatting\n",
    "m = alphas_j %>%\n",
    "    group_by(SpecD_ID, metric) %>%\n",
    "    summarize(minimum = min(value),\n",
    "              q1 = quantile(value, 0.25),\n",
    "              median = median(value),\n",
    "              q3 = quantile(value, 0.75),\n",
    "              maximum = max(value)) %>%\n",
    "    ungroup()\n",
    "m %>% status"
   ]
  },
  {
   "cell_type": "code",
   "execution_count": 110,
   "metadata": {
    "ExecuteTime": {
     "end_time": "2017-12-26T12:47:25.348736Z",
     "start_time": "2017-12-26T12:47:25.477Z"
    }
   },
   "outputs": [
    {
     "name": "stdout",
     "output_type": "stream",
     "text": [
      "File written: /ebio/abt3_projects/Georg_animal_feces/data/host_specific/clado_map//evenness_iTOL-boxplot.txt \n",
      "File written: /ebio/abt3_projects/Georg_animal_feces/data/host_specific/clado_map//faith_PD_iTOL-boxplot.txt \n",
      "File written: /ebio/abt3_projects/Georg_animal_feces/data/host_specific/clado_map//observed_OTUs_iTOL-boxplot.txt \n",
      "File written: /ebio/abt3_projects/Georg_animal_feces/data/host_specific/clado_map//shannon_iTOL-boxplot.txt \n"
     ]
    }
   ],
   "source": [
    "# spliting by metric & writing each to file\n",
    "write_itol_file = function(df, metric, out_file, work_dir){\n",
    "    itol_box_file = file.path(work_dir, out_file)\n",
    "    \n",
    "    cat('DATASET_BOXPLOT\\n', file=itol_box_file)\n",
    "    cat('SEPARATOR SPACE\\n', file=itol_box_file, append=TRUE)\n",
    "    cat(sprintf('DATASET_LABEL %s\\n', metric), file=itol_box_file, append=TRUE)\n",
    "    cat('COLOR #ff0000\\n', file=itol_box_file, append=TRUE)\n",
    "    cat('DATA\\n', file=itol_box_file, append=TRUE)\n",
    "    write.table(df, file=itol_box_file, append=TRUE, sep=' ', \n",
    "                quote=FALSE, row.names=FALSE, col.names=FALSE)\n",
    "    cat('File written:', itol_box_file, '\\n')\n",
    "}\n",
    "\n",
    "for(x in unique(m$metric)){\n",
    "    m_f = m[m$metric==x,]\n",
    "    m_f$metric = NULL\n",
    "    out_file = paste0(x, '_iTOL-boxplot.txt')\n",
    "    write_itol_file(m_f, x, out_file, work_dir)\n",
    "}"
   ]
  },
  {
   "cell_type": "code",
   "execution_count": null,
   "metadata": {},
   "outputs": [],
   "source": []
  },
  {
   "cell_type": "code",
   "execution_count": null,
   "metadata": {},
   "outputs": [],
   "source": []
  }
 ],
 "metadata": {
  "kernelspec": {
   "display_name": "R [conda env:py3_physeq]",
   "language": "R",
   "name": "conda-env-py3_physeq-r"
  },
  "language_info": {
   "codemirror_mode": "r",
   "file_extension": ".r",
   "mimetype": "text/x-r-source",
   "name": "R",
   "pygments_lexer": "r",
   "version": "3.3.2"
  },
  "notify_time": "30",
  "toc": {
   "nav_menu": {},
   "number_sections": true,
   "sideBar": true,
   "skip_h1_title": false,
   "toc_cell": false,
   "toc_position": {},
   "toc_section_display": "block",
   "toc_window_display": true
  }
 },
 "nbformat": 4,
 "nbformat_minor": 2
}
