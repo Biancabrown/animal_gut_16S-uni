{
 "cells": [
  {
   "cell_type": "markdown",
   "metadata": {
    "toc": true
   },
   "source": [
    "<h1>Table of Contents<span class=\"tocSkip\"></span></h1>\n",
    "<div class=\"toc\"><ul class=\"toc-item\"><li><span><a href=\"#Goal\" data-toc-modified-id=\"Goal-1\"><span class=\"toc-item-num\">1&nbsp;&nbsp;</span>Goal</a></span></li><li><span><a href=\"#Init\" data-toc-modified-id=\"Init-2\"><span class=\"toc-item-num\">2&nbsp;&nbsp;</span>Init</a></span></li><li><span><a href=\"#Load\" data-toc-modified-id=\"Load-3\"><span class=\"toc-item-num\">3&nbsp;&nbsp;</span>Load</a></span></li><li><span><a href=\"#Subsampling-tree\" data-toc-modified-id=\"Subsampling-tree-4\"><span class=\"toc-item-num\">4&nbsp;&nbsp;</span>Subsampling tree</a></span></li><li><span><a href=\"#Creating-datasets\" data-toc-modified-id=\"Creating-datasets-5\"><span class=\"toc-item-num\">5&nbsp;&nbsp;</span>Creating datasets</a></span></li><li><span><a href=\"#parafit:-just-global-test\" data-toc-modified-id=\"parafit:-just-global-test-6\"><span class=\"toc-item-num\">6&nbsp;&nbsp;</span>parafit: just global test</a></span><ul class=\"toc-item\"><li><span><a href=\"#Saving-results\" data-toc-modified-id=\"Saving-results-6.1\"><span class=\"toc-item-num\">6.1&nbsp;&nbsp;</span>Saving results</a></span></li><li><span><a href=\"#Summarizing\" data-toc-modified-id=\"Summarizing-6.2\"><span class=\"toc-item-num\">6.2&nbsp;&nbsp;</span>Summarizing</a></span></li></ul></li><li><span><a href=\"#--TO-HERE--\" data-toc-modified-id=\"--TO-HERE---7\"><span class=\"toc-item-num\">7&nbsp;&nbsp;</span>--TO HERE--</a></span></li><li><span><a href=\"#parafit:-individual-links\" data-toc-modified-id=\"parafit:-individual-links-8\"><span class=\"toc-item-num\">8&nbsp;&nbsp;</span>parafit: individual links</a></span><ul class=\"toc-item\"><li><span><a href=\"#Saving-results\" data-toc-modified-id=\"Saving-results-8.1\"><span class=\"toc-item-num\">8.1&nbsp;&nbsp;</span>Saving results</a></span></li><li><span><a href=\"#Summarizing\" data-toc-modified-id=\"Summarizing-8.2\"><span class=\"toc-item-num\">8.2&nbsp;&nbsp;</span>Summarizing</a></span></li><li><span><a href=\"#Links-per-host\" data-toc-modified-id=\"Links-per-host-8.3\"><span class=\"toc-item-num\">8.3&nbsp;&nbsp;</span>Links per host</a></span></li></ul></li><li><span><a href=\"#sessionInfo\" data-toc-modified-id=\"sessionInfo-9\"><span class=\"toc-item-num\">9&nbsp;&nbsp;</span>sessionInfo</a></span></li><li><span><a href=\"#Sandbox\" data-toc-modified-id=\"Sandbox-10\"><span class=\"toc-item-num\">10&nbsp;&nbsp;</span>Sandbox</a></span><ul class=\"toc-item\"><li><ul class=\"toc-item\"><li><ul class=\"toc-item\"><li><span><a href=\"#notes\" data-toc-modified-id=\"notes-10.0.0.1\"><span class=\"toc-item-num\">10.0.0.1&nbsp;&nbsp;</span>notes</a></span></li></ul></li></ul></li></ul></li></ul></div>"
   ]
  },
  {
   "cell_type": "markdown",
   "metadata": {},
   "source": [
    "# Goal\n",
    "\n",
    "* Run `ape::parafit()` analysis on IndD dataset summed by host\n",
    "* Sensitivity analysis (species-level): selecting one sample per species"
   ]
  },
  {
   "cell_type": "code",
   "execution_count": 1,
   "metadata": {
    "ExecuteTime": {
     "end_time": "2018-09-03T13:38:24.663092Z",
     "start_time": "2018-09-03T13:38:24.175Z"
    }
   },
   "outputs": [],
   "source": [
    "work_dir = '/ebio/abt3_projects/Georg_animal_feces/data/host_specific/parafit/'\n",
    "\n",
    "# phyloseq\n",
    "physeq_file = '/ebio/abt3_projects/Georg_animal_feces/data/16S/LLA/phyloseq/physeq_r5k.RDS'\n",
    "\n",
    "# host phylogeny\n",
    "host_tree_file = '/ebio/abt3_projects/Georg_animal_feces/data/animal/phylogeny/TT/unified_metadata_complete_20180625_rn_16S-r5k_IndD.nwk'\n",
    "\n",
    "# misc\n",
    "sparsity_cutoff = 0.05\n",
    "threads = 12"
   ]
  },
  {
   "cell_type": "markdown",
   "metadata": {},
   "source": [
    "# Init"
   ]
  },
  {
   "cell_type": "code",
   "execution_count": 2,
   "metadata": {
    "ExecuteTime": {
     "end_time": "2018-09-03T13:38:39.148945Z",
     "start_time": "2018-09-03T13:38:24.407Z"
    }
   },
   "outputs": [
    {
     "name": "stderr",
     "output_type": "stream",
     "text": [
      "\n",
      "Attaching package: ‘dplyr’\n",
      "\n",
      "The following objects are masked from ‘package:stats’:\n",
      "\n",
      "    filter, lag\n",
      "\n",
      "The following objects are masked from ‘package:base’:\n",
      "\n",
      "    intersect, setdiff, setequal, union\n",
      "\n",
      "\n",
      "Attaching package: ‘future.apply’\n",
      "\n",
      "The following object is masked from ‘package:future’:\n",
      "\n",
      "    future_lapply\n",
      "\n"
     ]
    }
   ],
   "source": [
    "library(dplyr)\n",
    "library(tidyr)\n",
    "library(ggplot2)\n",
    "library(phyloseq)\n",
    "library(ape)\n",
    "\n",
    "library(future)\n",
    "library(future.batchtools)\n",
    "library(future.apply)\n",
    "\n",
    "source('/ebio/abt3_projects/Georg_animal_feces/code/init.R') \n",
    "source('/ebio/abt3_projects/Georg_animal_feces/code/itol.R') "
   ]
  },
  {
   "cell_type": "code",
   "execution_count": 3,
   "metadata": {
    "ExecuteTime": {
     "end_time": "2018-09-03T13:38:39.486238Z",
     "start_time": "2018-09-03T13:38:25.092Z"
    }
   },
   "outputs": [
    {
     "name": "stdout",
     "output_type": "stream",
     "text": [
      "Directory already exists: /ebio/abt3_projects/Georg_animal_feces/data/host_specific/parafit/ \n"
     ]
    }
   ],
   "source": [
    "make_dir(work_dir)\n",
    "setwd(work_dir)"
   ]
  },
  {
   "cell_type": "code",
   "execution_count": 4,
   "metadata": {
    "ExecuteTime": {
     "end_time": "2018-09-03T13:38:39.517432Z",
     "start_time": "2018-09-03T13:38:25.222Z"
    }
   },
   "outputs": [],
   "source": [
    "rescale_dist_mtx = function(m){\n",
    "    m = m %>% as.matrix\n",
    "    labs = m %>% colnames\n",
    "    n_row = m %>% nrow\n",
    "    n_col = m %>% ncol\n",
    "    x = m %>% as.vector \n",
    "    x = scales::rescale(x) \n",
    "    m = matrix(x, nrow=n_row, ncol=n_col)\n",
    "    colnames(m) = labs\n",
    "    rownames(m) = labs\n",
    "    m = m %>% as.dist\n",
    "    return(m)\n",
    "}"
   ]
  },
  {
   "cell_type": "markdown",
   "metadata": {},
   "source": [
    "# Load"
   ]
  },
  {
   "cell_type": "code",
   "execution_count": 5,
   "metadata": {
    "ExecuteTime": {
     "end_time": "2018-09-03T13:38:47.556027Z",
     "start_time": "2018-09-03T13:38:34.301Z"
    }
   },
   "outputs": [
    {
     "data": {
      "text/plain": [
       "phyloseq-class experiment-level object\n",
       "otu_table()   OTU Table:         [ 408 taxa and 160 samples ]\n",
       "sample_data() Sample Data:       [ 160 samples by 171 sample variables ]\n",
       "tax_table()   Taxonomy Table:    [ 408 taxa by 7 taxonomic ranks ]\n",
       "phy_tree()    Phylogenetic Tree: [ 408 tips and 406 internal nodes ]"
      ]
     },
     "metadata": {},
     "output_type": "display_data"
    }
   ],
   "source": [
    "physeq = readRDS(physeq_file) %>%\n",
    "    filter_taxa(function(x) sum(x > 0) / length(x) > sparsity_cutoff, TRUE) %>%\n",
    "    subset_samples(class == 'Mammalia')\n",
    "physeq"
   ]
  },
  {
   "cell_type": "code",
   "execution_count": 6,
   "metadata": {
    "ExecuteTime": {
     "end_time": "2018-09-03T13:38:47.851817Z",
     "start_time": "2018-09-03T13:38:35.652Z"
    }
   },
   "outputs": [
    {
     "name": "stderr",
     "output_type": "stream",
     "text": [
      "Warning message in class(x) <- c(subclass, \"tbl_df\", \"tbl\", \"data.frame\"):\n",
      "“Setting class(x) to multiple strings (\"tbl_df\", \"tbl\", ...); result will no longer be an S4 object”"
     ]
    },
    {
     "name": "stdout",
     "output_type": "stream",
     "text": [
      "[1] 160   2\n"
     ]
    },
    {
     "data": {
      "text/html": [
       "<table>\n",
       "<thead><tr><th></th><th scope=col>scientific_name</th><th scope=col>SampleID</th></tr></thead>\n",
       "<tbody>\n",
       "\t<tr><th scope=row>X1.Eurasian.Beaver</th><td>Castor_fiber      </td><td>X1.Eurasian.Beaver</td></tr>\n",
       "\t<tr><th scope=row>X101.Horse</th><td>Equus_caballus    </td><td>X101.Horse        </td></tr>\n",
       "\t<tr><th scope=row>X102.Kulan</th><td>Equus_hemionus    </td><td>X102.Kulan        </td></tr>\n",
       "</tbody>\n",
       "</table>\n"
      ],
      "text/latex": [
       "\\begin{tabular}{r|ll}\n",
       "  & scientific\\_name & SampleID\\\\\n",
       "\\hline\n",
       "\tX1.Eurasian.Beaver & Castor\\_fiber     & X1.Eurasian.Beaver\\\\\n",
       "\tX101.Horse & Equus\\_caballus   & X101.Horse        \\\\\n",
       "\tX102.Kulan & Equus\\_hemionus   & X102.Kulan        \\\\\n",
       "\\end{tabular}\n"
      ],
      "text/markdown": [
       "\n",
       "| <!--/--> | scientific_name | SampleID | \n",
       "|---|---|---|\n",
       "| X1.Eurasian.Beaver | Castor_fiber       | X1.Eurasian.Beaver | \n",
       "| X101.Horse | Equus_caballus     | X101.Horse         | \n",
       "| X102.Kulan | Equus_hemionus     | X102.Kulan         | \n",
       "\n",
       "\n"
      ],
      "text/plain": [
       "                   scientific_name SampleID          \n",
       "X1.Eurasian.Beaver Castor_fiber    X1.Eurasian.Beaver\n",
       "X101.Horse         Equus_caballus  X101.Horse        \n",
       "X102.Kulan         Equus_hemionus  X102.Kulan        "
      ]
     },
     "metadata": {},
     "output_type": "display_data"
    }
   ],
   "source": [
    "metadata = physeq %>%\n",
    "    sample_data %>%\n",
    "    dplyr::select(scientific_name) %>%\n",
    "    mutate(SampleID = rownames(.)) %>%\n",
    "    as.data.frame\n",
    "\n",
    "rownames(metadata) = metadata$SampleID\n",
    "metadata %>% dfhead"
   ]
  },
  {
   "cell_type": "code",
   "execution_count": 7,
   "metadata": {
    "ExecuteTime": {
     "end_time": "2018-09-03T13:38:47.900881Z",
     "start_time": "2018-09-03T13:38:35.764Z"
    }
   },
   "outputs": [
    {
     "data": {
      "text/plain": [
       "\n",
       "Phylogenetic tree with 213 tips and 177 internal nodes.\n",
       "\n",
       "Tip labels:\n",
       "\tX256.Zander, F302.Northern.Pike, X188.Brook.Trout, F300.Asp, X330.Ide, X327.Silver.Bream, ...\n",
       "Node labels:\n",
       "\tNode1, Node2, Node3, Node4, Node5, Node6, ...\n",
       "\n",
       "Rooted; includes branch lengths."
      ]
     },
     "metadata": {},
     "output_type": "display_data"
    }
   ],
   "source": [
    "host_tree = read.tree(host_tree_file)\n",
    "host_tree"
   ]
  },
  {
   "cell_type": "markdown",
   "metadata": {},
   "source": [
    "# Subsampling tree"
   ]
  },
  {
   "cell_type": "code",
   "execution_count": 8,
   "metadata": {
    "ExecuteTime": {
     "end_time": "2018-09-03T13:39:12.911043Z",
     "start_time": "2018-09-03T13:39:12.989Z"
    }
   },
   "outputs": [],
   "source": [
    "# number of subsampled trees\n",
    "ntrees = 100"
   ]
  },
  {
   "cell_type": "code",
   "execution_count": 9,
   "metadata": {
    "ExecuteTime": {
     "end_time": "2018-09-03T13:39:13.853360Z",
     "start_time": "2018-09-03T13:39:13.931Z"
    }
   },
   "outputs": [],
   "source": [
    "#' randomly selecting one per group\n",
    "tree_subsample = function(L, df, tree){\n",
    "    # get subsample (note: subsampling within each species)\n",
    "    to_keep = df %>% \n",
    "        group_by(scientific_name) %>% \n",
    "        sample_n(1) %>%\n",
    "        .$sample\n",
    "    # subsampling tree\n",
    "    to_rm = setdiff(tree$tip.label, to_keep)\n",
    "    tree = drop.tip(tree, to_rm)\n",
    "    return(tree)\n",
    "}"
   ]
  },
  {
   "cell_type": "code",
   "execution_count": 10,
   "metadata": {
    "ExecuteTime": {
     "end_time": "2018-09-03T13:39:15.190517Z",
     "start_time": "2018-09-03T13:39:14.538Z"
    }
   },
   "outputs": [
    {
     "name": "stdout",
     "output_type": "stream",
     "text": [
      "[1] 100\n"
     ]
    },
    {
     "data": {
      "text/plain": [
       "   Min. 1st Qu.  Median    Mean 3rd Qu.    Max. \n",
       "     82      82      82      82      82      82 "
      ]
     },
     "metadata": {},
     "output_type": "display_data"
    }
   ],
   "source": [
    "# subsampling trees\n",
    "df = metadata %>%\n",
    "    mutate(sample = rownames(.)) %>%\n",
    "    dplyr::select(sample, scientific_name) \n",
    "\n",
    "doParallel::registerDoParallel(threads)\n",
    "host_tree_l = plyr::llply(as.list(1:ntrees), \n",
    "                          function(x) tree_subsample(x, df, host_tree),\n",
    "                          .parallel=TRUE)\n",
    "\n",
    "# tree lengths\n",
    "host_tree_l %>% length %>% print\n",
    "lapply(host_tree_l, function(x) x$tip.label %>% length) %>% unlist %>% summary"
   ]
  },
  {
   "cell_type": "code",
   "execution_count": 11,
   "metadata": {
    "ExecuteTime": {
     "end_time": "2018-09-03T13:39:15.235318Z",
     "start_time": "2018-09-03T13:39:15.207Z"
    }
   },
   "outputs": [
    {
     "name": "stdout",
     "output_type": "stream",
     "text": [
      "[1] 0\n"
     ]
    }
   ],
   "source": [
    "# checking overlap of labels\n",
    "setdiff(host_tree_l[[1]]$tip.label, rownames(metadata)) %>% length %>% print"
   ]
  },
  {
   "cell_type": "markdown",
   "metadata": {},
   "source": [
    "# Creating datasets"
   ]
  },
  {
   "cell_type": "code",
   "execution_count": 12,
   "metadata": {
    "ExecuteTime": {
     "end_time": "2018-09-03T13:39:19.910812Z",
     "start_time": "2018-09-03T13:39:19.987Z"
    }
   },
   "outputs": [],
   "source": [
    "make_parafit_input = function(host_tree, physeq){\n",
    "    # subsampled phyloseq object\n",
    "    physeq_f = prune_samples(sample_names(physeq) %in% host_tree$tip.label, \n",
    "                             physeq) \n",
    "\n",
    "    # microbial tree distance matrix\n",
    "    micro_D = physeq_f %>%\n",
    "        phy_tree %>% cophenetic %>% \n",
    "        rescale_dist_mtx %>% as.matrix\n",
    "    # host tree distance matrix\n",
    "    host_D = host_tree %>% cophenetic %>% \n",
    "             rescale_dist_mtx %>% as.matrix\n",
    "    \n",
    "    # otu pres/abs matrix\n",
    "    otu = physeq_f %>% \n",
    "        otu_table %>%\n",
    "        as.data.frame %>%\n",
    "        as.matrix %>%\n",
    "        t %>%\n",
    "        apply(2, function(x) ifelse(x > 0, 1, 0)) %>% \n",
    "        as.matrix                \n",
    "              \n",
    "              \n",
    "    # checking overlap\n",
    "    x = length(intersect(rownames(otu), rownames(host_D)))\n",
    "    y = length(union(rownames(otu), rownames(host_D)))\n",
    "    stopifnot(x == y)\n",
    "              \n",
    "    # preparing paco data\n",
    "    return(list(host.D=host_D, para.D = micro_D, HP=otu))\n",
    "}"
   ]
  },
  {
   "cell_type": "code",
   "execution_count": 13,
   "metadata": {
    "ExecuteTime": {
     "end_time": "2018-09-03T13:39:27.115183Z",
     "start_time": "2018-09-03T13:39:20.128Z"
    }
   },
   "outputs": [
    {
     "data": {
      "text/html": [
       "100"
      ],
      "text/latex": [
       "100"
      ],
      "text/markdown": [
       "100"
      ],
      "text/plain": [
       "[1] 100"
      ]
     },
     "metadata": {},
     "output_type": "display_data"
    }
   ],
   "source": [
    "# creating list of parafit input objects\n",
    "doParallel::registerDoParallel(threads)\n",
    "PF_l = plyr::llply(host_tree_l, make_parafit_input, physeq=physeq, .parallel=TRUE)\n",
    "PF_l %>% length"
   ]
  },
  {
   "cell_type": "markdown",
   "metadata": {},
   "source": [
    "# parafit: just global test"
   ]
  },
  {
   "cell_type": "code",
   "execution_count": 14,
   "metadata": {
    "ExecuteTime": {
     "end_time": "2018-09-03T13:39:27.182838Z",
     "start_time": "2018-09-03T13:39:22.740Z"
    }
   },
   "outputs": [],
   "source": [
    "# cluster resources\n",
    "resources = list(h_rt = '00:59:00',\n",
    "                 h_vmem = '10G',\n",
    "                 threads = '1',\n",
    "                 conda.env = 'py3_physeq_eco', \n",
    "                 conda.path = \"/ebio/abt3_projects/software/miniconda3_gt4.4/bin\")\n",
    "plan(batchtools_sge, resources=resources)"
   ]
  },
  {
   "cell_type": "code",
   "execution_count": 15,
   "metadata": {
    "ExecuteTime": {
     "end_time": "2018-09-03T13:49:48.043292Z",
     "start_time": "2018-09-03T13:39:25.547Z"
    },
    "scrolled": true
   },
   "outputs": [
    {
     "name": "stderr",
     "output_type": "stream",
     "text": [
      "Warning message in is.na(x):\n",
      "“is.na() applied to non-(list or vector) of type 'NULL'”Warning message in is.na(x):\n",
      "“is.na() applied to non-(list or vector) of type 'NULL'”Warning message in is.na(x):\n",
      "“is.na() applied to non-(list or vector) of type 'NULL'”Warning message in is.na(x):\n",
      "“is.na() applied to non-(list or vector) of type 'NULL'”Warning message in is.na(x):\n",
      "“is.na() applied to non-(list or vector) of type 'NULL'”Warning message in is.na(x):\n",
      "“is.na() applied to non-(list or vector) of type 'NULL'”Warning message in is.na(x):\n",
      "“is.na() applied to non-(list or vector) of type 'NULL'”Warning message in is.na(x):\n",
      "“is.na() applied to non-(list or vector) of type 'NULL'”Warning message in is.na(x):\n",
      "“is.na() applied to non-(list or vector) of type 'NULL'”Warning message in is.na(x):\n",
      "“is.na() applied to non-(list or vector) of type 'NULL'”Warning message in is.na(x):\n",
      "“is.na() applied to non-(list or vector) of type 'NULL'”Warning message in is.na(x):\n",
      "“is.na() applied to non-(list or vector) of type 'NULL'”Warning message in is.na(x):\n",
      "“is.na() applied to non-(list or vector) of type 'NULL'”Warning message in is.na(x):\n",
      "“is.na() applied to non-(list or vector) of type 'NULL'”Warning message in is.na(x):\n",
      "“is.na() applied to non-(list or vector) of type 'NULL'”Warning message in is.na(x):\n",
      "“is.na() applied to non-(list or vector) of type 'NULL'”Warning message in is.na(x):\n",
      "“is.na() applied to non-(list or vector) of type 'NULL'”Warning message in is.na(x):\n",
      "“is.na() applied to non-(list or vector) of type 'NULL'”Warning message in is.na(x):\n",
      "“is.na() applied to non-(list or vector) of type 'NULL'”Warning message in is.na(x):\n",
      "“is.na() applied to non-(list or vector) of type 'NULL'”Warning message in is.na(x):\n",
      "“is.na() applied to non-(list or vector) of type 'NULL'”Warning message in is.na(x):\n",
      "“is.na() applied to non-(list or vector) of type 'NULL'”Warning message in is.na(x):\n",
      "“is.na() applied to non-(list or vector) of type 'NULL'”Warning message in is.na(x):\n",
      "“is.na() applied to non-(list or vector) of type 'NULL'”Warning message in is.na(x):\n",
      "“is.na() applied to non-(list or vector) of type 'NULL'”Warning message in is.na(x):\n",
      "“is.na() applied to non-(list or vector) of type 'NULL'”Warning message in is.na(x):\n",
      "“is.na() applied to non-(list or vector) of type 'NULL'”Warning message in is.na(x):\n",
      "“is.na() applied to non-(list or vector) of type 'NULL'”Warning message in is.na(x):\n",
      "“is.na() applied to non-(list or vector) of type 'NULL'”Warning message in is.na(x):\n",
      "“is.na() applied to non-(list or vector) of type 'NULL'”Warning message in is.na(x):\n",
      "“is.na() applied to non-(list or vector) of type 'NULL'”Warning message in is.na(x):\n",
      "“is.na() applied to non-(list or vector) of type 'NULL'”Warning message in is.na(x):\n",
      "“is.na() applied to non-(list or vector) of type 'NULL'”Warning message in is.na(x):\n",
      "“is.na() applied to non-(list or vector) of type 'NULL'”Warning message in is.na(x):\n",
      "“is.na() applied to non-(list or vector) of type 'NULL'”Warning message in is.na(x):\n",
      "“is.na() applied to non-(list or vector) of type 'NULL'”Warning message in is.na(x):\n",
      "“is.na() applied to non-(list or vector) of type 'NULL'”Warning message in is.na(x):\n",
      "“is.na() applied to non-(list or vector) of type 'NULL'”Warning message in is.na(x):\n",
      "“is.na() applied to non-(list or vector) of type 'NULL'”Warning message in is.na(x):\n",
      "“is.na() applied to non-(list or vector) of type 'NULL'”Warning message in is.na(x):\n",
      "“is.na() applied to non-(list or vector) of type 'NULL'”Warning message in is.na(x):\n",
      "“is.na() applied to non-(list or vector) of type 'NULL'”Warning message in is.na(x):\n",
      "“is.na() applied to non-(list or vector) of type 'NULL'”Warning message in is.na(x):\n",
      "“is.na() applied to non-(list or vector) of type 'NULL'”Warning message in is.na(x):\n",
      "“is.na() applied to non-(list or vector) of type 'NULL'”Warning message in is.na(x):\n",
      "“is.na() applied to non-(list or vector) of type 'NULL'”Warning message in is.na(x):\n",
      "“is.na() applied to non-(list or vector) of type 'NULL'”Warning message in is.na(x):\n",
      "“is.na() applied to non-(list or vector) of type 'NULL'”Warning message in is.na(x):\n",
      "“is.na() applied to non-(list or vector) of type 'NULL'”Warning message in is.na(x):\n",
      "“is.na() applied to non-(list or vector) of type 'NULL'”Warning message in is.na(x):\n",
      "“is.na() applied to non-(list or vector) of type 'NULL'”Warning message in is.na(x):\n",
      "“is.na() applied to non-(list or vector) of type 'NULL'”Warning message in is.na(x):\n",
      "“is.na() applied to non-(list or vector) of type 'NULL'”Warning message in is.na(x):\n",
      "“is.na() applied to non-(list or vector) of type 'NULL'”Warning message in is.na(x):\n",
      "“is.na() applied to non-(list or vector) of type 'NULL'”Warning message in is.na(x):\n",
      "“is.na() applied to non-(list or vector) of type 'NULL'”Warning message in is.na(x):\n",
      "“is.na() applied to non-(list or vector) of type 'NULL'”Warning message in is.na(x):\n",
      "“is.na() applied to non-(list or vector) of type 'NULL'”Warning message in is.na(x):\n",
      "“is.na() applied to non-(list or vector) of type 'NULL'”Warning message in is.na(x):\n",
      "“is.na() applied to non-(list or vector) of type 'NULL'”Warning message in is.na(x):\n",
      "“is.na() applied to non-(list or vector) of type 'NULL'”Warning message in is.na(x):\n",
      "“is.na() applied to non-(list or vector) of type 'NULL'”Warning message in is.na(x):\n",
      "“is.na() applied to non-(list or vector) of type 'NULL'”Warning message in is.na(x):\n",
      "“is.na() applied to non-(list or vector) of type 'NULL'”Warning message in is.na(x):\n",
      "“is.na() applied to non-(list or vector) of type 'NULL'”Warning message in is.na(x):\n",
      "“is.na() applied to non-(list or vector) of type 'NULL'”Warning message in is.na(x):\n",
      "“is.na() applied to non-(list or vector) of type 'NULL'”Warning message in is.na(x):\n",
      "“is.na() applied to non-(list or vector) of type 'NULL'”Warning message in is.na(x):\n",
      "“is.na() applied to non-(list or vector) of type 'NULL'”Warning message in is.na(x):\n",
      "“is.na() applied to non-(list or vector) of type 'NULL'”Warning message in is.na(x):\n",
      "“is.na() applied to non-(list or vector) of type 'NULL'”Warning message in is.na(x):\n",
      "“is.na() applied to non-(list or vector) of type 'NULL'”Warning message in is.na(x):\n",
      "“is.na() applied to non-(list or vector) of type 'NULL'”Warning message in is.na(x):\n",
      "“is.na() applied to non-(list or vector) of type 'NULL'”Warning message in is.na(x):\n",
      "“is.na() applied to non-(list or vector) of type 'NULL'”Warning message in is.na(x):\n",
      "“is.na() applied to non-(list or vector) of type 'NULL'”Warning message in is.na(x):\n",
      "“is.na() applied to non-(list or vector) of type 'NULL'”Warning message in is.na(x):\n",
      "“is.na() applied to non-(list or vector) of type 'NULL'”Warning message in is.na(x):\n",
      "“is.na() applied to non-(list or vector) of type 'NULL'”Warning message in is.na(x):\n",
      "“is.na() applied to non-(list or vector) of type 'NULL'”Warning message in is.na(x):\n",
      "“is.na() applied to non-(list or vector) of type 'NULL'”Warning message in is.na(x):\n",
      "“is.na() applied to non-(list or vector) of type 'NULL'”Warning message in is.na(x):\n",
      "“is.na() applied to non-(list or vector) of type 'NULL'”Warning message in is.na(x):\n",
      "“is.na() applied to non-(list or vector) of type 'NULL'”Warning message in is.na(x):\n",
      "“is.na() applied to non-(list or vector) of type 'NULL'”Warning message in is.na(x):\n",
      "“is.na() applied to non-(list or vector) of type 'NULL'”Warning message in is.na(x):\n",
      "“is.na() applied to non-(list or vector) of type 'NULL'”Warning message in is.na(x):\n",
      "“is.na() applied to non-(list or vector) of type 'NULL'”Warning message in is.na(x):\n",
      "“is.na() applied to non-(list or vector) of type 'NULL'”Warning message in is.na(x):\n",
      "“is.na() applied to non-(list or vector) of type 'NULL'”Warning message in is.na(x):\n",
      "“is.na() applied to non-(list or vector) of type 'NULL'”Warning message in is.na(x):\n",
      "“is.na() applied to non-(list or vector) of type 'NULL'”Warning message in is.na(x):\n",
      "“is.na() applied to non-(list or vector) of type 'NULL'”Warning message in is.na(x):\n",
      "“is.na() applied to non-(list or vector) of type 'NULL'”Warning message in is.na(x):\n",
      "“is.na() applied to non-(list or vector) of type 'NULL'”Warning message in is.na(x):\n",
      "“is.na() applied to non-(list or vector) of type 'NULL'”Warning message in is.na(x):\n"
     ]
    },
    {
     "name": "stderr",
     "output_type": "stream",
     "text": [
      "“is.na() applied to non-(list or vector) of type 'NULL'”Warning message in is.na(x):\n",
      "“is.na() applied to non-(list or vector) of type 'NULL'”Warning message in is.na(x):\n",
      "“is.na() applied to non-(list or vector) of type 'NULL'”Warning message in is.na(x):\n",
      "“is.na() applied to non-(list or vector) of type 'NULL'”"
     ]
    }
   ],
   "source": [
    "# Running parafit on each subsample\n",
    "## WARNING: SLOW!\n",
    "parafit_each = function(L, nperm=99, seed=3843, correction=\"cailliez\", test.links=TRUE){\n",
    "    parafit(L$host.D, L$para.D, L$HP, \n",
    "            nperm=nperm, \n",
    "            seed=seed,\n",
    "            correction=correction,\n",
    "            test.links=test.links)\n",
    "}\n",
    "\n",
    "PF_res_l = future_lapply(PF_l, parafit_each, \n",
    "                         nperm=999, \n",
    "                         test.links=FALSE,\n",
    "                         future.packages=c('ape'))"
   ]
  },
  {
   "cell_type": "code",
   "execution_count": 16,
   "metadata": {
    "ExecuteTime": {
     "end_time": "2018-09-03T13:49:48.081710Z",
     "start_time": "2018-09-03T13:39:25.978Z"
    }
   },
   "outputs": [
    {
     "data": {
      "text/html": [
       "100"
      ],
      "text/latex": [
       "100"
      ],
      "text/markdown": [
       "100"
      ],
      "text/plain": [
       "[1] 100"
      ]
     },
     "metadata": {},
     "output_type": "display_data"
    }
   ],
   "source": [
    "# results\n",
    "PF_res_l %>% length"
   ]
  },
  {
   "cell_type": "markdown",
   "metadata": {},
   "source": [
    "## Saving results"
   ]
  },
  {
   "cell_type": "code",
   "execution_count": 17,
   "metadata": {
    "ExecuteTime": {
     "end_time": "2018-09-03T13:49:48.128102Z",
     "start_time": "2018-09-03T13:39:33.538Z"
    }
   },
   "outputs": [
    {
     "data": {
      "text/html": [
       "'/ebio/abt3_projects/Georg_animal_feces/data/host_specific/parafit//physeq_IndD-sens-justMam_parafit.RDS'"
      ],
      "text/latex": [
       "'/ebio/abt3\\_projects/Georg\\_animal\\_feces/data/host\\_specific/parafit//physeq\\_IndD-sens-justMam\\_parafit.RDS'"
      ],
      "text/markdown": [
       "'/ebio/abt3_projects/Georg_animal_feces/data/host_specific/parafit//physeq_IndD-sens-justMam_parafit.RDS'"
      ],
      "text/plain": [
       "[1] \"/ebio/abt3_projects/Georg_animal_feces/data/host_specific/parafit//physeq_IndD-sens-justMam_parafit.RDS\""
      ]
     },
     "metadata": {},
     "output_type": "display_data"
    }
   ],
   "source": [
    "# for loading results instead of re-running\n",
    "PF_file = file.path(work_dir, 'physeq_IndD-sens-justMam_parafit.RDS')\n",
    "PF_file"
   ]
  },
  {
   "cell_type": "code",
   "execution_count": 19,
   "metadata": {
    "ExecuteTime": {
     "end_time": "2018-09-03T13:50:51.563004Z",
     "start_time": "2018-09-03T13:50:51.471Z"
    }
   },
   "outputs": [
    {
     "name": "stdout",
     "output_type": "stream",
     "text": [
      "File written: /ebio/abt3_projects/Georg_animal_feces/data/host_specific/parafit//physeq_IndD-sens-justMam_parafit.RDS \n"
     ]
    }
   ],
   "source": [
    "# saving\n",
    "saveRDS(PF_res_l, file=PF_file)\n",
    "cat('File written:', PF_file, '\\n')"
   ]
  },
  {
   "cell_type": "code",
   "execution_count": 20,
   "metadata": {
    "ExecuteTime": {
     "end_time": "2018-09-03T13:50:52.591516Z",
     "start_time": "2018-09-03T13:50:52.585Z"
    }
   },
   "outputs": [
    {
     "data": {
      "text/html": [
       "100"
      ],
      "text/latex": [
       "100"
      ],
      "text/markdown": [
       "100"
      ],
      "text/plain": [
       "[1] 100"
      ]
     },
     "metadata": {},
     "output_type": "display_data"
    }
   ],
   "source": [
    "# re-loading\n",
    "PF_res_l = readRDS(PF_file)\n",
    "PF_res_l %>% length"
   ]
  },
  {
   "cell_type": "code",
   "execution_count": null,
   "metadata": {
    "ExecuteTime": {
     "end_time": "2018-09-03T13:49:48.182905Z",
     "start_time": "2018-09-03T13:39:44.721Z"
    }
   },
   "outputs": [],
   "source": [
    "send_email('http://127.0.0.1:9705/notebooks/notebooks/16S/4_host_specific/parafit/01b_IndD-sens-justMammalia.ipynb')"
   ]
  },
  {
   "cell_type": "markdown",
   "metadata": {},
   "source": [
    "## Summarizing"
   ]
  },
  {
   "cell_type": "code",
   "execution_count": 23,
   "metadata": {
    "ExecuteTime": {
     "end_time": "2018-09-03T13:55:52.930742Z",
     "start_time": "2018-09-03T13:55:52.994Z"
    }
   },
   "outputs": [
    {
     "name": "stdout",
     "output_type": "stream",
     "text": [
      "   Min. 1st Qu.  Median    Mean 3rd Qu.    Max. \n",
      "  305.7   403.9   452.7   444.2   491.5   553.2 \n"
     ]
    }
   ],
   "source": [
    "# distribution of effect size\n",
    "lapply(PF_res_l, function(x) x$ParaFitGlobal) %>% unlist %>% summary %>% print"
   ]
  },
  {
   "cell_type": "code",
   "execution_count": 24,
   "metadata": {
    "ExecuteTime": {
     "end_time": "2018-09-03T13:55:54.488650Z",
     "start_time": "2018-09-03T13:55:54.558Z"
    }
   },
   "outputs": [
    {
     "name": "stdout",
     "output_type": "stream",
     "text": [
      "   Min. 1st Qu.  Median    Mean 3rd Qu.    Max. \n",
      "  0.001   0.001   0.001   0.001   0.001   0.001 \n"
     ]
    }
   ],
   "source": [
    "# distribution of p-values\n",
    "lapply(PF_res_l, function(x) x$p.global) %>% unlist %>% summary %>% print"
   ]
  },
  {
   "cell_type": "markdown",
   "metadata": {},
   "source": [
    "# --TO HERE--"
   ]
  },
  {
   "cell_type": "markdown",
   "metadata": {},
   "source": [
    "# parafit: individual links"
   ]
  },
  {
   "cell_type": "code",
   "execution_count": null,
   "metadata": {
    "ExecuteTime": {
     "end_time": "2018-08-24T14:02:19.792924Z",
     "start_time": "2018-08-24T14:04:05.610Z"
    }
   },
   "outputs": [],
   "source": [
    "# cluster resources\n",
    "resources = list(h_rt = '200:00:00',\n",
    "                 h_vmem = '10G',\n",
    "                 threads = '1',\n",
    "                 conda.env = 'py3_physeq_eco', \n",
    "                 conda.path = \"/ebio/abt3_projects/software/miniconda3_gt4.4/bin\")\n",
    "plan(batchtools_sge, resources=resources)"
   ]
  },
  {
   "cell_type": "code",
   "execution_count": null,
   "metadata": {
    "ExecuteTime": {
     "start_time": "2018-08-24T14:04:06.074Z"
    },
    "scrolled": true
   },
   "outputs": [],
   "source": [
    "# Running parafit on each subsample\n",
    "## WARNING: SLOW!\n",
    "parafit_each = function(L, nperm=99, seed=3843, correction=\"cailliez\", test.links=TRUE){\n",
    "    parafit(L$host.D, L$para.D, L$HP, \n",
    "            nperm=nperm, \n",
    "            seed=seed,\n",
    "            correction=correction,\n",
    "            test.links=test.links)\n",
    "}\n",
    "\n",
    "PF_res_links_l = future_lapply(PF_l, parafit_each, \n",
    "                         nperm=999, \n",
    "                         test.links=TRUE,\n",
    "                         future.packages=c('ape'))"
   ]
  },
  {
   "cell_type": "code",
   "execution_count": null,
   "metadata": {
    "ExecuteTime": {
     "start_time": "2018-08-24T14:04:08.265Z"
    }
   },
   "outputs": [],
   "source": [
    "# results\n",
    "PF_res_links_l %>% length"
   ]
  },
  {
   "cell_type": "markdown",
   "metadata": {},
   "source": [
    "## Saving results"
   ]
  },
  {
   "cell_type": "code",
   "execution_count": null,
   "metadata": {
    "ExecuteTime": {
     "end_time": "2018-09-03T12:36:39.280877Z",
     "start_time": "2018-09-03T12:36:25.558Z"
    }
   },
   "outputs": [],
   "source": [
    "# for loading results instead of re-running\n",
    "PF_file = file.path(work_dir, 'physeq_IndD-sens_parafit-links.RDS')\n",
    "PF_file"
   ]
  },
  {
   "cell_type": "code",
   "execution_count": null,
   "metadata": {
    "ExecuteTime": {
     "end_time": "2018-08-24T10:40:05.346147Z",
     "start_time": "2018-08-24T10:41:50.512Z"
    }
   },
   "outputs": [],
   "source": [
    "# saving\n",
    "saveRDS(PF_res_links_l, file=PF_file)\n",
    "cat('File written:', PF_file, '\\n')"
   ]
  },
  {
   "cell_type": "code",
   "execution_count": null,
   "metadata": {
    "ExecuteTime": {
     "end_time": "2018-09-03T12:36:39.421617Z",
     "start_time": "2018-09-03T12:36:26.944Z"
    }
   },
   "outputs": [],
   "source": [
    "# re-loading\n",
    "PF_res_links_l = readRDS(PF_file)\n",
    "PF_res_links_l %>% length"
   ]
  },
  {
   "cell_type": "code",
   "execution_count": null,
   "metadata": {
    "ExecuteTime": {
     "end_time": "2018-08-24T10:39:49.968074Z",
     "start_time": "2018-08-21T07:14:53.116Z"
    }
   },
   "outputs": [],
   "source": [
    "send_email('http://127.0.0.1:9705/notebooks/notebooks/16S/4_host_specific/parafit/01_IndD-sens.ipynb')"
   ]
  },
  {
   "cell_type": "markdown",
   "metadata": {},
   "source": [
    "## Summarizing"
   ]
  },
  {
   "cell_type": "code",
   "execution_count": null,
   "metadata": {
    "ExecuteTime": {
     "end_time": "2018-09-03T12:36:39.462058Z",
     "start_time": "2018-09-03T12:36:28.285Z"
    }
   },
   "outputs": [],
   "source": [
    "# distribution of effect size\n",
    "lapply(PF_res_links_l, function(x) x$ParaFitGlobal) %>% unlist %>% summary"
   ]
  },
  {
   "cell_type": "code",
   "execution_count": null,
   "metadata": {
    "ExecuteTime": {
     "end_time": "2018-09-03T12:36:40.135690Z",
     "start_time": "2018-09-03T12:36:28.422Z"
    }
   },
   "outputs": [],
   "source": [
    "# distribution of p-values\n",
    "lapply(PF_res_links_l, function(x) x$p.global) %>% unlist %>% summary"
   ]
  },
  {
   "cell_type": "markdown",
   "metadata": {},
   "source": [
    "## Links per host\n",
    "\n",
    "* distribution of links per host"
   ]
  },
  {
   "cell_type": "code",
   "execution_count": null,
   "metadata": {
    "ExecuteTime": {
     "end_time": "2018-09-03T13:00:37.598736Z",
     "start_time": "2018-09-03T13:00:37.623Z"
    }
   },
   "outputs": [],
   "source": [
    "# format\n",
    "para_per_host = lapply(PF_res_links_l, function(x) x$para.per.host) %>%\n",
    "    do.call(rbind, .) %>%\n",
    "    as.data.frame %>%\n",
    "    mutate(Dataset_rep = 1:nrow(.)) %>%\n",
    "    gather(Sample, N_links, -Dataset_rep) \n",
    "               \n",
    "para_per_host %>% dfhead"
   ]
  },
  {
   "cell_type": "code",
   "execution_count": null,
   "metadata": {
    "ExecuteTime": {
     "end_time": "2018-09-03T13:00:37.787818Z",
     "start_time": "2018-09-03T13:00:37.741Z"
    }
   },
   "outputs": [],
   "source": [
    "# adding metadata\n",
    "para_per_host = physeq %>%\n",
    "    sample_data %>%\n",
    "    as.matrix %>%\n",
    "    as.data.frame %>%\n",
    "    dplyr::select(X.SampleID, class, order, family, genus, scientific_name) %>%\n",
    "    inner_join(para_per_host, c('X.SampleID'='Sample')) \n",
    "\n",
    "para_per_host %>% dfhead"
   ]
  },
  {
   "cell_type": "code",
   "execution_count": null,
   "metadata": {
    "ExecuteTime": {
     "end_time": "2018-09-03T13:00:37.829929Z",
     "start_time": "2018-09-03T13:00:37.860Z"
    }
   },
   "outputs": [],
   "source": [
    "# summarizing by species: check\n",
    "para_per_host %>%\n",
    "    group_by(scientific_name) %>%\n",
    "    summarize(n=n()) %>%\n",
    "    ungroup() %>%\n",
    "    .$n %>% summary %>% print"
   ]
  },
  {
   "cell_type": "code",
   "execution_count": null,
   "metadata": {
    "ExecuteTime": {
     "end_time": "2018-09-03T13:00:38.171503Z",
     "start_time": "2018-09-03T13:00:37.977Z"
    }
   },
   "outputs": [],
   "source": [
    "# summarizing by species\n",
    "alpha=0.95\n",
    "\n",
    "para_per_host = para_per_host %>%\n",
    "    group_by(scientific_name, class, order, family, genus) %>%\n",
    "    summarize(min_n_links = min(N_links),\n",
    "              q1_n_links = quantile(N_links, 0.25),\n",
    "              mean_n_links = mean(N_links),\n",
    "              median_n_links = median(N_links),\n",
    "              q3_n_links = quantile(N_links, 0.75),\n",
    "              max_n_links = max(N_links),\n",
    "              sd_n_links = sd(N_links),\n",
    "              CI_low = quantile(N_links, (1-alpha)/2),\n",
    "              CI_high = quantile(N_links, alpha+((1-alpha)/2))) %>%\n",
    "    ungroup() %>%\n",
    "    mutate(scientific_name = scientific_name %>% reorder(-median_n_links))\n",
    "\n",
    "para_per_host$CI_low %>% summary %>% print\n",
    "para_per_host %>% dfhead"
   ]
  },
  {
   "cell_type": "code",
   "execution_count": null,
   "metadata": {
    "ExecuteTime": {
     "end_time": "2018-09-03T13:00:39.859539Z",
     "start_time": "2018-09-03T13:00:38.909Z"
    }
   },
   "outputs": [],
   "source": [
    "# plotting distribution\n",
    "p = ggplot(para_per_host, aes(scientific_name, median_n_links, color=class)) +\n",
    "    geom_linerange(aes(ymin=median_n_links-sd_n_links,\n",
    "                       ymax=median_n_links+sd_n_links)) +\n",
    "    geom_point() +\n",
    "    theme_bw() +\n",
    "    theme(\n",
    "        axis.text.x = element_blank()\n",
    "    )\n",
    "\n",
    "options(repr.plot.width=10, repr.plot.height=4)\n",
    "plot(p)"
   ]
  },
  {
   "cell_type": "code",
   "execution_count": null,
   "metadata": {
    "ExecuteTime": {
     "end_time": "2018-09-03T13:32:07.072889Z",
     "start_time": "2018-09-03T13:32:06.066Z"
    }
   },
   "outputs": [],
   "source": [
    "# plotting distribution\n",
    "p = para_per_host %>%\n",
    "    ggplot(aes(class, mean_n_links)) +\n",
    "    geom_boxplot() +\n",
    "    scale_y_log10() +\n",
    "    labs(x='Host class', y='No. of host-symbiont links') +\n",
    "    theme_bw() +\n",
    "    theme(\n",
    "        axis.text.x = element_text(angle=45, hjust=1)\n",
    "    )\n",
    "\n",
    "options(repr.plot.width=4, repr.plot.height=3)\n",
    "plot_write(p, file='IndD-sens_parafit_nLinks-byClass.pdf')"
   ]
  },
  {
   "cell_type": "code",
   "execution_count": null,
   "metadata": {
    "ExecuteTime": {
     "end_time": "2018-09-03T13:32:25.268272Z",
     "start_time": "2018-09-03T13:32:25.349Z"
    }
   },
   "outputs": [],
   "source": [
    "# # plotting distribution\n",
    "# p = para_per_host %>%\n",
    "#     filter(CI_low > 0,\n",
    "#            class == 'Mammalia') %>%\n",
    "#     mutate(scientific_name = scientific_name %>% reorder(median_n_links)) %>%\n",
    "#     ggplot(aes(scientific_name, median_n_links, color=class)) +\n",
    "#     geom_linerange(aes(ymin=median_n_links-sd_n_links,\n",
    "#                        ymax=median_n_links+sd_n_links)) +\n",
    "#     geom_point() +\n",
    "#     labs(y='No. of links (95% CI)', x='Host') +\n",
    "#     coord_flip() +\n",
    "#     theme_bw() +\n",
    "#     theme(\n",
    "#         axis.text.y = element_text(size=8)\n",
    "#     )\n",
    "\n",
    "# options(repr.plot.width=6, repr.plot.height=7)\n",
    "# plot(p)"
   ]
  },
  {
   "cell_type": "code",
   "execution_count": null,
   "metadata": {
    "ExecuteTime": {
     "end_time": "2018-09-03T13:32:29.821962Z",
     "start_time": "2018-09-03T13:32:29.898Z"
    }
   },
   "outputs": [],
   "source": [
    "# # plotting distribution\n",
    "# p = para_per_host %>%\n",
    "#     filter(CI_low > 0) %>%\n",
    "#     mutate(scientific_name = scientific_name %>% reorder(CI_high)) %>%\n",
    "#     ggplot(aes(scientific_name, median_n_links, color=class)) +\n",
    "#     geom_linerange(aes(ymin=CI_low,\n",
    "#                        ymax=CI_high)) +\n",
    "#     geom_point(aes(y=CI_low), size=0.5) +\n",
    "#     geom_point(aes(y=CI_high), size=0.5) +\n",
    "#     labs(y='No. of links (95% CI)', x='Host') +\n",
    "#     coord_flip() +\n",
    "#     theme_bw() +\n",
    "#     theme(\n",
    "#         axis.text.y = element_text(size=8)\n",
    "#     )\n",
    "\n",
    "# options(repr.plot.width=6, repr.plot.height=11)\n",
    "# plot(p)"
   ]
  },
  {
   "cell_type": "code",
   "execution_count": null,
   "metadata": {
    "ExecuteTime": {
     "end_time": "2018-09-03T13:32:32.607426Z",
     "start_time": "2018-09-03T13:32:32.677Z"
    }
   },
   "outputs": [],
   "source": [
    "# # plotting distribution\n",
    "# p = para_per_host %>%\n",
    "#     filter(CI_low > 0, \n",
    "#            class == 'Mammalia',\n",
    "#            !is.na(CI_low)) %>%\n",
    "#     mutate(scientific_name = scientific_name %>% reorder(CI_high)) %>%\n",
    "#     ggplot(aes(scientific_name, median_n_links, color=order)) +\n",
    "#     geom_linerange(aes(ymin=CI_low,\n",
    "#                        ymax=CI_high)) +\n",
    "#     geom_point(aes(y=CI_low), size=0.5) +\n",
    "#     geom_point(aes(y=CI_high), size=0.5) +\n",
    "#     labs(y='No. of links (95% CI)', x='Host') +\n",
    "#     coord_flip() +\n",
    "#     theme_bw() +\n",
    "#     theme(\n",
    "#         axis.text.y = element_text(size=8)\n",
    "#     )\n",
    "\n",
    "# options(repr.plot.width=6, repr.plot.height=8)\n",
    "# plot(p)"
   ]
  },
  {
   "cell_type": "markdown",
   "metadata": {},
   "source": [
    "# sessionInfo"
   ]
  },
  {
   "cell_type": "code",
   "execution_count": null,
   "metadata": {
    "ExecuteTime": {
     "end_time": "2018-08-21T06:41:52.939379Z",
     "start_time": "2018-08-20T11:59:28.925Z"
    }
   },
   "outputs": [],
   "source": [
    "sessionInfo()"
   ]
  },
  {
   "cell_type": "markdown",
   "metadata": {},
   "source": [
    "***"
   ]
  },
  {
   "cell_type": "markdown",
   "metadata": {},
   "source": [
    "# Sandbox"
   ]
  },
  {
   "cell_type": "code",
   "execution_count": null,
   "metadata": {
    "ExecuteTime": {
     "end_time": "2018-08-21T06:41:52.924583Z",
     "start_time": "2018-08-20T11:57:11.532Z"
    }
   },
   "outputs": [],
   "source": [
    "parafit_res = ape::parafit(parafit_l[[1]]$host.D,\n",
    "             parafit_l[[1]]$para.D,\n",
    "             parafit_l[[1]]$HP,\n",
    "             nperm=99,\n",
    "             correction=\"cailliez\",\n",
    "             test.links=TRUE)\n",
    "\n",
    "parafit_res %>% length"
   ]
  },
  {
   "cell_type": "code",
   "execution_count": null,
   "metadata": {
    "ExecuteTime": {
     "end_time": "2018-08-21T06:41:52.928459Z",
     "start_time": "2018-08-20T11:57:16.676Z"
    }
   },
   "outputs": [],
   "source": [
    "parafit_res %>% summary"
   ]
  },
  {
   "cell_type": "code",
   "execution_count": null,
   "metadata": {
    "ExecuteTime": {
     "end_time": "2018-08-21T06:41:52.931133Z",
     "start_time": "2018-08-20T11:57:17.906Z"
    }
   },
   "outputs": [],
   "source": [
    "parafit_res$ParaFitGlobal"
   ]
  },
  {
   "cell_type": "code",
   "execution_count": null,
   "metadata": {
    "ExecuteTime": {
     "end_time": "2018-08-21T06:41:52.933881Z",
     "start_time": "2018-08-20T11:57:18.019Z"
    }
   },
   "outputs": [],
   "source": [
    "parafit_res$p.global"
   ]
  },
  {
   "cell_type": "code",
   "execution_count": null,
   "metadata": {
    "ExecuteTime": {
     "end_time": "2018-08-21T06:41:52.936686Z",
     "start_time": "2018-08-20T11:57:23.573Z"
    }
   },
   "outputs": [],
   "source": [
    "parafit_res$link.table %>% head"
   ]
  },
  {
   "cell_type": "markdown",
   "metadata": {},
   "source": [
    "#### notes\n",
    "\n",
    "* `F1` = ParaFit1.perm\n",
    "* `F2` = ParaFit2.perm\n",
    "\n",
    "From Legendre et al., 2002: \n",
    "\n",
    "> In summary, the ParaFitLink1 statistic gen- erally behaved better in simulations and\n",
    "should be preferred to ParaFitLink2"
   ]
  },
  {
   "cell_type": "code",
   "execution_count": null,
   "metadata": {
    "ExecuteTime": {
     "end_time": "2018-08-21T06:41:52.941571Z",
     "start_time": "2018-08-20T12:41:11.003Z"
    }
   },
   "outputs": [],
   "source": [
    "send_email('http://127.0.0.1:9705/notebooks/notebooks/16S/4_host_specific/parafit/01_IndD-sens.ipynb')"
   ]
  },
  {
   "cell_type": "code",
   "execution_count": null,
   "metadata": {},
   "outputs": [],
   "source": []
  }
 ],
 "metadata": {
  "kernelspec": {
   "display_name": "R [conda env:py3_physeq_eco]",
   "language": "R",
   "name": "conda-env-py3_physeq_eco-r"
  },
  "language_info": {
   "codemirror_mode": "r",
   "file_extension": ".r",
   "mimetype": "text/x-r-source",
   "name": "R",
   "pygments_lexer": "r",
   "version": "3.4.1"
  },
  "notify_time": "30",
  "toc": {
   "base_numbering": 1,
   "nav_menu": {},
   "number_sections": true,
   "sideBar": true,
   "skip_h1_title": false,
   "title_cell": "Table of Contents",
   "title_sidebar": "Contents",
   "toc_cell": true,
   "toc_position": {},
   "toc_section_display": true,
   "toc_window_display": true
  }
 },
 "nbformat": 4,
 "nbformat_minor": 2
}
