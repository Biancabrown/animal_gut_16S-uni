{
 "cells": [
  {
   "cell_type": "markdown",
   "metadata": {
    "toc": true
   },
   "source": [
    "<h1>Table of Contents<span class=\"tocSkip\"></span></h1>\n",
    "<div class=\"toc\"><ul class=\"toc-item\"><li><span><a href=\"#Goal\" data-toc-modified-id=\"Goal-1\"><span class=\"toc-item-num\">1&nbsp;&nbsp;</span>Goal</a></span></li><li><span><a href=\"#Init\" data-toc-modified-id=\"Init-2\"><span class=\"toc-item-num\">2&nbsp;&nbsp;</span>Init</a></span></li><li><span><a href=\"#Load\" data-toc-modified-id=\"Load-3\"><span class=\"toc-item-num\">3&nbsp;&nbsp;</span>Load</a></span></li><li><span><a href=\"#Subsampling-tree\" data-toc-modified-id=\"Subsampling-tree-4\"><span class=\"toc-item-num\">4&nbsp;&nbsp;</span>Subsampling tree</a></span></li><li><span><a href=\"#Creating-datasets\" data-toc-modified-id=\"Creating-datasets-5\"><span class=\"toc-item-num\">5&nbsp;&nbsp;</span>Creating datasets</a></span></li><li><span><a href=\"#parafit:-just-global-test\" data-toc-modified-id=\"parafit:-just-global-test-6\"><span class=\"toc-item-num\">6&nbsp;&nbsp;</span>parafit: just global test</a></span><ul class=\"toc-item\"><li><span><a href=\"#Saving-results\" data-toc-modified-id=\"Saving-results-6.1\"><span class=\"toc-item-num\">6.1&nbsp;&nbsp;</span>Saving results</a></span></li><li><span><a href=\"#Summarizing\" data-toc-modified-id=\"Summarizing-6.2\"><span class=\"toc-item-num\">6.2&nbsp;&nbsp;</span>Summarizing</a></span></li></ul></li><li><span><a href=\"#parafit:-individual-links\" data-toc-modified-id=\"parafit:-individual-links-7\"><span class=\"toc-item-num\">7&nbsp;&nbsp;</span>parafit: individual links</a></span><ul class=\"toc-item\"><li><span><a href=\"#Saving-results\" data-toc-modified-id=\"Saving-results-7.1\"><span class=\"toc-item-num\">7.1&nbsp;&nbsp;</span>Saving results</a></span></li><li><span><a href=\"#Summarizing\" data-toc-modified-id=\"Summarizing-7.2\"><span class=\"toc-item-num\">7.2&nbsp;&nbsp;</span>Summarizing</a></span></li><li><span><a href=\"#Links-per-host\" data-toc-modified-id=\"Links-per-host-7.3\"><span class=\"toc-item-num\">7.3&nbsp;&nbsp;</span>Links per host</a></span></li></ul></li><li><span><a href=\"#sessionInfo\" data-toc-modified-id=\"sessionInfo-8\"><span class=\"toc-item-num\">8&nbsp;&nbsp;</span>sessionInfo</a></span></li><li><span><a href=\"#Sandbox\" data-toc-modified-id=\"Sandbox-9\"><span class=\"toc-item-num\">9&nbsp;&nbsp;</span>Sandbox</a></span><ul class=\"toc-item\"><li><ul class=\"toc-item\"><li><ul class=\"toc-item\"><li><span><a href=\"#notes\" data-toc-modified-id=\"notes-9.0.0.1\"><span class=\"toc-item-num\">9.0.0.1&nbsp;&nbsp;</span>notes</a></span></li></ul></li></ul></li></ul></li></ul></div>"
   ]
  },
  {
   "cell_type": "markdown",
   "metadata": {},
   "source": [
    "# Goal\n",
    "\n",
    "* Run `ape::parafit()` analysis on IndD dataset summed by host\n",
    "* Sensitivity analysis (species-level): selecting one sample per species"
   ]
  },
  {
   "cell_type": "code",
   "execution_count": 1,
   "metadata": {
    "ExecuteTime": {
     "end_time": "2018-09-03T12:36:00.866412Z",
     "start_time": "2018-09-03T12:35:59.991Z"
    }
   },
   "outputs": [],
   "source": [
    "work_dir = '/ebio/abt3_projects/Georg_animal_feces/data/host_specific/parafit/'\n",
    "\n",
    "# phyloseq\n",
    "physeq_file = '/ebio/abt3_projects/Georg_animal_feces/data/16S/LLA/phyloseq/physeq_r5k.RDS'\n",
    "\n",
    "# host phylogeny\n",
    "host_tree_file = '/ebio/abt3_projects/Georg_animal_feces/data/animal/phylogeny/TT/unified_metadata_complete_20180625_rn_16S-r5k_IndD.nwk'\n",
    "\n",
    "# misc\n",
    "sparsity_cutoff = 0.05\n",
    "threads = 12"
   ]
  },
  {
   "cell_type": "markdown",
   "metadata": {},
   "source": [
    "# Init"
   ]
  },
  {
   "cell_type": "code",
   "execution_count": 2,
   "metadata": {
    "ExecuteTime": {
     "end_time": "2018-09-03T12:36:21.213576Z",
     "start_time": "2018-09-03T12:36:01.043Z"
    }
   },
   "outputs": [
    {
     "name": "stderr",
     "output_type": "stream",
     "text": [
      "\n",
      "Attaching package: ‘dplyr’\n",
      "\n",
      "The following objects are masked from ‘package:stats’:\n",
      "\n",
      "    filter, lag\n",
      "\n",
      "The following objects are masked from ‘package:base’:\n",
      "\n",
      "    intersect, setdiff, setequal, union\n",
      "\n",
      "\n",
      "Attaching package: ‘future.apply’\n",
      "\n",
      "The following object is masked from ‘package:future’:\n",
      "\n",
      "    future_lapply\n",
      "\n"
     ]
    }
   ],
   "source": [
    "library(dplyr)\n",
    "library(tidyr)\n",
    "library(ggplot2)\n",
    "library(phyloseq)\n",
    "library(ape)\n",
    "\n",
    "library(future)\n",
    "library(future.batchtools)\n",
    "library(future.apply)\n",
    "\n",
    "source('/ebio/abt3_projects/Georg_animal_feces/code/init.R') \n",
    "source('/ebio/abt3_projects/Georg_animal_feces/code/itol.R') "
   ]
  },
  {
   "cell_type": "code",
   "execution_count": 3,
   "metadata": {
    "ExecuteTime": {
     "end_time": "2018-09-03T12:36:21.551726Z",
     "start_time": "2018-09-03T12:36:03.958Z"
    }
   },
   "outputs": [
    {
     "name": "stdout",
     "output_type": "stream",
     "text": [
      "Directory already exists: /ebio/abt3_projects/Georg_animal_feces/data/host_specific/parafit/ \n"
     ]
    }
   ],
   "source": [
    "make_dir(work_dir)\n",
    "setwd(work_dir)"
   ]
  },
  {
   "cell_type": "code",
   "execution_count": 4,
   "metadata": {
    "ExecuteTime": {
     "end_time": "2018-09-03T12:36:21.580263Z",
     "start_time": "2018-09-03T12:36:04.215Z"
    }
   },
   "outputs": [],
   "source": [
    "rescale_dist_mtx = function(m){\n",
    "    m = m %>% as.matrix\n",
    "    labs = m %>% colnames\n",
    "    n_row = m %>% nrow\n",
    "    n_col = m %>% ncol\n",
    "    x = m %>% as.vector \n",
    "    x = scales::rescale(x) \n",
    "    m = matrix(x, nrow=n_row, ncol=n_col)\n",
    "    colnames(m) = labs\n",
    "    rownames(m) = labs\n",
    "    m = m %>% as.dist\n",
    "    return(m)\n",
    "}"
   ]
  },
  {
   "cell_type": "markdown",
   "metadata": {},
   "source": [
    "# Load"
   ]
  },
  {
   "cell_type": "code",
   "execution_count": 5,
   "metadata": {
    "ExecuteTime": {
     "end_time": "2018-09-03T12:36:28.592097Z",
     "start_time": "2018-09-03T12:36:05.367Z"
    }
   },
   "outputs": [
    {
     "data": {
      "text/plain": [
       "phyloseq-class experiment-level object\n",
       "otu_table()   OTU Table:         [ 408 taxa and 213 samples ]\n",
       "sample_data() Sample Data:       [ 213 samples by 171 sample variables ]\n",
       "tax_table()   Taxonomy Table:    [ 408 taxa by 7 taxonomic ranks ]\n",
       "phy_tree()    Phylogenetic Tree: [ 408 tips and 406 internal nodes ]"
      ]
     },
     "metadata": {},
     "output_type": "display_data"
    }
   ],
   "source": [
    "physeq = readRDS(physeq_file) %>%\n",
    "    filter_taxa(function(x) sum(x > 0) / length(x) > sparsity_cutoff, TRUE) \n",
    "physeq"
   ]
  },
  {
   "cell_type": "code",
   "execution_count": 6,
   "metadata": {
    "ExecuteTime": {
     "end_time": "2018-09-03T12:36:28.917593Z",
     "start_time": "2018-09-03T12:36:05.619Z"
    }
   },
   "outputs": [
    {
     "name": "stderr",
     "output_type": "stream",
     "text": [
      "Warning message in class(x) <- c(subclass, \"tbl_df\", \"tbl\", \"data.frame\"):\n",
      "“Setting class(x) to multiple strings (\"tbl_df\", \"tbl\", ...); result will no longer be an S4 object”"
     ]
    },
    {
     "name": "stdout",
     "output_type": "stream",
     "text": [
      "[1] 213   2\n"
     ]
    },
    {
     "data": {
      "text/html": [
       "<table>\n",
       "<thead><tr><th></th><th scope=col>scientific_name</th><th scope=col>SampleID</th></tr></thead>\n",
       "<tbody>\n",
       "\t<tr><th scope=row>X1.Eurasian.Beaver</th><td>Castor_fiber      </td><td>X1.Eurasian.Beaver</td></tr>\n",
       "\t<tr><th scope=row>X101.Horse</th><td>Equus_caballus    </td><td>X101.Horse        </td></tr>\n",
       "\t<tr><th scope=row>X102.Kulan</th><td>Equus_hemionus    </td><td>X102.Kulan        </td></tr>\n",
       "</tbody>\n",
       "</table>\n"
      ],
      "text/latex": [
       "\\begin{tabular}{r|ll}\n",
       "  & scientific\\_name & SampleID\\\\\n",
       "\\hline\n",
       "\tX1.Eurasian.Beaver & Castor\\_fiber     & X1.Eurasian.Beaver\\\\\n",
       "\tX101.Horse & Equus\\_caballus   & X101.Horse        \\\\\n",
       "\tX102.Kulan & Equus\\_hemionus   & X102.Kulan        \\\\\n",
       "\\end{tabular}\n"
      ],
      "text/markdown": [
       "\n",
       "| <!--/--> | scientific_name | SampleID | \n",
       "|---|---|---|\n",
       "| X1.Eurasian.Beaver | Castor_fiber       | X1.Eurasian.Beaver | \n",
       "| X101.Horse | Equus_caballus     | X101.Horse         | \n",
       "| X102.Kulan | Equus_hemionus     | X102.Kulan         | \n",
       "\n",
       "\n"
      ],
      "text/plain": [
       "                   scientific_name SampleID          \n",
       "X1.Eurasian.Beaver Castor_fiber    X1.Eurasian.Beaver\n",
       "X101.Horse         Equus_caballus  X101.Horse        \n",
       "X102.Kulan         Equus_hemionus  X102.Kulan        "
      ]
     },
     "metadata": {},
     "output_type": "display_data"
    }
   ],
   "source": [
    "metadata = physeq %>%\n",
    "    sample_data %>%\n",
    "    dplyr::select(scientific_name) %>%\n",
    "    mutate(SampleID = rownames(.)) %>%\n",
    "    as.data.frame\n",
    "\n",
    "rownames(metadata) = metadata$SampleID\n",
    "metadata %>% dfhead"
   ]
  },
  {
   "cell_type": "code",
   "execution_count": 7,
   "metadata": {
    "ExecuteTime": {
     "end_time": "2018-09-03T12:36:28.980542Z",
     "start_time": "2018-09-03T12:36:06.431Z"
    }
   },
   "outputs": [
    {
     "data": {
      "text/plain": [
       "\n",
       "Phylogenetic tree with 213 tips and 177 internal nodes.\n",
       "\n",
       "Tip labels:\n",
       "\tX256.Zander, F302.Northern.Pike, X188.Brook.Trout, F300.Asp, X330.Ide, X327.Silver.Bream, ...\n",
       "Node labels:\n",
       "\tNode1, Node2, Node3, Node4, Node5, Node6, ...\n",
       "\n",
       "Rooted; includes branch lengths."
      ]
     },
     "metadata": {},
     "output_type": "display_data"
    }
   ],
   "source": [
    "host_tree = read.tree(host_tree_file)\n",
    "host_tree"
   ]
  },
  {
   "cell_type": "markdown",
   "metadata": {},
   "source": [
    "# Subsampling tree"
   ]
  },
  {
   "cell_type": "code",
   "execution_count": 8,
   "metadata": {
    "ExecuteTime": {
     "end_time": "2018-09-03T12:36:29.011201Z",
     "start_time": "2018-09-03T12:36:07.128Z"
    }
   },
   "outputs": [],
   "source": [
    "# number of subsampled trees\n",
    "ntrees = 100"
   ]
  },
  {
   "cell_type": "code",
   "execution_count": 9,
   "metadata": {
    "ExecuteTime": {
     "end_time": "2018-09-03T12:36:29.041412Z",
     "start_time": "2018-09-03T12:36:08.003Z"
    }
   },
   "outputs": [],
   "source": [
    "#' randomly selecting one per group\n",
    "tree_subsample = function(L, df, tree){\n",
    "    # get subsample (note: subsampling within each species)\n",
    "    to_keep = df %>% \n",
    "        group_by(scientific_name) %>% \n",
    "        sample_n(1) %>%\n",
    "        .$sample\n",
    "    # subsampling tree\n",
    "    to_rm = setdiff(tree$tip.label, to_keep)\n",
    "    tree = drop.tip(tree, to_rm)\n",
    "    return(tree)\n",
    "}"
   ]
  },
  {
   "cell_type": "code",
   "execution_count": 10,
   "metadata": {
    "ExecuteTime": {
     "end_time": "2018-09-03T12:36:29.839435Z",
     "start_time": "2018-09-03T12:36:08.264Z"
    }
   },
   "outputs": [
    {
     "name": "stdout",
     "output_type": "stream",
     "text": [
      "[1] 100\n"
     ]
    },
    {
     "data": {
      "text/plain": [
       "   Min. 1st Qu.  Median    Mean 3rd Qu.    Max. \n",
       "    128     128     128     128     128     128 "
      ]
     },
     "metadata": {},
     "output_type": "display_data"
    }
   ],
   "source": [
    "# subsampling trees\n",
    "df = metadata %>%\n",
    "    mutate(sample = rownames(.)) %>%\n",
    "    dplyr::select(sample, scientific_name) \n",
    "\n",
    "doParallel::registerDoParallel(threads)\n",
    "host_tree_l = plyr::llply(as.list(1:ntrees), \n",
    "                          function(x) tree_subsample(x, df, host_tree),\n",
    "                          .parallel=TRUE)\n",
    "\n",
    "# tree lengths\n",
    "host_tree_l %>% length %>% print\n",
    "lapply(host_tree_l, function(x) x$tip.label %>% length) %>% unlist %>% summary"
   ]
  },
  {
   "cell_type": "code",
   "execution_count": 11,
   "metadata": {
    "ExecuteTime": {
     "end_time": "2018-09-03T12:36:29.874616Z",
     "start_time": "2018-09-03T12:36:08.910Z"
    }
   },
   "outputs": [
    {
     "name": "stdout",
     "output_type": "stream",
     "text": [
      "[1] 0\n"
     ]
    }
   ],
   "source": [
    "# checking overlap of labels\n",
    "setdiff(host_tree_l[[1]]$tip.label, rownames(metadata)) %>% length %>% print"
   ]
  },
  {
   "cell_type": "markdown",
   "metadata": {},
   "source": [
    "# Creating datasets"
   ]
  },
  {
   "cell_type": "code",
   "execution_count": 12,
   "metadata": {
    "ExecuteTime": {
     "end_time": "2018-09-03T12:36:29.917201Z",
     "start_time": "2018-09-03T12:36:10.462Z"
    }
   },
   "outputs": [],
   "source": [
    "make_parafit_input = function(host_tree, physeq){\n",
    "    # subsampled phyloseq object\n",
    "    physeq_f = prune_samples(sample_names(physeq) %in% host_tree$tip.label, \n",
    "                             physeq) \n",
    "\n",
    "    # microbial tree distance matrix\n",
    "    micro_D = physeq_f %>%\n",
    "        phy_tree %>% cophenetic %>% \n",
    "        rescale_dist_mtx %>% as.matrix\n",
    "    # host tree distance matrix\n",
    "    host_D = host_tree %>% cophenetic %>% \n",
    "             rescale_dist_mtx %>% as.matrix\n",
    "    \n",
    "    # otu pres/abs matrix\n",
    "    otu = physeq_f %>% \n",
    "        otu_table %>%\n",
    "        as.data.frame %>%\n",
    "        as.matrix %>%\n",
    "        t %>%\n",
    "        apply(2, function(x) ifelse(x > 0, 1, 0)) %>% \n",
    "        as.matrix                \n",
    "              \n",
    "              \n",
    "    # checking overlap\n",
    "    x = length(intersect(rownames(otu), rownames(host_D)))\n",
    "    y = length(union(rownames(otu), rownames(host_D)))\n",
    "    stopifnot(x == y)\n",
    "              \n",
    "    # preparing paco data\n",
    "    return(list(host.D=host_D, para.D = micro_D, HP=otu))\n",
    "}"
   ]
  },
  {
   "cell_type": "code",
   "execution_count": 13,
   "metadata": {
    "ExecuteTime": {
     "end_time": "2018-09-03T12:36:38.907864Z",
     "start_time": "2018-09-03T12:36:10.869Z"
    }
   },
   "outputs": [
    {
     "data": {
      "text/html": [
       "100"
      ],
      "text/latex": [
       "100"
      ],
      "text/markdown": [
       "100"
      ],
      "text/plain": [
       "[1] 100"
      ]
     },
     "metadata": {},
     "output_type": "display_data"
    }
   ],
   "source": [
    "# creating list of parafit input objects\n",
    "doParallel::registerDoParallel(threads)\n",
    "PF_l = plyr::llply(host_tree_l, make_parafit_input, physeq=physeq, .parallel=TRUE)\n",
    "PF_l %>% length"
   ]
  },
  {
   "cell_type": "markdown",
   "metadata": {},
   "source": [
    "# parafit: just global test"
   ]
  },
  {
   "cell_type": "code",
   "execution_count": 68,
   "metadata": {
    "ExecuteTime": {
     "end_time": "2018-08-21T06:59:54.852781Z",
     "start_time": "2018-08-21T07:01:21.451Z"
    }
   },
   "outputs": [],
   "source": [
    "# cluster resources\n",
    "resources = list(h_rt = '00:59:00',\n",
    "                 h_vmem = '10G',\n",
    "                 threads = '1',\n",
    "                 conda.env = 'py3_physeq_eco', \n",
    "                 conda.path = \"/ebio/abt3_projects/software/miniconda3_gt4.4/bin\")\n",
    "plan(batchtools_sge, resources=resources)"
   ]
  },
  {
   "cell_type": "code",
   "execution_count": 69,
   "metadata": {
    "ExecuteTime": {
     "end_time": "2018-08-21T07:10:51.933397Z",
     "start_time": "2018-08-21T07:01:44.813Z"
    },
    "scrolled": true
   },
   "outputs": [
    {
     "name": "stderr",
     "output_type": "stream",
     "text": [
      "Warning message in is.na(x):\n",
      "“is.na() applied to non-(list or vector) of type 'NULL'”Warning message in is.na(x):\n",
      "“is.na() applied to non-(list or vector) of type 'NULL'”Warning message in is.na(x):\n",
      "“is.na() applied to non-(list or vector) of type 'NULL'”Warning message in is.na(x):\n",
      "“is.na() applied to non-(list or vector) of type 'NULL'”Warning message in is.na(x):\n",
      "“is.na() applied to non-(list or vector) of type 'NULL'”Warning message in is.na(x):\n",
      "“is.na() applied to non-(list or vector) of type 'NULL'”Warning message in is.na(x):\n",
      "“is.na() applied to non-(list or vector) of type 'NULL'”Warning message in is.na(x):\n",
      "“is.na() applied to non-(list or vector) of type 'NULL'”Warning message in is.na(x):\n",
      "“is.na() applied to non-(list or vector) of type 'NULL'”Warning message in is.na(x):\n",
      "“is.na() applied to non-(list or vector) of type 'NULL'”Warning message in is.na(x):\n",
      "“is.na() applied to non-(list or vector) of type 'NULL'”Warning message in is.na(x):\n",
      "“is.na() applied to non-(list or vector) of type 'NULL'”Warning message in is.na(x):\n",
      "“is.na() applied to non-(list or vector) of type 'NULL'”Warning message in is.na(x):\n",
      "“is.na() applied to non-(list or vector) of type 'NULL'”Warning message in is.na(x):\n",
      "“is.na() applied to non-(list or vector) of type 'NULL'”Warning message in is.na(x):\n",
      "“is.na() applied to non-(list or vector) of type 'NULL'”Warning message in is.na(x):\n",
      "“is.na() applied to non-(list or vector) of type 'NULL'”Warning message in is.na(x):\n",
      "“is.na() applied to non-(list or vector) of type 'NULL'”Warning message in is.na(x):\n",
      "“is.na() applied to non-(list or vector) of type 'NULL'”Warning message in is.na(x):\n",
      "“is.na() applied to non-(list or vector) of type 'NULL'”Warning message in is.na(x):\n",
      "“is.na() applied to non-(list or vector) of type 'NULL'”Warning message in is.na(x):\n",
      "“is.na() applied to non-(list or vector) of type 'NULL'”Warning message in is.na(x):\n",
      "“is.na() applied to non-(list or vector) of type 'NULL'”Warning message in is.na(x):\n",
      "“is.na() applied to non-(list or vector) of type 'NULL'”Warning message in is.na(x):\n",
      "“is.na() applied to non-(list or vector) of type 'NULL'”Warning message in is.na(x):\n",
      "“is.na() applied to non-(list or vector) of type 'NULL'”Warning message in is.na(x):\n",
      "“is.na() applied to non-(list or vector) of type 'NULL'”Warning message in is.na(x):\n",
      "“is.na() applied to non-(list or vector) of type 'NULL'”Warning message in is.na(x):\n",
      "“is.na() applied to non-(list or vector) of type 'NULL'”Warning message in is.na(x):\n",
      "“is.na() applied to non-(list or vector) of type 'NULL'”Warning message in is.na(x):\n",
      "“is.na() applied to non-(list or vector) of type 'NULL'”Warning message in is.na(x):\n",
      "“is.na() applied to non-(list or vector) of type 'NULL'”Warning message in is.na(x):\n",
      "“is.na() applied to non-(list or vector) of type 'NULL'”Warning message in is.na(x):\n",
      "“is.na() applied to non-(list or vector) of type 'NULL'”Warning message in is.na(x):\n",
      "“is.na() applied to non-(list or vector) of type 'NULL'”Warning message in is.na(x):\n",
      "“is.na() applied to non-(list or vector) of type 'NULL'”Warning message in is.na(x):\n",
      "“is.na() applied to non-(list or vector) of type 'NULL'”Warning message in is.na(x):\n",
      "“is.na() applied to non-(list or vector) of type 'NULL'”Warning message in is.na(x):\n",
      "“is.na() applied to non-(list or vector) of type 'NULL'”Warning message in is.na(x):\n",
      "“is.na() applied to non-(list or vector) of type 'NULL'”Warning message in is.na(x):\n",
      "“is.na() applied to non-(list or vector) of type 'NULL'”Warning message in is.na(x):\n",
      "“is.na() applied to non-(list or vector) of type 'NULL'”Warning message in is.na(x):\n",
      "“is.na() applied to non-(list or vector) of type 'NULL'”Warning message in is.na(x):\n",
      "“is.na() applied to non-(list or vector) of type 'NULL'”Warning message in is.na(x):\n",
      "“is.na() applied to non-(list or vector) of type 'NULL'”Warning message in is.na(x):\n",
      "“is.na() applied to non-(list or vector) of type 'NULL'”Warning message in is.na(x):\n",
      "“is.na() applied to non-(list or vector) of type 'NULL'”Warning message in is.na(x):\n",
      "“is.na() applied to non-(list or vector) of type 'NULL'”Warning message in is.na(x):\n",
      "“is.na() applied to non-(list or vector) of type 'NULL'”Warning message in is.na(x):\n",
      "“is.na() applied to non-(list or vector) of type 'NULL'”Warning message in is.na(x):\n",
      "“is.na() applied to non-(list or vector) of type 'NULL'”Warning message in is.na(x):\n",
      "“is.na() applied to non-(list or vector) of type 'NULL'”Warning message in is.na(x):\n",
      "“is.na() applied to non-(list or vector) of type 'NULL'”Warning message in is.na(x):\n",
      "“is.na() applied to non-(list or vector) of type 'NULL'”Warning message in is.na(x):\n",
      "“is.na() applied to non-(list or vector) of type 'NULL'”Warning message in is.na(x):\n",
      "“is.na() applied to non-(list or vector) of type 'NULL'”Warning message in is.na(x):\n",
      "“is.na() applied to non-(list or vector) of type 'NULL'”Warning message in is.na(x):\n",
      "“is.na() applied to non-(list or vector) of type 'NULL'”Warning message in is.na(x):\n",
      "“is.na() applied to non-(list or vector) of type 'NULL'”Warning message in is.na(x):\n",
      "“is.na() applied to non-(list or vector) of type 'NULL'”Warning message in is.na(x):\n",
      "“is.na() applied to non-(list or vector) of type 'NULL'”Warning message in is.na(x):\n",
      "“is.na() applied to non-(list or vector) of type 'NULL'”Warning message in is.na(x):\n",
      "“is.na() applied to non-(list or vector) of type 'NULL'”Warning message in is.na(x):\n",
      "“is.na() applied to non-(list or vector) of type 'NULL'”Warning message in is.na(x):\n",
      "“is.na() applied to non-(list or vector) of type 'NULL'”Warning message in is.na(x):\n",
      "“is.na() applied to non-(list or vector) of type 'NULL'”Warning message in is.na(x):\n",
      "“is.na() applied to non-(list or vector) of type 'NULL'”Warning message in is.na(x):\n",
      "“is.na() applied to non-(list or vector) of type 'NULL'”Warning message in is.na(x):\n",
      "“is.na() applied to non-(list or vector) of type 'NULL'”Warning message in is.na(x):\n",
      "“is.na() applied to non-(list or vector) of type 'NULL'”Warning message in is.na(x):\n",
      "“is.na() applied to non-(list or vector) of type 'NULL'”Warning message in is.na(x):\n",
      "“is.na() applied to non-(list or vector) of type 'NULL'”Warning message in is.na(x):\n",
      "“is.na() applied to non-(list or vector) of type 'NULL'”Warning message in is.na(x):\n",
      "“is.na() applied to non-(list or vector) of type 'NULL'”Warning message in is.na(x):\n",
      "“is.na() applied to non-(list or vector) of type 'NULL'”Warning message in is.na(x):\n",
      "“is.na() applied to non-(list or vector) of type 'NULL'”Warning message in is.na(x):\n",
      "“is.na() applied to non-(list or vector) of type 'NULL'”Warning message in is.na(x):\n",
      "“is.na() applied to non-(list or vector) of type 'NULL'”Warning message in is.na(x):\n",
      "“is.na() applied to non-(list or vector) of type 'NULL'”Warning message in is.na(x):\n",
      "“is.na() applied to non-(list or vector) of type 'NULL'”Warning message in is.na(x):\n",
      "“is.na() applied to non-(list or vector) of type 'NULL'”Warning message in is.na(x):\n",
      "“is.na() applied to non-(list or vector) of type 'NULL'”Warning message in is.na(x):\n",
      "“is.na() applied to non-(list or vector) of type 'NULL'”Warning message in is.na(x):\n",
      "“is.na() applied to non-(list or vector) of type 'NULL'”Warning message in is.na(x):\n",
      "“is.na() applied to non-(list or vector) of type 'NULL'”Warning message in is.na(x):\n",
      "“is.na() applied to non-(list or vector) of type 'NULL'”Warning message in is.na(x):\n",
      "“is.na() applied to non-(list or vector) of type 'NULL'”Warning message in is.na(x):\n",
      "“is.na() applied to non-(list or vector) of type 'NULL'”Warning message in is.na(x):\n",
      "“is.na() applied to non-(list or vector) of type 'NULL'”Warning message in is.na(x):\n",
      "“is.na() applied to non-(list or vector) of type 'NULL'”Warning message in is.na(x):\n",
      "“is.na() applied to non-(list or vector) of type 'NULL'”Warning message in is.na(x):\n",
      "“is.na() applied to non-(list or vector) of type 'NULL'”Warning message in is.na(x):\n",
      "“is.na() applied to non-(list or vector) of type 'NULL'”Warning message in is.na(x):\n",
      "“is.na() applied to non-(list or vector) of type 'NULL'”Warning message in is.na(x):\n",
      "“is.na() applied to non-(list or vector) of type 'NULL'”Warning message in is.na(x):\n",
      "“is.na() applied to non-(list or vector) of type 'NULL'”Warning message in is.na(x):\n",
      "“is.na() applied to non-(list or vector) of type 'NULL'”Warning message in is.na(x):\n",
      "“is.na() applied to non-(list or vector) of type 'NULL'”Warning message in is.na(x):\n",
      "“is.na() applied to non-(list or vector) of type 'NULL'”Warning message in is.na(x):\n",
      "“is.na() applied to non-(list or vector) of type 'NULL'”"
     ]
    }
   ],
   "source": [
    "# Running parafit on each subsample\n",
    "## WARNING: SLOW!\n",
    "parafit_each = function(L, nperm=99, seed=3843, correction=\"cailliez\", test.links=TRUE){\n",
    "    parafit(L$host.D, L$para.D, L$HP, \n",
    "            nperm=nperm, \n",
    "            seed=seed,\n",
    "            correction=correction,\n",
    "            test.links=test.links)\n",
    "}\n",
    "\n",
    "PF_res_l = future_lapply(PF_l, parafit_each, \n",
    "                         nperm=999, \n",
    "                         test.links=FALSE,\n",
    "                         future.packages=c('ape'))"
   ]
  },
  {
   "cell_type": "code",
   "execution_count": 70,
   "metadata": {
    "ExecuteTime": {
     "end_time": "2018-08-21T07:10:51.976876Z",
     "start_time": "2018-08-21T07:01:48.123Z"
    }
   },
   "outputs": [
    {
     "data": {
      "text/html": [
       "100"
      ],
      "text/latex": [
       "100"
      ],
      "text/markdown": [
       "100"
      ],
      "text/plain": [
       "[1] 100"
      ]
     },
     "metadata": {},
     "output_type": "display_data"
    }
   ],
   "source": [
    "# results\n",
    "PF_res_l %>% length"
   ]
  },
  {
   "cell_type": "markdown",
   "metadata": {},
   "source": [
    "## Saving results"
   ]
  },
  {
   "cell_type": "code",
   "execution_count": 128,
   "metadata": {
    "ExecuteTime": {
     "end_time": "2018-09-03T13:56:08.920671Z",
     "start_time": "2018-09-03T13:56:08.987Z"
    }
   },
   "outputs": [
    {
     "data": {
      "text/html": [
       "'/ebio/abt3_projects/Georg_animal_feces/data/host_specific/parafit//physeq_IndD-sens_parafit.RDS'"
      ],
      "text/latex": [
       "'/ebio/abt3\\_projects/Georg\\_animal\\_feces/data/host\\_specific/parafit//physeq\\_IndD-sens\\_parafit.RDS'"
      ],
      "text/markdown": [
       "'/ebio/abt3_projects/Georg_animal_feces/data/host_specific/parafit//physeq_IndD-sens_parafit.RDS'"
      ],
      "text/plain": [
       "[1] \"/ebio/abt3_projects/Georg_animal_feces/data/host_specific/parafit//physeq_IndD-sens_parafit.RDS\""
      ]
     },
     "metadata": {},
     "output_type": "display_data"
    }
   ],
   "source": [
    "# for loading results instead of re-running\n",
    "PF_file = file.path(work_dir, 'physeq_IndD-sens_parafit.RDS')\n",
    "PF_file"
   ]
  },
  {
   "cell_type": "code",
   "execution_count": 74,
   "metadata": {
    "ExecuteTime": {
     "end_time": "2018-08-21T07:10:53.526588Z",
     "start_time": "2018-08-21T07:04:57.150Z"
    }
   },
   "outputs": [
    {
     "name": "stdout",
     "output_type": "stream",
     "text": [
      "File written: /ebio/abt3_projects/Georg_animal_feces/data/host_specific/parafit//physeq_IndD-sens_parafit.RDS \n"
     ]
    }
   ],
   "source": [
    "# saving\n",
    "saveRDS(PF_res_l, file=PF_file)\n",
    "cat('File written:', PF_file, '\\n')"
   ]
  },
  {
   "cell_type": "code",
   "execution_count": 129,
   "metadata": {
    "ExecuteTime": {
     "end_time": "2018-09-03T13:56:10.146570Z",
     "start_time": "2018-09-03T13:56:10.146Z"
    }
   },
   "outputs": [
    {
     "data": {
      "text/html": [
       "100"
      ],
      "text/latex": [
       "100"
      ],
      "text/markdown": [
       "100"
      ],
      "text/plain": [
       "[1] 100"
      ]
     },
     "metadata": {},
     "output_type": "display_data"
    }
   ],
   "source": [
    "# re-loading\n",
    "PF_res_l = readRDS(PF_file)\n",
    "PF_res_l %>% length"
   ]
  },
  {
   "cell_type": "markdown",
   "metadata": {},
   "source": [
    "## Summarizing"
   ]
  },
  {
   "cell_type": "code",
   "execution_count": 130,
   "metadata": {
    "ExecuteTime": {
     "end_time": "2018-09-03T13:56:11.572276Z",
     "start_time": "2018-09-03T13:56:11.620Z"
    }
   },
   "outputs": [
    {
     "name": "stdout",
     "output_type": "stream",
     "text": [
      "   Min. 1st Qu.  Median    Mean 3rd Qu.    Max. \n",
      "  601.3   741.8   800.9   809.5   876.5  1100.0 \n"
     ]
    }
   ],
   "source": [
    "# distribution of effect size\n",
    "lapply(PF_res_l, function(x) x$ParaFitGlobal) %>% unlist %>% summary %>% print"
   ]
  },
  {
   "cell_type": "code",
   "execution_count": 131,
   "metadata": {
    "ExecuteTime": {
     "end_time": "2018-09-03T13:56:12.225549Z",
     "start_time": "2018-09-03T13:56:12.291Z"
    }
   },
   "outputs": [
    {
     "name": "stdout",
     "output_type": "stream",
     "text": [
      "   Min. 1st Qu.  Median    Mean 3rd Qu.    Max. \n",
      "  0.001   0.001   0.001   0.001   0.001   0.001 \n"
     ]
    }
   ],
   "source": [
    "# distribution of p-values\n",
    "lapply(PF_res_l, function(x) x$p.global) %>% unlist %>% summary %>% print"
   ]
  },
  {
   "cell_type": "code",
   "execution_count": 72,
   "metadata": {
    "ExecuteTime": {
     "end_time": "2018-08-21T07:10:53.173194Z",
     "start_time": "2018-08-21T07:02:19.509Z"
    }
   },
   "outputs": [],
   "source": [
    "send_email('http://127.0.0.1:9705/notebooks/notebooks/16S/4_host_specific/parafit/01_IndD-sens.ipynb')"
   ]
  },
  {
   "cell_type": "markdown",
   "metadata": {},
   "source": [
    "# parafit: individual links"
   ]
  },
  {
   "cell_type": "code",
   "execution_count": 96,
   "metadata": {
    "ExecuteTime": {
     "end_time": "2018-08-24T14:02:19.792924Z",
     "start_time": "2018-08-24T14:04:05.610Z"
    }
   },
   "outputs": [],
   "source": [
    "# cluster resources\n",
    "resources = list(h_rt = '200:00:00',\n",
    "                 h_vmem = '10G',\n",
    "                 threads = '1',\n",
    "                 conda.env = 'py3_physeq_eco', \n",
    "                 conda.path = \"/ebio/abt3_projects/software/miniconda3_gt4.4/bin\")\n",
    "plan(batchtools_sge, resources=resources)"
   ]
  },
  {
   "cell_type": "code",
   "execution_count": null,
   "metadata": {
    "ExecuteTime": {
     "start_time": "2018-08-24T14:04:06.074Z"
    },
    "scrolled": true
   },
   "outputs": [
    {
     "name": "stderr",
     "output_type": "stream",
     "text": [
      "Warning message in is.na(x):\n",
      "“is.na() applied to non-(list or vector) of type 'NULL'”Warning message in is.na(x):\n",
      "“is.na() applied to non-(list or vector) of type 'NULL'”Warning message in is.na(x):\n",
      "“is.na() applied to non-(list or vector) of type 'NULL'”Warning message in is.na(x):\n",
      "“is.na() applied to non-(list or vector) of type 'NULL'”Warning message in is.na(x):\n",
      "“is.na() applied to non-(list or vector) of type 'NULL'”Warning message in is.na(x):\n",
      "“is.na() applied to non-(list or vector) of type 'NULL'”Warning message in is.na(x):\n",
      "“is.na() applied to non-(list or vector) of type 'NULL'”Warning message in is.na(x):\n",
      "“is.na() applied to non-(list or vector) of type 'NULL'”Warning message in is.na(x):\n",
      "“is.na() applied to non-(list or vector) of type 'NULL'”Warning message in is.na(x):\n",
      "“is.na() applied to non-(list or vector) of type 'NULL'”Warning message in is.na(x):\n",
      "“is.na() applied to non-(list or vector) of type 'NULL'”Warning message in is.na(x):\n",
      "“is.na() applied to non-(list or vector) of type 'NULL'”Warning message in is.na(x):\n",
      "“is.na() applied to non-(list or vector) of type 'NULL'”Warning message in is.na(x):\n",
      "“is.na() applied to non-(list or vector) of type 'NULL'”Warning message in is.na(x):\n",
      "“is.na() applied to non-(list or vector) of type 'NULL'”Warning message in is.na(x):\n",
      "“is.na() applied to non-(list or vector) of type 'NULL'”Warning message in is.na(x):\n",
      "“is.na() applied to non-(list or vector) of type 'NULL'”Warning message in is.na(x):\n",
      "“is.na() applied to non-(list or vector) of type 'NULL'”Warning message in is.na(x):\n",
      "“is.na() applied to non-(list or vector) of type 'NULL'”Warning message in is.na(x):\n",
      "“is.na() applied to non-(list or vector) of type 'NULL'”Warning message in is.na(x):\n",
      "“is.na() applied to non-(list or vector) of type 'NULL'”Warning message in is.na(x):\n",
      "“is.na() applied to non-(list or vector) of type 'NULL'”Warning message in is.na(x):\n",
      "“is.na() applied to non-(list or vector) of type 'NULL'”Warning message in is.na(x):\n",
      "“is.na() applied to non-(list or vector) of type 'NULL'”Warning message in is.na(x):\n",
      "“is.na() applied to non-(list or vector) of type 'NULL'”Warning message in is.na(x):\n",
      "“is.na() applied to non-(list or vector) of type 'NULL'”Warning message in is.na(x):\n",
      "“is.na() applied to non-(list or vector) of type 'NULL'”Warning message in is.na(x):\n",
      "“is.na() applied to non-(list or vector) of type 'NULL'”Warning message in is.na(x):\n",
      "“is.na() applied to non-(list or vector) of type 'NULL'”Warning message in is.na(x):\n",
      "“is.na() applied to non-(list or vector) of type 'NULL'”Warning message in is.na(x):\n",
      "“is.na() applied to non-(list or vector) of type 'NULL'”Warning message in is.na(x):\n",
      "“is.na() applied to non-(list or vector) of type 'NULL'”Warning message in is.na(x):\n",
      "“is.na() applied to non-(list or vector) of type 'NULL'”Warning message in is.na(x):\n",
      "“is.na() applied to non-(list or vector) of type 'NULL'”Warning message in is.na(x):\n",
      "“is.na() applied to non-(list or vector) of type 'NULL'”Warning message in is.na(x):\n",
      "“is.na() applied to non-(list or vector) of type 'NULL'”Warning message in is.na(x):\n",
      "“is.na() applied to non-(list or vector) of type 'NULL'”Warning message in is.na(x):\n",
      "“is.na() applied to non-(list or vector) of type 'NULL'”Warning message in is.na(x):\n",
      "“is.na() applied to non-(list or vector) of type 'NULL'”Warning message in is.na(x):\n",
      "“is.na() applied to non-(list or vector) of type 'NULL'”Warning message in is.na(x):\n",
      "“is.na() applied to non-(list or vector) of type 'NULL'”Warning message in is.na(x):\n",
      "“is.na() applied to non-(list or vector) of type 'NULL'”Warning message in is.na(x):\n",
      "“is.na() applied to non-(list or vector) of type 'NULL'”Warning message in is.na(x):\n",
      "“is.na() applied to non-(list or vector) of type 'NULL'”Warning message in is.na(x):\n",
      "“is.na() applied to non-(list or vector) of type 'NULL'”Warning message in is.na(x):\n",
      "“is.na() applied to non-(list or vector) of type 'NULL'”Warning message in is.na(x):\n",
      "“is.na() applied to non-(list or vector) of type 'NULL'”Warning message in is.na(x):\n",
      "“is.na() applied to non-(list or vector) of type 'NULL'”Warning message in is.na(x):\n",
      "“is.na() applied to non-(list or vector) of type 'NULL'”Warning message in is.na(x):\n",
      "“is.na() applied to non-(list or vector) of type 'NULL'”Warning message in is.na(x):\n",
      "“is.na() applied to non-(list or vector) of type 'NULL'”Warning message in is.na(x):\n",
      "“is.na() applied to non-(list or vector) of type 'NULL'”Warning message in is.na(x):\n",
      "“is.na() applied to non-(list or vector) of type 'NULL'”Warning message in is.na(x):\n",
      "“is.na() applied to non-(list or vector) of type 'NULL'”Warning message in is.na(x):\n",
      "“is.na() applied to non-(list or vector) of type 'NULL'”Warning message in is.na(x):\n",
      "“is.na() applied to non-(list or vector) of type 'NULL'”Warning message in is.na(x):\n",
      "“is.na() applied to non-(list or vector) of type 'NULL'”Warning message in is.na(x):\n",
      "“is.na() applied to non-(list or vector) of type 'NULL'”Warning message in is.na(x):\n",
      "“is.na() applied to non-(list or vector) of type 'NULL'”Warning message in is.na(x):\n",
      "“is.na() applied to non-(list or vector) of type 'NULL'”Warning message in is.na(x):\n",
      "“is.na() applied to non-(list or vector) of type 'NULL'”Warning message in is.na(x):\n",
      "“is.na() applied to non-(list or vector) of type 'NULL'”Warning message in is.na(x):\n",
      "“is.na() applied to non-(list or vector) of type 'NULL'”Warning message in is.na(x):\n",
      "“is.na() applied to non-(list or vector) of type 'NULL'”Warning message in is.na(x):\n",
      "“is.na() applied to non-(list or vector) of type 'NULL'”Warning message in is.na(x):\n",
      "“is.na() applied to non-(list or vector) of type 'NULL'”Warning message in is.na(x):\n",
      "“is.na() applied to non-(list or vector) of type 'NULL'”Warning message in is.na(x):\n",
      "“is.na() applied to non-(list or vector) of type 'NULL'”Warning message in is.na(x):\n",
      "“is.na() applied to non-(list or vector) of type 'NULL'”Warning message in is.na(x):\n",
      "“is.na() applied to non-(list or vector) of type 'NULL'”Warning message in is.na(x):\n",
      "“is.na() applied to non-(list or vector) of type 'NULL'”Warning message in is.na(x):\n",
      "“is.na() applied to non-(list or vector) of type 'NULL'”Warning message in is.na(x):\n",
      "“is.na() applied to non-(list or vector) of type 'NULL'”Warning message in is.na(x):\n",
      "“is.na() applied to non-(list or vector) of type 'NULL'”Warning message in is.na(x):\n",
      "“is.na() applied to non-(list or vector) of type 'NULL'”Warning message in is.na(x):\n",
      "“is.na() applied to non-(list or vector) of type 'NULL'”Warning message in is.na(x):\n",
      "“is.na() applied to non-(list or vector) of type 'NULL'”Warning message in is.na(x):\n",
      "“is.na() applied to non-(list or vector) of type 'NULL'”Warning message in is.na(x):\n",
      "“is.na() applied to non-(list or vector) of type 'NULL'”Warning message in is.na(x):\n",
      "“is.na() applied to non-(list or vector) of type 'NULL'”Warning message in is.na(x):\n",
      "“is.na() applied to non-(list or vector) of type 'NULL'”Warning message in is.na(x):\n",
      "“is.na() applied to non-(list or vector) of type 'NULL'”Warning message in is.na(x):\n",
      "“is.na() applied to non-(list or vector) of type 'NULL'”Warning message in is.na(x):\n",
      "“is.na() applied to non-(list or vector) of type 'NULL'”Warning message in is.na(x):\n",
      "“is.na() applied to non-(list or vector) of type 'NULL'”Warning message in is.na(x):\n",
      "“is.na() applied to non-(list or vector) of type 'NULL'”Warning message in is.na(x):\n",
      "“is.na() applied to non-(list or vector) of type 'NULL'”Warning message in is.na(x):\n",
      "“is.na() applied to non-(list or vector) of type 'NULL'”Warning message in is.na(x):\n",
      "“is.na() applied to non-(list or vector) of type 'NULL'”Warning message in is.na(x):\n",
      "“is.na() applied to non-(list or vector) of type 'NULL'”Warning message in is.na(x):\n",
      "“is.na() applied to non-(list or vector) of type 'NULL'”Warning message in is.na(x):\n",
      "“is.na() applied to non-(list or vector) of type 'NULL'”Warning message in is.na(x):\n",
      "“is.na() applied to non-(list or vector) of type 'NULL'”Warning message in is.na(x):\n",
      "“is.na() applied to non-(list or vector) of type 'NULL'”Warning message in is.na(x):\n",
      "“is.na() applied to non-(list or vector) of type 'NULL'”Warning message in is.na(x):\n",
      "“is.na() applied to non-(list or vector) of type 'NULL'”Warning message in is.na(x):\n",
      "“is.na() applied to non-(list or vector) of type 'NULL'”Warning message in is.na(x):\n",
      "“is.na() applied to non-(list or vector) of type 'NULL'”Warning message in is.na(x):\n",
      "“is.na() applied to non-(list or vector) of type 'NULL'”Warning message in is.na(x):\n",
      "“is.na() applied to non-(list or vector) of type 'NULL'”"
     ]
    }
   ],
   "source": [
    "# Running parafit on each subsample\n",
    "## WARNING: SLOW!\n",
    "parafit_each = function(L, nperm=99, seed=3843, correction=\"cailliez\", test.links=TRUE){\n",
    "    parafit(L$host.D, L$para.D, L$HP, \n",
    "            nperm=nperm, \n",
    "            seed=seed,\n",
    "            correction=correction,\n",
    "            test.links=test.links)\n",
    "}\n",
    "\n",
    "PF_res_links_l = future_lapply(PF_l, parafit_each, \n",
    "                         nperm=999, \n",
    "                         test.links=TRUE,\n",
    "                         future.packages=c('ape'))"
   ]
  },
  {
   "cell_type": "code",
   "execution_count": null,
   "metadata": {
    "ExecuteTime": {
     "start_time": "2018-08-24T14:04:08.265Z"
    }
   },
   "outputs": [],
   "source": [
    "# results\n",
    "PF_res_links_l %>% length"
   ]
  },
  {
   "cell_type": "markdown",
   "metadata": {},
   "source": [
    "## Saving results"
   ]
  },
  {
   "cell_type": "code",
   "execution_count": 133,
   "metadata": {
    "ExecuteTime": {
     "end_time": "2018-09-03T15:00:02.280075Z",
     "start_time": "2018-09-03T15:00:02.349Z"
    }
   },
   "outputs": [
    {
     "data": {
      "text/html": [
       "'/ebio/abt3_projects/Georg_animal_feces/data/host_specific/parafit//physeq_IndD-sens_parafit-links.RDS'"
      ],
      "text/latex": [
       "'/ebio/abt3\\_projects/Georg\\_animal\\_feces/data/host\\_specific/parafit//physeq\\_IndD-sens\\_parafit-links.RDS'"
      ],
      "text/markdown": [
       "'/ebio/abt3_projects/Georg_animal_feces/data/host_specific/parafit//physeq_IndD-sens_parafit-links.RDS'"
      ],
      "text/plain": [
       "[1] \"/ebio/abt3_projects/Georg_animal_feces/data/host_specific/parafit//physeq_IndD-sens_parafit-links.RDS\""
      ]
     },
     "metadata": {},
     "output_type": "display_data"
    }
   ],
   "source": [
    "# for loading results instead of re-running\n",
    "PF_file = file.path(work_dir, 'physeq_IndD-sens_parafit-links.RDS')\n",
    "PF_file"
   ]
  },
  {
   "cell_type": "code",
   "execution_count": 84,
   "metadata": {
    "ExecuteTime": {
     "end_time": "2018-08-24T10:40:05.346147Z",
     "start_time": "2018-08-24T10:41:50.512Z"
    }
   },
   "outputs": [
    {
     "name": "stdout",
     "output_type": "stream",
     "text": [
      "File written: /ebio/abt3_projects/Georg_animal_feces/data/host_specific/parafit//physeq_IndD-sens_parafit-links.RDS \n"
     ]
    }
   ],
   "source": [
    "# saving\n",
    "saveRDS(PF_res_links_l, file=PF_file)\n",
    "cat('File written:', PF_file, '\\n')"
   ]
  },
  {
   "cell_type": "code",
   "execution_count": 134,
   "metadata": {
    "ExecuteTime": {
     "end_time": "2018-09-03T15:00:03.761474Z",
     "start_time": "2018-09-03T15:00:03.758Z"
    }
   },
   "outputs": [
    {
     "data": {
      "text/html": [
       "100"
      ],
      "text/latex": [
       "100"
      ],
      "text/markdown": [
       "100"
      ],
      "text/plain": [
       "[1] 100"
      ]
     },
     "metadata": {},
     "output_type": "display_data"
    }
   ],
   "source": [
    "# re-loading\n",
    "PF_res_links_l = readRDS(PF_file)\n",
    "PF_res_links_l %>% length"
   ]
  },
  {
   "cell_type": "code",
   "execution_count": null,
   "metadata": {
    "ExecuteTime": {
     "end_time": "2018-08-24T10:39:49.968074Z",
     "start_time": "2018-08-21T07:14:53.116Z"
    }
   },
   "outputs": [],
   "source": [
    "send_email('http://127.0.0.1:9705/notebooks/notebooks/16S/4_host_specific/parafit/01_IndD-sens.ipynb')"
   ]
  },
  {
   "cell_type": "markdown",
   "metadata": {},
   "source": [
    "## Summarizing"
   ]
  },
  {
   "cell_type": "code",
   "execution_count": 135,
   "metadata": {
    "ExecuteTime": {
     "end_time": "2018-09-03T15:00:05.013605Z",
     "start_time": "2018-09-03T15:00:05.084Z"
    }
   },
   "outputs": [
    {
     "data": {
      "text/plain": [
       "   Min. 1st Qu.  Median    Mean 3rd Qu.    Max. \n",
       "  601.3   741.8   800.9   809.5   876.5  1100.0 "
      ]
     },
     "metadata": {},
     "output_type": "display_data"
    }
   ],
   "source": [
    "# distribution of effect size\n",
    "lapply(PF_res_links_l, function(x) x$ParaFitGlobal) %>% unlist %>% summary"
   ]
  },
  {
   "cell_type": "code",
   "execution_count": 136,
   "metadata": {
    "ExecuteTime": {
     "end_time": "2018-09-03T15:00:05.147943Z",
     "start_time": "2018-09-03T15:00:05.215Z"
    }
   },
   "outputs": [
    {
     "data": {
      "text/plain": [
       "   Min. 1st Qu.  Median    Mean 3rd Qu.    Max. \n",
       "  0.001   0.001   0.001   0.001   0.001   0.001 "
      ]
     },
     "metadata": {},
     "output_type": "display_data"
    }
   ],
   "source": [
    "# distribution of p-values\n",
    "lapply(PF_res_links_l, function(x) x$p.global) %>% unlist %>% summary"
   ]
  },
  {
   "cell_type": "markdown",
   "metadata": {},
   "source": [
    "## Links per host\n",
    "\n",
    "* distribution of links per host"
   ]
  },
  {
   "cell_type": "code",
   "execution_count": 144,
   "metadata": {
    "ExecuteTime": {
     "end_time": "2018-09-03T15:00:46.200283Z",
     "start_time": "2018-09-03T15:00:46.197Z"
    }
   },
   "outputs": [
    {
     "name": "stdout",
     "output_type": "stream",
     "text": [
      "[1] 12800     3\n"
     ]
    },
    {
     "data": {
      "text/html": [
       "<table>\n",
       "<thead><tr><th scope=col>Dataset_rep</th><th scope=col>Sample</th><th scope=col>N_links</th></tr></thead>\n",
       "<tbody>\n",
       "\t<tr><td>1                 </td><td>X1.Eurasian.Beaver</td><td>2                 </td></tr>\n",
       "\t<tr><td>2                 </td><td>X1.Eurasian.Beaver</td><td>2                 </td></tr>\n",
       "\t<tr><td>3                 </td><td>X1.Eurasian.Beaver</td><td>2                 </td></tr>\n",
       "</tbody>\n",
       "</table>\n"
      ],
      "text/latex": [
       "\\begin{tabular}{r|lll}\n",
       " Dataset\\_rep & Sample & N\\_links\\\\\n",
       "\\hline\n",
       "\t 1                  & X1.Eurasian.Beaver & 2                 \\\\\n",
       "\t 2                  & X1.Eurasian.Beaver & 2                 \\\\\n",
       "\t 3                  & X1.Eurasian.Beaver & 2                 \\\\\n",
       "\\end{tabular}\n"
      ],
      "text/markdown": [
       "\n",
       "Dataset_rep | Sample | N_links | \n",
       "|---|---|---|\n",
       "| 1                  | X1.Eurasian.Beaver | 2                  | \n",
       "| 2                  | X1.Eurasian.Beaver | 2                  | \n",
       "| 3                  | X1.Eurasian.Beaver | 2                  | \n",
       "\n",
       "\n"
      ],
      "text/plain": [
       "  Dataset_rep Sample             N_links\n",
       "1 1           X1.Eurasian.Beaver 2      \n",
       "2 2           X1.Eurasian.Beaver 2      \n",
       "3 3           X1.Eurasian.Beaver 2      "
      ]
     },
     "metadata": {},
     "output_type": "display_data"
    }
   ],
   "source": [
    "# format\n",
    "para_per_host = lapply(PF_res_links_l, function(x) x$para.per.host) %>%\n",
    "    do.call(rbind, .) %>%\n",
    "    as.data.frame %>%\n",
    "    mutate(Dataset_rep = 1:nrow(.)) %>%\n",
    "    gather(Sample, N_links, -Dataset_rep) \n",
    "               \n",
    "para_per_host %>% dfhead"
   ]
  },
  {
   "cell_type": "code",
   "execution_count": 145,
   "metadata": {
    "ExecuteTime": {
     "end_time": "2018-09-03T15:00:46.602826Z",
     "start_time": "2018-09-03T15:00:46.539Z"
    }
   },
   "outputs": [
    {
     "name": "stderr",
     "output_type": "stream",
     "text": [
      "Warning message in class(X) <- NULL:\n",
      "“Setting class(x) to NULL;   result will no longer be an S4 object”Warning message:\n",
      "“Column `X.SampleID`/`Sample` joining factor and character vector, coercing into character vector”"
     ]
    },
    {
     "name": "stdout",
     "output_type": "stream",
     "text": [
      "[1] 12800     9\n"
     ]
    },
    {
     "data": {
      "text/html": [
       "<table>\n",
       "<thead><tr><th scope=col>X.SampleID</th><th scope=col>class</th><th scope=col>order</th><th scope=col>family</th><th scope=col>genus</th><th scope=col>scientific_name</th><th scope=col>diet</th><th scope=col>Dataset_rep</th><th scope=col>N_links</th></tr></thead>\n",
       "<tbody>\n",
       "\t<tr><td>X1.Eurasian.Beaver</td><td>Mammalia          </td><td>Rodentia          </td><td>Castoridae        </td><td>Castor            </td><td>Castor_fiber      </td><td>herbivore         </td><td>1                 </td><td>2                 </td></tr>\n",
       "\t<tr><td>X1.Eurasian.Beaver</td><td>Mammalia          </td><td>Rodentia          </td><td>Castoridae        </td><td>Castor            </td><td>Castor_fiber      </td><td>herbivore         </td><td>2                 </td><td>2                 </td></tr>\n",
       "\t<tr><td>X1.Eurasian.Beaver</td><td>Mammalia          </td><td>Rodentia          </td><td>Castoridae        </td><td>Castor            </td><td>Castor_fiber      </td><td>herbivore         </td><td>3                 </td><td>2                 </td></tr>\n",
       "</tbody>\n",
       "</table>\n"
      ],
      "text/latex": [
       "\\begin{tabular}{r|lllllllll}\n",
       " X.SampleID & class & order & family & genus & scientific\\_name & diet & Dataset\\_rep & N\\_links\\\\\n",
       "\\hline\n",
       "\t X1.Eurasian.Beaver & Mammalia           & Rodentia           & Castoridae         & Castor             & Castor\\_fiber     & herbivore          & 1                  & 2                 \\\\\n",
       "\t X1.Eurasian.Beaver & Mammalia           & Rodentia           & Castoridae         & Castor             & Castor\\_fiber     & herbivore          & 2                  & 2                 \\\\\n",
       "\t X1.Eurasian.Beaver & Mammalia           & Rodentia           & Castoridae         & Castor             & Castor\\_fiber     & herbivore          & 3                  & 2                 \\\\\n",
       "\\end{tabular}\n"
      ],
      "text/markdown": [
       "\n",
       "X.SampleID | class | order | family | genus | scientific_name | diet | Dataset_rep | N_links | \n",
       "|---|---|---|\n",
       "| X1.Eurasian.Beaver | Mammalia           | Rodentia           | Castoridae         | Castor             | Castor_fiber       | herbivore          | 1                  | 2                  | \n",
       "| X1.Eurasian.Beaver | Mammalia           | Rodentia           | Castoridae         | Castor             | Castor_fiber       | herbivore          | 2                  | 2                  | \n",
       "| X1.Eurasian.Beaver | Mammalia           | Rodentia           | Castoridae         | Castor             | Castor_fiber       | herbivore          | 3                  | 2                  | \n",
       "\n",
       "\n"
      ],
      "text/plain": [
       "  X.SampleID         class    order    family     genus  scientific_name\n",
       "1 X1.Eurasian.Beaver Mammalia Rodentia Castoridae Castor Castor_fiber   \n",
       "2 X1.Eurasian.Beaver Mammalia Rodentia Castoridae Castor Castor_fiber   \n",
       "3 X1.Eurasian.Beaver Mammalia Rodentia Castoridae Castor Castor_fiber   \n",
       "  diet      Dataset_rep N_links\n",
       "1 herbivore 1           2      \n",
       "2 herbivore 2           2      \n",
       "3 herbivore 3           2      "
      ]
     },
     "metadata": {},
     "output_type": "display_data"
    }
   ],
   "source": [
    "# adding metadata\n",
    "para_per_host = physeq %>%\n",
    "    sample_data %>%\n",
    "    as.matrix %>%\n",
    "    as.data.frame %>%\n",
    "    dplyr::select(X.SampleID, class, order, family, genus, scientific_name, diet) %>%\n",
    "    inner_join(para_per_host, c('X.SampleID'='Sample')) \n",
    "\n",
    "para_per_host %>% dfhead"
   ]
  },
  {
   "cell_type": "code",
   "execution_count": 146,
   "metadata": {
    "ExecuteTime": {
     "end_time": "2018-09-03T15:00:46.919980Z",
     "start_time": "2018-09-03T15:00:46.987Z"
    }
   },
   "outputs": [
    {
     "name": "stdout",
     "output_type": "stream",
     "text": [
      "   Min. 1st Qu.  Median    Mean 3rd Qu.    Max. \n",
      "    100     100     100     100     100     100 \n"
     ]
    }
   ],
   "source": [
    "# summarizing by species: check\n",
    "para_per_host %>%\n",
    "    group_by(scientific_name) %>%\n",
    "    summarize(n=n()) %>%\n",
    "    ungroup() %>%\n",
    "    .$n %>% summary %>% print"
   ]
  },
  {
   "cell_type": "code",
   "execution_count": 147,
   "metadata": {
    "ExecuteTime": {
     "end_time": "2018-09-03T15:00:48.011123Z",
     "start_time": "2018-09-03T15:00:47.796Z"
    }
   },
   "outputs": [
    {
     "name": "stdout",
     "output_type": "stream",
     "text": [
      "   Min. 1st Qu.  Median    Mean 3rd Qu.    Max. \n",
      "  0.000   1.000   2.000   2.841   4.000  19.000 \n",
      "[1] 128  15\n"
     ]
    },
    {
     "data": {
      "text/html": [
       "<table>\n",
       "<thead><tr><th scope=col>scientific_name</th><th scope=col>class</th><th scope=col>order</th><th scope=col>family</th><th scope=col>genus</th><th scope=col>diet</th><th scope=col>min_n_links</th><th scope=col>q1_n_links</th><th scope=col>mean_n_links</th><th scope=col>median_n_links</th><th scope=col>q3_n_links</th><th scope=col>max_n_links</th><th scope=col>sd_n_links</th><th scope=col>CI_low</th><th scope=col>CI_high</th></tr></thead>\n",
       "<tbody>\n",
       "\t<tr><td>Acrocephalus_scirpaceus</td><td>Aves                   </td><td>Passeriformes          </td><td>Sylviidae              </td><td>Acrocephalus           </td><td>omnivore               </td><td>4                      </td><td>6                      </td><td>12.81                  </td><td>7                      </td><td> 8                     </td><td>82                     </td><td>19.289237              </td><td>4                      </td><td>82                     </td></tr>\n",
       "\t<tr><td>Aepyceros_melampus     </td><td>Mammalia               </td><td>Artiodactyla           </td><td>Bovidae                </td><td>Aepyceros              </td><td>herbivore              </td><td>5                      </td><td>7                      </td><td>19.81                  </td><td>8                      </td><td>17                     </td><td>82                     </td><td>25.922844              </td><td>5                      </td><td>82                     </td></tr>\n",
       "\t<tr><td>Anas_platyrhynchos     </td><td>Aves                   </td><td>Anseriformes           </td><td>Anatidae               </td><td>Anas                   </td><td>omnivore               </td><td>1                      </td><td>6                      </td><td> 8.46                  </td><td>9                      </td><td>12                     </td><td>15                     </td><td> 4.008627              </td><td>1                      </td><td>15                     </td></tr>\n",
       "</tbody>\n",
       "</table>\n"
      ],
      "text/latex": [
       "\\begin{tabular}{r|lllllllllllllll}\n",
       " scientific\\_name & class & order & family & genus & diet & min\\_n\\_links & q1\\_n\\_links & mean\\_n\\_links & median\\_n\\_links & q3\\_n\\_links & max\\_n\\_links & sd\\_n\\_links & CI\\_low & CI\\_high\\\\\n",
       "\\hline\n",
       "\t Acrocephalus\\_scirpaceus & Aves                      & Passeriformes             & Sylviidae                 & Acrocephalus              & omnivore                  & 4                         & 6                         & 12.81                     & 7                         &  8                        & 82                        & 19.289237                 & 4                         & 82                       \\\\\n",
       "\t Aepyceros\\_melampus      & Mammalia                  & Artiodactyla              & Bovidae                   & Aepyceros                 & herbivore                 & 5                         & 7                         & 19.81                     & 8                         & 17                        & 82                        & 25.922844                 & 5                         & 82                       \\\\\n",
       "\t Anas\\_platyrhynchos      & Aves                      & Anseriformes              & Anatidae                  & Anas                      & omnivore                  & 1                         & 6                         &  8.46                     & 9                         & 12                        & 15                        &  4.008627                 & 1                         & 15                       \\\\\n",
       "\\end{tabular}\n"
      ],
      "text/markdown": [
       "\n",
       "scientific_name | class | order | family | genus | diet | min_n_links | q1_n_links | mean_n_links | median_n_links | q3_n_links | max_n_links | sd_n_links | CI_low | CI_high | \n",
       "|---|---|---|\n",
       "| Acrocephalus_scirpaceus | Aves                    | Passeriformes           | Sylviidae               | Acrocephalus            | omnivore                | 4                       | 6                       | 12.81                   | 7                       |  8                      | 82                      | 19.289237               | 4                       | 82                      | \n",
       "| Aepyceros_melampus      | Mammalia                | Artiodactyla            | Bovidae                 | Aepyceros               | herbivore               | 5                       | 7                       | 19.81                   | 8                       | 17                      | 82                      | 25.922844               | 5                       | 82                      | \n",
       "| Anas_platyrhynchos      | Aves                    | Anseriformes            | Anatidae                | Anas                    | omnivore                | 1                       | 6                       |  8.46                   | 9                       | 12                      | 15                      |  4.008627               | 1                       | 15                      | \n",
       "\n",
       "\n"
      ],
      "text/plain": [
       "  scientific_name         class    order         family    genus       \n",
       "1 Acrocephalus_scirpaceus Aves     Passeriformes Sylviidae Acrocephalus\n",
       "2 Aepyceros_melampus      Mammalia Artiodactyla  Bovidae   Aepyceros   \n",
       "3 Anas_platyrhynchos      Aves     Anseriformes  Anatidae  Anas        \n",
       "  diet      min_n_links q1_n_links mean_n_links median_n_links q3_n_links\n",
       "1 omnivore  4           6          12.81        7               8        \n",
       "2 herbivore 5           7          19.81        8              17        \n",
       "3 omnivore  1           6           8.46        9              12        \n",
       "  max_n_links sd_n_links CI_low CI_high\n",
       "1 82          19.289237  4      82     \n",
       "2 82          25.922844  5      82     \n",
       "3 15           4.008627  1      15     "
      ]
     },
     "metadata": {},
     "output_type": "display_data"
    }
   ],
   "source": [
    "# summarizing by species\n",
    "alpha=0.95\n",
    "\n",
    "para_per_host = para_per_host %>%\n",
    "    group_by(scientific_name, class, order, family, genus, diet) %>%\n",
    "    summarize(min_n_links = min(N_links),\n",
    "              q1_n_links = quantile(N_links, 0.25),\n",
    "              mean_n_links = mean(N_links),\n",
    "              median_n_links = median(N_links),\n",
    "              q3_n_links = quantile(N_links, 0.75),\n",
    "              max_n_links = max(N_links),\n",
    "              sd_n_links = sd(N_links),\n",
    "              CI_low = quantile(N_links, (1-alpha)/2),\n",
    "              CI_high = quantile(N_links, alpha+((1-alpha)/2))) %>%\n",
    "    ungroup() %>%\n",
    "    mutate(scientific_name = scientific_name %>% reorder(-median_n_links))\n",
    "\n",
    "para_per_host$CI_low %>% summary %>% print\n",
    "para_per_host %>% dfhead"
   ]
  },
  {
   "cell_type": "code",
   "execution_count": 148,
   "metadata": {
    "ExecuteTime": {
     "end_time": "2018-09-03T15:00:49.772684Z",
     "start_time": "2018-09-03T15:00:48.764Z"
    }
   },
   "outputs": [
    {
     "data": {
      "image/png": "[encoded data removed]",
      "text/plain": [
       "plot without title"
      ]
     },
     "metadata": {},
     "output_type": "display_data"
    }
   ],
   "source": [
    "# plotting distribution\n",
    "p = ggplot(para_per_host, aes(scientific_name, median_n_links, color=class)) +\n",
    "    geom_linerange(aes(ymin=median_n_links-sd_n_links,\n",
    "                       ymax=median_n_links+sd_n_links)) +\n",
    "    geom_point() +\n",
    "    theme_bw() +\n",
    "    theme(\n",
    "        axis.text.x = element_blank()\n",
    "    )\n",
    "\n",
    "options(repr.plot.width=10, repr.plot.height=4)\n",
    "plot(p)"
   ]
  },
  {
   "cell_type": "code",
   "execution_count": 149,
   "metadata": {
    "ExecuteTime": {
     "end_time": "2018-09-03T15:00:51.437106Z",
     "start_time": "2018-09-03T15:00:50.446Z"
    }
   },
   "outputs": [
    {
     "name": "stdout",
     "output_type": "stream",
     "text": [
      "File written: /ebio/abt3_projects/Georg_animal_feces/data/host_specific/parafit/.figures/IndD-sens_parafit_nLinks-byClass.pdf \n"
     ]
    },
    {
     "data": {
      "image/png": "[encoded data removed]",
      "text/plain": [
       "plot without title"
      ]
     },
     "metadata": {},
     "output_type": "display_data"
    }
   ],
   "source": [
    "# plotting distribution\n",
    "p = para_per_host %>%\n",
    "    ggplot(aes(class, mean_n_links)) +\n",
    "    geom_boxplot() +\n",
    "    scale_y_log10() +\n",
    "    labs(x='Host class', y='No. of host-symbiont links') +\n",
    "    theme_bw() +\n",
    "    theme(\n",
    "        axis.text.x = element_text(angle=45, hjust=1)\n",
    "    )\n",
    "\n",
    "options(repr.plot.width=4, repr.plot.height=3)\n",
    "plot_write(p, file='IndD-sens_parafit_nLinks-byClass.pdf')"
   ]
  },
  {
   "cell_type": "code",
   "execution_count": 152,
   "metadata": {
    "ExecuteTime": {
     "end_time": "2018-09-03T15:03:32.299289Z",
     "start_time": "2018-09-03T15:03:30.358Z"
    }
   },
   "outputs": [
    {
     "name": "stdout",
     "output_type": "stream",
     "text": [
      "File written: /ebio/abt3_projects/Georg_animal_feces/data/host_specific/parafit/.figures/IndD-sens_parafit_nLinks-byClassDiet.pdf \n"
     ]
    },
    {
     "data": {
      "image/png": "[encoded data removed]",
      "text/plain": [
       "plot without title"
      ]
     },
     "metadata": {},
     "output_type": "display_data"
    }
   ],
   "source": [
    "# plotting distribution\n",
    "p = para_per_host %>%\n",
    "    ggplot(aes(class, mean_n_links, color=diet)) +\n",
    "    geom_boxplot() +\n",
    "    scale_y_log10() +\n",
    "    labs(x='Class', y='No. of host-symbiont links') +\n",
    "    theme_bw() +\n",
    "    theme(\n",
    "        axis.text.x = element_text(angle=45, hjust=1)\n",
    "    )\n",
    "\n",
    "options(repr.plot.width=5, repr.plot.height=3)\n",
    "plot_write(p, file='IndD-sens_parafit_nLinks-byClassDiet.pdf')"
   ]
  },
  {
   "cell_type": "code",
   "execution_count": 124,
   "metadata": {
    "ExecuteTime": {
     "end_time": "2018-09-03T13:32:25.268272Z",
     "start_time": "2018-09-03T13:32:25.349Z"
    }
   },
   "outputs": [],
   "source": [
    "# # plotting distribution\n",
    "# p = para_per_host %>%\n",
    "#     filter(CI_low > 0,\n",
    "#            class == 'Mammalia') %>%\n",
    "#     mutate(scientific_name = scientific_name %>% reorder(median_n_links)) %>%\n",
    "#     ggplot(aes(scientific_name, median_n_links, color=class)) +\n",
    "#     geom_linerange(aes(ymin=median_n_links-sd_n_links,\n",
    "#                        ymax=median_n_links+sd_n_links)) +\n",
    "#     geom_point() +\n",
    "#     labs(y='No. of links (95% CI)', x='Host') +\n",
    "#     coord_flip() +\n",
    "#     theme_bw() +\n",
    "#     theme(\n",
    "#         axis.text.y = element_text(size=8)\n",
    "#     )\n",
    "\n",
    "# options(repr.plot.width=6, repr.plot.height=7)\n",
    "# plot(p)"
   ]
  },
  {
   "cell_type": "code",
   "execution_count": 125,
   "metadata": {
    "ExecuteTime": {
     "end_time": "2018-09-03T13:32:29.821962Z",
     "start_time": "2018-09-03T13:32:29.898Z"
    }
   },
   "outputs": [],
   "source": [
    "# # plotting distribution\n",
    "# p = para_per_host %>%\n",
    "#     filter(CI_low > 0) %>%\n",
    "#     mutate(scientific_name = scientific_name %>% reorder(CI_high)) %>%\n",
    "#     ggplot(aes(scientific_name, median_n_links, color=class)) +\n",
    "#     geom_linerange(aes(ymin=CI_low,\n",
    "#                        ymax=CI_high)) +\n",
    "#     geom_point(aes(y=CI_low), size=0.5) +\n",
    "#     geom_point(aes(y=CI_high), size=0.5) +\n",
    "#     labs(y='No. of links (95% CI)', x='Host') +\n",
    "#     coord_flip() +\n",
    "#     theme_bw() +\n",
    "#     theme(\n",
    "#         axis.text.y = element_text(size=8)\n",
    "#     )\n",
    "\n",
    "# options(repr.plot.width=6, repr.plot.height=11)\n",
    "# plot(p)"
   ]
  },
  {
   "cell_type": "code",
   "execution_count": 126,
   "metadata": {
    "ExecuteTime": {
     "end_time": "2018-09-03T13:32:32.607426Z",
     "start_time": "2018-09-03T13:32:32.677Z"
    }
   },
   "outputs": [],
   "source": [
    "# # plotting distribution\n",
    "# p = para_per_host %>%\n",
    "#     filter(CI_low > 0, \n",
    "#            class == 'Mammalia',\n",
    "#            !is.na(CI_low)) %>%\n",
    "#     mutate(scientific_name = scientific_name %>% reorder(CI_high)) %>%\n",
    "#     ggplot(aes(scientific_name, median_n_links, color=order)) +\n",
    "#     geom_linerange(aes(ymin=CI_low,\n",
    "#                        ymax=CI_high)) +\n",
    "#     geom_point(aes(y=CI_low), size=0.5) +\n",
    "#     geom_point(aes(y=CI_high), size=0.5) +\n",
    "#     labs(y='No. of links (95% CI)', x='Host') +\n",
    "#     coord_flip() +\n",
    "#     theme_bw() +\n",
    "#     theme(\n",
    "#         axis.text.y = element_text(size=8)\n",
    "#     )\n",
    "\n",
    "# options(repr.plot.width=6, repr.plot.height=8)\n",
    "# plot(p)"
   ]
  },
  {
   "cell_type": "markdown",
   "metadata": {},
   "source": [
    "# sessionInfo"
   ]
  },
  {
   "cell_type": "code",
   "execution_count": 49,
   "metadata": {
    "ExecuteTime": {
     "end_time": "2018-08-21T06:41:52.939379Z",
     "start_time": "2018-08-20T11:59:28.925Z"
    }
   },
   "outputs": [
    {
     "data": {
      "text/plain": [
       "R version 3.4.1 (2017-06-30)\n",
       "Platform: x86_64-pc-linux-gnu (64-bit)\n",
       "Running under: Ubuntu 18.04.1 LTS\n",
       "\n",
       "Matrix products: default\n",
       "BLAS: /ebio/abt3_projects/software/miniconda3_gt4.4/envs/py3_physeq_eco/lib/R/lib/libRblas.so\n",
       "LAPACK: /ebio/abt3_projects/software/miniconda3_gt4.4/envs/py3_physeq_eco/lib/R/lib/libRlapack.so\n",
       "\n",
       "locale:\n",
       " [1] LC_CTYPE=en_US.UTF-8       LC_NUMERIC=C              \n",
       " [3] LC_TIME=en_US.UTF-8        LC_COLLATE=en_US.UTF-8    \n",
       " [5] LC_MONETARY=en_US.UTF-8    LC_MESSAGES=en_US.UTF-8   \n",
       " [7] LC_PAPER=en_US.UTF-8       LC_NAME=C                 \n",
       " [9] LC_ADDRESS=C               LC_TELEPHONE=C            \n",
       "[11] LC_MEASUREMENT=en_US.UTF-8 LC_IDENTIFICATION=C       \n",
       "\n",
       "attached base packages:\n",
       "[1] stats     graphics  grDevices utils     datasets  methods   base     \n",
       "\n",
       "other attached packages:\n",
       "[1] bindrcpp_0.2.2          future.apply_1.0.0      future.batchtools_0.7.1\n",
       "[4] future_1.8.1            ape_5.1                 phyloseq_1.22.3        \n",
       "[7] ggplot2_3.0.0           tidyr_0.8.1             dplyr_0.7.6            \n",
       "\n",
       "loaded via a namespace (and not attached):\n",
       " [1] Biobase_2.38.0      jsonlite_1.5        splines_3.4.1      \n",
       " [4] foreach_1.4.4       assertthat_0.2.0    stats4_3.4.1       \n",
       " [7] base64url_1.4       progress_1.2.0      globals_0.12.1     \n",
       "[10] pillar_1.2.2        backports_1.1.2     lattice_0.20-34    \n",
       "[13] glue_1.3.0          uuid_0.1-2          digest_0.6.15      \n",
       "[16] XVector_0.18.0      checkmate_1.8.5     colorspace_1.3-2   \n",
       "[19] htmltools_0.3.6     Matrix_1.2-14       plyr_1.8.4         \n",
       "[22] pkgconfig_2.0.1     listenv_0.7.0       zlibbioc_1.24.0    \n",
       "[25] purrr_0.2.4         scales_0.5.0        brew_1.0-6         \n",
       "[28] tibble_1.4.2        mgcv_1.8-24         IRanges_2.12.0     \n",
       "[31] withr_2.1.1         repr_0.15.0         BiocGenerics_0.24.0\n",
       "[34] lazyeval_0.2.1      survival_2.42-6     magrittr_1.5       \n",
       "[37] crayon_1.3.4        evaluate_0.10.1     doParallel_1.0.11  \n",
       "[40] nlme_3.1-131        MASS_7.3-50         vegan_2.4-3        \n",
       "[43] prettyunits_1.0.2   tools_3.4.1         data.table_1.11.4  \n",
       "[46] hms_0.3             stringr_1.3.1       S4Vectors_0.16.0   \n",
       "[49] munsell_0.5.0       cluster_2.0.6       Biostrings_2.46.0  \n",
       "[52] ade4_1.7-11         compiler_3.4.1      rlang_0.2.1        \n",
       "[55] rhdf5_2.22.0        grid_3.4.1          pbdZMQ_0.3-2       \n",
       "[58] iterators_1.0.10    IRkernel_0.8.12     biomformat_1.6.0   \n",
       "[61] rappdirs_0.3.1      igraph_1.2.1        base64enc_0.1-3    \n",
       "[64] gtable_0.2.0        codetools_0.2-15    multtest_2.34.0    \n",
       "[67] reshape2_1.4.3      R6_2.2.2            bindr_0.1.1        \n",
       "[70] permute_0.9-4       stringi_1.2.3       parallel_3.4.1     \n",
       "[73] IRdisplay_0.4.4     Rcpp_0.12.17        batchtools_0.9.10  \n",
       "[76] tidyselect_0.2.4   "
      ]
     },
     "metadata": {},
     "output_type": "display_data"
    }
   ],
   "source": [
    "sessionInfo()"
   ]
  },
  {
   "cell_type": "markdown",
   "metadata": {},
   "source": [
    "***"
   ]
  },
  {
   "cell_type": "markdown",
   "metadata": {},
   "source": [
    "# Sandbox"
   ]
  },
  {
   "cell_type": "code",
   "execution_count": 44,
   "metadata": {
    "ExecuteTime": {
     "end_time": "2018-08-21T06:41:52.924583Z",
     "start_time": "2018-08-20T11:57:11.532Z"
    }
   },
   "outputs": [
    {
     "name": "stdout",
     "output_type": "stream",
     "text": [
      "n.hosts = 128 , n.parasites = 408 \n",
      "Computation time = 45507.609000  sec \n"
     ]
    },
    {
     "data": {
      "text/html": [
       "6"
      ],
      "text/latex": [
       "6"
      ],
      "text/markdown": [
       "6"
      ],
      "text/plain": [
       "[1] 6"
      ]
     },
     "metadata": {},
     "output_type": "display_data"
    }
   ],
   "source": [
    "parafit_res = ape::parafit(parafit_l[[1]]$host.D,\n",
    "             parafit_l[[1]]$para.D,\n",
    "             parafit_l[[1]]$HP,\n",
    "             nperm=99,\n",
    "             correction=\"cailliez\",\n",
    "             test.links=TRUE)\n",
    "\n",
    "parafit_res %>% length"
   ]
  },
  {
   "cell_type": "code",
   "execution_count": 45,
   "metadata": {
    "ExecuteTime": {
     "end_time": "2018-08-21T06:41:52.928459Z",
     "start_time": "2018-08-20T11:57:16.676Z"
    }
   },
   "outputs": [
    {
     "data": {
      "text/plain": [
       "              Length Class  Mode   \n",
       "ParaFitGlobal     1  -none- numeric\n",
       "p.global          1  -none- numeric\n",
       "link.table    15030  -none- numeric\n",
       "para.per.host   128  -none- numeric\n",
       "host.per.para   408  -none- numeric\n",
       "nperm             1  -none- numeric"
      ]
     },
     "metadata": {},
     "output_type": "display_data"
    }
   ],
   "source": [
    "parafit_res %>% summary"
   ]
  },
  {
   "cell_type": "code",
   "execution_count": 46,
   "metadata": {
    "ExecuteTime": {
     "end_time": "2018-08-21T06:41:52.931133Z",
     "start_time": "2018-08-20T11:57:17.906Z"
    }
   },
   "outputs": [
    {
     "data": {
      "text/html": [
       "816.084980973265"
      ],
      "text/latex": [
       "816.084980973265"
      ],
      "text/markdown": [
       "816.084980973265"
      ],
      "text/plain": [
       "[1] 816.085"
      ]
     },
     "metadata": {},
     "output_type": "display_data"
    }
   ],
   "source": [
    "parafit_res$ParaFitGlobal"
   ]
  },
  {
   "cell_type": "code",
   "execution_count": 47,
   "metadata": {
    "ExecuteTime": {
     "end_time": "2018-08-21T06:41:52.933881Z",
     "start_time": "2018-08-20T11:57:18.019Z"
    }
   },
   "outputs": [
    {
     "data": {
      "text/html": [
       "0.01"
      ],
      "text/latex": [
       "0.01"
      ],
      "text/markdown": [
       "0.01"
      ],
      "text/plain": [
       "[1] 0.01"
      ]
     },
     "metadata": {},
     "output_type": "display_data"
    }
   ],
   "source": [
    "parafit_res$p.global"
   ]
  },
  {
   "cell_type": "code",
   "execution_count": 48,
   "metadata": {
    "ExecuteTime": {
     "end_time": "2018-08-21T06:41:52.936686Z",
     "start_time": "2018-08-20T11:57:23.573Z"
    }
   },
   "outputs": [
    {
     "data": {
      "text/html": [
       "<table>\n",
       "<thead><tr><th scope=col>Host</th><th scope=col>Parasite</th><th scope=col>F1.stat</th><th scope=col>p.F1</th><th scope=col>F2.stat</th><th scope=col>p.F2</th></tr></thead>\n",
       "<tbody>\n",
       "\t<tr><td>1            </td><td> 14          </td><td>-5.0910155   </td><td>1.00         </td><td>-0.0121995780</td><td>1.00         </td></tr>\n",
       "\t<tr><td>1            </td><td>235          </td><td> 2.7454659   </td><td>0.01         </td><td> 0.0065789479</td><td>0.01         </td></tr>\n",
       "\t<tr><td>2            </td><td>  4          </td><td> 6.0176295   </td><td>0.01         </td><td> 0.0144200190</td><td>0.01         </td></tr>\n",
       "\t<tr><td>2            </td><td> 27          </td><td>-4.7906314   </td><td>1.00         </td><td>-0.0114797689</td><td>1.00         </td></tr>\n",
       "\t<tr><td>2            </td><td> 48          </td><td>-0.3639119   </td><td>0.75         </td><td>-0.0008720405</td><td>0.89         </td></tr>\n",
       "\t<tr><td>2            </td><td> 51          </td><td> 0.2635628   </td><td>0.45         </td><td> 0.0006315743</td><td>0.21         </td></tr>\n",
       "</tbody>\n",
       "</table>\n"
      ],
      "text/latex": [
       "\\begin{tabular}{llllll}\n",
       " Host & Parasite & F1.stat & p.F1 & F2.stat & p.F2\\\\\n",
       "\\hline\n",
       "\t 1             &  14           & -5.0910155    & 1.00          & -0.0121995780 & 1.00         \\\\\n",
       "\t 1             & 235           &  2.7454659    & 0.01          &  0.0065789479 & 0.01         \\\\\n",
       "\t 2             &   4           &  6.0176295    & 0.01          &  0.0144200190 & 0.01         \\\\\n",
       "\t 2             &  27           & -4.7906314    & 1.00          & -0.0114797689 & 1.00         \\\\\n",
       "\t 2             &  48           & -0.3639119    & 0.75          & -0.0008720405 & 0.89         \\\\\n",
       "\t 2             &  51           &  0.2635628    & 0.45          &  0.0006315743 & 0.21         \\\\\n",
       "\\end{tabular}\n"
      ],
      "text/markdown": [
       "\n",
       "Host | Parasite | F1.stat | p.F1 | F2.stat | p.F2 | \n",
       "|---|---|---|---|---|---|\n",
       "| 1             |  14           | -5.0910155    | 1.00          | -0.0121995780 | 1.00          | \n",
       "| 1             | 235           |  2.7454659    | 0.01          |  0.0065789479 | 0.01          | \n",
       "| 2             |   4           |  6.0176295    | 0.01          |  0.0144200190 | 0.01          | \n",
       "| 2             |  27           | -4.7906314    | 1.00          | -0.0114797689 | 1.00          | \n",
       "| 2             |  48           | -0.3639119    | 0.75          | -0.0008720405 | 0.89          | \n",
       "| 2             |  51           |  0.2635628    | 0.45          |  0.0006315743 | 0.21          | \n",
       "\n",
       "\n"
      ],
      "text/plain": [
       "     Host Parasite F1.stat    p.F1 F2.stat       p.F2\n",
       "[1,] 1     14      -5.0910155 1.00 -0.0121995780 1.00\n",
       "[2,] 1    235       2.7454659 0.01  0.0065789479 0.01\n",
       "[3,] 2      4       6.0176295 0.01  0.0144200190 0.01\n",
       "[4,] 2     27      -4.7906314 1.00 -0.0114797689 1.00\n",
       "[5,] 2     48      -0.3639119 0.75 -0.0008720405 0.89\n",
       "[6,] 2     51       0.2635628 0.45  0.0006315743 0.21"
      ]
     },
     "metadata": {},
     "output_type": "display_data"
    }
   ],
   "source": [
    "parafit_res$link.table %>% head"
   ]
  },
  {
   "cell_type": "markdown",
   "metadata": {},
   "source": [
    "#### notes\n",
    "\n",
    "* `F1` = ParaFit1.perm\n",
    "* `F2` = ParaFit2.perm\n",
    "\n",
    "From Legendre et al., 2002: \n",
    "\n",
    "> In summary, the ParaFitLink1 statistic gen- erally behaved better in simulations and\n",
    "should be preferred to ParaFitLink2"
   ]
  },
  {
   "cell_type": "code",
   "execution_count": 50,
   "metadata": {
    "ExecuteTime": {
     "end_time": "2018-08-21T06:41:52.941571Z",
     "start_time": "2018-08-20T12:41:11.003Z"
    }
   },
   "outputs": [],
   "source": [
    "send_email('http://127.0.0.1:9705/notebooks/notebooks/16S/4_host_specific/parafit/01_IndD-sens.ipynb')"
   ]
  },
  {
   "cell_type": "code",
   "execution_count": null,
   "metadata": {},
   "outputs": [],
   "source": []
  }
 ],
 "metadata": {
  "kernelspec": {
   "display_name": "R [conda env:py3_physeq_eco]",
   "language": "R",
   "name": "conda-env-py3_physeq_eco-r"
  },
  "language_info": {
   "codemirror_mode": "r",
   "file_extension": ".r",
   "mimetype": "text/x-r-source",
   "name": "R",
   "pygments_lexer": "r",
   "version": "3.4.1"
  },
  "notify_time": "30",
  "toc": {
   "base_numbering": 1,
   "nav_menu": {},
   "number_sections": true,
   "sideBar": true,
   "skip_h1_title": false,
   "title_cell": "Table of Contents",
   "title_sidebar": "Contents",
   "toc_cell": true,
   "toc_position": {},
   "toc_section_display": true,
   "toc_window_display": true
  }
 },
 "nbformat": 4,
 "nbformat_minor": 2
}
