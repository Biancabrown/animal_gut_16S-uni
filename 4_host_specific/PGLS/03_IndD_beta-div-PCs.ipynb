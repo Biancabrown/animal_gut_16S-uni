{
 "cells": [
  {
   "cell_type": "markdown",
   "metadata": {
    "toc": true
   },
   "source": [
    "<h1>Table of Contents<span class=\"tocSkip\"></span></h1>\n",
    "<div class=\"toc\" style=\"margin-top: 1em;\"><ul class=\"toc-item\"><li><span><a href=\"#Goal\" data-toc-modified-id=\"Goal-1\"><span class=\"toc-item-num\">1&nbsp;&nbsp;</span>Goal</a></span></li><li><span><a href=\"#Var\" data-toc-modified-id=\"Var-2\"><span class=\"toc-item-num\">2&nbsp;&nbsp;</span>Var</a></span></li><li><span><a href=\"#Init\" data-toc-modified-id=\"Init-3\"><span class=\"toc-item-num\">3&nbsp;&nbsp;</span>Init</a></span><ul class=\"toc-item\"><li><span><a href=\"#Functions\" data-toc-modified-id=\"Functions-3.1\"><span class=\"toc-item-num\">3.1&nbsp;&nbsp;</span>Functions</a></span></li></ul></li><li><span><a href=\"#Load\" data-toc-modified-id=\"Load-4\"><span class=\"toc-item-num\">4&nbsp;&nbsp;</span>Load</a></span></li><li><span><a href=\"#Format-data\" data-toc-modified-id=\"Format-data-5\"><span class=\"toc-item-num\">5&nbsp;&nbsp;</span>Format data</a></span></li><li><span><a href=\"#Host-tree-subsample\" data-toc-modified-id=\"Host-tree-subsample-6\"><span class=\"toc-item-num\">6&nbsp;&nbsp;</span>Host tree subsample</a></span></li><li><span><a href=\"#Creating-PCs-for-each-tree\" data-toc-modified-id=\"Creating-PCs-for-each-tree-7\"><span class=\"toc-item-num\">7&nbsp;&nbsp;</span>Creating PCs for each tree</a></span></li><li><span><a href=\"#PGLS\" data-toc-modified-id=\"PGLS-8\"><span class=\"toc-item-num\">8&nbsp;&nbsp;</span>PGLS</a></span><ul class=\"toc-item\"><li><span><a href=\"#Functions\" data-toc-modified-id=\"Functions-8.1\"><span class=\"toc-item-num\">8.1&nbsp;&nbsp;</span>Functions</a></span></li><li><span><a href=\"#Diet\" data-toc-modified-id=\"Diet-8.2\"><span class=\"toc-item-num\">8.2&nbsp;&nbsp;</span>Diet</a></span><ul class=\"toc-item\"><li><span><a href=\"#Weighted-Unifrac\" data-toc-modified-id=\"Weighted-Unifrac-8.2.1\"><span class=\"toc-item-num\">8.2.1&nbsp;&nbsp;</span>Weighted Unifrac</a></span></li><li><span><a href=\"#Unweighted-Unifrac\" data-toc-modified-id=\"Unweighted-Unifrac-8.2.2\"><span class=\"toc-item-num\">8.2.2&nbsp;&nbsp;</span>Unweighted Unifrac</a></span></li></ul></li><li><span><a href=\"#Summarizing\" data-toc-modified-id=\"Summarizing-8.3\"><span class=\"toc-item-num\">8.3&nbsp;&nbsp;</span>Summarizing</a></span></li></ul></li><li><span><a href=\"#Significant-vars\" data-toc-modified-id=\"Significant-vars-9\"><span class=\"toc-item-num\">9&nbsp;&nbsp;</span>Significant vars</a></span></li><li><span><a href=\"#sessionInfo\" data-toc-modified-id=\"sessionInfo-10\"><span class=\"toc-item-num\">10&nbsp;&nbsp;</span>sessionInfo</a></span></li></ul></div>"
   ]
  },
  {
   "cell_type": "markdown",
   "metadata": {},
   "source": [
    "# Goal\n",
    "\n",
    "* Conduct PGLS on beta-diversity PCoA PCs"
   ]
  },
  {
   "cell_type": "markdown",
   "metadata": {},
   "source": [
    "# Var"
   ]
  },
  {
   "cell_type": "code",
   "execution_count": 1,
   "metadata": {
    "ExecuteTime": {
     "end_time": "2018-07-23T12:26:02.882615Z",
     "start_time": "2018-07-23T12:26:02.369Z"
    }
   },
   "outputs": [],
   "source": [
    "work_dir = '/ebio/abt3_projects/Georg_animal_feces/data/host_specific/phylosignal/host_TT/PGLS/'\n",
    "\n",
    "# phyloseq\n",
    "physeq_file = '/ebio/abt3_projects/Georg_animal_feces/data/16S/LLA/phyloseq/physeq_r5k.RDS'\n",
    "\n",
    "# beta-div distance matrices\n",
    "beta_div_file = '/ebio/abt3_projects/Georg_animal_feces/data/16S/LLA/diversity/beta_div.RDS'\n",
    "\n",
    "# host phylogeny\n",
    "host_tree_file = '/ebio/abt3_projects/Georg_animal_feces/data/animal/phylogeny/TT/unified_metadata_complete_20180625_rn_16S-r5k_IndD.nwk'\n",
    "\n",
    "# params\n",
    "threads = 12"
   ]
  },
  {
   "cell_type": "markdown",
   "metadata": {},
   "source": [
    "# Init"
   ]
  },
  {
   "cell_type": "code",
   "execution_count": 2,
   "metadata": {
    "ExecuteTime": {
     "end_time": "2018-07-23T12:26:16.971161Z",
     "start_time": "2018-07-23T12:26:02.371Z"
    }
   },
   "outputs": [
    {
     "name": "stderr",
     "output_type": "stream",
     "text": [
      "\n",
      "Attaching package: ‘dplyr’\n",
      "\n",
      "The following objects are masked from ‘package:stats’:\n",
      "\n",
      "    filter, lag\n",
      "\n",
      "The following objects are masked from ‘package:base’:\n",
      "\n",
      "    intersect, setdiff, setequal, union\n",
      "\n",
      "Loading required package: MASS\n",
      "\n",
      "Attaching package: ‘MASS’\n",
      "\n",
      "The following object is masked from ‘package:dplyr’:\n",
      "\n",
      "    select\n",
      "\n",
      "Loading required package: mvtnorm\n"
     ]
    }
   ],
   "source": [
    "library(dplyr)\n",
    "library(tidyr)\n",
    "library(ggplot2)\n",
    "library(ape)\n",
    "library(phyloseq)\n",
    "library(ade4)\n",
    "library(ape)\n",
    "library(caper)\n",
    "source('/ebio/abt3_projects/Georg_animal_feces/code/init.R') "
   ]
  },
  {
   "cell_type": "code",
   "execution_count": 3,
   "metadata": {
    "ExecuteTime": {
     "end_time": "2018-07-23T12:26:17.331790Z",
     "start_time": "2018-07-23T12:26:02.374Z"
    }
   },
   "outputs": [
    {
     "name": "stdout",
     "output_type": "stream",
     "text": [
      "Directory already exists: /ebio/abt3_projects/Georg_animal_feces/data/host_specific/phylosignal/host_TT/PGLS/ \n"
     ]
    }
   ],
   "source": [
    "make_dir(work_dir)\n",
    "setwd(work_dir)"
   ]
  },
  {
   "cell_type": "markdown",
   "metadata": {},
   "source": [
    "## Functions"
   ]
  },
  {
   "cell_type": "markdown",
   "metadata": {},
   "source": [
    "# Load"
   ]
  },
  {
   "cell_type": "code",
   "execution_count": 4,
   "metadata": {
    "ExecuteTime": {
     "end_time": "2018-07-23T12:26:19.407699Z",
     "start_time": "2018-07-23T12:26:02.376Z"
    }
   },
   "outputs": [
    {
     "name": "stderr",
     "output_type": "stream",
     "text": [
      "Warning message in class(X) <- NULL:\n",
      "“Setting class(x) to NULL;   result will no longer be an S4 object”"
     ]
    },
    {
     "name": "stdout",
     "output_type": "stream",
     "text": [
      "[1] 213  11\n"
     ]
    },
    {
     "data": {
      "text/html": [
       "<table>\n",
       "<thead><tr><th scope=col>X.SampleID</th><th scope=col>scientific_name</th><th scope=col>diet</th><th scope=col>diet_vertebrate</th><th scope=col>diet_invertebrate</th><th scope=col>diet_fruit</th><th scope=col>diet_flowers_nectar_pollen</th><th scope=col>diet_leaves_branches_bark_buds</th><th scope=col>diet_seeds</th><th scope=col>diet_grass_waterplants</th><th scope=col>diet_roots_tubers</th></tr></thead>\n",
       "<tbody>\n",
       "\t<tr><td>X1.Eurasian.Beaver</td><td>Castor_fiber      </td><td>herbivore         </td><td>no                </td><td>no                </td><td>no                </td><td>no                </td><td>yes               </td><td>no                </td><td>yes               </td><td>yes               </td></tr>\n",
       "\t<tr><td>X101.Horse        </td><td>Equus_caballus    </td><td>herbivore         </td><td>no                </td><td>no                </td><td>no                </td><td>no                </td><td>no                </td><td>yes               </td><td>yes               </td><td>no                </td></tr>\n",
       "\t<tr><td>X102.Kulan        </td><td>Equus_hemionus    </td><td>herbivore         </td><td>no                </td><td>no                </td><td>no                </td><td>no                </td><td>yes               </td><td>no                </td><td>yes               </td><td>no                </td></tr>\n",
       "</tbody>\n",
       "</table>\n"
      ],
      "text/latex": [
       "\\begin{tabular}{r|lllllllllll}\n",
       " X.SampleID & scientific\\_name & diet & diet\\_vertebrate & diet\\_invertebrate & diet\\_fruit & diet\\_flowers\\_nectar\\_pollen & diet\\_leaves\\_branches\\_bark\\_buds & diet\\_seeds & diet\\_grass\\_waterplants & diet\\_roots\\_tubers\\\\\n",
       "\\hline\n",
       "\t X1.Eurasian.Beaver & Castor\\_fiber     & herbivore          & no                 & no                 & no                 & no                 & yes                & no                 & yes                & yes               \\\\\n",
       "\t X101.Horse         & Equus\\_caballus   & herbivore          & no                 & no                 & no                 & no                 & no                 & yes                & yes                & no                \\\\\n",
       "\t X102.Kulan         & Equus\\_hemionus   & herbivore          & no                 & no                 & no                 & no                 & yes                & no                 & yes                & no                \\\\\n",
       "\\end{tabular}\n"
      ],
      "text/markdown": [
       "\n",
       "X.SampleID | scientific_name | diet | diet_vertebrate | diet_invertebrate | diet_fruit | diet_flowers_nectar_pollen | diet_leaves_branches_bark_buds | diet_seeds | diet_grass_waterplants | diet_roots_tubers | \n",
       "|---|---|---|\n",
       "| X1.Eurasian.Beaver | Castor_fiber       | herbivore          | no                 | no                 | no                 | no                 | yes                | no                 | yes                | yes                | \n",
       "| X101.Horse         | Equus_caballus     | herbivore          | no                 | no                 | no                 | no                 | no                 | yes                | yes                | no                 | \n",
       "| X102.Kulan         | Equus_hemionus     | herbivore          | no                 | no                 | no                 | no                 | yes                | no                 | yes                | no                 | \n",
       "\n",
       "\n"
      ],
      "text/plain": [
       "  X.SampleID         scientific_name diet      diet_vertebrate\n",
       "1 X1.Eurasian.Beaver Castor_fiber    herbivore no             \n",
       "2 X101.Horse         Equus_caballus  herbivore no             \n",
       "3 X102.Kulan         Equus_hemionus  herbivore no             \n",
       "  diet_invertebrate diet_fruit diet_flowers_nectar_pollen\n",
       "1 no                no         no                        \n",
       "2 no                no         no                        \n",
       "3 no                no         no                        \n",
       "  diet_leaves_branches_bark_buds diet_seeds diet_grass_waterplants\n",
       "1 yes                            no         yes                   \n",
       "2 no                             yes        yes                   \n",
       "3 yes                            no         yes                   \n",
       "  diet_roots_tubers\n",
       "1 yes              \n",
       "2 no               \n",
       "3 no               "
      ]
     },
     "metadata": {},
     "output_type": "display_data"
    }
   ],
   "source": [
    "# metadata table\n",
    "metadata = readRDS(physeq_file) %>%\n",
    "    sample_data %>%\n",
    "    as.matrix %>%\n",
    "    as.data.frame %>%\n",
    "    mutate(X.SampleID = rownames(.)) %>%\n",
    "    dplyr::select(X.SampleID, scientific_name, diet, \n",
    "                  diet_vertebrate,diet_invertebrate,diet_fruit,\n",
    "                  diet_flowers_nectar_pollen,diet_leaves_branches_bark_buds,\n",
    "                  diet_seeds,diet_grass_waterplants,diet_roots_tubers) %>%\n",
    "    mutate(scientific_name = gsub(' ', '_', scientific_name)) %>%\n",
    "    as.data.frame\n",
    "\n",
    "rownames(metadata) = metadata$SampleID\n",
    "metadata %>% status"
   ]
  },
  {
   "cell_type": "code",
   "execution_count": 5,
   "metadata": {
    "ExecuteTime": {
     "end_time": "2018-07-23T12:26:19.471784Z",
     "start_time": "2018-07-23T12:26:02.377Z"
    }
   },
   "outputs": [
    {
     "data": {
      "text/plain": [
       "\n",
       "Phylogenetic tree with 213 tips and 177 internal nodes.\n",
       "\n",
       "Tip labels:\n",
       "\tX256.Zander, F302.Northern.Pike, X188.Brook.Trout, F300.Asp, X330.Ide, X327.Silver.Bream, ...\n",
       "Node labels:\n",
       "\t, @_22_@, @_8_@, @_7_@, @_20_@, @_17_@, ...\n",
       "\n",
       "Rooted; includes branch lengths."
      ]
     },
     "metadata": {},
     "output_type": "display_data"
    }
   ],
   "source": [
    "# host tree file\n",
    "host_tree = read.tree(host_tree_file)\n",
    "host_tree"
   ]
  },
  {
   "cell_type": "code",
   "execution_count": 6,
   "metadata": {
    "ExecuteTime": {
     "end_time": "2018-07-23T12:26:19.612940Z",
     "start_time": "2018-07-23T12:26:02.379Z"
    }
   },
   "outputs": [
    {
     "data": {
      "text/plain": [
       "$bray_curtis\n",
       "   Min. 1st Qu.  Median    Mean 3rd Qu.    Max. \n",
       " 0.1104  0.9984  1.0000  0.9890  1.0000  1.0000 \n",
       "\n",
       "$jaccard\n",
       "   Min. 1st Qu.  Median    Mean 3rd Qu.    Max. \n",
       " 0.3886  0.9956  1.0000  0.9912  1.0000  1.0000 \n",
       "\n",
       "$unweighted_unifrac\n",
       "   Min. 1st Qu.  Median    Mean 3rd Qu.    Max. \n",
       " 0.2149  0.7783  0.8494  0.8361  0.9163  0.9881 \n",
       "\n",
       "$weighted_unifrac\n",
       "   Min. 1st Qu.  Median    Mean 3rd Qu.    Max. \n",
       "0.02332 0.46492 0.55024 0.53904 0.62490 0.94211 \n"
      ]
     },
     "metadata": {},
     "output_type": "display_data"
    }
   ],
   "source": [
    "# load beta-diversity dist. matrices\n",
    "beta_d = readRDS(beta_div_file)\n",
    "\n",
    "# status\n",
    "lapply(beta_d, function(x) x %>% as.vector %>% summary)"
   ]
  },
  {
   "cell_type": "markdown",
   "metadata": {
    "ExecuteTime": {
     "end_time": "2018-07-06T10:19:44.482086Z",
     "start_time": "2018-07-06T10:19:41.442Z"
    }
   },
   "source": [
    "# Format data"
   ]
  },
  {
   "cell_type": "code",
   "execution_count": 7,
   "metadata": {
    "ExecuteTime": {
     "end_time": "2018-07-23T12:26:19.695910Z",
     "start_time": "2018-07-23T12:26:02.382Z"
    }
   },
   "outputs": [
    {
     "name": "stdout",
     "output_type": "stream",
     "text": [
      "[1] 213  10\n"
     ]
    },
    {
     "data": {
      "text/html": [
       "<table>\n",
       "<thead><tr><th scope=col>X.SampleID</th><th scope=col>diet</th><th scope=col>diet_vertebrate</th><th scope=col>diet_invertebrate</th><th scope=col>diet_fruit</th><th scope=col>diet_flowers_nectar_pollen</th><th scope=col>diet_leaves_branches_bark_buds</th><th scope=col>diet_seeds</th><th scope=col>diet_grass_waterplants</th><th scope=col>diet_roots_tubers</th></tr></thead>\n",
       "<tbody>\n",
       "\t<tr><td>X1.Eurasian.Beaver</td><td>herbivore         </td><td>no                </td><td>no                </td><td>no                </td><td>no                </td><td>yes               </td><td>no                </td><td>yes               </td><td>yes               </td></tr>\n",
       "\t<tr><td>X101.Horse        </td><td>herbivore         </td><td>no                </td><td>no                </td><td>no                </td><td>no                </td><td>no                </td><td>yes               </td><td>yes               </td><td>no                </td></tr>\n",
       "\t<tr><td>X102.Kulan        </td><td>herbivore         </td><td>no                </td><td>no                </td><td>no                </td><td>no                </td><td>yes               </td><td>no                </td><td>yes               </td><td>no                </td></tr>\n",
       "</tbody>\n",
       "</table>\n"
      ],
      "text/latex": [
       "\\begin{tabular}{r|llllllllll}\n",
       " X.SampleID & diet & diet\\_vertebrate & diet\\_invertebrate & diet\\_fruit & diet\\_flowers\\_nectar\\_pollen & diet\\_leaves\\_branches\\_bark\\_buds & diet\\_seeds & diet\\_grass\\_waterplants & diet\\_roots\\_tubers\\\\\n",
       "\\hline\n",
       "\t X1.Eurasian.Beaver & herbivore          & no                 & no                 & no                 & no                 & yes                & no                 & yes                & yes               \\\\\n",
       "\t X101.Horse         & herbivore          & no                 & no                 & no                 & no                 & no                 & yes                & yes                & no                \\\\\n",
       "\t X102.Kulan         & herbivore          & no                 & no                 & no                 & no                 & yes                & no                 & yes                & no                \\\\\n",
       "\\end{tabular}\n"
      ],
      "text/markdown": [
       "\n",
       "X.SampleID | diet | diet_vertebrate | diet_invertebrate | diet_fruit | diet_flowers_nectar_pollen | diet_leaves_branches_bark_buds | diet_seeds | diet_grass_waterplants | diet_roots_tubers | \n",
       "|---|---|---|\n",
       "| X1.Eurasian.Beaver | herbivore          | no                 | no                 | no                 | no                 | yes                | no                 | yes                | yes                | \n",
       "| X101.Horse         | herbivore          | no                 | no                 | no                 | no                 | no                 | yes                | yes                | no                 | \n",
       "| X102.Kulan         | herbivore          | no                 | no                 | no                 | no                 | yes                | no                 | yes                | no                 | \n",
       "\n",
       "\n"
      ],
      "text/plain": [
       "  X.SampleID         diet      diet_vertebrate diet_invertebrate diet_fruit\n",
       "1 X1.Eurasian.Beaver herbivore no              no                no        \n",
       "2 X101.Horse         herbivore no              no                no        \n",
       "3 X102.Kulan         herbivore no              no                no        \n",
       "  diet_flowers_nectar_pollen diet_leaves_branches_bark_buds diet_seeds\n",
       "1 no                         yes                            no        \n",
       "2 no                         no                             yes       \n",
       "3 no                         yes                            no        \n",
       "  diet_grass_waterplants diet_roots_tubers\n",
       "1 yes                    yes              \n",
       "2 yes                    no               \n",
       "3 yes                    no               "
      ]
     },
     "metadata": {},
     "output_type": "display_data"
    }
   ],
   "source": [
    "diet_vars = c(\n",
    "'X.SampleID',\n",
    "'diet',\n",
    "'diet_vertebrate',\n",
    "'diet_invertebrate',\n",
    "'diet_fruit',\n",
    "'diet_flowers_nectar_pollen',\n",
    "'diet_leaves_branches_bark_buds',\n",
    "'diet_seeds',\n",
    "'diet_grass_waterplants',\n",
    "'diet_roots_tubers'\n",
    ")\n",
    "meta_f = metadata[,diet_vars]\n",
    "#rownames(meta_f) = meta_f$X.SampleID\n",
    "#meta_f$X.SampleID = NULL\n",
    "meta_f %>% status"
   ]
  },
  {
   "cell_type": "code",
   "execution_count": 8,
   "metadata": {
    "ExecuteTime": {
     "end_time": "2018-07-23T12:26:19.979772Z",
     "start_time": "2018-07-23T12:26:02.510Z"
    }
   },
   "outputs": [
    {
     "name": "stdout",
     "output_type": "stream",
     "text": [
      "[1] 213  10\n"
     ]
    },
    {
     "data": {
      "text/html": [
       "<table>\n",
       "<thead><tr><th scope=col>X.SampleID</th><th scope=col>diet</th><th scope=col>diet_vertebrate</th><th scope=col>diet_invertebrate</th><th scope=col>diet_fruit</th><th scope=col>diet_flowers_nectar_pollen</th><th scope=col>diet_leaves_branches_bark_buds</th><th scope=col>diet_seeds</th><th scope=col>diet_grass_waterplants</th><th scope=col>diet_roots_tubers</th></tr></thead>\n",
       "<tbody>\n",
       "\t<tr><td>X1.Eurasian.Beaver</td><td>1                 </td><td>0                 </td><td>0                 </td><td>0                 </td><td>0                 </td><td>1                 </td><td>0                 </td><td>1                 </td><td>1                 </td></tr>\n",
       "\t<tr><td>X101.Horse        </td><td>1                 </td><td>0                 </td><td>0                 </td><td>0                 </td><td>0                 </td><td>0                 </td><td>1                 </td><td>1                 </td><td>0                 </td></tr>\n",
       "\t<tr><td>X102.Kulan        </td><td>1                 </td><td>0                 </td><td>0                 </td><td>0                 </td><td>0                 </td><td>1                 </td><td>0                 </td><td>1                 </td><td>0                 </td></tr>\n",
       "</tbody>\n",
       "</table>\n"
      ],
      "text/latex": [
       "\\begin{tabular}{r|llllllllll}\n",
       " X.SampleID & diet & diet\\_vertebrate & diet\\_invertebrate & diet\\_fruit & diet\\_flowers\\_nectar\\_pollen & diet\\_leaves\\_branches\\_bark\\_buds & diet\\_seeds & diet\\_grass\\_waterplants & diet\\_roots\\_tubers\\\\\n",
       "\\hline\n",
       "\t X1.Eurasian.Beaver & 1                  & 0                  & 0                  & 0                  & 0                  & 1                  & 0                  & 1                  & 1                 \\\\\n",
       "\t X101.Horse         & 1                  & 0                  & 0                  & 0                  & 0                  & 0                  & 1                  & 1                  & 0                 \\\\\n",
       "\t X102.Kulan         & 1                  & 0                  & 0                  & 0                  & 0                  & 1                  & 0                  & 1                  & 0                 \\\\\n",
       "\\end{tabular}\n"
      ],
      "text/markdown": [
       "\n",
       "X.SampleID | diet | diet_vertebrate | diet_invertebrate | diet_fruit | diet_flowers_nectar_pollen | diet_leaves_branches_bark_buds | diet_seeds | diet_grass_waterplants | diet_roots_tubers | \n",
       "|---|---|---|\n",
       "| X1.Eurasian.Beaver | 1                  | 0                  | 0                  | 0                  | 0                  | 1                  | 0                  | 1                  | 1                  | \n",
       "| X101.Horse         | 1                  | 0                  | 0                  | 0                  | 0                  | 0                  | 1                  | 1                  | 0                  | \n",
       "| X102.Kulan         | 1                  | 0                  | 0                  | 0                  | 0                  | 1                  | 0                  | 1                  | 0                  | \n",
       "\n",
       "\n"
      ],
      "text/plain": [
       "  X.SampleID         diet diet_vertebrate diet_invertebrate diet_fruit\n",
       "1 X1.Eurasian.Beaver 1    0               0                 0         \n",
       "2 X101.Horse         1    0               0                 0         \n",
       "3 X102.Kulan         1    0               0                 0         \n",
       "  diet_flowers_nectar_pollen diet_leaves_branches_bark_buds diet_seeds\n",
       "1 0                          1                              0         \n",
       "2 0                          0                              1         \n",
       "3 0                          1                              0         \n",
       "  diet_grass_waterplants diet_roots_tubers\n",
       "1 1                      1                \n",
       "2 1                      0                \n",
       "3 1                      0                "
      ]
     },
     "metadata": {},
     "output_type": "display_data"
    }
   ],
   "source": [
    "# transforming\n",
    "meta_f$diet = ifelse(meta_f$diet == 'herbivore', 1,\n",
    "                        ifelse(meta_f$diet == 'omnivore', 0.5, 0))\n",
    "\n",
    "for(x in diet_vars[3:length(diet_vars)]){\n",
    "    meta_f[,x] = gsub(' .+', '', meta_f[,x])\n",
    "    meta_f[,x] = ifelse(meta_f[,x] == 'yes', 1, 0) %>% as.numeric\n",
    "}\n",
    "\n",
    "meta_f %>% status"
   ]
  },
  {
   "cell_type": "code",
   "execution_count": 9,
   "metadata": {
    "ExecuteTime": {
     "end_time": "2018-07-23T12:26:20.080101Z",
     "start_time": "2018-07-23T12:26:02.512Z"
    }
   },
   "outputs": [
    {
     "data": {
      "text/html": [
       "<dl class=dl-horizontal>\n",
       "\t<dt>diet</dt>\n",
       "\t\t<dd>117</dd>\n",
       "\t<dt>diet_vertebrate</dt>\n",
       "\t\t<dd>75</dd>\n",
       "\t<dt>diet_invertebrate</dt>\n",
       "\t\t<dd>109</dd>\n",
       "\t<dt>diet_fruit</dt>\n",
       "\t\t<dd>89</dd>\n",
       "\t<dt>diet_flowers_nectar_pollen</dt>\n",
       "\t\t<dd>18</dd>\n",
       "\t<dt>diet_leaves_branches_bark_buds</dt>\n",
       "\t\t<dd>101</dd>\n",
       "\t<dt>diet_seeds</dt>\n",
       "\t\t<dd>86</dd>\n",
       "\t<dt>diet_grass_waterplants</dt>\n",
       "\t\t<dd>96</dd>\n",
       "\t<dt>diet_roots_tubers</dt>\n",
       "\t\t<dd>70</dd>\n",
       "</dl>\n"
      ],
      "text/latex": [
       "\\begin{description*}\n",
       "\\item[diet] 117\n",
       "\\item[diet\\textbackslash{}\\_vertebrate] 75\n",
       "\\item[diet\\textbackslash{}\\_invertebrate] 109\n",
       "\\item[diet\\textbackslash{}\\_fruit] 89\n",
       "\\item[diet\\textbackslash{}\\_flowers\\textbackslash{}\\_nectar\\textbackslash{}\\_pollen] 18\n",
       "\\item[diet\\textbackslash{}\\_leaves\\textbackslash{}\\_branches\\textbackslash{}\\_bark\\textbackslash{}\\_buds] 101\n",
       "\\item[diet\\textbackslash{}\\_seeds] 86\n",
       "\\item[diet\\textbackslash{}\\_grass\\textbackslash{}\\_waterplants] 96\n",
       "\\item[diet\\textbackslash{}\\_roots\\textbackslash{}\\_tubers] 70\n",
       "\\end{description*}\n"
      ],
      "text/markdown": [
       "diet\n",
       ":   117diet_vertebrate\n",
       ":   75diet_invertebrate\n",
       ":   109diet_fruit\n",
       ":   89diet_flowers_nectar_pollen\n",
       ":   18diet_leaves_branches_bark_buds\n",
       ":   101diet_seeds\n",
       ":   86diet_grass_waterplants\n",
       ":   96diet_roots_tubers\n",
       ":   70\n",
       "\n"
      ],
      "text/plain": [
       "                          diet                diet_vertebrate \n",
       "                           117                             75 \n",
       "             diet_invertebrate                     diet_fruit \n",
       "                           109                             89 \n",
       "    diet_flowers_nectar_pollen diet_leaves_branches_bark_buds \n",
       "                            18                            101 \n",
       "                    diet_seeds         diet_grass_waterplants \n",
       "                            86                             96 \n",
       "             diet_roots_tubers \n",
       "                            70 "
      ]
     },
     "metadata": {},
     "output_type": "display_data"
    }
   ],
   "source": [
    "# checking column values\n",
    "colSums(meta_f[,2:10])"
   ]
  },
  {
   "cell_type": "markdown",
   "metadata": {},
   "source": [
    "# Host tree subsample"
   ]
  },
  {
   "cell_type": "code",
   "execution_count": 10,
   "metadata": {
    "ExecuteTime": {
     "end_time": "2018-07-23T12:26:20.121735Z",
     "start_time": "2018-07-23T12:26:02.514Z"
    }
   },
   "outputs": [
    {
     "name": "stdout",
     "output_type": "stream",
     "text": [
      "character(0)\n",
      "character(0)\n"
     ]
    }
   ],
   "source": [
    "setdiff(host_tree$tip.label, meta_f$X.SampleID) %>% print\n",
    "setdiff(meta_f$X.SampleID, host_tree$tip.label) %>% print"
   ]
  },
  {
   "cell_type": "code",
   "execution_count": 11,
   "metadata": {
    "ExecuteTime": {
     "end_time": "2018-07-23T12:26:20.183405Z",
     "start_time": "2018-07-23T12:26:02.516Z"
    }
   },
   "outputs": [],
   "source": [
    "#' randomly selecting one per group\n",
    "tree_subsample = function(L, df, tree){\n",
    "    # get subsample (note: subsampling within each species)\n",
    "    to_keep = df %>% \n",
    "        group_by(scientific_name) %>% \n",
    "        sample_n(1) %>%\n",
    "        .$sample\n",
    "    # subsampling tree\n",
    "    to_rm = setdiff(tree$tip.label, to_keep)\n",
    "    tree = drop.tip(tree, to_rm)\n",
    "    return(tree)\n",
    "}"
   ]
  },
  {
   "cell_type": "code",
   "execution_count": 12,
   "metadata": {
    "ExecuteTime": {
     "end_time": "2018-07-23T12:26:22.732027Z",
     "start_time": "2018-07-23T12:26:02.518Z"
    }
   },
   "outputs": [
    {
     "data": {
      "text/html": [
       "100"
      ],
      "text/latex": [
       "100"
      ],
      "text/markdown": [
       "100"
      ],
      "text/plain": [
       "[1] 100"
      ]
     },
     "metadata": {},
     "output_type": "display_data"
    }
   ],
   "source": [
    "# permuted trees\n",
    "df = metadata %>%\n",
    "    mutate(sample = X.SampleID) %>%\n",
    "    dplyr::select(sample, scientific_name) \n",
    "\n",
    "doParallel::registerDoParallel(threads)\n",
    "host_tree_l = plyr::llply(as.list(1:100), \n",
    "                          function(x) tree_subsample(x, df, host_tree),\n",
    "                          .parallel=TRUE)\n",
    "host_tree_l %>% length"
   ]
  },
  {
   "cell_type": "code",
   "execution_count": 13,
   "metadata": {
    "ExecuteTime": {
     "end_time": "2018-07-23T12:26:22.792698Z",
     "start_time": "2018-07-23T12:26:02.520Z"
    }
   },
   "outputs": [
    {
     "data": {
      "text/plain": [
       "   Min. 1st Qu.  Median    Mean 3rd Qu.    Max. \n",
       "    128     128     128     128     128     128 "
      ]
     },
     "metadata": {},
     "output_type": "display_data"
    }
   ],
   "source": [
    "# check tips per tree\n",
    "lapply(host_tree_l, function(x) x$tip.label %>% length) %>% unlist %>% summary"
   ]
  },
  {
   "cell_type": "markdown",
   "metadata": {},
   "source": [
    "# Creating PCs for each tree\n",
    "\n",
    "* Beta-div PCoA PCs for each subsampled host tree"
   ]
  },
  {
   "cell_type": "code",
   "execution_count": 14,
   "metadata": {
    "ExecuteTime": {
     "end_time": "2018-07-23T12:26:22.839906Z",
     "start_time": "2018-07-23T12:26:02.522Z"
    }
   },
   "outputs": [
    {
     "name": "stdout",
     "output_type": "stream",
     "text": [
      "[1] 0\n",
      "[1] 0\n"
     ]
    }
   ],
   "source": [
    "# check label overlap\n",
    "setdiff(host_tree$tip.label, labels(beta_d[[1]])) %>% length %>% print\n",
    "setdiff(labels(beta_d[[1]]), host_tree$tip.label) %>% length %>% print"
   ]
  },
  {
   "cell_type": "code",
   "execution_count": 15,
   "metadata": {
    "ExecuteTime": {
     "end_time": "2018-07-23T12:26:22.876245Z",
     "start_time": "2018-07-23T12:26:02.524Z"
    }
   },
   "outputs": [],
   "source": [
    "#' Ordering distance matrixes\n",
    "#' d = distance matrix (dist class)\n",
    "#' x = vector to order dist by\n",
    "dist_mtx_order = function(d, x){\n",
    "    m = d %>% as.matrix\n",
    "    d = as.dist(m[x,x])\n",
    "    return(d)\n",
    "}"
   ]
  },
  {
   "cell_type": "code",
   "execution_count": 16,
   "metadata": {
    "ExecuteTime": {
     "end_time": "2018-07-23T12:26:23.621992Z",
     "start_time": "2018-07-23T12:26:02.526Z"
    }
   },
   "outputs": [],
   "source": [
    "#' coverting pcoa to data.frame\n",
    "get_points = function(mds_list){\n",
    "    # pulling out PCoA points\n",
    "    df = mds_list$points %>% as.data.frame\n",
    "    df$Sample = rownames(df)\n",
    "    colnames(df) = c('PC1', 'PC2', 'PC3', 'PC4', 'PC5', 'D', 'Sample')\n",
    "    return(df)\n",
    "}"
   ]
  },
  {
   "cell_type": "code",
   "execution_count": 17,
   "metadata": {
    "ExecuteTime": {
     "end_time": "2018-07-23T12:26:23.652125Z",
     "start_time": "2018-07-23T12:26:02.528Z"
    }
   },
   "outputs": [],
   "source": [
    "#' pcoa function\n",
    ".pcoa = function(id, dist_list, make_plot=TRUE){\n",
    "    # making PCoA plot \n",
    "    # id = list name\n",
    "    # dist_list = list of distance matrixes\n",
    "    # make_plt = create plot?\n",
    "    \n",
    "    d = dist_list[[id]]\n",
    "    # using cmdscale for getting PCoA\n",
    "    r = cmdscale(d, k=5, eig=TRUE)\n",
    "    perc_var_exp = r$eig / sum(r$eig)\n",
    "    \n",
    "    x = as.data.frame(r$points)\n",
    "    x$sampleID = id\n",
    "    r$points = x\n",
    "    \n",
    "    if(make_plot){\n",
    "        options(repr.plot.width=4, repr.plot.height=3.5)\n",
    "        x = 1:5\n",
    "        plot(x, perc_var_exp[x], main=id)\n",
    "    }\n",
    "    \n",
    "    return(r)\n",
    "}"
   ]
  },
  {
   "cell_type": "code",
   "execution_count": 18,
   "metadata": {
    "ExecuteTime": {
     "end_time": "2018-07-23T12:26:23.682926Z",
     "start_time": "2018-07-23T12:26:02.531Z"
    }
   },
   "outputs": [],
   "source": [
    "#' ordering each distance matrix by tree labels\n",
    "pcoa_each = function(tree, dist_mtx_list){\n",
    "    # subsampling and ordering\n",
    "    d = plyr::llply(dist_mtx_list, dist_mtx_order, x=tree$tip.label)\n",
    "    # calc PCoA\n",
    "    d = plyr::llply(names(d), .pcoa, dist_list=d, make_plot=FALSE)\n",
    "    # getting points\n",
    "    plyr::ldply(d, get_points)\n",
    "}"
   ]
  },
  {
   "cell_type": "code",
   "execution_count": 19,
   "metadata": {
    "ExecuteTime": {
     "end_time": "2018-07-23T12:26:25.497413Z",
     "start_time": "2018-07-23T12:26:02.533Z"
    }
   },
   "outputs": [
    {
     "name": "stdout",
     "output_type": "stream",
     "text": [
      "[1] 100\n"
     ]
    },
    {
     "data": {
      "text/plain": [
       "   Min. 1st Qu.  Median    Mean 3rd Qu.    Max. \n",
       "    512     512     512     512     512     512 "
      ]
     },
     "metadata": {},
     "output_type": "display_data"
    },
    {
     "name": "stdout",
     "output_type": "stream",
     "text": [
      "          PC1        PC2          PC3         PC4        PC5           D\n",
      "1 -0.03013887 0.01625948  0.022771741 -0.02720429 0.03248202 bray_curtis\n",
      "2 -0.05685115 0.04186083  0.007808206 -0.05651493 0.09955970 bray_curtis\n",
      "3 -0.02599381 0.01428771  0.022491384 -0.03235857 0.02808348 bray_curtis\n",
      "4 -0.04105296 0.03453252  0.014744670 -0.06654723 0.08426618 bray_curtis\n",
      "5 -0.08480934 0.07876045 -0.030100473 -0.08049190 0.14299137 bray_curtis\n",
      "6 -0.07926509 0.07128574 -0.013567891 -0.06105649 0.11804132 bray_curtis\n",
      "              Sample\n",
      "1        X256.Zander\n",
      "2 F302.Northern.Pike\n",
      "3   X188.Brook.Trout\n",
      "4           F300.Asp\n",
      "5           X330.Ide\n",
      "6  X326.Silver.Bream\n"
     ]
    }
   ],
   "source": [
    "# subsampling and ordering each distance matrix for each subsampled host tree\n",
    "doParallel::registerDoParallel(threads)\n",
    "beta_d_pcoa = plyr::llply(host_tree_l, pcoa_each, dist_mtx_list=beta_d, .parallel=TRUE)\n",
    "\n",
    "# status\n",
    "beta_d_pcoa %>% length %>% print\n",
    "beta_d_pcoa %>% lapply(nrow) %>% unlist %>% summary\n",
    "beta_d_pcoa[[1]] %>% head %>% print"
   ]
  },
  {
   "cell_type": "code",
   "execution_count": 20,
   "metadata": {
    "ExecuteTime": {
     "end_time": "2018-07-23T12:26:25.937024Z",
     "start_time": "2018-07-23T12:26:02.535Z"
    }
   },
   "outputs": [
    {
     "name": "stdout",
     "output_type": "stream",
     "text": [
      "[1] 512  16\n"
     ]
    },
    {
     "data": {
      "text/html": [
       "<table>\n",
       "<thead><tr><th scope=col>PC1</th><th scope=col>PC2</th><th scope=col>PC3</th><th scope=col>PC4</th><th scope=col>PC5</th><th scope=col>D</th><th scope=col>Sample</th><th scope=col>diet</th><th scope=col>diet_vertebrate</th><th scope=col>diet_invertebrate</th><th scope=col>diet_fruit</th><th scope=col>diet_flowers_nectar_pollen</th><th scope=col>diet_leaves_branches_bark_buds</th><th scope=col>diet_seeds</th><th scope=col>diet_grass_waterplants</th><th scope=col>diet_roots_tubers</th></tr></thead>\n",
       "<tbody>\n",
       "\t<tr><td>-0.03013887       </td><td>0.01625948        </td><td>0.022771741       </td><td>-0.02720429       </td><td>0.03248202        </td><td>bray_curtis       </td><td>X256.Zander       </td><td>0                 </td><td>1                 </td><td>1                 </td><td>0                 </td><td>0                 </td><td>0                 </td><td>0                 </td><td>1                 </td><td>0                 </td></tr>\n",
       "\t<tr><td>-0.05685115       </td><td>0.04186083        </td><td>0.007808206       </td><td>-0.05651493       </td><td>0.09955970        </td><td>bray_curtis       </td><td>F302.Northern.Pike</td><td>0                 </td><td>1                 </td><td>0                 </td><td>0                 </td><td>0                 </td><td>0                 </td><td>0                 </td><td>0                 </td><td>0                 </td></tr>\n",
       "\t<tr><td>-0.02599381       </td><td>0.01428771        </td><td>0.022491384       </td><td>-0.03235857       </td><td>0.02808348        </td><td>bray_curtis       </td><td>X188.Brook.Trout  </td><td>0                 </td><td>1                 </td><td>1                 </td><td>0                 </td><td>0                 </td><td>0                 </td><td>0                 </td><td>0                 </td><td>0                 </td></tr>\n",
       "</tbody>\n",
       "</table>\n"
      ],
      "text/latex": [
       "\\begin{tabular}{r|llllllllllllllll}\n",
       " PC1 & PC2 & PC3 & PC4 & PC5 & D & Sample & diet & diet\\_vertebrate & diet\\_invertebrate & diet\\_fruit & diet\\_flowers\\_nectar\\_pollen & diet\\_leaves\\_branches\\_bark\\_buds & diet\\_seeds & diet\\_grass\\_waterplants & diet\\_roots\\_tubers\\\\\n",
       "\\hline\n",
       "\t -0.03013887        & 0.01625948         & 0.022771741        & -0.02720429        & 0.03248202         & bray\\_curtis      & X256.Zander        & 0                  & 1                  & 1                  & 0                  & 0                  & 0                  & 0                  & 1                  & 0                 \\\\\n",
       "\t -0.05685115        & 0.04186083         & 0.007808206        & -0.05651493        & 0.09955970         & bray\\_curtis      & F302.Northern.Pike & 0                  & 1                  & 0                  & 0                  & 0                  & 0                  & 0                  & 0                  & 0                 \\\\\n",
       "\t -0.02599381        & 0.01428771         & 0.022491384        & -0.03235857        & 0.02808348         & bray\\_curtis      & X188.Brook.Trout   & 0                  & 1                  & 1                  & 0                  & 0                  & 0                  & 0                  & 0                  & 0                 \\\\\n",
       "\\end{tabular}\n"
      ],
      "text/markdown": [
       "\n",
       "PC1 | PC2 | PC3 | PC4 | PC5 | D | Sample | diet | diet_vertebrate | diet_invertebrate | diet_fruit | diet_flowers_nectar_pollen | diet_leaves_branches_bark_buds | diet_seeds | diet_grass_waterplants | diet_roots_tubers | \n",
       "|---|---|---|\n",
       "| -0.03013887        | 0.01625948         | 0.022771741        | -0.02720429        | 0.03248202         | bray_curtis        | X256.Zander        | 0                  | 1                  | 1                  | 0                  | 0                  | 0                  | 0                  | 1                  | 0                  | \n",
       "| -0.05685115        | 0.04186083         | 0.007808206        | -0.05651493        | 0.09955970         | bray_curtis        | F302.Northern.Pike | 0                  | 1                  | 0                  | 0                  | 0                  | 0                  | 0                  | 0                  | 0                  | \n",
       "| -0.02599381        | 0.01428771         | 0.022491384        | -0.03235857        | 0.02808348         | bray_curtis        | X188.Brook.Trout   | 0                  | 1                  | 1                  | 0                  | 0                  | 0                  | 0                  | 0                  | 0                  | \n",
       "\n",
       "\n"
      ],
      "text/plain": [
       "  PC1         PC2        PC3         PC4         PC5        D          \n",
       "1 -0.03013887 0.01625948 0.022771741 -0.02720429 0.03248202 bray_curtis\n",
       "2 -0.05685115 0.04186083 0.007808206 -0.05651493 0.09955970 bray_curtis\n",
       "3 -0.02599381 0.01428771 0.022491384 -0.03235857 0.02808348 bray_curtis\n",
       "  Sample             diet diet_vertebrate diet_invertebrate diet_fruit\n",
       "1 X256.Zander        0    1               1                 0         \n",
       "2 F302.Northern.Pike 0    1               0                 0         \n",
       "3 X188.Brook.Trout   0    1               1                 0         \n",
       "  diet_flowers_nectar_pollen diet_leaves_branches_bark_buds diet_seeds\n",
       "1 0                          0                              0         \n",
       "2 0                          0                              0         \n",
       "3 0                          0                              0         \n",
       "  diet_grass_waterplants diet_roots_tubers\n",
       "1 1                      0                \n",
       "2 0                      0                \n",
       "3 0                      0                "
      ]
     },
     "metadata": {},
     "output_type": "display_data"
    }
   ],
   "source": [
    "# adding metadata\n",
    "add_metadata = function(d, metadata){\n",
    "    inner_join(d, metadata, c('Sample' = 'X.SampleID'))\n",
    "}\n",
    "\n",
    "beta_d_pcoa = lapply(beta_d_pcoa, add_metadata, metadata=meta_f)\n",
    "\n",
    "beta_d_pcoa[[1]] %>% status"
   ]
  },
  {
   "cell_type": "markdown",
   "metadata": {},
   "source": [
    "# PGLS"
   ]
  },
  {
   "cell_type": "markdown",
   "metadata": {},
   "source": [
    "## Functions"
   ]
  },
  {
   "cell_type": "code",
   "execution_count": 29,
   "metadata": {
    "ExecuteTime": {
     "end_time": "2018-07-23T12:48:38.177796Z",
     "start_time": "2018-07-23T12:48:38.175Z"
    }
   },
   "outputs": [],
   "source": [
    "pgls_each_var = function(y, x, tree, data, dist_metric){\n",
    "    data = data[data$D == dist_metric,]\n",
    "    cdat = comparative.data(data=data, phy=tree, names.col=\"Sample\")\n",
    "    \n",
    "    f = as.formula(paste(c(y, x), collapse=' ~ '))\n",
    "    mod = pgls(f, cdat, lambda=0.5) %>% summary\n",
    "    \n",
    "    df = mod$coefficients %>% as.data.frame\n",
    "    colnames(df) = c('Estimate', 'std_err', 't_value', 'p_value')\n",
    "    df$R2 = mod$adj.r.squared %>% as.vector %>% .[1]\n",
    "    df$x = x\n",
    "    df$y = y\n",
    "    df = df[2,] %>% as.data.frame\n",
    "    return(df)\n",
    "}"
   ]
  },
  {
   "cell_type": "code",
   "execution_count": 30,
   "metadata": {
    "ExecuteTime": {
     "end_time": "2018-07-23T12:48:39.518096Z",
     "start_time": "2018-07-23T12:48:38.343Z"
    }
   },
   "outputs": [
    {
     "data": {
      "text/html": [
       "<table>\n",
       "<thead><tr><th></th><th scope=col>Estimate</th><th scope=col>std_err</th><th scope=col>t_value</th><th scope=col>p_value</th><th scope=col>R2</th><th scope=col>x</th><th scope=col>y</th></tr></thead>\n",
       "<tbody>\n",
       "\t<tr><th scope=row>diet</th><td>0.1966572   </td><td>0.03928121  </td><td>5.006394    </td><td>1.825983e-06</td><td>0.1592966   </td><td>diet        </td><td>PC1         </td></tr>\n",
       "</tbody>\n",
       "</table>\n"
      ],
      "text/latex": [
       "\\begin{tabular}{r|lllllll}\n",
       "  & Estimate & std\\_err & t\\_value & p\\_value & R2 & x & y\\\\\n",
       "\\hline\n",
       "\tdiet & 0.1966572    & 0.03928121   & 5.006394     & 1.825983e-06 & 0.1592966    & diet         & PC1         \\\\\n",
       "\\end{tabular}\n"
      ],
      "text/markdown": [
       "\n",
       "| <!--/--> | Estimate | std_err | t_value | p_value | R2 | x | y | \n",
       "|---|\n",
       "| diet | 0.1966572    | 0.03928121   | 5.006394     | 1.825983e-06 | 0.1592966    | diet         | PC1          | \n",
       "\n",
       "\n"
      ],
      "text/plain": [
       "     Estimate  std_err    t_value  p_value      R2        x    y  \n",
       "diet 0.1966572 0.03928121 5.006394 1.825983e-06 0.1592966 diet PC1"
      ]
     },
     "metadata": {},
     "output_type": "display_data"
    }
   ],
   "source": [
    "#-- debug --#\n",
    "rep = 1\n",
    "host_tree = host_tree_l[[rep]]\n",
    "data = beta_d_pcoa[[rep]]\n",
    "\n",
    "pgls_each_var(y = 'PC1',\n",
    "              x = 'diet',\n",
    "              tree = host_tree,\n",
    "              data = data,\n",
    "              dist_metric = 'weighted_unifrac')"
   ]
  },
  {
   "cell_type": "code",
   "execution_count": 31,
   "metadata": {
    "ExecuteTime": {
     "end_time": "2018-07-23T12:48:39.552662Z",
     "start_time": "2018-07-23T12:48:38.474Z"
    }
   },
   "outputs": [],
   "source": [
    "pgls_each_tree = function(rep, y, x, tree_list, data, dist_metric, threads=1){\n",
    "    tree = tree_list[[rep]]\n",
    "    data = data[[rep]] \n",
    "    \n",
    "    doParallel::registerDoParallel(threads)\n",
    "    ret = plyr::llply(as.list(y),\n",
    "                      pgls_each_var,\n",
    "                      x = 'diet',\n",
    "                      tree = tree,\n",
    "                      data = data,\n",
    "                      dist_metric = dist_metric,\n",
    "                      .parallel = TRUE)\n",
    "    ret = do.call(rbind, ret)\n",
    "    ret$rep = rep\n",
    "    return(ret)\n",
    "}"
   ]
  },
  {
   "cell_type": "code",
   "execution_count": 32,
   "metadata": {
    "ExecuteTime": {
     "end_time": "2018-07-23T12:48:40.230151Z",
     "start_time": "2018-07-23T12:48:38.611Z"
    }
   },
   "outputs": [
    {
     "data": {
      "text/html": [
       "<table>\n",
       "<thead><tr><th></th><th scope=col>PC1</th><th scope=col>PC2</th><th scope=col>PC3</th><th scope=col>PC4</th><th scope=col>PC5</th></tr></thead>\n",
       "<tbody>\n",
       "\t<tr><th scope=row>Estimate</th><td>0.183927557698656    </td><td>0.0620313292852116   </td><td>-0.0969283162631423  </td><td>-0.000932002529047578</td><td>0.059259880419709    </td></tr>\n",
       "\t<tr><th scope=row>std_err</th><td>0.0383901909815278   </td><td>0.0343812967985073   </td><td>0.031549063593514    </td><td>0.028327745049352    </td><td>0.0263335809853556   </td></tr>\n",
       "\t<tr><th scope=row>t_value</th><td>4.79100397773891     </td><td>1.80421726524011     </td><td>-3.07230406302992    </td><td>-0.0329006960287119  </td><td>2.250354042341       </td></tr>\n",
       "\t<tr><th scope=row>p_value</th><td>4.58271013248357e-06 </td><td>0.0735860332619431   </td><td>0.00260350769915085  </td><td>0.973805838898492    </td><td>0.0261605474628221   </td></tr>\n",
       "\t<tr><th scope=row>R2</th><td>0.1473861763586      </td><td>0.0174476534888653   </td><td>0.0623088549067595   </td><td>-0.00792784890995911 </td><td>0.0310084418474974   </td></tr>\n",
       "\t<tr><th scope=row>x</th><td>diet                 </td><td>diet                 </td><td>diet                 </td><td>diet                 </td><td>diet                 </td></tr>\n",
       "\t<tr><th scope=row>y</th><td>PC1                  </td><td>PC2                  </td><td>PC3                  </td><td>PC4                  </td><td>PC5                  </td></tr>\n",
       "\t<tr><th scope=row>rep</th><td>10                   </td><td>10                   </td><td>10                   </td><td>10                   </td><td>10                   </td></tr>\n",
       "</tbody>\n",
       "</table>\n"
      ],
      "text/latex": [
       "\\begin{tabular}{r|lllll}\n",
       "  & PC1 & PC2 & PC3 & PC4 & PC5\\\\\n",
       "\\hline\n",
       "\tEstimate & 0.183927557698656     & 0.0620313292852116    & -0.0969283162631423   & -0.000932002529047578 & 0.059259880419709    \\\\\n",
       "\tstd\\_err & 0.0383901909815278    & 0.0343812967985073    & 0.031549063593514     & 0.028327745049352     & 0.0263335809853556   \\\\\n",
       "\tt\\_value & 4.79100397773891      & 1.80421726524011      & -3.07230406302992     & -0.0329006960287119   & 2.250354042341       \\\\\n",
       "\tp\\_value & 4.58271013248357e-06  & 0.0735860332619431    & 0.00260350769915085   & 0.973805838898492     & 0.0261605474628221   \\\\\n",
       "\tR2 & 0.1473861763586       & 0.0174476534888653    & 0.0623088549067595    & -0.00792784890995911  & 0.0310084418474974   \\\\\n",
       "\tx & diet                  & diet                  & diet                  & diet                  & diet                 \\\\\n",
       "\ty & PC1                   & PC2                   & PC3                   & PC4                   & PC5                  \\\\\n",
       "\trep & 10                    & 10                    & 10                    & 10                    & 10                   \\\\\n",
       "\\end{tabular}\n"
      ],
      "text/markdown": [
       "\n",
       "| <!--/--> | PC1 | PC2 | PC3 | PC4 | PC5 | \n",
       "|---|---|---|---|---|---|---|---|\n",
       "| Estimate | 0.183927557698656     | 0.0620313292852116    | -0.0969283162631423   | -0.000932002529047578 | 0.059259880419709     | \n",
       "| std_err | 0.0383901909815278    | 0.0343812967985073    | 0.031549063593514     | 0.028327745049352     | 0.0263335809853556    | \n",
       "| t_value | 4.79100397773891      | 1.80421726524011      | -3.07230406302992     | -0.0329006960287119   | 2.250354042341        | \n",
       "| p_value | 4.58271013248357e-06  | 0.0735860332619431    | 0.00260350769915085   | 0.973805838898492     | 0.0261605474628221    | \n",
       "| R2 | 0.1473861763586       | 0.0174476534888653    | 0.0623088549067595    | -0.00792784890995911  | 0.0310084418474974    | \n",
       "| x | diet                  | diet                  | diet                  | diet                  | diet                  | \n",
       "| y | PC1                   | PC2                   | PC3                   | PC4                   | PC5                   | \n",
       "| rep | 10                    | 10                    | 10                    | 10                    | 10                    | \n",
       "\n",
       "\n"
      ],
      "text/plain": [
       "         PC1                  PC2                PC3                \n",
       "Estimate 0.183927557698656    0.0620313292852116 -0.0969283162631423\n",
       "std_err  0.0383901909815278   0.0343812967985073 0.031549063593514  \n",
       "t_value  4.79100397773891     1.80421726524011   -3.07230406302992  \n",
       "p_value  4.58271013248357e-06 0.0735860332619431 0.00260350769915085\n",
       "R2       0.1473861763586      0.0174476534888653 0.0623088549067595 \n",
       "x        diet                 diet               diet               \n",
       "y        PC1                  PC2                PC3                \n",
       "rep      10                   10                 10                 \n",
       "         PC4                   PC5               \n",
       "Estimate -0.000932002529047578 0.059259880419709 \n",
       "std_err  0.028327745049352     0.0263335809853556\n",
       "t_value  -0.0329006960287119   2.250354042341    \n",
       "p_value  0.973805838898492     0.0261605474628221\n",
       "R2       -0.00792784890995911  0.0310084418474974\n",
       "x        diet                  diet              \n",
       "y        PC4                   PC5               \n",
       "rep      10                    10                "
      ]
     },
     "metadata": {},
     "output_type": "display_data"
    }
   ],
   "source": [
    "#-- debug --#\n",
    "y = c('PC1', 'PC2', 'PC3', 'PC4', 'PC5')\n",
    "\n",
    "rep = 10\n",
    "ret = pgls_each_tree(rep,\n",
    "                     y = y,\n",
    "                     x = 'diet',\n",
    "                     tree_list = host_tree_l,\n",
    "                     data = beta_d_pcoa,\n",
    "                     dist_metric = 'weighted_unifrac',\n",
    "                     threads = threads)\n",
    "\n",
    "ret = do.call(rbind, ret) %>%\n",
    "    as.data.frame\n",
    "colnames(ret) = y\n",
    "\n",
    "ret "
   ]
  },
  {
   "cell_type": "markdown",
   "metadata": {},
   "source": [
    "## Diet"
   ]
  },
  {
   "cell_type": "code",
   "execution_count": 33,
   "metadata": {
    "ExecuteTime": {
     "end_time": "2018-07-23T12:48:40.270345Z",
     "start_time": "2018-07-23T12:48:38.878Z"
    }
   },
   "outputs": [],
   "source": [
    "# dependent variables\n",
    "y = c('PC1', 'PC2', 'PC3', 'PC4', 'PC5')"
   ]
  },
  {
   "cell_type": "markdown",
   "metadata": {},
   "source": [
    "### Weighted Unifrac"
   ]
  },
  {
   "cell_type": "code",
   "execution_count": 34,
   "metadata": {
    "ExecuteTime": {
     "end_time": "2018-07-23T12:49:44.341174Z",
     "start_time": "2018-07-23T12:48:39.287Z"
    }
   },
   "outputs": [
    {
     "name": "stdout",
     "output_type": "stream",
     "text": [
      "[1] 500   9\n"
     ]
    },
    {
     "data": {
      "text/html": [
       "<table>\n",
       "<thead><tr><th scope=col>Estimate</th><th scope=col>std_err</th><th scope=col>t_value</th><th scope=col>p_value</th><th scope=col>R2</th><th scope=col>x</th><th scope=col>y</th><th scope=col>rep</th><th scope=col>dist_metric</th></tr></thead>\n",
       "<tbody>\n",
       "\t<tr><td> 0.19665720     </td><td>0.03928121      </td><td> 5.006394       </td><td>1.825983e-06    </td><td>0.15929659      </td><td>diet            </td><td>PC1             </td><td>1               </td><td>weighted_unifrac</td></tr>\n",
       "\t<tr><td> 0.06364587     </td><td>0.03447111      </td><td> 1.846354       </td><td>6.718745e-02    </td><td>0.01861558      </td><td>diet            </td><td>PC2             </td><td>1               </td><td>weighted_unifrac</td></tr>\n",
       "\t<tr><td>-0.07086478     </td><td>0.03154397      </td><td>-2.246540       </td><td>2.641035e-02    </td><td>0.03088162      </td><td>diet            </td><td>PC3             </td><td>1               </td><td>weighted_unifrac</td></tr>\n",
       "</tbody>\n",
       "</table>\n"
      ],
      "text/latex": [
       "\\begin{tabular}{r|lllllllll}\n",
       " Estimate & std\\_err & t\\_value & p\\_value & R2 & x & y & rep & dist\\_metric\\\\\n",
       "\\hline\n",
       "\t  0.19665720        & 0.03928121         &  5.006394          & 1.825983e-06       & 0.15929659         & diet               & PC1                & 1                  & weighted\\_unifrac\\\\\n",
       "\t  0.06364587        & 0.03447111         &  1.846354          & 6.718745e-02       & 0.01861558         & diet               & PC2                & 1                  & weighted\\_unifrac\\\\\n",
       "\t -0.07086478        & 0.03154397         & -2.246540          & 2.641035e-02       & 0.03088162         & diet               & PC3                & 1                  & weighted\\_unifrac\\\\\n",
       "\\end{tabular}\n"
      ],
      "text/markdown": [
       "\n",
       "Estimate | std_err | t_value | p_value | R2 | x | y | rep | dist_metric | \n",
       "|---|---|---|\n",
       "|  0.19665720      | 0.03928121       |  5.006394        | 1.825983e-06     | 0.15929659       | diet             | PC1              | 1                | weighted_unifrac | \n",
       "|  0.06364587      | 0.03447111       |  1.846354        | 6.718745e-02     | 0.01861558       | diet             | PC2              | 1                | weighted_unifrac | \n",
       "| -0.07086478      | 0.03154397       | -2.246540        | 2.641035e-02     | 0.03088162       | diet             | PC3              | 1                | weighted_unifrac | \n",
       "\n",
       "\n"
      ],
      "text/plain": [
       "  Estimate    std_err    t_value   p_value      R2         x    y   rep\n",
       "1  0.19665720 0.03928121  5.006394 1.825983e-06 0.15929659 diet PC1 1  \n",
       "2  0.06364587 0.03447111  1.846354 6.718745e-02 0.01861558 diet PC2 1  \n",
       "3 -0.07086478 0.03154397 -2.246540 2.641035e-02 0.03088162 diet PC3 1  \n",
       "  dist_metric     \n",
       "1 weighted_unifrac\n",
       "2 weighted_unifrac\n",
       "3 weighted_unifrac"
      ]
     },
     "metadata": {},
     "output_type": "display_data"
    }
   ],
   "source": [
    "# running on each PC, each permuted tree\n",
    "dist_metric = 'weighted_unifrac'\n",
    "\n",
    "ret = plyr::llply(1:length(host_tree_l),\n",
    "                  pgls_each_tree,\n",
    "                  y = y,\n",
    "                  x = 'diet',\n",
    "                  tree_list = host_tree_l,\n",
    "                  data = beta_d_pcoa,\n",
    "                  dist_metric = dist_metric,\n",
    "                  threads = threads)\n",
    "\n",
    "ret = do.call(rbind, ret) %>%\n",
    "    as.data.frame\n",
    "rownames(ret) = 1:nrow(ret)\n",
    "ret$dist_metric = dist_metric\n",
    "\n",
    "# status\n",
    "ret %>% status"
   ]
  },
  {
   "cell_type": "code",
   "execution_count": 35,
   "metadata": {
    "ExecuteTime": {
     "end_time": "2018-07-23T12:49:44.627571Z",
     "start_time": "2018-07-23T12:48:39.424Z"
    }
   },
   "outputs": [
    {
     "name": "stdout",
     "output_type": "stream",
     "text": [
      "[1] 500  10\n"
     ]
    },
    {
     "data": {
      "text/html": [
       "<table>\n",
       "<thead><tr><th scope=col>Estimate</th><th scope=col>std_err</th><th scope=col>t_value</th><th scope=col>p_value</th><th scope=col>R2</th><th scope=col>x</th><th scope=col>y</th><th scope=col>rep</th><th scope=col>dist_metric</th><th scope=col>p_adj_value</th></tr></thead>\n",
       "<tbody>\n",
       "\t<tr><td> 0.19665720     </td><td>0.03928121      </td><td> 5.006394       </td><td>1.825983e-06    </td><td>0.15929659      </td><td>diet            </td><td>PC1             </td><td>1               </td><td>weighted_unifrac</td><td>9.129917e-06    </td></tr>\n",
       "\t<tr><td> 0.06364587     </td><td>0.03447111      </td><td> 1.846354       </td><td>6.718745e-02    </td><td>0.01861558      </td><td>diet            </td><td>PC2             </td><td>1               </td><td>weighted_unifrac</td><td>1.119791e-01    </td></tr>\n",
       "\t<tr><td>-0.07086478     </td><td>0.03154397      </td><td>-2.246540       </td><td>2.641035e-02    </td><td>0.03088162      </td><td>diet            </td><td>PC3             </td><td>1               </td><td>weighted_unifrac</td><td>6.602588e-02    </td></tr>\n",
       "</tbody>\n",
       "</table>\n"
      ],
      "text/latex": [
       "\\begin{tabular}{r|llllllllll}\n",
       " Estimate & std\\_err & t\\_value & p\\_value & R2 & x & y & rep & dist\\_metric & p\\_adj\\_value\\\\\n",
       "\\hline\n",
       "\t  0.19665720        & 0.03928121         &  5.006394          & 1.825983e-06       & 0.15929659         & diet               & PC1                & 1                  & weighted\\_unifrac & 9.129917e-06      \\\\\n",
       "\t  0.06364587        & 0.03447111         &  1.846354          & 6.718745e-02       & 0.01861558         & diet               & PC2                & 1                  & weighted\\_unifrac & 1.119791e-01      \\\\\n",
       "\t -0.07086478        & 0.03154397         & -2.246540          & 2.641035e-02       & 0.03088162         & diet               & PC3                & 1                  & weighted\\_unifrac & 6.602588e-02      \\\\\n",
       "\\end{tabular}\n"
      ],
      "text/markdown": [
       "\n",
       "Estimate | std_err | t_value | p_value | R2 | x | y | rep | dist_metric | p_adj_value | \n",
       "|---|---|---|\n",
       "|  0.19665720      | 0.03928121       |  5.006394        | 1.825983e-06     | 0.15929659       | diet             | PC1              | 1                | weighted_unifrac | 9.129917e-06     | \n",
       "|  0.06364587      | 0.03447111       |  1.846354        | 6.718745e-02     | 0.01861558       | diet             | PC2              | 1                | weighted_unifrac | 1.119791e-01     | \n",
       "| -0.07086478      | 0.03154397       | -2.246540        | 2.641035e-02     | 0.03088162       | diet             | PC3              | 1                | weighted_unifrac | 6.602588e-02     | \n",
       "\n",
       "\n"
      ],
      "text/plain": [
       "  Estimate    std_err    t_value   p_value      R2         x    y   rep\n",
       "1  0.19665720 0.03928121  5.006394 1.825983e-06 0.15929659 diet PC1 1  \n",
       "2  0.06364587 0.03447111  1.846354 6.718745e-02 0.01861558 diet PC2 1  \n",
       "3 -0.07086478 0.03154397 -2.246540 2.641035e-02 0.03088162 diet PC3 1  \n",
       "  dist_metric      p_adj_value \n",
       "1 weighted_unifrac 9.129917e-06\n",
       "2 weighted_unifrac 1.119791e-01\n",
       "3 weighted_unifrac 6.602588e-02"
      ]
     },
     "metadata": {},
     "output_type": "display_data"
    }
   ],
   "source": [
    "# formatting results & adjusting p-values\n",
    "pgls_res_wUnifrac = ret %>%\n",
    "    mutate(R2 = R2 %>% as.numeric,\n",
    "           p_value = p_value %>% as.numeric) %>%\n",
    "    group_by(rep) %>%\n",
    "    mutate(p_adj_value = p.adjust(p_value, method='BH')) %>%\n",
    "    ungroup()\n",
    "\n",
    "pgls_res_wUnifrac %>% status"
   ]
  },
  {
   "cell_type": "markdown",
   "metadata": {},
   "source": [
    "### Unweighted Unifrac"
   ]
  },
  {
   "cell_type": "code",
   "execution_count": 36,
   "metadata": {
    "ExecuteTime": {
     "end_time": "2018-07-23T12:50:55.280259Z",
     "start_time": "2018-07-23T12:48:39.685Z"
    }
   },
   "outputs": [
    {
     "name": "stdout",
     "output_type": "stream",
     "text": [
      "[1] 500   9\n"
     ]
    },
    {
     "data": {
      "text/html": [
       "<table>\n",
       "<thead><tr><th scope=col>Estimate</th><th scope=col>std_err</th><th scope=col>t_value</th><th scope=col>p_value</th><th scope=col>R2</th><th scope=col>x</th><th scope=col>y</th><th scope=col>rep</th><th scope=col>dist_metric</th></tr></thead>\n",
       "<tbody>\n",
       "\t<tr><td> 0.31035786       </td><td>0.04288455        </td><td> 7.237055         </td><td>3.967271e-11      </td><td>0.28801667        </td><td>diet              </td><td>PC1               </td><td>1                 </td><td>unweighted_unifrac</td></tr>\n",
       "\t<tr><td>-0.10524538       </td><td>0.03716542        </td><td>-2.831809         </td><td>5.390135e-03      </td><td>0.05237418        </td><td>diet              </td><td>PC2               </td><td>1                 </td><td>unweighted_unifrac</td></tr>\n",
       "\t<tr><td>-0.09428623       </td><td>0.02928297        </td><td>-3.219831         </td><td>1.631689e-03      </td><td>0.06869178        </td><td>diet              </td><td>PC3               </td><td>1                 </td><td>unweighted_unifrac</td></tr>\n",
       "</tbody>\n",
       "</table>\n"
      ],
      "text/latex": [
       "\\begin{tabular}{r|lllllllll}\n",
       " Estimate & std\\_err & t\\_value & p\\_value & R2 & x & y & rep & dist\\_metric\\\\\n",
       "\\hline\n",
       "\t  0.31035786          & 0.04288455           &  7.237055            & 3.967271e-11         & 0.28801667           & diet                 & PC1                  & 1                    & unweighted\\_unifrac\\\\\n",
       "\t -0.10524538          & 0.03716542           & -2.831809            & 5.390135e-03         & 0.05237418           & diet                 & PC2                  & 1                    & unweighted\\_unifrac\\\\\n",
       "\t -0.09428623          & 0.02928297           & -3.219831            & 1.631689e-03         & 0.06869178           & diet                 & PC3                  & 1                    & unweighted\\_unifrac\\\\\n",
       "\\end{tabular}\n"
      ],
      "text/markdown": [
       "\n",
       "Estimate | std_err | t_value | p_value | R2 | x | y | rep | dist_metric | \n",
       "|---|---|---|\n",
       "|  0.31035786        | 0.04288455         |  7.237055          | 3.967271e-11       | 0.28801667         | diet               | PC1                | 1                  | unweighted_unifrac | \n",
       "| -0.10524538        | 0.03716542         | -2.831809          | 5.390135e-03       | 0.05237418         | diet               | PC2                | 1                  | unweighted_unifrac | \n",
       "| -0.09428623        | 0.02928297         | -3.219831          | 1.631689e-03       | 0.06869178         | diet               | PC3                | 1                  | unweighted_unifrac | \n",
       "\n",
       "\n"
      ],
      "text/plain": [
       "  Estimate    std_err    t_value   p_value      R2         x    y   rep\n",
       "1  0.31035786 0.04288455  7.237055 3.967271e-11 0.28801667 diet PC1 1  \n",
       "2 -0.10524538 0.03716542 -2.831809 5.390135e-03 0.05237418 diet PC2 1  \n",
       "3 -0.09428623 0.02928297 -3.219831 1.631689e-03 0.06869178 diet PC3 1  \n",
       "  dist_metric       \n",
       "1 unweighted_unifrac\n",
       "2 unweighted_unifrac\n",
       "3 unweighted_unifrac"
      ]
     },
     "metadata": {},
     "output_type": "display_data"
    }
   ],
   "source": [
    "# running on each PC, each permuted tree\n",
    "dist_metric = 'unweighted_unifrac'\n",
    "\n",
    "ret = plyr::llply(1:length(host_tree_l),\n",
    "                  pgls_each_tree,\n",
    "                  y = y,\n",
    "                  x = 'diet',\n",
    "                  tree_list = host_tree_l,\n",
    "                  data = beta_d_pcoa,\n",
    "                  dist_metric = dist_metric,\n",
    "                  threads = threads)\n",
    "\n",
    "ret = do.call(rbind, ret) %>%\n",
    "    as.data.frame\n",
    "rownames(ret) = 1:nrow(ret)\n",
    "ret$dist_metric = dist_metric\n",
    "\n",
    "# status\n",
    "ret %>% status"
   ]
  },
  {
   "cell_type": "code",
   "execution_count": 37,
   "metadata": {
    "ExecuteTime": {
     "end_time": "2018-07-23T12:50:56.266201Z",
     "start_time": "2018-07-23T12:48:39.842Z"
    }
   },
   "outputs": [
    {
     "name": "stdout",
     "output_type": "stream",
     "text": [
      "[1] 500  10\n"
     ]
    },
    {
     "data": {
      "text/html": [
       "<table>\n",
       "<thead><tr><th scope=col>Estimate</th><th scope=col>std_err</th><th scope=col>t_value</th><th scope=col>p_value</th><th scope=col>R2</th><th scope=col>x</th><th scope=col>y</th><th scope=col>rep</th><th scope=col>dist_metric</th><th scope=col>p_adj_value</th></tr></thead>\n",
       "<tbody>\n",
       "\t<tr><td> 0.31035786       </td><td>0.04288455        </td><td> 7.237055         </td><td>3.967271e-11      </td><td>0.28801667        </td><td>diet              </td><td>PC1               </td><td>1                 </td><td>unweighted_unifrac</td><td>1.983635e-10      </td></tr>\n",
       "\t<tr><td>-0.10524538       </td><td>0.03716542        </td><td>-2.831809         </td><td>5.390135e-03      </td><td>0.05237418        </td><td>diet              </td><td>PC2               </td><td>1                 </td><td>unweighted_unifrac</td><td>8.983559e-03      </td></tr>\n",
       "\t<tr><td>-0.09428623       </td><td>0.02928297        </td><td>-3.219831         </td><td>1.631689e-03      </td><td>0.06869178        </td><td>diet              </td><td>PC3               </td><td>1                 </td><td>unweighted_unifrac</td><td>4.079222e-03      </td></tr>\n",
       "</tbody>\n",
       "</table>\n"
      ],
      "text/latex": [
       "\\begin{tabular}{r|llllllllll}\n",
       " Estimate & std\\_err & t\\_value & p\\_value & R2 & x & y & rep & dist\\_metric & p\\_adj\\_value\\\\\n",
       "\\hline\n",
       "\t  0.31035786          & 0.04288455           &  7.237055            & 3.967271e-11         & 0.28801667           & diet                 & PC1                  & 1                    & unweighted\\_unifrac & 1.983635e-10        \\\\\n",
       "\t -0.10524538          & 0.03716542           & -2.831809            & 5.390135e-03         & 0.05237418           & diet                 & PC2                  & 1                    & unweighted\\_unifrac & 8.983559e-03        \\\\\n",
       "\t -0.09428623          & 0.02928297           & -3.219831            & 1.631689e-03         & 0.06869178           & diet                 & PC3                  & 1                    & unweighted\\_unifrac & 4.079222e-03        \\\\\n",
       "\\end{tabular}\n"
      ],
      "text/markdown": [
       "\n",
       "Estimate | std_err | t_value | p_value | R2 | x | y | rep | dist_metric | p_adj_value | \n",
       "|---|---|---|\n",
       "|  0.31035786        | 0.04288455         |  7.237055          | 3.967271e-11       | 0.28801667         | diet               | PC1                | 1                  | unweighted_unifrac | 1.983635e-10       | \n",
       "| -0.10524538        | 0.03716542         | -2.831809          | 5.390135e-03       | 0.05237418         | diet               | PC2                | 1                  | unweighted_unifrac | 8.983559e-03       | \n",
       "| -0.09428623        | 0.02928297         | -3.219831          | 1.631689e-03       | 0.06869178         | diet               | PC3                | 1                  | unweighted_unifrac | 4.079222e-03       | \n",
       "\n",
       "\n"
      ],
      "text/plain": [
       "  Estimate    std_err    t_value   p_value      R2         x    y   rep\n",
       "1  0.31035786 0.04288455  7.237055 3.967271e-11 0.28801667 diet PC1 1  \n",
       "2 -0.10524538 0.03716542 -2.831809 5.390135e-03 0.05237418 diet PC2 1  \n",
       "3 -0.09428623 0.02928297 -3.219831 1.631689e-03 0.06869178 diet PC3 1  \n",
       "  dist_metric        p_adj_value \n",
       "1 unweighted_unifrac 1.983635e-10\n",
       "2 unweighted_unifrac 8.983559e-03\n",
       "3 unweighted_unifrac 4.079222e-03"
      ]
     },
     "metadata": {},
     "output_type": "display_data"
    }
   ],
   "source": [
    "# formatting results\n",
    "pgls_res_uwUnifrac = ret %>%\n",
    "    mutate(R2 = R2 %>% as.numeric,\n",
    "           p_value = p_value %>% as.numeric) %>%\n",
    "    group_by(rep) %>%\n",
    "    mutate(p_adj_value = p.adjust(p_value, method='BH')) %>%\n",
    "    ungroup()\n",
    "\n",
    "pgls_res_uwUnifrac %>% status"
   ]
  },
  {
   "cell_type": "markdown",
   "metadata": {},
   "source": [
    "## Summarizing"
   ]
  },
  {
   "cell_type": "code",
   "execution_count": 38,
   "metadata": {
    "ExecuteTime": {
     "end_time": "2018-07-23T12:50:56.936684Z",
     "start_time": "2018-07-23T12:48:40.310Z"
    }
   },
   "outputs": [
    {
     "name": "stdout",
     "output_type": "stream",
     "text": [
      "[1] 1000   10\n"
     ]
    },
    {
     "data": {
      "text/html": [
       "<table>\n",
       "<thead><tr><th scope=col>Estimate</th><th scope=col>std_err</th><th scope=col>t_value</th><th scope=col>p_value</th><th scope=col>R2</th><th scope=col>x</th><th scope=col>y</th><th scope=col>rep</th><th scope=col>dist_metric</th><th scope=col>p_adj_value</th></tr></thead>\n",
       "<tbody>\n",
       "\t<tr><td> 0.19665720     </td><td>0.03928121      </td><td> 5.006394       </td><td>1.825983e-06    </td><td>0.15929659      </td><td>diet            </td><td>PC1             </td><td>1               </td><td>weighted_unifrac</td><td>9.129917e-06    </td></tr>\n",
       "\t<tr><td> 0.06364587     </td><td>0.03447111      </td><td> 1.846354       </td><td>6.718745e-02    </td><td>0.01861558      </td><td>diet            </td><td>PC2             </td><td>1               </td><td>weighted_unifrac</td><td>1.119791e-01    </td></tr>\n",
       "\t<tr><td>-0.07086478     </td><td>0.03154397      </td><td>-2.246540       </td><td>2.641035e-02    </td><td>0.03088162      </td><td>diet            </td><td>PC3             </td><td>1               </td><td>weighted_unifrac</td><td>6.602588e-02    </td></tr>\n",
       "</tbody>\n",
       "</table>\n"
      ],
      "text/latex": [
       "\\begin{tabular}{r|llllllllll}\n",
       " Estimate & std\\_err & t\\_value & p\\_value & R2 & x & y & rep & dist\\_metric & p\\_adj\\_value\\\\\n",
       "\\hline\n",
       "\t  0.19665720        & 0.03928121         &  5.006394          & 1.825983e-06       & 0.15929659         & diet               & PC1                & 1                  & weighted\\_unifrac & 9.129917e-06      \\\\\n",
       "\t  0.06364587        & 0.03447111         &  1.846354          & 6.718745e-02       & 0.01861558         & diet               & PC2                & 1                  & weighted\\_unifrac & 1.119791e-01      \\\\\n",
       "\t -0.07086478        & 0.03154397         & -2.246540          & 2.641035e-02       & 0.03088162         & diet               & PC3                & 1                  & weighted\\_unifrac & 6.602588e-02      \\\\\n",
       "\\end{tabular}\n"
      ],
      "text/markdown": [
       "\n",
       "Estimate | std_err | t_value | p_value | R2 | x | y | rep | dist_metric | p_adj_value | \n",
       "|---|---|---|\n",
       "|  0.19665720      | 0.03928121       |  5.006394        | 1.825983e-06     | 0.15929659       | diet             | PC1              | 1                | weighted_unifrac | 9.129917e-06     | \n",
       "|  0.06364587      | 0.03447111       |  1.846354        | 6.718745e-02     | 0.01861558       | diet             | PC2              | 1                | weighted_unifrac | 1.119791e-01     | \n",
       "| -0.07086478      | 0.03154397       | -2.246540        | 2.641035e-02     | 0.03088162       | diet             | PC3              | 1                | weighted_unifrac | 6.602588e-02     | \n",
       "\n",
       "\n"
      ],
      "text/plain": [
       "  Estimate    std_err    t_value   p_value      R2         x    y   rep\n",
       "1  0.19665720 0.03928121  5.006394 1.825983e-06 0.15929659 diet PC1 1  \n",
       "2  0.06364587 0.03447111  1.846354 6.718745e-02 0.01861558 diet PC2 1  \n",
       "3 -0.07086478 0.03154397 -2.246540 2.641035e-02 0.03088162 diet PC3 1  \n",
       "  dist_metric      p_adj_value \n",
       "1 weighted_unifrac 9.129917e-06\n",
       "2 weighted_unifrac 1.119791e-01\n",
       "3 weighted_unifrac 6.602588e-02"
      ]
     },
     "metadata": {},
     "output_type": "display_data"
    }
   ],
   "source": [
    "pgls_res = rbind(pgls_res_wUnifrac, pgls_res_uwUnifrac)\n",
    "pgls_res %>% status"
   ]
  },
  {
   "cell_type": "code",
   "execution_count": 39,
   "metadata": {
    "ExecuteTime": {
     "end_time": "2018-07-23T12:52:33.986408Z",
     "start_time": "2018-07-23T12:48:40.486Z"
    }
   },
   "outputs": [
    {
     "data": {
      "image/png": "[encoded data removed]",
      "text/plain": [
       "plot without title"
      ]
     },
     "metadata": {},
     "output_type": "display_data"
    }
   ],
   "source": [
    "# p-value distribution\n",
    "p = ggplot(pgls_res, aes(R2, p_value)) +\n",
    "    geom_point(alpha=0.3) +\n",
    "    scale_y_log10() +\n",
    "    theme_bw()\n",
    "\n",
    "options(repr.plot.width=5, repr.plot.height=3.5)\n",
    "plot(p)"
   ]
  },
  {
   "cell_type": "code",
   "execution_count": 40,
   "metadata": {
    "ExecuteTime": {
     "end_time": "2018-07-23T12:52:39.106288Z",
     "start_time": "2018-07-23T12:48:40.598Z"
    }
   },
   "outputs": [
    {
     "data": {
      "image/png": "[encoded data removed]",
      "text/plain": [
       "plot without title"
      ]
     },
     "metadata": {},
     "output_type": "display_data"
    }
   ],
   "source": [
    "# p-adj-value distribution\n",
    "p = ggplot(pgls_res, aes(R2, p_adj_value)) +\n",
    "    geom_point(alpha=0.3) +\n",
    "    scale_y_log10() +\n",
    "    theme_bw()\n",
    "\n",
    "options(repr.plot.width=5, repr.plot.height=3.5)\n",
    "plot(p)"
   ]
  },
  {
   "cell_type": "code",
   "execution_count": 41,
   "metadata": {
    "ExecuteTime": {
     "end_time": "2018-07-23T12:52:40.119890Z",
     "start_time": "2018-07-23T12:48:41.446Z"
    }
   },
   "outputs": [
    {
     "data": {
      "text/html": [
       "<table>\n",
       "<thead><tr><th scope=col>y</th><th scope=col>dist_metric</th><th scope=col>n</th></tr></thead>\n",
       "<tbody>\n",
       "\t<tr><td>PC1               </td><td>unweighted_unifrac</td><td>100               </td></tr>\n",
       "\t<tr><td>PC1               </td><td>weighted_unifrac  </td><td>100               </td></tr>\n",
       "\t<tr><td>PC2               </td><td>unweighted_unifrac</td><td> 90               </td></tr>\n",
       "\t<tr><td>PC2               </td><td>weighted_unifrac  </td><td> 55               </td></tr>\n",
       "\t<tr><td>PC3               </td><td>unweighted_unifrac</td><td>100               </td></tr>\n",
       "\t<tr><td>PC3               </td><td>weighted_unifrac  </td><td> 52               </td></tr>\n",
       "\t<tr><td>PC5               </td><td>weighted_unifrac  </td><td> 48               </td></tr>\n",
       "</tbody>\n",
       "</table>\n"
      ],
      "text/latex": [
       "\\begin{tabular}{r|lll}\n",
       " y & dist\\_metric & n\\\\\n",
       "\\hline\n",
       "\t PC1                  & unweighted\\_unifrac & 100                 \\\\\n",
       "\t PC1                  & weighted\\_unifrac   & 100                 \\\\\n",
       "\t PC2                  & unweighted\\_unifrac &  90                 \\\\\n",
       "\t PC2                  & weighted\\_unifrac   &  55                 \\\\\n",
       "\t PC3                  & unweighted\\_unifrac & 100                 \\\\\n",
       "\t PC3                  & weighted\\_unifrac   &  52                 \\\\\n",
       "\t PC5                  & weighted\\_unifrac   &  48                 \\\\\n",
       "\\end{tabular}\n"
      ],
      "text/markdown": [
       "\n",
       "y | dist_metric | n | \n",
       "|---|---|---|---|---|---|---|\n",
       "| PC1                | unweighted_unifrac | 100                | \n",
       "| PC1                | weighted_unifrac   | 100                | \n",
       "| PC2                | unweighted_unifrac |  90                | \n",
       "| PC2                | weighted_unifrac   |  55                | \n",
       "| PC3                | unweighted_unifrac | 100                | \n",
       "| PC3                | weighted_unifrac   |  52                | \n",
       "| PC5                | weighted_unifrac   |  48                | \n",
       "\n",
       "\n"
      ],
      "text/plain": [
       "  y   dist_metric        n  \n",
       "1 PC1 unweighted_unifrac 100\n",
       "2 PC1 weighted_unifrac   100\n",
       "3 PC2 unweighted_unifrac  90\n",
       "4 PC2 weighted_unifrac    55\n",
       "5 PC3 unweighted_unifrac 100\n",
       "6 PC3 weighted_unifrac    52\n",
       "7 PC5 weighted_unifrac    48"
      ]
     },
     "metadata": {},
     "output_type": "display_data"
    }
   ],
   "source": [
    "# No. of significant reps for each treatment group\n",
    "pgls_res %>%\n",
    "    filter(p_adj_value < 0.05) %>%\n",
    "    group_by(y, dist_metric) %>%\n",
    "    summarize(n=n()) %>%\n",
    "    ungroup()"
   ]
  },
  {
   "cell_type": "markdown",
   "metadata": {},
   "source": [
    "# Significant vars"
   ]
  },
  {
   "cell_type": "code",
   "execution_count": 45,
   "metadata": {
    "ExecuteTime": {
     "end_time": "2018-07-23T12:54:38.349266Z",
     "start_time": "2018-07-23T12:54:37.513Z"
    }
   },
   "outputs": [
    {
     "name": "stdout",
     "output_type": "stream",
     "text": [
      "   Min. 1st Qu.  Median    Mean 3rd Qu.    Max. \n",
      "  0.000   0.025   0.465   0.455   0.880   1.000 \n"
     ]
    },
    {
     "data": {
      "text/html": [
       "<table>\n",
       "<thead><tr><th scope=col>y</th><th scope=col>dist_metric</th><th scope=col>qvalue</th></tr></thead>\n",
       "<tbody>\n",
       "\t<tr><td>PC1               </td><td>unweighted_unifrac</td><td>0                 </td></tr>\n",
       "\t<tr><td>PC1               </td><td>weighted_unifrac  </td><td>0                 </td></tr>\n",
       "\t<tr><td>PC3               </td><td>unweighted_unifrac</td><td>0                 </td></tr>\n",
       "</tbody>\n",
       "</table>\n"
      ],
      "text/latex": [
       "\\begin{tabular}{r|lll}\n",
       " y & dist\\_metric & qvalue\\\\\n",
       "\\hline\n",
       "\t PC1                  & unweighted\\_unifrac & 0                   \\\\\n",
       "\t PC1                  & weighted\\_unifrac   & 0                   \\\\\n",
       "\t PC3                  & unweighted\\_unifrac & 0                   \\\\\n",
       "\\end{tabular}\n"
      ],
      "text/markdown": [
       "\n",
       "y | dist_metric | qvalue | \n",
       "|---|---|---|\n",
       "| PC1                | unweighted_unifrac | 0                  | \n",
       "| PC1                | weighted_unifrac   | 0                  | \n",
       "| PC3                | unweighted_unifrac | 0                  | \n",
       "\n",
       "\n"
      ],
      "text/plain": [
       "  y   dist_metric        qvalue\n",
       "1 PC1 unweighted_unifrac 0     \n",
       "2 PC1 weighted_unifrac   0     \n",
       "3 PC3 unweighted_unifrac 0     "
      ]
     },
     "metadata": {},
     "output_type": "display_data"
    }
   ],
   "source": [
    "# significant cutoff\n",
    "pgls_res_sig = pgls_res %>%\n",
    "    group_by(y, dist_metric) %>%\n",
    "    summarize(\n",
    "        qvalue = (length(p_adj_value) - sum(p_adj_value < 0.05)) / length(p_adj_value)\n",
    "        ) %>%\n",
    "    ungroup() \n",
    "\n",
    "pgls_res_sig$qvalue %>% summary %>% print\n",
    "\n",
    "pgls_res_sig = pgls_res_sig%>%\n",
    "    filter(qvalue < 0.05)\n",
    "\n",
    "pgls_res_sig"
   ]
  },
  {
   "cell_type": "code",
   "execution_count": 47,
   "metadata": {
    "ExecuteTime": {
     "end_time": "2018-07-23T12:55:50.521605Z",
     "start_time": "2018-07-23T12:54:56.056Z"
    }
   },
   "outputs": [
    {
     "name": "stdout",
     "output_type": "stream",
     "text": [
      "File written: /ebio/abt3_projects/Georg_animal_feces/data/host_specific/phylosignal/host_TT/PGLS/.figures/pgls_IndD_beta-div-PC_p-val-R2.pdf \n"
     ]
    },
    {
     "data": {
      "image/png": "[encoded data removed]",
      "text/plain": [
       "plot without title"
      ]
     },
     "metadata": {},
     "output_type": "display_data"
    }
   ],
   "source": [
    "# adj_p-value & R2 dist\n",
    "tmp = pgls_res %>%\n",
    "    dplyr::select(y, dist_metric, p_adj_value, R2) %>%\n",
    "    gather(category, value, -dist_metric, -y) %>%\n",
    "    mutate(category = ifelse(category == 'R2', 'R^2', 'Adj. p-value'),\n",
    "           dist_metric = ifelse(dist_metric == 'weighted_unifrac', \n",
    "                                'Weighted Unifrac', 'Unweighted Unifrac'))\n",
    "\n",
    "p = ggplot(tmp, aes(y, value)) +\n",
    "    geom_boxplot() +\n",
    "    labs(x='Beta-diversity PCoA PCs') +\n",
    "    facet_grid(dist_metric ~ category, scales='free_x') +\n",
    "    coord_flip() +\n",
    "    theme_bw() +\n",
    "    theme(\n",
    "        axis.title.x = element_blank(),\n",
    "        axis.text.x = element_text(angle=45, hjust=1)\n",
    "    )\n",
    "    \n",
    "options(repr.plot.width=5, repr.plot.height=4)\n",
    "plot_write(p, file='pgls_IndD_beta-div-PC_p-val-R2.pdf')"
   ]
  },
  {
   "cell_type": "markdown",
   "metadata": {},
   "source": [
    "# sessionInfo"
   ]
  },
  {
   "cell_type": "code",
   "execution_count": 48,
   "metadata": {
    "ExecuteTime": {
     "end_time": "2018-07-23T12:57:12.590752Z",
     "start_time": "2018-07-23T12:54:58.640Z"
    }
   },
   "outputs": [
    {
     "data": {
      "text/plain": [
       "R version 3.4.1 (2017-06-30)\n",
       "Platform: x86_64-pc-linux-gnu (64-bit)\n",
       "Running under: Ubuntu 16.04.4 LTS\n",
       "\n",
       "Matrix products: default\n",
       "BLAS: /ebio/abt3_projects/software/miniconda3/envs/py3_physeq_phylo/lib/R/lib/libRblas.so\n",
       "LAPACK: /ebio/abt3_projects/software/miniconda3/envs/py3_physeq_phylo/lib/R/lib/libRlapack.so\n",
       "\n",
       "locale:\n",
       " [1] LC_CTYPE=en_US.UTF-8       LC_NUMERIC=C              \n",
       " [3] LC_TIME=en_US.UTF-8        LC_COLLATE=en_US.UTF-8    \n",
       " [5] LC_MONETARY=en_US.UTF-8    LC_MESSAGES=en_US.UTF-8   \n",
       " [7] LC_PAPER=en_US.UTF-8       LC_NAME=C                 \n",
       " [9] LC_ADDRESS=C               LC_TELEPHONE=C            \n",
       "[11] LC_MEASUREMENT=en_US.UTF-8 LC_IDENTIFICATION=C       \n",
       "\n",
       "attached base packages:\n",
       "[1] stats     graphics  grDevices utils     datasets  methods   base     \n",
       "\n",
       "other attached packages:\n",
       " [1] bindrcpp_0.2    caper_1.0.1     mvtnorm_1.0-6   MASS_7.3-48    \n",
       " [5] ade4_1.7-10     phyloseq_1.22.3 ape_5.1         ggplot2_2.2.1  \n",
       " [9] tidyr_0.8.1     dplyr_0.7.4    \n",
       "\n",
       "loaded via a namespace (and not attached):\n",
       " [1] Rcpp_0.12.14        lattice_0.20-35     Biostrings_2.46.0  \n",
       " [4] assertthat_0.2.0    digest_0.6.13       foreach_1.4.4      \n",
       " [7] IRdisplay_0.4.4     R6_2.2.2            plyr_1.8.4         \n",
       "[10] repr_0.13           stats4_3.4.1        evaluate_0.10.1    \n",
       "[13] pillar_1.2.2        zlibbioc_1.24.0     rlang_0.2.0        \n",
       "[16] lazyeval_0.2.1      uuid_0.1-2          data.table_1.11.4  \n",
       "[19] vegan_2.4-3         S4Vectors_0.16.0    Matrix_1.2-14      \n",
       "[22] labeling_0.3        splines_3.4.1       stringr_1.2.0      \n",
       "[25] igraph_1.2.1        munsell_0.4.3       compiler_3.4.1     \n",
       "[28] pkgconfig_2.0.1     BiocGenerics_0.24.0 base64enc_0.1-3    \n",
       "[31] multtest_2.34.0     mgcv_1.8-17         htmltools_0.3.6    \n",
       "[34] tidyselect_0.2.4    biomformat_1.6.0    tibble_1.4.2       \n",
       "[37] IRanges_2.12.0      codetools_0.2-15    permute_0.9-4      \n",
       "[40] crayon_1.3.4        grid_3.4.1          nlme_3.1-137       \n",
       "[43] jsonlite_1.5        gtable_0.2.0        magrittr_1.5       \n",
       "[46] scales_0.5.0        stringi_1.1.6       XVector_0.18.0     \n",
       "[49] reshape2_1.4.3      doParallel_1.0.11   IRkernel_0.8.11    \n",
       "[52] iterators_1.0.9     tools_3.4.1         Biobase_2.38.0     \n",
       "[55] glue_1.2.0          purrr_0.2.4         parallel_3.4.1     \n",
       "[58] survival_2.40-1     colorspace_1.3-2    rhdf5_2.22.0       \n",
       "[61] cluster_2.0.6       pbdZMQ_0.3-1        bindr_0.1.1        "
      ]
     },
     "metadata": {},
     "output_type": "display_data"
    }
   ],
   "source": [
    "sessionInfo()"
   ]
  },
  {
   "cell_type": "code",
   "execution_count": null,
   "metadata": {},
   "outputs": [],
   "source": []
  }
 ],
 "metadata": {
  "kernelspec": {
   "display_name": "R [conda env:py3_physeq_phylo]",
   "language": "R",
   "name": "conda-env-py3_physeq_phylo-r"
  },
  "language_info": {
   "codemirror_mode": "r",
   "file_extension": ".r",
   "mimetype": "text/x-r-source",
   "name": "R",
   "pygments_lexer": "r",
   "version": "3.4.1"
  },
  "notify_time": "30",
  "toc": {
   "nav_menu": {},
   "number_sections": true,
   "sideBar": true,
   "skip_h1_title": false,
   "toc_cell": true,
   "toc_position": {},
   "toc_section_display": "block",
   "toc_window_display": true
  }
 },
 "nbformat": 4,
 "nbformat_minor": 2
}
