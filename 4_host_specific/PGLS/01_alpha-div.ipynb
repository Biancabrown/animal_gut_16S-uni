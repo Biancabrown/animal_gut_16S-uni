{
 "cells": [
  {
   "cell_type": "markdown",
   "metadata": {
    "toc": true
   },
   "source": [
    "<h1>Table of Contents<span class=\"tocSkip\"></span></h1>\n",
    "<div class=\"toc\"><ul class=\"toc-item\"><li><span><a href=\"#Goal\" data-toc-modified-id=\"Goal-1\"><span class=\"toc-item-num\">1&nbsp;&nbsp;</span>Goal</a></span></li><li><span><a href=\"#Var\" data-toc-modified-id=\"Var-2\"><span class=\"toc-item-num\">2&nbsp;&nbsp;</span>Var</a></span></li><li><span><a href=\"#Init\" data-toc-modified-id=\"Init-3\"><span class=\"toc-item-num\">3&nbsp;&nbsp;</span>Init</a></span></li><li><span><a href=\"#Load\" data-toc-modified-id=\"Load-4\"><span class=\"toc-item-num\">4&nbsp;&nbsp;</span>Load</a></span></li><li><span><a href=\"#SpecD\" data-toc-modified-id=\"SpecD-5\"><span class=\"toc-item-num\">5&nbsp;&nbsp;</span>SpecD</a></span><ul class=\"toc-item\"><li><span><a href=\"#General-diet\" data-toc-modified-id=\"General-diet-5.1\"><span class=\"toc-item-num\">5.1&nbsp;&nbsp;</span>General diet</a></span></li></ul></li><li><span><a href=\"#IndD-sensitivity\" data-toc-modified-id=\"IndD-sensitivity-6\"><span class=\"toc-item-num\">6&nbsp;&nbsp;</span>IndD sensitivity</a></span><ul class=\"toc-item\"><li><span><a href=\"#Host-tree-subsample\" data-toc-modified-id=\"Host-tree-subsample-6.1\"><span class=\"toc-item-num\">6.1&nbsp;&nbsp;</span>Host tree subsample</a></span></li><li><span><a href=\"#PGLS\" data-toc-modified-id=\"PGLS-6.2\"><span class=\"toc-item-num\">6.2&nbsp;&nbsp;</span>PGLS</a></span><ul class=\"toc-item\"><li><span><a href=\"#Diet\" data-toc-modified-id=\"Diet-6.2.1\"><span class=\"toc-item-num\">6.2.1&nbsp;&nbsp;</span>Diet</a></span><ul class=\"toc-item\"><li><span><a href=\"#Saving-results\" data-toc-modified-id=\"Saving-results-6.2.1.1\"><span class=\"toc-item-num\">6.2.1.1&nbsp;&nbsp;</span>Saving results</a></span></li><li><span><a href=\"#p-adjust\" data-toc-modified-id=\"p-adjust-6.2.1.2\"><span class=\"toc-item-num\">6.2.1.2&nbsp;&nbsp;</span>p-adjust</a></span></li><li><span><a href=\"#Plotting\" data-toc-modified-id=\"Plotting-6.2.1.3\"><span class=\"toc-item-num\">6.2.1.3&nbsp;&nbsp;</span>Plotting</a></span></li><li><span><a href=\"#Significant-indices\" data-toc-modified-id=\"Significant-indices-6.2.1.4\"><span class=\"toc-item-num\">6.2.1.4&nbsp;&nbsp;</span>Significant indices</a></span></li><li><span><a href=\"#Plotting\" data-toc-modified-id=\"Plotting-6.2.1.5\"><span class=\"toc-item-num\">6.2.1.5&nbsp;&nbsp;</span>Plotting</a></span></li></ul></li><li><span><a href=\"#Diet-compenents\" data-toc-modified-id=\"Diet-compenents-6.2.2\"><span class=\"toc-item-num\">6.2.2&nbsp;&nbsp;</span>Diet compenents</a></span><ul class=\"toc-item\"><li><span><a href=\"#p-adjust\" data-toc-modified-id=\"p-adjust-6.2.2.1\"><span class=\"toc-item-num\">6.2.2.1&nbsp;&nbsp;</span>p-adjust</a></span></li><li><span><a href=\"#Plotting\" data-toc-modified-id=\"Plotting-6.2.2.2\"><span class=\"toc-item-num\">6.2.2.2&nbsp;&nbsp;</span>Plotting</a></span></li><li><span><a href=\"#Significant-indices\" data-toc-modified-id=\"Significant-indices-6.2.2.3\"><span class=\"toc-item-num\">6.2.2.3&nbsp;&nbsp;</span>Significant indices</a></span></li></ul></li></ul></li></ul></li><li><span><a href=\"#sessionInfo\" data-toc-modified-id=\"sessionInfo-7\"><span class=\"toc-item-num\">7&nbsp;&nbsp;</span>sessionInfo</a></span></li></ul></div>"
   ]
  },
  {
   "cell_type": "markdown",
   "metadata": {},
   "source": [
    "# Goal\n",
    "\n",
    "* PGLS on alpha-diversity values to determine correlations with diet when accounting for phylogeny"
   ]
  },
  {
   "cell_type": "markdown",
   "metadata": {},
   "source": [
    "# Var"
   ]
  },
  {
   "cell_type": "code",
   "execution_count": 59,
   "metadata": {
    "ExecuteTime": {
     "end_time": "2018-11-29T16:09:27.899589Z",
     "start_time": "2018-11-29T16:09:27.828Z"
    }
   },
   "outputs": [],
   "source": [
    "work_dir = '/ebio/abt3_projects/Georg_animal_feces/data/host_specific/phylosignal/host_TT/PGLS/'\n",
    "\n",
    "# phyloseq\n",
    "physeq_file = '/ebio/abt3_projects/Georg_animal_feces/data/16S/LLA/phyloseq/physeq_r5k.RDS'\n",
    "\n",
    "# alpha-div calculated with qiime2\n",
    "alpha_div_file = \"/ebio/abt3_projects/Georg_animal_feces/data/16S/LLA/diversity//alpha_div.RDS\"\n",
    "\n",
    "# host SpecD tree\n",
    "host_tree_SpecD_file = '/ebio/abt3_projects/Georg_animal_feces/data/animal/phylogeny/TT/unified_metadata_complete_20180625_rn_16S-r5k_SpecD.nwk'\n",
    "\n",
    "# host IndD tree\n",
    "host_tree_IndD_file = '/ebio/abt3_projects/Georg_animal_feces/data/animal/phylogeny/TT/unified_metadata_complete_20180625_rn_16S-r5k_IndD.nwk'\n",
    "\n",
    "# params\n",
    "threads = 12"
   ]
  },
  {
   "cell_type": "markdown",
   "metadata": {},
   "source": [
    "# Init"
   ]
  },
  {
   "cell_type": "code",
   "execution_count": 60,
   "metadata": {
    "ExecuteTime": {
     "end_time": "2018-11-29T16:09:28.372402Z",
     "start_time": "2018-11-29T16:09:28.288Z"
    }
   },
   "outputs": [],
   "source": [
    "library(dplyr)\n",
    "library(tidyr)\n",
    "library(ggplot2)\n",
    "library(ape)\n",
    "library(phyloseq)\n",
    "library(ade4)\n",
    "library(ape)\n",
    "library(caper)\n",
    "source('/ebio/abt3_projects/Georg_animal_feces/code/init.R') "
   ]
  },
  {
   "cell_type": "code",
   "execution_count": 61,
   "metadata": {
    "ExecuteTime": {
     "end_time": "2018-11-29T16:09:29.098439Z",
     "start_time": "2018-11-29T16:09:29.049Z"
    }
   },
   "outputs": [
    {
     "name": "stdout",
     "output_type": "stream",
     "text": [
      "Directory already exists: /ebio/abt3_projects/Georg_animal_feces/data/host_specific/phylosignal/host_TT/PGLS/ \n"
     ]
    }
   ],
   "source": [
    "make_dir(work_dir)\n",
    "setwd(work_dir)"
   ]
  },
  {
   "cell_type": "markdown",
   "metadata": {},
   "source": [
    " # Load"
   ]
  },
  {
   "cell_type": "code",
   "execution_count": 4,
   "metadata": {
    "ExecuteTime": {
     "end_time": "2018-11-26T18:38:33.601391Z",
     "start_time": "2018-11-26T18:38:17.630Z"
    }
   },
   "outputs": [
    {
     "data": {
      "text/plain": [
       "phyloseq-class experiment-level object\n",
       "otu_table()   OTU Table:         [ 30290 taxa and 213 samples ]\n",
       "sample_data() Sample Data:       [ 213 samples by 171 sample variables ]\n",
       "tax_table()   Taxonomy Table:    [ 30290 taxa by 7 taxonomic ranks ]\n",
       "phy_tree()    Phylogenetic Tree: [ 30290 tips and 29752 internal nodes ]"
      ]
     },
     "metadata": {},
     "output_type": "display_data"
    }
   ],
   "source": [
    "# phyloseq\n",
    "physeq = readRDS(physeq_file)\n",
    "physeq"
   ]
  },
  {
   "cell_type": "code",
   "execution_count": 6,
   "metadata": {
    "ExecuteTime": {
     "end_time": "2018-11-26T18:38:38.623551Z",
     "start_time": "2018-11-26T18:38:38.230Z"
    }
   },
   "outputs": [
    {
     "name": "stderr",
     "output_type": "stream",
     "text": [
      "Warning message in class(X) <- NULL:\n",
      "“Setting class(x) to NULL;   result will no longer be an S4 object”"
     ]
    },
    {
     "name": "stdout",
     "output_type": "stream",
     "text": [
      "[1] 213  11\n"
     ]
    },
    {
     "data": {
      "text/html": [
       "<table>\n",
       "<thead><tr><th scope=col>X.SampleID</th><th scope=col>scientific_name</th><th scope=col>diet</th><th scope=col>diet_vertebrate</th><th scope=col>diet_invertebrate</th><th scope=col>diet_fruit</th><th scope=col>diet_flowers_nectar_pollen</th><th scope=col>diet_leaves_branches_bark_buds</th><th scope=col>diet_seeds</th><th scope=col>diet_grass_waterplants</th><th scope=col>diet_roots_tubers</th></tr></thead>\n",
       "<tbody>\n",
       "\t<tr><td>X1.Eurasian.Beaver</td><td>Castor_fiber      </td><td>herbivore         </td><td>no                </td><td>no                </td><td>no                </td><td>no                </td><td>yes               </td><td>no                </td><td>yes               </td><td>yes               </td></tr>\n",
       "\t<tr><td>X101.Horse        </td><td>Equus_caballus    </td><td>herbivore         </td><td>no                </td><td>no                </td><td>no                </td><td>no                </td><td>no                </td><td>yes               </td><td>yes               </td><td>no                </td></tr>\n",
       "\t<tr><td>X102.Kulan        </td><td>Equus_hemionus    </td><td>herbivore         </td><td>no                </td><td>no                </td><td>no                </td><td>no                </td><td>yes               </td><td>no                </td><td>yes               </td><td>no                </td></tr>\n",
       "</tbody>\n",
       "</table>\n"
      ],
      "text/latex": [
       "\\begin{tabular}{r|lllllllllll}\n",
       " X.SampleID & scientific\\_name & diet & diet\\_vertebrate & diet\\_invertebrate & diet\\_fruit & diet\\_flowers\\_nectar\\_pollen & diet\\_leaves\\_branches\\_bark\\_buds & diet\\_seeds & diet\\_grass\\_waterplants & diet\\_roots\\_tubers\\\\\n",
       "\\hline\n",
       "\t X1.Eurasian.Beaver & Castor\\_fiber     & herbivore          & no                 & no                 & no                 & no                 & yes                & no                 & yes                & yes               \\\\\n",
       "\t X101.Horse         & Equus\\_caballus   & herbivore          & no                 & no                 & no                 & no                 & no                 & yes                & yes                & no                \\\\\n",
       "\t X102.Kulan         & Equus\\_hemionus   & herbivore          & no                 & no                 & no                 & no                 & yes                & no                 & yes                & no                \\\\\n",
       "\\end{tabular}\n"
      ],
      "text/markdown": [
       "\n",
       "X.SampleID | scientific_name | diet | diet_vertebrate | diet_invertebrate | diet_fruit | diet_flowers_nectar_pollen | diet_leaves_branches_bark_buds | diet_seeds | diet_grass_waterplants | diet_roots_tubers | \n",
       "|---|---|---|\n",
       "| X1.Eurasian.Beaver | Castor_fiber       | herbivore          | no                 | no                 | no                 | no                 | yes                | no                 | yes                | yes                | \n",
       "| X101.Horse         | Equus_caballus     | herbivore          | no                 | no                 | no                 | no                 | no                 | yes                | yes                | no                 | \n",
       "| X102.Kulan         | Equus_hemionus     | herbivore          | no                 | no                 | no                 | no                 | yes                | no                 | yes                | no                 | \n",
       "\n",
       "\n"
      ],
      "text/plain": [
       "  X.SampleID         scientific_name diet      diet_vertebrate\n",
       "1 X1.Eurasian.Beaver Castor_fiber    herbivore no             \n",
       "2 X101.Horse         Equus_caballus  herbivore no             \n",
       "3 X102.Kulan         Equus_hemionus  herbivore no             \n",
       "  diet_invertebrate diet_fruit diet_flowers_nectar_pollen\n",
       "1 no                no         no                        \n",
       "2 no                no         no                        \n",
       "3 no                no         no                        \n",
       "  diet_leaves_branches_bark_buds diet_seeds diet_grass_waterplants\n",
       "1 yes                            no         yes                   \n",
       "2 no                             yes        yes                   \n",
       "3 yes                            no         yes                   \n",
       "  diet_roots_tubers\n",
       "1 yes              \n",
       "2 no               \n",
       "3 no               "
      ]
     },
     "metadata": {},
     "output_type": "display_data"
    }
   ],
   "source": [
    "# metadata table\n",
    "metadata = physeq %>%\n",
    "    sample_data %>%\n",
    "    as.matrix %>%\n",
    "    as.data.frame %>%\n",
    "    mutate(X.SampleID = rownames(.)) %>%\n",
    "    dplyr::select(X.SampleID, scientific_name, diet, \n",
    "                  diet_vertebrate,diet_invertebrate,diet_fruit,\n",
    "                  diet_flowers_nectar_pollen,diet_leaves_branches_bark_buds,\n",
    "                  diet_seeds,diet_grass_waterplants,diet_roots_tubers) %>%\n",
    "    mutate(scientific_name = gsub(' ', '_', scientific_name)) %>%\n",
    "    as.data.frame\n",
    "\n",
    "rownames(metadata) = metadata$SampleID\n",
    "metadata %>% dfhead"
   ]
  },
  {
   "cell_type": "code",
   "execution_count": 7,
   "metadata": {
    "ExecuteTime": {
     "end_time": "2018-11-26T18:38:40.328441Z",
     "start_time": "2018-11-26T18:38:40.220Z"
    }
   },
   "outputs": [
    {
     "data": {
      "text/plain": [
       "\n",
       "Phylogenetic tree with 128 tips and 127 internal nodes.\n",
       "\n",
       "Tip labels:\n",
       "\tSander_lucioperca, Esox_lucius, Salvelinus_fontinalis, Aspius_aspius, Leuciscus_idus, Blicca_bjoerkna, ...\n",
       "Node labels:\n",
       "\tNode1, Node2, Node3, Node4, Node5, Node6, ...\n",
       "\n",
       "Rooted; includes branch lengths."
      ]
     },
     "metadata": {},
     "output_type": "display_data"
    }
   ],
   "source": [
    "# host tree file (1 per species)\n",
    "host_tree = read.tree(host_tree_SpecD_file)\n",
    "host_tree"
   ]
  },
  {
   "cell_type": "code",
   "execution_count": 8,
   "metadata": {
    "ExecuteTime": {
     "end_time": "2018-11-26T18:38:44.905415Z",
     "start_time": "2018-11-26T18:38:44.772Z"
    }
   },
   "outputs": [
    {
     "name": "stdout",
     "output_type": "stream",
     "text": [
      "[1] 213   5\n"
     ]
    },
    {
     "data": {
      "text/html": [
       "<table>\n",
       "<thead><tr><th></th><th scope=col>pielou_e</th><th scope=col>observed_otus</th><th scope=col>shannon</th><th scope=col>faith_pd</th><th scope=col>X.SampleID</th></tr></thead>\n",
       "<tbody>\n",
       "\t<tr><th scope=row>X1.Eurasian.Beaver</th><td>0.6507254         </td><td>158               </td><td>4.752756          </td><td>16.56554          </td><td>X1.Eurasian.Beaver</td></tr>\n",
       "\t<tr><th scope=row>X101.Horse</th><td>0.9042161         </td><td>933               </td><td>8.920754          </td><td>59.46621          </td><td>X101.Horse        </td></tr>\n",
       "\t<tr><th scope=row>X102.Kulan</th><td>0.8443325         </td><td>422               </td><td>7.363508          </td><td>35.80528          </td><td>X102.Kulan        </td></tr>\n",
       "</tbody>\n",
       "</table>\n"
      ],
      "text/latex": [
       "\\begin{tabular}{r|lllll}\n",
       "  & pielou\\_e & observed\\_otus & shannon & faith\\_pd & X.SampleID\\\\\n",
       "\\hline\n",
       "\tX1.Eurasian.Beaver & 0.6507254          & 158                & 4.752756           & 16.56554           & X1.Eurasian.Beaver\\\\\n",
       "\tX101.Horse & 0.9042161          & 933                & 8.920754           & 59.46621           & X101.Horse        \\\\\n",
       "\tX102.Kulan & 0.8443325          & 422                & 7.363508           & 35.80528           & X102.Kulan        \\\\\n",
       "\\end{tabular}\n"
      ],
      "text/markdown": [
       "\n",
       "| <!--/--> | pielou_e | observed_otus | shannon | faith_pd | X.SampleID | \n",
       "|---|---|---|\n",
       "| X1.Eurasian.Beaver | 0.6507254          | 158                | 4.752756           | 16.56554           | X1.Eurasian.Beaver | \n",
       "| X101.Horse | 0.9042161          | 933                | 8.920754           | 59.46621           | X101.Horse         | \n",
       "| X102.Kulan | 0.8443325          | 422                | 7.363508           | 35.80528           | X102.Kulan         | \n",
       "\n",
       "\n"
      ],
      "text/plain": [
       "                   pielou_e  observed_otus shannon  faith_pd X.SampleID        \n",
       "X1.Eurasian.Beaver 0.6507254 158           4.752756 16.56554 X1.Eurasian.Beaver\n",
       "X101.Horse         0.9042161 933           8.920754 59.46621 X101.Horse        \n",
       "X102.Kulan         0.8443325 422           7.363508 35.80528 X102.Kulan        "
      ]
     },
     "metadata": {},
     "output_type": "display_data"
    }
   ],
   "source": [
    "# load alpha-div values\n",
    "alpha_div = readRDS(alpha_div_file)\n",
    "alpha_div = do.call(cbind, alpha_div)\n",
    "alpha_div$X.SampleID = rownames(alpha_div) \n",
    "\n",
    "alpha_div %>% dfhead"
   ]
  },
  {
   "cell_type": "markdown",
   "metadata": {},
   "source": [
    "# SpecD"
   ]
  },
  {
   "cell_type": "markdown",
   "metadata": {},
   "source": [
    "## General diet"
   ]
  },
  {
   "cell_type": "code",
   "execution_count": 9,
   "metadata": {
    "ExecuteTime": {
     "end_time": "2018-11-26T18:38:49.739958Z",
     "start_time": "2018-11-26T18:38:48.988Z"
    }
   },
   "outputs": [
    {
     "data": {
      "image/png": "[encoded data removed]",
      "text/plain": [
       "plot without title"
      ]
     },
     "metadata": {},
     "output_type": "display_data"
    }
   ],
   "source": [
    "# summarizing alpha diversity\n",
    "alpha_div_s = alpha_div %>%\n",
    "    gather(index, index_value, -X.SampleID) %>%\n",
    "    inner_join(metadata %>% dplyr::select(X.SampleID, scientific_name), \n",
    "               c('X.SampleID')) %>%\n",
    "    group_by(scientific_name, index) %>%\n",
    "    summarize(index_value = mean(index_value)) %>%\n",
    "    ungroup() %>%\n",
    "    spread(index, index_value) %>%\n",
    "    as.data.frame\n",
    "\n",
    "\n",
    "rownames(alpha_div_s) = alpha_div_s$scientific_name\n",
    "alpha_div_s$scientific_name = NULL\n",
    "\n",
    "# center + scale\n",
    "alpha_div_s = scale(alpha_div_s) %>% as.data.frame\n",
    "\n",
    "# status\n",
    "options(repr.plot.height=3.5, repr.plot.width=5)\n",
    "boxplot(alpha_div_s)"
   ]
  },
  {
   "cell_type": "code",
   "execution_count": 10,
   "metadata": {
    "ExecuteTime": {
     "end_time": "2018-11-26T18:38:53.658078Z",
     "start_time": "2018-11-26T18:38:53.500Z"
    }
   },
   "outputs": [
    {
     "name": "stdout",
     "output_type": "stream",
     "text": [
      "[1] 128   1\n"
     ]
    },
    {
     "data": {
      "text/html": [
       "<table>\n",
       "<thead><tr><th></th><th scope=col>diet</th></tr></thead>\n",
       "<tbody>\n",
       "\t<tr><th scope=row>Acrocephalus_scirpaceus</th><td>0.5</td></tr>\n",
       "\t<tr><th scope=row>Aepyceros_melampus</th><td>1.0</td></tr>\n",
       "\t<tr><th scope=row>Anas_platyrhynchos</th><td>0.5</td></tr>\n",
       "</tbody>\n",
       "</table>\n"
      ],
      "text/latex": [
       "\\begin{tabular}{r|l}\n",
       "  & diet\\\\\n",
       "\\hline\n",
       "\tAcrocephalus\\_scirpaceus & 0.5\\\\\n",
       "\tAepyceros\\_melampus & 1.0\\\\\n",
       "\tAnas\\_platyrhynchos & 0.5\\\\\n",
       "\\end{tabular}\n"
      ],
      "text/markdown": [
       "\n",
       "| <!--/--> | diet | \n",
       "|---|---|---|\n",
       "| Acrocephalus_scirpaceus | 0.5 | \n",
       "| Aepyceros_melampus | 1.0 | \n",
       "| Anas_platyrhynchos | 0.5 | \n",
       "\n",
       "\n"
      ],
      "text/plain": [
       "                        diet\n",
       "Acrocephalus_scirpaceus 0.5 \n",
       "Aepyceros_melampus      1.0 \n",
       "Anas_platyrhynchos      0.5 "
      ]
     },
     "metadata": {},
     "output_type": "display_data"
    }
   ],
   "source": [
    "# formatting diet\n",
    "majority_rules = function(x){\n",
    "    y = table(x) %>% sort(decreasing=TRUE)\n",
    "    z = NA\n",
    "    if(y[1] > y[2]){\n",
    "        z = names(y)[1]\n",
    "    } else {\n",
    "        z = y[y == y[1]]\n",
    "        z = base::sample(z, 1)\n",
    "    }\n",
    "    return(z)\n",
    "}\n",
    "\n",
    "diet = metadata %>%\n",
    "    mutate(diet = ifelse(diet == 'herbivore', 1,\n",
    "                        ifelse(diet == 'omnivore', 0.5, 0))) %>%\n",
    "    group_by(scientific_name) %>%\n",
    "    summarize(diet = mean(diet)) %>%\n",
    "    ungroup() %>%\n",
    "    as.data.frame\n",
    "\n",
    "rownames(diet) = diet$scientific_name\n",
    "diet$scientific_name = NULL\n",
    "\n",
    "diet %>% dfhead"
   ]
  },
  {
   "cell_type": "code",
   "execution_count": 11,
   "metadata": {
    "ExecuteTime": {
     "end_time": "2018-11-26T18:38:56.850316Z",
     "start_time": "2018-11-26T18:38:56.740Z"
    }
   },
   "outputs": [
    {
     "name": "stdout",
     "output_type": "stream",
     "text": [
      "[1] 128   6\n"
     ]
    },
    {
     "data": {
      "text/html": [
       "<table>\n",
       "<thead><tr><th></th><th scope=col>faith_pd</th><th scope=col>observed_otus</th><th scope=col>pielou_e</th><th scope=col>shannon</th><th scope=col>diet</th><th scope=col>taxa</th></tr></thead>\n",
       "<tbody>\n",
       "\t<tr><th scope=row>Acrocephalus_scirpaceus</th><td>-0.5849527             </td><td>-0.6358356             </td><td>-0.36400864            </td><td>-0.4780466             </td><td>0.5                    </td><td>Acrocephalus_scirpaceus</td></tr>\n",
       "\t<tr><th scope=row>Aepyceros_melampus</th><td> 0.8717978             </td><td> 1.0924104             </td><td>-0.04600453            </td><td> 0.4806973             </td><td>1.0                    </td><td>Aepyceros_melampus     </td></tr>\n",
       "\t<tr><th scope=row>Anas_platyrhynchos</th><td>-0.5194136             </td><td>-0.5733689             </td><td>-0.48567280            </td><td>-0.4774631             </td><td>0.5                    </td><td>Anas_platyrhynchos     </td></tr>\n",
       "</tbody>\n",
       "</table>\n"
      ],
      "text/latex": [
       "\\begin{tabular}{r|llllll}\n",
       "  & faith\\_pd & observed\\_otus & pielou\\_e & shannon & diet & taxa\\\\\n",
       "\\hline\n",
       "\tAcrocephalus\\_scirpaceus & -0.5849527                & -0.6358356                & -0.36400864               & -0.4780466                & 0.5                       & Acrocephalus\\_scirpaceus\\\\\n",
       "\tAepyceros\\_melampus &  0.8717978                &  1.0924104                & -0.04600453               &  0.4806973                & 1.0                       & Aepyceros\\_melampus     \\\\\n",
       "\tAnas\\_platyrhynchos & -0.5194136                & -0.5733689                & -0.48567280               & -0.4774631                & 0.5                       & Anas\\_platyrhynchos     \\\\\n",
       "\\end{tabular}\n"
      ],
      "text/markdown": [
       "\n",
       "| <!--/--> | faith_pd | observed_otus | pielou_e | shannon | diet | taxa | \n",
       "|---|---|---|\n",
       "| Acrocephalus_scirpaceus | -0.5849527              | -0.6358356              | -0.36400864             | -0.4780466              | 0.5                     | Acrocephalus_scirpaceus | \n",
       "| Aepyceros_melampus |  0.8717978              |  1.0924104              | -0.04600453             |  0.4806973              | 1.0                     | Aepyceros_melampus      | \n",
       "| Anas_platyrhynchos | -0.5194136              | -0.5733689              | -0.48567280             | -0.4774631              | 0.5                     | Anas_platyrhynchos      | \n",
       "\n",
       "\n"
      ],
      "text/plain": [
       "                        faith_pd   observed_otus pielou_e    shannon    diet\n",
       "Acrocephalus_scirpaceus -0.5849527 -0.6358356    -0.36400864 -0.4780466 0.5 \n",
       "Aepyceros_melampus       0.8717978  1.0924104    -0.04600453  0.4806973 1.0 \n",
       "Anas_platyrhynchos      -0.5194136 -0.5733689    -0.48567280 -0.4774631 0.5 \n",
       "                        taxa                   \n",
       "Acrocephalus_scirpaceus Acrocephalus_scirpaceus\n",
       "Aepyceros_melampus      Aepyceros_melampus     \n",
       "Anas_platyrhynchos      Anas_platyrhynchos     "
      ]
     },
     "metadata": {},
     "output_type": "display_data"
    }
   ],
   "source": [
    "# combine alpha_div & diet\n",
    "alpha_div_s = cbind(alpha_div_s, diet[rownames(alpha_div_s),])\n",
    "colnames(alpha_div_s)[ncol(alpha_div_s)] = 'diet'\n",
    "alpha_div_s$taxa = rownames(alpha_div_s)\n",
    "\n",
    "alpha_div_s %>% dfhead"
   ]
  },
  {
   "cell_type": "code",
   "execution_count": 12,
   "metadata": {
    "ExecuteTime": {
     "end_time": "2018-11-26T18:39:01.940248Z",
     "start_time": "2018-11-26T18:38:58.844Z"
    }
   },
   "outputs": [
    {
     "data": {
      "image/png": "[encoded data removed]",
      "text/plain": [
       "plot without title"
      ]
     },
     "metadata": {},
     "output_type": "display_data"
    }
   ],
   "source": [
    "# plotting association\n",
    "p = ggplot(alpha_div_s, aes(diet, faith_pd)) +\n",
    "    geom_point() +\n",
    "    geom_smooth(method='lm') +\n",
    "    theme_bw()\n",
    "\n",
    "plot(p)"
   ]
  },
  {
   "cell_type": "code",
   "execution_count": 13,
   "metadata": {
    "ExecuteTime": {
     "end_time": "2018-11-26T18:39:03.641178Z",
     "start_time": "2018-11-26T18:38:59.348Z"
    }
   },
   "outputs": [
    {
     "data": {
      "image/png": "[encoded data removed]",
      "text/plain": [
       "plot without title"
      ]
     },
     "metadata": {},
     "output_type": "display_data"
    }
   ],
   "source": [
    "# plotting association\n",
    "p = ggplot(alpha_div_s, aes(diet, shannon)) +\n",
    "    geom_point() +\n",
    "    geom_smooth(method='lm') +\n",
    "    theme_bw()\n",
    "\n",
    "plot(p)"
   ]
  },
  {
   "cell_type": "code",
   "execution_count": 14,
   "metadata": {
    "ExecuteTime": {
     "end_time": "2018-11-26T18:39:03.752046Z",
     "start_time": "2018-11-26T18:39:01.227Z"
    }
   },
   "outputs": [
    {
     "data": {
      "text/plain": [
       "\n",
       "Call:\n",
       "lm(formula = faith_pd ~ diet, data = alpha_div_s)\n",
       "\n",
       "Residuals:\n",
       "     Min       1Q   Median       3Q      Max \n",
       "-1.67387 -0.46500 -0.06539  0.40834  1.77071 \n",
       "\n",
       "Coefficients:\n",
       "            Estimate Std. Error t value Pr(>|t|)    \n",
       "(Intercept) -0.76113    0.09912  -7.679 3.88e-12 ***\n",
       "diet         1.62375    0.15859  10.238  < 2e-16 ***\n",
       "---\n",
       "Signif. codes:  0 ‘***’ 0.001 ‘**’ 0.01 ‘*’ 0.05 ‘.’ 0.1 ‘ ’ 1\n",
       "\n",
       "Residual standard error: 0.7418 on 126 degrees of freedom\n",
       "Multiple R-squared:  0.4541,\tAdjusted R-squared:  0.4498 \n",
       "F-statistic: 104.8 on 1 and 126 DF,  p-value: < 2.2e-16\n"
      ]
     },
     "metadata": {},
     "output_type": "display_data"
    }
   ],
   "source": [
    "# linear regression\n",
    "lm(faith_pd ~ diet, data=alpha_div_s) %>% summary"
   ]
  },
  {
   "cell_type": "code",
   "execution_count": 15,
   "metadata": {
    "ExecuteTime": {
     "end_time": "2018-11-26T18:39:03.809971Z",
     "start_time": "2018-11-26T18:39:01.343Z"
    }
   },
   "outputs": [
    {
     "data": {
      "text/plain": [
       "\n",
       "Call:\n",
       "lm(formula = faith_pd ~ shannon, data = alpha_div_s)\n",
       "\n",
       "Residuals:\n",
       "     Min       1Q   Median       3Q      Max \n",
       "-0.71268 -0.31616 -0.07865  0.28306  1.18730 \n",
       "\n",
       "Coefficients:\n",
       "              Estimate Std. Error t value Pr(>|t|)    \n",
       "(Intercept) -1.779e-17  3.898e-02    0.00        1    \n",
       "shannon      8.984e-01  3.913e-02   22.96   <2e-16 ***\n",
       "---\n",
       "Signif. codes:  0 ‘***’ 0.001 ‘**’ 0.01 ‘*’ 0.05 ‘.’ 0.1 ‘ ’ 1\n",
       "\n",
       "Residual standard error: 0.441 on 126 degrees of freedom\n",
       "Multiple R-squared:  0.8071,\tAdjusted R-squared:  0.8055 \n",
       "F-statistic: 527.1 on 1 and 126 DF,  p-value: < 2.2e-16\n"
      ]
     },
     "metadata": {},
     "output_type": "display_data"
    }
   ],
   "source": [
    "# linear regression\n",
    "lm(faith_pd ~ shannon, data=alpha_div_s) %>% summary"
   ]
  },
  {
   "cell_type": "code",
   "execution_count": 16,
   "metadata": {
    "ExecuteTime": {
     "end_time": "2018-11-26T18:39:03.842342Z",
     "start_time": "2018-11-26T18:39:01.449Z"
    }
   },
   "outputs": [],
   "source": [
    "# convert to caper object\n",
    "cdat = comparative.data(data=alpha_div_s, phy=host_tree, names.col=\"taxa\")"
   ]
  },
  {
   "cell_type": "code",
   "execution_count": 17,
   "metadata": {
    "ExecuteTime": {
     "end_time": "2018-11-26T18:39:07.217305Z",
     "start_time": "2018-11-26T18:39:06.580Z"
    }
   },
   "outputs": [
    {
     "data": {
      "text/plain": [
       "\n",
       "Call:\n",
       "pgls(formula = faith_pd ~ diet, data = cdat, lambda = 0.5)\n",
       "\n",
       "Residuals:\n",
       "      Min        1Q    Median        3Q       Max \n",
       "-0.102526 -0.026604  0.000761  0.021613  0.135322 \n",
       "\n",
       "Branch length transformations:\n",
       "\n",
       "kappa  [Fix]  : 1.000\n",
       "lambda [Fix]  : 0.500\n",
       "delta  [Fix]  : 1.000\n",
       "\n",
       "Coefficients:\n",
       "            Estimate Std. Error t value  Pr(>|t|)    \n",
       "(Intercept) -0.60219    0.30975 -1.9442   0.05411 .  \n",
       "diet         1.39427    0.18149  7.6825 3.807e-12 ***\n",
       "---\n",
       "Signif. codes:  0 ‘***’ 0.001 ‘**’ 0.01 ‘*’ 0.05 ‘.’ 0.1 ‘ ’ 1\n",
       "\n",
       "Residual standard error: 0.0413 on 126 degrees of freedom\n",
       "Multiple R-squared: 0.319,\tAdjusted R-squared: 0.3136 \n",
       "F-statistic: 59.02 on 1 and 126 DF,  p-value: 3.807e-12 "
      ]
     },
     "metadata": {},
     "output_type": "display_data"
    }
   ],
   "source": [
    "# pgls\n",
    "pgls(faith_pd ~ diet, data=cdat, lambda=0.5) %>% summary"
   ]
  },
  {
   "cell_type": "code",
   "execution_count": 18,
   "metadata": {
    "ExecuteTime": {
     "end_time": "2018-11-26T18:39:08.095995Z",
     "start_time": "2018-11-26T18:39:07.123Z"
    }
   },
   "outputs": [
    {
     "data": {
      "text/plain": [
       "\n",
       "Call:\n",
       "pgls(formula = shannon ~ diet, data = cdat, lambda = 0.5)\n",
       "\n",
       "Residuals:\n",
       "      Min        1Q    Median        3Q       Max \n",
       "-0.102675 -0.025473 -0.001355  0.037282  0.112826 \n",
       "\n",
       "Branch length transformations:\n",
       "\n",
       "kappa  [Fix]  : 1.000\n",
       "lambda [Fix]  : 0.500\n",
       "delta  [Fix]  : 1.000\n",
       "\n",
       "Coefficients:\n",
       "            Estimate Std. Error t value  Pr(>|t|)    \n",
       "(Intercept) -0.58992    0.33638 -1.7537   0.08191 .  \n",
       "diet         1.24766    0.19709  6.3303 3.927e-09 ***\n",
       "---\n",
       "Signif. codes:  0 ‘***’ 0.001 ‘**’ 0.01 ‘*’ 0.05 ‘.’ 0.1 ‘ ’ 1\n",
       "\n",
       "Residual standard error: 0.04485 on 126 degrees of freedom\n",
       "Multiple R-squared: 0.2413,\tAdjusted R-squared: 0.2353 \n",
       "F-statistic: 40.07 on 1 and 126 DF,  p-value: 3.927e-09 "
      ]
     },
     "metadata": {},
     "output_type": "display_data"
    }
   ],
   "source": [
    "# pgls\n",
    "pgls(shannon ~ diet, data=cdat, lambda=0.5) %>% summary"
   ]
  },
  {
   "cell_type": "markdown",
   "metadata": {},
   "source": [
    "# IndD sensitivity\n",
    "\n",
    "* Subsamplings of 1 sample per species"
   ]
  },
  {
   "cell_type": "code",
   "execution_count": 19,
   "metadata": {
    "ExecuteTime": {
     "end_time": "2018-11-26T18:39:11.420369Z",
     "start_time": "2018-11-26T18:39:11.355Z"
    }
   },
   "outputs": [],
   "source": [
    "to_binary = function(x){\n",
    "    x = gsub(' .+', '', x)\n",
    "    stopifnot(x %in% c('yes', 'no'))\n",
    "    ifelse(x=='yes', 1, 0)\n",
    "}"
   ]
  },
  {
   "cell_type": "code",
   "execution_count": 20,
   "metadata": {
    "ExecuteTime": {
     "end_time": "2018-11-26T18:39:16.522197Z",
     "start_time": "2018-11-26T18:39:16.227Z"
    }
   },
   "outputs": [
    {
     "name": "stdout",
     "output_type": "stream",
     "text": [
      "[1] 213  16\n"
     ]
    },
    {
     "data": {
      "text/html": [
       "<table>\n",
       "<thead><tr><th></th><th scope=col>pielou_e</th><th scope=col>observed_otus</th><th scope=col>shannon</th><th scope=col>faith_pd</th><th scope=col>X.SampleID</th><th scope=col>scientific_name</th><th scope=col>diet</th><th scope=col>diet_vertebrate</th><th scope=col>diet_invertebrate</th><th scope=col>diet_fruit</th><th scope=col>diet_flowers_nectar_pollen</th><th scope=col>diet_leaves_branches_bark_buds</th><th scope=col>diet_seeds</th><th scope=col>diet_grass_waterplants</th><th scope=col>diet_roots_tubers</th><th scope=col>taxa</th></tr></thead>\n",
       "<tbody>\n",
       "\t<tr><th scope=row>X1.Eurasian.Beaver</th><td>0.6507254         </td><td>158               </td><td>4.752756          </td><td>16.56554          </td><td>X1.Eurasian.Beaver</td><td>Castor_fiber      </td><td>herbivore         </td><td>0                 </td><td>0                 </td><td>0                 </td><td>0                 </td><td>1                 </td><td>0                 </td><td>1                 </td><td>1                 </td><td>X1.Eurasian.Beaver</td></tr>\n",
       "\t<tr><th scope=row>X101.Horse</th><td>0.9042161         </td><td>933               </td><td>8.920754          </td><td>59.46621          </td><td>X101.Horse        </td><td>Equus_caballus    </td><td>herbivore         </td><td>0                 </td><td>0                 </td><td>0                 </td><td>0                 </td><td>0                 </td><td>1                 </td><td>1                 </td><td>0                 </td><td>X101.Horse        </td></tr>\n",
       "\t<tr><th scope=row>X102.Kulan</th><td>0.8443325         </td><td>422               </td><td>7.363508          </td><td>35.80528          </td><td>X102.Kulan        </td><td>Equus_hemionus    </td><td>herbivore         </td><td>0                 </td><td>0                 </td><td>0                 </td><td>0                 </td><td>1                 </td><td>0                 </td><td>1                 </td><td>0                 </td><td>X102.Kulan        </td></tr>\n",
       "</tbody>\n",
       "</table>\n"
      ],
      "text/latex": [
       "\\begin{tabular}{r|llllllllllllllll}\n",
       "  & pielou\\_e & observed\\_otus & shannon & faith\\_pd & X.SampleID & scientific\\_name & diet & diet\\_vertebrate & diet\\_invertebrate & diet\\_fruit & diet\\_flowers\\_nectar\\_pollen & diet\\_leaves\\_branches\\_bark\\_buds & diet\\_seeds & diet\\_grass\\_waterplants & diet\\_roots\\_tubers & taxa\\\\\n",
       "\\hline\n",
       "\tX1.Eurasian.Beaver & 0.6507254          & 158                & 4.752756           & 16.56554           & X1.Eurasian.Beaver & Castor\\_fiber     & herbivore          & 0                  & 0                  & 0                  & 0                  & 1                  & 0                  & 1                  & 1                  & X1.Eurasian.Beaver\\\\\n",
       "\tX101.Horse & 0.9042161          & 933                & 8.920754           & 59.46621           & X101.Horse         & Equus\\_caballus   & herbivore          & 0                  & 0                  & 0                  & 0                  & 0                  & 1                  & 1                  & 0                  & X101.Horse        \\\\\n",
       "\tX102.Kulan & 0.8443325          & 422                & 7.363508           & 35.80528           & X102.Kulan         & Equus\\_hemionus   & herbivore          & 0                  & 0                  & 0                  & 0                  & 1                  & 0                  & 1                  & 0                  & X102.Kulan        \\\\\n",
       "\\end{tabular}\n"
      ],
      "text/markdown": [
       "\n",
       "| <!--/--> | pielou_e | observed_otus | shannon | faith_pd | X.SampleID | scientific_name | diet | diet_vertebrate | diet_invertebrate | diet_fruit | diet_flowers_nectar_pollen | diet_leaves_branches_bark_buds | diet_seeds | diet_grass_waterplants | diet_roots_tubers | taxa | \n",
       "|---|---|---|\n",
       "| X1.Eurasian.Beaver | 0.6507254          | 158                | 4.752756           | 16.56554           | X1.Eurasian.Beaver | Castor_fiber       | herbivore          | 0                  | 0                  | 0                  | 0                  | 1                  | 0                  | 1                  | 1                  | X1.Eurasian.Beaver | \n",
       "| X101.Horse | 0.9042161          | 933                | 8.920754           | 59.46621           | X101.Horse         | Equus_caballus     | herbivore          | 0                  | 0                  | 0                  | 0                  | 0                  | 1                  | 1                  | 0                  | X101.Horse         | \n",
       "| X102.Kulan | 0.8443325          | 422                | 7.363508           | 35.80528           | X102.Kulan         | Equus_hemionus     | herbivore          | 0                  | 0                  | 0                  | 0                  | 1                  | 0                  | 1                  | 0                  | X102.Kulan         | \n",
       "\n",
       "\n"
      ],
      "text/plain": [
       "                   pielou_e  observed_otus shannon  faith_pd X.SampleID        \n",
       "X1.Eurasian.Beaver 0.6507254 158           4.752756 16.56554 X1.Eurasian.Beaver\n",
       "X101.Horse         0.9042161 933           8.920754 59.46621 X101.Horse        \n",
       "X102.Kulan         0.8443325 422           7.363508 35.80528 X102.Kulan        \n",
       "                   scientific_name diet      diet_vertebrate diet_invertebrate\n",
       "X1.Eurasian.Beaver Castor_fiber    herbivore 0               0                \n",
       "X101.Horse         Equus_caballus  herbivore 0               0                \n",
       "X102.Kulan         Equus_hemionus  herbivore 0               0                \n",
       "                   diet_fruit diet_flowers_nectar_pollen\n",
       "X1.Eurasian.Beaver 0          0                         \n",
       "X101.Horse         0          0                         \n",
       "X102.Kulan         0          0                         \n",
       "                   diet_leaves_branches_bark_buds diet_seeds\n",
       "X1.Eurasian.Beaver 1                              0         \n",
       "X101.Horse         0                              1         \n",
       "X102.Kulan         1                              0         \n",
       "                   diet_grass_waterplants diet_roots_tubers taxa              \n",
       "X1.Eurasian.Beaver 1                      1                 X1.Eurasian.Beaver\n",
       "X101.Horse         1                      0                 X101.Horse        \n",
       "X102.Kulan         1                      0                 X102.Kulan        "
      ]
     },
     "metadata": {},
     "output_type": "display_data"
    }
   ],
   "source": [
    "# alpha diversity\n",
    "tmp = metadata %>% \n",
    "    dplyr::select(X.SampleID, scientific_name, diet,\n",
    "                 diet_vertebrate,diet_invertebrate,diet_fruit,\n",
    "                  diet_flowers_nectar_pollen,diet_leaves_branches_bark_buds,\n",
    "                  diet_seeds,diet_grass_waterplants,diet_roots_tubers)\n",
    "\n",
    "alpha_div_j = alpha_div %>%\n",
    "    inner_join(tmp, c('X.SampleID')) %>%\n",
    "    mutate(taxa = X.SampleID,\n",
    "           diet_vertebrate = to_binary(diet_vertebrate),\n",
    "           diet_invertebrate = to_binary(diet_invertebrate),\n",
    "           diet_fruit = to_binary(diet_fruit),\n",
    "           diet_flowers_nectar_pollen = to_binary(diet_flowers_nectar_pollen),\n",
    "           diet_leaves_branches_bark_buds = to_binary(diet_leaves_branches_bark_buds),\n",
    "           diet_seeds = to_binary(diet_seeds),\n",
    "           diet_grass_waterplants = to_binary(diet_grass_waterplants),\n",
    "          diet_roots_tubers = to_binary(diet_roots_tubers)) %>%\n",
    "    as.data.frame\n",
    "\n",
    "rownames(alpha_div_j) = alpha_div_j$X.SampleID\n",
    "\n",
    "alpha_div_j %>% dfhead"
   ]
  },
  {
   "cell_type": "markdown",
   "metadata": {},
   "source": [
    "## Host tree subsample"
   ]
  },
  {
   "cell_type": "code",
   "execution_count": 21,
   "metadata": {
    "ExecuteTime": {
     "end_time": "2018-11-26T18:39:18.555187Z",
     "start_time": "2018-11-26T18:39:18.187Z"
    }
   },
   "outputs": [
    {
     "data": {
      "text/plain": [
       "\n",
       "Phylogenetic tree with 213 tips and 177 internal nodes.\n",
       "\n",
       "Tip labels:\n",
       "\tX256.Zander, F302.Northern.Pike, X188.Brook.Trout, F300.Asp, X330.Ide, X327.Silver.Bream, ...\n",
       "Node labels:\n",
       "\tNode1, Node2, Node3, Node4, Node5, Node6, ...\n",
       "\n",
       "Rooted; includes branch lengths."
      ]
     },
     "metadata": {},
     "output_type": "display_data"
    }
   ],
   "source": [
    "host_tree = read.tree(host_tree_IndD_file)\n",
    "host_tree"
   ]
  },
  {
   "cell_type": "code",
   "execution_count": 22,
   "metadata": {
    "ExecuteTime": {
     "end_time": "2018-11-26T18:39:19.437633Z",
     "start_time": "2018-11-26T18:39:19.368Z"
    }
   },
   "outputs": [],
   "source": [
    "#' randomly selecting one per group\n",
    "tree_subsample = function(L, df, tree){\n",
    "    # get subsample (note: subsampling within each species)\n",
    "    to_keep = df %>% \n",
    "        group_by(scientific_name) %>% \n",
    "        sample_n(1) %>%\n",
    "        .$sample\n",
    "    # subsampling tree\n",
    "    to_rm = setdiff(tree$tip.label, to_keep)\n",
    "    tree = drop.tip(tree, to_rm)\n",
    "    return(tree)\n",
    "}"
   ]
  },
  {
   "cell_type": "code",
   "execution_count": 23,
   "metadata": {
    "ExecuteTime": {
     "end_time": "2018-11-26T18:39:21.391807Z",
     "start_time": "2018-11-26T18:39:20.509Z"
    }
   },
   "outputs": [
    {
     "data": {
      "text/html": [
       "100"
      ],
      "text/latex": [
       "100"
      ],
      "text/markdown": [
       "100"
      ],
      "text/plain": [
       "[1] 100"
      ]
     },
     "metadata": {},
     "output_type": "display_data"
    }
   ],
   "source": [
    "# permuted trees\n",
    "df = metadata %>%\n",
    "    mutate(sample = X.SampleID) %>%\n",
    "    dplyr::select(sample, scientific_name) \n",
    "\n",
    "doParallel::registerDoParallel(threads)\n",
    "host_tree_l = plyr::llply(as.list(1:100), \n",
    "                          function(x) tree_subsample(x, df, host_tree),\n",
    "                          .parallel=TRUE)\n",
    "host_tree_l %>% length"
   ]
  },
  {
   "cell_type": "code",
   "execution_count": 24,
   "metadata": {
    "ExecuteTime": {
     "end_time": "2018-11-26T18:39:22.444479Z",
     "start_time": "2018-11-26T18:39:22.348Z"
    }
   },
   "outputs": [
    {
     "data": {
      "text/plain": [
       "   Min. 1st Qu.  Median    Mean 3rd Qu.    Max. \n",
       "    128     128     128     128     128     128 "
      ]
     },
     "metadata": {},
     "output_type": "display_data"
    }
   ],
   "source": [
    "# check tips per tree\n",
    "lapply(host_tree_l, function(x) x$tip.label %>% length) %>% unlist %>% summary"
   ]
  },
  {
   "cell_type": "code",
   "execution_count": 25,
   "metadata": {
    "ExecuteTime": {
     "end_time": "2018-11-26T18:39:23.676180Z",
     "start_time": "2018-11-26T18:39:23.594Z"
    }
   },
   "outputs": [
    {
     "name": "stdout",
     "output_type": "stream",
     "text": [
      "[1] 0\n",
      "[1] 0\n"
     ]
    }
   ],
   "source": [
    "# check overlap\n",
    "setdiff(host_tree$tip.label, rownames(alpha_div_j)) %>% length %>% print\n",
    "setdiff(rownames(alpha_div_j), host_tree$tip.label) %>% length %>% print"
   ]
  },
  {
   "cell_type": "markdown",
   "metadata": {},
   "source": [
    "## PGLS"
   ]
  },
  {
   "cell_type": "code",
   "execution_count": 26,
   "metadata": {
    "ExecuteTime": {
     "end_time": "2018-11-26T18:39:28.146470Z",
     "start_time": "2018-11-26T18:39:28.063Z"
    }
   },
   "outputs": [],
   "source": [
    "pgls_each_var = function(y, x, tree, data){\n",
    "    cdat = comparative.data(data=data, phy=tree, names.col=\"taxa\")\n",
    "    \n",
    "    f = as.formula(paste(c(y, x), collapse=' ~ '))\n",
    "    mod = pgls(f, data=cdat, lambda=0.5) %>% summary\n",
    "    \n",
    "    df = mod$coefficients %>% as.data.frame\n",
    "    colnames(df) = c('Estimate', 'std_err', 't_value', 'p_value')\n",
    "    df$R2 = mod$adj.r.squared %>% as.vector %>% .[1]\n",
    "    df$x = x\n",
    "    df$y = y\n",
    "    df = df[2,] %>% as.data.frame\n",
    "    return(df)\n",
    "}"
   ]
  },
  {
   "cell_type": "code",
   "execution_count": 27,
   "metadata": {
    "ExecuteTime": {
     "end_time": "2018-11-26T18:39:30.207599Z",
     "start_time": "2018-11-26T18:39:30.139Z"
    }
   },
   "outputs": [],
   "source": [
    "pgls_each_tree = function(rep, y, x, tree_list, data){\n",
    "    tree = tree_list[[rep]]\n",
    "    data = data[tree$tip.label,] \n",
    "    \n",
    "    ret = plyr::llply(as.list(y),\n",
    "                      pgls_each_var,\n",
    "                      x = x,\n",
    "                      tree = tree,\n",
    "                      data = data,\n",
    "                      .parallel = FALSE)\n",
    "    ret = do.call(rbind, ret)\n",
    "    ret$rep = rep\n",
    "    return(ret)\n",
    "}"
   ]
  },
  {
   "cell_type": "code",
   "execution_count": 28,
   "metadata": {
    "ExecuteTime": {
     "end_time": "2018-11-26T18:39:42.491458Z",
     "start_time": "2018-11-26T18:39:41.346Z"
    }
   },
   "outputs": [
    {
     "data": {
      "text/html": [
       "<table>\n",
       "<thead><tr><th></th><th scope=col>faith_pd</th><th scope=col>shannon</th></tr></thead>\n",
       "<tbody>\n",
       "\t<tr><th scope=row>Estimate</th><td>16.2061187803868    </td><td>2.17672119908929    </td></tr>\n",
       "\t<tr><th scope=row>std_err</th><td>2.42959656346974    </td><td>0.428153897146122   </td></tr>\n",
       "\t<tr><th scope=row>t_value</th><td>6.67029210695073    </td><td>5.08396913726189    </td></tr>\n",
       "\t<tr><th scope=row>p_value</th><td>7.39326599941137e-10</td><td>1.31475045428431e-06</td></tr>\n",
       "\t<tr><th scope=row>R2</th><td>0.250739685590985   </td><td>0.158121829513085   </td></tr>\n",
       "\t<tr><th scope=row>x</th><td>diet                </td><td>diet                </td></tr>\n",
       "\t<tr><th scope=row>y</th><td>faith_pd            </td><td>shannon             </td></tr>\n",
       "\t<tr><th scope=row>rep</th><td>1                   </td><td>1                   </td></tr>\n",
       "</tbody>\n",
       "</table>\n"
      ],
      "text/latex": [
       "\\begin{tabular}{r|ll}\n",
       "  & faith\\_pd & shannon\\\\\n",
       "\\hline\n",
       "\tEstimate & 16.2061187803868     & 2.17672119908929    \\\\\n",
       "\tstd\\_err & 2.42959656346974     & 0.428153897146122   \\\\\n",
       "\tt\\_value & 6.67029210695073     & 5.08396913726189    \\\\\n",
       "\tp\\_value & 7.39326599941137e-10 & 1.31475045428431e-06\\\\\n",
       "\tR2 & 0.250739685590985    & 0.158121829513085   \\\\\n",
       "\tx & diet                 & diet                \\\\\n",
       "\ty & faith\\_pd             & shannon               \\\\\n",
       "\trep & 1                    & 1                   \\\\\n",
       "\\end{tabular}\n"
      ],
      "text/markdown": [
       "\n",
       "| <!--/--> | faith_pd | shannon | \n",
       "|---|---|---|---|---|---|---|---|\n",
       "| Estimate | 16.2061187803868     | 2.17672119908929     | \n",
       "| std_err | 2.42959656346974     | 0.428153897146122    | \n",
       "| t_value | 6.67029210695073     | 5.08396913726189     | \n",
       "| p_value | 7.39326599941137e-10 | 1.31475045428431e-06 | \n",
       "| R2 | 0.250739685590985    | 0.158121829513085    | \n",
       "| x | diet                 | diet                 | \n",
       "| y | faith_pd             | shannon              | \n",
       "| rep | 1                    | 1                    | \n",
       "\n",
       "\n"
      ],
      "text/plain": [
       "         faith_pd             shannon             \n",
       "Estimate 16.2061187803868     2.17672119908929    \n",
       "std_err  2.42959656346974     0.428153897146122   \n",
       "t_value  6.67029210695073     5.08396913726189    \n",
       "p_value  7.39326599941137e-10 1.31475045428431e-06\n",
       "R2       0.250739685590985    0.158121829513085   \n",
       "x        diet                 diet                \n",
       "y        faith_pd             shannon             \n",
       "rep      1                    1                   "
      ]
     },
     "metadata": {},
     "output_type": "display_data"
    }
   ],
   "source": [
    "#-- debug --#\n",
    "y = c('faith_pd', 'shannon')\n",
    "\n",
    "rep = 1\n",
    "ret = pgls_each_tree(rep,\n",
    "                     y = y,\n",
    "                     x = 'diet',\n",
    "                     tree_list = host_tree_l,\n",
    "                     data = alpha_div_j)\n",
    "\n",
    "ret = do.call(rbind, ret) %>%\n",
    "    as.data.frame\n",
    "colnames(ret) = y\n",
    "\n",
    "ret "
   ]
  },
  {
   "cell_type": "markdown",
   "metadata": {},
   "source": [
    "### Diet"
   ]
  },
  {
   "cell_type": "code",
   "execution_count": 29,
   "metadata": {
    "ExecuteTime": {
     "end_time": "2018-11-26T18:39:54.763060Z",
     "start_time": "2018-11-26T18:39:46.171Z"
    }
   },
   "outputs": [
    {
     "name": "stdout",
     "output_type": "stream",
     "text": [
      "[1] 200   8\n"
     ]
    },
    {
     "data": {
      "text/html": [
       "<table>\n",
       "<thead><tr><th scope=col>Estimate</th><th scope=col>std_err</th><th scope=col>t_value</th><th scope=col>p_value</th><th scope=col>R2</th><th scope=col>x</th><th scope=col>y</th><th scope=col>rep</th></tr></thead>\n",
       "<tbody>\n",
       "\t<tr><td>16.206119   </td><td>2.4295966   </td><td>6.670292    </td><td>7.393266e-10</td><td>0.2507397   </td><td>diet        </td><td>faith_pd    </td><td>1           </td></tr>\n",
       "\t<tr><td> 2.176721   </td><td>0.4281539   </td><td>5.083969    </td><td>1.314750e-06</td><td>0.1581218   </td><td>diet        </td><td>shannon     </td><td>1           </td></tr>\n",
       "\t<tr><td>19.716133   </td><td>2.5654402   </td><td>7.685283    </td><td>3.880452e-12</td><td>0.3117075   </td><td>diet        </td><td>faith_pd    </td><td>2           </td></tr>\n",
       "</tbody>\n",
       "</table>\n"
      ],
      "text/latex": [
       "\\begin{tabular}{r|llllllll}\n",
       " Estimate & std\\_err & t\\_value & p\\_value & R2 & x & y & rep\\\\\n",
       "\\hline\n",
       "\t 16.206119    & 2.4295966    & 6.670292     & 7.393266e-10 & 0.2507397    & diet         & faith\\_pd   & 1           \\\\\n",
       "\t  2.176721    & 0.4281539    & 5.083969     & 1.314750e-06 & 0.1581218    & diet         & shannon      & 1           \\\\\n",
       "\t 19.716133    & 2.5654402    & 7.685283     & 3.880452e-12 & 0.3117075    & diet         & faith\\_pd   & 2           \\\\\n",
       "\\end{tabular}\n"
      ],
      "text/markdown": [
       "\n",
       "Estimate | std_err | t_value | p_value | R2 | x | y | rep | \n",
       "|---|---|---|\n",
       "| 16.206119    | 2.4295966    | 6.670292     | 7.393266e-10 | 0.2507397    | diet         | faith_pd     | 1            | \n",
       "|  2.176721    | 0.4281539    | 5.083969     | 1.314750e-06 | 0.1581218    | diet         | shannon      | 1            | \n",
       "| 19.716133    | 2.5654402    | 7.685283     | 3.880452e-12 | 0.3117075    | diet         | faith_pd     | 2            | \n",
       "\n",
       "\n"
      ],
      "text/plain": [
       "  Estimate  std_err   t_value  p_value      R2        x    y        rep\n",
       "1 16.206119 2.4295966 6.670292 7.393266e-10 0.2507397 diet faith_pd 1  \n",
       "2  2.176721 0.4281539 5.083969 1.314750e-06 0.1581218 diet shannon  1  \n",
       "3 19.716133 2.5654402 7.685283 3.880452e-12 0.3117075 diet faith_pd 2  "
      ]
     },
     "metadata": {},
     "output_type": "display_data"
    }
   ],
   "source": [
    "# running on each alpha-div index, each permuted tree\n",
    "y = c('faith_pd', 'shannon')\n",
    "\n",
    "doParallel::registerDoParallel(threads)\n",
    "ret = plyr::llply(1:length(host_tree_l),\n",
    "                  pgls_each_tree,\n",
    "                  y = y,\n",
    "                  x = 'diet',\n",
    "                  tree_list = host_tree_l,\n",
    "                  data = alpha_div_j,\n",
    "                  .parallel=TRUE)\n",
    "\n",
    "ret = do.call(rbind, ret) %>%\n",
    "    as.data.frame\n",
    "rownames(ret) = 1:nrow(ret)\n",
    "\n",
    "# status\n",
    "ret %>% dfhead"
   ]
  },
  {
   "cell_type": "code",
   "execution_count": 31,
   "metadata": {
    "ExecuteTime": {
     "end_time": "2018-11-26T18:40:00.677499Z",
     "start_time": "2018-11-26T18:40:00.586Z"
    }
   },
   "outputs": [
    {
     "name": "stdout",
     "output_type": "stream",
     "text": [
      "[1] 200   8\n"
     ]
    },
    {
     "data": {
      "text/html": [
       "<table>\n",
       "<thead><tr><th scope=col>Estimate</th><th scope=col>std_err</th><th scope=col>t_value</th><th scope=col>p_value</th><th scope=col>R2</th><th scope=col>x</th><th scope=col>y</th><th scope=col>rep</th></tr></thead>\n",
       "<tbody>\n",
       "\t<tr><td>16.206119   </td><td>2.4295966   </td><td>6.670292    </td><td>7.393266e-10</td><td>0.2507397   </td><td>diet        </td><td>faith_pd    </td><td>1           </td></tr>\n",
       "\t<tr><td> 2.176721   </td><td>0.4281539   </td><td>5.083969    </td><td>1.314750e-06</td><td>0.1581218   </td><td>diet        </td><td>shannon     </td><td>1           </td></tr>\n",
       "\t<tr><td>19.716133   </td><td>2.5654402   </td><td>7.685283    </td><td>3.880452e-12</td><td>0.3117075   </td><td>diet        </td><td>faith_pd    </td><td>2           </td></tr>\n",
       "</tbody>\n",
       "</table>\n"
      ],
      "text/latex": [
       "\\begin{tabular}{r|llllllll}\n",
       " Estimate & std\\_err & t\\_value & p\\_value & R2 & x & y & rep\\\\\n",
       "\\hline\n",
       "\t 16.206119    & 2.4295966    & 6.670292     & 7.393266e-10 & 0.2507397    & diet         & faith\\_pd   & 1           \\\\\n",
       "\t  2.176721    & 0.4281539    & 5.083969     & 1.314750e-06 & 0.1581218    & diet         & shannon      & 1           \\\\\n",
       "\t 19.716133    & 2.5654402    & 7.685283     & 3.880452e-12 & 0.3117075    & diet         & faith\\_pd   & 2           \\\\\n",
       "\\end{tabular}\n"
      ],
      "text/markdown": [
       "\n",
       "Estimate | std_err | t_value | p_value | R2 | x | y | rep | \n",
       "|---|---|---|\n",
       "| 16.206119    | 2.4295966    | 6.670292     | 7.393266e-10 | 0.2507397    | diet         | faith_pd     | 1            | \n",
       "|  2.176721    | 0.4281539    | 5.083969     | 1.314750e-06 | 0.1581218    | diet         | shannon      | 1            | \n",
       "| 19.716133    | 2.5654402    | 7.685283     | 3.880452e-12 | 0.3117075    | diet         | faith_pd     | 2            | \n",
       "\n",
       "\n"
      ],
      "text/plain": [
       "  Estimate  std_err   t_value  p_value      R2        x    y        rep\n",
       "1 16.206119 2.4295966 6.670292 7.393266e-10 0.2507397 diet faith_pd 1  \n",
       "2  2.176721 0.4281539 5.083969 1.314750e-06 0.1581218 diet shannon  1  \n",
       "3 19.716133 2.5654402 7.685283 3.880452e-12 0.3117075 diet faith_pd 2  "
      ]
     },
     "metadata": {},
     "output_type": "display_data"
    }
   ],
   "source": [
    "# formatting results\n",
    "pgls_res = ret %>%\n",
    "    mutate(R2 = R2 %>% as.numeric,\n",
    "           p_value = p_value %>% as.numeric)\n",
    "\n",
    "pgls_res %>% dfhead"
   ]
  },
  {
   "cell_type": "markdown",
   "metadata": {},
   "source": [
    "#### Saving results"
   ]
  },
  {
   "cell_type": "code",
   "execution_count": 32,
   "metadata": {
    "ExecuteTime": {
     "end_time": "2018-11-26T18:40:02.680064Z",
     "start_time": "2018-11-26T18:40:02.602Z"
    }
   },
   "outputs": [
    {
     "data": {
      "text/html": [
       "'/ebio/abt3_projects/Georg_animal_feces/data/host_specific/phylosignal/host_TT/PGLS//pgls_IndD_alpha-div.RDS'"
      ],
      "text/latex": [
       "'/ebio/abt3\\_projects/Georg\\_animal\\_feces/data/host\\_specific/phylosignal/host\\_TT/PGLS//pgls\\_IndD\\_alpha-div.RDS'"
      ],
      "text/markdown": [
       "'/ebio/abt3_projects/Georg_animal_feces/data/host_specific/phylosignal/host_TT/PGLS//pgls_IndD_alpha-div.RDS'"
      ],
      "text/plain": [
       "[1] \"/ebio/abt3_projects/Georg_animal_feces/data/host_specific/phylosignal/host_TT/PGLS//pgls_IndD_alpha-div.RDS\""
      ]
     },
     "metadata": {},
     "output_type": "display_data"
    }
   ],
   "source": [
    "# output file name\n",
    "pgls_res_file = file.path(work_dir, 'pgls_IndD_alpha-div.RDS')\n",
    "pgls_res_file"
   ]
  },
  {
   "cell_type": "code",
   "execution_count": null,
   "metadata": {
    "ExecuteTime": {
     "end_time": "2018-07-23T12:23:39.286598Z",
     "start_time": "2018-07-23T12:23:39.217Z"
    }
   },
   "outputs": [],
   "source": [
    "# saving\n",
    "saveRDS(pgls_res, file=pgls_res_file)\n",
    "cat('File written:', pgls_res_file, '\\n')"
   ]
  },
  {
   "cell_type": "code",
   "execution_count": 34,
   "metadata": {
    "ExecuteTime": {
     "end_time": "2018-11-26T18:40:08.596255Z",
     "start_time": "2018-11-26T18:40:08.498Z"
    }
   },
   "outputs": [
    {
     "name": "stdout",
     "output_type": "stream",
     "text": [
      "[1] 200   8\n"
     ]
    },
    {
     "data": {
      "text/html": [
       "<table>\n",
       "<thead><tr><th scope=col>Estimate</th><th scope=col>std_err</th><th scope=col>t_value</th><th scope=col>p_value</th><th scope=col>R2</th><th scope=col>x</th><th scope=col>y</th><th scope=col>rep</th></tr></thead>\n",
       "<tbody>\n",
       "\t<tr><td>17.662342   </td><td>2.4044340   </td><td>7.345738    </td><td>2.317457e-11</td><td>0.2923305   </td><td>diet        </td><td>faith_pd    </td><td>1           </td></tr>\n",
       "\t<tr><td> 2.480857   </td><td>0.4152268   </td><td>5.974703    </td><td>2.235768e-08</td><td>0.2096977   </td><td>diet        </td><td>shannon     </td><td>1           </td></tr>\n",
       "\t<tr><td>17.264489   </td><td>2.4800522   </td><td>6.961341    </td><td>1.690363e-10</td><td>0.2684861   </td><td>diet        </td><td>faith_pd    </td><td>2           </td></tr>\n",
       "</tbody>\n",
       "</table>\n"
      ],
      "text/latex": [
       "\\begin{tabular}{r|llllllll}\n",
       " Estimate & std\\_err & t\\_value & p\\_value & R2 & x & y & rep\\\\\n",
       "\\hline\n",
       "\t 17.662342    & 2.4044340    & 7.345738     & 2.317457e-11 & 0.2923305    & diet         & faith\\_pd   & 1           \\\\\n",
       "\t  2.480857    & 0.4152268    & 5.974703     & 2.235768e-08 & 0.2096977    & diet         & shannon      & 1           \\\\\n",
       "\t 17.264489    & 2.4800522    & 6.961341     & 1.690363e-10 & 0.2684861    & diet         & faith\\_pd   & 2           \\\\\n",
       "\\end{tabular}\n"
      ],
      "text/markdown": [
       "\n",
       "Estimate | std_err | t_value | p_value | R2 | x | y | rep | \n",
       "|---|---|---|\n",
       "| 17.662342    | 2.4044340    | 7.345738     | 2.317457e-11 | 0.2923305    | diet         | faith_pd     | 1            | \n",
       "|  2.480857    | 0.4152268    | 5.974703     | 2.235768e-08 | 0.2096977    | diet         | shannon      | 1            | \n",
       "| 17.264489    | 2.4800522    | 6.961341     | 1.690363e-10 | 0.2684861    | diet         | faith_pd     | 2            | \n",
       "\n",
       "\n"
      ],
      "text/plain": [
       "  Estimate  std_err   t_value  p_value      R2        x    y        rep\n",
       "1 17.662342 2.4044340 7.345738 2.317457e-11 0.2923305 diet faith_pd 1  \n",
       "2  2.480857 0.4152268 5.974703 2.235768e-08 0.2096977 diet shannon  1  \n",
       "3 17.264489 2.4800522 6.961341 1.690363e-10 0.2684861 diet faith_pd 2  "
      ]
     },
     "metadata": {},
     "output_type": "display_data"
    }
   ],
   "source": [
    "# re-load \n",
    "pgls_res = readRDS(pgls_res_file) \n",
    "pgls_res %>% dfhead"
   ]
  },
  {
   "cell_type": "markdown",
   "metadata": {},
   "source": [
    "#### p-adjust"
   ]
  },
  {
   "cell_type": "code",
   "execution_count": 35,
   "metadata": {
    "ExecuteTime": {
     "end_time": "2018-11-26T18:40:14.323613Z",
     "start_time": "2018-11-26T18:40:14.194Z"
    }
   },
   "outputs": [
    {
     "name": "stdout",
     "output_type": "stream",
     "text": [
      "[1] 200   9\n"
     ]
    },
    {
     "data": {
      "text/html": [
       "<table>\n",
       "<thead><tr><th scope=col>Estimate</th><th scope=col>std_err</th><th scope=col>t_value</th><th scope=col>p_value</th><th scope=col>R2</th><th scope=col>x</th><th scope=col>y</th><th scope=col>rep</th><th scope=col>p_adj_value</th></tr></thead>\n",
       "<tbody>\n",
       "\t<tr><td>17.662342   </td><td>2.4044340   </td><td>7.345738    </td><td>2.317457e-11</td><td>0.2923305   </td><td>diet        </td><td>faith_pd    </td><td>1           </td><td>4.634915e-11</td></tr>\n",
       "\t<tr><td> 2.480857   </td><td>0.4152268   </td><td>5.974703    </td><td>2.235768e-08</td><td>0.2096977   </td><td>diet        </td><td>shannon     </td><td>1           </td><td>2.235768e-08</td></tr>\n",
       "\t<tr><td>17.264489   </td><td>2.4800522   </td><td>6.961341    </td><td>1.690363e-10</td><td>0.2684861   </td><td>diet        </td><td>faith_pd    </td><td>2           </td><td>3.380727e-10</td></tr>\n",
       "</tbody>\n",
       "</table>\n"
      ],
      "text/latex": [
       "\\begin{tabular}{r|lllllllll}\n",
       " Estimate & std\\_err & t\\_value & p\\_value & R2 & x & y & rep & p\\_adj\\_value\\\\\n",
       "\\hline\n",
       "\t 17.662342    & 2.4044340    & 7.345738     & 2.317457e-11 & 0.2923305    & diet         & faith\\_pd   & 1            & 4.634915e-11\\\\\n",
       "\t  2.480857    & 0.4152268    & 5.974703     & 2.235768e-08 & 0.2096977    & diet         & shannon      & 1            & 2.235768e-08\\\\\n",
       "\t 17.264489    & 2.4800522    & 6.961341     & 1.690363e-10 & 0.2684861    & diet         & faith\\_pd   & 2            & 3.380727e-10\\\\\n",
       "\\end{tabular}\n"
      ],
      "text/markdown": [
       "\n",
       "Estimate | std_err | t_value | p_value | R2 | x | y | rep | p_adj_value | \n",
       "|---|---|---|\n",
       "| 17.662342    | 2.4044340    | 7.345738     | 2.317457e-11 | 0.2923305    | diet         | faith_pd     | 1            | 4.634915e-11 | \n",
       "|  2.480857    | 0.4152268    | 5.974703     | 2.235768e-08 | 0.2096977    | diet         | shannon      | 1            | 2.235768e-08 | \n",
       "| 17.264489    | 2.4800522    | 6.961341     | 1.690363e-10 | 0.2684861    | diet         | faith_pd     | 2            | 3.380727e-10 | \n",
       "\n",
       "\n"
      ],
      "text/plain": [
       "  Estimate  std_err   t_value  p_value      R2        x    y        rep\n",
       "1 17.662342 2.4044340 7.345738 2.317457e-11 0.2923305 diet faith_pd 1  \n",
       "2  2.480857 0.4152268 5.974703 2.235768e-08 0.2096977 diet shannon  1  \n",
       "3 17.264489 2.4800522 6.961341 1.690363e-10 0.2684861 diet faith_pd 2  \n",
       "  p_adj_value \n",
       "1 4.634915e-11\n",
       "2 2.235768e-08\n",
       "3 3.380727e-10"
      ]
     },
     "metadata": {},
     "output_type": "display_data"
    }
   ],
   "source": [
    "# adjusting per subsample rep\n",
    "pgls_res = pgls_res %>%\n",
    "    group_by(rep) %>%\n",
    "    mutate(p_adj_value = p.adjust(p_value, method='BH')) %>%\n",
    "    ungroup()\n",
    "pgls_res %>% dfhead"
   ]
  },
  {
   "cell_type": "markdown",
   "metadata": {},
   "source": [
    "#### Plotting"
   ]
  },
  {
   "cell_type": "code",
   "execution_count": 36,
   "metadata": {
    "ExecuteTime": {
     "end_time": "2018-11-26T18:40:16.061203Z",
     "start_time": "2018-11-26T18:40:15.969Z"
    }
   },
   "outputs": [
    {
     "data": {
      "text/plain": [
       "    Estimate         std_err          t_value         p_value         \n",
       " Min.   : 2.144   Min.   :0.3968   Min.   :5.025   Min.   :4.000e-13  \n",
       " 1st Qu.: 2.467   1st Qu.:0.4207   1st Qu.:5.839   1st Qu.:5.240e-11  \n",
       " Median : 9.079   Median :1.3871   Median :6.593   Median :1.095e-09  \n",
       " Mean   :10.145   Mean   :1.4483   Mean   :6.540   Mean   :6.282e-08  \n",
       " 3rd Qu.:17.837   3rd Qu.:2.4775   3rd Qu.:7.189   3rd Qu.:4.255e-08  \n",
       " Max.   :19.673   Max.   :2.7097   Max.   :8.115   Max.   :1.696e-06  \n",
       "       R2              x                  y                  rep        \n",
       " Min.   :0.1562   Length:200         Length:200         Min.   :  1.00  \n",
       " 1st Qu.:0.2020   Class :character   Class :character   1st Qu.: 25.75  \n",
       " Median :0.2473   Mode  :character   Mode  :character   Median : 50.50  \n",
       " Mean   :0.2438                                         Mean   : 50.50  \n",
       " 3rd Qu.:0.2823                                         3rd Qu.: 75.25  \n",
       " Max.   :0.3365                                         Max.   :100.00  \n",
       "  p_adj_value       \n",
       " Min.   :8.000e-13  \n",
       " 1st Qu.:1.048e-10  \n",
       " Median :1.376e-09  \n",
       " Mean   :6.292e-08  \n",
       " 3rd Qu.:4.255e-08  \n",
       " Max.   :1.696e-06  "
      ]
     },
     "metadata": {},
     "output_type": "display_data"
    }
   ],
   "source": [
    "pgls_res %>% summary"
   ]
  },
  {
   "cell_type": "code",
   "execution_count": 37,
   "metadata": {
    "ExecuteTime": {
     "end_time": "2018-11-26T18:40:17.936044Z",
     "start_time": "2018-11-26T18:40:17.420Z"
    }
   },
   "outputs": [
    {
     "data": {
      "image/png": "[encoded data removed]",
      "text/plain": [
       "plot without title"
      ]
     },
     "metadata": {},
     "output_type": "display_data"
    }
   ],
   "source": [
    "# p-value distribution\n",
    "p = ggplot(pgls_res, aes(R2, p_value)) +\n",
    "    geom_point(alpha=0.3) +\n",
    "    scale_y_log10() +\n",
    "    theme_bw()\n",
    "\n",
    "options(repr.plot.width=5, repr.plot.height=3.5)\n",
    "plot(p)"
   ]
  },
  {
   "cell_type": "code",
   "execution_count": 38,
   "metadata": {
    "ExecuteTime": {
     "end_time": "2018-11-26T18:40:18.421302Z",
     "start_time": "2018-11-26T18:40:17.643Z"
    }
   },
   "outputs": [
    {
     "data": {
      "image/png": "[encoded data removed]",
      "text/plain": [
       "plot without title"
      ]
     },
     "metadata": {},
     "output_type": "display_data"
    }
   ],
   "source": [
    "# p-adj-value distribution\n",
    "p = ggplot(pgls_res, aes(R2, p_adj_value)) +\n",
    "    geom_point(alpha=0.3) +\n",
    "    scale_y_log10() +\n",
    "    theme_bw()\n",
    "\n",
    "options(repr.plot.width=5, repr.plot.height=3.5)\n",
    "plot(p)"
   ]
  },
  {
   "cell_type": "markdown",
   "metadata": {},
   "source": [
    "#### Significant indices"
   ]
  },
  {
   "cell_type": "code",
   "execution_count": 39,
   "metadata": {
    "ExecuteTime": {
     "end_time": "2018-11-26T18:40:22.246518Z",
     "start_time": "2018-11-26T18:40:22.161Z"
    }
   },
   "outputs": [
    {
     "name": "stdout",
     "output_type": "stream",
     "text": [
      "[1] 2 2\n"
     ]
    },
    {
     "data": {
      "text/html": [
       "<table>\n",
       "<thead><tr><th scope=col>y</th><th scope=col>qvalue</th></tr></thead>\n",
       "<tbody>\n",
       "\t<tr><td>faith_pd</td><td>0       </td></tr>\n",
       "\t<tr><td>shannon </td><td>0       </td></tr>\n",
       "</tbody>\n",
       "</table>\n"
      ],
      "text/latex": [
       "\\begin{tabular}{r|ll}\n",
       " y & qvalue\\\\\n",
       "\\hline\n",
       "\t faith\\_pd & 0         \\\\\n",
       "\t shannon  & 0       \\\\\n",
       "\\end{tabular}\n"
      ],
      "text/markdown": [
       "\n",
       "y | qvalue | \n",
       "|---|---|\n",
       "| faith_pd | 0        | \n",
       "| shannon  | 0        | \n",
       "\n",
       "\n"
      ],
      "text/plain": [
       "  y        qvalue\n",
       "1 faith_pd 0     \n",
       "2 shannon  0     "
      ]
     },
     "metadata": {},
     "output_type": "display_data"
    }
   ],
   "source": [
    "pgls_res_sig = pgls_res %>%\n",
    "    group_by(y) %>%\n",
    "    summarize(\n",
    "        qvalue = (length(p_adj_value) - sum(p_adj_value < 0.05)) / length(p_adj_value)\n",
    "        ) %>%\n",
    "    ungroup() %>%\n",
    "    filter(qvalue < 0.05)\n",
    "\n",
    "pgls_res_sig %>% dfhead"
   ]
  },
  {
   "cell_type": "code",
   "execution_count": 40,
   "metadata": {
    "ExecuteTime": {
     "end_time": "2018-11-26T18:40:26.009617Z",
     "start_time": "2018-11-26T18:40:25.921Z"
    }
   },
   "outputs": [
    {
     "name": "stdout",
     "output_type": "stream",
     "text": [
      "[1] 200   9\n"
     ]
    },
    {
     "data": {
      "text/html": [
       "<table>\n",
       "<thead><tr><th scope=col>Estimate</th><th scope=col>std_err</th><th scope=col>t_value</th><th scope=col>p_value</th><th scope=col>R2</th><th scope=col>x</th><th scope=col>y</th><th scope=col>rep</th><th scope=col>p_adj_value</th></tr></thead>\n",
       "<tbody>\n",
       "\t<tr><td>17.662342   </td><td>2.4044340   </td><td>7.345738    </td><td>2.317457e-11</td><td>0.2923305   </td><td>diet        </td><td>faith_pd    </td><td>1           </td><td>4.634915e-11</td></tr>\n",
       "\t<tr><td> 2.480857   </td><td>0.4152268   </td><td>5.974703    </td><td>2.235768e-08</td><td>0.2096977   </td><td>diet        </td><td>shannon     </td><td>1           </td><td>2.235768e-08</td></tr>\n",
       "\t<tr><td>17.264489   </td><td>2.4800522   </td><td>6.961341    </td><td>1.690363e-10</td><td>0.2684861   </td><td>diet        </td><td>faith_pd    </td><td>2           </td><td>3.380727e-10</td></tr>\n",
       "</tbody>\n",
       "</table>\n"
      ],
      "text/latex": [
       "\\begin{tabular}{r|lllllllll}\n",
       " Estimate & std\\_err & t\\_value & p\\_value & R2 & x & y & rep & p\\_adj\\_value\\\\\n",
       "\\hline\n",
       "\t 17.662342    & 2.4044340    & 7.345738     & 2.317457e-11 & 0.2923305    & diet         & faith\\_pd   & 1            & 4.634915e-11\\\\\n",
       "\t  2.480857    & 0.4152268    & 5.974703     & 2.235768e-08 & 0.2096977    & diet         & shannon      & 1            & 2.235768e-08\\\\\n",
       "\t 17.264489    & 2.4800522    & 6.961341     & 1.690363e-10 & 0.2684861    & diet         & faith\\_pd   & 2            & 3.380727e-10\\\\\n",
       "\\end{tabular}\n"
      ],
      "text/markdown": [
       "\n",
       "Estimate | std_err | t_value | p_value | R2 | x | y | rep | p_adj_value | \n",
       "|---|---|---|\n",
       "| 17.662342    | 2.4044340    | 7.345738     | 2.317457e-11 | 0.2923305    | diet         | faith_pd     | 1            | 4.634915e-11 | \n",
       "|  2.480857    | 0.4152268    | 5.974703     | 2.235768e-08 | 0.2096977    | diet         | shannon      | 1            | 2.235768e-08 | \n",
       "| 17.264489    | 2.4800522    | 6.961341     | 1.690363e-10 | 0.2684861    | diet         | faith_pd     | 2            | 3.380727e-10 | \n",
       "\n",
       "\n"
      ],
      "text/plain": [
       "  Estimate  std_err   t_value  p_value      R2        x    y        rep\n",
       "1 17.662342 2.4044340 7.345738 2.317457e-11 0.2923305 diet faith_pd 1  \n",
       "2  2.480857 0.4152268 5.974703 2.235768e-08 0.2096977 diet shannon  1  \n",
       "3 17.264489 2.4800522 6.961341 1.690363e-10 0.2684861 diet faith_pd 2  \n",
       "  p_adj_value \n",
       "1 4.634915e-11\n",
       "2 2.235768e-08\n",
       "3 3.380727e-10"
      ]
     },
     "metadata": {},
     "output_type": "display_data"
    }
   ],
   "source": [
    "# getting all stats \n",
    "pgls_res_sig = pgls_res %>%\n",
    "    semi_join(pgls_res_sig, c('y'))\n",
    "\n",
    "pgls_res_sig %>% dfhead"
   ]
  },
  {
   "cell_type": "markdown",
   "metadata": {},
   "source": [
    "#### Plotting"
   ]
  },
  {
   "cell_type": "code",
   "execution_count": 58,
   "metadata": {
    "ExecuteTime": {
     "end_time": "2018-11-26T18:50:22.474176Z",
     "start_time": "2018-11-26T18:50:20.979Z"
    }
   },
   "outputs": [
    {
     "name": "stdout",
     "output_type": "stream",
     "text": [
      "File written: /ebio/abt3_projects/Georg_animal_feces/data/host_specific/phylosignal/host_TT/PGLS/.figures/pgls_IndD_alpha-div_p-val-R2_v1.pdf \n"
     ]
    },
    {
     "data": {
      "image/png": "[encoded data removed]",
      "text/plain": [
       "plot without title"
      ]
     },
     "metadata": {},
     "output_type": "display_data"
    }
   ],
   "source": [
    "# adj-p-value & R2 dist\n",
    "p = pgls_res_sig %>%\n",
    "    dplyr::select(p_adj_value, R2, y) %>%\n",
    "    gather(category, value, -y) %>%\n",
    "    mutate(category = ifelse(category == 'R2', 'R^2', 'Adj. p-value'),\n",
    "           y = ifelse(y == 'shannon', 'Shannon', 'Faith\\'s PD')) %>%\n",
    "    ggplot(aes(y, value)) +\n",
    "    geom_boxplot() +\n",
    "    labs(x='Alpha diversity measure') +\n",
    "    facet_grid(. ~ category, scales='free_x') +\n",
    "    coord_flip() +\n",
    "    theme_bw() +\n",
    "    theme(\n",
    "        axis.title.x = element_blank(),\n",
    "        axis.text.x = element_text(angle=90, hjust=1, vjust=0.5)\n",
    "    )\n",
    "    \n",
    "options(repr.plot.width=4.5, repr.plot.height=2)\n",
    "plot_write(p, file='pgls_IndD_alpha-div_p-val-R2_v1.pdf')"
   ]
  },
  {
   "cell_type": "code",
   "execution_count": 54,
   "metadata": {
    "ExecuteTime": {
     "end_time": "2018-11-26T18:44:24.895302Z",
     "start_time": "2018-11-26T18:44:23.259Z"
    }
   },
   "outputs": [
    {
     "name": "stdout",
     "output_type": "stream",
     "text": [
      "File written: /ebio/abt3_projects/Georg_animal_feces/data/host_specific/phylosignal/host_TT/PGLS/.figures/pgls_IndD_alpha-div_p-val-R2_v2.pdf \n"
     ]
    },
    {
     "data": {
      "image/png": "[encoded data removed]",
      "text/plain": [
       "plot without title"
      ]
     },
     "metadata": {},
     "output_type": "display_data"
    }
   ],
   "source": [
    "# adj-p-value & R2 dist\n",
    "p = pgls_res_sig %>%\n",
    "    dplyr::select(p_adj_value, R2, y) %>%\n",
    "    gather(category, value, -y) %>%\n",
    "    mutate(category = ifelse(category == 'R2', 'R^2', 'Adj. p-value'),\n",
    "           y = ifelse(y == 'shannon', 'Shannon', 'Faith\\'s PD')) %>%\n",
    "    ggplot(aes(y, value)) +\n",
    "    geom_boxplot() +\n",
    "    labs(x='Alpha diversity measure\\n(Adj. P-value < 0.05)', \n",
    "         y='value') +\n",
    "    facet_wrap(. ~ category, scales='free_y') +\n",
    "    theme_bw() +\n",
    "    theme(\n",
    "        axis.text.x = element_text(angle=90, hjust=1, vjust=0.5)\n",
    "    )\n",
    "    \n",
    "options(repr.plot.width=3, repr.plot.height=2.5)\n",
    "plot_write(p, file='pgls_IndD_alpha-div_p-val-R2_v2.pdf')"
   ]
  },
  {
   "cell_type": "markdown",
   "metadata": {},
   "source": [
    "### Diet compenents"
   ]
  },
  {
   "cell_type": "code",
   "execution_count": 63,
   "metadata": {
    "ExecuteTime": {
     "end_time": "2018-11-29T16:09:45.726996Z",
     "start_time": "2018-11-29T16:09:44.778Z"
    }
   },
   "outputs": [
    {
     "data": {
      "text/html": [
       "<table>\n",
       "<thead><tr><th></th><th scope=col>faith_pd</th><th scope=col>shannon</th></tr></thead>\n",
       "<tbody>\n",
       "\t<tr><th scope=row>Estimate</th><td>-3.63088744474186                                                                                                                                                       </td><td>-0.54518031769982                                                                                                                                                       </td></tr>\n",
       "\t<tr><th scope=row>std_err</th><td>2.15756612591882                                                                                                                                                        </td><td>0.375173537724104                                                                                                                                                       </td></tr>\n",
       "\t<tr><th scope=row>t_value</th><td>-1.68286264839073                                                                                                                                                       </td><td>-1.4531417141172                                                                                                                                                        </td></tr>\n",
       "\t<tr><th scope=row>p_value</th><td>0.0950236292051736                                                                                                                                                      </td><td>0.148816392678482                                                                                                                                                       </td></tr>\n",
       "\t<tr><th scope=row>R2</th><td>0.203129868360576                                                                                                                                                       </td><td>0.128216267791216                                                                                                                                                       </td></tr>\n",
       "\t<tr><th scope=row>x</th><td>diet_vertebrate + diet_invertebrate + diet_fruit + diet_flowers_nectar_pollen + diet_leaves_branches_bark_buds + diet_seeds + diet_grass_waterplants + diet_roots_tubers</td><td>diet_vertebrate + diet_invertebrate + diet_fruit + diet_flowers_nectar_pollen + diet_leaves_branches_bark_buds + diet_seeds + diet_grass_waterplants + diet_roots_tubers</td></tr>\n",
       "\t<tr><th scope=row>y</th><td>faith_pd                                                                                                                                                                </td><td>shannon                                                                                                                                                                 </td></tr>\n",
       "\t<tr><th scope=row>rep</th><td>1                                                                                                                                                                       </td><td>1                                                                                                                                                                       </td></tr>\n",
       "</tbody>\n",
       "</table>\n"
      ],
      "text/latex": [
       "\\begin{tabular}{r|ll}\n",
       "  & faith\\_pd & shannon\\\\\n",
       "\\hline\n",
       "\tEstimate & -3.63088744474186                                                                                                                                                        & -0.54518031769982                                                                                                                                                       \\\\\n",
       "\tstd\\_err & 2.15756612591882                                                                                                                                                         & 0.375173537724104                                                                                                                                                       \\\\\n",
       "\tt\\_value & -1.68286264839073                                                                                                                                                        & -1.4531417141172                                                                                                                                                        \\\\\n",
       "\tp\\_value & 0.0950236292051736                                                                                                                                                       & 0.148816392678482                                                                                                                                                       \\\\\n",
       "\tR2 & 0.203129868360576                                                                                                                                                        & 0.128216267791216                                                                                                                                                       \\\\\n",
       "\tx & diet\\_vertebrate + diet\\_invertebrate + diet\\_fruit + diet\\_flowers\\_nectar\\_pollen + diet\\_leaves\\_branches\\_bark\\_buds + diet\\_seeds + diet\\_grass\\_waterplants + diet\\_roots\\_tubers & diet\\_vertebrate + diet\\_invertebrate + diet\\_fruit + diet\\_flowers\\_nectar\\_pollen + diet\\_leaves\\_branches\\_bark\\_buds + diet\\_seeds + diet\\_grass\\_waterplants + diet\\_roots\\_tubers\\\\\n",
       "\ty & faith\\_pd                                                                                                                                                                 & shannon                                                                                                                                                                   \\\\\n",
       "\trep & 1                                                                                                                                                                        & 1                                                                                                                                                                       \\\\\n",
       "\\end{tabular}\n"
      ],
      "text/markdown": [
       "\n",
       "| <!--/--> | faith_pd | shannon | \n",
       "|---|---|---|---|---|---|---|---|\n",
       "| Estimate | -3.63088744474186                                                                                                                                                        | -0.54518031769982                                                                                                                                                        | \n",
       "| std_err | 2.15756612591882                                                                                                                                                         | 0.375173537724104                                                                                                                                                        | \n",
       "| t_value | -1.68286264839073                                                                                                                                                        | -1.4531417141172                                                                                                                                                         | \n",
       "| p_value | 0.0950236292051736                                                                                                                                                       | 0.148816392678482                                                                                                                                                        | \n",
       "| R2 | 0.203129868360576                                                                                                                                                        | 0.128216267791216                                                                                                                                                        | \n",
       "| x | diet_vertebrate + diet_invertebrate + diet_fruit + diet_flowers_nectar_pollen + diet_leaves_branches_bark_buds + diet_seeds + diet_grass_waterplants + diet_roots_tubers | diet_vertebrate + diet_invertebrate + diet_fruit + diet_flowers_nectar_pollen + diet_leaves_branches_bark_buds + diet_seeds + diet_grass_waterplants + diet_roots_tubers | \n",
       "| y | faith_pd                                                                                                                                                                 | shannon                                                                                                                                                                  | \n",
       "| rep | 1                                                                                                                                                                        | 1                                                                                                                                                                        | \n",
       "\n",
       "\n"
      ],
      "text/plain": [
       "         faith_pd                                                                                                                                                                \n",
       "Estimate -3.63088744474186                                                                                                                                                       \n",
       "std_err  2.15756612591882                                                                                                                                                        \n",
       "t_value  -1.68286264839073                                                                                                                                                       \n",
       "p_value  0.0950236292051736                                                                                                                                                      \n",
       "R2       0.203129868360576                                                                                                                                                       \n",
       "x        diet_vertebrate + diet_invertebrate + diet_fruit + diet_flowers_nectar_pollen + diet_leaves_branches_bark_buds + diet_seeds + diet_grass_waterplants + diet_roots_tubers\n",
       "y        faith_pd                                                                                                                                                                \n",
       "rep      1                                                                                                                                                                       \n",
       "         shannon                                                                                                                                                                 \n",
       "Estimate -0.54518031769982                                                                                                                                                       \n",
       "std_err  0.375173537724104                                                                                                                                                       \n",
       "t_value  -1.4531417141172                                                                                                                                                        \n",
       "p_value  0.148816392678482                                                                                                                                                       \n",
       "R2       0.128216267791216                                                                                                                                                       \n",
       "x        diet_vertebrate + diet_invertebrate + diet_fruit + diet_flowers_nectar_pollen + diet_leaves_branches_bark_buds + diet_seeds + diet_grass_waterplants + diet_roots_tubers\n",
       "y        shannon                                                                                                                                                                 \n",
       "rep      1                                                                                                                                                                       "
      ]
     },
     "metadata": {},
     "output_type": "display_data"
    }
   ],
   "source": [
    "#-- debug --#\n",
    "y = c('faith_pd', 'shannon')\n",
    "\n",
    "rep = 1\n",
    "ret = pgls_each_tree(rep,\n",
    "                     y = y,\n",
    "                     x = 'diet_vertebrate + diet_invertebrate + diet_fruit + diet_flowers_nectar_pollen + diet_leaves_branches_bark_buds + diet_seeds + diet_grass_waterplants + diet_roots_tubers',\n",
    "                     tree_list = host_tree_l,\n",
    "                     data = alpha_div_j)\n",
    "\n",
    "ret = do.call(rbind, ret) %>%\n",
    "    as.data.frame\n",
    "colnames(ret) = y\n",
    "\n",
    "ret "
   ]
  },
  {
   "cell_type": "code",
   "execution_count": null,
   "metadata": {
    "ExecuteTime": {
     "end_time": "2018-07-23T12:24:07.497494Z",
     "start_time": "2018-07-23T12:23:59.151Z"
    }
   },
   "outputs": [],
   "source": [
    "# running on each alpha-div index, each permuted tree\n",
    "y = c('faith_pd', 'shannon')\n",
    "doParallel::registerDoParallel(threads)\n",
    "ret = plyr::llply(1:length(host_tree_l),\n",
    "                  pgls_each_tree,\n",
    "                  y = y,\n",
    "                  x = 'diet_vertebrate + diet_invertebrate + diet_fruit + diet_flowers_nectar_pollen + diet_leaves_branches_bark_buds + diet_seeds + diet_grass_waterplants + diet_roots_tubers',\n",
    "                  tree_list = host_tree_l,\n",
    "                  data = alpha_div_j,\n",
    "                  .parallel=TRUE)\n",
    "\n",
    "ret = do.call(rbind, ret) %>%\n",
    "    as.data.frame\n",
    "rownames(ret) = 1:nrow(ret)\n",
    "\n",
    "# status\n",
    "ret %>% dfhead"
   ]
  },
  {
   "cell_type": "code",
   "execution_count": null,
   "metadata": {
    "ExecuteTime": {
     "end_time": "2018-07-23T12:24:07.573067Z",
     "start_time": "2018-07-23T12:24:02.145Z"
    }
   },
   "outputs": [],
   "source": [
    "# formatting results\n",
    "pgls_res = ret %>%\n",
    "    mutate(R2 = R2 %>% as.numeric,\n",
    "           p_value = p_value %>% as.numeric)\n",
    "\n",
    "pgls_res %>% dfhead"
   ]
  },
  {
   "cell_type": "markdown",
   "metadata": {},
   "source": [
    "#### p-adjust"
   ]
  },
  {
   "cell_type": "code",
   "execution_count": null,
   "metadata": {
    "ExecuteTime": {
     "end_time": "2018-07-23T12:24:07.682890Z",
     "start_time": "2018-07-23T12:24:03.215Z"
    }
   },
   "outputs": [],
   "source": [
    "# adjusting per subsample rep\n",
    "pgls_res = pgls_res %>%\n",
    "    group_by(rep) %>%\n",
    "    mutate(p_adj_value = p.adjust(p_value, method='BH')) %>%\n",
    "    ungroup()\n",
    "pgls_res %>% dfhead"
   ]
  },
  {
   "cell_type": "markdown",
   "metadata": {},
   "source": [
    "#### Plotting"
   ]
  },
  {
   "cell_type": "code",
   "execution_count": null,
   "metadata": {
    "ExecuteTime": {
     "end_time": "2018-07-23T12:24:07.735215Z",
     "start_time": "2018-07-23T12:24:04.231Z"
    }
   },
   "outputs": [],
   "source": [
    "pgls_res %>% summary"
   ]
  },
  {
   "cell_type": "code",
   "execution_count": null,
   "metadata": {
    "ExecuteTime": {
     "end_time": "2018-07-23T12:24:08.306995Z",
     "start_time": "2018-07-23T12:24:04.360Z"
    }
   },
   "outputs": [],
   "source": [
    "# p-value distribution\n",
    "p = ggplot(pgls_res, aes(R2, p_value)) +\n",
    "    geom_point(alpha=0.3) +\n",
    "    scale_y_log10() +\n",
    "    theme_bw()\n",
    "\n",
    "options(repr.plot.width=5, repr.plot.height=3.5)\n",
    "plot(p)"
   ]
  },
  {
   "cell_type": "code",
   "execution_count": null,
   "metadata": {
    "ExecuteTime": {
     "end_time": "2018-07-23T12:24:08.849914Z",
     "start_time": "2018-07-23T12:24:05.313Z"
    }
   },
   "outputs": [],
   "source": [
    "# p-adj-value distribution\n",
    "p = ggplot(pgls_res, aes(R2, p_adj_value)) +\n",
    "    geom_point(alpha=0.3) +\n",
    "    scale_y_log10() +\n",
    "    theme_bw()\n",
    "\n",
    "options(repr.plot.width=5, repr.plot.height=3.5)\n",
    "plot(p)"
   ]
  },
  {
   "cell_type": "markdown",
   "metadata": {},
   "source": [
    "#### Significant indices"
   ]
  },
  {
   "cell_type": "code",
   "execution_count": null,
   "metadata": {
    "ExecuteTime": {
     "end_time": "2018-07-23T12:24:08.940866Z",
     "start_time": "2018-07-23T12:24:07.056Z"
    }
   },
   "outputs": [],
   "source": [
    "# significant in most subsamples?\n",
    "pgls_res_sig = pgls_res %>%\n",
    "    group_by(y) %>%\n",
    "    summarize(\n",
    "        qvalue = (length(p_adj_value) - sum(p_adj_value < 0.05)) / length(p_adj_value)\n",
    "        ) %>%\n",
    "    ungroup() %>%\n",
    "    filter(qvalue < 0.05)\n",
    "\n",
    "pgls_res_sig %>% dfhead"
   ]
  },
  {
   "cell_type": "code",
   "execution_count": null,
   "metadata": {
    "ExecuteTime": {
     "end_time": "2018-07-23T12:24:08.991451Z",
     "start_time": "2018-07-23T12:24:07.184Z"
    }
   },
   "outputs": [],
   "source": [
    "# almost significant?\n",
    "pgls_res %>%\n",
    "    group_by(y) %>%\n",
    "    summarize(\n",
    "        qvalue = (length(p_value) - sum(p_value < 0.05)) / length(p_value)\n",
    "        ) %>%\n",
    "    ungroup() "
   ]
  },
  {
   "cell_type": "markdown",
   "metadata": {},
   "source": [
    "# sessionInfo"
   ]
  },
  {
   "cell_type": "code",
   "execution_count": 62,
   "metadata": {
    "ExecuteTime": {
     "end_time": "2018-11-29T16:09:34.051058Z",
     "start_time": "2018-11-29T16:09:33.666Z"
    }
   },
   "outputs": [
    {
     "data": {
      "text/plain": [
       "R version 3.4.1 (2017-06-30)\n",
       "Platform: x86_64-pc-linux-gnu (64-bit)\n",
       "Running under: Ubuntu 18.04.1 LTS\n",
       "\n",
       "Matrix products: default\n",
       "BLAS: /ebio/abt3_projects/software/miniconda3_gt4.4/envs/py3_physeq_phylo/lib/R/lib/libRblas.so\n",
       "LAPACK: /ebio/abt3_projects/software/miniconda3_gt4.4/envs/py3_physeq_phylo/lib/R/lib/libRlapack.so\n",
       "\n",
       "locale:\n",
       "[1] en_US.UTF-8\n",
       "\n",
       "attached base packages:\n",
       "[1] stats     graphics  grDevices utils     datasets  methods   base     \n",
       "\n",
       "other attached packages:\n",
       " [1] bindrcpp_0.2.2  caper_1.0.1     mvtnorm_1.0-6   MASS_7.3-50    \n",
       " [5] ade4_1.7-11     phyloseq_1.22.3 ape_5.1         ggplot2_3.0.0  \n",
       " [9] tidyr_0.8.1     dplyr_0.7.6    \n",
       "\n",
       "loaded via a namespace (and not attached):\n",
       " [1] Rcpp_0.12.17        lattice_0.20-34     Biostrings_2.46.0  \n",
       " [4] assertthat_0.2.0    digest_0.6.15       foreach_1.4.4      \n",
       " [7] IRdisplay_0.4.4     R6_2.2.2            plyr_1.8.4         \n",
       "[10] repr_0.15.0         stats4_3.4.1        evaluate_0.10.1    \n",
       "[13] pillar_1.2.2        zlibbioc_1.24.0     rlang_0.2.1        \n",
       "[16] lazyeval_0.2.1      uuid_0.1-2          data.table_1.11.4  \n",
       "[19] vegan_2.4-3         S4Vectors_0.16.0    Matrix_1.2-14      \n",
       "[22] labeling_0.3        splines_3.4.1       stringr_1.3.1      \n",
       "[25] igraph_1.2.1        munsell_0.5.0       compiler_3.4.1     \n",
       "[28] pkgconfig_2.0.1     BiocGenerics_0.24.0 base64enc_0.1-3    \n",
       "[31] multtest_2.34.0     mgcv_1.8-24         htmltools_0.3.6    \n",
       "[34] biomformat_1.6.0    tidyselect_0.2.4    tibble_1.4.2       \n",
       "[37] IRanges_2.12.0      codetools_0.2-15    permute_0.9-4      \n",
       "[40] crayon_1.3.4        withr_2.1.1         grid_3.4.1         \n",
       "[43] nlme_3.1-131        jsonlite_1.5        gtable_0.2.0       \n",
       "[46] magrittr_1.5        scales_0.5.0        stringi_1.2.3      \n",
       "[49] XVector_0.18.0      reshape2_1.4.3      doParallel_1.0.11  \n",
       "[52] IRkernel_0.8.12     iterators_1.0.10    tools_3.4.1        \n",
       "[55] Biobase_2.38.0      glue_1.3.0          purrr_0.2.4        \n",
       "[58] parallel_3.4.1      survival_2.42-6     colorspace_1.3-2   \n",
       "[61] rhdf5_2.22.0        cluster_2.0.6       pbdZMQ_0.3-2       \n",
       "[64] bindr_0.1.1        "
      ]
     },
     "metadata": {},
     "output_type": "display_data"
    }
   ],
   "source": [
    "sessionInfo()"
   ]
  },
  {
   "cell_type": "code",
   "execution_count": null,
   "metadata": {},
   "outputs": [],
   "source": []
  }
 ],
 "metadata": {
  "kernelspec": {
   "display_name": "R [conda env:py3_physeq_phylo]",
   "language": "R",
   "name": "conda-env-py3_physeq_phylo-r"
  },
  "language_info": {
   "codemirror_mode": "r",
   "file_extension": ".r",
   "mimetype": "text/x-r-source",
   "name": "R",
   "pygments_lexer": "r",
   "version": "3.4.1"
  },
  "notify_time": "30",
  "toc": {
   "base_numbering": 1,
   "nav_menu": {},
   "number_sections": true,
   "sideBar": true,
   "skip_h1_title": false,
   "title_cell": "Table of Contents",
   "title_sidebar": "Contents",
   "toc_cell": true,
   "toc_position": {
    "height": "1209px",
    "left": "0px",
    "right": "1068px",
    "top": "111px",
    "width": "212px"
   },
   "toc_section_display": "block",
   "toc_window_display": true
  }
 },
 "nbformat": 4,
 "nbformat_minor": 2
}
