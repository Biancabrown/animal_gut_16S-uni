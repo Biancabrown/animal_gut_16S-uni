{
 "cells": [
  {
   "cell_type": "markdown",
   "metadata": {
    "toc": true
   },
   "source": [
    "<h1>Table of Contents<span class=\"tocSkip\"></span></h1>\n",
    "<div class=\"toc\"><ul class=\"toc-item\"><li><span><a href=\"#Goal\" data-toc-modified-id=\"Goal-1\"><span class=\"toc-item-num\">1&nbsp;&nbsp;</span>Goal</a></span></li><li><span><a href=\"#Var\" data-toc-modified-id=\"Var-2\"><span class=\"toc-item-num\">2&nbsp;&nbsp;</span>Var</a></span></li><li><span><a href=\"#Init\" data-toc-modified-id=\"Init-3\"><span class=\"toc-item-num\">3&nbsp;&nbsp;</span>Init</a></span></li><li><span><a href=\"#Load\" data-toc-modified-id=\"Load-4\"><span class=\"toc-item-num\">4&nbsp;&nbsp;</span>Load</a></span></li><li><span><a href=\"#Summing-abundances-by-sub-network\" data-toc-modified-id=\"Summing-abundances-by-sub-network-5\"><span class=\"toc-item-num\">5&nbsp;&nbsp;</span>Summing abundances by sub-network</a></span></li><li><span><a href=\"#Host-tree-subsample\" data-toc-modified-id=\"Host-tree-subsample-6\"><span class=\"toc-item-num\">6&nbsp;&nbsp;</span>Host tree subsample</a></span></li><li><span><a href=\"#PGLS\" data-toc-modified-id=\"PGLS-7\"><span class=\"toc-item-num\">7&nbsp;&nbsp;</span>PGLS</a></span></li><li><span><a href=\"#Diet\" data-toc-modified-id=\"Diet-8\"><span class=\"toc-item-num\">8&nbsp;&nbsp;</span>Diet</a></span><ul class=\"toc-item\"><li><ul class=\"toc-item\"><li><span><a href=\"#Saving-output\" data-toc-modified-id=\"Saving-output-8.0.1\"><span class=\"toc-item-num\">8.0.1&nbsp;&nbsp;</span>Saving output</a></span></li><li><span><a href=\"#p-adjust\" data-toc-modified-id=\"p-adjust-8.0.2\"><span class=\"toc-item-num\">8.0.2&nbsp;&nbsp;</span>p-adjust</a></span></li><li><span><a href=\"#Plotting\" data-toc-modified-id=\"Plotting-8.0.3\"><span class=\"toc-item-num\">8.0.3&nbsp;&nbsp;</span>Plotting</a></span></li><li><span><a href=\"#Significant-variables\" data-toc-modified-id=\"Significant-variables-8.0.4\"><span class=\"toc-item-num\">8.0.4&nbsp;&nbsp;</span>Significant variables</a></span></li></ul></li></ul></li><li><span><a href=\"#sessionInfo\" data-toc-modified-id=\"sessionInfo-9\"><span class=\"toc-item-num\">9&nbsp;&nbsp;</span>sessionInfo</a></span></li></ul></div>"
   ]
  },
  {
   "cell_type": "markdown",
   "metadata": {},
   "source": [
    "# Goal\n",
    "\n",
    "* PGLS on co-occur sub-network pres/abs in hosts"
   ]
  },
  {
   "cell_type": "markdown",
   "metadata": {},
   "source": [
    "# Var"
   ]
  },
  {
   "cell_type": "code",
   "execution_count": 19,
   "metadata": {
    "ExecuteTime": {
     "end_time": "2018-08-23T07:14:31.099414Z",
     "start_time": "2018-08-23T07:16:10.111Z"
    }
   },
   "outputs": [],
   "source": [
    "work_dir = '/ebio/abt3_projects/Georg_animal_feces/data/host_specific/phylosignal/host_TT/PGLS/'\n",
    "\n",
    "# network\n",
    "ntwk_file = '/ebio/abt3_projects/Georg_animal_feces/data/assembly/cooccur/IndD-sens_OTU-binom_cooccur-ntwk-tbl.txt'\n",
    "\n",
    "# phyloseq\n",
    "physeq_file = '/ebio/abt3_projects/Georg_animal_feces/data/16S/LLA/phyloseq/physeq_r5k.RDS'\n",
    "\n",
    "# host phylogeny\n",
    "host_tree_file = '/ebio/abt3_projects/Georg_animal_feces/data/animal/phylogeny/TT/unified_metadata_complete_20180625_rn_16S-r5k_IndD.nwk'\n",
    "\n",
    "# params\n",
    "threads = 12\n",
    "sparsity_cutoff = 0.05"
   ]
  },
  {
   "cell_type": "markdown",
   "metadata": {},
   "source": [
    "# Init"
   ]
  },
  {
   "cell_type": "code",
   "execution_count": 12,
   "metadata": {
    "ExecuteTime": {
     "end_time": "2018-08-23T07:08:26.639072Z",
     "start_time": "2018-08-23T07:10:05.606Z"
    }
   },
   "outputs": [],
   "source": [
    "library(dplyr)\n",
    "library(tidyr)\n",
    "library(ggplot2)\n",
    "library(ape)\n",
    "library(phyloseq)\n",
    "library(ade4)\n",
    "library(ape)\n",
    "library(caper)\n",
    "\n",
    "source('/ebio/abt3_projects/Georg_animal_feces/code/init.R') \n",
    "source('/ebio/abt3_projects/Georg_animal_feces/code/itol.R') "
   ]
  },
  {
   "cell_type": "code",
   "execution_count": 13,
   "metadata": {
    "ExecuteTime": {
     "end_time": "2018-08-23T07:08:27.522429Z",
     "start_time": "2018-08-23T07:10:06.540Z"
    }
   },
   "outputs": [],
   "source": [
    "set.seed(73322)"
   ]
  },
  {
   "cell_type": "code",
   "execution_count": 14,
   "metadata": {
    "ExecuteTime": {
     "end_time": "2018-08-23T07:08:27.641516Z",
     "start_time": "2018-08-23T07:10:06.655Z"
    }
   },
   "outputs": [
    {
     "name": "stdout",
     "output_type": "stream",
     "text": [
      "Directory already exists: /ebio/abt3_projects/Georg_animal_feces/data/host_specific/phylosignal/host_TT/PGLS/ \n"
     ]
    }
   ],
   "source": [
    "make_dir(work_dir)\n",
    "setwd(work_dir)"
   ]
  },
  {
   "cell_type": "markdown",
   "metadata": {},
   "source": [
    "# Load"
   ]
  },
  {
   "cell_type": "code",
   "execution_count": 15,
   "metadata": {
    "ExecuteTime": {
     "end_time": "2018-08-23T07:08:32.643600Z",
     "start_time": "2018-08-23T07:10:08.157Z"
    }
   },
   "outputs": [
    {
     "data": {
      "text/plain": [
       "phyloseq-class experiment-level object\n",
       "otu_table()   OTU Table:         [ 408 taxa and 213 samples ]\n",
       "sample_data() Sample Data:       [ 213 samples by 171 sample variables ]\n",
       "tax_table()   Taxonomy Table:    [ 408 taxa by 7 taxonomic ranks ]\n",
       "phy_tree()    Phylogenetic Tree: [ 408 tips and 406 internal nodes ]"
      ]
     },
     "metadata": {},
     "output_type": "display_data"
    }
   ],
   "source": [
    "# phyloseq\n",
    "physeq = readRDS(physeq_file) %>%\n",
    "    filter_taxa(function(x) sum(x > 0) / length(x) > sparsity_cutoff, TRUE)\n",
    "physeq"
   ]
  },
  {
   "cell_type": "code",
   "execution_count": 20,
   "metadata": {
    "ExecuteTime": {
     "end_time": "2018-08-23T07:14:38.400069Z",
     "start_time": "2018-08-23T07:16:17.392Z"
    }
   },
   "outputs": [
    {
     "name": "stdout",
     "output_type": "stream",
     "text": [
      "[1] 129  13\n"
     ]
    },
    {
     "data": {
      "text/html": [
       "<table>\n",
       "<thead><tr><th scope=col>name</th><th scope=col>Domain</th><th scope=col>Phylum</th><th scope=col>Class</th><th scope=col>Order</th><th scope=col>Family</th><th scope=col>Genus</th><th scope=col>Species</th><th scope=col>centrality_btw</th><th scope=col>centrality_hub</th><th scope=col>centrality_degree</th><th scope=col>community</th><th scope=col>d</th></tr></thead>\n",
       "<tbody>\n",
       "\t<tr><td>0206837371f48a70d8103167f4b4204f</td><td>Bacteria                        </td><td>Firmicutes                      </td><td>Clostridia                      </td><td>Clostridiales                   </td><td>Lachnospiraceae                 </td><td>Pseudobutyrivibrio              </td><td>unclassified                    </td><td> 0                              </td><td>0.000000e+00                    </td><td>0.0000000                       </td><td>2                               </td><td>24.267982                       </td></tr>\n",
       "\t<tr><td>0215b7637847641274246f9414d2b649</td><td>Bacteria                        </td><td>Firmicutes                      </td><td>Bacilli                         </td><td>Lactobacillales                 </td><td>Enterococcaceae                 </td><td>Enterococcus                    </td><td>unclassified                    </td><td>14                              </td><td>1.288563e-16                    </td><td>0.1012422                       </td><td>4                               </td><td> 4.854486                       </td></tr>\n",
       "\t<tr><td>0852e0ca013fdbd32fa5ab232e102b28</td><td>Bacteria                        </td><td>Firmicutes                      </td><td>Clostridia                      </td><td>Clostridiales                   </td><td>Ruminococcaceae                 </td><td>unclassified                    </td><td>unclassified                    </td><td> 0                              </td><td>0.000000e+00                    </td><td>0.0000000                       </td><td>1                               </td><td>61.035148                       </td></tr>\n",
       "</tbody>\n",
       "</table>\n"
      ],
      "text/latex": [
       "\\begin{tabular}{r|lllllllllllll}\n",
       " name & Domain & Phylum & Class & Order & Family & Genus & Species & centrality\\_btw & centrality\\_hub & centrality\\_degree & community & d\\\\\n",
       "\\hline\n",
       "\t 0206837371f48a70d8103167f4b4204f & Bacteria                         & Firmicutes                       & Clostridia                       & Clostridiales                    & Lachnospiraceae                  & Pseudobutyrivibrio               & unclassified                     &  0                               & 0.000000e+00                     & 0.0000000                        & 2                                & 24.267982                       \\\\\n",
       "\t 0215b7637847641274246f9414d2b649 & Bacteria                         & Firmicutes                       & Bacilli                          & Lactobacillales                  & Enterococcaceae                  & Enterococcus                     & unclassified                     & 14                               & 1.288563e-16                     & 0.1012422                        & 4                                &  4.854486                       \\\\\n",
       "\t 0852e0ca013fdbd32fa5ab232e102b28 & Bacteria                         & Firmicutes                       & Clostridia                       & Clostridiales                    & Ruminococcaceae                  & unclassified                     & unclassified                     &  0                               & 0.000000e+00                     & 0.0000000                        & 1                                & 61.035148                       \\\\\n",
       "\\end{tabular}\n"
      ],
      "text/markdown": [
       "\n",
       "name | Domain | Phylum | Class | Order | Family | Genus | Species | centrality_btw | centrality_hub | centrality_degree | community | d | \n",
       "|---|---|---|\n",
       "| 0206837371f48a70d8103167f4b4204f | Bacteria                         | Firmicutes                       | Clostridia                       | Clostridiales                    | Lachnospiraceae                  | Pseudobutyrivibrio               | unclassified                     |  0                               | 0.000000e+00                     | 0.0000000                        | 2                                | 24.267982                        | \n",
       "| 0215b7637847641274246f9414d2b649 | Bacteria                         | Firmicutes                       | Bacilli                          | Lactobacillales                  | Enterococcaceae                  | Enterococcus                     | unclassified                     | 14                               | 1.288563e-16                     | 0.1012422                        | 4                                |  4.854486                        | \n",
       "| 0852e0ca013fdbd32fa5ab232e102b28 | Bacteria                         | Firmicutes                       | Clostridia                       | Clostridiales                    | Ruminococcaceae                  | unclassified                     | unclassified                     |  0                               | 0.000000e+00                     | 0.0000000                        | 1                                | 61.035148                        | \n",
       "\n",
       "\n"
      ],
      "text/plain": [
       "  name                             Domain   Phylum     Class     \n",
       "1 0206837371f48a70d8103167f4b4204f Bacteria Firmicutes Clostridia\n",
       "2 0215b7637847641274246f9414d2b649 Bacteria Firmicutes Bacilli   \n",
       "3 0852e0ca013fdbd32fa5ab232e102b28 Bacteria Firmicutes Clostridia\n",
       "  Order           Family          Genus              Species     \n",
       "1 Clostridiales   Lachnospiraceae Pseudobutyrivibrio unclassified\n",
       "2 Lactobacillales Enterococcaceae Enterococcus       unclassified\n",
       "3 Clostridiales   Ruminococcaceae unclassified       unclassified\n",
       "  centrality_btw centrality_hub centrality_degree community d        \n",
       "1  0             0.000000e+00   0.0000000         2         24.267982\n",
       "2 14             1.288563e-16   0.1012422         4          4.854486\n",
       "3  0             0.000000e+00   0.0000000         1         61.035148"
      ]
     },
     "metadata": {},
     "output_type": "display_data"
    }
   ],
   "source": [
    "# network\n",
    "ntwk = read.delim(ntwk_file, sep='\\t')\n",
    "ntwk %>% dfhead"
   ]
  },
  {
   "cell_type": "code",
   "execution_count": 21,
   "metadata": {
    "ExecuteTime": {
     "end_time": "2018-08-23T07:14:47.790762Z",
     "start_time": "2018-08-23T07:16:26.655Z"
    }
   },
   "outputs": [
    {
     "name": "stderr",
     "output_type": "stream",
     "text": [
      "Warning message in class(X) <- NULL:\n",
      "“Setting class(x) to NULL;   result will no longer be an S4 object”"
     ]
    },
    {
     "name": "stdout",
     "output_type": "stream",
     "text": [
      "[1] 213  11\n"
     ]
    },
    {
     "data": {
      "text/html": [
       "<table>\n",
       "<thead><tr><th scope=col>X.SampleID</th><th scope=col>scientific_name</th><th scope=col>diet</th><th scope=col>diet_vertebrate</th><th scope=col>diet_invertebrate</th><th scope=col>diet_fruit</th><th scope=col>diet_flowers_nectar_pollen</th><th scope=col>diet_leaves_branches_bark_buds</th><th scope=col>diet_seeds</th><th scope=col>diet_grass_waterplants</th><th scope=col>diet_roots_tubers</th></tr></thead>\n",
       "<tbody>\n",
       "\t<tr><td>X1.Eurasian.Beaver</td><td>Castor_fiber      </td><td>herbivore         </td><td>no                </td><td>no                </td><td>no                </td><td>no                </td><td>yes               </td><td>no                </td><td>yes               </td><td>yes               </td></tr>\n",
       "\t<tr><td>X101.Horse        </td><td>Equus_caballus    </td><td>herbivore         </td><td>no                </td><td>no                </td><td>no                </td><td>no                </td><td>no                </td><td>yes               </td><td>yes               </td><td>no                </td></tr>\n",
       "\t<tr><td>X102.Kulan        </td><td>Equus_hemionus    </td><td>herbivore         </td><td>no                </td><td>no                </td><td>no                </td><td>no                </td><td>yes               </td><td>no                </td><td>yes               </td><td>no                </td></tr>\n",
       "</tbody>\n",
       "</table>\n"
      ],
      "text/latex": [
       "\\begin{tabular}{r|lllllllllll}\n",
       " X.SampleID & scientific\\_name & diet & diet\\_vertebrate & diet\\_invertebrate & diet\\_fruit & diet\\_flowers\\_nectar\\_pollen & diet\\_leaves\\_branches\\_bark\\_buds & diet\\_seeds & diet\\_grass\\_waterplants & diet\\_roots\\_tubers\\\\\n",
       "\\hline\n",
       "\t X1.Eurasian.Beaver & Castor\\_fiber     & herbivore          & no                 & no                 & no                 & no                 & yes                & no                 & yes                & yes               \\\\\n",
       "\t X101.Horse         & Equus\\_caballus   & herbivore          & no                 & no                 & no                 & no                 & no                 & yes                & yes                & no                \\\\\n",
       "\t X102.Kulan         & Equus\\_hemionus   & herbivore          & no                 & no                 & no                 & no                 & yes                & no                 & yes                & no                \\\\\n",
       "\\end{tabular}\n"
      ],
      "text/markdown": [
       "\n",
       "X.SampleID | scientific_name | diet | diet_vertebrate | diet_invertebrate | diet_fruit | diet_flowers_nectar_pollen | diet_leaves_branches_bark_buds | diet_seeds | diet_grass_waterplants | diet_roots_tubers | \n",
       "|---|---|---|\n",
       "| X1.Eurasian.Beaver | Castor_fiber       | herbivore          | no                 | no                 | no                 | no                 | yes                | no                 | yes                | yes                | \n",
       "| X101.Horse         | Equus_caballus     | herbivore          | no                 | no                 | no                 | no                 | no                 | yes                | yes                | no                 | \n",
       "| X102.Kulan         | Equus_hemionus     | herbivore          | no                 | no                 | no                 | no                 | yes                | no                 | yes                | no                 | \n",
       "\n",
       "\n"
      ],
      "text/plain": [
       "  X.SampleID         scientific_name diet      diet_vertebrate\n",
       "1 X1.Eurasian.Beaver Castor_fiber    herbivore no             \n",
       "2 X101.Horse         Equus_caballus  herbivore no             \n",
       "3 X102.Kulan         Equus_hemionus  herbivore no             \n",
       "  diet_invertebrate diet_fruit diet_flowers_nectar_pollen\n",
       "1 no                no         no                        \n",
       "2 no                no         no                        \n",
       "3 no                no         no                        \n",
       "  diet_leaves_branches_bark_buds diet_seeds diet_grass_waterplants\n",
       "1 yes                            no         yes                   \n",
       "2 no                             yes        yes                   \n",
       "3 yes                            no         yes                   \n",
       "  diet_roots_tubers\n",
       "1 yes              \n",
       "2 no               \n",
       "3 no               "
      ]
     },
     "metadata": {},
     "output_type": "display_data"
    }
   ],
   "source": [
    "# metadata table\n",
    "metadata = physeq %>%\n",
    "    sample_data %>%\n",
    "    as.matrix %>%\n",
    "    as.data.frame %>%\n",
    "    mutate(X.SampleID = rownames(.)) %>%\n",
    "    dplyr::select(X.SampleID, scientific_name, diet, \n",
    "                  diet_vertebrate,diet_invertebrate,diet_fruit,\n",
    "                  diet_flowers_nectar_pollen,diet_leaves_branches_bark_buds,\n",
    "                  diet_seeds,diet_grass_waterplants,diet_roots_tubers) %>%\n",
    "    mutate(scientific_name = gsub(' ', '_', scientific_name)) %>%\n",
    "    as.data.frame\n",
    "\n",
    "rownames(metadata) = metadata$SampleID\n",
    "metadata %>% dfhead"
   ]
  },
  {
   "cell_type": "code",
   "execution_count": 40,
   "metadata": {
    "ExecuteTime": {
     "end_time": "2018-08-23T07:25:55.842330Z",
     "start_time": "2018-08-23T07:27:34.853Z"
    }
   },
   "outputs": [
    {
     "data": {
      "text/plain": [
       "\n",
       "Phylogenetic tree with 213 tips and 177 internal nodes.\n",
       "\n",
       "Tip labels:\n",
       "\tX256.Zander, F302.Northern.Pike, X188.Brook.Trout, F300.Asp, X330.Ide, X327.Silver.Bream, ...\n",
       "Node labels:\n",
       "\tNode1, Node2, Node3, Node4, Node5, Node6, ...\n",
       "\n",
       "Rooted; includes branch lengths."
      ]
     },
     "metadata": {},
     "output_type": "display_data"
    }
   ],
   "source": [
    "# host tree file \n",
    "host_tree = read.tree(host_tree_file)\n",
    "host_tree"
   ]
  },
  {
   "cell_type": "markdown",
   "metadata": {},
   "source": [
    "# Summing abundances by sub-network"
   ]
  },
  {
   "cell_type": "code",
   "execution_count": 144,
   "metadata": {
    "ExecuteTime": {
     "end_time": "2018-08-23T07:42:37.492445Z",
     "start_time": "2018-08-23T07:44:16.584Z"
    }
   },
   "outputs": [],
   "source": [
    "# # otu table\n",
    "# otu = physeq %>%\n",
    "#     otu_table() %>%\n",
    "#     as.matrix %>%\n",
    "#     as.data.frame %>%\n",
    "#     mutate(OTU = rownames(.)) %>%\n",
    "#     gather(Sample, Count, -OTU) %>%\n",
    "#     inner_join(ntwk, c('OTU'='name')) %>%\n",
    "#     group_by(Sample, community) %>%\n",
    "#     summarize(Count = sum(Count)) %>%\n",
    "#     ungroup() %>%\n",
    "#     spread(Sample, Count) %>%\n",
    "#     as.data.frame\n",
    "\n",
    "# rownames(otu) = gsub('^', 'SN', otu$community)\n",
    "# otu$community = NULL\n",
    "# otu = otu %>% t %>% as.data.frame\n",
    "\n",
    "# otu = otu[metadata$X.SampleID,]\n",
    "\n",
    "# otu %>% dfhead"
   ]
  },
  {
   "cell_type": "code",
   "execution_count": 118,
   "metadata": {
    "ExecuteTime": {
     "end_time": "2018-08-23T07:39:54.261671Z",
     "start_time": "2018-08-23T07:41:30.888Z"
    }
   },
   "outputs": [
    {
     "name": "stderr",
     "output_type": "stream",
     "text": [
      "Warning message:\n",
      "“Column `OTU`/`name` joining character vector and factor, coercing into character vector”"
     ]
    },
    {
     "name": "stdout",
     "output_type": "stream",
     "text": [
      "[1] 213   4\n"
     ]
    },
    {
     "data": {
      "text/html": [
       "<table>\n",
       "<thead><tr><th></th><th scope=col>SN1</th><th scope=col>SN2</th><th scope=col>SN3</th><th scope=col>SN4</th></tr></thead>\n",
       "<tbody>\n",
       "\t<tr><th scope=row>X1.Eurasian.Beaver</th><td>0</td><td>0</td><td>0</td><td>0</td></tr>\n",
       "\t<tr><th scope=row>X101.Horse</th><td>1</td><td>0</td><td>0</td><td>0</td></tr>\n",
       "\t<tr><th scope=row>X102.Kulan</th><td>1</td><td>0</td><td>1</td><td>0</td></tr>\n",
       "</tbody>\n",
       "</table>\n"
      ],
      "text/latex": [
       "\\begin{tabular}{r|llll}\n",
       "  & SN1 & SN2 & SN3 & SN4\\\\\n",
       "\\hline\n",
       "\tX1.Eurasian.Beaver & 0 & 0 & 0 & 0\\\\\n",
       "\tX101.Horse & 1 & 0 & 0 & 0\\\\\n",
       "\tX102.Kulan & 1 & 0 & 1 & 0\\\\\n",
       "\\end{tabular}\n"
      ],
      "text/markdown": [
       "\n",
       "| <!--/--> | SN1 | SN2 | SN3 | SN4 | \n",
       "|---|---|---|\n",
       "| X1.Eurasian.Beaver | 0 | 0 | 0 | 0 | \n",
       "| X101.Horse | 1 | 0 | 0 | 0 | \n",
       "| X102.Kulan | 1 | 0 | 1 | 0 | \n",
       "\n",
       "\n"
      ],
      "text/plain": [
       "                   SN1 SN2 SN3 SN4\n",
       "X1.Eurasian.Beaver 0   0   0   0  \n",
       "X101.Horse         1   0   0   0  \n",
       "X102.Kulan         1   0   1   0  "
      ]
     },
     "metadata": {},
     "output_type": "display_data"
    }
   ],
   "source": [
    "# otu table\n",
    "## majority pres-abs in network\n",
    "otu = physeq %>%\n",
    "    otu_table() %>%\n",
    "    as.matrix %>%\n",
    "    as.data.frame %>%\n",
    "    mutate(OTU = rownames(.)) %>%\n",
    "    gather(Sample, Count, -OTU) %>%\n",
    "    mutate(Count = ifelse(Count > 0, 1, 0)) %>%\n",
    "    inner_join(ntwk, c('OTU'='name')) %>%\n",
    "    group_by(Sample, community) %>%\n",
    "    summarize(Pres_perc = sum(Count) / length(Count) * 100,\n",
    "              Count = ifelse(Pres_perc > 5, 1, 0)) %>%\n",
    "    ungroup() %>%\n",
    "    dplyr::select(-Pres_perc) %>%\n",
    "    spread(Sample, Count) %>%\n",
    "    as.data.frame\n",
    "\n",
    "rownames(otu) = gsub('^', 'SN', otu$community)\n",
    "otu$community = NULL\n",
    "otu = otu %>% t %>% as.data.frame\n",
    "\n",
    "otu = otu[metadata$X.SampleID,]\n",
    "\n",
    "otu %>% dfhead"
   ]
  },
  {
   "cell_type": "code",
   "execution_count": 119,
   "metadata": {
    "ExecuteTime": {
     "end_time": "2018-08-23T07:39:54.307305Z",
     "start_time": "2018-08-23T07:41:31.031Z"
    }
   },
   "outputs": [
    {
     "data": {
      "text/plain": [
       "   Min. 1st Qu.  Median    Mean 3rd Qu.    Max. \n",
       "  0.000   1.000   1.000   1.169   2.000   2.000 "
      ]
     },
     "metadata": {},
     "output_type": "display_data"
    },
    {
     "data": {
      "text/plain": [
       "   Min. 1st Qu.  Median    Mean 3rd Qu.    Max. \n",
       "  39.00   45.75   62.00   62.25   78.50   86.00 "
      ]
     },
     "metadata": {},
     "output_type": "display_data"
    }
   ],
   "source": [
    "# summary \n",
    "otu %>% rowSums %>% summary\n",
    "otu %>% colSums %>% summary"
   ]
  },
  {
   "cell_type": "code",
   "execution_count": 120,
   "metadata": {
    "ExecuteTime": {
     "end_time": "2018-08-23T07:39:54.388282Z",
     "start_time": "2018-08-23T07:41:32.777Z"
    }
   },
   "outputs": [
    {
     "name": "stdout",
     "output_type": "stream",
     "text": [
      "[1] 213  13\n"
     ]
    },
    {
     "data": {
      "text/html": [
       "<table>\n",
       "<thead><tr><th></th><th scope=col>diet</th><th scope=col>diet_vertebrate</th><th scope=col>diet_invertebrate</th><th scope=col>diet_fruit</th><th scope=col>diet_flowers_nectar_pollen</th><th scope=col>diet_leaves_branches_bark_buds</th><th scope=col>diet_seeds</th><th scope=col>diet_grass_waterplants</th><th scope=col>diet_roots_tubers</th><th scope=col>SN1</th><th scope=col>SN2</th><th scope=col>SN3</th><th scope=col>SN4</th></tr></thead>\n",
       "<tbody>\n",
       "\t<tr><th scope=row>X1.Eurasian.Beaver</th><td>herbivore</td><td>no       </td><td>no       </td><td>no       </td><td>no       </td><td>yes      </td><td>no       </td><td>yes      </td><td>yes      </td><td>0        </td><td>0        </td><td>0        </td><td>0        </td></tr>\n",
       "\t<tr><th scope=row>X101.Horse</th><td>herbivore</td><td>no       </td><td>no       </td><td>no       </td><td>no       </td><td>no       </td><td>yes      </td><td>yes      </td><td>no       </td><td>1        </td><td>0        </td><td>0        </td><td>0        </td></tr>\n",
       "\t<tr><th scope=row>X102.Kulan</th><td>herbivore</td><td>no       </td><td>no       </td><td>no       </td><td>no       </td><td>yes      </td><td>no       </td><td>yes      </td><td>no       </td><td>1        </td><td>0        </td><td>1        </td><td>0        </td></tr>\n",
       "</tbody>\n",
       "</table>\n"
      ],
      "text/latex": [
       "\\begin{tabular}{r|lllllllllllll}\n",
       "  & diet & diet\\_vertebrate & diet\\_invertebrate & diet\\_fruit & diet\\_flowers\\_nectar\\_pollen & diet\\_leaves\\_branches\\_bark\\_buds & diet\\_seeds & diet\\_grass\\_waterplants & diet\\_roots\\_tubers & SN1 & SN2 & SN3 & SN4\\\\\n",
       "\\hline\n",
       "\tX1.Eurasian.Beaver & herbivore & no        & no        & no        & no        & yes       & no        & yes       & yes       & 0         & 0         & 0         & 0        \\\\\n",
       "\tX101.Horse & herbivore & no        & no        & no        & no        & no        & yes       & yes       & no        & 1         & 0         & 0         & 0        \\\\\n",
       "\tX102.Kulan & herbivore & no        & no        & no        & no        & yes       & no        & yes       & no        & 1         & 0         & 1         & 0        \\\\\n",
       "\\end{tabular}\n"
      ],
      "text/markdown": [
       "\n",
       "| <!--/--> | diet | diet_vertebrate | diet_invertebrate | diet_fruit | diet_flowers_nectar_pollen | diet_leaves_branches_bark_buds | diet_seeds | diet_grass_waterplants | diet_roots_tubers | SN1 | SN2 | SN3 | SN4 | \n",
       "|---|---|---|\n",
       "| X1.Eurasian.Beaver | herbivore | no        | no        | no        | no        | yes       | no        | yes       | yes       | 0         | 0         | 0         | 0         | \n",
       "| X101.Horse | herbivore | no        | no        | no        | no        | no        | yes       | yes       | no        | 1         | 0         | 0         | 0         | \n",
       "| X102.Kulan | herbivore | no        | no        | no        | no        | yes       | no        | yes       | no        | 1         | 0         | 1         | 0         | \n",
       "\n",
       "\n"
      ],
      "text/plain": [
       "                   diet      diet_vertebrate diet_invertebrate diet_fruit\n",
       "X1.Eurasian.Beaver herbivore no              no                no        \n",
       "X101.Horse         herbivore no              no                no        \n",
       "X102.Kulan         herbivore no              no                no        \n",
       "                   diet_flowers_nectar_pollen diet_leaves_branches_bark_buds\n",
       "X1.Eurasian.Beaver no                         yes                           \n",
       "X101.Horse         no                         no                            \n",
       "X102.Kulan         no                         yes                           \n",
       "                   diet_seeds diet_grass_waterplants diet_roots_tubers SN1 SN2\n",
       "X1.Eurasian.Beaver no         yes                    yes               0   0  \n",
       "X101.Horse         yes        yes                    no                1   0  \n",
       "X102.Kulan         no         yes                    no                1   0  \n",
       "                   SN3 SN4\n",
       "X1.Eurasian.Beaver 0   0  \n",
       "X101.Horse         0   0  \n",
       "X102.Kulan         1   0  "
      ]
     },
     "metadata": {},
     "output_type": "display_data"
    }
   ],
   "source": [
    "diet_vars = c(\n",
    "'diet',\n",
    "'diet_vertebrate',\n",
    "'diet_invertebrate',\n",
    "'diet_fruit',\n",
    "'diet_flowers_nectar_pollen',\n",
    "'diet_leaves_branches_bark_buds',\n",
    "'diet_seeds',\n",
    "'diet_grass_waterplants',\n",
    "'diet_roots_tubers'\n",
    ")\n",
    "otu = cbind(metadata[,diet_vars], otu)\n",
    "otu %>% dfhead"
   ]
  },
  {
   "cell_type": "code",
   "execution_count": 121,
   "metadata": {
    "ExecuteTime": {
     "end_time": "2018-08-23T07:39:54.483612Z",
     "start_time": "2018-08-23T07:41:33.211Z"
    }
   },
   "outputs": [
    {
     "name": "stdout",
     "output_type": "stream",
     "text": [
      "[1] 213  14\n"
     ]
    },
    {
     "data": {
      "text/html": [
       "<table>\n",
       "<thead><tr><th></th><th scope=col>diet</th><th scope=col>diet_vertebrate</th><th scope=col>diet_invertebrate</th><th scope=col>diet_fruit</th><th scope=col>diet_flowers_nectar_pollen</th><th scope=col>diet_leaves_branches_bark_buds</th><th scope=col>diet_seeds</th><th scope=col>diet_grass_waterplants</th><th scope=col>diet_roots_tubers</th><th scope=col>SN1</th><th scope=col>SN2</th><th scope=col>SN3</th><th scope=col>SN4</th><th scope=col>taxa</th></tr></thead>\n",
       "<tbody>\n",
       "\t<tr><th scope=row>X1.Eurasian.Beaver</th><td>1                 </td><td>0                 </td><td>0                 </td><td>0                 </td><td>0                 </td><td>1                 </td><td>0                 </td><td>1                 </td><td>1                 </td><td>0                 </td><td>0                 </td><td>0                 </td><td>0                 </td><td>X1.Eurasian.Beaver</td></tr>\n",
       "\t<tr><th scope=row>X101.Horse</th><td>1                 </td><td>0                 </td><td>0                 </td><td>0                 </td><td>0                 </td><td>0                 </td><td>1                 </td><td>1                 </td><td>0                 </td><td>1                 </td><td>0                 </td><td>0                 </td><td>0                 </td><td>X101.Horse        </td></tr>\n",
       "\t<tr><th scope=row>X102.Kulan</th><td>1                 </td><td>0                 </td><td>0                 </td><td>0                 </td><td>0                 </td><td>1                 </td><td>0                 </td><td>1                 </td><td>0                 </td><td>1                 </td><td>0                 </td><td>1                 </td><td>0                 </td><td>X102.Kulan        </td></tr>\n",
       "</tbody>\n",
       "</table>\n"
      ],
      "text/latex": [
       "\\begin{tabular}{r|llllllllllllll}\n",
       "  & diet & diet\\_vertebrate & diet\\_invertebrate & diet\\_fruit & diet\\_flowers\\_nectar\\_pollen & diet\\_leaves\\_branches\\_bark\\_buds & diet\\_seeds & diet\\_grass\\_waterplants & diet\\_roots\\_tubers & SN1 & SN2 & SN3 & SN4 & taxa\\\\\n",
       "\\hline\n",
       "\tX1.Eurasian.Beaver & 1                  & 0                  & 0                  & 0                  & 0                  & 1                  & 0                  & 1                  & 1                  & 0                  & 0                  & 0                  & 0                  & X1.Eurasian.Beaver\\\\\n",
       "\tX101.Horse & 1                  & 0                  & 0                  & 0                  & 0                  & 0                  & 1                  & 1                  & 0                  & 1                  & 0                  & 0                  & 0                  & X101.Horse        \\\\\n",
       "\tX102.Kulan & 1                  & 0                  & 0                  & 0                  & 0                  & 1                  & 0                  & 1                  & 0                  & 1                  & 0                  & 1                  & 0                  & X102.Kulan        \\\\\n",
       "\\end{tabular}\n"
      ],
      "text/markdown": [
       "\n",
       "| <!--/--> | diet | diet_vertebrate | diet_invertebrate | diet_fruit | diet_flowers_nectar_pollen | diet_leaves_branches_bark_buds | diet_seeds | diet_grass_waterplants | diet_roots_tubers | SN1 | SN2 | SN3 | SN4 | taxa | \n",
       "|---|---|---|\n",
       "| X1.Eurasian.Beaver | 1                  | 0                  | 0                  | 0                  | 0                  | 1                  | 0                  | 1                  | 1                  | 0                  | 0                  | 0                  | 0                  | X1.Eurasian.Beaver | \n",
       "| X101.Horse | 1                  | 0                  | 0                  | 0                  | 0                  | 0                  | 1                  | 1                  | 0                  | 1                  | 0                  | 0                  | 0                  | X101.Horse         | \n",
       "| X102.Kulan | 1                  | 0                  | 0                  | 0                  | 0                  | 1                  | 0                  | 1                  | 0                  | 1                  | 0                  | 1                  | 0                  | X102.Kulan         | \n",
       "\n",
       "\n"
      ],
      "text/plain": [
       "                   diet diet_vertebrate diet_invertebrate diet_fruit\n",
       "X1.Eurasian.Beaver 1    0               0                 0         \n",
       "X101.Horse         1    0               0                 0         \n",
       "X102.Kulan         1    0               0                 0         \n",
       "                   diet_flowers_nectar_pollen diet_leaves_branches_bark_buds\n",
       "X1.Eurasian.Beaver 0                          1                             \n",
       "X101.Horse         0                          0                             \n",
       "X102.Kulan         0                          1                             \n",
       "                   diet_seeds diet_grass_waterplants diet_roots_tubers SN1 SN2\n",
       "X1.Eurasian.Beaver 0          1                      1                 0   0  \n",
       "X101.Horse         1          1                      0                 1   0  \n",
       "X102.Kulan         0          1                      0                 1   0  \n",
       "                   SN3 SN4 taxa              \n",
       "X1.Eurasian.Beaver 0   0   X1.Eurasian.Beaver\n",
       "X101.Horse         0   0   X101.Horse        \n",
       "X102.Kulan         1   0   X102.Kulan        "
      ]
     },
     "metadata": {},
     "output_type": "display_data"
    }
   ],
   "source": [
    "# transforming\n",
    "otu$diet = ifelse(otu$diet == 'herbivore', 1,\n",
    "                  ifelse(otu$diet == 'omnivore', 0.5, 0))\n",
    "\n",
    "for(x in diet_vars[2:length(diet_vars)]){\n",
    "    otu[,x] = gsub(' .+', '', otu[,x])\n",
    "    otu[,x] = ifelse(otu[,x] == 'yes', 1, 0) %>% as.numeric\n",
    "}\n",
    "\n",
    "otu$taxa = rownames(otu)\n",
    "otu %>% dfhead"
   ]
  },
  {
   "cell_type": "code",
   "execution_count": 122,
   "metadata": {
    "ExecuteTime": {
     "end_time": "2018-08-23T07:39:54.890660Z",
     "start_time": "2018-08-23T07:41:33.968Z"
    }
   },
   "outputs": [
    {
     "data": {
      "text/html": [
       "<dl class=dl-horizontal>\n",
       "\t<dt>diet</dt>\n",
       "\t\t<dd>117</dd>\n",
       "\t<dt>diet_vertebrate</dt>\n",
       "\t\t<dd>75</dd>\n",
       "\t<dt>diet_invertebrate</dt>\n",
       "\t\t<dd>109</dd>\n",
       "\t<dt>diet_fruit</dt>\n",
       "\t\t<dd>89</dd>\n",
       "\t<dt>diet_flowers_nectar_pollen</dt>\n",
       "\t\t<dd>18</dd>\n",
       "\t<dt>diet_leaves_branches_bark_buds</dt>\n",
       "\t\t<dd>101</dd>\n",
       "\t<dt>diet_seeds</dt>\n",
       "\t\t<dd>86</dd>\n",
       "\t<dt>diet_grass_waterplants</dt>\n",
       "\t\t<dd>96</dd>\n",
       "\t<dt>diet_roots_tubers</dt>\n",
       "\t\t<dd>70</dd>\n",
       "</dl>\n"
      ],
      "text/latex": [
       "\\begin{description*}\n",
       "\\item[diet] 117\n",
       "\\item[diet\\textbackslash{}\\_vertebrate] 75\n",
       "\\item[diet\\textbackslash{}\\_invertebrate] 109\n",
       "\\item[diet\\textbackslash{}\\_fruit] 89\n",
       "\\item[diet\\textbackslash{}\\_flowers\\textbackslash{}\\_nectar\\textbackslash{}\\_pollen] 18\n",
       "\\item[diet\\textbackslash{}\\_leaves\\textbackslash{}\\_branches\\textbackslash{}\\_bark\\textbackslash{}\\_buds] 101\n",
       "\\item[diet\\textbackslash{}\\_seeds] 86\n",
       "\\item[diet\\textbackslash{}\\_grass\\textbackslash{}\\_waterplants] 96\n",
       "\\item[diet\\textbackslash{}\\_roots\\textbackslash{}\\_tubers] 70\n",
       "\\end{description*}\n"
      ],
      "text/markdown": [
       "diet\n",
       ":   117diet_vertebrate\n",
       ":   75diet_invertebrate\n",
       ":   109diet_fruit\n",
       ":   89diet_flowers_nectar_pollen\n",
       ":   18diet_leaves_branches_bark_buds\n",
       ":   101diet_seeds\n",
       ":   86diet_grass_waterplants\n",
       ":   96diet_roots_tubers\n",
       ":   70\n",
       "\n"
      ],
      "text/plain": [
       "                          diet                diet_vertebrate \n",
       "                           117                             75 \n",
       "             diet_invertebrate                     diet_fruit \n",
       "                           109                             89 \n",
       "    diet_flowers_nectar_pollen diet_leaves_branches_bark_buds \n",
       "                            18                            101 \n",
       "                    diet_seeds         diet_grass_waterplants \n",
       "                            86                             96 \n",
       "             diet_roots_tubers \n",
       "                            70 "
      ]
     },
     "metadata": {},
     "output_type": "display_data"
    }
   ],
   "source": [
    "# checking values\n",
    "colSums(otu[,1:9])"
   ]
  },
  {
   "cell_type": "markdown",
   "metadata": {},
   "source": [
    "# Host tree subsample"
   ]
  },
  {
   "cell_type": "code",
   "execution_count": 127,
   "metadata": {
    "ExecuteTime": {
     "end_time": "2018-08-23T07:39:57.867601Z",
     "start_time": "2018-08-23T07:41:36.950Z"
    }
   },
   "outputs": [
    {
     "name": "stdout",
     "output_type": "stream",
     "text": [
      "character(0)\n",
      "character(0)\n"
     ]
    }
   ],
   "source": [
    "setdiff(host_tree$tip.label, rownames(otu)) %>% print\n",
    "setdiff(rownames(otu), host_tree$tip.label) %>% print"
   ]
  },
  {
   "cell_type": "code",
   "execution_count": 128,
   "metadata": {
    "ExecuteTime": {
     "end_time": "2018-08-23T07:39:57.983100Z",
     "start_time": "2018-08-23T07:41:37.071Z"
    }
   },
   "outputs": [],
   "source": [
    "#' randomly selecting one per group\n",
    "tree_subsample = function(L, df, tree){\n",
    "    # get subsample (note: subsampling within each species)\n",
    "    to_keep = df %>% \n",
    "        group_by(scientific_name) %>% \n",
    "        sample_n(1) %>%\n",
    "        .$sample\n",
    "    # subsampling tree\n",
    "    to_rm = setdiff(tree$tip.label, to_keep)\n",
    "    tree = drop.tip(tree, to_rm)\n",
    "    return(tree)\n",
    "}"
   ]
  },
  {
   "cell_type": "code",
   "execution_count": 129,
   "metadata": {
    "ExecuteTime": {
     "end_time": "2018-08-23T07:39:58.458666Z",
     "start_time": "2018-08-23T07:41:37.203Z"
    }
   },
   "outputs": [
    {
     "data": {
      "text/html": [
       "100"
      ],
      "text/latex": [
       "100"
      ],
      "text/markdown": [
       "100"
      ],
      "text/plain": [
       "[1] 100"
      ]
     },
     "metadata": {},
     "output_type": "display_data"
    }
   ],
   "source": [
    "# permuted trees\n",
    "df = metadata %>%\n",
    "    mutate(sample = X.SampleID) %>%\n",
    "    dplyr::select(sample, scientific_name) \n",
    "\n",
    "doParallel::registerDoParallel(threads)\n",
    "host_tree_l = plyr::llply(as.list(1:100), \n",
    "                          function(x) tree_subsample(x, df, host_tree),\n",
    "                          .parallel=TRUE)\n",
    "host_tree_l %>% length"
   ]
  },
  {
   "cell_type": "code",
   "execution_count": 130,
   "metadata": {
    "ExecuteTime": {
     "end_time": "2018-08-23T07:39:58.526356Z",
     "start_time": "2018-08-23T07:41:37.328Z"
    }
   },
   "outputs": [
    {
     "data": {
      "text/plain": [
       "   Min. 1st Qu.  Median    Mean 3rd Qu.    Max. \n",
       "    128     128     128     128     128     128 "
      ]
     },
     "metadata": {},
     "output_type": "display_data"
    }
   ],
   "source": [
    "# check tips per tree\n",
    "lapply(host_tree_l, function(x) x$tip.label %>% length) %>% unlist %>% summary"
   ]
  },
  {
   "cell_type": "markdown",
   "metadata": {},
   "source": [
    "# PGLS"
   ]
  },
  {
   "cell_type": "code",
   "execution_count": 131,
   "metadata": {
    "ExecuteTime": {
     "end_time": "2018-08-23T07:39:58.572919Z",
     "start_time": "2018-08-23T07:41:37.609Z"
    }
   },
   "outputs": [],
   "source": [
    "pgls_each_var = function(y, x, tree, data){\n",
    "    cdat = comparative.data(data=data, phy=tree, names.col=\"taxa\")\n",
    "    \n",
    "    f = as.formula(paste(c(y, x), collapse=' ~ '))\n",
    "    mod = pgls(f, cdat) %>% summary\n",
    "    \n",
    "    df = mod$coefficients %>% as.data.frame\n",
    "    colnames(df) = c('Estimate', 'std_err', 't_value', 'p_value')\n",
    "    df$R2 = mod$adj.r.squared %>% as.vector %>% .[1]\n",
    "    df$x = x\n",
    "    df$y = y\n",
    "    df = df[2,] %>% as.data.frame\n",
    "    return(df)\n",
    "}"
   ]
  },
  {
   "cell_type": "code",
   "execution_count": 132,
   "metadata": {
    "ExecuteTime": {
     "end_time": "2018-08-23T07:39:58.665690Z",
     "start_time": "2018-08-23T07:41:37.754Z"
    }
   },
   "outputs": [],
   "source": [
    "pgls_each_tree = function(rep, y, x, tree_list, data, threads=1){\n",
    "    tree = tree_list[[rep]]\n",
    "    data = data[tree$tip.label,] \n",
    "    \n",
    "    doParallel::registerDoParallel(threads)\n",
    "    ret = plyr::llply(as.list(y),\n",
    "                      pgls_each_var,\n",
    "                      x = 'diet',\n",
    "                      tree = tree,\n",
    "                      data = data,\n",
    "                      .parallel = TRUE)\n",
    "    ret = do.call(rbind, ret)\n",
    "    ret$rep = rep\n",
    "    return(ret)\n",
    "}"
   ]
  },
  {
   "cell_type": "markdown",
   "metadata": {},
   "source": [
    "# Diet"
   ]
  },
  {
   "cell_type": "code",
   "execution_count": 133,
   "metadata": {
    "ExecuteTime": {
     "end_time": "2018-08-23T07:41:05.564806Z",
     "start_time": "2018-08-23T07:41:38.036Z"
    }
   },
   "outputs": [
    {
     "name": "stdout",
     "output_type": "stream",
     "text": [
      "[1] 400   8\n"
     ]
    },
    {
     "data": {
      "text/html": [
       "<table>\n",
       "<thead><tr><th scope=col>Estimate</th><th scope=col>std_err</th><th scope=col>t_value</th><th scope=col>p_value</th><th scope=col>R2</th><th scope=col>x</th><th scope=col>y</th><th scope=col>rep</th></tr></thead>\n",
       "<tbody>\n",
       "\t<tr><td> 0.14986460 </td><td>0.1238393   </td><td> 1.2101536  </td><td>0.22848534  </td><td> 0.003643930</td><td>diet        </td><td>SN1         </td><td>1           </td></tr>\n",
       "\t<tr><td>-0.31057823 </td><td>0.1804089   </td><td>-1.7215243  </td><td>0.08760993  </td><td> 0.015226352</td><td>diet        </td><td>SN2         </td><td>1           </td></tr>\n",
       "\t<tr><td> 0.02591436 </td><td>0.2325428   </td><td> 0.1114391  </td><td>0.91144549  </td><td>-0.007837175</td><td>diet        </td><td>SN3         </td><td>1           </td></tr>\n",
       "</tbody>\n",
       "</table>\n"
      ],
      "text/latex": [
       "\\begin{tabular}{r|llllllll}\n",
       " Estimate & std\\_err & t\\_value & p\\_value & R2 & x & y & rep\\\\\n",
       "\\hline\n",
       "\t  0.14986460  & 0.1238393    &  1.2101536   & 0.22848534   &  0.003643930 & diet         & SN1          & 1           \\\\\n",
       "\t -0.31057823  & 0.1804089    & -1.7215243   & 0.08760993   &  0.015226352 & diet         & SN2          & 1           \\\\\n",
       "\t  0.02591436  & 0.2325428    &  0.1114391   & 0.91144549   & -0.007837175 & diet         & SN3          & 1           \\\\\n",
       "\\end{tabular}\n"
      ],
      "text/markdown": [
       "\n",
       "Estimate | std_err | t_value | p_value | R2 | x | y | rep | \n",
       "|---|---|---|\n",
       "|  0.14986460  | 0.1238393    |  1.2101536   | 0.22848534   |  0.003643930 | diet         | SN1          | 1            | \n",
       "| -0.31057823  | 0.1804089    | -1.7215243   | 0.08760993   |  0.015226352 | diet         | SN2          | 1            | \n",
       "|  0.02591436  | 0.2325428    |  0.1114391   | 0.91144549   | -0.007837175 | diet         | SN3          | 1            | \n",
       "\n",
       "\n"
      ],
      "text/plain": [
       "  Estimate    std_err   t_value    p_value    R2           x    y   rep\n",
       "1  0.14986460 0.1238393  1.2101536 0.22848534  0.003643930 diet SN1 1  \n",
       "2 -0.31057823 0.1804089 -1.7215243 0.08760993  0.015226352 diet SN2 1  \n",
       "3  0.02591436 0.2325428  0.1114391 0.91144549 -0.007837175 diet SN3 1  "
      ]
     },
     "metadata": {},
     "output_type": "display_data"
    }
   ],
   "source": [
    "# running on all OTUs, each permuted tree\n",
    "y = colnames(otu)[10:(ncol(otu)-1)]     # all sub-networks\n",
    "ret = plyr::llply(1:length(host_tree_l),\n",
    "                  pgls_each_tree,\n",
    "                  y = y,\n",
    "                  x = 'diet',\n",
    "                  tree_list = host_tree_l,\n",
    "                  data = otu,\n",
    "                  threads = threads)\n",
    "\n",
    "ret = do.call(rbind, ret) %>%\n",
    "    as.data.frame\n",
    "rownames(ret) = 1:nrow(ret)\n",
    "\n",
    "# status\n",
    "ret %>% dfhead"
   ]
  },
  {
   "cell_type": "code",
   "execution_count": 134,
   "metadata": {
    "ExecuteTime": {
     "end_time": "2018-08-23T07:41:05.630474Z",
     "start_time": "2018-08-23T07:41:38.166Z"
    }
   },
   "outputs": [
    {
     "name": "stdout",
     "output_type": "stream",
     "text": [
      "[1] 400   8\n"
     ]
    },
    {
     "data": {
      "text/html": [
       "<table>\n",
       "<thead><tr><th scope=col>Estimate</th><th scope=col>std_err</th><th scope=col>t_value</th><th scope=col>p_value</th><th scope=col>R2</th><th scope=col>x</th><th scope=col>y</th><th scope=col>rep</th></tr></thead>\n",
       "<tbody>\n",
       "\t<tr><td> 0.14986460 </td><td>0.1238393   </td><td> 1.2101536  </td><td>0.22848534  </td><td> 0.003643930</td><td>diet        </td><td>SN1         </td><td>1           </td></tr>\n",
       "\t<tr><td>-0.31057823 </td><td>0.1804089   </td><td>-1.7215243  </td><td>0.08760993  </td><td> 0.015226352</td><td>diet        </td><td>SN2         </td><td>1           </td></tr>\n",
       "\t<tr><td> 0.02591436 </td><td>0.2325428   </td><td> 0.1114391  </td><td>0.91144549  </td><td>-0.007837175</td><td>diet        </td><td>SN3         </td><td>1           </td></tr>\n",
       "</tbody>\n",
       "</table>\n"
      ],
      "text/latex": [
       "\\begin{tabular}{r|llllllll}\n",
       " Estimate & std\\_err & t\\_value & p\\_value & R2 & x & y & rep\\\\\n",
       "\\hline\n",
       "\t  0.14986460  & 0.1238393    &  1.2101536   & 0.22848534   &  0.003643930 & diet         & SN1          & 1           \\\\\n",
       "\t -0.31057823  & 0.1804089    & -1.7215243   & 0.08760993   &  0.015226352 & diet         & SN2          & 1           \\\\\n",
       "\t  0.02591436  & 0.2325428    &  0.1114391   & 0.91144549   & -0.007837175 & diet         & SN3          & 1           \\\\\n",
       "\\end{tabular}\n"
      ],
      "text/markdown": [
       "\n",
       "Estimate | std_err | t_value | p_value | R2 | x | y | rep | \n",
       "|---|---|---|\n",
       "|  0.14986460  | 0.1238393    |  1.2101536   | 0.22848534   |  0.003643930 | diet         | SN1          | 1            | \n",
       "| -0.31057823  | 0.1804089    | -1.7215243   | 0.08760993   |  0.015226352 | diet         | SN2          | 1            | \n",
       "|  0.02591436  | 0.2325428    |  0.1114391   | 0.91144549   | -0.007837175 | diet         | SN3          | 1            | \n",
       "\n",
       "\n"
      ],
      "text/plain": [
       "  Estimate    std_err   t_value    p_value    R2           x    y   rep\n",
       "1  0.14986460 0.1238393  1.2101536 0.22848534  0.003643930 diet SN1 1  \n",
       "2 -0.31057823 0.1804089 -1.7215243 0.08760993  0.015226352 diet SN2 1  \n",
       "3  0.02591436 0.2325428  0.1114391 0.91144549 -0.007837175 diet SN3 1  "
      ]
     },
     "metadata": {},
     "output_type": "display_data"
    }
   ],
   "source": [
    "# formatting results\n",
    "pgls_res = ret %>%\n",
    "    mutate(R2 = R2 %>% as.numeric,\n",
    "           p_value = p_value %>% as.numeric)\n",
    "\n",
    "pgls_res %>% dfhead"
   ]
  },
  {
   "cell_type": "markdown",
   "metadata": {},
   "source": [
    "### Saving output"
   ]
  },
  {
   "cell_type": "code",
   "execution_count": 135,
   "metadata": {
    "ExecuteTime": {
     "end_time": "2018-08-23T07:41:05.679207Z",
     "start_time": "2018-08-23T07:41:38.455Z"
    }
   },
   "outputs": [
    {
     "data": {
      "text/html": [
       "'/ebio/abt3_projects/Georg_animal_feces/data/host_specific/phylosignal/host_TT/PGLS//pgls_IndD_cooccur-ntwk.RDS'"
      ],
      "text/latex": [
       "'/ebio/abt3\\_projects/Georg\\_animal\\_feces/data/host\\_specific/phylosignal/host\\_TT/PGLS//pgls\\_IndD\\_cooccur-ntwk.RDS'"
      ],
      "text/markdown": [
       "'/ebio/abt3_projects/Georg_animal_feces/data/host_specific/phylosignal/host_TT/PGLS//pgls_IndD_cooccur-ntwk.RDS'"
      ],
      "text/plain": [
       "[1] \"/ebio/abt3_projects/Georg_animal_feces/data/host_specific/phylosignal/host_TT/PGLS//pgls_IndD_cooccur-ntwk.RDS\""
      ]
     },
     "metadata": {},
     "output_type": "display_data"
    }
   ],
   "source": [
    "# file name\n",
    "pgls_res_file = file.path(work_dir, 'pgls_IndD_cooccur-ntwk.RDS')\n",
    "pgls_res_file"
   ]
  },
  {
   "cell_type": "code",
   "execution_count": 136,
   "metadata": {
    "ExecuteTime": {
     "end_time": "2018-08-23T07:41:05.729410Z",
     "start_time": "2018-08-23T07:41:38.600Z"
    }
   },
   "outputs": [
    {
     "name": "stdout",
     "output_type": "stream",
     "text": [
      "File written: /ebio/abt3_projects/Georg_animal_feces/data/host_specific/phylosignal/host_TT/PGLS//pgls_IndD_cooccur-ntwk.RDS \n"
     ]
    }
   ],
   "source": [
    "# saving\n",
    "saveRDS(pgls_res, file=pgls_res_file)\n",
    "cat('File written:', pgls_res_file, '\\n')"
   ]
  },
  {
   "cell_type": "code",
   "execution_count": 137,
   "metadata": {
    "ExecuteTime": {
     "end_time": "2018-08-23T07:41:05.798150Z",
     "start_time": "2018-08-23T07:41:39.072Z"
    }
   },
   "outputs": [
    {
     "name": "stdout",
     "output_type": "stream",
     "text": [
      "[1] 400   8\n"
     ]
    },
    {
     "data": {
      "text/html": [
       "<table>\n",
       "<thead><tr><th scope=col>Estimate</th><th scope=col>std_err</th><th scope=col>t_value</th><th scope=col>p_value</th><th scope=col>R2</th><th scope=col>x</th><th scope=col>y</th><th scope=col>rep</th></tr></thead>\n",
       "<tbody>\n",
       "\t<tr><td> 0.14986460 </td><td>0.1238393   </td><td> 1.2101536  </td><td>0.22848534  </td><td> 0.003643930</td><td>diet        </td><td>SN1         </td><td>1           </td></tr>\n",
       "\t<tr><td>-0.31057823 </td><td>0.1804089   </td><td>-1.7215243  </td><td>0.08760993  </td><td> 0.015226352</td><td>diet        </td><td>SN2         </td><td>1           </td></tr>\n",
       "\t<tr><td> 0.02591436 </td><td>0.2325428   </td><td> 0.1114391  </td><td>0.91144549  </td><td>-0.007837175</td><td>diet        </td><td>SN3         </td><td>1           </td></tr>\n",
       "</tbody>\n",
       "</table>\n"
      ],
      "text/latex": [
       "\\begin{tabular}{r|llllllll}\n",
       " Estimate & std\\_err & t\\_value & p\\_value & R2 & x & y & rep\\\\\n",
       "\\hline\n",
       "\t  0.14986460  & 0.1238393    &  1.2101536   & 0.22848534   &  0.003643930 & diet         & SN1          & 1           \\\\\n",
       "\t -0.31057823  & 0.1804089    & -1.7215243   & 0.08760993   &  0.015226352 & diet         & SN2          & 1           \\\\\n",
       "\t  0.02591436  & 0.2325428    &  0.1114391   & 0.91144549   & -0.007837175 & diet         & SN3          & 1           \\\\\n",
       "\\end{tabular}\n"
      ],
      "text/markdown": [
       "\n",
       "Estimate | std_err | t_value | p_value | R2 | x | y | rep | \n",
       "|---|---|---|\n",
       "|  0.14986460  | 0.1238393    |  1.2101536   | 0.22848534   |  0.003643930 | diet         | SN1          | 1            | \n",
       "| -0.31057823  | 0.1804089    | -1.7215243   | 0.08760993   |  0.015226352 | diet         | SN2          | 1            | \n",
       "|  0.02591436  | 0.2325428    |  0.1114391   | 0.91144549   | -0.007837175 | diet         | SN3          | 1            | \n",
       "\n",
       "\n"
      ],
      "text/plain": [
       "  Estimate    std_err   t_value    p_value    R2           x    y   rep\n",
       "1  0.14986460 0.1238393  1.2101536 0.22848534  0.003643930 diet SN1 1  \n",
       "2 -0.31057823 0.1804089 -1.7215243 0.08760993  0.015226352 diet SN2 1  \n",
       "3  0.02591436 0.2325428  0.1114391 0.91144549 -0.007837175 diet SN3 1  "
      ]
     },
     "metadata": {},
     "output_type": "display_data"
    }
   ],
   "source": [
    "# re-load \n",
    "pgls_res = readRDS(pgls_res_file) \n",
    "pgls_res %>% dfhead"
   ]
  },
  {
   "cell_type": "markdown",
   "metadata": {},
   "source": [
    "### p-adjust"
   ]
  },
  {
   "cell_type": "code",
   "execution_count": 138,
   "metadata": {
    "ExecuteTime": {
     "end_time": "2018-08-23T07:41:05.916143Z",
     "start_time": "2018-08-23T07:41:39.824Z"
    }
   },
   "outputs": [
    {
     "name": "stdout",
     "output_type": "stream",
     "text": [
      "[1] 400   9\n"
     ]
    },
    {
     "data": {
      "text/html": [
       "<table>\n",
       "<thead><tr><th scope=col>Estimate</th><th scope=col>std_err</th><th scope=col>t_value</th><th scope=col>p_value</th><th scope=col>R2</th><th scope=col>x</th><th scope=col>y</th><th scope=col>rep</th><th scope=col>p_adj_value</th></tr></thead>\n",
       "<tbody>\n",
       "\t<tr><td> 0.14986460 </td><td>0.1238393   </td><td> 1.2101536  </td><td>0.22848534  </td><td> 0.003643930</td><td>diet        </td><td>SN1         </td><td>1           </td><td>0.4569707   </td></tr>\n",
       "\t<tr><td>-0.31057823 </td><td>0.1804089   </td><td>-1.7215243  </td><td>0.08760993  </td><td> 0.015226352</td><td>diet        </td><td>SN2         </td><td>1           </td><td>0.3504397   </td></tr>\n",
       "\t<tr><td> 0.02591436 </td><td>0.2325428   </td><td> 0.1114391  </td><td>0.91144549  </td><td>-0.007837175</td><td>diet        </td><td>SN3         </td><td>1           </td><td>0.9114455   </td></tr>\n",
       "</tbody>\n",
       "</table>\n"
      ],
      "text/latex": [
       "\\begin{tabular}{r|lllllllll}\n",
       " Estimate & std\\_err & t\\_value & p\\_value & R2 & x & y & rep & p\\_adj\\_value\\\\\n",
       "\\hline\n",
       "\t  0.14986460  & 0.1238393    &  1.2101536   & 0.22848534   &  0.003643930 & diet         & SN1          & 1            & 0.4569707   \\\\\n",
       "\t -0.31057823  & 0.1804089    & -1.7215243   & 0.08760993   &  0.015226352 & diet         & SN2          & 1            & 0.3504397   \\\\\n",
       "\t  0.02591436  & 0.2325428    &  0.1114391   & 0.91144549   & -0.007837175 & diet         & SN3          & 1            & 0.9114455   \\\\\n",
       "\\end{tabular}\n"
      ],
      "text/markdown": [
       "\n",
       "Estimate | std_err | t_value | p_value | R2 | x | y | rep | p_adj_value | \n",
       "|---|---|---|\n",
       "|  0.14986460  | 0.1238393    |  1.2101536   | 0.22848534   |  0.003643930 | diet         | SN1          | 1            | 0.4569707    | \n",
       "| -0.31057823  | 0.1804089    | -1.7215243   | 0.08760993   |  0.015226352 | diet         | SN2          | 1            | 0.3504397    | \n",
       "|  0.02591436  | 0.2325428    |  0.1114391   | 0.91144549   | -0.007837175 | diet         | SN3          | 1            | 0.9114455    | \n",
       "\n",
       "\n"
      ],
      "text/plain": [
       "  Estimate    std_err   t_value    p_value    R2           x    y   rep\n",
       "1  0.14986460 0.1238393  1.2101536 0.22848534  0.003643930 diet SN1 1  \n",
       "2 -0.31057823 0.1804089 -1.7215243 0.08760993  0.015226352 diet SN2 1  \n",
       "3  0.02591436 0.2325428  0.1114391 0.91144549 -0.007837175 diet SN3 1  \n",
       "  p_adj_value\n",
       "1 0.4569707  \n",
       "2 0.3504397  \n",
       "3 0.9114455  "
      ]
     },
     "metadata": {},
     "output_type": "display_data"
    }
   ],
   "source": [
    "# adjusting per subsample rep\n",
    "pgls_res = pgls_res %>%\n",
    "    group_by(rep) %>%\n",
    "    mutate(p_adj_value = p.adjust(p_value, method='BH')) %>%\n",
    "    ungroup()\n",
    "pgls_res %>% dfhead"
   ]
  },
  {
   "cell_type": "markdown",
   "metadata": {},
   "source": [
    "### Plotting"
   ]
  },
  {
   "cell_type": "code",
   "execution_count": 139,
   "metadata": {
    "ExecuteTime": {
     "end_time": "2018-08-23T07:41:05.985399Z",
     "start_time": "2018-08-23T07:41:40.543Z"
    }
   },
   "outputs": [
    {
     "data": {
      "text/plain": [
       "    Estimate           std_err          t_value           p_value       \n",
       " Min.   :-0.45364   Min.   :0.1204   Min.   :-2.3272   Min.   :0.02155  \n",
       " 1st Qu.:-0.18262   1st Qu.:0.1741   1st Qu.:-0.8916   1st Qu.:0.30528  \n",
       " Median :-0.03622   Median :0.2033   Median :-0.1780   Median :0.47234  \n",
       " Mean   :-0.05802   Mean   :0.1953   Mean   :-0.2274   Mean   :0.48778  \n",
       " 3rd Qu.: 0.10013   3rd Qu.:0.2213   3rd Qu.: 0.5719   3rd Qu.:0.64976  \n",
       " Max.   : 0.27654   Max.   :0.2624   Max.   : 1.3661   Max.   :0.99531  \n",
       "       R2                 x                  y                  rep        \n",
       " Min.   :-0.007936   Length:400         Length:400         Min.   :  1.00  \n",
       " 1st Qu.:-0.006282   Class :character   Class :character   1st Qu.: 25.75  \n",
       " Median :-0.003797   Mode  :character   Mode  :character   Median : 50.50  \n",
       " Mean   :-0.001324                                         Mean   : 50.50  \n",
       " 3rd Qu.: 0.000469                                         3rd Qu.: 75.25  \n",
       " Max.   : 0.033603                                         Max.   :100.00  \n",
       "  p_adj_value    \n",
       " Min.   :0.0862  \n",
       " 1st Qu.:0.5490  \n",
       " Median :0.6645  \n",
       " Mean   :0.6669  \n",
       " 3rd Qu.:0.8524  \n",
       " Max.   :0.9953  "
      ]
     },
     "metadata": {},
     "output_type": "display_data"
    }
   ],
   "source": [
    "pgls_res %>% summary"
   ]
  },
  {
   "cell_type": "code",
   "execution_count": 140,
   "metadata": {
    "ExecuteTime": {
     "end_time": "2018-08-23T07:41:06.557284Z",
     "start_time": "2018-08-23T07:41:41.248Z"
    }
   },
   "outputs": [
    {
     "data": {
      "image/png": "[encoded data removed]",
      "text/plain": [
       "plot without title"
      ]
     },
     "metadata": {},
     "output_type": "display_data"
    }
   ],
   "source": [
    "# p-value distribution\n",
    "p = ggplot(pgls_res, aes(R2, p_value)) +\n",
    "    geom_point(alpha=0.3) +\n",
    "    theme_bw()\n",
    "\n",
    "options(repr.plot.width=5, repr.plot.height=3.5)\n",
    "plot(p)"
   ]
  },
  {
   "cell_type": "code",
   "execution_count": 141,
   "metadata": {
    "ExecuteTime": {
     "end_time": "2018-08-23T07:41:07.146898Z",
     "start_time": "2018-08-23T07:41:41.751Z"
    }
   },
   "outputs": [
    {
     "data": {
      "image/png": "[encoded data removed]",
      "text/plain": [
       "plot without title"
      ]
     },
     "metadata": {},
     "output_type": "display_data"
    }
   ],
   "source": [
    "# p-adj-value distribution\n",
    "p = ggplot(pgls_res, aes(R2, p_adj_value)) +\n",
    "    geom_point(alpha=0.3) +\n",
    "    #scale_y_log10() +\n",
    "    theme_bw() \n",
    "\n",
    "options(repr.plot.width=5, repr.plot.height=3.5)\n",
    "plot(p)"
   ]
  },
  {
   "cell_type": "markdown",
   "metadata": {},
   "source": [
    "### Significant variables"
   ]
  },
  {
   "cell_type": "code",
   "execution_count": 142,
   "metadata": {
    "ExecuteTime": {
     "end_time": "2018-08-23T07:41:07.197307Z",
     "start_time": "2018-08-23T07:41:42.423Z"
    }
   },
   "outputs": [
    {
     "name": "stdout",
     "output_type": "stream",
     "text": [
      "[1] 0 2\n"
     ]
    },
    {
     "data": {
      "text/html": [
       "<table>\n",
       "<thead><tr><th scope=col>y</th><th scope=col>qvalue</th></tr></thead>\n",
       "<tbody>\n",
       "</tbody>\n",
       "</table>\n"
      ],
      "text/latex": [
       "\\begin{tabular}{r|ll}\n",
       " y & qvalue\\\\\n",
       "\\hline\n",
       "\\end{tabular}\n"
      ],
      "text/markdown": [
       "\n",
       "y | qvalue | \n",
       "||\n",
       "\n",
       "\n"
      ],
      "text/plain": [
       "     y qvalue"
      ]
     },
     "metadata": {},
     "output_type": "display_data"
    }
   ],
   "source": [
    "pgls_res_sig = pgls_res %>%\n",
    "    group_by(y) %>%\n",
    "    summarize(\n",
    "        qvalue = (length(p_adj_value) - sum(p_adj_value < 0.05)) / length(p_adj_value)\n",
    "        ) %>%\n",
    "    ungroup() %>%\n",
    "    filter(qvalue < 0.05)\n",
    "\n",
    "pgls_res_sig %>% dfhead"
   ]
  },
  {
   "cell_type": "markdown",
   "metadata": {},
   "source": [
    "# sessionInfo"
   ]
  },
  {
   "cell_type": "code",
   "execution_count": 143,
   "metadata": {
    "ExecuteTime": {
     "end_time": "2018-08-23T07:41:07.980472Z",
     "start_time": "2018-08-23T07:41:43.269Z"
    }
   },
   "outputs": [
    {
     "data": {
      "text/plain": [
       "R version 3.4.1 (2017-06-30)\n",
       "Platform: x86_64-pc-linux-gnu (64-bit)\n",
       "Running under: Ubuntu 18.04.1 LTS\n",
       "\n",
       "Matrix products: default\n",
       "BLAS: /ebio/abt3_projects/software/miniconda3_gt4.4/envs/py3_physeq_phylo/lib/R/lib/libRblas.so\n",
       "LAPACK: /ebio/abt3_projects/software/miniconda3_gt4.4/envs/py3_physeq_phylo/lib/R/lib/libRlapack.so\n",
       "\n",
       "locale:\n",
       "[1] en_US.UTF-8\n",
       "\n",
       "attached base packages:\n",
       "[1] stats     graphics  grDevices utils     datasets  methods   base     \n",
       "\n",
       "other attached packages:\n",
       " [1] bindrcpp_0.2.2  caper_1.0.1     mvtnorm_1.0-6   MASS_7.3-50    \n",
       " [5] ade4_1.7-11     phyloseq_1.22.3 ape_5.1         ggplot2_3.0.0  \n",
       " [9] tidyr_0.8.1     dplyr_0.7.6    \n",
       "\n",
       "loaded via a namespace (and not attached):\n",
       " [1] Rcpp_0.12.17        lattice_0.20-34     Biostrings_2.46.0  \n",
       " [4] assertthat_0.2.0    digest_0.6.15       foreach_1.4.4      \n",
       " [7] IRdisplay_0.4.4     R6_2.2.2            plyr_1.8.4         \n",
       "[10] repr_0.15.0         stats4_3.4.1        evaluate_0.10.1    \n",
       "[13] pillar_1.2.2        zlibbioc_1.24.0     rlang_0.2.1        \n",
       "[16] lazyeval_0.2.1      uuid_0.1-2          data.table_1.11.4  \n",
       "[19] vegan_2.4-3         S4Vectors_0.16.0    Matrix_1.2-14      \n",
       "[22] labeling_0.3        splines_3.4.1       stringr_1.3.1      \n",
       "[25] igraph_1.2.1        munsell_0.5.0       compiler_3.4.1     \n",
       "[28] pkgconfig_2.0.1     BiocGenerics_0.24.0 base64enc_0.1-3    \n",
       "[31] multtest_2.34.0     mgcv_1.8-24         htmltools_0.3.6    \n",
       "[34] biomformat_1.6.0    tidyselect_0.2.4    tibble_1.4.2       \n",
       "[37] IRanges_2.12.0      codetools_0.2-15    permute_0.9-4      \n",
       "[40] crayon_1.3.4        withr_2.1.1         grid_3.4.1         \n",
       "[43] nlme_3.1-131        jsonlite_1.5        gtable_0.2.0       \n",
       "[46] magrittr_1.5        scales_0.5.0        stringi_1.2.3      \n",
       "[49] XVector_0.18.0      reshape2_1.4.3      doParallel_1.0.11  \n",
       "[52] IRkernel_0.8.12     iterators_1.0.10    tools_3.4.1        \n",
       "[55] Biobase_2.38.0      glue_1.3.0          purrr_0.2.4        \n",
       "[58] parallel_3.4.1      survival_2.42-6     colorspace_1.3-2   \n",
       "[61] rhdf5_2.22.0        cluster_2.0.6       pbdZMQ_0.3-2       \n",
       "[64] bindr_0.1.1        "
      ]
     },
     "metadata": {},
     "output_type": "display_data"
    }
   ],
   "source": [
    "sessionInfo()"
   ]
  },
  {
   "cell_type": "code",
   "execution_count": null,
   "metadata": {},
   "outputs": [],
   "source": []
  }
 ],
 "metadata": {
  "kernelspec": {
   "display_name": "R [conda env:py3_physeq_phylo]",
   "language": "R",
   "name": "conda-env-py3_physeq_phylo-r"
  },
  "language_info": {
   "codemirror_mode": "r",
   "file_extension": ".r",
   "mimetype": "text/x-r-source",
   "name": "R",
   "pygments_lexer": "r",
   "version": "3.4.1"
  },
  "notify_time": "30",
  "toc": {
   "base_numbering": 1,
   "nav_menu": {},
   "number_sections": true,
   "sideBar": true,
   "skip_h1_title": false,
   "title_cell": "Table of Contents",
   "title_sidebar": "Contents",
   "toc_cell": true,
   "toc_position": {},
   "toc_section_display": true,
   "toc_window_display": true
  }
 },
 "nbformat": 4,
 "nbformat_minor": 2
}
