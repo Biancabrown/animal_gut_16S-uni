{
 "cells": [
  {
   "cell_type": "markdown",
   "metadata": {
    "toc": true
   },
   "source": [
    "<h1>Table of Contents<span class=\"tocSkip\"></span></h1>\n",
    "<div class=\"toc\"><ul class=\"toc-item\"><li><span><a href=\"#Goal\" data-toc-modified-id=\"Goal-1\"><span class=\"toc-item-num\">1&nbsp;&nbsp;</span>Goal</a></span></li><li><span><a href=\"#Var\" data-toc-modified-id=\"Var-2\"><span class=\"toc-item-num\">2&nbsp;&nbsp;</span>Var</a></span></li><li><span><a href=\"#Init\" data-toc-modified-id=\"Init-3\"><span class=\"toc-item-num\">3&nbsp;&nbsp;</span>Init</a></span></li><li><span><a href=\"#Load\" data-toc-modified-id=\"Load-4\"><span class=\"toc-item-num\">4&nbsp;&nbsp;</span>Load</a></span></li><li><span><a href=\"#Format-data\" data-toc-modified-id=\"Format-data-5\"><span class=\"toc-item-num\">5&nbsp;&nbsp;</span>Format data</a></span></li><li><span><a href=\"#Host-tree-subsample\" data-toc-modified-id=\"Host-tree-subsample-6\"><span class=\"toc-item-num\">6&nbsp;&nbsp;</span>Host tree subsample</a></span></li><li><span><a href=\"#PGLS\" data-toc-modified-id=\"PGLS-7\"><span class=\"toc-item-num\">7&nbsp;&nbsp;</span>PGLS</a></span><ul class=\"toc-item\"><li><span><a href=\"#Diet\" data-toc-modified-id=\"Diet-7.1\"><span class=\"toc-item-num\">7.1&nbsp;&nbsp;</span>Diet</a></span><ul class=\"toc-item\"><li><span><a href=\"#Saving-output\" data-toc-modified-id=\"Saving-output-7.1.1\"><span class=\"toc-item-num\">7.1.1&nbsp;&nbsp;</span>Saving output</a></span></li><li><span><a href=\"#p-adjust\" data-toc-modified-id=\"p-adjust-7.1.2\"><span class=\"toc-item-num\">7.1.2&nbsp;&nbsp;</span>p-adjust</a></span></li><li><span><a href=\"#Plotting\" data-toc-modified-id=\"Plotting-7.1.3\"><span class=\"toc-item-num\">7.1.3&nbsp;&nbsp;</span>Plotting</a></span></li><li><span><a href=\"#Significant-taxa\" data-toc-modified-id=\"Significant-taxa-7.1.4\"><span class=\"toc-item-num\">7.1.4&nbsp;&nbsp;</span>Significant taxa</a></span><ul class=\"toc-item\"><li><span><a href=\"#Adding-taxonomy\" data-toc-modified-id=\"Adding-taxonomy-7.1.4.1\"><span class=\"toc-item-num\">7.1.4.1&nbsp;&nbsp;</span>Adding taxonomy</a></span></li><li><span><a href=\"#Plotting\" data-toc-modified-id=\"Plotting-7.1.4.2\"><span class=\"toc-item-num\">7.1.4.2&nbsp;&nbsp;</span>Plotting</a></span></li></ul></li><li><span><a href=\"#Diet-distribution-of-sig-OTUs\" data-toc-modified-id=\"Diet-distribution-of-sig-OTUs-7.1.5\"><span class=\"toc-item-num\">7.1.5&nbsp;&nbsp;</span>Diet distribution of sig OTUs</a></span></li><li><span><a href=\"#Host-distribution-of-sig.-OTUs\" data-toc-modified-id=\"Host-distribution-of-sig.-OTUs-7.1.6\"><span class=\"toc-item-num\">7.1.6&nbsp;&nbsp;</span>Host distribution of sig. OTUs</a></span></li></ul></li></ul></li><li><span><a href=\"#sessionInfo\" data-toc-modified-id=\"sessionInfo-8\"><span class=\"toc-item-num\">8&nbsp;&nbsp;</span>sessionInfo</a></span></li></ul></div>"
   ]
  },
  {
   "cell_type": "markdown",
   "metadata": {},
   "source": [
    "# Goal\n",
    "\n",
    "* PGLS on OTU pres/abs to determine correlations with diet when accounting for phylogeny"
   ]
  },
  {
   "cell_type": "markdown",
   "metadata": {},
   "source": [
    "# Var"
   ]
  },
  {
   "cell_type": "code",
   "execution_count": 1,
   "metadata": {
    "ExecuteTime": {
     "end_time": "2018-11-26T18:47:17.121996Z",
     "start_time": "2018-11-26T18:47:12.742Z"
    }
   },
   "outputs": [],
   "source": [
    "work_dir = '/ebio/abt3_projects/Georg_animal_feces/data/host_specific/phylosignal/host_TT/PGLS/'\n",
    "\n",
    "# phyloseq\n",
    "physeq_file = '/ebio/abt3_projects/Georg_animal_feces/data/16S/LLA/phyloseq/physeq_r5k.RDS'\n",
    "\n",
    "# host phylogeny\n",
    "host_tree_file = '/ebio/abt3_projects/Georg_animal_feces/data/animal/phylogeny/TT/unified_metadata_complete_20180625_rn_16S-r5k_IndD.nwk'\n",
    "\n",
    "# params\n",
    "threads = 12\n",
    "sparsity_cutoff = 0.05"
   ]
  },
  {
   "cell_type": "markdown",
   "metadata": {},
   "source": [
    "# Init"
   ]
  },
  {
   "cell_type": "code",
   "execution_count": 2,
   "metadata": {
    "ExecuteTime": {
     "end_time": "2018-11-26T18:47:27.840885Z",
     "start_time": "2018-11-26T18:47:13.964Z"
    }
   },
   "outputs": [
    {
     "name": "stderr",
     "output_type": "stream",
     "text": [
      "\n",
      "Attaching package: ‘dplyr’\n",
      "\n",
      "The following objects are masked from ‘package:stats’:\n",
      "\n",
      "    filter, lag\n",
      "\n",
      "The following objects are masked from ‘package:base’:\n",
      "\n",
      "    intersect, setdiff, setequal, union\n",
      "\n",
      "Loading required package: MASS\n",
      "\n",
      "Attaching package: ‘MASS’\n",
      "\n",
      "The following object is masked from ‘package:dplyr’:\n",
      "\n",
      "    select\n",
      "\n",
      "Loading required package: mvtnorm\n"
     ]
    }
   ],
   "source": [
    "library(dplyr)\n",
    "library(tidyr)\n",
    "library(ggplot2)\n",
    "library(ape)\n",
    "library(phyloseq)\n",
    "library(ade4)\n",
    "library(ape)\n",
    "library(caper)\n",
    "\n",
    "source('/ebio/abt3_projects/Georg_animal_feces/code/init.R') \n",
    "source('/ebio/abt3_projects/Georg_animal_feces/code/itol.R') "
   ]
  },
  {
   "cell_type": "code",
   "execution_count": 3,
   "metadata": {
    "ExecuteTime": {
     "end_time": "2018-11-26T18:47:28.181076Z",
     "start_time": "2018-11-26T18:47:15.149Z"
    }
   },
   "outputs": [],
   "source": [
    "set.seed(7342)"
   ]
  },
  {
   "cell_type": "code",
   "execution_count": 4,
   "metadata": {
    "ExecuteTime": {
     "end_time": "2018-11-26T18:47:28.214863Z",
     "start_time": "2018-11-26T18:47:15.964Z"
    }
   },
   "outputs": [
    {
     "name": "stdout",
     "output_type": "stream",
     "text": [
      "Directory already exists: /ebio/abt3_projects/Georg_animal_feces/data/host_specific/phylosignal/host_TT/PGLS/ \n"
     ]
    }
   ],
   "source": [
    "make_dir(work_dir)\n",
    "setwd(work_dir)"
   ]
  },
  {
   "cell_type": "markdown",
   "metadata": {},
   "source": [
    " # Load"
   ]
  },
  {
   "cell_type": "code",
   "execution_count": 5,
   "metadata": {
    "ExecuteTime": {
     "end_time": "2018-11-26T18:47:29.783762Z",
     "start_time": "2018-11-26T18:47:18.003Z"
    }
   },
   "outputs": [
    {
     "data": {
      "text/plain": [
       "phyloseq-class experiment-level object\n",
       "otu_table()   OTU Table:         [ 30290 taxa and 213 samples ]\n",
       "sample_data() Sample Data:       [ 213 samples by 171 sample variables ]\n",
       "tax_table()   Taxonomy Table:    [ 30290 taxa by 7 taxonomic ranks ]\n",
       "phy_tree()    Phylogenetic Tree: [ 30290 tips and 29752 internal nodes ]"
      ]
     },
     "metadata": {},
     "output_type": "display_data"
    }
   ],
   "source": [
    "# phyloseq\n",
    "physeq = readRDS(physeq_file)\n",
    "physeq"
   ]
  },
  {
   "cell_type": "code",
   "execution_count": 6,
   "metadata": {
    "ExecuteTime": {
     "end_time": "2018-11-26T18:47:33.769676Z",
     "start_time": "2018-11-26T18:47:18.133Z"
    }
   },
   "outputs": [
    {
     "data": {
      "text/plain": [
       "phyloseq-class experiment-level object\n",
       "otu_table()   OTU Table:         [ 408 taxa and 213 samples ]\n",
       "sample_data() Sample Data:       [ 213 samples by 171 sample variables ]\n",
       "tax_table()   Taxonomy Table:    [ 408 taxa by 7 taxonomic ranks ]\n",
       "phy_tree()    Phylogenetic Tree: [ 408 tips and 406 internal nodes ]"
      ]
     },
     "metadata": {},
     "output_type": "display_data"
    }
   ],
   "source": [
    "# sparsity cutoff\n",
    "physeq = physeq %>%\n",
    "    filter_taxa(function(x) sum(x > 0) / length(x) > sparsity_cutoff, TRUE) \n",
    "physeq"
   ]
  },
  {
   "cell_type": "code",
   "execution_count": 7,
   "metadata": {
    "ExecuteTime": {
     "end_time": "2018-11-26T18:47:34.002754Z",
     "start_time": "2018-11-26T18:47:20.357Z"
    }
   },
   "outputs": [
    {
     "data": {
      "text/plain": [
       "phyloseq-class experiment-level object\n",
       "otu_table()   OTU Table:         [ 408 taxa and 213 samples ]\n",
       "sample_data() Sample Data:       [ 213 samples by 171 sample variables ]\n",
       "tax_table()   Taxonomy Table:    [ 408 taxa by 7 taxonomic ranks ]\n",
       "phy_tree()    Phylogenetic Tree: [ 408 tips and 406 internal nodes ]"
      ]
     },
     "metadata": {},
     "output_type": "display_data"
    }
   ],
   "source": [
    "# transform to binomial\n",
    "physeq = physeq %>%\n",
    "    transform_sample_counts(function(x) ifelse(x > 0, 1, 0))\n",
    "physeq"
   ]
  },
  {
   "cell_type": "code",
   "execution_count": 8,
   "metadata": {
    "ExecuteTime": {
     "end_time": "2018-11-26T18:47:34.412687Z",
     "start_time": "2018-11-26T18:47:21.902Z"
    }
   },
   "outputs": [
    {
     "name": "stderr",
     "output_type": "stream",
     "text": [
      "Warning message in class(X) <- NULL:\n",
      "“Setting class(x) to NULL;   result will no longer be an S4 object”"
     ]
    },
    {
     "name": "stdout",
     "output_type": "stream",
     "text": [
      "[1] 213  11\n"
     ]
    },
    {
     "data": {
      "text/html": [
       "<table>\n",
       "<thead><tr><th scope=col>X.SampleID</th><th scope=col>scientific_name</th><th scope=col>diet</th><th scope=col>diet_vertebrate</th><th scope=col>diet_invertebrate</th><th scope=col>diet_fruit</th><th scope=col>diet_flowers_nectar_pollen</th><th scope=col>diet_leaves_branches_bark_buds</th><th scope=col>diet_seeds</th><th scope=col>diet_grass_waterplants</th><th scope=col>diet_roots_tubers</th></tr></thead>\n",
       "<tbody>\n",
       "\t<tr><td>X1.Eurasian.Beaver</td><td>Castor_fiber      </td><td>herbivore         </td><td>no                </td><td>no                </td><td>no                </td><td>no                </td><td>yes               </td><td>no                </td><td>yes               </td><td>yes               </td></tr>\n",
       "\t<tr><td>X101.Horse        </td><td>Equus_caballus    </td><td>herbivore         </td><td>no                </td><td>no                </td><td>no                </td><td>no                </td><td>no                </td><td>yes               </td><td>yes               </td><td>no                </td></tr>\n",
       "\t<tr><td>X102.Kulan        </td><td>Equus_hemionus    </td><td>herbivore         </td><td>no                </td><td>no                </td><td>no                </td><td>no                </td><td>yes               </td><td>no                </td><td>yes               </td><td>no                </td></tr>\n",
       "</tbody>\n",
       "</table>\n"
      ],
      "text/latex": [
       "\\begin{tabular}{r|lllllllllll}\n",
       " X.SampleID & scientific\\_name & diet & diet\\_vertebrate & diet\\_invertebrate & diet\\_fruit & diet\\_flowers\\_nectar\\_pollen & diet\\_leaves\\_branches\\_bark\\_buds & diet\\_seeds & diet\\_grass\\_waterplants & diet\\_roots\\_tubers\\\\\n",
       "\\hline\n",
       "\t X1.Eurasian.Beaver & Castor\\_fiber     & herbivore          & no                 & no                 & no                 & no                 & yes                & no                 & yes                & yes               \\\\\n",
       "\t X101.Horse         & Equus\\_caballus   & herbivore          & no                 & no                 & no                 & no                 & no                 & yes                & yes                & no                \\\\\n",
       "\t X102.Kulan         & Equus\\_hemionus   & herbivore          & no                 & no                 & no                 & no                 & yes                & no                 & yes                & no                \\\\\n",
       "\\end{tabular}\n"
      ],
      "text/markdown": [
       "\n",
       "X.SampleID | scientific_name | diet | diet_vertebrate | diet_invertebrate | diet_fruit | diet_flowers_nectar_pollen | diet_leaves_branches_bark_buds | diet_seeds | diet_grass_waterplants | diet_roots_tubers | \n",
       "|---|---|---|\n",
       "| X1.Eurasian.Beaver | Castor_fiber       | herbivore          | no                 | no                 | no                 | no                 | yes                | no                 | yes                | yes                | \n",
       "| X101.Horse         | Equus_caballus     | herbivore          | no                 | no                 | no                 | no                 | no                 | yes                | yes                | no                 | \n",
       "| X102.Kulan         | Equus_hemionus     | herbivore          | no                 | no                 | no                 | no                 | yes                | no                 | yes                | no                 | \n",
       "\n",
       "\n"
      ],
      "text/plain": [
       "  X.SampleID         scientific_name diet      diet_vertebrate\n",
       "1 X1.Eurasian.Beaver Castor_fiber    herbivore no             \n",
       "2 X101.Horse         Equus_caballus  herbivore no             \n",
       "3 X102.Kulan         Equus_hemionus  herbivore no             \n",
       "  diet_invertebrate diet_fruit diet_flowers_nectar_pollen\n",
       "1 no                no         no                        \n",
       "2 no                no         no                        \n",
       "3 no                no         no                        \n",
       "  diet_leaves_branches_bark_buds diet_seeds diet_grass_waterplants\n",
       "1 yes                            no         yes                   \n",
       "2 no                             yes        yes                   \n",
       "3 yes                            no         yes                   \n",
       "  diet_roots_tubers\n",
       "1 yes              \n",
       "2 no               \n",
       "3 no               "
      ]
     },
     "metadata": {},
     "output_type": "display_data"
    }
   ],
   "source": [
    "# metadata table\n",
    "metadata = physeq %>%\n",
    "    sample_data %>%\n",
    "    as.matrix %>%\n",
    "    as.data.frame %>%\n",
    "    mutate(X.SampleID = rownames(.)) %>%\n",
    "    dplyr::select(X.SampleID, scientific_name, diet, \n",
    "                  diet_vertebrate,diet_invertebrate,diet_fruit,\n",
    "                  diet_flowers_nectar_pollen,diet_leaves_branches_bark_buds,\n",
    "                  diet_seeds,diet_grass_waterplants,diet_roots_tubers) %>%\n",
    "    mutate(scientific_name = gsub(' ', '_', scientific_name)) %>%\n",
    "    as.data.frame\n",
    "\n",
    "rownames(metadata) = metadata$SampleID\n",
    "metadata %>% dfhead"
   ]
  },
  {
   "cell_type": "code",
   "execution_count": 9,
   "metadata": {
    "ExecuteTime": {
     "end_time": "2018-11-26T18:47:34.454587Z",
     "start_time": "2018-11-26T18:47:22.900Z"
    }
   },
   "outputs": [
    {
     "data": {
      "text/plain": [
       "\n",
       "Phylogenetic tree with 213 tips and 177 internal nodes.\n",
       "\n",
       "Tip labels:\n",
       "\tX256.Zander, F302.Northern.Pike, X188.Brook.Trout, F300.Asp, X330.Ide, X327.Silver.Bream, ...\n",
       "Node labels:\n",
       "\tNode1, Node2, Node3, Node4, Node5, Node6, ...\n",
       "\n",
       "Rooted; includes branch lengths."
      ]
     },
     "metadata": {},
     "output_type": "display_data"
    }
   ],
   "source": [
    "# host tree file \n",
    "host_tree = read.tree(host_tree_file)\n",
    "host_tree"
   ]
  },
  {
   "cell_type": "markdown",
   "metadata": {},
   "source": [
    "# Format data"
   ]
  },
  {
   "cell_type": "code",
   "execution_count": 10,
   "metadata": {
    "ExecuteTime": {
     "end_time": "2018-11-26T18:47:36.217946Z",
     "start_time": "2018-11-26T18:47:24.791Z"
    }
   },
   "outputs": [
    {
     "name": "stdout",
     "output_type": "stream",
     "text": [
      "[1] 213 408\n"
     ]
    },
    {
     "data": {
      "text/html": [
       "<table>\n",
       "<thead><tr><th></th><th scope=col>X368bd5c2255f3a5ce0fef06ca6de1d04</th><th scope=col>X779324e5648460c5a67e577c45131b42</th><th scope=col>b918d185ee89a0b33d821ee766d76eb3</th><th scope=col>d3d51a026150fca2a3400c59a6b311cb</th><th scope=col>X160c9184bbfc1e5766c508c7bdafa19f</th><th scope=col>f0f035365a85490145f397bf218afbab</th><th scope=col>X7282e9b6f799208576024a35f02caa47</th><th scope=col>X0e1de44ae4fcc0968e549457277b4fb1</th><th scope=col>ba6caaf355af10bdcdcc625e4f99073e</th><th scope=col>X13fabb2c42c260bd77b4358f429eba6c</th><th scope=col>⋯</th><th scope=col>X1b4755614ecbdd82a79e77eae5143239</th><th scope=col>d855008e1da5c9a5c3ba81d21b6ea272</th><th scope=col>X9dfddc1c446e84f8ff7f5a7332e70e3a</th><th scope=col>X6f8aa3da4c4fa50cd74ad28f489adefc</th><th scope=col>X22930923dace53039f5eb90d94ceca1e</th><th scope=col>X88f04219eab15eae30870064288e9a5f</th><th scope=col>X17dac3c523ec0b232c6a9c711d69968f</th><th scope=col>X98300b47154d82766e5d100558d1ba09</th><th scope=col>X958c1eeaa690e27ee970154111e25192</th><th scope=col>d78e13cf379c4409b2bc382ffb62f962</th></tr></thead>\n",
       "<tbody>\n",
       "\t<tr><th scope=row>X1.Eurasian.Beaver</th><td>0</td><td>0</td><td>0</td><td>0</td><td>0</td><td>0</td><td>0</td><td>0</td><td>0</td><td>0</td><td>⋯</td><td>0</td><td>0</td><td>0</td><td>0</td><td>0</td><td>0</td><td>0</td><td>0</td><td>0</td><td>0</td></tr>\n",
       "\t<tr><th scope=row>X101.Horse</th><td>0</td><td>0</td><td>0</td><td>0</td><td>0</td><td>1</td><td>0</td><td>0</td><td>0</td><td>0</td><td>⋯</td><td>0</td><td>0</td><td>0</td><td>0</td><td>0</td><td>0</td><td>0</td><td>0</td><td>0</td><td>0</td></tr>\n",
       "\t<tr><th scope=row>X102.Kulan</th><td>0</td><td>0</td><td>0</td><td>1</td><td>0</td><td>0</td><td>0</td><td>0</td><td>0</td><td>0</td><td>⋯</td><td>0</td><td>0</td><td>0</td><td>0</td><td>0</td><td>0</td><td>0</td><td>0</td><td>0</td><td>0</td></tr>\n",
       "</tbody>\n",
       "</table>\n"
      ],
      "text/latex": [
       "\\begin{tabular}{r|llllllllllllllllllllllllllllllllllllllllllllllllllllllllllllllllllllllllllllllllllllllllllllllllllllllllllllllllllllllllllllllllllllllllllllllllllllllllllllllllllllllllllllllllllllllllllllllllllllllllllllllllllllllllllllllllllllllllllllllllllllllllllllllllllllllllllllllllllllllllllllllllllllllllllllllllllllllllllllllllllllllllllllllllllllllllllllllllllllllllllllllllllllllllllllllllllllllllllllllllllllllll}\n",
       "  & X368bd5c2255f3a5ce0fef06ca6de1d04 & X779324e5648460c5a67e577c45131b42 & b918d185ee89a0b33d821ee766d76eb3 & d3d51a026150fca2a3400c59a6b311cb & X160c9184bbfc1e5766c508c7bdafa19f & f0f035365a85490145f397bf218afbab & X7282e9b6f799208576024a35f02caa47 & X0e1de44ae4fcc0968e549457277b4fb1 & ba6caaf355af10bdcdcc625e4f99073e & X13fabb2c42c260bd77b4358f429eba6c & ⋯ & X1b4755614ecbdd82a79e77eae5143239 & d855008e1da5c9a5c3ba81d21b6ea272 & X9dfddc1c446e84f8ff7f5a7332e70e3a & X6f8aa3da4c4fa50cd74ad28f489adefc & X22930923dace53039f5eb90d94ceca1e & X88f04219eab15eae30870064288e9a5f & X17dac3c523ec0b232c6a9c711d69968f & X98300b47154d82766e5d100558d1ba09 & X958c1eeaa690e27ee970154111e25192 & d78e13cf379c4409b2bc382ffb62f962\\\\\n",
       "\\hline\n",
       "\tX1.Eurasian.Beaver & 0 & 0 & 0 & 0 & 0 & 0 & 0 & 0 & 0 & 0 & ⋯ & 0 & 0 & 0 & 0 & 0 & 0 & 0 & 0 & 0 & 0\\\\\n",
       "\tX101.Horse & 0 & 0 & 0 & 0 & 0 & 1 & 0 & 0 & 0 & 0 & ⋯ & 0 & 0 & 0 & 0 & 0 & 0 & 0 & 0 & 0 & 0\\\\\n",
       "\tX102.Kulan & 0 & 0 & 0 & 1 & 0 & 0 & 0 & 0 & 0 & 0 & ⋯ & 0 & 0 & 0 & 0 & 0 & 0 & 0 & 0 & 0 & 0\\\\\n",
       "\\end{tabular}\n"
      ],
      "text/markdown": [
       "\n",
       "| <!--/--> | X368bd5c2255f3a5ce0fef06ca6de1d04 | X779324e5648460c5a67e577c45131b42 | b918d185ee89a0b33d821ee766d76eb3 | d3d51a026150fca2a3400c59a6b311cb | X160c9184bbfc1e5766c508c7bdafa19f | f0f035365a85490145f397bf218afbab | X7282e9b6f799208576024a35f02caa47 | X0e1de44ae4fcc0968e549457277b4fb1 | ba6caaf355af10bdcdcc625e4f99073e | X13fabb2c42c260bd77b4358f429eba6c | ⋯ | X1b4755614ecbdd82a79e77eae5143239 | d855008e1da5c9a5c3ba81d21b6ea272 | X9dfddc1c446e84f8ff7f5a7332e70e3a | X6f8aa3da4c4fa50cd74ad28f489adefc | X22930923dace53039f5eb90d94ceca1e | X88f04219eab15eae30870064288e9a5f | X17dac3c523ec0b232c6a9c711d69968f | X98300b47154d82766e5d100558d1ba09 | X958c1eeaa690e27ee970154111e25192 | d78e13cf379c4409b2bc382ffb62f962 | \n",
       "|---|---|---|\n",
       "| X1.Eurasian.Beaver | 0 | 0 | 0 | 0 | 0 | 0 | 0 | 0 | 0 | 0 | ⋯ | 0 | 0 | 0 | 0 | 0 | 0 | 0 | 0 | 0 | 0 | \n",
       "| X101.Horse | 0 | 0 | 0 | 0 | 0 | 1 | 0 | 0 | 0 | 0 | ⋯ | 0 | 0 | 0 | 0 | 0 | 0 | 0 | 0 | 0 | 0 | \n",
       "| X102.Kulan | 0 | 0 | 0 | 1 | 0 | 0 | 0 | 0 | 0 | 0 | ⋯ | 0 | 0 | 0 | 0 | 0 | 0 | 0 | 0 | 0 | 0 | \n",
       "\n",
       "\n"
      ],
      "text/plain": [
       "                   X368bd5c2255f3a5ce0fef06ca6de1d04\n",
       "X1.Eurasian.Beaver 0                                \n",
       "X101.Horse         0                                \n",
       "X102.Kulan         0                                \n",
       "                   X779324e5648460c5a67e577c45131b42\n",
       "X1.Eurasian.Beaver 0                                \n",
       "X101.Horse         0                                \n",
       "X102.Kulan         0                                \n",
       "                   b918d185ee89a0b33d821ee766d76eb3\n",
       "X1.Eurasian.Beaver 0                               \n",
       "X101.Horse         0                               \n",
       "X102.Kulan         0                               \n",
       "                   d3d51a026150fca2a3400c59a6b311cb\n",
       "X1.Eurasian.Beaver 0                               \n",
       "X101.Horse         0                               \n",
       "X102.Kulan         1                               \n",
       "                   X160c9184bbfc1e5766c508c7bdafa19f\n",
       "X1.Eurasian.Beaver 0                                \n",
       "X101.Horse         0                                \n",
       "X102.Kulan         0                                \n",
       "                   f0f035365a85490145f397bf218afbab\n",
       "X1.Eurasian.Beaver 0                               \n",
       "X101.Horse         1                               \n",
       "X102.Kulan         0                               \n",
       "                   X7282e9b6f799208576024a35f02caa47\n",
       "X1.Eurasian.Beaver 0                                \n",
       "X101.Horse         0                                \n",
       "X102.Kulan         0                                \n",
       "                   X0e1de44ae4fcc0968e549457277b4fb1\n",
       "X1.Eurasian.Beaver 0                                \n",
       "X101.Horse         0                                \n",
       "X102.Kulan         0                                \n",
       "                   ba6caaf355af10bdcdcc625e4f99073e\n",
       "X1.Eurasian.Beaver 0                               \n",
       "X101.Horse         0                               \n",
       "X102.Kulan         0                               \n",
       "                   X13fabb2c42c260bd77b4358f429eba6c ⋯\n",
       "X1.Eurasian.Beaver 0                                 ⋯\n",
       "X101.Horse         0                                 ⋯\n",
       "X102.Kulan         0                                 ⋯\n",
       "                   X1b4755614ecbdd82a79e77eae5143239\n",
       "X1.Eurasian.Beaver 0                                \n",
       "X101.Horse         0                                \n",
       "X102.Kulan         0                                \n",
       "                   d855008e1da5c9a5c3ba81d21b6ea272\n",
       "X1.Eurasian.Beaver 0                               \n",
       "X101.Horse         0                               \n",
       "X102.Kulan         0                               \n",
       "                   X9dfddc1c446e84f8ff7f5a7332e70e3a\n",
       "X1.Eurasian.Beaver 0                                \n",
       "X101.Horse         0                                \n",
       "X102.Kulan         0                                \n",
       "                   X6f8aa3da4c4fa50cd74ad28f489adefc\n",
       "X1.Eurasian.Beaver 0                                \n",
       "X101.Horse         0                                \n",
       "X102.Kulan         0                                \n",
       "                   X22930923dace53039f5eb90d94ceca1e\n",
       "X1.Eurasian.Beaver 0                                \n",
       "X101.Horse         0                                \n",
       "X102.Kulan         0                                \n",
       "                   X88f04219eab15eae30870064288e9a5f\n",
       "X1.Eurasian.Beaver 0                                \n",
       "X101.Horse         0                                \n",
       "X102.Kulan         0                                \n",
       "                   X17dac3c523ec0b232c6a9c711d69968f\n",
       "X1.Eurasian.Beaver 0                                \n",
       "X101.Horse         0                                \n",
       "X102.Kulan         0                                \n",
       "                   X98300b47154d82766e5d100558d1ba09\n",
       "X1.Eurasian.Beaver 0                                \n",
       "X101.Horse         0                                \n",
       "X102.Kulan         0                                \n",
       "                   X958c1eeaa690e27ee970154111e25192\n",
       "X1.Eurasian.Beaver 0                                \n",
       "X101.Horse         0                                \n",
       "X102.Kulan         0                                \n",
       "                   d78e13cf379c4409b2bc382ffb62f962\n",
       "X1.Eurasian.Beaver 0                               \n",
       "X101.Horse         0                               \n",
       "X102.Kulan         0                               "
      ]
     },
     "metadata": {},
     "output_type": "display_data"
    }
   ],
   "source": [
    "otu = physeq %>%\n",
    "    otu_table %>%\n",
    "    as.matrix %>% \n",
    "    t %>% \n",
    "    as.data.frame\n",
    "\n",
    "colnames(otu) = gsub('^([0-9])', 'X\\\\1', colnames(otu))\n",
    "otu %>% dfhead"
   ]
  },
  {
   "cell_type": "code",
   "execution_count": 11,
   "metadata": {
    "ExecuteTime": {
     "end_time": "2018-11-26T18:47:36.279324Z",
     "start_time": "2018-11-26T18:47:26.323Z"
    }
   },
   "outputs": [
    {
     "name": "stdout",
     "output_type": "stream",
     "text": [
      "[1] 213 417\n"
     ]
    },
    {
     "data": {
      "text/html": [
       "<table>\n",
       "<thead><tr><th></th><th scope=col>diet</th><th scope=col>diet_vertebrate</th><th scope=col>diet_invertebrate</th><th scope=col>diet_fruit</th><th scope=col>diet_flowers_nectar_pollen</th><th scope=col>diet_leaves_branches_bark_buds</th><th scope=col>diet_seeds</th><th scope=col>diet_grass_waterplants</th><th scope=col>diet_roots_tubers</th><th scope=col>X368bd5c2255f3a5ce0fef06ca6de1d04</th><th scope=col>⋯</th><th scope=col>X1b4755614ecbdd82a79e77eae5143239</th><th scope=col>d855008e1da5c9a5c3ba81d21b6ea272</th><th scope=col>X9dfddc1c446e84f8ff7f5a7332e70e3a</th><th scope=col>X6f8aa3da4c4fa50cd74ad28f489adefc</th><th scope=col>X22930923dace53039f5eb90d94ceca1e</th><th scope=col>X88f04219eab15eae30870064288e9a5f</th><th scope=col>X17dac3c523ec0b232c6a9c711d69968f</th><th scope=col>X98300b47154d82766e5d100558d1ba09</th><th scope=col>X958c1eeaa690e27ee970154111e25192</th><th scope=col>d78e13cf379c4409b2bc382ffb62f962</th></tr></thead>\n",
       "<tbody>\n",
       "\t<tr><th scope=row>X1.Eurasian.Beaver</th><td>herbivore</td><td>no       </td><td>no       </td><td>no       </td><td>no       </td><td>yes      </td><td>no       </td><td>yes      </td><td>yes      </td><td>0        </td><td>⋯        </td><td>0        </td><td>0        </td><td>0        </td><td>0        </td><td>0        </td><td>0        </td><td>0        </td><td>0        </td><td>0        </td><td>0        </td></tr>\n",
       "\t<tr><th scope=row>X101.Horse</th><td>herbivore</td><td>no       </td><td>no       </td><td>no       </td><td>no       </td><td>no       </td><td>yes      </td><td>yes      </td><td>no       </td><td>0        </td><td>⋯        </td><td>0        </td><td>0        </td><td>0        </td><td>0        </td><td>0        </td><td>0        </td><td>0        </td><td>0        </td><td>0        </td><td>0        </td></tr>\n",
       "\t<tr><th scope=row>X102.Kulan</th><td>herbivore</td><td>no       </td><td>no       </td><td>no       </td><td>no       </td><td>yes      </td><td>no       </td><td>yes      </td><td>no       </td><td>0        </td><td>⋯        </td><td>0        </td><td>0        </td><td>0        </td><td>0        </td><td>0        </td><td>0        </td><td>0        </td><td>0        </td><td>0        </td><td>0        </td></tr>\n",
       "</tbody>\n",
       "</table>\n"
      ],
      "text/latex": [
       "\\begin{tabular}{r|lllllllllllllllllllllllllllllllllllllllllllllllllllllllllllllllllllllllllllllllllllllllllllllllllllllllllllllllllllllllllllllllllllllllllllllllllllllllllllllllllllllllllllllllllllllllllllllllllllllllllllllllllllllllllllllllllllllllllllllllllllllllllllllllllllllllllllllllllllllllllllllllllllllllllllllllllllllllllllllllllllllllllllllllllllllllllllllllllllllllllllllllllllllllllllllllllllllllllllllllllllllllllllllllll}\n",
       "  & diet & diet\\_vertebrate & diet\\_invertebrate & diet\\_fruit & diet\\_flowers\\_nectar\\_pollen & diet\\_leaves\\_branches\\_bark\\_buds & diet\\_seeds & diet\\_grass\\_waterplants & diet\\_roots\\_tubers & X368bd5c2255f3a5ce0fef06ca6de1d04 & ⋯ & X1b4755614ecbdd82a79e77eae5143239 & d855008e1da5c9a5c3ba81d21b6ea272 & X9dfddc1c446e84f8ff7f5a7332e70e3a & X6f8aa3da4c4fa50cd74ad28f489adefc & X22930923dace53039f5eb90d94ceca1e & X88f04219eab15eae30870064288e9a5f & X17dac3c523ec0b232c6a9c711d69968f & X98300b47154d82766e5d100558d1ba09 & X958c1eeaa690e27ee970154111e25192 & d78e13cf379c4409b2bc382ffb62f962\\\\\n",
       "\\hline\n",
       "\tX1.Eurasian.Beaver & herbivore & no        & no        & no        & no        & yes       & no        & yes       & yes       & 0         & ⋯         & 0         & 0         & 0         & 0         & 0         & 0         & 0         & 0         & 0         & 0        \\\\\n",
       "\tX101.Horse & herbivore & no        & no        & no        & no        & no        & yes       & yes       & no        & 0         & ⋯         & 0         & 0         & 0         & 0         & 0         & 0         & 0         & 0         & 0         & 0        \\\\\n",
       "\tX102.Kulan & herbivore & no        & no        & no        & no        & yes       & no        & yes       & no        & 0         & ⋯         & 0         & 0         & 0         & 0         & 0         & 0         & 0         & 0         & 0         & 0        \\\\\n",
       "\\end{tabular}\n"
      ],
      "text/markdown": [
       "\n",
       "| <!--/--> | diet | diet_vertebrate | diet_invertebrate | diet_fruit | diet_flowers_nectar_pollen | diet_leaves_branches_bark_buds | diet_seeds | diet_grass_waterplants | diet_roots_tubers | X368bd5c2255f3a5ce0fef06ca6de1d04 | ⋯ | X1b4755614ecbdd82a79e77eae5143239 | d855008e1da5c9a5c3ba81d21b6ea272 | X9dfddc1c446e84f8ff7f5a7332e70e3a | X6f8aa3da4c4fa50cd74ad28f489adefc | X22930923dace53039f5eb90d94ceca1e | X88f04219eab15eae30870064288e9a5f | X17dac3c523ec0b232c6a9c711d69968f | X98300b47154d82766e5d100558d1ba09 | X958c1eeaa690e27ee970154111e25192 | d78e13cf379c4409b2bc382ffb62f962 | \n",
       "|---|---|---|\n",
       "| X1.Eurasian.Beaver | herbivore | no        | no        | no        | no        | yes       | no        | yes       | yes       | 0         | ⋯         | 0         | 0         | 0         | 0         | 0         | 0         | 0         | 0         | 0         | 0         | \n",
       "| X101.Horse | herbivore | no        | no        | no        | no        | no        | yes       | yes       | no        | 0         | ⋯         | 0         | 0         | 0         | 0         | 0         | 0         | 0         | 0         | 0         | 0         | \n",
       "| X102.Kulan | herbivore | no        | no        | no        | no        | yes       | no        | yes       | no        | 0         | ⋯         | 0         | 0         | 0         | 0         | 0         | 0         | 0         | 0         | 0         | 0         | \n",
       "\n",
       "\n"
      ],
      "text/plain": [
       "                   diet      diet_vertebrate diet_invertebrate diet_fruit\n",
       "X1.Eurasian.Beaver herbivore no              no                no        \n",
       "X101.Horse         herbivore no              no                no        \n",
       "X102.Kulan         herbivore no              no                no        \n",
       "                   diet_flowers_nectar_pollen diet_leaves_branches_bark_buds\n",
       "X1.Eurasian.Beaver no                         yes                           \n",
       "X101.Horse         no                         no                            \n",
       "X102.Kulan         no                         yes                           \n",
       "                   diet_seeds diet_grass_waterplants diet_roots_tubers\n",
       "X1.Eurasian.Beaver no         yes                    yes              \n",
       "X101.Horse         yes        yes                    no               \n",
       "X102.Kulan         no         yes                    no               \n",
       "                   X368bd5c2255f3a5ce0fef06ca6de1d04 ⋯\n",
       "X1.Eurasian.Beaver 0                                 ⋯\n",
       "X101.Horse         0                                 ⋯\n",
       "X102.Kulan         0                                 ⋯\n",
       "                   X1b4755614ecbdd82a79e77eae5143239\n",
       "X1.Eurasian.Beaver 0                                \n",
       "X101.Horse         0                                \n",
       "X102.Kulan         0                                \n",
       "                   d855008e1da5c9a5c3ba81d21b6ea272\n",
       "X1.Eurasian.Beaver 0                               \n",
       "X101.Horse         0                               \n",
       "X102.Kulan         0                               \n",
       "                   X9dfddc1c446e84f8ff7f5a7332e70e3a\n",
       "X1.Eurasian.Beaver 0                                \n",
       "X101.Horse         0                                \n",
       "X102.Kulan         0                                \n",
       "                   X6f8aa3da4c4fa50cd74ad28f489adefc\n",
       "X1.Eurasian.Beaver 0                                \n",
       "X101.Horse         0                                \n",
       "X102.Kulan         0                                \n",
       "                   X22930923dace53039f5eb90d94ceca1e\n",
       "X1.Eurasian.Beaver 0                                \n",
       "X101.Horse         0                                \n",
       "X102.Kulan         0                                \n",
       "                   X88f04219eab15eae30870064288e9a5f\n",
       "X1.Eurasian.Beaver 0                                \n",
       "X101.Horse         0                                \n",
       "X102.Kulan         0                                \n",
       "                   X17dac3c523ec0b232c6a9c711d69968f\n",
       "X1.Eurasian.Beaver 0                                \n",
       "X101.Horse         0                                \n",
       "X102.Kulan         0                                \n",
       "                   X98300b47154d82766e5d100558d1ba09\n",
       "X1.Eurasian.Beaver 0                                \n",
       "X101.Horse         0                                \n",
       "X102.Kulan         0                                \n",
       "                   X958c1eeaa690e27ee970154111e25192\n",
       "X1.Eurasian.Beaver 0                                \n",
       "X101.Horse         0                                \n",
       "X102.Kulan         0                                \n",
       "                   d78e13cf379c4409b2bc382ffb62f962\n",
       "X1.Eurasian.Beaver 0                               \n",
       "X101.Horse         0                               \n",
       "X102.Kulan         0                               "
      ]
     },
     "metadata": {},
     "output_type": "display_data"
    }
   ],
   "source": [
    "diet_vars = c(\n",
    "'diet',\n",
    "'diet_vertebrate',\n",
    "'diet_invertebrate',\n",
    "'diet_fruit',\n",
    "'diet_flowers_nectar_pollen',\n",
    "'diet_leaves_branches_bark_buds',\n",
    "'diet_seeds',\n",
    "'diet_grass_waterplants',\n",
    "'diet_roots_tubers'\n",
    ")\n",
    "otu = cbind(metadata[,diet_vars], otu)\n",
    "otu %>% dfhead"
   ]
  },
  {
   "cell_type": "code",
   "execution_count": 12,
   "metadata": {
    "ExecuteTime": {
     "end_time": "2018-11-26T18:47:39.857389Z",
     "start_time": "2018-11-26T18:47:39.702Z"
    }
   },
   "outputs": [
    {
     "name": "stdout",
     "output_type": "stream",
     "text": [
      "[1] 213 418\n"
     ]
    },
    {
     "data": {
      "text/html": [
       "<table>\n",
       "<thead><tr><th></th><th scope=col>diet</th><th scope=col>diet_vertebrate</th><th scope=col>diet_invertebrate</th><th scope=col>diet_fruit</th><th scope=col>diet_flowers_nectar_pollen</th><th scope=col>diet_leaves_branches_bark_buds</th><th scope=col>diet_seeds</th><th scope=col>diet_grass_waterplants</th><th scope=col>diet_roots_tubers</th><th scope=col>X368bd5c2255f3a5ce0fef06ca6de1d04</th><th scope=col>⋯</th><th scope=col>d855008e1da5c9a5c3ba81d21b6ea272</th><th scope=col>X9dfddc1c446e84f8ff7f5a7332e70e3a</th><th scope=col>X6f8aa3da4c4fa50cd74ad28f489adefc</th><th scope=col>X22930923dace53039f5eb90d94ceca1e</th><th scope=col>X88f04219eab15eae30870064288e9a5f</th><th scope=col>X17dac3c523ec0b232c6a9c711d69968f</th><th scope=col>X98300b47154d82766e5d100558d1ba09</th><th scope=col>X958c1eeaa690e27ee970154111e25192</th><th scope=col>d78e13cf379c4409b2bc382ffb62f962</th><th scope=col>taxa</th></tr></thead>\n",
       "<tbody>\n",
       "\t<tr><th scope=row>X1.Eurasian.Beaver</th><td>1                 </td><td>0                 </td><td>0                 </td><td>0                 </td><td>0                 </td><td>1                 </td><td>0                 </td><td>1                 </td><td>1                 </td><td>0                 </td><td>⋯                 </td><td>0                 </td><td>0                 </td><td>0                 </td><td>0                 </td><td>0                 </td><td>0                 </td><td>0                 </td><td>0                 </td><td>0                 </td><td>X1.Eurasian.Beaver</td></tr>\n",
       "\t<tr><th scope=row>X101.Horse</th><td>1                 </td><td>0                 </td><td>0                 </td><td>0                 </td><td>0                 </td><td>0                 </td><td>1                 </td><td>1                 </td><td>0                 </td><td>0                 </td><td>⋯                 </td><td>0                 </td><td>0                 </td><td>0                 </td><td>0                 </td><td>0                 </td><td>0                 </td><td>0                 </td><td>0                 </td><td>0                 </td><td>X101.Horse        </td></tr>\n",
       "\t<tr><th scope=row>X102.Kulan</th><td>1                 </td><td>0                 </td><td>0                 </td><td>0                 </td><td>0                 </td><td>1                 </td><td>0                 </td><td>1                 </td><td>0                 </td><td>0                 </td><td>⋯                 </td><td>0                 </td><td>0                 </td><td>0                 </td><td>0                 </td><td>0                 </td><td>0                 </td><td>0                 </td><td>0                 </td><td>0                 </td><td>X102.Kulan        </td></tr>\n",
       "</tbody>\n",
       "</table>\n"
      ],
      "text/latex": [
       "\\begin{tabular}{r|llllllllllllllllllllllllllllllllllllllllllllllllllllllllllllllllllllllllllllllllllllllllllllllllllllllllllllllllllllllllllllllllllllllllllllllllllllllllllllllllllllllllllllllllllllllllllllllllllllllllllllllllllllllllllllllllllllllllllllllllllllllllllllllllllllllllllllllllllllllllllllllllllllllllllllllllllllllllllllllllllllllllllllllllllllllllllllllllllllllllllllllllllllllllllllllllllllllllllllllllllllllllllllllllll}\n",
       "  & diet & diet\\_vertebrate & diet\\_invertebrate & diet\\_fruit & diet\\_flowers\\_nectar\\_pollen & diet\\_leaves\\_branches\\_bark\\_buds & diet\\_seeds & diet\\_grass\\_waterplants & diet\\_roots\\_tubers & X368bd5c2255f3a5ce0fef06ca6de1d04 & ⋯ & d855008e1da5c9a5c3ba81d21b6ea272 & X9dfddc1c446e84f8ff7f5a7332e70e3a & X6f8aa3da4c4fa50cd74ad28f489adefc & X22930923dace53039f5eb90d94ceca1e & X88f04219eab15eae30870064288e9a5f & X17dac3c523ec0b232c6a9c711d69968f & X98300b47154d82766e5d100558d1ba09 & X958c1eeaa690e27ee970154111e25192 & d78e13cf379c4409b2bc382ffb62f962 & taxa\\\\\n",
       "\\hline\n",
       "\tX1.Eurasian.Beaver & 1                  & 0                  & 0                  & 0                  & 0                  & 1                  & 0                  & 1                  & 1                  & 0                  & ⋯                  & 0                  & 0                  & 0                  & 0                  & 0                  & 0                  & 0                  & 0                  & 0                  & X1.Eurasian.Beaver\\\\\n",
       "\tX101.Horse & 1                  & 0                  & 0                  & 0                  & 0                  & 0                  & 1                  & 1                  & 0                  & 0                  & ⋯                  & 0                  & 0                  & 0                  & 0                  & 0                  & 0                  & 0                  & 0                  & 0                  & X101.Horse        \\\\\n",
       "\tX102.Kulan & 1                  & 0                  & 0                  & 0                  & 0                  & 1                  & 0                  & 1                  & 0                  & 0                  & ⋯                  & 0                  & 0                  & 0                  & 0                  & 0                  & 0                  & 0                  & 0                  & 0                  & X102.Kulan        \\\\\n",
       "\\end{tabular}\n"
      ],
      "text/markdown": [
       "\n",
       "| <!--/--> | diet | diet_vertebrate | diet_invertebrate | diet_fruit | diet_flowers_nectar_pollen | diet_leaves_branches_bark_buds | diet_seeds | diet_grass_waterplants | diet_roots_tubers | X368bd5c2255f3a5ce0fef06ca6de1d04 | ⋯ | d855008e1da5c9a5c3ba81d21b6ea272 | X9dfddc1c446e84f8ff7f5a7332e70e3a | X6f8aa3da4c4fa50cd74ad28f489adefc | X22930923dace53039f5eb90d94ceca1e | X88f04219eab15eae30870064288e9a5f | X17dac3c523ec0b232c6a9c711d69968f | X98300b47154d82766e5d100558d1ba09 | X958c1eeaa690e27ee970154111e25192 | d78e13cf379c4409b2bc382ffb62f962 | taxa | \n",
       "|---|---|---|\n",
       "| X1.Eurasian.Beaver | 1                  | 0                  | 0                  | 0                  | 0                  | 1                  | 0                  | 1                  | 1                  | 0                  | ⋯                  | 0                  | 0                  | 0                  | 0                  | 0                  | 0                  | 0                  | 0                  | 0                  | X1.Eurasian.Beaver | \n",
       "| X101.Horse | 1                  | 0                  | 0                  | 0                  | 0                  | 0                  | 1                  | 1                  | 0                  | 0                  | ⋯                  | 0                  | 0                  | 0                  | 0                  | 0                  | 0                  | 0                  | 0                  | 0                  | X101.Horse         | \n",
       "| X102.Kulan | 1                  | 0                  | 0                  | 0                  | 0                  | 1                  | 0                  | 1                  | 0                  | 0                  | ⋯                  | 0                  | 0                  | 0                  | 0                  | 0                  | 0                  | 0                  | 0                  | 0                  | X102.Kulan         | \n",
       "\n",
       "\n"
      ],
      "text/plain": [
       "                   diet diet_vertebrate diet_invertebrate diet_fruit\n",
       "X1.Eurasian.Beaver 1    0               0                 0         \n",
       "X101.Horse         1    0               0                 0         \n",
       "X102.Kulan         1    0               0                 0         \n",
       "                   diet_flowers_nectar_pollen diet_leaves_branches_bark_buds\n",
       "X1.Eurasian.Beaver 0                          1                             \n",
       "X101.Horse         0                          0                             \n",
       "X102.Kulan         0                          1                             \n",
       "                   diet_seeds diet_grass_waterplants diet_roots_tubers\n",
       "X1.Eurasian.Beaver 0          1                      1                \n",
       "X101.Horse         1          1                      0                \n",
       "X102.Kulan         0          1                      0                \n",
       "                   X368bd5c2255f3a5ce0fef06ca6de1d04 ⋯\n",
       "X1.Eurasian.Beaver 0                                 ⋯\n",
       "X101.Horse         0                                 ⋯\n",
       "X102.Kulan         0                                 ⋯\n",
       "                   d855008e1da5c9a5c3ba81d21b6ea272\n",
       "X1.Eurasian.Beaver 0                               \n",
       "X101.Horse         0                               \n",
       "X102.Kulan         0                               \n",
       "                   X9dfddc1c446e84f8ff7f5a7332e70e3a\n",
       "X1.Eurasian.Beaver 0                                \n",
       "X101.Horse         0                                \n",
       "X102.Kulan         0                                \n",
       "                   X6f8aa3da4c4fa50cd74ad28f489adefc\n",
       "X1.Eurasian.Beaver 0                                \n",
       "X101.Horse         0                                \n",
       "X102.Kulan         0                                \n",
       "                   X22930923dace53039f5eb90d94ceca1e\n",
       "X1.Eurasian.Beaver 0                                \n",
       "X101.Horse         0                                \n",
       "X102.Kulan         0                                \n",
       "                   X88f04219eab15eae30870064288e9a5f\n",
       "X1.Eurasian.Beaver 0                                \n",
       "X101.Horse         0                                \n",
       "X102.Kulan         0                                \n",
       "                   X17dac3c523ec0b232c6a9c711d69968f\n",
       "X1.Eurasian.Beaver 0                                \n",
       "X101.Horse         0                                \n",
       "X102.Kulan         0                                \n",
       "                   X98300b47154d82766e5d100558d1ba09\n",
       "X1.Eurasian.Beaver 0                                \n",
       "X101.Horse         0                                \n",
       "X102.Kulan         0                                \n",
       "                   X958c1eeaa690e27ee970154111e25192\n",
       "X1.Eurasian.Beaver 0                                \n",
       "X101.Horse         0                                \n",
       "X102.Kulan         0                                \n",
       "                   d78e13cf379c4409b2bc382ffb62f962 taxa              \n",
       "X1.Eurasian.Beaver 0                                X1.Eurasian.Beaver\n",
       "X101.Horse         0                                X101.Horse        \n",
       "X102.Kulan         0                                X102.Kulan        "
      ]
     },
     "metadata": {},
     "output_type": "display_data"
    }
   ],
   "source": [
    "# transforming\n",
    "otu$diet = ifelse(otu$diet == 'herbivore', 1,\n",
    "                  ifelse(otu$diet == 'omnivore', 0.5, 0))\n",
    "\n",
    "for(x in diet_vars[2:length(diet_vars)]){\n",
    "    otu[,x] = gsub(' .+', '', otu[,x])\n",
    "    otu[,x] = ifelse(otu[,x] == 'yes', 1, 0) %>% as.numeric\n",
    "}\n",
    "\n",
    "\n",
    "otu$taxa = rownames(otu)\n",
    "otu %>% dfhead"
   ]
  },
  {
   "cell_type": "code",
   "execution_count": 13,
   "metadata": {
    "ExecuteTime": {
     "end_time": "2018-11-26T18:47:41.402723Z",
     "start_time": "2018-11-26T18:47:41.214Z"
    }
   },
   "outputs": [
    {
     "data": {
      "text/html": [
       "<dl class=dl-horizontal>\n",
       "\t<dt>diet</dt>\n",
       "\t\t<dd>117</dd>\n",
       "\t<dt>diet_vertebrate</dt>\n",
       "\t\t<dd>75</dd>\n",
       "\t<dt>diet_invertebrate</dt>\n",
       "\t\t<dd>109</dd>\n",
       "\t<dt>diet_fruit</dt>\n",
       "\t\t<dd>89</dd>\n",
       "\t<dt>diet_flowers_nectar_pollen</dt>\n",
       "\t\t<dd>18</dd>\n",
       "\t<dt>diet_leaves_branches_bark_buds</dt>\n",
       "\t\t<dd>101</dd>\n",
       "\t<dt>diet_seeds</dt>\n",
       "\t\t<dd>86</dd>\n",
       "\t<dt>diet_grass_waterplants</dt>\n",
       "\t\t<dd>96</dd>\n",
       "\t<dt>diet_roots_tubers</dt>\n",
       "\t\t<dd>70</dd>\n",
       "</dl>\n"
      ],
      "text/latex": [
       "\\begin{description*}\n",
       "\\item[diet] 117\n",
       "\\item[diet\\textbackslash{}\\_vertebrate] 75\n",
       "\\item[diet\\textbackslash{}\\_invertebrate] 109\n",
       "\\item[diet\\textbackslash{}\\_fruit] 89\n",
       "\\item[diet\\textbackslash{}\\_flowers\\textbackslash{}\\_nectar\\textbackslash{}\\_pollen] 18\n",
       "\\item[diet\\textbackslash{}\\_leaves\\textbackslash{}\\_branches\\textbackslash{}\\_bark\\textbackslash{}\\_buds] 101\n",
       "\\item[diet\\textbackslash{}\\_seeds] 86\n",
       "\\item[diet\\textbackslash{}\\_grass\\textbackslash{}\\_waterplants] 96\n",
       "\\item[diet\\textbackslash{}\\_roots\\textbackslash{}\\_tubers] 70\n",
       "\\end{description*}\n"
      ],
      "text/markdown": [
       "diet\n",
       ":   117diet_vertebrate\n",
       ":   75diet_invertebrate\n",
       ":   109diet_fruit\n",
       ":   89diet_flowers_nectar_pollen\n",
       ":   18diet_leaves_branches_bark_buds\n",
       ":   101diet_seeds\n",
       ":   86diet_grass_waterplants\n",
       ":   96diet_roots_tubers\n",
       ":   70\n",
       "\n"
      ],
      "text/plain": [
       "                          diet                diet_vertebrate \n",
       "                           117                             75 \n",
       "             diet_invertebrate                     diet_fruit \n",
       "                           109                             89 \n",
       "    diet_flowers_nectar_pollen diet_leaves_branches_bark_buds \n",
       "                            18                            101 \n",
       "                    diet_seeds         diet_grass_waterplants \n",
       "                            86                             96 \n",
       "             diet_roots_tubers \n",
       "                            70 "
      ]
     },
     "metadata": {},
     "output_type": "display_data"
    }
   ],
   "source": [
    "# checking values\n",
    "colSums(otu[,1:9])"
   ]
  },
  {
   "cell_type": "markdown",
   "metadata": {},
   "source": [
    "# Host tree subsample"
   ]
  },
  {
   "cell_type": "code",
   "execution_count": 14,
   "metadata": {
    "ExecuteTime": {
     "end_time": "2018-11-26T18:47:43.842621Z",
     "start_time": "2018-11-26T18:47:43.749Z"
    }
   },
   "outputs": [
    {
     "name": "stdout",
     "output_type": "stream",
     "text": [
      "character(0)\n",
      "character(0)\n"
     ]
    }
   ],
   "source": [
    "setdiff(host_tree$tip.label, rownames(otu)) %>% print\n",
    "setdiff(rownames(otu), host_tree$tip.label) %>% print"
   ]
  },
  {
   "cell_type": "code",
   "execution_count": 15,
   "metadata": {
    "ExecuteTime": {
     "end_time": "2018-11-26T18:47:44.993792Z",
     "start_time": "2018-11-26T18:47:44.901Z"
    }
   },
   "outputs": [],
   "source": [
    "#' randomly selecting one per group\n",
    "tree_subsample = function(L, df, tree){\n",
    "    # get subsample (note: subsampling within each species)\n",
    "    to_keep = df %>% \n",
    "        group_by(scientific_name) %>% \n",
    "        sample_n(1) %>%\n",
    "        .$sample\n",
    "    # subsampling tree\n",
    "    to_rm = setdiff(tree$tip.label, to_keep)\n",
    "    tree = drop.tip(tree, to_rm)\n",
    "    return(tree)\n",
    "}"
   ]
  },
  {
   "cell_type": "code",
   "execution_count": 16,
   "metadata": {
    "ExecuteTime": {
     "end_time": "2018-11-26T18:47:47.853948Z",
     "start_time": "2018-11-26T18:47:47.006Z"
    }
   },
   "outputs": [
    {
     "data": {
      "text/html": [
       "100"
      ],
      "text/latex": [
       "100"
      ],
      "text/markdown": [
       "100"
      ],
      "text/plain": [
       "[1] 100"
      ]
     },
     "metadata": {},
     "output_type": "display_data"
    }
   ],
   "source": [
    "# permuted trees\n",
    "df = metadata %>%\n",
    "    mutate(sample = X.SampleID) %>%\n",
    "    dplyr::select(sample, scientific_name) \n",
    "\n",
    "doParallel::registerDoParallel(threads)\n",
    "host_tree_l = plyr::llply(as.list(1:100), \n",
    "                          function(x) tree_subsample(x, df, host_tree),\n",
    "                          .parallel=TRUE)\n",
    "host_tree_l %>% length"
   ]
  },
  {
   "cell_type": "code",
   "execution_count": 17,
   "metadata": {
    "ExecuteTime": {
     "end_time": "2018-11-26T18:47:47.928328Z",
     "start_time": "2018-11-26T18:47:47.502Z"
    }
   },
   "outputs": [
    {
     "data": {
      "text/plain": [
       "   Min. 1st Qu.  Median    Mean 3rd Qu.    Max. \n",
       "    128     128     128     128     128     128 "
      ]
     },
     "metadata": {},
     "output_type": "display_data"
    }
   ],
   "source": [
    "# check tips per tree\n",
    "lapply(host_tree_l, function(x) x$tip.label %>% length) %>% unlist %>% summary"
   ]
  },
  {
   "cell_type": "markdown",
   "metadata": {},
   "source": [
    "# PGLS"
   ]
  },
  {
   "cell_type": "code",
   "execution_count": 18,
   "metadata": {
    "ExecuteTime": {
     "end_time": "2018-11-26T18:47:50.673604Z",
     "start_time": "2018-11-26T18:47:50.596Z"
    }
   },
   "outputs": [],
   "source": [
    "pgls_each_var = function(y, x, tree, data){\n",
    "    cdat = comparative.data(data=data, phy=tree, names.col=\"taxa\")\n",
    "    \n",
    "    f = as.formula(paste(c(y, x), collapse=' ~ '))\n",
    "    mod = pgls(f, cdat) %>% summary\n",
    "    \n",
    "    df = mod$coefficients %>% as.data.frame\n",
    "    colnames(df) = c('Estimate', 'std_err', 't_value', 'p_value')\n",
    "    df$R2 = mod$adj.r.squared %>% as.vector %>% .[1]\n",
    "    df$x = x\n",
    "    df$y = y\n",
    "    df = df[2,] %>% as.data.frame\n",
    "    return(df)\n",
    "}"
   ]
  },
  {
   "cell_type": "code",
   "execution_count": 80,
   "metadata": {
    "ExecuteTime": {
     "end_time": "2018-08-23T07:23:04.661956Z",
     "start_time": "2018-08-23T07:24:43.031Z"
    }
   },
   "outputs": [
    {
     "data": {
      "text/html": [
       "<table>\n",
       "<thead><tr><th></th><th scope=col>Estimate</th><th scope=col>std_err</th><th scope=col>t_value</th><th scope=col>p_value</th><th scope=col>R2</th><th scope=col>x</th><th scope=col>y</th></tr></thead>\n",
       "<tbody>\n",
       "\t<tr><th scope=row>diet</th><td>0.06854055                      </td><td>0.1139924                       </td><td>0.6012727                       </td><td>0.5487386                       </td><td>-0.005052733                    </td><td>diet                            </td><td>d78e13cf379c4409b2bc382ffb62f962</td></tr>\n",
       "</tbody>\n",
       "</table>\n"
      ],
      "text/latex": [
       "\\begin{tabular}{r|lllllll}\n",
       "  & Estimate & std\\_err & t\\_value & p\\_value & R2 & x & y\\\\\n",
       "\\hline\n",
       "\tdiet & 0.06854055                       & 0.1139924                        & 0.6012727                        & 0.5487386                        & -0.005052733                     & diet                             & d78e13cf379c4409b2bc382ffb62f962\\\\\n",
       "\\end{tabular}\n"
      ],
      "text/markdown": [
       "\n",
       "| <!--/--> | Estimate | std_err | t_value | p_value | R2 | x | y | \n",
       "|---|\n",
       "| diet | 0.06854055                       | 0.1139924                        | 0.6012727                        | 0.5487386                        | -0.005052733                     | diet                             | d78e13cf379c4409b2bc382ffb62f962 | \n",
       "\n",
       "\n"
      ],
      "text/plain": [
       "     Estimate   std_err   t_value   p_value   R2           x   \n",
       "diet 0.06854055 0.1139924 0.6012727 0.5487386 -0.005052733 diet\n",
       "     y                               \n",
       "diet d78e13cf379c4409b2bc382ffb62f962"
      ]
     },
     "metadata": {},
     "output_type": "display_data"
    }
   ],
   "source": [
    "#-- debug --#\n",
    "rep = 1\n",
    "host_tree = host_tree_l[[rep]]\n",
    "df = otu[host_tree$tip.label,] \n",
    "\n",
    "pgls_each_var(y = 'd78e13cf379c4409b2bc382ffb62f962',\n",
    "              x = 'diet',\n",
    "              tree = host_tree,\n",
    "              data = df)"
   ]
  },
  {
   "cell_type": "code",
   "execution_count": 19,
   "metadata": {
    "ExecuteTime": {
     "end_time": "2018-11-26T18:47:56.063344Z",
     "start_time": "2018-11-26T18:47:55.982Z"
    }
   },
   "outputs": [],
   "source": [
    "pgls_each_tree = function(rep, y, x, tree_list, data, threads=1){\n",
    "    tree = tree_list[[rep]]\n",
    "    data = data[tree$tip.label,] \n",
    "    \n",
    "    doParallel::registerDoParallel(threads)\n",
    "    ret = plyr::llply(as.list(y),\n",
    "                      pgls_each_var,\n",
    "                      x = 'diet',\n",
    "                      tree = tree,\n",
    "                      data = data,\n",
    "                      .parallel = TRUE)\n",
    "    ret = do.call(rbind, ret)\n",
    "    ret$rep = rep\n",
    "    return(ret)\n",
    "}"
   ]
  },
  {
   "cell_type": "code",
   "execution_count": 82,
   "metadata": {
    "ExecuteTime": {
     "end_time": "2018-08-23T07:23:06.016704Z",
     "start_time": "2018-08-23T07:24:44.415Z"
    }
   },
   "outputs": [
    {
     "data": {
      "text/html": [
       "<table>\n",
       "<thead><tr><th></th><th scope=col>X368bd5c2255f3a5ce0fef06ca6de1d04</th><th scope=col>X779324e5648460c5a67e577c45131b42</th><th scope=col>b918d185ee89a0b33d821ee766d76eb3</th><th scope=col>d3d51a026150fca2a3400c59a6b311cb</th></tr></thead>\n",
       "<tbody>\n",
       "\t<tr><th scope=row>Estimate</th><td>0.0561566148317323               </td><td>0.0584895195856009               </td><td>0.014201371740886                </td><td>0.0906631161429399               </td></tr>\n",
       "\t<tr><th scope=row>std_err</th><td>0.137449424160443                </td><td>0.151655657907941                </td><td>0.0991874614461626               </td><td>0.131881924518375                </td></tr>\n",
       "\t<tr><th scope=row>t_value</th><td>0.408562023265963                </td><td>0.385673178254289                </td><td>0.143177086436417                </td><td>0.687456726720027                </td></tr>\n",
       "\t<tr><th scope=row>p_value</th><td>0.683554634165909                </td><td>0.700389102690612                </td><td>0.886379045146193                </td><td>0.493058439434629                </td></tr>\n",
       "\t<tr><th scope=row>R2</th><td>-0.00660297527924832             </td><td>-0.00674803548517245             </td><td>-0.00777254751744015             </td><td>-0.00417009899721809             </td></tr>\n",
       "\t<tr><th scope=row>x</th><td>diet                             </td><td>diet                             </td><td>diet                             </td><td>diet                             </td></tr>\n",
       "\t<tr><th scope=row>y</th><td>X368bd5c2255f3a5ce0fef06ca6de1d04</td><td>X779324e5648460c5a67e577c45131b42</td><td>b918d185ee89a0b33d821ee766d76eb3 </td><td>d3d51a026150fca2a3400c59a6b311cb </td></tr>\n",
       "\t<tr><th scope=row>rep</th><td>10                               </td><td>10                               </td><td>10                               </td><td>10                               </td></tr>\n",
       "</tbody>\n",
       "</table>\n"
      ],
      "text/latex": [
       "\\begin{tabular}{r|llll}\n",
       "  & X368bd5c2255f3a5ce0fef06ca6de1d04 & X779324e5648460c5a67e577c45131b42 & b918d185ee89a0b33d821ee766d76eb3 & d3d51a026150fca2a3400c59a6b311cb\\\\\n",
       "\\hline\n",
       "\tEstimate & 0.0561566148317323                & 0.0584895195856009                & 0.014201371740886                 & 0.0906631161429399               \\\\\n",
       "\tstd\\_err & 0.137449424160443                 & 0.151655657907941                 & 0.0991874614461626                & 0.131881924518375                \\\\\n",
       "\tt\\_value & 0.408562023265963                 & 0.385673178254289                 & 0.143177086436417                 & 0.687456726720027                \\\\\n",
       "\tp\\_value & 0.683554634165909                 & 0.700389102690612                 & 0.886379045146193                 & 0.493058439434629                \\\\\n",
       "\tR2 & -0.00660297527924832              & -0.00674803548517245              & -0.00777254751744015              & -0.00417009899721809             \\\\\n",
       "\tx & diet                              & diet                              & diet                              & diet                             \\\\\n",
       "\ty & X368bd5c2255f3a5ce0fef06ca6de1d04 & X779324e5648460c5a67e577c45131b42 & b918d185ee89a0b33d821ee766d76eb3  & d3d51a026150fca2a3400c59a6b311cb \\\\\n",
       "\trep & 10                                & 10                                & 10                                & 10                               \\\\\n",
       "\\end{tabular}\n"
      ],
      "text/markdown": [
       "\n",
       "| <!--/--> | X368bd5c2255f3a5ce0fef06ca6de1d04 | X779324e5648460c5a67e577c45131b42 | b918d185ee89a0b33d821ee766d76eb3 | d3d51a026150fca2a3400c59a6b311cb | \n",
       "|---|---|---|---|---|---|---|---|\n",
       "| Estimate | 0.0561566148317323                | 0.0584895195856009                | 0.014201371740886                 | 0.0906631161429399                | \n",
       "| std_err | 0.137449424160443                 | 0.151655657907941                 | 0.0991874614461626                | 0.131881924518375                 | \n",
       "| t_value | 0.408562023265963                 | 0.385673178254289                 | 0.143177086436417                 | 0.687456726720027                 | \n",
       "| p_value | 0.683554634165909                 | 0.700389102690612                 | 0.886379045146193                 | 0.493058439434629                 | \n",
       "| R2 | -0.00660297527924832              | -0.00674803548517245              | -0.00777254751744015              | -0.00417009899721809              | \n",
       "| x | diet                              | diet                              | diet                              | diet                              | \n",
       "| y | X368bd5c2255f3a5ce0fef06ca6de1d04 | X779324e5648460c5a67e577c45131b42 | b918d185ee89a0b33d821ee766d76eb3  | d3d51a026150fca2a3400c59a6b311cb  | \n",
       "| rep | 10                                | 10                                | 10                                | 10                                | \n",
       "\n",
       "\n"
      ],
      "text/plain": [
       "         X368bd5c2255f3a5ce0fef06ca6de1d04 X779324e5648460c5a67e577c45131b42\n",
       "Estimate 0.0561566148317323                0.0584895195856009               \n",
       "std_err  0.137449424160443                 0.151655657907941                \n",
       "t_value  0.408562023265963                 0.385673178254289                \n",
       "p_value  0.683554634165909                 0.700389102690612                \n",
       "R2       -0.00660297527924832              -0.00674803548517245             \n",
       "x        diet                              diet                             \n",
       "y        X368bd5c2255f3a5ce0fef06ca6de1d04 X779324e5648460c5a67e577c45131b42\n",
       "rep      10                                10                               \n",
       "         b918d185ee89a0b33d821ee766d76eb3 d3d51a026150fca2a3400c59a6b311cb\n",
       "Estimate 0.014201371740886                0.0906631161429399              \n",
       "std_err  0.0991874614461626               0.131881924518375               \n",
       "t_value  0.143177086436417                0.687456726720027               \n",
       "p_value  0.886379045146193                0.493058439434629               \n",
       "R2       -0.00777254751744015             -0.00417009899721809            \n",
       "x        diet                             diet                            \n",
       "y        b918d185ee89a0b33d821ee766d76eb3 d3d51a026150fca2a3400c59a6b311cb\n",
       "rep      10                               10                              "
      ]
     },
     "metadata": {},
     "output_type": "display_data"
    }
   ],
   "source": [
    "#-- debug --#\n",
    "y = colnames(otu)[10:13]\n",
    "\n",
    "rep = 10\n",
    "ret = pgls_each_tree(rep,\n",
    "                     y = y,\n",
    "                     x = 'diet',\n",
    "                     tree_list = host_tree_l,\n",
    "                     data = otu,\n",
    "                     threads = threads)\n",
    "\n",
    "ret = do.call(rbind, ret) %>%\n",
    "    as.data.frame\n",
    "colnames(ret) = y\n",
    "\n",
    "ret "
   ]
  },
  {
   "cell_type": "markdown",
   "metadata": {},
   "source": [
    "## Diet"
   ]
  },
  {
   "cell_type": "code",
   "execution_count": 83,
   "metadata": {
    "ExecuteTime": {
     "end_time": "2018-08-23T07:52:06.884910Z",
     "start_time": "2018-08-23T07:24:47.550Z"
    }
   },
   "outputs": [
    {
     "name": "stdout",
     "output_type": "stream",
     "text": [
      "[1] 40800     8\n"
     ]
    },
    {
     "data": {
      "text/html": [
       "<table>\n",
       "<thead><tr><th scope=col>Estimate</th><th scope=col>std_err</th><th scope=col>t_value</th><th scope=col>p_value</th><th scope=col>R2</th><th scope=col>x</th><th scope=col>y</th><th scope=col>rep</th></tr></thead>\n",
       "<tbody>\n",
       "\t<tr><td>0.06697120                       </td><td>0.1381164                        </td><td>0.4848897                        </td><td>0.6285965                        </td><td>-0.006059185                     </td><td>diet                             </td><td>X368bd5c2255f3a5ce0fef06ca6de1d04</td><td>1                                </td></tr>\n",
       "\t<tr><td>0.06005886                       </td><td>0.1302460                        </td><td>0.4611187                        </td><td>0.6455085                        </td><td>-0.006238437                     </td><td>diet                             </td><td>X779324e5648460c5a67e577c45131b42</td><td>1                                </td></tr>\n",
       "\t<tr><td>0.03021740                       </td><td>0.1034154                        </td><td>0.2921945                        </td><td>0.7706185                        </td><td>-0.007253992                     </td><td>diet                             </td><td>b918d185ee89a0b33d821ee766d76eb3 </td><td>1                                </td></tr>\n",
       "</tbody>\n",
       "</table>\n"
      ],
      "text/latex": [
       "\\begin{tabular}{r|llllllll}\n",
       " Estimate & std\\_err & t\\_value & p\\_value & R2 & x & y & rep\\\\\n",
       "\\hline\n",
       "\t 0.06697120                        & 0.1381164                         & 0.4848897                         & 0.6285965                         & -0.006059185                      & diet                              & X368bd5c2255f3a5ce0fef06ca6de1d04 & 1                                \\\\\n",
       "\t 0.06005886                        & 0.1302460                         & 0.4611187                         & 0.6455085                         & -0.006238437                      & diet                              & X779324e5648460c5a67e577c45131b42 & 1                                \\\\\n",
       "\t 0.03021740                        & 0.1034154                         & 0.2921945                         & 0.7706185                         & -0.007253992                      & diet                              & b918d185ee89a0b33d821ee766d76eb3  & 1                                \\\\\n",
       "\\end{tabular}\n"
      ],
      "text/markdown": [
       "\n",
       "Estimate | std_err | t_value | p_value | R2 | x | y | rep | \n",
       "|---|---|---|\n",
       "| 0.06697120                        | 0.1381164                         | 0.4848897                         | 0.6285965                         | -0.006059185                      | diet                              | X368bd5c2255f3a5ce0fef06ca6de1d04 | 1                                 | \n",
       "| 0.06005886                        | 0.1302460                         | 0.4611187                         | 0.6455085                         | -0.006238437                      | diet                              | X779324e5648460c5a67e577c45131b42 | 1                                 | \n",
       "| 0.03021740                        | 0.1034154                         | 0.2921945                         | 0.7706185                         | -0.007253992                      | diet                              | b918d185ee89a0b33d821ee766d76eb3  | 1                                 | \n",
       "\n",
       "\n"
      ],
      "text/plain": [
       "  Estimate   std_err   t_value   p_value   R2           x   \n",
       "1 0.06697120 0.1381164 0.4848897 0.6285965 -0.006059185 diet\n",
       "2 0.06005886 0.1302460 0.4611187 0.6455085 -0.006238437 diet\n",
       "3 0.03021740 0.1034154 0.2921945 0.7706185 -0.007253992 diet\n",
       "  y                                 rep\n",
       "1 X368bd5c2255f3a5ce0fef06ca6de1d04 1  \n",
       "2 X779324e5648460c5a67e577c45131b42 1  \n",
       "3 b918d185ee89a0b33d821ee766d76eb3  1  "
      ]
     },
     "metadata": {},
     "output_type": "display_data"
    }
   ],
   "source": [
    "# running on all OTUs, each permuted tree\n",
    "y = colnames(otu)[10:(ncol(otu)-1)]     # all OTUs\n",
    "ret = plyr::llply(1:length(host_tree_l),\n",
    "                  pgls_each_tree,\n",
    "                  y = y,\n",
    "                  x = 'diet',\n",
    "                  tree_list = host_tree_l,\n",
    "                  data = otu,\n",
    "                  threads = threads)\n",
    "\n",
    "ret = do.call(rbind, ret) %>%\n",
    "    as.data.frame\n",
    "rownames(ret) = 1:nrow(ret)\n",
    "\n",
    "# status\n",
    "ret %>% dfhead"
   ]
  },
  {
   "cell_type": "code",
   "execution_count": 84,
   "metadata": {
    "ExecuteTime": {
     "end_time": "2018-08-23T07:52:06.977502Z",
     "start_time": "2018-08-23T07:24:48.726Z"
    }
   },
   "outputs": [
    {
     "name": "stdout",
     "output_type": "stream",
     "text": [
      "[1] 40800     8\n"
     ]
    },
    {
     "data": {
      "text/html": [
       "<table>\n",
       "<thead><tr><th scope=col>Estimate</th><th scope=col>std_err</th><th scope=col>t_value</th><th scope=col>p_value</th><th scope=col>R2</th><th scope=col>x</th><th scope=col>y</th><th scope=col>rep</th></tr></thead>\n",
       "<tbody>\n",
       "\t<tr><td>0.06697120                       </td><td>0.1381164                        </td><td>0.4848897                        </td><td>0.6285965                        </td><td>-0.006059185                     </td><td>diet                             </td><td>X368bd5c2255f3a5ce0fef06ca6de1d04</td><td>1                                </td></tr>\n",
       "\t<tr><td>0.06005886                       </td><td>0.1302460                        </td><td>0.4611187                        </td><td>0.6455085                        </td><td>-0.006238437                     </td><td>diet                             </td><td>X779324e5648460c5a67e577c45131b42</td><td>1                                </td></tr>\n",
       "\t<tr><td>0.03021740                       </td><td>0.1034154                        </td><td>0.2921945                        </td><td>0.7706185                        </td><td>-0.007253992                     </td><td>diet                             </td><td>b918d185ee89a0b33d821ee766d76eb3 </td><td>1                                </td></tr>\n",
       "</tbody>\n",
       "</table>\n"
      ],
      "text/latex": [
       "\\begin{tabular}{r|llllllll}\n",
       " Estimate & std\\_err & t\\_value & p\\_value & R2 & x & y & rep\\\\\n",
       "\\hline\n",
       "\t 0.06697120                        & 0.1381164                         & 0.4848897                         & 0.6285965                         & -0.006059185                      & diet                              & X368bd5c2255f3a5ce0fef06ca6de1d04 & 1                                \\\\\n",
       "\t 0.06005886                        & 0.1302460                         & 0.4611187                         & 0.6455085                         & -0.006238437                      & diet                              & X779324e5648460c5a67e577c45131b42 & 1                                \\\\\n",
       "\t 0.03021740                        & 0.1034154                         & 0.2921945                         & 0.7706185                         & -0.007253992                      & diet                              & b918d185ee89a0b33d821ee766d76eb3  & 1                                \\\\\n",
       "\\end{tabular}\n"
      ],
      "text/markdown": [
       "\n",
       "Estimate | std_err | t_value | p_value | R2 | x | y | rep | \n",
       "|---|---|---|\n",
       "| 0.06697120                        | 0.1381164                         | 0.4848897                         | 0.6285965                         | -0.006059185                      | diet                              | X368bd5c2255f3a5ce0fef06ca6de1d04 | 1                                 | \n",
       "| 0.06005886                        | 0.1302460                         | 0.4611187                         | 0.6455085                         | -0.006238437                      | diet                              | X779324e5648460c5a67e577c45131b42 | 1                                 | \n",
       "| 0.03021740                        | 0.1034154                         | 0.2921945                         | 0.7706185                         | -0.007253992                      | diet                              | b918d185ee89a0b33d821ee766d76eb3  | 1                                 | \n",
       "\n",
       "\n"
      ],
      "text/plain": [
       "  Estimate   std_err   t_value   p_value   R2           x   \n",
       "1 0.06697120 0.1381164 0.4848897 0.6285965 -0.006059185 diet\n",
       "2 0.06005886 0.1302460 0.4611187 0.6455085 -0.006238437 diet\n",
       "3 0.03021740 0.1034154 0.2921945 0.7706185 -0.007253992 diet\n",
       "  y                                 rep\n",
       "1 X368bd5c2255f3a5ce0fef06ca6de1d04 1  \n",
       "2 X779324e5648460c5a67e577c45131b42 1  \n",
       "3 b918d185ee89a0b33d821ee766d76eb3  1  "
      ]
     },
     "metadata": {},
     "output_type": "display_data"
    }
   ],
   "source": [
    "# formatting results\n",
    "pgls_res = ret %>%\n",
    "    mutate(R2 = R2 %>% as.numeric,\n",
    "           p_value = p_value %>% as.numeric)\n",
    "\n",
    "pgls_res %>% dfhead"
   ]
  },
  {
   "cell_type": "markdown",
   "metadata": {},
   "source": [
    "### Saving output"
   ]
  },
  {
   "cell_type": "code",
   "execution_count": 20,
   "metadata": {
    "ExecuteTime": {
     "end_time": "2018-11-26T18:48:07.896604Z",
     "start_time": "2018-11-26T18:48:07.790Z"
    }
   },
   "outputs": [
    {
     "data": {
      "text/html": [
       "'/ebio/abt3_projects/Georg_animal_feces/data/host_specific/phylosignal/host_TT/PGLS//pgls_IndD_otu-binom.RDS'"
      ],
      "text/latex": [
       "'/ebio/abt3\\_projects/Georg\\_animal\\_feces/data/host\\_specific/phylosignal/host\\_TT/PGLS//pgls\\_IndD\\_otu-binom.RDS'"
      ],
      "text/markdown": [
       "'/ebio/abt3_projects/Georg_animal_feces/data/host_specific/phylosignal/host_TT/PGLS//pgls_IndD_otu-binom.RDS'"
      ],
      "text/plain": [
       "[1] \"/ebio/abt3_projects/Georg_animal_feces/data/host_specific/phylosignal/host_TT/PGLS//pgls_IndD_otu-binom.RDS\""
      ]
     },
     "metadata": {},
     "output_type": "display_data"
    }
   ],
   "source": [
    "# output file name\n",
    "pgls_res_file = file.path(work_dir, 'pgls_IndD_otu-binom.RDS')\n",
    "pgls_res_file"
   ]
  },
  {
   "cell_type": "code",
   "execution_count": 86,
   "metadata": {
    "ExecuteTime": {
     "end_time": "2018-08-23T07:52:07.369275Z",
     "start_time": "2018-08-23T07:24:50.087Z"
    }
   },
   "outputs": [
    {
     "name": "stdout",
     "output_type": "stream",
     "text": [
      "File written: /ebio/abt3_projects/Georg_animal_feces/data/host_specific/phylosignal/host_TT/PGLS//pgls_IndD_otu-binom.RDS \n"
     ]
    }
   ],
   "source": [
    "# saving\n",
    "saveRDS(pgls_res, file=pgls_res_file)\n",
    "cat('File written:', pgls_res_file, '\\n')"
   ]
  },
  {
   "cell_type": "code",
   "execution_count": 21,
   "metadata": {
    "ExecuteTime": {
     "end_time": "2018-11-26T18:48:13.894030Z",
     "start_time": "2018-11-26T18:48:13.639Z"
    }
   },
   "outputs": [
    {
     "name": "stdout",
     "output_type": "stream",
     "text": [
      "[1] 40800     8\n"
     ]
    },
    {
     "data": {
      "text/html": [
       "<table>\n",
       "<thead><tr><th scope=col>Estimate</th><th scope=col>std_err</th><th scope=col>t_value</th><th scope=col>p_value</th><th scope=col>R2</th><th scope=col>x</th><th scope=col>y</th><th scope=col>rep</th></tr></thead>\n",
       "<tbody>\n",
       "\t<tr><td>0.06697120                       </td><td>0.1381164                        </td><td>0.4848897                        </td><td>0.6285965                        </td><td>-0.006059185                     </td><td>diet                             </td><td>X368bd5c2255f3a5ce0fef06ca6de1d04</td><td>1                                </td></tr>\n",
       "\t<tr><td>0.06005886                       </td><td>0.1302460                        </td><td>0.4611187                        </td><td>0.6455085                        </td><td>-0.006238437                     </td><td>diet                             </td><td>X779324e5648460c5a67e577c45131b42</td><td>1                                </td></tr>\n",
       "\t<tr><td>0.03021740                       </td><td>0.1034154                        </td><td>0.2921945                        </td><td>0.7706185                        </td><td>-0.007253992                     </td><td>diet                             </td><td>b918d185ee89a0b33d821ee766d76eb3 </td><td>1                                </td></tr>\n",
       "</tbody>\n",
       "</table>\n"
      ],
      "text/latex": [
       "\\begin{tabular}{r|llllllll}\n",
       " Estimate & std\\_err & t\\_value & p\\_value & R2 & x & y & rep\\\\\n",
       "\\hline\n",
       "\t 0.06697120                        & 0.1381164                         & 0.4848897                         & 0.6285965                         & -0.006059185                      & diet                              & X368bd5c2255f3a5ce0fef06ca6de1d04 & 1                                \\\\\n",
       "\t 0.06005886                        & 0.1302460                         & 0.4611187                         & 0.6455085                         & -0.006238437                      & diet                              & X779324e5648460c5a67e577c45131b42 & 1                                \\\\\n",
       "\t 0.03021740                        & 0.1034154                         & 0.2921945                         & 0.7706185                         & -0.007253992                      & diet                              & b918d185ee89a0b33d821ee766d76eb3  & 1                                \\\\\n",
       "\\end{tabular}\n"
      ],
      "text/markdown": [
       "\n",
       "Estimate | std_err | t_value | p_value | R2 | x | y | rep | \n",
       "|---|---|---|\n",
       "| 0.06697120                        | 0.1381164                         | 0.4848897                         | 0.6285965                         | -0.006059185                      | diet                              | X368bd5c2255f3a5ce0fef06ca6de1d04 | 1                                 | \n",
       "| 0.06005886                        | 0.1302460                         | 0.4611187                         | 0.6455085                         | -0.006238437                      | diet                              | X779324e5648460c5a67e577c45131b42 | 1                                 | \n",
       "| 0.03021740                        | 0.1034154                         | 0.2921945                         | 0.7706185                         | -0.007253992                      | diet                              | b918d185ee89a0b33d821ee766d76eb3  | 1                                 | \n",
       "\n",
       "\n"
      ],
      "text/plain": [
       "  Estimate   std_err   t_value   p_value   R2           x   \n",
       "1 0.06697120 0.1381164 0.4848897 0.6285965 -0.006059185 diet\n",
       "2 0.06005886 0.1302460 0.4611187 0.6455085 -0.006238437 diet\n",
       "3 0.03021740 0.1034154 0.2921945 0.7706185 -0.007253992 diet\n",
       "  y                                 rep\n",
       "1 X368bd5c2255f3a5ce0fef06ca6de1d04 1  \n",
       "2 X779324e5648460c5a67e577c45131b42 1  \n",
       "3 b918d185ee89a0b33d821ee766d76eb3  1  "
      ]
     },
     "metadata": {},
     "output_type": "display_data"
    }
   ],
   "source": [
    "# re-load \n",
    "pgls_res = readRDS(pgls_res_file) \n",
    "pgls_res %>% dfhead"
   ]
  },
  {
   "cell_type": "code",
   "execution_count": 22,
   "metadata": {
    "ExecuteTime": {
     "end_time": "2018-11-26T18:48:16.281098Z",
     "start_time": "2018-11-26T18:48:16.205Z"
    }
   },
   "outputs": [],
   "source": [
    "#send_email('http://127.0.0.1:9705/notebooks/notebooks/16S/4_host_specific/PGLS/02_IndD_OTU-binom.ipynb')"
   ]
  },
  {
   "cell_type": "markdown",
   "metadata": {},
   "source": [
    "### p-adjust"
   ]
  },
  {
   "cell_type": "code",
   "execution_count": 23,
   "metadata": {
    "ExecuteTime": {
     "end_time": "2018-11-26T18:48:18.436097Z",
     "start_time": "2018-11-26T18:48:18.263Z"
    }
   },
   "outputs": [
    {
     "name": "stdout",
     "output_type": "stream",
     "text": [
      "[1] 40800     9\n"
     ]
    },
    {
     "data": {
      "text/html": [
       "<table>\n",
       "<thead><tr><th scope=col>Estimate</th><th scope=col>std_err</th><th scope=col>t_value</th><th scope=col>p_value</th><th scope=col>R2</th><th scope=col>x</th><th scope=col>y</th><th scope=col>rep</th><th scope=col>p_adj_value</th></tr></thead>\n",
       "<tbody>\n",
       "\t<tr><td>0.06697120                       </td><td>0.1381164                        </td><td>0.4848897                        </td><td>0.6285965                        </td><td>-0.006059185                     </td><td>diet                             </td><td>X368bd5c2255f3a5ce0fef06ca6de1d04</td><td>1                                </td><td>0.965357                         </td></tr>\n",
       "\t<tr><td>0.06005886                       </td><td>0.1302460                        </td><td>0.4611187                        </td><td>0.6455085                        </td><td>-0.006238437                     </td><td>diet                             </td><td>X779324e5648460c5a67e577c45131b42</td><td>1                                </td><td>0.965357                         </td></tr>\n",
       "\t<tr><td>0.03021740                       </td><td>0.1034154                        </td><td>0.2921945                        </td><td>0.7706185                        </td><td>-0.007253992                     </td><td>diet                             </td><td>b918d185ee89a0b33d821ee766d76eb3 </td><td>1                                </td><td>0.965357                         </td></tr>\n",
       "</tbody>\n",
       "</table>\n"
      ],
      "text/latex": [
       "\\begin{tabular}{r|lllllllll}\n",
       " Estimate & std\\_err & t\\_value & p\\_value & R2 & x & y & rep & p\\_adj\\_value\\\\\n",
       "\\hline\n",
       "\t 0.06697120                        & 0.1381164                         & 0.4848897                         & 0.6285965                         & -0.006059185                      & diet                              & X368bd5c2255f3a5ce0fef06ca6de1d04 & 1                                 & 0.965357                         \\\\\n",
       "\t 0.06005886                        & 0.1302460                         & 0.4611187                         & 0.6455085                         & -0.006238437                      & diet                              & X779324e5648460c5a67e577c45131b42 & 1                                 & 0.965357                         \\\\\n",
       "\t 0.03021740                        & 0.1034154                         & 0.2921945                         & 0.7706185                         & -0.007253992                      & diet                              & b918d185ee89a0b33d821ee766d76eb3  & 1                                 & 0.965357                         \\\\\n",
       "\\end{tabular}\n"
      ],
      "text/markdown": [
       "\n",
       "Estimate | std_err | t_value | p_value | R2 | x | y | rep | p_adj_value | \n",
       "|---|---|---|\n",
       "| 0.06697120                        | 0.1381164                         | 0.4848897                         | 0.6285965                         | -0.006059185                      | diet                              | X368bd5c2255f3a5ce0fef06ca6de1d04 | 1                                 | 0.965357                          | \n",
       "| 0.06005886                        | 0.1302460                         | 0.4611187                         | 0.6455085                         | -0.006238437                      | diet                              | X779324e5648460c5a67e577c45131b42 | 1                                 | 0.965357                          | \n",
       "| 0.03021740                        | 0.1034154                         | 0.2921945                         | 0.7706185                         | -0.007253992                      | diet                              | b918d185ee89a0b33d821ee766d76eb3  | 1                                 | 0.965357                          | \n",
       "\n",
       "\n"
      ],
      "text/plain": [
       "  Estimate   std_err   t_value   p_value   R2           x   \n",
       "1 0.06697120 0.1381164 0.4848897 0.6285965 -0.006059185 diet\n",
       "2 0.06005886 0.1302460 0.4611187 0.6455085 -0.006238437 diet\n",
       "3 0.03021740 0.1034154 0.2921945 0.7706185 -0.007253992 diet\n",
       "  y                                 rep p_adj_value\n",
       "1 X368bd5c2255f3a5ce0fef06ca6de1d04 1   0.965357   \n",
       "2 X779324e5648460c5a67e577c45131b42 1   0.965357   \n",
       "3 b918d185ee89a0b33d821ee766d76eb3  1   0.965357   "
      ]
     },
     "metadata": {},
     "output_type": "display_data"
    }
   ],
   "source": [
    "# adjusting per subsample rep\n",
    "pgls_res = pgls_res %>%\n",
    "    group_by(rep) %>%\n",
    "    mutate(p_adj_value = p.adjust(p_value, method='BH')) %>%\n",
    "    ungroup()\n",
    "pgls_res %>% dfhead"
   ]
  },
  {
   "cell_type": "markdown",
   "metadata": {},
   "source": [
    "### Plotting"
   ]
  },
  {
   "cell_type": "code",
   "execution_count": 24,
   "metadata": {
    "ExecuteTime": {
     "end_time": "2018-11-26T18:48:20.257891Z",
     "start_time": "2018-11-26T18:48:20.117Z"
    }
   },
   "outputs": [
    {
     "data": {
      "text/plain": [
       "    Estimate           std_err           t_value           p_value      \n",
       " Min.   :-0.72484   Min.   :0.00000   Min.   :-5.3946   Min.   :0.0000  \n",
       " 1st Qu.: 0.01026   1st Qu.:0.09495   1st Qu.: 0.1024   1st Qu.:0.5747  \n",
       " Median : 0.02059   Median :0.10889   Median : 0.1779   Median :0.8118  \n",
       " Mean   : 0.02821   Mean   :0.11355   Mean   : 0.2561   Mean   :0.7086  \n",
       " 3rd Qu.: 0.05779   3rd Qu.:0.13287   3rd Qu.: 0.4878   3rd Qu.:0.8965  \n",
       " Max.   : 0.78466   Max.   :0.24115   Max.   : 6.9348   Max.   :0.9999  \n",
       "                                      NA's   :76        NA's   :76      \n",
       "       R2                x                  y                  rep        \n",
       " Min.   :-0.00794   Length:40800       Length:40800       Min.   :  1.00  \n",
       " 1st Qu.:-0.00780   Class :character   Class :character   1st Qu.: 25.75  \n",
       " Median :-0.00748   Mode  :character   Mode  :character   Median : 50.50  \n",
       " Mean   :-0.00350                                         Mean   : 50.50  \n",
       " 3rd Qu.:-0.00541                                         3rd Qu.: 75.25  \n",
       " Max.   : 0.27050                                         Max.   :100.00  \n",
       " NA's   :76                                                               \n",
       "  p_adj_value    \n",
       " Min.   :0.0000  \n",
       " 1st Qu.:0.9682  \n",
       " Median :0.9745  \n",
       " Mean   :0.9553  \n",
       " 3rd Qu.:0.9787  \n",
       " Max.   :0.9999  \n",
       " NA's   :76      "
      ]
     },
     "metadata": {},
     "output_type": "display_data"
    }
   ],
   "source": [
    "pgls_res %>% summary"
   ]
  },
  {
   "cell_type": "code",
   "execution_count": 25,
   "metadata": {
    "ExecuteTime": {
     "end_time": "2018-11-26T18:48:28.941152Z",
     "start_time": "2018-11-26T18:48:21.347Z"
    }
   },
   "outputs": [
    {
     "name": "stderr",
     "output_type": "stream",
     "text": [
      "Warning message:\n",
      "“Removed 76 rows containing missing values (geom_point).”"
     ]
    },
    {
     "data": {
      "image/png": "[encoded data removed]",
      "text/plain": [
       "plot without title"
      ]
     },
     "metadata": {},
     "output_type": "display_data"
    }
   ],
   "source": [
    "# p-value distribution\n",
    "p = ggplot(pgls_res, aes(R2, p_value)) +\n",
    "    geom_point(alpha=0.3) +\n",
    "    scale_y_log10() +\n",
    "    theme_bw()\n",
    "\n",
    "options(repr.plot.width=5, repr.plot.height=3.5)\n",
    "plot(p)"
   ]
  },
  {
   "cell_type": "code",
   "execution_count": 26,
   "metadata": {
    "ExecuteTime": {
     "end_time": "2018-11-26T18:48:36.877159Z",
     "start_time": "2018-11-26T18:48:22.425Z"
    }
   },
   "outputs": [
    {
     "name": "stderr",
     "output_type": "stream",
     "text": [
      "Warning message:\n",
      "“Removed 76 rows containing missing values (geom_point).”"
     ]
    },
    {
     "data": {
      "image/png": "[encoded data removed]",
      "text/plain": [
       "plot without title"
      ]
     },
     "metadata": {},
     "output_type": "display_data"
    }
   ],
   "source": [
    "# p-adj-value distribution\n",
    "p = ggplot(pgls_res, aes(R2, p_adj_value)) +\n",
    "    geom_point(alpha=0.3) +\n",
    "    scale_y_log10() +\n",
    "    theme_bw() \n",
    "\n",
    "options(repr.plot.width=5, repr.plot.height=3.5)\n",
    "plot(p)"
   ]
  },
  {
   "cell_type": "markdown",
   "metadata": {},
   "source": [
    "### Significant taxa"
   ]
  },
  {
   "cell_type": "code",
   "execution_count": 27,
   "metadata": {
    "ExecuteTime": {
     "end_time": "2018-11-26T18:48:37.103113Z",
     "start_time": "2018-11-26T18:48:25.740Z"
    }
   },
   "outputs": [
    {
     "name": "stdout",
     "output_type": "stream",
     "text": [
      "[1] 2 2\n"
     ]
    },
    {
     "data": {
      "text/html": [
       "<table>\n",
       "<thead><tr><th scope=col>y</th><th scope=col>qvalue</th></tr></thead>\n",
       "<tbody>\n",
       "\t<tr><td>f85d49c62606b3c0c1c26193b82042fd </td><td>0.03                             </td></tr>\n",
       "\t<tr><td>X77de59bab34d87b768a33a0c345419b9</td><td>0.00                             </td></tr>\n",
       "</tbody>\n",
       "</table>\n"
      ],
      "text/latex": [
       "\\begin{tabular}{r|ll}\n",
       " y & qvalue\\\\\n",
       "\\hline\n",
       "\t f85d49c62606b3c0c1c26193b82042fd  & 0.03                             \\\\\n",
       "\t X77de59bab34d87b768a33a0c345419b9 & 0.00                             \\\\\n",
       "\\end{tabular}\n"
      ],
      "text/markdown": [
       "\n",
       "y | qvalue | \n",
       "|---|---|\n",
       "| f85d49c62606b3c0c1c26193b82042fd  | 0.03                              | \n",
       "| X77de59bab34d87b768a33a0c345419b9 | 0.00                              | \n",
       "\n",
       "\n"
      ],
      "text/plain": [
       "  y                                 qvalue\n",
       "1 f85d49c62606b3c0c1c26193b82042fd  0.03  \n",
       "2 X77de59bab34d87b768a33a0c345419b9 0.00  "
      ]
     },
     "metadata": {},
     "output_type": "display_data"
    }
   ],
   "source": [
    "pgls_res_sig = pgls_res %>%\n",
    "    group_by(y) %>%\n",
    "    summarize(\n",
    "        qvalue = (length(p_adj_value) - sum(p_adj_value < 0.05)) / length(p_adj_value)\n",
    "        ) %>%\n",
    "    ungroup() %>%\n",
    "    filter(qvalue < 0.05)\n",
    "\n",
    "pgls_res_sig %>% dfhead"
   ]
  },
  {
   "cell_type": "code",
   "execution_count": 28,
   "metadata": {
    "ExecuteTime": {
     "end_time": "2018-11-26T18:48:37.182434Z",
     "start_time": "2018-11-26T18:48:31.685Z"
    }
   },
   "outputs": [
    {
     "name": "stdout",
     "output_type": "stream",
     "text": [
      "[1] 200   9\n"
     ]
    },
    {
     "data": {
      "text/html": [
       "<table>\n",
       "<thead><tr><th scope=col>Estimate</th><th scope=col>std_err</th><th scope=col>t_value</th><th scope=col>p_value</th><th scope=col>R2</th><th scope=col>x</th><th scope=col>y</th><th scope=col>rep</th><th scope=col>p_adj_value</th></tr></thead>\n",
       "<tbody>\n",
       "\t<tr><td>0.6297347                        </td><td>0.09390671                       </td><td>6.705960                         </td><td>6.043039e-10                     </td><td>0.2571792                        </td><td>diet                             </td><td>X77de59bab34d87b768a33a0c345419b9</td><td>1                                </td><td>2.465560e-07                     </td></tr>\n",
       "\t<tr><td>0.5584820                        </td><td>0.13157347                       </td><td>4.244640                         </td><td>4.210947e-05                     </td><td>0.1181595                        </td><td>diet                             </td><td>f85d49c62606b3c0c1c26193b82042fd </td><td>1                                </td><td>5.726888e-03                     </td></tr>\n",
       "\t<tr><td>0.5392624                        </td><td>0.13457971                       </td><td>4.007011                         </td><td>1.045207e-04                     </td><td>0.1059872                        </td><td>diet                             </td><td>X77de59bab34d87b768a33a0c345419b9</td><td>2                                </td><td>1.414513e-02                     </td></tr>\n",
       "</tbody>\n",
       "</table>\n"
      ],
      "text/latex": [
       "\\begin{tabular}{r|lllllllll}\n",
       " Estimate & std\\_err & t\\_value & p\\_value & R2 & x & y & rep & p\\_adj\\_value\\\\\n",
       "\\hline\n",
       "\t 0.6297347                         & 0.09390671                        & 6.705960                          & 6.043039e-10                      & 0.2571792                         & diet                              & X77de59bab34d87b768a33a0c345419b9 & 1                                 & 2.465560e-07                     \\\\\n",
       "\t 0.5584820                         & 0.13157347                        & 4.244640                          & 4.210947e-05                      & 0.1181595                         & diet                              & f85d49c62606b3c0c1c26193b82042fd  & 1                                 & 5.726888e-03                     \\\\\n",
       "\t 0.5392624                         & 0.13457971                        & 4.007011                          & 1.045207e-04                      & 0.1059872                         & diet                              & X77de59bab34d87b768a33a0c345419b9 & 2                                 & 1.414513e-02                     \\\\\n",
       "\\end{tabular}\n"
      ],
      "text/markdown": [
       "\n",
       "Estimate | std_err | t_value | p_value | R2 | x | y | rep | p_adj_value | \n",
       "|---|---|---|\n",
       "| 0.6297347                         | 0.09390671                        | 6.705960                          | 6.043039e-10                      | 0.2571792                         | diet                              | X77de59bab34d87b768a33a0c345419b9 | 1                                 | 2.465560e-07                      | \n",
       "| 0.5584820                         | 0.13157347                        | 4.244640                          | 4.210947e-05                      | 0.1181595                         | diet                              | f85d49c62606b3c0c1c26193b82042fd  | 1                                 | 5.726888e-03                      | \n",
       "| 0.5392624                         | 0.13457971                        | 4.007011                          | 1.045207e-04                      | 0.1059872                         | diet                              | X77de59bab34d87b768a33a0c345419b9 | 2                                 | 1.414513e-02                      | \n",
       "\n",
       "\n"
      ],
      "text/plain": [
       "  Estimate  std_err    t_value  p_value      R2        x   \n",
       "1 0.6297347 0.09390671 6.705960 6.043039e-10 0.2571792 diet\n",
       "2 0.5584820 0.13157347 4.244640 4.210947e-05 0.1181595 diet\n",
       "3 0.5392624 0.13457971 4.007011 1.045207e-04 0.1059872 diet\n",
       "  y                                 rep p_adj_value \n",
       "1 X77de59bab34d87b768a33a0c345419b9 1   2.465560e-07\n",
       "2 f85d49c62606b3c0c1c26193b82042fd  1   5.726888e-03\n",
       "3 X77de59bab34d87b768a33a0c345419b9 2   1.414513e-02"
      ]
     },
     "metadata": {},
     "output_type": "display_data"
    }
   ],
   "source": [
    "# getting all stats \n",
    "pgls_res_sig = pgls_res %>%\n",
    "    semi_join(pgls_res_sig, c('y'))\n",
    "\n",
    "pgls_res_sig %>% dfhead"
   ]
  },
  {
   "cell_type": "markdown",
   "metadata": {},
   "source": [
    "#### Adding taxonomy"
   ]
  },
  {
   "cell_type": "code",
   "execution_count": 29,
   "metadata": {
    "ExecuteTime": {
     "end_time": "2018-11-26T18:48:37.311543Z",
     "start_time": "2018-11-26T18:48:37.150Z"
    }
   },
   "outputs": [
    {
     "name": "stdout",
     "output_type": "stream",
     "text": [
      "[1] 408   8\n"
     ]
    },
    {
     "data": {
      "text/html": [
       "<table>\n",
       "<thead><tr><th scope=col>Domain</th><th scope=col>Phylum</th><th scope=col>Class</th><th scope=col>Order</th><th scope=col>Family</th><th scope=col>Genus</th><th scope=col>Species</th><th scope=col>OTU</th></tr></thead>\n",
       "<tbody>\n",
       "\t<tr><td>Archaea                         </td><td>Euryarchaeota                   </td><td>Methanobacteria                 </td><td>Methanobacteriales              </td><td>Methanobacteriaceae             </td><td>Methanobrevibacter              </td><td>unclassified                    </td><td>368bd5c2255f3a5ce0fef06ca6de1d04</td></tr>\n",
       "\t<tr><td>Archaea                         </td><td>Euryarchaeota                   </td><td>Methanobacteria                 </td><td>Methanobacteriales              </td><td>Methanobacteriaceae             </td><td>Methanobrevibacter              </td><td>uncultured archaeon             </td><td>779324e5648460c5a67e577c45131b42</td></tr>\n",
       "\t<tr><td>Archaea                         </td><td>Euryarchaeota                   </td><td>Methanobacteria                 </td><td>Methanobacteriales              </td><td>Methanobacteriaceae             </td><td>Methanobrevibacter              </td><td>uncultured archaeon             </td><td>b918d185ee89a0b33d821ee766d76eb3</td></tr>\n",
       "</tbody>\n",
       "</table>\n"
      ],
      "text/latex": [
       "\\begin{tabular}{r|llllllll}\n",
       " Domain & Phylum & Class & Order & Family & Genus & Species & OTU\\\\\n",
       "\\hline\n",
       "\t Archaea                          & Euryarchaeota                    & Methanobacteria                  & Methanobacteriales               & Methanobacteriaceae              & Methanobrevibacter               & unclassified                     & 368bd5c2255f3a5ce0fef06ca6de1d04\\\\\n",
       "\t Archaea                          & Euryarchaeota                    & Methanobacteria                  & Methanobacteriales               & Methanobacteriaceae              & Methanobrevibacter               & uncultured archaeon              & 779324e5648460c5a67e577c45131b42\\\\\n",
       "\t Archaea                          & Euryarchaeota                    & Methanobacteria                  & Methanobacteriales               & Methanobacteriaceae              & Methanobrevibacter               & uncultured archaeon              & b918d185ee89a0b33d821ee766d76eb3\\\\\n",
       "\\end{tabular}\n"
      ],
      "text/markdown": [
       "\n",
       "Domain | Phylum | Class | Order | Family | Genus | Species | OTU | \n",
       "|---|---|---|\n",
       "| Archaea                          | Euryarchaeota                    | Methanobacteria                  | Methanobacteriales               | Methanobacteriaceae              | Methanobrevibacter               | unclassified                     | 368bd5c2255f3a5ce0fef06ca6de1d04 | \n",
       "| Archaea                          | Euryarchaeota                    | Methanobacteria                  | Methanobacteriales               | Methanobacteriaceae              | Methanobrevibacter               | uncultured archaeon              | 779324e5648460c5a67e577c45131b42 | \n",
       "| Archaea                          | Euryarchaeota                    | Methanobacteria                  | Methanobacteriales               | Methanobacteriaceae              | Methanobrevibacter               | uncultured archaeon              | b918d185ee89a0b33d821ee766d76eb3 | \n",
       "\n",
       "\n"
      ],
      "text/plain": [
       "  Domain  Phylum        Class           Order              Family             \n",
       "1 Archaea Euryarchaeota Methanobacteria Methanobacteriales Methanobacteriaceae\n",
       "2 Archaea Euryarchaeota Methanobacteria Methanobacteriales Methanobacteriaceae\n",
       "3 Archaea Euryarchaeota Methanobacteria Methanobacteriales Methanobacteriaceae\n",
       "  Genus              Species             OTU                             \n",
       "1 Methanobrevibacter unclassified        368bd5c2255f3a5ce0fef06ca6de1d04\n",
       "2 Methanobrevibacter uncultured archaeon 779324e5648460c5a67e577c45131b42\n",
       "3 Methanobrevibacter uncultured archaeon b918d185ee89a0b33d821ee766d76eb3"
      ]
     },
     "metadata": {},
     "output_type": "display_data"
    }
   ],
   "source": [
    "tax = physeq %>%\n",
    "    tax_table %>%\n",
    "    as.matrix %>%\n",
    "    as.data.frame %>%\n",
    "    mutate(OTU = rownames(.))\n",
    "\n",
    "tax %>% dfhead"
   ]
  },
  {
   "cell_type": "code",
   "execution_count": 30,
   "metadata": {
    "ExecuteTime": {
     "end_time": "2018-11-26T18:48:39.668454Z",
     "start_time": "2018-11-26T18:48:39.396Z"
    }
   },
   "outputs": [
    {
     "name": "stdout",
     "output_type": "stream",
     "text": [
      "[1] 200  18\n"
     ]
    },
    {
     "data": {
      "text/html": [
       "<table>\n",
       "<thead><tr><th scope=col>Estimate</th><th scope=col>std_err</th><th scope=col>t_value</th><th scope=col>p_value</th><th scope=col>R2</th><th scope=col>x</th><th scope=col>y</th><th scope=col>rep</th><th scope=col>p_adj_value</th><th scope=col>taxonomy</th><th scope=col>OTU</th><th scope=col>Domain</th><th scope=col>Phylum</th><th scope=col>Class</th><th scope=col>Order</th><th scope=col>Family</th><th scope=col>Genus</th><th scope=col>Species</th></tr></thead>\n",
       "<tbody>\n",
       "\t<tr><td>0.6297347                                                                                                  </td><td>0.09390671                                                                                                 </td><td>6.705960                                                                                                   </td><td>6.043039e-10                                                                                               </td><td>0.2571792                                                                                                  </td><td>diet                                                                                                       </td><td>X77de59bab34d87b768a33a0c345419b9                                                                          </td><td>1                                                                                                          </td><td>2.465560e-07                                                                                               </td><td>Bacteroidetes;\n",
       "Bacteroidia; Bacteroidales;\n",
       "Bacteroidaceae; Bacteroides;\n",
       "77de59bab34d87b768a33a0c345419b9</td><td>77de59bab34d87b768a33a0c345419b9                                                                           </td><td>Bacteria                                                                                                   </td><td>Bacteroidetes                                                                                              </td><td>Bacteroidia                                                                                                </td><td>Bacteroidales                                                                                              </td><td>Bacteroidaceae                                                                                             </td><td>Bacteroides                                                                                                </td><td>unclassified                                                                                               </td></tr>\n",
       "\t<tr><td>0.5584820                                                                                                  </td><td>0.13157347                                                                                                 </td><td>4.244640                                                                                                   </td><td>4.210947e-05                                                                                               </td><td>0.1181595                                                                                                  </td><td>diet                                                                                                       </td><td>f85d49c62606b3c0c1c26193b82042fd                                                                           </td><td>1                                                                                                          </td><td>5.726888e-03                                                                                               </td><td>Firmicutes; Clostridia;\n",
       "Clostridiales;\n",
       "Ruminococcaceae; uncultured;\n",
       "f85d49c62606b3c0c1c26193b82042fd    </td><td>f85d49c62606b3c0c1c26193b82042fd                                                                           </td><td>Bacteria                                                                                                   </td><td>Firmicutes                                                                                                 </td><td>Clostridia                                                                                                 </td><td>Clostridiales                                                                                              </td><td>Ruminococcaceae                                                                                            </td><td>uncultured                                                                                                 </td><td>unclassified                                                                                               </td></tr>\n",
       "\t<tr><td>0.5392624                                                                                                  </td><td>0.13457971                                                                                                 </td><td>4.007011                                                                                                   </td><td>1.045207e-04                                                                                               </td><td>0.1059872                                                                                                  </td><td>diet                                                                                                       </td><td>X77de59bab34d87b768a33a0c345419b9                                                                          </td><td>2                                                                                                          </td><td>1.414513e-02                                                                                               </td><td>Bacteroidetes;\n",
       "Bacteroidia; Bacteroidales;\n",
       "Bacteroidaceae; Bacteroides;\n",
       "77de59bab34d87b768a33a0c345419b9</td><td>77de59bab34d87b768a33a0c345419b9                                                                           </td><td>Bacteria                                                                                                   </td><td>Bacteroidetes                                                                                              </td><td>Bacteroidia                                                                                                </td><td>Bacteroidales                                                                                              </td><td>Bacteroidaceae                                                                                             </td><td>Bacteroides                                                                                                </td><td>unclassified                                                                                               </td></tr>\n",
       "</tbody>\n",
       "</table>\n"
      ],
      "text/latex": [
       "\\begin{tabular}{r|llllllllllllllllll}\n",
       " Estimate & std\\_err & t\\_value & p\\_value & R2 & x & y & rep & p\\_adj\\_value & taxonomy & OTU & Domain & Phylum & Class & Order & Family & Genus & Species\\\\\n",
       "\\hline\n",
       "\t 0.6297347                                                                                                   & 0.09390671                                                                                                  & 6.705960                                                                                                    & 6.043039e-10                                                                                                & 0.2571792                                                                                                   & diet                                                                                                        & X77de59bab34d87b768a33a0c345419b9                                                                           & 1                                                                                                           & 2.465560e-07                                                                                                & Bacteroidetes;\n",
       "Bacteroidia; Bacteroidales;\n",
       "Bacteroidaceae; Bacteroides;\n",
       "77de59bab34d87b768a33a0c345419b9 & 77de59bab34d87b768a33a0c345419b9                                                                            & Bacteria                                                                                                    & Bacteroidetes                                                                                               & Bacteroidia                                                                                                 & Bacteroidales                                                                                               & Bacteroidaceae                                                                                              & Bacteroides                                                                                                 & unclassified                                                                                               \\\\\n",
       "\t 0.5584820                                                                                                   & 0.13157347                                                                                                  & 4.244640                                                                                                    & 4.210947e-05                                                                                                & 0.1181595                                                                                                   & diet                                                                                                        & f85d49c62606b3c0c1c26193b82042fd                                                                            & 1                                                                                                           & 5.726888e-03                                                                                                & Firmicutes; Clostridia;\n",
       "Clostridiales;\n",
       "Ruminococcaceae; uncultured;\n",
       "f85d49c62606b3c0c1c26193b82042fd     & f85d49c62606b3c0c1c26193b82042fd                                                                            & Bacteria                                                                                                    & Firmicutes                                                                                                  & Clostridia                                                                                                  & Clostridiales                                                                                               & Ruminococcaceae                                                                                             & uncultured                                                                                                  & unclassified                                                                                               \\\\\n",
       "\t 0.5392624                                                                                                   & 0.13457971                                                                                                  & 4.007011                                                                                                    & 1.045207e-04                                                                                                & 0.1059872                                                                                                   & diet                                                                                                        & X77de59bab34d87b768a33a0c345419b9                                                                           & 2                                                                                                           & 1.414513e-02                                                                                                & Bacteroidetes;\n",
       "Bacteroidia; Bacteroidales;\n",
       "Bacteroidaceae; Bacteroides;\n",
       "77de59bab34d87b768a33a0c345419b9 & 77de59bab34d87b768a33a0c345419b9                                                                            & Bacteria                                                                                                    & Bacteroidetes                                                                                               & Bacteroidia                                                                                                 & Bacteroidales                                                                                               & Bacteroidaceae                                                                                              & Bacteroides                                                                                                 & unclassified                                                                                               \\\\\n",
       "\\end{tabular}\n"
      ],
      "text/markdown": [
       "\n",
       "Estimate | std_err | t_value | p_value | R2 | x | y | rep | p_adj_value | taxonomy | OTU | Domain | Phylum | Class | Order | Family | Genus | Species | \n",
       "|---|---|---|\n",
       "| 0.6297347                                                                                                   | 0.09390671                                                                                                  | 6.705960                                                                                                    | 6.043039e-10                                                                                                | 0.2571792                                                                                                   | diet                                                                                                        | X77de59bab34d87b768a33a0c345419b9                                                                           | 1                                                                                                           | 2.465560e-07                                                                                                | Bacteroidetes;\n",
       "Bacteroidia; Bacteroidales;\n",
       "Bacteroidaceae; Bacteroides;\n",
       "77de59bab34d87b768a33a0c345419b9 | 77de59bab34d87b768a33a0c345419b9                                                                            | Bacteria                                                                                                    | Bacteroidetes                                                                                               | Bacteroidia                                                                                                 | Bacteroidales                                                                                               | Bacteroidaceae                                                                                              | Bacteroides                                                                                                 | unclassified                                                                                                | \n",
       "| 0.5584820                                                                                                   | 0.13157347                                                                                                  | 4.244640                                                                                                    | 4.210947e-05                                                                                                | 0.1181595                                                                                                   | diet                                                                                                        | f85d49c62606b3c0c1c26193b82042fd                                                                            | 1                                                                                                           | 5.726888e-03                                                                                                | Firmicutes; Clostridia;\n",
       "Clostridiales;\n",
       "Ruminococcaceae; uncultured;\n",
       "f85d49c62606b3c0c1c26193b82042fd     | f85d49c62606b3c0c1c26193b82042fd                                                                            | Bacteria                                                                                                    | Firmicutes                                                                                                  | Clostridia                                                                                                  | Clostridiales                                                                                               | Ruminococcaceae                                                                                             | uncultured                                                                                                  | unclassified                                                                                                | \n",
       "| 0.5392624                                                                                                   | 0.13457971                                                                                                  | 4.007011                                                                                                    | 1.045207e-04                                                                                                | 0.1059872                                                                                                   | diet                                                                                                        | X77de59bab34d87b768a33a0c345419b9                                                                           | 2                                                                                                           | 1.414513e-02                                                                                                | Bacteroidetes;\n",
       "Bacteroidia; Bacteroidales;\n",
       "Bacteroidaceae; Bacteroides;\n",
       "77de59bab34d87b768a33a0c345419b9 | 77de59bab34d87b768a33a0c345419b9                                                                            | Bacteria                                                                                                    | Bacteroidetes                                                                                               | Bacteroidia                                                                                                 | Bacteroidales                                                                                               | Bacteroidaceae                                                                                              | Bacteroides                                                                                                 | unclassified                                                                                                | \n",
       "\n",
       "\n"
      ],
      "text/plain": [
       "  Estimate  std_err    t_value  p_value      R2        x   \n",
       "1 0.6297347 0.09390671 6.705960 6.043039e-10 0.2571792 diet\n",
       "2 0.5584820 0.13157347 4.244640 4.210947e-05 0.1181595 diet\n",
       "3 0.5392624 0.13457971 4.007011 1.045207e-04 0.1059872 diet\n",
       "  y                                 rep p_adj_value \n",
       "1 X77de59bab34d87b768a33a0c345419b9 1   2.465560e-07\n",
       "2 f85d49c62606b3c0c1c26193b82042fd  1   5.726888e-03\n",
       "3 X77de59bab34d87b768a33a0c345419b9 2   1.414513e-02\n",
       "  taxonomy                                                                                                   \n",
       "1 Bacteroidetes;\\nBacteroidia; Bacteroidales;\\nBacteroidaceae; Bacteroides;\\n77de59bab34d87b768a33a0c345419b9\n",
       "2 Firmicutes; Clostridia;\\nClostridiales;\\nRuminococcaceae; uncultured;\\nf85d49c62606b3c0c1c26193b82042fd    \n",
       "3 Bacteroidetes;\\nBacteroidia; Bacteroidales;\\nBacteroidaceae; Bacteroides;\\n77de59bab34d87b768a33a0c345419b9\n",
       "  OTU                              Domain   Phylum        Class      \n",
       "1 77de59bab34d87b768a33a0c345419b9 Bacteria Bacteroidetes Bacteroidia\n",
       "2 f85d49c62606b3c0c1c26193b82042fd Bacteria Firmicutes    Clostridia \n",
       "3 77de59bab34d87b768a33a0c345419b9 Bacteria Bacteroidetes Bacteroidia\n",
       "  Order         Family          Genus       Species     \n",
       "1 Bacteroidales Bacteroidaceae  Bacteroides unclassified\n",
       "2 Clostridiales Ruminococcaceae uncultured  unclassified\n",
       "3 Bacteroidales Bacteroidaceae  Bacteroides unclassified"
      ]
     },
     "metadata": {},
     "output_type": "display_data"
    }
   ],
   "source": [
    "# adding taxonomy\n",
    "pgls_res_sig = pgls_res_sig %>%\n",
    "    mutate(OTU = gsub('^X([0-9])', '\\\\1', y)) %>%\n",
    "    inner_join(tax, c('OTU')) %>%\n",
    "    unite(taxonomy, Phylum, Class, Order, Family, Genus, OTU, sep=';', remove=FALSE) %>%\n",
    "    mutate(taxonomy = gsub(' ', '_', taxonomy),\n",
    "           taxonomy = gsub(';', '; ', taxonomy),\n",
    "           taxonomy = stringr::str_wrap(taxonomy, 30))\n",
    "\n",
    "pgls_res_sig %>% dfhead"
   ]
  },
  {
   "cell_type": "markdown",
   "metadata": {
    "ExecuteTime": {
     "end_time": "2018-07-04T07:25:25.682587Z",
     "start_time": "2018-07-04T07:25:25.588Z"
    }
   },
   "source": [
    "#### Plotting"
   ]
  },
  {
   "cell_type": "code",
   "execution_count": 31,
   "metadata": {
    "ExecuteTime": {
     "end_time": "2018-11-26T18:48:49.629370Z",
     "start_time": "2018-11-26T18:48:48.468Z"
    }
   },
   "outputs": [
    {
     "data": {
      "image/png": "[encoded data removed]",
      "text/plain": [
       "plot without title"
      ]
     },
     "metadata": {},
     "output_type": "display_data"
    }
   ],
   "source": [
    "# adj-p-value dist\n",
    "p = ggplot(pgls_res_sig, aes(taxonomy, p_adj_value)) +\n",
    "    geom_boxplot() +\n",
    "    labs(y='Adj. p-value') +\n",
    "    coord_flip() +\n",
    "    theme_bw() +\n",
    "    theme(\n",
    "        axis.text.x = element_text(angle=90, hjust=1, vjust=0.5)\n",
    "    )\n",
    "    \n",
    "options(repr.plot.width=6, repr.plot.height=3)\n",
    "plot(p)"
   ]
  },
  {
   "cell_type": "code",
   "execution_count": 32,
   "metadata": {
    "ExecuteTime": {
     "end_time": "2018-11-26T18:48:59.895010Z",
     "start_time": "2018-11-26T18:48:59.006Z"
    }
   },
   "outputs": [
    {
     "data": {
      "image/png": "[encoded data removed]",
      "text/plain": [
       "plot without title"
      ]
     },
     "metadata": {},
     "output_type": "display_data"
    }
   ],
   "source": [
    "# R2 dist\n",
    "p = ggplot(pgls_res_sig, aes(taxonomy, R2)) +\n",
    "    geom_boxplot() +\n",
    "    labs(x='OTUs (Adj. p-value < 0.05)', y='R^2') +\n",
    "    coord_flip() +\n",
    "    theme_bw() +\n",
    "    theme(\n",
    "        axis.text.x = element_text(angle=90, hjust=1, vjust=0.5)\n",
    "    )\n",
    "    \n",
    "options(repr.plot.width=6, repr.plot.height=3)\n",
    "plot(p)"
   ]
  },
  {
   "cell_type": "code",
   "execution_count": 35,
   "metadata": {
    "ExecuteTime": {
     "end_time": "2018-11-26T18:51:49.258701Z",
     "start_time": "2018-11-26T18:51:47.914Z"
    }
   },
   "outputs": [
    {
     "name": "stdout",
     "output_type": "stream",
     "text": [
      "File written: /ebio/abt3_projects/Georg_animal_feces/data/host_specific/phylosignal/host_TT/PGLS/.figures/IndD_OTU-binom_PGLS-diet.pdf \n"
     ]
    },
    {
     "data": {
      "image/png": "[encoded data removed]",
      "text/plain": [
       "plot without title"
      ]
     },
     "metadata": {},
     "output_type": "display_data"
    }
   ],
   "source": [
    "# combining and plotting\n",
    "p = pgls_res_sig %>%\n",
    "    dplyr::select(taxonomy, R2, p_adj_value) %>%\n",
    "    gather(category, value, -taxonomy) %>%\n",
    "    mutate(category = ifelse(category == 'R2', 'R^2', 'Adj. p-value')) %>%\n",
    "    ggplot(aes(taxonomy, value)) +\n",
    "    geom_boxplot() +\n",
    "    labs(x='OTU', y='value') +\n",
    "    coord_flip() +\n",
    "    facet_grid(. ~ category, scales='free_x') +\n",
    "    theme_bw() +\n",
    "    theme(\n",
    "        axis.text.x = element_text(angle=90, hjust=1, vjust=0.5),\n",
    "        axis.title.x = element_blank()\n",
    "    )\n",
    "\n",
    "options(repr.plot.width=6.5, repr.plot.height=2.25)\n",
    "plot_write(p, file='IndD_OTU-binom_PGLS-diet.pdf')"
   ]
  },
  {
   "cell_type": "markdown",
   "metadata": {},
   "source": [
    "### Diet distribution of sig OTUs"
   ]
  },
  {
   "cell_type": "code",
   "execution_count": 99,
   "metadata": {
    "ExecuteTime": {
     "end_time": "2018-08-23T07:52:24.716889Z",
     "start_time": "2018-08-23T07:25:45.296Z"
    }
   },
   "outputs": [
    {
     "data": {
      "text/html": [
       "<ol class=list-inline>\n",
       "\t<li>'X77de59bab34d87b768a33a0c345419b9'</li>\n",
       "\t<li>'f85d49c62606b3c0c1c26193b82042fd'</li>\n",
       "</ol>\n"
      ],
      "text/latex": [
       "\\begin{enumerate*}\n",
       "\\item 'X77de59bab34d87b768a33a0c345419b9'\n",
       "\\item 'f85d49c62606b3c0c1c26193b82042fd'\n",
       "\\end{enumerate*}\n"
      ],
      "text/markdown": [
       "1. 'X77de59bab34d87b768a33a0c345419b9'\n",
       "2. 'f85d49c62606b3c0c1c26193b82042fd'\n",
       "\n",
       "\n"
      ],
      "text/plain": [
       "[1] \"X77de59bab34d87b768a33a0c345419b9\" \"f85d49c62606b3c0c1c26193b82042fd\" "
      ]
     },
     "metadata": {},
     "output_type": "display_data"
    }
   ],
   "source": [
    "to_keep = pgls_res_sig$y %>% unique %>% as.character\n",
    "to_keep"
   ]
  },
  {
   "cell_type": "code",
   "execution_count": 100,
   "metadata": {
    "ExecuteTime": {
     "end_time": "2018-08-23T07:52:25.799621Z",
     "start_time": "2018-08-23T07:25:45.729Z"
    }
   },
   "outputs": [
    {
     "name": "stdout",
     "output_type": "stream",
     "text": [
      "[1] 426   4\n"
     ]
    },
    {
     "data": {
      "text/html": [
       "<table>\n",
       "<thead><tr><th scope=col>OTU</th><th scope=col>Sample</th><th scope=col>Count</th><th scope=col>diet</th></tr></thead>\n",
       "<tbody>\n",
       "\t<tr><td>X77de59bab34d87b768a33a0c345419b9</td><td>X1.Eurasian.Beaver               </td><td>0                                </td><td>herbivore                        </td></tr>\n",
       "\t<tr><td>f85d49c62606b3c0c1c26193b82042fd </td><td>X1.Eurasian.Beaver               </td><td>0                                </td><td>herbivore                        </td></tr>\n",
       "\t<tr><td>X77de59bab34d87b768a33a0c345419b9</td><td>X101.Horse                       </td><td>0                                </td><td>herbivore                        </td></tr>\n",
       "</tbody>\n",
       "</table>\n"
      ],
      "text/latex": [
       "\\begin{tabular}{r|llll}\n",
       " OTU & Sample & Count & diet\\\\\n",
       "\\hline\n",
       "\t X77de59bab34d87b768a33a0c345419b9 & X1.Eurasian.Beaver                & 0                                 & herbivore                        \\\\\n",
       "\t f85d49c62606b3c0c1c26193b82042fd  & X1.Eurasian.Beaver                & 0                                 & herbivore                        \\\\\n",
       "\t X77de59bab34d87b768a33a0c345419b9 & X101.Horse                        & 0                                 & herbivore                        \\\\\n",
       "\\end{tabular}\n"
      ],
      "text/markdown": [
       "\n",
       "OTU | Sample | Count | diet | \n",
       "|---|---|---|\n",
       "| X77de59bab34d87b768a33a0c345419b9 | X1.Eurasian.Beaver                | 0                                 | herbivore                         | \n",
       "| f85d49c62606b3c0c1c26193b82042fd  | X1.Eurasian.Beaver                | 0                                 | herbivore                         | \n",
       "| X77de59bab34d87b768a33a0c345419b9 | X101.Horse                        | 0                                 | herbivore                         | \n",
       "\n",
       "\n"
      ],
      "text/plain": [
       "  OTU                               Sample             Count diet     \n",
       "1 X77de59bab34d87b768a33a0c345419b9 X1.Eurasian.Beaver 0     herbivore\n",
       "2 f85d49c62606b3c0c1c26193b82042fd  X1.Eurasian.Beaver 0     herbivore\n",
       "3 X77de59bab34d87b768a33a0c345419b9 X101.Horse         0     herbivore"
      ]
     },
     "metadata": {},
     "output_type": "display_data"
    }
   ],
   "source": [
    "# phyloseq\n",
    "otu = physeq %>%\n",
    "    otu_table %>%\n",
    "    as.matrix %>%\n",
    "    as.data.frame %>%\n",
    "    mutate(OTU = gsub('^([0-9])', 'X\\\\1', rownames(.))) %>%\n",
    "    filter(OTU %in% to_keep) %>%\n",
    "    gather(Sample, Count, -OTU) %>%\n",
    "    inner_join(metadata %>% dplyr::select(X.SampleID, diet),\n",
    "               c('Sample'='X.SampleID'))\n",
    "\n",
    "otu %>% dfhead"
   ]
  },
  {
   "cell_type": "code",
   "execution_count": 101,
   "metadata": {
    "ExecuteTime": {
     "end_time": "2018-08-23T07:52:27.151586Z",
     "start_time": "2018-08-23T07:25:46.216Z"
    }
   },
   "outputs": [
    {
     "name": "stderr",
     "output_type": "stream",
     "text": [
      "`stat_bin()` using `bins = 30`. Pick better value with `binwidth`.\n"
     ]
    },
    {
     "data": {
      "image/png": "[encoded data removed]",
      "text/plain": [
       "plot without title"
      ]
     },
     "metadata": {},
     "output_type": "display_data"
    }
   ],
   "source": [
    "p = ggplot(otu, aes(Count)) +\n",
    "    geom_histogram() +\n",
    "    facet_grid(diet~OTU) +\n",
    "    theme_bw()\n",
    "\n",
    "plot(p)"
   ]
  },
  {
   "cell_type": "markdown",
   "metadata": {},
   "source": [
    "### Host distribution of sig. OTUs\n",
    "\n",
    "* Which hosts have these OTUs?"
   ]
  },
  {
   "cell_type": "code",
   "execution_count": 102,
   "metadata": {
    "ExecuteTime": {
     "end_time": "2018-08-23T07:52:27.192123Z",
     "start_time": "2018-08-23T07:25:47.336Z"
    }
   },
   "outputs": [
    {
     "data": {
      "text/html": [
       "<ol class=list-inline>\n",
       "\t<li>'X77de59bab34d87b768a33a0c345419b9'</li>\n",
       "\t<li>'f85d49c62606b3c0c1c26193b82042fd'</li>\n",
       "</ol>\n"
      ],
      "text/latex": [
       "\\begin{enumerate*}\n",
       "\\item 'X77de59bab34d87b768a33a0c345419b9'\n",
       "\\item 'f85d49c62606b3c0c1c26193b82042fd'\n",
       "\\end{enumerate*}\n"
      ],
      "text/markdown": [
       "1. 'X77de59bab34d87b768a33a0c345419b9'\n",
       "2. 'f85d49c62606b3c0c1c26193b82042fd'\n",
       "\n",
       "\n"
      ],
      "text/plain": [
       "[1] \"X77de59bab34d87b768a33a0c345419b9\" \"f85d49c62606b3c0c1c26193b82042fd\" "
      ]
     },
     "metadata": {},
     "output_type": "display_data"
    }
   ],
   "source": [
    "to_keep = pgls_res_sig$y %>% unique %>% as.character\n",
    "to_keep"
   ]
  },
  {
   "cell_type": "code",
   "execution_count": 103,
   "metadata": {
    "ExecuteTime": {
     "end_time": "2018-08-23T07:52:28.217620Z",
     "start_time": "2018-08-23T07:25:48.473Z"
    }
   },
   "outputs": [
    {
     "name": "stdout",
     "output_type": "stream",
     "text": [
      "[1]   2 213\n"
     ]
    },
    {
     "data": {
      "text/html": [
       "<table>\n",
       "<thead><tr><th></th><th scope=col>X1.Eurasian.Beaver</th><th scope=col>X101.Horse</th><th scope=col>X102.Kulan</th><th scope=col>X109.Red.Fox</th><th scope=col>X110.Noctule</th><th scope=col>X111.West.European.Hedgehog</th><th scope=col>X116.Common.Kestrel</th><th scope=col>X122.Wild.Boar</th><th scope=col>X123.Alpine.Chamois</th><th scope=col>X124.Golden.Jackal</th><th scope=col>⋯</th><th scope=col>F45.Red.Deer</th><th scope=col>F47.Red.Deer</th><th scope=col>F48.Red.Deer</th><th scope=col>F53.Mouflon</th><th scope=col>F66.Wild.Boar</th><th scope=col>F68.Red.Deer</th><th scope=col>F69.Red.Deer</th><th scope=col>F70.Red.Deer</th><th scope=col>F80.Red.Deer</th><th scope=col>F90.Domestic.Dog</th></tr></thead>\n",
       "<tbody>\n",
       "\t<tr><th scope=row>X77de59bab34d87b768a33a0c345419b9</th><td>0</td><td>0</td><td>0</td><td>0</td><td>0</td><td>0</td><td>0</td><td>0</td><td>0</td><td>0</td><td>⋯</td><td>0</td><td>0</td><td>0</td><td>0</td><td>0</td><td>0</td><td>0</td><td>0</td><td>0</td><td>0</td></tr>\n",
       "\t<tr><th scope=row>f85d49c62606b3c0c1c26193b82042fd</th><td>0</td><td>0</td><td>0</td><td>0</td><td>0</td><td>0</td><td>0</td><td>0</td><td>0</td><td>0</td><td>⋯</td><td>1</td><td>1</td><td>1</td><td>1</td><td>0</td><td>1</td><td>1</td><td>1</td><td>1</td><td>0</td></tr>\n",
       "</tbody>\n",
       "</table>\n"
      ],
      "text/latex": [
       "\\begin{tabular}{r|lllllllllllllllllllllllllllllllllllllllllllllllllllllllllllllllllllllllllllllllllllllllllllllllllllllllllllllllllllllllllllllllllllllllllllllllllllllllllllllllllllllllllllllllllllllllllllllllllllllllllllllllllllll}\n",
       "  & X1.Eurasian.Beaver & X101.Horse & X102.Kulan & X109.Red.Fox & X110.Noctule & X111.West.European.Hedgehog & X116.Common.Kestrel & X122.Wild.Boar & X123.Alpine.Chamois & X124.Golden.Jackal & ⋯ & F45.Red.Deer & F47.Red.Deer & F48.Red.Deer & F53.Mouflon & F66.Wild.Boar & F68.Red.Deer & F69.Red.Deer & F70.Red.Deer & F80.Red.Deer & F90.Domestic.Dog\\\\\n",
       "\\hline\n",
       "\tX77de59bab34d87b768a33a0c345419b9 & 0 & 0 & 0 & 0 & 0 & 0 & 0 & 0 & 0 & 0 & ⋯ & 0 & 0 & 0 & 0 & 0 & 0 & 0 & 0 & 0 & 0\\\\\n",
       "\tf85d49c62606b3c0c1c26193b82042fd & 0 & 0 & 0 & 0 & 0 & 0 & 0 & 0 & 0 & 0 & ⋯ & 1 & 1 & 1 & 1 & 0 & 1 & 1 & 1 & 1 & 0\\\\\n",
       "\\end{tabular}\n"
      ],
      "text/markdown": [
       "\n",
       "| <!--/--> | X1.Eurasian.Beaver | X101.Horse | X102.Kulan | X109.Red.Fox | X110.Noctule | X111.West.European.Hedgehog | X116.Common.Kestrel | X122.Wild.Boar | X123.Alpine.Chamois | X124.Golden.Jackal | ⋯ | F45.Red.Deer | F47.Red.Deer | F48.Red.Deer | F53.Mouflon | F66.Wild.Boar | F68.Red.Deer | F69.Red.Deer | F70.Red.Deer | F80.Red.Deer | F90.Domestic.Dog | \n",
       "|---|---|\n",
       "| X77de59bab34d87b768a33a0c345419b9 | 0 | 0 | 0 | 0 | 0 | 0 | 0 | 0 | 0 | 0 | ⋯ | 0 | 0 | 0 | 0 | 0 | 0 | 0 | 0 | 0 | 0 | \n",
       "| f85d49c62606b3c0c1c26193b82042fd | 0 | 0 | 0 | 0 | 0 | 0 | 0 | 0 | 0 | 0 | ⋯ | 1 | 1 | 1 | 1 | 0 | 1 | 1 | 1 | 1 | 0 | \n",
       "\n",
       "\n"
      ],
      "text/plain": [
       "                                  X1.Eurasian.Beaver X101.Horse X102.Kulan\n",
       "X77de59bab34d87b768a33a0c345419b9 0                  0          0         \n",
       "f85d49c62606b3c0c1c26193b82042fd  0                  0          0         \n",
       "                                  X109.Red.Fox X110.Noctule\n",
       "X77de59bab34d87b768a33a0c345419b9 0            0           \n",
       "f85d49c62606b3c0c1c26193b82042fd  0            0           \n",
       "                                  X111.West.European.Hedgehog\n",
       "X77de59bab34d87b768a33a0c345419b9 0                          \n",
       "f85d49c62606b3c0c1c26193b82042fd  0                          \n",
       "                                  X116.Common.Kestrel X122.Wild.Boar\n",
       "X77de59bab34d87b768a33a0c345419b9 0                   0             \n",
       "f85d49c62606b3c0c1c26193b82042fd  0                   0             \n",
       "                                  X123.Alpine.Chamois X124.Golden.Jackal ⋯\n",
       "X77de59bab34d87b768a33a0c345419b9 0                   0                  ⋯\n",
       "f85d49c62606b3c0c1c26193b82042fd  0                   0                  ⋯\n",
       "                                  F45.Red.Deer F47.Red.Deer F48.Red.Deer\n",
       "X77de59bab34d87b768a33a0c345419b9 0            0            0           \n",
       "f85d49c62606b3c0c1c26193b82042fd  1            1            1           \n",
       "                                  F53.Mouflon F66.Wild.Boar F68.Red.Deer\n",
       "X77de59bab34d87b768a33a0c345419b9 0           0             0           \n",
       "f85d49c62606b3c0c1c26193b82042fd  1           0             1           \n",
       "                                  F69.Red.Deer F70.Red.Deer F80.Red.Deer\n",
       "X77de59bab34d87b768a33a0c345419b9 0            0            0           \n",
       "f85d49c62606b3c0c1c26193b82042fd  1            1            1           \n",
       "                                  F90.Domestic.Dog\n",
       "X77de59bab34d87b768a33a0c345419b9 0               \n",
       "f85d49c62606b3c0c1c26193b82042fd  0               "
      ]
     },
     "metadata": {},
     "output_type": "display_data"
    }
   ],
   "source": [
    "# phyloseq\n",
    "otu = physeq %>%\n",
    "    otu_table %>%\n",
    "    as.matrix %>%\n",
    "    as.data.frame %>%\n",
    "    mutate(OTU = gsub('^([0-9])', 'X\\\\1', rownames(.))) %>%\n",
    "    filter(OTU %in% to_keep) %>%\n",
    "    as.data.frame\n",
    "\n",
    "rownames(otu) = otu$OTU\n",
    "otu$OTU = NULL\n",
    "\n",
    "otu %>% dfhead"
   ]
  },
  {
   "cell_type": "code",
   "execution_count": 104,
   "metadata": {
    "ExecuteTime": {
     "end_time": "2018-08-23T07:52:28.609058Z",
     "start_time": "2018-08-23T07:25:48.761Z"
    }
   },
   "outputs": [
    {
     "name": "stderr",
     "output_type": "stream",
     "text": [
      "Warning message in if (color_scheme == \"color\") {:\n",
      "“the condition has length > 1 and only the first element will be used”"
     ]
    },
    {
     "name": "stdout",
     "output_type": "stream",
     "text": [
      "File written: /ebio/abt3_projects/Georg_animal_feces/data/host_specific/phylosignal/host_TT/PGLS//IndD_OTU-binom_PGLS-sig_itol-htmp.txt \n"
     ]
    }
   ],
   "source": [
    "htmp_file = file.path(work_dir, 'IndD_OTU-binom_PGLS-sig_itol-htmp.txt')\n",
    "itol_heatmap(otu %>% t, 'PGLS_sig_OTUs', htmp_file)"
   ]
  },
  {
   "cell_type": "markdown",
   "metadata": {},
   "source": [
    "# sessionInfo"
   ]
  },
  {
   "cell_type": "code",
   "execution_count": 61,
   "metadata": {
    "ExecuteTime": {
     "end_time": "2018-08-22T08:46:43.700353Z",
     "start_time": "2018-08-22T08:48:15.520Z"
    }
   },
   "outputs": [
    {
     "data": {
      "text/plain": [
       "R version 3.4.1 (2017-06-30)\n",
       "Platform: x86_64-pc-linux-gnu (64-bit)\n",
       "Running under: Ubuntu 18.04.1 LTS\n",
       "\n",
       "Matrix products: default\n",
       "BLAS: /ebio/abt3_projects/software/miniconda3_gt4.4/envs/py3_physeq_phylo/lib/R/lib/libRblas.so\n",
       "LAPACK: /ebio/abt3_projects/software/miniconda3_gt4.4/envs/py3_physeq_phylo/lib/R/lib/libRlapack.so\n",
       "\n",
       "locale:\n",
       "[1] en_US.UTF-8\n",
       "\n",
       "attached base packages:\n",
       "[1] stats     graphics  grDevices utils     datasets  methods   base     \n",
       "\n",
       "other attached packages:\n",
       " [1] bindrcpp_0.2.2  caper_1.0.1     mvtnorm_1.0-6   MASS_7.3-50    \n",
       " [5] ade4_1.7-11     phyloseq_1.22.3 ape_5.1         ggplot2_3.0.0  \n",
       " [9] tidyr_0.8.1     dplyr_0.7.6    \n",
       "\n",
       "loaded via a namespace (and not attached):\n",
       " [1] Rcpp_0.12.17        lattice_0.20-34     Biostrings_2.46.0  \n",
       " [4] assertthat_0.2.0    digest_0.6.15       foreach_1.4.4      \n",
       " [7] IRdisplay_0.4.4     R6_2.2.2            plyr_1.8.4         \n",
       "[10] repr_0.15.0         stats4_3.4.1        evaluate_0.10.1    \n",
       "[13] pillar_1.2.2        zlibbioc_1.24.0     rlang_0.2.1        \n",
       "[16] lazyeval_0.2.1      uuid_0.1-2          data.table_1.11.4  \n",
       "[19] vegan_2.4-3         S4Vectors_0.16.0    Matrix_1.2-14      \n",
       "[22] labeling_0.3        splines_3.4.1       stringr_1.3.1      \n",
       "[25] igraph_1.2.1        munsell_0.5.0       compiler_3.4.1     \n",
       "[28] pkgconfig_2.0.1     BiocGenerics_0.24.0 base64enc_0.1-3    \n",
       "[31] multtest_2.34.0     mgcv_1.8-24         htmltools_0.3.6    \n",
       "[34] biomformat_1.6.0    tidyselect_0.2.4    tibble_1.4.2       \n",
       "[37] IRanges_2.12.0      codetools_0.2-15    permute_0.9-4      \n",
       "[40] crayon_1.3.4        withr_2.1.1         grid_3.4.1         \n",
       "[43] nlme_3.1-131        jsonlite_1.5        gtable_0.2.0       \n",
       "[46] magrittr_1.5        scales_0.5.0        stringi_1.2.3      \n",
       "[49] XVector_0.18.0      reshape2_1.4.3      doParallel_1.0.11  \n",
       "[52] IRkernel_0.8.12     iterators_1.0.10    tools_3.4.1        \n",
       "[55] Biobase_2.38.0      glue_1.3.0          purrr_0.2.4        \n",
       "[58] parallel_3.4.1      survival_2.42-6     colorspace_1.3-2   \n",
       "[61] rhdf5_2.22.0        cluster_2.0.6       pbdZMQ_0.3-2       \n",
       "[64] bindr_0.1.1        "
      ]
     },
     "metadata": {},
     "output_type": "display_data"
    }
   ],
   "source": [
    "sessionInfo()"
   ]
  }
 ],
 "metadata": {
  "kernelspec": {
   "display_name": "R [conda env:py3_physeq_phylo]",
   "language": "R",
   "name": "conda-env-py3_physeq_phylo-r"
  },
  "language_info": {
   "codemirror_mode": "r",
   "file_extension": ".r",
   "mimetype": "text/x-r-source",
   "name": "R",
   "pygments_lexer": "r",
   "version": "3.4.1"
  },
  "notify_time": "30",
  "toc": {
   "base_numbering": 1,
   "nav_menu": {},
   "number_sections": true,
   "sideBar": true,
   "skip_h1_title": false,
   "title_cell": "Table of Contents",
   "title_sidebar": "Contents",
   "toc_cell": true,
   "toc_position": {
    "height": "1209px",
    "left": "0px",
    "right": "1068px",
    "top": "111px",
    "width": "212px"
   },
   "toc_section_display": "block",
   "toc_window_display": true
  }
 },
 "nbformat": 4,
 "nbformat_minor": 2
}
