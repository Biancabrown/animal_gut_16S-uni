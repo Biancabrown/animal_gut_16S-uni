{
 "cells": [
  {
   "cell_type": "markdown",
   "metadata": {},
   "source": [
    "# Goal\n",
    "\n",
    "* Run `paco` analysis on IndD dataset summed by host"
   ]
  },
  {
   "cell_type": "markdown",
   "metadata": {},
   "source": [
    "# Var"
   ]
  },
  {
   "cell_type": "code",
   "execution_count": 1,
   "metadata": {
    "ExecuteTime": {
     "end_time": "2018-07-10T13:59:32.767604Z",
     "start_time": "2018-07-10T13:59:32.241Z"
    }
   },
   "outputs": [],
   "source": [
    "work_dir = '/ebio/abt3_projects/Georg_animal_feces/data/host_specific/pcao/host_TT/'\n",
    "\n",
    "# phyloseq\n",
    "physeq_file = '/ebio/abt3_projects/Georg_animal_feces/data/16S/LLA/phyloseq/physeq_r5k.RDS'\n",
    "\n",
    "# host phylogeny\n",
    "host_tree_file = '/ebio/abt3_projects/Georg_animal_feces/data/animal/phylogeny/TT/unified_metadata_complete_20180625_rn_16S-r5k_IndD.nwk'\n",
    "\n",
    "# misc\n",
    "sparsity_cutoff = 0.05\n"
   ]
  },
  {
   "cell_type": "markdown",
   "metadata": {},
   "source": [
    "# Init"
   ]
  },
  {
   "cell_type": "code",
   "execution_count": 2,
   "metadata": {
    "ExecuteTime": {
     "end_time": "2018-07-10T13:59:45.328951Z",
     "start_time": "2018-07-10T13:59:32.489Z"
    }
   },
   "outputs": [
    {
     "name": "stderr",
     "output_type": "stream",
     "text": [
      "\n",
      "Attaching package: ‘dplyr’\n",
      "\n",
      "The following objects are masked from ‘package:stats’:\n",
      "\n",
      "    filter, lag\n",
      "\n",
      "The following objects are masked from ‘package:base’:\n",
      "\n",
      "    intersect, setdiff, setequal, union\n",
      "\n",
      "Warning message:\n",
      "“package ‘stringr’ was built under R version 3.4.3”"
     ]
    }
   ],
   "source": [
    "library(dplyr)\n",
    "library(tidyr)\n",
    "library(ggplot2)\n",
    "library(stringr)\n",
    "library(phyloseq)\n",
    "library(ape)\n",
    "library(paco)\n",
    "library(future)\n",
    "library(future.batchtools)\n",
    "source('/ebio/abt3_projects/Georg_animal_feces/code/init.R') "
   ]
  },
  {
   "cell_type": "code",
   "execution_count": 3,
   "metadata": {
    "ExecuteTime": {
     "end_time": "2018-07-10T13:59:45.679463Z",
     "start_time": "2018-07-10T13:59:32.632Z"
    }
   },
   "outputs": [
    {
     "name": "stdout",
     "output_type": "stream",
     "text": [
      "Directory already exists: /ebio/abt3_projects/Georg_animal_feces/data/host_specific/pcao/host_TT/ \n"
     ]
    }
   ],
   "source": [
    "make_dir(work_dir)\n",
    "setwd(work_dir)"
   ]
  },
  {
   "cell_type": "code",
   "execution_count": 4,
   "metadata": {
    "ExecuteTime": {
     "end_time": "2018-07-10T13:59:45.716835Z",
     "start_time": "2018-07-10T13:59:32.782Z"
    }
   },
   "outputs": [],
   "source": [
    "rescale_dist_mtx = function(m){\n",
    "    m = m %>% as.matrix\n",
    "    labs = m %>% colnames\n",
    "    n_row = m %>% nrow\n",
    "    n_col = m %>% ncol\n",
    "    x = m %>% as.vector \n",
    "    x = scales::rescale(x) \n",
    "    m = matrix(x, nrow=n_row, ncol=n_col)\n",
    "    colnames(m) = labs\n",
    "    rownames(m) = labs\n",
    "    m = m %>% as.dist\n",
    "    return(m)\n",
    "}"
   ]
  },
  {
   "cell_type": "markdown",
   "metadata": {},
   "source": [
    "# Load"
   ]
  },
  {
   "cell_type": "code",
   "execution_count": 5,
   "metadata": {
    "ExecuteTime": {
     "end_time": "2018-07-10T13:59:47.186106Z",
     "start_time": "2018-07-10T13:59:33.982Z"
    }
   },
   "outputs": [
    {
     "data": {
      "text/plain": [
       "phyloseq-class experiment-level object\n",
       "otu_table()   OTU Table:         [ 30290 taxa and 213 samples ]\n",
       "sample_data() Sample Data:       [ 213 samples by 171 sample variables ]\n",
       "tax_table()   Taxonomy Table:    [ 30290 taxa by 7 taxonomic ranks ]\n",
       "phy_tree()    Phylogenetic Tree: [ 30290 tips and 29752 internal nodes ]"
      ]
     },
     "metadata": {},
     "output_type": "display_data"
    }
   ],
   "source": [
    "physeq = readRDS(physeq_file)\n",
    "physeq"
   ]
  },
  {
   "cell_type": "code",
   "execution_count": 6,
   "metadata": {
    "ExecuteTime": {
     "end_time": "2018-07-10T13:59:47.233615Z",
     "start_time": "2018-07-10T13:59:34.099Z"
    }
   },
   "outputs": [
    {
     "data": {
      "text/plain": [
       "\n",
       "Phylogenetic tree with 213 tips and 177 internal nodes.\n",
       "\n",
       "Tip labels:\n",
       "\tX256.Zander, F302.Northern.Pike, X188.Brook.Trout, F300.Asp, X330.Ide, X327.Silver.Bream, ...\n",
       "Node labels:\n",
       "\t, @_22_@, @_8_@, @_7_@, @_20_@, @_17_@, ...\n",
       "\n",
       "Rooted; includes branch lengths."
      ]
     },
     "metadata": {},
     "output_type": "display_data"
    }
   ],
   "source": [
    "host_tree = read.tree(host_tree_file)\n",
    "host_tree"
   ]
  },
  {
   "cell_type": "markdown",
   "metadata": {},
   "source": [
    "# Filtering dataset"
   ]
  },
  {
   "cell_type": "markdown",
   "metadata": {},
   "source": [
    "## OTU table"
   ]
  },
  {
   "cell_type": "code",
   "execution_count": 7,
   "metadata": {
    "ExecuteTime": {
     "end_time": "2018-07-10T13:59:47.314392Z",
     "start_time": "2018-07-10T13:59:35.112Z"
    }
   },
   "outputs": [
    {
     "data": {
      "text/plain": [
       "   Min. 1st Qu.  Median    Mean 3rd Qu.    Max. \n",
       "   5000    5000    5000    5000    5000    5000 "
      ]
     },
     "metadata": {},
     "output_type": "display_data"
    }
   ],
   "source": [
    "physeq %>%\n",
    "    otu_table %>% \n",
    "    colSums %>%\n",
    "    summary"
   ]
  },
  {
   "cell_type": "code",
   "execution_count": 8,
   "metadata": {
    "ExecuteTime": {
     "end_time": "2018-07-10T13:59:51.775692Z",
     "start_time": "2018-07-10T13:59:35.232Z"
    }
   },
   "outputs": [
    {
     "data": {
      "text/plain": [
       "phyloseq-class experiment-level object\n",
       "otu_table()   OTU Table:         [ 408 taxa and 213 samples ]\n",
       "sample_data() Sample Data:       [ 213 samples by 171 sample variables ]\n",
       "tax_table()   Taxonomy Table:    [ 408 taxa by 7 taxonomic ranks ]\n",
       "phy_tree()    Phylogenetic Tree: [ 408 tips and 406 internal nodes ]"
      ]
     },
     "metadata": {},
     "output_type": "display_data"
    }
   ],
   "source": [
    "physeq = physeq %>%\n",
    "    filter_taxa(function(x) sum(x > 0) / length(x) > sparsity_cutoff, TRUE) \n",
    "physeq"
   ]
  },
  {
   "cell_type": "code",
   "execution_count": 9,
   "metadata": {
    "ExecuteTime": {
     "end_time": "2018-07-10T13:59:52.013342Z",
     "start_time": "2018-07-10T13:59:35.368Z"
    }
   },
   "outputs": [
    {
     "name": "stdout",
     "output_type": "stream",
     "text": [
      "[1] 213   2\n"
     ]
    },
    {
     "data": {
      "text/html": [
       "<table>\n",
       "<thead><tr><th></th><th scope=col>SampleID</th><th scope=col>scientific_name</th></tr></thead>\n",
       "<tbody>\n",
       "\t<tr><th scope=row>X1.Eurasian.Beaver</th><td>X1.Eurasian.Beaver</td><td>Castor_fiber      </td></tr>\n",
       "\t<tr><th scope=row>X101.Horse</th><td>X101.Horse        </td><td>Equus_caballus    </td></tr>\n",
       "\t<tr><th scope=row>X102.Kulan</th><td>X102.Kulan        </td><td>Equus_hemionus    </td></tr>\n",
       "</tbody>\n",
       "</table>\n"
      ],
      "text/latex": [
       "\\begin{tabular}{r|ll}\n",
       "  & SampleID & scientific\\_name\\\\\n",
       "\\hline\n",
       "\tX1.Eurasian.Beaver & X1.Eurasian.Beaver & Castor\\_fiber    \\\\\n",
       "\tX101.Horse & X101.Horse         & Equus\\_caballus  \\\\\n",
       "\tX102.Kulan & X102.Kulan         & Equus\\_hemionus  \\\\\n",
       "\\end{tabular}\n"
      ],
      "text/markdown": [
       "\n",
       "| <!--/--> | SampleID | scientific_name | \n",
       "|---|---|---|\n",
       "| X1.Eurasian.Beaver | X1.Eurasian.Beaver | Castor_fiber       | \n",
       "| X101.Horse | X101.Horse         | Equus_caballus     | \n",
       "| X102.Kulan | X102.Kulan         | Equus_hemionus     | \n",
       "\n",
       "\n"
      ],
      "text/plain": [
       "                   SampleID           scientific_name\n",
       "X1.Eurasian.Beaver X1.Eurasian.Beaver Castor_fiber   \n",
       "X101.Horse         X101.Horse         Equus_caballus \n",
       "X102.Kulan         X102.Kulan         Equus_hemionus "
      ]
     },
     "metadata": {},
     "output_type": "display_data"
    }
   ],
   "source": [
    "metadata = physeq %>%\n",
    "    sample_data %>%\n",
    "    dplyr::select(X.SampleID, scientific_name) %>%\n",
    "    rename('SampleID' = X.SampleID) %>%\n",
    "    as.data.frame\n",
    "\n",
    "rownames(metadata) = metadata$SampleID\n",
    "#metadata$sample = NULL\n",
    "\n",
    "metadata %>% status"
   ]
  },
  {
   "cell_type": "markdown",
   "metadata": {},
   "source": [
    "# 16S dist mtx"
   ]
  },
  {
   "cell_type": "code",
   "execution_count": 10,
   "metadata": {
    "ExecuteTime": {
     "end_time": "2018-07-10T13:59:52.201294Z",
     "start_time": "2018-07-10T13:59:36.401Z"
    }
   },
   "outputs": [
    {
     "data": {
      "text/html": [
       "<ol class=list-inline>\n",
       "\t<li>408</li>\n",
       "\t<li>408</li>\n",
       "</ol>\n"
      ],
      "text/latex": [
       "\\begin{enumerate*}\n",
       "\\item 408\n",
       "\\item 408\n",
       "\\end{enumerate*}\n"
      ],
      "text/markdown": [
       "1. 408\n",
       "2. 408\n",
       "\n",
       "\n"
      ],
      "text/plain": [
       "[1] 408 408"
      ]
     },
     "metadata": {},
     "output_type": "display_data"
    }
   ],
   "source": [
    "micro_D = physeq %>% phy_tree %>% cophenetic %>% rescale_dist_mtx %>% as.matrix\n",
    "micro_D %>% dim"
   ]
  },
  {
   "cell_type": "code",
   "execution_count": 11,
   "metadata": {
    "ExecuteTime": {
     "end_time": "2018-07-10T13:59:52.235415Z",
     "start_time": "2018-07-10T13:59:36.536Z"
    }
   },
   "outputs": [
    {
     "name": "stdout",
     "output_type": "stream",
     "text": [
      "[1] 408 408\n"
     ]
    }
   ],
   "source": [
    "print(micro_D %>% dim)"
   ]
  },
  {
   "cell_type": "markdown",
   "metadata": {},
   "source": [
    "# Host dist mtx"
   ]
  },
  {
   "cell_type": "code",
   "execution_count": 12,
   "metadata": {
    "ExecuteTime": {
     "end_time": "2018-07-10T13:59:52.306539Z",
     "start_time": "2018-07-10T13:59:37.433Z"
    }
   },
   "outputs": [
    {
     "data": {
      "text/html": [
       "<ol class=list-inline>\n",
       "\t<li>213</li>\n",
       "\t<li>213</li>\n",
       "</ol>\n"
      ],
      "text/latex": [
       "\\begin{enumerate*}\n",
       "\\item 213\n",
       "\\item 213\n",
       "\\end{enumerate*}\n"
      ],
      "text/markdown": [
       "1. 213\n",
       "2. 213\n",
       "\n",
       "\n"
      ],
      "text/plain": [
       "[1] 213 213"
      ]
     },
     "metadata": {},
     "output_type": "display_data"
    }
   ],
   "source": [
    "host_D = host_tree %>% cophenetic %>% rescale_dist_mtx %>% as.matrix\n",
    "host_D %>% dim"
   ]
  },
  {
   "cell_type": "code",
   "execution_count": 13,
   "metadata": {
    "ExecuteTime": {
     "end_time": "2018-07-10T13:59:52.348867Z",
     "start_time": "2018-07-10T13:59:37.569Z"
    }
   },
   "outputs": [
    {
     "name": "stdout",
     "output_type": "stream",
     "text": [
      "character(0)\n",
      "character(0)\n"
     ]
    }
   ],
   "source": [
    "setdiff(rownames(host_D), metadata$SampleID) %>% print\n",
    "setdiff(metadata$SampleID, rownames(host_D)) %>% print"
   ]
  },
  {
   "cell_type": "code",
   "execution_count": 14,
   "metadata": {
    "ExecuteTime": {
     "end_time": "2018-07-10T13:59:52.417337Z",
     "start_time": "2018-07-10T13:59:37.689Z"
    }
   },
   "outputs": [
    {
     "name": "stdout",
     "output_type": "stream",
     "text": [
      "[1] 213 213\n"
     ]
    },
    {
     "data": {
      "text/html": [
       "<table>\n",
       "<thead><tr><th></th><th scope=col>X294.Emu</th><th scope=col>X33.Wild.Turkey</th><th scope=col>X131.Rock.Ptarmigan</th><th scope=col>X31.Chicken</th><th scope=col>X276.Barnacle.Goose</th><th scope=col>X32.Greylag.Goose</th><th scope=col>X34.Mallard.Duck</th><th scope=col>X117.Long.eared.Owl</th><th scope=col>X426.Ural.Owl</th><th scope=col>X260.Blackbird</th><th scope=col>⋯</th><th scope=col>X36.Agile.Frog</th><th scope=col>F157a.European.Toad</th><th scope=col>F157b.European.Toad</th><th scope=col>X342.European.Green.Toad</th><th scope=col>X233.Aesculapian.Snake</th><th scope=col>X351.Grass.Snake</th><th scope=col>X95.Meadow.Viper</th><th scope=col>X44.Meadow.Viper</th><th scope=col>X241.Italian.wall.lizard</th><th scope=col>X190.Common.House.Gecko</th></tr></thead>\n",
       "<tbody>\n",
       "\t<tr><th scope=row>X294.Emu</th><td>0.0000000 </td><td>0.25579478</td><td>0.25579478</td><td>0.25579478</td><td>0.2557948 </td><td>0.2557948 </td><td>0.2557948 </td><td>0.2557948 </td><td>0.2557948 </td><td>0.2557948 </td><td>⋯         </td><td>0.8080382 </td><td>0.8080382 </td><td>0.8080382 </td><td>0.8080382 </td><td>0.642411  </td><td>0.642411  </td><td>0.642411  </td><td>0.642411  </td><td>0.642411  </td><td>0.642411  </td></tr>\n",
       "\t<tr><th scope=row>X33.Wild.Turkey</th><td>0.2557948 </td><td>0.00000000</td><td>0.04762221</td><td>0.08545358</td><td>0.1836687 </td><td>0.1836687 </td><td>0.1836687 </td><td>0.2252181 </td><td>0.2252181 </td><td>0.2252181 </td><td>⋯         </td><td>0.8080382 </td><td>0.8080382 </td><td>0.8080382 </td><td>0.8080382 </td><td>0.642411  </td><td>0.642411  </td><td>0.642411  </td><td>0.642411  </td><td>0.642411  </td><td>0.642411  </td></tr>\n",
       "\t<tr><th scope=row>X131.Rock.Ptarmigan</th><td>0.2557948 </td><td>0.04762221</td><td>0.00000000</td><td>0.08545358</td><td>0.1836687 </td><td>0.1836687 </td><td>0.1836687 </td><td>0.2252181 </td><td>0.2252181 </td><td>0.2252181 </td><td>⋯         </td><td>0.8080382 </td><td>0.8080382 </td><td>0.8080382 </td><td>0.8080382 </td><td>0.642411  </td><td>0.642411  </td><td>0.642411  </td><td>0.642411  </td><td>0.642411  </td><td>0.642411  </td></tr>\n",
       "</tbody>\n",
       "</table>\n"
      ],
      "text/latex": [
       "\\begin{tabular}{r|lllllllllllllllllllllllllllllllllllllllllllllllllllllllllllllllllllllllllllllllllllllllllllllllllllllllllllllllllllllllllllllllllllllllllllllllllllllllllllllllllllllllllllllllllllllllllllllllllllllllllllllllllllll}\n",
       "  & X294.Emu & X33.Wild.Turkey & X131.Rock.Ptarmigan & X31.Chicken & X276.Barnacle.Goose & X32.Greylag.Goose & X34.Mallard.Duck & X117.Long.eared.Owl & X426.Ural.Owl & X260.Blackbird & ⋯ & X36.Agile.Frog & F157a.European.Toad & F157b.European.Toad & X342.European.Green.Toad & X233.Aesculapian.Snake & X351.Grass.Snake & X95.Meadow.Viper & X44.Meadow.Viper & X241.Italian.wall.lizard & X190.Common.House.Gecko\\\\\n",
       "\\hline\n",
       "\tX294.Emu & 0.0000000  & 0.25579478 & 0.25579478 & 0.25579478 & 0.2557948  & 0.2557948  & 0.2557948  & 0.2557948  & 0.2557948  & 0.2557948  & ⋯          & 0.8080382  & 0.8080382  & 0.8080382  & 0.8080382  & 0.642411   & 0.642411   & 0.642411   & 0.642411   & 0.642411   & 0.642411  \\\\\n",
       "\tX33.Wild.Turkey & 0.2557948  & 0.00000000 & 0.04762221 & 0.08545358 & 0.1836687  & 0.1836687  & 0.1836687  & 0.2252181  & 0.2252181  & 0.2252181  & ⋯          & 0.8080382  & 0.8080382  & 0.8080382  & 0.8080382  & 0.642411   & 0.642411   & 0.642411   & 0.642411   & 0.642411   & 0.642411  \\\\\n",
       "\tX131.Rock.Ptarmigan & 0.2557948  & 0.04762221 & 0.00000000 & 0.08545358 & 0.1836687  & 0.1836687  & 0.1836687  & 0.2252181  & 0.2252181  & 0.2252181  & ⋯          & 0.8080382  & 0.8080382  & 0.8080382  & 0.8080382  & 0.642411   & 0.642411   & 0.642411   & 0.642411   & 0.642411   & 0.642411  \\\\\n",
       "\\end{tabular}\n"
      ],
      "text/markdown": [
       "\n",
       "| <!--/--> | X294.Emu | X33.Wild.Turkey | X131.Rock.Ptarmigan | X31.Chicken | X276.Barnacle.Goose | X32.Greylag.Goose | X34.Mallard.Duck | X117.Long.eared.Owl | X426.Ural.Owl | X260.Blackbird | ⋯ | X36.Agile.Frog | F157a.European.Toad | F157b.European.Toad | X342.European.Green.Toad | X233.Aesculapian.Snake | X351.Grass.Snake | X95.Meadow.Viper | X44.Meadow.Viper | X241.Italian.wall.lizard | X190.Common.House.Gecko | \n",
       "|---|---|---|\n",
       "| X294.Emu | 0.0000000  | 0.25579478 | 0.25579478 | 0.25579478 | 0.2557948  | 0.2557948  | 0.2557948  | 0.2557948  | 0.2557948  | 0.2557948  | ⋯          | 0.8080382  | 0.8080382  | 0.8080382  | 0.8080382  | 0.642411   | 0.642411   | 0.642411   | 0.642411   | 0.642411   | 0.642411   | \n",
       "| X33.Wild.Turkey | 0.2557948  | 0.00000000 | 0.04762221 | 0.08545358 | 0.1836687  | 0.1836687  | 0.1836687  | 0.2252181  | 0.2252181  | 0.2252181  | ⋯          | 0.8080382  | 0.8080382  | 0.8080382  | 0.8080382  | 0.642411   | 0.642411   | 0.642411   | 0.642411   | 0.642411   | 0.642411   | \n",
       "| X131.Rock.Ptarmigan | 0.2557948  | 0.04762221 | 0.00000000 | 0.08545358 | 0.1836687  | 0.1836687  | 0.1836687  | 0.2252181  | 0.2252181  | 0.2252181  | ⋯          | 0.8080382  | 0.8080382  | 0.8080382  | 0.8080382  | 0.642411   | 0.642411   | 0.642411   | 0.642411   | 0.642411   | 0.642411   | \n",
       "\n",
       "\n"
      ],
      "text/plain": [
       "                    X294.Emu  X33.Wild.Turkey X131.Rock.Ptarmigan X31.Chicken\n",
       "X294.Emu            0.0000000 0.25579478      0.25579478          0.25579478 \n",
       "X33.Wild.Turkey     0.2557948 0.00000000      0.04762221          0.08545358 \n",
       "X131.Rock.Ptarmigan 0.2557948 0.04762221      0.00000000          0.08545358 \n",
       "                    X276.Barnacle.Goose X32.Greylag.Goose X34.Mallard.Duck\n",
       "X294.Emu            0.2557948           0.2557948         0.2557948       \n",
       "X33.Wild.Turkey     0.1836687           0.1836687         0.1836687       \n",
       "X131.Rock.Ptarmigan 0.1836687           0.1836687         0.1836687       \n",
       "                    X117.Long.eared.Owl X426.Ural.Owl X260.Blackbird ⋯\n",
       "X294.Emu            0.2557948           0.2557948     0.2557948      ⋯\n",
       "X33.Wild.Turkey     0.2252181           0.2252181     0.2252181      ⋯\n",
       "X131.Rock.Ptarmigan 0.2252181           0.2252181     0.2252181      ⋯\n",
       "                    X36.Agile.Frog F157a.European.Toad F157b.European.Toad\n",
       "X294.Emu            0.8080382      0.8080382           0.8080382          \n",
       "X33.Wild.Turkey     0.8080382      0.8080382           0.8080382          \n",
       "X131.Rock.Ptarmigan 0.8080382      0.8080382           0.8080382          \n",
       "                    X342.European.Green.Toad X233.Aesculapian.Snake\n",
       "X294.Emu            0.8080382                0.642411              \n",
       "X33.Wild.Turkey     0.8080382                0.642411              \n",
       "X131.Rock.Ptarmigan 0.8080382                0.642411              \n",
       "                    X351.Grass.Snake X95.Meadow.Viper X44.Meadow.Viper\n",
       "X294.Emu            0.642411         0.642411         0.642411        \n",
       "X33.Wild.Turkey     0.642411         0.642411         0.642411        \n",
       "X131.Rock.Ptarmigan 0.642411         0.642411         0.642411        \n",
       "                    X241.Italian.wall.lizard X190.Common.House.Gecko\n",
       "X294.Emu            0.642411                 0.642411               \n",
       "X33.Wild.Turkey     0.642411                 0.642411               \n",
       "X131.Rock.Ptarmigan 0.642411                 0.642411               "
      ]
     },
     "metadata": {},
     "output_type": "display_data"
    }
   ],
   "source": [
    "host_D = host_D[metadata$SampleID, metadata$SampleID] \n",
    "host_D %>% status"
   ]
  },
  {
   "cell_type": "markdown",
   "metadata": {},
   "source": [
    "# Comparing distributions"
   ]
  },
  {
   "cell_type": "code",
   "execution_count": 15,
   "metadata": {
    "ExecuteTime": {
     "end_time": "2018-07-10T13:59:52.498974Z",
     "start_time": "2018-07-10T13:59:37.947Z"
    }
   },
   "outputs": [
    {
     "name": "stdout",
     "output_type": "stream",
     "text": [
      "   Min. 1st Qu.  Median    Mean 3rd Qu.    Max. \n",
      " 0.0000  0.2063  0.2423  0.4448  0.7165  1.0000 \n",
      "   Min. 1st Qu.  Median    Mean 3rd Qu.    Max. \n",
      " 0.0000  0.2077  0.2850  0.3160  0.3730  1.0000 \n"
     ]
    }
   ],
   "source": [
    "host_D %>% as.vector %>% summary %>% print\n",
    "micro_D %>% as.vector %>% summary %>% print"
   ]
  },
  {
   "cell_type": "markdown",
   "metadata": {},
   "source": [
    "# PACO: constrained model"
   ]
  },
  {
   "cell_type": "markdown",
   "metadata": {},
   "source": [
    "## Preparing data"
   ]
  },
  {
   "cell_type": "code",
   "execution_count": 16,
   "metadata": {
    "ExecuteTime": {
     "end_time": "2018-07-10T13:59:52.611075Z",
     "start_time": "2018-07-10T13:59:39.559Z"
    }
   },
   "outputs": [
    {
     "name": "stdout",
     "output_type": "stream",
     "text": [
      "[1] 213   2\n"
     ]
    },
    {
     "data": {
      "text/html": [
       "<table>\n",
       "<thead><tr><th></th><th scope=col>SampleID</th><th scope=col>scientific_name</th></tr></thead>\n",
       "<tbody>\n",
       "\t<tr><th scope=row>X1.Eurasian.Beaver</th><td>X1.Eurasian.Beaver</td><td>Castor_fiber      </td></tr>\n",
       "\t<tr><th scope=row>X101.Horse</th><td>X101.Horse        </td><td>Equus_caballus    </td></tr>\n",
       "\t<tr><th scope=row>X102.Kulan</th><td>X102.Kulan        </td><td>Equus_hemionus    </td></tr>\n",
       "</tbody>\n",
       "</table>\n"
      ],
      "text/latex": [
       "\\begin{tabular}{r|ll}\n",
       "  & SampleID & scientific\\_name\\\\\n",
       "\\hline\n",
       "\tX1.Eurasian.Beaver & X1.Eurasian.Beaver & Castor\\_fiber    \\\\\n",
       "\tX101.Horse & X101.Horse         & Equus\\_caballus  \\\\\n",
       "\tX102.Kulan & X102.Kulan         & Equus\\_hemionus  \\\\\n",
       "\\end{tabular}\n"
      ],
      "text/markdown": [
       "\n",
       "| <!--/--> | SampleID | scientific_name | \n",
       "|---|---|---|\n",
       "| X1.Eurasian.Beaver | X1.Eurasian.Beaver | Castor_fiber       | \n",
       "| X101.Horse | X101.Horse         | Equus_caballus     | \n",
       "| X102.Kulan | X102.Kulan         | Equus_hemionus     | \n",
       "\n",
       "\n"
      ],
      "text/plain": [
       "                   SampleID           scientific_name\n",
       "X1.Eurasian.Beaver X1.Eurasian.Beaver Castor_fiber   \n",
       "X101.Horse         X101.Horse         Equus_caballus \n",
       "X102.Kulan         X102.Kulan         Equus_hemionus "
      ]
     },
     "metadata": {},
     "output_type": "display_data"
    }
   ],
   "source": [
    "metadata %>% status"
   ]
  },
  {
   "cell_type": "code",
   "execution_count": 17,
   "metadata": {
    "ExecuteTime": {
     "end_time": "2018-07-10T13:59:53.718619Z",
     "start_time": "2018-07-10T13:59:39.736Z"
    }
   },
   "outputs": [
    {
     "name": "stdout",
     "output_type": "stream",
     "text": [
      "[1] 213 408\n"
     ]
    },
    {
     "data": {
      "text/html": [
       "<table>\n",
       "<thead><tr><th></th><th scope=col>368bd5c2255f3a5ce0fef06ca6de1d04</th><th scope=col>779324e5648460c5a67e577c45131b42</th><th scope=col>b918d185ee89a0b33d821ee766d76eb3</th><th scope=col>d3d51a026150fca2a3400c59a6b311cb</th><th scope=col>160c9184bbfc1e5766c508c7bdafa19f</th><th scope=col>f0f035365a85490145f397bf218afbab</th><th scope=col>7282e9b6f799208576024a35f02caa47</th><th scope=col>0e1de44ae4fcc0968e549457277b4fb1</th><th scope=col>ba6caaf355af10bdcdcc625e4f99073e</th><th scope=col>13fabb2c42c260bd77b4358f429eba6c</th><th scope=col>⋯</th><th scope=col>1b4755614ecbdd82a79e77eae5143239</th><th scope=col>d855008e1da5c9a5c3ba81d21b6ea272</th><th scope=col>9dfddc1c446e84f8ff7f5a7332e70e3a</th><th scope=col>6f8aa3da4c4fa50cd74ad28f489adefc</th><th scope=col>22930923dace53039f5eb90d94ceca1e</th><th scope=col>88f04219eab15eae30870064288e9a5f</th><th scope=col>17dac3c523ec0b232c6a9c711d69968f</th><th scope=col>98300b47154d82766e5d100558d1ba09</th><th scope=col>958c1eeaa690e27ee970154111e25192</th><th scope=col>d78e13cf379c4409b2bc382ffb62f962</th></tr></thead>\n",
       "<tbody>\n",
       "\t<tr><th scope=row>X1.Eurasian.Beaver</th><td>0</td><td>0</td><td>0</td><td>0</td><td>0</td><td>0</td><td>0</td><td>0</td><td>0</td><td>0</td><td>⋯</td><td>0</td><td>0</td><td>0</td><td>0</td><td>0</td><td>0</td><td>0</td><td>0</td><td>0</td><td>0</td></tr>\n",
       "\t<tr><th scope=row>X101.Horse</th><td>0</td><td>0</td><td>0</td><td>0</td><td>0</td><td>1</td><td>0</td><td>0</td><td>0</td><td>0</td><td>⋯</td><td>0</td><td>0</td><td>0</td><td>0</td><td>0</td><td>0</td><td>0</td><td>0</td><td>0</td><td>0</td></tr>\n",
       "\t<tr><th scope=row>X102.Kulan</th><td>0</td><td>0</td><td>0</td><td>1</td><td>0</td><td>0</td><td>0</td><td>0</td><td>0</td><td>0</td><td>⋯</td><td>0</td><td>0</td><td>0</td><td>0</td><td>0</td><td>0</td><td>0</td><td>0</td><td>0</td><td>0</td></tr>\n",
       "</tbody>\n",
       "</table>\n"
      ],
      "text/latex": [
       "\\begin{tabular}{r|llllllllllllllllllllllllllllllllllllllllllllllllllllllllllllllllllllllllllllllllllllllllllllllllllllllllllllllllllllllllllllllllllllllllllllllllllllllllllllllllllllllllllllllllllllllllllllllllllllllllllllllllllllllllllllllllllllllllllllllllllllllllllllllllllllllllllllllllllllllllllllllllllllllllllllllllllllllllllllllllllllllllllllllllllllllllllllllllllllllllllllllllllllllllllllllllllllllllllllllllllllllll}\n",
       "  & 368bd5c2255f3a5ce0fef06ca6de1d04 & 779324e5648460c5a67e577c45131b42 & b918d185ee89a0b33d821ee766d76eb3 & d3d51a026150fca2a3400c59a6b311cb & 160c9184bbfc1e5766c508c7bdafa19f & f0f035365a85490145f397bf218afbab & 7282e9b6f799208576024a35f02caa47 & 0e1de44ae4fcc0968e549457277b4fb1 & ba6caaf355af10bdcdcc625e4f99073e & 13fabb2c42c260bd77b4358f429eba6c & ⋯ & 1b4755614ecbdd82a79e77eae5143239 & d855008e1da5c9a5c3ba81d21b6ea272 & 9dfddc1c446e84f8ff7f5a7332e70e3a & 6f8aa3da4c4fa50cd74ad28f489adefc & 22930923dace53039f5eb90d94ceca1e & 88f04219eab15eae30870064288e9a5f & 17dac3c523ec0b232c6a9c711d69968f & 98300b47154d82766e5d100558d1ba09 & 958c1eeaa690e27ee970154111e25192 & d78e13cf379c4409b2bc382ffb62f962\\\\\n",
       "\\hline\n",
       "\tX1.Eurasian.Beaver & 0 & 0 & 0 & 0 & 0 & 0 & 0 & 0 & 0 & 0 & ⋯ & 0 & 0 & 0 & 0 & 0 & 0 & 0 & 0 & 0 & 0\\\\\n",
       "\tX101.Horse & 0 & 0 & 0 & 0 & 0 & 1 & 0 & 0 & 0 & 0 & ⋯ & 0 & 0 & 0 & 0 & 0 & 0 & 0 & 0 & 0 & 0\\\\\n",
       "\tX102.Kulan & 0 & 0 & 0 & 1 & 0 & 0 & 0 & 0 & 0 & 0 & ⋯ & 0 & 0 & 0 & 0 & 0 & 0 & 0 & 0 & 0 & 0\\\\\n",
       "\\end{tabular}\n"
      ],
      "text/markdown": [
       "\n",
       "| <!--/--> | 368bd5c2255f3a5ce0fef06ca6de1d04 | 779324e5648460c5a67e577c45131b42 | b918d185ee89a0b33d821ee766d76eb3 | d3d51a026150fca2a3400c59a6b311cb | 160c9184bbfc1e5766c508c7bdafa19f | f0f035365a85490145f397bf218afbab | 7282e9b6f799208576024a35f02caa47 | 0e1de44ae4fcc0968e549457277b4fb1 | ba6caaf355af10bdcdcc625e4f99073e | 13fabb2c42c260bd77b4358f429eba6c | ⋯ | 1b4755614ecbdd82a79e77eae5143239 | d855008e1da5c9a5c3ba81d21b6ea272 | 9dfddc1c446e84f8ff7f5a7332e70e3a | 6f8aa3da4c4fa50cd74ad28f489adefc | 22930923dace53039f5eb90d94ceca1e | 88f04219eab15eae30870064288e9a5f | 17dac3c523ec0b232c6a9c711d69968f | 98300b47154d82766e5d100558d1ba09 | 958c1eeaa690e27ee970154111e25192 | d78e13cf379c4409b2bc382ffb62f962 | \n",
       "|---|---|---|\n",
       "| X1.Eurasian.Beaver | 0 | 0 | 0 | 0 | 0 | 0 | 0 | 0 | 0 | 0 | ⋯ | 0 | 0 | 0 | 0 | 0 | 0 | 0 | 0 | 0 | 0 | \n",
       "| X101.Horse | 0 | 0 | 0 | 0 | 0 | 1 | 0 | 0 | 0 | 0 | ⋯ | 0 | 0 | 0 | 0 | 0 | 0 | 0 | 0 | 0 | 0 | \n",
       "| X102.Kulan | 0 | 0 | 0 | 1 | 0 | 0 | 0 | 0 | 0 | 0 | ⋯ | 0 | 0 | 0 | 0 | 0 | 0 | 0 | 0 | 0 | 0 | \n",
       "\n",
       "\n"
      ],
      "text/plain": [
       "                   368bd5c2255f3a5ce0fef06ca6de1d04\n",
       "X1.Eurasian.Beaver 0                               \n",
       "X101.Horse         0                               \n",
       "X102.Kulan         0                               \n",
       "                   779324e5648460c5a67e577c45131b42\n",
       "X1.Eurasian.Beaver 0                               \n",
       "X101.Horse         0                               \n",
       "X102.Kulan         0                               \n",
       "                   b918d185ee89a0b33d821ee766d76eb3\n",
       "X1.Eurasian.Beaver 0                               \n",
       "X101.Horse         0                               \n",
       "X102.Kulan         0                               \n",
       "                   d3d51a026150fca2a3400c59a6b311cb\n",
       "X1.Eurasian.Beaver 0                               \n",
       "X101.Horse         0                               \n",
       "X102.Kulan         1                               \n",
       "                   160c9184bbfc1e5766c508c7bdafa19f\n",
       "X1.Eurasian.Beaver 0                               \n",
       "X101.Horse         0                               \n",
       "X102.Kulan         0                               \n",
       "                   f0f035365a85490145f397bf218afbab\n",
       "X1.Eurasian.Beaver 0                               \n",
       "X101.Horse         1                               \n",
       "X102.Kulan         0                               \n",
       "                   7282e9b6f799208576024a35f02caa47\n",
       "X1.Eurasian.Beaver 0                               \n",
       "X101.Horse         0                               \n",
       "X102.Kulan         0                               \n",
       "                   0e1de44ae4fcc0968e549457277b4fb1\n",
       "X1.Eurasian.Beaver 0                               \n",
       "X101.Horse         0                               \n",
       "X102.Kulan         0                               \n",
       "                   ba6caaf355af10bdcdcc625e4f99073e\n",
       "X1.Eurasian.Beaver 0                               \n",
       "X101.Horse         0                               \n",
       "X102.Kulan         0                               \n",
       "                   13fabb2c42c260bd77b4358f429eba6c ⋯\n",
       "X1.Eurasian.Beaver 0                                ⋯\n",
       "X101.Horse         0                                ⋯\n",
       "X102.Kulan         0                                ⋯\n",
       "                   1b4755614ecbdd82a79e77eae5143239\n",
       "X1.Eurasian.Beaver 0                               \n",
       "X101.Horse         0                               \n",
       "X102.Kulan         0                               \n",
       "                   d855008e1da5c9a5c3ba81d21b6ea272\n",
       "X1.Eurasian.Beaver 0                               \n",
       "X101.Horse         0                               \n",
       "X102.Kulan         0                               \n",
       "                   9dfddc1c446e84f8ff7f5a7332e70e3a\n",
       "X1.Eurasian.Beaver 0                               \n",
       "X101.Horse         0                               \n",
       "X102.Kulan         0                               \n",
       "                   6f8aa3da4c4fa50cd74ad28f489adefc\n",
       "X1.Eurasian.Beaver 0                               \n",
       "X101.Horse         0                               \n",
       "X102.Kulan         0                               \n",
       "                   22930923dace53039f5eb90d94ceca1e\n",
       "X1.Eurasian.Beaver 0                               \n",
       "X101.Horse         0                               \n",
       "X102.Kulan         0                               \n",
       "                   88f04219eab15eae30870064288e9a5f\n",
       "X1.Eurasian.Beaver 0                               \n",
       "X101.Horse         0                               \n",
       "X102.Kulan         0                               \n",
       "                   17dac3c523ec0b232c6a9c711d69968f\n",
       "X1.Eurasian.Beaver 0                               \n",
       "X101.Horse         0                               \n",
       "X102.Kulan         0                               \n",
       "                   98300b47154d82766e5d100558d1ba09\n",
       "X1.Eurasian.Beaver 0                               \n",
       "X101.Horse         0                               \n",
       "X102.Kulan         0                               \n",
       "                   958c1eeaa690e27ee970154111e25192\n",
       "X1.Eurasian.Beaver 0                               \n",
       "X101.Horse         0                               \n",
       "X102.Kulan         0                               \n",
       "                   d78e13cf379c4409b2bc382ffb62f962\n",
       "X1.Eurasian.Beaver 0                               \n",
       "X101.Horse         0                               \n",
       "X102.Kulan         0                               "
      ]
     },
     "metadata": {},
     "output_type": "display_data"
    }
   ],
   "source": [
    "# otu abundance matrix\n",
    "otu = physeq %>% \n",
    "    otu_table %>%\n",
    "    as.data.frame %>%\n",
    "    as.matrix %>%\n",
    "    t\n",
    "\n",
    "# convert to binary\n",
    "otu = otu %>% apply(2, function(x) ifelse(x > 0, 1, 0)) %>% as.matrix\n",
    "                    \n",
    "# changing rownames\n",
    "rownames(otu) = metadata[unique(rownames(otu)),]$SampleID\n",
    "                    \n",
    "# status                    \n",
    "otu %>% status"
   ]
  },
  {
   "cell_type": "code",
   "execution_count": 18,
   "metadata": {
    "ExecuteTime": {
     "end_time": "2018-07-10T13:59:53.764968Z",
     "start_time": "2018-07-10T13:59:46.656Z"
    }
   },
   "outputs": [
    {
     "data": {
      "text/html": [],
      "text/latex": [],
      "text/markdown": [],
      "text/plain": [
       "character(0)"
      ]
     },
     "metadata": {},
     "output_type": "display_data"
    },
    {
     "data": {
      "text/html": [],
      "text/latex": [],
      "text/markdown": [],
      "text/plain": [
       "character(0)"
      ]
     },
     "metadata": {},
     "output_type": "display_data"
    }
   ],
   "source": [
    "setdiff(rownames(otu), rownames(metadata))\n",
    "setdiff(rownames(metadata), rownames(otu))"
   ]
  },
  {
   "cell_type": "code",
   "execution_count": 19,
   "metadata": {
    "ExecuteTime": {
     "end_time": "2018-07-10T13:59:53.805642Z",
     "start_time": "2018-07-10T13:59:46.783Z"
    }
   },
   "outputs": [
    {
     "name": "stdout",
     "output_type": "stream",
     "text": [
      "character(0)\n",
      "character(0)\n"
     ]
    }
   ],
   "source": [
    "setdiff(rownames(otu), rownames(host_D)) %>% sort %>% print\n",
    "setdiff(rownames(host_D), rownames(otu)) %>% sort %>% print"
   ]
  },
  {
   "cell_type": "code",
   "execution_count": 20,
   "metadata": {
    "ExecuteTime": {
     "end_time": "2018-07-10T13:59:53.868811Z",
     "start_time": "2018-07-10T13:59:46.912Z"
    }
   },
   "outputs": [
    {
     "data": {
      "text/html": [
       "<ol class=list-inline>\n",
       "\t<li>'H'</li>\n",
       "\t<li>'P'</li>\n",
       "\t<li>'HP'</li>\n",
       "</ol>\n"
      ],
      "text/latex": [
       "\\begin{enumerate*}\n",
       "\\item 'H'\n",
       "\\item 'P'\n",
       "\\item 'HP'\n",
       "\\end{enumerate*}\n"
      ],
      "text/markdown": [
       "1. 'H'\n",
       "2. 'P'\n",
       "3. 'HP'\n",
       "\n",
       "\n"
      ],
      "text/plain": [
       "[1] \"H\"  \"P\"  \"HP\""
      ]
     },
     "metadata": {},
     "output_type": "display_data"
    }
   ],
   "source": [
    "D = prepare_paco_data(H=host_D, P=micro_D, HP=otu)\n",
    "D %>% names"
   ]
  },
  {
   "cell_type": "code",
   "execution_count": 21,
   "metadata": {
    "ExecuteTime": {
     "end_time": "2018-07-10T14:00:05.314670Z",
     "start_time": "2018-07-10T13:59:48.970Z"
    }
   },
   "outputs": [
    {
     "data": {
      "text/html": [
       "<ol class=list-inline>\n",
       "\t<li>'H'</li>\n",
       "\t<li>'P'</li>\n",
       "\t<li>'HP'</li>\n",
       "\t<li>'H_PCo'</li>\n",
       "\t<li>'P_PCo'</li>\n",
       "\t<li>'correction'</li>\n",
       "</ol>\n"
      ],
      "text/latex": [
       "\\begin{enumerate*}\n",
       "\\item 'H'\n",
       "\\item 'P'\n",
       "\\item 'HP'\n",
       "\\item 'H\\_PCo'\n",
       "\\item 'P\\_PCo'\n",
       "\\item 'correction'\n",
       "\\end{enumerate*}\n"
      ],
      "text/markdown": [
       "1. 'H'\n",
       "2. 'P'\n",
       "3. 'HP'\n",
       "4. 'H_PCo'\n",
       "5. 'P_PCo'\n",
       "6. 'correction'\n",
       "\n",
       "\n"
      ],
      "text/plain": [
       "[1] \"H\"          \"P\"          \"HP\"         \"H_PCo\"      \"P_PCo\"     \n",
       "[6] \"correction\""
      ]
     },
     "metadata": {},
     "output_type": "display_data"
    }
   ],
   "source": [
    "D = add_pcoord(D, correction='cailliez')\n",
    "D %>% names"
   ]
  },
  {
   "cell_type": "code",
   "execution_count": 22,
   "metadata": {
    "ExecuteTime": {
     "end_time": "2018-07-10T14:00:05.737052Z",
     "start_time": "2018-07-10T13:59:49.127Z"
    }
   },
   "outputs": [
    {
     "name": "stdout",
     "output_type": "stream",
     "text": [
      "      Min.    1st Qu.     Median       Mean    3rd Qu.       Max. \n",
      "-0.5500208 -0.0000002  0.0000000 -0.0013228  0.0000001  0.7638120 \n",
      "      Min.    1st Qu.     Median       Mean    3rd Qu.       Max. \n",
      "-0.6117609 -0.0000672  0.0000000  0.0000399  0.0000504  0.2816034 \n"
     ]
    }
   ],
   "source": [
    "D$H_PCo %>% as.vector %>% summary %>% print\n",
    "D$P_PCo %>% as.vector %>% summary %>% print"
   ]
  },
  {
   "cell_type": "code",
   "execution_count": 23,
   "metadata": {
    "ExecuteTime": {
     "end_time": "2018-07-10T14:00:06.243129Z",
     "start_time": "2018-07-10T13:59:49.271Z"
    }
   },
   "outputs": [
    {
     "name": "stdout",
     "output_type": "stream",
     "text": [
      "[1] -0.5500208\n",
      "[1] -0.6117609\n",
      "   Min. 1st Qu.  Median    Mean 3rd Qu.    Max. \n",
      " 0.0000  0.5500  0.5500  0.5487  0.5500  1.3138 \n",
      "   Min. 1st Qu.  Median    Mean 3rd Qu.    Max. \n",
      " 0.0000  0.6117  0.6118  0.6118  0.6118  0.8934 \n"
     ]
    }
   ],
   "source": [
    "neg_to_pos_eig = function(PCo){\n",
    "    min_val = PCo %>% as.vector %>% min\n",
    "    print(min_val)\n",
    "    if(min_val < 0){\n",
    "        PCo = PCo + abs(min_val)\n",
    "    }\n",
    "    return(PCo)\n",
    "}\n",
    "\n",
    "D$H_PCo = neg_to_pos_eig(D$H_PCo)\n",
    "D$P_PCo = neg_to_pos_eig(D$P_PCo)\n",
    "\n",
    "# status\n",
    "D$H_PCo %>% as.vector %>% summary %>% print\n",
    "D$P_PCo %>% as.vector %>% summary %>% print"
   ]
  },
  {
   "cell_type": "code",
   "execution_count": 24,
   "metadata": {
    "ExecuteTime": {
     "end_time": "2018-07-10T14:00:08.773722Z",
     "start_time": "2018-07-10T13:59:49.542Z"
    }
   },
   "outputs": [
    {
     "data": {
      "image/png": "[encoded data removed]",
      "text/plain": [
       "plot without title"
      ]
     },
     "metadata": {},
     "output_type": "display_data"
    }
   ],
   "source": [
    "tmp = D$H_PCo[,c('Axis.1', 'Axis.2')] %>% as.data.frame\n",
    "p_host = ggplot(tmp, aes(Axis.1, Axis.2)) +\n",
    "    geom_point() +\n",
    "    theme_bw()\n",
    "\n",
    "options(repr.plot.height=5, repr.plot.width=6)\n",
    "plot(p_host)"
   ]
  },
  {
   "cell_type": "code",
   "execution_count": 25,
   "metadata": {
    "ExecuteTime": {
     "end_time": "2018-07-10T14:00:10.949794Z",
     "start_time": "2018-07-10T13:59:50.758Z"
    }
   },
   "outputs": [
    {
     "data": {
      "image/png": "[encoded data removed]",
      "text/plain": [
       "plot without title"
      ]
     },
     "metadata": {},
     "output_type": "display_data"
    }
   ],
   "source": [
    "tmp = D$P_PCo[,c('Axis.1', 'Axis.2')] %>% as.data.frame\n",
    "p_micro = ggplot(tmp, aes(Axis.1, Axis.2)) +\n",
    "    geom_point() +\n",
    "    theme_bw()\n",
    "plot(p_micro)"
   ]
  },
  {
   "cell_type": "markdown",
   "metadata": {},
   "source": [
    "## PACo"
   ]
  },
  {
   "cell_type": "code",
   "execution_count": 26,
   "metadata": {
    "ExecuteTime": {
     "end_time": "2018-07-10T14:00:10.978290Z",
     "start_time": "2018-07-10T14:00:10.504Z"
    }
   },
   "outputs": [],
   "source": [
    "# for loading results instead of re-running\n",
    "PACo_file = file.path(work_dir, 'physeq_IndD_PACo.RDS')"
   ]
  },
  {
   "cell_type": "code",
   "execution_count": 27,
   "metadata": {
    "ExecuteTime": {
     "end_time": "2018-07-10T14:00:11.046079Z",
     "start_time": "2018-07-10T14:00:10.733Z"
    }
   },
   "outputs": [],
   "source": [
    "# cluster resources\n",
    "resources = list(h_rt = '36:00:00',\n",
    "                 h_vmem = '12G',\n",
    "                 threads = '1',\n",
    "                 conda.env = 'py3_physeq_phylo', \n",
    "                 conda.path = \"/ebio/abt3_projects/software/miniconda3/bin\")\n",
    "plan(batchtools_sge, resources=resources)"
   ]
  },
  {
   "cell_type": "code",
   "execution_count": 28,
   "metadata": {
    "ExecuteTime": {
     "end_time": "2018-07-10T14:00:18.529587Z",
     "start_time": "2018-07-10T14:00:13.952Z"
    }
   },
   "outputs": [],
   "source": [
    "#-- WARNING: SLOW --#\n",
    "# r0 method => the assumption that the column group tracks the evolution of the row group; therefore, maintaining the degree of the species in the row group\n",
    "D %<-% { PACo(D, nperm=999, seed=39473, method='r0', symmetric=FALSE) } %packages% c(\"paco\")"
   ]
  },
  {
   "cell_type": "code",
   "execution_count": 29,
   "metadata": {
    "ExecuteTime": {
     "end_time": "2018-07-11T12:18:14.065509Z",
     "start_time": "2018-07-10T14:00:14.829Z"
    }
   },
   "outputs": [
    {
     "name": "stdout",
     "output_type": "stream",
     "text": [
      "File written: /ebio/abt3_projects/Georg_animal_feces/data/host_specific/pcao/host_TT//physeq_IndD_PACo.RDS \n"
     ]
    }
   ],
   "source": [
    "# save results\n",
    "saveRDS(D, PACo_file)\n",
    "cat('File written:', PACo_file, '\\n')"
   ]
  },
  {
   "cell_type": "code",
   "execution_count": 30,
   "metadata": {
    "ExecuteTime": {
     "end_time": "2018-07-11T12:18:14.067351Z",
     "start_time": "2018-07-10T14:00:15.253Z"
    }
   },
   "outputs": [],
   "source": [
    "# load results\n",
    "D = readRDS(PACo_file)"
   ]
  },
  {
   "cell_type": "code",
   "execution_count": 35,
   "metadata": {
    "ExecuteTime": {
     "end_time": "2018-07-11T12:18:14.078695Z",
     "start_time": "2018-07-10T14:00:46.740Z"
    }
   },
   "outputs": [],
   "source": [
    "#send_email('http://127.0.0.1:9705/notebooks/notebooks/16S/4_host_specific/paco/host_TT/5_paco_IndD.ipynb')"
   ]
  },
  {
   "cell_type": "code",
   "execution_count": 32,
   "metadata": {
    "ExecuteTime": {
     "end_time": "2018-07-11T12:18:14.071435Z",
     "start_time": "2018-07-10T14:00:18.516Z"
    }
   },
   "outputs": [
    {
     "data": {
      "text/html": [
       "<dl>\n",
       "\t<dt>$p</dt>\n",
       "\t\t<dd>0</dd>\n",
       "\t<dt>$ss</dt>\n",
       "\t\t<dd>262.49171051915</dd>\n",
       "\t<dt>$n</dt>\n",
       "\t\t<dd>999</dd>\n",
       "</dl>\n"
      ],
      "text/latex": [
       "\\begin{description}\n",
       "\\item[\\$p] 0\n",
       "\\item[\\$ss] 262.49171051915\n",
       "\\item[\\$n] 999\n",
       "\\end{description}\n"
      ],
      "text/markdown": [
       "$p\n",
       ":   0\n",
       "$ss\n",
       ":   262.49171051915\n",
       "$n\n",
       ":   999\n",
       "\n",
       "\n"
      ],
      "text/plain": [
       "$p\n",
       "[1] 0\n",
       "\n",
       "$ss\n",
       "[1] 262.4917\n",
       "\n",
       "$n\n",
       "[1] 999\n"
      ]
     },
     "metadata": {},
     "output_type": "display_data"
    }
   ],
   "source": [
    "# goodness of fit\n",
    "D$gof"
   ]
  },
  {
   "cell_type": "code",
   "execution_count": 33,
   "metadata": {
    "ExecuteTime": {
     "end_time": "2018-07-11T12:18:14.074186Z",
     "start_time": "2018-07-10T14:00:18.637Z"
    }
   },
   "outputs": [
    {
     "name": "stdout",
     "output_type": "stream",
     "text": [
      "[1] 6077  245\n",
      "[1] 6077  245\n"
     ]
    }
   ],
   "source": [
    "D$proc$X %>% dim %>% print\n",
    "D$proc$Y %>% dim %>% print"
   ]
  },
  {
   "cell_type": "markdown",
   "metadata": {},
   "source": [
    "### Proc plot"
   ]
  },
  {
   "cell_type": "code",
   "execution_count": 34,
   "metadata": {
    "ExecuteTime": {
     "end_time": "2018-07-11T12:18:14.076943Z",
     "start_time": "2018-07-10T14:00:39.477Z"
    }
   },
   "outputs": [
    {
     "data": {
      "image/png": "[encoded data removed]",
      "text/plain": [
       "plot without title"
      ]
     },
     "metadata": {},
     "output_type": "display_data"
    }
   ],
   "source": [
    "# x points\n",
    "x = D$proc$X %>% as.data.frame\n",
    "x$lab = rownames(x)\n",
    "rownames(x) = 1:nrow(x)\n",
    "x$type = 'X'\n",
    "colnames(x)[1:2] = c('Axis.1', 'Axis.2')\n",
    "\n",
    "# yrot points\n",
    "y = D$proc$Yrot %>% as.data.frame\n",
    "y$lab = rownames(y)\n",
    "rownames(y) = 1:nrow(y)\n",
    "y$type = 'Yrot'\n",
    "colnames(y)[1:2] = c('Axis.1', 'Axis.2')\n",
    "\n",
    "# df for plotting arrows\n",
    "cols = c('Axis.1', 'Axis.2', 'type')\n",
    "df = cbind(x[,cols],y[,cols]) \n",
    "colnames(df) = c('Axis.1.X', 'Axis.2.X', 'type.X',\n",
    "                       'Axis.1.Yrot', 'Axis.2.Yrot', 'type.Yrot')\n",
    "\n",
    "# plotting\n",
    "p = ggplot(df, aes(Axis.1.Yrot, Axis.2.Yrot)) +\n",
    "    geom_point(shape='O') +\n",
    "    geom_segment(color='blue', alpha=0.01,\n",
    "                 aes(x=Axis.1.Yrot, y=Axis.2.Yrot, xend=Axis.1.X, yend=Axis.2.X),\n",
    "                 arrow = arrow(length = unit(0.03, \"npc\"))) +\n",
    "    theme_bw()\n",
    "\n",
    "options(repr.plot.height=3, repr.plot.width=3.5)\n",
    "plot(p)"
   ]
  },
  {
   "cell_type": "markdown",
   "metadata": {},
   "source": [
    "## Individual contributions"
   ]
  },
  {
   "cell_type": "code",
   "execution_count": 36,
   "metadata": {
    "ExecuteTime": {
     "end_time": "2018-07-11T12:18:14.080449Z",
     "start_time": "2018-07-10T14:00:50.397Z"
    }
   },
   "outputs": [],
   "source": [
    "# for loading results instead of re-running\n",
    "PACo_links_file = file.path(work_dir, 'physeq_IndD_PACo-links.RDS')"
   ]
  },
  {
   "cell_type": "code",
   "execution_count": 37,
   "metadata": {
    "ExecuteTime": {
     "end_time": "2018-07-11T12:18:14.082148Z",
     "start_time": "2018-07-10T14:00:53.070Z"
    }
   },
   "outputs": [],
   "source": [
    "# cluster resources\n",
    "resources = list(threads = 12,\n",
    "                 h_rt = '36:00:00',\n",
    "                 h_vmem = '12G',\n",
    "                 conda.env = 'py3_physeq_phylo', \n",
    "                 conda.path = \"/ebio/abt3_projects/software/miniconda3/bin\")\n",
    "plan(batchtools_sge, resources=resources)"
   ]
  },
  {
   "cell_type": "code",
   "execution_count": 38,
   "metadata": {
    "ExecuteTime": {
     "end_time": "2018-07-11T12:18:14.083838Z",
     "start_time": "2018-07-10T14:00:54.389Z"
    }
   },
   "outputs": [],
   "source": [
    "# wrapper\n",
    "paco_links_run = function(D, threads=1){\n",
    "    doParallel::registerDoParallel(cores=threads)\n",
    "    paco::paco_links(D, .parallel=TRUE)\n",
    "}"
   ]
  },
  {
   "cell_type": "code",
   "execution_count": 39,
   "metadata": {
    "ExecuteTime": {
     "end_time": "2018-07-11T12:18:14.085538Z",
     "start_time": "2018-07-10T14:00:55.021Z"
    }
   },
   "outputs": [],
   "source": [
    "#-- WARNING: SLOW --#\n",
    "D_links %<-% { paco_links_run(D, threads) } %packages% c(\"paco\", \"doParallel\")"
   ]
  },
  {
   "cell_type": "code",
   "execution_count": 40,
   "metadata": {
    "ExecuteTime": {
     "end_time": "2018-07-18T12:19:12.778772Z",
     "start_time": "2018-07-10T14:00:55.172Z"
    }
   },
   "outputs": [
    {
     "ename": "ERROR",
     "evalue": "Error: BatchtoolsExpiration: Future ('<none>') expired (registry path /ebio/abt3_projects/Georg_animal_feces/data/host_specific/pcao/host_TT/.future/20180710_160015-F5O9rg/batchtools_2015353414).. The last few lines of the logged output:\nWarning in vegan::procrustes(X = PACo.ind$H_PCo, Y = PACo.ind$P_PCo) :\n  X has fewer axes than Y: X adjusted to comform Y\nWarning in vegan::procrustes(X = PACo.ind$H_PCo, Y = PACo.ind$P_PCo) :\n  X has fewer axes than Y: X adjusted to comform Y\nWarning in vegan::procrustes(X = PACo.ind$H_PCo, Y = PACo.ind$P_PCo) :\n  X has fewer axes than Y: X adjusted to comform Y\n",
     "output_type": "error",
     "traceback": [
      "Error: BatchtoolsExpiration: Future ('<none>') expired (registry path /ebio/abt3_projects/Georg_animal_feces/data/host_specific/pcao/host_TT/.future/20180710_160015-F5O9rg/batchtools_2015353414).. The last few lines of the logged output:\nWarning in vegan::procrustes(X = PACo.ind$H_PCo, Y = PACo.ind$P_PCo) :\n  X has fewer axes than Y: X adjusted to comform Y\nWarning in vegan::procrustes(X = PACo.ind$H_PCo, Y = PACo.ind$P_PCo) :\n  X has fewer axes than Y: X adjusted to comform Y\nWarning in vegan::procrustes(X = PACo.ind$H_PCo, Y = PACo.ind$P_PCo) :\n  X has fewer axes than Y: X adjusted to comform Y\nTraceback:\n",
      "1. saveRDS(D_links, PACo_links_file)",
      "2. local({\n .     value <- value(future)\n .     rm(list = future_name, envir = assign.env)\n .     value\n . })",
      "3. eval.parent(substitute(eval(quote(expr), envir)))",
      "4. eval(expr, p)",
      "5. eval(expr, p)",
      "6. eval(quote({\n .     value <- value(future)\n .     rm(list = future_name, envir = assign.env)\n .     value\n . }), new.env())",
      "7. eval(quote({\n .     value <- value(future)\n .     rm(list = future_name, envir = assign.env)\n .     value\n . }), new.env())",
      "8. value(future)",
      "9. value.BatchtoolsFuture(future)",
      "10. await(future, cleanup = FALSE)",
      "11. await.BatchtoolsFuture(future, cleanup = FALSE)"
     ]
    }
   ],
   "source": [
    "# saving object\n",
    "saveRDS(D_links, PACo_links_file)\n",
    "cat('File written:', PACo_links_file, '\\n')"
   ]
  },
  {
   "cell_type": "code",
   "execution_count": null,
   "metadata": {
    "ExecuteTime": {
     "end_time": "2018-07-18T12:19:12.779675Z",
     "start_time": "2018-07-10T14:00:55.285Z"
    }
   },
   "outputs": [],
   "source": [
    "# loading object\n",
    "D_links = readRDS(PACo_links_file)"
   ]
  },
  {
   "cell_type": "code",
   "execution_count": null,
   "metadata": {
    "ExecuteTime": {
     "end_time": "2018-07-18T12:19:12.780650Z",
     "start_time": "2018-07-10T14:00:55.428Z"
    }
   },
   "outputs": [],
   "source": [
    "# residuals\n",
    "res = residuals_paco(D_links$proc) %>% as.data.frame \n",
    "colnames(res) = 'residuals'\n",
    "res = res %>%\n",
    "    mutate(comparison = rownames(.)) %>%\n",
    "    separate(comparison, c('host', 'microbe'), sep='-') \n",
    "res %>% status"
   ]
  },
  {
   "cell_type": "code",
   "execution_count": null,
   "metadata": {
    "ExecuteTime": {
     "end_time": "2018-07-18T12:19:12.781519Z",
     "start_time": "2018-07-10T14:00:56.109Z"
    }
   },
   "outputs": [],
   "source": [
    "send_email('http://127.0.0.1:9705/notebooks/notebooks/16S/4_host_specific/paco/host_TT/5_paco_IndD.ipynb')"
   ]
  },
  {
   "cell_type": "markdown",
   "metadata": {},
   "source": [
    "# -- first email here --"
   ]
  },
  {
   "cell_type": "markdown",
   "metadata": {},
   "source": [
    "### Formatting output"
   ]
  },
  {
   "cell_type": "code",
   "execution_count": null,
   "metadata": {
    "ExecuteTime": {
     "end_time": "2018-07-18T12:19:12.783118Z",
     "start_time": "2018-07-11T12:18:18.943Z"
    }
   },
   "outputs": [],
   "source": [
    "D_links_jk = do.call(rbind, D_links$jackknife) %>%\n",
    "    t %>% as.data.frame %>%\n",
    "    mutate(comparison = rownames(.)) %>%\n",
    "    separate(comparison, c('host', 'microbe'), sep='-') %>%\n",
    "    inner_join(res, c('host'='host', 'microbe'='microbe'))\n",
    "\n",
    "D_links_jk %>% status"
   ]
  },
  {
   "cell_type": "code",
   "execution_count": null,
   "metadata": {
    "ExecuteTime": {
     "end_time": "2018-07-18T12:19:12.783922Z",
     "start_time": "2018-07-11T12:18:19.631Z"
    }
   },
   "outputs": [],
   "source": [
    "# adding taxonomy\n",
    "tax = physeq %>% tax_table %>% \n",
    "    as.matrix %>% as.data.frame %>%\n",
    "    mutate(microbe = rownames(.))\n",
    "\n",
    "D_links_jk = D_links_jk %>%\n",
    "    inner_join(tax, c('microbe'))\n",
    "\n",
    "D_links_jk %>% status"
   ]
  },
  {
   "cell_type": "markdown",
   "metadata": {},
   "source": [
    "### Summarizing results"
   ]
  },
  {
   "cell_type": "code",
   "execution_count": null,
   "metadata": {
    "ExecuteTime": {
     "end_time": "2018-07-18T12:19:12.784742Z",
     "start_time": "2018-07-11T12:18:20.598Z"
    }
   },
   "outputs": [],
   "source": [
    "# value distribution\n",
    "tmp = D_links_jk %>%\n",
    "    unite(compare, host, microbe) %>%\n",
    "    mutate(mean = mean %>% as.character %>% as.numeric,\n",
    "           upper = upper %>% as.character %>% as.numeric, \n",
    "           lower = mean - (upper - mean),\n",
    "           compare = compare %>% reorder(-mean))\n",
    "\n",
    "p = ggplot(tmp, aes(compare, mean)) +\n",
    "    geom_linerange(aes(ymin=lower, ymax=upper), alpha=0.3) +\n",
    "    geom_point(size=1.5) +\n",
    "    theme_bw() +\n",
    "    theme(\n",
    "        axis.text.x = element_blank()\n",
    "    )\n",
    "    \n",
    "options(repr.plot.width=8, repr.plot.height=4)\n",
    "plot(p)"
   ]
  },
  {
   "cell_type": "code",
   "execution_count": null,
   "metadata": {
    "ExecuteTime": {
     "end_time": "2018-07-18T12:19:12.785556Z",
     "start_time": "2018-07-11T12:18:21.079Z"
    }
   },
   "outputs": [],
   "source": [
    "# value distribution\n",
    "p = ggplot(D_links_jk, aes(residuals)) +\n",
    "    geom_histogram(bins=70) +\n",
    "    theme_bw() \n",
    "    \n",
    "options(repr.plot.width=6, repr.plot.height=3)\n",
    "plot(p)"
   ]
  },
  {
   "cell_type": "markdown",
   "metadata": {},
   "source": [
    "# PACO: diffused model"
   ]
  },
  {
   "cell_type": "code",
   "execution_count": null,
   "metadata": {
    "ExecuteTime": {
     "end_time": "2018-07-18T12:19:12.786373Z",
     "start_time": "2018-07-11T12:18:31.230Z"
    }
   },
   "outputs": [],
   "source": [
    "# for loading results instead of re-running\n",
    "PACo_file = file.path(work_dir, 'physeq_IndD_PACo-Con.RDS')"
   ]
  },
  {
   "cell_type": "code",
   "execution_count": null,
   "metadata": {
    "ExecuteTime": {
     "end_time": "2018-07-18T12:19:12.787194Z",
     "start_time": "2018-07-11T12:18:36.735Z"
    }
   },
   "outputs": [],
   "source": [
    "# cluster resources\n",
    "resources = list(h_rt = '36:00:00',\n",
    "                 h_vmem = '10G',\n",
    "                 threads = '1',\n",
    "                 conda.env = 'py3_physeq_phylo', \n",
    "                 conda.path = \"/ebio/abt3_projects/software/miniconda3/bin\")\n",
    "plan(batchtools_sge, resources=resources)"
   ]
  },
  {
   "cell_type": "code",
   "execution_count": null,
   "metadata": {
    "ExecuteTime": {
     "end_time": "2018-07-18T12:19:12.788317Z",
     "start_time": "2018-07-11T12:18:54.652Z"
    }
   },
   "outputs": [],
   "source": [
    "#-- WARNING: SLOW --#\n",
    "D %<-% { PACo(D, nperm=1000, seed=3874, method='quasiswap', symmetric=TRUE) } %packages% c(\"paco\")"
   ]
  },
  {
   "cell_type": "code",
   "execution_count": null,
   "metadata": {
    "ExecuteTime": {
     "end_time": "2018-07-18T12:19:12.789440Z",
     "start_time": "2018-07-11T12:18:57.509Z"
    }
   },
   "outputs": [],
   "source": [
    "# save results\n",
    "saveRDS(D, PACo_file)\n",
    "cat('File written:', PACo_file, '\\n')"
   ]
  },
  {
   "cell_type": "code",
   "execution_count": null,
   "metadata": {
    "ExecuteTime": {
     "end_time": "2018-07-18T12:19:12.790519Z",
     "start_time": "2018-07-11T12:19:04.124Z"
    }
   },
   "outputs": [],
   "source": [
    "send_email('http://127.0.0.1:9705/notebooks/notebooks/16S/4_host_specific/paco/host_TT/5_paco_IndD.ipynb')"
   ]
  },
  {
   "cell_type": "code",
   "execution_count": null,
   "metadata": {
    "ExecuteTime": {
     "end_time": "2018-07-18T12:19:12.791619Z",
     "start_time": "2018-07-11T12:19:04.332Z"
    }
   },
   "outputs": [],
   "source": [
    "# load results\n",
    "D = readRDS(PACo_file)"
   ]
  },
  {
   "cell_type": "code",
   "execution_count": null,
   "metadata": {
    "ExecuteTime": {
     "end_time": "2018-07-18T12:19:12.793638Z",
     "start_time": "2018-07-11T12:19:05.597Z"
    }
   },
   "outputs": [],
   "source": [
    "# goodness of fit\n",
    "D$gof"
   ]
  },
  {
   "cell_type": "markdown",
   "metadata": {},
   "source": [
    "# -- TO HERE -- (see above)"
   ]
  },
  {
   "cell_type": "markdown",
   "metadata": {},
   "source": [
    "### Proc plot"
   ]
  },
  {
   "cell_type": "code",
   "execution_count": 41,
   "metadata": {
    "ExecuteTime": {
     "end_time": "2018-07-18T12:19:18.872994Z",
     "start_time": "2018-07-18T12:19:16.067Z"
    }
   },
   "outputs": [
    {
     "data": {
      "image/png": "[encoded data removed]",
      "text/plain": [
       "plot without title"
      ]
     },
     "metadata": {},
     "output_type": "display_data"
    }
   ],
   "source": [
    "# x points\n",
    "x = D$proc$X %>% as.data.frame\n",
    "x$lab = rownames(x)\n",
    "rownames(x) = 1:nrow(x)\n",
    "x$type = 'X'\n",
    "colnames(x)[1:2] = c('Axis.1', 'Axis.2')\n",
    "\n",
    "# yrot points\n",
    "y = D$proc$Yrot %>% as.data.frame\n",
    "y$lab = rownames(y)\n",
    "rownames(y) = 1:nrow(y)\n",
    "y$type = 'Yrot'\n",
    "colnames(y)[1:2] = c('Axis.1', 'Axis.2')\n",
    "\n",
    "# df for plotting arrows\n",
    "cols = c('Axis.1', 'Axis.2', 'type')\n",
    "df = cbind(x[,cols],y[,cols]) \n",
    "colnames(df) = c('Axis.1.X', 'Axis.2.X', 'type.X',\n",
    "                       'Axis.1.Yrot', 'Axis.2.Yrot', 'type.Yrot')\n",
    "\n",
    "p = ggplot(df, aes(Axis.1.Yrot, Axis.2.Yrot)) +\n",
    "    geom_point(shape='O') +\n",
    "    geom_segment(color='blue', alpha=0.01,\n",
    "                 aes(x=Axis.1.Yrot, y=Axis.2.Yrot, xend=Axis.1.X, yend=Axis.2.X),\n",
    "                 arrow = arrow(length = unit(0.03, \"npc\"))) +\n",
    "    theme_bw()\n",
    "\n",
    "options(repr.plot.height=3, repr.plot.width=3.5)\n",
    "plot(p)"
   ]
  },
  {
   "cell_type": "markdown",
   "metadata": {},
   "source": [
    "## Individual contributions"
   ]
  },
  {
   "cell_type": "code",
   "execution_count": 42,
   "metadata": {
    "ExecuteTime": {
     "end_time": "2018-07-18T12:19:22.282314Z",
     "start_time": "2018-07-18T12:19:21.953Z"
    }
   },
   "outputs": [],
   "source": [
    "# for loading results instead of re-running\n",
    "PACo_links_file = file.path(work_dir, 'physeq_IndD_PACo-Con-links.RDS')"
   ]
  },
  {
   "cell_type": "code",
   "execution_count": 43,
   "metadata": {
    "ExecuteTime": {
     "end_time": "2018-07-18T12:19:22.912948Z",
     "start_time": "2018-07-18T12:19:22.851Z"
    }
   },
   "outputs": [],
   "source": [
    "# cluster resources\n",
    "resources = list(threads = 12,\n",
    "                 h_rt = '36:00:00',\n",
    "                 h_vmem = '10G',\n",
    "                 conda.env = 'py3_physeq_phylo', \n",
    "                 conda.path = \"/ebio/abt3_projects/software/miniconda3/bin\")\n",
    "plan(batchtools_sge, resources=resources)"
   ]
  },
  {
   "cell_type": "code",
   "execution_count": 44,
   "metadata": {
    "ExecuteTime": {
     "end_time": "2018-07-18T12:19:28.212998Z",
     "start_time": "2018-07-18T12:19:23.035Z"
    }
   },
   "outputs": [],
   "source": [
    "#-- WARNING: SLOW --#\n",
    "\n",
    "# wrapper\n",
    "paco_links_run = function(D, threads=1){\n",
    "    doParallel::registerDoParallel(cores=threads)\n",
    "    paco::paco_links(D, .parallel=TRUE)\n",
    "}\n",
    "\n",
    "# run on cluster\n",
    "D_links %<-% { paco_links_run(D, threads) } %packages% c(\"paco\", \"doParallel\")"
   ]
  },
  {
   "cell_type": "code",
   "execution_count": null,
   "metadata": {
    "ExecuteTime": {
     "start_time": "2018-07-18T12:19:23.200Z"
    }
   },
   "outputs": [],
   "source": [
    "# saving object\n",
    "saveRDS(D_links, PACo_links_file)\n",
    "cat('File written:', PACo_links_file, '\\n')"
   ]
  },
  {
   "cell_type": "code",
   "execution_count": null,
   "metadata": {
    "ExecuteTime": {
     "start_time": "2018-07-18T12:19:23.402Z"
    }
   },
   "outputs": [],
   "source": [
    "# loading object\n",
    "D_links = readRDS(PACo_links_file)"
   ]
  },
  {
   "cell_type": "code",
   "execution_count": null,
   "metadata": {
    "ExecuteTime": {
     "start_time": "2018-07-18T12:19:23.618Z"
    }
   },
   "outputs": [],
   "source": [
    "# residuals\n",
    "res = residuals_paco(D_links$proc) %>% as.data.frame \n",
    "colnames(res) = 'residuals'\n",
    "res = res %>%\n",
    "    mutate(comparison = rownames(.)) %>%\n",
    "    separate(comparison, c('host', 'microbe'), sep='-') \n",
    "res %>% status"
   ]
  },
  {
   "cell_type": "code",
   "execution_count": null,
   "metadata": {
    "ExecuteTime": {
     "start_time": "2018-07-18T12:19:23.810Z"
    }
   },
   "outputs": [],
   "source": [
    "res$microbe %>% unique %>% length"
   ]
  },
  {
   "cell_type": "code",
   "execution_count": null,
   "metadata": {
    "ExecuteTime": {
     "start_time": "2018-07-18T12:19:24.122Z"
    }
   },
   "outputs": [],
   "source": [
    "send_email('http://127.0.0.1:9705/notebooks/notebooks/16S/4_host_specific/paco/host_TT/5_paco_IndD.ipynb')"
   ]
  },
  {
   "cell_type": "markdown",
   "metadata": {},
   "source": [
    "# -- TO HERE --"
   ]
  },
  {
   "cell_type": "markdown",
   "metadata": {},
   "source": [
    "### Formatting output"
   ]
  },
  {
   "cell_type": "code",
   "execution_count": null,
   "metadata": {
    "ExecuteTime": {
     "end_time": "2018-03-06T12:34:50.070479Z",
     "start_time": "2018-03-06T12:34:49.963Z"
    }
   },
   "outputs": [],
   "source": [
    "D_links_jk = do.call(rbind, D_links$jackknife) %>%\n",
    "    t %>% as.data.frame %>%\n",
    "    mutate(comparison = rownames(.)) %>%\n",
    "    separate(comparison, c('host', 'microbe'), sep='-') %>%\n",
    "    inner_join(res, c('host'='host', 'microbe'='microbe'))\n",
    "\n",
    "D_links_jk %>% status"
   ]
  },
  {
   "cell_type": "code",
   "execution_count": null,
   "metadata": {
    "ExecuteTime": {
     "end_time": "2018-03-06T12:34:51.028210Z",
     "start_time": "2018-03-06T12:34:50.880Z"
    }
   },
   "outputs": [],
   "source": [
    "# adding taxonomy\n",
    "tax = physeq %>% tax_table %>% \n",
    "    as.matrix %>% as.data.frame %>%\n",
    "    mutate(microbe = rownames(.))\n",
    "\n",
    "D_links_jk = D_links_jk %>%\n",
    "    inner_join(tax, c('microbe'))\n",
    "\n",
    "D_links_jk %>% status"
   ]
  },
  {
   "cell_type": "markdown",
   "metadata": {},
   "source": [
    "### Summarizing results"
   ]
  },
  {
   "cell_type": "code",
   "execution_count": null,
   "metadata": {
    "ExecuteTime": {
     "end_time": "2018-03-06T12:34:55.552244Z",
     "start_time": "2018-03-06T12:34:51.921Z"
    }
   },
   "outputs": [],
   "source": [
    "# value distribution\n",
    "tmp = D_links_jk %>%\n",
    "    unite(compare, host, microbe) %>%\n",
    "    mutate(mean = mean %>% as.character %>% as.numeric,\n",
    "           upper = upper %>% as.character %>% as.numeric, \n",
    "           lower = mean - (upper - mean),\n",
    "           compare = compare %>% reorder(-mean))\n",
    "\n",
    "p = ggplot(tmp, aes(compare, mean)) +\n",
    "    geom_linerange(aes(ymin=lower, ymax=upper), alpha=0.3) +\n",
    "    geom_point(size=0.5) +\n",
    "    theme_bw() +\n",
    "    theme(\n",
    "        axis.text.x = element_blank()\n",
    "    )\n",
    "    \n",
    "options(repr.plot.width=8, repr.plot.height=2.5)\n",
    "plot_write(p)"
   ]
  },
  {
   "cell_type": "code",
   "execution_count": null,
   "metadata": {
    "ExecuteTime": {
     "end_time": "2018-03-06T12:34:56.549266Z",
     "start_time": "2018-03-06T12:34:53.009Z"
    }
   },
   "outputs": [],
   "source": [
    "# value distribution\n",
    "p = ggplot(D_links_jk, aes(residuals)) +\n",
    "    geom_histogram(bins=70) +\n",
    "    theme_bw() \n",
    "    \n",
    "options(repr.plot.width=6, repr.plot.height=3)\n",
    "plot_write(p)"
   ]
  },
  {
   "cell_type": "code",
   "execution_count": null,
   "metadata": {
    "ExecuteTime": {
     "end_time": "2018-03-06T12:35:00.791439Z",
     "start_time": "2018-03-06T12:34:53.999Z"
    }
   },
   "outputs": [],
   "source": [
    "# summarizing by taxonomy\n",
    "tmp = D_links_jk %>%\n",
    "    filter(!is.na(residuals),\n",
    "           Genus != '', \n",
    "           Genus != 'uncultured',\n",
    "           Genus != 'unclassified') %>%\n",
    "    group_by(Genus) %>%\n",
    "    mutate(mean_res = mean(residuals, na.rm=TRUE),\n",
    "           n = n() %>% as.numeric) %>%\n",
    "    ungroup() %>%\n",
    "    mutate(Genus = Genus %>% reorder(mean_res),\n",
    "           Genus = Genus %>% reorder(Phylum %>% as.factor %>% as.numeric))\n",
    "\n",
    "p = ggplot(tmp, aes(Genus, residuals, color=Phylum)) +\n",
    "    geom_boxplot() +\n",
    "    theme_bw() +\n",
    "    theme(\n",
    "        axis.text.x = element_text(angle=90, hjust=1, vjust=0.5)\n",
    "    )\n",
    "\n",
    "options(repr.plot.width=10, repr.plot.height=4)\n",
    "plot_write(p)"
   ]
  },
  {
   "cell_type": "code",
   "execution_count": null,
   "metadata": {
    "ExecuteTime": {
     "end_time": "2018-03-06T12:35:02.315965Z",
     "start_time": "2018-03-06T12:34:54.968Z"
    }
   },
   "outputs": [],
   "source": [
    "p = ggplot(tmp, aes(Genus, n, fill=Phylum)) +\n",
    "    geom_bar(stat='identity') +\n",
    "    theme_bw() +\n",
    "    theme(\n",
    "        axis.text.x = element_text(angle=90, hjust=1, vjust=0.5)\n",
    "    )\n",
    "\n",
    "options(repr.plot.width=10, repr.plot.height=4)\n",
    "plot_write(p)"
   ]
  },
  {
   "cell_type": "code",
   "execution_count": null,
   "metadata": {
    "ExecuteTime": {
     "end_time": "2018-03-06T12:35:02.393720Z",
     "start_time": "2018-03-06T12:34:56.730Z"
    }
   },
   "outputs": [],
   "source": [
    "tmp %>% \n",
    "    filter(Genus == 'Christensenella') "
   ]
  },
  {
   "cell_type": "markdown",
   "metadata": {},
   "source": [
    "### Writing table"
   ]
  },
  {
   "cell_type": "code",
   "execution_count": null,
   "metadata": {
    "ExecuteTime": {
     "end_time": "2018-03-06T12:35:02.511176Z",
     "start_time": "2018-03-06T12:34:59.080Z"
    }
   },
   "outputs": [],
   "source": [
    "res_file = file.path(work_dir, 'physeq_IndD_PACo-Con-links.txt')\n",
    "write.table(D_links_jk, file=res_file, sep='\\t', quote=FALSE, row.names=FALSE)\n",
    "cat('File written:', res_file, '\\n')"
   ]
  },
  {
   "cell_type": "markdown",
   "metadata": {},
   "source": [
    "### Formatting for iTOL\n",
    "\n",
    "* Plotting residuals onto host tree"
   ]
  },
  {
   "cell_type": "code",
   "execution_count": null,
   "metadata": {
    "ExecuteTime": {
     "end_time": "2018-03-06T12:37:50.673708Z",
     "start_time": "2018-03-06T12:37:50.618Z"
    }
   },
   "outputs": [],
   "source": [
    "D_links_jk %>% status"
   ]
  },
  {
   "cell_type": "code",
   "execution_count": null,
   "metadata": {
    "ExecuteTime": {
     "end_time": "2018-03-06T12:42:33.829292Z",
     "start_time": "2018-03-06T12:42:33.695Z"
    }
   },
   "outputs": [],
   "source": [
    "otu_m = D_links_jk %>%\n",
    "    mutate(microbe = microbe %>% as.factor %>% as.numeric,\n",
    "           microbe = gsub('^', 'SV', microbe)) %>%\n",
    "    unite(OTU, Genus, microbe) %>%\n",
    "    filter(!grepl('^_SV', OTU)) %>%\n",
    "    #mutate(host = gsub('^[A-Z][0-9]+b*\\\\.', '', host),\n",
    "    #       host = gsub(' ', '_', host)) %>%\n",
    "    dplyr::select(host, OTU, residuals) %>%\n",
    "    spread(OTU, residuals) \n",
    "\n",
    "rownames(otu_m) = otu_m$host \n",
    "otu_m$host = NULL\n",
    "\n",
    "otu_m %>% status"
   ]
  },
  {
   "cell_type": "code",
   "execution_count": null,
   "metadata": {
    "ExecuteTime": {
     "end_time": "2018-03-06T12:42:36.733322Z",
     "start_time": "2018-03-06T12:42:36.614Z"
    }
   },
   "outputs": [],
   "source": [
    "# checking overlap with host clado tips\n",
    "host_tree = read.tree(host_tree_file)\n",
    "setdiff(host_tree$tip.label, rownames(otu_m)) %>% print\n",
    "setdiff(rownames(otu_m), host_tree$tip.label) %>% print"
   ]
  },
  {
   "cell_type": "code",
   "execution_count": null,
   "metadata": {
    "ExecuteTime": {
     "end_time": "2018-03-06T12:42:40.175981Z",
     "start_time": "2018-03-06T12:42:40.013Z"
    }
   },
   "outputs": [],
   "source": [
    "itol_htmp_file = file.path(work_dir, 'physeq_IndD_PACo-Con-links_htmp.txt')\n",
    "labs = gsub(' ', '_', colnames(otu_m))\n",
    "labs = sprintf('FIELD_LABELS %s\\n', paste(labs, collapse=' '))\n",
    "\n",
    "cat('DATASET_HEATMAP\\n', file=itol_htmp_file)\n",
    "cat('SEPARATOR SPACE\\n', file=itol_htmp_file, append=TRUE)\n",
    "cat('DATASET_LABEL paco_residuals\\n', file=itol_htmp_file, append=TRUE)\n",
    "cat('COLOR #ff0000\\n', file=itol_htmp_file, append=TRUE)\n",
    "cat(labs, file=itol_htmp_file, append=TRUE)\n",
    "cat('DATA\\n', file=itol_htmp_file, append=TRUE)\n",
    "write.table(otu_m, file=itol_htmp_file, append=TRUE, sep=' ', \n",
    "            quote=FALSE, col.names=FALSE)\n",
    "cat('File written:', itol_htmp_file, '\\n')"
   ]
  },
  {
   "cell_type": "markdown",
   "metadata": {},
   "source": [
    "### iTOL: distribution of residuals per host species"
   ]
  },
  {
   "cell_type": "code",
   "execution_count": null,
   "metadata": {
    "ExecuteTime": {
     "end_time": "2018-03-06T12:45:37.673505Z",
     "start_time": "2018-03-06T12:45:37.422Z"
    }
   },
   "outputs": [],
   "source": [
    "# summing residuals by host\n",
    "#ID1,minimum,q1,median,q3,maximum,extreme_value1,extreme_value2\n",
    "tmp = D_links_jk %>%\n",
    "    filter(!is.na(residuals)) %>%\n",
    "    #mutate(host = gsub('^[A-Z][0-9]+b*\\\\.', '', host),\n",
    "    #       host = gsub(' ', '_', host)) %>%\n",
    "    group_by(host) %>%\n",
    "    summarize(minimum = min(residuals),\n",
    "              q1 = quantile(residuals, 0.25),\n",
    "              median = median(residuals),\n",
    "              q3 = quantile(residuals, 0.75),\n",
    "              maximum = max(residuals)) %>%\n",
    "    ungroup() \n",
    "\n",
    "\n",
    "tmp %>% status"
   ]
  },
  {
   "cell_type": "code",
   "execution_count": null,
   "metadata": {
    "ExecuteTime": {
     "end_time": "2018-03-06T12:45:45.356817Z",
     "start_time": "2018-03-06T12:45:45.270Z"
    }
   },
   "outputs": [],
   "source": [
    "itol_box_file = file.path(work_dir, 'physeq_IndD_PACo-Con-links_box.txt')\n",
    "\n",
    "cat('DATASET_BOXPLOT\\n', file=itol_box_file)\n",
    "cat('SEPARATOR SPACE\\n', file=itol_box_file, append=TRUE)\n",
    "cat('DATASET_LABEL residuals_boxplot\\n', file=itol_box_file, append=TRUE)\n",
    "cat('COLOR #ff0000\\n', file=itol_box_file, append=TRUE)\n",
    "cat('DATA\\n', file=itol_box_file, append=TRUE)\n",
    "write.table(tmp, file=itol_box_file, append=TRUE, sep=' ', \n",
    "            quote=FALSE, row.names=FALSE, col.names=FALSE)\n",
    "cat('File written:', itol_box_file, '\\n')"
   ]
  },
  {
   "cell_type": "markdown",
   "metadata": {},
   "source": [
    "# sessionInfo"
   ]
  },
  {
   "cell_type": "code",
   "execution_count": null,
   "metadata": {
    "ExecuteTime": {
     "end_time": "2018-03-06T12:45:50.079479Z",
     "start_time": "2018-03-06T12:45:46.832Z"
    }
   },
   "outputs": [],
   "source": [
    "sessionInfo()"
   ]
  },
  {
   "cell_type": "markdown",
   "metadata": {},
   "source": [
    "***"
   ]
  }
 ],
 "metadata": {
  "kernelspec": {
   "display_name": "R [conda env:py3_physeq_phylo]",
   "language": "R",
   "name": "conda-env-py3_physeq_phylo-r"
  },
  "language_info": {
   "codemirror_mode": "r",
   "file_extension": ".r",
   "mimetype": "text/x-r-source",
   "name": "R",
   "pygments_lexer": "r",
   "version": "3.4.1"
  },
  "notify_time": "30",
  "toc": {
   "nav_menu": {},
   "number_sections": true,
   "sideBar": true,
   "skip_h1_title": false,
   "toc_cell": false,
   "toc_position": {
    "height": "1209px",
    "left": "0px",
    "right": "1068px",
    "top": "111px",
    "width": "212px"
   },
   "toc_section_display": "block",
   "toc_window_display": true
  }
 },
 "nbformat": 4,
 "nbformat_minor": 2
}
