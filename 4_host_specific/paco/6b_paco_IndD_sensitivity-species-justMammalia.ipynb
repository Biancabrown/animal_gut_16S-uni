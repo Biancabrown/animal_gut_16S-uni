{
 "cells": [
  {
   "cell_type": "markdown",
   "metadata": {},
   "source": [
    "# Goal\n",
    "\n",
    "* Run `paco` analysis on IndD dataset summed by host\n",
    "* Sensitivity analysis (species-level): selecting one sample per species\n",
    "* Just Mammalia"
   ]
  },
  {
   "cell_type": "markdown",
   "metadata": {},
   "source": [
    "# Var"
   ]
  },
  {
   "cell_type": "code",
   "execution_count": 1,
   "metadata": {
    "ExecuteTime": {
     "end_time": "2018-09-04T11:03:40.490057Z",
     "start_time": "2018-09-04T11:03:45.347Z"
    }
   },
   "outputs": [],
   "source": [
    "work_dir = '/ebio/abt3_projects/Georg_animal_feces/data/host_specific/pcao/host_TT/'\n",
    "\n",
    "# phyloseq\n",
    "physeq_file = '/ebio/abt3_projects/Georg_animal_feces/data/16S/LLA/phyloseq/physeq_r5k.RDS'\n",
    "\n",
    "# host phylogeny\n",
    "host_tree_file = '/ebio/abt3_projects/Georg_animal_feces/data/animal/phylogeny/TT/unified_metadata_complete_20180625_rn_16S-r5k_IndD.nwk'\n",
    "\n",
    "# misc\n",
    "sparsity_cutoff = 0.05\n",
    "threads = 12"
   ]
  },
  {
   "cell_type": "markdown",
   "metadata": {},
   "source": [
    "# Init"
   ]
  },
  {
   "cell_type": "code",
   "execution_count": 2,
   "metadata": {
    "ExecuteTime": {
     "end_time": "2018-09-04T11:03:54.714704Z",
     "start_time": "2018-09-04T11:03:45.562Z"
    }
   },
   "outputs": [
    {
     "name": "stderr",
     "output_type": "stream",
     "text": [
      "\n",
      "Attaching package: ‘dplyr’\n",
      "\n",
      "The following objects are masked from ‘package:stats’:\n",
      "\n",
      "    filter, lag\n",
      "\n",
      "The following objects are masked from ‘package:base’:\n",
      "\n",
      "    intersect, setdiff, setequal, union\n",
      "\n",
      "\n",
      "Attaching package: ‘future.apply’\n",
      "\n",
      "The following object is masked from ‘package:future’:\n",
      "\n",
      "    future_lapply\n",
      "\n"
     ]
    }
   ],
   "source": [
    "library(dplyr)\n",
    "library(tidyr)\n",
    "library(ggplot2)\n",
    "library(stringr)\n",
    "library(phyloseq)\n",
    "library(ape)\n",
    "library(paco)\n",
    "\n",
    "library(future)\n",
    "library(future.batchtools)\n",
    "library(future.apply)\n",
    "\n",
    "source('/ebio/abt3_projects/Georg_animal_feces/code/init.R') "
   ]
  },
  {
   "cell_type": "code",
   "execution_count": 3,
   "metadata": {
    "ExecuteTime": {
     "end_time": "2018-09-04T11:03:55.085718Z",
     "start_time": "2018-09-04T11:03:50.899Z"
    }
   },
   "outputs": [
    {
     "name": "stdout",
     "output_type": "stream",
     "text": [
      "Directory already exists: /ebio/abt3_projects/Georg_animal_feces/data/host_specific/pcao/host_TT/ \n"
     ]
    }
   ],
   "source": [
    "make_dir(work_dir)\n",
    "setwd(work_dir)"
   ]
  },
  {
   "cell_type": "code",
   "execution_count": 4,
   "metadata": {
    "ExecuteTime": {
     "end_time": "2018-09-04T11:03:55.118794Z",
     "start_time": "2018-09-04T11:03:51.137Z"
    }
   },
   "outputs": [],
   "source": [
    "rescale_dist_mtx = function(m){\n",
    "    m = m %>% as.matrix\n",
    "    labs = m %>% colnames\n",
    "    n_row = m %>% nrow\n",
    "    n_col = m %>% ncol\n",
    "    x = m %>% as.vector \n",
    "    x = scales::rescale(x) \n",
    "    m = matrix(x, nrow=n_row, ncol=n_col)\n",
    "    colnames(m) = labs\n",
    "    rownames(m) = labs\n",
    "    m = m %>% as.dist\n",
    "    return(m)\n",
    "}"
   ]
  },
  {
   "cell_type": "markdown",
   "metadata": {},
   "source": [
    "# Load"
   ]
  },
  {
   "cell_type": "code",
   "execution_count": 5,
   "metadata": {
    "ExecuteTime": {
     "end_time": "2018-09-04T11:03:56.640811Z",
     "start_time": "2018-09-04T11:03:52.553Z"
    }
   },
   "outputs": [
    {
     "data": {
      "text/plain": [
       "phyloseq-class experiment-level object\n",
       "otu_table()   OTU Table:         [ 30290 taxa and 213 samples ]\n",
       "sample_data() Sample Data:       [ 213 samples by 171 sample variables ]\n",
       "tax_table()   Taxonomy Table:    [ 30290 taxa by 7 taxonomic ranks ]\n",
       "phy_tree()    Phylogenetic Tree: [ 30290 tips and 29752 internal nodes ]"
      ]
     },
     "metadata": {},
     "output_type": "display_data"
    }
   ],
   "source": [
    "physeq = readRDS(physeq_file)\n",
    "physeq"
   ]
  },
  {
   "cell_type": "code",
   "execution_count": 6,
   "metadata": {
    "ExecuteTime": {
     "end_time": "2018-09-04T11:04:01.651655Z",
     "start_time": "2018-09-04T11:03:53.583Z"
    }
   },
   "outputs": [
    {
     "data": {
      "text/plain": [
       "phyloseq-class experiment-level object\n",
       "otu_table()   OTU Table:         [ 408 taxa and 213 samples ]\n",
       "sample_data() Sample Data:       [ 213 samples by 171 sample variables ]\n",
       "tax_table()   Taxonomy Table:    [ 408 taxa by 7 taxonomic ranks ]\n",
       "phy_tree()    Phylogenetic Tree: [ 408 tips and 406 internal nodes ]"
      ]
     },
     "metadata": {},
     "output_type": "display_data"
    }
   ],
   "source": [
    "physeq = physeq %>%\n",
    "    filter_taxa(function(x) sum(x > 0) / length(x) > sparsity_cutoff, TRUE) \n",
    "physeq"
   ]
  },
  {
   "cell_type": "code",
   "execution_count": 7,
   "metadata": {
    "ExecuteTime": {
     "end_time": "2018-09-04T11:04:01.697605Z",
     "start_time": "2018-09-04T11:03:53.769Z"
    }
   },
   "outputs": [
    {
     "data": {
      "text/plain": [
       "\n",
       "Phylogenetic tree with 213 tips and 177 internal nodes.\n",
       "\n",
       "Tip labels:\n",
       "\tX256.Zander, F302.Northern.Pike, X188.Brook.Trout, F300.Asp, X330.Ide, X327.Silver.Bream, ...\n",
       "Node labels:\n",
       "\tNode1, Node2, Node3, Node4, Node5, Node6, ...\n",
       "\n",
       "Rooted; includes branch lengths."
      ]
     },
     "metadata": {},
     "output_type": "display_data"
    }
   ],
   "source": [
    "host_tree = read.tree(host_tree_file)\n",
    "host_tree"
   ]
  },
  {
   "cell_type": "markdown",
   "metadata": {},
   "source": [
    "# Filtering dataset"
   ]
  },
  {
   "cell_type": "markdown",
   "metadata": {},
   "source": [
    "## Just Mammalia"
   ]
  },
  {
   "cell_type": "code",
   "execution_count": 9,
   "metadata": {
    "ExecuteTime": {
     "end_time": "2018-09-04T11:08:41.537832Z",
     "start_time": "2018-09-04T11:08:46.601Z"
    }
   },
   "outputs": [
    {
     "name": "stderr",
     "output_type": "stream",
     "text": [
      "Warning message in class(X) <- NULL:\n",
      "“Setting class(x) to NULL;   result will no longer be an S4 object”"
     ]
    },
    {
     "name": "stdout",
     "output_type": "stream",
     "text": [
      "[1] 213 172\n",
      "[1] 160 172\n"
     ]
    },
    {
     "data": {
      "text/html": [
       "<table>\n",
       "<thead><tr><th scope=col>X.SampleID</th><th scope=col>BarcodeSequence</th><th scope=col>LinkerPrimerSequence</th><th scope=col>Primer</th><th scope=col>ReversePrimer</th><th scope=col>Barcode_ID</th><th scope=col>sample_number</th><th scope=col>host_subject_id</th><th scope=col>host_german_name</th><th scope=col>host_common_name</th><th scope=col>⋯</th><th scope=col>Cornell_Dilution_DNA_Illumina</th><th scope=col>Num_Illumina</th><th scope=col>Num</th><th scope=col>sorting_454</th><th scope=col>comments_additional</th><th scope=col>DNA_box_20180622</th><th scope=col>sample_vol_20180622</th><th scope=col>sample_label_20180622</th><th scope=col>Description</th><th scope=col>SampleID</th></tr></thead>\n",
       "<tbody>\n",
       "\t<tr><td>X1.Eurasian.Beaver   </td><td>ACTCACGGTATG         </td><td>CATGCTGCCTCCCGTAGGAGT</td><td>GCCTCCCTCGCGCCATCAG  </td><td>AGAGTTTGATCCTGGCTCAG </td><td>338R_BC0049          </td><td>1                    </td><td>1                    </td><td>Biber                </td><td>Eurasian.Beaver      </td><td>⋯                    </td><td>4                    </td><td>120                  </td><td>18                   </td><td>18                   </td><td>NA                   </td><td>1                    </td><td>20                   </td><td>1                    </td><td>NA                   </td><td>X1.Eurasian.Beaver   </td></tr>\n",
       "\t<tr><td>X101.Horse           </td><td>ACGACGTCTTAG         </td><td>CATGCTGCCTCCCGTAGGAGT</td><td>GCCTCCCTCGCGCCATCAG  </td><td>AGAGTTTGATCCTGGCTCAG </td><td>338R_BC0030          </td><td>101                  </td><td>101                  </td><td>Hauspferd            </td><td>Horse                </td><td>⋯                    </td><td>16                   </td><td>344                  </td><td>160                  </td><td>160                  </td><td>NA                   </td><td>2                    </td><td>20                   </td><td>101                  </td><td>NA                   </td><td>X101.Horse           </td></tr>\n",
       "\t<tr><td>X102.Kulan           </td><td>ACGAGTGCTATC         </td><td>CATGCTGCCTCCCGTAGGAGT</td><td>GCCTCCCTCGCGCCATCAG  </td><td>AGAGTTTGATCCTGGCTCAG </td><td>338R_BC0031          </td><td>102                  </td><td>102                  </td><td>Khulan               </td><td>Kulan                </td><td>⋯                    </td><td>16                   </td><td>345                  </td><td>161                  </td><td>161                  </td><td>NA                   </td><td>2                    </td><td>20                   </td><td>102                  </td><td>NA                   </td><td>X102.Kulan           </td></tr>\n",
       "</tbody>\n",
       "</table>\n"
      ],
      "text/latex": [
       "\\begin{tabular}{r|llllllllllllllllllllllllllllllllllllllllllllllllllllllllllllllllllllllllllllllllllllllllllllllllllllllllllllllllllllllllllllllllllllllllllllllllllllllllllllllllllllllllllll}\n",
       " X.SampleID & BarcodeSequence & LinkerPrimerSequence & Primer & ReversePrimer & Barcode\\_ID & sample\\_number & host\\_subject\\_id & host\\_german\\_name & host\\_common\\_name & ⋯ & Cornell\\_Dilution\\_DNA\\_Illumina & Num\\_Illumina & Num & sorting\\_454 & comments\\_additional & DNA\\_box\\_20180622 & sample\\_vol\\_20180622 & sample\\_label\\_20180622 & Description & SampleID\\\\\n",
       "\\hline\n",
       "\t X1.Eurasian.Beaver    & ACTCACGGTATG          & CATGCTGCCTCCCGTAGGAGT & GCCTCCCTCGCGCCATCAG   & AGAGTTTGATCCTGGCTCAG  & 338R\\_BC0049         & 1                     & 1                     & Biber                 & Eurasian.Beaver       & ⋯                     & 4                     & 120                   & 18                    & 18                    & NA                    & 1                     & 20                    & 1                     & NA                    & X1.Eurasian.Beaver   \\\\\n",
       "\t X101.Horse            & ACGACGTCTTAG          & CATGCTGCCTCCCGTAGGAGT & GCCTCCCTCGCGCCATCAG   & AGAGTTTGATCCTGGCTCAG  & 338R\\_BC0030         & 101                   & 101                   & Hauspferd             & Horse                 & ⋯                     & 16                    & 344                   & 160                   & 160                   & NA                    & 2                     & 20                    & 101                   & NA                    & X101.Horse           \\\\\n",
       "\t X102.Kulan            & ACGAGTGCTATC          & CATGCTGCCTCCCGTAGGAGT & GCCTCCCTCGCGCCATCAG   & AGAGTTTGATCCTGGCTCAG  & 338R\\_BC0031         & 102                   & 102                   & Khulan                & Kulan                 & ⋯                     & 16                    & 345                   & 161                   & 161                   & NA                    & 2                     & 20                    & 102                   & NA                    & X102.Kulan           \\\\\n",
       "\\end{tabular}\n"
      ],
      "text/markdown": [
       "\n",
       "X.SampleID | BarcodeSequence | LinkerPrimerSequence | Primer | ReversePrimer | Barcode_ID | sample_number | host_subject_id | host_german_name | host_common_name | ⋯ | Cornell_Dilution_DNA_Illumina | Num_Illumina | Num | sorting_454 | comments_additional | DNA_box_20180622 | sample_vol_20180622 | sample_label_20180622 | Description | SampleID | \n",
       "|---|---|---|\n",
       "| X1.Eurasian.Beaver    | ACTCACGGTATG          | CATGCTGCCTCCCGTAGGAGT | GCCTCCCTCGCGCCATCAG   | AGAGTTTGATCCTGGCTCAG  | 338R_BC0049           | 1                     | 1                     | Biber                 | Eurasian.Beaver       | ⋯                     | 4                     | 120                   | 18                    | 18                    | NA                    | 1                     | 20                    | 1                     | NA                    | X1.Eurasian.Beaver    | \n",
       "| X101.Horse            | ACGACGTCTTAG          | CATGCTGCCTCCCGTAGGAGT | GCCTCCCTCGCGCCATCAG   | AGAGTTTGATCCTGGCTCAG  | 338R_BC0030           | 101                   | 101                   | Hauspferd             | Horse                 | ⋯                     | 16                    | 344                   | 160                   | 160                   | NA                    | 2                     | 20                    | 101                   | NA                    | X101.Horse            | \n",
       "| X102.Kulan            | ACGAGTGCTATC          | CATGCTGCCTCCCGTAGGAGT | GCCTCCCTCGCGCCATCAG   | AGAGTTTGATCCTGGCTCAG  | 338R_BC0031           | 102                   | 102                   | Khulan                | Kulan                 | ⋯                     | 16                    | 345                   | 161                   | 161                   | NA                    | 2                     | 20                    | 102                   | NA                    | X102.Kulan            | \n",
       "\n",
       "\n"
      ],
      "text/plain": [
       "  X.SampleID         BarcodeSequence LinkerPrimerSequence  Primer             \n",
       "1 X1.Eurasian.Beaver ACTCACGGTATG    CATGCTGCCTCCCGTAGGAGT GCCTCCCTCGCGCCATCAG\n",
       "2 X101.Horse         ACGACGTCTTAG    CATGCTGCCTCCCGTAGGAGT GCCTCCCTCGCGCCATCAG\n",
       "3 X102.Kulan         ACGAGTGCTATC    CATGCTGCCTCCCGTAGGAGT GCCTCCCTCGCGCCATCAG\n",
       "  ReversePrimer        Barcode_ID  sample_number host_subject_id\n",
       "1 AGAGTTTGATCCTGGCTCAG 338R_BC0049 1             1              \n",
       "2 AGAGTTTGATCCTGGCTCAG 338R_BC0030 101           101            \n",
       "3 AGAGTTTGATCCTGGCTCAG 338R_BC0031 102           102            \n",
       "  host_german_name host_common_name ⋯ Cornell_Dilution_DNA_Illumina\n",
       "1 Biber            Eurasian.Beaver  ⋯ 4                            \n",
       "2 Hauspferd        Horse            ⋯ 16                           \n",
       "3 Khulan           Kulan            ⋯ 16                           \n",
       "  Num_Illumina Num sorting_454 comments_additional DNA_box_20180622\n",
       "1 120          18  18          NA                  1               \n",
       "2 344          160 160         NA                  2               \n",
       "3 345          161 161         NA                  2               \n",
       "  sample_vol_20180622 sample_label_20180622 Description SampleID          \n",
       "1 20                  1                     NA          X1.Eurasian.Beaver\n",
       "2 20                  101                   NA          X101.Horse        \n",
       "3 20                  102                   NA          X102.Kulan        "
      ]
     },
     "metadata": {},
     "output_type": "display_data"
    }
   ],
   "source": [
    "metadata = physeq %>%\n",
    "    sample_data %>%\n",
    "    as.matrix %>%\n",
    "    as.data.frame \n",
    "metadata$SampleID = rownames(metadata)\n",
    "metadata %>% dim %>% print\n",
    "\n",
    "metadata_f = metadata %>%\n",
    "    filter(class != 'Mammalia') %>% \n",
    "    dplyr::select(scientific_name, class, order, family, genus)\n",
    "\n",
    "metadata = metadata %>%\n",
    "    filter(class == 'Mammalia')\n",
    "\n",
    "metadata %>% dfhead"
   ]
  },
  {
   "cell_type": "code",
   "execution_count": 10,
   "metadata": {
    "ExecuteTime": {
     "end_time": "2018-09-04T11:08:42.212714Z",
     "start_time": "2018-09-04T11:08:47.489Z"
    }
   },
   "outputs": [
    {
     "name": "stdout",
     "output_type": "stream",
     "text": [
      "[1] 53\n"
     ]
    },
    {
     "data": {
      "text/html": [
       "<table>\n",
       "<thead><tr><th scope=col>scientific_name</th><th scope=col>class</th><th scope=col>order</th><th scope=col>family</th><th scope=col>genus</th></tr></thead>\n",
       "<tbody>\n",
       "\t<tr><td>Falco_tinnunculus       </td><td>Aves                    </td><td>Falconiformes           </td><td>Falconidae              </td><td>Falco                   </td></tr>\n",
       "\t<tr><td>Ardea_cinerea           </td><td>Aves                    </td><td>Ciconiiformes           </td><td>Ardeidae                </td><td>Ardea                   </td></tr>\n",
       "\t<tr><td>Haliaeetus_albicilla    </td><td>Aves                    </td><td>Falconiformes           </td><td>Accipitridae            </td><td>Haliaeetus              </td></tr>\n",
       "\t<tr><td>Phalacrocorax_carbo     </td><td>Aves                    </td><td>Pelecaniformes          </td><td>Phalacrocoracidae       </td><td>Phalacrocorax           </td></tr>\n",
       "\t<tr><td>Carduelis_chloris       </td><td>Aves                    </td><td>Passeriformes           </td><td>Fringillidae            </td><td>Carduelis               </td></tr>\n",
       "\t<tr><td>Carduelis_chloris       </td><td>Aves                    </td><td>Passeriformes           </td><td>Fringillidae            </td><td>Carduelis               </td></tr>\n",
       "\t<tr><td>Salvelinus_fontinalis   </td><td>Actinopterygii          </td><td>Salmoniformes           </td><td>Salmonidae              </td><td>Salvelinus              </td></tr>\n",
       "\t<tr><td>Hemidactylus_frenatus   </td><td>Reptilia                </td><td>Squamata                </td><td>Gekkonidae              </td><td>Hemidactylus            </td></tr>\n",
       "\t<tr><td>Zamenis_longissimus     </td><td>Reptilia                </td><td>Squamata                </td><td>Colubridae              </td><td>Zamenis                 </td></tr>\n",
       "\t<tr><td>Podarcis_siculus        </td><td>Reptilia                </td><td>Squamata                </td><td>Lacertidae              </td><td>Podarcis                </td></tr>\n",
       "\t<tr><td>Sander_lucioperca       </td><td>Actinopterygii          </td><td>Perciformes             </td><td>Percidae                </td><td>Sander                  </td></tr>\n",
       "\t<tr><td>Turdus_merula           </td><td>Aves                    </td><td>Passeriformes           </td><td>Turdidae                </td><td>Turdus                  </td></tr>\n",
       "\t<tr><td>Ciconia_ciconia         </td><td>Aves                    </td><td>Ciconiiformes           </td><td>Ciconiidae              </td><td>Ciconia                 </td></tr>\n",
       "\t<tr><td>Corvus_frugilegus       </td><td>Aves                    </td><td>Passeriformes           </td><td>Corvidae                </td><td>Corvus                  </td></tr>\n",
       "\t<tr><td>Chrysococcyx_basalis    </td><td>Aves                    </td><td>Cuculiformes            </td><td>Cuculidae               </td><td>Chrysococcyx            </td></tr>\n",
       "\t<tr><td>Anser_anser             </td><td>Aves                    </td><td>Anseriformes            </td><td>Anatidae                </td><td>Anser                   </td></tr>\n",
       "\t<tr><td>Blicca_bjoerkna         </td><td>Actinopterygii          </td><td>Cypriniformes           </td><td>Cyprinidae              </td><td>Blicca                  </td></tr>\n",
       "\t<tr><td>Bufo_viridis            </td><td>Amphibia                </td><td>Anura                   </td><td>Bufonidae               </td><td>Bufo                    </td></tr>\n",
       "\t<tr><td>Rana_dalmatina          </td><td>Amphibia                </td><td>Anura                   </td><td>Ranidae                 </td><td>Rana                    </td></tr>\n",
       "\t<tr><td>Crocodylus_moreletii    </td><td>Reptilia                </td><td>Crocodilia              </td><td>Crocodylidae            </td><td>Crocodylus              </td></tr>\n",
       "\t<tr><td>Acrocephalus_scirpaceus </td><td>Aves                    </td><td>Passeriformes           </td><td>Sylviidae               </td><td>Acrocephalus            </td></tr>\n",
       "\t<tr><td>Crocodylus_niloticus    </td><td>Reptilia                </td><td>Crocodilia              </td><td>Crocodylidae            </td><td>Crocodylus              </td></tr>\n",
       "\t<tr><td>Calidris_alpina         </td><td>Aves                    </td><td>Charadriiformes         </td><td>Scolopacidae            </td><td>Calidris                </td></tr>\n",
       "\t<tr><td>Vipera_ursinii          </td><td>Reptilia                </td><td>Squamata                </td><td>Viperidae               </td><td>Vipera                  </td></tr>\n",
       "\t<tr><td>Bufo_bufo               </td><td>Amphibia                </td><td>Anura                   </td><td>Bufonidae               </td><td>Bufo                    </td></tr>\n",
       "\t<tr><td>Bufo_bufo               </td><td>Amphibia                </td><td>Anura                   </td><td>Bufonidae               </td><td>Bufo                    </td></tr>\n",
       "\t<tr><td>Aspius_aspius           </td><td>Actinopterygii          </td><td>Cypriniformes           </td><td>Cyprinidae              </td><td>Aspius                  </td></tr>\n",
       "\t<tr><td>Asio_otus               </td><td>Aves                    </td><td>Strigiformes            </td><td>Strigidae               </td><td>Asio                    </td></tr>\n",
       "\t<tr><td>Cyprinus_carpio         </td><td>Actinopterygii          </td><td>Cypriniformes           </td><td>Cyprinidae              </td><td>Cyprinus                </td></tr>\n",
       "\t<tr><td>Lagopus_muta            </td><td>Aves                    </td><td>Galliformes             </td><td>Phasianidae             </td><td>Lagopus                 </td></tr>\n",
       "\t<tr><td>Parus_major             </td><td>Aves                    </td><td>Passeriformes           </td><td>Paridae                 </td><td>Parus                   </td></tr>\n",
       "\t<tr><td>Corvus_corone           </td><td>Aves                    </td><td>Passeriformes           </td><td>Corvidae                </td><td>Corvus                  </td></tr>\n",
       "\t<tr><td>Testudo_hermanni        </td><td>Reptilia                </td><td>Squamata                </td><td>Testudinidae            </td><td>Testudo                 </td></tr>\n",
       "\t<tr><td>Circus_aeruginosus      </td><td>Aves                    </td><td>Falconiformes           </td><td>Accipitridae            </td><td>Circus                  </td></tr>\n",
       "\t<tr><td>Branta_leucopsis        </td><td>Aves                    </td><td>Anseriformes            </td><td>Anatidae                </td><td>Branta                  </td></tr>\n",
       "\t<tr><td>Branta_leucopsis        </td><td>Aves                    </td><td>Anseriformes            </td><td>Anatidae                </td><td>Branta                  </td></tr>\n",
       "\t<tr><td>Dromaius_novaehollandiae</td><td>Aves                    </td><td>Struthioniformes        </td><td>Dromaiidae              </td><td>Dromaius                </td></tr>\n",
       "\t<tr><td>Gallus_gallus           </td><td>Aves                    </td><td>Galliformes             </td><td>Phasianidae             </td><td>Gallus                  </td></tr>\n",
       "\t<tr><td>Blicca_bjoerkna         </td><td>Actinopterygii          </td><td>Cypriniformes           </td><td>Cyprinidae              </td><td>Blicca                  </td></tr>\n",
       "\t<tr><td>Carassius_gibelio       </td><td>Actinopterygii          </td><td>Cypriniformes           </td><td>Cyprinidae              </td><td>Carassius               </td></tr>\n",
       "\t<tr><td>Meleagris_gallopavo     </td><td>Aves                    </td><td>Galliformes             </td><td>Phasianidae             </td><td>Meleagris               </td></tr>\n",
       "\t<tr><td>Leuciscus_idus          </td><td>Actinopterygii          </td><td>Cypriniformes           </td><td>Cyprinidae              </td><td>Leuciscus               </td></tr>\n",
       "\t<tr><td>Anas_platyrhynchos      </td><td>Aves                    </td><td>Anseriformes            </td><td>Anatidae                </td><td>Anas                    </td></tr>\n",
       "\t<tr><td>Lissotriton_vulgaris    </td><td>Amphibia                </td><td>Caudata                 </td><td>Salamandridae           </td><td>Lissotriton             </td></tr>\n",
       "\t<tr><td>Natrix_natrix           </td><td>Reptilia                </td><td>Squamata                </td><td>Colubridae              </td><td>Natrix                  </td></tr>\n",
       "\t<tr><td>Dromaius_novaehollandiae</td><td>Aves                    </td><td>Struthioniformes        </td><td>Dromaiidae              </td><td>Dromaius                </td></tr>\n",
       "\t<tr><td>Strix_uralensis         </td><td>Aves                    </td><td>Strigiformes            </td><td>Strigidae               </td><td>Strix                   </td></tr>\n",
       "\t<tr><td>Dendrocopos_major       </td><td>Aves                    </td><td>Piciformes              </td><td>Picidae                 </td><td>Dendrocopos             </td></tr>\n",
       "\t<tr><td>Vipera_ursinii          </td><td>Reptilia                </td><td>Squamata                </td><td>Viperidae               </td><td>Vipera                  </td></tr>\n",
       "\t<tr><td>Caprimulgus_europaeus   </td><td>Aves                    </td><td>Caprimulgiformes        </td><td>Caprimulgidae           </td><td>Caprimulgus             </td></tr>\n",
       "\t<tr><td>Tringa_glareola         </td><td>Aves                    </td><td>Charadriiformes         </td><td>Scolopacidae            </td><td>Tringa                  </td></tr>\n",
       "\t<tr><td>Phalacrocorax_carbo     </td><td>Aves                    </td><td>Pelecaniformes          </td><td>Phalacrocoracidae       </td><td>Phalacrocorax           </td></tr>\n",
       "\t<tr><td>Esox_lucius             </td><td>Actinopterygii          </td><td>Esociformes             </td><td>Esocidae                </td><td>Esox                    </td></tr>\n",
       "</tbody>\n",
       "</table>\n"
      ],
      "text/latex": [
       "\\begin{tabular}{r|lllll}\n",
       " scientific\\_name & class & order & family & genus\\\\\n",
       "\\hline\n",
       "\t Falco\\_tinnunculus        & Aves                       & Falconiformes              & Falconidae                 & Falco                     \\\\\n",
       "\t Ardea\\_cinerea            & Aves                       & Ciconiiformes              & Ardeidae                   & Ardea                     \\\\\n",
       "\t Haliaeetus\\_albicilla     & Aves                       & Falconiformes              & Accipitridae               & Haliaeetus                \\\\\n",
       "\t Phalacrocorax\\_carbo      & Aves                       & Pelecaniformes             & Phalacrocoracidae          & Phalacrocorax             \\\\\n",
       "\t Carduelis\\_chloris        & Aves                       & Passeriformes              & Fringillidae               & Carduelis                 \\\\\n",
       "\t Carduelis\\_chloris        & Aves                       & Passeriformes              & Fringillidae               & Carduelis                 \\\\\n",
       "\t Salvelinus\\_fontinalis    & Actinopterygii             & Salmoniformes              & Salmonidae                 & Salvelinus                \\\\\n",
       "\t Hemidactylus\\_frenatus    & Reptilia                   & Squamata                   & Gekkonidae                 & Hemidactylus              \\\\\n",
       "\t Zamenis\\_longissimus      & Reptilia                   & Squamata                   & Colubridae                 & Zamenis                   \\\\\n",
       "\t Podarcis\\_siculus         & Reptilia                   & Squamata                   & Lacertidae                 & Podarcis                  \\\\\n",
       "\t Sander\\_lucioperca        & Actinopterygii             & Perciformes                & Percidae                   & Sander                    \\\\\n",
       "\t Turdus\\_merula            & Aves                       & Passeriformes              & Turdidae                   & Turdus                    \\\\\n",
       "\t Ciconia\\_ciconia          & Aves                       & Ciconiiformes              & Ciconiidae                 & Ciconia                   \\\\\n",
       "\t Corvus\\_frugilegus        & Aves                       & Passeriformes              & Corvidae                   & Corvus                    \\\\\n",
       "\t Chrysococcyx\\_basalis     & Aves                       & Cuculiformes               & Cuculidae                  & Chrysococcyx              \\\\\n",
       "\t Anser\\_anser              & Aves                       & Anseriformes               & Anatidae                   & Anser                     \\\\\n",
       "\t Blicca\\_bjoerkna          & Actinopterygii             & Cypriniformes              & Cyprinidae                 & Blicca                    \\\\\n",
       "\t Bufo\\_viridis             & Amphibia                   & Anura                      & Bufonidae                  & Bufo                      \\\\\n",
       "\t Rana\\_dalmatina           & Amphibia                   & Anura                      & Ranidae                    & Rana                      \\\\\n",
       "\t Crocodylus\\_moreletii     & Reptilia                   & Crocodilia                 & Crocodylidae               & Crocodylus                \\\\\n",
       "\t Acrocephalus\\_scirpaceus  & Aves                       & Passeriformes              & Sylviidae                  & Acrocephalus              \\\\\n",
       "\t Crocodylus\\_niloticus     & Reptilia                   & Crocodilia                 & Crocodylidae               & Crocodylus                \\\\\n",
       "\t Calidris\\_alpina          & Aves                       & Charadriiformes            & Scolopacidae               & Calidris                  \\\\\n",
       "\t Vipera\\_ursinii           & Reptilia                   & Squamata                   & Viperidae                  & Vipera                    \\\\\n",
       "\t Bufo\\_bufo                & Amphibia                   & Anura                      & Bufonidae                  & Bufo                      \\\\\n",
       "\t Bufo\\_bufo                & Amphibia                   & Anura                      & Bufonidae                  & Bufo                      \\\\\n",
       "\t Aspius\\_aspius            & Actinopterygii             & Cypriniformes              & Cyprinidae                 & Aspius                    \\\\\n",
       "\t Asio\\_otus                & Aves                       & Strigiformes               & Strigidae                  & Asio                      \\\\\n",
       "\t Cyprinus\\_carpio          & Actinopterygii             & Cypriniformes              & Cyprinidae                 & Cyprinus                  \\\\\n",
       "\t Lagopus\\_muta             & Aves                       & Galliformes                & Phasianidae                & Lagopus                   \\\\\n",
       "\t Parus\\_major              & Aves                       & Passeriformes              & Paridae                    & Parus                     \\\\\n",
       "\t Corvus\\_corone            & Aves                       & Passeriformes              & Corvidae                   & Corvus                    \\\\\n",
       "\t Testudo\\_hermanni         & Reptilia                   & Squamata                   & Testudinidae               & Testudo                   \\\\\n",
       "\t Circus\\_aeruginosus       & Aves                       & Falconiformes              & Accipitridae               & Circus                    \\\\\n",
       "\t Branta\\_leucopsis         & Aves                       & Anseriformes               & Anatidae                   & Branta                    \\\\\n",
       "\t Branta\\_leucopsis         & Aves                       & Anseriformes               & Anatidae                   & Branta                    \\\\\n",
       "\t Dromaius\\_novaehollandiae & Aves                       & Struthioniformes           & Dromaiidae                 & Dromaius                  \\\\\n",
       "\t Gallus\\_gallus            & Aves                       & Galliformes                & Phasianidae                & Gallus                    \\\\\n",
       "\t Blicca\\_bjoerkna          & Actinopterygii             & Cypriniformes              & Cyprinidae                 & Blicca                    \\\\\n",
       "\t Carassius\\_gibelio        & Actinopterygii             & Cypriniformes              & Cyprinidae                 & Carassius                 \\\\\n",
       "\t Meleagris\\_gallopavo      & Aves                       & Galliformes                & Phasianidae                & Meleagris                 \\\\\n",
       "\t Leuciscus\\_idus           & Actinopterygii             & Cypriniformes              & Cyprinidae                 & Leuciscus                 \\\\\n",
       "\t Anas\\_platyrhynchos       & Aves                       & Anseriformes               & Anatidae                   & Anas                      \\\\\n",
       "\t Lissotriton\\_vulgaris     & Amphibia                   & Caudata                    & Salamandridae              & Lissotriton               \\\\\n",
       "\t Natrix\\_natrix            & Reptilia                   & Squamata                   & Colubridae                 & Natrix                    \\\\\n",
       "\t Dromaius\\_novaehollandiae & Aves                       & Struthioniformes           & Dromaiidae                 & Dromaius                  \\\\\n",
       "\t Strix\\_uralensis          & Aves                       & Strigiformes               & Strigidae                  & Strix                     \\\\\n",
       "\t Dendrocopos\\_major        & Aves                       & Piciformes                 & Picidae                    & Dendrocopos               \\\\\n",
       "\t Vipera\\_ursinii           & Reptilia                   & Squamata                   & Viperidae                  & Vipera                    \\\\\n",
       "\t Caprimulgus\\_europaeus    & Aves                       & Caprimulgiformes           & Caprimulgidae              & Caprimulgus               \\\\\n",
       "\t Tringa\\_glareola          & Aves                       & Charadriiformes            & Scolopacidae               & Tringa                    \\\\\n",
       "\t Phalacrocorax\\_carbo      & Aves                       & Pelecaniformes             & Phalacrocoracidae          & Phalacrocorax             \\\\\n",
       "\t Esox\\_lucius              & Actinopterygii             & Esociformes                & Esocidae                   & Esox                      \\\\\n",
       "\\end{tabular}\n"
      ],
      "text/markdown": [
       "\n",
       "scientific_name | class | order | family | genus | \n",
       "|---|---|---|---|---|---|---|---|---|---|---|---|---|---|---|---|---|---|---|---|---|---|---|---|---|---|---|---|---|---|---|---|---|---|---|---|---|---|---|---|---|---|---|---|---|---|---|---|---|---|---|---|---|\n",
       "| Falco_tinnunculus        | Aves                     | Falconiformes            | Falconidae               | Falco                    | \n",
       "| Ardea_cinerea            | Aves                     | Ciconiiformes            | Ardeidae                 | Ardea                    | \n",
       "| Haliaeetus_albicilla     | Aves                     | Falconiformes            | Accipitridae             | Haliaeetus               | \n",
       "| Phalacrocorax_carbo      | Aves                     | Pelecaniformes           | Phalacrocoracidae        | Phalacrocorax            | \n",
       "| Carduelis_chloris        | Aves                     | Passeriformes            | Fringillidae             | Carduelis                | \n",
       "| Carduelis_chloris        | Aves                     | Passeriformes            | Fringillidae             | Carduelis                | \n",
       "| Salvelinus_fontinalis    | Actinopterygii           | Salmoniformes            | Salmonidae               | Salvelinus               | \n",
       "| Hemidactylus_frenatus    | Reptilia                 | Squamata                 | Gekkonidae               | Hemidactylus             | \n",
       "| Zamenis_longissimus      | Reptilia                 | Squamata                 | Colubridae               | Zamenis                  | \n",
       "| Podarcis_siculus         | Reptilia                 | Squamata                 | Lacertidae               | Podarcis                 | \n",
       "| Sander_lucioperca        | Actinopterygii           | Perciformes              | Percidae                 | Sander                   | \n",
       "| Turdus_merula            | Aves                     | Passeriformes            | Turdidae                 | Turdus                   | \n",
       "| Ciconia_ciconia          | Aves                     | Ciconiiformes            | Ciconiidae               | Ciconia                  | \n",
       "| Corvus_frugilegus        | Aves                     | Passeriformes            | Corvidae                 | Corvus                   | \n",
       "| Chrysococcyx_basalis     | Aves                     | Cuculiformes             | Cuculidae                | Chrysococcyx             | \n",
       "| Anser_anser              | Aves                     | Anseriformes             | Anatidae                 | Anser                    | \n",
       "| Blicca_bjoerkna          | Actinopterygii           | Cypriniformes            | Cyprinidae               | Blicca                   | \n",
       "| Bufo_viridis             | Amphibia                 | Anura                    | Bufonidae                | Bufo                     | \n",
       "| Rana_dalmatina           | Amphibia                 | Anura                    | Ranidae                  | Rana                     | \n",
       "| Crocodylus_moreletii     | Reptilia                 | Crocodilia               | Crocodylidae             | Crocodylus               | \n",
       "| Acrocephalus_scirpaceus  | Aves                     | Passeriformes            | Sylviidae                | Acrocephalus             | \n",
       "| Crocodylus_niloticus     | Reptilia                 | Crocodilia               | Crocodylidae             | Crocodylus               | \n",
       "| Calidris_alpina          | Aves                     | Charadriiformes          | Scolopacidae             | Calidris                 | \n",
       "| Vipera_ursinii           | Reptilia                 | Squamata                 | Viperidae                | Vipera                   | \n",
       "| Bufo_bufo                | Amphibia                 | Anura                    | Bufonidae                | Bufo                     | \n",
       "| Bufo_bufo                | Amphibia                 | Anura                    | Bufonidae                | Bufo                     | \n",
       "| Aspius_aspius            | Actinopterygii           | Cypriniformes            | Cyprinidae               | Aspius                   | \n",
       "| Asio_otus                | Aves                     | Strigiformes             | Strigidae                | Asio                     | \n",
       "| Cyprinus_carpio          | Actinopterygii           | Cypriniformes            | Cyprinidae               | Cyprinus                 | \n",
       "| Lagopus_muta             | Aves                     | Galliformes              | Phasianidae              | Lagopus                  | \n",
       "| Parus_major              | Aves                     | Passeriformes            | Paridae                  | Parus                    | \n",
       "| Corvus_corone            | Aves                     | Passeriformes            | Corvidae                 | Corvus                   | \n",
       "| Testudo_hermanni         | Reptilia                 | Squamata                 | Testudinidae             | Testudo                  | \n",
       "| Circus_aeruginosus       | Aves                     | Falconiformes            | Accipitridae             | Circus                   | \n",
       "| Branta_leucopsis         | Aves                     | Anseriformes             | Anatidae                 | Branta                   | \n",
       "| Branta_leucopsis         | Aves                     | Anseriformes             | Anatidae                 | Branta                   | \n",
       "| Dromaius_novaehollandiae | Aves                     | Struthioniformes         | Dromaiidae               | Dromaius                 | \n",
       "| Gallus_gallus            | Aves                     | Galliformes              | Phasianidae              | Gallus                   | \n",
       "| Blicca_bjoerkna          | Actinopterygii           | Cypriniformes            | Cyprinidae               | Blicca                   | \n",
       "| Carassius_gibelio        | Actinopterygii           | Cypriniformes            | Cyprinidae               | Carassius                | \n",
       "| Meleagris_gallopavo      | Aves                     | Galliformes              | Phasianidae              | Meleagris                | \n",
       "| Leuciscus_idus           | Actinopterygii           | Cypriniformes            | Cyprinidae               | Leuciscus                | \n",
       "| Anas_platyrhynchos       | Aves                     | Anseriformes             | Anatidae                 | Anas                     | \n",
       "| Lissotriton_vulgaris     | Amphibia                 | Caudata                  | Salamandridae            | Lissotriton              | \n",
       "| Natrix_natrix            | Reptilia                 | Squamata                 | Colubridae               | Natrix                   | \n",
       "| Dromaius_novaehollandiae | Aves                     | Struthioniformes         | Dromaiidae               | Dromaius                 | \n",
       "| Strix_uralensis          | Aves                     | Strigiformes             | Strigidae                | Strix                    | \n",
       "| Dendrocopos_major        | Aves                     | Piciformes               | Picidae                  | Dendrocopos              | \n",
       "| Vipera_ursinii           | Reptilia                 | Squamata                 | Viperidae                | Vipera                   | \n",
       "| Caprimulgus_europaeus    | Aves                     | Caprimulgiformes         | Caprimulgidae            | Caprimulgus              | \n",
       "| Tringa_glareola          | Aves                     | Charadriiformes          | Scolopacidae             | Tringa                   | \n",
       "| Phalacrocorax_carbo      | Aves                     | Pelecaniformes           | Phalacrocoracidae        | Phalacrocorax            | \n",
       "| Esox_lucius              | Actinopterygii           | Esociformes              | Esocidae                 | Esox                     | \n",
       "\n",
       "\n"
      ],
      "text/plain": [
       "   scientific_name          class          order            family           \n",
       "1  Falco_tinnunculus        Aves           Falconiformes    Falconidae       \n",
       "2  Ardea_cinerea            Aves           Ciconiiformes    Ardeidae         \n",
       "3  Haliaeetus_albicilla     Aves           Falconiformes    Accipitridae     \n",
       "4  Phalacrocorax_carbo      Aves           Pelecaniformes   Phalacrocoracidae\n",
       "5  Carduelis_chloris        Aves           Passeriformes    Fringillidae     \n",
       "6  Carduelis_chloris        Aves           Passeriformes    Fringillidae     \n",
       "7  Salvelinus_fontinalis    Actinopterygii Salmoniformes    Salmonidae       \n",
       "8  Hemidactylus_frenatus    Reptilia       Squamata         Gekkonidae       \n",
       "9  Zamenis_longissimus      Reptilia       Squamata         Colubridae       \n",
       "10 Podarcis_siculus         Reptilia       Squamata         Lacertidae       \n",
       "11 Sander_lucioperca        Actinopterygii Perciformes      Percidae         \n",
       "12 Turdus_merula            Aves           Passeriformes    Turdidae         \n",
       "13 Ciconia_ciconia          Aves           Ciconiiformes    Ciconiidae       \n",
       "14 Corvus_frugilegus        Aves           Passeriformes    Corvidae         \n",
       "15 Chrysococcyx_basalis     Aves           Cuculiformes     Cuculidae        \n",
       "16 Anser_anser              Aves           Anseriformes     Anatidae         \n",
       "17 Blicca_bjoerkna          Actinopterygii Cypriniformes    Cyprinidae       \n",
       "18 Bufo_viridis             Amphibia       Anura            Bufonidae        \n",
       "19 Rana_dalmatina           Amphibia       Anura            Ranidae          \n",
       "20 Crocodylus_moreletii     Reptilia       Crocodilia       Crocodylidae     \n",
       "21 Acrocephalus_scirpaceus  Aves           Passeriformes    Sylviidae        \n",
       "22 Crocodylus_niloticus     Reptilia       Crocodilia       Crocodylidae     \n",
       "23 Calidris_alpina          Aves           Charadriiformes  Scolopacidae     \n",
       "24 Vipera_ursinii           Reptilia       Squamata         Viperidae        \n",
       "25 Bufo_bufo                Amphibia       Anura            Bufonidae        \n",
       "26 Bufo_bufo                Amphibia       Anura            Bufonidae        \n",
       "27 Aspius_aspius            Actinopterygii Cypriniformes    Cyprinidae       \n",
       "28 Asio_otus                Aves           Strigiformes     Strigidae        \n",
       "29 Cyprinus_carpio          Actinopterygii Cypriniformes    Cyprinidae       \n",
       "30 Lagopus_muta             Aves           Galliformes      Phasianidae      \n",
       "31 Parus_major              Aves           Passeriformes    Paridae          \n",
       "32 Corvus_corone            Aves           Passeriformes    Corvidae         \n",
       "33 Testudo_hermanni         Reptilia       Squamata         Testudinidae     \n",
       "34 Circus_aeruginosus       Aves           Falconiformes    Accipitridae     \n",
       "35 Branta_leucopsis         Aves           Anseriformes     Anatidae         \n",
       "36 Branta_leucopsis         Aves           Anseriformes     Anatidae         \n",
       "37 Dromaius_novaehollandiae Aves           Struthioniformes Dromaiidae       \n",
       "38 Gallus_gallus            Aves           Galliformes      Phasianidae      \n",
       "39 Blicca_bjoerkna          Actinopterygii Cypriniformes    Cyprinidae       \n",
       "40 Carassius_gibelio        Actinopterygii Cypriniformes    Cyprinidae       \n",
       "41 Meleagris_gallopavo      Aves           Galliformes      Phasianidae      \n",
       "42 Leuciscus_idus           Actinopterygii Cypriniformes    Cyprinidae       \n",
       "43 Anas_platyrhynchos       Aves           Anseriformes     Anatidae         \n",
       "44 Lissotriton_vulgaris     Amphibia       Caudata          Salamandridae    \n",
       "45 Natrix_natrix            Reptilia       Squamata         Colubridae       \n",
       "46 Dromaius_novaehollandiae Aves           Struthioniformes Dromaiidae       \n",
       "47 Strix_uralensis          Aves           Strigiformes     Strigidae        \n",
       "48 Dendrocopos_major        Aves           Piciformes       Picidae          \n",
       "49 Vipera_ursinii           Reptilia       Squamata         Viperidae        \n",
       "50 Caprimulgus_europaeus    Aves           Caprimulgiformes Caprimulgidae    \n",
       "51 Tringa_glareola          Aves           Charadriiformes  Scolopacidae     \n",
       "52 Phalacrocorax_carbo      Aves           Pelecaniformes   Phalacrocoracidae\n",
       "53 Esox_lucius              Actinopterygii Esociformes      Esocidae         \n",
       "   genus        \n",
       "1  Falco        \n",
       "2  Ardea        \n",
       "3  Haliaeetus   \n",
       "4  Phalacrocorax\n",
       "5  Carduelis    \n",
       "6  Carduelis    \n",
       "7  Salvelinus   \n",
       "8  Hemidactylus \n",
       "9  Zamenis      \n",
       "10 Podarcis     \n",
       "11 Sander       \n",
       "12 Turdus       \n",
       "13 Ciconia      \n",
       "14 Corvus       \n",
       "15 Chrysococcyx \n",
       "16 Anser        \n",
       "17 Blicca       \n",
       "18 Bufo         \n",
       "19 Rana         \n",
       "20 Crocodylus   \n",
       "21 Acrocephalus \n",
       "22 Crocodylus   \n",
       "23 Calidris     \n",
       "24 Vipera       \n",
       "25 Bufo         \n",
       "26 Bufo         \n",
       "27 Aspius       \n",
       "28 Asio         \n",
       "29 Cyprinus     \n",
       "30 Lagopus      \n",
       "31 Parus        \n",
       "32 Corvus       \n",
       "33 Testudo      \n",
       "34 Circus       \n",
       "35 Branta       \n",
       "36 Branta       \n",
       "37 Dromaius     \n",
       "38 Gallus       \n",
       "39 Blicca       \n",
       "40 Carassius    \n",
       "41 Meleagris    \n",
       "42 Leuciscus    \n",
       "43 Anas         \n",
       "44 Lissotriton  \n",
       "45 Natrix       \n",
       "46 Dromaius     \n",
       "47 Strix        \n",
       "48 Dendrocopos  \n",
       "49 Vipera       \n",
       "50 Caprimulgus  \n",
       "51 Tringa       \n",
       "52 Phalacrocorax\n",
       "53 Esox         "
      ]
     },
     "metadata": {},
     "output_type": "display_data"
    }
   ],
   "source": [
    "# taxa to be removed\n",
    "metadata_f %>% nrow %>% print\n",
    "metadata_f"
   ]
  },
  {
   "cell_type": "code",
   "execution_count": 11,
   "metadata": {
    "ExecuteTime": {
     "end_time": "2018-09-04T11:08:44.466252Z",
     "start_time": "2018-09-04T11:08:49.630Z"
    }
   },
   "outputs": [
    {
     "data": {
      "text/plain": [
       "phyloseq-class experiment-level object\n",
       "otu_table()   OTU Table:         [ 408 taxa and 160 samples ]\n",
       "sample_data() Sample Data:       [ 160 samples by 171 sample variables ]\n",
       "tax_table()   Taxonomy Table:    [ 408 taxa by 7 taxonomic ranks ]\n",
       "phy_tree()    Phylogenetic Tree: [ 408 tips and 406 internal nodes ]"
      ]
     },
     "metadata": {},
     "output_type": "display_data"
    }
   ],
   "source": [
    "# subsetting physeq\n",
    "physeq = subset_samples(physeq, sample_names(physeq) %in% metadata$SampleID)\n",
    "\n",
    "physeq"
   ]
  },
  {
   "cell_type": "markdown",
   "metadata": {},
   "source": [
    "## OTU table"
   ]
  },
  {
   "cell_type": "code",
   "execution_count": 12,
   "metadata": {
    "ExecuteTime": {
     "end_time": "2018-09-04T11:08:45.609588Z",
     "start_time": "2018-09-04T11:08:51.030Z"
    }
   },
   "outputs": [
    {
     "data": {
      "text/plain": [
       "   Min. 1st Qu.  Median    Mean 3rd Qu.    Max. \n",
       "    0.0   172.5  1089.5  1407.0  2469.0  4995.0 "
      ]
     },
     "metadata": {},
     "output_type": "display_data"
    }
   ],
   "source": [
    "physeq %>%\n",
    "    otu_table %>% \n",
    "    colSums %>%\n",
    "    summary"
   ]
  },
  {
   "cell_type": "code",
   "execution_count": 13,
   "metadata": {
    "ExecuteTime": {
     "end_time": "2018-09-04T11:08:49.197572Z",
     "start_time": "2018-09-04T11:08:54.583Z"
    }
   },
   "outputs": [
    {
     "name": "stderr",
     "output_type": "stream",
     "text": [
      "Warning message in class(x) <- c(subclass, \"tbl_df\", \"tbl\", \"data.frame\"):\n",
      "“Setting class(x) to multiple strings (\"tbl_df\", \"tbl\", ...); result will no longer be an S4 object”"
     ]
    },
    {
     "name": "stdout",
     "output_type": "stream",
     "text": [
      "[1] 160   2\n"
     ]
    },
    {
     "data": {
      "text/html": [
       "<table>\n",
       "<thead><tr><th></th><th scope=col>scientific_name</th><th scope=col>SampleID</th></tr></thead>\n",
       "<tbody>\n",
       "\t<tr><th scope=row>X1.Eurasian.Beaver</th><td>Castor_fiber      </td><td>X1.Eurasian.Beaver</td></tr>\n",
       "\t<tr><th scope=row>X101.Horse</th><td>Equus_caballus    </td><td>X101.Horse        </td></tr>\n",
       "\t<tr><th scope=row>X102.Kulan</th><td>Equus_hemionus    </td><td>X102.Kulan        </td></tr>\n",
       "</tbody>\n",
       "</table>\n"
      ],
      "text/latex": [
       "\\begin{tabular}{r|ll}\n",
       "  & scientific\\_name & SampleID\\\\\n",
       "\\hline\n",
       "\tX1.Eurasian.Beaver & Castor\\_fiber     & X1.Eurasian.Beaver\\\\\n",
       "\tX101.Horse & Equus\\_caballus   & X101.Horse        \\\\\n",
       "\tX102.Kulan & Equus\\_hemionus   & X102.Kulan        \\\\\n",
       "\\end{tabular}\n"
      ],
      "text/markdown": [
       "\n",
       "| <!--/--> | scientific_name | SampleID | \n",
       "|---|---|---|\n",
       "| X1.Eurasian.Beaver | Castor_fiber       | X1.Eurasian.Beaver | \n",
       "| X101.Horse | Equus_caballus     | X101.Horse         | \n",
       "| X102.Kulan | Equus_hemionus     | X102.Kulan         | \n",
       "\n",
       "\n"
      ],
      "text/plain": [
       "                   scientific_name SampleID          \n",
       "X1.Eurasian.Beaver Castor_fiber    X1.Eurasian.Beaver\n",
       "X101.Horse         Equus_caballus  X101.Horse        \n",
       "X102.Kulan         Equus_hemionus  X102.Kulan        "
      ]
     },
     "metadata": {},
     "output_type": "display_data"
    }
   ],
   "source": [
    "metadata = physeq %>%\n",
    "    sample_data %>%\n",
    "    dplyr::select(scientific_name) %>%\n",
    "    mutate(SampleID = rownames(.)) %>%\n",
    "    as.data.frame\n",
    "\n",
    "rownames(metadata) = metadata$SampleID\n",
    "#metadata$sample = NULL\n",
    "\n",
    "metadata %>% dfhead"
   ]
  },
  {
   "cell_type": "markdown",
   "metadata": {},
   "source": [
    "# Subsampling tree\n",
    "\n",
    "* multiple subsamples: one sample per species"
   ]
  },
  {
   "cell_type": "code",
   "execution_count": 14,
   "metadata": {
    "ExecuteTime": {
     "end_time": "2018-09-04T11:08:51.101445Z",
     "start_time": "2018-09-04T11:08:56.531Z"
    }
   },
   "outputs": [],
   "source": [
    "# number of subsampled trees\n",
    "ntrees = 100"
   ]
  },
  {
   "cell_type": "code",
   "execution_count": 15,
   "metadata": {
    "ExecuteTime": {
     "end_time": "2018-09-04T11:08:51.543959Z",
     "start_time": "2018-09-04T11:08:56.972Z"
    }
   },
   "outputs": [],
   "source": [
    "#' randomly selecting one per group\n",
    "tree_subsample = function(L, df, tree){\n",
    "    # get subsample (note: subsampling within each species)\n",
    "    to_keep = df %>% \n",
    "        group_by(scientific_name) %>% \n",
    "        sample_n(1) %>%\n",
    "        .$sample\n",
    "    # subsampling tree\n",
    "    to_rm = setdiff(tree$tip.label, to_keep)\n",
    "    tree = drop.tip(tree, to_rm)\n",
    "    #tree$tip.label %>% length %>% print\n",
    "    return(tree)\n",
    "}"
   ]
  },
  {
   "cell_type": "code",
   "execution_count": 16,
   "metadata": {
    "ExecuteTime": {
     "end_time": "2018-09-04T11:08:53.209375Z",
     "start_time": "2018-09-04T11:08:57.822Z"
    }
   },
   "outputs": [
    {
     "data": {
      "text/html": [
       "100"
      ],
      "text/latex": [
       "100"
      ],
      "text/markdown": [
       "100"
      ],
      "text/plain": [
       "[1] 100"
      ]
     },
     "metadata": {},
     "output_type": "display_data"
    }
   ],
   "source": [
    "df = metadata %>%\n",
    "    mutate(sample = rownames(.)) %>%\n",
    "    dplyr::select(sample, scientific_name) \n",
    "\n",
    "doParallel::registerDoParallel(threads)\n",
    "host_tree_l = plyr::llply(as.list(1:ntrees), \n",
    "                          function(x) tree_subsample(x, df, host_tree),\n",
    "                          .parallel=TRUE)\n",
    "host_tree_l %>% length"
   ]
  },
  {
   "cell_type": "markdown",
   "metadata": {},
   "source": [
    "# paco: diffused model\n",
    "\n",
    "* on each subsample"
   ]
  },
  {
   "cell_type": "markdown",
   "metadata": {},
   "source": [
    "## Creating datasets"
   ]
  },
  {
   "cell_type": "code",
   "execution_count": 17,
   "metadata": {
    "ExecuteTime": {
     "end_time": "2018-09-04T11:08:54.354517Z",
     "start_time": "2018-09-04T11:08:59.780Z"
    }
   },
   "outputs": [],
   "source": [
    "make_paco_input = function(host_tree, physeq){\n",
    "    # subsampled phyloseq object\n",
    "    physeq_f = prune_samples(sample_names(physeq) %in% host_tree$tip.label, \n",
    "                             physeq) \n",
    "\n",
    "    # microbial distance matrix\n",
    "    micro_D = physeq_f %>%\n",
    "        phy_tree %>% cophenetic %>% \n",
    "        rescale_dist_mtx %>% as.matrix\n",
    "    # host distance matrix\n",
    "    host_D = host_tree %>% cophenetic %>% \n",
    "             rescale_dist_mtx %>% as.matrix\n",
    "    \n",
    "    # otu abundance matrix\n",
    "    otu = physeq_f %>% \n",
    "        otu_table %>%\n",
    "        as.data.frame %>%\n",
    "        as.matrix %>%\n",
    "        t %>%\n",
    "        apply(2, function(x) ifelse(x > 0, 1, 0)) %>% as.matrix                \n",
    "              \n",
    "              \n",
    "    # checking overlap\n",
    "    x = length(intersect(rownames(otu), rownames(host_D)))\n",
    "    y = length(union(rownames(otu), rownames(host_D)))\n",
    "    stopifnot(x == y)\n",
    "              \n",
    "    # preparing paco data\n",
    "    D = prepare_paco_data(H=host_D, P=micro_D, HP=otu)\n",
    "    D = add_pcoord(D, correction='cailliez')\n",
    "    return(D)\n",
    "}"
   ]
  },
  {
   "cell_type": "code",
   "execution_count": 18,
   "metadata": {
    "ExecuteTime": {
     "end_time": "2018-09-04T11:10:38.579124Z",
     "start_time": "2018-09-04T11:09:00.638Z"
    }
   },
   "outputs": [
    {
     "data": {
      "text/html": [
       "100"
      ],
      "text/latex": [
       "100"
      ],
      "text/markdown": [
       "100"
      ],
      "text/plain": [
       "[1] 100"
      ]
     },
     "metadata": {},
     "output_type": "display_data"
    }
   ],
   "source": [
    "doParallel::registerDoParallel(threads)\n",
    "paco_l = plyr::llply(host_tree_l, make_paco_input, physeq=physeq, .parallel=TRUE)\n",
    "paco_l %>% length"
   ]
  },
  {
   "cell_type": "markdown",
   "metadata": {},
   "source": [
    "## Running paco"
   ]
  },
  {
   "cell_type": "code",
   "execution_count": 19,
   "metadata": {
    "ExecuteTime": {
     "end_time": "2018-09-04T11:10:38.623697Z",
     "start_time": "2018-09-04T11:09:02.021Z"
    }
   },
   "outputs": [
    {
     "data": {
      "text/html": [
       "'/ebio/abt3_projects/Georg_animal_feces/data/host_specific/pcao/host_TT//physeq_IndD-sens-justMam_PACo.RDS'"
      ],
      "text/latex": [
       "'/ebio/abt3\\_projects/Georg\\_animal\\_feces/data/host\\_specific/pcao/host\\_TT//physeq\\_IndD-sens-justMam\\_PACo.RDS'"
      ],
      "text/markdown": [
       "'/ebio/abt3_projects/Georg_animal_feces/data/host_specific/pcao/host_TT//physeq_IndD-sens-justMam_PACo.RDS'"
      ],
      "text/plain": [
       "[1] \"/ebio/abt3_projects/Georg_animal_feces/data/host_specific/pcao/host_TT//physeq_IndD-sens-justMam_PACo.RDS\""
      ]
     },
     "metadata": {},
     "output_type": "display_data"
    }
   ],
   "source": [
    "# for loading results instead of re-running\n",
    "PACo_file = file.path(work_dir, 'physeq_IndD-sens-justMam_PACo.RDS')\n",
    "PACo_file"
   ]
  },
  {
   "cell_type": "code",
   "execution_count": 21,
   "metadata": {
    "ExecuteTime": {
     "end_time": "2018-07-11T12:25:33.796707Z",
     "start_time": "2018-07-11T12:24:14.945Z"
    }
   },
   "outputs": [],
   "source": [
    "# cluster resources\n",
    "resources = list(h_rt = '24:00:00',\n",
    "                 h_vmem = '10G',\n",
    "                 threads = '1',\n",
    "                 conda.env = 'py3_physeq_phylo', \n",
    "                 conda.path = \"/ebio/abt3_projects/software/miniconda3/bin\")\n",
    "plan(batchtools_sge, resources=resources)"
   ]
  },
  {
   "cell_type": "code",
   "execution_count": 22,
   "metadata": {
    "ExecuteTime": {
     "end_time": "2018-07-12T06:37:53.114087Z",
     "start_time": "2018-07-11T12:24:25.776Z"
    },
    "scrolled": true
   },
   "outputs": [
    {
     "name": "stderr",
     "output_type": "stream",
     "text": [
      "Warning message in is.na(x):\n",
      "“is.na() applied to non-(list or vector) of type 'NULL'”Warning message in is.na(x):\n",
      "“is.na() applied to non-(list or vector) of type 'NULL'”Warning message in is.na(x):\n",
      "“is.na() applied to non-(list or vector) of type 'NULL'”Warning message in is.na(x):\n",
      "“is.na() applied to non-(list or vector) of type 'NULL'”Warning message in is.na(x):\n",
      "“is.na() applied to non-(list or vector) of type 'NULL'”Warning message in is.na(x):\n",
      "“is.na() applied to non-(list or vector) of type 'NULL'”Warning message in is.na(x):\n",
      "“is.na() applied to non-(list or vector) of type 'NULL'”Warning message in is.na(x):\n",
      "“is.na() applied to non-(list or vector) of type 'NULL'”Warning message in is.na(x):\n",
      "“is.na() applied to non-(list or vector) of type 'NULL'”Warning message in is.na(x):\n",
      "“is.na() applied to non-(list or vector) of type 'NULL'”Warning message in is.na(x):\n",
      "“is.na() applied to non-(list or vector) of type 'NULL'”Warning message in is.na(x):\n",
      "“is.na() applied to non-(list or vector) of type 'NULL'”Warning message in is.na(x):\n",
      "“is.na() applied to non-(list or vector) of type 'NULL'”Warning message in is.na(x):\n",
      "“is.na() applied to non-(list or vector) of type 'NULL'”Warning message in is.na(x):\n",
      "“is.na() applied to non-(list or vector) of type 'NULL'”Warning message in is.na(x):\n",
      "“is.na() applied to non-(list or vector) of type 'NULL'”Warning message in is.na(x):\n",
      "“is.na() applied to non-(list or vector) of type 'NULL'”Warning message in is.na(x):\n",
      "“is.na() applied to non-(list or vector) of type 'NULL'”Warning message in is.na(x):\n",
      "“is.na() applied to non-(list or vector) of type 'NULL'”Warning message in is.na(x):\n",
      "“is.na() applied to non-(list or vector) of type 'NULL'”Warning message in is.na(x):\n",
      "“is.na() applied to non-(list or vector) of type 'NULL'”Warning message in is.na(x):\n",
      "“is.na() applied to non-(list or vector) of type 'NULL'”Warning message in is.na(x):\n",
      "“is.na() applied to non-(list or vector) of type 'NULL'”Warning message in is.na(x):\n",
      "“is.na() applied to non-(list or vector) of type 'NULL'”Warning message in is.na(x):\n",
      "“is.na() applied to non-(list or vector) of type 'NULL'”Warning message in is.na(x):\n",
      "“is.na() applied to non-(list or vector) of type 'NULL'”Warning message in is.na(x):\n",
      "“is.na() applied to non-(list or vector) of type 'NULL'”Warning message in is.na(x):\n",
      "“is.na() applied to non-(list or vector) of type 'NULL'”Warning message in is.na(x):\n",
      "“is.na() applied to non-(list or vector) of type 'NULL'”Warning message in is.na(x):\n",
      "“is.na() applied to non-(list or vector) of type 'NULL'”Warning message in is.na(x):\n",
      "“is.na() applied to non-(list or vector) of type 'NULL'”Warning message in is.na(x):\n",
      "“is.na() applied to non-(list or vector) of type 'NULL'”Warning message in is.na(x):\n",
      "“is.na() applied to non-(list or vector) of type 'NULL'”Warning message in is.na(x):\n",
      "“is.na() applied to non-(list or vector) of type 'NULL'”Warning message in is.na(x):\n",
      "“is.na() applied to non-(list or vector) of type 'NULL'”Warning message in is.na(x):\n",
      "“is.na() applied to non-(list or vector) of type 'NULL'”Warning message in is.na(x):\n",
      "“is.na() applied to non-(list or vector) of type 'NULL'”Warning message in is.na(x):\n",
      "“is.na() applied to non-(list or vector) of type 'NULL'”Warning message in is.na(x):\n",
      "“is.na() applied to non-(list or vector) of type 'NULL'”Warning message in is.na(x):\n",
      "“is.na() applied to non-(list or vector) of type 'NULL'”Warning message in is.na(x):\n",
      "“is.na() applied to non-(list or vector) of type 'NULL'”Warning message in is.na(x):\n",
      "“is.na() applied to non-(list or vector) of type 'NULL'”Warning message in is.na(x):\n",
      "“is.na() applied to non-(list or vector) of type 'NULL'”Warning message in is.na(x):\n",
      "“is.na() applied to non-(list or vector) of type 'NULL'”Warning message in is.na(x):\n",
      "“is.na() applied to non-(list or vector) of type 'NULL'”Warning message in is.na(x):\n",
      "“is.na() applied to non-(list or vector) of type 'NULL'”Warning message in is.na(x):\n",
      "“is.na() applied to non-(list or vector) of type 'NULL'”Warning message in is.na(x):\n",
      "“is.na() applied to non-(list or vector) of type 'NULL'”Warning message in is.na(x):\n",
      "“is.na() applied to non-(list or vector) of type 'NULL'”Warning message in is.na(x):\n",
      "“is.na() applied to non-(list or vector) of type 'NULL'”Warning message in is.na(x):\n",
      "“is.na() applied to non-(list or vector) of type 'NULL'”Warning message in is.na(x):\n",
      "“is.na() applied to non-(list or vector) of type 'NULL'”Warning message in is.na(x):\n",
      "“is.na() applied to non-(list or vector) of type 'NULL'”Warning message in is.na(x):\n",
      "“is.na() applied to non-(list or vector) of type 'NULL'”Warning message in is.na(x):\n",
      "“is.na() applied to non-(list or vector) of type 'NULL'”Warning message in is.na(x):\n",
      "“is.na() applied to non-(list or vector) of type 'NULL'”Warning message in is.na(x):\n",
      "“is.na() applied to non-(list or vector) of type 'NULL'”Warning message in is.na(x):\n",
      "“is.na() applied to non-(list or vector) of type 'NULL'”Warning message in is.na(x):\n",
      "“is.na() applied to non-(list or vector) of type 'NULL'”Warning message in is.na(x):\n",
      "“is.na() applied to non-(list or vector) of type 'NULL'”Warning message in is.na(x):\n",
      "“is.na() applied to non-(list or vector) of type 'NULL'”Warning message in is.na(x):\n",
      "“is.na() applied to non-(list or vector) of type 'NULL'”Warning message in is.na(x):\n",
      "“is.na() applied to non-(list or vector) of type 'NULL'”Warning message in is.na(x):\n",
      "“is.na() applied to non-(list or vector) of type 'NULL'”Warning message in is.na(x):\n",
      "“is.na() applied to non-(list or vector) of type 'NULL'”Warning message in is.na(x):\n",
      "“is.na() applied to non-(list or vector) of type 'NULL'”Warning message in is.na(x):\n",
      "“is.na() applied to non-(list or vector) of type 'NULL'”Warning message in is.na(x):\n",
      "“is.na() applied to non-(list or vector) of type 'NULL'”Warning message in is.na(x):\n",
      "“is.na() applied to non-(list or vector) of type 'NULL'”Warning message in is.na(x):\n",
      "“is.na() applied to non-(list or vector) of type 'NULL'”Warning message in is.na(x):\n",
      "“is.na() applied to non-(list or vector) of type 'NULL'”Warning message in is.na(x):\n",
      "“is.na() applied to non-(list or vector) of type 'NULL'”Warning message in is.na(x):\n",
      "“is.na() applied to non-(list or vector) of type 'NULL'”Warning message in is.na(x):\n",
      "“is.na() applied to non-(list or vector) of type 'NULL'”Warning message in is.na(x):\n",
      "“is.na() applied to non-(list or vector) of type 'NULL'”Warning message in is.na(x):\n",
      "“is.na() applied to non-(list or vector) of type 'NULL'”Warning message in is.na(x):\n",
      "“is.na() applied to non-(list or vector) of type 'NULL'”Warning message in is.na(x):\n",
      "“is.na() applied to non-(list or vector) of type 'NULL'”Warning message in is.na(x):\n",
      "“is.na() applied to non-(list or vector) of type 'NULL'”Warning message in is.na(x):\n",
      "“is.na() applied to non-(list or vector) of type 'NULL'”Warning message in is.na(x):\n",
      "“is.na() applied to non-(list or vector) of type 'NULL'”Warning message in is.na(x):\n",
      "“is.na() applied to non-(list or vector) of type 'NULL'”Warning message in is.na(x):\n",
      "“is.na() applied to non-(list or vector) of type 'NULL'”Warning message in is.na(x):\n",
      "“is.na() applied to non-(list or vector) of type 'NULL'”Warning message in is.na(x):\n",
      "“is.na() applied to non-(list or vector) of type 'NULL'”Warning message in is.na(x):\n",
      "“is.na() applied to non-(list or vector) of type 'NULL'”Warning message in is.na(x):\n",
      "“is.na() applied to non-(list or vector) of type 'NULL'”Warning message in is.na(x):\n",
      "“is.na() applied to non-(list or vector) of type 'NULL'”Warning message in is.na(x):\n",
      "“is.na() applied to non-(list or vector) of type 'NULL'”Warning message in is.na(x):\n",
      "“is.na() applied to non-(list or vector) of type 'NULL'”Warning message in is.na(x):\n",
      "“is.na() applied to non-(list or vector) of type 'NULL'”Warning message in is.na(x):\n",
      "“is.na() applied to non-(list or vector) of type 'NULL'”Warning message in is.na(x):\n",
      "“is.na() applied to non-(list or vector) of type 'NULL'”Warning message in is.na(x):\n",
      "“is.na() applied to non-(list or vector) of type 'NULL'”Warning message in is.na(x):\n",
      "“is.na() applied to non-(list or vector) of type 'NULL'”Warning message in is.na(x):\n",
      "“is.na() applied to non-(list or vector) of type 'NULL'”Warning message in is.na(x):\n",
      "“is.na() applied to non-(list or vector) of type 'NULL'”Warning message in is.na(x):\n",
      "“is.na() applied to non-(list or vector) of type 'NULL'”Warning message in is.na(x):\n",
      "“is.na() applied to non-(list or vector) of type 'NULL'”Warning message in is.na(x):\n",
      "“is.na() applied to non-(list or vector) of type 'NULL'”"
     ]
    },
    {
     "data": {
      "text/html": [
       "100"
      ],
      "text/latex": [
       "100"
      ],
      "text/markdown": [
       "100"
      ],
      "text/plain": [
       "[1] 100"
      ]
     },
     "metadata": {},
     "output_type": "display_data"
    }
   ],
   "source": [
    "# Running paco on each subsample\n",
    "## WARNING: SLOW!\n",
    "paco_each = function(D, nperm=99, seed=3843){\n",
    "    PACo(D, nperm=nperm, seed=seed, method='quasiswap', symmetric=TRUE)\n",
    "}\n",
    "\n",
    "paco_res_l = future_lapply(paco_l, paco_each, nperm=999, future.packages=c('paco'))\n",
    "paco_res_l %>% length"
   ]
  },
  {
   "cell_type": "code",
   "execution_count": 23,
   "metadata": {
    "ExecuteTime": {
     "end_time": "2018-07-12T06:37:53.116312Z",
     "start_time": "2018-07-11T12:24:26.485Z"
    }
   },
   "outputs": [
    {
     "name": "stdout",
     "output_type": "stream",
     "text": [
      "File written: /ebio/abt3_projects/Georg_animal_feces/data/host_specific/pcao/host_TT//physeq_IndD-sens-justMam_PACo.RDS \n"
     ]
    }
   ],
   "source": [
    "# save results\n",
    "saveRDS(paco_res_l, PACo_file)\n",
    "cat('File written:', PACo_file, '\\n')"
   ]
  },
  {
   "cell_type": "code",
   "execution_count": 20,
   "metadata": {
    "ExecuteTime": {
     "end_time": "2018-09-04T11:11:03.683749Z",
     "start_time": "2018-09-04T11:09:05.374Z"
    }
   },
   "outputs": [
    {
     "data": {
      "text/html": [
       "100"
      ],
      "text/latex": [
       "100"
      ],
      "text/markdown": [
       "100"
      ],
      "text/plain": [
       "[1] 100"
      ]
     },
     "metadata": {},
     "output_type": "display_data"
    }
   ],
   "source": [
    "# load results\n",
    "paco_res_l = readRDS(PACo_file)\n",
    "paco_res_l %>% length"
   ]
  },
  {
   "cell_type": "code",
   "execution_count": 25,
   "metadata": {
    "ExecuteTime": {
     "end_time": "2018-07-12T06:37:53.120275Z",
     "start_time": "2018-07-11T12:24:58.478Z"
    }
   },
   "outputs": [],
   "source": [
    "send_email('http://127.0.0.1:9705/notebooks/notebooks/16S/4_host_specific/paco/host_TT/6a_paco_IndD_sensitivity-species-noArtiodactyla.ipynb')"
   ]
  },
  {
   "cell_type": "markdown",
   "metadata": {},
   "source": [
    "## Formatting output"
   ]
  },
  {
   "cell_type": "code",
   "execution_count": 21,
   "metadata": {
    "ExecuteTime": {
     "end_time": "2018-09-04T11:11:03.833925Z",
     "start_time": "2018-09-04T11:09:07.044Z"
    }
   },
   "outputs": [
    {
     "name": "stdout",
     "output_type": "stream",
     "text": [
      "   Min. 1st Qu.  Median    Mean 3rd Qu.    Max. \n",
      "      0       0       0       0       0       0 \n",
      "   Min. 1st Qu.  Median    Mean 3rd Qu.    Max. \n",
      " 0.9812  0.9833  0.9837  0.9838  0.9845  0.9859 \n"
     ]
    }
   ],
   "source": [
    "# goodness of fit\n",
    "gof = lapply(paco_res_l, function(x) as.vector(x$gof)) %>% \n",
    "        do.call(rbind, .) %>%\n",
    "        as.data.frame\n",
    "             \n",
    "gof$p %>% as.Num %>% summary %>% print\n",
    "gof$ss %>% as.Num %>% summary %>% print"
   ]
  },
  {
   "cell_type": "code",
   "execution_count": 27,
   "metadata": {
    "ExecuteTime": {
     "end_time": "2018-07-12T06:38:03.943526Z",
     "start_time": "2018-07-12T06:38:05.434Z"
    }
   },
   "outputs": [],
   "source": [
    "# clearing memory; the `paco_res_l` object is huge\n",
    "#paco_res_l = NULL"
   ]
  },
  {
   "cell_type": "markdown",
   "metadata": {},
   "source": [
    "## Individual contributions"
   ]
  },
  {
   "cell_type": "code",
   "execution_count": 22,
   "metadata": {
    "ExecuteTime": {
     "end_time": "2018-09-04T11:11:03.872619Z",
     "start_time": "2018-09-04T11:09:10.767Z"
    }
   },
   "outputs": [
    {
     "data": {
      "text/html": [
       "'/ebio/abt3_projects/Georg_animal_feces/data/host_specific/pcao/host_TT//physeq_IndD-sens-justMam_PACo-links.RDS'"
      ],
      "text/latex": [
       "'/ebio/abt3\\_projects/Georg\\_animal\\_feces/data/host\\_specific/pcao/host\\_TT//physeq\\_IndD-sens-justMam\\_PACo-links.RDS'"
      ],
      "text/markdown": [
       "'/ebio/abt3_projects/Georg_animal_feces/data/host_specific/pcao/host_TT//physeq_IndD-sens-justMam_PACo-links.RDS'"
      ],
      "text/plain": [
       "[1] \"/ebio/abt3_projects/Georg_animal_feces/data/host_specific/pcao/host_TT//physeq_IndD-sens-justMam_PACo-links.RDS\""
      ]
     },
     "metadata": {},
     "output_type": "display_data"
    }
   ],
   "source": [
    "# for loading results instead of re-running\n",
    "PACo_links_file = file.path(work_dir, 'physeq_IndD-sens-justMam_PACo-links.RDS')\n",
    "PACo_links_file"
   ]
  },
  {
   "cell_type": "code",
   "execution_count": 29,
   "metadata": {
    "ExecuteTime": {
     "end_time": "2018-07-18T12:18:54.480688Z",
     "start_time": "2018-07-12T06:38:27.320Z"
    }
   },
   "outputs": [
    {
     "data": {
      "text/html": [
       "100"
      ],
      "text/latex": [
       "100"
      ],
      "text/markdown": [
       "100"
      ],
      "text/plain": [
       "[1] 100"
      ]
     },
     "metadata": {},
     "output_type": "display_data"
    }
   ],
   "source": [
    "#-- WARNING: SLOW --#\n",
    "# cluster resources\n",
    "resources = list(h_rt = '36:00:00',\n",
    "                 h_vmem = '10G',\n",
    "                 threads = '1',\n",
    "                 conda.env = 'py3_physeq_phylo', \n",
    "                 conda.path = \"/ebio/abt3_projects/software/miniconda3/bin\")\n",
    "plan(batchtools_sge, resources=resources)\n",
    "\n",
    "# running\n",
    "D_links_l = future_lapply(paco_res_l, paco_links, future.packages=c('paco'))\n",
    "D_links_l %>% length"
   ]
  },
  {
   "cell_type": "code",
   "execution_count": 30,
   "metadata": {
    "ExecuteTime": {
     "end_time": "2018-07-18T12:18:54.483649Z",
     "start_time": "2018-07-12T06:38:34.089Z"
    }
   },
   "outputs": [
    {
     "name": "stdout",
     "output_type": "stream",
     "text": [
      "File written: /ebio/abt3_projects/Georg_animal_feces/data/host_specific/pcao/host_TT//physeq_IndD-sens-justMam_PACo-links.RDS \n"
     ]
    }
   ],
   "source": [
    "# saving object\n",
    "saveRDS(D_links_l, PACo_links_file)\n",
    "cat('File written:', PACo_links_file, '\\n')"
   ]
  },
  {
   "cell_type": "code",
   "execution_count": 23,
   "metadata": {
    "ExecuteTime": {
     "end_time": "2018-09-04T11:11:28.929542Z",
     "start_time": "2018-09-04T11:09:14.149Z"
    }
   },
   "outputs": [
    {
     "data": {
      "text/html": [
       "100"
      ],
      "text/latex": [
       "100"
      ],
      "text/markdown": [
       "100"
      ],
      "text/plain": [
       "[1] 100"
      ]
     },
     "metadata": {},
     "output_type": "display_data"
    }
   ],
   "source": [
    "# re-loading object\n",
    "D_links_l = readRDS(PACo_links_file)\n",
    "D_links_l %>% length"
   ]
  },
  {
   "cell_type": "code",
   "execution_count": 24,
   "metadata": {
    "ExecuteTime": {
     "end_time": "2018-09-04T11:11:30.109404Z",
     "start_time": "2018-09-04T11:09:15.604Z"
    }
   },
   "outputs": [],
   "source": [
    "send_email('http://127.0.0.1:9705/notebooks/notebooks/16S/4_host_specific/paco/host_TT/6a_paco_IndD_sensitivity-species-noArtiodactyla.ipynb')"
   ]
  },
  {
   "cell_type": "markdown",
   "metadata": {},
   "source": [
    "### Formatting output"
   ]
  },
  {
   "cell_type": "code",
   "execution_count": 25,
   "metadata": {
    "ExecuteTime": {
     "end_time": "2018-09-04T11:11:43.656658Z",
     "start_time": "2018-09-04T11:09:20.009Z"
    }
   },
   "outputs": [
    {
     "name": "stdout",
     "output_type": "stream",
     "text": [
      "[1] 219705      6\n"
     ]
    },
    {
     "data": {
      "text/html": [
       "<table>\n",
       "<thead><tr><th scope=col>mean</th><th scope=col>upper</th><th scope=col>host</th><th scope=col>microbe</th><th scope=col>residuals</th><th scope=col>subsample_rep</th></tr></thead>\n",
       "<tbody>\n",
       "\t<tr><td>-163.71339                      </td><td>-163.70317                      </td><td>X122.Wild.Boar                  </td><td>368bd5c2255f3a5ce0fef06ca6de1d04</td><td>0.01997950                      </td><td>1                               </td></tr>\n",
       "\t<tr><td> -55.39473                      </td><td> -55.38612                      </td><td>X123.Alpine.Chamois             </td><td>368bd5c2255f3a5ce0fef06ca6de1d04</td><td>0.01162143                      </td><td>1                               </td></tr>\n",
       "\t<tr><td> -57.85786                      </td><td> -57.84983                      </td><td>X133.Domestic.Goat              </td><td>368bd5c2255f3a5ce0fef06ca6de1d04</td><td>0.01187704                      </td><td>1                               </td></tr>\n",
       "</tbody>\n",
       "</table>\n"
      ],
      "text/latex": [
       "\\begin{tabular}{r|llllll}\n",
       " mean & upper & host & microbe & residuals & subsample\\_rep\\\\\n",
       "\\hline\n",
       "\t -163.71339                       & -163.70317                       & X122.Wild.Boar                   & 368bd5c2255f3a5ce0fef06ca6de1d04 & 0.01997950                       & 1                               \\\\\n",
       "\t  -55.39473                       &  -55.38612                       & X123.Alpine.Chamois              & 368bd5c2255f3a5ce0fef06ca6de1d04 & 0.01162143                       & 1                               \\\\\n",
       "\t  -57.85786                       &  -57.84983                       & X133.Domestic.Goat               & 368bd5c2255f3a5ce0fef06ca6de1d04 & 0.01187704                       & 1                               \\\\\n",
       "\\end{tabular}\n"
      ],
      "text/markdown": [
       "\n",
       "mean | upper | host | microbe | residuals | subsample_rep | \n",
       "|---|---|---|\n",
       "| -163.71339                       | -163.70317                       | X122.Wild.Boar                   | 368bd5c2255f3a5ce0fef06ca6de1d04 | 0.01997950                       | 1                                | \n",
       "|  -55.39473                       |  -55.38612                       | X123.Alpine.Chamois              | 368bd5c2255f3a5ce0fef06ca6de1d04 | 0.01162143                       | 1                                | \n",
       "|  -57.85786                       |  -57.84983                       | X133.Domestic.Goat               | 368bd5c2255f3a5ce0fef06ca6de1d04 | 0.01187704                       | 1                                | \n",
       "\n",
       "\n"
      ],
      "text/plain": [
       "  mean       upper      host                microbe                         \n",
       "1 -163.71339 -163.70317 X122.Wild.Boar      368bd5c2255f3a5ce0fef06ca6de1d04\n",
       "2  -55.39473  -55.38612 X123.Alpine.Chamois 368bd5c2255f3a5ce0fef06ca6de1d04\n",
       "3  -57.85786  -57.84983 X133.Domestic.Goat  368bd5c2255f3a5ce0fef06ca6de1d04\n",
       "  residuals  subsample_rep\n",
       "1 0.01997950 1            \n",
       "2 0.01162143 1            \n",
       "3 0.01187704 1            "
      ]
     },
     "metadata": {},
     "output_type": "display_data"
    }
   ],
   "source": [
    "# residuals\n",
    "get_residuals = function(rep, D_links_l){\n",
    "    # residuals\n",
    "    res = residuals_paco(D_links_l[[rep]]$proc) %>% as.data.frame \n",
    "    colnames(res) = 'residuals'\n",
    "    res = res %>%\n",
    "        mutate(comparison = rownames(.),\n",
    "               subsample_rep = rep) %>%\n",
    "        separate(comparison, c('host', 'microbe'), sep='-') \n",
    "        \n",
    "    # jackknife\n",
    "    D_links_jk = do.call(rbind, D_links_l[[rep]]$jackknife) %>%\n",
    "        t %>% as.data.frame %>%\n",
    "        mutate(comparison = rownames(.)) %>%\n",
    "        separate(comparison, c('host', 'microbe'), sep='-') %>%\n",
    "        inner_join(res, c('host'='host', 'microbe'='microbe'))\n",
    "    \n",
    "    # return\n",
    "    return(D_links_jk)\n",
    "}\n",
    "\n",
    "D_links_l = lapply(as.list(1:length(D_links_l)), get_residuals, D_links_l=D_links_l)\n",
    "D_links_l = do.call(rbind, D_links_l)\n",
    "D_links_l %>% dfhead"
   ]
  },
  {
   "cell_type": "markdown",
   "metadata": {},
   "source": [
    "### Summarizing residuals"
   ]
  },
  {
   "cell_type": "code",
   "execution_count": 26,
   "metadata": {
    "ExecuteTime": {
     "end_time": "2018-09-04T11:11:46.002141Z",
     "start_time": "2018-09-04T11:09:24.933Z"
    }
   },
   "outputs": [
    {
     "name": "stdout",
     "output_type": "stream",
     "text": [
      "[1] 5622    6\n"
     ]
    },
    {
     "data": {
      "text/html": [
       "<table>\n",
       "<thead><tr><th scope=col>host</th><th scope=col>microbe</th><th scope=col>mean_resid</th><th scope=col>median_resid</th><th scope=col>sd_resid</th><th scope=col>CV_resid</th></tr></thead>\n",
       "<tbody>\n",
       "\t<tr><td>F35.Red.Deer                    </td><td>01870326c8abb62d307cdd60c70a13ba</td><td>0.01012781                      </td><td>0.010165438                     </td><td>0.0002817210                    </td><td>2.781658                        </td></tr>\n",
       "\t<tr><td>F35.Red.Deer                    </td><td>0206837371f48a70d8103167f4b4204f</td><td>0.01007918                      </td><td>0.010079688                     </td><td>0.0003120697                    </td><td>3.096181                        </td></tr>\n",
       "\t<tr><td>F35.Red.Deer                    </td><td>045ca06e5f493a2f85cc8c1a31a0c78e</td><td>0.01011749                      </td><td>0.009982075                     </td><td>0.0003487025                    </td><td>3.446533                        </td></tr>\n",
       "</tbody>\n",
       "</table>\n"
      ],
      "text/latex": [
       "\\begin{tabular}{r|llllll}\n",
       " host & microbe & mean\\_resid & median\\_resid & sd\\_resid & CV\\_resid\\\\\n",
       "\\hline\n",
       "\t F35.Red.Deer                     & 01870326c8abb62d307cdd60c70a13ba & 0.01012781                       & 0.010165438                      & 0.0002817210                     & 2.781658                        \\\\\n",
       "\t F35.Red.Deer                     & 0206837371f48a70d8103167f4b4204f & 0.01007918                       & 0.010079688                      & 0.0003120697                     & 3.096181                        \\\\\n",
       "\t F35.Red.Deer                     & 045ca06e5f493a2f85cc8c1a31a0c78e & 0.01011749                       & 0.009982075                      & 0.0003487025                     & 3.446533                        \\\\\n",
       "\\end{tabular}\n"
      ],
      "text/markdown": [
       "\n",
       "host | microbe | mean_resid | median_resid | sd_resid | CV_resid | \n",
       "|---|---|---|\n",
       "| F35.Red.Deer                     | 01870326c8abb62d307cdd60c70a13ba | 0.01012781                       | 0.010165438                      | 0.0002817210                     | 2.781658                         | \n",
       "| F35.Red.Deer                     | 0206837371f48a70d8103167f4b4204f | 0.01007918                       | 0.010079688                      | 0.0003120697                     | 3.096181                         | \n",
       "| F35.Red.Deer                     | 045ca06e5f493a2f85cc8c1a31a0c78e | 0.01011749                       | 0.009982075                      | 0.0003487025                     | 3.446533                         | \n",
       "\n",
       "\n"
      ],
      "text/plain": [
       "  host         microbe                          mean_resid median_resid\n",
       "1 F35.Red.Deer 01870326c8abb62d307cdd60c70a13ba 0.01012781 0.010165438 \n",
       "2 F35.Red.Deer 0206837371f48a70d8103167f4b4204f 0.01007918 0.010079688 \n",
       "3 F35.Red.Deer 045ca06e5f493a2f85cc8c1a31a0c78e 0.01011749 0.009982075 \n",
       "  sd_resid     CV_resid\n",
       "1 0.0002817210 2.781658\n",
       "2 0.0003120697 3.096181\n",
       "3 0.0003487025 3.446533"
      ]
     },
     "metadata": {},
     "output_type": "display_data"
    }
   ],
   "source": [
    "D_links_l = D_links_l %>%\n",
    "    group_by(host, microbe) %>%\n",
    "    summarize(mean_resid = mean(residuals),\n",
    "              median_resid = median(residuals),\n",
    "              sd_resid = sd(residuals),\n",
    "              CV_resid = sd_resid / mean_resid * 100) %>%\n",
    "    ungroup()\n",
    "\n",
    "D_links_l %>% dfhead"
   ]
  },
  {
   "cell_type": "markdown",
   "metadata": {},
   "source": [
    "### Adding taxonomy"
   ]
  },
  {
   "cell_type": "code",
   "execution_count": 27,
   "metadata": {
    "ExecuteTime": {
     "end_time": "2018-09-04T11:11:46.209748Z",
     "start_time": "2018-09-04T11:09:28.877Z"
    }
   },
   "outputs": [
    {
     "name": "stdout",
     "output_type": "stream",
     "text": [
      "[1] 5622   13\n"
     ]
    },
    {
     "data": {
      "text/html": [
       "<table>\n",
       "<thead><tr><th scope=col>host</th><th scope=col>microbe</th><th scope=col>mean_resid</th><th scope=col>median_resid</th><th scope=col>sd_resid</th><th scope=col>CV_resid</th><th scope=col>Domain</th><th scope=col>Phylum</th><th scope=col>Class</th><th scope=col>Order</th><th scope=col>Family</th><th scope=col>Genus</th><th scope=col>Species</th></tr></thead>\n",
       "<tbody>\n",
       "\t<tr><td>F35.Red.Deer                        </td><td>01870326c8abb62d307cdd60c70a13ba    </td><td>0.01012781                          </td><td>0.010165438                         </td><td>0.0002817210                        </td><td>2.781658                            </td><td>Bacteria                            </td><td>Firmicutes                          </td><td>Clostridia                          </td><td>Clostridiales                       </td><td>Christensenellaceae                 </td><td>uncultured                          </td><td>uncultured bacterium                </td></tr>\n",
       "\t<tr><td>F35.Red.Deer                        </td><td>0206837371f48a70d8103167f4b4204f    </td><td>0.01007918                          </td><td>0.010079688                         </td><td>0.0003120697                        </td><td>3.096181                            </td><td>Bacteria                            </td><td>Firmicutes                          </td><td>Clostridia                          </td><td>Clostridiales                       </td><td>Lachnospiraceae                     </td><td>Pseudobutyrivibrio                  </td><td>unclassified                        </td></tr>\n",
       "\t<tr><td>F35.Red.Deer                        </td><td>045ca06e5f493a2f85cc8c1a31a0c78e    </td><td>0.01011749                          </td><td>0.009982075                         </td><td>0.0003487025                        </td><td>3.446533                            </td><td>Bacteria                            </td><td>Firmicutes                          </td><td>Clostridia                          </td><td>Clostridiales                       </td><td>Ruminococcaceae                     </td><td>uncultured                          </td><td>uncultured Ruminococcaceae bacterium</td></tr>\n",
       "</tbody>\n",
       "</table>\n"
      ],
      "text/latex": [
       "\\begin{tabular}{r|lllllllllllll}\n",
       " host & microbe & mean\\_resid & median\\_resid & sd\\_resid & CV\\_resid & Domain & Phylum & Class & Order & Family & Genus & Species\\\\\n",
       "\\hline\n",
       "\t F35.Red.Deer                         & 01870326c8abb62d307cdd60c70a13ba     & 0.01012781                           & 0.010165438                          & 0.0002817210                         & 2.781658                             & Bacteria                             & Firmicutes                           & Clostridia                           & Clostridiales                        & Christensenellaceae                  & uncultured                           & uncultured bacterium                \\\\\n",
       "\t F35.Red.Deer                         & 0206837371f48a70d8103167f4b4204f     & 0.01007918                           & 0.010079688                          & 0.0003120697                         & 3.096181                             & Bacteria                             & Firmicutes                           & Clostridia                           & Clostridiales                        & Lachnospiraceae                      & Pseudobutyrivibrio                   & unclassified                        \\\\\n",
       "\t F35.Red.Deer                         & 045ca06e5f493a2f85cc8c1a31a0c78e     & 0.01011749                           & 0.009982075                          & 0.0003487025                         & 3.446533                             & Bacteria                             & Firmicutes                           & Clostridia                           & Clostridiales                        & Ruminococcaceae                      & uncultured                           & uncultured Ruminococcaceae bacterium\\\\\n",
       "\\end{tabular}\n"
      ],
      "text/markdown": [
       "\n",
       "host | microbe | mean_resid | median_resid | sd_resid | CV_resid | Domain | Phylum | Class | Order | Family | Genus | Species | \n",
       "|---|---|---|\n",
       "| F35.Red.Deer                         | 01870326c8abb62d307cdd60c70a13ba     | 0.01012781                           | 0.010165438                          | 0.0002817210                         | 2.781658                             | Bacteria                             | Firmicutes                           | Clostridia                           | Clostridiales                        | Christensenellaceae                  | uncultured                           | uncultured bacterium                 | \n",
       "| F35.Red.Deer                         | 0206837371f48a70d8103167f4b4204f     | 0.01007918                           | 0.010079688                          | 0.0003120697                         | 3.096181                             | Bacteria                             | Firmicutes                           | Clostridia                           | Clostridiales                        | Lachnospiraceae                      | Pseudobutyrivibrio                   | unclassified                         | \n",
       "| F35.Red.Deer                         | 045ca06e5f493a2f85cc8c1a31a0c78e     | 0.01011749                           | 0.009982075                          | 0.0003487025                         | 3.446533                             | Bacteria                             | Firmicutes                           | Clostridia                           | Clostridiales                        | Ruminococcaceae                      | uncultured                           | uncultured Ruminococcaceae bacterium | \n",
       "\n",
       "\n"
      ],
      "text/plain": [
       "  host         microbe                          mean_resid median_resid\n",
       "1 F35.Red.Deer 01870326c8abb62d307cdd60c70a13ba 0.01012781 0.010165438 \n",
       "2 F35.Red.Deer 0206837371f48a70d8103167f4b4204f 0.01007918 0.010079688 \n",
       "3 F35.Red.Deer 045ca06e5f493a2f85cc8c1a31a0c78e 0.01011749 0.009982075 \n",
       "  sd_resid     CV_resid Domain   Phylum     Class      Order        \n",
       "1 0.0002817210 2.781658 Bacteria Firmicutes Clostridia Clostridiales\n",
       "2 0.0003120697 3.096181 Bacteria Firmicutes Clostridia Clostridiales\n",
       "3 0.0003487025 3.446533 Bacteria Firmicutes Clostridia Clostridiales\n",
       "  Family              Genus              Species                             \n",
       "1 Christensenellaceae uncultured         uncultured bacterium                \n",
       "2 Lachnospiraceae     Pseudobutyrivibrio unclassified                        \n",
       "3 Ruminococcaceae     uncultured         uncultured Ruminococcaceae bacterium"
      ]
     },
     "metadata": {},
     "output_type": "display_data"
    }
   ],
   "source": [
    "# adding taxonomy\n",
    "tax = physeq %>% tax_table %>% \n",
    "    as.matrix %>% as.data.frame %>%\n",
    "    mutate(microbe = rownames(.))\n",
    "\n",
    "D_links_l = D_links_l %>%\n",
    "    inner_join(tax, c('microbe'))\n",
    "\n",
    "D_links_l %>% dfhead"
   ]
  },
  {
   "cell_type": "code",
   "execution_count": 28,
   "metadata": {
    "ExecuteTime": {
     "end_time": "2018-09-04T11:11:46.393477Z",
     "start_time": "2018-09-04T11:09:38.701Z"
    }
   },
   "outputs": [
    {
     "name": "stderr",
     "output_type": "stream",
     "text": [
      "Warning message in class(X) <- NULL:\n",
      "“Setting class(x) to NULL;   result will no longer be an S4 object”"
     ]
    },
    {
     "name": "stdout",
     "output_type": "stream",
     "text": [
      "[1] 5622   19\n"
     ]
    },
    {
     "data": {
      "text/html": [
       "<table>\n",
       "<thead><tr><th scope=col>host</th><th scope=col>microbe</th><th scope=col>mean_resid</th><th scope=col>median_resid</th><th scope=col>sd_resid</th><th scope=col>CV_resid</th><th scope=col>Domain</th><th scope=col>Phylum</th><th scope=col>Class</th><th scope=col>Order</th><th scope=col>Family</th><th scope=col>Genus</th><th scope=col>Species</th><th scope=col>class</th><th scope=col>order</th><th scope=col>family</th><th scope=col>genus</th><th scope=col>scientific_name</th><th scope=col>diet</th></tr></thead>\n",
       "<tbody>\n",
       "\t<tr><td>F35.Red.Deer                        </td><td>01870326c8abb62d307cdd60c70a13ba    </td><td>0.01012781                          </td><td>0.010165438                         </td><td>0.0002817210                        </td><td>2.781658                            </td><td>Bacteria                            </td><td>Firmicutes                          </td><td>Clostridia                          </td><td>Clostridiales                       </td><td>Christensenellaceae                 </td><td>uncultured                          </td><td>uncultured bacterium                </td><td>Mammalia                            </td><td>Artiodactyla                        </td><td>Cervidae                            </td><td>Cervus                              </td><td>Cervus_elaphus                      </td><td>herbivore                           </td></tr>\n",
       "\t<tr><td>F35.Red.Deer                        </td><td>0206837371f48a70d8103167f4b4204f    </td><td>0.01007918                          </td><td>0.010079688                         </td><td>0.0003120697                        </td><td>3.096181                            </td><td>Bacteria                            </td><td>Firmicutes                          </td><td>Clostridia                          </td><td>Clostridiales                       </td><td>Lachnospiraceae                     </td><td>Pseudobutyrivibrio                  </td><td>unclassified                        </td><td>Mammalia                            </td><td>Artiodactyla                        </td><td>Cervidae                            </td><td>Cervus                              </td><td>Cervus_elaphus                      </td><td>herbivore                           </td></tr>\n",
       "\t<tr><td>F35.Red.Deer                        </td><td>045ca06e5f493a2f85cc8c1a31a0c78e    </td><td>0.01011749                          </td><td>0.009982075                         </td><td>0.0003487025                        </td><td>3.446533                            </td><td>Bacteria                            </td><td>Firmicutes                          </td><td>Clostridia                          </td><td>Clostridiales                       </td><td>Ruminococcaceae                     </td><td>uncultured                          </td><td>uncultured Ruminococcaceae bacterium</td><td>Mammalia                            </td><td>Artiodactyla                        </td><td>Cervidae                            </td><td>Cervus                              </td><td>Cervus_elaphus                      </td><td>herbivore                           </td></tr>\n",
       "</tbody>\n",
       "</table>\n"
      ],
      "text/latex": [
       "\\begin{tabular}{r|lllllllllllllllllll}\n",
       " host & microbe & mean\\_resid & median\\_resid & sd\\_resid & CV\\_resid & Domain & Phylum & Class & Order & Family & Genus & Species & class & order & family & genus & scientific\\_name & diet\\\\\n",
       "\\hline\n",
       "\t F35.Red.Deer                         & 01870326c8abb62d307cdd60c70a13ba     & 0.01012781                           & 0.010165438                          & 0.0002817210                         & 2.781658                             & Bacteria                             & Firmicutes                           & Clostridia                           & Clostridiales                        & Christensenellaceae                  & uncultured                           & uncultured bacterium                 & Mammalia                             & Artiodactyla                         & Cervidae                             & Cervus                               & Cervus\\_elaphus                     & herbivore                           \\\\\n",
       "\t F35.Red.Deer                         & 0206837371f48a70d8103167f4b4204f     & 0.01007918                           & 0.010079688                          & 0.0003120697                         & 3.096181                             & Bacteria                             & Firmicutes                           & Clostridia                           & Clostridiales                        & Lachnospiraceae                      & Pseudobutyrivibrio                   & unclassified                         & Mammalia                             & Artiodactyla                         & Cervidae                             & Cervus                               & Cervus\\_elaphus                     & herbivore                           \\\\\n",
       "\t F35.Red.Deer                         & 045ca06e5f493a2f85cc8c1a31a0c78e     & 0.01011749                           & 0.009982075                          & 0.0003487025                         & 3.446533                             & Bacteria                             & Firmicutes                           & Clostridia                           & Clostridiales                        & Ruminococcaceae                      & uncultured                           & uncultured Ruminococcaceae bacterium & Mammalia                             & Artiodactyla                         & Cervidae                             & Cervus                               & Cervus\\_elaphus                     & herbivore                           \\\\\n",
       "\\end{tabular}\n"
      ],
      "text/markdown": [
       "\n",
       "host | microbe | mean_resid | median_resid | sd_resid | CV_resid | Domain | Phylum | Class | Order | Family | Genus | Species | class | order | family | genus | scientific_name | diet | \n",
       "|---|---|---|\n",
       "| F35.Red.Deer                         | 01870326c8abb62d307cdd60c70a13ba     | 0.01012781                           | 0.010165438                          | 0.0002817210                         | 2.781658                             | Bacteria                             | Firmicutes                           | Clostridia                           | Clostridiales                        | Christensenellaceae                  | uncultured                           | uncultured bacterium                 | Mammalia                             | Artiodactyla                         | Cervidae                             | Cervus                               | Cervus_elaphus                       | herbivore                            | \n",
       "| F35.Red.Deer                         | 0206837371f48a70d8103167f4b4204f     | 0.01007918                           | 0.010079688                          | 0.0003120697                         | 3.096181                             | Bacteria                             | Firmicutes                           | Clostridia                           | Clostridiales                        | Lachnospiraceae                      | Pseudobutyrivibrio                   | unclassified                         | Mammalia                             | Artiodactyla                         | Cervidae                             | Cervus                               | Cervus_elaphus                       | herbivore                            | \n",
       "| F35.Red.Deer                         | 045ca06e5f493a2f85cc8c1a31a0c78e     | 0.01011749                           | 0.009982075                          | 0.0003487025                         | 3.446533                             | Bacteria                             | Firmicutes                           | Clostridia                           | Clostridiales                        | Ruminococcaceae                      | uncultured                           | uncultured Ruminococcaceae bacterium | Mammalia                             | Artiodactyla                         | Cervidae                             | Cervus                               | Cervus_elaphus                       | herbivore                            | \n",
       "\n",
       "\n"
      ],
      "text/plain": [
       "  host         microbe                          mean_resid median_resid\n",
       "1 F35.Red.Deer 01870326c8abb62d307cdd60c70a13ba 0.01012781 0.010165438 \n",
       "2 F35.Red.Deer 0206837371f48a70d8103167f4b4204f 0.01007918 0.010079688 \n",
       "3 F35.Red.Deer 045ca06e5f493a2f85cc8c1a31a0c78e 0.01011749 0.009982075 \n",
       "  sd_resid     CV_resid Domain   Phylum     Class      Order        \n",
       "1 0.0002817210 2.781658 Bacteria Firmicutes Clostridia Clostridiales\n",
       "2 0.0003120697 3.096181 Bacteria Firmicutes Clostridia Clostridiales\n",
       "3 0.0003487025 3.446533 Bacteria Firmicutes Clostridia Clostridiales\n",
       "  Family              Genus              Species                             \n",
       "1 Christensenellaceae uncultured         uncultured bacterium                \n",
       "2 Lachnospiraceae     Pseudobutyrivibrio unclassified                        \n",
       "3 Ruminococcaceae     uncultured         uncultured Ruminococcaceae bacterium\n",
       "  class    order        family   genus  scientific_name diet     \n",
       "1 Mammalia Artiodactyla Cervidae Cervus Cervus_elaphus  herbivore\n",
       "2 Mammalia Artiodactyla Cervidae Cervus Cervus_elaphus  herbivore\n",
       "3 Mammalia Artiodactyla Cervidae Cervus Cervus_elaphus  herbivore"
      ]
     },
     "metadata": {},
     "output_type": "display_data"
    }
   ],
   "source": [
    "# adding metadata\n",
    "host_tax = physeq %>% sample_data %>% \n",
    "    as.matrix %>% as.data.frame %>%\n",
    "    mutate(sample = rownames(.)) %>%\n",
    "    dplyr::select(sample, class, order, family, genus, scientific_name, diet)\n",
    "\n",
    "D_links_l = D_links_l %>%\n",
    "    inner_join(host_tax, c('host'='sample')) \n",
    "\n",
    "D_links_l %>% dfhead"
   ]
  },
  {
   "cell_type": "markdown",
   "metadata": {},
   "source": [
    "### Summarizing results"
   ]
  },
  {
   "cell_type": "code",
   "execution_count": 29,
   "metadata": {
    "ExecuteTime": {
     "end_time": "2018-09-04T11:11:53.646816Z",
     "start_time": "2018-09-04T11:10:29.732Z"
    }
   },
   "outputs": [
    {
     "name": "stdout",
     "output_type": "stream",
     "text": [
      "File written: /ebio/abt3_projects/Georg_animal_feces/data/host_specific/pcao/host_TT/.figures/IndD_sens-justMam_resid_mean-sd_diet.pdf \n"
     ]
    },
    {
     "data": {
      "image/png": "[encoded data removed]",
      "text/plain": [
       "plot without title"
      ]
     },
     "metadata": {},
     "output_type": "display_data"
    }
   ],
   "source": [
    "p = ggplot(D_links_l, aes(mean_resid, sd_resid, color=order)) +\n",
    "    geom_point(alpha=0.5) +\n",
    "    theme_bw() \n",
    "\n",
    "options(repr.plot.width=7.5, repr.plot.height=5)\n",
    "plot_write(p, file='IndD_sens-justMam_resid_mean-sd_diet.pdf')"
   ]
  },
  {
   "cell_type": "markdown",
   "metadata": {},
   "source": [
    "#### CV resulting from intra-species variance"
   ]
  },
  {
   "cell_type": "code",
   "execution_count": 30,
   "metadata": {
    "ExecuteTime": {
     "end_time": "2018-09-04T11:11:55.210339Z",
     "start_time": "2018-09-04T11:10:39.730Z"
    }
   },
   "outputs": [
    {
     "name": "stdout",
     "output_type": "stream",
     "text": [
      "   Min. 1st Qu.  Median    Mean 3rd Qu.    Max. \n",
      " 0.2018  2.7975  3.1061  3.2234  3.5627  7.9658 \n",
      "File written: /ebio/abt3_projects/Georg_animal_feces/data/host_specific/pcao/host_TT/.figures/IndD_sens-justMam_resid_histo.pdf \n"
     ]
    },
    {
     "data": {
      "image/png": "[encoded data removed]",
      "text/plain": [
       "plot without title"
      ]
     },
     "metadata": {},
     "output_type": "display_data"
    }
   ],
   "source": [
    "# CV variance due to \n",
    "D_links_l$CV_resid %>% summary %>% print\n",
    "\n",
    "p = ggplot(D_links_l, aes(CV_resid)) +\n",
    "    geom_histogram(binwidth=0.25) +\n",
    "    labs(x='intra-species CV in PACo resimduals', y='# of host-microbe\\ncomparisons') +\n",
    "    theme_bw()\n",
    "\n",
    "options(repr.plot.width=5, repr.plot.height=3.5)\n",
    "plot_write(p, 'IndD_sens-justMam_resid_histo.pdf')"
   ]
  },
  {
   "cell_type": "code",
   "execution_count": 31,
   "metadata": {
    "ExecuteTime": {
     "end_time": "2018-09-04T11:11:56.049688Z",
     "start_time": "2018-09-04T11:10:46.042Z"
    }
   },
   "outputs": [
    {
     "name": "stdout",
     "output_type": "stream",
     "text": [
      "   Min. 1st Qu.  Median    Mean 3rd Qu.    Max. \n",
      " 0.2018  2.7975  3.1061  3.2234  3.5627  7.9658 \n"
     ]
    },
    {
     "data": {
      "image/png": "[encoded data removed]",
      "text/plain": [
       "plot without title"
      ]
     },
     "metadata": {},
     "output_type": "display_data"
    }
   ],
   "source": [
    "# CV variance due to \n",
    "D_links_l$CV_resid %>% summary %>% print\n",
    "\n",
    "p = ggplot(D_links_l, aes(CV_resid)) +\n",
    "    geom_histogram(binwidth=0.25) +\n",
    "    labs(x='intra-species CV in PACo resimduals', y='# of host-microbe\\ncomparisons') +\n",
    "    facet_wrap(~ class, scales='free_y') +\n",
    "    theme_bw()\n",
    "\n",
    "options(repr.plot.width=6, repr.plot.height=3.5)\n",
    "plot(p)"
   ]
  },
  {
   "cell_type": "markdown",
   "metadata": {},
   "source": [
    "#### Notes\n",
    "\n",
    "* a rather low intra-species CV, suggesting that intra-species variation doesn't affect residuals much"
   ]
  },
  {
   "cell_type": "markdown",
   "metadata": {},
   "source": [
    "### Summing residuals by host data"
   ]
  },
  {
   "cell_type": "code",
   "execution_count": 32,
   "metadata": {
    "ExecuteTime": {
     "end_time": "2018-09-04T11:11:56.116876Z",
     "start_time": "2018-09-04T11:10:51.117Z"
    }
   },
   "outputs": [
    {
     "name": "stdout",
     "output_type": "stream",
     "text": [
      "[1] 5622    6\n"
     ]
    },
    {
     "data": {
      "text/html": [
       "<table>\n",
       "<thead><tr><th scope=col>host</th><th scope=col>microbe</th><th scope=col>mean_resid</th><th scope=col>class</th><th scope=col>category</th><th scope=col>value</th></tr></thead>\n",
       "<tbody>\n",
       "\t<tr><td>F35.Red.Deer                    </td><td>01870326c8abb62d307cdd60c70a13ba</td><td>0.01012781                      </td><td>Mammalia                        </td><td>diet                            </td><td>herbivore                       </td></tr>\n",
       "\t<tr><td>F35.Red.Deer                    </td><td>0206837371f48a70d8103167f4b4204f</td><td>0.01007918                      </td><td>Mammalia                        </td><td>diet                            </td><td>herbivore                       </td></tr>\n",
       "\t<tr><td>F35.Red.Deer                    </td><td>045ca06e5f493a2f85cc8c1a31a0c78e</td><td>0.01011749                      </td><td>Mammalia                        </td><td>diet                            </td><td>herbivore                       </td></tr>\n",
       "</tbody>\n",
       "</table>\n"
      ],
      "text/latex": [
       "\\begin{tabular}{r|llllll}\n",
       " host & microbe & mean\\_resid & class & category & value\\\\\n",
       "\\hline\n",
       "\t F35.Red.Deer                     & 01870326c8abb62d307cdd60c70a13ba & 0.01012781                       & Mammalia                         & diet                             & herbivore                       \\\\\n",
       "\t F35.Red.Deer                     & 0206837371f48a70d8103167f4b4204f & 0.01007918                       & Mammalia                         & diet                             & herbivore                       \\\\\n",
       "\t F35.Red.Deer                     & 045ca06e5f493a2f85cc8c1a31a0c78e & 0.01011749                       & Mammalia                         & diet                             & herbivore                       \\\\\n",
       "\\end{tabular}\n"
      ],
      "text/markdown": [
       "\n",
       "host | microbe | mean_resid | class | category | value | \n",
       "|---|---|---|\n",
       "| F35.Red.Deer                     | 01870326c8abb62d307cdd60c70a13ba | 0.01012781                       | Mammalia                         | diet                             | herbivore                        | \n",
       "| F35.Red.Deer                     | 0206837371f48a70d8103167f4b4204f | 0.01007918                       | Mammalia                         | diet                             | herbivore                        | \n",
       "| F35.Red.Deer                     | 045ca06e5f493a2f85cc8c1a31a0c78e | 0.01011749                       | Mammalia                         | diet                             | herbivore                        | \n",
       "\n",
       "\n"
      ],
      "text/plain": [
       "  host         microbe                          mean_resid class    category\n",
       "1 F35.Red.Deer 01870326c8abb62d307cdd60c70a13ba 0.01012781 Mammalia diet    \n",
       "2 F35.Red.Deer 0206837371f48a70d8103167f4b4204f 0.01007918 Mammalia diet    \n",
       "3 F35.Red.Deer 045ca06e5f493a2f85cc8c1a31a0c78e 0.01011749 Mammalia diet    \n",
       "  value    \n",
       "1 herbivore\n",
       "2 herbivore\n",
       "3 herbivore"
      ]
     },
     "metadata": {},
     "output_type": "display_data"
    }
   ],
   "source": [
    "D_links_l_s = D_links_l %>% \n",
    "    dplyr::select(host, microbe, mean_resid, diet, class) %>%\n",
    "    gather(category, value, -host, -microbe, -mean_resid, -class) \n",
    "\n",
    "D_links_l_s %>% dfhead"
   ]
  },
  {
   "cell_type": "code",
   "execution_count": 33,
   "metadata": {
    "ExecuteTime": {
     "end_time": "2018-09-04T11:11:57.843532Z",
     "start_time": "2018-09-04T11:11:10.298Z"
    }
   },
   "outputs": [
    {
     "name": "stdout",
     "output_type": "stream",
     "text": [
      "File written: /ebio/abt3_projects/Georg_animal_feces/data/host_specific/pcao/host_TT/.figures/IndD_sens-justMam_resid_diet.pdf \n"
     ]
    },
    {
     "data": {
      "image/png": "[encoded data removed]",
      "text/plain": [
       "plot without title"
      ]
     },
     "metadata": {},
     "output_type": "display_data"
    }
   ],
   "source": [
    "tmp = D_links_l %>% \n",
    "    group_by(diet) %>%\n",
    "    mutate(median_resid = median(mean_resid)) %>%\n",
    "    ungroup() %>%\n",
    "    mutate(diet = diet %>% reorder(-median_resid))\n",
    "\n",
    "p = ggplot(tmp, aes(diet, mean_resid)) +\n",
    "    geom_boxplot() +\n",
    "    labs(x='Class', y='Residuals') +\n",
    "    theme_bw() +\n",
    "    theme(\n",
    "        axis.text.x = element_text(angle=45, hjust=1)\n",
    "    )\n",
    "\n",
    "options(repr.plot.width=3.5, repr.plot.height=2.5)\n",
    "plot_write(p, file='IndD_sens-justMam_resid_diet.pdf')"
   ]
  },
  {
   "cell_type": "code",
   "execution_count": 34,
   "metadata": {
    "ExecuteTime": {
     "end_time": "2018-09-04T11:11:57.911541Z",
     "start_time": "2018-09-04T11:11:11.831Z"
    }
   },
   "outputs": [
    {
     "data": {
      "text/plain": [
       "              Df Sum Sq Mean Sq F value Pr(>F)    \n",
       "diet           2 0.1151 0.05757   619.1 <2e-16 ***\n",
       "Residuals   5619 0.5226 0.00009                   \n",
       "---\n",
       "Signif. codes:  0 ‘***’ 0.001 ‘**’ 0.01 ‘*’ 0.05 ‘.’ 0.1 ‘ ’ 1"
      ]
     },
     "metadata": {},
     "output_type": "display_data"
    }
   ],
   "source": [
    "# anova\n",
    "aov_res = aov(mean_resid ~ diet, data=D_links_l)\n",
    "aov_res %>% summary"
   ]
  },
  {
   "cell_type": "code",
   "execution_count": 37,
   "metadata": {
    "ExecuteTime": {
     "end_time": "2018-09-04T11:12:25.146871Z",
     "start_time": "2018-09-04T11:12:28.717Z"
    }
   },
   "outputs": [
    {
     "name": "stdout",
     "output_type": "stream",
     "text": [
      "File written: /ebio/abt3_projects/Georg_animal_feces/data/host_specific/pcao/host_TT/.figures/IndD_sens-justMam_resid_order.pdf \n"
     ]
    },
    {
     "data": {
      "image/png": "[encoded data removed]",
      "text/plain": [
       "plot without title"
      ]
     },
     "metadata": {},
     "output_type": "display_data"
    }
   ],
   "source": [
    "# by order\n",
    "tmp = D_links_l %>% \n",
    "    group_by(order) %>%\n",
    "    mutate(median_resid = median(mean_resid)) %>%\n",
    "    ungroup() %>%\n",
    "    group_by(class) %>%\n",
    "    mutate(median_resid_class = median(mean_resid)) %>%\n",
    "    ungroup() %>%   \n",
    "    mutate(order = order %>% reorder(-median_resid))\n",
    "\n",
    "p = ggplot(tmp, aes(order, mean_resid)) +\n",
    "    geom_boxplot() +\n",
    "    labs(x='Order', y='Residuals') +\n",
    "    theme_bw() +\n",
    "    theme(\n",
    "        axis.text.x = element_text(angle=65, hjust=1)\n",
    "    )\n",
    "\n",
    "options(repr.plot.width=7, repr.plot.height=3)\n",
    "plot_write(p, file='IndD_sens-justMam_resid_order.pdf')"
   ]
  },
  {
   "cell_type": "code",
   "execution_count": 90,
   "metadata": {
    "ExecuteTime": {
     "end_time": "2018-07-18T12:44:53.182006Z",
     "start_time": "2018-07-18T12:44:44.547Z"
    }
   },
   "outputs": [
    {
     "name": "stdout",
     "output_type": "stream",
     "text": [
      "File written: /ebio/abt3_projects/Georg_animal_feces/data/host_specific/pcao/host_TT/.figures/IndD_sens-justMam_resid_family.pdf \n"
     ]
    },
    {
     "data": {
      "image/png": "[encoded data removed]",
      "text/plain": [
       "plot without title"
      ]
     },
     "metadata": {},
     "output_type": "display_data"
    }
   ],
   "source": [
    "# by family\n",
    "tmp = D_links_l %>% \n",
    "    group_by(family) %>%\n",
    "    mutate(median_resid = median(mean_resid)) %>%\n",
    "    ungroup() %>%\n",
    "    group_by(class) %>%\n",
    "    mutate(median_resid_class = median(mean_resid)) %>%\n",
    "    ungroup() %>%   \n",
    "    mutate(family = family %>% reorder(-median_resid))\n",
    "\n",
    "p = ggplot(tmp, aes(family, mean_resid)) +\n",
    "    geom_boxplot() +\n",
    "    labs(x='Family', y='Residuals') +\n",
    "    theme_bw() +\n",
    "    theme(\n",
    "        axis.text.x = element_text(angle=65, hjust=1)\n",
    "    )\n",
    "\n",
    "options(repr.plot.width=9.5, repr.plot.height=4)\n",
    "plot_write(p, file='IndD_sens-justMam_resid_family.pdf')"
   ]
  },
  {
   "cell_type": "markdown",
   "metadata": {},
   "source": [
    "### Regressing out diet"
   ]
  },
  {
   "cell_type": "code",
   "execution_count": 91,
   "metadata": {
    "ExecuteTime": {
     "end_time": "2018-07-18T12:44:53.279921Z",
     "start_time": "2018-07-18T12:44:45.772Z"
    }
   },
   "outputs": [
    {
     "name": "stdout",
     "output_type": "stream",
     "text": [
      "[1] 5622   20\n"
     ]
    },
    {
     "data": {
      "text/html": [
       "<table>\n",
       "<thead><tr><th scope=col>host</th><th scope=col>microbe</th><th scope=col>mean_resid</th><th scope=col>median_resid</th><th scope=col>sd_resid</th><th scope=col>CV_resid</th><th scope=col>Domain</th><th scope=col>Phylum</th><th scope=col>Class</th><th scope=col>Order</th><th scope=col>Family</th><th scope=col>Genus</th><th scope=col>Species</th><th scope=col>class</th><th scope=col>order</th><th scope=col>family</th><th scope=col>genus</th><th scope=col>scientific_name</th><th scope=col>diet</th><th scope=col>phy_resid</th></tr></thead>\n",
       "<tbody>\n",
       "\t<tr><td>F35.Red.Deer                        </td><td>01870326c8abb62d307cdd60c70a13ba    </td><td>0.01012781                          </td><td>0.010165438                         </td><td>0.0002817210                        </td><td>2.781658                            </td><td>Bacteria                            </td><td>Firmicutes                          </td><td>Clostridia                          </td><td>Clostridiales                       </td><td>Christensenellaceae                 </td><td>uncultured                          </td><td>uncultured bacterium                </td><td>Mammalia                            </td><td>Artiodactyla                        </td><td>Cervidae                            </td><td>Cervus                              </td><td>Cervus_elaphus                      </td><td>herbivore                           </td><td>0.09854501                          </td></tr>\n",
       "\t<tr><td>F35.Red.Deer                        </td><td>0206837371f48a70d8103167f4b4204f    </td><td>0.01007918                          </td><td>0.010079688                         </td><td>0.0003120697                        </td><td>3.096181                            </td><td>Bacteria                            </td><td>Firmicutes                          </td><td>Clostridia                          </td><td>Clostridiales                       </td><td>Lachnospiraceae                     </td><td>Pseudobutyrivibrio                  </td><td>unclassified                        </td><td>Mammalia                            </td><td>Artiodactyla                        </td><td>Cervidae                            </td><td>Cervus                              </td><td>Cervus_elaphus                      </td><td>herbivore                           </td><td>0.09768411                          </td></tr>\n",
       "\t<tr><td>F35.Red.Deer                        </td><td>045ca06e5f493a2f85cc8c1a31a0c78e    </td><td>0.01011749                          </td><td>0.009982075                         </td><td>0.0003487025                        </td><td>3.446533                            </td><td>Bacteria                            </td><td>Firmicutes                          </td><td>Clostridia                          </td><td>Clostridiales                       </td><td>Ruminococcaceae                     </td><td>uncultured                          </td><td>uncultured Ruminococcaceae bacterium</td><td>Mammalia                            </td><td>Artiodactyla                        </td><td>Cervidae                            </td><td>Cervus                              </td><td>Cervus_elaphus                      </td><td>herbivore                           </td><td>0.09836220                          </td></tr>\n",
       "</tbody>\n",
       "</table>\n"
      ],
      "text/latex": [
       "\\begin{tabular}{r|llllllllllllllllllll}\n",
       " host & microbe & mean\\_resid & median\\_resid & sd\\_resid & CV\\_resid & Domain & Phylum & Class & Order & Family & Genus & Species & class & order & family & genus & scientific\\_name & diet & phy\\_resid\\\\\n",
       "\\hline\n",
       "\t F35.Red.Deer                         & 01870326c8abb62d307cdd60c70a13ba     & 0.01012781                           & 0.010165438                          & 0.0002817210                         & 2.781658                             & Bacteria                             & Firmicutes                           & Clostridia                           & Clostridiales                        & Christensenellaceae                  & uncultured                           & uncultured bacterium                 & Mammalia                             & Artiodactyla                         & Cervidae                             & Cervus                               & Cervus\\_elaphus                     & herbivore                            & 0.09854501                          \\\\\n",
       "\t F35.Red.Deer                         & 0206837371f48a70d8103167f4b4204f     & 0.01007918                           & 0.010079688                          & 0.0003120697                         & 3.096181                             & Bacteria                             & Firmicutes                           & Clostridia                           & Clostridiales                        & Lachnospiraceae                      & Pseudobutyrivibrio                   & unclassified                         & Mammalia                             & Artiodactyla                         & Cervidae                             & Cervus                               & Cervus\\_elaphus                     & herbivore                            & 0.09768411                          \\\\\n",
       "\t F35.Red.Deer                         & 045ca06e5f493a2f85cc8c1a31a0c78e     & 0.01011749                           & 0.009982075                          & 0.0003487025                         & 3.446533                             & Bacteria                             & Firmicutes                           & Clostridia                           & Clostridiales                        & Ruminococcaceae                      & uncultured                           & uncultured Ruminococcaceae bacterium & Mammalia                             & Artiodactyla                         & Cervidae                             & Cervus                               & Cervus\\_elaphus                     & herbivore                            & 0.09836220                          \\\\\n",
       "\\end{tabular}\n"
      ],
      "text/markdown": [
       "\n",
       "host | microbe | mean_resid | median_resid | sd_resid | CV_resid | Domain | Phylum | Class | Order | Family | Genus | Species | class | order | family | genus | scientific_name | diet | phy_resid | \n",
       "|---|---|---|\n",
       "| F35.Red.Deer                         | 01870326c8abb62d307cdd60c70a13ba     | 0.01012781                           | 0.010165438                          | 0.0002817210                         | 2.781658                             | Bacteria                             | Firmicutes                           | Clostridia                           | Clostridiales                        | Christensenellaceae                  | uncultured                           | uncultured bacterium                 | Mammalia                             | Artiodactyla                         | Cervidae                             | Cervus                               | Cervus_elaphus                       | herbivore                            | 0.09854501                           | \n",
       "| F35.Red.Deer                         | 0206837371f48a70d8103167f4b4204f     | 0.01007918                           | 0.010079688                          | 0.0003120697                         | 3.096181                             | Bacteria                             | Firmicutes                           | Clostridia                           | Clostridiales                        | Lachnospiraceae                      | Pseudobutyrivibrio                   | unclassified                         | Mammalia                             | Artiodactyla                         | Cervidae                             | Cervus                               | Cervus_elaphus                       | herbivore                            | 0.09768411                           | \n",
       "| F35.Red.Deer                         | 045ca06e5f493a2f85cc8c1a31a0c78e     | 0.01011749                           | 0.009982075                          | 0.0003487025                         | 3.446533                             | Bacteria                             | Firmicutes                           | Clostridia                           | Clostridiales                        | Ruminococcaceae                      | uncultured                           | uncultured Ruminococcaceae bacterium | Mammalia                             | Artiodactyla                         | Cervidae                             | Cervus                               | Cervus_elaphus                       | herbivore                            | 0.09836220                           | \n",
       "\n",
       "\n"
      ],
      "text/plain": [
       "  host         microbe                          mean_resid median_resid\n",
       "1 F35.Red.Deer 01870326c8abb62d307cdd60c70a13ba 0.01012781 0.010165438 \n",
       "2 F35.Red.Deer 0206837371f48a70d8103167f4b4204f 0.01007918 0.010079688 \n",
       "3 F35.Red.Deer 045ca06e5f493a2f85cc8c1a31a0c78e 0.01011749 0.009982075 \n",
       "  sd_resid     CV_resid Domain   Phylum     Class      Order        \n",
       "1 0.0002817210 2.781658 Bacteria Firmicutes Clostridia Clostridiales\n",
       "2 0.0003120697 3.096181 Bacteria Firmicutes Clostridia Clostridiales\n",
       "3 0.0003487025 3.446533 Bacteria Firmicutes Clostridia Clostridiales\n",
       "  Family              Genus              Species                             \n",
       "1 Christensenellaceae uncultured         uncultured bacterium                \n",
       "2 Lachnospiraceae     Pseudobutyrivibrio unclassified                        \n",
       "3 Ruminococcaceae     uncultured         uncultured Ruminococcaceae bacterium\n",
       "  class    order        family   genus  scientific_name diet      phy_resid \n",
       "1 Mammalia Artiodactyla Cervidae Cervus Cervus_elaphus  herbivore 0.09854501\n",
       "2 Mammalia Artiodactyla Cervidae Cervus Cervus_elaphus  herbivore 0.09768411\n",
       "3 Mammalia Artiodactyla Cervidae Cervus Cervus_elaphus  herbivore 0.09836220"
      ]
     },
     "metadata": {},
     "output_type": "display_data"
    }
   ],
   "source": [
    "x = lm(mean_resid ~ diet, data=D_links_l)\n",
    "D_links_l$phy_resid = x$residuals %>% scales::rescale(to=c(0,1))\n",
    "D_links_l %>% status"
   ]
  },
  {
   "cell_type": "code",
   "execution_count": 92,
   "metadata": {
    "ExecuteTime": {
     "end_time": "2018-07-18T12:44:58.351718Z",
     "start_time": "2018-07-18T12:44:45.932Z"
    },
    "scrolled": true
   },
   "outputs": [
    {
     "name": "stdout",
     "output_type": "stream",
     "text": [
      "File written: /ebio/abt3_projects/Georg_animal_feces/data/host_specific/pcao/host_TT/.figures/IndD_sens-justMam_phy-resid_family.pdf \n"
     ]
    },
    {
     "data": {
      "image/png": "[encoded data removed]",
      "text/plain": [
       "plot without title"
      ]
     },
     "metadata": {},
     "output_type": "display_data"
    }
   ],
   "source": [
    "tmp = D_links_l %>% \n",
    "    group_by(family) %>%\n",
    "    mutate(median_resid = median(phy_resid)) %>%\n",
    "    ungroup() %>%\n",
    "    group_by(class) %>%\n",
    "    mutate(median_resid_class = median(phy_resid)) %>%\n",
    "    ungroup() %>%   \n",
    "    mutate(family = family %>% reorder(-median_resid))\n",
    "\n",
    "p = ggplot(tmp, aes(family, phy_resid)) +\n",
    "    geom_boxplot() +\n",
    "    labs(x='Family', y='Residuals') +\n",
    "    theme_bw() +\n",
    "    theme(\n",
    "        axis.text.x = element_text(angle=65, hjust=1)\n",
    "    )\n",
    "\n",
    "options(repr.plot.width=9.5, repr.plot.height=4)\n",
    "plot_write(p, file='IndD_sens-justMam_phy-resid_family.pdf')"
   ]
  },
  {
   "cell_type": "markdown",
   "metadata": {},
   "source": [
    "### Formatting for iTOL"
   ]
  },
  {
   "cell_type": "code",
   "execution_count": 95,
   "metadata": {
    "ExecuteTime": {
     "end_time": "2018-07-18T12:45:09.636273Z",
     "start_time": "2018-07-18T12:45:09.341Z"
    }
   },
   "outputs": [
    {
     "name": "stdout",
     "output_type": "stream",
     "text": [
      "[1]  82 381\n"
     ]
    },
    {
     "data": {
      "text/html": [
       "<table>\n",
       "<thead><tr><th></th><th scope=col>Acinetobacter_SV154</th><th scope=col>Acinetobacter_SV156</th><th scope=col>Akkermansia_SV184</th><th scope=col>Alistipes_SV10</th><th scope=col>Alistipes_SV13</th><th scope=col>Alistipes_SV143</th><th scope=col>Alistipes_SV157</th><th scope=col>Alistipes_SV162</th><th scope=col>Alistipes_SV163</th><th scope=col>Alistipes_SV189</th><th scope=col>⋯</th><th scope=col>uncultured_SV80</th><th scope=col>uncultured_SV83</th><th scope=col>uncultured_SV84</th><th scope=col>uncultured_SV86</th><th scope=col>uncultured_SV87</th><th scope=col>uncultured_SV88</th><th scope=col>uncultured_SV91</th><th scope=col>uncultured_SV93</th><th scope=col>uncultured_SV97</th><th scope=col>uncultured_SV99</th></tr></thead>\n",
       "<tbody>\n",
       "\t<tr><th scope=row>Aepyceros_melampus</th><td>NA        </td><td>NA        </td><td>NA        </td><td>NA        </td><td>NA        </td><td>0.01113751</td><td>NA        </td><td>NA        </td><td>        NA</td><td>NA        </td><td>⋯         </td><td>NA        </td><td>NA        </td><td>0.01028743</td><td>NA        </td><td>0.01065991</td><td>NA        </td><td>NA        </td><td>0.01020812</td><td>NA        </td><td>NA        </td></tr>\n",
       "\t<tr><th scope=row>Apodemus_flavicollis</th><td>NA        </td><td>NA        </td><td>NA        </td><td>NA        </td><td>NA        </td><td>        NA</td><td>NA        </td><td>NA        </td><td>0.03331647</td><td>NA        </td><td>⋯         </td><td>NA        </td><td>NA        </td><td>        NA</td><td>NA        </td><td>        NA</td><td>NA        </td><td>NA        </td><td>        NA</td><td>NA        </td><td>NA        </td></tr>\n",
       "\t<tr><th scope=row>Apodemus_sylvaticus</th><td>NA        </td><td>NA        </td><td>NA        </td><td>NA        </td><td>NA        </td><td>        NA</td><td>NA        </td><td>NA        </td><td>        NA</td><td>NA        </td><td>⋯         </td><td>NA        </td><td>NA        </td><td>        NA</td><td>NA        </td><td>        NA</td><td>NA        </td><td>NA        </td><td>        NA</td><td>NA        </td><td>NA        </td></tr>\n",
       "</tbody>\n",
       "</table>\n"
      ],
      "text/latex": [
       "\\begin{tabular}{r|lllllllllllllllllllllllllllllllllllllllllllllllllllllllllllllllllllllllllllllllllllllllllllllllllllllllllllllllllllllllllllllllllllllllllllllllllllllllllllllllllllllllllllllllllllllllllllllllllllllllllllllllllllllllllllllllllllllllllllllllllllllllllllllllllllllllllllllllllllllllllllllllllllllllllllllllllllllllllllllllllllllllllllllllllllllllllllllllllllllllllllllllllllllllllllll}\n",
       "  & Acinetobacter\\_SV154 & Acinetobacter\\_SV156 & Akkermansia\\_SV184 & Alistipes\\_SV10 & Alistipes\\_SV13 & Alistipes\\_SV143 & Alistipes\\_SV157 & Alistipes\\_SV162 & Alistipes\\_SV163 & Alistipes\\_SV189 & ⋯ & uncultured\\_SV80 & uncultured\\_SV83 & uncultured\\_SV84 & uncultured\\_SV86 & uncultured\\_SV87 & uncultured\\_SV88 & uncultured\\_SV91 & uncultured\\_SV93 & uncultured\\_SV97 & uncultured\\_SV99\\\\\n",
       "\\hline\n",
       "\tAepyceros\\_melampus & NA         & NA         & NA         & NA         & NA         & 0.01113751 & NA         & NA         &         NA & NA         & ⋯          & NA         & NA         & 0.01028743 & NA         & 0.01065991 & NA         & NA         & 0.01020812 & NA         & NA        \\\\\n",
       "\tApodemus\\_flavicollis & NA         & NA         & NA         & NA         & NA         &         NA & NA         & NA         & 0.03331647 & NA         & ⋯          & NA         & NA         &         NA & NA         &         NA & NA         & NA         &         NA & NA         & NA        \\\\\n",
       "\tApodemus\\_sylvaticus & NA         & NA         & NA         & NA         & NA         &         NA & NA         & NA         &         NA & NA         & ⋯          & NA         & NA         &         NA & NA         &         NA & NA         & NA         &         NA & NA         & NA        \\\\\n",
       "\\end{tabular}\n"
      ],
      "text/markdown": [
       "\n",
       "| <!--/--> | Acinetobacter_SV154 | Acinetobacter_SV156 | Akkermansia_SV184 | Alistipes_SV10 | Alistipes_SV13 | Alistipes_SV143 | Alistipes_SV157 | Alistipes_SV162 | Alistipes_SV163 | Alistipes_SV189 | ⋯ | uncultured_SV80 | uncultured_SV83 | uncultured_SV84 | uncultured_SV86 | uncultured_SV87 | uncultured_SV88 | uncultured_SV91 | uncultured_SV93 | uncultured_SV97 | uncultured_SV99 | \n",
       "|---|---|---|\n",
       "| Aepyceros_melampus | NA         | NA         | NA         | NA         | NA         | 0.01113751 | NA         | NA         |         NA | NA         | ⋯          | NA         | NA         | 0.01028743 | NA         | 0.01065991 | NA         | NA         | 0.01020812 | NA         | NA         | \n",
       "| Apodemus_flavicollis | NA         | NA         | NA         | NA         | NA         |         NA | NA         | NA         | 0.03331647 | NA         | ⋯          | NA         | NA         |         NA | NA         |         NA | NA         | NA         |         NA | NA         | NA         | \n",
       "| Apodemus_sylvaticus | NA         | NA         | NA         | NA         | NA         |         NA | NA         | NA         |         NA | NA         | ⋯          | NA         | NA         |         NA | NA         |         NA | NA         | NA         |         NA | NA         | NA         | \n",
       "\n",
       "\n"
      ],
      "text/plain": [
       "                     Acinetobacter_SV154 Acinetobacter_SV156 Akkermansia_SV184\n",
       "Aepyceros_melampus   NA                  NA                  NA               \n",
       "Apodemus_flavicollis NA                  NA                  NA               \n",
       "Apodemus_sylvaticus  NA                  NA                  NA               \n",
       "                     Alistipes_SV10 Alistipes_SV13 Alistipes_SV143\n",
       "Aepyceros_melampus   NA             NA             0.01113751     \n",
       "Apodemus_flavicollis NA             NA                     NA     \n",
       "Apodemus_sylvaticus  NA             NA                     NA     \n",
       "                     Alistipes_SV157 Alistipes_SV162 Alistipes_SV163\n",
       "Aepyceros_melampus   NA              NA                      NA     \n",
       "Apodemus_flavicollis NA              NA              0.03331647     \n",
       "Apodemus_sylvaticus  NA              NA                      NA     \n",
       "                     Alistipes_SV189 ⋯ uncultured_SV80 uncultured_SV83\n",
       "Aepyceros_melampus   NA              ⋯ NA              NA             \n",
       "Apodemus_flavicollis NA              ⋯ NA              NA             \n",
       "Apodemus_sylvaticus  NA              ⋯ NA              NA             \n",
       "                     uncultured_SV84 uncultured_SV86 uncultured_SV87\n",
       "Aepyceros_melampus   0.01028743      NA              0.01065991     \n",
       "Apodemus_flavicollis         NA      NA                      NA     \n",
       "Apodemus_sylvaticus          NA      NA                      NA     \n",
       "                     uncultured_SV88 uncultured_SV91 uncultured_SV93\n",
       "Aepyceros_melampus   NA              NA              0.01020812     \n",
       "Apodemus_flavicollis NA              NA                      NA     \n",
       "Apodemus_sylvaticus  NA              NA                      NA     \n",
       "                     uncultured_SV97 uncultured_SV99\n",
       "Aepyceros_melampus   NA              NA             \n",
       "Apodemus_flavicollis NA              NA             \n",
       "Apodemus_sylvaticus  NA              NA             "
      ]
     },
     "metadata": {},
     "output_type": "display_data"
    }
   ],
   "source": [
    "otu_m = D_links_l %>%\n",
    "    mutate(host = gsub(' ', '_', scientific_name)) %>%\n",
    "    group_by(host, Genus, microbe) %>%\n",
    "    #summarize(mean_resid = mean(phy_resid, na.rm=TRUE)) %>%\n",
    "    summarize(mean_resid = mean(mean_resid, na.rm=TRUE)) %>%\n",
    "    ungroup() %>%\n",
    "    mutate(microbe = microbe %>% as.factor %>% as.numeric,\n",
    "           microbe = gsub('^', 'SV', microbe)) %>%\n",
    "    unite(OTU, Genus, microbe) %>%\n",
    "    filter(!grepl('^_SV', OTU)) %>%\n",
    "    dplyr::select(host, OTU, mean_resid) %>%\n",
    "    spread(OTU, mean_resid) %>%\n",
    "    as.data.frame\n",
    "\n",
    "rownames(otu_m) = otu_m$host \n",
    "otu_m$host = NULL\n",
    "rownames(otu_m) = gsub('^X', '', rownames(otu_m))\n",
    "\n",
    "otu_m %>% status"
   ]
  },
  {
   "cell_type": "code",
   "execution_count": 96,
   "metadata": {
    "ExecuteTime": {
     "end_time": "2018-07-18T12:45:10.709427Z",
     "start_time": "2018-07-18T12:45:10.628Z"
    }
   },
   "outputs": [],
   "source": [
    "# checking overlap with host clado tips\n",
    "#host_tree = read.tree(host_tree_file)\n",
    "#setdiff(host_tree$tip.label, rownames(otu_m)) %>% print\n",
    "#setdiff(rownames(otu_m), host_tree$tip.label) %>% print"
   ]
  },
  {
   "cell_type": "code",
   "execution_count": 97,
   "metadata": {
    "ExecuteTime": {
     "end_time": "2018-07-18T12:45:11.022149Z",
     "start_time": "2018-07-18T12:45:10.752Z"
    }
   },
   "outputs": [
    {
     "name": "stdout",
     "output_type": "stream",
     "text": [
      "File written: /ebio/abt3_projects/Georg_animal_feces/data/host_specific/pcao/host_TT//physeq_IndD-sens-justMam_PACo-Con-links_htmp.txt \n"
     ]
    }
   ],
   "source": [
    "itol_htmp_file = file.path(work_dir, 'physeq_IndD-sens-justMam_PACo-Con-links_htmp.txt')\n",
    "labs = gsub(' ', '_', colnames(otu_m))\n",
    "labs = sprintf('FIELD_LABELS %s\\n', paste(labs, collapse=' '))\n",
    "\n",
    "cat('DATASET_HEATMAP\\n', file=itol_htmp_file)\n",
    "cat('SEPARATOR SPACE\\n', file=itol_htmp_file, append=TRUE)\n",
    "cat('DATASET_LABEL paco_residuals\\n', file=itol_htmp_file, append=TRUE)\n",
    "cat('COLOR #ff0000\\n', file=itol_htmp_file, append=TRUE)\n",
    "cat(labs, file=itol_htmp_file, append=TRUE)\n",
    "cat('DATA\\n', file=itol_htmp_file, append=TRUE)\n",
    "write.table(otu_m, file=itol_htmp_file, append=TRUE, sep=' ', \n",
    "            quote=FALSE, col.names=FALSE)\n",
    "cat('File written:', itol_htmp_file, '\\n')"
   ]
  },
  {
   "cell_type": "markdown",
   "metadata": {},
   "source": [
    "#### iTOL: distribution of residuals per host species"
   ]
  },
  {
   "cell_type": "code",
   "execution_count": 98,
   "metadata": {
    "ExecuteTime": {
     "end_time": "2018-07-18T12:45:23.764235Z",
     "start_time": "2018-07-18T12:45:23.540Z"
    }
   },
   "outputs": [
    {
     "name": "stdout",
     "output_type": "stream",
     "text": [
      "[1] 82  6\n"
     ]
    },
    {
     "data": {
      "text/html": [
       "<table>\n",
       "<thead><tr><th scope=col>host</th><th scope=col>minimum</th><th scope=col>q1</th><th scope=col>median</th><th scope=col>q3</th><th scope=col>maximum</th></tr></thead>\n",
       "<tbody>\n",
       "\t<tr><td>Aepyceros_melampus  </td><td>0.01002696          </td><td>0.01026847          </td><td>0.01041608          </td><td>0.01071294          </td><td>0.01181609          </td></tr>\n",
       "\t<tr><td>Apodemus_flavicollis</td><td>0.03103510          </td><td>0.03299206          </td><td>0.03308623          </td><td>0.03315675          </td><td>0.03331647          </td></tr>\n",
       "\t<tr><td>Apodemus_sylvaticus </td><td>0.03103441          </td><td>0.03149439          </td><td>0.03195437          </td><td>0.03241435          </td><td>0.03287433          </td></tr>\n",
       "</tbody>\n",
       "</table>\n"
      ],
      "text/latex": [
       "\\begin{tabular}{r|llllll}\n",
       " host & minimum & q1 & median & q3 & maximum\\\\\n",
       "\\hline\n",
       "\t Aepyceros\\_melampus   & 0.01002696             & 0.01026847             & 0.01041608             & 0.01071294             & 0.01181609            \\\\\n",
       "\t Apodemus\\_flavicollis & 0.03103510             & 0.03299206             & 0.03308623             & 0.03315675             & 0.03331647            \\\\\n",
       "\t Apodemus\\_sylvaticus  & 0.03103441             & 0.03149439             & 0.03195437             & 0.03241435             & 0.03287433            \\\\\n",
       "\\end{tabular}\n"
      ],
      "text/markdown": [
       "\n",
       "host | minimum | q1 | median | q3 | maximum | \n",
       "|---|---|---|\n",
       "| Aepyceros_melampus   | 0.01002696           | 0.01026847           | 0.01041608           | 0.01071294           | 0.01181609           | \n",
       "| Apodemus_flavicollis | 0.03103510           | 0.03299206           | 0.03308623           | 0.03315675           | 0.03331647           | \n",
       "| Apodemus_sylvaticus  | 0.03103441           | 0.03149439           | 0.03195437           | 0.03241435           | 0.03287433           | \n",
       "\n",
       "\n"
      ],
      "text/plain": [
       "  host                 minimum    q1         median     q3         maximum   \n",
       "1 Aepyceros_melampus   0.01002696 0.01026847 0.01041608 0.01071294 0.01181609\n",
       "2 Apodemus_flavicollis 0.03103510 0.03299206 0.03308623 0.03315675 0.03331647\n",
       "3 Apodemus_sylvaticus  0.03103441 0.03149439 0.03195437 0.03241435 0.03287433"
      ]
     },
     "metadata": {},
     "output_type": "display_data"
    }
   ],
   "source": [
    "# summing residuals by host\n",
    "#ID1,minimum,q1,median,q3,maximum,extreme_value1,extreme_value2\n",
    "tmp = D_links_l %>%\n",
    "    #mutate(mean_resid = phy_resid) %>%    # diet regressed out\n",
    "    filter(!is.na(mean_resid)) %>%\n",
    "    mutate(host = gsub(' ', '_', scientific_name)) %>%\n",
    "    group_by(host, Genus, microbe) %>%\n",
    "    summarize(mean_resid = mean(mean_resid, na.rm=TRUE)) %>%\n",
    "    ungroup() %>%\n",
    "    group_by(host) %>%\n",
    "    summarize(minimum = min(mean_resid),\n",
    "              q1 = quantile(mean_resid, 0.25),\n",
    "              median = median(mean_resid),\n",
    "              q3 = quantile(mean_resid, 0.75),\n",
    "              maximum = max(mean_resid)) %>%\n",
    "    ungroup() \n",
    "\n",
    "\n",
    "tmp %>% status"
   ]
  },
  {
   "cell_type": "code",
   "execution_count": 99,
   "metadata": {
    "ExecuteTime": {
     "end_time": "2018-07-18T12:45:26.417655Z",
     "start_time": "2018-07-18T12:45:24.828Z"
    }
   },
   "outputs": [
    {
     "name": "stdout",
     "output_type": "stream",
     "text": [
      "File written: /ebio/abt3_projects/Georg_animal_feces/data/host_specific/pcao/host_TT//physeq_IndD-sens-justMam_PACo-Con-links_box.txt \n"
     ]
    }
   ],
   "source": [
    "itol_box_file = file.path(work_dir, 'physeq_IndD-sens-justMam_PACo-Con-links_box.txt')\n",
    "\n",
    "cat('DATASET_BOXPLOT\\n', file=itol_box_file)\n",
    "cat('SEPARATOR SPACE\\n', file=itol_box_file, append=TRUE)\n",
    "cat('DATASET_LABEL paco_resid_justMam\\n', file=itol_box_file, append=TRUE)\n",
    "cat('COLOR #ff0000\\n', file=itol_box_file, append=TRUE)\n",
    "cat('DATA\\n', file=itol_box_file, append=TRUE)\n",
    "write.table(tmp, file=itol_box_file, append=TRUE, sep=' ', \n",
    "            quote=FALSE, row.names=FALSE, col.names=FALSE)\n",
    "cat('File written:', itol_box_file, '\\n')"
   ]
  },
  {
   "cell_type": "markdown",
   "metadata": {},
   "source": [
    "# sessionInfo"
   ]
  },
  {
   "cell_type": "code",
   "execution_count": 74,
   "metadata": {
    "ExecuteTime": {
     "end_time": "2018-07-18T12:28:27.406008Z",
     "start_time": "2018-07-18T12:28:25.541Z"
    }
   },
   "outputs": [
    {
     "data": {
      "text/plain": [
       "R version 3.4.1 (2017-06-30)\n",
       "Platform: x86_64-pc-linux-gnu (64-bit)\n",
       "Running under: Ubuntu 16.04.4 LTS\n",
       "\n",
       "Matrix products: default\n",
       "BLAS: /ebio/abt3_projects/software/miniconda3/envs/py3_physeq_phylo/lib/R/lib/libRblas.so\n",
       "LAPACK: /ebio/abt3_projects/software/miniconda3/envs/py3_physeq_phylo/lib/R/lib/libRlapack.so\n",
       "\n",
       "locale:\n",
       " [1] LC_CTYPE=en_US.UTF-8       LC_NUMERIC=C              \n",
       " [3] LC_TIME=en_US.UTF-8        LC_COLLATE=en_US.UTF-8    \n",
       " [5] LC_MONETARY=en_US.UTF-8    LC_MESSAGES=en_US.UTF-8   \n",
       " [7] LC_PAPER=en_US.UTF-8       LC_NAME=C                 \n",
       " [9] LC_ADDRESS=C               LC_TELEPHONE=C            \n",
       "[11] LC_MEASUREMENT=en_US.UTF-8 LC_IDENTIFICATION=C       \n",
       "\n",
       "attached base packages:\n",
       "[1] stats     graphics  grDevices utils     datasets  methods   base     \n",
       "\n",
       "other attached packages:\n",
       " [1] bindrcpp_0.2            future.apply_1.0.0      future.batchtools_0.7.0\n",
       " [4] future_1.8.1            paco_0.3.2              ape_5.1                \n",
       " [7] phyloseq_1.22.3         stringr_1.2.0           ggplot2_2.2.1          \n",
       "[10] tidyr_0.8.1             dplyr_0.7.4            \n",
       "\n",
       "loaded via a namespace (and not attached):\n",
       " [1] Biobase_2.38.0      jsonlite_1.5        splines_3.4.1      \n",
       " [4] foreach_1.4.4       assertthat_0.2.0    stats4_3.4.1       \n",
       " [7] base64url_1.3       progress_1.1.2      globals_0.12.1     \n",
       "[10] pillar_1.2.2        backports_1.1.2     lattice_0.20-35    \n",
       "[13] glue_1.2.0          uuid_0.1-2          digest_0.6.13      \n",
       "[16] XVector_0.18.0      checkmate_1.8.5     colorspace_1.3-2   \n",
       "[19] htmltools_0.3.6     Matrix_1.2-14       plyr_1.8.4         \n",
       "[22] pkgconfig_2.0.1     listenv_0.7.0       zlibbioc_1.24.0    \n",
       "[25] purrr_0.2.4         scales_0.5.0        brew_1.0-6         \n",
       "[28] tibble_1.4.2        mgcv_1.8-17         IRanges_2.12.0     \n",
       "[31] withr_2.1.1         repr_0.13           BiocGenerics_0.24.0\n",
       "[34] lazyeval_0.2.1      survival_2.40-1     magrittr_1.5       \n",
       "[37] crayon_1.3.4        evaluate_0.10.1     doParallel_1.0.11  \n",
       "[40] nlme_3.1-137        MASS_7.3-48         vegan_2.4-3        \n",
       "[43] prettyunits_1.0.2   tools_3.4.1         data.table_1.11.4  \n",
       "[46] S4Vectors_0.16.0    munsell_0.4.3       cluster_2.0.6      \n",
       "[49] Biostrings_2.46.0   ade4_1.7-10         compiler_3.4.1     \n",
       "[52] rlang_0.2.0         rhdf5_2.22.0        grid_3.4.1         \n",
       "[55] pbdZMQ_0.3-1        iterators_1.0.9     IRkernel_0.8.11    \n",
       "[58] biomformat_1.6.0    rappdirs_0.3.1      igraph_1.2.1       \n",
       "[61] labeling_0.3        base64enc_0.1-3     gtable_0.2.0       \n",
       "[64] codetools_0.2-15    multtest_2.34.0     reshape2_1.4.3     \n",
       "[67] R6_2.2.2            bindr_0.1.1         permute_0.9-4      \n",
       "[70] stringi_1.1.6       parallel_3.4.1      IRdisplay_0.4.4    \n",
       "[73] Rcpp_0.12.14        tidyselect_0.2.4    batchtools_0.9.8   "
      ]
     },
     "metadata": {},
     "output_type": "display_data"
    }
   ],
   "source": [
    "sessionInfo()"
   ]
  },
  {
   "cell_type": "code",
   "execution_count": null,
   "metadata": {},
   "outputs": [],
   "source": []
  }
 ],
 "metadata": {
  "kernelspec": {
   "display_name": "R [conda env:py3_physeq_phylo]",
   "language": "R",
   "name": "conda-env-py3_physeq_phylo-r"
  },
  "language_info": {
   "codemirror_mode": "r",
   "file_extension": ".r",
   "mimetype": "text/x-r-source",
   "name": "R",
   "pygments_lexer": "r",
   "version": "3.4.1"
  },
  "notify_time": "30",
  "toc": {
   "base_numbering": 1,
   "nav_menu": {},
   "number_sections": true,
   "sideBar": true,
   "skip_h1_title": false,
   "title_cell": "Table of Contents",
   "title_sidebar": "Contents",
   "toc_cell": false,
   "toc_position": {},
   "toc_section_display": "block",
   "toc_window_display": true
  }
 },
 "nbformat": 4,
 "nbformat_minor": 2
}
