{
 "cells": [
  {
   "cell_type": "markdown",
   "metadata": {},
   "source": [
    "# Goal\n",
    "\n",
    "* Run `paco` analysis on IndD dataset summed by host\n",
    "* Sensitivity analysis (species-level): selecting one sample per species\n",
    "* **No Artiodactyla samples**"
   ]
  },
  {
   "cell_type": "markdown",
   "metadata": {},
   "source": [
    "# Var"
   ]
  },
  {
   "cell_type": "code",
   "execution_count": 2,
   "metadata": {
    "ExecuteTime": {
     "end_time": "2018-07-10T14:02:18.596087Z",
     "start_time": "2018-07-10T14:02:06.987Z"
    }
   },
   "outputs": [],
   "source": [
    "work_dir = '/ebio/abt3_projects/Georg_animal_feces/data/host_specific/pcao/host_TT/'\n",
    "\n",
    "# phyloseq\n",
    "physeq_file = '/ebio/abt3_projects/Georg_animal_feces/data/16S/LLA/phyloseq/physeq_r5k.RDS'\n",
    "\n",
    "# host phylogeny\n",
    "host_tree_file = '/ebio/abt3_projects/Georg_animal_feces/data/animal/phylogeny/TT/unified_metadata_complete_20180625_rn_16S-r5k_IndD.nwk'\n",
    "\n",
    "# misc\n",
    "sparsity_cutoff = 0.05\n",
    "threads = 12"
   ]
  },
  {
   "cell_type": "markdown",
   "metadata": {},
   "source": [
    "# Init"
   ]
  },
  {
   "cell_type": "code",
   "execution_count": 1,
   "metadata": {
    "ExecuteTime": {
     "end_time": "2018-07-10T14:02:18.202411Z",
     "start_time": "2018-07-10T14:02:05.604Z"
    }
   },
   "outputs": [
    {
     "name": "stderr",
     "output_type": "stream",
     "text": [
      "\n",
      "Attaching package: ‘dplyr’\n",
      "\n",
      "The following objects are masked from ‘package:stats’:\n",
      "\n",
      "    filter, lag\n",
      "\n",
      "The following objects are masked from ‘package:base’:\n",
      "\n",
      "    intersect, setdiff, setequal, union\n",
      "\n",
      "Warning message:\n",
      "“package ‘stringr’ was built under R version 3.4.3”\n",
      "Attaching package: ‘future.apply’\n",
      "\n",
      "The following object is masked from ‘package:future’:\n",
      "\n",
      "    future_lapply\n",
      "\n"
     ]
    }
   ],
   "source": [
    "library(dplyr)\n",
    "library(tidyr)\n",
    "library(ggplot2)\n",
    "library(stringr)\n",
    "library(phyloseq)\n",
    "library(ape)\n",
    "library(paco)\n",
    "library(future)\n",
    "library(future.batchtools)\n",
    "library(future.apply)\n",
    "source('/ebio/abt3_projects/Georg_animal_feces/code/init.R') "
   ]
  },
  {
   "cell_type": "code",
   "execution_count": 3,
   "metadata": {
    "ExecuteTime": {
     "end_time": "2018-07-10T14:02:18.636987Z",
     "start_time": "2018-07-10T14:02:08.882Z"
    }
   },
   "outputs": [
    {
     "name": "stdout",
     "output_type": "stream",
     "text": [
      "Directory already exists: /ebio/abt3_projects/Georg_animal_feces/data/host_specific/pcao/host_TT/ \n"
     ]
    }
   ],
   "source": [
    "make_dir(work_dir)\n",
    "setwd(work_dir)"
   ]
  },
  {
   "cell_type": "code",
   "execution_count": 4,
   "metadata": {
    "ExecuteTime": {
     "end_time": "2018-07-10T14:02:18.666811Z",
     "start_time": "2018-07-10T14:02:10.101Z"
    }
   },
   "outputs": [],
   "source": [
    "rescale_dist_mtx = function(m){\n",
    "    m = m %>% as.matrix\n",
    "    labs = m %>% colnames\n",
    "    n_row = m %>% nrow\n",
    "    n_col = m %>% ncol\n",
    "    x = m %>% as.vector \n",
    "    x = scales::rescale(x) \n",
    "    m = matrix(x, nrow=n_row, ncol=n_col)\n",
    "    colnames(m) = labs\n",
    "    rownames(m) = labs\n",
    "    m = m %>% as.dist\n",
    "    return(m)\n",
    "}"
   ]
  },
  {
   "cell_type": "markdown",
   "metadata": {},
   "source": [
    "# Load"
   ]
  },
  {
   "cell_type": "code",
   "execution_count": 5,
   "metadata": {
    "ExecuteTime": {
     "end_time": "2018-07-10T14:02:20.224145Z",
     "start_time": "2018-07-10T14:02:13.017Z"
    }
   },
   "outputs": [
    {
     "data": {
      "text/plain": [
       "phyloseq-class experiment-level object\n",
       "otu_table()   OTU Table:         [ 30290 taxa and 213 samples ]\n",
       "sample_data() Sample Data:       [ 213 samples by 171 sample variables ]\n",
       "tax_table()   Taxonomy Table:    [ 30290 taxa by 7 taxonomic ranks ]\n",
       "phy_tree()    Phylogenetic Tree: [ 30290 tips and 29752 internal nodes ]"
      ]
     },
     "metadata": {},
     "output_type": "display_data"
    }
   ],
   "source": [
    "physeq = readRDS(physeq_file)\n",
    "physeq"
   ]
  },
  {
   "cell_type": "code",
   "execution_count": 7,
   "metadata": {
    "ExecuteTime": {
     "end_time": "2018-07-10T14:02:32.215712Z",
     "start_time": "2018-07-10T14:02:27.458Z"
    }
   },
   "outputs": [
    {
     "data": {
      "text/plain": [
       "phyloseq-class experiment-level object\n",
       "otu_table()   OTU Table:         [ 408 taxa and 213 samples ]\n",
       "sample_data() Sample Data:       [ 213 samples by 171 sample variables ]\n",
       "tax_table()   Taxonomy Table:    [ 408 taxa by 7 taxonomic ranks ]\n",
       "phy_tree()    Phylogenetic Tree: [ 408 tips and 406 internal nodes ]"
      ]
     },
     "metadata": {},
     "output_type": "display_data"
    }
   ],
   "source": [
    "physeq = physeq %>%\n",
    "    filter_taxa(function(x) sum(x > 0) / length(x) > sparsity_cutoff, TRUE) \n",
    "physeq"
   ]
  },
  {
   "cell_type": "code",
   "execution_count": 6,
   "metadata": {
    "ExecuteTime": {
     "end_time": "2018-07-10T14:02:20.271865Z",
     "start_time": "2018-07-10T14:02:16.852Z"
    }
   },
   "outputs": [
    {
     "data": {
      "text/plain": [
       "\n",
       "Phylogenetic tree with 213 tips and 177 internal nodes.\n",
       "\n",
       "Tip labels:\n",
       "\tX256.Zander, F302.Northern.Pike, X188.Brook.Trout, F300.Asp, X330.Ide, X327.Silver.Bream, ...\n",
       "Node labels:\n",
       "\t, @_22_@, @_8_@, @_7_@, @_20_@, @_17_@, ...\n",
       "\n",
       "Rooted; includes branch lengths."
      ]
     },
     "metadata": {},
     "output_type": "display_data"
    }
   ],
   "source": [
    "host_tree = read.tree(host_tree_file)\n",
    "host_tree"
   ]
  },
  {
   "cell_type": "markdown",
   "metadata": {},
   "source": [
    "# Filtering dataset"
   ]
  },
  {
   "cell_type": "markdown",
   "metadata": {},
   "source": [
    "## Artiodactyla samples"
   ]
  },
  {
   "cell_type": "code",
   "execution_count": 8,
   "metadata": {
    "ExecuteTime": {
     "end_time": "2018-07-10T14:02:32.771640Z",
     "start_time": "2018-07-10T14:02:30.060Z"
    }
   },
   "outputs": [
    {
     "name": "stderr",
     "output_type": "stream",
     "text": [
      "Warning message in class(X) <- NULL:\n",
      "“Setting class(x) to NULL;   result will no longer be an S4 object”"
     ]
    },
    {
     "name": "stdout",
     "output_type": "stream",
     "text": [
      "[1] 213 172\n",
      "[1] 170 172\n"
     ]
    },
    {
     "data": {
      "text/html": [
       "<table>\n",
       "<thead><tr><th scope=col>X.SampleID</th><th scope=col>BarcodeSequence</th><th scope=col>LinkerPrimerSequence</th><th scope=col>Primer</th><th scope=col>ReversePrimer</th><th scope=col>Barcode_ID</th><th scope=col>sample_number</th><th scope=col>host_subject_id</th><th scope=col>host_german_name</th><th scope=col>host_common_name</th><th scope=col>⋯</th><th scope=col>Cornell_Dilution_DNA_Illumina</th><th scope=col>Num_Illumina</th><th scope=col>Num</th><th scope=col>sorting_454</th><th scope=col>comments_additional</th><th scope=col>DNA_box_20180622</th><th scope=col>sample_vol_20180622</th><th scope=col>sample_label_20180622</th><th scope=col>Description</th><th scope=col>SampleID</th></tr></thead>\n",
       "<tbody>\n",
       "\t<tr><td>X1.Eurasian.Beaver   </td><td>ACTCACGGTATG         </td><td>CATGCTGCCTCCCGTAGGAGT</td><td>GCCTCCCTCGCGCCATCAG  </td><td>AGAGTTTGATCCTGGCTCAG </td><td>338R_BC0049          </td><td>1                    </td><td>1                    </td><td>Biber                </td><td>Eurasian.Beaver      </td><td>⋯                    </td><td>4                    </td><td>120                  </td><td>18                   </td><td>18                   </td><td>NA                   </td><td>1                    </td><td>20                   </td><td>1                    </td><td>NA                   </td><td>X1.Eurasian.Beaver   </td></tr>\n",
       "\t<tr><td>X101.Horse           </td><td>ACGACGTCTTAG         </td><td>CATGCTGCCTCCCGTAGGAGT</td><td>GCCTCCCTCGCGCCATCAG  </td><td>AGAGTTTGATCCTGGCTCAG </td><td>338R_BC0030          </td><td>101                  </td><td>101                  </td><td>Hauspferd            </td><td>Horse                </td><td>⋯                    </td><td>16                   </td><td>344                  </td><td>160                  </td><td>160                  </td><td>NA                   </td><td>2                    </td><td>20                   </td><td>101                  </td><td>NA                   </td><td>X101.Horse           </td></tr>\n",
       "\t<tr><td>X102.Kulan           </td><td>ACGAGTGCTATC         </td><td>CATGCTGCCTCCCGTAGGAGT</td><td>GCCTCCCTCGCGCCATCAG  </td><td>AGAGTTTGATCCTGGCTCAG </td><td>338R_BC0031          </td><td>102                  </td><td>102                  </td><td>Khulan               </td><td>Kulan                </td><td>⋯                    </td><td>16                   </td><td>345                  </td><td>161                  </td><td>161                  </td><td>NA                   </td><td>2                    </td><td>20                   </td><td>102                  </td><td>NA                   </td><td>X102.Kulan           </td></tr>\n",
       "</tbody>\n",
       "</table>\n"
      ],
      "text/latex": [
       "\\begin{tabular}{r|llllllllllllllllllllllllllllllllllllllllllllllllllllllllllllllllllllllllllllllllllllllllllllllllllllllllllllllllllllllllllllllllllllllllllllllllllllllllllllllllllllllllllll}\n",
       " X.SampleID & BarcodeSequence & LinkerPrimerSequence & Primer & ReversePrimer & Barcode\\_ID & sample\\_number & host\\_subject\\_id & host\\_german\\_name & host\\_common\\_name & ⋯ & Cornell\\_Dilution\\_DNA\\_Illumina & Num\\_Illumina & Num & sorting\\_454 & comments\\_additional & DNA\\_box\\_20180622 & sample\\_vol\\_20180622 & sample\\_label\\_20180622 & Description & SampleID\\\\\n",
       "\\hline\n",
       "\t X1.Eurasian.Beaver    & ACTCACGGTATG          & CATGCTGCCTCCCGTAGGAGT & GCCTCCCTCGCGCCATCAG   & AGAGTTTGATCCTGGCTCAG  & 338R\\_BC0049         & 1                     & 1                     & Biber                 & Eurasian.Beaver       & ⋯                     & 4                     & 120                   & 18                    & 18                    & NA                    & 1                     & 20                    & 1                     & NA                    & X1.Eurasian.Beaver   \\\\\n",
       "\t X101.Horse            & ACGACGTCTTAG          & CATGCTGCCTCCCGTAGGAGT & GCCTCCCTCGCGCCATCAG   & AGAGTTTGATCCTGGCTCAG  & 338R\\_BC0030         & 101                   & 101                   & Hauspferd             & Horse                 & ⋯                     & 16                    & 344                   & 160                   & 160                   & NA                    & 2                     & 20                    & 101                   & NA                    & X101.Horse           \\\\\n",
       "\t X102.Kulan            & ACGAGTGCTATC          & CATGCTGCCTCCCGTAGGAGT & GCCTCCCTCGCGCCATCAG   & AGAGTTTGATCCTGGCTCAG  & 338R\\_BC0031         & 102                   & 102                   & Khulan                & Kulan                 & ⋯                     & 16                    & 345                   & 161                   & 161                   & NA                    & 2                     & 20                    & 102                   & NA                    & X102.Kulan           \\\\\n",
       "\\end{tabular}\n"
      ],
      "text/markdown": [
       "\n",
       "X.SampleID | BarcodeSequence | LinkerPrimerSequence | Primer | ReversePrimer | Barcode_ID | sample_number | host_subject_id | host_german_name | host_common_name | ⋯ | Cornell_Dilution_DNA_Illumina | Num_Illumina | Num | sorting_454 | comments_additional | DNA_box_20180622 | sample_vol_20180622 | sample_label_20180622 | Description | SampleID | \n",
       "|---|---|---|\n",
       "| X1.Eurasian.Beaver    | ACTCACGGTATG          | CATGCTGCCTCCCGTAGGAGT | GCCTCCCTCGCGCCATCAG   | AGAGTTTGATCCTGGCTCAG  | 338R_BC0049           | 1                     | 1                     | Biber                 | Eurasian.Beaver       | ⋯                     | 4                     | 120                   | 18                    | 18                    | NA                    | 1                     | 20                    | 1                     | NA                    | X1.Eurasian.Beaver    | \n",
       "| X101.Horse            | ACGACGTCTTAG          | CATGCTGCCTCCCGTAGGAGT | GCCTCCCTCGCGCCATCAG   | AGAGTTTGATCCTGGCTCAG  | 338R_BC0030           | 101                   | 101                   | Hauspferd             | Horse                 | ⋯                     | 16                    | 344                   | 160                   | 160                   | NA                    | 2                     | 20                    | 101                   | NA                    | X101.Horse            | \n",
       "| X102.Kulan            | ACGAGTGCTATC          | CATGCTGCCTCCCGTAGGAGT | GCCTCCCTCGCGCCATCAG   | AGAGTTTGATCCTGGCTCAG  | 338R_BC0031           | 102                   | 102                   | Khulan                | Kulan                 | ⋯                     | 16                    | 345                   | 161                   | 161                   | NA                    | 2                     | 20                    | 102                   | NA                    | X102.Kulan            | \n",
       "\n",
       "\n"
      ],
      "text/plain": [
       "  X.SampleID         BarcodeSequence LinkerPrimerSequence  Primer             \n",
       "1 X1.Eurasian.Beaver ACTCACGGTATG    CATGCTGCCTCCCGTAGGAGT GCCTCCCTCGCGCCATCAG\n",
       "2 X101.Horse         ACGACGTCTTAG    CATGCTGCCTCCCGTAGGAGT GCCTCCCTCGCGCCATCAG\n",
       "3 X102.Kulan         ACGAGTGCTATC    CATGCTGCCTCCCGTAGGAGT GCCTCCCTCGCGCCATCAG\n",
       "  ReversePrimer        Barcode_ID  sample_number host_subject_id\n",
       "1 AGAGTTTGATCCTGGCTCAG 338R_BC0049 1             1              \n",
       "2 AGAGTTTGATCCTGGCTCAG 338R_BC0030 101           101            \n",
       "3 AGAGTTTGATCCTGGCTCAG 338R_BC0031 102           102            \n",
       "  host_german_name host_common_name ⋯ Cornell_Dilution_DNA_Illumina\n",
       "1 Biber            Eurasian.Beaver  ⋯ 4                            \n",
       "2 Hauspferd        Horse            ⋯ 16                           \n",
       "3 Khulan           Kulan            ⋯ 16                           \n",
       "  Num_Illumina Num sorting_454 comments_additional DNA_box_20180622\n",
       "1 120          18  18          NA                  1               \n",
       "2 344          160 160         NA                  2               \n",
       "3 345          161 161         NA                  2               \n",
       "  sample_vol_20180622 sample_label_20180622 Description SampleID          \n",
       "1 20                  1                     NA          X1.Eurasian.Beaver\n",
       "2 20                  101                   NA          X101.Horse        \n",
       "3 20                  102                   NA          X102.Kulan        "
      ]
     },
     "metadata": {},
     "output_type": "display_data"
    }
   ],
   "source": [
    "metadata = physeq %>%\n",
    "    sample_data %>%\n",
    "    as.matrix %>%\n",
    "    as.data.frame \n",
    "metadata$SampleID = rownames(metadata)\n",
    "metadata %>% dim %>% print\n",
    "\n",
    "metadata_f = metadata %>%\n",
    "    filter(order == 'Artiodactyla') %>% \n",
    "    dplyr::select(scientific_name, class, order, family, genus)\n",
    "\n",
    "metadata = metadata %>%\n",
    "    filter(order != 'Artiodactyla')\n",
    "\n",
    "metadata %>% status"
   ]
  },
  {
   "cell_type": "code",
   "execution_count": 9,
   "metadata": {
    "ExecuteTime": {
     "end_time": "2018-07-10T14:02:32.896752Z",
     "start_time": "2018-07-10T14:02:30.183Z"
    }
   },
   "outputs": [
    {
     "data": {
      "text/html": [
       "<table>\n",
       "<thead><tr><th scope=col>scientific_name</th><th scope=col>class</th><th scope=col>order</th><th scope=col>family</th><th scope=col>genus</th></tr></thead>\n",
       "<tbody>\n",
       "\t<tr><td>Sus_scrofa            </td><td>Mammalia              </td><td>Artiodactyla          </td><td>Suidae                </td><td>Sus                   </td></tr>\n",
       "\t<tr><td>Rupicapra_rupicapra   </td><td>Mammalia              </td><td>Artiodactyla          </td><td>Bovidae               </td><td>Rupicapra             </td></tr>\n",
       "\t<tr><td>Capra_ibex            </td><td>Mammalia              </td><td>Artiodactyla          </td><td>Bovidae               </td><td>Capra                 </td></tr>\n",
       "\t<tr><td>Capra_ibex            </td><td>Mammalia              </td><td>Artiodactyla          </td><td>Bovidae               </td><td>Capra                 </td></tr>\n",
       "\t<tr><td>Capra_hircus          </td><td>Mammalia              </td><td>Artiodactyla          </td><td>Bovidae               </td><td>Capra                 </td></tr>\n",
       "\t<tr><td>Capra_hircus          </td><td>Mammalia              </td><td>Artiodactyla          </td><td>Bovidae               </td><td>Capra                 </td></tr>\n",
       "\t<tr><td>Sus_scrofa            </td><td>Mammalia              </td><td>Artiodactyla          </td><td>Suidae                </td><td>Sus                   </td></tr>\n",
       "\t<tr><td>Bos_frontalis         </td><td>Mammalia              </td><td>Artiodactyla          </td><td>Bovidae               </td><td>Bos                   </td></tr>\n",
       "\t<tr><td>Bos_frontalis         </td><td>Mammalia              </td><td>Artiodactyla          </td><td>Bovidae               </td><td>Bos                   </td></tr>\n",
       "\t<tr><td>Cervus_unicolor       </td><td>Mammalia              </td><td>Artiodactyla          </td><td>Cervidae              </td><td>Cervus                </td></tr>\n",
       "\t<tr><td>Cervus_unicolor       </td><td>Mammalia              </td><td>Artiodactyla          </td><td>Cervidae              </td><td>Cervus                </td></tr>\n",
       "\t<tr><td>Bos_taurus            </td><td>Mammalia              </td><td>Artiodactyla          </td><td>Bovidae               </td><td>Bos                   </td></tr>\n",
       "\t<tr><td>Odocoileus_virginianus</td><td>Mammalia              </td><td>Artiodactyla          </td><td>Cervidae              </td><td>Odocoileus            </td></tr>\n",
       "\t<tr><td>Aepyceros_melampus    </td><td>Mammalia              </td><td>Artiodactyla          </td><td>Bovidae               </td><td>Aepyceros             </td></tr>\n",
       "\t<tr><td>Giraffa_camelopardalis</td><td>Mammalia              </td><td>Artiodactyla          </td><td>Giraffidae            </td><td>Giraffa               </td></tr>\n",
       "\t<tr><td>Giraffa_camelopardalis</td><td>Mammalia              </td><td>Artiodactyla          </td><td>Giraffidae            </td><td>Giraffa               </td></tr>\n",
       "\t<tr><td>Syncerus_caffer       </td><td>Mammalia              </td><td>Artiodactyla          </td><td>Bovidae               </td><td>Syncerus              </td></tr>\n",
       "\t<tr><td>Bos_taurus            </td><td>Mammalia              </td><td>Artiodactyla          </td><td>Bovidae               </td><td>Bos                   </td></tr>\n",
       "\t<tr><td>Hippopotamus_amphibius</td><td>Mammalia              </td><td>Artiodactyla          </td><td>Hippopotamidae        </td><td>Hippopotamus          </td></tr>\n",
       "\t<tr><td>Giraffa_camelopardalis</td><td>Mammalia              </td><td>Artiodactyla          </td><td>Giraffidae            </td><td>Giraffa               </td></tr>\n",
       "\t<tr><td>Giraffa_camelopardalis</td><td>Mammalia              </td><td>Artiodactyla          </td><td>Giraffidae            </td><td>Giraffa               </td></tr>\n",
       "\t<tr><td>Camelus_bactrianus    </td><td>Mammalia              </td><td>Artiodactyla          </td><td>Camelidae             </td><td>Camelus               </td></tr>\n",
       "\t<tr><td>Cervus_elaphus        </td><td>Mammalia              </td><td>Artiodactyla          </td><td>Cervidae              </td><td>Cervus                </td></tr>\n",
       "\t<tr><td>Capra_ibex            </td><td>Mammalia              </td><td>Artiodactyla          </td><td>Bovidae               </td><td>Capra                 </td></tr>\n",
       "\t<tr><td>Rupicapra_rupicapra   </td><td>Mammalia              </td><td>Artiodactyla          </td><td>Bovidae               </td><td>Rupicapra             </td></tr>\n",
       "\t<tr><td>Cervus_elaphus        </td><td>Mammalia              </td><td>Artiodactyla          </td><td>Cervidae              </td><td>Cervus                </td></tr>\n",
       "\t<tr><td>Sus_scrofa            </td><td>Mammalia              </td><td>Artiodactyla          </td><td>Suidae                </td><td>Sus                   </td></tr>\n",
       "\t<tr><td>Sus_scrofa            </td><td>Mammalia              </td><td>Artiodactyla          </td><td>Suidae                </td><td>Sus                   </td></tr>\n",
       "\t<tr><td>Gazella_subgutturosa  </td><td>Mammalia              </td><td>Artiodactyla          </td><td>Bovidae               </td><td>Gazella               </td></tr>\n",
       "\t<tr><td>Capreolus_capreolus   </td><td>Mammalia              </td><td>Artiodactyla          </td><td>Cervidae              </td><td>Capreolus             </td></tr>\n",
       "\t<tr><td>Cervus_elaphus        </td><td>Mammalia              </td><td>Artiodactyla          </td><td>Cervidae              </td><td>Cervus                </td></tr>\n",
       "\t<tr><td>Cervus_elaphus        </td><td>Mammalia              </td><td>Artiodactyla          </td><td>Cervidae              </td><td>Cervus                </td></tr>\n",
       "\t<tr><td>Dama_dama             </td><td>Mammalia              </td><td>Artiodactyla          </td><td>Cervidae              </td><td>Dama                  </td></tr>\n",
       "\t<tr><td>Dama_dama             </td><td>Mammalia              </td><td>Artiodactyla          </td><td>Cervidae              </td><td>Dama                  </td></tr>\n",
       "\t<tr><td>Cervus_elaphus        </td><td>Mammalia              </td><td>Artiodactyla          </td><td>Cervidae              </td><td>Cervus                </td></tr>\n",
       "\t<tr><td>Cervus_elaphus        </td><td>Mammalia              </td><td>Artiodactyla          </td><td>Cervidae              </td><td>Cervus                </td></tr>\n",
       "\t<tr><td>Cervus_elaphus        </td><td>Mammalia              </td><td>Artiodactyla          </td><td>Cervidae              </td><td>Cervus                </td></tr>\n",
       "\t<tr><td>Ovis_aries            </td><td>Mammalia              </td><td>Artiodactyla          </td><td>Bovidae               </td><td>Ovis                  </td></tr>\n",
       "\t<tr><td>Sus_scrofa            </td><td>Mammalia              </td><td>Artiodactyla          </td><td>Suidae                </td><td>Sus                   </td></tr>\n",
       "\t<tr><td>Cervus_elaphus        </td><td>Mammalia              </td><td>Artiodactyla          </td><td>Cervidae              </td><td>Cervus                </td></tr>\n",
       "\t<tr><td>Cervus_elaphus        </td><td>Mammalia              </td><td>Artiodactyla          </td><td>Cervidae              </td><td>Cervus                </td></tr>\n",
       "\t<tr><td>Cervus_elaphus        </td><td>Mammalia              </td><td>Artiodactyla          </td><td>Cervidae              </td><td>Cervus                </td></tr>\n",
       "\t<tr><td>Cervus_elaphus        </td><td>Mammalia              </td><td>Artiodactyla          </td><td>Cervidae              </td><td>Cervus                </td></tr>\n",
       "</tbody>\n",
       "</table>\n"
      ],
      "text/latex": [
       "\\begin{tabular}{r|lllll}\n",
       " scientific\\_name & class & order & family & genus\\\\\n",
       "\\hline\n",
       "\t Sus\\_scrofa             & Mammalia                 & Artiodactyla             & Suidae                   & Sus                     \\\\\n",
       "\t Rupicapra\\_rupicapra    & Mammalia                 & Artiodactyla             & Bovidae                  & Rupicapra               \\\\\n",
       "\t Capra\\_ibex             & Mammalia                 & Artiodactyla             & Bovidae                  & Capra                   \\\\\n",
       "\t Capra\\_ibex             & Mammalia                 & Artiodactyla             & Bovidae                  & Capra                   \\\\\n",
       "\t Capra\\_hircus           & Mammalia                 & Artiodactyla             & Bovidae                  & Capra                   \\\\\n",
       "\t Capra\\_hircus           & Mammalia                 & Artiodactyla             & Bovidae                  & Capra                   \\\\\n",
       "\t Sus\\_scrofa             & Mammalia                 & Artiodactyla             & Suidae                   & Sus                     \\\\\n",
       "\t Bos\\_frontalis          & Mammalia                 & Artiodactyla             & Bovidae                  & Bos                     \\\\\n",
       "\t Bos\\_frontalis          & Mammalia                 & Artiodactyla             & Bovidae                  & Bos                     \\\\\n",
       "\t Cervus\\_unicolor        & Mammalia                 & Artiodactyla             & Cervidae                 & Cervus                  \\\\\n",
       "\t Cervus\\_unicolor        & Mammalia                 & Artiodactyla             & Cervidae                 & Cervus                  \\\\\n",
       "\t Bos\\_taurus             & Mammalia                 & Artiodactyla             & Bovidae                  & Bos                     \\\\\n",
       "\t Odocoileus\\_virginianus & Mammalia                 & Artiodactyla             & Cervidae                 & Odocoileus              \\\\\n",
       "\t Aepyceros\\_melampus     & Mammalia                 & Artiodactyla             & Bovidae                  & Aepyceros               \\\\\n",
       "\t Giraffa\\_camelopardalis & Mammalia                 & Artiodactyla             & Giraffidae               & Giraffa                 \\\\\n",
       "\t Giraffa\\_camelopardalis & Mammalia                 & Artiodactyla             & Giraffidae               & Giraffa                 \\\\\n",
       "\t Syncerus\\_caffer        & Mammalia                 & Artiodactyla             & Bovidae                  & Syncerus                \\\\\n",
       "\t Bos\\_taurus             & Mammalia                 & Artiodactyla             & Bovidae                  & Bos                     \\\\\n",
       "\t Hippopotamus\\_amphibius & Mammalia                 & Artiodactyla             & Hippopotamidae           & Hippopotamus            \\\\\n",
       "\t Giraffa\\_camelopardalis & Mammalia                 & Artiodactyla             & Giraffidae               & Giraffa                 \\\\\n",
       "\t Giraffa\\_camelopardalis & Mammalia                 & Artiodactyla             & Giraffidae               & Giraffa                 \\\\\n",
       "\t Camelus\\_bactrianus     & Mammalia                 & Artiodactyla             & Camelidae                & Camelus                 \\\\\n",
       "\t Cervus\\_elaphus         & Mammalia                 & Artiodactyla             & Cervidae                 & Cervus                  \\\\\n",
       "\t Capra\\_ibex             & Mammalia                 & Artiodactyla             & Bovidae                  & Capra                   \\\\\n",
       "\t Rupicapra\\_rupicapra    & Mammalia                 & Artiodactyla             & Bovidae                  & Rupicapra               \\\\\n",
       "\t Cervus\\_elaphus         & Mammalia                 & Artiodactyla             & Cervidae                 & Cervus                  \\\\\n",
       "\t Sus\\_scrofa             & Mammalia                 & Artiodactyla             & Suidae                   & Sus                     \\\\\n",
       "\t Sus\\_scrofa             & Mammalia                 & Artiodactyla             & Suidae                   & Sus                     \\\\\n",
       "\t Gazella\\_subgutturosa   & Mammalia                 & Artiodactyla             & Bovidae                  & Gazella                 \\\\\n",
       "\t Capreolus\\_capreolus    & Mammalia                 & Artiodactyla             & Cervidae                 & Capreolus               \\\\\n",
       "\t Cervus\\_elaphus         & Mammalia                 & Artiodactyla             & Cervidae                 & Cervus                  \\\\\n",
       "\t Cervus\\_elaphus         & Mammalia                 & Artiodactyla             & Cervidae                 & Cervus                  \\\\\n",
       "\t Dama\\_dama              & Mammalia                 & Artiodactyla             & Cervidae                 & Dama                    \\\\\n",
       "\t Dama\\_dama              & Mammalia                 & Artiodactyla             & Cervidae                 & Dama                    \\\\\n",
       "\t Cervus\\_elaphus         & Mammalia                 & Artiodactyla             & Cervidae                 & Cervus                  \\\\\n",
       "\t Cervus\\_elaphus         & Mammalia                 & Artiodactyla             & Cervidae                 & Cervus                  \\\\\n",
       "\t Cervus\\_elaphus         & Mammalia                 & Artiodactyla             & Cervidae                 & Cervus                  \\\\\n",
       "\t Ovis\\_aries             & Mammalia                 & Artiodactyla             & Bovidae                  & Ovis                    \\\\\n",
       "\t Sus\\_scrofa             & Mammalia                 & Artiodactyla             & Suidae                   & Sus                     \\\\\n",
       "\t Cervus\\_elaphus         & Mammalia                 & Artiodactyla             & Cervidae                 & Cervus                  \\\\\n",
       "\t Cervus\\_elaphus         & Mammalia                 & Artiodactyla             & Cervidae                 & Cervus                  \\\\\n",
       "\t Cervus\\_elaphus         & Mammalia                 & Artiodactyla             & Cervidae                 & Cervus                  \\\\\n",
       "\t Cervus\\_elaphus         & Mammalia                 & Artiodactyla             & Cervidae                 & Cervus                  \\\\\n",
       "\\end{tabular}\n"
      ],
      "text/markdown": [
       "\n",
       "scientific_name | class | order | family | genus | \n",
       "|---|---|---|---|---|---|---|---|---|---|---|---|---|---|---|---|---|---|---|---|---|---|---|---|---|---|---|---|---|---|---|---|---|---|---|---|---|---|---|---|---|---|---|\n",
       "| Sus_scrofa             | Mammalia               | Artiodactyla           | Suidae                 | Sus                    | \n",
       "| Rupicapra_rupicapra    | Mammalia               | Artiodactyla           | Bovidae                | Rupicapra              | \n",
       "| Capra_ibex             | Mammalia               | Artiodactyla           | Bovidae                | Capra                  | \n",
       "| Capra_ibex             | Mammalia               | Artiodactyla           | Bovidae                | Capra                  | \n",
       "| Capra_hircus           | Mammalia               | Artiodactyla           | Bovidae                | Capra                  | \n",
       "| Capra_hircus           | Mammalia               | Artiodactyla           | Bovidae                | Capra                  | \n",
       "| Sus_scrofa             | Mammalia               | Artiodactyla           | Suidae                 | Sus                    | \n",
       "| Bos_frontalis          | Mammalia               | Artiodactyla           | Bovidae                | Bos                    | \n",
       "| Bos_frontalis          | Mammalia               | Artiodactyla           | Bovidae                | Bos                    | \n",
       "| Cervus_unicolor        | Mammalia               | Artiodactyla           | Cervidae               | Cervus                 | \n",
       "| Cervus_unicolor        | Mammalia               | Artiodactyla           | Cervidae               | Cervus                 | \n",
       "| Bos_taurus             | Mammalia               | Artiodactyla           | Bovidae                | Bos                    | \n",
       "| Odocoileus_virginianus | Mammalia               | Artiodactyla           | Cervidae               | Odocoileus             | \n",
       "| Aepyceros_melampus     | Mammalia               | Artiodactyla           | Bovidae                | Aepyceros              | \n",
       "| Giraffa_camelopardalis | Mammalia               | Artiodactyla           | Giraffidae             | Giraffa                | \n",
       "| Giraffa_camelopardalis | Mammalia               | Artiodactyla           | Giraffidae             | Giraffa                | \n",
       "| Syncerus_caffer        | Mammalia               | Artiodactyla           | Bovidae                | Syncerus               | \n",
       "| Bos_taurus             | Mammalia               | Artiodactyla           | Bovidae                | Bos                    | \n",
       "| Hippopotamus_amphibius | Mammalia               | Artiodactyla           | Hippopotamidae         | Hippopotamus           | \n",
       "| Giraffa_camelopardalis | Mammalia               | Artiodactyla           | Giraffidae             | Giraffa                | \n",
       "| Giraffa_camelopardalis | Mammalia               | Artiodactyla           | Giraffidae             | Giraffa                | \n",
       "| Camelus_bactrianus     | Mammalia               | Artiodactyla           | Camelidae              | Camelus                | \n",
       "| Cervus_elaphus         | Mammalia               | Artiodactyla           | Cervidae               | Cervus                 | \n",
       "| Capra_ibex             | Mammalia               | Artiodactyla           | Bovidae                | Capra                  | \n",
       "| Rupicapra_rupicapra    | Mammalia               | Artiodactyla           | Bovidae                | Rupicapra              | \n",
       "| Cervus_elaphus         | Mammalia               | Artiodactyla           | Cervidae               | Cervus                 | \n",
       "| Sus_scrofa             | Mammalia               | Artiodactyla           | Suidae                 | Sus                    | \n",
       "| Sus_scrofa             | Mammalia               | Artiodactyla           | Suidae                 | Sus                    | \n",
       "| Gazella_subgutturosa   | Mammalia               | Artiodactyla           | Bovidae                | Gazella                | \n",
       "| Capreolus_capreolus    | Mammalia               | Artiodactyla           | Cervidae               | Capreolus              | \n",
       "| Cervus_elaphus         | Mammalia               | Artiodactyla           | Cervidae               | Cervus                 | \n",
       "| Cervus_elaphus         | Mammalia               | Artiodactyla           | Cervidae               | Cervus                 | \n",
       "| Dama_dama              | Mammalia               | Artiodactyla           | Cervidae               | Dama                   | \n",
       "| Dama_dama              | Mammalia               | Artiodactyla           | Cervidae               | Dama                   | \n",
       "| Cervus_elaphus         | Mammalia               | Artiodactyla           | Cervidae               | Cervus                 | \n",
       "| Cervus_elaphus         | Mammalia               | Artiodactyla           | Cervidae               | Cervus                 | \n",
       "| Cervus_elaphus         | Mammalia               | Artiodactyla           | Cervidae               | Cervus                 | \n",
       "| Ovis_aries             | Mammalia               | Artiodactyla           | Bovidae                | Ovis                   | \n",
       "| Sus_scrofa             | Mammalia               | Artiodactyla           | Suidae                 | Sus                    | \n",
       "| Cervus_elaphus         | Mammalia               | Artiodactyla           | Cervidae               | Cervus                 | \n",
       "| Cervus_elaphus         | Mammalia               | Artiodactyla           | Cervidae               | Cervus                 | \n",
       "| Cervus_elaphus         | Mammalia               | Artiodactyla           | Cervidae               | Cervus                 | \n",
       "| Cervus_elaphus         | Mammalia               | Artiodactyla           | Cervidae               | Cervus                 | \n",
       "\n",
       "\n"
      ],
      "text/plain": [
       "   scientific_name        class    order        family         genus       \n",
       "1  Sus_scrofa             Mammalia Artiodactyla Suidae         Sus         \n",
       "2  Rupicapra_rupicapra    Mammalia Artiodactyla Bovidae        Rupicapra   \n",
       "3  Capra_ibex             Mammalia Artiodactyla Bovidae        Capra       \n",
       "4  Capra_ibex             Mammalia Artiodactyla Bovidae        Capra       \n",
       "5  Capra_hircus           Mammalia Artiodactyla Bovidae        Capra       \n",
       "6  Capra_hircus           Mammalia Artiodactyla Bovidae        Capra       \n",
       "7  Sus_scrofa             Mammalia Artiodactyla Suidae         Sus         \n",
       "8  Bos_frontalis          Mammalia Artiodactyla Bovidae        Bos         \n",
       "9  Bos_frontalis          Mammalia Artiodactyla Bovidae        Bos         \n",
       "10 Cervus_unicolor        Mammalia Artiodactyla Cervidae       Cervus      \n",
       "11 Cervus_unicolor        Mammalia Artiodactyla Cervidae       Cervus      \n",
       "12 Bos_taurus             Mammalia Artiodactyla Bovidae        Bos         \n",
       "13 Odocoileus_virginianus Mammalia Artiodactyla Cervidae       Odocoileus  \n",
       "14 Aepyceros_melampus     Mammalia Artiodactyla Bovidae        Aepyceros   \n",
       "15 Giraffa_camelopardalis Mammalia Artiodactyla Giraffidae     Giraffa     \n",
       "16 Giraffa_camelopardalis Mammalia Artiodactyla Giraffidae     Giraffa     \n",
       "17 Syncerus_caffer        Mammalia Artiodactyla Bovidae        Syncerus    \n",
       "18 Bos_taurus             Mammalia Artiodactyla Bovidae        Bos         \n",
       "19 Hippopotamus_amphibius Mammalia Artiodactyla Hippopotamidae Hippopotamus\n",
       "20 Giraffa_camelopardalis Mammalia Artiodactyla Giraffidae     Giraffa     \n",
       "21 Giraffa_camelopardalis Mammalia Artiodactyla Giraffidae     Giraffa     \n",
       "22 Camelus_bactrianus     Mammalia Artiodactyla Camelidae      Camelus     \n",
       "23 Cervus_elaphus         Mammalia Artiodactyla Cervidae       Cervus      \n",
       "24 Capra_ibex             Mammalia Artiodactyla Bovidae        Capra       \n",
       "25 Rupicapra_rupicapra    Mammalia Artiodactyla Bovidae        Rupicapra   \n",
       "26 Cervus_elaphus         Mammalia Artiodactyla Cervidae       Cervus      \n",
       "27 Sus_scrofa             Mammalia Artiodactyla Suidae         Sus         \n",
       "28 Sus_scrofa             Mammalia Artiodactyla Suidae         Sus         \n",
       "29 Gazella_subgutturosa   Mammalia Artiodactyla Bovidae        Gazella     \n",
       "30 Capreolus_capreolus    Mammalia Artiodactyla Cervidae       Capreolus   \n",
       "31 Cervus_elaphus         Mammalia Artiodactyla Cervidae       Cervus      \n",
       "32 Cervus_elaphus         Mammalia Artiodactyla Cervidae       Cervus      \n",
       "33 Dama_dama              Mammalia Artiodactyla Cervidae       Dama        \n",
       "34 Dama_dama              Mammalia Artiodactyla Cervidae       Dama        \n",
       "35 Cervus_elaphus         Mammalia Artiodactyla Cervidae       Cervus      \n",
       "36 Cervus_elaphus         Mammalia Artiodactyla Cervidae       Cervus      \n",
       "37 Cervus_elaphus         Mammalia Artiodactyla Cervidae       Cervus      \n",
       "38 Ovis_aries             Mammalia Artiodactyla Bovidae        Ovis        \n",
       "39 Sus_scrofa             Mammalia Artiodactyla Suidae         Sus         \n",
       "40 Cervus_elaphus         Mammalia Artiodactyla Cervidae       Cervus      \n",
       "41 Cervus_elaphus         Mammalia Artiodactyla Cervidae       Cervus      \n",
       "42 Cervus_elaphus         Mammalia Artiodactyla Cervidae       Cervus      \n",
       "43 Cervus_elaphus         Mammalia Artiodactyla Cervidae       Cervus      "
      ]
     },
     "metadata": {},
     "output_type": "display_data"
    }
   ],
   "source": [
    "# taxa to be removed\n",
    "metadata_f"
   ]
  },
  {
   "cell_type": "code",
   "execution_count": 10,
   "metadata": {
    "ExecuteTime": {
     "end_time": "2018-07-10T14:02:33.175150Z",
     "start_time": "2018-07-10T14:02:31.137Z"
    }
   },
   "outputs": [
    {
     "data": {
      "text/plain": [
       "phyloseq-class experiment-level object\n",
       "otu_table()   OTU Table:         [ 408 taxa and 170 samples ]\n",
       "sample_data() Sample Data:       [ 170 samples by 171 sample variables ]\n",
       "tax_table()   Taxonomy Table:    [ 408 taxa by 7 taxonomic ranks ]\n",
       "phy_tree()    Phylogenetic Tree: [ 408 tips and 406 internal nodes ]"
      ]
     },
     "metadata": {},
     "output_type": "display_data"
    }
   ],
   "source": [
    "# subsetting phyloseq obj. (no Artio.)\n",
    "physeq = subset_samples(physeq, \n",
    "               sample_names(physeq) %in% metadata$SampleID)\n",
    "\n",
    "physeq"
   ]
  },
  {
   "cell_type": "markdown",
   "metadata": {},
   "source": [
    "## OTU table"
   ]
  },
  {
   "cell_type": "code",
   "execution_count": 11,
   "metadata": {
    "ExecuteTime": {
     "end_time": "2018-07-10T14:02:36.361380Z",
     "start_time": "2018-07-10T14:02:36.321Z"
    }
   },
   "outputs": [
    {
     "data": {
      "text/plain": [
       "   Min. 1st Qu.  Median    Mean 3rd Qu.    Max. \n",
       "    0.0   126.5   747.0  1278.8  1962.5  4995.0 "
      ]
     },
     "metadata": {},
     "output_type": "display_data"
    }
   ],
   "source": [
    "physeq %>%\n",
    "    otu_table %>% \n",
    "    colSums %>%\n",
    "    summary"
   ]
  },
  {
   "cell_type": "code",
   "execution_count": 12,
   "metadata": {
    "ExecuteTime": {
     "end_time": "2018-07-10T14:02:37.853665Z",
     "start_time": "2018-07-10T14:02:37.714Z"
    }
   },
   "outputs": [
    {
     "name": "stderr",
     "output_type": "stream",
     "text": [
      "Warning message in class(x) <- c(subclass, \"tbl_df\", \"tbl\", \"data.frame\"):\n",
      "“Setting class(x) to multiple strings (\"tbl_df\", \"tbl\", ...); result will no longer be an S4 object”"
     ]
    },
    {
     "name": "stdout",
     "output_type": "stream",
     "text": [
      "[1] 170   2\n"
     ]
    },
    {
     "data": {
      "text/html": [
       "<table>\n",
       "<thead><tr><th></th><th scope=col>scientific_name</th><th scope=col>SampleID</th></tr></thead>\n",
       "<tbody>\n",
       "\t<tr><th scope=row>X1.Eurasian.Beaver</th><td>Castor_fiber      </td><td>X1.Eurasian.Beaver</td></tr>\n",
       "\t<tr><th scope=row>X101.Horse</th><td>Equus_caballus    </td><td>X101.Horse        </td></tr>\n",
       "\t<tr><th scope=row>X102.Kulan</th><td>Equus_hemionus    </td><td>X102.Kulan        </td></tr>\n",
       "</tbody>\n",
       "</table>\n"
      ],
      "text/latex": [
       "\\begin{tabular}{r|ll}\n",
       "  & scientific\\_name & SampleID\\\\\n",
       "\\hline\n",
       "\tX1.Eurasian.Beaver & Castor\\_fiber     & X1.Eurasian.Beaver\\\\\n",
       "\tX101.Horse & Equus\\_caballus   & X101.Horse        \\\\\n",
       "\tX102.Kulan & Equus\\_hemionus   & X102.Kulan        \\\\\n",
       "\\end{tabular}\n"
      ],
      "text/markdown": [
       "\n",
       "| <!--/--> | scientific_name | SampleID | \n",
       "|---|---|---|\n",
       "| X1.Eurasian.Beaver | Castor_fiber       | X1.Eurasian.Beaver | \n",
       "| X101.Horse | Equus_caballus     | X101.Horse         | \n",
       "| X102.Kulan | Equus_hemionus     | X102.Kulan         | \n",
       "\n",
       "\n"
      ],
      "text/plain": [
       "                   scientific_name SampleID          \n",
       "X1.Eurasian.Beaver Castor_fiber    X1.Eurasian.Beaver\n",
       "X101.Horse         Equus_caballus  X101.Horse        \n",
       "X102.Kulan         Equus_hemionus  X102.Kulan        "
      ]
     },
     "metadata": {},
     "output_type": "display_data"
    }
   ],
   "source": [
    "metadata = physeq %>%\n",
    "    sample_data %>%\n",
    "    dplyr::select(scientific_name) %>%\n",
    "    mutate(SampleID = rownames(.)) %>%\n",
    "    as.data.frame\n",
    "\n",
    "rownames(metadata) = metadata$SampleID\n",
    "#metadata$sample = NULL\n",
    "\n",
    "metadata %>% status"
   ]
  },
  {
   "cell_type": "code",
   "execution_count": 93,
   "metadata": {
    "ExecuteTime": {
     "end_time": "2018-07-18T13:11:04.433150Z",
     "start_time": "2018-07-18T13:11:04.374Z"
    }
   },
   "outputs": [
    {
     "name": "stdout",
     "output_type": "stream",
     "text": [
      "[1] 110\n"
     ]
    }
   ],
   "source": [
    "# number of species\n",
    "metadata$scientific_name %>% unique %>% length %>% print"
   ]
  },
  {
   "cell_type": "markdown",
   "metadata": {},
   "source": [
    "# Subsampling tree\n",
    "\n",
    "* multiple subsamples: one sample per species"
   ]
  },
  {
   "cell_type": "code",
   "execution_count": 14,
   "metadata": {
    "ExecuteTime": {
     "end_time": "2018-07-10T14:02:50.913455Z",
     "start_time": "2018-07-10T14:02:50.881Z"
    }
   },
   "outputs": [],
   "source": [
    "# number of subsampled trees\n",
    "ntrees = 100"
   ]
  },
  {
   "cell_type": "code",
   "execution_count": 15,
   "metadata": {
    "ExecuteTime": {
     "end_time": "2018-07-10T14:02:51.824766Z",
     "start_time": "2018-07-10T14:02:51.794Z"
    }
   },
   "outputs": [],
   "source": [
    "#' randomly selecting one per group\n",
    "tree_subsample = function(L, df, tree){\n",
    "    # get subsample (note: subsampling within each species)\n",
    "    to_keep = df %>% \n",
    "        group_by(scientific_name) %>% \n",
    "        sample_n(1) %>%\n",
    "        .$sample\n",
    "    # subsampling tree\n",
    "    to_rm = setdiff(tree$tip.label, to_keep)\n",
    "    tree = drop.tip(tree, to_rm)\n",
    "    #tree$tip.label %>% length %>% print\n",
    "    return(tree)\n",
    "}"
   ]
  },
  {
   "cell_type": "code",
   "execution_count": 17,
   "metadata": {
    "ExecuteTime": {
     "end_time": "2018-07-10T14:02:58.670680Z",
     "start_time": "2018-07-10T14:02:57.088Z"
    }
   },
   "outputs": [
    {
     "data": {
      "text/html": [
       "100"
      ],
      "text/latex": [
       "100"
      ],
      "text/markdown": [
       "100"
      ],
      "text/plain": [
       "[1] 100"
      ]
     },
     "metadata": {},
     "output_type": "display_data"
    }
   ],
   "source": [
    "df = metadata %>%\n",
    "    mutate(sample = rownames(.)) %>%\n",
    "    dplyr::select(sample, scientific_name) \n",
    "\n",
    "doParallel::registerDoParallel(threads)\n",
    "host_tree_l = plyr::llply(as.list(1:ntrees), \n",
    "                          function(x) tree_subsample(x, df, host_tree),\n",
    "                          .parallel=TRUE)\n",
    "host_tree_l %>% length"
   ]
  },
  {
   "cell_type": "code",
   "execution_count": 92,
   "metadata": {
    "ExecuteTime": {
     "end_time": "2018-07-18T13:07:43.093984Z",
     "start_time": "2018-07-18T13:07:43.020Z"
    }
   },
   "outputs": [
    {
     "data": {
      "text/plain": [
       "   Min. 1st Qu.  Median    Mean 3rd Qu.    Max. \n",
       "    110     110     110     110     110     110 "
      ]
     },
     "metadata": {},
     "output_type": "display_data"
    }
   ],
   "source": [
    "# samples per tree\n",
    "host_tree_l %>% lapply(function(x) length(x$tip.label)) %>% unlist %>% as.vector %>% summary"
   ]
  },
  {
   "cell_type": "markdown",
   "metadata": {},
   "source": [
    "# paco: diffused model\n",
    "\n",
    "* on each subsample"
   ]
  },
  {
   "cell_type": "markdown",
   "metadata": {},
   "source": [
    "## Creating datasets"
   ]
  },
  {
   "cell_type": "code",
   "execution_count": 18,
   "metadata": {
    "ExecuteTime": {
     "end_time": "2018-07-10T14:38:18.994519Z",
     "start_time": "2018-07-10T14:38:18.908Z"
    }
   },
   "outputs": [],
   "source": [
    "make_paco_input = function(host_tree, physeq){\n",
    "    # subsampled phyloseq object\n",
    "    physeq_f = prune_samples(sample_names(physeq) %in% host_tree$tip.label, \n",
    "                             physeq) \n",
    "\n",
    "    # microbial distance matrix\n",
    "    micro_D = physeq_f %>%\n",
    "        phy_tree %>% cophenetic %>% \n",
    "        rescale_dist_mtx %>% as.matrix\n",
    "    # host distance matrix\n",
    "    host_D = host_tree %>% cophenetic %>% \n",
    "             rescale_dist_mtx %>% as.matrix\n",
    "    \n",
    "    # otu abundance matrix\n",
    "    otu = physeq_f %>% \n",
    "        otu_table %>%\n",
    "        as.data.frame %>%\n",
    "        as.matrix %>%\n",
    "        t %>%\n",
    "        apply(2, function(x) ifelse(x > 0, 1, 0)) %>% as.matrix                \n",
    "              \n",
    "              \n",
    "    # checking overlap\n",
    "    x = length(intersect(rownames(otu), rownames(host_D)))\n",
    "    y = length(union(rownames(otu), rownames(host_D)))\n",
    "    stopifnot(x == y)\n",
    "              \n",
    "    # preparing paco data\n",
    "    D = prepare_paco_data(H=host_D, P=micro_D, HP=otu)\n",
    "    D = add_pcoord(D, correction='cailliez')\n",
    "    return(D)\n",
    "}"
   ]
  },
  {
   "cell_type": "code",
   "execution_count": 19,
   "metadata": {
    "ExecuteTime": {
     "end_time": "2018-07-10T14:40:12.768101Z",
     "start_time": "2018-07-10T14:38:20.906Z"
    }
   },
   "outputs": [
    {
     "data": {
      "text/html": [
       "100"
      ],
      "text/latex": [
       "100"
      ],
      "text/markdown": [
       "100"
      ],
      "text/plain": [
       "[1] 100"
      ]
     },
     "metadata": {},
     "output_type": "display_data"
    }
   ],
   "source": [
    "doParallel::registerDoParallel(threads)\n",
    "paco_l = plyr::llply(host_tree_l, make_paco_input, physeq=physeq, .parallel=TRUE)\n",
    "paco_l %>% length"
   ]
  },
  {
   "cell_type": "markdown",
   "metadata": {},
   "source": [
    "## Running paco"
   ]
  },
  {
   "cell_type": "code",
   "execution_count": 20,
   "metadata": {
    "ExecuteTime": {
     "end_time": "2018-07-10T14:40:12.818419Z",
     "start_time": "2018-07-10T14:38:54.288Z"
    }
   },
   "outputs": [
    {
     "data": {
      "text/html": [
       "'/ebio/abt3_projects/Georg_animal_feces/data/host_specific/pcao/host_TT//physeq_IndD-sens-noArtio_PACo.RDS'"
      ],
      "text/latex": [
       "'/ebio/abt3\\_projects/Georg\\_animal\\_feces/data/host\\_specific/pcao/host\\_TT//physeq\\_IndD-sens-noArtio\\_PACo.RDS'"
      ],
      "text/markdown": [
       "'/ebio/abt3_projects/Georg_animal_feces/data/host_specific/pcao/host_TT//physeq_IndD-sens-noArtio_PACo.RDS'"
      ],
      "text/plain": [
       "[1] \"/ebio/abt3_projects/Georg_animal_feces/data/host_specific/pcao/host_TT//physeq_IndD-sens-noArtio_PACo.RDS\""
      ]
     },
     "metadata": {},
     "output_type": "display_data"
    }
   ],
   "source": [
    "# for loading results instead of re-running\n",
    "PACo_file = file.path(work_dir, 'physeq_IndD-sens-noArtio_PACo.RDS')\n",
    "PACo_file"
   ]
  },
  {
   "cell_type": "code",
   "execution_count": 21,
   "metadata": {
    "ExecuteTime": {
     "end_time": "2018-07-10T14:40:12.899002Z",
     "start_time": "2018-07-10T14:39:26.065Z"
    }
   },
   "outputs": [],
   "source": [
    "# cluster resources\n",
    "resources = list(h_rt = '24:00:00',\n",
    "                 h_vmem = '10G',\n",
    "                 threads = '1',\n",
    "                 conda.env = 'py3_physeq_phylo', \n",
    "                 conda.path = \"/ebio/abt3_projects/software/miniconda3/bin\")\n",
    "plan(batchtools_sge, resources=resources)"
   ]
  },
  {
   "cell_type": "code",
   "execution_count": 22,
   "metadata": {
    "ExecuteTime": {
     "end_time": "2018-07-11T12:19:33.552987Z",
     "start_time": "2018-07-10T14:39:28.895Z"
    }
   },
   "outputs": [
    {
     "name": "stderr",
     "output_type": "stream",
     "text": [
      "Warning message in is.na(x):\n",
      "“is.na() applied to non-(list or vector) of type 'NULL'”Warning message in is.na(x):\n",
      "“is.na() applied to non-(list or vector) of type 'NULL'”Warning message in is.na(x):\n",
      "“is.na() applied to non-(list or vector) of type 'NULL'”Warning message in is.na(x):\n",
      "“is.na() applied to non-(list or vector) of type 'NULL'”Warning message in is.na(x):\n",
      "“is.na() applied to non-(list or vector) of type 'NULL'”Warning message in is.na(x):\n",
      "“is.na() applied to non-(list or vector) of type 'NULL'”Warning message in is.na(x):\n",
      "“is.na() applied to non-(list or vector) of type 'NULL'”Warning message in is.na(x):\n",
      "“is.na() applied to non-(list or vector) of type 'NULL'”Warning message in is.na(x):\n",
      "“is.na() applied to non-(list or vector) of type 'NULL'”Warning message in is.na(x):\n",
      "“is.na() applied to non-(list or vector) of type 'NULL'”Warning message in is.na(x):\n",
      "“is.na() applied to non-(list or vector) of type 'NULL'”Warning message in is.na(x):\n",
      "“is.na() applied to non-(list or vector) of type 'NULL'”Warning message in is.na(x):\n",
      "“is.na() applied to non-(list or vector) of type 'NULL'”Warning message in is.na(x):\n",
      "“is.na() applied to non-(list or vector) of type 'NULL'”Warning message in is.na(x):\n",
      "“is.na() applied to non-(list or vector) of type 'NULL'”Warning message in is.na(x):\n",
      "“is.na() applied to non-(list or vector) of type 'NULL'”Warning message in is.na(x):\n",
      "“is.na() applied to non-(list or vector) of type 'NULL'”Warning message in is.na(x):\n",
      "“is.na() applied to non-(list or vector) of type 'NULL'”Warning message in is.na(x):\n",
      "“is.na() applied to non-(list or vector) of type 'NULL'”Warning message in is.na(x):\n",
      "“is.na() applied to non-(list or vector) of type 'NULL'”Warning message in is.na(x):\n",
      "“is.na() applied to non-(list or vector) of type 'NULL'”Warning message in is.na(x):\n",
      "“is.na() applied to non-(list or vector) of type 'NULL'”Warning message in is.na(x):\n",
      "“is.na() applied to non-(list or vector) of type 'NULL'”Warning message in is.na(x):\n",
      "“is.na() applied to non-(list or vector) of type 'NULL'”Warning message in is.na(x):\n",
      "“is.na() applied to non-(list or vector) of type 'NULL'”Warning message in is.na(x):\n",
      "“is.na() applied to non-(list or vector) of type 'NULL'”Warning message in is.na(x):\n",
      "“is.na() applied to non-(list or vector) of type 'NULL'”Warning message in is.na(x):\n",
      "“is.na() applied to non-(list or vector) of type 'NULL'”Warning message in is.na(x):\n",
      "“is.na() applied to non-(list or vector) of type 'NULL'”Warning message in is.na(x):\n",
      "“is.na() applied to non-(list or vector) of type 'NULL'”Warning message in is.na(x):\n",
      "“is.na() applied to non-(list or vector) of type 'NULL'”Warning message in is.na(x):\n",
      "“is.na() applied to non-(list or vector) of type 'NULL'”Warning message in is.na(x):\n",
      "“is.na() applied to non-(list or vector) of type 'NULL'”Warning message in is.na(x):\n",
      "“is.na() applied to non-(list or vector) of type 'NULL'”Warning message in is.na(x):\n",
      "“is.na() applied to non-(list or vector) of type 'NULL'”Warning message in is.na(x):\n",
      "“is.na() applied to non-(list or vector) of type 'NULL'”Warning message in is.na(x):\n",
      "“is.na() applied to non-(list or vector) of type 'NULL'”Warning message in is.na(x):\n",
      "“is.na() applied to non-(list or vector) of type 'NULL'”Warning message in is.na(x):\n",
      "“is.na() applied to non-(list or vector) of type 'NULL'”Warning message in is.na(x):\n",
      "“is.na() applied to non-(list or vector) of type 'NULL'”Warning message in is.na(x):\n",
      "“is.na() applied to non-(list or vector) of type 'NULL'”Warning message in is.na(x):\n",
      "“is.na() applied to non-(list or vector) of type 'NULL'”Warning message in is.na(x):\n",
      "“is.na() applied to non-(list or vector) of type 'NULL'”Warning message in is.na(x):\n",
      "“is.na() applied to non-(list or vector) of type 'NULL'”Warning message in is.na(x):\n",
      "“is.na() applied to non-(list or vector) of type 'NULL'”Warning message in is.na(x):\n",
      "“is.na() applied to non-(list or vector) of type 'NULL'”Warning message in is.na(x):\n",
      "“is.na() applied to non-(list or vector) of type 'NULL'”Warning message in is.na(x):\n",
      "“is.na() applied to non-(list or vector) of type 'NULL'”Warning message in is.na(x):\n",
      "“is.na() applied to non-(list or vector) of type 'NULL'”Warning message in is.na(x):\n",
      "“is.na() applied to non-(list or vector) of type 'NULL'”Warning message in is.na(x):\n",
      "“is.na() applied to non-(list or vector) of type 'NULL'”Warning message in is.na(x):\n",
      "“is.na() applied to non-(list or vector) of type 'NULL'”Warning message in is.na(x):\n",
      "“is.na() applied to non-(list or vector) of type 'NULL'”Warning message in is.na(x):\n",
      "“is.na() applied to non-(list or vector) of type 'NULL'”Warning message in is.na(x):\n",
      "“is.na() applied to non-(list or vector) of type 'NULL'”Warning message in is.na(x):\n",
      "“is.na() applied to non-(list or vector) of type 'NULL'”Warning message in is.na(x):\n",
      "“is.na() applied to non-(list or vector) of type 'NULL'”Warning message in is.na(x):\n",
      "“is.na() applied to non-(list or vector) of type 'NULL'”Warning message in is.na(x):\n",
      "“is.na() applied to non-(list or vector) of type 'NULL'”Warning message in is.na(x):\n",
      "“is.na() applied to non-(list or vector) of type 'NULL'”Warning message in is.na(x):\n",
      "“is.na() applied to non-(list or vector) of type 'NULL'”Warning message in is.na(x):\n",
      "“is.na() applied to non-(list or vector) of type 'NULL'”Warning message in is.na(x):\n",
      "“is.na() applied to non-(list or vector) of type 'NULL'”Warning message in is.na(x):\n",
      "“is.na() applied to non-(list or vector) of type 'NULL'”Warning message in is.na(x):\n",
      "“is.na() applied to non-(list or vector) of type 'NULL'”Warning message in is.na(x):\n",
      "“is.na() applied to non-(list or vector) of type 'NULL'”Warning message in is.na(x):\n",
      "“is.na() applied to non-(list or vector) of type 'NULL'”Warning message in is.na(x):\n",
      "“is.na() applied to non-(list or vector) of type 'NULL'”Warning message in is.na(x):\n",
      "“is.na() applied to non-(list or vector) of type 'NULL'”Warning message in is.na(x):\n",
      "“is.na() applied to non-(list or vector) of type 'NULL'”Warning message in is.na(x):\n",
      "“is.na() applied to non-(list or vector) of type 'NULL'”Warning message in is.na(x):\n",
      "“is.na() applied to non-(list or vector) of type 'NULL'”Warning message in is.na(x):\n",
      "“is.na() applied to non-(list or vector) of type 'NULL'”Warning message in is.na(x):\n",
      "“is.na() applied to non-(list or vector) of type 'NULL'”Warning message in is.na(x):\n",
      "“is.na() applied to non-(list or vector) of type 'NULL'”Warning message in is.na(x):\n",
      "“is.na() applied to non-(list or vector) of type 'NULL'”Warning message in is.na(x):\n",
      "“is.na() applied to non-(list or vector) of type 'NULL'”Warning message in is.na(x):\n",
      "“is.na() applied to non-(list or vector) of type 'NULL'”Warning message in is.na(x):\n",
      "“is.na() applied to non-(list or vector) of type 'NULL'”Warning message in is.na(x):\n",
      "“is.na() applied to non-(list or vector) of type 'NULL'”Warning message in is.na(x):\n",
      "“is.na() applied to non-(list or vector) of type 'NULL'”Warning message in is.na(x):\n",
      "“is.na() applied to non-(list or vector) of type 'NULL'”Warning message in is.na(x):\n",
      "“is.na() applied to non-(list or vector) of type 'NULL'”Warning message in is.na(x):\n",
      "“is.na() applied to non-(list or vector) of type 'NULL'”Warning message in is.na(x):\n",
      "“is.na() applied to non-(list or vector) of type 'NULL'”Warning message in is.na(x):\n",
      "“is.na() applied to non-(list or vector) of type 'NULL'”Warning message in is.na(x):\n",
      "“is.na() applied to non-(list or vector) of type 'NULL'”Warning message in is.na(x):\n",
      "“is.na() applied to non-(list or vector) of type 'NULL'”Warning message in is.na(x):\n",
      "“is.na() applied to non-(list or vector) of type 'NULL'”Warning message in is.na(x):\n",
      "“is.na() applied to non-(list or vector) of type 'NULL'”Warning message in is.na(x):\n",
      "“is.na() applied to non-(list or vector) of type 'NULL'”Warning message in is.na(x):\n",
      "“is.na() applied to non-(list or vector) of type 'NULL'”Warning message in is.na(x):\n",
      "“is.na() applied to non-(list or vector) of type 'NULL'”Warning message in is.na(x):\n",
      "“is.na() applied to non-(list or vector) of type 'NULL'”Warning message in is.na(x):\n",
      "“is.na() applied to non-(list or vector) of type 'NULL'”Warning message in is.na(x):\n",
      "“is.na() applied to non-(list or vector) of type 'NULL'”Warning message in is.na(x):\n",
      "“is.na() applied to non-(list or vector) of type 'NULL'”Warning message in is.na(x):\n",
      "“is.na() applied to non-(list or vector) of type 'NULL'”Warning message in is.na(x):\n",
      "“is.na() applied to non-(list or vector) of type 'NULL'”Warning message in is.na(x):\n",
      "“is.na() applied to non-(list or vector) of type 'NULL'”"
     ]
    },
    {
     "data": {
      "text/html": [
       "100"
      ],
      "text/latex": [
       "100"
      ],
      "text/markdown": [
       "100"
      ],
      "text/plain": [
       "[1] 100"
      ]
     },
     "metadata": {},
     "output_type": "display_data"
    }
   ],
   "source": [
    "# Running paco on each subsample\n",
    "## WARNING: SLOW!\n",
    "paco_each = function(D, nperm=99, seed=3843){\n",
    "    PACo(D, nperm=nperm, seed=seed, method='quasiswap', symmetric=TRUE)\n",
    "}\n",
    "\n",
    "paco_res_l = future_lapply(paco_l, paco_each, nperm=999, future.packages=c('paco'))\n",
    "paco_res_l %>% length"
   ]
  },
  {
   "cell_type": "code",
   "execution_count": 23,
   "metadata": {
    "ExecuteTime": {
     "end_time": "2018-07-11T12:19:33.555269Z",
     "start_time": "2018-07-10T14:39:29.423Z"
    }
   },
   "outputs": [
    {
     "name": "stdout",
     "output_type": "stream",
     "text": [
      "File written: /ebio/abt3_projects/Georg_animal_feces/data/host_specific/pcao/host_TT//physeq_IndD-sens-noArtio_PACo.RDS \n"
     ]
    }
   ],
   "source": [
    "# save results\n",
    "saveRDS(paco_res_l, PACo_file)\n",
    "cat('File written:', PACo_file, '\\n')"
   ]
  },
  {
   "cell_type": "code",
   "execution_count": 24,
   "metadata": {
    "ExecuteTime": {
     "end_time": "2018-07-11T12:19:33.557545Z",
     "start_time": "2018-07-10T14:39:30.263Z"
    }
   },
   "outputs": [
    {
     "data": {
      "text/html": [
       "100"
      ],
      "text/latex": [
       "100"
      ],
      "text/markdown": [
       "100"
      ],
      "text/plain": [
       "[1] 100"
      ]
     },
     "metadata": {},
     "output_type": "display_data"
    }
   ],
   "source": [
    "# load results\n",
    "paco_res_l = readRDS(PACo_file)\n",
    "paco_res_l %>% length"
   ]
  },
  {
   "cell_type": "code",
   "execution_count": 25,
   "metadata": {
    "ExecuteTime": {
     "end_time": "2018-07-11T12:19:33.559296Z",
     "start_time": "2018-07-10T14:39:30.639Z"
    }
   },
   "outputs": [],
   "source": [
    "send_email('http://127.0.0.1:9705/notebooks/notebooks/16S/4_host_specific/paco/host_TT/6a_paco_IndD_sensitivity-species-noArtiodactyla.ipynb')"
   ]
  },
  {
   "cell_type": "markdown",
   "metadata": {},
   "source": [
    "## Formatting output"
   ]
  },
  {
   "cell_type": "code",
   "execution_count": 26,
   "metadata": {
    "ExecuteTime": {
     "end_time": "2018-07-11T12:19:52.316499Z",
     "start_time": "2018-07-11T12:19:52.251Z"
    }
   },
   "outputs": [
    {
     "name": "stdout",
     "output_type": "stream",
     "text": [
      "   Min. 1st Qu.  Median    Mean 3rd Qu.    Max. \n",
      "      0       0       0       0       0       0 \n",
      "   Min. 1st Qu.  Median    Mean 3rd Qu.    Max. \n",
      " 0.9522  0.9550  0.9570  0.9569  0.9586  0.9614 \n"
     ]
    }
   ],
   "source": [
    "# goodness of fit\n",
    "gof = lapply(paco_res_l, function(x) as.vector(x$gof)) %>% \n",
    "        do.call(rbind, .) %>%\n",
    "        as.data.frame\n",
    "             \n",
    "gof$p %>% as.Num %>% summary %>% print\n",
    "gof$ss %>% as.Num %>% summary %>% print"
   ]
  },
  {
   "cell_type": "code",
   "execution_count": 27,
   "metadata": {
    "ExecuteTime": {
     "end_time": "2018-07-11T12:19:57.539182Z",
     "start_time": "2018-07-11T12:19:57.506Z"
    }
   },
   "outputs": [],
   "source": [
    "# clearing memory; the `paco_res_l` object is huge\n",
    "#paco_res_l = NULL"
   ]
  },
  {
   "cell_type": "markdown",
   "metadata": {},
   "source": [
    "## Individual contributions"
   ]
  },
  {
   "cell_type": "code",
   "execution_count": 69,
   "metadata": {
    "ExecuteTime": {
     "end_time": "2018-07-18T12:40:02.718578Z",
     "start_time": "2018-07-18T12:40:02.648Z"
    }
   },
   "outputs": [
    {
     "data": {
      "text/html": [
       "'/ebio/abt3_projects/Georg_animal_feces/data/host_specific/pcao/host_TT//physeq_IndD-sens-noArtio_PACo-links.RDS'"
      ],
      "text/latex": [
       "'/ebio/abt3\\_projects/Georg\\_animal\\_feces/data/host\\_specific/pcao/host\\_TT//physeq\\_IndD-sens-noArtio\\_PACo-links.RDS'"
      ],
      "text/markdown": [
       "'/ebio/abt3_projects/Georg_animal_feces/data/host_specific/pcao/host_TT//physeq_IndD-sens-noArtio_PACo-links.RDS'"
      ],
      "text/plain": [
       "[1] \"/ebio/abt3_projects/Georg_animal_feces/data/host_specific/pcao/host_TT//physeq_IndD-sens-noArtio_PACo-links.RDS\""
      ]
     },
     "metadata": {},
     "output_type": "display_data"
    }
   ],
   "source": [
    "# for loading results instead of re-running\n",
    "PACo_links_file = file.path(work_dir, 'physeq_IndD-sens-noArtio_PACo-links.RDS')\n",
    "PACo_links_file"
   ]
  },
  {
   "cell_type": "code",
   "execution_count": 29,
   "metadata": {
    "ExecuteTime": {
     "end_time": "2018-07-12T06:37:28.486277Z",
     "start_time": "2018-07-11T12:20:46.882Z"
    }
   },
   "outputs": [
    {
     "data": {
      "text/html": [
       "100"
      ],
      "text/latex": [
       "100"
      ],
      "text/markdown": [
       "100"
      ],
      "text/plain": [
       "[1] 100"
      ]
     },
     "metadata": {},
     "output_type": "display_data"
    }
   ],
   "source": [
    "#-- WARNING: SLOW --#\n",
    "# cluster resources\n",
    "resources = list(h_rt = '36:00:00',\n",
    "                 h_vmem = '10G',\n",
    "                 threads = '1',\n",
    "                 conda.env = 'py3_physeq_phylo', \n",
    "                 conda.path = \"/ebio/abt3_projects/software/miniconda3/bin\")\n",
    "plan(batchtools_sge, resources=resources)\n",
    "\n",
    "# running\n",
    "D_links_l = future_lapply(paco_res_l, paco_links, future.packages=c('paco'))\n",
    "D_links_l %>% length"
   ]
  },
  {
   "cell_type": "code",
   "execution_count": 30,
   "metadata": {
    "ExecuteTime": {
     "end_time": "2018-07-12T06:37:28.488612Z",
     "start_time": "2018-07-11T12:20:51.641Z"
    }
   },
   "outputs": [
    {
     "name": "stdout",
     "output_type": "stream",
     "text": [
      "File written: /ebio/abt3_projects/Georg_animal_feces/data/host_specific/pcao/host_TT//physeq_IndD-sens-noArtio_PACo-links.RDS \n"
     ]
    }
   ],
   "source": [
    "# saving object\n",
    "saveRDS(D_links_l, PACo_links_file)\n",
    "cat('File written:', PACo_links_file, '\\n')"
   ]
  },
  {
   "cell_type": "code",
   "execution_count": 70,
   "metadata": {
    "ExecuteTime": {
     "end_time": "2018-07-18T12:40:20.696797Z",
     "start_time": "2018-07-18T12:40:05.942Z"
    }
   },
   "outputs": [
    {
     "data": {
      "text/html": [
       "100"
      ],
      "text/latex": [
       "100"
      ],
      "text/markdown": [
       "100"
      ],
      "text/plain": [
       "[1] 100"
      ]
     },
     "metadata": {},
     "output_type": "display_data"
    }
   ],
   "source": [
    "# re-loading object\n",
    "D_links_l = readRDS(PACo_links_file)\n",
    "D_links_l %>% length"
   ]
  },
  {
   "cell_type": "code",
   "execution_count": 32,
   "metadata": {
    "ExecuteTime": {
     "end_time": "2018-07-12T06:37:28.492789Z",
     "start_time": "2018-07-11T12:20:57.649Z"
    }
   },
   "outputs": [],
   "source": [
    "send_email('http://127.0.0.1:9705/notebooks/notebooks/16S/4_host_specific/paco/host_TT/6a_paco_IndD_sensitivity-species-noArtiodactyla.ipynb')"
   ]
  },
  {
   "cell_type": "markdown",
   "metadata": {},
   "source": [
    "### Formatting output"
   ]
  },
  {
   "cell_type": "code",
   "execution_count": 71,
   "metadata": {
    "ExecuteTime": {
     "end_time": "2018-07-18T12:40:27.678723Z",
     "start_time": "2018-07-18T12:40:07.742Z"
    }
   },
   "outputs": [
    {
     "name": "stdout",
     "output_type": "stream",
     "text": [
      "[1] 100258      6\n"
     ]
    },
    {
     "data": {
      "text/html": [
       "<table>\n",
       "<thead><tr><th scope=col>mean</th><th scope=col>upper</th><th scope=col>host</th><th scope=col>microbe</th><th scope=col>residuals</th><th scope=col>subsample_rep</th></tr></thead>\n",
       "<tbody>\n",
       "\t<tr><td>-77.81221                       </td><td>-77.79439                       </td><td>X13.Wolf                        </td><td>b918d185ee89a0b33d821ee766d76eb3</td><td>0.02301627                      </td><td>1                               </td></tr>\n",
       "\t<tr><td>-59.56393                       </td><td>-59.55009                       </td><td>X344.Indian.Rhinoceros          </td><td>b918d185ee89a0b33d821ee766d76eb3</td><td>0.02013718                      </td><td>1                               </td></tr>\n",
       "\t<tr><td>-58.98818                       </td><td>-58.95892                       </td><td>X394.Przewalski.horse           </td><td>f0f035365a85490145f397bf218afbab</td><td>0.02003998                      </td><td>1                               </td></tr>\n",
       "</tbody>\n",
       "</table>\n"
      ],
      "text/latex": [
       "\\begin{tabular}{r|llllll}\n",
       " mean & upper & host & microbe & residuals & subsample\\_rep\\\\\n",
       "\\hline\n",
       "\t -77.81221                        & -77.79439                        & X13.Wolf                         & b918d185ee89a0b33d821ee766d76eb3 & 0.02301627                       & 1                               \\\\\n",
       "\t -59.56393                        & -59.55009                        & X344.Indian.Rhinoceros           & b918d185ee89a0b33d821ee766d76eb3 & 0.02013718                       & 1                               \\\\\n",
       "\t -58.98818                        & -58.95892                        & X394.Przewalski.horse            & f0f035365a85490145f397bf218afbab & 0.02003998                       & 1                               \\\\\n",
       "\\end{tabular}\n"
      ],
      "text/markdown": [
       "\n",
       "mean | upper | host | microbe | residuals | subsample_rep | \n",
       "|---|---|---|\n",
       "| -77.81221                        | -77.79439                        | X13.Wolf                         | b918d185ee89a0b33d821ee766d76eb3 | 0.02301627                       | 1                                | \n",
       "| -59.56393                        | -59.55009                        | X344.Indian.Rhinoceros           | b918d185ee89a0b33d821ee766d76eb3 | 0.02013718                       | 1                                | \n",
       "| -58.98818                        | -58.95892                        | X394.Przewalski.horse            | f0f035365a85490145f397bf218afbab | 0.02003998                       | 1                                | \n",
       "\n",
       "\n"
      ],
      "text/plain": [
       "  mean      upper     host                   microbe                         \n",
       "1 -77.81221 -77.79439 X13.Wolf               b918d185ee89a0b33d821ee766d76eb3\n",
       "2 -59.56393 -59.55009 X344.Indian.Rhinoceros b918d185ee89a0b33d821ee766d76eb3\n",
       "3 -58.98818 -58.95892 X394.Przewalski.horse  f0f035365a85490145f397bf218afbab\n",
       "  residuals  subsample_rep\n",
       "1 0.02301627 1            \n",
       "2 0.02013718 1            \n",
       "3 0.02003998 1            "
      ]
     },
     "metadata": {},
     "output_type": "display_data"
    }
   ],
   "source": [
    "# residuals\n",
    "get_residuals = function(rep, D_links_l){\n",
    "    # residuals\n",
    "    res = residuals_paco(D_links_l[[rep]]$proc) %>% as.data.frame \n",
    "    colnames(res) = 'residuals'\n",
    "    res = res %>%\n",
    "        mutate(comparison = rownames(.),\n",
    "               subsample_rep = rep) %>%\n",
    "        separate(comparison, c('host', 'microbe'), sep='-') \n",
    "        \n",
    "    # jackknife\n",
    "    D_links_jk = do.call(rbind, D_links_l[[rep]]$jackknife) %>%\n",
    "        t %>% as.data.frame %>%\n",
    "        mutate(comparison = rownames(.)) %>%\n",
    "        separate(comparison, c('host', 'microbe'), sep='-') %>%\n",
    "        inner_join(res, c('host'='host', 'microbe'='microbe'))\n",
    "    \n",
    "    # return\n",
    "    return(D_links_jk)\n",
    "}\n",
    "\n",
    "D_links_l = lapply(as.list(1:length(D_links_l)), get_residuals, D_links_l=D_links_l)\n",
    "D_links_l = do.call(rbind, D_links_l)\n",
    "D_links_l %>% status"
   ]
  },
  {
   "cell_type": "markdown",
   "metadata": {},
   "source": [
    "### Summarizing residuals"
   ]
  },
  {
   "cell_type": "code",
   "execution_count": 72,
   "metadata": {
    "ExecuteTime": {
     "end_time": "2018-07-18T12:43:21.568852Z",
     "start_time": "2018-07-18T12:43:20.838Z"
    }
   },
   "outputs": [
    {
     "name": "stdout",
     "output_type": "stream",
     "text": [
      "[1] 1665    6\n"
     ]
    },
    {
     "data": {
      "text/html": [
       "<table>\n",
       "<thead><tr><th scope=col>host</th><th scope=col>microbe</th><th scope=col>mean_resid</th><th scope=col>median_resid</th><th scope=col>sd_resid</th><th scope=col>CV_resid</th></tr></thead>\n",
       "<tbody>\n",
       "\t<tr><td>F141.Wood.Sandpiper             </td><td>8ed6829bdf1df9cdc26ac7a3d1182018</td><td>0.03998941                      </td><td>0.03990165                      </td><td>0.0006542785                    </td><td>1.636129                        </td></tr>\n",
       "\t<tr><td>F141.Wood.Sandpiper             </td><td>9dabdedada5e83148f6d4bff9d7bddcb</td><td>0.04009052                      </td><td>0.04000270                      </td><td>0.0006565752                    </td><td>1.637732                        </td></tr>\n",
       "\t<tr><td>F141.Wood.Sandpiper             </td><td>ab6bc0116bcfefcbeb981d83cd525034</td><td>0.04008948                      </td><td>0.04000235                      </td><td>0.0006552443                    </td><td>1.634454                        </td></tr>\n",
       "</tbody>\n",
       "</table>\n"
      ],
      "text/latex": [
       "\\begin{tabular}{r|llllll}\n",
       " host & microbe & mean\\_resid & median\\_resid & sd\\_resid & CV\\_resid\\\\\n",
       "\\hline\n",
       "\t F141.Wood.Sandpiper              & 8ed6829bdf1df9cdc26ac7a3d1182018 & 0.03998941                       & 0.03990165                       & 0.0006542785                     & 1.636129                        \\\\\n",
       "\t F141.Wood.Sandpiper              & 9dabdedada5e83148f6d4bff9d7bddcb & 0.04009052                       & 0.04000270                       & 0.0006565752                     & 1.637732                        \\\\\n",
       "\t F141.Wood.Sandpiper              & ab6bc0116bcfefcbeb981d83cd525034 & 0.04008948                       & 0.04000235                       & 0.0006552443                     & 1.634454                        \\\\\n",
       "\\end{tabular}\n"
      ],
      "text/markdown": [
       "\n",
       "host | microbe | mean_resid | median_resid | sd_resid | CV_resid | \n",
       "|---|---|---|\n",
       "| F141.Wood.Sandpiper              | 8ed6829bdf1df9cdc26ac7a3d1182018 | 0.03998941                       | 0.03990165                       | 0.0006542785                     | 1.636129                         | \n",
       "| F141.Wood.Sandpiper              | 9dabdedada5e83148f6d4bff9d7bddcb | 0.04009052                       | 0.04000270                       | 0.0006565752                     | 1.637732                         | \n",
       "| F141.Wood.Sandpiper              | ab6bc0116bcfefcbeb981d83cd525034 | 0.04008948                       | 0.04000235                       | 0.0006552443                     | 1.634454                         | \n",
       "\n",
       "\n"
      ],
      "text/plain": [
       "  host                microbe                          mean_resid median_resid\n",
       "1 F141.Wood.Sandpiper 8ed6829bdf1df9cdc26ac7a3d1182018 0.03998941 0.03990165  \n",
       "2 F141.Wood.Sandpiper 9dabdedada5e83148f6d4bff9d7bddcb 0.04009052 0.04000270  \n",
       "3 F141.Wood.Sandpiper ab6bc0116bcfefcbeb981d83cd525034 0.04008948 0.04000235  \n",
       "  sd_resid     CV_resid\n",
       "1 0.0006542785 1.636129\n",
       "2 0.0006565752 1.637732\n",
       "3 0.0006552443 1.634454"
      ]
     },
     "metadata": {},
     "output_type": "display_data"
    }
   ],
   "source": [
    "D_links_l = D_links_l %>%\n",
    "    group_by(host, microbe) %>%\n",
    "    summarize(mean_resid = mean(residuals),\n",
    "              median_resid = median(residuals),\n",
    "              sd_resid = sd(residuals),\n",
    "              CV_resid = sd_resid / mean_resid * 100) %>%\n",
    "    ungroup()\n",
    "\n",
    "D_links_l %>% status"
   ]
  },
  {
   "cell_type": "markdown",
   "metadata": {},
   "source": [
    "### Adding taxonomy"
   ]
  },
  {
   "cell_type": "code",
   "execution_count": 73,
   "metadata": {
    "ExecuteTime": {
     "end_time": "2018-07-18T12:43:21.753057Z",
     "start_time": "2018-07-18T12:43:21.423Z"
    }
   },
   "outputs": [
    {
     "name": "stdout",
     "output_type": "stream",
     "text": [
      "[1] 1665   13\n"
     ]
    },
    {
     "data": {
      "text/html": [
       "<table>\n",
       "<thead><tr><th scope=col>host</th><th scope=col>microbe</th><th scope=col>mean_resid</th><th scope=col>median_resid</th><th scope=col>sd_resid</th><th scope=col>CV_resid</th><th scope=col>Domain</th><th scope=col>Phylum</th><th scope=col>Class</th><th scope=col>Order</th><th scope=col>Family</th><th scope=col>Genus</th><th scope=col>Species</th></tr></thead>\n",
       "<tbody>\n",
       "\t<tr><td>F141.Wood.Sandpiper             </td><td>8ed6829bdf1df9cdc26ac7a3d1182018</td><td>0.03998941                      </td><td>0.03990165                      </td><td>0.0006542785                    </td><td>1.636129                        </td><td>Bacteria                        </td><td>Proteobacteria                  </td><td>Gammaproteobacteria             </td><td>Enterobacteriales               </td><td>Enterobacteriaceae              </td><td>Citrobacter                     </td><td>unclassified                    </td></tr>\n",
       "\t<tr><td>F141.Wood.Sandpiper             </td><td>9dabdedada5e83148f6d4bff9d7bddcb</td><td>0.04009052                      </td><td>0.04000270                      </td><td>0.0006565752                    </td><td>1.637732                        </td><td>Bacteria                        </td><td>Proteobacteria                  </td><td>Gammaproteobacteria             </td><td>Enterobacteriales               </td><td>Enterobacteriaceae              </td><td>unclassified                    </td><td>unclassified                    </td></tr>\n",
       "\t<tr><td>F141.Wood.Sandpiper             </td><td>ab6bc0116bcfefcbeb981d83cd525034</td><td>0.04008948                      </td><td>0.04000235                      </td><td>0.0006552443                    </td><td>1.634454                        </td><td>Bacteria                        </td><td>Proteobacteria                  </td><td>Gammaproteobacteria             </td><td>Enterobacteriales               </td><td>Enterobacteriaceae              </td><td>Escherichia-Shigella            </td><td>unclassified                    </td></tr>\n",
       "</tbody>\n",
       "</table>\n"
      ],
      "text/latex": [
       "\\begin{tabular}{r|lllllllllllll}\n",
       " host & microbe & mean\\_resid & median\\_resid & sd\\_resid & CV\\_resid & Domain & Phylum & Class & Order & Family & Genus & Species\\\\\n",
       "\\hline\n",
       "\t F141.Wood.Sandpiper              & 8ed6829bdf1df9cdc26ac7a3d1182018 & 0.03998941                       & 0.03990165                       & 0.0006542785                     & 1.636129                         & Bacteria                         & Proteobacteria                   & Gammaproteobacteria              & Enterobacteriales                & Enterobacteriaceae               & Citrobacter                      & unclassified                    \\\\\n",
       "\t F141.Wood.Sandpiper              & 9dabdedada5e83148f6d4bff9d7bddcb & 0.04009052                       & 0.04000270                       & 0.0006565752                     & 1.637732                         & Bacteria                         & Proteobacteria                   & Gammaproteobacteria              & Enterobacteriales                & Enterobacteriaceae               & unclassified                     & unclassified                    \\\\\n",
       "\t F141.Wood.Sandpiper              & ab6bc0116bcfefcbeb981d83cd525034 & 0.04008948                       & 0.04000235                       & 0.0006552443                     & 1.634454                         & Bacteria                         & Proteobacteria                   & Gammaproteobacteria              & Enterobacteriales                & Enterobacteriaceae               & Escherichia-Shigella             & unclassified                    \\\\\n",
       "\\end{tabular}\n"
      ],
      "text/markdown": [
       "\n",
       "host | microbe | mean_resid | median_resid | sd_resid | CV_resid | Domain | Phylum | Class | Order | Family | Genus | Species | \n",
       "|---|---|---|\n",
       "| F141.Wood.Sandpiper              | 8ed6829bdf1df9cdc26ac7a3d1182018 | 0.03998941                       | 0.03990165                       | 0.0006542785                     | 1.636129                         | Bacteria                         | Proteobacteria                   | Gammaproteobacteria              | Enterobacteriales                | Enterobacteriaceae               | Citrobacter                      | unclassified                     | \n",
       "| F141.Wood.Sandpiper              | 9dabdedada5e83148f6d4bff9d7bddcb | 0.04009052                       | 0.04000270                       | 0.0006565752                     | 1.637732                         | Bacteria                         | Proteobacteria                   | Gammaproteobacteria              | Enterobacteriales                | Enterobacteriaceae               | unclassified                     | unclassified                     | \n",
       "| F141.Wood.Sandpiper              | ab6bc0116bcfefcbeb981d83cd525034 | 0.04008948                       | 0.04000235                       | 0.0006552443                     | 1.634454                         | Bacteria                         | Proteobacteria                   | Gammaproteobacteria              | Enterobacteriales                | Enterobacteriaceae               | Escherichia-Shigella             | unclassified                     | \n",
       "\n",
       "\n"
      ],
      "text/plain": [
       "  host                microbe                          mean_resid median_resid\n",
       "1 F141.Wood.Sandpiper 8ed6829bdf1df9cdc26ac7a3d1182018 0.03998941 0.03990165  \n",
       "2 F141.Wood.Sandpiper 9dabdedada5e83148f6d4bff9d7bddcb 0.04009052 0.04000270  \n",
       "3 F141.Wood.Sandpiper ab6bc0116bcfefcbeb981d83cd525034 0.04008948 0.04000235  \n",
       "  sd_resid     CV_resid Domain   Phylum         Class              \n",
       "1 0.0006542785 1.636129 Bacteria Proteobacteria Gammaproteobacteria\n",
       "2 0.0006565752 1.637732 Bacteria Proteobacteria Gammaproteobacteria\n",
       "3 0.0006552443 1.634454 Bacteria Proteobacteria Gammaproteobacteria\n",
       "  Order             Family             Genus                Species     \n",
       "1 Enterobacteriales Enterobacteriaceae Citrobacter          unclassified\n",
       "2 Enterobacteriales Enterobacteriaceae unclassified         unclassified\n",
       "3 Enterobacteriales Enterobacteriaceae Escherichia-Shigella unclassified"
      ]
     },
     "metadata": {},
     "output_type": "display_data"
    }
   ],
   "source": [
    "# adding taxonomy\n",
    "tax = physeq %>% tax_table %>% \n",
    "    as.matrix %>% as.data.frame %>%\n",
    "    mutate(microbe = rownames(.))\n",
    "\n",
    "D_links_l = D_links_l %>%\n",
    "    inner_join(tax, c('microbe'))\n",
    "\n",
    "D_links_l %>% status"
   ]
  },
  {
   "cell_type": "code",
   "execution_count": 74,
   "metadata": {
    "ExecuteTime": {
     "end_time": "2018-07-18T12:43:21.961624Z",
     "start_time": "2018-07-18T12:43:21.589Z"
    }
   },
   "outputs": [
    {
     "name": "stderr",
     "output_type": "stream",
     "text": [
      "Warning message in class(X) <- NULL:\n",
      "“Setting class(x) to NULL;   result will no longer be an S4 object”"
     ]
    },
    {
     "name": "stdout",
     "output_type": "stream",
     "text": [
      "[1] 1665   19\n"
     ]
    },
    {
     "data": {
      "text/html": [
       "<table>\n",
       "<thead><tr><th scope=col>host</th><th scope=col>microbe</th><th scope=col>mean_resid</th><th scope=col>median_resid</th><th scope=col>sd_resid</th><th scope=col>CV_resid</th><th scope=col>Domain</th><th scope=col>Phylum</th><th scope=col>Class</th><th scope=col>Order</th><th scope=col>Family</th><th scope=col>Genus</th><th scope=col>Species</th><th scope=col>class</th><th scope=col>order</th><th scope=col>family</th><th scope=col>genus</th><th scope=col>scientific_name</th><th scope=col>diet</th></tr></thead>\n",
       "<tbody>\n",
       "\t<tr><td>F141.Wood.Sandpiper             </td><td>8ed6829bdf1df9cdc26ac7a3d1182018</td><td>0.03998941                      </td><td>0.03990165                      </td><td>0.0006542785                    </td><td>1.636129                        </td><td>Bacteria                        </td><td>Proteobacteria                  </td><td>Gammaproteobacteria             </td><td>Enterobacteriales               </td><td>Enterobacteriaceae              </td><td>Citrobacter                     </td><td>unclassified                    </td><td>Aves                            </td><td>Charadriiformes                 </td><td>Scolopacidae                    </td><td>Tringa                          </td><td>Tringa_glareola                 </td><td>carnivore                       </td></tr>\n",
       "\t<tr><td>F141.Wood.Sandpiper             </td><td>9dabdedada5e83148f6d4bff9d7bddcb</td><td>0.04009052                      </td><td>0.04000270                      </td><td>0.0006565752                    </td><td>1.637732                        </td><td>Bacteria                        </td><td>Proteobacteria                  </td><td>Gammaproteobacteria             </td><td>Enterobacteriales               </td><td>Enterobacteriaceae              </td><td>unclassified                    </td><td>unclassified                    </td><td>Aves                            </td><td>Charadriiformes                 </td><td>Scolopacidae                    </td><td>Tringa                          </td><td>Tringa_glareola                 </td><td>carnivore                       </td></tr>\n",
       "\t<tr><td>F141.Wood.Sandpiper             </td><td>ab6bc0116bcfefcbeb981d83cd525034</td><td>0.04008948                      </td><td>0.04000235                      </td><td>0.0006552443                    </td><td>1.634454                        </td><td>Bacteria                        </td><td>Proteobacteria                  </td><td>Gammaproteobacteria             </td><td>Enterobacteriales               </td><td>Enterobacteriaceae              </td><td>Escherichia-Shigella            </td><td>unclassified                    </td><td>Aves                            </td><td>Charadriiformes                 </td><td>Scolopacidae                    </td><td>Tringa                          </td><td>Tringa_glareola                 </td><td>carnivore                       </td></tr>\n",
       "</tbody>\n",
       "</table>\n"
      ],
      "text/latex": [
       "\\begin{tabular}{r|lllllllllllllllllll}\n",
       " host & microbe & mean\\_resid & median\\_resid & sd\\_resid & CV\\_resid & Domain & Phylum & Class & Order & Family & Genus & Species & class & order & family & genus & scientific\\_name & diet\\\\\n",
       "\\hline\n",
       "\t F141.Wood.Sandpiper              & 8ed6829bdf1df9cdc26ac7a3d1182018 & 0.03998941                       & 0.03990165                       & 0.0006542785                     & 1.636129                         & Bacteria                         & Proteobacteria                   & Gammaproteobacteria              & Enterobacteriales                & Enterobacteriaceae               & Citrobacter                      & unclassified                     & Aves                             & Charadriiformes                  & Scolopacidae                     & Tringa                           & Tringa\\_glareola                & carnivore                       \\\\\n",
       "\t F141.Wood.Sandpiper              & 9dabdedada5e83148f6d4bff9d7bddcb & 0.04009052                       & 0.04000270                       & 0.0006565752                     & 1.637732                         & Bacteria                         & Proteobacteria                   & Gammaproteobacteria              & Enterobacteriales                & Enterobacteriaceae               & unclassified                     & unclassified                     & Aves                             & Charadriiformes                  & Scolopacidae                     & Tringa                           & Tringa\\_glareola                & carnivore                       \\\\\n",
       "\t F141.Wood.Sandpiper              & ab6bc0116bcfefcbeb981d83cd525034 & 0.04008948                       & 0.04000235                       & 0.0006552443                     & 1.634454                         & Bacteria                         & Proteobacteria                   & Gammaproteobacteria              & Enterobacteriales                & Enterobacteriaceae               & Escherichia-Shigella             & unclassified                     & Aves                             & Charadriiformes                  & Scolopacidae                     & Tringa                           & Tringa\\_glareola                & carnivore                       \\\\\n",
       "\\end{tabular}\n"
      ],
      "text/markdown": [
       "\n",
       "host | microbe | mean_resid | median_resid | sd_resid | CV_resid | Domain | Phylum | Class | Order | Family | Genus | Species | class | order | family | genus | scientific_name | diet | \n",
       "|---|---|---|\n",
       "| F141.Wood.Sandpiper              | 8ed6829bdf1df9cdc26ac7a3d1182018 | 0.03998941                       | 0.03990165                       | 0.0006542785                     | 1.636129                         | Bacteria                         | Proteobacteria                   | Gammaproteobacteria              | Enterobacteriales                | Enterobacteriaceae               | Citrobacter                      | unclassified                     | Aves                             | Charadriiformes                  | Scolopacidae                     | Tringa                           | Tringa_glareola                  | carnivore                        | \n",
       "| F141.Wood.Sandpiper              | 9dabdedada5e83148f6d4bff9d7bddcb | 0.04009052                       | 0.04000270                       | 0.0006565752                     | 1.637732                         | Bacteria                         | Proteobacteria                   | Gammaproteobacteria              | Enterobacteriales                | Enterobacteriaceae               | unclassified                     | unclassified                     | Aves                             | Charadriiformes                  | Scolopacidae                     | Tringa                           | Tringa_glareola                  | carnivore                        | \n",
       "| F141.Wood.Sandpiper              | ab6bc0116bcfefcbeb981d83cd525034 | 0.04008948                       | 0.04000235                       | 0.0006552443                     | 1.634454                         | Bacteria                         | Proteobacteria                   | Gammaproteobacteria              | Enterobacteriales                | Enterobacteriaceae               | Escherichia-Shigella             | unclassified                     | Aves                             | Charadriiformes                  | Scolopacidae                     | Tringa                           | Tringa_glareola                  | carnivore                        | \n",
       "\n",
       "\n"
      ],
      "text/plain": [
       "  host                microbe                          mean_resid median_resid\n",
       "1 F141.Wood.Sandpiper 8ed6829bdf1df9cdc26ac7a3d1182018 0.03998941 0.03990165  \n",
       "2 F141.Wood.Sandpiper 9dabdedada5e83148f6d4bff9d7bddcb 0.04009052 0.04000270  \n",
       "3 F141.Wood.Sandpiper ab6bc0116bcfefcbeb981d83cd525034 0.04008948 0.04000235  \n",
       "  sd_resid     CV_resid Domain   Phylum         Class              \n",
       "1 0.0006542785 1.636129 Bacteria Proteobacteria Gammaproteobacteria\n",
       "2 0.0006565752 1.637732 Bacteria Proteobacteria Gammaproteobacteria\n",
       "3 0.0006552443 1.634454 Bacteria Proteobacteria Gammaproteobacteria\n",
       "  Order             Family             Genus                Species      class\n",
       "1 Enterobacteriales Enterobacteriaceae Citrobacter          unclassified Aves \n",
       "2 Enterobacteriales Enterobacteriaceae unclassified         unclassified Aves \n",
       "3 Enterobacteriales Enterobacteriaceae Escherichia-Shigella unclassified Aves \n",
       "  order           family       genus  scientific_name diet     \n",
       "1 Charadriiformes Scolopacidae Tringa Tringa_glareola carnivore\n",
       "2 Charadriiformes Scolopacidae Tringa Tringa_glareola carnivore\n",
       "3 Charadriiformes Scolopacidae Tringa Tringa_glareola carnivore"
      ]
     },
     "metadata": {},
     "output_type": "display_data"
    }
   ],
   "source": [
    "host_tax = physeq %>% sample_data %>% \n",
    "    as.matrix %>% as.data.frame %>%\n",
    "    mutate(sample = rownames(.)) %>%\n",
    "    dplyr::select(sample, class, order, family, genus, scientific_name, diet)\n",
    "\n",
    "D_links_l = D_links_l %>%\n",
    "    inner_join(host_tax, c('host'='sample')) \n",
    "\n",
    "D_links_l %>% status"
   ]
  },
  {
   "cell_type": "markdown",
   "metadata": {},
   "source": [
    "### Summarizing results"
   ]
  },
  {
   "cell_type": "code",
   "execution_count": 75,
   "metadata": {
    "ExecuteTime": {
     "end_time": "2018-07-18T12:43:24.202867Z",
     "start_time": "2018-07-18T12:43:22.502Z"
    }
   },
   "outputs": [
    {
     "name": "stdout",
     "output_type": "stream",
     "text": [
      "File written: /ebio/abt3_projects/Georg_animal_feces/data/host_specific/pcao/host_TT/.figures/IndD_sens-noArtio_resid_mean-sd_diet.pdf \n"
     ]
    },
    {
     "data": {
      "image/png": "[encoded data removed]",
      "text/plain": [
       "plot without title"
      ]
     },
     "metadata": {},
     "output_type": "display_data"
    }
   ],
   "source": [
    "p = ggplot(D_links_l, aes(mean_resid, sd_resid, color=class)) +\n",
    "    geom_point(alpha=0.5) +\n",
    "    theme_bw() \n",
    "\n",
    "options(repr.plot.width=6, repr.plot.height=4.5)\n",
    "plot_write(p, file='IndD_sens-noArtio_resid_mean-sd_diet.pdf')"
   ]
  },
  {
   "cell_type": "markdown",
   "metadata": {},
   "source": [
    "#### CV resulting from intra-species variance"
   ]
  },
  {
   "cell_type": "code",
   "execution_count": 76,
   "metadata": {
    "ExecuteTime": {
     "end_time": "2018-07-18T12:43:25.305755Z",
     "start_time": "2018-07-18T12:43:24.160Z"
    }
   },
   "outputs": [
    {
     "name": "stdout",
     "output_type": "stream",
     "text": [
      "   Min. 1st Qu.  Median    Mean 3rd Qu.    Max. \n",
      " 0.5161  1.7126  2.1461  2.3031  2.5693 10.7442 \n",
      "File written: /ebio/abt3_projects/Georg_animal_feces/data/host_specific/pcao/host_TT/.figures/fig-1555aac2926da5d2ccd3b745.pdf \n"
     ]
    },
    {
     "data": {
      "image/png": "[encoded data removed]",
      "text/plain": [
       "plot without title"
      ]
     },
     "metadata": {},
     "output_type": "display_data"
    }
   ],
   "source": [
    "# CV variance due to \n",
    "D_links_l$CV_resid %>% summary %>% print\n",
    "\n",
    "p = ggplot(D_links_l, aes(CV_resid)) +\n",
    "    geom_histogram(binwidth=0.25) +\n",
    "    labs(x='intra-species CV in PACo resimduals', y='# of host-microbe\\ncomparisons') +\n",
    "    theme_bw()\n",
    "\n",
    "options(repr.plot.width=5, repr.plot.height=3.5)\n",
    "plot_write(p)"
   ]
  },
  {
   "cell_type": "code",
   "execution_count": 77,
   "metadata": {
    "ExecuteTime": {
     "end_time": "2018-07-18T12:43:30.090611Z",
     "start_time": "2018-07-18T12:43:25.144Z"
    }
   },
   "outputs": [
    {
     "name": "stdout",
     "output_type": "stream",
     "text": [
      "   Min. 1st Qu.  Median    Mean 3rd Qu.    Max. \n",
      " 0.5161  1.7126  2.1461  2.3031  2.5693 10.7442 \n",
      "File written: /ebio/abt3_projects/Georg_animal_feces/data/host_specific/pcao/host_TT/.figures/fig-defbcb60d9adc8642c2f9fa8.pdf \n"
     ]
    },
    {
     "data": {
      "image/png": "[encoded data removed]",
      "text/plain": [
       "plot without title"
      ]
     },
     "metadata": {},
     "output_type": "display_data"
    }
   ],
   "source": [
    "# CV variance due to \n",
    "D_links_l$CV_resid %>% summary %>% print\n",
    "\n",
    "p = ggplot(D_links_l, aes(CV_resid)) +\n",
    "    geom_histogram(binwidth=0.25) +\n",
    "    labs(x='intra-species CV in PACo resimduals', y='# of host-microbe\\ncomparisons') +\n",
    "    facet_wrap(~ class, scales='free_y') +\n",
    "    theme_bw()\n",
    "\n",
    "options(repr.plot.width=6, repr.plot.height=3.5)\n",
    "plot_write(p)"
   ]
  },
  {
   "cell_type": "markdown",
   "metadata": {},
   "source": [
    "#### Notes\n",
    "\n",
    "* a rather low intra-species CV, suggesting that intra-species variation doesn't affect residuals much"
   ]
  },
  {
   "cell_type": "markdown",
   "metadata": {},
   "source": [
    "### Summing residuals by host data"
   ]
  },
  {
   "cell_type": "code",
   "execution_count": 78,
   "metadata": {
    "ExecuteTime": {
     "end_time": "2018-07-18T12:43:30.433328Z",
     "start_time": "2018-07-18T12:43:27.224Z"
    }
   },
   "outputs": [
    {
     "name": "stdout",
     "output_type": "stream",
     "text": [
      "[1] 1665    6\n"
     ]
    },
    {
     "data": {
      "text/html": [
       "<table>\n",
       "<thead><tr><th scope=col>host</th><th scope=col>microbe</th><th scope=col>mean_resid</th><th scope=col>class</th><th scope=col>category</th><th scope=col>value</th></tr></thead>\n",
       "<tbody>\n",
       "\t<tr><td>F141.Wood.Sandpiper             </td><td>8ed6829bdf1df9cdc26ac7a3d1182018</td><td>0.03998941                      </td><td>Aves                            </td><td>diet                            </td><td>carnivore                       </td></tr>\n",
       "\t<tr><td>F141.Wood.Sandpiper             </td><td>9dabdedada5e83148f6d4bff9d7bddcb</td><td>0.04009052                      </td><td>Aves                            </td><td>diet                            </td><td>carnivore                       </td></tr>\n",
       "\t<tr><td>F141.Wood.Sandpiper             </td><td>ab6bc0116bcfefcbeb981d83cd525034</td><td>0.04008948                      </td><td>Aves                            </td><td>diet                            </td><td>carnivore                       </td></tr>\n",
       "</tbody>\n",
       "</table>\n"
      ],
      "text/latex": [
       "\\begin{tabular}{r|llllll}\n",
       " host & microbe & mean\\_resid & class & category & value\\\\\n",
       "\\hline\n",
       "\t F141.Wood.Sandpiper              & 8ed6829bdf1df9cdc26ac7a3d1182018 & 0.03998941                       & Aves                             & diet                             & carnivore                       \\\\\n",
       "\t F141.Wood.Sandpiper              & 9dabdedada5e83148f6d4bff9d7bddcb & 0.04009052                       & Aves                             & diet                             & carnivore                       \\\\\n",
       "\t F141.Wood.Sandpiper              & ab6bc0116bcfefcbeb981d83cd525034 & 0.04008948                       & Aves                             & diet                             & carnivore                       \\\\\n",
       "\\end{tabular}\n"
      ],
      "text/markdown": [
       "\n",
       "host | microbe | mean_resid | class | category | value | \n",
       "|---|---|---|\n",
       "| F141.Wood.Sandpiper              | 8ed6829bdf1df9cdc26ac7a3d1182018 | 0.03998941                       | Aves                             | diet                             | carnivore                        | \n",
       "| F141.Wood.Sandpiper              | 9dabdedada5e83148f6d4bff9d7bddcb | 0.04009052                       | Aves                             | diet                             | carnivore                        | \n",
       "| F141.Wood.Sandpiper              | ab6bc0116bcfefcbeb981d83cd525034 | 0.04008948                       | Aves                             | diet                             | carnivore                        | \n",
       "\n",
       "\n"
      ],
      "text/plain": [
       "  host                microbe                          mean_resid class\n",
       "1 F141.Wood.Sandpiper 8ed6829bdf1df9cdc26ac7a3d1182018 0.03998941 Aves \n",
       "2 F141.Wood.Sandpiper 9dabdedada5e83148f6d4bff9d7bddcb 0.04009052 Aves \n",
       "3 F141.Wood.Sandpiper ab6bc0116bcfefcbeb981d83cd525034 0.04008948 Aves \n",
       "  category value    \n",
       "1 diet     carnivore\n",
       "2 diet     carnivore\n",
       "3 diet     carnivore"
      ]
     },
     "metadata": {},
     "output_type": "display_data"
    }
   ],
   "source": [
    "D_links_l_s = D_links_l %>% \n",
    "    dplyr::select(host, microbe, mean_resid, diet, class) %>%\n",
    "    gather(category, value, -host, -microbe, -mean_resid, -class) \n",
    "\n",
    "D_links_l_s %>% status"
   ]
  },
  {
   "cell_type": "code",
   "execution_count": 79,
   "metadata": {
    "ExecuteTime": {
     "end_time": "2018-07-18T12:43:31.616862Z",
     "start_time": "2018-07-18T12:43:27.862Z"
    }
   },
   "outputs": [
    {
     "name": "stdout",
     "output_type": "stream",
     "text": [
      "File written: /ebio/abt3_projects/Georg_animal_feces/data/host_specific/pcao/host_TT/.figures/IndD_sens-noArtio_resid_diet.pdf \n"
     ]
    },
    {
     "data": {
      "image/png": "[encoded data removed]",
      "text/plain": [
       "plot without title"
      ]
     },
     "metadata": {},
     "output_type": "display_data"
    }
   ],
   "source": [
    "tmp = D_links_l %>% \n",
    "    group_by(diet) %>%\n",
    "    mutate(median_resid = median(mean_resid)) %>%\n",
    "    ungroup() %>%\n",
    "    mutate(diet = diet %>% reorder(-median_resid))\n",
    "\n",
    "p = ggplot(tmp, aes(diet, mean_resid)) +\n",
    "    geom_boxplot() +\n",
    "    labs(x='Class', y='Residuals') +\n",
    "    theme_bw() +\n",
    "    theme(\n",
    "        axis.text.x = element_text(angle=45, hjust=1)\n",
    "    )\n",
    "\n",
    "options(repr.plot.width=3.5, repr.plot.height=2.5)\n",
    "plot_write(p, file='IndD_sens-noArtio_resid_diet.pdf')"
   ]
  },
  {
   "cell_type": "code",
   "execution_count": 80,
   "metadata": {
    "ExecuteTime": {
     "end_time": "2018-07-18T12:43:33.674220Z",
     "start_time": "2018-07-18T12:43:28.495Z"
    }
   },
   "outputs": [
    {
     "name": "stdout",
     "output_type": "stream",
     "text": [
      "File written: /ebio/abt3_projects/Georg_animal_feces/data/host_specific/pcao/host_TT/.figures/IndD_sens-noArtio_resid_class-diet.pdf \n"
     ]
    },
    {
     "data": {
      "image/png": "[encoded data removed]",
      "text/plain": [
       "plot without title"
      ]
     },
     "metadata": {},
     "output_type": "display_data"
    }
   ],
   "source": [
    "tmp = D_links_l_s %>% \n",
    "    group_by(class) %>%\n",
    "    mutate(median_resid = median(mean_resid)) %>%\n",
    "    ungroup() %>%\n",
    "    mutate(class = class %>% reorder(-median_resid))\n",
    "\n",
    "p = ggplot(tmp, aes(class, mean_resid, color=value)) +\n",
    "    geom_boxplot() +\n",
    "    scale_color_discrete('Diet') +\n",
    "    labs(x='Class', y='Residuals') +\n",
    "    theme_bw() +\n",
    "    theme(\n",
    "        axis.text.x = element_text(angle=45, hjust=1)\n",
    "    )\n",
    "\n",
    "options(repr.plot.width=5, repr.plot.height=2.5)\n",
    "plot_write(p, file='IndD_sens-noArtio_resid_class-diet.pdf')"
   ]
  },
  {
   "cell_type": "code",
   "execution_count": 81,
   "metadata": {
    "ExecuteTime": {
     "end_time": "2018-07-18T12:43:33.779929Z",
     "start_time": "2018-07-18T12:43:29.415Z"
    }
   },
   "outputs": [
    {
     "data": {
      "text/plain": [
       "              Df  Sum Sq Mean Sq  F value Pr(>F)    \n",
       "diet           2 0.02480 0.01240 1492.487 <2e-16 ***\n",
       "class          4 0.18795 0.04699 5655.008 <2e-16 ***\n",
       "diet:class     4 0.00004 0.00001    1.175   0.32    \n",
       "Residuals   1654 0.01374 0.00001                    \n",
       "---\n",
       "Signif. codes:  0 ‘***’ 0.001 ‘**’ 0.01 ‘*’ 0.05 ‘.’ 0.1 ‘ ’ 1"
      ]
     },
     "metadata": {},
     "output_type": "display_data"
    }
   ],
   "source": [
    "# anova\n",
    "aov_res = aov(mean_resid ~ diet * class, data=D_links_l)\n",
    "aov_res %>% summary"
   ]
  },
  {
   "cell_type": "code",
   "execution_count": 82,
   "metadata": {
    "ExecuteTime": {
     "end_time": "2018-07-18T12:43:41.219188Z",
     "start_time": "2018-07-18T12:43:29.688Z"
    }
   },
   "outputs": [
    {
     "name": "stdout",
     "output_type": "stream",
     "text": [
      "File written: /ebio/abt3_projects/Georg_animal_feces/data/host_specific/pcao/host_TT/.figures/IndD_sens-noArtio_resid_class-family.pdf \n"
     ]
    },
    {
     "data": {
      "image/png": "[encoded data removed]",
      "text/plain": [
       "plot without title"
      ]
     },
     "metadata": {},
     "output_type": "display_data"
    }
   ],
   "source": [
    "tmp = D_links_l %>% \n",
    "    group_by(family) %>%\n",
    "    mutate(median_resid = median(mean_resid)) %>%\n",
    "    ungroup() %>%\n",
    "    group_by(class) %>%\n",
    "    mutate(median_resid_class = median(mean_resid)) %>%\n",
    "    ungroup() %>%   \n",
    "    mutate(class = gsub('Actinopterygii', 'Actino-\\npterygii', class),\n",
    "           class = gsub('Amphibia', 'Amph-\\nibia', class),\n",
    "           family = family %>% reorder(-median_resid),\n",
    "           class = class %>% reorder(-median_resid_class))\n",
    "\n",
    "p = ggplot(tmp, aes(family, mean_resid)) +\n",
    "    geom_boxplot() +\n",
    "    labs(x='Family', y='Residuals') +\n",
    "    theme_bw() +\n",
    "    facet_grid(. ~ class, scales='free_x', space='free_x')+\n",
    "    theme(\n",
    "        axis.text.x = element_text(angle=65, hjust=1)\n",
    "    )\n",
    "\n",
    "options(repr.plot.width=9.5, repr.plot.height=4)\n",
    "plot_write(p, file='IndD_sens-noArtio_resid_class-family.pdf')"
   ]
  },
  {
   "cell_type": "markdown",
   "metadata": {},
   "source": [
    "### Regressing out diet"
   ]
  },
  {
   "cell_type": "code",
   "execution_count": 83,
   "metadata": {
    "ExecuteTime": {
     "end_time": "2018-07-18T12:43:41.504414Z",
     "start_time": "2018-07-18T12:43:31.715Z"
    }
   },
   "outputs": [
    {
     "name": "stdout",
     "output_type": "stream",
     "text": [
      "[1] 1665   20\n"
     ]
    },
    {
     "data": {
      "text/html": [
       "<table>\n",
       "<thead><tr><th scope=col>host</th><th scope=col>microbe</th><th scope=col>mean_resid</th><th scope=col>median_resid</th><th scope=col>sd_resid</th><th scope=col>CV_resid</th><th scope=col>Domain</th><th scope=col>Phylum</th><th scope=col>Class</th><th scope=col>Order</th><th scope=col>Family</th><th scope=col>Genus</th><th scope=col>Species</th><th scope=col>class</th><th scope=col>order</th><th scope=col>family</th><th scope=col>genus</th><th scope=col>scientific_name</th><th scope=col>diet</th><th scope=col>phy_resid</th></tr></thead>\n",
       "<tbody>\n",
       "\t<tr><td>F141.Wood.Sandpiper             </td><td>8ed6829bdf1df9cdc26ac7a3d1182018</td><td>0.03998941                      </td><td>0.03990165                      </td><td>0.0006542785                    </td><td>1.636129                        </td><td>Bacteria                        </td><td>Proteobacteria                  </td><td>Gammaproteobacteria             </td><td>Enterobacteriales               </td><td>Enterobacteriaceae              </td><td>Citrobacter                     </td><td>unclassified                    </td><td>Aves                            </td><td>Charadriiformes                 </td><td>Scolopacidae                    </td><td>Tringa                          </td><td>Tringa_glareola                 </td><td>carnivore                       </td><td>0.4084284                       </td></tr>\n",
       "\t<tr><td>F141.Wood.Sandpiper             </td><td>9dabdedada5e83148f6d4bff9d7bddcb</td><td>0.04009052                      </td><td>0.04000270                      </td><td>0.0006565752                    </td><td>1.637732                        </td><td>Bacteria                        </td><td>Proteobacteria                  </td><td>Gammaproteobacteria             </td><td>Enterobacteriales               </td><td>Enterobacteriaceae              </td><td>unclassified                    </td><td>unclassified                    </td><td>Aves                            </td><td>Charadriiformes                 </td><td>Scolopacidae                    </td><td>Tringa                          </td><td>Tringa_glareola                 </td><td>carnivore                       </td><td>0.4100940                       </td></tr>\n",
       "\t<tr><td>F141.Wood.Sandpiper             </td><td>ab6bc0116bcfefcbeb981d83cd525034</td><td>0.04008948                      </td><td>0.04000235                      </td><td>0.0006552443                    </td><td>1.634454                        </td><td>Bacteria                        </td><td>Proteobacteria                  </td><td>Gammaproteobacteria             </td><td>Enterobacteriales               </td><td>Enterobacteriaceae              </td><td>Escherichia-Shigella            </td><td>unclassified                    </td><td>Aves                            </td><td>Charadriiformes                 </td><td>Scolopacidae                    </td><td>Tringa                          </td><td>Tringa_glareola                 </td><td>carnivore                       </td><td>0.4100768                       </td></tr>\n",
       "</tbody>\n",
       "</table>\n"
      ],
      "text/latex": [
       "\\begin{tabular}{r|llllllllllllllllllll}\n",
       " host & microbe & mean\\_resid & median\\_resid & sd\\_resid & CV\\_resid & Domain & Phylum & Class & Order & Family & Genus & Species & class & order & family & genus & scientific\\_name & diet & phy\\_resid\\\\\n",
       "\\hline\n",
       "\t F141.Wood.Sandpiper              & 8ed6829bdf1df9cdc26ac7a3d1182018 & 0.03998941                       & 0.03990165                       & 0.0006542785                     & 1.636129                         & Bacteria                         & Proteobacteria                   & Gammaproteobacteria              & Enterobacteriales                & Enterobacteriaceae               & Citrobacter                      & unclassified                     & Aves                             & Charadriiformes                  & Scolopacidae                     & Tringa                           & Tringa\\_glareola                & carnivore                        & 0.4084284                       \\\\\n",
       "\t F141.Wood.Sandpiper              & 9dabdedada5e83148f6d4bff9d7bddcb & 0.04009052                       & 0.04000270                       & 0.0006565752                     & 1.637732                         & Bacteria                         & Proteobacteria                   & Gammaproteobacteria              & Enterobacteriales                & Enterobacteriaceae               & unclassified                     & unclassified                     & Aves                             & Charadriiformes                  & Scolopacidae                     & Tringa                           & Tringa\\_glareola                & carnivore                        & 0.4100940                       \\\\\n",
       "\t F141.Wood.Sandpiper              & ab6bc0116bcfefcbeb981d83cd525034 & 0.04008948                       & 0.04000235                       & 0.0006552443                     & 1.634454                         & Bacteria                         & Proteobacteria                   & Gammaproteobacteria              & Enterobacteriales                & Enterobacteriaceae               & Escherichia-Shigella             & unclassified                     & Aves                             & Charadriiformes                  & Scolopacidae                     & Tringa                           & Tringa\\_glareola                & carnivore                        & 0.4100768                       \\\\\n",
       "\\end{tabular}\n"
      ],
      "text/markdown": [
       "\n",
       "host | microbe | mean_resid | median_resid | sd_resid | CV_resid | Domain | Phylum | Class | Order | Family | Genus | Species | class | order | family | genus | scientific_name | diet | phy_resid | \n",
       "|---|---|---|\n",
       "| F141.Wood.Sandpiper              | 8ed6829bdf1df9cdc26ac7a3d1182018 | 0.03998941                       | 0.03990165                       | 0.0006542785                     | 1.636129                         | Bacteria                         | Proteobacteria                   | Gammaproteobacteria              | Enterobacteriales                | Enterobacteriaceae               | Citrobacter                      | unclassified                     | Aves                             | Charadriiformes                  | Scolopacidae                     | Tringa                           | Tringa_glareola                  | carnivore                        | 0.4084284                        | \n",
       "| F141.Wood.Sandpiper              | 9dabdedada5e83148f6d4bff9d7bddcb | 0.04009052                       | 0.04000270                       | 0.0006565752                     | 1.637732                         | Bacteria                         | Proteobacteria                   | Gammaproteobacteria              | Enterobacteriales                | Enterobacteriaceae               | unclassified                     | unclassified                     | Aves                             | Charadriiformes                  | Scolopacidae                     | Tringa                           | Tringa_glareola                  | carnivore                        | 0.4100940                        | \n",
       "| F141.Wood.Sandpiper              | ab6bc0116bcfefcbeb981d83cd525034 | 0.04008948                       | 0.04000235                       | 0.0006552443                     | 1.634454                         | Bacteria                         | Proteobacteria                   | Gammaproteobacteria              | Enterobacteriales                | Enterobacteriaceae               | Escherichia-Shigella             | unclassified                     | Aves                             | Charadriiformes                  | Scolopacidae                     | Tringa                           | Tringa_glareola                  | carnivore                        | 0.4100768                        | \n",
       "\n",
       "\n"
      ],
      "text/plain": [
       "  host                microbe                          mean_resid median_resid\n",
       "1 F141.Wood.Sandpiper 8ed6829bdf1df9cdc26ac7a3d1182018 0.03998941 0.03990165  \n",
       "2 F141.Wood.Sandpiper 9dabdedada5e83148f6d4bff9d7bddcb 0.04009052 0.04000270  \n",
       "3 F141.Wood.Sandpiper ab6bc0116bcfefcbeb981d83cd525034 0.04008948 0.04000235  \n",
       "  sd_resid     CV_resid Domain   Phylum         Class              \n",
       "1 0.0006542785 1.636129 Bacteria Proteobacteria Gammaproteobacteria\n",
       "2 0.0006565752 1.637732 Bacteria Proteobacteria Gammaproteobacteria\n",
       "3 0.0006552443 1.634454 Bacteria Proteobacteria Gammaproteobacteria\n",
       "  Order             Family             Genus                Species      class\n",
       "1 Enterobacteriales Enterobacteriaceae Citrobacter          unclassified Aves \n",
       "2 Enterobacteriales Enterobacteriaceae unclassified         unclassified Aves \n",
       "3 Enterobacteriales Enterobacteriaceae Escherichia-Shigella unclassified Aves \n",
       "  order           family       genus  scientific_name diet      phy_resid\n",
       "1 Charadriiformes Scolopacidae Tringa Tringa_glareola carnivore 0.4084284\n",
       "2 Charadriiformes Scolopacidae Tringa Tringa_glareola carnivore 0.4100940\n",
       "3 Charadriiformes Scolopacidae Tringa Tringa_glareola carnivore 0.4100768"
      ]
     },
     "metadata": {},
     "output_type": "display_data"
    }
   ],
   "source": [
    "x = lm(mean_resid ~ diet, data=D_links_l)\n",
    "D_links_l$phy_resid = x$residuals %>% scales::rescale(to=c(0,1))\n",
    "D_links_l %>% status"
   ]
  },
  {
   "cell_type": "code",
   "execution_count": 84,
   "metadata": {
    "ExecuteTime": {
     "end_time": "2018-07-18T12:43:48.898017Z",
     "start_time": "2018-07-18T12:43:33.887Z"
    }
   },
   "outputs": [
    {
     "name": "stdout",
     "output_type": "stream",
     "text": [
      "File written: /ebio/abt3_projects/Georg_animal_feces/data/host_specific/pcao/host_TT/.figures/IndD_sens-noArtio_phy-resid_class-family.pdf \n"
     ]
    },
    {
     "data": {
      "image/png": "[encoded data removed]",
      "text/plain": [
       "plot without title"
      ]
     },
     "metadata": {},
     "output_type": "display_data"
    }
   ],
   "source": [
    "tmp = D_links_l %>% \n",
    "    group_by(family) %>%\n",
    "    mutate(median_resid = median(phy_resid)) %>%\n",
    "    ungroup() %>%\n",
    "    group_by(class) %>%\n",
    "    mutate(median_resid_class = median(phy_resid)) %>%\n",
    "    ungroup() %>%   \n",
    "    mutate(class = gsub('Actinopterygii', 'Actino-\\npterygii', class),\n",
    "           class = gsub('Amphibia', 'Amph-\\nibia', class),\n",
    "           family = family %>% reorder(-median_resid),\n",
    "           class = class %>% reorder(-median_resid_class))\n",
    "\n",
    "p = ggplot(tmp, aes(family, phy_resid)) +\n",
    "    geom_boxplot() +\n",
    "    labs(x='Family', y='Residuals') +\n",
    "    theme_bw() +\n",
    "    facet_grid(. ~ class, scales='free_x', space='free_x')+\n",
    "    theme(\n",
    "        axis.text.x = element_text(angle=65, hjust=1)\n",
    "    )\n",
    "\n",
    "options(repr.plot.width=9.5, repr.plot.height=4)\n",
    "plot_write(p, file='IndD_sens-noArtio_phy-resid_class-family.pdf')"
   ]
  },
  {
   "cell_type": "markdown",
   "metadata": {},
   "source": [
    "### Formatting for iTOL"
   ]
  },
  {
   "cell_type": "code",
   "execution_count": 86,
   "metadata": {
    "ExecuteTime": {
     "end_time": "2018-07-18T12:43:54.011189Z",
     "start_time": "2018-07-18T12:43:53.782Z"
    }
   },
   "outputs": [
    {
     "name": "stdout",
     "output_type": "stream",
     "text": [
      "[1] 110 244\n"
     ]
    },
    {
     "data": {
      "text/html": [
       "<table>\n",
       "<thead><tr><th></th><th scope=col>Acinetobacter_SV101</th><th scope=col>Acinetobacter_SV102</th><th scope=col>Acinetobacter_SV117</th><th scope=col>Acinetobacter_SV136</th><th scope=col>Acinetobacter_SV186</th><th scope=col>Acinetobacter_SV222</th><th scope=col>Acinetobacter_SV85</th><th scope=col>Aeromonas_SV214</th><th scope=col>Akkermansia_SV16</th><th scope=col>Alistipes_SV103</th><th scope=col>⋯</th><th scope=col>uncultured_SV77</th><th scope=col>uncultured_SV82</th><th scope=col>uncultured_SV84</th><th scope=col>uncultured_SV86</th><th scope=col>uncultured_SV90</th><th scope=col>uncultured_SV92</th><th scope=col>uncultured_SV93</th><th scope=col>uncultured_SV94</th><th scope=col>uncultured_SV97</th><th scope=col>uncultured_SV98</th></tr></thead>\n",
       "<tbody>\n",
       "\t<tr><th scope=row>Acrocephalus_scirpaceus</th><td>NA        </td><td>NA        </td><td>NA        </td><td>NA        </td><td>NA        </td><td>        NA</td><td>NA        </td><td>NA        </td><td>NA        </td><td>NA        </td><td>⋯         </td><td>NA        </td><td>NA        </td><td>NA        </td><td>NA        </td><td>NA        </td><td>NA        </td><td>NA        </td><td>NA        </td><td>NA        </td><td>NA        </td></tr>\n",
       "\t<tr><th scope=row>Anas_platyrhynchos</th><td>NA        </td><td>NA        </td><td>NA        </td><td>NA        </td><td>NA        </td><td>        NA</td><td>NA        </td><td>NA        </td><td>NA        </td><td>NA        </td><td>⋯         </td><td>NA        </td><td>NA        </td><td>NA        </td><td>NA        </td><td>NA        </td><td>NA        </td><td>NA        </td><td>NA        </td><td>NA        </td><td>NA        </td></tr>\n",
       "\t<tr><th scope=row>Anser_anser</th><td>NA        </td><td>NA        </td><td>NA        </td><td>NA        </td><td>NA        </td><td>0.03984766</td><td>NA        </td><td>NA        </td><td>NA        </td><td>NA        </td><td>⋯         </td><td>NA        </td><td>NA        </td><td>NA        </td><td>NA        </td><td>NA        </td><td>NA        </td><td>NA        </td><td>NA        </td><td>NA        </td><td>NA        </td></tr>\n",
       "</tbody>\n",
       "</table>\n"
      ],
      "text/latex": [
       "\\begin{tabular}{r|llllllllllllllllllllllllllllllllllllllllllllllllllllllllllllllllllllllllllllllllllllllllllllllllllllllllllllllllllllllllllllllllllllllllllllllllllllllllllllllllllllllllllllllllllllllllllllllllllllllllllllllllllllllllllllllllllllllllllllllllllll}\n",
       "  & Acinetobacter\\_SV101 & Acinetobacter\\_SV102 & Acinetobacter\\_SV117 & Acinetobacter\\_SV136 & Acinetobacter\\_SV186 & Acinetobacter\\_SV222 & Acinetobacter\\_SV85 & Aeromonas\\_SV214 & Akkermansia\\_SV16 & Alistipes\\_SV103 & ⋯ & uncultured\\_SV77 & uncultured\\_SV82 & uncultured\\_SV84 & uncultured\\_SV86 & uncultured\\_SV90 & uncultured\\_SV92 & uncultured\\_SV93 & uncultured\\_SV94 & uncultured\\_SV97 & uncultured\\_SV98\\\\\n",
       "\\hline\n",
       "\tAcrocephalus\\_scirpaceus & NA         & NA         & NA         & NA         & NA         &         NA & NA         & NA         & NA         & NA         & ⋯          & NA         & NA         & NA         & NA         & NA         & NA         & NA         & NA         & NA         & NA        \\\\\n",
       "\tAnas\\_platyrhynchos & NA         & NA         & NA         & NA         & NA         &         NA & NA         & NA         & NA         & NA         & ⋯          & NA         & NA         & NA         & NA         & NA         & NA         & NA         & NA         & NA         & NA        \\\\\n",
       "\tAnser\\_anser & NA         & NA         & NA         & NA         & NA         & 0.03984766 & NA         & NA         & NA         & NA         & ⋯          & NA         & NA         & NA         & NA         & NA         & NA         & NA         & NA         & NA         & NA        \\\\\n",
       "\\end{tabular}\n"
      ],
      "text/markdown": [
       "\n",
       "| <!--/--> | Acinetobacter_SV101 | Acinetobacter_SV102 | Acinetobacter_SV117 | Acinetobacter_SV136 | Acinetobacter_SV186 | Acinetobacter_SV222 | Acinetobacter_SV85 | Aeromonas_SV214 | Akkermansia_SV16 | Alistipes_SV103 | ⋯ | uncultured_SV77 | uncultured_SV82 | uncultured_SV84 | uncultured_SV86 | uncultured_SV90 | uncultured_SV92 | uncultured_SV93 | uncultured_SV94 | uncultured_SV97 | uncultured_SV98 | \n",
       "|---|---|---|\n",
       "| Acrocephalus_scirpaceus | NA         | NA         | NA         | NA         | NA         |         NA | NA         | NA         | NA         | NA         | ⋯          | NA         | NA         | NA         | NA         | NA         | NA         | NA         | NA         | NA         | NA         | \n",
       "| Anas_platyrhynchos | NA         | NA         | NA         | NA         | NA         |         NA | NA         | NA         | NA         | NA         | ⋯          | NA         | NA         | NA         | NA         | NA         | NA         | NA         | NA         | NA         | NA         | \n",
       "| Anser_anser | NA         | NA         | NA         | NA         | NA         | 0.03984766 | NA         | NA         | NA         | NA         | ⋯          | NA         | NA         | NA         | NA         | NA         | NA         | NA         | NA         | NA         | NA         | \n",
       "\n",
       "\n"
      ],
      "text/plain": [
       "                        Acinetobacter_SV101 Acinetobacter_SV102\n",
       "Acrocephalus_scirpaceus NA                  NA                 \n",
       "Anas_platyrhynchos      NA                  NA                 \n",
       "Anser_anser             NA                  NA                 \n",
       "                        Acinetobacter_SV117 Acinetobacter_SV136\n",
       "Acrocephalus_scirpaceus NA                  NA                 \n",
       "Anas_platyrhynchos      NA                  NA                 \n",
       "Anser_anser             NA                  NA                 \n",
       "                        Acinetobacter_SV186 Acinetobacter_SV222\n",
       "Acrocephalus_scirpaceus NA                          NA         \n",
       "Anas_platyrhynchos      NA                          NA         \n",
       "Anser_anser             NA                  0.03984766         \n",
       "                        Acinetobacter_SV85 Aeromonas_SV214 Akkermansia_SV16\n",
       "Acrocephalus_scirpaceus NA                 NA              NA              \n",
       "Anas_platyrhynchos      NA                 NA              NA              \n",
       "Anser_anser             NA                 NA              NA              \n",
       "                        Alistipes_SV103 ⋯ uncultured_SV77 uncultured_SV82\n",
       "Acrocephalus_scirpaceus NA              ⋯ NA              NA             \n",
       "Anas_platyrhynchos      NA              ⋯ NA              NA             \n",
       "Anser_anser             NA              ⋯ NA              NA             \n",
       "                        uncultured_SV84 uncultured_SV86 uncultured_SV90\n",
       "Acrocephalus_scirpaceus NA              NA              NA             \n",
       "Anas_platyrhynchos      NA              NA              NA             \n",
       "Anser_anser             NA              NA              NA             \n",
       "                        uncultured_SV92 uncultured_SV93 uncultured_SV94\n",
       "Acrocephalus_scirpaceus NA              NA              NA             \n",
       "Anas_platyrhynchos      NA              NA              NA             \n",
       "Anser_anser             NA              NA              NA             \n",
       "                        uncultured_SV97 uncultured_SV98\n",
       "Acrocephalus_scirpaceus NA              NA             \n",
       "Anas_platyrhynchos      NA              NA             \n",
       "Anser_anser             NA              NA             "
      ]
     },
     "metadata": {},
     "output_type": "display_data"
    }
   ],
   "source": [
    "otu_m = D_links_l %>%\n",
    "    mutate(host = gsub(' ', '_', scientific_name)) %>%\n",
    "    group_by(host, Genus, microbe) %>%\n",
    "    #summarize(mean_resid = mean(phy_resid, na.rm=TRUE)) %>%\n",
    "    summarize(mean_resid = mean(mean_resid, na.rm=TRUE)) %>%\n",
    "    ungroup() %>%\n",
    "    mutate(microbe = microbe %>% as.factor %>% as.numeric,\n",
    "           microbe = gsub('^', 'SV', microbe)) %>%\n",
    "    unite(OTU, Genus, microbe) %>%\n",
    "    filter(!grepl('^_SV', OTU)) %>%\n",
    "    dplyr::select(host, OTU, mean_resid) %>%\n",
    "    spread(OTU, mean_resid) %>%\n",
    "    as.data.frame\n",
    "\n",
    "rownames(otu_m) = otu_m$host \n",
    "otu_m$host = NULL\n",
    "rownames(otu_m) = gsub('^X', '', rownames(otu_m))\n",
    "\n",
    "otu_m %>% status"
   ]
  },
  {
   "cell_type": "code",
   "execution_count": 87,
   "metadata": {
    "ExecuteTime": {
     "end_time": "2018-07-18T12:43:54.651123Z",
     "start_time": "2018-07-18T12:43:54.589Z"
    }
   },
   "outputs": [],
   "source": [
    "# checking overlap with host clado tips\n",
    "#host_tree = read.tree(host_tree_file)\n",
    "#setdiff(host_tree$tip.label, rownames(otu_m)) %>% print\n",
    "#setdiff(rownames(otu_m), host_tree$tip.label) %>% print"
   ]
  },
  {
   "cell_type": "code",
   "execution_count": 88,
   "metadata": {
    "ExecuteTime": {
     "end_time": "2018-07-18T12:43:54.890833Z",
     "start_time": "2018-07-18T12:43:54.702Z"
    }
   },
   "outputs": [
    {
     "name": "stdout",
     "output_type": "stream",
     "text": [
      "File written: /ebio/abt3_projects/Georg_animal_feces/data/host_specific/pcao/host_TT//physeq_IndD-sens-noArtio_PACo-Con-links_htmp.txt \n"
     ]
    }
   ],
   "source": [
    "itol_htmp_file = file.path(work_dir, 'physeq_IndD-sens-noArtio_PACo-Con-links_htmp.txt')\n",
    "labs = gsub(' ', '_', colnames(otu_m))\n",
    "labs = sprintf('FIELD_LABELS %s\\n', paste(labs, collapse=' '))\n",
    "\n",
    "cat('DATASET_HEATMAP\\n', file=itol_htmp_file)\n",
    "cat('SEPARATOR SPACE\\n', file=itol_htmp_file, append=TRUE)\n",
    "cat('DATASET_LABEL paco_residuals\\n', file=itol_htmp_file, append=TRUE)\n",
    "cat('COLOR #ff0000\\n', file=itol_htmp_file, append=TRUE)\n",
    "cat(labs, file=itol_htmp_file, append=TRUE)\n",
    "cat('DATA\\n', file=itol_htmp_file, append=TRUE)\n",
    "write.table(otu_m, file=itol_htmp_file, append=TRUE, sep=' ', \n",
    "            quote=FALSE, col.names=FALSE)\n",
    "cat('File written:', itol_htmp_file, '\\n')"
   ]
  },
  {
   "cell_type": "markdown",
   "metadata": {},
   "source": [
    "#### iTOL: distribution of residuals per host species"
   ]
  },
  {
   "cell_type": "code",
   "execution_count": 89,
   "metadata": {
    "ExecuteTime": {
     "end_time": "2018-07-18T12:44:04.956743Z",
     "start_time": "2018-07-18T12:44:04.752Z"
    }
   },
   "outputs": [
    {
     "name": "stdout",
     "output_type": "stream",
     "text": [
      "[1] 110   6\n"
     ]
    },
    {
     "data": {
      "text/html": [
       "<table>\n",
       "<thead><tr><th scope=col>host</th><th scope=col>minimum</th><th scope=col>q1</th><th scope=col>median</th><th scope=col>q3</th><th scope=col>maximum</th></tr></thead>\n",
       "<tbody>\n",
       "\t<tr><td>Acrocephalus_scirpaceus</td><td>0.03880129             </td><td>0.03892184             </td><td>0.03904179             </td><td>0.03904179             </td><td>0.04006756             </td></tr>\n",
       "\t<tr><td>Anas_platyrhynchos     </td><td>0.03946761             </td><td>0.04013735             </td><td>0.04039186             </td><td>0.04246790             </td><td>0.04252743             </td></tr>\n",
       "\t<tr><td>Anser_anser            </td><td>0.03984766             </td><td>0.04020984             </td><td>0.04030494             </td><td>0.04065160             </td><td>0.04253367             </td></tr>\n",
       "</tbody>\n",
       "</table>\n"
      ],
      "text/latex": [
       "\\begin{tabular}{r|llllll}\n",
       " host & minimum & q1 & median & q3 & maximum\\\\\n",
       "\\hline\n",
       "\t Acrocephalus\\_scirpaceus & 0.03880129                & 0.03892184                & 0.03904179                & 0.03904179                & 0.04006756               \\\\\n",
       "\t Anas\\_platyrhynchos      & 0.03946761                & 0.04013735                & 0.04039186                & 0.04246790                & 0.04252743               \\\\\n",
       "\t Anser\\_anser             & 0.03984766                & 0.04020984                & 0.04030494                & 0.04065160                & 0.04253367               \\\\\n",
       "\\end{tabular}\n"
      ],
      "text/markdown": [
       "\n",
       "host | minimum | q1 | median | q3 | maximum | \n",
       "|---|---|---|\n",
       "| Acrocephalus_scirpaceus | 0.03880129              | 0.03892184              | 0.03904179              | 0.03904179              | 0.04006756              | \n",
       "| Anas_platyrhynchos      | 0.03946761              | 0.04013735              | 0.04039186              | 0.04246790              | 0.04252743              | \n",
       "| Anser_anser             | 0.03984766              | 0.04020984              | 0.04030494              | 0.04065160              | 0.04253367              | \n",
       "\n",
       "\n"
      ],
      "text/plain": [
       "  host                    minimum    q1         median     q3        \n",
       "1 Acrocephalus_scirpaceus 0.03880129 0.03892184 0.03904179 0.03904179\n",
       "2 Anas_platyrhynchos      0.03946761 0.04013735 0.04039186 0.04246790\n",
       "3 Anser_anser             0.03984766 0.04020984 0.04030494 0.04065160\n",
       "  maximum   \n",
       "1 0.04006756\n",
       "2 0.04252743\n",
       "3 0.04253367"
      ]
     },
     "metadata": {},
     "output_type": "display_data"
    }
   ],
   "source": [
    "# summing residuals by host\n",
    "#ID1,minimum,q1,median,q3,maximum,extreme_value1,extreme_value2\n",
    "tmp = D_links_l %>%\n",
    "    #mutate(mean_resid = phy_resid) %>%    # diet regressed out\n",
    "    filter(!is.na(mean_resid)) %>%\n",
    "    mutate(host = gsub(' ', '_', scientific_name)) %>%\n",
    "    group_by(host, Genus, microbe) %>%\n",
    "    summarize(mean_resid = mean(mean_resid, na.rm=TRUE)) %>%\n",
    "    ungroup() %>%\n",
    "    group_by(host) %>%\n",
    "    summarize(minimum = min(mean_resid),\n",
    "              q1 = quantile(mean_resid, 0.25),\n",
    "              median = median(mean_resid),\n",
    "              q3 = quantile(mean_resid, 0.75),\n",
    "              maximum = max(mean_resid)) %>%\n",
    "    ungroup() \n",
    "\n",
    "\n",
    "tmp %>% status"
   ]
  },
  {
   "cell_type": "code",
   "execution_count": 90,
   "metadata": {
    "ExecuteTime": {
     "end_time": "2018-07-18T12:44:05.757279Z",
     "start_time": "2018-07-18T12:44:05.631Z"
    }
   },
   "outputs": [
    {
     "name": "stdout",
     "output_type": "stream",
     "text": [
      "File written: /ebio/abt3_projects/Georg_animal_feces/data/host_specific/pcao/host_TT//physeq_IndD-sens-noArtio_PACo-Con-links_box.txt \n"
     ]
    }
   ],
   "source": [
    "itol_box_file = file.path(work_dir, 'physeq_IndD-sens-noArtio_PACo-Con-links_box.txt')\n",
    "\n",
    "cat('DATASET_BOXPLOT\\n', file=itol_box_file)\n",
    "cat('SEPARATOR SPACE\\n', file=itol_box_file, append=TRUE)\n",
    "cat('DATASET_LABEL paco_resid_noArtio\\n', file=itol_box_file, append=TRUE)\n",
    "cat('COLOR #ff0000\\n', file=itol_box_file, append=TRUE)\n",
    "cat('DATA\\n', file=itol_box_file, append=TRUE)\n",
    "write.table(tmp, file=itol_box_file, append=TRUE, sep=' ', \n",
    "            quote=FALSE, row.names=FALSE, col.names=FALSE)\n",
    "cat('File written:', itol_box_file, '\\n')"
   ]
  },
  {
   "cell_type": "markdown",
   "metadata": {},
   "source": [
    "# sessionInfo"
   ]
  },
  {
   "cell_type": "code",
   "execution_count": 91,
   "metadata": {
    "ExecuteTime": {
     "end_time": "2018-07-18T12:44:08.336765Z",
     "start_time": "2018-07-18T12:44:06.462Z"
    }
   },
   "outputs": [
    {
     "data": {
      "text/plain": [
       "R version 3.4.1 (2017-06-30)\n",
       "Platform: x86_64-pc-linux-gnu (64-bit)\n",
       "Running under: Ubuntu 16.04.4 LTS\n",
       "\n",
       "Matrix products: default\n",
       "BLAS: /ebio/abt3_projects/software/miniconda3/envs/py3_physeq_phylo/lib/R/lib/libRblas.so\n",
       "LAPACK: /ebio/abt3_projects/software/miniconda3/envs/py3_physeq_phylo/lib/R/lib/libRlapack.so\n",
       "\n",
       "locale:\n",
       " [1] LC_CTYPE=en_US.UTF-8       LC_NUMERIC=C              \n",
       " [3] LC_TIME=en_US.UTF-8        LC_COLLATE=en_US.UTF-8    \n",
       " [5] LC_MONETARY=en_US.UTF-8    LC_MESSAGES=en_US.UTF-8   \n",
       " [7] LC_PAPER=en_US.UTF-8       LC_NAME=C                 \n",
       " [9] LC_ADDRESS=C               LC_TELEPHONE=C            \n",
       "[11] LC_MEASUREMENT=en_US.UTF-8 LC_IDENTIFICATION=C       \n",
       "\n",
       "attached base packages:\n",
       "[1] stats     graphics  grDevices utils     datasets  methods   base     \n",
       "\n",
       "other attached packages:\n",
       " [1] bindrcpp_0.2            future.apply_1.0.0      future.batchtools_0.7.0\n",
       " [4] future_1.8.1            paco_0.3.2              ape_5.1                \n",
       " [7] phyloseq_1.22.3         stringr_1.2.0           ggplot2_2.2.1          \n",
       "[10] tidyr_0.8.1             dplyr_0.7.4            \n",
       "\n",
       "loaded via a namespace (and not attached):\n",
       " [1] Biobase_2.38.0      jsonlite_1.5        splines_3.4.1      \n",
       " [4] foreach_1.4.4       assertthat_0.2.0    stats4_3.4.1       \n",
       " [7] base64url_1.3       progress_1.1.2      globals_0.12.1     \n",
       "[10] pillar_1.2.2        backports_1.1.2     lattice_0.20-35    \n",
       "[13] glue_1.2.0          uuid_0.1-2          digest_0.6.13      \n",
       "[16] XVector_0.18.0      checkmate_1.8.5     colorspace_1.3-2   \n",
       "[19] htmltools_0.3.6     Matrix_1.2-14       plyr_1.8.4         \n",
       "[22] pkgconfig_2.0.1     listenv_0.7.0       zlibbioc_1.24.0    \n",
       "[25] purrr_0.2.4         scales_0.5.0        brew_1.0-6         \n",
       "[28] tibble_1.4.2        mgcv_1.8-17         IRanges_2.12.0     \n",
       "[31] withr_2.1.1         repr_0.13           BiocGenerics_0.24.0\n",
       "[34] lazyeval_0.2.1      survival_2.40-1     magrittr_1.5       \n",
       "[37] crayon_1.3.4        evaluate_0.10.1     doParallel_1.0.11  \n",
       "[40] nlme_3.1-137        MASS_7.3-48         vegan_2.4-3        \n",
       "[43] prettyunits_1.0.2   tools_3.4.1         data.table_1.11.4  \n",
       "[46] S4Vectors_0.16.0    munsell_0.4.3       cluster_2.0.6      \n",
       "[49] Biostrings_2.46.0   ade4_1.7-10         compiler_3.4.1     \n",
       "[52] rlang_0.2.0         rhdf5_2.22.0        grid_3.4.1         \n",
       "[55] pbdZMQ_0.3-1        iterators_1.0.9     IRkernel_0.8.11    \n",
       "[58] biomformat_1.6.0    rappdirs_0.3.1      igraph_1.2.1       \n",
       "[61] labeling_0.3        base64enc_0.1-3     gtable_0.2.0       \n",
       "[64] codetools_0.2-15    multtest_2.34.0     reshape2_1.4.3     \n",
       "[67] R6_2.2.2            bindr_0.1.1         permute_0.9-4      \n",
       "[70] stringi_1.1.6       parallel_3.4.1      IRdisplay_0.4.4    \n",
       "[73] Rcpp_0.12.14        tidyselect_0.2.4    batchtools_0.9.8   "
      ]
     },
     "metadata": {},
     "output_type": "display_data"
    }
   ],
   "source": [
    "sessionInfo()"
   ]
  },
  {
   "cell_type": "code",
   "execution_count": null,
   "metadata": {},
   "outputs": [],
   "source": []
  }
 ],
 "metadata": {
  "kernelspec": {
   "display_name": "R [conda env:py3_physeq_phylo]",
   "language": "R",
   "name": "conda-env-py3_physeq_phylo-r"
  },
  "language_info": {
   "codemirror_mode": "r",
   "file_extension": ".r",
   "mimetype": "text/x-r-source",
   "name": "R",
   "pygments_lexer": "r",
   "version": "3.4.1"
  },
  "notify_time": "30",
  "toc": {
   "base_numbering": 1,
   "nav_menu": {},
   "number_sections": true,
   "sideBar": true,
   "skip_h1_title": false,
   "title_cell": "Table of Contents",
   "title_sidebar": "Contents",
   "toc_cell": false,
   "toc_position": {
    "height": "1209px",
    "left": "0px",
    "right": "1068px",
    "top": "111px",
    "width": "212px"
   },
   "toc_section_display": "block",
   "toc_window_display": true
  }
 },
 "nbformat": 4,
 "nbformat_minor": 2
}
