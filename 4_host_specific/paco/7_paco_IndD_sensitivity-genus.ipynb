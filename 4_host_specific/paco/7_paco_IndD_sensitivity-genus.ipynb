{
 "cells": [
  {
   "cell_type": "markdown",
   "metadata": {},
   "source": [
    "# Goal\n",
    "\n",
    "* Run `paco` analysis on IndD dataset summed by host\n",
    "* Sensitivity analysis (genus-level): selecting one sample per genus"
   ]
  },
  {
   "cell_type": "markdown",
   "metadata": {},
   "source": [
    "# Var"
   ]
  },
  {
   "cell_type": "code",
   "execution_count": 1,
   "metadata": {
    "ExecuteTime": {
     "end_time": "2018-09-04T10:56:57.017888Z",
     "start_time": "2018-09-04T10:57:01.787Z"
    }
   },
   "outputs": [],
   "source": [
    "work_dir = '/ebio/abt3_projects/Georg_animal_feces/data/host_specific/pcao/host_TT/'\n",
    "\n",
    "# phyloseq\n",
    "physeq_file = '/ebio/abt3_projects/Georg_animal_feces/data/16S/LLA/phyloseq/physeq_r5k.RDS'\n",
    "\n",
    "# host phylogeny\n",
    "host_tree_file = '/ebio/abt3_projects/Georg_animal_feces/data/animal/phylogeny/TT/unified_metadata_complete_20180625_rn_16S-r5k_IndD.nwk'\n",
    "\n",
    "# misc\n",
    "sparsity_cutoff = 0.05\n",
    "threads = 12"
   ]
  },
  {
   "cell_type": "markdown",
   "metadata": {},
   "source": [
    "# Init"
   ]
  },
  {
   "cell_type": "code",
   "execution_count": 2,
   "metadata": {
    "ExecuteTime": {
     "end_time": "2018-09-04T10:57:11.399128Z",
     "start_time": "2018-09-04T10:57:03.218Z"
    }
   },
   "outputs": [
    {
     "name": "stderr",
     "output_type": "stream",
     "text": [
      "\n",
      "Attaching package: ‘dplyr’\n",
      "\n",
      "The following objects are masked from ‘package:stats’:\n",
      "\n",
      "    filter, lag\n",
      "\n",
      "The following objects are masked from ‘package:base’:\n",
      "\n",
      "    intersect, setdiff, setequal, union\n",
      "\n",
      "\n",
      "Attaching package: ‘future.apply’\n",
      "\n",
      "The following object is masked from ‘package:future’:\n",
      "\n",
      "    future_lapply\n",
      "\n"
     ]
    }
   ],
   "source": [
    "library(dplyr)\n",
    "library(tidyr)\n",
    "library(ggplot2)\n",
    "library(stringr)\n",
    "library(phyloseq)\n",
    "library(ape)\n",
    "library(paco)\n",
    "\n",
    "library(future)\n",
    "library(future.batchtools)\n",
    "library(future.apply)\n",
    "\n",
    "source('/ebio/abt3_projects/Georg_animal_feces/code/init.R') "
   ]
  },
  {
   "cell_type": "code",
   "execution_count": 3,
   "metadata": {
    "ExecuteTime": {
     "end_time": "2018-09-04T10:57:11.719109Z",
     "start_time": "2018-09-04T10:57:11.385Z"
    }
   },
   "outputs": [
    {
     "name": "stdout",
     "output_type": "stream",
     "text": [
      "Directory already exists: /ebio/abt3_projects/Georg_animal_feces/data/host_specific/pcao/host_TT/ \n"
     ]
    }
   ],
   "source": [
    "make_dir(work_dir)\n",
    "setwd(work_dir)"
   ]
  },
  {
   "cell_type": "code",
   "execution_count": 4,
   "metadata": {
    "ExecuteTime": {
     "end_time": "2018-09-04T10:57:11.748296Z",
     "start_time": "2018-09-04T10:57:11.478Z"
    }
   },
   "outputs": [],
   "source": [
    "rescale_dist_mtx = function(m){\n",
    "    m = m %>% as.matrix\n",
    "    labs = m %>% colnames\n",
    "    n_row = m %>% nrow\n",
    "    n_col = m %>% ncol\n",
    "    x = m %>% as.vector \n",
    "    x = scales::rescale(x) \n",
    "    m = matrix(x, nrow=n_row, ncol=n_col)\n",
    "    colnames(m) = labs\n",
    "    rownames(m) = labs\n",
    "    m = m %>% as.dist\n",
    "    return(m)\n",
    "}"
   ]
  },
  {
   "cell_type": "markdown",
   "metadata": {},
   "source": [
    "# Load"
   ]
  },
  {
   "cell_type": "code",
   "execution_count": 5,
   "metadata": {
    "ExecuteTime": {
     "end_time": "2018-09-04T10:57:13.016913Z",
     "start_time": "2018-09-04T10:57:12.494Z"
    }
   },
   "outputs": [
    {
     "data": {
      "text/plain": [
       "phyloseq-class experiment-level object\n",
       "otu_table()   OTU Table:         [ 30290 taxa and 213 samples ]\n",
       "sample_data() Sample Data:       [ 213 samples by 171 sample variables ]\n",
       "tax_table()   Taxonomy Table:    [ 30290 taxa by 7 taxonomic ranks ]\n",
       "phy_tree()    Phylogenetic Tree: [ 30290 tips and 29752 internal nodes ]"
      ]
     },
     "metadata": {},
     "output_type": "display_data"
    }
   ],
   "source": [
    "physeq = readRDS(physeq_file)\n",
    "physeq"
   ]
  },
  {
   "cell_type": "code",
   "execution_count": 6,
   "metadata": {
    "ExecuteTime": {
     "end_time": "2018-09-04T10:57:16.639796Z",
     "start_time": "2018-09-04T10:57:12.623Z"
    }
   },
   "outputs": [
    {
     "data": {
      "text/plain": [
       "phyloseq-class experiment-level object\n",
       "otu_table()   OTU Table:         [ 408 taxa and 213 samples ]\n",
       "sample_data() Sample Data:       [ 213 samples by 171 sample variables ]\n",
       "tax_table()   Taxonomy Table:    [ 408 taxa by 7 taxonomic ranks ]\n",
       "phy_tree()    Phylogenetic Tree: [ 408 tips and 406 internal nodes ]"
      ]
     },
     "metadata": {},
     "output_type": "display_data"
    }
   ],
   "source": [
    "physeq = physeq %>%\n",
    "    filter_taxa(function(x) sum(x > 0) / length(x) > sparsity_cutoff, TRUE) \n",
    "physeq"
   ]
  },
  {
   "cell_type": "code",
   "execution_count": 7,
   "metadata": {
    "ExecuteTime": {
     "end_time": "2018-09-04T10:57:16.683374Z",
     "start_time": "2018-09-04T10:57:13.095Z"
    }
   },
   "outputs": [
    {
     "data": {
      "text/plain": [
       "\n",
       "Phylogenetic tree with 213 tips and 177 internal nodes.\n",
       "\n",
       "Tip labels:\n",
       "\tX256.Zander, F302.Northern.Pike, X188.Brook.Trout, F300.Asp, X330.Ide, X327.Silver.Bream, ...\n",
       "Node labels:\n",
       "\tNode1, Node2, Node3, Node4, Node5, Node6, ...\n",
       "\n",
       "Rooted; includes branch lengths."
      ]
     },
     "metadata": {},
     "output_type": "display_data"
    }
   ],
   "source": [
    "host_tree = read.tree(host_tree_file)\n",
    "host_tree"
   ]
  },
  {
   "cell_type": "markdown",
   "metadata": {},
   "source": [
    "# Filtering dataset"
   ]
  },
  {
   "cell_type": "markdown",
   "metadata": {},
   "source": [
    "## OTU table"
   ]
  },
  {
   "cell_type": "code",
   "execution_count": 8,
   "metadata": {
    "ExecuteTime": {
     "end_time": "2018-09-04T10:57:16.722740Z",
     "start_time": "2018-09-04T10:57:14.568Z"
    }
   },
   "outputs": [
    {
     "data": {
      "text/plain": [
       "   Min. 1st Qu.  Median    Mean 3rd Qu.    Max. \n",
       "      0     210    1172    1453    2538    4995 "
      ]
     },
     "metadata": {},
     "output_type": "display_data"
    }
   ],
   "source": [
    "physeq %>%\n",
    "    otu_table %>% \n",
    "    colSums %>%\n",
    "    summary"
   ]
  },
  {
   "cell_type": "code",
   "execution_count": 10,
   "metadata": {
    "ExecuteTime": {
     "end_time": "2018-09-04T10:57:21.804445Z",
     "start_time": "2018-09-04T10:57:26.967Z"
    }
   },
   "outputs": [
    {
     "name": "stderr",
     "output_type": "stream",
     "text": [
      "Warning message in class(x) <- c(subclass, \"tbl_df\", \"tbl\", \"data.frame\"):\n",
      "“Setting class(x) to multiple strings (\"tbl_df\", \"tbl\", ...); result will no longer be an S4 object”"
     ]
    },
    {
     "name": "stdout",
     "output_type": "stream",
     "text": [
      "[1] 213   3\n"
     ]
    },
    {
     "data": {
      "text/html": [
       "<table>\n",
       "<thead><tr><th></th><th scope=col>genus</th><th scope=col>scientific_name</th><th scope=col>SampleID</th></tr></thead>\n",
       "<tbody>\n",
       "\t<tr><th scope=row>X1.Eurasian.Beaver</th><td>Castor            </td><td>Castor_fiber      </td><td>X1.Eurasian.Beaver</td></tr>\n",
       "\t<tr><th scope=row>X101.Horse</th><td>Equus             </td><td>Equus_caballus    </td><td>X101.Horse        </td></tr>\n",
       "\t<tr><th scope=row>X102.Kulan</th><td>Equus             </td><td>Equus_hemionus    </td><td>X102.Kulan        </td></tr>\n",
       "</tbody>\n",
       "</table>\n"
      ],
      "text/latex": [
       "\\begin{tabular}{r|lll}\n",
       "  & genus & scientific\\_name & SampleID\\\\\n",
       "\\hline\n",
       "\tX1.Eurasian.Beaver & Castor             & Castor\\_fiber     & X1.Eurasian.Beaver\\\\\n",
       "\tX101.Horse & Equus              & Equus\\_caballus   & X101.Horse        \\\\\n",
       "\tX102.Kulan & Equus              & Equus\\_hemionus   & X102.Kulan        \\\\\n",
       "\\end{tabular}\n"
      ],
      "text/markdown": [
       "\n",
       "| <!--/--> | genus | scientific_name | SampleID | \n",
       "|---|---|---|\n",
       "| X1.Eurasian.Beaver | Castor             | Castor_fiber       | X1.Eurasian.Beaver | \n",
       "| X101.Horse | Equus              | Equus_caballus     | X101.Horse         | \n",
       "| X102.Kulan | Equus              | Equus_hemionus     | X102.Kulan         | \n",
       "\n",
       "\n"
      ],
      "text/plain": [
       "                   genus  scientific_name SampleID          \n",
       "X1.Eurasian.Beaver Castor Castor_fiber    X1.Eurasian.Beaver\n",
       "X101.Horse         Equus  Equus_caballus  X101.Horse        \n",
       "X102.Kulan         Equus  Equus_hemionus  X102.Kulan        "
      ]
     },
     "metadata": {},
     "output_type": "display_data"
    }
   ],
   "source": [
    "metadata = physeq %>%\n",
    "    sample_data %>%\n",
    "    dplyr::select(genus, scientific_name) %>%\n",
    "    mutate(SampleID = rownames(.)) %>%\n",
    "    as.data.frame\n",
    "\n",
    "rownames(metadata) = metadata$SampleID\n",
    "#metadata$sample = NULL\n",
    "\n",
    "metadata %>% dfhead"
   ]
  },
  {
   "cell_type": "code",
   "execution_count": 11,
   "metadata": {
    "ExecuteTime": {
     "end_time": "2018-09-04T10:57:22.573509Z",
     "start_time": "2018-09-04T10:57:27.926Z"
    }
   },
   "outputs": [
    {
     "data": {
      "text/html": [
       "112"
      ],
      "text/latex": [
       "112"
      ],
      "text/markdown": [
       "112"
      ],
      "text/plain": [
       "[1] 112"
      ]
     },
     "metadata": {},
     "output_type": "display_data"
    }
   ],
   "source": [
    "# number of genera\n",
    "metadata$genus %>% unique %>% length"
   ]
  },
  {
   "cell_type": "markdown",
   "metadata": {},
   "source": [
    "# Subsampling tree\n",
    "\n",
    "* multiple subsamples: one sample per species"
   ]
  },
  {
   "cell_type": "code",
   "execution_count": 12,
   "metadata": {
    "ExecuteTime": {
     "end_time": "2018-09-04T10:57:23.825990Z",
     "start_time": "2018-09-04T10:57:29.256Z"
    }
   },
   "outputs": [],
   "source": [
    "# number of subsampled trees\n",
    "ntrees = 100"
   ]
  },
  {
   "cell_type": "code",
   "execution_count": 13,
   "metadata": {
    "ExecuteTime": {
     "end_time": "2018-09-04T10:57:24.215440Z",
     "start_time": "2018-09-04T10:57:29.646Z"
    }
   },
   "outputs": [],
   "source": [
    "#' randomly selecting one per group (genus)\n",
    "tree_subsample = function(L, df, tree){\n",
    "    # get subsample (note: subsampling within each species)\n",
    "    to_keep = df %>% \n",
    "        group_by(genus) %>% \n",
    "        sample_n(1) %>%\n",
    "        .$sample\n",
    "    # subsampling tree\n",
    "    to_rm = setdiff(tree$tip.label, to_keep)\n",
    "    tree = drop.tip(tree, to_rm)\n",
    "    #tree$tip.label %>% length %>% print\n",
    "    return(tree)\n",
    "}"
   ]
  },
  {
   "cell_type": "code",
   "execution_count": 14,
   "metadata": {
    "ExecuteTime": {
     "end_time": "2018-09-04T10:57:25.438634Z",
     "start_time": "2018-09-04T10:57:30.248Z"
    }
   },
   "outputs": [
    {
     "data": {
      "text/html": [
       "100"
      ],
      "text/latex": [
       "100"
      ],
      "text/markdown": [
       "100"
      ],
      "text/plain": [
       "[1] 100"
      ]
     },
     "metadata": {},
     "output_type": "display_data"
    }
   ],
   "source": [
    "df = metadata %>%\n",
    "    mutate(sample = rownames(.)) %>%\n",
    "    dplyr::select(sample, genus) \n",
    "\n",
    "doParallel::registerDoParallel(threads)\n",
    "host_tree_l = plyr::llply(as.list(1:ntrees), \n",
    "                          function(x) tree_subsample(x, df, host_tree),\n",
    "                          .parallel=TRUE)\n",
    "host_tree_l %>% length"
   ]
  },
  {
   "cell_type": "code",
   "execution_count": 15,
   "metadata": {
    "ExecuteTime": {
     "end_time": "2018-09-04T10:57:25.479521Z",
     "start_time": "2018-09-04T10:57:30.567Z"
    }
   },
   "outputs": [
    {
     "data": {
      "text/plain": [
       "   Min. 1st Qu.  Median    Mean 3rd Qu.    Max. \n",
       "    112     112     112     112     112     112 "
      ]
     },
     "metadata": {},
     "output_type": "display_data"
    }
   ],
   "source": [
    "# samples per tree\n",
    "host_tree_l %>% lapply(function(x) length(x$tip.label)) %>% unlist %>% as.vector %>% summary"
   ]
  },
  {
   "cell_type": "markdown",
   "metadata": {},
   "source": [
    "# paco: diffused model\n",
    "\n",
    "* on each subsample"
   ]
  },
  {
   "cell_type": "markdown",
   "metadata": {},
   "source": [
    "## Creating datasets"
   ]
  },
  {
   "cell_type": "code",
   "execution_count": 16,
   "metadata": {
    "ExecuteTime": {
     "end_time": "2018-09-04T10:57:29.186741Z",
     "start_time": "2018-09-04T10:57:34.614Z"
    }
   },
   "outputs": [],
   "source": [
    "make_paco_input = function(host_tree, physeq){\n",
    "    # subsampled phyloseq object\n",
    "    physeq_f = prune_samples(sample_names(physeq) %in% host_tree$tip.label, \n",
    "                             physeq) \n",
    "\n",
    "    # microbial distance matrix\n",
    "    micro_D = physeq_f %>%\n",
    "        phy_tree %>% cophenetic %>% \n",
    "        rescale_dist_mtx %>% as.matrix\n",
    "    # host distance matrix\n",
    "    host_D = host_tree %>% cophenetic %>% \n",
    "             rescale_dist_mtx %>% as.matrix\n",
    "    \n",
    "    # otu abundance matrix\n",
    "    otu = physeq_f %>% \n",
    "        otu_table %>%\n",
    "        as.data.frame %>%\n",
    "        as.matrix %>%\n",
    "        t %>%\n",
    "        apply(2, function(x) ifelse(x > 0, 1, 0)) %>% as.matrix                \n",
    "              \n",
    "              \n",
    "    # checking overlap\n",
    "    x = length(intersect(rownames(otu), rownames(host_D)))\n",
    "    y = length(union(rownames(otu), rownames(host_D)))\n",
    "    stopifnot(x == y)\n",
    "              \n",
    "    # preparing paco data\n",
    "    D = prepare_paco_data(H=host_D, P=micro_D, HP=otu)\n",
    "    D = add_pcoord(D, correction='cailliez')\n",
    "    return(D)\n",
    "}"
   ]
  },
  {
   "cell_type": "code",
   "execution_count": 17,
   "metadata": {
    "ExecuteTime": {
     "end_time": "2018-09-04T10:59:17.567126Z",
     "start_time": "2018-09-04T10:57:34.758Z"
    }
   },
   "outputs": [
    {
     "data": {
      "text/html": [
       "100"
      ],
      "text/latex": [
       "100"
      ],
      "text/markdown": [
       "100"
      ],
      "text/plain": [
       "[1] 100"
      ]
     },
     "metadata": {},
     "output_type": "display_data"
    }
   ],
   "source": [
    "doParallel::registerDoParallel(threads)\n",
    "paco_l = plyr::llply(host_tree_l, make_paco_input, physeq=physeq, .parallel=TRUE)\n",
    "paco_l %>% length"
   ]
  },
  {
   "cell_type": "markdown",
   "metadata": {},
   "source": [
    "## Running paco"
   ]
  },
  {
   "cell_type": "code",
   "execution_count": 18,
   "metadata": {
    "ExecuteTime": {
     "end_time": "2018-09-04T10:59:17.609336Z",
     "start_time": "2018-09-04T10:57:40.081Z"
    }
   },
   "outputs": [
    {
     "data": {
      "text/html": [
       "'/ebio/abt3_projects/Georg_animal_feces/data/host_specific/pcao/host_TT//physeq_IndD-sens-genus_PACo.RDS'"
      ],
      "text/latex": [
       "'/ebio/abt3\\_projects/Georg\\_animal\\_feces/data/host\\_specific/pcao/host\\_TT//physeq\\_IndD-sens-genus\\_PACo.RDS'"
      ],
      "text/markdown": [
       "'/ebio/abt3_projects/Georg_animal_feces/data/host_specific/pcao/host_TT//physeq_IndD-sens-genus_PACo.RDS'"
      ],
      "text/plain": [
       "[1] \"/ebio/abt3_projects/Georg_animal_feces/data/host_specific/pcao/host_TT//physeq_IndD-sens-genus_PACo.RDS\""
      ]
     },
     "metadata": {},
     "output_type": "display_data"
    }
   ],
   "source": [
    "# for loading results instead of re-running\n",
    "PACo_file = file.path(work_dir, 'physeq_IndD-sens-genus_PACo.RDS')\n",
    "PACo_file"
   ]
  },
  {
   "cell_type": "code",
   "execution_count": 56,
   "metadata": {
    "ExecuteTime": {
     "end_time": "2018-07-18T13:19:18.111110Z",
     "start_time": "2018-07-18T13:19:18.041Z"
    }
   },
   "outputs": [],
   "source": [
    "# cluster resources\n",
    "resources = list(h_rt = '24:00:00',\n",
    "                 h_vmem = '10G',\n",
    "                 threads = '1',\n",
    "                 conda.env = 'py3_physeq_phylo', \n",
    "                 conda.path = \"/ebio/abt3_projects/software/miniconda3/bin\")\n",
    "plan(batchtools_sge, resources=resources)"
   ]
  },
  {
   "cell_type": "code",
   "execution_count": null,
   "metadata": {
    "ExecuteTime": {
     "start_time": "2018-07-18T13:19:18.369Z"
    },
    "scrolled": true
   },
   "outputs": [
    {
     "name": "stderr",
     "output_type": "stream",
     "text": [
      "Warning message in is.na(x):\n",
      "“is.na() applied to non-(list or vector) of type 'NULL'”Warning message in is.na(x):\n",
      "“is.na() applied to non-(list or vector) of type 'NULL'”Warning message in is.na(x):\n",
      "“is.na() applied to non-(list or vector) of type 'NULL'”Warning message in is.na(x):\n",
      "“is.na() applied to non-(list or vector) of type 'NULL'”Warning message in is.na(x):\n",
      "“is.na() applied to non-(list or vector) of type 'NULL'”Warning message in is.na(x):\n",
      "“is.na() applied to non-(list or vector) of type 'NULL'”Warning message in is.na(x):\n",
      "“is.na() applied to non-(list or vector) of type 'NULL'”Warning message in is.na(x):\n",
      "“is.na() applied to non-(list or vector) of type 'NULL'”Warning message in is.na(x):\n",
      "“is.na() applied to non-(list or vector) of type 'NULL'”Warning message in is.na(x):\n",
      "“is.na() applied to non-(list or vector) of type 'NULL'”Warning message in is.na(x):\n",
      "“is.na() applied to non-(list or vector) of type 'NULL'”Warning message in is.na(x):\n",
      "“is.na() applied to non-(list or vector) of type 'NULL'”Warning message in is.na(x):\n",
      "“is.na() applied to non-(list or vector) of type 'NULL'”Warning message in is.na(x):\n",
      "“is.na() applied to non-(list or vector) of type 'NULL'”Warning message in is.na(x):\n",
      "“is.na() applied to non-(list or vector) of type 'NULL'”Warning message in is.na(x):\n",
      "“is.na() applied to non-(list or vector) of type 'NULL'”Warning message in is.na(x):\n",
      "“is.na() applied to non-(list or vector) of type 'NULL'”Warning message in is.na(x):\n",
      "“is.na() applied to non-(list or vector) of type 'NULL'”Warning message in is.na(x):\n",
      "“is.na() applied to non-(list or vector) of type 'NULL'”Warning message in is.na(x):\n",
      "“is.na() applied to non-(list or vector) of type 'NULL'”Warning message in is.na(x):\n",
      "“is.na() applied to non-(list or vector) of type 'NULL'”Warning message in is.na(x):\n",
      "“is.na() applied to non-(list or vector) of type 'NULL'”Warning message in is.na(x):\n",
      "“is.na() applied to non-(list or vector) of type 'NULL'”Warning message in is.na(x):\n",
      "“is.na() applied to non-(list or vector) of type 'NULL'”Warning message in is.na(x):\n",
      "“is.na() applied to non-(list or vector) of type 'NULL'”Warning message in is.na(x):\n",
      "“is.na() applied to non-(list or vector) of type 'NULL'”Warning message in is.na(x):\n",
      "“is.na() applied to non-(list or vector) of type 'NULL'”Warning message in is.na(x):\n",
      "“is.na() applied to non-(list or vector) of type 'NULL'”Warning message in is.na(x):\n",
      "“is.na() applied to non-(list or vector) of type 'NULL'”Warning message in is.na(x):\n",
      "“is.na() applied to non-(list or vector) of type 'NULL'”Warning message in is.na(x):\n",
      "“is.na() applied to non-(list or vector) of type 'NULL'”Warning message in is.na(x):\n",
      "“is.na() applied to non-(list or vector) of type 'NULL'”Warning message in is.na(x):\n",
      "“is.na() applied to non-(list or vector) of type 'NULL'”Warning message in is.na(x):\n",
      "“is.na() applied to non-(list or vector) of type 'NULL'”Warning message in is.na(x):\n",
      "“is.na() applied to non-(list or vector) of type 'NULL'”Warning message in is.na(x):\n",
      "“is.na() applied to non-(list or vector) of type 'NULL'”Warning message in is.na(x):\n",
      "“is.na() applied to non-(list or vector) of type 'NULL'”Warning message in is.na(x):\n",
      "“is.na() applied to non-(list or vector) of type 'NULL'”Warning message in is.na(x):\n",
      "“is.na() applied to non-(list or vector) of type 'NULL'”Warning message in is.na(x):\n",
      "“is.na() applied to non-(list or vector) of type 'NULL'”Warning message in is.na(x):\n",
      "“is.na() applied to non-(list or vector) of type 'NULL'”Warning message in is.na(x):\n",
      "“is.na() applied to non-(list or vector) of type 'NULL'”Warning message in is.na(x):\n",
      "“is.na() applied to non-(list or vector) of type 'NULL'”Warning message in is.na(x):\n",
      "“is.na() applied to non-(list or vector) of type 'NULL'”Warning message in is.na(x):\n",
      "“is.na() applied to non-(list or vector) of type 'NULL'”Warning message in is.na(x):\n",
      "“is.na() applied to non-(list or vector) of type 'NULL'”Warning message in is.na(x):\n",
      "“is.na() applied to non-(list or vector) of type 'NULL'”Warning message in is.na(x):\n",
      "“is.na() applied to non-(list or vector) of type 'NULL'”Warning message in is.na(x):\n",
      "“is.na() applied to non-(list or vector) of type 'NULL'”Warning message in is.na(x):\n",
      "“is.na() applied to non-(list or vector) of type 'NULL'”Warning message in is.na(x):\n",
      "“is.na() applied to non-(list or vector) of type 'NULL'”Warning message in is.na(x):\n",
      "“is.na() applied to non-(list or vector) of type 'NULL'”Warning message in is.na(x):\n",
      "“is.na() applied to non-(list or vector) of type 'NULL'”Warning message in is.na(x):\n",
      "“is.na() applied to non-(list or vector) of type 'NULL'”Warning message in is.na(x):\n",
      "“is.na() applied to non-(list or vector) of type 'NULL'”Warning message in is.na(x):\n",
      "“is.na() applied to non-(list or vector) of type 'NULL'”Warning message in is.na(x):\n",
      "“is.na() applied to non-(list or vector) of type 'NULL'”Warning message in is.na(x):\n",
      "“is.na() applied to non-(list or vector) of type 'NULL'”Warning message in is.na(x):\n",
      "“is.na() applied to non-(list or vector) of type 'NULL'”Warning message in is.na(x):\n",
      "“is.na() applied to non-(list or vector) of type 'NULL'”Warning message in is.na(x):\n",
      "“is.na() applied to non-(list or vector) of type 'NULL'”Warning message in is.na(x):\n",
      "“is.na() applied to non-(list or vector) of type 'NULL'”Warning message in is.na(x):\n",
      "“is.na() applied to non-(list or vector) of type 'NULL'”Warning message in is.na(x):\n",
      "“is.na() applied to non-(list or vector) of type 'NULL'”Warning message in is.na(x):\n",
      "“is.na() applied to non-(list or vector) of type 'NULL'”Warning message in is.na(x):\n",
      "“is.na() applied to non-(list or vector) of type 'NULL'”Warning message in is.na(x):\n",
      "“is.na() applied to non-(list or vector) of type 'NULL'”Warning message in is.na(x):\n",
      "“is.na() applied to non-(list or vector) of type 'NULL'”Warning message in is.na(x):\n",
      "“is.na() applied to non-(list or vector) of type 'NULL'”Warning message in is.na(x):\n",
      "“is.na() applied to non-(list or vector) of type 'NULL'”Warning message in is.na(x):\n",
      "“is.na() applied to non-(list or vector) of type 'NULL'”Warning message in is.na(x):\n",
      "“is.na() applied to non-(list or vector) of type 'NULL'”Warning message in is.na(x):\n",
      "“is.na() applied to non-(list or vector) of type 'NULL'”Warning message in is.na(x):\n",
      "“is.na() applied to non-(list or vector) of type 'NULL'”Warning message in is.na(x):\n",
      "“is.na() applied to non-(list or vector) of type 'NULL'”Warning message in is.na(x):\n",
      "“is.na() applied to non-(list or vector) of type 'NULL'”Warning message in is.na(x):\n",
      "“is.na() applied to non-(list or vector) of type 'NULL'”Warning message in is.na(x):\n",
      "“is.na() applied to non-(list or vector) of type 'NULL'”Warning message in is.na(x):\n",
      "“is.na() applied to non-(list or vector) of type 'NULL'”Warning message in is.na(x):\n",
      "“is.na() applied to non-(list or vector) of type 'NULL'”Warning message in is.na(x):\n",
      "“is.na() applied to non-(list or vector) of type 'NULL'”Warning message in is.na(x):\n",
      "“is.na() applied to non-(list or vector) of type 'NULL'”Warning message in is.na(x):\n",
      "“is.na() applied to non-(list or vector) of type 'NULL'”Warning message in is.na(x):\n",
      "“is.na() applied to non-(list or vector) of type 'NULL'”Warning message in is.na(x):\n",
      "“is.na() applied to non-(list or vector) of type 'NULL'”Warning message in is.na(x):\n",
      "“is.na() applied to non-(list or vector) of type 'NULL'”Warning message in is.na(x):\n",
      "“is.na() applied to non-(list or vector) of type 'NULL'”Warning message in is.na(x):\n",
      "“is.na() applied to non-(list or vector) of type 'NULL'”Warning message in is.na(x):\n",
      "“is.na() applied to non-(list or vector) of type 'NULL'”Warning message in is.na(x):\n",
      "“is.na() applied to non-(list or vector) of type 'NULL'”Warning message in is.na(x):\n",
      "“is.na() applied to non-(list or vector) of type 'NULL'”Warning message in is.na(x):\n",
      "“is.na() applied to non-(list or vector) of type 'NULL'”Warning message in is.na(x):\n",
      "“is.na() applied to non-(list or vector) of type 'NULL'”Warning message in is.na(x):\n",
      "“is.na() applied to non-(list or vector) of type 'NULL'”Warning message in is.na(x):\n",
      "“is.na() applied to non-(list or vector) of type 'NULL'”Warning message in is.na(x):\n",
      "“is.na() applied to non-(list or vector) of type 'NULL'”Warning message in is.na(x):\n",
      "“is.na() applied to non-(list or vector) of type 'NULL'”Warning message in is.na(x):\n",
      "“is.na() applied to non-(list or vector) of type 'NULL'”Warning message in is.na(x):\n",
      "“is.na() applied to non-(list or vector) of type 'NULL'”Warning message in is.na(x):\n",
      "“is.na() applied to non-(list or vector) of type 'NULL'”"
     ]
    }
   ],
   "source": [
    "# Running paco on each subsample\n",
    "## WARNING: SLOW!\n",
    "paco_each = function(D, nperm=99, seed=3843){\n",
    "    PACo(D, nperm=nperm, seed=seed, method='quasiswap', symmetric=TRUE)\n",
    "}\n",
    "\n",
    "paco_res_l = future_lapply(paco_l, paco_each, nperm=999, future.packages=c('paco'))\n",
    "paco_res_l %>% length"
   ]
  },
  {
   "cell_type": "code",
   "execution_count": null,
   "metadata": {
    "ExecuteTime": {
     "start_time": "2018-07-18T13:19:37.599Z"
    }
   },
   "outputs": [],
   "source": [
    "# save results\n",
    "saveRDS(paco_res_l, PACo_file)\n",
    "cat('File written:', PACo_file, '\\n')"
   ]
  },
  {
   "cell_type": "code",
   "execution_count": 19,
   "metadata": {
    "ExecuteTime": {
     "end_time": "2018-09-04T10:59:44.050794Z",
     "start_time": "2018-09-04T10:57:45.824Z"
    }
   },
   "outputs": [
    {
     "data": {
      "text/html": [
       "100"
      ],
      "text/latex": [
       "100"
      ],
      "text/markdown": [
       "100"
      ],
      "text/plain": [
       "[1] 100"
      ]
     },
     "metadata": {},
     "output_type": "display_data"
    }
   ],
   "source": [
    "# load results\n",
    "paco_res_l = readRDS(PACo_file)\n",
    "paco_res_l %>% length"
   ]
  },
  {
   "cell_type": "markdown",
   "metadata": {},
   "source": [
    "## Formatting output"
   ]
  },
  {
   "cell_type": "code",
   "execution_count": 20,
   "metadata": {
    "ExecuteTime": {
     "end_time": "2018-09-04T10:59:44.102701Z",
     "start_time": "2018-09-04T10:57:50.326Z"
    }
   },
   "outputs": [
    {
     "name": "stdout",
     "output_type": "stream",
     "text": [
      "   Min. 1st Qu.  Median    Mean 3rd Qu.    Max. \n",
      "      0       0       0       0       0       0 \n",
      "   Min. 1st Qu.  Median    Mean 3rd Qu.    Max. \n",
      " 0.9644  0.9674  0.9685  0.9684  0.9695  0.9713 \n"
     ]
    }
   ],
   "source": [
    "# goodness of fit\n",
    "gof = lapply(paco_res_l, function(x) as.vector(x$gof)) %>% \n",
    "        do.call(rbind, .) %>%\n",
    "        as.data.frame\n",
    "             \n",
    "gof$p %>% as.Num %>% summary %>% print\n",
    "gof$ss %>% as.Num %>% summary %>% print"
   ]
  },
  {
   "cell_type": "code",
   "execution_count": null,
   "metadata": {
    "ExecuteTime": {
     "start_time": "2018-07-18T13:19:47.248Z"
    }
   },
   "outputs": [],
   "source": [
    "# clearing memory; the `paco_res_l` object is huge\n",
    "#paco_res_l = NULL"
   ]
  },
  {
   "cell_type": "markdown",
   "metadata": {},
   "source": [
    "## Individual contributions"
   ]
  },
  {
   "cell_type": "code",
   "execution_count": 21,
   "metadata": {
    "ExecuteTime": {
     "end_time": "2018-09-04T10:59:44.136560Z",
     "start_time": "2018-09-04T10:57:53.095Z"
    }
   },
   "outputs": [
    {
     "data": {
      "text/html": [
       "'/ebio/abt3_projects/Georg_animal_feces/data/host_specific/pcao/host_TT//physeq_IndD-sens-genus_PACo-links.RDS'"
      ],
      "text/latex": [
       "'/ebio/abt3\\_projects/Georg\\_animal\\_feces/data/host\\_specific/pcao/host\\_TT//physeq\\_IndD-sens-genus\\_PACo-links.RDS'"
      ],
      "text/markdown": [
       "'/ebio/abt3_projects/Georg_animal_feces/data/host_specific/pcao/host_TT//physeq_IndD-sens-genus_PACo-links.RDS'"
      ],
      "text/plain": [
       "[1] \"/ebio/abt3_projects/Georg_animal_feces/data/host_specific/pcao/host_TT//physeq_IndD-sens-genus_PACo-links.RDS\""
      ]
     },
     "metadata": {},
     "output_type": "display_data"
    }
   ],
   "source": [
    "# for loading results instead of re-running\n",
    "PACo_links_file = file.path(work_dir, 'physeq_IndD-sens-genus_PACo-links.RDS')\n",
    "PACo_links_file"
   ]
  },
  {
   "cell_type": "code",
   "execution_count": null,
   "metadata": {
    "ExecuteTime": {
     "start_time": "2018-07-18T13:19:51.598Z"
    }
   },
   "outputs": [],
   "source": [
    "#-- WARNING: SLOW --#\n",
    "# cluster resources\n",
    "resources = list(h_rt = '36:00:00',\n",
    "                 h_vmem = '10G',\n",
    "                 threads = '1',\n",
    "                 conda.env = 'py3_physeq_phylo', \n",
    "                 conda.path = \"/ebio/abt3_projects/software/miniconda3/bin\")\n",
    "plan(batchtools_sge, resources=resources)\n",
    "\n",
    "# running\n",
    "D_links_l = future_lapply(paco_res_l, paco_links, future.packages=c('paco'))\n",
    "D_links_l %>% length"
   ]
  },
  {
   "cell_type": "code",
   "execution_count": null,
   "metadata": {
    "ExecuteTime": {
     "start_time": "2018-07-18T13:19:52.581Z"
    }
   },
   "outputs": [],
   "source": [
    "# saving object\n",
    "saveRDS(D_links_l, PACo_links_file)\n",
    "cat('File written:', PACo_links_file, '\\n')"
   ]
  },
  {
   "cell_type": "code",
   "execution_count": 32,
   "metadata": {
    "ExecuteTime": {
     "end_time": "2018-09-04T11:01:30.007289Z",
     "start_time": "2018-09-04T11:01:13.220Z"
    }
   },
   "outputs": [
    {
     "data": {
      "text/html": [
       "100"
      ],
      "text/latex": [
       "100"
      ],
      "text/markdown": [
       "100"
      ],
      "text/plain": [
       "[1] 100"
      ]
     },
     "metadata": {},
     "output_type": "display_data"
    }
   ],
   "source": [
    "# re-loading object\n",
    "D_links_l = readRDS(PACo_links_file)\n",
    "D_links_l %>% length"
   ]
  },
  {
   "cell_type": "code",
   "execution_count": 23,
   "metadata": {
    "ExecuteTime": {
     "end_time": "2018-09-04T11:00:11.080545Z",
     "start_time": "2018-09-04T10:57:59.383Z"
    }
   },
   "outputs": [],
   "source": [
    "send_email('http://127.0.0.1:9705/notebooks/notebooks/16S/4_host_specific/paco/host_TT/7_paco_IndD_sensitivity-genus.ipynb')"
   ]
  },
  {
   "cell_type": "markdown",
   "metadata": {},
   "source": [
    "### Formatting output"
   ]
  },
  {
   "cell_type": "code",
   "execution_count": 33,
   "metadata": {
    "ExecuteTime": {
     "end_time": "2018-09-04T11:01:41.187710Z",
     "start_time": "2018-09-04T11:01:16.201Z"
    }
   },
   "outputs": [
    {
     "name": "stdout",
     "output_type": "stream",
     "text": [
      "[1] 215523      6\n"
     ]
    },
    {
     "data": {
      "text/html": [
       "<table>\n",
       "<thead><tr><th scope=col>mean</th><th scope=col>upper</th><th scope=col>host</th><th scope=col>microbe</th><th scope=col>residuals</th><th scope=col>subsample_rep</th></tr></thead>\n",
       "<tbody>\n",
       "\t<tr><td>-55.25063                       </td><td>-55.24363                       </td><td>X138.Gaur                       </td><td>368bd5c2255f3a5ce0fef06ca6de1d04</td><td>0.01216057                      </td><td>1                               </td></tr>\n",
       "\t<tr><td>-48.86152                       </td><td>-48.85405                       </td><td>X360.White.tailed.Deer          </td><td>368bd5c2255f3a5ce0fef06ca6de1d04</td><td>0.01143525                      </td><td>1                               </td></tr>\n",
       "\t<tr><td>-55.24798                       </td><td>-55.24110                       </td><td>X410.Impala                     </td><td>368bd5c2255f3a5ce0fef06ca6de1d04</td><td>0.01216002                      </td><td>1                               </td></tr>\n",
       "</tbody>\n",
       "</table>\n"
      ],
      "text/latex": [
       "\\begin{tabular}{r|llllll}\n",
       " mean & upper & host & microbe & residuals & subsample\\_rep\\\\\n",
       "\\hline\n",
       "\t -55.25063                        & -55.24363                        & X138.Gaur                        & 368bd5c2255f3a5ce0fef06ca6de1d04 & 0.01216057                       & 1                               \\\\\n",
       "\t -48.86152                        & -48.85405                        & X360.White.tailed.Deer           & 368bd5c2255f3a5ce0fef06ca6de1d04 & 0.01143525                       & 1                               \\\\\n",
       "\t -55.24798                        & -55.24110                        & X410.Impala                      & 368bd5c2255f3a5ce0fef06ca6de1d04 & 0.01216002                       & 1                               \\\\\n",
       "\\end{tabular}\n"
      ],
      "text/markdown": [
       "\n",
       "mean | upper | host | microbe | residuals | subsample_rep | \n",
       "|---|---|---|\n",
       "| -55.25063                        | -55.24363                        | X138.Gaur                        | 368bd5c2255f3a5ce0fef06ca6de1d04 | 0.01216057                       | 1                                | \n",
       "| -48.86152                        | -48.85405                        | X360.White.tailed.Deer           | 368bd5c2255f3a5ce0fef06ca6de1d04 | 0.01143525                       | 1                                | \n",
       "| -55.24798                        | -55.24110                        | X410.Impala                      | 368bd5c2255f3a5ce0fef06ca6de1d04 | 0.01216002                       | 1                                | \n",
       "\n",
       "\n"
      ],
      "text/plain": [
       "  mean      upper     host                   microbe                         \n",
       "1 -55.25063 -55.24363 X138.Gaur              368bd5c2255f3a5ce0fef06ca6de1d04\n",
       "2 -48.86152 -48.85405 X360.White.tailed.Deer 368bd5c2255f3a5ce0fef06ca6de1d04\n",
       "3 -55.24798 -55.24110 X410.Impala            368bd5c2255f3a5ce0fef06ca6de1d04\n",
       "  residuals  subsample_rep\n",
       "1 0.01216057 1            \n",
       "2 0.01143525 1            \n",
       "3 0.01216002 1            "
      ]
     },
     "metadata": {},
     "output_type": "display_data"
    }
   ],
   "source": [
    "# residuals\n",
    "get_residuals = function(rep, D_links_l){\n",
    "    # residuals\n",
    "    res = residuals_paco(D_links_l[[rep]]$proc) %>% as.data.frame \n",
    "    colnames(res) = 'residuals'\n",
    "    res = res %>%\n",
    "        mutate(comparison = rownames(.),\n",
    "               subsample_rep = rep) %>%\n",
    "        separate(comparison, c('host', 'microbe'), sep='-') \n",
    "        \n",
    "    # jackknife\n",
    "    D_links_jk = do.call(rbind, D_links_l[[rep]]$jackknife) %>%\n",
    "        t %>% as.data.frame %>%\n",
    "        mutate(comparison = rownames(.)) %>%\n",
    "        separate(comparison, c('host', 'microbe'), sep='-') %>%\n",
    "        inner_join(res, c('host'='host', 'microbe'='microbe'))\n",
    "    \n",
    "    # return\n",
    "    return(D_links_jk)\n",
    "}\n",
    "\n",
    "D_links_l = lapply(as.list(1:length(D_links_l)), get_residuals, D_links_l=D_links_l)\n",
    "D_links_l = do.call(rbind, D_links_l)\n",
    "D_links_l %>% dfhead"
   ]
  },
  {
   "cell_type": "markdown",
   "metadata": {},
   "source": [
    "### Summarizing residuals"
   ]
  },
  {
   "cell_type": "code",
   "execution_count": 34,
   "metadata": {
    "ExecuteTime": {
     "end_time": "2018-09-04T11:01:43.126415Z",
     "start_time": "2018-09-04T11:01:32.942Z"
    }
   },
   "outputs": [
    {
     "name": "stdout",
     "output_type": "stream",
     "text": [
      "[1] 6077    6\n"
     ]
    },
    {
     "data": {
      "text/html": [
       "<table>\n",
       "<thead><tr><th scope=col>host</th><th scope=col>microbe</th><th scope=col>mean_resid</th><th scope=col>median_resid</th><th scope=col>sd_resid</th><th scope=col>CV_resid</th></tr></thead>\n",
       "<tbody>\n",
       "\t<tr><td>F141.Wood.Sandpiper             </td><td>8ed6829bdf1df9cdc26ac7a3d1182018</td><td>0.04520138                      </td><td>0.04515839                      </td><td>0.0007377001                    </td><td>1.632030                        </td></tr>\n",
       "\t<tr><td>F141.Wood.Sandpiper             </td><td>9dabdedada5e83148f6d4bff9d7bddcb</td><td>0.04527266                      </td><td>0.04522769                      </td><td>0.0007380096                    </td><td>1.630144                        </td></tr>\n",
       "\t<tr><td>F141.Wood.Sandpiper             </td><td>ab6bc0116bcfefcbeb981d83cd525034</td><td>0.04526938                      </td><td>0.04522319                      </td><td>0.0007371731                    </td><td>1.628414                        </td></tr>\n",
       "</tbody>\n",
       "</table>\n"
      ],
      "text/latex": [
       "\\begin{tabular}{r|llllll}\n",
       " host & microbe & mean\\_resid & median\\_resid & sd\\_resid & CV\\_resid\\\\\n",
       "\\hline\n",
       "\t F141.Wood.Sandpiper              & 8ed6829bdf1df9cdc26ac7a3d1182018 & 0.04520138                       & 0.04515839                       & 0.0007377001                     & 1.632030                        \\\\\n",
       "\t F141.Wood.Sandpiper              & 9dabdedada5e83148f6d4bff9d7bddcb & 0.04527266                       & 0.04522769                       & 0.0007380096                     & 1.630144                        \\\\\n",
       "\t F141.Wood.Sandpiper              & ab6bc0116bcfefcbeb981d83cd525034 & 0.04526938                       & 0.04522319                       & 0.0007371731                     & 1.628414                        \\\\\n",
       "\\end{tabular}\n"
      ],
      "text/markdown": [
       "\n",
       "host | microbe | mean_resid | median_resid | sd_resid | CV_resid | \n",
       "|---|---|---|\n",
       "| F141.Wood.Sandpiper              | 8ed6829bdf1df9cdc26ac7a3d1182018 | 0.04520138                       | 0.04515839                       | 0.0007377001                     | 1.632030                         | \n",
       "| F141.Wood.Sandpiper              | 9dabdedada5e83148f6d4bff9d7bddcb | 0.04527266                       | 0.04522769                       | 0.0007380096                     | 1.630144                         | \n",
       "| F141.Wood.Sandpiper              | ab6bc0116bcfefcbeb981d83cd525034 | 0.04526938                       | 0.04522319                       | 0.0007371731                     | 1.628414                         | \n",
       "\n",
       "\n"
      ],
      "text/plain": [
       "  host                microbe                          mean_resid median_resid\n",
       "1 F141.Wood.Sandpiper 8ed6829bdf1df9cdc26ac7a3d1182018 0.04520138 0.04515839  \n",
       "2 F141.Wood.Sandpiper 9dabdedada5e83148f6d4bff9d7bddcb 0.04527266 0.04522769  \n",
       "3 F141.Wood.Sandpiper ab6bc0116bcfefcbeb981d83cd525034 0.04526938 0.04522319  \n",
       "  sd_resid     CV_resid\n",
       "1 0.0007377001 1.632030\n",
       "2 0.0007380096 1.630144\n",
       "3 0.0007371731 1.628414"
      ]
     },
     "metadata": {},
     "output_type": "display_data"
    }
   ],
   "source": [
    "D_links_l = D_links_l %>%\n",
    "    group_by(host, microbe) %>%\n",
    "    summarize(mean_resid = mean(residuals),\n",
    "              median_resid = median(residuals),\n",
    "              sd_resid = sd(residuals),\n",
    "              CV_resid = sd_resid / mean_resid * 100) %>%\n",
    "    ungroup()\n",
    "\n",
    "D_links_l %>% dfhead"
   ]
  },
  {
   "cell_type": "markdown",
   "metadata": {},
   "source": [
    "### Adding taxonomy"
   ]
  },
  {
   "cell_type": "code",
   "execution_count": 35,
   "metadata": {
    "ExecuteTime": {
     "end_time": "2018-09-04T11:01:43.268279Z",
     "start_time": "2018-09-04T11:01:35.775Z"
    }
   },
   "outputs": [
    {
     "name": "stdout",
     "output_type": "stream",
     "text": [
      "[1] 6077   13\n"
     ]
    },
    {
     "data": {
      "text/html": [
       "<table>\n",
       "<thead><tr><th scope=col>host</th><th scope=col>microbe</th><th scope=col>mean_resid</th><th scope=col>median_resid</th><th scope=col>sd_resid</th><th scope=col>CV_resid</th><th scope=col>Domain</th><th scope=col>Phylum</th><th scope=col>Class</th><th scope=col>Order</th><th scope=col>Family</th><th scope=col>Genus</th><th scope=col>Species</th></tr></thead>\n",
       "<tbody>\n",
       "\t<tr><td>F141.Wood.Sandpiper             </td><td>8ed6829bdf1df9cdc26ac7a3d1182018</td><td>0.04520138                      </td><td>0.04515839                      </td><td>0.0007377001                    </td><td>1.632030                        </td><td>Bacteria                        </td><td>Proteobacteria                  </td><td>Gammaproteobacteria             </td><td>Enterobacteriales               </td><td>Enterobacteriaceae              </td><td>Citrobacter                     </td><td>unclassified                    </td></tr>\n",
       "\t<tr><td>F141.Wood.Sandpiper             </td><td>9dabdedada5e83148f6d4bff9d7bddcb</td><td>0.04527266                      </td><td>0.04522769                      </td><td>0.0007380096                    </td><td>1.630144                        </td><td>Bacteria                        </td><td>Proteobacteria                  </td><td>Gammaproteobacteria             </td><td>Enterobacteriales               </td><td>Enterobacteriaceae              </td><td>unclassified                    </td><td>unclassified                    </td></tr>\n",
       "\t<tr><td>F141.Wood.Sandpiper             </td><td>ab6bc0116bcfefcbeb981d83cd525034</td><td>0.04526938                      </td><td>0.04522319                      </td><td>0.0007371731                    </td><td>1.628414                        </td><td>Bacteria                        </td><td>Proteobacteria                  </td><td>Gammaproteobacteria             </td><td>Enterobacteriales               </td><td>Enterobacteriaceae              </td><td>Escherichia-Shigella            </td><td>unclassified                    </td></tr>\n",
       "</tbody>\n",
       "</table>\n"
      ],
      "text/latex": [
       "\\begin{tabular}{r|lllllllllllll}\n",
       " host & microbe & mean\\_resid & median\\_resid & sd\\_resid & CV\\_resid & Domain & Phylum & Class & Order & Family & Genus & Species\\\\\n",
       "\\hline\n",
       "\t F141.Wood.Sandpiper              & 8ed6829bdf1df9cdc26ac7a3d1182018 & 0.04520138                       & 0.04515839                       & 0.0007377001                     & 1.632030                         & Bacteria                         & Proteobacteria                   & Gammaproteobacteria              & Enterobacteriales                & Enterobacteriaceae               & Citrobacter                      & unclassified                    \\\\\n",
       "\t F141.Wood.Sandpiper              & 9dabdedada5e83148f6d4bff9d7bddcb & 0.04527266                       & 0.04522769                       & 0.0007380096                     & 1.630144                         & Bacteria                         & Proteobacteria                   & Gammaproteobacteria              & Enterobacteriales                & Enterobacteriaceae               & unclassified                     & unclassified                    \\\\\n",
       "\t F141.Wood.Sandpiper              & ab6bc0116bcfefcbeb981d83cd525034 & 0.04526938                       & 0.04522319                       & 0.0007371731                     & 1.628414                         & Bacteria                         & Proteobacteria                   & Gammaproteobacteria              & Enterobacteriales                & Enterobacteriaceae               & Escherichia-Shigella             & unclassified                    \\\\\n",
       "\\end{tabular}\n"
      ],
      "text/markdown": [
       "\n",
       "host | microbe | mean_resid | median_resid | sd_resid | CV_resid | Domain | Phylum | Class | Order | Family | Genus | Species | \n",
       "|---|---|---|\n",
       "| F141.Wood.Sandpiper              | 8ed6829bdf1df9cdc26ac7a3d1182018 | 0.04520138                       | 0.04515839                       | 0.0007377001                     | 1.632030                         | Bacteria                         | Proteobacteria                   | Gammaproteobacteria              | Enterobacteriales                | Enterobacteriaceae               | Citrobacter                      | unclassified                     | \n",
       "| F141.Wood.Sandpiper              | 9dabdedada5e83148f6d4bff9d7bddcb | 0.04527266                       | 0.04522769                       | 0.0007380096                     | 1.630144                         | Bacteria                         | Proteobacteria                   | Gammaproteobacteria              | Enterobacteriales                | Enterobacteriaceae               | unclassified                     | unclassified                     | \n",
       "| F141.Wood.Sandpiper              | ab6bc0116bcfefcbeb981d83cd525034 | 0.04526938                       | 0.04522319                       | 0.0007371731                     | 1.628414                         | Bacteria                         | Proteobacteria                   | Gammaproteobacteria              | Enterobacteriales                | Enterobacteriaceae               | Escherichia-Shigella             | unclassified                     | \n",
       "\n",
       "\n"
      ],
      "text/plain": [
       "  host                microbe                          mean_resid median_resid\n",
       "1 F141.Wood.Sandpiper 8ed6829bdf1df9cdc26ac7a3d1182018 0.04520138 0.04515839  \n",
       "2 F141.Wood.Sandpiper 9dabdedada5e83148f6d4bff9d7bddcb 0.04527266 0.04522769  \n",
       "3 F141.Wood.Sandpiper ab6bc0116bcfefcbeb981d83cd525034 0.04526938 0.04522319  \n",
       "  sd_resid     CV_resid Domain   Phylum         Class              \n",
       "1 0.0007377001 1.632030 Bacteria Proteobacteria Gammaproteobacteria\n",
       "2 0.0007380096 1.630144 Bacteria Proteobacteria Gammaproteobacteria\n",
       "3 0.0007371731 1.628414 Bacteria Proteobacteria Gammaproteobacteria\n",
       "  Order             Family             Genus                Species     \n",
       "1 Enterobacteriales Enterobacteriaceae Citrobacter          unclassified\n",
       "2 Enterobacteriales Enterobacteriaceae unclassified         unclassified\n",
       "3 Enterobacteriales Enterobacteriaceae Escherichia-Shigella unclassified"
      ]
     },
     "metadata": {},
     "output_type": "display_data"
    }
   ],
   "source": [
    "# adding taxonomy\n",
    "tax = physeq %>% tax_table %>% \n",
    "    as.matrix %>% as.data.frame %>%\n",
    "    mutate(microbe = rownames(.))\n",
    "\n",
    "D_links_l = D_links_l %>%\n",
    "    inner_join(tax, c('microbe'))\n",
    "\n",
    "D_links_l %>% dfhead"
   ]
  },
  {
   "cell_type": "code",
   "execution_count": 36,
   "metadata": {
    "ExecuteTime": {
     "end_time": "2018-09-04T11:01:43.477311Z",
     "start_time": "2018-09-04T11:01:47.423Z"
    }
   },
   "outputs": [
    {
     "name": "stderr",
     "output_type": "stream",
     "text": [
      "Warning message in class(X) <- NULL:\n",
      "“Setting class(x) to NULL;   result will no longer be an S4 object”"
     ]
    },
    {
     "name": "stdout",
     "output_type": "stream",
     "text": [
      "[1] 6077   19\n"
     ]
    },
    {
     "data": {
      "text/html": [
       "<table>\n",
       "<thead><tr><th scope=col>host</th><th scope=col>microbe</th><th scope=col>mean_resid</th><th scope=col>median_resid</th><th scope=col>sd_resid</th><th scope=col>CV_resid</th><th scope=col>Domain</th><th scope=col>Phylum</th><th scope=col>Class</th><th scope=col>Order</th><th scope=col>Family</th><th scope=col>Genus</th><th scope=col>Species</th><th scope=col>class</th><th scope=col>order</th><th scope=col>family</th><th scope=col>genus</th><th scope=col>scientific_name</th><th scope=col>diet</th></tr></thead>\n",
       "<tbody>\n",
       "\t<tr><td>F141.Wood.Sandpiper             </td><td>8ed6829bdf1df9cdc26ac7a3d1182018</td><td>0.04520138                      </td><td>0.04515839                      </td><td>0.0007377001                    </td><td>1.632030                        </td><td>Bacteria                        </td><td>Proteobacteria                  </td><td>Gammaproteobacteria             </td><td>Enterobacteriales               </td><td>Enterobacteriaceae              </td><td>Citrobacter                     </td><td>unclassified                    </td><td>Aves                            </td><td>Charadriiformes                 </td><td>Scolopacidae                    </td><td>Tringa                          </td><td>Tringa_glareola                 </td><td>carnivore                       </td></tr>\n",
       "\t<tr><td>F141.Wood.Sandpiper             </td><td>9dabdedada5e83148f6d4bff9d7bddcb</td><td>0.04527266                      </td><td>0.04522769                      </td><td>0.0007380096                    </td><td>1.630144                        </td><td>Bacteria                        </td><td>Proteobacteria                  </td><td>Gammaproteobacteria             </td><td>Enterobacteriales               </td><td>Enterobacteriaceae              </td><td>unclassified                    </td><td>unclassified                    </td><td>Aves                            </td><td>Charadriiformes                 </td><td>Scolopacidae                    </td><td>Tringa                          </td><td>Tringa_glareola                 </td><td>carnivore                       </td></tr>\n",
       "\t<tr><td>F141.Wood.Sandpiper             </td><td>ab6bc0116bcfefcbeb981d83cd525034</td><td>0.04526938                      </td><td>0.04522319                      </td><td>0.0007371731                    </td><td>1.628414                        </td><td>Bacteria                        </td><td>Proteobacteria                  </td><td>Gammaproteobacteria             </td><td>Enterobacteriales               </td><td>Enterobacteriaceae              </td><td>Escherichia-Shigella            </td><td>unclassified                    </td><td>Aves                            </td><td>Charadriiformes                 </td><td>Scolopacidae                    </td><td>Tringa                          </td><td>Tringa_glareola                 </td><td>carnivore                       </td></tr>\n",
       "</tbody>\n",
       "</table>\n"
      ],
      "text/latex": [
       "\\begin{tabular}{r|lllllllllllllllllll}\n",
       " host & microbe & mean\\_resid & median\\_resid & sd\\_resid & CV\\_resid & Domain & Phylum & Class & Order & Family & Genus & Species & class & order & family & genus & scientific\\_name & diet\\\\\n",
       "\\hline\n",
       "\t F141.Wood.Sandpiper              & 8ed6829bdf1df9cdc26ac7a3d1182018 & 0.04520138                       & 0.04515839                       & 0.0007377001                     & 1.632030                         & Bacteria                         & Proteobacteria                   & Gammaproteobacteria              & Enterobacteriales                & Enterobacteriaceae               & Citrobacter                      & unclassified                     & Aves                             & Charadriiformes                  & Scolopacidae                     & Tringa                           & Tringa\\_glareola                & carnivore                       \\\\\n",
       "\t F141.Wood.Sandpiper              & 9dabdedada5e83148f6d4bff9d7bddcb & 0.04527266                       & 0.04522769                       & 0.0007380096                     & 1.630144                         & Bacteria                         & Proteobacteria                   & Gammaproteobacteria              & Enterobacteriales                & Enterobacteriaceae               & unclassified                     & unclassified                     & Aves                             & Charadriiformes                  & Scolopacidae                     & Tringa                           & Tringa\\_glareola                & carnivore                       \\\\\n",
       "\t F141.Wood.Sandpiper              & ab6bc0116bcfefcbeb981d83cd525034 & 0.04526938                       & 0.04522319                       & 0.0007371731                     & 1.628414                         & Bacteria                         & Proteobacteria                   & Gammaproteobacteria              & Enterobacteriales                & Enterobacteriaceae               & Escherichia-Shigella             & unclassified                     & Aves                             & Charadriiformes                  & Scolopacidae                     & Tringa                           & Tringa\\_glareola                & carnivore                       \\\\\n",
       "\\end{tabular}\n"
      ],
      "text/markdown": [
       "\n",
       "host | microbe | mean_resid | median_resid | sd_resid | CV_resid | Domain | Phylum | Class | Order | Family | Genus | Species | class | order | family | genus | scientific_name | diet | \n",
       "|---|---|---|\n",
       "| F141.Wood.Sandpiper              | 8ed6829bdf1df9cdc26ac7a3d1182018 | 0.04520138                       | 0.04515839                       | 0.0007377001                     | 1.632030                         | Bacteria                         | Proteobacteria                   | Gammaproteobacteria              | Enterobacteriales                | Enterobacteriaceae               | Citrobacter                      | unclassified                     | Aves                             | Charadriiformes                  | Scolopacidae                     | Tringa                           | Tringa_glareola                  | carnivore                        | \n",
       "| F141.Wood.Sandpiper              | 9dabdedada5e83148f6d4bff9d7bddcb | 0.04527266                       | 0.04522769                       | 0.0007380096                     | 1.630144                         | Bacteria                         | Proteobacteria                   | Gammaproteobacteria              | Enterobacteriales                | Enterobacteriaceae               | unclassified                     | unclassified                     | Aves                             | Charadriiformes                  | Scolopacidae                     | Tringa                           | Tringa_glareola                  | carnivore                        | \n",
       "| F141.Wood.Sandpiper              | ab6bc0116bcfefcbeb981d83cd525034 | 0.04526938                       | 0.04522319                       | 0.0007371731                     | 1.628414                         | Bacteria                         | Proteobacteria                   | Gammaproteobacteria              | Enterobacteriales                | Enterobacteriaceae               | Escherichia-Shigella             | unclassified                     | Aves                             | Charadriiformes                  | Scolopacidae                     | Tringa                           | Tringa_glareola                  | carnivore                        | \n",
       "\n",
       "\n"
      ],
      "text/plain": [
       "  host                microbe                          mean_resid median_resid\n",
       "1 F141.Wood.Sandpiper 8ed6829bdf1df9cdc26ac7a3d1182018 0.04520138 0.04515839  \n",
       "2 F141.Wood.Sandpiper 9dabdedada5e83148f6d4bff9d7bddcb 0.04527266 0.04522769  \n",
       "3 F141.Wood.Sandpiper ab6bc0116bcfefcbeb981d83cd525034 0.04526938 0.04522319  \n",
       "  sd_resid     CV_resid Domain   Phylum         Class              \n",
       "1 0.0007377001 1.632030 Bacteria Proteobacteria Gammaproteobacteria\n",
       "2 0.0007380096 1.630144 Bacteria Proteobacteria Gammaproteobacteria\n",
       "3 0.0007371731 1.628414 Bacteria Proteobacteria Gammaproteobacteria\n",
       "  Order             Family             Genus                Species      class\n",
       "1 Enterobacteriales Enterobacteriaceae Citrobacter          unclassified Aves \n",
       "2 Enterobacteriales Enterobacteriaceae unclassified         unclassified Aves \n",
       "3 Enterobacteriales Enterobacteriaceae Escherichia-Shigella unclassified Aves \n",
       "  order           family       genus  scientific_name diet     \n",
       "1 Charadriiformes Scolopacidae Tringa Tringa_glareola carnivore\n",
       "2 Charadriiformes Scolopacidae Tringa Tringa_glareola carnivore\n",
       "3 Charadriiformes Scolopacidae Tringa Tringa_glareola carnivore"
      ]
     },
     "metadata": {},
     "output_type": "display_data"
    }
   ],
   "source": [
    "# adding metadata\n",
    "host_tax = physeq %>% sample_data %>% \n",
    "    as.matrix %>% as.data.frame %>%\n",
    "    mutate(sample = rownames(.)) %>%\n",
    "    dplyr::select(sample, class, order, family, genus, scientific_name, diet)\n",
    "\n",
    "D_links_l = D_links_l %>%\n",
    "    inner_join(host_tax, c('host'='sample')) \n",
    "\n",
    "D_links_l %>% dfhead"
   ]
  },
  {
   "cell_type": "markdown",
   "metadata": {},
   "source": [
    "### Summarizing results"
   ]
  },
  {
   "cell_type": "code",
   "execution_count": 38,
   "metadata": {
    "ExecuteTime": {
     "end_time": "2018-09-04T11:01:57.200625Z",
     "start_time": "2018-09-04T11:01:59.053Z"
    }
   },
   "outputs": [
    {
     "name": "stdout",
     "output_type": "stream",
     "text": [
      "File written: /ebio/abt3_projects/Georg_animal_feces/data/host_specific/pcao/host_TT/.figures/IndD_sens-genus_resid_mean-sd.pdf \n"
     ]
    },
    {
     "data": {
      "image/png": "[encoded data removed]",
      "text/plain": [
       "plot without title"
      ]
     },
     "metadata": {},
     "output_type": "display_data"
    }
   ],
   "source": [
    "p = ggplot(D_links_l, aes(mean_resid, sd_resid, color=class)) +\n",
    "    geom_point(alpha=0.5) +\n",
    "    theme_bw() \n",
    "\n",
    "options(repr.plot.width=6, repr.plot.height=4.5)\n",
    "plot_write(p, file='IndD_sens-genus_resid_mean-sd.pdf')"
   ]
  },
  {
   "cell_type": "markdown",
   "metadata": {},
   "source": [
    "#### CV resulting from intra-species variance"
   ]
  },
  {
   "cell_type": "code",
   "execution_count": 39,
   "metadata": {
    "ExecuteTime": {
     "end_time": "2018-09-04T11:02:01.184491Z",
     "start_time": "2018-09-04T11:02:06.075Z"
    }
   },
   "outputs": [
    {
     "name": "stdout",
     "output_type": "stream",
     "text": [
      "   Min. 1st Qu.  Median    Mean 3rd Qu.    Max. \n",
      "  0.121   2.086   3.078   3.132   3.750  10.927 \n"
     ]
    },
    {
     "data": {
      "image/png": "[encoded data removed]",
      "text/plain": [
       "plot without title"
      ]
     },
     "metadata": {},
     "output_type": "display_data"
    }
   ],
   "source": [
    "# CV variance due to \n",
    "D_links_l$CV_resid %>% summary %>% print\n",
    "\n",
    "p = ggplot(D_links_l, aes(CV_resid)) +\n",
    "    geom_histogram(binwidth=0.25) +\n",
    "    labs(x='intra-species CV in PACo resimduals', y='# of host-microbe\\ncomparisons') +\n",
    "    theme_bw()\n",
    "\n",
    "options(repr.plot.width=5, repr.plot.height=3.5)\n",
    "plot(p)"
   ]
  },
  {
   "cell_type": "code",
   "execution_count": 40,
   "metadata": {
    "ExecuteTime": {
     "end_time": "2018-09-04T11:02:04.973533Z",
     "start_time": "2018-09-04T11:02:07.358Z"
    }
   },
   "outputs": [
    {
     "name": "stdout",
     "output_type": "stream",
     "text": [
      "   Min. 1st Qu.  Median    Mean 3rd Qu.    Max. \n",
      "  0.121   2.086   3.078   3.132   3.750  10.927 \n",
      "File written: /ebio/abt3_projects/Georg_animal_feces/data/host_specific/pcao/host_TT/.figures/IndD_sens-genus_resid_histo-byClass.pdf \n"
     ]
    },
    {
     "data": {
      "image/png": "[encoded data removed]",
      "text/plain": [
       "plot without title"
      ]
     },
     "metadata": {},
     "output_type": "display_data"
    }
   ],
   "source": [
    "# CV variance due to \n",
    "D_links_l$CV_resid %>% summary %>% print\n",
    "\n",
    "p = ggplot(D_links_l, aes(CV_resid)) +\n",
    "    geom_histogram(binwidth=0.25) +\n",
    "    labs(x='intra-species CV in PACo resimduals', y='# of host-microbe\\ncomparisons') +\n",
    "    facet_wrap(~ class, scales='free_y') +\n",
    "    theme_bw()\n",
    "\n",
    "options(repr.plot.width=6, repr.plot.height=3.5)\n",
    "plot_write(p, file='IndD_sens-genus_resid_histo-byClass.pdf')"
   ]
  },
  {
   "cell_type": "markdown",
   "metadata": {},
   "source": [
    "#### Notes\n",
    "\n",
    "* a rather low intra-species CV, suggesting that intra-species variation doesn't affect residuals much"
   ]
  },
  {
   "cell_type": "markdown",
   "metadata": {},
   "source": [
    "### Summing residuals by host data"
   ]
  },
  {
   "cell_type": "code",
   "execution_count": 41,
   "metadata": {
    "ExecuteTime": {
     "end_time": "2018-09-04T11:02:05.038468Z",
     "start_time": "2018-09-04T11:02:09.741Z"
    }
   },
   "outputs": [
    {
     "name": "stdout",
     "output_type": "stream",
     "text": [
      "[1] 6077    6\n"
     ]
    },
    {
     "data": {
      "text/html": [
       "<table>\n",
       "<thead><tr><th scope=col>host</th><th scope=col>microbe</th><th scope=col>mean_resid</th><th scope=col>class</th><th scope=col>category</th><th scope=col>value</th></tr></thead>\n",
       "<tbody>\n",
       "\t<tr><td>F141.Wood.Sandpiper             </td><td>8ed6829bdf1df9cdc26ac7a3d1182018</td><td>0.04520138                      </td><td>Aves                            </td><td>diet                            </td><td>carnivore                       </td></tr>\n",
       "\t<tr><td>F141.Wood.Sandpiper             </td><td>9dabdedada5e83148f6d4bff9d7bddcb</td><td>0.04527266                      </td><td>Aves                            </td><td>diet                            </td><td>carnivore                       </td></tr>\n",
       "\t<tr><td>F141.Wood.Sandpiper             </td><td>ab6bc0116bcfefcbeb981d83cd525034</td><td>0.04526938                      </td><td>Aves                            </td><td>diet                            </td><td>carnivore                       </td></tr>\n",
       "</tbody>\n",
       "</table>\n"
      ],
      "text/latex": [
       "\\begin{tabular}{r|llllll}\n",
       " host & microbe & mean\\_resid & class & category & value\\\\\n",
       "\\hline\n",
       "\t F141.Wood.Sandpiper              & 8ed6829bdf1df9cdc26ac7a3d1182018 & 0.04520138                       & Aves                             & diet                             & carnivore                       \\\\\n",
       "\t F141.Wood.Sandpiper              & 9dabdedada5e83148f6d4bff9d7bddcb & 0.04527266                       & Aves                             & diet                             & carnivore                       \\\\\n",
       "\t F141.Wood.Sandpiper              & ab6bc0116bcfefcbeb981d83cd525034 & 0.04526938                       & Aves                             & diet                             & carnivore                       \\\\\n",
       "\\end{tabular}\n"
      ],
      "text/markdown": [
       "\n",
       "host | microbe | mean_resid | class | category | value | \n",
       "|---|---|---|\n",
       "| F141.Wood.Sandpiper              | 8ed6829bdf1df9cdc26ac7a3d1182018 | 0.04520138                       | Aves                             | diet                             | carnivore                        | \n",
       "| F141.Wood.Sandpiper              | 9dabdedada5e83148f6d4bff9d7bddcb | 0.04527266                       | Aves                             | diet                             | carnivore                        | \n",
       "| F141.Wood.Sandpiper              | ab6bc0116bcfefcbeb981d83cd525034 | 0.04526938                       | Aves                             | diet                             | carnivore                        | \n",
       "\n",
       "\n"
      ],
      "text/plain": [
       "  host                microbe                          mean_resid class\n",
       "1 F141.Wood.Sandpiper 8ed6829bdf1df9cdc26ac7a3d1182018 0.04520138 Aves \n",
       "2 F141.Wood.Sandpiper 9dabdedada5e83148f6d4bff9d7bddcb 0.04527266 Aves \n",
       "3 F141.Wood.Sandpiper ab6bc0116bcfefcbeb981d83cd525034 0.04526938 Aves \n",
       "  category value    \n",
       "1 diet     carnivore\n",
       "2 diet     carnivore\n",
       "3 diet     carnivore"
      ]
     },
     "metadata": {},
     "output_type": "display_data"
    }
   ],
   "source": [
    "D_links_l_s = D_links_l %>% \n",
    "    dplyr::select(host, microbe, mean_resid, diet, class) %>%\n",
    "    gather(category, value, -host, -microbe, -mean_resid, -class) \n",
    "\n",
    "D_links_l_s %>% dfhead"
   ]
  },
  {
   "cell_type": "code",
   "execution_count": 42,
   "metadata": {
    "ExecuteTime": {
     "end_time": "2018-09-04T11:02:16.495123Z",
     "start_time": "2018-09-04T11:02:20.309Z"
    }
   },
   "outputs": [
    {
     "name": "stdout",
     "output_type": "stream",
     "text": [
      "File written: /ebio/abt3_projects/Georg_animal_feces/data/host_specific/pcao/host_TT/.figures/IndD_sens-genus_resid_diet.pdf \n"
     ]
    },
    {
     "data": {
      "image/png": "[encoded data removed]",
      "text/plain": [
       "plot without title"
      ]
     },
     "metadata": {},
     "output_type": "display_data"
    }
   ],
   "source": [
    "tmp = D_links_l %>% \n",
    "    group_by(diet) %>%\n",
    "    mutate(median_resid = median(mean_resid)) %>%\n",
    "    ungroup() %>%\n",
    "    mutate(diet = diet %>% reorder(-median_resid))\n",
    "\n",
    "p = ggplot(tmp, aes(diet, mean_resid)) +\n",
    "    geom_boxplot() +\n",
    "    labs(x='Class', y='Residuals') +\n",
    "    theme_bw() +\n",
    "    theme(\n",
    "        axis.text.x = element_text(angle=45, hjust=1)\n",
    "    )\n",
    "\n",
    "options(repr.plot.width=3.5, repr.plot.height=2.5)\n",
    "plot_write(p, file='IndD_sens-genus_resid_diet.pdf')"
   ]
  },
  {
   "cell_type": "code",
   "execution_count": 43,
   "metadata": {
    "ExecuteTime": {
     "end_time": "2018-09-04T11:02:29.426387Z",
     "start_time": "2018-09-04T11:02:32.515Z"
    }
   },
   "outputs": [
    {
     "name": "stdout",
     "output_type": "stream",
     "text": [
      "File written: /ebio/abt3_projects/Georg_animal_feces/data/host_specific/pcao/host_TT/.figures/IndD_sens-genus_resid_class-diet.pdf \n"
     ]
    },
    {
     "data": {
      "image/png": "[encoded data removed]",
      "text/plain": [
       "plot without title"
      ]
     },
     "metadata": {},
     "output_type": "display_data"
    }
   ],
   "source": [
    "tmp = D_links_l_s %>% \n",
    "    group_by(class) %>%\n",
    "    mutate(median_resid = median(mean_resid)) %>%\n",
    "    ungroup() %>%\n",
    "    mutate(class = class %>% reorder(-median_resid))\n",
    "\n",
    "p = ggplot(tmp, aes(class, mean_resid, color=value)) +\n",
    "    geom_boxplot() +\n",
    "    scale_color_discrete('Diet') +\n",
    "    labs(x='Class', y='Residuals') +\n",
    "    theme_bw() +\n",
    "    theme(\n",
    "        axis.text.x = element_text(angle=45, hjust=1)\n",
    "    )\n",
    "\n",
    "options(repr.plot.width=5, repr.plot.height=2.5)\n",
    "plot_write(p, file='IndD_sens-genus_resid_class-diet.pdf')"
   ]
  },
  {
   "cell_type": "markdown",
   "metadata": {},
   "source": [
    "### Formatting for iTOL"
   ]
  },
  {
   "cell_type": "code",
   "execution_count": 76,
   "metadata": {
    "ExecuteTime": {
     "end_time": "2018-07-23T18:01:14.252180Z",
     "start_time": "2018-07-23T18:01:16.576Z"
    }
   },
   "outputs": [
    {
     "name": "stdout",
     "output_type": "stream",
     "text": [
      "[1] 128 396\n"
     ]
    },
    {
     "data": {
      "text/html": [
       "<table>\n",
       "<thead><tr><th></th><th scope=col>Acinetobacter_SV134</th><th scope=col>Acinetobacter_SV157</th><th scope=col>Acinetobacter_SV159</th><th scope=col>Acinetobacter_SV179</th><th scope=col>Acinetobacter_SV214</th><th scope=col>Acinetobacter_SV306</th><th scope=col>Acinetobacter_SV364</th><th scope=col>Aeromonas_SV351</th><th scope=col>Akkermansia_SV189</th><th scope=col>Akkermansia_SV24</th><th scope=col>⋯</th><th scope=col>uncultured_SV80</th><th scope=col>uncultured_SV81</th><th scope=col>uncultured_SV84</th><th scope=col>uncultured_SV85</th><th scope=col>uncultured_SV87</th><th scope=col>uncultured_SV88</th><th scope=col>uncultured_SV89</th><th scope=col>uncultured_SV92</th><th scope=col>uncultured_SV94</th><th scope=col>uncultured_SV98</th></tr></thead>\n",
       "<tbody>\n",
       "\t<tr><th scope=row>Acrocephalus_scirpaceus</th><td>NA         </td><td>NA         </td><td>NA         </td><td>        NA </td><td>NA         </td><td>NA         </td><td>NA         </td><td>NA         </td><td>NA         </td><td>NA         </td><td>⋯          </td><td>         NA</td><td>NA         </td><td>NA         </td><td>         NA</td><td>NA         </td><td>         NA</td><td>NA         </td><td>NA         </td><td>         NA</td><td>NA         </td></tr>\n",
       "\t<tr><th scope=row>Aepyceros_melampus</th><td>NA         </td><td>NA         </td><td>NA         </td><td>0.01098143 </td><td>NA         </td><td>NA         </td><td>NA         </td><td>NA         </td><td>NA         </td><td>NA         </td><td>⋯          </td><td>0.009122582</td><td>NA         </td><td>NA         </td><td>0.007887746</td><td>NA         </td><td>0.008439552</td><td>NA         </td><td>NA         </td><td>0.007801346</td><td>NA         </td></tr>\n",
       "\t<tr><th scope=row>Anas_platyrhynchos</th><td>NA         </td><td>NA         </td><td>NA         </td><td>        NA </td><td>NA         </td><td>NA         </td><td>NA         </td><td>NA         </td><td>NA         </td><td>NA         </td><td>⋯          </td><td>         NA</td><td>NA         </td><td>NA         </td><td>         NA</td><td>NA         </td><td>         NA</td><td>NA         </td><td>NA         </td><td>         NA</td><td>NA         </td></tr>\n",
       "</tbody>\n",
       "</table>\n"
      ],
      "text/latex": [
       "\\begin{tabular}{r|llllllllllllllllllllllllllllllllllllllllllllllllllllllllllllllllllllllllllllllllllllllllllllllllllllllllllllllllllllllllllllllllllllllllllllllllllllllllllllllllllllllllllllllllllllllllllllllllllllllllllllllllllllllllllllllllllllllllllllllllllllllllllllllllllllllllllllllllllllllllllllllllllllllllllllllllllllllllllllllllllllllllllllllllllllllllllllllllllllllllllllllllllllllllllllllllllllllllllll}\n",
       "  & Acinetobacter\\_SV134 & Acinetobacter\\_SV157 & Acinetobacter\\_SV159 & Acinetobacter\\_SV179 & Acinetobacter\\_SV214 & Acinetobacter\\_SV306 & Acinetobacter\\_SV364 & Aeromonas\\_SV351 & Akkermansia\\_SV189 & Akkermansia\\_SV24 & ⋯ & uncultured\\_SV80 & uncultured\\_SV81 & uncultured\\_SV84 & uncultured\\_SV85 & uncultured\\_SV87 & uncultured\\_SV88 & uncultured\\_SV89 & uncultured\\_SV92 & uncultured\\_SV94 & uncultured\\_SV98\\\\\n",
       "\\hline\n",
       "\tAcrocephalus\\_scirpaceus & NA          & NA          & NA          &         NA  & NA          & NA          & NA          & NA          & NA          & NA          & ⋯           &          NA & NA          & NA          &          NA & NA          &          NA & NA          & NA          &          NA & NA         \\\\\n",
       "\tAepyceros\\_melampus & NA          & NA          & NA          & 0.01098143  & NA          & NA          & NA          & NA          & NA          & NA          & ⋯           & 0.009122582 & NA          & NA          & 0.007887746 & NA          & 0.008439552 & NA          & NA          & 0.007801346 & NA         \\\\\n",
       "\tAnas\\_platyrhynchos & NA          & NA          & NA          &         NA  & NA          & NA          & NA          & NA          & NA          & NA          & ⋯           &          NA & NA          & NA          &          NA & NA          &          NA & NA          & NA          &          NA & NA         \\\\\n",
       "\\end{tabular}\n"
      ],
      "text/markdown": [
       "\n",
       "| <!--/--> | Acinetobacter_SV134 | Acinetobacter_SV157 | Acinetobacter_SV159 | Acinetobacter_SV179 | Acinetobacter_SV214 | Acinetobacter_SV306 | Acinetobacter_SV364 | Aeromonas_SV351 | Akkermansia_SV189 | Akkermansia_SV24 | ⋯ | uncultured_SV80 | uncultured_SV81 | uncultured_SV84 | uncultured_SV85 | uncultured_SV87 | uncultured_SV88 | uncultured_SV89 | uncultured_SV92 | uncultured_SV94 | uncultured_SV98 | \n",
       "|---|---|---|\n",
       "| Acrocephalus_scirpaceus | NA          | NA          | NA          |         NA  | NA          | NA          | NA          | NA          | NA          | NA          | ⋯           |          NA | NA          | NA          |          NA | NA          |          NA | NA          | NA          |          NA | NA          | \n",
       "| Aepyceros_melampus | NA          | NA          | NA          | 0.01098143  | NA          | NA          | NA          | NA          | NA          | NA          | ⋯           | 0.009122582 | NA          | NA          | 0.007887746 | NA          | 0.008439552 | NA          | NA          | 0.007801346 | NA          | \n",
       "| Anas_platyrhynchos | NA          | NA          | NA          |         NA  | NA          | NA          | NA          | NA          | NA          | NA          | ⋯           |          NA | NA          | NA          |          NA | NA          |          NA | NA          | NA          |          NA | NA          | \n",
       "\n",
       "\n"
      ],
      "text/plain": [
       "                        Acinetobacter_SV134 Acinetobacter_SV157\n",
       "Acrocephalus_scirpaceus NA                  NA                 \n",
       "Aepyceros_melampus      NA                  NA                 \n",
       "Anas_platyrhynchos      NA                  NA                 \n",
       "                        Acinetobacter_SV159 Acinetobacter_SV179\n",
       "Acrocephalus_scirpaceus NA                          NA         \n",
       "Aepyceros_melampus      NA                  0.01098143         \n",
       "Anas_platyrhynchos      NA                          NA         \n",
       "                        Acinetobacter_SV214 Acinetobacter_SV306\n",
       "Acrocephalus_scirpaceus NA                  NA                 \n",
       "Aepyceros_melampus      NA                  NA                 \n",
       "Anas_platyrhynchos      NA                  NA                 \n",
       "                        Acinetobacter_SV364 Aeromonas_SV351 Akkermansia_SV189\n",
       "Acrocephalus_scirpaceus NA                  NA              NA               \n",
       "Aepyceros_melampus      NA                  NA              NA               \n",
       "Anas_platyrhynchos      NA                  NA              NA               \n",
       "                        Akkermansia_SV24 ⋯ uncultured_SV80 uncultured_SV81\n",
       "Acrocephalus_scirpaceus NA               ⋯          NA     NA             \n",
       "Aepyceros_melampus      NA               ⋯ 0.009122582     NA             \n",
       "Anas_platyrhynchos      NA               ⋯          NA     NA             \n",
       "                        uncultured_SV84 uncultured_SV85 uncultured_SV87\n",
       "Acrocephalus_scirpaceus NA                       NA     NA             \n",
       "Aepyceros_melampus      NA              0.007887746     NA             \n",
       "Anas_platyrhynchos      NA                       NA     NA             \n",
       "                        uncultured_SV88 uncultured_SV89 uncultured_SV92\n",
       "Acrocephalus_scirpaceus          NA     NA              NA             \n",
       "Aepyceros_melampus      0.008439552     NA              NA             \n",
       "Anas_platyrhynchos               NA     NA              NA             \n",
       "                        uncultured_SV94 uncultured_SV98\n",
       "Acrocephalus_scirpaceus          NA     NA             \n",
       "Aepyceros_melampus      0.007801346     NA             \n",
       "Anas_platyrhynchos               NA     NA             "
      ]
     },
     "metadata": {},
     "output_type": "display_data"
    }
   ],
   "source": [
    "otu_m = D_links_l %>%\n",
    "    mutate(host = gsub(' ', '_', scientific_name)) %>%\n",
    "    group_by(host, Genus, microbe) %>%\n",
    "    summarize(mean_resid = mean(mean_resid, na.rm=TRUE)) %>%\n",
    "    ungroup() %>%\n",
    "    mutate(microbe = microbe %>% as.factor %>% as.numeric,\n",
    "           microbe = gsub('^', 'SV', microbe)) %>%\n",
    "    unite(OTU, Genus, microbe) %>%\n",
    "    filter(!grepl('^_SV', OTU)) %>%\n",
    "    dplyr::select(host, OTU, mean_resid) %>%\n",
    "    spread(OTU, mean_resid) %>%\n",
    "    as.data.frame\n",
    "\n",
    "rownames(otu_m) = otu_m$host \n",
    "otu_m$host = NULL\n",
    "rownames(otu_m) = gsub('^X', '', rownames(otu_m))\n",
    "\n",
    "otu_m %>% dfhead"
   ]
  },
  {
   "cell_type": "code",
   "execution_count": 77,
   "metadata": {
    "ExecuteTime": {
     "end_time": "2018-07-23T18:01:15.491986Z",
     "start_time": "2018-07-23T18:01:18.135Z"
    }
   },
   "outputs": [],
   "source": [
    "# checking overlap with host clado tips\n",
    "#host_tree = read.tree(host_tree_file)\n",
    "#setdiff(host_tree$tip.label, rownames(otu_m)) %>% print\n",
    "#setdiff(rownames(otu_m), host_tree$tip.label) %>% print"
   ]
  },
  {
   "cell_type": "code",
   "execution_count": 78,
   "metadata": {
    "ExecuteTime": {
     "end_time": "2018-07-23T18:01:17.466451Z",
     "start_time": "2018-07-23T18:01:19.992Z"
    }
   },
   "outputs": [
    {
     "name": "stdout",
     "output_type": "stream",
     "text": [
      "File written: /ebio/abt3_projects/Georg_animal_feces/data/host_specific/pcao/host_TT//physeq_IndD-sens-genus_PACo-Con-links_htmp.txt \n"
     ]
    }
   ],
   "source": [
    "itol_htmp_file = file.path(work_dir, 'physeq_IndD-sens-genus_PACo-Con-links_htmp.txt')\n",
    "labs = gsub(' ', '_', colnames(otu_m))\n",
    "labs = sprintf('FIELD_LABELS %s\\n', paste(labs, collapse=' '))\n",
    "\n",
    "cat('DATASET_HEATMAP\\n', file=itol_htmp_file)\n",
    "cat('SEPARATOR SPACE\\n', file=itol_htmp_file, append=TRUE)\n",
    "cat('DATASET_LABEL paco_residuals\\n', file=itol_htmp_file, append=TRUE)\n",
    "cat('COLOR #ff0000\\n', file=itol_htmp_file, append=TRUE)\n",
    "cat(labs, file=itol_htmp_file, append=TRUE)\n",
    "cat('DATA\\n', file=itol_htmp_file, append=TRUE)\n",
    "write.table(otu_m, file=itol_htmp_file, append=TRUE, sep=' ', \n",
    "            quote=FALSE, col.names=FALSE)\n",
    "cat('File written:', itol_htmp_file, '\\n')"
   ]
  },
  {
   "cell_type": "markdown",
   "metadata": {},
   "source": [
    "#### iTOL: distribution of residuals per host species"
   ]
  },
  {
   "cell_type": "code",
   "execution_count": 79,
   "metadata": {
    "ExecuteTime": {
     "end_time": "2018-07-23T18:01:19.385451Z",
     "start_time": "2018-07-23T18:01:21.850Z"
    }
   },
   "outputs": [
    {
     "name": "stdout",
     "output_type": "stream",
     "text": [
      "[1] 128   6\n"
     ]
    },
    {
     "data": {
      "text/html": [
       "<table>\n",
       "<thead><tr><th scope=col>host</th><th scope=col>minimum</th><th scope=col>q1</th><th scope=col>median</th><th scope=col>q3</th><th scope=col>maximum</th></tr></thead>\n",
       "<tbody>\n",
       "\t<tr><td>Acrocephalus_scirpaceus</td><td>0.044509395            </td><td>0.044509395            </td><td>0.045086381            </td><td>0.045152758            </td><td>0.04527382             </td></tr>\n",
       "\t<tr><td>Aepyceros_melampus     </td><td>0.007801346            </td><td>0.007983354            </td><td>0.008646582            </td><td>0.009277729            </td><td>0.01234967             </td></tr>\n",
       "\t<tr><td>Anas_platyrhynchos     </td><td>0.044688398            </td><td>0.045322589            </td><td>0.045774215            </td><td>0.046717198            </td><td>0.04678769             </td></tr>\n",
       "</tbody>\n",
       "</table>\n"
      ],
      "text/latex": [
       "\\begin{tabular}{r|llllll}\n",
       " host & minimum & q1 & median & q3 & maximum\\\\\n",
       "\\hline\n",
       "\t Acrocephalus\\_scirpaceus & 0.044509395               & 0.044509395               & 0.045086381               & 0.045152758               & 0.04527382               \\\\\n",
       "\t Aepyceros\\_melampus      & 0.007801346               & 0.007983354               & 0.008646582               & 0.009277729               & 0.01234967               \\\\\n",
       "\t Anas\\_platyrhynchos      & 0.044688398               & 0.045322589               & 0.045774215               & 0.046717198               & 0.04678769               \\\\\n",
       "\\end{tabular}\n"
      ],
      "text/markdown": [
       "\n",
       "host | minimum | q1 | median | q3 | maximum | \n",
       "|---|---|---|\n",
       "| Acrocephalus_scirpaceus | 0.044509395             | 0.044509395             | 0.045086381             | 0.045152758             | 0.04527382              | \n",
       "| Aepyceros_melampus      | 0.007801346             | 0.007983354             | 0.008646582             | 0.009277729             | 0.01234967              | \n",
       "| Anas_platyrhynchos      | 0.044688398             | 0.045322589             | 0.045774215             | 0.046717198             | 0.04678769              | \n",
       "\n",
       "\n"
      ],
      "text/plain": [
       "  host                    minimum     q1          median      q3         \n",
       "1 Acrocephalus_scirpaceus 0.044509395 0.044509395 0.045086381 0.045152758\n",
       "2 Aepyceros_melampus      0.007801346 0.007983354 0.008646582 0.009277729\n",
       "3 Anas_platyrhynchos      0.044688398 0.045322589 0.045774215 0.046717198\n",
       "  maximum   \n",
       "1 0.04527382\n",
       "2 0.01234967\n",
       "3 0.04678769"
      ]
     },
     "metadata": {},
     "output_type": "display_data"
    }
   ],
   "source": [
    "# summing residuals by host\n",
    "#ID1,minimum,q1,median,q3,maximum,extreme_value1,extreme_value2\n",
    "tmp = D_links_l %>%\n",
    "    filter(!is.na(mean_resid)) %>%\n",
    "    mutate(host = gsub(' ', '_', scientific_name)) %>%\n",
    "    group_by(host, Genus, microbe) %>%\n",
    "    summarize(mean_resid = mean(mean_resid, na.rm=TRUE)) %>%\n",
    "    ungroup() %>%\n",
    "    group_by(host) %>%\n",
    "    summarize(minimum = min(mean_resid),\n",
    "              q1 = quantile(mean_resid, 0.25),\n",
    "              median = median(mean_resid),\n",
    "              q3 = quantile(mean_resid, 0.75),\n",
    "              maximum = max(mean_resid)) %>%\n",
    "    ungroup() \n",
    "\n",
    "\n",
    "tmp %>% dfhead"
   ]
  },
  {
   "cell_type": "code",
   "execution_count": 80,
   "metadata": {
    "ExecuteTime": {
     "end_time": "2018-07-23T18:01:20.257275Z",
     "start_time": "2018-07-23T18:01:22.847Z"
    }
   },
   "outputs": [
    {
     "name": "stdout",
     "output_type": "stream",
     "text": [
      "File written: /ebio/abt3_projects/Georg_animal_feces/data/host_specific/pcao/host_TT//physeq_IndD-sens-genus_PACo-Con-links_box.txt \n"
     ]
    }
   ],
   "source": [
    "itol_box_file = file.path(work_dir, 'physeq_IndD-sens-genus_PACo-Con-links_box.txt')\n",
    "\n",
    "cat('DATASET_BOXPLOT\\n', file=itol_box_file)\n",
    "cat('SEPARATOR SPACE\\n', file=itol_box_file, append=TRUE)\n",
    "cat('DATASET_LABEL resid-bxplt_IndD-sens\\n', file=itol_box_file, append=TRUE)\n",
    "cat('COLOR #ff0000\\n', file=itol_box_file, append=TRUE)\n",
    "cat('DATA\\n', file=itol_box_file, append=TRUE)\n",
    "write.table(tmp, file=itol_box_file, append=TRUE, sep=' ', \n",
    "            quote=FALSE, row.names=FALSE, col.names=FALSE)\n",
    "cat('File written:', itol_box_file, '\\n')"
   ]
  },
  {
   "cell_type": "markdown",
   "metadata": {},
   "source": [
    "# sessionInfo"
   ]
  },
  {
   "cell_type": "code",
   "execution_count": 81,
   "metadata": {
    "ExecuteTime": {
     "end_time": "2018-07-23T18:01:22.344142Z",
     "start_time": "2018-07-23T18:01:23.511Z"
    }
   },
   "outputs": [
    {
     "data": {
      "text/plain": [
       "R version 3.4.1 (2017-06-30)\n",
       "Platform: x86_64-pc-linux-gnu (64-bit)\n",
       "Running under: Ubuntu 16.04.4 LTS\n",
       "\n",
       "Matrix products: default\n",
       "BLAS: /ebio/abt3_projects/software/miniconda3/envs/py3_physeq_phylo/lib/R/lib/libRblas.so\n",
       "LAPACK: /ebio/abt3_projects/software/miniconda3/envs/py3_physeq_phylo/lib/R/lib/libRlapack.so\n",
       "\n",
       "locale:\n",
       " [1] LC_CTYPE=en_US.UTF-8       LC_NUMERIC=C              \n",
       " [3] LC_TIME=en_US.UTF-8        LC_COLLATE=en_US.UTF-8    \n",
       " [5] LC_MONETARY=en_US.UTF-8    LC_MESSAGES=en_US.UTF-8   \n",
       " [7] LC_PAPER=en_US.UTF-8       LC_NAME=C                 \n",
       " [9] LC_ADDRESS=C               LC_TELEPHONE=C            \n",
       "[11] LC_MEASUREMENT=en_US.UTF-8 LC_IDENTIFICATION=C       \n",
       "\n",
       "attached base packages:\n",
       "[1] stats     graphics  grDevices utils     datasets  methods   base     \n",
       "\n",
       "other attached packages:\n",
       " [1] bindrcpp_0.2            future.apply_1.0.0      future.batchtools_0.7.0\n",
       " [4] future_1.8.1            paco_0.3.2              ape_5.1                \n",
       " [7] phyloseq_1.22.3         stringr_1.2.0           ggplot2_2.2.1          \n",
       "[10] tidyr_0.8.1             dplyr_0.7.4            \n",
       "\n",
       "loaded via a namespace (and not attached):\n",
       " [1] Biobase_2.38.0      jsonlite_1.5        splines_3.4.1      \n",
       " [4] foreach_1.4.4       assertthat_0.2.0    stats4_3.4.1       \n",
       " [7] base64url_1.3       progress_1.1.2      globals_0.12.1     \n",
       "[10] pillar_1.2.2        backports_1.1.2     lattice_0.20-35    \n",
       "[13] glue_1.2.0          uuid_0.1-2          digest_0.6.13      \n",
       "[16] XVector_0.18.0      checkmate_1.8.5     colorspace_1.3-2   \n",
       "[19] htmltools_0.3.6     Matrix_1.2-14       plyr_1.8.4         \n",
       "[22] pkgconfig_2.0.1     listenv_0.7.0       zlibbioc_1.24.0    \n",
       "[25] purrr_0.2.4         scales_0.5.0        brew_1.0-6         \n",
       "[28] tibble_1.4.2        mgcv_1.8-17         IRanges_2.12.0     \n",
       "[31] withr_2.1.1         repr_0.13           BiocGenerics_0.24.0\n",
       "[34] lazyeval_0.2.1      survival_2.40-1     magrittr_1.5       \n",
       "[37] crayon_1.3.4        evaluate_0.10.1     doParallel_1.0.11  \n",
       "[40] nlme_3.1-137        MASS_7.3-48         vegan_2.4-3        \n",
       "[43] prettyunits_1.0.2   tools_3.4.1         data.table_1.11.4  \n",
       "[46] S4Vectors_0.16.0    munsell_0.4.3       cluster_2.0.6      \n",
       "[49] Biostrings_2.46.0   ade4_1.7-10         compiler_3.4.1     \n",
       "[52] rlang_0.2.0         rhdf5_2.22.0        grid_3.4.1         \n",
       "[55] pbdZMQ_0.3-1        iterators_1.0.9     IRkernel_0.8.11    \n",
       "[58] biomformat_1.6.0    rappdirs_0.3.1      igraph_1.2.1       \n",
       "[61] labeling_0.3        base64enc_0.1-3     gtable_0.2.0       \n",
       "[64] codetools_0.2-15    multtest_2.34.0     reshape2_1.4.3     \n",
       "[67] R6_2.2.2            bindr_0.1.1         permute_0.9-4      \n",
       "[70] stringi_1.1.6       parallel_3.4.1      IRdisplay_0.4.4    \n",
       "[73] Rcpp_0.12.14        tidyselect_0.2.4    batchtools_0.9.8   "
      ]
     },
     "metadata": {},
     "output_type": "display_data"
    }
   ],
   "source": [
    "sessionInfo()"
   ]
  },
  {
   "cell_type": "code",
   "execution_count": null,
   "metadata": {},
   "outputs": [],
   "source": []
  }
 ],
 "metadata": {
  "kernelspec": {
   "display_name": "R [conda env:py3_physeq_phylo]",
   "language": "R",
   "name": "conda-env-py3_physeq_phylo-r"
  },
  "language_info": {
   "codemirror_mode": "r",
   "file_extension": ".r",
   "mimetype": "text/x-r-source",
   "name": "R",
   "pygments_lexer": "r",
   "version": "3.4.1"
  },
  "notify_time": "30",
  "toc": {
   "base_numbering": 1,
   "nav_menu": {},
   "number_sections": true,
   "sideBar": true,
   "skip_h1_title": false,
   "title_cell": "Table of Contents",
   "title_sidebar": "Contents",
   "toc_cell": false,
   "toc_position": {
    "height": "1209px",
    "left": "0px",
    "right": "1068px",
    "top": "111px",
    "width": "260px"
   },
   "toc_section_display": "block",
   "toc_window_display": true
  }
 },
 "nbformat": 4,
 "nbformat_minor": 2
}
