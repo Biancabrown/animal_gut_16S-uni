{
 "cells": [
  {
   "cell_type": "markdown",
   "metadata": {},
   "source": [
    "# Goal\n",
    "\n",
    "* Run `phylosignal::phyloSignal` on alpha diversity metric values"
   ]
  },
  {
   "cell_type": "markdown",
   "metadata": {},
   "source": [
    "# Var"
   ]
  },
  {
   "cell_type": "code",
   "execution_count": 1,
   "metadata": {
    "ExecuteTime": {
     "end_time": "2018-07-07T07:08:25.247277Z",
     "start_time": "2018-07-07T07:08:24.444Z"
    }
   },
   "outputs": [],
   "source": [
    "work_dir = '/ebio/abt3_projects/Georg_animal_feces/data/host_specific/phylosignal/host_TT/'\n",
    "\n",
    "# phyloseq\n",
    "physeq_file = '/ebio/abt3_projects/Georg_animal_feces/data/16S/LLA/phyloseq/physeq_r5k.RDS'\n",
    "\n",
    "# host phylogeny\n",
    "host_tree_SpecD_file = '/ebio/abt3_projects/Georg_animal_feces/data/animal/phylogeny/TT/unified_metadata_complete_20180625_rn_16S-r5k_SpecD.nwk'\n",
    "\n",
    "# alpha-div calculated with qiime2\n",
    "alpha_div_file = \"/ebio/abt3_projects/Georg_animal_feces/data/16S/LLA/diversity//alpha_div.RDS\"\n",
    "\n",
    "# params\n",
    "threads = 12"
   ]
  },
  {
   "cell_type": "markdown",
   "metadata": {},
   "source": [
    "# Init"
   ]
  },
  {
   "cell_type": "code",
   "execution_count": 2,
   "metadata": {
    "ExecuteTime": {
     "end_time": "2018-07-07T07:08:48.693938Z",
     "start_time": "2018-07-07T07:08:24.712Z"
    }
   },
   "outputs": [
    {
     "name": "stderr",
     "output_type": "stream",
     "text": [
      "\n",
      "Attaching package: ‘dplyr’\n",
      "\n",
      "The following objects are masked from ‘package:stats’:\n",
      "\n",
      "    filter, lag\n",
      "\n",
      "The following objects are masked from ‘package:base’:\n",
      "\n",
      "    intersect, setdiff, setequal, union\n",
      "\n",
      "Loading required package: foreach\n",
      "Loading required package: iterators\n",
      "Loading required package: parallel\n"
     ]
    }
   ],
   "source": [
    "library(dplyr)\n",
    "library(tidyr)\n",
    "library(ggplot2)\n",
    "library(ape)\n",
    "library(phyloseq)\n",
    "library(phylosignal)\n",
    "library(doParallel)\n",
    "#library(phytools)\n",
    "source('/ebio/abt3_projects/Georg_animal_feces/code/init.R') \n",
    "source('/ebio/abt3_projects/Georg_animal_feces/code/itol.R') "
   ]
  },
  {
   "cell_type": "code",
   "execution_count": 3,
   "metadata": {
    "ExecuteTime": {
     "end_time": "2018-07-07T07:08:49.064753Z",
     "start_time": "2018-07-07T07:08:24.841Z"
    }
   },
   "outputs": [
    {
     "name": "stdout",
     "output_type": "stream",
     "text": [
      "Directory already exists: /ebio/abt3_projects/Georg_animal_feces/data/host_specific/phylosignal/host_TT/ \n"
     ]
    }
   ],
   "source": [
    "make_dir(work_dir)\n",
    "setwd(work_dir)"
   ]
  },
  {
   "cell_type": "markdown",
   "metadata": {},
   "source": [
    "# Load"
   ]
  },
  {
   "cell_type": "code",
   "execution_count": 4,
   "metadata": {
    "ExecuteTime": {
     "end_time": "2018-07-07T07:08:50.782566Z",
     "start_time": "2018-07-07T07:08:25.635Z"
    }
   },
   "outputs": [
    {
     "data": {
      "text/plain": [
       "phyloseq-class experiment-level object\n",
       "otu_table()   OTU Table:         [ 30290 taxa and 213 samples ]\n",
       "sample_data() Sample Data:       [ 213 samples by 171 sample variables ]\n",
       "tax_table()   Taxonomy Table:    [ 30290 taxa by 7 taxonomic ranks ]\n",
       "phy_tree()    Phylogenetic Tree: [ 30290 tips and 29752 internal nodes ]"
      ]
     },
     "metadata": {},
     "output_type": "display_data"
    }
   ],
   "source": [
    "# phyloseq obj.\n",
    "physeq = readRDS(physeq_file)\n",
    "physeq"
   ]
  },
  {
   "cell_type": "code",
   "execution_count": 5,
   "metadata": {
    "ExecuteTime": {
     "end_time": "2018-07-07T07:08:51.242247Z",
     "start_time": "2018-07-07T07:08:25.799Z"
    }
   },
   "outputs": [
    {
     "name": "stderr",
     "output_type": "stream",
     "text": [
      "Warning message in class(X) <- NULL:\n",
      "“Setting class(x) to NULL;   result will no longer be an S4 object”"
     ]
    },
    {
     "name": "stdout",
     "output_type": "stream",
     "text": [
      "[1] 213 171\n"
     ]
    },
    {
     "data": {
      "text/html": [
       "<table>\n",
       "<thead><tr><th scope=col>X.SampleID</th><th scope=col>BarcodeSequence</th><th scope=col>LinkerPrimerSequence</th><th scope=col>Primer</th><th scope=col>ReversePrimer</th><th scope=col>Barcode_ID</th><th scope=col>sample_number</th><th scope=col>host_subject_id</th><th scope=col>host_german_name</th><th scope=col>host_common_name</th><th scope=col>⋯</th><th scope=col>wellplate_position_Illumina</th><th scope=col>Cornell_Dilution_DNA_Illumina</th><th scope=col>Num_Illumina</th><th scope=col>Num</th><th scope=col>sorting_454</th><th scope=col>comments_additional</th><th scope=col>DNA_box_20180622</th><th scope=col>sample_vol_20180622</th><th scope=col>sample_label_20180622</th><th scope=col>Description</th></tr></thead>\n",
       "<tbody>\n",
       "\t<tr><td>X1.Eurasian.Beaver   </td><td>ACTCACGGTATG         </td><td>CATGCTGCCTCCCGTAGGAGT</td><td>GCCTCCCTCGCGCCATCAG  </td><td>AGAGTTTGATCCTGGCTCAG </td><td>338R_BC0049          </td><td>1                    </td><td>1                    </td><td>Biber                </td><td>Eurasian.Beaver      </td><td>⋯                    </td><td>B12                  </td><td>4                    </td><td>120                  </td><td>18                   </td><td>18                   </td><td>NA                   </td><td>1                    </td><td>20                   </td><td>1                    </td><td>NA                   </td></tr>\n",
       "\t<tr><td>X101.Horse           </td><td>ACGACGTCTTAG         </td><td>CATGCTGCCTCCCGTAGGAGT</td><td>GCCTCCCTCGCGCCATCAG  </td><td>AGAGTTTGATCCTGGCTCAG </td><td>338R_BC0030          </td><td>101                  </td><td>101                  </td><td>Hauspferd            </td><td>Horse                </td><td>⋯                    </td><td>E8                   </td><td>16                   </td><td>344                  </td><td>160                  </td><td>160                  </td><td>NA                   </td><td>2                    </td><td>20                   </td><td>101                  </td><td>NA                   </td></tr>\n",
       "\t<tr><td>X102.Kulan           </td><td>ACGAGTGCTATC         </td><td>CATGCTGCCTCCCGTAGGAGT</td><td>GCCTCCCTCGCGCCATCAG  </td><td>AGAGTTTGATCCTGGCTCAG </td><td>338R_BC0031          </td><td>102                  </td><td>102                  </td><td>Khulan               </td><td>Kulan                </td><td>⋯                    </td><td>E9                   </td><td>16                   </td><td>345                  </td><td>161                  </td><td>161                  </td><td>NA                   </td><td>2                    </td><td>20                   </td><td>102                  </td><td>NA                   </td></tr>\n",
       "</tbody>\n",
       "</table>\n"
      ],
      "text/latex": [
       "\\begin{tabular}{r|lllllllllllllllllllllllllllllllllllllllllllllllllllllllllllllllllllllllllllllllllllllllllllllllllllllllllllllllllllllllllllllllllllllllllllllllllllllllllllllllllllllllllll}\n",
       " X.SampleID & BarcodeSequence & LinkerPrimerSequence & Primer & ReversePrimer & Barcode\\_ID & sample\\_number & host\\_subject\\_id & host\\_german\\_name & host\\_common\\_name & ⋯ & wellplate\\_position\\_Illumina & Cornell\\_Dilution\\_DNA\\_Illumina & Num\\_Illumina & Num & sorting\\_454 & comments\\_additional & DNA\\_box\\_20180622 & sample\\_vol\\_20180622 & sample\\_label\\_20180622 & Description\\\\\n",
       "\\hline\n",
       "\t X1.Eurasian.Beaver    & ACTCACGGTATG          & CATGCTGCCTCCCGTAGGAGT & GCCTCCCTCGCGCCATCAG   & AGAGTTTGATCCTGGCTCAG  & 338R\\_BC0049         & 1                     & 1                     & Biber                 & Eurasian.Beaver       & ⋯                     & B12                   & 4                     & 120                   & 18                    & 18                    & NA                    & 1                     & 20                    & 1                     & NA                   \\\\\n",
       "\t X101.Horse            & ACGACGTCTTAG          & CATGCTGCCTCCCGTAGGAGT & GCCTCCCTCGCGCCATCAG   & AGAGTTTGATCCTGGCTCAG  & 338R\\_BC0030         & 101                   & 101                   & Hauspferd             & Horse                 & ⋯                     & E8                    & 16                    & 344                   & 160                   & 160                   & NA                    & 2                     & 20                    & 101                   & NA                   \\\\\n",
       "\t X102.Kulan            & ACGAGTGCTATC          & CATGCTGCCTCCCGTAGGAGT & GCCTCCCTCGCGCCATCAG   & AGAGTTTGATCCTGGCTCAG  & 338R\\_BC0031         & 102                   & 102                   & Khulan                & Kulan                 & ⋯                     & E9                    & 16                    & 345                   & 161                   & 161                   & NA                    & 2                     & 20                    & 102                   & NA                   \\\\\n",
       "\\end{tabular}\n"
      ],
      "text/markdown": [
       "\n",
       "X.SampleID | BarcodeSequence | LinkerPrimerSequence | Primer | ReversePrimer | Barcode_ID | sample_number | host_subject_id | host_german_name | host_common_name | ⋯ | wellplate_position_Illumina | Cornell_Dilution_DNA_Illumina | Num_Illumina | Num | sorting_454 | comments_additional | DNA_box_20180622 | sample_vol_20180622 | sample_label_20180622 | Description | \n",
       "|---|---|---|\n",
       "| X1.Eurasian.Beaver    | ACTCACGGTATG          | CATGCTGCCTCCCGTAGGAGT | GCCTCCCTCGCGCCATCAG   | AGAGTTTGATCCTGGCTCAG  | 338R_BC0049           | 1                     | 1                     | Biber                 | Eurasian.Beaver       | ⋯                     | B12                   | 4                     | 120                   | 18                    | 18                    | NA                    | 1                     | 20                    | 1                     | NA                    | \n",
       "| X101.Horse            | ACGACGTCTTAG          | CATGCTGCCTCCCGTAGGAGT | GCCTCCCTCGCGCCATCAG   | AGAGTTTGATCCTGGCTCAG  | 338R_BC0030           | 101                   | 101                   | Hauspferd             | Horse                 | ⋯                     | E8                    | 16                    | 344                   | 160                   | 160                   | NA                    | 2                     | 20                    | 101                   | NA                    | \n",
       "| X102.Kulan            | ACGAGTGCTATC          | CATGCTGCCTCCCGTAGGAGT | GCCTCCCTCGCGCCATCAG   | AGAGTTTGATCCTGGCTCAG  | 338R_BC0031           | 102                   | 102                   | Khulan                | Kulan                 | ⋯                     | E9                    | 16                    | 345                   | 161                   | 161                   | NA                    | 2                     | 20                    | 102                   | NA                    | \n",
       "\n",
       "\n"
      ],
      "text/plain": [
       "  X.SampleID         BarcodeSequence LinkerPrimerSequence  Primer             \n",
       "1 X1.Eurasian.Beaver ACTCACGGTATG    CATGCTGCCTCCCGTAGGAGT GCCTCCCTCGCGCCATCAG\n",
       "2 X101.Horse         ACGACGTCTTAG    CATGCTGCCTCCCGTAGGAGT GCCTCCCTCGCGCCATCAG\n",
       "3 X102.Kulan         ACGAGTGCTATC    CATGCTGCCTCCCGTAGGAGT GCCTCCCTCGCGCCATCAG\n",
       "  ReversePrimer        Barcode_ID  sample_number host_subject_id\n",
       "1 AGAGTTTGATCCTGGCTCAG 338R_BC0049 1             1              \n",
       "2 AGAGTTTGATCCTGGCTCAG 338R_BC0030 101           101            \n",
       "3 AGAGTTTGATCCTGGCTCAG 338R_BC0031 102           102            \n",
       "  host_german_name host_common_name ⋯ wellplate_position_Illumina\n",
       "1 Biber            Eurasian.Beaver  ⋯ B12                        \n",
       "2 Hauspferd        Horse            ⋯ E8                         \n",
       "3 Khulan           Kulan            ⋯ E9                         \n",
       "  Cornell_Dilution_DNA_Illumina Num_Illumina Num sorting_454\n",
       "1 4                             120          18  18         \n",
       "2 16                            344          160 160        \n",
       "3 16                            345          161 161        \n",
       "  comments_additional DNA_box_20180622 sample_vol_20180622\n",
       "1 NA                  1                20                 \n",
       "2 NA                  2                20                 \n",
       "3 NA                  2                20                 \n",
       "  sample_label_20180622 Description\n",
       "1 1                     NA         \n",
       "2 101                   NA         \n",
       "3 102                   NA         "
      ]
     },
     "metadata": {},
     "output_type": "display_data"
    }
   ],
   "source": [
    "# metadata\n",
    "metadata = physeq %>% \n",
    "    sample_data %>% \n",
    "    as.matrix %>% \n",
    "    as.data.frame %>%\n",
    "    mutate(scientific_name = gsub(' ', '_', scientific_name))\n",
    "\n",
    "metadata %>% status"
   ]
  },
  {
   "cell_type": "code",
   "execution_count": 6,
   "metadata": {
    "ExecuteTime": {
     "end_time": "2018-07-07T07:08:51.291916Z",
     "start_time": "2018-07-07T07:08:25.946Z"
    }
   },
   "outputs": [
    {
     "data": {
      "text/plain": [
       "\n",
       "Phylogenetic tree with 128 tips and 127 internal nodes.\n",
       "\n",
       "Tip labels:\n",
       "\tSander_lucioperca, Esox_lucius, Salvelinus_fontinalis, Aspius_aspius, Leuciscus_idus, Blicca_bjoerkna, ...\n",
       "Node labels:\n",
       "\t, @_22_@, @_8_@, @_7_@, @_20_@, @_17_@, ...\n",
       "\n",
       "Rooted; includes branch lengths."
      ]
     },
     "metadata": {},
     "output_type": "display_data"
    }
   ],
   "source": [
    "# host phylogeny\n",
    "host_tree = read.tree(host_tree_SpecD_file)\n",
    "host_tree"
   ]
  },
  {
   "cell_type": "code",
   "execution_count": 8,
   "metadata": {
    "ExecuteTime": {
     "end_time": "2018-07-07T07:08:58.395449Z",
     "start_time": "2018-07-07T07:08:58.120Z"
    }
   },
   "outputs": [
    {
     "name": "stdout",
     "output_type": "stream",
     "text": [
      "[1] 852   3\n"
     ]
    },
    {
     "data": {
      "text/html": [
       "<table>\n",
       "<thead><tr><th scope=col>X.SampleID</th><th scope=col>index</th><th scope=col>index_value</th></tr></thead>\n",
       "<tbody>\n",
       "\t<tr><td>X1.Eurasian.Beaver</td><td>pielou_e          </td><td>0.6507254         </td></tr>\n",
       "\t<tr><td>X101.Horse        </td><td>pielou_e          </td><td>0.9042161         </td></tr>\n",
       "\t<tr><td>X102.Kulan        </td><td>pielou_e          </td><td>0.8443325         </td></tr>\n",
       "</tbody>\n",
       "</table>\n"
      ],
      "text/latex": [
       "\\begin{tabular}{r|lll}\n",
       " X.SampleID & index & index\\_value\\\\\n",
       "\\hline\n",
       "\t X1.Eurasian.Beaver & pielou\\_e         & 0.6507254         \\\\\n",
       "\t X101.Horse         & pielou\\_e         & 0.9042161         \\\\\n",
       "\t X102.Kulan         & pielou\\_e         & 0.8443325         \\\\\n",
       "\\end{tabular}\n"
      ],
      "text/markdown": [
       "\n",
       "X.SampleID | index | index_value | \n",
       "|---|---|---|\n",
       "| X1.Eurasian.Beaver | pielou_e           | 0.6507254          | \n",
       "| X101.Horse         | pielou_e           | 0.9042161          | \n",
       "| X102.Kulan         | pielou_e           | 0.8443325          | \n",
       "\n",
       "\n"
      ],
      "text/plain": [
       "  X.SampleID         index    index_value\n",
       "1 X1.Eurasian.Beaver pielou_e 0.6507254  \n",
       "2 X101.Horse         pielou_e 0.9042161  \n",
       "3 X102.Kulan         pielou_e 0.8443325  "
      ]
     },
     "metadata": {},
     "output_type": "display_data"
    }
   ],
   "source": [
    "# load alpha-div values\n",
    "alpha_div = readRDS(alpha_div_file)\n",
    "alpha_div = do.call(cbind, alpha_div)\n",
    "alpha_div$X.SampleID = rownames(alpha_div) \n",
    "\n",
    "alpha_div = alpha_div %>%\n",
    "    gather(index, index_value, -X.SampleID)\n",
    "\n",
    "alpha_div %>% status"
   ]
  },
  {
   "cell_type": "markdown",
   "metadata": {},
   "source": [
    "# Mapping alpha div to host tree"
   ]
  },
  {
   "cell_type": "markdown",
   "metadata": {},
   "source": [
    "## Shannon"
   ]
  },
  {
   "cell_type": "code",
   "execution_count": 9,
   "metadata": {
    "ExecuteTime": {
     "end_time": "2018-07-07T07:08:59.567237Z",
     "start_time": "2018-07-07T07:08:59.287Z"
    }
   },
   "outputs": [
    {
     "name": "stderr",
     "output_type": "stream",
     "text": [
      "Warning message:\n",
      "“Column `X.SampleID` joining factor and character vector, coercing into character vector”"
     ]
    },
    {
     "name": "stdout",
     "output_type": "stream",
     "text": [
      "[1] 128   5\n"
     ]
    },
    {
     "data": {
      "text/html": [
       "<table>\n",
       "<thead><tr><th></th><th scope=col>minimum</th><th scope=col>q1</th><th scope=col>median</th><th scope=col>q3</th><th scope=col>maximum</th></tr></thead>\n",
       "<tbody>\n",
       "\t<tr><th scope=row>Acrocephalus_scirpaceus</th><td>3.606900</td><td>3.606900</td><td>3.606900</td><td>3.606900</td><td>3.606900</td></tr>\n",
       "\t<tr><th scope=row>Aepyceros_melampus</th><td>5.495224</td><td>5.495224</td><td>5.495224</td><td>5.495224</td><td>5.495224</td></tr>\n",
       "\t<tr><th scope=row>Anas_platyrhynchos</th><td>3.608049</td><td>3.608049</td><td>3.608049</td><td>3.608049</td><td>3.608049</td></tr>\n",
       "</tbody>\n",
       "</table>\n"
      ],
      "text/latex": [
       "\\begin{tabular}{r|lllll}\n",
       "  & minimum & q1 & median & q3 & maximum\\\\\n",
       "\\hline\n",
       "\tAcrocephalus\\_scirpaceus & 3.606900 & 3.606900 & 3.606900 & 3.606900 & 3.606900\\\\\n",
       "\tAepyceros\\_melampus & 5.495224 & 5.495224 & 5.495224 & 5.495224 & 5.495224\\\\\n",
       "\tAnas\\_platyrhynchos & 3.608049 & 3.608049 & 3.608049 & 3.608049 & 3.608049\\\\\n",
       "\\end{tabular}\n"
      ],
      "text/markdown": [
       "\n",
       "| <!--/--> | minimum | q1 | median | q3 | maximum | \n",
       "|---|---|---|\n",
       "| Acrocephalus_scirpaceus | 3.606900 | 3.606900 | 3.606900 | 3.606900 | 3.606900 | \n",
       "| Aepyceros_melampus | 5.495224 | 5.495224 | 5.495224 | 5.495224 | 5.495224 | \n",
       "| Anas_platyrhynchos | 3.608049 | 3.608049 | 3.608049 | 3.608049 | 3.608049 | \n",
       "\n",
       "\n"
      ],
      "text/plain": [
       "                        minimum  q1       median   q3       maximum \n",
       "Acrocephalus_scirpaceus 3.606900 3.606900 3.606900 3.606900 3.606900\n",
       "Aepyceros_melampus      5.495224 5.495224 5.495224 5.495224 5.495224\n",
       "Anas_platyrhynchos      3.608049 3.608049 3.608049 3.608049 3.608049"
      ]
     },
     "metadata": {},
     "output_type": "display_data"
    }
   ],
   "source": [
    "# formatting for itol\n",
    "alpha_div_s = metadata %>%\n",
    "    dplyr::select(X.SampleID, scientific_name) %>%\n",
    "    inner_join(alpha_div, c('X.SampleID')) %>%\n",
    "    filter(index == 'shannon') %>%\n",
    "    group_by(scientific_name,  index) %>%\n",
    "    summarize(\n",
    "        minimum = min(index_value),\n",
    "        q1 = quantile(index_value, 0.25),\n",
    "        median = median(index_value),\n",
    "        q3 = quantile(index_value, 0.75),\n",
    "        maximum = max(index_value)\n",
    "    ) %>%\n",
    "    ungroup() %>% \n",
    "    dplyr::select(-index) %>%\n",
    "    as.data.frame\n",
    "\n",
    "rownames(alpha_div_s) = alpha_div_s$scientific_name\n",
    "alpha_div_s$scientific_name = NULL\n",
    "\n",
    "alpha_div_s %>% status"
   ]
  },
  {
   "cell_type": "code",
   "execution_count": 10,
   "metadata": {
    "ExecuteTime": {
     "end_time": "2018-07-07T07:09:01.618916Z",
     "start_time": "2018-07-07T07:09:01.530Z"
    }
   },
   "outputs": [
    {
     "name": "stdout",
     "output_type": "stream",
     "text": [
      "File written: /ebio/abt3_projects/Georg_animal_feces/data/host_specific/phylosignal/host_TT//shannon_itol-boxplot.txt \n"
     ]
    }
   ],
   "source": [
    "# writing itol boxplot\n",
    "out_file = file.path(work_dir, 'shannon_itol-boxplot.txt')\n",
    "itol_boxplot(alpha_div_s, 'shannon_boxplot', out_file)"
   ]
  },
  {
   "cell_type": "markdown",
   "metadata": {},
   "source": [
    "## Faith's PD"
   ]
  },
  {
   "cell_type": "code",
   "execution_count": 11,
   "metadata": {
    "ExecuteTime": {
     "end_time": "2018-07-07T07:09:03.247385Z",
     "start_time": "2018-07-07T07:09:02.820Z"
    }
   },
   "outputs": [
    {
     "name": "stderr",
     "output_type": "stream",
     "text": [
      "Warning message:\n",
      "“Column `X.SampleID` joining factor and character vector, coercing into character vector”"
     ]
    },
    {
     "name": "stdout",
     "output_type": "stream",
     "text": [
      "[1] 128   5\n"
     ]
    },
    {
     "data": {
      "text/html": [
       "<table>\n",
       "<thead><tr><th></th><th scope=col>minimum</th><th scope=col>q1</th><th scope=col>median</th><th scope=col>q3</th><th scope=col>maximum</th></tr></thead>\n",
       "<tbody>\n",
       "\t<tr><th scope=row>Acrocephalus_scirpaceus</th><td> 9.086015</td><td> 9.086015</td><td> 9.086015</td><td> 9.086015</td><td> 9.086015</td></tr>\n",
       "\t<tr><th scope=row>Aepyceros_melampus</th><td>27.445870</td><td>27.445870</td><td>27.445870</td><td>27.445870</td><td>27.445870</td></tr>\n",
       "\t<tr><th scope=row>Anas_platyrhynchos</th><td> 9.912024</td><td> 9.912024</td><td> 9.912024</td><td> 9.912024</td><td> 9.912024</td></tr>\n",
       "</tbody>\n",
       "</table>\n"
      ],
      "text/latex": [
       "\\begin{tabular}{r|lllll}\n",
       "  & minimum & q1 & median & q3 & maximum\\\\\n",
       "\\hline\n",
       "\tAcrocephalus\\_scirpaceus &  9.086015 &  9.086015 &  9.086015 &  9.086015 &  9.086015\\\\\n",
       "\tAepyceros\\_melampus & 27.445870 & 27.445870 & 27.445870 & 27.445870 & 27.445870\\\\\n",
       "\tAnas\\_platyrhynchos &  9.912024 &  9.912024 &  9.912024 &  9.912024 &  9.912024\\\\\n",
       "\\end{tabular}\n"
      ],
      "text/markdown": [
       "\n",
       "| <!--/--> | minimum | q1 | median | q3 | maximum | \n",
       "|---|---|---|\n",
       "| Acrocephalus_scirpaceus |  9.086015 |  9.086015 |  9.086015 |  9.086015 |  9.086015 | \n",
       "| Aepyceros_melampus | 27.445870 | 27.445870 | 27.445870 | 27.445870 | 27.445870 | \n",
       "| Anas_platyrhynchos |  9.912024 |  9.912024 |  9.912024 |  9.912024 |  9.912024 | \n",
       "\n",
       "\n"
      ],
      "text/plain": [
       "                        minimum   q1        median    q3        maximum  \n",
       "Acrocephalus_scirpaceus  9.086015  9.086015  9.086015  9.086015  9.086015\n",
       "Aepyceros_melampus      27.445870 27.445870 27.445870 27.445870 27.445870\n",
       "Anas_platyrhynchos       9.912024  9.912024  9.912024  9.912024  9.912024"
      ]
     },
     "metadata": {},
     "output_type": "display_data"
    }
   ],
   "source": [
    "# formatting for itol\n",
    "alpha_div_s = metadata %>%\n",
    "    dplyr::select(X.SampleID, scientific_name) %>%\n",
    "    inner_join(alpha_div, c('X.SampleID')) %>%\n",
    "    filter(index == 'faith_pd') %>%\n",
    "    group_by(scientific_name,  index) %>%\n",
    "    summarize(\n",
    "        minimum = min(index_value),\n",
    "        q1 = quantile(index_value, 0.25),\n",
    "        median = median(index_value),\n",
    "        q3 = quantile(index_value, 0.75),\n",
    "        maximum = max(index_value)\n",
    "    ) %>%\n",
    "    ungroup() %>%\n",
    "    dplyr::select(-index) %>%\n",
    "    as.data.frame\n",
    "\n",
    "rownames(alpha_div_s) = alpha_div_s$scientific_name\n",
    "alpha_div_s$scientific_name = NULL\n",
    "\n",
    "alpha_div_s %>% status"
   ]
  },
  {
   "cell_type": "code",
   "execution_count": 12,
   "metadata": {
    "ExecuteTime": {
     "end_time": "2018-07-07T07:09:09.570842Z",
     "start_time": "2018-07-07T07:09:09.464Z"
    }
   },
   "outputs": [
    {
     "name": "stdout",
     "output_type": "stream",
     "text": [
      "File written: /ebio/abt3_projects/Georg_animal_feces/data/host_specific/phylosignal/host_TT//faithPD_itol-boxplot.txt \n"
     ]
    }
   ],
   "source": [
    "# itol boxplot\n",
    "out_file = file.path(work_dir, 'faithPD_itol-boxplot.txt')\n",
    "itol_boxplot(alpha_div_s, 'faithPD_boxplot', out_file)"
   ]
  },
  {
   "cell_type": "markdown",
   "metadata": {},
   "source": [
    "# Mean alpha div"
   ]
  },
  {
   "cell_type": "markdown",
   "metadata": {},
   "source": [
    "## Formatting"
   ]
  },
  {
   "cell_type": "code",
   "execution_count": 13,
   "metadata": {
    "ExecuteTime": {
     "end_time": "2018-07-07T07:09:12.408998Z",
     "start_time": "2018-07-07T07:09:12.352Z"
    }
   },
   "outputs": [
    {
     "name": "stdout",
     "output_type": "stream",
     "text": [
      "[1] 213\n",
      "[1] 128\n"
     ]
    }
   ],
   "source": [
    "# checking sample overlap\n",
    "intersect(alpha_div$X.SampleID %>% unique, \n",
    "          metadata$X.SampleID %>% unique) %>% length %>% print\n",
    "\n",
    "intersect(metadata$scientific_name %>% unique, \n",
    "          host_tree$tip.label) %>% length %>% print"
   ]
  },
  {
   "cell_type": "code",
   "execution_count": 14,
   "metadata": {
    "ExecuteTime": {
     "end_time": "2018-07-07T07:09:19.421871Z",
     "start_time": "2018-07-07T07:09:19.174Z"
    }
   },
   "outputs": [
    {
     "name": "stderr",
     "output_type": "stream",
     "text": [
      "Warning message:\n",
      "“Column `X.SampleID` joining factor and character vector, coercing into character vector”"
     ]
    },
    {
     "name": "stdout",
     "output_type": "stream",
     "text": [
      "[1] 128\n",
      "[1] 128   5\n"
     ]
    },
    {
     "data": {
      "text/html": [
       "<table>\n",
       "<thead><tr><th scope=col>scientific_name</th><th scope=col>faith_pd</th><th scope=col>observed_otus</th><th scope=col>pielou_e</th><th scope=col>shannon</th></tr></thead>\n",
       "<tbody>\n",
       "\t<tr><td>Acrocephalus_scirpaceus</td><td> 9.086015              </td><td> 73                    </td><td>0.5827143              </td><td>3.606900               </td></tr>\n",
       "\t<tr><td>Aepyceros_melampus     </td><td>27.445870              </td><td>405                    </td><td>0.6344222              </td><td>5.495224               </td></tr>\n",
       "\t<tr><td>Anas_platyrhynchos     </td><td> 9.912024              </td><td> 85                    </td><td>0.5629316              </td><td>3.608049               </td></tr>\n",
       "</tbody>\n",
       "</table>\n"
      ],
      "text/latex": [
       "\\begin{tabular}{r|lllll}\n",
       " scientific\\_name & faith\\_pd & observed\\_otus & pielou\\_e & shannon\\\\\n",
       "\\hline\n",
       "\t Acrocephalus\\_scirpaceus &  9.086015                 &  73                       & 0.5827143                 & 3.606900                 \\\\\n",
       "\t Aepyceros\\_melampus      & 27.445870                 & 405                       & 0.6344222                 & 5.495224                 \\\\\n",
       "\t Anas\\_platyrhynchos      &  9.912024                 &  85                       & 0.5629316                 & 3.608049                 \\\\\n",
       "\\end{tabular}\n"
      ],
      "text/markdown": [
       "\n",
       "scientific_name | faith_pd | observed_otus | pielou_e | shannon | \n",
       "|---|---|---|\n",
       "| Acrocephalus_scirpaceus |  9.086015               |  73                     | 0.5827143               | 3.606900                | \n",
       "| Aepyceros_melampus      | 27.445870               | 405                     | 0.6344222               | 5.495224                | \n",
       "| Anas_platyrhynchos      |  9.912024               |  85                     | 0.5629316               | 3.608049                | \n",
       "\n",
       "\n"
      ],
      "text/plain": [
       "  scientific_name         faith_pd  observed_otus pielou_e  shannon \n",
       "1 Acrocephalus_scirpaceus  9.086015  73           0.5827143 3.606900\n",
       "2 Aepyceros_melampus      27.445870 405           0.6344222 5.495224\n",
       "3 Anas_platyrhynchos       9.912024  85           0.5629316 3.608049"
      ]
     },
     "metadata": {},
     "output_type": "display_data"
    }
   ],
   "source": [
    "# filtering metadata & summarizing by host\n",
    "df = metadata %>%\n",
    "    inner_join(alpha_div, c('X.SampleID')) %>%\n",
    "    group_by(scientific_name,  index) %>%\n",
    "    summarize(mean_alpha_div_value = mean(index_value)) %>%\n",
    "    ungroup() %>%\n",
    "    mutate(mean_alpha_div_value = mean_alpha_div_value %>% as.Num) %>%\n",
    "    spread(index, mean_alpha_div_value) %>%\n",
    "    filter(scientific_name %in% host_tree$tip.label) %>%\n",
    "    as.data.frame\n",
    "\n",
    "df$scientific_name %>% unique %>% length %>% print\n",
    "df %>% status"
   ]
  },
  {
   "cell_type": "code",
   "execution_count": 15,
   "metadata": {
    "ExecuteTime": {
     "end_time": "2018-07-07T07:09:21.710125Z",
     "start_time": "2018-07-07T07:09:21.640Z"
    }
   },
   "outputs": [
    {
     "name": "stdout",
     "output_type": "stream",
     "text": [
      "File written:  /ebio/abt3_projects/Georg_animal_feces/data/host_specific/phylosignal/host_TT//tip-data_alpha-div.tsv \n"
     ]
    }
   ],
   "source": [
    "# writing table\n",
    "tip_data_file = file.path(work_dir, 'tip-data_alpha-div.tsv')\n",
    "write.table(df, tip_data_file, sep='\\t', row.names=FALSE)\n",
    "cat('File written: ', tip_data_file, '\\n')"
   ]
  },
  {
   "cell_type": "markdown",
   "metadata": {},
   "source": [
    "## Regressing out diet\n",
    "\n",
    "* Regressing out detailed diet info"
   ]
  },
  {
   "cell_type": "code",
   "execution_count": 17,
   "metadata": {
    "ExecuteTime": {
     "end_time": "2018-07-07T07:09:48.859177Z",
     "start_time": "2018-07-07T07:09:47.665Z"
    }
   },
   "outputs": [
    {
     "name": "stdout",
     "output_type": "stream",
     "text": [
      "[1] 128   9\n"
     ]
    },
    {
     "data": {
      "text/html": [
       "<table>\n",
       "<thead><tr><th scope=col>scientific_name</th><th scope=col>diet_vertebrate</th><th scope=col>diet_invertebrate</th><th scope=col>diet_fruit</th><th scope=col>diet_flowers_nectar_pollen</th><th scope=col>diet_leaves_branches_bark_buds</th><th scope=col>diet_seeds</th><th scope=col>diet_grass_waterplants</th><th scope=col>diet_roots_tubers</th></tr></thead>\n",
       "<tbody>\n",
       "\t<tr><td>Acrocephalus_scirpaceus</td><td>0                      </td><td>1                      </td><td>1                      </td><td>0                      </td><td>0                      </td><td>1                      </td><td>0                      </td><td>0                      </td></tr>\n",
       "\t<tr><td>Aepyceros_melampus     </td><td>0                      </td><td>0                      </td><td>0                      </td><td>1                      </td><td>1                      </td><td>1                      </td><td>1                      </td><td>0                      </td></tr>\n",
       "\t<tr><td>Anas_platyrhynchos     </td><td>0                      </td><td>1                      </td><td>0                      </td><td>0                      </td><td>1                      </td><td>1                      </td><td>1                      </td><td>0                      </td></tr>\n",
       "</tbody>\n",
       "</table>\n"
      ],
      "text/latex": [
       "\\begin{tabular}{r|lllllllll}\n",
       " scientific\\_name & diet\\_vertebrate & diet\\_invertebrate & diet\\_fruit & diet\\_flowers\\_nectar\\_pollen & diet\\_leaves\\_branches\\_bark\\_buds & diet\\_seeds & diet\\_grass\\_waterplants & diet\\_roots\\_tubers\\\\\n",
       "\\hline\n",
       "\t Acrocephalus\\_scirpaceus & 0                         & 1                         & 1                         & 0                         & 0                         & 1                         & 0                         & 0                        \\\\\n",
       "\t Aepyceros\\_melampus      & 0                         & 0                         & 0                         & 1                         & 1                         & 1                         & 1                         & 0                        \\\\\n",
       "\t Anas\\_platyrhynchos      & 0                         & 1                         & 0                         & 0                         & 1                         & 1                         & 1                         & 0                        \\\\\n",
       "\\end{tabular}\n"
      ],
      "text/markdown": [
       "\n",
       "scientific_name | diet_vertebrate | diet_invertebrate | diet_fruit | diet_flowers_nectar_pollen | diet_leaves_branches_bark_buds | diet_seeds | diet_grass_waterplants | diet_roots_tubers | \n",
       "|---|---|---|\n",
       "| Acrocephalus_scirpaceus | 0                       | 1                       | 1                       | 0                       | 0                       | 1                       | 0                       | 0                       | \n",
       "| Aepyceros_melampus      | 0                       | 0                       | 0                       | 1                       | 1                       | 1                       | 1                       | 0                       | \n",
       "| Anas_platyrhynchos      | 0                       | 1                       | 0                       | 0                       | 1                       | 1                       | 1                       | 0                       | \n",
       "\n",
       "\n"
      ],
      "text/plain": [
       "  scientific_name         diet_vertebrate diet_invertebrate diet_fruit\n",
       "1 Acrocephalus_scirpaceus 0               1                 1         \n",
       "2 Aepyceros_melampus      0               0                 0         \n",
       "3 Anas_platyrhynchos      0               1                 0         \n",
       "  diet_flowers_nectar_pollen diet_leaves_branches_bark_buds diet_seeds\n",
       "1 0                          0                              1         \n",
       "2 1                          1                              1         \n",
       "3 0                          1                              1         \n",
       "  diet_grass_waterplants diet_roots_tubers\n",
       "1 0                      0                \n",
       "2 1                      0                \n",
       "3 1                      0                "
      ]
     },
     "metadata": {},
     "output_type": "display_data"
    }
   ],
   "source": [
    ".mean = function(x){\n",
    "    x = gsub(' .+', '', x)\n",
    "    stopifnot(x %in% c('yes', 'no'))\n",
    "    x = ifelse(x=='yes', 1, 0)\n",
    "    mean(as.numeric(x))\n",
    "}\n",
    "\n",
    "diet_detail = metadata %>%\n",
    "    group_by(scientific_name) %>%\n",
    "    summarize(\n",
    "        diet_vertebrate = .mean(diet_vertebrate),\n",
    "        diet_invertebrate = .mean(diet_invertebrate),\n",
    "        diet_fruit = .mean(diet_fruit),\n",
    "        diet_flowers_nectar_pollen = .mean(diet_flowers_nectar_pollen),\n",
    "        diet_leaves_branches_bark_buds = .mean(diet_leaves_branches_bark_buds),\n",
    "        diet_seeds = .mean(diet_seeds),\n",
    "        diet_grass_waterplants = .mean(diet_grass_waterplants),\n",
    "        diet_roots_tubers = .mean(diet_roots_tubers)\n",
    "    ) %>%\n",
    "    ungroup()\n",
    "\n",
    "diet_detail %>% status"
   ]
  },
  {
   "cell_type": "code",
   "execution_count": 18,
   "metadata": {
    "ExecuteTime": {
     "end_time": "2018-07-07T07:09:51.743504Z",
     "start_time": "2018-07-07T07:09:51.668Z"
    }
   },
   "outputs": [
    {
     "name": "stdout",
     "output_type": "stream",
     "text": [
      "[1] 128  13\n"
     ]
    },
    {
     "data": {
      "text/html": [
       "<table>\n",
       "<thead><tr><th scope=col>scientific_name</th><th scope=col>faith_pd</th><th scope=col>observed_otus</th><th scope=col>pielou_e</th><th scope=col>shannon</th><th scope=col>diet_vertebrate</th><th scope=col>diet_invertebrate</th><th scope=col>diet_fruit</th><th scope=col>diet_flowers_nectar_pollen</th><th scope=col>diet_leaves_branches_bark_buds</th><th scope=col>diet_seeds</th><th scope=col>diet_grass_waterplants</th><th scope=col>diet_roots_tubers</th></tr></thead>\n",
       "<tbody>\n",
       "\t<tr><td>Acrocephalus_scirpaceus</td><td> 9.086015              </td><td> 73                    </td><td>0.5827143              </td><td>3.606900               </td><td>0                      </td><td>1                      </td><td>1                      </td><td>0                      </td><td>0                      </td><td>1                      </td><td>0                      </td><td>0                      </td></tr>\n",
       "\t<tr><td>Aepyceros_melampus     </td><td>27.445870              </td><td>405                    </td><td>0.6344222              </td><td>5.495224               </td><td>0                      </td><td>0                      </td><td>0                      </td><td>1                      </td><td>1                      </td><td>1                      </td><td>1                      </td><td>0                      </td></tr>\n",
       "\t<tr><td>Anas_platyrhynchos     </td><td> 9.912024              </td><td> 85                    </td><td>0.5629316              </td><td>3.608049               </td><td>0                      </td><td>1                      </td><td>0                      </td><td>0                      </td><td>1                      </td><td>1                      </td><td>1                      </td><td>0                      </td></tr>\n",
       "</tbody>\n",
       "</table>\n"
      ],
      "text/latex": [
       "\\begin{tabular}{r|lllllllllllll}\n",
       " scientific\\_name & faith\\_pd & observed\\_otus & pielou\\_e & shannon & diet\\_vertebrate & diet\\_invertebrate & diet\\_fruit & diet\\_flowers\\_nectar\\_pollen & diet\\_leaves\\_branches\\_bark\\_buds & diet\\_seeds & diet\\_grass\\_waterplants & diet\\_roots\\_tubers\\\\\n",
       "\\hline\n",
       "\t Acrocephalus\\_scirpaceus &  9.086015                 &  73                       & 0.5827143                 & 3.606900                  & 0                         & 1                         & 1                         & 0                         & 0                         & 1                         & 0                         & 0                        \\\\\n",
       "\t Aepyceros\\_melampus      & 27.445870                 & 405                       & 0.6344222                 & 5.495224                  & 0                         & 0                         & 0                         & 1                         & 1                         & 1                         & 1                         & 0                        \\\\\n",
       "\t Anas\\_platyrhynchos      &  9.912024                 &  85                       & 0.5629316                 & 3.608049                  & 0                         & 1                         & 0                         & 0                         & 1                         & 1                         & 1                         & 0                        \\\\\n",
       "\\end{tabular}\n"
      ],
      "text/markdown": [
       "\n",
       "scientific_name | faith_pd | observed_otus | pielou_e | shannon | diet_vertebrate | diet_invertebrate | diet_fruit | diet_flowers_nectar_pollen | diet_leaves_branches_bark_buds | diet_seeds | diet_grass_waterplants | diet_roots_tubers | \n",
       "|---|---|---|\n",
       "| Acrocephalus_scirpaceus |  9.086015               |  73                     | 0.5827143               | 3.606900                | 0                       | 1                       | 1                       | 0                       | 0                       | 1                       | 0                       | 0                       | \n",
       "| Aepyceros_melampus      | 27.445870               | 405                     | 0.6344222               | 5.495224                | 0                       | 0                       | 0                       | 1                       | 1                       | 1                       | 1                       | 0                       | \n",
       "| Anas_platyrhynchos      |  9.912024               |  85                     | 0.5629316               | 3.608049                | 0                       | 1                       | 0                       | 0                       | 1                       | 1                       | 1                       | 0                       | \n",
       "\n",
       "\n"
      ],
      "text/plain": [
       "  scientific_name         faith_pd  observed_otus pielou_e  shannon \n",
       "1 Acrocephalus_scirpaceus  9.086015  73           0.5827143 3.606900\n",
       "2 Aepyceros_melampus      27.445870 405           0.6344222 5.495224\n",
       "3 Anas_platyrhynchos       9.912024  85           0.5629316 3.608049\n",
       "  diet_vertebrate diet_invertebrate diet_fruit diet_flowers_nectar_pollen\n",
       "1 0               1                 1          0                         \n",
       "2 0               0                 0          1                         \n",
       "3 0               1                 0          0                         \n",
       "  diet_leaves_branches_bark_buds diet_seeds diet_grass_waterplants\n",
       "1 0                              1          0                     \n",
       "2 1                              1          1                     \n",
       "3 1                              1          1                     \n",
       "  diet_roots_tubers\n",
       "1 0                \n",
       "2 0                \n",
       "3 0                "
      ]
     },
     "metadata": {},
     "output_type": "display_data"
    }
   ],
   "source": [
    "# joining\n",
    "df_j = df %>%\n",
    "    inner_join(diet_detail, c('scientific_name')) \n",
    "\n",
    "df_j %>% status"
   ]
  },
  {
   "cell_type": "code",
   "execution_count": 20,
   "metadata": {
    "ExecuteTime": {
     "end_time": "2018-07-07T07:10:29.013037Z",
     "start_time": "2018-07-07T07:10:28.704Z"
    }
   },
   "outputs": [
    {
     "name": "stdout",
     "output_type": "stream",
     "text": [
      "[1] 128   4\n"
     ]
    },
    {
     "data": {
      "text/html": [
       "<table>\n",
       "<thead><tr><th></th><th scope=col>faith_pd</th><th scope=col>shannon</th><th scope=col>observed_otus</th><th scope=col>pielou_e</th></tr></thead>\n",
       "<tbody>\n",
       "\t<tr><th scope=row>Acrocephalus_scirpaceus</th><td>-0.1278358  </td><td>-0.0630195  </td><td>-0.1128694  </td><td>-0.007470306</td></tr>\n",
       "\t<tr><th scope=row>Aepyceros_melampus</th><td>-0.4400226  </td><td>-0.6996897  </td><td>-0.1321044  </td><td>-0.851251057</td></tr>\n",
       "\t<tr><th scope=row>Anas_platyrhynchos</th><td>-1.4000014  </td><td>-0.9737452  </td><td>-1.6272754  </td><td>-0.626503702</td></tr>\n",
       "</tbody>\n",
       "</table>\n"
      ],
      "text/latex": [
       "\\begin{tabular}{r|llll}\n",
       "  & faith\\_pd & shannon & observed\\_otus & pielou\\_e\\\\\n",
       "\\hline\n",
       "\tAcrocephalus\\_scirpaceus & -0.1278358   & -0.0630195   & -0.1128694   & -0.007470306\\\\\n",
       "\tAepyceros\\_melampus & -0.4400226   & -0.6996897   & -0.1321044   & -0.851251057\\\\\n",
       "\tAnas\\_platyrhynchos & -1.4000014   & -0.9737452   & -1.6272754   & -0.626503702\\\\\n",
       "\\end{tabular}\n"
      ],
      "text/markdown": [
       "\n",
       "| <!--/--> | faith_pd | shannon | observed_otus | pielou_e | \n",
       "|---|---|---|\n",
       "| Acrocephalus_scirpaceus | -0.1278358   | -0.0630195   | -0.1128694   | -0.007470306 | \n",
       "| Aepyceros_melampus | -0.4400226   | -0.6996897   | -0.1321044   | -0.851251057 | \n",
       "| Anas_platyrhynchos | -1.4000014   | -0.9737452   | -1.6272754   | -0.626503702 | \n",
       "\n",
       "\n"
      ],
      "text/plain": [
       "                        faith_pd   shannon    observed_otus pielou_e    \n",
       "Acrocephalus_scirpaceus -0.1278358 -0.0630195 -0.1128694    -0.007470306\n",
       "Aepyceros_melampus      -0.4400226 -0.6996897 -0.1321044    -0.851251057\n",
       "Anas_platyrhynchos      -1.4000014 -0.9737452 -1.6272754    -0.626503702"
      ]
     },
     "metadata": {},
     "output_type": "display_data"
    },
    {
     "data": {
      "image/png": "[encoded data removed]",
      "text/plain": [
       "plot without title"
      ]
     },
     "metadata": {},
     "output_type": "display_data"
    }
   ],
   "source": [
    "#' function to get residuals from linear regression\n",
    "regress_out = function(y, covars, df){\n",
    "    covars = paste(covars, collapse=' + ')\n",
    "    f = paste(c(y, covars), collapse=' ~ ')\n",
    "    f = as.formula(f)\n",
    "    lm_res = lm(f, data=df)\n",
    "    lm_res$residuals\n",
    "}\n",
    "\n",
    "# vars\n",
    "covars = c('diet_vertebrate','diet_invertebrate','diet_fruit',\n",
    "           'diet_flowers_nectar_pollen','diet_leaves_branches_bark_buds',\n",
    "           'diet_seeds','diet_grass_waterplants','diet_roots_tubers')\n",
    "indices = c('faith_pd', 'shannon', 'observed_otus', 'pielou_e')\n",
    "\n",
    "# regression\n",
    "df_j_f = lapply(as.list(indices), regress_out, covars=covars, df=df_j)\n",
    "\n",
    "# formatting output\n",
    "df_j_f = do.call(rbind, df_j_f) %>% t %>% as.data.frame\n",
    "colnames(df_j_f) = indices\n",
    "rownames(df_j_f) = df_j$scientific_name\n",
    "\n",
    "# scaling\n",
    "df_j_f = scale(df_j_f) %>% as.data.frame\n",
    "\n",
    "# status\n",
    "options(repr.plot.height=3.5)\n",
    "boxplot(df_j_f) \n",
    "df_j_f %>% status"
   ]
  },
  {
   "cell_type": "code",
   "execution_count": 21,
   "metadata": {
    "ExecuteTime": {
     "end_time": "2018-07-07T07:10:31.917440Z",
     "start_time": "2018-07-07T07:10:31.827Z"
    }
   },
   "outputs": [
    {
     "name": "stdout",
     "output_type": "stream",
     "text": [
      "File written:  /ebio/abt3_projects/Georg_animal_feces/data/host_specific/phylosignal/host_TT//tip-data_alpha-div_diet-resid.tsv \n"
     ]
    }
   ],
   "source": [
    "# writing table\n",
    "tip_data_file = file.path(work_dir, 'tip-data_alpha-div_diet-resid.tsv')\n",
    "write.table(df_j_f, tip_data_file, sep='\\t')\n",
    "cat('File written: ', tip_data_file, '\\n')"
   ]
  },
  {
   "cell_type": "markdown",
   "metadata": {},
   "source": [
    "## itol plotting of residuals"
   ]
  },
  {
   "cell_type": "code",
   "execution_count": 22,
   "metadata": {
    "ExecuteTime": {
     "end_time": "2018-07-07T07:10:33.500432Z",
     "start_time": "2018-07-07T07:10:33.309Z"
    }
   },
   "outputs": [
    {
     "name": "stderr",
     "output_type": "stream",
     "text": [
      "Warning message in if (color_scheme == \"color\") {:\n",
      "“the condition has length > 1 and only the first element will be used”Warning message in vegan::vegdist(., method = dist_method):\n",
      "“results may be meaningless because data have negative entries in method “bray””"
     ]
    },
    {
     "name": "stdout",
     "output_type": "stream",
     "text": [
      "File written: /ebio/abt3_projects/Georg_animal_feces/data/host_specific/phylosignal/host_TT//alpha-div_diet-residuals_itol-htmp.txt \n"
     ]
    }
   ],
   "source": [
    "out_file = file.path(work_dir, 'alpha-div_diet-residuals_itol-htmp.txt')\n",
    "itol_heatmap(df_j_f[,c('faith_pd', 'shannon')], 'alpha-div_diet-resid', out_file)"
   ]
  },
  {
   "cell_type": "markdown",
   "metadata": {},
   "source": [
    "## phylogenetic signal"
   ]
  },
  {
   "cell_type": "code",
   "execution_count": 23,
   "metadata": {
    "ExecuteTime": {
     "end_time": "2018-07-07T07:10:40.016867Z",
     "start_time": "2018-07-07T07:10:39.952Z"
    }
   },
   "outputs": [
    {
     "name": "stdout",
     "output_type": "stream",
     "text": [
      "[1] 128   4\n"
     ]
    },
    {
     "data": {
      "text/html": [
       "<table>\n",
       "<thead><tr><th></th><th scope=col>faith_pd</th><th scope=col>shannon</th><th scope=col>observed_otus</th><th scope=col>pielou_e</th></tr></thead>\n",
       "<tbody>\n",
       "\t<tr><th scope=row>Acrocephalus_scirpaceus</th><td>-0.1278358  </td><td>-0.0630195  </td><td>-0.1128694  </td><td>-0.007470306</td></tr>\n",
       "\t<tr><th scope=row>Aepyceros_melampus</th><td>-0.4400226  </td><td>-0.6996897  </td><td>-0.1321044  </td><td>-0.851251057</td></tr>\n",
       "\t<tr><th scope=row>Anas_platyrhynchos</th><td>-1.4000014  </td><td>-0.9737452  </td><td>-1.6272754  </td><td>-0.626503702</td></tr>\n",
       "</tbody>\n",
       "</table>\n"
      ],
      "text/latex": [
       "\\begin{tabular}{r|llll}\n",
       "  & faith\\_pd & shannon & observed\\_otus & pielou\\_e\\\\\n",
       "\\hline\n",
       "\tAcrocephalus\\_scirpaceus & -0.1278358   & -0.0630195   & -0.1128694   & -0.007470306\\\\\n",
       "\tAepyceros\\_melampus & -0.4400226   & -0.6996897   & -0.1321044   & -0.851251057\\\\\n",
       "\tAnas\\_platyrhynchos & -1.4000014   & -0.9737452   & -1.6272754   & -0.626503702\\\\\n",
       "\\end{tabular}\n"
      ],
      "text/markdown": [
       "\n",
       "| <!--/--> | faith_pd | shannon | observed_otus | pielou_e | \n",
       "|---|---|---|\n",
       "| Acrocephalus_scirpaceus | -0.1278358   | -0.0630195   | -0.1128694   | -0.007470306 | \n",
       "| Aepyceros_melampus | -0.4400226   | -0.6996897   | -0.1321044   | -0.851251057 | \n",
       "| Anas_platyrhynchos | -1.4000014   | -0.9737452   | -1.6272754   | -0.626503702 | \n",
       "\n",
       "\n"
      ],
      "text/plain": [
       "                        faith_pd   shannon    observed_otus pielou_e    \n",
       "Acrocephalus_scirpaceus -0.1278358 -0.0630195 -0.1128694    -0.007470306\n",
       "Aepyceros_melampus      -0.4400226 -0.6996897 -0.1321044    -0.851251057\n",
       "Anas_platyrhynchos      -1.4000014 -0.9737452 -1.6272754    -0.626503702"
      ]
     },
     "metadata": {},
     "output_type": "display_data"
    }
   ],
   "source": [
    "df = df_j_f\n",
    "df %>% status"
   ]
  },
  {
   "cell_type": "code",
   "execution_count": 24,
   "metadata": {
    "ExecuteTime": {
     "end_time": "2018-07-07T07:10:42.270480Z",
     "start_time": "2018-07-07T07:10:41.638Z"
    }
   },
   "outputs": [
    {
     "name": "stderr",
     "output_type": "stream",
     "text": [
      "Found more than one class \"phylo\" in cache; using the first, from namespace 'phyloseq'\n",
      "Also defined by ‘RNeXML’\n"
     ]
    },
    {
     "data": {
      "text/plain": [
       " Length   Class    Mode \n",
       "      1 phylo4d      S4 "
      ]
     },
     "metadata": {},
     "output_type": "display_data"
    }
   ],
   "source": [
    "# convert to phylo4d\n",
    "host_tree_4d = phylobase::phylo4d(host_tree, tip.data=df)\n",
    "host_tree_4d %>% summary"
   ]
  },
  {
   "cell_type": "code",
   "execution_count": 25,
   "metadata": {
    "ExecuteTime": {
     "end_time": "2018-07-07T07:10:47.965591Z",
     "start_time": "2018-07-07T07:10:42.765Z"
    }
   },
   "outputs": [],
   "source": [
    "# phylosignal calculation\n",
    "physig_res = phyloSignal(host_tree_4d, methods = 'all', reps = 999)"
   ]
  },
  {
   "cell_type": "code",
   "execution_count": 26,
   "metadata": {
    "ExecuteTime": {
     "end_time": "2018-07-07T07:10:48.175667Z",
     "start_time": "2018-07-07T07:10:43.326Z"
    }
   },
   "outputs": [
    {
     "name": "stdout",
     "output_type": "stream",
     "text": [
      "[1] 20\n",
      "[1] 20  6\n"
     ]
    },
    {
     "data": {
      "text/html": [
       "<table>\n",
       "<thead><tr><th scope=col>index</th><th scope=col>method</th><th scope=col>coef</th><th scope=col>pvalue</th><th scope=col>qvalue</th><th scope=col>significant</th></tr></thead>\n",
       "<tbody>\n",
       "\t<tr><td>faith_pd     </td><td>Cmean        </td><td>0.2747333    </td><td>0.001        </td><td>0.003333333  </td><td>TRUE         </td></tr>\n",
       "\t<tr><td>shannon      </td><td>Cmean        </td><td>0.1800614    </td><td>0.003        </td><td>0.006666667  </td><td>TRUE         </td></tr>\n",
       "\t<tr><td>observed_otus</td><td>Cmean        </td><td>0.2766151    </td><td>0.001        </td><td>0.003333333  </td><td>TRUE         </td></tr>\n",
       "</tbody>\n",
       "</table>\n"
      ],
      "text/latex": [
       "\\begin{tabular}{r|llllll}\n",
       " index & method & coef & pvalue & qvalue & significant\\\\\n",
       "\\hline\n",
       "\t faith\\_pd      & Cmean           & 0.2747333       & 0.001           & 0.003333333     & TRUE           \\\\\n",
       "\t shannon       & Cmean         & 0.1800614     & 0.003         & 0.006666667   & TRUE         \\\\\n",
       "\t observed\\_otus & Cmean           & 0.2766151       & 0.001           & 0.003333333     & TRUE           \\\\\n",
       "\\end{tabular}\n"
      ],
      "text/markdown": [
       "\n",
       "index | method | coef | pvalue | qvalue | significant | \n",
       "|---|---|---|\n",
       "| faith_pd      | Cmean         | 0.2747333     | 0.001         | 0.003333333   | TRUE          | \n",
       "| shannon       | Cmean         | 0.1800614     | 0.003         | 0.006666667   | TRUE          | \n",
       "| observed_otus | Cmean         | 0.2766151     | 0.001         | 0.003333333   | TRUE          | \n",
       "\n",
       "\n"
      ],
      "text/plain": [
       "  index         method coef      pvalue qvalue      significant\n",
       "1 faith_pd      Cmean  0.2747333 0.001  0.003333333 TRUE       \n",
       "2 shannon       Cmean  0.1800614 0.003  0.006666667 TRUE       \n",
       "3 observed_otus Cmean  0.2766151 0.001  0.003333333 TRUE       "
      ]
     },
     "metadata": {},
     "output_type": "display_data"
    }
   ],
   "source": [
    "# formatting results\n",
    "tmp1 = physig_res$stat \n",
    "tmp1$OTU = rownames(tmp1)\n",
    "\n",
    "tmp2 = physig_res$pvalue\n",
    "tmp3 = apply(tmp2, 2, function(x) p.adjust(x, method='BH')) %>% as.data.frame\n",
    "tmp2$OTU = rownames(tmp2)\n",
    "tmp3$OTU = rownames(tmp2)\n",
    "\n",
    "tmp1 = tmp1 %>%\n",
    "    gather(method, coef, -OTU)\n",
    "tmp2 = tmp2 %>%\n",
    "    gather(method, pvalue, -OTU)\n",
    "             \n",
    "physig_res_j = tmp1 %>%\n",
    "    inner_join(tmp2, c('OTU', 'method')) %>%\n",
    "    rename('index' = OTU) %>%\n",
    "    filter(index %in% c('faith_pd', 'shannon', 'observed_otus', 'pielou_e')) %>%\n",
    "    mutate(qvalue = p.adjust(pvalue, method='BH'))  %>%\n",
    "    mutate(significant = qvalue < 0.01)\n",
    "             \n",
    "tmp1 %>% nrow %>% print\n",
    "physig_res_j %>% status"
   ]
  },
  {
   "cell_type": "code",
   "execution_count": 27,
   "metadata": {
    "ExecuteTime": {
     "end_time": "2018-07-07T07:10:55.951062Z",
     "start_time": "2018-07-07T07:10:49.581Z"
    }
   },
   "outputs": [
    {
     "name": "stdout",
     "output_type": "stream",
     "text": [
      "File written: /ebio/abt3_projects/Georg_animal_feces/data/host_specific/phylosignal/host_TT/.figures/phyloSig_alpha-div_IndD.pdf \n"
     ]
    },
    {
     "data": {
      "image/png": "[encoded data removed]",
      "text/plain": [
       "plot without title"
      ]
     },
     "metadata": {},
     "output_type": "display_data"
    }
   ],
   "source": [
    "# plotting\n",
    "p = ggplot(physig_res_j, aes(method, coef, fill=significant)) +\n",
    "    geom_bar(stat='identity') +\n",
    "    facet_grid(index ~ .) +\n",
    "    scale_fill_discrete('P adj. < 0.01') +\n",
    "    theme_bw() \n",
    "\n",
    "options(repr.plot.width=5, repr.plot.height=4.5)\n",
    "plot_write(p, file='phyloSig_alpha-div_IndD.pdf')"
   ]
  },
  {
   "cell_type": "markdown",
   "metadata": {},
   "source": [
    "#### Notes\n",
    "\n",
    "* Abouheif‘s Cmean is the only measure to not use branch lengths\n",
    "* Abouheif‘s Cmean & Moran's I measure autocorrelation; not an evolutionary model"
   ]
  },
  {
   "cell_type": "markdown",
   "metadata": {},
   "source": [
    "## lipaMoran"
   ]
  },
  {
   "cell_type": "code",
   "execution_count": 28,
   "metadata": {
    "ExecuteTime": {
     "end_time": "2018-07-07T07:10:59.251000Z",
     "start_time": "2018-07-07T07:10:59.110Z"
    }
   },
   "outputs": [
    {
     "data": {
      "text/html": [
       "4"
      ],
      "text/latex": [
       "4"
      ],
      "text/markdown": [
       "4"
      ],
      "text/plain": [
       "[1] 4"
      ]
     },
     "metadata": {},
     "output_type": "display_data"
    }
   ],
   "source": [
    "# calculating lipaMoran for each trait\n",
    "lipaMoran_per = function(trait, tree_4d, reps=999, ...){\n",
    "    res = lipaMoran(tree_4d, trait=trait, reps = reps, prox.phylo = \"nNodes\", ...)\n",
    "    z = colnames(res$lipa)[1]\n",
    "    x = res$lipa\n",
    "    colnames(x) = c('coef')\n",
    "    y = res$p.value \n",
    "    colnames(y) = c('pvalue')\n",
    "    df = cbind(x,y) %>% as.data.frame\n",
    "    df$index = z\n",
    "    df$host = rownames(df)\n",
    "    rownames(df) = 1:nrow(df)\n",
    "    return(df)\n",
    "}\n",
    "\n",
    "traits = physig_res_j$index %>% unique\n",
    "traits %>% length"
   ]
  },
  {
   "cell_type": "code",
   "execution_count": 29,
   "metadata": {
    "ExecuteTime": {
     "end_time": "2018-07-07T07:11:04.772654Z",
     "start_time": "2018-07-07T07:11:00.278Z"
    }
   },
   "outputs": [
    {
     "name": "stdout",
     "output_type": "stream",
     "text": [
      "[1] 512   4\n"
     ]
    },
    {
     "data": {
      "text/html": [
       "<table>\n",
       "<thead><tr><th scope=col>coef</th><th scope=col>pvalue</th><th scope=col>index</th><th scope=col>host</th></tr></thead>\n",
       "<tbody>\n",
       "\t<tr><td>0.08735852           </td><td>0.0519               </td><td>faith_pd             </td><td>Sander_lucioperca    </td></tr>\n",
       "\t<tr><td>0.10300190           </td><td>0.0784               </td><td>faith_pd             </td><td>Esox_lucius          </td></tr>\n",
       "\t<tr><td>0.07078658           </td><td>0.1257               </td><td>faith_pd             </td><td>Salvelinus_fontinalis</td></tr>\n",
       "</tbody>\n",
       "</table>\n"
      ],
      "text/latex": [
       "\\begin{tabular}{r|llll}\n",
       " coef & pvalue & index & host\\\\\n",
       "\\hline\n",
       "\t 0.08735852              & 0.0519                  & faith\\_pd              & Sander\\_lucioperca    \\\\\n",
       "\t 0.10300190              & 0.0784                  & faith\\_pd              & Esox\\_lucius          \\\\\n",
       "\t 0.07078658              & 0.1257                  & faith\\_pd              & Salvelinus\\_fontinalis\\\\\n",
       "\\end{tabular}\n"
      ],
      "text/markdown": [
       "\n",
       "coef | pvalue | index | host | \n",
       "|---|---|---|\n",
       "| 0.08735852            | 0.0519                | faith_pd              | Sander_lucioperca     | \n",
       "| 0.10300190            | 0.0784                | faith_pd              | Esox_lucius           | \n",
       "| 0.07078658            | 0.1257                | faith_pd              | Salvelinus_fontinalis | \n",
       "\n",
       "\n"
      ],
      "text/plain": [
       "  coef       pvalue index    host                 \n",
       "1 0.08735852 0.0519 faith_pd Sander_lucioperca    \n",
       "2 0.10300190 0.0784 faith_pd Esox_lucius          \n",
       "3 0.07078658 0.1257 faith_pd Salvelinus_fontinalis"
      ]
     },
     "metadata": {},
     "output_type": "display_data"
    }
   ],
   "source": [
    "# calculating \n",
    "registerDoParallel(cores=threads)\n",
    "lipa_res = plyr::llply(as.list(traits), lipaMoran_per, \n",
    "                       tree_4d=host_tree_4d, \n",
    "                       reps=9999, \n",
    "                       .parallel=TRUE)\n",
    "lipa_res = do.call(rbind, lipa_res)\n",
    "lipa_res %>% status"
   ]
  },
  {
   "cell_type": "code",
   "execution_count": 30,
   "metadata": {
    "ExecuteTime": {
     "end_time": "2018-07-07T07:11:06.262749Z",
     "start_time": "2018-07-07T07:11:01.213Z"
    }
   },
   "outputs": [
    {
     "data": {
      "image/png": "[encoded data removed]",
      "text/plain": [
       "plot without title"
      ]
     },
     "metadata": {},
     "output_type": "display_data"
    }
   ],
   "source": [
    "# plotting p-value ~ coef\n",
    "p = ggplot(lipa_res, aes(coef, pvalue)) +\n",
    "    geom_point(alpha=0.5) +\n",
    "    facet_wrap(~ index) +\n",
    "    theme_bw() \n",
    "\n",
    "options(repr.plot.width=5, repr.plot.height=3.5)\n",
    "plot(p)"
   ]
  },
  {
   "cell_type": "code",
   "execution_count": 31,
   "metadata": {
    "ExecuteTime": {
     "end_time": "2018-07-07T07:11:06.314344Z",
     "start_time": "2018-07-07T07:11:01.469Z"
    }
   },
   "outputs": [
    {
     "data": {
      "text/plain": [
       "    Min.  1st Qu.   Median     Mean  3rd Qu.     Max. \n",
       "0.004654 0.618637 0.783951 0.700889 0.939857 0.997200 "
      ]
     },
     "metadata": {},
     "output_type": "display_data"
    }
   ],
   "source": [
    "# p-value dist\n",
    "lipa_res$qvalue = p.adjust(lipa_res$pvalue, method='BH')\n",
    "lipa_res$qvalue %>% summary"
   ]
  },
  {
   "cell_type": "code",
   "execution_count": 32,
   "metadata": {
    "ExecuteTime": {
     "end_time": "2018-07-07T07:11:06.373189Z",
     "start_time": "2018-07-07T07:11:02.301Z"
    }
   },
   "outputs": [
    {
     "name": "stdout",
     "output_type": "stream",
     "text": [
      "[1] 22  5\n"
     ]
    },
    {
     "data": {
      "text/html": [
       "<table>\n",
       "<thead><tr><th scope=col>coef</th><th scope=col>pvalue</th><th scope=col>index</th><th scope=col>host</th><th scope=col>qvalue</th></tr></thead>\n",
       "<tbody>\n",
       "\t<tr><td>0.3893489         </td><td>3e-04             </td><td>faith_pd          </td><td>Anas_platyrhynchos</td><td>0.010971429       </td></tr>\n",
       "\t<tr><td>0.7212041         </td><td>1e-04             </td><td>faith_pd          </td><td>Branta_leucopsis  </td><td>0.004654545       </td></tr>\n",
       "\t<tr><td>0.6353730         </td><td>1e-04             </td><td>faith_pd          </td><td>Anser_anser       </td><td>0.004654545       </td></tr>\n",
       "</tbody>\n",
       "</table>\n"
      ],
      "text/latex": [
       "\\begin{tabular}{r|lllll}\n",
       " coef & pvalue & index & host & qvalue\\\\\n",
       "\\hline\n",
       "\t 0.3893489            & 3e-04                & faith\\_pd           & Anas\\_platyrhynchos & 0.010971429         \\\\\n",
       "\t 0.7212041            & 1e-04                & faith\\_pd           & Branta\\_leucopsis   & 0.004654545         \\\\\n",
       "\t 0.6353730            & 1e-04                & faith\\_pd           & Anser\\_anser        & 0.004654545         \\\\\n",
       "\\end{tabular}\n"
      ],
      "text/markdown": [
       "\n",
       "coef | pvalue | index | host | qvalue | \n",
       "|---|---|---|\n",
       "| 0.3893489          | 3e-04              | faith_pd           | Anas_platyrhynchos | 0.010971429        | \n",
       "| 0.7212041          | 1e-04              | faith_pd           | Branta_leucopsis   | 0.004654545        | \n",
       "| 0.6353730          | 1e-04              | faith_pd           | Anser_anser        | 0.004654545        | \n",
       "\n",
       "\n"
      ],
      "text/plain": [
       "  coef      pvalue index    host               qvalue     \n",
       "1 0.3893489 3e-04  faith_pd Anas_platyrhynchos 0.010971429\n",
       "2 0.7212041 1e-04  faith_pd Branta_leucopsis   0.004654545\n",
       "3 0.6353730 1e-04  faith_pd Anser_anser        0.004654545"
      ]
     },
     "metadata": {},
     "output_type": "display_data"
    }
   ],
   "source": [
    "# q-value dist\n",
    "lipa_res_f = lipa_res %>%\n",
    "    filter(qvalue < 0.05) \n",
    "\n",
    "lipa_res_f %>% status"
   ]
  },
  {
   "cell_type": "code",
   "execution_count": 33,
   "metadata": {
    "ExecuteTime": {
     "end_time": "2018-07-07T07:11:06.736596Z",
     "start_time": "2018-07-07T07:11:02.654Z"
    }
   },
   "outputs": [
    {
     "data": {
      "text/plain": [
       ".\n",
       "     faith_pd observed_otus      pielou_e       shannon \n",
       "            9             9             2             2 "
      ]
     },
     "metadata": {},
     "output_type": "display_data"
    }
   ],
   "source": [
    "# summary\n",
    "lipa_res_f$index %>% table"
   ]
  },
  {
   "cell_type": "markdown",
   "metadata": {},
   "source": [
    "### Formatting for iTOL"
   ]
  },
  {
   "cell_type": "code",
   "execution_count": 34,
   "metadata": {
    "ExecuteTime": {
     "end_time": "2018-07-07T07:11:06.738809Z",
     "start_time": "2018-07-07T07:11:04.068Z"
    }
   },
   "outputs": [
    {
     "name": "stderr",
     "output_type": "stream",
     "text": [
      "Warning message:\n",
      "“Column `host`/`tips` joining character vector and factor, coercing into character vector”"
     ]
    },
    {
     "name": "stdout",
     "output_type": "stream",
     "text": [
      "    faith_pd      observed_otus       pielou_e         shannon      \n",
      " Min.   :0.2444   Min.   :0.2272   Min.   :0.4830   Min.   :0.2944  \n",
      " 1st Qu.:0.3893   1st Qu.:0.2467   1st Qu.:0.4873   1st Qu.:0.3272  \n",
      " Median :0.5801   Median :0.5444   Median :0.4917   Median :0.3599  \n",
      " Mean   :0.5323   Mean   :0.5081   Mean   :0.4917   Mean   :0.3599  \n",
      " 3rd Qu.:0.7212   3rd Qu.:0.6907   3rd Qu.:0.4960   3rd Qu.:0.3927  \n",
      " Max.   :0.8045   Max.   :0.8073   Max.   :0.5003   Max.   :0.4255  \n",
      " NA's   :119      NA's   :119      NA's   :126      NA's   :126     \n",
      "[1] 128   4\n"
     ]
    },
    {
     "data": {
      "text/html": [
       "<table>\n",
       "<thead><tr><th></th><th scope=col>faith_pd</th><th scope=col>observed_otus</th><th scope=col>pielou_e</th><th scope=col>shannon</th></tr></thead>\n",
       "<tbody>\n",
       "\t<tr><th scope=row>Sander_lucioperca</th><td>NA</td><td>NA</td><td>NA</td><td>NA</td></tr>\n",
       "\t<tr><th scope=row>Esox_lucius</th><td>NA</td><td>NA</td><td>NA</td><td>NA</td></tr>\n",
       "\t<tr><th scope=row>Salvelinus_fontinalis</th><td>NA</td><td>NA</td><td>NA</td><td>NA</td></tr>\n",
       "</tbody>\n",
       "</table>\n"
      ],
      "text/latex": [
       "\\begin{tabular}{r|llll}\n",
       "  & faith\\_pd & observed\\_otus & pielou\\_e & shannon\\\\\n",
       "\\hline\n",
       "\tSander\\_lucioperca & NA & NA & NA & NA\\\\\n",
       "\tEsox\\_lucius & NA & NA & NA & NA\\\\\n",
       "\tSalvelinus\\_fontinalis & NA & NA & NA & NA\\\\\n",
       "\\end{tabular}\n"
      ],
      "text/markdown": [
       "\n",
       "| <!--/--> | faith_pd | observed_otus | pielou_e | shannon | \n",
       "|---|---|---|\n",
       "| Sander_lucioperca | NA | NA | NA | NA | \n",
       "| Esox_lucius | NA | NA | NA | NA | \n",
       "| Salvelinus_fontinalis | NA | NA | NA | NA | \n",
       "\n",
       "\n"
      ],
      "text/plain": [
       "                      faith_pd observed_otus pielou_e shannon\n",
       "Sander_lucioperca     NA       NA            NA       NA     \n",
       "Esox_lucius           NA       NA            NA       NA     \n",
       "Salvelinus_fontinalis NA       NA            NA       NA     "
      ]
     },
     "metadata": {},
     "output_type": "display_data"
    }
   ],
   "source": [
    "if(nrow(lipa_res_f) > 0){\n",
    "    lipa_res_f_s = lipa_res_f %>% \n",
    "        dplyr::select(index, host, coef) %>%\n",
    "        spread(index, coef) %>%\n",
    "        right_join(data.frame(tips = host_tree$tip.label), \n",
    "                    c('host'='tips')) \n",
    "\n",
    "    rownames(lipa_res_f_s) = lipa_res_f_s$host\n",
    "    lipa_res_f_s$host = NULL\n",
    "\n",
    "    lipa_res_f_s %>% summary %>% print\n",
    "    lipa_res_f_s %>% status\n",
    "}"
   ]
  },
  {
   "cell_type": "code",
   "execution_count": 35,
   "metadata": {
    "ExecuteTime": {
     "end_time": "2018-07-07T07:11:06.740748Z",
     "start_time": "2018-07-07T07:11:04.213Z"
    }
   },
   "outputs": [
    {
     "name": "stdout",
     "output_type": "stream",
     "text": [
      "[1] 128   4\n"
     ]
    },
    {
     "data": {
      "text/html": [
       "<table>\n",
       "<thead><tr><th></th><th scope=col>faith_pd</th><th scope=col>observed_otus</th><th scope=col>pielou_e</th><th scope=col>shannon</th></tr></thead>\n",
       "<tbody>\n",
       "\t<tr><th scope=row>Sander_lucioperca</th><td>NA</td><td>NA</td><td>NA</td><td>NA</td></tr>\n",
       "\t<tr><th scope=row>Esox_lucius</th><td>NA</td><td>NA</td><td>NA</td><td>NA</td></tr>\n",
       "\t<tr><th scope=row>Salvelinus_fontinalis</th><td>NA</td><td>NA</td><td>NA</td><td>NA</td></tr>\n",
       "</tbody>\n",
       "</table>\n"
      ],
      "text/latex": [
       "\\begin{tabular}{r|llll}\n",
       "  & faith\\_pd & observed\\_otus & pielou\\_e & shannon\\\\\n",
       "\\hline\n",
       "\tSander\\_lucioperca & NA & NA & NA & NA\\\\\n",
       "\tEsox\\_lucius & NA & NA & NA & NA\\\\\n",
       "\tSalvelinus\\_fontinalis & NA & NA & NA & NA\\\\\n",
       "\\end{tabular}\n"
      ],
      "text/markdown": [
       "\n",
       "| <!--/--> | faith_pd | observed_otus | pielou_e | shannon | \n",
       "|---|---|---|\n",
       "| Sander_lucioperca | NA | NA | NA | NA | \n",
       "| Esox_lucius | NA | NA | NA | NA | \n",
       "| Salvelinus_fontinalis | NA | NA | NA | NA | \n",
       "\n",
       "\n"
      ],
      "text/plain": [
       "                      faith_pd observed_otus pielou_e shannon\n",
       "Sander_lucioperca     NA       NA            NA       NA     \n",
       "Esox_lucius           NA       NA            NA       NA     \n",
       "Salvelinus_fontinalis NA       NA            NA       NA     "
      ]
     },
     "metadata": {},
     "output_type": "display_data"
    }
   ],
   "source": [
    "# adding missing indices\n",
    "if(nrow(lipa_res_f) > 0){\n",
    "    missing = setdiff(c('faith_pd', 'shannon', 'observed_otus', 'pielou_e'), colnames(lipa_res_f_s))\n",
    "    for(m in missing){\n",
    "        lipa_res_f_s[,m] = NA\n",
    "    }\n",
    "}\n",
    "\n",
    "lipa_res_f_s %>% status"
   ]
  },
  {
   "cell_type": "code",
   "execution_count": 36,
   "metadata": {
    "ExecuteTime": {
     "end_time": "2018-07-07T07:11:06.742428Z",
     "start_time": "2018-07-07T07:11:04.335Z"
    }
   },
   "outputs": [
    {
     "name": "stdout",
     "output_type": "stream",
     "text": [
      "File written: /ebio/abt3_projects/Georg_animal_feces/data/host_specific/phylosignal/host_TT//lipaMoran_sig_htmp.txt \n"
     ]
    }
   ],
   "source": [
    "cols_to_keep = c('faith_pd', 'shannon')\n",
    "lipa_res_f_s_f = lipa_res_f_s[,cols_to_keep]\n",
    "\n",
    "if(nrow(lipa_res_f) > 0){\n",
    "    itol_htmp_file = file.path(work_dir, 'lipaMoran_sig_htmp.txt')\n",
    "    labs = gsub(' ', '_', colnames(lipa_res_f_s_f))\n",
    "    labs = sprintf('FIELD_LABELS %s\\n', paste(labs, collapse=' '))\n",
    "\n",
    "    cat('DATASET_HEATMAP\\n', file=itol_htmp_file)\n",
    "    cat('SEPARATOR SPACE\\n', file=itol_htmp_file, append=TRUE)\n",
    "    cat('DATASET_LABEL alpha_div_lipaMoran\\n', file=itol_htmp_file, append=TRUE)\n",
    "    cat('COLOR #ff0000\\n', file=itol_htmp_file, append=TRUE)\n",
    "    cat(labs, file=itol_htmp_file, append=TRUE)\n",
    "\n",
    "    #cat('FIELD_TREE ', file=itol_htmp_file, append=TRUE)\n",
    "    #write.tree(clado, file=itol_htmp_file, append=TRUE)\n",
    "\n",
    "    cat('DATA\\n', file=itol_htmp_file, append=TRUE)\n",
    "    write.table(lipa_res_f_s_f, file=itol_htmp_file, append=TRUE, sep=' ', \n",
    "                quote=FALSE, col.names=FALSE)\n",
    "\n",
    "    cat('File written:', itol_htmp_file, '\\n')\n",
    "}"
   ]
  },
  {
   "cell_type": "markdown",
   "metadata": {},
   "source": [
    "# sessionInfo"
   ]
  },
  {
   "cell_type": "code",
   "execution_count": 37,
   "metadata": {
    "ExecuteTime": {
     "end_time": "2018-07-07T07:11:07.423694Z",
     "start_time": "2018-07-07T07:11:05.557Z"
    }
   },
   "outputs": [
    {
     "data": {
      "text/plain": [
       "R version 3.4.1 (2017-06-30)\n",
       "Platform: x86_64-pc-linux-gnu (64-bit)\n",
       "Running under: Ubuntu 16.04.4 LTS\n",
       "\n",
       "Matrix products: default\n",
       "BLAS: /ebio/abt3_projects/software/miniconda3/envs/py3_physeq_physig/lib/R/lib/libRblas.so\n",
       "LAPACK: /ebio/abt3_projects/software/miniconda3/envs/py3_physeq_physig/lib/R/lib/libRlapack.so\n",
       "\n",
       "locale:\n",
       " [1] LC_CTYPE=en_US.UTF-8       LC_NUMERIC=C              \n",
       " [3] LC_TIME=en_US.UTF-8        LC_COLLATE=en_US.UTF-8    \n",
       " [5] LC_MONETARY=en_US.UTF-8    LC_MESSAGES=en_US.UTF-8   \n",
       " [7] LC_PAPER=en_US.UTF-8       LC_NAME=C                 \n",
       " [9] LC_ADDRESS=C               LC_TELEPHONE=C            \n",
       "[11] LC_MEASUREMENT=en_US.UTF-8 LC_IDENTIFICATION=C       \n",
       "\n",
       "attached base packages:\n",
       "[1] parallel  stats     graphics  grDevices utils     datasets  methods  \n",
       "[8] base     \n",
       "\n",
       "other attached packages:\n",
       " [1] bindrcpp_0.2      doParallel_1.0.10 iterators_1.0.8   foreach_1.4.3    \n",
       " [5] phylosignal_1.2   phyloseq_1.22.3   ape_5.0           ggplot2_2.2.1    \n",
       " [9] tidyr_0.7.1       dplyr_0.7.4      \n",
       "\n",
       "loaded via a namespace (and not attached):\n",
       " [1] nlme_3.1-137        bold_0.5.0          gmodels_2.16.2     \n",
       " [4] progress_1.1.2      httr_1.3.1          repr_0.10          \n",
       " [7] tools_3.4.1         R6_2.2.2            vegan_2.4-3        \n",
       "[10] DBI_1.0.0           lazyeval_0.2.0      BiocGenerics_0.24.0\n",
       "[13] mgcv_1.8-17         colorspace_1.3-2    permute_0.9-4      \n",
       "[16] ade4_1.7-10         sp_1.2-7            tidyselect_0.2.3   \n",
       "[19] prettyunits_1.0.2   curl_3.2            compiler_3.4.1     \n",
       "[22] Biobase_2.38.0      adephylo_1.1-11     expm_0.999-2       \n",
       "[25] xml2_1.1.1          labeling_0.3        scales_0.5.0       \n",
       "[28] pbdZMQ_0.3-1        stringr_1.2.0       digest_0.6.13      \n",
       "[31] XVector_0.18.0      pkgconfig_2.0.1     htmltools_0.3.6    \n",
       "[34] rlang_0.2.0         shiny_1.0.5         bindr_0.1.1        \n",
       "[37] jsonlite_1.5        gtools_3.5.0        spdep_0.6-13       \n",
       "[40] magrittr_1.5        biomformat_1.6.0    Matrix_1.2-7.1     \n",
       "[43] Rcpp_0.12.14        IRkernel_0.8.11     munsell_0.4.3      \n",
       "[46] S4Vectors_0.16.0    stringi_1.1.6       MASS_7.3-48        \n",
       "[49] zlibbioc_1.24.0     rhdf5_2.22.0        plyr_1.8.4         \n",
       "[52] grid_3.4.1          gdata_2.17.0        crayon_1.3.4       \n",
       "[55] adegenet_2.1.0      deldir_0.1-14       rncl_0.8.2         \n",
       "[58] lattice_0.20-35     IRdisplay_0.4.4     Biostrings_2.46.0  \n",
       "[61] splines_3.4.1       multtest_2.34.0     pillar_1.2.2       \n",
       "[64] igraph_1.1.2        uuid_0.1-2          taxize_0.9.0       \n",
       "[67] boot_1.3-18         seqinr_3.4-5        reshape2_1.4.2     \n",
       "[70] codetools_0.2-15    stats4_3.4.1        LearnBayes_2.15    \n",
       "[73] crul_0.5.0          XML_3.98-1.6        glue_1.2.0         \n",
       "[76] evaluate_0.10.1     RNeXML_2.0.8        data.table_1.10.4  \n",
       "[79] httpuv_1.3.5        gtable_0.2.0        purrr_0.2.2        \n",
       "[82] reshape_0.8.6       assertthat_0.2.0    mime_0.5           \n",
       "[85] phylobase_0.8.4     xtable_1.8-2        coda_0.19-1        \n",
       "[88] survival_2.40-1     tibble_1.4.2        IRanges_2.12.0     \n",
       "[91] cluster_2.0.6      "
      ]
     },
     "metadata": {},
     "output_type": "display_data"
    }
   ],
   "source": [
    "sessionInfo()"
   ]
  },
  {
   "cell_type": "code",
   "execution_count": null,
   "metadata": {},
   "outputs": [],
   "source": []
  },
  {
   "cell_type": "code",
   "execution_count": null,
   "metadata": {},
   "outputs": [],
   "source": []
  }
 ],
 "metadata": {
  "kernelspec": {
   "display_name": "R [conda env:py3_physeq_physig]",
   "language": "R",
   "name": "conda-env-py3_physeq_physig-r"
  },
  "language_info": {
   "codemirror_mode": "r",
   "file_extension": ".r",
   "mimetype": "text/x-r-source",
   "name": "R",
   "pygments_lexer": "r",
   "version": "3.4.1"
  },
  "notify_time": "30",
  "toc": {
   "base_numbering": 1,
   "nav_menu": {},
   "number_sections": true,
   "sideBar": true,
   "skip_h1_title": false,
   "title_cell": "Table of Contents",
   "title_sidebar": "Contents",
   "toc_cell": false,
   "toc_position": {},
   "toc_section_display": "block",
   "toc_window_display": true
  }
 },
 "nbformat": 4,
 "nbformat_minor": 2
}
