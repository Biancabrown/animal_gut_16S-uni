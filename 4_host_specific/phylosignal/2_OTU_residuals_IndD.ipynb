{
 "cells": [
  {
   "cell_type": "markdown",
   "metadata": {},
   "source": [
    "# Goal\n",
    "\n",
    "* regress out diet covariant from OTU abundance\n",
    "* use resulting residuals for phylogenetic signal of particular taxa"
   ]
  },
  {
   "cell_type": "markdown",
   "metadata": {},
   "source": [
    "# Var"
   ]
  },
  {
   "cell_type": "code",
   "execution_count": 1,
   "metadata": {
    "ExecuteTime": {
     "end_time": "2018-07-07T07:22:52.117303Z",
     "start_time": "2018-07-07T07:22:51.387Z"
    }
   },
   "outputs": [],
   "source": [
    "work_dir = '/ebio/abt3_projects/Georg_animal_feces/data/host_specific/phylosignal/host_TT/taxon_abund/'\n",
    "\n",
    "# phyloseq\n",
    "physeq_file = '/ebio/abt3_projects/Georg_animal_feces/data/16S/LLA/phyloseq/physeq_r5k.RDS'\n",
    "\n",
    "# sparsity \n",
    "sparsity_cutoff = 0.05"
   ]
  },
  {
   "cell_type": "markdown",
   "metadata": {},
   "source": [
    "# Init"
   ]
  },
  {
   "cell_type": "code",
   "execution_count": 2,
   "metadata": {
    "ExecuteTime": {
     "end_time": "2018-07-07T07:23:06.684117Z",
     "start_time": "2018-07-07T07:22:51.675Z"
    }
   },
   "outputs": [
    {
     "name": "stderr",
     "output_type": "stream",
     "text": [
      "\n",
      "Attaching package: ‘dplyr’\n",
      "\n",
      "The following objects are masked from ‘package:stats’:\n",
      "\n",
      "    filter, lag\n",
      "\n",
      "The following objects are masked from ‘package:base’:\n",
      "\n",
      "    intersect, setdiff, setequal, union\n",
      "\n"
     ]
    }
   ],
   "source": [
    "library(dplyr)\n",
    "library(tidyr)\n",
    "library(ggplot2)\n",
    "library(ape)\n",
    "library(phyloseq)\n",
    "source('/ebio/abt3_projects/Georg_animal_feces/code/init.R') "
   ]
  },
  {
   "cell_type": "code",
   "execution_count": 3,
   "metadata": {
    "ExecuteTime": {
     "end_time": "2018-07-07T07:23:07.010689Z",
     "start_time": "2018-07-07T07:22:51.809Z"
    }
   },
   "outputs": [
    {
     "name": "stdout",
     "output_type": "stream",
     "text": [
      "Directory already exists: /ebio/abt3_projects/Georg_animal_feces/data/host_specific/phylosignal/host_TT/taxon_abund/ \n"
     ]
    }
   ],
   "source": [
    "make_dir(work_dir)\n",
    "setwd(work_dir)"
   ]
  },
  {
   "cell_type": "markdown",
   "metadata": {},
   "source": [
    "# Load"
   ]
  },
  {
   "cell_type": "code",
   "execution_count": 4,
   "metadata": {
    "ExecuteTime": {
     "end_time": "2018-07-07T07:23:08.730668Z",
     "start_time": "2018-07-07T07:22:52.890Z"
    }
   },
   "outputs": [
    {
     "data": {
      "text/plain": [
       "phyloseq-class experiment-level object\n",
       "otu_table()   OTU Table:         [ 30290 taxa and 213 samples ]\n",
       "sample_data() Sample Data:       [ 213 samples by 171 sample variables ]\n",
       "tax_table()   Taxonomy Table:    [ 30290 taxa by 7 taxonomic ranks ]\n",
       "phy_tree()    Phylogenetic Tree: [ 30290 tips and 29752 internal nodes ]"
      ]
     },
     "metadata": {},
     "output_type": "display_data"
    }
   ],
   "source": [
    "physeq = readRDS(physeq_file)\n",
    "physeq"
   ]
  },
  {
   "cell_type": "code",
   "execution_count": 5,
   "metadata": {
    "ExecuteTime": {
     "end_time": "2018-07-07T07:23:13.965527Z",
     "start_time": "2018-07-07T07:22:52.978Z"
    }
   },
   "outputs": [
    {
     "data": {
      "text/plain": [
       "phyloseq-class experiment-level object\n",
       "otu_table()   OTU Table:         [ 408 taxa and 213 samples ]\n",
       "sample_data() Sample Data:       [ 213 samples by 171 sample variables ]\n",
       "tax_table()   Taxonomy Table:    [ 408 taxa by 7 taxonomic ranks ]\n",
       "phy_tree()    Phylogenetic Tree: [ 408 tips and 406 internal nodes ]"
      ]
     },
     "metadata": {},
     "output_type": "display_data"
    }
   ],
   "source": [
    "# applying sparsity cutoff\n",
    "physeq = physeq %>%\n",
    "    filter_taxa(function(x) sum(x > 0) / length(x) > sparsity_cutoff, TRUE) \n",
    "physeq"
   ]
  },
  {
   "cell_type": "code",
   "execution_count": 6,
   "metadata": {
    "ExecuteTime": {
     "end_time": "2018-07-07T07:23:15.002521Z",
     "start_time": "2018-07-07T07:22:53.155Z"
    }
   },
   "outputs": [
    {
     "data": {
      "text/html": [
       "<ol class=list-inline>\n",
       "\t<li>408</li>\n",
       "\t<li>213</li>\n",
       "</ol>\n"
      ],
      "text/latex": [
       "\\begin{enumerate*}\n",
       "\\item 408\n",
       "\\item 213\n",
       "\\end{enumerate*}\n"
      ],
      "text/markdown": [
       "1. 408\n",
       "2. 213\n",
       "\n",
       "\n"
      ],
      "text/plain": [
       "[1] 408 213"
      ]
     },
     "metadata": {},
     "output_type": "display_data"
    }
   ],
   "source": [
    "# OTUs\n",
    "otu = physeq %>%\n",
    "    otu_table() %>%\n",
    "    as.matrix %>%\n",
    "    as.data.frame \n",
    "\n",
    "otu %>% dim"
   ]
  },
  {
   "cell_type": "code",
   "execution_count": 7,
   "metadata": {
    "ExecuteTime": {
     "end_time": "2018-07-07T07:23:15.402152Z",
     "start_time": "2018-07-07T07:22:54.035Z"
    }
   },
   "outputs": [
    {
     "name": "stderr",
     "output_type": "stream",
     "text": [
      "Warning message in class(X) <- NULL:\n",
      "“Setting class(x) to NULL;   result will no longer be an S4 object”"
     ]
    },
    {
     "name": "stdout",
     "output_type": "stream",
     "text": [
      "[1] 213 141\n"
     ]
    },
    {
     "data": {
      "text/html": [
       "<table>\n",
       "<thead><tr><th></th><th scope=col>X.SampleID</th><th scope=col>Barcode_ID</th><th scope=col>sample_number</th><th scope=col>host_subject_id</th><th scope=col>host_german_name</th><th scope=col>host_common_name</th><th scope=col>scientific_name</th><th scope=col>scientific_name_subspecies</th><th scope=col>host_taxid</th><th scope=col>class</th><th scope=col>⋯</th><th scope=col>Cornell_Illumina</th><th scope=col>Cornell_Dilution_DNA_Illumina</th><th scope=col>Num_Illumina</th><th scope=col>Num</th><th scope=col>sorting_454</th><th scope=col>comments_additional</th><th scope=col>DNA_box_20180622</th><th scope=col>sample_vol_20180622</th><th scope=col>sample_label_20180622</th><th scope=col>Description</th></tr></thead>\n",
       "<tbody>\n",
       "\t<tr><th scope=row>X1.Eurasian.Beaver</th><td>X1.Eurasian.Beaver  </td><td>338R_BC0049         </td><td>1                   </td><td>1                   </td><td>Biber               </td><td>Eurasian.Beaver     </td><td>Castor_fiber        </td><td>NA                  </td><td>10185               </td><td>Mammalia            </td><td>⋯                   </td><td>yes                 </td><td>4                   </td><td>120                 </td><td>18                  </td><td>18                  </td><td>NA                  </td><td>1                   </td><td>20                  </td><td>1                   </td><td>NA                  </td></tr>\n",
       "\t<tr><th scope=row>X101.Horse</th><td>X101.Horse          </td><td>338R_BC0030         </td><td>101                 </td><td>101                 </td><td>Hauspferd           </td><td>Horse               </td><td>Equus_caballus      </td><td>NA                  </td><td>9796                </td><td>Mammalia            </td><td>⋯                   </td><td>yes                 </td><td>16                  </td><td>344                 </td><td>160                 </td><td>160                 </td><td>NA                  </td><td>2                   </td><td>20                  </td><td>101                 </td><td>NA                  </td></tr>\n",
       "\t<tr><th scope=row>X102.Kulan</th><td>X102.Kulan          </td><td>338R_BC0031         </td><td>102                 </td><td>102                 </td><td>Khulan              </td><td>Kulan               </td><td>Equus_hemionus      </td><td>Equus hemionus kulan</td><td>73334               </td><td>Mammalia            </td><td>⋯                   </td><td>yes                 </td><td>16                  </td><td>345                 </td><td>161                 </td><td>161                 </td><td>NA                  </td><td>2                   </td><td>20                  </td><td>102                 </td><td>NA                  </td></tr>\n",
       "</tbody>\n",
       "</table>\n"
      ],
      "text/latex": [
       "\\begin{tabular}{r|lllllllllllllllllllllllllllllllllllllllllllllllllllllllllllllllllllllllllllllllllllllllllllllllllllllllllllllllllllllllllllllllllllllllllllll}\n",
       "  & X.SampleID & Barcode\\_ID & sample\\_number & host\\_subject\\_id & host\\_german\\_name & host\\_common\\_name & scientific\\_name & scientific\\_name\\_subspecies & host\\_taxid & class & ⋯ & Cornell\\_Illumina & Cornell\\_Dilution\\_DNA\\_Illumina & Num\\_Illumina & Num & sorting\\_454 & comments\\_additional & DNA\\_box\\_20180622 & sample\\_vol\\_20180622 & sample\\_label\\_20180622 & Description\\\\\n",
       "\\hline\n",
       "\tX1.Eurasian.Beaver & X1.Eurasian.Beaver   & 338R\\_BC0049        & 1                    & 1                    & Biber                & Eurasian.Beaver      & Castor\\_fiber       & NA                   & 10185                & Mammalia             & ⋯                    & yes                  & 4                    & 120                  & 18                   & 18                   & NA                   & 1                    & 20                   & 1                    & NA                  \\\\\n",
       "\tX101.Horse & X101.Horse           & 338R\\_BC0030        & 101                  & 101                  & Hauspferd            & Horse                & Equus\\_caballus     & NA                   & 9796                 & Mammalia             & ⋯                    & yes                  & 16                   & 344                  & 160                  & 160                  & NA                   & 2                    & 20                   & 101                  & NA                  \\\\\n",
       "\tX102.Kulan & X102.Kulan           & 338R\\_BC0031        & 102                  & 102                  & Khulan               & Kulan                & Equus\\_hemionus     & Equus hemionus kulan & 73334                & Mammalia             & ⋯                    & yes                  & 16                   & 345                  & 161                  & 161                  & NA                   & 2                    & 20                   & 102                  & NA                  \\\\\n",
       "\\end{tabular}\n"
      ],
      "text/markdown": [
       "\n",
       "| <!--/--> | X.SampleID | Barcode_ID | sample_number | host_subject_id | host_german_name | host_common_name | scientific_name | scientific_name_subspecies | host_taxid | class | ⋯ | Cornell_Illumina | Cornell_Dilution_DNA_Illumina | Num_Illumina | Num | sorting_454 | comments_additional | DNA_box_20180622 | sample_vol_20180622 | sample_label_20180622 | Description | \n",
       "|---|---|---|\n",
       "| X1.Eurasian.Beaver | X1.Eurasian.Beaver   | 338R_BC0049          | 1                    | 1                    | Biber                | Eurasian.Beaver      | Castor_fiber         | NA                   | 10185                | Mammalia             | ⋯                    | yes                  | 4                    | 120                  | 18                   | 18                   | NA                   | 1                    | 20                   | 1                    | NA                   | \n",
       "| X101.Horse | X101.Horse           | 338R_BC0030          | 101                  | 101                  | Hauspferd            | Horse                | Equus_caballus       | NA                   | 9796                 | Mammalia             | ⋯                    | yes                  | 16                   | 344                  | 160                  | 160                  | NA                   | 2                    | 20                   | 101                  | NA                   | \n",
       "| X102.Kulan | X102.Kulan           | 338R_BC0031          | 102                  | 102                  | Khulan               | Kulan                | Equus_hemionus       | Equus hemionus kulan | 73334                | Mammalia             | ⋯                    | yes                  | 16                   | 345                  | 161                  | 161                  | NA                   | 2                    | 20                   | 102                  | NA                   | \n",
       "\n",
       "\n"
      ],
      "text/plain": [
       "                   X.SampleID         Barcode_ID  sample_number host_subject_id\n",
       "X1.Eurasian.Beaver X1.Eurasian.Beaver 338R_BC0049 1             1              \n",
       "X101.Horse         X101.Horse         338R_BC0030 101           101            \n",
       "X102.Kulan         X102.Kulan         338R_BC0031 102           102            \n",
       "                   host_german_name host_common_name scientific_name\n",
       "X1.Eurasian.Beaver Biber            Eurasian.Beaver  Castor_fiber   \n",
       "X101.Horse         Hauspferd        Horse            Equus_caballus \n",
       "X102.Kulan         Khulan           Kulan            Equus_hemionus \n",
       "                   scientific_name_subspecies host_taxid class    ⋯\n",
       "X1.Eurasian.Beaver NA                         10185      Mammalia ⋯\n",
       "X101.Horse         NA                         9796       Mammalia ⋯\n",
       "X102.Kulan         Equus hemionus kulan       73334      Mammalia ⋯\n",
       "                   Cornell_Illumina Cornell_Dilution_DNA_Illumina Num_Illumina\n",
       "X1.Eurasian.Beaver yes              4                             120         \n",
       "X101.Horse         yes              16                            344         \n",
       "X102.Kulan         yes              16                            345         \n",
       "                   Num sorting_454 comments_additional DNA_box_20180622\n",
       "X1.Eurasian.Beaver 18  18          NA                  1               \n",
       "X101.Horse         160 160         NA                  2               \n",
       "X102.Kulan         161 161         NA                  2               \n",
       "                   sample_vol_20180622 sample_label_20180622 Description\n",
       "X1.Eurasian.Beaver 20                  1                     NA         \n",
       "X101.Horse         20                  101                   NA         \n",
       "X102.Kulan         20                  102                   NA         "
      ]
     },
     "metadata": {},
     "output_type": "display_data"
    }
   ],
   "source": [
    "metadata = physeq  %>%\n",
    "    sample_data %>%\n",
    "    as.matrix %>%\n",
    "    as.data.frame %>%\n",
    "    dplyr::select(-BarcodeSequence, -LinkerPrimerSequence, -Primer, -ReversePrimer, \n",
    "                  -Nanodrop_ng_per_ul_DNA, -Picogreen_ng_ul, -tot_mass, -height_or_length, \n",
    "                  -medication, -last_meal_or_actual_feed, -freezing_date, -samp_store_temp, \n",
    "                  -extr_mass_g, -dilution_qPCR, -Ct_A, -Ct_B, -Amount_SYBR_copies_in_5_ul_A, \n",
    "                  -Amount_SYBR_copies_in_5_ul_B, -Amount_geometric_mean_SYBR, \n",
    "                  -Copies_in_5_ul_PCR_template, -PCR_dil_qPCR_2, -Ct_A_2, -Ct_B_2, \n",
    "                  -Amount_SYBR_copies_in_5_ul_A_2, -Amount_SYBR_copies_in_5_ul_B_2,\n",
    "                  -Amount_geometric_mean_SYBR_2, -Copies_in_5_ul_PCR_template_2, \n",
    "                  -Copies_per_100_ul_extract_2, -wellplate_Illumina, -wellplate_position_Illumina)\n",
    "\n",
    "metadata %>% status"
   ]
  },
  {
   "cell_type": "markdown",
   "metadata": {},
   "source": [
    "# Regressing out diet"
   ]
  },
  {
   "cell_type": "code",
   "execution_count": 8,
   "metadata": {
    "ExecuteTime": {
     "end_time": "2018-07-07T07:23:15.468600Z",
     "start_time": "2018-07-07T07:22:55.291Z"
    }
   },
   "outputs": [
    {
     "name": "stdout",
     "output_type": "stream",
     "text": [
      "character(0)\n",
      "character(0)\n"
     ]
    }
   ],
   "source": [
    "setdiff(colnames(otu), rownames(metadata)) %>% print\n",
    "setdiff(rownames(metadata), colnames(otu)) %>% print"
   ]
  },
  {
   "cell_type": "code",
   "execution_count": 9,
   "metadata": {
    "ExecuteTime": {
     "end_time": "2018-07-07T07:23:15.577135Z",
     "start_time": "2018-07-07T07:22:55.413Z"
    }
   },
   "outputs": [
    {
     "name": "stdout",
     "output_type": "stream",
     "text": [
      "[1] 213 141\n"
     ]
    },
    {
     "data": {
      "text/html": [
       "<table>\n",
       "<thead><tr><th></th><th scope=col>X.SampleID</th><th scope=col>Barcode_ID</th><th scope=col>sample_number</th><th scope=col>host_subject_id</th><th scope=col>host_german_name</th><th scope=col>host_common_name</th><th scope=col>scientific_name</th><th scope=col>scientific_name_subspecies</th><th scope=col>host_taxid</th><th scope=col>class</th><th scope=col>⋯</th><th scope=col>Cornell_Illumina</th><th scope=col>Cornell_Dilution_DNA_Illumina</th><th scope=col>Num_Illumina</th><th scope=col>Num</th><th scope=col>sorting_454</th><th scope=col>comments_additional</th><th scope=col>DNA_box_20180622</th><th scope=col>sample_vol_20180622</th><th scope=col>sample_label_20180622</th><th scope=col>Description</th></tr></thead>\n",
       "<tbody>\n",
       "\t<tr><th scope=row>X1.Eurasian.Beaver</th><td>X1.Eurasian.Beaver  </td><td>338R_BC0049         </td><td>1                   </td><td>1                   </td><td>Biber               </td><td>Eurasian.Beaver     </td><td>Castor_fiber        </td><td>NA                  </td><td>10185               </td><td>Mammalia            </td><td>⋯                   </td><td>yes                 </td><td>4                   </td><td>120                 </td><td>18                  </td><td>18                  </td><td>NA                  </td><td>1                   </td><td>20                  </td><td>1                   </td><td>NA                  </td></tr>\n",
       "\t<tr><th scope=row>X101.Horse</th><td>X101.Horse          </td><td>338R_BC0030         </td><td>101                 </td><td>101                 </td><td>Hauspferd           </td><td>Horse               </td><td>Equus_caballus      </td><td>NA                  </td><td>9796                </td><td>Mammalia            </td><td>⋯                   </td><td>yes                 </td><td>16                  </td><td>344                 </td><td>160                 </td><td>160                 </td><td>NA                  </td><td>2                   </td><td>20                  </td><td>101                 </td><td>NA                  </td></tr>\n",
       "\t<tr><th scope=row>X102.Kulan</th><td>X102.Kulan          </td><td>338R_BC0031         </td><td>102                 </td><td>102                 </td><td>Khulan              </td><td>Kulan               </td><td>Equus_hemionus      </td><td>Equus hemionus kulan</td><td>73334               </td><td>Mammalia            </td><td>⋯                   </td><td>yes                 </td><td>16                  </td><td>345                 </td><td>161                 </td><td>161                 </td><td>NA                  </td><td>2                   </td><td>20                  </td><td>102                 </td><td>NA                  </td></tr>\n",
       "</tbody>\n",
       "</table>\n"
      ],
      "text/latex": [
       "\\begin{tabular}{r|lllllllllllllllllllllllllllllllllllllllllllllllllllllllllllllllllllllllllllllllllllllllllllllllllllllllllllllllllllllllllllllllllllllllllllll}\n",
       "  & X.SampleID & Barcode\\_ID & sample\\_number & host\\_subject\\_id & host\\_german\\_name & host\\_common\\_name & scientific\\_name & scientific\\_name\\_subspecies & host\\_taxid & class & ⋯ & Cornell\\_Illumina & Cornell\\_Dilution\\_DNA\\_Illumina & Num\\_Illumina & Num & sorting\\_454 & comments\\_additional & DNA\\_box\\_20180622 & sample\\_vol\\_20180622 & sample\\_label\\_20180622 & Description\\\\\n",
       "\\hline\n",
       "\tX1.Eurasian.Beaver & X1.Eurasian.Beaver   & 338R\\_BC0049        & 1                    & 1                    & Biber                & Eurasian.Beaver      & Castor\\_fiber       & NA                   & 10185                & Mammalia             & ⋯                    & yes                  & 4                    & 120                  & 18                   & 18                   & NA                   & 1                    & 20                   & 1                    & NA                  \\\\\n",
       "\tX101.Horse & X101.Horse           & 338R\\_BC0030        & 101                  & 101                  & Hauspferd            & Horse                & Equus\\_caballus     & NA                   & 9796                 & Mammalia             & ⋯                    & yes                  & 16                   & 344                  & 160                  & 160                  & NA                   & 2                    & 20                   & 101                  & NA                  \\\\\n",
       "\tX102.Kulan & X102.Kulan           & 338R\\_BC0031        & 102                  & 102                  & Khulan               & Kulan                & Equus\\_hemionus     & Equus hemionus kulan & 73334                & Mammalia             & ⋯                    & yes                  & 16                   & 345                  & 161                  & 161                  & NA                   & 2                    & 20                   & 102                  & NA                  \\\\\n",
       "\\end{tabular}\n"
      ],
      "text/markdown": [
       "\n",
       "| <!--/--> | X.SampleID | Barcode_ID | sample_number | host_subject_id | host_german_name | host_common_name | scientific_name | scientific_name_subspecies | host_taxid | class | ⋯ | Cornell_Illumina | Cornell_Dilution_DNA_Illumina | Num_Illumina | Num | sorting_454 | comments_additional | DNA_box_20180622 | sample_vol_20180622 | sample_label_20180622 | Description | \n",
       "|---|---|---|\n",
       "| X1.Eurasian.Beaver | X1.Eurasian.Beaver   | 338R_BC0049          | 1                    | 1                    | Biber                | Eurasian.Beaver      | Castor_fiber         | NA                   | 10185                | Mammalia             | ⋯                    | yes                  | 4                    | 120                  | 18                   | 18                   | NA                   | 1                    | 20                   | 1                    | NA                   | \n",
       "| X101.Horse | X101.Horse           | 338R_BC0030          | 101                  | 101                  | Hauspferd            | Horse                | Equus_caballus       | NA                   | 9796                 | Mammalia             | ⋯                    | yes                  | 16                   | 344                  | 160                  | 160                  | NA                   | 2                    | 20                   | 101                  | NA                   | \n",
       "| X102.Kulan | X102.Kulan           | 338R_BC0031          | 102                  | 102                  | Khulan               | Kulan                | Equus_hemionus       | Equus hemionus kulan | 73334                | Mammalia             | ⋯                    | yes                  | 16                   | 345                  | 161                  | 161                  | NA                   | 2                    | 20                   | 102                  | NA                   | \n",
       "\n",
       "\n"
      ],
      "text/plain": [
       "                   X.SampleID         Barcode_ID  sample_number host_subject_id\n",
       "X1.Eurasian.Beaver X1.Eurasian.Beaver 338R_BC0049 1             1              \n",
       "X101.Horse         X101.Horse         338R_BC0030 101           101            \n",
       "X102.Kulan         X102.Kulan         338R_BC0031 102           102            \n",
       "                   host_german_name host_common_name scientific_name\n",
       "X1.Eurasian.Beaver Biber            Eurasian.Beaver  Castor_fiber   \n",
       "X101.Horse         Hauspferd        Horse            Equus_caballus \n",
       "X102.Kulan         Khulan           Kulan            Equus_hemionus \n",
       "                   scientific_name_subspecies host_taxid class    ⋯\n",
       "X1.Eurasian.Beaver NA                         10185      Mammalia ⋯\n",
       "X101.Horse         NA                         9796       Mammalia ⋯\n",
       "X102.Kulan         Equus hemionus kulan       73334      Mammalia ⋯\n",
       "                   Cornell_Illumina Cornell_Dilution_DNA_Illumina Num_Illumina\n",
       "X1.Eurasian.Beaver yes              4                             120         \n",
       "X101.Horse         yes              16                            344         \n",
       "X102.Kulan         yes              16                            345         \n",
       "                   Num sorting_454 comments_additional DNA_box_20180622\n",
       "X1.Eurasian.Beaver 18  18          NA                  1               \n",
       "X101.Horse         160 160         NA                  2               \n",
       "X102.Kulan         161 161         NA                  2               \n",
       "                   sample_vol_20180622 sample_label_20180622 Description\n",
       "X1.Eurasian.Beaver 20                  1                     NA         \n",
       "X101.Horse         20                  101                   NA         \n",
       "X102.Kulan         20                  102                   NA         "
      ]
     },
     "metadata": {},
     "output_type": "display_data"
    }
   ],
   "source": [
    "metadata = metadata[colnames(otu),]\n",
    "metadata %>% status"
   ]
  },
  {
   "cell_type": "code",
   "execution_count": 10,
   "metadata": {
    "ExecuteTime": {
     "end_time": "2018-07-07T07:23:15.831210Z",
     "start_time": "2018-07-07T07:22:56.330Z"
    }
   },
   "outputs": [
    {
     "name": "stdout",
     "output_type": "stream",
     "text": [
      "[1] 213   8\n"
     ]
    },
    {
     "data": {
      "text/html": [
       "<table>\n",
       "<thead><tr><th></th><th scope=col>diet_vertebrate</th><th scope=col>diet_invertebrate</th><th scope=col>diet_fruit</th><th scope=col>diet_flowers_nectar_pollen</th><th scope=col>diet_leaves_branches_bark_buds</th><th scope=col>diet_seeds</th><th scope=col>diet_grass_waterplants</th><th scope=col>diet_roots_tubers</th></tr></thead>\n",
       "<tbody>\n",
       "\t<tr><th scope=row>X1.Eurasian.Beaver</th><td>0</td><td>0</td><td>0</td><td>0</td><td>1</td><td>0</td><td>1</td><td>1</td></tr>\n",
       "\t<tr><th scope=row>X101.Horse</th><td>0</td><td>0</td><td>0</td><td>0</td><td>0</td><td>1</td><td>1</td><td>0</td></tr>\n",
       "\t<tr><th scope=row>X102.Kulan</th><td>0</td><td>0</td><td>0</td><td>0</td><td>1</td><td>0</td><td>1</td><td>0</td></tr>\n",
       "</tbody>\n",
       "</table>\n"
      ],
      "text/latex": [
       "\\begin{tabular}{r|llllllll}\n",
       "  & diet\\_vertebrate & diet\\_invertebrate & diet\\_fruit & diet\\_flowers\\_nectar\\_pollen & diet\\_leaves\\_branches\\_bark\\_buds & diet\\_seeds & diet\\_grass\\_waterplants & diet\\_roots\\_tubers\\\\\n",
       "\\hline\n",
       "\tX1.Eurasian.Beaver & 0 & 0 & 0 & 0 & 1 & 0 & 1 & 1\\\\\n",
       "\tX101.Horse & 0 & 0 & 0 & 0 & 0 & 1 & 1 & 0\\\\\n",
       "\tX102.Kulan & 0 & 0 & 0 & 0 & 1 & 0 & 1 & 0\\\\\n",
       "\\end{tabular}\n"
      ],
      "text/markdown": [
       "\n",
       "| <!--/--> | diet_vertebrate | diet_invertebrate | diet_fruit | diet_flowers_nectar_pollen | diet_leaves_branches_bark_buds | diet_seeds | diet_grass_waterplants | diet_roots_tubers | \n",
       "|---|---|---|\n",
       "| X1.Eurasian.Beaver | 0 | 0 | 0 | 0 | 1 | 0 | 1 | 1 | \n",
       "| X101.Horse | 0 | 0 | 0 | 0 | 0 | 1 | 1 | 0 | \n",
       "| X102.Kulan | 0 | 0 | 0 | 0 | 1 | 0 | 1 | 0 | \n",
       "\n",
       "\n"
      ],
      "text/plain": [
       "                   diet_vertebrate diet_invertebrate diet_fruit\n",
       "X1.Eurasian.Beaver 0               0                 0         \n",
       "X101.Horse         0               0                 0         \n",
       "X102.Kulan         0               0                 0         \n",
       "                   diet_flowers_nectar_pollen diet_leaves_branches_bark_buds\n",
       "X1.Eurasian.Beaver 0                          1                             \n",
       "X101.Horse         0                          0                             \n",
       "X102.Kulan         0                          1                             \n",
       "                   diet_seeds diet_grass_waterplants diet_roots_tubers\n",
       "X1.Eurasian.Beaver 0          1                      1                \n",
       "X101.Horse         1          1                      0                \n",
       "X102.Kulan         0          1                      0                "
      ]
     },
     "metadata": {},
     "output_type": "display_data"
    }
   ],
   "source": [
    "to_binary = function(x){\n",
    "    x = gsub(' .+', '', x)\n",
    "    stopifnot(x %in% c('yes', 'no'))\n",
    "    ifelse(x=='yes', 1, 0)\n",
    "}\n",
    "\n",
    "# variables to binary\n",
    "diet_detail = metadata %>%\n",
    "    dplyr::select(X.SampleID,diet_vertebrate,diet_invertebrate,\n",
    "                  diet_fruit,diet_flowers_nectar_pollen,\n",
    "                  diet_leaves_branches_bark_buds,diet_seeds,\n",
    "                  diet_grass_waterplants,diet_roots_tubers) %>%\n",
    "    mutate(\n",
    "        diet_vertebrate = to_binary(diet_vertebrate),\n",
    "        diet_invertebrate = to_binary(diet_invertebrate),\n",
    "        diet_fruit = to_binary(diet_fruit),\n",
    "        diet_flowers_nectar_pollen = to_binary(diet_flowers_nectar_pollen),\n",
    "        diet_leaves_branches_bark_buds = to_binary(diet_leaves_branches_bark_buds),\n",
    "        diet_seeds = to_binary(diet_seeds),\n",
    "        diet_grass_waterplants = to_binary(diet_grass_waterplants),\n",
    "        diet_roots_tubers = to_binary(diet_roots_tubers)\n",
    "    ) \n",
    "\n",
    "# formatting\n",
    "rownames(diet_detail) = diet_detail$X.SampleID\n",
    "diet_detail$X.SampleID = NULL\n",
    "diet_detail = diet_detail[colnames(otu),]\n",
    "\n",
    "# status\n",
    "diet_detail %>% status"
   ]
  },
  {
   "cell_type": "code",
   "execution_count": 11,
   "metadata": {
    "ExecuteTime": {
     "end_time": "2018-07-07T07:23:17.716815Z",
     "start_time": "2018-07-07T07:22:56.747Z"
    }
   },
   "outputs": [
    {
     "data": {
      "text/html": [
       "<ol class=list-inline>\n",
       "\t<li>408</li>\n",
       "\t<li>213</li>\n",
       "</ol>\n"
      ],
      "text/latex": [
       "\\begin{enumerate*}\n",
       "\\item 408\n",
       "\\item 213\n",
       "\\end{enumerate*}\n"
      ],
      "text/markdown": [
       "1. 408\n",
       "2. 213\n",
       "\n",
       "\n"
      ],
      "text/plain": [
       "[1] 408 213"
      ]
     },
     "metadata": {},
     "output_type": "display_data"
    }
   ],
   "source": [
    "regress_out = function(X, covariates){\n",
    "    if(class(covariates) != 'data.frame'){\n",
    "        covariates = as.data.frame(covariates)\n",
    "    } \n",
    "    if(ncol(covariates) == 1){\n",
    "        cols = c('X', 'Y')\n",
    "        f = as.formula('X ~ Y')\n",
    "    } else {\n",
    "        cols = c('X', colnames(covariates))\n",
    "        f = c('X ~', paste(colnames(covariates), collapse=' + '))\n",
    "        f = as.formula(paste(f, collapse=' '))\n",
    "    }\n",
    "    df = cbind(as.data.frame(X), covariates)\n",
    "    colnames(df) = cols\n",
    "    lm(f, data=df)$residuals\n",
    "}\n",
    "\n",
    "\n",
    "otu_res = apply(otu, 1, regress_out, covariates=diet_detail) %>%\n",
    "    t %>% scale %>% as.data.frame\n",
    "otu_res %>% dim"
   ]
  },
  {
   "cell_type": "code",
   "execution_count": 12,
   "metadata": {
    "ExecuteTime": {
     "end_time": "2018-07-07T07:23:18.371164Z",
     "start_time": "2018-07-07T07:22:57.115Z"
    }
   },
   "outputs": [
    {
     "data": {
      "image/png": "[encoded data removed]",
      "text/plain": [
       "plot without title"
      ]
     },
     "metadata": {},
     "output_type": "display_data"
    }
   ],
   "source": [
    "# checking scaled residuals\n",
    "options(repr.plot.height=4)\n",
    "boxplot(otu_res[,1:20])"
   ]
  },
  {
   "cell_type": "code",
   "execution_count": 13,
   "metadata": {
    "ExecuteTime": {
     "end_time": "2018-07-07T07:23:18.428383Z",
     "start_time": "2018-07-07T07:22:58.187Z"
    }
   },
   "outputs": [
    {
     "name": "stdout",
     "output_type": "stream",
     "text": [
      "    Min.  1st Qu.   Median     Mean  3rd Qu.     Max. \n",
      "-435.163    8.380    9.749    0.000   10.116   14.249 \n",
      "      Min.    1st Qu.     Median       Mean    3rd Qu.       Max. \n",
      "-7.480e-15 -1.326e-15  1.115e-16  2.233e-16  1.877e-15  8.531e-15 \n"
     ]
    }
   ],
   "source": [
    "otu_res %>% rowSums %>% summary %>% print\n",
    "otu_res %>% colSums %>% summary %>% print"
   ]
  },
  {
   "cell_type": "markdown",
   "metadata": {},
   "source": [
    "## Writing out OTU table"
   ]
  },
  {
   "cell_type": "code",
   "execution_count": 14,
   "metadata": {
    "ExecuteTime": {
     "end_time": "2018-07-07T07:23:18.569905Z",
     "start_time": "2018-07-07T07:22:58.691Z"
    }
   },
   "outputs": [
    {
     "name": "stdout",
     "output_type": "stream",
     "text": [
      "File written: /ebio/abt3_projects/Georg_animal_feces/data/host_specific/phylosignal/host_TT/taxon_abund//physeq_IndD_OTU-diet-resid.RDS \n"
     ]
    }
   ],
   "source": [
    "resid_otu_file = file.path(work_dir, 'physeq_IndD_OTU-diet-resid.RDS')\n",
    "saveRDS(otu_res, file=resid_otu_file)\n",
    "cat('File written:', resid_otu_file, '\\n')"
   ]
  },
  {
   "cell_type": "markdown",
   "metadata": {},
   "source": [
    "# OTUs as binomial"
   ]
  },
  {
   "cell_type": "code",
   "execution_count": 15,
   "metadata": {
    "ExecuteTime": {
     "end_time": "2018-07-07T07:23:18.851647Z",
     "start_time": "2018-07-07T07:22:59.955Z"
    }
   },
   "outputs": [
    {
     "name": "stdout",
     "output_type": "stream",
     "text": [
      ".\n",
      "    0     1 \n",
      "80827  6077 \n",
      "[1] 408 213\n"
     ]
    },
    {
     "data": {
      "text/html": [
       "<table>\n",
       "<thead><tr><th></th><th scope=col>X1.Eurasian.Beaver</th><th scope=col>X101.Horse</th><th scope=col>X102.Kulan</th><th scope=col>X109.Red.Fox</th><th scope=col>X110.Noctule</th><th scope=col>X111.West.European.Hedgehog</th><th scope=col>X116.Common.Kestrel</th><th scope=col>X122.Wild.Boar</th><th scope=col>X123.Alpine.Chamois</th><th scope=col>X124.Golden.Jackal</th><th scope=col>⋯</th><th scope=col>F45.Red.Deer</th><th scope=col>F47.Red.Deer</th><th scope=col>F48.Red.Deer</th><th scope=col>F53.Mouflon</th><th scope=col>F66.Wild.Boar</th><th scope=col>F68.Red.Deer</th><th scope=col>F69.Red.Deer</th><th scope=col>F70.Red.Deer</th><th scope=col>F80.Red.Deer</th><th scope=col>F90.Domestic.Dog</th></tr></thead>\n",
       "<tbody>\n",
       "\t<tr><th scope=row>368bd5c2255f3a5ce0fef06ca6de1d04</th><td>0</td><td>0</td><td>0</td><td>0</td><td>0</td><td>0</td><td>0</td><td>1</td><td>1</td><td>0</td><td>⋯</td><td>0</td><td>0</td><td>0</td><td>0</td><td>0</td><td>0</td><td>0</td><td>0</td><td>0</td><td>0</td></tr>\n",
       "\t<tr><th scope=row>779324e5648460c5a67e577c45131b42</th><td>0</td><td>0</td><td>0</td><td>0</td><td>0</td><td>0</td><td>0</td><td>0</td><td>1</td><td>0</td><td>⋯</td><td>0</td><td>0</td><td>0</td><td>0</td><td>0</td><td>0</td><td>0</td><td>0</td><td>0</td><td>0</td></tr>\n",
       "\t<tr><th scope=row>b918d185ee89a0b33d821ee766d76eb3</th><td>0</td><td>0</td><td>0</td><td>0</td><td>0</td><td>0</td><td>0</td><td>0</td><td>0</td><td>0</td><td>⋯</td><td>1</td><td>1</td><td>1</td><td>1</td><td>0</td><td>1</td><td>1</td><td>1</td><td>1</td><td>0</td></tr>\n",
       "</tbody>\n",
       "</table>\n"
      ],
      "text/latex": [
       "\\begin{tabular}{r|lllllllllllllllllllllllllllllllllllllllllllllllllllllllllllllllllllllllllllllllllllllllllllllllllllllllllllllllllllllllllllllllllllllllllllllllllllllllllllllllllllllllllllllllllllllllllllllllllllllllllllllllllllll}\n",
       "  & X1.Eurasian.Beaver & X101.Horse & X102.Kulan & X109.Red.Fox & X110.Noctule & X111.West.European.Hedgehog & X116.Common.Kestrel & X122.Wild.Boar & X123.Alpine.Chamois & X124.Golden.Jackal & ⋯ & F45.Red.Deer & F47.Red.Deer & F48.Red.Deer & F53.Mouflon & F66.Wild.Boar & F68.Red.Deer & F69.Red.Deer & F70.Red.Deer & F80.Red.Deer & F90.Domestic.Dog\\\\\n",
       "\\hline\n",
       "\t368bd5c2255f3a5ce0fef06ca6de1d04 & 0 & 0 & 0 & 0 & 0 & 0 & 0 & 1 & 1 & 0 & ⋯ & 0 & 0 & 0 & 0 & 0 & 0 & 0 & 0 & 0 & 0\\\\\n",
       "\t779324e5648460c5a67e577c45131b42 & 0 & 0 & 0 & 0 & 0 & 0 & 0 & 0 & 1 & 0 & ⋯ & 0 & 0 & 0 & 0 & 0 & 0 & 0 & 0 & 0 & 0\\\\\n",
       "\tb918d185ee89a0b33d821ee766d76eb3 & 0 & 0 & 0 & 0 & 0 & 0 & 0 & 0 & 0 & 0 & ⋯ & 1 & 1 & 1 & 1 & 0 & 1 & 1 & 1 & 1 & 0\\\\\n",
       "\\end{tabular}\n"
      ],
      "text/markdown": [
       "\n",
       "| <!--/--> | X1.Eurasian.Beaver | X101.Horse | X102.Kulan | X109.Red.Fox | X110.Noctule | X111.West.European.Hedgehog | X116.Common.Kestrel | X122.Wild.Boar | X123.Alpine.Chamois | X124.Golden.Jackal | ⋯ | F45.Red.Deer | F47.Red.Deer | F48.Red.Deer | F53.Mouflon | F66.Wild.Boar | F68.Red.Deer | F69.Red.Deer | F70.Red.Deer | F80.Red.Deer | F90.Domestic.Dog | \n",
       "|---|---|---|\n",
       "| 368bd5c2255f3a5ce0fef06ca6de1d04 | 0 | 0 | 0 | 0 | 0 | 0 | 0 | 1 | 1 | 0 | ⋯ | 0 | 0 | 0 | 0 | 0 | 0 | 0 | 0 | 0 | 0 | \n",
       "| 779324e5648460c5a67e577c45131b42 | 0 | 0 | 0 | 0 | 0 | 0 | 0 | 0 | 1 | 0 | ⋯ | 0 | 0 | 0 | 0 | 0 | 0 | 0 | 0 | 0 | 0 | \n",
       "| b918d185ee89a0b33d821ee766d76eb3 | 0 | 0 | 0 | 0 | 0 | 0 | 0 | 0 | 0 | 0 | ⋯ | 1 | 1 | 1 | 1 | 0 | 1 | 1 | 1 | 1 | 0 | \n",
       "\n",
       "\n"
      ],
      "text/plain": [
       "                                 X1.Eurasian.Beaver X101.Horse X102.Kulan\n",
       "368bd5c2255f3a5ce0fef06ca6de1d04 0                  0          0         \n",
       "779324e5648460c5a67e577c45131b42 0                  0          0         \n",
       "b918d185ee89a0b33d821ee766d76eb3 0                  0          0         \n",
       "                                 X109.Red.Fox X110.Noctule\n",
       "368bd5c2255f3a5ce0fef06ca6de1d04 0            0           \n",
       "779324e5648460c5a67e577c45131b42 0            0           \n",
       "b918d185ee89a0b33d821ee766d76eb3 0            0           \n",
       "                                 X111.West.European.Hedgehog\n",
       "368bd5c2255f3a5ce0fef06ca6de1d04 0                          \n",
       "779324e5648460c5a67e577c45131b42 0                          \n",
       "b918d185ee89a0b33d821ee766d76eb3 0                          \n",
       "                                 X116.Common.Kestrel X122.Wild.Boar\n",
       "368bd5c2255f3a5ce0fef06ca6de1d04 0                   1             \n",
       "779324e5648460c5a67e577c45131b42 0                   0             \n",
       "b918d185ee89a0b33d821ee766d76eb3 0                   0             \n",
       "                                 X123.Alpine.Chamois X124.Golden.Jackal ⋯\n",
       "368bd5c2255f3a5ce0fef06ca6de1d04 1                   0                  ⋯\n",
       "779324e5648460c5a67e577c45131b42 1                   0                  ⋯\n",
       "b918d185ee89a0b33d821ee766d76eb3 0                   0                  ⋯\n",
       "                                 F45.Red.Deer F47.Red.Deer F48.Red.Deer\n",
       "368bd5c2255f3a5ce0fef06ca6de1d04 0            0            0           \n",
       "779324e5648460c5a67e577c45131b42 0            0            0           \n",
       "b918d185ee89a0b33d821ee766d76eb3 1            1            1           \n",
       "                                 F53.Mouflon F66.Wild.Boar F68.Red.Deer\n",
       "368bd5c2255f3a5ce0fef06ca6de1d04 0           0             0           \n",
       "779324e5648460c5a67e577c45131b42 0           0             0           \n",
       "b918d185ee89a0b33d821ee766d76eb3 1           0             1           \n",
       "                                 F69.Red.Deer F70.Red.Deer F80.Red.Deer\n",
       "368bd5c2255f3a5ce0fef06ca6de1d04 0            0            0           \n",
       "779324e5648460c5a67e577c45131b42 0            0            0           \n",
       "b918d185ee89a0b33d821ee766d76eb3 1            1            1           \n",
       "                                 F90.Domestic.Dog\n",
       "368bd5c2255f3a5ce0fef06ca6de1d04 0               \n",
       "779324e5648460c5a67e577c45131b42 0               \n",
       "b918d185ee89a0b33d821ee766d76eb3 0               "
      ]
     },
     "metadata": {},
     "output_type": "display_data"
    }
   ],
   "source": [
    "otu_binom = otu %>%\n",
    "    apply(2, function(x) ifelse(x > 0, 1, 0)) %>%\n",
    "    as.data.frame \n",
    "          \n",
    "otu_binom %>% as.matrix %>% as.vector %>% table %>% print\n",
    "          \n",
    "otu_binom %>% status"
   ]
  },
  {
   "cell_type": "code",
   "execution_count": 16,
   "metadata": {
    "ExecuteTime": {
     "end_time": "2018-07-07T07:23:20.739079Z",
     "start_time": "2018-07-07T07:23:00.091Z"
    }
   },
   "outputs": [
    {
     "data": {
      "text/html": [
       "<ol class=list-inline>\n",
       "\t<li>408</li>\n",
       "\t<li>213</li>\n",
       "</ol>\n"
      ],
      "text/latex": [
       "\\begin{enumerate*}\n",
       "\\item 408\n",
       "\\item 213\n",
       "\\end{enumerate*}\n"
      ],
      "text/markdown": [
       "1. 408\n",
       "2. 213\n",
       "\n",
       "\n"
      ],
      "text/plain": [
       "[1] 408 213"
      ]
     },
     "metadata": {},
     "output_type": "display_data"
    }
   ],
   "source": [
    "regress_out_binom = function(X, covariates){\n",
    "    if(class(covariates) != 'data.frame'){\n",
    "        covariates = as.data.frame(covariates)\n",
    "    } \n",
    "    if(ncol(covariates) == 1){\n",
    "        cols = c('X', 'Y')\n",
    "        f = as.formula('X ~ Y')\n",
    "    } else {\n",
    "        cols = c('X', colnames(covariates))\n",
    "        f = c('X ~', paste(colnames(covariates), collapse=' + '))\n",
    "        f = as.formula(paste(f, collapse=' '))\n",
    "    }\n",
    "    df = cbind(as.data.frame(X), covariates)\n",
    "    colnames(df) = cols\n",
    "    glm(f, data=df, family='binomial')$residuals\n",
    "}\n",
    "\n",
    "\n",
    "otu_res = apply(otu_binom, 1, regress_out, covariates=diet_detail) %>%\n",
    "    t %>% scale %>% as.data.frame\n",
    "otu_res %>% dim"
   ]
  },
  {
   "cell_type": "code",
   "execution_count": 17,
   "metadata": {
    "ExecuteTime": {
     "end_time": "2018-07-07T07:23:21.109910Z",
     "start_time": "2018-07-07T07:23:01.146Z"
    }
   },
   "outputs": [
    {
     "data": {
      "image/png": "[encoded data removed]",
      "text/plain": [
       "plot without title"
      ]
     },
     "metadata": {},
     "output_type": "display_data"
    }
   ],
   "source": [
    "# checking scaled residuals\n",
    "options(repr.plot.height=4)\n",
    "boxplot(otu_res[,1:20])"
   ]
  },
  {
   "cell_type": "code",
   "execution_count": 18,
   "metadata": {
    "ExecuteTime": {
     "end_time": "2018-07-07T07:23:21.160135Z",
     "start_time": "2018-07-07T07:23:01.290Z"
    }
   },
   "outputs": [
    {
     "name": "stdout",
     "output_type": "stream",
     "text": [
      "    Min.  1st Qu.   Median     Mean  3rd Qu.     Max. \n",
      "-30.0407  -5.8560  -0.8778   0.0000   3.3266  69.7654 \n",
      "      Min.    1st Qu.     Median       Mean    3rd Qu.       Max. \n",
      "-4.767e-14 -4.514e-15  1.466e-16 -2.530e-16  4.385e-15  2.377e-14 \n"
     ]
    }
   ],
   "source": [
    "otu_res %>% rowSums %>% summary %>% print\n",
    "otu_res %>% colSums %>% summary %>% print"
   ]
  },
  {
   "cell_type": "markdown",
   "metadata": {},
   "source": [
    "## Writing out OTU table"
   ]
  },
  {
   "cell_type": "code",
   "execution_count": 19,
   "metadata": {
    "ExecuteTime": {
     "end_time": "2018-07-07T07:23:21.292200Z",
     "start_time": "2018-07-07T07:23:02.178Z"
    }
   },
   "outputs": [
    {
     "name": "stdout",
     "output_type": "stream",
     "text": [
      "File written: /ebio/abt3_projects/Georg_animal_feces/data/host_specific/phylosignal/host_TT/taxon_abund//physeq_IndD-binom_OTU-diet-resid.RDS \n"
     ]
    }
   ],
   "source": [
    "resid_otu_file = file.path(work_dir, 'physeq_IndD-binom_OTU-diet-resid.RDS')\n",
    "saveRDS(otu_res, file=resid_otu_file)\n",
    "cat('File written:', resid_otu_file, '\\n')"
   ]
  },
  {
   "cell_type": "markdown",
   "metadata": {
    "ExecuteTime": {
     "end_time": "2018-02-23T14:15:59.372030Z",
     "start_time": "2018-02-23T14:15:21.161Z"
    }
   },
   "source": [
    "# sessionInfo"
   ]
  },
  {
   "cell_type": "code",
   "execution_count": 20,
   "metadata": {
    "ExecuteTime": {
     "end_time": "2018-07-07T07:23:21.699508Z",
     "start_time": "2018-07-07T07:23:02.938Z"
    }
   },
   "outputs": [
    {
     "data": {
      "text/plain": [
       "R version 3.4.1 (2017-06-30)\n",
       "Platform: x86_64-pc-linux-gnu (64-bit)\n",
       "Running under: Ubuntu 16.04.4 LTS\n",
       "\n",
       "Matrix products: default\n",
       "BLAS: /ebio/abt3_projects/software/miniconda3/envs/py3_physeq/lib/R/lib/libRblas.so\n",
       "LAPACK: /ebio/abt3_projects/software/miniconda3/envs/py3_physeq/lib/R/lib/libRlapack.so\n",
       "\n",
       "locale:\n",
       " [1] LC_CTYPE=en_US.UTF-8       LC_NUMERIC=C              \n",
       " [3] LC_TIME=en_US.UTF-8        LC_COLLATE=en_US.UTF-8    \n",
       " [5] LC_MONETARY=en_US.UTF-8    LC_MESSAGES=en_US.UTF-8   \n",
       " [7] LC_PAPER=en_US.UTF-8       LC_NAME=C                 \n",
       " [9] LC_ADDRESS=C               LC_TELEPHONE=C            \n",
       "[11] LC_MEASUREMENT=en_US.UTF-8 LC_IDENTIFICATION=C       \n",
       "\n",
       "attached base packages:\n",
       "[1] stats     graphics  grDevices utils     datasets  methods   base     \n",
       "\n",
       "other attached packages:\n",
       "[1] bindrcpp_0.2    phyloseq_1.22.3 ape_5.1         ggplot2_2.2.1  \n",
       "[5] tidyr_0.8.1     dplyr_0.7.4    \n",
       "\n",
       "loaded via a namespace (and not attached):\n",
       " [1] pbdZMQ_0.3-1        repr_0.12.0         purrr_0.2.4        \n",
       " [4] reshape2_1.4.3      splines_3.4.1       lattice_0.20-35    \n",
       " [7] rhdf5_2.22.0        colorspace_1.3-2    stats4_3.4.1       \n",
       "[10] mgcv_1.8-17         survival_2.40-1     rlang_0.2.0        \n",
       "[13] pillar_1.2.2        glue_1.2.0          BiocGenerics_0.24.0\n",
       "[16] uuid_0.1-2          foreach_1.4.4       bindr_0.1.1        \n",
       "[19] plyr_1.8.4          stringr_1.2.0       zlibbioc_1.24.0    \n",
       "[22] Biostrings_2.46.0   munsell_0.5.0       gtable_0.2.0       \n",
       "[25] codetools_0.2-15    evaluate_0.10.1     Biobase_2.38.0     \n",
       "[28] permute_0.9-4       IRanges_2.12.0      biomformat_1.6.0   \n",
       "[31] parallel_3.4.1      IRdisplay_0.4.4     Rcpp_0.12.14       \n",
       "[34] scales_0.5.0        IRkernel_0.8.11     vegan_2.4-3        \n",
       "[37] S4Vectors_0.16.0    jsonlite_1.5        XVector_0.18.0     \n",
       "[40] digest_0.6.13       stringi_1.1.6       grid_3.4.1         \n",
       "[43] ade4_1.7-10         tools_3.4.1         magrittr_1.5       \n",
       "[46] lazyeval_0.2.1      tibble_1.4.2        cluster_2.0.6      \n",
       "[49] crayon_1.3.4        pkgconfig_2.0.1     MASS_7.3-48        \n",
       "[52] Matrix_1.2-14       data.table_1.11.4   assertthat_0.2.0   \n",
       "[55] iterators_1.0.9     R6_2.2.2            multtest_2.34.0    \n",
       "[58] igraph_1.2.1        nlme_3.1-137        compiler_3.4.1     "
      ]
     },
     "metadata": {},
     "output_type": "display_data"
    }
   ],
   "source": [
    "sessionInfo()"
   ]
  },
  {
   "cell_type": "code",
   "execution_count": null,
   "metadata": {},
   "outputs": [],
   "source": []
  }
 ],
 "metadata": {
  "kernelspec": {
   "display_name": "R [conda env:py3_physeq]",
   "language": "R",
   "name": "conda-env-py3_physeq-r"
  },
  "language_info": {
   "codemirror_mode": "r",
   "file_extension": ".r",
   "mimetype": "text/x-r-source",
   "name": "R",
   "pygments_lexer": "r",
   "version": "3.4.1"
  },
  "notify_time": "30",
  "toc": {
   "nav_menu": {},
   "number_sections": true,
   "sideBar": true,
   "skip_h1_title": false,
   "toc_cell": false,
   "toc_position": {},
   "toc_section_display": "block",
   "toc_window_display": true
  }
 },
 "nbformat": 4,
 "nbformat_minor": 2
}
