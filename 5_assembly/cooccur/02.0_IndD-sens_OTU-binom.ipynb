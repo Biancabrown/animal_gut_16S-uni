{
 "cells": [
  {
   "cell_type": "markdown",
   "metadata": {
    "toc": true
   },
   "source": [
    "<h1>Table of Contents<span class=\"tocSkip\"></span></h1>\n",
    "<div class=\"toc\"><ul class=\"toc-item\"><li><span><a href=\"#Goal\" data-toc-modified-id=\"Goal-1\"><span class=\"toc-item-num\">1&nbsp;&nbsp;</span>Goal</a></span></li><li><span><a href=\"#Var\" data-toc-modified-id=\"Var-2\"><span class=\"toc-item-num\">2&nbsp;&nbsp;</span>Var</a></span></li><li><span><a href=\"#Init\" data-toc-modified-id=\"Init-3\"><span class=\"toc-item-num\">3&nbsp;&nbsp;</span>Init</a></span></li><li><span><a href=\"#Load\" data-toc-modified-id=\"Load-4\"><span class=\"toc-item-num\">4&nbsp;&nbsp;</span>Load</a></span></li><li><span><a href=\"#Format\" data-toc-modified-id=\"Format-5\"><span class=\"toc-item-num\">5&nbsp;&nbsp;</span>Format</a></span></li><li><span><a href=\"#Dataset-subsampling\" data-toc-modified-id=\"Dataset-subsampling-6\"><span class=\"toc-item-num\">6&nbsp;&nbsp;</span>Dataset subsampling</a></span></li><li><span><a href=\"#cooccur()\" data-toc-modified-id=\"cooccur()-7\"><span class=\"toc-item-num\">7&nbsp;&nbsp;</span><code>cooccur()</code></a></span><ul class=\"toc-item\"><li><span><a href=\"#Saving-results\" data-toc-modified-id=\"Saving-results-7.1\"><span class=\"toc-item-num\">7.1&nbsp;&nbsp;</span>Saving results</a></span></li><li><span><a href=\"#Variance-among-dataset-subsets\" data-toc-modified-id=\"Variance-among-dataset-subsets-7.2\"><span class=\"toc-item-num\">7.2&nbsp;&nbsp;</span>Variance among dataset subsets</a></span></li></ul></li><li><span><a href=\"#Summarizing-results\" data-toc-modified-id=\"Summarizing-results-8\"><span class=\"toc-item-num\">8&nbsp;&nbsp;</span>Summarizing results</a></span><ul class=\"toc-item\"><li><span><a href=\"#Formatting\" data-toc-modified-id=\"Formatting-8.1\"><span class=\"toc-item-num\">8.1&nbsp;&nbsp;</span>Formatting</a></span><ul class=\"toc-item\"><li><span><a href=\"#effect-sizes\" data-toc-modified-id=\"effect-sizes-8.1.1\"><span class=\"toc-item-num\">8.1.1&nbsp;&nbsp;</span>effect sizes</a></span><ul class=\"toc-item\"><li><span><a href=\"#Saving-results\" data-toc-modified-id=\"Saving-results-8.1.1.1\"><span class=\"toc-item-num\">8.1.1.1&nbsp;&nbsp;</span>Saving results</a></span></li><li><span><a href=\"#Formatting\" data-toc-modified-id=\"Formatting-8.1.1.2\"><span class=\"toc-item-num\">8.1.1.2&nbsp;&nbsp;</span>Formatting</a></span></li></ul></li><li><span><a href=\"#Probability-table\" data-toc-modified-id=\"Probability-table-8.1.2\"><span class=\"toc-item-num\">8.1.2&nbsp;&nbsp;</span>Probability table</a></span></li><li><span><a href=\"#Determining-significance\" data-toc-modified-id=\"Determining-significance-8.1.3\"><span class=\"toc-item-num\">8.1.3&nbsp;&nbsp;</span>Determining significance</a></span></li><li><span><a href=\"#Taxonomy\" data-toc-modified-id=\"Taxonomy-8.1.4\"><span class=\"toc-item-num\">8.1.4&nbsp;&nbsp;</span>Taxonomy</a></span></li></ul></li><li><span><a href=\"#Plotting\" data-toc-modified-id=\"Plotting-8.2\"><span class=\"toc-item-num\">8.2&nbsp;&nbsp;</span>Plotting</a></span><ul class=\"toc-item\"><li><span><a href=\"#Normalizing-by-number-of-nodes\" data-toc-modified-id=\"Normalizing-by-number-of-nodes-8.2.1\"><span class=\"toc-item-num\">8.2.1&nbsp;&nbsp;</span>Normalizing by number of nodes</a></span></li><li><span><a href=\"#Combined-table\" data-toc-modified-id=\"Combined-table-8.2.2\"><span class=\"toc-item-num\">8.2.2&nbsp;&nbsp;</span>Combined table</a></span></li></ul></li><li><span><a href=\"#Saving-network\" data-toc-modified-id=\"Saving-network-8.3\"><span class=\"toc-item-num\">8.3&nbsp;&nbsp;</span>Saving network</a></span></li></ul></li><li><span><a href=\"#sessionInfo\" data-toc-modified-id=\"sessionInfo-9\"><span class=\"toc-item-num\">9&nbsp;&nbsp;</span>sessionInfo</a></span></li></ul></div>"
   ]
  },
  {
   "cell_type": "markdown",
   "metadata": {},
   "source": [
    "# Goal\n",
    "\n",
    "* Run `cooccur()` analysis on bacteria (from uni-primers) & archaea (from arch-primers)\n",
    "  * binomial (pres/abs) abundances\n",
    "  * intra-species variation sensitivity analysis (1 sampler per species)"
   ]
  },
  {
   "cell_type": "markdown",
   "metadata": {},
   "source": [
    "# Var"
   ]
  },
  {
   "cell_type": "code",
   "execution_count": 17,
   "metadata": {
    "ExecuteTime": {
     "end_time": "2018-08-09T08:00:56.975417Z",
     "start_time": "2018-08-09T08:01:10.718Z"
    }
   },
   "outputs": [],
   "source": [
    "work_dir = '/ebio/abt3_projects/Georg_animal_feces/data/assembly/cooccur/'\n",
    "\n",
    "# phyloseq\n",
    "physeq_file = '/ebio/abt3_projects/Georg_animal_feces/data/16S/LLA/phyloseq/physeq_r5k.RDS'\n",
    "\n",
    "# params\n",
    "sparsity_cutoff = 0.05\n",
    "qval_cutoff = 0.05\n",
    "threads = 12"
   ]
  },
  {
   "cell_type": "markdown",
   "metadata": {},
   "source": [
    "# Init"
   ]
  },
  {
   "cell_type": "code",
   "execution_count": 26,
   "metadata": {
    "ExecuteTime": {
     "end_time": "2018-08-09T08:06:13.323848Z",
     "start_time": "2018-08-09T08:06:27.023Z"
    }
   },
   "outputs": [],
   "source": [
    "library(dplyr)\n",
    "library(tidyr)\n",
    "library(ggplot2)\n",
    "library(phyloseq)\n",
    "library(networkD3)\n",
    "library(cooccur)\n",
    "library(future.batchtools)\n",
    "library(future.apply)\n",
    "source('/ebio/abt3_projects/Georg_animal_feces/code/init.R') "
   ]
  },
  {
   "cell_type": "code",
   "execution_count": 7,
   "metadata": {
    "ExecuteTime": {
     "end_time": "2018-08-09T07:58:45.136071Z",
     "start_time": "2018-08-09T07:58:58.886Z"
    }
   },
   "outputs": [],
   "source": [
    "# slower wait interval\n",
    "options(future.wait.interval = 2.0)"
   ]
  },
  {
   "cell_type": "code",
   "execution_count": 8,
   "metadata": {
    "ExecuteTime": {
     "end_time": "2018-08-09T07:58:45.245914Z",
     "start_time": "2018-08-09T07:58:58.993Z"
    }
   },
   "outputs": [
    {
     "name": "stdout",
     "output_type": "stream",
     "text": [
      "Directory already exists: /ebio/abt3_projects/Georg_animal_feces/data/assembly/cooccur/ \n"
     ]
    }
   ],
   "source": [
    "make_dir(work_dir)"
   ]
  },
  {
   "cell_type": "markdown",
   "metadata": {},
   "source": [
    "# Load"
   ]
  },
  {
   "cell_type": "code",
   "execution_count": 9,
   "metadata": {
    "ExecuteTime": {
     "end_time": "2018-08-09T07:59:10.304780Z",
     "start_time": "2018-08-09T07:59:17.982Z"
    }
   },
   "outputs": [
    {
     "data": {
      "text/plain": [
       "phyloseq-class experiment-level object\n",
       "otu_table()   OTU Table:         [ 408 taxa and 213 samples ]\n",
       "sample_data() Sample Data:       [ 213 samples by 171 sample variables ]\n",
       "tax_table()   Taxonomy Table:    [ 408 taxa by 7 taxonomic ranks ]\n",
       "phy_tree()    Phylogenetic Tree: [ 408 tips and 406 internal nodes ]"
      ]
     },
     "metadata": {},
     "output_type": "display_data"
    }
   ],
   "source": [
    "# phyloseq object (binomial)\n",
    "physeq = readRDS(physeq_file) %>%\n",
    "    filter_taxa(function(x) sum(x > 0) / length(x) > sparsity_cutoff, TRUE) %>%\n",
    "    transform_sample_counts(function(x) ifelse(x > 0, 1, 0)) \n",
    "    \n",
    "physeq"
   ]
  },
  {
   "cell_type": "code",
   "execution_count": 11,
   "metadata": {
    "ExecuteTime": {
     "end_time": "2018-08-09T07:59:15.512500Z",
     "start_time": "2018-08-09T07:59:28.998Z"
    }
   },
   "outputs": [
    {
     "name": "stderr",
     "output_type": "stream",
     "text": [
      "Warning message in class(X) <- NULL:\n",
      "“Setting class(x) to NULL;   result will no longer be an S4 object”"
     ]
    },
    {
     "name": "stdout",
     "output_type": "stream",
     "text": [
      "[1] 213   7\n"
     ]
    },
    {
     "data": {
      "text/html": [
       "<table>\n",
       "<thead><tr><th></th><th scope=col>X.SampleID</th><th scope=col>scientific_name</th><th scope=col>class</th><th scope=col>order</th><th scope=col>family</th><th scope=col>genus</th><th scope=col>diet</th></tr></thead>\n",
       "<tbody>\n",
       "\t<tr><th scope=row>X1.Eurasian.Beaver</th><td>X1.Eurasian.Beaver</td><td>Castor_fiber      </td><td>Mammalia          </td><td>Rodentia          </td><td>Castoridae        </td><td>Castor            </td><td>herbivore         </td></tr>\n",
       "\t<tr><th scope=row>X101.Horse</th><td>X101.Horse        </td><td>Equus_caballus    </td><td>Mammalia          </td><td>Perissodactyla    </td><td>Equidae           </td><td>Equus             </td><td>herbivore         </td></tr>\n",
       "\t<tr><th scope=row>X102.Kulan</th><td>X102.Kulan        </td><td>Equus_hemionus    </td><td>Mammalia          </td><td>Perissodactyla    </td><td>Equidae           </td><td>Equus             </td><td>herbivore         </td></tr>\n",
       "</tbody>\n",
       "</table>\n"
      ],
      "text/latex": [
       "\\begin{tabular}{r|lllllll}\n",
       "  & X.SampleID & scientific\\_name & class & order & family & genus & diet\\\\\n",
       "\\hline\n",
       "\tX1.Eurasian.Beaver & X1.Eurasian.Beaver & Castor\\_fiber     & Mammalia           & Rodentia           & Castoridae         & Castor             & herbivore         \\\\\n",
       "\tX101.Horse & X101.Horse         & Equus\\_caballus   & Mammalia           & Perissodactyla     & Equidae            & Equus              & herbivore         \\\\\n",
       "\tX102.Kulan & X102.Kulan         & Equus\\_hemionus   & Mammalia           & Perissodactyla     & Equidae            & Equus              & herbivore         \\\\\n",
       "\\end{tabular}\n"
      ],
      "text/markdown": [
       "\n",
       "| <!--/--> | X.SampleID | scientific_name | class | order | family | genus | diet | \n",
       "|---|---|---|\n",
       "| X1.Eurasian.Beaver | X1.Eurasian.Beaver | Castor_fiber       | Mammalia           | Rodentia           | Castoridae         | Castor             | herbivore          | \n",
       "| X101.Horse | X101.Horse         | Equus_caballus     | Mammalia           | Perissodactyla     | Equidae            | Equus              | herbivore          | \n",
       "| X102.Kulan | X102.Kulan         | Equus_hemionus     | Mammalia           | Perissodactyla     | Equidae            | Equus              | herbivore          | \n",
       "\n",
       "\n"
      ],
      "text/plain": [
       "                   X.SampleID         scientific_name class    order         \n",
       "X1.Eurasian.Beaver X1.Eurasian.Beaver Castor_fiber    Mammalia Rodentia      \n",
       "X101.Horse         X101.Horse         Equus_caballus  Mammalia Perissodactyla\n",
       "X102.Kulan         X102.Kulan         Equus_hemionus  Mammalia Perissodactyla\n",
       "                   family     genus  diet     \n",
       "X1.Eurasian.Beaver Castoridae Castor herbivore\n",
       "X101.Horse         Equidae    Equus  herbivore\n",
       "X102.Kulan         Equidae    Equus  herbivore"
      ]
     },
     "metadata": {},
     "output_type": "display_data"
    }
   ],
   "source": [
    "# metadata\n",
    "metadata = physeq %>%\n",
    "    sample_data %>%\n",
    "    as.matrix %>%\n",
    "    as.data.frame %>%\n",
    "    dplyr::select(X.SampleID, scientific_name, class, order, family, genus, diet)\n",
    "\n",
    "metadata %>% dfhead"
   ]
  },
  {
   "cell_type": "markdown",
   "metadata": {},
   "source": [
    "# Format"
   ]
  },
  {
   "cell_type": "code",
   "execution_count": 12,
   "metadata": {
    "ExecuteTime": {
     "end_time": "2018-08-09T07:59:49.156026Z",
     "start_time": "2018-08-09T08:00:01.917Z"
    }
   },
   "outputs": [
    {
     "name": "stdout",
     "output_type": "stream",
     "text": [
      "[1] 408 213\n"
     ]
    },
    {
     "data": {
      "text/html": [
       "<table>\n",
       "<thead><tr><th></th><th scope=col>X1.Eurasian.Beaver</th><th scope=col>X101.Horse</th><th scope=col>X102.Kulan</th><th scope=col>X109.Red.Fox</th><th scope=col>X110.Noctule</th><th scope=col>X111.West.European.Hedgehog</th><th scope=col>X116.Common.Kestrel</th><th scope=col>X122.Wild.Boar</th><th scope=col>X123.Alpine.Chamois</th><th scope=col>X124.Golden.Jackal</th><th scope=col>⋯</th><th scope=col>F45.Red.Deer</th><th scope=col>F47.Red.Deer</th><th scope=col>F48.Red.Deer</th><th scope=col>F53.Mouflon</th><th scope=col>F66.Wild.Boar</th><th scope=col>F68.Red.Deer</th><th scope=col>F69.Red.Deer</th><th scope=col>F70.Red.Deer</th><th scope=col>F80.Red.Deer</th><th scope=col>F90.Domestic.Dog</th></tr></thead>\n",
       "<tbody>\n",
       "\t<tr><th scope=row>368bd5c2255f3a5ce0fef06ca6de1d04</th><td>0</td><td>0</td><td>0</td><td>0</td><td>0</td><td>0</td><td>0</td><td>1</td><td>1</td><td>0</td><td>⋯</td><td>0</td><td>0</td><td>0</td><td>0</td><td>0</td><td>0</td><td>0</td><td>0</td><td>0</td><td>0</td></tr>\n",
       "\t<tr><th scope=row>779324e5648460c5a67e577c45131b42</th><td>0</td><td>0</td><td>0</td><td>0</td><td>0</td><td>0</td><td>0</td><td>0</td><td>1</td><td>0</td><td>⋯</td><td>0</td><td>0</td><td>0</td><td>0</td><td>0</td><td>0</td><td>0</td><td>0</td><td>0</td><td>0</td></tr>\n",
       "\t<tr><th scope=row>b918d185ee89a0b33d821ee766d76eb3</th><td>0</td><td>0</td><td>0</td><td>0</td><td>0</td><td>0</td><td>0</td><td>0</td><td>0</td><td>0</td><td>⋯</td><td>1</td><td>1</td><td>1</td><td>1</td><td>0</td><td>1</td><td>1</td><td>1</td><td>1</td><td>0</td></tr>\n",
       "</tbody>\n",
       "</table>\n"
      ],
      "text/latex": [
       "\\begin{tabular}{r|lllllllllllllllllllllllllllllllllllllllllllllllllllllllllllllllllllllllllllllllllllllllllllllllllllllllllllllllllllllllllllllllllllllllllllllllllllllllllllllllllllllllllllllllllllllllllllllllllllllllllllllllllllll}\n",
       "  & X1.Eurasian.Beaver & X101.Horse & X102.Kulan & X109.Red.Fox & X110.Noctule & X111.West.European.Hedgehog & X116.Common.Kestrel & X122.Wild.Boar & X123.Alpine.Chamois & X124.Golden.Jackal & ⋯ & F45.Red.Deer & F47.Red.Deer & F48.Red.Deer & F53.Mouflon & F66.Wild.Boar & F68.Red.Deer & F69.Red.Deer & F70.Red.Deer & F80.Red.Deer & F90.Domestic.Dog\\\\\n",
       "\\hline\n",
       "\t368bd5c2255f3a5ce0fef06ca6de1d04 & 0 & 0 & 0 & 0 & 0 & 0 & 0 & 1 & 1 & 0 & ⋯ & 0 & 0 & 0 & 0 & 0 & 0 & 0 & 0 & 0 & 0\\\\\n",
       "\t779324e5648460c5a67e577c45131b42 & 0 & 0 & 0 & 0 & 0 & 0 & 0 & 0 & 1 & 0 & ⋯ & 0 & 0 & 0 & 0 & 0 & 0 & 0 & 0 & 0 & 0\\\\\n",
       "\tb918d185ee89a0b33d821ee766d76eb3 & 0 & 0 & 0 & 0 & 0 & 0 & 0 & 0 & 0 & 0 & ⋯ & 1 & 1 & 1 & 1 & 0 & 1 & 1 & 1 & 1 & 0\\\\\n",
       "\\end{tabular}\n"
      ],
      "text/markdown": [
       "\n",
       "| <!--/--> | X1.Eurasian.Beaver | X101.Horse | X102.Kulan | X109.Red.Fox | X110.Noctule | X111.West.European.Hedgehog | X116.Common.Kestrel | X122.Wild.Boar | X123.Alpine.Chamois | X124.Golden.Jackal | ⋯ | F45.Red.Deer | F47.Red.Deer | F48.Red.Deer | F53.Mouflon | F66.Wild.Boar | F68.Red.Deer | F69.Red.Deer | F70.Red.Deer | F80.Red.Deer | F90.Domestic.Dog | \n",
       "|---|---|---|\n",
       "| 368bd5c2255f3a5ce0fef06ca6de1d04 | 0 | 0 | 0 | 0 | 0 | 0 | 0 | 1 | 1 | 0 | ⋯ | 0 | 0 | 0 | 0 | 0 | 0 | 0 | 0 | 0 | 0 | \n",
       "| 779324e5648460c5a67e577c45131b42 | 0 | 0 | 0 | 0 | 0 | 0 | 0 | 0 | 1 | 0 | ⋯ | 0 | 0 | 0 | 0 | 0 | 0 | 0 | 0 | 0 | 0 | \n",
       "| b918d185ee89a0b33d821ee766d76eb3 | 0 | 0 | 0 | 0 | 0 | 0 | 0 | 0 | 0 | 0 | ⋯ | 1 | 1 | 1 | 1 | 0 | 1 | 1 | 1 | 1 | 0 | \n",
       "\n",
       "\n"
      ],
      "text/plain": [
       "                                 X1.Eurasian.Beaver X101.Horse X102.Kulan\n",
       "368bd5c2255f3a5ce0fef06ca6de1d04 0                  0          0         \n",
       "779324e5648460c5a67e577c45131b42 0                  0          0         \n",
       "b918d185ee89a0b33d821ee766d76eb3 0                  0          0         \n",
       "                                 X109.Red.Fox X110.Noctule\n",
       "368bd5c2255f3a5ce0fef06ca6de1d04 0            0           \n",
       "779324e5648460c5a67e577c45131b42 0            0           \n",
       "b918d185ee89a0b33d821ee766d76eb3 0            0           \n",
       "                                 X111.West.European.Hedgehog\n",
       "368bd5c2255f3a5ce0fef06ca6de1d04 0                          \n",
       "779324e5648460c5a67e577c45131b42 0                          \n",
       "b918d185ee89a0b33d821ee766d76eb3 0                          \n",
       "                                 X116.Common.Kestrel X122.Wild.Boar\n",
       "368bd5c2255f3a5ce0fef06ca6de1d04 0                   1             \n",
       "779324e5648460c5a67e577c45131b42 0                   0             \n",
       "b918d185ee89a0b33d821ee766d76eb3 0                   0             \n",
       "                                 X123.Alpine.Chamois X124.Golden.Jackal ⋯\n",
       "368bd5c2255f3a5ce0fef06ca6de1d04 1                   0                  ⋯\n",
       "779324e5648460c5a67e577c45131b42 1                   0                  ⋯\n",
       "b918d185ee89a0b33d821ee766d76eb3 0                   0                  ⋯\n",
       "                                 F45.Red.Deer F47.Red.Deer F48.Red.Deer\n",
       "368bd5c2255f3a5ce0fef06ca6de1d04 0            0            0           \n",
       "779324e5648460c5a67e577c45131b42 0            0            0           \n",
       "b918d185ee89a0b33d821ee766d76eb3 1            1            1           \n",
       "                                 F53.Mouflon F66.Wild.Boar F68.Red.Deer\n",
       "368bd5c2255f3a5ce0fef06ca6de1d04 0           0             0           \n",
       "779324e5648460c5a67e577c45131b42 0           0             0           \n",
       "b918d185ee89a0b33d821ee766d76eb3 1           0             1           \n",
       "                                 F69.Red.Deer F70.Red.Deer F80.Red.Deer\n",
       "368bd5c2255f3a5ce0fef06ca6de1d04 0            0            0           \n",
       "779324e5648460c5a67e577c45131b42 0            0            0           \n",
       "b918d185ee89a0b33d821ee766d76eb3 1            1            1           \n",
       "                                 F90.Domestic.Dog\n",
       "368bd5c2255f3a5ce0fef06ca6de1d04 0               \n",
       "779324e5648460c5a67e577c45131b42 0               \n",
       "b918d185ee89a0b33d821ee766d76eb3 0               "
      ]
     },
     "metadata": {},
     "output_type": "display_data"
    }
   ],
   "source": [
    "otu = physeq %>%\n",
    "    otu_table %>%\n",
    "    as.matrix %>%\n",
    "    as.data.frame \n",
    "\n",
    "otu %>% dfhead"
   ]
  },
  {
   "cell_type": "markdown",
   "metadata": {},
   "source": [
    "# Dataset subsampling"
   ]
  },
  {
   "cell_type": "code",
   "execution_count": 13,
   "metadata": {
    "ExecuteTime": {
     "end_time": "2018-08-09T08:00:13.637608Z",
     "start_time": "2018-08-09T08:00:27.391Z"
    }
   },
   "outputs": [],
   "source": [
    "# number of permutated SpecD datasetst\n",
    "nperm_datasets = 100"
   ]
  },
  {
   "cell_type": "code",
   "execution_count": 19,
   "metadata": {
    "ExecuteTime": {
     "end_time": "2018-08-09T08:01:05.705010Z",
     "start_time": "2018-08-09T08:01:19.454Z"
    }
   },
   "outputs": [],
   "source": [
    "#' randomly selecting one per group\n",
    "#' L : list of distance matrixes used for MRM\n",
    "#' df_grps : data.frame (sample, group)\n",
    "one_per_group = function(rep, otu, df_grps, ...){\n",
    "    # get subsample\n",
    "    colnames(df_grps) = c('Sample', 'Group')\n",
    "    df_grps = df_grps %>%\n",
    "        group_by(Group) %>%\n",
    "        sample_n(1) %>%\n",
    "        ungroup()\n",
    "    # subsetting\n",
    "    otu = otu[,df_grps$Sample]\n",
    "    otu = otu[rowSums(otu) > 0,]\n",
    "    return(otu)\n",
    "}"
   ]
  },
  {
   "cell_type": "code",
   "execution_count": 15,
   "metadata": {
    "ExecuteTime": {
     "end_time": "2018-08-09T08:00:36.527760Z",
     "start_time": "2018-08-09T08:00:50.254Z"
    }
   },
   "outputs": [
    {
     "name": "stdout",
     "output_type": "stream",
     "text": [
      "[1] 213   2\n"
     ]
    },
    {
     "data": {
      "text/html": [
       "<table>\n",
       "<thead><tr><th></th><th scope=col>X.SampleID</th><th scope=col>scientific_name</th></tr></thead>\n",
       "<tbody>\n",
       "\t<tr><th scope=row>X1.Eurasian.Beaver</th><td>X1.Eurasian.Beaver</td><td>Castor_fiber      </td></tr>\n",
       "\t<tr><th scope=row>X101.Horse</th><td>X101.Horse        </td><td>Equus_caballus    </td></tr>\n",
       "\t<tr><th scope=row>X102.Kulan</th><td>X102.Kulan        </td><td>Equus_hemionus    </td></tr>\n",
       "</tbody>\n",
       "</table>\n"
      ],
      "text/latex": [
       "\\begin{tabular}{r|ll}\n",
       "  & X.SampleID & scientific\\_name\\\\\n",
       "\\hline\n",
       "\tX1.Eurasian.Beaver & X1.Eurasian.Beaver & Castor\\_fiber    \\\\\n",
       "\tX101.Horse & X101.Horse         & Equus\\_caballus  \\\\\n",
       "\tX102.Kulan & X102.Kulan         & Equus\\_hemionus  \\\\\n",
       "\\end{tabular}\n"
      ],
      "text/markdown": [
       "\n",
       "| <!--/--> | X.SampleID | scientific_name | \n",
       "|---|---|---|\n",
       "| X1.Eurasian.Beaver | X1.Eurasian.Beaver | Castor_fiber       | \n",
       "| X101.Horse | X101.Horse         | Equus_caballus     | \n",
       "| X102.Kulan | X102.Kulan         | Equus_hemionus     | \n",
       "\n",
       "\n"
      ],
      "text/plain": [
       "                   X.SampleID         scientific_name\n",
       "X1.Eurasian.Beaver X1.Eurasian.Beaver Castor_fiber   \n",
       "X101.Horse         X101.Horse         Equus_caballus \n",
       "X102.Kulan         X102.Kulan         Equus_hemionus "
      ]
     },
     "metadata": {},
     "output_type": "display_data"
    }
   ],
   "source": [
    "# grouping samples by species\n",
    "df_grps = metadata %>% \n",
    "    dplyr::select(X.SampleID, scientific_name)\n",
    "df_grps %>% dfhead"
   ]
  },
  {
   "cell_type": "code",
   "execution_count": 20,
   "metadata": {
    "ExecuteTime": {
     "end_time": "2018-08-09T08:01:07.996120Z",
     "start_time": "2018-08-09T08:01:20.917Z"
    }
   },
   "outputs": [
    {
     "name": "stdout",
     "output_type": "stream",
     "text": [
      "[1] 100\n",
      "   Min. 1st Qu.  Median    Mean 3rd Qu.    Max. \n",
      "    128     128     128     128     128     128 \n",
      "[1] 408 128\n"
     ]
    },
    {
     "data": {
      "text/html": [
       "<table>\n",
       "<thead><tr><th></th><th scope=col>X350.Smooth.Newt</th><th scope=col>X357.Northern.Tamandua</th><th scope=col>X237.Red.shanked.Douc.Langur</th><th scope=col>X19.European.Ground.Squirrel</th><th scope=col>X403.Chacma.Baboon</th><th scope=col>X335.Harbor.Seal</th><th scope=col>X337.Sowerbys.Beaked.Whale</th><th scope=col>X190.Common.House.Gecko</th><th scope=col>X110.Noctule</th><th scope=col>X228.Domestic.Cat</th><th scope=col>⋯</th><th scope=col>X423.Quagga</th><th scope=col>X419.African.Buffalo</th><th scope=col>X418.Giraffe</th><th scope=col>X96.European.Hare</th><th scope=col>X1.Eurasian.Beaver</th><th scope=col>X431.Quagga</th><th scope=col>X266.Western.Marsh.Harrier</th><th scope=col>F70.Red.Deer</th><th scope=col>X351.Grass.Snake</th><th scope=col>X414.Vervet.Monkey</th></tr></thead>\n",
       "<tbody>\n",
       "\t<tr><th scope=row>368bd5c2255f3a5ce0fef06ca6de1d04</th><td>0</td><td>0</td><td>0</td><td>0</td><td>0</td><td>0</td><td>0</td><td>0</td><td>0</td><td>0</td><td>⋯</td><td>0</td><td>0</td><td>0</td><td>0</td><td>0</td><td>0</td><td>0</td><td>0</td><td>0</td><td>0</td></tr>\n",
       "\t<tr><th scope=row>779324e5648460c5a67e577c45131b42</th><td>0</td><td>0</td><td>0</td><td>0</td><td>0</td><td>0</td><td>0</td><td>0</td><td>0</td><td>0</td><td>⋯</td><td>0</td><td>1</td><td>0</td><td>0</td><td>0</td><td>0</td><td>0</td><td>0</td><td>0</td><td>0</td></tr>\n",
       "\t<tr><th scope=row>b918d185ee89a0b33d821ee766d76eb3</th><td>0</td><td>0</td><td>0</td><td>0</td><td>0</td><td>0</td><td>0</td><td>0</td><td>0</td><td>0</td><td>⋯</td><td>0</td><td>0</td><td>0</td><td>0</td><td>0</td><td>0</td><td>0</td><td>1</td><td>0</td><td>0</td></tr>\n",
       "</tbody>\n",
       "</table>\n"
      ],
      "text/latex": [
       "\\begin{tabular}{r|llllllllllllllllllllllllllllllllllllllllllllllllllllllllllllllllllllllllllllllllllllllllllllllllllllllllllllllllllllllllllllllll}\n",
       "  & X350.Smooth.Newt & X357.Northern.Tamandua & X237.Red.shanked.Douc.Langur & X19.European.Ground.Squirrel & X403.Chacma.Baboon & X335.Harbor.Seal & X337.Sowerbys.Beaked.Whale & X190.Common.House.Gecko & X110.Noctule & X228.Domestic.Cat & ⋯ & X423.Quagga & X419.African.Buffalo & X418.Giraffe & X96.European.Hare & X1.Eurasian.Beaver & X431.Quagga & X266.Western.Marsh.Harrier & F70.Red.Deer & X351.Grass.Snake & X414.Vervet.Monkey\\\\\n",
       "\\hline\n",
       "\t368bd5c2255f3a5ce0fef06ca6de1d04 & 0 & 0 & 0 & 0 & 0 & 0 & 0 & 0 & 0 & 0 & ⋯ & 0 & 0 & 0 & 0 & 0 & 0 & 0 & 0 & 0 & 0\\\\\n",
       "\t779324e5648460c5a67e577c45131b42 & 0 & 0 & 0 & 0 & 0 & 0 & 0 & 0 & 0 & 0 & ⋯ & 0 & 1 & 0 & 0 & 0 & 0 & 0 & 0 & 0 & 0\\\\\n",
       "\tb918d185ee89a0b33d821ee766d76eb3 & 0 & 0 & 0 & 0 & 0 & 0 & 0 & 0 & 0 & 0 & ⋯ & 0 & 0 & 0 & 0 & 0 & 0 & 0 & 1 & 0 & 0\\\\\n",
       "\\end{tabular}\n"
      ],
      "text/markdown": [
       "\n",
       "| <!--/--> | X350.Smooth.Newt | X357.Northern.Tamandua | X237.Red.shanked.Douc.Langur | X19.European.Ground.Squirrel | X403.Chacma.Baboon | X335.Harbor.Seal | X337.Sowerbys.Beaked.Whale | X190.Common.House.Gecko | X110.Noctule | X228.Domestic.Cat | ⋯ | X423.Quagga | X419.African.Buffalo | X418.Giraffe | X96.European.Hare | X1.Eurasian.Beaver | X431.Quagga | X266.Western.Marsh.Harrier | F70.Red.Deer | X351.Grass.Snake | X414.Vervet.Monkey | \n",
       "|---|---|---|\n",
       "| 368bd5c2255f3a5ce0fef06ca6de1d04 | 0 | 0 | 0 | 0 | 0 | 0 | 0 | 0 | 0 | 0 | ⋯ | 0 | 0 | 0 | 0 | 0 | 0 | 0 | 0 | 0 | 0 | \n",
       "| 779324e5648460c5a67e577c45131b42 | 0 | 0 | 0 | 0 | 0 | 0 | 0 | 0 | 0 | 0 | ⋯ | 0 | 1 | 0 | 0 | 0 | 0 | 0 | 0 | 0 | 0 | \n",
       "| b918d185ee89a0b33d821ee766d76eb3 | 0 | 0 | 0 | 0 | 0 | 0 | 0 | 0 | 0 | 0 | ⋯ | 0 | 0 | 0 | 0 | 0 | 0 | 0 | 1 | 0 | 0 | \n",
       "\n",
       "\n"
      ],
      "text/plain": [
       "                                 X350.Smooth.Newt X357.Northern.Tamandua\n",
       "368bd5c2255f3a5ce0fef06ca6de1d04 0                0                     \n",
       "779324e5648460c5a67e577c45131b42 0                0                     \n",
       "b918d185ee89a0b33d821ee766d76eb3 0                0                     \n",
       "                                 X237.Red.shanked.Douc.Langur\n",
       "368bd5c2255f3a5ce0fef06ca6de1d04 0                           \n",
       "779324e5648460c5a67e577c45131b42 0                           \n",
       "b918d185ee89a0b33d821ee766d76eb3 0                           \n",
       "                                 X19.European.Ground.Squirrel\n",
       "368bd5c2255f3a5ce0fef06ca6de1d04 0                           \n",
       "779324e5648460c5a67e577c45131b42 0                           \n",
       "b918d185ee89a0b33d821ee766d76eb3 0                           \n",
       "                                 X403.Chacma.Baboon X335.Harbor.Seal\n",
       "368bd5c2255f3a5ce0fef06ca6de1d04 0                  0               \n",
       "779324e5648460c5a67e577c45131b42 0                  0               \n",
       "b918d185ee89a0b33d821ee766d76eb3 0                  0               \n",
       "                                 X337.Sowerbys.Beaked.Whale\n",
       "368bd5c2255f3a5ce0fef06ca6de1d04 0                         \n",
       "779324e5648460c5a67e577c45131b42 0                         \n",
       "b918d185ee89a0b33d821ee766d76eb3 0                         \n",
       "                                 X190.Common.House.Gecko X110.Noctule\n",
       "368bd5c2255f3a5ce0fef06ca6de1d04 0                       0           \n",
       "779324e5648460c5a67e577c45131b42 0                       0           \n",
       "b918d185ee89a0b33d821ee766d76eb3 0                       0           \n",
       "                                 X228.Domestic.Cat ⋯ X423.Quagga\n",
       "368bd5c2255f3a5ce0fef06ca6de1d04 0                 ⋯ 0          \n",
       "779324e5648460c5a67e577c45131b42 0                 ⋯ 0          \n",
       "b918d185ee89a0b33d821ee766d76eb3 0                 ⋯ 0          \n",
       "                                 X419.African.Buffalo X418.Giraffe\n",
       "368bd5c2255f3a5ce0fef06ca6de1d04 0                    0           \n",
       "779324e5648460c5a67e577c45131b42 1                    0           \n",
       "b918d185ee89a0b33d821ee766d76eb3 0                    0           \n",
       "                                 X96.European.Hare X1.Eurasian.Beaver\n",
       "368bd5c2255f3a5ce0fef06ca6de1d04 0                 0                 \n",
       "779324e5648460c5a67e577c45131b42 0                 0                 \n",
       "b918d185ee89a0b33d821ee766d76eb3 0                 0                 \n",
       "                                 X431.Quagga X266.Western.Marsh.Harrier\n",
       "368bd5c2255f3a5ce0fef06ca6de1d04 0           0                         \n",
       "779324e5648460c5a67e577c45131b42 0           0                         \n",
       "b918d185ee89a0b33d821ee766d76eb3 0           0                         \n",
       "                                 F70.Red.Deer X351.Grass.Snake\n",
       "368bd5c2255f3a5ce0fef06ca6de1d04 0            0               \n",
       "779324e5648460c5a67e577c45131b42 0            0               \n",
       "b918d185ee89a0b33d821ee766d76eb3 1            0               \n",
       "                                 X414.Vervet.Monkey\n",
       "368bd5c2255f3a5ce0fef06ca6de1d04 0                 \n",
       "779324e5648460c5a67e577c45131b42 0                 \n",
       "b918d185ee89a0b33d821ee766d76eb3 0                 "
      ]
     },
     "metadata": {},
     "output_type": "display_data"
    }
   ],
   "source": [
    "# creating subset datasets\n",
    "doParallel::registerDoParallel(threads)\n",
    "x = as.list(1:nperm_datasets)\n",
    "otu_l = plyr::llply(x, one_per_group, otu=otu, df_grps=df_grps, .parallel=TRUE)\n",
    "\n",
    "# status\n",
    "otu_l %>% length %>% print\n",
    "otu_l %>% lapply(ncol) %>% unlist %>% summary %>% print\n",
    "otu_l[[1]] %>% dfhead"
   ]
  },
  {
   "cell_type": "markdown",
   "metadata": {},
   "source": [
    "# `cooccur()`"
   ]
  },
  {
   "cell_type": "code",
   "execution_count": 27,
   "metadata": {
    "ExecuteTime": {
     "end_time": "2018-08-09T08:06:29.699101Z",
     "start_time": "2018-08-09T08:06:43.462Z"
    }
   },
   "outputs": [],
   "source": [
    "# cluster resources\n",
    "resources = list(h_rt = '24:00:00',\n",
    "                 h_vmem = '20G',\n",
    "                 threads = '1',\n",
    "                 conda.env = \"py3_physeq_eco\",\n",
    "                 conda.path = \"/ebio/abt3_projects/software/miniconda3_gt4.4/bin\")\n",
    "plan(batchtools_sge, resources=resources)"
   ]
  },
  {
   "cell_type": "code",
   "execution_count": 28,
   "metadata": {
    "ExecuteTime": {
     "end_time": "2018-08-09T10:47:52.391681Z",
     "start_time": "2018-08-09T08:06:43.590Z"
    },
    "scrolled": true
   },
   "outputs": [
    {
     "name": "stderr",
     "output_type": "stream",
     "text": [
      "Warning message in is.na(x):\n",
      "“is.na() applied to non-(list or vector) of type 'NULL'”Warning message in is.na(x):\n",
      "“is.na() applied to non-(list or vector) of type 'NULL'”Warning message in is.na(x):\n",
      "“is.na() applied to non-(list or vector) of type 'NULL'”Warning message in is.na(x):\n",
      "“is.na() applied to non-(list or vector) of type 'NULL'”Warning message in is.na(x):\n",
      "“is.na() applied to non-(list or vector) of type 'NULL'”Warning message in is.na(x):\n",
      "“is.na() applied to non-(list or vector) of type 'NULL'”Warning message in is.na(x):\n",
      "“is.na() applied to non-(list or vector) of type 'NULL'”Warning message in is.na(x):\n",
      "“is.na() applied to non-(list or vector) of type 'NULL'”Warning message in is.na(x):\n",
      "“is.na() applied to non-(list or vector) of type 'NULL'”Warning message in is.na(x):\n",
      "“is.na() applied to non-(list or vector) of type 'NULL'”Warning message in is.na(x):\n",
      "“is.na() applied to non-(list or vector) of type 'NULL'”Warning message in is.na(x):\n",
      "“is.na() applied to non-(list or vector) of type 'NULL'”Warning message in is.na(x):\n",
      "“is.na() applied to non-(list or vector) of type 'NULL'”Warning message in is.na(x):\n",
      "“is.na() applied to non-(list or vector) of type 'NULL'”Warning message in is.na(x):\n",
      "“is.na() applied to non-(list or vector) of type 'NULL'”Warning message in is.na(x):\n",
      "“is.na() applied to non-(list or vector) of type 'NULL'”Warning message in is.na(x):\n",
      "“is.na() applied to non-(list or vector) of type 'NULL'”Warning message in is.na(x):\n",
      "“is.na() applied to non-(list or vector) of type 'NULL'”Warning message in is.na(x):\n",
      "“is.na() applied to non-(list or vector) of type 'NULL'”Warning message in is.na(x):\n",
      "“is.na() applied to non-(list or vector) of type 'NULL'”Warning message in is.na(x):\n",
      "“is.na() applied to non-(list or vector) of type 'NULL'”Warning message in is.na(x):\n",
      "“is.na() applied to non-(list or vector) of type 'NULL'”Warning message in is.na(x):\n",
      "“is.na() applied to non-(list or vector) of type 'NULL'”Warning message in is.na(x):\n",
      "“is.na() applied to non-(list or vector) of type 'NULL'”Warning message in is.na(x):\n",
      "“is.na() applied to non-(list or vector) of type 'NULL'”Warning message in is.na(x):\n",
      "“is.na() applied to non-(list or vector) of type 'NULL'”Warning message in is.na(x):\n",
      "“is.na() applied to non-(list or vector) of type 'NULL'”Warning message in is.na(x):\n",
      "“is.na() applied to non-(list or vector) of type 'NULL'”Warning message in is.na(x):\n",
      "“is.na() applied to non-(list or vector) of type 'NULL'”Warning message in is.na(x):\n",
      "“is.na() applied to non-(list or vector) of type 'NULL'”Warning message in is.na(x):\n",
      "“is.na() applied to non-(list or vector) of type 'NULL'”Warning message in is.na(x):\n",
      "“is.na() applied to non-(list or vector) of type 'NULL'”Warning message in is.na(x):\n",
      "“is.na() applied to non-(list or vector) of type 'NULL'”Warning message in is.na(x):\n",
      "“is.na() applied to non-(list or vector) of type 'NULL'”Warning message in is.na(x):\n",
      "“is.na() applied to non-(list or vector) of type 'NULL'”Warning message in is.na(x):\n",
      "“is.na() applied to non-(list or vector) of type 'NULL'”Warning message in is.na(x):\n",
      "“is.na() applied to non-(list or vector) of type 'NULL'”Warning message in is.na(x):\n",
      "“is.na() applied to non-(list or vector) of type 'NULL'”Warning message in is.na(x):\n",
      "“is.na() applied to non-(list or vector) of type 'NULL'”Warning message in is.na(x):\n",
      "“is.na() applied to non-(list or vector) of type 'NULL'”Warning message in is.na(x):\n",
      "“is.na() applied to non-(list or vector) of type 'NULL'”Warning message in is.na(x):\n",
      "“is.na() applied to non-(list or vector) of type 'NULL'”Warning message in is.na(x):\n",
      "“is.na() applied to non-(list or vector) of type 'NULL'”Warning message in is.na(x):\n",
      "“is.na() applied to non-(list or vector) of type 'NULL'”Warning message in is.na(x):\n",
      "“is.na() applied to non-(list or vector) of type 'NULL'”Warning message in is.na(x):\n",
      "“is.na() applied to non-(list or vector) of type 'NULL'”Warning message in is.na(x):\n",
      "“is.na() applied to non-(list or vector) of type 'NULL'”Warning message in is.na(x):\n",
      "“is.na() applied to non-(list or vector) of type 'NULL'”Warning message in is.na(x):\n",
      "“is.na() applied to non-(list or vector) of type 'NULL'”Warning message in is.na(x):\n",
      "“is.na() applied to non-(list or vector) of type 'NULL'”Warning message in is.na(x):\n",
      "“is.na() applied to non-(list or vector) of type 'NULL'”Warning message in is.na(x):\n",
      "“is.na() applied to non-(list or vector) of type 'NULL'”Warning message in is.na(x):\n",
      "“is.na() applied to non-(list or vector) of type 'NULL'”Warning message in is.na(x):\n",
      "“is.na() applied to non-(list or vector) of type 'NULL'”Warning message in is.na(x):\n",
      "“is.na() applied to non-(list or vector) of type 'NULL'”Warning message in is.na(x):\n",
      "“is.na() applied to non-(list or vector) of type 'NULL'”Warning message in is.na(x):\n",
      "“is.na() applied to non-(list or vector) of type 'NULL'”Warning message in is.na(x):\n",
      "“is.na() applied to non-(list or vector) of type 'NULL'”Warning message in is.na(x):\n",
      "“is.na() applied to non-(list or vector) of type 'NULL'”Warning message in is.na(x):\n",
      "“is.na() applied to non-(list or vector) of type 'NULL'”Warning message in is.na(x):\n",
      "“is.na() applied to non-(list or vector) of type 'NULL'”Warning message in is.na(x):\n",
      "“is.na() applied to non-(list or vector) of type 'NULL'”Warning message in is.na(x):\n",
      "“is.na() applied to non-(list or vector) of type 'NULL'”Warning message in is.na(x):\n",
      "“is.na() applied to non-(list or vector) of type 'NULL'”Warning message in is.na(x):\n",
      "“is.na() applied to non-(list or vector) of type 'NULL'”Warning message in is.na(x):\n",
      "“is.na() applied to non-(list or vector) of type 'NULL'”Warning message in is.na(x):\n",
      "“is.na() applied to non-(list or vector) of type 'NULL'”Warning message in is.na(x):\n",
      "“is.na() applied to non-(list or vector) of type 'NULL'”Warning message in is.na(x):\n",
      "“is.na() applied to non-(list or vector) of type 'NULL'”Warning message in is.na(x):\n",
      "“is.na() applied to non-(list or vector) of type 'NULL'”Warning message in is.na(x):\n",
      "“is.na() applied to non-(list or vector) of type 'NULL'”Warning message in is.na(x):\n",
      "“is.na() applied to non-(list or vector) of type 'NULL'”Warning message in is.na(x):\n",
      "“is.na() applied to non-(list or vector) of type 'NULL'”Warning message in is.na(x):\n",
      "“is.na() applied to non-(list or vector) of type 'NULL'”Warning message in is.na(x):\n",
      "“is.na() applied to non-(list or vector) of type 'NULL'”Warning message in is.na(x):\n",
      "“is.na() applied to non-(list or vector) of type 'NULL'”Warning message in is.na(x):\n",
      "“is.na() applied to non-(list or vector) of type 'NULL'”Warning message in is.na(x):\n",
      "“is.na() applied to non-(list or vector) of type 'NULL'”Warning message in is.na(x):\n",
      "“is.na() applied to non-(list or vector) of type 'NULL'”Warning message in is.na(x):\n",
      "“is.na() applied to non-(list or vector) of type 'NULL'”Warning message in is.na(x):\n",
      "“is.na() applied to non-(list or vector) of type 'NULL'”Warning message in is.na(x):\n",
      "“is.na() applied to non-(list or vector) of type 'NULL'”Warning message in is.na(x):\n",
      "“is.na() applied to non-(list or vector) of type 'NULL'”Warning message in is.na(x):\n",
      "“is.na() applied to non-(list or vector) of type 'NULL'”Warning message in is.na(x):\n",
      "“is.na() applied to non-(list or vector) of type 'NULL'”Warning message in is.na(x):\n",
      "“is.na() applied to non-(list or vector) of type 'NULL'”Warning message in is.na(x):\n",
      "“is.na() applied to non-(list or vector) of type 'NULL'”Warning message in is.na(x):\n",
      "“is.na() applied to non-(list or vector) of type 'NULL'”Warning message in is.na(x):\n",
      "“is.na() applied to non-(list or vector) of type 'NULL'”Warning message in is.na(x):\n",
      "“is.na() applied to non-(list or vector) of type 'NULL'”Warning message in is.na(x):\n",
      "“is.na() applied to non-(list or vector) of type 'NULL'”Warning message in is.na(x):\n",
      "“is.na() applied to non-(list or vector) of type 'NULL'”Warning message in is.na(x):\n",
      "“is.na() applied to non-(list or vector) of type 'NULL'”Warning message in is.na(x):\n",
      "“is.na() applied to non-(list or vector) of type 'NULL'”Warning message in is.na(x):\n",
      "“is.na() applied to non-(list or vector) of type 'NULL'”Warning message in is.na(x):\n",
      "“is.na() applied to non-(list or vector) of type 'NULL'”Warning message in is.na(x):\n",
      "“is.na() applied to non-(list or vector) of type 'NULL'”Warning message in is.na(x):\n",
      "“is.na() applied to non-(list or vector) of type 'NULL'”Warning message in is.na(x):\n",
      "“is.na() applied to non-(list or vector) of type 'NULL'”Warning message in is.na(x):\n",
      "“is.na() applied to non-(list or vector) of type 'NULL'”"
     ]
    },
    {
     "data": {
      "text/html": [
       "100"
      ],
      "text/latex": [
       "100"
      ],
      "text/markdown": [
       "100"
      ],
      "text/plain": [
       "[1] 100"
      ]
     },
     "metadata": {},
     "output_type": "display_data"
    }
   ],
   "source": [
    "# Running cooccur() in parallel on each dataset subset\n",
    "## WARNING: SLOW\n",
    "cooccur_res = future_lapply(otu_l, \n",
    "                            FUN = cooccur, \n",
    "                            type=\"spp_site\", \n",
    "                            thresh=TRUE, \n",
    "                            spp_names=TRUE,\n",
    "                            future.packages=c('cooccur'))\n",
    "\n",
    "cooccur_res %>% length"
   ]
  },
  {
   "cell_type": "code",
   "execution_count": 29,
   "metadata": {
    "ExecuteTime": {
     "end_time": "2018-08-09T10:47:52.435700Z",
     "start_time": "2018-08-09T08:07:42.663Z"
    }
   },
   "outputs": [
    {
     "data": {
      "text/html": [
       "100"
      ],
      "text/latex": [
       "100"
      ],
      "text/markdown": [
       "100"
      ],
      "text/plain": [
       "[1] 100"
      ]
     },
     "metadata": {},
     "output_type": "display_data"
    }
   ],
   "source": [
    "# checking result\n",
    "cooccur_res %>% length"
   ]
  },
  {
   "cell_type": "markdown",
   "metadata": {},
   "source": [
    "## Saving results"
   ]
  },
  {
   "cell_type": "code",
   "execution_count": 30,
   "metadata": {
    "ExecuteTime": {
     "end_time": "2018-08-09T10:47:52.482539Z",
     "start_time": "2018-08-09T08:07:45.839Z"
    }
   },
   "outputs": [
    {
     "data": {
      "text/html": [
       "'/ebio/abt3_projects/Georg_animal_feces/data/assembly/cooccur//IndD-sens_OTU-cooccur.RDS'"
      ],
      "text/latex": [
       "'/ebio/abt3\\_projects/Georg\\_animal\\_feces/data/assembly/cooccur//IndD-sens\\_OTU-cooccur.RDS'"
      ],
      "text/markdown": [
       "'/ebio/abt3_projects/Georg_animal_feces/data/assembly/cooccur//IndD-sens_OTU-cooccur.RDS'"
      ],
      "text/plain": [
       "[1] \"/ebio/abt3_projects/Georg_animal_feces/data/assembly/cooccur//IndD-sens_OTU-cooccur.RDS\""
      ]
     },
     "metadata": {},
     "output_type": "display_data"
    }
   ],
   "source": [
    "# output file name\n",
    "cooccur_res_file = file.path(work_dir, 'IndD-sens_OTU-cooccur.RDS')\n",
    "cooccur_res_file"
   ]
  },
  {
   "cell_type": "code",
   "execution_count": 31,
   "metadata": {
    "ExecuteTime": {
     "end_time": "2018-08-09T10:47:59.494041Z",
     "start_time": "2018-08-09T08:07:45.967Z"
    }
   },
   "outputs": [
    {
     "name": "stdout",
     "output_type": "stream",
     "text": [
      "File written: /ebio/abt3_projects/Georg_animal_feces/data/assembly/cooccur//IndD-sens_OTU-cooccur.RDS \n"
     ]
    }
   ],
   "source": [
    "# saving\n",
    "saveRDS(cooccur_res, file=cooccur_res_file)\n",
    "cat('File written:', cooccur_res_file, '\\n')"
   ]
  },
  {
   "cell_type": "code",
   "execution_count": 32,
   "metadata": {
    "ExecuteTime": {
     "end_time": "2018-08-09T10:48:02.525031Z",
     "start_time": "2018-08-09T08:07:46.070Z"
    }
   },
   "outputs": [
    {
     "data": {
      "text/html": [
       "100"
      ],
      "text/latex": [
       "100"
      ],
      "text/markdown": [
       "100"
      ],
      "text/plain": [
       "[1] 100"
      ]
     },
     "metadata": {},
     "output_type": "display_data"
    }
   ],
   "source": [
    "# loading\n",
    "cooccur_res = readRDS(cooccur_res_file)\n",
    "cooccur_res %>% length"
   ]
  },
  {
   "cell_type": "code",
   "execution_count": 33,
   "metadata": {
    "ExecuteTime": {
     "end_time": "2018-08-09T10:48:03.630774Z",
     "start_time": "2018-08-09T08:07:46.204Z"
    }
   },
   "outputs": [],
   "source": [
    "send_email('http://127.0.0.1:9705/notebooks/notebooks/16S/5_assembly/cooccur/02_IndD-sens_OTU-binom.ipynb')"
   ]
  },
  {
   "cell_type": "markdown",
   "metadata": {},
   "source": [
    "## Variance among dataset subsets"
   ]
  },
  {
   "cell_type": "code",
   "execution_count": 34,
   "metadata": {
    "ExecuteTime": {
     "end_time": "2018-08-09T11:56:43.802232Z",
     "start_time": "2018-08-09T11:56:58.112Z"
    }
   },
   "outputs": [],
   "source": [
    "summary_all = function(x){\n",
    "    x = as.list(summary(x))\n",
    "    c(Positive=x$Positive, Negative=x$Negative, \n",
    "      Random=x$Random, Unclassifiable=x$Unclassifiable)\n",
    "}"
   ]
  },
  {
   "cell_type": "code",
   "execution_count": 35,
   "metadata": {
    "ExecuteTime": {
     "end_time": "2018-08-09T11:56:45.342454Z",
     "start_time": "2018-08-09T11:56:58.230Z"
    }
   },
   "outputs": [
    {
     "name": "stdout",
     "output_type": "stream",
     "text": [
      "Call:\n",
      "...future.FUN(mat = ...future.X_jj, type = \"spp_site\", thresh = TRUE, \n",
      "    spp_names = TRUE)\n",
      "\n",
      "Of 83028 species pair combinations, 77214 pairs (93 %) were removed from the analysis because expected co-occurrence was < 1 and 5814 pairs were analyzed\n",
      "\n",
      "Cooccurrence Summary:\n",
      "Call:\n",
      "...future.FUN(mat = ...future.X_jj, type = \"spp_site\", thresh = TRUE, \n",
      "    spp_names = TRUE)\n",
      "\n",
      "Of 83028 species pair combinations, 75106 pairs (90.46 %) were removed from the analysis because expected co-occurrence was < 1 and 7922 pairs were analyzed\n",
      "\n",
      "Cooccurrence Summary:\n",
      "Call:\n",
      "...future.FUN(mat = ...future.X_jj, type = \"spp_site\", thresh = TRUE, \n",
      "    spp_names = TRUE)\n",
      "\n",
      "Of 83028 species pair combinations, 77556 pairs (93.41 %) were removed from the analysis because expected co-occurrence was < 1 and 5472 pairs were analyzed\n",
      "\n",
      "Cooccurrence Summary:\n",
      "Call:\n",
      "...future.FUN(mat = ...future.X_jj, type = \"spp_site\", thresh = TRUE, \n",
      "    spp_names = TRUE)\n",
      "\n",
      "Of 83028 species pair combinations, 73114 pairs (88.06 %) were removed from the analysis because expected co-occurrence was < 1 and 9914 pairs were analyzed\n",
      "\n",
      "Cooccurrence Summary:\n",
      "Call:\n",
      "...future.FUN(mat = ...future.X_jj, type = \"spp_site\", thresh = TRUE, \n",
      "    spp_names = TRUE)\n",
      "\n",
      "Of 83028 species pair combinations, 76736 pairs (92.42 %) were removed from the analysis because expected co-occurrence was < 1 and 6292 pairs were analyzed\n",
      "\n",
      "Cooccurrence Summary:\n",
      "Call:\n",
      "...future.FUN(mat = ...future.X_jj, type = \"spp_site\", thresh = TRUE, \n",
      "    spp_names = TRUE)\n",
      "\n",
      "Of 83028 species pair combinations, 71023 pairs (85.54 %) were removed from the analysis because expected co-occurrence was < 1 and 12005 pairs were analyzed\n",
      "\n",
      "Cooccurrence Summary:\n",
      "Call:\n",
      "...future.FUN(mat = ...future.X_jj, type = \"spp_site\", thresh = TRUE, \n",
      "    spp_names = TRUE)\n",
      "\n",
      "Of 83028 species pair combinations, 76395 pairs (92.01 %) were removed from the analysis because expected co-occurrence was < 1 and 6633 pairs were analyzed\n",
      "\n",
      "Cooccurrence Summary:\n",
      "Call:\n",
      "...future.FUN(mat = ...future.X_jj, type = \"spp_site\", thresh = TRUE, \n",
      "    spp_names = TRUE)\n",
      "\n",
      "Of 83028 species pair combinations, 76091 pairs (91.64 %) were removed from the analysis because expected co-occurrence was < 1 and 6937 pairs were analyzed\n",
      "\n",
      "Cooccurrence Summary:\n",
      "Call:\n",
      "...future.FUN(mat = ...future.X_jj, type = \"spp_site\", thresh = TRUE, \n",
      "    spp_names = TRUE)\n",
      "\n",
      "Of 83028 species pair combinations, 78435 pairs (94.47 %) were removed from the analysis because expected co-occurrence was < 1 and 4593 pairs were analyzed\n",
      "\n",
      "Cooccurrence Summary:\n",
      "Call:\n",
      "...future.FUN(mat = ...future.X_jj, type = \"spp_site\", thresh = TRUE, \n",
      "    spp_names = TRUE)\n",
      "\n",
      "Of 83028 species pair combinations, 74773 pairs (90.06 %) were removed from the analysis because expected co-occurrence was < 1 and 8255 pairs were analyzed\n",
      "\n",
      "Cooccurrence Summary:\n",
      "Call:\n",
      "...future.FUN(mat = ...future.X_jj, type = \"spp_site\", thresh = TRUE, \n",
      "    spp_names = TRUE)\n",
      "\n",
      "Of 83028 species pair combinations, 71889 pairs (86.58 %) were removed from the analysis because expected co-occurrence was < 1 and 11139 pairs were analyzed\n",
      "\n",
      "Cooccurrence Summary:\n",
      "Call:\n",
      "...future.FUN(mat = ...future.X_jj, type = \"spp_site\", thresh = TRUE, \n",
      "    spp_names = TRUE)\n",
      "\n",
      "Of 83028 species pair combinations, 77566 pairs (93.42 %) were removed from the analysis because expected co-occurrence was < 1 and 5462 pairs were analyzed\n",
      "\n",
      "Cooccurrence Summary:\n",
      "Call:\n",
      "...future.FUN(mat = ...future.X_jj, type = \"spp_site\", thresh = TRUE, \n",
      "    spp_names = TRUE)\n",
      "\n",
      "Of 83028 species pair combinations, 70775 pairs (85.24 %) were removed from the analysis because expected co-occurrence was < 1 and 12253 pairs were analyzed\n",
      "\n",
      "Cooccurrence Summary:\n",
      "Call:\n",
      "...future.FUN(mat = ...future.X_jj, type = \"spp_site\", thresh = TRUE, \n",
      "    spp_names = TRUE)\n",
      "\n",
      "Of 83028 species pair combinations, 75709 pairs (91.18 %) were removed from the analysis because expected co-occurrence was < 1 and 7319 pairs were analyzed\n",
      "\n",
      "Cooccurrence Summary:\n",
      "Call:\n",
      "...future.FUN(mat = ...future.X_jj, type = \"spp_site\", thresh = TRUE, \n",
      "    spp_names = TRUE)\n",
      "\n",
      "Of 83028 species pair combinations, 69735 pairs (83.99 %) were removed from the analysis because expected co-occurrence was < 1 and 13293 pairs were analyzed\n",
      "\n",
      "Cooccurrence Summary:\n",
      "Call:\n",
      "...future.FUN(mat = ...future.X_jj, type = \"spp_site\", thresh = TRUE, \n",
      "    spp_names = TRUE)\n",
      "\n",
      "Of 83028 species pair combinations, 76372 pairs (91.98 %) were removed from the analysis because expected co-occurrence was < 1 and 6656 pairs were analyzed\n",
      "\n",
      "Cooccurrence Summary:\n",
      "Call:\n",
      "...future.FUN(mat = ...future.X_jj, type = \"spp_site\", thresh = TRUE, \n",
      "    spp_names = TRUE)\n",
      "\n",
      "Of 83028 species pair combinations, 78320 pairs (94.33 %) were removed from the analysis because expected co-occurrence was < 1 and 4708 pairs were analyzed\n",
      "\n",
      "Cooccurrence Summary:\n",
      "Call:\n",
      "...future.FUN(mat = ...future.X_jj, type = \"spp_site\", thresh = TRUE, \n",
      "    spp_names = TRUE)\n",
      "\n",
      "Of 83028 species pair combinations, 77108 pairs (92.87 %) were removed from the analysis because expected co-occurrence was < 1 and 5920 pairs were analyzed\n",
      "\n",
      "Cooccurrence Summary:\n",
      "Call:\n",
      "...future.FUN(mat = ...future.X_jj, type = \"spp_site\", thresh = TRUE, \n",
      "    spp_names = TRUE)\n",
      "\n",
      "Of 83028 species pair combinations, 73816 pairs (88.9 %) were removed from the analysis because expected co-occurrence was < 1 and 9212 pairs were analyzed\n",
      "\n",
      "Cooccurrence Summary:\n",
      "Call:\n",
      "...future.FUN(mat = ...future.X_jj, type = \"spp_site\", thresh = TRUE, \n",
      "    spp_names = TRUE)\n",
      "\n",
      "Of 83028 species pair combinations, 76139 pairs (91.7 %) were removed from the analysis because expected co-occurrence was < 1 and 6889 pairs were analyzed\n",
      "\n",
      "Cooccurrence Summary:\n",
      "Call:\n",
      "...future.FUN(mat = ...future.X_jj, type = \"spp_site\", thresh = TRUE, \n",
      "    spp_names = TRUE)\n",
      "\n",
      "Of 83028 species pair combinations, 74789 pairs (90.08 %) were removed from the analysis because expected co-occurrence was < 1 and 8239 pairs were analyzed\n",
      "\n",
      "Cooccurrence Summary:\n",
      "Call:\n",
      "...future.FUN(mat = ...future.X_jj, type = \"spp_site\", thresh = TRUE, \n",
      "    spp_names = TRUE)\n",
      "\n",
      "Of 83028 species pair combinations, 77986 pairs (93.93 %) were removed from the analysis because expected co-occurrence was < 1 and 5042 pairs were analyzed\n",
      "\n",
      "Cooccurrence Summary:\n",
      "Call:\n",
      "...future.FUN(mat = ...future.X_jj, type = \"spp_site\", thresh = TRUE, \n",
      "    spp_names = TRUE)\n",
      "\n",
      "Of 83028 species pair combinations, 76456 pairs (92.08 %) were removed from the analysis because expected co-occurrence was < 1 and 6572 pairs were analyzed\n",
      "\n",
      "Cooccurrence Summary:\n",
      "Call:\n",
      "...future.FUN(mat = ...future.X_jj, type = \"spp_site\", thresh = TRUE, \n",
      "    spp_names = TRUE)\n",
      "\n",
      "Of 83028 species pair combinations, 75145 pairs (90.51 %) were removed from the analysis because expected co-occurrence was < 1 and 7883 pairs were analyzed\n",
      "\n",
      "Cooccurrence Summary:\n",
      "Call:\n",
      "...future.FUN(mat = ...future.X_jj, type = \"spp_site\", thresh = TRUE, \n",
      "    spp_names = TRUE)\n",
      "\n",
      "Of 83028 species pair combinations, 77748 pairs (93.64 %) were removed from the analysis because expected co-occurrence was < 1 and 5280 pairs were analyzed\n",
      "\n",
      "Cooccurrence Summary:\n",
      "Call:\n",
      "...future.FUN(mat = ...future.X_jj, type = \"spp_site\", thresh = TRUE, \n",
      "    spp_names = TRUE)\n",
      "\n",
      "Of 83028 species pair combinations, 70501 pairs (84.91 %) were removed from the analysis because expected co-occurrence was < 1 and 12527 pairs were analyzed\n",
      "\n",
      "Cooccurrence Summary:\n",
      "Call:\n",
      "...future.FUN(mat = ...future.X_jj, type = \"spp_site\", thresh = TRUE, \n",
      "    spp_names = TRUE)\n",
      "\n",
      "Of 83028 species pair combinations, 74497 pairs (89.73 %) were removed from the analysis because expected co-occurrence was < 1 and 8531 pairs were analyzed\n",
      "\n",
      "Cooccurrence Summary:\n",
      "Call:\n",
      "...future.FUN(mat = ...future.X_jj, type = \"spp_site\", thresh = TRUE, \n",
      "    spp_names = TRUE)\n",
      "\n",
      "Of 83028 species pair combinations, 76791 pairs (92.49 %) were removed from the analysis because expected co-occurrence was < 1 and 6237 pairs were analyzed\n",
      "\n",
      "Cooccurrence Summary:\n",
      "Call:\n",
      "...future.FUN(mat = ...future.X_jj, type = \"spp_site\", thresh = TRUE, \n",
      "    spp_names = TRUE)\n",
      "\n",
      "Of 83028 species pair combinations, 78349 pairs (94.36 %) were removed from the analysis because expected co-occurrence was < 1 and 4679 pairs were analyzed\n",
      "\n",
      "Cooccurrence Summary:\n",
      "Call:\n",
      "...future.FUN(mat = ...future.X_jj, type = \"spp_site\", thresh = TRUE, \n",
      "    spp_names = TRUE)\n",
      "\n",
      "Of 83028 species pair combinations, 77955 pairs (93.89 %) were removed from the analysis because expected co-occurrence was < 1 and 5073 pairs were analyzed\n",
      "\n",
      "Cooccurrence Summary:\n",
      "Call:\n",
      "...future.FUN(mat = ...future.X_jj, type = \"spp_site\", thresh = TRUE, \n",
      "    spp_names = TRUE)\n",
      "\n",
      "Of 83028 species pair combinations, 76653 pairs (92.32 %) were removed from the analysis because expected co-occurrence was < 1 and 6375 pairs were analyzed\n",
      "\n",
      "Cooccurrence Summary:\n",
      "Call:\n",
      "...future.FUN(mat = ...future.X_jj, type = \"spp_site\", thresh = TRUE, \n",
      "    spp_names = TRUE)\n",
      "\n",
      "Of 83028 species pair combinations, 73745 pairs (88.82 %) were removed from the analysis because expected co-occurrence was < 1 and 9283 pairs were analyzed\n",
      "\n",
      "Cooccurrence Summary:\n",
      "Call:\n",
      "...future.FUN(mat = ...future.X_jj, type = \"spp_site\", thresh = TRUE, \n",
      "    spp_names = TRUE)\n",
      "\n",
      "Of 83028 species pair combinations, 77973 pairs (93.91 %) were removed from the analysis because expected co-occurrence was < 1 and 5055 pairs were analyzed\n",
      "\n",
      "Cooccurrence Summary:\n",
      "Call:\n",
      "...future.FUN(mat = ...future.X_jj, type = \"spp_site\", thresh = TRUE, \n",
      "    spp_names = TRUE)\n",
      "\n",
      "Of 83028 species pair combinations, 74330 pairs (89.52 %) were removed from the analysis because expected co-occurrence was < 1 and 8698 pairs were analyzed\n",
      "\n",
      "Cooccurrence Summary:\n",
      "Call:\n",
      "...future.FUN(mat = ...future.X_jj, type = \"spp_site\", thresh = TRUE, \n",
      "    spp_names = TRUE)\n",
      "\n",
      "Of 83028 species pair combinations, 66478 pairs (80.07 %) were removed from the analysis because expected co-occurrence was < 1 and 16550 pairs were analyzed\n",
      "\n",
      "Cooccurrence Summary:\n",
      "Call:\n",
      "...future.FUN(mat = ...future.X_jj, type = \"spp_site\", thresh = TRUE, \n",
      "    spp_names = TRUE)\n",
      "\n",
      "Of 83028 species pair combinations, 72089 pairs (86.82 %) were removed from the analysis because expected co-occurrence was < 1 and 10939 pairs were analyzed\n",
      "\n",
      "Cooccurrence Summary:\n",
      "Call:\n",
      "...future.FUN(mat = ...future.X_jj, type = \"spp_site\", thresh = TRUE, \n",
      "    spp_names = TRUE)\n",
      "\n",
      "Of 83028 species pair combinations, 70718 pairs (85.17 %) were removed from the analysis because expected co-occurrence was < 1 and 12310 pairs were analyzed\n",
      "\n",
      "Cooccurrence Summary:\n",
      "Call:\n",
      "...future.FUN(mat = ...future.X_jj, type = \"spp_site\", thresh = TRUE, \n",
      "    spp_names = TRUE)\n",
      "\n",
      "Of 83028 species pair combinations, 72875 pairs (87.77 %) were removed from the analysis because expected co-occurrence was < 1 and 10153 pairs were analyzed\n",
      "\n",
      "Cooccurrence Summary:\n",
      "Call:\n",
      "...future.FUN(mat = ...future.X_jj, type = \"spp_site\", thresh = TRUE, \n",
      "    spp_names = TRUE)\n",
      "\n",
      "Of 83028 species pair combinations, 75146 pairs (90.51 %) were removed from the analysis because expected co-occurrence was < 1 and 7882 pairs were analyzed\n",
      "\n",
      "Cooccurrence Summary:\n",
      "Call:\n",
      "...future.FUN(mat = ...future.X_jj, type = \"spp_site\", thresh = TRUE, \n",
      "    spp_names = TRUE)\n",
      "\n",
      "Of 83028 species pair combinations, 75932 pairs (91.45 %) were removed from the analysis because expected co-occurrence was < 1 and 7096 pairs were analyzed\n",
      "\n",
      "Cooccurrence Summary:\n",
      "Call:\n",
      "...future.FUN(mat = ...future.X_jj, type = \"spp_site\", thresh = TRUE, \n",
      "    spp_names = TRUE)\n",
      "\n",
      "Of 83028 species pair combinations, 76883 pairs (92.6 %) were removed from the analysis because expected co-occurrence was < 1 and 6145 pairs were analyzed\n",
      "\n",
      "Cooccurrence Summary:\n",
      "Call:\n",
      "...future.FUN(mat = ...future.X_jj, type = \"spp_site\", thresh = TRUE, \n",
      "    spp_names = TRUE)\n",
      "\n",
      "Of 83028 species pair combinations, 71292 pairs (85.87 %) were removed from the analysis because expected co-occurrence was < 1 and 11736 pairs were analyzed\n",
      "\n",
      "Cooccurrence Summary:\n",
      "Call:\n",
      "...future.FUN(mat = ...future.X_jj, type = \"spp_site\", thresh = TRUE, \n",
      "    spp_names = TRUE)\n",
      "\n",
      "Of 83028 species pair combinations, 75312 pairs (90.71 %) were removed from the analysis because expected co-occurrence was < 1 and 7716 pairs were analyzed\n",
      "\n",
      "Cooccurrence Summary:\n",
      "Call:\n",
      "...future.FUN(mat = ...future.X_jj, type = \"spp_site\", thresh = TRUE, \n",
      "    spp_names = TRUE)\n",
      "\n",
      "Of 83028 species pair combinations, 69252 pairs (83.41 %) were removed from the analysis because expected co-occurrence was < 1 and 13776 pairs were analyzed\n",
      "\n",
      "Cooccurrence Summary:\n",
      "Call:\n",
      "...future.FUN(mat = ...future.X_jj, type = \"spp_site\", thresh = TRUE, \n",
      "    spp_names = TRUE)\n",
      "\n",
      "Of 83028 species pair combinations, 71643 pairs (86.29 %) were removed from the analysis because expected co-occurrence was < 1 and 11385 pairs were analyzed\n",
      "\n",
      "Cooccurrence Summary:\n",
      "Call:\n",
      "...future.FUN(mat = ...future.X_jj, type = \"spp_site\", thresh = TRUE, \n",
      "    spp_names = TRUE)\n",
      "\n",
      "Of 83028 species pair combinations, 74534 pairs (89.77 %) were removed from the analysis because expected co-occurrence was < 1 and 8494 pairs were analyzed\n",
      "\n",
      "Cooccurrence Summary:\n",
      "Call:\n",
      "...future.FUN(mat = ...future.X_jj, type = \"spp_site\", thresh = TRUE, \n",
      "    spp_names = TRUE)\n",
      "\n",
      "Of 83028 species pair combinations, 73671 pairs (88.73 %) were removed from the analysis because expected co-occurrence was < 1 and 9357 pairs were analyzed\n",
      "\n",
      "Cooccurrence Summary:\n",
      "Call:\n",
      "...future.FUN(mat = ...future.X_jj, type = \"spp_site\", thresh = TRUE, \n",
      "    spp_names = TRUE)\n",
      "\n",
      "Of 83028 species pair combinations, 73795 pairs (88.88 %) were removed from the analysis because expected co-occurrence was < 1 and 9233 pairs were analyzed\n",
      "\n",
      "Cooccurrence Summary:\n",
      "Call:\n",
      "...future.FUN(mat = ...future.X_jj, type = \"spp_site\", thresh = TRUE, \n",
      "    spp_names = TRUE)\n",
      "\n",
      "Of 83028 species pair combinations, 72499 pairs (87.32 %) were removed from the analysis because expected co-occurrence was < 1 and 10529 pairs were analyzed\n",
      "\n",
      "Cooccurrence Summary:\n",
      "Call:\n",
      "...future.FUN(mat = ...future.X_jj, type = \"spp_site\", thresh = TRUE, \n",
      "    spp_names = TRUE)\n",
      "\n",
      "Of 83028 species pair combinations, 75517 pairs (90.95 %) were removed from the analysis because expected co-occurrence was < 1 and 7511 pairs were analyzed\n",
      "\n",
      "Cooccurrence Summary:\n",
      "Call:\n",
      "...future.FUN(mat = ...future.X_jj, type = \"spp_site\", thresh = TRUE, \n",
      "    spp_names = TRUE)\n",
      "\n",
      "Of 83028 species pair combinations, 76076 pairs (91.63 %) were removed from the analysis because expected co-occurrence was < 1 and 6952 pairs were analyzed\n",
      "\n",
      "Cooccurrence Summary:\n",
      "Call:\n",
      "...future.FUN(mat = ...future.X_jj, type = \"spp_site\", thresh = TRUE, \n",
      "    spp_names = TRUE)\n",
      "\n",
      "Of 83028 species pair combinations, 72749 pairs (87.62 %) were removed from the analysis because expected co-occurrence was < 1 and 10279 pairs were analyzed\n",
      "\n",
      "Cooccurrence Summary:\n",
      "Call:\n",
      "...future.FUN(mat = ...future.X_jj, type = \"spp_site\", thresh = TRUE, \n",
      "    spp_names = TRUE)\n",
      "\n",
      "Of 83028 species pair combinations, 77590 pairs (93.45 %) were removed from the analysis because expected co-occurrence was < 1 and 5438 pairs were analyzed\n",
      "\n",
      "Cooccurrence Summary:\n",
      "Call:\n",
      "...future.FUN(mat = ...future.X_jj, type = \"spp_site\", thresh = TRUE, \n",
      "    spp_names = TRUE)\n",
      "\n",
      "Of 83028 species pair combinations, 76352 pairs (91.96 %) were removed from the analysis because expected co-occurrence was < 1 and 6676 pairs were analyzed\n",
      "\n",
      "Cooccurrence Summary:\n",
      "Call:\n",
      "...future.FUN(mat = ...future.X_jj, type = \"spp_site\", thresh = TRUE, \n",
      "    spp_names = TRUE)\n",
      "\n",
      "Of 83028 species pair combinations, 74997 pairs (90.33 %) were removed from the analysis because expected co-occurrence was < 1 and 8031 pairs were analyzed\n",
      "\n",
      "Cooccurrence Summary:\n",
      "Call:\n",
      "...future.FUN(mat = ...future.X_jj, type = \"spp_site\", thresh = TRUE, \n",
      "    spp_names = TRUE)\n",
      "\n",
      "Of 83028 species pair combinations, 77216 pairs (93 %) were removed from the analysis because expected co-occurrence was < 1 and 5812 pairs were analyzed\n",
      "\n",
      "Cooccurrence Summary:\n",
      "Call:\n",
      "...future.FUN(mat = ...future.X_jj, type = \"spp_site\", thresh = TRUE, \n",
      "    spp_names = TRUE)\n",
      "\n",
      "Of 83028 species pair combinations, 75548 pairs (90.99 %) were removed from the analysis because expected co-occurrence was < 1 and 7480 pairs were analyzed\n",
      "\n",
      "Cooccurrence Summary:\n",
      "Call:\n",
      "...future.FUN(mat = ...future.X_jj, type = \"spp_site\", thresh = TRUE, \n",
      "    spp_names = TRUE)\n",
      "\n",
      "Of 83028 species pair combinations, 75928 pairs (91.45 %) were removed from the analysis because expected co-occurrence was < 1 and 7100 pairs were analyzed\n",
      "\n",
      "Cooccurrence Summary:\n",
      "Call:\n",
      "...future.FUN(mat = ...future.X_jj, type = \"spp_site\", thresh = TRUE, \n",
      "    spp_names = TRUE)\n",
      "\n",
      "Of 83028 species pair combinations, 76324 pairs (91.93 %) were removed from the analysis because expected co-occurrence was < 1 and 6704 pairs were analyzed\n",
      "\n",
      "Cooccurrence Summary:\n",
      "Call:\n",
      "...future.FUN(mat = ...future.X_jj, type = \"spp_site\", thresh = TRUE, \n",
      "    spp_names = TRUE)\n",
      "\n",
      "Of 83028 species pair combinations, 75122 pairs (90.48 %) were removed from the analysis because expected co-occurrence was < 1 and 7906 pairs were analyzed\n",
      "\n",
      "Cooccurrence Summary:\n",
      "Call:\n",
      "...future.FUN(mat = ...future.X_jj, type = \"spp_site\", thresh = TRUE, \n",
      "    spp_names = TRUE)\n",
      "\n",
      "Of 83028 species pair combinations, 76931 pairs (92.66 %) were removed from the analysis because expected co-occurrence was < 1 and 6097 pairs were analyzed\n",
      "\n",
      "Cooccurrence Summary:\n",
      "Call:\n",
      "...future.FUN(mat = ...future.X_jj, type = \"spp_site\", thresh = TRUE, \n",
      "    spp_names = TRUE)\n",
      "\n",
      "Of 83028 species pair combinations, 74705 pairs (89.98 %) were removed from the analysis because expected co-occurrence was < 1 and 8323 pairs were analyzed\n",
      "\n",
      "Cooccurrence Summary:\n",
      "Call:\n",
      "...future.FUN(mat = ...future.X_jj, type = \"spp_site\", thresh = TRUE, \n",
      "    spp_names = TRUE)\n",
      "\n",
      "Of 83028 species pair combinations, 74897 pairs (90.21 %) were removed from the analysis because expected co-occurrence was < 1 and 8131 pairs were analyzed\n",
      "\n",
      "Cooccurrence Summary:\n",
      "Call:\n",
      "...future.FUN(mat = ...future.X_jj, type = \"spp_site\", thresh = TRUE, \n",
      "    spp_names = TRUE)\n",
      "\n",
      "Of 83028 species pair combinations, 75306 pairs (90.7 %) were removed from the analysis because expected co-occurrence was < 1 and 7722 pairs were analyzed\n",
      "\n",
      "Cooccurrence Summary:\n",
      "Call:\n",
      "...future.FUN(mat = ...future.X_jj, type = \"spp_site\", thresh = TRUE, \n",
      "    spp_names = TRUE)\n",
      "\n",
      "Of 83028 species pair combinations, 78660 pairs (94.74 %) were removed from the analysis because expected co-occurrence was < 1 and 4368 pairs were analyzed\n",
      "\n",
      "Cooccurrence Summary:\n",
      "Call:\n",
      "...future.FUN(mat = ...future.X_jj, type = \"spp_site\", thresh = TRUE, \n",
      "    spp_names = TRUE)\n",
      "\n",
      "Of 83028 species pair combinations, 70343 pairs (84.72 %) were removed from the analysis because expected co-occurrence was < 1 and 12685 pairs were analyzed\n",
      "\n",
      "Cooccurrence Summary:\n",
      "Call:\n",
      "...future.FUN(mat = ...future.X_jj, type = \"spp_site\", thresh = TRUE, \n",
      "    spp_names = TRUE)\n",
      "\n",
      "Of 83028 species pair combinations, 76177 pairs (91.75 %) were removed from the analysis because expected co-occurrence was < 1 and 6851 pairs were analyzed\n",
      "\n",
      "Cooccurrence Summary:\n",
      "Call:\n",
      "...future.FUN(mat = ...future.X_jj, type = \"spp_site\", thresh = TRUE, \n",
      "    spp_names = TRUE)\n",
      "\n",
      "Of 83028 species pair combinations, 76000 pairs (91.54 %) were removed from the analysis because expected co-occurrence was < 1 and 7028 pairs were analyzed\n",
      "\n",
      "Cooccurrence Summary:\n",
      "Call:\n",
      "...future.FUN(mat = ...future.X_jj, type = \"spp_site\", thresh = TRUE, \n",
      "    spp_names = TRUE)\n",
      "\n",
      "Of 83028 species pair combinations, 77612 pairs (93.48 %) were removed from the analysis because expected co-occurrence was < 1 and 5416 pairs were analyzed\n",
      "\n",
      "Cooccurrence Summary:\n",
      "Call:\n",
      "...future.FUN(mat = ...future.X_jj, type = \"spp_site\", thresh = TRUE, \n",
      "    spp_names = TRUE)\n",
      "\n",
      "Of 83028 species pair combinations, 74526 pairs (89.76 %) were removed from the analysis because expected co-occurrence was < 1 and 8502 pairs were analyzed\n",
      "\n",
      "Cooccurrence Summary:\n",
      "Call:\n",
      "...future.FUN(mat = ...future.X_jj, type = \"spp_site\", thresh = TRUE, \n",
      "    spp_names = TRUE)\n",
      "\n",
      "Of 83028 species pair combinations, 79494 pairs (95.74 %) were removed from the analysis because expected co-occurrence was < 1 and 3534 pairs were analyzed\n",
      "\n",
      "Cooccurrence Summary:\n",
      "Call:\n",
      "...future.FUN(mat = ...future.X_jj, type = \"spp_site\", thresh = TRUE, \n",
      "    spp_names = TRUE)\n",
      "\n",
      "Of 83028 specie"
     ]
    },
    {
     "data": {
      "text/html": [
       "<b>limit_output extension: Maximum message size of 20000 exceeded with 28007 characters</b>"
      ]
     },
     "metadata": {},
     "output_type": "display_data"
    }
   ],
   "source": [
    "cooccur_res_s = lapply(cooccur_res, summary_all) %>% \n",
    "    do.call(rbind, .) %>%\n",
    "    as.data.frame"
   ]
  },
  {
   "cell_type": "code",
   "execution_count": 36,
   "metadata": {
    "ExecuteTime": {
     "end_time": "2018-08-09T11:56:48.053783Z",
     "start_time": "2018-08-09T11:56:58.360Z"
    }
   },
   "outputs": [
    {
     "data": {
      "image/png": "[encoded data removed]",
      "text/plain": [
       "plot without title"
      ]
     },
     "metadata": {},
     "output_type": "display_data"
    }
   ],
   "source": [
    "cooccur_res_s$rep = 1:nrow(cooccur_res_s)\n",
    "cooccur_res_s = cooccur_res_s %>%\n",
    "    gather(variable, value, -rep) %>%\n",
    "    mutate(value = value %>% as.Num)\n",
    "\n",
    "p = ggplot(cooccur_res_s, aes(variable, value)) +\n",
    "    geom_boxplot() +\n",
    "    labs(x='Sign', y='Number of edges') +\n",
    "    theme_bw()\n",
    "\n",
    "options(repr.plot.width=5, repr.plot.height=2.5)\n",
    "plot(p)"
   ]
  },
  {
   "cell_type": "markdown",
   "metadata": {},
   "source": [
    "# Summarizing results"
   ]
  },
  {
   "cell_type": "markdown",
   "metadata": {},
   "source": [
    "## Formatting"
   ]
  },
  {
   "cell_type": "markdown",
   "metadata": {},
   "source": [
    "### effect sizes"
   ]
  },
  {
   "cell_type": "code",
   "execution_count": 37,
   "metadata": {
    "ExecuteTime": {
     "end_time": "2018-08-09T11:56:57.879827Z",
     "start_time": "2018-08-09T11:57:12.183Z"
    }
   },
   "outputs": [
    {
     "data": {
      "text/html": [
       "'/ebio/abt3_projects/Georg_animal_feces/data/assembly/cooccur//IndD-sens_OTU-cooccur_effectSizes.RDS'"
      ],
      "text/latex": [
       "'/ebio/abt3\\_projects/Georg\\_animal\\_feces/data/assembly/cooccur//IndD-sens\\_OTU-cooccur\\_effectSizes.RDS'"
      ],
      "text/markdown": [
       "'/ebio/abt3_projects/Georg_animal_feces/data/assembly/cooccur//IndD-sens_OTU-cooccur_effectSizes.RDS'"
      ],
      "text/plain": [
       "[1] \"/ebio/abt3_projects/Georg_animal_feces/data/assembly/cooccur//IndD-sens_OTU-cooccur_effectSizes.RDS\""
      ]
     },
     "metadata": {},
     "output_type": "display_data"
    }
   ],
   "source": [
    "# output file name\n",
    "effect_size_file = file.path(work_dir, 'IndD-sens_OTU-cooccur_effectSizes.RDS')\n",
    "effect_size_file"
   ]
  },
  {
   "cell_type": "code",
   "execution_count": 44,
   "metadata": {
    "ExecuteTime": {
     "end_time": "2018-08-09T11:57:59.937613Z",
     "start_time": "2018-08-09T11:58:14.231Z"
    }
   },
   "outputs": [],
   "source": [
    "# cluster resources\n",
    "resources = list(h_rt = '24:00:00',\n",
    "                 h_vmem = '20G',\n",
    "                 threads = '1',\n",
    "                 conda.env = \"py3_physeq_eco\",\n",
    "                 conda.path = \"/ebio/abt3_projects/software/miniconda3_gt4.4/bin\")\n",
    "plan(batchtools_sge, resources=resources)\n"
   ]
  },
  {
   "cell_type": "code",
   "execution_count": 65,
   "metadata": {
    "ExecuteTime": {
     "end_time": "2018-08-09T12:11:51.886988Z",
     "start_time": "2018-08-09T12:12:05.782Z"
    }
   },
   "outputs": [
    {
     "data": {
      "text/html": [
       "'list'"
      ],
      "text/latex": [
       "'list'"
      ],
      "text/markdown": [
       "'list'"
      ],
      "text/plain": [
       "[1] \"list\""
      ]
     },
     "metadata": {},
     "output_type": "display_data"
    }
   ],
   "source": [
    "# getting globals (needed because \"cooccur_res\" is a list of cooccur objects)\n",
    "globals_X = lapply(cooccur_res, FUN = getGlobalsAndPackages)\n",
    "names(globals_X) = gsub('^', 'ID', 1:length(globals_X))\n",
    "globals_X %>% class"
   ]
  },
  {
   "cell_type": "code",
   "execution_count": 66,
   "metadata": {
    "ExecuteTime": {
     "end_time": "2018-08-09T12:36:54.583819Z",
     "start_time": "2018-08-09T12:12:08.119Z"
    }
   },
   "outputs": [
    {
     "name": "stderr",
     "output_type": "stream",
     "text": [
      "Warning message in delete.BatchtoolsFuture(future, onRunning = \"skip\", onMissing = \"ignore\", :\n",
      "“Will not remove batchtools registry, because the status of the batchtools was ‘error’ and option 'future.delete' is FALSE or running in an interactive session: ‘/ebio/abt3_projects/Georg_animal_feces/notebooks/16S/5_assembly/cooccur/.future/20180809_100209-jGmOuL/batchtools_625787374’”Warning message in delete.BatchtoolsFuture(future, onRunning = \"skip\", onMissing = \"ignore\", :\n",
      "“Will not remove batchtools registry, because the status of the batchtools was ‘error’ and option 'future.delete' is FALSE or running in an interactive session: ‘/ebio/abt3_projects/Georg_animal_feces/notebooks/16S/5_assembly/cooccur/.future/20180809_100209-jGmOuL/batchtools_2065825056’”Warning message in delete.BatchtoolsFuture(future, onRunning = \"skip\", onMissing = \"ignore\", :\n",
      "“Will not remove batchtools registry, because the status of the batchtools was ‘error’ and option 'future.delete' is FALSE or running in an interactive session: ‘/ebio/abt3_projects/Georg_animal_feces/notebooks/16S/5_assembly/cooccur/.future/20180809_100209-jGmOuL/batchtools_806453092’”"
     ]
    },
    {
     "data": {
      "text/html": [
       "100"
      ],
      "text/latex": [
       "100"
      ],
      "text/markdown": [
       "100"
      ],
      "text/plain": [
       "[1] 100"
      ]
     },
     "metadata": {},
     "output_type": "display_data"
    }
   ],
   "source": [
    "# Running cluster jobs\n",
    "## WARNING: SLOW\n",
    "#cooccur_res\n",
    "cooccur_res_es = future_lapply(cooccur_res, \n",
    "                               FUN=effect.sizes,\n",
    "                               future.globals=globals_X,\n",
    "                               future.packages=c('cooccur'))\n",
    "\n",
    "cooccur_res_es %>% length"
   ]
  },
  {
   "cell_type": "markdown",
   "metadata": {},
   "source": [
    "#### Saving results"
   ]
  },
  {
   "cell_type": "code",
   "execution_count": 67,
   "metadata": {
    "ExecuteTime": {
     "end_time": "2018-08-09T12:36:56.211090Z",
     "start_time": "2018-08-09T12:14:26.646Z"
    }
   },
   "outputs": [
    {
     "name": "stdout",
     "output_type": "stream",
     "text": [
      "File written: /ebio/abt3_projects/Georg_animal_feces/data/assembly/cooccur//IndD-sens_OTU-cooccur_effectSizes.RDS \n"
     ]
    }
   ],
   "source": [
    "# saving\n",
    "saveRDS(cooccur_res_es, file=effect_size_file)\n",
    "cat('File written:', effect_size_file, '\\n')"
   ]
  },
  {
   "cell_type": "code",
   "execution_count": 68,
   "metadata": {
    "ExecuteTime": {
     "end_time": "2018-08-09T12:36:56.557909Z",
     "start_time": "2018-08-09T12:14:26.768Z"
    }
   },
   "outputs": [
    {
     "data": {
      "text/html": [
       "100"
      ],
      "text/latex": [
       "100"
      ],
      "text/markdown": [
       "100"
      ],
      "text/plain": [
       "[1] 100"
      ]
     },
     "metadata": {},
     "output_type": "display_data"
    }
   ],
   "source": [
    "# loading\n",
    "cooccur_res_es = readRDS(effect_size_file)\n",
    "cooccur_res_es %>% length"
   ]
  },
  {
   "cell_type": "code",
   "execution_count": 69,
   "metadata": {
    "ExecuteTime": {
     "end_time": "2018-08-09T12:36:57.660173Z",
     "start_time": "2018-08-09T12:14:26.912Z"
    }
   },
   "outputs": [],
   "source": [
    "send_email('http://127.0.0.1:9705/notebooks/notebooks/16S/5_assembly/cooccur/02_IndD-sens_OTU-binom.ipynb')"
   ]
  },
  {
   "cell_type": "markdown",
   "metadata": {},
   "source": [
    "#### Formatting"
   ]
  },
  {
   "cell_type": "code",
   "execution_count": 70,
   "metadata": {
    "ExecuteTime": {
     "end_time": "2018-08-09T12:53:24.702276Z",
     "start_time": "2018-08-09T12:53:37.368Z"
    }
   },
   "outputs": [
    {
     "data": {
      "text/plain": [
       "   Min. 1st Qu.  Median    Mean 3rd Qu.    Max. \n",
       "   1.00    2.00   11.00   29.28   50.00  100.00 "
      ]
     },
     "metadata": {},
     "output_type": "display_data"
    }
   ],
   "source": [
    "# number of datset reps where the edge occurs\n",
    "do.call(rbind, cooccur_res_es) %>%\n",
    "    group_by(sp1, sp2) %>%\n",
    "    summarize(n = n()) %>%\n",
    "    ungroup() %>%\n",
    "    .$n %>% summary"
   ]
  },
  {
   "cell_type": "code",
   "execution_count": 71,
   "metadata": {
    "ExecuteTime": {
     "end_time": "2018-08-09T12:53:26.570267Z",
     "start_time": "2018-08-09T12:53:39.030Z"
    }
   },
   "outputs": [
    {
     "name": "stdout",
     "output_type": "stream",
     "text": [
      "[1] 26848     4\n"
     ]
    },
    {
     "data": {
      "text/html": [
       "<table>\n",
       "<thead><tr><th scope=col>sp1</th><th scope=col>sp2</th><th scope=col>sd_effects</th><th scope=col>effects</th></tr></thead>\n",
       "<tbody>\n",
       "\t<tr><td>368bd5c2255f3a5ce0fef06ca6de1d04</td><td>13fabb2c42c260bd77b4358f429eba6c</td><td>0.001776308                     </td><td> 0.002257812                    </td></tr>\n",
       "\t<tr><td>368bd5c2255f3a5ce0fef06ca6de1d04</td><td>bfc2bdf08b075d249213e99de23e532c</td><td>0.002800374                     </td><td>-0.023750000                    </td></tr>\n",
       "\t<tr><td>368bd5c2255f3a5ce0fef06ca6de1d04</td><td>ab6bc0116bcfefcbeb981d83cd525034</td><td>0.001939012                     </td><td>-0.017218750                    </td></tr>\n",
       "</tbody>\n",
       "</table>\n"
      ],
      "text/latex": [
       "\\begin{tabular}{r|llll}\n",
       " sp1 & sp2 & sd\\_effects & effects\\\\\n",
       "\\hline\n",
       "\t 368bd5c2255f3a5ce0fef06ca6de1d04 & 13fabb2c42c260bd77b4358f429eba6c & 0.001776308                      &  0.002257812                    \\\\\n",
       "\t 368bd5c2255f3a5ce0fef06ca6de1d04 & bfc2bdf08b075d249213e99de23e532c & 0.002800374                      & -0.023750000                    \\\\\n",
       "\t 368bd5c2255f3a5ce0fef06ca6de1d04 & ab6bc0116bcfefcbeb981d83cd525034 & 0.001939012                      & -0.017218750                    \\\\\n",
       "\\end{tabular}\n"
      ],
      "text/markdown": [
       "\n",
       "sp1 | sp2 | sd_effects | effects | \n",
       "|---|---|---|\n",
       "| 368bd5c2255f3a5ce0fef06ca6de1d04 | 13fabb2c42c260bd77b4358f429eba6c | 0.001776308                      |  0.002257812                     | \n",
       "| 368bd5c2255f3a5ce0fef06ca6de1d04 | bfc2bdf08b075d249213e99de23e532c | 0.002800374                      | -0.023750000                     | \n",
       "| 368bd5c2255f3a5ce0fef06ca6de1d04 | ab6bc0116bcfefcbeb981d83cd525034 | 0.001939012                      | -0.017218750                     | \n",
       "\n",
       "\n"
      ],
      "text/plain": [
       "  sp1                              sp2                              sd_effects \n",
       "1 368bd5c2255f3a5ce0fef06ca6de1d04 13fabb2c42c260bd77b4358f429eba6c 0.001776308\n",
       "2 368bd5c2255f3a5ce0fef06ca6de1d04 bfc2bdf08b075d249213e99de23e532c 0.002800374\n",
       "3 368bd5c2255f3a5ce0fef06ca6de1d04 ab6bc0116bcfefcbeb981d83cd525034 0.001939012\n",
       "  effects     \n",
       "1  0.002257812\n",
       "2 -0.023750000\n",
       "3 -0.017218750"
      ]
     },
     "metadata": {},
     "output_type": "display_data"
    }
   ],
   "source": [
    "# adding rep; combining into 1 df; summarizing\n",
    "cooccur_res_es = do.call(rbind, cooccur_res_es) %>%\n",
    "    group_by(sp1, sp2) %>%\n",
    "    summarize(sd_effects = sd(effects, na.rm=TRUE),\n",
    "              effects = mean(effects, na.rm=TRUE)) %>%\n",
    "    ungroup()\n",
    "\n",
    "cooccur_res_es %>% dfhead"
   ]
  },
  {
   "cell_type": "code",
   "execution_count": 72,
   "metadata": {
    "ExecuteTime": {
     "end_time": "2018-08-09T12:53:26.623979Z",
     "start_time": "2018-08-09T12:53:39.206Z"
    }
   },
   "outputs": [
    {
     "name": "stdout",
     "output_type": "stream",
     "text": [
      "     Min.   1st Qu.    Median      Mean   3rd Qu.      Max. \n",
      "-0.100695 -0.008482 -0.006410  0.018860  0.056510  0.097039 \n",
      "   Min. 1st Qu.  Median    Mean 3rd Qu.    Max.    NA's \n",
      "  0.000   0.001   0.001   0.002   0.004   0.016    5015 \n"
     ]
    }
   ],
   "source": [
    "# summary\n",
    "cooccur_res_es$effects %>% summary %>% print\n",
    "cooccur_res_es$sd_effects %>% summary %>% print"
   ]
  },
  {
   "cell_type": "markdown",
   "metadata": {},
   "source": [
    "### Probability table"
   ]
  },
  {
   "cell_type": "code",
   "execution_count": 73,
   "metadata": {
    "ExecuteTime": {
     "end_time": "2018-08-09T12:53:30.457400Z",
     "start_time": "2018-08-09T12:53:44.542Z"
    }
   },
   "outputs": [
    {
     "name": "stderr",
     "output_type": "stream",
     "text": [
      "Warning message in prob.table(x):\n",
      "“The co-occurrence model was run using 'thresh = TRUE.' The probability table may not include all species pairs”Warning message in prob.table(x):\n",
      "“The co-occurrence model was run using 'thresh = TRUE.' The probability table may not include all species pairs”Warning message in prob.table(x):\n",
      "“The co-occurrence model was run using 'thresh = TRUE.' The probability table may not include all species pairs”Warning message in prob.table(x):\n",
      "“The co-occurrence model was run using 'thresh = TRUE.' The probability table may not include all species pairs”Warning message in prob.table(x):\n",
      "“The co-occurrence model was run using 'thresh = TRUE.' The probability table may not include all species pairs”Warning message in prob.table(x):\n",
      "“The co-occurrence model was run using 'thresh = TRUE.' The probability table may not include all species pairs”Warning message in prob.table(x):\n",
      "“The co-occurrence model was run using 'thresh = TRUE.' The probability table may not include all species pairs”Warning message in prob.table(x):\n",
      "“The co-occurrence model was run using 'thresh = TRUE.' The probability table may not include all species pairs”Warning message in prob.table(x):\n",
      "“The co-occurrence model was run using 'thresh = TRUE.' The probability table may not include all species pairs”Warning message in prob.table(x):\n",
      "“The co-occurrence model was run using 'thresh = TRUE.' The probability table may not include all species pairs”Warning message in prob.table(x):\n",
      "“The co-occurrence model was run using 'thresh = TRUE.' The probability table may not include all species pairs”Warning message in prob.table(x):\n",
      "“The co-occurrence model was run using 'thresh = TRUE.' The probability table may not include all species pairs”Warning message in prob.table(x):\n",
      "“The co-occurrence model was run using 'thresh = TRUE.' The probability table may not include all species pairs”Warning message in prob.table(x):\n",
      "“The co-occurrence model was run using 'thresh = TRUE.' The probability table may not include all species pairs”Warning message in prob.table(x):\n",
      "“The co-occurrence model was run using 'thresh = TRUE.' The probability table may not include all species pairs”Warning message in prob.table(x):\n",
      "“The co-occurrence model was run using 'thresh = TRUE.' The probability table may not include all species pairs”Warning message in prob.table(x):\n",
      "“The co-occurrence model was run using 'thresh = TRUE.' The probability table may not include all species pairs”Warning message in prob.table(x):\n",
      "“The co-occurrence model was run using 'thresh = TRUE.' The probability table may not include all species pairs”Warning message in prob.table(x):\n",
      "“The co-occurrence model was run using 'thresh = TRUE.' The probability table may not include all species pairs”Warning message in prob.table(x):\n",
      "“The co-occurrence model was run using 'thresh = TRUE.' The probability table may not include all species pairs”Warning message in prob.table(x):\n",
      "“The co-occurrence model was run using 'thresh = TRUE.' The probability table may not include all species pairs”Warning message in prob.table(x):\n",
      "“The co-occurrence model was run using 'thresh = TRUE.' The probability table may not include all species pairs”Warning message in prob.table(x):\n",
      "“The co-occurrence model was run using 'thresh = TRUE.' The probability table may not include all species pairs”Warning message in prob.table(x):\n",
      "“The co-occurrence model was run using 'thresh = TRUE.' The probability table may not include all species pairs”Warning message in prob.table(x):\n",
      "“The co-occurrence model was run using 'thresh = TRUE.' The probability table may not include all species pairs”Warning message in prob.table(x):\n",
      "“The co-occurrence model was run using 'thresh = TRUE.' The probability table may not include all species pairs”Warning message in prob.table(x):\n",
      "“The co-occurrence model was run using 'thresh = TRUE.' The probability table may not include all species pairs”Warning message in prob.table(x):\n",
      "“The co-occurrence model was run using 'thresh = TRUE.' The probability table may not include all species pairs”Warning message in prob.table(x):\n",
      "“The co-occurrence model was run using 'thresh = TRUE.' The probability table may not include all species pairs”Warning message in prob.table(x):\n",
      "“The co-occurrence model was run using 'thresh = TRUE.' The probability table may not include all species pairs”Warning message in prob.table(x):\n",
      "“The co-occurrence model was run using 'thresh = TRUE.' The probability table may not include all species pairs”Warning message in prob.table(x):\n",
      "“The co-occurrence model was run using 'thresh = TRUE.' The probability table may not include all species pairs”Warning message in prob.table(x):\n",
      "“The co-occurrence model was run using 'thresh = TRUE.' The probability table may not include all species pairs”Warning message in prob.table(x):\n",
      "“The co-occurrence model was run using 'thresh = TRUE.' The probability table may not include all species pairs”Warning message in prob.table(x):\n",
      "“The co-occurrence model was run using 'thresh = TRUE.' The probability table may not include all species pairs”Warning message in prob.table(x):\n",
      "“The co-occurrence model was run using 'thresh = TRUE.' The probability table may not include all species pairs”Warning message in prob.table(x):\n",
      "“The co-occurrence model was run using 'thresh = TRUE.' The probability table may not include all species pairs”Warning message in prob.table(x):\n",
      "“The co-occurrence model was run using 'thresh = TRUE.' The probability table may not include all species pairs”Warning message in prob.table(x):\n",
      "“The co-occurrence model was run using 'thresh = TRUE.' The probability table may not include all species pairs”Warning message in prob.table(x):\n",
      "“The co-occurrence model was run using 'thresh = TRUE.' The probability table may not include all species pairs”Warning message in prob.table(x):\n",
      "“The co-occurrence model was run using 'thresh = TRUE.' The probability table may not include all species pairs”Warning message in prob.table(x):\n",
      "“The co-occurrence model was run using 'thresh = TRUE.' The probability table may not include all species pairs”Warning message in prob.table(x):\n",
      "“The co-occurrence model was run using 'thresh = TRUE.' The probability table may not include all species pairs”Warning message in prob.table(x):\n",
      "“The co-occurrence model was run using 'thresh = TRUE.' The probability table may not include all species pairs”Warning message in prob.table(x):\n",
      "“The co-occurrence model was run using 'thresh = TRUE.' The probability table may not include all species pairs”Warning message in prob.table(x):\n",
      "“The co-occurrence model was run using 'thresh = TRUE.' The probability table may not include all species pairs”Warning message in prob.table(x):\n",
      "“The co-occurrence model was run using 'thresh = TRUE.' The probability table may not include all species pairs”Warning message in prob.table(x):\n",
      "“The co-occurrence model was run using 'thresh = TRUE.' The probability table may not include all species pairs”Warning message in prob.table(x):\n",
      "“The co-occurrence model was run using 'thresh = TRUE.' The probability table may not include all species pairs”Warning message in prob.table(x):\n",
      "“The co-occurrence model was run using 'thresh = TRUE.' The probability table may not include all species pairs”Warning message in prob.table(x):\n",
      "“The co-occurrence model was run using 'thresh = TRUE.' The probability table may not include all species pairs”Warning message in prob.table(x):\n",
      "“The co-occurrence model was run using 'thresh = TRUE.' The probability table may not include all species pairs”Warning message in prob.table(x):\n",
      "“The co-occurrence model was run using 'thresh = TRUE.' The probability table may not include all species pairs”Warning message in prob.table(x):\n",
      "“The co-occurrence model was run using 'thresh = TRUE.' The probability table may not include all species pairs”Warning message in prob.table(x):\n",
      "“The co-occurrence model was run using 'thresh = TRUE.' The probability table may not include all species pairs”Warning message in prob.table(x):\n",
      "“The co-occurrence model was run using 'thresh = TRUE.' The probability table may not include all species pairs”Warning message in prob.table(x):\n"
     ]
    },
    {
     "name": "stderr",
     "output_type": "stream",
     "text": [
      "“The co-occurrence model was run using 'thresh = TRUE.' The probability table may not include all species pairs”Warning message in prob.table(x):\n",
      "“The co-occurrence model was run using 'thresh = TRUE.' The probability table may not include all species pairs”Warning message in prob.table(x):\n",
      "“The co-occurrence model was run using 'thresh = TRUE.' The probability table may not include all species pairs”Warning message in prob.table(x):\n",
      "“The co-occurrence model was run using 'thresh = TRUE.' The probability table may not include all species pairs”Warning message in prob.table(x):\n",
      "“The co-occurrence model was run using 'thresh = TRUE.' The probability table may not include all species pairs”Warning message in prob.table(x):\n",
      "“The co-occurrence model was run using 'thresh = TRUE.' The probability table may not include all species pairs”Warning message in prob.table(x):\n",
      "“The co-occurrence model was run using 'thresh = TRUE.' The probability table may not include all species pairs”Warning message in prob.table(x):\n",
      "“The co-occurrence model was run using 'thresh = TRUE.' The probability table may not include all species pairs”Warning message in prob.table(x):\n",
      "“The co-occurrence model was run using 'thresh = TRUE.' The probability table may not include all species pairs”Warning message in prob.table(x):\n",
      "“The co-occurrence model was run using 'thresh = TRUE.' The probability table may not include all species pairs”Warning message in prob.table(x):\n",
      "“The co-occurrence model was run using 'thresh = TRUE.' The probability table may not include all species pairs”Warning message in prob.table(x):\n",
      "“The co-occurrence model was run using 'thresh = TRUE.' The probability table may not include all species pairs”Warning message in prob.table(x):\n",
      "“The co-occurrence model was run using 'thresh = TRUE.' The probability table may not include all species pairs”Warning message in prob.table(x):\n",
      "“The co-occurrence model was run using 'thresh = TRUE.' The probability table may not include all species pairs”Warning message in prob.table(x):\n",
      "“The co-occurrence model was run using 'thresh = TRUE.' The probability table may not include all species pairs”Warning message in prob.table(x):\n",
      "“The co-occurrence model was run using 'thresh = TRUE.' The probability table may not include all species pairs”Warning message in prob.table(x):\n",
      "“The co-occurrence model was run using 'thresh = TRUE.' The probability table may not include all species pairs”Warning message in prob.table(x):\n",
      "“The co-occurrence model was run using 'thresh = TRUE.' The probability table may not include all species pairs”Warning message in prob.table(x):\n",
      "“The co-occurrence model was run using 'thresh = TRUE.' The probability table may not include all species pairs”Warning message in prob.table(x):\n",
      "“The co-occurrence model was run using 'thresh = TRUE.' The probability table may not include all species pairs”Warning message in prob.table(x):\n",
      "“The co-occurrence model was run using 'thresh = TRUE.' The probability table may not include all species pairs”Warning message in prob.table(x):\n",
      "“The co-occurrence model was run using 'thresh = TRUE.' The probability table may not include all species pairs”Warning message in prob.table(x):\n",
      "“The co-occurrence model was run using 'thresh = TRUE.' The probability table may not include all species pairs”Warning message in prob.table(x):\n",
      "“The co-occurrence model was run using 'thresh = TRUE.' The probability table may not include all species pairs”Warning message in prob.table(x):\n",
      "“The co-occurrence model was run using 'thresh = TRUE.' The probability table may not include all species pairs”Warning message in prob.table(x):\n",
      "“The co-occurrence model was run using 'thresh = TRUE.' The probability table may not include all species pairs”Warning message in prob.table(x):\n",
      "“The co-occurrence model was run using 'thresh = TRUE.' The probability table may not include all species pairs”Warning message in prob.table(x):\n",
      "“The co-occurrence model was run using 'thresh = TRUE.' The probability table may not include all species pairs”Warning message in prob.table(x):\n",
      "“The co-occurrence model was run using 'thresh = TRUE.' The probability table may not include all species pairs”Warning message in prob.table(x):\n",
      "“The co-occurrence model was run using 'thresh = TRUE.' The probability table may not include all species pairs”Warning message in prob.table(x):\n",
      "“The co-occurrence model was run using 'thresh = TRUE.' The probability table may not include all species pairs”Warning message in prob.table(x):\n",
      "“The co-occurrence model was run using 'thresh = TRUE.' The probability table may not include all species pairs”Warning message in prob.table(x):\n",
      "“The co-occurrence model was run using 'thresh = TRUE.' The probability table may not include all species pairs”Warning message in prob.table(x):\n",
      "“The co-occurrence model was run using 'thresh = TRUE.' The probability table may not include all species pairs”Warning message in prob.table(x):\n",
      "“The co-occurrence model was run using 'thresh = TRUE.' The probability table may not include all species pairs”Warning message in prob.table(x):\n",
      "“The co-occurrence model was run using 'thresh = TRUE.' The probability table may not include all species pairs”Warning message in prob.table(x):\n",
      "“The co-occurrence model was run using 'thresh = TRUE.' The probability table may not include all species pairs”Warning message in prob.table(x):\n",
      "“The co-occurrence model was run using 'thresh = TRUE.' The probability table may not include all species pairs”Warning message in prob.table(x):\n",
      "“The co-occurrence model was run using 'thresh = TRUE.' The probability table may not include all species pairs”Warning message in prob.table(x):\n",
      "“The co-occurrence model was run using 'thresh = TRUE.' The probability table may not include all species pairs”Warning message in prob.table(x):\n",
      "“The co-occurrence model was run using 'thresh = TRUE.' The probability table may not include all species pairs”Warning message in prob.table(x):\n",
      "“The co-occurrence model was run using 'thresh = TRUE.' The probability table may not include all species pairs”Warning message in prob.table(x):\n",
      "“The co-occurrence model was run using 'thresh = TRUE.' The probability table may not include all species pairs”Warning message in prob.table(x):\n",
      "“The co-occurrence model was run using 'thresh = TRUE.' The probability table may not include all species pairs”"
     ]
    },
    {
     "data": {
      "text/html": [
       "100"
      ],
      "text/latex": [
       "100"
      ],
      "text/markdown": [
       "100"
      ],
      "text/plain": [
       "[1] 100"
      ]
     },
     "metadata": {},
     "output_type": "display_data"
    }
   ],
   "source": [
    "#' getting prob table\n",
    "cooccur_res_pt = lapply(cooccur_res, function(x) prob.table(x)) \n",
    "cooccur_res_pt %>% length "
   ]
  },
  {
   "cell_type": "code",
   "execution_count": 74,
   "metadata": {
    "ExecuteTime": {
     "end_time": "2018-08-09T12:53:39.323951Z",
     "start_time": "2018-08-09T12:53:49.413Z"
    }
   },
   "outputs": [
    {
     "name": "stdout",
     "output_type": "stream",
     "text": [
      "[1] 786197     12\n"
     ]
    },
    {
     "data": {
      "text/html": [
       "<table>\n",
       "<thead><tr><th scope=col>sp1</th><th scope=col>sp2</th><th scope=col>sp1_inc</th><th scope=col>sp2_inc</th><th scope=col>obs_cooccur</th><th scope=col>prob_cooccur</th><th scope=col>exp_cooccur</th><th scope=col>p_lt</th><th scope=col>p_gt</th><th scope=col>sp1_name</th><th scope=col>sp2_name</th><th scope=col>rep</th></tr></thead>\n",
       "<tbody>\n",
       "\t<tr><td>1                               </td><td>10                              </td><td>8                               </td><td>26                              </td><td>2                               </td><td>0.013                           </td><td>1.6                             </td><td>0.79532                         </td><td>0.51078                         </td><td>368bd5c2255f3a5ce0fef06ca6de1d04</td><td>13fabb2c42c260bd77b4358f429eba6c</td><td>1                               </td></tr>\n",
       "\t<tr><td>1                               </td><td>11                              </td><td>8                               </td><td>46                              </td><td>0                               </td><td>0.022                           </td><td>2.9                             </td><td>0.02493                         </td><td>1.00000                         </td><td>368bd5c2255f3a5ce0fef06ca6de1d04</td><td>bfc2bdf08b075d249213e99de23e532c</td><td>1                               </td></tr>\n",
       "\t<tr><td>1                               </td><td>13                              </td><td>8                               </td><td>32                              </td><td>0                               </td><td>0.016                           </td><td>2.0                             </td><td>0.09275                         </td><td>1.00000                         </td><td>368bd5c2255f3a5ce0fef06ca6de1d04</td><td>ab6bc0116bcfefcbeb981d83cd525034</td><td>1                               </td></tr>\n",
       "</tbody>\n",
       "</table>\n"
      ],
      "text/latex": [
       "\\begin{tabular}{r|llllllllllll}\n",
       " sp1 & sp2 & sp1\\_inc & sp2\\_inc & obs\\_cooccur & prob\\_cooccur & exp\\_cooccur & p\\_lt & p\\_gt & sp1\\_name & sp2\\_name & rep\\\\\n",
       "\\hline\n",
       "\t 1                                & 10                               & 8                                & 26                               & 2                                & 0.013                            & 1.6                              & 0.79532                          & 0.51078                          & 368bd5c2255f3a5ce0fef06ca6de1d04 & 13fabb2c42c260bd77b4358f429eba6c & 1                               \\\\\n",
       "\t 1                                & 11                               & 8                                & 46                               & 0                                & 0.022                            & 2.9                              & 0.02493                          & 1.00000                          & 368bd5c2255f3a5ce0fef06ca6de1d04 & bfc2bdf08b075d249213e99de23e532c & 1                               \\\\\n",
       "\t 1                                & 13                               & 8                                & 32                               & 0                                & 0.016                            & 2.0                              & 0.09275                          & 1.00000                          & 368bd5c2255f3a5ce0fef06ca6de1d04 & ab6bc0116bcfefcbeb981d83cd525034 & 1                               \\\\\n",
       "\\end{tabular}\n"
      ],
      "text/markdown": [
       "\n",
       "sp1 | sp2 | sp1_inc | sp2_inc | obs_cooccur | prob_cooccur | exp_cooccur | p_lt | p_gt | sp1_name | sp2_name | rep | \n",
       "|---|---|---|\n",
       "| 1                                | 10                               | 8                                | 26                               | 2                                | 0.013                            | 1.6                              | 0.79532                          | 0.51078                          | 368bd5c2255f3a5ce0fef06ca6de1d04 | 13fabb2c42c260bd77b4358f429eba6c | 1                                | \n",
       "| 1                                | 11                               | 8                                | 46                               | 0                                | 0.022                            | 2.9                              | 0.02493                          | 1.00000                          | 368bd5c2255f3a5ce0fef06ca6de1d04 | bfc2bdf08b075d249213e99de23e532c | 1                                | \n",
       "| 1                                | 13                               | 8                                | 32                               | 0                                | 0.016                            | 2.0                              | 0.09275                          | 1.00000                          | 368bd5c2255f3a5ce0fef06ca6de1d04 | ab6bc0116bcfefcbeb981d83cd525034 | 1                                | \n",
       "\n",
       "\n"
      ],
      "text/plain": [
       "  sp1 sp2 sp1_inc sp2_inc obs_cooccur prob_cooccur exp_cooccur p_lt    p_gt   \n",
       "1 1   10  8       26      2           0.013        1.6         0.79532 0.51078\n",
       "2 1   11  8       46      0           0.022        2.9         0.02493 1.00000\n",
       "3 1   13  8       32      0           0.016        2.0         0.09275 1.00000\n",
       "  sp1_name                         sp2_name                         rep\n",
       "1 368bd5c2255f3a5ce0fef06ca6de1d04 13fabb2c42c260bd77b4358f429eba6c 1  \n",
       "2 368bd5c2255f3a5ce0fef06ca6de1d04 bfc2bdf08b075d249213e99de23e532c 1  \n",
       "3 368bd5c2255f3a5ce0fef06ca6de1d04 ab6bc0116bcfefcbeb981d83cd525034 1  "
      ]
     },
     "metadata": {},
     "output_type": "display_data"
    }
   ],
   "source": [
    "# adding rep & combining into 1 df\n",
    "cooccur_res_pt = lapply(as.list(1:length(cooccur_res_pt)),\n",
    "       function(x){ cooccur_res_pt[[x]]$rep = x; return(cooccur_res_pt[[x]])}) %>%\n",
    "    do.call(rbind, .) \n",
    "\n",
    "cooccur_res_pt %>% dfhead"
   ]
  },
  {
   "cell_type": "markdown",
   "metadata": {},
   "source": [
    "### Determining significance"
   ]
  },
  {
   "cell_type": "code",
   "execution_count": 75,
   "metadata": {
    "ExecuteTime": {
     "end_time": "2018-08-09T12:53:54.207071Z",
     "start_time": "2018-08-09T12:53:58.568Z"
    }
   },
   "outputs": [
    {
     "name": "stdout",
     "output_type": "stream",
     "text": [
      ".\n",
      "   -1     0     1 \n",
      "    1 26607   240 \n",
      "[1] 26848     8\n"
     ]
    },
    {
     "data": {
      "text/html": [
       "<table>\n",
       "<thead><tr><th scope=col>sp1_name</th><th scope=col>sp2_name</th><th scope=col>obs_cooccur</th><th scope=col>prob_cooccur</th><th scope=col>exp_cooccur</th><th scope=col>q_gt</th><th scope=col>q_lt</th><th scope=col>sign</th></tr></thead>\n",
       "<tbody>\n",
       "\t<tr><td>003c4ae8c3fbf5aee27b58e6b7fd5e10</td><td>0215b7637847641274246f9414d2b649</td><td>0                               </td><td>0.008870968                     </td><td>1.124194                        </td><td>1.00                            </td><td>1                               </td><td>0                               </td></tr>\n",
       "\t<tr><td>003c4ae8c3fbf5aee27b58e6b7fd5e10</td><td>09aa18b6829bdca56e6f9aff75f581dd</td><td>0                               </td><td>0.008675676                     </td><td>1.097297                        </td><td>1.00                            </td><td>1                               </td><td>0                               </td></tr>\n",
       "\t<tr><td>003c4ae8c3fbf5aee27b58e6b7fd5e10</td><td>1b5fb6f4fd4f5e63f7bb4b6d9e1d40e8</td><td>8                               </td><td>0.008125000                     </td><td>1.062500                        </td><td>0.92                            </td><td>1                               </td><td>0                               </td></tr>\n",
       "</tbody>\n",
       "</table>\n"
      ],
      "text/latex": [
       "\\begin{tabular}{r|llllllll}\n",
       " sp1\\_name & sp2\\_name & obs\\_cooccur & prob\\_cooccur & exp\\_cooccur & q\\_gt & q\\_lt & sign\\\\\n",
       "\\hline\n",
       "\t 003c4ae8c3fbf5aee27b58e6b7fd5e10 & 0215b7637847641274246f9414d2b649 & 0                                & 0.008870968                      & 1.124194                         & 1.00                             & 1                                & 0                               \\\\\n",
       "\t 003c4ae8c3fbf5aee27b58e6b7fd5e10 & 09aa18b6829bdca56e6f9aff75f581dd & 0                                & 0.008675676                      & 1.097297                         & 1.00                             & 1                                & 0                               \\\\\n",
       "\t 003c4ae8c3fbf5aee27b58e6b7fd5e10 & 1b5fb6f4fd4f5e63f7bb4b6d9e1d40e8 & 8                                & 0.008125000                      & 1.062500                         & 0.92                             & 1                                & 0                               \\\\\n",
       "\\end{tabular}\n"
      ],
      "text/markdown": [
       "\n",
       "sp1_name | sp2_name | obs_cooccur | prob_cooccur | exp_cooccur | q_gt | q_lt | sign | \n",
       "|---|---|---|\n",
       "| 003c4ae8c3fbf5aee27b58e6b7fd5e10 | 0215b7637847641274246f9414d2b649 | 0                                | 0.008870968                      | 1.124194                         | 1.00                             | 1                                | 0                                | \n",
       "| 003c4ae8c3fbf5aee27b58e6b7fd5e10 | 09aa18b6829bdca56e6f9aff75f581dd | 0                                | 0.008675676                      | 1.097297                         | 1.00                             | 1                                | 0                                | \n",
       "| 003c4ae8c3fbf5aee27b58e6b7fd5e10 | 1b5fb6f4fd4f5e63f7bb4b6d9e1d40e8 | 8                                | 0.008125000                      | 1.062500                         | 0.92                             | 1                                | 0                                | \n",
       "\n",
       "\n"
      ],
      "text/plain": [
       "  sp1_name                         sp2_name                         obs_cooccur\n",
       "1 003c4ae8c3fbf5aee27b58e6b7fd5e10 0215b7637847641274246f9414d2b649 0          \n",
       "2 003c4ae8c3fbf5aee27b58e6b7fd5e10 09aa18b6829bdca56e6f9aff75f581dd 0          \n",
       "3 003c4ae8c3fbf5aee27b58e6b7fd5e10 1b5fb6f4fd4f5e63f7bb4b6d9e1d40e8 8          \n",
       "  prob_cooccur exp_cooccur q_gt q_lt sign\n",
       "1 0.008870968  1.124194    1.00 1    0   \n",
       "2 0.008675676  1.097297    1.00 1    0   \n",
       "3 0.008125000  1.062500    0.92 1    0   "
      ]
     },
     "metadata": {},
     "output_type": "display_data"
    }
   ],
   "source": [
    "# summarizing across subsample reps; how many significant edges?\n",
    "cooccur_res_pt_s = cooccur_res_pt %>%\n",
    "    group_by(rep) %>%\n",
    "    mutate(q_gt = p.adjust(p_gt, method='BH'),\n",
    "           q_lt = p.adjust(p_lt, method='BH')) %>%\n",
    "    ungroup() %>%\n",
    "    group_by(sp1_name, sp2_name) %>%\n",
    "    summarize(obs_cooccur = mean(obs_cooccur, na.rm=TRUE),\n",
    "              prob_cooccur = mean(prob_cooccur, na.rm=TRUE),\n",
    "              exp_cooccur = mean(exp_cooccur, na.rm=TRUE),\n",
    "              q_gt = (nperm_datasets - sum(q_gt < qval_cutoff)) / nperm_datasets,\n",
    "              q_lt = (nperm_datasets - sum(q_lt < qval_cutoff)) / nperm_datasets,\n",
    "              sign = ifelse(q_gt < qval_cutoff, 1, 0) + ifelse(q_lt < qval_cutoff, -1, 0)\n",
    "             ) %>%\n",
    "    ungroup()\n",
    "\n",
    "# status\n",
    "cooccur_res_pt_s$sign %>% table %>% print\n",
    "cooccur_res_pt_s %>% dfhead"
   ]
  },
  {
   "cell_type": "markdown",
   "metadata": {},
   "source": [
    "### Taxonomy"
   ]
  },
  {
   "cell_type": "code",
   "execution_count": 76,
   "metadata": {
    "ExecuteTime": {
     "end_time": "2018-08-09T12:54:10.349503Z",
     "start_time": "2018-08-09T12:54:24.703Z"
    }
   },
   "outputs": [
    {
     "name": "stdout",
     "output_type": "stream",
     "text": [
      "[1] 408   8\n"
     ]
    },
    {
     "data": {
      "text/html": [
       "<table>\n",
       "<thead><tr><th scope=col>Domain</th><th scope=col>Phylum</th><th scope=col>Class</th><th scope=col>Order</th><th scope=col>Family</th><th scope=col>Genus</th><th scope=col>Species</th><th scope=col>OTU</th></tr></thead>\n",
       "<tbody>\n",
       "\t<tr><td>Archaea                         </td><td>Euryarchaeota                   </td><td>Methanobacteria                 </td><td>Methanobacteriales              </td><td>Methanobacteriaceae             </td><td>Methanobrevibacter              </td><td>unclassified                    </td><td>368bd5c2255f3a5ce0fef06ca6de1d04</td></tr>\n",
       "\t<tr><td>Archaea                         </td><td>Euryarchaeota                   </td><td>Methanobacteria                 </td><td>Methanobacteriales              </td><td>Methanobacteriaceae             </td><td>Methanobrevibacter              </td><td>uncultured archaeon             </td><td>779324e5648460c5a67e577c45131b42</td></tr>\n",
       "\t<tr><td>Archaea                         </td><td>Euryarchaeota                   </td><td>Methanobacteria                 </td><td>Methanobacteriales              </td><td>Methanobacteriaceae             </td><td>Methanobrevibacter              </td><td>uncultured archaeon             </td><td>b918d185ee89a0b33d821ee766d76eb3</td></tr>\n",
       "</tbody>\n",
       "</table>\n"
      ],
      "text/latex": [
       "\\begin{tabular}{r|llllllll}\n",
       " Domain & Phylum & Class & Order & Family & Genus & Species & OTU\\\\\n",
       "\\hline\n",
       "\t Archaea                          & Euryarchaeota                    & Methanobacteria                  & Methanobacteriales               & Methanobacteriaceae              & Methanobrevibacter               & unclassified                     & 368bd5c2255f3a5ce0fef06ca6de1d04\\\\\n",
       "\t Archaea                          & Euryarchaeota                    & Methanobacteria                  & Methanobacteriales               & Methanobacteriaceae              & Methanobrevibacter               & uncultured archaeon              & 779324e5648460c5a67e577c45131b42\\\\\n",
       "\t Archaea                          & Euryarchaeota                    & Methanobacteria                  & Methanobacteriales               & Methanobacteriaceae              & Methanobrevibacter               & uncultured archaeon              & b918d185ee89a0b33d821ee766d76eb3\\\\\n",
       "\\end{tabular}\n"
      ],
      "text/markdown": [
       "\n",
       "Domain | Phylum | Class | Order | Family | Genus | Species | OTU | \n",
       "|---|---|---|\n",
       "| Archaea                          | Euryarchaeota                    | Methanobacteria                  | Methanobacteriales               | Methanobacteriaceae              | Methanobrevibacter               | unclassified                     | 368bd5c2255f3a5ce0fef06ca6de1d04 | \n",
       "| Archaea                          | Euryarchaeota                    | Methanobacteria                  | Methanobacteriales               | Methanobacteriaceae              | Methanobrevibacter               | uncultured archaeon              | 779324e5648460c5a67e577c45131b42 | \n",
       "| Archaea                          | Euryarchaeota                    | Methanobacteria                  | Methanobacteriales               | Methanobacteriaceae              | Methanobrevibacter               | uncultured archaeon              | b918d185ee89a0b33d821ee766d76eb3 | \n",
       "\n",
       "\n"
      ],
      "text/plain": [
       "  Domain  Phylum        Class           Order              Family             \n",
       "1 Archaea Euryarchaeota Methanobacteria Methanobacteriales Methanobacteriaceae\n",
       "2 Archaea Euryarchaeota Methanobacteria Methanobacteriales Methanobacteriaceae\n",
       "3 Archaea Euryarchaeota Methanobacteria Methanobacteriales Methanobacteriaceae\n",
       "  Genus              Species             OTU                             \n",
       "1 Methanobrevibacter unclassified        368bd5c2255f3a5ce0fef06ca6de1d04\n",
       "2 Methanobrevibacter uncultured archaeon 779324e5648460c5a67e577c45131b42\n",
       "3 Methanobrevibacter uncultured archaeon b918d185ee89a0b33d821ee766d76eb3"
      ]
     },
     "metadata": {},
     "output_type": "display_data"
    }
   ],
   "source": [
    "# taxonomy table\n",
    "tax = physeq %>%\n",
    "    tax_table %>%\n",
    "    as.matrix %>%\n",
    "    as.data.frame %>%\n",
    "    mutate(OTU = rownames(.)) \n",
    "\n",
    "tax %>% dfhead"
   ]
  },
  {
   "cell_type": "code",
   "execution_count": 77,
   "metadata": {
    "ExecuteTime": {
     "end_time": "2018-08-09T12:54:11.870561Z",
     "start_time": "2018-08-09T12:54:25.927Z"
    }
   },
   "outputs": [
    {
     "name": "stderr",
     "output_type": "stream",
     "text": [
      "Warning message:\n",
      "“Column `sp1_name`/`OTU` joining factor and character vector, coercing into character vector”Warning message:\n",
      "“Column `sp2_name`/`OTU` joining factor and character vector, coercing into character vector”Warning message:\n",
      "“Column `sp1_name`/`sp1` joining character vector and factor, coercing into character vector”Warning message:\n",
      "“Column `sp2_name`/`sp2` joining character vector and factor, coercing into character vector”"
     ]
    },
    {
     "name": "stdout",
     "output_type": "stream",
     "text": [
      "[1] 26848    24\n"
     ]
    },
    {
     "data": {
      "text/html": [
       "<table>\n",
       "<thead><tr><th scope=col>sp1_name</th><th scope=col>sp2_name</th><th scope=col>obs_cooccur</th><th scope=col>prob_cooccur</th><th scope=col>exp_cooccur</th><th scope=col>q_gt</th><th scope=col>q_lt</th><th scope=col>sign</th><th scope=col>Domain.x</th><th scope=col>Phylum.x</th><th scope=col>⋯</th><th scope=col>Species.x</th><th scope=col>Domain.y</th><th scope=col>Phylum.y</th><th scope=col>Class.y</th><th scope=col>Order.y</th><th scope=col>Family.y</th><th scope=col>Genus.y</th><th scope=col>Species.y</th><th scope=col>sd_effects</th><th scope=col>effects</th></tr></thead>\n",
       "<tbody>\n",
       "\t<tr><td>003c4ae8c3fbf5aee27b58e6b7fd5e10</td><td>0215b7637847641274246f9414d2b649</td><td>0                               </td><td>0.008870968                     </td><td>1.124194                        </td><td>1.00                            </td><td>1                               </td><td>0                               </td><td>Bacteria                        </td><td>Tenericutes                     </td><td>⋯                               </td><td>                                </td><td>Bacteria                        </td><td>Firmicutes                      </td><td>Bacilli                         </td><td>Lactobacillales                 </td><td>Enterococcaceae                 </td><td>Enterococcus                    </td><td>unclassified                    </td><td>0.0009870516                    </td><td>-0.008782762                    </td></tr>\n",
       "\t<tr><td>003c4ae8c3fbf5aee27b58e6b7fd5e10</td><td>09aa18b6829bdca56e6f9aff75f581dd</td><td>0                               </td><td>0.008675676                     </td><td>1.097297                        </td><td>1.00                            </td><td>1                               </td><td>0                               </td><td>Bacteria                        </td><td>Tenericutes                     </td><td>⋯                               </td><td>                                </td><td>Bacteria                        </td><td>Firmicutes                      </td><td>Clostridia                      </td><td>Clostridiales                   </td><td>Ruminococcaceae                 </td><td>uncultured                      </td><td>unclassified                    </td><td>0.0007476836                    </td><td>-0.008572635                    </td></tr>\n",
       "\t<tr><td>003c4ae8c3fbf5aee27b58e6b7fd5e10</td><td>1b5fb6f4fd4f5e63f7bb4b6d9e1d40e8</td><td>8                               </td><td>0.008125000                     </td><td>1.062500                        </td><td>0.92                            </td><td>1                               </td><td>0                               </td><td>Bacteria                        </td><td>Tenericutes                     </td><td>⋯                               </td><td>                                </td><td>Bacteria                        </td><td>Firmicutes                      </td><td>Clostridia                      </td><td>Clostridiales                   </td><td>Ruminococcaceae                 </td><td>uncultured                      </td><td>unclassified                    </td><td>0.0005812686                    </td><td> 0.054199219                    </td></tr>\n",
       "</tbody>\n",
       "</table>\n"
      ],
      "text/latex": [
       "\\begin{tabular}{r|llllllllllllllllllllllll}\n",
       " sp1\\_name & sp2\\_name & obs\\_cooccur & prob\\_cooccur & exp\\_cooccur & q\\_gt & q\\_lt & sign & Domain.x & Phylum.x & ⋯ & Species.x & Domain.y & Phylum.y & Class.y & Order.y & Family.y & Genus.y & Species.y & sd\\_effects & effects\\\\\n",
       "\\hline\n",
       "\t 003c4ae8c3fbf5aee27b58e6b7fd5e10 & 0215b7637847641274246f9414d2b649 & 0                                & 0.008870968                      & 1.124194                         & 1.00                             & 1                                & 0                                & Bacteria                         & Tenericutes                      & ⋯                                &                                  & Bacteria                         & Firmicutes                       & Bacilli                          & Lactobacillales                  & Enterococcaceae                  & Enterococcus                     & unclassified                     & 0.0009870516                     & -0.008782762                    \\\\\n",
       "\t 003c4ae8c3fbf5aee27b58e6b7fd5e10 & 09aa18b6829bdca56e6f9aff75f581dd & 0                                & 0.008675676                      & 1.097297                         & 1.00                             & 1                                & 0                                & Bacteria                         & Tenericutes                      & ⋯                                &                                  & Bacteria                         & Firmicutes                       & Clostridia                       & Clostridiales                    & Ruminococcaceae                  & uncultured                       & unclassified                     & 0.0007476836                     & -0.008572635                    \\\\\n",
       "\t 003c4ae8c3fbf5aee27b58e6b7fd5e10 & 1b5fb6f4fd4f5e63f7bb4b6d9e1d40e8 & 8                                & 0.008125000                      & 1.062500                         & 0.92                             & 1                                & 0                                & Bacteria                         & Tenericutes                      & ⋯                                &                                  & Bacteria                         & Firmicutes                       & Clostridia                       & Clostridiales                    & Ruminococcaceae                  & uncultured                       & unclassified                     & 0.0005812686                     &  0.054199219                    \\\\\n",
       "\\end{tabular}\n"
      ],
      "text/markdown": [
       "\n",
       "sp1_name | sp2_name | obs_cooccur | prob_cooccur | exp_cooccur | q_gt | q_lt | sign | Domain.x | Phylum.x | ⋯ | Species.x | Domain.y | Phylum.y | Class.y | Order.y | Family.y | Genus.y | Species.y | sd_effects | effects | \n",
       "|---|---|---|\n",
       "| 003c4ae8c3fbf5aee27b58e6b7fd5e10 | 0215b7637847641274246f9414d2b649 | 0                                | 0.008870968                      | 1.124194                         | 1.00                             | 1                                | 0                                | Bacteria                         | Tenericutes                      | ⋯                                |                                  | Bacteria                         | Firmicutes                       | Bacilli                          | Lactobacillales                  | Enterococcaceae                  | Enterococcus                     | unclassified                     | 0.0009870516                     | -0.008782762                     | \n",
       "| 003c4ae8c3fbf5aee27b58e6b7fd5e10 | 09aa18b6829bdca56e6f9aff75f581dd | 0                                | 0.008675676                      | 1.097297                         | 1.00                             | 1                                | 0                                | Bacteria                         | Tenericutes                      | ⋯                                |                                  | Bacteria                         | Firmicutes                       | Clostridia                       | Clostridiales                    | Ruminococcaceae                  | uncultured                       | unclassified                     | 0.0007476836                     | -0.008572635                     | \n",
       "| 003c4ae8c3fbf5aee27b58e6b7fd5e10 | 1b5fb6f4fd4f5e63f7bb4b6d9e1d40e8 | 8                                | 0.008125000                      | 1.062500                         | 0.92                             | 1                                | 0                                | Bacteria                         | Tenericutes                      | ⋯                                |                                  | Bacteria                         | Firmicutes                       | Clostridia                       | Clostridiales                    | Ruminococcaceae                  | uncultured                       | unclassified                     | 0.0005812686                     |  0.054199219                     | \n",
       "\n",
       "\n"
      ],
      "text/plain": [
       "  sp1_name                         sp2_name                         obs_cooccur\n",
       "1 003c4ae8c3fbf5aee27b58e6b7fd5e10 0215b7637847641274246f9414d2b649 0          \n",
       "2 003c4ae8c3fbf5aee27b58e6b7fd5e10 09aa18b6829bdca56e6f9aff75f581dd 0          \n",
       "3 003c4ae8c3fbf5aee27b58e6b7fd5e10 1b5fb6f4fd4f5e63f7bb4b6d9e1d40e8 8          \n",
       "  prob_cooccur exp_cooccur q_gt q_lt sign Domain.x Phylum.x    ⋯ Species.x\n",
       "1 0.008870968  1.124194    1.00 1    0    Bacteria Tenericutes ⋯          \n",
       "2 0.008675676  1.097297    1.00 1    0    Bacteria Tenericutes ⋯          \n",
       "3 0.008125000  1.062500    0.92 1    0    Bacteria Tenericutes ⋯          \n",
       "  Domain.y Phylum.y   Class.y    Order.y         Family.y        Genus.y     \n",
       "1 Bacteria Firmicutes Bacilli    Lactobacillales Enterococcaceae Enterococcus\n",
       "2 Bacteria Firmicutes Clostridia Clostridiales   Ruminococcaceae uncultured  \n",
       "3 Bacteria Firmicutes Clostridia Clostridiales   Ruminococcaceae uncultured  \n",
       "  Species.y    sd_effects   effects     \n",
       "1 unclassified 0.0009870516 -0.008782762\n",
       "2 unclassified 0.0007476836 -0.008572635\n",
       "3 unclassified 0.0005812686  0.054199219"
      ]
     },
     "metadata": {},
     "output_type": "display_data"
    }
   ],
   "source": [
    "# adding sign of occurrence & taxonomy\n",
    "cooccur_res_pt_s = cooccur_res_pt_s %>% \n",
    "    mutate(sign = sign %>% as.character) %>%\n",
    "    inner_join(tax, c('sp1_name'='OTU')) %>%\n",
    "    inner_join(tax, c('sp2_name'='OTU')) %>%\n",
    "    inner_join(cooccur_res_es, c('sp1_name'='sp1', 'sp2_name'='sp2'))\n",
    "\n",
    "## status\n",
    "cooccur_res_pt_s %>% dfhead"
   ]
  },
  {
   "cell_type": "markdown",
   "metadata": {},
   "source": [
    "## Plotting"
   ]
  },
  {
   "cell_type": "code",
   "execution_count": 78,
   "metadata": {
    "ExecuteTime": {
     "end_time": "2018-08-09T12:54:17.547626Z",
     "start_time": "2018-08-09T12:54:31.992Z"
    }
   },
   "outputs": [],
   "source": [
    "n_sign = cooccur_res_pt_s$sign %>% unique %>% length\n",
    "if(n_sign == 3){\n",
    "    col_vals = c(\"#FFCC66\", \"dark gray\", \"light blue\")   \n",
    "} else {\n",
    "    col_vals = c(\"dark gray\", \"light blue\")    \n",
    "}"
   ]
  },
  {
   "cell_type": "code",
   "execution_count": 135,
   "metadata": {
    "ExecuteTime": {
     "end_time": "2018-08-10T08:01:17.011211Z",
     "start_time": "2018-08-10T08:01:29.551Z"
    }
   },
   "outputs": [
    {
     "name": "stdout",
     "output_type": "stream",
     "text": [
      "File written: /ebio/abt3_projects/Georg_animal_feces/notebooks/16S/5_assembly/cooccur/.figures/IndD-sens_OTU-binom_exp-obs.pdf \n"
     ]
    },
    {
     "data": {
      "image/png": "[encoded data removed]",
      "text/plain": [
       "plot without title"
      ]
     },
     "metadata": {},
     "output_type": "display_data"
    }
   ],
   "source": [
    "# plotting occurrences\n",
    "p = ggplot(cooccur_res_pt_s, aes(exp_cooccur, obs_cooccur)) + \n",
    "    geom_point(data=cooccur_res_pt_s %>% filter(sign==0), alpha=0.5, color=\"dark gray\") +\n",
    "    geom_point(data=cooccur_res_pt_s %>% filter(sign==-1), alpha=0.5, color=\"#FFCC66\") +\n",
    "    geom_point(data=cooccur_res_pt_s %>% filter(sign==1), alpha=0.5, color=\"light blue\") +\n",
    "    labs(x=\"Expected Co-occurrences\", y=\"Observed Co-occurrences\") +\n",
    "    theme_bw()\n",
    "\n",
    "options(repr.plot.width=5, repr.plot.height=4.5)\n",
    "plot_write(p, file='IndD-sens_OTU-binom_exp-obs.pdf')"
   ]
  },
  {
   "cell_type": "code",
   "execution_count": 124,
   "metadata": {
    "ExecuteTime": {
     "end_time": "2018-08-09T13:15:31.881442Z",
     "start_time": "2018-08-09T13:15:46.314Z"
    }
   },
   "outputs": [
    {
     "name": "stdout",
     "output_type": "stream",
     "text": [
      "[1] 48  4\n"
     ]
    },
    {
     "data": {
      "text/html": [
       "<table>\n",
       "<thead><tr><th scope=col>Phylum.x</th><th scope=col>Phylum.y</th><th scope=col>sign</th><th scope=col>perc_of_edges</th></tr></thead>\n",
       "<tbody>\n",
       "\t<tr><td>Actinobacteria</td><td>Bacteroidetes </td><td>0             </td><td>100.0000      </td></tr>\n",
       "\t<tr><td>Actinobacteria</td><td>Firmicutes    </td><td>0             </td><td>100.0000      </td></tr>\n",
       "\t<tr><td>Bacteroidetes </td><td>Bacteroidetes </td><td>0             </td><td> 99.0991      </td></tr>\n",
       "</tbody>\n",
       "</table>\n"
      ],
      "text/latex": [
       "\\begin{tabular}{r|llll}\n",
       " Phylum.x & Phylum.y & sign & perc\\_of\\_edges\\\\\n",
       "\\hline\n",
       "\t Actinobacteria & Bacteroidetes  & 0              & 100.0000      \\\\\n",
       "\t Actinobacteria & Firmicutes     & 0              & 100.0000      \\\\\n",
       "\t Bacteroidetes  & Bacteroidetes  & 0              &  99.0991      \\\\\n",
       "\\end{tabular}\n"
      ],
      "text/markdown": [
       "\n",
       "Phylum.x | Phylum.y | sign | perc_of_edges | \n",
       "|---|---|---|\n",
       "| Actinobacteria | Bacteroidetes  | 0              | 100.0000       | \n",
       "| Actinobacteria | Firmicutes     | 0              | 100.0000       | \n",
       "| Bacteroidetes  | Bacteroidetes  | 0              |  99.0991       | \n",
       "\n",
       "\n"
      ],
      "text/plain": [
       "  Phylum.x       Phylum.y      sign perc_of_edges\n",
       "1 Actinobacteria Bacteroidetes 0    100.0000     \n",
       "2 Actinobacteria Firmicutes    0    100.0000     \n",
       "3 Bacteroidetes  Bacteroidetes 0     99.0991     "
      ]
     },
     "metadata": {},
     "output_type": "display_data"
    }
   ],
   "source": [
    "# Summarizing by phylum\n",
    "cooccur_res_pt_s_s = cooccur_res_pt_s %>%\n",
    "    group_by(Phylum.x, Phylum.y) %>%\n",
    "    mutate(n_edges = n()) %>%\n",
    "    group_by(Phylum.x, Phylum.y, sign) %>%\n",
    "    summarize(perc_of_edges = n() / first(n_edges) * 100) %>%\n",
    "    ungroup() \n",
    "\n",
    "cooccur_res_pt_s_s %>% dfhead"
   ]
  },
  {
   "cell_type": "code",
   "execution_count": 125,
   "metadata": {
    "ExecuteTime": {
     "end_time": "2018-08-09T13:15:32.357982Z",
     "start_time": "2018-08-09T13:15:46.831Z"
    }
   },
   "outputs": [
    {
     "data": {
      "text/html": [
       "<table>\n",
       "<thead><tr><th scope=col>Phylum.x</th><th scope=col>Phylum.y</th><th scope=col>sign</th><th scope=col>perc_of_edges</th></tr></thead>\n",
       "<tbody>\n",
       "\t<tr><td>Proteobacteria</td><td>Proteobacteria</td><td>-1            </td><td>0.84          </td></tr>\n",
       "\t<tr><td>Proteobacteria</td><td>Proteobacteria</td><td>1             </td><td>5.88          </td></tr>\n",
       "\t<tr><td>Proteobacteria</td><td>Firmicutes    </td><td>1             </td><td>1.28          </td></tr>\n",
       "\t<tr><td>Firmicutes    </td><td>Firmicutes    </td><td>1             </td><td>1.07          </td></tr>\n",
       "\t<tr><td>Firmicutes    </td><td>Bacteroidetes </td><td>1             </td><td>1.06          </td></tr>\n",
       "\t<tr><td>Bacteroidetes </td><td>Bacteroidetes </td><td>1             </td><td>0.90          </td></tr>\n",
       "\t<tr><td>Proteobacteria</td><td>Bacteroidetes </td><td>1             </td><td>0.40          </td></tr>\n",
       "\t<tr><td>Bacteroidetes </td><td>Firmicutes    </td><td>1             </td><td>0.30          </td></tr>\n",
       "\t<tr><td>Euryarchaeota </td><td>Firmicutes    </td><td>1             </td><td>0.24          </td></tr>\n",
       "</tbody>\n",
       "</table>\n"
      ],
      "text/latex": [
       "\\begin{tabular}{r|llll}\n",
       " Phylum.x & Phylum.y & sign & perc\\_of\\_edges\\\\\n",
       "\\hline\n",
       "\t Proteobacteria & Proteobacteria & -1             & 0.84          \\\\\n",
       "\t Proteobacteria & Proteobacteria & 1              & 5.88          \\\\\n",
       "\t Proteobacteria & Firmicutes     & 1              & 1.28          \\\\\n",
       "\t Firmicutes     & Firmicutes     & 1              & 1.07          \\\\\n",
       "\t Firmicutes     & Bacteroidetes  & 1              & 1.06          \\\\\n",
       "\t Bacteroidetes  & Bacteroidetes  & 1              & 0.90          \\\\\n",
       "\t Proteobacteria & Bacteroidetes  & 1              & 0.40          \\\\\n",
       "\t Bacteroidetes  & Firmicutes     & 1              & 0.30          \\\\\n",
       "\t Euryarchaeota  & Firmicutes     & 1              & 0.24          \\\\\n",
       "\\end{tabular}\n"
      ],
      "text/markdown": [
       "\n",
       "Phylum.x | Phylum.y | sign | perc_of_edges | \n",
       "|---|---|---|---|---|---|---|---|---|\n",
       "| Proteobacteria | Proteobacteria | -1             | 0.84           | \n",
       "| Proteobacteria | Proteobacteria | 1              | 5.88           | \n",
       "| Proteobacteria | Firmicutes     | 1              | 1.28           | \n",
       "| Firmicutes     | Firmicutes     | 1              | 1.07           | \n",
       "| Firmicutes     | Bacteroidetes  | 1              | 1.06           | \n",
       "| Bacteroidetes  | Bacteroidetes  | 1              | 0.90           | \n",
       "| Proteobacteria | Bacteroidetes  | 1              | 0.40           | \n",
       "| Bacteroidetes  | Firmicutes     | 1              | 0.30           | \n",
       "| Euryarchaeota  | Firmicutes     | 1              | 0.24           | \n",
       "\n",
       "\n"
      ],
      "text/plain": [
       "  Phylum.x       Phylum.y       sign perc_of_edges\n",
       "1 Proteobacteria Proteobacteria -1   0.84         \n",
       "2 Proteobacteria Proteobacteria 1    5.88         \n",
       "3 Proteobacteria Firmicutes     1    1.28         \n",
       "4 Firmicutes     Firmicutes     1    1.07         \n",
       "5 Firmicutes     Bacteroidetes  1    1.06         \n",
       "6 Bacteroidetes  Bacteroidetes  1    0.90         \n",
       "7 Proteobacteria Bacteroidetes  1    0.40         \n",
       "8 Bacteroidetes  Firmicutes     1    0.30         \n",
       "9 Euryarchaeota  Firmicutes     1    0.24         "
      ]
     },
     "metadata": {},
     "output_type": "display_data"
    }
   ],
   "source": [
    "x1 = cooccur_res_pt_s_s %>%\n",
    "    filter(sign != 0) %>%\n",
    "    mutate(perc_of_edges = round(perc_of_edges, 2)) %>%\n",
    "    arrange(sign, -perc_of_edges)\n",
    "\n",
    "x1"
   ]
  },
  {
   "cell_type": "markdown",
   "metadata": {},
   "source": [
    "### Normalizing by number of nodes"
   ]
  },
  {
   "cell_type": "code",
   "execution_count": 126,
   "metadata": {
    "ExecuteTime": {
     "end_time": "2018-08-09T13:15:33.854343Z",
     "start_time": "2018-08-09T13:15:48.214Z"
    }
   },
   "outputs": [
    {
     "data": {
      "text/html": [
       "<table>\n",
       "<thead><tr><th scope=col>Domain</th><th scope=col>Phylum</th><th scope=col>n_OTUs</th></tr></thead>\n",
       "<tbody>\n",
       "\t<tr><td>Bacteria       </td><td>Firmicutes     </td><td>308            </td></tr>\n",
       "\t<tr><td>Bacteria       </td><td>Bacteroidetes  </td><td> 54            </td></tr>\n",
       "\t<tr><td>Bacteria       </td><td>Proteobacteria </td><td> 21            </td></tr>\n",
       "\t<tr><td>Bacteria       </td><td>Tenericutes    </td><td>  9            </td></tr>\n",
       "\t<tr><td>Archaea        </td><td>Euryarchaeota  </td><td>  5            </td></tr>\n",
       "\t<tr><td>Bacteria       </td><td>Cyanobacteria  </td><td>  4            </td></tr>\n",
       "\t<tr><td>Bacteria       </td><td>Fusobacteria   </td><td>  3            </td></tr>\n",
       "\t<tr><td>Bacteria       </td><td>Verrucomicrobia</td><td>  2            </td></tr>\n",
       "\t<tr><td>Bacteria       </td><td>Actinobacteria </td><td>  1            </td></tr>\n",
       "\t<tr><td>Bacteria       </td><td>Spirochaetae   </td><td>  1            </td></tr>\n",
       "</tbody>\n",
       "</table>\n"
      ],
      "text/latex": [
       "\\begin{tabular}{r|lll}\n",
       " Domain & Phylum & n\\_OTUs\\\\\n",
       "\\hline\n",
       "\t Bacteria        & Firmicutes      & 308            \\\\\n",
       "\t Bacteria        & Bacteroidetes   &  54            \\\\\n",
       "\t Bacteria        & Proteobacteria  &  21            \\\\\n",
       "\t Bacteria        & Tenericutes     &   9            \\\\\n",
       "\t Archaea         & Euryarchaeota   &   5            \\\\\n",
       "\t Bacteria        & Cyanobacteria   &   4            \\\\\n",
       "\t Bacteria        & Fusobacteria    &   3            \\\\\n",
       "\t Bacteria        & Verrucomicrobia &   2            \\\\\n",
       "\t Bacteria        & Actinobacteria  &   1            \\\\\n",
       "\t Bacteria        & Spirochaetae    &   1            \\\\\n",
       "\\end{tabular}\n"
      ],
      "text/markdown": [
       "\n",
       "Domain | Phylum | n_OTUs | \n",
       "|---|---|---|---|---|---|---|---|---|---|\n",
       "| Bacteria        | Firmicutes      | 308             | \n",
       "| Bacteria        | Bacteroidetes   |  54             | \n",
       "| Bacteria        | Proteobacteria  |  21             | \n",
       "| Bacteria        | Tenericutes     |   9             | \n",
       "| Archaea         | Euryarchaeota   |   5             | \n",
       "| Bacteria        | Cyanobacteria   |   4             | \n",
       "| Bacteria        | Fusobacteria    |   3             | \n",
       "| Bacteria        | Verrucomicrobia |   2             | \n",
       "| Bacteria        | Actinobacteria  |   1             | \n",
       "| Bacteria        | Spirochaetae    |   1             | \n",
       "\n",
       "\n"
      ],
      "text/plain": [
       "   Domain   Phylum          n_OTUs\n",
       "1  Bacteria Firmicutes      308   \n",
       "2  Bacteria Bacteroidetes    54   \n",
       "3  Bacteria Proteobacteria   21   \n",
       "4  Bacteria Tenericutes       9   \n",
       "5  Archaea  Euryarchaeota     5   \n",
       "6  Bacteria Cyanobacteria     4   \n",
       "7  Bacteria Fusobacteria      3   \n",
       "8  Bacteria Verrucomicrobia   2   \n",
       "9  Bacteria Actinobacteria    1   \n",
       "10 Bacteria Spirochaetae      1   "
      ]
     },
     "metadata": {},
     "output_type": "display_data"
    }
   ],
   "source": [
    "# getting unique OTUs (& taxonomy)\n",
    "n_nodes = cooccur_res_pt_s %>%\n",
    "    dplyr::select(sp1_name, sp2_name, Domain.x, Phylum.x, Domain.y, Phylum.y) %>%\n",
    "    unite(Tax1, Domain.x, Phylum.x, sp1_name, sep=';') %>%\n",
    "    unite(Tax2, Domain.y, Phylum.y, sp2_name, sep=';') \n",
    "\n",
    "n_nodes = c(n_nodes$Tax1 %>% as.vector %>% unique,\n",
    "            n_nodes$Tax2 %>% as.vector %>% unique) %>%\n",
    "    as.data.frame\n",
    "colnames(n_nodes) = c('OTU')\n",
    "n_nodes = n_nodes %>%\n",
    "    separate(OTU, c('Domain', 'Phylum', 'OTU'), sep=';') %>%\n",
    "    distinct() %>%\n",
    "    group_by(Domain, Phylum) %>%\n",
    "    summarize(n_OTUs = n()) %>%\n",
    "    ungroup()\n",
    "\n",
    "n_nodes %>% arrange(-n_OTUs)"
   ]
  },
  {
   "cell_type": "code",
   "execution_count": 127,
   "metadata": {
    "ExecuteTime": {
     "end_time": "2018-08-09T13:15:34.581610Z",
     "start_time": "2018-08-09T13:15:49.056Z"
    }
   },
   "outputs": [
    {
     "name": "stdout",
     "output_type": "stream",
     "text": [
      "[1] 26848    24\n"
     ]
    },
    {
     "data": {
      "text/html": [
       "<table>\n",
       "<thead><tr><th scope=col>sp1_name</th><th scope=col>sp2_name</th><th scope=col>obs_cooccur</th><th scope=col>prob_cooccur</th><th scope=col>exp_cooccur</th><th scope=col>q_gt</th><th scope=col>q_lt</th><th scope=col>sign</th><th scope=col>Domain.x</th><th scope=col>Phylum.x</th><th scope=col>⋯</th><th scope=col>Species.x</th><th scope=col>Domain.y</th><th scope=col>Phylum.y</th><th scope=col>Class.y</th><th scope=col>Order.y</th><th scope=col>Family.y</th><th scope=col>Genus.y</th><th scope=col>Species.y</th><th scope=col>sd_effects</th><th scope=col>effects</th></tr></thead>\n",
       "<tbody>\n",
       "\t<tr><td>003c4ae8c3fbf5aee27b58e6b7fd5e10</td><td>0215b7637847641274246f9414d2b649</td><td>0                               </td><td>0.008870968                     </td><td>1.124194                        </td><td>1.00                            </td><td>1                               </td><td>0                               </td><td>Bacteria                        </td><td>Tenericutes                     </td><td>⋯                               </td><td>                                </td><td>Bacteria                        </td><td>Firmicutes                      </td><td>Bacilli                         </td><td>Lactobacillales                 </td><td>Enterococcaceae                 </td><td>Enterococcus                    </td><td>unclassified                    </td><td>0.0009870516                    </td><td>-0.008782762                    </td></tr>\n",
       "\t<tr><td>003c4ae8c3fbf5aee27b58e6b7fd5e10</td><td>09aa18b6829bdca56e6f9aff75f581dd</td><td>0                               </td><td>0.008675676                     </td><td>1.097297                        </td><td>1.00                            </td><td>1                               </td><td>0                               </td><td>Bacteria                        </td><td>Tenericutes                     </td><td>⋯                               </td><td>                                </td><td>Bacteria                        </td><td>Firmicutes                      </td><td>Clostridia                      </td><td>Clostridiales                   </td><td>Ruminococcaceae                 </td><td>uncultured                      </td><td>unclassified                    </td><td>0.0007476836                    </td><td>-0.008572635                    </td></tr>\n",
       "\t<tr><td>003c4ae8c3fbf5aee27b58e6b7fd5e10</td><td>1b5fb6f4fd4f5e63f7bb4b6d9e1d40e8</td><td>8                               </td><td>0.008125000                     </td><td>1.062500                        </td><td>0.92                            </td><td>1                               </td><td>0                               </td><td>Bacteria                        </td><td>Tenericutes                     </td><td>⋯                               </td><td>                                </td><td>Bacteria                        </td><td>Firmicutes                      </td><td>Clostridia                      </td><td>Clostridiales                   </td><td>Ruminococcaceae                 </td><td>uncultured                      </td><td>unclassified                    </td><td>0.0005812686                    </td><td> 0.054199219                    </td></tr>\n",
       "</tbody>\n",
       "</table>\n"
      ],
      "text/latex": [
       "\\begin{tabular}{r|llllllllllllllllllllllll}\n",
       " sp1\\_name & sp2\\_name & obs\\_cooccur & prob\\_cooccur & exp\\_cooccur & q\\_gt & q\\_lt & sign & Domain.x & Phylum.x & ⋯ & Species.x & Domain.y & Phylum.y & Class.y & Order.y & Family.y & Genus.y & Species.y & sd\\_effects & effects\\\\\n",
       "\\hline\n",
       "\t 003c4ae8c3fbf5aee27b58e6b7fd5e10 & 0215b7637847641274246f9414d2b649 & 0                                & 0.008870968                      & 1.124194                         & 1.00                             & 1                                & 0                                & Bacteria                         & Tenericutes                      & ⋯                                &                                  & Bacteria                         & Firmicutes                       & Bacilli                          & Lactobacillales                  & Enterococcaceae                  & Enterococcus                     & unclassified                     & 0.0009870516                     & -0.008782762                    \\\\\n",
       "\t 003c4ae8c3fbf5aee27b58e6b7fd5e10 & 09aa18b6829bdca56e6f9aff75f581dd & 0                                & 0.008675676                      & 1.097297                         & 1.00                             & 1                                & 0                                & Bacteria                         & Tenericutes                      & ⋯                                &                                  & Bacteria                         & Firmicutes                       & Clostridia                       & Clostridiales                    & Ruminococcaceae                  & uncultured                       & unclassified                     & 0.0007476836                     & -0.008572635                    \\\\\n",
       "\t 003c4ae8c3fbf5aee27b58e6b7fd5e10 & 1b5fb6f4fd4f5e63f7bb4b6d9e1d40e8 & 8                                & 0.008125000                      & 1.062500                         & 0.92                             & 1                                & 0                                & Bacteria                         & Tenericutes                      & ⋯                                &                                  & Bacteria                         & Firmicutes                       & Clostridia                       & Clostridiales                    & Ruminococcaceae                  & uncultured                       & unclassified                     & 0.0005812686                     &  0.054199219                    \\\\\n",
       "\\end{tabular}\n"
      ],
      "text/markdown": [
       "\n",
       "sp1_name | sp2_name | obs_cooccur | prob_cooccur | exp_cooccur | q_gt | q_lt | sign | Domain.x | Phylum.x | ⋯ | Species.x | Domain.y | Phylum.y | Class.y | Order.y | Family.y | Genus.y | Species.y | sd_effects | effects | \n",
       "|---|---|---|\n",
       "| 003c4ae8c3fbf5aee27b58e6b7fd5e10 | 0215b7637847641274246f9414d2b649 | 0                                | 0.008870968                      | 1.124194                         | 1.00                             | 1                                | 0                                | Bacteria                         | Tenericutes                      | ⋯                                |                                  | Bacteria                         | Firmicutes                       | Bacilli                          | Lactobacillales                  | Enterococcaceae                  | Enterococcus                     | unclassified                     | 0.0009870516                     | -0.008782762                     | \n",
       "| 003c4ae8c3fbf5aee27b58e6b7fd5e10 | 09aa18b6829bdca56e6f9aff75f581dd | 0                                | 0.008675676                      | 1.097297                         | 1.00                             | 1                                | 0                                | Bacteria                         | Tenericutes                      | ⋯                                |                                  | Bacteria                         | Firmicutes                       | Clostridia                       | Clostridiales                    | Ruminococcaceae                  | uncultured                       | unclassified                     | 0.0007476836                     | -0.008572635                     | \n",
       "| 003c4ae8c3fbf5aee27b58e6b7fd5e10 | 1b5fb6f4fd4f5e63f7bb4b6d9e1d40e8 | 8                                | 0.008125000                      | 1.062500                         | 0.92                             | 1                                | 0                                | Bacteria                         | Tenericutes                      | ⋯                                |                                  | Bacteria                         | Firmicutes                       | Clostridia                       | Clostridiales                    | Ruminococcaceae                  | uncultured                       | unclassified                     | 0.0005812686                     |  0.054199219                     | \n",
       "\n",
       "\n"
      ],
      "text/plain": [
       "  sp1_name                         sp2_name                         obs_cooccur\n",
       "1 003c4ae8c3fbf5aee27b58e6b7fd5e10 0215b7637847641274246f9414d2b649 0          \n",
       "2 003c4ae8c3fbf5aee27b58e6b7fd5e10 09aa18b6829bdca56e6f9aff75f581dd 0          \n",
       "3 003c4ae8c3fbf5aee27b58e6b7fd5e10 1b5fb6f4fd4f5e63f7bb4b6d9e1d40e8 8          \n",
       "  prob_cooccur exp_cooccur q_gt q_lt sign Domain.x Phylum.x    ⋯ Species.x\n",
       "1 0.008870968  1.124194    1.00 1    0    Bacteria Tenericutes ⋯          \n",
       "2 0.008675676  1.097297    1.00 1    0    Bacteria Tenericutes ⋯          \n",
       "3 0.008125000  1.062500    0.92 1    0    Bacteria Tenericutes ⋯          \n",
       "  Domain.y Phylum.y   Class.y    Order.y         Family.y        Genus.y     \n",
       "1 Bacteria Firmicutes Bacilli    Lactobacillales Enterococcaceae Enterococcus\n",
       "2 Bacteria Firmicutes Clostridia Clostridiales   Ruminococcaceae uncultured  \n",
       "3 Bacteria Firmicutes Clostridia Clostridiales   Ruminococcaceae uncultured  \n",
       "  Species.y    sd_effects   effects     \n",
       "1 unclassified 0.0009870516 -0.008782762\n",
       "2 unclassified 0.0007476836 -0.008572635\n",
       "3 unclassified 0.0005812686  0.054199219"
      ]
     },
     "metadata": {},
     "output_type": "display_data"
    }
   ],
   "source": [
    "cooccur_res_pt_s %>% dfhead"
   ]
  },
  {
   "cell_type": "code",
   "execution_count": 128,
   "metadata": {
    "ExecuteTime": {
     "end_time": "2018-08-09T13:15:34.877097Z",
     "start_time": "2018-08-09T13:15:49.223Z"
    }
   },
   "outputs": [
    {
     "name": "stderr",
     "output_type": "stream",
     "text": [
      "Warning message:\n",
      "“Column `Phylum.x`/`Phylum` joining factor and character vector, coercing into character vector”Warning message:\n",
      "“Column `Phylum.y`/`Phylum` joining factor and character vector, coercing into character vector”"
     ]
    },
    {
     "data": {
      "text/html": [
       "<table>\n",
       "<thead><tr><th scope=col>Phylum.x</th><th scope=col>Phylum.y</th><th scope=col>sign</th><th scope=col>edges_norm</th></tr></thead>\n",
       "<tbody>\n",
       "\t<tr><td>Proteobacteria</td><td>Proteobacteria</td><td>-1            </td><td>0.024         </td></tr>\n",
       "\t<tr><td>Firmicutes    </td><td>Firmicutes    </td><td>1             </td><td>0.276         </td></tr>\n",
       "\t<tr><td>Proteobacteria</td><td>Proteobacteria</td><td>1             </td><td>0.167         </td></tr>\n",
       "\t<tr><td>Proteobacteria</td><td>Firmicutes    </td><td>1             </td><td>0.112         </td></tr>\n",
       "\t<tr><td>Bacteroidetes </td><td>Firmicutes    </td><td>1             </td><td>0.039         </td></tr>\n",
       "\t<tr><td>Bacteroidetes </td><td>Bacteroidetes </td><td>1             </td><td>0.037         </td></tr>\n",
       "\t<tr><td>Proteobacteria</td><td>Bacteroidetes </td><td>1             </td><td>0.027         </td></tr>\n",
       "\t<tr><td>Firmicutes    </td><td>Bacteroidetes </td><td>1             </td><td>0.014         </td></tr>\n",
       "\t<tr><td>Euryarchaeota </td><td>Firmicutes    </td><td>1             </td><td>0.003         </td></tr>\n",
       "</tbody>\n",
       "</table>\n"
      ],
      "text/latex": [
       "\\begin{tabular}{r|llll}\n",
       " Phylum.x & Phylum.y & sign & edges\\_norm\\\\\n",
       "\\hline\n",
       "\t Proteobacteria & Proteobacteria & -1             & 0.024         \\\\\n",
       "\t Firmicutes     & Firmicutes     & 1              & 0.276         \\\\\n",
       "\t Proteobacteria & Proteobacteria & 1              & 0.167         \\\\\n",
       "\t Proteobacteria & Firmicutes     & 1              & 0.112         \\\\\n",
       "\t Bacteroidetes  & Firmicutes     & 1              & 0.039         \\\\\n",
       "\t Bacteroidetes  & Bacteroidetes  & 1              & 0.037         \\\\\n",
       "\t Proteobacteria & Bacteroidetes  & 1              & 0.027         \\\\\n",
       "\t Firmicutes     & Bacteroidetes  & 1              & 0.014         \\\\\n",
       "\t Euryarchaeota  & Firmicutes     & 1              & 0.003         \\\\\n",
       "\\end{tabular}\n"
      ],
      "text/markdown": [
       "\n",
       "Phylum.x | Phylum.y | sign | edges_norm | \n",
       "|---|---|---|---|---|---|---|---|---|\n",
       "| Proteobacteria | Proteobacteria | -1             | 0.024          | \n",
       "| Firmicutes     | Firmicutes     | 1              | 0.276          | \n",
       "| Proteobacteria | Proteobacteria | 1              | 0.167          | \n",
       "| Proteobacteria | Firmicutes     | 1              | 0.112          | \n",
       "| Bacteroidetes  | Firmicutes     | 1              | 0.039          | \n",
       "| Bacteroidetes  | Bacteroidetes  | 1              | 0.037          | \n",
       "| Proteobacteria | Bacteroidetes  | 1              | 0.027          | \n",
       "| Firmicutes     | Bacteroidetes  | 1              | 0.014          | \n",
       "| Euryarchaeota  | Firmicutes     | 1              | 0.003          | \n",
       "\n",
       "\n"
      ],
      "text/plain": [
       "  Phylum.x       Phylum.y       sign edges_norm\n",
       "1 Proteobacteria Proteobacteria -1   0.024     \n",
       "2 Firmicutes     Firmicutes     1    0.276     \n",
       "3 Proteobacteria Proteobacteria 1    0.167     \n",
       "4 Proteobacteria Firmicutes     1    0.112     \n",
       "5 Bacteroidetes  Firmicutes     1    0.039     \n",
       "6 Bacteroidetes  Bacteroidetes  1    0.037     \n",
       "7 Proteobacteria Bacteroidetes  1    0.027     \n",
       "8 Firmicutes     Bacteroidetes  1    0.014     \n",
       "9 Euryarchaeota  Firmicutes     1    0.003     "
      ]
     },
     "metadata": {},
     "output_type": "display_data"
    }
   ],
   "source": [
    "# percent of nodes in taxonomic groups\n",
    "x2 = cooccur_res_pt_s %>%\n",
    "    inner_join(n_nodes, c('Phylum.x'='Phylum')) %>%\n",
    "    inner_join(n_nodes, c('Phylum.y'='Phylum')) %>%\n",
    "    group_by(Phylum.x, Phylum.y, sign) %>%\n",
    "    summarize(edges_norm = n() / (first(n_OTUs.x) + first(n_OTUs.y))) %>%\n",
    "    ungroup() %>%\n",
    "    filter(sign != 0) %>%\n",
    "    mutate(edges_norm = round(edges_norm, 3)) %>%\n",
    "    arrange(sign, -edges_norm)\n",
    "\n",
    "x2 "
   ]
  },
  {
   "cell_type": "markdown",
   "metadata": {},
   "source": [
    "### Combined table"
   ]
  },
  {
   "cell_type": "code",
   "execution_count": 129,
   "metadata": {
    "ExecuteTime": {
     "end_time": "2018-08-09T13:16:02.684856Z",
     "start_time": "2018-08-09T13:16:17.159Z"
    }
   },
   "outputs": [
    {
     "name": "stderr",
     "output_type": "stream",
     "text": [
      "Warning message:\n",
      "“Column `Phylum.x` joining factor and character vector, coercing into character vector”Warning message:\n",
      "“Column `Phylum.y` joining factor and character vector, coercing into character vector”"
     ]
    },
    {
     "data": {
      "text/html": [
       "<table>\n",
       "<thead><tr><th scope=col>Phylum.x</th><th scope=col>Phylum.y</th><th scope=col>sign</th><th scope=col>perc_of_edges</th><th scope=col>edges_norm</th></tr></thead>\n",
       "<tbody>\n",
       "\t<tr><td>Proteobacteria</td><td>Proteobacteria</td><td>-1            </td><td>0.84          </td><td>0.024         </td></tr>\n",
       "\t<tr><td>Proteobacteria</td><td>Proteobacteria</td><td>1             </td><td>5.88          </td><td>0.167         </td></tr>\n",
       "\t<tr><td>Proteobacteria</td><td>Firmicutes    </td><td>1             </td><td>1.28          </td><td>0.112         </td></tr>\n",
       "\t<tr><td>Firmicutes    </td><td>Firmicutes    </td><td>1             </td><td>1.07          </td><td>0.276         </td></tr>\n",
       "\t<tr><td>Firmicutes    </td><td>Bacteroidetes </td><td>1             </td><td>1.06          </td><td>0.014         </td></tr>\n",
       "\t<tr><td>Bacteroidetes </td><td>Bacteroidetes </td><td>1             </td><td>0.90          </td><td>0.037         </td></tr>\n",
       "\t<tr><td>Proteobacteria</td><td>Bacteroidetes </td><td>1             </td><td>0.40          </td><td>0.027         </td></tr>\n",
       "\t<tr><td>Bacteroidetes </td><td>Firmicutes    </td><td>1             </td><td>0.30          </td><td>0.039         </td></tr>\n",
       "\t<tr><td>Euryarchaeota </td><td>Firmicutes    </td><td>1             </td><td>0.24          </td><td>0.003         </td></tr>\n",
       "</tbody>\n",
       "</table>\n"
      ],
      "text/latex": [
       "\\begin{tabular}{r|lllll}\n",
       " Phylum.x & Phylum.y & sign & perc\\_of\\_edges & edges\\_norm\\\\\n",
       "\\hline\n",
       "\t Proteobacteria & Proteobacteria & -1             & 0.84           & 0.024         \\\\\n",
       "\t Proteobacteria & Proteobacteria & 1              & 5.88           & 0.167         \\\\\n",
       "\t Proteobacteria & Firmicutes     & 1              & 1.28           & 0.112         \\\\\n",
       "\t Firmicutes     & Firmicutes     & 1              & 1.07           & 0.276         \\\\\n",
       "\t Firmicutes     & Bacteroidetes  & 1              & 1.06           & 0.014         \\\\\n",
       "\t Bacteroidetes  & Bacteroidetes  & 1              & 0.90           & 0.037         \\\\\n",
       "\t Proteobacteria & Bacteroidetes  & 1              & 0.40           & 0.027         \\\\\n",
       "\t Bacteroidetes  & Firmicutes     & 1              & 0.30           & 0.039         \\\\\n",
       "\t Euryarchaeota  & Firmicutes     & 1              & 0.24           & 0.003         \\\\\n",
       "\\end{tabular}\n"
      ],
      "text/markdown": [
       "\n",
       "Phylum.x | Phylum.y | sign | perc_of_edges | edges_norm | \n",
       "|---|---|---|---|---|---|---|---|---|\n",
       "| Proteobacteria | Proteobacteria | -1             | 0.84           | 0.024          | \n",
       "| Proteobacteria | Proteobacteria | 1              | 5.88           | 0.167          | \n",
       "| Proteobacteria | Firmicutes     | 1              | 1.28           | 0.112          | \n",
       "| Firmicutes     | Firmicutes     | 1              | 1.07           | 0.276          | \n",
       "| Firmicutes     | Bacteroidetes  | 1              | 1.06           | 0.014          | \n",
       "| Bacteroidetes  | Bacteroidetes  | 1              | 0.90           | 0.037          | \n",
       "| Proteobacteria | Bacteroidetes  | 1              | 0.40           | 0.027          | \n",
       "| Bacteroidetes  | Firmicutes     | 1              | 0.30           | 0.039          | \n",
       "| Euryarchaeota  | Firmicutes     | 1              | 0.24           | 0.003          | \n",
       "\n",
       "\n"
      ],
      "text/plain": [
       "  Phylum.x       Phylum.y       sign perc_of_edges edges_norm\n",
       "1 Proteobacteria Proteobacteria -1   0.84          0.024     \n",
       "2 Proteobacteria Proteobacteria 1    5.88          0.167     \n",
       "3 Proteobacteria Firmicutes     1    1.28          0.112     \n",
       "4 Firmicutes     Firmicutes     1    1.07          0.276     \n",
       "5 Firmicutes     Bacteroidetes  1    1.06          0.014     \n",
       "6 Bacteroidetes  Bacteroidetes  1    0.90          0.037     \n",
       "7 Proteobacteria Bacteroidetes  1    0.40          0.027     \n",
       "8 Bacteroidetes  Firmicutes     1    0.30          0.039     \n",
       "9 Euryarchaeota  Firmicutes     1    0.24          0.003     "
      ]
     },
     "metadata": {},
     "output_type": "display_data"
    }
   ],
   "source": [
    "# both tables\n",
    "x1 %>%\n",
    "    full_join(x2, c('Phylum.x', 'Phylum.y', 'sign'))"
   ]
  },
  {
   "cell_type": "markdown",
   "metadata": {},
   "source": [
    "## Saving network"
   ]
  },
  {
   "cell_type": "code",
   "execution_count": 130,
   "metadata": {
    "ExecuteTime": {
     "end_time": "2018-08-09T13:17:03.594951Z",
     "start_time": "2018-08-09T13:17:18.073Z"
    }
   },
   "outputs": [
    {
     "data": {
      "text/html": [
       "'/ebio/abt3_projects/Georg_animal_feces/data/assembly/cooccur//IndD-sens_OTU-binom_ntwk-tbl.RDS'"
      ],
      "text/latex": [
       "'/ebio/abt3\\_projects/Georg\\_animal\\_feces/data/assembly/cooccur//IndD-sens\\_OTU-binom\\_ntwk-tbl.RDS'"
      ],
      "text/markdown": [
       "'/ebio/abt3_projects/Georg_animal_feces/data/assembly/cooccur//IndD-sens_OTU-binom_ntwk-tbl.RDS'"
      ],
      "text/plain": [
       "[1] \"/ebio/abt3_projects/Georg_animal_feces/data/assembly/cooccur//IndD-sens_OTU-binom_ntwk-tbl.RDS\""
      ]
     },
     "metadata": {},
     "output_type": "display_data"
    }
   ],
   "source": [
    "# output file\n",
    "ntwk_obj_file = file.path(work_dir, 'IndD-sens_OTU-binom_ntwk-tbl.RDS')\n",
    "ntwk_obj_file"
   ]
  },
  {
   "cell_type": "code",
   "execution_count": 131,
   "metadata": {
    "ExecuteTime": {
     "end_time": "2018-08-09T13:17:04.555007Z",
     "start_time": "2018-08-09T13:17:18.648Z"
    }
   },
   "outputs": [
    {
     "name": "stdout",
     "output_type": "stream",
     "text": [
      "File written: /ebio/abt3_projects/Georg_animal_feces/data/assembly/cooccur//IndD-sens_OTU-binom_ntwk-tbl.RDS \n"
     ]
    }
   ],
   "source": [
    "# saving object\n",
    "saveRDS(cooccur_res_pt_s, file=ntwk_obj_file)\n",
    "cat('File written:', ntwk_obj_file, '\\n')"
   ]
  },
  {
   "cell_type": "code",
   "execution_count": 132,
   "metadata": {
    "ExecuteTime": {
     "end_time": "2018-08-09T13:17:04.832998Z",
     "start_time": "2018-08-09T13:17:19.193Z"
    }
   },
   "outputs": [
    {
     "name": "stdout",
     "output_type": "stream",
     "text": [
      "[1] 26848    24\n"
     ]
    },
    {
     "data": {
      "text/html": [
       "<table>\n",
       "<thead><tr><th scope=col>sp1_name</th><th scope=col>sp2_name</th><th scope=col>obs_cooccur</th><th scope=col>prob_cooccur</th><th scope=col>exp_cooccur</th><th scope=col>q_gt</th><th scope=col>q_lt</th><th scope=col>sign</th><th scope=col>Domain.x</th><th scope=col>Phylum.x</th><th scope=col>⋯</th><th scope=col>Species.x</th><th scope=col>Domain.y</th><th scope=col>Phylum.y</th><th scope=col>Class.y</th><th scope=col>Order.y</th><th scope=col>Family.y</th><th scope=col>Genus.y</th><th scope=col>Species.y</th><th scope=col>sd_effects</th><th scope=col>effects</th></tr></thead>\n",
       "<tbody>\n",
       "\t<tr><td>003c4ae8c3fbf5aee27b58e6b7fd5e10</td><td>0215b7637847641274246f9414d2b649</td><td>0                               </td><td>0.008870968                     </td><td>1.124194                        </td><td>1.00                            </td><td>1                               </td><td>0                               </td><td>Bacteria                        </td><td>Tenericutes                     </td><td>⋯                               </td><td>                                </td><td>Bacteria                        </td><td>Firmicutes                      </td><td>Bacilli                         </td><td>Lactobacillales                 </td><td>Enterococcaceae                 </td><td>Enterococcus                    </td><td>unclassified                    </td><td>0.0009870516                    </td><td>-0.008782762                    </td></tr>\n",
       "\t<tr><td>003c4ae8c3fbf5aee27b58e6b7fd5e10</td><td>09aa18b6829bdca56e6f9aff75f581dd</td><td>0                               </td><td>0.008675676                     </td><td>1.097297                        </td><td>1.00                            </td><td>1                               </td><td>0                               </td><td>Bacteria                        </td><td>Tenericutes                     </td><td>⋯                               </td><td>                                </td><td>Bacteria                        </td><td>Firmicutes                      </td><td>Clostridia                      </td><td>Clostridiales                   </td><td>Ruminococcaceae                 </td><td>uncultured                      </td><td>unclassified                    </td><td>0.0007476836                    </td><td>-0.008572635                    </td></tr>\n",
       "\t<tr><td>003c4ae8c3fbf5aee27b58e6b7fd5e10</td><td>1b5fb6f4fd4f5e63f7bb4b6d9e1d40e8</td><td>8                               </td><td>0.008125000                     </td><td>1.062500                        </td><td>0.92                            </td><td>1                               </td><td>0                               </td><td>Bacteria                        </td><td>Tenericutes                     </td><td>⋯                               </td><td>                                </td><td>Bacteria                        </td><td>Firmicutes                      </td><td>Clostridia                      </td><td>Clostridiales                   </td><td>Ruminococcaceae                 </td><td>uncultured                      </td><td>unclassified                    </td><td>0.0005812686                    </td><td> 0.054199219                    </td></tr>\n",
       "</tbody>\n",
       "</table>\n"
      ],
      "text/latex": [
       "\\begin{tabular}{r|llllllllllllllllllllllll}\n",
       " sp1\\_name & sp2\\_name & obs\\_cooccur & prob\\_cooccur & exp\\_cooccur & q\\_gt & q\\_lt & sign & Domain.x & Phylum.x & ⋯ & Species.x & Domain.y & Phylum.y & Class.y & Order.y & Family.y & Genus.y & Species.y & sd\\_effects & effects\\\\\n",
       "\\hline\n",
       "\t 003c4ae8c3fbf5aee27b58e6b7fd5e10 & 0215b7637847641274246f9414d2b649 & 0                                & 0.008870968                      & 1.124194                         & 1.00                             & 1                                & 0                                & Bacteria                         & Tenericutes                      & ⋯                                &                                  & Bacteria                         & Firmicutes                       & Bacilli                          & Lactobacillales                  & Enterococcaceae                  & Enterococcus                     & unclassified                     & 0.0009870516                     & -0.008782762                    \\\\\n",
       "\t 003c4ae8c3fbf5aee27b58e6b7fd5e10 & 09aa18b6829bdca56e6f9aff75f581dd & 0                                & 0.008675676                      & 1.097297                         & 1.00                             & 1                                & 0                                & Bacteria                         & Tenericutes                      & ⋯                                &                                  & Bacteria                         & Firmicutes                       & Clostridia                       & Clostridiales                    & Ruminococcaceae                  & uncultured                       & unclassified                     & 0.0007476836                     & -0.008572635                    \\\\\n",
       "\t 003c4ae8c3fbf5aee27b58e6b7fd5e10 & 1b5fb6f4fd4f5e63f7bb4b6d9e1d40e8 & 8                                & 0.008125000                      & 1.062500                         & 0.92                             & 1                                & 0                                & Bacteria                         & Tenericutes                      & ⋯                                &                                  & Bacteria                         & Firmicutes                       & Clostridia                       & Clostridiales                    & Ruminococcaceae                  & uncultured                       & unclassified                     & 0.0005812686                     &  0.054199219                    \\\\\n",
       "\\end{tabular}\n"
      ],
      "text/markdown": [
       "\n",
       "sp1_name | sp2_name | obs_cooccur | prob_cooccur | exp_cooccur | q_gt | q_lt | sign | Domain.x | Phylum.x | ⋯ | Species.x | Domain.y | Phylum.y | Class.y | Order.y | Family.y | Genus.y | Species.y | sd_effects | effects | \n",
       "|---|---|---|\n",
       "| 003c4ae8c3fbf5aee27b58e6b7fd5e10 | 0215b7637847641274246f9414d2b649 | 0                                | 0.008870968                      | 1.124194                         | 1.00                             | 1                                | 0                                | Bacteria                         | Tenericutes                      | ⋯                                |                                  | Bacteria                         | Firmicutes                       | Bacilli                          | Lactobacillales                  | Enterococcaceae                  | Enterococcus                     | unclassified                     | 0.0009870516                     | -0.008782762                     | \n",
       "| 003c4ae8c3fbf5aee27b58e6b7fd5e10 | 09aa18b6829bdca56e6f9aff75f581dd | 0                                | 0.008675676                      | 1.097297                         | 1.00                             | 1                                | 0                                | Bacteria                         | Tenericutes                      | ⋯                                |                                  | Bacteria                         | Firmicutes                       | Clostridia                       | Clostridiales                    | Ruminococcaceae                  | uncultured                       | unclassified                     | 0.0007476836                     | -0.008572635                     | \n",
       "| 003c4ae8c3fbf5aee27b58e6b7fd5e10 | 1b5fb6f4fd4f5e63f7bb4b6d9e1d40e8 | 8                                | 0.008125000                      | 1.062500                         | 0.92                             | 1                                | 0                                | Bacteria                         | Tenericutes                      | ⋯                                |                                  | Bacteria                         | Firmicutes                       | Clostridia                       | Clostridiales                    | Ruminococcaceae                  | uncultured                       | unclassified                     | 0.0005812686                     |  0.054199219                     | \n",
       "\n",
       "\n"
      ],
      "text/plain": [
       "  sp1_name                         sp2_name                         obs_cooccur\n",
       "1 003c4ae8c3fbf5aee27b58e6b7fd5e10 0215b7637847641274246f9414d2b649 0          \n",
       "2 003c4ae8c3fbf5aee27b58e6b7fd5e10 09aa18b6829bdca56e6f9aff75f581dd 0          \n",
       "3 003c4ae8c3fbf5aee27b58e6b7fd5e10 1b5fb6f4fd4f5e63f7bb4b6d9e1d40e8 8          \n",
       "  prob_cooccur exp_cooccur q_gt q_lt sign Domain.x Phylum.x    ⋯ Species.x\n",
       "1 0.008870968  1.124194    1.00 1    0    Bacteria Tenericutes ⋯          \n",
       "2 0.008675676  1.097297    1.00 1    0    Bacteria Tenericutes ⋯          \n",
       "3 0.008125000  1.062500    0.92 1    0    Bacteria Tenericutes ⋯          \n",
       "  Domain.y Phylum.y   Class.y    Order.y         Family.y        Genus.y     \n",
       "1 Bacteria Firmicutes Bacilli    Lactobacillales Enterococcaceae Enterococcus\n",
       "2 Bacteria Firmicutes Clostridia Clostridiales   Ruminococcaceae uncultured  \n",
       "3 Bacteria Firmicutes Clostridia Clostridiales   Ruminococcaceae uncultured  \n",
       "  Species.y    sd_effects   effects     \n",
       "1 unclassified 0.0009870516 -0.008782762\n",
       "2 unclassified 0.0007476836 -0.008572635\n",
       "3 unclassified 0.0005812686  0.054199219"
      ]
     },
     "metadata": {},
     "output_type": "display_data"
    }
   ],
   "source": [
    "# re-loading object\n",
    "cooccur_res_pt_s = readRDS(ntwk_obj_file)\n",
    "cooccur_res_pt_s %>% dfhead"
   ]
  },
  {
   "cell_type": "markdown",
   "metadata": {},
   "source": [
    "# sessionInfo"
   ]
  },
  {
   "cell_type": "code",
   "execution_count": 133,
   "metadata": {
    "ExecuteTime": {
     "end_time": "2018-08-09T13:17:56.070727Z",
     "start_time": "2018-08-09T13:18:09.927Z"
    }
   },
   "outputs": [
    {
     "data": {
      "text/plain": [
       "R version 3.4.1 (2017-06-30)\n",
       "Platform: x86_64-pc-linux-gnu (64-bit)\n",
       "Running under: Ubuntu 18.04.1 LTS\n",
       "\n",
       "Matrix products: default\n",
       "BLAS: /ebio/abt3_projects/software/miniconda3_gt4.4/envs/py3_physeq_eco/lib/R/lib/libRblas.so\n",
       "LAPACK: /ebio/abt3_projects/software/miniconda3_gt4.4/envs/py3_physeq_eco/lib/R/lib/libRlapack.so\n",
       "\n",
       "locale:\n",
       "[1] en_US.UTF-8\n",
       "\n",
       "attached base packages:\n",
       "[1] stats     graphics  grDevices utils     datasets  methods   base     \n",
       "\n",
       "other attached packages:\n",
       " [1] bindrcpp_0.2.2          future.apply_1.0.0      future.batchtools_0.7.1\n",
       " [4] future_1.8.1            cooccur_1.3             networkD3_0.4          \n",
       " [7] phyloseq_1.22.3         ggplot2_3.0.0           tidyr_0.8.1            \n",
       "[10] dplyr_0.7.6            \n",
       "\n",
       "loaded via a namespace (and not attached):\n",
       " [1] Biobase_2.38.0      jsonlite_1.5        splines_3.4.1      \n",
       " [4] foreach_1.4.4       assertthat_0.2.0    stats4_3.4.1       \n",
       " [7] base64url_1.4       progress_1.2.0      globals_0.12.1     \n",
       "[10] backports_1.1.2     pillar_1.2.2        lattice_0.20-34    \n",
       "[13] glue_1.3.0          uuid_0.1-2          digest_0.6.15      \n",
       "[16] checkmate_1.8.5     XVector_0.18.0      colorspace_1.3-2   \n",
       "[19] htmltools_0.3.6     Matrix_1.2-14       plyr_1.8.4         \n",
       "[22] pkgconfig_2.0.1     listenv_0.7.0       zlibbioc_1.24.0    \n",
       "[25] purrr_0.2.4         scales_0.5.0        brew_1.0-6         \n",
       "[28] tibble_1.4.2        mgcv_1.8-24         gmp_0.5-13.2       \n",
       "[31] IRanges_2.12.0      withr_2.1.1         repr_0.15.0        \n",
       "[34] BiocGenerics_0.24.0 lazyeval_0.2.1      survival_2.42-6    \n",
       "[37] magrittr_1.5        crayon_1.3.4        evaluate_0.10.1    \n",
       "[40] fs_1.2.4            doParallel_1.0.11   nlme_3.1-131       \n",
       "[43] MASS_7.3-50         vegan_2.4-3         prettyunits_1.0.2  \n",
       "[46] tools_3.4.1         data.table_1.11.4   hms_0.3            \n",
       "[49] stringr_1.3.1       S4Vectors_0.16.0    munsell_0.5.0      \n",
       "[52] cluster_2.0.6       Biostrings_2.46.0   ade4_1.7-11        \n",
       "[55] compiler_3.4.1      rlang_0.2.1         rhdf5_2.22.0       \n",
       "[58] grid_3.4.1          pbdZMQ_0.3-2        iterators_1.0.10   \n",
       "[61] IRkernel_0.8.12     biomformat_1.6.0    rappdirs_0.3.1     \n",
       "[64] htmlwidgets_1.0     igraph_1.2.1        labeling_0.3       \n",
       "[67] base64enc_0.1-3     gtable_0.2.0        codetools_0.2-15   \n",
       "[70] multtest_2.34.0     reshape2_1.4.3      R6_2.2.2           \n",
       "[73] bindr_0.1.1         permute_0.9-4       ape_5.1            \n",
       "[76] stringi_1.2.3       parallel_3.4.1      IRdisplay_0.4.4    \n",
       "[79] Rcpp_0.12.17        batchtools_0.9.10   tidyselect_0.2.4   "
      ]
     },
     "metadata": {},
     "output_type": "display_data"
    }
   ],
   "source": [
    "sessionInfo()"
   ]
  },
  {
   "cell_type": "code",
   "execution_count": null,
   "metadata": {},
   "outputs": [],
   "source": []
  }
 ],
 "metadata": {
  "kernelspec": {
   "display_name": "R [conda env:py3_physeq_eco]",
   "language": "R",
   "name": "conda-env-py3_physeq_eco-r"
  },
  "language_info": {
   "codemirror_mode": "r",
   "file_extension": ".r",
   "mimetype": "text/x-r-source",
   "name": "R",
   "pygments_lexer": "r",
   "version": "3.4.1"
  },
  "notify_time": "30",
  "toc": {
   "base_numbering": 1,
   "nav_menu": {},
   "number_sections": true,
   "sideBar": true,
   "skip_h1_title": false,
   "title_cell": "Table of Contents",
   "title_sidebar": "Contents",
   "toc_cell": true,
   "toc_position": {
    "height": "calc(100% - 180px)",
    "left": "10px",
    "top": "150px",
    "width": "256px"
   },
   "toc_section_display": true,
   "toc_window_display": true
  }
 },
 "nbformat": 4,
 "nbformat_minor": 2
}
