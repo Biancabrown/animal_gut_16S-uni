{
 "cells": [
  {
   "cell_type": "markdown",
   "metadata": {
    "toc": true
   },
   "source": [
    "<h1>Table of Contents<span class=\"tocSkip\"></span></h1>\n",
    "<div class=\"toc\"><ul class=\"toc-item\"><li><span><a href=\"#Goal\" data-toc-modified-id=\"Goal-1\"><span class=\"toc-item-num\">1&nbsp;&nbsp;</span>Goal</a></span></li><li><span><a href=\"#Var\" data-toc-modified-id=\"Var-2\"><span class=\"toc-item-num\">2&nbsp;&nbsp;</span>Var</a></span></li><li><span><a href=\"#Init\" data-toc-modified-id=\"Init-3\"><span class=\"toc-item-num\">3&nbsp;&nbsp;</span>Init</a></span><ul class=\"toc-item\"><li><span><a href=\"#Functions\" data-toc-modified-id=\"Functions-3.1\"><span class=\"toc-item-num\">3.1&nbsp;&nbsp;</span>Functions</a></span></li></ul></li><li><span><a href=\"#Load\" data-toc-modified-id=\"Load-4\"><span class=\"toc-item-num\">4&nbsp;&nbsp;</span>Load</a></span></li><li><span><a href=\"#Format\" data-toc-modified-id=\"Format-5\"><span class=\"toc-item-num\">5&nbsp;&nbsp;</span>Format</a></span></li><li><span><a href=\"#IndD-sensitivity\" data-toc-modified-id=\"IndD-sensitivity-6\"><span class=\"toc-item-num\">6&nbsp;&nbsp;</span>IndD sensitivity</a></span><ul class=\"toc-item\"><li><span><a href=\"#mpd\" data-toc-modified-id=\"mpd-6.1\"><span class=\"toc-item-num\">6.1&nbsp;&nbsp;</span>mpd</a></span><ul class=\"toc-item\"><li><span><a href=\"#Summarizing\" data-toc-modified-id=\"Summarizing-6.1.1\"><span class=\"toc-item-num\">6.1.1&nbsp;&nbsp;</span>Summarizing</a></span></li></ul></li><li><span><a href=\"#mntd\" data-toc-modified-id=\"mntd-6.2\"><span class=\"toc-item-num\">6.2&nbsp;&nbsp;</span>mntd</a></span><ul class=\"toc-item\"><li><span><a href=\"#Summarizing\" data-toc-modified-id=\"Summarizing-6.2.1\"><span class=\"toc-item-num\">6.2.1&nbsp;&nbsp;</span>Summarizing</a></span></li></ul></li><li><span><a href=\"#Stats\" data-toc-modified-id=\"Stats-6.3\"><span class=\"toc-item-num\">6.3&nbsp;&nbsp;</span>Stats</a></span></li><li><span><a href=\"#Summary-plots\" data-toc-modified-id=\"Summary-plots-6.4\"><span class=\"toc-item-num\">6.4&nbsp;&nbsp;</span>Summary plots</a></span></li><li><span><a href=\"#iTOL-plotting\" data-toc-modified-id=\"iTOL-plotting-6.5\"><span class=\"toc-item-num\">6.5&nbsp;&nbsp;</span>iTOL plotting</a></span><ul class=\"toc-item\"><li><span><a href=\"#Heatmap-of-obs.z\" data-toc-modified-id=\"Heatmap-of-obs.z-6.5.1\"><span class=\"toc-item-num\">6.5.1&nbsp;&nbsp;</span>Heatmap of obs.z</a></span></li><li><span><a href=\"#Color-strip-of-clustered/even\" data-toc-modified-id=\"Color-strip-of-clustered/even-6.5.2\"><span class=\"toc-item-num\">6.5.2&nbsp;&nbsp;</span>Color strip of clustered/even</a></span><ul class=\"toc-item\"><li><span><a href=\"#mpd\" data-toc-modified-id=\"mpd-6.5.2.1\"><span class=\"toc-item-num\">6.5.2.1&nbsp;&nbsp;</span>mpd</a></span></li><li><span><a href=\"#mntd\" data-toc-modified-id=\"mntd-6.5.2.2\"><span class=\"toc-item-num\">6.5.2.2&nbsp;&nbsp;</span>mntd</a></span></li></ul></li></ul></li></ul></li><li><span><a href=\"#sessionInfo\" data-toc-modified-id=\"sessionInfo-7\"><span class=\"toc-item-num\">7&nbsp;&nbsp;</span>sessionInfo</a></span></li></ul></div>"
   ]
  },
  {
   "cell_type": "markdown",
   "metadata": {},
   "source": [
    "# Goal\n",
    "\n",
    "* Calculate relatedness on taxa"
   ]
  },
  {
   "cell_type": "markdown",
   "metadata": {},
   "source": [
    "# Var"
   ]
  },
  {
   "cell_type": "code",
   "execution_count": 1,
   "metadata": {
    "ExecuteTime": {
     "end_time": "2018-09-19T12:26:44.999419Z",
     "start_time": "2018-09-19T12:26:43.161Z"
    }
   },
   "outputs": [],
   "source": [
    "work_dir = '/ebio/abt3_projects/Georg_animal_feces/data/assembly/relatedness/'\n",
    "\n",
    "# phyloseq\n",
    "physeq_file = '/ebio/abt3_projects/Georg_animal_feces/data/16S/LLA/phyloseq/physeq_r5k.RDS'\n",
    "\n",
    "# params\n",
    "threads = 12\n",
    "sparsity_cutoff = 0.05\n",
    "n_subsample_reps = 100\n",
    "model_runs = 999"
   ]
  },
  {
   "cell_type": "markdown",
   "metadata": {},
   "source": [
    "# Init"
   ]
  },
  {
   "cell_type": "code",
   "execution_count": 5,
   "metadata": {
    "ExecuteTime": {
     "end_time": "2018-09-19T12:29:54.389213Z",
     "start_time": "2018-09-19T12:29:53.986Z"
    }
   },
   "outputs": [],
   "source": [
    "library(dplyr)\n",
    "library(tidyr)\n",
    "library(ggplot2)\n",
    "library(phyloseq)\n",
    "\n",
    "library(ape)\n",
    "library(picante)\n",
    "\n",
    "library(future)\n",
    "library(future.batchtools)\n",
    "library(future.apply)\n",
    "\n",
    "source('/ebio/abt3_projects/Georg_animal_feces/code/init.R') \n",
    "source('/ebio/abt3_projects/Georg_animal_feces/code/itol.R') "
   ]
  },
  {
   "cell_type": "markdown",
   "metadata": {},
   "source": [
    "## Functions"
   ]
  },
  {
   "cell_type": "code",
   "execution_count": 6,
   "metadata": {
    "ExecuteTime": {
     "end_time": "2018-09-19T12:29:55.562278Z",
     "start_time": "2018-09-19T12:29:55.535Z"
    }
   },
   "outputs": [],
   "source": [
    "#' determining whether evenness or clustering for most subsample reps\n",
    "even_or_clust = function(x, thresh=0.95){\n",
    "    x = x[!is.na(x)]\n",
    "    y = 'NA'\n",
    "    if(length(x) < 1){\n",
    "        y = 'NA'\n",
    "    } else \n",
    "    if(sum(x == 'even') / length(x) > thresh){\n",
    "        y = 'even'\n",
    "    } else\n",
    "    if(sum(x == 'clustered') / length(x) > thresh){\n",
    "        y = 'clustered'\n",
    "    } \n",
    "    return(y)\n",
    "}"
   ]
  },
  {
   "cell_type": "markdown",
   "metadata": {},
   "source": [
    "# Load"
   ]
  },
  {
   "cell_type": "code",
   "execution_count": 7,
   "metadata": {
    "ExecuteTime": {
     "end_time": "2018-09-19T12:29:57.828219Z",
     "start_time": "2018-09-19T12:29:56.523Z"
    }
   },
   "outputs": [
    {
     "data": {
      "text/plain": [
       "phyloseq-class experiment-level object\n",
       "otu_table()   OTU Table:         [ 30290 taxa and 213 samples ]\n",
       "sample_data() Sample Data:       [ 213 samples by 171 sample variables ]\n",
       "tax_table()   Taxonomy Table:    [ 30290 taxa by 7 taxonomic ranks ]\n",
       "phy_tree()    Phylogenetic Tree: [ 30290 tips and 29752 internal nodes ]"
      ]
     },
     "metadata": {},
     "output_type": "display_data"
    }
   ],
   "source": [
    "physeq = readRDS(physeq_file)\n",
    "physeq"
   ]
  },
  {
   "cell_type": "markdown",
   "metadata": {},
   "source": [
    "# Format"
   ]
  },
  {
   "cell_type": "code",
   "execution_count": 8,
   "metadata": {
    "ExecuteTime": {
     "end_time": "2018-09-19T12:30:01.759515Z",
     "start_time": "2018-09-19T12:29:57.376Z"
    }
   },
   "outputs": [
    {
     "data": {
      "text/plain": [
       "phyloseq-class experiment-level object\n",
       "otu_table()   OTU Table:         [ 408 taxa and 213 samples ]\n",
       "sample_data() Sample Data:       [ 213 samples by 171 sample variables ]\n",
       "tax_table()   Taxonomy Table:    [ 408 taxa by 7 taxonomic ranks ]\n",
       "phy_tree()    Phylogenetic Tree: [ 408 tips and 406 internal nodes ]"
      ]
     },
     "metadata": {},
     "output_type": "display_data"
    }
   ],
   "source": [
    "# sparsity cutoff\n",
    "physeq = physeq %>%\n",
    "    filter_taxa(function(x) sum(x > 0) / length(x) > sparsity_cutoff, TRUE) \n",
    "physeq"
   ]
  },
  {
   "cell_type": "code",
   "execution_count": 9,
   "metadata": {
    "ExecuteTime": {
     "end_time": "2018-09-19T12:30:01.993220Z",
     "start_time": "2018-09-19T12:29:58.163Z"
    }
   },
   "outputs": [
    {
     "data": {
      "text/plain": [
       "phyloseq-class experiment-level object\n",
       "otu_table()   OTU Table:         [ 408 taxa and 213 samples ]\n",
       "sample_data() Sample Data:       [ 213 samples by 171 sample variables ]\n",
       "tax_table()   Taxonomy Table:    [ 408 taxa by 7 taxonomic ranks ]\n",
       "phy_tree()    Phylogenetic Tree: [ 408 tips and 406 internal nodes ]"
      ]
     },
     "metadata": {},
     "output_type": "display_data"
    }
   ],
   "source": [
    "# coverting to binomial\n",
    "physeq = physeq %>%\n",
    "    transform_sample_counts(function(x) ifelse(x > 0, 1, 0)) \n",
    "physeq"
   ]
  },
  {
   "cell_type": "code",
   "execution_count": 12,
   "metadata": {
    "ExecuteTime": {
     "end_time": "2018-09-19T12:30:07.596101Z",
     "start_time": "2018-09-19T12:30:05.339Z"
    }
   },
   "outputs": [
    {
     "name": "stdout",
     "output_type": "stream",
     "text": [
      "[1] 213 408\n"
     ]
    },
    {
     "data": {
      "text/html": [
       "<table>\n",
       "<thead><tr><th></th><th scope=col>368bd5c2255f3a5ce0fef06ca6de1d04</th><th scope=col>779324e5648460c5a67e577c45131b42</th><th scope=col>b918d185ee89a0b33d821ee766d76eb3</th><th scope=col>d3d51a026150fca2a3400c59a6b311cb</th><th scope=col>160c9184bbfc1e5766c508c7bdafa19f</th><th scope=col>f0f035365a85490145f397bf218afbab</th><th scope=col>7282e9b6f799208576024a35f02caa47</th><th scope=col>0e1de44ae4fcc0968e549457277b4fb1</th><th scope=col>ba6caaf355af10bdcdcc625e4f99073e</th><th scope=col>13fabb2c42c260bd77b4358f429eba6c</th><th scope=col>⋯</th><th scope=col>1b4755614ecbdd82a79e77eae5143239</th><th scope=col>d855008e1da5c9a5c3ba81d21b6ea272</th><th scope=col>9dfddc1c446e84f8ff7f5a7332e70e3a</th><th scope=col>6f8aa3da4c4fa50cd74ad28f489adefc</th><th scope=col>22930923dace53039f5eb90d94ceca1e</th><th scope=col>88f04219eab15eae30870064288e9a5f</th><th scope=col>17dac3c523ec0b232c6a9c711d69968f</th><th scope=col>98300b47154d82766e5d100558d1ba09</th><th scope=col>958c1eeaa690e27ee970154111e25192</th><th scope=col>d78e13cf379c4409b2bc382ffb62f962</th></tr></thead>\n",
       "<tbody>\n",
       "\t<tr><th scope=row>X1.Eurasian.Beaver</th><td>0</td><td>0</td><td>0</td><td>0</td><td>0</td><td>0</td><td>0</td><td>0</td><td>0</td><td>0</td><td>⋯</td><td>0</td><td>0</td><td>0</td><td>0</td><td>0</td><td>0</td><td>0</td><td>0</td><td>0</td><td>0</td></tr>\n",
       "\t<tr><th scope=row>X101.Horse</th><td>0</td><td>0</td><td>0</td><td>0</td><td>0</td><td>1</td><td>0</td><td>0</td><td>0</td><td>0</td><td>⋯</td><td>0</td><td>0</td><td>0</td><td>0</td><td>0</td><td>0</td><td>0</td><td>0</td><td>0</td><td>0</td></tr>\n",
       "\t<tr><th scope=row>X102.Kulan</th><td>0</td><td>0</td><td>0</td><td>1</td><td>0</td><td>0</td><td>0</td><td>0</td><td>0</td><td>0</td><td>⋯</td><td>0</td><td>0</td><td>0</td><td>0</td><td>0</td><td>0</td><td>0</td><td>0</td><td>0</td><td>0</td></tr>\n",
       "</tbody>\n",
       "</table>\n"
      ],
      "text/latex": [
       "\\begin{tabular}{r|llllllllllllllllllllllllllllllllllllllllllllllllllllllllllllllllllllllllllllllllllllllllllllllllllllllllllllllllllllllllllllllllllllllllllllllllllllllllllllllllllllllllllllllllllllllllllllllllllllllllllllllllllllllllllllllllllllllllllllllllllllllllllllllllllllllllllllllllllllllllllllllllllllllllllllllllllllllllllllllllllllllllllllllllllllllllllllllllllllllllllllllllllllllllllllllllllllllllllllllllllllllll}\n",
       "  & 368bd5c2255f3a5ce0fef06ca6de1d04 & 779324e5648460c5a67e577c45131b42 & b918d185ee89a0b33d821ee766d76eb3 & d3d51a026150fca2a3400c59a6b311cb & 160c9184bbfc1e5766c508c7bdafa19f & f0f035365a85490145f397bf218afbab & 7282e9b6f799208576024a35f02caa47 & 0e1de44ae4fcc0968e549457277b4fb1 & ba6caaf355af10bdcdcc625e4f99073e & 13fabb2c42c260bd77b4358f429eba6c & ⋯ & 1b4755614ecbdd82a79e77eae5143239 & d855008e1da5c9a5c3ba81d21b6ea272 & 9dfddc1c446e84f8ff7f5a7332e70e3a & 6f8aa3da4c4fa50cd74ad28f489adefc & 22930923dace53039f5eb90d94ceca1e & 88f04219eab15eae30870064288e9a5f & 17dac3c523ec0b232c6a9c711d69968f & 98300b47154d82766e5d100558d1ba09 & 958c1eeaa690e27ee970154111e25192 & d78e13cf379c4409b2bc382ffb62f962\\\\\n",
       "\\hline\n",
       "\tX1.Eurasian.Beaver & 0 & 0 & 0 & 0 & 0 & 0 & 0 & 0 & 0 & 0 & ⋯ & 0 & 0 & 0 & 0 & 0 & 0 & 0 & 0 & 0 & 0\\\\\n",
       "\tX101.Horse & 0 & 0 & 0 & 0 & 0 & 1 & 0 & 0 & 0 & 0 & ⋯ & 0 & 0 & 0 & 0 & 0 & 0 & 0 & 0 & 0 & 0\\\\\n",
       "\tX102.Kulan & 0 & 0 & 0 & 1 & 0 & 0 & 0 & 0 & 0 & 0 & ⋯ & 0 & 0 & 0 & 0 & 0 & 0 & 0 & 0 & 0 & 0\\\\\n",
       "\\end{tabular}\n"
      ],
      "text/markdown": [
       "\n",
       "| <!--/--> | 368bd5c2255f3a5ce0fef06ca6de1d04 | 779324e5648460c5a67e577c45131b42 | b918d185ee89a0b33d821ee766d76eb3 | d3d51a026150fca2a3400c59a6b311cb | 160c9184bbfc1e5766c508c7bdafa19f | f0f035365a85490145f397bf218afbab | 7282e9b6f799208576024a35f02caa47 | 0e1de44ae4fcc0968e549457277b4fb1 | ba6caaf355af10bdcdcc625e4f99073e | 13fabb2c42c260bd77b4358f429eba6c | ⋯ | 1b4755614ecbdd82a79e77eae5143239 | d855008e1da5c9a5c3ba81d21b6ea272 | 9dfddc1c446e84f8ff7f5a7332e70e3a | 6f8aa3da4c4fa50cd74ad28f489adefc | 22930923dace53039f5eb90d94ceca1e | 88f04219eab15eae30870064288e9a5f | 17dac3c523ec0b232c6a9c711d69968f | 98300b47154d82766e5d100558d1ba09 | 958c1eeaa690e27ee970154111e25192 | d78e13cf379c4409b2bc382ffb62f962 | \n",
       "|---|---|---|\n",
       "| X1.Eurasian.Beaver | 0 | 0 | 0 | 0 | 0 | 0 | 0 | 0 | 0 | 0 | ⋯ | 0 | 0 | 0 | 0 | 0 | 0 | 0 | 0 | 0 | 0 | \n",
       "| X101.Horse | 0 | 0 | 0 | 0 | 0 | 1 | 0 | 0 | 0 | 0 | ⋯ | 0 | 0 | 0 | 0 | 0 | 0 | 0 | 0 | 0 | 0 | \n",
       "| X102.Kulan | 0 | 0 | 0 | 1 | 0 | 0 | 0 | 0 | 0 | 0 | ⋯ | 0 | 0 | 0 | 0 | 0 | 0 | 0 | 0 | 0 | 0 | \n",
       "\n",
       "\n"
      ],
      "text/plain": [
       "                   368bd5c2255f3a5ce0fef06ca6de1d04\n",
       "X1.Eurasian.Beaver 0                               \n",
       "X101.Horse         0                               \n",
       "X102.Kulan         0                               \n",
       "                   779324e5648460c5a67e577c45131b42\n",
       "X1.Eurasian.Beaver 0                               \n",
       "X101.Horse         0                               \n",
       "X102.Kulan         0                               \n",
       "                   b918d185ee89a0b33d821ee766d76eb3\n",
       "X1.Eurasian.Beaver 0                               \n",
       "X101.Horse         0                               \n",
       "X102.Kulan         0                               \n",
       "                   d3d51a026150fca2a3400c59a6b311cb\n",
       "X1.Eurasian.Beaver 0                               \n",
       "X101.Horse         0                               \n",
       "X102.Kulan         1                               \n",
       "                   160c9184bbfc1e5766c508c7bdafa19f\n",
       "X1.Eurasian.Beaver 0                               \n",
       "X101.Horse         0                               \n",
       "X102.Kulan         0                               \n",
       "                   f0f035365a85490145f397bf218afbab\n",
       "X1.Eurasian.Beaver 0                               \n",
       "X101.Horse         1                               \n",
       "X102.Kulan         0                               \n",
       "                   7282e9b6f799208576024a35f02caa47\n",
       "X1.Eurasian.Beaver 0                               \n",
       "X101.Horse         0                               \n",
       "X102.Kulan         0                               \n",
       "                   0e1de44ae4fcc0968e549457277b4fb1\n",
       "X1.Eurasian.Beaver 0                               \n",
       "X101.Horse         0                               \n",
       "X102.Kulan         0                               \n",
       "                   ba6caaf355af10bdcdcc625e4f99073e\n",
       "X1.Eurasian.Beaver 0                               \n",
       "X101.Horse         0                               \n",
       "X102.Kulan         0                               \n",
       "                   13fabb2c42c260bd77b4358f429eba6c ⋯\n",
       "X1.Eurasian.Beaver 0                                ⋯\n",
       "X101.Horse         0                                ⋯\n",
       "X102.Kulan         0                                ⋯\n",
       "                   1b4755614ecbdd82a79e77eae5143239\n",
       "X1.Eurasian.Beaver 0                               \n",
       "X101.Horse         0                               \n",
       "X102.Kulan         0                               \n",
       "                   d855008e1da5c9a5c3ba81d21b6ea272\n",
       "X1.Eurasian.Beaver 0                               \n",
       "X101.Horse         0                               \n",
       "X102.Kulan         0                               \n",
       "                   9dfddc1c446e84f8ff7f5a7332e70e3a\n",
       "X1.Eurasian.Beaver 0                               \n",
       "X101.Horse         0                               \n",
       "X102.Kulan         0                               \n",
       "                   6f8aa3da4c4fa50cd74ad28f489adefc\n",
       "X1.Eurasian.Beaver 0                               \n",
       "X101.Horse         0                               \n",
       "X102.Kulan         0                               \n",
       "                   22930923dace53039f5eb90d94ceca1e\n",
       "X1.Eurasian.Beaver 0                               \n",
       "X101.Horse         0                               \n",
       "X102.Kulan         0                               \n",
       "                   88f04219eab15eae30870064288e9a5f\n",
       "X1.Eurasian.Beaver 0                               \n",
       "X101.Horse         0                               \n",
       "X102.Kulan         0                               \n",
       "                   17dac3c523ec0b232c6a9c711d69968f\n",
       "X1.Eurasian.Beaver 0                               \n",
       "X101.Horse         0                               \n",
       "X102.Kulan         0                               \n",
       "                   98300b47154d82766e5d100558d1ba09\n",
       "X1.Eurasian.Beaver 0                               \n",
       "X101.Horse         0                               \n",
       "X102.Kulan         0                               \n",
       "                   958c1eeaa690e27ee970154111e25192\n",
       "X1.Eurasian.Beaver 0                               \n",
       "X101.Horse         0                               \n",
       "X102.Kulan         0                               \n",
       "                   d78e13cf379c4409b2bc382ffb62f962\n",
       "X1.Eurasian.Beaver 0                               \n",
       "X101.Horse         0                               \n",
       "X102.Kulan         0                               "
      ]
     },
     "metadata": {},
     "output_type": "display_data"
    }
   ],
   "source": [
    "# convert to comm table\n",
    "comm = physeq %>%\n",
    "    otu_table %>%\n",
    "    as.matrix %>% \n",
    "    t %>%\n",
    "    as.data.frame \n",
    "\n",
    "comm %>% dfhead"
   ]
  },
  {
   "cell_type": "code",
   "execution_count": 13,
   "metadata": {
    "ExecuteTime": {
     "end_time": "2018-09-19T12:30:09.456697Z",
     "start_time": "2018-09-19T12:30:09.370Z"
    }
   },
   "outputs": [
    {
     "data": {
      "text/plain": [
       "\n",
       "Phylogenetic tree with 408 tips and 406 internal nodes.\n",
       "\n",
       "Tip labels:\n",
       "\t368bd5c2255f3a5ce0fef06ca6de1d04, 779324e5648460c5a67e577c45131b42, b918d185ee89a0b33d821ee766d76eb3, d3d51a026150fca2a3400c59a6b311cb, 160c9184bbfc1e5766c508c7bdafa19f, f0f035365a85490145f397bf218afbab, ...\n",
       "Node labels:\n",
       "\t0.435, 0.627, 0.783, 0.889, 0.861, 0.895, ...\n",
       "\n",
       "Rooted; includes branch lengths."
      ]
     },
     "metadata": {},
     "output_type": "display_data"
    }
   ],
   "source": [
    "# 16S tree\n",
    "microbe_tree = physeq %>% phy_tree\n",
    "microbe_tree_d = microbe_tree %>% cophenetic\n",
    "microbe_tree"
   ]
  },
  {
   "cell_type": "code",
   "execution_count": 14,
   "metadata": {
    "ExecuteTime": {
     "end_time": "2018-09-19T12:30:14.363503Z",
     "start_time": "2018-09-19T12:30:14.130Z"
    }
   },
   "outputs": [
    {
     "name": "stderr",
     "output_type": "stream",
     "text": [
      "Warning message in class(X) <- NULL:\n",
      "“Setting class(x) to NULL;   result will no longer be an S4 object”"
     ]
    },
    {
     "name": "stdout",
     "output_type": "stream",
     "text": [
      "[1] 213   7\n"
     ]
    },
    {
     "data": {
      "text/html": [
       "<table>\n",
       "<thead><tr><th scope=col>Sample</th><th scope=col>scientific_name</th><th scope=col>class</th><th scope=col>order</th><th scope=col>family</th><th scope=col>genus</th><th scope=col>diet</th></tr></thead>\n",
       "<tbody>\n",
       "\t<tr><td>X1.Eurasian.Beaver</td><td>Castor_fiber      </td><td>Mammalia          </td><td>Rodentia          </td><td>Castoridae        </td><td>Castor            </td><td>herbivore         </td></tr>\n",
       "\t<tr><td>X101.Horse        </td><td>Equus_caballus    </td><td>Mammalia          </td><td>Perissodactyla    </td><td>Equidae           </td><td>Equus             </td><td>herbivore         </td></tr>\n",
       "\t<tr><td>X102.Kulan        </td><td>Equus_hemionus    </td><td>Mammalia          </td><td>Perissodactyla    </td><td>Equidae           </td><td>Equus             </td><td>herbivore         </td></tr>\n",
       "</tbody>\n",
       "</table>\n"
      ],
      "text/latex": [
       "\\begin{tabular}{r|lllllll}\n",
       " Sample & scientific\\_name & class & order & family & genus & diet\\\\\n",
       "\\hline\n",
       "\t X1.Eurasian.Beaver & Castor\\_fiber     & Mammalia           & Rodentia           & Castoridae         & Castor             & herbivore         \\\\\n",
       "\t X101.Horse         & Equus\\_caballus   & Mammalia           & Perissodactyla     & Equidae            & Equus              & herbivore         \\\\\n",
       "\t X102.Kulan         & Equus\\_hemionus   & Mammalia           & Perissodactyla     & Equidae            & Equus              & herbivore         \\\\\n",
       "\\end{tabular}\n"
      ],
      "text/markdown": [
       "\n",
       "Sample | scientific_name | class | order | family | genus | diet | \n",
       "|---|---|---|\n",
       "| X1.Eurasian.Beaver | Castor_fiber       | Mammalia           | Rodentia           | Castoridae         | Castor             | herbivore          | \n",
       "| X101.Horse         | Equus_caballus     | Mammalia           | Perissodactyla     | Equidae            | Equus              | herbivore          | \n",
       "| X102.Kulan         | Equus_hemionus     | Mammalia           | Perissodactyla     | Equidae            | Equus              | herbivore          | \n",
       "\n",
       "\n"
      ],
      "text/plain": [
       "  Sample             scientific_name class    order          family     genus \n",
       "1 X1.Eurasian.Beaver Castor_fiber    Mammalia Rodentia       Castoridae Castor\n",
       "2 X101.Horse         Equus_caballus  Mammalia Perissodactyla Equidae    Equus \n",
       "3 X102.Kulan         Equus_hemionus  Mammalia Perissodactyla Equidae    Equus \n",
       "  diet     \n",
       "1 herbivore\n",
       "2 herbivore\n",
       "3 herbivore"
      ]
     },
     "metadata": {},
     "output_type": "display_data"
    }
   ],
   "source": [
    "# metadata\n",
    "metadata = physeq %>%\n",
    "    sample_data %>%\n",
    "    as.matrix %>%\n",
    "    as.data.frame %>%\n",
    "    mutate(Sample = rownames(.)) %>%\n",
    "    dplyr::select(Sample, scientific_name, class, order, family, genus, diet)\n",
    "\n",
    "metadata %>% dfhead"
   ]
  },
  {
   "cell_type": "code",
   "execution_count": 15,
   "metadata": {
    "ExecuteTime": {
     "end_time": "2018-09-19T12:30:16.513793Z",
     "start_time": "2018-09-19T12:30:16.360Z"
    }
   },
   "outputs": [
    {
     "name": "stdout",
     "output_type": "stream",
     "text": [
      "[1] 408   7\n"
     ]
    },
    {
     "data": {
      "text/html": [
       "<table>\n",
       "<thead><tr><th scope=col>Domain</th><th scope=col>Phylum</th><th scope=col>Class</th><th scope=col>Order</th><th scope=col>Family</th><th scope=col>Genus</th><th scope=col>OTU</th></tr></thead>\n",
       "<tbody>\n",
       "\t<tr><td>Archaea                         </td><td>Euryarchaeota                   </td><td>Methanobacteria                 </td><td>Methanobacteriales              </td><td>Methanobacteriaceae             </td><td>Methanobrevibacter              </td><td>368bd5c2255f3a5ce0fef06ca6de1d04</td></tr>\n",
       "\t<tr><td>Archaea                         </td><td>Euryarchaeota                   </td><td>Methanobacteria                 </td><td>Methanobacteriales              </td><td>Methanobacteriaceae             </td><td>Methanobrevibacter              </td><td>779324e5648460c5a67e577c45131b42</td></tr>\n",
       "\t<tr><td>Archaea                         </td><td>Euryarchaeota                   </td><td>Methanobacteria                 </td><td>Methanobacteriales              </td><td>Methanobacteriaceae             </td><td>Methanobrevibacter              </td><td>b918d185ee89a0b33d821ee766d76eb3</td></tr>\n",
       "</tbody>\n",
       "</table>\n"
      ],
      "text/latex": [
       "\\begin{tabular}{r|lllllll}\n",
       " Domain & Phylum & Class & Order & Family & Genus & OTU\\\\\n",
       "\\hline\n",
       "\t Archaea                          & Euryarchaeota                    & Methanobacteria                  & Methanobacteriales               & Methanobacteriaceae              & Methanobrevibacter               & 368bd5c2255f3a5ce0fef06ca6de1d04\\\\\n",
       "\t Archaea                          & Euryarchaeota                    & Methanobacteria                  & Methanobacteriales               & Methanobacteriaceae              & Methanobrevibacter               & 779324e5648460c5a67e577c45131b42\\\\\n",
       "\t Archaea                          & Euryarchaeota                    & Methanobacteria                  & Methanobacteriales               & Methanobacteriaceae              & Methanobrevibacter               & b918d185ee89a0b33d821ee766d76eb3\\\\\n",
       "\\end{tabular}\n"
      ],
      "text/markdown": [
       "\n",
       "Domain | Phylum | Class | Order | Family | Genus | OTU | \n",
       "|---|---|---|\n",
       "| Archaea                          | Euryarchaeota                    | Methanobacteria                  | Methanobacteriales               | Methanobacteriaceae              | Methanobrevibacter               | 368bd5c2255f3a5ce0fef06ca6de1d04 | \n",
       "| Archaea                          | Euryarchaeota                    | Methanobacteria                  | Methanobacteriales               | Methanobacteriaceae              | Methanobrevibacter               | 779324e5648460c5a67e577c45131b42 | \n",
       "| Archaea                          | Euryarchaeota                    | Methanobacteria                  | Methanobacteriales               | Methanobacteriaceae              | Methanobrevibacter               | b918d185ee89a0b33d821ee766d76eb3 | \n",
       "\n",
       "\n"
      ],
      "text/plain": [
       "  Domain  Phylum        Class           Order              Family             \n",
       "1 Archaea Euryarchaeota Methanobacteria Methanobacteriales Methanobacteriaceae\n",
       "2 Archaea Euryarchaeota Methanobacteria Methanobacteriales Methanobacteriaceae\n",
       "3 Archaea Euryarchaeota Methanobacteria Methanobacteriales Methanobacteriaceae\n",
       "  Genus              OTU                             \n",
       "1 Methanobrevibacter 368bd5c2255f3a5ce0fef06ca6de1d04\n",
       "2 Methanobrevibacter 779324e5648460c5a67e577c45131b42\n",
       "3 Methanobrevibacter b918d185ee89a0b33d821ee766d76eb3"
      ]
     },
     "metadata": {},
     "output_type": "display_data"
    }
   ],
   "source": [
    "# taxonomy\n",
    "blacklist = c('', 'unclassified', 'uncultured', 'unidentified', 'Incertae Sedis') \n",
    "tax = physeq %>%\n",
    "    tax_table %>%\n",
    "    as.matrix %>%\n",
    "    as.data.frame %>%\n",
    "    mutate(OTU = rownames(.),\n",
    "           Genus = Genus %>% as.character,\n",
    "           Family = Family %>% as.character,\n",
    "           Genus = ifelse(Genus %in% blacklist, gsub('$', '_unclassified', Family), Genus)) %>%\n",
    "    dplyr::select(-Species)\n",
    "\n",
    "tax %>% dfhead"
   ]
  },
  {
   "cell_type": "markdown",
   "metadata": {},
   "source": [
    "# IndD sensitivity\n",
    "\n",
    "* 100 subsamples of 1 sample per species"
   ]
  },
  {
   "cell_type": "code",
   "execution_count": 16,
   "metadata": {
    "ExecuteTime": {
     "end_time": "2018-09-19T12:30:22.413366Z",
     "start_time": "2018-09-19T12:30:20.681Z"
    }
   },
   "outputs": [
    {
     "name": "stdout",
     "output_type": "stream",
     "text": [
      "   Min. 1st Qu.  Median    Mean 3rd Qu.    Max. \n",
      "    128     128     128     128     128     128 \n",
      "[1] 100\n"
     ]
    }
   ],
   "source": [
    "comm_subsample = function(rep, comm, metadata){\n",
    "    to_keep = metadata %>% \n",
    "        group_by(scientific_name) %>% \n",
    "        sample_n(1) %>%\n",
    "        .$Sample %>% as.character \n",
    "    return(comm[to_keep,])\n",
    "}\n",
    "\n",
    "comm_l = plyr::llply(as.list(1:n_subsample_reps), \n",
    "                     function(x) comm_subsample(x, comm, metadata),\n",
    "                     .parallel=FALSE)\n",
    "\n",
    "# number of samples per subset\n",
    "lapply(comm_l, nrow) %>% unlist %>% summary %>% print\n",
    "comm_l %>% length %>% print"
   ]
  },
  {
   "cell_type": "markdown",
   "metadata": {},
   "source": [
    "## mpd"
   ]
  },
  {
   "cell_type": "code",
   "execution_count": 17,
   "metadata": {
    "ExecuteTime": {
     "end_time": "2018-09-19T12:30:25.257876Z",
     "start_time": "2018-09-19T12:30:25.240Z"
    }
   },
   "outputs": [],
   "source": [
    "#' function for running mpd on each subset \n",
    "mpd_each = function(rep, comm_l, tree_d, null.model = \"taxa.labels\", \n",
    "                    abundance.weighted = FALSE, runs = 99){\n",
    "    ses_mpd_res = ses.mpd(comm_l[[rep]], tree_d, \n",
    "                          null.model = null.model, \n",
    "                          abundance.weighted = abundance.weighted, \n",
    "                          runs = runs)\n",
    "    ses_mpd_res$subsample_rep = rep\n",
    "    ses_mpd_res$Sample = rownames(ses_mpd_res)\n",
    "    return(ses_mpd_res)\n",
    "}"
   ]
  },
  {
   "cell_type": "code",
   "execution_count": 12,
   "metadata": {
    "ExecuteTime": {
     "end_time": "2018-07-22T16:49:56.049512Z",
     "start_time": "2018-07-22T16:49:56.350Z"
    }
   },
   "outputs": [],
   "source": [
    "#-- WARNING: SLOW --#\n",
    "# cluster resources\n",
    "resources = list(h_rt = '8:00:00',\n",
    "                 h_vmem = '8G',\n",
    "                 threads = '1',\n",
    "                 conda.env = 'py3_physeq_phylo', \n",
    "                 conda.path = \"/ebio/abt3_projects/software/miniconda3/bin\")\n",
    "plan(batchtools_sge, resources=resources)"
   ]
  },
  {
   "cell_type": "code",
   "execution_count": 13,
   "metadata": {
    "ExecuteTime": {
     "end_time": "2018-07-22T18:17:00.929161Z",
     "start_time": "2018-07-22T16:50:06.014Z"
    },
    "scrolled": true
   },
   "outputs": [
    {
     "name": "stderr",
     "output_type": "stream",
     "text": [
      "Warning message in is.na(x):\n",
      "“is.na() applied to non-(list or vector) of type 'NULL'”Warning message in is.na(x):\n",
      "“is.na() applied to non-(list or vector) of type 'NULL'”Warning message in is.na(x):\n",
      "“is.na() applied to non-(list or vector) of type 'NULL'”Warning message in is.na(x):\n",
      "“is.na() applied to non-(list or vector) of type 'NULL'”Warning message in is.na(x):\n",
      "“is.na() applied to non-(list or vector) of type 'NULL'”Warning message in is.na(x):\n",
      "“is.na() applied to non-(list or vector) of type 'NULL'”Warning message in is.na(x):\n",
      "“is.na() applied to non-(list or vector) of type 'NULL'”Warning message in is.na(x):\n",
      "“is.na() applied to non-(list or vector) of type 'NULL'”Warning message in is.na(x):\n",
      "“is.na() applied to non-(list or vector) of type 'NULL'”Warning message in is.na(x):\n",
      "“is.na() applied to non-(list or vector) of type 'NULL'”Warning message in is.na(x):\n",
      "“is.na() applied to non-(list or vector) of type 'NULL'”Warning message in is.na(x):\n",
      "“is.na() applied to non-(list or vector) of type 'NULL'”Warning message in is.na(x):\n",
      "“is.na() applied to non-(list or vector) of type 'NULL'”Warning message in is.na(x):\n",
      "“is.na() applied to non-(list or vector) of type 'NULL'”Warning message in is.na(x):\n",
      "“is.na() applied to non-(list or vector) of type 'NULL'”Warning message in is.na(x):\n",
      "“is.na() applied to non-(list or vector) of type 'NULL'”Warning message in is.na(x):\n",
      "“is.na() applied to non-(list or vector) of type 'NULL'”Warning message in is.na(x):\n",
      "“is.na() applied to non-(list or vector) of type 'NULL'”Warning message in is.na(x):\n",
      "“is.na() applied to non-(list or vector) of type 'NULL'”Warning message in is.na(x):\n",
      "“is.na() applied to non-(list or vector) of type 'NULL'”Warning message in is.na(x):\n",
      "“is.na() applied to non-(list or vector) of type 'NULL'”Warning message in is.na(x):\n",
      "“is.na() applied to non-(list or vector) of type 'NULL'”Warning message in is.na(x):\n",
      "“is.na() applied to non-(list or vector) of type 'NULL'”Warning message in is.na(x):\n",
      "“is.na() applied to non-(list or vector) of type 'NULL'”Warning message in is.na(x):\n",
      "“is.na() applied to non-(list or vector) of type 'NULL'”Warning message in is.na(x):\n",
      "“is.na() applied to non-(list or vector) of type 'NULL'”Warning message in is.na(x):\n",
      "“is.na() applied to non-(list or vector) of type 'NULL'”Warning message in is.na(x):\n",
      "“is.na() applied to non-(list or vector) of type 'NULL'”Warning message in is.na(x):\n",
      "“is.na() applied to non-(list or vector) of type 'NULL'”Warning message in is.na(x):\n",
      "“is.na() applied to non-(list or vector) of type 'NULL'”Warning message in is.na(x):\n",
      "“is.na() applied to non-(list or vector) of type 'NULL'”Warning message in is.na(x):\n",
      "“is.na() applied to non-(list or vector) of type 'NULL'”Warning message in is.na(x):\n",
      "“is.na() applied to non-(list or vector) of type 'NULL'”Warning message in is.na(x):\n",
      "“is.na() applied to non-(list or vector) of type 'NULL'”Warning message in is.na(x):\n",
      "“is.na() applied to non-(list or vector) of type 'NULL'”Warning message in is.na(x):\n",
      "“is.na() applied to non-(list or vector) of type 'NULL'”Warning message in is.na(x):\n",
      "“is.na() applied to non-(list or vector) of type 'NULL'”Warning message in is.na(x):\n",
      "“is.na() applied to non-(list or vector) of type 'NULL'”Warning message in is.na(x):\n",
      "“is.na() applied to non-(list or vector) of type 'NULL'”Warning message in is.na(x):\n",
      "“is.na() applied to non-(list or vector) of type 'NULL'”Warning message in is.na(x):\n",
      "“is.na() applied to non-(list or vector) of type 'NULL'”Warning message in is.na(x):\n",
      "“is.na() applied to non-(list or vector) of type 'NULL'”Warning message in is.na(x):\n",
      "“is.na() applied to non-(list or vector) of type 'NULL'”Warning message in is.na(x):\n",
      "“is.na() applied to non-(list or vector) of type 'NULL'”Warning message in is.na(x):\n",
      "“is.na() applied to non-(list or vector) of type 'NULL'”Warning message in is.na(x):\n",
      "“is.na() applied to non-(list or vector) of type 'NULL'”Warning message in is.na(x):\n",
      "“is.na() applied to non-(list or vector) of type 'NULL'”Warning message in is.na(x):\n",
      "“is.na() applied to non-(list or vector) of type 'NULL'”Warning message in is.na(x):\n",
      "“is.na() applied to non-(list or vector) of type 'NULL'”Warning message in is.na(x):\n",
      "“is.na() applied to non-(list or vector) of type 'NULL'”Warning message in is.na(x):\n",
      "“is.na() applied to non-(list or vector) of type 'NULL'”Warning message in is.na(x):\n",
      "“is.na() applied to non-(list or vector) of type 'NULL'”Warning message in is.na(x):\n",
      "“is.na() applied to non-(list or vector) of type 'NULL'”Warning message in is.na(x):\n",
      "“is.na() applied to non-(list or vector) of type 'NULL'”Warning message in is.na(x):\n",
      "“is.na() applied to non-(list or vector) of type 'NULL'”Warning message in is.na(x):\n",
      "“is.na() applied to non-(list or vector) of type 'NULL'”Warning message in is.na(x):\n",
      "“is.na() applied to non-(list or vector) of type 'NULL'”Warning message in is.na(x):\n",
      "“is.na() applied to non-(list or vector) of type 'NULL'”Warning message in is.na(x):\n",
      "“is.na() applied to non-(list or vector) of type 'NULL'”Warning message in is.na(x):\n",
      "“is.na() applied to non-(list or vector) of type 'NULL'”Warning message in is.na(x):\n",
      "“is.na() applied to non-(list or vector) of type 'NULL'”Warning message in is.na(x):\n",
      "“is.na() applied to non-(list or vector) of type 'NULL'”Warning message in is.na(x):\n",
      "“is.na() applied to non-(list or vector) of type 'NULL'”Warning message in is.na(x):\n",
      "“is.na() applied to non-(list or vector) of type 'NULL'”Warning message in is.na(x):\n",
      "“is.na() applied to non-(list or vector) of type 'NULL'”Warning message in is.na(x):\n",
      "“is.na() applied to non-(list or vector) of type 'NULL'”Warning message in is.na(x):\n",
      "“is.na() applied to non-(list or vector) of type 'NULL'”Warning message in is.na(x):\n",
      "“is.na() applied to non-(list or vector) of type 'NULL'”Warning message in is.na(x):\n",
      "“is.na() applied to non-(list or vector) of type 'NULL'”Warning message in is.na(x):\n",
      "“is.na() applied to non-(list or vector) of type 'NULL'”Warning message in is.na(x):\n",
      "“is.na() applied to non-(list or vector) of type 'NULL'”Warning message in is.na(x):\n",
      "“is.na() applied to non-(list or vector) of type 'NULL'”Warning message in is.na(x):\n",
      "“is.na() applied to non-(list or vector) of type 'NULL'”Warning message in is.na(x):\n",
      "“is.na() applied to non-(list or vector) of type 'NULL'”Warning message in is.na(x):\n",
      "“is.na() applied to non-(list or vector) of type 'NULL'”Warning message in is.na(x):\n",
      "“is.na() applied to non-(list or vector) of type 'NULL'”Warning message in is.na(x):\n",
      "“is.na() applied to non-(list or vector) of type 'NULL'”Warning message in is.na(x):\n",
      "“is.na() applied to non-(list or vector) of type 'NULL'”Warning message in is.na(x):\n",
      "“is.na() applied to non-(list or vector) of type 'NULL'”Warning message in is.na(x):\n",
      "“is.na() applied to non-(list or vector) of type 'NULL'”Warning message in is.na(x):\n",
      "“is.na() applied to non-(list or vector) of type 'NULL'”Warning message in is.na(x):\n",
      "“is.na() applied to non-(list or vector) of type 'NULL'”Warning message in is.na(x):\n",
      "“is.na() applied to non-(list or vector) of type 'NULL'”Warning message in is.na(x):\n",
      "“is.na() applied to non-(list or vector) of type 'NULL'”Warning message in is.na(x):\n",
      "“is.na() applied to non-(list or vector) of type 'NULL'”Warning message in is.na(x):\n",
      "“is.na() applied to non-(list or vector) of type 'NULL'”Warning message in is.na(x):\n",
      "“is.na() applied to non-(list or vector) of type 'NULL'”Warning message in is.na(x):\n",
      "“is.na() applied to non-(list or vector) of type 'NULL'”Warning message in is.na(x):\n",
      "“is.na() applied to non-(list or vector) of type 'NULL'”Warning message in is.na(x):\n",
      "“is.na() applied to non-(list or vector) of type 'NULL'”Warning message in is.na(x):\n",
      "“is.na() applied to non-(list or vector) of type 'NULL'”Warning message in is.na(x):\n",
      "“is.na() applied to non-(list or vector) of type 'NULL'”Warning message in is.na(x):\n",
      "“is.na() applied to non-(list or vector) of type 'NULL'”Warning message in is.na(x):\n",
      "“is.na() applied to non-(list or vector) of type 'NULL'”Warning message in is.na(x):\n",
      "“is.na() applied to non-(list or vector) of type 'NULL'”Warning message in is.na(x):\n",
      "“is.na() applied to non-(list or vector) of type 'NULL'”Warning message in is.na(x):\n",
      "“is.na() applied to non-(list or vector) of type 'NULL'”Warning message in is.na(x):\n",
      "“is.na() applied to non-(list or vector) of type 'NULL'”Warning message in is.na(x):\n",
      "“is.na() applied to non-(list or vector) of type 'NULL'”Warning message in is.na(x):\n",
      "“is.na() applied to non-(list or vector) of type 'NULL'”"
     ]
    },
    {
     "name": "stdout",
     "output_type": "stream",
     "text": [
      "[1] 100\n"
     ]
    }
   ],
   "source": [
    "mpd_res = future_lapply(as.list(1:n_subsample_reps), \n",
    "                        mpd_each,\n",
    "                        comm_l = comm_l, \n",
    "                        tree_d = microbe_tree_d,\n",
    "                        runs = model_runs,\n",
    "                        future.packages=c('picante'))\n",
    "\n",
    "mpd_res %>% length %>% print"
   ]
  },
  {
   "cell_type": "code",
   "execution_count": 18,
   "metadata": {
    "ExecuteTime": {
     "end_time": "2018-09-19T12:30:32.559098Z",
     "start_time": "2018-09-19T12:30:32.455Z"
    }
   },
   "outputs": [
    {
     "data": {
      "text/html": [
       "'/ebio/abt3_projects/Georg_animal_feces/data/assembly/relatedness//IndD_mpd_results.RDS'"
      ],
      "text/latex": [
       "'/ebio/abt3\\_projects/Georg\\_animal\\_feces/data/assembly/relatedness//IndD\\_mpd\\_results.RDS'"
      ],
      "text/markdown": [
       "'/ebio/abt3_projects/Georg_animal_feces/data/assembly/relatedness//IndD_mpd_results.RDS'"
      ],
      "text/plain": [
       "[1] \"/ebio/abt3_projects/Georg_animal_feces/data/assembly/relatedness//IndD_mpd_results.RDS\""
      ]
     },
     "metadata": {},
     "output_type": "display_data"
    }
   ],
   "source": [
    "# saving results (file name)\n",
    "mpd_file = file.path(work_dir, 'IndD_mpd_results.RDS')\n",
    "mpd_file"
   ]
  },
  {
   "cell_type": "code",
   "execution_count": 15,
   "metadata": {
    "ExecuteTime": {
     "end_time": "2018-07-22T18:17:01.220054Z",
     "start_time": "2018-07-22T16:50:07.838Z"
    }
   },
   "outputs": [
    {
     "name": "stdout",
     "output_type": "stream",
     "text": [
      "File saved: /ebio/abt3_projects/Georg_animal_feces/data/assembly/relatedness//IndD_mpd_results.RDS"
     ]
    }
   ],
   "source": [
    "# saving results \n",
    "saveRDS(mpd_res, mpd_file)\n",
    "cat('File saved:', mpd_file)"
   ]
  },
  {
   "cell_type": "code",
   "execution_count": 30,
   "metadata": {
    "ExecuteTime": {
     "end_time": "2018-09-19T12:31:44.595274Z",
     "start_time": "2018-09-19T12:31:44.542Z"
    }
   },
   "outputs": [
    {
     "name": "stdout",
     "output_type": "stream",
     "text": [
      "[1] 100\n"
     ]
    }
   ],
   "source": [
    "# re-loading results \n",
    "mpd_res = readRDS(mpd_file)\n",
    "mpd_res %>% length %>% print"
   ]
  },
  {
   "cell_type": "code",
   "execution_count": 17,
   "metadata": {
    "ExecuteTime": {
     "end_time": "2018-07-22T18:17:01.437658Z",
     "start_time": "2018-07-22T16:50:49.532Z"
    }
   },
   "outputs": [],
   "source": [
    "send_email('http://127.0.0.1:9705/notebooks/notebooks/16S/5_assembly/relatedness/01_IndD.ipynb')"
   ]
  },
  {
   "cell_type": "markdown",
   "metadata": {},
   "source": [
    "### Summarizing"
   ]
  },
  {
   "cell_type": "code",
   "execution_count": 31,
   "metadata": {
    "ExecuteTime": {
     "end_time": "2018-09-19T12:31:46.337834Z",
     "start_time": "2018-09-19T12:31:46.192Z"
    }
   },
   "outputs": [
    {
     "name": "stdout",
     "output_type": "stream",
     "text": [
      "[1] 213  16\n"
     ]
    },
    {
     "data": {
      "text/html": [
       "<table>\n",
       "<thead><tr><th scope=col>ntaxa</th><th scope=col>mpd.obs</th><th scope=col>mpd.rand.mean</th><th scope=col>mpd.rand.sd</th><th scope=col>mpd.obs.rank</th><th scope=col>mpd.obs.z</th><th scope=col>mpd.obs.p</th><th scope=col>runs</th><th scope=col>subsample_rep</th><th scope=col>Sample</th><th scope=col>scientific_name</th><th scope=col>class</th><th scope=col>order</th><th scope=col>family</th><th scope=col>genus</th><th scope=col>diet</th></tr></thead>\n",
       "<tbody>\n",
       "\t<tr><td> 5                        </td><td>0.4521307                 </td><td>0.5788607                 </td><td>0.17485762                </td><td>262                       </td><td>-0.7247612                </td><td>0.262                     </td><td>999                       </td><td>1                         </td><td>X398.Eurasian.Reed.Warbler</td><td>Acrocephalus_scirpaceus   </td><td>Aves                      </td><td>Passeriformes             </td><td>Sylviidae                 </td><td>Acrocephalus              </td><td>omnivore                  </td></tr>\n",
       "\t<tr><td>82                        </td><td>0.6120910                 </td><td>0.5847092                 </td><td>0.03802392                </td><td>762                       </td><td> 0.7201200                </td><td>0.762                     </td><td>999                       </td><td>1                         </td><td>X410.Impala               </td><td>Aepyceros_melampus        </td><td>Mammalia                  </td><td>Artiodactyla              </td><td>Bovidae                   </td><td>Aepyceros                 </td><td>herbivore                 </td></tr>\n",
       "\t<tr><td>10                        </td><td>0.4408772                 </td><td>0.5779315                 </td><td>0.11499895                </td><td>115                       </td><td>-1.1917873                </td><td>0.115                     </td><td>999                       </td><td>1                         </td><td>X34.Mallard.Duck          </td><td>Anas_platyrhynchos        </td><td>Aves                      </td><td>Anseriformes              </td><td>Anatidae                  </td><td>Anas                      </td><td>omnivore                  </td></tr>\n",
       "</tbody>\n",
       "</table>\n"
      ],
      "text/latex": [
       "\\begin{tabular}{r|llllllllllllllll}\n",
       " ntaxa & mpd.obs & mpd.rand.mean & mpd.rand.sd & mpd.obs.rank & mpd.obs.z & mpd.obs.p & runs & subsample\\_rep & Sample & scientific\\_name & class & order & family & genus & diet\\\\\n",
       "\\hline\n",
       "\t  5                         & 0.4521307                  & 0.5788607                  & 0.17485762                 & 262                        & -0.7247612                 & 0.262                      & 999                        & 1                          & X398.Eurasian.Reed.Warbler & Acrocephalus\\_scirpaceus  & Aves                       & Passeriformes              & Sylviidae                  & Acrocephalus               & omnivore                  \\\\\n",
       "\t 82                         & 0.6120910                  & 0.5847092                  & 0.03802392                 & 762                        &  0.7201200                 & 0.762                      & 999                        & 1                          & X410.Impala                & Aepyceros\\_melampus       & Mammalia                   & Artiodactyla               & Bovidae                    & Aepyceros                  & herbivore                 \\\\\n",
       "\t 10                         & 0.4408772                  & 0.5779315                  & 0.11499895                 & 115                        & -1.1917873                 & 0.115                      & 999                        & 1                          & X34.Mallard.Duck           & Anas\\_platyrhynchos       & Aves                       & Anseriformes               & Anatidae                   & Anas                       & omnivore                  \\\\\n",
       "\\end{tabular}\n"
      ],
      "text/markdown": [
       "\n",
       "ntaxa | mpd.obs | mpd.rand.mean | mpd.rand.sd | mpd.obs.rank | mpd.obs.z | mpd.obs.p | runs | subsample_rep | Sample | scientific_name | class | order | family | genus | diet | \n",
       "|---|---|---|\n",
       "|  5                         | 0.4521307                  | 0.5788607                  | 0.17485762                 | 262                        | -0.7247612                 | 0.262                      | 999                        | 1                          | X398.Eurasian.Reed.Warbler | Acrocephalus_scirpaceus    | Aves                       | Passeriformes              | Sylviidae                  | Acrocephalus               | omnivore                   | \n",
       "| 82                         | 0.6120910                  | 0.5847092                  | 0.03802392                 | 762                        |  0.7201200                 | 0.762                      | 999                        | 1                          | X410.Impala                | Aepyceros_melampus         | Mammalia                   | Artiodactyla               | Bovidae                    | Aepyceros                  | herbivore                  | \n",
       "| 10                         | 0.4408772                  | 0.5779315                  | 0.11499895                 | 115                        | -1.1917873                 | 0.115                      | 999                        | 1                          | X34.Mallard.Duck           | Anas_platyrhynchos         | Aves                       | Anseriformes               | Anatidae                   | Anas                       | omnivore                   | \n",
       "\n",
       "\n"
      ],
      "text/plain": [
       "  ntaxa mpd.obs   mpd.rand.mean mpd.rand.sd mpd.obs.rank mpd.obs.z  mpd.obs.p\n",
       "1  5    0.4521307 0.5788607     0.17485762  262          -0.7247612 0.262    \n",
       "2 82    0.6120910 0.5847092     0.03802392  762           0.7201200 0.762    \n",
       "3 10    0.4408772 0.5779315     0.11499895  115          -1.1917873 0.115    \n",
       "  runs subsample_rep Sample                     scientific_name        \n",
       "1 999  1             X398.Eurasian.Reed.Warbler Acrocephalus_scirpaceus\n",
       "2 999  1             X410.Impala                Aepyceros_melampus     \n",
       "3 999  1             X34.Mallard.Duck           Anas_platyrhynchos     \n",
       "  class    order         family    genus        diet     \n",
       "1 Aves     Passeriformes Sylviidae Acrocephalus omnivore \n",
       "2 Mammalia Artiodactyla  Bovidae   Aepyceros    herbivore\n",
       "3 Aves     Anseriformes  Anatidae  Anas         omnivore "
      ]
     },
     "metadata": {},
     "output_type": "display_data"
    }
   ],
   "source": [
    "# convert to df\n",
    "mpd_res = do.call(rbind, mpd_res) %>%\n",
    "    #mutate(Sample = gsub('[0-9]+$', '', rownames(.))) %>%\n",
    "    mutate(Sample = rownames(.)) %>%\n",
    "    inner_join(metadata, c('Sample'))\n",
    "\n",
    "mpd_res %>% dfhead"
   ]
  },
  {
   "cell_type": "code",
   "execution_count": 32,
   "metadata": {
    "ExecuteTime": {
     "end_time": "2018-09-19T12:31:46.760746Z",
     "start_time": "2018-09-19T12:31:46.733Z"
    }
   },
   "outputs": [
    {
     "name": "stdout",
     "output_type": "stream",
     "text": [
      "[1] 14\n",
      "   Min. 1st Qu.  Median    Mean 3rd Qu.    Max. \n",
      "   1.00    1.25    2.50   15.21   12.00  128.00 \n"
     ]
    }
   ],
   "source": [
    "# checking counts\n",
    "mpd_res$subsample_rep %>% unique %>% length %>% print\n",
    "mpd_res$subsample_rep %>% table %>% as.numeric %>% summary %>% print"
   ]
  },
  {
   "cell_type": "code",
   "execution_count": 34,
   "metadata": {
    "ExecuteTime": {
     "end_time": "2018-09-19T12:31:52.713118Z",
     "start_time": "2018-09-19T12:31:52.645Z"
    }
   },
   "outputs": [
    {
     "name": "stdout",
     "output_type": "stream",
     "text": [
      ".\n",
      "clustered      even        NA \n",
      "       26         2       100 \n",
      "[1] 128   9\n"
     ]
    },
    {
     "data": {
      "text/html": [
       "<table>\n",
       "<thead><tr><th scope=col>scientific_name</th><th scope=col>class</th><th scope=col>order</th><th scope=col>family</th><th scope=col>genus</th><th scope=col>diet</th><th scope=col>mpd.result.sum</th><th scope=col>mean.mpd.obs.z</th><th scope=col>sd.mpd.obs.z</th></tr></thead>\n",
       "<tbody>\n",
       "\t<tr><td>Acrocephalus_scirpaceus</td><td>Aves                   </td><td>Passeriformes          </td><td>Sylviidae              </td><td>Acrocephalus           </td><td>omnivore               </td><td>NA                     </td><td>-0.7247612             </td><td>NA                     </td></tr>\n",
       "\t<tr><td>Aepyceros_melampus     </td><td>Mammalia               </td><td>Artiodactyla           </td><td>Bovidae                </td><td>Aepyceros              </td><td>herbivore              </td><td>NA                     </td><td> 0.7201200             </td><td>NA                     </td></tr>\n",
       "\t<tr><td>Anas_platyrhynchos     </td><td>Aves                   </td><td>Anseriformes           </td><td>Anatidae               </td><td>Anas                   </td><td>omnivore               </td><td>NA                     </td><td>-1.1917873             </td><td>NA                     </td></tr>\n",
       "</tbody>\n",
       "</table>\n"
      ],
      "text/latex": [
       "\\begin{tabular}{r|lllllllll}\n",
       " scientific\\_name & class & order & family & genus & diet & mpd.result.sum & mean.mpd.obs.z & sd.mpd.obs.z\\\\\n",
       "\\hline\n",
       "\t Acrocephalus\\_scirpaceus & Aves                      & Passeriformes             & Sylviidae                 & Acrocephalus              & omnivore                  & NA                        & -0.7247612                & NA                       \\\\\n",
       "\t Aepyceros\\_melampus      & Mammalia                  & Artiodactyla              & Bovidae                   & Aepyceros                 & herbivore                 & NA                        &  0.7201200                & NA                       \\\\\n",
       "\t Anas\\_platyrhynchos      & Aves                      & Anseriformes              & Anatidae                  & Anas                      & omnivore                  & NA                        & -1.1917873                & NA                       \\\\\n",
       "\\end{tabular}\n"
      ],
      "text/markdown": [
       "\n",
       "scientific_name | class | order | family | genus | diet | mpd.result.sum | mean.mpd.obs.z | sd.mpd.obs.z | \n",
       "|---|---|---|\n",
       "| Acrocephalus_scirpaceus | Aves                    | Passeriformes           | Sylviidae               | Acrocephalus            | omnivore                | NA                      | -0.7247612              | NA                      | \n",
       "| Aepyceros_melampus      | Mammalia                | Artiodactyla            | Bovidae                 | Aepyceros               | herbivore               | NA                      |  0.7201200              | NA                      | \n",
       "| Anas_platyrhynchos      | Aves                    | Anseriformes            | Anatidae                | Anas                    | omnivore                | NA                      | -1.1917873              | NA                      | \n",
       "\n",
       "\n"
      ],
      "text/plain": [
       "  scientific_name         class    order         family    genus       \n",
       "1 Acrocephalus_scirpaceus Aves     Passeriformes Sylviidae Acrocephalus\n",
       "2 Aepyceros_melampus      Mammalia Artiodactyla  Bovidae   Aepyceros   \n",
       "3 Anas_platyrhynchos      Aves     Anseriformes  Anatidae  Anas        \n",
       "  diet      mpd.result.sum mean.mpd.obs.z sd.mpd.obs.z\n",
       "1 omnivore  NA             -0.7247612     NA          \n",
       "2 herbivore NA              0.7201200     NA          \n",
       "3 omnivore  NA             -1.1917873     NA          "
      ]
     },
     "metadata": {},
     "output_type": "display_data"
    }
   ],
   "source": [
    "# summarizing results\n",
    "mpd_res_s = mpd_res %>%\n",
    "    mutate(\n",
    "        mpd.result = NA,\n",
    "        mpd.result = ifelse((mpd.obs.z > 0) & (mpd.obs.p > 0.95), 'even', mpd.result),\n",
    "        mpd.result = ifelse((mpd.obs.z < 0) & (mpd.obs.p < 0.05), 'clustered', mpd.result)\n",
    "        ) %>%\n",
    "    group_by(scientific_name, class, order, family, genus, diet) %>%\n",
    "    summarize(\n",
    "        mpd.result.sum = even_or_clust(mpd.result, thresh=0.95),\n",
    "        mean.mpd.obs.z = mean(mpd.obs.z, na.rm=TRUE),\n",
    "        sd.mpd.obs.z = sd(mpd.obs.z, na.rm=TRUE)\n",
    "        ) %>%\n",
    "    ungroup() %>%\n",
    "    mutate(scientific_name = scientific_name %>% reorder(-mean.mpd.obs.z))\n",
    "\n",
    "mpd_res_s$mpd.result.sum %>% table %>% print\n",
    "mpd_res_s %>% dfhead"
   ]
  },
  {
   "cell_type": "code",
   "execution_count": 35,
   "metadata": {
    "ExecuteTime": {
     "end_time": "2018-09-19T12:31:59.077919Z",
     "start_time": "2018-09-19T12:31:56.222Z"
    }
   },
   "outputs": [
    {
     "data": {
      "image/png": "[encoded data removed]",
      "text/plain": [
       "plot without title"
      ]
     },
     "metadata": {},
     "output_type": "display_data"
    }
   ],
   "source": [
    "# plotting\n",
    "p = ggplot(mpd_res_s, aes(mpd.result.sum, fill=class)) +\n",
    "    geom_bar() +\n",
    "    theme_bw() +\n",
    "    theme(\n",
    "        axis.text.x = element_text(angle=45, hjust=1)\n",
    "    )\n",
    "\n",
    "options(repr.plot.width=5, repr.plot.height=3)\n",
    "plot(p)"
   ]
  },
  {
   "cell_type": "code",
   "execution_count": 36,
   "metadata": {
    "ExecuteTime": {
     "end_time": "2018-09-19T12:32:28.200476Z",
     "start_time": "2018-09-19T12:32:25.362Z"
    }
   },
   "outputs": [
    {
     "data": {
      "image/png": "[encoded data removed]",
      "text/plain": [
       "plot without title"
      ]
     },
     "metadata": {},
     "output_type": "display_data"
    }
   ],
   "source": [
    "# plotting\n",
    "p = ggplot(mpd_res_s, aes(mpd.result.sum, fill=diet)) +\n",
    "    geom_bar() +\n",
    "    theme_bw() +\n",
    "    theme(\n",
    "        axis.text.x = element_text(angle=45, hjust=1)\n",
    "    )\n",
    "\n",
    "options(repr.plot.width=5, repr.plot.height=3)\n",
    "plot(p)"
   ]
  },
  {
   "cell_type": "code",
   "execution_count": 37,
   "metadata": {
    "ExecuteTime": {
     "end_time": "2018-09-19T12:32:29.813068Z",
     "start_time": "2018-09-19T12:32:28.771Z"
    }
   },
   "outputs": [
    {
     "name": "stderr",
     "output_type": "stream",
     "text": [
      "Warning message:\n",
      "“Removed 80 rows containing missing values (geom_linerange).”Warning message:\n",
      "“Removed 6 rows containing missing values (geom_point).”"
     ]
    },
    {
     "data": {
      "image/png": "[encoded data removed]",
      "text/plain": [
       "plot without title"
      ]
     },
     "metadata": {},
     "output_type": "display_data"
    }
   ],
   "source": [
    "# plotting\n",
    "p = ggplot(mpd_res_s, aes(scientific_name, mean.mpd.obs.z, color=class)) +\n",
    "    geom_linerange(aes(ymin=mean.mpd.obs.z-sd.mpd.obs.z,\n",
    "                       ymax=mean.mpd.obs.z+sd.mpd.obs.z), alpha=0.5) +\n",
    "    geom_point(size=0.5) +\n",
    "    theme_bw() +\n",
    "    theme(\n",
    "        axis.text.x = element_blank()\n",
    "    )\n",
    "\n",
    "options(repr.plot.width=8, repr.plot.height=3)\n",
    "plot(p)"
   ]
  },
  {
   "cell_type": "markdown",
   "metadata": {},
   "source": [
    "## mntd"
   ]
  },
  {
   "cell_type": "code",
   "execution_count": 38,
   "metadata": {
    "ExecuteTime": {
     "end_time": "2018-09-19T12:32:34.196431Z",
     "start_time": "2018-09-19T12:32:34.178Z"
    }
   },
   "outputs": [],
   "source": [
    "#' function for running mntd on each subset \n",
    "mntd_each = function(rep, comm_l, tree_d, null.model = \"taxa.labels\", \n",
    "                    abundance.weighted = FALSE, runs = 99){\n",
    "    ses_mntd_res = ses.mntd(comm_l[[rep]], tree_d, \n",
    "                           null.model = null.model, \n",
    "                           abundance.weighted = abundance.weighted, \n",
    "                           runs = runs)\n",
    "    ses_mntd_res$subsample_rep = rep\n",
    "    ses_mntd_res$Sample = rownames(ses_mntd_res)\n",
    "    return(ses_mntd_res)\n",
    "}"
   ]
  },
  {
   "cell_type": "code",
   "execution_count": 67,
   "metadata": {
    "ExecuteTime": {
     "end_time": "2018-07-22T18:59:59.203708Z",
     "start_time": "2018-07-22T18:59:49.639Z"
    }
   },
   "outputs": [],
   "source": [
    "#-- WARNING: SLOW --#\n",
    "# cluster resources\n",
    "resources = list(h_rt = '8:00:00',\n",
    "                 h_vmem = '8G',\n",
    "                 threads = '1',\n",
    "                 conda.env = 'py3_physeq_phylo', \n",
    "                 conda.path = \"/ebio/abt3_projects/software/miniconda3/bin\")\n",
    "plan(batchtools_sge, resources=resources)"
   ]
  },
  {
   "cell_type": "code",
   "execution_count": null,
   "metadata": {
    "ExecuteTime": {
     "start_time": "2018-07-22T18:59:50.687Z"
    },
    "scrolled": true
   },
   "outputs": [
    {
     "name": "stderr",
     "output_type": "stream",
     "text": [
      "Warning message in is.na(x):\n",
      "“is.na() applied to non-(list or vector) of type 'NULL'”Warning message in is.na(x):\n",
      "“is.na() applied to non-(list or vector) of type 'NULL'”Warning message in is.na(x):\n",
      "“is.na() applied to non-(list or vector) of type 'NULL'”Warning message in is.na(x):\n",
      "“is.na() applied to non-(list or vector) of type 'NULL'”Warning message in is.na(x):\n",
      "“is.na() applied to non-(list or vector) of type 'NULL'”Warning message in is.na(x):\n",
      "“is.na() applied to non-(list or vector) of type 'NULL'”Warning message in is.na(x):\n",
      "“is.na() applied to non-(list or vector) of type 'NULL'”Warning message in is.na(x):\n",
      "“is.na() applied to non-(list or vector) of type 'NULL'”Warning message in is.na(x):\n",
      "“is.na() applied to non-(list or vector) of type 'NULL'”Warning message in is.na(x):\n",
      "“is.na() applied to non-(list or vector) of type 'NULL'”Warning message in is.na(x):\n",
      "“is.na() applied to non-(list or vector) of type 'NULL'”Warning message in is.na(x):\n",
      "“is.na() applied to non-(list or vector) of type 'NULL'”Warning message in is.na(x):\n",
      "“is.na() applied to non-(list or vector) of type 'NULL'”Warning message in is.na(x):\n",
      "“is.na() applied to non-(list or vector) of type 'NULL'”Warning message in is.na(x):\n",
      "“is.na() applied to non-(list or vector) of type 'NULL'”Warning message in is.na(x):\n",
      "“is.na() applied to non-(list or vector) of type 'NULL'”Warning message in is.na(x):\n",
      "“is.na() applied to non-(list or vector) of type 'NULL'”Warning message in is.na(x):\n",
      "“is.na() applied to non-(list or vector) of type 'NULL'”Warning message in is.na(x):\n",
      "“is.na() applied to non-(list or vector) of type 'NULL'”Warning message in is.na(x):\n",
      "“is.na() applied to non-(list or vector) of type 'NULL'”Warning message in is.na(x):\n",
      "“is.na() applied to non-(list or vector) of type 'NULL'”Warning message in is.na(x):\n",
      "“is.na() applied to non-(list or vector) of type 'NULL'”Warning message in is.na(x):\n",
      "“is.na() applied to non-(list or vector) of type 'NULL'”Warning message in is.na(x):\n",
      "“is.na() applied to non-(list or vector) of type 'NULL'”Warning message in is.na(x):\n",
      "“is.na() applied to non-(list or vector) of type 'NULL'”Warning message in is.na(x):\n",
      "“is.na() applied to non-(list or vector) of type 'NULL'”Warning message in is.na(x):\n",
      "“is.na() applied to non-(list or vector) of type 'NULL'”Warning message in is.na(x):\n",
      "“is.na() applied to non-(list or vector) of type 'NULL'”Warning message in is.na(x):\n",
      "“is.na() applied to non-(list or vector) of type 'NULL'”Warning message in is.na(x):\n",
      "“is.na() applied to non-(list or vector) of type 'NULL'”Warning message in is.na(x):\n",
      "“is.na() applied to non-(list or vector) of type 'NULL'”Warning message in is.na(x):\n",
      "“is.na() applied to non-(list or vector) of type 'NULL'”Warning message in is.na(x):\n",
      "“is.na() applied to non-(list or vector) of type 'NULL'”Warning message in is.na(x):\n",
      "“is.na() applied to non-(list or vector) of type 'NULL'”Warning message in is.na(x):\n",
      "“is.na() applied to non-(list or vector) of type 'NULL'”Warning message in is.na(x):\n",
      "“is.na() applied to non-(list or vector) of type 'NULL'”Warning message in is.na(x):\n",
      "“is.na() applied to non-(list or vector) of type 'NULL'”Warning message in is.na(x):\n",
      "“is.na() applied to non-(list or vector) of type 'NULL'”Warning message in is.na(x):\n",
      "“is.na() applied to non-(list or vector) of type 'NULL'”Warning message in is.na(x):\n",
      "“is.na() applied to non-(list or vector) of type 'NULL'”Warning message in is.na(x):\n",
      "“is.na() applied to non-(list or vector) of type 'NULL'”Warning message in is.na(x):\n",
      "“is.na() applied to non-(list or vector) of type 'NULL'”Warning message in is.na(x):\n",
      "“is.na() applied to non-(list or vector) of type 'NULL'”Warning message in is.na(x):\n",
      "“is.na() applied to non-(list or vector) of type 'NULL'”Warning message in is.na(x):\n",
      "“is.na() applied to non-(list or vector) of type 'NULL'”Warning message in is.na(x):\n",
      "“is.na() applied to non-(list or vector) of type 'NULL'”Warning message in is.na(x):\n",
      "“is.na() applied to non-(list or vector) of type 'NULL'”Warning message in is.na(x):\n",
      "“is.na() applied to non-(list or vector) of type 'NULL'”Warning message in is.na(x):\n",
      "“is.na() applied to non-(list or vector) of type 'NULL'”Warning message in is.na(x):\n",
      "“is.na() applied to non-(list or vector) of type 'NULL'”Warning message in is.na(x):\n",
      "“is.na() applied to non-(list or vector) of type 'NULL'”Warning message in is.na(x):\n",
      "“is.na() applied to non-(list or vector) of type 'NULL'”Warning message in is.na(x):\n",
      "“is.na() applied to non-(list or vector) of type 'NULL'”Warning message in is.na(x):\n",
      "“is.na() applied to non-(list or vector) of type 'NULL'”Warning message in is.na(x):\n",
      "“is.na() applied to non-(list or vector) of type 'NULL'”Warning message in is.na(x):\n",
      "“is.na() applied to non-(list or vector) of type 'NULL'”Warning message in is.na(x):\n",
      "“is.na() applied to non-(list or vector) of type 'NULL'”Warning message in is.na(x):\n",
      "“is.na() applied to non-(list or vector) of type 'NULL'”Warning message in is.na(x):\n",
      "“is.na() applied to non-(list or vector) of type 'NULL'”Warning message in is.na(x):\n",
      "“is.na() applied to non-(list or vector) of type 'NULL'”Warning message in is.na(x):\n",
      "“is.na() applied to non-(list or vector) of type 'NULL'”Warning message in is.na(x):\n",
      "“is.na() applied to non-(list or vector) of type 'NULL'”Warning message in is.na(x):\n",
      "“is.na() applied to non-(list or vector) of type 'NULL'”Warning message in is.na(x):\n",
      "“is.na() applied to non-(list or vector) of type 'NULL'”Warning message in is.na(x):\n",
      "“is.na() applied to non-(list or vector) of type 'NULL'”Warning message in is.na(x):\n",
      "“is.na() applied to non-(list or vector) of type 'NULL'”Warning message in is.na(x):\n",
      "“is.na() applied to non-(list or vector) of type 'NULL'”Warning message in is.na(x):\n",
      "“is.na() applied to non-(list or vector) of type 'NULL'”Warning message in is.na(x):\n",
      "“is.na() applied to non-(list or vector) of type 'NULL'”Warning message in is.na(x):\n",
      "“is.na() applied to non-(list or vector) of type 'NULL'”Warning message in is.na(x):\n",
      "“is.na() applied to non-(list or vector) of type 'NULL'”Warning message in is.na(x):\n",
      "“is.na() applied to non-(list or vector) of type 'NULL'”Warning message in is.na(x):\n",
      "“is.na() applied to non-(list or vector) of type 'NULL'”Warning message in is.na(x):\n",
      "“is.na() applied to non-(list or vector) of type 'NULL'”Warning message in is.na(x):\n",
      "“is.na() applied to non-(list or vector) of type 'NULL'”Warning message in is.na(x):\n",
      "“is.na() applied to non-(list or vector) of type 'NULL'”Warning message in is.na(x):\n",
      "“is.na() applied to non-(list or vector) of type 'NULL'”Warning message in is.na(x):\n",
      "“is.na() applied to non-(list or vector) of type 'NULL'”Warning message in is.na(x):\n",
      "“is.na() applied to non-(list or vector) of type 'NULL'”Warning message in is.na(x):\n",
      "“is.na() applied to non-(list or vector) of type 'NULL'”Warning message in is.na(x):\n",
      "“is.na() applied to non-(list or vector) of type 'NULL'”Warning message in is.na(x):\n",
      "“is.na() applied to non-(list or vector) of type 'NULL'”Warning message in is.na(x):\n",
      "“is.na() applied to non-(list or vector) of type 'NULL'”Warning message in is.na(x):\n",
      "“is.na() applied to non-(list or vector) of type 'NULL'”Warning message in is.na(x):\n",
      "“is.na() applied to non-(list or vector) of type 'NULL'”Warning message in is.na(x):\n",
      "“is.na() applied to non-(list or vector) of type 'NULL'”Warning message in is.na(x):\n",
      "“is.na() applied to non-(list or vector) of type 'NULL'”Warning message in is.na(x):\n",
      "“is.na() applied to non-(list or vector) of type 'NULL'”Warning message in is.na(x):\n",
      "“is.na() applied to non-(list or vector) of type 'NULL'”Warning message in is.na(x):\n",
      "“is.na() applied to non-(list or vector) of type 'NULL'”Warning message in is.na(x):\n",
      "“is.na() applied to non-(list or vector) of type 'NULL'”Warning message in is.na(x):\n",
      "“is.na() applied to non-(list or vector) of type 'NULL'”Warning message in is.na(x):\n",
      "“is.na() applied to non-(list or vector) of type 'NULL'”Warning message in is.na(x):\n",
      "“is.na() applied to non-(list or vector) of type 'NULL'”Warning message in is.na(x):\n",
      "“is.na() applied to non-(list or vector) of type 'NULL'”Warning message in is.na(x):\n",
      "“is.na() applied to non-(list or vector) of type 'NULL'”Warning message in is.na(x):\n",
      "“is.na() applied to non-(list or vector) of type 'NULL'”Warning message in is.na(x):\n",
      "“is.na() applied to non-(list or vector) of type 'NULL'”Warning message in is.na(x):\n",
      "“is.na() applied to non-(list or vector) of type 'NULL'”Warning message in is.na(x):\n",
      "“is.na() applied to non-(list or vector) of type 'NULL'”"
     ]
    }
   ],
   "source": [
    "mntd_res = future_lapply(as.list(1:n_subsample_reps), \n",
    "                         mntd_each,\n",
    "                         comm_l = comm_l, \n",
    "                         tree_d = microbe_tree_d,\n",
    "                         runs = model_runs,\n",
    "                         future.packages=c('picante'))\n",
    "\n",
    "mntd_res %>% length %>% print"
   ]
  },
  {
   "cell_type": "code",
   "execution_count": 39,
   "metadata": {
    "ExecuteTime": {
     "end_time": "2018-09-19T12:32:37.152393Z",
     "start_time": "2018-09-19T12:32:37.128Z"
    }
   },
   "outputs": [
    {
     "data": {
      "text/html": [
       "'/ebio/abt3_projects/Georg_animal_feces/data/assembly/relatedness//IndD_mntd_results.RDS'"
      ],
      "text/latex": [
       "'/ebio/abt3\\_projects/Georg\\_animal\\_feces/data/assembly/relatedness//IndD\\_mntd\\_results.RDS'"
      ],
      "text/markdown": [
       "'/ebio/abt3_projects/Georg_animal_feces/data/assembly/relatedness//IndD_mntd_results.RDS'"
      ],
      "text/plain": [
       "[1] \"/ebio/abt3_projects/Georg_animal_feces/data/assembly/relatedness//IndD_mntd_results.RDS\""
      ]
     },
     "metadata": {},
     "output_type": "display_data"
    }
   ],
   "source": [
    "# saving results (file name)\n",
    "mntd_file = file.path(work_dir, 'IndD_mntd_results.RDS')\n",
    "mntd_file"
   ]
  },
  {
   "cell_type": "code",
   "execution_count": null,
   "metadata": {
    "ExecuteTime": {
     "start_time": "2018-07-22T19:00:19.567Z"
    }
   },
   "outputs": [],
   "source": [
    "# saving results \n",
    "saveRDS(mntd_res, mntd_file)\n",
    "cat('File saved:', mntd_file)"
   ]
  },
  {
   "cell_type": "code",
   "execution_count": 44,
   "metadata": {
    "ExecuteTime": {
     "end_time": "2018-09-19T12:36:31.581788Z",
     "start_time": "2018-09-19T12:36:31.500Z"
    }
   },
   "outputs": [
    {
     "name": "stdout",
     "output_type": "stream",
     "text": [
      "[1] 100\n"
     ]
    }
   ],
   "source": [
    "# re-loading results \n",
    "mntd_res = readRDS(mntd_file)\n",
    "mntd_res %>% length %>% print"
   ]
  },
  {
   "cell_type": "code",
   "execution_count": null,
   "metadata": {
    "ExecuteTime": {
     "start_time": "2018-07-22T19:00:24.582Z"
    }
   },
   "outputs": [],
   "source": [
    "send_email('http://127.0.0.1:9705/notebooks/notebooks/16S/5_assembly/relatedness/01_IndD.ipynb')"
   ]
  },
  {
   "cell_type": "markdown",
   "metadata": {},
   "source": [
    "### Summarizing"
   ]
  },
  {
   "cell_type": "code",
   "execution_count": 45,
   "metadata": {
    "ExecuteTime": {
     "end_time": "2018-09-19T12:36:32.608275Z",
     "start_time": "2018-09-19T12:36:32.507Z"
    }
   },
   "outputs": [
    {
     "name": "stdout",
     "output_type": "stream",
     "text": [
      "[1] 213  16\n"
     ]
    },
    {
     "data": {
      "text/html": [
       "<table>\n",
       "<thead><tr><th scope=col>ntaxa</th><th scope=col>mntd.obs</th><th scope=col>mntd.rand.mean</th><th scope=col>mntd.rand.sd</th><th scope=col>mntd.obs.rank</th><th scope=col>mntd.obs.z</th><th scope=col>mntd.obs.p</th><th scope=col>runs</th><th scope=col>subsample_rep</th><th scope=col>Sample</th><th scope=col>scientific_name</th><th scope=col>class</th><th scope=col>order</th><th scope=col>family</th><th scope=col>genus</th><th scope=col>diet</th></tr></thead>\n",
       "<tbody>\n",
       "\t<tr><td> 5                        </td><td>0.0557149                 </td><td>0.3921258                 </td><td>0.12874717                </td><td>  1                       </td><td>-2.612958                 </td><td>0.001                     </td><td>999                       </td><td>1                         </td><td>X398.Eurasian.Reed.Warbler</td><td>Acrocephalus_scirpaceus   </td><td>Aves                      </td><td>Passeriformes             </td><td>Sylviidae                 </td><td>Acrocephalus              </td><td>omnivore                  </td></tr>\n",
       "\t<tr><td>82                        </td><td>0.1010151                 </td><td>0.1169457                 </td><td>0.01477561                </td><td>145                       </td><td>-1.078168                 </td><td>0.145                     </td><td>999                       </td><td>1                         </td><td>X410.Impala               </td><td>Aepyceros_melampus        </td><td>Mammalia                  </td><td>Artiodactyla              </td><td>Bovidae                   </td><td>Aepyceros                 </td><td>herbivore                 </td></tr>\n",
       "\t<tr><td>10                        </td><td>0.1046503                 </td><td>0.3159598                 </td><td>0.08007488                </td><td>  3                       </td><td>-2.638899                 </td><td>0.003                     </td><td>999                       </td><td>1                         </td><td>X34.Mallard.Duck          </td><td>Anas_platyrhynchos        </td><td>Aves                      </td><td>Anseriformes              </td><td>Anatidae                  </td><td>Anas                      </td><td>omnivore                  </td></tr>\n",
       "</tbody>\n",
       "</table>\n"
      ],
      "text/latex": [
       "\\begin{tabular}{r|llllllllllllllll}\n",
       " ntaxa & mntd.obs & mntd.rand.mean & mntd.rand.sd & mntd.obs.rank & mntd.obs.z & mntd.obs.p & runs & subsample\\_rep & Sample & scientific\\_name & class & order & family & genus & diet\\\\\n",
       "\\hline\n",
       "\t  5                         & 0.0557149                  & 0.3921258                  & 0.12874717                 &   1                        & -2.612958                  & 0.001                      & 999                        & 1                          & X398.Eurasian.Reed.Warbler & Acrocephalus\\_scirpaceus  & Aves                       & Passeriformes              & Sylviidae                  & Acrocephalus               & omnivore                  \\\\\n",
       "\t 82                         & 0.1010151                  & 0.1169457                  & 0.01477561                 & 145                        & -1.078168                  & 0.145                      & 999                        & 1                          & X410.Impala                & Aepyceros\\_melampus       & Mammalia                   & Artiodactyla               & Bovidae                    & Aepyceros                  & herbivore                 \\\\\n",
       "\t 10                         & 0.1046503                  & 0.3159598                  & 0.08007488                 &   3                        & -2.638899                  & 0.003                      & 999                        & 1                          & X34.Mallard.Duck           & Anas\\_platyrhynchos       & Aves                       & Anseriformes               & Anatidae                   & Anas                       & omnivore                  \\\\\n",
       "\\end{tabular}\n"
      ],
      "text/markdown": [
       "\n",
       "ntaxa | mntd.obs | mntd.rand.mean | mntd.rand.sd | mntd.obs.rank | mntd.obs.z | mntd.obs.p | runs | subsample_rep | Sample | scientific_name | class | order | family | genus | diet | \n",
       "|---|---|---|\n",
       "|  5                         | 0.0557149                  | 0.3921258                  | 0.12874717                 |   1                        | -2.612958                  | 0.001                      | 999                        | 1                          | X398.Eurasian.Reed.Warbler | Acrocephalus_scirpaceus    | Aves                       | Passeriformes              | Sylviidae                  | Acrocephalus               | omnivore                   | \n",
       "| 82                         | 0.1010151                  | 0.1169457                  | 0.01477561                 | 145                        | -1.078168                  | 0.145                      | 999                        | 1                          | X410.Impala                | Aepyceros_melampus         | Mammalia                   | Artiodactyla               | Bovidae                    | Aepyceros                  | herbivore                  | \n",
       "| 10                         | 0.1046503                  | 0.3159598                  | 0.08007488                 |   3                        | -2.638899                  | 0.003                      | 999                        | 1                          | X34.Mallard.Duck           | Anas_platyrhynchos         | Aves                       | Anseriformes               | Anatidae                   | Anas                       | omnivore                   | \n",
       "\n",
       "\n"
      ],
      "text/plain": [
       "  ntaxa mntd.obs  mntd.rand.mean mntd.rand.sd mntd.obs.rank mntd.obs.z\n",
       "1  5    0.0557149 0.3921258      0.12874717     1           -2.612958 \n",
       "2 82    0.1010151 0.1169457      0.01477561   145           -1.078168 \n",
       "3 10    0.1046503 0.3159598      0.08007488     3           -2.638899 \n",
       "  mntd.obs.p runs subsample_rep Sample                    \n",
       "1 0.001      999  1             X398.Eurasian.Reed.Warbler\n",
       "2 0.145      999  1             X410.Impala               \n",
       "3 0.003      999  1             X34.Mallard.Duck          \n",
       "  scientific_name         class    order         family    genus       \n",
       "1 Acrocephalus_scirpaceus Aves     Passeriformes Sylviidae Acrocephalus\n",
       "2 Aepyceros_melampus      Mammalia Artiodactyla  Bovidae   Aepyceros   \n",
       "3 Anas_platyrhynchos      Aves     Anseriformes  Anatidae  Anas        \n",
       "  diet     \n",
       "1 omnivore \n",
       "2 herbivore\n",
       "3 omnivore "
      ]
     },
     "metadata": {},
     "output_type": "display_data"
    }
   ],
   "source": [
    "# convert to df\n",
    "mntd_res = do.call(rbind, mntd_res) %>%\n",
    "    mutate(Sample = rownames(.)) %>%\n",
    "    inner_join(metadata, c('Sample'))\n",
    "mntd_res %>% dfhead"
   ]
  },
  {
   "cell_type": "code",
   "execution_count": 47,
   "metadata": {
    "ExecuteTime": {
     "end_time": "2018-09-19T12:36:40.760144Z",
     "start_time": "2018-09-19T12:36:40.691Z"
    }
   },
   "outputs": [
    {
     "name": "stdout",
     "output_type": "stream",
     "text": [
      ".\n",
      "clustered      even        NA \n",
      "       59         4        65 \n",
      "[1] 128   9\n"
     ]
    },
    {
     "data": {
      "text/html": [
       "<table>\n",
       "<thead><tr><th scope=col>scientific_name</th><th scope=col>class</th><th scope=col>order</th><th scope=col>family</th><th scope=col>genus</th><th scope=col>diet</th><th scope=col>mntd.result.sum</th><th scope=col>mean.mntd.obs.z</th><th scope=col>sd.mntd.obs.z</th></tr></thead>\n",
       "<tbody>\n",
       "\t<tr><td>Acrocephalus_scirpaceus</td><td>Aves                   </td><td>Passeriformes          </td><td>Sylviidae              </td><td>Acrocephalus           </td><td>omnivore               </td><td>clustered              </td><td>-2.612958              </td><td>NA                     </td></tr>\n",
       "\t<tr><td>Aepyceros_melampus     </td><td>Mammalia               </td><td>Artiodactyla           </td><td>Bovidae                </td><td>Aepyceros              </td><td>herbivore              </td><td>NA                     </td><td>-1.078168              </td><td>NA                     </td></tr>\n",
       "\t<tr><td>Anas_platyrhynchos     </td><td>Aves                   </td><td>Anseriformes           </td><td>Anatidae               </td><td>Anas                   </td><td>omnivore               </td><td>clustered              </td><td>-2.638899              </td><td>NA                     </td></tr>\n",
       "</tbody>\n",
       "</table>\n"
      ],
      "text/latex": [
       "\\begin{tabular}{r|lllllllll}\n",
       " scientific\\_name & class & order & family & genus & diet & mntd.result.sum & mean.mntd.obs.z & sd.mntd.obs.z\\\\\n",
       "\\hline\n",
       "\t Acrocephalus\\_scirpaceus & Aves                      & Passeriformes             & Sylviidae                 & Acrocephalus              & omnivore                  & clustered                 & -2.612958                 & NA                       \\\\\n",
       "\t Aepyceros\\_melampus      & Mammalia                  & Artiodactyla              & Bovidae                   & Aepyceros                 & herbivore                 & NA                        & -1.078168                 & NA                       \\\\\n",
       "\t Anas\\_platyrhynchos      & Aves                      & Anseriformes              & Anatidae                  & Anas                      & omnivore                  & clustered                 & -2.638899                 & NA                       \\\\\n",
       "\\end{tabular}\n"
      ],
      "text/markdown": [
       "\n",
       "scientific_name | class | order | family | genus | diet | mntd.result.sum | mean.mntd.obs.z | sd.mntd.obs.z | \n",
       "|---|---|---|\n",
       "| Acrocephalus_scirpaceus | Aves                    | Passeriformes           | Sylviidae               | Acrocephalus            | omnivore                | clustered               | -2.612958               | NA                      | \n",
       "| Aepyceros_melampus      | Mammalia                | Artiodactyla            | Bovidae                 | Aepyceros               | herbivore               | NA                      | -1.078168               | NA                      | \n",
       "| Anas_platyrhynchos      | Aves                    | Anseriformes            | Anatidae                | Anas                    | omnivore                | clustered               | -2.638899               | NA                      | \n",
       "\n",
       "\n"
      ],
      "text/plain": [
       "  scientific_name         class    order         family    genus       \n",
       "1 Acrocephalus_scirpaceus Aves     Passeriformes Sylviidae Acrocephalus\n",
       "2 Aepyceros_melampus      Mammalia Artiodactyla  Bovidae   Aepyceros   \n",
       "3 Anas_platyrhynchos      Aves     Anseriformes  Anatidae  Anas        \n",
       "  diet      mntd.result.sum mean.mntd.obs.z sd.mntd.obs.z\n",
       "1 omnivore  clustered       -2.612958       NA           \n",
       "2 herbivore NA              -1.078168       NA           \n",
       "3 omnivore  clustered       -2.638899       NA           "
      ]
     },
     "metadata": {},
     "output_type": "display_data"
    }
   ],
   "source": [
    "# summarizing results\n",
    "mntd_res_s = mntd_res %>%\n",
    "    mutate(\n",
    "        mntd.result = NA,\n",
    "        mntd.result = ifelse((mntd.obs.z > 0) & (mntd.obs.p > 0.95), 'even', mntd.result),\n",
    "        mntd.result = ifelse((mntd.obs.z < 0) & (mntd.obs.p < 0.05), 'clustered', mntd.result)\n",
    "        ) %>%\n",
    "    group_by(scientific_name, class, order, family, genus, diet) %>%\n",
    "    summarize(\n",
    "        mntd.result.sum = even_or_clust(mntd.result, thresh=0.95),\n",
    "        mean.mntd.obs.z = mean(mntd.obs.z, na.rm=TRUE),\n",
    "        sd.mntd.obs.z = sd(mntd.obs.z, na.rm=TRUE)\n",
    "        ) %>%\n",
    "    ungroup() %>%\n",
    "    mutate(scientific_name = scientific_name %>% reorder(-mean.mntd.obs.z))\n",
    "\n",
    "\n",
    "mntd_res_s$mntd.result.sum %>% table %>% print\n",
    "mntd_res_s %>% dfhead"
   ]
  },
  {
   "cell_type": "code",
   "execution_count": 48,
   "metadata": {
    "ExecuteTime": {
     "end_time": "2018-09-19T12:36:45.331922Z",
     "start_time": "2018-09-19T12:36:44.417Z"
    }
   },
   "outputs": [
    {
     "data": {
      "image/png": "[encoded data removed]",
      "text/plain": [
       "plot without title"
      ]
     },
     "metadata": {},
     "output_type": "display_data"
    }
   ],
   "source": [
    "# plotting\n",
    "p = ggplot(mntd_res_s, aes(mntd.result.sum, fill=class)) +\n",
    "    geom_bar() +\n",
    "    theme_bw() +\n",
    "    theme(\n",
    "        axis.text.x = element_text(angle=45, hjust=1)\n",
    "    )\n",
    "\n",
    "options(repr.plot.width=5, repr.plot.height=3)\n",
    "plot(p)"
   ]
  },
  {
   "cell_type": "code",
   "execution_count": 49,
   "metadata": {
    "ExecuteTime": {
     "end_time": "2018-09-19T12:36:47.961925Z",
     "start_time": "2018-09-19T12:36:47.170Z"
    }
   },
   "outputs": [
    {
     "data": {
      "image/png": "[encoded data removed]",
      "text/plain": [
       "plot without title"
      ]
     },
     "metadata": {},
     "output_type": "display_data"
    }
   ],
   "source": [
    "# plotting\n",
    "p = ggplot(mntd_res_s, aes(mntd.result.sum, fill=diet)) +\n",
    "    geom_bar() +\n",
    "    theme_bw() +\n",
    "    theme(\n",
    "        axis.text.x = element_text(angle=45, hjust=1)\n",
    "    )\n",
    "\n",
    "options(repr.plot.width=5, repr.plot.height=3)\n",
    "plot(p)"
   ]
  },
  {
   "cell_type": "code",
   "execution_count": 50,
   "metadata": {
    "ExecuteTime": {
     "end_time": "2018-09-19T12:36:49.371161Z",
     "start_time": "2018-09-19T12:36:48.283Z"
    }
   },
   "outputs": [
    {
     "name": "stderr",
     "output_type": "stream",
     "text": [
      "Warning message:\n",
      "“Removed 80 rows containing missing values (geom_linerange).”Warning message:\n",
      "“Removed 6 rows containing missing values (geom_point).”"
     ]
    },
    {
     "data": {
      "image/png": "[encoded data removed]",
      "text/plain": [
       "plot without title"
      ]
     },
     "metadata": {},
     "output_type": "display_data"
    }
   ],
   "source": [
    "# plotting\n",
    "p = ggplot(mntd_res_s, aes(scientific_name, mean.mntd.obs.z, color=class)) +\n",
    "    geom_linerange(aes(ymin=mean.mntd.obs.z-sd.mntd.obs.z,\n",
    "                       ymax=mean.mntd.obs.z+sd.mntd.obs.z), alpha=0.5) +\n",
    "    geom_point(size=0.5) +\n",
    "    theme_bw() +\n",
    "    theme(\n",
    "        axis.text.x = element_blank()\n",
    "    )\n",
    "\n",
    "options(repr.plot.width=8, repr.plot.height=3)\n",
    "plot(p)"
   ]
  },
  {
   "cell_type": "markdown",
   "metadata": {},
   "source": [
    "## Stats"
   ]
  },
  {
   "cell_type": "code",
   "execution_count": 51,
   "metadata": {
    "ExecuteTime": {
     "end_time": "2018-09-19T12:36:52.039210Z",
     "start_time": "2018-09-19T12:36:51.978Z"
    }
   },
   "outputs": [
    {
     "name": "stderr",
     "output_type": "stream",
     "text": [
      "Warning message:\n",
      "“Column `scientific_name` joining factors with different levels, coercing to character vector”"
     ]
    },
    {
     "name": "stdout",
     "output_type": "stream",
     "text": [
      "[1] 256   5\n"
     ]
    },
    {
     "data": {
      "text/html": [
       "<table>\n",
       "<thead><tr><th scope=col>scientific_name</th><th scope=col>class</th><th scope=col>diet</th><th scope=col>measure</th><th scope=col>value</th></tr></thead>\n",
       "<tbody>\n",
       "\t<tr><td>Acrocephalus_scirpaceus</td><td>Aves                   </td><td>omnivore               </td><td>mean.mpd.obs.z         </td><td>-0.7247612             </td></tr>\n",
       "\t<tr><td>Aepyceros_melampus     </td><td>Mammalia               </td><td>herbivore              </td><td>mean.mpd.obs.z         </td><td> 0.7201200             </td></tr>\n",
       "\t<tr><td>Anas_platyrhynchos     </td><td>Aves                   </td><td>omnivore               </td><td>mean.mpd.obs.z         </td><td>-1.1917873             </td></tr>\n",
       "</tbody>\n",
       "</table>\n"
      ],
      "text/latex": [
       "\\begin{tabular}{r|lllll}\n",
       " scientific\\_name & class & diet & measure & value\\\\\n",
       "\\hline\n",
       "\t Acrocephalus\\_scirpaceus & Aves                      & omnivore                  & mean.mpd.obs.z            & -0.7247612               \\\\\n",
       "\t Aepyceros\\_melampus      & Mammalia                  & herbivore                 & mean.mpd.obs.z            &  0.7201200               \\\\\n",
       "\t Anas\\_platyrhynchos      & Aves                      & omnivore                  & mean.mpd.obs.z            & -1.1917873               \\\\\n",
       "\\end{tabular}\n"
      ],
      "text/markdown": [
       "\n",
       "scientific_name | class | diet | measure | value | \n",
       "|---|---|---|\n",
       "| Acrocephalus_scirpaceus | Aves                    | omnivore                | mean.mpd.obs.z          | -0.7247612              | \n",
       "| Aepyceros_melampus      | Mammalia                | herbivore               | mean.mpd.obs.z          |  0.7201200              | \n",
       "| Anas_platyrhynchos      | Aves                    | omnivore                | mean.mpd.obs.z          | -1.1917873              | \n",
       "\n",
       "\n"
      ],
      "text/plain": [
       "  scientific_name         class    diet      measure        value     \n",
       "1 Acrocephalus_scirpaceus Aves     omnivore  mean.mpd.obs.z -0.7247612\n",
       "2 Aepyceros_melampus      Mammalia herbivore mean.mpd.obs.z  0.7201200\n",
       "3 Anas_platyrhynchos      Aves     omnivore  mean.mpd.obs.z -1.1917873"
      ]
     },
     "metadata": {},
     "output_type": "display_data"
    }
   ],
   "source": [
    "df = inner_join(mpd_res_s, mntd_res_s, \n",
    "                c('scientific_name', 'genus', 'family', 'order', 'class', 'diet')) %>%\n",
    "    dplyr::select(scientific_name, class, diet, mean.mpd.obs.z, mean.mntd.obs.z) %>%\n",
    "    gather(measure, value, -scientific_name, -class, -diet) \n",
    "\n",
    "df %>% dfhead"
   ]
  },
  {
   "cell_type": "code",
   "execution_count": 52,
   "metadata": {
    "ExecuteTime": {
     "end_time": "2018-09-19T12:36:54.523109Z",
     "start_time": "2018-09-19T12:36:54.448Z"
    }
   },
   "outputs": [
    {
     "data": {
      "text/plain": [
       "             Df Sum Sq Mean Sq F value Pr(>F)  \n",
       "class         4   6.02  1.5059   2.063 0.0905 .\n",
       "diet          2   1.08  0.5398   0.739 0.4798  \n",
       "class:diet    4   3.14  0.7848   1.075 0.3724  \n",
       "Residuals   111  81.05  0.7301                 \n",
       "---\n",
       "Signif. codes:  0 ‘***’ 0.001 ‘**’ 0.01 ‘*’ 0.05 ‘.’ 0.1 ‘ ’ 1\n",
       "6 observations deleted due to missingness"
      ]
     },
     "metadata": {},
     "output_type": "display_data"
    }
   ],
   "source": [
    "tmp = df %>%\n",
    "    filter(measure == 'mean.mpd.obs.z') \n",
    "\n",
    "aov(value ~ class * diet, data=tmp) %>% summary"
   ]
  },
  {
   "cell_type": "code",
   "execution_count": 53,
   "metadata": {
    "ExecuteTime": {
     "end_time": "2018-09-19T12:36:55.636208Z",
     "start_time": "2018-09-19T12:36:55.600Z"
    }
   },
   "outputs": [
    {
     "data": {
      "text/plain": [
       "             Df Sum Sq Mean Sq F value Pr(>F)  \n",
       "class         4  11.36   2.840   2.608 0.0395 *\n",
       "diet          2   2.67   1.337   1.227 0.2970  \n",
       "class:diet    4   6.27   1.566   1.438 0.2261  \n",
       "Residuals   111 120.88   1.089                 \n",
       "---\n",
       "Signif. codes:  0 ‘***’ 0.001 ‘**’ 0.01 ‘*’ 0.05 ‘.’ 0.1 ‘ ’ 1\n",
       "6 observations deleted due to missingness"
      ]
     },
     "metadata": {},
     "output_type": "display_data"
    }
   ],
   "source": [
    "tmp = df %>%\n",
    "    filter(measure == 'mean.mntd.obs.z') \n",
    "\n",
    "aov(value ~ class * diet, data=tmp) %>% summary"
   ]
  },
  {
   "cell_type": "markdown",
   "metadata": {},
   "source": [
    "## Summary plots"
   ]
  },
  {
   "cell_type": "code",
   "execution_count": 81,
   "metadata": {
    "ExecuteTime": {
     "end_time": "2018-09-19T12:53:57.684619Z",
     "start_time": "2018-09-19T12:53:57.608Z"
    }
   },
   "outputs": [
    {
     "name": "stderr",
     "output_type": "stream",
     "text": [
      "Warning message:\n",
      "“Column `scientific_name` joining factors with different levels, coercing to character vector”"
     ]
    },
    {
     "name": "stdout",
     "output_type": "stream",
     "text": [
      "[1] 256   5\n"
     ]
    },
    {
     "data": {
      "text/html": [
       "<table>\n",
       "<thead><tr><th scope=col>scientific_name</th><th scope=col>class</th><th scope=col>diet</th><th scope=col>measure</th><th scope=col>value</th></tr></thead>\n",
       "<tbody>\n",
       "\t<tr><td>Acrocephalus_scirpaceus</td><td>Aves                   </td><td>omnivore               </td><td>mpd.result.sum         </td><td>NA                     </td></tr>\n",
       "\t<tr><td>Aepyceros_melampus     </td><td>Mammalia               </td><td>herbivore              </td><td>mpd.result.sum         </td><td>NA                     </td></tr>\n",
       "\t<tr><td>Anas_platyrhynchos     </td><td>Aves                   </td><td>omnivore               </td><td>mpd.result.sum         </td><td>NA                     </td></tr>\n",
       "</tbody>\n",
       "</table>\n"
      ],
      "text/latex": [
       "\\begin{tabular}{r|lllll}\n",
       " scientific\\_name & class & diet & measure & value\\\\\n",
       "\\hline\n",
       "\t Acrocephalus\\_scirpaceus & Aves                      & omnivore                  & mpd.result.sum            & NA                       \\\\\n",
       "\t Aepyceros\\_melampus      & Mammalia                  & herbivore                 & mpd.result.sum            & NA                       \\\\\n",
       "\t Anas\\_platyrhynchos      & Aves                      & omnivore                  & mpd.result.sum            & NA                       \\\\\n",
       "\\end{tabular}\n"
      ],
      "text/markdown": [
       "\n",
       "scientific_name | class | diet | measure | value | \n",
       "|---|---|---|\n",
       "| Acrocephalus_scirpaceus | Aves                    | omnivore                | mpd.result.sum          | NA                      | \n",
       "| Aepyceros_melampus      | Mammalia                | herbivore               | mpd.result.sum          | NA                      | \n",
       "| Anas_platyrhynchos      | Aves                    | omnivore                | mpd.result.sum          | NA                      | \n",
       "\n",
       "\n"
      ],
      "text/plain": [
       "  scientific_name         class    diet      measure        value\n",
       "1 Acrocephalus_scirpaceus Aves     omnivore  mpd.result.sum NA   \n",
       "2 Aepyceros_melampus      Mammalia herbivore mpd.result.sum NA   \n",
       "3 Anas_platyrhynchos      Aves     omnivore  mpd.result.sum NA   "
      ]
     },
     "metadata": {},
     "output_type": "display_data"
    }
   ],
   "source": [
    "df = inner_join(mpd_res_s, mntd_res_s, \n",
    "                c('scientific_name', 'genus', 'family', 'order', 'class', 'diet')) %>%\n",
    "    dplyr::select(scientific_name, class, diet, mpd.result.sum, mntd.result.sum) %>%\n",
    "    gather(measure, value, -scientific_name, -class, -diet) \n",
    "\n",
    "df %>% dfhead"
   ]
  },
  {
   "cell_type": "code",
   "execution_count": 82,
   "metadata": {
    "ExecuteTime": {
     "end_time": "2018-09-19T12:54:13.047904Z",
     "start_time": "2018-09-19T12:54:12.978Z"
    }
   },
   "outputs": [
    {
     "name": "stdout",
     "output_type": "stream",
     "text": [
      "[1] 43  5\n"
     ]
    },
    {
     "data": {
      "text/html": [
       "<table>\n",
       "<thead><tr><th scope=col>class</th><th scope=col>diet</th><th scope=col>measure</th><th scope=col>value</th><th scope=col>n</th></tr></thead>\n",
       "<tbody>\n",
       "\t<tr><td>Actinopterygii</td><td>carnivore     </td><td>MNTD          </td><td>clustered     </td><td>0.4           </td></tr>\n",
       "\t<tr><td>Actinopterygii</td><td>carnivore     </td><td>MNTD          </td><td>NA            </td><td>0.6           </td></tr>\n",
       "\t<tr><td>Actinopterygii</td><td>carnivore     </td><td>MPD           </td><td>clustered     </td><td>0.2           </td></tr>\n",
       "</tbody>\n",
       "</table>\n"
      ],
      "text/latex": [
       "\\begin{tabular}{r|lllll}\n",
       " class & diet & measure & value & n\\\\\n",
       "\\hline\n",
       "\t Actinopterygii & carnivore      & MNTD           & clustered      & 0.4           \\\\\n",
       "\t Actinopterygii & carnivore      & MNTD           & NA             & 0.6           \\\\\n",
       "\t Actinopterygii & carnivore      & MPD            & clustered      & 0.2           \\\\\n",
       "\\end{tabular}\n"
      ],
      "text/markdown": [
       "\n",
       "class | diet | measure | value | n | \n",
       "|---|---|---|\n",
       "| Actinopterygii | carnivore      | MNTD           | clustered      | 0.4            | \n",
       "| Actinopterygii | carnivore      | MNTD           | NA             | 0.6            | \n",
       "| Actinopterygii | carnivore      | MPD            | clustered      | 0.2            | \n",
       "\n",
       "\n"
      ],
      "text/plain": [
       "  class          diet      measure value     n  \n",
       "1 Actinopterygii carnivore MNTD    clustered 0.4\n",
       "2 Actinopterygii carnivore MNTD    NA        0.6\n",
       "3 Actinopterygii carnivore MPD     clustered 0.2"
      ]
     },
     "metadata": {},
     "output_type": "display_data"
    }
   ],
   "source": [
    "df_s = df %>%\n",
    "    mutate(measure = ifelse(measure == 'mntd.result.sum', 'MNTD', 'MPD')) %>%\n",
    "    group_by(class, diet, measure) %>%\n",
    "    mutate(total_count = n()) %>%\n",
    "    group_by(class, diet, measure, value) %>%\n",
    "    summarize(n = n() / first(total_count)) %>%\n",
    "    ungroup() %>%\n",
    "    mutate(value = factor(value, levels=c('NA', 'even', 'clustered')))\n",
    "\n",
    "df_s %>% dfhead"
   ]
  },
  {
   "cell_type": "code",
   "execution_count": 85,
   "metadata": {
    "ExecuteTime": {
     "end_time": "2018-09-19T12:54:47.955827Z",
     "start_time": "2018-09-19T12:54:45.214Z"
    }
   },
   "outputs": [
    {
     "name": "stdout",
     "output_type": "stream",
     "text": [
      "File written: /ebio/abt3_projects/Georg_animal_feces/notebooks/16S/5_assembly/relatedness/.figures/IndD_mpd-mntd_cat-frac.pdf \n"
     ]
    },
    {
     "data": {
      "image/png": "[encoded data removed]",
      "text/plain": [
       "plot without title"
      ]
     },
     "metadata": {},
     "output_type": "display_data"
    }
   ],
   "source": [
    "p = ggplot(df_s, aes(class, n, fill=value)) +\n",
    "    geom_bar(stat='identity') +\n",
    "    labs(x='Host class', y='Fraction of species') +\n",
    "    scale_fill_manual(values=c('grey', 'red', 'blue')) +\n",
    "    facet_grid(measure ~ diet) +\n",
    "    theme_bw() +\n",
    "    theme(\n",
    "        axis.text.x = element_text(angle=45, hjust=1)\n",
    "    )\n",
    "\n",
    "options(repr.plot.width=6, repr.plot.height=3)\n",
    "plot_write(p, file='IndD_mpd-mntd_cat-frac.pdf')"
   ]
  },
  {
   "cell_type": "code",
   "execution_count": 83,
   "metadata": {
    "ExecuteTime": {
     "end_time": "2018-09-19T12:54:18.062827Z",
     "start_time": "2018-09-19T12:54:15.297Z"
    }
   },
   "outputs": [
    {
     "name": "stdout",
     "output_type": "stream",
     "text": [
      "File written: /ebio/abt3_projects/Georg_animal_feces/notebooks/16S/5_assembly/relatedness/.figures/IndD_mpd-mntd_cat-frac.pdf \n"
     ]
    },
    {
     "data": {
      "image/png": "[encoded data removed]",
      "text/plain": [
       "plot without title"
      ]
     },
     "metadata": {},
     "output_type": "display_data"
    }
   ],
   "source": [
    "p = ggplot(df_s, aes(class, n, fill=value)) +\n",
    "    geom_bar(stat='identity') +\n",
    "    labs(x='Host class', y='Fraction of species') +\n",
    "    scale_fill_manual(values=c('grey', 'red', 'blue')) +\n",
    "    facet_grid(diet ~ measure) +\n",
    "    coord_flip() +\n",
    "    theme_bw() +\n",
    "    theme(\n",
    "        axis.text.x = element_text(angle=55, hjust=1)\n",
    "    )\n",
    "\n",
    "options(repr.plot.width=4, repr.plot.height=4.5)\n",
    "plot_write(p, file='IndD_mpd-mntd_cat-frac.pdf')"
   ]
  },
  {
   "cell_type": "code",
   "execution_count": 68,
   "metadata": {
    "ExecuteTime": {
     "end_time": "2018-09-19T12:43:35.448998Z",
     "start_time": "2018-09-19T12:43:35.403Z"
    }
   },
   "outputs": [
    {
     "name": "stderr",
     "output_type": "stream",
     "text": [
      "Warning message:\n",
      "“Column `scientific_name` joining factors with different levels, coercing to character vector”"
     ]
    },
    {
     "name": "stdout",
     "output_type": "stream",
     "text": [
      "[1] 128  13\n"
     ]
    },
    {
     "data": {
      "text/html": [
       "<table>\n",
       "<thead><tr><th scope=col>scientific_name</th><th scope=col>class</th><th scope=col>order</th><th scope=col>family</th><th scope=col>genus</th><th scope=col>diet.x</th><th scope=col>mpd.result.sum</th><th scope=col>mean.mpd.obs.z</th><th scope=col>sd.mpd.obs.z</th><th scope=col>diet.y</th><th scope=col>mntd.result.sum</th><th scope=col>mean.mntd.obs.z</th><th scope=col>sd.mntd.obs.z</th></tr></thead>\n",
       "<tbody>\n",
       "\t<tr><td>Acrocephalus_scirpaceus</td><td>Aves                   </td><td>Passeriformes          </td><td>Sylviidae              </td><td>Acrocephalus           </td><td>omnivore               </td><td>NA                     </td><td>-0.7247612             </td><td>NA                     </td><td>omnivore               </td><td>clustered              </td><td>-2.612958              </td><td>NA                     </td></tr>\n",
       "\t<tr><td>Aepyceros_melampus     </td><td>Mammalia               </td><td>Artiodactyla           </td><td>Bovidae                </td><td>Aepyceros              </td><td>herbivore              </td><td>NA                     </td><td> 0.7201200             </td><td>NA                     </td><td>herbivore              </td><td>NA                     </td><td>-1.078168              </td><td>NA                     </td></tr>\n",
       "\t<tr><td>Anas_platyrhynchos     </td><td>Aves                   </td><td>Anseriformes           </td><td>Anatidae               </td><td>Anas                   </td><td>omnivore               </td><td>NA                     </td><td>-1.1917873             </td><td>NA                     </td><td>omnivore               </td><td>clustered              </td><td>-2.638899              </td><td>NA                     </td></tr>\n",
       "</tbody>\n",
       "</table>\n"
      ],
      "text/latex": [
       "\\begin{tabular}{r|lllllllllllll}\n",
       " scientific\\_name & class & order & family & genus & diet.x & mpd.result.sum & mean.mpd.obs.z & sd.mpd.obs.z & diet.y & mntd.result.sum & mean.mntd.obs.z & sd.mntd.obs.z\\\\\n",
       "\\hline\n",
       "\t Acrocephalus\\_scirpaceus & Aves                      & Passeriformes             & Sylviidae                 & Acrocephalus              & omnivore                  & NA                        & -0.7247612                & NA                        & omnivore                  & clustered                 & -2.612958                 & NA                       \\\\\n",
       "\t Aepyceros\\_melampus      & Mammalia                  & Artiodactyla              & Bovidae                   & Aepyceros                 & herbivore                 & NA                        &  0.7201200                & NA                        & herbivore                 & NA                        & -1.078168                 & NA                       \\\\\n",
       "\t Anas\\_platyrhynchos      & Aves                      & Anseriformes              & Anatidae                  & Anas                      & omnivore                  & NA                        & -1.1917873                & NA                        & omnivore                  & clustered                 & -2.638899                 & NA                       \\\\\n",
       "\\end{tabular}\n"
      ],
      "text/markdown": [
       "\n",
       "scientific_name | class | order | family | genus | diet.x | mpd.result.sum | mean.mpd.obs.z | sd.mpd.obs.z | diet.y | mntd.result.sum | mean.mntd.obs.z | sd.mntd.obs.z | \n",
       "|---|---|---|\n",
       "| Acrocephalus_scirpaceus | Aves                    | Passeriformes           | Sylviidae               | Acrocephalus            | omnivore                | NA                      | -0.7247612              | NA                      | omnivore                | clustered               | -2.612958               | NA                      | \n",
       "| Aepyceros_melampus      | Mammalia                | Artiodactyla            | Bovidae                 | Aepyceros               | herbivore               | NA                      |  0.7201200              | NA                      | herbivore               | NA                      | -1.078168               | NA                      | \n",
       "| Anas_platyrhynchos      | Aves                    | Anseriformes            | Anatidae                | Anas                    | omnivore                | NA                      | -1.1917873              | NA                      | omnivore                | clustered               | -2.638899               | NA                      | \n",
       "\n",
       "\n"
      ],
      "text/plain": [
       "  scientific_name         class    order         family    genus       \n",
       "1 Acrocephalus_scirpaceus Aves     Passeriformes Sylviidae Acrocephalus\n",
       "2 Aepyceros_melampus      Mammalia Artiodactyla  Bovidae   Aepyceros   \n",
       "3 Anas_platyrhynchos      Aves     Anseriformes  Anatidae  Anas        \n",
       "  diet.x    mpd.result.sum mean.mpd.obs.z sd.mpd.obs.z diet.y   \n",
       "1 omnivore  NA             -0.7247612     NA           omnivore \n",
       "2 herbivore NA              0.7201200     NA           herbivore\n",
       "3 omnivore  NA             -1.1917873     NA           omnivore \n",
       "  mntd.result.sum mean.mntd.obs.z sd.mntd.obs.z\n",
       "1 clustered       -2.612958       NA           \n",
       "2 NA              -1.078168       NA           \n",
       "3 clustered       -2.638899       NA           "
      ]
     },
     "metadata": {},
     "output_type": "display_data"
    }
   ],
   "source": [
    "df = inner_join(mpd_res_s, mntd_res_s, \n",
    "                c('scientific_name', 'genus', 'family', 'order', 'class')) \n",
    "\n",
    "df %>% dfhead"
   ]
  },
  {
   "cell_type": "code",
   "execution_count": 70,
   "metadata": {
    "ExecuteTime": {
     "end_time": "2018-09-19T12:44:03.132986Z",
     "start_time": "2018-09-19T12:44:01.655Z"
    }
   },
   "outputs": [
    {
     "name": "stderr",
     "output_type": "stream",
     "text": [
      "Warning message:\n",
      "“Removed 6 rows containing non-finite values (stat_boxplot).”"
     ]
    },
    {
     "data": {
      "image/png": "[encoded data removed]",
      "text/plain": [
       "plot without title"
      ]
     },
     "metadata": {},
     "output_type": "display_data"
    }
   ],
   "source": [
    "p = ggplot(df, aes(class, mean.mpd.obs.z, color=mpd.result.sum)) +\n",
    "    geom_boxplot() +\n",
    "    theme_bw()\n",
    "\n",
    "options(repr.plot.width=6, repr.plot.height=2.5)\n",
    "plot(p)"
   ]
  },
  {
   "cell_type": "code",
   "execution_count": 71,
   "metadata": {
    "ExecuteTime": {
     "end_time": "2018-09-19T12:44:09.555945Z",
     "start_time": "2018-09-19T12:44:08.231Z"
    }
   },
   "outputs": [
    {
     "name": "stderr",
     "output_type": "stream",
     "text": [
      "Warning message:\n",
      "“Removed 6 rows containing non-finite values (stat_boxplot).”"
     ]
    },
    {
     "data": {
      "image/png": "[encoded data removed]",
      "text/plain": [
       "plot without title"
      ]
     },
     "metadata": {},
     "output_type": "display_data"
    }
   ],
   "source": [
    "p = ggplot(df, aes(class, mean.mntd.obs.z, color=mntd.result.sum)) +\n",
    "    geom_boxplot() +\n",
    "    theme_bw()\n",
    "\n",
    "options(repr.plot.width=6, repr.plot.height=2.5)\n",
    "plot(p)"
   ]
  },
  {
   "cell_type": "markdown",
   "metadata": {},
   "source": [
    "## iTOL plotting"
   ]
  },
  {
   "cell_type": "markdown",
   "metadata": {},
   "source": [
    "### Heatmap of obs.z"
   ]
  },
  {
   "cell_type": "code",
   "execution_count": 72,
   "metadata": {
    "ExecuteTime": {
     "end_time": "2018-09-19T12:44:18.156727Z",
     "start_time": "2018-09-19T12:44:18.097Z"
    }
   },
   "outputs": [
    {
     "name": "stderr",
     "output_type": "stream",
     "text": [
      "Warning message:\n",
      "“Column `scientific_name` joining factors with different levels, coercing to character vector”"
     ]
    },
    {
     "name": "stdout",
     "output_type": "stream",
     "text": [
      "[1] 128   2\n"
     ]
    },
    {
     "data": {
      "text/html": [
       "<table>\n",
       "<thead><tr><th></th><th scope=col>mean.mpd.obs.z</th><th scope=col>mean.mntd.obs.z</th></tr></thead>\n",
       "<tbody>\n",
       "\t<tr><th scope=row>Acrocephalus_scirpaceus</th><td>-0.7247612</td><td>-2.612958 </td></tr>\n",
       "\t<tr><th scope=row>Aepyceros_melampus</th><td> 0.7201200</td><td>-1.078168 </td></tr>\n",
       "\t<tr><th scope=row>Anas_platyrhynchos</th><td>-1.1917873</td><td>-2.638899 </td></tr>\n",
       "</tbody>\n",
       "</table>\n"
      ],
      "text/latex": [
       "\\begin{tabular}{r|ll}\n",
       "  & mean.mpd.obs.z & mean.mntd.obs.z\\\\\n",
       "\\hline\n",
       "\tAcrocephalus\\_scirpaceus & -0.7247612 & -2.612958 \\\\\n",
       "\tAepyceros\\_melampus &  0.7201200 & -1.078168 \\\\\n",
       "\tAnas\\_platyrhynchos & -1.1917873 & -2.638899 \\\\\n",
       "\\end{tabular}\n"
      ],
      "text/markdown": [
       "\n",
       "| <!--/--> | mean.mpd.obs.z | mean.mntd.obs.z | \n",
       "|---|---|---|\n",
       "| Acrocephalus_scirpaceus | -0.7247612 | -2.612958  | \n",
       "| Aepyceros_melampus |  0.7201200 | -1.078168  | \n",
       "| Anas_platyrhynchos | -1.1917873 | -2.638899  | \n",
       "\n",
       "\n"
      ],
      "text/plain": [
       "                        mean.mpd.obs.z mean.mntd.obs.z\n",
       "Acrocephalus_scirpaceus -0.7247612     -2.612958      \n",
       "Aepyceros_melampus       0.7201200     -1.078168      \n",
       "Anas_platyrhynchos      -1.1917873     -2.638899      "
      ]
     },
     "metadata": {},
     "output_type": "display_data"
    }
   ],
   "source": [
    "df = inner_join(mpd_res_s, mntd_res_s, \n",
    "                c('scientific_name', 'genus', 'family', 'order', 'class')) %>%\n",
    "    dplyr::select(scientific_name, mean.mpd.obs.z, mean.mntd.obs.z) %>%\n",
    "    as.data.frame\n",
    "\n",
    "rownames(df) = df$scientific_name\n",
    "df$scientific_name = NULL\n",
    "\n",
    "df %>% dfhead"
   ]
  },
  {
   "cell_type": "code",
   "execution_count": 73,
   "metadata": {
    "ExecuteTime": {
     "end_time": "2018-09-19T12:44:23.958130Z",
     "start_time": "2018-09-19T12:44:23.846Z"
    }
   },
   "outputs": [
    {
     "name": "stderr",
     "output_type": "stream",
     "text": [
      "Warning message in if (color_scheme == \"color\") {:\n",
      "“the condition has length > 1 and only the first element will be used”"
     ]
    },
    {
     "name": "stdout",
     "output_type": "stream",
     "text": [
      "File written: /ebio/abt3_projects/Georg_animal_feces/data/assembly/relatedness//IndD_16S_mpd-mntd_obsZ_itol-htmp.txt \n"
     ]
    }
   ],
   "source": [
    "htmp_file = file.path(work_dir, 'IndD_16S_mpd-mntd_obsZ_itol-htmp.txt')\n",
    "itol_heatmap(df, 'mpd-mntd', htmp_file, dist_method=NULL)"
   ]
  },
  {
   "cell_type": "markdown",
   "metadata": {},
   "source": [
    "### Color strip of clustered/even"
   ]
  },
  {
   "cell_type": "markdown",
   "metadata": {},
   "source": [
    "#### mpd"
   ]
  },
  {
   "cell_type": "code",
   "execution_count": 74,
   "metadata": {
    "ExecuteTime": {
     "end_time": "2018-09-19T12:44:33.311609Z",
     "start_time": "2018-09-19T12:44:33.225Z"
    }
   },
   "outputs": [
    {
     "name": "stderr",
     "output_type": "stream",
     "text": [
      "Warning message:\n",
      "“Column `scientific_name` joining factors with different levels, coercing to character vector”"
     ]
    },
    {
     "name": "stdout",
     "output_type": "stream",
     "text": [
      "[1] 128   1\n"
     ]
    },
    {
     "data": {
      "text/html": [
       "<table>\n",
       "<thead><tr><th></th><th scope=col>mpd.result.sum</th></tr></thead>\n",
       "<tbody>\n",
       "\t<tr><th scope=row>Acrocephalus_scirpaceus</th><td>NA</td></tr>\n",
       "\t<tr><th scope=row>Aepyceros_melampus</th><td>NA</td></tr>\n",
       "\t<tr><th scope=row>Anas_platyrhynchos</th><td>NA</td></tr>\n",
       "</tbody>\n",
       "</table>\n"
      ],
      "text/latex": [
       "\\begin{tabular}{r|l}\n",
       "  & mpd.result.sum\\\\\n",
       "\\hline\n",
       "\tAcrocephalus\\_scirpaceus & NA\\\\\n",
       "\tAepyceros\\_melampus & NA\\\\\n",
       "\tAnas\\_platyrhynchos & NA\\\\\n",
       "\\end{tabular}\n"
      ],
      "text/markdown": [
       "\n",
       "| <!--/--> | mpd.result.sum | \n",
       "|---|---|---|\n",
       "| Acrocephalus_scirpaceus | NA | \n",
       "| Aepyceros_melampus | NA | \n",
       "| Anas_platyrhynchos | NA | \n",
       "\n",
       "\n"
      ],
      "text/plain": [
       "                        mpd.result.sum\n",
       "Acrocephalus_scirpaceus NA            \n",
       "Aepyceros_melampus      NA            \n",
       "Anas_platyrhynchos      NA            "
      ]
     },
     "metadata": {},
     "output_type": "display_data"
    }
   ],
   "source": [
    "df = inner_join(mpd_res_s, mntd_res_s, \n",
    "                c('scientific_name', 'genus', 'family', 'order', 'class')) %>%\n",
    "    dplyr::select(scientific_name, mpd.result.sum) %>%\n",
    "    mutate(mpd.result.sum = mpd.result.sum %>% as.character) %>%\n",
    "    as.data.frame\n",
    "\n",
    "rownames(df) = df$scientific_name\n",
    "df$scientific_name = NULL\n",
    "\n",
    "df %>% dfhead"
   ]
  },
  {
   "cell_type": "code",
   "execution_count": 75,
   "metadata": {
    "ExecuteTime": {
     "end_time": "2018-09-19T12:44:35.271140Z",
     "start_time": "2018-09-19T12:44:35.222Z"
    }
   },
   "outputs": [
    {
     "data": {
      "text/html": [
       "<table>\n",
       "<thead><tr><th scope=col>labels</th><th scope=col>colors</th><th scope=col>shapes</th></tr></thead>\n",
       "<tbody>\n",
       "\t<tr><td>clustered</td><td>#0000FF  </td><td>1        </td></tr>\n",
       "\t<tr><td>even     </td><td>#FF3300  </td><td>1        </td></tr>\n",
       "\t<tr><td>NA       </td><td>#A6ACAF  </td><td>1        </td></tr>\n",
       "</tbody>\n",
       "</table>\n"
      ],
      "text/latex": [
       "\\begin{tabular}{r|lll}\n",
       " labels & colors & shapes\\\\\n",
       "\\hline\n",
       "\t clustered & \\#0000FF & 1        \\\\\n",
       "\t even      & \\#FF3300 & 1        \\\\\n",
       "\t NA        & \\#A6ACAF & 1        \\\\\n",
       "\\end{tabular}\n"
      ],
      "text/markdown": [
       "\n",
       "labels | colors | shapes | \n",
       "|---|---|---|\n",
       "| clustered | #0000FF   | 1         | \n",
       "| even      | #FF3300   | 1         | \n",
       "| NA        | #A6ACAF   | 1         | \n",
       "\n",
       "\n"
      ],
      "text/plain": [
       "  labels    colors  shapes\n",
       "1 clustered #0000FF 1     \n",
       "2 even      #FF3300 1     \n",
       "3 NA        #A6ACAF 1     "
      ]
     },
     "metadata": {},
     "output_type": "display_data"
    }
   ],
   "source": [
    "# setting colors\n",
    "x = df$mpd.result.sum %>% unique %>% sort\n",
    "cols = c('#0000FF', '#FF3300', '#A6ACAF')\n",
    "legend = data.frame(labels = x,\n",
    "                    colors = cols,\n",
    "                    shapes = rep(1, length(labels)))\n",
    "legend"
   ]
  },
  {
   "cell_type": "code",
   "execution_count": 76,
   "metadata": {
    "ExecuteTime": {
     "end_time": "2018-09-19T12:44:37.449497Z",
     "start_time": "2018-09-19T12:44:37.207Z"
    }
   },
   "outputs": [
    {
     "name": "stdout",
     "output_type": "stream",
     "text": [
      "File written: /ebio/abt3_projects/Georg_animal_feces/data/assembly/relatedness//IndD_16S_mpd_ID_itol-clr.txt \n"
     ]
    }
   ],
   "source": [
    "clr_file = file.path(work_dir, 'IndD_16S_mpd_ID_itol-clr.txt')\n",
    "itol_colorstrip(df, 'mpd-ID', clr_file, legend=legend)"
   ]
  },
  {
   "cell_type": "markdown",
   "metadata": {},
   "source": [
    "#### mntd"
   ]
  },
  {
   "cell_type": "code",
   "execution_count": 77,
   "metadata": {
    "ExecuteTime": {
     "end_time": "2018-09-19T12:44:40.629049Z",
     "start_time": "2018-09-19T12:44:40.568Z"
    }
   },
   "outputs": [
    {
     "name": "stderr",
     "output_type": "stream",
     "text": [
      "Warning message:\n",
      "“Column `scientific_name` joining factors with different levels, coercing to character vector”"
     ]
    },
    {
     "name": "stdout",
     "output_type": "stream",
     "text": [
      "[1] 128   1\n"
     ]
    },
    {
     "data": {
      "text/html": [
       "<table>\n",
       "<thead><tr><th></th><th scope=col>mntd.result.sum</th></tr></thead>\n",
       "<tbody>\n",
       "\t<tr><th scope=row>Acrocephalus_scirpaceus</th><td>clustered</td></tr>\n",
       "\t<tr><th scope=row>Aepyceros_melampus</th><td>NA       </td></tr>\n",
       "\t<tr><th scope=row>Anas_platyrhynchos</th><td>clustered</td></tr>\n",
       "</tbody>\n",
       "</table>\n"
      ],
      "text/latex": [
       "\\begin{tabular}{r|l}\n",
       "  & mntd.result.sum\\\\\n",
       "\\hline\n",
       "\tAcrocephalus\\_scirpaceus & clustered\\\\\n",
       "\tAepyceros\\_melampus & NA       \\\\\n",
       "\tAnas\\_platyrhynchos & clustered\\\\\n",
       "\\end{tabular}\n"
      ],
      "text/markdown": [
       "\n",
       "| <!--/--> | mntd.result.sum | \n",
       "|---|---|---|\n",
       "| Acrocephalus_scirpaceus | clustered | \n",
       "| Aepyceros_melampus | NA        | \n",
       "| Anas_platyrhynchos | clustered | \n",
       "\n",
       "\n"
      ],
      "text/plain": [
       "                        mntd.result.sum\n",
       "Acrocephalus_scirpaceus clustered      \n",
       "Aepyceros_melampus      NA             \n",
       "Anas_platyrhynchos      clustered      "
      ]
     },
     "metadata": {},
     "output_type": "display_data"
    }
   ],
   "source": [
    "df = inner_join(mpd_res_s, mntd_res_s, \n",
    "                c('scientific_name', 'genus', 'family', 'order', 'class')) %>%\n",
    "    dplyr::select(scientific_name, mntd.result.sum) %>%\n",
    "    mutate(mntd.result.sum = mntd.result.sum %>% as.character) %>%\n",
    "    as.data.frame\n",
    "\n",
    "rownames(df) = df$scientific_name\n",
    "df$scientific_name = NULL\n",
    "\n",
    "df %>% dfhead"
   ]
  },
  {
   "cell_type": "code",
   "execution_count": 78,
   "metadata": {
    "ExecuteTime": {
     "end_time": "2018-09-19T12:44:42.065756Z",
     "start_time": "2018-09-19T12:44:42.021Z"
    }
   },
   "outputs": [
    {
     "data": {
      "text/html": [
       "<table>\n",
       "<thead><tr><th scope=col>labels</th><th scope=col>colors</th><th scope=col>shapes</th></tr></thead>\n",
       "<tbody>\n",
       "\t<tr><td>clustered</td><td>#0000FF  </td><td>1        </td></tr>\n",
       "\t<tr><td>even     </td><td>#FF3300  </td><td>1        </td></tr>\n",
       "\t<tr><td>NA       </td><td>#A6ACAF  </td><td>1        </td></tr>\n",
       "</tbody>\n",
       "</table>\n"
      ],
      "text/latex": [
       "\\begin{tabular}{r|lll}\n",
       " labels & colors & shapes\\\\\n",
       "\\hline\n",
       "\t clustered & \\#0000FF & 1        \\\\\n",
       "\t even      & \\#FF3300 & 1        \\\\\n",
       "\t NA        & \\#A6ACAF & 1        \\\\\n",
       "\\end{tabular}\n"
      ],
      "text/markdown": [
       "\n",
       "labels | colors | shapes | \n",
       "|---|---|---|\n",
       "| clustered | #0000FF   | 1         | \n",
       "| even      | #FF3300   | 1         | \n",
       "| NA        | #A6ACAF   | 1         | \n",
       "\n",
       "\n"
      ],
      "text/plain": [
       "  labels    colors  shapes\n",
       "1 clustered #0000FF 1     \n",
       "2 even      #FF3300 1     \n",
       "3 NA        #A6ACAF 1     "
      ]
     },
     "metadata": {},
     "output_type": "display_data"
    }
   ],
   "source": [
    "# setting colors\n",
    "x = df$mntd.result.sum %>% unique %>% sort\n",
    "cols = c('#0000FF', '#FF3300', '#A6ACAF')\n",
    "legend = data.frame(labels = x,\n",
    "                    colors = cols,\n",
    "                    shapes = rep(1, length(labels)))\n",
    "legend"
   ]
  },
  {
   "cell_type": "code",
   "execution_count": 79,
   "metadata": {
    "ExecuteTime": {
     "end_time": "2018-09-19T12:44:42.750644Z",
     "start_time": "2018-09-19T12:44:42.688Z"
    }
   },
   "outputs": [
    {
     "name": "stdout",
     "output_type": "stream",
     "text": [
      "File written: /ebio/abt3_projects/Georg_animal_feces/data/assembly/relatedness//IndD_16S_mntd_ID_itol-clr.txt \n"
     ]
    }
   ],
   "source": [
    "clr_file = file.path(work_dir, 'IndD_16S_mntd_ID_itol-clr.txt')\n",
    "itol_colorstrip(df, 'mntd-ID', clr_file, legend=legend)"
   ]
  },
  {
   "cell_type": "markdown",
   "metadata": {},
   "source": [
    "# sessionInfo"
   ]
  },
  {
   "cell_type": "code",
   "execution_count": 80,
   "metadata": {
    "ExecuteTime": {
     "end_time": "2018-09-19T12:44:43.465666Z",
     "start_time": "2018-09-19T12:44:43.223Z"
    }
   },
   "outputs": [
    {
     "data": {
      "text/plain": [
       "R version 3.4.1 (2017-06-30)\n",
       "Platform: x86_64-pc-linux-gnu (64-bit)\n",
       "Running under: Ubuntu 18.04.1 LTS\n",
       "\n",
       "Matrix products: default\n",
       "BLAS: /ebio/abt3_projects/software/miniconda3_gt4.4/envs/py3_physeq_phylo/lib/R/lib/libRblas.so\n",
       "LAPACK: /ebio/abt3_projects/software/miniconda3_gt4.4/envs/py3_physeq_phylo/lib/R/lib/libRlapack.so\n",
       "\n",
       "locale:\n",
       "[1] en_US.UTF-8\n",
       "\n",
       "attached base packages:\n",
       "[1] stats     graphics  grDevices utils     datasets  methods   base     \n",
       "\n",
       "other attached packages:\n",
       " [1] bindrcpp_0.2.2          future.apply_1.0.0      future.batchtools_0.7.1\n",
       " [4] future_1.9.0            picante_1.7             nlme_3.1-131           \n",
       " [7] vegan_2.4-3             lattice_0.20-34         permute_0.9-4          \n",
       "[10] phyloseq_1.22.3         ape_5.1                 ggplot2_3.0.0          \n",
       "[13] tidyr_0.8.1             dplyr_0.7.6            \n",
       "\n",
       "loaded via a namespace (and not attached):\n",
       " [1] Biobase_2.38.0      jsonlite_1.5        splines_3.4.1      \n",
       " [4] foreach_1.4.4       assertthat_0.2.0    stats4_3.4.1       \n",
       " [7] base64url_1.4       progress_1.2.0      globals_0.12.1     \n",
       "[10] pillar_1.2.2        backports_1.1.2     glue_1.3.0         \n",
       "[13] uuid_0.1-2          digest_0.6.15       XVector_0.18.0     \n",
       "[16] checkmate_1.8.5     colorspace_1.3-2    htmltools_0.3.6    \n",
       "[19] Matrix_1.2-14       plyr_1.8.4          pkgconfig_2.0.1    \n",
       "[22] listenv_0.7.0       zlibbioc_1.24.0     purrr_0.2.4        \n",
       "[25] scales_0.5.0        brew_1.0-6          tibble_1.4.2       \n",
       "[28] mgcv_1.8-24         IRanges_2.12.0      withr_2.1.1        \n",
       "[31] repr_0.15.0         BiocGenerics_0.24.0 lazyeval_0.2.1     \n",
       "[34] survival_2.42-6     magrittr_1.5        crayon_1.3.4       \n",
       "[37] evaluate_0.10.1     MASS_7.3-50         prettyunits_1.0.2  \n",
       "[40] tools_3.4.1         data.table_1.11.4   hms_0.3            \n",
       "[43] stringr_1.3.1       S4Vectors_0.16.0    munsell_0.5.0      \n",
       "[46] cluster_2.0.6       Biostrings_2.46.0   ade4_1.7-11        \n",
       "[49] compiler_3.4.1      rlang_0.2.1         rhdf5_2.22.0       \n",
       "[52] grid_3.4.1          pbdZMQ_0.3-2        iterators_1.0.10   \n",
       "[55] IRkernel_0.8.12     biomformat_1.6.0    rappdirs_0.3.1     \n",
       "[58] igraph_1.2.1        labeling_0.3        base64enc_0.1-3    \n",
       "[61] gtable_0.2.0        codetools_0.2-15    multtest_2.34.0    \n",
       "[64] reshape2_1.4.3      R6_2.2.2            bindr_0.1.1        \n",
       "[67] stringi_1.2.3       parallel_3.4.1      IRdisplay_0.4.4    \n",
       "[70] Rcpp_0.12.17        batchtools_0.9.11   tidyselect_0.2.4   "
      ]
     },
     "metadata": {},
     "output_type": "display_data"
    }
   ],
   "source": [
    "sessionInfo()"
   ]
  },
  {
   "cell_type": "code",
   "execution_count": null,
   "metadata": {},
   "outputs": [],
   "source": []
  }
 ],
 "metadata": {
  "kernelspec": {
   "display_name": "R [conda env:py3_physeq_phylo]",
   "language": "R",
   "name": "conda-env-py3_physeq_phylo-r"
  },
  "language_info": {
   "codemirror_mode": "r",
   "file_extension": ".r",
   "mimetype": "text/x-r-source",
   "name": "R",
   "pygments_lexer": "r",
   "version": "3.4.1"
  },
  "notify_time": "30",
  "toc": {
   "base_numbering": 1,
   "nav_menu": {},
   "number_sections": true,
   "sideBar": true,
   "skip_h1_title": false,
   "title_cell": "Table of Contents",
   "title_sidebar": "Contents",
   "toc_cell": true,
   "toc_position": {
    "height": "1209px",
    "left": "0px",
    "right": "1068px",
    "top": "111px",
    "width": "212px"
   },
   "toc_section_display": "block",
   "toc_window_display": true
  }
 },
 "nbformat": 4,
 "nbformat_minor": 2
}
