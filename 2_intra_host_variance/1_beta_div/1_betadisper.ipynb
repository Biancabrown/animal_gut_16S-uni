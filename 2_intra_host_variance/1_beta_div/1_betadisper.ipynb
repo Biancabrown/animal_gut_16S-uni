{
 "cells": [
  {
   "cell_type": "markdown",
   "metadata": {},
   "source": [
    "# Goal\n",
    "\n",
    "* Run `vegan::betadisper()` on beta-div distance matrices \n",
    "  * distances partitioned by taxonomic level\n",
    "    * eg., `group` = class"
   ]
  },
  {
   "cell_type": "markdown",
   "metadata": {},
   "source": [
    "# Var"
   ]
  },
  {
   "cell_type": "code",
   "execution_count": 1,
   "metadata": {
    "ExecuteTime": {
     "end_time": "2018-11-30T09:00:35.358699Z",
     "start_time": "2018-11-30T09:00:36.467Z"
    }
   },
   "outputs": [],
   "source": [
    "work_dir = '/ebio/abt3_projects/Georg_animal_feces/data/16S/intra_host_variance/beta_div/'\n",
    "\n",
    "# phyloseq of all taxa\n",
    "physeq_file = '/ebio/abt3_projects/Georg_animal_feces/data/16S/LLA/phyloseq/physeq_r5k.RDS'\n",
    "\n",
    "# distance matrices\n",
    "beta_div_file = '/ebio/abt3_projects/Georg_animal_feces/data/16S/LLA/diversity/beta_div.RDS'\n",
    "\n",
    "# misc\n",
    "threads = 4"
   ]
  },
  {
   "cell_type": "markdown",
   "metadata": {},
   "source": [
    "# Init"
   ]
  },
  {
   "cell_type": "code",
   "execution_count": 2,
   "metadata": {
    "ExecuteTime": {
     "end_time": "2018-11-30T09:00:44.863591Z",
     "start_time": "2018-11-30T09:00:36.714Z"
    }
   },
   "outputs": [
    {
     "name": "stderr",
     "output_type": "stream",
     "text": [
      "\n",
      "Attaching package: ‘dplyr’\n",
      "\n",
      "The following objects are masked from ‘package:stats’:\n",
      "\n",
      "    filter, lag\n",
      "\n",
      "The following objects are masked from ‘package:base’:\n",
      "\n",
      "    intersect, setdiff, setequal, union\n",
      "\n"
     ]
    }
   ],
   "source": [
    "library(dplyr)\n",
    "library(tidyr)\n",
    "library(ggplot2)\n",
    "library(phyloseq)\n",
    "source('/ebio/abt3_projects/Georg_animal_feces/code/init.R') "
   ]
  },
  {
   "cell_type": "markdown",
   "metadata": {},
   "source": [
    "# Load"
   ]
  },
  {
   "cell_type": "code",
   "execution_count": 4,
   "metadata": {
    "ExecuteTime": {
     "end_time": "2018-11-30T09:00:54.306281Z",
     "start_time": "2018-11-30T09:00:54.217Z"
    }
   },
   "outputs": [
    {
     "name": "stderr",
     "output_type": "stream",
     "text": [
      "Warning message in class(X) <- NULL:\n",
      "“Setting class(x) to NULL;   result will no longer be an S4 object”"
     ]
    },
    {
     "name": "stdout",
     "output_type": "stream",
     "text": [
      "[1] 213 171\n"
     ]
    },
    {
     "data": {
      "text/html": [
       "<table>\n",
       "<thead><tr><th></th><th scope=col>X.SampleID</th><th scope=col>BarcodeSequence</th><th scope=col>LinkerPrimerSequence</th><th scope=col>Primer</th><th scope=col>ReversePrimer</th><th scope=col>Barcode_ID</th><th scope=col>sample_number</th><th scope=col>host_subject_id</th><th scope=col>host_german_name</th><th scope=col>host_common_name</th><th scope=col>⋯</th><th scope=col>wellplate_position_Illumina</th><th scope=col>Cornell_Dilution_DNA_Illumina</th><th scope=col>Num_Illumina</th><th scope=col>Num</th><th scope=col>sorting_454</th><th scope=col>comments_additional</th><th scope=col>DNA_box_20180622</th><th scope=col>sample_vol_20180622</th><th scope=col>sample_label_20180622</th><th scope=col>Description</th></tr></thead>\n",
       "<tbody>\n",
       "\t<tr><th scope=row>X1.Eurasian.Beaver</th><td>X1.Eurasian.Beaver   </td><td>ACTCACGGTATG         </td><td>CATGCTGCCTCCCGTAGGAGT</td><td>GCCTCCCTCGCGCCATCAG  </td><td>AGAGTTTGATCCTGGCTCAG </td><td>338R_BC0049          </td><td>1                    </td><td>1                    </td><td>Biber                </td><td>Eurasian.Beaver      </td><td>⋯                    </td><td>B12                  </td><td>4                    </td><td>120                  </td><td>18                   </td><td>18                   </td><td>NA                   </td><td>1                    </td><td>20                   </td><td>1                    </td><td>NA                   </td></tr>\n",
       "\t<tr><th scope=row>X101.Horse</th><td>X101.Horse           </td><td>ACGACGTCTTAG         </td><td>CATGCTGCCTCCCGTAGGAGT</td><td>GCCTCCCTCGCGCCATCAG  </td><td>AGAGTTTGATCCTGGCTCAG </td><td>338R_BC0030          </td><td>101                  </td><td>101                  </td><td>Hauspferd            </td><td>Horse                </td><td>⋯                    </td><td>E8                   </td><td>16                   </td><td>344                  </td><td>160                  </td><td>160                  </td><td>NA                   </td><td>2                    </td><td>20                   </td><td>101                  </td><td>NA                   </td></tr>\n",
       "\t<tr><th scope=row>X102.Kulan</th><td>X102.Kulan           </td><td>ACGAGTGCTATC         </td><td>CATGCTGCCTCCCGTAGGAGT</td><td>GCCTCCCTCGCGCCATCAG  </td><td>AGAGTTTGATCCTGGCTCAG </td><td>338R_BC0031          </td><td>102                  </td><td>102                  </td><td>Khulan               </td><td>Kulan                </td><td>⋯                    </td><td>E9                   </td><td>16                   </td><td>345                  </td><td>161                  </td><td>161                  </td><td>NA                   </td><td>2                    </td><td>20                   </td><td>102                  </td><td>NA                   </td></tr>\n",
       "</tbody>\n",
       "</table>\n"
      ],
      "text/latex": [
       "\\begin{tabular}{r|lllllllllllllllllllllllllllllllllllllllllllllllllllllllllllllllllllllllllllllllllllllllllllllllllllllllllllllllllllllllllllllllllllllllllllllllllllllllllllllllllllllllllll}\n",
       "  & X.SampleID & BarcodeSequence & LinkerPrimerSequence & Primer & ReversePrimer & Barcode\\_ID & sample\\_number & host\\_subject\\_id & host\\_german\\_name & host\\_common\\_name & ⋯ & wellplate\\_position\\_Illumina & Cornell\\_Dilution\\_DNA\\_Illumina & Num\\_Illumina & Num & sorting\\_454 & comments\\_additional & DNA\\_box\\_20180622 & sample\\_vol\\_20180622 & sample\\_label\\_20180622 & Description\\\\\n",
       "\\hline\n",
       "\tX1.Eurasian.Beaver & X1.Eurasian.Beaver    & ACTCACGGTATG          & CATGCTGCCTCCCGTAGGAGT & GCCTCCCTCGCGCCATCAG   & AGAGTTTGATCCTGGCTCAG  & 338R\\_BC0049         & 1                     & 1                     & Biber                 & Eurasian.Beaver       & ⋯                     & B12                   & 4                     & 120                   & 18                    & 18                    & NA                    & 1                     & 20                    & 1                     & NA                   \\\\\n",
       "\tX101.Horse & X101.Horse            & ACGACGTCTTAG          & CATGCTGCCTCCCGTAGGAGT & GCCTCCCTCGCGCCATCAG   & AGAGTTTGATCCTGGCTCAG  & 338R\\_BC0030         & 101                   & 101                   & Hauspferd             & Horse                 & ⋯                     & E8                    & 16                    & 344                   & 160                   & 160                   & NA                    & 2                     & 20                    & 101                   & NA                   \\\\\n",
       "\tX102.Kulan & X102.Kulan            & ACGAGTGCTATC          & CATGCTGCCTCCCGTAGGAGT & GCCTCCCTCGCGCCATCAG   & AGAGTTTGATCCTGGCTCAG  & 338R\\_BC0031         & 102                   & 102                   & Khulan                & Kulan                 & ⋯                     & E9                    & 16                    & 345                   & 161                   & 161                   & NA                    & 2                     & 20                    & 102                   & NA                   \\\\\n",
       "\\end{tabular}\n"
      ],
      "text/markdown": [
       "\n",
       "| <!--/--> | X.SampleID | BarcodeSequence | LinkerPrimerSequence | Primer | ReversePrimer | Barcode_ID | sample_number | host_subject_id | host_german_name | host_common_name | ⋯ | wellplate_position_Illumina | Cornell_Dilution_DNA_Illumina | Num_Illumina | Num | sorting_454 | comments_additional | DNA_box_20180622 | sample_vol_20180622 | sample_label_20180622 | Description | \n",
       "|---|---|---|\n",
       "| X1.Eurasian.Beaver | X1.Eurasian.Beaver    | ACTCACGGTATG          | CATGCTGCCTCCCGTAGGAGT | GCCTCCCTCGCGCCATCAG   | AGAGTTTGATCCTGGCTCAG  | 338R_BC0049           | 1                     | 1                     | Biber                 | Eurasian.Beaver       | ⋯                     | B12                   | 4                     | 120                   | 18                    | 18                    | NA                    | 1                     | 20                    | 1                     | NA                    | \n",
       "| X101.Horse | X101.Horse            | ACGACGTCTTAG          | CATGCTGCCTCCCGTAGGAGT | GCCTCCCTCGCGCCATCAG   | AGAGTTTGATCCTGGCTCAG  | 338R_BC0030           | 101                   | 101                   | Hauspferd             | Horse                 | ⋯                     | E8                    | 16                    | 344                   | 160                   | 160                   | NA                    | 2                     | 20                    | 101                   | NA                    | \n",
       "| X102.Kulan | X102.Kulan            | ACGAGTGCTATC          | CATGCTGCCTCCCGTAGGAGT | GCCTCCCTCGCGCCATCAG   | AGAGTTTGATCCTGGCTCAG  | 338R_BC0031           | 102                   | 102                   | Khulan                | Kulan                 | ⋯                     | E9                    | 16                    | 345                   | 161                   | 161                   | NA                    | 2                     | 20                    | 102                   | NA                    | \n",
       "\n",
       "\n"
      ],
      "text/plain": [
       "                   X.SampleID         BarcodeSequence LinkerPrimerSequence \n",
       "X1.Eurasian.Beaver X1.Eurasian.Beaver ACTCACGGTATG    CATGCTGCCTCCCGTAGGAGT\n",
       "X101.Horse         X101.Horse         ACGACGTCTTAG    CATGCTGCCTCCCGTAGGAGT\n",
       "X102.Kulan         X102.Kulan         ACGAGTGCTATC    CATGCTGCCTCCCGTAGGAGT\n",
       "                   Primer              ReversePrimer        Barcode_ID \n",
       "X1.Eurasian.Beaver GCCTCCCTCGCGCCATCAG AGAGTTTGATCCTGGCTCAG 338R_BC0049\n",
       "X101.Horse         GCCTCCCTCGCGCCATCAG AGAGTTTGATCCTGGCTCAG 338R_BC0030\n",
       "X102.Kulan         GCCTCCCTCGCGCCATCAG AGAGTTTGATCCTGGCTCAG 338R_BC0031\n",
       "                   sample_number host_subject_id host_german_name\n",
       "X1.Eurasian.Beaver 1             1               Biber           \n",
       "X101.Horse         101           101             Hauspferd       \n",
       "X102.Kulan         102           102             Khulan          \n",
       "                   host_common_name ⋯ wellplate_position_Illumina\n",
       "X1.Eurasian.Beaver Eurasian.Beaver  ⋯ B12                        \n",
       "X101.Horse         Horse            ⋯ E8                         \n",
       "X102.Kulan         Kulan            ⋯ E9                         \n",
       "                   Cornell_Dilution_DNA_Illumina Num_Illumina Num sorting_454\n",
       "X1.Eurasian.Beaver 4                             120          18  18         \n",
       "X101.Horse         16                            344          160 160        \n",
       "X102.Kulan         16                            345          161 161        \n",
       "                   comments_additional DNA_box_20180622 sample_vol_20180622\n",
       "X1.Eurasian.Beaver NA                  1                20                 \n",
       "X101.Horse         NA                  2                20                 \n",
       "X102.Kulan         NA                  2                20                 \n",
       "                   sample_label_20180622 Description\n",
       "X1.Eurasian.Beaver 1                     NA         \n",
       "X101.Horse         101                   NA         \n",
       "X102.Kulan         102                   NA         "
      ]
     },
     "metadata": {},
     "output_type": "display_data"
    }
   ],
   "source": [
    "metadata = readRDS(physeq_file) %>%\n",
    "    sample_data %>%\n",
    "    as.matrix %>%\n",
    "    as.data.frame\n",
    "metadata %>% dfhead"
   ]
  },
  {
   "cell_type": "markdown",
   "metadata": {},
   "source": [
    "## Distance matrices"
   ]
  },
  {
   "cell_type": "code",
   "execution_count": 5,
   "metadata": {
    "ExecuteTime": {
     "end_time": "2018-11-30T09:00:54.402381Z",
     "start_time": "2018-11-30T09:00:55.305Z"
    }
   },
   "outputs": [
    {
     "data": {
      "text/plain": [
       "$bray_curtis\n",
       "   Min. 1st Qu.  Median    Mean 3rd Qu.    Max. \n",
       " 0.1104  0.9984  1.0000  0.9890  1.0000  1.0000 \n",
       "\n",
       "$jaccard\n",
       "   Min. 1st Qu.  Median    Mean 3rd Qu.    Max. \n",
       " 0.3886  0.9956  1.0000  0.9912  1.0000  1.0000 \n",
       "\n",
       "$unweighted_unifrac\n",
       "   Min. 1st Qu.  Median    Mean 3rd Qu.    Max. \n",
       " 0.2149  0.7783  0.8494  0.8361  0.9163  0.9881 \n",
       "\n",
       "$weighted_unifrac\n",
       "   Min. 1st Qu.  Median    Mean 3rd Qu.    Max. \n",
       "0.02332 0.46492 0.55024 0.53904 0.62490 0.94211 \n"
      ]
     },
     "metadata": {},
     "output_type": "display_data"
    }
   ],
   "source": [
    "# load beta-diversity dist. matrices\n",
    "beta_d = readRDS(beta_div_file)\n",
    "\n",
    "# status\n",
    "lapply(beta_d, function(x) x %>% as.vector %>% summary)"
   ]
  },
  {
   "cell_type": "markdown",
   "metadata": {},
   "source": [
    "# Checks"
   ]
  },
  {
   "cell_type": "code",
   "execution_count": 6,
   "metadata": {
    "ExecuteTime": {
     "end_time": "2018-11-30T09:00:54.548998Z",
     "start_time": "2018-11-30T09:00:56.065Z"
    }
   },
   "outputs": [
    {
     "name": "stdout",
     "output_type": "stream",
     "text": [
      "[1] 0\n",
      "[1] 0\n"
     ]
    }
   ],
   "source": [
    "# overlap\n",
    "setdiff(labels(beta_d$weighted_unifrac), metadata$X.SampleID) %>% length %>% print\n",
    "setdiff(metadata$X.SampleID, labels(beta_d$weighted_unifrac)) %>% length %>% print"
   ]
  },
  {
   "cell_type": "markdown",
   "metadata": {},
   "source": [
    "# betadisper"
   ]
  },
  {
   "cell_type": "markdown",
   "metadata": {},
   "source": [
    "## Functions"
   ]
  },
  {
   "cell_type": "code",
   "execution_count": 7,
   "metadata": {
    "ExecuteTime": {
     "end_time": "2018-11-30T09:00:56.526536Z",
     "start_time": "2018-11-30T09:00:58.055Z"
    }
   },
   "outputs": [],
   "source": [
    "dist_mtx_order = function(d, x){\n",
    "    # Ordering distance matrixes\n",
    "    # d = distance matrix (dist class)\n",
    "    # x = vector to order dist. obj. by\n",
    "    m = d %>% as.matrix\n",
    "    d = as.dist(m[x,x])\n",
    "    return(d)\n",
    "}"
   ]
  },
  {
   "cell_type": "code",
   "execution_count": 8,
   "metadata": {
    "ExecuteTime": {
     "end_time": "2018-11-30T09:00:56.773377Z",
     "start_time": "2018-11-30T09:00:58.301Z"
    }
   },
   "outputs": [],
   "source": [
    "beta_disp = function(d, fac, samples){\n",
    "    # checking beta dispersion\n",
    "    d = dist_mtx_order(d, samples)\n",
    "    ret = vegan::betadisper(d,fac)\n",
    "    ret = data.frame(group = ret$group,         # note: group is in wrong order; but can just match host_subj_id based on sampleID\n",
    "                     distances = ret$distances)\n",
    "    return(ret)\n",
    "}"
   ]
  },
  {
   "cell_type": "code",
   "execution_count": 9,
   "metadata": {
    "ExecuteTime": {
     "end_time": "2018-11-30T09:00:56.935393Z",
     "start_time": "2018-11-30T09:00:58.464Z"
    }
   },
   "outputs": [],
   "source": [
    "format_data = function(x){\n",
    "    # format output\n",
    "    x = do.call(rbind, x) \n",
    "    x$metric = gsub('\\\\..+', '', rownames(x))\n",
    "    x$sample_id = gsub('^.*?\\\\.', '', rownames(x))\n",
    "    return(x)\n",
    "}"
   ]
  },
  {
   "cell_type": "code",
   "execution_count": 10,
   "metadata": {
    "ExecuteTime": {
     "end_time": "2018-11-30T09:00:57.389362Z",
     "start_time": "2018-11-30T09:00:58.912Z"
    }
   },
   "outputs": [],
   "source": [
    ".beta_disp_all = function(group, d, metadata, threads=2){\n",
    "    doParallel::registerDoParallel(cores=threads)\n",
    "    ret = plyr::llply(d, beta_disp, fac=metadata[,group], \n",
    "                      samples=rownames(metadata), .parallel=TRUE)\n",
    "    ret = format_data(ret)\n",
    "    ret$grouping = group %>% as.character\n",
    "    return(ret)\n",
    "}\n",
    "\n",
    "beta_disp_all = function(list_of_dists, metadata, groups, threads=2){\n",
    "    groups = as.list(groups)\n",
    "    ret = lapply(groups, .beta_disp_all, d=list_of_dists, metadata=metadata, threads=threads)\n",
    "    ret = do.call(rbind, ret)\n",
    "    return(ret)\n",
    "}"
   ]
  },
  {
   "cell_type": "markdown",
   "metadata": {},
   "source": [
    "## Taxonomy"
   ]
  },
  {
   "cell_type": "markdown",
   "metadata": {},
   "source": [
    "### Run"
   ]
  },
  {
   "cell_type": "code",
   "execution_count": 11,
   "metadata": {
    "ExecuteTime": {
     "end_time": "2018-11-30T09:01:15.358235Z",
     "start_time": "2018-11-30T09:01:00.505Z"
    }
   },
   "outputs": [
    {
     "name": "stdout",
     "output_type": "stream",
     "text": [
      "[1] 5112    5\n"
     ]
    },
    {
     "data": {
      "text/html": [
       "<table>\n",
       "<thead><tr><th></th><th scope=col>group</th><th scope=col>distances</th><th scope=col>metric</th><th scope=col>sample_id</th><th scope=col>grouping</th></tr></thead>\n",
       "<tbody>\n",
       "\t<tr><th scope=row>bray_curtis.X1.Eurasian.Beaver</th><td>1                 </td><td>0                 </td><td>bray_curtis       </td><td>X1.Eurasian.Beaver</td><td>host_subject_id   </td></tr>\n",
       "\t<tr><th scope=row>bray_curtis.X101.Horse</th><td>101               </td><td>0                 </td><td>bray_curtis       </td><td>X101.Horse        </td><td>host_subject_id   </td></tr>\n",
       "\t<tr><th scope=row>bray_curtis.X102.Kulan</th><td>102               </td><td>0                 </td><td>bray_curtis       </td><td>X102.Kulan        </td><td>host_subject_id   </td></tr>\n",
       "</tbody>\n",
       "</table>\n"
      ],
      "text/latex": [
       "\\begin{tabular}{r|lllll}\n",
       "  & group & distances & metric & sample\\_id & grouping\\\\\n",
       "\\hline\n",
       "\tbray\\_curtis.X1.Eurasian.Beaver & 1                   & 0                   & bray\\_curtis       & X1.Eurasian.Beaver  & host\\_subject\\_id\\\\\n",
       "\tbray\\_curtis.X101.Horse & 101                 & 0                   & bray\\_curtis       & X101.Horse          & host\\_subject\\_id\\\\\n",
       "\tbray\\_curtis.X102.Kulan & 102                 & 0                   & bray\\_curtis       & X102.Kulan          & host\\_subject\\_id\\\\\n",
       "\\end{tabular}\n"
      ],
      "text/markdown": [
       "\n",
       "| <!--/--> | group | distances | metric | sample_id | grouping | \n",
       "|---|---|---|\n",
       "| bray_curtis.X1.Eurasian.Beaver | 1                  | 0                  | bray_curtis        | X1.Eurasian.Beaver | host_subject_id    | \n",
       "| bray_curtis.X101.Horse | 101                | 0                  | bray_curtis        | X101.Horse         | host_subject_id    | \n",
       "| bray_curtis.X102.Kulan | 102                | 0                  | bray_curtis        | X102.Kulan         | host_subject_id    | \n",
       "\n",
       "\n"
      ],
      "text/plain": [
       "                               group distances metric      sample_id         \n",
       "bray_curtis.X1.Eurasian.Beaver 1     0         bray_curtis X1.Eurasian.Beaver\n",
       "bray_curtis.X101.Horse         101   0         bray_curtis X101.Horse        \n",
       "bray_curtis.X102.Kulan         102   0         bray_curtis X102.Kulan        \n",
       "                               grouping       \n",
       "bray_curtis.X1.Eurasian.Beaver host_subject_id\n",
       "bray_curtis.X101.Horse         host_subject_id\n",
       "bray_curtis.X102.Kulan         host_subject_id"
      ]
     },
     "metadata": {},
     "output_type": "display_data"
    }
   ],
   "source": [
    "groups = c('host_subject_id', 'scientific_name', 'genus', 'family', 'order', 'class')\n",
    "beta_disp_ret = beta_disp_all(beta_d, metadata, groups=groups, threads=threads)\n",
    "beta_disp_ret %>% dfhead"
   ]
  },
  {
   "cell_type": "markdown",
   "metadata": {},
   "source": [
    "### Plotting"
   ]
  },
  {
   "cell_type": "code",
   "execution_count": 12,
   "metadata": {
    "ExecuteTime": {
     "end_time": "2018-11-30T09:01:15.759708Z",
     "start_time": "2018-11-30T09:01:04.984Z"
    },
    "scrolled": false
   },
   "outputs": [
    {
     "name": "stderr",
     "output_type": "stream",
     "text": [
      "Warning message:\n",
      "“Column `grouping`/`old_names` joining character vector and factor, coercing into character vector”Warning message:\n",
      "“Column `metric`/`old_names` joining character vector and factor, coercing into character vector”"
     ]
    },
    {
     "name": "stdout",
     "output_type": "stream",
     "text": [
      "[1] 3548    6\n"
     ]
    },
    {
     "data": {
      "text/html": [
       "<table>\n",
       "<thead><tr><th scope=col>group</th><th scope=col>distances</th><th scope=col>sample_id</th><th scope=col>grouping</th><th scope=col>metric</th><th scope=col>N_SAMP</th></tr></thead>\n",
       "<tbody>\n",
       "\t<tr><td>Equus_caballus</td><td>0.4020212     </td><td>X101.Horse    </td><td>Species       </td><td>Bray Curtis   </td><td>3             </td></tr>\n",
       "\t<tr><td>Equus_hemionus</td><td>0.6605829     </td><td>X102.Kulan    </td><td>Species       </td><td>Bray Curtis   </td><td>4             </td></tr>\n",
       "\t<tr><td>Vulpes_vulpes </td><td>0.5000000     </td><td>X109.Red.Fox  </td><td>Species       </td><td>Bray Curtis   </td><td>2             </td></tr>\n",
       "</tbody>\n",
       "</table>\n"
      ],
      "text/latex": [
       "\\begin{tabular}{r|llllll}\n",
       " group & distances & sample\\_id & grouping & metric & N\\_SAMP\\\\\n",
       "\\hline\n",
       "\t Equus\\_caballus & 0.4020212        & X101.Horse       & Species          & Bray Curtis      & 3               \\\\\n",
       "\t Equus\\_hemionus & 0.6605829        & X102.Kulan       & Species          & Bray Curtis      & 4               \\\\\n",
       "\t Vulpes\\_vulpes  & 0.5000000        & X109.Red.Fox     & Species          & Bray Curtis      & 2               \\\\\n",
       "\\end{tabular}\n"
      ],
      "text/markdown": [
       "\n",
       "group | distances | sample_id | grouping | metric | N_SAMP | \n",
       "|---|---|---|\n",
       "| Equus_caballus | 0.4020212      | X101.Horse     | Species        | Bray Curtis    | 3              | \n",
       "| Equus_hemionus | 0.6605829      | X102.Kulan     | Species        | Bray Curtis    | 4              | \n",
       "| Vulpes_vulpes  | 0.5000000      | X109.Red.Fox   | Species        | Bray Curtis    | 2              | \n",
       "\n",
       "\n"
      ],
      "text/plain": [
       "  group          distances sample_id    grouping metric      N_SAMP\n",
       "1 Equus_caballus 0.4020212 X101.Horse   Species  Bray Curtis 3     \n",
       "2 Equus_hemionus 0.6605829 X102.Kulan   Species  Bray Curtis 4     \n",
       "3 Vulpes_vulpes  0.5000000 X109.Red.Fox Species  Bray Curtis 2     "
      ]
     },
     "metadata": {},
     "output_type": "display_data"
    }
   ],
   "source": [
    "# formatting\n",
    "## renaming grouping\n",
    "old_names = c('host_subject_id', 'scientific_name','genus', 'family', 'order', 'class')\n",
    "new_names = c('Individual', 'Species','Genus', 'Family', 'Order', 'Class')\n",
    "df = data.frame(old_names, new_names)\n",
    "beta_disp_ret_j = beta_disp_ret %>%\n",
    "    inner_join(df, c('grouping'='old_names')) %>%\n",
    "    dplyr::select(-grouping) %>%\n",
    "    rename('grouping' = new_names)\n",
    "beta_disp_ret_j$grouping = factor(beta_disp_ret_j$grouping, levels=new_names)\n",
    "## Distance metrics\n",
    "old_names = c('jaccard', 'bray_curtis', 'unweighted_unifrac', 'weighted_unifrac')\n",
    "new_names = c('Jaccard', 'Bray Curtis', 'Unweighted\\nUnifrac', 'Weighted\\nUnifrac')\n",
    "df = data.frame(old_names, new_names)\n",
    "beta_disp_ret_j = beta_disp_ret_j %>%\n",
    "    inner_join(df, c('metric'='old_names')) %>%\n",
    "    dplyr::select(-metric) %>%\n",
    "    rename('metric' = new_names)\n",
    "## filtering out any with just one in group\n",
    "beta_disp_ret_j = beta_disp_ret_j %>%\n",
    "    group_by(group, metric, grouping) %>%\n",
    "    mutate(N_SAMP = n()) %>%\n",
    "    ungroup() %>%\n",
    "    filter(N_SAMP > 1) %>%\n",
    "    mutate(metric = factor(metric, levels=new_names))\n",
    "\n",
    "# status\n",
    "beta_disp_ret_j %>% dfhead"
   ]
  },
  {
   "cell_type": "code",
   "execution_count": 13,
   "metadata": {
    "ExecuteTime": {
     "end_time": "2018-11-30T09:01:21.999148Z",
     "start_time": "2018-11-30T09:01:06.905Z"
    }
   },
   "outputs": [
    {
     "name": "stdout",
     "output_type": "stream",
     "text": [
      "File written: /ebio/abt3_projects/Georg_animal_feces/notebooks/16S/2_intra_host_variance/2_beta_div/.figures/betadisper_diet_all-dist_tax-lev.pdf \n"
     ]
    },
    {
     "data": {
      "image/png": "[encoded data removed]",
      "text/plain": [
       "plot without title"
      ]
     },
     "metadata": {},
     "output_type": "display_data"
    }
   ],
   "source": [
    "# plotting\n",
    "p = ggplot(beta_disp_ret_j, aes(grouping, distances)) +\n",
    "    geom_boxplot() +\n",
    "    labs(x='Taxonomic level', y='Beta dispersion') +\n",
    "    facet_grid(metric ~ .) +\n",
    "    theme_bw() +\n",
    "    theme(\n",
    "        axis.text.x = element_text(angle=45, hjust=1)\n",
    "    )\n",
    "\n",
    "options(repr.plot.width=4, repr.plot.height=4)\n",
    "plot_write(p, file='betadisper_diet_all-dist_tax-lev.pdf')"
   ]
  },
  {
   "cell_type": "markdown",
   "metadata": {},
   "source": [
    "## Diet"
   ]
  },
  {
   "cell_type": "code",
   "execution_count": 14,
   "metadata": {
    "ExecuteTime": {
     "end_time": "2018-11-30T09:01:24.802279Z",
     "start_time": "2018-11-30T09:01:11.072Z"
    }
   },
   "outputs": [
    {
     "name": "stdout",
     "output_type": "stream",
     "text": [
      "[1] 2260    5\n"
     ]
    },
    {
     "data": {
      "text/html": [
       "<table>\n",
       "<thead><tr><th></th><th scope=col>group</th><th scope=col>distances</th><th scope=col>metric</th><th scope=col>sample_id</th><th scope=col>grouping</th></tr></thead>\n",
       "<tbody>\n",
       "\t<tr><th scope=row>bray_curtis.X1.Eurasian.Beaver</th><td>herbivore         </td><td>0.7220295         </td><td>bray_curtis       </td><td>X1.Eurasian.Beaver</td><td>diet              </td></tr>\n",
       "\t<tr><th scope=row>bray_curtis.X101.Horse</th><td>herbivore         </td><td>0.7029417         </td><td>bray_curtis       </td><td>X101.Horse        </td><td>diet              </td></tr>\n",
       "\t<tr><th scope=row>bray_curtis.X102.Kulan</th><td>herbivore         </td><td>0.6772546         </td><td>bray_curtis       </td><td>X102.Kulan        </td><td>diet              </td></tr>\n",
       "</tbody>\n",
       "</table>\n"
      ],
      "text/latex": [
       "\\begin{tabular}{r|lllll}\n",
       "  & group & distances & metric & sample\\_id & grouping\\\\\n",
       "\\hline\n",
       "\tbray\\_curtis.X1.Eurasian.Beaver & herbivore          & 0.7220295          & bray\\_curtis      & X1.Eurasian.Beaver & diet              \\\\\n",
       "\tbray\\_curtis.X101.Horse & herbivore          & 0.7029417          & bray\\_curtis      & X101.Horse         & diet              \\\\\n",
       "\tbray\\_curtis.X102.Kulan & herbivore          & 0.6772546          & bray\\_curtis      & X102.Kulan         & diet              \\\\\n",
       "\\end{tabular}\n"
      ],
      "text/markdown": [
       "\n",
       "| <!--/--> | group | distances | metric | sample_id | grouping | \n",
       "|---|---|---|\n",
       "| bray_curtis.X1.Eurasian.Beaver | herbivore          | 0.7220295          | bray_curtis        | X1.Eurasian.Beaver | diet               | \n",
       "| bray_curtis.X101.Horse | herbivore          | 0.7029417          | bray_curtis        | X101.Horse         | diet               | \n",
       "| bray_curtis.X102.Kulan | herbivore          | 0.6772546          | bray_curtis        | X102.Kulan         | diet               | \n",
       "\n",
       "\n"
      ],
      "text/plain": [
       "                               group     distances metric     \n",
       "bray_curtis.X1.Eurasian.Beaver herbivore 0.7220295 bray_curtis\n",
       "bray_curtis.X101.Horse         herbivore 0.7029417 bray_curtis\n",
       "bray_curtis.X102.Kulan         herbivore 0.6772546 bray_curtis\n",
       "                               sample_id          grouping\n",
       "bray_curtis.X1.Eurasian.Beaver X1.Eurasian.Beaver diet    \n",
       "bray_curtis.X101.Horse         X101.Horse         diet    \n",
       "bray_curtis.X102.Kulan         X102.Kulan         diet    "
      ]
     },
     "metadata": {},
     "output_type": "display_data"
    }
   ],
   "source": [
    "groups = c('diet', 'diet_detail', 'digestive_system', 'digestive_system_detail')\n",
    "beta_disp_ret = beta_disp_all(beta_d, metadata, groups=groups, threads=threads)\n",
    "beta_disp_ret %>% dfhead"
   ]
  },
  {
   "cell_type": "code",
   "execution_count": 15,
   "metadata": {
    "ExecuteTime": {
     "end_time": "2018-11-30T09:01:25.004968Z",
     "start_time": "2018-11-30T09:01:14.402Z"
    }
   },
   "outputs": [
    {
     "name": "stderr",
     "output_type": "stream",
     "text": [
      "Warning message:\n",
      "“Column `grouping`/`old_names` joining character vector and factor, coercing into character vector”Warning message:\n",
      "“Column `metric`/`old_names` joining character vector and factor, coercing into character vector”"
     ]
    },
    {
     "name": "stdout",
     "output_type": "stream",
     "text": [
      "[1] 2240    6\n"
     ]
    },
    {
     "data": {
      "text/html": [
       "<table>\n",
       "<thead><tr><th scope=col>group</th><th scope=col>distances</th><th scope=col>sample_id</th><th scope=col>grouping</th><th scope=col>metric</th><th scope=col>N_SAMP</th></tr></thead>\n",
       "<tbody>\n",
       "\t<tr><td>herbivore         </td><td>0.7220295         </td><td>X1.Eurasian.Beaver</td><td>Diet              </td><td>Bray Curtis       </td><td>87                </td></tr>\n",
       "\t<tr><td>herbivore         </td><td>0.7029417         </td><td>X101.Horse        </td><td>Diet              </td><td>Bray Curtis       </td><td>87                </td></tr>\n",
       "\t<tr><td>herbivore         </td><td>0.6772546         </td><td>X102.Kulan        </td><td>Diet              </td><td>Bray Curtis       </td><td>87                </td></tr>\n",
       "</tbody>\n",
       "</table>\n"
      ],
      "text/latex": [
       "\\begin{tabular}{r|llllll}\n",
       " group & distances & sample\\_id & grouping & metric & N\\_SAMP\\\\\n",
       "\\hline\n",
       "\t herbivore          & 0.7220295          & X1.Eurasian.Beaver & Diet               & Bray Curtis        & 87                \\\\\n",
       "\t herbivore          & 0.7029417          & X101.Horse         & Diet               & Bray Curtis        & 87                \\\\\n",
       "\t herbivore          & 0.6772546          & X102.Kulan         & Diet               & Bray Curtis        & 87                \\\\\n",
       "\\end{tabular}\n"
      ],
      "text/markdown": [
       "\n",
       "group | distances | sample_id | grouping | metric | N_SAMP | \n",
       "|---|---|---|\n",
       "| herbivore          | 0.7220295          | X1.Eurasian.Beaver | Diet               | Bray Curtis        | 87                 | \n",
       "| herbivore          | 0.7029417          | X101.Horse         | Diet               | Bray Curtis        | 87                 | \n",
       "| herbivore          | 0.6772546          | X102.Kulan         | Diet               | Bray Curtis        | 87                 | \n",
       "\n",
       "\n"
      ],
      "text/plain": [
       "  group     distances sample_id          grouping metric      N_SAMP\n",
       "1 herbivore 0.7220295 X1.Eurasian.Beaver Diet     Bray Curtis 87    \n",
       "2 herbivore 0.7029417 X101.Horse         Diet     Bray Curtis 87    \n",
       "3 herbivore 0.6772546 X102.Kulan         Diet     Bray Curtis 87    "
      ]
     },
     "metadata": {},
     "output_type": "display_data"
    }
   ],
   "source": [
    "# formatting\n",
    "## renaming grouping\n",
    "old_names = c('diet', 'diet_detail', 'digestive_system', 'digestive_system_detail')\n",
    "new_names = c('Diet', 'Diet Detail', 'Digestive System', 'Digestive System Detail')\n",
    "df = data.frame(old_names, new_names)\n",
    "beta_disp_ret_j = beta_disp_ret %>%\n",
    "    inner_join(df, c('grouping'='old_names')) %>%\n",
    "    dplyr::select(-grouping) %>%\n",
    "    rename('grouping' = new_names)\n",
    "beta_disp_ret_j$grouping = factor(beta_disp_ret_j$grouping, levels=new_names)\n",
    "## Distance metrics\n",
    "old_names = c('jaccard', 'bray_curtis', 'unweighted_unifrac', 'weighted_unifrac')\n",
    "new_names = c('Jaccard', 'Bray Curtis', 'Unweighted\\nUnifrac', 'Weighted\\nUnifrac')\n",
    "df = data.frame(old_names, new_names)\n",
    "beta_disp_ret_j = beta_disp_ret_j %>%\n",
    "    inner_join(df, c('metric'='old_names')) %>%\n",
    "    dplyr::select(-metric) %>%\n",
    "    rename('metric' = new_names)\n",
    "## filtering out any with just one in group\n",
    "beta_disp_ret_j = beta_disp_ret_j %>%\n",
    "    group_by(group, metric, grouping) %>%\n",
    "    mutate(N_SAMP = n()) %>%\n",
    "    ungroup() %>%\n",
    "    filter(N_SAMP > 1) %>%\n",
    "    mutate(metric = factor(metric, levels=new_names))\n",
    "\n",
    "# status\n",
    "beta_disp_ret_j %>% dfhead"
   ]
  },
  {
   "cell_type": "code",
   "execution_count": 16,
   "metadata": {
    "ExecuteTime": {
     "end_time": "2018-11-30T09:01:27.797346Z",
     "start_time": "2018-11-30T09:01:16.561Z"
    }
   },
   "outputs": [
    {
     "name": "stdout",
     "output_type": "stream",
     "text": [
      "File written: /ebio/abt3_projects/Georg_animal_feces/notebooks/16S/2_intra_host_variance/2_beta_div/.figures/betadisper_diet_all-dist_diet.pdf \n"
     ]
    },
    {
     "data": {
      "image/png": "[encoded data removed]",
      "text/plain": [
       "plot without title"
      ]
     },
     "metadata": {},
     "output_type": "display_data"
    }
   ],
   "source": [
    "# plotting\n",
    "p = ggplot(beta_disp_ret_j, aes(grouping, distances)) +\n",
    "    geom_boxplot() +\n",
    "    labs(x='', y='Beta dispersion') +\n",
    "    facet_grid(metric ~ .) +\n",
    "    theme_bw() +\n",
    "    theme(\n",
    "        axis.text.x = element_text(angle=45, hjust=1)\n",
    "    )\n",
    "\n",
    "options(repr.plot.width=4, repr.plot.height=5)\n",
    "plot_write(p, file='betadisper_diet_all-dist_diet.pdf')"
   ]
  },
  {
   "cell_type": "markdown",
   "metadata": {},
   "source": [
    "# SessionInfo"
   ]
  },
  {
   "cell_type": "code",
   "execution_count": 17,
   "metadata": {
    "ExecuteTime": {
     "end_time": "2018-11-30T09:01:27.963712Z",
     "start_time": "2018-11-30T09:01:18.185Z"
    }
   },
   "outputs": [
    {
     "data": {
      "text/plain": [
       "R version 3.4.1 (2017-06-30)\n",
       "Platform: x86_64-pc-linux-gnu (64-bit)\n",
       "Running under: Ubuntu 18.04.1 LTS\n",
       "\n",
       "Matrix products: default\n",
       "BLAS: /ebio/abt3_projects/software/miniconda3_gt4.4/envs/py3_physeq/lib/R/lib/libRblas.so\n",
       "LAPACK: /ebio/abt3_projects/software/miniconda3_gt4.4/envs/py3_physeq/lib/R/lib/libRlapack.so\n",
       "\n",
       "locale:\n",
       "[1] en_US.UTF-8\n",
       "\n",
       "attached base packages:\n",
       "[1] stats     graphics  grDevices utils     datasets  methods   base     \n",
       "\n",
       "other attached packages:\n",
       "[1] bindrcpp_0.2.2  phyloseq_1.22.3 ggplot2_3.0.0   tidyr_0.8.1    \n",
       "[5] dplyr_0.7.6    \n",
       "\n",
       "loaded via a namespace (and not attached):\n",
       " [1] Rcpp_0.12.17        ape_5.1             lattice_0.20-34    \n",
       " [4] Biostrings_2.46.0   assertthat_0.2.0    digest_0.6.15      \n",
       " [7] foreach_1.4.4       IRdisplay_0.4.4     R6_2.2.2           \n",
       "[10] plyr_1.8.4          repr_0.15.0         stats4_3.4.1       \n",
       "[13] evaluate_0.10.1     pillar_1.2.2        zlibbioc_1.24.0    \n",
       "[16] rlang_0.2.1         lazyeval_0.2.1      uuid_0.1-2         \n",
       "[19] data.table_1.11.4   vegan_2.4-3         S4Vectors_0.16.0   \n",
       "[22] Matrix_1.2-14       labeling_0.3        splines_3.4.1      \n",
       "[25] stringr_1.3.1       igraph_1.2.1        munsell_0.5.0      \n",
       "[28] compiler_3.4.1      pkgconfig_2.0.1     BiocGenerics_0.24.0\n",
       "[31] base64enc_0.1-3     multtest_2.34.0     mgcv_1.8-24        \n",
       "[34] htmltools_0.3.6     biomformat_1.6.0    tidyselect_0.2.4   \n",
       "[37] tibble_1.4.2        IRanges_2.12.0      codetools_0.2-15   \n",
       "[40] permute_0.9-4       crayon_1.3.4        withr_2.1.1        \n",
       "[43] MASS_7.3-50         grid_3.4.1          nlme_3.1-131       \n",
       "[46] jsonlite_1.5        gtable_0.2.0        magrittr_1.5       \n",
       "[49] scales_0.5.0        stringi_1.2.3       XVector_0.18.0     \n",
       "[52] reshape2_1.4.3      doParallel_1.0.11   IRkernel_0.8.12    \n",
       "[55] iterators_1.0.10    tools_3.4.1         ade4_1.7-11        \n",
       "[58] Biobase_2.38.0      glue_1.3.0          purrr_0.2.4        \n",
       "[61] parallel_3.4.1      survival_2.42-6     colorspace_1.3-2   \n",
       "[64] rhdf5_2.22.0        cluster_2.0.6       pbdZMQ_0.3-2       \n",
       "[67] bindr_0.1.1        "
      ]
     },
     "metadata": {},
     "output_type": "display_data"
    }
   ],
   "source": [
    "sessionInfo()"
   ]
  },
  {
   "cell_type": "code",
   "execution_count": null,
   "metadata": {},
   "outputs": [],
   "source": []
  }
 ],
 "metadata": {
  "kernelspec": {
   "display_name": "R [conda env:py3_physeq]",
   "language": "R",
   "name": "conda-env-py3_physeq-r"
  },
  "language_info": {
   "codemirror_mode": "r",
   "file_extension": ".r",
   "mimetype": "text/x-r-source",
   "name": "R",
   "pygments_lexer": "r",
   "version": "3.4.1"
  },
  "notify_time": "30",
  "toc": {
   "base_numbering": 1,
   "nav_menu": {},
   "number_sections": true,
   "sideBar": true,
   "skip_h1_title": false,
   "title_cell": "Table of Contents",
   "title_sidebar": "Contents",
   "toc_cell": false,
   "toc_position": {},
   "toc_section_display": "block",
   "toc_window_display": true
  }
 },
 "nbformat": 4,
 "nbformat_minor": 2
}
