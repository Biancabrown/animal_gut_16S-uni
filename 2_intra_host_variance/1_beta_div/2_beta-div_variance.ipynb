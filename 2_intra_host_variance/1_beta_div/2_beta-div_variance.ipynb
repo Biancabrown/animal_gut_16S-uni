{
 "cells": [
  {
   "cell_type": "markdown",
   "metadata": {},
   "source": [
    "# Goal\n",
    "\n",
    "* Getting beta-diversity median +/- variance for each host clade"
   ]
  },
  {
   "cell_type": "markdown",
   "metadata": {},
   "source": [
    "# Var"
   ]
  },
  {
   "cell_type": "code",
   "execution_count": 1,
   "metadata": {
    "ExecuteTime": {
     "end_time": "2018-07-07T06:46:51.310648Z",
     "start_time": "2018-07-07T06:46:50.595Z"
    }
   },
   "outputs": [],
   "source": [
    "work_dir = '/ebio/abt3_projects/Georg_animal_feces/data/16S/intra_host_variance/beta_div/'\n",
    "\n",
    "# phyloseq of all taxa\n",
    "physeq_file = '/ebio/abt3_projects/Georg_animal_feces/data/16S/LLA/phyloseq/physeq_r5k.RDS'\n",
    "\n",
    "# distance matrices\n",
    "beta_div_file = '/ebio/abt3_projects/Georg_animal_feces/data/16S/LLA/diversity/beta_div.RDS'\n",
    "\n",
    "# misc\n",
    "threads = 4"
   ]
  },
  {
   "cell_type": "markdown",
   "metadata": {},
   "source": [
    "# Init"
   ]
  },
  {
   "cell_type": "code",
   "execution_count": 2,
   "metadata": {
    "ExecuteTime": {
     "end_time": "2018-07-07T06:47:04.961395Z",
     "start_time": "2018-07-07T06:46:50.598Z"
    }
   },
   "outputs": [
    {
     "name": "stderr",
     "output_type": "stream",
     "text": [
      "\n",
      "Attaching package: ‘dplyr’\n",
      "\n",
      "The following objects are masked from ‘package:stats’:\n",
      "\n",
      "    filter, lag\n",
      "\n",
      "The following objects are masked from ‘package:base’:\n",
      "\n",
      "    intersect, setdiff, setequal, union\n",
      "\n"
     ]
    }
   ],
   "source": [
    "library(dplyr)\n",
    "library(tidyr)\n",
    "library(ggplot2)\n",
    "library(phyloseq)\n",
    "source('/ebio/abt3_projects/Georg_animal_feces/code/init.R') "
   ]
  },
  {
   "cell_type": "markdown",
   "metadata": {},
   "source": [
    "# Load"
   ]
  },
  {
   "cell_type": "markdown",
   "metadata": {},
   "source": [
    "## Metadata"
   ]
  },
  {
   "cell_type": "code",
   "execution_count": 3,
   "metadata": {
    "ExecuteTime": {
     "end_time": "2018-07-07T06:47:07.211477Z",
     "start_time": "2018-07-07T06:46:50.606Z"
    }
   },
   "outputs": [
    {
     "name": "stderr",
     "output_type": "stream",
     "text": [
      "Warning message in class(X) <- NULL:\n",
      "“Setting class(x) to NULL;   result will no longer be an S4 object”"
     ]
    },
    {
     "name": "stdout",
     "output_type": "stream",
     "text": [
      "[1] 213 172\n"
     ]
    },
    {
     "data": {
      "text/html": [
       "<table>\n",
       "<thead><tr><th scope=col>X.SampleID</th><th scope=col>BarcodeSequence</th><th scope=col>LinkerPrimerSequence</th><th scope=col>Primer</th><th scope=col>ReversePrimer</th><th scope=col>Barcode_ID</th><th scope=col>sample_number</th><th scope=col>host_subject_id</th><th scope=col>host_german_name</th><th scope=col>host_common_name</th><th scope=col>⋯</th><th scope=col>Cornell_Dilution_DNA_Illumina</th><th scope=col>Num_Illumina</th><th scope=col>Num</th><th scope=col>sorting_454</th><th scope=col>comments_additional</th><th scope=col>DNA_box_20180622</th><th scope=col>sample_vol_20180622</th><th scope=col>sample_label_20180622</th><th scope=col>Description</th><th scope=col>SampleID</th></tr></thead>\n",
       "<tbody>\n",
       "\t<tr><td>X1.Eurasian.Beaver   </td><td>ACTCACGGTATG         </td><td>CATGCTGCCTCCCGTAGGAGT</td><td>GCCTCCCTCGCGCCATCAG  </td><td>AGAGTTTGATCCTGGCTCAG </td><td>338R_BC0049          </td><td>1                    </td><td>1                    </td><td>Biber                </td><td>Eurasian.Beaver      </td><td>⋯                    </td><td>4                    </td><td>120                  </td><td>18                   </td><td>18                   </td><td>NA                   </td><td>1                    </td><td>20                   </td><td>1                    </td><td>NA                   </td><td>X1.Eurasian.Beaver   </td></tr>\n",
       "\t<tr><td>X101.Horse           </td><td>ACGACGTCTTAG         </td><td>CATGCTGCCTCCCGTAGGAGT</td><td>GCCTCCCTCGCGCCATCAG  </td><td>AGAGTTTGATCCTGGCTCAG </td><td>338R_BC0030          </td><td>101                  </td><td>101                  </td><td>Hauspferd            </td><td>Horse                </td><td>⋯                    </td><td>16                   </td><td>344                  </td><td>160                  </td><td>160                  </td><td>NA                   </td><td>2                    </td><td>20                   </td><td>101                  </td><td>NA                   </td><td>X101.Horse           </td></tr>\n",
       "\t<tr><td>X102.Kulan           </td><td>ACGAGTGCTATC         </td><td>CATGCTGCCTCCCGTAGGAGT</td><td>GCCTCCCTCGCGCCATCAG  </td><td>AGAGTTTGATCCTGGCTCAG </td><td>338R_BC0031          </td><td>102                  </td><td>102                  </td><td>Khulan               </td><td>Kulan                </td><td>⋯                    </td><td>16                   </td><td>345                  </td><td>161                  </td><td>161                  </td><td>NA                   </td><td>2                    </td><td>20                   </td><td>102                  </td><td>NA                   </td><td>X102.Kulan           </td></tr>\n",
       "</tbody>\n",
       "</table>\n"
      ],
      "text/latex": [
       "\\begin{tabular}{r|llllllllllllllllllllllllllllllllllllllllllllllllllllllllllllllllllllllllllllllllllllllllllllllllllllllllllllllllllllllllllllllllllllllllllllllllllllllllllllllllllllllllllll}\n",
       " X.SampleID & BarcodeSequence & LinkerPrimerSequence & Primer & ReversePrimer & Barcode\\_ID & sample\\_number & host\\_subject\\_id & host\\_german\\_name & host\\_common\\_name & ⋯ & Cornell\\_Dilution\\_DNA\\_Illumina & Num\\_Illumina & Num & sorting\\_454 & comments\\_additional & DNA\\_box\\_20180622 & sample\\_vol\\_20180622 & sample\\_label\\_20180622 & Description & SampleID\\\\\n",
       "\\hline\n",
       "\t X1.Eurasian.Beaver    & ACTCACGGTATG          & CATGCTGCCTCCCGTAGGAGT & GCCTCCCTCGCGCCATCAG   & AGAGTTTGATCCTGGCTCAG  & 338R\\_BC0049         & 1                     & 1                     & Biber                 & Eurasian.Beaver       & ⋯                     & 4                     & 120                   & 18                    & 18                    & NA                    & 1                     & 20                    & 1                     & NA                    & X1.Eurasian.Beaver   \\\\\n",
       "\t X101.Horse            & ACGACGTCTTAG          & CATGCTGCCTCCCGTAGGAGT & GCCTCCCTCGCGCCATCAG   & AGAGTTTGATCCTGGCTCAG  & 338R\\_BC0030         & 101                   & 101                   & Hauspferd             & Horse                 & ⋯                     & 16                    & 344                   & 160                   & 160                   & NA                    & 2                     & 20                    & 101                   & NA                    & X101.Horse           \\\\\n",
       "\t X102.Kulan            & ACGAGTGCTATC          & CATGCTGCCTCCCGTAGGAGT & GCCTCCCTCGCGCCATCAG   & AGAGTTTGATCCTGGCTCAG  & 338R\\_BC0031         & 102                   & 102                   & Khulan                & Kulan                 & ⋯                     & 16                    & 345                   & 161                   & 161                   & NA                    & 2                     & 20                    & 102                   & NA                    & X102.Kulan           \\\\\n",
       "\\end{tabular}\n"
      ],
      "text/markdown": [
       "\n",
       "X.SampleID | BarcodeSequence | LinkerPrimerSequence | Primer | ReversePrimer | Barcode_ID | sample_number | host_subject_id | host_german_name | host_common_name | ⋯ | Cornell_Dilution_DNA_Illumina | Num_Illumina | Num | sorting_454 | comments_additional | DNA_box_20180622 | sample_vol_20180622 | sample_label_20180622 | Description | SampleID | \n",
       "|---|---|---|\n",
       "| X1.Eurasian.Beaver    | ACTCACGGTATG          | CATGCTGCCTCCCGTAGGAGT | GCCTCCCTCGCGCCATCAG   | AGAGTTTGATCCTGGCTCAG  | 338R_BC0049           | 1                     | 1                     | Biber                 | Eurasian.Beaver       | ⋯                     | 4                     | 120                   | 18                    | 18                    | NA                    | 1                     | 20                    | 1                     | NA                    | X1.Eurasian.Beaver    | \n",
       "| X101.Horse            | ACGACGTCTTAG          | CATGCTGCCTCCCGTAGGAGT | GCCTCCCTCGCGCCATCAG   | AGAGTTTGATCCTGGCTCAG  | 338R_BC0030           | 101                   | 101                   | Hauspferd             | Horse                 | ⋯                     | 16                    | 344                   | 160                   | 160                   | NA                    | 2                     | 20                    | 101                   | NA                    | X101.Horse            | \n",
       "| X102.Kulan            | ACGAGTGCTATC          | CATGCTGCCTCCCGTAGGAGT | GCCTCCCTCGCGCCATCAG   | AGAGTTTGATCCTGGCTCAG  | 338R_BC0031           | 102                   | 102                   | Khulan                | Kulan                 | ⋯                     | 16                    | 345                   | 161                   | 161                   | NA                    | 2                     | 20                    | 102                   | NA                    | X102.Kulan            | \n",
       "\n",
       "\n"
      ],
      "text/plain": [
       "  X.SampleID         BarcodeSequence LinkerPrimerSequence  Primer             \n",
       "1 X1.Eurasian.Beaver ACTCACGGTATG    CATGCTGCCTCCCGTAGGAGT GCCTCCCTCGCGCCATCAG\n",
       "2 X101.Horse         ACGACGTCTTAG    CATGCTGCCTCCCGTAGGAGT GCCTCCCTCGCGCCATCAG\n",
       "3 X102.Kulan         ACGAGTGCTATC    CATGCTGCCTCCCGTAGGAGT GCCTCCCTCGCGCCATCAG\n",
       "  ReversePrimer        Barcode_ID  sample_number host_subject_id\n",
       "1 AGAGTTTGATCCTGGCTCAG 338R_BC0049 1             1              \n",
       "2 AGAGTTTGATCCTGGCTCAG 338R_BC0030 101           101            \n",
       "3 AGAGTTTGATCCTGGCTCAG 338R_BC0031 102           102            \n",
       "  host_german_name host_common_name ⋯ Cornell_Dilution_DNA_Illumina\n",
       "1 Biber            Eurasian.Beaver  ⋯ 4                            \n",
       "2 Hauspferd        Horse            ⋯ 16                           \n",
       "3 Khulan           Kulan            ⋯ 16                           \n",
       "  Num_Illumina Num sorting_454 comments_additional DNA_box_20180622\n",
       "1 120          18  18          NA                  1               \n",
       "2 344          160 160         NA                  2               \n",
       "3 345          161 161         NA                  2               \n",
       "  sample_vol_20180622 sample_label_20180622 Description SampleID          \n",
       "1 20                  1                     NA          X1.Eurasian.Beaver\n",
       "2 20                  101                   NA          X101.Horse        \n",
       "3 20                  102                   NA          X102.Kulan        "
      ]
     },
     "metadata": {},
     "output_type": "display_data"
    }
   ],
   "source": [
    "metadata = readRDS(physeq_file) %>%\n",
    "    sample_data %>%\n",
    "    as.matrix %>%\n",
    "    as.data.frame %>%\n",
    "    mutate(SampleID = rownames(.))\n",
    "metadata %>% status"
   ]
  },
  {
   "cell_type": "markdown",
   "metadata": {},
   "source": [
    "## Distance matrices"
   ]
  },
  {
   "cell_type": "code",
   "execution_count": 4,
   "metadata": {
    "ExecuteTime": {
     "end_time": "2018-07-07T06:47:07.350337Z",
     "start_time": "2018-07-07T06:46:50.624Z"
    }
   },
   "outputs": [
    {
     "data": {
      "text/plain": [
       "$bray_curtis\n",
       "   Min. 1st Qu.  Median    Mean 3rd Qu.    Max. \n",
       " 0.1104  0.9984  1.0000  0.9890  1.0000  1.0000 \n",
       "\n",
       "$jaccard\n",
       "   Min. 1st Qu.  Median    Mean 3rd Qu.    Max. \n",
       " 0.3886  0.9956  1.0000  0.9912  1.0000  1.0000 \n",
       "\n",
       "$unweighted_unifrac\n",
       "   Min. 1st Qu.  Median    Mean 3rd Qu.    Max. \n",
       " 0.2149  0.7783  0.8494  0.8361  0.9163  0.9881 \n",
       "\n",
       "$weighted_unifrac\n",
       "   Min. 1st Qu.  Median    Mean 3rd Qu.    Max. \n",
       "0.02332 0.46492 0.55024 0.53904 0.62490 0.94211 \n"
      ]
     },
     "metadata": {},
     "output_type": "display_data"
    }
   ],
   "source": [
    "# load beta-diversity dist. matrices\n",
    "beta_d = readRDS(beta_div_file)\n",
    "\n",
    "# status\n",
    "lapply(beta_d, function(x) x %>% as.vector %>% summary)"
   ]
  },
  {
   "cell_type": "markdown",
   "metadata": {},
   "source": [
    "# Formatting"
   ]
  },
  {
   "cell_type": "code",
   "execution_count": 5,
   "metadata": {
    "ExecuteTime": {
     "end_time": "2018-07-07T06:47:08.093129Z",
     "start_time": "2018-07-07T06:46:50.628Z"
    }
   },
   "outputs": [
    {
     "data": {
      "text/html": [
       "4"
      ],
      "text/latex": [
       "4"
      ],
      "text/markdown": [
       "4"
      ],
      "text/plain": [
       "[1] 4"
      ]
     },
     "metadata": {},
     "output_type": "display_data"
    }
   ],
   "source": [
    "# converting distance matrix from triangle to long format\n",
    "dist2long = function(d){\n",
    "    L = d %>% labels\n",
    "    L = expand.grid(L, L)\n",
    "    x = cbind(L, d %>% as.matrix %>% as.vector)\n",
    "    colnames(x) = c('Var1', 'Var2', 'Value')\n",
    "    return(x)\n",
    "}\n",
    "\n",
    "d_l = lapply(beta_d, dist2long)\n",
    "d_l %>% length"
   ]
  },
  {
   "cell_type": "code",
   "execution_count": 6,
   "metadata": {
    "ExecuteTime": {
     "end_time": "2018-07-07T06:47:09.409419Z",
     "start_time": "2018-07-07T06:46:50.632Z"
    }
   },
   "outputs": [
    {
     "name": "stderr",
     "output_type": "stream",
     "text": [
      "Warning message:\n",
      "“Column `metric`/`old_names` joining character vector and factor, coercing into character vector”"
     ]
    },
    {
     "name": "stdout",
     "output_type": "stream",
     "text": [
      "[1] 181476      4\n"
     ]
    },
    {
     "data": {
      "text/html": [
       "<table>\n",
       "<thead><tr><th scope=col>Var1</th><th scope=col>Var2</th><th scope=col>Value</th><th scope=col>metric</th></tr></thead>\n",
       "<tbody>\n",
       "\t<tr><td>X1.Eurasian.Beaver</td><td>X1.Eurasian.Beaver</td><td>0.0000            </td><td>Bray Curtis       </td></tr>\n",
       "\t<tr><td>X101.Horse        </td><td>X1.Eurasian.Beaver</td><td>0.9984            </td><td>Bray Curtis       </td></tr>\n",
       "\t<tr><td>X102.Kulan        </td><td>X1.Eurasian.Beaver</td><td>0.9990            </td><td>Bray Curtis       </td></tr>\n",
       "</tbody>\n",
       "</table>\n"
      ],
      "text/latex": [
       "\\begin{tabular}{r|llll}\n",
       " Var1 & Var2 & Value & metric\\\\\n",
       "\\hline\n",
       "\t X1.Eurasian.Beaver & X1.Eurasian.Beaver & 0.0000             & Bray Curtis       \\\\\n",
       "\t X101.Horse         & X1.Eurasian.Beaver & 0.9984             & Bray Curtis       \\\\\n",
       "\t X102.Kulan         & X1.Eurasian.Beaver & 0.9990             & Bray Curtis       \\\\\n",
       "\\end{tabular}\n"
      ],
      "text/markdown": [
       "\n",
       "Var1 | Var2 | Value | metric | \n",
       "|---|---|---|\n",
       "| X1.Eurasian.Beaver | X1.Eurasian.Beaver | 0.0000             | Bray Curtis        | \n",
       "| X101.Horse         | X1.Eurasian.Beaver | 0.9984             | Bray Curtis        | \n",
       "| X102.Kulan         | X1.Eurasian.Beaver | 0.9990             | Bray Curtis        | \n",
       "\n",
       "\n"
      ],
      "text/plain": [
       "  Var1               Var2               Value  metric     \n",
       "1 X1.Eurasian.Beaver X1.Eurasian.Beaver 0.0000 Bray Curtis\n",
       "2 X101.Horse         X1.Eurasian.Beaver 0.9984 Bray Curtis\n",
       "3 X102.Kulan         X1.Eurasian.Beaver 0.9990 Bray Curtis"
      ]
     },
     "metadata": {},
     "output_type": "display_data"
    }
   ],
   "source": [
    "# combining into 1 df\n",
    "df = do.call(rbind, d_l) %>%\n",
    "    mutate(metric = gsub('\\\\.[0-9]+$', '', rownames(.)),\n",
    "           Value = Value %>% as.Num)\n",
    "\n",
    "# renaming distances\n",
    "old_names = c('jaccard', 'bray_curtis', 'unweighted_unifrac', 'weighted_unifrac')\n",
    "new_names = c('Jaccard', 'Bray Curtis', 'Unweighted\\nUnifrac', 'Weighted\\nUnifrac')\n",
    "tmp = data.frame(old_names, new_names)\n",
    "\n",
    "df = df %>%\n",
    "    inner_join(tmp, c('metric'='old_names')) %>%\n",
    "    dplyr::select(-metric) %>%\n",
    "    rename('metric' = new_names) \n",
    "\n",
    "df %>% status"
   ]
  },
  {
   "cell_type": "code",
   "execution_count": 7,
   "metadata": {
    "ExecuteTime": {
     "end_time": "2018-07-07T06:47:09.548622Z",
     "start_time": "2018-07-07T06:46:50.638Z"
    }
   },
   "outputs": [
    {
     "name": "stdout",
     "output_type": "stream",
     "text": [
      "[1] 180624      4\n"
     ]
    },
    {
     "data": {
      "text/html": [
       "<table>\n",
       "<thead><tr><th scope=col>Var1</th><th scope=col>Var2</th><th scope=col>Value</th><th scope=col>metric</th></tr></thead>\n",
       "<tbody>\n",
       "\t<tr><td>X101.Horse        </td><td>X1.Eurasian.Beaver</td><td>0.9984            </td><td>Bray Curtis       </td></tr>\n",
       "\t<tr><td>X102.Kulan        </td><td>X1.Eurasian.Beaver</td><td>0.9990            </td><td>Bray Curtis       </td></tr>\n",
       "\t<tr><td>X109.Red.Fox      </td><td>X1.Eurasian.Beaver</td><td>0.9986            </td><td>Bray Curtis       </td></tr>\n",
       "</tbody>\n",
       "</table>\n"
      ],
      "text/latex": [
       "\\begin{tabular}{r|llll}\n",
       " Var1 & Var2 & Value & metric\\\\\n",
       "\\hline\n",
       "\t X101.Horse         & X1.Eurasian.Beaver & 0.9984             & Bray Curtis       \\\\\n",
       "\t X102.Kulan         & X1.Eurasian.Beaver & 0.9990             & Bray Curtis       \\\\\n",
       "\t X109.Red.Fox       & X1.Eurasian.Beaver & 0.9986             & Bray Curtis       \\\\\n",
       "\\end{tabular}\n"
      ],
      "text/markdown": [
       "\n",
       "Var1 | Var2 | Value | metric | \n",
       "|---|---|---|\n",
       "| X101.Horse         | X1.Eurasian.Beaver | 0.9984             | Bray Curtis        | \n",
       "| X102.Kulan         | X1.Eurasian.Beaver | 0.9990             | Bray Curtis        | \n",
       "| X109.Red.Fox       | X1.Eurasian.Beaver | 0.9986             | Bray Curtis        | \n",
       "\n",
       "\n"
      ],
      "text/plain": [
       "  Var1         Var2               Value  metric     \n",
       "1 X101.Horse   X1.Eurasian.Beaver 0.9984 Bray Curtis\n",
       "2 X102.Kulan   X1.Eurasian.Beaver 0.9990 Bray Curtis\n",
       "3 X109.Red.Fox X1.Eurasian.Beaver 0.9986 Bray Curtis"
      ]
     },
     "metadata": {},
     "output_type": "display_data"
    }
   ],
   "source": [
    "# filtering: no self-self\n",
    "df = df %>%\n",
    "    filter(Var1 != Var2) \n",
    "\n",
    "df %>% status"
   ]
  },
  {
   "cell_type": "markdown",
   "metadata": {},
   "source": [
    "## Adding taxonomy"
   ]
  },
  {
   "cell_type": "code",
   "execution_count": 8,
   "metadata": {
    "ExecuteTime": {
     "end_time": "2018-07-07T06:47:09.607151Z",
     "start_time": "2018-07-07T06:46:50.642Z"
    }
   },
   "outputs": [
    {
     "name": "stdout",
     "output_type": "stream",
     "text": [
      "[1] 213   6\n"
     ]
    },
    {
     "data": {
      "text/html": [
       "<table>\n",
       "<thead><tr><th scope=col>Species</th><th scope=col>Class</th><th scope=col>Order</th><th scope=col>Family</th><th scope=col>Genus</th><th scope=col>SampleID</th></tr></thead>\n",
       "<tbody>\n",
       "\t<tr><td>Castor_fiber      </td><td>Mammalia          </td><td>Rodentia          </td><td>Castoridae        </td><td>Castor            </td><td>X1.Eurasian.Beaver</td></tr>\n",
       "\t<tr><td>Equus_caballus    </td><td>Mammalia          </td><td>Perissodactyla    </td><td>Equidae           </td><td>Equus             </td><td>X101.Horse        </td></tr>\n",
       "\t<tr><td>Equus_hemionus    </td><td>Mammalia          </td><td>Perissodactyla    </td><td>Equidae           </td><td>Equus             </td><td>X102.Kulan        </td></tr>\n",
       "</tbody>\n",
       "</table>\n"
      ],
      "text/latex": [
       "\\begin{tabular}{r|llllll}\n",
       " Species & Class & Order & Family & Genus & SampleID\\\\\n",
       "\\hline\n",
       "\t Castor\\_fiber     & Mammalia           & Rodentia           & Castoridae         & Castor             & X1.Eurasian.Beaver\\\\\n",
       "\t Equus\\_caballus   & Mammalia           & Perissodactyla     & Equidae            & Equus              & X101.Horse        \\\\\n",
       "\t Equus\\_hemionus   & Mammalia           & Perissodactyla     & Equidae            & Equus              & X102.Kulan        \\\\\n",
       "\\end{tabular}\n"
      ],
      "text/markdown": [
       "\n",
       "Species | Class | Order | Family | Genus | SampleID | \n",
       "|---|---|---|\n",
       "| Castor_fiber       | Mammalia           | Rodentia           | Castoridae         | Castor             | X1.Eurasian.Beaver | \n",
       "| Equus_caballus     | Mammalia           | Perissodactyla     | Equidae            | Equus              | X101.Horse         | \n",
       "| Equus_hemionus     | Mammalia           | Perissodactyla     | Equidae            | Equus              | X102.Kulan         | \n",
       "\n",
       "\n"
      ],
      "text/plain": [
       "  Species        Class    Order          Family     Genus  SampleID          \n",
       "1 Castor_fiber   Mammalia Rodentia       Castoridae Castor X1.Eurasian.Beaver\n",
       "2 Equus_caballus Mammalia Perissodactyla Equidae    Equus  X101.Horse        \n",
       "3 Equus_hemionus Mammalia Perissodactyla Equidae    Equus  X102.Kulan        "
      ]
     },
     "metadata": {},
     "output_type": "display_data"
    }
   ],
   "source": [
    "tmp = metadata %>%\n",
    "    distinct(SampleID, class, order, family, genus, scientific_name) %>%\n",
    "    rename('Class' = class,\n",
    "           'Order' = order,\n",
    "           'Family' = family,\n",
    "           'Genus' = genus,\n",
    "           'Species' = scientific_name)\n",
    "\n",
    "tmp %>% status"
   ]
  },
  {
   "cell_type": "code",
   "execution_count": 9,
   "metadata": {
    "ExecuteTime": {
     "end_time": "2018-07-07T06:47:10.102313Z",
     "start_time": "2018-07-07T06:46:50.651Z"
    }
   },
   "outputs": [
    {
     "name": "stderr",
     "output_type": "stream",
     "text": [
      "Warning message:\n",
      "“Column `Var1`/`SampleID` joining factor and character vector, coercing into character vector”Warning message:\n",
      "“Column `Var2`/`SampleID` joining factor and character vector, coercing into character vector”"
     ]
    },
    {
     "name": "stdout",
     "output_type": "stream",
     "text": [
      "[1] 180624     14\n"
     ]
    },
    {
     "data": {
      "text/html": [
       "<table>\n",
       "<thead><tr><th scope=col>Var1</th><th scope=col>Var2</th><th scope=col>Value</th><th scope=col>metric</th><th scope=col>Species.x</th><th scope=col>Class.x</th><th scope=col>Order.x</th><th scope=col>Family.x</th><th scope=col>Genus.x</th><th scope=col>Species.y</th><th scope=col>Class.y</th><th scope=col>Order.y</th><th scope=col>Family.y</th><th scope=col>Genus.y</th></tr></thead>\n",
       "<tbody>\n",
       "\t<tr><td>X101.Horse        </td><td>X1.Eurasian.Beaver</td><td>0.9984            </td><td>Bray Curtis       </td><td>Equus_caballus    </td><td>Mammalia          </td><td>Perissodactyla    </td><td>Equidae           </td><td>Equus             </td><td>Castor_fiber      </td><td>Mammalia          </td><td>Rodentia          </td><td>Castoridae        </td><td>Castor            </td></tr>\n",
       "\t<tr><td>X102.Kulan        </td><td>X1.Eurasian.Beaver</td><td>0.9990            </td><td>Bray Curtis       </td><td>Equus_hemionus    </td><td>Mammalia          </td><td>Perissodactyla    </td><td>Equidae           </td><td>Equus             </td><td>Castor_fiber      </td><td>Mammalia          </td><td>Rodentia          </td><td>Castoridae        </td><td>Castor            </td></tr>\n",
       "\t<tr><td>X109.Red.Fox      </td><td>X1.Eurasian.Beaver</td><td>0.9986            </td><td>Bray Curtis       </td><td>Vulpes_vulpes     </td><td>Mammalia          </td><td>Carnivora         </td><td>Canidae           </td><td>Vulpes            </td><td>Castor_fiber      </td><td>Mammalia          </td><td>Rodentia          </td><td>Castoridae        </td><td>Castor            </td></tr>\n",
       "</tbody>\n",
       "</table>\n"
      ],
      "text/latex": [
       "\\begin{tabular}{r|llllllllllllll}\n",
       " Var1 & Var2 & Value & metric & Species.x & Class.x & Order.x & Family.x & Genus.x & Species.y & Class.y & Order.y & Family.y & Genus.y\\\\\n",
       "\\hline\n",
       "\t X101.Horse         & X1.Eurasian.Beaver & 0.9984             & Bray Curtis        & Equus\\_caballus   & Mammalia           & Perissodactyla     & Equidae            & Equus              & Castor\\_fiber     & Mammalia           & Rodentia           & Castoridae         & Castor            \\\\\n",
       "\t X102.Kulan         & X1.Eurasian.Beaver & 0.9990             & Bray Curtis        & Equus\\_hemionus   & Mammalia           & Perissodactyla     & Equidae            & Equus              & Castor\\_fiber     & Mammalia           & Rodentia           & Castoridae         & Castor            \\\\\n",
       "\t X109.Red.Fox       & X1.Eurasian.Beaver & 0.9986             & Bray Curtis        & Vulpes\\_vulpes    & Mammalia           & Carnivora          & Canidae            & Vulpes             & Castor\\_fiber     & Mammalia           & Rodentia           & Castoridae         & Castor            \\\\\n",
       "\\end{tabular}\n"
      ],
      "text/markdown": [
       "\n",
       "Var1 | Var2 | Value | metric | Species.x | Class.x | Order.x | Family.x | Genus.x | Species.y | Class.y | Order.y | Family.y | Genus.y | \n",
       "|---|---|---|\n",
       "| X101.Horse         | X1.Eurasian.Beaver | 0.9984             | Bray Curtis        | Equus_caballus     | Mammalia           | Perissodactyla     | Equidae            | Equus              | Castor_fiber       | Mammalia           | Rodentia           | Castoridae         | Castor             | \n",
       "| X102.Kulan         | X1.Eurasian.Beaver | 0.9990             | Bray Curtis        | Equus_hemionus     | Mammalia           | Perissodactyla     | Equidae            | Equus              | Castor_fiber       | Mammalia           | Rodentia           | Castoridae         | Castor             | \n",
       "| X109.Red.Fox       | X1.Eurasian.Beaver | 0.9986             | Bray Curtis        | Vulpes_vulpes      | Mammalia           | Carnivora          | Canidae            | Vulpes             | Castor_fiber       | Mammalia           | Rodentia           | Castoridae         | Castor             | \n",
       "\n",
       "\n"
      ],
      "text/plain": [
       "  Var1         Var2               Value  metric      Species.x      Class.x \n",
       "1 X101.Horse   X1.Eurasian.Beaver 0.9984 Bray Curtis Equus_caballus Mammalia\n",
       "2 X102.Kulan   X1.Eurasian.Beaver 0.9990 Bray Curtis Equus_hemionus Mammalia\n",
       "3 X109.Red.Fox X1.Eurasian.Beaver 0.9986 Bray Curtis Vulpes_vulpes  Mammalia\n",
       "  Order.x        Family.x Genus.x Species.y    Class.y  Order.y  Family.y  \n",
       "1 Perissodactyla Equidae  Equus   Castor_fiber Mammalia Rodentia Castoridae\n",
       "2 Perissodactyla Equidae  Equus   Castor_fiber Mammalia Rodentia Castoridae\n",
       "3 Carnivora      Canidae  Vulpes  Castor_fiber Mammalia Rodentia Castoridae\n",
       "  Genus.y\n",
       "1 Castor \n",
       "2 Castor \n",
       "3 Castor "
      ]
     },
     "metadata": {},
     "output_type": "display_data"
    }
   ],
   "source": [
    "# adding taxonomy\n",
    "df = df %>%\n",
    "    inner_join(tmp, c('Var1'='SampleID')) %>%\n",
    "    inner_join(tmp, c('Var2'='SampleID')) \n",
    "\n",
    "df %>% status"
   ]
  },
  {
   "cell_type": "markdown",
   "metadata": {},
   "source": [
    "# Summarize by clade"
   ]
  },
  {
   "cell_type": "code",
   "execution_count": 10,
   "metadata": {
    "ExecuteTime": {
     "end_time": "2018-07-07T06:47:10.353381Z",
     "start_time": "2018-07-07T06:46:50.657Z"
    }
   },
   "outputs": [
    {
     "name": "stdout",
     "output_type": "stream",
     "text": [
      "[1] 180624      9\n"
     ]
    },
    {
     "data": {
      "text/html": [
       "<table>\n",
       "<thead><tr><th scope=col>Var1</th><th scope=col>Var2</th><th scope=col>Value</th><th scope=col>metric</th><th scope=col>Class</th><th scope=col>Order</th><th scope=col>Family</th><th scope=col>Genus</th><th scope=col>Species</th></tr></thead>\n",
       "<tbody>\n",
       "\t<tr><td>X101.Horse        </td><td>X1.Eurasian.Beaver</td><td>0.9984            </td><td>Bray Curtis       </td><td>TRUE              </td><td>FALSE             </td><td>FALSE             </td><td>FALSE             </td><td>FALSE             </td></tr>\n",
       "\t<tr><td>X102.Kulan        </td><td>X1.Eurasian.Beaver</td><td>0.9990            </td><td>Bray Curtis       </td><td>TRUE              </td><td>FALSE             </td><td>FALSE             </td><td>FALSE             </td><td>FALSE             </td></tr>\n",
       "\t<tr><td>X109.Red.Fox      </td><td>X1.Eurasian.Beaver</td><td>0.9986            </td><td>Bray Curtis       </td><td>TRUE              </td><td>FALSE             </td><td>FALSE             </td><td>FALSE             </td><td>FALSE             </td></tr>\n",
       "</tbody>\n",
       "</table>\n"
      ],
      "text/latex": [
       "\\begin{tabular}{r|lllllllll}\n",
       " Var1 & Var2 & Value & metric & Class & Order & Family & Genus & Species\\\\\n",
       "\\hline\n",
       "\t X101.Horse         & X1.Eurasian.Beaver & 0.9984             & Bray Curtis        & TRUE               & FALSE              & FALSE              & FALSE              & FALSE             \\\\\n",
       "\t X102.Kulan         & X1.Eurasian.Beaver & 0.9990             & Bray Curtis        & TRUE               & FALSE              & FALSE              & FALSE              & FALSE             \\\\\n",
       "\t X109.Red.Fox       & X1.Eurasian.Beaver & 0.9986             & Bray Curtis        & TRUE               & FALSE              & FALSE              & FALSE              & FALSE             \\\\\n",
       "\\end{tabular}\n"
      ],
      "text/markdown": [
       "\n",
       "Var1 | Var2 | Value | metric | Class | Order | Family | Genus | Species | \n",
       "|---|---|---|\n",
       "| X101.Horse         | X1.Eurasian.Beaver | 0.9984             | Bray Curtis        | TRUE               | FALSE              | FALSE              | FALSE              | FALSE              | \n",
       "| X102.Kulan         | X1.Eurasian.Beaver | 0.9990             | Bray Curtis        | TRUE               | FALSE              | FALSE              | FALSE              | FALSE              | \n",
       "| X109.Red.Fox       | X1.Eurasian.Beaver | 0.9986             | Bray Curtis        | TRUE               | FALSE              | FALSE              | FALSE              | FALSE              | \n",
       "\n",
       "\n"
      ],
      "text/plain": [
       "  Var1         Var2               Value  metric      Class Order Family Genus\n",
       "1 X101.Horse   X1.Eurasian.Beaver 0.9984 Bray Curtis TRUE  FALSE FALSE  FALSE\n",
       "2 X102.Kulan   X1.Eurasian.Beaver 0.9990 Bray Curtis TRUE  FALSE FALSE  FALSE\n",
       "3 X109.Red.Fox X1.Eurasian.Beaver 0.9986 Bray Curtis TRUE  FALSE FALSE  FALSE\n",
       "  Species\n",
       "1 FALSE  \n",
       "2 FALSE  \n",
       "3 FALSE  "
      ]
     },
     "metadata": {},
     "output_type": "display_data"
    }
   ],
   "source": [
    "# ID which are within vs between clades\n",
    "df_s = df %>%\n",
    "    mutate(Class = Class.x == Class.y,\n",
    "           Order = Order.x == Order.y,\n",
    "           Family = Family.x == Family.y,\n",
    "           Genus = Genus.x == Genus.y,\n",
    "           Species = Species.x == Species.y) %>%\n",
    "    dplyr::select(Var1, Var2, Value, metric,\n",
    "                  Class, Order, Family, Genus, Species)\n",
    "\n",
    "df_s %>% status"
   ]
  },
  {
   "cell_type": "code",
   "execution_count": 11,
   "metadata": {
    "ExecuteTime": {
     "end_time": "2018-07-07T06:47:12.395689Z",
     "start_time": "2018-07-07T06:46:50.665Z"
    },
    "code_folding": []
   },
   "outputs": [
    {
     "name": "stdout",
     "output_type": "stream",
     "text": [
      "[1] 128552      3\n"
     ]
    },
    {
     "data": {
      "text/html": [
       "<table>\n",
       "<thead><tr><th scope=col>metric</th><th scope=col>Value</th><th scope=col>Level</th></tr></thead>\n",
       "<tbody>\n",
       "\t<tr><td>Bray Curtis</td><td>0.99840000 </td><td>Class      </td></tr>\n",
       "\t<tr><td>Bray Curtis</td><td>0.99900000 </td><td>Class      </td></tr>\n",
       "\t<tr><td>Bray Curtis</td><td>0.99860000 </td><td>Class      </td></tr>\n",
       "</tbody>\n",
       "</table>\n"
      ],
      "text/latex": [
       "\\begin{tabular}{r|lll}\n",
       " metric & Value & Level\\\\\n",
       "\\hline\n",
       "\t Bray Curtis & 0.99840000  & Class      \\\\\n",
       "\t Bray Curtis & 0.99900000  & Class      \\\\\n",
       "\t Bray Curtis & 0.99860000  & Class      \\\\\n",
       "\\end{tabular}\n"
      ],
      "text/markdown": [
       "\n",
       "metric | Value | Level | \n",
       "|---|---|---|\n",
       "| Bray Curtis | 0.99840000  | Class       | \n",
       "| Bray Curtis | 0.99900000  | Class       | \n",
       "| Bray Curtis | 0.99860000  | Class       | \n",
       "\n",
       "\n"
      ],
      "text/plain": [
       "  metric      Value      Level\n",
       "1 Bray Curtis 0.99840000 Class\n",
       "2 Bray Curtis 0.99900000 Class\n",
       "3 Bray Curtis 0.99860000 Class"
      ]
     },
     "metadata": {},
     "output_type": "display_data"
    }
   ],
   "source": [
    "# values within each clade\n",
    "within_each_clade = function(lev, df_s){\n",
    "    x = df_s[df_s[,lev] == TRUE, c('metric', 'Value')] \n",
    "    x = as.data.frame(as.matrix(x))\n",
    "    x$Level = lev\n",
    "    return(x)\n",
    "}\n",
    "\n",
    "levs = c('Class', 'Order', 'Family', 'Genus', 'Species')\n",
    "df_s = lapply(as.list(levs), within_each_clade, df_s=df_s)\n",
    "df_s = do.call(rbind, df_s)\n",
    "\n",
    "df_s %>% status"
   ]
  },
  {
   "cell_type": "code",
   "execution_count": 12,
   "metadata": {
    "ExecuteTime": {
     "end_time": "2018-07-07T06:47:12.666118Z",
     "start_time": "2018-07-07T06:46:50.672Z"
    }
   },
   "outputs": [
    {
     "name": "stdout",
     "output_type": "stream",
     "text": [
      "[1] 20  6\n"
     ]
    },
    {
     "data": {
      "text/html": [
       "<table>\n",
       "<thead><tr><th scope=col>Level</th><th scope=col>metric</th><th scope=col>median</th><th scope=col>n</th><th scope=col>sd</th><th scope=col>stderr</th></tr></thead>\n",
       "<tbody>\n",
       "\t<tr><td>Class              </td><td>Bray Curtis        </td><td>1.0000000          </td><td>26474              </td><td>0.05563016         </td><td>0.0003419011       </td></tr>\n",
       "\t<tr><td>Class              </td><td>Jaccard            </td><td>1.0000000          </td><td>26474              </td><td>0.03578367         </td><td>0.0002199253       </td></tr>\n",
       "\t<tr><td>Class              </td><td>Unweighted\n",
       "Unifrac</td><td>0.8234807          </td><td>26474              </td><td>0.10718287         </td><td>0.0006587424       </td></tr>\n",
       "</tbody>\n",
       "</table>\n"
      ],
      "text/latex": [
       "\\begin{tabular}{r|llllll}\n",
       " Level & metric & median & n & sd & stderr\\\\\n",
       "\\hline\n",
       "\t Class               & Bray Curtis         & 1.0000000           & 26474               & 0.05563016          & 0.0003419011       \\\\\n",
       "\t Class               & Jaccard             & 1.0000000           & 26474               & 0.03578367          & 0.0002199253       \\\\\n",
       "\t Class               & Unweighted\n",
       "Unifrac & 0.8234807           & 26474               & 0.10718287          & 0.0006587424       \\\\\n",
       "\\end{tabular}\n"
      ],
      "text/markdown": [
       "\n",
       "Level | metric | median | n | sd | stderr | \n",
       "|---|---|---|\n",
       "| Class               | Bray Curtis         | 1.0000000           | 26474               | 0.05563016          | 0.0003419011        | \n",
       "| Class               | Jaccard             | 1.0000000           | 26474               | 0.03578367          | 0.0002199253        | \n",
       "| Class               | Unweighted\n",
       "Unifrac | 0.8234807           | 26474               | 0.10718287          | 0.0006587424        | \n",
       "\n",
       "\n"
      ],
      "text/plain": [
       "  Level metric              median    n     sd         stderr      \n",
       "1 Class Bray Curtis         1.0000000 26474 0.05563016 0.0003419011\n",
       "2 Class Jaccard             1.0000000 26474 0.03578367 0.0002199253\n",
       "3 Class Unweighted\\nUnifrac 0.8234807 26474 0.10718287 0.0006587424"
      ]
     },
     "metadata": {},
     "output_type": "display_data"
    }
   ],
   "source": [
    "# summarizing\n",
    "df_s = df_s %>%\n",
    "    mutate(Value = Value %>% as.Num) %>%\n",
    "    group_by(Level, metric) %>%\n",
    "    summarize(median = median(Value),\n",
    "              n = length(Value),\n",
    "              sd = sd(Value),\n",
    "              stderr = sd(Value) / sqrt(length(Value))) %>%\n",
    "    ungroup() \n",
    "\n",
    "df_s %>% status"
   ]
  },
  {
   "cell_type": "code",
   "execution_count": 13,
   "metadata": {
    "ExecuteTime": {
     "end_time": "2018-07-07T06:47:18.748024Z",
     "start_time": "2018-07-07T06:46:50.677Z"
    }
   },
   "outputs": [
    {
     "name": "stdout",
     "output_type": "stream",
     "text": [
      "File written: /ebio/abt3_projects/Georg_animal_feces/notebooks/16S/2_intra_host_variance/2_beta_div/.figures/beta-div_by-clade_pointrange.pdf \n"
     ]
    },
    {
     "data": {
      "image/png": "[encoded data removed]",
      "text/plain": [
       "plot without title"
      ]
     },
     "metadata": {},
     "output_type": "display_data"
    }
   ],
   "source": [
    "# plotting\n",
    "df_s$Level = factor(df_s$Level, levels = rev(levs))\n",
    "\n",
    "p = ggplot(df_s, aes(Level, median)) +\n",
    "    geom_linerange(aes(ymin = median - sd,\n",
    "                       ymax = median + sd)) +\n",
    "    geom_point() +\n",
    "    labs(x='Taxonomic level', y='Median value') +\n",
    "    facet_grid(metric ~ .) +\n",
    "    theme_bw()\n",
    "\n",
    "options(repr.plot.width=4, repr.plot.height=4)\n",
    "plot_write(p, file='beta-div_by-clade_pointrange.pdf')"
   ]
  },
  {
   "cell_type": "markdown",
   "metadata": {},
   "source": [
    "# SessionInfo"
   ]
  },
  {
   "cell_type": "code",
   "execution_count": 14,
   "metadata": {
    "ExecuteTime": {
     "end_time": "2018-07-07T06:47:19.385009Z",
     "start_time": "2018-07-07T06:46:50.682Z"
    }
   },
   "outputs": [
    {
     "data": {
      "text/plain": [
       "R version 3.4.1 (2017-06-30)\n",
       "Platform: x86_64-pc-linux-gnu (64-bit)\n",
       "Running under: Ubuntu 16.04.4 LTS\n",
       "\n",
       "Matrix products: default\n",
       "BLAS: /ebio/abt3_projects/software/miniconda3/envs/py3_physeq/lib/R/lib/libRblas.so\n",
       "LAPACK: /ebio/abt3_projects/software/miniconda3/envs/py3_physeq/lib/R/lib/libRlapack.so\n",
       "\n",
       "locale:\n",
       " [1] LC_CTYPE=en_US.UTF-8       LC_NUMERIC=C              \n",
       " [3] LC_TIME=en_US.UTF-8        LC_COLLATE=en_US.UTF-8    \n",
       " [5] LC_MONETARY=en_US.UTF-8    LC_MESSAGES=en_US.UTF-8   \n",
       " [7] LC_PAPER=en_US.UTF-8       LC_NAME=C                 \n",
       " [9] LC_ADDRESS=C               LC_TELEPHONE=C            \n",
       "[11] LC_MEASUREMENT=en_US.UTF-8 LC_IDENTIFICATION=C       \n",
       "\n",
       "attached base packages:\n",
       "[1] stats     graphics  grDevices utils     datasets  methods   base     \n",
       "\n",
       "other attached packages:\n",
       "[1] bindrcpp_0.2    phyloseq_1.22.3 ggplot2_2.2.1   tidyr_0.8.1    \n",
       "[5] dplyr_0.7.4    \n",
       "\n",
       "loaded via a namespace (and not attached):\n",
       " [1] pbdZMQ_0.3-1        repr_0.12.0         purrr_0.2.4        \n",
       " [4] reshape2_1.4.3      splines_3.4.1       lattice_0.20-35    \n",
       " [7] rhdf5_2.22.0        colorspace_1.3-2    stats4_3.4.1       \n",
       "[10] mgcv_1.8-17         survival_2.40-1     rlang_0.2.0        \n",
       "[13] pillar_1.2.2        glue_1.2.0          BiocGenerics_0.24.0\n",
       "[16] uuid_0.1-2          foreach_1.4.4       bindr_0.1.1        \n",
       "[19] plyr_1.8.4          stringr_1.2.0       zlibbioc_1.24.0    \n",
       "[22] Biostrings_2.46.0   munsell_0.5.0       gtable_0.2.0       \n",
       "[25] codetools_0.2-15    evaluate_0.10.1     labeling_0.3       \n",
       "[28] Biobase_2.38.0      permute_0.9-4       IRanges_2.12.0     \n",
       "[31] biomformat_1.6.0    parallel_3.4.1      IRdisplay_0.4.4    \n",
       "[34] Rcpp_0.12.14        scales_0.5.0        IRkernel_0.8.11    \n",
       "[37] vegan_2.4-3         S4Vectors_0.16.0    jsonlite_1.5       \n",
       "[40] XVector_0.18.0      digest_0.6.13       stringi_1.1.6      \n",
       "[43] grid_3.4.1          ade4_1.7-10         tools_3.4.1        \n",
       "[46] magrittr_1.5        lazyeval_0.2.1      tibble_1.4.2       \n",
       "[49] cluster_2.0.6       crayon_1.3.4        ape_5.1            \n",
       "[52] pkgconfig_2.0.1     MASS_7.3-48         Matrix_1.2-14      \n",
       "[55] data.table_1.11.4   assertthat_0.2.0    iterators_1.0.9    \n",
       "[58] R6_2.2.2            multtest_2.34.0     igraph_1.2.1       \n",
       "[61] nlme_3.1-137        compiler_3.4.1     "
      ]
     },
     "metadata": {},
     "output_type": "display_data"
    }
   ],
   "source": [
    "sessionInfo()"
   ]
  },
  {
   "cell_type": "code",
   "execution_count": null,
   "metadata": {},
   "outputs": [],
   "source": []
  }
 ],
 "metadata": {
  "kernelspec": {
   "display_name": "R [conda env:py3_physeq]",
   "language": "R",
   "name": "conda-env-py3_physeq-r"
  },
  "language_info": {
   "codemirror_mode": "r",
   "file_extension": ".r",
   "mimetype": "text/x-r-source",
   "name": "R",
   "pygments_lexer": "r",
   "version": "3.4.1"
  },
  "notify_time": "30",
  "toc": {
   "nav_menu": {},
   "number_sections": true,
   "sideBar": true,
   "skip_h1_title": false,
   "toc_cell": false,
   "toc_position": {},
   "toc_section_display": "block",
   "toc_window_display": true
  }
 },
 "nbformat": 4,
 "nbformat_minor": 2
}
