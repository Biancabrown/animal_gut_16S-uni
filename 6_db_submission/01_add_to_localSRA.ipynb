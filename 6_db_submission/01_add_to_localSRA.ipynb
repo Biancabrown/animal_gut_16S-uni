{
 "cells": [
  {
   "cell_type": "markdown",
   "metadata": {
    "toc": true
   },
   "source": [
    "<h1>Table of Contents<span class=\"tocSkip\"></span></h1>\n",
    "<div class=\"toc\"><ul class=\"toc-item\"><li><span><a href=\"#Goal\" data-toc-modified-id=\"Goal-1\"><span class=\"toc-item-num\">1&nbsp;&nbsp;</span>Goal</a></span></li><li><span><a href=\"#Var\" data-toc-modified-id=\"Var-2\"><span class=\"toc-item-num\">2&nbsp;&nbsp;</span>Var</a></span></li><li><span><a href=\"#Init\" data-toc-modified-id=\"Init-3\"><span class=\"toc-item-num\">3&nbsp;&nbsp;</span>Init</a></span></li><li><span><a href=\"#Load\" data-toc-modified-id=\"Load-4\"><span class=\"toc-item-num\">4&nbsp;&nbsp;</span>Load</a></span></li><li><span><a href=\"#Export-demux-reads\" data-toc-modified-id=\"Export-demux-reads-5\"><span class=\"toc-item-num\">5&nbsp;&nbsp;</span>Export demux reads</a></span><ul class=\"toc-item\"><li><span><a href=\"#Georg\" data-toc-modified-id=\"Georg-5.1\"><span class=\"toc-item-num\">5.1&nbsp;&nbsp;</span>Georg</a></span></li><li><span><a href=\"#Tony\" data-toc-modified-id=\"Tony-5.2\"><span class=\"toc-item-num\">5.2&nbsp;&nbsp;</span>Tony</a></span></li></ul></li><li><span><a href=\"#Copying-reads-to-/tmp/global/\" data-toc-modified-id=\"Copying-reads-to-/tmp/global/-6\"><span class=\"toc-item-num\">6&nbsp;&nbsp;</span>Copying reads to /tmp/global/</a></span></li><li><span><a href=\"#Create-csv-for-local-SRA-upload\" data-toc-modified-id=\"Create-csv-for-local-SRA-upload-7\"><span class=\"toc-item-num\">7&nbsp;&nbsp;</span>Create csv for local SRA upload</a></span><ul class=\"toc-item\"><li><span><a href=\"#load/join\" data-toc-modified-id=\"load/join-7.1\"><span class=\"toc-item-num\">7.1&nbsp;&nbsp;</span>load/join</a></span></li><li><span><a href=\"#formatting\" data-toc-modified-id=\"formatting-7.2\"><span class=\"toc-item-num\">7.2&nbsp;&nbsp;</span>formatting</a></span></li><li><span><a href=\"#Writing-table\" data-toc-modified-id=\"Writing-table-7.3\"><span class=\"toc-item-num\">7.3&nbsp;&nbsp;</span>Writing table</a></span></li></ul></li><li><span><a href=\"#Notes\" data-toc-modified-id=\"Notes-8\"><span class=\"toc-item-num\">8&nbsp;&nbsp;</span>Notes</a></span></li><li><span><a href=\"#sessionInfo\" data-toc-modified-id=\"sessionInfo-9\"><span class=\"toc-item-num\">9&nbsp;&nbsp;</span>sessionInfo</a></span></li></ul></div>"
   ]
  },
  {
   "cell_type": "markdown",
   "metadata": {},
   "source": [
    "# Goal\n",
    "\n",
    "* Add 16S amplicon data (515F-806R) to local SRA, which will help with ENA submission"
   ]
  },
  {
   "cell_type": "markdown",
   "metadata": {},
   "source": [
    "# Var"
   ]
  },
  {
   "cell_type": "code",
   "execution_count": 48,
   "metadata": {
    "ExecuteTime": {
     "end_time": "2018-10-16T09:15:53.160888Z",
     "start_time": "2018-10-16T09:15:55.434Z"
    }
   },
   "outputs": [],
   "source": [
    "work_dir = '/tmp/global2/nyoungblut/Georg_animal_gut_16s/'\n",
    "\n",
    "# demux dirs\n",
    "georg_demux_dir = '/ebio/abt3_projects/Georg_animal_feces/data/16S/LLA/georg/'\n",
    "tony_demux_dir = '/ebio/abt3_projects/Georg_animal_feces/data/16S/LLA/tony/'\n",
    "\n",
    "# physeq obj. of processed 16S samples\n",
    "physeq_file = '/ebio/abt3_projects/Georg_animal_feces/data/16S/LLA/phyloseq/physeq_r5k.RDS'\n",
    "\n",
    "# params\n",
    "conda_env = 'qiime2-2018.6'"
   ]
  },
  {
   "cell_type": "markdown",
   "metadata": {},
   "source": [
    "# Init"
   ]
  },
  {
   "cell_type": "code",
   "execution_count": 17,
   "metadata": {
    "ExecuteTime": {
     "end_time": "2018-10-16T09:00:12.354642Z",
     "start_time": "2018-10-16T09:00:06.627Z"
    }
   },
   "outputs": [],
   "source": [
    "library(dplyr)\n",
    "library(tidyr)\n",
    "library(ggplot2)\n",
    "library(phyloseq)\n",
    "source('/ebio/abt3_projects/Georg_animal_feces/code/init.R')"
   ]
  },
  {
   "cell_type": "code",
   "execution_count": 49,
   "metadata": {
    "ExecuteTime": {
     "end_time": "2018-10-16T09:15:58.972052Z",
     "start_time": "2018-10-16T09:16:01.259Z"
    }
   },
   "outputs": [
    {
     "name": "stdout",
     "output_type": "stream",
     "text": [
      "Directory already exists: /tmp/global2/nyoungblut/Georg_animal_gut_16s/ \n"
     ]
    }
   ],
   "source": [
    "make_dir(work_dir)"
   ]
  },
  {
   "cell_type": "markdown",
   "metadata": {},
   "source": [
    "# Load"
   ]
  },
  {
   "cell_type": "code",
   "execution_count": 21,
   "metadata": {
    "ExecuteTime": {
     "end_time": "2018-10-16T09:01:22.762613Z",
     "start_time": "2018-10-16T09:01:23.784Z"
    }
   },
   "outputs": [
    {
     "name": "stderr",
     "output_type": "stream",
     "text": [
      "Warning message in class(X) <- NULL:\n",
      "“Setting class(x) to NULL;   result will no longer be an S4 object”"
     ]
    },
    {
     "name": "stdout",
     "output_type": "stream",
     "text": [
      "[1] 213   2\n"
     ]
    },
    {
     "data": {
      "text/html": [
       "<table>\n",
       "<thead><tr><th scope=col>Sample</th><th scope=col>scientific_name</th></tr></thead>\n",
       "<tbody>\n",
       "\t<tr><td>1.Eurasian.Beaver</td><td>Castor_fiber     </td></tr>\n",
       "\t<tr><td>101.Horse        </td><td>Equus_caballus   </td></tr>\n",
       "\t<tr><td>102.Kulan        </td><td>Equus_hemionus   </td></tr>\n",
       "</tbody>\n",
       "</table>\n"
      ],
      "text/latex": [
       "\\begin{tabular}{r|ll}\n",
       " Sample & scientific\\_name\\\\\n",
       "\\hline\n",
       "\t 1.Eurasian.Beaver & Castor\\_fiber   \\\\\n",
       "\t 101.Horse         & Equus\\_caballus \\\\\n",
       "\t 102.Kulan         & Equus\\_hemionus \\\\\n",
       "\\end{tabular}\n"
      ],
      "text/markdown": [
       "\n",
       "Sample | scientific_name | \n",
       "|---|---|---|\n",
       "| 1.Eurasian.Beaver | Castor_fiber      | \n",
       "| 101.Horse         | Equus_caballus    | \n",
       "| 102.Kulan         | Equus_hemionus    | \n",
       "\n",
       "\n"
      ],
      "text/plain": [
       "  Sample            scientific_name\n",
       "1 1.Eurasian.Beaver Castor_fiber   \n",
       "2 101.Horse         Equus_caballus \n",
       "3 102.Kulan         Equus_hemionus "
      ]
     },
     "metadata": {},
     "output_type": "display_data"
    }
   ],
   "source": [
    "# sample metadata\n",
    "metadata = physeq_file %>%\n",
    "    readRDS %>%\n",
    "    sample_data %>%\n",
    "    as.matrix %>%\n",
    "    as.data.frame %>%\n",
    "    mutate(Sample = rownames(.)) %>%\n",
    "    dplyr::select(Sample, scientific_name) %>%\n",
    "    mutate(Sample = gsub('^X([0-9])', '\\\\1', Sample))\n",
    "\n",
    "metadata %>% dfhead"
   ]
  },
  {
   "cell_type": "markdown",
   "metadata": {},
   "source": [
    "# Export demux reads"
   ]
  },
  {
   "cell_type": "markdown",
   "metadata": {},
   "source": [
    "## Georg"
   ]
  },
  {
   "cell_type": "code",
   "execution_count": 7,
   "metadata": {
    "ExecuteTime": {
     "end_time": "2018-10-16T08:55:14.834420Z",
     "start_time": "2018-10-16T08:55:16.966Z"
    }
   },
   "outputs": [
    {
     "name": "stdout",
     "output_type": "stream",
     "text": [
      "Directory already exists: /ebio/abt3_projects/Georg_animal_feces/data/16S/LLA/georg//tmp \n"
     ]
    },
    {
     "data": {
      "text/html": [
       "<table>\n",
       "<thead><tr><th></th><th scope=col>size</th><th scope=col>isdir</th><th scope=col>mode</th><th scope=col>mtime</th><th scope=col>ctime</th><th scope=col>atime</th><th scope=col>uid</th><th scope=col>gid</th><th scope=col>uname</th><th scope=col>grname</th></tr></thead>\n",
       "<tbody>\n",
       "\t<tr><th scope=row>/ebio/abt3_projects/Georg_animal_feces/data/16S/LLA/georg//georg_demux.qza</th><td>4071486022         </td><td>FALSE              </td><td>644                </td><td>2017-12-04 14:12:32</td><td>2017-12-04 14:12:32</td><td>2017-12-04 14:05:58</td><td>6354               </td><td>353                </td><td>nyoungblut         </td><td>abt3               </td></tr>\n",
       "</tbody>\n",
       "</table>\n"
      ],
      "text/latex": [
       "\\begin{tabular}{r|llllllllll}\n",
       "  & size & isdir & mode & mtime & ctime & atime & uid & gid & uname & grname\\\\\n",
       "\\hline\n",
       "\t/ebio/abt3\\_projects/Georg\\_animal\\_feces/data/16S/LLA/georg//georg\\_demux.qza & 4071486022          & FALSE               & 644                 & 2017-12-04 14:12:32 & 2017-12-04 14:12:32 & 2017-12-04 14:05:58 & 6354                & 353                 & nyoungblut          & abt3               \\\\\n",
       "\\end{tabular}\n"
      ],
      "text/markdown": [
       "\n",
       "| <!--/--> | size | isdir | mode | mtime | ctime | atime | uid | gid | uname | grname | \n",
       "|---|\n",
       "| /ebio/abt3_projects/Georg_animal_feces/data/16S/LLA/georg//georg_demux.qza | 4071486022          | FALSE               | 644                 | 2017-12-04 14:12:32 | 2017-12-04 14:12:32 | 2017-12-04 14:05:58 | 6354                | 353                 | nyoungblut          | abt3                | \n",
       "\n",
       "\n"
      ],
      "text/plain": [
       "                                                                           size      \n",
       "/ebio/abt3_projects/Georg_animal_feces/data/16S/LLA/georg//georg_demux.qza 4071486022\n",
       "                                                                           isdir\n",
       "/ebio/abt3_projects/Georg_animal_feces/data/16S/LLA/georg//georg_demux.qza FALSE\n",
       "                                                                           mode\n",
       "/ebio/abt3_projects/Georg_animal_feces/data/16S/LLA/georg//georg_demux.qza 644 \n",
       "                                                                           mtime              \n",
       "/ebio/abt3_projects/Georg_animal_feces/data/16S/LLA/georg//georg_demux.qza 2017-12-04 14:12:32\n",
       "                                                                           ctime              \n",
       "/ebio/abt3_projects/Georg_animal_feces/data/16S/LLA/georg//georg_demux.qza 2017-12-04 14:12:32\n",
       "                                                                           atime              \n",
       "/ebio/abt3_projects/Georg_animal_feces/data/16S/LLA/georg//georg_demux.qza 2017-12-04 14:05:58\n",
       "                                                                           uid \n",
       "/ebio/abt3_projects/Georg_animal_feces/data/16S/LLA/georg//georg_demux.qza 6354\n",
       "                                                                           gid\n",
       "/ebio/abt3_projects/Georg_animal_feces/data/16S/LLA/georg//georg_demux.qza 353\n",
       "                                                                           uname     \n",
       "/ebio/abt3_projects/Georg_animal_feces/data/16S/LLA/georg//georg_demux.qza nyoungblut\n",
       "                                                                           grname\n",
       "/ebio/abt3_projects/Georg_animal_feces/data/16S/LLA/georg//georg_demux.qza abt3  "
      ]
     },
     "metadata": {},
     "output_type": "display_data"
    }
   ],
   "source": [
    "# paths\n",
    "tmp_dir = file.path(georg_demux_dir, 'tmp')\n",
    "make_dir(tmp_dir)\n",
    "\n",
    "demux_file = file.path(georg_demux_dir, 'georg_demux.qza')\n",
    "file.info(demux_file)"
   ]
  },
  {
   "cell_type": "code",
   "execution_count": 8,
   "metadata": {
    "ExecuteTime": {
     "end_time": "2018-10-16T08:56:13.199853Z",
     "start_time": "2018-10-16T08:55:38.925Z"
    }
   },
   "outputs": [
    {
     "data": {
      "text/html": [],
      "text/latex": [],
      "text/markdown": [],
      "text/plain": [
       "character(0)"
      ]
     },
     "metadata": {},
     "output_type": "display_data"
    }
   ],
   "source": [
    "# exporting\n",
    "cmd = 'qiime tools export --output-dir %s %s'\n",
    "cmd = sprintf(cmd, tmp_dir, demux_file)\n",
    "bash_job(cmd, conda_env)"
   ]
  },
  {
   "cell_type": "markdown",
   "metadata": {},
   "source": [
    "## Tony"
   ]
  },
  {
   "cell_type": "code",
   "execution_count": 9,
   "metadata": {
    "ExecuteTime": {
     "end_time": "2018-10-16T08:56:13.280513Z",
     "start_time": "2018-10-16T08:56:14.228Z"
    }
   },
   "outputs": [
    {
     "name": "stdout",
     "output_type": "stream",
     "text": [
      "Created directory: /ebio/abt3_projects/Georg_animal_feces/data/16S/LLA/tony//tmp \n"
     ]
    },
    {
     "data": {
      "text/html": [
       "<table>\n",
       "<thead><tr><th></th><th scope=col>size</th><th scope=col>isdir</th><th scope=col>mode</th><th scope=col>mtime</th><th scope=col>ctime</th><th scope=col>atime</th><th scope=col>uid</th><th scope=col>gid</th><th scope=col>uname</th><th scope=col>grname</th></tr></thead>\n",
       "<tbody>\n",
       "\t<tr><th scope=row>/ebio/abt3_projects/Georg_animal_feces/data/16S/LLA/tony//tony_demux.qza</th><td>3706828419         </td><td>FALSE              </td><td>644                </td><td>2017-12-04 17:03:26</td><td>2017-12-04 17:03:26</td><td>2017-12-04 16:57:25</td><td>6354               </td><td>353                </td><td>nyoungblut         </td><td>abt3               </td></tr>\n",
       "</tbody>\n",
       "</table>\n"
      ],
      "text/latex": [
       "\\begin{tabular}{r|llllllllll}\n",
       "  & size & isdir & mode & mtime & ctime & atime & uid & gid & uname & grname\\\\\n",
       "\\hline\n",
       "\t/ebio/abt3\\_projects/Georg\\_animal\\_feces/data/16S/LLA/tony//tony\\_demux.qza & 3706828419          & FALSE               & 644                 & 2017-12-04 17:03:26 & 2017-12-04 17:03:26 & 2017-12-04 16:57:25 & 6354                & 353                 & nyoungblut          & abt3               \\\\\n",
       "\\end{tabular}\n"
      ],
      "text/markdown": [
       "\n",
       "| <!--/--> | size | isdir | mode | mtime | ctime | atime | uid | gid | uname | grname | \n",
       "|---|\n",
       "| /ebio/abt3_projects/Georg_animal_feces/data/16S/LLA/tony//tony_demux.qza | 3706828419          | FALSE               | 644                 | 2017-12-04 17:03:26 | 2017-12-04 17:03:26 | 2017-12-04 16:57:25 | 6354                | 353                 | nyoungblut          | abt3                | \n",
       "\n",
       "\n"
      ],
      "text/plain": [
       "                                                                         size      \n",
       "/ebio/abt3_projects/Georg_animal_feces/data/16S/LLA/tony//tony_demux.qza 3706828419\n",
       "                                                                         isdir\n",
       "/ebio/abt3_projects/Georg_animal_feces/data/16S/LLA/tony//tony_demux.qza FALSE\n",
       "                                                                         mode\n",
       "/ebio/abt3_projects/Georg_animal_feces/data/16S/LLA/tony//tony_demux.qza 644 \n",
       "                                                                         mtime              \n",
       "/ebio/abt3_projects/Georg_animal_feces/data/16S/LLA/tony//tony_demux.qza 2017-12-04 17:03:26\n",
       "                                                                         ctime              \n",
       "/ebio/abt3_projects/Georg_animal_feces/data/16S/LLA/tony//tony_demux.qza 2017-12-04 17:03:26\n",
       "                                                                         atime              \n",
       "/ebio/abt3_projects/Georg_animal_feces/data/16S/LLA/tony//tony_demux.qza 2017-12-04 16:57:25\n",
       "                                                                         uid \n",
       "/ebio/abt3_projects/Georg_animal_feces/data/16S/LLA/tony//tony_demux.qza 6354\n",
       "                                                                         gid\n",
       "/ebio/abt3_projects/Georg_animal_feces/data/16S/LLA/tony//tony_demux.qza 353\n",
       "                                                                         uname     \n",
       "/ebio/abt3_projects/Georg_animal_feces/data/16S/LLA/tony//tony_demux.qza nyoungblut\n",
       "                                                                         grname\n",
       "/ebio/abt3_projects/Georg_animal_feces/data/16S/LLA/tony//tony_demux.qza abt3  "
      ]
     },
     "metadata": {},
     "output_type": "display_data"
    }
   ],
   "source": [
    "# paths\n",
    "tmp_dir = file.path(tony_demux_dir, 'tmp')\n",
    "make_dir(tmp_dir)\n",
    "\n",
    "demux_file = file.path(tony_demux_dir, 'tony_demux.qza')\n",
    "file.info(demux_file)"
   ]
  },
  {
   "cell_type": "code",
   "execution_count": 10,
   "metadata": {
    "ExecuteTime": {
     "end_time": "2018-10-16T08:57:10.849449Z",
     "start_time": "2018-10-16T08:56:34.793Z"
    }
   },
   "outputs": [
    {
     "data": {
      "text/html": [],
      "text/latex": [],
      "text/markdown": [],
      "text/plain": [
       "character(0)"
      ]
     },
     "metadata": {},
     "output_type": "display_data"
    }
   ],
   "source": [
    "# exporting\n",
    "cmd = 'qiime tools export --output-dir %s %s'\n",
    "cmd = sprintf(cmd, tmp_dir, demux_file)\n",
    "bash_job(cmd, conda_env)"
   ]
  },
  {
   "cell_type": "markdown",
   "metadata": {},
   "source": [
    "# Copying reads to /tmp/global/"
   ]
  },
  {
   "cell_type": "code",
   "execution_count": 39,
   "metadata": {
    "ExecuteTime": {
     "end_time": "2018-10-16T09:14:13.732917Z",
     "start_time": "2018-10-16T09:14:02.896Z"
    }
   },
   "outputs": [
    {
     "data": {
      "text/html": [],
      "text/latex": [],
      "text/markdown": [],
      "text/plain": [
       "character(0)"
      ]
     },
     "metadata": {},
     "output_type": "display_data"
    }
   ],
   "source": [
    "# georg\n",
    "from_dir = '/ebio/abt3_projects/Georg_animal_feces/data/16S/LLA/georg/tmp/'\n",
    "to_dir = file.path(work_dir, 'georg/')\n",
    "cmd = sprintf('cp -r %s %s', from_dir, to_dir)\n",
    "bash_job(cmd, conda_env)"
   ]
  },
  {
   "cell_type": "code",
   "execution_count": 40,
   "metadata": {
    "ExecuteTime": {
     "end_time": "2018-10-16T09:14:36.285339Z",
     "start_time": "2018-10-16T09:14:22.318Z"
    }
   },
   "outputs": [
    {
     "data": {
      "text/html": [],
      "text/latex": [],
      "text/markdown": [],
      "text/plain": [
       "character(0)"
      ]
     },
     "metadata": {},
     "output_type": "display_data"
    }
   ],
   "source": [
    "# tony\n",
    "from_dir = '/ebio/abt3_projects/Georg_animal_feces/data/16S/LLA/tony/tmp/'\n",
    "to_dir = file.path(work_dir, 'tony/')\n",
    "cmd = sprintf('cp -r %s %s', from_dir, to_dir)\n",
    "bash_job(cmd, conda_env)"
   ]
  },
  {
   "cell_type": "markdown",
   "metadata": {},
   "source": [
    "# Create csv for local SRA upload\n",
    "\n",
    "**Columns:**\n",
    "\n",
    "* filename = variable\n",
    "* RunID = ?\n",
    "* Lane = 1\n",
    "* SampleID = variable\n",
    "* Person = NickYoungblut\n",
    "* Project = Georg_animal_gut\n",
    "* Demux = yes\n",
    "* SequencerID = ?"
   ]
  },
  {
   "cell_type": "markdown",
   "metadata": {},
   "source": [
    "## load/join"
   ]
  },
  {
   "cell_type": "code",
   "execution_count": 41,
   "metadata": {
    "ExecuteTime": {
     "end_time": "2018-10-16T09:14:58.088242Z",
     "start_time": "2018-10-16T09:15:00.340Z"
    }
   },
   "outputs": [
    {
     "name": "stdout",
     "output_type": "stream",
     "text": [
      "[1] 344   4\n"
     ]
    },
    {
     "data": {
      "text/html": [
       "<table>\n",
       "<thead><tr><th scope=col>sample.id</th><th scope=col>filename</th><th scope=col>direction</th><th scope=col>RunID</th></tr></thead>\n",
       "<tbody>\n",
       "\t<tr><td>122.Wild.Boar                                                                                    </td><td>/tmp/global2/nyoungblut/Georg_animal_gut_16s/georg//122.Wild.Boar_1_L001_R1_001.fastq.gz         </td><td>forward                                                                                          </td><td>georg                                                                                            </td></tr>\n",
       "\t<tr><td>122.Wild.Boar                                                                                    </td><td>/tmp/global2/nyoungblut/Georg_animal_gut_16s/georg//122.Wild.Boar_1_L001_R2_001.fastq.gz         </td><td>reverse                                                                                          </td><td>georg                                                                                            </td></tr>\n",
       "\t<tr><td>158.White.tailed.Eagle                                                                           </td><td>/tmp/global2/nyoungblut/Georg_animal_gut_16s/georg//158.White.tailed.Eagle_2_L001_R1_001.fastq.gz</td><td>forward                                                                                          </td><td>georg                                                                                            </td></tr>\n",
       "</tbody>\n",
       "</table>\n"
      ],
      "text/latex": [
       "\\begin{tabular}{r|llll}\n",
       " sample.id & filename & direction & RunID\\\\\n",
       "\\hline\n",
       "\t 122.Wild.Boar                                                                                                   & /tmp/global2/nyoungblut/Georg\\_animal\\_gut\\_16s/georg//122.Wild.Boar\\_1\\_L001\\_R1\\_001.fastq.gz          & forward                                                                                                         & georg                                                                                                          \\\\\n",
       "\t 122.Wild.Boar                                                                                                   & /tmp/global2/nyoungblut/Georg\\_animal\\_gut\\_16s/georg//122.Wild.Boar\\_1\\_L001\\_R2\\_001.fastq.gz          & reverse                                                                                                         & georg                                                                                                          \\\\\n",
       "\t 158.White.tailed.Eagle                                                                                          & /tmp/global2/nyoungblut/Georg\\_animal\\_gut\\_16s/georg//158.White.tailed.Eagle\\_2\\_L001\\_R1\\_001.fastq.gz & forward                                                                                                         & georg                                                                                                          \\\\\n",
       "\\end{tabular}\n"
      ],
      "text/markdown": [
       "\n",
       "sample.id | filename | direction | RunID | \n",
       "|---|---|---|\n",
       "| 122.Wild.Boar                                                                                     | /tmp/global2/nyoungblut/Georg_animal_gut_16s/georg//122.Wild.Boar_1_L001_R1_001.fastq.gz          | forward                                                                                           | georg                                                                                             | \n",
       "| 122.Wild.Boar                                                                                     | /tmp/global2/nyoungblut/Georg_animal_gut_16s/georg//122.Wild.Boar_1_L001_R2_001.fastq.gz          | reverse                                                                                           | georg                                                                                             | \n",
       "| 158.White.tailed.Eagle                                                                            | /tmp/global2/nyoungblut/Georg_animal_gut_16s/georg//158.White.tailed.Eagle_2_L001_R1_001.fastq.gz | forward                                                                                           | georg                                                                                             | \n",
       "\n",
       "\n"
      ],
      "text/plain": [
       "  sample.id             \n",
       "1 122.Wild.Boar         \n",
       "2 122.Wild.Boar         \n",
       "3 158.White.tailed.Eagle\n",
       "  filename                                                                                         \n",
       "1 /tmp/global2/nyoungblut/Georg_animal_gut_16s/georg//122.Wild.Boar_1_L001_R1_001.fastq.gz         \n",
       "2 /tmp/global2/nyoungblut/Georg_animal_gut_16s/georg//122.Wild.Boar_1_L001_R2_001.fastq.gz         \n",
       "3 /tmp/global2/nyoungblut/Georg_animal_gut_16s/georg//158.White.tailed.Eagle_2_L001_R1_001.fastq.gz\n",
       "  direction RunID\n",
       "1 forward   georg\n",
       "2 reverse   georg\n",
       "3 forward   georg"
      ]
     },
     "metadata": {},
     "output_type": "display_data"
    }
   ],
   "source": [
    "# loading manifest: georg\n",
    "manifest_georg_file = file.path(georg_demux_dir, 'tmp', 'MANIFEST')\n",
    "read_dir = '/tmp/global2/nyoungblut/Georg_animal_gut_16s/georg/'\n",
    "manifest_georg = read.delim(manifest_georg_file, sep=',') %>%\n",
    "    mutate(filename = file.path(read_dir, filename),\n",
    "           RunID = 'georg')\n",
    "manifest_georg %>% dfhead"
   ]
  },
  {
   "cell_type": "code",
   "execution_count": 42,
   "metadata": {
    "ExecuteTime": {
     "end_time": "2018-10-16T09:15:10.088691Z",
     "start_time": "2018-10-16T09:15:12.340Z"
    }
   },
   "outputs": [
    {
     "name": "stdout",
     "output_type": "stream",
     "text": [
      "[1] 308   4\n"
     ]
    },
    {
     "data": {
      "text/html": [
       "<table>\n",
       "<thead><tr><th scope=col>sample.id</th><th scope=col>filename</th><th scope=col>direction</th><th scope=col>RunID</th></tr></thead>\n",
       "<tbody>\n",
       "\t<tr><td>322.Red.Deer                                                                          </td><td>/tmp/global2/nyoungblut/Georg_animal_gut_16s/tony//322.Red.Deer_1_L001_R1_001.fastq.gz</td><td>forward                                                                               </td><td>tony                                                                                  </td></tr>\n",
       "\t<tr><td>322.Red.Deer                                                                          </td><td>/tmp/global2/nyoungblut/Georg_animal_gut_16s/tony//322.Red.Deer_1_L001_R2_001.fastq.gz</td><td>reverse                                                                               </td><td>tony                                                                                  </td></tr>\n",
       "\t<tr><td>215.Goose                                                                             </td><td>/tmp/global2/nyoungblut/Georg_animal_gut_16s/tony//215.Goose_2_L001_R1_001.fastq.gz   </td><td>forward                                                                               </td><td>tony                                                                                  </td></tr>\n",
       "</tbody>\n",
       "</table>\n"
      ],
      "text/latex": [
       "\\begin{tabular}{r|llll}\n",
       " sample.id & filename & direction & RunID\\\\\n",
       "\\hline\n",
       "\t 322.Red.Deer                                                                                         & /tmp/global2/nyoungblut/Georg\\_animal\\_gut\\_16s/tony//322.Red.Deer\\_1\\_L001\\_R1\\_001.fastq.gz & forward                                                                                              & tony                                                                                                \\\\\n",
       "\t 322.Red.Deer                                                                                         & /tmp/global2/nyoungblut/Georg\\_animal\\_gut\\_16s/tony//322.Red.Deer\\_1\\_L001\\_R2\\_001.fastq.gz & reverse                                                                                              & tony                                                                                                \\\\\n",
       "\t 215.Goose                                                                                            & /tmp/global2/nyoungblut/Georg\\_animal\\_gut\\_16s/tony//215.Goose\\_2\\_L001\\_R1\\_001.fastq.gz    & forward                                                                                              & tony                                                                                                \\\\\n",
       "\\end{tabular}\n"
      ],
      "text/markdown": [
       "\n",
       "sample.id | filename | direction | RunID | \n",
       "|---|---|---|\n",
       "| 322.Red.Deer                                                                           | /tmp/global2/nyoungblut/Georg_animal_gut_16s/tony//322.Red.Deer_1_L001_R1_001.fastq.gz | forward                                                                                | tony                                                                                   | \n",
       "| 322.Red.Deer                                                                           | /tmp/global2/nyoungblut/Georg_animal_gut_16s/tony//322.Red.Deer_1_L001_R2_001.fastq.gz | reverse                                                                                | tony                                                                                   | \n",
       "| 215.Goose                                                                              | /tmp/global2/nyoungblut/Georg_animal_gut_16s/tony//215.Goose_2_L001_R1_001.fastq.gz    | forward                                                                                | tony                                                                                   | \n",
       "\n",
       "\n"
      ],
      "text/plain": [
       "  sample.id   \n",
       "1 322.Red.Deer\n",
       "2 322.Red.Deer\n",
       "3 215.Goose   \n",
       "  filename                                                                              \n",
       "1 /tmp/global2/nyoungblut/Georg_animal_gut_16s/tony//322.Red.Deer_1_L001_R1_001.fastq.gz\n",
       "2 /tmp/global2/nyoungblut/Georg_animal_gut_16s/tony//322.Red.Deer_1_L001_R2_001.fastq.gz\n",
       "3 /tmp/global2/nyoungblut/Georg_animal_gut_16s/tony//215.Goose_2_L001_R1_001.fastq.gz   \n",
       "  direction RunID\n",
       "1 forward   tony \n",
       "2 reverse   tony \n",
       "3 forward   tony "
      ]
     },
     "metadata": {},
     "output_type": "display_data"
    }
   ],
   "source": [
    "# loading manifest: tony\n",
    "manifest_tony_file = file.path(tony_demux_dir, 'tmp', 'MANIFEST')\n",
    "read_dir = '/tmp/global2/nyoungblut/Georg_animal_gut_16s/tony/'\n",
    "manifest_tony = read.delim(manifest_tony_file, sep=',') %>%\n",
    "    mutate(filename = file.path(read_dir, filename),\n",
    "           RunID = 'tony')\n",
    "manifest_tony %>% dfhead"
   ]
  },
  {
   "cell_type": "code",
   "execution_count": 43,
   "metadata": {
    "ExecuteTime": {
     "end_time": "2018-10-16T09:15:15.386591Z",
     "start_time": "2018-10-16T09:15:17.654Z"
    }
   },
   "outputs": [
    {
     "name": "stdout",
     "output_type": "stream",
     "text": [
      "[1] 652   4\n"
     ]
    },
    {
     "data": {
      "text/html": [
       "<table>\n",
       "<thead><tr><th scope=col>sample.id</th><th scope=col>filename</th><th scope=col>direction</th><th scope=col>RunID</th></tr></thead>\n",
       "<tbody>\n",
       "\t<tr><td>122.Wild.Boar                                                                                    </td><td>/tmp/global2/nyoungblut/Georg_animal_gut_16s/georg//122.Wild.Boar_1_L001_R1_001.fastq.gz         </td><td>forward                                                                                          </td><td>georg                                                                                            </td></tr>\n",
       "\t<tr><td>122.Wild.Boar                                                                                    </td><td>/tmp/global2/nyoungblut/Georg_animal_gut_16s/georg//122.Wild.Boar_1_L001_R2_001.fastq.gz         </td><td>reverse                                                                                          </td><td>georg                                                                                            </td></tr>\n",
       "\t<tr><td>158.White.tailed.Eagle                                                                           </td><td>/tmp/global2/nyoungblut/Georg_animal_gut_16s/georg//158.White.tailed.Eagle_2_L001_R1_001.fastq.gz</td><td>forward                                                                                          </td><td>georg                                                                                            </td></tr>\n",
       "</tbody>\n",
       "</table>\n"
      ],
      "text/latex": [
       "\\begin{tabular}{r|llll}\n",
       " sample.id & filename & direction & RunID\\\\\n",
       "\\hline\n",
       "\t 122.Wild.Boar                                                                                                   & /tmp/global2/nyoungblut/Georg\\_animal\\_gut\\_16s/georg//122.Wild.Boar\\_1\\_L001\\_R1\\_001.fastq.gz          & forward                                                                                                         & georg                                                                                                          \\\\\n",
       "\t 122.Wild.Boar                                                                                                   & /tmp/global2/nyoungblut/Georg\\_animal\\_gut\\_16s/georg//122.Wild.Boar\\_1\\_L001\\_R2\\_001.fastq.gz          & reverse                                                                                                         & georg                                                                                                          \\\\\n",
       "\t 158.White.tailed.Eagle                                                                                          & /tmp/global2/nyoungblut/Georg\\_animal\\_gut\\_16s/georg//158.White.tailed.Eagle\\_2\\_L001\\_R1\\_001.fastq.gz & forward                                                                                                         & georg                                                                                                          \\\\\n",
       "\\end{tabular}\n"
      ],
      "text/markdown": [
       "\n",
       "sample.id | filename | direction | RunID | \n",
       "|---|---|---|\n",
       "| 122.Wild.Boar                                                                                     | /tmp/global2/nyoungblut/Georg_animal_gut_16s/georg//122.Wild.Boar_1_L001_R1_001.fastq.gz          | forward                                                                                           | georg                                                                                             | \n",
       "| 122.Wild.Boar                                                                                     | /tmp/global2/nyoungblut/Georg_animal_gut_16s/georg//122.Wild.Boar_1_L001_R2_001.fastq.gz          | reverse                                                                                           | georg                                                                                             | \n",
       "| 158.White.tailed.Eagle                                                                            | /tmp/global2/nyoungblut/Georg_animal_gut_16s/georg//158.White.tailed.Eagle_2_L001_R1_001.fastq.gz | forward                                                                                           | georg                                                                                             | \n",
       "\n",
       "\n"
      ],
      "text/plain": [
       "  sample.id             \n",
       "1 122.Wild.Boar         \n",
       "2 122.Wild.Boar         \n",
       "3 158.White.tailed.Eagle\n",
       "  filename                                                                                         \n",
       "1 /tmp/global2/nyoungblut/Georg_animal_gut_16s/georg//122.Wild.Boar_1_L001_R1_001.fastq.gz         \n",
       "2 /tmp/global2/nyoungblut/Georg_animal_gut_16s/georg//122.Wild.Boar_1_L001_R2_001.fastq.gz         \n",
       "3 /tmp/global2/nyoungblut/Georg_animal_gut_16s/georg//158.White.tailed.Eagle_2_L001_R1_001.fastq.gz\n",
       "  direction RunID\n",
       "1 forward   georg\n",
       "2 reverse   georg\n",
       "3 forward   georg"
      ]
     },
     "metadata": {},
     "output_type": "display_data"
    }
   ],
   "source": [
    "# joining manifest files\n",
    "manifest = rbind(manifest_georg, manifest_tony)\n",
    "manifest %>% dfhead"
   ]
  },
  {
   "cell_type": "code",
   "execution_count": 44,
   "metadata": {
    "ExecuteTime": {
     "end_time": "2018-10-16T09:15:15.503302Z",
     "start_time": "2018-10-16T09:15:17.781Z"
    }
   },
   "outputs": [
    {
     "name": "stdout",
     "output_type": "stream",
     "text": [
      "[1] 0\n",
      "[1] 106\n"
     ]
    }
   ],
   "source": [
    "# overlap with metadata\n",
    "setdiff(metadata$Sample, manifest$sample.id) %>% length %>% print\n",
    "setdiff(manifest$sample.id, metadata$Sample) %>% length %>% print"
   ]
  },
  {
   "cell_type": "code",
   "execution_count": 45,
   "metadata": {
    "ExecuteTime": {
     "end_time": "2018-10-16T09:15:15.616777Z",
     "start_time": "2018-10-16T09:15:17.876Z"
    }
   },
   "outputs": [
    {
     "name": "stderr",
     "output_type": "stream",
     "text": [
      "Warning message:\n",
      "“Column `sample.id`/`Sample` joining factor and character vector, coercing into character vector”"
     ]
    },
    {
     "name": "stdout",
     "output_type": "stream",
     "text": [
      "[1] 434   5\n"
     ]
    },
    {
     "data": {
      "text/html": [
       "<table>\n",
       "<thead><tr><th scope=col>sample.id</th><th scope=col>filename</th><th scope=col>direction</th><th scope=col>RunID</th><th scope=col>scientific_name</th></tr></thead>\n",
       "<tbody>\n",
       "\t<tr><td>122.Wild.Boar                                                                                    </td><td>/tmp/global2/nyoungblut/Georg_animal_gut_16s/georg//122.Wild.Boar_1_L001_R1_001.fastq.gz         </td><td>forward                                                                                          </td><td>georg                                                                                            </td><td>Sus_scrofa                                                                                       </td></tr>\n",
       "\t<tr><td>122.Wild.Boar                                                                                    </td><td>/tmp/global2/nyoungblut/Georg_animal_gut_16s/georg//122.Wild.Boar_1_L001_R2_001.fastq.gz         </td><td>reverse                                                                                          </td><td>georg                                                                                            </td><td>Sus_scrofa                                                                                       </td></tr>\n",
       "\t<tr><td>158.White.tailed.Eagle                                                                           </td><td>/tmp/global2/nyoungblut/Georg_animal_gut_16s/georg//158.White.tailed.Eagle_2_L001_R1_001.fastq.gz</td><td>forward                                                                                          </td><td>georg                                                                                            </td><td>Haliaeetus_albicilla                                                                             </td></tr>\n",
       "</tbody>\n",
       "</table>\n"
      ],
      "text/latex": [
       "\\begin{tabular}{r|lllll}\n",
       " sample.id & filename & direction & RunID & scientific\\_name\\\\\n",
       "\\hline\n",
       "\t 122.Wild.Boar                                                                                                   & /tmp/global2/nyoungblut/Georg\\_animal\\_gut\\_16s/georg//122.Wild.Boar\\_1\\_L001\\_R1\\_001.fastq.gz          & forward                                                                                                         & georg                                                                                                           & Sus\\_scrofa                                                                                                   \\\\\n",
       "\t 122.Wild.Boar                                                                                                   & /tmp/global2/nyoungblut/Georg\\_animal\\_gut\\_16s/georg//122.Wild.Boar\\_1\\_L001\\_R2\\_001.fastq.gz          & reverse                                                                                                         & georg                                                                                                           & Sus\\_scrofa                                                                                                   \\\\\n",
       "\t 158.White.tailed.Eagle                                                                                          & /tmp/global2/nyoungblut/Georg\\_animal\\_gut\\_16s/georg//158.White.tailed.Eagle\\_2\\_L001\\_R1\\_001.fastq.gz & forward                                                                                                         & georg                                                                                                           & Haliaeetus\\_albicilla                                                                                         \\\\\n",
       "\\end{tabular}\n"
      ],
      "text/markdown": [
       "\n",
       "sample.id | filename | direction | RunID | scientific_name | \n",
       "|---|---|---|\n",
       "| 122.Wild.Boar                                                                                     | /tmp/global2/nyoungblut/Georg_animal_gut_16s/georg//122.Wild.Boar_1_L001_R1_001.fastq.gz          | forward                                                                                           | georg                                                                                             | Sus_scrofa                                                                                        | \n",
       "| 122.Wild.Boar                                                                                     | /tmp/global2/nyoungblut/Georg_animal_gut_16s/georg//122.Wild.Boar_1_L001_R2_001.fastq.gz          | reverse                                                                                           | georg                                                                                             | Sus_scrofa                                                                                        | \n",
       "| 158.White.tailed.Eagle                                                                            | /tmp/global2/nyoungblut/Georg_animal_gut_16s/georg//158.White.tailed.Eagle_2_L001_R1_001.fastq.gz | forward                                                                                           | georg                                                                                             | Haliaeetus_albicilla                                                                              | \n",
       "\n",
       "\n"
      ],
      "text/plain": [
       "  sample.id             \n",
       "1 122.Wild.Boar         \n",
       "2 122.Wild.Boar         \n",
       "3 158.White.tailed.Eagle\n",
       "  filename                                                                                         \n",
       "1 /tmp/global2/nyoungblut/Georg_animal_gut_16s/georg//122.Wild.Boar_1_L001_R1_001.fastq.gz         \n",
       "2 /tmp/global2/nyoungblut/Georg_animal_gut_16s/georg//122.Wild.Boar_1_L001_R2_001.fastq.gz         \n",
       "3 /tmp/global2/nyoungblut/Georg_animal_gut_16s/georg//158.White.tailed.Eagle_2_L001_R1_001.fastq.gz\n",
       "  direction RunID scientific_name     \n",
       "1 forward   georg Sus_scrofa          \n",
       "2 reverse   georg Sus_scrofa          \n",
       "3 forward   georg Haliaeetus_albicilla"
      ]
     },
     "metadata": {},
     "output_type": "display_data"
    }
   ],
   "source": [
    "# joining with metadata\n",
    "manifest = manifest %>%\n",
    "    inner_join(metadata, c('sample.id'='Sample'))\n",
    "\n",
    "manifest %>% dfhead"
   ]
  },
  {
   "cell_type": "code",
   "execution_count": 46,
   "metadata": {
    "ExecuteTime": {
     "end_time": "2018-10-16T09:15:16.594989Z",
     "start_time": "2018-10-16T09:15:18.853Z"
    }
   },
   "outputs": [
    {
     "name": "stdout",
     "output_type": "stream",
     "text": [
      ".\n",
      "  2   4 \n",
      "209   4 \n"
     ]
    },
    {
     "data": {
      "text/html": [
       "<table>\n",
       "<thead><tr><th scope=col>sample.id</th><th scope=col>n</th></tr></thead>\n",
       "<tbody>\n",
       "\t<tr><td>279.Western.Grey.Kangaroo   </td><td>4                           </td></tr>\n",
       "\t<tr><td>298.Horsfields.Bronze.Cuckoo</td><td>4                           </td></tr>\n",
       "\t<tr><td>398.Eurasian.Reed.Warbler   </td><td>4                           </td></tr>\n",
       "\t<tr><td>F300.Asp                    </td><td>4                           </td></tr>\n",
       "</tbody>\n",
       "</table>\n"
      ],
      "text/latex": [
       "\\begin{tabular}{r|ll}\n",
       " sample.id & n\\\\\n",
       "\\hline\n",
       "\t 279.Western.Grey.Kangaroo    & 4                           \\\\\n",
       "\t 298.Horsfields.Bronze.Cuckoo & 4                           \\\\\n",
       "\t 398.Eurasian.Reed.Warbler    & 4                           \\\\\n",
       "\t F300.Asp                     & 4                           \\\\\n",
       "\\end{tabular}\n"
      ],
      "text/markdown": [
       "\n",
       "sample.id | n | \n",
       "|---|---|---|---|\n",
       "| 279.Western.Grey.Kangaroo    | 4                            | \n",
       "| 298.Horsfields.Bronze.Cuckoo | 4                            | \n",
       "| 398.Eurasian.Reed.Warbler    | 4                            | \n",
       "| F300.Asp                     | 4                            | \n",
       "\n",
       "\n"
      ],
      "text/plain": [
       "  sample.id                    n\n",
       "1 279.Western.Grey.Kangaroo    4\n",
       "2 298.Horsfields.Bronze.Cuckoo 4\n",
       "3 398.Eurasian.Reed.Warbler    4\n",
       "4 F300.Asp                     4"
      ]
     },
     "metadata": {},
     "output_type": "display_data"
    }
   ],
   "source": [
    "# duplicate samples?\n",
    "manifest %>%\n",
    "    group_by(sample.id) %>%\n",
    "    summarize(n = n()) %>%\n",
    "    ungroup() %>%\n",
    "    .$n %>% table %>% print\n",
    "\n",
    "manifest %>%\n",
    "    group_by(sample.id) %>%\n",
    "    summarize(n = n()) %>%\n",
    "    ungroup() %>%\n",
    "    filter(n == 4)"
   ]
  },
  {
   "cell_type": "markdown",
   "metadata": {},
   "source": [
    "## formatting"
   ]
  },
  {
   "cell_type": "code",
   "execution_count": 53,
   "metadata": {
    "ExecuteTime": {
     "end_time": "2018-10-16T09:23:46.603781Z",
     "start_time": "2018-10-16T09:23:48.857Z"
    }
   },
   "outputs": [
    {
     "name": "stdout",
     "output_type": "stream",
     "text": [
      "[1] 434   8\n"
     ]
    },
    {
     "data": {
      "text/html": [
       "<table>\n",
       "<thead><tr><th scope=col>filename</th><th scope=col>RunID</th><th scope=col>Lane</th><th scope=col>SampleID</th><th scope=col>Person</th><th scope=col>Project</th><th scope=col>Demux</th><th scope=col>SequencerID</th></tr></thead>\n",
       "<tbody>\n",
       "\t<tr><td>/tmp/global2/nyoungblut/Georg_animal_gut_16s/georg//122.Wild.Boar_1_L001_R1_001.fastq.gz         </td><td>georg                                                                                            </td><td>1                                                                                                </td><td>122.Wild.Boar                                                                                    </td><td>NickYoungblut                                                                                    </td><td>Georg_animal_gut                                                                                 </td><td>yes                                                                                              </td><td>M01032                                                                                           </td></tr>\n",
       "\t<tr><td>/tmp/global2/nyoungblut/Georg_animal_gut_16s/georg//122.Wild.Boar_1_L001_R2_001.fastq.gz         </td><td>georg                                                                                            </td><td>1                                                                                                </td><td>122.Wild.Boar                                                                                    </td><td>NickYoungblut                                                                                    </td><td>Georg_animal_gut                                                                                 </td><td>yes                                                                                              </td><td>M01032                                                                                           </td></tr>\n",
       "\t<tr><td>/tmp/global2/nyoungblut/Georg_animal_gut_16s/georg//158.White.tailed.Eagle_2_L001_R1_001.fastq.gz</td><td>georg                                                                                            </td><td>1                                                                                                </td><td>158.White.tailed.Eagle                                                                           </td><td>NickYoungblut                                                                                    </td><td>Georg_animal_gut                                                                                 </td><td>yes                                                                                              </td><td>M01032                                                                                           </td></tr>\n",
       "</tbody>\n",
       "</table>\n"
      ],
      "text/latex": [
       "\\begin{tabular}{r|llllllll}\n",
       " filename & RunID & Lane & SampleID & Person & Project & Demux & SequencerID\\\\\n",
       "\\hline\n",
       "\t /tmp/global2/nyoungblut/Georg\\_animal\\_gut\\_16s/georg//122.Wild.Boar\\_1\\_L001\\_R1\\_001.fastq.gz          & georg                                                                                                           & 1                                                                                                               & 122.Wild.Boar                                                                                                   & NickYoungblut                                                                                                   & Georg\\_animal\\_gut                                                                                            & yes                                                                                                             & M01032                                                                                                         \\\\\n",
       "\t /tmp/global2/nyoungblut/Georg\\_animal\\_gut\\_16s/georg//122.Wild.Boar\\_1\\_L001\\_R2\\_001.fastq.gz          & georg                                                                                                           & 1                                                                                                               & 122.Wild.Boar                                                                                                   & NickYoungblut                                                                                                   & Georg\\_animal\\_gut                                                                                            & yes                                                                                                             & M01032                                                                                                         \\\\\n",
       "\t /tmp/global2/nyoungblut/Georg\\_animal\\_gut\\_16s/georg//158.White.tailed.Eagle\\_2\\_L001\\_R1\\_001.fastq.gz & georg                                                                                                           & 1                                                                                                               & 158.White.tailed.Eagle                                                                                          & NickYoungblut                                                                                                   & Georg\\_animal\\_gut                                                                                            & yes                                                                                                             & M01032                                                                                                         \\\\\n",
       "\\end{tabular}\n"
      ],
      "text/markdown": [
       "\n",
       "filename | RunID | Lane | SampleID | Person | Project | Demux | SequencerID | \n",
       "|---|---|---|\n",
       "| /tmp/global2/nyoungblut/Georg_animal_gut_16s/georg//122.Wild.Boar_1_L001_R1_001.fastq.gz          | georg                                                                                             | 1                                                                                                 | 122.Wild.Boar                                                                                     | NickYoungblut                                                                                     | Georg_animal_gut                                                                                  | yes                                                                                               | M01032                                                                                            | \n",
       "| /tmp/global2/nyoungblut/Georg_animal_gut_16s/georg//122.Wild.Boar_1_L001_R2_001.fastq.gz          | georg                                                                                             | 1                                                                                                 | 122.Wild.Boar                                                                                     | NickYoungblut                                                                                     | Georg_animal_gut                                                                                  | yes                                                                                               | M01032                                                                                            | \n",
       "| /tmp/global2/nyoungblut/Georg_animal_gut_16s/georg//158.White.tailed.Eagle_2_L001_R1_001.fastq.gz | georg                                                                                             | 1                                                                                                 | 158.White.tailed.Eagle                                                                            | NickYoungblut                                                                                     | Georg_animal_gut                                                                                  | yes                                                                                               | M01032                                                                                            | \n",
       "\n",
       "\n"
      ],
      "text/plain": [
       "  filename                                                                                         \n",
       "1 /tmp/global2/nyoungblut/Georg_animal_gut_16s/georg//122.Wild.Boar_1_L001_R1_001.fastq.gz         \n",
       "2 /tmp/global2/nyoungblut/Georg_animal_gut_16s/georg//122.Wild.Boar_1_L001_R2_001.fastq.gz         \n",
       "3 /tmp/global2/nyoungblut/Georg_animal_gut_16s/georg//158.White.tailed.Eagle_2_L001_R1_001.fastq.gz\n",
       "  RunID Lane SampleID               Person        Project          Demux\n",
       "1 georg 1    122.Wild.Boar          NickYoungblut Georg_animal_gut yes  \n",
       "2 georg 1    122.Wild.Boar          NickYoungblut Georg_animal_gut yes  \n",
       "3 georg 1    158.White.tailed.Eagle NickYoungblut Georg_animal_gut yes  \n",
       "  SequencerID\n",
       "1 M01032     \n",
       "2 M01032     \n",
       "3 M01032     "
      ]
     },
     "metadata": {},
     "output_type": "display_data"
    }
   ],
   "source": [
    "manifest_f = manifest %>%\n",
    "    mutate(Lane = 1,\n",
    "           Person = 'NickYoungblut',\n",
    "           Project = 'Georg_animal_gut',\n",
    "           Demux = 'yes',\n",
    "           SequencerID = 'M01032') %>%\n",
    "    rename('SampleID' = sample.id) %>%\n",
    "    dplyr::select(filename, RunID, Lane, SampleID, Person, Project, Demux, SequencerID)\n",
    "           \n",
    "manifest_f %>% dfhead"
   ]
  },
  {
   "cell_type": "markdown",
   "metadata": {},
   "source": [
    "## Writing table"
   ]
  },
  {
   "cell_type": "code",
   "execution_count": 54,
   "metadata": {
    "ExecuteTime": {
     "end_time": "2018-10-16T09:23:51.887540Z",
     "start_time": "2018-10-16T09:23:54.149Z"
    }
   },
   "outputs": [
    {
     "name": "stdout",
     "output_type": "stream",
     "text": [
      "File written: /tmp/global2/nyoungblut/Georg_animal_gut_16s//localSRA_import.csv \n"
     ]
    }
   ],
   "source": [
    "out_file = file.path(work_dir, 'localSRA_import.csv')\n",
    "write.table(manifest_f, out_file, sep=',', quote=FALSE, row.names=FALSE)\n",
    "cat('File written:', out_file, '\\n')"
   ]
  },
  {
   "cell_type": "markdown",
   "metadata": {},
   "source": [
    "# Notes\n",
    "\n",
    "* Ilja Bezrukov submitted the reads to the local SRA on Oct 19\n",
    "  * RunIds\n",
    "    * \"Georg\" = 001\n",
    "    * \"Tony\" = 002\n",
    "  * No. of entries = 434\n",
    "  \n",
    "> Note: all \".\" in sampleIDs changed to \"_\""
   ]
  },
  {
   "cell_type": "markdown",
   "metadata": {},
   "source": [
    "# sessionInfo"
   ]
  },
  {
   "cell_type": "code",
   "execution_count": 51,
   "metadata": {
    "ExecuteTime": {
     "end_time": "2018-10-16T09:17:10.575396Z",
     "start_time": "2018-10-16T09:17:12.736Z"
    }
   },
   "outputs": [
    {
     "data": {
      "text/plain": [
       "R version 3.4.1 (2017-06-30)\n",
       "Platform: x86_64-pc-linux-gnu (64-bit)\n",
       "Running under: Ubuntu 18.04.1 LTS\n",
       "\n",
       "Matrix products: default\n",
       "BLAS: /ebio/abt3_projects/software/miniconda3_gt4.4/envs/py3_physeq/lib/R/lib/libRblas.so\n",
       "LAPACK: /ebio/abt3_projects/software/miniconda3_gt4.4/envs/py3_physeq/lib/R/lib/libRlapack.so\n",
       "\n",
       "locale:\n",
       " [1] LC_CTYPE=en_US.UTF-8       LC_NUMERIC=C              \n",
       " [3] LC_TIME=en_US.UTF-8        LC_COLLATE=en_US.UTF-8    \n",
       " [5] LC_MONETARY=en_US.UTF-8    LC_MESSAGES=en_US.UTF-8   \n",
       " [7] LC_PAPER=en_US.UTF-8       LC_NAME=C                 \n",
       " [9] LC_ADDRESS=C               LC_TELEPHONE=C            \n",
       "[11] LC_MEASUREMENT=en_US.UTF-8 LC_IDENTIFICATION=C       \n",
       "\n",
       "attached base packages:\n",
       "[1] stats     graphics  grDevices utils     datasets  methods   base     \n",
       "\n",
       "other attached packages:\n",
       "[1] phyloseq_1.22.3 bindrcpp_0.2.2  ggplot2_3.0.0   tidyr_0.8.1    \n",
       "[5] dplyr_0.7.6    \n",
       "\n",
       "loaded via a namespace (and not attached):\n",
       " [1] Rcpp_0.12.17        ape_5.1             lattice_0.20-34    \n",
       " [4] Biostrings_2.46.0   assertthat_0.2.0    digest_0.6.15      \n",
       " [7] foreach_1.4.4       IRdisplay_0.4.4     R6_2.2.2           \n",
       "[10] plyr_1.8.4          repr_0.15.0         stats4_3.4.1       \n",
       "[13] evaluate_0.10.1     pillar_1.2.2        zlibbioc_1.24.0    \n",
       "[16] rlang_0.2.1         lazyeval_0.2.1      uuid_0.1-2         \n",
       "[19] data.table_1.11.4   vegan_2.4-3         S4Vectors_0.16.0   \n",
       "[22] Matrix_1.2-14       splines_3.4.1       stringr_1.3.1      \n",
       "[25] igraph_1.2.1        munsell_0.5.0       compiler_3.4.1     \n",
       "[28] pkgconfig_2.0.1     BiocGenerics_0.24.0 base64enc_0.1-3    \n",
       "[31] multtest_2.34.0     mgcv_1.8-24         htmltools_0.3.6    \n",
       "[34] biomformat_1.6.0    tidyselect_0.2.4    tibble_1.4.2       \n",
       "[37] IRanges_2.12.0      codetools_0.2-15    permute_0.9-4      \n",
       "[40] crayon_1.3.4        withr_2.1.1         MASS_7.3-50        \n",
       "[43] grid_3.4.1          nlme_3.1-131        jsonlite_1.5       \n",
       "[46] gtable_0.2.0        magrittr_1.5        scales_0.5.0       \n",
       "[49] stringi_1.2.3       XVector_0.18.0      reshape2_1.4.3     \n",
       "[52] IRkernel_0.8.12     iterators_1.0.10    tools_3.4.1        \n",
       "[55] ade4_1.7-11         Biobase_2.38.0      glue_1.3.0         \n",
       "[58] purrr_0.2.4         parallel_3.4.1      survival_2.42-6    \n",
       "[61] colorspace_1.3-2    rhdf5_2.22.0        cluster_2.0.6      \n",
       "[64] pbdZMQ_0.3-2        bindr_0.1.1        "
      ]
     },
     "metadata": {},
     "output_type": "display_data"
    }
   ],
   "source": [
    "sessionInfo()"
   ]
  },
  {
   "cell_type": "code",
   "execution_count": 52,
   "metadata": {
    "ExecuteTime": {
     "end_time": "2018-10-16T09:17:21.471029Z",
     "start_time": "2018-10-16T09:17:18.054Z"
    }
   },
   "outputs": [
    {
     "name": "stdout",
     "output_type": "stream",
     "text": [
      "# packages in environment at /ebio/abt3_projects/software/miniconda3_gt4.4/envs/qiime2-2018.6:\n",
      "#\n",
      "# Name                    Version                   Build  Channel\n",
      "asn1crypto                0.24.0                     py_1    conda-forge\n",
      "backcall                  0.1.0                      py_0    conda-forge\n",
      "bibtexparser              1.0.1                      py_1    conda-forge\n",
      "bioconductor-biobase      2.38.0                 r3.4.1_0    bioconda\n",
      "bioconductor-biocgenerics 0.24.0                 r3.4.1_0    bioconda\n",
      "bioconductor-biocparallel 1.12.0                 r3.4.1_0    bioconda\n",
      "bioconductor-biostrings   2.46.0                 r3.4.1_0    bioconda\n",
      "bioconductor-dada2        1.6.0                  r3.4.1_0    bioconda\n",
      "bioconductor-delayedarray 0.4.1                  r3.4.1_0    bioconda\n",
      "bioconductor-genomeinfodb 1.14.0                 r3.4.1_0    bioconda\n",
      "bioconductor-genomeinfodbdata 1.0.0                  r3.4.1_1    bioconda\n",
      "bioconductor-genomicalignments 1.14.1                 r3.4.1_0    bioconda\n",
      "bioconductor-genomicranges 1.30.3                 r3.4.1_0    bioconda\n",
      "bioconductor-iranges      2.12.0                 r3.4.1_0    bioconda\n",
      "bioconductor-rsamtools    1.30.0                 r3.4.1_0    bioconda\n",
      "bioconductor-s4vectors    0.16.0                 r3.4.1_0    bioconda\n",
      "bioconductor-shortread    1.36.0                 r3.4.1_0    bioconda\n",
      "bioconductor-summarizedexperiment 1.8.0                  r3.4.1_0    bioconda\n",
      "bioconductor-xvector      0.18.0                 r3.4.1_0    bioconda\n",
      "bioconductor-zlibbioc     1.24.0                 r3.4.1_0    bioconda\n",
      "biom-format               2.1.6                    py35_8    qiime2\n",
      "blas                      1.1                    openblas    conda-forge\n",
      "blast                     2.6.0               boost1.64_2    bioconda\n",
      "bleach                    2.1.3                      py_0    conda-forge\n",
      "bokeh                     0.12.16                  py35_0    conda-forge\n",
      "boost                     1.64.0                   py35_4    conda-forge\n",
      "boost-cpp                 1.64.0                        1    conda-forge\n",
      "bz2file                   0.98                     py35_0  \n",
      "bzip2                     1.0.6                h470a237_2    conda-forge\n",
      "ca-certificates           2018.4.16                     0    conda-forge\n",
      "cachecontrol              0.12.4                     py_0    conda-forge\n",
      "cairo                     1.14.10                       0    conda-forge\n",
      "certifi                   2018.4.16                py35_0    conda-forge\n",
      "cffi                      1.11.5           py35h5e8e0c9_1    conda-forge\n",
      "chardet                   3.0.4                    py35_3    conda-forge\n",
      "click                     6.7                        py_1    conda-forge\n",
      "cryptography              2.2.1            py35hdffb7b8_1    conda-forge\n",
      "curl                      7.60.0                        0    conda-forge\n",
      "cutadapt                  1.16                     py35_2    bioconda\n",
      "cycler                    0.10.0                     py_1    conda-forge\n",
      "cython                    0.28.3           py35hfc679d8_0    conda-forge\n",
      "dbus                      1.13.0               h3a4f0e9_0    conda-forge\n",
      "deblur                    1.0.4                    py35_2    bioconda\n",
      "decorator                 4.3.0                      py_0    conda-forge\n",
      "emperor                   1.0.0beta16              py35_1    conda-forge\n",
      "entrypoints               0.2.3                    py35_1    conda-forge\n",
      "expat                     2.2.5                hfc679d8_1    conda-forge\n",
      "fastcluster               1.1.25           py35hf8a1672_0    conda-forge\n",
      "fasttree                  2.1.10               h470a237_2    bioconda\n",
      "fontconfig                2.12.6                        0    conda-forge\n",
      "freetype                  2.8.1                hfa320df_1    conda-forge\n",
      "future                    0.16.0                   py35_2    conda-forge\n",
      "gettext                   0.19.8.1                      0    conda-forge\n",
      "glib                      2.55.0               h464dc38_2    conda-forge\n",
      "gmp                       6.1.2                hfc679d8_0    conda-forge\n",
      "gneiss                    0.4.4            py27h1cf38a6_1    biocore\n",
      "graphite2                 1.3.11               hfc679d8_0    conda-forge\n",
      "gsl                       2.1                           2    conda-forge\n",
      "gst-plugins-base          1.8.0                         0    conda-forge\n",
      "gstreamer                 1.8.0                         1    conda-forge\n",
      "h5py                      2.7.0               np112py35_0    conda-forge\n",
      "harfbuzz                  1.7.6                         0    conda-forge\n",
      "hdf5                      1.8.17                       11    conda-forge\n",
      "html5lib                  1.0.1                      py_0    conda-forge\n",
      "icu                       58.2                 hfc679d8_0    conda-forge\n",
      "idna                      2.7                      py35_2    conda-forge\n",
      "ijson                     2.3                      py35_0    qiime2\n",
      "intel-openmp              2018.0.3                      0  \n",
      "ipykernel                 4.8.2                    py35_0    conda-forge\n",
      "ipython                   6.4.0                    py35_0    conda-forge\n",
      "ipython_genutils          0.2.0                      py_1    conda-forge\n",
      "ipywidgets                7.2.1                    py35_1    conda-forge\n",
      "jedi                      0.12.0                   py35_0    conda-forge\n",
      "jinja2                    2.10                       py_1    conda-forge\n",
      "jpeg                      9b                   h470a237_3    conda-forge\n",
      "jsonschema                2.6.0                    py35_1    conda-forge\n",
      "jupyter_client            5.2.3                      py_1    conda-forge\n",
      "jupyter_core              4.4.0                      py_0    conda-forge\n",
      "kiwisolver                1.0.1                    py35_1    conda-forge\n",
      "krb5                      1.14.6                        0    conda-forge\n",
      "libffi                    3.2.1                         3    conda-forge\n",
      "libgcc                    7.2.0                h69d50b8_2  \n",
      "libgcc-ng                 7.2.0                hdf63c60_3  \n",
      "libgfortran               3.0.0                         1  \n",
      "libgfortran-ng            7.2.0                hdf63c60_3  \n",
      "libiconv                  1.15                 h470a237_2    conda-forge\n",
      "libpng                    1.6.34               ha92aebf_1    conda-forge\n",
      "libsodium                 1.0.16                        0    conda-forge\n",
      "libssh2                   1.8.0                h5b517e9_2    conda-forge\n",
      "libstdcxx-ng              7.2.0                hdf63c60_3  \n",
      "libtiff                   4.0.9                he6b73bb_1    conda-forge\n",
      "libxcb                    1.13                 h470a237_2    conda-forge\n",
      "libxml2                   2.9.8                h422b904_2    conda-forge\n",
      "lockfile                  0.12.2                     py_1    conda-forge\n",
      "mafft                     7.310                         1    bioconda\n",
      "markupsafe                1.0                      py35_0    conda-forge\n",
      "matplotlib                2.2.2                    py35_1    conda-forge\n",
      "mistune                   0.8.3            py35h470a237_2    conda-forge\n",
      "mkl                       2018.0.3                      1  \n",
      "msgpack-python            0.5.6            py35h2d50403_2    conda-forge\n",
      "natsort                   5.3.2                      py_0    conda-forge\n",
      "nbconvert                 5.3.1                      py_1    conda-forge\n",
      "nbformat                  4.4.0                      py_1    conda-forge\n",
      "ncurses                   5.9                          10    conda-forge\n",
      "nose                      1.3.7                    py35_2    conda-forge\n",
      "notebook                  5.5.0                    py35_0    conda-forge\n",
      "numpy                     1.12.1          py35_blas_openblas_200  [blas_openblas]  conda-forge\n",
      "openblas                  0.2.19                        2    conda-forge\n",
      "openssl                   1.0.2o               h470a237_1    conda-forge\n",
      "packaging                 17.1                       py_0    conda-forge\n",
      "pandas                    0.23.1                   py35_0    conda-forge\n",
      "pandoc                    2.2.1                         0    conda-forge\n",
      "pandocfilters             1.4.2                      py_1    conda-forge\n",
      "pango                     1.40.14                       0    conda-forge\n",
      "parso                     0.2.1                      py_0    conda-forge\n",
      "patsy                     0.5.0                      py_1    conda-forge\n",
      "pcre                      8.39                          0    conda-forge\n",
      "pexpect                   4.6.0                    py35_0    conda-forge\n",
      "pickleshare               0.7.4                    py35_0    conda-forge\n",
      "pigz                      2.3.4                         0    conda-forge\n",
      "pip                       9.0.3                    py35_0    conda-forge\n",
      "pixman                    0.34.0                        2    conda-forge\n",
      "prompt_toolkit            1.0.15                   py35_0    conda-forge\n",
      "psutil                    5.4.6                    py35_0    conda-forge\n",
      "pthread-stubs             0.4                  h470a237_1    conda-forge\n",
      "ptyprocess                0.6.0                    py35_0    conda-forge\n",
      "pycparser                 2.18                       py_1    conda-forge\n",
      "pygments                  2.2.0                      py_1    conda-forge\n",
      "pyopenssl                 18.0.0                   py35_0    conda-forge\n",
      "pyparsing                 2.2.0                      py_1    conda-forge\n",
      "pyqt                      5.6.0            py35h8210e8a_6    conda-forge\n",
      "pysocks                   1.6.8                    py35_1    conda-forge\n",
      "python                    3.5.5                         1    conda-forge\n",
      "python-dateutil           2.7.3                      py_0    conda-forge\n",
      "pytz                      2018.4                     py_0    conda-forge\n",
      "pyyaml                    3.12                     py35_1    conda-forge\n",
      "pyzmq                     17.0.0           py35hae99301_5    conda-forge\n",
      "q2-alignment              2018.6.0                 py35_0    qiime2/label/r2018.6\n",
      "q2-composition            2018.6.0                 py35_0    qiime2/label/r2018.6\n",
      "q2-cutadapt               2018.6.0                 py35_0    qiime2/label/r2018.6\n",
      "q2-dada2                  2018.6.0                 py35_0    qiime2/label/r2018.6\n",
      "q2-deblur                 2018.6.0                 py35_0    qiime2/label/r2018.6\n",
      "q2-demux                  2018.6.0                 py35_0    qiime2/label/r2018.6\n",
      "q2-diversity              2018.6.0                 py35_0    qiime2/label/r2018.6\n",
      "q2-emperor                2018.6.0                 py35_0    qiime2/label/r2018.6\n",
      "q2-feature-classifier     2018.6.0                 py35_0    qiime2/label/r2018.6\n",
      "q2-feature-table          2018.6.0                 py35_0    qiime2/label/r2018.6\n",
      "q2-gneiss                 2018.6.0                 py35_0    qiime2/label/r2018.6\n",
      "q2-longitudinal           2018.6.0                 py35_0    qiime2/label/r2018.6\n",
      "q2-metadata               2018.6.0                 py35_0    qiime2/label/r2018.6\n",
      "q2-phylogeny              2018.6.0                 py35_0    qiime2/label/r2018.6\n",
      "q2-quality-control        2018.6.1                 py35_0    qiime2/label/r2018.6\n",
      "q2-quality-filter         2018.6.0                 py35_0    qiime2/label/r2018.6\n",
      "q2-sample-classifier      2018.6.0                 py35_0    qiime2/label/r2018.6\n",
      "q2-taxa                   2018.6.0                 py35_0    qiime2/label/r2018.6\n",
      "q2-types                  2018.6.0                 py35_0    qiime2/label/r2018.6\n",
      "q2-vsearch                2018.6.0                 py35_0    qiime2/label/r2018.6\n",
      "q2cli                     2018.6.0                 py35_0    qiime2/label/r2018.6\n",
      "q2templates               2018.6.0                 py35_0    qiime2/label/r2018.6\n",
      "qiime2                    2018.6.0                 py35_0    qiime2/label/r2018.6\n",
      "qt                        5.6.2                         7    conda-forge\n",
      "r-assertthat              0.2.0                  r3.4.1_0    conda-forge\n",
      "r-base                    3.4.1                         4    conda-forge\n",
      "r-bh                      1.66.0_1               r3.4.1_0    conda-forge\n",
      "r-bitops                  1.0_6            r341h470a237_1    conda-forge\n",
      "r-cli                     1.0.0                  r3.4.1_0    conda-forge\n",
      "r-colorspace              1.3_2            r341h470a237_1    conda-forge\n",
      "r-crayon                  1.3.4                  r3.4.1_0    conda-forge\n",
      "r-data.table              1.11.4           r341hc070d10_0    conda-forge\n",
      "r-dichromat               2.0_0                  r3.4.1_0    conda-forge\n",
      "r-digest                  0.6.15           r341h470a237_1    conda-forge\n",
      "r-futile.logger           1.4.3                  r3.4.1_0    conda-forge\n",
      "r-futile.options          1.0.0                  r3.4.1_0    conda-forge\n",
      "r-ggplot2                 2.2.1                  r3.4.1_0    conda-forge\n",
      "r-glue                    1.2.0                  r3.4.1_0    conda-forge\n",
      "r-gtable                  0.2.0                  r3.4.1_0    conda-forge\n",
      "r-hwriter                 1.3.2                  r3.4.1_0    conda-forge\n",
      "r-labeling                0.3                    r3.4.1_0    conda-forge\n",
      "r-lambda.r                1.2                    r3.4.1_0    conda-forge\n",
      "r-lattice                 0.20_34                r3.4.1_0    conda-forge\n",
      "r-latticeextra            0.6_28                 r3.4.1_0    conda-forge\n",
      "r-lazyeval                0.2.1            r341h470a237_1    conda-forge\n",
      "r-magrittr                1.5                    r3.4.1_0    conda-forge\n",
      "r-mass                    7.3_48                 r3.4.1_0    conda-forge\n",
      "r-matrix                  1.2_14           r341h470a237_1    conda-forge\n",
      "r-matrixstats             0.53.1           r341h470a237_1    conda-forge\n",
      "r-munsell                 0.5.0                    r341_0    conda-forge\n",
      "r-pillar                  1.2.1                  r3.4.1_0    conda-forge\n",
      "r-plyr                    1.8.4            r341hfc679d8_1    conda-forge\n",
      "r-r6                      2.2.2                  r3.4.1_0    conda-forge\n",
      "r-rcolorbrewer            1.1_2                  r3.4.1_0    conda-forge\n",
      "r-rcpp                    0.12.15                r3.4.1_0    conda-forge\n",
      "r-rcppparallel            4.4.0            r341hfc679d8_1    conda-forge\n",
      "r-rcurl                   1.95_4.8               r3.4.1_0    conda-forge\n",
      "r-reshape2                1.4.3            r341hfc679d8_1    conda-forge\n",
      "r-rlang                   0.2.1            r341h470a237_1    conda-forge\n",
      "r-scales                  0.5.0            r341hfc679d8_1    conda-forge\n",
      "r-snow                    0.4_2                  r3.4.1_0    conda-forge\n",
      "r-stringi                 1.1.7                  r3.4.1_1    conda-forge\n",
      "r-stringr                 1.3.0                  r3.4.1_0    conda-forge\n",
      "r-tibble                  1.4.2            r341h470a237_1    conda-forge\n",
      "r-utf8                    1.1.3            r341h470a237_1    conda-forge\n",
      "r-viridislite             0.3.0                  r3.4.1_0    conda-forge\n",
      "raxml                     8.2.10               h470a237_1    bioconda\n",
      "readline                  7.0                           0    conda-forge\n",
      "requests                  2.19.1                   py35_1    conda-forge\n",
      "scikit-bio                0.5.1                    py35_0    qiime2\n",
      "scikit-learn              0.19.1          py35_blas_openblas_200  [blas_openblas]  conda-forge\n",
      "scipy                     0.19.1          py35_blas_openblas_202  [blas_openblas]  conda-forge\n",
      "seaborn                   0.8.1                      py_1    conda-forge\n",
      "send2trash                1.5.0                      py_0    conda-forge\n",
      "setuptools                39.2.0                   py35_0    conda-forge\n",
      "simplegeneric             0.8.1                      py_1    conda-forge\n",
      "sip                       4.18                     py35_1    conda-forge\n",
      "six                       1.11.0                   py35_1    conda-forge\n",
      "sortmerna                 2.0                  he941832_3    bioconda\n",
      "sqlite                    3.20.1                        2    conda-forge\n",
      "statsmodels               0.9.0                    py35_0    conda-forge\n",
      "terminado                 0.8.1                    py35_0    conda-forge\n",
      "testpath                  0.3.1                    py35_0    conda-forge\n",
      "tk                        8.6.7                         0    conda-forge\n",
      "tornado                   5.0.2                    py35_0    conda-forge\n",
      "traitlets                 4.3.2                    py35_0    conda-forge\n",
      "tzlocal                   1.3                      py35_0    qiime2\n",
      "unifrac                   0.9.2            py35hae32d81_1    biocore\n",
      "urllib3                   1.23                     py35_1    conda-forge\n",
      "vsearch                   2.7.0                         1    bioconda\n",
      "wcwidth                   0.1.7                      py_1    conda-forge\n",
      "webencodings              0.5                      py35_0    conda-forge\n",
      "wget                      1.19.5               h1ad7b7a_0  \n",
      "wheel                     0.31.0                   py35_0    conda-forge\n",
      "widgetsnbextension        3.2.1                    py35_1    conda-forge\n",
      "xopen                     0.3.2                      py_1    bioconda\n",
      "xorg-libxau               1.0.8                h470a237_6    conda-forge\n",
      "xorg-libxdmcp             1.1.2                h470a237_7    conda-forge\n",
      "xz                        5.2.3                         0    conda-forge\n",
      "yaml                      0.1.7                h470a237_1    conda-forge\n",
      "zeromq                    4.2.5                hfc679d8_5    conda-forge\n",
      "zlib                      1.2.11               h470a237_3    conda-forge"
     ]
    }
   ],
   "source": [
    "condaInfo(conda_env)"
   ]
  },
  {
   "cell_type": "code",
   "execution_count": null,
   "metadata": {},
   "outputs": [],
   "source": []
  }
 ],
 "metadata": {
  "kernelspec": {
   "display_name": "R [conda env:py3_physeq]",
   "language": "R",
   "name": "conda-env-py3_physeq-r"
  },
  "language_info": {
   "codemirror_mode": "r",
   "file_extension": ".r",
   "mimetype": "text/x-r-source",
   "name": "R",
   "pygments_lexer": "r",
   "version": "3.4.1"
  },
  "toc": {
   "base_numbering": 1,
   "nav_menu": {},
   "number_sections": true,
   "sideBar": true,
   "skip_h1_title": false,
   "title_cell": "Table of Contents",
   "title_sidebar": "Contents",
   "toc_cell": true,
   "toc_position": {},
   "toc_section_display": true,
   "toc_window_display": false
  }
 },
 "nbformat": 4,
 "nbformat_minor": 2
}
